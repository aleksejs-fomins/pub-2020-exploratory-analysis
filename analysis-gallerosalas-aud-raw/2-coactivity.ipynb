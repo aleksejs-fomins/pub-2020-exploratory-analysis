{
 "cells": [
  {
   "cell_type": "code",
   "execution_count": null,
   "metadata": {},
   "outputs": [],
   "source": [
    "# Standard libraries\n",
    "import numpy as np\n",
    "import pandas as pd\n",
    "import matplotlib.pyplot as plt\n",
    "from ipywidgets import IntProgress\n",
    "from IPython.display import display\n",
    "\n",
    "# Append base directory\n",
    "import os,sys,inspect\n",
    "rootname = \"pub-2020-exploratory-analysis\"\n",
    "thispath = os.getcwd()\n",
    "# thispath = os.path.dirname(os.path.abspath(inspect.getfile(inspect.currentframe())))\n",
    "rootpath = os.path.join(thispath[:thispath.index(rootname)], rootname)\n",
    "sys.path.append(rootpath)\n",
    "print(\"Appended root directory\", rootpath)\n",
    "\n",
    "from mesostat.utils.qt_helper import gui_fnames, gui_fpath\n",
    "from mesostat.metric.metric import MetricCalculator\n",
    "from mesostat.utils.hdf5_io import DataStorage\n",
    "\n",
    "from lib.gallerosalas.data_fc_db_aud_raw import DataFCDatabase\n",
    "import lib.analysis.coactivity as coactivity\n",
    "from lib.common.visualization import merge_image_sequence_movie\n",
    "\n",
    "%load_ext autoreload\n",
    "%autoreload 2"
   ]
  },
  {
   "cell_type": "code",
   "execution_count": null,
   "metadata": {},
   "outputs": [],
   "source": [
    "params = {}\n",
    "# params['root_path_data']  = gui_fpath(\"Path to data collection\",  './')\n",
    "params['root_path_data'] = '/media/alyosha/Data/TE_data/yasirdata_aud_raw/'\n",
    "# params['root_path_data'] = '/home/alyosha/data/yasirdata_aud_raw/'\n",
    "# params['root_path_data'] = '/media/aleksejs/DataHDD/work/data/yasir/yasirdata_aud_raw'"
   ]
  },
  {
   "cell_type": "code",
   "execution_count": null,
   "metadata": {},
   "outputs": [],
   "source": [
    "dataDB = DataFCDatabase(params)"
   ]
  },
  {
   "cell_type": "code",
   "execution_count": null,
   "metadata": {},
   "outputs": [],
   "source": [
    "ds = DataStorage('gallerosalas_result_coactivity.h5')"
   ]
  },
  {
   "cell_type": "code",
   "execution_count": null,
   "metadata": {},
   "outputs": [],
   "source": [
    "mc = MetricCalculator(serial=True, verbose=False)"
   ]
  },
  {
   "cell_type": "code",
   "execution_count": null,
   "metadata": {},
   "outputs": [],
   "source": [
    "print('mice', dataDB.mice)\n",
    "print('nSessions', len(dataDB.sessions))\n",
    "print('datatypes', dataDB.get_data_types())\n",
    "print('nChannel', dataDB.get_nchannels('mou_5'))"
   ]
  },
  {
   "cell_type": "code",
   "execution_count": null,
   "metadata": {},
   "outputs": [],
   "source": [
    "from mesostat.utils.pandas_helper import pd_query, pd_is_one_row"
   ]
  },
  {
   "cell_type": "code",
   "execution_count": null,
   "metadata": {
    "scrolled": true
   },
   "outputs": [],
   "source": [
    "areas = sorted(set(dataDB.channelAreasDF['Area']))\n",
    "areaDict = {a : [] for a in areas}\n",
    "\n",
    "for iCh, chName in enumerate(dataDB.get_channel_labels()):\n",
    "    rez = pd_is_one_row(pd_query(dataDB.channelAreasDF, {'LOrig' : chName}))[1]\n",
    "    areaDict[rez['Area']] += [iCh]\n",
    "\n",
    "fig, ax = plt.subplots(figsize=(4,4))\n",
    "dataDB.plot_area_clusters(fig, ax, areaDict, haveLegend=True)"
   ]
  },
  {
   "cell_type": "markdown",
   "metadata": {},
   "source": [
    "# 1. Significance\n",
    "\n",
    "## 1.1. Correlation plots\n"
   ]
  },
  {
   "cell_type": "markdown",
   "metadata": {},
   "source": [
    "## 1.2 PCA exploration"
   ]
  },
  {
   "cell_type": "markdown",
   "metadata": {},
   "source": [
    "## 1.3. Highly uncorrelated channels"
   ]
  },
  {
   "cell_type": "code",
   "execution_count": null,
   "metadata": {},
   "outputs": [],
   "source": [
    "argSweepDict = {\n",
    "    'datatype':  ['bn_trial', 'bn_session'],\n",
    "    'trialType': ['None', 'Hit', 'CR', 'Miss', 'FA'],\n",
    "    'intervName': 'auto'\n",
    "}\n",
    "\n",
    "argSweepDictSubpre = {\n",
    "    'trialType': ['None', 'Hit', 'CR', 'Miss', 'FA'],\n",
    "    'intervName': 'auto'\n",
    "}"
   ]
  },
  {
   "cell_type": "code",
   "execution_count": null,
   "metadata": {},
   "outputs": [],
   "source": [
    "exclQueryLst = [\n",
    "    {'datatype' : 'bn_trial', 'intervName' : 'PRE'},  # Baseline normalized\n",
    "#     {'mousename' : 'mou_6', 'intervName' : 'REW'},    # No reward for this mouse\n",
    "]"
   ]
  },
  {
   "cell_type": "code",
   "execution_count": null,
   "metadata": {},
   "outputs": [],
   "source": [
    "argSweepDictMouse = {\n",
    "    'datatype' : ['bn_trial', 'bn_session'],\n",
    "    'intervName' : 'auto'\n",
    "}\n",
    "\n",
    "coactivity.compute_store_corr_mouse(dataDB, ds, dataDB.get_trial_type_names(),\n",
    "                                    skipExisting=False, exclQueryLst=exclQueryLst, **argSweepDictMouse)"
   ]
  },
  {
   "cell_type": "code",
   "execution_count": null,
   "metadata": {
    "scrolled": true
   },
   "outputs": [],
   "source": [
    "coactivity.plot_corr_mouse(dataDB, mc, 'corr', 'intervName', nDropPCA=None, dropChannels=[16, 26],\n",
    "                           haveBrain=True, haveMono=False, exclQueryLst=exclQueryLst, **argSweepDict)"
   ]
  },
  {
   "cell_type": "code",
   "execution_count": null,
   "metadata": {
    "scrolled": true
   },
   "outputs": [],
   "source": [
    "coactivity.plot_corr_mouse(dataDB, mc, 'corr', 'trialType', nDropPCA=None, dropChannels=[16, 26],\n",
    "                           haveBrain=True, haveMono=False, exclQueryLst=exclQueryLst, **argSweepDict)"
   ]
  },
  {
   "cell_type": "code",
   "execution_count": null,
   "metadata": {},
   "outputs": [],
   "source": [
    "coactivity.plot_corr_mousephase_subpre(dataDB, mc, 'corr', nDropPCA=None, dropChannels=[16, 26],\n",
    "                                       exclQueryLst=exclQueryLst, **argSweepDictSubpre)"
   ]
  },
  {
   "cell_type": "code",
   "execution_count": null,
   "metadata": {},
   "outputs": [],
   "source": [
    "coactivity.plot_corr_mousephase_submouse(dataDB, mc, 'corr', dropChannels=[16, 26],\n",
    "                                         exclQueryLst=exclQueryLst, **argSweepDict)"
   ]
  },
  {
   "cell_type": "markdown",
   "metadata": {},
   "source": [
    "**Drop first PCA and explore result**"
   ]
  },
  {
   "cell_type": "code",
   "execution_count": null,
   "metadata": {
    "scrolled": true
   },
   "outputs": [],
   "source": [
    "coactivity.plot_corr_mouse(dataDB, mc, 'corr', 'intervName', nDropPCA=1, dropChannels=[16, 26],\n",
    "                           haveBrain=True, haveMono=False, exclQueryLst=exclQueryLst, **argSweepDict)"
   ]
  },
  {
   "cell_type": "code",
   "execution_count": null,
   "metadata": {},
   "outputs": [],
   "source": [
    "coactivity.plot_corr_mouse(dataDB, mc, 'corr', 'trialType', nDropPCA=1, dropChannels=[16, 26],\n",
    "                           haveBrain=True, haveMono=False, exclQueryLst=exclQueryLst, **argSweepDict)"
   ]
  },
  {
   "cell_type": "code",
   "execution_count": null,
   "metadata": {},
   "outputs": [],
   "source": [
    "coactivity.plot_corr_mousephase_subpre(dataDB, mc, 'corr', nDropPCA=1, dropChannels=[16, 26],\n",
    "                                       exclQueryLst=exclQueryLst, **argSweepDictSubpre)"
   ]
  },
  {
   "cell_type": "code",
   "execution_count": null,
   "metadata": {},
   "outputs": [],
   "source": [
    "coactivity.plot_corr_mousephase_submouse(dataDB, mc, 'corr', dropChannels=[16, 26], nDropPCA=1,\n",
    "                                         exclQueryLst=exclQueryLst, **argSweepDict)"
   ]
  },
  {
   "cell_type": "markdown",
   "metadata": {},
   "source": [
    "## 1.4 Plot correlation movies"
   ]
  },
  {
   "cell_type": "code",
   "execution_count": null,
   "metadata": {
    "scrolled": true
   },
   "outputs": [],
   "source": [
    "coactivity.plot_corr_movie_mousetrialtype(dataDB, mc, 'corr', exclQueryLst=exclQueryLst,\n",
    "                                          haveDelay=True, trialType='auto',\n",
    "                                          datatype=['bn_trial', 'bn_session'])"
   ]
  },
  {
   "cell_type": "code",
   "execution_count": null,
   "metadata": {},
   "outputs": [],
   "source": [
    "merge_image_sequence_movie('corr_mouseTrialType_dropPCA_None_bn_trial_', '.png', 0, 160,\n",
    "                           trgPathName=None, deleteSrc=True)"
   ]
  },
  {
   "cell_type": "code",
   "execution_count": null,
   "metadata": {},
   "outputs": [],
   "source": [
    "merge_image_sequence_movie('corr_mouseTrialType_dropPCA_None_bn_session_', '.png', 0, 160,\n",
    "                           trgPathName=None, deleteSrc=True)"
   ]
  },
  {
   "cell_type": "code",
   "execution_count": null,
   "metadata": {
    "scrolled": true
   },
   "outputs": [],
   "source": [
    "coactivity.plot_corr_movie_mousetrialtype(dataDB, mc, 'corr', exclQueryLst=exclQueryLst,\n",
    "                                          haveDelay=True, nDropPCA=1, trialType='auto',\n",
    "                                          datatype=['bn_trial', 'bn_session'])"
   ]
  },
  {
   "cell_type": "code",
   "execution_count": null,
   "metadata": {},
   "outputs": [],
   "source": [
    "merge_image_sequence_movie('corr_mouseTrialType_dropPCA_1_bn_trial_', '.png', 0, 160,\n",
    "                           trgPathName=None, deleteSrc=True)"
   ]
  },
  {
   "cell_type": "code",
   "execution_count": null,
   "metadata": {},
   "outputs": [],
   "source": [
    "merge_image_sequence_movie('corr_mouseTrialType_dropPCA_1_bn_session_', '.png', 0, 160,\n",
    "                           trgPathName=None, deleteSrc=True)"
   ]
  },
  {
   "cell_type": "markdown",
   "metadata": {},
   "source": [
    "# 2. Consistency"
   ]
  },
  {
   "cell_type": "code",
   "execution_count": null,
   "metadata": {
    "scrolled": true
   },
   "outputs": [],
   "source": [
    "from mesostat.utils.pandas_helper import pd_append_row, pd_pivot, pd_is_one_row, pd_query, pd_first_row\n",
    "incr_row = lambda row, incr: {k+incr: v for k, v in dict(row).items()}\n",
    "merge_rows = lambda r1, r2: pd.Series({**incr_row(r1, '1'), **incr_row(r2, '2')})\n",
    "\n",
    "# Get data\n",
    "df = ds.list_dsets_pd()\n",
    "dfMouse = pd_query(df, {'name': 'corr_mouse'})\n",
    "\n",
    "dfMouse\n",
    "\n",
    "# Average out trials\n",
    "rezLst = []\n",
    "for idx, row in dfMouse.iterrows():\n",
    "    cc = ds.get_data(row['dset'])\n",
    "    rezLst += [cc.flatten()]\n",
    "\n",
    "# Compute CC, assemble outer product dict\n",
    "dfQuadDict = {'bn_session': pd.DataFrame(), 'bn_trial': pd.DataFrame()}\n",
    "\n",
    "for datatype in dfQuadDict.keys():\n",
    "    print(datatype)\n",
    "    dfDataType = pd_query(dfMouse, {'datatype': datatype})\n",
    "    \n",
    "    for i1, (idx1, row1) in enumerate(dfDataType.iterrows()):\n",
    "        print(i1)\n",
    "        for i2, (idx2, row2) in enumerate(dfDataType.iterrows()):\n",
    "            r1 = row1.drop(['name', 'datetime', 'shape', 'dset'])\n",
    "            r2 = row2.drop(['name', 'datetime', 'shape', 'dset'])\n",
    "            rnew = merge_rows(r1, r2)\n",
    "            rnew['value'] = np.corrcoef(rezLst[i1], rezLst[i2])[0, 1]\n",
    "\n",
    "            dfQuadDict[datatype] = dfQuadDict[datatype].append(rnew, ignore_index=True)"
   ]
  },
  {
   "cell_type": "code",
   "execution_count": null,
   "metadata": {},
   "outputs": [],
   "source": [
    "from mesostat.visualization.mpl_matrix import plot_df_2D_outer_product\n",
    "\n",
    "for datatype, dfThis in dfQuadDict.items():\n",
    "    fig, ax = plt.subplots()\n",
    "    plot_df_2D_outer_product(ax, pd_query(dfThis, {'mousename1': 'mou_5', 'mousename2': 'mou_5'}),\n",
    "                             ['intervName1', 'trialType1'],\n",
    "                             ['intervName2', 'trialType2'],\n",
    "                             'value',\n",
    "                             vmin=-1,\n",
    "                             vmax=1,\n",
    "                             orderDict = {'intervName1': dataDB.get_interval_names(),\n",
    "                                          'intervName2': dataDB.get_interval_names()}\n",
    "                            )\n",
    "    plt.savefig('coactivity_similarity_'+datatype+'.svg')\n",
    "    plt.show()"
   ]
  },
  {
   "cell_type": "markdown",
   "metadata": {},
   "source": [
    "## 2.1. PCA consistency over mice\n",
    "### 2.1.1. Angle-based consistency\n",
    "\n",
    "Tasks\n",
    "  * Explained variance by phase/session/mouse/trialType\n",
    "     * Do not separate phases, its meaningless. Compute PCA for all timesteps, then see proj differences for phases\n",
    "     * Implement HAC correction\n",
    "\n",
    "  * Global PCA shifts vs session\n",
    "\n",
    "Approaches:\n",
    "  * Eval PCA over all data, select strongest components, plot components as function of cofound\n",
    "  * Eval PCA for cofounds, compare PCA\n",
    "  \n",
    "**Plots**:\n",
    "* Cosine-squared matrix $C^2_{ij} = (R^{1}_{ik}R^{2}_{jk})^2$, where $R^l$ is the PCA-transform\n",
    "* Consistency metric $E = e^1_i e^2_j C^2_{ij}$, where $e^l$ are the eigenvalues\n",
    "\n",
    "**Problem**:\n",
    "The consistency metric $E$ has all necessary ingredients (angles, eigenvalues), but it is not mathematically clear that it behaves the desired way. Solid theory is required for this metric to be useful.\n",
    "\n",
    "**Alternative approach**:\n",
    "Try consistency metric $H(\\frac{C^2_{ij}}{N})$. Should be great at measuring the sparsity of basis coupling. The challenge is to include eigenvalue priority into this metric, since spread of weak eigenvalues is not as relevant as spread of strong ones."
   ]
  },
  {
   "cell_type": "code",
   "execution_count": null,
   "metadata": {},
   "outputs": [],
   "source": []
  },
  {
   "cell_type": "code",
   "execution_count": null,
   "metadata": {},
   "outputs": [],
   "source": []
  },
  {
   "cell_type": "code",
   "execution_count": null,
   "metadata": {},
   "outputs": [],
   "source": []
  },
  {
   "cell_type": "code",
   "execution_count": null,
   "metadata": {},
   "outputs": [],
   "source": []
  },
  {
   "cell_type": "code",
   "execution_count": null,
   "metadata": {
    "scrolled": true
   },
   "outputs": [],
   "source": [
    "for datatype in ['bn_session', 'bn_trial']:\n",
    "    coactivity.plot_pca_alignment_bymouse(dataDB, datatype=datatype, trialType=None, intervName='DEL')"
   ]
  },
  {
   "cell_type": "markdown",
   "metadata": {},
   "source": [
    "### 2.1.2. Eigenvalue-based consistency\n",
    "\n",
    "* Let $x_1$, $x_2$ be some datasets\n",
    "* Let $R_1$, $R_2$ be the corresponding PCA-transforms \n",
    "* Find total variances\n",
    "    - $V_1 = \\sum_i eig_i(x_1) = tr(cov(x_1)) = \\sum_i cov_{ii}(x_1)$\n",
    "    - $V_2 = \\sum_i eig_i(x_2) = tr(cov(x_2)) = \\sum_i cov_{ii}(x_2)$\n",
    "* Find explained variances\n",
    "    - $e_1 = eval(cov(x_1)) = diag(cov(R_1 x_1))$\n",
    "    - $e_2 = eval(cov(x_2)) = diag(cov(R_2 x_2))$\n",
    "* Find explained variances using wrong bases\n",
    "    - $e_{12} = diag(cov(R_2 x_1))$\n",
    "    - $e_{21} = diag(cov(R_1 x_2))$\n",
    "* Find representation errors in explained variance ratios\n",
    "    - $\\epsilon_1 = \\frac{\\sum_i |e^1_i - e^{12}_i|}{2 V_1}$\n",
    "    - $\\epsilon_2 = \\frac{\\sum_i |e^2_i - e^{21}_i|}{2 V_2}$\n",
    "\n",
    "\n",
    "\n",
    "* TODO: iter trialType=[hit, cr, all]\n",
    "* TODO: iter perf=[naive,expert,all]"
   ]
  },
  {
   "cell_type": "code",
   "execution_count": null,
   "metadata": {
    "scrolled": true
   },
   "outputs": [],
   "source": [
    "coactivity.plot_pca_consistency(dataDB)"
   ]
  },
  {
   "cell_type": "code",
   "execution_count": null,
   "metadata": {
    "scrolled": true
   },
   "outputs": [],
   "source": [
    "coactivity.plot_pca_consistency(dataDB, dropFirst=1)"
   ]
  },
  {
   "cell_type": "code",
   "execution_count": null,
   "metadata": {},
   "outputs": [],
   "source": []
  },
  {
   "cell_type": "markdown",
   "metadata": {},
   "source": [
    "## 2.2. PCA consistency over phases\n",
    "### 2.2.1 Angle-based consistency"
   ]
  },
  {
   "cell_type": "code",
   "execution_count": null,
   "metadata": {
    "scrolled": false
   },
   "outputs": [],
   "source": [
    "for datatype in ['bn_session', 'bn_trial']:\n",
    "    coactivity.plot_pca_alignment_byphase(dataDB, intervNames=['TEX', 'REW'], datatype=datatype, trialType=None)"
   ]
  },
  {
   "cell_type": "code",
   "execution_count": null,
   "metadata": {},
   "outputs": [],
   "source": []
  }
 ],
 "metadata": {
  "kernelspec": {
   "display_name": "py3ml",
   "language": "python",
   "name": "py3ml"
  },
  "language_info": {
   "codemirror_mode": {
    "name": "ipython",
    "version": 3
   },
   "file_extension": ".py",
   "mimetype": "text/x-python",
   "name": "python",
   "nbconvert_exporter": "python",
   "pygments_lexer": "ipython3",
   "version": "3.8.5"
  }
 },
 "nbformat": 4,
 "nbformat_minor": 4
}

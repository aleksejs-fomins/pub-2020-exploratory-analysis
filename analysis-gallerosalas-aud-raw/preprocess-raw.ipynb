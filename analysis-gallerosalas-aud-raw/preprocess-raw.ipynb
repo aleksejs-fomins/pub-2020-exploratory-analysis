{
 "cells": [
  {
   "cell_type": "code",
   "execution_count": null,
   "metadata": {},
   "outputs": [],
   "source": [
    "# Standard libraries\n",
    "import numpy as np\n",
    "import pandas as pd\n",
    "import matplotlib.pyplot as plt\n",
    "from ipywidgets import IntProgress\n",
    "from IPython.display import display\n",
    "\n",
    "# Append base directory\n",
    "import os,sys,inspect\n",
    "rootname = \"pub-2020-exploratory-analysis\"\n",
    "thispath = os.path.dirname(os.path.abspath(inspect.getfile(inspect.currentframe())))\n",
    "rootpath = os.path.join(thispath[:thispath.index(rootname)], rootname)\n",
    "sys.path.append(rootpath)\n",
    "print(\"Appended root directory\", rootpath)\n",
    "\n",
    "from mesostat.utils.qt_helper import gui_fpath\n",
    "\n",
    "from lib.gallerosalas.preprocess_aud_raw import preprocess\n",
    "import lib.gallerosalas.preprocess_common as prepcommon\n",
    "\n",
    "\n",
    "%load_ext autoreload\n",
    "%autoreload 2"
   ]
  },
  {
   "cell_type": "code",
   "execution_count": null,
   "metadata": {},
   "outputs": [],
   "source": [
    "FPS = 20  # Hz\n",
    "mice = ['mou_9', 'mou_6', 'mou_7', 'mou_5']\n",
    "extra_mice = ['mou_15_Ariel', 'mou_18_Ariel']"
   ]
  },
  {
   "cell_type": "code",
   "execution_count": null,
   "metadata": {},
   "outputs": [],
   "source": [
    "pathPrefix = '/run/user/1000/gvfs/smb-share:server=130.60.51.15,share=neurophysiology-storage2/'"
   ]
  },
  {
   "cell_type": "code",
   "execution_count": null,
   "metadata": {},
   "outputs": [],
   "source": [
    "pathAUD = pathPrefix + 'Gallero/DATA PER MICE (raw and preprocessed)/Widefield_imaging mice/'"
   ]
  },
  {
   "cell_type": "code",
   "execution_count": null,
   "metadata": {},
   "outputs": [],
   "source": [
    "# pathOverlay = gui_fpath('root path to overlay')\n",
    "# pathOverlay = pathPrefix + 'SDT-TDT/overlay'\n",
    "pathOverlay = pathPrefix + 'Gallero/Data_processed/SDT-TDT/overlay'"
   ]
  },
  {
   "cell_type": "code",
   "execution_count": null,
   "metadata": {},
   "outputs": [],
   "source": [
    "# pathPreferences = gui_fpath('root path to overlay')\n",
    "pathPreferences = '/media/alyosha/Data/TE_data/yasirdata_aud_raw'\n",
    "# pathPreferences = '/media/aleksejs/DataHDD/work/data/yasir/yasirdata_aud_raw'"
   ]
  },
  {
   "cell_type": "code",
   "execution_count": null,
   "metadata": {},
   "outputs": [],
   "source": [
    "pathDict = {\n",
    "    'AUD' : pathAUD,\n",
    "    'Overlay' : pathOverlay,\n",
    "    'Preferences' : pathPreferences\n",
    "}"
   ]
  },
  {
   "cell_type": "code",
   "execution_count": null,
   "metadata": {
    "scrolled": true
   },
   "outputs": [],
   "source": [
    "prep = preprocess(pathDict)"
   ]
  },
  {
   "cell_type": "markdown",
   "metadata": {},
   "source": [
    "# 1. Test transform on Ref files\n",
    "\n",
    "Not necessary because already done in texture"
   ]
  },
  {
   "cell_type": "markdown",
   "metadata": {},
   "source": [
    "# 2. Test transform on Video Files"
   ]
  },
  {
   "cell_type": "code",
   "execution_count": null,
   "metadata": {
    "scrolled": true
   },
   "outputs": [],
   "source": [
    "%%time\n",
    "for mousename in sorted(set(prep.dataPaths['mouse'])):\n",
    "    print(mousename)\n",
    "    prep.test_transform_vids(mousename)"
   ]
  },
  {
   "cell_type": "markdown",
   "metadata": {},
   "source": [
    "# 3. Pool-process video files"
   ]
  },
  {
   "cell_type": "code",
   "execution_count": null,
   "metadata": {
    "scrolled": true
   },
   "outputs": [],
   "source": [
    "prep.process_video_files('mou_5', skipExisting=False)"
   ]
  },
  {
   "cell_type": "markdown",
   "metadata": {},
   "source": [
    "## 3.1 Test if result is sensible"
   ]
  },
  {
   "cell_type": "code",
   "execution_count": null,
   "metadata": {},
   "outputs": [],
   "source": [
    "import h5py \n",
    "rez = []\n",
    "for idx, row in prep.dataPaths.iterrows():\n",
    "    session = row['day'] + '_' + row['session']\n",
    "    fpath = os.path.join(pathPreferences, row['mouse'] + '.h5')    \n",
    "    \n",
    "    with h5py.File(fpath, 'r') as f:        \n",
    "        dataRSP = np.copy(f['data'][session])\n",
    "        rez += [np.nanmean(dataRSP, axis=(0, 1))]\n",
    "        \n",
    "with pd.option_context('display.max_rows', None, 'display.max_columns', None):\n",
    "    display(pd.DataFrame(np.array(rez), columns=np.arange(27)))"
   ]
  },
  {
   "cell_type": "markdown",
   "metadata": {
    "collapsed": true
   },
   "source": [
    "# 4. Pull trial types and times\n",
    "\n",
    "* Also compute d'"
   ]
  },
  {
   "cell_type": "code",
   "execution_count": null,
   "metadata": {
    "scrolled": true
   },
   "outputs": [],
   "source": [
    "import h5py\n",
    "\n",
    "for mouseName in mice:\n",
    "    with h5py.File(os.path.join(pathPreferences, mouseName + '.h5'), 'a') as f:\n",
    "        for key in ['metadata', 'accuracy', 'dprime']:\n",
    "            if key in f.keys():\n",
    "                print(key)\n",
    "                del f[key]"
   ]
  },
  {
   "cell_type": "code",
   "execution_count": null,
   "metadata": {
    "scrolled": true
   },
   "outputs": [],
   "source": [
    "prep.process_metadata_files(pathPreferences)"
   ]
  },
  {
   "cell_type": "code",
   "execution_count": null,
   "metadata": {},
   "outputs": [],
   "source": [
    "for idx, row in prep.dataPaths.iterrows():\n",
    "    session = row['day'] + '_' + row['session']\n",
    "    fpath = os.path.join(pathPreferences, row['mouse'] + '.h5')\n",
    "    with h5py.File(fpath) as f:\n",
    "        print(fpath, f.keys())\n",
    "    \n",
    "    df = pd.read_hdf(fpath, '/metadata/' + session)\n",
    "    display(df.head())"
   ]
  },
  {
   "cell_type": "code",
   "execution_count": null,
   "metadata": {
    "scrolled": true
   },
   "outputs": [],
   "source": [
    "prep.extract_timestamps_video(pathPreferences)"
   ]
  },
  {
   "cell_type": "markdown",
   "metadata": {},
   "source": [
    "# 5. Cleanup bad sessions/trials"
   ]
  },
  {
   "cell_type": "code",
   "execution_count": null,
   "metadata": {},
   "outputs": [],
   "source": [
    "prep.metadata_add_selected_column(pathPreferences)"
   ]
  },
  {
   "cell_type": "code",
   "execution_count": null,
   "metadata": {},
   "outputs": [],
   "source": [
    "badIdxs = prep.get_trial_idxs_by_timestep_interval(pathPreferences, 'mou_5', '2016_12_07_session02', 43000, 100000)\n",
    "print(badIdxs)"
   ]
  },
  {
   "cell_type": "code",
   "execution_count": null,
   "metadata": {},
   "outputs": [],
   "source": [
    "prep.mark_trials_bad_by_index(pathPreferences, 'mou_5', '2016_12_07_session02', badIdxs)"
   ]
  },
  {
   "cell_type": "markdown",
   "metadata": {},
   "source": [
    "# 6. Baseline subtraction\n",
    "\n",
    "# 6.1 Plot stitched session, fit poly\n",
    "\n",
    "**TODO-This**:\n",
    "* Test if there are trials of mismatching length\n",
    "* Test if there are sessions with mismatching counts, process\n",
    "* \n",
    "\n",
    "**TODO**:\n",
    "* Purge mismatching trial counts for trialStruct vs vid:\n",
    "    - Go over data, delete last\n",
    "* Very high variance of individual consecutive trials. May render entire idea useless\n",
    "  - Explore more channels, mice, naive vs expert\n",
    "  - Compare if Yaro has the same problem\n",
    "  - Ask Yasir what he thinks about the origin of these fluctuations:\n",
    "      - Real?\n",
    "      - Motion artifacts?\n",
    "      - Sth else?"
   ]
  },
  {
   "cell_type": "code",
   "execution_count": null,
   "metadata": {},
   "outputs": [],
   "source": [
    "## Testing individual fitness\n",
    "%matplotlib notebook\n",
    "times, dataRSP = prep.get_pooled_data_rel_times(pathPreferences, 'mou_5', \"2016_12_08_session05\", onlySelected=True)\n",
    "prepcommon.example_poly_fit(times, dataRSP, ord=15, iCh=12)"
   ]
  },
  {
   "cell_type": "code",
   "execution_count": null,
   "metadata": {
    "scrolled": true
   },
   "outputs": [],
   "source": [
    "## Testing individual fitness\n",
    "%matplotlib inline\n",
    "for idx, row in prep.dataPaths.iterrows():\n",
    "    try: \n",
    "        session = row['day'] + '_' + row['session']\n",
    "#         session=\"2017_03_29_session01\"\n",
    "        print(row['mouse'], session)\n",
    "    \n",
    "        times, dataRSP = prep.get_pooled_data_rel_times(pathPreferences, row['mouse'], session)\n",
    "        \n",
    "        for iCh in range(dataRSP.shape[2]):\n",
    "            prepcommon.example_poly_fit(times, dataRSP, ord=15, iCh=iCh)\n",
    "            break\n",
    "    except:\n",
    "        print('-- Failed')\n",
    "    break"
   ]
  },
  {
   "cell_type": "markdown",
   "metadata": {},
   "source": [
    "# 6.2 Process all sessions"
   ]
  },
  {
   "cell_type": "code",
   "execution_count": null,
   "metadata": {},
   "outputs": [],
   "source": [
    "FPS = 20\n",
    "iMin = 0 * FPS\n",
    "iMax = 1 * FPS"
   ]
  },
  {
   "cell_type": "code",
   "execution_count": null,
   "metadata": {
    "scrolled": true
   },
   "outputs": [],
   "source": [
    "prep.baseline_subtraction_dff(pathPreferences, iMin, iMax, skipExist=True)"
   ]
  },
  {
   "cell_type": "code",
   "execution_count": null,
   "metadata": {
    "scrolled": true
   },
   "outputs": [],
   "source": [
    "prep.baseline_subtraction_poly(pathPreferences, ord=15, skipExist=True)"
   ]
  },
  {
   "cell_type": "markdown",
   "metadata": {},
   "source": [
    "# 7. Cleanup - session names\n",
    "\n",
    "All sessions should have unique labels for future analysis. Since this is not the case, we must append mousename as prefix to all sessions"
   ]
  },
  {
   "cell_type": "code",
   "execution_count": null,
   "metadata": {},
   "outputs": [],
   "source": [
    "import h5py"
   ]
  },
  {
   "cell_type": "code",
   "execution_count": null,
   "metadata": {},
   "outputs": [],
   "source": [
    "for mousename in mice:\n",
    "    pwdH5 = os.path.join(pathPreferences, mousename+'.h5')\n",
    "    with h5py.File(pwdH5, 'a') as f:\n",
    "        fields = set(f.keys())\n",
    "        for field in fields:\n",
    "            sessions = list(f[field].keys())\n",
    "            for session in sessions:\n",
    "                if mousename in session:\n",
    "                    print('--', field, session, 'already renamed')\n",
    "                else:\n",
    "                    print('--', field, session, 'renaming to', sNew)\n",
    "                    sNew = mousename + '_' + session\n",
    "                    \n",
    "                    if sNew in sessions:\n",
    "                        print('---', field, session, 'also deleting existing', sNew)\n",
    "                        del f[field][session]\n",
    "                        \n",
    "                    f.move('/metadata/'+session, '/metadata/'+sNew)"
   ]
  },
  {
   "cell_type": "markdown",
   "metadata": {
    "collapsed": true
   },
   "source": [
    "# 8. Sanity checking\n",
    "\n",
    "## 8.1 Is reward part of video\n",
    "\n",
    "Yes for all except MOU6"
   ]
  },
  {
   "cell_type": "code",
   "execution_count": null,
   "metadata": {},
   "outputs": [],
   "source": [
    "prep.check_reward_in_data(pathPreferences)"
   ]
  },
  {
   "cell_type": "markdown",
   "metadata": {
    "collapsed": true
   },
   "source": [
    "# 9. Behaviour pooling\n",
    "\n",
    "## 9.1 Movement Vectors"
   ]
  },
  {
   "cell_type": "code",
   "execution_count": null,
   "metadata": {},
   "outputs": [],
   "source": [
    "prep.dataPaths"
   ]
  },
  {
   "cell_type": "code",
   "execution_count": null,
   "metadata": {},
   "outputs": [],
   "source": [
    "sig2 = (0.05)**2 / 16\n",
    "prep.behaviour_tune_resample_kernel('mou_9', '2017_12_12_session04', sig2,\n",
    "                                    trialType='moveVect_CR', trialIdx=4, srcFreq=30.0, trgFreq=20.0)"
   ]
  },
  {
   "cell_type": "code",
   "execution_count": null,
   "metadata": {
    "scrolled": true
   },
   "outputs": [],
   "source": [
    "prep.read_parse_behaviour(pathPreferences, skipExisting=False)"
   ]
  },
  {
   "cell_type": "code",
   "execution_count": null,
   "metadata": {},
   "outputs": [],
   "source": []
  }
 ],
 "metadata": {
  "kernelspec": {
   "display_name": "py3ml",
   "language": "python",
   "name": "py3ml"
  },
  "language_info": {
   "codemirror_mode": {
    "name": "ipython",
    "version": 3
   },
   "file_extension": ".py",
   "mimetype": "text/x-python",
   "name": "python",
   "nbconvert_exporter": "python",
   "pygments_lexer": "ipython3",
   "version": "3.8.5"
  }
 },
 "nbformat": 4,
 "nbformat_minor": 4
}

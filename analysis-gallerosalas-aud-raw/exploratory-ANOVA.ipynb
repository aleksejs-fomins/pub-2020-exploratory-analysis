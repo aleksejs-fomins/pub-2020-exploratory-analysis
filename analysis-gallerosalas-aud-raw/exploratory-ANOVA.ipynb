{
 "cells": [
  {
   "cell_type": "code",
   "execution_count": null,
   "metadata": {},
   "outputs": [],
   "source": [
    "# Standard libraries\n",
    "import numpy as np\n",
    "import pandas as pd\n",
    "import matplotlib.pyplot as plt\n",
    "from ipywidgets import IntProgress\n",
    "from IPython.display import display\n",
    "\n",
    "import statsmodels.api as sm\n",
    "from statsmodels.formula.api import ols\n",
    "\n",
    "# Append base directory\n",
    "import os,sys,inspect\n",
    "rootname = \"pub-2020-exploratory-analysis\"\n",
    "thispath = os.path.dirname(os.path.abspath(inspect.getfile(inspect.currentframe())))\n",
    "rootpath = os.path.join(thispath[:thispath.index(rootname)], rootname)\n",
    "sys.path.append(rootpath)\n",
    "print(\"Appended root directory\", rootpath)\n",
    "\n",
    "from mesostat.utils.qt_helper import gui_fnames, gui_fpath\n",
    "from mesostat.metric.metric import MetricCalculator\n",
    "from mesostat.utils.hdf5_io import DataStorage\n",
    "from mesostat.stat.anova import as_pandas, as_pandas_lst, anova_homebrew\n",
    "\n",
    "from lib.gallerosalas.data_fc_db_aud_raw import DataFCDatabase\n",
    "from lib.analysis.metric_helper import metric_by_session\n",
    "\n",
    "%load_ext autoreload\n",
    "%autoreload 2"
   ]
  },
  {
   "cell_type": "code",
   "execution_count": null,
   "metadata": {
    "collapsed": true
   },
   "outputs": [],
   "source": [
    "params = {}\n",
    "# params['root_path_data']  = gui_fpath(\"Path to data collection\",  './')\n",
    "# params['root_path_data'] = '/media/alyosha/Data/TE_data/yasirdata_raw/'\n",
    "params['root_path_data'] = '/media/aleksejs/DataHDD/work/data/yasir/yasirdata_aud_raw'"
   ]
  },
  {
   "cell_type": "code",
   "execution_count": null,
   "metadata": {},
   "outputs": [],
   "source": [
    "dataDB = DataFCDatabase(params)"
   ]
  },
  {
   "cell_type": "code",
   "execution_count": null,
   "metadata": {
    "collapsed": true
   },
   "outputs": [],
   "source": [
    "ds = DataStorage('gallerosalas_result_individual_region.h5')"
   ]
  },
  {
   "cell_type": "code",
   "execution_count": null,
   "metadata": {
    "collapsed": true
   },
   "outputs": [],
   "source": [
    "mc = MetricCalculator(serial=True, verbose=False)"
   ]
  },
  {
   "cell_type": "code",
   "execution_count": null,
   "metadata": {},
   "outputs": [],
   "source": [
    "print('mice', dataDB.mice)\n",
    "print('nSessions', len(dataDB.sessions))\n",
    "print('datatypes', dataDB.get_data_types())\n",
    "print('nChannel', dataDB.get_nchannels('mou_5'))"
   ]
  },
  {
   "cell_type": "markdown",
   "metadata": {},
   "source": [
    "# Analysis of Variance\n",
    "\n",
    "* Across sessions\n",
    "    - Explained by performance\n",
    "* Across channels, trials, timesteps\n",
    "    - Explained by trial type\n",
    "\n",
    "Things to understand:\n",
    "* How to compare different rows?\n",
    "* What models make sense?\n",
    "* Try linear mixed models?"
   ]
  },
  {
   "cell_type": "code",
   "execution_count": null,
   "metadata": {
    "collapsed": true,
    "scrolled": true
   },
   "outputs": [],
   "source": [
    "#trialTypeNames = dataDB.get_trial_type_names()\n",
    "trialTypeNames = ['Hit', 'CR']\n",
    "intervNames = ['AUD', 'DEL', 'REW']\n",
    "\n",
    "dfDict = {}\n",
    "for mousename in dataDB.mice:\n",
    "    sessions = dataDB.get_sessions(mousename)\n",
    "    dfThis = pd.DataFrame()\n",
    "    for session in sessions:\n",
    "        for trialType in trialTypeNames:\n",
    "            dataTrialLst = []\n",
    "            for intervName in intervNames:\n",
    "                if (mousename != 'mou_6') or (intervName != 'REW'):                \n",
    "                    data = dataDB.get_neuro_data({'session' : session}, datatype='bn_session',\n",
    "                                                 trialType=trialType, intervName=intervName)[0]\n",
    "                    data = np.mean(data, axis=1)  # Average over timesteps\n",
    "                    dataDF = as_pandas(data, ('trials', 'channels'))\n",
    "                    dataDF['trialType'] = trialType\n",
    "                    dataDF['interval'] = intervName\n",
    "                    dataDF['session'] = session\n",
    "                    dfThis = dfThis.append(dataDF, ignore_index=True)\n",
    "            \n",
    "    dfThis = dfThis.drop('trials', axis=1)\n",
    "    dfDict[mousename] = dfThis"
   ]
  },
  {
   "cell_type": "code",
   "execution_count": null,
   "metadata": {
    "scrolled": true
   },
   "outputs": [],
   "source": [
    "model = '''\n",
    "    rez ~ C(channels)\n",
    "    + C(trialType)\n",
    "    + C(interval)\n",
    "    + C(session)\n",
    "    + C(trialType)*C(session)\n",
    "    + C(trialType)*C(channels)\n",
    "    + C(interval)*C(channels)\n",
    "'''\n",
    "\n",
    "# Session-wide\n",
    "for mousename in sorted(dataDB.mice):\n",
    "    print(mousename)\n",
    "    linModel = ols(model, data=dfDict[mousename]).fit()\n",
    "    display(sm.stats.anova_lm(linModel, typ=1))"
   ]
  },
  {
   "cell_type": "code",
   "execution_count": null,
   "metadata": {},
   "outputs": [],
   "source": [
    "# Across-sessions\n",
    "nMice = len(dataDB.mice)\n",
    "fig, ax = plt.subplots(ncols = nMice, figsize=(5*nMice, 5))\n",
    "\n",
    "model = '''\n",
    "rez ~ C(channels)+C(trialType)+C(interval)\n",
    "'''\n",
    "\n",
    "for iMouse, mousename in enumerate(sorted(dataDB.mice)):\n",
    "    dfThis = dfDict[mousename]\n",
    "    print(mousename)\n",
    "    sessions = dataDB.get_sessions(mousename)\n",
    "    plotData = []\n",
    "    for session in sessions:\n",
    "        dfSession = dfThis[dfThis['session'] == session]\n",
    "        linModel = ols(model, data=dfSession).fit()\n",
    "        rezStat = sm.stats.anova_lm(linModel, typ=1)\n",
    "        rezStat = rezStat.drop('Residual')\n",
    "        plotData += [np.array(rezStat['mean_sq'])]\n",
    "\n",
    "    names = ['channels', 'trialType', 'interval']\n",
    "    plotData = np.array(plotData).T\n",
    "\n",
    "\n",
    "    ax[iMouse].set_ylabel('mean_sq')\n",
    "    for name, x in zip(names, plotData):\n",
    "        ax[iMouse].semilogy(x, label=name)\n",
    "\n",
    "    ax[iMouse].set_xticks(np.arange(len(sessions)))\n",
    "    ax[iMouse].set_xticklabels(sessions, rotation=90)\n",
    "    ax[iMouse].legend()\n",
    "\n",
    "plt.savefig('pics/ANOVA_by_session.png')\n",
    "plt.show()\n",
    "plt.close()"
   ]
  },
  {
   "cell_type": "code",
   "execution_count": null,
   "metadata": {
    "collapsed": true
   },
   "outputs": [],
   "source": []
  },
  {
   "cell_type": "code",
   "execution_count": null,
   "metadata": {
    "collapsed": true
   },
   "outputs": [],
   "source": []
  }
 ],
 "metadata": {
  "kernelspec": {
   "display_name": "Py3QT5",
   "language": "python",
   "name": "py3qt5"
  },
  "language_info": {
   "codemirror_mode": {
    "name": "ipython",
    "version": 3
   },
   "file_extension": ".py",
   "mimetype": "text/x-python",
   "name": "python",
   "nbconvert_exporter": "python",
   "pygments_lexer": "ipython3",
   "version": "3.8.5"
  }
 },
 "nbformat": 4,
 "nbformat_minor": 2
}

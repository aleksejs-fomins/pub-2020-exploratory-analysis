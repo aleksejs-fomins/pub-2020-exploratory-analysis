{
 "cells": [
  {
   "cell_type": "code",
   "execution_count": 1,
   "metadata": {},
   "outputs": [
    {
     "name": "stdout",
     "output_type": "stream",
     "text": [
      "Appended root directory /home/alyosha/work/git/pub-2020-exploratory-analysis\n"
     ]
    }
   ],
   "source": [
    "# Standard libraries\n",
    "import numpy as np\n",
    "import pandas as pd\n",
    "import matplotlib.pyplot as plt\n",
    "from ipywidgets import IntProgress\n",
    "from IPython.display import display\n",
    "\n",
    "# Append base directory\n",
    "import os,sys,inspect\n",
    "rootname = \"pub-2020-exploratory-analysis\"\n",
    "# thispath = os.path.dirname(os.path.abspath(inspect.getfile(inspect.currentframe())))\n",
    "thispath = os.getcwd()\n",
    "rootpath = os.path.join(thispath[:thispath.index(rootname)], rootname)\n",
    "sys.path.append(rootpath)\n",
    "print(\"Appended root directory\", rootpath)\n",
    "\n",
    "from mesostat.metric.metric import MetricCalculator\n",
    "from mesostat.utils.qt_helper import gui_fname, gui_fnames, gui_fpath\n",
    "from mesostat.utils.hdf5_io import DataStorage\n",
    "from mesostat.utils.pandas_helper import pd_query\n",
    "\n",
    "from lib.gallerosalas.data_fc_db_aud_raw import DataFCDatabase\n",
    "from lib.common.visualization import merge_image_sequence_movie\n",
    "import lib.analysis.triplet_analysis.mousewise as mousewise\n",
    "import lib.analysis.triplet_analysis.calc_reader_mousewise as calc_reader\n",
    "\n",
    "%load_ext autoreload\n",
    "%autoreload 2"
   ]
  },
  {
   "cell_type": "code",
   "execution_count": 2,
   "metadata": {},
   "outputs": [],
   "source": [
    "params = {}\n",
    "# params['root_path_data']  = gui_fpath(\"Path to data collection\",  './')\n",
    "params['root_path_data'] = '/media/alyosha/Data/TE_data/yasirdata_aud_raw/'\n",
    "# params['root_path_data'] = '/home/alyosha/data/yasirdata_aud_raw/'\n",
    "# params['root_path_data'] = '/media/aleksejs/DataHDD/work/data/yasir/yasirdata_aud_raw'"
   ]
  },
  {
   "cell_type": "code",
   "execution_count": 3,
   "metadata": {},
   "outputs": [
    {
     "name": "stdout",
     "output_type": "stream",
     "text": [
      "Reading channel label file\n",
      "Reading channel area file\n",
      "Reading allen brain map\n",
      "Reading session structure\n",
      "Searching for data files\n",
      "Found mice ['mou_5', 'mou_6', 'mou_7', 'mou_9']\n"
     ]
    }
   ],
   "source": [
    "dataDB = DataFCDatabase(params)"
   ]
  },
  {
   "cell_type": "code",
   "execution_count": 4,
   "metadata": {},
   "outputs": [],
   "source": [
    "dataDB.calc_shortest_distances()"
   ]
  },
  {
   "cell_type": "code",
   "execution_count": 5,
   "metadata": {},
   "outputs": [
    {
     "name": "stdout",
     "output_type": "stream",
     "text": [
      "mice {'mou_9', 'mou_6', 'mou_7', 'mou_5'}\n",
      "nSessions 4\n",
      "datatypes ['raw', 'bn_session', 'bn_trial']\n",
      "nChannel 27\n"
     ]
    }
   ],
   "source": [
    "print('mice', dataDB.mice)\n",
    "print('nSessions', len(dataDB.sessions))\n",
    "print('datatypes', dataDB.get_data_types())\n",
    "print('nChannel', dataDB.get_nchannels('mou_5'))"
   ]
  },
  {
   "cell_type": "markdown",
   "metadata": {},
   "source": [
    "## All - Distribution - Nosession"
   ]
  },
  {
   "cell_type": "code",
   "execution_count": null,
   "metadata": {},
   "outputs": [],
   "source": [
    "prefixPath = '/media/alyosha/Data/TE_data/calculations/pr2/yasir-aud/'\n",
    "\n",
    "pwdH5data = prefixPath + 'pr2_gallerosalas_multimouse_data.h5'\n",
    "pwdH5rand = prefixPath + 'pr2_gallerosalas_multimouse_rand.h5'\n",
    "# pwdH5data = prefixPath + 'pid_gallerosalas_multimouse_nbin_2_data.h5'\n",
    "# pwdH5rand = prefixPath + 'pid_gallerosalas_multimouse_nbin_2_rand.h5'"
   ]
  },
  {
   "cell_type": "code",
   "execution_count": null,
   "metadata": {},
   "outputs": [],
   "source": [
    "intervNames = dataDB.get_interval_names()\n",
    "#trialTypes = ['Hit', 'CR', 'Miss', 'FA']\n",
    "trialTypes = ['Hit', 'CR']"
   ]
  },
  {
   "cell_type": "code",
   "execution_count": null,
   "metadata": {},
   "outputs": [],
   "source": [
    "dfSummary = calc_reader.summary_df(pwdH5data)\n",
    "dfSummaryDataSizes = calc_reader.summary_update_data_sizes(dfSummary, dataDB)"
   ]
  },
  {
   "cell_type": "code",
   "execution_count": null,
   "metadata": {},
   "outputs": [],
   "source": [
    "dfSummaryRand = calc_reader.summary_df(pwdH5rand)"
   ]
  },
  {
   "cell_type": "markdown",
   "metadata": {},
   "source": [
    "### 1. Global Significance Testing\n",
    "\n",
    "1. For all sweep get data size\n",
    "2. Inside test, generate AdversaryDist for each data size, save as file\n",
    "3. Load file as dict, provide as argument to test\n",
    "4. In test, produce dataframe: Sweep -> (frac>Shuffle, pValSuffle, frac>Conserv, pValConserv)\n",
    "5. Plot table"
   ]
  },
  {
   "cell_type": "code",
   "execution_count": null,
   "metadata": {},
   "outputs": [],
   "source": [
    "pwdAdversarial = '/media/alyosha/Data/TE_data/pr2_rand_dist.h5'"
   ]
  },
  {
   "cell_type": "code",
   "execution_count": null,
   "metadata": {},
   "outputs": [],
   "source": [
    "dictAdversarial = calc_reader.read_adversarial_distr_file(pwdAdversarial)"
   ]
  },
  {
   "cell_type": "code",
   "execution_count": null,
   "metadata": {},
   "outputs": [],
   "source": [
    "rezTestShuffle = mousewise.plot_violin_test(pwdH5data, pwdH5rand, dfSummary, dfSummaryRand, thrBig=0.01)"
   ]
  },
  {
   "cell_type": "code",
   "execution_count": null,
   "metadata": {
    "scrolled": true
   },
   "outputs": [],
   "source": [
    "rezTestAdversarial = mousewise.plot_violin_test_adversarial(pwdH5data, dictAdversarial, dfSummaryDataSizes, thrBig=0.01)"
   ]
  },
  {
   "cell_type": "code",
   "execution_count": null,
   "metadata": {},
   "outputs": [],
   "source": [
    "from mesostat.visualization.mpl_matrix import plot_df_2D_outer_product"
   ]
  },
  {
   "cell_type": "code",
   "execution_count": null,
   "metadata": {},
   "outputs": [],
   "source": [
    "def inf_update(df, key, val):\n",
    "    df.loc[df[key] == np.inf, key] = val\n",
    "    df.loc[df[key] == -np.inf, key] = val\n",
    "    return df\n",
    "\n",
    "rezTestShuffle = inf_update(rezTestShuffle, '-log10(pval)', 1000)\n",
    "rezTestAdversarial = inf_update(rezTestAdversarial, '-log10(pval)', 1000)\n",
    "\n",
    "# Plot significance\n",
    "print('Shuffle-Sign')\n",
    "fig, ax = plt.subplots(ncols=3, figsize=(12,4), tight_layout=True)\n",
    "for iPid, pidType in enumerate(['red', 'unique', 'syn']):\n",
    "    dfQuery = pd_query(rezTestShuffle, {'atom': pidType})\n",
    "    plot_df_2D_outer_product(ax[iPid], dfQuery, ['datatype', 'mousename'], ['trialType', 'intervName'],\n",
    "                             '-log10(pval)', vmin=0, vmax=20, orderDict={'intervName': ['PRE', 'AUD', 'DEL', 'REW']})\n",
    "    \n",
    "plt.savefig('pr2_aud_neglogpval_shuffle_outer2d.svg')\n",
    "plt.show()\n",
    "\n",
    "\n",
    "# Plot significance\n",
    "print('Adv-Sign')\n",
    "fig, ax = plt.subplots(ncols=3, figsize=(12,4), tight_layout=True)\n",
    "for iPid, pidType in enumerate(['red', 'unique']):\n",
    "    dfQuery = pd_query(rezTestAdversarial, {'atom': pidType})\n",
    "    plot_df_2D_outer_product(ax[iPid], dfQuery, ['datatype', 'mousename'], ['trialType', 'intervName'],\n",
    "                             '-log10(pval)', vmin=0, vmax=20, orderDict={'intervName': ['PRE', 'AUD', 'DEL', 'REW']})\n",
    "    \n",
    "plt.savefig('pr2_aud_neglogpval_adversarial_outer2d.svg')\n",
    "plt.show()"
   ]
  },
  {
   "cell_type": "code",
   "execution_count": null,
   "metadata": {},
   "outputs": [],
   "source": [
    "print('Shuffle-Sign')\n",
    "fig, ax = plt.subplots(ncols=3, figsize=(12,4), tight_layout=True)\n",
    "for iPid, pidType in enumerate(['red', 'unique', 'syn']):\n",
    "    dfQuery = pd_query(rezTestShuffle, {'atom': pidType})\n",
    "    plot_df_2D_outer_product(ax[iPid], dfQuery, ['datatype', 'mousename'], ['trialType', 'intervName'],\n",
    "                             'fracSign', vmin=0, orderDict={'intervName': ['PRE', 'AUD', 'DEL', 'REW']})\n",
    "    \n",
    "plt.savefig('pr2_aud_significant_shuffle_outer2d.svg')\n",
    "plt.show()\n",
    "\n",
    "\n",
    "print('Adv-Sign')\n",
    "fig, ax = plt.subplots(ncols=3, figsize=(12,4), tight_layout=True)\n",
    "for iPid, pidType in enumerate(['red', 'unique']):\n",
    "    dfQuery = pd_query(rezTestAdversarial, {'atom': pidType})\n",
    "    plot_df_2D_outer_product(ax[iPid], dfQuery, ['datatype', 'mousename'], ['trialType', 'intervName'],\n",
    "                             'fracSign', vmin=0, orderDict={'intervName': ['PRE', 'AUD', 'DEL', 'REW']})\n",
    "    \n",
    "plt.savefig('pr2_aud_significant_adversarial_outer2d.svg')\n",
    "plt.show()\n",
    "\n",
    "\n",
    "print('Shuffle-Big')\n",
    "fig, ax = plt.subplots(ncols=3, figsize=(12,4), tight_layout=True)\n",
    "for iPid, pidType in enumerate(['red', 'unique', 'syn']):\n",
    "    dfQuery = pd_query(rezTestShuffle, {'atom': pidType})\n",
    "    plot_df_2D_outer_product(ax[iPid], dfQuery, ['datatype', 'mousename'], ['trialType', 'intervName'],\n",
    "                             'fracBig', vmin=0, orderDict={'intervName': ['PRE', 'AUD', 'DEL', 'REW']})\n",
    "    \n",
    "plt.savefig('pr2_aud_big_outer2d.svg')\n",
    "plt.show()"
   ]
  },
  {
   "cell_type": "code",
   "execution_count": null,
   "metadata": {},
   "outputs": [],
   "source": []
  },
  {
   "cell_type": "code",
   "execution_count": null,
   "metadata": {},
   "outputs": [],
   "source": [
    "dfTop1Dmean = mousewise.plot_top_singlets_bymouse_outer2D(dataDB, pwdH5data, dfSummary, 'syn',\n",
    "                                                          func=np.nanmean, dropna=True, magThr=0.02)"
   ]
  },
  {
   "cell_type": "code",
   "execution_count": null,
   "metadata": {},
   "outputs": [],
   "source": [
    "dfTop1Dmax = mousewise.plot_top_singlets_bymouse_outer2D(dataDB, pwdH5data, dfSummary, 'syn',\n",
    "                                                          func=np.nanmax, dropna=True, magThr=0.02)"
   ]
  },
  {
   "cell_type": "code",
   "execution_count": null,
   "metadata": {},
   "outputs": [],
   "source": [
    "fig, ax = plt.subplots(ncols=2, figsize=(20, 10), tight_layout=True)\n",
    "\n",
    "for i, datatype in enumerate(['bn_trial', 'bn_session']):\n",
    "    dfQuery = pd_query(dfTop1Dmean, {'datatype': datatype})\n",
    "    dfQuery = dfQuery[dfQuery['trialType'] != 'None']\n",
    "    ax[i].set_title(datatype)\n",
    "    plot_df_2D_outer_product(ax[i], dfQuery, ['label'], ['datatype', 'mousename', 'intervName', 'trialType'],\n",
    "                             'syn', vmin=0, orderDict={'intervName': ['PRE', 'TEX', 'DEL', 'REW']}, \n",
    "                             dropEmpty=True)\n",
    "    \n",
    "#plt.savefig('pid_tex_big_outer2d.svg')\n",
    "plt.show()"
   ]
  },
  {
   "cell_type": "code",
   "execution_count": null,
   "metadata": {},
   "outputs": [],
   "source": [
    "fig, ax = plt.subplots(ncols=2, figsize=(20, 10), tight_layout=True)\n",
    "\n",
    "for i, datatype in enumerate(['bn_trial', 'bn_session']):\n",
    "    dfQuery = pd_query(dfTop1Dmax, {'datatype': datatype})\n",
    "    dfQuery = dfQuery[dfQuery['trialType'] != 'None']\n",
    "    ax[i].set_title(datatype)\n",
    "    plot_df_2D_outer_product(ax[i], dfQuery, ['label'], ['datatype', 'mousename', 'intervName', 'trialType'],\n",
    "                             'syn', vmin=0, orderDict={'intervName': ['PRE', 'TEX', 'DEL', 'REW']}, \n",
    "                             dropEmpty=True)\n",
    "    \n",
    "# plt.savefig('pid_tex_big_outer2d.svg')\n",
    "plt.show()"
   ]
  },
  {
   "cell_type": "code",
   "execution_count": null,
   "metadata": {},
   "outputs": [],
   "source": []
  },
  {
   "cell_type": "code",
   "execution_count": null,
   "metadata": {},
   "outputs": [],
   "source": []
  },
  {
   "cell_type": "code",
   "execution_count": null,
   "metadata": {},
   "outputs": [],
   "source": [
    "dfSelectedTriplets = mousewise.plot_filter_top_triplets_bymouse(dataDB, pwdH5data, dfSummary,\n",
    "                                                                nTop=30, thrBig=0.01, nConsistent=4)"
   ]
  },
  {
   "cell_type": "code",
   "execution_count": null,
   "metadata": {},
   "outputs": [],
   "source": [
    "fig, ax = plt.subplots(ncols=2, figsize=(20, 10), tight_layout=True)\n",
    "\n",
    "for i, datatype in enumerate(['bn_trial', 'bn_session']):\n",
    "    ax[i].set_title(datatype)\n",
    "    plot_df_2D_outer_product(ax[i], dfSelectedTriplets[datatype], ['label'],\n",
    "                             ['mousename', 'intervName', 'trialType'],\n",
    "                             'syn', vmin=0, vmax=0.1, orderDict={'intervName': ['PRE', 'AUD', 'DEL', 'REW']}, \n",
    "                             dropEmpty=True)\n",
    "    \n",
    "plt.savefig('pr2_aud_big_triplets_outer2d.svg')\n",
    "plt.show()"
   ]
  },
  {
   "cell_type": "code",
   "execution_count": null,
   "metadata": {},
   "outputs": [],
   "source": [
    "def plot_triplet_clusters(fig, ax, dataDB, labelsS1, labelsS2, labelsTrg):\n",
    "    labelsCanon = list(dataDB.map_channel_labels_canon().values())\n",
    "    \n",
    "    clusterDict = {\n",
    "        'source1': [labelsCanon.index(l) for l in labelsS1],\n",
    "        'source2': [labelsCanon.index(l) for l in labelsS2],\n",
    "        'target': [labelsCanon.index(l) for l in labelsTrg],\n",
    "    }\n",
    "    \n",
    "    dataDB.plot_area_clusters(fig, ax, clusterDict, haveLegend=True)"
   ]
  },
  {
   "cell_type": "code",
   "execution_count": null,
   "metadata": {},
   "outputs": [],
   "source": [
    "clusterDictDict = {\n",
    "    'bn_trial': {\n",
    "        'rez1':  [['MOp', 'MOs', 'SSp-ll'], ['RSPd', 'VISpm'], ['TEa', 'AUDp', 'AUDpo']],\n",
    "        'rez2':  [['SSp-n'], ['SSp-m'], ['VISa', 'SSp-tr']],\n",
    "        'rez3':  [['VISpl', 'VISpor'], ['SSp-tr'], ['SSp-m']],\n",
    "    },\n",
    "    'bn_session': {\n",
    "        'rez1':  [['SSp-ll', 'SSp-tr', 'SSp-ul'], ['VISam'], ['VISli']],\n",
    "        'rez2':  [['SSp-m', 'SSp-n'], ['VISpl'], ['AUDp', 'SSp-ll', 'SSp-tr', 'VISa', 'VISam']],\n",
    "        'rez3':  [['SSs'], ['MOs', 'VISpl'], ['VISam', 'SSp-tr']],\n",
    "        'rez4':  [['TEa', 'VISli', 'VISpor'], ['VISl', 'VISpl'], ['SSp-ll']],\n",
    "        'rez5':  [['VISa'], ['SSp-ll', 'SSp-tr'], ['SSp-m', 'SSp-n']],\n",
    "        'rez6':  [['VISpl'], ['MOs'], ['SSp-tr', 'VISa',  'VISam']]\n",
    "    }\n",
    "}"
   ]
  },
  {
   "cell_type": "code",
   "execution_count": null,
   "metadata": {
    "scrolled": false
   },
   "outputs": [],
   "source": [
    "labelsCanon = list(dataDB.map_channel_labels_canon().values())\n",
    "\n",
    "_triplet_to_string = lambda s1,s2,t: str(tuple([s1,s2,t])).replace(\"'\", \"\")\n",
    "\n",
    "for datatype, clusterDict in clusterDictDict.items():\n",
    "    for tripletKey, (s1Lst, s2Lst, trgLst) in clusterDict.items():\n",
    "        print(datatype, s1Lst, s2Lst, trgLst)\n",
    "\n",
    "        dfTot = pd.DataFrame()\n",
    "        groupLst = sorted(list(set(dfSummary.columns) - {'key', 'label', 'syn'}))\n",
    "        for key, dataCond in dfSelectedTriplets[datatype].groupby(groupLst):\n",
    "            dfSub = pd.DataFrame()\n",
    "            for s1 in s1Lst:\n",
    "                for s2 in s2Lst:\n",
    "                    for t in trgLst:\n",
    "                        dfThis = pd_query(dataCond, {'label': _triplet_to_string(s1,s2,t)})\n",
    "                        if len(dfThis) > 0:\n",
    "                            dfSub = dfSub.append(dfThis)\n",
    "\n",
    "    #         print('--', key, len(dfSub))\n",
    "\n",
    "            assert len(dfSub) > 0\n",
    "\n",
    "\n",
    "\n",
    "            rezTmp = np.mean(dfSub['syn'])\n",
    "            dfRow = pd.DataFrame(dict(zip(groupLst, key)), index=[0])\n",
    "            dfRow['syn'] = rezTmp\n",
    "            dfTot = dfTot.append(dfRow)\n",
    "\n",
    "        fig, ax = plt.subplots(ncols=2, figsize=(8,4))\n",
    "        plot_triplet_clusters(fig, ax[0], dataDB, s1Lst, s2Lst, trgLst)\n",
    "        plot_df_2D_outer_product(ax[1], dfTot, ['mousename'],\n",
    "                             ['intervName', 'trialType'],\n",
    "                             'syn', vmin=0, vmax=0.06, orderDict={'intervName': ['PRE', 'AUD', 'DEL', 'REW']}, \n",
    "                             dropEmpty=True)\n",
    "\n",
    "        plt.savefig('large_triplet_brainplot_aud_'+datatype + '_' + tripletKey + '.svg')\n",
    "        plt.show()"
   ]
  },
  {
   "cell_type": "code",
   "execution_count": null,
   "metadata": {},
   "outputs": [],
   "source": []
  }
 ],
 "metadata": {
  "kernelspec": {
   "display_name": "py3ml",
   "language": "python",
   "name": "py3ml"
  },
  "language_info": {
   "codemirror_mode": {
    "name": "ipython",
    "version": 3
   },
   "file_extension": ".py",
   "mimetype": "text/x-python",
   "name": "python",
   "nbconvert_exporter": "python",
   "pygments_lexer": "ipython3",
   "version": "3.8.5"
  }
 },
 "nbformat": 4,
 "nbformat_minor": 4
}

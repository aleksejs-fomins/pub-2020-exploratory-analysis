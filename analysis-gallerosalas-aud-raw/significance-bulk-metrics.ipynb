{
 "cells": [
  {
   "cell_type": "code",
   "execution_count": 2,
   "metadata": {},
   "outputs": [
    {
     "name": "stdout",
     "output_type": "stream",
     "text": [
      "Appended root directory /home/alyosha/work/pub-2020-exploratory-analysis\n"
     ]
    }
   ],
   "source": [
    "# Standard libraries\n",
    "import numpy as np\n",
    "import pandas as pd\n",
    "import matplotlib.pyplot as plt\n",
    "from ipywidgets import IntProgress\n",
    "from IPython.display import display\n",
    "from scipy.stats import mannwhitneyu, wilcoxon\n",
    "\n",
    "# Append base directory\n",
    "import os,sys,inspect\n",
    "rootname = \"pub-2020-exploratory-analysis\"\n",
    "thispath = os.getcwd()\n",
    "#thispath = os.path.dirname(os.path.abspath(inspect.getfile(inspect.currentframe())))\n",
    "rootpath = os.path.join(thispath[:thispath.index(rootname)], rootname)\n",
    "sys.path.append(rootpath)\n",
    "print(\"Appended root directory\", rootpath)\n",
    "\n",
    "from mesostat.utils.qt_helper import gui_fnames, gui_fpath\n",
    "from mesostat.metric.metric import MetricCalculator\n",
    "from mesostat.utils.hdf5_io import DataStorage\n",
    "\n",
    "from lib.gallerosalas.data_fc_db_aud_raw import DataFCDatabase\n",
    "import lib.analysis.bulk_metrics as bulk_metrics\n",
    "\n",
    "%load_ext autoreload\n",
    "%autoreload 2"
   ]
  },
  {
   "cell_type": "code",
   "execution_count": 7,
   "metadata": {},
   "outputs": [],
   "source": [
    "params = {}\n",
    "# params['root_path_data']  = gui_fpath(\"Path to data collection\",  './')\n",
    "params['root_path_data'] = '/home/alyosha/data/yasirdata_aud_raw/'\n",
    "# params['root_path_data'] = '/media/alyosha/Data/TE_data/yasirdata_aud_raw/'\n",
    "# params['root_path_data'] = '/media/aleksejs/DataHDD/work/data/yasir/yasirdata_aud_raw'"
   ]
  },
  {
   "cell_type": "code",
   "execution_count": 8,
   "metadata": {},
   "outputs": [
    {
     "name": "stdout",
     "output_type": "stream",
     "text": [
      "Reading channel label file\n",
      "Reading channel area file\n",
      "Reading allen brain map\n",
      "Reading task structure\n",
      "Reading session structure\n",
      "Searching for data files\n",
      "Found mice ['mou_5', 'mou_9', 'mou_7', 'mou_6']\n"
     ]
    }
   ],
   "source": [
    "dataDB = DataFCDatabase(params)"
   ]
  },
  {
   "cell_type": "code",
   "execution_count": 9,
   "metadata": {},
   "outputs": [],
   "source": [
    "ds = DataStorage('gallerosalas_bulk_metrics.h5')"
   ]
  },
  {
   "cell_type": "code",
   "execution_count": 10,
   "metadata": {},
   "outputs": [],
   "source": [
    "mc = MetricCalculator(serial=True, verbose=False)"
   ]
  },
  {
   "cell_type": "code",
   "execution_count": 11,
   "metadata": {},
   "outputs": [
    {
     "name": "stdout",
     "output_type": "stream",
     "text": [
      "mice {'mou_7', 'mou_5', 'mou_9', 'mou_6'}\n",
      "nSessions 4\n",
      "datatypes ['raw', 'bn_session', 'bn_trial']\n",
      "nChannel 27\n"
     ]
    }
   ],
   "source": [
    "print('mice', dataDB.mice)\n",
    "print('nSessions', len(dataDB.sessions))\n",
    "print('datatypes', dataDB.get_data_types())\n",
    "print('nChannel', dataDB.get_nchannels('mou_5'))"
   ]
  },
  {
   "cell_type": "code",
   "execution_count": 12,
   "metadata": {},
   "outputs": [],
   "source": [
    "dataDB.calc_shortest_distances()"
   ]
  },
  {
   "cell_type": "markdown",
   "metadata": {},
   "source": [
    "# Bulk Metrics"
   ]
  },
  {
   "cell_type": "code",
   "execution_count": 13,
   "metadata": {},
   "outputs": [],
   "source": [
    "intervNames = [\"PRE\", \"AUD\", \"DEL\", \"REW\", \"AVG\"]"
   ]
  },
  {
   "cell_type": "code",
   "execution_count": 14,
   "metadata": {},
   "outputs": [],
   "source": [
    "exclQueryLst = [\n",
    "    {'datatype' : 'bn_trial', 'intervName' : 'PRE'},  # Baseline normalized\n",
    "    #{'mousename' : 'mou_6', 'intervName' : 'REW'},    # No reward for this mouse\n",
    "    #{'mousename' : 'mou_6', 'intervName' : 'AVG'},    # Makes no sense to compare: no reward and longer delay\n",
    "]"
   ]
  },
  {
   "cell_type": "markdown",
   "metadata": {},
   "source": [
    "## 1. Mean\n",
    "### 1.1. Mean vs time"
   ]
  },
  {
   "cell_type": "code",
   "execution_count": null,
   "metadata": {
    "scrolled": true
   },
   "outputs": [],
   "source": [
    "bulk_metrics.metric_mouse_bulk(dataDB, mc, ds, 'mean', 's', 'time', verbose=False, minTrials=10,\n",
    "                               intervNames=intervNames, skipExisting=True,\n",
    "                               trialTypeNames='auto', perfNames=None, exclQueryLst=exclQueryLst)"
   ]
  },
  {
   "cell_type": "code",
   "execution_count": null,
   "metadata": {
    "scrolled": true
   },
   "outputs": [],
   "source": [
    "bulk_metrics.plot_metric_bulk(ds, 'mean', 'time', verbose=False, xFunc=lambda m, l: dataDB.get_times(l))"
   ]
  },
  {
   "cell_type": "markdown",
   "metadata": {},
   "source": [
    "### 1.2. Mean vs session"
   ]
  },
  {
   "cell_type": "code",
   "execution_count": 15,
   "metadata": {
    "scrolled": true
   },
   "outputs": [
    {
     "data": {
      "application/vnd.jupyter.widget-view+json": {
       "model_id": "5c74b65c42ef4eb8bd874d01e8738580",
       "version_major": 2,
       "version_minor": 0
      },
      "text/plain": [
       "IntProgress(value=0, description='session', max=280)"
      ]
     },
     "metadata": {},
     "output_type": "display_data"
    },
    {
     "data": {
      "application/vnd.jupyter.widget-view+json": {
       "model_id": "2d7fd9c43f5346319ae08bfe30a361dd",
       "version_major": 2,
       "version_minor": 0
      },
      "text/plain": [
       "IntProgress(value=0, description='mou_7', max=36)"
      ]
     },
     "metadata": {},
     "output_type": "display_data"
    },
    {
     "data": {
      "application/vnd.jupyter.widget-view+json": {
       "model_id": "677f6257879e4f1cb71a27086edeb914",
       "version_major": 2,
       "version_minor": 0
      },
      "text/plain": [
       "IntProgress(value=0, description='mou_7', max=36)"
      ]
     },
     "metadata": {},
     "output_type": "display_data"
    },
    {
     "data": {
      "application/vnd.jupyter.widget-view+json": {
       "model_id": "3178b7d3171f4db18c8f3606339cf3c0",
       "version_major": 2,
       "version_minor": 0
      },
      "text/plain": [
       "IntProgress(value=0, description='mou_7', max=36)"
      ]
     },
     "metadata": {},
     "output_type": "display_data"
    },
    {
     "data": {
      "application/vnd.jupyter.widget-view+json": {
       "model_id": "6b17eba1557547b79935133f5f669fa1",
       "version_major": 2,
       "version_minor": 0
      },
      "text/plain": [
       "IntProgress(value=0, description='mou_7', max=36)"
      ]
     },
     "metadata": {},
     "output_type": "display_data"
    },
    {
     "data": {
      "application/vnd.jupyter.widget-view+json": {
       "model_id": "fd88c9175df647cc9822fee7fca0f2f2",
       "version_major": 2,
       "version_minor": 0
      },
      "text/plain": [
       "IntProgress(value=0, description='mou_7', max=36)"
      ]
     },
     "metadata": {},
     "output_type": "display_data"
    },
    {
     "data": {
      "application/vnd.jupyter.widget-view+json": {
       "model_id": "99b3d8d7d86c497189595f4486a649ae",
       "version_major": 2,
       "version_minor": 0
      },
      "text/plain": [
       "IntProgress(value=0, description='mou_7', max=36)"
      ]
     },
     "metadata": {},
     "output_type": "display_data"
    },
    {
     "name": "stdout",
     "output_type": "stream",
     "text": [
      "Warning: skipping session with too few trials 9\n",
      "Warning: skipping session with too few trials 6\n",
      "Warning: skipping session with too few trials 9\n"
     ]
    },
    {
     "data": {
      "application/vnd.jupyter.widget-view+json": {
       "model_id": "d7e506e76ae2425996bb6a678852b474",
       "version_major": 2,
       "version_minor": 0
      },
      "text/plain": [
       "IntProgress(value=0, description='mou_7', max=36)"
      ]
     },
     "metadata": {},
     "output_type": "display_data"
    },
    {
     "name": "stdout",
     "output_type": "stream",
     "text": [
      "Warning: skipping session with too few trials 9\n",
      "Warning: skipping session with too few trials 6\n",
      "Warning: skipping session with too few trials 9\n"
     ]
    },
    {
     "data": {
      "application/vnd.jupyter.widget-view+json": {
       "model_id": "7668d6ca0dbe4b3c9b3edebe2502ccec",
       "version_major": 2,
       "version_minor": 0
      },
      "text/plain": [
       "IntProgress(value=0, description='mou_7', max=36)"
      ]
     },
     "metadata": {},
     "output_type": "display_data"
    },
    {
     "name": "stdout",
     "output_type": "stream",
     "text": [
      "Warning: skipping session with too few trials 9\n",
      "Warning: skipping session with too few trials 6\n",
      "Warning: skipping session with too few trials 9\n"
     ]
    },
    {
     "data": {
      "application/vnd.jupyter.widget-view+json": {
       "model_id": "3dc83e38865744628e83c38154dd93b6",
       "version_major": 2,
       "version_minor": 0
      },
      "text/plain": [
       "IntProgress(value=0, description='mou_7', max=36)"
      ]
     },
     "metadata": {},
     "output_type": "display_data"
    },
    {
     "name": "stdout",
     "output_type": "stream",
     "text": [
      "Warning: skipping session with too few trials 9\n",
      "Warning: skipping session with too few trials 6\n",
      "Warning: skipping session with too few trials 9\n"
     ]
    },
    {
     "data": {
      "application/vnd.jupyter.widget-view+json": {
       "model_id": "41c6d5f27de64369b75d7950de71b07e",
       "version_major": 2,
       "version_minor": 0
      },
      "text/plain": [
       "IntProgress(value=0, description='mou_7', max=36)"
      ]
     },
     "metadata": {},
     "output_type": "display_data"
    },
    {
     "name": "stdout",
     "output_type": "stream",
     "text": [
      "Warning: skipping session with too few trials 9\n",
      "Warning: skipping session with too few trials 6\n",
      "Warning: skipping session with too few trials 9\n"
     ]
    },
    {
     "name": "stderr",
     "output_type": "stream",
     "text": [
      "/home/alyosha/work/mesostat-dev/mesostat/utils/signals/filter.py:11: RuntimeWarning: Mean of empty slice\n",
      "  mu = np.nanmean(x, axis=axis).reshape(shapeNew)\n",
      "/home/alyosha/.conda/envs/py38idtxl/lib/python3.8/site-packages/numpy/lib/nanfunctions.py:1670: RuntimeWarning: Degrees of freedom <= 0 for slice.\n",
      "  var = nanvar(a, axis=axis, dtype=dtype, out=out, ddof=ddof,\n"
     ]
    },
    {
     "data": {
      "application/vnd.jupyter.widget-view+json": {
       "model_id": "f36cb048d43e4f178607305ac996b7a2",
       "version_major": 2,
       "version_minor": 0
      },
      "text/plain": [
       "IntProgress(value=0, description='mou_7', max=36)"
      ]
     },
     "metadata": {},
     "output_type": "display_data"
    },
    {
     "name": "stdout",
     "output_type": "stream",
     "text": [
      "Warning: skipping session with too few trials 5\n",
      "Warning: skipping session with too few trials 0\n",
      "Warning: skipping session with too few trials 0\n",
      "Warning: skipping session with too few trials 1\n",
      "Warning: skipping session with too few trials 0\n",
      "Warning: skipping session with too few trials 4\n",
      "Warning: skipping session with too few trials 2\n",
      "Warning: skipping session with too few trials 7\n",
      "Warning: skipping session with too few trials 1\n",
      "Warning: skipping session with too few trials 8\n",
      "Warning: skipping session with too few trials 5\n",
      "Warning: skipping session with too few trials 7\n",
      "Warning: skipping session with too few trials 8\n",
      "Warning: skipping session with too few trials 9\n",
      "Warning: skipping session with too few trials 2\n",
      "Warning: skipping session with too few trials 2\n",
      "Warning: skipping session with too few trials 4\n",
      "Warning: skipping session with too few trials 9\n",
      "Warning: skipping session with too few trials 0\n",
      "Warning: skipping session with too few trials 4\n",
      "Warning: skipping session with too few trials 2\n",
      "Warning: skipping session with too few trials 8\n",
      "Warning: skipping session with too few trials 3\n",
      "Warning: skipping session with too few trials 4\n",
      "Warning: skipping session with too few trials 7\n",
      "Warning: skipping session with too few trials 7\n",
      "Warning: skipping session with too few trials 6\n",
      "Warning: skipping session with too few trials 2\n",
      "Warning: skipping session with too few trials 2\n",
      "Warning: skipping session with too few trials 8\n"
     ]
    },
    {
     "data": {
      "application/vnd.jupyter.widget-view+json": {
       "model_id": "f1afee4da0894f2bbe65467a36304f52",
       "version_major": 2,
       "version_minor": 0
      },
      "text/plain": [
       "IntProgress(value=0, description='mou_7', max=36)"
      ]
     },
     "metadata": {},
     "output_type": "display_data"
    },
    {
     "name": "stdout",
     "output_type": "stream",
     "text": [
      "Warning: skipping session with too few trials 5\n",
      "Warning: skipping session with too few trials 0\n",
      "Warning: skipping session with too few trials 0\n",
      "Warning: skipping session with too few trials 1\n",
      "Warning: skipping session with too few trials 0\n",
      "Warning: skipping session with too few trials 4\n",
      "Warning: skipping session with too few trials 2\n",
      "Warning: skipping session with too few trials 7\n",
      "Warning: skipping session with too few trials 1\n",
      "Warning: skipping session with too few trials 8\n",
      "Warning: skipping session with too few trials 5\n",
      "Warning: skipping session with too few trials 7\n",
      "Warning: skipping session with too few trials 8\n",
      "Warning: skipping session with too few trials 9\n",
      "Warning: skipping session with too few trials 2\n",
      "Warning: skipping session with too few trials 2\n",
      "Warning: skipping session with too few trials 4\n",
      "Warning: skipping session with too few trials 9\n",
      "Warning: skipping session with too few trials 0\n",
      "Warning: skipping session with too few trials 4\n",
      "Warning: skipping session with too few trials 2\n",
      "Warning: skipping session with too few trials 8\n",
      "Warning: skipping session with too few trials 3\n",
      "Warning: skipping session with too few trials 4\n",
      "Warning: skipping session with too few trials 7\n",
      "Warning: skipping session with too few trials 7\n",
      "Warning: skipping session with too few trials 6\n",
      "Warning: skipping session with too few trials 2\n",
      "Warning: skipping session with too few trials 2\n",
      "Warning: skipping session with too few trials 8\n"
     ]
    },
    {
     "data": {
      "application/vnd.jupyter.widget-view+json": {
       "model_id": "4740171d3f8a41b0ae83fdfd8860cc19",
       "version_major": 2,
       "version_minor": 0
      },
      "text/plain": [
       "IntProgress(value=0, description='mou_7', max=36)"
      ]
     },
     "metadata": {},
     "output_type": "display_data"
    },
    {
     "name": "stdout",
     "output_type": "stream",
     "text": [
      "Warning: skipping session with too few trials 5\n",
      "Warning: skipping session with too few trials 0\n",
      "Warning: skipping session with too few trials 0\n",
      "Warning: skipping session with too few trials 1\n",
      "Warning: skipping session with too few trials 0\n",
      "Warning: skipping session with too few trials 4\n",
      "Warning: skipping session with too few trials 2\n",
      "Warning: skipping session with too few trials 7\n",
      "Warning: skipping session with too few trials 1\n",
      "Warning: skipping session with too few trials 8\n",
      "Warning: skipping session with too few trials 5\n",
      "Warning: skipping session with too few trials 7\n",
      "Warning: skipping session with too few trials 8\n",
      "Warning: skipping session with too few trials 9\n",
      "Warning: skipping session with too few trials 2\n",
      "Warning: skipping session with too few trials 2\n",
      "Warning: skipping session with too few trials 4\n",
      "Warning: skipping session with too few trials 9\n",
      "Warning: skipping session with too few trials 0\n",
      "Warning: skipping session with too few trials 4\n",
      "Warning: skipping session with too few trials 2\n",
      "Warning: skipping session with too few trials 8\n",
      "Warning: skipping session with too few trials 3\n",
      "Warning: skipping session with too few trials 4\n",
      "Warning: skipping session with too few trials 7\n",
      "Warning: skipping session with too few trials 7\n",
      "Warning: skipping session with too few trials 6\n",
      "Warning: skipping session with too few trials 2\n",
      "Warning: skipping session with too few trials 2\n",
      "Warning: skipping session with too few trials 8\n"
     ]
    },
    {
     "data": {
      "application/vnd.jupyter.widget-view+json": {
       "model_id": "215ca686f1d94b518f4db60e5fe2c2e6",
       "version_major": 2,
       "version_minor": 0
      },
      "text/plain": [
       "IntProgress(value=0, description='mou_7', max=36)"
      ]
     },
     "metadata": {},
     "output_type": "display_data"
    },
    {
     "name": "stdout",
     "output_type": "stream",
     "text": [
      "Warning: skipping session with too few trials 5\n",
      "Warning: skipping session with too few trials 0\n",
      "Warning: skipping session with too few trials 0\n",
      "Warning: skipping session with too few trials 1\n",
      "Warning: skipping session with too few trials 0\n",
      "Warning: skipping session with too few trials 4\n",
      "Warning: skipping session with too few trials 2\n",
      "Warning: skipping session with too few trials 7\n",
      "Warning: skipping session with too few trials 1\n",
      "Warning: skipping session with too few trials 8\n",
      "Warning: skipping session with too few trials 5\n",
      "Warning: skipping session with too few trials 7\n",
      "Warning: skipping session with too few trials 8\n",
      "Warning: skipping session with too few trials 9\n",
      "Warning: skipping session with too few trials 2\n",
      "Warning: skipping session with too few trials 2\n",
      "Warning: skipping session with too few trials 4\n",
      "Warning: skipping session with too few trials 9\n",
      "Warning: skipping session with too few trials 0\n",
      "Warning: skipping session with too few trials 4\n",
      "Warning: skipping session with too few trials 2\n",
      "Warning: skipping session with too few trials 8\n",
      "Warning: skipping session with too few trials 3\n",
      "Warning: skipping session with too few trials 4\n",
      "Warning: skipping session with too few trials 7\n",
      "Warning: skipping session with too few trials 7\n",
      "Warning: skipping session with too few trials 6\n",
      "Warning: skipping session with too few trials 2\n",
      "Warning: skipping session with too few trials 2\n",
      "Warning: skipping session with too few trials 8\n"
     ]
    },
    {
     "data": {
      "application/vnd.jupyter.widget-view+json": {
       "model_id": "23d2460ed6da416481bd7eed75be62ff",
       "version_major": 2,
       "version_minor": 0
      },
      "text/plain": [
       "IntProgress(value=0, description='mou_7', max=36)"
      ]
     },
     "metadata": {},
     "output_type": "display_data"
    },
    {
     "name": "stdout",
     "output_type": "stream",
     "text": [
      "Warning: skipping session with too few trials 5\n",
      "Warning: skipping session with too few trials 0\n",
      "Warning: skipping session with too few trials 0\n",
      "Warning: skipping session with too few trials 1\n",
      "Warning: skipping session with too few trials 0\n",
      "Warning: skipping session with too few trials 4\n",
      "Warning: skipping session with too few trials 2\n",
      "Warning: skipping session with too few trials 7\n",
      "Warning: skipping session with too few trials 1\n",
      "Warning: skipping session with too few trials 8\n",
      "Warning: skipping session with too few trials 5\n",
      "Warning: skipping session with too few trials 7\n",
      "Warning: skipping session with too few trials 8\n",
      "Warning: skipping session with too few trials 9\n",
      "Warning: skipping session with too few trials 2\n",
      "Warning: skipping session with too few trials 2\n",
      "Warning: skipping session with too few trials 4\n",
      "Warning: skipping session with too few trials 9\n",
      "Warning: skipping session with too few trials 0\n",
      "Warning: skipping session with too few trials 4\n",
      "Warning: skipping session with too few trials 2\n",
      "Warning: skipping session with too few trials 8\n",
      "Warning: skipping session with too few trials 3\n",
      "Warning: skipping session with too few trials 4\n",
      "Warning: skipping session with too few trials 7\n",
      "Warning: skipping session with too few trials 7\n",
      "Warning: skipping session with too few trials 6\n",
      "Warning: skipping session with too few trials 2\n",
      "Warning: skipping session with too few trials 2\n",
      "Warning: skipping session with too few trials 8\n"
     ]
    },
    {
     "data": {
      "application/vnd.jupyter.widget-view+json": {
       "model_id": "1ee70b41e38c4c2d985bcbb4acd62cf9",
       "version_major": 2,
       "version_minor": 0
      },
      "text/plain": [
       "IntProgress(value=0, description='mou_7', max=36)"
      ]
     },
     "metadata": {},
     "output_type": "display_data"
    },
    {
     "data": {
      "application/vnd.jupyter.widget-view+json": {
       "model_id": "8ba1ee6a85c84fa9b9b0b49d07249672",
       "version_major": 2,
       "version_minor": 0
      },
      "text/plain": [
       "IntProgress(value=0, description='mou_7', max=36)"
      ]
     },
     "metadata": {},
     "output_type": "display_data"
    },
    {
     "data": {
      "application/vnd.jupyter.widget-view+json": {
       "model_id": "ea35214f626a4b5798575e59cedf9465",
       "version_major": 2,
       "version_minor": 0
      },
      "text/plain": [
       "IntProgress(value=0, description='mou_7', max=36)"
      ]
     },
     "metadata": {},
     "output_type": "display_data"
    },
    {
     "data": {
      "application/vnd.jupyter.widget-view+json": {
       "model_id": "6cc6f805db4c47b4bf0cb2484439db96",
       "version_major": 2,
       "version_minor": 0
      },
      "text/plain": [
       "IntProgress(value=0, description='mou_7', max=36)"
      ]
     },
     "metadata": {},
     "output_type": "display_data"
    },
    {
     "data": {
      "application/vnd.jupyter.widget-view+json": {
       "model_id": "82c17152aa9344d0a82097b8aabefda5",
       "version_major": 2,
       "version_minor": 0
      },
      "text/plain": [
       "IntProgress(value=0, description='mou_7', max=36)"
      ]
     },
     "metadata": {},
     "output_type": "display_data"
    },
    {
     "data": {
      "application/vnd.jupyter.widget-view+json": {
       "model_id": "09abf60256554cacbfa4ae9d31e132f2",
       "version_major": 2,
       "version_minor": 0
      },
      "text/plain": [
       "IntProgress(value=0, description='mou_7', max=36)"
      ]
     },
     "metadata": {},
     "output_type": "display_data"
    },
    {
     "name": "stdout",
     "output_type": "stream",
     "text": [
      "Warning: skipping session with too few trials 3\n",
      "Warning: skipping session with too few trials 3\n",
      "Warning: skipping session with too few trials 5\n",
      "Warning: skipping session with too few trials 5\n",
      "Warning: skipping session with too few trials 2\n",
      "Warning: skipping session with too few trials 3\n",
      "Warning: skipping session with too few trials 3\n",
      "Warning: skipping session with too few trials 1\n",
      "Warning: skipping session with too few trials 2\n",
      "Warning: skipping session with too few trials 0\n",
      "Warning: skipping session with too few trials 1\n",
      "Warning: skipping session with too few trials 0\n",
      "Warning: skipping session with too few trials 2\n",
      "Warning: skipping session with too few trials 2\n",
      "Warning: skipping session with too few trials 7\n",
      "Warning: skipping session with too few trials 5\n",
      "Warning: skipping session with too few trials 3\n",
      "Warning: skipping session with too few trials 6\n",
      "Warning: skipping session with too few trials 5\n",
      "Warning: skipping session with too few trials 2\n",
      "Warning: skipping session with too few trials 0\n",
      "Warning: skipping session with too few trials 1\n",
      "Warning: skipping session with too few trials 3\n",
      "Warning: skipping session with too few trials 7\n",
      "Warning: skipping session with too few trials 5\n",
      "Warning: skipping session with too few trials 3\n",
      "Warning: skipping session with too few trials 0\n",
      "Warning: skipping session with too few trials 5\n",
      "Warning: skipping session with too few trials 6\n",
      "Warning: skipping session with too few trials 1\n"
     ]
    },
    {
     "data": {
      "application/vnd.jupyter.widget-view+json": {
       "model_id": "7105a2733f744e52855c49a2317a18de",
       "version_major": 2,
       "version_minor": 0
      },
      "text/plain": [
       "IntProgress(value=0, description='mou_7', max=36)"
      ]
     },
     "metadata": {},
     "output_type": "display_data"
    },
    {
     "name": "stdout",
     "output_type": "stream",
     "text": [
      "Warning: skipping session with too few trials 3\n",
      "Warning: skipping session with too few trials 3\n",
      "Warning: skipping session with too few trials 5\n",
      "Warning: skipping session with too few trials 5\n",
      "Warning: skipping session with too few trials 2\n",
      "Warning: skipping session with too few trials 3\n",
      "Warning: skipping session with too few trials 3\n",
      "Warning: skipping session with too few trials 1\n",
      "Warning: skipping session with too few trials 2\n",
      "Warning: skipping session with too few trials 0\n",
      "Warning: skipping session with too few trials 1\n",
      "Warning: skipping session with too few trials 0\n",
      "Warning: skipping session with too few trials 2\n",
      "Warning: skipping session with too few trials 2\n",
      "Warning: skipping session with too few trials 7\n",
      "Warning: skipping session with too few trials 5\n",
      "Warning: skipping session with too few trials 3\n",
      "Warning: skipping session with too few trials 6\n",
      "Warning: skipping session with too few trials 5\n",
      "Warning: skipping session with too few trials 2\n",
      "Warning: skipping session with too few trials 0\n",
      "Warning: skipping session with too few trials 1\n",
      "Warning: skipping session with too few trials 3\n",
      "Warning: skipping session with too few trials 7\n",
      "Warning: skipping session with too few trials 5\n",
      "Warning: skipping session with too few trials 3\n",
      "Warning: skipping session with too few trials 0\n",
      "Warning: skipping session with too few trials 5\n",
      "Warning: skipping session with too few trials 6\n",
      "Warning: skipping session with too few trials 1\n"
     ]
    },
    {
     "data": {
      "application/vnd.jupyter.widget-view+json": {
       "model_id": "c8dd70dbe47f4b708fef1ecfe358ba6c",
       "version_major": 2,
       "version_minor": 0
      },
      "text/plain": [
       "IntProgress(value=0, description='mou_7', max=36)"
      ]
     },
     "metadata": {},
     "output_type": "display_data"
    },
    {
     "name": "stdout",
     "output_type": "stream",
     "text": [
      "Warning: skipping session with too few trials 3\n",
      "Warning: skipping session with too few trials 3\n",
      "Warning: skipping session with too few trials 5\n",
      "Warning: skipping session with too few trials 5\n",
      "Warning: skipping session with too few trials 2\n",
      "Warning: skipping session with too few trials 3\n",
      "Warning: skipping session with too few trials 3\n",
      "Warning: skipping session with too few trials 1\n",
      "Warning: skipping session with too few trials 2\n",
      "Warning: skipping session with too few trials 0\n",
      "Warning: skipping session with too few trials 1\n",
      "Warning: skipping session with too few trials 0\n",
      "Warning: skipping session with too few trials 2\n",
      "Warning: skipping session with too few trials 2\n",
      "Warning: skipping session with too few trials 7\n",
      "Warning: skipping session with too few trials 5\n",
      "Warning: skipping session with too few trials 3\n",
      "Warning: skipping session with too few trials 6\n",
      "Warning: skipping session with too few trials 5\n",
      "Warning: skipping session with too few trials 2\n",
      "Warning: skipping session with too few trials 0\n",
      "Warning: skipping session with too few trials 1\n",
      "Warning: skipping session with too few trials 3\n",
      "Warning: skipping session with too few trials 7\n",
      "Warning: skipping session with too few trials 5\n",
      "Warning: skipping session with too few trials 3\n",
      "Warning: skipping session with too few trials 0\n",
      "Warning: skipping session with too few trials 5\n",
      "Warning: skipping session with too few trials 6\n",
      "Warning: skipping session with too few trials 1\n"
     ]
    },
    {
     "data": {
      "application/vnd.jupyter.widget-view+json": {
       "model_id": "4dd1cabdcede4af58566466dd5d2cce2",
       "version_major": 2,
       "version_minor": 0
      },
      "text/plain": [
       "IntProgress(value=0, description='mou_7', max=36)"
      ]
     },
     "metadata": {},
     "output_type": "display_data"
    },
    {
     "name": "stdout",
     "output_type": "stream",
     "text": [
      "Warning: skipping session with too few trials 3\n",
      "Warning: skipping session with too few trials 3\n",
      "Warning: skipping session with too few trials 5\n",
      "Warning: skipping session with too few trials 5\n",
      "Warning: skipping session with too few trials 2\n",
      "Warning: skipping session with too few trials 3\n",
      "Warning: skipping session with too few trials 3\n",
      "Warning: skipping session with too few trials 1\n",
      "Warning: skipping session with too few trials 2\n",
      "Warning: skipping session with too few trials 0\n",
      "Warning: skipping session with too few trials 1\n",
      "Warning: skipping session with too few trials 0\n",
      "Warning: skipping session with too few trials 2\n",
      "Warning: skipping session with too few trials 2\n",
      "Warning: skipping session with too few trials 7\n",
      "Warning: skipping session with too few trials 5\n",
      "Warning: skipping session with too few trials 3\n",
      "Warning: skipping session with too few trials 6\n",
      "Warning: skipping session with too few trials 5\n",
      "Warning: skipping session with too few trials 2\n",
      "Warning: skipping session with too few trials 0\n",
      "Warning: skipping session with too few trials 1\n",
      "Warning: skipping session with too few trials 3\n",
      "Warning: skipping session with too few trials 7\n",
      "Warning: skipping session with too few trials 5\n",
      "Warning: skipping session with too few trials 3\n",
      "Warning: skipping session with too few trials 0\n",
      "Warning: skipping session with too few trials 5\n",
      "Warning: skipping session with too few trials 6\n",
      "Warning: skipping session with too few trials 1\n"
     ]
    },
    {
     "data": {
      "application/vnd.jupyter.widget-view+json": {
       "model_id": "c3ce93014b73455d8150618fa49062aa",
       "version_major": 2,
       "version_minor": 0
      },
      "text/plain": [
       "IntProgress(value=0, description='mou_7', max=36)"
      ]
     },
     "metadata": {},
     "output_type": "display_data"
    },
    {
     "name": "stdout",
     "output_type": "stream",
     "text": [
      "Warning: skipping session with too few trials 3\n",
      "Warning: skipping session with too few trials 3\n",
      "Warning: skipping session with too few trials 5\n",
      "Warning: skipping session with too few trials 5\n",
      "Warning: skipping session with too few trials 2\n",
      "Warning: skipping session with too few trials 3\n",
      "Warning: skipping session with too few trials 3\n",
      "Warning: skipping session with too few trials 1\n",
      "Warning: skipping session with too few trials 2\n",
      "Warning: skipping session with too few trials 0\n",
      "Warning: skipping session with too few trials 1\n",
      "Warning: skipping session with too few trials 0\n",
      "Warning: skipping session with too few trials 2\n",
      "Warning: skipping session with too few trials 2\n",
      "Warning: skipping session with too few trials 7\n",
      "Warning: skipping session with too few trials 5\n",
      "Warning: skipping session with too few trials 3\n",
      "Warning: skipping session with too few trials 6\n",
      "Warning: skipping session with too few trials 5\n",
      "Warning: skipping session with too few trials 2\n",
      "Warning: skipping session with too few trials 0\n",
      "Warning: skipping session with too few trials 1\n",
      "Warning: skipping session with too few trials 3\n",
      "Warning: skipping session with too few trials 7\n",
      "Warning: skipping session with too few trials 5\n",
      "Warning: skipping session with too few trials 3\n",
      "Warning: skipping session with too few trials 0\n",
      "Warning: skipping session with too few trials 5\n",
      "Warning: skipping session with too few trials 6\n",
      "Warning: skipping session with too few trials 1\n"
     ]
    },
    {
     "data": {
      "application/vnd.jupyter.widget-view+json": {
       "model_id": "46eb18b3dc424b83a0df73f5f7067a1c",
       "version_major": 2,
       "version_minor": 0
      },
      "text/plain": [
       "IntProgress(value=0, description='mou_7', max=36)"
      ]
     },
     "metadata": {},
     "output_type": "display_data"
    },
    {
     "data": {
      "application/vnd.jupyter.widget-view+json": {
       "model_id": "30abc8d36de14d789a0293e822b31c87",
       "version_major": 2,
       "version_minor": 0
      },
      "text/plain": [
       "IntProgress(value=0, description='mou_7', max=36)"
      ]
     },
     "metadata": {},
     "output_type": "display_data"
    },
    {
     "data": {
      "application/vnd.jupyter.widget-view+json": {
       "model_id": "fe4fc8ff57f54f03862ae22f0d45046f",
       "version_major": 2,
       "version_minor": 0
      },
      "text/plain": [
       "IntProgress(value=0, description='mou_7', max=36)"
      ]
     },
     "metadata": {},
     "output_type": "display_data"
    },
    {
     "data": {
      "application/vnd.jupyter.widget-view+json": {
       "model_id": "b165cd35fb0b4e9f8f07607362c217aa",
       "version_major": 2,
       "version_minor": 0
      },
      "text/plain": [
       "IntProgress(value=0, description='mou_7', max=36)"
      ]
     },
     "metadata": {},
     "output_type": "display_data"
    },
    {
     "data": {
      "application/vnd.jupyter.widget-view+json": {
       "model_id": "feea9de4fcc14100ad5f397dfa59d82f",
       "version_major": 2,
       "version_minor": 0
      },
      "text/plain": [
       "IntProgress(value=0, description='mou_7', max=36)"
      ]
     },
     "metadata": {},
     "output_type": "display_data"
    },
    {
     "data": {
      "application/vnd.jupyter.widget-view+json": {
       "model_id": "19c3a3fe14c04a07b39f53d3a8e47479",
       "version_major": 2,
       "version_minor": 0
      },
      "text/plain": [
       "IntProgress(value=0, description='mou_7', max=36)"
      ]
     },
     "metadata": {},
     "output_type": "display_data"
    },
    {
     "name": "stdout",
     "output_type": "stream",
     "text": [
      "Warning: skipping session with too few trials 9\n",
      "Warning: skipping session with too few trials 6\n",
      "Warning: skipping session with too few trials 9\n"
     ]
    },
    {
     "data": {
      "application/vnd.jupyter.widget-view+json": {
       "model_id": "183dfd394d2a44b8afed98701638ea21",
       "version_major": 2,
       "version_minor": 0
      },
      "text/plain": [
       "IntProgress(value=0, description='mou_7', max=36)"
      ]
     },
     "metadata": {},
     "output_type": "display_data"
    },
    {
     "name": "stdout",
     "output_type": "stream",
     "text": [
      "Warning: skipping session with too few trials 9\n",
      "Warning: skipping session with too few trials 6\n",
      "Warning: skipping session with too few trials 9\n"
     ]
    },
    {
     "data": {
      "application/vnd.jupyter.widget-view+json": {
       "model_id": "3aac0f88b76f49cf9e176cc7c51cb841",
       "version_major": 2,
       "version_minor": 0
      },
      "text/plain": [
       "IntProgress(value=0, description='mou_7', max=36)"
      ]
     },
     "metadata": {},
     "output_type": "display_data"
    },
    {
     "name": "stdout",
     "output_type": "stream",
     "text": [
      "Warning: skipping session with too few trials 9\n",
      "Warning: skipping session with too few trials 6\n",
      "Warning: skipping session with too few trials 9\n"
     ]
    },
    {
     "data": {
      "application/vnd.jupyter.widget-view+json": {
       "model_id": "07c813af20514792964fa0fa9a48cc51",
       "version_major": 2,
       "version_minor": 0
      },
      "text/plain": [
       "IntProgress(value=0, description='mou_7', max=36)"
      ]
     },
     "metadata": {},
     "output_type": "display_data"
    },
    {
     "name": "stdout",
     "output_type": "stream",
     "text": [
      "Warning: skipping session with too few trials 9\n",
      "Warning: skipping session with too few trials 6\n",
      "Warning: skipping session with too few trials 9\n"
     ]
    },
    {
     "data": {
      "application/vnd.jupyter.widget-view+json": {
       "model_id": "c176906ca4bd4f96afbe5d2a8a583c6e",
       "version_major": 2,
       "version_minor": 0
      },
      "text/plain": [
       "IntProgress(value=0, description='mou_7', max=36)"
      ]
     },
     "metadata": {},
     "output_type": "display_data"
    },
    {
     "name": "stdout",
     "output_type": "stream",
     "text": [
      "Warning: skipping session with too few trials 9\n",
      "Warning: skipping session with too few trials 6\n",
      "Warning: skipping session with too few trials 9\n"
     ]
    },
    {
     "data": {
      "application/vnd.jupyter.widget-view+json": {
       "model_id": "6bd8fed065a646e4abc25ed4a1c5ca9d",
       "version_major": 2,
       "version_minor": 0
      },
      "text/plain": [
       "IntProgress(value=0, description='mou_7', max=36)"
      ]
     },
     "metadata": {},
     "output_type": "display_data"
    },
    {
     "name": "stdout",
     "output_type": "stream",
     "text": [
      "Warning: skipping session with too few trials 5\n",
      "Warning: skipping session with too few trials 0\n",
      "Warning: skipping session with too few trials 0\n",
      "Warning: skipping session with too few trials 1\n",
      "Warning: skipping session with too few trials 0\n",
      "Warning: skipping session with too few trials 4\n",
      "Warning: skipping session with too few trials 2\n",
      "Warning: skipping session with too few trials 7\n",
      "Warning: skipping session with too few trials 1\n",
      "Warning: skipping session with too few trials 8\n",
      "Warning: skipping session with too few trials 5\n",
      "Warning: skipping session with too few trials 7\n",
      "Warning: skipping session with too few trials 8\n",
      "Warning: skipping session with too few trials 9\n",
      "Warning: skipping session with too few trials 2\n",
      "Warning: skipping session with too few trials 2\n",
      "Warning: skipping session with too few trials 4\n",
      "Warning: skipping session with too few trials 9\n",
      "Warning: skipping session with too few trials 0\n",
      "Warning: skipping session with too few trials 4\n",
      "Warning: skipping session with too few trials 2\n",
      "Warning: skipping session with too few trials 8\n",
      "Warning: skipping session with too few trials 3\n",
      "Warning: skipping session with too few trials 4\n",
      "Warning: skipping session with too few trials 7\n",
      "Warning: skipping session with too few trials 7\n",
      "Warning: skipping session with too few trials 6\n",
      "Warning: skipping session with too few trials 2\n",
      "Warning: skipping session with too few trials 2\n",
      "Warning: skipping session with too few trials 8\n"
     ]
    },
    {
     "data": {
      "application/vnd.jupyter.widget-view+json": {
       "model_id": "56b18b326f7a4026b54a6252d9a63025",
       "version_major": 2,
       "version_minor": 0
      },
      "text/plain": [
       "IntProgress(value=0, description='mou_7', max=36)"
      ]
     },
     "metadata": {},
     "output_type": "display_data"
    },
    {
     "name": "stdout",
     "output_type": "stream",
     "text": [
      "Warning: skipping session with too few trials 5\n",
      "Warning: skipping session with too few trials 0\n",
      "Warning: skipping session with too few trials 0\n",
      "Warning: skipping session with too few trials 1\n",
      "Warning: skipping session with too few trials 0\n",
      "Warning: skipping session with too few trials 4\n",
      "Warning: skipping session with too few trials 2\n",
      "Warning: skipping session with too few trials 7\n",
      "Warning: skipping session with too few trials 1\n",
      "Warning: skipping session with too few trials 8\n",
      "Warning: skipping session with too few trials 5\n",
      "Warning: skipping session with too few trials 7\n",
      "Warning: skipping session with too few trials 8\n",
      "Warning: skipping session with too few trials 9\n",
      "Warning: skipping session with too few trials 2\n",
      "Warning: skipping session with too few trials 2\n",
      "Warning: skipping session with too few trials 4\n",
      "Warning: skipping session with too few trials 9\n",
      "Warning: skipping session with too few trials 0\n",
      "Warning: skipping session with too few trials 4\n",
      "Warning: skipping session with too few trials 2\n",
      "Warning: skipping session with too few trials 8\n",
      "Warning: skipping session with too few trials 3\n",
      "Warning: skipping session with too few trials 4\n",
      "Warning: skipping session with too few trials 7\n",
      "Warning: skipping session with too few trials 7\n",
      "Warning: skipping session with too few trials 6\n",
      "Warning: skipping session with too few trials 2\n",
      "Warning: skipping session with too few trials 2\n",
      "Warning: skipping session with too few trials 8\n"
     ]
    },
    {
     "data": {
      "application/vnd.jupyter.widget-view+json": {
       "model_id": "7b92ef666f7b4e179641c0adb0147901",
       "version_major": 2,
       "version_minor": 0
      },
      "text/plain": [
       "IntProgress(value=0, description='mou_7', max=36)"
      ]
     },
     "metadata": {},
     "output_type": "display_data"
    },
    {
     "name": "stdout",
     "output_type": "stream",
     "text": [
      "Warning: skipping session with too few trials 5\n",
      "Warning: skipping session with too few trials 0\n",
      "Warning: skipping session with too few trials 0\n",
      "Warning: skipping session with too few trials 1\n",
      "Warning: skipping session with too few trials 0\n",
      "Warning: skipping session with too few trials 4\n",
      "Warning: skipping session with too few trials 2\n",
      "Warning: skipping session with too few trials 7\n",
      "Warning: skipping session with too few trials 1\n",
      "Warning: skipping session with too few trials 8\n",
      "Warning: skipping session with too few trials 5\n",
      "Warning: skipping session with too few trials 7\n",
      "Warning: skipping session with too few trials 8\n",
      "Warning: skipping session with too few trials 9\n",
      "Warning: skipping session with too few trials 2\n",
      "Warning: skipping session with too few trials 2\n",
      "Warning: skipping session with too few trials 4\n",
      "Warning: skipping session with too few trials 9\n",
      "Warning: skipping session with too few trials 0\n",
      "Warning: skipping session with too few trials 4\n",
      "Warning: skipping session with too few trials 2\n",
      "Warning: skipping session with too few trials 8\n",
      "Warning: skipping session with too few trials 3\n",
      "Warning: skipping session with too few trials 4\n",
      "Warning: skipping session with too few trials 7\n",
      "Warning: skipping session with too few trials 7\n",
      "Warning: skipping session with too few trials 6\n",
      "Warning: skipping session with too few trials 2\n",
      "Warning: skipping session with too few trials 2\n",
      "Warning: skipping session with too few trials 8\n"
     ]
    },
    {
     "data": {
      "application/vnd.jupyter.widget-view+json": {
       "model_id": "54beddd24f5d445bb2206cdc7b358555",
       "version_major": 2,
       "version_minor": 0
      },
      "text/plain": [
       "IntProgress(value=0, description='mou_7', max=36)"
      ]
     },
     "metadata": {},
     "output_type": "display_data"
    },
    {
     "name": "stdout",
     "output_type": "stream",
     "text": [
      "Warning: skipping session with too few trials 5\n",
      "Warning: skipping session with too few trials 0\n",
      "Warning: skipping session with too few trials 0\n",
      "Warning: skipping session with too few trials 1\n",
      "Warning: skipping session with too few trials 0\n",
      "Warning: skipping session with too few trials 4\n",
      "Warning: skipping session with too few trials 2\n",
      "Warning: skipping session with too few trials 7\n",
      "Warning: skipping session with too few trials 1\n",
      "Warning: skipping session with too few trials 8\n",
      "Warning: skipping session with too few trials 5\n",
      "Warning: skipping session with too few trials 7\n",
      "Warning: skipping session with too few trials 8\n",
      "Warning: skipping session with too few trials 9\n",
      "Warning: skipping session with too few trials 2\n",
      "Warning: skipping session with too few trials 2\n",
      "Warning: skipping session with too few trials 4\n",
      "Warning: skipping session with too few trials 9\n",
      "Warning: skipping session with too few trials 0\n",
      "Warning: skipping session with too few trials 4\n",
      "Warning: skipping session with too few trials 2\n",
      "Warning: skipping session with too few trials 8\n",
      "Warning: skipping session with too few trials 3\n",
      "Warning: skipping session with too few trials 4\n",
      "Warning: skipping session with too few trials 7\n",
      "Warning: skipping session with too few trials 7\n",
      "Warning: skipping session with too few trials 6\n",
      "Warning: skipping session with too few trials 2\n",
      "Warning: skipping session with too few trials 2\n",
      "Warning: skipping session with too few trials 8\n"
     ]
    },
    {
     "data": {
      "application/vnd.jupyter.widget-view+json": {
       "model_id": "d01885e97a5441088f290c6c47457b52",
       "version_major": 2,
       "version_minor": 0
      },
      "text/plain": [
       "IntProgress(value=0, description='mou_7', max=36)"
      ]
     },
     "metadata": {},
     "output_type": "display_data"
    },
    {
     "name": "stdout",
     "output_type": "stream",
     "text": [
      "Warning: skipping session with too few trials 5\n",
      "Warning: skipping session with too few trials 0\n",
      "Warning: skipping session with too few trials 0\n",
      "Warning: skipping session with too few trials 1\n",
      "Warning: skipping session with too few trials 0\n",
      "Warning: skipping session with too few trials 4\n",
      "Warning: skipping session with too few trials 2\n",
      "Warning: skipping session with too few trials 7\n",
      "Warning: skipping session with too few trials 1\n",
      "Warning: skipping session with too few trials 8\n",
      "Warning: skipping session with too few trials 5\n",
      "Warning: skipping session with too few trials 7\n",
      "Warning: skipping session with too few trials 8\n",
      "Warning: skipping session with too few trials 9\n",
      "Warning: skipping session with too few trials 2\n",
      "Warning: skipping session with too few trials 2\n",
      "Warning: skipping session with too few trials 4\n",
      "Warning: skipping session with too few trials 9\n",
      "Warning: skipping session with too few trials 0\n",
      "Warning: skipping session with too few trials 4\n",
      "Warning: skipping session with too few trials 2\n",
      "Warning: skipping session with too few trials 8\n",
      "Warning: skipping session with too few trials 3\n",
      "Warning: skipping session with too few trials 4\n",
      "Warning: skipping session with too few trials 7\n",
      "Warning: skipping session with too few trials 7\n",
      "Warning: skipping session with too few trials 6\n",
      "Warning: skipping session with too few trials 2\n",
      "Warning: skipping session with too few trials 2\n",
      "Warning: skipping session with too few trials 8\n"
     ]
    },
    {
     "data": {
      "application/vnd.jupyter.widget-view+json": {
       "model_id": "dc57c03687e74b31a0610a289bc62ba8",
       "version_major": 2,
       "version_minor": 0
      },
      "text/plain": [
       "IntProgress(value=0, description='mou_7', max=36)"
      ]
     },
     "metadata": {},
     "output_type": "display_data"
    },
    {
     "data": {
      "application/vnd.jupyter.widget-view+json": {
       "model_id": "736c42d03ca9481195dd77cb7ab91cb4",
       "version_major": 2,
       "version_minor": 0
      },
      "text/plain": [
       "IntProgress(value=0, description='mou_7', max=36)"
      ]
     },
     "metadata": {},
     "output_type": "display_data"
    },
    {
     "data": {
      "application/vnd.jupyter.widget-view+json": {
       "model_id": "cfd0980b7f05424eacbbaff1e9c79319",
       "version_major": 2,
       "version_minor": 0
      },
      "text/plain": [
       "IntProgress(value=0, description='mou_7', max=36)"
      ]
     },
     "metadata": {},
     "output_type": "display_data"
    },
    {
     "data": {
      "application/vnd.jupyter.widget-view+json": {
       "model_id": "07b0902bd86944829fa2d86b8067587f",
       "version_major": 2,
       "version_minor": 0
      },
      "text/plain": [
       "IntProgress(value=0, description='mou_7', max=36)"
      ]
     },
     "metadata": {},
     "output_type": "display_data"
    },
    {
     "data": {
      "application/vnd.jupyter.widget-view+json": {
       "model_id": "6111ae2c5941496b9ac400e8b1ad1872",
       "version_major": 2,
       "version_minor": 0
      },
      "text/plain": [
       "IntProgress(value=0, description='mou_7', max=36)"
      ]
     },
     "metadata": {},
     "output_type": "display_data"
    },
    {
     "data": {
      "application/vnd.jupyter.widget-view+json": {
       "model_id": "45ac4892ef65457db47372c4dcc02c3c",
       "version_major": 2,
       "version_minor": 0
      },
      "text/plain": [
       "IntProgress(value=0, description='mou_7', max=36)"
      ]
     },
     "metadata": {},
     "output_type": "display_data"
    },
    {
     "name": "stdout",
     "output_type": "stream",
     "text": [
      "Warning: skipping session with too few trials 3\n",
      "Warning: skipping session with too few trials 3\n",
      "Warning: skipping session with too few trials 5\n",
      "Warning: skipping session with too few trials 5\n",
      "Warning: skipping session with too few trials 2\n",
      "Warning: skipping session with too few trials 3\n",
      "Warning: skipping session with too few trials 3\n",
      "Warning: skipping session with too few trials 1\n",
      "Warning: skipping session with too few trials 2\n",
      "Warning: skipping session with too few trials 0\n",
      "Warning: skipping session with too few trials 1\n",
      "Warning: skipping session with too few trials 0\n",
      "Warning: skipping session with too few trials 2\n",
      "Warning: skipping session with too few trials 2\n",
      "Warning: skipping session with too few trials 7\n",
      "Warning: skipping session with too few trials 5\n",
      "Warning: skipping session with too few trials 3\n",
      "Warning: skipping session with too few trials 6\n",
      "Warning: skipping session with too few trials 5\n",
      "Warning: skipping session with too few trials 2\n",
      "Warning: skipping session with too few trials 0\n",
      "Warning: skipping session with too few trials 1\n",
      "Warning: skipping session with too few trials 3\n",
      "Warning: skipping session with too few trials 7\n",
      "Warning: skipping session with too few trials 5\n",
      "Warning: skipping session with too few trials 3\n",
      "Warning: skipping session with too few trials 0\n",
      "Warning: skipping session with too few trials 5\n",
      "Warning: skipping session with too few trials 6\n",
      "Warning: skipping session with too few trials 1\n"
     ]
    },
    {
     "data": {
      "application/vnd.jupyter.widget-view+json": {
       "model_id": "6faceba30ed141d1b658910d203edc07",
       "version_major": 2,
       "version_minor": 0
      },
      "text/plain": [
       "IntProgress(value=0, description='mou_7', max=36)"
      ]
     },
     "metadata": {},
     "output_type": "display_data"
    },
    {
     "name": "stdout",
     "output_type": "stream",
     "text": [
      "Warning: skipping session with too few trials 3\n",
      "Warning: skipping session with too few trials 3\n",
      "Warning: skipping session with too few trials 5\n",
      "Warning: skipping session with too few trials 5\n",
      "Warning: skipping session with too few trials 2\n",
      "Warning: skipping session with too few trials 3\n",
      "Warning: skipping session with too few trials 3\n",
      "Warning: skipping session with too few trials 1\n",
      "Warning: skipping session with too few trials 2\n",
      "Warning: skipping session with too few trials 0\n",
      "Warning: skipping session with too few trials 1\n",
      "Warning: skipping session with too few trials 0\n",
      "Warning: skipping session with too few trials 2\n",
      "Warning: skipping session with too few trials 2\n",
      "Warning: skipping session with too few trials 7\n",
      "Warning: skipping session with too few trials 5\n",
      "Warning: skipping session with too few trials 3\n",
      "Warning: skipping session with too few trials 6\n",
      "Warning: skipping session with too few trials 5\n",
      "Warning: skipping session with too few trials 2\n",
      "Warning: skipping session with too few trials 0\n",
      "Warning: skipping session with too few trials 1\n",
      "Warning: skipping session with too few trials 3\n",
      "Warning: skipping session with too few trials 7\n",
      "Warning: skipping session with too few trials 5\n",
      "Warning: skipping session with too few trials 3\n",
      "Warning: skipping session with too few trials 0\n",
      "Warning: skipping session with too few trials 5\n",
      "Warning: skipping session with too few trials 6\n",
      "Warning: skipping session with too few trials 1\n"
     ]
    },
    {
     "data": {
      "application/vnd.jupyter.widget-view+json": {
       "model_id": "b94d1fdb37ee4b4f90f0c57d8eef5149",
       "version_major": 2,
       "version_minor": 0
      },
      "text/plain": [
       "IntProgress(value=0, description='mou_7', max=36)"
      ]
     },
     "metadata": {},
     "output_type": "display_data"
    },
    {
     "name": "stdout",
     "output_type": "stream",
     "text": [
      "Warning: skipping session with too few trials 3\n",
      "Warning: skipping session with too few trials 3\n",
      "Warning: skipping session with too few trials 5\n",
      "Warning: skipping session with too few trials 5\n",
      "Warning: skipping session with too few trials 2\n",
      "Warning: skipping session with too few trials 3\n",
      "Warning: skipping session with too few trials 3\n",
      "Warning: skipping session with too few trials 1\n",
      "Warning: skipping session with too few trials 2\n",
      "Warning: skipping session with too few trials 0\n",
      "Warning: skipping session with too few trials 1\n",
      "Warning: skipping session with too few trials 0\n",
      "Warning: skipping session with too few trials 2\n",
      "Warning: skipping session with too few trials 2\n",
      "Warning: skipping session with too few trials 7\n",
      "Warning: skipping session with too few trials 5\n",
      "Warning: skipping session with too few trials 3\n",
      "Warning: skipping session with too few trials 6\n",
      "Warning: skipping session with too few trials 5\n",
      "Warning: skipping session with too few trials 2\n",
      "Warning: skipping session with too few trials 0\n",
      "Warning: skipping session with too few trials 1\n",
      "Warning: skipping session with too few trials 3\n",
      "Warning: skipping session with too few trials 7\n",
      "Warning: skipping session with too few trials 5\n",
      "Warning: skipping session with too few trials 3\n",
      "Warning: skipping session with too few trials 0\n",
      "Warning: skipping session with too few trials 5\n",
      "Warning: skipping session with too few trials 6\n",
      "Warning: skipping session with too few trials 1\n"
     ]
    },
    {
     "data": {
      "application/vnd.jupyter.widget-view+json": {
       "model_id": "ef2c0c10604d40de83a2ca96fb58f0a1",
       "version_major": 2,
       "version_minor": 0
      },
      "text/plain": [
       "IntProgress(value=0, description='mou_7', max=36)"
      ]
     },
     "metadata": {},
     "output_type": "display_data"
    },
    {
     "name": "stdout",
     "output_type": "stream",
     "text": [
      "Warning: skipping session with too few trials 3\n",
      "Warning: skipping session with too few trials 3\n",
      "Warning: skipping session with too few trials 5\n",
      "Warning: skipping session with too few trials 5\n",
      "Warning: skipping session with too few trials 2\n",
      "Warning: skipping session with too few trials 3\n",
      "Warning: skipping session with too few trials 3\n",
      "Warning: skipping session with too few trials 1\n",
      "Warning: skipping session with too few trials 2\n",
      "Warning: skipping session with too few trials 0\n",
      "Warning: skipping session with too few trials 1\n",
      "Warning: skipping session with too few trials 0\n",
      "Warning: skipping session with too few trials 2\n",
      "Warning: skipping session with too few trials 2\n",
      "Warning: skipping session with too few trials 7\n",
      "Warning: skipping session with too few trials 5\n",
      "Warning: skipping session with too few trials 3\n",
      "Warning: skipping session with too few trials 6\n",
      "Warning: skipping session with too few trials 5\n",
      "Warning: skipping session with too few trials 2\n",
      "Warning: skipping session with too few trials 0\n",
      "Warning: skipping session with too few trials 1\n",
      "Warning: skipping session with too few trials 3\n",
      "Warning: skipping session with too few trials 7\n",
      "Warning: skipping session with too few trials 5\n",
      "Warning: skipping session with too few trials 3\n",
      "Warning: skipping session with too few trials 0\n",
      "Warning: skipping session with too few trials 5\n",
      "Warning: skipping session with too few trials 6\n",
      "Warning: skipping session with too few trials 1\n"
     ]
    },
    {
     "data": {
      "application/vnd.jupyter.widget-view+json": {
       "model_id": "7e71f7d8d4bc41689382a8aba6391a58",
       "version_major": 2,
       "version_minor": 0
      },
      "text/plain": [
       "IntProgress(value=0, description='mou_7', max=36)"
      ]
     },
     "metadata": {},
     "output_type": "display_data"
    },
    {
     "name": "stdout",
     "output_type": "stream",
     "text": [
      "Warning: skipping session with too few trials 3\n",
      "Warning: skipping session with too few trials 3\n",
      "Warning: skipping session with too few trials 5\n",
      "Warning: skipping session with too few trials 5\n",
      "Warning: skipping session with too few trials 2\n",
      "Warning: skipping session with too few trials 3\n",
      "Warning: skipping session with too few trials 3\n",
      "Warning: skipping session with too few trials 1\n",
      "Warning: skipping session with too few trials 2\n",
      "Warning: skipping session with too few trials 0\n",
      "Warning: skipping session with too few trials 1\n",
      "Warning: skipping session with too few trials 0\n",
      "Warning: skipping session with too few trials 2\n",
      "Warning: skipping session with too few trials 2\n",
      "Warning: skipping session with too few trials 7\n",
      "Warning: skipping session with too few trials 5\n",
      "Warning: skipping session with too few trials 3\n",
      "Warning: skipping session with too few trials 6\n",
      "Warning: skipping session with too few trials 5\n",
      "Warning: skipping session with too few trials 2\n",
      "Warning: skipping session with too few trials 0\n",
      "Warning: skipping session with too few trials 1\n",
      "Warning: skipping session with too few trials 3\n",
      "Warning: skipping session with too few trials 7\n",
      "Warning: skipping session with too few trials 5\n",
      "Warning: skipping session with too few trials 3\n",
      "Warning: skipping session with too few trials 0\n",
      "Warning: skipping session with too few trials 5\n",
      "Warning: skipping session with too few trials 6\n",
      "Warning: skipping session with too few trials 1\n"
     ]
    },
    {
     "data": {
      "application/vnd.jupyter.widget-view+json": {
       "model_id": "c205a2c328684340b5c59439666351da",
       "version_major": 2,
       "version_minor": 0
      },
      "text/plain": [
       "IntProgress(value=0, description='mou_7', max=36)"
      ]
     },
     "metadata": {},
     "output_type": "display_data"
    },
    {
     "data": {
      "application/vnd.jupyter.widget-view+json": {
       "model_id": "7e04e8c167794c20bc73966c2bcea16b",
       "version_major": 2,
       "version_minor": 0
      },
      "text/plain": [
       "IntProgress(value=0, description='mou_7', max=36)"
      ]
     },
     "metadata": {},
     "output_type": "display_data"
    },
    {
     "data": {
      "application/vnd.jupyter.widget-view+json": {
       "model_id": "a41403e6e0054b2da3469bf3c0f77fba",
       "version_major": 2,
       "version_minor": 0
      },
      "text/plain": [
       "IntProgress(value=0, description='mou_7', max=36)"
      ]
     },
     "metadata": {},
     "output_type": "display_data"
    },
    {
     "data": {
      "application/vnd.jupyter.widget-view+json": {
       "model_id": "b29925b4369940b4bd89dc7be86e0d5e",
       "version_major": 2,
       "version_minor": 0
      },
      "text/plain": [
       "IntProgress(value=0, description='mou_7', max=36)"
      ]
     },
     "metadata": {},
     "output_type": "display_data"
    },
    {
     "data": {
      "application/vnd.jupyter.widget-view+json": {
       "model_id": "2694beedfd794d23bf13680090fd4fda",
       "version_major": 2,
       "version_minor": 0
      },
      "text/plain": [
       "IntProgress(value=0, description='mou_7', max=36)"
      ]
     },
     "metadata": {},
     "output_type": "display_data"
    },
    {
     "name": "stdout",
     "output_type": "stream",
     "text": [
      "Warning: skipping session with too few trials 9\n",
      "Warning: skipping session with too few trials 6\n",
      "Warning: skipping session with too few trials 9\n"
     ]
    },
    {
     "data": {
      "application/vnd.jupyter.widget-view+json": {
       "model_id": "7b6ae879f63b4d9e8ee0a40bb6e63b55",
       "version_major": 2,
       "version_minor": 0
      },
      "text/plain": [
       "IntProgress(value=0, description='mou_7', max=36)"
      ]
     },
     "metadata": {},
     "output_type": "display_data"
    },
    {
     "name": "stdout",
     "output_type": "stream",
     "text": [
      "Warning: skipping session with too few trials 9\n",
      "Warning: skipping session with too few trials 6\n",
      "Warning: skipping session with too few trials 9\n"
     ]
    },
    {
     "data": {
      "application/vnd.jupyter.widget-view+json": {
       "model_id": "7c2682fc5ec2442f9986a69589d1bbc9",
       "version_major": 2,
       "version_minor": 0
      },
      "text/plain": [
       "IntProgress(value=0, description='mou_7', max=36)"
      ]
     },
     "metadata": {},
     "output_type": "display_data"
    },
    {
     "name": "stdout",
     "output_type": "stream",
     "text": [
      "Warning: skipping session with too few trials 9\n",
      "Warning: skipping session with too few trials 6\n",
      "Warning: skipping session with too few trials 9\n"
     ]
    },
    {
     "data": {
      "application/vnd.jupyter.widget-view+json": {
       "model_id": "653838d47cf04e5ebaab97d8098fb4f6",
       "version_major": 2,
       "version_minor": 0
      },
      "text/plain": [
       "IntProgress(value=0, description='mou_7', max=36)"
      ]
     },
     "metadata": {},
     "output_type": "display_data"
    },
    {
     "name": "stdout",
     "output_type": "stream",
     "text": [
      "Warning: skipping session with too few trials 9\n",
      "Warning: skipping session with too few trials 6\n",
      "Warning: skipping session with too few trials 9\n"
     ]
    },
    {
     "data": {
      "application/vnd.jupyter.widget-view+json": {
       "model_id": "4b686ce556224c5db87306c238abbd63",
       "version_major": 2,
       "version_minor": 0
      },
      "text/plain": [
       "IntProgress(value=0, description='mou_7', max=36)"
      ]
     },
     "metadata": {},
     "output_type": "display_data"
    },
    {
     "name": "stdout",
     "output_type": "stream",
     "text": [
      "Warning: skipping session with too few trials 5\n",
      "Warning: skipping session with too few trials 0\n",
      "Warning: skipping session with too few trials 0\n",
      "Warning: skipping session with too few trials 1\n",
      "Warning: skipping session with too few trials 0\n",
      "Warning: skipping session with too few trials 4\n",
      "Warning: skipping session with too few trials 2\n",
      "Warning: skipping session with too few trials 7\n",
      "Warning: skipping session with too few trials 1\n",
      "Warning: skipping session with too few trials 8\n",
      "Warning: skipping session with too few trials 5\n",
      "Warning: skipping session with too few trials 7\n",
      "Warning: skipping session with too few trials 8\n",
      "Warning: skipping session with too few trials 9\n",
      "Warning: skipping session with too few trials 2\n",
      "Warning: skipping session with too few trials 2\n",
      "Warning: skipping session with too few trials 4\n",
      "Warning: skipping session with too few trials 9\n",
      "Warning: skipping session with too few trials 0\n",
      "Warning: skipping session with too few trials 4\n",
      "Warning: skipping session with too few trials 2\n",
      "Warning: skipping session with too few trials 8\n",
      "Warning: skipping session with too few trials 3\n",
      "Warning: skipping session with too few trials 4\n",
      "Warning: skipping session with too few trials 7\n",
      "Warning: skipping session with too few trials 7\n",
      "Warning: skipping session with too few trials 6\n",
      "Warning: skipping session with too few trials 2\n",
      "Warning: skipping session with too few trials 2\n",
      "Warning: skipping session with too few trials 8\n"
     ]
    },
    {
     "data": {
      "application/vnd.jupyter.widget-view+json": {
       "model_id": "bd532665c002444493776fb7284463a4",
       "version_major": 2,
       "version_minor": 0
      },
      "text/plain": [
       "IntProgress(value=0, description='mou_7', max=36)"
      ]
     },
     "metadata": {},
     "output_type": "display_data"
    },
    {
     "name": "stdout",
     "output_type": "stream",
     "text": [
      "Warning: skipping session with too few trials 5\n",
      "Warning: skipping session with too few trials 0\n",
      "Warning: skipping session with too few trials 0\n",
      "Warning: skipping session with too few trials 1\n",
      "Warning: skipping session with too few trials 0\n",
      "Warning: skipping session with too few trials 4\n",
      "Warning: skipping session with too few trials 2\n",
      "Warning: skipping session with too few trials 7\n",
      "Warning: skipping session with too few trials 1\n",
      "Warning: skipping session with too few trials 8\n",
      "Warning: skipping session with too few trials 5\n",
      "Warning: skipping session with too few trials 7\n",
      "Warning: skipping session with too few trials 8\n",
      "Warning: skipping session with too few trials 9\n",
      "Warning: skipping session with too few trials 2\n",
      "Warning: skipping session with too few trials 2\n",
      "Warning: skipping session with too few trials 4\n",
      "Warning: skipping session with too few trials 9\n",
      "Warning: skipping session with too few trials 0\n",
      "Warning: skipping session with too few trials 4\n",
      "Warning: skipping session with too few trials 2\n",
      "Warning: skipping session with too few trials 8\n",
      "Warning: skipping session with too few trials 3\n",
      "Warning: skipping session with too few trials 4\n",
      "Warning: skipping session with too few trials 7\n",
      "Warning: skipping session with too few trials 7\n",
      "Warning: skipping session with too few trials 6\n",
      "Warning: skipping session with too few trials 2\n",
      "Warning: skipping session with too few trials 2\n",
      "Warning: skipping session with too few trials 8\n"
     ]
    },
    {
     "data": {
      "application/vnd.jupyter.widget-view+json": {
       "model_id": "5b349a4c50b1411487f251b3889502e4",
       "version_major": 2,
       "version_minor": 0
      },
      "text/plain": [
       "IntProgress(value=0, description='mou_7', max=36)"
      ]
     },
     "metadata": {},
     "output_type": "display_data"
    },
    {
     "name": "stdout",
     "output_type": "stream",
     "text": [
      "Warning: skipping session with too few trials 5\n",
      "Warning: skipping session with too few trials 0\n",
      "Warning: skipping session with too few trials 0\n",
      "Warning: skipping session with too few trials 1\n",
      "Warning: skipping session with too few trials 0\n",
      "Warning: skipping session with too few trials 4\n",
      "Warning: skipping session with too few trials 2\n",
      "Warning: skipping session with too few trials 7\n",
      "Warning: skipping session with too few trials 1\n",
      "Warning: skipping session with too few trials 8\n",
      "Warning: skipping session with too few trials 5\n",
      "Warning: skipping session with too few trials 7\n",
      "Warning: skipping session with too few trials 8\n",
      "Warning: skipping session with too few trials 9\n",
      "Warning: skipping session with too few trials 2\n",
      "Warning: skipping session with too few trials 2\n",
      "Warning: skipping session with too few trials 4\n",
      "Warning: skipping session with too few trials 9\n",
      "Warning: skipping session with too few trials 0\n",
      "Warning: skipping session with too few trials 4\n",
      "Warning: skipping session with too few trials 2\n",
      "Warning: skipping session with too few trials 8\n",
      "Warning: skipping session with too few trials 3\n",
      "Warning: skipping session with too few trials 4\n",
      "Warning: skipping session with too few trials 7\n",
      "Warning: skipping session with too few trials 7\n",
      "Warning: skipping session with too few trials 6\n",
      "Warning: skipping session with too few trials 2\n",
      "Warning: skipping session with too few trials 2\n",
      "Warning: skipping session with too few trials 8\n"
     ]
    },
    {
     "data": {
      "application/vnd.jupyter.widget-view+json": {
       "model_id": "dc889cf3e9b6402a9cbc7b0fe5dedac8",
       "version_major": 2,
       "version_minor": 0
      },
      "text/plain": [
       "IntProgress(value=0, description='mou_7', max=36)"
      ]
     },
     "metadata": {},
     "output_type": "display_data"
    },
    {
     "name": "stdout",
     "output_type": "stream",
     "text": [
      "Warning: skipping session with too few trials 5\n",
      "Warning: skipping session with too few trials 0\n",
      "Warning: skipping session with too few trials 0\n",
      "Warning: skipping session with too few trials 1\n",
      "Warning: skipping session with too few trials 0\n",
      "Warning: skipping session with too few trials 4\n",
      "Warning: skipping session with too few trials 2\n",
      "Warning: skipping session with too few trials 7\n",
      "Warning: skipping session with too few trials 1\n",
      "Warning: skipping session with too few trials 8\n",
      "Warning: skipping session with too few trials 5\n",
      "Warning: skipping session with too few trials 7\n",
      "Warning: skipping session with too few trials 8\n",
      "Warning: skipping session with too few trials 9\n",
      "Warning: skipping session with too few trials 2\n",
      "Warning: skipping session with too few trials 2\n",
      "Warning: skipping session with too few trials 4\n",
      "Warning: skipping session with too few trials 9\n",
      "Warning: skipping session with too few trials 0\n",
      "Warning: skipping session with too few trials 4\n",
      "Warning: skipping session with too few trials 2\n",
      "Warning: skipping session with too few trials 8\n",
      "Warning: skipping session with too few trials 3\n",
      "Warning: skipping session with too few trials 4\n",
      "Warning: skipping session with too few trials 7\n",
      "Warning: skipping session with too few trials 7\n",
      "Warning: skipping session with too few trials 6\n",
      "Warning: skipping session with too few trials 2\n",
      "Warning: skipping session with too few trials 2\n",
      "Warning: skipping session with too few trials 8\n"
     ]
    },
    {
     "data": {
      "application/vnd.jupyter.widget-view+json": {
       "model_id": "4b30bb2cda05405cb1022cd157510a28",
       "version_major": 2,
       "version_minor": 0
      },
      "text/plain": [
       "IntProgress(value=0, description='mou_7', max=36)"
      ]
     },
     "metadata": {},
     "output_type": "display_data"
    },
    {
     "data": {
      "application/vnd.jupyter.widget-view+json": {
       "model_id": "6379690adfc14593a113f9965c3515a7",
       "version_major": 2,
       "version_minor": 0
      },
      "text/plain": [
       "IntProgress(value=0, description='mou_7', max=36)"
      ]
     },
     "metadata": {},
     "output_type": "display_data"
    },
    {
     "data": {
      "application/vnd.jupyter.widget-view+json": {
       "model_id": "3e9b810fb910479a9f5f28d900c0b60c",
       "version_major": 2,
       "version_minor": 0
      },
      "text/plain": [
       "IntProgress(value=0, description='mou_7', max=36)"
      ]
     },
     "metadata": {},
     "output_type": "display_data"
    },
    {
     "data": {
      "application/vnd.jupyter.widget-view+json": {
       "model_id": "fc53e6650b3b417a9d6f247f8bf93442",
       "version_major": 2,
       "version_minor": 0
      },
      "text/plain": [
       "IntProgress(value=0, description='mou_7', max=36)"
      ]
     },
     "metadata": {},
     "output_type": "display_data"
    },
    {
     "data": {
      "application/vnd.jupyter.widget-view+json": {
       "model_id": "11dd21755f254bc0a659eee80e7ffea8",
       "version_major": 2,
       "version_minor": 0
      },
      "text/plain": [
       "IntProgress(value=0, description='mou_7', max=36)"
      ]
     },
     "metadata": {},
     "output_type": "display_data"
    },
    {
     "name": "stdout",
     "output_type": "stream",
     "text": [
      "Warning: skipping session with too few trials 3\n",
      "Warning: skipping session with too few trials 3\n",
      "Warning: skipping session with too few trials 5\n",
      "Warning: skipping session with too few trials 5\n",
      "Warning: skipping session with too few trials 2\n",
      "Warning: skipping session with too few trials 3\n",
      "Warning: skipping session with too few trials 3\n",
      "Warning: skipping session with too few trials 1\n",
      "Warning: skipping session with too few trials 2\n",
      "Warning: skipping session with too few trials 0\n",
      "Warning: skipping session with too few trials 1\n",
      "Warning: skipping session with too few trials 0\n",
      "Warning: skipping session with too few trials 2\n",
      "Warning: skipping session with too few trials 2\n",
      "Warning: skipping session with too few trials 7\n",
      "Warning: skipping session with too few trials 5\n",
      "Warning: skipping session with too few trials 3\n",
      "Warning: skipping session with too few trials 6\n",
      "Warning: skipping session with too few trials 5\n",
      "Warning: skipping session with too few trials 2\n",
      "Warning: skipping session with too few trials 0\n",
      "Warning: skipping session with too few trials 1\n",
      "Warning: skipping session with too few trials 3\n",
      "Warning: skipping session with too few trials 7\n",
      "Warning: skipping session with too few trials 5\n",
      "Warning: skipping session with too few trials 3\n",
      "Warning: skipping session with too few trials 0\n",
      "Warning: skipping session with too few trials 5\n",
      "Warning: skipping session with too few trials 6\n",
      "Warning: skipping session with too few trials 1\n"
     ]
    },
    {
     "data": {
      "application/vnd.jupyter.widget-view+json": {
       "model_id": "05c8e496f0594780a93d0b133715c18f",
       "version_major": 2,
       "version_minor": 0
      },
      "text/plain": [
       "IntProgress(value=0, description='mou_7', max=36)"
      ]
     },
     "metadata": {},
     "output_type": "display_data"
    },
    {
     "name": "stdout",
     "output_type": "stream",
     "text": [
      "Warning: skipping session with too few trials 3\n",
      "Warning: skipping session with too few trials 3\n",
      "Warning: skipping session with too few trials 5\n",
      "Warning: skipping session with too few trials 5\n",
      "Warning: skipping session with too few trials 2\n",
      "Warning: skipping session with too few trials 3\n",
      "Warning: skipping session with too few trials 3\n",
      "Warning: skipping session with too few trials 1\n",
      "Warning: skipping session with too few trials 2\n",
      "Warning: skipping session with too few trials 0\n",
      "Warning: skipping session with too few trials 1\n",
      "Warning: skipping session with too few trials 0\n",
      "Warning: skipping session with too few trials 2\n",
      "Warning: skipping session with too few trials 2\n",
      "Warning: skipping session with too few trials 7\n",
      "Warning: skipping session with too few trials 5\n",
      "Warning: skipping session with too few trials 3\n",
      "Warning: skipping session with too few trials 6\n",
      "Warning: skipping session with too few trials 5\n",
      "Warning: skipping session with too few trials 2\n",
      "Warning: skipping session with too few trials 0\n",
      "Warning: skipping session with too few trials 1\n",
      "Warning: skipping session with too few trials 3\n",
      "Warning: skipping session with too few trials 7\n",
      "Warning: skipping session with too few trials 5\n",
      "Warning: skipping session with too few trials 3\n",
      "Warning: skipping session with too few trials 0\n",
      "Warning: skipping session with too few trials 5\n",
      "Warning: skipping session with too few trials 6\n",
      "Warning: skipping session with too few trials 1\n"
     ]
    },
    {
     "data": {
      "application/vnd.jupyter.widget-view+json": {
       "model_id": "41f4fcc20a3e4c2aac95bed56630fdd8",
       "version_major": 2,
       "version_minor": 0
      },
      "text/plain": [
       "IntProgress(value=0, description='mou_7', max=36)"
      ]
     },
     "metadata": {},
     "output_type": "display_data"
    },
    {
     "name": "stdout",
     "output_type": "stream",
     "text": [
      "Warning: skipping session with too few trials 3\n",
      "Warning: skipping session with too few trials 3\n",
      "Warning: skipping session with too few trials 5\n",
      "Warning: skipping session with too few trials 5\n",
      "Warning: skipping session with too few trials 2\n",
      "Warning: skipping session with too few trials 3\n",
      "Warning: skipping session with too few trials 3\n",
      "Warning: skipping session with too few trials 1\n",
      "Warning: skipping session with too few trials 2\n",
      "Warning: skipping session with too few trials 0\n",
      "Warning: skipping session with too few trials 1\n",
      "Warning: skipping session with too few trials 0\n",
      "Warning: skipping session with too few trials 2\n",
      "Warning: skipping session with too few trials 2\n",
      "Warning: skipping session with too few trials 7\n",
      "Warning: skipping session with too few trials 5\n",
      "Warning: skipping session with too few trials 3\n",
      "Warning: skipping session with too few trials 6\n",
      "Warning: skipping session with too few trials 5\n",
      "Warning: skipping session with too few trials 2\n",
      "Warning: skipping session with too few trials 0\n",
      "Warning: skipping session with too few trials 1\n",
      "Warning: skipping session with too few trials 3\n",
      "Warning: skipping session with too few trials 7\n",
      "Warning: skipping session with too few trials 5\n",
      "Warning: skipping session with too few trials 3\n",
      "Warning: skipping session with too few trials 0\n",
      "Warning: skipping session with too few trials 5\n",
      "Warning: skipping session with too few trials 6\n",
      "Warning: skipping session with too few trials 1\n"
     ]
    },
    {
     "data": {
      "application/vnd.jupyter.widget-view+json": {
       "model_id": "e3048e366f204331970506619be64953",
       "version_major": 2,
       "version_minor": 0
      },
      "text/plain": [
       "IntProgress(value=0, description='mou_7', max=36)"
      ]
     },
     "metadata": {},
     "output_type": "display_data"
    },
    {
     "name": "stdout",
     "output_type": "stream",
     "text": [
      "Warning: skipping session with too few trials 3\n",
      "Warning: skipping session with too few trials 3\n",
      "Warning: skipping session with too few trials 5\n",
      "Warning: skipping session with too few trials 5\n",
      "Warning: skipping session with too few trials 2\n",
      "Warning: skipping session with too few trials 3\n",
      "Warning: skipping session with too few trials 3\n",
      "Warning: skipping session with too few trials 1\n",
      "Warning: skipping session with too few trials 2\n",
      "Warning: skipping session with too few trials 0\n",
      "Warning: skipping session with too few trials 1\n",
      "Warning: skipping session with too few trials 0\n",
      "Warning: skipping session with too few trials 2\n",
      "Warning: skipping session with too few trials 2\n",
      "Warning: skipping session with too few trials 7\n",
      "Warning: skipping session with too few trials 5\n",
      "Warning: skipping session with too few trials 3\n",
      "Warning: skipping session with too few trials 6\n",
      "Warning: skipping session with too few trials 5\n",
      "Warning: skipping session with too few trials 2\n",
      "Warning: skipping session with too few trials 0\n",
      "Warning: skipping session with too few trials 1\n",
      "Warning: skipping session with too few trials 3\n",
      "Warning: skipping session with too few trials 7\n",
      "Warning: skipping session with too few trials 5\n",
      "Warning: skipping session with too few trials 3\n",
      "Warning: skipping session with too few trials 0\n",
      "Warning: skipping session with too few trials 5\n",
      "Warning: skipping session with too few trials 6\n",
      "Warning: skipping session with too few trials 1\n"
     ]
    },
    {
     "data": {
      "application/vnd.jupyter.widget-view+json": {
       "model_id": "7b062ee048934bab9ba052fc12a6887b",
       "version_major": 2,
       "version_minor": 0
      },
      "text/plain": [
       "IntProgress(value=0, description='mou_5', max=21)"
      ]
     },
     "metadata": {},
     "output_type": "display_data"
    },
    {
     "data": {
      "application/vnd.jupyter.widget-view+json": {
       "model_id": "c765b0a1fb584f10a830b148c755a9c5",
       "version_major": 2,
       "version_minor": 0
      },
      "text/plain": [
       "IntProgress(value=0, description='mou_5', max=21)"
      ]
     },
     "metadata": {},
     "output_type": "display_data"
    },
    {
     "data": {
      "application/vnd.jupyter.widget-view+json": {
       "model_id": "7ba687d7ed3948b797c67dd59cc04803",
       "version_major": 2,
       "version_minor": 0
      },
      "text/plain": [
       "IntProgress(value=0, description='mou_5', max=21)"
      ]
     },
     "metadata": {},
     "output_type": "display_data"
    },
    {
     "data": {
      "application/vnd.jupyter.widget-view+json": {
       "model_id": "b74e2faae0274f4c804a426fbb828337",
       "version_major": 2,
       "version_minor": 0
      },
      "text/plain": [
       "IntProgress(value=0, description='mou_5', max=21)"
      ]
     },
     "metadata": {},
     "output_type": "display_data"
    },
    {
     "data": {
      "application/vnd.jupyter.widget-view+json": {
       "model_id": "f096ef35f9dc496890737dfcf657c118",
       "version_major": 2,
       "version_minor": 0
      },
      "text/plain": [
       "IntProgress(value=0, description='mou_5', max=21)"
      ]
     },
     "metadata": {},
     "output_type": "display_data"
    },
    {
     "data": {
      "application/vnd.jupyter.widget-view+json": {
       "model_id": "8e91b7ceba4b4367bf51d5973361a257",
       "version_major": 2,
       "version_minor": 0
      },
      "text/plain": [
       "IntProgress(value=0, description='mou_5', max=21)"
      ]
     },
     "metadata": {},
     "output_type": "display_data"
    },
    {
     "data": {
      "application/vnd.jupyter.widget-view+json": {
       "model_id": "ca685c732756426ebea354f757ea3e7f",
       "version_major": 2,
       "version_minor": 0
      },
      "text/plain": [
       "IntProgress(value=0, description='mou_5', max=21)"
      ]
     },
     "metadata": {},
     "output_type": "display_data"
    },
    {
     "data": {
      "application/vnd.jupyter.widget-view+json": {
       "model_id": "7667810c16f3410e9344c113a8688d1b",
       "version_major": 2,
       "version_minor": 0
      },
      "text/plain": [
       "IntProgress(value=0, description='mou_5', max=21)"
      ]
     },
     "metadata": {},
     "output_type": "display_data"
    },
    {
     "data": {
      "application/vnd.jupyter.widget-view+json": {
       "model_id": "1d8a4278557a41c48cc1e74218d28a49",
       "version_major": 2,
       "version_minor": 0
      },
      "text/plain": [
       "IntProgress(value=0, description='mou_5', max=21)"
      ]
     },
     "metadata": {},
     "output_type": "display_data"
    },
    {
     "data": {
      "application/vnd.jupyter.widget-view+json": {
       "model_id": "1298c65e3668474798de64f3ec294ee5",
       "version_major": 2,
       "version_minor": 0
      },
      "text/plain": [
       "IntProgress(value=0, description='mou_5', max=21)"
      ]
     },
     "metadata": {},
     "output_type": "display_data"
    },
    {
     "data": {
      "application/vnd.jupyter.widget-view+json": {
       "model_id": "7d40439eaa4f44cc9cecaaba5ec98321",
       "version_major": 2,
       "version_minor": 0
      },
      "text/plain": [
       "IntProgress(value=0, description='mou_5', max=21)"
      ]
     },
     "metadata": {},
     "output_type": "display_data"
    },
    {
     "name": "stdout",
     "output_type": "stream",
     "text": [
      "Warning: skipping session with too few trials 2\n",
      "Warning: skipping session with too few trials 4\n",
      "Warning: skipping session with too few trials 3\n",
      "Warning: skipping session with too few trials 0\n",
      "Warning: skipping session with too few trials 6\n",
      "Warning: skipping session with too few trials 2\n",
      "Warning: skipping session with too few trials 4\n",
      "Warning: skipping session with too few trials 6\n",
      "Warning: skipping session with too few trials 4\n",
      "Warning: skipping session with too few trials 2\n",
      "Warning: skipping session with too few trials 2\n",
      "Warning: skipping session with too few trials 3\n",
      "Warning: skipping session with too few trials 1\n",
      "Warning: skipping session with too few trials 1\n",
      "Warning: skipping session with too few trials 1\n",
      "Warning: skipping session with too few trials 1\n",
      "Warning: skipping session with too few trials 2\n",
      "Warning: skipping session with too few trials 1\n",
      "Warning: skipping session with too few trials 0\n",
      "Warning: skipping session with too few trials 1\n"
     ]
    },
    {
     "data": {
      "application/vnd.jupyter.widget-view+json": {
       "model_id": "6330a192df854d678b34551deec3601c",
       "version_major": 2,
       "version_minor": 0
      },
      "text/plain": [
       "IntProgress(value=0, description='mou_5', max=21)"
      ]
     },
     "metadata": {},
     "output_type": "display_data"
    },
    {
     "name": "stdout",
     "output_type": "stream",
     "text": [
      "Warning: skipping session with too few trials 2\n",
      "Warning: skipping session with too few trials 4\n",
      "Warning: skipping session with too few trials 3\n",
      "Warning: skipping session with too few trials 0\n",
      "Warning: skipping session with too few trials 6\n",
      "Warning: skipping session with too few trials 2\n",
      "Warning: skipping session with too few trials 4\n",
      "Warning: skipping session with too few trials 6\n",
      "Warning: skipping session with too few trials 4\n",
      "Warning: skipping session with too few trials 2\n",
      "Warning: skipping session with too few trials 2\n",
      "Warning: skipping session with too few trials 3\n",
      "Warning: skipping session with too few trials 1\n",
      "Warning: skipping session with too few trials 1\n",
      "Warning: skipping session with too few trials 1\n",
      "Warning: skipping session with too few trials 1\n",
      "Warning: skipping session with too few trials 2\n",
      "Warning: skipping session with too few trials 1\n",
      "Warning: skipping session with too few trials 0\n",
      "Warning: skipping session with too few trials 1\n"
     ]
    },
    {
     "data": {
      "application/vnd.jupyter.widget-view+json": {
       "model_id": "ca6e215622a04f4399c9f41fb6ff22f4",
       "version_major": 2,
       "version_minor": 0
      },
      "text/plain": [
       "IntProgress(value=0, description='mou_5', max=21)"
      ]
     },
     "metadata": {},
     "output_type": "display_data"
    },
    {
     "name": "stdout",
     "output_type": "stream",
     "text": [
      "Warning: skipping session with too few trials 2\n",
      "Warning: skipping session with too few trials 4\n",
      "Warning: skipping session with too few trials 3\n",
      "Warning: skipping session with too few trials 0\n",
      "Warning: skipping session with too few trials 6\n",
      "Warning: skipping session with too few trials 2\n",
      "Warning: skipping session with too few trials 4\n",
      "Warning: skipping session with too few trials 6\n",
      "Warning: skipping session with too few trials 4\n",
      "Warning: skipping session with too few trials 2\n",
      "Warning: skipping session with too few trials 2\n",
      "Warning: skipping session with too few trials 3\n",
      "Warning: skipping session with too few trials 1\n",
      "Warning: skipping session with too few trials 1\n",
      "Warning: skipping session with too few trials 1\n",
      "Warning: skipping session with too few trials 1\n",
      "Warning: skipping session with too few trials 2\n",
      "Warning: skipping session with too few trials 1\n",
      "Warning: skipping session with too few trials 0\n",
      "Warning: skipping session with too few trials 1\n"
     ]
    },
    {
     "data": {
      "application/vnd.jupyter.widget-view+json": {
       "model_id": "a178d4acdd6746c4b28f41d58ca2217f",
       "version_major": 2,
       "version_minor": 0
      },
      "text/plain": [
       "IntProgress(value=0, description='mou_5', max=21)"
      ]
     },
     "metadata": {},
     "output_type": "display_data"
    },
    {
     "name": "stdout",
     "output_type": "stream",
     "text": [
      "Warning: skipping session with too few trials 2\n",
      "Warning: skipping session with too few trials 4\n",
      "Warning: skipping session with too few trials 3\n",
      "Warning: skipping session with too few trials 0\n",
      "Warning: skipping session with too few trials 6\n",
      "Warning: skipping session with too few trials 2\n",
      "Warning: skipping session with too few trials 4\n",
      "Warning: skipping session with too few trials 6\n",
      "Warning: skipping session with too few trials 4\n",
      "Warning: skipping session with too few trials 2\n",
      "Warning: skipping session with too few trials 2\n",
      "Warning: skipping session with too few trials 3\n",
      "Warning: skipping session with too few trials 1\n",
      "Warning: skipping session with too few trials 1\n",
      "Warning: skipping session with too few trials 1\n",
      "Warning: skipping session with too few trials 1\n",
      "Warning: skipping session with too few trials 2\n",
      "Warning: skipping session with too few trials 1\n",
      "Warning: skipping session with too few trials 0\n",
      "Warning: skipping session with too few trials 1\n"
     ]
    },
    {
     "data": {
      "application/vnd.jupyter.widget-view+json": {
       "model_id": "c9399ee1f6824cae9bf4b964305407f6",
       "version_major": 2,
       "version_minor": 0
      },
      "text/plain": [
       "IntProgress(value=0, description='mou_5', max=21)"
      ]
     },
     "metadata": {},
     "output_type": "display_data"
    },
    {
     "name": "stdout",
     "output_type": "stream",
     "text": [
      "Warning: skipping session with too few trials 2\n",
      "Warning: skipping session with too few trials 4\n",
      "Warning: skipping session with too few trials 3\n",
      "Warning: skipping session with too few trials 0\n",
      "Warning: skipping session with too few trials 6\n",
      "Warning: skipping session with too few trials 2\n",
      "Warning: skipping session with too few trials 4\n",
      "Warning: skipping session with too few trials 6\n",
      "Warning: skipping session with too few trials 4\n",
      "Warning: skipping session with too few trials 2\n",
      "Warning: skipping session with too few trials 2\n",
      "Warning: skipping session with too few trials 3\n",
      "Warning: skipping session with too few trials 1\n",
      "Warning: skipping session with too few trials 1\n",
      "Warning: skipping session with too few trials 1\n",
      "Warning: skipping session with too few trials 1\n",
      "Warning: skipping session with too few trials 2\n",
      "Warning: skipping session with too few trials 1\n",
      "Warning: skipping session with too few trials 0\n",
      "Warning: skipping session with too few trials 1\n"
     ]
    },
    {
     "data": {
      "application/vnd.jupyter.widget-view+json": {
       "model_id": "fe97a6beb5fb407bbc4bd11830cb3dd8",
       "version_major": 2,
       "version_minor": 0
      },
      "text/plain": [
       "IntProgress(value=0, description='mou_5', max=21)"
      ]
     },
     "metadata": {},
     "output_type": "display_data"
    },
    {
     "data": {
      "application/vnd.jupyter.widget-view+json": {
       "model_id": "c60d02b7b7c3472d86c3d0655e828dd3",
       "version_major": 2,
       "version_minor": 0
      },
      "text/plain": [
       "IntProgress(value=0, description='mou_5', max=21)"
      ]
     },
     "metadata": {},
     "output_type": "display_data"
    },
    {
     "data": {
      "application/vnd.jupyter.widget-view+json": {
       "model_id": "baedac046433408ab05b00a5078edd91",
       "version_major": 2,
       "version_minor": 0
      },
      "text/plain": [
       "IntProgress(value=0, description='mou_5', max=21)"
      ]
     },
     "metadata": {},
     "output_type": "display_data"
    },
    {
     "data": {
      "application/vnd.jupyter.widget-view+json": {
       "model_id": "718579072f0f4c7aaefdde3ceaec0cd7",
       "version_major": 2,
       "version_minor": 0
      },
      "text/plain": [
       "IntProgress(value=0, description='mou_5', max=21)"
      ]
     },
     "metadata": {},
     "output_type": "display_data"
    },
    {
     "data": {
      "application/vnd.jupyter.widget-view+json": {
       "model_id": "9a4b15b66e574b33aeebd264b7177dbc",
       "version_major": 2,
       "version_minor": 0
      },
      "text/plain": [
       "IntProgress(value=0, description='mou_5', max=21)"
      ]
     },
     "metadata": {},
     "output_type": "display_data"
    },
    {
     "data": {
      "application/vnd.jupyter.widget-view+json": {
       "model_id": "aa05c668c4b24aff9c33c8428d5b90bf",
       "version_major": 2,
       "version_minor": 0
      },
      "text/plain": [
       "IntProgress(value=0, description='mou_5', max=21)"
      ]
     },
     "metadata": {},
     "output_type": "display_data"
    },
    {
     "name": "stdout",
     "output_type": "stream",
     "text": [
      "Warning: skipping session with too few trials 3\n",
      "Warning: skipping session with too few trials 1\n",
      "Warning: skipping session with too few trials 2\n",
      "Warning: skipping session with too few trials 3\n",
      "Warning: skipping session with too few trials 9\n",
      "Warning: skipping session with too few trials 1\n",
      "Warning: skipping session with too few trials 2\n",
      "Warning: skipping session with too few trials 2\n",
      "Warning: skipping session with too few trials 7\n",
      "Warning: skipping session with too few trials 2\n",
      "Warning: skipping session with too few trials 3\n",
      "Warning: skipping session with too few trials 0\n",
      "Warning: skipping session with too few trials 3\n",
      "Warning: skipping session with too few trials 0\n",
      "Warning: skipping session with too few trials 5\n",
      "Warning: skipping session with too few trials 8\n",
      "Warning: skipping session with too few trials 1\n"
     ]
    },
    {
     "data": {
      "application/vnd.jupyter.widget-view+json": {
       "model_id": "920f08be2ddf427ca81d8dca88275cf6",
       "version_major": 2,
       "version_minor": 0
      },
      "text/plain": [
       "IntProgress(value=0, description='mou_5', max=21)"
      ]
     },
     "metadata": {},
     "output_type": "display_data"
    },
    {
     "name": "stdout",
     "output_type": "stream",
     "text": [
      "Warning: skipping session with too few trials 3\n",
      "Warning: skipping session with too few trials 1\n",
      "Warning: skipping session with too few trials 2\n",
      "Warning: skipping session with too few trials 3\n",
      "Warning: skipping session with too few trials 9\n",
      "Warning: skipping session with too few trials 1\n",
      "Warning: skipping session with too few trials 2\n",
      "Warning: skipping session with too few trials 2\n",
      "Warning: skipping session with too few trials 7\n",
      "Warning: skipping session with too few trials 2\n",
      "Warning: skipping session with too few trials 3\n",
      "Warning: skipping session with too few trials 0\n",
      "Warning: skipping session with too few trials 3\n",
      "Warning: skipping session with too few trials 0\n",
      "Warning: skipping session with too few trials 5\n",
      "Warning: skipping session with too few trials 8\n",
      "Warning: skipping session with too few trials 1\n"
     ]
    },
    {
     "data": {
      "application/vnd.jupyter.widget-view+json": {
       "model_id": "1c33b639b09645a8b4d651e3c6bb130a",
       "version_major": 2,
       "version_minor": 0
      },
      "text/plain": [
       "IntProgress(value=0, description='mou_5', max=21)"
      ]
     },
     "metadata": {},
     "output_type": "display_data"
    },
    {
     "name": "stdout",
     "output_type": "stream",
     "text": [
      "Warning: skipping session with too few trials 3\n",
      "Warning: skipping session with too few trials 1\n",
      "Warning: skipping session with too few trials 2\n",
      "Warning: skipping session with too few trials 3\n",
      "Warning: skipping session with too few trials 9\n",
      "Warning: skipping session with too few trials 1\n",
      "Warning: skipping session with too few trials 2\n",
      "Warning: skipping session with too few trials 2\n",
      "Warning: skipping session with too few trials 7\n",
      "Warning: skipping session with too few trials 2\n",
      "Warning: skipping session with too few trials 3\n",
      "Warning: skipping session with too few trials 0\n",
      "Warning: skipping session with too few trials 3\n",
      "Warning: skipping session with too few trials 0\n",
      "Warning: skipping session with too few trials 5\n",
      "Warning: skipping session with too few trials 8\n",
      "Warning: skipping session with too few trials 1\n"
     ]
    },
    {
     "data": {
      "application/vnd.jupyter.widget-view+json": {
       "model_id": "732a7123224d4a89bc8bf97b54097bd0",
       "version_major": 2,
       "version_minor": 0
      },
      "text/plain": [
       "IntProgress(value=0, description='mou_5', max=21)"
      ]
     },
     "metadata": {},
     "output_type": "display_data"
    },
    {
     "name": "stdout",
     "output_type": "stream",
     "text": [
      "Warning: skipping session with too few trials 3\n",
      "Warning: skipping session with too few trials 1\n",
      "Warning: skipping session with too few trials 2\n",
      "Warning: skipping session with too few trials 3\n",
      "Warning: skipping session with too few trials 9\n",
      "Warning: skipping session with too few trials 1\n",
      "Warning: skipping session with too few trials 2\n",
      "Warning: skipping session with too few trials 2\n",
      "Warning: skipping session with too few trials 7\n",
      "Warning: skipping session with too few trials 2\n",
      "Warning: skipping session with too few trials 3\n",
      "Warning: skipping session with too few trials 0\n",
      "Warning: skipping session with too few trials 3\n",
      "Warning: skipping session with too few trials 0\n",
      "Warning: skipping session with too few trials 5\n",
      "Warning: skipping session with too few trials 8\n",
      "Warning: skipping session with too few trials 1\n"
     ]
    },
    {
     "data": {
      "application/vnd.jupyter.widget-view+json": {
       "model_id": "048861e74a72497bb03729b2634be40d",
       "version_major": 2,
       "version_minor": 0
      },
      "text/plain": [
       "IntProgress(value=0, description='mou_5', max=21)"
      ]
     },
     "metadata": {},
     "output_type": "display_data"
    },
    {
     "name": "stdout",
     "output_type": "stream",
     "text": [
      "Warning: skipping session with too few trials 3\n",
      "Warning: skipping session with too few trials 1\n",
      "Warning: skipping session with too few trials 2\n",
      "Warning: skipping session with too few trials 3\n",
      "Warning: skipping session with too few trials 9\n",
      "Warning: skipping session with too few trials 1\n",
      "Warning: skipping session with too few trials 2\n",
      "Warning: skipping session with too few trials 2\n",
      "Warning: skipping session with too few trials 7\n",
      "Warning: skipping session with too few trials 2\n",
      "Warning: skipping session with too few trials 3\n",
      "Warning: skipping session with too few trials 0\n",
      "Warning: skipping session with too few trials 3\n",
      "Warning: skipping session with too few trials 0\n",
      "Warning: skipping session with too few trials 5\n",
      "Warning: skipping session with too few trials 8\n",
      "Warning: skipping session with too few trials 1\n"
     ]
    },
    {
     "data": {
      "application/vnd.jupyter.widget-view+json": {
       "model_id": "cf4c615a5d874b828cab84b59db20083",
       "version_major": 2,
       "version_minor": 0
      },
      "text/plain": [
       "IntProgress(value=0, description='mou_5', max=21)"
      ]
     },
     "metadata": {},
     "output_type": "display_data"
    },
    {
     "data": {
      "application/vnd.jupyter.widget-view+json": {
       "model_id": "3d6449535f7942ddb210e3a03588364a",
       "version_major": 2,
       "version_minor": 0
      },
      "text/plain": [
       "IntProgress(value=0, description='mou_5', max=21)"
      ]
     },
     "metadata": {},
     "output_type": "display_data"
    },
    {
     "data": {
      "application/vnd.jupyter.widget-view+json": {
       "model_id": "260b22599ec2473c82846bdae723462c",
       "version_major": 2,
       "version_minor": 0
      },
      "text/plain": [
       "IntProgress(value=0, description='mou_5', max=21)"
      ]
     },
     "metadata": {},
     "output_type": "display_data"
    },
    {
     "data": {
      "application/vnd.jupyter.widget-view+json": {
       "model_id": "0eab140175e740d0a60af2708d3376b3",
       "version_major": 2,
       "version_minor": 0
      },
      "text/plain": [
       "IntProgress(value=0, description='mou_5', max=21)"
      ]
     },
     "metadata": {},
     "output_type": "display_data"
    },
    {
     "data": {
      "application/vnd.jupyter.widget-view+json": {
       "model_id": "ecc13b5b1de84711843978e63ab6959f",
       "version_major": 2,
       "version_minor": 0
      },
      "text/plain": [
       "IntProgress(value=0, description='mou_5', max=21)"
      ]
     },
     "metadata": {},
     "output_type": "display_data"
    },
    {
     "data": {
      "application/vnd.jupyter.widget-view+json": {
       "model_id": "ca44d1f0df1345b78d3c102bdfca5249",
       "version_major": 2,
       "version_minor": 0
      },
      "text/plain": [
       "IntProgress(value=0, description='mou_5', max=21)"
      ]
     },
     "metadata": {},
     "output_type": "display_data"
    },
    {
     "data": {
      "application/vnd.jupyter.widget-view+json": {
       "model_id": "2cffa58ddaa54095ad73fd8c762b5dbe",
       "version_major": 2,
       "version_minor": 0
      },
      "text/plain": [
       "IntProgress(value=0, description='mou_5', max=21)"
      ]
     },
     "metadata": {},
     "output_type": "display_data"
    },
    {
     "data": {
      "application/vnd.jupyter.widget-view+json": {
       "model_id": "698578c588e2445992b07e6bdfe31572",
       "version_major": 2,
       "version_minor": 0
      },
      "text/plain": [
       "IntProgress(value=0, description='mou_5', max=21)"
      ]
     },
     "metadata": {},
     "output_type": "display_data"
    },
    {
     "data": {
      "application/vnd.jupyter.widget-view+json": {
       "model_id": "9c07d3846113406ea90bbe1e697ffcb2",
       "version_major": 2,
       "version_minor": 0
      },
      "text/plain": [
       "IntProgress(value=0, description='mou_5', max=21)"
      ]
     },
     "metadata": {},
     "output_type": "display_data"
    },
    {
     "data": {
      "application/vnd.jupyter.widget-view+json": {
       "model_id": "0149729b40b84aa59334f191e5984a00",
       "version_major": 2,
       "version_minor": 0
      },
      "text/plain": [
       "IntProgress(value=0, description='mou_5', max=21)"
      ]
     },
     "metadata": {},
     "output_type": "display_data"
    },
    {
     "data": {
      "application/vnd.jupyter.widget-view+json": {
       "model_id": "a6f5f99a6da14b75a4e9637aab895988",
       "version_major": 2,
       "version_minor": 0
      },
      "text/plain": [
       "IntProgress(value=0, description='mou_5', max=21)"
      ]
     },
     "metadata": {},
     "output_type": "display_data"
    },
    {
     "name": "stdout",
     "output_type": "stream",
     "text": [
      "Warning: skipping session with too few trials 2\n",
      "Warning: skipping session with too few trials 4\n",
      "Warning: skipping session with too few trials 3\n",
      "Warning: skipping session with too few trials 0\n",
      "Warning: skipping session with too few trials 6\n",
      "Warning: skipping session with too few trials 2\n",
      "Warning: skipping session with too few trials 4\n",
      "Warning: skipping session with too few trials 6\n",
      "Warning: skipping session with too few trials 4\n",
      "Warning: skipping session with too few trials 2\n",
      "Warning: skipping session with too few trials 2\n",
      "Warning: skipping session with too few trials 3\n",
      "Warning: skipping session with too few trials 1\n",
      "Warning: skipping session with too few trials 1\n",
      "Warning: skipping session with too few trials 1\n",
      "Warning: skipping session with too few trials 1\n",
      "Warning: skipping session with too few trials 2\n",
      "Warning: skipping session with too few trials 1\n",
      "Warning: skipping session with too few trials 0\n",
      "Warning: skipping session with too few trials 1\n"
     ]
    },
    {
     "data": {
      "application/vnd.jupyter.widget-view+json": {
       "model_id": "8b53ab9feebb4ae69f6b2619e6891188",
       "version_major": 2,
       "version_minor": 0
      },
      "text/plain": [
       "IntProgress(value=0, description='mou_5', max=21)"
      ]
     },
     "metadata": {},
     "output_type": "display_data"
    },
    {
     "name": "stdout",
     "output_type": "stream",
     "text": [
      "Warning: skipping session with too few trials 2\n",
      "Warning: skipping session with too few trials 4\n",
      "Warning: skipping session with too few trials 3\n",
      "Warning: skipping session with too few trials 0\n",
      "Warning: skipping session with too few trials 6\n",
      "Warning: skipping session with too few trials 2\n",
      "Warning: skipping session with too few trials 4\n",
      "Warning: skipping session with too few trials 6\n",
      "Warning: skipping session with too few trials 4\n",
      "Warning: skipping session with too few trials 2\n",
      "Warning: skipping session with too few trials 2\n",
      "Warning: skipping session with too few trials 3\n",
      "Warning: skipping session with too few trials 1\n",
      "Warning: skipping session with too few trials 1\n",
      "Warning: skipping session with too few trials 1\n",
      "Warning: skipping session with too few trials 1\n",
      "Warning: skipping session with too few trials 2\n",
      "Warning: skipping session with too few trials 1\n",
      "Warning: skipping session with too few trials 0\n",
      "Warning: skipping session with too few trials 1\n"
     ]
    },
    {
     "data": {
      "application/vnd.jupyter.widget-view+json": {
       "model_id": "8c314ac514b24095beec21aaaec34620",
       "version_major": 2,
       "version_minor": 0
      },
      "text/plain": [
       "IntProgress(value=0, description='mou_5', max=21)"
      ]
     },
     "metadata": {},
     "output_type": "display_data"
    },
    {
     "name": "stdout",
     "output_type": "stream",
     "text": [
      "Warning: skipping session with too few trials 2\n",
      "Warning: skipping session with too few trials 4\n",
      "Warning: skipping session with too few trials 3\n",
      "Warning: skipping session with too few trials 0\n",
      "Warning: skipping session with too few trials 6\n",
      "Warning: skipping session with too few trials 2\n",
      "Warning: skipping session with too few trials 4\n",
      "Warning: skipping session with too few trials 6\n",
      "Warning: skipping session with too few trials 4\n",
      "Warning: skipping session with too few trials 2\n",
      "Warning: skipping session with too few trials 2\n",
      "Warning: skipping session with too few trials 3\n",
      "Warning: skipping session with too few trials 1\n",
      "Warning: skipping session with too few trials 1\n",
      "Warning: skipping session with too few trials 1\n",
      "Warning: skipping session with too few trials 1\n",
      "Warning: skipping session with too few trials 2\n",
      "Warning: skipping session with too few trials 1\n",
      "Warning: skipping session with too few trials 0\n",
      "Warning: skipping session with too few trials 1\n"
     ]
    },
    {
     "data": {
      "application/vnd.jupyter.widget-view+json": {
       "model_id": "6c7a07416491497a849f0594b6b373a7",
       "version_major": 2,
       "version_minor": 0
      },
      "text/plain": [
       "IntProgress(value=0, description='mou_5', max=21)"
      ]
     },
     "metadata": {},
     "output_type": "display_data"
    },
    {
     "name": "stdout",
     "output_type": "stream",
     "text": [
      "Warning: skipping session with too few trials 2\n",
      "Warning: skipping session with too few trials 4\n",
      "Warning: skipping session with too few trials 3\n",
      "Warning: skipping session with too few trials 0\n",
      "Warning: skipping session with too few trials 6\n",
      "Warning: skipping session with too few trials 2\n",
      "Warning: skipping session with too few trials 4\n",
      "Warning: skipping session with too few trials 6\n",
      "Warning: skipping session with too few trials 4\n",
      "Warning: skipping session with too few trials 2\n",
      "Warning: skipping session with too few trials 2\n",
      "Warning: skipping session with too few trials 3\n",
      "Warning: skipping session with too few trials 1\n",
      "Warning: skipping session with too few trials 1\n",
      "Warning: skipping session with too few trials 1\n",
      "Warning: skipping session with too few trials 1\n",
      "Warning: skipping session with too few trials 2\n",
      "Warning: skipping session with too few trials 1\n",
      "Warning: skipping session with too few trials 0\n",
      "Warning: skipping session with too few trials 1\n"
     ]
    },
    {
     "data": {
      "application/vnd.jupyter.widget-view+json": {
       "model_id": "fd903774492945749e2b4fe51c0ffa27",
       "version_major": 2,
       "version_minor": 0
      },
      "text/plain": [
       "IntProgress(value=0, description='mou_5', max=21)"
      ]
     },
     "metadata": {},
     "output_type": "display_data"
    },
    {
     "name": "stdout",
     "output_type": "stream",
     "text": [
      "Warning: skipping session with too few trials 2\n",
      "Warning: skipping session with too few trials 4\n",
      "Warning: skipping session with too few trials 3\n",
      "Warning: skipping session with too few trials 0\n",
      "Warning: skipping session with too few trials 6\n",
      "Warning: skipping session with too few trials 2\n",
      "Warning: skipping session with too few trials 4\n",
      "Warning: skipping session with too few trials 6\n",
      "Warning: skipping session with too few trials 4\n",
      "Warning: skipping session with too few trials 2\n",
      "Warning: skipping session with too few trials 2\n",
      "Warning: skipping session with too few trials 3\n",
      "Warning: skipping session with too few trials 1\n",
      "Warning: skipping session with too few trials 1\n",
      "Warning: skipping session with too few trials 1\n",
      "Warning: skipping session with too few trials 1\n",
      "Warning: skipping session with too few trials 2\n",
      "Warning: skipping session with too few trials 1\n",
      "Warning: skipping session with too few trials 0\n",
      "Warning: skipping session with too few trials 1\n"
     ]
    },
    {
     "data": {
      "application/vnd.jupyter.widget-view+json": {
       "model_id": "bdd999c257a0489fb65f8f93b54279f7",
       "version_major": 2,
       "version_minor": 0
      },
      "text/plain": [
       "IntProgress(value=0, description='mou_5', max=21)"
      ]
     },
     "metadata": {},
     "output_type": "display_data"
    },
    {
     "data": {
      "application/vnd.jupyter.widget-view+json": {
       "model_id": "7c8429dd90b94c49aa3885496c24cafd",
       "version_major": 2,
       "version_minor": 0
      },
      "text/plain": [
       "IntProgress(value=0, description='mou_5', max=21)"
      ]
     },
     "metadata": {},
     "output_type": "display_data"
    },
    {
     "data": {
      "application/vnd.jupyter.widget-view+json": {
       "model_id": "09b927dee6f341cdb7eb5995a9d6cca7",
       "version_major": 2,
       "version_minor": 0
      },
      "text/plain": [
       "IntProgress(value=0, description='mou_5', max=21)"
      ]
     },
     "metadata": {},
     "output_type": "display_data"
    },
    {
     "data": {
      "application/vnd.jupyter.widget-view+json": {
       "model_id": "6cc0c40bb522486fa8c492c5ba4cefe2",
       "version_major": 2,
       "version_minor": 0
      },
      "text/plain": [
       "IntProgress(value=0, description='mou_5', max=21)"
      ]
     },
     "metadata": {},
     "output_type": "display_data"
    },
    {
     "data": {
      "application/vnd.jupyter.widget-view+json": {
       "model_id": "94a8b691e4294d3fb41e04a202f30476",
       "version_major": 2,
       "version_minor": 0
      },
      "text/plain": [
       "IntProgress(value=0, description='mou_5', max=21)"
      ]
     },
     "metadata": {},
     "output_type": "display_data"
    },
    {
     "data": {
      "application/vnd.jupyter.widget-view+json": {
       "model_id": "021f9d32202e447f86b9d1031c37c82a",
       "version_major": 2,
       "version_minor": 0
      },
      "text/plain": [
       "IntProgress(value=0, description='mou_5', max=21)"
      ]
     },
     "metadata": {},
     "output_type": "display_data"
    },
    {
     "name": "stdout",
     "output_type": "stream",
     "text": [
      "Warning: skipping session with too few trials 3\n",
      "Warning: skipping session with too few trials 1\n",
      "Warning: skipping session with too few trials 2\n",
      "Warning: skipping session with too few trials 3\n",
      "Warning: skipping session with too few trials 9\n",
      "Warning: skipping session with too few trials 1\n",
      "Warning: skipping session with too few trials 2\n",
      "Warning: skipping session with too few trials 2\n",
      "Warning: skipping session with too few trials 7\n",
      "Warning: skipping session with too few trials 2\n",
      "Warning: skipping session with too few trials 3\n",
      "Warning: skipping session with too few trials 0\n",
      "Warning: skipping session with too few trials 3\n",
      "Warning: skipping session with too few trials 0\n",
      "Warning: skipping session with too few trials 5\n",
      "Warning: skipping session with too few trials 8\n",
      "Warning: skipping session with too few trials 1\n"
     ]
    },
    {
     "data": {
      "application/vnd.jupyter.widget-view+json": {
       "model_id": "31bebb2622bd4b49a4a2089fe7afb0b8",
       "version_major": 2,
       "version_minor": 0
      },
      "text/plain": [
       "IntProgress(value=0, description='mou_5', max=21)"
      ]
     },
     "metadata": {},
     "output_type": "display_data"
    },
    {
     "name": "stdout",
     "output_type": "stream",
     "text": [
      "Warning: skipping session with too few trials 3\n",
      "Warning: skipping session with too few trials 1\n",
      "Warning: skipping session with too few trials 2\n",
      "Warning: skipping session with too few trials 3\n",
      "Warning: skipping session with too few trials 9\n",
      "Warning: skipping session with too few trials 1\n",
      "Warning: skipping session with too few trials 2\n",
      "Warning: skipping session with too few trials 2\n",
      "Warning: skipping session with too few trials 7\n",
      "Warning: skipping session with too few trials 2\n",
      "Warning: skipping session with too few trials 3\n",
      "Warning: skipping session with too few trials 0\n",
      "Warning: skipping session with too few trials 3\n",
      "Warning: skipping session with too few trials 0\n",
      "Warning: skipping session with too few trials 5\n",
      "Warning: skipping session with too few trials 8\n",
      "Warning: skipping session with too few trials 1\n"
     ]
    },
    {
     "data": {
      "application/vnd.jupyter.widget-view+json": {
       "model_id": "9f1a3e04d40e406b9cf32ad2ad44c4a7",
       "version_major": 2,
       "version_minor": 0
      },
      "text/plain": [
       "IntProgress(value=0, description='mou_5', max=21)"
      ]
     },
     "metadata": {},
     "output_type": "display_data"
    },
    {
     "name": "stdout",
     "output_type": "stream",
     "text": [
      "Warning: skipping session with too few trials 3\n",
      "Warning: skipping session with too few trials 1\n",
      "Warning: skipping session with too few trials 2\n",
      "Warning: skipping session with too few trials 3\n",
      "Warning: skipping session with too few trials 9\n",
      "Warning: skipping session with too few trials 1\n",
      "Warning: skipping session with too few trials 2\n",
      "Warning: skipping session with too few trials 2\n",
      "Warning: skipping session with too few trials 7\n",
      "Warning: skipping session with too few trials 2\n",
      "Warning: skipping session with too few trials 3\n",
      "Warning: skipping session with too few trials 0\n",
      "Warning: skipping session with too few trials 3\n",
      "Warning: skipping session with too few trials 0\n",
      "Warning: skipping session with too few trials 5\n",
      "Warning: skipping session with too few trials 8\n",
      "Warning: skipping session with too few trials 1\n"
     ]
    },
    {
     "data": {
      "application/vnd.jupyter.widget-view+json": {
       "model_id": "8458cd2104ef4faaa32428c91311afc2",
       "version_major": 2,
       "version_minor": 0
      },
      "text/plain": [
       "IntProgress(value=0, description='mou_5', max=21)"
      ]
     },
     "metadata": {},
     "output_type": "display_data"
    },
    {
     "name": "stdout",
     "output_type": "stream",
     "text": [
      "Warning: skipping session with too few trials 3\n",
      "Warning: skipping session with too few trials 1\n",
      "Warning: skipping session with too few trials 2\n",
      "Warning: skipping session with too few trials 3\n",
      "Warning: skipping session with too few trials 9\n",
      "Warning: skipping session with too few trials 1\n",
      "Warning: skipping session with too few trials 2\n",
      "Warning: skipping session with too few trials 2\n",
      "Warning: skipping session with too few trials 7\n",
      "Warning: skipping session with too few trials 2\n",
      "Warning: skipping session with too few trials 3\n",
      "Warning: skipping session with too few trials 0\n",
      "Warning: skipping session with too few trials 3\n",
      "Warning: skipping session with too few trials 0\n",
      "Warning: skipping session with too few trials 5\n",
      "Warning: skipping session with too few trials 8\n",
      "Warning: skipping session with too few trials 1\n"
     ]
    },
    {
     "data": {
      "application/vnd.jupyter.widget-view+json": {
       "model_id": "5efb75d45c2b479380e03c47a8f69bb7",
       "version_major": 2,
       "version_minor": 0
      },
      "text/plain": [
       "IntProgress(value=0, description='mou_5', max=21)"
      ]
     },
     "metadata": {},
     "output_type": "display_data"
    },
    {
     "name": "stdout",
     "output_type": "stream",
     "text": [
      "Warning: skipping session with too few trials 3\n",
      "Warning: skipping session with too few trials 1\n",
      "Warning: skipping session with too few trials 2\n",
      "Warning: skipping session with too few trials 3\n",
      "Warning: skipping session with too few trials 9\n",
      "Warning: skipping session with too few trials 1\n",
      "Warning: skipping session with too few trials 2\n",
      "Warning: skipping session with too few trials 2\n",
      "Warning: skipping session with too few trials 7\n",
      "Warning: skipping session with too few trials 2\n",
      "Warning: skipping session with too few trials 3\n",
      "Warning: skipping session with too few trials 0\n",
      "Warning: skipping session with too few trials 3\n",
      "Warning: skipping session with too few trials 0\n",
      "Warning: skipping session with too few trials 5\n",
      "Warning: skipping session with too few trials 8\n",
      "Warning: skipping session with too few trials 1\n"
     ]
    },
    {
     "data": {
      "application/vnd.jupyter.widget-view+json": {
       "model_id": "43d6f115b45e48248a9606a1bd47d34e",
       "version_major": 2,
       "version_minor": 0
      },
      "text/plain": [
       "IntProgress(value=0, description='mou_5', max=21)"
      ]
     },
     "metadata": {},
     "output_type": "display_data"
    },
    {
     "data": {
      "application/vnd.jupyter.widget-view+json": {
       "model_id": "e734e5f2c4b74c1bb88e71b5d55fd198",
       "version_major": 2,
       "version_minor": 0
      },
      "text/plain": [
       "IntProgress(value=0, description='mou_5', max=21)"
      ]
     },
     "metadata": {},
     "output_type": "display_data"
    },
    {
     "data": {
      "application/vnd.jupyter.widget-view+json": {
       "model_id": "887659085051435783167ca8b013715e",
       "version_major": 2,
       "version_minor": 0
      },
      "text/plain": [
       "IntProgress(value=0, description='mou_5', max=21)"
      ]
     },
     "metadata": {},
     "output_type": "display_data"
    },
    {
     "data": {
      "application/vnd.jupyter.widget-view+json": {
       "model_id": "9bce670a204b45549108904a6e58274c",
       "version_major": 2,
       "version_minor": 0
      },
      "text/plain": [
       "IntProgress(value=0, description='mou_5', max=21)"
      ]
     },
     "metadata": {},
     "output_type": "display_data"
    },
    {
     "data": {
      "application/vnd.jupyter.widget-view+json": {
       "model_id": "d52bd0491f864a8b90d688d71a6eb7bd",
       "version_major": 2,
       "version_minor": 0
      },
      "text/plain": [
       "IntProgress(value=0, description='mou_5', max=21)"
      ]
     },
     "metadata": {},
     "output_type": "display_data"
    },
    {
     "data": {
      "application/vnd.jupyter.widget-view+json": {
       "model_id": "af570dc6301c4e1893ae2662ef30e7ca",
       "version_major": 2,
       "version_minor": 0
      },
      "text/plain": [
       "IntProgress(value=0, description='mou_5', max=21)"
      ]
     },
     "metadata": {},
     "output_type": "display_data"
    },
    {
     "data": {
      "application/vnd.jupyter.widget-view+json": {
       "model_id": "23f7758355de41b08480307266142f6d",
       "version_major": 2,
       "version_minor": 0
      },
      "text/plain": [
       "IntProgress(value=0, description='mou_5', max=21)"
      ]
     },
     "metadata": {},
     "output_type": "display_data"
    },
    {
     "data": {
      "application/vnd.jupyter.widget-view+json": {
       "model_id": "89ef1cf986ce46118c2141a1417641f4",
       "version_major": 2,
       "version_minor": 0
      },
      "text/plain": [
       "IntProgress(value=0, description='mou_5', max=21)"
      ]
     },
     "metadata": {},
     "output_type": "display_data"
    },
    {
     "data": {
      "application/vnd.jupyter.widget-view+json": {
       "model_id": "508ed3b49ced469da8ccafa6be56aafc",
       "version_major": 2,
       "version_minor": 0
      },
      "text/plain": [
       "IntProgress(value=0, description='mou_5', max=21)"
      ]
     },
     "metadata": {},
     "output_type": "display_data"
    },
    {
     "name": "stdout",
     "output_type": "stream",
     "text": [
      "Warning: skipping session with too few trials 2\n",
      "Warning: skipping session with too few trials 4\n",
      "Warning: skipping session with too few trials 3\n",
      "Warning: skipping session with too few trials 0\n",
      "Warning: skipping session with too few trials 6\n",
      "Warning: skipping session with too few trials 2\n",
      "Warning: skipping session with too few trials 4\n",
      "Warning: skipping session with too few trials 6\n",
      "Warning: skipping session with too few trials 4\n",
      "Warning: skipping session with too few trials 2\n",
      "Warning: skipping session with too few trials 2\n",
      "Warning: skipping session with too few trials 3\n",
      "Warning: skipping session with too few trials 1\n",
      "Warning: skipping session with too few trials 1\n",
      "Warning: skipping session with too few trials 1\n",
      "Warning: skipping session with too few trials 1\n",
      "Warning: skipping session with too few trials 2\n",
      "Warning: skipping session with too few trials 1\n",
      "Warning: skipping session with too few trials 0\n",
      "Warning: skipping session with too few trials 1\n"
     ]
    },
    {
     "data": {
      "application/vnd.jupyter.widget-view+json": {
       "model_id": "99f39af2ae6e4d6f9d526fd9e9dee68a",
       "version_major": 2,
       "version_minor": 0
      },
      "text/plain": [
       "IntProgress(value=0, description='mou_5', max=21)"
      ]
     },
     "metadata": {},
     "output_type": "display_data"
    },
    {
     "name": "stdout",
     "output_type": "stream",
     "text": [
      "Warning: skipping session with too few trials 2\n",
      "Warning: skipping session with too few trials 4\n",
      "Warning: skipping session with too few trials 3\n",
      "Warning: skipping session with too few trials 0\n",
      "Warning: skipping session with too few trials 6\n",
      "Warning: skipping session with too few trials 2\n",
      "Warning: skipping session with too few trials 4\n",
      "Warning: skipping session with too few trials 6\n",
      "Warning: skipping session with too few trials 4\n",
      "Warning: skipping session with too few trials 2\n",
      "Warning: skipping session with too few trials 2\n",
      "Warning: skipping session with too few trials 3\n",
      "Warning: skipping session with too few trials 1\n",
      "Warning: skipping session with too few trials 1\n",
      "Warning: skipping session with too few trials 1\n",
      "Warning: skipping session with too few trials 1\n",
      "Warning: skipping session with too few trials 2\n",
      "Warning: skipping session with too few trials 1\n",
      "Warning: skipping session with too few trials 0\n",
      "Warning: skipping session with too few trials 1\n"
     ]
    },
    {
     "data": {
      "application/vnd.jupyter.widget-view+json": {
       "model_id": "5fa43929405149b19702dda789e66037",
       "version_major": 2,
       "version_minor": 0
      },
      "text/plain": [
       "IntProgress(value=0, description='mou_5', max=21)"
      ]
     },
     "metadata": {},
     "output_type": "display_data"
    },
    {
     "name": "stdout",
     "output_type": "stream",
     "text": [
      "Warning: skipping session with too few trials 2\n",
      "Warning: skipping session with too few trials 4\n",
      "Warning: skipping session with too few trials 3\n",
      "Warning: skipping session with too few trials 0\n",
      "Warning: skipping session with too few trials 6\n",
      "Warning: skipping session with too few trials 2\n",
      "Warning: skipping session with too few trials 4\n",
      "Warning: skipping session with too few trials 6\n",
      "Warning: skipping session with too few trials 4\n",
      "Warning: skipping session with too few trials 2\n",
      "Warning: skipping session with too few trials 2\n",
      "Warning: skipping session with too few trials 3\n",
      "Warning: skipping session with too few trials 1\n",
      "Warning: skipping session with too few trials 1\n",
      "Warning: skipping session with too few trials 1\n",
      "Warning: skipping session with too few trials 1\n",
      "Warning: skipping session with too few trials 2\n",
      "Warning: skipping session with too few trials 1\n",
      "Warning: skipping session with too few trials 0\n",
      "Warning: skipping session with too few trials 1\n"
     ]
    },
    {
     "data": {
      "application/vnd.jupyter.widget-view+json": {
       "model_id": "8b48764dd6294292b150492d6b6dd494",
       "version_major": 2,
       "version_minor": 0
      },
      "text/plain": [
       "IntProgress(value=0, description='mou_5', max=21)"
      ]
     },
     "metadata": {},
     "output_type": "display_data"
    },
    {
     "name": "stdout",
     "output_type": "stream",
     "text": [
      "Warning: skipping session with too few trials 2\n",
      "Warning: skipping session with too few trials 4\n",
      "Warning: skipping session with too few trials 3\n",
      "Warning: skipping session with too few trials 0\n",
      "Warning: skipping session with too few trials 6\n",
      "Warning: skipping session with too few trials 2\n",
      "Warning: skipping session with too few trials 4\n",
      "Warning: skipping session with too few trials 6\n",
      "Warning: skipping session with too few trials 4\n",
      "Warning: skipping session with too few trials 2\n",
      "Warning: skipping session with too few trials 2\n",
      "Warning: skipping session with too few trials 3\n",
      "Warning: skipping session with too few trials 1\n",
      "Warning: skipping session with too few trials 1\n",
      "Warning: skipping session with too few trials 1\n",
      "Warning: skipping session with too few trials 1\n",
      "Warning: skipping session with too few trials 2\n",
      "Warning: skipping session with too few trials 1\n",
      "Warning: skipping session with too few trials 0\n",
      "Warning: skipping session with too few trials 1\n"
     ]
    },
    {
     "data": {
      "application/vnd.jupyter.widget-view+json": {
       "model_id": "40201430f04e4adeb795fdf9f633297f",
       "version_major": 2,
       "version_minor": 0
      },
      "text/plain": [
       "IntProgress(value=0, description='mou_5', max=21)"
      ]
     },
     "metadata": {},
     "output_type": "display_data"
    },
    {
     "data": {
      "application/vnd.jupyter.widget-view+json": {
       "model_id": "0747ae36da1d48cb990e046ce3369d14",
       "version_major": 2,
       "version_minor": 0
      },
      "text/plain": [
       "IntProgress(value=0, description='mou_5', max=21)"
      ]
     },
     "metadata": {},
     "output_type": "display_data"
    },
    {
     "data": {
      "application/vnd.jupyter.widget-view+json": {
       "model_id": "ed2ac011c73343f9bef9eb4585b0b42b",
       "version_major": 2,
       "version_minor": 0
      },
      "text/plain": [
       "IntProgress(value=0, description='mou_5', max=21)"
      ]
     },
     "metadata": {},
     "output_type": "display_data"
    },
    {
     "data": {
      "application/vnd.jupyter.widget-view+json": {
       "model_id": "7ad7853d9ba0425885e76cd288bc6b17",
       "version_major": 2,
       "version_minor": 0
      },
      "text/plain": [
       "IntProgress(value=0, description='mou_5', max=21)"
      ]
     },
     "metadata": {},
     "output_type": "display_data"
    },
    {
     "data": {
      "application/vnd.jupyter.widget-view+json": {
       "model_id": "b4cc540ca46542e3b00eda4265bed179",
       "version_major": 2,
       "version_minor": 0
      },
      "text/plain": [
       "IntProgress(value=0, description='mou_5', max=21)"
      ]
     },
     "metadata": {},
     "output_type": "display_data"
    },
    {
     "name": "stdout",
     "output_type": "stream",
     "text": [
      "Warning: skipping session with too few trials 3\n",
      "Warning: skipping session with too few trials 1\n",
      "Warning: skipping session with too few trials 2\n",
      "Warning: skipping session with too few trials 3\n",
      "Warning: skipping session with too few trials 9\n",
      "Warning: skipping session with too few trials 1\n",
      "Warning: skipping session with too few trials 2\n",
      "Warning: skipping session with too few trials 2\n",
      "Warning: skipping session with too few trials 7\n",
      "Warning: skipping session with too few trials 2\n",
      "Warning: skipping session with too few trials 3\n",
      "Warning: skipping session with too few trials 0\n",
      "Warning: skipping session with too few trials 3\n",
      "Warning: skipping session with too few trials 0\n",
      "Warning: skipping session with too few trials 5\n",
      "Warning: skipping session with too few trials 8\n",
      "Warning: skipping session with too few trials 1\n"
     ]
    },
    {
     "data": {
      "application/vnd.jupyter.widget-view+json": {
       "model_id": "1f7d88c823304fb4a62f70106f0038b1",
       "version_major": 2,
       "version_minor": 0
      },
      "text/plain": [
       "IntProgress(value=0, description='mou_5', max=21)"
      ]
     },
     "metadata": {},
     "output_type": "display_data"
    },
    {
     "name": "stdout",
     "output_type": "stream",
     "text": [
      "Warning: skipping session with too few trials 3\n",
      "Warning: skipping session with too few trials 1\n",
      "Warning: skipping session with too few trials 2\n",
      "Warning: skipping session with too few trials 3\n",
      "Warning: skipping session with too few trials 9\n",
      "Warning: skipping session with too few trials 1\n",
      "Warning: skipping session with too few trials 2\n",
      "Warning: skipping session with too few trials 2\n",
      "Warning: skipping session with too few trials 7\n",
      "Warning: skipping session with too few trials 2\n",
      "Warning: skipping session with too few trials 3\n",
      "Warning: skipping session with too few trials 0\n",
      "Warning: skipping session with too few trials 3\n",
      "Warning: skipping session with too few trials 0\n",
      "Warning: skipping session with too few trials 5\n",
      "Warning: skipping session with too few trials 8\n",
      "Warning: skipping session with too few trials 1\n"
     ]
    },
    {
     "data": {
      "application/vnd.jupyter.widget-view+json": {
       "model_id": "09f1989965af4d649bc935f65785d496",
       "version_major": 2,
       "version_minor": 0
      },
      "text/plain": [
       "IntProgress(value=0, description='mou_5', max=21)"
      ]
     },
     "metadata": {},
     "output_type": "display_data"
    },
    {
     "name": "stdout",
     "output_type": "stream",
     "text": [
      "Warning: skipping session with too few trials 3\n",
      "Warning: skipping session with too few trials 1\n",
      "Warning: skipping session with too few trials 2\n",
      "Warning: skipping session with too few trials 3\n",
      "Warning: skipping session with too few trials 9\n",
      "Warning: skipping session with too few trials 1\n",
      "Warning: skipping session with too few trials 2\n",
      "Warning: skipping session with too few trials 2\n",
      "Warning: skipping session with too few trials 7\n",
      "Warning: skipping session with too few trials 2\n",
      "Warning: skipping session with too few trials 3\n",
      "Warning: skipping session with too few trials 0\n",
      "Warning: skipping session with too few trials 3\n",
      "Warning: skipping session with too few trials 0\n",
      "Warning: skipping session with too few trials 5\n",
      "Warning: skipping session with too few trials 8\n",
      "Warning: skipping session with too few trials 1\n"
     ]
    },
    {
     "data": {
      "application/vnd.jupyter.widget-view+json": {
       "model_id": "8c154678a1224819a711dd93400de123",
       "version_major": 2,
       "version_minor": 0
      },
      "text/plain": [
       "IntProgress(value=0, description='mou_5', max=21)"
      ]
     },
     "metadata": {},
     "output_type": "display_data"
    },
    {
     "name": "stdout",
     "output_type": "stream",
     "text": [
      "Warning: skipping session with too few trials 3\n",
      "Warning: skipping session with too few trials 1\n",
      "Warning: skipping session with too few trials 2\n",
      "Warning: skipping session with too few trials 3\n",
      "Warning: skipping session with too few trials 9\n",
      "Warning: skipping session with too few trials 1\n",
      "Warning: skipping session with too few trials 2\n",
      "Warning: skipping session with too few trials 2\n",
      "Warning: skipping session with too few trials 7\n",
      "Warning: skipping session with too few trials 2\n",
      "Warning: skipping session with too few trials 3\n",
      "Warning: skipping session with too few trials 0\n",
      "Warning: skipping session with too few trials 3\n",
      "Warning: skipping session with too few trials 0\n",
      "Warning: skipping session with too few trials 5\n",
      "Warning: skipping session with too few trials 8\n",
      "Warning: skipping session with too few trials 1\n"
     ]
    },
    {
     "data": {
      "application/vnd.jupyter.widget-view+json": {
       "model_id": "e5429aeb5c904a3d864d41fd77964664",
       "version_major": 2,
       "version_minor": 0
      },
      "text/plain": [
       "IntProgress(value=0, description='mou_9', max=20)"
      ]
     },
     "metadata": {},
     "output_type": "display_data"
    },
    {
     "data": {
      "application/vnd.jupyter.widget-view+json": {
       "model_id": "d2bf02e814d14b6e894dd25a85edb286",
       "version_major": 2,
       "version_minor": 0
      },
      "text/plain": [
       "IntProgress(value=0, description='mou_9', max=20)"
      ]
     },
     "metadata": {},
     "output_type": "display_data"
    },
    {
     "data": {
      "application/vnd.jupyter.widget-view+json": {
       "model_id": "5fbd69fd9f2b45b2aa2c3e2abc2d171a",
       "version_major": 2,
       "version_minor": 0
      },
      "text/plain": [
       "IntProgress(value=0, description='mou_9', max=20)"
      ]
     },
     "metadata": {},
     "output_type": "display_data"
    },
    {
     "data": {
      "application/vnd.jupyter.widget-view+json": {
       "model_id": "48bee2d15b804087a6e57db94bbf32c0",
       "version_major": 2,
       "version_minor": 0
      },
      "text/plain": [
       "IntProgress(value=0, description='mou_9', max=20)"
      ]
     },
     "metadata": {},
     "output_type": "display_data"
    },
    {
     "data": {
      "application/vnd.jupyter.widget-view+json": {
       "model_id": "0447690e80a843e898e2bb57210ba05c",
       "version_major": 2,
       "version_minor": 0
      },
      "text/plain": [
       "IntProgress(value=0, description='mou_9', max=20)"
      ]
     },
     "metadata": {},
     "output_type": "display_data"
    },
    {
     "data": {
      "application/vnd.jupyter.widget-view+json": {
       "model_id": "5979dcf15c4b467d9b8d8956e7937c01",
       "version_major": 2,
       "version_minor": 0
      },
      "text/plain": [
       "IntProgress(value=0, description='mou_9', max=20)"
      ]
     },
     "metadata": {},
     "output_type": "display_data"
    },
    {
     "data": {
      "application/vnd.jupyter.widget-view+json": {
       "model_id": "7c5b3f736e124084b53ba63cacb850f4",
       "version_major": 2,
       "version_minor": 0
      },
      "text/plain": [
       "IntProgress(value=0, description='mou_9', max=20)"
      ]
     },
     "metadata": {},
     "output_type": "display_data"
    },
    {
     "data": {
      "application/vnd.jupyter.widget-view+json": {
       "model_id": "662966efc6b344c1a385f2545184aec6",
       "version_major": 2,
       "version_minor": 0
      },
      "text/plain": [
       "IntProgress(value=0, description='mou_9', max=20)"
      ]
     },
     "metadata": {},
     "output_type": "display_data"
    },
    {
     "data": {
      "application/vnd.jupyter.widget-view+json": {
       "model_id": "1a21c2c6a5704695a8dc9900e7e8e318",
       "version_major": 2,
       "version_minor": 0
      },
      "text/plain": [
       "IntProgress(value=0, description='mou_9', max=20)"
      ]
     },
     "metadata": {},
     "output_type": "display_data"
    },
    {
     "data": {
      "application/vnd.jupyter.widget-view+json": {
       "model_id": "5577a01355014cc6a4ad92d32dd76c14",
       "version_major": 2,
       "version_minor": 0
      },
      "text/plain": [
       "IntProgress(value=0, description='mou_9', max=20)"
      ]
     },
     "metadata": {},
     "output_type": "display_data"
    },
    {
     "data": {
      "application/vnd.jupyter.widget-view+json": {
       "model_id": "7dfb858f05c3465090ba304e6cf7c94d",
       "version_major": 2,
       "version_minor": 0
      },
      "text/plain": [
       "IntProgress(value=0, description='mou_9', max=20)"
      ]
     },
     "metadata": {},
     "output_type": "display_data"
    },
    {
     "name": "stdout",
     "output_type": "stream",
     "text": [
      "Warning: skipping session with too few trials 8\n",
      "Warning: skipping session with too few trials 4\n",
      "Warning: skipping session with too few trials 4\n",
      "Warning: skipping session with too few trials 3\n",
      "Warning: skipping session with too few trials 3\n",
      "Warning: skipping session with too few trials 2\n",
      "Warning: skipping session with too few trials 1\n",
      "Warning: skipping session with too few trials 1\n",
      "Warning: skipping session with too few trials 2\n",
      "Warning: skipping session with too few trials 5\n",
      "Warning: skipping session with too few trials 5\n",
      "Warning: skipping session with too few trials 6\n"
     ]
    },
    {
     "data": {
      "application/vnd.jupyter.widget-view+json": {
       "model_id": "fd50890a93fc4049bcc2d16dda587cde",
       "version_major": 2,
       "version_minor": 0
      },
      "text/plain": [
       "IntProgress(value=0, description='mou_9', max=20)"
      ]
     },
     "metadata": {},
     "output_type": "display_data"
    },
    {
     "name": "stdout",
     "output_type": "stream",
     "text": [
      "Warning: skipping session with too few trials 8\n",
      "Warning: skipping session with too few trials 4\n",
      "Warning: skipping session with too few trials 4\n",
      "Warning: skipping session with too few trials 3\n",
      "Warning: skipping session with too few trials 3\n",
      "Warning: skipping session with too few trials 2\n",
      "Warning: skipping session with too few trials 1\n",
      "Warning: skipping session with too few trials 1\n",
      "Warning: skipping session with too few trials 2\n",
      "Warning: skipping session with too few trials 5\n",
      "Warning: skipping session with too few trials 5\n",
      "Warning: skipping session with too few trials 6\n"
     ]
    },
    {
     "data": {
      "application/vnd.jupyter.widget-view+json": {
       "model_id": "2f23cab701f44a8cb4557f1b78679664",
       "version_major": 2,
       "version_minor": 0
      },
      "text/plain": [
       "IntProgress(value=0, description='mou_9', max=20)"
      ]
     },
     "metadata": {},
     "output_type": "display_data"
    },
    {
     "name": "stdout",
     "output_type": "stream",
     "text": [
      "Warning: skipping session with too few trials 8\n",
      "Warning: skipping session with too few trials 4\n",
      "Warning: skipping session with too few trials 4\n",
      "Warning: skipping session with too few trials 3\n",
      "Warning: skipping session with too few trials 3\n",
      "Warning: skipping session with too few trials 2\n",
      "Warning: skipping session with too few trials 1\n",
      "Warning: skipping session with too few trials 1\n",
      "Warning: skipping session with too few trials 2\n",
      "Warning: skipping session with too few trials 5\n",
      "Warning: skipping session with too few trials 5\n",
      "Warning: skipping session with too few trials 6\n"
     ]
    },
    {
     "data": {
      "application/vnd.jupyter.widget-view+json": {
       "model_id": "1d3e51f2d23a4ef6a8a6b21603fe458e",
       "version_major": 2,
       "version_minor": 0
      },
      "text/plain": [
       "IntProgress(value=0, description='mou_9', max=20)"
      ]
     },
     "metadata": {},
     "output_type": "display_data"
    },
    {
     "name": "stdout",
     "output_type": "stream",
     "text": [
      "Warning: skipping session with too few trials 8\n",
      "Warning: skipping session with too few trials 4\n",
      "Warning: skipping session with too few trials 4\n",
      "Warning: skipping session with too few trials 3\n",
      "Warning: skipping session with too few trials 3\n",
      "Warning: skipping session with too few trials 2\n",
      "Warning: skipping session with too few trials 1\n",
      "Warning: skipping session with too few trials 1\n",
      "Warning: skipping session with too few trials 2\n",
      "Warning: skipping session with too few trials 5\n",
      "Warning: skipping session with too few trials 5\n",
      "Warning: skipping session with too few trials 6\n"
     ]
    },
    {
     "data": {
      "application/vnd.jupyter.widget-view+json": {
       "model_id": "c04b963455f344f9b7527cc23254ba19",
       "version_major": 2,
       "version_minor": 0
      },
      "text/plain": [
       "IntProgress(value=0, description='mou_9', max=20)"
      ]
     },
     "metadata": {},
     "output_type": "display_data"
    },
    {
     "name": "stdout",
     "output_type": "stream",
     "text": [
      "Warning: skipping session with too few trials 8\n",
      "Warning: skipping session with too few trials 4\n",
      "Warning: skipping session with too few trials 4\n",
      "Warning: skipping session with too few trials 3\n",
      "Warning: skipping session with too few trials 3\n",
      "Warning: skipping session with too few trials 2\n",
      "Warning: skipping session with too few trials 1\n",
      "Warning: skipping session with too few trials 1\n",
      "Warning: skipping session with too few trials 2\n",
      "Warning: skipping session with too few trials 5\n",
      "Warning: skipping session with too few trials 5\n",
      "Warning: skipping session with too few trials 6\n"
     ]
    },
    {
     "data": {
      "application/vnd.jupyter.widget-view+json": {
       "model_id": "d26ccb27c3b041c982d02b61bca278ba",
       "version_major": 2,
       "version_minor": 0
      },
      "text/plain": [
       "IntProgress(value=0, description='mou_9', max=20)"
      ]
     },
     "metadata": {},
     "output_type": "display_data"
    },
    {
     "data": {
      "application/vnd.jupyter.widget-view+json": {
       "model_id": "87261891224741f5b70b7bbbd6c5c069",
       "version_major": 2,
       "version_minor": 0
      },
      "text/plain": [
       "IntProgress(value=0, description='mou_9', max=20)"
      ]
     },
     "metadata": {},
     "output_type": "display_data"
    },
    {
     "data": {
      "application/vnd.jupyter.widget-view+json": {
       "model_id": "71ef01e048054d5cadc1968dff83fa5c",
       "version_major": 2,
       "version_minor": 0
      },
      "text/plain": [
       "IntProgress(value=0, description='mou_9', max=20)"
      ]
     },
     "metadata": {},
     "output_type": "display_data"
    },
    {
     "data": {
      "application/vnd.jupyter.widget-view+json": {
       "model_id": "01266a32acb8492c8a91d9c7ee4dbe0f",
       "version_major": 2,
       "version_minor": 0
      },
      "text/plain": [
       "IntProgress(value=0, description='mou_9', max=20)"
      ]
     },
     "metadata": {},
     "output_type": "display_data"
    },
    {
     "data": {
      "application/vnd.jupyter.widget-view+json": {
       "model_id": "56b925afaa8f450e9387e1ffc00820f0",
       "version_major": 2,
       "version_minor": 0
      },
      "text/plain": [
       "IntProgress(value=0, description='mou_9', max=20)"
      ]
     },
     "metadata": {},
     "output_type": "display_data"
    },
    {
     "data": {
      "application/vnd.jupyter.widget-view+json": {
       "model_id": "58acd10b4f604ad791b4bf0193258840",
       "version_major": 2,
       "version_minor": 0
      },
      "text/plain": [
       "IntProgress(value=0, description='mou_9', max=20)"
      ]
     },
     "metadata": {},
     "output_type": "display_data"
    },
    {
     "name": "stdout",
     "output_type": "stream",
     "text": [
      "Warning: skipping session with too few trials 1\n",
      "Warning: skipping session with too few trials 1\n",
      "Warning: skipping session with too few trials 3\n",
      "Warning: skipping session with too few trials 4\n",
      "Warning: skipping session with too few trials 4\n",
      "Warning: skipping session with too few trials 0\n",
      "Warning: skipping session with too few trials 2\n",
      "Warning: skipping session with too few trials 2\n",
      "Warning: skipping session with too few trials 9\n",
      "Warning: skipping session with too few trials 1\n",
      "Warning: skipping session with too few trials 2\n",
      "Warning: skipping session with too few trials 2\n",
      "Warning: skipping session with too few trials 8\n",
      "Warning: skipping session with too few trials 3\n",
      "Warning: skipping session with too few trials 4\n",
      "Warning: skipping session with too few trials 1\n",
      "Warning: skipping session with too few trials 2\n",
      "Warning: skipping session with too few trials 1\n",
      "Warning: skipping session with too few trials 1\n",
      "Warning: skipping session with too few trials 1\n",
      "Warning, all sessions had too few trials, this mouse is skipped\n"
     ]
    },
    {
     "data": {
      "application/vnd.jupyter.widget-view+json": {
       "model_id": "ea9dcea7047c4a7aaeba23e5089aeb12",
       "version_major": 2,
       "version_minor": 0
      },
      "text/plain": [
       "IntProgress(value=0, description='mou_9', max=20)"
      ]
     },
     "metadata": {},
     "output_type": "display_data"
    },
    {
     "name": "stdout",
     "output_type": "stream",
     "text": [
      "Warning: skipping session with too few trials 1\n",
      "Warning: skipping session with too few trials 1\n",
      "Warning: skipping session with too few trials 3\n",
      "Warning: skipping session with too few trials 4\n",
      "Warning: skipping session with too few trials 4\n",
      "Warning: skipping session with too few trials 0\n",
      "Warning: skipping session with too few trials 2\n",
      "Warning: skipping session with too few trials 2\n",
      "Warning: skipping session with too few trials 9\n",
      "Warning: skipping session with too few trials 1\n",
      "Warning: skipping session with too few trials 2\n",
      "Warning: skipping session with too few trials 2\n",
      "Warning: skipping session with too few trials 8\n",
      "Warning: skipping session with too few trials 3\n",
      "Warning: skipping session with too few trials 4\n",
      "Warning: skipping session with too few trials 1\n",
      "Warning: skipping session with too few trials 2\n",
      "Warning: skipping session with too few trials 1\n",
      "Warning: skipping session with too few trials 1\n",
      "Warning: skipping session with too few trials 1\n",
      "Warning, all sessions had too few trials, this mouse is skipped\n"
     ]
    },
    {
     "data": {
      "application/vnd.jupyter.widget-view+json": {
       "model_id": "8ea98d81c22f4598b19e25d26c255712",
       "version_major": 2,
       "version_minor": 0
      },
      "text/plain": [
       "IntProgress(value=0, description='mou_9', max=20)"
      ]
     },
     "metadata": {},
     "output_type": "display_data"
    },
    {
     "name": "stdout",
     "output_type": "stream",
     "text": [
      "Warning: skipping session with too few trials 1\n",
      "Warning: skipping session with too few trials 1\n",
      "Warning: skipping session with too few trials 3\n",
      "Warning: skipping session with too few trials 4\n",
      "Warning: skipping session with too few trials 4\n",
      "Warning: skipping session with too few trials 0\n",
      "Warning: skipping session with too few trials 2\n",
      "Warning: skipping session with too few trials 2\n",
      "Warning: skipping session with too few trials 9\n",
      "Warning: skipping session with too few trials 1\n",
      "Warning: skipping session with too few trials 2\n",
      "Warning: skipping session with too few trials 2\n",
      "Warning: skipping session with too few trials 8\n",
      "Warning: skipping session with too few trials 3\n",
      "Warning: skipping session with too few trials 4\n",
      "Warning: skipping session with too few trials 1\n",
      "Warning: skipping session with too few trials 2\n",
      "Warning: skipping session with too few trials 1\n",
      "Warning: skipping session with too few trials 1\n",
      "Warning: skipping session with too few trials 1\n",
      "Warning, all sessions had too few trials, this mouse is skipped\n"
     ]
    },
    {
     "data": {
      "application/vnd.jupyter.widget-view+json": {
       "model_id": "ce3125d4748e4c3fb081a8bc6b67400b",
       "version_major": 2,
       "version_minor": 0
      },
      "text/plain": [
       "IntProgress(value=0, description='mou_9', max=20)"
      ]
     },
     "metadata": {},
     "output_type": "display_data"
    },
    {
     "name": "stdout",
     "output_type": "stream",
     "text": [
      "Warning: skipping session with too few trials 1\n",
      "Warning: skipping session with too few trials 1\n",
      "Warning: skipping session with too few trials 3\n",
      "Warning: skipping session with too few trials 4\n",
      "Warning: skipping session with too few trials 4\n",
      "Warning: skipping session with too few trials 0\n",
      "Warning: skipping session with too few trials 2\n",
      "Warning: skipping session with too few trials 2\n",
      "Warning: skipping session with too few trials 9\n",
      "Warning: skipping session with too few trials 1\n",
      "Warning: skipping session with too few trials 2\n",
      "Warning: skipping session with too few trials 2\n",
      "Warning: skipping session with too few trials 8\n",
      "Warning: skipping session with too few trials 3\n",
      "Warning: skipping session with too few trials 4\n",
      "Warning: skipping session with too few trials 1\n",
      "Warning: skipping session with too few trials 2\n",
      "Warning: skipping session with too few trials 1\n",
      "Warning: skipping session with too few trials 1\n",
      "Warning: skipping session with too few trials 1\n",
      "Warning, all sessions had too few trials, this mouse is skipped\n"
     ]
    },
    {
     "data": {
      "application/vnd.jupyter.widget-view+json": {
       "model_id": "6c19b6d5d32d41c8bd036be53ce8426a",
       "version_major": 2,
       "version_minor": 0
      },
      "text/plain": [
       "IntProgress(value=0, description='mou_9', max=20)"
      ]
     },
     "metadata": {},
     "output_type": "display_data"
    },
    {
     "name": "stdout",
     "output_type": "stream",
     "text": [
      "Warning: skipping session with too few trials 1\n",
      "Warning: skipping session with too few trials 1\n",
      "Warning: skipping session with too few trials 3\n",
      "Warning: skipping session with too few trials 4\n",
      "Warning: skipping session with too few trials 4\n",
      "Warning: skipping session with too few trials 0\n",
      "Warning: skipping session with too few trials 2\n",
      "Warning: skipping session with too few trials 2\n",
      "Warning: skipping session with too few trials 9\n",
      "Warning: skipping session with too few trials 1\n",
      "Warning: skipping session with too few trials 2\n",
      "Warning: skipping session with too few trials 2\n",
      "Warning: skipping session with too few trials 8\n",
      "Warning: skipping session with too few trials 3\n",
      "Warning: skipping session with too few trials 4\n",
      "Warning: skipping session with too few trials 1\n",
      "Warning: skipping session with too few trials 2\n",
      "Warning: skipping session with too few trials 1\n",
      "Warning: skipping session with too few trials 1\n",
      "Warning: skipping session with too few trials 1\n",
      "Warning, all sessions had too few trials, this mouse is skipped\n"
     ]
    },
    {
     "data": {
      "application/vnd.jupyter.widget-view+json": {
       "model_id": "c8318e261858482a882964d2f4bbc8b6",
       "version_major": 2,
       "version_minor": 0
      },
      "text/plain": [
       "IntProgress(value=0, description='mou_9', max=20)"
      ]
     },
     "metadata": {},
     "output_type": "display_data"
    },
    {
     "data": {
      "application/vnd.jupyter.widget-view+json": {
       "model_id": "9af8fbf55e964f16b576a0c2dc85ec0c",
       "version_major": 2,
       "version_minor": 0
      },
      "text/plain": [
       "IntProgress(value=0, description='mou_9', max=20)"
      ]
     },
     "metadata": {},
     "output_type": "display_data"
    },
    {
     "data": {
      "application/vnd.jupyter.widget-view+json": {
       "model_id": "1ce6341114ae4900b142194a1e64f652",
       "version_major": 2,
       "version_minor": 0
      },
      "text/plain": [
       "IntProgress(value=0, description='mou_9', max=20)"
      ]
     },
     "metadata": {},
     "output_type": "display_data"
    },
    {
     "data": {
      "application/vnd.jupyter.widget-view+json": {
       "model_id": "c27392cf4ddc483daf12461eb6846018",
       "version_major": 2,
       "version_minor": 0
      },
      "text/plain": [
       "IntProgress(value=0, description='mou_9', max=20)"
      ]
     },
     "metadata": {},
     "output_type": "display_data"
    },
    {
     "data": {
      "application/vnd.jupyter.widget-view+json": {
       "model_id": "8041513b0d4847f7bc2e04a68869c1ce",
       "version_major": 2,
       "version_minor": 0
      },
      "text/plain": [
       "IntProgress(value=0, description='mou_9', max=20)"
      ]
     },
     "metadata": {},
     "output_type": "display_data"
    },
    {
     "data": {
      "application/vnd.jupyter.widget-view+json": {
       "model_id": "84ce5a80416f45b7b19519bc457cc84b",
       "version_major": 2,
       "version_minor": 0
      },
      "text/plain": [
       "IntProgress(value=0, description='mou_9', max=20)"
      ]
     },
     "metadata": {},
     "output_type": "display_data"
    },
    {
     "data": {
      "application/vnd.jupyter.widget-view+json": {
       "model_id": "bf06f4d4f3c54f92a793e4fa7b1f572f",
       "version_major": 2,
       "version_minor": 0
      },
      "text/plain": [
       "IntProgress(value=0, description='mou_9', max=20)"
      ]
     },
     "metadata": {},
     "output_type": "display_data"
    },
    {
     "data": {
      "application/vnd.jupyter.widget-view+json": {
       "model_id": "73e9a1f04030480dbf5cdcd7bcaf62ad",
       "version_major": 2,
       "version_minor": 0
      },
      "text/plain": [
       "IntProgress(value=0, description='mou_9', max=20)"
      ]
     },
     "metadata": {},
     "output_type": "display_data"
    },
    {
     "data": {
      "application/vnd.jupyter.widget-view+json": {
       "model_id": "f83edeeed2bb426ab48c587890115787",
       "version_major": 2,
       "version_minor": 0
      },
      "text/plain": [
       "IntProgress(value=0, description='mou_9', max=20)"
      ]
     },
     "metadata": {},
     "output_type": "display_data"
    },
    {
     "data": {
      "application/vnd.jupyter.widget-view+json": {
       "model_id": "807b6003efb84c259237d2a7c8332d1d",
       "version_major": 2,
       "version_minor": 0
      },
      "text/plain": [
       "IntProgress(value=0, description='mou_9', max=20)"
      ]
     },
     "metadata": {},
     "output_type": "display_data"
    },
    {
     "data": {
      "application/vnd.jupyter.widget-view+json": {
       "model_id": "f86239dd55194fb397a2855f50df9c4f",
       "version_major": 2,
       "version_minor": 0
      },
      "text/plain": [
       "IntProgress(value=0, description='mou_9', max=20)"
      ]
     },
     "metadata": {},
     "output_type": "display_data"
    },
    {
     "name": "stdout",
     "output_type": "stream",
     "text": [
      "Warning: skipping session with too few trials 8\n",
      "Warning: skipping session with too few trials 4\n",
      "Warning: skipping session with too few trials 4\n",
      "Warning: skipping session with too few trials 3\n",
      "Warning: skipping session with too few trials 3\n",
      "Warning: skipping session with too few trials 2\n",
      "Warning: skipping session with too few trials 1\n",
      "Warning: skipping session with too few trials 1\n",
      "Warning: skipping session with too few trials 2\n",
      "Warning: skipping session with too few trials 5\n",
      "Warning: skipping session with too few trials 5\n",
      "Warning: skipping session with too few trials 6\n"
     ]
    },
    {
     "data": {
      "application/vnd.jupyter.widget-view+json": {
       "model_id": "6dae31beb5174a318398d4a1e5e8d696",
       "version_major": 2,
       "version_minor": 0
      },
      "text/plain": [
       "IntProgress(value=0, description='mou_9', max=20)"
      ]
     },
     "metadata": {},
     "output_type": "display_data"
    },
    {
     "name": "stdout",
     "output_type": "stream",
     "text": [
      "Warning: skipping session with too few trials 8\n",
      "Warning: skipping session with too few trials 4\n",
      "Warning: skipping session with too few trials 4\n",
      "Warning: skipping session with too few trials 3\n",
      "Warning: skipping session with too few trials 3\n",
      "Warning: skipping session with too few trials 2\n",
      "Warning: skipping session with too few trials 1\n",
      "Warning: skipping session with too few trials 1\n",
      "Warning: skipping session with too few trials 2\n",
      "Warning: skipping session with too few trials 5\n",
      "Warning: skipping session with too few trials 5\n",
      "Warning: skipping session with too few trials 6\n"
     ]
    },
    {
     "data": {
      "application/vnd.jupyter.widget-view+json": {
       "model_id": "de3fa8f30ce64a19b9dcae4c323cbd25",
       "version_major": 2,
       "version_minor": 0
      },
      "text/plain": [
       "IntProgress(value=0, description='mou_9', max=20)"
      ]
     },
     "metadata": {},
     "output_type": "display_data"
    },
    {
     "name": "stdout",
     "output_type": "stream",
     "text": [
      "Warning: skipping session with too few trials 8\n",
      "Warning: skipping session with too few trials 4\n",
      "Warning: skipping session with too few trials 4\n",
      "Warning: skipping session with too few trials 3\n",
      "Warning: skipping session with too few trials 3\n",
      "Warning: skipping session with too few trials 2\n",
      "Warning: skipping session with too few trials 1\n",
      "Warning: skipping session with too few trials 1\n",
      "Warning: skipping session with too few trials 2\n",
      "Warning: skipping session with too few trials 5\n",
      "Warning: skipping session with too few trials 5\n",
      "Warning: skipping session with too few trials 6\n"
     ]
    },
    {
     "data": {
      "application/vnd.jupyter.widget-view+json": {
       "model_id": "6a3e15db0a9242d79b52517d3dd32543",
       "version_major": 2,
       "version_minor": 0
      },
      "text/plain": [
       "IntProgress(value=0, description='mou_9', max=20)"
      ]
     },
     "metadata": {},
     "output_type": "display_data"
    },
    {
     "name": "stdout",
     "output_type": "stream",
     "text": [
      "Warning: skipping session with too few trials 8\n",
      "Warning: skipping session with too few trials 4\n",
      "Warning: skipping session with too few trials 4\n",
      "Warning: skipping session with too few trials 3\n",
      "Warning: skipping session with too few trials 3\n",
      "Warning: skipping session with too few trials 2\n",
      "Warning: skipping session with too few trials 1\n",
      "Warning: skipping session with too few trials 1\n",
      "Warning: skipping session with too few trials 2\n",
      "Warning: skipping session with too few trials 5\n",
      "Warning: skipping session with too few trials 5\n",
      "Warning: skipping session with too few trials 6\n"
     ]
    },
    {
     "data": {
      "application/vnd.jupyter.widget-view+json": {
       "model_id": "9725d9fdbf844de78871a55be9f72819",
       "version_major": 2,
       "version_minor": 0
      },
      "text/plain": [
       "IntProgress(value=0, description='mou_9', max=20)"
      ]
     },
     "metadata": {},
     "output_type": "display_data"
    },
    {
     "name": "stdout",
     "output_type": "stream",
     "text": [
      "Warning: skipping session with too few trials 8\n",
      "Warning: skipping session with too few trials 4\n",
      "Warning: skipping session with too few trials 4\n",
      "Warning: skipping session with too few trials 3\n",
      "Warning: skipping session with too few trials 3\n",
      "Warning: skipping session with too few trials 2\n",
      "Warning: skipping session with too few trials 1\n",
      "Warning: skipping session with too few trials 1\n",
      "Warning: skipping session with too few trials 2\n",
      "Warning: skipping session with too few trials 5\n",
      "Warning: skipping session with too few trials 5\n",
      "Warning: skipping session with too few trials 6\n"
     ]
    },
    {
     "data": {
      "application/vnd.jupyter.widget-view+json": {
       "model_id": "6d9674bdc1624b7885d70a1a2998586c",
       "version_major": 2,
       "version_minor": 0
      },
      "text/plain": [
       "IntProgress(value=0, description='mou_9', max=20)"
      ]
     },
     "metadata": {},
     "output_type": "display_data"
    },
    {
     "data": {
      "application/vnd.jupyter.widget-view+json": {
       "model_id": "6b2e45ceddd14ae08764f5148764ebb8",
       "version_major": 2,
       "version_minor": 0
      },
      "text/plain": [
       "IntProgress(value=0, description='mou_9', max=20)"
      ]
     },
     "metadata": {},
     "output_type": "display_data"
    },
    {
     "data": {
      "application/vnd.jupyter.widget-view+json": {
       "model_id": "ef8eb33dd1904667850a0cffc06cff67",
       "version_major": 2,
       "version_minor": 0
      },
      "text/plain": [
       "IntProgress(value=0, description='mou_9', max=20)"
      ]
     },
     "metadata": {},
     "output_type": "display_data"
    },
    {
     "data": {
      "application/vnd.jupyter.widget-view+json": {
       "model_id": "5eccc4b5f7ba4c3b8a5faa38f9e44e80",
       "version_major": 2,
       "version_minor": 0
      },
      "text/plain": [
       "IntProgress(value=0, description='mou_9', max=20)"
      ]
     },
     "metadata": {},
     "output_type": "display_data"
    },
    {
     "data": {
      "application/vnd.jupyter.widget-view+json": {
       "model_id": "939405d07d334a91974acd7eaaae8f36",
       "version_major": 2,
       "version_minor": 0
      },
      "text/plain": [
       "IntProgress(value=0, description='mou_9', max=20)"
      ]
     },
     "metadata": {},
     "output_type": "display_data"
    },
    {
     "data": {
      "application/vnd.jupyter.widget-view+json": {
       "model_id": "16c788e2020b47ce8bac62b4307f1280",
       "version_major": 2,
       "version_minor": 0
      },
      "text/plain": [
       "IntProgress(value=0, description='mou_9', max=20)"
      ]
     },
     "metadata": {},
     "output_type": "display_data"
    },
    {
     "name": "stdout",
     "output_type": "stream",
     "text": [
      "Warning: skipping session with too few trials 1\n",
      "Warning: skipping session with too few trials 1\n",
      "Warning: skipping session with too few trials 3\n",
      "Warning: skipping session with too few trials 4\n",
      "Warning: skipping session with too few trials 4\n",
      "Warning: skipping session with too few trials 0\n",
      "Warning: skipping session with too few trials 2\n",
      "Warning: skipping session with too few trials 2\n",
      "Warning: skipping session with too few trials 9\n",
      "Warning: skipping session with too few trials 1\n",
      "Warning: skipping session with too few trials 2\n",
      "Warning: skipping session with too few trials 2\n",
      "Warning: skipping session with too few trials 8\n",
      "Warning: skipping session with too few trials 3\n",
      "Warning: skipping session with too few trials 4\n",
      "Warning: skipping session with too few trials 1\n",
      "Warning: skipping session with too few trials 2\n",
      "Warning: skipping session with too few trials 1\n",
      "Warning: skipping session with too few trials 1\n",
      "Warning: skipping session with too few trials 1\n",
      "Warning, all sessions had too few trials, this mouse is skipped\n"
     ]
    },
    {
     "data": {
      "application/vnd.jupyter.widget-view+json": {
       "model_id": "a31e318afd5c48f09a4f47544906c169",
       "version_major": 2,
       "version_minor": 0
      },
      "text/plain": [
       "IntProgress(value=0, description='mou_9', max=20)"
      ]
     },
     "metadata": {},
     "output_type": "display_data"
    },
    {
     "name": "stdout",
     "output_type": "stream",
     "text": [
      "Warning: skipping session with too few trials 1\n",
      "Warning: skipping session with too few trials 1\n",
      "Warning: skipping session with too few trials 3\n",
      "Warning: skipping session with too few trials 4\n",
      "Warning: skipping session with too few trials 4\n",
      "Warning: skipping session with too few trials 0\n",
      "Warning: skipping session with too few trials 2\n",
      "Warning: skipping session with too few trials 2\n",
      "Warning: skipping session with too few trials 9\n",
      "Warning: skipping session with too few trials 1\n",
      "Warning: skipping session with too few trials 2\n",
      "Warning: skipping session with too few trials 2\n",
      "Warning: skipping session with too few trials 8\n",
      "Warning: skipping session with too few trials 3\n",
      "Warning: skipping session with too few trials 4\n",
      "Warning: skipping session with too few trials 1\n",
      "Warning: skipping session with too few trials 2\n",
      "Warning: skipping session with too few trials 1\n",
      "Warning: skipping session with too few trials 1\n",
      "Warning: skipping session with too few trials 1\n",
      "Warning, all sessions had too few trials, this mouse is skipped\n"
     ]
    },
    {
     "data": {
      "application/vnd.jupyter.widget-view+json": {
       "model_id": "4b2e7fbdadde4cc091ba065822fed007",
       "version_major": 2,
       "version_minor": 0
      },
      "text/plain": [
       "IntProgress(value=0, description='mou_9', max=20)"
      ]
     },
     "metadata": {},
     "output_type": "display_data"
    },
    {
     "name": "stdout",
     "output_type": "stream",
     "text": [
      "Warning: skipping session with too few trials 1\n",
      "Warning: skipping session with too few trials 1\n",
      "Warning: skipping session with too few trials 3\n",
      "Warning: skipping session with too few trials 4\n",
      "Warning: skipping session with too few trials 4\n",
      "Warning: skipping session with too few trials 0\n",
      "Warning: skipping session with too few trials 2\n",
      "Warning: skipping session with too few trials 2\n",
      "Warning: skipping session with too few trials 9\n",
      "Warning: skipping session with too few trials 1\n",
      "Warning: skipping session with too few trials 2\n",
      "Warning: skipping session with too few trials 2\n",
      "Warning: skipping session with too few trials 8\n",
      "Warning: skipping session with too few trials 3\n",
      "Warning: skipping session with too few trials 4\n",
      "Warning: skipping session with too few trials 1\n",
      "Warning: skipping session with too few trials 2\n",
      "Warning: skipping session with too few trials 1\n",
      "Warning: skipping session with too few trials 1\n",
      "Warning: skipping session with too few trials 1\n",
      "Warning, all sessions had too few trials, this mouse is skipped\n"
     ]
    },
    {
     "data": {
      "application/vnd.jupyter.widget-view+json": {
       "model_id": "2432b2823a2947a5884fd9f3a61ff608",
       "version_major": 2,
       "version_minor": 0
      },
      "text/plain": [
       "IntProgress(value=0, description='mou_9', max=20)"
      ]
     },
     "metadata": {},
     "output_type": "display_data"
    },
    {
     "name": "stdout",
     "output_type": "stream",
     "text": [
      "Warning: skipping session with too few trials 1\n",
      "Warning: skipping session with too few trials 1\n",
      "Warning: skipping session with too few trials 3\n",
      "Warning: skipping session with too few trials 4\n",
      "Warning: skipping session with too few trials 4\n",
      "Warning: skipping session with too few trials 0\n",
      "Warning: skipping session with too few trials 2\n",
      "Warning: skipping session with too few trials 2\n",
      "Warning: skipping session with too few trials 9\n",
      "Warning: skipping session with too few trials 1\n",
      "Warning: skipping session with too few trials 2\n",
      "Warning: skipping session with too few trials 2\n",
      "Warning: skipping session with too few trials 8\n",
      "Warning: skipping session with too few trials 3\n",
      "Warning: skipping session with too few trials 4\n",
      "Warning: skipping session with too few trials 1\n",
      "Warning: skipping session with too few trials 2\n",
      "Warning: skipping session with too few trials 1\n",
      "Warning: skipping session with too few trials 1\n",
      "Warning: skipping session with too few trials 1\n",
      "Warning, all sessions had too few trials, this mouse is skipped\n"
     ]
    },
    {
     "data": {
      "application/vnd.jupyter.widget-view+json": {
       "model_id": "6187cee965f84aaf9ff1a196c7695da8",
       "version_major": 2,
       "version_minor": 0
      },
      "text/plain": [
       "IntProgress(value=0, description='mou_9', max=20)"
      ]
     },
     "metadata": {},
     "output_type": "display_data"
    },
    {
     "name": "stdout",
     "output_type": "stream",
     "text": [
      "Warning: skipping session with too few trials 1\n",
      "Warning: skipping session with too few trials 1\n",
      "Warning: skipping session with too few trials 3\n",
      "Warning: skipping session with too few trials 4\n",
      "Warning: skipping session with too few trials 4\n",
      "Warning: skipping session with too few trials 0\n",
      "Warning: skipping session with too few trials 2\n",
      "Warning: skipping session with too few trials 2\n",
      "Warning: skipping session with too few trials 9\n",
      "Warning: skipping session with too few trials 1\n",
      "Warning: skipping session with too few trials 2\n",
      "Warning: skipping session with too few trials 2\n",
      "Warning: skipping session with too few trials 8\n",
      "Warning: skipping session with too few trials 3\n",
      "Warning: skipping session with too few trials 4\n",
      "Warning: skipping session with too few trials 1\n",
      "Warning: skipping session with too few trials 2\n",
      "Warning: skipping session with too few trials 1\n",
      "Warning: skipping session with too few trials 1\n",
      "Warning: skipping session with too few trials 1\n",
      "Warning, all sessions had too few trials, this mouse is skipped\n"
     ]
    },
    {
     "data": {
      "application/vnd.jupyter.widget-view+json": {
       "model_id": "991218b4bb41458798379ca4c9c213e9",
       "version_major": 2,
       "version_minor": 0
      },
      "text/plain": [
       "IntProgress(value=0, description='mou_9', max=20)"
      ]
     },
     "metadata": {},
     "output_type": "display_data"
    },
    {
     "data": {
      "application/vnd.jupyter.widget-view+json": {
       "model_id": "83a75dd4a76c46e688ddded7fa1bd7c5",
       "version_major": 2,
       "version_minor": 0
      },
      "text/plain": [
       "IntProgress(value=0, description='mou_9', max=20)"
      ]
     },
     "metadata": {},
     "output_type": "display_data"
    },
    {
     "data": {
      "application/vnd.jupyter.widget-view+json": {
       "model_id": "4140c289178946c691f0e900aec6dec5",
       "version_major": 2,
       "version_minor": 0
      },
      "text/plain": [
       "IntProgress(value=0, description='mou_9', max=20)"
      ]
     },
     "metadata": {},
     "output_type": "display_data"
    },
    {
     "data": {
      "application/vnd.jupyter.widget-view+json": {
       "model_id": "7d6e71810e524a3b8c63a39a05bd26f2",
       "version_major": 2,
       "version_minor": 0
      },
      "text/plain": [
       "IntProgress(value=0, description='mou_9', max=20)"
      ]
     },
     "metadata": {},
     "output_type": "display_data"
    },
    {
     "data": {
      "application/vnd.jupyter.widget-view+json": {
       "model_id": "1483201295a449bd98cc9ea03b4e7db8",
       "version_major": 2,
       "version_minor": 0
      },
      "text/plain": [
       "IntProgress(value=0, description='mou_9', max=20)"
      ]
     },
     "metadata": {},
     "output_type": "display_data"
    },
    {
     "data": {
      "application/vnd.jupyter.widget-view+json": {
       "model_id": "8bb1be6d509a4c9791631221d2b0a6fb",
       "version_major": 2,
       "version_minor": 0
      },
      "text/plain": [
       "IntProgress(value=0, description='mou_9', max=20)"
      ]
     },
     "metadata": {},
     "output_type": "display_data"
    },
    {
     "data": {
      "application/vnd.jupyter.widget-view+json": {
       "model_id": "8bc825780d27461ab9bb4a0c1df89cf7",
       "version_major": 2,
       "version_minor": 0
      },
      "text/plain": [
       "IntProgress(value=0, description='mou_9', max=20)"
      ]
     },
     "metadata": {},
     "output_type": "display_data"
    },
    {
     "data": {
      "application/vnd.jupyter.widget-view+json": {
       "model_id": "773ba5dba743480c957b864c53cfd9aa",
       "version_major": 2,
       "version_minor": 0
      },
      "text/plain": [
       "IntProgress(value=0, description='mou_9', max=20)"
      ]
     },
     "metadata": {},
     "output_type": "display_data"
    },
    {
     "data": {
      "application/vnd.jupyter.widget-view+json": {
       "model_id": "6e7b36991a354fb6a07402bd788a9404",
       "version_major": 2,
       "version_minor": 0
      },
      "text/plain": [
       "IntProgress(value=0, description='mou_9', max=20)"
      ]
     },
     "metadata": {},
     "output_type": "display_data"
    },
    {
     "name": "stdout",
     "output_type": "stream",
     "text": [
      "Warning: skipping session with too few trials 8\n",
      "Warning: skipping session with too few trials 4\n",
      "Warning: skipping session with too few trials 4\n",
      "Warning: skipping session with too few trials 3\n",
      "Warning: skipping session with too few trials 3\n",
      "Warning: skipping session with too few trials 2\n",
      "Warning: skipping session with too few trials 1\n",
      "Warning: skipping session with too few trials 1\n",
      "Warning: skipping session with too few trials 2\n",
      "Warning: skipping session with too few trials 5\n",
      "Warning: skipping session with too few trials 5\n",
      "Warning: skipping session with too few trials 6\n"
     ]
    },
    {
     "data": {
      "application/vnd.jupyter.widget-view+json": {
       "model_id": "e258d96bb40543d1a618ca5b58dc9d0a",
       "version_major": 2,
       "version_minor": 0
      },
      "text/plain": [
       "IntProgress(value=0, description='mou_9', max=20)"
      ]
     },
     "metadata": {},
     "output_type": "display_data"
    },
    {
     "name": "stdout",
     "output_type": "stream",
     "text": [
      "Warning: skipping session with too few trials 8\n",
      "Warning: skipping session with too few trials 4\n",
      "Warning: skipping session with too few trials 4\n",
      "Warning: skipping session with too few trials 3\n",
      "Warning: skipping session with too few trials 3\n",
      "Warning: skipping session with too few trials 2\n",
      "Warning: skipping session with too few trials 1\n",
      "Warning: skipping session with too few trials 1\n",
      "Warning: skipping session with too few trials 2\n",
      "Warning: skipping session with too few trials 5\n",
      "Warning: skipping session with too few trials 5\n",
      "Warning: skipping session with too few trials 6\n"
     ]
    },
    {
     "data": {
      "application/vnd.jupyter.widget-view+json": {
       "model_id": "287630076c76493b817562e09f2cc591",
       "version_major": 2,
       "version_minor": 0
      },
      "text/plain": [
       "IntProgress(value=0, description='mou_9', max=20)"
      ]
     },
     "metadata": {},
     "output_type": "display_data"
    },
    {
     "name": "stdout",
     "output_type": "stream",
     "text": [
      "Warning: skipping session with too few trials 8\n",
      "Warning: skipping session with too few trials 4\n",
      "Warning: skipping session with too few trials 4\n",
      "Warning: skipping session with too few trials 3\n",
      "Warning: skipping session with too few trials 3\n",
      "Warning: skipping session with too few trials 2\n",
      "Warning: skipping session with too few trials 1\n",
      "Warning: skipping session with too few trials 1\n",
      "Warning: skipping session with too few trials 2\n",
      "Warning: skipping session with too few trials 5\n",
      "Warning: skipping session with too few trials 5\n",
      "Warning: skipping session with too few trials 6\n"
     ]
    },
    {
     "data": {
      "application/vnd.jupyter.widget-view+json": {
       "model_id": "0e318e8ef2d34c16b089be9822c9447b",
       "version_major": 2,
       "version_minor": 0
      },
      "text/plain": [
       "IntProgress(value=0, description='mou_9', max=20)"
      ]
     },
     "metadata": {},
     "output_type": "display_data"
    },
    {
     "name": "stdout",
     "output_type": "stream",
     "text": [
      "Warning: skipping session with too few trials 8\n",
      "Warning: skipping session with too few trials 4\n",
      "Warning: skipping session with too few trials 4\n",
      "Warning: skipping session with too few trials 3\n",
      "Warning: skipping session with too few trials 3\n",
      "Warning: skipping session with too few trials 2\n",
      "Warning: skipping session with too few trials 1\n",
      "Warning: skipping session with too few trials 1\n",
      "Warning: skipping session with too few trials 2\n",
      "Warning: skipping session with too few trials 5\n",
      "Warning: skipping session with too few trials 5\n",
      "Warning: skipping session with too few trials 6\n"
     ]
    },
    {
     "data": {
      "application/vnd.jupyter.widget-view+json": {
       "model_id": "4caa0222dd2444a391d5e98673c1905e",
       "version_major": 2,
       "version_minor": 0
      },
      "text/plain": [
       "IntProgress(value=0, description='mou_9', max=20)"
      ]
     },
     "metadata": {},
     "output_type": "display_data"
    },
    {
     "data": {
      "application/vnd.jupyter.widget-view+json": {
       "model_id": "9f95b9882ec5419c9284ae5d887cbde3",
       "version_major": 2,
       "version_minor": 0
      },
      "text/plain": [
       "IntProgress(value=0, description='mou_9', max=20)"
      ]
     },
     "metadata": {},
     "output_type": "display_data"
    },
    {
     "data": {
      "application/vnd.jupyter.widget-view+json": {
       "model_id": "f2f6897bb3b8437b834736f42f99e7a7",
       "version_major": 2,
       "version_minor": 0
      },
      "text/plain": [
       "IntProgress(value=0, description='mou_9', max=20)"
      ]
     },
     "metadata": {},
     "output_type": "display_data"
    },
    {
     "data": {
      "application/vnd.jupyter.widget-view+json": {
       "model_id": "70d3a7ddc2144b05910a40a8b3f43bc7",
       "version_major": 2,
       "version_minor": 0
      },
      "text/plain": [
       "IntProgress(value=0, description='mou_9', max=20)"
      ]
     },
     "metadata": {},
     "output_type": "display_data"
    },
    {
     "data": {
      "application/vnd.jupyter.widget-view+json": {
       "model_id": "69391068ab2047278e660e232d9b5fd0",
       "version_major": 2,
       "version_minor": 0
      },
      "text/plain": [
       "IntProgress(value=0, description='mou_9', max=20)"
      ]
     },
     "metadata": {},
     "output_type": "display_data"
    },
    {
     "name": "stdout",
     "output_type": "stream",
     "text": [
      "Warning: skipping session with too few trials 1\n",
      "Warning: skipping session with too few trials 1\n",
      "Warning: skipping session with too few trials 3\n",
      "Warning: skipping session with too few trials 4\n",
      "Warning: skipping session with too few trials 4\n",
      "Warning: skipping session with too few trials 0\n",
      "Warning: skipping session with too few trials 2\n",
      "Warning: skipping session with too few trials 2\n",
      "Warning: skipping session with too few trials 9\n",
      "Warning: skipping session with too few trials 1\n",
      "Warning: skipping session with too few trials 2\n",
      "Warning: skipping session with too few trials 2\n",
      "Warning: skipping session with too few trials 8\n",
      "Warning: skipping session with too few trials 3\n",
      "Warning: skipping session with too few trials 4\n",
      "Warning: skipping session with too few trials 1\n",
      "Warning: skipping session with too few trials 2\n",
      "Warning: skipping session with too few trials 1\n",
      "Warning: skipping session with too few trials 1\n",
      "Warning: skipping session with too few trials 1\n",
      "Warning, all sessions had too few trials, this mouse is skipped\n"
     ]
    },
    {
     "data": {
      "application/vnd.jupyter.widget-view+json": {
       "model_id": "87ae3314d5a24d8cb191b3ade9af2ebd",
       "version_major": 2,
       "version_minor": 0
      },
      "text/plain": [
       "IntProgress(value=0, description='mou_9', max=20)"
      ]
     },
     "metadata": {},
     "output_type": "display_data"
    },
    {
     "name": "stdout",
     "output_type": "stream",
     "text": [
      "Warning: skipping session with too few trials 1\n",
      "Warning: skipping session with too few trials 1\n",
      "Warning: skipping session with too few trials 3\n",
      "Warning: skipping session with too few trials 4\n",
      "Warning: skipping session with too few trials 4\n",
      "Warning: skipping session with too few trials 0\n",
      "Warning: skipping session with too few trials 2\n",
      "Warning: skipping session with too few trials 2\n",
      "Warning: skipping session with too few trials 9\n",
      "Warning: skipping session with too few trials 1\n",
      "Warning: skipping session with too few trials 2\n",
      "Warning: skipping session with too few trials 2\n",
      "Warning: skipping session with too few trials 8\n",
      "Warning: skipping session with too few trials 3\n",
      "Warning: skipping session with too few trials 4\n",
      "Warning: skipping session with too few trials 1\n",
      "Warning: skipping session with too few trials 2\n",
      "Warning: skipping session with too few trials 1\n",
      "Warning: skipping session with too few trials 1\n",
      "Warning: skipping session with too few trials 1\n",
      "Warning, all sessions had too few trials, this mouse is skipped\n"
     ]
    },
    {
     "data": {
      "application/vnd.jupyter.widget-view+json": {
       "model_id": "e58a6b4426a5424f96e5ab9a45c00412",
       "version_major": 2,
       "version_minor": 0
      },
      "text/plain": [
       "IntProgress(value=0, description='mou_9', max=20)"
      ]
     },
     "metadata": {},
     "output_type": "display_data"
    },
    {
     "name": "stdout",
     "output_type": "stream",
     "text": [
      "Warning: skipping session with too few trials 1\n",
      "Warning: skipping session with too few trials 1\n",
      "Warning: skipping session with too few trials 3\n",
      "Warning: skipping session with too few trials 4\n",
      "Warning: skipping session with too few trials 4\n",
      "Warning: skipping session with too few trials 0\n",
      "Warning: skipping session with too few trials 2\n",
      "Warning: skipping session with too few trials 2\n",
      "Warning: skipping session with too few trials 9\n",
      "Warning: skipping session with too few trials 1\n",
      "Warning: skipping session with too few trials 2\n",
      "Warning: skipping session with too few trials 2\n",
      "Warning: skipping session with too few trials 8\n",
      "Warning: skipping session with too few trials 3\n",
      "Warning: skipping session with too few trials 4\n",
      "Warning: skipping session with too few trials 1\n",
      "Warning: skipping session with too few trials 2\n",
      "Warning: skipping session with too few trials 1\n",
      "Warning: skipping session with too few trials 1\n",
      "Warning: skipping session with too few trials 1\n",
      "Warning, all sessions had too few trials, this mouse is skipped\n"
     ]
    },
    {
     "data": {
      "application/vnd.jupyter.widget-view+json": {
       "model_id": "18d3703a3f01433c8fe088b522f35816",
       "version_major": 2,
       "version_minor": 0
      },
      "text/plain": [
       "IntProgress(value=0, description='mou_9', max=20)"
      ]
     },
     "metadata": {},
     "output_type": "display_data"
    },
    {
     "name": "stdout",
     "output_type": "stream",
     "text": [
      "Warning: skipping session with too few trials 1\n",
      "Warning: skipping session with too few trials 1\n",
      "Warning: skipping session with too few trials 3\n",
      "Warning: skipping session with too few trials 4\n",
      "Warning: skipping session with too few trials 4\n",
      "Warning: skipping session with too few trials 0\n",
      "Warning: skipping session with too few trials 2\n",
      "Warning: skipping session with too few trials 2\n",
      "Warning: skipping session with too few trials 9\n",
      "Warning: skipping session with too few trials 1\n",
      "Warning: skipping session with too few trials 2\n",
      "Warning: skipping session with too few trials 2\n",
      "Warning: skipping session with too few trials 8\n",
      "Warning: skipping session with too few trials 3\n",
      "Warning: skipping session with too few trials 4\n",
      "Warning: skipping session with too few trials 1\n",
      "Warning: skipping session with too few trials 2\n",
      "Warning: skipping session with too few trials 1\n",
      "Warning: skipping session with too few trials 1\n",
      "Warning: skipping session with too few trials 1\n",
      "Warning, all sessions had too few trials, this mouse is skipped\n"
     ]
    },
    {
     "data": {
      "application/vnd.jupyter.widget-view+json": {
       "model_id": "5ec2644c90c949a99acde3b9b5ea2585",
       "version_major": 2,
       "version_minor": 0
      },
      "text/plain": [
       "IntProgress(value=0, description='mou_6', max=29)"
      ]
     },
     "metadata": {},
     "output_type": "display_data"
    },
    {
     "data": {
      "application/vnd.jupyter.widget-view+json": {
       "model_id": "08d0a9e4e8914496bf7a60566e3028e5",
       "version_major": 2,
       "version_minor": 0
      },
      "text/plain": [
       "IntProgress(value=0, description='mou_6', max=29)"
      ]
     },
     "metadata": {},
     "output_type": "display_data"
    },
    {
     "data": {
      "application/vnd.jupyter.widget-view+json": {
       "model_id": "bd3f930a5c9b44068547feb763473145",
       "version_major": 2,
       "version_minor": 0
      },
      "text/plain": [
       "IntProgress(value=0, description='mou_6', max=29)"
      ]
     },
     "metadata": {},
     "output_type": "display_data"
    },
    {
     "data": {
      "application/vnd.jupyter.widget-view+json": {
       "model_id": "045fe4370f074302aa62dac636cf254d",
       "version_major": 2,
       "version_minor": 0
      },
      "text/plain": [
       "IntProgress(value=0, description='mou_6', max=29)"
      ]
     },
     "metadata": {},
     "output_type": "display_data"
    },
    {
     "data": {
      "application/vnd.jupyter.widget-view+json": {
       "model_id": "96a400eb58f64e45b87c49ef6357575e",
       "version_major": 2,
       "version_minor": 0
      },
      "text/plain": [
       "IntProgress(value=0, description='mou_6', max=29)"
      ]
     },
     "metadata": {},
     "output_type": "display_data"
    },
    {
     "data": {
      "application/vnd.jupyter.widget-view+json": {
       "model_id": "04c1a7f6403a48d5bd819795c33d0a0d",
       "version_major": 2,
       "version_minor": 0
      },
      "text/plain": [
       "IntProgress(value=0, description='mou_6', max=29)"
      ]
     },
     "metadata": {},
     "output_type": "display_data"
    },
    {
     "data": {
      "application/vnd.jupyter.widget-view+json": {
       "model_id": "031d2b55eec840bfb47f00b82fc07016",
       "version_major": 2,
       "version_minor": 0
      },
      "text/plain": [
       "IntProgress(value=0, description='mou_6', max=29)"
      ]
     },
     "metadata": {},
     "output_type": "display_data"
    },
    {
     "data": {
      "application/vnd.jupyter.widget-view+json": {
       "model_id": "f5cab747d183454b9dce6821b7f5c85f",
       "version_major": 2,
       "version_minor": 0
      },
      "text/plain": [
       "IntProgress(value=0, description='mou_6', max=29)"
      ]
     },
     "metadata": {},
     "output_type": "display_data"
    },
    {
     "data": {
      "application/vnd.jupyter.widget-view+json": {
       "model_id": "af5e3aa4d4dc48cfabebf03bc7da2f1b",
       "version_major": 2,
       "version_minor": 0
      },
      "text/plain": [
       "IntProgress(value=0, description='mou_6', max=29)"
      ]
     },
     "metadata": {},
     "output_type": "display_data"
    },
    {
     "data": {
      "application/vnd.jupyter.widget-view+json": {
       "model_id": "0e32f71668a04eb9b6dd59aee5209093",
       "version_major": 2,
       "version_minor": 0
      },
      "text/plain": [
       "IntProgress(value=0, description='mou_6', max=29)"
      ]
     },
     "metadata": {},
     "output_type": "display_data"
    },
    {
     "data": {
      "application/vnd.jupyter.widget-view+json": {
       "model_id": "ec1c146ead404210921cfdd997574d84",
       "version_major": 2,
       "version_minor": 0
      },
      "text/plain": [
       "IntProgress(value=0, description='mou_6', max=29)"
      ]
     },
     "metadata": {},
     "output_type": "display_data"
    },
    {
     "name": "stdout",
     "output_type": "stream",
     "text": [
      "Warning: skipping session with too few trials 1\n",
      "Warning: skipping session with too few trials 1\n",
      "Warning: skipping session with too few trials 1\n",
      "Warning: skipping session with too few trials 0\n",
      "Warning: skipping session with too few trials 1\n",
      "Warning: skipping session with too few trials 0\n",
      "Warning: skipping session with too few trials 1\n",
      "Warning: skipping session with too few trials 1\n",
      "Warning: skipping session with too few trials 0\n",
      "Warning: skipping session with too few trials 2\n",
      "Warning: skipping session with too few trials 1\n",
      "Warning: skipping session with too few trials 1\n",
      "Warning: skipping session with too few trials 1\n",
      "Warning: skipping session with too few trials 2\n",
      "Warning: skipping session with too few trials 3\n",
      "Warning: skipping session with too few trials 3\n",
      "Warning: skipping session with too few trials 6\n",
      "Warning: skipping session with too few trials 1\n",
      "Warning: skipping session with too few trials 2\n",
      "Warning: skipping session with too few trials 3\n",
      "Warning: skipping session with too few trials 8\n",
      "Warning: skipping session with too few trials 1\n",
      "Warning: skipping session with too few trials 3\n",
      "Warning: skipping session with too few trials 7\n",
      "Warning: skipping session with too few trials 2\n",
      "Warning: skipping session with too few trials 3\n",
      "Warning: skipping session with too few trials 6\n",
      "Warning: skipping session with too few trials 2\n",
      "Warning: skipping session with too few trials 0\n",
      "Warning, all sessions had too few trials, this mouse is skipped\n"
     ]
    },
    {
     "data": {
      "application/vnd.jupyter.widget-view+json": {
       "model_id": "86b8a37cafcf42b892412d20e09db6a5",
       "version_major": 2,
       "version_minor": 0
      },
      "text/plain": [
       "IntProgress(value=0, description='mou_6', max=29)"
      ]
     },
     "metadata": {},
     "output_type": "display_data"
    },
    {
     "name": "stdout",
     "output_type": "stream",
     "text": [
      "Warning: skipping session with too few trials 1\n",
      "Warning: skipping session with too few trials 1\n",
      "Warning: skipping session with too few trials 1\n",
      "Warning: skipping session with too few trials 0\n",
      "Warning: skipping session with too few trials 1\n",
      "Warning: skipping session with too few trials 0\n",
      "Warning: skipping session with too few trials 1\n",
      "Warning: skipping session with too few trials 1\n",
      "Warning: skipping session with too few trials 0\n",
      "Warning: skipping session with too few trials 2\n",
      "Warning: skipping session with too few trials 1\n",
      "Warning: skipping session with too few trials 1\n",
      "Warning: skipping session with too few trials 1\n",
      "Warning: skipping session with too few trials 2\n",
      "Warning: skipping session with too few trials 3\n",
      "Warning: skipping session with too few trials 3\n",
      "Warning: skipping session with too few trials 6\n",
      "Warning: skipping session with too few trials 1\n",
      "Warning: skipping session with too few trials 2\n",
      "Warning: skipping session with too few trials 3\n",
      "Warning: skipping session with too few trials 8\n",
      "Warning: skipping session with too few trials 1\n",
      "Warning: skipping session with too few trials 3\n",
      "Warning: skipping session with too few trials 7\n",
      "Warning: skipping session with too few trials 2\n",
      "Warning: skipping session with too few trials 3\n",
      "Warning: skipping session with too few trials 6\n",
      "Warning: skipping session with too few trials 2\n",
      "Warning: skipping session with too few trials 0\n",
      "Warning, all sessions had too few trials, this mouse is skipped\n"
     ]
    },
    {
     "data": {
      "application/vnd.jupyter.widget-view+json": {
       "model_id": "db4fe2b34adb4194ab98f69486f0fdcc",
       "version_major": 2,
       "version_minor": 0
      },
      "text/plain": [
       "IntProgress(value=0, description='mou_6', max=29)"
      ]
     },
     "metadata": {},
     "output_type": "display_data"
    },
    {
     "name": "stdout",
     "output_type": "stream",
     "text": [
      "Warning: skipping session with too few trials 1\n",
      "Warning: skipping session with too few trials 1\n",
      "Warning: skipping session with too few trials 1\n",
      "Warning: skipping session with too few trials 0\n",
      "Warning: skipping session with too few trials 1\n",
      "Warning: skipping session with too few trials 0\n",
      "Warning: skipping session with too few trials 1\n",
      "Warning: skipping session with too few trials 1\n",
      "Warning: skipping session with too few trials 0\n",
      "Warning: skipping session with too few trials 2\n",
      "Warning: skipping session with too few trials 1\n",
      "Warning: skipping session with too few trials 1\n",
      "Warning: skipping session with too few trials 1\n",
      "Warning: skipping session with too few trials 2\n",
      "Warning: skipping session with too few trials 3\n",
      "Warning: skipping session with too few trials 3\n",
      "Warning: skipping session with too few trials 6\n",
      "Warning: skipping session with too few trials 1\n",
      "Warning: skipping session with too few trials 2\n",
      "Warning: skipping session with too few trials 3\n",
      "Warning: skipping session with too few trials 8\n",
      "Warning: skipping session with too few trials 1\n",
      "Warning: skipping session with too few trials 3\n",
      "Warning: skipping session with too few trials 7\n",
      "Warning: skipping session with too few trials 2\n",
      "Warning: skipping session with too few trials 3\n",
      "Warning: skipping session with too few trials 6\n",
      "Warning: skipping session with too few trials 2\n",
      "Warning: skipping session with too few trials 0\n",
      "Warning, all sessions had too few trials, this mouse is skipped\n"
     ]
    },
    {
     "data": {
      "application/vnd.jupyter.widget-view+json": {
       "model_id": "b98803e24d2d4cd1aaa0ceb8a743794d",
       "version_major": 2,
       "version_minor": 0
      },
      "text/plain": [
       "IntProgress(value=0, description='mou_6', max=29)"
      ]
     },
     "metadata": {},
     "output_type": "display_data"
    },
    {
     "name": "stdout",
     "output_type": "stream",
     "text": [
      "Warning: skipping session with too few trials 1\n",
      "Warning: skipping session with too few trials 1\n",
      "Warning: skipping session with too few trials 1\n",
      "Warning: skipping session with too few trials 0\n",
      "Warning: skipping session with too few trials 1\n",
      "Warning: skipping session with too few trials 0\n",
      "Warning: skipping session with too few trials 1\n",
      "Warning: skipping session with too few trials 1\n",
      "Warning: skipping session with too few trials 0\n",
      "Warning: skipping session with too few trials 2\n",
      "Warning: skipping session with too few trials 1\n",
      "Warning: skipping session with too few trials 1\n",
      "Warning: skipping session with too few trials 1\n",
      "Warning: skipping session with too few trials 2\n",
      "Warning: skipping session with too few trials 3\n",
      "Warning: skipping session with too few trials 3\n",
      "Warning: skipping session with too few trials 6\n",
      "Warning: skipping session with too few trials 1\n",
      "Warning: skipping session with too few trials 2\n",
      "Warning: skipping session with too few trials 3\n",
      "Warning: skipping session with too few trials 8\n",
      "Warning: skipping session with too few trials 1\n",
      "Warning: skipping session with too few trials 3\n",
      "Warning: skipping session with too few trials 7\n",
      "Warning: skipping session with too few trials 2\n",
      "Warning: skipping session with too few trials 3\n",
      "Warning: skipping session with too few trials 6\n",
      "Warning: skipping session with too few trials 2\n",
      "Warning: skipping session with too few trials 0\n",
      "Warning, all sessions had too few trials, this mouse is skipped\n"
     ]
    },
    {
     "data": {
      "application/vnd.jupyter.widget-view+json": {
       "model_id": "e451f7b92e2b46eaa75c0366628ac449",
       "version_major": 2,
       "version_minor": 0
      },
      "text/plain": [
       "IntProgress(value=0, description='mou_6', max=29)"
      ]
     },
     "metadata": {},
     "output_type": "display_data"
    },
    {
     "name": "stdout",
     "output_type": "stream",
     "text": [
      "Warning: skipping session with too few trials 1\n",
      "Warning: skipping session with too few trials 1\n",
      "Warning: skipping session with too few trials 1\n",
      "Warning: skipping session with too few trials 0\n",
      "Warning: skipping session with too few trials 1\n",
      "Warning: skipping session with too few trials 0\n",
      "Warning: skipping session with too few trials 1\n",
      "Warning: skipping session with too few trials 1\n",
      "Warning: skipping session with too few trials 0\n",
      "Warning: skipping session with too few trials 2\n",
      "Warning: skipping session with too few trials 1\n",
      "Warning: skipping session with too few trials 1\n",
      "Warning: skipping session with too few trials 1\n",
      "Warning: skipping session with too few trials 2\n",
      "Warning: skipping session with too few trials 3\n",
      "Warning: skipping session with too few trials 3\n",
      "Warning: skipping session with too few trials 6\n",
      "Warning: skipping session with too few trials 1\n",
      "Warning: skipping session with too few trials 2\n",
      "Warning: skipping session with too few trials 3\n",
      "Warning: skipping session with too few trials 8\n",
      "Warning: skipping session with too few trials 1\n",
      "Warning: skipping session with too few trials 3\n",
      "Warning: skipping session with too few trials 7\n",
      "Warning: skipping session with too few trials 2\n",
      "Warning: skipping session with too few trials 3\n",
      "Warning: skipping session with too few trials 6\n",
      "Warning: skipping session with too few trials 2\n",
      "Warning: skipping session with too few trials 0\n",
      "Warning, all sessions had too few trials, this mouse is skipped\n"
     ]
    },
    {
     "data": {
      "application/vnd.jupyter.widget-view+json": {
       "model_id": "c47d0d089784431996b80e4e9b72b659",
       "version_major": 2,
       "version_minor": 0
      },
      "text/plain": [
       "IntProgress(value=0, description='mou_6', max=29)"
      ]
     },
     "metadata": {},
     "output_type": "display_data"
    },
    {
     "data": {
      "application/vnd.jupyter.widget-view+json": {
       "model_id": "9bad7fa104c741e6bfce8b0ca4ef8319",
       "version_major": 2,
       "version_minor": 0
      },
      "text/plain": [
       "IntProgress(value=0, description='mou_6', max=29)"
      ]
     },
     "metadata": {},
     "output_type": "display_data"
    },
    {
     "data": {
      "application/vnd.jupyter.widget-view+json": {
       "model_id": "a9d2e35ea4d44b58accd6579b84dea55",
       "version_major": 2,
       "version_minor": 0
      },
      "text/plain": [
       "IntProgress(value=0, description='mou_6', max=29)"
      ]
     },
     "metadata": {},
     "output_type": "display_data"
    },
    {
     "data": {
      "application/vnd.jupyter.widget-view+json": {
       "model_id": "b40893b7f52d4e5b9ab9f553399c9954",
       "version_major": 2,
       "version_minor": 0
      },
      "text/plain": [
       "IntProgress(value=0, description='mou_6', max=29)"
      ]
     },
     "metadata": {},
     "output_type": "display_data"
    },
    {
     "data": {
      "application/vnd.jupyter.widget-view+json": {
       "model_id": "f4a3e3a127204a2fbd9b85050924c679",
       "version_major": 2,
       "version_minor": 0
      },
      "text/plain": [
       "IntProgress(value=0, description='mou_6', max=29)"
      ]
     },
     "metadata": {},
     "output_type": "display_data"
    },
    {
     "data": {
      "application/vnd.jupyter.widget-view+json": {
       "model_id": "e7315dd631774af69e51e5f505e3f907",
       "version_major": 2,
       "version_minor": 0
      },
      "text/plain": [
       "IntProgress(value=0, description='mou_6', max=29)"
      ]
     },
     "metadata": {},
     "output_type": "display_data"
    },
    {
     "name": "stdout",
     "output_type": "stream",
     "text": [
      "Warning: skipping session with too few trials 3\n",
      "Warning: skipping session with too few trials 2\n",
      "Warning: skipping session with too few trials 8\n",
      "Warning: skipping session with too few trials 8\n",
      "Warning: skipping session with too few trials 8\n",
      "Warning: skipping session with too few trials 3\n",
      "Warning: skipping session with too few trials 4\n",
      "Warning: skipping session with too few trials 9\n",
      "Warning: skipping session with too few trials 5\n",
      "Warning: skipping session with too few trials 4\n",
      "Warning: skipping session with too few trials 7\n",
      "Warning: skipping session with too few trials 7\n",
      "Warning: skipping session with too few trials 3\n",
      "Warning: skipping session with too few trials 4\n",
      "Warning: skipping session with too few trials 2\n",
      "Warning: skipping session with too few trials 1\n"
     ]
    },
    {
     "data": {
      "application/vnd.jupyter.widget-view+json": {
       "model_id": "a21971311a3a44bca886ab580163f016",
       "version_major": 2,
       "version_minor": 0
      },
      "text/plain": [
       "IntProgress(value=0, description='mou_6', max=29)"
      ]
     },
     "metadata": {},
     "output_type": "display_data"
    },
    {
     "name": "stdout",
     "output_type": "stream",
     "text": [
      "Warning: skipping session with too few trials 3\n",
      "Warning: skipping session with too few trials 2\n",
      "Warning: skipping session with too few trials 8\n",
      "Warning: skipping session with too few trials 8\n",
      "Warning: skipping session with too few trials 8\n",
      "Warning: skipping session with too few trials 3\n",
      "Warning: skipping session with too few trials 4\n",
      "Warning: skipping session with too few trials 9\n",
      "Warning: skipping session with too few trials 5\n",
      "Warning: skipping session with too few trials 4\n",
      "Warning: skipping session with too few trials 7\n",
      "Warning: skipping session with too few trials 7\n",
      "Warning: skipping session with too few trials 3\n",
      "Warning: skipping session with too few trials 4\n",
      "Warning: skipping session with too few trials 2\n",
      "Warning: skipping session with too few trials 1\n"
     ]
    },
    {
     "data": {
      "application/vnd.jupyter.widget-view+json": {
       "model_id": "0f84b987a1f94470b88aacdea431fe8f",
       "version_major": 2,
       "version_minor": 0
      },
      "text/plain": [
       "IntProgress(value=0, description='mou_6', max=29)"
      ]
     },
     "metadata": {},
     "output_type": "display_data"
    },
    {
     "name": "stdout",
     "output_type": "stream",
     "text": [
      "Warning: skipping session with too few trials 3\n",
      "Warning: skipping session with too few trials 2\n",
      "Warning: skipping session with too few trials 8\n",
      "Warning: skipping session with too few trials 8\n",
      "Warning: skipping session with too few trials 8\n",
      "Warning: skipping session with too few trials 3\n",
      "Warning: skipping session with too few trials 4\n",
      "Warning: skipping session with too few trials 9\n",
      "Warning: skipping session with too few trials 5\n",
      "Warning: skipping session with too few trials 4\n",
      "Warning: skipping session with too few trials 7\n",
      "Warning: skipping session with too few trials 7\n",
      "Warning: skipping session with too few trials 3\n",
      "Warning: skipping session with too few trials 4\n",
      "Warning: skipping session with too few trials 2\n",
      "Warning: skipping session with too few trials 1\n"
     ]
    },
    {
     "data": {
      "application/vnd.jupyter.widget-view+json": {
       "model_id": "7401b294b808431ca0fd28ed8aec0aae",
       "version_major": 2,
       "version_minor": 0
      },
      "text/plain": [
       "IntProgress(value=0, description='mou_6', max=29)"
      ]
     },
     "metadata": {},
     "output_type": "display_data"
    },
    {
     "name": "stdout",
     "output_type": "stream",
     "text": [
      "Warning: skipping session with too few trials 3\n",
      "Warning: skipping session with too few trials 2\n",
      "Warning: skipping session with too few trials 8\n",
      "Warning: skipping session with too few trials 8\n",
      "Warning: skipping session with too few trials 8\n",
      "Warning: skipping session with too few trials 3\n",
      "Warning: skipping session with too few trials 4\n",
      "Warning: skipping session with too few trials 9\n",
      "Warning: skipping session with too few trials 5\n",
      "Warning: skipping session with too few trials 4\n",
      "Warning: skipping session with too few trials 7\n",
      "Warning: skipping session with too few trials 7\n",
      "Warning: skipping session with too few trials 3\n",
      "Warning: skipping session with too few trials 4\n",
      "Warning: skipping session with too few trials 2\n",
      "Warning: skipping session with too few trials 1\n"
     ]
    },
    {
     "data": {
      "application/vnd.jupyter.widget-view+json": {
       "model_id": "284b0c3d0b73450e9656e6626e128448",
       "version_major": 2,
       "version_minor": 0
      },
      "text/plain": [
       "IntProgress(value=0, description='mou_6', max=29)"
      ]
     },
     "metadata": {},
     "output_type": "display_data"
    },
    {
     "name": "stdout",
     "output_type": "stream",
     "text": [
      "Warning: skipping session with too few trials 3\n",
      "Warning: skipping session with too few trials 2\n",
      "Warning: skipping session with too few trials 8\n",
      "Warning: skipping session with too few trials 8\n",
      "Warning: skipping session with too few trials 8\n",
      "Warning: skipping session with too few trials 3\n",
      "Warning: skipping session with too few trials 4\n",
      "Warning: skipping session with too few trials 9\n",
      "Warning: skipping session with too few trials 5\n",
      "Warning: skipping session with too few trials 4\n",
      "Warning: skipping session with too few trials 7\n",
      "Warning: skipping session with too few trials 7\n",
      "Warning: skipping session with too few trials 3\n",
      "Warning: skipping session with too few trials 4\n",
      "Warning: skipping session with too few trials 2\n",
      "Warning: skipping session with too few trials 1\n"
     ]
    },
    {
     "data": {
      "application/vnd.jupyter.widget-view+json": {
       "model_id": "2db6a0d273454ec6b9014b4658da78a9",
       "version_major": 2,
       "version_minor": 0
      },
      "text/plain": [
       "IntProgress(value=0, description='mou_6', max=29)"
      ]
     },
     "metadata": {},
     "output_type": "display_data"
    },
    {
     "data": {
      "application/vnd.jupyter.widget-view+json": {
       "model_id": "c28451a442844e0e9eef35176a030fe9",
       "version_major": 2,
       "version_minor": 0
      },
      "text/plain": [
       "IntProgress(value=0, description='mou_6', max=29)"
      ]
     },
     "metadata": {},
     "output_type": "display_data"
    },
    {
     "data": {
      "application/vnd.jupyter.widget-view+json": {
       "model_id": "9299339f97ad4a2399a656bb4fae5501",
       "version_major": 2,
       "version_minor": 0
      },
      "text/plain": [
       "IntProgress(value=0, description='mou_6', max=29)"
      ]
     },
     "metadata": {},
     "output_type": "display_data"
    },
    {
     "data": {
      "application/vnd.jupyter.widget-view+json": {
       "model_id": "53fae300f72a4468b3dd7aeb12cfae95",
       "version_major": 2,
       "version_minor": 0
      },
      "text/plain": [
       "IntProgress(value=0, description='mou_6', max=29)"
      ]
     },
     "metadata": {},
     "output_type": "display_data"
    },
    {
     "data": {
      "application/vnd.jupyter.widget-view+json": {
       "model_id": "7b42feb6d67f4ca998759f472f95fc6a",
       "version_major": 2,
       "version_minor": 0
      },
      "text/plain": [
       "IntProgress(value=0, description='mou_6', max=29)"
      ]
     },
     "metadata": {},
     "output_type": "display_data"
    },
    {
     "data": {
      "application/vnd.jupyter.widget-view+json": {
       "model_id": "19e3f33763be45409d5c04ac9b09622e",
       "version_major": 2,
       "version_minor": 0
      },
      "text/plain": [
       "IntProgress(value=0, description='mou_6', max=29)"
      ]
     },
     "metadata": {},
     "output_type": "display_data"
    },
    {
     "data": {
      "application/vnd.jupyter.widget-view+json": {
       "model_id": "d376bc272d9240c3ba3015d72c990350",
       "version_major": 2,
       "version_minor": 0
      },
      "text/plain": [
       "IntProgress(value=0, description='mou_6', max=29)"
      ]
     },
     "metadata": {},
     "output_type": "display_data"
    },
    {
     "data": {
      "application/vnd.jupyter.widget-view+json": {
       "model_id": "076f00cd63e94022b59d6dc918da4ba1",
       "version_major": 2,
       "version_minor": 0
      },
      "text/plain": [
       "IntProgress(value=0, description='mou_6', max=29)"
      ]
     },
     "metadata": {},
     "output_type": "display_data"
    },
    {
     "data": {
      "application/vnd.jupyter.widget-view+json": {
       "model_id": "038dd161cb844142be7e2677d1de78e3",
       "version_major": 2,
       "version_minor": 0
      },
      "text/plain": [
       "IntProgress(value=0, description='mou_6', max=29)"
      ]
     },
     "metadata": {},
     "output_type": "display_data"
    },
    {
     "data": {
      "application/vnd.jupyter.widget-view+json": {
       "model_id": "d835b278ddd14fe2bc9ec83054cf75ab",
       "version_major": 2,
       "version_minor": 0
      },
      "text/plain": [
       "IntProgress(value=0, description='mou_6', max=29)"
      ]
     },
     "metadata": {},
     "output_type": "display_data"
    },
    {
     "data": {
      "application/vnd.jupyter.widget-view+json": {
       "model_id": "007781fb6b6a426ca3601c67c835b5c0",
       "version_major": 2,
       "version_minor": 0
      },
      "text/plain": [
       "IntProgress(value=0, description='mou_6', max=29)"
      ]
     },
     "metadata": {},
     "output_type": "display_data"
    },
    {
     "name": "stdout",
     "output_type": "stream",
     "text": [
      "Warning: skipping session with too few trials 1\n",
      "Warning: skipping session with too few trials 1\n",
      "Warning: skipping session with too few trials 1\n",
      "Warning: skipping session with too few trials 0\n",
      "Warning: skipping session with too few trials 1\n",
      "Warning: skipping session with too few trials 0\n",
      "Warning: skipping session with too few trials 1\n",
      "Warning: skipping session with too few trials 1\n",
      "Warning: skipping session with too few trials 0\n",
      "Warning: skipping session with too few trials 2\n",
      "Warning: skipping session with too few trials 1\n",
      "Warning: skipping session with too few trials 1\n",
      "Warning: skipping session with too few trials 1\n",
      "Warning: skipping session with too few trials 2\n",
      "Warning: skipping session with too few trials 3\n",
      "Warning: skipping session with too few trials 3\n",
      "Warning: skipping session with too few trials 6\n",
      "Warning: skipping session with too few trials 1\n",
      "Warning: skipping session with too few trials 2\n",
      "Warning: skipping session with too few trials 3\n",
      "Warning: skipping session with too few trials 8\n",
      "Warning: skipping session with too few trials 1\n",
      "Warning: skipping session with too few trials 3\n",
      "Warning: skipping session with too few trials 7\n",
      "Warning: skipping session with too few trials 2\n",
      "Warning: skipping session with too few trials 3\n",
      "Warning: skipping session with too few trials 6\n",
      "Warning: skipping session with too few trials 2\n",
      "Warning: skipping session with too few trials 0\n",
      "Warning, all sessions had too few trials, this mouse is skipped\n"
     ]
    },
    {
     "data": {
      "application/vnd.jupyter.widget-view+json": {
       "model_id": "fda24a36b3d845cd87d69a921e078df9",
       "version_major": 2,
       "version_minor": 0
      },
      "text/plain": [
       "IntProgress(value=0, description='mou_6', max=29)"
      ]
     },
     "metadata": {},
     "output_type": "display_data"
    },
    {
     "name": "stdout",
     "output_type": "stream",
     "text": [
      "Warning: skipping session with too few trials 1\n",
      "Warning: skipping session with too few trials 1\n",
      "Warning: skipping session with too few trials 1\n",
      "Warning: skipping session with too few trials 0\n",
      "Warning: skipping session with too few trials 1\n",
      "Warning: skipping session with too few trials 0\n",
      "Warning: skipping session with too few trials 1\n",
      "Warning: skipping session with too few trials 1\n",
      "Warning: skipping session with too few trials 0\n",
      "Warning: skipping session with too few trials 2\n",
      "Warning: skipping session with too few trials 1\n",
      "Warning: skipping session with too few trials 1\n",
      "Warning: skipping session with too few trials 1\n",
      "Warning: skipping session with too few trials 2\n",
      "Warning: skipping session with too few trials 3\n",
      "Warning: skipping session with too few trials 3\n",
      "Warning: skipping session with too few trials 6\n",
      "Warning: skipping session with too few trials 1\n",
      "Warning: skipping session with too few trials 2\n",
      "Warning: skipping session with too few trials 3\n",
      "Warning: skipping session with too few trials 8\n",
      "Warning: skipping session with too few trials 1\n",
      "Warning: skipping session with too few trials 3\n",
      "Warning: skipping session with too few trials 7\n",
      "Warning: skipping session with too few trials 2\n",
      "Warning: skipping session with too few trials 3\n",
      "Warning: skipping session with too few trials 6\n",
      "Warning: skipping session with too few trials 2\n",
      "Warning: skipping session with too few trials 0\n",
      "Warning, all sessions had too few trials, this mouse is skipped\n"
     ]
    },
    {
     "data": {
      "application/vnd.jupyter.widget-view+json": {
       "model_id": "dd1856819ebd44c99e1f0ccb54d14193",
       "version_major": 2,
       "version_minor": 0
      },
      "text/plain": [
       "IntProgress(value=0, description='mou_6', max=29)"
      ]
     },
     "metadata": {},
     "output_type": "display_data"
    },
    {
     "name": "stdout",
     "output_type": "stream",
     "text": [
      "Warning: skipping session with too few trials 1\n",
      "Warning: skipping session with too few trials 1\n",
      "Warning: skipping session with too few trials 1\n",
      "Warning: skipping session with too few trials 0\n",
      "Warning: skipping session with too few trials 1\n",
      "Warning: skipping session with too few trials 0\n",
      "Warning: skipping session with too few trials 1\n",
      "Warning: skipping session with too few trials 1\n",
      "Warning: skipping session with too few trials 0\n",
      "Warning: skipping session with too few trials 2\n",
      "Warning: skipping session with too few trials 1\n",
      "Warning: skipping session with too few trials 1\n",
      "Warning: skipping session with too few trials 1\n",
      "Warning: skipping session with too few trials 2\n",
      "Warning: skipping session with too few trials 3\n",
      "Warning: skipping session with too few trials 3\n",
      "Warning: skipping session with too few trials 6\n",
      "Warning: skipping session with too few trials 1\n",
      "Warning: skipping session with too few trials 2\n",
      "Warning: skipping session with too few trials 3\n",
      "Warning: skipping session with too few trials 8\n",
      "Warning: skipping session with too few trials 1\n",
      "Warning: skipping session with too few trials 3\n",
      "Warning: skipping session with too few trials 7\n",
      "Warning: skipping session with too few trials 2\n",
      "Warning: skipping session with too few trials 3\n",
      "Warning: skipping session with too few trials 6\n",
      "Warning: skipping session with too few trials 2\n",
      "Warning: skipping session with too few trials 0\n",
      "Warning, all sessions had too few trials, this mouse is skipped\n"
     ]
    },
    {
     "data": {
      "application/vnd.jupyter.widget-view+json": {
       "model_id": "46cd3a3db9814aa9b8af9048c9bd7ac9",
       "version_major": 2,
       "version_minor": 0
      },
      "text/plain": [
       "IntProgress(value=0, description='mou_6', max=29)"
      ]
     },
     "metadata": {},
     "output_type": "display_data"
    },
    {
     "name": "stdout",
     "output_type": "stream",
     "text": [
      "Warning: skipping session with too few trials 1\n",
      "Warning: skipping session with too few trials 1\n",
      "Warning: skipping session with too few trials 1\n",
      "Warning: skipping session with too few trials 0\n",
      "Warning: skipping session with too few trials 1\n",
      "Warning: skipping session with too few trials 0\n",
      "Warning: skipping session with too few trials 1\n",
      "Warning: skipping session with too few trials 1\n",
      "Warning: skipping session with too few trials 0\n",
      "Warning: skipping session with too few trials 2\n",
      "Warning: skipping session with too few trials 1\n",
      "Warning: skipping session with too few trials 1\n",
      "Warning: skipping session with too few trials 1\n",
      "Warning: skipping session with too few trials 2\n",
      "Warning: skipping session with too few trials 3\n",
      "Warning: skipping session with too few trials 3\n",
      "Warning: skipping session with too few trials 6\n",
      "Warning: skipping session with too few trials 1\n",
      "Warning: skipping session with too few trials 2\n",
      "Warning: skipping session with too few trials 3\n",
      "Warning: skipping session with too few trials 8\n",
      "Warning: skipping session with too few trials 1\n",
      "Warning: skipping session with too few trials 3\n",
      "Warning: skipping session with too few trials 7\n",
      "Warning: skipping session with too few trials 2\n",
      "Warning: skipping session with too few trials 3\n",
      "Warning: skipping session with too few trials 6\n",
      "Warning: skipping session with too few trials 2\n",
      "Warning: skipping session with too few trials 0\n",
      "Warning, all sessions had too few trials, this mouse is skipped\n"
     ]
    },
    {
     "data": {
      "application/vnd.jupyter.widget-view+json": {
       "model_id": "5d82ffb28e9546a0b17704563e6868ef",
       "version_major": 2,
       "version_minor": 0
      },
      "text/plain": [
       "IntProgress(value=0, description='mou_6', max=29)"
      ]
     },
     "metadata": {},
     "output_type": "display_data"
    },
    {
     "name": "stdout",
     "output_type": "stream",
     "text": [
      "Warning: skipping session with too few trials 1\n",
      "Warning: skipping session with too few trials 1\n",
      "Warning: skipping session with too few trials 1\n",
      "Warning: skipping session with too few trials 0\n",
      "Warning: skipping session with too few trials 1\n",
      "Warning: skipping session with too few trials 0\n",
      "Warning: skipping session with too few trials 1\n",
      "Warning: skipping session with too few trials 1\n",
      "Warning: skipping session with too few trials 0\n",
      "Warning: skipping session with too few trials 2\n",
      "Warning: skipping session with too few trials 1\n",
      "Warning: skipping session with too few trials 1\n",
      "Warning: skipping session with too few trials 1\n",
      "Warning: skipping session with too few trials 2\n",
      "Warning: skipping session with too few trials 3\n",
      "Warning: skipping session with too few trials 3\n",
      "Warning: skipping session with too few trials 6\n",
      "Warning: skipping session with too few trials 1\n",
      "Warning: skipping session with too few trials 2\n",
      "Warning: skipping session with too few trials 3\n",
      "Warning: skipping session with too few trials 8\n",
      "Warning: skipping session with too few trials 1\n",
      "Warning: skipping session with too few trials 3\n",
      "Warning: skipping session with too few trials 7\n",
      "Warning: skipping session with too few trials 2\n",
      "Warning: skipping session with too few trials 3\n",
      "Warning: skipping session with too few trials 6\n",
      "Warning: skipping session with too few trials 2\n",
      "Warning: skipping session with too few trials 0\n",
      "Warning, all sessions had too few trials, this mouse is skipped\n"
     ]
    },
    {
     "data": {
      "application/vnd.jupyter.widget-view+json": {
       "model_id": "c6434b2e72e84ab88c676e567bef6fb5",
       "version_major": 2,
       "version_minor": 0
      },
      "text/plain": [
       "IntProgress(value=0, description='mou_6', max=29)"
      ]
     },
     "metadata": {},
     "output_type": "display_data"
    },
    {
     "data": {
      "application/vnd.jupyter.widget-view+json": {
       "model_id": "a8960c312c8d4d6897e58e4f6b063b8b",
       "version_major": 2,
       "version_minor": 0
      },
      "text/plain": [
       "IntProgress(value=0, description='mou_6', max=29)"
      ]
     },
     "metadata": {},
     "output_type": "display_data"
    },
    {
     "data": {
      "application/vnd.jupyter.widget-view+json": {
       "model_id": "188b7e2210854e1388b0006412dbe1b7",
       "version_major": 2,
       "version_minor": 0
      },
      "text/plain": [
       "IntProgress(value=0, description='mou_6', max=29)"
      ]
     },
     "metadata": {},
     "output_type": "display_data"
    },
    {
     "data": {
      "application/vnd.jupyter.widget-view+json": {
       "model_id": "cfec39ed557f4316a03bd8dd50781131",
       "version_major": 2,
       "version_minor": 0
      },
      "text/plain": [
       "IntProgress(value=0, description='mou_6', max=29)"
      ]
     },
     "metadata": {},
     "output_type": "display_data"
    },
    {
     "data": {
      "application/vnd.jupyter.widget-view+json": {
       "model_id": "ab4bc77887f14cb8af585deb92c23191",
       "version_major": 2,
       "version_minor": 0
      },
      "text/plain": [
       "IntProgress(value=0, description='mou_6', max=29)"
      ]
     },
     "metadata": {},
     "output_type": "display_data"
    },
    {
     "data": {
      "application/vnd.jupyter.widget-view+json": {
       "model_id": "37908b9753f0469e8d3eaa375f40a241",
       "version_major": 2,
       "version_minor": 0
      },
      "text/plain": [
       "IntProgress(value=0, description='mou_6', max=29)"
      ]
     },
     "metadata": {},
     "output_type": "display_data"
    },
    {
     "name": "stdout",
     "output_type": "stream",
     "text": [
      "Warning: skipping session with too few trials 3\n",
      "Warning: skipping session with too few trials 2\n",
      "Warning: skipping session with too few trials 8\n",
      "Warning: skipping session with too few trials 8\n",
      "Warning: skipping session with too few trials 8\n",
      "Warning: skipping session with too few trials 3\n",
      "Warning: skipping session with too few trials 4\n",
      "Warning: skipping session with too few trials 9\n",
      "Warning: skipping session with too few trials 5\n",
      "Warning: skipping session with too few trials 4\n",
      "Warning: skipping session with too few trials 7\n",
      "Warning: skipping session with too few trials 7\n",
      "Warning: skipping session with too few trials 3\n",
      "Warning: skipping session with too few trials 4\n",
      "Warning: skipping session with too few trials 2\n",
      "Warning: skipping session with too few trials 1\n"
     ]
    },
    {
     "data": {
      "application/vnd.jupyter.widget-view+json": {
       "model_id": "a7f32f2dca194959bc9b450083e80f8f",
       "version_major": 2,
       "version_minor": 0
      },
      "text/plain": [
       "IntProgress(value=0, description='mou_6', max=29)"
      ]
     },
     "metadata": {},
     "output_type": "display_data"
    },
    {
     "name": "stdout",
     "output_type": "stream",
     "text": [
      "Warning: skipping session with too few trials 3\n",
      "Warning: skipping session with too few trials 2\n",
      "Warning: skipping session with too few trials 8\n",
      "Warning: skipping session with too few trials 8\n",
      "Warning: skipping session with too few trials 8\n",
      "Warning: skipping session with too few trials 3\n",
      "Warning: skipping session with too few trials 4\n",
      "Warning: skipping session with too few trials 9\n",
      "Warning: skipping session with too few trials 5\n",
      "Warning: skipping session with too few trials 4\n",
      "Warning: skipping session with too few trials 7\n",
      "Warning: skipping session with too few trials 7\n",
      "Warning: skipping session with too few trials 3\n",
      "Warning: skipping session with too few trials 4\n",
      "Warning: skipping session with too few trials 2\n",
      "Warning: skipping session with too few trials 1\n"
     ]
    },
    {
     "data": {
      "application/vnd.jupyter.widget-view+json": {
       "model_id": "5852f7aebf584df3ba4956e587532c07",
       "version_major": 2,
       "version_minor": 0
      },
      "text/plain": [
       "IntProgress(value=0, description='mou_6', max=29)"
      ]
     },
     "metadata": {},
     "output_type": "display_data"
    },
    {
     "name": "stdout",
     "output_type": "stream",
     "text": [
      "Warning: skipping session with too few trials 3\n",
      "Warning: skipping session with too few trials 2\n",
      "Warning: skipping session with too few trials 8\n",
      "Warning: skipping session with too few trials 8\n",
      "Warning: skipping session with too few trials 8\n",
      "Warning: skipping session with too few trials 3\n",
      "Warning: skipping session with too few trials 4\n",
      "Warning: skipping session with too few trials 9\n",
      "Warning: skipping session with too few trials 5\n",
      "Warning: skipping session with too few trials 4\n",
      "Warning: skipping session with too few trials 7\n",
      "Warning: skipping session with too few trials 7\n",
      "Warning: skipping session with too few trials 3\n",
      "Warning: skipping session with too few trials 4\n",
      "Warning: skipping session with too few trials 2\n",
      "Warning: skipping session with too few trials 1\n"
     ]
    },
    {
     "data": {
      "application/vnd.jupyter.widget-view+json": {
       "model_id": "12f76ad28da34e8bb368d94ef02ee088",
       "version_major": 2,
       "version_minor": 0
      },
      "text/plain": [
       "IntProgress(value=0, description='mou_6', max=29)"
      ]
     },
     "metadata": {},
     "output_type": "display_data"
    },
    {
     "name": "stdout",
     "output_type": "stream",
     "text": [
      "Warning: skipping session with too few trials 3\n",
      "Warning: skipping session with too few trials 2\n",
      "Warning: skipping session with too few trials 8\n",
      "Warning: skipping session with too few trials 8\n",
      "Warning: skipping session with too few trials 8\n",
      "Warning: skipping session with too few trials 3\n",
      "Warning: skipping session with too few trials 4\n",
      "Warning: skipping session with too few trials 9\n",
      "Warning: skipping session with too few trials 5\n",
      "Warning: skipping session with too few trials 4\n",
      "Warning: skipping session with too few trials 7\n",
      "Warning: skipping session with too few trials 7\n",
      "Warning: skipping session with too few trials 3\n",
      "Warning: skipping session with too few trials 4\n",
      "Warning: skipping session with too few trials 2\n",
      "Warning: skipping session with too few trials 1\n"
     ]
    },
    {
     "data": {
      "application/vnd.jupyter.widget-view+json": {
       "model_id": "441513e4cc784e52a141204179599f96",
       "version_major": 2,
       "version_minor": 0
      },
      "text/plain": [
       "IntProgress(value=0, description='mou_6', max=29)"
      ]
     },
     "metadata": {},
     "output_type": "display_data"
    },
    {
     "name": "stdout",
     "output_type": "stream",
     "text": [
      "Warning: skipping session with too few trials 3\n",
      "Warning: skipping session with too few trials 2\n",
      "Warning: skipping session with too few trials 8\n",
      "Warning: skipping session with too few trials 8\n",
      "Warning: skipping session with too few trials 8\n",
      "Warning: skipping session with too few trials 3\n",
      "Warning: skipping session with too few trials 4\n",
      "Warning: skipping session with too few trials 9\n",
      "Warning: skipping session with too few trials 5\n",
      "Warning: skipping session with too few trials 4\n",
      "Warning: skipping session with too few trials 7\n",
      "Warning: skipping session with too few trials 7\n",
      "Warning: skipping session with too few trials 3\n",
      "Warning: skipping session with too few trials 4\n",
      "Warning: skipping session with too few trials 2\n",
      "Warning: skipping session with too few trials 1\n"
     ]
    },
    {
     "data": {
      "application/vnd.jupyter.widget-view+json": {
       "model_id": "a0bee03e3a454a78979d015ae9f9e71a",
       "version_major": 2,
       "version_minor": 0
      },
      "text/plain": [
       "IntProgress(value=0, description='mou_6', max=29)"
      ]
     },
     "metadata": {},
     "output_type": "display_data"
    },
    {
     "data": {
      "application/vnd.jupyter.widget-view+json": {
       "model_id": "fb29fd54ccb64543ab890efdffcf9ac3",
       "version_major": 2,
       "version_minor": 0
      },
      "text/plain": [
       "IntProgress(value=0, description='mou_6', max=29)"
      ]
     },
     "metadata": {},
     "output_type": "display_data"
    },
    {
     "data": {
      "application/vnd.jupyter.widget-view+json": {
       "model_id": "a567f39f93cc4c2285b0f677e44162ac",
       "version_major": 2,
       "version_minor": 0
      },
      "text/plain": [
       "IntProgress(value=0, description='mou_6', max=29)"
      ]
     },
     "metadata": {},
     "output_type": "display_data"
    },
    {
     "data": {
      "application/vnd.jupyter.widget-view+json": {
       "model_id": "d3eaa845007c4da483ff34cd761ba283",
       "version_major": 2,
       "version_minor": 0
      },
      "text/plain": [
       "IntProgress(value=0, description='mou_6', max=29)"
      ]
     },
     "metadata": {},
     "output_type": "display_data"
    },
    {
     "data": {
      "application/vnd.jupyter.widget-view+json": {
       "model_id": "31e9654c6055419dac0b405eef1fe9c0",
       "version_major": 2,
       "version_minor": 0
      },
      "text/plain": [
       "IntProgress(value=0, description='mou_6', max=29)"
      ]
     },
     "metadata": {},
     "output_type": "display_data"
    },
    {
     "data": {
      "application/vnd.jupyter.widget-view+json": {
       "model_id": "91617ddd247b443faccdeaf043c8fabc",
       "version_major": 2,
       "version_minor": 0
      },
      "text/plain": [
       "IntProgress(value=0, description='mou_6', max=29)"
      ]
     },
     "metadata": {},
     "output_type": "display_data"
    },
    {
     "data": {
      "application/vnd.jupyter.widget-view+json": {
       "model_id": "86fd98446d3747cd909cd5b530845049",
       "version_major": 2,
       "version_minor": 0
      },
      "text/plain": [
       "IntProgress(value=0, description='mou_6', max=29)"
      ]
     },
     "metadata": {},
     "output_type": "display_data"
    },
    {
     "data": {
      "application/vnd.jupyter.widget-view+json": {
       "model_id": "a052e3fcb98047c99d37761a948ed2c5",
       "version_major": 2,
       "version_minor": 0
      },
      "text/plain": [
       "IntProgress(value=0, description='mou_6', max=29)"
      ]
     },
     "metadata": {},
     "output_type": "display_data"
    },
    {
     "data": {
      "application/vnd.jupyter.widget-view+json": {
       "model_id": "e3accdad81694a01a48f18d8b8affd56",
       "version_major": 2,
       "version_minor": 0
      },
      "text/plain": [
       "IntProgress(value=0, description='mou_6', max=29)"
      ]
     },
     "metadata": {},
     "output_type": "display_data"
    },
    {
     "name": "stdout",
     "output_type": "stream",
     "text": [
      "Warning: skipping session with too few trials 1\n",
      "Warning: skipping session with too few trials 1\n",
      "Warning: skipping session with too few trials 1\n",
      "Warning: skipping session with too few trials 0\n",
      "Warning: skipping session with too few trials 1\n",
      "Warning: skipping session with too few trials 0\n",
      "Warning: skipping session with too few trials 1\n",
      "Warning: skipping session with too few trials 1\n",
      "Warning: skipping session with too few trials 0\n",
      "Warning: skipping session with too few trials 2\n",
      "Warning: skipping session with too few trials 1\n",
      "Warning: skipping session with too few trials 1\n",
      "Warning: skipping session with too few trials 1\n",
      "Warning: skipping session with too few trials 2\n",
      "Warning: skipping session with too few trials 3\n",
      "Warning: skipping session with too few trials 3\n",
      "Warning: skipping session with too few trials 6\n",
      "Warning: skipping session with too few trials 1\n",
      "Warning: skipping session with too few trials 2\n",
      "Warning: skipping session with too few trials 3\n",
      "Warning: skipping session with too few trials 8\n",
      "Warning: skipping session with too few trials 1\n",
      "Warning: skipping session with too few trials 3\n",
      "Warning: skipping session with too few trials 7\n",
      "Warning: skipping session with too few trials 2\n",
      "Warning: skipping session with too few trials 3\n",
      "Warning: skipping session with too few trials 6\n",
      "Warning: skipping session with too few trials 2\n",
      "Warning: skipping session with too few trials 0\n",
      "Warning, all sessions had too few trials, this mouse is skipped\n"
     ]
    },
    {
     "data": {
      "application/vnd.jupyter.widget-view+json": {
       "model_id": "063933882a8a4b219092d86bd9087077",
       "version_major": 2,
       "version_minor": 0
      },
      "text/plain": [
       "IntProgress(value=0, description='mou_6', max=29)"
      ]
     },
     "metadata": {},
     "output_type": "display_data"
    },
    {
     "name": "stdout",
     "output_type": "stream",
     "text": [
      "Warning: skipping session with too few trials 1\n",
      "Warning: skipping session with too few trials 1\n",
      "Warning: skipping session with too few trials 1\n",
      "Warning: skipping session with too few trials 0\n",
      "Warning: skipping session with too few trials 1\n",
      "Warning: skipping session with too few trials 0\n",
      "Warning: skipping session with too few trials 1\n",
      "Warning: skipping session with too few trials 1\n",
      "Warning: skipping session with too few trials 0\n",
      "Warning: skipping session with too few trials 2\n",
      "Warning: skipping session with too few trials 1\n",
      "Warning: skipping session with too few trials 1\n",
      "Warning: skipping session with too few trials 1\n",
      "Warning: skipping session with too few trials 2\n",
      "Warning: skipping session with too few trials 3\n",
      "Warning: skipping session with too few trials 3\n",
      "Warning: skipping session with too few trials 6\n",
      "Warning: skipping session with too few trials 1\n",
      "Warning: skipping session with too few trials 2\n",
      "Warning: skipping session with too few trials 3\n",
      "Warning: skipping session with too few trials 8\n",
      "Warning: skipping session with too few trials 1\n",
      "Warning: skipping session with too few trials 3\n",
      "Warning: skipping session with too few trials 7\n",
      "Warning: skipping session with too few trials 2\n",
      "Warning: skipping session with too few trials 3\n",
      "Warning: skipping session with too few trials 6\n",
      "Warning: skipping session with too few trials 2\n",
      "Warning: skipping session with too few trials 0\n",
      "Warning, all sessions had too few trials, this mouse is skipped\n"
     ]
    },
    {
     "data": {
      "application/vnd.jupyter.widget-view+json": {
       "model_id": "ff32844870eb4159904823cba1befbcd",
       "version_major": 2,
       "version_minor": 0
      },
      "text/plain": [
       "IntProgress(value=0, description='mou_6', max=29)"
      ]
     },
     "metadata": {},
     "output_type": "display_data"
    },
    {
     "name": "stdout",
     "output_type": "stream",
     "text": [
      "Warning: skipping session with too few trials 1\n",
      "Warning: skipping session with too few trials 1\n",
      "Warning: skipping session with too few trials 1\n",
      "Warning: skipping session with too few trials 0\n",
      "Warning: skipping session with too few trials 1\n",
      "Warning: skipping session with too few trials 0\n",
      "Warning: skipping session with too few trials 1\n",
      "Warning: skipping session with too few trials 1\n",
      "Warning: skipping session with too few trials 0\n",
      "Warning: skipping session with too few trials 2\n",
      "Warning: skipping session with too few trials 1\n",
      "Warning: skipping session with too few trials 1\n",
      "Warning: skipping session with too few trials 1\n",
      "Warning: skipping session with too few trials 2\n",
      "Warning: skipping session with too few trials 3\n",
      "Warning: skipping session with too few trials 3\n",
      "Warning: skipping session with too few trials 6\n",
      "Warning: skipping session with too few trials 1\n",
      "Warning: skipping session with too few trials 2\n",
      "Warning: skipping session with too few trials 3\n",
      "Warning: skipping session with too few trials 8\n",
      "Warning: skipping session with too few trials 1\n",
      "Warning: skipping session with too few trials 3\n",
      "Warning: skipping session with too few trials 7\n",
      "Warning: skipping session with too few trials 2\n",
      "Warning: skipping session with too few trials 3\n",
      "Warning: skipping session with too few trials 6\n",
      "Warning: skipping session with too few trials 2\n",
      "Warning: skipping session with too few trials 0\n",
      "Warning, all sessions had too few trials, this mouse is skipped\n"
     ]
    },
    {
     "data": {
      "application/vnd.jupyter.widget-view+json": {
       "model_id": "329fdb8d78a744b181a4a95d5fd3453c",
       "version_major": 2,
       "version_minor": 0
      },
      "text/plain": [
       "IntProgress(value=0, description='mou_6', max=29)"
      ]
     },
     "metadata": {},
     "output_type": "display_data"
    },
    {
     "name": "stdout",
     "output_type": "stream",
     "text": [
      "Warning: skipping session with too few trials 1\n",
      "Warning: skipping session with too few trials 1\n",
      "Warning: skipping session with too few trials 1\n",
      "Warning: skipping session with too few trials 0\n",
      "Warning: skipping session with too few trials 1\n",
      "Warning: skipping session with too few trials 0\n",
      "Warning: skipping session with too few trials 1\n",
      "Warning: skipping session with too few trials 1\n",
      "Warning: skipping session with too few trials 0\n",
      "Warning: skipping session with too few trials 2\n",
      "Warning: skipping session with too few trials 1\n",
      "Warning: skipping session with too few trials 1\n",
      "Warning: skipping session with too few trials 1\n",
      "Warning: skipping session with too few trials 2\n",
      "Warning: skipping session with too few trials 3\n",
      "Warning: skipping session with too few trials 3\n",
      "Warning: skipping session with too few trials 6\n",
      "Warning: skipping session with too few trials 1\n",
      "Warning: skipping session with too few trials 2\n",
      "Warning: skipping session with too few trials 3\n",
      "Warning: skipping session with too few trials 8\n",
      "Warning: skipping session with too few trials 1\n",
      "Warning: skipping session with too few trials 3\n",
      "Warning: skipping session with too few trials 7\n",
      "Warning: skipping session with too few trials 2\n",
      "Warning: skipping session with too few trials 3\n",
      "Warning: skipping session with too few trials 6\n",
      "Warning: skipping session with too few trials 2\n",
      "Warning: skipping session with too few trials 0\n",
      "Warning, all sessions had too few trials, this mouse is skipped\n"
     ]
    },
    {
     "data": {
      "application/vnd.jupyter.widget-view+json": {
       "model_id": "0e659ac71c0f4277838805f6e0a8e0a0",
       "version_major": 2,
       "version_minor": 0
      },
      "text/plain": [
       "IntProgress(value=0, description='mou_6', max=29)"
      ]
     },
     "metadata": {},
     "output_type": "display_data"
    },
    {
     "data": {
      "application/vnd.jupyter.widget-view+json": {
       "model_id": "d79cbc8967ff4681a9cdf19e7da99d73",
       "version_major": 2,
       "version_minor": 0
      },
      "text/plain": [
       "IntProgress(value=0, description='mou_6', max=29)"
      ]
     },
     "metadata": {},
     "output_type": "display_data"
    },
    {
     "data": {
      "application/vnd.jupyter.widget-view+json": {
       "model_id": "3ff74bb9e774432689a4a9429a6495d2",
       "version_major": 2,
       "version_minor": 0
      },
      "text/plain": [
       "IntProgress(value=0, description='mou_6', max=29)"
      ]
     },
     "metadata": {},
     "output_type": "display_data"
    },
    {
     "data": {
      "application/vnd.jupyter.widget-view+json": {
       "model_id": "cd4e209069474fe09d64e2d09e53284b",
       "version_major": 2,
       "version_minor": 0
      },
      "text/plain": [
       "IntProgress(value=0, description='mou_6', max=29)"
      ]
     },
     "metadata": {},
     "output_type": "display_data"
    },
    {
     "data": {
      "application/vnd.jupyter.widget-view+json": {
       "model_id": "ad3a74ea17cc418898dd4710cc6042b0",
       "version_major": 2,
       "version_minor": 0
      },
      "text/plain": [
       "IntProgress(value=0, description='mou_6', max=29)"
      ]
     },
     "metadata": {},
     "output_type": "display_data"
    },
    {
     "name": "stdout",
     "output_type": "stream",
     "text": [
      "Warning: skipping session with too few trials 3\n",
      "Warning: skipping session with too few trials 2\n",
      "Warning: skipping session with too few trials 8\n",
      "Warning: skipping session with too few trials 8\n",
      "Warning: skipping session with too few trials 8\n",
      "Warning: skipping session with too few trials 3\n",
      "Warning: skipping session with too few trials 4\n",
      "Warning: skipping session with too few trials 9\n",
      "Warning: skipping session with too few trials 5\n",
      "Warning: skipping session with too few trials 4\n",
      "Warning: skipping session with too few trials 7\n",
      "Warning: skipping session with too few trials 7\n",
      "Warning: skipping session with too few trials 3\n",
      "Warning: skipping session with too few trials 4\n",
      "Warning: skipping session with too few trials 2\n",
      "Warning: skipping session with too few trials 1\n"
     ]
    },
    {
     "data": {
      "application/vnd.jupyter.widget-view+json": {
       "model_id": "8d9ff43a297442c3a9ee17d7d77ca5b5",
       "version_major": 2,
       "version_minor": 0
      },
      "text/plain": [
       "IntProgress(value=0, description='mou_6', max=29)"
      ]
     },
     "metadata": {},
     "output_type": "display_data"
    },
    {
     "name": "stdout",
     "output_type": "stream",
     "text": [
      "Warning: skipping session with too few trials 3\n",
      "Warning: skipping session with too few trials 2\n",
      "Warning: skipping session with too few trials 8\n",
      "Warning: skipping session with too few trials 8\n",
      "Warning: skipping session with too few trials 8\n",
      "Warning: skipping session with too few trials 3\n",
      "Warning: skipping session with too few trials 4\n",
      "Warning: skipping session with too few trials 9\n",
      "Warning: skipping session with too few trials 5\n",
      "Warning: skipping session with too few trials 4\n",
      "Warning: skipping session with too few trials 7\n",
      "Warning: skipping session with too few trials 7\n",
      "Warning: skipping session with too few trials 3\n",
      "Warning: skipping session with too few trials 4\n",
      "Warning: skipping session with too few trials 2\n",
      "Warning: skipping session with too few trials 1\n"
     ]
    },
    {
     "data": {
      "application/vnd.jupyter.widget-view+json": {
       "model_id": "7fa6c503d19748e1a2e4acf8bef24262",
       "version_major": 2,
       "version_minor": 0
      },
      "text/plain": [
       "IntProgress(value=0, description='mou_6', max=29)"
      ]
     },
     "metadata": {},
     "output_type": "display_data"
    },
    {
     "name": "stdout",
     "output_type": "stream",
     "text": [
      "Warning: skipping session with too few trials 3\n",
      "Warning: skipping session with too few trials 2\n",
      "Warning: skipping session with too few trials 8\n",
      "Warning: skipping session with too few trials 8\n",
      "Warning: skipping session with too few trials 8\n",
      "Warning: skipping session with too few trials 3\n",
      "Warning: skipping session with too few trials 4\n",
      "Warning: skipping session with too few trials 9\n",
      "Warning: skipping session with too few trials 5\n",
      "Warning: skipping session with too few trials 4\n",
      "Warning: skipping session with too few trials 7\n",
      "Warning: skipping session with too few trials 7\n",
      "Warning: skipping session with too few trials 3\n",
      "Warning: skipping session with too few trials 4\n",
      "Warning: skipping session with too few trials 2\n",
      "Warning: skipping session with too few trials 1\n"
     ]
    },
    {
     "data": {
      "application/vnd.jupyter.widget-view+json": {
       "model_id": "1b22d8135ba4420bbb35e3279f4662ca",
       "version_major": 2,
       "version_minor": 0
      },
      "text/plain": [
       "IntProgress(value=0, description='mou_6', max=29)"
      ]
     },
     "metadata": {},
     "output_type": "display_data"
    },
    {
     "name": "stdout",
     "output_type": "stream",
     "text": [
      "Warning: skipping session with too few trials 3\n",
      "Warning: skipping session with too few trials 2\n",
      "Warning: skipping session with too few trials 8\n",
      "Warning: skipping session with too few trials 8\n",
      "Warning: skipping session with too few trials 8\n",
      "Warning: skipping session with too few trials 3\n",
      "Warning: skipping session with too few trials 4\n",
      "Warning: skipping session with too few trials 9\n",
      "Warning: skipping session with too few trials 5\n",
      "Warning: skipping session with too few trials 4\n",
      "Warning: skipping session with too few trials 7\n",
      "Warning: skipping session with too few trials 7\n",
      "Warning: skipping session with too few trials 3\n",
      "Warning: skipping session with too few trials 4\n",
      "Warning: skipping session with too few trials 2\n",
      "Warning: skipping session with too few trials 1\n"
     ]
    }
   ],
   "source": [
    "bulk_metrics.metric_mouse_bulk_vs_session(dataDB, mc, ds, \"mean\", 'session', trialTypeNames='auto',\n",
    "                                          minTrials=10, verbose=False, intervNames=intervNames,\n",
    "                                          exclQueryLst=exclQueryLst)"
   ]
  },
  {
   "cell_type": "code",
   "execution_count": null,
   "metadata": {},
   "outputs": [],
   "source": [
    "# bulk_metrics.scatter_metric_bulk(ds, 'mean', 'session', verbose=False, xlim=[0, 1],\n",
    "#                               xFunc=lambda m, l: dataDB.get_performance_mouse(m), haveRegression=True)\n",
    "\n",
    "bulk_metrics.scatter_metric_bulk(ds, 'mean', 'session', verbose=False, xFunc=None, haveRegression=False)"
   ]
  },
  {
   "cell_type": "markdown",
   "metadata": {},
   "source": [
    "### 1.3 Conditions"
   ]
  },
  {
   "cell_type": "code",
   "execution_count": 16,
   "metadata": {},
   "outputs": [
    {
     "name": "stdout",
     "output_type": "stream",
     "text": [
      "bn_session\n",
      "bn_trial\n",
      "raw\n"
     ]
    }
   ],
   "source": [
    "bulk_metrics.barplot_conditions(ds, 'mean', 'session', verbose=True, trialTypes=['Hit', 'CR'],\n",
    "                                intervNames=dataDB.get_interval_names())"
   ]
  },
  {
   "cell_type": "markdown",
   "metadata": {},
   "source": [
    "## 2. Variance\n",
    "\n",
    "**TODO**\n",
    "* Plot trial variance relative to temporal variance\n",
    "* Plot mean with variance together\n",
    "\n",
    "### Pros/Cons of Baseline Normalization\n",
    "* DFF-Trial\n",
    "    - Pos: Removes dynamic baseline changing on the order of trials.\n",
    "    - Pos: Under assumption of signal-free pre-trial interval, baseline removal enhances relative change in significant activity during trial.\n",
    "    - Neg: In presence of correlation between pre-trial interval and trial signals, this procedure destroys information during trial.\n",
    "\n",
    "* DFF-Session vs ZScore-Session\n",
    "    - Both linear transforms\n",
    "    - Mean is more meaningful for DFF if pre-trial interval is at least somewhat stable\n",
    "    - Va"
   ]
  },
  {
   "cell_type": "code",
   "execution_count": null,
   "metadata": {
    "scrolled": true
   },
   "outputs": [],
   "source": [
    "bulk_metrics.metric_mouse_bulk(dataDB, mc, ds, 'varmean', 's', 'time', verbose=False, minTrials=50,\n",
    "                               trialTypeNames='auto', intervNames=['AVG'], exclQueryLst=exclQueryLst)"
   ]
  },
  {
   "cell_type": "code",
   "execution_count": null,
   "metadata": {
    "scrolled": true
   },
   "outputs": [],
   "source": [
    "bulk_metrics.plot_metric_bulk(ds, 'varmean', 'time',\n",
    "                              ylim=[0,None], verbose=False, xFunc=lambda m, l: dataDB.get_times(l))"
   ]
  },
  {
   "cell_type": "markdown",
   "metadata": {},
   "source": [
    "### Session"
   ]
  },
  {
   "cell_type": "code",
   "execution_count": 26,
   "metadata": {
    "scrolled": true
   },
   "outputs": [
    {
     "data": {
      "application/vnd.jupyter.widget-view+json": {
       "model_id": "76c40b231cc34bd4ab6b4ddca2f6251c",
       "version_major": 2,
       "version_minor": 0
      },
      "text/plain": [
       "IntProgress(value=0, description='session', max=168)"
      ]
     },
     "metadata": {},
     "output_type": "display_data"
    },
    {
     "data": {
      "application/vnd.jupyter.widget-view+json": {
       "model_id": "60a7f9a47d0f42e0a10887bec7f479ed",
       "version_major": 2,
       "version_minor": 0
      },
      "text/plain": [
       "IntProgress(value=0, description='mou_7', max=36)"
      ]
     },
     "metadata": {},
     "output_type": "display_data"
    },
    {
     "data": {
      "application/vnd.jupyter.widget-view+json": {
       "model_id": "493e6cd7a74a431d85cdc71b8c02329f",
       "version_major": 2,
       "version_minor": 0
      },
      "text/plain": [
       "IntProgress(value=0, description='mou_7', max=36)"
      ]
     },
     "metadata": {},
     "output_type": "display_data"
    },
    {
     "data": {
      "application/vnd.jupyter.widget-view+json": {
       "model_id": "ca6f9530a0ba40a0a919a7c1995e54ac",
       "version_major": 2,
       "version_minor": 0
      },
      "text/plain": [
       "IntProgress(value=0, description='mou_7', max=36)"
      ]
     },
     "metadata": {},
     "output_type": "display_data"
    },
    {
     "data": {
      "application/vnd.jupyter.widget-view+json": {
       "model_id": "11f878b1d38143529eba582b89b26334",
       "version_major": 2,
       "version_minor": 0
      },
      "text/plain": [
       "IntProgress(value=0, description='mou_7', max=36)"
      ]
     },
     "metadata": {},
     "output_type": "display_data"
    },
    {
     "data": {
      "application/vnd.jupyter.widget-view+json": {
       "model_id": "b4f7dfad7b6b4fabb3b1237719eef732",
       "version_major": 2,
       "version_minor": 0
      },
      "text/plain": [
       "IntProgress(value=0, description='mou_7', max=36)"
      ]
     },
     "metadata": {},
     "output_type": "display_data"
    },
    {
     "data": {
      "application/vnd.jupyter.widget-view+json": {
       "model_id": "7147346ceeca4dea8836dc2909e1da66",
       "version_major": 2,
       "version_minor": 0
      },
      "text/plain": [
       "IntProgress(value=0, description='mou_7', max=36)"
      ]
     },
     "metadata": {},
     "output_type": "display_data"
    },
    {
     "name": "stdout",
     "output_type": "stream",
     "text": [
      "Warning: skipping session with too few trials 29\n",
      "Warning: skipping session with too few trials 19\n",
      "Warning: skipping session with too few trials 19\n",
      "Warning: skipping session with too few trials 22\n",
      "Warning: skipping session with too few trials 9\n",
      "Warning: skipping session with too few trials 22\n",
      "Warning: skipping session with too few trials 20\n",
      "Warning: skipping session with too few trials 17\n",
      "Warning: skipping session with too few trials 29\n",
      "Warning: skipping session with too few trials 17\n",
      "Warning: skipping session with too few trials 19\n",
      "Warning: skipping session with too few trials 26\n",
      "Warning: skipping session with too few trials 15\n",
      "Warning: skipping session with too few trials 17\n",
      "Warning: skipping session with too few trials 18\n",
      "Warning: skipping session with too few trials 6\n",
      "Warning: skipping session with too few trials 22\n",
      "Warning: skipping session with too few trials 16\n",
      "Warning: skipping session with too few trials 9\n",
      "Warning: skipping session with too few trials 22\n"
     ]
    },
    {
     "data": {
      "application/vnd.jupyter.widget-view+json": {
       "model_id": "1207392b2520419293bbdd31ddb42428",
       "version_major": 2,
       "version_minor": 0
      },
      "text/plain": [
       "IntProgress(value=0, description='mou_7', max=36)"
      ]
     },
     "metadata": {},
     "output_type": "display_data"
    },
    {
     "name": "stdout",
     "output_type": "stream",
     "text": [
      "Warning: skipping session with too few trials 29\n",
      "Warning: skipping session with too few trials 19\n",
      "Warning: skipping session with too few trials 19\n",
      "Warning: skipping session with too few trials 22\n",
      "Warning: skipping session with too few trials 9\n",
      "Warning: skipping session with too few trials 22\n",
      "Warning: skipping session with too few trials 20\n",
      "Warning: skipping session with too few trials 17\n",
      "Warning: skipping session with too few trials 29\n",
      "Warning: skipping session with too few trials 17\n",
      "Warning: skipping session with too few trials 19\n",
      "Warning: skipping session with too few trials 26\n",
      "Warning: skipping session with too few trials 15\n",
      "Warning: skipping session with too few trials 17\n",
      "Warning: skipping session with too few trials 18\n",
      "Warning: skipping session with too few trials 6\n",
      "Warning: skipping session with too few trials 22\n",
      "Warning: skipping session with too few trials 16\n",
      "Warning: skipping session with too few trials 9\n",
      "Warning: skipping session with too few trials 22\n"
     ]
    },
    {
     "data": {
      "application/vnd.jupyter.widget-view+json": {
       "model_id": "dcabcf8133594443a49657d026b3e85e",
       "version_major": 2,
       "version_minor": 0
      },
      "text/plain": [
       "IntProgress(value=0, description='mou_7', max=36)"
      ]
     },
     "metadata": {},
     "output_type": "display_data"
    },
    {
     "name": "stdout",
     "output_type": "stream",
     "text": [
      "Warning: skipping session with too few trials 29\n",
      "Warning: skipping session with too few trials 19\n",
      "Warning: skipping session with too few trials 19\n",
      "Warning: skipping session with too few trials 22\n",
      "Warning: skipping session with too few trials 9\n",
      "Warning: skipping session with too few trials 22\n",
      "Warning: skipping session with too few trials 20\n",
      "Warning: skipping session with too few trials 17\n",
      "Warning: skipping session with too few trials 29\n",
      "Warning: skipping session with too few trials 17\n",
      "Warning: skipping session with too few trials 19\n",
      "Warning: skipping session with too few trials 26\n",
      "Warning: skipping session with too few trials 15\n",
      "Warning: skipping session with too few trials 17\n",
      "Warning: skipping session with too few trials 18\n",
      "Warning: skipping session with too few trials 6\n",
      "Warning: skipping session with too few trials 22\n",
      "Warning: skipping session with too few trials 16\n",
      "Warning: skipping session with too few trials 9\n",
      "Warning: skipping session with too few trials 22\n"
     ]
    },
    {
     "data": {
      "application/vnd.jupyter.widget-view+json": {
       "model_id": "be2b9b6e2b7347b29043802ca710cc86",
       "version_major": 2,
       "version_minor": 0
      },
      "text/plain": [
       "IntProgress(value=0, description='mou_7', max=36)"
      ]
     },
     "metadata": {},
     "output_type": "display_data"
    },
    {
     "name": "stdout",
     "output_type": "stream",
     "text": [
      "Warning: skipping session with too few trials 29\n",
      "Warning: skipping session with too few trials 19\n",
      "Warning: skipping session with too few trials 19\n",
      "Warning: skipping session with too few trials 22\n",
      "Warning: skipping session with too few trials 9\n",
      "Warning: skipping session with too few trials 22\n",
      "Warning: skipping session with too few trials 20\n",
      "Warning: skipping session with too few trials 17\n",
      "Warning: skipping session with too few trials 29\n",
      "Warning: skipping session with too few trials 17\n",
      "Warning: skipping session with too few trials 19\n",
      "Warning: skipping session with too few trials 26\n",
      "Warning: skipping session with too few trials 15\n",
      "Warning: skipping session with too few trials 17\n",
      "Warning: skipping session with too few trials 18\n",
      "Warning: skipping session with too few trials 6\n",
      "Warning: skipping session with too few trials 22\n",
      "Warning: skipping session with too few trials 16\n",
      "Warning: skipping session with too few trials 9\n",
      "Warning: skipping session with too few trials 22\n"
     ]
    },
    {
     "data": {
      "application/vnd.jupyter.widget-view+json": {
       "model_id": "539f1cb1135449f39bd777fa61db996b",
       "version_major": 2,
       "version_minor": 0
      },
      "text/plain": [
       "IntProgress(value=0, description='mou_7', max=36)"
      ]
     },
     "metadata": {},
     "output_type": "display_data"
    },
    {
     "name": "stdout",
     "output_type": "stream",
     "text": [
      "Warning: skipping session with too few trials 29\n",
      "Warning: skipping session with too few trials 19\n",
      "Warning: skipping session with too few trials 19\n",
      "Warning: skipping session with too few trials 22\n",
      "Warning: skipping session with too few trials 9\n",
      "Warning: skipping session with too few trials 22\n",
      "Warning: skipping session with too few trials 20\n",
      "Warning: skipping session with too few trials 17\n",
      "Warning: skipping session with too few trials 29\n",
      "Warning: skipping session with too few trials 17\n",
      "Warning: skipping session with too few trials 19\n",
      "Warning: skipping session with too few trials 26\n",
      "Warning: skipping session with too few trials 15\n",
      "Warning: skipping session with too few trials 17\n",
      "Warning: skipping session with too few trials 18\n",
      "Warning: skipping session with too few trials 6\n",
      "Warning: skipping session with too few trials 22\n",
      "Warning: skipping session with too few trials 16\n",
      "Warning: skipping session with too few trials 9\n",
      "Warning: skipping session with too few trials 22\n"
     ]
    },
    {
     "data": {
      "application/vnd.jupyter.widget-view+json": {
       "model_id": "27feee78bd304fb591e94d783911413b",
       "version_major": 2,
       "version_minor": 0
      },
      "text/plain": [
       "IntProgress(value=0, description='mou_7', max=36)"
      ]
     },
     "metadata": {},
     "output_type": "display_data"
    },
    {
     "name": "stdout",
     "output_type": "stream",
     "text": [
      "Warning: skipping session with too few trials 26\n",
      "Warning: skipping session with too few trials 25\n",
      "Warning: skipping session with too few trials 23\n"
     ]
    },
    {
     "data": {
      "application/vnd.jupyter.widget-view+json": {
       "model_id": "1cee13e90e744713b329352ab7f4c7ed",
       "version_major": 2,
       "version_minor": 0
      },
      "text/plain": [
       "IntProgress(value=0, description='mou_7', max=36)"
      ]
     },
     "metadata": {},
     "output_type": "display_data"
    },
    {
     "name": "stdout",
     "output_type": "stream",
     "text": [
      "Warning: skipping session with too few trials 26\n",
      "Warning: skipping session with too few trials 25\n",
      "Warning: skipping session with too few trials 23\n"
     ]
    },
    {
     "data": {
      "application/vnd.jupyter.widget-view+json": {
       "model_id": "fc749e22538c4781934e22e303b428eb",
       "version_major": 2,
       "version_minor": 0
      },
      "text/plain": [
       "IntProgress(value=0, description='mou_7', max=36)"
      ]
     },
     "metadata": {},
     "output_type": "display_data"
    },
    {
     "name": "stdout",
     "output_type": "stream",
     "text": [
      "Warning: skipping session with too few trials 26\n",
      "Warning: skipping session with too few trials 25\n",
      "Warning: skipping session with too few trials 23\n"
     ]
    },
    {
     "data": {
      "application/vnd.jupyter.widget-view+json": {
       "model_id": "856120a966324f67acf78a4013464b03",
       "version_major": 2,
       "version_minor": 0
      },
      "text/plain": [
       "IntProgress(value=0, description='mou_7', max=36)"
      ]
     },
     "metadata": {},
     "output_type": "display_data"
    },
    {
     "name": "stdout",
     "output_type": "stream",
     "text": [
      "Warning: skipping session with too few trials 26\n",
      "Warning: skipping session with too few trials 25\n",
      "Warning: skipping session with too few trials 23\n"
     ]
    },
    {
     "data": {
      "application/vnd.jupyter.widget-view+json": {
       "model_id": "87131dcf0333478f9d2f990f868875dd",
       "version_major": 2,
       "version_minor": 0
      },
      "text/plain": [
       "IntProgress(value=0, description='mou_7', max=36)"
      ]
     },
     "metadata": {},
     "output_type": "display_data"
    },
    {
     "name": "stdout",
     "output_type": "stream",
     "text": [
      "Warning: skipping session with too few trials 26\n",
      "Warning: skipping session with too few trials 25\n",
      "Warning: skipping session with too few trials 23\n"
     ]
    },
    {
     "data": {
      "application/vnd.jupyter.widget-view+json": {
       "model_id": "096f482ab5e8469f8499471bbe0c6c76",
       "version_major": 2,
       "version_minor": 0
      },
      "text/plain": [
       "IntProgress(value=0, description='mou_7', max=36)"
      ]
     },
     "metadata": {},
     "output_type": "display_data"
    },
    {
     "data": {
      "application/vnd.jupyter.widget-view+json": {
       "model_id": "514f88a50f7241d4877343e6973937ec",
       "version_major": 2,
       "version_minor": 0
      },
      "text/plain": [
       "IntProgress(value=0, description='mou_7', max=36)"
      ]
     },
     "metadata": {},
     "output_type": "display_data"
    },
    {
     "data": {
      "application/vnd.jupyter.widget-view+json": {
       "model_id": "a65f10d8a0654e29a5409eca4e63ecb6",
       "version_major": 2,
       "version_minor": 0
      },
      "text/plain": [
       "IntProgress(value=0, description='mou_7', max=36)"
      ]
     },
     "metadata": {},
     "output_type": "display_data"
    },
    {
     "data": {
      "application/vnd.jupyter.widget-view+json": {
       "model_id": "0cd8351adf244ff7b4fe736016011b3a",
       "version_major": 2,
       "version_minor": 0
      },
      "text/plain": [
       "IntProgress(value=0, description='mou_7', max=36)"
      ]
     },
     "metadata": {},
     "output_type": "display_data"
    },
    {
     "data": {
      "application/vnd.jupyter.widget-view+json": {
       "model_id": "547b94f8e5ea4cbb9b35d62bfcd211c1",
       "version_major": 2,
       "version_minor": 0
      },
      "text/plain": [
       "IntProgress(value=0, description='mou_7', max=36)"
      ]
     },
     "metadata": {},
     "output_type": "display_data"
    },
    {
     "data": {
      "application/vnd.jupyter.widget-view+json": {
       "model_id": "212ffe2954414dfba466334aeab4bd62",
       "version_major": 2,
       "version_minor": 0
      },
      "text/plain": [
       "IntProgress(value=0, description='mou_7', max=36)"
      ]
     },
     "metadata": {},
     "output_type": "display_data"
    },
    {
     "name": "stdout",
     "output_type": "stream",
     "text": [
      "Warning: skipping session with too few trials 29\n",
      "Warning: skipping session with too few trials 19\n",
      "Warning: skipping session with too few trials 19\n",
      "Warning: skipping session with too few trials 22\n",
      "Warning: skipping session with too few trials 9\n",
      "Warning: skipping session with too few trials 22\n",
      "Warning: skipping session with too few trials 20\n",
      "Warning: skipping session with too few trials 17\n",
      "Warning: skipping session with too few trials 29\n",
      "Warning: skipping session with too few trials 17\n",
      "Warning: skipping session with too few trials 19\n",
      "Warning: skipping session with too few trials 26\n",
      "Warning: skipping session with too few trials 15\n",
      "Warning: skipping session with too few trials 17\n",
      "Warning: skipping session with too few trials 18\n",
      "Warning: skipping session with too few trials 6\n",
      "Warning: skipping session with too few trials 22\n",
      "Warning: skipping session with too few trials 16\n",
      "Warning: skipping session with too few trials 9\n",
      "Warning: skipping session with too few trials 22\n"
     ]
    },
    {
     "data": {
      "application/vnd.jupyter.widget-view+json": {
       "model_id": "20e6d5135d494814b3e3b209f427cc35",
       "version_major": 2,
       "version_minor": 0
      },
      "text/plain": [
       "IntProgress(value=0, description='mou_7', max=36)"
      ]
     },
     "metadata": {},
     "output_type": "display_data"
    },
    {
     "name": "stdout",
     "output_type": "stream",
     "text": [
      "Warning: skipping session with too few trials 29\n",
      "Warning: skipping session with too few trials 19\n",
      "Warning: skipping session with too few trials 19\n",
      "Warning: skipping session with too few trials 22\n",
      "Warning: skipping session with too few trials 9\n",
      "Warning: skipping session with too few trials 22\n",
      "Warning: skipping session with too few trials 20\n",
      "Warning: skipping session with too few trials 17\n",
      "Warning: skipping session with too few trials 29\n",
      "Warning: skipping session with too few trials 17\n",
      "Warning: skipping session with too few trials 19\n",
      "Warning: skipping session with too few trials 26\n",
      "Warning: skipping session with too few trials 15\n",
      "Warning: skipping session with too few trials 17\n",
      "Warning: skipping session with too few trials 18\n",
      "Warning: skipping session with too few trials 6\n",
      "Warning: skipping session with too few trials 22\n",
      "Warning: skipping session with too few trials 16\n",
      "Warning: skipping session with too few trials 9\n",
      "Warning: skipping session with too few trials 22\n"
     ]
    },
    {
     "data": {
      "application/vnd.jupyter.widget-view+json": {
       "model_id": "9085a65c5985470e96b2426e84f06a69",
       "version_major": 2,
       "version_minor": 0
      },
      "text/plain": [
       "IntProgress(value=0, description='mou_7', max=36)"
      ]
     },
     "metadata": {},
     "output_type": "display_data"
    },
    {
     "name": "stdout",
     "output_type": "stream",
     "text": [
      "Warning: skipping session with too few trials 29\n",
      "Warning: skipping session with too few trials 19\n",
      "Warning: skipping session with too few trials 19\n",
      "Warning: skipping session with too few trials 22\n",
      "Warning: skipping session with too few trials 9\n",
      "Warning: skipping session with too few trials 22\n",
      "Warning: skipping session with too few trials 20\n",
      "Warning: skipping session with too few trials 17\n",
      "Warning: skipping session with too few trials 29\n",
      "Warning: skipping session with too few trials 17\n",
      "Warning: skipping session with too few trials 19\n",
      "Warning: skipping session with too few trials 26\n",
      "Warning: skipping session with too few trials 15\n",
      "Warning: skipping session with too few trials 17\n",
      "Warning: skipping session with too few trials 18\n",
      "Warning: skipping session with too few trials 6\n",
      "Warning: skipping session with too few trials 22\n",
      "Warning: skipping session with too few trials 16\n",
      "Warning: skipping session with too few trials 9\n",
      "Warning: skipping session with too few trials 22\n"
     ]
    },
    {
     "data": {
      "application/vnd.jupyter.widget-view+json": {
       "model_id": "a07f953105e54ec1b36820933e450095",
       "version_major": 2,
       "version_minor": 0
      },
      "text/plain": [
       "IntProgress(value=0, description='mou_7', max=36)"
      ]
     },
     "metadata": {},
     "output_type": "display_data"
    },
    {
     "name": "stdout",
     "output_type": "stream",
     "text": [
      "Warning: skipping session with too few trials 29\n",
      "Warning: skipping session with too few trials 19\n",
      "Warning: skipping session with too few trials 19\n",
      "Warning: skipping session with too few trials 22\n",
      "Warning: skipping session with too few trials 9\n",
      "Warning: skipping session with too few trials 22\n",
      "Warning: skipping session with too few trials 20\n",
      "Warning: skipping session with too few trials 17\n",
      "Warning: skipping session with too few trials 29\n",
      "Warning: skipping session with too few trials 17\n",
      "Warning: skipping session with too few trials 19\n",
      "Warning: skipping session with too few trials 26\n",
      "Warning: skipping session with too few trials 15\n",
      "Warning: skipping session with too few trials 17\n",
      "Warning: skipping session with too few trials 18\n",
      "Warning: skipping session with too few trials 6\n",
      "Warning: skipping session with too few trials 22\n",
      "Warning: skipping session with too few trials 16\n",
      "Warning: skipping session with too few trials 9\n",
      "Warning: skipping session with too few trials 22\n"
     ]
    },
    {
     "data": {
      "application/vnd.jupyter.widget-view+json": {
       "model_id": "7419a0c7e0004b6593f43dec259fa7cc",
       "version_major": 2,
       "version_minor": 0
      },
      "text/plain": [
       "IntProgress(value=0, description='mou_7', max=36)"
      ]
     },
     "metadata": {},
     "output_type": "display_data"
    },
    {
     "name": "stdout",
     "output_type": "stream",
     "text": [
      "Warning: skipping session with too few trials 29\n",
      "Warning: skipping session with too few trials 19\n",
      "Warning: skipping session with too few trials 19\n",
      "Warning: skipping session with too few trials 22\n",
      "Warning: skipping session with too few trials 9\n",
      "Warning: skipping session with too few trials 22\n",
      "Warning: skipping session with too few trials 20\n",
      "Warning: skipping session with too few trials 17\n",
      "Warning: skipping session with too few trials 29\n",
      "Warning: skipping session with too few trials 17\n",
      "Warning: skipping session with too few trials 19\n",
      "Warning: skipping session with too few trials 26\n",
      "Warning: skipping session with too few trials 15\n",
      "Warning: skipping session with too few trials 17\n",
      "Warning: skipping session with too few trials 18\n",
      "Warning: skipping session with too few trials 6\n",
      "Warning: skipping session with too few trials 22\n",
      "Warning: skipping session with too few trials 16\n",
      "Warning: skipping session with too few trials 9\n",
      "Warning: skipping session with too few trials 22\n"
     ]
    },
    {
     "data": {
      "application/vnd.jupyter.widget-view+json": {
       "model_id": "545866f159fd41baa33b6ce3dfde459b",
       "version_major": 2,
       "version_minor": 0
      },
      "text/plain": [
       "IntProgress(value=0, description='mou_7', max=36)"
      ]
     },
     "metadata": {},
     "output_type": "display_data"
    },
    {
     "name": "stdout",
     "output_type": "stream",
     "text": [
      "Warning: skipping session with too few trials 26\n",
      "Warning: skipping session with too few trials 25\n",
      "Warning: skipping session with too few trials 23\n"
     ]
    },
    {
     "data": {
      "application/vnd.jupyter.widget-view+json": {
       "model_id": "a30ca0ccd0a1432ca87f5970e3968d46",
       "version_major": 2,
       "version_minor": 0
      },
      "text/plain": [
       "IntProgress(value=0, description='mou_7', max=36)"
      ]
     },
     "metadata": {},
     "output_type": "display_data"
    },
    {
     "name": "stdout",
     "output_type": "stream",
     "text": [
      "Warning: skipping session with too few trials 26\n",
      "Warning: skipping session with too few trials 25\n",
      "Warning: skipping session with too few trials 23\n"
     ]
    },
    {
     "data": {
      "application/vnd.jupyter.widget-view+json": {
       "model_id": "f6c7d5aff3944ac598756835c5b69fe8",
       "version_major": 2,
       "version_minor": 0
      },
      "text/plain": [
       "IntProgress(value=0, description='mou_7', max=36)"
      ]
     },
     "metadata": {},
     "output_type": "display_data"
    },
    {
     "name": "stdout",
     "output_type": "stream",
     "text": [
      "Warning: skipping session with too few trials 26\n",
      "Warning: skipping session with too few trials 25\n",
      "Warning: skipping session with too few trials 23\n"
     ]
    },
    {
     "data": {
      "application/vnd.jupyter.widget-view+json": {
       "model_id": "26bc5e84dc08490fb6c77e864478cd2b",
       "version_major": 2,
       "version_minor": 0
      },
      "text/plain": [
       "IntProgress(value=0, description='mou_7', max=36)"
      ]
     },
     "metadata": {},
     "output_type": "display_data"
    },
    {
     "name": "stdout",
     "output_type": "stream",
     "text": [
      "Warning: skipping session with too few trials 26\n",
      "Warning: skipping session with too few trials 25\n",
      "Warning: skipping session with too few trials 23\n"
     ]
    },
    {
     "data": {
      "application/vnd.jupyter.widget-view+json": {
       "model_id": "e52e0d1f30114050b4841365c991d9c7",
       "version_major": 2,
       "version_minor": 0
      },
      "text/plain": [
       "IntProgress(value=0, description='mou_7', max=36)"
      ]
     },
     "metadata": {},
     "output_type": "display_data"
    },
    {
     "name": "stdout",
     "output_type": "stream",
     "text": [
      "Warning: skipping session with too few trials 26\n",
      "Warning: skipping session with too few trials 25\n",
      "Warning: skipping session with too few trials 23\n"
     ]
    },
    {
     "data": {
      "application/vnd.jupyter.widget-view+json": {
       "model_id": "002d97f3e44a4e168ea7508a6e665bf7",
       "version_major": 2,
       "version_minor": 0
      },
      "text/plain": [
       "IntProgress(value=0, description='mou_7', max=36)"
      ]
     },
     "metadata": {},
     "output_type": "display_data"
    },
    {
     "data": {
      "application/vnd.jupyter.widget-view+json": {
       "model_id": "f4a0280a0b494e1fbdd891d9fcff7a11",
       "version_major": 2,
       "version_minor": 0
      },
      "text/plain": [
       "IntProgress(value=0, description='mou_7', max=36)"
      ]
     },
     "metadata": {},
     "output_type": "display_data"
    },
    {
     "data": {
      "application/vnd.jupyter.widget-view+json": {
       "model_id": "68d1df69ed2443269627b5b07410dbd0",
       "version_major": 2,
       "version_minor": 0
      },
      "text/plain": [
       "IntProgress(value=0, description='mou_7', max=36)"
      ]
     },
     "metadata": {},
     "output_type": "display_data"
    },
    {
     "data": {
      "application/vnd.jupyter.widget-view+json": {
       "model_id": "79efb56bceae46eb944918a7ed4373f5",
       "version_major": 2,
       "version_minor": 0
      },
      "text/plain": [
       "IntProgress(value=0, description='mou_7', max=36)"
      ]
     },
     "metadata": {},
     "output_type": "display_data"
    },
    {
     "data": {
      "application/vnd.jupyter.widget-view+json": {
       "model_id": "2bcb77c61ab04089a5d0273fd6daa4c4",
       "version_major": 2,
       "version_minor": 0
      },
      "text/plain": [
       "IntProgress(value=0, description='mou_7', max=36)"
      ]
     },
     "metadata": {},
     "output_type": "display_data"
    },
    {
     "name": "stdout",
     "output_type": "stream",
     "text": [
      "Warning: skipping session with too few trials 29\n",
      "Warning: skipping session with too few trials 19\n",
      "Warning: skipping session with too few trials 19\n",
      "Warning: skipping session with too few trials 22\n",
      "Warning: skipping session with too few trials 9\n",
      "Warning: skipping session with too few trials 22\n",
      "Warning: skipping session with too few trials 20\n",
      "Warning: skipping session with too few trials 17\n",
      "Warning: skipping session with too few trials 29\n",
      "Warning: skipping session with too few trials 17\n",
      "Warning: skipping session with too few trials 19\n",
      "Warning: skipping session with too few trials 26\n",
      "Warning: skipping session with too few trials 15\n",
      "Warning: skipping session with too few trials 17\n",
      "Warning: skipping session with too few trials 18\n",
      "Warning: skipping session with too few trials 6\n",
      "Warning: skipping session with too few trials 22\n",
      "Warning: skipping session with too few trials 16\n",
      "Warning: skipping session with too few trials 9\n",
      "Warning: skipping session with too few trials 22\n"
     ]
    },
    {
     "data": {
      "application/vnd.jupyter.widget-view+json": {
       "model_id": "328554e4b76d469db9bca60cac6cfc6c",
       "version_major": 2,
       "version_minor": 0
      },
      "text/plain": [
       "IntProgress(value=0, description='mou_7', max=36)"
      ]
     },
     "metadata": {},
     "output_type": "display_data"
    },
    {
     "name": "stdout",
     "output_type": "stream",
     "text": [
      "Warning: skipping session with too few trials 29\n",
      "Warning: skipping session with too few trials 19\n",
      "Warning: skipping session with too few trials 19\n",
      "Warning: skipping session with too few trials 22\n",
      "Warning: skipping session with too few trials 9\n",
      "Warning: skipping session with too few trials 22\n",
      "Warning: skipping session with too few trials 20\n",
      "Warning: skipping session with too few trials 17\n",
      "Warning: skipping session with too few trials 29\n",
      "Warning: skipping session with too few trials 17\n",
      "Warning: skipping session with too few trials 19\n",
      "Warning: skipping session with too few trials 26\n",
      "Warning: skipping session with too few trials 15\n",
      "Warning: skipping session with too few trials 17\n",
      "Warning: skipping session with too few trials 18\n",
      "Warning: skipping session with too few trials 6\n",
      "Warning: skipping session with too few trials 22\n",
      "Warning: skipping session with too few trials 16\n",
      "Warning: skipping session with too few trials 9\n",
      "Warning: skipping session with too few trials 22\n"
     ]
    },
    {
     "data": {
      "application/vnd.jupyter.widget-view+json": {
       "model_id": "c5b1ed060e4840e69a4e687292da58f3",
       "version_major": 2,
       "version_minor": 0
      },
      "text/plain": [
       "IntProgress(value=0, description='mou_7', max=36)"
      ]
     },
     "metadata": {},
     "output_type": "display_data"
    },
    {
     "name": "stdout",
     "output_type": "stream",
     "text": [
      "Warning: skipping session with too few trials 29\n",
      "Warning: skipping session with too few trials 19\n",
      "Warning: skipping session with too few trials 19\n",
      "Warning: skipping session with too few trials 22\n",
      "Warning: skipping session with too few trials 9\n",
      "Warning: skipping session with too few trials 22\n",
      "Warning: skipping session with too few trials 20\n",
      "Warning: skipping session with too few trials 17\n",
      "Warning: skipping session with too few trials 29\n",
      "Warning: skipping session with too few trials 17\n",
      "Warning: skipping session with too few trials 19\n",
      "Warning: skipping session with too few trials 26\n",
      "Warning: skipping session with too few trials 15\n",
      "Warning: skipping session with too few trials 17\n",
      "Warning: skipping session with too few trials 18\n",
      "Warning: skipping session with too few trials 6\n",
      "Warning: skipping session with too few trials 22\n",
      "Warning: skipping session with too few trials 16\n",
      "Warning: skipping session with too few trials 9\n",
      "Warning: skipping session with too few trials 22\n"
     ]
    },
    {
     "data": {
      "application/vnd.jupyter.widget-view+json": {
       "model_id": "947e0c7b8930406da39aae8462324700",
       "version_major": 2,
       "version_minor": 0
      },
      "text/plain": [
       "IntProgress(value=0, description='mou_7', max=36)"
      ]
     },
     "metadata": {},
     "output_type": "display_data"
    },
    {
     "name": "stdout",
     "output_type": "stream",
     "text": [
      "Warning: skipping session with too few trials 29\n",
      "Warning: skipping session with too few trials 19\n",
      "Warning: skipping session with too few trials 19\n",
      "Warning: skipping session with too few trials 22\n",
      "Warning: skipping session with too few trials 9\n",
      "Warning: skipping session with too few trials 22\n",
      "Warning: skipping session with too few trials 20\n",
      "Warning: skipping session with too few trials 17\n",
      "Warning: skipping session with too few trials 29\n",
      "Warning: skipping session with too few trials 17\n",
      "Warning: skipping session with too few trials 19\n",
      "Warning: skipping session with too few trials 26\n",
      "Warning: skipping session with too few trials 15\n",
      "Warning: skipping session with too few trials 17\n",
      "Warning: skipping session with too few trials 18\n",
      "Warning: skipping session with too few trials 6\n",
      "Warning: skipping session with too few trials 22\n",
      "Warning: skipping session with too few trials 16\n",
      "Warning: skipping session with too few trials 9\n",
      "Warning: skipping session with too few trials 22\n"
     ]
    },
    {
     "data": {
      "application/vnd.jupyter.widget-view+json": {
       "model_id": "d0cc65b80a4a47bf957743c203f97778",
       "version_major": 2,
       "version_minor": 0
      },
      "text/plain": [
       "IntProgress(value=0, description='mou_7', max=36)"
      ]
     },
     "metadata": {},
     "output_type": "display_data"
    },
    {
     "name": "stdout",
     "output_type": "stream",
     "text": [
      "Warning: skipping session with too few trials 26\n",
      "Warning: skipping session with too few trials 25\n",
      "Warning: skipping session with too few trials 23\n"
     ]
    },
    {
     "data": {
      "application/vnd.jupyter.widget-view+json": {
       "model_id": "ac9b59253a224ece98b894e1a672660f",
       "version_major": 2,
       "version_minor": 0
      },
      "text/plain": [
       "IntProgress(value=0, description='mou_7', max=36)"
      ]
     },
     "metadata": {},
     "output_type": "display_data"
    },
    {
     "name": "stdout",
     "output_type": "stream",
     "text": [
      "Warning: skipping session with too few trials 26\n",
      "Warning: skipping session with too few trials 25\n",
      "Warning: skipping session with too few trials 23\n"
     ]
    },
    {
     "data": {
      "application/vnd.jupyter.widget-view+json": {
       "model_id": "899b03e85dcc4bcfb5980b41510a8ea2",
       "version_major": 2,
       "version_minor": 0
      },
      "text/plain": [
       "IntProgress(value=0, description='mou_7', max=36)"
      ]
     },
     "metadata": {},
     "output_type": "display_data"
    },
    {
     "name": "stdout",
     "output_type": "stream",
     "text": [
      "Warning: skipping session with too few trials 26\n",
      "Warning: skipping session with too few trials 25\n",
      "Warning: skipping session with too few trials 23\n"
     ]
    },
    {
     "data": {
      "application/vnd.jupyter.widget-view+json": {
       "model_id": "37a68555365a4ec1a82f77c22d4e53da",
       "version_major": 2,
       "version_minor": 0
      },
      "text/plain": [
       "IntProgress(value=0, description='mou_7', max=36)"
      ]
     },
     "metadata": {},
     "output_type": "display_data"
    },
    {
     "name": "stdout",
     "output_type": "stream",
     "text": [
      "Warning: skipping session with too few trials 26\n",
      "Warning: skipping session with too few trials 25\n",
      "Warning: skipping session with too few trials 23\n"
     ]
    },
    {
     "data": {
      "application/vnd.jupyter.widget-view+json": {
       "model_id": "8b8e6dbfa61f4a4b97584b2d2e7b84ff",
       "version_major": 2,
       "version_minor": 0
      },
      "text/plain": [
       "IntProgress(value=0, description='mou_5', max=21)"
      ]
     },
     "metadata": {},
     "output_type": "display_data"
    },
    {
     "data": {
      "application/vnd.jupyter.widget-view+json": {
       "model_id": "f6e395609d0a4184b44bd4269f7100df",
       "version_major": 2,
       "version_minor": 0
      },
      "text/plain": [
       "IntProgress(value=0, description='mou_5', max=21)"
      ]
     },
     "metadata": {},
     "output_type": "display_data"
    },
    {
     "data": {
      "application/vnd.jupyter.widget-view+json": {
       "model_id": "9840131662b244c7a0b91acdef3215ba",
       "version_major": 2,
       "version_minor": 0
      },
      "text/plain": [
       "IntProgress(value=0, description='mou_5', max=21)"
      ]
     },
     "metadata": {},
     "output_type": "display_data"
    },
    {
     "data": {
      "application/vnd.jupyter.widget-view+json": {
       "model_id": "aaf6d97ed6aa4dae87e0f32d5f0064f3",
       "version_major": 2,
       "version_minor": 0
      },
      "text/plain": [
       "IntProgress(value=0, description='mou_5', max=21)"
      ]
     },
     "metadata": {},
     "output_type": "display_data"
    },
    {
     "data": {
      "application/vnd.jupyter.widget-view+json": {
       "model_id": "adb7a556560b4ed1b4b1b94a12f223d0",
       "version_major": 2,
       "version_minor": 0
      },
      "text/plain": [
       "IntProgress(value=0, description='mou_5', max=21)"
      ]
     },
     "metadata": {},
     "output_type": "display_data"
    },
    {
     "data": {
      "application/vnd.jupyter.widget-view+json": {
       "model_id": "456dd5b467a3488da35cdcacd484bc48",
       "version_major": 2,
       "version_minor": 0
      },
      "text/plain": [
       "IntProgress(value=0, description='mou_5', max=21)"
      ]
     },
     "metadata": {},
     "output_type": "display_data"
    },
    {
     "name": "stdout",
     "output_type": "stream",
     "text": [
      "Warning: skipping session with too few trials 19\n",
      "Warning: skipping session with too few trials 18\n",
      "Warning: skipping session with too few trials 21\n",
      "Warning: skipping session with too few trials 20\n",
      "Warning: skipping session with too few trials 24\n",
      "Warning: skipping session with too few trials 26\n",
      "Warning: skipping session with too few trials 16\n",
      "Warning: skipping session with too few trials 26\n",
      "Warning: skipping session with too few trials 24\n",
      "Warning: skipping session with too few trials 19\n",
      "Warning: skipping session with too few trials 16\n",
      "Warning: skipping session with too few trials 21\n",
      "Warning: skipping session with too few trials 23\n",
      "Warning: skipping session with too few trials 25\n",
      "Warning: skipping session with too few trials 23\n",
      "Warning: skipping session with too few trials 16\n",
      "Warning: skipping session with too few trials 23\n"
     ]
    },
    {
     "data": {
      "application/vnd.jupyter.widget-view+json": {
       "model_id": "a4f7ad5713e7456ea930576f32baa468",
       "version_major": 2,
       "version_minor": 0
      },
      "text/plain": [
       "IntProgress(value=0, description='mou_5', max=21)"
      ]
     },
     "metadata": {},
     "output_type": "display_data"
    },
    {
     "name": "stdout",
     "output_type": "stream",
     "text": [
      "Warning: skipping session with too few trials 19\n",
      "Warning: skipping session with too few trials 18\n",
      "Warning: skipping session with too few trials 21\n",
      "Warning: skipping session with too few trials 20\n",
      "Warning: skipping session with too few trials 24\n",
      "Warning: skipping session with too few trials 26\n",
      "Warning: skipping session with too few trials 16\n",
      "Warning: skipping session with too few trials 26\n",
      "Warning: skipping session with too few trials 24\n",
      "Warning: skipping session with too few trials 19\n",
      "Warning: skipping session with too few trials 16\n",
      "Warning: skipping session with too few trials 21\n",
      "Warning: skipping session with too few trials 23\n",
      "Warning: skipping session with too few trials 25\n",
      "Warning: skipping session with too few trials 23\n",
      "Warning: skipping session with too few trials 16\n",
      "Warning: skipping session with too few trials 23\n"
     ]
    },
    {
     "data": {
      "application/vnd.jupyter.widget-view+json": {
       "model_id": "fa1f632fb5a84d12a0bb32e308b2c1f4",
       "version_major": 2,
       "version_minor": 0
      },
      "text/plain": [
       "IntProgress(value=0, description='mou_5', max=21)"
      ]
     },
     "metadata": {},
     "output_type": "display_data"
    },
    {
     "name": "stdout",
     "output_type": "stream",
     "text": [
      "Warning: skipping session with too few trials 19\n",
      "Warning: skipping session with too few trials 18\n",
      "Warning: skipping session with too few trials 21\n",
      "Warning: skipping session with too few trials 20\n",
      "Warning: skipping session with too few trials 24\n",
      "Warning: skipping session with too few trials 26\n",
      "Warning: skipping session with too few trials 16\n",
      "Warning: skipping session with too few trials 26\n",
      "Warning: skipping session with too few trials 24\n",
      "Warning: skipping session with too few trials 19\n",
      "Warning: skipping session with too few trials 16\n",
      "Warning: skipping session with too few trials 21\n",
      "Warning: skipping session with too few trials 23\n",
      "Warning: skipping session with too few trials 25\n",
      "Warning: skipping session with too few trials 23\n",
      "Warning: skipping session with too few trials 16\n",
      "Warning: skipping session with too few trials 23\n"
     ]
    },
    {
     "data": {
      "application/vnd.jupyter.widget-view+json": {
       "model_id": "1a82630fe7d94cf0af67c91de536f50f",
       "version_major": 2,
       "version_minor": 0
      },
      "text/plain": [
       "IntProgress(value=0, description='mou_5', max=21)"
      ]
     },
     "metadata": {},
     "output_type": "display_data"
    },
    {
     "name": "stdout",
     "output_type": "stream",
     "text": [
      "Warning: skipping session with too few trials 19\n",
      "Warning: skipping session with too few trials 18\n",
      "Warning: skipping session with too few trials 21\n",
      "Warning: skipping session with too few trials 20\n",
      "Warning: skipping session with too few trials 24\n",
      "Warning: skipping session with too few trials 26\n",
      "Warning: skipping session with too few trials 16\n",
      "Warning: skipping session with too few trials 26\n",
      "Warning: skipping session with too few trials 24\n",
      "Warning: skipping session with too few trials 19\n",
      "Warning: skipping session with too few trials 16\n",
      "Warning: skipping session with too few trials 21\n",
      "Warning: skipping session with too few trials 23\n",
      "Warning: skipping session with too few trials 25\n",
      "Warning: skipping session with too few trials 23\n",
      "Warning: skipping session with too few trials 16\n",
      "Warning: skipping session with too few trials 23\n"
     ]
    },
    {
     "data": {
      "application/vnd.jupyter.widget-view+json": {
       "model_id": "cc719c250b4b4dd687bd97531fd02dd8",
       "version_major": 2,
       "version_minor": 0
      },
      "text/plain": [
       "IntProgress(value=0, description='mou_5', max=21)"
      ]
     },
     "metadata": {},
     "output_type": "display_data"
    },
    {
     "name": "stdout",
     "output_type": "stream",
     "text": [
      "Warning: skipping session with too few trials 19\n",
      "Warning: skipping session with too few trials 18\n",
      "Warning: skipping session with too few trials 21\n",
      "Warning: skipping session with too few trials 20\n",
      "Warning: skipping session with too few trials 24\n",
      "Warning: skipping session with too few trials 26\n",
      "Warning: skipping session with too few trials 16\n",
      "Warning: skipping session with too few trials 26\n",
      "Warning: skipping session with too few trials 24\n",
      "Warning: skipping session with too few trials 19\n",
      "Warning: skipping session with too few trials 16\n",
      "Warning: skipping session with too few trials 21\n",
      "Warning: skipping session with too few trials 23\n",
      "Warning: skipping session with too few trials 25\n",
      "Warning: skipping session with too few trials 23\n",
      "Warning: skipping session with too few trials 16\n",
      "Warning: skipping session with too few trials 23\n"
     ]
    },
    {
     "data": {
      "application/vnd.jupyter.widget-view+json": {
       "model_id": "898a0dc7884a4b808e9a5bd69db2564f",
       "version_major": 2,
       "version_minor": 0
      },
      "text/plain": [
       "IntProgress(value=0, description='mou_5', max=21)"
      ]
     },
     "metadata": {},
     "output_type": "display_data"
    },
    {
     "data": {
      "application/vnd.jupyter.widget-view+json": {
       "model_id": "0aa57487301d43119a6ce50f154737ac",
       "version_major": 2,
       "version_minor": 0
      },
      "text/plain": [
       "IntProgress(value=0, description='mou_5', max=21)"
      ]
     },
     "metadata": {},
     "output_type": "display_data"
    },
    {
     "data": {
      "application/vnd.jupyter.widget-view+json": {
       "model_id": "a27009a12b584de0a36e7011947fc7ec",
       "version_major": 2,
       "version_minor": 0
      },
      "text/plain": [
       "IntProgress(value=0, description='mou_5', max=21)"
      ]
     },
     "metadata": {},
     "output_type": "display_data"
    },
    {
     "data": {
      "application/vnd.jupyter.widget-view+json": {
       "model_id": "0a5c020f379e4364a4484597e8ab8a38",
       "version_major": 2,
       "version_minor": 0
      },
      "text/plain": [
       "IntProgress(value=0, description='mou_5', max=21)"
      ]
     },
     "metadata": {},
     "output_type": "display_data"
    },
    {
     "data": {
      "application/vnd.jupyter.widget-view+json": {
       "model_id": "0a0ca579be3b40bea9d319d708861845",
       "version_major": 2,
       "version_minor": 0
      },
      "text/plain": [
       "IntProgress(value=0, description='mou_5', max=21)"
      ]
     },
     "metadata": {},
     "output_type": "display_data"
    },
    {
     "data": {
      "application/vnd.jupyter.widget-view+json": {
       "model_id": "0b10d5c6c60041a688337f1730d2c0e9",
       "version_major": 2,
       "version_minor": 0
      },
      "text/plain": [
       "IntProgress(value=0, description='mou_5', max=21)"
      ]
     },
     "metadata": {},
     "output_type": "display_data"
    },
    {
     "data": {
      "application/vnd.jupyter.widget-view+json": {
       "model_id": "889c8272f6b74edbb18e8b109ca20155",
       "version_major": 2,
       "version_minor": 0
      },
      "text/plain": [
       "IntProgress(value=0, description='mou_5', max=21)"
      ]
     },
     "metadata": {},
     "output_type": "display_data"
    },
    {
     "data": {
      "application/vnd.jupyter.widget-view+json": {
       "model_id": "76d8bf669d5c4e2d9f085038a5aea120",
       "version_major": 2,
       "version_minor": 0
      },
      "text/plain": [
       "IntProgress(value=0, description='mou_5', max=21)"
      ]
     },
     "metadata": {},
     "output_type": "display_data"
    },
    {
     "data": {
      "application/vnd.jupyter.widget-view+json": {
       "model_id": "6ecaef6b868b449a91203a859ca0acd1",
       "version_major": 2,
       "version_minor": 0
      },
      "text/plain": [
       "IntProgress(value=0, description='mou_5', max=21)"
      ]
     },
     "metadata": {},
     "output_type": "display_data"
    },
    {
     "data": {
      "application/vnd.jupyter.widget-view+json": {
       "model_id": "9d2aa070629b4c47b470fb3d76e821bf",
       "version_major": 2,
       "version_minor": 0
      },
      "text/plain": [
       "IntProgress(value=0, description='mou_5', max=21)"
      ]
     },
     "metadata": {},
     "output_type": "display_data"
    },
    {
     "data": {
      "application/vnd.jupyter.widget-view+json": {
       "model_id": "7e95d96965894de5ba824bebdfa55480",
       "version_major": 2,
       "version_minor": 0
      },
      "text/plain": [
       "IntProgress(value=0, description='mou_5', max=21)"
      ]
     },
     "metadata": {},
     "output_type": "display_data"
    },
    {
     "name": "stdout",
     "output_type": "stream",
     "text": [
      "Warning: skipping session with too few trials 19\n",
      "Warning: skipping session with too few trials 18\n",
      "Warning: skipping session with too few trials 21\n",
      "Warning: skipping session with too few trials 20\n",
      "Warning: skipping session with too few trials 24\n",
      "Warning: skipping session with too few trials 26\n",
      "Warning: skipping session with too few trials 16\n",
      "Warning: skipping session with too few trials 26\n",
      "Warning: skipping session with too few trials 24\n",
      "Warning: skipping session with too few trials 19\n",
      "Warning: skipping session with too few trials 16\n",
      "Warning: skipping session with too few trials 21\n",
      "Warning: skipping session with too few trials 23\n",
      "Warning: skipping session with too few trials 25\n",
      "Warning: skipping session with too few trials 23\n",
      "Warning: skipping session with too few trials 16\n",
      "Warning: skipping session with too few trials 23\n"
     ]
    },
    {
     "data": {
      "application/vnd.jupyter.widget-view+json": {
       "model_id": "4a0a2b6672bf4c3f9aef16b0527f2a53",
       "version_major": 2,
       "version_minor": 0
      },
      "text/plain": [
       "IntProgress(value=0, description='mou_5', max=21)"
      ]
     },
     "metadata": {},
     "output_type": "display_data"
    },
    {
     "name": "stdout",
     "output_type": "stream",
     "text": [
      "Warning: skipping session with too few trials 19\n",
      "Warning: skipping session with too few trials 18\n",
      "Warning: skipping session with too few trials 21\n",
      "Warning: skipping session with too few trials 20\n",
      "Warning: skipping session with too few trials 24\n",
      "Warning: skipping session with too few trials 26\n",
      "Warning: skipping session with too few trials 16\n",
      "Warning: skipping session with too few trials 26\n",
      "Warning: skipping session with too few trials 24\n",
      "Warning: skipping session with too few trials 19\n",
      "Warning: skipping session with too few trials 16\n",
      "Warning: skipping session with too few trials 21\n",
      "Warning: skipping session with too few trials 23\n",
      "Warning: skipping session with too few trials 25\n",
      "Warning: skipping session with too few trials 23\n",
      "Warning: skipping session with too few trials 16\n",
      "Warning: skipping session with too few trials 23\n"
     ]
    },
    {
     "data": {
      "application/vnd.jupyter.widget-view+json": {
       "model_id": "48c1744b70654356a75b0ac641aa8323",
       "version_major": 2,
       "version_minor": 0
      },
      "text/plain": [
       "IntProgress(value=0, description='mou_5', max=21)"
      ]
     },
     "metadata": {},
     "output_type": "display_data"
    },
    {
     "name": "stdout",
     "output_type": "stream",
     "text": [
      "Warning: skipping session with too few trials 19\n",
      "Warning: skipping session with too few trials 18\n",
      "Warning: skipping session with too few trials 21\n",
      "Warning: skipping session with too few trials 20\n",
      "Warning: skipping session with too few trials 24\n",
      "Warning: skipping session with too few trials 26\n",
      "Warning: skipping session with too few trials 16\n",
      "Warning: skipping session with too few trials 26\n",
      "Warning: skipping session with too few trials 24\n",
      "Warning: skipping session with too few trials 19\n",
      "Warning: skipping session with too few trials 16\n",
      "Warning: skipping session with too few trials 21\n",
      "Warning: skipping session with too few trials 23\n",
      "Warning: skipping session with too few trials 25\n",
      "Warning: skipping session with too few trials 23\n",
      "Warning: skipping session with too few trials 16\n",
      "Warning: skipping session with too few trials 23\n"
     ]
    },
    {
     "data": {
      "application/vnd.jupyter.widget-view+json": {
       "model_id": "7fb053bda44847acb629f33bbb144f1d",
       "version_major": 2,
       "version_minor": 0
      },
      "text/plain": [
       "IntProgress(value=0, description='mou_5', max=21)"
      ]
     },
     "metadata": {},
     "output_type": "display_data"
    },
    {
     "name": "stdout",
     "output_type": "stream",
     "text": [
      "Warning: skipping session with too few trials 19\n",
      "Warning: skipping session with too few trials 18\n",
      "Warning: skipping session with too few trials 21\n",
      "Warning: skipping session with too few trials 20\n",
      "Warning: skipping session with too few trials 24\n",
      "Warning: skipping session with too few trials 26\n",
      "Warning: skipping session with too few trials 16\n",
      "Warning: skipping session with too few trials 26\n",
      "Warning: skipping session with too few trials 24\n",
      "Warning: skipping session with too few trials 19\n",
      "Warning: skipping session with too few trials 16\n",
      "Warning: skipping session with too few trials 21\n",
      "Warning: skipping session with too few trials 23\n",
      "Warning: skipping session with too few trials 25\n",
      "Warning: skipping session with too few trials 23\n",
      "Warning: skipping session with too few trials 16\n",
      "Warning: skipping session with too few trials 23\n"
     ]
    },
    {
     "data": {
      "application/vnd.jupyter.widget-view+json": {
       "model_id": "4d5488ca49a84c408c82593e698bd5fc",
       "version_major": 2,
       "version_minor": 0
      },
      "text/plain": [
       "IntProgress(value=0, description='mou_5', max=21)"
      ]
     },
     "metadata": {},
     "output_type": "display_data"
    },
    {
     "name": "stdout",
     "output_type": "stream",
     "text": [
      "Warning: skipping session with too few trials 19\n",
      "Warning: skipping session with too few trials 18\n",
      "Warning: skipping session with too few trials 21\n",
      "Warning: skipping session with too few trials 20\n",
      "Warning: skipping session with too few trials 24\n",
      "Warning: skipping session with too few trials 26\n",
      "Warning: skipping session with too few trials 16\n",
      "Warning: skipping session with too few trials 26\n",
      "Warning: skipping session with too few trials 24\n",
      "Warning: skipping session with too few trials 19\n",
      "Warning: skipping session with too few trials 16\n",
      "Warning: skipping session with too few trials 21\n",
      "Warning: skipping session with too few trials 23\n",
      "Warning: skipping session with too few trials 25\n",
      "Warning: skipping session with too few trials 23\n",
      "Warning: skipping session with too few trials 16\n",
      "Warning: skipping session with too few trials 23\n"
     ]
    },
    {
     "data": {
      "application/vnd.jupyter.widget-view+json": {
       "model_id": "2fef50b67c8d4630b077fc393642c107",
       "version_major": 2,
       "version_minor": 0
      },
      "text/plain": [
       "IntProgress(value=0, description='mou_5', max=21)"
      ]
     },
     "metadata": {},
     "output_type": "display_data"
    },
    {
     "data": {
      "application/vnd.jupyter.widget-view+json": {
       "model_id": "56e0172640844e889c08d7b7eb80c438",
       "version_major": 2,
       "version_minor": 0
      },
      "text/plain": [
       "IntProgress(value=0, description='mou_5', max=21)"
      ]
     },
     "metadata": {},
     "output_type": "display_data"
    },
    {
     "data": {
      "application/vnd.jupyter.widget-view+json": {
       "model_id": "4ff484e42de04c24a3104bac18aeedc4",
       "version_major": 2,
       "version_minor": 0
      },
      "text/plain": [
       "IntProgress(value=0, description='mou_5', max=21)"
      ]
     },
     "metadata": {},
     "output_type": "display_data"
    },
    {
     "data": {
      "application/vnd.jupyter.widget-view+json": {
       "model_id": "ffc39c195d464c6986f79834ed6081ab",
       "version_major": 2,
       "version_minor": 0
      },
      "text/plain": [
       "IntProgress(value=0, description='mou_5', max=21)"
      ]
     },
     "metadata": {},
     "output_type": "display_data"
    },
    {
     "data": {
      "application/vnd.jupyter.widget-view+json": {
       "model_id": "e9bea531e00b459d923d31a2ce98505c",
       "version_major": 2,
       "version_minor": 0
      },
      "text/plain": [
       "IntProgress(value=0, description='mou_5', max=21)"
      ]
     },
     "metadata": {},
     "output_type": "display_data"
    },
    {
     "data": {
      "application/vnd.jupyter.widget-view+json": {
       "model_id": "c278c21b4f13422c84b29a58d933e872",
       "version_major": 2,
       "version_minor": 0
      },
      "text/plain": [
       "IntProgress(value=0, description='mou_5', max=21)"
      ]
     },
     "metadata": {},
     "output_type": "display_data"
    },
    {
     "data": {
      "application/vnd.jupyter.widget-view+json": {
       "model_id": "b843b42d58dd499083c3bf095d9bd403",
       "version_major": 2,
       "version_minor": 0
      },
      "text/plain": [
       "IntProgress(value=0, description='mou_5', max=21)"
      ]
     },
     "metadata": {},
     "output_type": "display_data"
    },
    {
     "data": {
      "application/vnd.jupyter.widget-view+json": {
       "model_id": "301aa18cbca244d4a7fe9c5915e6f57b",
       "version_major": 2,
       "version_minor": 0
      },
      "text/plain": [
       "IntProgress(value=0, description='mou_5', max=21)"
      ]
     },
     "metadata": {},
     "output_type": "display_data"
    },
    {
     "data": {
      "application/vnd.jupyter.widget-view+json": {
       "model_id": "ae2523000d65469f8b523f2ece9ba788",
       "version_major": 2,
       "version_minor": 0
      },
      "text/plain": [
       "IntProgress(value=0, description='mou_5', max=21)"
      ]
     },
     "metadata": {},
     "output_type": "display_data"
    },
    {
     "data": {
      "application/vnd.jupyter.widget-view+json": {
       "model_id": "e576cf3647f94237b0057f3b5243571f",
       "version_major": 2,
       "version_minor": 0
      },
      "text/plain": [
       "IntProgress(value=0, description='mou_5', max=21)"
      ]
     },
     "metadata": {},
     "output_type": "display_data"
    },
    {
     "name": "stdout",
     "output_type": "stream",
     "text": [
      "Warning: skipping session with too few trials 19\n",
      "Warning: skipping session with too few trials 18\n",
      "Warning: skipping session with too few trials 21\n",
      "Warning: skipping session with too few trials 20\n",
      "Warning: skipping session with too few trials 24\n",
      "Warning: skipping session with too few trials 26\n",
      "Warning: skipping session with too few trials 16\n",
      "Warning: skipping session with too few trials 26\n",
      "Warning: skipping session with too few trials 24\n",
      "Warning: skipping session with too few trials 19\n",
      "Warning: skipping session with too few trials 16\n",
      "Warning: skipping session with too few trials 21\n",
      "Warning: skipping session with too few trials 23\n",
      "Warning: skipping session with too few trials 25\n",
      "Warning: skipping session with too few trials 23\n",
      "Warning: skipping session with too few trials 16\n",
      "Warning: skipping session with too few trials 23\n"
     ]
    },
    {
     "data": {
      "application/vnd.jupyter.widget-view+json": {
       "model_id": "077ddf2e74174285b6c995b84d1be93c",
       "version_major": 2,
       "version_minor": 0
      },
      "text/plain": [
       "IntProgress(value=0, description='mou_5', max=21)"
      ]
     },
     "metadata": {},
     "output_type": "display_data"
    },
    {
     "name": "stdout",
     "output_type": "stream",
     "text": [
      "Warning: skipping session with too few trials 19\n",
      "Warning: skipping session with too few trials 18\n",
      "Warning: skipping session with too few trials 21\n",
      "Warning: skipping session with too few trials 20\n",
      "Warning: skipping session with too few trials 24\n",
      "Warning: skipping session with too few trials 26\n",
      "Warning: skipping session with too few trials 16\n",
      "Warning: skipping session with too few trials 26\n",
      "Warning: skipping session with too few trials 24\n",
      "Warning: skipping session with too few trials 19\n",
      "Warning: skipping session with too few trials 16\n",
      "Warning: skipping session with too few trials 21\n",
      "Warning: skipping session with too few trials 23\n",
      "Warning: skipping session with too few trials 25\n",
      "Warning: skipping session with too few trials 23\n",
      "Warning: skipping session with too few trials 16\n",
      "Warning: skipping session with too few trials 23\n"
     ]
    },
    {
     "data": {
      "application/vnd.jupyter.widget-view+json": {
       "model_id": "6726147710e54d5aa05e55cbcb7d7829",
       "version_major": 2,
       "version_minor": 0
      },
      "text/plain": [
       "IntProgress(value=0, description='mou_5', max=21)"
      ]
     },
     "metadata": {},
     "output_type": "display_data"
    },
    {
     "name": "stdout",
     "output_type": "stream",
     "text": [
      "Warning: skipping session with too few trials 19\n",
      "Warning: skipping session with too few trials 18\n",
      "Warning: skipping session with too few trials 21\n",
      "Warning: skipping session with too few trials 20\n",
      "Warning: skipping session with too few trials 24\n",
      "Warning: skipping session with too few trials 26\n",
      "Warning: skipping session with too few trials 16\n",
      "Warning: skipping session with too few trials 26\n",
      "Warning: skipping session with too few trials 24\n",
      "Warning: skipping session with too few trials 19\n",
      "Warning: skipping session with too few trials 16\n",
      "Warning: skipping session with too few trials 21\n",
      "Warning: skipping session with too few trials 23\n",
      "Warning: skipping session with too few trials 25\n",
      "Warning: skipping session with too few trials 23\n",
      "Warning: skipping session with too few trials 16\n",
      "Warning: skipping session with too few trials 23\n"
     ]
    },
    {
     "data": {
      "application/vnd.jupyter.widget-view+json": {
       "model_id": "ffc7ebaa6f6941f2a35b856c24c67763",
       "version_major": 2,
       "version_minor": 0
      },
      "text/plain": [
       "IntProgress(value=0, description='mou_5', max=21)"
      ]
     },
     "metadata": {},
     "output_type": "display_data"
    },
    {
     "name": "stdout",
     "output_type": "stream",
     "text": [
      "Warning: skipping session with too few trials 19\n",
      "Warning: skipping session with too few trials 18\n",
      "Warning: skipping session with too few trials 21\n",
      "Warning: skipping session with too few trials 20\n",
      "Warning: skipping session with too few trials 24\n",
      "Warning: skipping session with too few trials 26\n",
      "Warning: skipping session with too few trials 16\n",
      "Warning: skipping session with too few trials 26\n",
      "Warning: skipping session with too few trials 24\n",
      "Warning: skipping session with too few trials 19\n",
      "Warning: skipping session with too few trials 16\n",
      "Warning: skipping session with too few trials 21\n",
      "Warning: skipping session with too few trials 23\n",
      "Warning: skipping session with too few trials 25\n",
      "Warning: skipping session with too few trials 23\n",
      "Warning: skipping session with too few trials 16\n",
      "Warning: skipping session with too few trials 23\n"
     ]
    },
    {
     "data": {
      "application/vnd.jupyter.widget-view+json": {
       "model_id": "c6e24fcb92d44568a72555ce16f3279a",
       "version_major": 2,
       "version_minor": 0
      },
      "text/plain": [
       "IntProgress(value=0, description='mou_5', max=21)"
      ]
     },
     "metadata": {},
     "output_type": "display_data"
    },
    {
     "data": {
      "application/vnd.jupyter.widget-view+json": {
       "model_id": "a1186a872be64c6bb64373d3ef068dc6",
       "version_major": 2,
       "version_minor": 0
      },
      "text/plain": [
       "IntProgress(value=0, description='mou_5', max=21)"
      ]
     },
     "metadata": {},
     "output_type": "display_data"
    },
    {
     "data": {
      "application/vnd.jupyter.widget-view+json": {
       "model_id": "c3323bb66e0241ac9cfa6178501624d1",
       "version_major": 2,
       "version_minor": 0
      },
      "text/plain": [
       "IntProgress(value=0, description='mou_5', max=21)"
      ]
     },
     "metadata": {},
     "output_type": "display_data"
    },
    {
     "data": {
      "application/vnd.jupyter.widget-view+json": {
       "model_id": "f91bbdb1842146958f570a7d495cb6d5",
       "version_major": 2,
       "version_minor": 0
      },
      "text/plain": [
       "IntProgress(value=0, description='mou_5', max=21)"
      ]
     },
     "metadata": {},
     "output_type": "display_data"
    },
    {
     "data": {
      "application/vnd.jupyter.widget-view+json": {
       "model_id": "74828e0df93b4416a4cfd6ee1677bc3a",
       "version_major": 2,
       "version_minor": 0
      },
      "text/plain": [
       "IntProgress(value=0, description='mou_9', max=20)"
      ]
     },
     "metadata": {},
     "output_type": "display_data"
    },
    {
     "data": {
      "application/vnd.jupyter.widget-view+json": {
       "model_id": "7487d0ab146b4555a20ea68cf01dae23",
       "version_major": 2,
       "version_minor": 0
      },
      "text/plain": [
       "IntProgress(value=0, description='mou_9', max=20)"
      ]
     },
     "metadata": {},
     "output_type": "display_data"
    },
    {
     "data": {
      "application/vnd.jupyter.widget-view+json": {
       "model_id": "f4983d7fcb5a4a908570214ee70506f1",
       "version_major": 2,
       "version_minor": 0
      },
      "text/plain": [
       "IntProgress(value=0, description='mou_9', max=20)"
      ]
     },
     "metadata": {},
     "output_type": "display_data"
    },
    {
     "data": {
      "application/vnd.jupyter.widget-view+json": {
       "model_id": "92e1b9f26d954eeeae057a0caf6b0156",
       "version_major": 2,
       "version_minor": 0
      },
      "text/plain": [
       "IntProgress(value=0, description='mou_9', max=20)"
      ]
     },
     "metadata": {},
     "output_type": "display_data"
    },
    {
     "data": {
      "application/vnd.jupyter.widget-view+json": {
       "model_id": "f6a7e1f3b54f4c94a9eaad91c3f147e9",
       "version_major": 2,
       "version_minor": 0
      },
      "text/plain": [
       "IntProgress(value=0, description='mou_9', max=20)"
      ]
     },
     "metadata": {},
     "output_type": "display_data"
    },
    {
     "data": {
      "application/vnd.jupyter.widget-view+json": {
       "model_id": "664cb719bde3455398b8c16afaa6ad15",
       "version_major": 2,
       "version_minor": 0
      },
      "text/plain": [
       "IntProgress(value=0, description='mou_9', max=20)"
      ]
     },
     "metadata": {},
     "output_type": "display_data"
    },
    {
     "name": "stdout",
     "output_type": "stream",
     "text": [
      "Warning: skipping session with too few trials 29\n",
      "Warning: skipping session with too few trials 29\n",
      "Warning: skipping session with too few trials 27\n",
      "Warning: skipping session with too few trials 27\n",
      "Warning: skipping session with too few trials 20\n",
      "Warning: skipping session with too few trials 27\n",
      "Warning: skipping session with too few trials 21\n",
      "Warning: skipping session with too few trials 26\n",
      "Warning: skipping session with too few trials 24\n"
     ]
    },
    {
     "data": {
      "application/vnd.jupyter.widget-view+json": {
       "model_id": "805c8dc242394da9ae9a5d744ec5da13",
       "version_major": 2,
       "version_minor": 0
      },
      "text/plain": [
       "IntProgress(value=0, description='mou_9', max=20)"
      ]
     },
     "metadata": {},
     "output_type": "display_data"
    },
    {
     "name": "stdout",
     "output_type": "stream",
     "text": [
      "Warning: skipping session with too few trials 29\n",
      "Warning: skipping session with too few trials 29\n",
      "Warning: skipping session with too few trials 27\n",
      "Warning: skipping session with too few trials 27\n",
      "Warning: skipping session with too few trials 20\n",
      "Warning: skipping session with too few trials 27\n",
      "Warning: skipping session with too few trials 21\n",
      "Warning: skipping session with too few trials 26\n",
      "Warning: skipping session with too few trials 24\n"
     ]
    },
    {
     "data": {
      "application/vnd.jupyter.widget-view+json": {
       "model_id": "f9abf5b42b624aaaa7d780cae9f67eec",
       "version_major": 2,
       "version_minor": 0
      },
      "text/plain": [
       "IntProgress(value=0, description='mou_9', max=20)"
      ]
     },
     "metadata": {},
     "output_type": "display_data"
    },
    {
     "name": "stdout",
     "output_type": "stream",
     "text": [
      "Warning: skipping session with too few trials 29\n",
      "Warning: skipping session with too few trials 29\n",
      "Warning: skipping session with too few trials 27\n",
      "Warning: skipping session with too few trials 27\n",
      "Warning: skipping session with too few trials 20\n",
      "Warning: skipping session with too few trials 27\n",
      "Warning: skipping session with too few trials 21\n",
      "Warning: skipping session with too few trials 26\n",
      "Warning: skipping session with too few trials 24\n"
     ]
    },
    {
     "data": {
      "application/vnd.jupyter.widget-view+json": {
       "model_id": "f59562774b6e424a868fd025b35a1551",
       "version_major": 2,
       "version_minor": 0
      },
      "text/plain": [
       "IntProgress(value=0, description='mou_9', max=20)"
      ]
     },
     "metadata": {},
     "output_type": "display_data"
    },
    {
     "name": "stdout",
     "output_type": "stream",
     "text": [
      "Warning: skipping session with too few trials 29\n",
      "Warning: skipping session with too few trials 29\n",
      "Warning: skipping session with too few trials 27\n",
      "Warning: skipping session with too few trials 27\n",
      "Warning: skipping session with too few trials 20\n",
      "Warning: skipping session with too few trials 27\n",
      "Warning: skipping session with too few trials 21\n",
      "Warning: skipping session with too few trials 26\n",
      "Warning: skipping session with too few trials 24\n"
     ]
    },
    {
     "data": {
      "application/vnd.jupyter.widget-view+json": {
       "model_id": "8680250c14c84852b6ec9a55a8870c04",
       "version_major": 2,
       "version_minor": 0
      },
      "text/plain": [
       "IntProgress(value=0, description='mou_9', max=20)"
      ]
     },
     "metadata": {},
     "output_type": "display_data"
    },
    {
     "name": "stdout",
     "output_type": "stream",
     "text": [
      "Warning: skipping session with too few trials 29\n",
      "Warning: skipping session with too few trials 29\n",
      "Warning: skipping session with too few trials 27\n",
      "Warning: skipping session with too few trials 27\n",
      "Warning: skipping session with too few trials 20\n",
      "Warning: skipping session with too few trials 27\n",
      "Warning: skipping session with too few trials 21\n",
      "Warning: skipping session with too few trials 26\n",
      "Warning: skipping session with too few trials 24\n"
     ]
    },
    {
     "data": {
      "application/vnd.jupyter.widget-view+json": {
       "model_id": "8e5f19a565744b618ed831dc3db34447",
       "version_major": 2,
       "version_minor": 0
      },
      "text/plain": [
       "IntProgress(value=0, description='mou_9', max=20)"
      ]
     },
     "metadata": {},
     "output_type": "display_data"
    },
    {
     "name": "stdout",
     "output_type": "stream",
     "text": [
      "Warning: skipping session with too few trials 26\n"
     ]
    },
    {
     "data": {
      "application/vnd.jupyter.widget-view+json": {
       "model_id": "d557c8aa6f114aa6ab18ca4861de0cea",
       "version_major": 2,
       "version_minor": 0
      },
      "text/plain": [
       "IntProgress(value=0, description='mou_9', max=20)"
      ]
     },
     "metadata": {},
     "output_type": "display_data"
    },
    {
     "name": "stdout",
     "output_type": "stream",
     "text": [
      "Warning: skipping session with too few trials 26\n"
     ]
    },
    {
     "data": {
      "application/vnd.jupyter.widget-view+json": {
       "model_id": "e1b4fc49357b423e9d42a083b9145661",
       "version_major": 2,
       "version_minor": 0
      },
      "text/plain": [
       "IntProgress(value=0, description='mou_9', max=20)"
      ]
     },
     "metadata": {},
     "output_type": "display_data"
    },
    {
     "name": "stdout",
     "output_type": "stream",
     "text": [
      "Warning: skipping session with too few trials 26\n"
     ]
    },
    {
     "data": {
      "application/vnd.jupyter.widget-view+json": {
       "model_id": "7ccaf0038c044958a9109a0a489f3f70",
       "version_major": 2,
       "version_minor": 0
      },
      "text/plain": [
       "IntProgress(value=0, description='mou_9', max=20)"
      ]
     },
     "metadata": {},
     "output_type": "display_data"
    },
    {
     "name": "stdout",
     "output_type": "stream",
     "text": [
      "Warning: skipping session with too few trials 26\n"
     ]
    },
    {
     "data": {
      "application/vnd.jupyter.widget-view+json": {
       "model_id": "7207ae9c10364d61ba8d466791070991",
       "version_major": 2,
       "version_minor": 0
      },
      "text/plain": [
       "IntProgress(value=0, description='mou_9', max=20)"
      ]
     },
     "metadata": {},
     "output_type": "display_data"
    },
    {
     "name": "stdout",
     "output_type": "stream",
     "text": [
      "Warning: skipping session with too few trials 26\n"
     ]
    },
    {
     "data": {
      "application/vnd.jupyter.widget-view+json": {
       "model_id": "5ae6325973494b988d8092031417db17",
       "version_major": 2,
       "version_minor": 0
      },
      "text/plain": [
       "IntProgress(value=0, description='mou_9', max=20)"
      ]
     },
     "metadata": {},
     "output_type": "display_data"
    },
    {
     "data": {
      "application/vnd.jupyter.widget-view+json": {
       "model_id": "89f9e8e58dbe42bbaa8cb674c3b1c486",
       "version_major": 2,
       "version_minor": 0
      },
      "text/plain": [
       "IntProgress(value=0, description='mou_9', max=20)"
      ]
     },
     "metadata": {},
     "output_type": "display_data"
    },
    {
     "data": {
      "application/vnd.jupyter.widget-view+json": {
       "model_id": "ed61659cbed84413b029320750c25b3c",
       "version_major": 2,
       "version_minor": 0
      },
      "text/plain": [
       "IntProgress(value=0, description='mou_9', max=20)"
      ]
     },
     "metadata": {},
     "output_type": "display_data"
    },
    {
     "data": {
      "application/vnd.jupyter.widget-view+json": {
       "model_id": "da90d0ef13d44bc1bb3d523cde0312de",
       "version_major": 2,
       "version_minor": 0
      },
      "text/plain": [
       "IntProgress(value=0, description='mou_9', max=20)"
      ]
     },
     "metadata": {},
     "output_type": "display_data"
    },
    {
     "data": {
      "application/vnd.jupyter.widget-view+json": {
       "model_id": "6371e8fc530a45e2a9bf0b631da57131",
       "version_major": 2,
       "version_minor": 0
      },
      "text/plain": [
       "IntProgress(value=0, description='mou_9', max=20)"
      ]
     },
     "metadata": {},
     "output_type": "display_data"
    },
    {
     "data": {
      "application/vnd.jupyter.widget-view+json": {
       "model_id": "5a3c2f738492483ea214e126043d0282",
       "version_major": 2,
       "version_minor": 0
      },
      "text/plain": [
       "IntProgress(value=0, description='mou_9', max=20)"
      ]
     },
     "metadata": {},
     "output_type": "display_data"
    },
    {
     "name": "stdout",
     "output_type": "stream",
     "text": [
      "Warning: skipping session with too few trials 29\n",
      "Warning: skipping session with too few trials 29\n",
      "Warning: skipping session with too few trials 27\n",
      "Warning: skipping session with too few trials 27\n",
      "Warning: skipping session with too few trials 20\n",
      "Warning: skipping session with too few trials 27\n",
      "Warning: skipping session with too few trials 21\n",
      "Warning: skipping session with too few trials 26\n",
      "Warning: skipping session with too few trials 24\n"
     ]
    },
    {
     "data": {
      "application/vnd.jupyter.widget-view+json": {
       "model_id": "458019c771f947c8985b57b11d4ecfb1",
       "version_major": 2,
       "version_minor": 0
      },
      "text/plain": [
       "IntProgress(value=0, description='mou_9', max=20)"
      ]
     },
     "metadata": {},
     "output_type": "display_data"
    },
    {
     "name": "stdout",
     "output_type": "stream",
     "text": [
      "Warning: skipping session with too few trials 29\n",
      "Warning: skipping session with too few trials 29\n",
      "Warning: skipping session with too few trials 27\n",
      "Warning: skipping session with too few trials 27\n",
      "Warning: skipping session with too few trials 20\n",
      "Warning: skipping session with too few trials 27\n",
      "Warning: skipping session with too few trials 21\n",
      "Warning: skipping session with too few trials 26\n",
      "Warning: skipping session with too few trials 24\n"
     ]
    },
    {
     "data": {
      "application/vnd.jupyter.widget-view+json": {
       "model_id": "2f7a58cd8cf14c3daaab9d115edee134",
       "version_major": 2,
       "version_minor": 0
      },
      "text/plain": [
       "IntProgress(value=0, description='mou_9', max=20)"
      ]
     },
     "metadata": {},
     "output_type": "display_data"
    },
    {
     "name": "stdout",
     "output_type": "stream",
     "text": [
      "Warning: skipping session with too few trials 29\n",
      "Warning: skipping session with too few trials 29\n",
      "Warning: skipping session with too few trials 27\n",
      "Warning: skipping session with too few trials 27\n",
      "Warning: skipping session with too few trials 20\n",
      "Warning: skipping session with too few trials 27\n",
      "Warning: skipping session with too few trials 21\n",
      "Warning: skipping session with too few trials 26\n",
      "Warning: skipping session with too few trials 24\n"
     ]
    },
    {
     "data": {
      "application/vnd.jupyter.widget-view+json": {
       "model_id": "0978e70218d449a3902c85b608c42031",
       "version_major": 2,
       "version_minor": 0
      },
      "text/plain": [
       "IntProgress(value=0, description='mou_9', max=20)"
      ]
     },
     "metadata": {},
     "output_type": "display_data"
    },
    {
     "name": "stdout",
     "output_type": "stream",
     "text": [
      "Warning: skipping session with too few trials 29\n",
      "Warning: skipping session with too few trials 29\n",
      "Warning: skipping session with too few trials 27\n",
      "Warning: skipping session with too few trials 27\n",
      "Warning: skipping session with too few trials 20\n",
      "Warning: skipping session with too few trials 27\n",
      "Warning: skipping session with too few trials 21\n",
      "Warning: skipping session with too few trials 26\n",
      "Warning: skipping session with too few trials 24\n"
     ]
    },
    {
     "data": {
      "application/vnd.jupyter.widget-view+json": {
       "model_id": "752fcb8a30724bc1a8b5d5da43ec93d1",
       "version_major": 2,
       "version_minor": 0
      },
      "text/plain": [
       "IntProgress(value=0, description='mou_9', max=20)"
      ]
     },
     "metadata": {},
     "output_type": "display_data"
    },
    {
     "name": "stdout",
     "output_type": "stream",
     "text": [
      "Warning: skipping session with too few trials 29\n",
      "Warning: skipping session with too few trials 29\n",
      "Warning: skipping session with too few trials 27\n",
      "Warning: skipping session with too few trials 27\n",
      "Warning: skipping session with too few trials 20\n",
      "Warning: skipping session with too few trials 27\n",
      "Warning: skipping session with too few trials 21\n",
      "Warning: skipping session with too few trials 26\n",
      "Warning: skipping session with too few trials 24\n"
     ]
    },
    {
     "data": {
      "application/vnd.jupyter.widget-view+json": {
       "model_id": "e0b31d6893f54536aaaa05eb0db76abc",
       "version_major": 2,
       "version_minor": 0
      },
      "text/plain": [
       "IntProgress(value=0, description='mou_9', max=20)"
      ]
     },
     "metadata": {},
     "output_type": "display_data"
    },
    {
     "name": "stdout",
     "output_type": "stream",
     "text": [
      "Warning: skipping session with too few trials 26\n"
     ]
    },
    {
     "data": {
      "application/vnd.jupyter.widget-view+json": {
       "model_id": "3158c259f0c548dcb6fc23532dc6f8f4",
       "version_major": 2,
       "version_minor": 0
      },
      "text/plain": [
       "IntProgress(value=0, description='mou_9', max=20)"
      ]
     },
     "metadata": {},
     "output_type": "display_data"
    },
    {
     "name": "stdout",
     "output_type": "stream",
     "text": [
      "Warning: skipping session with too few trials 26\n"
     ]
    },
    {
     "data": {
      "application/vnd.jupyter.widget-view+json": {
       "model_id": "95e3a509f97349f886e7c0089fe5920c",
       "version_major": 2,
       "version_minor": 0
      },
      "text/plain": [
       "IntProgress(value=0, description='mou_9', max=20)"
      ]
     },
     "metadata": {},
     "output_type": "display_data"
    },
    {
     "name": "stdout",
     "output_type": "stream",
     "text": [
      "Warning: skipping session with too few trials 26\n"
     ]
    },
    {
     "data": {
      "application/vnd.jupyter.widget-view+json": {
       "model_id": "acf9c5b596a3424c8e611418786faafd",
       "version_major": 2,
       "version_minor": 0
      },
      "text/plain": [
       "IntProgress(value=0, description='mou_9', max=20)"
      ]
     },
     "metadata": {},
     "output_type": "display_data"
    },
    {
     "name": "stdout",
     "output_type": "stream",
     "text": [
      "Warning: skipping session with too few trials 26\n"
     ]
    },
    {
     "data": {
      "application/vnd.jupyter.widget-view+json": {
       "model_id": "8ff5c1c8396240ca9a63afc54e2704d5",
       "version_major": 2,
       "version_minor": 0
      },
      "text/plain": [
       "IntProgress(value=0, description='mou_9', max=20)"
      ]
     },
     "metadata": {},
     "output_type": "display_data"
    },
    {
     "name": "stdout",
     "output_type": "stream",
     "text": [
      "Warning: skipping session with too few trials 26\n"
     ]
    },
    {
     "data": {
      "application/vnd.jupyter.widget-view+json": {
       "model_id": "28abe0645375427aa19a17b67dea0f58",
       "version_major": 2,
       "version_minor": 0
      },
      "text/plain": [
       "IntProgress(value=0, description='mou_9', max=20)"
      ]
     },
     "metadata": {},
     "output_type": "display_data"
    },
    {
     "data": {
      "application/vnd.jupyter.widget-view+json": {
       "model_id": "731ee6b86909491aad195de42a4124d6",
       "version_major": 2,
       "version_minor": 0
      },
      "text/plain": [
       "IntProgress(value=0, description='mou_9', max=20)"
      ]
     },
     "metadata": {},
     "output_type": "display_data"
    },
    {
     "data": {
      "application/vnd.jupyter.widget-view+json": {
       "model_id": "4d598413952747da821be085be4ef117",
       "version_major": 2,
       "version_minor": 0
      },
      "text/plain": [
       "IntProgress(value=0, description='mou_9', max=20)"
      ]
     },
     "metadata": {},
     "output_type": "display_data"
    },
    {
     "data": {
      "application/vnd.jupyter.widget-view+json": {
       "model_id": "8d0cb2dbc8254ce894964fa29be9e046",
       "version_major": 2,
       "version_minor": 0
      },
      "text/plain": [
       "IntProgress(value=0, description='mou_9', max=20)"
      ]
     },
     "metadata": {},
     "output_type": "display_data"
    },
    {
     "data": {
      "application/vnd.jupyter.widget-view+json": {
       "model_id": "fd0bd430ca494a7bb157209a1bf07836",
       "version_major": 2,
       "version_minor": 0
      },
      "text/plain": [
       "IntProgress(value=0, description='mou_9', max=20)"
      ]
     },
     "metadata": {},
     "output_type": "display_data"
    },
    {
     "name": "stdout",
     "output_type": "stream",
     "text": [
      "Warning: skipping session with too few trials 29\n",
      "Warning: skipping session with too few trials 29\n",
      "Warning: skipping session with too few trials 27\n",
      "Warning: skipping session with too few trials 27\n",
      "Warning: skipping session with too few trials 20\n",
      "Warning: skipping session with too few trials 27\n",
      "Warning: skipping session with too few trials 21\n",
      "Warning: skipping session with too few trials 26\n",
      "Warning: skipping session with too few trials 24\n"
     ]
    },
    {
     "data": {
      "application/vnd.jupyter.widget-view+json": {
       "model_id": "07310a3258e44dc7bb856171fcba738c",
       "version_major": 2,
       "version_minor": 0
      },
      "text/plain": [
       "IntProgress(value=0, description='mou_9', max=20)"
      ]
     },
     "metadata": {},
     "output_type": "display_data"
    },
    {
     "name": "stdout",
     "output_type": "stream",
     "text": [
      "Warning: skipping session with too few trials 29\n",
      "Warning: skipping session with too few trials 29\n",
      "Warning: skipping session with too few trials 27\n",
      "Warning: skipping session with too few trials 27\n",
      "Warning: skipping session with too few trials 20\n",
      "Warning: skipping session with too few trials 27\n",
      "Warning: skipping session with too few trials 21\n",
      "Warning: skipping session with too few trials 26\n",
      "Warning: skipping session with too few trials 24\n"
     ]
    },
    {
     "data": {
      "application/vnd.jupyter.widget-view+json": {
       "model_id": "26fdbaa7f83a45d08aee0121d82f618c",
       "version_major": 2,
       "version_minor": 0
      },
      "text/plain": [
       "IntProgress(value=0, description='mou_9', max=20)"
      ]
     },
     "metadata": {},
     "output_type": "display_data"
    },
    {
     "name": "stdout",
     "output_type": "stream",
     "text": [
      "Warning: skipping session with too few trials 29\n",
      "Warning: skipping session with too few trials 29\n",
      "Warning: skipping session with too few trials 27\n",
      "Warning: skipping session with too few trials 27\n",
      "Warning: skipping session with too few trials 20\n",
      "Warning: skipping session with too few trials 27\n",
      "Warning: skipping session with too few trials 21\n",
      "Warning: skipping session with too few trials 26\n",
      "Warning: skipping session with too few trials 24\n"
     ]
    },
    {
     "data": {
      "application/vnd.jupyter.widget-view+json": {
       "model_id": "1c3ebd1955524c1cbac7ba5398de9baa",
       "version_major": 2,
       "version_minor": 0
      },
      "text/plain": [
       "IntProgress(value=0, description='mou_9', max=20)"
      ]
     },
     "metadata": {},
     "output_type": "display_data"
    },
    {
     "name": "stdout",
     "output_type": "stream",
     "text": [
      "Warning: skipping session with too few trials 29\n",
      "Warning: skipping session with too few trials 29\n",
      "Warning: skipping session with too few trials 27\n",
      "Warning: skipping session with too few trials 27\n",
      "Warning: skipping session with too few trials 20\n",
      "Warning: skipping session with too few trials 27\n",
      "Warning: skipping session with too few trials 21\n",
      "Warning: skipping session with too few trials 26\n",
      "Warning: skipping session with too few trials 24\n"
     ]
    },
    {
     "data": {
      "application/vnd.jupyter.widget-view+json": {
       "model_id": "a25550f9abe74199ae826c4eac25db30",
       "version_major": 2,
       "version_minor": 0
      },
      "text/plain": [
       "IntProgress(value=0, description='mou_9', max=20)"
      ]
     },
     "metadata": {},
     "output_type": "display_data"
    },
    {
     "name": "stdout",
     "output_type": "stream",
     "text": [
      "Warning: skipping session with too few trials 26\n"
     ]
    },
    {
     "data": {
      "application/vnd.jupyter.widget-view+json": {
       "model_id": "3163de948b63412484623455c98d7862",
       "version_major": 2,
       "version_minor": 0
      },
      "text/plain": [
       "IntProgress(value=0, description='mou_9', max=20)"
      ]
     },
     "metadata": {},
     "output_type": "display_data"
    },
    {
     "name": "stdout",
     "output_type": "stream",
     "text": [
      "Warning: skipping session with too few trials 26\n"
     ]
    },
    {
     "data": {
      "application/vnd.jupyter.widget-view+json": {
       "model_id": "71dc045a6d4440e1a8f643249f025888",
       "version_major": 2,
       "version_minor": 0
      },
      "text/plain": [
       "IntProgress(value=0, description='mou_9', max=20)"
      ]
     },
     "metadata": {},
     "output_type": "display_data"
    },
    {
     "name": "stdout",
     "output_type": "stream",
     "text": [
      "Warning: skipping session with too few trials 26\n"
     ]
    },
    {
     "data": {
      "application/vnd.jupyter.widget-view+json": {
       "model_id": "6f37682033ef475aa08eee42c438a16e",
       "version_major": 2,
       "version_minor": 0
      },
      "text/plain": [
       "IntProgress(value=0, description='mou_9', max=20)"
      ]
     },
     "metadata": {},
     "output_type": "display_data"
    },
    {
     "name": "stdout",
     "output_type": "stream",
     "text": [
      "Warning: skipping session with too few trials 26\n"
     ]
    },
    {
     "data": {
      "application/vnd.jupyter.widget-view+json": {
       "model_id": "4b772213af134a77832173aa92eb6e5f",
       "version_major": 2,
       "version_minor": 0
      },
      "text/plain": [
       "IntProgress(value=0, description='mou_6', max=29)"
      ]
     },
     "metadata": {},
     "output_type": "display_data"
    },
    {
     "data": {
      "application/vnd.jupyter.widget-view+json": {
       "model_id": "139e486510b44e21add78505d4571588",
       "version_major": 2,
       "version_minor": 0
      },
      "text/plain": [
       "IntProgress(value=0, description='mou_6', max=29)"
      ]
     },
     "metadata": {},
     "output_type": "display_data"
    },
    {
     "data": {
      "application/vnd.jupyter.widget-view+json": {
       "model_id": "69a4bca9b9c74e4a8fa3c855b6811d12",
       "version_major": 2,
       "version_minor": 0
      },
      "text/plain": [
       "IntProgress(value=0, description='mou_6', max=29)"
      ]
     },
     "metadata": {},
     "output_type": "display_data"
    },
    {
     "data": {
      "application/vnd.jupyter.widget-view+json": {
       "model_id": "0e2a6e5792864624973eb461701de977",
       "version_major": 2,
       "version_minor": 0
      },
      "text/plain": [
       "IntProgress(value=0, description='mou_6', max=29)"
      ]
     },
     "metadata": {},
     "output_type": "display_data"
    },
    {
     "data": {
      "application/vnd.jupyter.widget-view+json": {
       "model_id": "8c4da4dd072840e793835de30a5d419a",
       "version_major": 2,
       "version_minor": 0
      },
      "text/plain": [
       "IntProgress(value=0, description='mou_6', max=29)"
      ]
     },
     "metadata": {},
     "output_type": "display_data"
    },
    {
     "data": {
      "application/vnd.jupyter.widget-view+json": {
       "model_id": "5323ee9c06e1405187af1dc26de932b1",
       "version_major": 2,
       "version_minor": 0
      },
      "text/plain": [
       "IntProgress(value=0, description='mou_6', max=29)"
      ]
     },
     "metadata": {},
     "output_type": "display_data"
    },
    {
     "name": "stdout",
     "output_type": "stream",
     "text": [
      "Warning: skipping session with too few trials 17\n",
      "Warning: skipping session with too few trials 19\n",
      "Warning: skipping session with too few trials 29\n",
      "Warning: skipping session with too few trials 18\n",
      "Warning: skipping session with too few trials 29\n",
      "Warning: skipping session with too few trials 17\n",
      "Warning: skipping session with too few trials 14\n",
      "Warning: skipping session with too few trials 15\n",
      "Warning: skipping session with too few trials 29\n",
      "Warning: skipping session with too few trials 21\n",
      "Warning: skipping session with too few trials 22\n",
      "Warning: skipping session with too few trials 21\n",
      "Warning: skipping session with too few trials 25\n",
      "Warning: skipping session with too few trials 18\n",
      "Warning: skipping session with too few trials 26\n",
      "Warning: skipping session with too few trials 18\n",
      "Warning: skipping session with too few trials 19\n",
      "Warning: skipping session with too few trials 20\n",
      "Warning: skipping session with too few trials 22\n",
      "Warning: skipping session with too few trials 28\n",
      "Warning: skipping session with too few trials 28\n",
      "Warning: skipping session with too few trials 17\n"
     ]
    },
    {
     "data": {
      "application/vnd.jupyter.widget-view+json": {
       "model_id": "0d4ccac32eb242b9b0d36b0677877295",
       "version_major": 2,
       "version_minor": 0
      },
      "text/plain": [
       "IntProgress(value=0, description='mou_6', max=29)"
      ]
     },
     "metadata": {},
     "output_type": "display_data"
    },
    {
     "name": "stdout",
     "output_type": "stream",
     "text": [
      "Warning: skipping session with too few trials 17\n",
      "Warning: skipping session with too few trials 19\n",
      "Warning: skipping session with too few trials 29\n",
      "Warning: skipping session with too few trials 18\n",
      "Warning: skipping session with too few trials 29\n",
      "Warning: skipping session with too few trials 17\n",
      "Warning: skipping session with too few trials 14\n",
      "Warning: skipping session with too few trials 15\n",
      "Warning: skipping session with too few trials 29\n",
      "Warning: skipping session with too few trials 21\n",
      "Warning: skipping session with too few trials 22\n",
      "Warning: skipping session with too few trials 21\n",
      "Warning: skipping session with too few trials 25\n",
      "Warning: skipping session with too few trials 18\n",
      "Warning: skipping session with too few trials 26\n",
      "Warning: skipping session with too few trials 18\n",
      "Warning: skipping session with too few trials 19\n",
      "Warning: skipping session with too few trials 20\n",
      "Warning: skipping session with too few trials 22\n",
      "Warning: skipping session with too few trials 28\n",
      "Warning: skipping session with too few trials 28\n",
      "Warning: skipping session with too few trials 17\n"
     ]
    },
    {
     "data": {
      "application/vnd.jupyter.widget-view+json": {
       "model_id": "98e86f8e776943738de76755e07945a4",
       "version_major": 2,
       "version_minor": 0
      },
      "text/plain": [
       "IntProgress(value=0, description='mou_6', max=29)"
      ]
     },
     "metadata": {},
     "output_type": "display_data"
    },
    {
     "name": "stdout",
     "output_type": "stream",
     "text": [
      "Warning: skipping session with too few trials 17\n",
      "Warning: skipping session with too few trials 19\n",
      "Warning: skipping session with too few trials 29\n",
      "Warning: skipping session with too few trials 18\n",
      "Warning: skipping session with too few trials 29\n",
      "Warning: skipping session with too few trials 17\n",
      "Warning: skipping session with too few trials 14\n",
      "Warning: skipping session with too few trials 15\n",
      "Warning: skipping session with too few trials 29\n",
      "Warning: skipping session with too few trials 21\n",
      "Warning: skipping session with too few trials 22\n",
      "Warning: skipping session with too few trials 21\n",
      "Warning: skipping session with too few trials 25\n",
      "Warning: skipping session with too few trials 18\n",
      "Warning: skipping session with too few trials 26\n",
      "Warning: skipping session with too few trials 18\n",
      "Warning: skipping session with too few trials 19\n",
      "Warning: skipping session with too few trials 20\n",
      "Warning: skipping session with too few trials 22\n",
      "Warning: skipping session with too few trials 28\n",
      "Warning: skipping session with too few trials 28\n",
      "Warning: skipping session with too few trials 17\n"
     ]
    },
    {
     "data": {
      "application/vnd.jupyter.widget-view+json": {
       "model_id": "ee2f5f61faec4cd6a9b6357ccaf2fdb3",
       "version_major": 2,
       "version_minor": 0
      },
      "text/plain": [
       "IntProgress(value=0, description='mou_6', max=29)"
      ]
     },
     "metadata": {},
     "output_type": "display_data"
    },
    {
     "name": "stdout",
     "output_type": "stream",
     "text": [
      "Warning: skipping session with too few trials 17\n",
      "Warning: skipping session with too few trials 19\n",
      "Warning: skipping session with too few trials 29\n",
      "Warning: skipping session with too few trials 18\n",
      "Warning: skipping session with too few trials 29\n",
      "Warning: skipping session with too few trials 17\n",
      "Warning: skipping session with too few trials 14\n",
      "Warning: skipping session with too few trials 15\n",
      "Warning: skipping session with too few trials 29\n",
      "Warning: skipping session with too few trials 21\n",
      "Warning: skipping session with too few trials 22\n",
      "Warning: skipping session with too few trials 21\n",
      "Warning: skipping session with too few trials 25\n",
      "Warning: skipping session with too few trials 18\n",
      "Warning: skipping session with too few trials 26\n",
      "Warning: skipping session with too few trials 18\n",
      "Warning: skipping session with too few trials 19\n",
      "Warning: skipping session with too few trials 20\n",
      "Warning: skipping session with too few trials 22\n",
      "Warning: skipping session with too few trials 28\n",
      "Warning: skipping session with too few trials 28\n",
      "Warning: skipping session with too few trials 17\n"
     ]
    },
    {
     "data": {
      "application/vnd.jupyter.widget-view+json": {
       "model_id": "4e92c312556447d2aeda6756b5f2b800",
       "version_major": 2,
       "version_minor": 0
      },
      "text/plain": [
       "IntProgress(value=0, description='mou_6', max=29)"
      ]
     },
     "metadata": {},
     "output_type": "display_data"
    },
    {
     "name": "stdout",
     "output_type": "stream",
     "text": [
      "Warning: skipping session with too few trials 17\n",
      "Warning: skipping session with too few trials 19\n",
      "Warning: skipping session with too few trials 29\n",
      "Warning: skipping session with too few trials 18\n",
      "Warning: skipping session with too few trials 29\n",
      "Warning: skipping session with too few trials 17\n",
      "Warning: skipping session with too few trials 14\n",
      "Warning: skipping session with too few trials 15\n",
      "Warning: skipping session with too few trials 29\n",
      "Warning: skipping session with too few trials 21\n",
      "Warning: skipping session with too few trials 22\n",
      "Warning: skipping session with too few trials 21\n",
      "Warning: skipping session with too few trials 25\n",
      "Warning: skipping session with too few trials 18\n",
      "Warning: skipping session with too few trials 26\n",
      "Warning: skipping session with too few trials 18\n",
      "Warning: skipping session with too few trials 19\n",
      "Warning: skipping session with too few trials 20\n",
      "Warning: skipping session with too few trials 22\n",
      "Warning: skipping session with too few trials 28\n",
      "Warning: skipping session with too few trials 28\n",
      "Warning: skipping session with too few trials 17\n"
     ]
    },
    {
     "data": {
      "application/vnd.jupyter.widget-view+json": {
       "model_id": "04a1b4d0affd4b99b575daac4e484369",
       "version_major": 2,
       "version_minor": 0
      },
      "text/plain": [
       "IntProgress(value=0, description='mou_6', max=29)"
      ]
     },
     "metadata": {},
     "output_type": "display_data"
    },
    {
     "name": "stdout",
     "output_type": "stream",
     "text": [
      "Warning: skipping session with too few trials 24\n",
      "Warning: skipping session with too few trials 29\n"
     ]
    },
    {
     "data": {
      "application/vnd.jupyter.widget-view+json": {
       "model_id": "3462348f206a4b86a99a290a910040e7",
       "version_major": 2,
       "version_minor": 0
      },
      "text/plain": [
       "IntProgress(value=0, description='mou_6', max=29)"
      ]
     },
     "metadata": {},
     "output_type": "display_data"
    },
    {
     "name": "stdout",
     "output_type": "stream",
     "text": [
      "Warning: skipping session with too few trials 24\n",
      "Warning: skipping session with too few trials 29\n"
     ]
    },
    {
     "data": {
      "application/vnd.jupyter.widget-view+json": {
       "model_id": "8eccffb429ca4fbd9a35be1a686f101f",
       "version_major": 2,
       "version_minor": 0
      },
      "text/plain": [
       "IntProgress(value=0, description='mou_6', max=29)"
      ]
     },
     "metadata": {},
     "output_type": "display_data"
    },
    {
     "name": "stdout",
     "output_type": "stream",
     "text": [
      "Warning: skipping session with too few trials 24\n",
      "Warning: skipping session with too few trials 29\n"
     ]
    },
    {
     "data": {
      "application/vnd.jupyter.widget-view+json": {
       "model_id": "dc26697c397f49f8b76314438ca038fb",
       "version_major": 2,
       "version_minor": 0
      },
      "text/plain": [
       "IntProgress(value=0, description='mou_6', max=29)"
      ]
     },
     "metadata": {},
     "output_type": "display_data"
    },
    {
     "name": "stdout",
     "output_type": "stream",
     "text": [
      "Warning: skipping session with too few trials 24\n",
      "Warning: skipping session with too few trials 29\n"
     ]
    },
    {
     "data": {
      "application/vnd.jupyter.widget-view+json": {
       "model_id": "1a9daaf32ab748f8b0f8f3a26071fd12",
       "version_major": 2,
       "version_minor": 0
      },
      "text/plain": [
       "IntProgress(value=0, description='mou_6', max=29)"
      ]
     },
     "metadata": {},
     "output_type": "display_data"
    },
    {
     "name": "stdout",
     "output_type": "stream",
     "text": [
      "Warning: skipping session with too few trials 24\n",
      "Warning: skipping session with too few trials 29\n"
     ]
    },
    {
     "data": {
      "application/vnd.jupyter.widget-view+json": {
       "model_id": "b48830649a314974be88dda89cf823bf",
       "version_major": 2,
       "version_minor": 0
      },
      "text/plain": [
       "IntProgress(value=0, description='mou_6', max=29)"
      ]
     },
     "metadata": {},
     "output_type": "display_data"
    },
    {
     "data": {
      "application/vnd.jupyter.widget-view+json": {
       "model_id": "24e5429e23e943bbb98a11dd5b36531f",
       "version_major": 2,
       "version_minor": 0
      },
      "text/plain": [
       "IntProgress(value=0, description='mou_6', max=29)"
      ]
     },
     "metadata": {},
     "output_type": "display_data"
    },
    {
     "data": {
      "application/vnd.jupyter.widget-view+json": {
       "model_id": "48ec2bead75f4f36af97f40e82523bf1",
       "version_major": 2,
       "version_minor": 0
      },
      "text/plain": [
       "IntProgress(value=0, description='mou_6', max=29)"
      ]
     },
     "metadata": {},
     "output_type": "display_data"
    },
    {
     "data": {
      "application/vnd.jupyter.widget-view+json": {
       "model_id": "8edc226629384ae88508fc04cd6c5c52",
       "version_major": 2,
       "version_minor": 0
      },
      "text/plain": [
       "IntProgress(value=0, description='mou_6', max=29)"
      ]
     },
     "metadata": {},
     "output_type": "display_data"
    },
    {
     "data": {
      "application/vnd.jupyter.widget-view+json": {
       "model_id": "4420052fe78e43709db87146c0cbe904",
       "version_major": 2,
       "version_minor": 0
      },
      "text/plain": [
       "IntProgress(value=0, description='mou_6', max=29)"
      ]
     },
     "metadata": {},
     "output_type": "display_data"
    },
    {
     "data": {
      "application/vnd.jupyter.widget-view+json": {
       "model_id": "350637e49ae34817bfa43e0f4d6ff2ce",
       "version_major": 2,
       "version_minor": 0
      },
      "text/plain": [
       "IntProgress(value=0, description='mou_6', max=29)"
      ]
     },
     "metadata": {},
     "output_type": "display_data"
    },
    {
     "name": "stdout",
     "output_type": "stream",
     "text": [
      "Warning: skipping session with too few trials 17\n",
      "Warning: skipping session with too few trials 19\n",
      "Warning: skipping session with too few trials 29\n",
      "Warning: skipping session with too few trials 18\n",
      "Warning: skipping session with too few trials 29\n",
      "Warning: skipping session with too few trials 17\n",
      "Warning: skipping session with too few trials 14\n",
      "Warning: skipping session with too few trials 15\n",
      "Warning: skipping session with too few trials 29\n",
      "Warning: skipping session with too few trials 21\n",
      "Warning: skipping session with too few trials 22\n",
      "Warning: skipping session with too few trials 21\n",
      "Warning: skipping session with too few trials 25\n",
      "Warning: skipping session with too few trials 18\n",
      "Warning: skipping session with too few trials 26\n",
      "Warning: skipping session with too few trials 18\n",
      "Warning: skipping session with too few trials 19\n",
      "Warning: skipping session with too few trials 20\n",
      "Warning: skipping session with too few trials 22\n",
      "Warning: skipping session with too few trials 28\n",
      "Warning: skipping session with too few trials 28\n",
      "Warning: skipping session with too few trials 17\n"
     ]
    },
    {
     "data": {
      "application/vnd.jupyter.widget-view+json": {
       "model_id": "c3d67ed24a6c4cdaa911e272e1195aab",
       "version_major": 2,
       "version_minor": 0
      },
      "text/plain": [
       "IntProgress(value=0, description='mou_6', max=29)"
      ]
     },
     "metadata": {},
     "output_type": "display_data"
    },
    {
     "name": "stdout",
     "output_type": "stream",
     "text": [
      "Warning: skipping session with too few trials 17\n",
      "Warning: skipping session with too few trials 19\n",
      "Warning: skipping session with too few trials 29\n",
      "Warning: skipping session with too few trials 18\n",
      "Warning: skipping session with too few trials 29\n",
      "Warning: skipping session with too few trials 17\n",
      "Warning: skipping session with too few trials 14\n",
      "Warning: skipping session with too few trials 15\n",
      "Warning: skipping session with too few trials 29\n",
      "Warning: skipping session with too few trials 21\n",
      "Warning: skipping session with too few trials 22\n",
      "Warning: skipping session with too few trials 21\n",
      "Warning: skipping session with too few trials 25\n",
      "Warning: skipping session with too few trials 18\n",
      "Warning: skipping session with too few trials 26\n",
      "Warning: skipping session with too few trials 18\n",
      "Warning: skipping session with too few trials 19\n",
      "Warning: skipping session with too few trials 20\n",
      "Warning: skipping session with too few trials 22\n",
      "Warning: skipping session with too few trials 28\n",
      "Warning: skipping session with too few trials 28\n",
      "Warning: skipping session with too few trials 17\n"
     ]
    },
    {
     "data": {
      "application/vnd.jupyter.widget-view+json": {
       "model_id": "39f7586b160443a98ea48a6b18b3caa7",
       "version_major": 2,
       "version_minor": 0
      },
      "text/plain": [
       "IntProgress(value=0, description='mou_6', max=29)"
      ]
     },
     "metadata": {},
     "output_type": "display_data"
    },
    {
     "name": "stdout",
     "output_type": "stream",
     "text": [
      "Warning: skipping session with too few trials 17\n",
      "Warning: skipping session with too few trials 19\n",
      "Warning: skipping session with too few trials 29\n",
      "Warning: skipping session with too few trials 18\n",
      "Warning: skipping session with too few trials 29\n",
      "Warning: skipping session with too few trials 17\n",
      "Warning: skipping session with too few trials 14\n",
      "Warning: skipping session with too few trials 15\n",
      "Warning: skipping session with too few trials 29\n",
      "Warning: skipping session with too few trials 21\n",
      "Warning: skipping session with too few trials 22\n",
      "Warning: skipping session with too few trials 21\n",
      "Warning: skipping session with too few trials 25\n",
      "Warning: skipping session with too few trials 18\n",
      "Warning: skipping session with too few trials 26\n",
      "Warning: skipping session with too few trials 18\n",
      "Warning: skipping session with too few trials 19\n",
      "Warning: skipping session with too few trials 20\n",
      "Warning: skipping session with too few trials 22\n",
      "Warning: skipping session with too few trials 28\n",
      "Warning: skipping session with too few trials 28\n",
      "Warning: skipping session with too few trials 17\n"
     ]
    },
    {
     "data": {
      "application/vnd.jupyter.widget-view+json": {
       "model_id": "e98955e2d4e841fb859564ce50e94161",
       "version_major": 2,
       "version_minor": 0
      },
      "text/plain": [
       "IntProgress(value=0, description='mou_6', max=29)"
      ]
     },
     "metadata": {},
     "output_type": "display_data"
    },
    {
     "name": "stdout",
     "output_type": "stream",
     "text": [
      "Warning: skipping session with too few trials 17\n",
      "Warning: skipping session with too few trials 19\n",
      "Warning: skipping session with too few trials 29\n",
      "Warning: skipping session with too few trials 18\n",
      "Warning: skipping session with too few trials 29\n",
      "Warning: skipping session with too few trials 17\n",
      "Warning: skipping session with too few trials 14\n",
      "Warning: skipping session with too few trials 15\n",
      "Warning: skipping session with too few trials 29\n",
      "Warning: skipping session with too few trials 21\n",
      "Warning: skipping session with too few trials 22\n",
      "Warning: skipping session with too few trials 21\n",
      "Warning: skipping session with too few trials 25\n",
      "Warning: skipping session with too few trials 18\n",
      "Warning: skipping session with too few trials 26\n",
      "Warning: skipping session with too few trials 18\n",
      "Warning: skipping session with too few trials 19\n",
      "Warning: skipping session with too few trials 20\n",
      "Warning: skipping session with too few trials 22\n",
      "Warning: skipping session with too few trials 28\n",
      "Warning: skipping session with too few trials 28\n",
      "Warning: skipping session with too few trials 17\n"
     ]
    },
    {
     "data": {
      "application/vnd.jupyter.widget-view+json": {
       "model_id": "3163a24bfaca4964a01d528d3b5ff09f",
       "version_major": 2,
       "version_minor": 0
      },
      "text/plain": [
       "IntProgress(value=0, description='mou_6', max=29)"
      ]
     },
     "metadata": {},
     "output_type": "display_data"
    },
    {
     "name": "stdout",
     "output_type": "stream",
     "text": [
      "Warning: skipping session with too few trials 17\n",
      "Warning: skipping session with too few trials 19\n",
      "Warning: skipping session with too few trials 29\n",
      "Warning: skipping session with too few trials 18\n",
      "Warning: skipping session with too few trials 29\n",
      "Warning: skipping session with too few trials 17\n",
      "Warning: skipping session with too few trials 14\n",
      "Warning: skipping session with too few trials 15\n",
      "Warning: skipping session with too few trials 29\n",
      "Warning: skipping session with too few trials 21\n",
      "Warning: skipping session with too few trials 22\n",
      "Warning: skipping session with too few trials 21\n",
      "Warning: skipping session with too few trials 25\n",
      "Warning: skipping session with too few trials 18\n",
      "Warning: skipping session with too few trials 26\n",
      "Warning: skipping session with too few trials 18\n",
      "Warning: skipping session with too few trials 19\n",
      "Warning: skipping session with too few trials 20\n",
      "Warning: skipping session with too few trials 22\n",
      "Warning: skipping session with too few trials 28\n",
      "Warning: skipping session with too few trials 28\n",
      "Warning: skipping session with too few trials 17\n"
     ]
    },
    {
     "data": {
      "application/vnd.jupyter.widget-view+json": {
       "model_id": "fd9051bb7beb4ac7a92728bd38c0f1af",
       "version_major": 2,
       "version_minor": 0
      },
      "text/plain": [
       "IntProgress(value=0, description='mou_6', max=29)"
      ]
     },
     "metadata": {},
     "output_type": "display_data"
    },
    {
     "name": "stdout",
     "output_type": "stream",
     "text": [
      "Warning: skipping session with too few trials 24\n",
      "Warning: skipping session with too few trials 29\n"
     ]
    },
    {
     "data": {
      "application/vnd.jupyter.widget-view+json": {
       "model_id": "0bcfb85f5e7f4678b4a8983d2c23101e",
       "version_major": 2,
       "version_minor": 0
      },
      "text/plain": [
       "IntProgress(value=0, description='mou_6', max=29)"
      ]
     },
     "metadata": {},
     "output_type": "display_data"
    },
    {
     "name": "stdout",
     "output_type": "stream",
     "text": [
      "Warning: skipping session with too few trials 24\n",
      "Warning: skipping session with too few trials 29\n"
     ]
    },
    {
     "data": {
      "application/vnd.jupyter.widget-view+json": {
       "model_id": "e95bbf60b9d8450f91ee7cb9e8475a3a",
       "version_major": 2,
       "version_minor": 0
      },
      "text/plain": [
       "IntProgress(value=0, description='mou_6', max=29)"
      ]
     },
     "metadata": {},
     "output_type": "display_data"
    },
    {
     "name": "stdout",
     "output_type": "stream",
     "text": [
      "Warning: skipping session with too few trials 24\n",
      "Warning: skipping session with too few trials 29\n"
     ]
    },
    {
     "data": {
      "application/vnd.jupyter.widget-view+json": {
       "model_id": "0180de1d07b5441cb6efa2cd0d2fa45b",
       "version_major": 2,
       "version_minor": 0
      },
      "text/plain": [
       "IntProgress(value=0, description='mou_6', max=29)"
      ]
     },
     "metadata": {},
     "output_type": "display_data"
    },
    {
     "name": "stdout",
     "output_type": "stream",
     "text": [
      "Warning: skipping session with too few trials 24\n",
      "Warning: skipping session with too few trials 29\n"
     ]
    },
    {
     "data": {
      "application/vnd.jupyter.widget-view+json": {
       "model_id": "6cf061f381974317a1165ff4b30e3a92",
       "version_major": 2,
       "version_minor": 0
      },
      "text/plain": [
       "IntProgress(value=0, description='mou_6', max=29)"
      ]
     },
     "metadata": {},
     "output_type": "display_data"
    },
    {
     "name": "stdout",
     "output_type": "stream",
     "text": [
      "Warning: skipping session with too few trials 24\n",
      "Warning: skipping session with too few trials 29\n"
     ]
    },
    {
     "data": {
      "application/vnd.jupyter.widget-view+json": {
       "model_id": "7f857e559d0e4126ac64b495e06fc10b",
       "version_major": 2,
       "version_minor": 0
      },
      "text/plain": [
       "IntProgress(value=0, description='mou_6', max=29)"
      ]
     },
     "metadata": {},
     "output_type": "display_data"
    },
    {
     "data": {
      "application/vnd.jupyter.widget-view+json": {
       "model_id": "93f8f0476b8e4cbca0ebdf262ec0b8f0",
       "version_major": 2,
       "version_minor": 0
      },
      "text/plain": [
       "IntProgress(value=0, description='mou_6', max=29)"
      ]
     },
     "metadata": {},
     "output_type": "display_data"
    },
    {
     "data": {
      "application/vnd.jupyter.widget-view+json": {
       "model_id": "4db8474fab1f4b8c9ec5667e0427cab5",
       "version_major": 2,
       "version_minor": 0
      },
      "text/plain": [
       "IntProgress(value=0, description='mou_6', max=29)"
      ]
     },
     "metadata": {},
     "output_type": "display_data"
    },
    {
     "data": {
      "application/vnd.jupyter.widget-view+json": {
       "model_id": "9fff06f0119e457ebf43ae4ff4af2665",
       "version_major": 2,
       "version_minor": 0
      },
      "text/plain": [
       "IntProgress(value=0, description='mou_6', max=29)"
      ]
     },
     "metadata": {},
     "output_type": "display_data"
    },
    {
     "data": {
      "application/vnd.jupyter.widget-view+json": {
       "model_id": "c861144b26b34066b0f282724f0fa28d",
       "version_major": 2,
       "version_minor": 0
      },
      "text/plain": [
       "IntProgress(value=0, description='mou_6', max=29)"
      ]
     },
     "metadata": {},
     "output_type": "display_data"
    },
    {
     "name": "stdout",
     "output_type": "stream",
     "text": [
      "Warning: skipping session with too few trials 17\n",
      "Warning: skipping session with too few trials 19\n",
      "Warning: skipping session with too few trials 29\n",
      "Warning: skipping session with too few trials 18\n",
      "Warning: skipping session with too few trials 29\n",
      "Warning: skipping session with too few trials 17\n",
      "Warning: skipping session with too few trials 14\n",
      "Warning: skipping session with too few trials 15\n",
      "Warning: skipping session with too few trials 29\n",
      "Warning: skipping session with too few trials 21\n",
      "Warning: skipping session with too few trials 22\n",
      "Warning: skipping session with too few trials 21\n",
      "Warning: skipping session with too few trials 25\n",
      "Warning: skipping session with too few trials 18\n",
      "Warning: skipping session with too few trials 26\n",
      "Warning: skipping session with too few trials 18\n",
      "Warning: skipping session with too few trials 19\n",
      "Warning: skipping session with too few trials 20\n",
      "Warning: skipping session with too few trials 22\n",
      "Warning: skipping session with too few trials 28\n",
      "Warning: skipping session with too few trials 28\n",
      "Warning: skipping session with too few trials 17\n"
     ]
    },
    {
     "data": {
      "application/vnd.jupyter.widget-view+json": {
       "model_id": "947818e47d6947708f70a03c4cb48d42",
       "version_major": 2,
       "version_minor": 0
      },
      "text/plain": [
       "IntProgress(value=0, description='mou_6', max=29)"
      ]
     },
     "metadata": {},
     "output_type": "display_data"
    },
    {
     "name": "stdout",
     "output_type": "stream",
     "text": [
      "Warning: skipping session with too few trials 17\n",
      "Warning: skipping session with too few trials 19\n",
      "Warning: skipping session with too few trials 29\n",
      "Warning: skipping session with too few trials 18\n",
      "Warning: skipping session with too few trials 29\n",
      "Warning: skipping session with too few trials 17\n",
      "Warning: skipping session with too few trials 14\n",
      "Warning: skipping session with too few trials 15\n",
      "Warning: skipping session with too few trials 29\n",
      "Warning: skipping session with too few trials 21\n",
      "Warning: skipping session with too few trials 22\n",
      "Warning: skipping session with too few trials 21\n",
      "Warning: skipping session with too few trials 25\n",
      "Warning: skipping session with too few trials 18\n",
      "Warning: skipping session with too few trials 26\n",
      "Warning: skipping session with too few trials 18\n",
      "Warning: skipping session with too few trials 19\n",
      "Warning: skipping session with too few trials 20\n",
      "Warning: skipping session with too few trials 22\n",
      "Warning: skipping session with too few trials 28\n",
      "Warning: skipping session with too few trials 28\n",
      "Warning: skipping session with too few trials 17\n"
     ]
    },
    {
     "data": {
      "application/vnd.jupyter.widget-view+json": {
       "model_id": "0403c58e26e84a1592e35037643af999",
       "version_major": 2,
       "version_minor": 0
      },
      "text/plain": [
       "IntProgress(value=0, description='mou_6', max=29)"
      ]
     },
     "metadata": {},
     "output_type": "display_data"
    },
    {
     "name": "stdout",
     "output_type": "stream",
     "text": [
      "Warning: skipping session with too few trials 17\n",
      "Warning: skipping session with too few trials 19\n",
      "Warning: skipping session with too few trials 29\n",
      "Warning: skipping session with too few trials 18\n",
      "Warning: skipping session with too few trials 29\n",
      "Warning: skipping session with too few trials 17\n",
      "Warning: skipping session with too few trials 14\n",
      "Warning: skipping session with too few trials 15\n",
      "Warning: skipping session with too few trials 29\n",
      "Warning: skipping session with too few trials 21\n",
      "Warning: skipping session with too few trials 22\n",
      "Warning: skipping session with too few trials 21\n",
      "Warning: skipping session with too few trials 25\n",
      "Warning: skipping session with too few trials 18\n",
      "Warning: skipping session with too few trials 26\n",
      "Warning: skipping session with too few trials 18\n",
      "Warning: skipping session with too few trials 19\n",
      "Warning: skipping session with too few trials 20\n",
      "Warning: skipping session with too few trials 22\n",
      "Warning: skipping session with too few trials 28\n",
      "Warning: skipping session with too few trials 28\n",
      "Warning: skipping session with too few trials 17\n"
     ]
    },
    {
     "data": {
      "application/vnd.jupyter.widget-view+json": {
       "model_id": "490106aac47e4a298974b175aff0a273",
       "version_major": 2,
       "version_minor": 0
      },
      "text/plain": [
       "IntProgress(value=0, description='mou_6', max=29)"
      ]
     },
     "metadata": {},
     "output_type": "display_data"
    },
    {
     "name": "stdout",
     "output_type": "stream",
     "text": [
      "Warning: skipping session with too few trials 17\n",
      "Warning: skipping session with too few trials 19\n",
      "Warning: skipping session with too few trials 29\n",
      "Warning: skipping session with too few trials 18\n",
      "Warning: skipping session with too few trials 29\n",
      "Warning: skipping session with too few trials 17\n",
      "Warning: skipping session with too few trials 14\n",
      "Warning: skipping session with too few trials 15\n",
      "Warning: skipping session with too few trials 29\n",
      "Warning: skipping session with too few trials 21\n",
      "Warning: skipping session with too few trials 22\n",
      "Warning: skipping session with too few trials 21\n",
      "Warning: skipping session with too few trials 25\n",
      "Warning: skipping session with too few trials 18\n",
      "Warning: skipping session with too few trials 26\n",
      "Warning: skipping session with too few trials 18\n",
      "Warning: skipping session with too few trials 19\n",
      "Warning: skipping session with too few trials 20\n",
      "Warning: skipping session with too few trials 22\n",
      "Warning: skipping session with too few trials 28\n",
      "Warning: skipping session with too few trials 28\n",
      "Warning: skipping session with too few trials 17\n"
     ]
    },
    {
     "data": {
      "application/vnd.jupyter.widget-view+json": {
       "model_id": "9024b3ea7f3146238ba8a2075f0d764b",
       "version_major": 2,
       "version_minor": 0
      },
      "text/plain": [
       "IntProgress(value=0, description='mou_6', max=29)"
      ]
     },
     "metadata": {},
     "output_type": "display_data"
    },
    {
     "name": "stdout",
     "output_type": "stream",
     "text": [
      "Warning: skipping session with too few trials 24\n",
      "Warning: skipping session with too few trials 29\n"
     ]
    },
    {
     "data": {
      "application/vnd.jupyter.widget-view+json": {
       "model_id": "89299b2ca4eb475cbadd1c118cbd52bc",
       "version_major": 2,
       "version_minor": 0
      },
      "text/plain": [
       "IntProgress(value=0, description='mou_6', max=29)"
      ]
     },
     "metadata": {},
     "output_type": "display_data"
    },
    {
     "name": "stdout",
     "output_type": "stream",
     "text": [
      "Warning: skipping session with too few trials 24\n",
      "Warning: skipping session with too few trials 29\n"
     ]
    },
    {
     "data": {
      "application/vnd.jupyter.widget-view+json": {
       "model_id": "e766456d8c7e4270a011ac113e986be0",
       "version_major": 2,
       "version_minor": 0
      },
      "text/plain": [
       "IntProgress(value=0, description='mou_6', max=29)"
      ]
     },
     "metadata": {},
     "output_type": "display_data"
    },
    {
     "name": "stdout",
     "output_type": "stream",
     "text": [
      "Warning: skipping session with too few trials 24\n",
      "Warning: skipping session with too few trials 29\n"
     ]
    },
    {
     "data": {
      "application/vnd.jupyter.widget-view+json": {
       "model_id": "26d3251015944758a61ffec03585db2e",
       "version_major": 2,
       "version_minor": 0
      },
      "text/plain": [
       "IntProgress(value=0, description='mou_6', max=29)"
      ]
     },
     "metadata": {},
     "output_type": "display_data"
    },
    {
     "name": "stdout",
     "output_type": "stream",
     "text": [
      "Warning: skipping session with too few trials 24\n",
      "Warning: skipping session with too few trials 29\n"
     ]
    }
   ],
   "source": [
    "bulk_metrics.metric_mouse_bulk_vs_session(dataDB, mc, ds, \"varmean\", 'session',\n",
    "                                          trialTypeNames=[None, 'Hit', 'CR'],\n",
    "                                          minTrials=30, skipExisting=True,\n",
    "                                          verbose=False, intervNames=intervNames,\n",
    "                                          exclQueryLst=exclQueryLst)"
   ]
  },
  {
   "cell_type": "code",
   "execution_count": null,
   "metadata": {
    "scrolled": true
   },
   "outputs": [],
   "source": [
    "bulk_metrics.scatter_metric_bulk(ds, 'varmean', 'session', verbose=False, xFunc=None, haveRegression=False)"
   ]
  },
  {
   "cell_type": "markdown",
   "metadata": {},
   "source": [
    "### Conditions"
   ]
  },
  {
   "cell_type": "code",
   "execution_count": 27,
   "metadata": {
    "scrolled": true
   },
   "outputs": [
    {
     "name": "stdout",
     "output_type": "stream",
     "text": [
      "bn_session\n",
      "bn_trial\n",
      "raw\n"
     ]
    }
   ],
   "source": [
    "bulk_metrics.barplot_conditions(ds, 'varmean', 'session', verbose=True, trialTypes=['Hit', 'CR'])"
   ]
  },
  {
   "cell_type": "markdown",
   "metadata": {},
   "source": [
    "### Test variance across channels for interesting interval\n",
    "\n",
    "* Average signal over texture presentation interval\n",
    "* Compute variance over trials for each channel\n",
    "* Compare channels"
   ]
  },
  {
   "cell_type": "code",
   "execution_count": null,
   "metadata": {},
   "outputs": [],
   "source": [
    "bulk_metrics.metric_mouse_bulk(dataDB, mc, ds, 'varmean', 'p', 'channel',\n",
    "                               cropTime=('TEX', (3, 3.5)), verbose=False)"
   ]
  },
  {
   "cell_type": "code",
   "execution_count": null,
   "metadata": {
    "scrolled": true
   },
   "outputs": [],
   "source": [
    "bulk_metrics.plot_metric_bulk(ds, 'varmean', 'channel', yscale='log', verbose=False, # ylim=[0.005,2],\n",
    "                              dropCols=['cropTime'])"
   ]
  },
  {
   "cell_type": "markdown",
   "metadata": {
    "collapsed": true
   },
   "source": [
    "# Effective Rank\n",
    "\n",
    "### ByTime"
   ]
  },
  {
   "cell_type": "code",
   "execution_count": null,
   "metadata": {
    "scrolled": true
   },
   "outputs": [],
   "source": [
    "bulk_metrics.metric_mouse_bulk(dataDB, mc, ds, \"rank_effective\", 's', 'time', verbose=False,\n",
    "                               invervNames=['AVG'],\n",
    "                               minTrials=50, trialTypeNames='auto', exclQueryLst=exclQueryLst)"
   ]
  },
  {
   "cell_type": "code",
   "execution_count": null,
   "metadata": {
    "scrolled": true
   },
   "outputs": [],
   "source": [
    "bulk_metrics.plot_metric_bulk(ds, 'rank_effective', 'time', ylim=[1, None], verbose=False,\n",
    "                              xFunc=lambda m, l: dataDB.get_times()) # ylim=[1,48]"
   ]
  },
  {
   "cell_type": "markdown",
   "metadata": {},
   "source": [
    "### BySession"
   ]
  },
  {
   "cell_type": "code",
   "execution_count": 24,
   "metadata": {
    "scrolled": true
   },
   "outputs": [
    {
     "data": {
      "application/vnd.jupyter.widget-view+json": {
       "model_id": "73be56ec585d4b2b8db1b5b65a352561",
       "version_major": 2,
       "version_minor": 0
      },
      "text/plain": [
       "IntProgress(value=0, description='session', max=168)"
      ]
     },
     "metadata": {},
     "output_type": "display_data"
    },
    {
     "data": {
      "application/vnd.jupyter.widget-view+json": {
       "model_id": "bf9eb51600354f91b364f8a52996857e",
       "version_major": 2,
       "version_minor": 0
      },
      "text/plain": [
       "IntProgress(value=0, description='mou_7', max=36)"
      ]
     },
     "metadata": {},
     "output_type": "display_data"
    },
    {
     "data": {
      "application/vnd.jupyter.widget-view+json": {
       "model_id": "0cdd6a3b4be6487c8e8eecf965fd7e1b",
       "version_major": 2,
       "version_minor": 0
      },
      "text/plain": [
       "IntProgress(value=0, description='mou_7', max=36)"
      ]
     },
     "metadata": {},
     "output_type": "display_data"
    },
    {
     "data": {
      "application/vnd.jupyter.widget-view+json": {
       "model_id": "f6f99937299b4a65a8d0ad6538d89645",
       "version_major": 2,
       "version_minor": 0
      },
      "text/plain": [
       "IntProgress(value=0, description='mou_7', max=36)"
      ]
     },
     "metadata": {},
     "output_type": "display_data"
    },
    {
     "data": {
      "application/vnd.jupyter.widget-view+json": {
       "model_id": "32f52c9f21a54b14a18defab835f8331",
       "version_major": 2,
       "version_minor": 0
      },
      "text/plain": [
       "IntProgress(value=0, description='mou_7', max=36)"
      ]
     },
     "metadata": {},
     "output_type": "display_data"
    },
    {
     "data": {
      "application/vnd.jupyter.widget-view+json": {
       "model_id": "0f7f70d0ab8f4d02ad177022f26531c9",
       "version_major": 2,
       "version_minor": 0
      },
      "text/plain": [
       "IntProgress(value=0, description='mou_7', max=36)"
      ]
     },
     "metadata": {},
     "output_type": "display_data"
    },
    {
     "data": {
      "application/vnd.jupyter.widget-view+json": {
       "model_id": "eca8bf1228824863a57c48246b06aa8c",
       "version_major": 2,
       "version_minor": 0
      },
      "text/plain": [
       "IntProgress(value=0, description='mou_7', max=36)"
      ]
     },
     "metadata": {},
     "output_type": "display_data"
    },
    {
     "name": "stdout",
     "output_type": "stream",
     "text": [
      "Warning: skipping session with too few trials 29\n",
      "Warning: skipping session with too few trials 19\n",
      "Warning: skipping session with too few trials 19\n",
      "Warning: skipping session with too few trials 22\n",
      "Warning: skipping session with too few trials 9\n",
      "Warning: skipping session with too few trials 22\n",
      "Warning: skipping session with too few trials 20\n",
      "Warning: skipping session with too few trials 17\n",
      "Warning: skipping session with too few trials 29\n",
      "Warning: skipping session with too few trials 17\n",
      "Warning: skipping session with too few trials 19\n",
      "Warning: skipping session with too few trials 26\n",
      "Warning: skipping session with too few trials 15\n",
      "Warning: skipping session with too few trials 17\n",
      "Warning: skipping session with too few trials 18\n",
      "Warning: skipping session with too few trials 6\n",
      "Warning: skipping session with too few trials 22\n",
      "Warning: skipping session with too few trials 16\n",
      "Warning: skipping session with too few trials 9\n",
      "Warning: skipping session with too few trials 22\n"
     ]
    },
    {
     "data": {
      "application/vnd.jupyter.widget-view+json": {
       "model_id": "96d4bea3186547eca78a2e6c19ec70e3",
       "version_major": 2,
       "version_minor": 0
      },
      "text/plain": [
       "IntProgress(value=0, description='mou_7', max=36)"
      ]
     },
     "metadata": {},
     "output_type": "display_data"
    },
    {
     "name": "stdout",
     "output_type": "stream",
     "text": [
      "Warning: skipping session with too few trials 29\n",
      "Warning: skipping session with too few trials 19\n",
      "Warning: skipping session with too few trials 19\n",
      "Warning: skipping session with too few trials 22\n",
      "Warning: skipping session with too few trials 9\n",
      "Warning: skipping session with too few trials 22\n",
      "Warning: skipping session with too few trials 20\n",
      "Warning: skipping session with too few trials 17\n",
      "Warning: skipping session with too few trials 29\n",
      "Warning: skipping session with too few trials 17\n",
      "Warning: skipping session with too few trials 19\n",
      "Warning: skipping session with too few trials 26\n",
      "Warning: skipping session with too few trials 15\n",
      "Warning: skipping session with too few trials 17\n",
      "Warning: skipping session with too few trials 18\n",
      "Warning: skipping session with too few trials 6\n",
      "Warning: skipping session with too few trials 22\n",
      "Warning: skipping session with too few trials 16\n",
      "Warning: skipping session with too few trials 9\n",
      "Warning: skipping session with too few trials 22\n"
     ]
    },
    {
     "data": {
      "application/vnd.jupyter.widget-view+json": {
       "model_id": "5ef1516f4f0648f7bad8ae0a05ee0dd1",
       "version_major": 2,
       "version_minor": 0
      },
      "text/plain": [
       "IntProgress(value=0, description='mou_7', max=36)"
      ]
     },
     "metadata": {},
     "output_type": "display_data"
    },
    {
     "name": "stdout",
     "output_type": "stream",
     "text": [
      "Warning: skipping session with too few trials 29\n",
      "Warning: skipping session with too few trials 19\n",
      "Warning: skipping session with too few trials 19\n",
      "Warning: skipping session with too few trials 22\n",
      "Warning: skipping session with too few trials 9\n",
      "Warning: skipping session with too few trials 22\n",
      "Warning: skipping session with too few trials 20\n",
      "Warning: skipping session with too few trials 17\n",
      "Warning: skipping session with too few trials 29\n",
      "Warning: skipping session with too few trials 17\n",
      "Warning: skipping session with too few trials 19\n",
      "Warning: skipping session with too few trials 26\n",
      "Warning: skipping session with too few trials 15\n",
      "Warning: skipping session with too few trials 17\n",
      "Warning: skipping session with too few trials 18\n",
      "Warning: skipping session with too few trials 6\n",
      "Warning: skipping session with too few trials 22\n",
      "Warning: skipping session with too few trials 16\n",
      "Warning: skipping session with too few trials 9\n",
      "Warning: skipping session with too few trials 22\n"
     ]
    },
    {
     "data": {
      "application/vnd.jupyter.widget-view+json": {
       "model_id": "a54c58c6e6a34b0aa80d5a9c1c54dc29",
       "version_major": 2,
       "version_minor": 0
      },
      "text/plain": [
       "IntProgress(value=0, description='mou_7', max=36)"
      ]
     },
     "metadata": {},
     "output_type": "display_data"
    },
    {
     "name": "stdout",
     "output_type": "stream",
     "text": [
      "Warning: skipping session with too few trials 29\n",
      "Warning: skipping session with too few trials 19\n",
      "Warning: skipping session with too few trials 19\n",
      "Warning: skipping session with too few trials 22\n",
      "Warning: skipping session with too few trials 9\n",
      "Warning: skipping session with too few trials 22\n",
      "Warning: skipping session with too few trials 20\n",
      "Warning: skipping session with too few trials 17\n",
      "Warning: skipping session with too few trials 29\n",
      "Warning: skipping session with too few trials 17\n",
      "Warning: skipping session with too few trials 19\n",
      "Warning: skipping session with too few trials 26\n",
      "Warning: skipping session with too few trials 15\n",
      "Warning: skipping session with too few trials 17\n",
      "Warning: skipping session with too few trials 18\n",
      "Warning: skipping session with too few trials 6\n",
      "Warning: skipping session with too few trials 22\n",
      "Warning: skipping session with too few trials 16\n",
      "Warning: skipping session with too few trials 9\n",
      "Warning: skipping session with too few trials 22\n"
     ]
    },
    {
     "data": {
      "application/vnd.jupyter.widget-view+json": {
       "model_id": "19b754211d704820a6bf796de4d0ed47",
       "version_major": 2,
       "version_minor": 0
      },
      "text/plain": [
       "IntProgress(value=0, description='mou_7', max=36)"
      ]
     },
     "metadata": {},
     "output_type": "display_data"
    },
    {
     "name": "stdout",
     "output_type": "stream",
     "text": [
      "Warning: skipping session with too few trials 29\n",
      "Warning: skipping session with too few trials 19\n",
      "Warning: skipping session with too few trials 19\n",
      "Warning: skipping session with too few trials 22\n",
      "Warning: skipping session with too few trials 9\n",
      "Warning: skipping session with too few trials 22\n",
      "Warning: skipping session with too few trials 20\n",
      "Warning: skipping session with too few trials 17\n",
      "Warning: skipping session with too few trials 29\n",
      "Warning: skipping session with too few trials 17\n",
      "Warning: skipping session with too few trials 19\n",
      "Warning: skipping session with too few trials 26\n",
      "Warning: skipping session with too few trials 15\n",
      "Warning: skipping session with too few trials 17\n",
      "Warning: skipping session with too few trials 18\n",
      "Warning: skipping session with too few trials 6\n",
      "Warning: skipping session with too few trials 22\n",
      "Warning: skipping session with too few trials 16\n",
      "Warning: skipping session with too few trials 9\n",
      "Warning: skipping session with too few trials 22\n"
     ]
    },
    {
     "data": {
      "application/vnd.jupyter.widget-view+json": {
       "model_id": "5ebb7db3eb3148459fa98231cc8b518a",
       "version_major": 2,
       "version_minor": 0
      },
      "text/plain": [
       "IntProgress(value=0, description='mou_7', max=36)"
      ]
     },
     "metadata": {},
     "output_type": "display_data"
    },
    {
     "name": "stdout",
     "output_type": "stream",
     "text": [
      "Warning: skipping session with too few trials 26\n",
      "Warning: skipping session with too few trials 25\n",
      "Warning: skipping session with too few trials 23\n"
     ]
    },
    {
     "data": {
      "application/vnd.jupyter.widget-view+json": {
       "model_id": "798968801ad64aa0981dce262d1b27ca",
       "version_major": 2,
       "version_minor": 0
      },
      "text/plain": [
       "IntProgress(value=0, description='mou_7', max=36)"
      ]
     },
     "metadata": {},
     "output_type": "display_data"
    },
    {
     "name": "stdout",
     "output_type": "stream",
     "text": [
      "Warning: skipping session with too few trials 26\n",
      "Warning: skipping session with too few trials 25\n",
      "Warning: skipping session with too few trials 23\n"
     ]
    },
    {
     "data": {
      "application/vnd.jupyter.widget-view+json": {
       "model_id": "de9797c91133490e9d5ada27ba5e2a07",
       "version_major": 2,
       "version_minor": 0
      },
      "text/plain": [
       "IntProgress(value=0, description='mou_7', max=36)"
      ]
     },
     "metadata": {},
     "output_type": "display_data"
    },
    {
     "name": "stdout",
     "output_type": "stream",
     "text": [
      "Warning: skipping session with too few trials 26\n",
      "Warning: skipping session with too few trials 25\n",
      "Warning: skipping session with too few trials 23\n"
     ]
    },
    {
     "data": {
      "application/vnd.jupyter.widget-view+json": {
       "model_id": "84f849d02f0f437db15c16106cb1e579",
       "version_major": 2,
       "version_minor": 0
      },
      "text/plain": [
       "IntProgress(value=0, description='mou_7', max=36)"
      ]
     },
     "metadata": {},
     "output_type": "display_data"
    },
    {
     "name": "stdout",
     "output_type": "stream",
     "text": [
      "Warning: skipping session with too few trials 26\n",
      "Warning: skipping session with too few trials 25\n",
      "Warning: skipping session with too few trials 23\n"
     ]
    },
    {
     "data": {
      "application/vnd.jupyter.widget-view+json": {
       "model_id": "565953c3849b479aaa8526769740af84",
       "version_major": 2,
       "version_minor": 0
      },
      "text/plain": [
       "IntProgress(value=0, description='mou_7', max=36)"
      ]
     },
     "metadata": {},
     "output_type": "display_data"
    },
    {
     "name": "stdout",
     "output_type": "stream",
     "text": [
      "Warning: skipping session with too few trials 26\n",
      "Warning: skipping session with too few trials 25\n",
      "Warning: skipping session with too few trials 23\n"
     ]
    },
    {
     "data": {
      "application/vnd.jupyter.widget-view+json": {
       "model_id": "f8285484cfd84274a5c69890db064410",
       "version_major": 2,
       "version_minor": 0
      },
      "text/plain": [
       "IntProgress(value=0, description='mou_7', max=36)"
      ]
     },
     "metadata": {},
     "output_type": "display_data"
    },
    {
     "data": {
      "application/vnd.jupyter.widget-view+json": {
       "model_id": "da12d4cbaf4b4d9ebbece7b5729c6a00",
       "version_major": 2,
       "version_minor": 0
      },
      "text/plain": [
       "IntProgress(value=0, description='mou_7', max=36)"
      ]
     },
     "metadata": {},
     "output_type": "display_data"
    },
    {
     "data": {
      "application/vnd.jupyter.widget-view+json": {
       "model_id": "facbbba66f634a27839abc6c65327937",
       "version_major": 2,
       "version_minor": 0
      },
      "text/plain": [
       "IntProgress(value=0, description='mou_7', max=36)"
      ]
     },
     "metadata": {},
     "output_type": "display_data"
    },
    {
     "data": {
      "application/vnd.jupyter.widget-view+json": {
       "model_id": "611149f816f64813a9b79348e8799e3d",
       "version_major": 2,
       "version_minor": 0
      },
      "text/plain": [
       "IntProgress(value=0, description='mou_7', max=36)"
      ]
     },
     "metadata": {},
     "output_type": "display_data"
    },
    {
     "data": {
      "application/vnd.jupyter.widget-view+json": {
       "model_id": "4c1270a053594b5aad3f529cc1437abc",
       "version_major": 2,
       "version_minor": 0
      },
      "text/plain": [
       "IntProgress(value=0, description='mou_7', max=36)"
      ]
     },
     "metadata": {},
     "output_type": "display_data"
    },
    {
     "data": {
      "application/vnd.jupyter.widget-view+json": {
       "model_id": "1b180f7a45234e7dad50b9bc2cab7bab",
       "version_major": 2,
       "version_minor": 0
      },
      "text/plain": [
       "IntProgress(value=0, description='mou_7', max=36)"
      ]
     },
     "metadata": {},
     "output_type": "display_data"
    },
    {
     "name": "stdout",
     "output_type": "stream",
     "text": [
      "Warning: skipping session with too few trials 29\n",
      "Warning: skipping session with too few trials 19\n",
      "Warning: skipping session with too few trials 19\n",
      "Warning: skipping session with too few trials 22\n",
      "Warning: skipping session with too few trials 9\n",
      "Warning: skipping session with too few trials 22\n",
      "Warning: skipping session with too few trials 20\n",
      "Warning: skipping session with too few trials 17\n",
      "Warning: skipping session with too few trials 29\n",
      "Warning: skipping session with too few trials 17\n",
      "Warning: skipping session with too few trials 19\n",
      "Warning: skipping session with too few trials 26\n",
      "Warning: skipping session with too few trials 15\n",
      "Warning: skipping session with too few trials 17\n",
      "Warning: skipping session with too few trials 18\n",
      "Warning: skipping session with too few trials 6\n",
      "Warning: skipping session with too few trials 22\n",
      "Warning: skipping session with too few trials 16\n",
      "Warning: skipping session with too few trials 9\n",
      "Warning: skipping session with too few trials 22\n"
     ]
    },
    {
     "data": {
      "application/vnd.jupyter.widget-view+json": {
       "model_id": "8c6ba13127ee45ebbea77b0475c9e586",
       "version_major": 2,
       "version_minor": 0
      },
      "text/plain": [
       "IntProgress(value=0, description='mou_7', max=36)"
      ]
     },
     "metadata": {},
     "output_type": "display_data"
    },
    {
     "name": "stdout",
     "output_type": "stream",
     "text": [
      "Warning: skipping session with too few trials 29\n",
      "Warning: skipping session with too few trials 19\n",
      "Warning: skipping session with too few trials 19\n",
      "Warning: skipping session with too few trials 22\n",
      "Warning: skipping session with too few trials 9\n",
      "Warning: skipping session with too few trials 22\n",
      "Warning: skipping session with too few trials 20\n",
      "Warning: skipping session with too few trials 17\n",
      "Warning: skipping session with too few trials 29\n",
      "Warning: skipping session with too few trials 17\n",
      "Warning: skipping session with too few trials 19\n",
      "Warning: skipping session with too few trials 26\n",
      "Warning: skipping session with too few trials 15\n",
      "Warning: skipping session with too few trials 17\n",
      "Warning: skipping session with too few trials 18\n",
      "Warning: skipping session with too few trials 6\n",
      "Warning: skipping session with too few trials 22\n",
      "Warning: skipping session with too few trials 16\n",
      "Warning: skipping session with too few trials 9\n",
      "Warning: skipping session with too few trials 22\n"
     ]
    },
    {
     "data": {
      "application/vnd.jupyter.widget-view+json": {
       "model_id": "da99e3f76d4949929440f04d6c1b62ea",
       "version_major": 2,
       "version_minor": 0
      },
      "text/plain": [
       "IntProgress(value=0, description='mou_7', max=36)"
      ]
     },
     "metadata": {},
     "output_type": "display_data"
    },
    {
     "name": "stdout",
     "output_type": "stream",
     "text": [
      "Warning: skipping session with too few trials 29\n",
      "Warning: skipping session with too few trials 19\n",
      "Warning: skipping session with too few trials 19\n",
      "Warning: skipping session with too few trials 22\n",
      "Warning: skipping session with too few trials 9\n",
      "Warning: skipping session with too few trials 22\n",
      "Warning: skipping session with too few trials 20\n",
      "Warning: skipping session with too few trials 17\n",
      "Warning: skipping session with too few trials 29\n",
      "Warning: skipping session with too few trials 17\n",
      "Warning: skipping session with too few trials 19\n",
      "Warning: skipping session with too few trials 26\n",
      "Warning: skipping session with too few trials 15\n",
      "Warning: skipping session with too few trials 17\n",
      "Warning: skipping session with too few trials 18\n",
      "Warning: skipping session with too few trials 6\n",
      "Warning: skipping session with too few trials 22\n",
      "Warning: skipping session with too few trials 16\n",
      "Warning: skipping session with too few trials 9\n",
      "Warning: skipping session with too few trials 22\n"
     ]
    },
    {
     "data": {
      "application/vnd.jupyter.widget-view+json": {
       "model_id": "dc5c7ac02f914ae4adf631c00047b638",
       "version_major": 2,
       "version_minor": 0
      },
      "text/plain": [
       "IntProgress(value=0, description='mou_7', max=36)"
      ]
     },
     "metadata": {},
     "output_type": "display_data"
    },
    {
     "name": "stdout",
     "output_type": "stream",
     "text": [
      "Warning: skipping session with too few trials 29\n",
      "Warning: skipping session with too few trials 19\n",
      "Warning: skipping session with too few trials 19\n",
      "Warning: skipping session with too few trials 22\n",
      "Warning: skipping session with too few trials 9\n",
      "Warning: skipping session with too few trials 22\n",
      "Warning: skipping session with too few trials 20\n",
      "Warning: skipping session with too few trials 17\n",
      "Warning: skipping session with too few trials 29\n",
      "Warning: skipping session with too few trials 17\n",
      "Warning: skipping session with too few trials 19\n",
      "Warning: skipping session with too few trials 26\n",
      "Warning: skipping session with too few trials 15\n",
      "Warning: skipping session with too few trials 17\n",
      "Warning: skipping session with too few trials 18\n",
      "Warning: skipping session with too few trials 6\n",
      "Warning: skipping session with too few trials 22\n",
      "Warning: skipping session with too few trials 16\n",
      "Warning: skipping session with too few trials 9\n",
      "Warning: skipping session with too few trials 22\n"
     ]
    },
    {
     "data": {
      "application/vnd.jupyter.widget-view+json": {
       "model_id": "4a853291e3c6434dab1c4b820825c1cb",
       "version_major": 2,
       "version_minor": 0
      },
      "text/plain": [
       "IntProgress(value=0, description='mou_7', max=36)"
      ]
     },
     "metadata": {},
     "output_type": "display_data"
    },
    {
     "name": "stdout",
     "output_type": "stream",
     "text": [
      "Warning: skipping session with too few trials 29\n",
      "Warning: skipping session with too few trials 19\n",
      "Warning: skipping session with too few trials 19\n",
      "Warning: skipping session with too few trials 22\n",
      "Warning: skipping session with too few trials 9\n",
      "Warning: skipping session with too few trials 22\n",
      "Warning: skipping session with too few trials 20\n",
      "Warning: skipping session with too few trials 17\n",
      "Warning: skipping session with too few trials 29\n",
      "Warning: skipping session with too few trials 17\n",
      "Warning: skipping session with too few trials 19\n",
      "Warning: skipping session with too few trials 26\n",
      "Warning: skipping session with too few trials 15\n",
      "Warning: skipping session with too few trials 17\n",
      "Warning: skipping session with too few trials 18\n",
      "Warning: skipping session with too few trials 6\n",
      "Warning: skipping session with too few trials 22\n",
      "Warning: skipping session with too few trials 16\n",
      "Warning: skipping session with too few trials 9\n",
      "Warning: skipping session with too few trials 22\n"
     ]
    },
    {
     "data": {
      "application/vnd.jupyter.widget-view+json": {
       "model_id": "3e5e2076e3ca477a9047f59b93aa08ef",
       "version_major": 2,
       "version_minor": 0
      },
      "text/plain": [
       "IntProgress(value=0, description='mou_7', max=36)"
      ]
     },
     "metadata": {},
     "output_type": "display_data"
    },
    {
     "name": "stdout",
     "output_type": "stream",
     "text": [
      "Warning: skipping session with too few trials 26\n",
      "Warning: skipping session with too few trials 25\n",
      "Warning: skipping session with too few trials 23\n"
     ]
    },
    {
     "data": {
      "application/vnd.jupyter.widget-view+json": {
       "model_id": "ac41a72466254a4bb77647b754873c09",
       "version_major": 2,
       "version_minor": 0
      },
      "text/plain": [
       "IntProgress(value=0, description='mou_7', max=36)"
      ]
     },
     "metadata": {},
     "output_type": "display_data"
    },
    {
     "name": "stdout",
     "output_type": "stream",
     "text": [
      "Warning: skipping session with too few trials 26\n",
      "Warning: skipping session with too few trials 25\n",
      "Warning: skipping session with too few trials 23\n"
     ]
    },
    {
     "data": {
      "application/vnd.jupyter.widget-view+json": {
       "model_id": "3abb30d2bac6480cbace48f45e29207f",
       "version_major": 2,
       "version_minor": 0
      },
      "text/plain": [
       "IntProgress(value=0, description='mou_7', max=36)"
      ]
     },
     "metadata": {},
     "output_type": "display_data"
    },
    {
     "name": "stdout",
     "output_type": "stream",
     "text": [
      "Warning: skipping session with too few trials 26\n",
      "Warning: skipping session with too few trials 25\n",
      "Warning: skipping session with too few trials 23\n"
     ]
    },
    {
     "data": {
      "application/vnd.jupyter.widget-view+json": {
       "model_id": "fab08df2c47a4a7e92b1d1c4f37d0126",
       "version_major": 2,
       "version_minor": 0
      },
      "text/plain": [
       "IntProgress(value=0, description='mou_7', max=36)"
      ]
     },
     "metadata": {},
     "output_type": "display_data"
    },
    {
     "name": "stdout",
     "output_type": "stream",
     "text": [
      "Warning: skipping session with too few trials 26\n",
      "Warning: skipping session with too few trials 25\n",
      "Warning: skipping session with too few trials 23\n"
     ]
    },
    {
     "data": {
      "application/vnd.jupyter.widget-view+json": {
       "model_id": "8897f1209f464fcf9a08e2e2ba853573",
       "version_major": 2,
       "version_minor": 0
      },
      "text/plain": [
       "IntProgress(value=0, description='mou_7', max=36)"
      ]
     },
     "metadata": {},
     "output_type": "display_data"
    },
    {
     "name": "stdout",
     "output_type": "stream",
     "text": [
      "Warning: skipping session with too few trials 26\n",
      "Warning: skipping session with too few trials 25\n",
      "Warning: skipping session with too few trials 23\n"
     ]
    },
    {
     "data": {
      "application/vnd.jupyter.widget-view+json": {
       "model_id": "db4585a189d941568a9e7ef7eb10c5e2",
       "version_major": 2,
       "version_minor": 0
      },
      "text/plain": [
       "IntProgress(value=0, description='mou_7', max=36)"
      ]
     },
     "metadata": {},
     "output_type": "display_data"
    },
    {
     "data": {
      "application/vnd.jupyter.widget-view+json": {
       "model_id": "cb640792d55e4af29ba7607b7e62282d",
       "version_major": 2,
       "version_minor": 0
      },
      "text/plain": [
       "IntProgress(value=0, description='mou_7', max=36)"
      ]
     },
     "metadata": {},
     "output_type": "display_data"
    },
    {
     "data": {
      "application/vnd.jupyter.widget-view+json": {
       "model_id": "cf0da18b793b450ea7f2477c21d6a451",
       "version_major": 2,
       "version_minor": 0
      },
      "text/plain": [
       "IntProgress(value=0, description='mou_7', max=36)"
      ]
     },
     "metadata": {},
     "output_type": "display_data"
    },
    {
     "data": {
      "application/vnd.jupyter.widget-view+json": {
       "model_id": "4eb9f767205a482eb35c77149b7ee2ff",
       "version_major": 2,
       "version_minor": 0
      },
      "text/plain": [
       "IntProgress(value=0, description='mou_7', max=36)"
      ]
     },
     "metadata": {},
     "output_type": "display_data"
    },
    {
     "data": {
      "application/vnd.jupyter.widget-view+json": {
       "model_id": "6aeaf2f7ca2c432fa150f8c3b4095699",
       "version_major": 2,
       "version_minor": 0
      },
      "text/plain": [
       "IntProgress(value=0, description='mou_7', max=36)"
      ]
     },
     "metadata": {},
     "output_type": "display_data"
    },
    {
     "name": "stdout",
     "output_type": "stream",
     "text": [
      "Warning: skipping session with too few trials 29\n",
      "Warning: skipping session with too few trials 19\n",
      "Warning: skipping session with too few trials 19\n",
      "Warning: skipping session with too few trials 22\n",
      "Warning: skipping session with too few trials 9\n",
      "Warning: skipping session with too few trials 22\n",
      "Warning: skipping session with too few trials 20\n",
      "Warning: skipping session with too few trials 17\n",
      "Warning: skipping session with too few trials 29\n",
      "Warning: skipping session with too few trials 17\n",
      "Warning: skipping session with too few trials 19\n",
      "Warning: skipping session with too few trials 26\n",
      "Warning: skipping session with too few trials 15\n",
      "Warning: skipping session with too few trials 17\n",
      "Warning: skipping session with too few trials 18\n",
      "Warning: skipping session with too few trials 6\n",
      "Warning: skipping session with too few trials 22\n",
      "Warning: skipping session with too few trials 16\n",
      "Warning: skipping session with too few trials 9\n",
      "Warning: skipping session with too few trials 22\n"
     ]
    },
    {
     "data": {
      "application/vnd.jupyter.widget-view+json": {
       "model_id": "6d0ffd9748e84d7dbf120ef11e706ed6",
       "version_major": 2,
       "version_minor": 0
      },
      "text/plain": [
       "IntProgress(value=0, description='mou_7', max=36)"
      ]
     },
     "metadata": {},
     "output_type": "display_data"
    },
    {
     "name": "stdout",
     "output_type": "stream",
     "text": [
      "Warning: skipping session with too few trials 29\n",
      "Warning: skipping session with too few trials 19\n",
      "Warning: skipping session with too few trials 19\n",
      "Warning: skipping session with too few trials 22\n",
      "Warning: skipping session with too few trials 9\n",
      "Warning: skipping session with too few trials 22\n",
      "Warning: skipping session with too few trials 20\n",
      "Warning: skipping session with too few trials 17\n",
      "Warning: skipping session with too few trials 29\n",
      "Warning: skipping session with too few trials 17\n",
      "Warning: skipping session with too few trials 19\n",
      "Warning: skipping session with too few trials 26\n",
      "Warning: skipping session with too few trials 15\n",
      "Warning: skipping session with too few trials 17\n",
      "Warning: skipping session with too few trials 18\n",
      "Warning: skipping session with too few trials 6\n",
      "Warning: skipping session with too few trials 22\n",
      "Warning: skipping session with too few trials 16\n",
      "Warning: skipping session with too few trials 9\n",
      "Warning: skipping session with too few trials 22\n"
     ]
    },
    {
     "data": {
      "application/vnd.jupyter.widget-view+json": {
       "model_id": "30aa2fb8c71249c493f61eab94e0e802",
       "version_major": 2,
       "version_minor": 0
      },
      "text/plain": [
       "IntProgress(value=0, description='mou_7', max=36)"
      ]
     },
     "metadata": {},
     "output_type": "display_data"
    },
    {
     "name": "stdout",
     "output_type": "stream",
     "text": [
      "Warning: skipping session with too few trials 29\n",
      "Warning: skipping session with too few trials 19\n",
      "Warning: skipping session with too few trials 19\n",
      "Warning: skipping session with too few trials 22\n",
      "Warning: skipping session with too few trials 9\n",
      "Warning: skipping session with too few trials 22\n",
      "Warning: skipping session with too few trials 20\n",
      "Warning: skipping session with too few trials 17\n",
      "Warning: skipping session with too few trials 29\n",
      "Warning: skipping session with too few trials 17\n",
      "Warning: skipping session with too few trials 19\n",
      "Warning: skipping session with too few trials 26\n",
      "Warning: skipping session with too few trials 15\n",
      "Warning: skipping session with too few trials 17\n",
      "Warning: skipping session with too few trials 18\n",
      "Warning: skipping session with too few trials 6\n",
      "Warning: skipping session with too few trials 22\n",
      "Warning: skipping session with too few trials 16\n",
      "Warning: skipping session with too few trials 9\n",
      "Warning: skipping session with too few trials 22\n"
     ]
    },
    {
     "data": {
      "application/vnd.jupyter.widget-view+json": {
       "model_id": "a92a0ee084c640dfaa00c22b1ee6a8aa",
       "version_major": 2,
       "version_minor": 0
      },
      "text/plain": [
       "IntProgress(value=0, description='mou_7', max=36)"
      ]
     },
     "metadata": {},
     "output_type": "display_data"
    },
    {
     "name": "stdout",
     "output_type": "stream",
     "text": [
      "Warning: skipping session with too few trials 29\n",
      "Warning: skipping session with too few trials 19\n",
      "Warning: skipping session with too few trials 19\n",
      "Warning: skipping session with too few trials 22\n",
      "Warning: skipping session with too few trials 9\n",
      "Warning: skipping session with too few trials 22\n",
      "Warning: skipping session with too few trials 20\n",
      "Warning: skipping session with too few trials 17\n",
      "Warning: skipping session with too few trials 29\n",
      "Warning: skipping session with too few trials 17\n",
      "Warning: skipping session with too few trials 19\n",
      "Warning: skipping session with too few trials 26\n",
      "Warning: skipping session with too few trials 15\n",
      "Warning: skipping session with too few trials 17\n",
      "Warning: skipping session with too few trials 18\n",
      "Warning: skipping session with too few trials 6\n",
      "Warning: skipping session with too few trials 22\n",
      "Warning: skipping session with too few trials 16\n",
      "Warning: skipping session with too few trials 9\n",
      "Warning: skipping session with too few trials 22\n"
     ]
    },
    {
     "data": {
      "application/vnd.jupyter.widget-view+json": {
       "model_id": "e309850098c34c638e2d43e85b6569e0",
       "version_major": 2,
       "version_minor": 0
      },
      "text/plain": [
       "IntProgress(value=0, description='mou_7', max=36)"
      ]
     },
     "metadata": {},
     "output_type": "display_data"
    },
    {
     "name": "stdout",
     "output_type": "stream",
     "text": [
      "Warning: skipping session with too few trials 26\n",
      "Warning: skipping session with too few trials 25\n",
      "Warning: skipping session with too few trials 23\n"
     ]
    },
    {
     "data": {
      "application/vnd.jupyter.widget-view+json": {
       "model_id": "c8a870abcb264433a1befbbd8d498bcd",
       "version_major": 2,
       "version_minor": 0
      },
      "text/plain": [
       "IntProgress(value=0, description='mou_7', max=36)"
      ]
     },
     "metadata": {},
     "output_type": "display_data"
    },
    {
     "name": "stdout",
     "output_type": "stream",
     "text": [
      "Warning: skipping session with too few trials 26\n",
      "Warning: skipping session with too few trials 25\n",
      "Warning: skipping session with too few trials 23\n"
     ]
    },
    {
     "data": {
      "application/vnd.jupyter.widget-view+json": {
       "model_id": "3df09b33d73944418bd0667958d791ca",
       "version_major": 2,
       "version_minor": 0
      },
      "text/plain": [
       "IntProgress(value=0, description='mou_7', max=36)"
      ]
     },
     "metadata": {},
     "output_type": "display_data"
    },
    {
     "name": "stdout",
     "output_type": "stream",
     "text": [
      "Warning: skipping session with too few trials 26\n",
      "Warning: skipping session with too few trials 25\n",
      "Warning: skipping session with too few trials 23\n"
     ]
    },
    {
     "data": {
      "application/vnd.jupyter.widget-view+json": {
       "model_id": "9317a7f4769c4b4999205da4b6338887",
       "version_major": 2,
       "version_minor": 0
      },
      "text/plain": [
       "IntProgress(value=0, description='mou_7', max=36)"
      ]
     },
     "metadata": {},
     "output_type": "display_data"
    },
    {
     "name": "stdout",
     "output_type": "stream",
     "text": [
      "Warning: skipping session with too few trials 26\n",
      "Warning: skipping session with too few trials 25\n",
      "Warning: skipping session with too few trials 23\n"
     ]
    },
    {
     "data": {
      "application/vnd.jupyter.widget-view+json": {
       "model_id": "0ec7aa0c6731441cb1c14a56d77a813e",
       "version_major": 2,
       "version_minor": 0
      },
      "text/plain": [
       "IntProgress(value=0, description='mou_5', max=21)"
      ]
     },
     "metadata": {},
     "output_type": "display_data"
    },
    {
     "data": {
      "application/vnd.jupyter.widget-view+json": {
       "model_id": "ecadf18826104102bebb560fde681d86",
       "version_major": 2,
       "version_minor": 0
      },
      "text/plain": [
       "IntProgress(value=0, description='mou_5', max=21)"
      ]
     },
     "metadata": {},
     "output_type": "display_data"
    },
    {
     "data": {
      "application/vnd.jupyter.widget-view+json": {
       "model_id": "1d1d8f9ce61149db927afe21a4c45af6",
       "version_major": 2,
       "version_minor": 0
      },
      "text/plain": [
       "IntProgress(value=0, description='mou_5', max=21)"
      ]
     },
     "metadata": {},
     "output_type": "display_data"
    },
    {
     "data": {
      "application/vnd.jupyter.widget-view+json": {
       "model_id": "47c4bd5b8c1e4bc18c3cd9a38ab1b519",
       "version_major": 2,
       "version_minor": 0
      },
      "text/plain": [
       "IntProgress(value=0, description='mou_5', max=21)"
      ]
     },
     "metadata": {},
     "output_type": "display_data"
    },
    {
     "data": {
      "application/vnd.jupyter.widget-view+json": {
       "model_id": "78efc5538d284b8e9e6441b19d140f5c",
       "version_major": 2,
       "version_minor": 0
      },
      "text/plain": [
       "IntProgress(value=0, description='mou_5', max=21)"
      ]
     },
     "metadata": {},
     "output_type": "display_data"
    },
    {
     "data": {
      "application/vnd.jupyter.widget-view+json": {
       "model_id": "07982d9ec82b4e14877d3f03ad258cd8",
       "version_major": 2,
       "version_minor": 0
      },
      "text/plain": [
       "IntProgress(value=0, description='mou_5', max=21)"
      ]
     },
     "metadata": {},
     "output_type": "display_data"
    },
    {
     "name": "stdout",
     "output_type": "stream",
     "text": [
      "Warning: skipping session with too few trials 19\n",
      "Warning: skipping session with too few trials 18\n",
      "Warning: skipping session with too few trials 21\n",
      "Warning: skipping session with too few trials 20\n",
      "Warning: skipping session with too few trials 24\n",
      "Warning: skipping session with too few trials 26\n",
      "Warning: skipping session with too few trials 16\n",
      "Warning: skipping session with too few trials 26\n",
      "Warning: skipping session with too few trials 24\n",
      "Warning: skipping session with too few trials 19\n",
      "Warning: skipping session with too few trials 16\n",
      "Warning: skipping session with too few trials 21\n",
      "Warning: skipping session with too few trials 23\n",
      "Warning: skipping session with too few trials 25\n",
      "Warning: skipping session with too few trials 23\n",
      "Warning: skipping session with too few trials 16\n",
      "Warning: skipping session with too few trials 23\n"
     ]
    },
    {
     "data": {
      "application/vnd.jupyter.widget-view+json": {
       "model_id": "b8feb20457d54d2ab0013152936a95cc",
       "version_major": 2,
       "version_minor": 0
      },
      "text/plain": [
       "IntProgress(value=0, description='mou_5', max=21)"
      ]
     },
     "metadata": {},
     "output_type": "display_data"
    },
    {
     "name": "stdout",
     "output_type": "stream",
     "text": [
      "Warning: skipping session with too few trials 19\n",
      "Warning: skipping session with too few trials 18\n",
      "Warning: skipping session with too few trials 21\n",
      "Warning: skipping session with too few trials 20\n",
      "Warning: skipping session with too few trials 24\n",
      "Warning: skipping session with too few trials 26\n",
      "Warning: skipping session with too few trials 16\n",
      "Warning: skipping session with too few trials 26\n",
      "Warning: skipping session with too few trials 24\n",
      "Warning: skipping session with too few trials 19\n",
      "Warning: skipping session with too few trials 16\n",
      "Warning: skipping session with too few trials 21\n",
      "Warning: skipping session with too few trials 23\n",
      "Warning: skipping session with too few trials 25\n",
      "Warning: skipping session with too few trials 23\n",
      "Warning: skipping session with too few trials 16\n",
      "Warning: skipping session with too few trials 23\n"
     ]
    },
    {
     "data": {
      "application/vnd.jupyter.widget-view+json": {
       "model_id": "35838162f07445e3ba46a62653aac286",
       "version_major": 2,
       "version_minor": 0
      },
      "text/plain": [
       "IntProgress(value=0, description='mou_5', max=21)"
      ]
     },
     "metadata": {},
     "output_type": "display_data"
    },
    {
     "name": "stdout",
     "output_type": "stream",
     "text": [
      "Warning: skipping session with too few trials 19\n",
      "Warning: skipping session with too few trials 18\n",
      "Warning: skipping session with too few trials 21\n",
      "Warning: skipping session with too few trials 20\n",
      "Warning: skipping session with too few trials 24\n",
      "Warning: skipping session with too few trials 26\n",
      "Warning: skipping session with too few trials 16\n",
      "Warning: skipping session with too few trials 26\n",
      "Warning: skipping session with too few trials 24\n",
      "Warning: skipping session with too few trials 19\n",
      "Warning: skipping session with too few trials 16\n",
      "Warning: skipping session with too few trials 21\n",
      "Warning: skipping session with too few trials 23\n",
      "Warning: skipping session with too few trials 25\n",
      "Warning: skipping session with too few trials 23\n",
      "Warning: skipping session with too few trials 16\n",
      "Warning: skipping session with too few trials 23\n"
     ]
    },
    {
     "data": {
      "application/vnd.jupyter.widget-view+json": {
       "model_id": "3acc367fedd84730b94037739709c32a",
       "version_major": 2,
       "version_minor": 0
      },
      "text/plain": [
       "IntProgress(value=0, description='mou_5', max=21)"
      ]
     },
     "metadata": {},
     "output_type": "display_data"
    },
    {
     "name": "stdout",
     "output_type": "stream",
     "text": [
      "Warning: skipping session with too few trials 19\n",
      "Warning: skipping session with too few trials 18\n",
      "Warning: skipping session with too few trials 21\n",
      "Warning: skipping session with too few trials 20\n",
      "Warning: skipping session with too few trials 24\n",
      "Warning: skipping session with too few trials 26\n",
      "Warning: skipping session with too few trials 16\n",
      "Warning: skipping session with too few trials 26\n",
      "Warning: skipping session with too few trials 24\n",
      "Warning: skipping session with too few trials 19\n",
      "Warning: skipping session with too few trials 16\n",
      "Warning: skipping session with too few trials 21\n",
      "Warning: skipping session with too few trials 23\n",
      "Warning: skipping session with too few trials 25\n",
      "Warning: skipping session with too few trials 23\n",
      "Warning: skipping session with too few trials 16\n",
      "Warning: skipping session with too few trials 23\n"
     ]
    },
    {
     "data": {
      "application/vnd.jupyter.widget-view+json": {
       "model_id": "f4d809afd16c4b91b2d25d9c1073ca74",
       "version_major": 2,
       "version_minor": 0
      },
      "text/plain": [
       "IntProgress(value=0, description='mou_5', max=21)"
      ]
     },
     "metadata": {},
     "output_type": "display_data"
    },
    {
     "name": "stdout",
     "output_type": "stream",
     "text": [
      "Warning: skipping session with too few trials 19\n",
      "Warning: skipping session with too few trials 18\n",
      "Warning: skipping session with too few trials 21\n",
      "Warning: skipping session with too few trials 20\n",
      "Warning: skipping session with too few trials 24\n",
      "Warning: skipping session with too few trials 26\n",
      "Warning: skipping session with too few trials 16\n",
      "Warning: skipping session with too few trials 26\n",
      "Warning: skipping session with too few trials 24\n",
      "Warning: skipping session with too few trials 19\n",
      "Warning: skipping session with too few trials 16\n",
      "Warning: skipping session with too few trials 21\n",
      "Warning: skipping session with too few trials 23\n",
      "Warning: skipping session with too few trials 25\n",
      "Warning: skipping session with too few trials 23\n",
      "Warning: skipping session with too few trials 16\n",
      "Warning: skipping session with too few trials 23\n"
     ]
    },
    {
     "data": {
      "application/vnd.jupyter.widget-view+json": {
       "model_id": "132454108a3a409e870220c91625dbe8",
       "version_major": 2,
       "version_minor": 0
      },
      "text/plain": [
       "IntProgress(value=0, description='mou_5', max=21)"
      ]
     },
     "metadata": {},
     "output_type": "display_data"
    },
    {
     "data": {
      "application/vnd.jupyter.widget-view+json": {
       "model_id": "1104f24349c74262bf8fd629461abcbe",
       "version_major": 2,
       "version_minor": 0
      },
      "text/plain": [
       "IntProgress(value=0, description='mou_5', max=21)"
      ]
     },
     "metadata": {},
     "output_type": "display_data"
    },
    {
     "data": {
      "application/vnd.jupyter.widget-view+json": {
       "model_id": "628bf3e9acf2453c822545e71ad39ef9",
       "version_major": 2,
       "version_minor": 0
      },
      "text/plain": [
       "IntProgress(value=0, description='mou_5', max=21)"
      ]
     },
     "metadata": {},
     "output_type": "display_data"
    },
    {
     "data": {
      "application/vnd.jupyter.widget-view+json": {
       "model_id": "ca54041194fc4af280c6d2d480f5ceb9",
       "version_major": 2,
       "version_minor": 0
      },
      "text/plain": [
       "IntProgress(value=0, description='mou_5', max=21)"
      ]
     },
     "metadata": {},
     "output_type": "display_data"
    },
    {
     "data": {
      "application/vnd.jupyter.widget-view+json": {
       "model_id": "893eb48170b8467998c9c6e51a381ca8",
       "version_major": 2,
       "version_minor": 0
      },
      "text/plain": [
       "IntProgress(value=0, description='mou_5', max=21)"
      ]
     },
     "metadata": {},
     "output_type": "display_data"
    },
    {
     "data": {
      "application/vnd.jupyter.widget-view+json": {
       "model_id": "a519f0d83cae45b19466697b7141bb80",
       "version_major": 2,
       "version_minor": 0
      },
      "text/plain": [
       "IntProgress(value=0, description='mou_5', max=21)"
      ]
     },
     "metadata": {},
     "output_type": "display_data"
    },
    {
     "data": {
      "application/vnd.jupyter.widget-view+json": {
       "model_id": "7d1fa8598b1545a286921ce4cfc58738",
       "version_major": 2,
       "version_minor": 0
      },
      "text/plain": [
       "IntProgress(value=0, description='mou_5', max=21)"
      ]
     },
     "metadata": {},
     "output_type": "display_data"
    },
    {
     "data": {
      "application/vnd.jupyter.widget-view+json": {
       "model_id": "172a792e806e4813a1e75b5103d1b225",
       "version_major": 2,
       "version_minor": 0
      },
      "text/plain": [
       "IntProgress(value=0, description='mou_5', max=21)"
      ]
     },
     "metadata": {},
     "output_type": "display_data"
    },
    {
     "data": {
      "application/vnd.jupyter.widget-view+json": {
       "model_id": "ff0ef0cdc998418e9bff2444f60acb5a",
       "version_major": 2,
       "version_minor": 0
      },
      "text/plain": [
       "IntProgress(value=0, description='mou_5', max=21)"
      ]
     },
     "metadata": {},
     "output_type": "display_data"
    },
    {
     "data": {
      "application/vnd.jupyter.widget-view+json": {
       "model_id": "aa0c2f5c0338498ab70d217da82ab8ab",
       "version_major": 2,
       "version_minor": 0
      },
      "text/plain": [
       "IntProgress(value=0, description='mou_5', max=21)"
      ]
     },
     "metadata": {},
     "output_type": "display_data"
    },
    {
     "data": {
      "application/vnd.jupyter.widget-view+json": {
       "model_id": "4f90ee23b152427fbd6beca2ca273f67",
       "version_major": 2,
       "version_minor": 0
      },
      "text/plain": [
       "IntProgress(value=0, description='mou_5', max=21)"
      ]
     },
     "metadata": {},
     "output_type": "display_data"
    },
    {
     "name": "stdout",
     "output_type": "stream",
     "text": [
      "Warning: skipping session with too few trials 19\n",
      "Warning: skipping session with too few trials 18\n",
      "Warning: skipping session with too few trials 21\n",
      "Warning: skipping session with too few trials 20\n",
      "Warning: skipping session with too few trials 24\n",
      "Warning: skipping session with too few trials 26\n",
      "Warning: skipping session with too few trials 16\n",
      "Warning: skipping session with too few trials 26\n",
      "Warning: skipping session with too few trials 24\n",
      "Warning: skipping session with too few trials 19\n",
      "Warning: skipping session with too few trials 16\n",
      "Warning: skipping session with too few trials 21\n",
      "Warning: skipping session with too few trials 23\n",
      "Warning: skipping session with too few trials 25\n",
      "Warning: skipping session with too few trials 23\n",
      "Warning: skipping session with too few trials 16\n",
      "Warning: skipping session with too few trials 23\n"
     ]
    },
    {
     "data": {
      "application/vnd.jupyter.widget-view+json": {
       "model_id": "342ad5606d974883be26eb051cfa7177",
       "version_major": 2,
       "version_minor": 0
      },
      "text/plain": [
       "IntProgress(value=0, description='mou_5', max=21)"
      ]
     },
     "metadata": {},
     "output_type": "display_data"
    },
    {
     "name": "stdout",
     "output_type": "stream",
     "text": [
      "Warning: skipping session with too few trials 19\n",
      "Warning: skipping session with too few trials 18\n",
      "Warning: skipping session with too few trials 21\n",
      "Warning: skipping session with too few trials 20\n",
      "Warning: skipping session with too few trials 24\n",
      "Warning: skipping session with too few trials 26\n",
      "Warning: skipping session with too few trials 16\n",
      "Warning: skipping session with too few trials 26\n",
      "Warning: skipping session with too few trials 24\n",
      "Warning: skipping session with too few trials 19\n",
      "Warning: skipping session with too few trials 16\n",
      "Warning: skipping session with too few trials 21\n",
      "Warning: skipping session with too few trials 23\n",
      "Warning: skipping session with too few trials 25\n",
      "Warning: skipping session with too few trials 23\n",
      "Warning: skipping session with too few trials 16\n",
      "Warning: skipping session with too few trials 23\n"
     ]
    },
    {
     "data": {
      "application/vnd.jupyter.widget-view+json": {
       "model_id": "a320df7aeaa749929c46e2b1bc9c7029",
       "version_major": 2,
       "version_minor": 0
      },
      "text/plain": [
       "IntProgress(value=0, description='mou_5', max=21)"
      ]
     },
     "metadata": {},
     "output_type": "display_data"
    },
    {
     "name": "stdout",
     "output_type": "stream",
     "text": [
      "Warning: skipping session with too few trials 19\n",
      "Warning: skipping session with too few trials 18\n",
      "Warning: skipping session with too few trials 21\n",
      "Warning: skipping session with too few trials 20\n",
      "Warning: skipping session with too few trials 24\n",
      "Warning: skipping session with too few trials 26\n",
      "Warning: skipping session with too few trials 16\n",
      "Warning: skipping session with too few trials 26\n",
      "Warning: skipping session with too few trials 24\n",
      "Warning: skipping session with too few trials 19\n",
      "Warning: skipping session with too few trials 16\n",
      "Warning: skipping session with too few trials 21\n",
      "Warning: skipping session with too few trials 23\n",
      "Warning: skipping session with too few trials 25\n",
      "Warning: skipping session with too few trials 23\n",
      "Warning: skipping session with too few trials 16\n",
      "Warning: skipping session with too few trials 23\n"
     ]
    },
    {
     "data": {
      "application/vnd.jupyter.widget-view+json": {
       "model_id": "a2e7fa5fe04a4534a03c119153879c72",
       "version_major": 2,
       "version_minor": 0
      },
      "text/plain": [
       "IntProgress(value=0, description='mou_5', max=21)"
      ]
     },
     "metadata": {},
     "output_type": "display_data"
    },
    {
     "name": "stdout",
     "output_type": "stream",
     "text": [
      "Warning: skipping session with too few trials 19\n",
      "Warning: skipping session with too few trials 18\n",
      "Warning: skipping session with too few trials 21\n",
      "Warning: skipping session with too few trials 20\n",
      "Warning: skipping session with too few trials 24\n",
      "Warning: skipping session with too few trials 26\n",
      "Warning: skipping session with too few trials 16\n",
      "Warning: skipping session with too few trials 26\n",
      "Warning: skipping session with too few trials 24\n",
      "Warning: skipping session with too few trials 19\n",
      "Warning: skipping session with too few trials 16\n",
      "Warning: skipping session with too few trials 21\n",
      "Warning: skipping session with too few trials 23\n",
      "Warning: skipping session with too few trials 25\n",
      "Warning: skipping session with too few trials 23\n",
      "Warning: skipping session with too few trials 16\n",
      "Warning: skipping session with too few trials 23\n"
     ]
    },
    {
     "data": {
      "application/vnd.jupyter.widget-view+json": {
       "model_id": "918c690278e74af28b8ca51fc7ea0006",
       "version_major": 2,
       "version_minor": 0
      },
      "text/plain": [
       "IntProgress(value=0, description='mou_5', max=21)"
      ]
     },
     "metadata": {},
     "output_type": "display_data"
    },
    {
     "name": "stdout",
     "output_type": "stream",
     "text": [
      "Warning: skipping session with too few trials 19\n",
      "Warning: skipping session with too few trials 18\n",
      "Warning: skipping session with too few trials 21\n",
      "Warning: skipping session with too few trials 20\n",
      "Warning: skipping session with too few trials 24\n",
      "Warning: skipping session with too few trials 26\n",
      "Warning: skipping session with too few trials 16\n",
      "Warning: skipping session with too few trials 26\n",
      "Warning: skipping session with too few trials 24\n",
      "Warning: skipping session with too few trials 19\n",
      "Warning: skipping session with too few trials 16\n",
      "Warning: skipping session with too few trials 21\n",
      "Warning: skipping session with too few trials 23\n",
      "Warning: skipping session with too few trials 25\n",
      "Warning: skipping session with too few trials 23\n",
      "Warning: skipping session with too few trials 16\n",
      "Warning: skipping session with too few trials 23\n"
     ]
    },
    {
     "data": {
      "application/vnd.jupyter.widget-view+json": {
       "model_id": "2449a91118104079ab5ec948ad81cb85",
       "version_major": 2,
       "version_minor": 0
      },
      "text/plain": [
       "IntProgress(value=0, description='mou_5', max=21)"
      ]
     },
     "metadata": {},
     "output_type": "display_data"
    },
    {
     "data": {
      "application/vnd.jupyter.widget-view+json": {
       "model_id": "43db684ee46043749d53e35ec8752574",
       "version_major": 2,
       "version_minor": 0
      },
      "text/plain": [
       "IntProgress(value=0, description='mou_5', max=21)"
      ]
     },
     "metadata": {},
     "output_type": "display_data"
    },
    {
     "data": {
      "application/vnd.jupyter.widget-view+json": {
       "model_id": "d2b8c5f7a75f4277b281f1d97c481508",
       "version_major": 2,
       "version_minor": 0
      },
      "text/plain": [
       "IntProgress(value=0, description='mou_5', max=21)"
      ]
     },
     "metadata": {},
     "output_type": "display_data"
    },
    {
     "data": {
      "application/vnd.jupyter.widget-view+json": {
       "model_id": "e0266cdac89d4d9bb95a0180acf74ba3",
       "version_major": 2,
       "version_minor": 0
      },
      "text/plain": [
       "IntProgress(value=0, description='mou_5', max=21)"
      ]
     },
     "metadata": {},
     "output_type": "display_data"
    },
    {
     "data": {
      "application/vnd.jupyter.widget-view+json": {
       "model_id": "e032ae4d36e74d619dde13d9e41308bb",
       "version_major": 2,
       "version_minor": 0
      },
      "text/plain": [
       "IntProgress(value=0, description='mou_5', max=21)"
      ]
     },
     "metadata": {},
     "output_type": "display_data"
    },
    {
     "data": {
      "application/vnd.jupyter.widget-view+json": {
       "model_id": "612cb776012145b4ac453ccde18220c3",
       "version_major": 2,
       "version_minor": 0
      },
      "text/plain": [
       "IntProgress(value=0, description='mou_5', max=21)"
      ]
     },
     "metadata": {},
     "output_type": "display_data"
    },
    {
     "data": {
      "application/vnd.jupyter.widget-view+json": {
       "model_id": "d6f2620caab648fc84b55db55b16deb4",
       "version_major": 2,
       "version_minor": 0
      },
      "text/plain": [
       "IntProgress(value=0, description='mou_5', max=21)"
      ]
     },
     "metadata": {},
     "output_type": "display_data"
    },
    {
     "data": {
      "application/vnd.jupyter.widget-view+json": {
       "model_id": "f67d147e371b43ac8eea9d86fc267475",
       "version_major": 2,
       "version_minor": 0
      },
      "text/plain": [
       "IntProgress(value=0, description='mou_5', max=21)"
      ]
     },
     "metadata": {},
     "output_type": "display_data"
    },
    {
     "data": {
      "application/vnd.jupyter.widget-view+json": {
       "model_id": "48a646a6196940358d5b28d9abd088b4",
       "version_major": 2,
       "version_minor": 0
      },
      "text/plain": [
       "IntProgress(value=0, description='mou_5', max=21)"
      ]
     },
     "metadata": {},
     "output_type": "display_data"
    },
    {
     "data": {
      "application/vnd.jupyter.widget-view+json": {
       "model_id": "9d18d9f3c4584cf08c3d2b4f3d364237",
       "version_major": 2,
       "version_minor": 0
      },
      "text/plain": [
       "IntProgress(value=0, description='mou_5', max=21)"
      ]
     },
     "metadata": {},
     "output_type": "display_data"
    },
    {
     "name": "stdout",
     "output_type": "stream",
     "text": [
      "Warning: skipping session with too few trials 19\n",
      "Warning: skipping session with too few trials 18\n",
      "Warning: skipping session with too few trials 21\n",
      "Warning: skipping session with too few trials 20\n",
      "Warning: skipping session with too few trials 24\n",
      "Warning: skipping session with too few trials 26\n",
      "Warning: skipping session with too few trials 16\n",
      "Warning: skipping session with too few trials 26\n",
      "Warning: skipping session with too few trials 24\n",
      "Warning: skipping session with too few trials 19\n",
      "Warning: skipping session with too few trials 16\n",
      "Warning: skipping session with too few trials 21\n",
      "Warning: skipping session with too few trials 23\n",
      "Warning: skipping session with too few trials 25\n",
      "Warning: skipping session with too few trials 23\n",
      "Warning: skipping session with too few trials 16\n",
      "Warning: skipping session with too few trials 23\n"
     ]
    },
    {
     "data": {
      "application/vnd.jupyter.widget-view+json": {
       "model_id": "1f3efac20c774f40a5ab60e3cf520e3a",
       "version_major": 2,
       "version_minor": 0
      },
      "text/plain": [
       "IntProgress(value=0, description='mou_5', max=21)"
      ]
     },
     "metadata": {},
     "output_type": "display_data"
    },
    {
     "name": "stdout",
     "output_type": "stream",
     "text": [
      "Warning: skipping session with too few trials 19\n",
      "Warning: skipping session with too few trials 18\n",
      "Warning: skipping session with too few trials 21\n",
      "Warning: skipping session with too few trials 20\n",
      "Warning: skipping session with too few trials 24\n",
      "Warning: skipping session with too few trials 26\n",
      "Warning: skipping session with too few trials 16\n",
      "Warning: skipping session with too few trials 26\n",
      "Warning: skipping session with too few trials 24\n",
      "Warning: skipping session with too few trials 19\n",
      "Warning: skipping session with too few trials 16\n",
      "Warning: skipping session with too few trials 21\n",
      "Warning: skipping session with too few trials 23\n",
      "Warning: skipping session with too few trials 25\n",
      "Warning: skipping session with too few trials 23\n",
      "Warning: skipping session with too few trials 16\n",
      "Warning: skipping session with too few trials 23\n"
     ]
    },
    {
     "data": {
      "application/vnd.jupyter.widget-view+json": {
       "model_id": "88c80b3f108042c18a1960c2950f41d0",
       "version_major": 2,
       "version_minor": 0
      },
      "text/plain": [
       "IntProgress(value=0, description='mou_5', max=21)"
      ]
     },
     "metadata": {},
     "output_type": "display_data"
    },
    {
     "name": "stdout",
     "output_type": "stream",
     "text": [
      "Warning: skipping session with too few trials 19\n",
      "Warning: skipping session with too few trials 18\n",
      "Warning: skipping session with too few trials 21\n",
      "Warning: skipping session with too few trials 20\n",
      "Warning: skipping session with too few trials 24\n",
      "Warning: skipping session with too few trials 26\n",
      "Warning: skipping session with too few trials 16\n",
      "Warning: skipping session with too few trials 26\n",
      "Warning: skipping session with too few trials 24\n",
      "Warning: skipping session with too few trials 19\n",
      "Warning: skipping session with too few trials 16\n",
      "Warning: skipping session with too few trials 21\n",
      "Warning: skipping session with too few trials 23\n",
      "Warning: skipping session with too few trials 25\n",
      "Warning: skipping session with too few trials 23\n",
      "Warning: skipping session with too few trials 16\n",
      "Warning: skipping session with too few trials 23\n"
     ]
    },
    {
     "data": {
      "application/vnd.jupyter.widget-view+json": {
       "model_id": "5f51a2a4518f4c4b80a1f7980cc2f9b3",
       "version_major": 2,
       "version_minor": 0
      },
      "text/plain": [
       "IntProgress(value=0, description='mou_5', max=21)"
      ]
     },
     "metadata": {},
     "output_type": "display_data"
    },
    {
     "name": "stdout",
     "output_type": "stream",
     "text": [
      "Warning: skipping session with too few trials 19\n",
      "Warning: skipping session with too few trials 18\n",
      "Warning: skipping session with too few trials 21\n",
      "Warning: skipping session with too few trials 20\n",
      "Warning: skipping session with too few trials 24\n",
      "Warning: skipping session with too few trials 26\n",
      "Warning: skipping session with too few trials 16\n",
      "Warning: skipping session with too few trials 26\n",
      "Warning: skipping session with too few trials 24\n",
      "Warning: skipping session with too few trials 19\n",
      "Warning: skipping session with too few trials 16\n",
      "Warning: skipping session with too few trials 21\n",
      "Warning: skipping session with too few trials 23\n",
      "Warning: skipping session with too few trials 25\n",
      "Warning: skipping session with too few trials 23\n",
      "Warning: skipping session with too few trials 16\n",
      "Warning: skipping session with too few trials 23\n"
     ]
    },
    {
     "data": {
      "application/vnd.jupyter.widget-view+json": {
       "model_id": "8138bfe97a184d8d89dcb0e934c81d5d",
       "version_major": 2,
       "version_minor": 0
      },
      "text/plain": [
       "IntProgress(value=0, description='mou_5', max=21)"
      ]
     },
     "metadata": {},
     "output_type": "display_data"
    },
    {
     "data": {
      "application/vnd.jupyter.widget-view+json": {
       "model_id": "19e6d1e37c324cf5919ee587934eb3e9",
       "version_major": 2,
       "version_minor": 0
      },
      "text/plain": [
       "IntProgress(value=0, description='mou_5', max=21)"
      ]
     },
     "metadata": {},
     "output_type": "display_data"
    },
    {
     "data": {
      "application/vnd.jupyter.widget-view+json": {
       "model_id": "b225090417ca4c3196f1f69d61ccf5e9",
       "version_major": 2,
       "version_minor": 0
      },
      "text/plain": [
       "IntProgress(value=0, description='mou_5', max=21)"
      ]
     },
     "metadata": {},
     "output_type": "display_data"
    },
    {
     "data": {
      "application/vnd.jupyter.widget-view+json": {
       "model_id": "498171e2b11a46649f25e1d65e416c0a",
       "version_major": 2,
       "version_minor": 0
      },
      "text/plain": [
       "IntProgress(value=0, description='mou_5', max=21)"
      ]
     },
     "metadata": {},
     "output_type": "display_data"
    },
    {
     "data": {
      "application/vnd.jupyter.widget-view+json": {
       "model_id": "b7fe061497244eb9a381a314f5240747",
       "version_major": 2,
       "version_minor": 0
      },
      "text/plain": [
       "IntProgress(value=0, description='mou_9', max=20)"
      ]
     },
     "metadata": {},
     "output_type": "display_data"
    },
    {
     "data": {
      "application/vnd.jupyter.widget-view+json": {
       "model_id": "6af4d6eb732045eab20641f2b6c0118f",
       "version_major": 2,
       "version_minor": 0
      },
      "text/plain": [
       "IntProgress(value=0, description='mou_9', max=20)"
      ]
     },
     "metadata": {},
     "output_type": "display_data"
    },
    {
     "data": {
      "application/vnd.jupyter.widget-view+json": {
       "model_id": "0e4d854a867d438284537a66355c20b4",
       "version_major": 2,
       "version_minor": 0
      },
      "text/plain": [
       "IntProgress(value=0, description='mou_9', max=20)"
      ]
     },
     "metadata": {},
     "output_type": "display_data"
    },
    {
     "data": {
      "application/vnd.jupyter.widget-view+json": {
       "model_id": "32cdf80a758f492ea5ac5d9f0be86e1c",
       "version_major": 2,
       "version_minor": 0
      },
      "text/plain": [
       "IntProgress(value=0, description='mou_9', max=20)"
      ]
     },
     "metadata": {},
     "output_type": "display_data"
    },
    {
     "data": {
      "application/vnd.jupyter.widget-view+json": {
       "model_id": "8a52771e2b8e4ffdb9d025f709b3a2eb",
       "version_major": 2,
       "version_minor": 0
      },
      "text/plain": [
       "IntProgress(value=0, description='mou_9', max=20)"
      ]
     },
     "metadata": {},
     "output_type": "display_data"
    },
    {
     "data": {
      "application/vnd.jupyter.widget-view+json": {
       "model_id": "0a947a096597436babbacc00e0d6263a",
       "version_major": 2,
       "version_minor": 0
      },
      "text/plain": [
       "IntProgress(value=0, description='mou_9', max=20)"
      ]
     },
     "metadata": {},
     "output_type": "display_data"
    },
    {
     "name": "stdout",
     "output_type": "stream",
     "text": [
      "Warning: skipping session with too few trials 29\n",
      "Warning: skipping session with too few trials 29\n",
      "Warning: skipping session with too few trials 27\n",
      "Warning: skipping session with too few trials 27\n",
      "Warning: skipping session with too few trials 20\n",
      "Warning: skipping session with too few trials 27\n",
      "Warning: skipping session with too few trials 21\n",
      "Warning: skipping session with too few trials 26\n",
      "Warning: skipping session with too few trials 24\n"
     ]
    },
    {
     "data": {
      "application/vnd.jupyter.widget-view+json": {
       "model_id": "252d59a05716478dafecd3ac5d58cc18",
       "version_major": 2,
       "version_minor": 0
      },
      "text/plain": [
       "IntProgress(value=0, description='mou_9', max=20)"
      ]
     },
     "metadata": {},
     "output_type": "display_data"
    },
    {
     "name": "stdout",
     "output_type": "stream",
     "text": [
      "Warning: skipping session with too few trials 29\n",
      "Warning: skipping session with too few trials 29\n",
      "Warning: skipping session with too few trials 27\n",
      "Warning: skipping session with too few trials 27\n",
      "Warning: skipping session with too few trials 20\n",
      "Warning: skipping session with too few trials 27\n",
      "Warning: skipping session with too few trials 21\n",
      "Warning: skipping session with too few trials 26\n",
      "Warning: skipping session with too few trials 24\n"
     ]
    },
    {
     "data": {
      "application/vnd.jupyter.widget-view+json": {
       "model_id": "50887e70a4a846319a0878a91ade45b9",
       "version_major": 2,
       "version_minor": 0
      },
      "text/plain": [
       "IntProgress(value=0, description='mou_9', max=20)"
      ]
     },
     "metadata": {},
     "output_type": "display_data"
    },
    {
     "name": "stdout",
     "output_type": "stream",
     "text": [
      "Warning: skipping session with too few trials 29\n",
      "Warning: skipping session with too few trials 29\n",
      "Warning: skipping session with too few trials 27\n",
      "Warning: skipping session with too few trials 27\n",
      "Warning: skipping session with too few trials 20\n",
      "Warning: skipping session with too few trials 27\n",
      "Warning: skipping session with too few trials 21\n",
      "Warning: skipping session with too few trials 26\n",
      "Warning: skipping session with too few trials 24\n"
     ]
    },
    {
     "data": {
      "application/vnd.jupyter.widget-view+json": {
       "model_id": "b7ad5259fab740ed9df923e951508daa",
       "version_major": 2,
       "version_minor": 0
      },
      "text/plain": [
       "IntProgress(value=0, description='mou_9', max=20)"
      ]
     },
     "metadata": {},
     "output_type": "display_data"
    },
    {
     "name": "stdout",
     "output_type": "stream",
     "text": [
      "Warning: skipping session with too few trials 29\n",
      "Warning: skipping session with too few trials 29\n",
      "Warning: skipping session with too few trials 27\n",
      "Warning: skipping session with too few trials 27\n",
      "Warning: skipping session with too few trials 20\n",
      "Warning: skipping session with too few trials 27\n",
      "Warning: skipping session with too few trials 21\n",
      "Warning: skipping session with too few trials 26\n",
      "Warning: skipping session with too few trials 24\n"
     ]
    },
    {
     "data": {
      "application/vnd.jupyter.widget-view+json": {
       "model_id": "d8d480e8a61e4ac5a0301b465251defe",
       "version_major": 2,
       "version_minor": 0
      },
      "text/plain": [
       "IntProgress(value=0, description='mou_9', max=20)"
      ]
     },
     "metadata": {},
     "output_type": "display_data"
    },
    {
     "name": "stdout",
     "output_type": "stream",
     "text": [
      "Warning: skipping session with too few trials 29\n",
      "Warning: skipping session with too few trials 29\n",
      "Warning: skipping session with too few trials 27\n",
      "Warning: skipping session with too few trials 27\n",
      "Warning: skipping session with too few trials 20\n",
      "Warning: skipping session with too few trials 27\n",
      "Warning: skipping session with too few trials 21\n",
      "Warning: skipping session with too few trials 26\n",
      "Warning: skipping session with too few trials 24\n"
     ]
    },
    {
     "data": {
      "application/vnd.jupyter.widget-view+json": {
       "model_id": "df9aab9a51ef46deac1676ecd0a6187c",
       "version_major": 2,
       "version_minor": 0
      },
      "text/plain": [
       "IntProgress(value=0, description='mou_9', max=20)"
      ]
     },
     "metadata": {},
     "output_type": "display_data"
    },
    {
     "name": "stdout",
     "output_type": "stream",
     "text": [
      "Warning: skipping session with too few trials 26\n"
     ]
    },
    {
     "data": {
      "application/vnd.jupyter.widget-view+json": {
       "model_id": "0ff86fbb473a4d7d9f3317fca85e6348",
       "version_major": 2,
       "version_minor": 0
      },
      "text/plain": [
       "IntProgress(value=0, description='mou_9', max=20)"
      ]
     },
     "metadata": {},
     "output_type": "display_data"
    },
    {
     "name": "stdout",
     "output_type": "stream",
     "text": [
      "Warning: skipping session with too few trials 26\n"
     ]
    },
    {
     "data": {
      "application/vnd.jupyter.widget-view+json": {
       "model_id": "a612e213da124ec7bda54e178e6ece4b",
       "version_major": 2,
       "version_minor": 0
      },
      "text/plain": [
       "IntProgress(value=0, description='mou_9', max=20)"
      ]
     },
     "metadata": {},
     "output_type": "display_data"
    },
    {
     "name": "stdout",
     "output_type": "stream",
     "text": [
      "Warning: skipping session with too few trials 26\n"
     ]
    },
    {
     "data": {
      "application/vnd.jupyter.widget-view+json": {
       "model_id": "da7e95d8be01428a9c64a396a0702902",
       "version_major": 2,
       "version_minor": 0
      },
      "text/plain": [
       "IntProgress(value=0, description='mou_9', max=20)"
      ]
     },
     "metadata": {},
     "output_type": "display_data"
    },
    {
     "name": "stdout",
     "output_type": "stream",
     "text": [
      "Warning: skipping session with too few trials 26\n"
     ]
    },
    {
     "data": {
      "application/vnd.jupyter.widget-view+json": {
       "model_id": "5c224f37d0274cf9b103837657cfc61f",
       "version_major": 2,
       "version_minor": 0
      },
      "text/plain": [
       "IntProgress(value=0, description='mou_9', max=20)"
      ]
     },
     "metadata": {},
     "output_type": "display_data"
    },
    {
     "name": "stdout",
     "output_type": "stream",
     "text": [
      "Warning: skipping session with too few trials 26\n"
     ]
    },
    {
     "data": {
      "application/vnd.jupyter.widget-view+json": {
       "model_id": "fb9fcc766e604d70b56c73e9748475ac",
       "version_major": 2,
       "version_minor": 0
      },
      "text/plain": [
       "IntProgress(value=0, description='mou_9', max=20)"
      ]
     },
     "metadata": {},
     "output_type": "display_data"
    },
    {
     "data": {
      "application/vnd.jupyter.widget-view+json": {
       "model_id": "47746e07e5e8462b8227bd1820441385",
       "version_major": 2,
       "version_minor": 0
      },
      "text/plain": [
       "IntProgress(value=0, description='mou_9', max=20)"
      ]
     },
     "metadata": {},
     "output_type": "display_data"
    },
    {
     "data": {
      "application/vnd.jupyter.widget-view+json": {
       "model_id": "7824bfecb3f74633a6f10f77f2c065ba",
       "version_major": 2,
       "version_minor": 0
      },
      "text/plain": [
       "IntProgress(value=0, description='mou_9', max=20)"
      ]
     },
     "metadata": {},
     "output_type": "display_data"
    },
    {
     "data": {
      "application/vnd.jupyter.widget-view+json": {
       "model_id": "4c690566ea2d4ba9ba525be7d9755d0f",
       "version_major": 2,
       "version_minor": 0
      },
      "text/plain": [
       "IntProgress(value=0, description='mou_9', max=20)"
      ]
     },
     "metadata": {},
     "output_type": "display_data"
    },
    {
     "data": {
      "application/vnd.jupyter.widget-view+json": {
       "model_id": "40eee6c7893047f28010436144ffc232",
       "version_major": 2,
       "version_minor": 0
      },
      "text/plain": [
       "IntProgress(value=0, description='mou_9', max=20)"
      ]
     },
     "metadata": {},
     "output_type": "display_data"
    },
    {
     "data": {
      "application/vnd.jupyter.widget-view+json": {
       "model_id": "625801235d9941aaa9f6a403bf09a68e",
       "version_major": 2,
       "version_minor": 0
      },
      "text/plain": [
       "IntProgress(value=0, description='mou_9', max=20)"
      ]
     },
     "metadata": {},
     "output_type": "display_data"
    },
    {
     "name": "stdout",
     "output_type": "stream",
     "text": [
      "Warning: skipping session with too few trials 29\n",
      "Warning: skipping session with too few trials 29\n",
      "Warning: skipping session with too few trials 27\n",
      "Warning: skipping session with too few trials 27\n",
      "Warning: skipping session with too few trials 20\n",
      "Warning: skipping session with too few trials 27\n",
      "Warning: skipping session with too few trials 21\n",
      "Warning: skipping session with too few trials 26\n",
      "Warning: skipping session with too few trials 24\n"
     ]
    },
    {
     "data": {
      "application/vnd.jupyter.widget-view+json": {
       "model_id": "4bfc61f48ff64f4f998356e516f26f2d",
       "version_major": 2,
       "version_minor": 0
      },
      "text/plain": [
       "IntProgress(value=0, description='mou_9', max=20)"
      ]
     },
     "metadata": {},
     "output_type": "display_data"
    },
    {
     "name": "stdout",
     "output_type": "stream",
     "text": [
      "Warning: skipping session with too few trials 29\n",
      "Warning: skipping session with too few trials 29\n",
      "Warning: skipping session with too few trials 27\n",
      "Warning: skipping session with too few trials 27\n",
      "Warning: skipping session with too few trials 20\n",
      "Warning: skipping session with too few trials 27\n",
      "Warning: skipping session with too few trials 21\n",
      "Warning: skipping session with too few trials 26\n",
      "Warning: skipping session with too few trials 24\n"
     ]
    },
    {
     "data": {
      "application/vnd.jupyter.widget-view+json": {
       "model_id": "2852e402e2d0458b9edee5168db4586c",
       "version_major": 2,
       "version_minor": 0
      },
      "text/plain": [
       "IntProgress(value=0, description='mou_9', max=20)"
      ]
     },
     "metadata": {},
     "output_type": "display_data"
    },
    {
     "name": "stdout",
     "output_type": "stream",
     "text": [
      "Warning: skipping session with too few trials 29\n",
      "Warning: skipping session with too few trials 29\n",
      "Warning: skipping session with too few trials 27\n",
      "Warning: skipping session with too few trials 27\n",
      "Warning: skipping session with too few trials 20\n",
      "Warning: skipping session with too few trials 27\n",
      "Warning: skipping session with too few trials 21\n",
      "Warning: skipping session with too few trials 26\n",
      "Warning: skipping session with too few trials 24\n"
     ]
    },
    {
     "data": {
      "application/vnd.jupyter.widget-view+json": {
       "model_id": "47658e44fd3b4b6081b1a18e8f1492a9",
       "version_major": 2,
       "version_minor": 0
      },
      "text/plain": [
       "IntProgress(value=0, description='mou_9', max=20)"
      ]
     },
     "metadata": {},
     "output_type": "display_data"
    },
    {
     "name": "stdout",
     "output_type": "stream",
     "text": [
      "Warning: skipping session with too few trials 29\n",
      "Warning: skipping session with too few trials 29\n",
      "Warning: skipping session with too few trials 27\n",
      "Warning: skipping session with too few trials 27\n",
      "Warning: skipping session with too few trials 20\n",
      "Warning: skipping session with too few trials 27\n",
      "Warning: skipping session with too few trials 21\n",
      "Warning: skipping session with too few trials 26\n",
      "Warning: skipping session with too few trials 24\n"
     ]
    },
    {
     "data": {
      "application/vnd.jupyter.widget-view+json": {
       "model_id": "2e189ad073fa46e8b1586d36defd454f",
       "version_major": 2,
       "version_minor": 0
      },
      "text/plain": [
       "IntProgress(value=0, description='mou_9', max=20)"
      ]
     },
     "metadata": {},
     "output_type": "display_data"
    },
    {
     "name": "stdout",
     "output_type": "stream",
     "text": [
      "Warning: skipping session with too few trials 29\n",
      "Warning: skipping session with too few trials 29\n",
      "Warning: skipping session with too few trials 27\n",
      "Warning: skipping session with too few trials 27\n",
      "Warning: skipping session with too few trials 20\n",
      "Warning: skipping session with too few trials 27\n",
      "Warning: skipping session with too few trials 21\n",
      "Warning: skipping session with too few trials 26\n",
      "Warning: skipping session with too few trials 24\n"
     ]
    },
    {
     "data": {
      "application/vnd.jupyter.widget-view+json": {
       "model_id": "ceaead74689a41089c29e4ea5fe6cb3f",
       "version_major": 2,
       "version_minor": 0
      },
      "text/plain": [
       "IntProgress(value=0, description='mou_9', max=20)"
      ]
     },
     "metadata": {},
     "output_type": "display_data"
    },
    {
     "name": "stdout",
     "output_type": "stream",
     "text": [
      "Warning: skipping session with too few trials 26\n"
     ]
    },
    {
     "data": {
      "application/vnd.jupyter.widget-view+json": {
       "model_id": "a8616c4e9e66456b920c26f187656f5e",
       "version_major": 2,
       "version_minor": 0
      },
      "text/plain": [
       "IntProgress(value=0, description='mou_9', max=20)"
      ]
     },
     "metadata": {},
     "output_type": "display_data"
    },
    {
     "name": "stdout",
     "output_type": "stream",
     "text": [
      "Warning: skipping session with too few trials 26\n"
     ]
    },
    {
     "data": {
      "application/vnd.jupyter.widget-view+json": {
       "model_id": "f83844353371483f9a5dce86bb69efd4",
       "version_major": 2,
       "version_minor": 0
      },
      "text/plain": [
       "IntProgress(value=0, description='mou_9', max=20)"
      ]
     },
     "metadata": {},
     "output_type": "display_data"
    },
    {
     "name": "stdout",
     "output_type": "stream",
     "text": [
      "Warning: skipping session with too few trials 26\n"
     ]
    },
    {
     "data": {
      "application/vnd.jupyter.widget-view+json": {
       "model_id": "1d6a682e3fbc4d2a869196d0c548b634",
       "version_major": 2,
       "version_minor": 0
      },
      "text/plain": [
       "IntProgress(value=0, description='mou_9', max=20)"
      ]
     },
     "metadata": {},
     "output_type": "display_data"
    },
    {
     "name": "stdout",
     "output_type": "stream",
     "text": [
      "Warning: skipping session with too few trials 26\n"
     ]
    },
    {
     "data": {
      "application/vnd.jupyter.widget-view+json": {
       "model_id": "cab884e0c9d64b3d92499b5952719d5b",
       "version_major": 2,
       "version_minor": 0
      },
      "text/plain": [
       "IntProgress(value=0, description='mou_9', max=20)"
      ]
     },
     "metadata": {},
     "output_type": "display_data"
    },
    {
     "name": "stdout",
     "output_type": "stream",
     "text": [
      "Warning: skipping session with too few trials 26\n"
     ]
    },
    {
     "data": {
      "application/vnd.jupyter.widget-view+json": {
       "model_id": "aa092588f94540629145d98544b9eb2f",
       "version_major": 2,
       "version_minor": 0
      },
      "text/plain": [
       "IntProgress(value=0, description='mou_9', max=20)"
      ]
     },
     "metadata": {},
     "output_type": "display_data"
    },
    {
     "data": {
      "application/vnd.jupyter.widget-view+json": {
       "model_id": "dd6ea360972749148e99114fca684d17",
       "version_major": 2,
       "version_minor": 0
      },
      "text/plain": [
       "IntProgress(value=0, description='mou_9', max=20)"
      ]
     },
     "metadata": {},
     "output_type": "display_data"
    },
    {
     "data": {
      "application/vnd.jupyter.widget-view+json": {
       "model_id": "7dab484335c14262a717f2204e13691b",
       "version_major": 2,
       "version_minor": 0
      },
      "text/plain": [
       "IntProgress(value=0, description='mou_9', max=20)"
      ]
     },
     "metadata": {},
     "output_type": "display_data"
    },
    {
     "data": {
      "application/vnd.jupyter.widget-view+json": {
       "model_id": "de1a96e3b74943c38c34adb28f96170c",
       "version_major": 2,
       "version_minor": 0
      },
      "text/plain": [
       "IntProgress(value=0, description='mou_9', max=20)"
      ]
     },
     "metadata": {},
     "output_type": "display_data"
    },
    {
     "data": {
      "application/vnd.jupyter.widget-view+json": {
       "model_id": "63d4c55d84ef46e88e763a60f49c72ce",
       "version_major": 2,
       "version_minor": 0
      },
      "text/plain": [
       "IntProgress(value=0, description='mou_9', max=20)"
      ]
     },
     "metadata": {},
     "output_type": "display_data"
    },
    {
     "name": "stdout",
     "output_type": "stream",
     "text": [
      "Warning: skipping session with too few trials 29\n",
      "Warning: skipping session with too few trials 29\n",
      "Warning: skipping session with too few trials 27\n",
      "Warning: skipping session with too few trials 27\n",
      "Warning: skipping session with too few trials 20\n",
      "Warning: skipping session with too few trials 27\n",
      "Warning: skipping session with too few trials 21\n",
      "Warning: skipping session with too few trials 26\n",
      "Warning: skipping session with too few trials 24\n"
     ]
    },
    {
     "data": {
      "application/vnd.jupyter.widget-view+json": {
       "model_id": "c52205cab62646ae8f21589d122a42d6",
       "version_major": 2,
       "version_minor": 0
      },
      "text/plain": [
       "IntProgress(value=0, description='mou_9', max=20)"
      ]
     },
     "metadata": {},
     "output_type": "display_data"
    },
    {
     "name": "stdout",
     "output_type": "stream",
     "text": [
      "Warning: skipping session with too few trials 29\n",
      "Warning: skipping session with too few trials 29\n",
      "Warning: skipping session with too few trials 27\n",
      "Warning: skipping session with too few trials 27\n",
      "Warning: skipping session with too few trials 20\n",
      "Warning: skipping session with too few trials 27\n",
      "Warning: skipping session with too few trials 21\n",
      "Warning: skipping session with too few trials 26\n",
      "Warning: skipping session with too few trials 24\n"
     ]
    },
    {
     "data": {
      "application/vnd.jupyter.widget-view+json": {
       "model_id": "1f7020530f76488f8af498def3b667c3",
       "version_major": 2,
       "version_minor": 0
      },
      "text/plain": [
       "IntProgress(value=0, description='mou_9', max=20)"
      ]
     },
     "metadata": {},
     "output_type": "display_data"
    },
    {
     "name": "stdout",
     "output_type": "stream",
     "text": [
      "Warning: skipping session with too few trials 29\n",
      "Warning: skipping session with too few trials 29\n",
      "Warning: skipping session with too few trials 27\n",
      "Warning: skipping session with too few trials 27\n",
      "Warning: skipping session with too few trials 20\n",
      "Warning: skipping session with too few trials 27\n",
      "Warning: skipping session with too few trials 21\n",
      "Warning: skipping session with too few trials 26\n",
      "Warning: skipping session with too few trials 24\n"
     ]
    },
    {
     "data": {
      "application/vnd.jupyter.widget-view+json": {
       "model_id": "299d14f459f04f5f8a6719169c73511b",
       "version_major": 2,
       "version_minor": 0
      },
      "text/plain": [
       "IntProgress(value=0, description='mou_9', max=20)"
      ]
     },
     "metadata": {},
     "output_type": "display_data"
    },
    {
     "name": "stdout",
     "output_type": "stream",
     "text": [
      "Warning: skipping session with too few trials 29\n",
      "Warning: skipping session with too few trials 29\n",
      "Warning: skipping session with too few trials 27\n",
      "Warning: skipping session with too few trials 27\n",
      "Warning: skipping session with too few trials 20\n",
      "Warning: skipping session with too few trials 27\n",
      "Warning: skipping session with too few trials 21\n",
      "Warning: skipping session with too few trials 26\n",
      "Warning: skipping session with too few trials 24\n"
     ]
    },
    {
     "data": {
      "application/vnd.jupyter.widget-view+json": {
       "model_id": "ad5ed4fc301b4ebcbc75a352dcb3477c",
       "version_major": 2,
       "version_minor": 0
      },
      "text/plain": [
       "IntProgress(value=0, description='mou_9', max=20)"
      ]
     },
     "metadata": {},
     "output_type": "display_data"
    },
    {
     "name": "stdout",
     "output_type": "stream",
     "text": [
      "Warning: skipping session with too few trials 26\n"
     ]
    },
    {
     "data": {
      "application/vnd.jupyter.widget-view+json": {
       "model_id": "99fdb69c4c0f436db77e953395ddd018",
       "version_major": 2,
       "version_minor": 0
      },
      "text/plain": [
       "IntProgress(value=0, description='mou_9', max=20)"
      ]
     },
     "metadata": {},
     "output_type": "display_data"
    },
    {
     "name": "stdout",
     "output_type": "stream",
     "text": [
      "Warning: skipping session with too few trials 26\n"
     ]
    },
    {
     "data": {
      "application/vnd.jupyter.widget-view+json": {
       "model_id": "95e1cdcd271245a086fe906bcc5e45d5",
       "version_major": 2,
       "version_minor": 0
      },
      "text/plain": [
       "IntProgress(value=0, description='mou_9', max=20)"
      ]
     },
     "metadata": {},
     "output_type": "display_data"
    },
    {
     "name": "stdout",
     "output_type": "stream",
     "text": [
      "Warning: skipping session with too few trials 26\n"
     ]
    },
    {
     "data": {
      "application/vnd.jupyter.widget-view+json": {
       "model_id": "c172b74d94d640db877507675bd26558",
       "version_major": 2,
       "version_minor": 0
      },
      "text/plain": [
       "IntProgress(value=0, description='mou_9', max=20)"
      ]
     },
     "metadata": {},
     "output_type": "display_data"
    },
    {
     "name": "stdout",
     "output_type": "stream",
     "text": [
      "Warning: skipping session with too few trials 26\n"
     ]
    },
    {
     "data": {
      "application/vnd.jupyter.widget-view+json": {
       "model_id": "003f7d98548d440cacde7d97dc6f1d6c",
       "version_major": 2,
       "version_minor": 0
      },
      "text/plain": [
       "IntProgress(value=0, description='mou_6', max=29)"
      ]
     },
     "metadata": {},
     "output_type": "display_data"
    },
    {
     "data": {
      "application/vnd.jupyter.widget-view+json": {
       "model_id": "9bc9371f7ce2439482d6fc91e16ecef2",
       "version_major": 2,
       "version_minor": 0
      },
      "text/plain": [
       "IntProgress(value=0, description='mou_6', max=29)"
      ]
     },
     "metadata": {},
     "output_type": "display_data"
    },
    {
     "data": {
      "application/vnd.jupyter.widget-view+json": {
       "model_id": "56ca2a40296045709e023b04f1056502",
       "version_major": 2,
       "version_minor": 0
      },
      "text/plain": [
       "IntProgress(value=0, description='mou_6', max=29)"
      ]
     },
     "metadata": {},
     "output_type": "display_data"
    },
    {
     "data": {
      "application/vnd.jupyter.widget-view+json": {
       "model_id": "a88b74a3491d4a84845594f42acd0d4d",
       "version_major": 2,
       "version_minor": 0
      },
      "text/plain": [
       "IntProgress(value=0, description='mou_6', max=29)"
      ]
     },
     "metadata": {},
     "output_type": "display_data"
    },
    {
     "data": {
      "application/vnd.jupyter.widget-view+json": {
       "model_id": "ff3daf4164b9485b9603a0d08b4107ab",
       "version_major": 2,
       "version_minor": 0
      },
      "text/plain": [
       "IntProgress(value=0, description='mou_6', max=29)"
      ]
     },
     "metadata": {},
     "output_type": "display_data"
    },
    {
     "data": {
      "application/vnd.jupyter.widget-view+json": {
       "model_id": "4b9c995ae582436c954246ea87f3cc69",
       "version_major": 2,
       "version_minor": 0
      },
      "text/plain": [
       "IntProgress(value=0, description='mou_6', max=29)"
      ]
     },
     "metadata": {},
     "output_type": "display_data"
    },
    {
     "name": "stdout",
     "output_type": "stream",
     "text": [
      "Warning: skipping session with too few trials 17\n",
      "Warning: skipping session with too few trials 19\n",
      "Warning: skipping session with too few trials 29\n",
      "Warning: skipping session with too few trials 18\n",
      "Warning: skipping session with too few trials 29\n",
      "Warning: skipping session with too few trials 17\n",
      "Warning: skipping session with too few trials 14\n",
      "Warning: skipping session with too few trials 15\n",
      "Warning: skipping session with too few trials 29\n",
      "Warning: skipping session with too few trials 21\n",
      "Warning: skipping session with too few trials 22\n",
      "Warning: skipping session with too few trials 21\n",
      "Warning: skipping session with too few trials 25\n",
      "Warning: skipping session with too few trials 18\n",
      "Warning: skipping session with too few trials 26\n",
      "Warning: skipping session with too few trials 18\n",
      "Warning: skipping session with too few trials 19\n",
      "Warning: skipping session with too few trials 20\n",
      "Warning: skipping session with too few trials 22\n",
      "Warning: skipping session with too few trials 28\n",
      "Warning: skipping session with too few trials 28\n",
      "Warning: skipping session with too few trials 17\n"
     ]
    },
    {
     "data": {
      "application/vnd.jupyter.widget-view+json": {
       "model_id": "fd47d27eb6714ad6a6c466de799c92f8",
       "version_major": 2,
       "version_minor": 0
      },
      "text/plain": [
       "IntProgress(value=0, description='mou_6', max=29)"
      ]
     },
     "metadata": {},
     "output_type": "display_data"
    },
    {
     "name": "stdout",
     "output_type": "stream",
     "text": [
      "Warning: skipping session with too few trials 17\n",
      "Warning: skipping session with too few trials 19\n",
      "Warning: skipping session with too few trials 29\n",
      "Warning: skipping session with too few trials 18\n",
      "Warning: skipping session with too few trials 29\n",
      "Warning: skipping session with too few trials 17\n",
      "Warning: skipping session with too few trials 14\n",
      "Warning: skipping session with too few trials 15\n",
      "Warning: skipping session with too few trials 29\n",
      "Warning: skipping session with too few trials 21\n",
      "Warning: skipping session with too few trials 22\n",
      "Warning: skipping session with too few trials 21\n",
      "Warning: skipping session with too few trials 25\n",
      "Warning: skipping session with too few trials 18\n",
      "Warning: skipping session with too few trials 26\n",
      "Warning: skipping session with too few trials 18\n",
      "Warning: skipping session with too few trials 19\n",
      "Warning: skipping session with too few trials 20\n",
      "Warning: skipping session with too few trials 22\n",
      "Warning: skipping session with too few trials 28\n",
      "Warning: skipping session with too few trials 28\n",
      "Warning: skipping session with too few trials 17\n"
     ]
    },
    {
     "data": {
      "application/vnd.jupyter.widget-view+json": {
       "model_id": "bec84465956043b3a3600e73b17c3166",
       "version_major": 2,
       "version_minor": 0
      },
      "text/plain": [
       "IntProgress(value=0, description='mou_6', max=29)"
      ]
     },
     "metadata": {},
     "output_type": "display_data"
    },
    {
     "name": "stdout",
     "output_type": "stream",
     "text": [
      "Warning: skipping session with too few trials 17\n",
      "Warning: skipping session with too few trials 19\n",
      "Warning: skipping session with too few trials 29\n",
      "Warning: skipping session with too few trials 18\n",
      "Warning: skipping session with too few trials 29\n",
      "Warning: skipping session with too few trials 17\n",
      "Warning: skipping session with too few trials 14\n",
      "Warning: skipping session with too few trials 15\n",
      "Warning: skipping session with too few trials 29\n",
      "Warning: skipping session with too few trials 21\n",
      "Warning: skipping session with too few trials 22\n",
      "Warning: skipping session with too few trials 21\n",
      "Warning: skipping session with too few trials 25\n",
      "Warning: skipping session with too few trials 18\n",
      "Warning: skipping session with too few trials 26\n",
      "Warning: skipping session with too few trials 18\n",
      "Warning: skipping session with too few trials 19\n",
      "Warning: skipping session with too few trials 20\n",
      "Warning: skipping session with too few trials 22\n",
      "Warning: skipping session with too few trials 28\n",
      "Warning: skipping session with too few trials 28\n",
      "Warning: skipping session with too few trials 17\n"
     ]
    },
    {
     "data": {
      "application/vnd.jupyter.widget-view+json": {
       "model_id": "72ff676bea6e4680ab5632d55a10cffc",
       "version_major": 2,
       "version_minor": 0
      },
      "text/plain": [
       "IntProgress(value=0, description='mou_6', max=29)"
      ]
     },
     "metadata": {},
     "output_type": "display_data"
    },
    {
     "name": "stdout",
     "output_type": "stream",
     "text": [
      "Warning: skipping session with too few trials 17\n",
      "Warning: skipping session with too few trials 19\n",
      "Warning: skipping session with too few trials 29\n",
      "Warning: skipping session with too few trials 18\n",
      "Warning: skipping session with too few trials 29\n",
      "Warning: skipping session with too few trials 17\n",
      "Warning: skipping session with too few trials 14\n",
      "Warning: skipping session with too few trials 15\n",
      "Warning: skipping session with too few trials 29\n",
      "Warning: skipping session with too few trials 21\n",
      "Warning: skipping session with too few trials 22\n",
      "Warning: skipping session with too few trials 21\n",
      "Warning: skipping session with too few trials 25\n",
      "Warning: skipping session with too few trials 18\n",
      "Warning: skipping session with too few trials 26\n",
      "Warning: skipping session with too few trials 18\n",
      "Warning: skipping session with too few trials 19\n",
      "Warning: skipping session with too few trials 20\n",
      "Warning: skipping session with too few trials 22\n",
      "Warning: skipping session with too few trials 28\n",
      "Warning: skipping session with too few trials 28\n",
      "Warning: skipping session with too few trials 17\n"
     ]
    },
    {
     "data": {
      "application/vnd.jupyter.widget-view+json": {
       "model_id": "04af01c9a4054c22962782a9f6eacc49",
       "version_major": 2,
       "version_minor": 0
      },
      "text/plain": [
       "IntProgress(value=0, description='mou_6', max=29)"
      ]
     },
     "metadata": {},
     "output_type": "display_data"
    },
    {
     "name": "stdout",
     "output_type": "stream",
     "text": [
      "Warning: skipping session with too few trials 17\n",
      "Warning: skipping session with too few trials 19\n",
      "Warning: skipping session with too few trials 29\n",
      "Warning: skipping session with too few trials 18\n",
      "Warning: skipping session with too few trials 29\n",
      "Warning: skipping session with too few trials 17\n",
      "Warning: skipping session with too few trials 14\n",
      "Warning: skipping session with too few trials 15\n",
      "Warning: skipping session with too few trials 29\n",
      "Warning: skipping session with too few trials 21\n",
      "Warning: skipping session with too few trials 22\n",
      "Warning: skipping session with too few trials 21\n",
      "Warning: skipping session with too few trials 25\n",
      "Warning: skipping session with too few trials 18\n",
      "Warning: skipping session with too few trials 26\n",
      "Warning: skipping session with too few trials 18\n",
      "Warning: skipping session with too few trials 19\n",
      "Warning: skipping session with too few trials 20\n",
      "Warning: skipping session with too few trials 22\n",
      "Warning: skipping session with too few trials 28\n",
      "Warning: skipping session with too few trials 28\n",
      "Warning: skipping session with too few trials 17\n"
     ]
    },
    {
     "data": {
      "application/vnd.jupyter.widget-view+json": {
       "model_id": "9258f726fe2347eaba4464bbd5c58d93",
       "version_major": 2,
       "version_minor": 0
      },
      "text/plain": [
       "IntProgress(value=0, description='mou_6', max=29)"
      ]
     },
     "metadata": {},
     "output_type": "display_data"
    },
    {
     "name": "stdout",
     "output_type": "stream",
     "text": [
      "Warning: skipping session with too few trials 24\n",
      "Warning: skipping session with too few trials 29\n"
     ]
    },
    {
     "data": {
      "application/vnd.jupyter.widget-view+json": {
       "model_id": "3d8d0664eb854fe28803ccac88095347",
       "version_major": 2,
       "version_minor": 0
      },
      "text/plain": [
       "IntProgress(value=0, description='mou_6', max=29)"
      ]
     },
     "metadata": {},
     "output_type": "display_data"
    },
    {
     "name": "stdout",
     "output_type": "stream",
     "text": [
      "Warning: skipping session with too few trials 24\n",
      "Warning: skipping session with too few trials 29\n"
     ]
    },
    {
     "data": {
      "application/vnd.jupyter.widget-view+json": {
       "model_id": "9f052a21245c460eac50cb7b56b38637",
       "version_major": 2,
       "version_minor": 0
      },
      "text/plain": [
       "IntProgress(value=0, description='mou_6', max=29)"
      ]
     },
     "metadata": {},
     "output_type": "display_data"
    },
    {
     "name": "stdout",
     "output_type": "stream",
     "text": [
      "Warning: skipping session with too few trials 24\n",
      "Warning: skipping session with too few trials 29\n"
     ]
    },
    {
     "data": {
      "application/vnd.jupyter.widget-view+json": {
       "model_id": "1ef08d33640342e18fac43ec06f18163",
       "version_major": 2,
       "version_minor": 0
      },
      "text/plain": [
       "IntProgress(value=0, description='mou_6', max=29)"
      ]
     },
     "metadata": {},
     "output_type": "display_data"
    },
    {
     "name": "stdout",
     "output_type": "stream",
     "text": [
      "Warning: skipping session with too few trials 24\n",
      "Warning: skipping session with too few trials 29\n"
     ]
    },
    {
     "data": {
      "application/vnd.jupyter.widget-view+json": {
       "model_id": "89ab6fb1b8ce476d9f59155cb1c2b903",
       "version_major": 2,
       "version_minor": 0
      },
      "text/plain": [
       "IntProgress(value=0, description='mou_6', max=29)"
      ]
     },
     "metadata": {},
     "output_type": "display_data"
    },
    {
     "name": "stdout",
     "output_type": "stream",
     "text": [
      "Warning: skipping session with too few trials 24\n",
      "Warning: skipping session with too few trials 29\n"
     ]
    },
    {
     "data": {
      "application/vnd.jupyter.widget-view+json": {
       "model_id": "982d589a41734124822ae6dd06476fac",
       "version_major": 2,
       "version_minor": 0
      },
      "text/plain": [
       "IntProgress(value=0, description='mou_6', max=29)"
      ]
     },
     "metadata": {},
     "output_type": "display_data"
    },
    {
     "data": {
      "application/vnd.jupyter.widget-view+json": {
       "model_id": "fd5b5c287dde44848c447b965ac4c77a",
       "version_major": 2,
       "version_minor": 0
      },
      "text/plain": [
       "IntProgress(value=0, description='mou_6', max=29)"
      ]
     },
     "metadata": {},
     "output_type": "display_data"
    },
    {
     "data": {
      "application/vnd.jupyter.widget-view+json": {
       "model_id": "af3fd0b02e994c5282266af80239a298",
       "version_major": 2,
       "version_minor": 0
      },
      "text/plain": [
       "IntProgress(value=0, description='mou_6', max=29)"
      ]
     },
     "metadata": {},
     "output_type": "display_data"
    },
    {
     "data": {
      "application/vnd.jupyter.widget-view+json": {
       "model_id": "a2ae7003c9a247638e6e59eea8c4617b",
       "version_major": 2,
       "version_minor": 0
      },
      "text/plain": [
       "IntProgress(value=0, description='mou_6', max=29)"
      ]
     },
     "metadata": {},
     "output_type": "display_data"
    },
    {
     "data": {
      "application/vnd.jupyter.widget-view+json": {
       "model_id": "977ae7372860449085a70f6218bb5d53",
       "version_major": 2,
       "version_minor": 0
      },
      "text/plain": [
       "IntProgress(value=0, description='mou_6', max=29)"
      ]
     },
     "metadata": {},
     "output_type": "display_data"
    },
    {
     "data": {
      "application/vnd.jupyter.widget-view+json": {
       "model_id": "2c931c5f19c84b04abbc45cfbfa9d614",
       "version_major": 2,
       "version_minor": 0
      },
      "text/plain": [
       "IntProgress(value=0, description='mou_6', max=29)"
      ]
     },
     "metadata": {},
     "output_type": "display_data"
    },
    {
     "name": "stdout",
     "output_type": "stream",
     "text": [
      "Warning: skipping session with too few trials 17\n",
      "Warning: skipping session with too few trials 19\n",
      "Warning: skipping session with too few trials 29\n",
      "Warning: skipping session with too few trials 18\n",
      "Warning: skipping session with too few trials 29\n",
      "Warning: skipping session with too few trials 17\n",
      "Warning: skipping session with too few trials 14\n",
      "Warning: skipping session with too few trials 15\n",
      "Warning: skipping session with too few trials 29\n",
      "Warning: skipping session with too few trials 21\n",
      "Warning: skipping session with too few trials 22\n",
      "Warning: skipping session with too few trials 21\n",
      "Warning: skipping session with too few trials 25\n",
      "Warning: skipping session with too few trials 18\n",
      "Warning: skipping session with too few trials 26\n",
      "Warning: skipping session with too few trials 18\n",
      "Warning: skipping session with too few trials 19\n",
      "Warning: skipping session with too few trials 20\n",
      "Warning: skipping session with too few trials 22\n",
      "Warning: skipping session with too few trials 28\n",
      "Warning: skipping session with too few trials 28\n",
      "Warning: skipping session with too few trials 17\n"
     ]
    },
    {
     "data": {
      "application/vnd.jupyter.widget-view+json": {
       "model_id": "1091aa76f3ba4a87ac537cc6b35c9e72",
       "version_major": 2,
       "version_minor": 0
      },
      "text/plain": [
       "IntProgress(value=0, description='mou_6', max=29)"
      ]
     },
     "metadata": {},
     "output_type": "display_data"
    },
    {
     "name": "stdout",
     "output_type": "stream",
     "text": [
      "Warning: skipping session with too few trials 17\n",
      "Warning: skipping session with too few trials 19\n",
      "Warning: skipping session with too few trials 29\n",
      "Warning: skipping session with too few trials 18\n",
      "Warning: skipping session with too few trials 29\n",
      "Warning: skipping session with too few trials 17\n",
      "Warning: skipping session with too few trials 14\n",
      "Warning: skipping session with too few trials 15\n",
      "Warning: skipping session with too few trials 29\n",
      "Warning: skipping session with too few trials 21\n",
      "Warning: skipping session with too few trials 22\n",
      "Warning: skipping session with too few trials 21\n",
      "Warning: skipping session with too few trials 25\n",
      "Warning: skipping session with too few trials 18\n",
      "Warning: skipping session with too few trials 26\n",
      "Warning: skipping session with too few trials 18\n",
      "Warning: skipping session with too few trials 19\n",
      "Warning: skipping session with too few trials 20\n",
      "Warning: skipping session with too few trials 22\n",
      "Warning: skipping session with too few trials 28\n",
      "Warning: skipping session with too few trials 28\n",
      "Warning: skipping session with too few trials 17\n"
     ]
    },
    {
     "data": {
      "application/vnd.jupyter.widget-view+json": {
       "model_id": "813e0a5fbebc4ba59accf66bf20dcd0c",
       "version_major": 2,
       "version_minor": 0
      },
      "text/plain": [
       "IntProgress(value=0, description='mou_6', max=29)"
      ]
     },
     "metadata": {},
     "output_type": "display_data"
    },
    {
     "name": "stdout",
     "output_type": "stream",
     "text": [
      "Warning: skipping session with too few trials 17\n",
      "Warning: skipping session with too few trials 19\n",
      "Warning: skipping session with too few trials 29\n",
      "Warning: skipping session with too few trials 18\n",
      "Warning: skipping session with too few trials 29\n",
      "Warning: skipping session with too few trials 17\n",
      "Warning: skipping session with too few trials 14\n",
      "Warning: skipping session with too few trials 15\n",
      "Warning: skipping session with too few trials 29\n",
      "Warning: skipping session with too few trials 21\n",
      "Warning: skipping session with too few trials 22\n",
      "Warning: skipping session with too few trials 21\n",
      "Warning: skipping session with too few trials 25\n",
      "Warning: skipping session with too few trials 18\n",
      "Warning: skipping session with too few trials 26\n",
      "Warning: skipping session with too few trials 18\n",
      "Warning: skipping session with too few trials 19\n",
      "Warning: skipping session with too few trials 20\n",
      "Warning: skipping session with too few trials 22\n",
      "Warning: skipping session with too few trials 28\n",
      "Warning: skipping session with too few trials 28\n",
      "Warning: skipping session with too few trials 17\n"
     ]
    },
    {
     "data": {
      "application/vnd.jupyter.widget-view+json": {
       "model_id": "910239b881b94a86acb3b7d48530d1eb",
       "version_major": 2,
       "version_minor": 0
      },
      "text/plain": [
       "IntProgress(value=0, description='mou_6', max=29)"
      ]
     },
     "metadata": {},
     "output_type": "display_data"
    },
    {
     "name": "stdout",
     "output_type": "stream",
     "text": [
      "Warning: skipping session with too few trials 17\n",
      "Warning: skipping session with too few trials 19\n",
      "Warning: skipping session with too few trials 29\n",
      "Warning: skipping session with too few trials 18\n",
      "Warning: skipping session with too few trials 29\n",
      "Warning: skipping session with too few trials 17\n",
      "Warning: skipping session with too few trials 14\n",
      "Warning: skipping session with too few trials 15\n",
      "Warning: skipping session with too few trials 29\n",
      "Warning: skipping session with too few trials 21\n",
      "Warning: skipping session with too few trials 22\n",
      "Warning: skipping session with too few trials 21\n",
      "Warning: skipping session with too few trials 25\n",
      "Warning: skipping session with too few trials 18\n",
      "Warning: skipping session with too few trials 26\n",
      "Warning: skipping session with too few trials 18\n",
      "Warning: skipping session with too few trials 19\n",
      "Warning: skipping session with too few trials 20\n",
      "Warning: skipping session with too few trials 22\n",
      "Warning: skipping session with too few trials 28\n",
      "Warning: skipping session with too few trials 28\n",
      "Warning: skipping session with too few trials 17\n"
     ]
    },
    {
     "data": {
      "application/vnd.jupyter.widget-view+json": {
       "model_id": "fd57206b7ba348e3b4108568c8fc0d4c",
       "version_major": 2,
       "version_minor": 0
      },
      "text/plain": [
       "IntProgress(value=0, description='mou_6', max=29)"
      ]
     },
     "metadata": {},
     "output_type": "display_data"
    },
    {
     "name": "stdout",
     "output_type": "stream",
     "text": [
      "Warning: skipping session with too few trials 17\n",
      "Warning: skipping session with too few trials 19\n",
      "Warning: skipping session with too few trials 29\n",
      "Warning: skipping session with too few trials 18\n",
      "Warning: skipping session with too few trials 29\n",
      "Warning: skipping session with too few trials 17\n",
      "Warning: skipping session with too few trials 14\n",
      "Warning: skipping session with too few trials 15\n",
      "Warning: skipping session with too few trials 29\n",
      "Warning: skipping session with too few trials 21\n",
      "Warning: skipping session with too few trials 22\n",
      "Warning: skipping session with too few trials 21\n",
      "Warning: skipping session with too few trials 25\n",
      "Warning: skipping session with too few trials 18\n",
      "Warning: skipping session with too few trials 26\n",
      "Warning: skipping session with too few trials 18\n",
      "Warning: skipping session with too few trials 19\n",
      "Warning: skipping session with too few trials 20\n",
      "Warning: skipping session with too few trials 22\n",
      "Warning: skipping session with too few trials 28\n",
      "Warning: skipping session with too few trials 28\n",
      "Warning: skipping session with too few trials 17\n"
     ]
    },
    {
     "data": {
      "application/vnd.jupyter.widget-view+json": {
       "model_id": "0e8997422a4f47869c2ea69f27fddeed",
       "version_major": 2,
       "version_minor": 0
      },
      "text/plain": [
       "IntProgress(value=0, description='mou_6', max=29)"
      ]
     },
     "metadata": {},
     "output_type": "display_data"
    },
    {
     "name": "stdout",
     "output_type": "stream",
     "text": [
      "Warning: skipping session with too few trials 24\n",
      "Warning: skipping session with too few trials 29\n"
     ]
    },
    {
     "data": {
      "application/vnd.jupyter.widget-view+json": {
       "model_id": "2719f896588140418e781a156d084604",
       "version_major": 2,
       "version_minor": 0
      },
      "text/plain": [
       "IntProgress(value=0, description='mou_6', max=29)"
      ]
     },
     "metadata": {},
     "output_type": "display_data"
    },
    {
     "name": "stdout",
     "output_type": "stream",
     "text": [
      "Warning: skipping session with too few trials 24\n",
      "Warning: skipping session with too few trials 29\n"
     ]
    },
    {
     "data": {
      "application/vnd.jupyter.widget-view+json": {
       "model_id": "3d17ad7be9134ab6ab60600b351e4e77",
       "version_major": 2,
       "version_minor": 0
      },
      "text/plain": [
       "IntProgress(value=0, description='mou_6', max=29)"
      ]
     },
     "metadata": {},
     "output_type": "display_data"
    },
    {
     "name": "stdout",
     "output_type": "stream",
     "text": [
      "Warning: skipping session with too few trials 24\n",
      "Warning: skipping session with too few trials 29\n"
     ]
    },
    {
     "data": {
      "application/vnd.jupyter.widget-view+json": {
       "model_id": "a9224ace847644888497ce024f8361a2",
       "version_major": 2,
       "version_minor": 0
      },
      "text/plain": [
       "IntProgress(value=0, description='mou_6', max=29)"
      ]
     },
     "metadata": {},
     "output_type": "display_data"
    },
    {
     "name": "stdout",
     "output_type": "stream",
     "text": [
      "Warning: skipping session with too few trials 24\n",
      "Warning: skipping session with too few trials 29\n"
     ]
    },
    {
     "data": {
      "application/vnd.jupyter.widget-view+json": {
       "model_id": "3af6f154de2b48618567af4fbbfe55e9",
       "version_major": 2,
       "version_minor": 0
      },
      "text/plain": [
       "IntProgress(value=0, description='mou_6', max=29)"
      ]
     },
     "metadata": {},
     "output_type": "display_data"
    },
    {
     "name": "stdout",
     "output_type": "stream",
     "text": [
      "Warning: skipping session with too few trials 24\n",
      "Warning: skipping session with too few trials 29\n"
     ]
    },
    {
     "data": {
      "application/vnd.jupyter.widget-view+json": {
       "model_id": "0b7cf87d135f4fceb039265a7206c6e4",
       "version_major": 2,
       "version_minor": 0
      },
      "text/plain": [
       "IntProgress(value=0, description='mou_6', max=29)"
      ]
     },
     "metadata": {},
     "output_type": "display_data"
    },
    {
     "data": {
      "application/vnd.jupyter.widget-view+json": {
       "model_id": "5bc7d70c7fd840799206d9c5a10bac84",
       "version_major": 2,
       "version_minor": 0
      },
      "text/plain": [
       "IntProgress(value=0, description='mou_6', max=29)"
      ]
     },
     "metadata": {},
     "output_type": "display_data"
    },
    {
     "data": {
      "application/vnd.jupyter.widget-view+json": {
       "model_id": "715fae9730e54fd9aaf00e8e0d9f0989",
       "version_major": 2,
       "version_minor": 0
      },
      "text/plain": [
       "IntProgress(value=0, description='mou_6', max=29)"
      ]
     },
     "metadata": {},
     "output_type": "display_data"
    },
    {
     "data": {
      "application/vnd.jupyter.widget-view+json": {
       "model_id": "317187f7811c4607b2af5943f9505715",
       "version_major": 2,
       "version_minor": 0
      },
      "text/plain": [
       "IntProgress(value=0, description='mou_6', max=29)"
      ]
     },
     "metadata": {},
     "output_type": "display_data"
    },
    {
     "data": {
      "application/vnd.jupyter.widget-view+json": {
       "model_id": "87e1b16367324ce6ac3278e212479492",
       "version_major": 2,
       "version_minor": 0
      },
      "text/plain": [
       "IntProgress(value=0, description='mou_6', max=29)"
      ]
     },
     "metadata": {},
     "output_type": "display_data"
    },
    {
     "name": "stdout",
     "output_type": "stream",
     "text": [
      "Warning: skipping session with too few trials 17\n",
      "Warning: skipping session with too few trials 19\n",
      "Warning: skipping session with too few trials 29\n",
      "Warning: skipping session with too few trials 18\n",
      "Warning: skipping session with too few trials 29\n",
      "Warning: skipping session with too few trials 17\n",
      "Warning: skipping session with too few trials 14\n",
      "Warning: skipping session with too few trials 15\n",
      "Warning: skipping session with too few trials 29\n",
      "Warning: skipping session with too few trials 21\n",
      "Warning: skipping session with too few trials 22\n",
      "Warning: skipping session with too few trials 21\n",
      "Warning: skipping session with too few trials 25\n",
      "Warning: skipping session with too few trials 18\n",
      "Warning: skipping session with too few trials 26\n",
      "Warning: skipping session with too few trials 18\n",
      "Warning: skipping session with too few trials 19\n",
      "Warning: skipping session with too few trials 20\n",
      "Warning: skipping session with too few trials 22\n",
      "Warning: skipping session with too few trials 28\n",
      "Warning: skipping session with too few trials 28\n",
      "Warning: skipping session with too few trials 17\n"
     ]
    },
    {
     "data": {
      "application/vnd.jupyter.widget-view+json": {
       "model_id": "72b7f0c7738a4ebdb3aa3586a7703f26",
       "version_major": 2,
       "version_minor": 0
      },
      "text/plain": [
       "IntProgress(value=0, description='mou_6', max=29)"
      ]
     },
     "metadata": {},
     "output_type": "display_data"
    },
    {
     "name": "stdout",
     "output_type": "stream",
     "text": [
      "Warning: skipping session with too few trials 17\n",
      "Warning: skipping session with too few trials 19\n",
      "Warning: skipping session with too few trials 29\n",
      "Warning: skipping session with too few trials 18\n",
      "Warning: skipping session with too few trials 29\n",
      "Warning: skipping session with too few trials 17\n",
      "Warning: skipping session with too few trials 14\n",
      "Warning: skipping session with too few trials 15\n",
      "Warning: skipping session with too few trials 29\n",
      "Warning: skipping session with too few trials 21\n",
      "Warning: skipping session with too few trials 22\n",
      "Warning: skipping session with too few trials 21\n",
      "Warning: skipping session with too few trials 25\n",
      "Warning: skipping session with too few trials 18\n",
      "Warning: skipping session with too few trials 26\n",
      "Warning: skipping session with too few trials 18\n",
      "Warning: skipping session with too few trials 19\n",
      "Warning: skipping session with too few trials 20\n",
      "Warning: skipping session with too few trials 22\n",
      "Warning: skipping session with too few trials 28\n",
      "Warning: skipping session with too few trials 28\n",
      "Warning: skipping session with too few trials 17\n"
     ]
    },
    {
     "data": {
      "application/vnd.jupyter.widget-view+json": {
       "model_id": "443073392f294197b4b5cb62225a5abb",
       "version_major": 2,
       "version_minor": 0
      },
      "text/plain": [
       "IntProgress(value=0, description='mou_6', max=29)"
      ]
     },
     "metadata": {},
     "output_type": "display_data"
    },
    {
     "name": "stdout",
     "output_type": "stream",
     "text": [
      "Warning: skipping session with too few trials 17\n",
      "Warning: skipping session with too few trials 19\n",
      "Warning: skipping session with too few trials 29\n",
      "Warning: skipping session with too few trials 18\n",
      "Warning: skipping session with too few trials 29\n",
      "Warning: skipping session with too few trials 17\n",
      "Warning: skipping session with too few trials 14\n",
      "Warning: skipping session with too few trials 15\n",
      "Warning: skipping session with too few trials 29\n",
      "Warning: skipping session with too few trials 21\n",
      "Warning: skipping session with too few trials 22\n",
      "Warning: skipping session with too few trials 21\n",
      "Warning: skipping session with too few trials 25\n",
      "Warning: skipping session with too few trials 18\n",
      "Warning: skipping session with too few trials 26\n",
      "Warning: skipping session with too few trials 18\n",
      "Warning: skipping session with too few trials 19\n",
      "Warning: skipping session with too few trials 20\n",
      "Warning: skipping session with too few trials 22\n",
      "Warning: skipping session with too few trials 28\n",
      "Warning: skipping session with too few trials 28\n",
      "Warning: skipping session with too few trials 17\n"
     ]
    },
    {
     "data": {
      "application/vnd.jupyter.widget-view+json": {
       "model_id": "2b522211ef30441180054f22a44121b2",
       "version_major": 2,
       "version_minor": 0
      },
      "text/plain": [
       "IntProgress(value=0, description='mou_6', max=29)"
      ]
     },
     "metadata": {},
     "output_type": "display_data"
    },
    {
     "name": "stdout",
     "output_type": "stream",
     "text": [
      "Warning: skipping session with too few trials 17\n",
      "Warning: skipping session with too few trials 19\n",
      "Warning: skipping session with too few trials 29\n",
      "Warning: skipping session with too few trials 18\n",
      "Warning: skipping session with too few trials 29\n",
      "Warning: skipping session with too few trials 17\n",
      "Warning: skipping session with too few trials 14\n",
      "Warning: skipping session with too few trials 15\n",
      "Warning: skipping session with too few trials 29\n",
      "Warning: skipping session with too few trials 21\n",
      "Warning: skipping session with too few trials 22\n",
      "Warning: skipping session with too few trials 21\n",
      "Warning: skipping session with too few trials 25\n",
      "Warning: skipping session with too few trials 18\n",
      "Warning: skipping session with too few trials 26\n",
      "Warning: skipping session with too few trials 18\n",
      "Warning: skipping session with too few trials 19\n",
      "Warning: skipping session with too few trials 20\n",
      "Warning: skipping session with too few trials 22\n",
      "Warning: skipping session with too few trials 28\n",
      "Warning: skipping session with too few trials 28\n",
      "Warning: skipping session with too few trials 17\n"
     ]
    },
    {
     "data": {
      "application/vnd.jupyter.widget-view+json": {
       "model_id": "2f454587d16c4d5ab9fb7a6574a2d9c0",
       "version_major": 2,
       "version_minor": 0
      },
      "text/plain": [
       "IntProgress(value=0, description='mou_6', max=29)"
      ]
     },
     "metadata": {},
     "output_type": "display_data"
    },
    {
     "name": "stdout",
     "output_type": "stream",
     "text": [
      "Warning: skipping session with too few trials 24\n",
      "Warning: skipping session with too few trials 29\n"
     ]
    },
    {
     "data": {
      "application/vnd.jupyter.widget-view+json": {
       "model_id": "e89dbaadf18a4e7398ac327f8dd9989b",
       "version_major": 2,
       "version_minor": 0
      },
      "text/plain": [
       "IntProgress(value=0, description='mou_6', max=29)"
      ]
     },
     "metadata": {},
     "output_type": "display_data"
    },
    {
     "name": "stdout",
     "output_type": "stream",
     "text": [
      "Warning: skipping session with too few trials 24\n",
      "Warning: skipping session with too few trials 29\n"
     ]
    },
    {
     "data": {
      "application/vnd.jupyter.widget-view+json": {
       "model_id": "6c4a6212b52a410b89d0abe0e86c6e0b",
       "version_major": 2,
       "version_minor": 0
      },
      "text/plain": [
       "IntProgress(value=0, description='mou_6', max=29)"
      ]
     },
     "metadata": {},
     "output_type": "display_data"
    },
    {
     "name": "stdout",
     "output_type": "stream",
     "text": [
      "Warning: skipping session with too few trials 24\n",
      "Warning: skipping session with too few trials 29\n"
     ]
    },
    {
     "data": {
      "application/vnd.jupyter.widget-view+json": {
       "model_id": "1561fd2cbf8f407f93b07507e15c74b1",
       "version_major": 2,
       "version_minor": 0
      },
      "text/plain": [
       "IntProgress(value=0, description='mou_6', max=29)"
      ]
     },
     "metadata": {},
     "output_type": "display_data"
    },
    {
     "name": "stdout",
     "output_type": "stream",
     "text": [
      "Warning: skipping session with too few trials 24\n",
      "Warning: skipping session with too few trials 29\n"
     ]
    }
   ],
   "source": [
    "bulk_metrics.metric_mouse_bulk_vs_session(dataDB, mc, ds, \"rank_effective\", 'session',\n",
    "                                          minTrials=30, skipExisting=True,\n",
    "                                          trialTypeNames=[None, 'Hit', 'CR'], verbose=False,\n",
    "                                          intervNames=intervNames, exclQueryLst=exclQueryLst)"
   ]
  },
  {
   "cell_type": "code",
   "execution_count": null,
   "metadata": {
    "scrolled": true
   },
   "outputs": [],
   "source": [
    "bulk_metrics.scatter_metric_bulk(ds, 'rank_effective', 'session', ylim=[1, None], verbose=False,\n",
    "                                 xFunc=None, haveRegression=False)"
   ]
  },
  {
   "cell_type": "markdown",
   "metadata": {},
   "source": [
    "### Conditions"
   ]
  },
  {
   "cell_type": "code",
   "execution_count": 25,
   "metadata": {},
   "outputs": [
    {
     "name": "stdout",
     "output_type": "stream",
     "text": [
      "bn_session\n",
      "bn_trial\n",
      "raw\n"
     ]
    }
   ],
   "source": [
    "bulk_metrics.barplot_conditions(ds, 'rank_effective', 'session', verbose=True, trialTypes=['Hit', 'CR'],\n",
    "                                intervNames=dataDB.get_interval_names())"
   ]
  },
  {
   "cell_type": "markdown",
   "metadata": {},
   "source": [
    "## Hierarchical\n",
    "\n",
    "**TODO**:\n",
    "* Add composite selectors for metric helper\n",
    "   - trialType = iGO & iNOGO\n",
    "   - cropTime = TEX & REW"
   ]
  },
  {
   "cell_type": "code",
   "execution_count": null,
   "metadata": {},
   "outputs": [],
   "source": [
    "bulk_metrics.metric_mouse_bulk(dataDB, mc, ds, \"rank_effective\", '', 'flat', verbose=False,\n",
    "                               trialTypeNames='auto',\n",
    "                               perfNames='auto',\n",
    "                               intervNames=intervNames, exclQueryLst=exclQueryLst)"
   ]
  },
  {
   "cell_type": "code",
   "execution_count": null,
   "metadata": {},
   "outputs": [],
   "source": [
    "df = ds.list_dsets_pd()\n",
    "df = df[df['name'] == 'flat']"
   ]
  },
  {
   "cell_type": "code",
   "execution_count": null,
   "metadata": {},
   "outputs": [],
   "source": [
    "data = [np.round(ds.get_data(dset), 2) for dset in df['dset']]\n",
    "df['rez'] = data"
   ]
  },
  {
   "cell_type": "code",
   "execution_count": null,
   "metadata": {},
   "outputs": [],
   "source": [
    "df.drop(['datetime', 'zscoreDim', 'dset', 'metric', 'name', 'shape', 'target_dim'], axis=1, inplace=True)"
   ]
  },
  {
   "cell_type": "code",
   "execution_count": null,
   "metadata": {},
   "outputs": [],
   "source": [
    "from mesostat.utils.pandas_helper import pd_category_to_column"
   ]
  },
  {
   "cell_type": "code",
   "execution_count": null,
   "metadata": {},
   "outputs": [],
   "source": [
    "index = list(set(df.columns) - {'mousename', 'rez'})\n",
    "dfMouse = df.pivot(index=index, columns='mousename', values='rez').reset_index()"
   ]
  },
  {
   "cell_type": "code",
   "execution_count": null,
   "metadata": {
    "scrolled": true
   },
   "outputs": [],
   "source": [
    "dfMouse[dfMouse['datatype'] == 'bn_trial']"
   ]
  },
  {
   "cell_type": "markdown",
   "metadata": {},
   "source": [
    "# Total Correlation"
   ]
  },
  {
   "cell_type": "code",
   "execution_count": null,
   "metadata": {},
   "outputs": [],
   "source": [
    "# bulk_metrics.metric_mouse_bulk(dataDB, mc, ds, \"avg_entropy\", 'sp', 'time-channel', verbose=False)\n",
    "# bulk_metrics.metric_mouse_bulk(dataDB, mc, ds, \"avg_entropy\", 's', 'time', verbose=False)\n",
    "\n",
    "bulk_metrics.metric_mouse_bulk(dataDB, mc, ds, \"avg_TC\", 's', 'time', verbose=False)"
   ]
  },
  {
   "cell_type": "code",
   "execution_count": null,
   "metadata": {
    "scrolled": true
   },
   "outputs": [],
   "source": [
    "bulk_metrics.plot_metric_bulk(dataDB, ds, 'avg_TC', 'time', verbose=True) # ylim=[1,48]"
   ]
  },
  {
   "cell_type": "code",
   "execution_count": null,
   "metadata": {
    "scrolled": true
   },
   "outputs": [],
   "source": [
    "bulk_metrics.plot_TC(dataDB, ds, ylim=None, yscale=None, verbose=True)"
   ]
  },
  {
   "cell_type": "markdown",
   "metadata": {},
   "source": [
    "### Cleaning up"
   ]
  },
  {
   "cell_type": "code",
   "execution_count": null,
   "metadata": {},
   "outputs": [],
   "source": [
    "with pd.option_context('display.max_rows', None, 'display.max_columns', None):\n",
    "    display(ds.list_dsets_pd().sort_values(by='datetime'))"
   ]
  },
  {
   "cell_type": "code",
   "execution_count": null,
   "metadata": {},
   "outputs": [],
   "source": [
    "ds.delete_by_query(queryDict={\"metric\" : \"rank_effective\"}, timestr=\"2020-11-20 18:00:00\")"
   ]
  },
  {
   "cell_type": "code",
   "execution_count": null,
   "metadata": {},
   "outputs": [],
   "source": []
  }
 ],
 "metadata": {
  "kernelspec": {
   "display_name": "Python 3.8 (IDTxl)",
   "language": "python",
   "name": "py38idtxl"
  },
  "language_info": {
   "codemirror_mode": {
    "name": "ipython",
    "version": 3
   },
   "file_extension": ".py",
   "mimetype": "text/x-python",
   "name": "python",
   "nbconvert_exporter": "python",
   "pygments_lexer": "ipython3",
   "version": "3.8.10"
  }
 },
 "nbformat": 4,
 "nbformat_minor": 2
}

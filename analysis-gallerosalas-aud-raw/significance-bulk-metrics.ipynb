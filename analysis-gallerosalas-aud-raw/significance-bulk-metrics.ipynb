{
 "cells": [
  {
   "cell_type": "code",
   "execution_count": 1,
   "metadata": {},
   "outputs": [
    {
     "name": "stdout",
     "output_type": "stream",
     "text": [
      "Appended root directory /media/aleksejs/DataHDD/work/codes/comp-neuro/analysis-mesoscopic/pub-2020-exploratory-analysis\n"
     ]
    }
   ],
   "source": [
    "# Standard libraries\n",
    "import numpy as np\n",
    "import pandas as pd\n",
    "import matplotlib.pyplot as plt\n",
    "from ipywidgets import IntProgress\n",
    "from IPython.display import display\n",
    "from scipy.stats import mannwhitneyu, wilcoxon\n",
    "\n",
    "# Append base directory\n",
    "import os,sys,inspect\n",
    "rootname = \"pub-2020-exploratory-analysis\"\n",
    "thispath = os.path.dirname(os.path.abspath(inspect.getfile(inspect.currentframe())))\n",
    "rootpath = os.path.join(thispath[:thispath.index(rootname)], rootname)\n",
    "sys.path.append(rootpath)\n",
    "print(\"Appended root directory\", rootpath)\n",
    "\n",
    "from mesostat.utils.qt_helper import gui_fnames, gui_fpath\n",
    "from mesostat.metric.metric import MetricCalculator\n",
    "from mesostat.utils.hdf5_io import DataStorage\n",
    "\n",
    "from lib.gallerosalas.data_fc_db_aud_raw import DataFCDatabase\n",
    "import lib.analysis.bulk_metrics as bulk_metrics\n",
    "\n",
    "%load_ext autoreload\n",
    "%autoreload 2"
   ]
  },
  {
   "cell_type": "code",
   "execution_count": 2,
   "metadata": {
    "collapsed": true
   },
   "outputs": [],
   "source": [
    "params = {}\n",
    "# params['root_path_data']  = gui_fpath(\"Path to data collection\",  './')\n",
    "# params['root_path_data'] = '/media/alyosha/Data/TE_data/yasirdata_raw/'\n",
    "params['root_path_data'] = '/media/aleksejs/DataHDD/work/data/yasir/yasirdata_aud_raw'"
   ]
  },
  {
   "cell_type": "code",
   "execution_count": 3,
   "metadata": {},
   "outputs": [
    {
     "name": "stdout",
     "output_type": "stream",
     "text": [
      "Reading channel label file\n",
      "Reading channel area file\n",
      "Reading allen brain map\n",
      "Reading task structure\n",
      "Reading session structure\n",
      "Searching for data files\n",
      "Found mice ['mou_5', 'mou_6', 'mou_7', 'mou_9']\n"
     ]
    }
   ],
   "source": [
    "dataDB = DataFCDatabase(params)"
   ]
  },
  {
   "cell_type": "code",
   "execution_count": 4,
   "metadata": {
    "collapsed": true
   },
   "outputs": [],
   "source": [
    "ds = DataStorage('gallerosalas_bulk_metrics.h5')"
   ]
  },
  {
   "cell_type": "code",
   "execution_count": 5,
   "metadata": {
    "collapsed": true
   },
   "outputs": [],
   "source": [
    "mc = MetricCalculator(serial=True, verbose=False)"
   ]
  },
  {
   "cell_type": "code",
   "execution_count": 6,
   "metadata": {},
   "outputs": [
    {
     "name": "stdout",
     "output_type": "stream",
     "text": [
      "mice {'mou_5', 'mou_6', 'mou_7', 'mou_9'}\n",
      "nSessions 4\n",
      "datatypes ['raw', 'bn_session', 'bn_trial']\n",
      "nChannel 27\n"
     ]
    }
   ],
   "source": [
    "print('mice', dataDB.mice)\n",
    "print('nSessions', len(dataDB.sessions))\n",
    "print('datatypes', dataDB.get_data_types())\n",
    "print('nChannel', dataDB.get_nchannels('mou_5'))"
   ]
  },
  {
   "cell_type": "code",
   "execution_count": 7,
   "metadata": {
    "collapsed": true
   },
   "outputs": [],
   "source": [
    "dataDB.calc_shortest_distances()"
   ]
  },
  {
   "cell_type": "markdown",
   "metadata": {},
   "source": [
    "# Bulk Metrics"
   ]
  },
  {
   "cell_type": "code",
   "execution_count": 8,
   "metadata": {
    "collapsed": true
   },
   "outputs": [],
   "source": [
    "intervNames = [\"PRE\", \"TEX\", \"DEL\", \"REW\", \"AVG\"]"
   ]
  },
  {
   "cell_type": "code",
   "execution_count": 9,
   "metadata": {
    "collapsed": true
   },
   "outputs": [],
   "source": [
    "exclQueryLst = [\n",
    "    {'datatype' : 'bn_trial', 'intervName' : 'PRE'},  # Baseline normalized\n",
    "    {'mousename' : 'mou_6', 'intervName' : 'REW'},    # No reward for this mouse\n",
    "    {'mousename' : 'mou_6', 'intervName' : 'AVG'},    # Makes no sense to compare: no reward and longer delay\n",
    "]"
   ]
  },
  {
   "cell_type": "markdown",
   "metadata": {},
   "source": [
    "## 1. Mean\n",
    "### 1.1. Mean vs time"
   ]
  },
  {
   "cell_type": "code",
   "execution_count": 10,
   "metadata": {
    "scrolled": true
   },
   "outputs": [
    {
     "data": {
      "application/vnd.jupyter.widget-view+json": {
       "model_id": "bf037a50d1cc446ca86dec5f8f8c1f86",
       "version_major": 2,
       "version_minor": 0
      },
      "text/plain": [
       "IntProgress(value=0, description='time', max=60)"
      ]
     },
     "metadata": {},
     "output_type": "display_data"
    },
    {
     "name": "stderr",
     "output_type": "stream",
     "text": [
      "/media/aleksejs/DataHDD/work/codes/comp-neuro/analysis-mesoscopic/mesostat-dev/mesostat/utils/signals/filter.py:11: RuntimeWarning: Mean of empty slice\n",
      "  mu = np.nanmean(x, axis=axis).reshape(shapeNew)\n",
      "/opt/anaconda3/envs/py3qt5/lib/python3.8/site-packages/numpy/lib/nanfunctions.py:1664: RuntimeWarning: Degrees of freedom <= 0 for slice.\n",
      "  var = nanvar(a, axis=axis, dtype=dtype, out=out, ddof=ddof,\n"
     ]
    },
    {
     "ename": "ValueError",
     "evalue": "all the input array dimensions for the concatenation axis must match exactly, but along dimension 1, the array at index 0 has size 200 and the array at index 7 has size 180",
     "output_type": "error",
     "traceback": [
      "\u001b[0;31m---------------------------------------------------------------------------\u001b[0m",
      "\u001b[0;31mValueError\u001b[0m                                Traceback (most recent call last)",
      "\u001b[0;32m<ipython-input-10-f4011182d4a6>\u001b[0m in \u001b[0;36m<module>\u001b[0;34m\u001b[0m\n\u001b[0;32m----> 1\u001b[0;31m bulk_metrics.metric_mouse_bulk(dataDB, mc, ds, 'mean', 's', 'time', verbose=False, minTrials=10,\n\u001b[0m\u001b[1;32m      2\u001b[0m                                trialTypeNames='auto', perfNames=None, exclQueryLst=exclQueryLst)\n",
      "\u001b[0;32m/media/aleksejs/DataHDD/work/codes/comp-neuro/analysis-mesoscopic/pub-2020-exploratory-analysis/lib/analysis/bulk_metrics.py\u001b[0m in \u001b[0;36mmetric_mouse_bulk\u001b[0;34m(dataDB, mc, ds, metricName, dimOrdTrg, nameSuffix, skipExisting, verbose, metricSettings, sweepSettings, minTrials, dropChannels, dataTypes, trialTypeNames, perfNames, intervNames, timeAvg, exclQueryLst)\u001b[0m\n\u001b[1;32m     53\u001b[0m             \u001b[0mprint\u001b[0m\u001b[0;34m(\u001b[0m\u001b[0mmetricName\u001b[0m\u001b[0;34m,\u001b[0m \u001b[0mnameSuffix\u001b[0m\u001b[0;34m,\u001b[0m \u001b[0mkwargs\u001b[0m\u001b[0;34m)\u001b[0m\u001b[0;34m\u001b[0m\u001b[0;34m\u001b[0m\u001b[0m\n\u001b[1;32m     54\u001b[0m \u001b[0;34m\u001b[0m\u001b[0m\n\u001b[0;32m---> 55\u001b[0;31m         metric_by_selector(dataDB, mc, ds, {'mousename': row['mousename']}, metricName, dimOrdTrg,\n\u001b[0m\u001b[1;32m     56\u001b[0m                            \u001b[0mdataName\u001b[0m\u001b[0;34m=\u001b[0m\u001b[0mnameSuffix\u001b[0m\u001b[0;34m,\u001b[0m\u001b[0;34m\u001b[0m\u001b[0;34m\u001b[0m\u001b[0m\n\u001b[1;32m     57\u001b[0m                            \u001b[0mskipExisting\u001b[0m\u001b[0;34m=\u001b[0m\u001b[0mskipExisting\u001b[0m\u001b[0;34m,\u001b[0m\u001b[0;34m\u001b[0m\u001b[0;34m\u001b[0m\u001b[0m\n",
      "\u001b[0;32m/media/aleksejs/DataHDD/work/codes/comp-neuro/analysis-mesoscopic/pub-2020-exploratory-analysis/lib/analysis/metric_helper.py\u001b[0m in \u001b[0;36mmetric_by_selector\u001b[0;34m(dataDB, mc, ds, selector, metricName, dimOrdTrg, dataName, skipExisting, minTrials, dropChannels, timeWindow, timeAvg, metricSettings, sweepSettings, **kwargs)\u001b[0m\n\u001b[1;32m     99\u001b[0m     \u001b[0;32melse\u001b[0m\u001b[0;34m:\u001b[0m\u001b[0;34m\u001b[0m\u001b[0;34m\u001b[0m\u001b[0m\n\u001b[1;32m    100\u001b[0m         \u001b[0mdataLst\u001b[0m \u001b[0;34m=\u001b[0m \u001b[0mdataDB\u001b[0m\u001b[0;34m.\u001b[0m\u001b[0mget_neuro_data\u001b[0m\u001b[0;34m(\u001b[0m\u001b[0mselector\u001b[0m\u001b[0;34m,\u001b[0m \u001b[0;34m**\u001b[0m\u001b[0mkwargs\u001b[0m\u001b[0;34m)\u001b[0m\u001b[0;34m\u001b[0m\u001b[0;34m\u001b[0m\u001b[0m\n\u001b[0;32m--> 101\u001b[0;31m         \u001b[0mdataRSP\u001b[0m \u001b[0;34m=\u001b[0m \u001b[0mnp\u001b[0m\u001b[0;34m.\u001b[0m\u001b[0mconcatenate\u001b[0m\u001b[0;34m(\u001b[0m\u001b[0mdataLst\u001b[0m\u001b[0;34m,\u001b[0m \u001b[0maxis\u001b[0m\u001b[0;34m=\u001b[0m\u001b[0;36m0\u001b[0m\u001b[0;34m)\u001b[0m\u001b[0;34m\u001b[0m\u001b[0;34m\u001b[0m\u001b[0m\n\u001b[0m\u001b[1;32m    102\u001b[0m \u001b[0;34m\u001b[0m\u001b[0m\n\u001b[1;32m    103\u001b[0m         \u001b[0;32mif\u001b[0m \u001b[0mlen\u001b[0m\u001b[0;34m(\u001b[0m\u001b[0mdataLst\u001b[0m\u001b[0;34m)\u001b[0m \u001b[0;34m==\u001b[0m \u001b[0;36m0\u001b[0m\u001b[0;34m:\u001b[0m\u001b[0;34m\u001b[0m\u001b[0;34m\u001b[0m\u001b[0m\n",
      "\u001b[0;32m<__array_function__ internals>\u001b[0m in \u001b[0;36mconcatenate\u001b[0;34m(*args, **kwargs)\u001b[0m\n",
      "\u001b[0;31mValueError\u001b[0m: all the input array dimensions for the concatenation axis must match exactly, but along dimension 1, the array at index 0 has size 200 and the array at index 7 has size 180"
     ]
    }
   ],
   "source": [
    "bulk_metrics.metric_mouse_bulk(dataDB, mc, ds, 'mean', 's', 'time', verbose=False, minTrials=10,\n",
    "                               trialTypeNames='auto', perfNames=None, exclQueryLst=exclQueryLst)"
   ]
  },
  {
   "cell_type": "code",
   "execution_count": null,
   "metadata": {
    "collapsed": true,
    "scrolled": true
   },
   "outputs": [],
   "source": [
    "bulk_metrics.plot_metric_bulk(ds, 'mean', 'time', verbose=False, xFunc=lambda m, l: dataDB.get_times())"
   ]
  },
  {
   "cell_type": "markdown",
   "metadata": {},
   "source": [
    "### 1.2. Mean vs session"
   ]
  },
  {
   "cell_type": "code",
   "execution_count": 21,
   "metadata": {
    "scrolled": true
   },
   "outputs": [
    {
     "data": {
      "application/vnd.jupyter.widget-view+json": {
       "model_id": "986306cb73aa40f88d99807d67af9828",
       "version_major": 2,
       "version_minor": 0
      },
      "text/plain": [
       "IntProgress(value=0, description='session', max=250)"
      ]
     },
     "metadata": {},
     "output_type": "display_data"
    },
    {
     "name": "stdout",
     "output_type": "stream",
     "text": [
      "Skipping existing session_rs_raw_PRE_mou_7_mean_(sessions,)\n",
      "Skipping existing session_rs_raw_TEX_mou_7_mean_(sessions,)\n",
      "Skipping existing session_rs_raw_DEL_mou_7_mean_(sessions,)\n",
      "Skipping existing session_rs_raw_REW_mou_7_mean_(sessions,)\n",
      "Skipping existing session_rs_raw_AVG_mou_7_mean_(sessions,)\n",
      "Skipping existing session_rs_raw_Hit_PRE_mou_7_mean_(sessions,)\n",
      "Skipping existing session_rs_raw_Hit_TEX_mou_7_mean_(sessions,)\n",
      "Skipping existing session_rs_raw_Hit_DEL_mou_7_mean_(sessions,)\n",
      "Skipping existing session_rs_raw_Hit_REW_mou_7_mean_(sessions,)\n",
      "Skipping existing session_rs_raw_Hit_AVG_mou_7_mean_(sessions,)\n",
      "Skipping existing session_rs_raw_Miss_PRE_mou_7_mean_(sessions,)\n",
      "Skipping existing session_rs_raw_Miss_TEX_mou_7_mean_(sessions,)\n",
      "Skipping existing session_rs_raw_Miss_DEL_mou_7_mean_(sessions,)\n",
      "Skipping existing session_rs_raw_Miss_REW_mou_7_mean_(sessions,)\n",
      "Skipping existing session_rs_raw_Miss_AVG_mou_7_mean_(sessions,)\n",
      "Skipping existing session_rs_raw_CR_PRE_mou_7_mean_(sessions,)\n",
      "Skipping existing session_rs_raw_CR_TEX_mou_7_mean_(sessions,)\n",
      "Skipping existing session_rs_raw_CR_DEL_mou_7_mean_(sessions,)\n",
      "Skipping existing session_rs_raw_CR_REW_mou_7_mean_(sessions,)\n",
      "Skipping existing session_rs_raw_CR_AVG_mou_7_mean_(sessions,)\n",
      "Skipping existing session_rs_raw_FA_PRE_mou_7_mean_(sessions,)\n",
      "Skipping existing session_rs_raw_FA_TEX_mou_7_mean_(sessions,)\n",
      "Skipping existing session_rs_raw_FA_DEL_mou_7_mean_(sessions,)\n",
      "Skipping existing session_rs_raw_FA_REW_mou_7_mean_(sessions,)\n",
      "Skipping existing session_rs_raw_FA_AVG_mou_7_mean_(sessions,)\n",
      "Skipping existing session_bn_session_PRE_mou_7_mean_(sessions,)\n",
      "Skipping existing session_bn_session_TEX_mou_7_mean_(sessions,)\n",
      "Skipping existing session_bn_session_DEL_mou_7_mean_(sessions,)\n",
      "Skipping existing session_bn_session_REW_mou_7_mean_(sessions,)\n",
      "Skipping existing session_bn_session_AVG_mou_7_mean_(sessions,)\n",
      "Skipping existing session_bn_session_Hit_PRE_mou_7_mean_(sessions,)\n",
      "Skipping existing session_bn_session_Hit_TEX_mou_7_mean_(sessions,)\n",
      "Skipping existing session_bn_session_Hit_DEL_mou_7_mean_(sessions,)\n",
      "Skipping existing session_bn_session_Hit_REW_mou_7_mean_(sessions,)\n",
      "Skipping existing session_bn_session_Hit_AVG_mou_7_mean_(sessions,)\n",
      "Skipping existing session_bn_session_Miss_PRE_mou_7_mean_(sessions,)\n",
      "Skipping existing session_bn_session_Miss_TEX_mou_7_mean_(sessions,)\n",
      "Skipping existing session_bn_session_Miss_DEL_mou_7_mean_(sessions,)\n",
      "Skipping existing session_bn_session_Miss_REW_mou_7_mean_(sessions,)\n",
      "Skipping existing session_bn_session_Miss_AVG_mou_7_mean_(sessions,)\n",
      "Skipping existing session_bn_session_CR_PRE_mou_7_mean_(sessions,)\n",
      "Skipping existing session_bn_session_CR_TEX_mou_7_mean_(sessions,)\n",
      "Skipping existing session_bn_session_CR_DEL_mou_7_mean_(sessions,)\n",
      "Skipping existing session_bn_session_CR_REW_mou_7_mean_(sessions,)\n",
      "Skipping existing session_bn_session_CR_AVG_mou_7_mean_(sessions,)\n",
      "Skipping existing session_bn_session_FA_PRE_mou_7_mean_(sessions,)\n",
      "Skipping existing session_bn_session_FA_TEX_mou_7_mean_(sessions,)\n",
      "Skipping existing session_bn_session_FA_DEL_mou_7_mean_(sessions,)\n",
      "Skipping existing session_bn_session_FA_REW_mou_7_mean_(sessions,)\n",
      "Skipping existing session_bn_session_FA_AVG_mou_7_mean_(sessions,)\n",
      "Skipping existing session_bn_trial_TEX_mou_7_mean_(sessions,)\n",
      "Skipping existing session_bn_trial_DEL_mou_7_mean_(sessions,)\n",
      "Skipping existing session_bn_trial_REW_mou_7_mean_(sessions,)\n",
      "Skipping existing session_bn_trial_AVG_mou_7_mean_(sessions,)\n",
      "Skipping existing session_bn_trial_Hit_TEX_mou_7_mean_(sessions,)\n",
      "Skipping existing session_bn_trial_Hit_DEL_mou_7_mean_(sessions,)\n",
      "Skipping existing session_bn_trial_Hit_REW_mou_7_mean_(sessions,)\n",
      "Skipping existing session_bn_trial_Hit_AVG_mou_7_mean_(sessions,)\n",
      "Skipping existing session_bn_trial_Miss_TEX_mou_7_mean_(sessions,)\n",
      "Skipping existing session_bn_trial_Miss_DEL_mou_7_mean_(sessions,)\n",
      "Skipping existing session_bn_trial_Miss_REW_mou_7_mean_(sessions,)\n",
      "Skipping existing session_bn_trial_Miss_AVG_mou_7_mean_(sessions,)\n",
      "Skipping existing session_bn_trial_CR_TEX_mou_7_mean_(sessions,)\n",
      "Skipping existing session_bn_trial_CR_DEL_mou_7_mean_(sessions,)\n",
      "Skipping existing session_bn_trial_CR_REW_mou_7_mean_(sessions,)\n",
      "Skipping existing session_bn_trial_CR_AVG_mou_7_mean_(sessions,)\n",
      "Skipping existing session_bn_trial_FA_TEX_mou_7_mean_(sessions,)\n",
      "Skipping existing session_bn_trial_FA_DEL_mou_7_mean_(sessions,)\n",
      "Skipping existing session_bn_trial_FA_REW_mou_7_mean_(sessions,)\n",
      "Skipping existing session_bn_trial_FA_AVG_mou_7_mean_(sessions,)\n",
      "Skipping existing session_rs_raw_PRE_mou_9_mean_(sessions,)\n",
      "Skipping existing session_rs_raw_TEX_mou_9_mean_(sessions,)\n",
      "Skipping existing session_rs_raw_DEL_mou_9_mean_(sessions,)\n",
      "Skipping existing session_rs_raw_REW_mou_9_mean_(sessions,)\n",
      "Skipping existing session_rs_raw_AVG_mou_9_mean_(sessions,)\n",
      "Skipping existing session_rs_raw_Hit_PRE_mou_9_mean_(sessions,)\n",
      "Skipping existing session_rs_raw_Hit_TEX_mou_9_mean_(sessions,)\n",
      "Skipping existing session_rs_raw_Hit_DEL_mou_9_mean_(sessions,)\n",
      "Skipping existing session_rs_raw_Hit_REW_mou_9_mean_(sessions,)\n",
      "Skipping existing session_rs_raw_Hit_AVG_mou_9_mean_(sessions,)\n",
      "Skipping existing session_rs_raw_Miss_PRE_mou_9_mean_(sessions,)\n",
      "Skipping existing session_rs_raw_Miss_TEX_mou_9_mean_(sessions,)\n",
      "Skipping existing session_rs_raw_Miss_DEL_mou_9_mean_(sessions,)\n",
      "Skipping existing session_rs_raw_Miss_REW_mou_9_mean_(sessions,)\n",
      "Skipping existing session_rs_raw_Miss_AVG_mou_9_mean_(sessions,)\n",
      "Skipping existing session_rs_raw_CR_PRE_mou_9_mean_(sessions,)\n",
      "Skipping existing session_rs_raw_CR_TEX_mou_9_mean_(sessions,)\n",
      "Skipping existing session_rs_raw_CR_DEL_mou_9_mean_(sessions,)\n",
      "Skipping existing session_rs_raw_CR_REW_mou_9_mean_(sessions,)\n",
      "Skipping existing session_rs_raw_CR_AVG_mou_9_mean_(sessions,)\n",
      "Skipping existing session_rs_raw_FA_PRE_mou_9_mean_(sessions,)\n",
      "Skipping existing session_rs_raw_FA_TEX_mou_9_mean_(sessions,)\n",
      "Skipping existing session_rs_raw_FA_DEL_mou_9_mean_(sessions,)\n",
      "Skipping existing session_rs_raw_FA_REW_mou_9_mean_(sessions,)\n",
      "Skipping existing session_rs_raw_FA_AVG_mou_9_mean_(sessions,)\n",
      "Skipping existing session_bn_session_PRE_mou_9_mean_(sessions,)\n",
      "Skipping existing session_bn_session_TEX_mou_9_mean_(sessions,)\n",
      "Skipping existing session_bn_session_DEL_mou_9_mean_(sessions,)\n",
      "Skipping existing session_bn_session_REW_mou_9_mean_(sessions,)\n",
      "Skipping existing session_bn_session_AVG_mou_9_mean_(sessions,)\n",
      "Skipping existing session_bn_session_Hit_PRE_mou_9_mean_(sessions,)\n",
      "Skipping existing session_bn_session_Hit_TEX_mou_9_mean_(sessions,)\n",
      "Skipping existing session_bn_session_Hit_DEL_mou_9_mean_(sessions,)\n",
      "Skipping existing session_bn_session_Hit_REW_mou_9_mean_(sessions,)\n",
      "Skipping existing session_bn_session_Hit_AVG_mou_9_mean_(sessions,)\n",
      "Skipping existing session_bn_session_Miss_PRE_mou_9_mean_(sessions,)\n",
      "Skipping existing session_bn_session_Miss_TEX_mou_9_mean_(sessions,)\n",
      "Skipping existing session_bn_session_Miss_DEL_mou_9_mean_(sessions,)\n",
      "Skipping existing session_bn_session_Miss_REW_mou_9_mean_(sessions,)\n",
      "Skipping existing session_bn_session_Miss_AVG_mou_9_mean_(sessions,)\n",
      "Skipping existing session_bn_session_CR_PRE_mou_9_mean_(sessions,)\n",
      "Skipping existing session_bn_session_CR_TEX_mou_9_mean_(sessions,)\n",
      "Skipping existing session_bn_session_CR_DEL_mou_9_mean_(sessions,)\n",
      "Skipping existing session_bn_session_CR_REW_mou_9_mean_(sessions,)\n",
      "Skipping existing session_bn_session_CR_AVG_mou_9_mean_(sessions,)\n",
      "Skipping existing session_bn_session_FA_PRE_mou_9_mean_(sessions,)\n",
      "Skipping existing session_bn_session_FA_TEX_mou_9_mean_(sessions,)\n",
      "Skipping existing session_bn_session_FA_DEL_mou_9_mean_(sessions,)\n",
      "Skipping existing session_bn_session_FA_REW_mou_9_mean_(sessions,)\n",
      "Skipping existing session_bn_session_FA_AVG_mou_9_mean_(sessions,)\n",
      "Skipping existing session_bn_trial_TEX_mou_9_mean_(sessions,)\n",
      "Skipping existing session_bn_trial_DEL_mou_9_mean_(sessions,)\n",
      "Skipping existing session_bn_trial_REW_mou_9_mean_(sessions,)\n",
      "Skipping existing session_bn_trial_AVG_mou_9_mean_(sessions,)\n",
      "Skipping existing session_bn_trial_Hit_TEX_mou_9_mean_(sessions,)\n",
      "Skipping existing session_bn_trial_Hit_DEL_mou_9_mean_(sessions,)\n",
      "Skipping existing session_bn_trial_Hit_REW_mou_9_mean_(sessions,)\n",
      "Skipping existing session_bn_trial_Hit_AVG_mou_9_mean_(sessions,)\n",
      "Skipping existing session_bn_trial_Miss_TEX_mou_9_mean_(sessions,)\n",
      "Skipping existing session_bn_trial_Miss_DEL_mou_9_mean_(sessions,)\n",
      "Skipping existing session_bn_trial_Miss_REW_mou_9_mean_(sessions,)\n",
      "Skipping existing session_bn_trial_Miss_AVG_mou_9_mean_(sessions,)\n",
      "Skipping existing session_bn_trial_CR_TEX_mou_9_mean_(sessions,)\n",
      "Skipping existing session_bn_trial_CR_DEL_mou_9_mean_(sessions,)\n",
      "Skipping existing session_bn_trial_CR_REW_mou_9_mean_(sessions,)\n",
      "Skipping existing session_bn_trial_CR_AVG_mou_9_mean_(sessions,)\n",
      "Skipping existing session_bn_trial_FA_TEX_mou_9_mean_(sessions,)\n",
      "Skipping existing session_bn_trial_FA_DEL_mou_9_mean_(sessions,)\n",
      "Skipping existing session_bn_trial_FA_REW_mou_9_mean_(sessions,)\n",
      "Skipping existing session_bn_trial_FA_AVG_mou_9_mean_(sessions,)\n",
      "Skipping existing session_rs_raw_PRE_mou_6_mean_(sessions,)\n",
      "Skipping existing session_rs_raw_TEX_mou_6_mean_(sessions,)\n",
      "Skipping existing session_rs_raw_DEL_mou_6_mean_(sessions,)\n",
      "Skipping existing session_rs_raw_Hit_PRE_mou_6_mean_(sessions,)\n",
      "Skipping existing session_rs_raw_Hit_TEX_mou_6_mean_(sessions,)\n",
      "Skipping existing session_rs_raw_Hit_DEL_mou_6_mean_(sessions,)\n",
      "Skipping existing session_rs_raw_Miss_PRE_mou_6_mean_(sessions,)\n",
      "Skipping existing session_rs_raw_Miss_TEX_mou_6_mean_(sessions,)\n",
      "Skipping existing session_rs_raw_Miss_DEL_mou_6_mean_(sessions,)\n",
      "Skipping existing session_rs_raw_CR_PRE_mou_6_mean_(sessions,)\n",
      "Skipping existing session_rs_raw_CR_TEX_mou_6_mean_(sessions,)\n",
      "Skipping existing session_rs_raw_CR_DEL_mou_6_mean_(sessions,)\n",
      "Skipping existing session_rs_raw_FA_PRE_mou_6_mean_(sessions,)\n",
      "Skipping existing session_rs_raw_FA_TEX_mou_6_mean_(sessions,)\n",
      "Skipping existing session_rs_raw_FA_DEL_mou_6_mean_(sessions,)\n",
      "Skipping existing session_bn_session_PRE_mou_6_mean_(sessions,)\n",
      "Skipping existing session_bn_session_TEX_mou_6_mean_(sessions,)\n",
      "Skipping existing session_bn_session_DEL_mou_6_mean_(sessions,)\n",
      "Skipping existing session_bn_session_Hit_PRE_mou_6_mean_(sessions,)\n",
      "Skipping existing session_bn_session_Hit_TEX_mou_6_mean_(sessions,)\n",
      "Skipping existing session_bn_session_Hit_DEL_mou_6_mean_(sessions,)\n",
      "Skipping existing session_bn_session_Miss_PRE_mou_6_mean_(sessions,)\n",
      "Skipping existing session_bn_session_Miss_TEX_mou_6_mean_(sessions,)\n",
      "Skipping existing session_bn_session_Miss_DEL_mou_6_mean_(sessions,)\n",
      "Skipping existing session_bn_session_CR_PRE_mou_6_mean_(sessions,)\n",
      "Skipping existing session_bn_session_CR_TEX_mou_6_mean_(sessions,)\n",
      "Skipping existing session_bn_session_CR_DEL_mou_6_mean_(sessions,)\n",
      "Skipping existing session_bn_session_FA_PRE_mou_6_mean_(sessions,)\n",
      "Skipping existing session_bn_session_FA_TEX_mou_6_mean_(sessions,)\n",
      "Skipping existing session_bn_session_FA_DEL_mou_6_mean_(sessions,)\n",
      "Skipping existing session_bn_trial_TEX_mou_6_mean_(sessions,)\n",
      "Skipping existing session_bn_trial_DEL_mou_6_mean_(sessions,)\n",
      "Skipping existing session_bn_trial_Hit_TEX_mou_6_mean_(sessions,)\n",
      "Skipping existing session_bn_trial_Hit_DEL_mou_6_mean_(sessions,)\n",
      "Skipping existing session_bn_trial_Miss_TEX_mou_6_mean_(sessions,)\n",
      "Skipping existing session_bn_trial_Miss_DEL_mou_6_mean_(sessions,)\n",
      "Skipping existing session_bn_trial_CR_TEX_mou_6_mean_(sessions,)\n",
      "Skipping existing session_bn_trial_CR_DEL_mou_6_mean_(sessions,)\n",
      "Skipping existing session_bn_trial_FA_TEX_mou_6_mean_(sessions,)\n",
      "Skipping existing session_bn_trial_FA_DEL_mou_6_mean_(sessions,)\n",
      "Skipping existing session_rs_raw_PRE_mou_5_mean_(sessions,)\n",
      "Skipping existing session_rs_raw_TEX_mou_5_mean_(sessions,)\n",
      "Skipping existing session_rs_raw_DEL_mou_5_mean_(sessions,)\n"
     ]
    },
    {
     "data": {
      "application/vnd.jupyter.widget-view+json": {
       "model_id": "2bf58f510e354f3c960fca522030412f",
       "version_major": 2,
       "version_minor": 0
      },
      "text/plain": [
       "IntProgress(value=0, description='mou_5', max=21)"
      ]
     },
     "metadata": {},
     "output_type": "display_data"
    },
    {
     "data": {
      "application/vnd.jupyter.widget-view+json": {
       "model_id": "379384a8e8af4ed39537e1fe42b85164",
       "version_major": 2,
       "version_minor": 0
      },
      "text/plain": [
       "IntProgress(value=0, description='mou_5', max=21)"
      ]
     },
     "metadata": {},
     "output_type": "display_data"
    },
    {
     "name": "stdout",
     "output_type": "stream",
     "text": [
      "Skipping existing session_rs_raw_Hit_PRE_mou_5_mean_(sessions,)\n",
      "Skipping existing session_rs_raw_Hit_TEX_mou_5_mean_(sessions,)\n",
      "Skipping existing session_rs_raw_Hit_DEL_mou_5_mean_(sessions,)\n"
     ]
    },
    {
     "data": {
      "application/vnd.jupyter.widget-view+json": {
       "model_id": "d9ffed4c6b0e410eac1561571dfbdf80",
       "version_major": 2,
       "version_minor": 0
      },
      "text/plain": [
       "IntProgress(value=0, description='mou_5', max=21)"
      ]
     },
     "metadata": {},
     "output_type": "display_data"
    },
    {
     "data": {
      "application/vnd.jupyter.widget-view+json": {
       "model_id": "db288dfe10cc422dae7cbec5caa52a48",
       "version_major": 2,
       "version_minor": 0
      },
      "text/plain": [
       "IntProgress(value=0, description='mou_5', max=21)"
      ]
     },
     "metadata": {},
     "output_type": "display_data"
    },
    {
     "name": "stdout",
     "output_type": "stream",
     "text": [
      "Skipping existing session_rs_raw_Miss_PRE_mou_5_mean_(sessions,)\n",
      "Skipping existing session_rs_raw_Miss_TEX_mou_5_mean_(sessions,)\n",
      "Skipping existing session_rs_raw_Miss_DEL_mou_5_mean_(sessions,)\n"
     ]
    },
    {
     "name": "stderr",
     "output_type": "stream",
     "text": [
      "/media/aleksejs/DataHDD/work/codes/comp-neuro/analysis-mesoscopic/mesostat-dev/mesostat/utils/signals/filter.py:11: RuntimeWarning: Mean of empty slice\n",
      "  mu = np.nanmean(x, axis=axis).reshape(shapeNew)\n",
      "/opt/anaconda3/envs/py3qt5/lib/python3.8/site-packages/numpy/lib/nanfunctions.py:1664: RuntimeWarning: Degrees of freedom <= 0 for slice.\n",
      "  var = nanvar(a, axis=axis, dtype=dtype, out=out, ddof=ddof,\n"
     ]
    },
    {
     "data": {
      "application/vnd.jupyter.widget-view+json": {
       "model_id": "6de61c9e79484b2098f6110ca2b6cbe3",
       "version_major": 2,
       "version_minor": 0
      },
      "text/plain": [
       "IntProgress(value=0, description='mou_5', max=21)"
      ]
     },
     "metadata": {},
     "output_type": "display_data"
    },
    {
     "name": "stdout",
     "output_type": "stream",
     "text": [
      "Warning: skipping session with too few trials 0\n",
      "Warning: skipping session with too few trials 9\n",
      "Warning: skipping session with too few trials 9\n",
      "Warning: skipping session with too few trials 4\n",
      "Warning: skipping session with too few trials 1\n",
      "Warning: skipping session with too few trials 2\n",
      "Warning: skipping session with too few trials 2\n",
      "Warning: skipping session with too few trials 0\n",
      "Warning: skipping session with too few trials 8\n",
      "Warning: skipping session with too few trials 0\n",
      "Warning: skipping session with too few trials 1\n",
      "Warning: skipping session with too few trials 1\n",
      "Warning: skipping session with too few trials 9\n"
     ]
    },
    {
     "data": {
      "application/vnd.jupyter.widget-view+json": {
       "model_id": "23cae381ab80492faa011bdf720741e6",
       "version_major": 2,
       "version_minor": 0
      },
      "text/plain": [
       "IntProgress(value=0, description='mou_5', max=21)"
      ]
     },
     "metadata": {},
     "output_type": "display_data"
    },
    {
     "name": "stdout",
     "output_type": "stream",
     "text": [
      "Warning: skipping session with too few trials 0\n",
      "Warning: skipping session with too few trials 9\n",
      "Warning: skipping session with too few trials 9\n",
      "Warning: skipping session with too few trials 4\n",
      "Warning: skipping session with too few trials 1\n",
      "Warning: skipping session with too few trials 2\n",
      "Warning: skipping session with too few trials 2\n",
      "Warning: skipping session with too few trials 0\n",
      "Warning: skipping session with too few trials 8\n",
      "Warning: skipping session with too few trials 0\n",
      "Warning: skipping session with too few trials 1\n",
      "Warning: skipping session with too few trials 1\n",
      "Warning: skipping session with too few trials 9\n",
      "Skipping existing session_rs_raw_CR_PRE_mou_5_mean_(sessions,)\n",
      "Skipping existing session_rs_raw_CR_TEX_mou_5_mean_(sessions,)\n",
      "Skipping existing session_rs_raw_CR_DEL_mou_5_mean_(sessions,)\n"
     ]
    },
    {
     "data": {
      "application/vnd.jupyter.widget-view+json": {
       "model_id": "b1bfd7fdda0a47ce880d4ef168a8f45e",
       "version_major": 2,
       "version_minor": 0
      },
      "text/plain": [
       "IntProgress(value=0, description='mou_5', max=21)"
      ]
     },
     "metadata": {},
     "output_type": "display_data"
    },
    {
     "data": {
      "application/vnd.jupyter.widget-view+json": {
       "model_id": "3079e6c4054e49809ec3f6124cc16f4e",
       "version_major": 2,
       "version_minor": 0
      },
      "text/plain": [
       "IntProgress(value=0, description='mou_5', max=21)"
      ]
     },
     "metadata": {},
     "output_type": "display_data"
    },
    {
     "name": "stdout",
     "output_type": "stream",
     "text": [
      "Skipping existing session_rs_raw_FA_PRE_mou_5_mean_(sessions,)\n",
      "Skipping existing session_rs_raw_FA_TEX_mou_5_mean_(sessions,)\n",
      "Skipping existing session_rs_raw_FA_DEL_mou_5_mean_(sessions,)\n"
     ]
    },
    {
     "data": {
      "application/vnd.jupyter.widget-view+json": {
       "model_id": "5074cafe511341f7a8fe7136a0743707",
       "version_major": 2,
       "version_minor": 0
      },
      "text/plain": [
       "IntProgress(value=0, description='mou_5', max=21)"
      ]
     },
     "metadata": {},
     "output_type": "display_data"
    },
    {
     "name": "stdout",
     "output_type": "stream",
     "text": [
      "Warning: skipping session with too few trials 2\n",
      "Warning: skipping session with too few trials 4\n",
      "Warning: skipping session with too few trials 3\n",
      "Warning: skipping session with too few trials 2\n",
      "Warning: skipping session with too few trials 2\n",
      "Warning: skipping session with too few trials 8\n",
      "Warning: skipping session with too few trials 0\n",
      "Warning: skipping session with too few trials 5\n",
      "Warning: skipping session with too few trials 2\n",
      "Warning: skipping session with too few trials 1\n",
      "Warning: skipping session with too few trials 2\n",
      "Warning: skipping session with too few trials 0\n",
      "Warning: skipping session with too few trials 4\n",
      "Warning: skipping session with too few trials 9\n",
      "Warning: skipping session with too few trials 5\n"
     ]
    },
    {
     "data": {
      "application/vnd.jupyter.widget-view+json": {
       "model_id": "6044acf5421c4e9f801fe97ede1a7bb8",
       "version_major": 2,
       "version_minor": 0
      },
      "text/plain": [
       "IntProgress(value=0, description='mou_5', max=21)"
      ]
     },
     "metadata": {},
     "output_type": "display_data"
    },
    {
     "name": "stdout",
     "output_type": "stream",
     "text": [
      "Warning: skipping session with too few trials 2\n",
      "Warning: skipping session with too few trials 4\n",
      "Warning: skipping session with too few trials 3\n",
      "Warning: skipping session with too few trials 2\n",
      "Warning: skipping session with too few trials 2\n",
      "Warning: skipping session with too few trials 8\n",
      "Warning: skipping session with too few trials 0\n",
      "Warning: skipping session with too few trials 5\n",
      "Warning: skipping session with too few trials 2\n",
      "Warning: skipping session with too few trials 1\n",
      "Warning: skipping session with too few trials 2\n",
      "Warning: skipping session with too few trials 0\n",
      "Warning: skipping session with too few trials 4\n",
      "Warning: skipping session with too few trials 9\n",
      "Warning: skipping session with too few trials 5\n",
      "Skipping existing session_bn_session_PRE_mou_5_mean_(sessions,)\n",
      "Skipping existing session_bn_session_TEX_mou_5_mean_(sessions,)\n",
      "Skipping existing session_bn_session_DEL_mou_5_mean_(sessions,)\n"
     ]
    },
    {
     "data": {
      "application/vnd.jupyter.widget-view+json": {
       "model_id": "882be6c6a70343e6850f88d47adffdf3",
       "version_major": 2,
       "version_minor": 0
      },
      "text/plain": [
       "IntProgress(value=0, description='mou_5', max=21)"
      ]
     },
     "metadata": {},
     "output_type": "display_data"
    },
    {
     "data": {
      "application/vnd.jupyter.widget-view+json": {
       "model_id": "cc41cf6949f24b2491e4e52325b8e4e8",
       "version_major": 2,
       "version_minor": 0
      },
      "text/plain": [
       "IntProgress(value=0, description='mou_5', max=21)"
      ]
     },
     "metadata": {},
     "output_type": "display_data"
    },
    {
     "name": "stdout",
     "output_type": "stream",
     "text": [
      "Skipping existing session_bn_session_Hit_PRE_mou_5_mean_(sessions,)\n",
      "Skipping existing session_bn_session_Hit_TEX_mou_5_mean_(sessions,)\n",
      "Skipping existing session_bn_session_Hit_DEL_mou_5_mean_(sessions,)\n"
     ]
    },
    {
     "data": {
      "application/vnd.jupyter.widget-view+json": {
       "model_id": "d9083c23e8a745da8d14338213353bbe",
       "version_major": 2,
       "version_minor": 0
      },
      "text/plain": [
       "IntProgress(value=0, description='mou_5', max=21)"
      ]
     },
     "metadata": {},
     "output_type": "display_data"
    },
    {
     "data": {
      "application/vnd.jupyter.widget-view+json": {
       "model_id": "4789158eb8a94672acb27f47e5c92f58",
       "version_major": 2,
       "version_minor": 0
      },
      "text/plain": [
       "IntProgress(value=0, description='mou_5', max=21)"
      ]
     },
     "metadata": {},
     "output_type": "display_data"
    },
    {
     "name": "stdout",
     "output_type": "stream",
     "text": [
      "Skipping existing session_bn_session_Miss_PRE_mou_5_mean_(sessions,)\n",
      "Skipping existing session_bn_session_Miss_TEX_mou_5_mean_(sessions,)\n",
      "Skipping existing session_bn_session_Miss_DEL_mou_5_mean_(sessions,)\n"
     ]
    },
    {
     "data": {
      "application/vnd.jupyter.widget-view+json": {
       "model_id": "d5b0058093e14264863c02f65314a60b",
       "version_major": 2,
       "version_minor": 0
      },
      "text/plain": [
       "IntProgress(value=0, description='mou_5', max=21)"
      ]
     },
     "metadata": {},
     "output_type": "display_data"
    },
    {
     "name": "stdout",
     "output_type": "stream",
     "text": [
      "Warning: skipping session with too few trials 0\n",
      "Warning: skipping session with too few trials 9\n",
      "Warning: skipping session with too few trials 9\n",
      "Warning: skipping session with too few trials 4\n",
      "Warning: skipping session with too few trials 1\n",
      "Warning: skipping session with too few trials 2\n",
      "Warning: skipping session with too few trials 2\n",
      "Warning: skipping session with too few trials 0\n",
      "Warning: skipping session with too few trials 8\n",
      "Warning: skipping session with too few trials 0\n",
      "Warning: skipping session with too few trials 1\n",
      "Warning: skipping session with too few trials 1\n",
      "Warning: skipping session with too few trials 9\n"
     ]
    },
    {
     "data": {
      "application/vnd.jupyter.widget-view+json": {
       "model_id": "5cb0baa0acfc405ba69c6d26cd29aa9a",
       "version_major": 2,
       "version_minor": 0
      },
      "text/plain": [
       "IntProgress(value=0, description='mou_5', max=21)"
      ]
     },
     "metadata": {},
     "output_type": "display_data"
    },
    {
     "name": "stdout",
     "output_type": "stream",
     "text": [
      "Warning: skipping session with too few trials 0\n",
      "Warning: skipping session with too few trials 9\n",
      "Warning: skipping session with too few trials 9\n",
      "Warning: skipping session with too few trials 4\n",
      "Warning: skipping session with too few trials 1\n",
      "Warning: skipping session with too few trials 2\n",
      "Warning: skipping session with too few trials 2\n",
      "Warning: skipping session with too few trials 0\n",
      "Warning: skipping session with too few trials 8\n",
      "Warning: skipping session with too few trials 0\n",
      "Warning: skipping session with too few trials 1\n",
      "Warning: skipping session with too few trials 1\n",
      "Warning: skipping session with too few trials 9\n",
      "Skipping existing session_bn_session_CR_PRE_mou_5_mean_(sessions,)\n",
      "Skipping existing session_bn_session_CR_TEX_mou_5_mean_(sessions,)\n",
      "Skipping existing session_bn_session_CR_DEL_mou_5_mean_(sessions,)\n"
     ]
    },
    {
     "data": {
      "application/vnd.jupyter.widget-view+json": {
       "model_id": "c82180faf2b44e28ab542d6bd0cfd439",
       "version_major": 2,
       "version_minor": 0
      },
      "text/plain": [
       "IntProgress(value=0, description='mou_5', max=21)"
      ]
     },
     "metadata": {},
     "output_type": "display_data"
    },
    {
     "data": {
      "application/vnd.jupyter.widget-view+json": {
       "model_id": "02b91458d1374a3f914b56fb9e9e05d2",
       "version_major": 2,
       "version_minor": 0
      },
      "text/plain": [
       "IntProgress(value=0, description='mou_5', max=21)"
      ]
     },
     "metadata": {},
     "output_type": "display_data"
    },
    {
     "name": "stdout",
     "output_type": "stream",
     "text": [
      "Skipping existing session_bn_session_FA_PRE_mou_5_mean_(sessions,)\n",
      "Skipping existing session_bn_session_FA_TEX_mou_5_mean_(sessions,)\n",
      "Skipping existing session_bn_session_FA_DEL_mou_5_mean_(sessions,)\n"
     ]
    },
    {
     "data": {
      "application/vnd.jupyter.widget-view+json": {
       "model_id": "be57630bb7f14482958240b3058ff2c5",
       "version_major": 2,
       "version_minor": 0
      },
      "text/plain": [
       "IntProgress(value=0, description='mou_5', max=21)"
      ]
     },
     "metadata": {},
     "output_type": "display_data"
    },
    {
     "name": "stdout",
     "output_type": "stream",
     "text": [
      "Warning: skipping session with too few trials 2\n",
      "Warning: skipping session with too few trials 4\n",
      "Warning: skipping session with too few trials 3\n",
      "Warning: skipping session with too few trials 2\n",
      "Warning: skipping session with too few trials 2\n",
      "Warning: skipping session with too few trials 8\n",
      "Warning: skipping session with too few trials 0\n",
      "Warning: skipping session with too few trials 5\n",
      "Warning: skipping session with too few trials 2\n",
      "Warning: skipping session with too few trials 1\n",
      "Warning: skipping session with too few trials 2\n",
      "Warning: skipping session with too few trials 0\n",
      "Warning: skipping session with too few trials 4\n",
      "Warning: skipping session with too few trials 9\n",
      "Warning: skipping session with too few trials 5\n"
     ]
    },
    {
     "data": {
      "application/vnd.jupyter.widget-view+json": {
       "model_id": "cd2871ef11134a59aad2406bbf8f8237",
       "version_major": 2,
       "version_minor": 0
      },
      "text/plain": [
       "IntProgress(value=0, description='mou_5', max=21)"
      ]
     },
     "metadata": {},
     "output_type": "display_data"
    },
    {
     "name": "stdout",
     "output_type": "stream",
     "text": [
      "Warning: skipping session with too few trials 2\n",
      "Warning: skipping session with too few trials 4\n",
      "Warning: skipping session with too few trials 3\n",
      "Warning: skipping session with too few trials 2\n",
      "Warning: skipping session with too few trials 2\n",
      "Warning: skipping session with too few trials 8\n",
      "Warning: skipping session with too few trials 0\n",
      "Warning: skipping session with too few trials 5\n",
      "Warning: skipping session with too few trials 2\n",
      "Warning: skipping session with too few trials 1\n",
      "Warning: skipping session with too few trials 2\n",
      "Warning: skipping session with too few trials 0\n",
      "Warning: skipping session with too few trials 4\n",
      "Warning: skipping session with too few trials 9\n",
      "Warning: skipping session with too few trials 5\n",
      "Skipping existing session_bn_trial_TEX_mou_5_mean_(sessions,)\n",
      "Skipping existing session_bn_trial_DEL_mou_5_mean_(sessions,)\n"
     ]
    },
    {
     "data": {
      "application/vnd.jupyter.widget-view+json": {
       "model_id": "9ad5490c90ae4fdeaea29d8bef4ffbb4",
       "version_major": 2,
       "version_minor": 0
      },
      "text/plain": [
       "IntProgress(value=0, description='mou_5', max=21)"
      ]
     },
     "metadata": {},
     "output_type": "display_data"
    },
    {
     "data": {
      "application/vnd.jupyter.widget-view+json": {
       "model_id": "63b4cf2463474840aa20c867d7162b16",
       "version_major": 2,
       "version_minor": 0
      },
      "text/plain": [
       "IntProgress(value=0, description='mou_5', max=21)"
      ]
     },
     "metadata": {},
     "output_type": "display_data"
    },
    {
     "name": "stdout",
     "output_type": "stream",
     "text": [
      "Skipping existing session_bn_trial_Hit_TEX_mou_5_mean_(sessions,)\n",
      "Skipping existing session_bn_trial_Hit_DEL_mou_5_mean_(sessions,)\n"
     ]
    },
    {
     "data": {
      "application/vnd.jupyter.widget-view+json": {
       "model_id": "bd36995f13994f7da9deb5eee2dfe32a",
       "version_major": 2,
       "version_minor": 0
      },
      "text/plain": [
       "IntProgress(value=0, description='mou_5', max=21)"
      ]
     },
     "metadata": {},
     "output_type": "display_data"
    },
    {
     "data": {
      "application/vnd.jupyter.widget-view+json": {
       "model_id": "98420d3ae83a4e9eada826caf1ee6484",
       "version_major": 2,
       "version_minor": 0
      },
      "text/plain": [
       "IntProgress(value=0, description='mou_5', max=21)"
      ]
     },
     "metadata": {},
     "output_type": "display_data"
    },
    {
     "name": "stdout",
     "output_type": "stream",
     "text": [
      "Skipping existing session_bn_trial_Miss_TEX_mou_5_mean_(sessions,)\n",
      "Skipping existing session_bn_trial_Miss_DEL_mou_5_mean_(sessions,)\n"
     ]
    },
    {
     "data": {
      "application/vnd.jupyter.widget-view+json": {
       "model_id": "18249eca6de34fc68b6fcbd6fced2dba",
       "version_major": 2,
       "version_minor": 0
      },
      "text/plain": [
       "IntProgress(value=0, description='mou_5', max=21)"
      ]
     },
     "metadata": {},
     "output_type": "display_data"
    },
    {
     "name": "stdout",
     "output_type": "stream",
     "text": [
      "Warning: skipping session with too few trials 0\n",
      "Warning: skipping session with too few trials 9\n",
      "Warning: skipping session with too few trials 9\n",
      "Warning: skipping session with too few trials 4\n",
      "Warning: skipping session with too few trials 1\n",
      "Warning: skipping session with too few trials 2\n",
      "Warning: skipping session with too few trials 2\n",
      "Warning: skipping session with too few trials 0\n",
      "Warning: skipping session with too few trials 8\n",
      "Warning: skipping session with too few trials 0\n",
      "Warning: skipping session with too few trials 1\n",
      "Warning: skipping session with too few trials 1\n",
      "Warning: skipping session with too few trials 9\n"
     ]
    },
    {
     "data": {
      "application/vnd.jupyter.widget-view+json": {
       "model_id": "412b7e65eea94fffa43b10d888978f87",
       "version_major": 2,
       "version_minor": 0
      },
      "text/plain": [
       "IntProgress(value=0, description='mou_5', max=21)"
      ]
     },
     "metadata": {},
     "output_type": "display_data"
    },
    {
     "name": "stdout",
     "output_type": "stream",
     "text": [
      "Warning: skipping session with too few trials 0\n",
      "Warning: skipping session with too few trials 9\n",
      "Warning: skipping session with too few trials 9\n",
      "Warning: skipping session with too few trials 4\n",
      "Warning: skipping session with too few trials 1\n",
      "Warning: skipping session with too few trials 2\n",
      "Warning: skipping session with too few trials 2\n",
      "Warning: skipping session with too few trials 0\n",
      "Warning: skipping session with too few trials 8\n",
      "Warning: skipping session with too few trials 0\n",
      "Warning: skipping session with too few trials 1\n",
      "Warning: skipping session with too few trials 1\n",
      "Warning: skipping session with too few trials 9\n",
      "Skipping existing session_bn_trial_CR_TEX_mou_5_mean_(sessions,)\n",
      "Skipping existing session_bn_trial_CR_DEL_mou_5_mean_(sessions,)\n"
     ]
    },
    {
     "data": {
      "application/vnd.jupyter.widget-view+json": {
       "model_id": "cd45cddf9cfa4118b1566d9392a9bb44",
       "version_major": 2,
       "version_minor": 0
      },
      "text/plain": [
       "IntProgress(value=0, description='mou_5', max=21)"
      ]
     },
     "metadata": {},
     "output_type": "display_data"
    },
    {
     "data": {
      "application/vnd.jupyter.widget-view+json": {
       "model_id": "890297ba8db54769bc7e66e7c8914f80",
       "version_major": 2,
       "version_minor": 0
      },
      "text/plain": [
       "IntProgress(value=0, description='mou_5', max=21)"
      ]
     },
     "metadata": {},
     "output_type": "display_data"
    },
    {
     "name": "stdout",
     "output_type": "stream",
     "text": [
      "Skipping existing session_bn_trial_FA_TEX_mou_5_mean_(sessions,)\n",
      "Skipping existing session_bn_trial_FA_DEL_mou_5_mean_(sessions,)\n"
     ]
    },
    {
     "data": {
      "application/vnd.jupyter.widget-view+json": {
       "model_id": "c21cabff9b324197a7e346467b5cbe44",
       "version_major": 2,
       "version_minor": 0
      },
      "text/plain": [
       "IntProgress(value=0, description='mou_5', max=21)"
      ]
     },
     "metadata": {},
     "output_type": "display_data"
    },
    {
     "name": "stdout",
     "output_type": "stream",
     "text": [
      "Warning: skipping session with too few trials 2\n",
      "Warning: skipping session with too few trials 4\n",
      "Warning: skipping session with too few trials 3\n",
      "Warning: skipping session with too few trials 2\n",
      "Warning: skipping session with too few trials 2\n",
      "Warning: skipping session with too few trials 8\n",
      "Warning: skipping session with too few trials 0\n",
      "Warning: skipping session with too few trials 5\n",
      "Warning: skipping session with too few trials 2\n",
      "Warning: skipping session with too few trials 1\n",
      "Warning: skipping session with too few trials 2\n",
      "Warning: skipping session with too few trials 0\n",
      "Warning: skipping session with too few trials 4\n",
      "Warning: skipping session with too few trials 9\n",
      "Warning: skipping session with too few trials 5\n"
     ]
    },
    {
     "data": {
      "application/vnd.jupyter.widget-view+json": {
       "model_id": "7d893b2cff224bbab221917e935512e0",
       "version_major": 2,
       "version_minor": 0
      },
      "text/plain": [
       "IntProgress(value=0, description='mou_5', max=21)"
      ]
     },
     "metadata": {},
     "output_type": "display_data"
    },
    {
     "name": "stdout",
     "output_type": "stream",
     "text": [
      "Warning: skipping session with too few trials 2\n",
      "Warning: skipping session with too few trials 4\n",
      "Warning: skipping session with too few trials 3\n",
      "Warning: skipping session with too few trials 2\n",
      "Warning: skipping session with too few trials 2\n",
      "Warning: skipping session with too few trials 8\n",
      "Warning: skipping session with too few trials 0\n",
      "Warning: skipping session with too few trials 5\n",
      "Warning: skipping session with too few trials 2\n",
      "Warning: skipping session with too few trials 1\n",
      "Warning: skipping session with too few trials 2\n",
      "Warning: skipping session with too few trials 0\n",
      "Warning: skipping session with too few trials 4\n",
      "Warning: skipping session with too few trials 9\n",
      "Warning: skipping session with too few trials 5\n"
     ]
    }
   ],
   "source": [
    "bulk_metrics.metric_mouse_bulk_vs_session(dataDB, mc, ds, \"mean\", 'session', trialTypeNames='auto',\n",
    "                                          minTrials=10, verbose=False, intervNames=intervNames,\n",
    "                                          exclQueryLst=exclQueryLst)"
   ]
  },
  {
   "cell_type": "code",
   "execution_count": 22,
   "metadata": {},
   "outputs": [
    {
     "name": "stdout",
     "output_type": "stream",
     "text": [
      "['mean', 'session', 'mou_5', 'None', 'AVG', 'bn_session', 'dset257', 'CR']\n",
      "(21,)\n",
      "(21,)\n",
      "['mean', 'session', 'mou_7', 'None', 'AVG', 'bn_session', 'dset218', 'CR']\n",
      "(25,)\n",
      "(25,)\n",
      "['mean', 'session', 'mou_9', 'None', 'AVG', 'bn_session', 'dset233', 'CR']\n",
      "(20,)\n",
      "(20,)\n",
      "['mean', 'session', 'mou_5', 'None', 'AVG', 'bn_trial', 'dset267', 'CR']\n",
      "(21,)\n",
      "(21,)\n",
      "['mean', 'session', 'mou_7', 'None', 'AVG', 'bn_trial', 'dset223', 'CR']\n",
      "(25,)\n",
      "(25,)\n",
      "['mean', 'session', 'mou_9', 'None', 'AVG', 'bn_trial', 'dset238', 'CR']\n",
      "(20,)\n",
      "(20,)\n",
      "['mean', 'session', 'mou_5', 'None', 'DEL', 'bn_session', 'dset173', 'CR']\n",
      "(21,)\n",
      "(21,)\n",
      "['mean', 'session', 'mou_6', 'None', 'DEL', 'bn_session', 'dset158', 'CR']\n",
      "(30,)\n",
      "(30,)\n",
      "['mean', 'session', 'mou_7', 'None', 'DEL', 'bn_session', 'dset128', 'CR']\n",
      "(25,)\n",
      "(25,)\n",
      "['mean', 'session', 'mou_9', 'None', 'DEL', 'bn_session', 'dset143', 'CR']\n",
      "(20,)\n",
      "(20,)\n",
      "['mean', 'session', 'mou_5', 'None', 'DEL', 'bn_trial', 'dset178', 'CR']\n",
      "(21,)\n",
      "(21,)\n",
      "['mean', 'session', 'mou_6', 'None', 'DEL', 'bn_trial', 'dset163', 'CR']\n",
      "(30,)\n",
      "(30,)\n",
      "['mean', 'session', 'mou_7', 'None', 'DEL', 'bn_trial', 'dset133', 'CR']\n",
      "(25,)\n",
      "(25,)\n",
      "['mean', 'session', 'mou_9', 'None', 'DEL', 'bn_trial', 'dset148', 'CR']\n",
      "(20,)\n",
      "(20,)\n",
      "['mean', 'session', 'mou_5', 'None', 'PRE', 'bn_session', 'dset53', 'CR']\n",
      "(21,)\n",
      "(21,)\n",
      "['mean', 'session', 'mou_6', 'None', 'PRE', 'bn_session', 'dset38', 'CR']\n",
      "(30,)\n",
      "(30,)\n",
      "['mean', 'session', 'mou_7', 'None', 'PRE', 'bn_session', 'dset8', 'CR']\n",
      "(25,)\n",
      "(25,)\n",
      "['mean', 'session', 'mou_9', 'None', 'PRE', 'bn_session', 'dset23', 'CR']\n",
      "(20,)\n",
      "(20,)\n",
      "['mean', 'session', 'mou_5', 'None', 'PRE', 'bn_trial', 'dset58', 'CR']\n",
      "(21,)\n",
      "(21,)\n",
      "['mean', 'session', 'mou_6', 'None', 'PRE', 'bn_trial', 'dset43', 'CR']\n",
      "(30,)\n",
      "(30,)\n",
      "['mean', 'session', 'mou_7', 'None', 'PRE', 'bn_trial', 'dset13', 'CR']\n",
      "(25,)\n",
      "(25,)\n",
      "['mean', 'session', 'mou_9', 'None', 'PRE', 'bn_trial', 'dset28', 'CR']\n",
      "(20,)\n",
      "(20,)\n",
      "['mean', 'session', 'mou_5', 'None', 'REW', 'bn_session', 'dset256', 'CR']\n",
      "(21,)\n",
      "(21,)\n",
      "['mean', 'session', 'mou_7', 'None', 'REW', 'bn_session', 'dset188', 'CR']\n",
      "(25,)\n",
      "(25,)\n",
      "['mean', 'session', 'mou_9', 'None', 'REW', 'bn_session', 'dset203', 'CR']\n",
      "(20,)\n",
      "(20,)\n",
      "['mean', 'session', 'mou_5', 'None', 'REW', 'bn_trial', 'dset266', 'CR']\n",
      "(21,)\n",
      "(21,)\n",
      "['mean', 'session', 'mou_7', 'None', 'REW', 'bn_trial', 'dset193', 'CR']\n",
      "(25,)\n",
      "(25,)\n",
      "['mean', 'session', 'mou_9', 'None', 'REW', 'bn_trial', 'dset208', 'CR']\n",
      "(20,)\n",
      "(20,)\n",
      "['mean', 'session', 'mou_5', 'None', 'TEX', 'bn_session', 'dset113', 'CR']\n",
      "(21,)\n",
      "(21,)\n",
      "['mean', 'session', 'mou_6', 'None', 'TEX', 'bn_session', 'dset98', 'CR']\n",
      "(30,)\n",
      "(30,)\n",
      "['mean', 'session', 'mou_7', 'None', 'TEX', 'bn_session', 'dset68', 'CR']\n",
      "(25,)\n",
      "(25,)\n",
      "['mean', 'session', 'mou_9', 'None', 'TEX', 'bn_session', 'dset83', 'CR']\n",
      "(20,)\n",
      "(20,)\n",
      "['mean', 'session', 'mou_5', 'None', 'TEX', 'bn_trial', 'dset118', 'CR']\n",
      "(21,)\n",
      "(21,)\n",
      "['mean', 'session', 'mou_6', 'None', 'TEX', 'bn_trial', 'dset103', 'CR']\n",
      "(30,)\n",
      "(30,)\n",
      "['mean', 'session', 'mou_7', 'None', 'TEX', 'bn_trial', 'dset73', 'CR']\n",
      "(25,)\n",
      "(25,)\n",
      "['mean', 'session', 'mou_9', 'None', 'TEX', 'bn_trial', 'dset88', 'CR']\n",
      "(20,)\n",
      "(20,)\n",
      "['mean', 'session', 'mou_5', 'None', 'AVG', 'bn_session', 'dset259', 'FA']\n",
      "(21,)\n",
      "(6,)\n",
      "['mean', 'session', 'mou_7', 'None', 'AVG', 'bn_session', 'dset219', 'FA']\n",
      "(25,)\n",
      "(21,)\n",
      "['mean', 'session', 'mou_9', 'None', 'AVG', 'bn_session', 'dset234', 'FA']\n",
      "(20,)\n",
      "(8,)\n",
      "['mean', 'session', 'mou_5', 'None', 'AVG', 'bn_trial', 'dset269', 'FA']\n",
      "(21,)\n",
      "(6,)\n",
      "['mean', 'session', 'mou_7', 'None', 'AVG', 'bn_trial', 'dset224', 'FA']\n",
      "(25,)\n",
      "(21,)\n",
      "['mean', 'session', 'mou_9', 'None', 'AVG', 'bn_trial', 'dset239', 'FA']\n",
      "(20,)\n",
      "(8,)\n",
      "['mean', 'session', 'mou_5', 'None', 'DEL', 'bn_session', 'dset174', 'FA']\n",
      "(21,)\n",
      "(6,)\n",
      "['mean', 'session', 'mou_6', 'None', 'DEL', 'bn_session', 'dset159', 'FA']\n",
      "(30,)\n",
      "(1,)\n",
      "['mean', 'session', 'mou_7', 'None', 'DEL', 'bn_session', 'dset129', 'FA']\n",
      "(25,)\n",
      "(21,)\n",
      "['mean', 'session', 'mou_9', 'None', 'DEL', 'bn_session', 'dset144', 'FA']\n",
      "(20,)\n",
      "(8,)\n",
      "['mean', 'session', 'mou_5', 'None', 'DEL', 'bn_trial', 'dset179', 'FA']\n",
      "(21,)\n",
      "(6,)\n",
      "['mean', 'session', 'mou_6', 'None', 'DEL', 'bn_trial', 'dset164', 'FA']\n",
      "(30,)\n",
      "(1,)\n",
      "['mean', 'session', 'mou_7', 'None', 'DEL', 'bn_trial', 'dset134', 'FA']\n",
      "(25,)\n",
      "(21,)\n",
      "['mean', 'session', 'mou_9', 'None', 'DEL', 'bn_trial', 'dset149', 'FA']\n",
      "(20,)\n",
      "(8,)\n",
      "['mean', 'session', 'mou_5', 'None', 'PRE', 'bn_session', 'dset54', 'FA']\n",
      "(21,)\n",
      "(6,)\n",
      "['mean', 'session', 'mou_6', 'None', 'PRE', 'bn_session', 'dset39', 'FA']\n",
      "(30,)\n",
      "(1,)\n",
      "['mean', 'session', 'mou_7', 'None', 'PRE', 'bn_session', 'dset9', 'FA']\n",
      "(25,)\n",
      "(21,)\n",
      "['mean', 'session', 'mou_9', 'None', 'PRE', 'bn_session', 'dset24', 'FA']\n",
      "(20,)\n",
      "(8,)\n",
      "['mean', 'session', 'mou_5', 'None', 'PRE', 'bn_trial', 'dset59', 'FA']\n",
      "(21,)\n",
      "(6,)\n",
      "['mean', 'session', 'mou_6', 'None', 'PRE', 'bn_trial', 'dset44', 'FA']\n",
      "(30,)\n",
      "(1,)\n",
      "['mean', 'session', 'mou_7', 'None', 'PRE', 'bn_trial', 'dset14', 'FA']\n",
      "(25,)\n",
      "(21,)\n",
      "['mean', 'session', 'mou_9', 'None', 'PRE', 'bn_trial', 'dset29', 'FA']\n",
      "(20,)\n",
      "(8,)\n",
      "['mean', 'session', 'mou_5', 'None', 'REW', 'bn_session', 'dset258', 'FA']\n",
      "(21,)\n",
      "(6,)\n",
      "['mean', 'session', 'mou_7', 'None', 'REW', 'bn_session', 'dset189', 'FA']\n",
      "(25,)\n",
      "(21,)\n",
      "['mean', 'session', 'mou_9', 'None', 'REW', 'bn_session', 'dset204', 'FA']\n",
      "(20,)\n",
      "(8,)\n",
      "['mean', 'session', 'mou_5', 'None', 'REW', 'bn_trial', 'dset268', 'FA']\n",
      "(21,)\n",
      "(6,)\n",
      "['mean', 'session', 'mou_7', 'None', 'REW', 'bn_trial', 'dset194', 'FA']\n",
      "(25,)\n",
      "(21,)\n",
      "['mean', 'session', 'mou_9', 'None', 'REW', 'bn_trial', 'dset209', 'FA']\n",
      "(20,)\n",
      "(8,)\n",
      "['mean', 'session', 'mou_5', 'None', 'TEX', 'bn_session', 'dset114', 'FA']\n",
      "(21,)\n",
      "(6,)\n",
      "['mean', 'session', 'mou_6', 'None', 'TEX', 'bn_session', 'dset99', 'FA']\n",
      "(30,)\n",
      "(1,)\n",
      "['mean', 'session', 'mou_7', 'None', 'TEX', 'bn_session', 'dset69', 'FA']\n",
      "(25,)\n",
      "(21,)\n",
      "['mean', 'session', 'mou_9', 'None', 'TEX', 'bn_session', 'dset84', 'FA']\n",
      "(20,)\n",
      "(8,)\n",
      "['mean', 'session', 'mou_5', 'None', 'TEX', 'bn_trial', 'dset119', 'FA']\n",
      "(21,)\n",
      "(6,)\n",
      "['mean', 'session', 'mou_6', 'None', 'TEX', 'bn_trial', 'dset104', 'FA']\n",
      "(30,)\n",
      "(1,)\n",
      "['mean', 'session', 'mou_7', 'None', 'TEX', 'bn_trial', 'dset74', 'FA']\n",
      "(25,)\n",
      "(21,)\n",
      "['mean', 'session', 'mou_9', 'None', 'TEX', 'bn_trial', 'dset89', 'FA']\n",
      "(20,)\n",
      "(8,)\n",
      "['mean', 'session', 'mou_5', 'None', 'AVG', 'bn_session', 'dset253', 'Hit']\n",
      "(21,)\n",
      "(21,)\n",
      "['mean', 'session', 'mou_7', 'None', 'AVG', 'bn_session', 'dset216', 'Hit']\n",
      "(25,)\n",
      "(25,)\n",
      "['mean', 'session', 'mou_9', 'None', 'AVG', 'bn_session', 'dset231', 'Hit']\n",
      "(20,)\n",
      "(20,)\n",
      "['mean', 'session', 'mou_5', 'None', 'AVG', 'bn_trial', 'dset263', 'Hit']\n",
      "(21,)\n",
      "(21,)\n",
      "['mean', 'session', 'mou_7', 'None', 'AVG', 'bn_trial', 'dset221', 'Hit']\n",
      "(25,)\n",
      "(25,)\n",
      "['mean', 'session', 'mou_9', 'None', 'AVG', 'bn_trial', 'dset236', 'Hit']\n",
      "(20,)\n",
      "(20,)\n",
      "['mean', 'session', 'mou_5', 'None', 'DEL', 'bn_session', 'dset171', 'Hit']\n",
      "(21,)\n",
      "(21,)\n",
      "['mean', 'session', 'mou_6', 'None', 'DEL', 'bn_session', 'dset156', 'Hit']\n",
      "(30,)\n",
      "(30,)\n",
      "['mean', 'session', 'mou_7', 'None', 'DEL', 'bn_session', 'dset126', 'Hit']\n",
      "(25,)\n",
      "(25,)\n",
      "['mean', 'session', 'mou_9', 'None', 'DEL', 'bn_session', 'dset141', 'Hit']\n",
      "(20,)\n",
      "(20,)\n",
      "['mean', 'session', 'mou_5', 'None', 'DEL', 'bn_trial', 'dset176', 'Hit']\n",
      "(21,)\n",
      "(21,)\n",
      "['mean', 'session', 'mou_6', 'None', 'DEL', 'bn_trial', 'dset161', 'Hit']\n",
      "(30,)\n",
      "(30,)\n",
      "['mean', 'session', 'mou_7', 'None', 'DEL', 'bn_trial', 'dset131', 'Hit']\n",
      "(25,)\n",
      "(25,)\n",
      "['mean', 'session', 'mou_9', 'None', 'DEL', 'bn_trial', 'dset146', 'Hit']\n",
      "(20,)\n",
      "(20,)\n",
      "['mean', 'session', 'mou_5', 'None', 'PRE', 'bn_session', 'dset51', 'Hit']\n",
      "(21,)\n",
      "(21,)\n",
      "['mean', 'session', 'mou_6', 'None', 'PRE', 'bn_session', 'dset36', 'Hit']\n",
      "(30,)\n",
      "(30,)\n",
      "['mean', 'session', 'mou_7', 'None', 'PRE', 'bn_session', 'dset6', 'Hit']\n",
      "(25,)\n",
      "(25,)\n",
      "['mean', 'session', 'mou_9', 'None', 'PRE', 'bn_session', 'dset21', 'Hit']\n",
      "(20,)\n",
      "(20,)\n",
      "['mean', 'session', 'mou_5', 'None', 'PRE', 'bn_trial', 'dset56', 'Hit']\n",
      "(21,)\n",
      "(21,)\n",
      "['mean', 'session', 'mou_6', 'None', 'PRE', 'bn_trial', 'dset41', 'Hit']\n",
      "(30,)\n",
      "(30,)\n",
      "['mean', 'session', 'mou_7', 'None', 'PRE', 'bn_trial', 'dset11', 'Hit']\n",
      "(25,)\n",
      "(25,)\n",
      "['mean', 'session', 'mou_9', 'None', 'PRE', 'bn_trial', 'dset26', 'Hit']\n",
      "(20,)\n",
      "(20,)\n",
      "['mean', 'session', 'mou_5', 'None', 'REW', 'bn_session', 'dset252', 'Hit']\n",
      "(21,)\n",
      "(21,)\n",
      "['mean', 'session', 'mou_7', 'None', 'REW', 'bn_session', 'dset186', 'Hit']\n",
      "(25,)\n",
      "(25,)\n",
      "['mean', 'session', 'mou_9', 'None', 'REW', 'bn_session', 'dset201', 'Hit']\n",
      "(20,)\n",
      "(20,)\n",
      "['mean', 'session', 'mou_5', 'None', 'REW', 'bn_trial', 'dset262', 'Hit']\n",
      "(21,)\n",
      "(21,)\n",
      "['mean', 'session', 'mou_7', 'None', 'REW', 'bn_trial', 'dset191', 'Hit']\n",
      "(25,)\n",
      "(25,)\n",
      "['mean', 'session', 'mou_9', 'None', 'REW', 'bn_trial', 'dset206', 'Hit']\n",
      "(20,)\n",
      "(20,)\n",
      "['mean', 'session', 'mou_5', 'None', 'TEX', 'bn_session', 'dset111', 'Hit']\n",
      "(21,)\n",
      "(21,)\n",
      "['mean', 'session', 'mou_6', 'None', 'TEX', 'bn_session', 'dset96', 'Hit']\n",
      "(30,)\n",
      "(30,)\n",
      "['mean', 'session', 'mou_7', 'None', 'TEX', 'bn_session', 'dset66', 'Hit']\n",
      "(25,)\n",
      "(25,)\n",
      "['mean', 'session', 'mou_9', 'None', 'TEX', 'bn_session', 'dset81', 'Hit']\n",
      "(20,)\n",
      "(20,)\n"
     ]
    },
    {
     "name": "stdout",
     "output_type": "stream",
     "text": [
      "['mean', 'session', 'mou_5', 'None', 'TEX', 'bn_trial', 'dset116', 'Hit']\n",
      "(21,)\n",
      "(21,)\n",
      "['mean', 'session', 'mou_6', 'None', 'TEX', 'bn_trial', 'dset101', 'Hit']\n",
      "(30,)\n",
      "(30,)\n",
      "['mean', 'session', 'mou_7', 'None', 'TEX', 'bn_trial', 'dset71', 'Hit']\n",
      "(25,)\n",
      "(25,)\n",
      "['mean', 'session', 'mou_9', 'None', 'TEX', 'bn_trial', 'dset86', 'Hit']\n",
      "(20,)\n",
      "(20,)\n",
      "['mean', 'session', 'mou_5', 'None', 'AVG', 'bn_session', 'dset255', 'Miss']\n",
      "(21,)\n",
      "(8,)\n",
      "['mean', 'session', 'mou_7', 'None', 'AVG', 'bn_session', 'dset217', 'Miss']\n",
      "(25,)\n",
      "(3,)\n",
      "['mean', 'session', 'mou_9', 'None', 'AVG', 'bn_session', 'dset232', 'Miss']\n",
      "(20,)\n",
      "(14,)\n",
      "['mean', 'session', 'mou_5', 'None', 'AVG', 'bn_trial', 'dset265', 'Miss']\n",
      "(21,)\n",
      "(8,)\n",
      "['mean', 'session', 'mou_7', 'None', 'AVG', 'bn_trial', 'dset222', 'Miss']\n",
      "(25,)\n",
      "(3,)\n",
      "['mean', 'session', 'mou_9', 'None', 'AVG', 'bn_trial', 'dset237', 'Miss']\n",
      "(20,)\n",
      "(14,)\n",
      "['mean', 'session', 'mou_5', 'None', 'DEL', 'bn_session', 'dset172', 'Miss']\n",
      "(21,)\n",
      "(8,)\n",
      "['mean', 'session', 'mou_6', 'None', 'DEL', 'bn_session', 'dset157', 'Miss']\n",
      "(30,)\n",
      "(9,)\n",
      "['mean', 'session', 'mou_7', 'None', 'DEL', 'bn_session', 'dset127', 'Miss']\n",
      "(25,)\n",
      "(3,)\n",
      "['mean', 'session', 'mou_9', 'None', 'DEL', 'bn_session', 'dset142', 'Miss']\n",
      "(20,)\n",
      "(14,)\n",
      "['mean', 'session', 'mou_5', 'None', 'DEL', 'bn_trial', 'dset177', 'Miss']\n",
      "(21,)\n",
      "(8,)\n",
      "['mean', 'session', 'mou_6', 'None', 'DEL', 'bn_trial', 'dset162', 'Miss']\n",
      "(30,)\n",
      "(9,)\n",
      "['mean', 'session', 'mou_7', 'None', 'DEL', 'bn_trial', 'dset132', 'Miss']\n",
      "(25,)\n",
      "(3,)\n",
      "['mean', 'session', 'mou_9', 'None', 'DEL', 'bn_trial', 'dset147', 'Miss']\n",
      "(20,)\n",
      "(14,)\n",
      "['mean', 'session', 'mou_5', 'None', 'PRE', 'bn_session', 'dset52', 'Miss']\n",
      "(21,)\n",
      "(8,)\n",
      "['mean', 'session', 'mou_6', 'None', 'PRE', 'bn_session', 'dset37', 'Miss']\n",
      "(30,)\n",
      "(9,)\n",
      "['mean', 'session', 'mou_7', 'None', 'PRE', 'bn_session', 'dset7', 'Miss']\n",
      "(25,)\n",
      "(3,)\n",
      "['mean', 'session', 'mou_9', 'None', 'PRE', 'bn_session', 'dset22', 'Miss']\n",
      "(20,)\n",
      "(14,)\n",
      "['mean', 'session', 'mou_5', 'None', 'PRE', 'bn_trial', 'dset57', 'Miss']\n",
      "(21,)\n",
      "(8,)\n",
      "['mean', 'session', 'mou_6', 'None', 'PRE', 'bn_trial', 'dset42', 'Miss']\n",
      "(30,)\n",
      "(9,)\n",
      "['mean', 'session', 'mou_7', 'None', 'PRE', 'bn_trial', 'dset12', 'Miss']\n",
      "(25,)\n",
      "(3,)\n",
      "['mean', 'session', 'mou_9', 'None', 'PRE', 'bn_trial', 'dset27', 'Miss']\n",
      "(20,)\n",
      "(14,)\n",
      "['mean', 'session', 'mou_5', 'None', 'REW', 'bn_session', 'dset254', 'Miss']\n",
      "(21,)\n",
      "(8,)\n",
      "['mean', 'session', 'mou_7', 'None', 'REW', 'bn_session', 'dset187', 'Miss']\n",
      "(25,)\n",
      "(3,)\n",
      "['mean', 'session', 'mou_9', 'None', 'REW', 'bn_session', 'dset202', 'Miss']\n",
      "(20,)\n",
      "(14,)\n",
      "['mean', 'session', 'mou_5', 'None', 'REW', 'bn_trial', 'dset264', 'Miss']\n",
      "(21,)\n",
      "(8,)\n",
      "['mean', 'session', 'mou_7', 'None', 'REW', 'bn_trial', 'dset192', 'Miss']\n",
      "(25,)\n",
      "(3,)\n",
      "['mean', 'session', 'mou_9', 'None', 'REW', 'bn_trial', 'dset207', 'Miss']\n",
      "(20,)\n",
      "(14,)\n",
      "['mean', 'session', 'mou_5', 'None', 'TEX', 'bn_session', 'dset112', 'Miss']\n",
      "(21,)\n",
      "(8,)\n",
      "['mean', 'session', 'mou_6', 'None', 'TEX', 'bn_session', 'dset97', 'Miss']\n",
      "(30,)\n",
      "(9,)\n",
      "['mean', 'session', 'mou_7', 'None', 'TEX', 'bn_session', 'dset67', 'Miss']\n",
      "(25,)\n",
      "(3,)\n",
      "['mean', 'session', 'mou_9', 'None', 'TEX', 'bn_session', 'dset82', 'Miss']\n",
      "(20,)\n",
      "(14,)\n",
      "['mean', 'session', 'mou_5', 'None', 'TEX', 'bn_trial', 'dset117', 'Miss']\n",
      "(21,)\n",
      "(8,)\n",
      "['mean', 'session', 'mou_6', 'None', 'TEX', 'bn_trial', 'dset102', 'Miss']\n",
      "(30,)\n",
      "(9,)\n",
      "['mean', 'session', 'mou_7', 'None', 'TEX', 'bn_trial', 'dset72', 'Miss']\n",
      "(25,)\n",
      "(3,)\n",
      "['mean', 'session', 'mou_9', 'None', 'TEX', 'bn_trial', 'dset87', 'Miss']\n",
      "(20,)\n",
      "(14,)\n",
      "['mean', 'session', 'mou_5', 'None', 'AVG', 'bn_session', 'dset251', 'None']\n",
      "(21,)\n",
      "(21,)\n",
      "['mean', 'session', 'mou_7', 'None', 'AVG', 'bn_session', 'dset215', 'None']\n",
      "(25,)\n",
      "(25,)\n",
      "['mean', 'session', 'mou_9', 'None', 'AVG', 'bn_session', 'dset230', 'None']\n",
      "(20,)\n",
      "(20,)\n",
      "['mean', 'session', 'mou_5', 'None', 'AVG', 'bn_trial', 'dset261', 'None']\n",
      "(21,)\n",
      "(21,)\n",
      "['mean', 'session', 'mou_7', 'None', 'AVG', 'bn_trial', 'dset220', 'None']\n",
      "(25,)\n",
      "(25,)\n",
      "['mean', 'session', 'mou_9', 'None', 'AVG', 'bn_trial', 'dset235', 'None']\n",
      "(20,)\n",
      "(20,)\n",
      "['mean', 'session', 'mou_5', 'None', 'DEL', 'bn_session', 'dset170', 'None']\n",
      "(21,)\n",
      "(21,)\n",
      "['mean', 'session', 'mou_6', 'None', 'DEL', 'bn_session', 'dset155', 'None']\n",
      "(30,)\n",
      "(30,)\n",
      "['mean', 'session', 'mou_7', 'None', 'DEL', 'bn_session', 'dset125', 'None']\n",
      "(25,)\n",
      "(25,)\n",
      "['mean', 'session', 'mou_9', 'None', 'DEL', 'bn_session', 'dset140', 'None']\n",
      "(20,)\n",
      "(20,)\n",
      "['mean', 'session', 'mou_5', 'None', 'DEL', 'bn_trial', 'dset175', 'None']\n",
      "(21,)\n",
      "(21,)\n",
      "['mean', 'session', 'mou_6', 'None', 'DEL', 'bn_trial', 'dset160', 'None']\n",
      "(30,)\n",
      "(30,)\n",
      "['mean', 'session', 'mou_7', 'None', 'DEL', 'bn_trial', 'dset130', 'None']\n",
      "(25,)\n",
      "(25,)\n",
      "['mean', 'session', 'mou_9', 'None', 'DEL', 'bn_trial', 'dset145', 'None']\n",
      "(20,)\n",
      "(20,)\n",
      "['mean', 'session', 'mou_5', 'None', 'PRE', 'bn_session', 'dset50', 'None']\n",
      "(21,)\n",
      "(21,)\n",
      "['mean', 'session', 'mou_6', 'None', 'PRE', 'bn_session', 'dset35', 'None']\n",
      "(30,)\n",
      "(30,)\n",
      "['mean', 'session', 'mou_7', 'None', 'PRE', 'bn_session', 'dset5', 'None']\n",
      "(25,)\n",
      "(25,)\n",
      "['mean', 'session', 'mou_9', 'None', 'PRE', 'bn_session', 'dset20', 'None']\n",
      "(20,)\n",
      "(20,)\n",
      "['mean', 'session', 'mou_5', 'None', 'PRE', 'bn_trial', 'dset55', 'None']\n",
      "(21,)\n",
      "(21,)\n",
      "['mean', 'session', 'mou_6', 'None', 'PRE', 'bn_trial', 'dset40', 'None']\n",
      "(30,)\n",
      "(30,)\n",
      "['mean', 'session', 'mou_7', 'None', 'PRE', 'bn_trial', 'dset10', 'None']\n",
      "(25,)\n",
      "(25,)\n",
      "['mean', 'session', 'mou_9', 'None', 'PRE', 'bn_trial', 'dset25', 'None']\n",
      "(20,)\n",
      "(20,)\n",
      "['mean', 'session', 'mou_5', 'None', 'REW', 'bn_session', 'dset250', 'None']\n",
      "(21,)\n",
      "(21,)\n",
      "['mean', 'session', 'mou_7', 'None', 'REW', 'bn_session', 'dset185', 'None']\n",
      "(25,)\n",
      "(25,)\n",
      "['mean', 'session', 'mou_9', 'None', 'REW', 'bn_session', 'dset200', 'None']\n",
      "(20,)\n",
      "(20,)\n",
      "['mean', 'session', 'mou_5', 'None', 'REW', 'bn_trial', 'dset260', 'None']\n",
      "(21,)\n",
      "(21,)\n",
      "['mean', 'session', 'mou_7', 'None', 'REW', 'bn_trial', 'dset190', 'None']\n",
      "(25,)\n",
      "(25,)\n",
      "['mean', 'session', 'mou_9', 'None', 'REW', 'bn_trial', 'dset205', 'None']\n",
      "(20,)\n",
      "(20,)\n",
      "['mean', 'session', 'mou_5', 'None', 'TEX', 'bn_session', 'dset110', 'None']\n",
      "(21,)\n",
      "(21,)\n",
      "['mean', 'session', 'mou_6', 'None', 'TEX', 'bn_session', 'dset95', 'None']\n",
      "(30,)\n",
      "(30,)\n",
      "['mean', 'session', 'mou_7', 'None', 'TEX', 'bn_session', 'dset65', 'None']\n",
      "(25,)\n",
      "(25,)\n",
      "['mean', 'session', 'mou_9', 'None', 'TEX', 'bn_session', 'dset80', 'None']\n",
      "(20,)\n",
      "(20,)\n",
      "['mean', 'session', 'mou_5', 'None', 'TEX', 'bn_trial', 'dset115', 'None']\n",
      "(21,)\n",
      "(21,)\n",
      "['mean', 'session', 'mou_6', 'None', 'TEX', 'bn_trial', 'dset100', 'None']\n",
      "(30,)\n",
      "(30,)\n",
      "['mean', 'session', 'mou_7', 'None', 'TEX', 'bn_trial', 'dset70', 'None']\n",
      "(25,)\n",
      "(25,)\n",
      "['mean', 'session', 'mou_9', 'None', 'TEX', 'bn_trial', 'dset85', 'None']\n",
      "(20,)\n",
      "(20,)\n",
      "['mean', 'session', 'mou_5', 'rs', 'AVG', 'raw', 'dset247', 'CR']\n",
      "(21,)\n",
      "(21,)\n",
      "['mean', 'session', 'mou_7', 'rs', 'AVG', 'raw', 'dset213', 'CR']\n",
      "(25,)\n",
      "(25,)\n",
      "['mean', 'session', 'mou_9', 'rs', 'AVG', 'raw', 'dset228', 'CR']\n",
      "(20,)\n",
      "(20,)\n",
      "['mean', 'session', 'mou_5', 'rs', 'DEL', 'raw', 'dset168', 'CR']\n",
      "(21,)\n",
      "(21,)\n",
      "['mean', 'session', 'mou_6', 'rs', 'DEL', 'raw', 'dset153', 'CR']\n",
      "(30,)\n",
      "(30,)\n",
      "['mean', 'session', 'mou_7', 'rs', 'DEL', 'raw', 'dset123', 'CR']\n",
      "(25,)\n",
      "(25,)\n",
      "['mean', 'session', 'mou_9', 'rs', 'DEL', 'raw', 'dset138', 'CR']\n",
      "(20,)\n",
      "(20,)\n",
      "['mean', 'session', 'mou_5', 'rs', 'PRE', 'raw', 'dset48', 'CR']\n",
      "(21,)\n",
      "(21,)\n",
      "['mean', 'session', 'mou_6', 'rs', 'PRE', 'raw', 'dset33', 'CR']\n",
      "(30,)\n",
      "(30,)\n",
      "['mean', 'session', 'mou_7', 'rs', 'PRE', 'raw', 'dset3', 'CR']\n",
      "(25,)\n",
      "(25,)\n",
      "['mean', 'session', 'mou_9', 'rs', 'PRE', 'raw', 'dset18', 'CR']\n",
      "(20,)\n",
      "(20,)\n",
      "['mean', 'session', 'mou_5', 'rs', 'REW', 'raw', 'dset246', 'CR']\n",
      "(21,)\n",
      "(21,)\n",
      "['mean', 'session', 'mou_7', 'rs', 'REW', 'raw', 'dset183', 'CR']\n",
      "(25,)\n",
      "(25,)\n",
      "['mean', 'session', 'mou_9', 'rs', 'REW', 'raw', 'dset198', 'CR']\n",
      "(20,)\n",
      "(20,)\n",
      "['mean', 'session', 'mou_5', 'rs', 'TEX', 'raw', 'dset108', 'CR']\n",
      "(21,)\n",
      "(21,)\n",
      "['mean', 'session', 'mou_6', 'rs', 'TEX', 'raw', 'dset93', 'CR']\n",
      "(30,)\n",
      "(30,)\n",
      "['mean', 'session', 'mou_7', 'rs', 'TEX', 'raw', 'dset63', 'CR']\n",
      "(25,)\n",
      "(25,)\n",
      "['mean', 'session', 'mou_9', 'rs', 'TEX', 'raw', 'dset78', 'CR']\n",
      "(20,)\n",
      "(20,)\n",
      "['mean', 'session', 'mou_5', 'rs', 'AVG', 'raw', 'dset249', 'FA']\n",
      "(21,)\n",
      "(6,)\n",
      "['mean', 'session', 'mou_7', 'rs', 'AVG', 'raw', 'dset214', 'FA']\n",
      "(25,)\n",
      "(21,)\n",
      "['mean', 'session', 'mou_9', 'rs', 'AVG', 'raw', 'dset229', 'FA']\n",
      "(20,)\n",
      "(8,)\n"
     ]
    },
    {
     "name": "stdout",
     "output_type": "stream",
     "text": [
      "['mean', 'session', 'mou_5', 'rs', 'DEL', 'raw', 'dset169', 'FA']\n",
      "(21,)\n",
      "(6,)\n",
      "['mean', 'session', 'mou_6', 'rs', 'DEL', 'raw', 'dset154', 'FA']\n",
      "(30,)\n",
      "(1,)\n",
      "['mean', 'session', 'mou_7', 'rs', 'DEL', 'raw', 'dset124', 'FA']\n",
      "(25,)\n",
      "(21,)\n",
      "['mean', 'session', 'mou_9', 'rs', 'DEL', 'raw', 'dset139', 'FA']\n",
      "(20,)\n",
      "(8,)\n",
      "['mean', 'session', 'mou_5', 'rs', 'PRE', 'raw', 'dset49', 'FA']\n",
      "(21,)\n",
      "(6,)\n",
      "['mean', 'session', 'mou_6', 'rs', 'PRE', 'raw', 'dset34', 'FA']\n",
      "(30,)\n",
      "(1,)\n",
      "['mean', 'session', 'mou_7', 'rs', 'PRE', 'raw', 'dset4', 'FA']\n",
      "(25,)\n",
      "(21,)\n",
      "['mean', 'session', 'mou_9', 'rs', 'PRE', 'raw', 'dset19', 'FA']\n",
      "(20,)\n",
      "(8,)\n",
      "['mean', 'session', 'mou_5', 'rs', 'REW', 'raw', 'dset248', 'FA']\n",
      "(21,)\n",
      "(6,)\n",
      "['mean', 'session', 'mou_7', 'rs', 'REW', 'raw', 'dset184', 'FA']\n",
      "(25,)\n",
      "(21,)\n",
      "['mean', 'session', 'mou_9', 'rs', 'REW', 'raw', 'dset199', 'FA']\n",
      "(20,)\n",
      "(8,)\n",
      "['mean', 'session', 'mou_5', 'rs', 'TEX', 'raw', 'dset109', 'FA']\n",
      "(21,)\n",
      "(6,)\n",
      "['mean', 'session', 'mou_6', 'rs', 'TEX', 'raw', 'dset94', 'FA']\n",
      "(30,)\n",
      "(1,)\n",
      "['mean', 'session', 'mou_7', 'rs', 'TEX', 'raw', 'dset64', 'FA']\n",
      "(25,)\n",
      "(21,)\n",
      "['mean', 'session', 'mou_9', 'rs', 'TEX', 'raw', 'dset79', 'FA']\n",
      "(20,)\n",
      "(8,)\n",
      "['mean', 'session', 'mou_5', 'rs', 'AVG', 'raw', 'dset243', 'Hit']\n",
      "(21,)\n",
      "(21,)\n",
      "['mean', 'session', 'mou_7', 'rs', 'AVG', 'raw', 'dset211', 'Hit']\n",
      "(25,)\n",
      "(25,)\n",
      "['mean', 'session', 'mou_9', 'rs', 'AVG', 'raw', 'dset226', 'Hit']\n",
      "(20,)\n",
      "(20,)\n",
      "['mean', 'session', 'mou_5', 'rs', 'DEL', 'raw', 'dset166', 'Hit']\n",
      "(21,)\n",
      "(21,)\n",
      "['mean', 'session', 'mou_6', 'rs', 'DEL', 'raw', 'dset151', 'Hit']\n",
      "(30,)\n",
      "(30,)\n",
      "['mean', 'session', 'mou_7', 'rs', 'DEL', 'raw', 'dset121', 'Hit']\n",
      "(25,)\n",
      "(25,)\n",
      "['mean', 'session', 'mou_9', 'rs', 'DEL', 'raw', 'dset136', 'Hit']\n",
      "(20,)\n",
      "(20,)\n",
      "['mean', 'session', 'mou_5', 'rs', 'PRE', 'raw', 'dset46', 'Hit']\n",
      "(21,)\n",
      "(21,)\n",
      "['mean', 'session', 'mou_6', 'rs', 'PRE', 'raw', 'dset31', 'Hit']\n",
      "(30,)\n",
      "(30,)\n",
      "['mean', 'session', 'mou_7', 'rs', 'PRE', 'raw', 'dset1', 'Hit']\n",
      "(25,)\n",
      "(25,)\n",
      "['mean', 'session', 'mou_9', 'rs', 'PRE', 'raw', 'dset16', 'Hit']\n",
      "(20,)\n",
      "(20,)\n",
      "['mean', 'session', 'mou_5', 'rs', 'REW', 'raw', 'dset242', 'Hit']\n",
      "(21,)\n",
      "(21,)\n",
      "['mean', 'session', 'mou_7', 'rs', 'REW', 'raw', 'dset181', 'Hit']\n",
      "(25,)\n",
      "(25,)\n",
      "['mean', 'session', 'mou_9', 'rs', 'REW', 'raw', 'dset196', 'Hit']\n",
      "(20,)\n",
      "(20,)\n",
      "['mean', 'session', 'mou_5', 'rs', 'TEX', 'raw', 'dset106', 'Hit']\n",
      "(21,)\n",
      "(21,)\n",
      "['mean', 'session', 'mou_6', 'rs', 'TEX', 'raw', 'dset91', 'Hit']\n",
      "(30,)\n",
      "(30,)\n",
      "['mean', 'session', 'mou_7', 'rs', 'TEX', 'raw', 'dset61', 'Hit']\n",
      "(25,)\n",
      "(25,)\n",
      "['mean', 'session', 'mou_9', 'rs', 'TEX', 'raw', 'dset76', 'Hit']\n",
      "(20,)\n",
      "(20,)\n",
      "['mean', 'session', 'mou_5', 'rs', 'AVG', 'raw', 'dset245', 'Miss']\n",
      "(21,)\n",
      "(8,)\n",
      "['mean', 'session', 'mou_7', 'rs', 'AVG', 'raw', 'dset212', 'Miss']\n",
      "(25,)\n",
      "(3,)\n",
      "['mean', 'session', 'mou_9', 'rs', 'AVG', 'raw', 'dset227', 'Miss']\n",
      "(20,)\n",
      "(14,)\n",
      "['mean', 'session', 'mou_5', 'rs', 'DEL', 'raw', 'dset167', 'Miss']\n",
      "(21,)\n",
      "(8,)\n",
      "['mean', 'session', 'mou_6', 'rs', 'DEL', 'raw', 'dset152', 'Miss']\n",
      "(30,)\n",
      "(9,)\n",
      "['mean', 'session', 'mou_7', 'rs', 'DEL', 'raw', 'dset122', 'Miss']\n",
      "(25,)\n",
      "(3,)\n",
      "['mean', 'session', 'mou_9', 'rs', 'DEL', 'raw', 'dset137', 'Miss']\n",
      "(20,)\n",
      "(14,)\n",
      "['mean', 'session', 'mou_5', 'rs', 'PRE', 'raw', 'dset47', 'Miss']\n",
      "(21,)\n",
      "(8,)\n",
      "['mean', 'session', 'mou_6', 'rs', 'PRE', 'raw', 'dset32', 'Miss']\n",
      "(30,)\n",
      "(9,)\n",
      "['mean', 'session', 'mou_7', 'rs', 'PRE', 'raw', 'dset2', 'Miss']\n",
      "(25,)\n",
      "(3,)\n",
      "['mean', 'session', 'mou_9', 'rs', 'PRE', 'raw', 'dset17', 'Miss']\n",
      "(20,)\n",
      "(14,)\n",
      "['mean', 'session', 'mou_5', 'rs', 'REW', 'raw', 'dset244', 'Miss']\n",
      "(21,)\n",
      "(8,)\n",
      "['mean', 'session', 'mou_7', 'rs', 'REW', 'raw', 'dset182', 'Miss']\n",
      "(25,)\n",
      "(3,)\n",
      "['mean', 'session', 'mou_9', 'rs', 'REW', 'raw', 'dset197', 'Miss']\n",
      "(20,)\n",
      "(14,)\n",
      "['mean', 'session', 'mou_5', 'rs', 'TEX', 'raw', 'dset107', 'Miss']\n",
      "(21,)\n",
      "(8,)\n",
      "['mean', 'session', 'mou_6', 'rs', 'TEX', 'raw', 'dset92', 'Miss']\n",
      "(30,)\n",
      "(9,)\n",
      "['mean', 'session', 'mou_7', 'rs', 'TEX', 'raw', 'dset62', 'Miss']\n",
      "(25,)\n",
      "(3,)\n",
      "['mean', 'session', 'mou_9', 'rs', 'TEX', 'raw', 'dset77', 'Miss']\n",
      "(20,)\n",
      "(14,)\n",
      "['mean', 'session', 'mou_5', 'rs', 'AVG', 'raw', 'dset241', 'None']\n",
      "(21,)\n",
      "(21,)\n",
      "['mean', 'session', 'mou_7', 'rs', 'AVG', 'raw', 'dset210', 'None']\n",
      "(25,)\n",
      "(25,)\n",
      "['mean', 'session', 'mou_9', 'rs', 'AVG', 'raw', 'dset225', 'None']\n",
      "(20,)\n",
      "(20,)\n",
      "['mean', 'session', 'mou_5', 'rs', 'DEL', 'raw', 'dset165', 'None']\n",
      "(21,)\n",
      "(21,)\n",
      "['mean', 'session', 'mou_6', 'rs', 'DEL', 'raw', 'dset150', 'None']\n",
      "(30,)\n",
      "(30,)\n",
      "['mean', 'session', 'mou_7', 'rs', 'DEL', 'raw', 'dset120', 'None']\n",
      "(25,)\n",
      "(25,)\n",
      "['mean', 'session', 'mou_9', 'rs', 'DEL', 'raw', 'dset135', 'None']\n",
      "(20,)\n",
      "(20,)\n",
      "['mean', 'session', 'mou_5', 'rs', 'PRE', 'raw', 'dset45', 'None']\n",
      "(21,)\n",
      "(21,)\n",
      "['mean', 'session', 'mou_6', 'rs', 'PRE', 'raw', 'dset30', 'None']\n",
      "(30,)\n",
      "(30,)\n",
      "['mean', 'session', 'mou_7', 'rs', 'PRE', 'raw', 'dset0', 'None']\n",
      "(25,)\n",
      "(25,)\n",
      "['mean', 'session', 'mou_9', 'rs', 'PRE', 'raw', 'dset15', 'None']\n",
      "(20,)\n",
      "(20,)\n",
      "['mean', 'session', 'mou_5', 'rs', 'REW', 'raw', 'dset240', 'None']\n",
      "(21,)\n",
      "(21,)\n",
      "['mean', 'session', 'mou_7', 'rs', 'REW', 'raw', 'dset180', 'None']\n",
      "(25,)\n",
      "(25,)\n",
      "['mean', 'session', 'mou_9', 'rs', 'REW', 'raw', 'dset195', 'None']\n",
      "(20,)\n",
      "(20,)\n",
      "['mean', 'session', 'mou_5', 'rs', 'TEX', 'raw', 'dset105', 'None']\n",
      "(21,)\n",
      "(21,)\n",
      "['mean', 'session', 'mou_6', 'rs', 'TEX', 'raw', 'dset90', 'None']\n",
      "(30,)\n",
      "(30,)\n",
      "['mean', 'session', 'mou_7', 'rs', 'TEX', 'raw', 'dset60', 'None']\n",
      "(25,)\n",
      "(25,)\n",
      "['mean', 'session', 'mou_9', 'rs', 'TEX', 'raw', 'dset75', 'None']\n",
      "(20,)\n",
      "(20,)\n"
     ]
    }
   ],
   "source": [
    "# bulk_metrics.scatter_metric_bulk(ds, 'mean', 'session', verbose=False, xlim=[0, 1],\n",
    "#                               xFunc=lambda m, l: dataDB.get_performance_mouse(m), haveRegression=True)\n",
    "\n",
    "bulk_metrics.scatter_metric_bulk(ds, 'mean', 'session', verbose=False, xFunc=None, haveRegression=False)"
   ]
  },
  {
   "cell_type": "markdown",
   "metadata": {},
   "source": [
    "### 1.3 Conditions"
   ]
  },
  {
   "cell_type": "code",
   "execution_count": 28,
   "metadata": {},
   "outputs": [
    {
     "name": "stdout",
     "output_type": "stream",
     "text": [
      "bn_session\n",
      "bn_trial\n",
      "raw\n"
     ]
    }
   ],
   "source": [
    "bulk_metrics.barplot_conditions(ds, 'mean', 'session', verbose=True, trialTypes=['Hit', 'CR'])"
   ]
  },
  {
   "cell_type": "markdown",
   "metadata": {},
   "source": [
    "## 2. Variance\n",
    "\n",
    "**TODO**\n",
    "* Plot trial variance relative to temporal variance\n",
    "* Plot mean with variance together\n",
    "\n",
    "### Pros/Cons of Baseline Normalization\n",
    "* DFF-Trial\n",
    "    - Pos: Removes dynamic baseline changing on the order of trials.\n",
    "    - Pos: Under assumption of signal-free pre-trial interval, baseline removal enhances relative change in significant activity during trial.\n",
    "    - Neg: In presence of correlation between pre-trial interval and trial signals, this procedure destroys information during trial.\n",
    "\n",
    "* DFF-Session vs ZScore-Session\n",
    "    - Both linear transforms\n",
    "    - Mean is more meaningful for DFF if pre-trial interval is at least somewhat stable\n",
    "    - Va"
   ]
  },
  {
   "cell_type": "code",
   "execution_count": null,
   "metadata": {
    "collapsed": true,
    "scrolled": true
   },
   "outputs": [],
   "source": [
    "bulk_metrics.metric_mouse_bulk(dataDB, mc, ds, 'varmean', 's', 'time', verbose=False, minTrials=50,\n",
    "                               trialTypeNames='auto', exclQueryLst=exclQueryLst)"
   ]
  },
  {
   "cell_type": "code",
   "execution_count": null,
   "metadata": {
    "collapsed": true,
    "scrolled": true
   },
   "outputs": [],
   "source": [
    "bulk_metrics.plot_metric_bulk(ds, 'varmean', 'time',\n",
    "                              ylim=[0,None], verbose=False, xFunc=lambda m, l: dataDB.get_times())"
   ]
  },
  {
   "cell_type": "markdown",
   "metadata": {},
   "source": [
    "### Session"
   ]
  },
  {
   "cell_type": "code",
   "execution_count": null,
   "metadata": {
    "collapsed": true,
    "scrolled": true
   },
   "outputs": [],
   "source": [
    "bulk_metrics.metric_mouse_bulk_vs_session(dataDB, mc, ds, \"varmean\", 'session',\n",
    "                                          trialTypeNames=[None, 'Hit', 'CR'],\n",
    "                                          minTrials=50, verbose=False, intervNames=intervNames,\n",
    "                                          exclQueryLst=exclQueryLst)"
   ]
  },
  {
   "cell_type": "code",
   "execution_count": null,
   "metadata": {
    "collapsed": true,
    "scrolled": true
   },
   "outputs": [],
   "source": [
    "bulk_metrics.scatter_metric_bulk(ds, 'varmean', 'session', verbose=False, xFunc=None, haveRegression=False)"
   ]
  },
  {
   "cell_type": "markdown",
   "metadata": {},
   "source": [
    "### Conditions"
   ]
  },
  {
   "cell_type": "code",
   "execution_count": null,
   "metadata": {
    "collapsed": true,
    "scrolled": true
   },
   "outputs": [],
   "source": [
    "bulk_metrics.barplot_conditions(ds, 'varmean', 'session', verbose=True, trialTypes=['Hit', 'CR'])"
   ]
  },
  {
   "cell_type": "markdown",
   "metadata": {},
   "source": [
    "### Test variance across channels for interesting interval\n",
    "\n",
    "* Average signal over texture presentation interval\n",
    "* Compute variance over trials for each channel\n",
    "* Compare channels"
   ]
  },
  {
   "cell_type": "code",
   "execution_count": null,
   "metadata": {
    "collapsed": true
   },
   "outputs": [],
   "source": [
    "bulk_metrics.metric_mouse_bulk(dataDB, mc, ds, 'varmean', 'p', 'channel',\n",
    "                               cropTime=('TEX', (3, 3.5)), verbose=False)"
   ]
  },
  {
   "cell_type": "code",
   "execution_count": null,
   "metadata": {
    "collapsed": true,
    "scrolled": true
   },
   "outputs": [],
   "source": [
    "bulk_metrics.plot_metric_bulk(ds, 'varmean', 'channel', yscale='log', verbose=False, # ylim=[0.005,2],\n",
    "                              dropCols=['cropTime'])"
   ]
  },
  {
   "cell_type": "markdown",
   "metadata": {
    "collapsed": true
   },
   "source": [
    "# Effective Rank\n",
    "\n",
    "### ByTime"
   ]
  },
  {
   "cell_type": "code",
   "execution_count": null,
   "metadata": {
    "collapsed": true,
    "scrolled": true
   },
   "outputs": [],
   "source": [
    "bulk_metrics.metric_mouse_bulk(dataDB, mc, ds, \"rank_effective\", 's', 'time', verbose=False,\n",
    "                               minTrials=50, trialTypeNames='auto', exclQueryLst=exclQueryLst)"
   ]
  },
  {
   "cell_type": "code",
   "execution_count": null,
   "metadata": {
    "collapsed": true,
    "scrolled": true
   },
   "outputs": [],
   "source": [
    "bulk_metrics.plot_metric_bulk(ds, 'rank_effective', 'time', ylim=[1, None], verbose=False,\n",
    "                              xFunc=lambda m, l: dataDB.get_times()) # ylim=[1,48]"
   ]
  },
  {
   "cell_type": "markdown",
   "metadata": {},
   "source": [
    "### BySession"
   ]
  },
  {
   "cell_type": "code",
   "execution_count": null,
   "metadata": {
    "collapsed": true,
    "scrolled": true
   },
   "outputs": [],
   "source": [
    "bulk_metrics.metric_mouse_bulk_vs_session(dataDB, mc, ds, \"rank_effective\", 'session', minTrials=50,\n",
    "                                          trialTypeNames=[None, 'Hit', 'CR'], verbose=False,\n",
    "                                          intervNames=intervNames, exclQueryLst=exclQueryLst)"
   ]
  },
  {
   "cell_type": "code",
   "execution_count": null,
   "metadata": {
    "collapsed": true,
    "scrolled": true
   },
   "outputs": [],
   "source": [
    "bulk_metrics.scatter_metric_bulk(ds, 'rank_effective', 'session', ylim=[1, None], verbose=False,\n",
    "                                 xFunc=None, haveRegression=False)"
   ]
  },
  {
   "cell_type": "markdown",
   "metadata": {},
   "source": [
    "### Conditions"
   ]
  },
  {
   "cell_type": "code",
   "execution_count": null,
   "metadata": {
    "collapsed": true
   },
   "outputs": [],
   "source": [
    "bulk_metrics.barplot_conditions(ds, 'rank_effective', 'session', verbose=True, trialTypes=['Hit', 'CR'])"
   ]
  },
  {
   "cell_type": "markdown",
   "metadata": {},
   "source": [
    "## Hierarchical\n",
    "\n",
    "**TODO**:\n",
    "* Add composite selectors for metric helper\n",
    "   - trialType = iGO & iNOGO\n",
    "   - cropTime = TEX & REW"
   ]
  },
  {
   "cell_type": "code",
   "execution_count": null,
   "metadata": {
    "collapsed": true
   },
   "outputs": [],
   "source": [
    "bulk_metrics.metric_mouse_bulk(dataDB, mc, ds, \"rank_effective\", '', 'flat', verbose=False,\n",
    "                               trialTypeNames='auto',\n",
    "                               perfNames='auto',\n",
    "                               intervNames=intervNames, exclQueryLst=exclQueryLst)"
   ]
  },
  {
   "cell_type": "code",
   "execution_count": null,
   "metadata": {
    "collapsed": true
   },
   "outputs": [],
   "source": [
    "df = ds.list_dsets_pd()\n",
    "df = df[df['name'] == 'flat']"
   ]
  },
  {
   "cell_type": "code",
   "execution_count": null,
   "metadata": {
    "collapsed": true
   },
   "outputs": [],
   "source": [
    "data = [np.round(ds.get_data(dset), 2) for dset in df['dset']]\n",
    "df['rez'] = data"
   ]
  },
  {
   "cell_type": "code",
   "execution_count": null,
   "metadata": {
    "collapsed": true
   },
   "outputs": [],
   "source": [
    "df.drop(['datetime', 'zscoreDim', 'dset', 'metric', 'name', 'shape', 'target_dim'], axis=1, inplace=True)"
   ]
  },
  {
   "cell_type": "code",
   "execution_count": null,
   "metadata": {
    "collapsed": true
   },
   "outputs": [],
   "source": [
    "from mesostat.utils.pandas_helper import pd_category_to_column"
   ]
  },
  {
   "cell_type": "code",
   "execution_count": null,
   "metadata": {
    "collapsed": true
   },
   "outputs": [],
   "source": [
    "index = list(set(df.columns) - {'mousename', 'rez'})\n",
    "dfMouse = df.pivot(index=index, columns='mousename', values='rez').reset_index()"
   ]
  },
  {
   "cell_type": "code",
   "execution_count": null,
   "metadata": {
    "collapsed": true,
    "scrolled": true
   },
   "outputs": [],
   "source": [
    "dfMouse[dfMouse['datatype'] == 'bn_trial']"
   ]
  },
  {
   "cell_type": "markdown",
   "metadata": {},
   "source": [
    "# Total Correlation"
   ]
  },
  {
   "cell_type": "code",
   "execution_count": null,
   "metadata": {
    "collapsed": true
   },
   "outputs": [],
   "source": [
    "# bulk_metrics.metric_mouse_bulk(dataDB, mc, ds, \"avg_entropy\", 'sp', 'time-channel', verbose=False)\n",
    "# bulk_metrics.metric_mouse_bulk(dataDB, mc, ds, \"avg_entropy\", 's', 'time', verbose=False)\n",
    "\n",
    "bulk_metrics.metric_mouse_bulk(dataDB, mc, ds, \"avg_TC\", 's', 'time', verbose=False)"
   ]
  },
  {
   "cell_type": "code",
   "execution_count": null,
   "metadata": {
    "collapsed": true,
    "scrolled": true
   },
   "outputs": [],
   "source": [
    "bulk_metrics.plot_metric_bulk(dataDB, ds, 'avg_TC', 'time', verbose=True) # ylim=[1,48]"
   ]
  },
  {
   "cell_type": "code",
   "execution_count": null,
   "metadata": {
    "collapsed": true,
    "scrolled": true
   },
   "outputs": [],
   "source": [
    "bulk_metrics.plot_TC(dataDB, ds, ylim=None, yscale=None, verbose=True)"
   ]
  },
  {
   "cell_type": "markdown",
   "metadata": {},
   "source": [
    "### Cleaning up"
   ]
  },
  {
   "cell_type": "code",
   "execution_count": null,
   "metadata": {
    "collapsed": true
   },
   "outputs": [],
   "source": [
    "with pd.option_context('display.max_rows', None, 'display.max_columns', None):\n",
    "    display(ds.list_dsets_pd().sort_values(by='datetime'))"
   ]
  },
  {
   "cell_type": "code",
   "execution_count": null,
   "metadata": {
    "collapsed": true
   },
   "outputs": [],
   "source": [
    "ds.delete_by_query(queryDict={\"metric\" : \"rank_effective\"}, timestr=\"2020-11-20 18:00:00\")"
   ]
  },
  {
   "cell_type": "code",
   "execution_count": null,
   "metadata": {
    "collapsed": true
   },
   "outputs": [],
   "source": []
  }
 ],
 "metadata": {
  "kernelspec": {
   "display_name": "Py3QT5",
   "language": "python",
   "name": "py3qt5"
  },
  "language_info": {
   "codemirror_mode": {
    "name": "ipython",
    "version": 3
   },
   "file_extension": ".py",
   "mimetype": "text/x-python",
   "name": "python",
   "nbconvert_exporter": "python",
   "pygments_lexer": "ipython3",
   "version": "3.8.5"
  }
 },
 "nbformat": 4,
 "nbformat_minor": 2
}

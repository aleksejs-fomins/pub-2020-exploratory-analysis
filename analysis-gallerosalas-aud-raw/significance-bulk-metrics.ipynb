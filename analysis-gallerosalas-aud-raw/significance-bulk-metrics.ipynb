{
 "cells": [
  {
   "cell_type": "code",
   "execution_count": 1,
   "metadata": {},
   "outputs": [
    {
     "name": "stdout",
     "output_type": "stream",
     "text": [
      "Appended root directory /media/aleksejs/DataHDD/work/codes/comp-neuro/analysis-mesoscopic/pub-2020-exploratory-analysis\n"
     ]
    }
   ],
   "source": [
    "# Standard libraries\n",
    "import numpy as np\n",
    "import pandas as pd\n",
    "import matplotlib.pyplot as plt\n",
    "from ipywidgets import IntProgress\n",
    "from IPython.display import display\n",
    "from scipy.stats import mannwhitneyu, wilcoxon\n",
    "\n",
    "# Append base directory\n",
    "import os,sys,inspect\n",
    "rootname = \"pub-2020-exploratory-analysis\"\n",
    "thispath = os.path.dirname(os.path.abspath(inspect.getfile(inspect.currentframe())))\n",
    "rootpath = os.path.join(thispath[:thispath.index(rootname)], rootname)\n",
    "sys.path.append(rootpath)\n",
    "print(\"Appended root directory\", rootpath)\n",
    "\n",
    "from mesostat.utils.qt_helper import gui_fnames, gui_fpath\n",
    "from mesostat.metric.metric import MetricCalculator\n",
    "from mesostat.utils.hdf5_io import DataStorage\n",
    "\n",
    "from lib.gallerosalas.data_fc_db_aud_raw import DataFCDatabase\n",
    "import lib.analysis.bulk_metrics as bulk_metrics\n",
    "\n",
    "%load_ext autoreload\n",
    "%autoreload 2"
   ]
  },
  {
   "cell_type": "code",
   "execution_count": 2,
   "metadata": {
    "collapsed": true
   },
   "outputs": [],
   "source": [
    "params = {}\n",
    "# params['root_path_data']  = gui_fpath(\"Path to data collection\",  './')\n",
    "# params['root_path_data'] = '/media/alyosha/Data/TE_data/yasirdata_raw/'\n",
    "params['root_path_data'] = '/media/aleksejs/DataHDD/work/data/yasir/yasirdata_aud_raw'"
   ]
  },
  {
   "cell_type": "code",
   "execution_count": 3,
   "metadata": {},
   "outputs": [
    {
     "name": "stdout",
     "output_type": "stream",
     "text": [
      "Reading channel label file\n",
      "Reading channel area file\n",
      "Reading allen brain map\n",
      "Reading task structure\n",
      "Reading session structure\n",
      "Searching for data files\n",
      "Found mice ['mou_5', 'mou_6', 'mou_7', 'mou_9']\n"
     ]
    }
   ],
   "source": [
    "dataDB = DataFCDatabase(params)"
   ]
  },
  {
   "cell_type": "code",
   "execution_count": 4,
   "metadata": {
    "collapsed": true
   },
   "outputs": [],
   "source": [
    "ds = DataStorage('gallerosalas_bulk_metrics.h5')"
   ]
  },
  {
   "cell_type": "code",
   "execution_count": 5,
   "metadata": {
    "collapsed": true
   },
   "outputs": [],
   "source": [
    "mc = MetricCalculator(serial=True, verbose=False)"
   ]
  },
  {
   "cell_type": "code",
   "execution_count": 6,
   "metadata": {},
   "outputs": [
    {
     "name": "stdout",
     "output_type": "stream",
     "text": [
      "mice {'mou_5', 'mou_6', 'mou_9', 'mou_7'}\n",
      "nSessions 4\n",
      "datatypes ['raw', 'bn_session', 'bn_trial']\n",
      "nChannel 27\n"
     ]
    }
   ],
   "source": [
    "print('mice', dataDB.mice)\n",
    "print('nSessions', len(dataDB.sessions))\n",
    "print('datatypes', dataDB.get_data_types())\n",
    "print('nChannel', dataDB.get_nchannels('mou_5'))"
   ]
  },
  {
   "cell_type": "code",
   "execution_count": 7,
   "metadata": {
    "collapsed": true
   },
   "outputs": [],
   "source": [
    "dataDB.calc_shortest_distances()"
   ]
  },
  {
   "cell_type": "markdown",
   "metadata": {},
   "source": [
    "# Bulk Metrics"
   ]
  },
  {
   "cell_type": "code",
   "execution_count": 8,
   "metadata": {
    "collapsed": true
   },
   "outputs": [],
   "source": [
    "intervNames = [\"PRE\", \"AUD\", \"DEL\", \"REW\", \"AVG\"]"
   ]
  },
  {
   "cell_type": "code",
   "execution_count": 11,
   "metadata": {
    "collapsed": true
   },
   "outputs": [],
   "source": [
    "exclQueryLst = [\n",
    "    {'datatype' : 'bn_trial', 'intervName' : 'PRE'},  # Baseline normalized\n",
    "    #{'mousename' : 'mou_6', 'intervName' : 'REW'},    # No reward for this mouse\n",
    "    #{'mousename' : 'mou_6', 'intervName' : 'AVG'},    # Makes no sense to compare: no reward and longer delay\n",
    "]"
   ]
  },
  {
   "cell_type": "markdown",
   "metadata": {},
   "source": [
    "## 1. Mean\n",
    "### 1.1. Mean vs time"
   ]
  },
  {
   "cell_type": "code",
   "execution_count": 30,
   "metadata": {
    "scrolled": true
   },
   "outputs": [
    {
     "data": {
      "application/vnd.jupyter.widget-view+json": {
       "model_id": "d7a71934f7764d5d891e4379755cf223",
       "version_major": 2,
       "version_minor": 0
      },
      "text/plain": [
       "IntProgress(value=0, description='time', max=280)"
      ]
     },
     "metadata": {},
     "output_type": "display_data"
    },
    {
     "name": "stdout",
     "output_type": "stream",
     "text": [
      "{'zscoreDim': 'rs', 'datatype': 'raw', 'intervName': 'PRE'}\n",
      "-- (2498, 20, 27)\n",
      "{'zscoreDim': 'rs', 'datatype': 'raw', 'intervName': 'AUD'}\n",
      "-- (2498, 20, 27)\n",
      "{'zscoreDim': 'rs', 'datatype': 'raw', 'intervName': 'DEL'}\n",
      "-- (2498, 20, 27)\n",
      "{'zscoreDim': 'rs', 'datatype': 'raw', 'intervName': 'REW'}\n",
      "-- (2498, 20, 27)\n",
      "{'zscoreDim': 'rs', 'datatype': 'raw', 'intervName': 'AVG'}\n",
      "-- (2498, 60, 27)\n",
      "{'zscoreDim': 'rs', 'datatype': 'raw', 'trialType': 'Hit', 'intervName': 'PRE'}\n",
      "-- (510, 20, 27)\n",
      "{'zscoreDim': 'rs', 'datatype': 'raw', 'trialType': 'Hit', 'intervName': 'AUD'}\n",
      "-- (510, 20, 27)\n",
      "{'zscoreDim': 'rs', 'datatype': 'raw', 'trialType': 'Hit', 'intervName': 'DEL'}\n",
      "-- (510, 20, 27)\n",
      "{'zscoreDim': 'rs', 'datatype': 'raw', 'trialType': 'Hit', 'intervName': 'REW'}\n",
      "-- (510, 20, 27)\n",
      "{'zscoreDim': 'rs', 'datatype': 'raw', 'trialType': 'Hit', 'intervName': 'AVG'}\n",
      "-- (510, 60, 27)\n",
      "{'zscoreDim': 'rs', 'datatype': 'raw', 'trialType': 'Miss', 'intervName': 'PRE'}\n"
     ]
    },
    {
     "name": "stderr",
     "output_type": "stream",
     "text": [
      "/media/aleksejs/DataHDD/work/codes/comp-neuro/analysis-mesoscopic/mesostat-dev/mesostat/utils/signals/filter.py:11: RuntimeWarning: Mean of empty slice\n",
      "  mu = np.nanmean(x, axis=axis).reshape(shapeNew)\n",
      "/opt/anaconda3/envs/py3qt5/lib/python3.8/site-packages/numpy/lib/nanfunctions.py:1664: RuntimeWarning: Degrees of freedom <= 0 for slice.\n",
      "  var = nanvar(a, axis=axis, dtype=dtype, out=out, ddof=ddof,\n"
     ]
    },
    {
     "name": "stdout",
     "output_type": "stream",
     "text": [
      "-- (56, 20, 27)\n",
      "{'zscoreDim': 'rs', 'datatype': 'raw', 'trialType': 'Miss', 'intervName': 'AUD'}\n",
      "-- (56, 20, 27)\n",
      "{'zscoreDim': 'rs', 'datatype': 'raw', 'trialType': 'Miss', 'intervName': 'DEL'}\n",
      "-- (56, 20, 27)\n",
      "{'zscoreDim': 'rs', 'datatype': 'raw', 'trialType': 'Miss', 'intervName': 'REW'}\n",
      "-- (56, 20, 27)\n",
      "{'zscoreDim': 'rs', 'datatype': 'raw', 'trialType': 'Miss', 'intervName': 'AVG'}\n",
      "-- (56, 60, 27)\n",
      "{'zscoreDim': 'rs', 'datatype': 'raw', 'trialType': 'CR', 'intervName': 'PRE'}\n",
      "-- (1070, 20, 27)\n",
      "{'zscoreDim': 'rs', 'datatype': 'raw', 'trialType': 'CR', 'intervName': 'AUD'}\n",
      "-- (1070, 20, 27)\n",
      "{'zscoreDim': 'rs', 'datatype': 'raw', 'trialType': 'CR', 'intervName': 'DEL'}\n",
      "-- (1070, 20, 27)\n",
      "{'zscoreDim': 'rs', 'datatype': 'raw', 'trialType': 'CR', 'intervName': 'REW'}\n",
      "-- (1070, 20, 27)\n",
      "{'zscoreDim': 'rs', 'datatype': 'raw', 'trialType': 'CR', 'intervName': 'AVG'}\n",
      "-- (1070, 60, 27)\n",
      "{'zscoreDim': 'rs', 'datatype': 'raw', 'trialType': 'FA', 'intervName': 'PRE'}\n",
      "-- (104, 20, 27)\n",
      "{'zscoreDim': 'rs', 'datatype': 'raw', 'trialType': 'FA', 'intervName': 'AUD'}\n",
      "-- (104, 20, 27)\n",
      "{'zscoreDim': 'rs', 'datatype': 'raw', 'trialType': 'FA', 'intervName': 'DEL'}\n",
      "-- (104, 20, 27)\n",
      "{'zscoreDim': 'rs', 'datatype': 'raw', 'trialType': 'FA', 'intervName': 'REW'}\n",
      "-- (104, 20, 27)\n",
      "{'zscoreDim': 'rs', 'datatype': 'raw', 'trialType': 'FA', 'intervName': 'AVG'}\n",
      "-- (104, 60, 27)\n",
      "{'datatype': 'bn_session', 'intervName': 'PRE'}\n",
      "-- (2498, 20, 27)\n",
      "{'datatype': 'bn_session', 'intervName': 'AUD'}\n",
      "-- (2498, 20, 27)\n",
      "{'datatype': 'bn_session', 'intervName': 'DEL'}\n",
      "-- (2498, 20, 27)\n",
      "{'datatype': 'bn_session', 'intervName': 'REW'}\n",
      "-- (2498, 20, 27)\n",
      "{'datatype': 'bn_session', 'intervName': 'AVG'}\n",
      "-- (2498, 60, 27)\n",
      "{'datatype': 'bn_session', 'trialType': 'Hit', 'intervName': 'PRE'}\n",
      "-- (510, 20, 27)\n",
      "{'datatype': 'bn_session', 'trialType': 'Hit', 'intervName': 'AUD'}\n",
      "-- (510, 20, 27)\n",
      "{'datatype': 'bn_session', 'trialType': 'Hit', 'intervName': 'DEL'}\n",
      "-- (510, 20, 27)\n",
      "{'datatype': 'bn_session', 'trialType': 'Hit', 'intervName': 'REW'}\n",
      "-- (510, 20, 27)\n",
      "{'datatype': 'bn_session', 'trialType': 'Hit', 'intervName': 'AVG'}\n",
      "-- (510, 60, 27)\n",
      "{'datatype': 'bn_session', 'trialType': 'Miss', 'intervName': 'PRE'}\n",
      "-- (56, 20, 27)\n",
      "{'datatype': 'bn_session', 'trialType': 'Miss', 'intervName': 'AUD'}\n",
      "-- (56, 20, 27)\n",
      "{'datatype': 'bn_session', 'trialType': 'Miss', 'intervName': 'DEL'}\n",
      "-- (56, 20, 27)\n",
      "{'datatype': 'bn_session', 'trialType': 'Miss', 'intervName': 'REW'}\n",
      "-- (56, 20, 27)\n",
      "{'datatype': 'bn_session', 'trialType': 'Miss', 'intervName': 'AVG'}\n",
      "-- (56, 60, 27)\n",
      "{'datatype': 'bn_session', 'trialType': 'CR', 'intervName': 'PRE'}\n",
      "-- (1070, 20, 27)\n",
      "{'datatype': 'bn_session', 'trialType': 'CR', 'intervName': 'AUD'}\n",
      "-- (1070, 20, 27)\n",
      "{'datatype': 'bn_session', 'trialType': 'CR', 'intervName': 'DEL'}\n",
      "-- (1070, 20, 27)\n",
      "{'datatype': 'bn_session', 'trialType': 'CR', 'intervName': 'REW'}\n",
      "-- (1070, 20, 27)\n",
      "{'datatype': 'bn_session', 'trialType': 'CR', 'intervName': 'AVG'}\n",
      "-- (1070, 60, 27)\n",
      "{'datatype': 'bn_session', 'trialType': 'FA', 'intervName': 'PRE'}\n",
      "-- (104, 20, 27)\n",
      "{'datatype': 'bn_session', 'trialType': 'FA', 'intervName': 'AUD'}\n",
      "-- (104, 20, 27)\n",
      "{'datatype': 'bn_session', 'trialType': 'FA', 'intervName': 'DEL'}\n",
      "-- (104, 20, 27)\n",
      "{'datatype': 'bn_session', 'trialType': 'FA', 'intervName': 'REW'}\n",
      "-- (104, 20, 27)\n",
      "{'datatype': 'bn_session', 'trialType': 'FA', 'intervName': 'AVG'}\n",
      "-- (104, 60, 27)\n",
      "{'datatype': 'bn_trial', 'intervName': 'AUD'}\n",
      "-- (2498, 20, 27)\n",
      "{'datatype': 'bn_trial', 'intervName': 'DEL'}\n",
      "-- (2498, 20, 27)\n",
      "{'datatype': 'bn_trial', 'intervName': 'REW'}\n",
      "-- (2498, 20, 27)\n",
      "{'datatype': 'bn_trial', 'intervName': 'AVG'}\n",
      "-- (2498, 60, 27)\n",
      "{'datatype': 'bn_trial', 'trialType': 'Hit', 'intervName': 'AUD'}\n",
      "-- (510, 20, 27)\n",
      "{'datatype': 'bn_trial', 'trialType': 'Hit', 'intervName': 'DEL'}\n",
      "-- (510, 20, 27)\n",
      "{'datatype': 'bn_trial', 'trialType': 'Hit', 'intervName': 'REW'}\n",
      "-- (510, 20, 27)\n",
      "{'datatype': 'bn_trial', 'trialType': 'Hit', 'intervName': 'AVG'}\n",
      "-- (510, 60, 27)\n",
      "{'datatype': 'bn_trial', 'trialType': 'Miss', 'intervName': 'AUD'}\n",
      "-- (56, 20, 27)\n",
      "{'datatype': 'bn_trial', 'trialType': 'Miss', 'intervName': 'DEL'}\n",
      "-- (56, 20, 27)\n",
      "{'datatype': 'bn_trial', 'trialType': 'Miss', 'intervName': 'REW'}\n",
      "-- (56, 20, 27)\n",
      "{'datatype': 'bn_trial', 'trialType': 'Miss', 'intervName': 'AVG'}\n",
      "-- (56, 60, 27)\n",
      "{'datatype': 'bn_trial', 'trialType': 'CR', 'intervName': 'AUD'}\n",
      "-- (1070, 20, 27)\n",
      "{'datatype': 'bn_trial', 'trialType': 'CR', 'intervName': 'DEL'}\n",
      "-- (1070, 20, 27)\n",
      "{'datatype': 'bn_trial', 'trialType': 'CR', 'intervName': 'REW'}\n",
      "-- (1070, 20, 27)\n",
      "{'datatype': 'bn_trial', 'trialType': 'CR', 'intervName': 'AVG'}\n",
      "-- (1070, 60, 27)\n",
      "{'datatype': 'bn_trial', 'trialType': 'FA', 'intervName': 'AUD'}\n",
      "-- (104, 20, 27)\n",
      "{'datatype': 'bn_trial', 'trialType': 'FA', 'intervName': 'DEL'}\n",
      "-- (104, 20, 27)\n",
      "{'datatype': 'bn_trial', 'trialType': 'FA', 'intervName': 'REW'}\n",
      "-- (104, 20, 27)\n",
      "{'datatype': 'bn_trial', 'trialType': 'FA', 'intervName': 'AVG'}\n",
      "-- (104, 60, 27)\n",
      "{'zscoreDim': 'rs', 'datatype': 'raw', 'intervName': 'PRE'}\n",
      "-- (3407, 20, 27)\n",
      "{'zscoreDim': 'rs', 'datatype': 'raw', 'intervName': 'AUD'}\n",
      "-- (3407, 20, 27)\n",
      "{'zscoreDim': 'rs', 'datatype': 'raw', 'intervName': 'DEL'}\n",
      "-- (3407, 20, 27)\n",
      "{'zscoreDim': 'rs', 'datatype': 'raw', 'intervName': 'REW'}\n",
      "-- (3407, 20, 27)\n",
      "{'zscoreDim': 'rs', 'datatype': 'raw', 'intervName': 'AVG'}\n",
      "-- (3407, 60, 27)\n",
      "{'zscoreDim': 'rs', 'datatype': 'raw', 'trialType': 'Hit', 'intervName': 'PRE'}\n",
      "-- (735, 20, 27)\n",
      "{'zscoreDim': 'rs', 'datatype': 'raw', 'trialType': 'Hit', 'intervName': 'AUD'}\n",
      "-- (735, 20, 27)\n",
      "{'zscoreDim': 'rs', 'datatype': 'raw', 'trialType': 'Hit', 'intervName': 'DEL'}\n",
      "-- (735, 20, 27)\n",
      "{'zscoreDim': 'rs', 'datatype': 'raw', 'trialType': 'Hit', 'intervName': 'REW'}\n",
      "-- (735, 20, 27)\n",
      "{'zscoreDim': 'rs', 'datatype': 'raw', 'trialType': 'Hit', 'intervName': 'AVG'}\n",
      "-- (735, 60, 27)\n",
      "{'zscoreDim': 'rs', 'datatype': 'raw', 'trialType': 'Miss', 'intervName': 'PRE'}\n",
      "-- (63, 20, 27)\n",
      "{'zscoreDim': 'rs', 'datatype': 'raw', 'trialType': 'Miss', 'intervName': 'AUD'}\n",
      "-- (63, 20, 27)\n",
      "{'zscoreDim': 'rs', 'datatype': 'raw', 'trialType': 'Miss', 'intervName': 'DEL'}\n",
      "-- (63, 20, 27)\n",
      "{'zscoreDim': 'rs', 'datatype': 'raw', 'trialType': 'Miss', 'intervName': 'REW'}\n",
      "-- (63, 20, 27)\n",
      "{'zscoreDim': 'rs', 'datatype': 'raw', 'trialType': 'Miss', 'intervName': 'AVG'}\n",
      "-- (63, 60, 27)\n",
      "{'zscoreDim': 'rs', 'datatype': 'raw', 'trialType': 'CR', 'intervName': 'PRE'}\n",
      "-- (1274, 20, 27)\n",
      "{'zscoreDim': 'rs', 'datatype': 'raw', 'trialType': 'CR', 'intervName': 'AUD'}\n",
      "-- (1274, 20, 27)\n",
      "{'zscoreDim': 'rs', 'datatype': 'raw', 'trialType': 'CR', 'intervName': 'DEL'}\n",
      "-- (1274, 20, 27)\n",
      "{'zscoreDim': 'rs', 'datatype': 'raw', 'trialType': 'CR', 'intervName': 'REW'}\n",
      "-- (1274, 20, 27)\n",
      "{'zscoreDim': 'rs', 'datatype': 'raw', 'trialType': 'CR', 'intervName': 'AVG'}\n",
      "-- (1274, 60, 27)\n",
      "{'zscoreDim': 'rs', 'datatype': 'raw', 'trialType': 'FA', 'intervName': 'PRE'}\n",
      "-- (269, 20, 27)\n",
      "{'zscoreDim': 'rs', 'datatype': 'raw', 'trialType': 'FA', 'intervName': 'AUD'}\n",
      "-- (269, 20, 27)\n",
      "{'zscoreDim': 'rs', 'datatype': 'raw', 'trialType': 'FA', 'intervName': 'DEL'}\n",
      "-- (269, 20, 27)\n",
      "{'zscoreDim': 'rs', 'datatype': 'raw', 'trialType': 'FA', 'intervName': 'REW'}\n",
      "-- (269, 20, 27)\n",
      "{'zscoreDim': 'rs', 'datatype': 'raw', 'trialType': 'FA', 'intervName': 'AVG'}\n",
      "-- (269, 60, 27)\n",
      "{'datatype': 'bn_session', 'intervName': 'PRE'}\n",
      "-- (3407, 20, 27)\n",
      "{'datatype': 'bn_session', 'intervName': 'AUD'}\n",
      "-- (3407, 20, 27)\n",
      "{'datatype': 'bn_session', 'intervName': 'DEL'}\n",
      "-- (3407, 20, 27)\n",
      "{'datatype': 'bn_session', 'intervName': 'REW'}\n",
      "-- (3407, 20, 27)\n",
      "{'datatype': 'bn_session', 'intervName': 'AVG'}\n",
      "-- (3407, 60, 27)\n",
      "{'datatype': 'bn_session', 'trialType': 'Hit', 'intervName': 'PRE'}\n",
      "-- (735, 20, 27)\n",
      "{'datatype': 'bn_session', 'trialType': 'Hit', 'intervName': 'AUD'}\n",
      "-- (735, 20, 27)\n",
      "{'datatype': 'bn_session', 'trialType': 'Hit', 'intervName': 'DEL'}\n",
      "-- (735, 20, 27)\n",
      "{'datatype': 'bn_session', 'trialType': 'Hit', 'intervName': 'REW'}\n",
      "-- (735, 20, 27)\n",
      "{'datatype': 'bn_session', 'trialType': 'Hit', 'intervName': 'AVG'}\n",
      "-- (735, 60, 27)\n",
      "{'datatype': 'bn_session', 'trialType': 'Miss', 'intervName': 'PRE'}\n",
      "-- (63, 20, 27)\n",
      "{'datatype': 'bn_session', 'trialType': 'Miss', 'intervName': 'AUD'}\n"
     ]
    },
    {
     "name": "stdout",
     "output_type": "stream",
     "text": [
      "-- (63, 20, 27)\n",
      "{'datatype': 'bn_session', 'trialType': 'Miss', 'intervName': 'DEL'}\n",
      "-- (63, 20, 27)\n",
      "{'datatype': 'bn_session', 'trialType': 'Miss', 'intervName': 'REW'}\n",
      "-- (63, 20, 27)\n",
      "{'datatype': 'bn_session', 'trialType': 'Miss', 'intervName': 'AVG'}\n",
      "-- (63, 60, 27)\n",
      "{'datatype': 'bn_session', 'trialType': 'CR', 'intervName': 'PRE'}\n",
      "-- (1274, 20, 27)\n",
      "{'datatype': 'bn_session', 'trialType': 'CR', 'intervName': 'AUD'}\n",
      "-- (1274, 20, 27)\n",
      "{'datatype': 'bn_session', 'trialType': 'CR', 'intervName': 'DEL'}\n",
      "-- (1274, 20, 27)\n",
      "{'datatype': 'bn_session', 'trialType': 'CR', 'intervName': 'REW'}\n",
      "-- (1274, 20, 27)\n",
      "{'datatype': 'bn_session', 'trialType': 'CR', 'intervName': 'AVG'}\n",
      "-- (1274, 60, 27)\n",
      "{'datatype': 'bn_session', 'trialType': 'FA', 'intervName': 'PRE'}\n",
      "-- (269, 20, 27)\n",
      "{'datatype': 'bn_session', 'trialType': 'FA', 'intervName': 'AUD'}\n",
      "-- (269, 20, 27)\n",
      "{'datatype': 'bn_session', 'trialType': 'FA', 'intervName': 'DEL'}\n",
      "-- (269, 20, 27)\n",
      "{'datatype': 'bn_session', 'trialType': 'FA', 'intervName': 'REW'}\n",
      "-- (269, 20, 27)\n",
      "{'datatype': 'bn_session', 'trialType': 'FA', 'intervName': 'AVG'}\n",
      "-- (269, 60, 27)\n",
      "{'datatype': 'bn_trial', 'intervName': 'AUD'}\n",
      "-- (3407, 20, 27)\n",
      "{'datatype': 'bn_trial', 'intervName': 'DEL'}\n",
      "-- (3407, 20, 27)\n",
      "{'datatype': 'bn_trial', 'intervName': 'REW'}\n",
      "-- (3407, 20, 27)\n",
      "{'datatype': 'bn_trial', 'intervName': 'AVG'}\n",
      "-- (3407, 60, 27)\n",
      "{'datatype': 'bn_trial', 'trialType': 'Hit', 'intervName': 'AUD'}\n",
      "-- (735, 20, 27)\n",
      "{'datatype': 'bn_trial', 'trialType': 'Hit', 'intervName': 'DEL'}\n",
      "-- (735, 20, 27)\n",
      "{'datatype': 'bn_trial', 'trialType': 'Hit', 'intervName': 'REW'}\n",
      "-- (735, 20, 27)\n",
      "{'datatype': 'bn_trial', 'trialType': 'Hit', 'intervName': 'AVG'}\n",
      "-- (735, 60, 27)\n",
      "{'datatype': 'bn_trial', 'trialType': 'Miss', 'intervName': 'AUD'}\n",
      "-- (63, 20, 27)\n",
      "{'datatype': 'bn_trial', 'trialType': 'Miss', 'intervName': 'DEL'}\n",
      "-- (63, 20, 27)\n",
      "{'datatype': 'bn_trial', 'trialType': 'Miss', 'intervName': 'REW'}\n",
      "-- (63, 20, 27)\n",
      "{'datatype': 'bn_trial', 'trialType': 'Miss', 'intervName': 'AVG'}\n",
      "-- (63, 60, 27)\n",
      "{'datatype': 'bn_trial', 'trialType': 'CR', 'intervName': 'AUD'}\n",
      "-- (1274, 20, 27)\n",
      "{'datatype': 'bn_trial', 'trialType': 'CR', 'intervName': 'DEL'}\n",
      "-- (1274, 20, 27)\n",
      "{'datatype': 'bn_trial', 'trialType': 'CR', 'intervName': 'REW'}\n",
      "-- (1274, 20, 27)\n",
      "{'datatype': 'bn_trial', 'trialType': 'CR', 'intervName': 'AVG'}\n",
      "-- (1274, 60, 27)\n",
      "{'datatype': 'bn_trial', 'trialType': 'FA', 'intervName': 'AUD'}\n",
      "-- (269, 20, 27)\n",
      "{'datatype': 'bn_trial', 'trialType': 'FA', 'intervName': 'DEL'}\n",
      "-- (269, 20, 27)\n",
      "{'datatype': 'bn_trial', 'trialType': 'FA', 'intervName': 'REW'}\n",
      "-- (269, 20, 27)\n",
      "{'datatype': 'bn_trial', 'trialType': 'FA', 'intervName': 'AVG'}\n",
      "-- (269, 60, 27)\n",
      "{'zscoreDim': 'rs', 'datatype': 'raw', 'intervName': 'PRE'}\n",
      "-- (2320, 20, 27)\n",
      "{'zscoreDim': 'rs', 'datatype': 'raw', 'intervName': 'AUD'}\n",
      "-- (2320, 20, 27)\n",
      "{'zscoreDim': 'rs', 'datatype': 'raw', 'intervName': 'DEL'}\n",
      "-- (2320, 20, 27)\n",
      "{'zscoreDim': 'rs', 'datatype': 'raw', 'intervName': 'REW'}\n",
      "-- (2320, 20, 27)\n",
      "{'zscoreDim': 'rs', 'datatype': 'raw', 'intervName': 'AVG'}\n",
      "-- (2320, 60, 27)\n",
      "{'zscoreDim': 'rs', 'datatype': 'raw', 'trialType': 'Hit', 'intervName': 'PRE'}\n",
      "-- (630, 20, 27)\n",
      "{'zscoreDim': 'rs', 'datatype': 'raw', 'trialType': 'Hit', 'intervName': 'AUD'}\n",
      "-- (630, 20, 27)\n",
      "{'zscoreDim': 'rs', 'datatype': 'raw', 'trialType': 'Hit', 'intervName': 'DEL'}\n",
      "-- (630, 20, 27)\n",
      "{'zscoreDim': 'rs', 'datatype': 'raw', 'trialType': 'Hit', 'intervName': 'REW'}\n",
      "-- (630, 20, 27)\n",
      "{'zscoreDim': 'rs', 'datatype': 'raw', 'trialType': 'Hit', 'intervName': 'AVG'}\n",
      "-- (630, 60, 27)\n",
      "{'zscoreDim': 'rs', 'datatype': 'raw', 'trialType': 'Miss', 'intervName': 'PRE'}\n",
      "-- (146, 20, 27)\n",
      "{'zscoreDim': 'rs', 'datatype': 'raw', 'trialType': 'Miss', 'intervName': 'AUD'}\n",
      "-- (146, 20, 27)\n",
      "{'zscoreDim': 'rs', 'datatype': 'raw', 'trialType': 'Miss', 'intervName': 'DEL'}\n",
      "-- (146, 20, 27)\n",
      "{'zscoreDim': 'rs', 'datatype': 'raw', 'trialType': 'Miss', 'intervName': 'REW'}\n",
      "-- (146, 20, 27)\n",
      "{'zscoreDim': 'rs', 'datatype': 'raw', 'trialType': 'Miss', 'intervName': 'AVG'}\n",
      "-- (146, 60, 27)\n",
      "{'zscoreDim': 'rs', 'datatype': 'raw', 'trialType': 'CR', 'intervName': 'PRE'}\n",
      "-- (1008, 20, 27)\n",
      "{'zscoreDim': 'rs', 'datatype': 'raw', 'trialType': 'CR', 'intervName': 'AUD'}\n",
      "-- (1008, 20, 27)\n",
      "{'zscoreDim': 'rs', 'datatype': 'raw', 'trialType': 'CR', 'intervName': 'DEL'}\n",
      "-- (1008, 20, 27)\n",
      "{'zscoreDim': 'rs', 'datatype': 'raw', 'trialType': 'CR', 'intervName': 'REW'}\n",
      "-- (1008, 20, 27)\n",
      "{'zscoreDim': 'rs', 'datatype': 'raw', 'trialType': 'CR', 'intervName': 'AVG'}\n",
      "-- (1008, 60, 27)\n",
      "{'zscoreDim': 'rs', 'datatype': 'raw', 'trialType': 'FA', 'intervName': 'PRE'}\n",
      "-- (52, 20, 27)\n",
      "{'zscoreDim': 'rs', 'datatype': 'raw', 'trialType': 'FA', 'intervName': 'AUD'}\n",
      "-- (52, 20, 27)\n",
      "{'zscoreDim': 'rs', 'datatype': 'raw', 'trialType': 'FA', 'intervName': 'DEL'}\n",
      "-- (52, 20, 27)\n",
      "{'zscoreDim': 'rs', 'datatype': 'raw', 'trialType': 'FA', 'intervName': 'REW'}\n",
      "-- (52, 20, 27)\n",
      "{'zscoreDim': 'rs', 'datatype': 'raw', 'trialType': 'FA', 'intervName': 'AVG'}\n",
      "-- (52, 60, 27)\n",
      "{'datatype': 'bn_session', 'intervName': 'PRE'}\n",
      "-- (2320, 20, 27)\n",
      "{'datatype': 'bn_session', 'intervName': 'AUD'}\n",
      "-- (2320, 20, 27)\n",
      "{'datatype': 'bn_session', 'intervName': 'DEL'}\n",
      "-- (2320, 20, 27)\n",
      "{'datatype': 'bn_session', 'intervName': 'REW'}\n",
      "-- (2320, 20, 27)\n",
      "{'datatype': 'bn_session', 'intervName': 'AVG'}\n",
      "-- (2320, 60, 27)\n",
      "{'datatype': 'bn_session', 'trialType': 'Hit', 'intervName': 'PRE'}\n",
      "-- (630, 20, 27)\n",
      "{'datatype': 'bn_session', 'trialType': 'Hit', 'intervName': 'AUD'}\n",
      "-- (630, 20, 27)\n",
      "{'datatype': 'bn_session', 'trialType': 'Hit', 'intervName': 'DEL'}\n",
      "-- (630, 20, 27)\n",
      "{'datatype': 'bn_session', 'trialType': 'Hit', 'intervName': 'REW'}\n",
      "-- (630, 20, 27)\n",
      "{'datatype': 'bn_session', 'trialType': 'Hit', 'intervName': 'AVG'}\n",
      "-- (630, 60, 27)\n",
      "{'datatype': 'bn_session', 'trialType': 'Miss', 'intervName': 'PRE'}\n",
      "-- (146, 20, 27)\n",
      "{'datatype': 'bn_session', 'trialType': 'Miss', 'intervName': 'AUD'}\n",
      "-- (146, 20, 27)\n",
      "{'datatype': 'bn_session', 'trialType': 'Miss', 'intervName': 'DEL'}\n",
      "-- (146, 20, 27)\n",
      "{'datatype': 'bn_session', 'trialType': 'Miss', 'intervName': 'REW'}\n",
      "-- (146, 20, 27)\n",
      "{'datatype': 'bn_session', 'trialType': 'Miss', 'intervName': 'AVG'}\n",
      "-- (146, 60, 27)\n",
      "{'datatype': 'bn_session', 'trialType': 'CR', 'intervName': 'PRE'}\n",
      "-- (1008, 20, 27)\n",
      "{'datatype': 'bn_session', 'trialType': 'CR', 'intervName': 'AUD'}\n",
      "-- (1008, 20, 27)\n",
      "{'datatype': 'bn_session', 'trialType': 'CR', 'intervName': 'DEL'}\n",
      "-- (1008, 20, 27)\n",
      "{'datatype': 'bn_session', 'trialType': 'CR', 'intervName': 'REW'}\n",
      "-- (1008, 20, 27)\n",
      "{'datatype': 'bn_session', 'trialType': 'CR', 'intervName': 'AVG'}\n",
      "-- (1008, 60, 27)\n",
      "{'datatype': 'bn_session', 'trialType': 'FA', 'intervName': 'PRE'}\n",
      "-- (52, 20, 27)\n",
      "{'datatype': 'bn_session', 'trialType': 'FA', 'intervName': 'AUD'}\n",
      "-- (52, 20, 27)\n",
      "{'datatype': 'bn_session', 'trialType': 'FA', 'intervName': 'DEL'}\n",
      "-- (52, 20, 27)\n",
      "{'datatype': 'bn_session', 'trialType': 'FA', 'intervName': 'REW'}\n",
      "-- (52, 20, 27)\n",
      "{'datatype': 'bn_session', 'trialType': 'FA', 'intervName': 'AVG'}\n",
      "-- (52, 60, 27)\n",
      "{'datatype': 'bn_trial', 'intervName': 'AUD'}\n",
      "-- (2320, 20, 27)\n",
      "{'datatype': 'bn_trial', 'intervName': 'DEL'}\n",
      "-- (2320, 20, 27)\n",
      "{'datatype': 'bn_trial', 'intervName': 'REW'}\n",
      "-- (2320, 20, 27)\n",
      "{'datatype': 'bn_trial', 'intervName': 'AVG'}\n",
      "-- (2320, 60, 27)\n",
      "{'datatype': 'bn_trial', 'trialType': 'Hit', 'intervName': 'AUD'}\n",
      "-- (630, 20, 27)\n",
      "{'datatype': 'bn_trial', 'trialType': 'Hit', 'intervName': 'DEL'}\n",
      "-- (630, 20, 27)\n",
      "{'datatype': 'bn_trial', 'trialType': 'Hit', 'intervName': 'REW'}\n",
      "-- (630, 20, 27)\n",
      "{'datatype': 'bn_trial', 'trialType': 'Hit', 'intervName': 'AVG'}\n",
      "-- (630, 60, 27)\n",
      "{'datatype': 'bn_trial', 'trialType': 'Miss', 'intervName': 'AUD'}\n",
      "-- (146, 20, 27)\n",
      "{'datatype': 'bn_trial', 'trialType': 'Miss', 'intervName': 'DEL'}\n",
      "-- (146, 20, 27)\n",
      "{'datatype': 'bn_trial', 'trialType': 'Miss', 'intervName': 'REW'}\n",
      "-- (146, 20, 27)\n",
      "{'datatype': 'bn_trial', 'trialType': 'Miss', 'intervName': 'AVG'}\n",
      "-- (146, 60, 27)\n",
      "{'datatype': 'bn_trial', 'trialType': 'CR', 'intervName': 'AUD'}\n",
      "-- (1008, 20, 27)\n",
      "{'datatype': 'bn_trial', 'trialType': 'CR', 'intervName': 'DEL'}\n",
      "-- (1008, 20, 27)\n",
      "{'datatype': 'bn_trial', 'trialType': 'CR', 'intervName': 'REW'}\n"
     ]
    },
    {
     "name": "stdout",
     "output_type": "stream",
     "text": [
      "-- (1008, 20, 27)\n",
      "{'datatype': 'bn_trial', 'trialType': 'CR', 'intervName': 'AVG'}\n",
      "-- (1008, 60, 27)\n",
      "{'datatype': 'bn_trial', 'trialType': 'FA', 'intervName': 'AUD'}\n",
      "-- (52, 20, 27)\n",
      "{'datatype': 'bn_trial', 'trialType': 'FA', 'intervName': 'DEL'}\n",
      "-- (52, 20, 27)\n",
      "{'datatype': 'bn_trial', 'trialType': 'FA', 'intervName': 'REW'}\n",
      "-- (52, 20, 27)\n",
      "{'datatype': 'bn_trial', 'trialType': 'FA', 'intervName': 'AVG'}\n",
      "-- (52, 60, 27)\n",
      "{'zscoreDim': 'rs', 'datatype': 'raw', 'intervName': 'PRE'}\n",
      "-- (4472, 20, 27)\n",
      "{'zscoreDim': 'rs', 'datatype': 'raw', 'intervName': 'AUD'}\n",
      "-- (4472, 20, 27)\n",
      "{'zscoreDim': 'rs', 'datatype': 'raw', 'intervName': 'DEL'}\n",
      "-- (4472, 20, 27)\n",
      "{'zscoreDim': 'rs', 'datatype': 'raw', 'intervName': 'REW'}\n",
      "-- (4472, 20, 27)\n",
      "{'zscoreDim': 'rs', 'datatype': 'raw', 'intervName': 'AVG'}\n",
      "-- (4472, 60, 27)\n",
      "{'zscoreDim': 'rs', 'datatype': 'raw', 'trialType': 'Hit', 'intervName': 'PRE'}\n",
      "-- (953, 20, 27)\n",
      "{'zscoreDim': 'rs', 'datatype': 'raw', 'trialType': 'Hit', 'intervName': 'AUD'}\n",
      "-- (953, 20, 27)\n",
      "{'zscoreDim': 'rs', 'datatype': 'raw', 'trialType': 'Hit', 'intervName': 'DEL'}\n",
      "-- (953, 20, 27)\n",
      "{'zscoreDim': 'rs', 'datatype': 'raw', 'trialType': 'Hit', 'intervName': 'REW'}\n",
      "-- (953, 20, 27)\n",
      "{'zscoreDim': 'rs', 'datatype': 'raw', 'trialType': 'Hit', 'intervName': 'AVG'}\n",
      "-- (953, 60, 27)\n",
      "{'zscoreDim': 'rs', 'datatype': 'raw', 'trialType': 'Miss', 'intervName': 'PRE'}\n",
      "-- (212, 20, 27)\n",
      "{'zscoreDim': 'rs', 'datatype': 'raw', 'trialType': 'Miss', 'intervName': 'AUD'}\n",
      "-- (212, 20, 27)\n",
      "{'zscoreDim': 'rs', 'datatype': 'raw', 'trialType': 'Miss', 'intervName': 'DEL'}\n",
      "-- (212, 20, 27)\n",
      "{'zscoreDim': 'rs', 'datatype': 'raw', 'trialType': 'Miss', 'intervName': 'REW'}\n",
      "-- (212, 20, 27)\n",
      "{'zscoreDim': 'rs', 'datatype': 'raw', 'trialType': 'Miss', 'intervName': 'AVG'}\n",
      "-- (212, 60, 27)\n",
      "{'zscoreDim': 'rs', 'datatype': 'raw', 'trialType': 'CR', 'intervName': 'PRE'}\n",
      "-- (1918, 20, 27)\n",
      "{'zscoreDim': 'rs', 'datatype': 'raw', 'trialType': 'CR', 'intervName': 'AUD'}\n",
      "-- (1918, 20, 27)\n",
      "{'zscoreDim': 'rs', 'datatype': 'raw', 'trialType': 'CR', 'intervName': 'DEL'}\n",
      "-- (1918, 20, 27)\n",
      "{'zscoreDim': 'rs', 'datatype': 'raw', 'trialType': 'CR', 'intervName': 'REW'}\n",
      "-- (1918, 20, 27)\n",
      "{'zscoreDim': 'rs', 'datatype': 'raw', 'trialType': 'CR', 'intervName': 'AVG'}\n",
      "-- (1918, 60, 27)\n",
      "{'zscoreDim': 'rs', 'datatype': 'raw', 'trialType': 'FA', 'intervName': 'PRE'}\n",
      "-- (170, 20, 27)\n",
      "{'zscoreDim': 'rs', 'datatype': 'raw', 'trialType': 'FA', 'intervName': 'AUD'}\n",
      "-- (170, 20, 27)\n",
      "{'zscoreDim': 'rs', 'datatype': 'raw', 'trialType': 'FA', 'intervName': 'DEL'}\n",
      "-- (170, 20, 27)\n",
      "{'zscoreDim': 'rs', 'datatype': 'raw', 'trialType': 'FA', 'intervName': 'REW'}\n",
      "-- (170, 20, 27)\n",
      "{'zscoreDim': 'rs', 'datatype': 'raw', 'trialType': 'FA', 'intervName': 'AVG'}\n",
      "-- (170, 60, 27)\n",
      "{'datatype': 'bn_session', 'intervName': 'PRE'}\n",
      "-- (4472, 20, 27)\n",
      "{'datatype': 'bn_session', 'intervName': 'AUD'}\n",
      "-- (4472, 20, 27)\n",
      "{'datatype': 'bn_session', 'intervName': 'DEL'}\n",
      "-- (4472, 20, 27)\n",
      "{'datatype': 'bn_session', 'intervName': 'REW'}\n",
      "-- (4472, 20, 27)\n",
      "{'datatype': 'bn_session', 'intervName': 'AVG'}\n",
      "-- (4472, 60, 27)\n",
      "{'datatype': 'bn_session', 'trialType': 'Hit', 'intervName': 'PRE'}\n",
      "-- (953, 20, 27)\n",
      "{'datatype': 'bn_session', 'trialType': 'Hit', 'intervName': 'AUD'}\n",
      "-- (953, 20, 27)\n",
      "{'datatype': 'bn_session', 'trialType': 'Hit', 'intervName': 'DEL'}\n",
      "-- (953, 20, 27)\n",
      "{'datatype': 'bn_session', 'trialType': 'Hit', 'intervName': 'REW'}\n",
      "-- (953, 20, 27)\n",
      "{'datatype': 'bn_session', 'trialType': 'Hit', 'intervName': 'AVG'}\n",
      "-- (953, 60, 27)\n",
      "{'datatype': 'bn_session', 'trialType': 'Miss', 'intervName': 'PRE'}\n",
      "-- (212, 20, 27)\n",
      "{'datatype': 'bn_session', 'trialType': 'Miss', 'intervName': 'AUD'}\n",
      "-- (212, 20, 27)\n",
      "{'datatype': 'bn_session', 'trialType': 'Miss', 'intervName': 'DEL'}\n",
      "-- (212, 20, 27)\n",
      "{'datatype': 'bn_session', 'trialType': 'Miss', 'intervName': 'REW'}\n",
      "-- (212, 20, 27)\n",
      "{'datatype': 'bn_session', 'trialType': 'Miss', 'intervName': 'AVG'}\n",
      "-- (212, 60, 27)\n",
      "{'datatype': 'bn_session', 'trialType': 'CR', 'intervName': 'PRE'}\n",
      "-- (1918, 20, 27)\n",
      "{'datatype': 'bn_session', 'trialType': 'CR', 'intervName': 'AUD'}\n",
      "-- (1918, 20, 27)\n",
      "{'datatype': 'bn_session', 'trialType': 'CR', 'intervName': 'DEL'}\n",
      "-- (1918, 20, 27)\n",
      "{'datatype': 'bn_session', 'trialType': 'CR', 'intervName': 'REW'}\n",
      "-- (1918, 20, 27)\n",
      "{'datatype': 'bn_session', 'trialType': 'CR', 'intervName': 'AVG'}\n",
      "-- (1918, 60, 27)\n",
      "{'datatype': 'bn_session', 'trialType': 'FA', 'intervName': 'PRE'}\n",
      "-- (170, 20, 27)\n",
      "{'datatype': 'bn_session', 'trialType': 'FA', 'intervName': 'AUD'}\n",
      "-- (170, 20, 27)\n",
      "{'datatype': 'bn_session', 'trialType': 'FA', 'intervName': 'DEL'}\n",
      "-- (170, 20, 27)\n",
      "{'datatype': 'bn_session', 'trialType': 'FA', 'intervName': 'REW'}\n",
      "-- (170, 20, 27)\n",
      "{'datatype': 'bn_session', 'trialType': 'FA', 'intervName': 'AVG'}\n",
      "-- (170, 60, 27)\n",
      "{'datatype': 'bn_trial', 'intervName': 'AUD'}\n",
      "-- (4472, 20, 27)\n",
      "{'datatype': 'bn_trial', 'intervName': 'DEL'}\n",
      "-- (4472, 20, 27)\n",
      "{'datatype': 'bn_trial', 'intervName': 'REW'}\n",
      "-- (4472, 20, 27)\n",
      "{'datatype': 'bn_trial', 'intervName': 'AVG'}\n",
      "-- (4472, 60, 27)\n",
      "{'datatype': 'bn_trial', 'trialType': 'Hit', 'intervName': 'AUD'}\n",
      "-- (953, 20, 27)\n",
      "{'datatype': 'bn_trial', 'trialType': 'Hit', 'intervName': 'DEL'}\n",
      "-- (953, 20, 27)\n",
      "{'datatype': 'bn_trial', 'trialType': 'Hit', 'intervName': 'REW'}\n",
      "-- (953, 20, 27)\n",
      "{'datatype': 'bn_trial', 'trialType': 'Hit', 'intervName': 'AVG'}\n",
      "-- (953, 60, 27)\n",
      "{'datatype': 'bn_trial', 'trialType': 'Miss', 'intervName': 'AUD'}\n",
      "-- (212, 20, 27)\n",
      "{'datatype': 'bn_trial', 'trialType': 'Miss', 'intervName': 'DEL'}\n",
      "-- (212, 20, 27)\n",
      "{'datatype': 'bn_trial', 'trialType': 'Miss', 'intervName': 'REW'}\n",
      "-- (212, 20, 27)\n",
      "{'datatype': 'bn_trial', 'trialType': 'Miss', 'intervName': 'AVG'}\n",
      "-- (212, 60, 27)\n",
      "{'datatype': 'bn_trial', 'trialType': 'CR', 'intervName': 'AUD'}\n",
      "-- (1918, 20, 27)\n",
      "{'datatype': 'bn_trial', 'trialType': 'CR', 'intervName': 'DEL'}\n",
      "-- (1918, 20, 27)\n",
      "{'datatype': 'bn_trial', 'trialType': 'CR', 'intervName': 'REW'}\n",
      "-- (1918, 20, 27)\n",
      "{'datatype': 'bn_trial', 'trialType': 'CR', 'intervName': 'AVG'}\n",
      "-- (1918, 60, 27)\n",
      "{'datatype': 'bn_trial', 'trialType': 'FA', 'intervName': 'AUD'}\n",
      "-- (170, 20, 27)\n",
      "{'datatype': 'bn_trial', 'trialType': 'FA', 'intervName': 'DEL'}\n",
      "-- (170, 20, 27)\n",
      "{'datatype': 'bn_trial', 'trialType': 'FA', 'intervName': 'REW'}\n",
      "-- (170, 20, 27)\n",
      "{'datatype': 'bn_trial', 'trialType': 'FA', 'intervName': 'AVG'}\n",
      "-- (170, 60, 27)\n"
     ]
    }
   ],
   "source": [
    "bulk_metrics.metric_mouse_bulk(dataDB, mc, ds, 'mean', 's', 'time', verbose=False, minTrials=10,\n",
    "                               intervNames=intervNames, skipExisting=True,\n",
    "                               trialTypeNames='auto', perfNames=None, exclQueryLst=exclQueryLst)"
   ]
  },
  {
   "cell_type": "code",
   "execution_count": 32,
   "metadata": {
    "scrolled": true
   },
   "outputs": [
    {
     "name": "stdout",
     "output_type": "stream",
     "text": [
      "['mean', 'time', 'mou_5', 'None', 'bn_session', 'AUD', 'dset321', 'CR']\n",
      "['mean', 'time', 'mou_6', 'None', 'bn_session', 'AUD', 'dset391', 'CR']\n",
      "['mean', 'time', 'mou_7', 'None', 'bn_session', 'AUD', 'dset531', 'CR']\n",
      "['mean', 'time', 'mou_9', 'None', 'bn_session', 'AUD', 'dset461', 'CR']\n",
      "['mean', 'time', 'mou_5', 'None', 'bn_trial', 'AUD', 'dset342', 'CR']\n",
      "['mean', 'time', 'mou_6', 'None', 'bn_trial', 'AUD', 'dset412', 'CR']\n",
      "['mean', 'time', 'mou_7', 'None', 'bn_trial', 'AUD', 'dset552', 'CR']\n",
      "['mean', 'time', 'mou_9', 'None', 'bn_trial', 'AUD', 'dset482', 'CR']\n",
      "['mean', 'time', 'mou_5', 'None', 'bn_session', 'AVG', 'dset324', 'CR']\n",
      "['mean', 'time', 'mou_6', 'None', 'bn_session', 'AVG', 'dset394', 'CR']\n",
      "['mean', 'time', 'mou_7', 'None', 'bn_session', 'AVG', 'dset534', 'CR']\n",
      "['mean', 'time', 'mou_9', 'None', 'bn_session', 'AVG', 'dset464', 'CR']\n",
      "['mean', 'time', 'mou_5', 'None', 'bn_trial', 'AVG', 'dset345', 'CR']\n",
      "['mean', 'time', 'mou_6', 'None', 'bn_trial', 'AVG', 'dset415', 'CR']\n",
      "['mean', 'time', 'mou_7', 'None', 'bn_trial', 'AVG', 'dset555', 'CR']\n",
      "['mean', 'time', 'mou_9', 'None', 'bn_trial', 'AVG', 'dset485', 'CR']\n",
      "['mean', 'time', 'mou_5', 'None', 'bn_session', 'DEL', 'dset322', 'CR']\n",
      "['mean', 'time', 'mou_6', 'None', 'bn_session', 'DEL', 'dset392', 'CR']\n",
      "['mean', 'time', 'mou_7', 'None', 'bn_session', 'DEL', 'dset532', 'CR']\n",
      "['mean', 'time', 'mou_9', 'None', 'bn_session', 'DEL', 'dset462', 'CR']\n",
      "['mean', 'time', 'mou_5', 'None', 'bn_trial', 'DEL', 'dset343', 'CR']\n",
      "['mean', 'time', 'mou_6', 'None', 'bn_trial', 'DEL', 'dset413', 'CR']\n",
      "['mean', 'time', 'mou_7', 'None', 'bn_trial', 'DEL', 'dset553', 'CR']\n",
      "['mean', 'time', 'mou_9', 'None', 'bn_trial', 'DEL', 'dset483', 'CR']\n",
      "['mean', 'time', 'mou_5', 'None', 'bn_session', 'PRE', 'dset320', 'CR']\n",
      "['mean', 'time', 'mou_6', 'None', 'bn_session', 'PRE', 'dset390', 'CR']\n",
      "['mean', 'time', 'mou_7', 'None', 'bn_session', 'PRE', 'dset530', 'CR']\n",
      "['mean', 'time', 'mou_9', 'None', 'bn_session', 'PRE', 'dset460', 'CR']\n",
      "['mean', 'time', 'mou_5', 'None', 'bn_session', 'REW', 'dset323', 'CR']\n",
      "['mean', 'time', 'mou_6', 'None', 'bn_session', 'REW', 'dset393', 'CR']\n",
      "['mean', 'time', 'mou_7', 'None', 'bn_session', 'REW', 'dset533', 'CR']\n",
      "['mean', 'time', 'mou_9', 'None', 'bn_session', 'REW', 'dset463', 'CR']\n",
      "['mean', 'time', 'mou_5', 'None', 'bn_trial', 'REW', 'dset344', 'CR']\n",
      "['mean', 'time', 'mou_6', 'None', 'bn_trial', 'REW', 'dset414', 'CR']\n",
      "['mean', 'time', 'mou_7', 'None', 'bn_trial', 'REW', 'dset554', 'CR']\n",
      "['mean', 'time', 'mou_9', 'None', 'bn_trial', 'REW', 'dset484', 'CR']\n",
      "['mean', 'time', 'mou_5', 'rs', 'raw', 'AUD', 'dset296', 'CR']\n",
      "['mean', 'time', 'mou_6', 'rs', 'raw', 'AUD', 'dset366', 'CR']\n",
      "['mean', 'time', 'mou_7', 'rs', 'raw', 'AUD', 'dset506', 'CR']\n",
      "['mean', 'time', 'mou_9', 'rs', 'raw', 'AUD', 'dset436', 'CR']\n",
      "['mean', 'time', 'mou_5', 'rs', 'raw', 'AVG', 'dset299', 'CR']\n",
      "['mean', 'time', 'mou_6', 'rs', 'raw', 'AVG', 'dset369', 'CR']\n",
      "['mean', 'time', 'mou_7', 'rs', 'raw', 'AVG', 'dset509', 'CR']\n",
      "['mean', 'time', 'mou_9', 'rs', 'raw', 'AVG', 'dset439', 'CR']\n",
      "['mean', 'time', 'mou_5', 'rs', 'raw', 'DEL', 'dset297', 'CR']\n",
      "['mean', 'time', 'mou_6', 'rs', 'raw', 'DEL', 'dset367', 'CR']\n",
      "['mean', 'time', 'mou_7', 'rs', 'raw', 'DEL', 'dset507', 'CR']\n",
      "['mean', 'time', 'mou_9', 'rs', 'raw', 'DEL', 'dset437', 'CR']\n",
      "['mean', 'time', 'mou_5', 'rs', 'raw', 'PRE', 'dset295', 'CR']\n",
      "['mean', 'time', 'mou_6', 'rs', 'raw', 'PRE', 'dset365', 'CR']\n",
      "['mean', 'time', 'mou_7', 'rs', 'raw', 'PRE', 'dset505', 'CR']\n",
      "['mean', 'time', 'mou_9', 'rs', 'raw', 'PRE', 'dset435', 'CR']\n",
      "['mean', 'time', 'mou_5', 'rs', 'raw', 'REW', 'dset298', 'CR']\n",
      "['mean', 'time', 'mou_6', 'rs', 'raw', 'REW', 'dset368', 'CR']\n",
      "['mean', 'time', 'mou_7', 'rs', 'raw', 'REW', 'dset508', 'CR']\n",
      "['mean', 'time', 'mou_9', 'rs', 'raw', 'REW', 'dset438', 'CR']\n",
      "['mean', 'time', 'mou_5', 'None', 'bn_session', 'AUD', 'dset326', 'FA']\n",
      "['mean', 'time', 'mou_6', 'None', 'bn_session', 'AUD', 'dset396', 'FA']\n",
      "['mean', 'time', 'mou_7', 'None', 'bn_session', 'AUD', 'dset536', 'FA']\n",
      "['mean', 'time', 'mou_9', 'None', 'bn_session', 'AUD', 'dset466', 'FA']\n",
      "['mean', 'time', 'mou_5', 'None', 'bn_trial', 'AUD', 'dset346', 'FA']\n",
      "['mean', 'time', 'mou_6', 'None', 'bn_trial', 'AUD', 'dset416', 'FA']\n",
      "['mean', 'time', 'mou_7', 'None', 'bn_trial', 'AUD', 'dset556', 'FA']\n",
      "['mean', 'time', 'mou_9', 'None', 'bn_trial', 'AUD', 'dset486', 'FA']\n",
      "['mean', 'time', 'mou_5', 'None', 'bn_session', 'AVG', 'dset329', 'FA']\n",
      "['mean', 'time', 'mou_6', 'None', 'bn_session', 'AVG', 'dset399', 'FA']\n",
      "['mean', 'time', 'mou_7', 'None', 'bn_session', 'AVG', 'dset539', 'FA']\n",
      "['mean', 'time', 'mou_9', 'None', 'bn_session', 'AVG', 'dset469', 'FA']\n",
      "['mean', 'time', 'mou_5', 'None', 'bn_trial', 'AVG', 'dset349', 'FA']\n",
      "['mean', 'time', 'mou_6', 'None', 'bn_trial', 'AVG', 'dset419', 'FA']\n",
      "['mean', 'time', 'mou_7', 'None', 'bn_trial', 'AVG', 'dset559', 'FA']\n",
      "['mean', 'time', 'mou_9', 'None', 'bn_trial', 'AVG', 'dset489', 'FA']\n",
      "['mean', 'time', 'mou_5', 'None', 'bn_session', 'DEL', 'dset327', 'FA']\n",
      "['mean', 'time', 'mou_6', 'None', 'bn_session', 'DEL', 'dset397', 'FA']\n",
      "['mean', 'time', 'mou_7', 'None', 'bn_session', 'DEL', 'dset537', 'FA']\n",
      "['mean', 'time', 'mou_9', 'None', 'bn_session', 'DEL', 'dset467', 'FA']\n",
      "['mean', 'time', 'mou_5', 'None', 'bn_trial', 'DEL', 'dset347', 'FA']\n",
      "['mean', 'time', 'mou_6', 'None', 'bn_trial', 'DEL', 'dset417', 'FA']\n",
      "['mean', 'time', 'mou_7', 'None', 'bn_trial', 'DEL', 'dset557', 'FA']\n",
      "['mean', 'time', 'mou_9', 'None', 'bn_trial', 'DEL', 'dset487', 'FA']\n",
      "['mean', 'time', 'mou_5', 'None', 'bn_session', 'PRE', 'dset325', 'FA']\n",
      "['mean', 'time', 'mou_6', 'None', 'bn_session', 'PRE', 'dset395', 'FA']\n",
      "['mean', 'time', 'mou_7', 'None', 'bn_session', 'PRE', 'dset535', 'FA']\n",
      "['mean', 'time', 'mou_9', 'None', 'bn_session', 'PRE', 'dset465', 'FA']\n",
      "['mean', 'time', 'mou_5', 'None', 'bn_session', 'REW', 'dset328', 'FA']\n",
      "['mean', 'time', 'mou_6', 'None', 'bn_session', 'REW', 'dset398', 'FA']\n",
      "['mean', 'time', 'mou_7', 'None', 'bn_session', 'REW', 'dset538', 'FA']\n",
      "['mean', 'time', 'mou_9', 'None', 'bn_session', 'REW', 'dset468', 'FA']\n",
      "['mean', 'time', 'mou_5', 'None', 'bn_trial', 'REW', 'dset348', 'FA']\n",
      "['mean', 'time', 'mou_6', 'None', 'bn_trial', 'REW', 'dset418', 'FA']\n",
      "['mean', 'time', 'mou_7', 'None', 'bn_trial', 'REW', 'dset558', 'FA']\n",
      "['mean', 'time', 'mou_9', 'None', 'bn_trial', 'REW', 'dset488', 'FA']\n",
      "['mean', 'time', 'mou_5', 'rs', 'raw', 'AUD', 'dset301', 'FA']\n",
      "['mean', 'time', 'mou_6', 'rs', 'raw', 'AUD', 'dset371', 'FA']\n",
      "['mean', 'time', 'mou_7', 'rs', 'raw', 'AUD', 'dset511', 'FA']\n",
      "['mean', 'time', 'mou_9', 'rs', 'raw', 'AUD', 'dset441', 'FA']\n",
      "['mean', 'time', 'mou_5', 'rs', 'raw', 'AVG', 'dset304', 'FA']\n",
      "['mean', 'time', 'mou_6', 'rs', 'raw', 'AVG', 'dset374', 'FA']\n",
      "['mean', 'time', 'mou_7', 'rs', 'raw', 'AVG', 'dset514', 'FA']\n",
      "['mean', 'time', 'mou_9', 'rs', 'raw', 'AVG', 'dset444', 'FA']\n",
      "['mean', 'time', 'mou_5', 'rs', 'raw', 'DEL', 'dset302', 'FA']\n",
      "['mean', 'time', 'mou_6', 'rs', 'raw', 'DEL', 'dset372', 'FA']\n",
      "['mean', 'time', 'mou_7', 'rs', 'raw', 'DEL', 'dset512', 'FA']\n",
      "['mean', 'time', 'mou_9', 'rs', 'raw', 'DEL', 'dset442', 'FA']\n",
      "['mean', 'time', 'mou_5', 'rs', 'raw', 'PRE', 'dset300', 'FA']\n",
      "['mean', 'time', 'mou_6', 'rs', 'raw', 'PRE', 'dset370', 'FA']\n",
      "['mean', 'time', 'mou_7', 'rs', 'raw', 'PRE', 'dset510', 'FA']\n",
      "['mean', 'time', 'mou_9', 'rs', 'raw', 'PRE', 'dset440', 'FA']\n",
      "['mean', 'time', 'mou_5', 'rs', 'raw', 'REW', 'dset303', 'FA']\n",
      "['mean', 'time', 'mou_6', 'rs', 'raw', 'REW', 'dset373', 'FA']\n",
      "['mean', 'time', 'mou_7', 'rs', 'raw', 'REW', 'dset513', 'FA']\n",
      "['mean', 'time', 'mou_9', 'rs', 'raw', 'REW', 'dset443', 'FA']\n",
      "['mean', 'time', 'mou_5', 'None', 'bn_session', 'AUD', 'dset311', 'Hit']\n",
      "['mean', 'time', 'mou_6', 'None', 'bn_session', 'AUD', 'dset381', 'Hit']\n",
      "['mean', 'time', 'mou_7', 'None', 'bn_session', 'AUD', 'dset521', 'Hit']\n",
      "['mean', 'time', 'mou_9', 'None', 'bn_session', 'AUD', 'dset451', 'Hit']\n",
      "['mean', 'time', 'mou_5', 'None', 'bn_trial', 'AUD', 'dset334', 'Hit']\n",
      "['mean', 'time', 'mou_6', 'None', 'bn_trial', 'AUD', 'dset404', 'Hit']\n",
      "['mean', 'time', 'mou_7', 'None', 'bn_trial', 'AUD', 'dset544', 'Hit']\n",
      "['mean', 'time', 'mou_9', 'None', 'bn_trial', 'AUD', 'dset474', 'Hit']\n"
     ]
    },
    {
     "name": "stdout",
     "output_type": "stream",
     "text": [
      "['mean', 'time', 'mou_5', 'None', 'bn_session', 'AVG', 'dset314', 'Hit']\n",
      "['mean', 'time', 'mou_6', 'None', 'bn_session', 'AVG', 'dset384', 'Hit']\n",
      "['mean', 'time', 'mou_7', 'None', 'bn_session', 'AVG', 'dset524', 'Hit']\n",
      "['mean', 'time', 'mou_9', 'None', 'bn_session', 'AVG', 'dset454', 'Hit']\n",
      "['mean', 'time', 'mou_5', 'None', 'bn_trial', 'AVG', 'dset337', 'Hit']\n",
      "['mean', 'time', 'mou_6', 'None', 'bn_trial', 'AVG', 'dset407', 'Hit']\n",
      "['mean', 'time', 'mou_7', 'None', 'bn_trial', 'AVG', 'dset547', 'Hit']\n",
      "['mean', 'time', 'mou_9', 'None', 'bn_trial', 'AVG', 'dset477', 'Hit']\n",
      "['mean', 'time', 'mou_5', 'None', 'bn_session', 'DEL', 'dset312', 'Hit']\n",
      "['mean', 'time', 'mou_6', 'None', 'bn_session', 'DEL', 'dset382', 'Hit']\n",
      "['mean', 'time', 'mou_7', 'None', 'bn_session', 'DEL', 'dset522', 'Hit']\n",
      "['mean', 'time', 'mou_9', 'None', 'bn_session', 'DEL', 'dset452', 'Hit']\n",
      "['mean', 'time', 'mou_5', 'None', 'bn_trial', 'DEL', 'dset335', 'Hit']\n",
      "['mean', 'time', 'mou_6', 'None', 'bn_trial', 'DEL', 'dset405', 'Hit']\n",
      "['mean', 'time', 'mou_7', 'None', 'bn_trial', 'DEL', 'dset545', 'Hit']\n",
      "['mean', 'time', 'mou_9', 'None', 'bn_trial', 'DEL', 'dset475', 'Hit']\n",
      "['mean', 'time', 'mou_5', 'None', 'bn_session', 'PRE', 'dset310', 'Hit']\n",
      "['mean', 'time', 'mou_6', 'None', 'bn_session', 'PRE', 'dset380', 'Hit']\n",
      "['mean', 'time', 'mou_7', 'None', 'bn_session', 'PRE', 'dset520', 'Hit']\n",
      "['mean', 'time', 'mou_9', 'None', 'bn_session', 'PRE', 'dset450', 'Hit']\n",
      "['mean', 'time', 'mou_5', 'None', 'bn_session', 'REW', 'dset313', 'Hit']\n",
      "['mean', 'time', 'mou_6', 'None', 'bn_session', 'REW', 'dset383', 'Hit']\n",
      "['mean', 'time', 'mou_7', 'None', 'bn_session', 'REW', 'dset523', 'Hit']\n",
      "['mean', 'time', 'mou_9', 'None', 'bn_session', 'REW', 'dset453', 'Hit']\n",
      "['mean', 'time', 'mou_5', 'None', 'bn_trial', 'REW', 'dset336', 'Hit']\n",
      "['mean', 'time', 'mou_6', 'None', 'bn_trial', 'REW', 'dset406', 'Hit']\n",
      "['mean', 'time', 'mou_7', 'None', 'bn_trial', 'REW', 'dset546', 'Hit']\n",
      "['mean', 'time', 'mou_9', 'None', 'bn_trial', 'REW', 'dset476', 'Hit']\n",
      "['mean', 'time', 'mou_5', 'rs', 'raw', 'AUD', 'dset286', 'Hit']\n",
      "['mean', 'time', 'mou_6', 'rs', 'raw', 'AUD', 'dset356', 'Hit']\n",
      "['mean', 'time', 'mou_7', 'rs', 'raw', 'AUD', 'dset496', 'Hit']\n",
      "['mean', 'time', 'mou_9', 'rs', 'raw', 'AUD', 'dset426', 'Hit']\n",
      "['mean', 'time', 'mou_5', 'rs', 'raw', 'AVG', 'dset289', 'Hit']\n",
      "['mean', 'time', 'mou_6', 'rs', 'raw', 'AVG', 'dset359', 'Hit']\n",
      "['mean', 'time', 'mou_7', 'rs', 'raw', 'AVG', 'dset499', 'Hit']\n",
      "['mean', 'time', 'mou_9', 'rs', 'raw', 'AVG', 'dset429', 'Hit']\n",
      "['mean', 'time', 'mou_5', 'rs', 'raw', 'DEL', 'dset287', 'Hit']\n",
      "['mean', 'time', 'mou_6', 'rs', 'raw', 'DEL', 'dset357', 'Hit']\n",
      "['mean', 'time', 'mou_7', 'rs', 'raw', 'DEL', 'dset497', 'Hit']\n",
      "['mean', 'time', 'mou_9', 'rs', 'raw', 'DEL', 'dset427', 'Hit']\n",
      "['mean', 'time', 'mou_5', 'rs', 'raw', 'PRE', 'dset285', 'Hit']\n",
      "['mean', 'time', 'mou_6', 'rs', 'raw', 'PRE', 'dset355', 'Hit']\n",
      "['mean', 'time', 'mou_7', 'rs', 'raw', 'PRE', 'dset495', 'Hit']\n",
      "['mean', 'time', 'mou_9', 'rs', 'raw', 'PRE', 'dset425', 'Hit']\n",
      "['mean', 'time', 'mou_5', 'rs', 'raw', 'REW', 'dset288', 'Hit']\n",
      "['mean', 'time', 'mou_6', 'rs', 'raw', 'REW', 'dset358', 'Hit']\n",
      "['mean', 'time', 'mou_7', 'rs', 'raw', 'REW', 'dset498', 'Hit']\n",
      "['mean', 'time', 'mou_9', 'rs', 'raw', 'REW', 'dset428', 'Hit']\n",
      "['mean', 'time', 'mou_5', 'None', 'bn_session', 'AUD', 'dset316', 'Miss']\n",
      "['mean', 'time', 'mou_6', 'None', 'bn_session', 'AUD', 'dset386', 'Miss']\n",
      "['mean', 'time', 'mou_7', 'None', 'bn_session', 'AUD', 'dset526', 'Miss']\n",
      "['mean', 'time', 'mou_9', 'None', 'bn_session', 'AUD', 'dset456', 'Miss']\n",
      "['mean', 'time', 'mou_5', 'None', 'bn_trial', 'AUD', 'dset338', 'Miss']\n",
      "['mean', 'time', 'mou_6', 'None', 'bn_trial', 'AUD', 'dset408', 'Miss']\n",
      "['mean', 'time', 'mou_7', 'None', 'bn_trial', 'AUD', 'dset548', 'Miss']\n",
      "['mean', 'time', 'mou_9', 'None', 'bn_trial', 'AUD', 'dset478', 'Miss']\n",
      "['mean', 'time', 'mou_5', 'None', 'bn_session', 'AVG', 'dset319', 'Miss']\n",
      "['mean', 'time', 'mou_6', 'None', 'bn_session', 'AVG', 'dset389', 'Miss']\n",
      "['mean', 'time', 'mou_7', 'None', 'bn_session', 'AVG', 'dset529', 'Miss']\n",
      "['mean', 'time', 'mou_9', 'None', 'bn_session', 'AVG', 'dset459', 'Miss']\n",
      "['mean', 'time', 'mou_5', 'None', 'bn_trial', 'AVG', 'dset341', 'Miss']\n",
      "['mean', 'time', 'mou_6', 'None', 'bn_trial', 'AVG', 'dset411', 'Miss']\n",
      "['mean', 'time', 'mou_7', 'None', 'bn_trial', 'AVG', 'dset551', 'Miss']\n",
      "['mean', 'time', 'mou_9', 'None', 'bn_trial', 'AVG', 'dset481', 'Miss']\n",
      "['mean', 'time', 'mou_5', 'None', 'bn_session', 'DEL', 'dset317', 'Miss']\n",
      "['mean', 'time', 'mou_6', 'None', 'bn_session', 'DEL', 'dset387', 'Miss']\n",
      "['mean', 'time', 'mou_7', 'None', 'bn_session', 'DEL', 'dset527', 'Miss']\n",
      "['mean', 'time', 'mou_9', 'None', 'bn_session', 'DEL', 'dset457', 'Miss']\n",
      "['mean', 'time', 'mou_5', 'None', 'bn_trial', 'DEL', 'dset339', 'Miss']\n",
      "['mean', 'time', 'mou_6', 'None', 'bn_trial', 'DEL', 'dset409', 'Miss']\n",
      "['mean', 'time', 'mou_7', 'None', 'bn_trial', 'DEL', 'dset549', 'Miss']\n",
      "['mean', 'time', 'mou_9', 'None', 'bn_trial', 'DEL', 'dset479', 'Miss']\n",
      "['mean', 'time', 'mou_5', 'None', 'bn_session', 'PRE', 'dset315', 'Miss']\n",
      "['mean', 'time', 'mou_6', 'None', 'bn_session', 'PRE', 'dset385', 'Miss']\n",
      "['mean', 'time', 'mou_7', 'None', 'bn_session', 'PRE', 'dset525', 'Miss']\n",
      "['mean', 'time', 'mou_9', 'None', 'bn_session', 'PRE', 'dset455', 'Miss']\n",
      "['mean', 'time', 'mou_5', 'None', 'bn_session', 'REW', 'dset318', 'Miss']\n",
      "['mean', 'time', 'mou_6', 'None', 'bn_session', 'REW', 'dset388', 'Miss']\n",
      "['mean', 'time', 'mou_7', 'None', 'bn_session', 'REW', 'dset528', 'Miss']\n",
      "['mean', 'time', 'mou_9', 'None', 'bn_session', 'REW', 'dset458', 'Miss']\n",
      "['mean', 'time', 'mou_5', 'None', 'bn_trial', 'REW', 'dset340', 'Miss']\n",
      "['mean', 'time', 'mou_6', 'None', 'bn_trial', 'REW', 'dset410', 'Miss']\n",
      "['mean', 'time', 'mou_7', 'None', 'bn_trial', 'REW', 'dset550', 'Miss']\n",
      "['mean', 'time', 'mou_9', 'None', 'bn_trial', 'REW', 'dset480', 'Miss']\n",
      "['mean', 'time', 'mou_5', 'rs', 'raw', 'AUD', 'dset291', 'Miss']\n",
      "['mean', 'time', 'mou_6', 'rs', 'raw', 'AUD', 'dset361', 'Miss']\n",
      "['mean', 'time', 'mou_7', 'rs', 'raw', 'AUD', 'dset501', 'Miss']\n",
      "['mean', 'time', 'mou_9', 'rs', 'raw', 'AUD', 'dset431', 'Miss']\n",
      "['mean', 'time', 'mou_5', 'rs', 'raw', 'AVG', 'dset294', 'Miss']\n",
      "['mean', 'time', 'mou_6', 'rs', 'raw', 'AVG', 'dset364', 'Miss']\n",
      "['mean', 'time', 'mou_7', 'rs', 'raw', 'AVG', 'dset504', 'Miss']\n",
      "['mean', 'time', 'mou_9', 'rs', 'raw', 'AVG', 'dset434', 'Miss']\n",
      "['mean', 'time', 'mou_5', 'rs', 'raw', 'DEL', 'dset292', 'Miss']\n",
      "['mean', 'time', 'mou_6', 'rs', 'raw', 'DEL', 'dset362', 'Miss']\n",
      "['mean', 'time', 'mou_7', 'rs', 'raw', 'DEL', 'dset502', 'Miss']\n",
      "['mean', 'time', 'mou_9', 'rs', 'raw', 'DEL', 'dset432', 'Miss']\n",
      "['mean', 'time', 'mou_5', 'rs', 'raw', 'PRE', 'dset290', 'Miss']\n",
      "['mean', 'time', 'mou_6', 'rs', 'raw', 'PRE', 'dset360', 'Miss']\n",
      "['mean', 'time', 'mou_7', 'rs', 'raw', 'PRE', 'dset500', 'Miss']\n",
      "['mean', 'time', 'mou_9', 'rs', 'raw', 'PRE', 'dset430', 'Miss']\n",
      "['mean', 'time', 'mou_5', 'rs', 'raw', 'REW', 'dset293', 'Miss']\n",
      "['mean', 'time', 'mou_6', 'rs', 'raw', 'REW', 'dset363', 'Miss']\n",
      "['mean', 'time', 'mou_7', 'rs', 'raw', 'REW', 'dset503', 'Miss']\n",
      "['mean', 'time', 'mou_9', 'rs', 'raw', 'REW', 'dset433', 'Miss']\n",
      "['mean', 'time', 'mou_5', 'None', 'bn_session', 'AUD', 'dset306', 'None']\n",
      "['mean', 'time', 'mou_6', 'None', 'bn_session', 'AUD', 'dset376', 'None']\n",
      "['mean', 'time', 'mou_7', 'None', 'bn_session', 'AUD', 'dset516', 'None']\n",
      "['mean', 'time', 'mou_9', 'None', 'bn_session', 'AUD', 'dset446', 'None']\n",
      "['mean', 'time', 'mou_5', 'None', 'bn_trial', 'AUD', 'dset330', 'None']\n",
      "['mean', 'time', 'mou_6', 'None', 'bn_trial', 'AUD', 'dset400', 'None']\n",
      "['mean', 'time', 'mou_7', 'None', 'bn_trial', 'AUD', 'dset540', 'None']\n",
      "['mean', 'time', 'mou_9', 'None', 'bn_trial', 'AUD', 'dset470', 'None']\n",
      "['mean', 'time', 'mou_5', 'None', 'bn_session', 'AVG', 'dset309', 'None']\n",
      "['mean', 'time', 'mou_6', 'None', 'bn_session', 'AVG', 'dset379', 'None']\n",
      "['mean', 'time', 'mou_7', 'None', 'bn_session', 'AVG', 'dset519', 'None']\n",
      "['mean', 'time', 'mou_9', 'None', 'bn_session', 'AVG', 'dset449', 'None']\n",
      "['mean', 'time', 'mou_5', 'None', 'bn_trial', 'AVG', 'dset333', 'None']\n",
      "['mean', 'time', 'mou_6', 'None', 'bn_trial', 'AVG', 'dset403', 'None']\n",
      "['mean', 'time', 'mou_7', 'None', 'bn_trial', 'AVG', 'dset543', 'None']\n",
      "['mean', 'time', 'mou_9', 'None', 'bn_trial', 'AVG', 'dset473', 'None']\n",
      "['mean', 'time', 'mou_5', 'None', 'bn_session', 'DEL', 'dset307', 'None']\n",
      "['mean', 'time', 'mou_6', 'None', 'bn_session', 'DEL', 'dset377', 'None']\n",
      "['mean', 'time', 'mou_7', 'None', 'bn_session', 'DEL', 'dset517', 'None']\n",
      "['mean', 'time', 'mou_9', 'None', 'bn_session', 'DEL', 'dset447', 'None']\n"
     ]
    },
    {
     "name": "stdout",
     "output_type": "stream",
     "text": [
      "['mean', 'time', 'mou_5', 'None', 'bn_trial', 'DEL', 'dset331', 'None']\n",
      "['mean', 'time', 'mou_6', 'None', 'bn_trial', 'DEL', 'dset401', 'None']\n",
      "['mean', 'time', 'mou_7', 'None', 'bn_trial', 'DEL', 'dset541', 'None']\n",
      "['mean', 'time', 'mou_9', 'None', 'bn_trial', 'DEL', 'dset471', 'None']\n",
      "['mean', 'time', 'mou_5', 'None', 'bn_session', 'PRE', 'dset305', 'None']\n",
      "['mean', 'time', 'mou_6', 'None', 'bn_session', 'PRE', 'dset375', 'None']\n",
      "['mean', 'time', 'mou_7', 'None', 'bn_session', 'PRE', 'dset515', 'None']\n",
      "['mean', 'time', 'mou_9', 'None', 'bn_session', 'PRE', 'dset445', 'None']\n",
      "['mean', 'time', 'mou_5', 'None', 'bn_session', 'REW', 'dset308', 'None']\n",
      "['mean', 'time', 'mou_6', 'None', 'bn_session', 'REW', 'dset378', 'None']\n",
      "['mean', 'time', 'mou_7', 'None', 'bn_session', 'REW', 'dset518', 'None']\n",
      "['mean', 'time', 'mou_9', 'None', 'bn_session', 'REW', 'dset448', 'None']\n",
      "['mean', 'time', 'mou_5', 'None', 'bn_trial', 'REW', 'dset332', 'None']\n",
      "['mean', 'time', 'mou_6', 'None', 'bn_trial', 'REW', 'dset402', 'None']\n",
      "['mean', 'time', 'mou_7', 'None', 'bn_trial', 'REW', 'dset542', 'None']\n",
      "['mean', 'time', 'mou_9', 'None', 'bn_trial', 'REW', 'dset472', 'None']\n",
      "['mean', 'time', 'mou_5', 'rs', 'raw', 'AUD', 'dset281', 'None']\n",
      "['mean', 'time', 'mou_6', 'rs', 'raw', 'AUD', 'dset351', 'None']\n",
      "['mean', 'time', 'mou_7', 'rs', 'raw', 'AUD', 'dset491', 'None']\n",
      "['mean', 'time', 'mou_9', 'rs', 'raw', 'AUD', 'dset421', 'None']\n",
      "['mean', 'time', 'mou_5', 'rs', 'raw', 'AVG', 'dset284', 'None']\n",
      "['mean', 'time', 'mou_6', 'rs', 'raw', 'AVG', 'dset354', 'None']\n",
      "['mean', 'time', 'mou_7', 'rs', 'raw', 'AVG', 'dset494', 'None']\n",
      "['mean', 'time', 'mou_9', 'rs', 'raw', 'AVG', 'dset424', 'None']\n",
      "['mean', 'time', 'mou_5', 'rs', 'raw', 'DEL', 'dset282', 'None']\n",
      "['mean', 'time', 'mou_6', 'rs', 'raw', 'DEL', 'dset352', 'None']\n",
      "['mean', 'time', 'mou_7', 'rs', 'raw', 'DEL', 'dset492', 'None']\n",
      "['mean', 'time', 'mou_9', 'rs', 'raw', 'DEL', 'dset422', 'None']\n",
      "['mean', 'time', 'mou_5', 'rs', 'raw', 'PRE', 'dset280', 'None']\n",
      "['mean', 'time', 'mou_6', 'rs', 'raw', 'PRE', 'dset350', 'None']\n",
      "['mean', 'time', 'mou_7', 'rs', 'raw', 'PRE', 'dset490', 'None']\n",
      "['mean', 'time', 'mou_9', 'rs', 'raw', 'PRE', 'dset420', 'None']\n",
      "['mean', 'time', 'mou_5', 'rs', 'raw', 'REW', 'dset283', 'None']\n",
      "['mean', 'time', 'mou_6', 'rs', 'raw', 'REW', 'dset353', 'None']\n",
      "['mean', 'time', 'mou_7', 'rs', 'raw', 'REW', 'dset493', 'None']\n",
      "['mean', 'time', 'mou_9', 'rs', 'raw', 'REW', 'dset423', 'None']\n"
     ]
    }
   ],
   "source": [
    "bulk_metrics.plot_metric_bulk(ds, 'mean', 'time', verbose=False, xFunc=lambda m, l: dataDB.get_times(l))"
   ]
  },
  {
   "cell_type": "markdown",
   "metadata": {},
   "source": [
    "### 1.2. Mean vs session"
   ]
  },
  {
   "cell_type": "code",
   "execution_count": 33,
   "metadata": {
    "scrolled": true
   },
   "outputs": [
    {
     "data": {
      "application/vnd.jupyter.widget-view+json": {
       "model_id": "1e5f02a0a477434da817a82298056a58",
       "version_major": 2,
       "version_minor": 0
      },
      "text/plain": [
       "IntProgress(value=0, description='session', max=280)"
      ]
     },
     "metadata": {},
     "output_type": "display_data"
    },
    {
     "data": {
      "application/vnd.jupyter.widget-view+json": {
       "model_id": "1a187042190e4b3aba33f1c8e0b15318",
       "version_major": 2,
       "version_minor": 0
      },
      "text/plain": [
       "IntProgress(value=0, description='mou_5', max=21)"
      ]
     },
     "metadata": {},
     "output_type": "display_data"
    },
    {
     "data": {
      "application/vnd.jupyter.widget-view+json": {
       "model_id": "b6abfac2a56346b3baf54bc6885263e7",
       "version_major": 2,
       "version_minor": 0
      },
      "text/plain": [
       "IntProgress(value=0, description='mou_5', max=21)"
      ]
     },
     "metadata": {},
     "output_type": "display_data"
    },
    {
     "data": {
      "application/vnd.jupyter.widget-view+json": {
       "model_id": "d7027ba693094c23b5180b8e573f4c92",
       "version_major": 2,
       "version_minor": 0
      },
      "text/plain": [
       "IntProgress(value=0, description='mou_5', max=21)"
      ]
     },
     "metadata": {},
     "output_type": "display_data"
    },
    {
     "data": {
      "application/vnd.jupyter.widget-view+json": {
       "model_id": "5f519c6dfd5442058e6d3433babdb30d",
       "version_major": 2,
       "version_minor": 0
      },
      "text/plain": [
       "IntProgress(value=0, description='mou_5', max=21)"
      ]
     },
     "metadata": {},
     "output_type": "display_data"
    },
    {
     "data": {
      "application/vnd.jupyter.widget-view+json": {
       "model_id": "c8bfbcb1554d4ec7bbb52d9cd9595ece",
       "version_major": 2,
       "version_minor": 0
      },
      "text/plain": [
       "IntProgress(value=0, description='mou_5', max=21)"
      ]
     },
     "metadata": {},
     "output_type": "display_data"
    },
    {
     "data": {
      "application/vnd.jupyter.widget-view+json": {
       "model_id": "db319ffb04de49c191028b5d7f7b958b",
       "version_major": 2,
       "version_minor": 0
      },
      "text/plain": [
       "IntProgress(value=0, description='mou_5', max=21)"
      ]
     },
     "metadata": {},
     "output_type": "display_data"
    },
    {
     "data": {
      "application/vnd.jupyter.widget-view+json": {
       "model_id": "1afd77199eaf48628813ce57e09815e4",
       "version_major": 2,
       "version_minor": 0
      },
      "text/plain": [
       "IntProgress(value=0, description='mou_5', max=21)"
      ]
     },
     "metadata": {},
     "output_type": "display_data"
    },
    {
     "data": {
      "application/vnd.jupyter.widget-view+json": {
       "model_id": "af0abc89eec34b649840039dd8be3785",
       "version_major": 2,
       "version_minor": 0
      },
      "text/plain": [
       "IntProgress(value=0, description='mou_5', max=21)"
      ]
     },
     "metadata": {},
     "output_type": "display_data"
    },
    {
     "data": {
      "application/vnd.jupyter.widget-view+json": {
       "model_id": "46aafc5d93d24c8bb2e285d0e47de9a7",
       "version_major": 2,
       "version_minor": 0
      },
      "text/plain": [
       "IntProgress(value=0, description='mou_5', max=21)"
      ]
     },
     "metadata": {},
     "output_type": "display_data"
    },
    {
     "data": {
      "application/vnd.jupyter.widget-view+json": {
       "model_id": "e2ec2743e2964579a8504ca25657e780",
       "version_major": 2,
       "version_minor": 0
      },
      "text/plain": [
       "IntProgress(value=0, description='mou_5', max=21)"
      ]
     },
     "metadata": {},
     "output_type": "display_data"
    },
    {
     "name": "stderr",
     "output_type": "stream",
     "text": [
      "/media/aleksejs/DataHDD/work/codes/comp-neuro/analysis-mesoscopic/mesostat-dev/mesostat/utils/signals/filter.py:11: RuntimeWarning: Mean of empty slice\n",
      "  mu = np.nanmean(x, axis=axis).reshape(shapeNew)\n",
      "/opt/anaconda3/envs/py3qt5/lib/python3.8/site-packages/numpy/lib/nanfunctions.py:1664: RuntimeWarning: Degrees of freedom <= 0 for slice.\n",
      "  var = nanvar(a, axis=axis, dtype=dtype, out=out, ddof=ddof,\n"
     ]
    },
    {
     "data": {
      "application/vnd.jupyter.widget-view+json": {
       "model_id": "79e5bb94c40d46f28e8f1e41096cf3b8",
       "version_major": 2,
       "version_minor": 0
      },
      "text/plain": [
       "IntProgress(value=0, description='mou_5', max=21)"
      ]
     },
     "metadata": {},
     "output_type": "display_data"
    },
    {
     "name": "stdout",
     "output_type": "stream",
     "text": [
      "Warning: skipping session with too few trials 2\n",
      "Warning: skipping session with too few trials 4\n",
      "Warning: skipping session with too few trials 3\n",
      "Warning: skipping session with too few trials 0\n",
      "Warning: skipping session with too few trials 6\n",
      "Warning: skipping session with too few trials 2\n",
      "Warning: skipping session with too few trials 4\n",
      "Warning: skipping session with too few trials 6\n",
      "Warning: skipping session with too few trials 4\n",
      "Warning: skipping session with too few trials 2\n",
      "Warning: skipping session with too few trials 2\n",
      "Warning: skipping session with too few trials 3\n",
      "Warning: skipping session with too few trials 1\n",
      "Warning: skipping session with too few trials 1\n",
      "Warning: skipping session with too few trials 1\n",
      "Warning: skipping session with too few trials 1\n",
      "Warning: skipping session with too few trials 2\n",
      "Warning: skipping session with too few trials 1\n",
      "Warning: skipping session with too few trials 0\n",
      "Warning: skipping session with too few trials 1\n"
     ]
    },
    {
     "data": {
      "application/vnd.jupyter.widget-view+json": {
       "model_id": "9c88770753894502950c14d22d62bbaf",
       "version_major": 2,
       "version_minor": 0
      },
      "text/plain": [
       "IntProgress(value=0, description='mou_5', max=21)"
      ]
     },
     "metadata": {},
     "output_type": "display_data"
    },
    {
     "name": "stdout",
     "output_type": "stream",
     "text": [
      "Warning: skipping session with too few trials 2\n",
      "Warning: skipping session with too few trials 4\n",
      "Warning: skipping session with too few trials 3\n",
      "Warning: skipping session with too few trials 0\n",
      "Warning: skipping session with too few trials 6\n",
      "Warning: skipping session with too few trials 2\n",
      "Warning: skipping session with too few trials 4\n",
      "Warning: skipping session with too few trials 6\n",
      "Warning: skipping session with too few trials 4\n",
      "Warning: skipping session with too few trials 2\n",
      "Warning: skipping session with too few trials 2\n",
      "Warning: skipping session with too few trials 3\n",
      "Warning: skipping session with too few trials 1\n",
      "Warning: skipping session with too few trials 1\n",
      "Warning: skipping session with too few trials 1\n",
      "Warning: skipping session with too few trials 1\n",
      "Warning: skipping session with too few trials 2\n",
      "Warning: skipping session with too few trials 1\n",
      "Warning: skipping session with too few trials 0\n",
      "Warning: skipping session with too few trials 1\n"
     ]
    },
    {
     "data": {
      "application/vnd.jupyter.widget-view+json": {
       "model_id": "007cc293a92f48548509cfd9e09d3396",
       "version_major": 2,
       "version_minor": 0
      },
      "text/plain": [
       "IntProgress(value=0, description='mou_5', max=21)"
      ]
     },
     "metadata": {},
     "output_type": "display_data"
    },
    {
     "name": "stdout",
     "output_type": "stream",
     "text": [
      "Warning: skipping session with too few trials 2\n",
      "Warning: skipping session with too few trials 4\n",
      "Warning: skipping session with too few trials 3\n",
      "Warning: skipping session with too few trials 0\n",
      "Warning: skipping session with too few trials 6\n",
      "Warning: skipping session with too few trials 2\n",
      "Warning: skipping session with too few trials 4\n",
      "Warning: skipping session with too few trials 6\n",
      "Warning: skipping session with too few trials 4\n",
      "Warning: skipping session with too few trials 2\n",
      "Warning: skipping session with too few trials 2\n",
      "Warning: skipping session with too few trials 3\n",
      "Warning: skipping session with too few trials 1\n",
      "Warning: skipping session with too few trials 1\n",
      "Warning: skipping session with too few trials 1\n",
      "Warning: skipping session with too few trials 1\n",
      "Warning: skipping session with too few trials 2\n",
      "Warning: skipping session with too few trials 1\n",
      "Warning: skipping session with too few trials 0\n",
      "Warning: skipping session with too few trials 1\n"
     ]
    },
    {
     "data": {
      "application/vnd.jupyter.widget-view+json": {
       "model_id": "e914c7122b8948909407d5eaac9267dd",
       "version_major": 2,
       "version_minor": 0
      },
      "text/plain": [
       "IntProgress(value=0, description='mou_5', max=21)"
      ]
     },
     "metadata": {},
     "output_type": "display_data"
    },
    {
     "name": "stdout",
     "output_type": "stream",
     "text": [
      "Warning: skipping session with too few trials 2\n",
      "Warning: skipping session with too few trials 4\n",
      "Warning: skipping session with too few trials 3\n",
      "Warning: skipping session with too few trials 0\n",
      "Warning: skipping session with too few trials 6\n",
      "Warning: skipping session with too few trials 2\n",
      "Warning: skipping session with too few trials 4\n",
      "Warning: skipping session with too few trials 6\n",
      "Warning: skipping session with too few trials 4\n",
      "Warning: skipping session with too few trials 2\n",
      "Warning: skipping session with too few trials 2\n",
      "Warning: skipping session with too few trials 3\n",
      "Warning: skipping session with too few trials 1\n",
      "Warning: skipping session with too few trials 1\n",
      "Warning: skipping session with too few trials 1\n",
      "Warning: skipping session with too few trials 1\n",
      "Warning: skipping session with too few trials 2\n",
      "Warning: skipping session with too few trials 1\n",
      "Warning: skipping session with too few trials 0\n",
      "Warning: skipping session with too few trials 1\n"
     ]
    },
    {
     "data": {
      "application/vnd.jupyter.widget-view+json": {
       "model_id": "ec28eeda39594d82bcc35e1c905ed80f",
       "version_major": 2,
       "version_minor": 0
      },
      "text/plain": [
       "IntProgress(value=0, description='mou_5', max=21)"
      ]
     },
     "metadata": {},
     "output_type": "display_data"
    },
    {
     "name": "stdout",
     "output_type": "stream",
     "text": [
      "Warning: skipping session with too few trials 2\n",
      "Warning: skipping session with too few trials 4\n",
      "Warning: skipping session with too few trials 3\n",
      "Warning: skipping session with too few trials 0\n",
      "Warning: skipping session with too few trials 6\n",
      "Warning: skipping session with too few trials 2\n",
      "Warning: skipping session with too few trials 4\n",
      "Warning: skipping session with too few trials 6\n",
      "Warning: skipping session with too few trials 4\n",
      "Warning: skipping session with too few trials 2\n",
      "Warning: skipping session with too few trials 2\n",
      "Warning: skipping session with too few trials 3\n",
      "Warning: skipping session with too few trials 1\n",
      "Warning: skipping session with too few trials 1\n",
      "Warning: skipping session with too few trials 1\n",
      "Warning: skipping session with too few trials 1\n",
      "Warning: skipping session with too few trials 2\n",
      "Warning: skipping session with too few trials 1\n",
      "Warning: skipping session with too few trials 0\n",
      "Warning: skipping session with too few trials 1\n"
     ]
    },
    {
     "data": {
      "application/vnd.jupyter.widget-view+json": {
       "model_id": "89165b6d29724c7a8d80382489cff362",
       "version_major": 2,
       "version_minor": 0
      },
      "text/plain": [
       "IntProgress(value=0, description='mou_5', max=21)"
      ]
     },
     "metadata": {},
     "output_type": "display_data"
    },
    {
     "data": {
      "application/vnd.jupyter.widget-view+json": {
       "model_id": "7158a37650064ca6afa0ab9836b9ad17",
       "version_major": 2,
       "version_minor": 0
      },
      "text/plain": [
       "IntProgress(value=0, description='mou_5', max=21)"
      ]
     },
     "metadata": {},
     "output_type": "display_data"
    },
    {
     "data": {
      "application/vnd.jupyter.widget-view+json": {
       "model_id": "27dc4f93c0144c6c83c24db4885ba2c3",
       "version_major": 2,
       "version_minor": 0
      },
      "text/plain": [
       "IntProgress(value=0, description='mou_5', max=21)"
      ]
     },
     "metadata": {},
     "output_type": "display_data"
    },
    {
     "data": {
      "application/vnd.jupyter.widget-view+json": {
       "model_id": "7e9fda7339e24e15bff2f4c17e1b09c6",
       "version_major": 2,
       "version_minor": 0
      },
      "text/plain": [
       "IntProgress(value=0, description='mou_5', max=21)"
      ]
     },
     "metadata": {},
     "output_type": "display_data"
    },
    {
     "data": {
      "application/vnd.jupyter.widget-view+json": {
       "model_id": "f0f97944d71b496b91fc4fc799a662d3",
       "version_major": 2,
       "version_minor": 0
      },
      "text/plain": [
       "IntProgress(value=0, description='mou_5', max=21)"
      ]
     },
     "metadata": {},
     "output_type": "display_data"
    },
    {
     "data": {
      "application/vnd.jupyter.widget-view+json": {
       "model_id": "05c6f83ad07a47b8bb93ba973b278a4d",
       "version_major": 2,
       "version_minor": 0
      },
      "text/plain": [
       "IntProgress(value=0, description='mou_5', max=21)"
      ]
     },
     "metadata": {},
     "output_type": "display_data"
    },
    {
     "name": "stdout",
     "output_type": "stream",
     "text": [
      "Warning: skipping session with too few trials 3\n",
      "Warning: skipping session with too few trials 1\n",
      "Warning: skipping session with too few trials 2\n",
      "Warning: skipping session with too few trials 3\n",
      "Warning: skipping session with too few trials 9\n",
      "Warning: skipping session with too few trials 1\n",
      "Warning: skipping session with too few trials 2\n",
      "Warning: skipping session with too few trials 2\n",
      "Warning: skipping session with too few trials 7\n",
      "Warning: skipping session with too few trials 2\n",
      "Warning: skipping session with too few trials 3\n",
      "Warning: skipping session with too few trials 0\n",
      "Warning: skipping session with too few trials 3\n",
      "Warning: skipping session with too few trials 0\n",
      "Warning: skipping session with too few trials 5\n",
      "Warning: skipping session with too few trials 8\n",
      "Warning: skipping session with too few trials 1\n"
     ]
    },
    {
     "data": {
      "application/vnd.jupyter.widget-view+json": {
       "model_id": "68d8959f4b484ac3ba9b585c0e4c836e",
       "version_major": 2,
       "version_minor": 0
      },
      "text/plain": [
       "IntProgress(value=0, description='mou_5', max=21)"
      ]
     },
     "metadata": {},
     "output_type": "display_data"
    },
    {
     "name": "stdout",
     "output_type": "stream",
     "text": [
      "Warning: skipping session with too few trials 3\n",
      "Warning: skipping session with too few trials 1\n",
      "Warning: skipping session with too few trials 2\n",
      "Warning: skipping session with too few trials 3\n",
      "Warning: skipping session with too few trials 9\n",
      "Warning: skipping session with too few trials 1\n",
      "Warning: skipping session with too few trials 2\n",
      "Warning: skipping session with too few trials 2\n",
      "Warning: skipping session with too few trials 7\n",
      "Warning: skipping session with too few trials 2\n",
      "Warning: skipping session with too few trials 3\n",
      "Warning: skipping session with too few trials 0\n",
      "Warning: skipping session with too few trials 3\n",
      "Warning: skipping session with too few trials 0\n",
      "Warning: skipping session with too few trials 5\n",
      "Warning: skipping session with too few trials 8\n",
      "Warning: skipping session with too few trials 1\n"
     ]
    },
    {
     "data": {
      "application/vnd.jupyter.widget-view+json": {
       "model_id": "2d12b2a7a971444f8f1ea9cac5c08b03",
       "version_major": 2,
       "version_minor": 0
      },
      "text/plain": [
       "IntProgress(value=0, description='mou_5', max=21)"
      ]
     },
     "metadata": {},
     "output_type": "display_data"
    },
    {
     "name": "stdout",
     "output_type": "stream",
     "text": [
      "Warning: skipping session with too few trials 3\n",
      "Warning: skipping session with too few trials 1\n",
      "Warning: skipping session with too few trials 2\n",
      "Warning: skipping session with too few trials 3\n",
      "Warning: skipping session with too few trials 9\n",
      "Warning: skipping session with too few trials 1\n",
      "Warning: skipping session with too few trials 2\n",
      "Warning: skipping session with too few trials 2\n",
      "Warning: skipping session with too few trials 7\n",
      "Warning: skipping session with too few trials 2\n",
      "Warning: skipping session with too few trials 3\n",
      "Warning: skipping session with too few trials 0\n",
      "Warning: skipping session with too few trials 3\n",
      "Warning: skipping session with too few trials 0\n",
      "Warning: skipping session with too few trials 5\n",
      "Warning: skipping session with too few trials 8\n",
      "Warning: skipping session with too few trials 1\n"
     ]
    },
    {
     "data": {
      "application/vnd.jupyter.widget-view+json": {
       "model_id": "b2f66c867ac94a7d827e7ba43b30651f",
       "version_major": 2,
       "version_minor": 0
      },
      "text/plain": [
       "IntProgress(value=0, description='mou_5', max=21)"
      ]
     },
     "metadata": {},
     "output_type": "display_data"
    },
    {
     "name": "stdout",
     "output_type": "stream",
     "text": [
      "Warning: skipping session with too few trials 3\n",
      "Warning: skipping session with too few trials 1\n",
      "Warning: skipping session with too few trials 2\n",
      "Warning: skipping session with too few trials 3\n",
      "Warning: skipping session with too few trials 9\n",
      "Warning: skipping session with too few trials 1\n",
      "Warning: skipping session with too few trials 2\n",
      "Warning: skipping session with too few trials 2\n",
      "Warning: skipping session with too few trials 7\n",
      "Warning: skipping session with too few trials 2\n",
      "Warning: skipping session with too few trials 3\n",
      "Warning: skipping session with too few trials 0\n",
      "Warning: skipping session with too few trials 3\n",
      "Warning: skipping session with too few trials 0\n",
      "Warning: skipping session with too few trials 5\n",
      "Warning: skipping session with too few trials 8\n",
      "Warning: skipping session with too few trials 1\n"
     ]
    },
    {
     "data": {
      "application/vnd.jupyter.widget-view+json": {
       "model_id": "a42b572bc8cc402ab2cf3d65945136e5",
       "version_major": 2,
       "version_minor": 0
      },
      "text/plain": [
       "IntProgress(value=0, description='mou_5', max=21)"
      ]
     },
     "metadata": {},
     "output_type": "display_data"
    },
    {
     "name": "stdout",
     "output_type": "stream",
     "text": [
      "Warning: skipping session with too few trials 3\n",
      "Warning: skipping session with too few trials 1\n",
      "Warning: skipping session with too few trials 2\n",
      "Warning: skipping session with too few trials 3\n",
      "Warning: skipping session with too few trials 9\n",
      "Warning: skipping session with too few trials 1\n",
      "Warning: skipping session with too few trials 2\n",
      "Warning: skipping session with too few trials 2\n",
      "Warning: skipping session with too few trials 7\n",
      "Warning: skipping session with too few trials 2\n",
      "Warning: skipping session with too few trials 3\n",
      "Warning: skipping session with too few trials 0\n",
      "Warning: skipping session with too few trials 3\n",
      "Warning: skipping session with too few trials 0\n",
      "Warning: skipping session with too few trials 5\n",
      "Warning: skipping session with too few trials 8\n",
      "Warning: skipping session with too few trials 1\n"
     ]
    },
    {
     "data": {
      "application/vnd.jupyter.widget-view+json": {
       "model_id": "cc7ea23f9dcd48129a45ab26fc8bd48b",
       "version_major": 2,
       "version_minor": 0
      },
      "text/plain": [
       "IntProgress(value=0, description='mou_5', max=21)"
      ]
     },
     "metadata": {},
     "output_type": "display_data"
    },
    {
     "data": {
      "application/vnd.jupyter.widget-view+json": {
       "model_id": "2ad6b805129648c48cc2a542b92c6fc7",
       "version_major": 2,
       "version_minor": 0
      },
      "text/plain": [
       "IntProgress(value=0, description='mou_5', max=21)"
      ]
     },
     "metadata": {},
     "output_type": "display_data"
    },
    {
     "data": {
      "application/vnd.jupyter.widget-view+json": {
       "model_id": "3275a211b5974164a14cd6795d20b363",
       "version_major": 2,
       "version_minor": 0
      },
      "text/plain": [
       "IntProgress(value=0, description='mou_5', max=21)"
      ]
     },
     "metadata": {},
     "output_type": "display_data"
    },
    {
     "data": {
      "application/vnd.jupyter.widget-view+json": {
       "model_id": "f21fecf137bc40c5a74b55251d160855",
       "version_major": 2,
       "version_minor": 0
      },
      "text/plain": [
       "IntProgress(value=0, description='mou_5', max=21)"
      ]
     },
     "metadata": {},
     "output_type": "display_data"
    },
    {
     "data": {
      "application/vnd.jupyter.widget-view+json": {
       "model_id": "c176c13ec57a49c08dcdb67e294d5b8b",
       "version_major": 2,
       "version_minor": 0
      },
      "text/plain": [
       "IntProgress(value=0, description='mou_5', max=21)"
      ]
     },
     "metadata": {},
     "output_type": "display_data"
    },
    {
     "data": {
      "application/vnd.jupyter.widget-view+json": {
       "model_id": "7a16e3415d20452796ccd48c1d1b6236",
       "version_major": 2,
       "version_minor": 0
      },
      "text/plain": [
       "IntProgress(value=0, description='mou_5', max=21)"
      ]
     },
     "metadata": {},
     "output_type": "display_data"
    },
    {
     "data": {
      "application/vnd.jupyter.widget-view+json": {
       "model_id": "53fbaf29b21b4232a11d6190a444a65f",
       "version_major": 2,
       "version_minor": 0
      },
      "text/plain": [
       "IntProgress(value=0, description='mou_5', max=21)"
      ]
     },
     "metadata": {},
     "output_type": "display_data"
    },
    {
     "data": {
      "application/vnd.jupyter.widget-view+json": {
       "model_id": "7cd77e3a47ce4422a0b70451a4bcf604",
       "version_major": 2,
       "version_minor": 0
      },
      "text/plain": [
       "IntProgress(value=0, description='mou_5', max=21)"
      ]
     },
     "metadata": {},
     "output_type": "display_data"
    },
    {
     "data": {
      "application/vnd.jupyter.widget-view+json": {
       "model_id": "b7f93db6887f44c6a3a1e180aca7a82b",
       "version_major": 2,
       "version_minor": 0
      },
      "text/plain": [
       "IntProgress(value=0, description='mou_5', max=21)"
      ]
     },
     "metadata": {},
     "output_type": "display_data"
    },
    {
     "data": {
      "application/vnd.jupyter.widget-view+json": {
       "model_id": "26b176bceddd4031a79d47a2f8c19fdd",
       "version_major": 2,
       "version_minor": 0
      },
      "text/plain": [
       "IntProgress(value=0, description='mou_5', max=21)"
      ]
     },
     "metadata": {},
     "output_type": "display_data"
    },
    {
     "data": {
      "application/vnd.jupyter.widget-view+json": {
       "model_id": "bf41f277a77941e180549916f221a9f5",
       "version_major": 2,
       "version_minor": 0
      },
      "text/plain": [
       "IntProgress(value=0, description='mou_5', max=21)"
      ]
     },
     "metadata": {},
     "output_type": "display_data"
    },
    {
     "name": "stdout",
     "output_type": "stream",
     "text": [
      "Warning: skipping session with too few trials 2\n",
      "Warning: skipping session with too few trials 4\n",
      "Warning: skipping session with too few trials 3\n",
      "Warning: skipping session with too few trials 0\n",
      "Warning: skipping session with too few trials 6\n",
      "Warning: skipping session with too few trials 2\n",
      "Warning: skipping session with too few trials 4\n",
      "Warning: skipping session with too few trials 6\n",
      "Warning: skipping session with too few trials 4\n",
      "Warning: skipping session with too few trials 2\n",
      "Warning: skipping session with too few trials 2\n",
      "Warning: skipping session with too few trials 3\n",
      "Warning: skipping session with too few trials 1\n",
      "Warning: skipping session with too few trials 1\n",
      "Warning: skipping session with too few trials 1\n",
      "Warning: skipping session with too few trials 1\n",
      "Warning: skipping session with too few trials 2\n",
      "Warning: skipping session with too few trials 1\n",
      "Warning: skipping session with too few trials 0\n",
      "Warning: skipping session with too few trials 1\n"
     ]
    },
    {
     "data": {
      "application/vnd.jupyter.widget-view+json": {
       "model_id": "8de4ac63861440e9b76f8e2d998aab16",
       "version_major": 2,
       "version_minor": 0
      },
      "text/plain": [
       "IntProgress(value=0, description='mou_5', max=21)"
      ]
     },
     "metadata": {},
     "output_type": "display_data"
    },
    {
     "name": "stdout",
     "output_type": "stream",
     "text": [
      "Warning: skipping session with too few trials 2\n",
      "Warning: skipping session with too few trials 4\n",
      "Warning: skipping session with too few trials 3\n",
      "Warning: skipping session with too few trials 0\n",
      "Warning: skipping session with too few trials 6\n",
      "Warning: skipping session with too few trials 2\n",
      "Warning: skipping session with too few trials 4\n",
      "Warning: skipping session with too few trials 6\n",
      "Warning: skipping session with too few trials 4\n",
      "Warning: skipping session with too few trials 2\n",
      "Warning: skipping session with too few trials 2\n",
      "Warning: skipping session with too few trials 3\n",
      "Warning: skipping session with too few trials 1\n",
      "Warning: skipping session with too few trials 1\n",
      "Warning: skipping session with too few trials 1\n",
      "Warning: skipping session with too few trials 1\n",
      "Warning: skipping session with too few trials 2\n",
      "Warning: skipping session with too few trials 1\n",
      "Warning: skipping session with too few trials 0\n",
      "Warning: skipping session with too few trials 1\n"
     ]
    },
    {
     "data": {
      "application/vnd.jupyter.widget-view+json": {
       "model_id": "7e60000f539742009fedd76e8e1cda6e",
       "version_major": 2,
       "version_minor": 0
      },
      "text/plain": [
       "IntProgress(value=0, description='mou_5', max=21)"
      ]
     },
     "metadata": {},
     "output_type": "display_data"
    },
    {
     "name": "stdout",
     "output_type": "stream",
     "text": [
      "Warning: skipping session with too few trials 2\n",
      "Warning: skipping session with too few trials 4\n",
      "Warning: skipping session with too few trials 3\n",
      "Warning: skipping session with too few trials 0\n",
      "Warning: skipping session with too few trials 6\n",
      "Warning: skipping session with too few trials 2\n",
      "Warning: skipping session with too few trials 4\n",
      "Warning: skipping session with too few trials 6\n",
      "Warning: skipping session with too few trials 4\n",
      "Warning: skipping session with too few trials 2\n",
      "Warning: skipping session with too few trials 2\n",
      "Warning: skipping session with too few trials 3\n",
      "Warning: skipping session with too few trials 1\n",
      "Warning: skipping session with too few trials 1\n",
      "Warning: skipping session with too few trials 1\n",
      "Warning: skipping session with too few trials 1\n",
      "Warning: skipping session with too few trials 2\n",
      "Warning: skipping session with too few trials 1\n",
      "Warning: skipping session with too few trials 0\n",
      "Warning: skipping session with too few trials 1\n"
     ]
    },
    {
     "data": {
      "application/vnd.jupyter.widget-view+json": {
       "model_id": "98893db843184161a8dc6fcf3d06c566",
       "version_major": 2,
       "version_minor": 0
      },
      "text/plain": [
       "IntProgress(value=0, description='mou_5', max=21)"
      ]
     },
     "metadata": {},
     "output_type": "display_data"
    },
    {
     "name": "stdout",
     "output_type": "stream",
     "text": [
      "Warning: skipping session with too few trials 2\n",
      "Warning: skipping session with too few trials 4\n",
      "Warning: skipping session with too few trials 3\n",
      "Warning: skipping session with too few trials 0\n",
      "Warning: skipping session with too few trials 6\n",
      "Warning: skipping session with too few trials 2\n",
      "Warning: skipping session with too few trials 4\n",
      "Warning: skipping session with too few trials 6\n",
      "Warning: skipping session with too few trials 4\n",
      "Warning: skipping session with too few trials 2\n",
      "Warning: skipping session with too few trials 2\n",
      "Warning: skipping session with too few trials 3\n",
      "Warning: skipping session with too few trials 1\n",
      "Warning: skipping session with too few trials 1\n",
      "Warning: skipping session with too few trials 1\n",
      "Warning: skipping session with too few trials 1\n",
      "Warning: skipping session with too few trials 2\n",
      "Warning: skipping session with too few trials 1\n",
      "Warning: skipping session with too few trials 0\n",
      "Warning: skipping session with too few trials 1\n"
     ]
    },
    {
     "data": {
      "application/vnd.jupyter.widget-view+json": {
       "model_id": "3e6fb16a0d294847aea298e006c3f165",
       "version_major": 2,
       "version_minor": 0
      },
      "text/plain": [
       "IntProgress(value=0, description='mou_5', max=21)"
      ]
     },
     "metadata": {},
     "output_type": "display_data"
    },
    {
     "name": "stdout",
     "output_type": "stream",
     "text": [
      "Warning: skipping session with too few trials 2\n",
      "Warning: skipping session with too few trials 4\n",
      "Warning: skipping session with too few trials 3\n",
      "Warning: skipping session with too few trials 0\n",
      "Warning: skipping session with too few trials 6\n",
      "Warning: skipping session with too few trials 2\n",
      "Warning: skipping session with too few trials 4\n",
      "Warning: skipping session with too few trials 6\n",
      "Warning: skipping session with too few trials 4\n",
      "Warning: skipping session with too few trials 2\n",
      "Warning: skipping session with too few trials 2\n",
      "Warning: skipping session with too few trials 3\n",
      "Warning: skipping session with too few trials 1\n",
      "Warning: skipping session with too few trials 1\n",
      "Warning: skipping session with too few trials 1\n",
      "Warning: skipping session with too few trials 1\n",
      "Warning: skipping session with too few trials 2\n",
      "Warning: skipping session with too few trials 1\n",
      "Warning: skipping session with too few trials 0\n",
      "Warning: skipping session with too few trials 1\n"
     ]
    },
    {
     "data": {
      "application/vnd.jupyter.widget-view+json": {
       "model_id": "60a3f9ce1e3c4e48b628faefcf25319c",
       "version_major": 2,
       "version_minor": 0
      },
      "text/plain": [
       "IntProgress(value=0, description='mou_5', max=21)"
      ]
     },
     "metadata": {},
     "output_type": "display_data"
    },
    {
     "data": {
      "application/vnd.jupyter.widget-view+json": {
       "model_id": "d31d321e5786474882ef0fe72580fd24",
       "version_major": 2,
       "version_minor": 0
      },
      "text/plain": [
       "IntProgress(value=0, description='mou_5', max=21)"
      ]
     },
     "metadata": {},
     "output_type": "display_data"
    },
    {
     "data": {
      "application/vnd.jupyter.widget-view+json": {
       "model_id": "5bf255c91ac244a292b1ce17db3394e1",
       "version_major": 2,
       "version_minor": 0
      },
      "text/plain": [
       "IntProgress(value=0, description='mou_5', max=21)"
      ]
     },
     "metadata": {},
     "output_type": "display_data"
    },
    {
     "data": {
      "application/vnd.jupyter.widget-view+json": {
       "model_id": "7c156e3e49054ab783625c832a5a7bf7",
       "version_major": 2,
       "version_minor": 0
      },
      "text/plain": [
       "IntProgress(value=0, description='mou_5', max=21)"
      ]
     },
     "metadata": {},
     "output_type": "display_data"
    },
    {
     "data": {
      "application/vnd.jupyter.widget-view+json": {
       "model_id": "d5c5c8dc1a564378bac5b384ff38f6d4",
       "version_major": 2,
       "version_minor": 0
      },
      "text/plain": [
       "IntProgress(value=0, description='mou_5', max=21)"
      ]
     },
     "metadata": {},
     "output_type": "display_data"
    },
    {
     "data": {
      "application/vnd.jupyter.widget-view+json": {
       "model_id": "6f833c53b75549f4b4408cffc2b8e221",
       "version_major": 2,
       "version_minor": 0
      },
      "text/plain": [
       "IntProgress(value=0, description='mou_5', max=21)"
      ]
     },
     "metadata": {},
     "output_type": "display_data"
    },
    {
     "name": "stdout",
     "output_type": "stream",
     "text": [
      "Warning: skipping session with too few trials 3\n",
      "Warning: skipping session with too few trials 1\n",
      "Warning: skipping session with too few trials 2\n",
      "Warning: skipping session with too few trials 3\n",
      "Warning: skipping session with too few trials 9\n",
      "Warning: skipping session with too few trials 1\n",
      "Warning: skipping session with too few trials 2\n",
      "Warning: skipping session with too few trials 2\n",
      "Warning: skipping session with too few trials 7\n",
      "Warning: skipping session with too few trials 2\n",
      "Warning: skipping session with too few trials 3\n",
      "Warning: skipping session with too few trials 0\n",
      "Warning: skipping session with too few trials 3\n",
      "Warning: skipping session with too few trials 0\n",
      "Warning: skipping session with too few trials 5\n",
      "Warning: skipping session with too few trials 8\n",
      "Warning: skipping session with too few trials 1\n"
     ]
    },
    {
     "data": {
      "application/vnd.jupyter.widget-view+json": {
       "model_id": "95eee72540bc4ff1af9885ea9ac6bb75",
       "version_major": 2,
       "version_minor": 0
      },
      "text/plain": [
       "IntProgress(value=0, description='mou_5', max=21)"
      ]
     },
     "metadata": {},
     "output_type": "display_data"
    },
    {
     "name": "stdout",
     "output_type": "stream",
     "text": [
      "Warning: skipping session with too few trials 3\n",
      "Warning: skipping session with too few trials 1\n",
      "Warning: skipping session with too few trials 2\n",
      "Warning: skipping session with too few trials 3\n",
      "Warning: skipping session with too few trials 9\n",
      "Warning: skipping session with too few trials 1\n",
      "Warning: skipping session with too few trials 2\n",
      "Warning: skipping session with too few trials 2\n",
      "Warning: skipping session with too few trials 7\n",
      "Warning: skipping session with too few trials 2\n",
      "Warning: skipping session with too few trials 3\n",
      "Warning: skipping session with too few trials 0\n",
      "Warning: skipping session with too few trials 3\n",
      "Warning: skipping session with too few trials 0\n",
      "Warning: skipping session with too few trials 5\n",
      "Warning: skipping session with too few trials 8\n",
      "Warning: skipping session with too few trials 1\n"
     ]
    },
    {
     "data": {
      "application/vnd.jupyter.widget-view+json": {
       "model_id": "8d9a8d170008439c8dbb4805e0a94e6f",
       "version_major": 2,
       "version_minor": 0
      },
      "text/plain": [
       "IntProgress(value=0, description='mou_5', max=21)"
      ]
     },
     "metadata": {},
     "output_type": "display_data"
    },
    {
     "name": "stdout",
     "output_type": "stream",
     "text": [
      "Warning: skipping session with too few trials 3\n",
      "Warning: skipping session with too few trials 1\n",
      "Warning: skipping session with too few trials 2\n",
      "Warning: skipping session with too few trials 3\n",
      "Warning: skipping session with too few trials 9\n",
      "Warning: skipping session with too few trials 1\n",
      "Warning: skipping session with too few trials 2\n",
      "Warning: skipping session with too few trials 2\n",
      "Warning: skipping session with too few trials 7\n",
      "Warning: skipping session with too few trials 2\n",
      "Warning: skipping session with too few trials 3\n",
      "Warning: skipping session with too few trials 0\n",
      "Warning: skipping session with too few trials 3\n",
      "Warning: skipping session with too few trials 0\n",
      "Warning: skipping session with too few trials 5\n",
      "Warning: skipping session with too few trials 8\n",
      "Warning: skipping session with too few trials 1\n"
     ]
    },
    {
     "data": {
      "application/vnd.jupyter.widget-view+json": {
       "model_id": "a38f09a0bf6f4d24bf88f61edef14d16",
       "version_major": 2,
       "version_minor": 0
      },
      "text/plain": [
       "IntProgress(value=0, description='mou_5', max=21)"
      ]
     },
     "metadata": {},
     "output_type": "display_data"
    },
    {
     "name": "stdout",
     "output_type": "stream",
     "text": [
      "Warning: skipping session with too few trials 3\n",
      "Warning: skipping session with too few trials 1\n",
      "Warning: skipping session with too few trials 2\n",
      "Warning: skipping session with too few trials 3\n",
      "Warning: skipping session with too few trials 9\n",
      "Warning: skipping session with too few trials 1\n",
      "Warning: skipping session with too few trials 2\n",
      "Warning: skipping session with too few trials 2\n",
      "Warning: skipping session with too few trials 7\n",
      "Warning: skipping session with too few trials 2\n",
      "Warning: skipping session with too few trials 3\n",
      "Warning: skipping session with too few trials 0\n",
      "Warning: skipping session with too few trials 3\n",
      "Warning: skipping session with too few trials 0\n",
      "Warning: skipping session with too few trials 5\n",
      "Warning: skipping session with too few trials 8\n",
      "Warning: skipping session with too few trials 1\n"
     ]
    },
    {
     "data": {
      "application/vnd.jupyter.widget-view+json": {
       "model_id": "48f7f2e6fa1144a79eeec0f7d89437e7",
       "version_major": 2,
       "version_minor": 0
      },
      "text/plain": [
       "IntProgress(value=0, description='mou_5', max=21)"
      ]
     },
     "metadata": {},
     "output_type": "display_data"
    },
    {
     "name": "stdout",
     "output_type": "stream",
     "text": [
      "Warning: skipping session with too few trials 3\n",
      "Warning: skipping session with too few trials 1\n",
      "Warning: skipping session with too few trials 2\n",
      "Warning: skipping session with too few trials 3\n",
      "Warning: skipping session with too few trials 9\n",
      "Warning: skipping session with too few trials 1\n",
      "Warning: skipping session with too few trials 2\n",
      "Warning: skipping session with too few trials 2\n",
      "Warning: skipping session with too few trials 7\n",
      "Warning: skipping session with too few trials 2\n",
      "Warning: skipping session with too few trials 3\n",
      "Warning: skipping session with too few trials 0\n",
      "Warning: skipping session with too few trials 3\n",
      "Warning: skipping session with too few trials 0\n",
      "Warning: skipping session with too few trials 5\n",
      "Warning: skipping session with too few trials 8\n",
      "Warning: skipping session with too few trials 1\n"
     ]
    },
    {
     "data": {
      "application/vnd.jupyter.widget-view+json": {
       "model_id": "ca2c6cc64a234b619e40666e6bb89970",
       "version_major": 2,
       "version_minor": 0
      },
      "text/plain": [
       "IntProgress(value=0, description='mou_5', max=21)"
      ]
     },
     "metadata": {},
     "output_type": "display_data"
    },
    {
     "data": {
      "application/vnd.jupyter.widget-view+json": {
       "model_id": "4fea72ea9b1c4d1ebed0c792249cdda3",
       "version_major": 2,
       "version_minor": 0
      },
      "text/plain": [
       "IntProgress(value=0, description='mou_5', max=21)"
      ]
     },
     "metadata": {},
     "output_type": "display_data"
    },
    {
     "data": {
      "application/vnd.jupyter.widget-view+json": {
       "model_id": "4e33b9ee7062492e8e08fc75afb0ef3e",
       "version_major": 2,
       "version_minor": 0
      },
      "text/plain": [
       "IntProgress(value=0, description='mou_5', max=21)"
      ]
     },
     "metadata": {},
     "output_type": "display_data"
    },
    {
     "data": {
      "application/vnd.jupyter.widget-view+json": {
       "model_id": "8ae3256ff50641dcb0ba025e511b9090",
       "version_major": 2,
       "version_minor": 0
      },
      "text/plain": [
       "IntProgress(value=0, description='mou_5', max=21)"
      ]
     },
     "metadata": {},
     "output_type": "display_data"
    },
    {
     "data": {
      "application/vnd.jupyter.widget-view+json": {
       "model_id": "0c7c0c3ee9ef4a89abfa99005e0ab863",
       "version_major": 2,
       "version_minor": 0
      },
      "text/plain": [
       "IntProgress(value=0, description='mou_5', max=21)"
      ]
     },
     "metadata": {},
     "output_type": "display_data"
    },
    {
     "data": {
      "application/vnd.jupyter.widget-view+json": {
       "model_id": "5028853371c14ad69d088f3fa9ae67b7",
       "version_major": 2,
       "version_minor": 0
      },
      "text/plain": [
       "IntProgress(value=0, description='mou_5', max=21)"
      ]
     },
     "metadata": {},
     "output_type": "display_data"
    },
    {
     "data": {
      "application/vnd.jupyter.widget-view+json": {
       "model_id": "b18d57b1543d4bb993d3e4ecb46fd0be",
       "version_major": 2,
       "version_minor": 0
      },
      "text/plain": [
       "IntProgress(value=0, description='mou_5', max=21)"
      ]
     },
     "metadata": {},
     "output_type": "display_data"
    },
    {
     "data": {
      "application/vnd.jupyter.widget-view+json": {
       "model_id": "34b93f374aaa4e338571ed56b75e0f1a",
       "version_major": 2,
       "version_minor": 0
      },
      "text/plain": [
       "IntProgress(value=0, description='mou_5', max=21)"
      ]
     },
     "metadata": {},
     "output_type": "display_data"
    },
    {
     "data": {
      "application/vnd.jupyter.widget-view+json": {
       "model_id": "92f028bd17be442290345521f1e0c199",
       "version_major": 2,
       "version_minor": 0
      },
      "text/plain": [
       "IntProgress(value=0, description='mou_5', max=21)"
      ]
     },
     "metadata": {},
     "output_type": "display_data"
    },
    {
     "name": "stdout",
     "output_type": "stream",
     "text": [
      "Warning: skipping session with too few trials 2\n",
      "Warning: skipping session with too few trials 4\n",
      "Warning: skipping session with too few trials 3\n",
      "Warning: skipping session with too few trials 0\n",
      "Warning: skipping session with too few trials 6\n",
      "Warning: skipping session with too few trials 2\n",
      "Warning: skipping session with too few trials 4\n",
      "Warning: skipping session with too few trials 6\n",
      "Warning: skipping session with too few trials 4\n",
      "Warning: skipping session with too few trials 2\n",
      "Warning: skipping session with too few trials 2\n",
      "Warning: skipping session with too few trials 3\n",
      "Warning: skipping session with too few trials 1\n",
      "Warning: skipping session with too few trials 1\n",
      "Warning: skipping session with too few trials 1\n",
      "Warning: skipping session with too few trials 1\n",
      "Warning: skipping session with too few trials 2\n",
      "Warning: skipping session with too few trials 1\n",
      "Warning: skipping session with too few trials 0\n",
      "Warning: skipping session with too few trials 1\n"
     ]
    },
    {
     "data": {
      "application/vnd.jupyter.widget-view+json": {
       "model_id": "171be93a2b624e0c90240f0c36f87886",
       "version_major": 2,
       "version_minor": 0
      },
      "text/plain": [
       "IntProgress(value=0, description='mou_5', max=21)"
      ]
     },
     "metadata": {},
     "output_type": "display_data"
    },
    {
     "name": "stdout",
     "output_type": "stream",
     "text": [
      "Warning: skipping session with too few trials 2\n",
      "Warning: skipping session with too few trials 4\n",
      "Warning: skipping session with too few trials 3\n",
      "Warning: skipping session with too few trials 0\n",
      "Warning: skipping session with too few trials 6\n",
      "Warning: skipping session with too few trials 2\n",
      "Warning: skipping session with too few trials 4\n",
      "Warning: skipping session with too few trials 6\n",
      "Warning: skipping session with too few trials 4\n",
      "Warning: skipping session with too few trials 2\n",
      "Warning: skipping session with too few trials 2\n",
      "Warning: skipping session with too few trials 3\n",
      "Warning: skipping session with too few trials 1\n",
      "Warning: skipping session with too few trials 1\n",
      "Warning: skipping session with too few trials 1\n",
      "Warning: skipping session with too few trials 1\n",
      "Warning: skipping session with too few trials 2\n",
      "Warning: skipping session with too few trials 1\n",
      "Warning: skipping session with too few trials 0\n",
      "Warning: skipping session with too few trials 1\n"
     ]
    },
    {
     "data": {
      "application/vnd.jupyter.widget-view+json": {
       "model_id": "00491d27719848a0a717424d545d8eec",
       "version_major": 2,
       "version_minor": 0
      },
      "text/plain": [
       "IntProgress(value=0, description='mou_5', max=21)"
      ]
     },
     "metadata": {},
     "output_type": "display_data"
    },
    {
     "name": "stdout",
     "output_type": "stream",
     "text": [
      "Warning: skipping session with too few trials 2\n",
      "Warning: skipping session with too few trials 4\n",
      "Warning: skipping session with too few trials 3\n",
      "Warning: skipping session with too few trials 0\n",
      "Warning: skipping session with too few trials 6\n",
      "Warning: skipping session with too few trials 2\n",
      "Warning: skipping session with too few trials 4\n",
      "Warning: skipping session with too few trials 6\n",
      "Warning: skipping session with too few trials 4\n",
      "Warning: skipping session with too few trials 2\n",
      "Warning: skipping session with too few trials 2\n",
      "Warning: skipping session with too few trials 3\n",
      "Warning: skipping session with too few trials 1\n",
      "Warning: skipping session with too few trials 1\n",
      "Warning: skipping session with too few trials 1\n",
      "Warning: skipping session with too few trials 1\n",
      "Warning: skipping session with too few trials 2\n",
      "Warning: skipping session with too few trials 1\n",
      "Warning: skipping session with too few trials 0\n",
      "Warning: skipping session with too few trials 1\n"
     ]
    },
    {
     "data": {
      "application/vnd.jupyter.widget-view+json": {
       "model_id": "d04de342c5724b3b886bab4a9e1f6a0b",
       "version_major": 2,
       "version_minor": 0
      },
      "text/plain": [
       "IntProgress(value=0, description='mou_5', max=21)"
      ]
     },
     "metadata": {},
     "output_type": "display_data"
    },
    {
     "name": "stdout",
     "output_type": "stream",
     "text": [
      "Warning: skipping session with too few trials 2\n",
      "Warning: skipping session with too few trials 4\n",
      "Warning: skipping session with too few trials 3\n",
      "Warning: skipping session with too few trials 0\n",
      "Warning: skipping session with too few trials 6\n",
      "Warning: skipping session with too few trials 2\n",
      "Warning: skipping session with too few trials 4\n",
      "Warning: skipping session with too few trials 6\n",
      "Warning: skipping session with too few trials 4\n",
      "Warning: skipping session with too few trials 2\n",
      "Warning: skipping session with too few trials 2\n",
      "Warning: skipping session with too few trials 3\n",
      "Warning: skipping session with too few trials 1\n",
      "Warning: skipping session with too few trials 1\n",
      "Warning: skipping session with too few trials 1\n",
      "Warning: skipping session with too few trials 1\n",
      "Warning: skipping session with too few trials 2\n",
      "Warning: skipping session with too few trials 1\n",
      "Warning: skipping session with too few trials 0\n",
      "Warning: skipping session with too few trials 1\n"
     ]
    },
    {
     "data": {
      "application/vnd.jupyter.widget-view+json": {
       "model_id": "45c734b4b82c470b896728a629017e2f",
       "version_major": 2,
       "version_minor": 0
      },
      "text/plain": [
       "IntProgress(value=0, description='mou_5', max=21)"
      ]
     },
     "metadata": {},
     "output_type": "display_data"
    },
    {
     "data": {
      "application/vnd.jupyter.widget-view+json": {
       "model_id": "3ae22c8b25e04edf8cafdd3953659126",
       "version_major": 2,
       "version_minor": 0
      },
      "text/plain": [
       "IntProgress(value=0, description='mou_5', max=21)"
      ]
     },
     "metadata": {},
     "output_type": "display_data"
    },
    {
     "data": {
      "application/vnd.jupyter.widget-view+json": {
       "model_id": "d55dd0f1e17b4e39a47e8c8ca9768085",
       "version_major": 2,
       "version_minor": 0
      },
      "text/plain": [
       "IntProgress(value=0, description='mou_5', max=21)"
      ]
     },
     "metadata": {},
     "output_type": "display_data"
    },
    {
     "data": {
      "application/vnd.jupyter.widget-view+json": {
       "model_id": "2c509d52b0b84c72adc4837644f68043",
       "version_major": 2,
       "version_minor": 0
      },
      "text/plain": [
       "IntProgress(value=0, description='mou_5', max=21)"
      ]
     },
     "metadata": {},
     "output_type": "display_data"
    },
    {
     "data": {
      "application/vnd.jupyter.widget-view+json": {
       "model_id": "d45ac0af4a1f45929af598ef0a0990e1",
       "version_major": 2,
       "version_minor": 0
      },
      "text/plain": [
       "IntProgress(value=0, description='mou_5', max=21)"
      ]
     },
     "metadata": {},
     "output_type": "display_data"
    },
    {
     "name": "stdout",
     "output_type": "stream",
     "text": [
      "Warning: skipping session with too few trials 3\n",
      "Warning: skipping session with too few trials 1\n",
      "Warning: skipping session with too few trials 2\n",
      "Warning: skipping session with too few trials 3\n",
      "Warning: skipping session with too few trials 9\n",
      "Warning: skipping session with too few trials 1\n",
      "Warning: skipping session with too few trials 2\n",
      "Warning: skipping session with too few trials 2\n",
      "Warning: skipping session with too few trials 7\n",
      "Warning: skipping session with too few trials 2\n",
      "Warning: skipping session with too few trials 3\n",
      "Warning: skipping session with too few trials 0\n",
      "Warning: skipping session with too few trials 3\n",
      "Warning: skipping session with too few trials 0\n",
      "Warning: skipping session with too few trials 5\n",
      "Warning: skipping session with too few trials 8\n",
      "Warning: skipping session with too few trials 1\n"
     ]
    },
    {
     "data": {
      "application/vnd.jupyter.widget-view+json": {
       "model_id": "9c69f4e47bb74c08903a78a76d31cc3c",
       "version_major": 2,
       "version_minor": 0
      },
      "text/plain": [
       "IntProgress(value=0, description='mou_5', max=21)"
      ]
     },
     "metadata": {},
     "output_type": "display_data"
    },
    {
     "name": "stdout",
     "output_type": "stream",
     "text": [
      "Warning: skipping session with too few trials 3\n",
      "Warning: skipping session with too few trials 1\n",
      "Warning: skipping session with too few trials 2\n",
      "Warning: skipping session with too few trials 3\n",
      "Warning: skipping session with too few trials 9\n",
      "Warning: skipping session with too few trials 1\n",
      "Warning: skipping session with too few trials 2\n",
      "Warning: skipping session with too few trials 2\n",
      "Warning: skipping session with too few trials 7\n",
      "Warning: skipping session with too few trials 2\n",
      "Warning: skipping session with too few trials 3\n",
      "Warning: skipping session with too few trials 0\n",
      "Warning: skipping session with too few trials 3\n",
      "Warning: skipping session with too few trials 0\n",
      "Warning: skipping session with too few trials 5\n",
      "Warning: skipping session with too few trials 8\n",
      "Warning: skipping session with too few trials 1\n"
     ]
    },
    {
     "data": {
      "application/vnd.jupyter.widget-view+json": {
       "model_id": "df7a078b1065415c89a5b38c47ea840d",
       "version_major": 2,
       "version_minor": 0
      },
      "text/plain": [
       "IntProgress(value=0, description='mou_5', max=21)"
      ]
     },
     "metadata": {},
     "output_type": "display_data"
    },
    {
     "name": "stdout",
     "output_type": "stream",
     "text": [
      "Warning: skipping session with too few trials 3\n",
      "Warning: skipping session with too few trials 1\n",
      "Warning: skipping session with too few trials 2\n",
      "Warning: skipping session with too few trials 3\n",
      "Warning: skipping session with too few trials 9\n",
      "Warning: skipping session with too few trials 1\n",
      "Warning: skipping session with too few trials 2\n",
      "Warning: skipping session with too few trials 2\n",
      "Warning: skipping session with too few trials 7\n",
      "Warning: skipping session with too few trials 2\n",
      "Warning: skipping session with too few trials 3\n",
      "Warning: skipping session with too few trials 0\n",
      "Warning: skipping session with too few trials 3\n",
      "Warning: skipping session with too few trials 0\n",
      "Warning: skipping session with too few trials 5\n",
      "Warning: skipping session with too few trials 8\n",
      "Warning: skipping session with too few trials 1\n"
     ]
    },
    {
     "data": {
      "application/vnd.jupyter.widget-view+json": {
       "model_id": "044c3ffac8fc4d9885f47ddddf0e5aee",
       "version_major": 2,
       "version_minor": 0
      },
      "text/plain": [
       "IntProgress(value=0, description='mou_5', max=21)"
      ]
     },
     "metadata": {},
     "output_type": "display_data"
    },
    {
     "name": "stdout",
     "output_type": "stream",
     "text": [
      "Warning: skipping session with too few trials 3\n",
      "Warning: skipping session with too few trials 1\n",
      "Warning: skipping session with too few trials 2\n",
      "Warning: skipping session with too few trials 3\n",
      "Warning: skipping session with too few trials 9\n",
      "Warning: skipping session with too few trials 1\n",
      "Warning: skipping session with too few trials 2\n",
      "Warning: skipping session with too few trials 2\n",
      "Warning: skipping session with too few trials 7\n",
      "Warning: skipping session with too few trials 2\n",
      "Warning: skipping session with too few trials 3\n",
      "Warning: skipping session with too few trials 0\n",
      "Warning: skipping session with too few trials 3\n",
      "Warning: skipping session with too few trials 0\n",
      "Warning: skipping session with too few trials 5\n",
      "Warning: skipping session with too few trials 8\n",
      "Warning: skipping session with too few trials 1\n"
     ]
    },
    {
     "data": {
      "application/vnd.jupyter.widget-view+json": {
       "model_id": "94da4b514b434582a00d860907e9c5b8",
       "version_major": 2,
       "version_minor": 0
      },
      "text/plain": [
       "IntProgress(value=0, description='mou_6', max=29)"
      ]
     },
     "metadata": {},
     "output_type": "display_data"
    },
    {
     "data": {
      "application/vnd.jupyter.widget-view+json": {
       "model_id": "4ae10c9fa24c4b85a1624638edbeab67",
       "version_major": 2,
       "version_minor": 0
      },
      "text/plain": [
       "IntProgress(value=0, description='mou_6', max=29)"
      ]
     },
     "metadata": {},
     "output_type": "display_data"
    },
    {
     "data": {
      "application/vnd.jupyter.widget-view+json": {
       "model_id": "0324c16ce71a4f549737bcc24b23886d",
       "version_major": 2,
       "version_minor": 0
      },
      "text/plain": [
       "IntProgress(value=0, description='mou_6', max=29)"
      ]
     },
     "metadata": {},
     "output_type": "display_data"
    },
    {
     "data": {
      "application/vnd.jupyter.widget-view+json": {
       "model_id": "3cd0400dc7b84fb99f6515d7eb05c12b",
       "version_major": 2,
       "version_minor": 0
      },
      "text/plain": [
       "IntProgress(value=0, description='mou_6', max=29)"
      ]
     },
     "metadata": {},
     "output_type": "display_data"
    },
    {
     "data": {
      "application/vnd.jupyter.widget-view+json": {
       "model_id": "5dccb8c92c5b4b66bf251d362fe946f1",
       "version_major": 2,
       "version_minor": 0
      },
      "text/plain": [
       "IntProgress(value=0, description='mou_6', max=29)"
      ]
     },
     "metadata": {},
     "output_type": "display_data"
    },
    {
     "data": {
      "application/vnd.jupyter.widget-view+json": {
       "model_id": "ce9eaa3ba9c241498f726f04c304b16b",
       "version_major": 2,
       "version_minor": 0
      },
      "text/plain": [
       "IntProgress(value=0, description='mou_6', max=29)"
      ]
     },
     "metadata": {},
     "output_type": "display_data"
    },
    {
     "data": {
      "application/vnd.jupyter.widget-view+json": {
       "model_id": "70ee8610edb94c02a9bf74f3c286e2a4",
       "version_major": 2,
       "version_minor": 0
      },
      "text/plain": [
       "IntProgress(value=0, description='mou_6', max=29)"
      ]
     },
     "metadata": {},
     "output_type": "display_data"
    },
    {
     "data": {
      "application/vnd.jupyter.widget-view+json": {
       "model_id": "6ae39af156564d2391dd435a3305b0ee",
       "version_major": 2,
       "version_minor": 0
      },
      "text/plain": [
       "IntProgress(value=0, description='mou_6', max=29)"
      ]
     },
     "metadata": {},
     "output_type": "display_data"
    },
    {
     "data": {
      "application/vnd.jupyter.widget-view+json": {
       "model_id": "30dd73508cf74dbab61956222cd9f16a",
       "version_major": 2,
       "version_minor": 0
      },
      "text/plain": [
       "IntProgress(value=0, description='mou_6', max=29)"
      ]
     },
     "metadata": {},
     "output_type": "display_data"
    },
    {
     "data": {
      "application/vnd.jupyter.widget-view+json": {
       "model_id": "95f2b7f6bf174f218aa4042aae0661a1",
       "version_major": 2,
       "version_minor": 0
      },
      "text/plain": [
       "IntProgress(value=0, description='mou_6', max=29)"
      ]
     },
     "metadata": {},
     "output_type": "display_data"
    },
    {
     "data": {
      "application/vnd.jupyter.widget-view+json": {
       "model_id": "1fca113f30b84e98be3be5e4e3ea60e4",
       "version_major": 2,
       "version_minor": 0
      },
      "text/plain": [
       "IntProgress(value=0, description='mou_6', max=29)"
      ]
     },
     "metadata": {},
     "output_type": "display_data"
    },
    {
     "name": "stdout",
     "output_type": "stream",
     "text": [
      "Warning: skipping session with too few trials 1\n",
      "Warning: skipping session with too few trials 1\n",
      "Warning: skipping session with too few trials 1\n",
      "Warning: skipping session with too few trials 0\n",
      "Warning: skipping session with too few trials 1\n",
      "Warning: skipping session with too few trials 0\n",
      "Warning: skipping session with too few trials 1\n",
      "Warning: skipping session with too few trials 1\n",
      "Warning: skipping session with too few trials 0\n",
      "Warning: skipping session with too few trials 2\n",
      "Warning: skipping session with too few trials 1\n",
      "Warning: skipping session with too few trials 1\n",
      "Warning: skipping session with too few trials 1\n",
      "Warning: skipping session with too few trials 2\n",
      "Warning: skipping session with too few trials 3\n",
      "Warning: skipping session with too few trials 3\n",
      "Warning: skipping session with too few trials 6\n",
      "Warning: skipping session with too few trials 1\n",
      "Warning: skipping session with too few trials 2\n",
      "Warning: skipping session with too few trials 3\n",
      "Warning: skipping session with too few trials 8\n",
      "Warning: skipping session with too few trials 1\n",
      "Warning: skipping session with too few trials 3\n",
      "Warning: skipping session with too few trials 7\n",
      "Warning: skipping session with too few trials 2\n",
      "Warning: skipping session with too few trials 3\n",
      "Warning: skipping session with too few trials 6\n",
      "Warning: skipping session with too few trials 2\n",
      "Warning: skipping session with too few trials 0\n",
      "Warning, all sessions had too few trials, this mouse is skipped\n"
     ]
    },
    {
     "data": {
      "application/vnd.jupyter.widget-view+json": {
       "model_id": "690fee530d0c4391b062db33590c81aa",
       "version_major": 2,
       "version_minor": 0
      },
      "text/plain": [
       "IntProgress(value=0, description='mou_6', max=29)"
      ]
     },
     "metadata": {},
     "output_type": "display_data"
    },
    {
     "name": "stdout",
     "output_type": "stream",
     "text": [
      "Warning: skipping session with too few trials 1\n",
      "Warning: skipping session with too few trials 1\n",
      "Warning: skipping session with too few trials 1\n",
      "Warning: skipping session with too few trials 0\n",
      "Warning: skipping session with too few trials 1\n",
      "Warning: skipping session with too few trials 0\n",
      "Warning: skipping session with too few trials 1\n",
      "Warning: skipping session with too few trials 1\n",
      "Warning: skipping session with too few trials 0\n",
      "Warning: skipping session with too few trials 2\n",
      "Warning: skipping session with too few trials 1\n",
      "Warning: skipping session with too few trials 1\n",
      "Warning: skipping session with too few trials 1\n",
      "Warning: skipping session with too few trials 2\n",
      "Warning: skipping session with too few trials 3\n",
      "Warning: skipping session with too few trials 3\n",
      "Warning: skipping session with too few trials 6\n",
      "Warning: skipping session with too few trials 1\n",
      "Warning: skipping session with too few trials 2\n",
      "Warning: skipping session with too few trials 3\n",
      "Warning: skipping session with too few trials 8\n",
      "Warning: skipping session with too few trials 1\n",
      "Warning: skipping session with too few trials 3\n",
      "Warning: skipping session with too few trials 7\n",
      "Warning: skipping session with too few trials 2\n",
      "Warning: skipping session with too few trials 3\n",
      "Warning: skipping session with too few trials 6\n",
      "Warning: skipping session with too few trials 2\n",
      "Warning: skipping session with too few trials 0\n",
      "Warning, all sessions had too few trials, this mouse is skipped\n"
     ]
    },
    {
     "data": {
      "application/vnd.jupyter.widget-view+json": {
       "model_id": "3717cf46c2d14568acf016257293e059",
       "version_major": 2,
       "version_minor": 0
      },
      "text/plain": [
       "IntProgress(value=0, description='mou_6', max=29)"
      ]
     },
     "metadata": {},
     "output_type": "display_data"
    },
    {
     "name": "stdout",
     "output_type": "stream",
     "text": [
      "Warning: skipping session with too few trials 1\n",
      "Warning: skipping session with too few trials 1\n",
      "Warning: skipping session with too few trials 1\n",
      "Warning: skipping session with too few trials 0\n",
      "Warning: skipping session with too few trials 1\n",
      "Warning: skipping session with too few trials 0\n",
      "Warning: skipping session with too few trials 1\n",
      "Warning: skipping session with too few trials 1\n",
      "Warning: skipping session with too few trials 0\n",
      "Warning: skipping session with too few trials 2\n",
      "Warning: skipping session with too few trials 1\n",
      "Warning: skipping session with too few trials 1\n",
      "Warning: skipping session with too few trials 1\n",
      "Warning: skipping session with too few trials 2\n",
      "Warning: skipping session with too few trials 3\n",
      "Warning: skipping session with too few trials 3\n",
      "Warning: skipping session with too few trials 6\n",
      "Warning: skipping session with too few trials 1\n",
      "Warning: skipping session with too few trials 2\n",
      "Warning: skipping session with too few trials 3\n",
      "Warning: skipping session with too few trials 8\n",
      "Warning: skipping session with too few trials 1\n",
      "Warning: skipping session with too few trials 3\n",
      "Warning: skipping session with too few trials 7\n",
      "Warning: skipping session with too few trials 2\n",
      "Warning: skipping session with too few trials 3\n",
      "Warning: skipping session with too few trials 6\n",
      "Warning: skipping session with too few trials 2\n",
      "Warning: skipping session with too few trials 0\n",
      "Warning, all sessions had too few trials, this mouse is skipped\n"
     ]
    },
    {
     "data": {
      "application/vnd.jupyter.widget-view+json": {
       "model_id": "9f5d2d887b1a4eb19321d00c1099c0de",
       "version_major": 2,
       "version_minor": 0
      },
      "text/plain": [
       "IntProgress(value=0, description='mou_6', max=29)"
      ]
     },
     "metadata": {},
     "output_type": "display_data"
    },
    {
     "name": "stdout",
     "output_type": "stream",
     "text": [
      "Warning: skipping session with too few trials 1\n",
      "Warning: skipping session with too few trials 1\n",
      "Warning: skipping session with too few trials 1\n",
      "Warning: skipping session with too few trials 0\n",
      "Warning: skipping session with too few trials 1\n",
      "Warning: skipping session with too few trials 0\n",
      "Warning: skipping session with too few trials 1\n",
      "Warning: skipping session with too few trials 1\n",
      "Warning: skipping session with too few trials 0\n",
      "Warning: skipping session with too few trials 2\n",
      "Warning: skipping session with too few trials 1\n",
      "Warning: skipping session with too few trials 1\n",
      "Warning: skipping session with too few trials 1\n",
      "Warning: skipping session with too few trials 2\n",
      "Warning: skipping session with too few trials 3\n",
      "Warning: skipping session with too few trials 3\n",
      "Warning: skipping session with too few trials 6\n",
      "Warning: skipping session with too few trials 1\n",
      "Warning: skipping session with too few trials 2\n",
      "Warning: skipping session with too few trials 3\n",
      "Warning: skipping session with too few trials 8\n",
      "Warning: skipping session with too few trials 1\n",
      "Warning: skipping session with too few trials 3\n",
      "Warning: skipping session with too few trials 7\n",
      "Warning: skipping session with too few trials 2\n",
      "Warning: skipping session with too few trials 3\n",
      "Warning: skipping session with too few trials 6\n",
      "Warning: skipping session with too few trials 2\n",
      "Warning: skipping session with too few trials 0\n",
      "Warning, all sessions had too few trials, this mouse is skipped\n"
     ]
    },
    {
     "data": {
      "application/vnd.jupyter.widget-view+json": {
       "model_id": "3e7306c5160a466695dd6810655bd0d2",
       "version_major": 2,
       "version_minor": 0
      },
      "text/plain": [
       "IntProgress(value=0, description='mou_6', max=29)"
      ]
     },
     "metadata": {},
     "output_type": "display_data"
    },
    {
     "name": "stdout",
     "output_type": "stream",
     "text": [
      "Warning: skipping session with too few trials 1\n",
      "Warning: skipping session with too few trials 1\n",
      "Warning: skipping session with too few trials 1\n",
      "Warning: skipping session with too few trials 0\n",
      "Warning: skipping session with too few trials 1\n",
      "Warning: skipping session with too few trials 0\n",
      "Warning: skipping session with too few trials 1\n",
      "Warning: skipping session with too few trials 1\n",
      "Warning: skipping session with too few trials 0\n",
      "Warning: skipping session with too few trials 2\n",
      "Warning: skipping session with too few trials 1\n",
      "Warning: skipping session with too few trials 1\n",
      "Warning: skipping session with too few trials 1\n",
      "Warning: skipping session with too few trials 2\n",
      "Warning: skipping session with too few trials 3\n",
      "Warning: skipping session with too few trials 3\n",
      "Warning: skipping session with too few trials 6\n",
      "Warning: skipping session with too few trials 1\n",
      "Warning: skipping session with too few trials 2\n",
      "Warning: skipping session with too few trials 3\n",
      "Warning: skipping session with too few trials 8\n",
      "Warning: skipping session with too few trials 1\n",
      "Warning: skipping session with too few trials 3\n",
      "Warning: skipping session with too few trials 7\n",
      "Warning: skipping session with too few trials 2\n",
      "Warning: skipping session with too few trials 3\n",
      "Warning: skipping session with too few trials 6\n",
      "Warning: skipping session with too few trials 2\n",
      "Warning: skipping session with too few trials 0\n",
      "Warning, all sessions had too few trials, this mouse is skipped\n"
     ]
    },
    {
     "data": {
      "application/vnd.jupyter.widget-view+json": {
       "model_id": "c670c81c437245bdbbb0f70b9985cbc9",
       "version_major": 2,
       "version_minor": 0
      },
      "text/plain": [
       "IntProgress(value=0, description='mou_6', max=29)"
      ]
     },
     "metadata": {},
     "output_type": "display_data"
    },
    {
     "data": {
      "application/vnd.jupyter.widget-view+json": {
       "model_id": "13f05b5f2b164b0b8132733f399c9ad0",
       "version_major": 2,
       "version_minor": 0
      },
      "text/plain": [
       "IntProgress(value=0, description='mou_6', max=29)"
      ]
     },
     "metadata": {},
     "output_type": "display_data"
    },
    {
     "data": {
      "application/vnd.jupyter.widget-view+json": {
       "model_id": "ac76eb35adf94532a5e82c463e7f55af",
       "version_major": 2,
       "version_minor": 0
      },
      "text/plain": [
       "IntProgress(value=0, description='mou_6', max=29)"
      ]
     },
     "metadata": {},
     "output_type": "display_data"
    },
    {
     "data": {
      "application/vnd.jupyter.widget-view+json": {
       "model_id": "0574bff65561438a94e70c92ceaf9d4b",
       "version_major": 2,
       "version_minor": 0
      },
      "text/plain": [
       "IntProgress(value=0, description='mou_6', max=29)"
      ]
     },
     "metadata": {},
     "output_type": "display_data"
    },
    {
     "data": {
      "application/vnd.jupyter.widget-view+json": {
       "model_id": "bb580696e53c495c91917381f71e2b96",
       "version_major": 2,
       "version_minor": 0
      },
      "text/plain": [
       "IntProgress(value=0, description='mou_6', max=29)"
      ]
     },
     "metadata": {},
     "output_type": "display_data"
    },
    {
     "data": {
      "application/vnd.jupyter.widget-view+json": {
       "model_id": "a12b870657bd400189fbb8c2adf68589",
       "version_major": 2,
       "version_minor": 0
      },
      "text/plain": [
       "IntProgress(value=0, description='mou_6', max=29)"
      ]
     },
     "metadata": {},
     "output_type": "display_data"
    },
    {
     "name": "stdout",
     "output_type": "stream",
     "text": [
      "Warning: skipping session with too few trials 3\n",
      "Warning: skipping session with too few trials 2\n",
      "Warning: skipping session with too few trials 8\n",
      "Warning: skipping session with too few trials 8\n",
      "Warning: skipping session with too few trials 8\n",
      "Warning: skipping session with too few trials 3\n",
      "Warning: skipping session with too few trials 4\n",
      "Warning: skipping session with too few trials 9\n",
      "Warning: skipping session with too few trials 5\n",
      "Warning: skipping session with too few trials 4\n",
      "Warning: skipping session with too few trials 7\n",
      "Warning: skipping session with too few trials 7\n",
      "Warning: skipping session with too few trials 3\n",
      "Warning: skipping session with too few trials 4\n",
      "Warning: skipping session with too few trials 2\n",
      "Warning: skipping session with too few trials 1\n"
     ]
    },
    {
     "data": {
      "application/vnd.jupyter.widget-view+json": {
       "model_id": "4c1b75f994b84943bd51bc4f8852a4b8",
       "version_major": 2,
       "version_minor": 0
      },
      "text/plain": [
       "IntProgress(value=0, description='mou_6', max=29)"
      ]
     },
     "metadata": {},
     "output_type": "display_data"
    },
    {
     "name": "stdout",
     "output_type": "stream",
     "text": [
      "Warning: skipping session with too few trials 3\n",
      "Warning: skipping session with too few trials 2\n",
      "Warning: skipping session with too few trials 8\n",
      "Warning: skipping session with too few trials 8\n",
      "Warning: skipping session with too few trials 8\n",
      "Warning: skipping session with too few trials 3\n",
      "Warning: skipping session with too few trials 4\n",
      "Warning: skipping session with too few trials 9\n",
      "Warning: skipping session with too few trials 5\n",
      "Warning: skipping session with too few trials 4\n",
      "Warning: skipping session with too few trials 7\n",
      "Warning: skipping session with too few trials 7\n",
      "Warning: skipping session with too few trials 3\n",
      "Warning: skipping session with too few trials 4\n",
      "Warning: skipping session with too few trials 2\n",
      "Warning: skipping session with too few trials 1\n"
     ]
    },
    {
     "data": {
      "application/vnd.jupyter.widget-view+json": {
       "model_id": "d64f86b3d3df4ef8a36f54d524e063d7",
       "version_major": 2,
       "version_minor": 0
      },
      "text/plain": [
       "IntProgress(value=0, description='mou_6', max=29)"
      ]
     },
     "metadata": {},
     "output_type": "display_data"
    },
    {
     "name": "stdout",
     "output_type": "stream",
     "text": [
      "Warning: skipping session with too few trials 3\n",
      "Warning: skipping session with too few trials 2\n",
      "Warning: skipping session with too few trials 8\n",
      "Warning: skipping session with too few trials 8\n",
      "Warning: skipping session with too few trials 8\n",
      "Warning: skipping session with too few trials 3\n",
      "Warning: skipping session with too few trials 4\n",
      "Warning: skipping session with too few trials 9\n",
      "Warning: skipping session with too few trials 5\n",
      "Warning: skipping session with too few trials 4\n",
      "Warning: skipping session with too few trials 7\n",
      "Warning: skipping session with too few trials 7\n",
      "Warning: skipping session with too few trials 3\n",
      "Warning: skipping session with too few trials 4\n",
      "Warning: skipping session with too few trials 2\n",
      "Warning: skipping session with too few trials 1\n"
     ]
    },
    {
     "data": {
      "application/vnd.jupyter.widget-view+json": {
       "model_id": "c6e062b701c24fb08ca91b3983a00a18",
       "version_major": 2,
       "version_minor": 0
      },
      "text/plain": [
       "IntProgress(value=0, description='mou_6', max=29)"
      ]
     },
     "metadata": {},
     "output_type": "display_data"
    },
    {
     "name": "stdout",
     "output_type": "stream",
     "text": [
      "Warning: skipping session with too few trials 3\n",
      "Warning: skipping session with too few trials 2\n",
      "Warning: skipping session with too few trials 8\n",
      "Warning: skipping session with too few trials 8\n",
      "Warning: skipping session with too few trials 8\n",
      "Warning: skipping session with too few trials 3\n",
      "Warning: skipping session with too few trials 4\n",
      "Warning: skipping session with too few trials 9\n",
      "Warning: skipping session with too few trials 5\n",
      "Warning: skipping session with too few trials 4\n",
      "Warning: skipping session with too few trials 7\n",
      "Warning: skipping session with too few trials 7\n",
      "Warning: skipping session with too few trials 3\n",
      "Warning: skipping session with too few trials 4\n",
      "Warning: skipping session with too few trials 2\n",
      "Warning: skipping session with too few trials 1\n"
     ]
    },
    {
     "data": {
      "application/vnd.jupyter.widget-view+json": {
       "model_id": "a1214218421645a0a05148dc17ea47b9",
       "version_major": 2,
       "version_minor": 0
      },
      "text/plain": [
       "IntProgress(value=0, description='mou_6', max=29)"
      ]
     },
     "metadata": {},
     "output_type": "display_data"
    },
    {
     "name": "stdout",
     "output_type": "stream",
     "text": [
      "Warning: skipping session with too few trials 3\n",
      "Warning: skipping session with too few trials 2\n",
      "Warning: skipping session with too few trials 8\n",
      "Warning: skipping session with too few trials 8\n",
      "Warning: skipping session with too few trials 8\n",
      "Warning: skipping session with too few trials 3\n",
      "Warning: skipping session with too few trials 4\n",
      "Warning: skipping session with too few trials 9\n",
      "Warning: skipping session with too few trials 5\n",
      "Warning: skipping session with too few trials 4\n",
      "Warning: skipping session with too few trials 7\n",
      "Warning: skipping session with too few trials 7\n",
      "Warning: skipping session with too few trials 3\n",
      "Warning: skipping session with too few trials 4\n",
      "Warning: skipping session with too few trials 2\n",
      "Warning: skipping session with too few trials 1\n"
     ]
    },
    {
     "data": {
      "application/vnd.jupyter.widget-view+json": {
       "model_id": "c1903df636a144aa9ac56d345ac362d8",
       "version_major": 2,
       "version_minor": 0
      },
      "text/plain": [
       "IntProgress(value=0, description='mou_6', max=29)"
      ]
     },
     "metadata": {},
     "output_type": "display_data"
    },
    {
     "data": {
      "application/vnd.jupyter.widget-view+json": {
       "model_id": "af93f9ef4e2c487c92e3fff440885979",
       "version_major": 2,
       "version_minor": 0
      },
      "text/plain": [
       "IntProgress(value=0, description='mou_6', max=29)"
      ]
     },
     "metadata": {},
     "output_type": "display_data"
    },
    {
     "data": {
      "application/vnd.jupyter.widget-view+json": {
       "model_id": "b0bbdf63983242298d12fcad39b559cc",
       "version_major": 2,
       "version_minor": 0
      },
      "text/plain": [
       "IntProgress(value=0, description='mou_6', max=29)"
      ]
     },
     "metadata": {},
     "output_type": "display_data"
    },
    {
     "data": {
      "application/vnd.jupyter.widget-view+json": {
       "model_id": "5ac89b824a9a4b199084ca463219f50a",
       "version_major": 2,
       "version_minor": 0
      },
      "text/plain": [
       "IntProgress(value=0, description='mou_6', max=29)"
      ]
     },
     "metadata": {},
     "output_type": "display_data"
    },
    {
     "data": {
      "application/vnd.jupyter.widget-view+json": {
       "model_id": "4204bad0c595467d97fc13b002d57b06",
       "version_major": 2,
       "version_minor": 0
      },
      "text/plain": [
       "IntProgress(value=0, description='mou_6', max=29)"
      ]
     },
     "metadata": {},
     "output_type": "display_data"
    },
    {
     "data": {
      "application/vnd.jupyter.widget-view+json": {
       "model_id": "e9371c92d4d04da6b949f897ff65f109",
       "version_major": 2,
       "version_minor": 0
      },
      "text/plain": [
       "IntProgress(value=0, description='mou_6', max=29)"
      ]
     },
     "metadata": {},
     "output_type": "display_data"
    },
    {
     "data": {
      "application/vnd.jupyter.widget-view+json": {
       "model_id": "3c7eb1efde624d8d9c003026f36af854",
       "version_major": 2,
       "version_minor": 0
      },
      "text/plain": [
       "IntProgress(value=0, description='mou_6', max=29)"
      ]
     },
     "metadata": {},
     "output_type": "display_data"
    },
    {
     "data": {
      "application/vnd.jupyter.widget-view+json": {
       "model_id": "23a830d4880f4e90ac3f51b3582bc127",
       "version_major": 2,
       "version_minor": 0
      },
      "text/plain": [
       "IntProgress(value=0, description='mou_6', max=29)"
      ]
     },
     "metadata": {},
     "output_type": "display_data"
    },
    {
     "data": {
      "application/vnd.jupyter.widget-view+json": {
       "model_id": "cb3e1db3f2ae44c3bcc95daa0d652f5d",
       "version_major": 2,
       "version_minor": 0
      },
      "text/plain": [
       "IntProgress(value=0, description='mou_6', max=29)"
      ]
     },
     "metadata": {},
     "output_type": "display_data"
    },
    {
     "data": {
      "application/vnd.jupyter.widget-view+json": {
       "model_id": "8308887ebc22494ca6e27f373ff1d5d6",
       "version_major": 2,
       "version_minor": 0
      },
      "text/plain": [
       "IntProgress(value=0, description='mou_6', max=29)"
      ]
     },
     "metadata": {},
     "output_type": "display_data"
    },
    {
     "data": {
      "application/vnd.jupyter.widget-view+json": {
       "model_id": "08bc5a0ffeb84eaf91977bffd7718ede",
       "version_major": 2,
       "version_minor": 0
      },
      "text/plain": [
       "IntProgress(value=0, description='mou_6', max=29)"
      ]
     },
     "metadata": {},
     "output_type": "display_data"
    },
    {
     "name": "stdout",
     "output_type": "stream",
     "text": [
      "Warning: skipping session with too few trials 1\n",
      "Warning: skipping session with too few trials 1\n",
      "Warning: skipping session with too few trials 1\n",
      "Warning: skipping session with too few trials 0\n",
      "Warning: skipping session with too few trials 1\n",
      "Warning: skipping session with too few trials 0\n",
      "Warning: skipping session with too few trials 1\n",
      "Warning: skipping session with too few trials 1\n",
      "Warning: skipping session with too few trials 0\n",
      "Warning: skipping session with too few trials 2\n",
      "Warning: skipping session with too few trials 1\n",
      "Warning: skipping session with too few trials 1\n",
      "Warning: skipping session with too few trials 1\n",
      "Warning: skipping session with too few trials 2\n",
      "Warning: skipping session with too few trials 3\n",
      "Warning: skipping session with too few trials 3\n",
      "Warning: skipping session with too few trials 6\n",
      "Warning: skipping session with too few trials 1\n",
      "Warning: skipping session with too few trials 2\n",
      "Warning: skipping session with too few trials 3\n",
      "Warning: skipping session with too few trials 8\n",
      "Warning: skipping session with too few trials 1\n",
      "Warning: skipping session with too few trials 3\n",
      "Warning: skipping session with too few trials 7\n",
      "Warning: skipping session with too few trials 2\n",
      "Warning: skipping session with too few trials 3\n",
      "Warning: skipping session with too few trials 6\n",
      "Warning: skipping session with too few trials 2\n",
      "Warning: skipping session with too few trials 0\n",
      "Warning, all sessions had too few trials, this mouse is skipped\n"
     ]
    },
    {
     "data": {
      "application/vnd.jupyter.widget-view+json": {
       "model_id": "8728b537fdeb4baabe81cfb2f12c07e4",
       "version_major": 2,
       "version_minor": 0
      },
      "text/plain": [
       "IntProgress(value=0, description='mou_6', max=29)"
      ]
     },
     "metadata": {},
     "output_type": "display_data"
    },
    {
     "name": "stdout",
     "output_type": "stream",
     "text": [
      "Warning: skipping session with too few trials 1\n",
      "Warning: skipping session with too few trials 1\n",
      "Warning: skipping session with too few trials 1\n",
      "Warning: skipping session with too few trials 0\n",
      "Warning: skipping session with too few trials 1\n",
      "Warning: skipping session with too few trials 0\n",
      "Warning: skipping session with too few trials 1\n",
      "Warning: skipping session with too few trials 1\n",
      "Warning: skipping session with too few trials 0\n",
      "Warning: skipping session with too few trials 2\n",
      "Warning: skipping session with too few trials 1\n",
      "Warning: skipping session with too few trials 1\n",
      "Warning: skipping session with too few trials 1\n",
      "Warning: skipping session with too few trials 2\n",
      "Warning: skipping session with too few trials 3\n",
      "Warning: skipping session with too few trials 3\n",
      "Warning: skipping session with too few trials 6\n",
      "Warning: skipping session with too few trials 1\n",
      "Warning: skipping session with too few trials 2\n",
      "Warning: skipping session with too few trials 3\n",
      "Warning: skipping session with too few trials 8\n",
      "Warning: skipping session with too few trials 1\n",
      "Warning: skipping session with too few trials 3\n",
      "Warning: skipping session with too few trials 7\n",
      "Warning: skipping session with too few trials 2\n",
      "Warning: skipping session with too few trials 3\n",
      "Warning: skipping session with too few trials 6\n",
      "Warning: skipping session with too few trials 2\n",
      "Warning: skipping session with too few trials 0\n",
      "Warning, all sessions had too few trials, this mouse is skipped\n"
     ]
    },
    {
     "data": {
      "application/vnd.jupyter.widget-view+json": {
       "model_id": "13d06e718f0d42fbaf13964381ed91f4",
       "version_major": 2,
       "version_minor": 0
      },
      "text/plain": [
       "IntProgress(value=0, description='mou_6', max=29)"
      ]
     },
     "metadata": {},
     "output_type": "display_data"
    },
    {
     "name": "stdout",
     "output_type": "stream",
     "text": [
      "Warning: skipping session with too few trials 1\n",
      "Warning: skipping session with too few trials 1\n",
      "Warning: skipping session with too few trials 1\n",
      "Warning: skipping session with too few trials 0\n",
      "Warning: skipping session with too few trials 1\n",
      "Warning: skipping session with too few trials 0\n",
      "Warning: skipping session with too few trials 1\n",
      "Warning: skipping session with too few trials 1\n",
      "Warning: skipping session with too few trials 0\n",
      "Warning: skipping session with too few trials 2\n",
      "Warning: skipping session with too few trials 1\n",
      "Warning: skipping session with too few trials 1\n",
      "Warning: skipping session with too few trials 1\n",
      "Warning: skipping session with too few trials 2\n",
      "Warning: skipping session with too few trials 3\n",
      "Warning: skipping session with too few trials 3\n",
      "Warning: skipping session with too few trials 6\n",
      "Warning: skipping session with too few trials 1\n",
      "Warning: skipping session with too few trials 2\n",
      "Warning: skipping session with too few trials 3\n",
      "Warning: skipping session with too few trials 8\n",
      "Warning: skipping session with too few trials 1\n",
      "Warning: skipping session with too few trials 3\n",
      "Warning: skipping session with too few trials 7\n",
      "Warning: skipping session with too few trials 2\n",
      "Warning: skipping session with too few trials 3\n",
      "Warning: skipping session with too few trials 6\n",
      "Warning: skipping session with too few trials 2\n",
      "Warning: skipping session with too few trials 0\n",
      "Warning, all sessions had too few trials, this mouse is skipped\n"
     ]
    },
    {
     "data": {
      "application/vnd.jupyter.widget-view+json": {
       "model_id": "e7d178ee6c6846e4bfd4362c0e403da4",
       "version_major": 2,
       "version_minor": 0
      },
      "text/plain": [
       "IntProgress(value=0, description='mou_6', max=29)"
      ]
     },
     "metadata": {},
     "output_type": "display_data"
    },
    {
     "name": "stdout",
     "output_type": "stream",
     "text": [
      "Warning: skipping session with too few trials 1\n",
      "Warning: skipping session with too few trials 1\n",
      "Warning: skipping session with too few trials 1\n",
      "Warning: skipping session with too few trials 0\n",
      "Warning: skipping session with too few trials 1\n",
      "Warning: skipping session with too few trials 0\n",
      "Warning: skipping session with too few trials 1\n",
      "Warning: skipping session with too few trials 1\n",
      "Warning: skipping session with too few trials 0\n",
      "Warning: skipping session with too few trials 2\n",
      "Warning: skipping session with too few trials 1\n",
      "Warning: skipping session with too few trials 1\n",
      "Warning: skipping session with too few trials 1\n",
      "Warning: skipping session with too few trials 2\n",
      "Warning: skipping session with too few trials 3\n",
      "Warning: skipping session with too few trials 3\n",
      "Warning: skipping session with too few trials 6\n",
      "Warning: skipping session with too few trials 1\n",
      "Warning: skipping session with too few trials 2\n",
      "Warning: skipping session with too few trials 3\n",
      "Warning: skipping session with too few trials 8\n",
      "Warning: skipping session with too few trials 1\n",
      "Warning: skipping session with too few trials 3\n",
      "Warning: skipping session with too few trials 7\n",
      "Warning: skipping session with too few trials 2\n",
      "Warning: skipping session with too few trials 3\n",
      "Warning: skipping session with too few trials 6\n",
      "Warning: skipping session with too few trials 2\n",
      "Warning: skipping session with too few trials 0\n",
      "Warning, all sessions had too few trials, this mouse is skipped\n"
     ]
    },
    {
     "data": {
      "application/vnd.jupyter.widget-view+json": {
       "model_id": "b3fe2d2fe93a4a8fb2634136adeefe00",
       "version_major": 2,
       "version_minor": 0
      },
      "text/plain": [
       "IntProgress(value=0, description='mou_6', max=29)"
      ]
     },
     "metadata": {},
     "output_type": "display_data"
    },
    {
     "name": "stdout",
     "output_type": "stream",
     "text": [
      "Warning: skipping session with too few trials 1\n",
      "Warning: skipping session with too few trials 1\n",
      "Warning: skipping session with too few trials 1\n",
      "Warning: skipping session with too few trials 0\n",
      "Warning: skipping session with too few trials 1\n",
      "Warning: skipping session with too few trials 0\n",
      "Warning: skipping session with too few trials 1\n",
      "Warning: skipping session with too few trials 1\n",
      "Warning: skipping session with too few trials 0\n",
      "Warning: skipping session with too few trials 2\n",
      "Warning: skipping session with too few trials 1\n",
      "Warning: skipping session with too few trials 1\n",
      "Warning: skipping session with too few trials 1\n",
      "Warning: skipping session with too few trials 2\n",
      "Warning: skipping session with too few trials 3\n",
      "Warning: skipping session with too few trials 3\n",
      "Warning: skipping session with too few trials 6\n",
      "Warning: skipping session with too few trials 1\n",
      "Warning: skipping session with too few trials 2\n",
      "Warning: skipping session with too few trials 3\n",
      "Warning: skipping session with too few trials 8\n",
      "Warning: skipping session with too few trials 1\n",
      "Warning: skipping session with too few trials 3\n",
      "Warning: skipping session with too few trials 7\n",
      "Warning: skipping session with too few trials 2\n",
      "Warning: skipping session with too few trials 3\n",
      "Warning: skipping session with too few trials 6\n",
      "Warning: skipping session with too few trials 2\n",
      "Warning: skipping session with too few trials 0\n",
      "Warning, all sessions had too few trials, this mouse is skipped\n"
     ]
    },
    {
     "data": {
      "application/vnd.jupyter.widget-view+json": {
       "model_id": "b0e14d1df8554490bfe0516651e657a3",
       "version_major": 2,
       "version_minor": 0
      },
      "text/plain": [
       "IntProgress(value=0, description='mou_6', max=29)"
      ]
     },
     "metadata": {},
     "output_type": "display_data"
    },
    {
     "data": {
      "application/vnd.jupyter.widget-view+json": {
       "model_id": "508a6c1b89fb40a88549e97d3767634e",
       "version_major": 2,
       "version_minor": 0
      },
      "text/plain": [
       "IntProgress(value=0, description='mou_6', max=29)"
      ]
     },
     "metadata": {},
     "output_type": "display_data"
    },
    {
     "data": {
      "application/vnd.jupyter.widget-view+json": {
       "model_id": "73e81d5c137f4e099b745dead6e02043",
       "version_major": 2,
       "version_minor": 0
      },
      "text/plain": [
       "IntProgress(value=0, description='mou_6', max=29)"
      ]
     },
     "metadata": {},
     "output_type": "display_data"
    },
    {
     "data": {
      "application/vnd.jupyter.widget-view+json": {
       "model_id": "86af79074ab045b2a6a5b313129d4906",
       "version_major": 2,
       "version_minor": 0
      },
      "text/plain": [
       "IntProgress(value=0, description='mou_6', max=29)"
      ]
     },
     "metadata": {},
     "output_type": "display_data"
    },
    {
     "data": {
      "application/vnd.jupyter.widget-view+json": {
       "model_id": "342d8a0ab2bb4b2ea262229c79b32ba5",
       "version_major": 2,
       "version_minor": 0
      },
      "text/plain": [
       "IntProgress(value=0, description='mou_6', max=29)"
      ]
     },
     "metadata": {},
     "output_type": "display_data"
    },
    {
     "data": {
      "application/vnd.jupyter.widget-view+json": {
       "model_id": "89dce5e2223045a188c9a87e39670678",
       "version_major": 2,
       "version_minor": 0
      },
      "text/plain": [
       "IntProgress(value=0, description='mou_6', max=29)"
      ]
     },
     "metadata": {},
     "output_type": "display_data"
    },
    {
     "name": "stdout",
     "output_type": "stream",
     "text": [
      "Warning: skipping session with too few trials 3\n",
      "Warning: skipping session with too few trials 2\n",
      "Warning: skipping session with too few trials 8\n",
      "Warning: skipping session with too few trials 8\n",
      "Warning: skipping session with too few trials 8\n",
      "Warning: skipping session with too few trials 3\n",
      "Warning: skipping session with too few trials 4\n",
      "Warning: skipping session with too few trials 9\n",
      "Warning: skipping session with too few trials 5\n",
      "Warning: skipping session with too few trials 4\n",
      "Warning: skipping session with too few trials 7\n",
      "Warning: skipping session with too few trials 7\n",
      "Warning: skipping session with too few trials 3\n",
      "Warning: skipping session with too few trials 4\n",
      "Warning: skipping session with too few trials 2\n",
      "Warning: skipping session with too few trials 1\n"
     ]
    },
    {
     "data": {
      "application/vnd.jupyter.widget-view+json": {
       "model_id": "8e745d0046f34a7a8e01fc23156a9d4a",
       "version_major": 2,
       "version_minor": 0
      },
      "text/plain": [
       "IntProgress(value=0, description='mou_6', max=29)"
      ]
     },
     "metadata": {},
     "output_type": "display_data"
    },
    {
     "name": "stdout",
     "output_type": "stream",
     "text": [
      "Warning: skipping session with too few trials 3\n",
      "Warning: skipping session with too few trials 2\n",
      "Warning: skipping session with too few trials 8\n",
      "Warning: skipping session with too few trials 8\n",
      "Warning: skipping session with too few trials 8\n",
      "Warning: skipping session with too few trials 3\n",
      "Warning: skipping session with too few trials 4\n",
      "Warning: skipping session with too few trials 9\n",
      "Warning: skipping session with too few trials 5\n",
      "Warning: skipping session with too few trials 4\n",
      "Warning: skipping session with too few trials 7\n",
      "Warning: skipping session with too few trials 7\n",
      "Warning: skipping session with too few trials 3\n",
      "Warning: skipping session with too few trials 4\n",
      "Warning: skipping session with too few trials 2\n",
      "Warning: skipping session with too few trials 1\n"
     ]
    },
    {
     "data": {
      "application/vnd.jupyter.widget-view+json": {
       "model_id": "c6ab46307f494b89ac98f9e0aa235934",
       "version_major": 2,
       "version_minor": 0
      },
      "text/plain": [
       "IntProgress(value=0, description='mou_6', max=29)"
      ]
     },
     "metadata": {},
     "output_type": "display_data"
    },
    {
     "name": "stdout",
     "output_type": "stream",
     "text": [
      "Warning: skipping session with too few trials 3\n",
      "Warning: skipping session with too few trials 2\n",
      "Warning: skipping session with too few trials 8\n",
      "Warning: skipping session with too few trials 8\n",
      "Warning: skipping session with too few trials 8\n",
      "Warning: skipping session with too few trials 3\n",
      "Warning: skipping session with too few trials 4\n",
      "Warning: skipping session with too few trials 9\n",
      "Warning: skipping session with too few trials 5\n",
      "Warning: skipping session with too few trials 4\n",
      "Warning: skipping session with too few trials 7\n",
      "Warning: skipping session with too few trials 7\n",
      "Warning: skipping session with too few trials 3\n",
      "Warning: skipping session with too few trials 4\n",
      "Warning: skipping session with too few trials 2\n",
      "Warning: skipping session with too few trials 1\n"
     ]
    },
    {
     "data": {
      "application/vnd.jupyter.widget-view+json": {
       "model_id": "48c873a58aff483e99e377ad12889944",
       "version_major": 2,
       "version_minor": 0
      },
      "text/plain": [
       "IntProgress(value=0, description='mou_6', max=29)"
      ]
     },
     "metadata": {},
     "output_type": "display_data"
    },
    {
     "name": "stdout",
     "output_type": "stream",
     "text": [
      "Warning: skipping session with too few trials 3\n",
      "Warning: skipping session with too few trials 2\n",
      "Warning: skipping session with too few trials 8\n",
      "Warning: skipping session with too few trials 8\n",
      "Warning: skipping session with too few trials 8\n",
      "Warning: skipping session with too few trials 3\n",
      "Warning: skipping session with too few trials 4\n",
      "Warning: skipping session with too few trials 9\n",
      "Warning: skipping session with too few trials 5\n",
      "Warning: skipping session with too few trials 4\n",
      "Warning: skipping session with too few trials 7\n",
      "Warning: skipping session with too few trials 7\n",
      "Warning: skipping session with too few trials 3\n",
      "Warning: skipping session with too few trials 4\n",
      "Warning: skipping session with too few trials 2\n",
      "Warning: skipping session with too few trials 1\n"
     ]
    },
    {
     "data": {
      "application/vnd.jupyter.widget-view+json": {
       "model_id": "638bee3322e24ccabb86f77f7accae27",
       "version_major": 2,
       "version_minor": 0
      },
      "text/plain": [
       "IntProgress(value=0, description='mou_6', max=29)"
      ]
     },
     "metadata": {},
     "output_type": "display_data"
    },
    {
     "name": "stdout",
     "output_type": "stream",
     "text": [
      "Warning: skipping session with too few trials 3\n",
      "Warning: skipping session with too few trials 2\n",
      "Warning: skipping session with too few trials 8\n",
      "Warning: skipping session with too few trials 8\n",
      "Warning: skipping session with too few trials 8\n",
      "Warning: skipping session with too few trials 3\n",
      "Warning: skipping session with too few trials 4\n",
      "Warning: skipping session with too few trials 9\n",
      "Warning: skipping session with too few trials 5\n",
      "Warning: skipping session with too few trials 4\n",
      "Warning: skipping session with too few trials 7\n",
      "Warning: skipping session with too few trials 7\n",
      "Warning: skipping session with too few trials 3\n",
      "Warning: skipping session with too few trials 4\n",
      "Warning: skipping session with too few trials 2\n",
      "Warning: skipping session with too few trials 1\n"
     ]
    },
    {
     "data": {
      "application/vnd.jupyter.widget-view+json": {
       "model_id": "fae215083a9149809e27b88d9ee7dd64",
       "version_major": 2,
       "version_minor": 0
      },
      "text/plain": [
       "IntProgress(value=0, description='mou_6', max=29)"
      ]
     },
     "metadata": {},
     "output_type": "display_data"
    },
    {
     "data": {
      "application/vnd.jupyter.widget-view+json": {
       "model_id": "d7cb6944266b4ef6a3589a29d23b9df4",
       "version_major": 2,
       "version_minor": 0
      },
      "text/plain": [
       "IntProgress(value=0, description='mou_6', max=29)"
      ]
     },
     "metadata": {},
     "output_type": "display_data"
    },
    {
     "data": {
      "application/vnd.jupyter.widget-view+json": {
       "model_id": "d89570eb89d24f81902a4bd89eaed6a8",
       "version_major": 2,
       "version_minor": 0
      },
      "text/plain": [
       "IntProgress(value=0, description='mou_6', max=29)"
      ]
     },
     "metadata": {},
     "output_type": "display_data"
    },
    {
     "data": {
      "application/vnd.jupyter.widget-view+json": {
       "model_id": "19232c4ac5914da08c38d804066bcbf9",
       "version_major": 2,
       "version_minor": 0
      },
      "text/plain": [
       "IntProgress(value=0, description='mou_6', max=29)"
      ]
     },
     "metadata": {},
     "output_type": "display_data"
    },
    {
     "data": {
      "application/vnd.jupyter.widget-view+json": {
       "model_id": "ad7e7d4c432841ff855420295dc7d455",
       "version_major": 2,
       "version_minor": 0
      },
      "text/plain": [
       "IntProgress(value=0, description='mou_6', max=29)"
      ]
     },
     "metadata": {},
     "output_type": "display_data"
    },
    {
     "data": {
      "application/vnd.jupyter.widget-view+json": {
       "model_id": "74d592f971f74ff6b199dc78d3d6409c",
       "version_major": 2,
       "version_minor": 0
      },
      "text/plain": [
       "IntProgress(value=0, description='mou_6', max=29)"
      ]
     },
     "metadata": {},
     "output_type": "display_data"
    },
    {
     "data": {
      "application/vnd.jupyter.widget-view+json": {
       "model_id": "3fd795a0f29b489fb8341b4f93c42ecd",
       "version_major": 2,
       "version_minor": 0
      },
      "text/plain": [
       "IntProgress(value=0, description='mou_6', max=29)"
      ]
     },
     "metadata": {},
     "output_type": "display_data"
    },
    {
     "data": {
      "application/vnd.jupyter.widget-view+json": {
       "model_id": "404c21980e2143fd9196fec66f12a677",
       "version_major": 2,
       "version_minor": 0
      },
      "text/plain": [
       "IntProgress(value=0, description='mou_6', max=29)"
      ]
     },
     "metadata": {},
     "output_type": "display_data"
    },
    {
     "data": {
      "application/vnd.jupyter.widget-view+json": {
       "model_id": "04c9f12af0f84cc1a1569edff15d1c94",
       "version_major": 2,
       "version_minor": 0
      },
      "text/plain": [
       "IntProgress(value=0, description='mou_6', max=29)"
      ]
     },
     "metadata": {},
     "output_type": "display_data"
    },
    {
     "name": "stdout",
     "output_type": "stream",
     "text": [
      "Warning: skipping session with too few trials 1\n",
      "Warning: skipping session with too few trials 1\n",
      "Warning: skipping session with too few trials 1\n",
      "Warning: skipping session with too few trials 0\n",
      "Warning: skipping session with too few trials 1\n",
      "Warning: skipping session with too few trials 0\n",
      "Warning: skipping session with too few trials 1\n",
      "Warning: skipping session with too few trials 1\n",
      "Warning: skipping session with too few trials 0\n",
      "Warning: skipping session with too few trials 2\n",
      "Warning: skipping session with too few trials 1\n",
      "Warning: skipping session with too few trials 1\n",
      "Warning: skipping session with too few trials 1\n",
      "Warning: skipping session with too few trials 2\n",
      "Warning: skipping session with too few trials 3\n",
      "Warning: skipping session with too few trials 3\n",
      "Warning: skipping session with too few trials 6\n",
      "Warning: skipping session with too few trials 1\n",
      "Warning: skipping session with too few trials 2\n",
      "Warning: skipping session with too few trials 3\n",
      "Warning: skipping session with too few trials 8\n",
      "Warning: skipping session with too few trials 1\n",
      "Warning: skipping session with too few trials 3\n",
      "Warning: skipping session with too few trials 7\n",
      "Warning: skipping session with too few trials 2\n",
      "Warning: skipping session with too few trials 3\n",
      "Warning: skipping session with too few trials 6\n",
      "Warning: skipping session with too few trials 2\n",
      "Warning: skipping session with too few trials 0\n",
      "Warning, all sessions had too few trials, this mouse is skipped\n"
     ]
    },
    {
     "data": {
      "application/vnd.jupyter.widget-view+json": {
       "model_id": "ac4d6d4405484cc8be3896d94d1fff96",
       "version_major": 2,
       "version_minor": 0
      },
      "text/plain": [
       "IntProgress(value=0, description='mou_6', max=29)"
      ]
     },
     "metadata": {},
     "output_type": "display_data"
    },
    {
     "name": "stdout",
     "output_type": "stream",
     "text": [
      "Warning: skipping session with too few trials 1\n",
      "Warning: skipping session with too few trials 1\n",
      "Warning: skipping session with too few trials 1\n",
      "Warning: skipping session with too few trials 0\n",
      "Warning: skipping session with too few trials 1\n",
      "Warning: skipping session with too few trials 0\n",
      "Warning: skipping session with too few trials 1\n",
      "Warning: skipping session with too few trials 1\n",
      "Warning: skipping session with too few trials 0\n",
      "Warning: skipping session with too few trials 2\n",
      "Warning: skipping session with too few trials 1\n",
      "Warning: skipping session with too few trials 1\n",
      "Warning: skipping session with too few trials 1\n",
      "Warning: skipping session with too few trials 2\n",
      "Warning: skipping session with too few trials 3\n",
      "Warning: skipping session with too few trials 3\n",
      "Warning: skipping session with too few trials 6\n",
      "Warning: skipping session with too few trials 1\n",
      "Warning: skipping session with too few trials 2\n",
      "Warning: skipping session with too few trials 3\n",
      "Warning: skipping session with too few trials 8\n",
      "Warning: skipping session with too few trials 1\n",
      "Warning: skipping session with too few trials 3\n",
      "Warning: skipping session with too few trials 7\n",
      "Warning: skipping session with too few trials 2\n",
      "Warning: skipping session with too few trials 3\n",
      "Warning: skipping session with too few trials 6\n",
      "Warning: skipping session with too few trials 2\n",
      "Warning: skipping session with too few trials 0\n",
      "Warning, all sessions had too few trials, this mouse is skipped\n"
     ]
    },
    {
     "data": {
      "application/vnd.jupyter.widget-view+json": {
       "model_id": "b95a56cfe9064d81860f0c7cf431c81f",
       "version_major": 2,
       "version_minor": 0
      },
      "text/plain": [
       "IntProgress(value=0, description='mou_6', max=29)"
      ]
     },
     "metadata": {},
     "output_type": "display_data"
    },
    {
     "name": "stdout",
     "output_type": "stream",
     "text": [
      "Warning: skipping session with too few trials 1\n",
      "Warning: skipping session with too few trials 1\n",
      "Warning: skipping session with too few trials 1\n",
      "Warning: skipping session with too few trials 0\n",
      "Warning: skipping session with too few trials 1\n",
      "Warning: skipping session with too few trials 0\n",
      "Warning: skipping session with too few trials 1\n",
      "Warning: skipping session with too few trials 1\n",
      "Warning: skipping session with too few trials 0\n",
      "Warning: skipping session with too few trials 2\n",
      "Warning: skipping session with too few trials 1\n",
      "Warning: skipping session with too few trials 1\n",
      "Warning: skipping session with too few trials 1\n",
      "Warning: skipping session with too few trials 2\n",
      "Warning: skipping session with too few trials 3\n",
      "Warning: skipping session with too few trials 3\n",
      "Warning: skipping session with too few trials 6\n",
      "Warning: skipping session with too few trials 1\n",
      "Warning: skipping session with too few trials 2\n",
      "Warning: skipping session with too few trials 3\n",
      "Warning: skipping session with too few trials 8\n",
      "Warning: skipping session with too few trials 1\n",
      "Warning: skipping session with too few trials 3\n",
      "Warning: skipping session with too few trials 7\n",
      "Warning: skipping session with too few trials 2\n",
      "Warning: skipping session with too few trials 3\n",
      "Warning: skipping session with too few trials 6\n",
      "Warning: skipping session with too few trials 2\n",
      "Warning: skipping session with too few trials 0\n",
      "Warning, all sessions had too few trials, this mouse is skipped\n"
     ]
    },
    {
     "data": {
      "application/vnd.jupyter.widget-view+json": {
       "model_id": "37abf8f4fb78403cba4108113fdb5c07",
       "version_major": 2,
       "version_minor": 0
      },
      "text/plain": [
       "IntProgress(value=0, description='mou_6', max=29)"
      ]
     },
     "metadata": {},
     "output_type": "display_data"
    },
    {
     "name": "stdout",
     "output_type": "stream",
     "text": [
      "Warning: skipping session with too few trials 1\n",
      "Warning: skipping session with too few trials 1\n",
      "Warning: skipping session with too few trials 1\n",
      "Warning: skipping session with too few trials 0\n",
      "Warning: skipping session with too few trials 1\n",
      "Warning: skipping session with too few trials 0\n",
      "Warning: skipping session with too few trials 1\n",
      "Warning: skipping session with too few trials 1\n",
      "Warning: skipping session with too few trials 0\n",
      "Warning: skipping session with too few trials 2\n",
      "Warning: skipping session with too few trials 1\n",
      "Warning: skipping session with too few trials 1\n",
      "Warning: skipping session with too few trials 1\n",
      "Warning: skipping session with too few trials 2\n",
      "Warning: skipping session with too few trials 3\n",
      "Warning: skipping session with too few trials 3\n",
      "Warning: skipping session with too few trials 6\n",
      "Warning: skipping session with too few trials 1\n",
      "Warning: skipping session with too few trials 2\n",
      "Warning: skipping session with too few trials 3\n",
      "Warning: skipping session with too few trials 8\n",
      "Warning: skipping session with too few trials 1\n",
      "Warning: skipping session with too few trials 3\n",
      "Warning: skipping session with too few trials 7\n",
      "Warning: skipping session with too few trials 2\n",
      "Warning: skipping session with too few trials 3\n",
      "Warning: skipping session with too few trials 6\n",
      "Warning: skipping session with too few trials 2\n",
      "Warning: skipping session with too few trials 0\n",
      "Warning, all sessions had too few trials, this mouse is skipped\n"
     ]
    },
    {
     "data": {
      "application/vnd.jupyter.widget-view+json": {
       "model_id": "bbe9eecb77e14621b24ffb59276b1513",
       "version_major": 2,
       "version_minor": 0
      },
      "text/plain": [
       "IntProgress(value=0, description='mou_6', max=29)"
      ]
     },
     "metadata": {},
     "output_type": "display_data"
    },
    {
     "data": {
      "application/vnd.jupyter.widget-view+json": {
       "model_id": "fc9bbc29258c405f96d763d56ca2bc5a",
       "version_major": 2,
       "version_minor": 0
      },
      "text/plain": [
       "IntProgress(value=0, description='mou_6', max=29)"
      ]
     },
     "metadata": {},
     "output_type": "display_data"
    },
    {
     "data": {
      "application/vnd.jupyter.widget-view+json": {
       "model_id": "504971f5eec34ef8bb1f0fdd816e495e",
       "version_major": 2,
       "version_minor": 0
      },
      "text/plain": [
       "IntProgress(value=0, description='mou_6', max=29)"
      ]
     },
     "metadata": {},
     "output_type": "display_data"
    },
    {
     "data": {
      "application/vnd.jupyter.widget-view+json": {
       "model_id": "32e9a98217f54b8ab412f6c2d06b31f0",
       "version_major": 2,
       "version_minor": 0
      },
      "text/plain": [
       "IntProgress(value=0, description='mou_6', max=29)"
      ]
     },
     "metadata": {},
     "output_type": "display_data"
    },
    {
     "data": {
      "application/vnd.jupyter.widget-view+json": {
       "model_id": "3bcc63030b4841668e60b03f2c68a733",
       "version_major": 2,
       "version_minor": 0
      },
      "text/plain": [
       "IntProgress(value=0, description='mou_6', max=29)"
      ]
     },
     "metadata": {},
     "output_type": "display_data"
    },
    {
     "name": "stdout",
     "output_type": "stream",
     "text": [
      "Warning: skipping session with too few trials 3\n",
      "Warning: skipping session with too few trials 2\n",
      "Warning: skipping session with too few trials 8\n",
      "Warning: skipping session with too few trials 8\n",
      "Warning: skipping session with too few trials 8\n",
      "Warning: skipping session with too few trials 3\n",
      "Warning: skipping session with too few trials 4\n",
      "Warning: skipping session with too few trials 9\n",
      "Warning: skipping session with too few trials 5\n",
      "Warning: skipping session with too few trials 4\n",
      "Warning: skipping session with too few trials 7\n",
      "Warning: skipping session with too few trials 7\n",
      "Warning: skipping session with too few trials 3\n",
      "Warning: skipping session with too few trials 4\n",
      "Warning: skipping session with too few trials 2\n",
      "Warning: skipping session with too few trials 1\n"
     ]
    },
    {
     "data": {
      "application/vnd.jupyter.widget-view+json": {
       "model_id": "5488217188b14dd39c35c772a14b7700",
       "version_major": 2,
       "version_minor": 0
      },
      "text/plain": [
       "IntProgress(value=0, description='mou_6', max=29)"
      ]
     },
     "metadata": {},
     "output_type": "display_data"
    },
    {
     "name": "stdout",
     "output_type": "stream",
     "text": [
      "Warning: skipping session with too few trials 3\n",
      "Warning: skipping session with too few trials 2\n",
      "Warning: skipping session with too few trials 8\n",
      "Warning: skipping session with too few trials 8\n",
      "Warning: skipping session with too few trials 8\n",
      "Warning: skipping session with too few trials 3\n",
      "Warning: skipping session with too few trials 4\n",
      "Warning: skipping session with too few trials 9\n",
      "Warning: skipping session with too few trials 5\n",
      "Warning: skipping session with too few trials 4\n",
      "Warning: skipping session with too few trials 7\n",
      "Warning: skipping session with too few trials 7\n",
      "Warning: skipping session with too few trials 3\n",
      "Warning: skipping session with too few trials 4\n",
      "Warning: skipping session with too few trials 2\n",
      "Warning: skipping session with too few trials 1\n"
     ]
    },
    {
     "data": {
      "application/vnd.jupyter.widget-view+json": {
       "model_id": "42361dc3cebf42fda6d9032841f6583e",
       "version_major": 2,
       "version_minor": 0
      },
      "text/plain": [
       "IntProgress(value=0, description='mou_6', max=29)"
      ]
     },
     "metadata": {},
     "output_type": "display_data"
    },
    {
     "name": "stdout",
     "output_type": "stream",
     "text": [
      "Warning: skipping session with too few trials 3\n",
      "Warning: skipping session with too few trials 2\n",
      "Warning: skipping session with too few trials 8\n",
      "Warning: skipping session with too few trials 8\n",
      "Warning: skipping session with too few trials 8\n",
      "Warning: skipping session with too few trials 3\n",
      "Warning: skipping session with too few trials 4\n",
      "Warning: skipping session with too few trials 9\n",
      "Warning: skipping session with too few trials 5\n",
      "Warning: skipping session with too few trials 4\n",
      "Warning: skipping session with too few trials 7\n",
      "Warning: skipping session with too few trials 7\n",
      "Warning: skipping session with too few trials 3\n",
      "Warning: skipping session with too few trials 4\n",
      "Warning: skipping session with too few trials 2\n",
      "Warning: skipping session with too few trials 1\n"
     ]
    },
    {
     "data": {
      "application/vnd.jupyter.widget-view+json": {
       "model_id": "879b480fbcb14ddab828c722ca05b9f9",
       "version_major": 2,
       "version_minor": 0
      },
      "text/plain": [
       "IntProgress(value=0, description='mou_6', max=29)"
      ]
     },
     "metadata": {},
     "output_type": "display_data"
    },
    {
     "name": "stdout",
     "output_type": "stream",
     "text": [
      "Warning: skipping session with too few trials 3\n",
      "Warning: skipping session with too few trials 2\n",
      "Warning: skipping session with too few trials 8\n",
      "Warning: skipping session with too few trials 8\n",
      "Warning: skipping session with too few trials 8\n",
      "Warning: skipping session with too few trials 3\n",
      "Warning: skipping session with too few trials 4\n",
      "Warning: skipping session with too few trials 9\n",
      "Warning: skipping session with too few trials 5\n",
      "Warning: skipping session with too few trials 4\n",
      "Warning: skipping session with too few trials 7\n",
      "Warning: skipping session with too few trials 7\n",
      "Warning: skipping session with too few trials 3\n",
      "Warning: skipping session with too few trials 4\n",
      "Warning: skipping session with too few trials 2\n",
      "Warning: skipping session with too few trials 1\n"
     ]
    },
    {
     "data": {
      "application/vnd.jupyter.widget-view+json": {
       "model_id": "a4c7fbd6e15042eaab8aecbd8c206509",
       "version_major": 2,
       "version_minor": 0
      },
      "text/plain": [
       "IntProgress(value=0, description='mou_9', max=20)"
      ]
     },
     "metadata": {},
     "output_type": "display_data"
    },
    {
     "data": {
      "application/vnd.jupyter.widget-view+json": {
       "model_id": "fbdf53958f594e4cbf6ca866ed60c94e",
       "version_major": 2,
       "version_minor": 0
      },
      "text/plain": [
       "IntProgress(value=0, description='mou_9', max=20)"
      ]
     },
     "metadata": {},
     "output_type": "display_data"
    },
    {
     "data": {
      "application/vnd.jupyter.widget-view+json": {
       "model_id": "4eaf92d9c5f540098f451cd827d1143b",
       "version_major": 2,
       "version_minor": 0
      },
      "text/plain": [
       "IntProgress(value=0, description='mou_9', max=20)"
      ]
     },
     "metadata": {},
     "output_type": "display_data"
    },
    {
     "data": {
      "application/vnd.jupyter.widget-view+json": {
       "model_id": "7ab925fe7c1c41d4ad707e026114df83",
       "version_major": 2,
       "version_minor": 0
      },
      "text/plain": [
       "IntProgress(value=0, description='mou_9', max=20)"
      ]
     },
     "metadata": {},
     "output_type": "display_data"
    },
    {
     "data": {
      "application/vnd.jupyter.widget-view+json": {
       "model_id": "d00805d0bc3843828ed48dbf743f5bf7",
       "version_major": 2,
       "version_minor": 0
      },
      "text/plain": [
       "IntProgress(value=0, description='mou_9', max=20)"
      ]
     },
     "metadata": {},
     "output_type": "display_data"
    },
    {
     "data": {
      "application/vnd.jupyter.widget-view+json": {
       "model_id": "8f6f83d0787640d88cc5071792ad67cd",
       "version_major": 2,
       "version_minor": 0
      },
      "text/plain": [
       "IntProgress(value=0, description='mou_9', max=20)"
      ]
     },
     "metadata": {},
     "output_type": "display_data"
    },
    {
     "data": {
      "application/vnd.jupyter.widget-view+json": {
       "model_id": "1b4068a8a2674587a9dec235a623dfe0",
       "version_major": 2,
       "version_minor": 0
      },
      "text/plain": [
       "IntProgress(value=0, description='mou_9', max=20)"
      ]
     },
     "metadata": {},
     "output_type": "display_data"
    },
    {
     "data": {
      "application/vnd.jupyter.widget-view+json": {
       "model_id": "ff09feb89b4549469b97e04f355af9d4",
       "version_major": 2,
       "version_minor": 0
      },
      "text/plain": [
       "IntProgress(value=0, description='mou_9', max=20)"
      ]
     },
     "metadata": {},
     "output_type": "display_data"
    },
    {
     "data": {
      "application/vnd.jupyter.widget-view+json": {
       "model_id": "8b36e36c5f314e9fb54af753f5087c3d",
       "version_major": 2,
       "version_minor": 0
      },
      "text/plain": [
       "IntProgress(value=0, description='mou_9', max=20)"
      ]
     },
     "metadata": {},
     "output_type": "display_data"
    },
    {
     "data": {
      "application/vnd.jupyter.widget-view+json": {
       "model_id": "c0a01e6a1704455186a07c6063335e3a",
       "version_major": 2,
       "version_minor": 0
      },
      "text/plain": [
       "IntProgress(value=0, description='mou_9', max=20)"
      ]
     },
     "metadata": {},
     "output_type": "display_data"
    },
    {
     "data": {
      "application/vnd.jupyter.widget-view+json": {
       "model_id": "16aed7de66e1469db3dbb23f801c390b",
       "version_major": 2,
       "version_minor": 0
      },
      "text/plain": [
       "IntProgress(value=0, description='mou_9', max=20)"
      ]
     },
     "metadata": {},
     "output_type": "display_data"
    },
    {
     "name": "stdout",
     "output_type": "stream",
     "text": [
      "Warning: skipping session with too few trials 8\n",
      "Warning: skipping session with too few trials 4\n",
      "Warning: skipping session with too few trials 4\n",
      "Warning: skipping session with too few trials 3\n",
      "Warning: skipping session with too few trials 3\n",
      "Warning: skipping session with too few trials 2\n",
      "Warning: skipping session with too few trials 1\n",
      "Warning: skipping session with too few trials 1\n",
      "Warning: skipping session with too few trials 2\n",
      "Warning: skipping session with too few trials 5\n",
      "Warning: skipping session with too few trials 5\n",
      "Warning: skipping session with too few trials 6\n"
     ]
    },
    {
     "data": {
      "application/vnd.jupyter.widget-view+json": {
       "model_id": "e5e7897b16b6426886b2981933c174b3",
       "version_major": 2,
       "version_minor": 0
      },
      "text/plain": [
       "IntProgress(value=0, description='mou_9', max=20)"
      ]
     },
     "metadata": {},
     "output_type": "display_data"
    },
    {
     "name": "stdout",
     "output_type": "stream",
     "text": [
      "Warning: skipping session with too few trials 8\n",
      "Warning: skipping session with too few trials 4\n",
      "Warning: skipping session with too few trials 4\n",
      "Warning: skipping session with too few trials 3\n",
      "Warning: skipping session with too few trials 3\n",
      "Warning: skipping session with too few trials 2\n",
      "Warning: skipping session with too few trials 1\n",
      "Warning: skipping session with too few trials 1\n",
      "Warning: skipping session with too few trials 2\n",
      "Warning: skipping session with too few trials 5\n",
      "Warning: skipping session with too few trials 5\n",
      "Warning: skipping session with too few trials 6\n"
     ]
    },
    {
     "data": {
      "application/vnd.jupyter.widget-view+json": {
       "model_id": "bc7c23fde0274cd78e3847b22ee216a8",
       "version_major": 2,
       "version_minor": 0
      },
      "text/plain": [
       "IntProgress(value=0, description='mou_9', max=20)"
      ]
     },
     "metadata": {},
     "output_type": "display_data"
    },
    {
     "name": "stdout",
     "output_type": "stream",
     "text": [
      "Warning: skipping session with too few trials 8\n",
      "Warning: skipping session with too few trials 4\n",
      "Warning: skipping session with too few trials 4\n",
      "Warning: skipping session with too few trials 3\n",
      "Warning: skipping session with too few trials 3\n",
      "Warning: skipping session with too few trials 2\n",
      "Warning: skipping session with too few trials 1\n",
      "Warning: skipping session with too few trials 1\n",
      "Warning: skipping session with too few trials 2\n",
      "Warning: skipping session with too few trials 5\n",
      "Warning: skipping session with too few trials 5\n",
      "Warning: skipping session with too few trials 6\n"
     ]
    },
    {
     "data": {
      "application/vnd.jupyter.widget-view+json": {
       "model_id": "4698898717ad49248c8dace76371b4fe",
       "version_major": 2,
       "version_minor": 0
      },
      "text/plain": [
       "IntProgress(value=0, description='mou_9', max=20)"
      ]
     },
     "metadata": {},
     "output_type": "display_data"
    },
    {
     "name": "stdout",
     "output_type": "stream",
     "text": [
      "Warning: skipping session with too few trials 8\n",
      "Warning: skipping session with too few trials 4\n",
      "Warning: skipping session with too few trials 4\n",
      "Warning: skipping session with too few trials 3\n",
      "Warning: skipping session with too few trials 3\n",
      "Warning: skipping session with too few trials 2\n",
      "Warning: skipping session with too few trials 1\n",
      "Warning: skipping session with too few trials 1\n",
      "Warning: skipping session with too few trials 2\n",
      "Warning: skipping session with too few trials 5\n",
      "Warning: skipping session with too few trials 5\n",
      "Warning: skipping session with too few trials 6\n"
     ]
    },
    {
     "data": {
      "application/vnd.jupyter.widget-view+json": {
       "model_id": "de7aa591e3df406bb1e79d70c55a5054",
       "version_major": 2,
       "version_minor": 0
      },
      "text/plain": [
       "IntProgress(value=0, description='mou_9', max=20)"
      ]
     },
     "metadata": {},
     "output_type": "display_data"
    },
    {
     "name": "stdout",
     "output_type": "stream",
     "text": [
      "Warning: skipping session with too few trials 8\n",
      "Warning: skipping session with too few trials 4\n",
      "Warning: skipping session with too few trials 4\n",
      "Warning: skipping session with too few trials 3\n",
      "Warning: skipping session with too few trials 3\n",
      "Warning: skipping session with too few trials 2\n",
      "Warning: skipping session with too few trials 1\n",
      "Warning: skipping session with too few trials 1\n",
      "Warning: skipping session with too few trials 2\n",
      "Warning: skipping session with too few trials 5\n",
      "Warning: skipping session with too few trials 5\n",
      "Warning: skipping session with too few trials 6\n"
     ]
    },
    {
     "data": {
      "application/vnd.jupyter.widget-view+json": {
       "model_id": "99ae895f1e314c21b0a05baf225621c5",
       "version_major": 2,
       "version_minor": 0
      },
      "text/plain": [
       "IntProgress(value=0, description='mou_9', max=20)"
      ]
     },
     "metadata": {},
     "output_type": "display_data"
    },
    {
     "data": {
      "application/vnd.jupyter.widget-view+json": {
       "model_id": "6d2a0f9f4da64518acce82fff697b53b",
       "version_major": 2,
       "version_minor": 0
      },
      "text/plain": [
       "IntProgress(value=0, description='mou_9', max=20)"
      ]
     },
     "metadata": {},
     "output_type": "display_data"
    },
    {
     "data": {
      "application/vnd.jupyter.widget-view+json": {
       "model_id": "304c7ad2b4854e0cb1937ca6d8f674c3",
       "version_major": 2,
       "version_minor": 0
      },
      "text/plain": [
       "IntProgress(value=0, description='mou_9', max=20)"
      ]
     },
     "metadata": {},
     "output_type": "display_data"
    },
    {
     "data": {
      "application/vnd.jupyter.widget-view+json": {
       "model_id": "886f44954e7b42c1ad242764b08e070b",
       "version_major": 2,
       "version_minor": 0
      },
      "text/plain": [
       "IntProgress(value=0, description='mou_9', max=20)"
      ]
     },
     "metadata": {},
     "output_type": "display_data"
    },
    {
     "data": {
      "application/vnd.jupyter.widget-view+json": {
       "model_id": "71c1299d558148139f1d358c396d23bd",
       "version_major": 2,
       "version_minor": 0
      },
      "text/plain": [
       "IntProgress(value=0, description='mou_9', max=20)"
      ]
     },
     "metadata": {},
     "output_type": "display_data"
    },
    {
     "data": {
      "application/vnd.jupyter.widget-view+json": {
       "model_id": "64340a48cb3d476e921cf91767af2b9e",
       "version_major": 2,
       "version_minor": 0
      },
      "text/plain": [
       "IntProgress(value=0, description='mou_9', max=20)"
      ]
     },
     "metadata": {},
     "output_type": "display_data"
    },
    {
     "name": "stdout",
     "output_type": "stream",
     "text": [
      "Warning: skipping session with too few trials 1\n",
      "Warning: skipping session with too few trials 1\n",
      "Warning: skipping session with too few trials 3\n",
      "Warning: skipping session with too few trials 4\n",
      "Warning: skipping session with too few trials 4\n",
      "Warning: skipping session with too few trials 0\n",
      "Warning: skipping session with too few trials 2\n",
      "Warning: skipping session with too few trials 2\n",
      "Warning: skipping session with too few trials 9\n",
      "Warning: skipping session with too few trials 1\n",
      "Warning: skipping session with too few trials 2\n",
      "Warning: skipping session with too few trials 2\n",
      "Warning: skipping session with too few trials 8\n",
      "Warning: skipping session with too few trials 3\n",
      "Warning: skipping session with too few trials 4\n",
      "Warning: skipping session with too few trials 1\n",
      "Warning: skipping session with too few trials 2\n",
      "Warning: skipping session with too few trials 1\n",
      "Warning: skipping session with too few trials 1\n",
      "Warning: skipping session with too few trials 1\n",
      "Warning, all sessions had too few trials, this mouse is skipped\n"
     ]
    },
    {
     "data": {
      "application/vnd.jupyter.widget-view+json": {
       "model_id": "56dfde8acf51486ebc0f6c77939bc6f9",
       "version_major": 2,
       "version_minor": 0
      },
      "text/plain": [
       "IntProgress(value=0, description='mou_9', max=20)"
      ]
     },
     "metadata": {},
     "output_type": "display_data"
    },
    {
     "name": "stdout",
     "output_type": "stream",
     "text": [
      "Warning: skipping session with too few trials 1\n",
      "Warning: skipping session with too few trials 1\n",
      "Warning: skipping session with too few trials 3\n",
      "Warning: skipping session with too few trials 4\n",
      "Warning: skipping session with too few trials 4\n",
      "Warning: skipping session with too few trials 0\n",
      "Warning: skipping session with too few trials 2\n",
      "Warning: skipping session with too few trials 2\n",
      "Warning: skipping session with too few trials 9\n",
      "Warning: skipping session with too few trials 1\n",
      "Warning: skipping session with too few trials 2\n",
      "Warning: skipping session with too few trials 2\n",
      "Warning: skipping session with too few trials 8\n",
      "Warning: skipping session with too few trials 3\n",
      "Warning: skipping session with too few trials 4\n",
      "Warning: skipping session with too few trials 1\n",
      "Warning: skipping session with too few trials 2\n",
      "Warning: skipping session with too few trials 1\n",
      "Warning: skipping session with too few trials 1\n",
      "Warning: skipping session with too few trials 1\n",
      "Warning, all sessions had too few trials, this mouse is skipped\n"
     ]
    },
    {
     "data": {
      "application/vnd.jupyter.widget-view+json": {
       "model_id": "aeefc89f728c43e38d8acab0920c4750",
       "version_major": 2,
       "version_minor": 0
      },
      "text/plain": [
       "IntProgress(value=0, description='mou_9', max=20)"
      ]
     },
     "metadata": {},
     "output_type": "display_data"
    },
    {
     "name": "stdout",
     "output_type": "stream",
     "text": [
      "Warning: skipping session with too few trials 1\n",
      "Warning: skipping session with too few trials 1\n",
      "Warning: skipping session with too few trials 3\n",
      "Warning: skipping session with too few trials 4\n",
      "Warning: skipping session with too few trials 4\n",
      "Warning: skipping session with too few trials 0\n",
      "Warning: skipping session with too few trials 2\n",
      "Warning: skipping session with too few trials 2\n",
      "Warning: skipping session with too few trials 9\n",
      "Warning: skipping session with too few trials 1\n",
      "Warning: skipping session with too few trials 2\n",
      "Warning: skipping session with too few trials 2\n",
      "Warning: skipping session with too few trials 8\n",
      "Warning: skipping session with too few trials 3\n",
      "Warning: skipping session with too few trials 4\n",
      "Warning: skipping session with too few trials 1\n",
      "Warning: skipping session with too few trials 2\n",
      "Warning: skipping session with too few trials 1\n",
      "Warning: skipping session with too few trials 1\n",
      "Warning: skipping session with too few trials 1\n",
      "Warning, all sessions had too few trials, this mouse is skipped\n"
     ]
    },
    {
     "data": {
      "application/vnd.jupyter.widget-view+json": {
       "model_id": "905d31175f274fd0b5479533b58aeefc",
       "version_major": 2,
       "version_minor": 0
      },
      "text/plain": [
       "IntProgress(value=0, description='mou_9', max=20)"
      ]
     },
     "metadata": {},
     "output_type": "display_data"
    },
    {
     "name": "stdout",
     "output_type": "stream",
     "text": [
      "Warning: skipping session with too few trials 1\n",
      "Warning: skipping session with too few trials 1\n",
      "Warning: skipping session with too few trials 3\n",
      "Warning: skipping session with too few trials 4\n",
      "Warning: skipping session with too few trials 4\n",
      "Warning: skipping session with too few trials 0\n",
      "Warning: skipping session with too few trials 2\n",
      "Warning: skipping session with too few trials 2\n",
      "Warning: skipping session with too few trials 9\n",
      "Warning: skipping session with too few trials 1\n",
      "Warning: skipping session with too few trials 2\n",
      "Warning: skipping session with too few trials 2\n",
      "Warning: skipping session with too few trials 8\n",
      "Warning: skipping session with too few trials 3\n",
      "Warning: skipping session with too few trials 4\n",
      "Warning: skipping session with too few trials 1\n",
      "Warning: skipping session with too few trials 2\n",
      "Warning: skipping session with too few trials 1\n",
      "Warning: skipping session with too few trials 1\n",
      "Warning: skipping session with too few trials 1\n",
      "Warning, all sessions had too few trials, this mouse is skipped\n"
     ]
    },
    {
     "data": {
      "application/vnd.jupyter.widget-view+json": {
       "model_id": "bba7ad856f664cab96944223b9202d08",
       "version_major": 2,
       "version_minor": 0
      },
      "text/plain": [
       "IntProgress(value=0, description='mou_9', max=20)"
      ]
     },
     "metadata": {},
     "output_type": "display_data"
    },
    {
     "name": "stdout",
     "output_type": "stream",
     "text": [
      "Warning: skipping session with too few trials 1\n",
      "Warning: skipping session with too few trials 1\n",
      "Warning: skipping session with too few trials 3\n",
      "Warning: skipping session with too few trials 4\n",
      "Warning: skipping session with too few trials 4\n",
      "Warning: skipping session with too few trials 0\n",
      "Warning: skipping session with too few trials 2\n",
      "Warning: skipping session with too few trials 2\n",
      "Warning: skipping session with too few trials 9\n",
      "Warning: skipping session with too few trials 1\n",
      "Warning: skipping session with too few trials 2\n",
      "Warning: skipping session with too few trials 2\n",
      "Warning: skipping session with too few trials 8\n",
      "Warning: skipping session with too few trials 3\n",
      "Warning: skipping session with too few trials 4\n",
      "Warning: skipping session with too few trials 1\n",
      "Warning: skipping session with too few trials 2\n",
      "Warning: skipping session with too few trials 1\n",
      "Warning: skipping session with too few trials 1\n",
      "Warning: skipping session with too few trials 1\n",
      "Warning, all sessions had too few trials, this mouse is skipped\n"
     ]
    },
    {
     "data": {
      "application/vnd.jupyter.widget-view+json": {
       "model_id": "3750705bb60f4880a6990c04dea72fc8",
       "version_major": 2,
       "version_minor": 0
      },
      "text/plain": [
       "IntProgress(value=0, description='mou_9', max=20)"
      ]
     },
     "metadata": {},
     "output_type": "display_data"
    },
    {
     "data": {
      "application/vnd.jupyter.widget-view+json": {
       "model_id": "978c742b11df4084a5a13508a9000e45",
       "version_major": 2,
       "version_minor": 0
      },
      "text/plain": [
       "IntProgress(value=0, description='mou_9', max=20)"
      ]
     },
     "metadata": {},
     "output_type": "display_data"
    },
    {
     "data": {
      "application/vnd.jupyter.widget-view+json": {
       "model_id": "8439ff17a9c641428f20ac01bd18873f",
       "version_major": 2,
       "version_minor": 0
      },
      "text/plain": [
       "IntProgress(value=0, description='mou_9', max=20)"
      ]
     },
     "metadata": {},
     "output_type": "display_data"
    },
    {
     "data": {
      "application/vnd.jupyter.widget-view+json": {
       "model_id": "e0bf77b9e0f346bb871cd6bd58c93e27",
       "version_major": 2,
       "version_minor": 0
      },
      "text/plain": [
       "IntProgress(value=0, description='mou_9', max=20)"
      ]
     },
     "metadata": {},
     "output_type": "display_data"
    },
    {
     "data": {
      "application/vnd.jupyter.widget-view+json": {
       "model_id": "8c7805381a394093aa7316908cd2f9bd",
       "version_major": 2,
       "version_minor": 0
      },
      "text/plain": [
       "IntProgress(value=0, description='mou_9', max=20)"
      ]
     },
     "metadata": {},
     "output_type": "display_data"
    },
    {
     "data": {
      "application/vnd.jupyter.widget-view+json": {
       "model_id": "485d62e96f6b46c7b2cf5a897c9a7b7d",
       "version_major": 2,
       "version_minor": 0
      },
      "text/plain": [
       "IntProgress(value=0, description='mou_9', max=20)"
      ]
     },
     "metadata": {},
     "output_type": "display_data"
    },
    {
     "data": {
      "application/vnd.jupyter.widget-view+json": {
       "model_id": "49c893c882d64d8da63a605e1d8d3881",
       "version_major": 2,
       "version_minor": 0
      },
      "text/plain": [
       "IntProgress(value=0, description='mou_9', max=20)"
      ]
     },
     "metadata": {},
     "output_type": "display_data"
    },
    {
     "data": {
      "application/vnd.jupyter.widget-view+json": {
       "model_id": "81e8f76db7e74e9ab1afdbbfad92d895",
       "version_major": 2,
       "version_minor": 0
      },
      "text/plain": [
       "IntProgress(value=0, description='mou_9', max=20)"
      ]
     },
     "metadata": {},
     "output_type": "display_data"
    },
    {
     "data": {
      "application/vnd.jupyter.widget-view+json": {
       "model_id": "590675a3b7504c8383c01d70d1f7ed6b",
       "version_major": 2,
       "version_minor": 0
      },
      "text/plain": [
       "IntProgress(value=0, description='mou_9', max=20)"
      ]
     },
     "metadata": {},
     "output_type": "display_data"
    },
    {
     "data": {
      "application/vnd.jupyter.widget-view+json": {
       "model_id": "8749eba08a004a40bf67e9198cb5406e",
       "version_major": 2,
       "version_minor": 0
      },
      "text/plain": [
       "IntProgress(value=0, description='mou_9', max=20)"
      ]
     },
     "metadata": {},
     "output_type": "display_data"
    },
    {
     "data": {
      "application/vnd.jupyter.widget-view+json": {
       "model_id": "06339a804cd047b7820b93a5887fd59c",
       "version_major": 2,
       "version_minor": 0
      },
      "text/plain": [
       "IntProgress(value=0, description='mou_9', max=20)"
      ]
     },
     "metadata": {},
     "output_type": "display_data"
    },
    {
     "name": "stdout",
     "output_type": "stream",
     "text": [
      "Warning: skipping session with too few trials 8\n",
      "Warning: skipping session with too few trials 4\n",
      "Warning: skipping session with too few trials 4\n",
      "Warning: skipping session with too few trials 3\n",
      "Warning: skipping session with too few trials 3\n",
      "Warning: skipping session with too few trials 2\n",
      "Warning: skipping session with too few trials 1\n",
      "Warning: skipping session with too few trials 1\n",
      "Warning: skipping session with too few trials 2\n",
      "Warning: skipping session with too few trials 5\n",
      "Warning: skipping session with too few trials 5\n",
      "Warning: skipping session with too few trials 6\n"
     ]
    },
    {
     "data": {
      "application/vnd.jupyter.widget-view+json": {
       "model_id": "e89e9d2223834516af3f47421f5b50d7",
       "version_major": 2,
       "version_minor": 0
      },
      "text/plain": [
       "IntProgress(value=0, description='mou_9', max=20)"
      ]
     },
     "metadata": {},
     "output_type": "display_data"
    },
    {
     "name": "stdout",
     "output_type": "stream",
     "text": [
      "Warning: skipping session with too few trials 8\n",
      "Warning: skipping session with too few trials 4\n",
      "Warning: skipping session with too few trials 4\n",
      "Warning: skipping session with too few trials 3\n",
      "Warning: skipping session with too few trials 3\n",
      "Warning: skipping session with too few trials 2\n",
      "Warning: skipping session with too few trials 1\n",
      "Warning: skipping session with too few trials 1\n",
      "Warning: skipping session with too few trials 2\n",
      "Warning: skipping session with too few trials 5\n",
      "Warning: skipping session with too few trials 5\n",
      "Warning: skipping session with too few trials 6\n"
     ]
    },
    {
     "data": {
      "application/vnd.jupyter.widget-view+json": {
       "model_id": "97e12bc5025e43c897d71c4ffc5e4cdc",
       "version_major": 2,
       "version_minor": 0
      },
      "text/plain": [
       "IntProgress(value=0, description='mou_9', max=20)"
      ]
     },
     "metadata": {},
     "output_type": "display_data"
    },
    {
     "name": "stdout",
     "output_type": "stream",
     "text": [
      "Warning: skipping session with too few trials 8\n",
      "Warning: skipping session with too few trials 4\n",
      "Warning: skipping session with too few trials 4\n",
      "Warning: skipping session with too few trials 3\n",
      "Warning: skipping session with too few trials 3\n",
      "Warning: skipping session with too few trials 2\n",
      "Warning: skipping session with too few trials 1\n",
      "Warning: skipping session with too few trials 1\n",
      "Warning: skipping session with too few trials 2\n",
      "Warning: skipping session with too few trials 5\n",
      "Warning: skipping session with too few trials 5\n",
      "Warning: skipping session with too few trials 6\n"
     ]
    },
    {
     "data": {
      "application/vnd.jupyter.widget-view+json": {
       "model_id": "7a9d84fb0c7e4d4f8aaf7556175d225f",
       "version_major": 2,
       "version_minor": 0
      },
      "text/plain": [
       "IntProgress(value=0, description='mou_9', max=20)"
      ]
     },
     "metadata": {},
     "output_type": "display_data"
    },
    {
     "name": "stdout",
     "output_type": "stream",
     "text": [
      "Warning: skipping session with too few trials 8\n",
      "Warning: skipping session with too few trials 4\n",
      "Warning: skipping session with too few trials 4\n",
      "Warning: skipping session with too few trials 3\n",
      "Warning: skipping session with too few trials 3\n",
      "Warning: skipping session with too few trials 2\n",
      "Warning: skipping session with too few trials 1\n",
      "Warning: skipping session with too few trials 1\n",
      "Warning: skipping session with too few trials 2\n",
      "Warning: skipping session with too few trials 5\n",
      "Warning: skipping session with too few trials 5\n",
      "Warning: skipping session with too few trials 6\n"
     ]
    },
    {
     "data": {
      "application/vnd.jupyter.widget-view+json": {
       "model_id": "de0c05d130d2488bb15c5a185e866002",
       "version_major": 2,
       "version_minor": 0
      },
      "text/plain": [
       "IntProgress(value=0, description='mou_9', max=20)"
      ]
     },
     "metadata": {},
     "output_type": "display_data"
    },
    {
     "name": "stdout",
     "output_type": "stream",
     "text": [
      "Warning: skipping session with too few trials 8\n",
      "Warning: skipping session with too few trials 4\n",
      "Warning: skipping session with too few trials 4\n",
      "Warning: skipping session with too few trials 3\n",
      "Warning: skipping session with too few trials 3\n",
      "Warning: skipping session with too few trials 2\n",
      "Warning: skipping session with too few trials 1\n",
      "Warning: skipping session with too few trials 1\n",
      "Warning: skipping session with too few trials 2\n",
      "Warning: skipping session with too few trials 5\n",
      "Warning: skipping session with too few trials 5\n",
      "Warning: skipping session with too few trials 6\n"
     ]
    },
    {
     "data": {
      "application/vnd.jupyter.widget-view+json": {
       "model_id": "fd85b3521e4c44a48391d44008721953",
       "version_major": 2,
       "version_minor": 0
      },
      "text/plain": [
       "IntProgress(value=0, description='mou_9', max=20)"
      ]
     },
     "metadata": {},
     "output_type": "display_data"
    },
    {
     "data": {
      "application/vnd.jupyter.widget-view+json": {
       "model_id": "f0295fbdc438469d87b4db8a583bea72",
       "version_major": 2,
       "version_minor": 0
      },
      "text/plain": [
       "IntProgress(value=0, description='mou_9', max=20)"
      ]
     },
     "metadata": {},
     "output_type": "display_data"
    },
    {
     "data": {
      "application/vnd.jupyter.widget-view+json": {
       "model_id": "3827938a742a463a81ade3a18ab6a515",
       "version_major": 2,
       "version_minor": 0
      },
      "text/plain": [
       "IntProgress(value=0, description='mou_9', max=20)"
      ]
     },
     "metadata": {},
     "output_type": "display_data"
    },
    {
     "data": {
      "application/vnd.jupyter.widget-view+json": {
       "model_id": "a054521d57f54ec4a54de0c5ca06adeb",
       "version_major": 2,
       "version_minor": 0
      },
      "text/plain": [
       "IntProgress(value=0, description='mou_9', max=20)"
      ]
     },
     "metadata": {},
     "output_type": "display_data"
    },
    {
     "data": {
      "application/vnd.jupyter.widget-view+json": {
       "model_id": "fe8c6d62abed4fb1a155c137fc72fb6e",
       "version_major": 2,
       "version_minor": 0
      },
      "text/plain": [
       "IntProgress(value=0, description='mou_9', max=20)"
      ]
     },
     "metadata": {},
     "output_type": "display_data"
    },
    {
     "data": {
      "application/vnd.jupyter.widget-view+json": {
       "model_id": "6655c63c175f4b84a17427e4fe5f0dfe",
       "version_major": 2,
       "version_minor": 0
      },
      "text/plain": [
       "IntProgress(value=0, description='mou_9', max=20)"
      ]
     },
     "metadata": {},
     "output_type": "display_data"
    },
    {
     "name": "stdout",
     "output_type": "stream",
     "text": [
      "Warning: skipping session with too few trials 1\n",
      "Warning: skipping session with too few trials 1\n",
      "Warning: skipping session with too few trials 3\n",
      "Warning: skipping session with too few trials 4\n",
      "Warning: skipping session with too few trials 4\n",
      "Warning: skipping session with too few trials 0\n",
      "Warning: skipping session with too few trials 2\n",
      "Warning: skipping session with too few trials 2\n",
      "Warning: skipping session with too few trials 9\n",
      "Warning: skipping session with too few trials 1\n",
      "Warning: skipping session with too few trials 2\n",
      "Warning: skipping session with too few trials 2\n",
      "Warning: skipping session with too few trials 8\n",
      "Warning: skipping session with too few trials 3\n",
      "Warning: skipping session with too few trials 4\n",
      "Warning: skipping session with too few trials 1\n",
      "Warning: skipping session with too few trials 2\n",
      "Warning: skipping session with too few trials 1\n",
      "Warning: skipping session with too few trials 1\n",
      "Warning: skipping session with too few trials 1\n",
      "Warning, all sessions had too few trials, this mouse is skipped\n"
     ]
    },
    {
     "data": {
      "application/vnd.jupyter.widget-view+json": {
       "model_id": "356ddddcbe9d463f847585c897b3a5b9",
       "version_major": 2,
       "version_minor": 0
      },
      "text/plain": [
       "IntProgress(value=0, description='mou_9', max=20)"
      ]
     },
     "metadata": {},
     "output_type": "display_data"
    },
    {
     "name": "stdout",
     "output_type": "stream",
     "text": [
      "Warning: skipping session with too few trials 1\n",
      "Warning: skipping session with too few trials 1\n",
      "Warning: skipping session with too few trials 3\n",
      "Warning: skipping session with too few trials 4\n",
      "Warning: skipping session with too few trials 4\n",
      "Warning: skipping session with too few trials 0\n",
      "Warning: skipping session with too few trials 2\n",
      "Warning: skipping session with too few trials 2\n",
      "Warning: skipping session with too few trials 9\n",
      "Warning: skipping session with too few trials 1\n",
      "Warning: skipping session with too few trials 2\n",
      "Warning: skipping session with too few trials 2\n",
      "Warning: skipping session with too few trials 8\n",
      "Warning: skipping session with too few trials 3\n",
      "Warning: skipping session with too few trials 4\n",
      "Warning: skipping session with too few trials 1\n",
      "Warning: skipping session with too few trials 2\n",
      "Warning: skipping session with too few trials 1\n",
      "Warning: skipping session with too few trials 1\n",
      "Warning: skipping session with too few trials 1\n",
      "Warning, all sessions had too few trials, this mouse is skipped\n"
     ]
    },
    {
     "data": {
      "application/vnd.jupyter.widget-view+json": {
       "model_id": "cc88b54750894933b854d819ce2e5452",
       "version_major": 2,
       "version_minor": 0
      },
      "text/plain": [
       "IntProgress(value=0, description='mou_9', max=20)"
      ]
     },
     "metadata": {},
     "output_type": "display_data"
    },
    {
     "name": "stdout",
     "output_type": "stream",
     "text": [
      "Warning: skipping session with too few trials 1\n",
      "Warning: skipping session with too few trials 1\n",
      "Warning: skipping session with too few trials 3\n",
      "Warning: skipping session with too few trials 4\n",
      "Warning: skipping session with too few trials 4\n",
      "Warning: skipping session with too few trials 0\n",
      "Warning: skipping session with too few trials 2\n",
      "Warning: skipping session with too few trials 2\n",
      "Warning: skipping session with too few trials 9\n",
      "Warning: skipping session with too few trials 1\n",
      "Warning: skipping session with too few trials 2\n",
      "Warning: skipping session with too few trials 2\n",
      "Warning: skipping session with too few trials 8\n",
      "Warning: skipping session with too few trials 3\n",
      "Warning: skipping session with too few trials 4\n",
      "Warning: skipping session with too few trials 1\n",
      "Warning: skipping session with too few trials 2\n",
      "Warning: skipping session with too few trials 1\n",
      "Warning: skipping session with too few trials 1\n",
      "Warning: skipping session with too few trials 1\n",
      "Warning, all sessions had too few trials, this mouse is skipped\n"
     ]
    },
    {
     "data": {
      "application/vnd.jupyter.widget-view+json": {
       "model_id": "6b989b2e49a64445b459a5ebb52674d8",
       "version_major": 2,
       "version_minor": 0
      },
      "text/plain": [
       "IntProgress(value=0, description='mou_9', max=20)"
      ]
     },
     "metadata": {},
     "output_type": "display_data"
    },
    {
     "name": "stdout",
     "output_type": "stream",
     "text": [
      "Warning: skipping session with too few trials 1\n",
      "Warning: skipping session with too few trials 1\n",
      "Warning: skipping session with too few trials 3\n",
      "Warning: skipping session with too few trials 4\n",
      "Warning: skipping session with too few trials 4\n",
      "Warning: skipping session with too few trials 0\n",
      "Warning: skipping session with too few trials 2\n",
      "Warning: skipping session with too few trials 2\n",
      "Warning: skipping session with too few trials 9\n",
      "Warning: skipping session with too few trials 1\n",
      "Warning: skipping session with too few trials 2\n",
      "Warning: skipping session with too few trials 2\n",
      "Warning: skipping session with too few trials 8\n",
      "Warning: skipping session with too few trials 3\n",
      "Warning: skipping session with too few trials 4\n",
      "Warning: skipping session with too few trials 1\n",
      "Warning: skipping session with too few trials 2\n",
      "Warning: skipping session with too few trials 1\n",
      "Warning: skipping session with too few trials 1\n",
      "Warning: skipping session with too few trials 1\n",
      "Warning, all sessions had too few trials, this mouse is skipped\n"
     ]
    },
    {
     "data": {
      "application/vnd.jupyter.widget-view+json": {
       "model_id": "6233af378ba6406bb02cef1de9710038",
       "version_major": 2,
       "version_minor": 0
      },
      "text/plain": [
       "IntProgress(value=0, description='mou_9', max=20)"
      ]
     },
     "metadata": {},
     "output_type": "display_data"
    },
    {
     "name": "stdout",
     "output_type": "stream",
     "text": [
      "Warning: skipping session with too few trials 1\n",
      "Warning: skipping session with too few trials 1\n",
      "Warning: skipping session with too few trials 3\n",
      "Warning: skipping session with too few trials 4\n",
      "Warning: skipping session with too few trials 4\n",
      "Warning: skipping session with too few trials 0\n",
      "Warning: skipping session with too few trials 2\n",
      "Warning: skipping session with too few trials 2\n",
      "Warning: skipping session with too few trials 9\n",
      "Warning: skipping session with too few trials 1\n",
      "Warning: skipping session with too few trials 2\n",
      "Warning: skipping session with too few trials 2\n",
      "Warning: skipping session with too few trials 8\n",
      "Warning: skipping session with too few trials 3\n",
      "Warning: skipping session with too few trials 4\n",
      "Warning: skipping session with too few trials 1\n",
      "Warning: skipping session with too few trials 2\n",
      "Warning: skipping session with too few trials 1\n",
      "Warning: skipping session with too few trials 1\n",
      "Warning: skipping session with too few trials 1\n",
      "Warning, all sessions had too few trials, this mouse is skipped\n"
     ]
    },
    {
     "data": {
      "application/vnd.jupyter.widget-view+json": {
       "model_id": "8b4ab01aa7c94d4f942c649f406d1d0b",
       "version_major": 2,
       "version_minor": 0
      },
      "text/plain": [
       "IntProgress(value=0, description='mou_9', max=20)"
      ]
     },
     "metadata": {},
     "output_type": "display_data"
    },
    {
     "data": {
      "application/vnd.jupyter.widget-view+json": {
       "model_id": "792811b552d4448abd0e9e8d7914343d",
       "version_major": 2,
       "version_minor": 0
      },
      "text/plain": [
       "IntProgress(value=0, description='mou_9', max=20)"
      ]
     },
     "metadata": {},
     "output_type": "display_data"
    },
    {
     "data": {
      "application/vnd.jupyter.widget-view+json": {
       "model_id": "92b9a5e6730e4bd285fdcae10797e957",
       "version_major": 2,
       "version_minor": 0
      },
      "text/plain": [
       "IntProgress(value=0, description='mou_9', max=20)"
      ]
     },
     "metadata": {},
     "output_type": "display_data"
    },
    {
     "data": {
      "application/vnd.jupyter.widget-view+json": {
       "model_id": "8c61e81feb444bb3a49e97b21f32b1bf",
       "version_major": 2,
       "version_minor": 0
      },
      "text/plain": [
       "IntProgress(value=0, description='mou_9', max=20)"
      ]
     },
     "metadata": {},
     "output_type": "display_data"
    },
    {
     "data": {
      "application/vnd.jupyter.widget-view+json": {
       "model_id": "b7eedc1e0ec5497498e4402852d3377e",
       "version_major": 2,
       "version_minor": 0
      },
      "text/plain": [
       "IntProgress(value=0, description='mou_9', max=20)"
      ]
     },
     "metadata": {},
     "output_type": "display_data"
    },
    {
     "data": {
      "application/vnd.jupyter.widget-view+json": {
       "model_id": "e0e1c768235a43e4840c388e72daac43",
       "version_major": 2,
       "version_minor": 0
      },
      "text/plain": [
       "IntProgress(value=0, description='mou_9', max=20)"
      ]
     },
     "metadata": {},
     "output_type": "display_data"
    },
    {
     "data": {
      "application/vnd.jupyter.widget-view+json": {
       "model_id": "1cd8ac2831a44387ad509ef429bf7d46",
       "version_major": 2,
       "version_minor": 0
      },
      "text/plain": [
       "IntProgress(value=0, description='mou_9', max=20)"
      ]
     },
     "metadata": {},
     "output_type": "display_data"
    },
    {
     "data": {
      "application/vnd.jupyter.widget-view+json": {
       "model_id": "ba9c7d86ab234ee09b7e554e36fb7182",
       "version_major": 2,
       "version_minor": 0
      },
      "text/plain": [
       "IntProgress(value=0, description='mou_9', max=20)"
      ]
     },
     "metadata": {},
     "output_type": "display_data"
    },
    {
     "data": {
      "application/vnd.jupyter.widget-view+json": {
       "model_id": "163f3e3f612f4a9593ecb6e03afa64e2",
       "version_major": 2,
       "version_minor": 0
      },
      "text/plain": [
       "IntProgress(value=0, description='mou_9', max=20)"
      ]
     },
     "metadata": {},
     "output_type": "display_data"
    },
    {
     "name": "stdout",
     "output_type": "stream",
     "text": [
      "Warning: skipping session with too few trials 8\n",
      "Warning: skipping session with too few trials 4\n",
      "Warning: skipping session with too few trials 4\n",
      "Warning: skipping session with too few trials 3\n",
      "Warning: skipping session with too few trials 3\n",
      "Warning: skipping session with too few trials 2\n",
      "Warning: skipping session with too few trials 1\n",
      "Warning: skipping session with too few trials 1\n",
      "Warning: skipping session with too few trials 2\n",
      "Warning: skipping session with too few trials 5\n",
      "Warning: skipping session with too few trials 5\n",
      "Warning: skipping session with too few trials 6\n"
     ]
    },
    {
     "data": {
      "application/vnd.jupyter.widget-view+json": {
       "model_id": "47211b936b374a46847ec0f38e35711c",
       "version_major": 2,
       "version_minor": 0
      },
      "text/plain": [
       "IntProgress(value=0, description='mou_9', max=20)"
      ]
     },
     "metadata": {},
     "output_type": "display_data"
    },
    {
     "name": "stdout",
     "output_type": "stream",
     "text": [
      "Warning: skipping session with too few trials 8\n",
      "Warning: skipping session with too few trials 4\n",
      "Warning: skipping session with too few trials 4\n",
      "Warning: skipping session with too few trials 3\n",
      "Warning: skipping session with too few trials 3\n",
      "Warning: skipping session with too few trials 2\n",
      "Warning: skipping session with too few trials 1\n",
      "Warning: skipping session with too few trials 1\n",
      "Warning: skipping session with too few trials 2\n",
      "Warning: skipping session with too few trials 5\n",
      "Warning: skipping session with too few trials 5\n",
      "Warning: skipping session with too few trials 6\n"
     ]
    },
    {
     "data": {
      "application/vnd.jupyter.widget-view+json": {
       "model_id": "53f2459ba6c04b859f981efc83642f98",
       "version_major": 2,
       "version_minor": 0
      },
      "text/plain": [
       "IntProgress(value=0, description='mou_9', max=20)"
      ]
     },
     "metadata": {},
     "output_type": "display_data"
    },
    {
     "name": "stdout",
     "output_type": "stream",
     "text": [
      "Warning: skipping session with too few trials 8\n",
      "Warning: skipping session with too few trials 4\n",
      "Warning: skipping session with too few trials 4\n",
      "Warning: skipping session with too few trials 3\n",
      "Warning: skipping session with too few trials 3\n",
      "Warning: skipping session with too few trials 2\n",
      "Warning: skipping session with too few trials 1\n",
      "Warning: skipping session with too few trials 1\n",
      "Warning: skipping session with too few trials 2\n",
      "Warning: skipping session with too few trials 5\n",
      "Warning: skipping session with too few trials 5\n",
      "Warning: skipping session with too few trials 6\n"
     ]
    },
    {
     "data": {
      "application/vnd.jupyter.widget-view+json": {
       "model_id": "ad6ed59163204cd1aa8347d26753007b",
       "version_major": 2,
       "version_minor": 0
      },
      "text/plain": [
       "IntProgress(value=0, description='mou_9', max=20)"
      ]
     },
     "metadata": {},
     "output_type": "display_data"
    },
    {
     "name": "stdout",
     "output_type": "stream",
     "text": [
      "Warning: skipping session with too few trials 8\n",
      "Warning: skipping session with too few trials 4\n",
      "Warning: skipping session with too few trials 4\n",
      "Warning: skipping session with too few trials 3\n",
      "Warning: skipping session with too few trials 3\n",
      "Warning: skipping session with too few trials 2\n",
      "Warning: skipping session with too few trials 1\n",
      "Warning: skipping session with too few trials 1\n",
      "Warning: skipping session with too few trials 2\n",
      "Warning: skipping session with too few trials 5\n",
      "Warning: skipping session with too few trials 5\n",
      "Warning: skipping session with too few trials 6\n"
     ]
    },
    {
     "data": {
      "application/vnd.jupyter.widget-view+json": {
       "model_id": "15ce73b287ab48bea1533fcc895d07ed",
       "version_major": 2,
       "version_minor": 0
      },
      "text/plain": [
       "IntProgress(value=0, description='mou_9', max=20)"
      ]
     },
     "metadata": {},
     "output_type": "display_data"
    },
    {
     "data": {
      "application/vnd.jupyter.widget-view+json": {
       "model_id": "1097c9316bed41c5afcefd6935b6cbec",
       "version_major": 2,
       "version_minor": 0
      },
      "text/plain": [
       "IntProgress(value=0, description='mou_9', max=20)"
      ]
     },
     "metadata": {},
     "output_type": "display_data"
    },
    {
     "data": {
      "application/vnd.jupyter.widget-view+json": {
       "model_id": "81019c87f5a6433e87dc957c07cc76c0",
       "version_major": 2,
       "version_minor": 0
      },
      "text/plain": [
       "IntProgress(value=0, description='mou_9', max=20)"
      ]
     },
     "metadata": {},
     "output_type": "display_data"
    },
    {
     "data": {
      "application/vnd.jupyter.widget-view+json": {
       "model_id": "b03ed5b471a24168acd11e4e13df8c91",
       "version_major": 2,
       "version_minor": 0
      },
      "text/plain": [
       "IntProgress(value=0, description='mou_9', max=20)"
      ]
     },
     "metadata": {},
     "output_type": "display_data"
    },
    {
     "data": {
      "application/vnd.jupyter.widget-view+json": {
       "model_id": "6d01b80a42ba478e9a24ad8e55c9977f",
       "version_major": 2,
       "version_minor": 0
      },
      "text/plain": [
       "IntProgress(value=0, description='mou_9', max=20)"
      ]
     },
     "metadata": {},
     "output_type": "display_data"
    },
    {
     "name": "stdout",
     "output_type": "stream",
     "text": [
      "Warning: skipping session with too few trials 1\n",
      "Warning: skipping session with too few trials 1\n",
      "Warning: skipping session with too few trials 3\n",
      "Warning: skipping session with too few trials 4\n",
      "Warning: skipping session with too few trials 4\n",
      "Warning: skipping session with too few trials 0\n",
      "Warning: skipping session with too few trials 2\n",
      "Warning: skipping session with too few trials 2\n",
      "Warning: skipping session with too few trials 9\n",
      "Warning: skipping session with too few trials 1\n",
      "Warning: skipping session with too few trials 2\n",
      "Warning: skipping session with too few trials 2\n",
      "Warning: skipping session with too few trials 8\n",
      "Warning: skipping session with too few trials 3\n",
      "Warning: skipping session with too few trials 4\n",
      "Warning: skipping session with too few trials 1\n",
      "Warning: skipping session with too few trials 2\n",
      "Warning: skipping session with too few trials 1\n",
      "Warning: skipping session with too few trials 1\n",
      "Warning: skipping session with too few trials 1\n",
      "Warning, all sessions had too few trials, this mouse is skipped\n"
     ]
    },
    {
     "data": {
      "application/vnd.jupyter.widget-view+json": {
       "model_id": "c3f65b37d066464c86f1cfb08b71ba39",
       "version_major": 2,
       "version_minor": 0
      },
      "text/plain": [
       "IntProgress(value=0, description='mou_9', max=20)"
      ]
     },
     "metadata": {},
     "output_type": "display_data"
    },
    {
     "name": "stdout",
     "output_type": "stream",
     "text": [
      "Warning: skipping session with too few trials 1\n",
      "Warning: skipping session with too few trials 1\n",
      "Warning: skipping session with too few trials 3\n",
      "Warning: skipping session with too few trials 4\n",
      "Warning: skipping session with too few trials 4\n",
      "Warning: skipping session with too few trials 0\n",
      "Warning: skipping session with too few trials 2\n",
      "Warning: skipping session with too few trials 2\n",
      "Warning: skipping session with too few trials 9\n",
      "Warning: skipping session with too few trials 1\n",
      "Warning: skipping session with too few trials 2\n",
      "Warning: skipping session with too few trials 2\n",
      "Warning: skipping session with too few trials 8\n",
      "Warning: skipping session with too few trials 3\n",
      "Warning: skipping session with too few trials 4\n",
      "Warning: skipping session with too few trials 1\n",
      "Warning: skipping session with too few trials 2\n",
      "Warning: skipping session with too few trials 1\n",
      "Warning: skipping session with too few trials 1\n",
      "Warning: skipping session with too few trials 1\n",
      "Warning, all sessions had too few trials, this mouse is skipped\n"
     ]
    },
    {
     "data": {
      "application/vnd.jupyter.widget-view+json": {
       "model_id": "565b201e10f7466691e815c5a382952a",
       "version_major": 2,
       "version_minor": 0
      },
      "text/plain": [
       "IntProgress(value=0, description='mou_9', max=20)"
      ]
     },
     "metadata": {},
     "output_type": "display_data"
    },
    {
     "name": "stdout",
     "output_type": "stream",
     "text": [
      "Warning: skipping session with too few trials 1\n",
      "Warning: skipping session with too few trials 1\n",
      "Warning: skipping session with too few trials 3\n",
      "Warning: skipping session with too few trials 4\n",
      "Warning: skipping session with too few trials 4\n",
      "Warning: skipping session with too few trials 0\n",
      "Warning: skipping session with too few trials 2\n",
      "Warning: skipping session with too few trials 2\n",
      "Warning: skipping session with too few trials 9\n",
      "Warning: skipping session with too few trials 1\n",
      "Warning: skipping session with too few trials 2\n",
      "Warning: skipping session with too few trials 2\n",
      "Warning: skipping session with too few trials 8\n",
      "Warning: skipping session with too few trials 3\n",
      "Warning: skipping session with too few trials 4\n",
      "Warning: skipping session with too few trials 1\n",
      "Warning: skipping session with too few trials 2\n",
      "Warning: skipping session with too few trials 1\n",
      "Warning: skipping session with too few trials 1\n",
      "Warning: skipping session with too few trials 1\n",
      "Warning, all sessions had too few trials, this mouse is skipped\n"
     ]
    },
    {
     "data": {
      "application/vnd.jupyter.widget-view+json": {
       "model_id": "7f986877d0bc4cfb8a54fc0f4c3dbe98",
       "version_major": 2,
       "version_minor": 0
      },
      "text/plain": [
       "IntProgress(value=0, description='mou_9', max=20)"
      ]
     },
     "metadata": {},
     "output_type": "display_data"
    },
    {
     "name": "stdout",
     "output_type": "stream",
     "text": [
      "Warning: skipping session with too few trials 1\n",
      "Warning: skipping session with too few trials 1\n",
      "Warning: skipping session with too few trials 3\n",
      "Warning: skipping session with too few trials 4\n",
      "Warning: skipping session with too few trials 4\n",
      "Warning: skipping session with too few trials 0\n",
      "Warning: skipping session with too few trials 2\n",
      "Warning: skipping session with too few trials 2\n",
      "Warning: skipping session with too few trials 9\n",
      "Warning: skipping session with too few trials 1\n",
      "Warning: skipping session with too few trials 2\n",
      "Warning: skipping session with too few trials 2\n",
      "Warning: skipping session with too few trials 8\n",
      "Warning: skipping session with too few trials 3\n",
      "Warning: skipping session with too few trials 4\n",
      "Warning: skipping session with too few trials 1\n",
      "Warning: skipping session with too few trials 2\n",
      "Warning: skipping session with too few trials 1\n",
      "Warning: skipping session with too few trials 1\n",
      "Warning: skipping session with too few trials 1\n",
      "Warning, all sessions had too few trials, this mouse is skipped\n"
     ]
    },
    {
     "data": {
      "application/vnd.jupyter.widget-view+json": {
       "model_id": "f4e4ede9d5a04dd9aed0eb0d5223a1b0",
       "version_major": 2,
       "version_minor": 0
      },
      "text/plain": [
       "IntProgress(value=0, description='mou_7', max=36)"
      ]
     },
     "metadata": {},
     "output_type": "display_data"
    },
    {
     "data": {
      "application/vnd.jupyter.widget-view+json": {
       "model_id": "fd3494dc9d724058a82c6eb4277e7328",
       "version_major": 2,
       "version_minor": 0
      },
      "text/plain": [
       "IntProgress(value=0, description='mou_7', max=36)"
      ]
     },
     "metadata": {},
     "output_type": "display_data"
    },
    {
     "data": {
      "application/vnd.jupyter.widget-view+json": {
       "model_id": "bc94b7fe27a0427cb607d164425e8d15",
       "version_major": 2,
       "version_minor": 0
      },
      "text/plain": [
       "IntProgress(value=0, description='mou_7', max=36)"
      ]
     },
     "metadata": {},
     "output_type": "display_data"
    },
    {
     "data": {
      "application/vnd.jupyter.widget-view+json": {
       "model_id": "45fe69b2163d4007b7a618ceadb56e22",
       "version_major": 2,
       "version_minor": 0
      },
      "text/plain": [
       "IntProgress(value=0, description='mou_7', max=36)"
      ]
     },
     "metadata": {},
     "output_type": "display_data"
    },
    {
     "data": {
      "application/vnd.jupyter.widget-view+json": {
       "model_id": "1a5c939c157f497d89b682cd628cc2b1",
       "version_major": 2,
       "version_minor": 0
      },
      "text/plain": [
       "IntProgress(value=0, description='mou_7', max=36)"
      ]
     },
     "metadata": {},
     "output_type": "display_data"
    },
    {
     "data": {
      "application/vnd.jupyter.widget-view+json": {
       "model_id": "a5f3847474084e19b6e072d2aaff13d7",
       "version_major": 2,
       "version_minor": 0
      },
      "text/plain": [
       "IntProgress(value=0, description='mou_7', max=36)"
      ]
     },
     "metadata": {},
     "output_type": "display_data"
    },
    {
     "name": "stdout",
     "output_type": "stream",
     "text": [
      "Warning: skipping session with too few trials 9\n",
      "Warning: skipping session with too few trials 6\n",
      "Warning: skipping session with too few trials 9\n"
     ]
    },
    {
     "data": {
      "application/vnd.jupyter.widget-view+json": {
       "model_id": "3dab008b1b3f4e819086223c36cd2ccd",
       "version_major": 2,
       "version_minor": 0
      },
      "text/plain": [
       "IntProgress(value=0, description='mou_7', max=36)"
      ]
     },
     "metadata": {},
     "output_type": "display_data"
    },
    {
     "name": "stdout",
     "output_type": "stream",
     "text": [
      "Warning: skipping session with too few trials 9\n",
      "Warning: skipping session with too few trials 6\n",
      "Warning: skipping session with too few trials 9\n"
     ]
    },
    {
     "data": {
      "application/vnd.jupyter.widget-view+json": {
       "model_id": "ceda5a51dd5442ecbef60f68801a3fe8",
       "version_major": 2,
       "version_minor": 0
      },
      "text/plain": [
       "IntProgress(value=0, description='mou_7', max=36)"
      ]
     },
     "metadata": {},
     "output_type": "display_data"
    },
    {
     "name": "stdout",
     "output_type": "stream",
     "text": [
      "Warning: skipping session with too few trials 9\n",
      "Warning: skipping session with too few trials 6\n",
      "Warning: skipping session with too few trials 9\n"
     ]
    },
    {
     "data": {
      "application/vnd.jupyter.widget-view+json": {
       "model_id": "0f036d11f3b64d6fbbcb54e8cc3969ba",
       "version_major": 2,
       "version_minor": 0
      },
      "text/plain": [
       "IntProgress(value=0, description='mou_7', max=36)"
      ]
     },
     "metadata": {},
     "output_type": "display_data"
    },
    {
     "name": "stdout",
     "output_type": "stream",
     "text": [
      "Warning: skipping session with too few trials 9\n",
      "Warning: skipping session with too few trials 6\n",
      "Warning: skipping session with too few trials 9\n"
     ]
    },
    {
     "data": {
      "application/vnd.jupyter.widget-view+json": {
       "model_id": "57be0fa8806d42119c5e2e2e114c16b0",
       "version_major": 2,
       "version_minor": 0
      },
      "text/plain": [
       "IntProgress(value=0, description='mou_7', max=36)"
      ]
     },
     "metadata": {},
     "output_type": "display_data"
    },
    {
     "name": "stdout",
     "output_type": "stream",
     "text": [
      "Warning: skipping session with too few trials 9\n",
      "Warning: skipping session with too few trials 6\n",
      "Warning: skipping session with too few trials 9\n"
     ]
    },
    {
     "data": {
      "application/vnd.jupyter.widget-view+json": {
       "model_id": "0b0288a1f90b47d5857beefd2d74f29f",
       "version_major": 2,
       "version_minor": 0
      },
      "text/plain": [
       "IntProgress(value=0, description='mou_7', max=36)"
      ]
     },
     "metadata": {},
     "output_type": "display_data"
    },
    {
     "name": "stdout",
     "output_type": "stream",
     "text": [
      "Warning: skipping session with too few trials 5\n",
      "Warning: skipping session with too few trials 0\n",
      "Warning: skipping session with too few trials 0\n",
      "Warning: skipping session with too few trials 1\n",
      "Warning: skipping session with too few trials 0\n",
      "Warning: skipping session with too few trials 4\n",
      "Warning: skipping session with too few trials 2\n",
      "Warning: skipping session with too few trials 7\n",
      "Warning: skipping session with too few trials 1\n",
      "Warning: skipping session with too few trials 8\n",
      "Warning: skipping session with too few trials 5\n",
      "Warning: skipping session with too few trials 7\n",
      "Warning: skipping session with too few trials 8\n",
      "Warning: skipping session with too few trials 9\n",
      "Warning: skipping session with too few trials 2\n",
      "Warning: skipping session with too few trials 2\n",
      "Warning: skipping session with too few trials 4\n",
      "Warning: skipping session with too few trials 9\n",
      "Warning: skipping session with too few trials 0\n",
      "Warning: skipping session with too few trials 4\n",
      "Warning: skipping session with too few trials 2\n",
      "Warning: skipping session with too few trials 8\n",
      "Warning: skipping session with too few trials 3\n",
      "Warning: skipping session with too few trials 4\n",
      "Warning: skipping session with too few trials 7\n",
      "Warning: skipping session with too few trials 7\n",
      "Warning: skipping session with too few trials 6\n",
      "Warning: skipping session with too few trials 2\n",
      "Warning: skipping session with too few trials 2\n",
      "Warning: skipping session with too few trials 8\n"
     ]
    },
    {
     "data": {
      "application/vnd.jupyter.widget-view+json": {
       "model_id": "f4ffb6449c6645e0b868c17821019a9b",
       "version_major": 2,
       "version_minor": 0
      },
      "text/plain": [
       "IntProgress(value=0, description='mou_7', max=36)"
      ]
     },
     "metadata": {},
     "output_type": "display_data"
    },
    {
     "name": "stdout",
     "output_type": "stream",
     "text": [
      "Warning: skipping session with too few trials 5\n",
      "Warning: skipping session with too few trials 0\n",
      "Warning: skipping session with too few trials 0\n",
      "Warning: skipping session with too few trials 1\n",
      "Warning: skipping session with too few trials 0\n",
      "Warning: skipping session with too few trials 4\n",
      "Warning: skipping session with too few trials 2\n",
      "Warning: skipping session with too few trials 7\n",
      "Warning: skipping session with too few trials 1\n",
      "Warning: skipping session with too few trials 8\n",
      "Warning: skipping session with too few trials 5\n",
      "Warning: skipping session with too few trials 7\n",
      "Warning: skipping session with too few trials 8\n",
      "Warning: skipping session with too few trials 9\n",
      "Warning: skipping session with too few trials 2\n",
      "Warning: skipping session with too few trials 2\n",
      "Warning: skipping session with too few trials 4\n",
      "Warning: skipping session with too few trials 9\n",
      "Warning: skipping session with too few trials 0\n",
      "Warning: skipping session with too few trials 4\n",
      "Warning: skipping session with too few trials 2\n",
      "Warning: skipping session with too few trials 8\n",
      "Warning: skipping session with too few trials 3\n",
      "Warning: skipping session with too few trials 4\n",
      "Warning: skipping session with too few trials 7\n",
      "Warning: skipping session with too few trials 7\n",
      "Warning: skipping session with too few trials 6\n",
      "Warning: skipping session with too few trials 2\n",
      "Warning: skipping session with too few trials 2\n",
      "Warning: skipping session with too few trials 8\n"
     ]
    },
    {
     "data": {
      "application/vnd.jupyter.widget-view+json": {
       "model_id": "da0a1da6f72c4041b3baa82dfacc8a33",
       "version_major": 2,
       "version_minor": 0
      },
      "text/plain": [
       "IntProgress(value=0, description='mou_7', max=36)"
      ]
     },
     "metadata": {},
     "output_type": "display_data"
    },
    {
     "name": "stdout",
     "output_type": "stream",
     "text": [
      "Warning: skipping session with too few trials 5\n",
      "Warning: skipping session with too few trials 0\n",
      "Warning: skipping session with too few trials 0\n",
      "Warning: skipping session with too few trials 1\n",
      "Warning: skipping session with too few trials 0\n",
      "Warning: skipping session with too few trials 4\n",
      "Warning: skipping session with too few trials 2\n",
      "Warning: skipping session with too few trials 7\n",
      "Warning: skipping session with too few trials 1\n",
      "Warning: skipping session with too few trials 8\n",
      "Warning: skipping session with too few trials 5\n",
      "Warning: skipping session with too few trials 7\n",
      "Warning: skipping session with too few trials 8\n",
      "Warning: skipping session with too few trials 9\n",
      "Warning: skipping session with too few trials 2\n",
      "Warning: skipping session with too few trials 2\n",
      "Warning: skipping session with too few trials 4\n",
      "Warning: skipping session with too few trials 9\n",
      "Warning: skipping session with too few trials 0\n",
      "Warning: skipping session with too few trials 4\n",
      "Warning: skipping session with too few trials 2\n",
      "Warning: skipping session with too few trials 8\n",
      "Warning: skipping session with too few trials 3\n",
      "Warning: skipping session with too few trials 4\n",
      "Warning: skipping session with too few trials 7\n",
      "Warning: skipping session with too few trials 7\n",
      "Warning: skipping session with too few trials 6\n",
      "Warning: skipping session with too few trials 2\n",
      "Warning: skipping session with too few trials 2\n",
      "Warning: skipping session with too few trials 8\n"
     ]
    },
    {
     "data": {
      "application/vnd.jupyter.widget-view+json": {
       "model_id": "87aef2ec17b849d68927d3872fa7565c",
       "version_major": 2,
       "version_minor": 0
      },
      "text/plain": [
       "IntProgress(value=0, description='mou_7', max=36)"
      ]
     },
     "metadata": {},
     "output_type": "display_data"
    },
    {
     "name": "stdout",
     "output_type": "stream",
     "text": [
      "Warning: skipping session with too few trials 5\n",
      "Warning: skipping session with too few trials 0\n",
      "Warning: skipping session with too few trials 0\n",
      "Warning: skipping session with too few trials 1\n",
      "Warning: skipping session with too few trials 0\n",
      "Warning: skipping session with too few trials 4\n",
      "Warning: skipping session with too few trials 2\n",
      "Warning: skipping session with too few trials 7\n",
      "Warning: skipping session with too few trials 1\n",
      "Warning: skipping session with too few trials 8\n",
      "Warning: skipping session with too few trials 5\n",
      "Warning: skipping session with too few trials 7\n",
      "Warning: skipping session with too few trials 8\n",
      "Warning: skipping session with too few trials 9\n",
      "Warning: skipping session with too few trials 2\n",
      "Warning: skipping session with too few trials 2\n",
      "Warning: skipping session with too few trials 4\n",
      "Warning: skipping session with too few trials 9\n",
      "Warning: skipping session with too few trials 0\n",
      "Warning: skipping session with too few trials 4\n",
      "Warning: skipping session with too few trials 2\n",
      "Warning: skipping session with too few trials 8\n",
      "Warning: skipping session with too few trials 3\n",
      "Warning: skipping session with too few trials 4\n",
      "Warning: skipping session with too few trials 7\n",
      "Warning: skipping session with too few trials 7\n",
      "Warning: skipping session with too few trials 6\n",
      "Warning: skipping session with too few trials 2\n",
      "Warning: skipping session with too few trials 2\n",
      "Warning: skipping session with too few trials 8\n"
     ]
    },
    {
     "data": {
      "application/vnd.jupyter.widget-view+json": {
       "model_id": "44420d22f9cd436eb2adf9b5f4a2a94d",
       "version_major": 2,
       "version_minor": 0
      },
      "text/plain": [
       "IntProgress(value=0, description='mou_7', max=36)"
      ]
     },
     "metadata": {},
     "output_type": "display_data"
    },
    {
     "name": "stdout",
     "output_type": "stream",
     "text": [
      "Warning: skipping session with too few trials 5\n",
      "Warning: skipping session with too few trials 0\n",
      "Warning: skipping session with too few trials 0\n",
      "Warning: skipping session with too few trials 1\n",
      "Warning: skipping session with too few trials 0\n",
      "Warning: skipping session with too few trials 4\n",
      "Warning: skipping session with too few trials 2\n",
      "Warning: skipping session with too few trials 7\n",
      "Warning: skipping session with too few trials 1\n",
      "Warning: skipping session with too few trials 8\n",
      "Warning: skipping session with too few trials 5\n",
      "Warning: skipping session with too few trials 7\n",
      "Warning: skipping session with too few trials 8\n",
      "Warning: skipping session with too few trials 9\n",
      "Warning: skipping session with too few trials 2\n",
      "Warning: skipping session with too few trials 2\n",
      "Warning: skipping session with too few trials 4\n",
      "Warning: skipping session with too few trials 9\n",
      "Warning: skipping session with too few trials 0\n",
      "Warning: skipping session with too few trials 4\n",
      "Warning: skipping session with too few trials 2\n",
      "Warning: skipping session with too few trials 8\n",
      "Warning: skipping session with too few trials 3\n",
      "Warning: skipping session with too few trials 4\n",
      "Warning: skipping session with too few trials 7\n",
      "Warning: skipping session with too few trials 7\n",
      "Warning: skipping session with too few trials 6\n",
      "Warning: skipping session with too few trials 2\n",
      "Warning: skipping session with too few trials 2\n",
      "Warning: skipping session with too few trials 8\n"
     ]
    },
    {
     "data": {
      "application/vnd.jupyter.widget-view+json": {
       "model_id": "f323ad457d81456ebeabd7049a0a19e9",
       "version_major": 2,
       "version_minor": 0
      },
      "text/plain": [
       "IntProgress(value=0, description='mou_7', max=36)"
      ]
     },
     "metadata": {},
     "output_type": "display_data"
    },
    {
     "data": {
      "application/vnd.jupyter.widget-view+json": {
       "model_id": "6be56148bc854f00bac928f25f6a5d3e",
       "version_major": 2,
       "version_minor": 0
      },
      "text/plain": [
       "IntProgress(value=0, description='mou_7', max=36)"
      ]
     },
     "metadata": {},
     "output_type": "display_data"
    },
    {
     "data": {
      "application/vnd.jupyter.widget-view+json": {
       "model_id": "0f49b9a71ae2468b979ccd7943efb5fc",
       "version_major": 2,
       "version_minor": 0
      },
      "text/plain": [
       "IntProgress(value=0, description='mou_7', max=36)"
      ]
     },
     "metadata": {},
     "output_type": "display_data"
    },
    {
     "data": {
      "application/vnd.jupyter.widget-view+json": {
       "model_id": "89d13d06ee644e689e3549f7dbd4fb95",
       "version_major": 2,
       "version_minor": 0
      },
      "text/plain": [
       "IntProgress(value=0, description='mou_7', max=36)"
      ]
     },
     "metadata": {},
     "output_type": "display_data"
    },
    {
     "data": {
      "application/vnd.jupyter.widget-view+json": {
       "model_id": "c2f8f6be311647f99e6189ba90f1f656",
       "version_major": 2,
       "version_minor": 0
      },
      "text/plain": [
       "IntProgress(value=0, description='mou_7', max=36)"
      ]
     },
     "metadata": {},
     "output_type": "display_data"
    },
    {
     "data": {
      "application/vnd.jupyter.widget-view+json": {
       "model_id": "bec81ded2111463892e7493516e1d53f",
       "version_major": 2,
       "version_minor": 0
      },
      "text/plain": [
       "IntProgress(value=0, description='mou_7', max=36)"
      ]
     },
     "metadata": {},
     "output_type": "display_data"
    },
    {
     "name": "stdout",
     "output_type": "stream",
     "text": [
      "Warning: skipping session with too few trials 3\n",
      "Warning: skipping session with too few trials 3\n",
      "Warning: skipping session with too few trials 5\n",
      "Warning: skipping session with too few trials 5\n",
      "Warning: skipping session with too few trials 2\n",
      "Warning: skipping session with too few trials 3\n",
      "Warning: skipping session with too few trials 3\n",
      "Warning: skipping session with too few trials 1\n",
      "Warning: skipping session with too few trials 2\n",
      "Warning: skipping session with too few trials 0\n",
      "Warning: skipping session with too few trials 1\n",
      "Warning: skipping session with too few trials 0\n",
      "Warning: skipping session with too few trials 2\n",
      "Warning: skipping session with too few trials 2\n",
      "Warning: skipping session with too few trials 7\n",
      "Warning: skipping session with too few trials 5\n",
      "Warning: skipping session with too few trials 3\n",
      "Warning: skipping session with too few trials 6\n",
      "Warning: skipping session with too few trials 5\n",
      "Warning: skipping session with too few trials 2\n",
      "Warning: skipping session with too few trials 0\n",
      "Warning: skipping session with too few trials 1\n",
      "Warning: skipping session with too few trials 3\n",
      "Warning: skipping session with too few trials 7\n",
      "Warning: skipping session with too few trials 5\n",
      "Warning: skipping session with too few trials 3\n",
      "Warning: skipping session with too few trials 0\n",
      "Warning: skipping session with too few trials 5\n",
      "Warning: skipping session with too few trials 6\n",
      "Warning: skipping session with too few trials 1\n"
     ]
    },
    {
     "data": {
      "application/vnd.jupyter.widget-view+json": {
       "model_id": "0f56f3144ee34101aa0efa2bfcca2e51",
       "version_major": 2,
       "version_minor": 0
      },
      "text/plain": [
       "IntProgress(value=0, description='mou_7', max=36)"
      ]
     },
     "metadata": {},
     "output_type": "display_data"
    },
    {
     "name": "stdout",
     "output_type": "stream",
     "text": [
      "Warning: skipping session with too few trials 3\n",
      "Warning: skipping session with too few trials 3\n",
      "Warning: skipping session with too few trials 5\n",
      "Warning: skipping session with too few trials 5\n",
      "Warning: skipping session with too few trials 2\n",
      "Warning: skipping session with too few trials 3\n",
      "Warning: skipping session with too few trials 3\n",
      "Warning: skipping session with too few trials 1\n",
      "Warning: skipping session with too few trials 2\n",
      "Warning: skipping session with too few trials 0\n",
      "Warning: skipping session with too few trials 1\n",
      "Warning: skipping session with too few trials 0\n",
      "Warning: skipping session with too few trials 2\n",
      "Warning: skipping session with too few trials 2\n",
      "Warning: skipping session with too few trials 7\n",
      "Warning: skipping session with too few trials 5\n",
      "Warning: skipping session with too few trials 3\n",
      "Warning: skipping session with too few trials 6\n",
      "Warning: skipping session with too few trials 5\n",
      "Warning: skipping session with too few trials 2\n",
      "Warning: skipping session with too few trials 0\n",
      "Warning: skipping session with too few trials 1\n",
      "Warning: skipping session with too few trials 3\n",
      "Warning: skipping session with too few trials 7\n",
      "Warning: skipping session with too few trials 5\n",
      "Warning: skipping session with too few trials 3\n",
      "Warning: skipping session with too few trials 0\n",
      "Warning: skipping session with too few trials 5\n",
      "Warning: skipping session with too few trials 6\n",
      "Warning: skipping session with too few trials 1\n"
     ]
    },
    {
     "data": {
      "application/vnd.jupyter.widget-view+json": {
       "model_id": "e16cb4a2de64498ba90cb96b63f5c095",
       "version_major": 2,
       "version_minor": 0
      },
      "text/plain": [
       "IntProgress(value=0, description='mou_7', max=36)"
      ]
     },
     "metadata": {},
     "output_type": "display_data"
    },
    {
     "name": "stdout",
     "output_type": "stream",
     "text": [
      "Warning: skipping session with too few trials 3\n",
      "Warning: skipping session with too few trials 3\n",
      "Warning: skipping session with too few trials 5\n",
      "Warning: skipping session with too few trials 5\n",
      "Warning: skipping session with too few trials 2\n",
      "Warning: skipping session with too few trials 3\n",
      "Warning: skipping session with too few trials 3\n",
      "Warning: skipping session with too few trials 1\n",
      "Warning: skipping session with too few trials 2\n",
      "Warning: skipping session with too few trials 0\n",
      "Warning: skipping session with too few trials 1\n",
      "Warning: skipping session with too few trials 0\n",
      "Warning: skipping session with too few trials 2\n",
      "Warning: skipping session with too few trials 2\n",
      "Warning: skipping session with too few trials 7\n",
      "Warning: skipping session with too few trials 5\n",
      "Warning: skipping session with too few trials 3\n",
      "Warning: skipping session with too few trials 6\n",
      "Warning: skipping session with too few trials 5\n",
      "Warning: skipping session with too few trials 2\n",
      "Warning: skipping session with too few trials 0\n",
      "Warning: skipping session with too few trials 1\n",
      "Warning: skipping session with too few trials 3\n",
      "Warning: skipping session with too few trials 7\n",
      "Warning: skipping session with too few trials 5\n",
      "Warning: skipping session with too few trials 3\n",
      "Warning: skipping session with too few trials 0\n",
      "Warning: skipping session with too few trials 5\n",
      "Warning: skipping session with too few trials 6\n",
      "Warning: skipping session with too few trials 1\n"
     ]
    },
    {
     "data": {
      "application/vnd.jupyter.widget-view+json": {
       "model_id": "60244cbfc7204e178f4a1df8d603ba70",
       "version_major": 2,
       "version_minor": 0
      },
      "text/plain": [
       "IntProgress(value=0, description='mou_7', max=36)"
      ]
     },
     "metadata": {},
     "output_type": "display_data"
    },
    {
     "name": "stdout",
     "output_type": "stream",
     "text": [
      "Warning: skipping session with too few trials 3\n",
      "Warning: skipping session with too few trials 3\n",
      "Warning: skipping session with too few trials 5\n",
      "Warning: skipping session with too few trials 5\n",
      "Warning: skipping session with too few trials 2\n",
      "Warning: skipping session with too few trials 3\n",
      "Warning: skipping session with too few trials 3\n",
      "Warning: skipping session with too few trials 1\n",
      "Warning: skipping session with too few trials 2\n",
      "Warning: skipping session with too few trials 0\n",
      "Warning: skipping session with too few trials 1\n",
      "Warning: skipping session with too few trials 0\n",
      "Warning: skipping session with too few trials 2\n",
      "Warning: skipping session with too few trials 2\n",
      "Warning: skipping session with too few trials 7\n",
      "Warning: skipping session with too few trials 5\n",
      "Warning: skipping session with too few trials 3\n",
      "Warning: skipping session with too few trials 6\n",
      "Warning: skipping session with too few trials 5\n",
      "Warning: skipping session with too few trials 2\n",
      "Warning: skipping session with too few trials 0\n",
      "Warning: skipping session with too few trials 1\n",
      "Warning: skipping session with too few trials 3\n",
      "Warning: skipping session with too few trials 7\n",
      "Warning: skipping session with too few trials 5\n",
      "Warning: skipping session with too few trials 3\n",
      "Warning: skipping session with too few trials 0\n",
      "Warning: skipping session with too few trials 5\n",
      "Warning: skipping session with too few trials 6\n",
      "Warning: skipping session with too few trials 1\n"
     ]
    },
    {
     "data": {
      "application/vnd.jupyter.widget-view+json": {
       "model_id": "5100ec53c62e4479ab0fd787385ed412",
       "version_major": 2,
       "version_minor": 0
      },
      "text/plain": [
       "IntProgress(value=0, description='mou_7', max=36)"
      ]
     },
     "metadata": {},
     "output_type": "display_data"
    },
    {
     "name": "stdout",
     "output_type": "stream",
     "text": [
      "Warning: skipping session with too few trials 3\n",
      "Warning: skipping session with too few trials 3\n",
      "Warning: skipping session with too few trials 5\n",
      "Warning: skipping session with too few trials 5\n",
      "Warning: skipping session with too few trials 2\n",
      "Warning: skipping session with too few trials 3\n",
      "Warning: skipping session with too few trials 3\n",
      "Warning: skipping session with too few trials 1\n",
      "Warning: skipping session with too few trials 2\n",
      "Warning: skipping session with too few trials 0\n",
      "Warning: skipping session with too few trials 1\n",
      "Warning: skipping session with too few trials 0\n",
      "Warning: skipping session with too few trials 2\n",
      "Warning: skipping session with too few trials 2\n",
      "Warning: skipping session with too few trials 7\n",
      "Warning: skipping session with too few trials 5\n",
      "Warning: skipping session with too few trials 3\n",
      "Warning: skipping session with too few trials 6\n",
      "Warning: skipping session with too few trials 5\n",
      "Warning: skipping session with too few trials 2\n",
      "Warning: skipping session with too few trials 0\n",
      "Warning: skipping session with too few trials 1\n",
      "Warning: skipping session with too few trials 3\n",
      "Warning: skipping session with too few trials 7\n",
      "Warning: skipping session with too few trials 5\n",
      "Warning: skipping session with too few trials 3\n",
      "Warning: skipping session with too few trials 0\n",
      "Warning: skipping session with too few trials 5\n",
      "Warning: skipping session with too few trials 6\n",
      "Warning: skipping session with too few trials 1\n"
     ]
    },
    {
     "data": {
      "application/vnd.jupyter.widget-view+json": {
       "model_id": "256d5e03444c47a09f69edc499f8de20",
       "version_major": 2,
       "version_minor": 0
      },
      "text/plain": [
       "IntProgress(value=0, description='mou_7', max=36)"
      ]
     },
     "metadata": {},
     "output_type": "display_data"
    },
    {
     "data": {
      "application/vnd.jupyter.widget-view+json": {
       "model_id": "4080241c1621478bbea362d87e4b50cf",
       "version_major": 2,
       "version_minor": 0
      },
      "text/plain": [
       "IntProgress(value=0, description='mou_7', max=36)"
      ]
     },
     "metadata": {},
     "output_type": "display_data"
    },
    {
     "data": {
      "application/vnd.jupyter.widget-view+json": {
       "model_id": "c9324d442c9f4a118f9fc284ff45f614",
       "version_major": 2,
       "version_minor": 0
      },
      "text/plain": [
       "IntProgress(value=0, description='mou_7', max=36)"
      ]
     },
     "metadata": {},
     "output_type": "display_data"
    },
    {
     "data": {
      "application/vnd.jupyter.widget-view+json": {
       "model_id": "d47d5ea182174b6290bb6cf8badc802a",
       "version_major": 2,
       "version_minor": 0
      },
      "text/plain": [
       "IntProgress(value=0, description='mou_7', max=36)"
      ]
     },
     "metadata": {},
     "output_type": "display_data"
    },
    {
     "data": {
      "application/vnd.jupyter.widget-view+json": {
       "model_id": "03196b4f6bda4898b79170a405f2dbb3",
       "version_major": 2,
       "version_minor": 0
      },
      "text/plain": [
       "IntProgress(value=0, description='mou_7', max=36)"
      ]
     },
     "metadata": {},
     "output_type": "display_data"
    },
    {
     "data": {
      "application/vnd.jupyter.widget-view+json": {
       "model_id": "216f92cc298942319a6135e6e6ac2b64",
       "version_major": 2,
       "version_minor": 0
      },
      "text/plain": [
       "IntProgress(value=0, description='mou_7', max=36)"
      ]
     },
     "metadata": {},
     "output_type": "display_data"
    },
    {
     "name": "stdout",
     "output_type": "stream",
     "text": [
      "Warning: skipping session with too few trials 9\n",
      "Warning: skipping session with too few trials 6\n",
      "Warning: skipping session with too few trials 9\n"
     ]
    },
    {
     "data": {
      "application/vnd.jupyter.widget-view+json": {
       "model_id": "c6fe7fb194fc44dbb0273c3dadd713ef",
       "version_major": 2,
       "version_minor": 0
      },
      "text/plain": [
       "IntProgress(value=0, description='mou_7', max=36)"
      ]
     },
     "metadata": {},
     "output_type": "display_data"
    },
    {
     "name": "stdout",
     "output_type": "stream",
     "text": [
      "Warning: skipping session with too few trials 9\n",
      "Warning: skipping session with too few trials 6\n",
      "Warning: skipping session with too few trials 9\n"
     ]
    },
    {
     "data": {
      "application/vnd.jupyter.widget-view+json": {
       "model_id": "4463a8f4148540d58e26e8720cf9931c",
       "version_major": 2,
       "version_minor": 0
      },
      "text/plain": [
       "IntProgress(value=0, description='mou_7', max=36)"
      ]
     },
     "metadata": {},
     "output_type": "display_data"
    },
    {
     "name": "stdout",
     "output_type": "stream",
     "text": [
      "Warning: skipping session with too few trials 9\n",
      "Warning: skipping session with too few trials 6\n",
      "Warning: skipping session with too few trials 9\n"
     ]
    },
    {
     "data": {
      "application/vnd.jupyter.widget-view+json": {
       "model_id": "235885aec228480ebed7628df94d0ed4",
       "version_major": 2,
       "version_minor": 0
      },
      "text/plain": [
       "IntProgress(value=0, description='mou_7', max=36)"
      ]
     },
     "metadata": {},
     "output_type": "display_data"
    },
    {
     "name": "stdout",
     "output_type": "stream",
     "text": [
      "Warning: skipping session with too few trials 9\n",
      "Warning: skipping session with too few trials 6\n",
      "Warning: skipping session with too few trials 9\n"
     ]
    },
    {
     "data": {
      "application/vnd.jupyter.widget-view+json": {
       "model_id": "16862a53c8fd4ca2a0fc5852246b8167",
       "version_major": 2,
       "version_minor": 0
      },
      "text/plain": [
       "IntProgress(value=0, description='mou_7', max=36)"
      ]
     },
     "metadata": {},
     "output_type": "display_data"
    },
    {
     "name": "stdout",
     "output_type": "stream",
     "text": [
      "Warning: skipping session with too few trials 9\n",
      "Warning: skipping session with too few trials 6\n",
      "Warning: skipping session with too few trials 9\n"
     ]
    },
    {
     "data": {
      "application/vnd.jupyter.widget-view+json": {
       "model_id": "35b81926e7dc4de9919ae1397af6ece7",
       "version_major": 2,
       "version_minor": 0
      },
      "text/plain": [
       "IntProgress(value=0, description='mou_7', max=36)"
      ]
     },
     "metadata": {},
     "output_type": "display_data"
    },
    {
     "name": "stdout",
     "output_type": "stream",
     "text": [
      "Warning: skipping session with too few trials 5\n",
      "Warning: skipping session with too few trials 0\n",
      "Warning: skipping session with too few trials 0\n",
      "Warning: skipping session with too few trials 1\n",
      "Warning: skipping session with too few trials 0\n",
      "Warning: skipping session with too few trials 4\n",
      "Warning: skipping session with too few trials 2\n",
      "Warning: skipping session with too few trials 7\n",
      "Warning: skipping session with too few trials 1\n",
      "Warning: skipping session with too few trials 8\n",
      "Warning: skipping session with too few trials 5\n",
      "Warning: skipping session with too few trials 7\n",
      "Warning: skipping session with too few trials 8\n",
      "Warning: skipping session with too few trials 9\n",
      "Warning: skipping session with too few trials 2\n",
      "Warning: skipping session with too few trials 2\n",
      "Warning: skipping session with too few trials 4\n",
      "Warning: skipping session with too few trials 9\n",
      "Warning: skipping session with too few trials 0\n",
      "Warning: skipping session with too few trials 4\n",
      "Warning: skipping session with too few trials 2\n",
      "Warning: skipping session with too few trials 8\n",
      "Warning: skipping session with too few trials 3\n",
      "Warning: skipping session with too few trials 4\n",
      "Warning: skipping session with too few trials 7\n",
      "Warning: skipping session with too few trials 7\n",
      "Warning: skipping session with too few trials 6\n",
      "Warning: skipping session with too few trials 2\n",
      "Warning: skipping session with too few trials 2\n",
      "Warning: skipping session with too few trials 8\n"
     ]
    },
    {
     "data": {
      "application/vnd.jupyter.widget-view+json": {
       "model_id": "1d4e5dc95fe54148a645c3b8f10e56bc",
       "version_major": 2,
       "version_minor": 0
      },
      "text/plain": [
       "IntProgress(value=0, description='mou_7', max=36)"
      ]
     },
     "metadata": {},
     "output_type": "display_data"
    },
    {
     "name": "stdout",
     "output_type": "stream",
     "text": [
      "Warning: skipping session with too few trials 5\n",
      "Warning: skipping session with too few trials 0\n",
      "Warning: skipping session with too few trials 0\n",
      "Warning: skipping session with too few trials 1\n",
      "Warning: skipping session with too few trials 0\n",
      "Warning: skipping session with too few trials 4\n",
      "Warning: skipping session with too few trials 2\n",
      "Warning: skipping session with too few trials 7\n",
      "Warning: skipping session with too few trials 1\n",
      "Warning: skipping session with too few trials 8\n",
      "Warning: skipping session with too few trials 5\n",
      "Warning: skipping session with too few trials 7\n",
      "Warning: skipping session with too few trials 8\n",
      "Warning: skipping session with too few trials 9\n",
      "Warning: skipping session with too few trials 2\n",
      "Warning: skipping session with too few trials 2\n",
      "Warning: skipping session with too few trials 4\n",
      "Warning: skipping session with too few trials 9\n",
      "Warning: skipping session with too few trials 0\n",
      "Warning: skipping session with too few trials 4\n",
      "Warning: skipping session with too few trials 2\n",
      "Warning: skipping session with too few trials 8\n",
      "Warning: skipping session with too few trials 3\n",
      "Warning: skipping session with too few trials 4\n",
      "Warning: skipping session with too few trials 7\n",
      "Warning: skipping session with too few trials 7\n",
      "Warning: skipping session with too few trials 6\n",
      "Warning: skipping session with too few trials 2\n",
      "Warning: skipping session with too few trials 2\n",
      "Warning: skipping session with too few trials 8\n"
     ]
    },
    {
     "data": {
      "application/vnd.jupyter.widget-view+json": {
       "model_id": "68946c6620bc4420911046b930716999",
       "version_major": 2,
       "version_minor": 0
      },
      "text/plain": [
       "IntProgress(value=0, description='mou_7', max=36)"
      ]
     },
     "metadata": {},
     "output_type": "display_data"
    },
    {
     "name": "stdout",
     "output_type": "stream",
     "text": [
      "Warning: skipping session with too few trials 5\n",
      "Warning: skipping session with too few trials 0\n",
      "Warning: skipping session with too few trials 0\n",
      "Warning: skipping session with too few trials 1\n",
      "Warning: skipping session with too few trials 0\n",
      "Warning: skipping session with too few trials 4\n",
      "Warning: skipping session with too few trials 2\n",
      "Warning: skipping session with too few trials 7\n",
      "Warning: skipping session with too few trials 1\n",
      "Warning: skipping session with too few trials 8\n",
      "Warning: skipping session with too few trials 5\n",
      "Warning: skipping session with too few trials 7\n",
      "Warning: skipping session with too few trials 8\n",
      "Warning: skipping session with too few trials 9\n",
      "Warning: skipping session with too few trials 2\n",
      "Warning: skipping session with too few trials 2\n",
      "Warning: skipping session with too few trials 4\n",
      "Warning: skipping session with too few trials 9\n",
      "Warning: skipping session with too few trials 0\n",
      "Warning: skipping session with too few trials 4\n",
      "Warning: skipping session with too few trials 2\n",
      "Warning: skipping session with too few trials 8\n",
      "Warning: skipping session with too few trials 3\n",
      "Warning: skipping session with too few trials 4\n",
      "Warning: skipping session with too few trials 7\n",
      "Warning: skipping session with too few trials 7\n",
      "Warning: skipping session with too few trials 6\n",
      "Warning: skipping session with too few trials 2\n",
      "Warning: skipping session with too few trials 2\n",
      "Warning: skipping session with too few trials 8\n"
     ]
    },
    {
     "data": {
      "application/vnd.jupyter.widget-view+json": {
       "model_id": "deba6330b2e34ee2874d4b7e458b79a6",
       "version_major": 2,
       "version_minor": 0
      },
      "text/plain": [
       "IntProgress(value=0, description='mou_7', max=36)"
      ]
     },
     "metadata": {},
     "output_type": "display_data"
    },
    {
     "name": "stdout",
     "output_type": "stream",
     "text": [
      "Warning: skipping session with too few trials 5\n",
      "Warning: skipping session with too few trials 0\n",
      "Warning: skipping session with too few trials 0\n",
      "Warning: skipping session with too few trials 1\n",
      "Warning: skipping session with too few trials 0\n",
      "Warning: skipping session with too few trials 4\n",
      "Warning: skipping session with too few trials 2\n",
      "Warning: skipping session with too few trials 7\n",
      "Warning: skipping session with too few trials 1\n",
      "Warning: skipping session with too few trials 8\n",
      "Warning: skipping session with too few trials 5\n",
      "Warning: skipping session with too few trials 7\n",
      "Warning: skipping session with too few trials 8\n",
      "Warning: skipping session with too few trials 9\n",
      "Warning: skipping session with too few trials 2\n",
      "Warning: skipping session with too few trials 2\n",
      "Warning: skipping session with too few trials 4\n",
      "Warning: skipping session with too few trials 9\n",
      "Warning: skipping session with too few trials 0\n",
      "Warning: skipping session with too few trials 4\n",
      "Warning: skipping session with too few trials 2\n",
      "Warning: skipping session with too few trials 8\n",
      "Warning: skipping session with too few trials 3\n",
      "Warning: skipping session with too few trials 4\n",
      "Warning: skipping session with too few trials 7\n",
      "Warning: skipping session with too few trials 7\n",
      "Warning: skipping session with too few trials 6\n",
      "Warning: skipping session with too few trials 2\n",
      "Warning: skipping session with too few trials 2\n",
      "Warning: skipping session with too few trials 8\n"
     ]
    },
    {
     "data": {
      "application/vnd.jupyter.widget-view+json": {
       "model_id": "11e94ea507ac401daefb8337e3b4aac4",
       "version_major": 2,
       "version_minor": 0
      },
      "text/plain": [
       "IntProgress(value=0, description='mou_7', max=36)"
      ]
     },
     "metadata": {},
     "output_type": "display_data"
    },
    {
     "name": "stdout",
     "output_type": "stream",
     "text": [
      "Warning: skipping session with too few trials 5\n",
      "Warning: skipping session with too few trials 0\n",
      "Warning: skipping session with too few trials 0\n",
      "Warning: skipping session with too few trials 1\n",
      "Warning: skipping session with too few trials 0\n",
      "Warning: skipping session with too few trials 4\n",
      "Warning: skipping session with too few trials 2\n",
      "Warning: skipping session with too few trials 7\n",
      "Warning: skipping session with too few trials 1\n",
      "Warning: skipping session with too few trials 8\n",
      "Warning: skipping session with too few trials 5\n",
      "Warning: skipping session with too few trials 7\n",
      "Warning: skipping session with too few trials 8\n",
      "Warning: skipping session with too few trials 9\n",
      "Warning: skipping session with too few trials 2\n",
      "Warning: skipping session with too few trials 2\n",
      "Warning: skipping session with too few trials 4\n",
      "Warning: skipping session with too few trials 9\n",
      "Warning: skipping session with too few trials 0\n",
      "Warning: skipping session with too few trials 4\n",
      "Warning: skipping session with too few trials 2\n",
      "Warning: skipping session with too few trials 8\n",
      "Warning: skipping session with too few trials 3\n",
      "Warning: skipping session with too few trials 4\n",
      "Warning: skipping session with too few trials 7\n",
      "Warning: skipping session with too few trials 7\n",
      "Warning: skipping session with too few trials 6\n",
      "Warning: skipping session with too few trials 2\n",
      "Warning: skipping session with too few trials 2\n",
      "Warning: skipping session with too few trials 8\n"
     ]
    },
    {
     "data": {
      "application/vnd.jupyter.widget-view+json": {
       "model_id": "2c0d934401c644cca315e5c6e03fd52d",
       "version_major": 2,
       "version_minor": 0
      },
      "text/plain": [
       "IntProgress(value=0, description='mou_7', max=36)"
      ]
     },
     "metadata": {},
     "output_type": "display_data"
    },
    {
     "data": {
      "application/vnd.jupyter.widget-view+json": {
       "model_id": "6f0ef6ec5a7949a3b54cdb5cc318131e",
       "version_major": 2,
       "version_minor": 0
      },
      "text/plain": [
       "IntProgress(value=0, description='mou_7', max=36)"
      ]
     },
     "metadata": {},
     "output_type": "display_data"
    },
    {
     "data": {
      "application/vnd.jupyter.widget-view+json": {
       "model_id": "96e9f177a5fd4716a7410dce34495f2a",
       "version_major": 2,
       "version_minor": 0
      },
      "text/plain": [
       "IntProgress(value=0, description='mou_7', max=36)"
      ]
     },
     "metadata": {},
     "output_type": "display_data"
    },
    {
     "data": {
      "application/vnd.jupyter.widget-view+json": {
       "model_id": "adcda9e303ca4d6288da87ae35e7cad9",
       "version_major": 2,
       "version_minor": 0
      },
      "text/plain": [
       "IntProgress(value=0, description='mou_7', max=36)"
      ]
     },
     "metadata": {},
     "output_type": "display_data"
    },
    {
     "data": {
      "application/vnd.jupyter.widget-view+json": {
       "model_id": "f1ab135a89af43d6a3f8a7b5e69df94d",
       "version_major": 2,
       "version_minor": 0
      },
      "text/plain": [
       "IntProgress(value=0, description='mou_7', max=36)"
      ]
     },
     "metadata": {},
     "output_type": "display_data"
    },
    {
     "data": {
      "application/vnd.jupyter.widget-view+json": {
       "model_id": "f2303095b8384c7385d906c82a9f7ae8",
       "version_major": 2,
       "version_minor": 0
      },
      "text/plain": [
       "IntProgress(value=0, description='mou_7', max=36)"
      ]
     },
     "metadata": {},
     "output_type": "display_data"
    },
    {
     "name": "stdout",
     "output_type": "stream",
     "text": [
      "Warning: skipping session with too few trials 3\n",
      "Warning: skipping session with too few trials 3\n",
      "Warning: skipping session with too few trials 5\n",
      "Warning: skipping session with too few trials 5\n",
      "Warning: skipping session with too few trials 2\n",
      "Warning: skipping session with too few trials 3\n",
      "Warning: skipping session with too few trials 3\n",
      "Warning: skipping session with too few trials 1\n",
      "Warning: skipping session with too few trials 2\n",
      "Warning: skipping session with too few trials 0\n",
      "Warning: skipping session with too few trials 1\n",
      "Warning: skipping session with too few trials 0\n",
      "Warning: skipping session with too few trials 2\n",
      "Warning: skipping session with too few trials 2\n",
      "Warning: skipping session with too few trials 7\n",
      "Warning: skipping session with too few trials 5\n",
      "Warning: skipping session with too few trials 3\n",
      "Warning: skipping session with too few trials 6\n",
      "Warning: skipping session with too few trials 5\n",
      "Warning: skipping session with too few trials 2\n",
      "Warning: skipping session with too few trials 0\n",
      "Warning: skipping session with too few trials 1\n",
      "Warning: skipping session with too few trials 3\n",
      "Warning: skipping session with too few trials 7\n",
      "Warning: skipping session with too few trials 5\n",
      "Warning: skipping session with too few trials 3\n",
      "Warning: skipping session with too few trials 0\n",
      "Warning: skipping session with too few trials 5\n",
      "Warning: skipping session with too few trials 6\n",
      "Warning: skipping session with too few trials 1\n"
     ]
    },
    {
     "data": {
      "application/vnd.jupyter.widget-view+json": {
       "model_id": "f5be1481fbd3425ab3dd8b54ef52fc79",
       "version_major": 2,
       "version_minor": 0
      },
      "text/plain": [
       "IntProgress(value=0, description='mou_7', max=36)"
      ]
     },
     "metadata": {},
     "output_type": "display_data"
    },
    {
     "name": "stdout",
     "output_type": "stream",
     "text": [
      "Warning: skipping session with too few trials 3\n",
      "Warning: skipping session with too few trials 3\n",
      "Warning: skipping session with too few trials 5\n",
      "Warning: skipping session with too few trials 5\n",
      "Warning: skipping session with too few trials 2\n",
      "Warning: skipping session with too few trials 3\n",
      "Warning: skipping session with too few trials 3\n",
      "Warning: skipping session with too few trials 1\n",
      "Warning: skipping session with too few trials 2\n",
      "Warning: skipping session with too few trials 0\n",
      "Warning: skipping session with too few trials 1\n",
      "Warning: skipping session with too few trials 0\n",
      "Warning: skipping session with too few trials 2\n",
      "Warning: skipping session with too few trials 2\n",
      "Warning: skipping session with too few trials 7\n",
      "Warning: skipping session with too few trials 5\n",
      "Warning: skipping session with too few trials 3\n",
      "Warning: skipping session with too few trials 6\n",
      "Warning: skipping session with too few trials 5\n",
      "Warning: skipping session with too few trials 2\n",
      "Warning: skipping session with too few trials 0\n",
      "Warning: skipping session with too few trials 1\n",
      "Warning: skipping session with too few trials 3\n",
      "Warning: skipping session with too few trials 7\n",
      "Warning: skipping session with too few trials 5\n",
      "Warning: skipping session with too few trials 3\n",
      "Warning: skipping session with too few trials 0\n",
      "Warning: skipping session with too few trials 5\n",
      "Warning: skipping session with too few trials 6\n",
      "Warning: skipping session with too few trials 1\n"
     ]
    },
    {
     "data": {
      "application/vnd.jupyter.widget-view+json": {
       "model_id": "a0c33f46e1b74c79a6480a15d18dfa85",
       "version_major": 2,
       "version_minor": 0
      },
      "text/plain": [
       "IntProgress(value=0, description='mou_7', max=36)"
      ]
     },
     "metadata": {},
     "output_type": "display_data"
    },
    {
     "name": "stdout",
     "output_type": "stream",
     "text": [
      "Warning: skipping session with too few trials 3\n",
      "Warning: skipping session with too few trials 3\n",
      "Warning: skipping session with too few trials 5\n",
      "Warning: skipping session with too few trials 5\n",
      "Warning: skipping session with too few trials 2\n",
      "Warning: skipping session with too few trials 3\n",
      "Warning: skipping session with too few trials 3\n",
      "Warning: skipping session with too few trials 1\n",
      "Warning: skipping session with too few trials 2\n",
      "Warning: skipping session with too few trials 0\n",
      "Warning: skipping session with too few trials 1\n",
      "Warning: skipping session with too few trials 0\n",
      "Warning: skipping session with too few trials 2\n",
      "Warning: skipping session with too few trials 2\n",
      "Warning: skipping session with too few trials 7\n",
      "Warning: skipping session with too few trials 5\n",
      "Warning: skipping session with too few trials 3\n",
      "Warning: skipping session with too few trials 6\n",
      "Warning: skipping session with too few trials 5\n",
      "Warning: skipping session with too few trials 2\n",
      "Warning: skipping session with too few trials 0\n",
      "Warning: skipping session with too few trials 1\n",
      "Warning: skipping session with too few trials 3\n",
      "Warning: skipping session with too few trials 7\n",
      "Warning: skipping session with too few trials 5\n",
      "Warning: skipping session with too few trials 3\n",
      "Warning: skipping session with too few trials 0\n",
      "Warning: skipping session with too few trials 5\n",
      "Warning: skipping session with too few trials 6\n",
      "Warning: skipping session with too few trials 1\n"
     ]
    },
    {
     "data": {
      "application/vnd.jupyter.widget-view+json": {
       "model_id": "7b6336ee64784cfcb7969f74925a07d5",
       "version_major": 2,
       "version_minor": 0
      },
      "text/plain": [
       "IntProgress(value=0, description='mou_7', max=36)"
      ]
     },
     "metadata": {},
     "output_type": "display_data"
    },
    {
     "name": "stdout",
     "output_type": "stream",
     "text": [
      "Warning: skipping session with too few trials 3\n",
      "Warning: skipping session with too few trials 3\n",
      "Warning: skipping session with too few trials 5\n",
      "Warning: skipping session with too few trials 5\n",
      "Warning: skipping session with too few trials 2\n",
      "Warning: skipping session with too few trials 3\n",
      "Warning: skipping session with too few trials 3\n",
      "Warning: skipping session with too few trials 1\n",
      "Warning: skipping session with too few trials 2\n",
      "Warning: skipping session with too few trials 0\n",
      "Warning: skipping session with too few trials 1\n",
      "Warning: skipping session with too few trials 0\n",
      "Warning: skipping session with too few trials 2\n",
      "Warning: skipping session with too few trials 2\n",
      "Warning: skipping session with too few trials 7\n",
      "Warning: skipping session with too few trials 5\n",
      "Warning: skipping session with too few trials 3\n",
      "Warning: skipping session with too few trials 6\n",
      "Warning: skipping session with too few trials 5\n",
      "Warning: skipping session with too few trials 2\n",
      "Warning: skipping session with too few trials 0\n",
      "Warning: skipping session with too few trials 1\n",
      "Warning: skipping session with too few trials 3\n",
      "Warning: skipping session with too few trials 7\n",
      "Warning: skipping session with too few trials 5\n",
      "Warning: skipping session with too few trials 3\n",
      "Warning: skipping session with too few trials 0\n",
      "Warning: skipping session with too few trials 5\n",
      "Warning: skipping session with too few trials 6\n",
      "Warning: skipping session with too few trials 1\n"
     ]
    },
    {
     "data": {
      "application/vnd.jupyter.widget-view+json": {
       "model_id": "922b1ed9690a47b59329f0e1b03d81f5",
       "version_major": 2,
       "version_minor": 0
      },
      "text/plain": [
       "IntProgress(value=0, description='mou_7', max=36)"
      ]
     },
     "metadata": {},
     "output_type": "display_data"
    },
    {
     "name": "stdout",
     "output_type": "stream",
     "text": [
      "Warning: skipping session with too few trials 3\n",
      "Warning: skipping session with too few trials 3\n",
      "Warning: skipping session with too few trials 5\n",
      "Warning: skipping session with too few trials 5\n",
      "Warning: skipping session with too few trials 2\n",
      "Warning: skipping session with too few trials 3\n",
      "Warning: skipping session with too few trials 3\n",
      "Warning: skipping session with too few trials 1\n",
      "Warning: skipping session with too few trials 2\n",
      "Warning: skipping session with too few trials 0\n",
      "Warning: skipping session with too few trials 1\n",
      "Warning: skipping session with too few trials 0\n",
      "Warning: skipping session with too few trials 2\n",
      "Warning: skipping session with too few trials 2\n",
      "Warning: skipping session with too few trials 7\n",
      "Warning: skipping session with too few trials 5\n",
      "Warning: skipping session with too few trials 3\n",
      "Warning: skipping session with too few trials 6\n",
      "Warning: skipping session with too few trials 5\n",
      "Warning: skipping session with too few trials 2\n",
      "Warning: skipping session with too few trials 0\n",
      "Warning: skipping session with too few trials 1\n",
      "Warning: skipping session with too few trials 3\n",
      "Warning: skipping session with too few trials 7\n",
      "Warning: skipping session with too few trials 5\n",
      "Warning: skipping session with too few trials 3\n",
      "Warning: skipping session with too few trials 0\n",
      "Warning: skipping session with too few trials 5\n",
      "Warning: skipping session with too few trials 6\n",
      "Warning: skipping session with too few trials 1\n"
     ]
    },
    {
     "data": {
      "application/vnd.jupyter.widget-view+json": {
       "model_id": "8f5508398929467da0227eff392a8454",
       "version_major": 2,
       "version_minor": 0
      },
      "text/plain": [
       "IntProgress(value=0, description='mou_7', max=36)"
      ]
     },
     "metadata": {},
     "output_type": "display_data"
    },
    {
     "data": {
      "application/vnd.jupyter.widget-view+json": {
       "model_id": "140d28c06f2d46c8b8827e2c3d85513a",
       "version_major": 2,
       "version_minor": 0
      },
      "text/plain": [
       "IntProgress(value=0, description='mou_7', max=36)"
      ]
     },
     "metadata": {},
     "output_type": "display_data"
    },
    {
     "data": {
      "application/vnd.jupyter.widget-view+json": {
       "model_id": "1cb49055a62e4c1ba3375b95bc1d995d",
       "version_major": 2,
       "version_minor": 0
      },
      "text/plain": [
       "IntProgress(value=0, description='mou_7', max=36)"
      ]
     },
     "metadata": {},
     "output_type": "display_data"
    },
    {
     "data": {
      "application/vnd.jupyter.widget-view+json": {
       "model_id": "228b0ec35d3049af88cb35da1d13fdbc",
       "version_major": 2,
       "version_minor": 0
      },
      "text/plain": [
       "IntProgress(value=0, description='mou_7', max=36)"
      ]
     },
     "metadata": {},
     "output_type": "display_data"
    },
    {
     "data": {
      "application/vnd.jupyter.widget-view+json": {
       "model_id": "1005680c26a24820ac10f69cb4ae971a",
       "version_major": 2,
       "version_minor": 0
      },
      "text/plain": [
       "IntProgress(value=0, description='mou_7', max=36)"
      ]
     },
     "metadata": {},
     "output_type": "display_data"
    },
    {
     "name": "stdout",
     "output_type": "stream",
     "text": [
      "Warning: skipping session with too few trials 9\n",
      "Warning: skipping session with too few trials 6\n",
      "Warning: skipping session with too few trials 9\n"
     ]
    },
    {
     "data": {
      "application/vnd.jupyter.widget-view+json": {
       "model_id": "e3f1d416fe124c4fa7720eeb004ab0c8",
       "version_major": 2,
       "version_minor": 0
      },
      "text/plain": [
       "IntProgress(value=0, description='mou_7', max=36)"
      ]
     },
     "metadata": {},
     "output_type": "display_data"
    },
    {
     "name": "stdout",
     "output_type": "stream",
     "text": [
      "Warning: skipping session with too few trials 9\n",
      "Warning: skipping session with too few trials 6\n",
      "Warning: skipping session with too few trials 9\n"
     ]
    },
    {
     "data": {
      "application/vnd.jupyter.widget-view+json": {
       "model_id": "292ee65b00b14a849799714e6765e3b9",
       "version_major": 2,
       "version_minor": 0
      },
      "text/plain": [
       "IntProgress(value=0, description='mou_7', max=36)"
      ]
     },
     "metadata": {},
     "output_type": "display_data"
    },
    {
     "name": "stdout",
     "output_type": "stream",
     "text": [
      "Warning: skipping session with too few trials 9\n",
      "Warning: skipping session with too few trials 6\n",
      "Warning: skipping session with too few trials 9\n"
     ]
    },
    {
     "data": {
      "application/vnd.jupyter.widget-view+json": {
       "model_id": "0945eb39f5824c76b343348cd9cbca70",
       "version_major": 2,
       "version_minor": 0
      },
      "text/plain": [
       "IntProgress(value=0, description='mou_7', max=36)"
      ]
     },
     "metadata": {},
     "output_type": "display_data"
    },
    {
     "name": "stdout",
     "output_type": "stream",
     "text": [
      "Warning: skipping session with too few trials 9\n",
      "Warning: skipping session with too few trials 6\n",
      "Warning: skipping session with too few trials 9\n"
     ]
    },
    {
     "data": {
      "application/vnd.jupyter.widget-view+json": {
       "model_id": "cac2f9aae4774e35a7e65e67bc73e0be",
       "version_major": 2,
       "version_minor": 0
      },
      "text/plain": [
       "IntProgress(value=0, description='mou_7', max=36)"
      ]
     },
     "metadata": {},
     "output_type": "display_data"
    },
    {
     "name": "stdout",
     "output_type": "stream",
     "text": [
      "Warning: skipping session with too few trials 5\n",
      "Warning: skipping session with too few trials 0\n",
      "Warning: skipping session with too few trials 0\n",
      "Warning: skipping session with too few trials 1\n",
      "Warning: skipping session with too few trials 0\n",
      "Warning: skipping session with too few trials 4\n",
      "Warning: skipping session with too few trials 2\n",
      "Warning: skipping session with too few trials 7\n",
      "Warning: skipping session with too few trials 1\n",
      "Warning: skipping session with too few trials 8\n",
      "Warning: skipping session with too few trials 5\n",
      "Warning: skipping session with too few trials 7\n",
      "Warning: skipping session with too few trials 8\n",
      "Warning: skipping session with too few trials 9\n",
      "Warning: skipping session with too few trials 2\n",
      "Warning: skipping session with too few trials 2\n",
      "Warning: skipping session with too few trials 4\n",
      "Warning: skipping session with too few trials 9\n",
      "Warning: skipping session with too few trials 0\n",
      "Warning: skipping session with too few trials 4\n",
      "Warning: skipping session with too few trials 2\n",
      "Warning: skipping session with too few trials 8\n",
      "Warning: skipping session with too few trials 3\n",
      "Warning: skipping session with too few trials 4\n",
      "Warning: skipping session with too few trials 7\n",
      "Warning: skipping session with too few trials 7\n",
      "Warning: skipping session with too few trials 6\n",
      "Warning: skipping session with too few trials 2\n",
      "Warning: skipping session with too few trials 2\n",
      "Warning: skipping session with too few trials 8\n"
     ]
    },
    {
     "data": {
      "application/vnd.jupyter.widget-view+json": {
       "model_id": "3e41bee8231b456f9e27c42e27e7a76a",
       "version_major": 2,
       "version_minor": 0
      },
      "text/plain": [
       "IntProgress(value=0, description='mou_7', max=36)"
      ]
     },
     "metadata": {},
     "output_type": "display_data"
    },
    {
     "name": "stdout",
     "output_type": "stream",
     "text": [
      "Warning: skipping session with too few trials 5\n",
      "Warning: skipping session with too few trials 0\n",
      "Warning: skipping session with too few trials 0\n",
      "Warning: skipping session with too few trials 1\n",
      "Warning: skipping session with too few trials 0\n",
      "Warning: skipping session with too few trials 4\n",
      "Warning: skipping session with too few trials 2\n",
      "Warning: skipping session with too few trials 7\n",
      "Warning: skipping session with too few trials 1\n",
      "Warning: skipping session with too few trials 8\n",
      "Warning: skipping session with too few trials 5\n",
      "Warning: skipping session with too few trials 7\n",
      "Warning: skipping session with too few trials 8\n",
      "Warning: skipping session with too few trials 9\n",
      "Warning: skipping session with too few trials 2\n",
      "Warning: skipping session with too few trials 2\n",
      "Warning: skipping session with too few trials 4\n",
      "Warning: skipping session with too few trials 9\n",
      "Warning: skipping session with too few trials 0\n",
      "Warning: skipping session with too few trials 4\n",
      "Warning: skipping session with too few trials 2\n",
      "Warning: skipping session with too few trials 8\n",
      "Warning: skipping session with too few trials 3\n",
      "Warning: skipping session with too few trials 4\n",
      "Warning: skipping session with too few trials 7\n",
      "Warning: skipping session with too few trials 7\n",
      "Warning: skipping session with too few trials 6\n",
      "Warning: skipping session with too few trials 2\n",
      "Warning: skipping session with too few trials 2\n",
      "Warning: skipping session with too few trials 8\n"
     ]
    },
    {
     "data": {
      "application/vnd.jupyter.widget-view+json": {
       "model_id": "3336a6e04a3842969bf1cc831b0f7982",
       "version_major": 2,
       "version_minor": 0
      },
      "text/plain": [
       "IntProgress(value=0, description='mou_7', max=36)"
      ]
     },
     "metadata": {},
     "output_type": "display_data"
    },
    {
     "name": "stdout",
     "output_type": "stream",
     "text": [
      "Warning: skipping session with too few trials 5\n",
      "Warning: skipping session with too few trials 0\n",
      "Warning: skipping session with too few trials 0\n",
      "Warning: skipping session with too few trials 1\n",
      "Warning: skipping session with too few trials 0\n",
      "Warning: skipping session with too few trials 4\n",
      "Warning: skipping session with too few trials 2\n",
      "Warning: skipping session with too few trials 7\n",
      "Warning: skipping session with too few trials 1\n",
      "Warning: skipping session with too few trials 8\n",
      "Warning: skipping session with too few trials 5\n",
      "Warning: skipping session with too few trials 7\n",
      "Warning: skipping session with too few trials 8\n",
      "Warning: skipping session with too few trials 9\n",
      "Warning: skipping session with too few trials 2\n",
      "Warning: skipping session with too few trials 2\n",
      "Warning: skipping session with too few trials 4\n",
      "Warning: skipping session with too few trials 9\n",
      "Warning: skipping session with too few trials 0\n",
      "Warning: skipping session with too few trials 4\n",
      "Warning: skipping session with too few trials 2\n",
      "Warning: skipping session with too few trials 8\n",
      "Warning: skipping session with too few trials 3\n",
      "Warning: skipping session with too few trials 4\n",
      "Warning: skipping session with too few trials 7\n",
      "Warning: skipping session with too few trials 7\n",
      "Warning: skipping session with too few trials 6\n",
      "Warning: skipping session with too few trials 2\n",
      "Warning: skipping session with too few trials 2\n",
      "Warning: skipping session with too few trials 8\n"
     ]
    },
    {
     "data": {
      "application/vnd.jupyter.widget-view+json": {
       "model_id": "9ace203d2d8d43d1a54e9c7ab8e60181",
       "version_major": 2,
       "version_minor": 0
      },
      "text/plain": [
       "IntProgress(value=0, description='mou_7', max=36)"
      ]
     },
     "metadata": {},
     "output_type": "display_data"
    },
    {
     "name": "stdout",
     "output_type": "stream",
     "text": [
      "Warning: skipping session with too few trials 5\n",
      "Warning: skipping session with too few trials 0\n",
      "Warning: skipping session with too few trials 0\n",
      "Warning: skipping session with too few trials 1\n",
      "Warning: skipping session with too few trials 0\n",
      "Warning: skipping session with too few trials 4\n",
      "Warning: skipping session with too few trials 2\n",
      "Warning: skipping session with too few trials 7\n",
      "Warning: skipping session with too few trials 1\n",
      "Warning: skipping session with too few trials 8\n",
      "Warning: skipping session with too few trials 5\n",
      "Warning: skipping session with too few trials 7\n",
      "Warning: skipping session with too few trials 8\n",
      "Warning: skipping session with too few trials 9\n",
      "Warning: skipping session with too few trials 2\n",
      "Warning: skipping session with too few trials 2\n",
      "Warning: skipping session with too few trials 4\n",
      "Warning: skipping session with too few trials 9\n",
      "Warning: skipping session with too few trials 0\n",
      "Warning: skipping session with too few trials 4\n",
      "Warning: skipping session with too few trials 2\n",
      "Warning: skipping session with too few trials 8\n",
      "Warning: skipping session with too few trials 3\n",
      "Warning: skipping session with too few trials 4\n",
      "Warning: skipping session with too few trials 7\n",
      "Warning: skipping session with too few trials 7\n",
      "Warning: skipping session with too few trials 6\n",
      "Warning: skipping session with too few trials 2\n",
      "Warning: skipping session with too few trials 2\n",
      "Warning: skipping session with too few trials 8\n"
     ]
    },
    {
     "data": {
      "application/vnd.jupyter.widget-view+json": {
       "model_id": "12b6dcaf91fa4f02b7b3af1c8728fef8",
       "version_major": 2,
       "version_minor": 0
      },
      "text/plain": [
       "IntProgress(value=0, description='mou_7', max=36)"
      ]
     },
     "metadata": {},
     "output_type": "display_data"
    },
    {
     "data": {
      "application/vnd.jupyter.widget-view+json": {
       "model_id": "d06c193ef61e4a4aa8942f476a18166c",
       "version_major": 2,
       "version_minor": 0
      },
      "text/plain": [
       "IntProgress(value=0, description='mou_7', max=36)"
      ]
     },
     "metadata": {},
     "output_type": "display_data"
    },
    {
     "data": {
      "application/vnd.jupyter.widget-view+json": {
       "model_id": "c3a7ff2ecfd24f3eb81059b5ae3ebb61",
       "version_major": 2,
       "version_minor": 0
      },
      "text/plain": [
       "IntProgress(value=0, description='mou_7', max=36)"
      ]
     },
     "metadata": {},
     "output_type": "display_data"
    },
    {
     "data": {
      "application/vnd.jupyter.widget-view+json": {
       "model_id": "6924ddd1ffc547918e0b35785ee185dc",
       "version_major": 2,
       "version_minor": 0
      },
      "text/plain": [
       "IntProgress(value=0, description='mou_7', max=36)"
      ]
     },
     "metadata": {},
     "output_type": "display_data"
    },
    {
     "data": {
      "application/vnd.jupyter.widget-view+json": {
       "model_id": "e74862602b4b4820bcb65e9c6f0d9fd9",
       "version_major": 2,
       "version_minor": 0
      },
      "text/plain": [
       "IntProgress(value=0, description='mou_7', max=36)"
      ]
     },
     "metadata": {},
     "output_type": "display_data"
    },
    {
     "name": "stdout",
     "output_type": "stream",
     "text": [
      "Warning: skipping session with too few trials 3\n",
      "Warning: skipping session with too few trials 3\n",
      "Warning: skipping session with too few trials 5\n",
      "Warning: skipping session with too few trials 5\n",
      "Warning: skipping session with too few trials 2\n",
      "Warning: skipping session with too few trials 3\n",
      "Warning: skipping session with too few trials 3\n",
      "Warning: skipping session with too few trials 1\n",
      "Warning: skipping session with too few trials 2\n",
      "Warning: skipping session with too few trials 0\n",
      "Warning: skipping session with too few trials 1\n",
      "Warning: skipping session with too few trials 0\n",
      "Warning: skipping session with too few trials 2\n",
      "Warning: skipping session with too few trials 2\n",
      "Warning: skipping session with too few trials 7\n",
      "Warning: skipping session with too few trials 5\n",
      "Warning: skipping session with too few trials 3\n",
      "Warning: skipping session with too few trials 6\n",
      "Warning: skipping session with too few trials 5\n",
      "Warning: skipping session with too few trials 2\n",
      "Warning: skipping session with too few trials 0\n",
      "Warning: skipping session with too few trials 1\n",
      "Warning: skipping session with too few trials 3\n",
      "Warning: skipping session with too few trials 7\n",
      "Warning: skipping session with too few trials 5\n",
      "Warning: skipping session with too few trials 3\n",
      "Warning: skipping session with too few trials 0\n",
      "Warning: skipping session with too few trials 5\n",
      "Warning: skipping session with too few trials 6\n",
      "Warning: skipping session with too few trials 1\n"
     ]
    },
    {
     "data": {
      "application/vnd.jupyter.widget-view+json": {
       "model_id": "4e65f0b6bf884e378e9f6b6c45fa61e0",
       "version_major": 2,
       "version_minor": 0
      },
      "text/plain": [
       "IntProgress(value=0, description='mou_7', max=36)"
      ]
     },
     "metadata": {},
     "output_type": "display_data"
    },
    {
     "name": "stdout",
     "output_type": "stream",
     "text": [
      "Warning: skipping session with too few trials 3\n",
      "Warning: skipping session with too few trials 3\n",
      "Warning: skipping session with too few trials 5\n",
      "Warning: skipping session with too few trials 5\n",
      "Warning: skipping session with too few trials 2\n",
      "Warning: skipping session with too few trials 3\n",
      "Warning: skipping session with too few trials 3\n",
      "Warning: skipping session with too few trials 1\n",
      "Warning: skipping session with too few trials 2\n",
      "Warning: skipping session with too few trials 0\n",
      "Warning: skipping session with too few trials 1\n",
      "Warning: skipping session with too few trials 0\n",
      "Warning: skipping session with too few trials 2\n",
      "Warning: skipping session with too few trials 2\n",
      "Warning: skipping session with too few trials 7\n",
      "Warning: skipping session with too few trials 5\n",
      "Warning: skipping session with too few trials 3\n",
      "Warning: skipping session with too few trials 6\n",
      "Warning: skipping session with too few trials 5\n",
      "Warning: skipping session with too few trials 2\n",
      "Warning: skipping session with too few trials 0\n",
      "Warning: skipping session with too few trials 1\n",
      "Warning: skipping session with too few trials 3\n",
      "Warning: skipping session with too few trials 7\n",
      "Warning: skipping session with too few trials 5\n",
      "Warning: skipping session with too few trials 3\n",
      "Warning: skipping session with too few trials 0\n",
      "Warning: skipping session with too few trials 5\n",
      "Warning: skipping session with too few trials 6\n",
      "Warning: skipping session with too few trials 1\n"
     ]
    },
    {
     "data": {
      "application/vnd.jupyter.widget-view+json": {
       "model_id": "760631da22494cff8aa3871c798d2b83",
       "version_major": 2,
       "version_minor": 0
      },
      "text/plain": [
       "IntProgress(value=0, description='mou_7', max=36)"
      ]
     },
     "metadata": {},
     "output_type": "display_data"
    },
    {
     "name": "stdout",
     "output_type": "stream",
     "text": [
      "Warning: skipping session with too few trials 3\n",
      "Warning: skipping session with too few trials 3\n",
      "Warning: skipping session with too few trials 5\n",
      "Warning: skipping session with too few trials 5\n",
      "Warning: skipping session with too few trials 2\n",
      "Warning: skipping session with too few trials 3\n",
      "Warning: skipping session with too few trials 3\n",
      "Warning: skipping session with too few trials 1\n",
      "Warning: skipping session with too few trials 2\n",
      "Warning: skipping session with too few trials 0\n",
      "Warning: skipping session with too few trials 1\n",
      "Warning: skipping session with too few trials 0\n",
      "Warning: skipping session with too few trials 2\n",
      "Warning: skipping session with too few trials 2\n",
      "Warning: skipping session with too few trials 7\n",
      "Warning: skipping session with too few trials 5\n",
      "Warning: skipping session with too few trials 3\n",
      "Warning: skipping session with too few trials 6\n",
      "Warning: skipping session with too few trials 5\n",
      "Warning: skipping session with too few trials 2\n",
      "Warning: skipping session with too few trials 0\n",
      "Warning: skipping session with too few trials 1\n",
      "Warning: skipping session with too few trials 3\n",
      "Warning: skipping session with too few trials 7\n",
      "Warning: skipping session with too few trials 5\n",
      "Warning: skipping session with too few trials 3\n",
      "Warning: skipping session with too few trials 0\n",
      "Warning: skipping session with too few trials 5\n",
      "Warning: skipping session with too few trials 6\n",
      "Warning: skipping session with too few trials 1\n"
     ]
    },
    {
     "data": {
      "application/vnd.jupyter.widget-view+json": {
       "model_id": "bbd9a17edf264394aeb56ddd6b798a9f",
       "version_major": 2,
       "version_minor": 0
      },
      "text/plain": [
       "IntProgress(value=0, description='mou_7', max=36)"
      ]
     },
     "metadata": {},
     "output_type": "display_data"
    },
    {
     "name": "stdout",
     "output_type": "stream",
     "text": [
      "Warning: skipping session with too few trials 3\n",
      "Warning: skipping session with too few trials 3\n",
      "Warning: skipping session with too few trials 5\n",
      "Warning: skipping session with too few trials 5\n",
      "Warning: skipping session with too few trials 2\n",
      "Warning: skipping session with too few trials 3\n",
      "Warning: skipping session with too few trials 3\n",
      "Warning: skipping session with too few trials 1\n",
      "Warning: skipping session with too few trials 2\n",
      "Warning: skipping session with too few trials 0\n",
      "Warning: skipping session with too few trials 1\n",
      "Warning: skipping session with too few trials 0\n",
      "Warning: skipping session with too few trials 2\n",
      "Warning: skipping session with too few trials 2\n",
      "Warning: skipping session with too few trials 7\n",
      "Warning: skipping session with too few trials 5\n",
      "Warning: skipping session with too few trials 3\n",
      "Warning: skipping session with too few trials 6\n",
      "Warning: skipping session with too few trials 5\n",
      "Warning: skipping session with too few trials 2\n",
      "Warning: skipping session with too few trials 0\n",
      "Warning: skipping session with too few trials 1\n",
      "Warning: skipping session with too few trials 3\n",
      "Warning: skipping session with too few trials 7\n",
      "Warning: skipping session with too few trials 5\n",
      "Warning: skipping session with too few trials 3\n",
      "Warning: skipping session with too few trials 0\n",
      "Warning: skipping session with too few trials 5\n",
      "Warning: skipping session with too few trials 6\n",
      "Warning: skipping session with too few trials 1\n"
     ]
    }
   ],
   "source": [
    "bulk_metrics.metric_mouse_bulk_vs_session(dataDB, mc, ds, \"mean\", 'session', trialTypeNames='auto',\n",
    "                                          minTrials=10, verbose=False, intervNames=intervNames,\n",
    "                                          exclQueryLst=exclQueryLst)"
   ]
  },
  {
   "cell_type": "code",
   "execution_count": 34,
   "metadata": {},
   "outputs": [
    {
     "name": "stdout",
     "output_type": "stream",
     "text": [
      "['mean', 'session', 'mou_5', 'None', 'bn_session', 'AUD', 'dset601', 'CR']\n",
      "(21,)\n",
      "(21,)\n",
      "['mean', 'session', 'mou_6', 'None', 'bn_session', 'AUD', 'dset661', 'CR']\n",
      "(29,)\n",
      "(29,)\n",
      "['mean', 'session', 'mou_7', 'None', 'bn_session', 'AUD', 'dset783', 'CR']\n",
      "(36,)\n",
      "(36,)\n",
      "['mean', 'session', 'mou_9', 'None', 'bn_session', 'AUD', 'dset722', 'CR']\n",
      "(20,)\n",
      "(20,)\n",
      "['mean', 'session', 'mou_5', 'None', 'bn_trial', 'AUD', 'dset622', 'CR']\n",
      "(21,)\n",
      "(21,)\n",
      "['mean', 'session', 'mou_6', 'None', 'bn_trial', 'AUD', 'dset678', 'CR']\n",
      "(29,)\n",
      "(29,)\n",
      "['mean', 'session', 'mou_7', 'None', 'bn_trial', 'AUD', 'dset804', 'CR']\n",
      "(36,)\n",
      "(36,)\n",
      "['mean', 'session', 'mou_9', 'None', 'bn_trial', 'AUD', 'dset738', 'CR']\n",
      "(20,)\n",
      "(20,)\n",
      "['mean', 'session', 'mou_5', 'None', 'bn_session', 'AVG', 'dset604', 'CR']\n",
      "(21,)\n",
      "(21,)\n",
      "['mean', 'session', 'mou_6', 'None', 'bn_session', 'AVG', 'dset664', 'CR']\n",
      "(29,)\n",
      "(29,)\n",
      "['mean', 'session', 'mou_7', 'None', 'bn_session', 'AVG', 'dset786', 'CR']\n",
      "(36,)\n",
      "(36,)\n",
      "['mean', 'session', 'mou_9', 'None', 'bn_session', 'AVG', 'dset725', 'CR']\n",
      "(20,)\n",
      "(20,)\n",
      "['mean', 'session', 'mou_5', 'None', 'bn_trial', 'AVG', 'dset625', 'CR']\n",
      "(21,)\n",
      "(21,)\n",
      "['mean', 'session', 'mou_6', 'None', 'bn_trial', 'AVG', 'dset681', 'CR']\n",
      "(29,)\n",
      "(29,)\n",
      "['mean', 'session', 'mou_7', 'None', 'bn_trial', 'AVG', 'dset807', 'CR']\n",
      "(36,)\n",
      "(36,)\n",
      "['mean', 'session', 'mou_9', 'None', 'bn_trial', 'AVG', 'dset741', 'CR']\n",
      "(20,)\n",
      "(20,)\n",
      "['mean', 'session', 'mou_5', 'None', 'bn_session', 'DEL', 'dset602', 'CR']\n",
      "(21,)\n",
      "(21,)\n",
      "['mean', 'session', 'mou_6', 'None', 'bn_session', 'DEL', 'dset662', 'CR']\n",
      "(29,)\n",
      "(29,)\n",
      "['mean', 'session', 'mou_7', 'None', 'bn_session', 'DEL', 'dset784', 'CR']\n",
      "(36,)\n",
      "(36,)\n",
      "['mean', 'session', 'mou_9', 'None', 'bn_session', 'DEL', 'dset723', 'CR']\n",
      "(20,)\n",
      "(20,)\n",
      "['mean', 'session', 'mou_5', 'None', 'bn_trial', 'DEL', 'dset623', 'CR']\n",
      "(21,)\n",
      "(21,)\n",
      "['mean', 'session', 'mou_6', 'None', 'bn_trial', 'DEL', 'dset679', 'CR']\n",
      "(29,)\n",
      "(29,)\n",
      "['mean', 'session', 'mou_7', 'None', 'bn_trial', 'DEL', 'dset805', 'CR']\n",
      "(36,)\n",
      "(36,)\n",
      "['mean', 'session', 'mou_9', 'None', 'bn_trial', 'DEL', 'dset739', 'CR']\n",
      "(20,)\n",
      "(20,)\n",
      "['mean', 'session', 'mou_5', 'None', 'bn_session', 'PRE', 'dset600', 'CR']\n",
      "(21,)\n",
      "(21,)\n",
      "['mean', 'session', 'mou_6', 'None', 'bn_session', 'PRE', 'dset660', 'CR']\n",
      "(29,)\n",
      "(29,)\n",
      "['mean', 'session', 'mou_7', 'None', 'bn_session', 'PRE', 'dset782', 'CR']\n",
      "(36,)\n",
      "(36,)\n",
      "['mean', 'session', 'mou_9', 'None', 'bn_session', 'PRE', 'dset721', 'CR']\n",
      "(20,)\n",
      "(20,)\n",
      "['mean', 'session', 'mou_5', 'None', 'bn_session', 'REW', 'dset603', 'CR']\n",
      "(21,)\n",
      "(21,)\n",
      "['mean', 'session', 'mou_6', 'None', 'bn_session', 'REW', 'dset663', 'CR']\n",
      "(29,)\n",
      "(29,)\n",
      "['mean', 'session', 'mou_7', 'None', 'bn_session', 'REW', 'dset785', 'CR']\n",
      "(36,)\n",
      "(36,)\n",
      "['mean', 'session', 'mou_9', 'None', 'bn_session', 'REW', 'dset724', 'CR']\n",
      "(20,)\n",
      "(20,)\n",
      "['mean', 'session', 'mou_5', 'None', 'bn_trial', 'REW', 'dset624', 'CR']\n",
      "(21,)\n",
      "(21,)\n",
      "['mean', 'session', 'mou_6', 'None', 'bn_trial', 'REW', 'dset680', 'CR']\n",
      "(29,)\n",
      "(29,)\n",
      "['mean', 'session', 'mou_7', 'None', 'bn_trial', 'REW', 'dset806', 'CR']\n",
      "(36,)\n",
      "(36,)\n",
      "['mean', 'session', 'mou_9', 'None', 'bn_trial', 'REW', 'dset740', 'CR']\n",
      "(20,)\n",
      "(20,)\n",
      "['mean', 'session', 'mou_5', 'rs', 'raw', 'AUD', 'dset576', 'CR']\n",
      "(21,)\n",
      "(21,)\n",
      "['mean', 'session', 'mou_6', 'rs', 'raw', 'AUD', 'dset641', 'CR']\n",
      "(29,)\n",
      "(29,)\n",
      "['mean', 'session', 'mou_7', 'rs', 'raw', 'AUD', 'dset758', 'CR']\n",
      "(36,)\n",
      "(36,)\n",
      "['mean', 'session', 'mou_9', 'rs', 'raw', 'AUD', 'dset702', 'CR']\n",
      "(20,)\n",
      "(20,)\n",
      "['mean', 'session', 'mou_5', 'rs', 'raw', 'AVG', 'dset579', 'CR']\n",
      "(21,)\n",
      "(21,)\n",
      "['mean', 'session', 'mou_6', 'rs', 'raw', 'AVG', 'dset644', 'CR']\n",
      "(29,)\n",
      "(29,)\n",
      "['mean', 'session', 'mou_7', 'rs', 'raw', 'AVG', 'dset761', 'CR']\n",
      "(36,)\n",
      "(36,)\n",
      "['mean', 'session', 'mou_9', 'rs', 'raw', 'AVG', 'dset705', 'CR']\n",
      "(20,)\n",
      "(20,)\n",
      "['mean', 'session', 'mou_5', 'rs', 'raw', 'DEL', 'dset577', 'CR']\n",
      "(21,)\n",
      "(21,)\n",
      "['mean', 'session', 'mou_6', 'rs', 'raw', 'DEL', 'dset642', 'CR']\n",
      "(29,)\n",
      "(29,)\n",
      "['mean', 'session', 'mou_7', 'rs', 'raw', 'DEL', 'dset759', 'CR']\n",
      "(36,)\n",
      "(36,)\n",
      "['mean', 'session', 'mou_9', 'rs', 'raw', 'DEL', 'dset703', 'CR']\n",
      "(20,)\n",
      "(20,)\n",
      "['mean', 'session', 'mou_5', 'rs', 'raw', 'PRE', 'dset575', 'CR']\n",
      "(21,)\n",
      "(21,)\n",
      "['mean', 'session', 'mou_6', 'rs', 'raw', 'PRE', 'dset640', 'CR']\n",
      "(29,)\n",
      "(29,)\n",
      "['mean', 'session', 'mou_7', 'rs', 'raw', 'PRE', 'dset757', 'CR']\n",
      "(36,)\n",
      "(36,)\n",
      "['mean', 'session', 'mou_9', 'rs', 'raw', 'PRE', 'dset701', 'CR']\n",
      "(20,)\n",
      "(20,)\n",
      "['mean', 'session', 'mou_5', 'rs', 'raw', 'REW', 'dset578', 'CR']\n",
      "(21,)\n",
      "(21,)\n",
      "['mean', 'session', 'mou_6', 'rs', 'raw', 'REW', 'dset643', 'CR']\n",
      "(29,)\n",
      "(29,)\n",
      "['mean', 'session', 'mou_7', 'rs', 'raw', 'REW', 'dset760', 'CR']\n",
      "(36,)\n",
      "(36,)\n",
      "['mean', 'session', 'mou_9', 'rs', 'raw', 'REW', 'dset704', 'CR']\n",
      "(20,)\n",
      "(20,)\n",
      "['mean', 'session', 'mou_5', 'None', 'bn_session', 'AUD', 'dset606', 'FA']\n",
      "(21,)\n",
      "(4,)\n",
      "['mean', 'session', 'mou_6', 'None', 'bn_session', 'AUD', 'dset666', 'FA']\n",
      "(29,)\n",
      "(13,)\n",
      "['mean', 'session', 'mou_7', 'None', 'bn_session', 'AUD', 'dset788', 'FA']\n",
      "(36,)\n",
      "(6,)\n",
      "['mean', 'session', 'mou_5', 'None', 'bn_trial', 'AUD', 'dset626', 'FA']\n",
      "(21,)\n",
      "(4,)\n",
      "['mean', 'session', 'mou_6', 'None', 'bn_trial', 'AUD', 'dset682', 'FA']\n",
      "(29,)\n",
      "(13,)\n",
      "['mean', 'session', 'mou_7', 'None', 'bn_trial', 'AUD', 'dset808', 'FA']\n",
      "(36,)\n",
      "(6,)\n",
      "['mean', 'session', 'mou_5', 'None', 'bn_session', 'AVG', 'dset609', 'FA']\n",
      "(21,)\n",
      "(4,)\n",
      "['mean', 'session', 'mou_6', 'None', 'bn_session', 'AVG', 'dset669', 'FA']\n",
      "(29,)\n",
      "(13,)\n",
      "['mean', 'session', 'mou_7', 'None', 'bn_session', 'AVG', 'dset791', 'FA']\n",
      "(36,)\n",
      "(6,)\n",
      "['mean', 'session', 'mou_5', 'None', 'bn_trial', 'AVG', 'dset629', 'FA']\n",
      "(21,)\n",
      "(4,)\n",
      "['mean', 'session', 'mou_6', 'None', 'bn_trial', 'AVG', 'dset685', 'FA']\n",
      "(29,)\n",
      "(13,)\n",
      "['mean', 'session', 'mou_7', 'None', 'bn_trial', 'AVG', 'dset811', 'FA']\n",
      "(36,)\n",
      "(6,)\n",
      "['mean', 'session', 'mou_5', 'None', 'bn_session', 'DEL', 'dset607', 'FA']\n",
      "(21,)\n",
      "(4,)\n",
      "['mean', 'session', 'mou_6', 'None', 'bn_session', 'DEL', 'dset667', 'FA']\n",
      "(29,)\n",
      "(13,)\n",
      "['mean', 'session', 'mou_7', 'None', 'bn_session', 'DEL', 'dset789', 'FA']\n",
      "(36,)\n",
      "(6,)\n",
      "['mean', 'session', 'mou_5', 'None', 'bn_trial', 'DEL', 'dset627', 'FA']\n",
      "(21,)\n",
      "(4,)\n",
      "['mean', 'session', 'mou_6', 'None', 'bn_trial', 'DEL', 'dset683', 'FA']\n",
      "(29,)\n",
      "(13,)\n",
      "['mean', 'session', 'mou_7', 'None', 'bn_trial', 'DEL', 'dset809', 'FA']\n",
      "(36,)\n",
      "(6,)\n",
      "['mean', 'session', 'mou_5', 'None', 'bn_session', 'PRE', 'dset605', 'FA']\n",
      "(21,)\n",
      "(4,)\n",
      "['mean', 'session', 'mou_6', 'None', 'bn_session', 'PRE', 'dset665', 'FA']\n",
      "(29,)\n",
      "(13,)\n",
      "['mean', 'session', 'mou_7', 'None', 'bn_session', 'PRE', 'dset787', 'FA']\n",
      "(36,)\n",
      "(6,)\n",
      "['mean', 'session', 'mou_5', 'None', 'bn_session', 'REW', 'dset608', 'FA']\n",
      "(21,)\n",
      "(4,)\n",
      "['mean', 'session', 'mou_6', 'None', 'bn_session', 'REW', 'dset668', 'FA']\n",
      "(29,)\n",
      "(13,)\n",
      "['mean', 'session', 'mou_7', 'None', 'bn_session', 'REW', 'dset790', 'FA']\n",
      "(36,)\n",
      "(6,)\n",
      "['mean', 'session', 'mou_5', 'None', 'bn_trial', 'REW', 'dset628', 'FA']\n",
      "(21,)\n",
      "(4,)\n",
      "['mean', 'session', 'mou_6', 'None', 'bn_trial', 'REW', 'dset684', 'FA']\n",
      "(29,)\n",
      "(13,)\n",
      "['mean', 'session', 'mou_7', 'None', 'bn_trial', 'REW', 'dset810', 'FA']\n",
      "(36,)\n",
      "(6,)\n",
      "['mean', 'session', 'mou_5', 'rs', 'raw', 'AUD', 'dset581', 'FA']\n",
      "(21,)\n",
      "(4,)\n",
      "['mean', 'session', 'mou_6', 'rs', 'raw', 'AUD', 'dset646', 'FA']\n",
      "(29,)\n",
      "(13,)\n",
      "['mean', 'session', 'mou_7', 'rs', 'raw', 'AUD', 'dset763', 'FA']\n",
      "(36,)\n",
      "(6,)\n",
      "['mean', 'session', 'mou_5', 'rs', 'raw', 'AVG', 'dset584', 'FA']\n",
      "(21,)\n",
      "(4,)\n",
      "['mean', 'session', 'mou_6', 'rs', 'raw', 'AVG', 'dset649', 'FA']\n",
      "(29,)\n",
      "(13,)\n",
      "['mean', 'session', 'mou_7', 'rs', 'raw', 'AVG', 'dset766', 'FA']\n",
      "(36,)\n",
      "(6,)\n",
      "['mean', 'session', 'mou_5', 'rs', 'raw', 'DEL', 'dset582', 'FA']\n",
      "(21,)\n",
      "(4,)\n",
      "['mean', 'session', 'mou_6', 'rs', 'raw', 'DEL', 'dset647', 'FA']\n",
      "(29,)\n",
      "(13,)\n",
      "['mean', 'session', 'mou_7', 'rs', 'raw', 'DEL', 'dset764', 'FA']\n",
      "(36,)\n",
      "(6,)\n",
      "['mean', 'session', 'mou_5', 'rs', 'raw', 'PRE', 'dset580', 'FA']\n",
      "(21,)\n",
      "(4,)\n",
      "['mean', 'session', 'mou_6', 'rs', 'raw', 'PRE', 'dset645', 'FA']\n",
      "(29,)\n",
      "(13,)\n",
      "['mean', 'session', 'mou_7', 'rs', 'raw', 'PRE', 'dset762', 'FA']\n",
      "(36,)\n",
      "(6,)\n",
      "['mean', 'session', 'mou_5', 'rs', 'raw', 'REW', 'dset583', 'FA']\n",
      "(21,)\n",
      "(4,)\n",
      "['mean', 'session', 'mou_6', 'rs', 'raw', 'REW', 'dset648', 'FA']\n",
      "(29,)\n",
      "(13,)\n",
      "['mean', 'session', 'mou_7', 'rs', 'raw', 'REW', 'dset765', 'FA']\n",
      "(36,)\n",
      "(6,)\n",
      "['mean', 'session', 'mou_5', 'None', 'bn_session', 'AUD', 'dset591', 'Hit']\n",
      "(21,)\n",
      "(21,)\n",
      "['mean', 'session', 'mou_6', 'None', 'bn_session', 'AUD', 'dset656', 'Hit']\n",
      "(29,)\n",
      "(29,)\n",
      "['mean', 'session', 'mou_7', 'None', 'bn_session', 'AUD', 'dset773', 'Hit']\n",
      "(36,)\n",
      "(33,)\n",
      "['mean', 'session', 'mou_9', 'None', 'bn_session', 'AUD', 'dset712', 'Hit']\n",
      "(20,)\n",
      "(20,)\n"
     ]
    },
    {
     "name": "stdout",
     "output_type": "stream",
     "text": [
      "['mean', 'session', 'mou_5', 'None', 'bn_trial', 'AUD', 'dset614', 'Hit']\n",
      "(21,)\n",
      "(21,)\n",
      "['mean', 'session', 'mou_6', 'None', 'bn_trial', 'AUD', 'dset674', 'Hit']\n",
      "(29,)\n",
      "(29,)\n",
      "['mean', 'session', 'mou_7', 'None', 'bn_trial', 'AUD', 'dset796', 'Hit']\n",
      "(36,)\n",
      "(33,)\n",
      "['mean', 'session', 'mou_9', 'None', 'bn_trial', 'AUD', 'dset730', 'Hit']\n",
      "(20,)\n",
      "(20,)\n",
      "['mean', 'session', 'mou_5', 'None', 'bn_session', 'AVG', 'dset594', 'Hit']\n",
      "(21,)\n",
      "(21,)\n",
      "['mean', 'session', 'mou_6', 'None', 'bn_session', 'AVG', 'dset659', 'Hit']\n",
      "(29,)\n",
      "(29,)\n",
      "['mean', 'session', 'mou_7', 'None', 'bn_session', 'AVG', 'dset776', 'Hit']\n",
      "(36,)\n",
      "(33,)\n",
      "['mean', 'session', 'mou_9', 'None', 'bn_session', 'AVG', 'dset715', 'Hit']\n",
      "(20,)\n",
      "(20,)\n",
      "['mean', 'session', 'mou_5', 'None', 'bn_trial', 'AVG', 'dset617', 'Hit']\n",
      "(21,)\n",
      "(21,)\n",
      "['mean', 'session', 'mou_6', 'None', 'bn_trial', 'AVG', 'dset677', 'Hit']\n",
      "(29,)\n",
      "(29,)\n",
      "['mean', 'session', 'mou_7', 'None', 'bn_trial', 'AVG', 'dset799', 'Hit']\n",
      "(36,)\n",
      "(33,)\n",
      "['mean', 'session', 'mou_9', 'None', 'bn_trial', 'AVG', 'dset733', 'Hit']\n",
      "(20,)\n",
      "(20,)\n",
      "['mean', 'session', 'mou_5', 'None', 'bn_session', 'DEL', 'dset592', 'Hit']\n",
      "(21,)\n",
      "(21,)\n",
      "['mean', 'session', 'mou_6', 'None', 'bn_session', 'DEL', 'dset657', 'Hit']\n",
      "(29,)\n",
      "(29,)\n",
      "['mean', 'session', 'mou_7', 'None', 'bn_session', 'DEL', 'dset774', 'Hit']\n",
      "(36,)\n",
      "(33,)\n",
      "['mean', 'session', 'mou_9', 'None', 'bn_session', 'DEL', 'dset713', 'Hit']\n",
      "(20,)\n",
      "(20,)\n",
      "['mean', 'session', 'mou_5', 'None', 'bn_trial', 'DEL', 'dset615', 'Hit']\n",
      "(21,)\n",
      "(21,)\n",
      "['mean', 'session', 'mou_6', 'None', 'bn_trial', 'DEL', 'dset675', 'Hit']\n",
      "(29,)\n",
      "(29,)\n",
      "['mean', 'session', 'mou_7', 'None', 'bn_trial', 'DEL', 'dset797', 'Hit']\n",
      "(36,)\n",
      "(33,)\n",
      "['mean', 'session', 'mou_9', 'None', 'bn_trial', 'DEL', 'dset731', 'Hit']\n",
      "(20,)\n",
      "(20,)\n",
      "['mean', 'session', 'mou_5', 'None', 'bn_session', 'PRE', 'dset590', 'Hit']\n",
      "(21,)\n",
      "(21,)\n",
      "['mean', 'session', 'mou_6', 'None', 'bn_session', 'PRE', 'dset655', 'Hit']\n",
      "(29,)\n",
      "(29,)\n",
      "['mean', 'session', 'mou_7', 'None', 'bn_session', 'PRE', 'dset772', 'Hit']\n",
      "(36,)\n",
      "(33,)\n",
      "['mean', 'session', 'mou_9', 'None', 'bn_session', 'PRE', 'dset711', 'Hit']\n",
      "(20,)\n",
      "(20,)\n",
      "['mean', 'session', 'mou_5', 'None', 'bn_session', 'REW', 'dset593', 'Hit']\n",
      "(21,)\n",
      "(21,)\n",
      "['mean', 'session', 'mou_6', 'None', 'bn_session', 'REW', 'dset658', 'Hit']\n",
      "(29,)\n",
      "(29,)\n",
      "['mean', 'session', 'mou_7', 'None', 'bn_session', 'REW', 'dset775', 'Hit']\n",
      "(36,)\n",
      "(33,)\n",
      "['mean', 'session', 'mou_9', 'None', 'bn_session', 'REW', 'dset714', 'Hit']\n",
      "(20,)\n",
      "(20,)\n",
      "['mean', 'session', 'mou_5', 'None', 'bn_trial', 'REW', 'dset616', 'Hit']\n",
      "(21,)\n",
      "(21,)\n",
      "['mean', 'session', 'mou_6', 'None', 'bn_trial', 'REW', 'dset676', 'Hit']\n",
      "(29,)\n",
      "(29,)\n",
      "['mean', 'session', 'mou_7', 'None', 'bn_trial', 'REW', 'dset798', 'Hit']\n",
      "(36,)\n",
      "(33,)\n",
      "['mean', 'session', 'mou_9', 'None', 'bn_trial', 'REW', 'dset732', 'Hit']\n",
      "(20,)\n",
      "(20,)\n",
      "['mean', 'session', 'mou_5', 'rs', 'raw', 'AUD', 'dset566', 'Hit']\n",
      "(21,)\n",
      "(21,)\n",
      "['mean', 'session', 'mou_6', 'rs', 'raw', 'AUD', 'dset636', 'Hit']\n",
      "(29,)\n",
      "(29,)\n",
      "['mean', 'session', 'mou_7', 'rs', 'raw', 'AUD', 'dset748', 'Hit']\n",
      "(36,)\n",
      "(33,)\n",
      "['mean', 'session', 'mou_9', 'rs', 'raw', 'AUD', 'dset692', 'Hit']\n",
      "(20,)\n",
      "(20,)\n",
      "['mean', 'session', 'mou_5', 'rs', 'raw', 'AVG', 'dset569', 'Hit']\n",
      "(21,)\n",
      "(21,)\n",
      "['mean', 'session', 'mou_6', 'rs', 'raw', 'AVG', 'dset639', 'Hit']\n",
      "(29,)\n",
      "(29,)\n",
      "['mean', 'session', 'mou_7', 'rs', 'raw', 'AVG', 'dset751', 'Hit']\n",
      "(36,)\n",
      "(33,)\n",
      "['mean', 'session', 'mou_9', 'rs', 'raw', 'AVG', 'dset695', 'Hit']\n",
      "(20,)\n",
      "(20,)\n",
      "['mean', 'session', 'mou_5', 'rs', 'raw', 'DEL', 'dset567', 'Hit']\n",
      "(21,)\n",
      "(21,)\n",
      "['mean', 'session', 'mou_6', 'rs', 'raw', 'DEL', 'dset637', 'Hit']\n",
      "(29,)\n",
      "(29,)\n",
      "['mean', 'session', 'mou_7', 'rs', 'raw', 'DEL', 'dset749', 'Hit']\n",
      "(36,)\n",
      "(33,)\n",
      "['mean', 'session', 'mou_9', 'rs', 'raw', 'DEL', 'dset693', 'Hit']\n",
      "(20,)\n",
      "(20,)\n",
      "['mean', 'session', 'mou_5', 'rs', 'raw', 'PRE', 'dset565', 'Hit']\n",
      "(21,)\n",
      "(21,)\n",
      "['mean', 'session', 'mou_6', 'rs', 'raw', 'PRE', 'dset635', 'Hit']\n",
      "(29,)\n",
      "(29,)\n",
      "['mean', 'session', 'mou_7', 'rs', 'raw', 'PRE', 'dset747', 'Hit']\n",
      "(36,)\n",
      "(33,)\n",
      "['mean', 'session', 'mou_9', 'rs', 'raw', 'PRE', 'dset691', 'Hit']\n",
      "(20,)\n",
      "(20,)\n",
      "['mean', 'session', 'mou_5', 'rs', 'raw', 'REW', 'dset568', 'Hit']\n",
      "(21,)\n",
      "(21,)\n",
      "['mean', 'session', 'mou_6', 'rs', 'raw', 'REW', 'dset638', 'Hit']\n",
      "(29,)\n",
      "(29,)\n",
      "['mean', 'session', 'mou_7', 'rs', 'raw', 'REW', 'dset750', 'Hit']\n",
      "(36,)\n",
      "(33,)\n",
      "['mean', 'session', 'mou_9', 'rs', 'raw', 'REW', 'dset694', 'Hit']\n",
      "(20,)\n",
      "(20,)\n",
      "['mean', 'session', 'mou_5', 'None', 'bn_session', 'AUD', 'dset596', 'Miss']\n",
      "(21,)\n",
      "(1,)\n",
      "['mean', 'session', 'mou_7', 'None', 'bn_session', 'AUD', 'dset778', 'Miss']\n",
      "(36,)\n",
      "(6,)\n",
      "['mean', 'session', 'mou_9', 'None', 'bn_session', 'AUD', 'dset717', 'Miss']\n",
      "(20,)\n",
      "(8,)\n",
      "['mean', 'session', 'mou_5', 'None', 'bn_trial', 'AUD', 'dset618', 'Miss']\n",
      "(21,)\n",
      "(1,)\n",
      "['mean', 'session', 'mou_7', 'None', 'bn_trial', 'AUD', 'dset800', 'Miss']\n",
      "(36,)\n",
      "(6,)\n",
      "['mean', 'session', 'mou_9', 'None', 'bn_trial', 'AUD', 'dset734', 'Miss']\n",
      "(20,)\n",
      "(8,)\n",
      "['mean', 'session', 'mou_5', 'None', 'bn_session', 'AVG', 'dset599', 'Miss']\n",
      "(21,)\n",
      "(1,)\n",
      "['mean', 'session', 'mou_7', 'None', 'bn_session', 'AVG', 'dset781', 'Miss']\n",
      "(36,)\n",
      "(6,)\n",
      "['mean', 'session', 'mou_9', 'None', 'bn_session', 'AVG', 'dset720', 'Miss']\n",
      "(20,)\n",
      "(8,)\n",
      "['mean', 'session', 'mou_5', 'None', 'bn_trial', 'AVG', 'dset621', 'Miss']\n",
      "(21,)\n",
      "(1,)\n",
      "['mean', 'session', 'mou_7', 'None', 'bn_trial', 'AVG', 'dset803', 'Miss']\n",
      "(36,)\n",
      "(6,)\n",
      "['mean', 'session', 'mou_9', 'None', 'bn_trial', 'AVG', 'dset737', 'Miss']\n",
      "(20,)\n",
      "(8,)\n",
      "['mean', 'session', 'mou_5', 'None', 'bn_session', 'DEL', 'dset597', 'Miss']\n",
      "(21,)\n",
      "(1,)\n",
      "['mean', 'session', 'mou_7', 'None', 'bn_session', 'DEL', 'dset779', 'Miss']\n",
      "(36,)\n",
      "(6,)\n",
      "['mean', 'session', 'mou_9', 'None', 'bn_session', 'DEL', 'dset718', 'Miss']\n",
      "(20,)\n",
      "(8,)\n",
      "['mean', 'session', 'mou_5', 'None', 'bn_trial', 'DEL', 'dset619', 'Miss']\n",
      "(21,)\n",
      "(1,)\n",
      "['mean', 'session', 'mou_7', 'None', 'bn_trial', 'DEL', 'dset801', 'Miss']\n",
      "(36,)\n",
      "(6,)\n",
      "['mean', 'session', 'mou_9', 'None', 'bn_trial', 'DEL', 'dset735', 'Miss']\n",
      "(20,)\n",
      "(8,)\n",
      "['mean', 'session', 'mou_5', 'None', 'bn_session', 'PRE', 'dset595', 'Miss']\n",
      "(21,)\n",
      "(1,)\n",
      "['mean', 'session', 'mou_7', 'None', 'bn_session', 'PRE', 'dset777', 'Miss']\n",
      "(36,)\n",
      "(6,)\n",
      "['mean', 'session', 'mou_9', 'None', 'bn_session', 'PRE', 'dset716', 'Miss']\n",
      "(20,)\n",
      "(8,)\n",
      "['mean', 'session', 'mou_5', 'None', 'bn_session', 'REW', 'dset598', 'Miss']\n",
      "(21,)\n",
      "(1,)\n",
      "['mean', 'session', 'mou_7', 'None', 'bn_session', 'REW', 'dset780', 'Miss']\n",
      "(36,)\n",
      "(6,)\n",
      "['mean', 'session', 'mou_9', 'None', 'bn_session', 'REW', 'dset719', 'Miss']\n",
      "(20,)\n",
      "(8,)\n",
      "['mean', 'session', 'mou_5', 'None', 'bn_trial', 'REW', 'dset620', 'Miss']\n",
      "(21,)\n",
      "(1,)\n",
      "['mean', 'session', 'mou_7', 'None', 'bn_trial', 'REW', 'dset802', 'Miss']\n",
      "(36,)\n",
      "(6,)\n",
      "['mean', 'session', 'mou_9', 'None', 'bn_trial', 'REW', 'dset736', 'Miss']\n",
      "(20,)\n",
      "(8,)\n",
      "['mean', 'session', 'mou_5', 'rs', 'raw', 'AUD', 'dset571', 'Miss']\n",
      "(21,)\n",
      "(1,)\n",
      "['mean', 'session', 'mou_7', 'rs', 'raw', 'AUD', 'dset753', 'Miss']\n",
      "(36,)\n",
      "(6,)\n",
      "['mean', 'session', 'mou_9', 'rs', 'raw', 'AUD', 'dset697', 'Miss']\n",
      "(20,)\n",
      "(8,)\n",
      "['mean', 'session', 'mou_5', 'rs', 'raw', 'AVG', 'dset574', 'Miss']\n",
      "(21,)\n",
      "(1,)\n",
      "['mean', 'session', 'mou_7', 'rs', 'raw', 'AVG', 'dset756', 'Miss']\n",
      "(36,)\n",
      "(6,)\n",
      "['mean', 'session', 'mou_9', 'rs', 'raw', 'AVG', 'dset700', 'Miss']\n",
      "(20,)\n",
      "(8,)\n",
      "['mean', 'session', 'mou_5', 'rs', 'raw', 'DEL', 'dset572', 'Miss']\n",
      "(21,)\n",
      "(1,)\n",
      "['mean', 'session', 'mou_7', 'rs', 'raw', 'DEL', 'dset754', 'Miss']\n",
      "(36,)\n",
      "(6,)\n",
      "['mean', 'session', 'mou_9', 'rs', 'raw', 'DEL', 'dset698', 'Miss']\n",
      "(20,)\n",
      "(8,)\n",
      "['mean', 'session', 'mou_5', 'rs', 'raw', 'PRE', 'dset570', 'Miss']\n",
      "(21,)\n",
      "(1,)\n",
      "['mean', 'session', 'mou_7', 'rs', 'raw', 'PRE', 'dset752', 'Miss']\n",
      "(36,)\n",
      "(6,)\n",
      "['mean', 'session', 'mou_9', 'rs', 'raw', 'PRE', 'dset696', 'Miss']\n",
      "(20,)\n",
      "(8,)\n",
      "['mean', 'session', 'mou_5', 'rs', 'raw', 'REW', 'dset573', 'Miss']\n",
      "(21,)\n",
      "(1,)\n",
      "['mean', 'session', 'mou_7', 'rs', 'raw', 'REW', 'dset755', 'Miss']\n",
      "(36,)\n",
      "(6,)\n",
      "['mean', 'session', 'mou_9', 'rs', 'raw', 'REW', 'dset699', 'Miss']\n",
      "(20,)\n",
      "(8,)\n",
      "['mean', 'session', 'mou_5', 'None', 'bn_session', 'AUD', 'dset586', 'None']\n",
      "(21,)\n",
      "(21,)\n",
      "['mean', 'session', 'mou_6', 'None', 'bn_session', 'AUD', 'dset651', 'None']\n",
      "(29,)\n",
      "(29,)\n",
      "['mean', 'session', 'mou_7', 'None', 'bn_session', 'AUD', 'dset768', 'None']\n",
      "(36,)\n",
      "(36,)\n",
      "['mean', 'session', 'mou_9', 'None', 'bn_session', 'AUD', 'dset707', 'None']\n",
      "(20,)\n",
      "(20,)\n",
      "['mean', 'session', 'mou_5', 'None', 'bn_trial', 'AUD', 'dset610', 'None']\n",
      "(21,)\n",
      "(21,)\n",
      "['mean', 'session', 'mou_6', 'None', 'bn_trial', 'AUD', 'dset670', 'None']\n",
      "(29,)\n",
      "(29,)\n",
      "['mean', 'session', 'mou_7', 'None', 'bn_trial', 'AUD', 'dset792', 'None']\n",
      "(36,)\n",
      "(36,)\n",
      "['mean', 'session', 'mou_9', 'None', 'bn_trial', 'AUD', 'dset726', 'None']\n",
      "(20,)\n",
      "(20,)\n"
     ]
    },
    {
     "name": "stdout",
     "output_type": "stream",
     "text": [
      "['mean', 'session', 'mou_5', 'None', 'bn_session', 'AVG', 'dset589', 'None']\n",
      "(21,)\n",
      "(21,)\n",
      "['mean', 'session', 'mou_6', 'None', 'bn_session', 'AVG', 'dset654', 'None']\n",
      "(29,)\n",
      "(29,)\n",
      "['mean', 'session', 'mou_7', 'None', 'bn_session', 'AVG', 'dset771', 'None']\n",
      "(36,)\n",
      "(36,)\n",
      "['mean', 'session', 'mou_9', 'None', 'bn_session', 'AVG', 'dset710', 'None']\n",
      "(20,)\n",
      "(20,)\n",
      "['mean', 'session', 'mou_5', 'None', 'bn_trial', 'AVG', 'dset613', 'None']\n",
      "(21,)\n",
      "(21,)\n",
      "['mean', 'session', 'mou_6', 'None', 'bn_trial', 'AVG', 'dset673', 'None']\n",
      "(29,)\n",
      "(29,)\n",
      "['mean', 'session', 'mou_7', 'None', 'bn_trial', 'AVG', 'dset795', 'None']\n",
      "(36,)\n",
      "(36,)\n",
      "['mean', 'session', 'mou_9', 'None', 'bn_trial', 'AVG', 'dset729', 'None']\n",
      "(20,)\n",
      "(20,)\n",
      "['mean', 'session', 'mou_5', 'None', 'bn_session', 'DEL', 'dset587', 'None']\n",
      "(21,)\n",
      "(21,)\n",
      "['mean', 'session', 'mou_6', 'None', 'bn_session', 'DEL', 'dset652', 'None']\n",
      "(29,)\n",
      "(29,)\n",
      "['mean', 'session', 'mou_7', 'None', 'bn_session', 'DEL', 'dset769', 'None']\n",
      "(36,)\n",
      "(36,)\n",
      "['mean', 'session', 'mou_9', 'None', 'bn_session', 'DEL', 'dset708', 'None']\n",
      "(20,)\n",
      "(20,)\n",
      "['mean', 'session', 'mou_5', 'None', 'bn_trial', 'DEL', 'dset611', 'None']\n",
      "(21,)\n",
      "(21,)\n",
      "['mean', 'session', 'mou_6', 'None', 'bn_trial', 'DEL', 'dset671', 'None']\n",
      "(29,)\n",
      "(29,)\n",
      "['mean', 'session', 'mou_7', 'None', 'bn_trial', 'DEL', 'dset793', 'None']\n",
      "(36,)\n",
      "(36,)\n",
      "['mean', 'session', 'mou_9', 'None', 'bn_trial', 'DEL', 'dset727', 'None']\n",
      "(20,)\n",
      "(20,)\n",
      "['mean', 'session', 'mou_5', 'None', 'bn_session', 'PRE', 'dset585', 'None']\n",
      "(21,)\n",
      "(21,)\n",
      "['mean', 'session', 'mou_6', 'None', 'bn_session', 'PRE', 'dset650', 'None']\n",
      "(29,)\n",
      "(29,)\n",
      "['mean', 'session', 'mou_7', 'None', 'bn_session', 'PRE', 'dset767', 'None']\n",
      "(36,)\n",
      "(36,)\n",
      "['mean', 'session', 'mou_9', 'None', 'bn_session', 'PRE', 'dset706', 'None']\n",
      "(20,)\n",
      "(20,)\n",
      "['mean', 'session', 'mou_5', 'None', 'bn_session', 'REW', 'dset588', 'None']\n",
      "(21,)\n",
      "(21,)\n",
      "['mean', 'session', 'mou_6', 'None', 'bn_session', 'REW', 'dset653', 'None']\n",
      "(29,)\n",
      "(29,)\n",
      "['mean', 'session', 'mou_7', 'None', 'bn_session', 'REW', 'dset770', 'None']\n",
      "(36,)\n",
      "(36,)\n",
      "['mean', 'session', 'mou_9', 'None', 'bn_session', 'REW', 'dset709', 'None']\n",
      "(20,)\n",
      "(20,)\n",
      "['mean', 'session', 'mou_5', 'None', 'bn_trial', 'REW', 'dset612', 'None']\n",
      "(21,)\n",
      "(21,)\n",
      "['mean', 'session', 'mou_6', 'None', 'bn_trial', 'REW', 'dset672', 'None']\n",
      "(29,)\n",
      "(29,)\n",
      "['mean', 'session', 'mou_7', 'None', 'bn_trial', 'REW', 'dset794', 'None']\n",
      "(36,)\n",
      "(36,)\n",
      "['mean', 'session', 'mou_9', 'None', 'bn_trial', 'REW', 'dset728', 'None']\n",
      "(20,)\n",
      "(20,)\n",
      "['mean', 'session', 'mou_5', 'rs', 'raw', 'AUD', 'dset561', 'None']\n",
      "(21,)\n",
      "(21,)\n",
      "['mean', 'session', 'mou_6', 'rs', 'raw', 'AUD', 'dset631', 'None']\n",
      "(29,)\n",
      "(29,)\n",
      "['mean', 'session', 'mou_7', 'rs', 'raw', 'AUD', 'dset743', 'None']\n",
      "(36,)\n",
      "(36,)\n",
      "['mean', 'session', 'mou_9', 'rs', 'raw', 'AUD', 'dset687', 'None']\n",
      "(20,)\n",
      "(20,)\n",
      "['mean', 'session', 'mou_5', 'rs', 'raw', 'AVG', 'dset564', 'None']\n",
      "(21,)\n",
      "(21,)\n",
      "['mean', 'session', 'mou_6', 'rs', 'raw', 'AVG', 'dset634', 'None']\n",
      "(29,)\n",
      "(29,)\n",
      "['mean', 'session', 'mou_7', 'rs', 'raw', 'AVG', 'dset746', 'None']\n",
      "(36,)\n",
      "(36,)\n",
      "['mean', 'session', 'mou_9', 'rs', 'raw', 'AVG', 'dset690', 'None']\n",
      "(20,)\n",
      "(20,)\n",
      "['mean', 'session', 'mou_5', 'rs', 'raw', 'DEL', 'dset562', 'None']\n",
      "(21,)\n",
      "(21,)\n",
      "['mean', 'session', 'mou_6', 'rs', 'raw', 'DEL', 'dset632', 'None']\n",
      "(29,)\n",
      "(29,)\n",
      "['mean', 'session', 'mou_7', 'rs', 'raw', 'DEL', 'dset744', 'None']\n",
      "(36,)\n",
      "(36,)\n",
      "['mean', 'session', 'mou_9', 'rs', 'raw', 'DEL', 'dset688', 'None']\n",
      "(20,)\n",
      "(20,)\n",
      "['mean', 'session', 'mou_5', 'rs', 'raw', 'PRE', 'dset560', 'None']\n",
      "(21,)\n",
      "(21,)\n",
      "['mean', 'session', 'mou_6', 'rs', 'raw', 'PRE', 'dset630', 'None']\n",
      "(29,)\n",
      "(29,)\n",
      "['mean', 'session', 'mou_7', 'rs', 'raw', 'PRE', 'dset742', 'None']\n",
      "(36,)\n",
      "(36,)\n",
      "['mean', 'session', 'mou_9', 'rs', 'raw', 'PRE', 'dset686', 'None']\n",
      "(20,)\n",
      "(20,)\n",
      "['mean', 'session', 'mou_5', 'rs', 'raw', 'REW', 'dset563', 'None']\n",
      "(21,)\n",
      "(21,)\n",
      "['mean', 'session', 'mou_6', 'rs', 'raw', 'REW', 'dset633', 'None']\n",
      "(29,)\n",
      "(29,)\n",
      "['mean', 'session', 'mou_7', 'rs', 'raw', 'REW', 'dset745', 'None']\n",
      "(36,)\n",
      "(36,)\n",
      "['mean', 'session', 'mou_9', 'rs', 'raw', 'REW', 'dset689', 'None']\n",
      "(20,)\n",
      "(20,)\n"
     ]
    }
   ],
   "source": [
    "# bulk_metrics.scatter_metric_bulk(ds, 'mean', 'session', verbose=False, xlim=[0, 1],\n",
    "#                               xFunc=lambda m, l: dataDB.get_performance_mouse(m), haveRegression=True)\n",
    "\n",
    "bulk_metrics.scatter_metric_bulk(ds, 'mean', 'session', verbose=False, xFunc=None, haveRegression=False)"
   ]
  },
  {
   "cell_type": "markdown",
   "metadata": {},
   "source": [
    "### 1.3 Conditions"
   ]
  },
  {
   "cell_type": "code",
   "execution_count": 35,
   "metadata": {},
   "outputs": [
    {
     "name": "stdout",
     "output_type": "stream",
     "text": [
      "bn_session\n",
      "bn_trial\n",
      "raw\n"
     ]
    }
   ],
   "source": [
    "bulk_metrics.barplot_conditions(ds, 'mean', 'session', verbose=True, trialTypes=['Hit', 'CR'])"
   ]
  },
  {
   "cell_type": "markdown",
   "metadata": {},
   "source": [
    "## 2. Variance\n",
    "\n",
    "**TODO**\n",
    "* Plot trial variance relative to temporal variance\n",
    "* Plot mean with variance together\n",
    "\n",
    "### Pros/Cons of Baseline Normalization\n",
    "* DFF-Trial\n",
    "    - Pos: Removes dynamic baseline changing on the order of trials.\n",
    "    - Pos: Under assumption of signal-free pre-trial interval, baseline removal enhances relative change in significant activity during trial.\n",
    "    - Neg: In presence of correlation between pre-trial interval and trial signals, this procedure destroys information during trial.\n",
    "\n",
    "* DFF-Session vs ZScore-Session\n",
    "    - Both linear transforms\n",
    "    - Mean is more meaningful for DFF if pre-trial interval is at least somewhat stable\n",
    "    - Va"
   ]
  },
  {
   "cell_type": "code",
   "execution_count": 37,
   "metadata": {
    "scrolled": true
   },
   "outputs": [
    {
     "data": {
      "application/vnd.jupyter.widget-view+json": {
       "model_id": "a71f19e25f7646e694969a08fd795d7f",
       "version_major": 2,
       "version_minor": 0
      },
      "text/plain": [
       "IntProgress(value=0, description='time', max=60)"
      ]
     },
     "metadata": {},
     "output_type": "display_data"
    },
    {
     "name": "stdout",
     "output_type": "stream",
     "text": [
      "{'zscoreDim': 'rs', 'datatype': 'raw', 'intervName': 'AVG'}\n",
      "-- (2498, 60, 27)\n",
      "{'zscoreDim': 'rs', 'datatype': 'raw', 'trialType': 'Hit', 'intervName': 'AVG'}\n",
      "-- (510, 60, 27)\n",
      "{'zscoreDim': 'rs', 'datatype': 'raw', 'trialType': 'Miss', 'intervName': 'AVG'}\n"
     ]
    },
    {
     "name": "stderr",
     "output_type": "stream",
     "text": [
      "/media/aleksejs/DataHDD/work/codes/comp-neuro/analysis-mesoscopic/mesostat-dev/mesostat/utils/signals/filter.py:11: RuntimeWarning: Mean of empty slice\n",
      "  mu = np.nanmean(x, axis=axis).reshape(shapeNew)\n",
      "/opt/anaconda3/envs/py3qt5/lib/python3.8/site-packages/numpy/lib/nanfunctions.py:1664: RuntimeWarning: Degrees of freedom <= 0 for slice.\n",
      "  var = nanvar(a, axis=axis, dtype=dtype, out=out, ddof=ddof,\n"
     ]
    },
    {
     "name": "stdout",
     "output_type": "stream",
     "text": [
      "-- (56, 60, 27)\n",
      "{'zscoreDim': 'rs', 'datatype': 'raw', 'trialType': 'CR', 'intervName': 'AVG'}\n",
      "-- (1070, 60, 27)\n",
      "{'zscoreDim': 'rs', 'datatype': 'raw', 'trialType': 'FA', 'intervName': 'AVG'}\n",
      "-- (104, 60, 27)\n",
      "{'datatype': 'bn_session', 'intervName': 'AVG'}\n",
      "-- (2498, 60, 27)\n",
      "{'datatype': 'bn_session', 'trialType': 'Hit', 'intervName': 'AVG'}\n",
      "-- (510, 60, 27)\n",
      "{'datatype': 'bn_session', 'trialType': 'Miss', 'intervName': 'AVG'}\n",
      "-- (56, 60, 27)\n",
      "{'datatype': 'bn_session', 'trialType': 'CR', 'intervName': 'AVG'}\n",
      "-- (1070, 60, 27)\n",
      "{'datatype': 'bn_session', 'trialType': 'FA', 'intervName': 'AVG'}\n",
      "-- (104, 60, 27)\n",
      "{'datatype': 'bn_trial', 'intervName': 'AVG'}\n",
      "-- (2498, 60, 27)\n",
      "{'datatype': 'bn_trial', 'trialType': 'Hit', 'intervName': 'AVG'}\n",
      "-- (510, 60, 27)\n",
      "{'datatype': 'bn_trial', 'trialType': 'Miss', 'intervName': 'AVG'}\n",
      "-- (56, 60, 27)\n",
      "{'datatype': 'bn_trial', 'trialType': 'CR', 'intervName': 'AVG'}\n",
      "-- (1070, 60, 27)\n",
      "{'datatype': 'bn_trial', 'trialType': 'FA', 'intervName': 'AVG'}\n",
      "-- (104, 60, 27)\n",
      "{'zscoreDim': 'rs', 'datatype': 'raw', 'intervName': 'AVG'}\n",
      "-- (3407, 60, 27)\n",
      "{'zscoreDim': 'rs', 'datatype': 'raw', 'trialType': 'Hit', 'intervName': 'AVG'}\n",
      "-- (735, 60, 27)\n",
      "{'zscoreDim': 'rs', 'datatype': 'raw', 'trialType': 'Miss', 'intervName': 'AVG'}\n",
      "-- (63, 60, 27)\n",
      "{'zscoreDim': 'rs', 'datatype': 'raw', 'trialType': 'CR', 'intervName': 'AVG'}\n",
      "-- (1274, 60, 27)\n",
      "{'zscoreDim': 'rs', 'datatype': 'raw', 'trialType': 'FA', 'intervName': 'AVG'}\n",
      "-- (269, 60, 27)\n",
      "{'datatype': 'bn_session', 'intervName': 'AVG'}\n",
      "-- (3407, 60, 27)\n",
      "{'datatype': 'bn_session', 'trialType': 'Hit', 'intervName': 'AVG'}\n",
      "-- (735, 60, 27)\n",
      "{'datatype': 'bn_session', 'trialType': 'Miss', 'intervName': 'AVG'}\n",
      "-- (63, 60, 27)\n",
      "{'datatype': 'bn_session', 'trialType': 'CR', 'intervName': 'AVG'}\n",
      "-- (1274, 60, 27)\n",
      "{'datatype': 'bn_session', 'trialType': 'FA', 'intervName': 'AVG'}\n",
      "-- (269, 60, 27)\n",
      "{'datatype': 'bn_trial', 'intervName': 'AVG'}\n",
      "-- (3407, 60, 27)\n",
      "{'datatype': 'bn_trial', 'trialType': 'Hit', 'intervName': 'AVG'}\n",
      "-- (735, 60, 27)\n",
      "{'datatype': 'bn_trial', 'trialType': 'Miss', 'intervName': 'AVG'}\n",
      "-- (63, 60, 27)\n",
      "{'datatype': 'bn_trial', 'trialType': 'CR', 'intervName': 'AVG'}\n",
      "-- (1274, 60, 27)\n",
      "{'datatype': 'bn_trial', 'trialType': 'FA', 'intervName': 'AVG'}\n",
      "-- (269, 60, 27)\n",
      "{'zscoreDim': 'rs', 'datatype': 'raw', 'intervName': 'AVG'}\n",
      "-- (2320, 60, 27)\n",
      "{'zscoreDim': 'rs', 'datatype': 'raw', 'trialType': 'Hit', 'intervName': 'AVG'}\n",
      "-- (630, 60, 27)\n",
      "{'zscoreDim': 'rs', 'datatype': 'raw', 'trialType': 'Miss', 'intervName': 'AVG'}\n",
      "-- (146, 60, 27)\n",
      "{'zscoreDim': 'rs', 'datatype': 'raw', 'trialType': 'CR', 'intervName': 'AVG'}\n",
      "-- (1008, 60, 27)\n",
      "{'zscoreDim': 'rs', 'datatype': 'raw', 'trialType': 'FA', 'intervName': 'AVG'}\n",
      "-- (52, 60, 27)\n",
      "{'datatype': 'bn_session', 'intervName': 'AVG'}\n",
      "-- (2320, 60, 27)\n",
      "{'datatype': 'bn_session', 'trialType': 'Hit', 'intervName': 'AVG'}\n",
      "-- (630, 60, 27)\n",
      "{'datatype': 'bn_session', 'trialType': 'Miss', 'intervName': 'AVG'}\n",
      "-- (146, 60, 27)\n",
      "{'datatype': 'bn_session', 'trialType': 'CR', 'intervName': 'AVG'}\n",
      "-- (1008, 60, 27)\n",
      "{'datatype': 'bn_session', 'trialType': 'FA', 'intervName': 'AVG'}\n",
      "-- (52, 60, 27)\n",
      "{'datatype': 'bn_trial', 'intervName': 'AVG'}\n",
      "-- (2320, 60, 27)\n",
      "{'datatype': 'bn_trial', 'trialType': 'Hit', 'intervName': 'AVG'}\n",
      "-- (630, 60, 27)\n",
      "{'datatype': 'bn_trial', 'trialType': 'Miss', 'intervName': 'AVG'}\n",
      "-- (146, 60, 27)\n",
      "{'datatype': 'bn_trial', 'trialType': 'CR', 'intervName': 'AVG'}\n",
      "-- (1008, 60, 27)\n",
      "{'datatype': 'bn_trial', 'trialType': 'FA', 'intervName': 'AVG'}\n",
      "-- (52, 60, 27)\n",
      "{'zscoreDim': 'rs', 'datatype': 'raw', 'intervName': 'AVG'}\n",
      "-- (4472, 60, 27)\n",
      "{'zscoreDim': 'rs', 'datatype': 'raw', 'trialType': 'Hit', 'intervName': 'AVG'}\n",
      "-- (953, 60, 27)\n",
      "{'zscoreDim': 'rs', 'datatype': 'raw', 'trialType': 'Miss', 'intervName': 'AVG'}\n",
      "-- (212, 60, 27)\n",
      "{'zscoreDim': 'rs', 'datatype': 'raw', 'trialType': 'CR', 'intervName': 'AVG'}\n",
      "-- (1918, 60, 27)\n",
      "{'zscoreDim': 'rs', 'datatype': 'raw', 'trialType': 'FA', 'intervName': 'AVG'}\n",
      "-- (170, 60, 27)\n",
      "{'datatype': 'bn_session', 'intervName': 'AVG'}\n",
      "-- (4472, 60, 27)\n",
      "{'datatype': 'bn_session', 'trialType': 'Hit', 'intervName': 'AVG'}\n",
      "-- (953, 60, 27)\n",
      "{'datatype': 'bn_session', 'trialType': 'Miss', 'intervName': 'AVG'}\n",
      "-- (212, 60, 27)\n",
      "{'datatype': 'bn_session', 'trialType': 'CR', 'intervName': 'AVG'}\n",
      "-- (1918, 60, 27)\n",
      "{'datatype': 'bn_session', 'trialType': 'FA', 'intervName': 'AVG'}\n",
      "-- (170, 60, 27)\n",
      "{'datatype': 'bn_trial', 'intervName': 'AVG'}\n",
      "-- (4472, 60, 27)\n",
      "{'datatype': 'bn_trial', 'trialType': 'Hit', 'intervName': 'AVG'}\n",
      "-- (953, 60, 27)\n",
      "{'datatype': 'bn_trial', 'trialType': 'Miss', 'intervName': 'AVG'}\n",
      "-- (212, 60, 27)\n",
      "{'datatype': 'bn_trial', 'trialType': 'CR', 'intervName': 'AVG'}\n",
      "-- (1918, 60, 27)\n",
      "{'datatype': 'bn_trial', 'trialType': 'FA', 'intervName': 'AVG'}\n",
      "-- (170, 60, 27)\n"
     ]
    }
   ],
   "source": [
    "bulk_metrics.metric_mouse_bulk(dataDB, mc, ds, 'varmean', 's', 'time', verbose=False, minTrials=50,\n",
    "                               trialTypeNames='auto', intervNames=['AVG'], exclQueryLst=exclQueryLst)"
   ]
  },
  {
   "cell_type": "code",
   "execution_count": 43,
   "metadata": {
    "scrolled": true
   },
   "outputs": [
    {
     "name": "stdout",
     "output_type": "stream",
     "text": [
      "['varmean', 'time', 'mou_5', 'None', 'bn_session', 'AVG', 'dset820', 'CR']\n",
      "['varmean', 'time', 'mou_6', 'None', 'bn_session', 'AVG', 'dset835', 'CR']\n",
      "['varmean', 'time', 'mou_7', 'None', 'bn_session', 'AVG', 'dset865', 'CR']\n",
      "['varmean', 'time', 'mou_9', 'None', 'bn_session', 'AVG', 'dset850', 'CR']\n",
      "['varmean', 'time', 'mou_5', 'None', 'bn_trial', 'AVG', 'dset825', 'CR']\n",
      "['varmean', 'time', 'mou_6', 'None', 'bn_trial', 'AVG', 'dset840', 'CR']\n",
      "['varmean', 'time', 'mou_7', 'None', 'bn_trial', 'AVG', 'dset870', 'CR']\n",
      "['varmean', 'time', 'mou_9', 'None', 'bn_trial', 'AVG', 'dset855', 'CR']\n",
      "['varmean', 'time', 'mou_5', 'rs', 'raw', 'AVG', 'dset815', 'CR']\n",
      "['varmean', 'time', 'mou_6', 'rs', 'raw', 'AVG', 'dset830', 'CR']\n",
      "['varmean', 'time', 'mou_7', 'rs', 'raw', 'AVG', 'dset860', 'CR']\n",
      "['varmean', 'time', 'mou_9', 'rs', 'raw', 'AVG', 'dset845', 'CR']\n",
      "['varmean', 'time', 'mou_5', 'None', 'bn_session', 'AVG', 'dset821', 'FA']\n",
      "['varmean', 'time', 'mou_6', 'None', 'bn_session', 'AVG', 'dset836', 'FA']\n",
      "['varmean', 'time', 'mou_7', 'None', 'bn_session', 'AVG', 'dset866', 'FA']\n",
      "['varmean', 'time', 'mou_9', 'None', 'bn_session', 'AVG', 'dset851', 'FA']\n",
      "['varmean', 'time', 'mou_5', 'None', 'bn_trial', 'AVG', 'dset826', 'FA']\n",
      "['varmean', 'time', 'mou_6', 'None', 'bn_trial', 'AVG', 'dset841', 'FA']\n",
      "['varmean', 'time', 'mou_7', 'None', 'bn_trial', 'AVG', 'dset871', 'FA']\n",
      "['varmean', 'time', 'mou_9', 'None', 'bn_trial', 'AVG', 'dset856', 'FA']\n",
      "['varmean', 'time', 'mou_5', 'rs', 'raw', 'AVG', 'dset816', 'FA']\n",
      "['varmean', 'time', 'mou_6', 'rs', 'raw', 'AVG', 'dset831', 'FA']\n",
      "['varmean', 'time', 'mou_7', 'rs', 'raw', 'AVG', 'dset861', 'FA']\n",
      "['varmean', 'time', 'mou_9', 'rs', 'raw', 'AVG', 'dset846', 'FA']\n",
      "['varmean', 'time', 'mou_5', 'None', 'bn_session', 'AVG', 'dset818', 'Hit']\n",
      "['varmean', 'time', 'mou_6', 'None', 'bn_session', 'AVG', 'dset833', 'Hit']\n",
      "['varmean', 'time', 'mou_7', 'None', 'bn_session', 'AVG', 'dset863', 'Hit']\n",
      "['varmean', 'time', 'mou_9', 'None', 'bn_session', 'AVG', 'dset848', 'Hit']\n",
      "['varmean', 'time', 'mou_5', 'None', 'bn_trial', 'AVG', 'dset823', 'Hit']\n",
      "['varmean', 'time', 'mou_6', 'None', 'bn_trial', 'AVG', 'dset838', 'Hit']\n",
      "['varmean', 'time', 'mou_7', 'None', 'bn_trial', 'AVG', 'dset868', 'Hit']\n",
      "['varmean', 'time', 'mou_9', 'None', 'bn_trial', 'AVG', 'dset853', 'Hit']\n",
      "['varmean', 'time', 'mou_5', 'rs', 'raw', 'AVG', 'dset813', 'Hit']\n",
      "['varmean', 'time', 'mou_6', 'rs', 'raw', 'AVG', 'dset828', 'Hit']\n",
      "['varmean', 'time', 'mou_7', 'rs', 'raw', 'AVG', 'dset858', 'Hit']\n",
      "['varmean', 'time', 'mou_9', 'rs', 'raw', 'AVG', 'dset843', 'Hit']\n",
      "['varmean', 'time', 'mou_5', 'None', 'bn_session', 'AVG', 'dset819', 'Miss']\n",
      "['varmean', 'time', 'mou_6', 'None', 'bn_session', 'AVG', 'dset834', 'Miss']\n",
      "['varmean', 'time', 'mou_7', 'None', 'bn_session', 'AVG', 'dset864', 'Miss']\n",
      "['varmean', 'time', 'mou_9', 'None', 'bn_session', 'AVG', 'dset849', 'Miss']\n",
      "['varmean', 'time', 'mou_5', 'None', 'bn_trial', 'AVG', 'dset824', 'Miss']\n",
      "['varmean', 'time', 'mou_6', 'None', 'bn_trial', 'AVG', 'dset839', 'Miss']\n",
      "['varmean', 'time', 'mou_7', 'None', 'bn_trial', 'AVG', 'dset869', 'Miss']\n",
      "['varmean', 'time', 'mou_9', 'None', 'bn_trial', 'AVG', 'dset854', 'Miss']\n",
      "['varmean', 'time', 'mou_5', 'rs', 'raw', 'AVG', 'dset814', 'Miss']\n",
      "['varmean', 'time', 'mou_6', 'rs', 'raw', 'AVG', 'dset829', 'Miss']\n",
      "['varmean', 'time', 'mou_7', 'rs', 'raw', 'AVG', 'dset859', 'Miss']\n",
      "['varmean', 'time', 'mou_9', 'rs', 'raw', 'AVG', 'dset844', 'Miss']\n",
      "['varmean', 'time', 'mou_5', 'None', 'bn_session', 'AVG', 'dset817', 'None']\n",
      "['varmean', 'time', 'mou_6', 'None', 'bn_session', 'AVG', 'dset832', 'None']\n",
      "['varmean', 'time', 'mou_7', 'None', 'bn_session', 'AVG', 'dset862', 'None']\n",
      "['varmean', 'time', 'mou_9', 'None', 'bn_session', 'AVG', 'dset847', 'None']\n",
      "['varmean', 'time', 'mou_5', 'None', 'bn_trial', 'AVG', 'dset822', 'None']\n",
      "['varmean', 'time', 'mou_6', 'None', 'bn_trial', 'AVG', 'dset837', 'None']\n",
      "['varmean', 'time', 'mou_7', 'None', 'bn_trial', 'AVG', 'dset867', 'None']\n",
      "['varmean', 'time', 'mou_9', 'None', 'bn_trial', 'AVG', 'dset852', 'None']\n",
      "['varmean', 'time', 'mou_5', 'rs', 'raw', 'AVG', 'dset812', 'None']\n",
      "['varmean', 'time', 'mou_6', 'rs', 'raw', 'AVG', 'dset827', 'None']\n",
      "['varmean', 'time', 'mou_7', 'rs', 'raw', 'AVG', 'dset857', 'None']\n",
      "['varmean', 'time', 'mou_9', 'rs', 'raw', 'AVG', 'dset842', 'None']\n"
     ]
    }
   ],
   "source": [
    "bulk_metrics.plot_metric_bulk(ds, 'varmean', 'time',\n",
    "                              ylim=[0,None], verbose=False, xFunc=lambda m, l: dataDB.get_times(l))"
   ]
  },
  {
   "cell_type": "markdown",
   "metadata": {},
   "source": [
    "### Session"
   ]
  },
  {
   "cell_type": "code",
   "execution_count": 44,
   "metadata": {
    "scrolled": true
   },
   "outputs": [
    {
     "data": {
      "application/vnd.jupyter.widget-view+json": {
       "model_id": "05237a7483a34ae3bd601f0f6403c245",
       "version_major": 2,
       "version_minor": 0
      },
      "text/plain": [
       "IntProgress(value=0, description='session', max=168)"
      ]
     },
     "metadata": {},
     "output_type": "display_data"
    },
    {
     "data": {
      "application/vnd.jupyter.widget-view+json": {
       "model_id": "51adeef970834cb99162a47894fed1ed",
       "version_major": 2,
       "version_minor": 0
      },
      "text/plain": [
       "IntProgress(value=0, description='mou_5', max=21)"
      ]
     },
     "metadata": {},
     "output_type": "display_data"
    },
    {
     "data": {
      "application/vnd.jupyter.widget-view+json": {
       "model_id": "e4c966d02cac45a7b336704279d837ac",
       "version_major": 2,
       "version_minor": 0
      },
      "text/plain": [
       "IntProgress(value=0, description='mou_5', max=21)"
      ]
     },
     "metadata": {},
     "output_type": "display_data"
    },
    {
     "data": {
      "application/vnd.jupyter.widget-view+json": {
       "model_id": "ef3263812416447d87f48a0d8326ae1e",
       "version_major": 2,
       "version_minor": 0
      },
      "text/plain": [
       "IntProgress(value=0, description='mou_5', max=21)"
      ]
     },
     "metadata": {},
     "output_type": "display_data"
    },
    {
     "data": {
      "application/vnd.jupyter.widget-view+json": {
       "model_id": "c4762e9eddd6427baea0fbbcb9e26c98",
       "version_major": 2,
       "version_minor": 0
      },
      "text/plain": [
       "IntProgress(value=0, description='mou_5', max=21)"
      ]
     },
     "metadata": {},
     "output_type": "display_data"
    },
    {
     "data": {
      "application/vnd.jupyter.widget-view+json": {
       "model_id": "7a2b636bd3064ad798cd697d8394b151",
       "version_major": 2,
       "version_minor": 0
      },
      "text/plain": [
       "IntProgress(value=0, description='mou_5', max=21)"
      ]
     },
     "metadata": {},
     "output_type": "display_data"
    },
    {
     "data": {
      "application/vnd.jupyter.widget-view+json": {
       "model_id": "8dd9d52e8c9a4582b14e5838a0c55071",
       "version_major": 2,
       "version_minor": 0
      },
      "text/plain": [
       "IntProgress(value=0, description='mou_5', max=21)"
      ]
     },
     "metadata": {},
     "output_type": "display_data"
    },
    {
     "name": "stdout",
     "output_type": "stream",
     "text": [
      "Warning: skipping session with too few trials 19\n",
      "Warning: skipping session with too few trials 18\n",
      "Warning: skipping session with too few trials 21\n",
      "Warning: skipping session with too few trials 20\n",
      "Warning: skipping session with too few trials 35\n",
      "Warning: skipping session with too few trials 39\n",
      "Warning: skipping session with too few trials 24\n",
      "Warning: skipping session with too few trials 26\n",
      "Warning: skipping session with too few trials 37\n",
      "Warning: skipping session with too few trials 16\n",
      "Warning: skipping session with too few trials 39\n",
      "Warning: skipping session with too few trials 26\n",
      "Warning: skipping session with too few trials 24\n",
      "Warning: skipping session with too few trials 19\n",
      "Warning: skipping session with too few trials 16\n",
      "Warning: skipping session with too few trials 21\n",
      "Warning: skipping session with too few trials 23\n",
      "Warning: skipping session with too few trials 25\n",
      "Warning: skipping session with too few trials 23\n",
      "Warning: skipping session with too few trials 16\n",
      "Warning: skipping session with too few trials 23\n",
      "Warning, all sessions had too few trials, this mouse is skipped\n"
     ]
    },
    {
     "data": {
      "application/vnd.jupyter.widget-view+json": {
       "model_id": "227a1a1f003f4138ad6ab13ce4112e57",
       "version_major": 2,
       "version_minor": 0
      },
      "text/plain": [
       "IntProgress(value=0, description='mou_5', max=21)"
      ]
     },
     "metadata": {},
     "output_type": "display_data"
    },
    {
     "name": "stdout",
     "output_type": "stream",
     "text": [
      "Warning: skipping session with too few trials 19\n",
      "Warning: skipping session with too few trials 18\n",
      "Warning: skipping session with too few trials 21\n",
      "Warning: skipping session with too few trials 20\n",
      "Warning: skipping session with too few trials 35\n",
      "Warning: skipping session with too few trials 39\n",
      "Warning: skipping session with too few trials 24\n",
      "Warning: skipping session with too few trials 26\n",
      "Warning: skipping session with too few trials 37\n",
      "Warning: skipping session with too few trials 16\n",
      "Warning: skipping session with too few trials 39\n",
      "Warning: skipping session with too few trials 26\n",
      "Warning: skipping session with too few trials 24\n",
      "Warning: skipping session with too few trials 19\n",
      "Warning: skipping session with too few trials 16\n",
      "Warning: skipping session with too few trials 21\n",
      "Warning: skipping session with too few trials 23\n",
      "Warning: skipping session with too few trials 25\n",
      "Warning: skipping session with too few trials 23\n",
      "Warning: skipping session with too few trials 16\n",
      "Warning: skipping session with too few trials 23\n",
      "Warning, all sessions had too few trials, this mouse is skipped\n"
     ]
    },
    {
     "data": {
      "application/vnd.jupyter.widget-view+json": {
       "model_id": "136059209c5e498bb662d04afb52de66",
       "version_major": 2,
       "version_minor": 0
      },
      "text/plain": [
       "IntProgress(value=0, description='mou_5', max=21)"
      ]
     },
     "metadata": {},
     "output_type": "display_data"
    },
    {
     "name": "stdout",
     "output_type": "stream",
     "text": [
      "Warning: skipping session with too few trials 19\n",
      "Warning: skipping session with too few trials 18\n",
      "Warning: skipping session with too few trials 21\n",
      "Warning: skipping session with too few trials 20\n",
      "Warning: skipping session with too few trials 35\n",
      "Warning: skipping session with too few trials 39\n",
      "Warning: skipping session with too few trials 24\n",
      "Warning: skipping session with too few trials 26\n",
      "Warning: skipping session with too few trials 37\n",
      "Warning: skipping session with too few trials 16\n",
      "Warning: skipping session with too few trials 39\n",
      "Warning: skipping session with too few trials 26\n",
      "Warning: skipping session with too few trials 24\n",
      "Warning: skipping session with too few trials 19\n",
      "Warning: skipping session with too few trials 16\n",
      "Warning: skipping session with too few trials 21\n",
      "Warning: skipping session with too few trials 23\n",
      "Warning: skipping session with too few trials 25\n",
      "Warning: skipping session with too few trials 23\n",
      "Warning: skipping session with too few trials 16\n",
      "Warning: skipping session with too few trials 23\n",
      "Warning, all sessions had too few trials, this mouse is skipped\n"
     ]
    },
    {
     "data": {
      "application/vnd.jupyter.widget-view+json": {
       "model_id": "e7bc66a522ab4865a7f1855ddf454f8d",
       "version_major": 2,
       "version_minor": 0
      },
      "text/plain": [
       "IntProgress(value=0, description='mou_5', max=21)"
      ]
     },
     "metadata": {},
     "output_type": "display_data"
    },
    {
     "name": "stdout",
     "output_type": "stream",
     "text": [
      "Warning: skipping session with too few trials 19\n",
      "Warning: skipping session with too few trials 18\n",
      "Warning: skipping session with too few trials 21\n",
      "Warning: skipping session with too few trials 20\n",
      "Warning: skipping session with too few trials 35\n",
      "Warning: skipping session with too few trials 39\n",
      "Warning: skipping session with too few trials 24\n",
      "Warning: skipping session with too few trials 26\n",
      "Warning: skipping session with too few trials 37\n",
      "Warning: skipping session with too few trials 16\n",
      "Warning: skipping session with too few trials 39\n",
      "Warning: skipping session with too few trials 26\n",
      "Warning: skipping session with too few trials 24\n",
      "Warning: skipping session with too few trials 19\n",
      "Warning: skipping session with too few trials 16\n",
      "Warning: skipping session with too few trials 21\n",
      "Warning: skipping session with too few trials 23\n",
      "Warning: skipping session with too few trials 25\n",
      "Warning: skipping session with too few trials 23\n",
      "Warning: skipping session with too few trials 16\n",
      "Warning: skipping session with too few trials 23\n",
      "Warning, all sessions had too few trials, this mouse is skipped\n"
     ]
    },
    {
     "data": {
      "application/vnd.jupyter.widget-view+json": {
       "model_id": "29e9eeb10cec4aa2a2a23e521fb73880",
       "version_major": 2,
       "version_minor": 0
      },
      "text/plain": [
       "IntProgress(value=0, description='mou_5', max=21)"
      ]
     },
     "metadata": {},
     "output_type": "display_data"
    },
    {
     "name": "stdout",
     "output_type": "stream",
     "text": [
      "Warning: skipping session with too few trials 19\n",
      "Warning: skipping session with too few trials 18\n",
      "Warning: skipping session with too few trials 21\n",
      "Warning: skipping session with too few trials 20\n",
      "Warning: skipping session with too few trials 35\n",
      "Warning: skipping session with too few trials 39\n",
      "Warning: skipping session with too few trials 24\n",
      "Warning: skipping session with too few trials 26\n",
      "Warning: skipping session with too few trials 37\n",
      "Warning: skipping session with too few trials 16\n",
      "Warning: skipping session with too few trials 39\n",
      "Warning: skipping session with too few trials 26\n",
      "Warning: skipping session with too few trials 24\n",
      "Warning: skipping session with too few trials 19\n",
      "Warning: skipping session with too few trials 16\n",
      "Warning: skipping session with too few trials 21\n",
      "Warning: skipping session with too few trials 23\n",
      "Warning: skipping session with too few trials 25\n",
      "Warning: skipping session with too few trials 23\n",
      "Warning: skipping session with too few trials 16\n",
      "Warning: skipping session with too few trials 23\n",
      "Warning, all sessions had too few trials, this mouse is skipped\n"
     ]
    },
    {
     "data": {
      "application/vnd.jupyter.widget-view+json": {
       "model_id": "64e7556c3ba14f4c93384a55be64a9e9",
       "version_major": 2,
       "version_minor": 0
      },
      "text/plain": [
       "IntProgress(value=0, description='mou_5', max=21)"
      ]
     },
     "metadata": {},
     "output_type": "display_data"
    },
    {
     "name": "stdout",
     "output_type": "stream",
     "text": [
      "Warning: skipping session with too few trials 41\n",
      "Warning: skipping session with too few trials 44\n",
      "Warning: skipping session with too few trials 45\n",
      "Warning: skipping session with too few trials 47\n",
      "Warning: skipping session with too few trials 46\n",
      "Warning: skipping session with too few trials 39\n",
      "Warning: skipping session with too few trials 45\n",
      "Warning: skipping session with too few trials 49\n",
      "Warning: skipping session with too few trials 46\n"
     ]
    },
    {
     "data": {
      "application/vnd.jupyter.widget-view+json": {
       "model_id": "c9d7c755bf48437fab7cb7b28d3a5fd9",
       "version_major": 2,
       "version_minor": 0
      },
      "text/plain": [
       "IntProgress(value=0, description='mou_5', max=21)"
      ]
     },
     "metadata": {},
     "output_type": "display_data"
    },
    {
     "name": "stdout",
     "output_type": "stream",
     "text": [
      "Warning: skipping session with too few trials 41\n",
      "Warning: skipping session with too few trials 44\n",
      "Warning: skipping session with too few trials 45\n",
      "Warning: skipping session with too few trials 47\n",
      "Warning: skipping session with too few trials 46\n",
      "Warning: skipping session with too few trials 39\n",
      "Warning: skipping session with too few trials 45\n",
      "Warning: skipping session with too few trials 49\n",
      "Warning: skipping session with too few trials 46\n"
     ]
    },
    {
     "data": {
      "application/vnd.jupyter.widget-view+json": {
       "model_id": "3b0fccb1580040fb8b1b9ca441b21815",
       "version_major": 2,
       "version_minor": 0
      },
      "text/plain": [
       "IntProgress(value=0, description='mou_5', max=21)"
      ]
     },
     "metadata": {},
     "output_type": "display_data"
    },
    {
     "name": "stdout",
     "output_type": "stream",
     "text": [
      "Warning: skipping session with too few trials 41\n",
      "Warning: skipping session with too few trials 44\n",
      "Warning: skipping session with too few trials 45\n",
      "Warning: skipping session with too few trials 47\n",
      "Warning: skipping session with too few trials 46\n",
      "Warning: skipping session with too few trials 39\n",
      "Warning: skipping session with too few trials 45\n",
      "Warning: skipping session with too few trials 49\n",
      "Warning: skipping session with too few trials 46\n"
     ]
    },
    {
     "data": {
      "application/vnd.jupyter.widget-view+json": {
       "model_id": "b28a8f25f7384e89a8b1dad03cc6f666",
       "version_major": 2,
       "version_minor": 0
      },
      "text/plain": [
       "IntProgress(value=0, description='mou_5', max=21)"
      ]
     },
     "metadata": {},
     "output_type": "display_data"
    },
    {
     "name": "stdout",
     "output_type": "stream",
     "text": [
      "Warning: skipping session with too few trials 41\n",
      "Warning: skipping session with too few trials 44\n",
      "Warning: skipping session with too few trials 45\n",
      "Warning: skipping session with too few trials 47\n",
      "Warning: skipping session with too few trials 46\n",
      "Warning: skipping session with too few trials 39\n",
      "Warning: skipping session with too few trials 45\n",
      "Warning: skipping session with too few trials 49\n",
      "Warning: skipping session with too few trials 46\n"
     ]
    },
    {
     "data": {
      "application/vnd.jupyter.widget-view+json": {
       "model_id": "6f09b17209fe4495bf33f369c5552f44",
       "version_major": 2,
       "version_minor": 0
      },
      "text/plain": [
       "IntProgress(value=0, description='mou_5', max=21)"
      ]
     },
     "metadata": {},
     "output_type": "display_data"
    },
    {
     "name": "stdout",
     "output_type": "stream",
     "text": [
      "Warning: skipping session with too few trials 41\n",
      "Warning: skipping session with too few trials 44\n",
      "Warning: skipping session with too few trials 45\n",
      "Warning: skipping session with too few trials 47\n",
      "Warning: skipping session with too few trials 46\n",
      "Warning: skipping session with too few trials 39\n",
      "Warning: skipping session with too few trials 45\n",
      "Warning: skipping session with too few trials 49\n",
      "Warning: skipping session with too few trials 46\n"
     ]
    },
    {
     "data": {
      "application/vnd.jupyter.widget-view+json": {
       "model_id": "a61ba75d4d80494d990c7bf63a2a9916",
       "version_major": 2,
       "version_minor": 0
      },
      "text/plain": [
       "IntProgress(value=0, description='mou_5', max=21)"
      ]
     },
     "metadata": {},
     "output_type": "display_data"
    },
    {
     "data": {
      "application/vnd.jupyter.widget-view+json": {
       "model_id": "3724bc722895402c89c23fe545b48b9d",
       "version_major": 2,
       "version_minor": 0
      },
      "text/plain": [
       "IntProgress(value=0, description='mou_5', max=21)"
      ]
     },
     "metadata": {},
     "output_type": "display_data"
    },
    {
     "data": {
      "application/vnd.jupyter.widget-view+json": {
       "model_id": "1e4c5ae03b9042eab4836d91e64049b2",
       "version_major": 2,
       "version_minor": 0
      },
      "text/plain": [
       "IntProgress(value=0, description='mou_5', max=21)"
      ]
     },
     "metadata": {},
     "output_type": "display_data"
    },
    {
     "data": {
      "application/vnd.jupyter.widget-view+json": {
       "model_id": "dfba3330a37040b3850ea98c1fc908c3",
       "version_major": 2,
       "version_minor": 0
      },
      "text/plain": [
       "IntProgress(value=0, description='mou_5', max=21)"
      ]
     },
     "metadata": {},
     "output_type": "display_data"
    },
    {
     "data": {
      "application/vnd.jupyter.widget-view+json": {
       "model_id": "856938aa6ffd4123a8737deb66379c61",
       "version_major": 2,
       "version_minor": 0
      },
      "text/plain": [
       "IntProgress(value=0, description='mou_5', max=21)"
      ]
     },
     "metadata": {},
     "output_type": "display_data"
    },
    {
     "data": {
      "application/vnd.jupyter.widget-view+json": {
       "model_id": "864836a90d6646f4a0511ecdb0d64e6d",
       "version_major": 2,
       "version_minor": 0
      },
      "text/plain": [
       "IntProgress(value=0, description='mou_5', max=21)"
      ]
     },
     "metadata": {},
     "output_type": "display_data"
    },
    {
     "name": "stdout",
     "output_type": "stream",
     "text": [
      "Warning: skipping session with too few trials 19\n",
      "Warning: skipping session with too few trials 18\n",
      "Warning: skipping session with too few trials 21\n",
      "Warning: skipping session with too few trials 20\n",
      "Warning: skipping session with too few trials 35\n",
      "Warning: skipping session with too few trials 39\n",
      "Warning: skipping session with too few trials 24\n",
      "Warning: skipping session with too few trials 26\n",
      "Warning: skipping session with too few trials 37\n",
      "Warning: skipping session with too few trials 16\n",
      "Warning: skipping session with too few trials 39\n",
      "Warning: skipping session with too few trials 26\n",
      "Warning: skipping session with too few trials 24\n",
      "Warning: skipping session with too few trials 19\n",
      "Warning: skipping session with too few trials 16\n",
      "Warning: skipping session with too few trials 21\n",
      "Warning: skipping session with too few trials 23\n",
      "Warning: skipping session with too few trials 25\n",
      "Warning: skipping session with too few trials 23\n",
      "Warning: skipping session with too few trials 16\n",
      "Warning: skipping session with too few trials 23\n",
      "Warning, all sessions had too few trials, this mouse is skipped\n"
     ]
    },
    {
     "data": {
      "application/vnd.jupyter.widget-view+json": {
       "model_id": "328f17ba54e34db981209b2ecd38bcab",
       "version_major": 2,
       "version_minor": 0
      },
      "text/plain": [
       "IntProgress(value=0, description='mou_5', max=21)"
      ]
     },
     "metadata": {},
     "output_type": "display_data"
    },
    {
     "name": "stdout",
     "output_type": "stream",
     "text": [
      "Warning: skipping session with too few trials 19\n",
      "Warning: skipping session with too few trials 18\n",
      "Warning: skipping session with too few trials 21\n",
      "Warning: skipping session with too few trials 20\n",
      "Warning: skipping session with too few trials 35\n",
      "Warning: skipping session with too few trials 39\n",
      "Warning: skipping session with too few trials 24\n",
      "Warning: skipping session with too few trials 26\n",
      "Warning: skipping session with too few trials 37\n",
      "Warning: skipping session with too few trials 16\n",
      "Warning: skipping session with too few trials 39\n",
      "Warning: skipping session with too few trials 26\n",
      "Warning: skipping session with too few trials 24\n",
      "Warning: skipping session with too few trials 19\n",
      "Warning: skipping session with too few trials 16\n",
      "Warning: skipping session with too few trials 21\n",
      "Warning: skipping session with too few trials 23\n",
      "Warning: skipping session with too few trials 25\n",
      "Warning: skipping session with too few trials 23\n",
      "Warning: skipping session with too few trials 16\n",
      "Warning: skipping session with too few trials 23\n",
      "Warning, all sessions had too few trials, this mouse is skipped\n"
     ]
    },
    {
     "data": {
      "application/vnd.jupyter.widget-view+json": {
       "model_id": "7e127e50b8fc48f19deb61249168ce57",
       "version_major": 2,
       "version_minor": 0
      },
      "text/plain": [
       "IntProgress(value=0, description='mou_5', max=21)"
      ]
     },
     "metadata": {},
     "output_type": "display_data"
    },
    {
     "name": "stdout",
     "output_type": "stream",
     "text": [
      "Warning: skipping session with too few trials 19\n",
      "Warning: skipping session with too few trials 18\n",
      "Warning: skipping session with too few trials 21\n",
      "Warning: skipping session with too few trials 20\n",
      "Warning: skipping session with too few trials 35\n",
      "Warning: skipping session with too few trials 39\n",
      "Warning: skipping session with too few trials 24\n",
      "Warning: skipping session with too few trials 26\n",
      "Warning: skipping session with too few trials 37\n",
      "Warning: skipping session with too few trials 16\n",
      "Warning: skipping session with too few trials 39\n",
      "Warning: skipping session with too few trials 26\n",
      "Warning: skipping session with too few trials 24\n",
      "Warning: skipping session with too few trials 19\n",
      "Warning: skipping session with too few trials 16\n",
      "Warning: skipping session with too few trials 21\n",
      "Warning: skipping session with too few trials 23\n",
      "Warning: skipping session with too few trials 25\n",
      "Warning: skipping session with too few trials 23\n",
      "Warning: skipping session with too few trials 16\n",
      "Warning: skipping session with too few trials 23\n",
      "Warning, all sessions had too few trials, this mouse is skipped\n"
     ]
    },
    {
     "data": {
      "application/vnd.jupyter.widget-view+json": {
       "model_id": "8cf65c64085d47f08cc43bbb1086f1d8",
       "version_major": 2,
       "version_minor": 0
      },
      "text/plain": [
       "IntProgress(value=0, description='mou_5', max=21)"
      ]
     },
     "metadata": {},
     "output_type": "display_data"
    },
    {
     "name": "stdout",
     "output_type": "stream",
     "text": [
      "Warning: skipping session with too few trials 19\n",
      "Warning: skipping session with too few trials 18\n",
      "Warning: skipping session with too few trials 21\n",
      "Warning: skipping session with too few trials 20\n",
      "Warning: skipping session with too few trials 35\n",
      "Warning: skipping session with too few trials 39\n",
      "Warning: skipping session with too few trials 24\n",
      "Warning: skipping session with too few trials 26\n",
      "Warning: skipping session with too few trials 37\n",
      "Warning: skipping session with too few trials 16\n",
      "Warning: skipping session with too few trials 39\n",
      "Warning: skipping session with too few trials 26\n",
      "Warning: skipping session with too few trials 24\n",
      "Warning: skipping session with too few trials 19\n",
      "Warning: skipping session with too few trials 16\n",
      "Warning: skipping session with too few trials 21\n",
      "Warning: skipping session with too few trials 23\n",
      "Warning: skipping session with too few trials 25\n",
      "Warning: skipping session with too few trials 23\n",
      "Warning: skipping session with too few trials 16\n",
      "Warning: skipping session with too few trials 23\n",
      "Warning, all sessions had too few trials, this mouse is skipped\n"
     ]
    },
    {
     "data": {
      "application/vnd.jupyter.widget-view+json": {
       "model_id": "7a6a97e95ed14bfb806b2968789da3cb",
       "version_major": 2,
       "version_minor": 0
      },
      "text/plain": [
       "IntProgress(value=0, description='mou_5', max=21)"
      ]
     },
     "metadata": {},
     "output_type": "display_data"
    },
    {
     "name": "stdout",
     "output_type": "stream",
     "text": [
      "Warning: skipping session with too few trials 19\n",
      "Warning: skipping session with too few trials 18\n",
      "Warning: skipping session with too few trials 21\n",
      "Warning: skipping session with too few trials 20\n",
      "Warning: skipping session with too few trials 35\n",
      "Warning: skipping session with too few trials 39\n",
      "Warning: skipping session with too few trials 24\n",
      "Warning: skipping session with too few trials 26\n",
      "Warning: skipping session with too few trials 37\n",
      "Warning: skipping session with too few trials 16\n",
      "Warning: skipping session with too few trials 39\n",
      "Warning: skipping session with too few trials 26\n",
      "Warning: skipping session with too few trials 24\n",
      "Warning: skipping session with too few trials 19\n",
      "Warning: skipping session with too few trials 16\n",
      "Warning: skipping session with too few trials 21\n",
      "Warning: skipping session with too few trials 23\n",
      "Warning: skipping session with too few trials 25\n",
      "Warning: skipping session with too few trials 23\n",
      "Warning: skipping session with too few trials 16\n",
      "Warning: skipping session with too few trials 23\n",
      "Warning, all sessions had too few trials, this mouse is skipped\n"
     ]
    },
    {
     "data": {
      "application/vnd.jupyter.widget-view+json": {
       "model_id": "271fd5d20e2343a99c1908a1e69149c4",
       "version_major": 2,
       "version_minor": 0
      },
      "text/plain": [
       "IntProgress(value=0, description='mou_5', max=21)"
      ]
     },
     "metadata": {},
     "output_type": "display_data"
    },
    {
     "name": "stdout",
     "output_type": "stream",
     "text": [
      "Warning: skipping session with too few trials 41\n",
      "Warning: skipping session with too few trials 44\n",
      "Warning: skipping session with too few trials 45\n",
      "Warning: skipping session with too few trials 47\n",
      "Warning: skipping session with too few trials 46\n",
      "Warning: skipping session with too few trials 39\n",
      "Warning: skipping session with too few trials 45\n",
      "Warning: skipping session with too few trials 49\n",
      "Warning: skipping session with too few trials 46\n"
     ]
    },
    {
     "data": {
      "application/vnd.jupyter.widget-view+json": {
       "model_id": "2c676c73d53449918c9e440328854ca2",
       "version_major": 2,
       "version_minor": 0
      },
      "text/plain": [
       "IntProgress(value=0, description='mou_5', max=21)"
      ]
     },
     "metadata": {},
     "output_type": "display_data"
    },
    {
     "name": "stdout",
     "output_type": "stream",
     "text": [
      "Warning: skipping session with too few trials 41\n",
      "Warning: skipping session with too few trials 44\n",
      "Warning: skipping session with too few trials 45\n",
      "Warning: skipping session with too few trials 47\n",
      "Warning: skipping session with too few trials 46\n",
      "Warning: skipping session with too few trials 39\n",
      "Warning: skipping session with too few trials 45\n",
      "Warning: skipping session with too few trials 49\n",
      "Warning: skipping session with too few trials 46\n"
     ]
    },
    {
     "data": {
      "application/vnd.jupyter.widget-view+json": {
       "model_id": "7fdd0aa3478b4f8aa6957fed598db7de",
       "version_major": 2,
       "version_minor": 0
      },
      "text/plain": [
       "IntProgress(value=0, description='mou_5', max=21)"
      ]
     },
     "metadata": {},
     "output_type": "display_data"
    },
    {
     "name": "stdout",
     "output_type": "stream",
     "text": [
      "Warning: skipping session with too few trials 41\n",
      "Warning: skipping session with too few trials 44\n",
      "Warning: skipping session with too few trials 45\n",
      "Warning: skipping session with too few trials 47\n",
      "Warning: skipping session with too few trials 46\n",
      "Warning: skipping session with too few trials 39\n",
      "Warning: skipping session with too few trials 45\n",
      "Warning: skipping session with too few trials 49\n",
      "Warning: skipping session with too few trials 46\n"
     ]
    },
    {
     "data": {
      "application/vnd.jupyter.widget-view+json": {
       "model_id": "f2c6c92ef89d41e4a0d86702fc2a44ff",
       "version_major": 2,
       "version_minor": 0
      },
      "text/plain": [
       "IntProgress(value=0, description='mou_5', max=21)"
      ]
     },
     "metadata": {},
     "output_type": "display_data"
    },
    {
     "name": "stdout",
     "output_type": "stream",
     "text": [
      "Warning: skipping session with too few trials 41\n",
      "Warning: skipping session with too few trials 44\n",
      "Warning: skipping session with too few trials 45\n",
      "Warning: skipping session with too few trials 47\n",
      "Warning: skipping session with too few trials 46\n",
      "Warning: skipping session with too few trials 39\n",
      "Warning: skipping session with too few trials 45\n",
      "Warning: skipping session with too few trials 49\n",
      "Warning: skipping session with too few trials 46\n"
     ]
    },
    {
     "data": {
      "application/vnd.jupyter.widget-view+json": {
       "model_id": "1fa49f34e5a14e7c826fe8661e13f0c6",
       "version_major": 2,
       "version_minor": 0
      },
      "text/plain": [
       "IntProgress(value=0, description='mou_5', max=21)"
      ]
     },
     "metadata": {},
     "output_type": "display_data"
    },
    {
     "name": "stdout",
     "output_type": "stream",
     "text": [
      "Warning: skipping session with too few trials 41\n",
      "Warning: skipping session with too few trials 44\n",
      "Warning: skipping session with too few trials 45\n",
      "Warning: skipping session with too few trials 47\n",
      "Warning: skipping session with too few trials 46\n",
      "Warning: skipping session with too few trials 39\n",
      "Warning: skipping session with too few trials 45\n",
      "Warning: skipping session with too few trials 49\n",
      "Warning: skipping session with too few trials 46\n"
     ]
    },
    {
     "data": {
      "application/vnd.jupyter.widget-view+json": {
       "model_id": "c91e57be1f59403995f357c28282565f",
       "version_major": 2,
       "version_minor": 0
      },
      "text/plain": [
       "IntProgress(value=0, description='mou_5', max=21)"
      ]
     },
     "metadata": {},
     "output_type": "display_data"
    },
    {
     "data": {
      "application/vnd.jupyter.widget-view+json": {
       "model_id": "b1dc9712652042eba54d807f74aeb62d",
       "version_major": 2,
       "version_minor": 0
      },
      "text/plain": [
       "IntProgress(value=0, description='mou_5', max=21)"
      ]
     },
     "metadata": {},
     "output_type": "display_data"
    },
    {
     "data": {
      "application/vnd.jupyter.widget-view+json": {
       "model_id": "41c3917ab34049f8ae71c7800bab92ea",
       "version_major": 2,
       "version_minor": 0
      },
      "text/plain": [
       "IntProgress(value=0, description='mou_5', max=21)"
      ]
     },
     "metadata": {},
     "output_type": "display_data"
    },
    {
     "data": {
      "application/vnd.jupyter.widget-view+json": {
       "model_id": "600e5e3136c04d7b92be6f4594637a2b",
       "version_major": 2,
       "version_minor": 0
      },
      "text/plain": [
       "IntProgress(value=0, description='mou_5', max=21)"
      ]
     },
     "metadata": {},
     "output_type": "display_data"
    },
    {
     "data": {
      "application/vnd.jupyter.widget-view+json": {
       "model_id": "b51c9b4bb22a40878cad2a0be625c08f",
       "version_major": 2,
       "version_minor": 0
      },
      "text/plain": [
       "IntProgress(value=0, description='mou_5', max=21)"
      ]
     },
     "metadata": {},
     "output_type": "display_data"
    },
    {
     "name": "stdout",
     "output_type": "stream",
     "text": [
      "Warning: skipping session with too few trials 19\n",
      "Warning: skipping session with too few trials 18\n",
      "Warning: skipping session with too few trials 21\n",
      "Warning: skipping session with too few trials 20\n",
      "Warning: skipping session with too few trials 35\n",
      "Warning: skipping session with too few trials 39\n",
      "Warning: skipping session with too few trials 24\n",
      "Warning: skipping session with too few trials 26\n",
      "Warning: skipping session with too few trials 37\n",
      "Warning: skipping session with too few trials 16\n",
      "Warning: skipping session with too few trials 39\n",
      "Warning: skipping session with too few trials 26\n",
      "Warning: skipping session with too few trials 24\n",
      "Warning: skipping session with too few trials 19\n",
      "Warning: skipping session with too few trials 16\n",
      "Warning: skipping session with too few trials 21\n",
      "Warning: skipping session with too few trials 23\n",
      "Warning: skipping session with too few trials 25\n",
      "Warning: skipping session with too few trials 23\n",
      "Warning: skipping session with too few trials 16\n",
      "Warning: skipping session with too few trials 23\n",
      "Warning, all sessions had too few trials, this mouse is skipped\n"
     ]
    },
    {
     "data": {
      "application/vnd.jupyter.widget-view+json": {
       "model_id": "9c9aa7d2532c4929a00b1cb235bdea68",
       "version_major": 2,
       "version_minor": 0
      },
      "text/plain": [
       "IntProgress(value=0, description='mou_5', max=21)"
      ]
     },
     "metadata": {},
     "output_type": "display_data"
    },
    {
     "name": "stdout",
     "output_type": "stream",
     "text": [
      "Warning: skipping session with too few trials 19\n",
      "Warning: skipping session with too few trials 18\n",
      "Warning: skipping session with too few trials 21\n",
      "Warning: skipping session with too few trials 20\n",
      "Warning: skipping session with too few trials 35\n",
      "Warning: skipping session with too few trials 39\n",
      "Warning: skipping session with too few trials 24\n",
      "Warning: skipping session with too few trials 26\n",
      "Warning: skipping session with too few trials 37\n",
      "Warning: skipping session with too few trials 16\n",
      "Warning: skipping session with too few trials 39\n",
      "Warning: skipping session with too few trials 26\n",
      "Warning: skipping session with too few trials 24\n",
      "Warning: skipping session with too few trials 19\n",
      "Warning: skipping session with too few trials 16\n",
      "Warning: skipping session with too few trials 21\n",
      "Warning: skipping session with too few trials 23\n",
      "Warning: skipping session with too few trials 25\n",
      "Warning: skipping session with too few trials 23\n",
      "Warning: skipping session with too few trials 16\n",
      "Warning: skipping session with too few trials 23\n",
      "Warning, all sessions had too few trials, this mouse is skipped\n"
     ]
    },
    {
     "data": {
      "application/vnd.jupyter.widget-view+json": {
       "model_id": "74e4a8b0444c40c8975a6d882dce5462",
       "version_major": 2,
       "version_minor": 0
      },
      "text/plain": [
       "IntProgress(value=0, description='mou_5', max=21)"
      ]
     },
     "metadata": {},
     "output_type": "display_data"
    },
    {
     "name": "stdout",
     "output_type": "stream",
     "text": [
      "Warning: skipping session with too few trials 19\n",
      "Warning: skipping session with too few trials 18\n",
      "Warning: skipping session with too few trials 21\n",
      "Warning: skipping session with too few trials 20\n",
      "Warning: skipping session with too few trials 35\n",
      "Warning: skipping session with too few trials 39\n",
      "Warning: skipping session with too few trials 24\n",
      "Warning: skipping session with too few trials 26\n",
      "Warning: skipping session with too few trials 37\n",
      "Warning: skipping session with too few trials 16\n",
      "Warning: skipping session with too few trials 39\n",
      "Warning: skipping session with too few trials 26\n",
      "Warning: skipping session with too few trials 24\n",
      "Warning: skipping session with too few trials 19\n",
      "Warning: skipping session with too few trials 16\n",
      "Warning: skipping session with too few trials 21\n",
      "Warning: skipping session with too few trials 23\n",
      "Warning: skipping session with too few trials 25\n",
      "Warning: skipping session with too few trials 23\n",
      "Warning: skipping session with too few trials 16\n",
      "Warning: skipping session with too few trials 23\n",
      "Warning, all sessions had too few trials, this mouse is skipped\n"
     ]
    },
    {
     "data": {
      "application/vnd.jupyter.widget-view+json": {
       "model_id": "9cf0942edc484c3d8fd0358b04c4c013",
       "version_major": 2,
       "version_minor": 0
      },
      "text/plain": [
       "IntProgress(value=0, description='mou_5', max=21)"
      ]
     },
     "metadata": {},
     "output_type": "display_data"
    },
    {
     "name": "stdout",
     "output_type": "stream",
     "text": [
      "Warning: skipping session with too few trials 19\n",
      "Warning: skipping session with too few trials 18\n",
      "Warning: skipping session with too few trials 21\n",
      "Warning: skipping session with too few trials 20\n",
      "Warning: skipping session with too few trials 35\n",
      "Warning: skipping session with too few trials 39\n",
      "Warning: skipping session with too few trials 24\n",
      "Warning: skipping session with too few trials 26\n",
      "Warning: skipping session with too few trials 37\n",
      "Warning: skipping session with too few trials 16\n",
      "Warning: skipping session with too few trials 39\n",
      "Warning: skipping session with too few trials 26\n",
      "Warning: skipping session with too few trials 24\n",
      "Warning: skipping session with too few trials 19\n",
      "Warning: skipping session with too few trials 16\n",
      "Warning: skipping session with too few trials 21\n",
      "Warning: skipping session with too few trials 23\n",
      "Warning: skipping session with too few trials 25\n",
      "Warning: skipping session with too few trials 23\n",
      "Warning: skipping session with too few trials 16\n",
      "Warning: skipping session with too few trials 23\n",
      "Warning, all sessions had too few trials, this mouse is skipped\n"
     ]
    },
    {
     "data": {
      "application/vnd.jupyter.widget-view+json": {
       "model_id": "57d85f97137445b2b497e14f55aee252",
       "version_major": 2,
       "version_minor": 0
      },
      "text/plain": [
       "IntProgress(value=0, description='mou_5', max=21)"
      ]
     },
     "metadata": {},
     "output_type": "display_data"
    },
    {
     "name": "stdout",
     "output_type": "stream",
     "text": [
      "Warning: skipping session with too few trials 41\n",
      "Warning: skipping session with too few trials 44\n",
      "Warning: skipping session with too few trials 45\n",
      "Warning: skipping session with too few trials 47\n",
      "Warning: skipping session with too few trials 46\n",
      "Warning: skipping session with too few trials 39\n",
      "Warning: skipping session with too few trials 45\n",
      "Warning: skipping session with too few trials 49\n",
      "Warning: skipping session with too few trials 46\n"
     ]
    },
    {
     "data": {
      "application/vnd.jupyter.widget-view+json": {
       "model_id": "1c77daa8be4f400ab9eee48c5752c481",
       "version_major": 2,
       "version_minor": 0
      },
      "text/plain": [
       "IntProgress(value=0, description='mou_5', max=21)"
      ]
     },
     "metadata": {},
     "output_type": "display_data"
    },
    {
     "name": "stdout",
     "output_type": "stream",
     "text": [
      "Warning: skipping session with too few trials 41\n",
      "Warning: skipping session with too few trials 44\n",
      "Warning: skipping session with too few trials 45\n",
      "Warning: skipping session with too few trials 47\n",
      "Warning: skipping session with too few trials 46\n",
      "Warning: skipping session with too few trials 39\n",
      "Warning: skipping session with too few trials 45\n",
      "Warning: skipping session with too few trials 49\n",
      "Warning: skipping session with too few trials 46\n"
     ]
    },
    {
     "data": {
      "application/vnd.jupyter.widget-view+json": {
       "model_id": "f046e8ca888d45378ab19fbd62ebbf97",
       "version_major": 2,
       "version_minor": 0
      },
      "text/plain": [
       "IntProgress(value=0, description='mou_5', max=21)"
      ]
     },
     "metadata": {},
     "output_type": "display_data"
    },
    {
     "name": "stdout",
     "output_type": "stream",
     "text": [
      "Warning: skipping session with too few trials 41\n",
      "Warning: skipping session with too few trials 44\n",
      "Warning: skipping session with too few trials 45\n",
      "Warning: skipping session with too few trials 47\n",
      "Warning: skipping session with too few trials 46\n",
      "Warning: skipping session with too few trials 39\n",
      "Warning: skipping session with too few trials 45\n",
      "Warning: skipping session with too few trials 49\n",
      "Warning: skipping session with too few trials 46\n"
     ]
    },
    {
     "data": {
      "application/vnd.jupyter.widget-view+json": {
       "model_id": "a536c3dac500496facc43aa6560a85dd",
       "version_major": 2,
       "version_minor": 0
      },
      "text/plain": [
       "IntProgress(value=0, description='mou_5', max=21)"
      ]
     },
     "metadata": {},
     "output_type": "display_data"
    },
    {
     "name": "stdout",
     "output_type": "stream",
     "text": [
      "Warning: skipping session with too few trials 41\n",
      "Warning: skipping session with too few trials 44\n",
      "Warning: skipping session with too few trials 45\n",
      "Warning: skipping session with too few trials 47\n",
      "Warning: skipping session with too few trials 46\n",
      "Warning: skipping session with too few trials 39\n",
      "Warning: skipping session with too few trials 45\n",
      "Warning: skipping session with too few trials 49\n",
      "Warning: skipping session with too few trials 46\n"
     ]
    },
    {
     "data": {
      "application/vnd.jupyter.widget-view+json": {
       "model_id": "b6ad7ee8139646429f192c5586a42005",
       "version_major": 2,
       "version_minor": 0
      },
      "text/plain": [
       "IntProgress(value=0, description='mou_6', max=29)"
      ]
     },
     "metadata": {},
     "output_type": "display_data"
    },
    {
     "data": {
      "application/vnd.jupyter.widget-view+json": {
       "model_id": "8d80285d1bec4ab1baa2b265d73a3015",
       "version_major": 2,
       "version_minor": 0
      },
      "text/plain": [
       "IntProgress(value=0, description='mou_6', max=29)"
      ]
     },
     "metadata": {},
     "output_type": "display_data"
    },
    {
     "data": {
      "application/vnd.jupyter.widget-view+json": {
       "model_id": "7397aaa543984047b58bb4eee6ec3323",
       "version_major": 2,
       "version_minor": 0
      },
      "text/plain": [
       "IntProgress(value=0, description='mou_6', max=29)"
      ]
     },
     "metadata": {},
     "output_type": "display_data"
    },
    {
     "data": {
      "application/vnd.jupyter.widget-view+json": {
       "model_id": "bead7da959414f7da87fea5526653dd8",
       "version_major": 2,
       "version_minor": 0
      },
      "text/plain": [
       "IntProgress(value=0, description='mou_6', max=29)"
      ]
     },
     "metadata": {},
     "output_type": "display_data"
    },
    {
     "data": {
      "application/vnd.jupyter.widget-view+json": {
       "model_id": "4af14b53d2f24e1499658daed8d1c92e",
       "version_major": 2,
       "version_minor": 0
      },
      "text/plain": [
       "IntProgress(value=0, description='mou_6', max=29)"
      ]
     },
     "metadata": {},
     "output_type": "display_data"
    },
    {
     "data": {
      "application/vnd.jupyter.widget-view+json": {
       "model_id": "0f65b11edc86445ebb06ed75b6b4b61a",
       "version_major": 2,
       "version_minor": 0
      },
      "text/plain": [
       "IntProgress(value=0, description='mou_6', max=29)"
      ]
     },
     "metadata": {},
     "output_type": "display_data"
    },
    {
     "name": "stdout",
     "output_type": "stream",
     "text": [
      "Warning: skipping session with too few trials 17\n",
      "Warning: skipping session with too few trials 19\n",
      "Warning: skipping session with too few trials 29\n",
      "Warning: skipping session with too few trials 18\n",
      "Warning: skipping session with too few trials 29\n",
      "Warning: skipping session with too few trials 17\n",
      "Warning: skipping session with too few trials 14\n",
      "Warning: skipping session with too few trials 15\n",
      "Warning: skipping session with too few trials 29\n",
      "Warning: skipping session with too few trials 21\n",
      "Warning: skipping session with too few trials 34\n",
      "Warning: skipping session with too few trials 22\n",
      "Warning: skipping session with too few trials 21\n",
      "Warning: skipping session with too few trials 25\n",
      "Warning: skipping session with too few trials 18\n",
      "Warning: skipping session with too few trials 26\n",
      "Warning: skipping session with too few trials 18\n",
      "Warning: skipping session with too few trials 19\n",
      "Warning: skipping session with too few trials 20\n",
      "Warning: skipping session with too few trials 34\n",
      "Warning: skipping session with too few trials 40\n",
      "Warning: skipping session with too few trials 22\n",
      "Warning: skipping session with too few trials 28\n",
      "Warning: skipping session with too few trials 28\n",
      "Warning: skipping session with too few trials 34\n",
      "Warning: skipping session with too few trials 33\n",
      "Warning: skipping session with too few trials 34\n",
      "Warning: skipping session with too few trials 17\n"
     ]
    },
    {
     "data": {
      "application/vnd.jupyter.widget-view+json": {
       "model_id": "b9210d808958464ca739c4e86d9491dc",
       "version_major": 2,
       "version_minor": 0
      },
      "text/plain": [
       "IntProgress(value=0, description='mou_6', max=29)"
      ]
     },
     "metadata": {},
     "output_type": "display_data"
    },
    {
     "name": "stdout",
     "output_type": "stream",
     "text": [
      "Warning: skipping session with too few trials 17\n",
      "Warning: skipping session with too few trials 19\n",
      "Warning: skipping session with too few trials 29\n",
      "Warning: skipping session with too few trials 18\n",
      "Warning: skipping session with too few trials 29\n",
      "Warning: skipping session with too few trials 17\n",
      "Warning: skipping session with too few trials 14\n",
      "Warning: skipping session with too few trials 15\n",
      "Warning: skipping session with too few trials 29\n",
      "Warning: skipping session with too few trials 21\n",
      "Warning: skipping session with too few trials 34\n",
      "Warning: skipping session with too few trials 22\n",
      "Warning: skipping session with too few trials 21\n",
      "Warning: skipping session with too few trials 25\n",
      "Warning: skipping session with too few trials 18\n",
      "Warning: skipping session with too few trials 26\n",
      "Warning: skipping session with too few trials 18\n",
      "Warning: skipping session with too few trials 19\n",
      "Warning: skipping session with too few trials 20\n",
      "Warning: skipping session with too few trials 34\n",
      "Warning: skipping session with too few trials 40\n",
      "Warning: skipping session with too few trials 22\n",
      "Warning: skipping session with too few trials 28\n",
      "Warning: skipping session with too few trials 28\n",
      "Warning: skipping session with too few trials 34\n",
      "Warning: skipping session with too few trials 33\n",
      "Warning: skipping session with too few trials 34\n",
      "Warning: skipping session with too few trials 17\n"
     ]
    },
    {
     "data": {
      "application/vnd.jupyter.widget-view+json": {
       "model_id": "7b18329a1d5f4f688d481f51de723602",
       "version_major": 2,
       "version_minor": 0
      },
      "text/plain": [
       "IntProgress(value=0, description='mou_6', max=29)"
      ]
     },
     "metadata": {},
     "output_type": "display_data"
    },
    {
     "name": "stdout",
     "output_type": "stream",
     "text": [
      "Warning: skipping session with too few trials 17\n",
      "Warning: skipping session with too few trials 19\n",
      "Warning: skipping session with too few trials 29\n",
      "Warning: skipping session with too few trials 18\n",
      "Warning: skipping session with too few trials 29\n",
      "Warning: skipping session with too few trials 17\n",
      "Warning: skipping session with too few trials 14\n",
      "Warning: skipping session with too few trials 15\n",
      "Warning: skipping session with too few trials 29\n",
      "Warning: skipping session with too few trials 21\n",
      "Warning: skipping session with too few trials 34\n",
      "Warning: skipping session with too few trials 22\n",
      "Warning: skipping session with too few trials 21\n",
      "Warning: skipping session with too few trials 25\n",
      "Warning: skipping session with too few trials 18\n",
      "Warning: skipping session with too few trials 26\n",
      "Warning: skipping session with too few trials 18\n",
      "Warning: skipping session with too few trials 19\n",
      "Warning: skipping session with too few trials 20\n",
      "Warning: skipping session with too few trials 34\n",
      "Warning: skipping session with too few trials 40\n",
      "Warning: skipping session with too few trials 22\n",
      "Warning: skipping session with too few trials 28\n",
      "Warning: skipping session with too few trials 28\n",
      "Warning: skipping session with too few trials 34\n",
      "Warning: skipping session with too few trials 33\n",
      "Warning: skipping session with too few trials 34\n",
      "Warning: skipping session with too few trials 17\n"
     ]
    },
    {
     "data": {
      "application/vnd.jupyter.widget-view+json": {
       "model_id": "c9c199e3916d4d5aac8e573ef8c78a6c",
       "version_major": 2,
       "version_minor": 0
      },
      "text/plain": [
       "IntProgress(value=0, description='mou_6', max=29)"
      ]
     },
     "metadata": {},
     "output_type": "display_data"
    },
    {
     "name": "stdout",
     "output_type": "stream",
     "text": [
      "Warning: skipping session with too few trials 17\n",
      "Warning: skipping session with too few trials 19\n",
      "Warning: skipping session with too few trials 29\n",
      "Warning: skipping session with too few trials 18\n",
      "Warning: skipping session with too few trials 29\n",
      "Warning: skipping session with too few trials 17\n",
      "Warning: skipping session with too few trials 14\n",
      "Warning: skipping session with too few trials 15\n",
      "Warning: skipping session with too few trials 29\n",
      "Warning: skipping session with too few trials 21\n",
      "Warning: skipping session with too few trials 34\n",
      "Warning: skipping session with too few trials 22\n",
      "Warning: skipping session with too few trials 21\n",
      "Warning: skipping session with too few trials 25\n",
      "Warning: skipping session with too few trials 18\n",
      "Warning: skipping session with too few trials 26\n",
      "Warning: skipping session with too few trials 18\n",
      "Warning: skipping session with too few trials 19\n",
      "Warning: skipping session with too few trials 20\n",
      "Warning: skipping session with too few trials 34\n",
      "Warning: skipping session with too few trials 40\n",
      "Warning: skipping session with too few trials 22\n",
      "Warning: skipping session with too few trials 28\n",
      "Warning: skipping session with too few trials 28\n",
      "Warning: skipping session with too few trials 34\n",
      "Warning: skipping session with too few trials 33\n",
      "Warning: skipping session with too few trials 34\n",
      "Warning: skipping session with too few trials 17\n"
     ]
    },
    {
     "data": {
      "application/vnd.jupyter.widget-view+json": {
       "model_id": "b9e9ff71828a45fe83418c9dcb8fc8f9",
       "version_major": 2,
       "version_minor": 0
      },
      "text/plain": [
       "IntProgress(value=0, description='mou_6', max=29)"
      ]
     },
     "metadata": {},
     "output_type": "display_data"
    },
    {
     "name": "stdout",
     "output_type": "stream",
     "text": [
      "Warning: skipping session with too few trials 17\n",
      "Warning: skipping session with too few trials 19\n",
      "Warning: skipping session with too few trials 29\n",
      "Warning: skipping session with too few trials 18\n",
      "Warning: skipping session with too few trials 29\n",
      "Warning: skipping session with too few trials 17\n",
      "Warning: skipping session with too few trials 14\n",
      "Warning: skipping session with too few trials 15\n",
      "Warning: skipping session with too few trials 29\n",
      "Warning: skipping session with too few trials 21\n",
      "Warning: skipping session with too few trials 34\n",
      "Warning: skipping session with too few trials 22\n",
      "Warning: skipping session with too few trials 21\n",
      "Warning: skipping session with too few trials 25\n",
      "Warning: skipping session with too few trials 18\n",
      "Warning: skipping session with too few trials 26\n",
      "Warning: skipping session with too few trials 18\n",
      "Warning: skipping session with too few trials 19\n",
      "Warning: skipping session with too few trials 20\n",
      "Warning: skipping session with too few trials 34\n",
      "Warning: skipping session with too few trials 40\n",
      "Warning: skipping session with too few trials 22\n",
      "Warning: skipping session with too few trials 28\n",
      "Warning: skipping session with too few trials 28\n",
      "Warning: skipping session with too few trials 34\n",
      "Warning: skipping session with too few trials 33\n",
      "Warning: skipping session with too few trials 34\n",
      "Warning: skipping session with too few trials 17\n"
     ]
    },
    {
     "data": {
      "application/vnd.jupyter.widget-view+json": {
       "model_id": "e7309389cbd341e3aa0a48753055412d",
       "version_major": 2,
       "version_minor": 0
      },
      "text/plain": [
       "IntProgress(value=0, description='mou_6', max=29)"
      ]
     },
     "metadata": {},
     "output_type": "display_data"
    },
    {
     "name": "stdout",
     "output_type": "stream",
     "text": [
      "Warning: skipping session with too few trials 38\n",
      "Warning: skipping session with too few trials 41\n",
      "Warning: skipping session with too few trials 34\n",
      "Warning: skipping session with too few trials 24\n",
      "Warning: skipping session with too few trials 41\n",
      "Warning: skipping session with too few trials 46\n",
      "Warning: skipping session with too few trials 42\n",
      "Warning: skipping session with too few trials 37\n",
      "Warning: skipping session with too few trials 43\n",
      "Warning: skipping session with too few trials 49\n",
      "Warning: skipping session with too few trials 43\n",
      "Warning: skipping session with too few trials 41\n",
      "Warning: skipping session with too few trials 35\n",
      "Warning: skipping session with too few trials 35\n",
      "Warning: skipping session with too few trials 45\n",
      "Warning: skipping session with too few trials 44\n",
      "Warning: skipping session with too few trials 48\n",
      "Warning: skipping session with too few trials 38\n",
      "Warning: skipping session with too few trials 29\n"
     ]
    },
    {
     "data": {
      "application/vnd.jupyter.widget-view+json": {
       "model_id": "8a8f7ca185d4460b97c36deb295ec9c3",
       "version_major": 2,
       "version_minor": 0
      },
      "text/plain": [
       "IntProgress(value=0, description='mou_6', max=29)"
      ]
     },
     "metadata": {},
     "output_type": "display_data"
    },
    {
     "name": "stdout",
     "output_type": "stream",
     "text": [
      "Warning: skipping session with too few trials 38\n",
      "Warning: skipping session with too few trials 41\n",
      "Warning: skipping session with too few trials 34\n",
      "Warning: skipping session with too few trials 24\n",
      "Warning: skipping session with too few trials 41\n",
      "Warning: skipping session with too few trials 46\n",
      "Warning: skipping session with too few trials 42\n",
      "Warning: skipping session with too few trials 37\n",
      "Warning: skipping session with too few trials 43\n",
      "Warning: skipping session with too few trials 49\n",
      "Warning: skipping session with too few trials 43\n",
      "Warning: skipping session with too few trials 41\n",
      "Warning: skipping session with too few trials 35\n",
      "Warning: skipping session with too few trials 35\n",
      "Warning: skipping session with too few trials 45\n",
      "Warning: skipping session with too few trials 44\n",
      "Warning: skipping session with too few trials 48\n",
      "Warning: skipping session with too few trials 38\n",
      "Warning: skipping session with too few trials 29\n"
     ]
    },
    {
     "data": {
      "application/vnd.jupyter.widget-view+json": {
       "model_id": "0ed1a426d7494bc199cf974ec4ddc236",
       "version_major": 2,
       "version_minor": 0
      },
      "text/plain": [
       "IntProgress(value=0, description='mou_6', max=29)"
      ]
     },
     "metadata": {},
     "output_type": "display_data"
    },
    {
     "name": "stdout",
     "output_type": "stream",
     "text": [
      "Warning: skipping session with too few trials 38\n",
      "Warning: skipping session with too few trials 41\n",
      "Warning: skipping session with too few trials 34\n",
      "Warning: skipping session with too few trials 24\n",
      "Warning: skipping session with too few trials 41\n",
      "Warning: skipping session with too few trials 46\n",
      "Warning: skipping session with too few trials 42\n",
      "Warning: skipping session with too few trials 37\n",
      "Warning: skipping session with too few trials 43\n",
      "Warning: skipping session with too few trials 49\n",
      "Warning: skipping session with too few trials 43\n",
      "Warning: skipping session with too few trials 41\n",
      "Warning: skipping session with too few trials 35\n",
      "Warning: skipping session with too few trials 35\n",
      "Warning: skipping session with too few trials 45\n",
      "Warning: skipping session with too few trials 44\n",
      "Warning: skipping session with too few trials 48\n",
      "Warning: skipping session with too few trials 38\n",
      "Warning: skipping session with too few trials 29\n"
     ]
    },
    {
     "data": {
      "application/vnd.jupyter.widget-view+json": {
       "model_id": "8619375cdfa44324abce74daaf4e1929",
       "version_major": 2,
       "version_minor": 0
      },
      "text/plain": [
       "IntProgress(value=0, description='mou_6', max=29)"
      ]
     },
     "metadata": {},
     "output_type": "display_data"
    },
    {
     "name": "stdout",
     "output_type": "stream",
     "text": [
      "Warning: skipping session with too few trials 38\n",
      "Warning: skipping session with too few trials 41\n",
      "Warning: skipping session with too few trials 34\n",
      "Warning: skipping session with too few trials 24\n",
      "Warning: skipping session with too few trials 41\n",
      "Warning: skipping session with too few trials 46\n",
      "Warning: skipping session with too few trials 42\n",
      "Warning: skipping session with too few trials 37\n",
      "Warning: skipping session with too few trials 43\n",
      "Warning: skipping session with too few trials 49\n",
      "Warning: skipping session with too few trials 43\n",
      "Warning: skipping session with too few trials 41\n",
      "Warning: skipping session with too few trials 35\n",
      "Warning: skipping session with too few trials 35\n",
      "Warning: skipping session with too few trials 45\n",
      "Warning: skipping session with too few trials 44\n",
      "Warning: skipping session with too few trials 48\n",
      "Warning: skipping session with too few trials 38\n",
      "Warning: skipping session with too few trials 29\n"
     ]
    },
    {
     "data": {
      "application/vnd.jupyter.widget-view+json": {
       "model_id": "f8fb67eb497a43c2bb8743caee668e2b",
       "version_major": 2,
       "version_minor": 0
      },
      "text/plain": [
       "IntProgress(value=0, description='mou_6', max=29)"
      ]
     },
     "metadata": {},
     "output_type": "display_data"
    },
    {
     "name": "stdout",
     "output_type": "stream",
     "text": [
      "Warning: skipping session with too few trials 38\n",
      "Warning: skipping session with too few trials 41\n",
      "Warning: skipping session with too few trials 34\n",
      "Warning: skipping session with too few trials 24\n",
      "Warning: skipping session with too few trials 41\n",
      "Warning: skipping session with too few trials 46\n",
      "Warning: skipping session with too few trials 42\n",
      "Warning: skipping session with too few trials 37\n",
      "Warning: skipping session with too few trials 43\n",
      "Warning: skipping session with too few trials 49\n",
      "Warning: skipping session with too few trials 43\n",
      "Warning: skipping session with too few trials 41\n",
      "Warning: skipping session with too few trials 35\n",
      "Warning: skipping session with too few trials 35\n",
      "Warning: skipping session with too few trials 45\n",
      "Warning: skipping session with too few trials 44\n",
      "Warning: skipping session with too few trials 48\n",
      "Warning: skipping session with too few trials 38\n",
      "Warning: skipping session with too few trials 29\n"
     ]
    },
    {
     "data": {
      "application/vnd.jupyter.widget-view+json": {
       "model_id": "544ac32d0482497889fdbb562c99c799",
       "version_major": 2,
       "version_minor": 0
      },
      "text/plain": [
       "IntProgress(value=0, description='mou_6', max=29)"
      ]
     },
     "metadata": {},
     "output_type": "display_data"
    },
    {
     "data": {
      "application/vnd.jupyter.widget-view+json": {
       "model_id": "c23ae32ab8114358816ea7582879d8d2",
       "version_major": 2,
       "version_minor": 0
      },
      "text/plain": [
       "IntProgress(value=0, description='mou_6', max=29)"
      ]
     },
     "metadata": {},
     "output_type": "display_data"
    },
    {
     "data": {
      "application/vnd.jupyter.widget-view+json": {
       "model_id": "d3ce301ac95f426cae75a4938fa8a05e",
       "version_major": 2,
       "version_minor": 0
      },
      "text/plain": [
       "IntProgress(value=0, description='mou_6', max=29)"
      ]
     },
     "metadata": {},
     "output_type": "display_data"
    },
    {
     "data": {
      "application/vnd.jupyter.widget-view+json": {
       "model_id": "3d00f7a4889c4e6d90cfd19ba2361f62",
       "version_major": 2,
       "version_minor": 0
      },
      "text/plain": [
       "IntProgress(value=0, description='mou_6', max=29)"
      ]
     },
     "metadata": {},
     "output_type": "display_data"
    },
    {
     "data": {
      "application/vnd.jupyter.widget-view+json": {
       "model_id": "615748edde174b4f988543f752c91a80",
       "version_major": 2,
       "version_minor": 0
      },
      "text/plain": [
       "IntProgress(value=0, description='mou_6', max=29)"
      ]
     },
     "metadata": {},
     "output_type": "display_data"
    },
    {
     "data": {
      "application/vnd.jupyter.widget-view+json": {
       "model_id": "706a6c9118fb45c3af2bdcbf770e4230",
       "version_major": 2,
       "version_minor": 0
      },
      "text/plain": [
       "IntProgress(value=0, description='mou_6', max=29)"
      ]
     },
     "metadata": {},
     "output_type": "display_data"
    },
    {
     "name": "stdout",
     "output_type": "stream",
     "text": [
      "Warning: skipping session with too few trials 17\n",
      "Warning: skipping session with too few trials 19\n",
      "Warning: skipping session with too few trials 29\n",
      "Warning: skipping session with too few trials 18\n",
      "Warning: skipping session with too few trials 29\n",
      "Warning: skipping session with too few trials 17\n",
      "Warning: skipping session with too few trials 14\n",
      "Warning: skipping session with too few trials 15\n",
      "Warning: skipping session with too few trials 29\n",
      "Warning: skipping session with too few trials 21\n",
      "Warning: skipping session with too few trials 34\n",
      "Warning: skipping session with too few trials 22\n",
      "Warning: skipping session with too few trials 21\n",
      "Warning: skipping session with too few trials 25\n",
      "Warning: skipping session with too few trials 18\n",
      "Warning: skipping session with too few trials 26\n",
      "Warning: skipping session with too few trials 18\n",
      "Warning: skipping session with too few trials 19\n",
      "Warning: skipping session with too few trials 20\n",
      "Warning: skipping session with too few trials 34\n",
      "Warning: skipping session with too few trials 40\n",
      "Warning: skipping session with too few trials 22\n",
      "Warning: skipping session with too few trials 28\n",
      "Warning: skipping session with too few trials 28\n",
      "Warning: skipping session with too few trials 34\n",
      "Warning: skipping session with too few trials 33\n",
      "Warning: skipping session with too few trials 34\n",
      "Warning: skipping session with too few trials 17\n"
     ]
    },
    {
     "data": {
      "application/vnd.jupyter.widget-view+json": {
       "model_id": "86992b628a7e4877b6962bf45aa76f55",
       "version_major": 2,
       "version_minor": 0
      },
      "text/plain": [
       "IntProgress(value=0, description='mou_6', max=29)"
      ]
     },
     "metadata": {},
     "output_type": "display_data"
    },
    {
     "name": "stdout",
     "output_type": "stream",
     "text": [
      "Warning: skipping session with too few trials 17\n",
      "Warning: skipping session with too few trials 19\n",
      "Warning: skipping session with too few trials 29\n",
      "Warning: skipping session with too few trials 18\n",
      "Warning: skipping session with too few trials 29\n",
      "Warning: skipping session with too few trials 17\n",
      "Warning: skipping session with too few trials 14\n",
      "Warning: skipping session with too few trials 15\n",
      "Warning: skipping session with too few trials 29\n",
      "Warning: skipping session with too few trials 21\n",
      "Warning: skipping session with too few trials 34\n",
      "Warning: skipping session with too few trials 22\n",
      "Warning: skipping session with too few trials 21\n",
      "Warning: skipping session with too few trials 25\n",
      "Warning: skipping session with too few trials 18\n",
      "Warning: skipping session with too few trials 26\n",
      "Warning: skipping session with too few trials 18\n",
      "Warning: skipping session with too few trials 19\n",
      "Warning: skipping session with too few trials 20\n",
      "Warning: skipping session with too few trials 34\n",
      "Warning: skipping session with too few trials 40\n",
      "Warning: skipping session with too few trials 22\n",
      "Warning: skipping session with too few trials 28\n",
      "Warning: skipping session with too few trials 28\n",
      "Warning: skipping session with too few trials 34\n",
      "Warning: skipping session with too few trials 33\n",
      "Warning: skipping session with too few trials 34\n",
      "Warning: skipping session with too few trials 17\n"
     ]
    },
    {
     "data": {
      "application/vnd.jupyter.widget-view+json": {
       "model_id": "8ba46209e1b741e6a6d01e2cb7cbc6f7",
       "version_major": 2,
       "version_minor": 0
      },
      "text/plain": [
       "IntProgress(value=0, description='mou_6', max=29)"
      ]
     },
     "metadata": {},
     "output_type": "display_data"
    },
    {
     "name": "stdout",
     "output_type": "stream",
     "text": [
      "Warning: skipping session with too few trials 17\n",
      "Warning: skipping session with too few trials 19\n",
      "Warning: skipping session with too few trials 29\n",
      "Warning: skipping session with too few trials 18\n",
      "Warning: skipping session with too few trials 29\n",
      "Warning: skipping session with too few trials 17\n",
      "Warning: skipping session with too few trials 14\n",
      "Warning: skipping session with too few trials 15\n",
      "Warning: skipping session with too few trials 29\n",
      "Warning: skipping session with too few trials 21\n",
      "Warning: skipping session with too few trials 34\n",
      "Warning: skipping session with too few trials 22\n",
      "Warning: skipping session with too few trials 21\n",
      "Warning: skipping session with too few trials 25\n",
      "Warning: skipping session with too few trials 18\n",
      "Warning: skipping session with too few trials 26\n",
      "Warning: skipping session with too few trials 18\n",
      "Warning: skipping session with too few trials 19\n",
      "Warning: skipping session with too few trials 20\n",
      "Warning: skipping session with too few trials 34\n",
      "Warning: skipping session with too few trials 40\n",
      "Warning: skipping session with too few trials 22\n",
      "Warning: skipping session with too few trials 28\n",
      "Warning: skipping session with too few trials 28\n",
      "Warning: skipping session with too few trials 34\n",
      "Warning: skipping session with too few trials 33\n",
      "Warning: skipping session with too few trials 34\n",
      "Warning: skipping session with too few trials 17\n"
     ]
    },
    {
     "data": {
      "application/vnd.jupyter.widget-view+json": {
       "model_id": "34778e24873b46ceabb58f9d772e1734",
       "version_major": 2,
       "version_minor": 0
      },
      "text/plain": [
       "IntProgress(value=0, description='mou_6', max=29)"
      ]
     },
     "metadata": {},
     "output_type": "display_data"
    },
    {
     "name": "stdout",
     "output_type": "stream",
     "text": [
      "Warning: skipping session with too few trials 17\n",
      "Warning: skipping session with too few trials 19\n",
      "Warning: skipping session with too few trials 29\n",
      "Warning: skipping session with too few trials 18\n",
      "Warning: skipping session with too few trials 29\n",
      "Warning: skipping session with too few trials 17\n",
      "Warning: skipping session with too few trials 14\n",
      "Warning: skipping session with too few trials 15\n",
      "Warning: skipping session with too few trials 29\n",
      "Warning: skipping session with too few trials 21\n",
      "Warning: skipping session with too few trials 34\n",
      "Warning: skipping session with too few trials 22\n",
      "Warning: skipping session with too few trials 21\n",
      "Warning: skipping session with too few trials 25\n",
      "Warning: skipping session with too few trials 18\n",
      "Warning: skipping session with too few trials 26\n",
      "Warning: skipping session with too few trials 18\n",
      "Warning: skipping session with too few trials 19\n",
      "Warning: skipping session with too few trials 20\n",
      "Warning: skipping session with too few trials 34\n",
      "Warning: skipping session with too few trials 40\n",
      "Warning: skipping session with too few trials 22\n",
      "Warning: skipping session with too few trials 28\n",
      "Warning: skipping session with too few trials 28\n",
      "Warning: skipping session with too few trials 34\n",
      "Warning: skipping session with too few trials 33\n",
      "Warning: skipping session with too few trials 34\n",
      "Warning: skipping session with too few trials 17\n"
     ]
    },
    {
     "data": {
      "application/vnd.jupyter.widget-view+json": {
       "model_id": "a9aa0cc7a4f843198b15721af59575ac",
       "version_major": 2,
       "version_minor": 0
      },
      "text/plain": [
       "IntProgress(value=0, description='mou_6', max=29)"
      ]
     },
     "metadata": {},
     "output_type": "display_data"
    },
    {
     "name": "stdout",
     "output_type": "stream",
     "text": [
      "Warning: skipping session with too few trials 17\n",
      "Warning: skipping session with too few trials 19\n",
      "Warning: skipping session with too few trials 29\n",
      "Warning: skipping session with too few trials 18\n",
      "Warning: skipping session with too few trials 29\n",
      "Warning: skipping session with too few trials 17\n",
      "Warning: skipping session with too few trials 14\n",
      "Warning: skipping session with too few trials 15\n",
      "Warning: skipping session with too few trials 29\n",
      "Warning: skipping session with too few trials 21\n",
      "Warning: skipping session with too few trials 34\n",
      "Warning: skipping session with too few trials 22\n",
      "Warning: skipping session with too few trials 21\n",
      "Warning: skipping session with too few trials 25\n",
      "Warning: skipping session with too few trials 18\n",
      "Warning: skipping session with too few trials 26\n",
      "Warning: skipping session with too few trials 18\n",
      "Warning: skipping session with too few trials 19\n",
      "Warning: skipping session with too few trials 20\n",
      "Warning: skipping session with too few trials 34\n",
      "Warning: skipping session with too few trials 40\n",
      "Warning: skipping session with too few trials 22\n",
      "Warning: skipping session with too few trials 28\n",
      "Warning: skipping session with too few trials 28\n",
      "Warning: skipping session with too few trials 34\n",
      "Warning: skipping session with too few trials 33\n",
      "Warning: skipping session with too few trials 34\n",
      "Warning: skipping session with too few trials 17\n"
     ]
    },
    {
     "data": {
      "application/vnd.jupyter.widget-view+json": {
       "model_id": "179dbc4bf8e54b7cb83ae05bab351e3b",
       "version_major": 2,
       "version_minor": 0
      },
      "text/plain": [
       "IntProgress(value=0, description='mou_6', max=29)"
      ]
     },
     "metadata": {},
     "output_type": "display_data"
    },
    {
     "name": "stdout",
     "output_type": "stream",
     "text": [
      "Warning: skipping session with too few trials 38\n",
      "Warning: skipping session with too few trials 41\n",
      "Warning: skipping session with too few trials 34\n",
      "Warning: skipping session with too few trials 24\n",
      "Warning: skipping session with too few trials 41\n",
      "Warning: skipping session with too few trials 46\n",
      "Warning: skipping session with too few trials 42\n",
      "Warning: skipping session with too few trials 37\n",
      "Warning: skipping session with too few trials 43\n",
      "Warning: skipping session with too few trials 49\n",
      "Warning: skipping session with too few trials 43\n",
      "Warning: skipping session with too few trials 41\n",
      "Warning: skipping session with too few trials 35\n",
      "Warning: skipping session with too few trials 35\n",
      "Warning: skipping session with too few trials 45\n",
      "Warning: skipping session with too few trials 44\n",
      "Warning: skipping session with too few trials 48\n",
      "Warning: skipping session with too few trials 38\n",
      "Warning: skipping session with too few trials 29\n"
     ]
    },
    {
     "data": {
      "application/vnd.jupyter.widget-view+json": {
       "model_id": "5fc3266675ec412eaa8b7848482b8370",
       "version_major": 2,
       "version_minor": 0
      },
      "text/plain": [
       "IntProgress(value=0, description='mou_6', max=29)"
      ]
     },
     "metadata": {},
     "output_type": "display_data"
    },
    {
     "name": "stdout",
     "output_type": "stream",
     "text": [
      "Warning: skipping session with too few trials 38\n",
      "Warning: skipping session with too few trials 41\n",
      "Warning: skipping session with too few trials 34\n",
      "Warning: skipping session with too few trials 24\n",
      "Warning: skipping session with too few trials 41\n",
      "Warning: skipping session with too few trials 46\n",
      "Warning: skipping session with too few trials 42\n",
      "Warning: skipping session with too few trials 37\n",
      "Warning: skipping session with too few trials 43\n",
      "Warning: skipping session with too few trials 49\n",
      "Warning: skipping session with too few trials 43\n",
      "Warning: skipping session with too few trials 41\n",
      "Warning: skipping session with too few trials 35\n",
      "Warning: skipping session with too few trials 35\n",
      "Warning: skipping session with too few trials 45\n",
      "Warning: skipping session with too few trials 44\n",
      "Warning: skipping session with too few trials 48\n",
      "Warning: skipping session with too few trials 38\n",
      "Warning: skipping session with too few trials 29\n"
     ]
    },
    {
     "data": {
      "application/vnd.jupyter.widget-view+json": {
       "model_id": "0428ef2b7b1f47ed9577d7e74c341100",
       "version_major": 2,
       "version_minor": 0
      },
      "text/plain": [
       "IntProgress(value=0, description='mou_6', max=29)"
      ]
     },
     "metadata": {},
     "output_type": "display_data"
    },
    {
     "name": "stdout",
     "output_type": "stream",
     "text": [
      "Warning: skipping session with too few trials 38\n",
      "Warning: skipping session with too few trials 41\n",
      "Warning: skipping session with too few trials 34\n",
      "Warning: skipping session with too few trials 24\n",
      "Warning: skipping session with too few trials 41\n",
      "Warning: skipping session with too few trials 46\n",
      "Warning: skipping session with too few trials 42\n",
      "Warning: skipping session with too few trials 37\n",
      "Warning: skipping session with too few trials 43\n",
      "Warning: skipping session with too few trials 49\n",
      "Warning: skipping session with too few trials 43\n",
      "Warning: skipping session with too few trials 41\n",
      "Warning: skipping session with too few trials 35\n",
      "Warning: skipping session with too few trials 35\n",
      "Warning: skipping session with too few trials 45\n",
      "Warning: skipping session with too few trials 44\n",
      "Warning: skipping session with too few trials 48\n",
      "Warning: skipping session with too few trials 38\n",
      "Warning: skipping session with too few trials 29\n"
     ]
    },
    {
     "data": {
      "application/vnd.jupyter.widget-view+json": {
       "model_id": "c3d4e613c37140019f351b929fb86e83",
       "version_major": 2,
       "version_minor": 0
      },
      "text/plain": [
       "IntProgress(value=0, description='mou_6', max=29)"
      ]
     },
     "metadata": {},
     "output_type": "display_data"
    },
    {
     "name": "stdout",
     "output_type": "stream",
     "text": [
      "Warning: skipping session with too few trials 38\n",
      "Warning: skipping session with too few trials 41\n",
      "Warning: skipping session with too few trials 34\n",
      "Warning: skipping session with too few trials 24\n",
      "Warning: skipping session with too few trials 41\n",
      "Warning: skipping session with too few trials 46\n",
      "Warning: skipping session with too few trials 42\n",
      "Warning: skipping session with too few trials 37\n",
      "Warning: skipping session with too few trials 43\n",
      "Warning: skipping session with too few trials 49\n",
      "Warning: skipping session with too few trials 43\n",
      "Warning: skipping session with too few trials 41\n",
      "Warning: skipping session with too few trials 35\n",
      "Warning: skipping session with too few trials 35\n",
      "Warning: skipping session with too few trials 45\n",
      "Warning: skipping session with too few trials 44\n",
      "Warning: skipping session with too few trials 48\n",
      "Warning: skipping session with too few trials 38\n",
      "Warning: skipping session with too few trials 29\n"
     ]
    },
    {
     "data": {
      "application/vnd.jupyter.widget-view+json": {
       "model_id": "12411a0c5da9444da8df5e47b2264ef8",
       "version_major": 2,
       "version_minor": 0
      },
      "text/plain": [
       "IntProgress(value=0, description='mou_6', max=29)"
      ]
     },
     "metadata": {},
     "output_type": "display_data"
    },
    {
     "name": "stdout",
     "output_type": "stream",
     "text": [
      "Warning: skipping session with too few trials 38\n",
      "Warning: skipping session with too few trials 41\n",
      "Warning: skipping session with too few trials 34\n",
      "Warning: skipping session with too few trials 24\n",
      "Warning: skipping session with too few trials 41\n",
      "Warning: skipping session with too few trials 46\n",
      "Warning: skipping session with too few trials 42\n",
      "Warning: skipping session with too few trials 37\n",
      "Warning: skipping session with too few trials 43\n",
      "Warning: skipping session with too few trials 49\n",
      "Warning: skipping session with too few trials 43\n",
      "Warning: skipping session with too few trials 41\n",
      "Warning: skipping session with too few trials 35\n",
      "Warning: skipping session with too few trials 35\n",
      "Warning: skipping session with too few trials 45\n",
      "Warning: skipping session with too few trials 44\n",
      "Warning: skipping session with too few trials 48\n",
      "Warning: skipping session with too few trials 38\n",
      "Warning: skipping session with too few trials 29\n"
     ]
    },
    {
     "data": {
      "application/vnd.jupyter.widget-view+json": {
       "model_id": "f71165c84d9840e29e6ee036c422f9ce",
       "version_major": 2,
       "version_minor": 0
      },
      "text/plain": [
       "IntProgress(value=0, description='mou_6', max=29)"
      ]
     },
     "metadata": {},
     "output_type": "display_data"
    },
    {
     "data": {
      "application/vnd.jupyter.widget-view+json": {
       "model_id": "d0479ce298704a47bd69640686fd607a",
       "version_major": 2,
       "version_minor": 0
      },
      "text/plain": [
       "IntProgress(value=0, description='mou_6', max=29)"
      ]
     },
     "metadata": {},
     "output_type": "display_data"
    },
    {
     "data": {
      "application/vnd.jupyter.widget-view+json": {
       "model_id": "1eacbf396c7e4bf2bc1f4a5b22d8f8f4",
       "version_major": 2,
       "version_minor": 0
      },
      "text/plain": [
       "IntProgress(value=0, description='mou_6', max=29)"
      ]
     },
     "metadata": {},
     "output_type": "display_data"
    },
    {
     "data": {
      "application/vnd.jupyter.widget-view+json": {
       "model_id": "e12037233e734043b98fe80a962e4405",
       "version_major": 2,
       "version_minor": 0
      },
      "text/plain": [
       "IntProgress(value=0, description='mou_6', max=29)"
      ]
     },
     "metadata": {},
     "output_type": "display_data"
    },
    {
     "data": {
      "application/vnd.jupyter.widget-view+json": {
       "model_id": "7bd21358ad9c4005b0abc5047ff22d9a",
       "version_major": 2,
       "version_minor": 0
      },
      "text/plain": [
       "IntProgress(value=0, description='mou_6', max=29)"
      ]
     },
     "metadata": {},
     "output_type": "display_data"
    },
    {
     "name": "stdout",
     "output_type": "stream",
     "text": [
      "Warning: skipping session with too few trials 17\n",
      "Warning: skipping session with too few trials 19\n",
      "Warning: skipping session with too few trials 29\n",
      "Warning: skipping session with too few trials 18\n",
      "Warning: skipping session with too few trials 29\n",
      "Warning: skipping session with too few trials 17\n",
      "Warning: skipping session with too few trials 14\n",
      "Warning: skipping session with too few trials 15\n",
      "Warning: skipping session with too few trials 29\n",
      "Warning: skipping session with too few trials 21\n",
      "Warning: skipping session with too few trials 34\n",
      "Warning: skipping session with too few trials 22\n",
      "Warning: skipping session with too few trials 21\n",
      "Warning: skipping session with too few trials 25\n",
      "Warning: skipping session with too few trials 18\n",
      "Warning: skipping session with too few trials 26\n",
      "Warning: skipping session with too few trials 18\n",
      "Warning: skipping session with too few trials 19\n",
      "Warning: skipping session with too few trials 20\n",
      "Warning: skipping session with too few trials 34\n",
      "Warning: skipping session with too few trials 40\n",
      "Warning: skipping session with too few trials 22\n",
      "Warning: skipping session with too few trials 28\n",
      "Warning: skipping session with too few trials 28\n",
      "Warning: skipping session with too few trials 34\n",
      "Warning: skipping session with too few trials 33\n",
      "Warning: skipping session with too few trials 34\n",
      "Warning: skipping session with too few trials 17\n"
     ]
    },
    {
     "data": {
      "application/vnd.jupyter.widget-view+json": {
       "model_id": "a8bc0975d8a44411973d68e252b5104d",
       "version_major": 2,
       "version_minor": 0
      },
      "text/plain": [
       "IntProgress(value=0, description='mou_6', max=29)"
      ]
     },
     "metadata": {},
     "output_type": "display_data"
    },
    {
     "name": "stdout",
     "output_type": "stream",
     "text": [
      "Warning: skipping session with too few trials 17\n",
      "Warning: skipping session with too few trials 19\n",
      "Warning: skipping session with too few trials 29\n",
      "Warning: skipping session with too few trials 18\n",
      "Warning: skipping session with too few trials 29\n",
      "Warning: skipping session with too few trials 17\n",
      "Warning: skipping session with too few trials 14\n",
      "Warning: skipping session with too few trials 15\n",
      "Warning: skipping session with too few trials 29\n",
      "Warning: skipping session with too few trials 21\n",
      "Warning: skipping session with too few trials 34\n",
      "Warning: skipping session with too few trials 22\n",
      "Warning: skipping session with too few trials 21\n",
      "Warning: skipping session with too few trials 25\n",
      "Warning: skipping session with too few trials 18\n",
      "Warning: skipping session with too few trials 26\n",
      "Warning: skipping session with too few trials 18\n",
      "Warning: skipping session with too few trials 19\n",
      "Warning: skipping session with too few trials 20\n",
      "Warning: skipping session with too few trials 34\n",
      "Warning: skipping session with too few trials 40\n",
      "Warning: skipping session with too few trials 22\n",
      "Warning: skipping session with too few trials 28\n",
      "Warning: skipping session with too few trials 28\n",
      "Warning: skipping session with too few trials 34\n",
      "Warning: skipping session with too few trials 33\n",
      "Warning: skipping session with too few trials 34\n",
      "Warning: skipping session with too few trials 17\n"
     ]
    },
    {
     "data": {
      "application/vnd.jupyter.widget-view+json": {
       "model_id": "1d0d179d8a284a16958722b26578f3cb",
       "version_major": 2,
       "version_minor": 0
      },
      "text/plain": [
       "IntProgress(value=0, description='mou_6', max=29)"
      ]
     },
     "metadata": {},
     "output_type": "display_data"
    },
    {
     "name": "stdout",
     "output_type": "stream",
     "text": [
      "Warning: skipping session with too few trials 17\n",
      "Warning: skipping session with too few trials 19\n",
      "Warning: skipping session with too few trials 29\n",
      "Warning: skipping session with too few trials 18\n",
      "Warning: skipping session with too few trials 29\n",
      "Warning: skipping session with too few trials 17\n",
      "Warning: skipping session with too few trials 14\n",
      "Warning: skipping session with too few trials 15\n",
      "Warning: skipping session with too few trials 29\n",
      "Warning: skipping session with too few trials 21\n",
      "Warning: skipping session with too few trials 34\n",
      "Warning: skipping session with too few trials 22\n",
      "Warning: skipping session with too few trials 21\n",
      "Warning: skipping session with too few trials 25\n",
      "Warning: skipping session with too few trials 18\n",
      "Warning: skipping session with too few trials 26\n",
      "Warning: skipping session with too few trials 18\n",
      "Warning: skipping session with too few trials 19\n",
      "Warning: skipping session with too few trials 20\n",
      "Warning: skipping session with too few trials 34\n",
      "Warning: skipping session with too few trials 40\n",
      "Warning: skipping session with too few trials 22\n",
      "Warning: skipping session with too few trials 28\n",
      "Warning: skipping session with too few trials 28\n",
      "Warning: skipping session with too few trials 34\n",
      "Warning: skipping session with too few trials 33\n",
      "Warning: skipping session with too few trials 34\n",
      "Warning: skipping session with too few trials 17\n"
     ]
    },
    {
     "data": {
      "application/vnd.jupyter.widget-view+json": {
       "model_id": "bf4d6069671a4dcc8b44318069c69a04",
       "version_major": 2,
       "version_minor": 0
      },
      "text/plain": [
       "IntProgress(value=0, description='mou_6', max=29)"
      ]
     },
     "metadata": {},
     "output_type": "display_data"
    },
    {
     "name": "stdout",
     "output_type": "stream",
     "text": [
      "Warning: skipping session with too few trials 17\n",
      "Warning: skipping session with too few trials 19\n",
      "Warning: skipping session with too few trials 29\n",
      "Warning: skipping session with too few trials 18\n",
      "Warning: skipping session with too few trials 29\n",
      "Warning: skipping session with too few trials 17\n",
      "Warning: skipping session with too few trials 14\n",
      "Warning: skipping session with too few trials 15\n",
      "Warning: skipping session with too few trials 29\n",
      "Warning: skipping session with too few trials 21\n",
      "Warning: skipping session with too few trials 34\n",
      "Warning: skipping session with too few trials 22\n",
      "Warning: skipping session with too few trials 21\n",
      "Warning: skipping session with too few trials 25\n",
      "Warning: skipping session with too few trials 18\n",
      "Warning: skipping session with too few trials 26\n",
      "Warning: skipping session with too few trials 18\n",
      "Warning: skipping session with too few trials 19\n",
      "Warning: skipping session with too few trials 20\n",
      "Warning: skipping session with too few trials 34\n",
      "Warning: skipping session with too few trials 40\n",
      "Warning: skipping session with too few trials 22\n",
      "Warning: skipping session with too few trials 28\n",
      "Warning: skipping session with too few trials 28\n",
      "Warning: skipping session with too few trials 34\n",
      "Warning: skipping session with too few trials 33\n",
      "Warning: skipping session with too few trials 34\n",
      "Warning: skipping session with too few trials 17\n"
     ]
    },
    {
     "data": {
      "application/vnd.jupyter.widget-view+json": {
       "model_id": "511bd0bc93a54229be2942eb41056ad2",
       "version_major": 2,
       "version_minor": 0
      },
      "text/plain": [
       "IntProgress(value=0, description='mou_6', max=29)"
      ]
     },
     "metadata": {},
     "output_type": "display_data"
    },
    {
     "name": "stdout",
     "output_type": "stream",
     "text": [
      "Warning: skipping session with too few trials 38\n",
      "Warning: skipping session with too few trials 41\n",
      "Warning: skipping session with too few trials 34\n",
      "Warning: skipping session with too few trials 24\n",
      "Warning: skipping session with too few trials 41\n",
      "Warning: skipping session with too few trials 46\n",
      "Warning: skipping session with too few trials 42\n",
      "Warning: skipping session with too few trials 37\n",
      "Warning: skipping session with too few trials 43\n",
      "Warning: skipping session with too few trials 49\n",
      "Warning: skipping session with too few trials 43\n",
      "Warning: skipping session with too few trials 41\n",
      "Warning: skipping session with too few trials 35\n",
      "Warning: skipping session with too few trials 35\n",
      "Warning: skipping session with too few trials 45\n",
      "Warning: skipping session with too few trials 44\n",
      "Warning: skipping session with too few trials 48\n",
      "Warning: skipping session with too few trials 38\n",
      "Warning: skipping session with too few trials 29\n"
     ]
    },
    {
     "data": {
      "application/vnd.jupyter.widget-view+json": {
       "model_id": "5d520e3dea084827a466231fc3a48ce4",
       "version_major": 2,
       "version_minor": 0
      },
      "text/plain": [
       "IntProgress(value=0, description='mou_6', max=29)"
      ]
     },
     "metadata": {},
     "output_type": "display_data"
    },
    {
     "name": "stdout",
     "output_type": "stream",
     "text": [
      "Warning: skipping session with too few trials 38\n",
      "Warning: skipping session with too few trials 41\n",
      "Warning: skipping session with too few trials 34\n",
      "Warning: skipping session with too few trials 24\n",
      "Warning: skipping session with too few trials 41\n",
      "Warning: skipping session with too few trials 46\n",
      "Warning: skipping session with too few trials 42\n",
      "Warning: skipping session with too few trials 37\n",
      "Warning: skipping session with too few trials 43\n",
      "Warning: skipping session with too few trials 49\n",
      "Warning: skipping session with too few trials 43\n",
      "Warning: skipping session with too few trials 41\n",
      "Warning: skipping session with too few trials 35\n",
      "Warning: skipping session with too few trials 35\n",
      "Warning: skipping session with too few trials 45\n",
      "Warning: skipping session with too few trials 44\n",
      "Warning: skipping session with too few trials 48\n",
      "Warning: skipping session with too few trials 38\n",
      "Warning: skipping session with too few trials 29\n"
     ]
    },
    {
     "data": {
      "application/vnd.jupyter.widget-view+json": {
       "model_id": "a6d02c32ed2945a8a96c4a8b83b4264e",
       "version_major": 2,
       "version_minor": 0
      },
      "text/plain": [
       "IntProgress(value=0, description='mou_6', max=29)"
      ]
     },
     "metadata": {},
     "output_type": "display_data"
    },
    {
     "name": "stdout",
     "output_type": "stream",
     "text": [
      "Warning: skipping session with too few trials 38\n",
      "Warning: skipping session with too few trials 41\n",
      "Warning: skipping session with too few trials 34\n",
      "Warning: skipping session with too few trials 24\n",
      "Warning: skipping session with too few trials 41\n",
      "Warning: skipping session with too few trials 46\n",
      "Warning: skipping session with too few trials 42\n",
      "Warning: skipping session with too few trials 37\n",
      "Warning: skipping session with too few trials 43\n",
      "Warning: skipping session with too few trials 49\n",
      "Warning: skipping session with too few trials 43\n",
      "Warning: skipping session with too few trials 41\n",
      "Warning: skipping session with too few trials 35\n",
      "Warning: skipping session with too few trials 35\n",
      "Warning: skipping session with too few trials 45\n",
      "Warning: skipping session with too few trials 44\n",
      "Warning: skipping session with too few trials 48\n",
      "Warning: skipping session with too few trials 38\n",
      "Warning: skipping session with too few trials 29\n"
     ]
    },
    {
     "data": {
      "application/vnd.jupyter.widget-view+json": {
       "model_id": "a94c38e28a3446d3be2b1cf7a9c7084b",
       "version_major": 2,
       "version_minor": 0
      },
      "text/plain": [
       "IntProgress(value=0, description='mou_6', max=29)"
      ]
     },
     "metadata": {},
     "output_type": "display_data"
    },
    {
     "name": "stdout",
     "output_type": "stream",
     "text": [
      "Warning: skipping session with too few trials 38\n",
      "Warning: skipping session with too few trials 41\n",
      "Warning: skipping session with too few trials 34\n",
      "Warning: skipping session with too few trials 24\n",
      "Warning: skipping session with too few trials 41\n",
      "Warning: skipping session with too few trials 46\n",
      "Warning: skipping session with too few trials 42\n",
      "Warning: skipping session with too few trials 37\n",
      "Warning: skipping session with too few trials 43\n",
      "Warning: skipping session with too few trials 49\n",
      "Warning: skipping session with too few trials 43\n",
      "Warning: skipping session with too few trials 41\n",
      "Warning: skipping session with too few trials 35\n",
      "Warning: skipping session with too few trials 35\n",
      "Warning: skipping session with too few trials 45\n",
      "Warning: skipping session with too few trials 44\n",
      "Warning: skipping session with too few trials 48\n",
      "Warning: skipping session with too few trials 38\n",
      "Warning: skipping session with too few trials 29\n"
     ]
    },
    {
     "data": {
      "application/vnd.jupyter.widget-view+json": {
       "model_id": "707d2dc7a352455da1c795bd5008b57b",
       "version_major": 2,
       "version_minor": 0
      },
      "text/plain": [
       "IntProgress(value=0, description='mou_9', max=20)"
      ]
     },
     "metadata": {},
     "output_type": "display_data"
    },
    {
     "data": {
      "application/vnd.jupyter.widget-view+json": {
       "model_id": "f05e13cfb83441238d44881528887d96",
       "version_major": 2,
       "version_minor": 0
      },
      "text/plain": [
       "IntProgress(value=0, description='mou_9', max=20)"
      ]
     },
     "metadata": {},
     "output_type": "display_data"
    },
    {
     "data": {
      "application/vnd.jupyter.widget-view+json": {
       "model_id": "600497ae304441cb92da05a79b9928fe",
       "version_major": 2,
       "version_minor": 0
      },
      "text/plain": [
       "IntProgress(value=0, description='mou_9', max=20)"
      ]
     },
     "metadata": {},
     "output_type": "display_data"
    },
    {
     "data": {
      "application/vnd.jupyter.widget-view+json": {
       "model_id": "3c8e8f09b5eb4392b933b5fc3bf6e835",
       "version_major": 2,
       "version_minor": 0
      },
      "text/plain": [
       "IntProgress(value=0, description='mou_9', max=20)"
      ]
     },
     "metadata": {},
     "output_type": "display_data"
    },
    {
     "data": {
      "application/vnd.jupyter.widget-view+json": {
       "model_id": "5f12bea880bb491c8dea31ab13ec4e20",
       "version_major": 2,
       "version_minor": 0
      },
      "text/plain": [
       "IntProgress(value=0, description='mou_9', max=20)"
      ]
     },
     "metadata": {},
     "output_type": "display_data"
    },
    {
     "data": {
      "application/vnd.jupyter.widget-view+json": {
       "model_id": "302e15c61d694c8fabe3c7f4d61121c0",
       "version_major": 2,
       "version_minor": 0
      },
      "text/plain": [
       "IntProgress(value=0, description='mou_9', max=20)"
      ]
     },
     "metadata": {},
     "output_type": "display_data"
    },
    {
     "name": "stdout",
     "output_type": "stream",
     "text": [
      "Warning: skipping session with too few trials 29\n",
      "Warning: skipping session with too few trials 40\n",
      "Warning: skipping session with too few trials 41\n",
      "Warning: skipping session with too few trials 39\n",
      "Warning: skipping session with too few trials 29\n",
      "Warning: skipping session with too few trials 35\n",
      "Warning: skipping session with too few trials 27\n",
      "Warning: skipping session with too few trials 27\n",
      "Warning: skipping session with too few trials 31\n",
      "Warning: skipping session with too few trials 20\n",
      "Warning: skipping session with too few trials 40\n",
      "Warning: skipping session with too few trials 36\n",
      "Warning: skipping session with too few trials 27\n",
      "Warning: skipping session with too few trials 39\n",
      "Warning: skipping session with too few trials 33\n",
      "Warning: skipping session with too few trials 32\n",
      "Warning: skipping session with too few trials 21\n",
      "Warning: skipping session with too few trials 26\n",
      "Warning: skipping session with too few trials 24\n",
      "Warning: skipping session with too few trials 34\n",
      "Warning, all sessions had too few trials, this mouse is skipped\n"
     ]
    },
    {
     "data": {
      "application/vnd.jupyter.widget-view+json": {
       "model_id": "0ed6f2c4517f4c29b361c7912523d207",
       "version_major": 2,
       "version_minor": 0
      },
      "text/plain": [
       "IntProgress(value=0, description='mou_9', max=20)"
      ]
     },
     "metadata": {},
     "output_type": "display_data"
    },
    {
     "name": "stdout",
     "output_type": "stream",
     "text": [
      "Warning: skipping session with too few trials 29\n",
      "Warning: skipping session with too few trials 40\n",
      "Warning: skipping session with too few trials 41\n",
      "Warning: skipping session with too few trials 39\n",
      "Warning: skipping session with too few trials 29\n",
      "Warning: skipping session with too few trials 35\n",
      "Warning: skipping session with too few trials 27\n",
      "Warning: skipping session with too few trials 27\n",
      "Warning: skipping session with too few trials 31\n",
      "Warning: skipping session with too few trials 20\n",
      "Warning: skipping session with too few trials 40\n",
      "Warning: skipping session with too few trials 36\n",
      "Warning: skipping session with too few trials 27\n",
      "Warning: skipping session with too few trials 39\n",
      "Warning: skipping session with too few trials 33\n",
      "Warning: skipping session with too few trials 32\n",
      "Warning: skipping session with too few trials 21\n",
      "Warning: skipping session with too few trials 26\n",
      "Warning: skipping session with too few trials 24\n",
      "Warning: skipping session with too few trials 34\n",
      "Warning, all sessions had too few trials, this mouse is skipped\n"
     ]
    },
    {
     "data": {
      "application/vnd.jupyter.widget-view+json": {
       "model_id": "f69cf447dbed4b348bb05763aa6f21fe",
       "version_major": 2,
       "version_minor": 0
      },
      "text/plain": [
       "IntProgress(value=0, description='mou_9', max=20)"
      ]
     },
     "metadata": {},
     "output_type": "display_data"
    },
    {
     "name": "stdout",
     "output_type": "stream",
     "text": [
      "Warning: skipping session with too few trials 29\n",
      "Warning: skipping session with too few trials 40\n",
      "Warning: skipping session with too few trials 41\n",
      "Warning: skipping session with too few trials 39\n",
      "Warning: skipping session with too few trials 29\n",
      "Warning: skipping session with too few trials 35\n",
      "Warning: skipping session with too few trials 27\n",
      "Warning: skipping session with too few trials 27\n",
      "Warning: skipping session with too few trials 31\n",
      "Warning: skipping session with too few trials 20\n",
      "Warning: skipping session with too few trials 40\n",
      "Warning: skipping session with too few trials 36\n",
      "Warning: skipping session with too few trials 27\n",
      "Warning: skipping session with too few trials 39\n",
      "Warning: skipping session with too few trials 33\n",
      "Warning: skipping session with too few trials 32\n",
      "Warning: skipping session with too few trials 21\n",
      "Warning: skipping session with too few trials 26\n",
      "Warning: skipping session with too few trials 24\n",
      "Warning: skipping session with too few trials 34\n",
      "Warning, all sessions had too few trials, this mouse is skipped\n"
     ]
    },
    {
     "data": {
      "application/vnd.jupyter.widget-view+json": {
       "model_id": "4a245f698e2b4d6883720aa67affa747",
       "version_major": 2,
       "version_minor": 0
      },
      "text/plain": [
       "IntProgress(value=0, description='mou_9', max=20)"
      ]
     },
     "metadata": {},
     "output_type": "display_data"
    },
    {
     "name": "stdout",
     "output_type": "stream",
     "text": [
      "Warning: skipping session with too few trials 29\n",
      "Warning: skipping session with too few trials 40\n",
      "Warning: skipping session with too few trials 41\n",
      "Warning: skipping session with too few trials 39\n",
      "Warning: skipping session with too few trials 29\n",
      "Warning: skipping session with too few trials 35\n",
      "Warning: skipping session with too few trials 27\n",
      "Warning: skipping session with too few trials 27\n",
      "Warning: skipping session with too few trials 31\n",
      "Warning: skipping session with too few trials 20\n",
      "Warning: skipping session with too few trials 40\n",
      "Warning: skipping session with too few trials 36\n",
      "Warning: skipping session with too few trials 27\n",
      "Warning: skipping session with too few trials 39\n",
      "Warning: skipping session with too few trials 33\n",
      "Warning: skipping session with too few trials 32\n",
      "Warning: skipping session with too few trials 21\n",
      "Warning: skipping session with too few trials 26\n",
      "Warning: skipping session with too few trials 24\n",
      "Warning: skipping session with too few trials 34\n",
      "Warning, all sessions had too few trials, this mouse is skipped\n"
     ]
    },
    {
     "data": {
      "application/vnd.jupyter.widget-view+json": {
       "model_id": "4fefaa7b697548f48a21b48744f67c0e",
       "version_major": 2,
       "version_minor": 0
      },
      "text/plain": [
       "IntProgress(value=0, description='mou_9', max=20)"
      ]
     },
     "metadata": {},
     "output_type": "display_data"
    },
    {
     "name": "stdout",
     "output_type": "stream",
     "text": [
      "Warning: skipping session with too few trials 29\n",
      "Warning: skipping session with too few trials 40\n",
      "Warning: skipping session with too few trials 41\n",
      "Warning: skipping session with too few trials 39\n",
      "Warning: skipping session with too few trials 29\n",
      "Warning: skipping session with too few trials 35\n",
      "Warning: skipping session with too few trials 27\n",
      "Warning: skipping session with too few trials 27\n",
      "Warning: skipping session with too few trials 31\n",
      "Warning: skipping session with too few trials 20\n",
      "Warning: skipping session with too few trials 40\n",
      "Warning: skipping session with too few trials 36\n",
      "Warning: skipping session with too few trials 27\n",
      "Warning: skipping session with too few trials 39\n",
      "Warning: skipping session with too few trials 33\n",
      "Warning: skipping session with too few trials 32\n",
      "Warning: skipping session with too few trials 21\n",
      "Warning: skipping session with too few trials 26\n",
      "Warning: skipping session with too few trials 24\n",
      "Warning: skipping session with too few trials 34\n",
      "Warning, all sessions had too few trials, this mouse is skipped\n"
     ]
    },
    {
     "data": {
      "application/vnd.jupyter.widget-view+json": {
       "model_id": "fe4b3b6ff7c1441a81ea41458edbaed3",
       "version_major": 2,
       "version_minor": 0
      },
      "text/plain": [
       "IntProgress(value=0, description='mou_9', max=20)"
      ]
     },
     "metadata": {},
     "output_type": "display_data"
    },
    {
     "name": "stdout",
     "output_type": "stream",
     "text": [
      "Warning: skipping session with too few trials 26\n",
      "Warning: skipping session with too few trials 40\n",
      "Warning: skipping session with too few trials 40\n",
      "Warning: skipping session with too few trials 45\n",
      "Warning: skipping session with too few trials 48\n"
     ]
    },
    {
     "data": {
      "application/vnd.jupyter.widget-view+json": {
       "model_id": "791d756660a04afe9a50791e0ab768cc",
       "version_major": 2,
       "version_minor": 0
      },
      "text/plain": [
       "IntProgress(value=0, description='mou_9', max=20)"
      ]
     },
     "metadata": {},
     "output_type": "display_data"
    },
    {
     "name": "stdout",
     "output_type": "stream",
     "text": [
      "Warning: skipping session with too few trials 26\n",
      "Warning: skipping session with too few trials 40\n",
      "Warning: skipping session with too few trials 40\n",
      "Warning: skipping session with too few trials 45\n",
      "Warning: skipping session with too few trials 48\n"
     ]
    },
    {
     "data": {
      "application/vnd.jupyter.widget-view+json": {
       "model_id": "67b42dd19eea4148b1f35db9770dc5c2",
       "version_major": 2,
       "version_minor": 0
      },
      "text/plain": [
       "IntProgress(value=0, description='mou_9', max=20)"
      ]
     },
     "metadata": {},
     "output_type": "display_data"
    },
    {
     "name": "stdout",
     "output_type": "stream",
     "text": [
      "Warning: skipping session with too few trials 26\n",
      "Warning: skipping session with too few trials 40\n",
      "Warning: skipping session with too few trials 40\n",
      "Warning: skipping session with too few trials 45\n",
      "Warning: skipping session with too few trials 48\n"
     ]
    },
    {
     "data": {
      "application/vnd.jupyter.widget-view+json": {
       "model_id": "c88259960a04476283f0523aeee576eb",
       "version_major": 2,
       "version_minor": 0
      },
      "text/plain": [
       "IntProgress(value=0, description='mou_9', max=20)"
      ]
     },
     "metadata": {},
     "output_type": "display_data"
    },
    {
     "name": "stdout",
     "output_type": "stream",
     "text": [
      "Warning: skipping session with too few trials 26\n",
      "Warning: skipping session with too few trials 40\n",
      "Warning: skipping session with too few trials 40\n",
      "Warning: skipping session with too few trials 45\n",
      "Warning: skipping session with too few trials 48\n"
     ]
    },
    {
     "data": {
      "application/vnd.jupyter.widget-view+json": {
       "model_id": "2042f092672c4eb7beb06b61624f8d06",
       "version_major": 2,
       "version_minor": 0
      },
      "text/plain": [
       "IntProgress(value=0, description='mou_9', max=20)"
      ]
     },
     "metadata": {},
     "output_type": "display_data"
    },
    {
     "name": "stdout",
     "output_type": "stream",
     "text": [
      "Warning: skipping session with too few trials 26\n",
      "Warning: skipping session with too few trials 40\n",
      "Warning: skipping session with too few trials 40\n",
      "Warning: skipping session with too few trials 45\n",
      "Warning: skipping session with too few trials 48\n"
     ]
    },
    {
     "data": {
      "application/vnd.jupyter.widget-view+json": {
       "model_id": "e49fb1cab4634265a57e52effbb92c91",
       "version_major": 2,
       "version_minor": 0
      },
      "text/plain": [
       "IntProgress(value=0, description='mou_9', max=20)"
      ]
     },
     "metadata": {},
     "output_type": "display_data"
    },
    {
     "data": {
      "application/vnd.jupyter.widget-view+json": {
       "model_id": "0d30847558b94cd0a3d6f9f35bd8ce08",
       "version_major": 2,
       "version_minor": 0
      },
      "text/plain": [
       "IntProgress(value=0, description='mou_9', max=20)"
      ]
     },
     "metadata": {},
     "output_type": "display_data"
    },
    {
     "data": {
      "application/vnd.jupyter.widget-view+json": {
       "model_id": "dbeedf4f540f4754a056c950ebccb584",
       "version_major": 2,
       "version_minor": 0
      },
      "text/plain": [
       "IntProgress(value=0, description='mou_9', max=20)"
      ]
     },
     "metadata": {},
     "output_type": "display_data"
    },
    {
     "data": {
      "application/vnd.jupyter.widget-view+json": {
       "model_id": "7913d09708d74b1a8d529b3b7427af82",
       "version_major": 2,
       "version_minor": 0
      },
      "text/plain": [
       "IntProgress(value=0, description='mou_9', max=20)"
      ]
     },
     "metadata": {},
     "output_type": "display_data"
    },
    {
     "data": {
      "application/vnd.jupyter.widget-view+json": {
       "model_id": "7d1435f32f0341379dcbe66573fcd9d8",
       "version_major": 2,
       "version_minor": 0
      },
      "text/plain": [
       "IntProgress(value=0, description='mou_9', max=20)"
      ]
     },
     "metadata": {},
     "output_type": "display_data"
    },
    {
     "data": {
      "application/vnd.jupyter.widget-view+json": {
       "model_id": "1427ef0ba14243d3b0c4a877539b4807",
       "version_major": 2,
       "version_minor": 0
      },
      "text/plain": [
       "IntProgress(value=0, description='mou_9', max=20)"
      ]
     },
     "metadata": {},
     "output_type": "display_data"
    },
    {
     "name": "stdout",
     "output_type": "stream",
     "text": [
      "Warning: skipping session with too few trials 29\n",
      "Warning: skipping session with too few trials 40\n",
      "Warning: skipping session with too few trials 41\n",
      "Warning: skipping session with too few trials 39\n",
      "Warning: skipping session with too few trials 29\n",
      "Warning: skipping session with too few trials 35\n",
      "Warning: skipping session with too few trials 27\n",
      "Warning: skipping session with too few trials 27\n",
      "Warning: skipping session with too few trials 31\n",
      "Warning: skipping session with too few trials 20\n",
      "Warning: skipping session with too few trials 40\n",
      "Warning: skipping session with too few trials 36\n",
      "Warning: skipping session with too few trials 27\n",
      "Warning: skipping session with too few trials 39\n",
      "Warning: skipping session with too few trials 33\n",
      "Warning: skipping session with too few trials 32\n",
      "Warning: skipping session with too few trials 21\n",
      "Warning: skipping session with too few trials 26\n",
      "Warning: skipping session with too few trials 24\n",
      "Warning: skipping session with too few trials 34\n",
      "Warning, all sessions had too few trials, this mouse is skipped\n"
     ]
    },
    {
     "data": {
      "application/vnd.jupyter.widget-view+json": {
       "model_id": "c6e523f4a70f4ed096e09f84f577b62c",
       "version_major": 2,
       "version_minor": 0
      },
      "text/plain": [
       "IntProgress(value=0, description='mou_9', max=20)"
      ]
     },
     "metadata": {},
     "output_type": "display_data"
    },
    {
     "name": "stdout",
     "output_type": "stream",
     "text": [
      "Warning: skipping session with too few trials 29\n",
      "Warning: skipping session with too few trials 40\n",
      "Warning: skipping session with too few trials 41\n",
      "Warning: skipping session with too few trials 39\n",
      "Warning: skipping session with too few trials 29\n",
      "Warning: skipping session with too few trials 35\n",
      "Warning: skipping session with too few trials 27\n",
      "Warning: skipping session with too few trials 27\n",
      "Warning: skipping session with too few trials 31\n",
      "Warning: skipping session with too few trials 20\n",
      "Warning: skipping session with too few trials 40\n",
      "Warning: skipping session with too few trials 36\n",
      "Warning: skipping session with too few trials 27\n",
      "Warning: skipping session with too few trials 39\n",
      "Warning: skipping session with too few trials 33\n",
      "Warning: skipping session with too few trials 32\n",
      "Warning: skipping session with too few trials 21\n",
      "Warning: skipping session with too few trials 26\n",
      "Warning: skipping session with too few trials 24\n",
      "Warning: skipping session with too few trials 34\n",
      "Warning, all sessions had too few trials, this mouse is skipped\n"
     ]
    },
    {
     "data": {
      "application/vnd.jupyter.widget-view+json": {
       "model_id": "9ead6e4df66e4e268184a69f875cc596",
       "version_major": 2,
       "version_minor": 0
      },
      "text/plain": [
       "IntProgress(value=0, description='mou_9', max=20)"
      ]
     },
     "metadata": {},
     "output_type": "display_data"
    },
    {
     "name": "stdout",
     "output_type": "stream",
     "text": [
      "Warning: skipping session with too few trials 29\n",
      "Warning: skipping session with too few trials 40\n",
      "Warning: skipping session with too few trials 41\n",
      "Warning: skipping session with too few trials 39\n",
      "Warning: skipping session with too few trials 29\n",
      "Warning: skipping session with too few trials 35\n",
      "Warning: skipping session with too few trials 27\n",
      "Warning: skipping session with too few trials 27\n",
      "Warning: skipping session with too few trials 31\n",
      "Warning: skipping session with too few trials 20\n",
      "Warning: skipping session with too few trials 40\n",
      "Warning: skipping session with too few trials 36\n",
      "Warning: skipping session with too few trials 27\n",
      "Warning: skipping session with too few trials 39\n",
      "Warning: skipping session with too few trials 33\n",
      "Warning: skipping session with too few trials 32\n",
      "Warning: skipping session with too few trials 21\n",
      "Warning: skipping session with too few trials 26\n",
      "Warning: skipping session with too few trials 24\n",
      "Warning: skipping session with too few trials 34\n",
      "Warning, all sessions had too few trials, this mouse is skipped\n"
     ]
    },
    {
     "data": {
      "application/vnd.jupyter.widget-view+json": {
       "model_id": "fec6d517488b45d1acc0e7caee99e98b",
       "version_major": 2,
       "version_minor": 0
      },
      "text/plain": [
       "IntProgress(value=0, description='mou_9', max=20)"
      ]
     },
     "metadata": {},
     "output_type": "display_data"
    },
    {
     "name": "stdout",
     "output_type": "stream",
     "text": [
      "Warning: skipping session with too few trials 29\n",
      "Warning: skipping session with too few trials 40\n",
      "Warning: skipping session with too few trials 41\n",
      "Warning: skipping session with too few trials 39\n",
      "Warning: skipping session with too few trials 29\n",
      "Warning: skipping session with too few trials 35\n",
      "Warning: skipping session with too few trials 27\n",
      "Warning: skipping session with too few trials 27\n",
      "Warning: skipping session with too few trials 31\n",
      "Warning: skipping session with too few trials 20\n",
      "Warning: skipping session with too few trials 40\n",
      "Warning: skipping session with too few trials 36\n",
      "Warning: skipping session with too few trials 27\n",
      "Warning: skipping session with too few trials 39\n",
      "Warning: skipping session with too few trials 33\n",
      "Warning: skipping session with too few trials 32\n",
      "Warning: skipping session with too few trials 21\n",
      "Warning: skipping session with too few trials 26\n",
      "Warning: skipping session with too few trials 24\n",
      "Warning: skipping session with too few trials 34\n",
      "Warning, all sessions had too few trials, this mouse is skipped\n"
     ]
    },
    {
     "data": {
      "application/vnd.jupyter.widget-view+json": {
       "model_id": "eb9e588cf0284f3e84051956166038b5",
       "version_major": 2,
       "version_minor": 0
      },
      "text/plain": [
       "IntProgress(value=0, description='mou_9', max=20)"
      ]
     },
     "metadata": {},
     "output_type": "display_data"
    },
    {
     "name": "stdout",
     "output_type": "stream",
     "text": [
      "Warning: skipping session with too few trials 29\n",
      "Warning: skipping session with too few trials 40\n",
      "Warning: skipping session with too few trials 41\n",
      "Warning: skipping session with too few trials 39\n",
      "Warning: skipping session with too few trials 29\n",
      "Warning: skipping session with too few trials 35\n",
      "Warning: skipping session with too few trials 27\n",
      "Warning: skipping session with too few trials 27\n",
      "Warning: skipping session with too few trials 31\n",
      "Warning: skipping session with too few trials 20\n",
      "Warning: skipping session with too few trials 40\n",
      "Warning: skipping session with too few trials 36\n",
      "Warning: skipping session with too few trials 27\n",
      "Warning: skipping session with too few trials 39\n",
      "Warning: skipping session with too few trials 33\n",
      "Warning: skipping session with too few trials 32\n",
      "Warning: skipping session with too few trials 21\n",
      "Warning: skipping session with too few trials 26\n",
      "Warning: skipping session with too few trials 24\n",
      "Warning: skipping session with too few trials 34\n",
      "Warning, all sessions had too few trials, this mouse is skipped\n"
     ]
    },
    {
     "data": {
      "application/vnd.jupyter.widget-view+json": {
       "model_id": "14a8d53fde5141019f5157e526aa60c7",
       "version_major": 2,
       "version_minor": 0
      },
      "text/plain": [
       "IntProgress(value=0, description='mou_9', max=20)"
      ]
     },
     "metadata": {},
     "output_type": "display_data"
    },
    {
     "name": "stdout",
     "output_type": "stream",
     "text": [
      "Warning: skipping session with too few trials 26\n",
      "Warning: skipping session with too few trials 40\n",
      "Warning: skipping session with too few trials 40\n",
      "Warning: skipping session with too few trials 45\n",
      "Warning: skipping session with too few trials 48\n"
     ]
    },
    {
     "data": {
      "application/vnd.jupyter.widget-view+json": {
       "model_id": "4abec598e3c04144aa07d8e6938deb8f",
       "version_major": 2,
       "version_minor": 0
      },
      "text/plain": [
       "IntProgress(value=0, description='mou_9', max=20)"
      ]
     },
     "metadata": {},
     "output_type": "display_data"
    },
    {
     "name": "stdout",
     "output_type": "stream",
     "text": [
      "Warning: skipping session with too few trials 26\n",
      "Warning: skipping session with too few trials 40\n",
      "Warning: skipping session with too few trials 40\n",
      "Warning: skipping session with too few trials 45\n",
      "Warning: skipping session with too few trials 48\n"
     ]
    },
    {
     "data": {
      "application/vnd.jupyter.widget-view+json": {
       "model_id": "2a33700630aa49a8a88c57ba3f884171",
       "version_major": 2,
       "version_minor": 0
      },
      "text/plain": [
       "IntProgress(value=0, description='mou_9', max=20)"
      ]
     },
     "metadata": {},
     "output_type": "display_data"
    },
    {
     "name": "stdout",
     "output_type": "stream",
     "text": [
      "Warning: skipping session with too few trials 26\n",
      "Warning: skipping session with too few trials 40\n",
      "Warning: skipping session with too few trials 40\n",
      "Warning: skipping session with too few trials 45\n",
      "Warning: skipping session with too few trials 48\n"
     ]
    },
    {
     "data": {
      "application/vnd.jupyter.widget-view+json": {
       "model_id": "c98de42b346f4616ac897793f2d98629",
       "version_major": 2,
       "version_minor": 0
      },
      "text/plain": [
       "IntProgress(value=0, description='mou_9', max=20)"
      ]
     },
     "metadata": {},
     "output_type": "display_data"
    },
    {
     "name": "stdout",
     "output_type": "stream",
     "text": [
      "Warning: skipping session with too few trials 26\n",
      "Warning: skipping session with too few trials 40\n",
      "Warning: skipping session with too few trials 40\n",
      "Warning: skipping session with too few trials 45\n",
      "Warning: skipping session with too few trials 48\n"
     ]
    },
    {
     "data": {
      "application/vnd.jupyter.widget-view+json": {
       "model_id": "d57683b409bf49689ffae83ba66c9b09",
       "version_major": 2,
       "version_minor": 0
      },
      "text/plain": [
       "IntProgress(value=0, description='mou_9', max=20)"
      ]
     },
     "metadata": {},
     "output_type": "display_data"
    },
    {
     "name": "stdout",
     "output_type": "stream",
     "text": [
      "Warning: skipping session with too few trials 26\n",
      "Warning: skipping session with too few trials 40\n",
      "Warning: skipping session with too few trials 40\n",
      "Warning: skipping session with too few trials 45\n",
      "Warning: skipping session with too few trials 48\n"
     ]
    },
    {
     "data": {
      "application/vnd.jupyter.widget-view+json": {
       "model_id": "455c5bed843545ac9b097b22e9f10911",
       "version_major": 2,
       "version_minor": 0
      },
      "text/plain": [
       "IntProgress(value=0, description='mou_9', max=20)"
      ]
     },
     "metadata": {},
     "output_type": "display_data"
    },
    {
     "data": {
      "application/vnd.jupyter.widget-view+json": {
       "model_id": "7981489b60bd410eb8e073e1a0fc8066",
       "version_major": 2,
       "version_minor": 0
      },
      "text/plain": [
       "IntProgress(value=0, description='mou_9', max=20)"
      ]
     },
     "metadata": {},
     "output_type": "display_data"
    },
    {
     "data": {
      "application/vnd.jupyter.widget-view+json": {
       "model_id": "e552eb48fad04856a87fb609055ce390",
       "version_major": 2,
       "version_minor": 0
      },
      "text/plain": [
       "IntProgress(value=0, description='mou_9', max=20)"
      ]
     },
     "metadata": {},
     "output_type": "display_data"
    },
    {
     "data": {
      "application/vnd.jupyter.widget-view+json": {
       "model_id": "95606b668a394d4a83a5e7ba0a818f52",
       "version_major": 2,
       "version_minor": 0
      },
      "text/plain": [
       "IntProgress(value=0, description='mou_9', max=20)"
      ]
     },
     "metadata": {},
     "output_type": "display_data"
    },
    {
     "data": {
      "application/vnd.jupyter.widget-view+json": {
       "model_id": "78591afe727c4bd08b3c9bed326ae80f",
       "version_major": 2,
       "version_minor": 0
      },
      "text/plain": [
       "IntProgress(value=0, description='mou_9', max=20)"
      ]
     },
     "metadata": {},
     "output_type": "display_data"
    },
    {
     "name": "stdout",
     "output_type": "stream",
     "text": [
      "Warning: skipping session with too few trials 29\n",
      "Warning: skipping session with too few trials 40\n",
      "Warning: skipping session with too few trials 41\n",
      "Warning: skipping session with too few trials 39\n",
      "Warning: skipping session with too few trials 29\n",
      "Warning: skipping session with too few trials 35\n",
      "Warning: skipping session with too few trials 27\n",
      "Warning: skipping session with too few trials 27\n",
      "Warning: skipping session with too few trials 31\n",
      "Warning: skipping session with too few trials 20\n",
      "Warning: skipping session with too few trials 40\n",
      "Warning: skipping session with too few trials 36\n",
      "Warning: skipping session with too few trials 27\n",
      "Warning: skipping session with too few trials 39\n",
      "Warning: skipping session with too few trials 33\n",
      "Warning: skipping session with too few trials 32\n",
      "Warning: skipping session with too few trials 21\n",
      "Warning: skipping session with too few trials 26\n",
      "Warning: skipping session with too few trials 24\n",
      "Warning: skipping session with too few trials 34\n",
      "Warning, all sessions had too few trials, this mouse is skipped\n"
     ]
    },
    {
     "data": {
      "application/vnd.jupyter.widget-view+json": {
       "model_id": "cef0f023f1ed440f9fd21bd472d8e8fa",
       "version_major": 2,
       "version_minor": 0
      },
      "text/plain": [
       "IntProgress(value=0, description='mou_9', max=20)"
      ]
     },
     "metadata": {},
     "output_type": "display_data"
    },
    {
     "name": "stdout",
     "output_type": "stream",
     "text": [
      "Warning: skipping session with too few trials 29\n",
      "Warning: skipping session with too few trials 40\n",
      "Warning: skipping session with too few trials 41\n",
      "Warning: skipping session with too few trials 39\n",
      "Warning: skipping session with too few trials 29\n",
      "Warning: skipping session with too few trials 35\n",
      "Warning: skipping session with too few trials 27\n",
      "Warning: skipping session with too few trials 27\n",
      "Warning: skipping session with too few trials 31\n",
      "Warning: skipping session with too few trials 20\n",
      "Warning: skipping session with too few trials 40\n",
      "Warning: skipping session with too few trials 36\n",
      "Warning: skipping session with too few trials 27\n",
      "Warning: skipping session with too few trials 39\n",
      "Warning: skipping session with too few trials 33\n",
      "Warning: skipping session with too few trials 32\n",
      "Warning: skipping session with too few trials 21\n",
      "Warning: skipping session with too few trials 26\n",
      "Warning: skipping session with too few trials 24\n",
      "Warning: skipping session with too few trials 34\n",
      "Warning, all sessions had too few trials, this mouse is skipped\n"
     ]
    },
    {
     "data": {
      "application/vnd.jupyter.widget-view+json": {
       "model_id": "e65065777dd24fd8900fde41126421fd",
       "version_major": 2,
       "version_minor": 0
      },
      "text/plain": [
       "IntProgress(value=0, description='mou_9', max=20)"
      ]
     },
     "metadata": {},
     "output_type": "display_data"
    },
    {
     "name": "stdout",
     "output_type": "stream",
     "text": [
      "Warning: skipping session with too few trials 29\n",
      "Warning: skipping session with too few trials 40\n",
      "Warning: skipping session with too few trials 41\n",
      "Warning: skipping session with too few trials 39\n",
      "Warning: skipping session with too few trials 29\n",
      "Warning: skipping session with too few trials 35\n",
      "Warning: skipping session with too few trials 27\n",
      "Warning: skipping session with too few trials 27\n",
      "Warning: skipping session with too few trials 31\n",
      "Warning: skipping session with too few trials 20\n",
      "Warning: skipping session with too few trials 40\n",
      "Warning: skipping session with too few trials 36\n",
      "Warning: skipping session with too few trials 27\n",
      "Warning: skipping session with too few trials 39\n",
      "Warning: skipping session with too few trials 33\n",
      "Warning: skipping session with too few trials 32\n",
      "Warning: skipping session with too few trials 21\n",
      "Warning: skipping session with too few trials 26\n",
      "Warning: skipping session with too few trials 24\n",
      "Warning: skipping session with too few trials 34\n",
      "Warning, all sessions had too few trials, this mouse is skipped\n"
     ]
    },
    {
     "data": {
      "application/vnd.jupyter.widget-view+json": {
       "model_id": "29063101959f4738a7df75173a9740c0",
       "version_major": 2,
       "version_minor": 0
      },
      "text/plain": [
       "IntProgress(value=0, description='mou_9', max=20)"
      ]
     },
     "metadata": {},
     "output_type": "display_data"
    },
    {
     "name": "stdout",
     "output_type": "stream",
     "text": [
      "Warning: skipping session with too few trials 29\n",
      "Warning: skipping session with too few trials 40\n",
      "Warning: skipping session with too few trials 41\n",
      "Warning: skipping session with too few trials 39\n",
      "Warning: skipping session with too few trials 29\n",
      "Warning: skipping session with too few trials 35\n",
      "Warning: skipping session with too few trials 27\n",
      "Warning: skipping session with too few trials 27\n",
      "Warning: skipping session with too few trials 31\n",
      "Warning: skipping session with too few trials 20\n",
      "Warning: skipping session with too few trials 40\n",
      "Warning: skipping session with too few trials 36\n",
      "Warning: skipping session with too few trials 27\n",
      "Warning: skipping session with too few trials 39\n",
      "Warning: skipping session with too few trials 33\n",
      "Warning: skipping session with too few trials 32\n",
      "Warning: skipping session with too few trials 21\n",
      "Warning: skipping session with too few trials 26\n",
      "Warning: skipping session with too few trials 24\n",
      "Warning: skipping session with too few trials 34\n",
      "Warning, all sessions had too few trials, this mouse is skipped\n"
     ]
    },
    {
     "data": {
      "application/vnd.jupyter.widget-view+json": {
       "model_id": "bebc886a805647d8b122149d5153bfff",
       "version_major": 2,
       "version_minor": 0
      },
      "text/plain": [
       "IntProgress(value=0, description='mou_9', max=20)"
      ]
     },
     "metadata": {},
     "output_type": "display_data"
    },
    {
     "name": "stdout",
     "output_type": "stream",
     "text": [
      "Warning: skipping session with too few trials 26\n",
      "Warning: skipping session with too few trials 40\n",
      "Warning: skipping session with too few trials 40\n",
      "Warning: skipping session with too few trials 45\n",
      "Warning: skipping session with too few trials 48\n"
     ]
    },
    {
     "data": {
      "application/vnd.jupyter.widget-view+json": {
       "model_id": "f3cbfc71282445bd900cb60fef5a0bfa",
       "version_major": 2,
       "version_minor": 0
      },
      "text/plain": [
       "IntProgress(value=0, description='mou_9', max=20)"
      ]
     },
     "metadata": {},
     "output_type": "display_data"
    },
    {
     "name": "stdout",
     "output_type": "stream",
     "text": [
      "Warning: skipping session with too few trials 26\n",
      "Warning: skipping session with too few trials 40\n",
      "Warning: skipping session with too few trials 40\n",
      "Warning: skipping session with too few trials 45\n",
      "Warning: skipping session with too few trials 48\n"
     ]
    },
    {
     "data": {
      "application/vnd.jupyter.widget-view+json": {
       "model_id": "8950c20ab2d54a298b804bc10c9dca04",
       "version_major": 2,
       "version_minor": 0
      },
      "text/plain": [
       "IntProgress(value=0, description='mou_9', max=20)"
      ]
     },
     "metadata": {},
     "output_type": "display_data"
    },
    {
     "name": "stdout",
     "output_type": "stream",
     "text": [
      "Warning: skipping session with too few trials 26\n",
      "Warning: skipping session with too few trials 40\n",
      "Warning: skipping session with too few trials 40\n",
      "Warning: skipping session with too few trials 45\n",
      "Warning: skipping session with too few trials 48\n"
     ]
    },
    {
     "data": {
      "application/vnd.jupyter.widget-view+json": {
       "model_id": "3d8aafb40e2b4982a294c423e38c0c78",
       "version_major": 2,
       "version_minor": 0
      },
      "text/plain": [
       "IntProgress(value=0, description='mou_9', max=20)"
      ]
     },
     "metadata": {},
     "output_type": "display_data"
    },
    {
     "name": "stdout",
     "output_type": "stream",
     "text": [
      "Warning: skipping session with too few trials 26\n",
      "Warning: skipping session with too few trials 40\n",
      "Warning: skipping session with too few trials 40\n",
      "Warning: skipping session with too few trials 45\n",
      "Warning: skipping session with too few trials 48\n"
     ]
    },
    {
     "data": {
      "application/vnd.jupyter.widget-view+json": {
       "model_id": "e8d09310682c4e92954a2505b85f4686",
       "version_major": 2,
       "version_minor": 0
      },
      "text/plain": [
       "IntProgress(value=0, description='mou_7', max=36)"
      ]
     },
     "metadata": {},
     "output_type": "display_data"
    },
    {
     "data": {
      "application/vnd.jupyter.widget-view+json": {
       "model_id": "e9d7cf843193420e9266fbd3ea4f5981",
       "version_major": 2,
       "version_minor": 0
      },
      "text/plain": [
       "IntProgress(value=0, description='mou_7', max=36)"
      ]
     },
     "metadata": {},
     "output_type": "display_data"
    },
    {
     "data": {
      "application/vnd.jupyter.widget-view+json": {
       "model_id": "3740cbf6fe8640bd9624543bcb16565f",
       "version_major": 2,
       "version_minor": 0
      },
      "text/plain": [
       "IntProgress(value=0, description='mou_7', max=36)"
      ]
     },
     "metadata": {},
     "output_type": "display_data"
    },
    {
     "data": {
      "application/vnd.jupyter.widget-view+json": {
       "model_id": "5ba5b29140d24808bab9dfcab2454bfd",
       "version_major": 2,
       "version_minor": 0
      },
      "text/plain": [
       "IntProgress(value=0, description='mou_7', max=36)"
      ]
     },
     "metadata": {},
     "output_type": "display_data"
    },
    {
     "data": {
      "application/vnd.jupyter.widget-view+json": {
       "model_id": "fb09e6268d294f279b18dc8adeb5dd01",
       "version_major": 2,
       "version_minor": 0
      },
      "text/plain": [
       "IntProgress(value=0, description='mou_7', max=36)"
      ]
     },
     "metadata": {},
     "output_type": "display_data"
    },
    {
     "data": {
      "application/vnd.jupyter.widget-view+json": {
       "model_id": "9e8e9f86f1af4e30ad70665198e2a32f",
       "version_major": 2,
       "version_minor": 0
      },
      "text/plain": [
       "IntProgress(value=0, description='mou_7', max=36)"
      ]
     },
     "metadata": {},
     "output_type": "display_data"
    },
    {
     "name": "stdout",
     "output_type": "stream",
     "text": [
      "Warning: skipping session with too few trials 29\n",
      "Warning: skipping session with too few trials 30\n",
      "Warning: skipping session with too few trials 19\n",
      "Warning: skipping session with too few trials 40\n",
      "Warning: skipping session with too few trials 30\n",
      "Warning: skipping session with too few trials 34\n",
      "Warning: skipping session with too few trials 36\n",
      "Warning: skipping session with too few trials 19\n",
      "Warning: skipping session with too few trials 22\n",
      "Warning: skipping session with too few trials 9\n",
      "Warning: skipping session with too few trials 22\n",
      "Warning: skipping session with too few trials 20\n",
      "Warning: skipping session with too few trials 17\n",
      "Warning: skipping session with too few trials 29\n",
      "Warning: skipping session with too few trials 37\n",
      "Warning: skipping session with too few trials 41\n",
      "Warning: skipping session with too few trials 17\n",
      "Warning: skipping session with too few trials 19\n",
      "Warning: skipping session with too few trials 46\n",
      "Warning: skipping session with too few trials 26\n",
      "Warning: skipping session with too few trials 15\n",
      "Warning: skipping session with too few trials 33\n",
      "Warning: skipping session with too few trials 17\n",
      "Warning: skipping session with too few trials 18\n",
      "Warning: skipping session with too few trials 6\n",
      "Warning: skipping session with too few trials 34\n",
      "Warning: skipping session with too few trials 22\n",
      "Warning: skipping session with too few trials 16\n",
      "Warning: skipping session with too few trials 33\n",
      "Warning: skipping session with too few trials 32\n",
      "Warning: skipping session with too few trials 35\n",
      "Warning: skipping session with too few trials 9\n",
      "Warning: skipping session with too few trials 22\n",
      "Warning: skipping session with too few trials 31\n",
      "Warning: skipping session with too few trials 34\n"
     ]
    },
    {
     "data": {
      "application/vnd.jupyter.widget-view+json": {
       "model_id": "3c7da3f1eb574748beadc126834667ac",
       "version_major": 2,
       "version_minor": 0
      },
      "text/plain": [
       "IntProgress(value=0, description='mou_7', max=36)"
      ]
     },
     "metadata": {},
     "output_type": "display_data"
    },
    {
     "name": "stdout",
     "output_type": "stream",
     "text": [
      "Warning: skipping session with too few trials 29\n",
      "Warning: skipping session with too few trials 30\n",
      "Warning: skipping session with too few trials 19\n",
      "Warning: skipping session with too few trials 40\n",
      "Warning: skipping session with too few trials 30\n",
      "Warning: skipping session with too few trials 34\n",
      "Warning: skipping session with too few trials 36\n",
      "Warning: skipping session with too few trials 19\n",
      "Warning: skipping session with too few trials 22\n",
      "Warning: skipping session with too few trials 9\n",
      "Warning: skipping session with too few trials 22\n",
      "Warning: skipping session with too few trials 20\n",
      "Warning: skipping session with too few trials 17\n",
      "Warning: skipping session with too few trials 29\n",
      "Warning: skipping session with too few trials 37\n",
      "Warning: skipping session with too few trials 41\n",
      "Warning: skipping session with too few trials 17\n",
      "Warning: skipping session with too few trials 19\n",
      "Warning: skipping session with too few trials 46\n",
      "Warning: skipping session with too few trials 26\n",
      "Warning: skipping session with too few trials 15\n",
      "Warning: skipping session with too few trials 33\n",
      "Warning: skipping session with too few trials 17\n",
      "Warning: skipping session with too few trials 18\n",
      "Warning: skipping session with too few trials 6\n",
      "Warning: skipping session with too few trials 34\n",
      "Warning: skipping session with too few trials 22\n",
      "Warning: skipping session with too few trials 16\n",
      "Warning: skipping session with too few trials 33\n",
      "Warning: skipping session with too few trials 32\n",
      "Warning: skipping session with too few trials 35\n",
      "Warning: skipping session with too few trials 9\n",
      "Warning: skipping session with too few trials 22\n",
      "Warning: skipping session with too few trials 31\n",
      "Warning: skipping session with too few trials 34\n"
     ]
    },
    {
     "data": {
      "application/vnd.jupyter.widget-view+json": {
       "model_id": "4e1784cf26ff49efb868cf96c99fe1e7",
       "version_major": 2,
       "version_minor": 0
      },
      "text/plain": [
       "IntProgress(value=0, description='mou_7', max=36)"
      ]
     },
     "metadata": {},
     "output_type": "display_data"
    },
    {
     "name": "stdout",
     "output_type": "stream",
     "text": [
      "Warning: skipping session with too few trials 29\n",
      "Warning: skipping session with too few trials 30\n",
      "Warning: skipping session with too few trials 19\n",
      "Warning: skipping session with too few trials 40\n",
      "Warning: skipping session with too few trials 30\n",
      "Warning: skipping session with too few trials 34\n",
      "Warning: skipping session with too few trials 36\n",
      "Warning: skipping session with too few trials 19\n",
      "Warning: skipping session with too few trials 22\n",
      "Warning: skipping session with too few trials 9\n",
      "Warning: skipping session with too few trials 22\n",
      "Warning: skipping session with too few trials 20\n",
      "Warning: skipping session with too few trials 17\n",
      "Warning: skipping session with too few trials 29\n",
      "Warning: skipping session with too few trials 37\n",
      "Warning: skipping session with too few trials 41\n",
      "Warning: skipping session with too few trials 17\n",
      "Warning: skipping session with too few trials 19\n",
      "Warning: skipping session with too few trials 46\n",
      "Warning: skipping session with too few trials 26\n",
      "Warning: skipping session with too few trials 15\n",
      "Warning: skipping session with too few trials 33\n",
      "Warning: skipping session with too few trials 17\n",
      "Warning: skipping session with too few trials 18\n",
      "Warning: skipping session with too few trials 6\n",
      "Warning: skipping session with too few trials 34\n",
      "Warning: skipping session with too few trials 22\n",
      "Warning: skipping session with too few trials 16\n",
      "Warning: skipping session with too few trials 33\n",
      "Warning: skipping session with too few trials 32\n",
      "Warning: skipping session with too few trials 35\n",
      "Warning: skipping session with too few trials 9\n",
      "Warning: skipping session with too few trials 22\n",
      "Warning: skipping session with too few trials 31\n",
      "Warning: skipping session with too few trials 34\n"
     ]
    },
    {
     "data": {
      "application/vnd.jupyter.widget-view+json": {
       "model_id": "e0c8e3a0b20841298ae53d897527c627",
       "version_major": 2,
       "version_minor": 0
      },
      "text/plain": [
       "IntProgress(value=0, description='mou_7', max=36)"
      ]
     },
     "metadata": {},
     "output_type": "display_data"
    },
    {
     "name": "stdout",
     "output_type": "stream",
     "text": [
      "Warning: skipping session with too few trials 29\n",
      "Warning: skipping session with too few trials 30\n",
      "Warning: skipping session with too few trials 19\n",
      "Warning: skipping session with too few trials 40\n",
      "Warning: skipping session with too few trials 30\n",
      "Warning: skipping session with too few trials 34\n",
      "Warning: skipping session with too few trials 36\n",
      "Warning: skipping session with too few trials 19\n",
      "Warning: skipping session with too few trials 22\n",
      "Warning: skipping session with too few trials 9\n",
      "Warning: skipping session with too few trials 22\n",
      "Warning: skipping session with too few trials 20\n",
      "Warning: skipping session with too few trials 17\n",
      "Warning: skipping session with too few trials 29\n",
      "Warning: skipping session with too few trials 37\n",
      "Warning: skipping session with too few trials 41\n",
      "Warning: skipping session with too few trials 17\n",
      "Warning: skipping session with too few trials 19\n",
      "Warning: skipping session with too few trials 46\n",
      "Warning: skipping session with too few trials 26\n",
      "Warning: skipping session with too few trials 15\n",
      "Warning: skipping session with too few trials 33\n",
      "Warning: skipping session with too few trials 17\n",
      "Warning: skipping session with too few trials 18\n",
      "Warning: skipping session with too few trials 6\n",
      "Warning: skipping session with too few trials 34\n",
      "Warning: skipping session with too few trials 22\n",
      "Warning: skipping session with too few trials 16\n",
      "Warning: skipping session with too few trials 33\n",
      "Warning: skipping session with too few trials 32\n",
      "Warning: skipping session with too few trials 35\n",
      "Warning: skipping session with too few trials 9\n",
      "Warning: skipping session with too few trials 22\n",
      "Warning: skipping session with too few trials 31\n",
      "Warning: skipping session with too few trials 34\n"
     ]
    },
    {
     "data": {
      "application/vnd.jupyter.widget-view+json": {
       "model_id": "e329537d423f49bb94395d77e531321d",
       "version_major": 2,
       "version_minor": 0
      },
      "text/plain": [
       "IntProgress(value=0, description='mou_7', max=36)"
      ]
     },
     "metadata": {},
     "output_type": "display_data"
    },
    {
     "name": "stdout",
     "output_type": "stream",
     "text": [
      "Warning: skipping session with too few trials 29\n",
      "Warning: skipping session with too few trials 30\n",
      "Warning: skipping session with too few trials 19\n",
      "Warning: skipping session with too few trials 40\n",
      "Warning: skipping session with too few trials 30\n",
      "Warning: skipping session with too few trials 34\n",
      "Warning: skipping session with too few trials 36\n",
      "Warning: skipping session with too few trials 19\n",
      "Warning: skipping session with too few trials 22\n",
      "Warning: skipping session with too few trials 9\n",
      "Warning: skipping session with too few trials 22\n",
      "Warning: skipping session with too few trials 20\n",
      "Warning: skipping session with too few trials 17\n",
      "Warning: skipping session with too few trials 29\n",
      "Warning: skipping session with too few trials 37\n",
      "Warning: skipping session with too few trials 41\n",
      "Warning: skipping session with too few trials 17\n",
      "Warning: skipping session with too few trials 19\n",
      "Warning: skipping session with too few trials 46\n",
      "Warning: skipping session with too few trials 26\n",
      "Warning: skipping session with too few trials 15\n",
      "Warning: skipping session with too few trials 33\n",
      "Warning: skipping session with too few trials 17\n",
      "Warning: skipping session with too few trials 18\n",
      "Warning: skipping session with too few trials 6\n",
      "Warning: skipping session with too few trials 34\n",
      "Warning: skipping session with too few trials 22\n",
      "Warning: skipping session with too few trials 16\n",
      "Warning: skipping session with too few trials 33\n",
      "Warning: skipping session with too few trials 32\n",
      "Warning: skipping session with too few trials 35\n",
      "Warning: skipping session with too few trials 9\n",
      "Warning: skipping session with too few trials 22\n",
      "Warning: skipping session with too few trials 31\n",
      "Warning: skipping session with too few trials 34\n"
     ]
    },
    {
     "data": {
      "application/vnd.jupyter.widget-view+json": {
       "model_id": "76ed6831cec84cabba01e1292dbd1399",
       "version_major": 2,
       "version_minor": 0
      },
      "text/plain": [
       "IntProgress(value=0, description='mou_7', max=36)"
      ]
     },
     "metadata": {},
     "output_type": "display_data"
    },
    {
     "name": "stdout",
     "output_type": "stream",
     "text": [
      "Warning: skipping session with too few trials 26\n",
      "Warning: skipping session with too few trials 37\n",
      "Warning: skipping session with too few trials 25\n",
      "Warning: skipping session with too few trials 38\n",
      "Warning: skipping session with too few trials 37\n",
      "Warning: skipping session with too few trials 49\n",
      "Warning: skipping session with too few trials 46\n",
      "Warning: skipping session with too few trials 23\n",
      "Warning: skipping session with too few trials 39\n",
      "Warning: skipping session with too few trials 43\n",
      "Warning: skipping session with too few trials 44\n",
      "Warning: skipping session with too few trials 48\n",
      "Warning: skipping session with too few trials 41\n",
      "Warning: skipping session with too few trials 38\n"
     ]
    },
    {
     "data": {
      "application/vnd.jupyter.widget-view+json": {
       "model_id": "1769e8b3a7ed4c40b1aeabd16cec0115",
       "version_major": 2,
       "version_minor": 0
      },
      "text/plain": [
       "IntProgress(value=0, description='mou_7', max=36)"
      ]
     },
     "metadata": {},
     "output_type": "display_data"
    },
    {
     "name": "stdout",
     "output_type": "stream",
     "text": [
      "Warning: skipping session with too few trials 26\n",
      "Warning: skipping session with too few trials 37\n",
      "Warning: skipping session with too few trials 25\n",
      "Warning: skipping session with too few trials 38\n",
      "Warning: skipping session with too few trials 37\n",
      "Warning: skipping session with too few trials 49\n",
      "Warning: skipping session with too few trials 46\n",
      "Warning: skipping session with too few trials 23\n",
      "Warning: skipping session with too few trials 39\n",
      "Warning: skipping session with too few trials 43\n",
      "Warning: skipping session with too few trials 44\n",
      "Warning: skipping session with too few trials 48\n",
      "Warning: skipping session with too few trials 41\n",
      "Warning: skipping session with too few trials 38\n"
     ]
    },
    {
     "data": {
      "application/vnd.jupyter.widget-view+json": {
       "model_id": "16503c71741741039d2424fe24540398",
       "version_major": 2,
       "version_minor": 0
      },
      "text/plain": [
       "IntProgress(value=0, description='mou_7', max=36)"
      ]
     },
     "metadata": {},
     "output_type": "display_data"
    },
    {
     "name": "stdout",
     "output_type": "stream",
     "text": [
      "Warning: skipping session with too few trials 26\n",
      "Warning: skipping session with too few trials 37\n",
      "Warning: skipping session with too few trials 25\n",
      "Warning: skipping session with too few trials 38\n",
      "Warning: skipping session with too few trials 37\n",
      "Warning: skipping session with too few trials 49\n",
      "Warning: skipping session with too few trials 46\n",
      "Warning: skipping session with too few trials 23\n",
      "Warning: skipping session with too few trials 39\n",
      "Warning: skipping session with too few trials 43\n",
      "Warning: skipping session with too few trials 44\n",
      "Warning: skipping session with too few trials 48\n",
      "Warning: skipping session with too few trials 41\n",
      "Warning: skipping session with too few trials 38\n"
     ]
    },
    {
     "data": {
      "application/vnd.jupyter.widget-view+json": {
       "model_id": "a3d9be1736104c5cbd982e0e59a0267c",
       "version_major": 2,
       "version_minor": 0
      },
      "text/plain": [
       "IntProgress(value=0, description='mou_7', max=36)"
      ]
     },
     "metadata": {},
     "output_type": "display_data"
    },
    {
     "name": "stdout",
     "output_type": "stream",
     "text": [
      "Warning: skipping session with too few trials 26\n",
      "Warning: skipping session with too few trials 37\n",
      "Warning: skipping session with too few trials 25\n",
      "Warning: skipping session with too few trials 38\n",
      "Warning: skipping session with too few trials 37\n",
      "Warning: skipping session with too few trials 49\n",
      "Warning: skipping session with too few trials 46\n",
      "Warning: skipping session with too few trials 23\n",
      "Warning: skipping session with too few trials 39\n",
      "Warning: skipping session with too few trials 43\n",
      "Warning: skipping session with too few trials 44\n",
      "Warning: skipping session with too few trials 48\n",
      "Warning: skipping session with too few trials 41\n",
      "Warning: skipping session with too few trials 38\n"
     ]
    },
    {
     "data": {
      "application/vnd.jupyter.widget-view+json": {
       "model_id": "3baa7e5c7bf045598b87e80b8291a19d",
       "version_major": 2,
       "version_minor": 0
      },
      "text/plain": [
       "IntProgress(value=0, description='mou_7', max=36)"
      ]
     },
     "metadata": {},
     "output_type": "display_data"
    },
    {
     "name": "stdout",
     "output_type": "stream",
     "text": [
      "Warning: skipping session with too few trials 26\n",
      "Warning: skipping session with too few trials 37\n",
      "Warning: skipping session with too few trials 25\n",
      "Warning: skipping session with too few trials 38\n",
      "Warning: skipping session with too few trials 37\n",
      "Warning: skipping session with too few trials 49\n",
      "Warning: skipping session with too few trials 46\n",
      "Warning: skipping session with too few trials 23\n",
      "Warning: skipping session with too few trials 39\n",
      "Warning: skipping session with too few trials 43\n",
      "Warning: skipping session with too few trials 44\n",
      "Warning: skipping session with too few trials 48\n",
      "Warning: skipping session with too few trials 41\n",
      "Warning: skipping session with too few trials 38\n"
     ]
    },
    {
     "data": {
      "application/vnd.jupyter.widget-view+json": {
       "model_id": "2aff4fdf11d24a5f832585beaf6dde68",
       "version_major": 2,
       "version_minor": 0
      },
      "text/plain": [
       "IntProgress(value=0, description='mou_7', max=36)"
      ]
     },
     "metadata": {},
     "output_type": "display_data"
    },
    {
     "data": {
      "application/vnd.jupyter.widget-view+json": {
       "model_id": "ca6b5dcdd2c346fcbac52806ee7ca881",
       "version_major": 2,
       "version_minor": 0
      },
      "text/plain": [
       "IntProgress(value=0, description='mou_7', max=36)"
      ]
     },
     "metadata": {},
     "output_type": "display_data"
    },
    {
     "data": {
      "application/vnd.jupyter.widget-view+json": {
       "model_id": "a32bd6cb53f8457a99d0ccc0c3b82bbf",
       "version_major": 2,
       "version_minor": 0
      },
      "text/plain": [
       "IntProgress(value=0, description='mou_7', max=36)"
      ]
     },
     "metadata": {},
     "output_type": "display_data"
    },
    {
     "data": {
      "application/vnd.jupyter.widget-view+json": {
       "model_id": "4b39a6971e5b4890a44fd3dbb3e2eed8",
       "version_major": 2,
       "version_minor": 0
      },
      "text/plain": [
       "IntProgress(value=0, description='mou_7', max=36)"
      ]
     },
     "metadata": {},
     "output_type": "display_data"
    },
    {
     "data": {
      "application/vnd.jupyter.widget-view+json": {
       "model_id": "a3e729a05c1d43878735a3f7b6410f57",
       "version_major": 2,
       "version_minor": 0
      },
      "text/plain": [
       "IntProgress(value=0, description='mou_7', max=36)"
      ]
     },
     "metadata": {},
     "output_type": "display_data"
    },
    {
     "data": {
      "application/vnd.jupyter.widget-view+json": {
       "model_id": "55ff7efbb2744351a39fd96d08096513",
       "version_major": 2,
       "version_minor": 0
      },
      "text/plain": [
       "IntProgress(value=0, description='mou_7', max=36)"
      ]
     },
     "metadata": {},
     "output_type": "display_data"
    },
    {
     "name": "stdout",
     "output_type": "stream",
     "text": [
      "Warning: skipping session with too few trials 29\n",
      "Warning: skipping session with too few trials 30\n",
      "Warning: skipping session with too few trials 19\n",
      "Warning: skipping session with too few trials 40\n",
      "Warning: skipping session with too few trials 30\n",
      "Warning: skipping session with too few trials 34\n",
      "Warning: skipping session with too few trials 36\n",
      "Warning: skipping session with too few trials 19\n",
      "Warning: skipping session with too few trials 22\n",
      "Warning: skipping session with too few trials 9\n",
      "Warning: skipping session with too few trials 22\n",
      "Warning: skipping session with too few trials 20\n",
      "Warning: skipping session with too few trials 17\n",
      "Warning: skipping session with too few trials 29\n",
      "Warning: skipping session with too few trials 37\n",
      "Warning: skipping session with too few trials 41\n",
      "Warning: skipping session with too few trials 17\n",
      "Warning: skipping session with too few trials 19\n",
      "Warning: skipping session with too few trials 46\n",
      "Warning: skipping session with too few trials 26\n",
      "Warning: skipping session with too few trials 15\n",
      "Warning: skipping session with too few trials 33\n",
      "Warning: skipping session with too few trials 17\n",
      "Warning: skipping session with too few trials 18\n",
      "Warning: skipping session with too few trials 6\n",
      "Warning: skipping session with too few trials 34\n",
      "Warning: skipping session with too few trials 22\n",
      "Warning: skipping session with too few trials 16\n",
      "Warning: skipping session with too few trials 33\n",
      "Warning: skipping session with too few trials 32\n",
      "Warning: skipping session with too few trials 35\n",
      "Warning: skipping session with too few trials 9\n",
      "Warning: skipping session with too few trials 22\n",
      "Warning: skipping session with too few trials 31\n",
      "Warning: skipping session with too few trials 34\n"
     ]
    },
    {
     "data": {
      "application/vnd.jupyter.widget-view+json": {
       "model_id": "082333de69ca4d509b22dfe709249db9",
       "version_major": 2,
       "version_minor": 0
      },
      "text/plain": [
       "IntProgress(value=0, description='mou_7', max=36)"
      ]
     },
     "metadata": {},
     "output_type": "display_data"
    },
    {
     "name": "stdout",
     "output_type": "stream",
     "text": [
      "Warning: skipping session with too few trials 29\n",
      "Warning: skipping session with too few trials 30\n",
      "Warning: skipping session with too few trials 19\n",
      "Warning: skipping session with too few trials 40\n",
      "Warning: skipping session with too few trials 30\n",
      "Warning: skipping session with too few trials 34\n",
      "Warning: skipping session with too few trials 36\n",
      "Warning: skipping session with too few trials 19\n",
      "Warning: skipping session with too few trials 22\n",
      "Warning: skipping session with too few trials 9\n",
      "Warning: skipping session with too few trials 22\n",
      "Warning: skipping session with too few trials 20\n",
      "Warning: skipping session with too few trials 17\n",
      "Warning: skipping session with too few trials 29\n",
      "Warning: skipping session with too few trials 37\n",
      "Warning: skipping session with too few trials 41\n",
      "Warning: skipping session with too few trials 17\n",
      "Warning: skipping session with too few trials 19\n",
      "Warning: skipping session with too few trials 46\n",
      "Warning: skipping session with too few trials 26\n",
      "Warning: skipping session with too few trials 15\n",
      "Warning: skipping session with too few trials 33\n",
      "Warning: skipping session with too few trials 17\n",
      "Warning: skipping session with too few trials 18\n",
      "Warning: skipping session with too few trials 6\n",
      "Warning: skipping session with too few trials 34\n",
      "Warning: skipping session with too few trials 22\n",
      "Warning: skipping session with too few trials 16\n",
      "Warning: skipping session with too few trials 33\n",
      "Warning: skipping session with too few trials 32\n",
      "Warning: skipping session with too few trials 35\n",
      "Warning: skipping session with too few trials 9\n",
      "Warning: skipping session with too few trials 22\n",
      "Warning: skipping session with too few trials 31\n",
      "Warning: skipping session with too few trials 34\n"
     ]
    },
    {
     "data": {
      "application/vnd.jupyter.widget-view+json": {
       "model_id": "46bf4746f98348df93a72f543c944057",
       "version_major": 2,
       "version_minor": 0
      },
      "text/plain": [
       "IntProgress(value=0, description='mou_7', max=36)"
      ]
     },
     "metadata": {},
     "output_type": "display_data"
    },
    {
     "name": "stdout",
     "output_type": "stream",
     "text": [
      "Warning: skipping session with too few trials 29\n",
      "Warning: skipping session with too few trials 30\n",
      "Warning: skipping session with too few trials 19\n",
      "Warning: skipping session with too few trials 40\n",
      "Warning: skipping session with too few trials 30\n",
      "Warning: skipping session with too few trials 34\n",
      "Warning: skipping session with too few trials 36\n",
      "Warning: skipping session with too few trials 19\n",
      "Warning: skipping session with too few trials 22\n",
      "Warning: skipping session with too few trials 9\n",
      "Warning: skipping session with too few trials 22\n",
      "Warning: skipping session with too few trials 20\n",
      "Warning: skipping session with too few trials 17\n",
      "Warning: skipping session with too few trials 29\n",
      "Warning: skipping session with too few trials 37\n",
      "Warning: skipping session with too few trials 41\n",
      "Warning: skipping session with too few trials 17\n",
      "Warning: skipping session with too few trials 19\n",
      "Warning: skipping session with too few trials 46\n",
      "Warning: skipping session with too few trials 26\n",
      "Warning: skipping session with too few trials 15\n",
      "Warning: skipping session with too few trials 33\n",
      "Warning: skipping session with too few trials 17\n",
      "Warning: skipping session with too few trials 18\n",
      "Warning: skipping session with too few trials 6\n",
      "Warning: skipping session with too few trials 34\n",
      "Warning: skipping session with too few trials 22\n",
      "Warning: skipping session with too few trials 16\n",
      "Warning: skipping session with too few trials 33\n",
      "Warning: skipping session with too few trials 32\n",
      "Warning: skipping session with too few trials 35\n",
      "Warning: skipping session with too few trials 9\n",
      "Warning: skipping session with too few trials 22\n",
      "Warning: skipping session with too few trials 31\n",
      "Warning: skipping session with too few trials 34\n"
     ]
    },
    {
     "data": {
      "application/vnd.jupyter.widget-view+json": {
       "model_id": "89b606e636fc4f09a6715e9bde1950fd",
       "version_major": 2,
       "version_minor": 0
      },
      "text/plain": [
       "IntProgress(value=0, description='mou_7', max=36)"
      ]
     },
     "metadata": {},
     "output_type": "display_data"
    },
    {
     "name": "stdout",
     "output_type": "stream",
     "text": [
      "Warning: skipping session with too few trials 29\n",
      "Warning: skipping session with too few trials 30\n",
      "Warning: skipping session with too few trials 19\n",
      "Warning: skipping session with too few trials 40\n",
      "Warning: skipping session with too few trials 30\n",
      "Warning: skipping session with too few trials 34\n",
      "Warning: skipping session with too few trials 36\n",
      "Warning: skipping session with too few trials 19\n",
      "Warning: skipping session with too few trials 22\n",
      "Warning: skipping session with too few trials 9\n",
      "Warning: skipping session with too few trials 22\n",
      "Warning: skipping session with too few trials 20\n",
      "Warning: skipping session with too few trials 17\n",
      "Warning: skipping session with too few trials 29\n",
      "Warning: skipping session with too few trials 37\n",
      "Warning: skipping session with too few trials 41\n",
      "Warning: skipping session with too few trials 17\n",
      "Warning: skipping session with too few trials 19\n",
      "Warning: skipping session with too few trials 46\n",
      "Warning: skipping session with too few trials 26\n",
      "Warning: skipping session with too few trials 15\n",
      "Warning: skipping session with too few trials 33\n",
      "Warning: skipping session with too few trials 17\n",
      "Warning: skipping session with too few trials 18\n",
      "Warning: skipping session with too few trials 6\n",
      "Warning: skipping session with too few trials 34\n",
      "Warning: skipping session with too few trials 22\n",
      "Warning: skipping session with too few trials 16\n",
      "Warning: skipping session with too few trials 33\n",
      "Warning: skipping session with too few trials 32\n",
      "Warning: skipping session with too few trials 35\n",
      "Warning: skipping session with too few trials 9\n",
      "Warning: skipping session with too few trials 22\n",
      "Warning: skipping session with too few trials 31\n",
      "Warning: skipping session with too few trials 34\n"
     ]
    },
    {
     "data": {
      "application/vnd.jupyter.widget-view+json": {
       "model_id": "dc29312d5b5e47c893a52d7bd5231b89",
       "version_major": 2,
       "version_minor": 0
      },
      "text/plain": [
       "IntProgress(value=0, description='mou_7', max=36)"
      ]
     },
     "metadata": {},
     "output_type": "display_data"
    },
    {
     "name": "stdout",
     "output_type": "stream",
     "text": [
      "Warning: skipping session with too few trials 29\n",
      "Warning: skipping session with too few trials 30\n",
      "Warning: skipping session with too few trials 19\n",
      "Warning: skipping session with too few trials 40\n",
      "Warning: skipping session with too few trials 30\n",
      "Warning: skipping session with too few trials 34\n",
      "Warning: skipping session with too few trials 36\n",
      "Warning: skipping session with too few trials 19\n",
      "Warning: skipping session with too few trials 22\n",
      "Warning: skipping session with too few trials 9\n",
      "Warning: skipping session with too few trials 22\n",
      "Warning: skipping session with too few trials 20\n",
      "Warning: skipping session with too few trials 17\n",
      "Warning: skipping session with too few trials 29\n",
      "Warning: skipping session with too few trials 37\n",
      "Warning: skipping session with too few trials 41\n",
      "Warning: skipping session with too few trials 17\n",
      "Warning: skipping session with too few trials 19\n",
      "Warning: skipping session with too few trials 46\n",
      "Warning: skipping session with too few trials 26\n",
      "Warning: skipping session with too few trials 15\n",
      "Warning: skipping session with too few trials 33\n",
      "Warning: skipping session with too few trials 17\n",
      "Warning: skipping session with too few trials 18\n",
      "Warning: skipping session with too few trials 6\n",
      "Warning: skipping session with too few trials 34\n",
      "Warning: skipping session with too few trials 22\n",
      "Warning: skipping session with too few trials 16\n",
      "Warning: skipping session with too few trials 33\n",
      "Warning: skipping session with too few trials 32\n",
      "Warning: skipping session with too few trials 35\n",
      "Warning: skipping session with too few trials 9\n",
      "Warning: skipping session with too few trials 22\n",
      "Warning: skipping session with too few trials 31\n",
      "Warning: skipping session with too few trials 34\n"
     ]
    },
    {
     "data": {
      "application/vnd.jupyter.widget-view+json": {
       "model_id": "a41ae90d547847f693f5555bef367d24",
       "version_major": 2,
       "version_minor": 0
      },
      "text/plain": [
       "IntProgress(value=0, description='mou_7', max=36)"
      ]
     },
     "metadata": {},
     "output_type": "display_data"
    },
    {
     "name": "stdout",
     "output_type": "stream",
     "text": [
      "Warning: skipping session with too few trials 26\n",
      "Warning: skipping session with too few trials 37\n",
      "Warning: skipping session with too few trials 25\n",
      "Warning: skipping session with too few trials 38\n",
      "Warning: skipping session with too few trials 37\n",
      "Warning: skipping session with too few trials 49\n",
      "Warning: skipping session with too few trials 46\n",
      "Warning: skipping session with too few trials 23\n",
      "Warning: skipping session with too few trials 39\n",
      "Warning: skipping session with too few trials 43\n",
      "Warning: skipping session with too few trials 44\n",
      "Warning: skipping session with too few trials 48\n",
      "Warning: skipping session with too few trials 41\n",
      "Warning: skipping session with too few trials 38\n"
     ]
    },
    {
     "data": {
      "application/vnd.jupyter.widget-view+json": {
       "model_id": "e54c955e5e814daa812be410290024bc",
       "version_major": 2,
       "version_minor": 0
      },
      "text/plain": [
       "IntProgress(value=0, description='mou_7', max=36)"
      ]
     },
     "metadata": {},
     "output_type": "display_data"
    },
    {
     "name": "stdout",
     "output_type": "stream",
     "text": [
      "Warning: skipping session with too few trials 26\n",
      "Warning: skipping session with too few trials 37\n",
      "Warning: skipping session with too few trials 25\n",
      "Warning: skipping session with too few trials 38\n",
      "Warning: skipping session with too few trials 37\n",
      "Warning: skipping session with too few trials 49\n",
      "Warning: skipping session with too few trials 46\n",
      "Warning: skipping session with too few trials 23\n",
      "Warning: skipping session with too few trials 39\n",
      "Warning: skipping session with too few trials 43\n",
      "Warning: skipping session with too few trials 44\n",
      "Warning: skipping session with too few trials 48\n",
      "Warning: skipping session with too few trials 41\n",
      "Warning: skipping session with too few trials 38\n"
     ]
    },
    {
     "data": {
      "application/vnd.jupyter.widget-view+json": {
       "model_id": "d83e4c2f7a4543829f48d9fa4ced0c9a",
       "version_major": 2,
       "version_minor": 0
      },
      "text/plain": [
       "IntProgress(value=0, description='mou_7', max=36)"
      ]
     },
     "metadata": {},
     "output_type": "display_data"
    },
    {
     "name": "stdout",
     "output_type": "stream",
     "text": [
      "Warning: skipping session with too few trials 26\n",
      "Warning: skipping session with too few trials 37\n",
      "Warning: skipping session with too few trials 25\n",
      "Warning: skipping session with too few trials 38\n",
      "Warning: skipping session with too few trials 37\n",
      "Warning: skipping session with too few trials 49\n",
      "Warning: skipping session with too few trials 46\n",
      "Warning: skipping session with too few trials 23\n",
      "Warning: skipping session with too few trials 39\n",
      "Warning: skipping session with too few trials 43\n",
      "Warning: skipping session with too few trials 44\n",
      "Warning: skipping session with too few trials 48\n",
      "Warning: skipping session with too few trials 41\n",
      "Warning: skipping session with too few trials 38\n"
     ]
    },
    {
     "data": {
      "application/vnd.jupyter.widget-view+json": {
       "model_id": "0b69662d0973473fbf9baa2bcf246b56",
       "version_major": 2,
       "version_minor": 0
      },
      "text/plain": [
       "IntProgress(value=0, description='mou_7', max=36)"
      ]
     },
     "metadata": {},
     "output_type": "display_data"
    },
    {
     "name": "stdout",
     "output_type": "stream",
     "text": [
      "Warning: skipping session with too few trials 26\n",
      "Warning: skipping session with too few trials 37\n",
      "Warning: skipping session with too few trials 25\n",
      "Warning: skipping session with too few trials 38\n",
      "Warning: skipping session with too few trials 37\n",
      "Warning: skipping session with too few trials 49\n",
      "Warning: skipping session with too few trials 46\n",
      "Warning: skipping session with too few trials 23\n",
      "Warning: skipping session with too few trials 39\n",
      "Warning: skipping session with too few trials 43\n",
      "Warning: skipping session with too few trials 44\n",
      "Warning: skipping session with too few trials 48\n",
      "Warning: skipping session with too few trials 41\n",
      "Warning: skipping session with too few trials 38\n"
     ]
    },
    {
     "data": {
      "application/vnd.jupyter.widget-view+json": {
       "model_id": "4811ab44cea346219c9ef03653f8ed10",
       "version_major": 2,
       "version_minor": 0
      },
      "text/plain": [
       "IntProgress(value=0, description='mou_7', max=36)"
      ]
     },
     "metadata": {},
     "output_type": "display_data"
    },
    {
     "name": "stdout",
     "output_type": "stream",
     "text": [
      "Warning: skipping session with too few trials 26\n",
      "Warning: skipping session with too few trials 37\n",
      "Warning: skipping session with too few trials 25\n",
      "Warning: skipping session with too few trials 38\n",
      "Warning: skipping session with too few trials 37\n",
      "Warning: skipping session with too few trials 49\n",
      "Warning: skipping session with too few trials 46\n",
      "Warning: skipping session with too few trials 23\n",
      "Warning: skipping session with too few trials 39\n",
      "Warning: skipping session with too few trials 43\n",
      "Warning: skipping session with too few trials 44\n",
      "Warning: skipping session with too few trials 48\n",
      "Warning: skipping session with too few trials 41\n",
      "Warning: skipping session with too few trials 38\n"
     ]
    },
    {
     "data": {
      "application/vnd.jupyter.widget-view+json": {
       "model_id": "bdfd1fd6da2a4543a54139dc8fdc9af1",
       "version_major": 2,
       "version_minor": 0
      },
      "text/plain": [
       "IntProgress(value=0, description='mou_7', max=36)"
      ]
     },
     "metadata": {},
     "output_type": "display_data"
    },
    {
     "data": {
      "application/vnd.jupyter.widget-view+json": {
       "model_id": "b18b4771c68e4464986ac01085e25691",
       "version_major": 2,
       "version_minor": 0
      },
      "text/plain": [
       "IntProgress(value=0, description='mou_7', max=36)"
      ]
     },
     "metadata": {},
     "output_type": "display_data"
    },
    {
     "data": {
      "application/vnd.jupyter.widget-view+json": {
       "model_id": "4cca5f677a7d4777a743219910ef86ad",
       "version_major": 2,
       "version_minor": 0
      },
      "text/plain": [
       "IntProgress(value=0, description='mou_7', max=36)"
      ]
     },
     "metadata": {},
     "output_type": "display_data"
    },
    {
     "data": {
      "application/vnd.jupyter.widget-view+json": {
       "model_id": "d7d3b09961ea418799fbc821c32b795b",
       "version_major": 2,
       "version_minor": 0
      },
      "text/plain": [
       "IntProgress(value=0, description='mou_7', max=36)"
      ]
     },
     "metadata": {},
     "output_type": "display_data"
    },
    {
     "data": {
      "application/vnd.jupyter.widget-view+json": {
       "model_id": "5a5ffd14800548bcafab4e640afd3d5e",
       "version_major": 2,
       "version_minor": 0
      },
      "text/plain": [
       "IntProgress(value=0, description='mou_7', max=36)"
      ]
     },
     "metadata": {},
     "output_type": "display_data"
    },
    {
     "name": "stdout",
     "output_type": "stream",
     "text": [
      "Warning: skipping session with too few trials 29\n",
      "Warning: skipping session with too few trials 30\n",
      "Warning: skipping session with too few trials 19\n",
      "Warning: skipping session with too few trials 40\n",
      "Warning: skipping session with too few trials 30\n",
      "Warning: skipping session with too few trials 34\n",
      "Warning: skipping session with too few trials 36\n",
      "Warning: skipping session with too few trials 19\n",
      "Warning: skipping session with too few trials 22\n",
      "Warning: skipping session with too few trials 9\n",
      "Warning: skipping session with too few trials 22\n",
      "Warning: skipping session with too few trials 20\n",
      "Warning: skipping session with too few trials 17\n",
      "Warning: skipping session with too few trials 29\n",
      "Warning: skipping session with too few trials 37\n",
      "Warning: skipping session with too few trials 41\n",
      "Warning: skipping session with too few trials 17\n",
      "Warning: skipping session with too few trials 19\n",
      "Warning: skipping session with too few trials 46\n",
      "Warning: skipping session with too few trials 26\n",
      "Warning: skipping session with too few trials 15\n",
      "Warning: skipping session with too few trials 33\n",
      "Warning: skipping session with too few trials 17\n",
      "Warning: skipping session with too few trials 18\n",
      "Warning: skipping session with too few trials 6\n",
      "Warning: skipping session with too few trials 34\n",
      "Warning: skipping session with too few trials 22\n",
      "Warning: skipping session with too few trials 16\n",
      "Warning: skipping session with too few trials 33\n",
      "Warning: skipping session with too few trials 32\n",
      "Warning: skipping session with too few trials 35\n",
      "Warning: skipping session with too few trials 9\n",
      "Warning: skipping session with too few trials 22\n",
      "Warning: skipping session with too few trials 31\n",
      "Warning: skipping session with too few trials 34\n"
     ]
    },
    {
     "data": {
      "application/vnd.jupyter.widget-view+json": {
       "model_id": "39096132874745669744ba5ccfbc7257",
       "version_major": 2,
       "version_minor": 0
      },
      "text/plain": [
       "IntProgress(value=0, description='mou_7', max=36)"
      ]
     },
     "metadata": {},
     "output_type": "display_data"
    },
    {
     "name": "stdout",
     "output_type": "stream",
     "text": [
      "Warning: skipping session with too few trials 29\n",
      "Warning: skipping session with too few trials 30\n",
      "Warning: skipping session with too few trials 19\n",
      "Warning: skipping session with too few trials 40\n",
      "Warning: skipping session with too few trials 30\n",
      "Warning: skipping session with too few trials 34\n",
      "Warning: skipping session with too few trials 36\n",
      "Warning: skipping session with too few trials 19\n",
      "Warning: skipping session with too few trials 22\n",
      "Warning: skipping session with too few trials 9\n",
      "Warning: skipping session with too few trials 22\n",
      "Warning: skipping session with too few trials 20\n",
      "Warning: skipping session with too few trials 17\n",
      "Warning: skipping session with too few trials 29\n",
      "Warning: skipping session with too few trials 37\n",
      "Warning: skipping session with too few trials 41\n",
      "Warning: skipping session with too few trials 17\n",
      "Warning: skipping session with too few trials 19\n",
      "Warning: skipping session with too few trials 46\n",
      "Warning: skipping session with too few trials 26\n",
      "Warning: skipping session with too few trials 15\n",
      "Warning: skipping session with too few trials 33\n",
      "Warning: skipping session with too few trials 17\n",
      "Warning: skipping session with too few trials 18\n",
      "Warning: skipping session with too few trials 6\n",
      "Warning: skipping session with too few trials 34\n",
      "Warning: skipping session with too few trials 22\n",
      "Warning: skipping session with too few trials 16\n",
      "Warning: skipping session with too few trials 33\n",
      "Warning: skipping session with too few trials 32\n",
      "Warning: skipping session with too few trials 35\n",
      "Warning: skipping session with too few trials 9\n",
      "Warning: skipping session with too few trials 22\n",
      "Warning: skipping session with too few trials 31\n",
      "Warning: skipping session with too few trials 34\n"
     ]
    },
    {
     "data": {
      "application/vnd.jupyter.widget-view+json": {
       "model_id": "961d049f7e6e4564bb8b5800fd005ed2",
       "version_major": 2,
       "version_minor": 0
      },
      "text/plain": [
       "IntProgress(value=0, description='mou_7', max=36)"
      ]
     },
     "metadata": {},
     "output_type": "display_data"
    },
    {
     "name": "stdout",
     "output_type": "stream",
     "text": [
      "Warning: skipping session with too few trials 29\n",
      "Warning: skipping session with too few trials 30\n",
      "Warning: skipping session with too few trials 19\n",
      "Warning: skipping session with too few trials 40\n",
      "Warning: skipping session with too few trials 30\n",
      "Warning: skipping session with too few trials 34\n",
      "Warning: skipping session with too few trials 36\n",
      "Warning: skipping session with too few trials 19\n",
      "Warning: skipping session with too few trials 22\n",
      "Warning: skipping session with too few trials 9\n",
      "Warning: skipping session with too few trials 22\n",
      "Warning: skipping session with too few trials 20\n",
      "Warning: skipping session with too few trials 17\n",
      "Warning: skipping session with too few trials 29\n",
      "Warning: skipping session with too few trials 37\n",
      "Warning: skipping session with too few trials 41\n",
      "Warning: skipping session with too few trials 17\n",
      "Warning: skipping session with too few trials 19\n",
      "Warning: skipping session with too few trials 46\n",
      "Warning: skipping session with too few trials 26\n",
      "Warning: skipping session with too few trials 15\n",
      "Warning: skipping session with too few trials 33\n",
      "Warning: skipping session with too few trials 17\n",
      "Warning: skipping session with too few trials 18\n",
      "Warning: skipping session with too few trials 6\n",
      "Warning: skipping session with too few trials 34\n",
      "Warning: skipping session with too few trials 22\n",
      "Warning: skipping session with too few trials 16\n",
      "Warning: skipping session with too few trials 33\n",
      "Warning: skipping session with too few trials 32\n",
      "Warning: skipping session with too few trials 35\n",
      "Warning: skipping session with too few trials 9\n",
      "Warning: skipping session with too few trials 22\n",
      "Warning: skipping session with too few trials 31\n",
      "Warning: skipping session with too few trials 34\n"
     ]
    },
    {
     "data": {
      "application/vnd.jupyter.widget-view+json": {
       "model_id": "b737e3ad297a40a984e19c663da5a8cf",
       "version_major": 2,
       "version_minor": 0
      },
      "text/plain": [
       "IntProgress(value=0, description='mou_7', max=36)"
      ]
     },
     "metadata": {},
     "output_type": "display_data"
    },
    {
     "name": "stdout",
     "output_type": "stream",
     "text": [
      "Warning: skipping session with too few trials 29\n",
      "Warning: skipping session with too few trials 30\n",
      "Warning: skipping session with too few trials 19\n",
      "Warning: skipping session with too few trials 40\n",
      "Warning: skipping session with too few trials 30\n",
      "Warning: skipping session with too few trials 34\n",
      "Warning: skipping session with too few trials 36\n",
      "Warning: skipping session with too few trials 19\n",
      "Warning: skipping session with too few trials 22\n",
      "Warning: skipping session with too few trials 9\n",
      "Warning: skipping session with too few trials 22\n",
      "Warning: skipping session with too few trials 20\n",
      "Warning: skipping session with too few trials 17\n",
      "Warning: skipping session with too few trials 29\n",
      "Warning: skipping session with too few trials 37\n",
      "Warning: skipping session with too few trials 41\n",
      "Warning: skipping session with too few trials 17\n",
      "Warning: skipping session with too few trials 19\n",
      "Warning: skipping session with too few trials 46\n",
      "Warning: skipping session with too few trials 26\n",
      "Warning: skipping session with too few trials 15\n",
      "Warning: skipping session with too few trials 33\n",
      "Warning: skipping session with too few trials 17\n",
      "Warning: skipping session with too few trials 18\n",
      "Warning: skipping session with too few trials 6\n",
      "Warning: skipping session with too few trials 34\n",
      "Warning: skipping session with too few trials 22\n",
      "Warning: skipping session with too few trials 16\n",
      "Warning: skipping session with too few trials 33\n",
      "Warning: skipping session with too few trials 32\n",
      "Warning: skipping session with too few trials 35\n",
      "Warning: skipping session with too few trials 9\n",
      "Warning: skipping session with too few trials 22\n",
      "Warning: skipping session with too few trials 31\n",
      "Warning: skipping session with too few trials 34\n"
     ]
    },
    {
     "data": {
      "application/vnd.jupyter.widget-view+json": {
       "model_id": "667e1dbf52544a79816210e1ae1c2556",
       "version_major": 2,
       "version_minor": 0
      },
      "text/plain": [
       "IntProgress(value=0, description='mou_7', max=36)"
      ]
     },
     "metadata": {},
     "output_type": "display_data"
    },
    {
     "name": "stdout",
     "output_type": "stream",
     "text": [
      "Warning: skipping session with too few trials 26\n",
      "Warning: skipping session with too few trials 37\n",
      "Warning: skipping session with too few trials 25\n",
      "Warning: skipping session with too few trials 38\n",
      "Warning: skipping session with too few trials 37\n",
      "Warning: skipping session with too few trials 49\n",
      "Warning: skipping session with too few trials 46\n",
      "Warning: skipping session with too few trials 23\n",
      "Warning: skipping session with too few trials 39\n",
      "Warning: skipping session with too few trials 43\n",
      "Warning: skipping session with too few trials 44\n",
      "Warning: skipping session with too few trials 48\n",
      "Warning: skipping session with too few trials 41\n",
      "Warning: skipping session with too few trials 38\n"
     ]
    },
    {
     "data": {
      "application/vnd.jupyter.widget-view+json": {
       "model_id": "f15172b69f64477eb9bd9fc13eed7060",
       "version_major": 2,
       "version_minor": 0
      },
      "text/plain": [
       "IntProgress(value=0, description='mou_7', max=36)"
      ]
     },
     "metadata": {},
     "output_type": "display_data"
    },
    {
     "name": "stdout",
     "output_type": "stream",
     "text": [
      "Warning: skipping session with too few trials 26\n",
      "Warning: skipping session with too few trials 37\n",
      "Warning: skipping session with too few trials 25\n",
      "Warning: skipping session with too few trials 38\n",
      "Warning: skipping session with too few trials 37\n",
      "Warning: skipping session with too few trials 49\n",
      "Warning: skipping session with too few trials 46\n",
      "Warning: skipping session with too few trials 23\n",
      "Warning: skipping session with too few trials 39\n",
      "Warning: skipping session with too few trials 43\n",
      "Warning: skipping session with too few trials 44\n",
      "Warning: skipping session with too few trials 48\n",
      "Warning: skipping session with too few trials 41\n",
      "Warning: skipping session with too few trials 38\n"
     ]
    },
    {
     "data": {
      "application/vnd.jupyter.widget-view+json": {
       "model_id": "5b3ef83d14214cc8ad0edfccb2c16373",
       "version_major": 2,
       "version_minor": 0
      },
      "text/plain": [
       "IntProgress(value=0, description='mou_7', max=36)"
      ]
     },
     "metadata": {},
     "output_type": "display_data"
    },
    {
     "name": "stdout",
     "output_type": "stream",
     "text": [
      "Warning: skipping session with too few trials 26\n",
      "Warning: skipping session with too few trials 37\n",
      "Warning: skipping session with too few trials 25\n",
      "Warning: skipping session with too few trials 38\n",
      "Warning: skipping session with too few trials 37\n",
      "Warning: skipping session with too few trials 49\n",
      "Warning: skipping session with too few trials 46\n",
      "Warning: skipping session with too few trials 23\n",
      "Warning: skipping session with too few trials 39\n",
      "Warning: skipping session with too few trials 43\n",
      "Warning: skipping session with too few trials 44\n",
      "Warning: skipping session with too few trials 48\n",
      "Warning: skipping session with too few trials 41\n",
      "Warning: skipping session with too few trials 38\n"
     ]
    },
    {
     "data": {
      "application/vnd.jupyter.widget-view+json": {
       "model_id": "1e196a8233b542b0b6f94f5404017e4e",
       "version_major": 2,
       "version_minor": 0
      },
      "text/plain": [
       "IntProgress(value=0, description='mou_7', max=36)"
      ]
     },
     "metadata": {},
     "output_type": "display_data"
    },
    {
     "name": "stdout",
     "output_type": "stream",
     "text": [
      "Warning: skipping session with too few trials 26\n",
      "Warning: skipping session with too few trials 37\n",
      "Warning: skipping session with too few trials 25\n",
      "Warning: skipping session with too few trials 38\n",
      "Warning: skipping session with too few trials 37\n",
      "Warning: skipping session with too few trials 49\n",
      "Warning: skipping session with too few trials 46\n",
      "Warning: skipping session with too few trials 23\n",
      "Warning: skipping session with too few trials 39\n",
      "Warning: skipping session with too few trials 43\n",
      "Warning: skipping session with too few trials 44\n",
      "Warning: skipping session with too few trials 48\n",
      "Warning: skipping session with too few trials 41\n",
      "Warning: skipping session with too few trials 38\n"
     ]
    }
   ],
   "source": [
    "bulk_metrics.metric_mouse_bulk_vs_session(dataDB, mc, ds, \"varmean\", 'session',\n",
    "                                          trialTypeNames=[None, 'Hit', 'CR'],\n",
    "                                          minTrials=50, verbose=False, intervNames=intervNames,\n",
    "                                          exclQueryLst=exclQueryLst)"
   ]
  },
  {
   "cell_type": "code",
   "execution_count": 45,
   "metadata": {
    "scrolled": true
   },
   "outputs": [
    {
     "name": "stdout",
     "output_type": "stream",
     "text": [
      "['varmean', 'session', 'mou_5', 'None', 'bn_session', 'AUD', 'dset1028', 'CR']\n",
      "(21,)\n",
      "(12,)\n",
      "['varmean', 'session', 'mou_6', 'None', 'bn_session', 'AUD', 'dset1066', 'CR']\n",
      "(29,)\n",
      "(10,)\n",
      "['varmean', 'session', 'mou_7', 'None', 'bn_session', 'AUD', 'dset1136', 'CR']\n",
      "(36,)\n",
      "(22,)\n",
      "['varmean', 'session', 'mou_9', 'None', 'bn_session', 'AUD', 'dset1098', 'CR']\n",
      "(20,)\n",
      "(15,)\n",
      "['varmean', 'session', 'mou_5', 'None', 'bn_trial', 'AUD', 'dset1036', 'CR']\n",
      "(21,)\n",
      "(12,)\n",
      "['varmean', 'session', 'mou_6', 'None', 'bn_trial', 'AUD', 'dset1078', 'CR']\n",
      "(29,)\n",
      "(10,)\n",
      "['varmean', 'session', 'mou_7', 'None', 'bn_trial', 'AUD', 'dset1148', 'CR']\n",
      "(36,)\n",
      "(22,)\n",
      "['varmean', 'session', 'mou_9', 'None', 'bn_trial', 'AUD', 'dset1106', 'CR']\n",
      "(20,)\n",
      "(15,)\n",
      "['varmean', 'session', 'mou_5', 'None', 'bn_session', 'AVG', 'dset1031', 'CR']\n",
      "(21,)\n",
      "(12,)\n",
      "['varmean', 'session', 'mou_6', 'None', 'bn_session', 'AVG', 'dset1069', 'CR']\n",
      "(29,)\n",
      "(10,)\n",
      "['varmean', 'session', 'mou_7', 'None', 'bn_session', 'AVG', 'dset1139', 'CR']\n",
      "(36,)\n",
      "(22,)\n",
      "['varmean', 'session', 'mou_9', 'None', 'bn_session', 'AVG', 'dset1101', 'CR']\n",
      "(20,)\n",
      "(15,)\n",
      "['varmean', 'session', 'mou_5', 'None', 'bn_trial', 'AVG', 'dset1039', 'CR']\n",
      "(21,)\n",
      "(12,)\n",
      "['varmean', 'session', 'mou_6', 'None', 'bn_trial', 'AVG', 'dset1081', 'CR']\n",
      "(29,)\n",
      "(10,)\n",
      "['varmean', 'session', 'mou_7', 'None', 'bn_trial', 'AVG', 'dset1151', 'CR']\n",
      "(36,)\n",
      "(22,)\n",
      "['varmean', 'session', 'mou_9', 'None', 'bn_trial', 'AVG', 'dset1109', 'CR']\n",
      "(20,)\n",
      "(15,)\n",
      "['varmean', 'session', 'mou_5', 'None', 'bn_session', 'DEL', 'dset1029', 'CR']\n",
      "(21,)\n",
      "(12,)\n",
      "['varmean', 'session', 'mou_6', 'None', 'bn_session', 'DEL', 'dset1067', 'CR']\n",
      "(29,)\n",
      "(10,)\n",
      "['varmean', 'session', 'mou_7', 'None', 'bn_session', 'DEL', 'dset1137', 'CR']\n",
      "(36,)\n",
      "(22,)\n",
      "['varmean', 'session', 'mou_9', 'None', 'bn_session', 'DEL', 'dset1099', 'CR']\n",
      "(20,)\n",
      "(15,)\n",
      "['varmean', 'session', 'mou_5', 'None', 'bn_trial', 'DEL', 'dset1037', 'CR']\n",
      "(21,)\n",
      "(12,)\n",
      "['varmean', 'session', 'mou_6', 'None', 'bn_trial', 'DEL', 'dset1079', 'CR']\n",
      "(29,)\n",
      "(10,)\n",
      "['varmean', 'session', 'mou_7', 'None', 'bn_trial', 'DEL', 'dset1149', 'CR']\n",
      "(36,)\n",
      "(22,)\n",
      "['varmean', 'session', 'mou_9', 'None', 'bn_trial', 'DEL', 'dset1107', 'CR']\n",
      "(20,)\n",
      "(15,)\n",
      "['varmean', 'session', 'mou_5', 'None', 'bn_session', 'PRE', 'dset1027', 'CR']\n",
      "(21,)\n",
      "(12,)\n",
      "['varmean', 'session', 'mou_6', 'None', 'bn_session', 'PRE', 'dset1065', 'CR']\n",
      "(29,)\n",
      "(10,)\n",
      "['varmean', 'session', 'mou_7', 'None', 'bn_session', 'PRE', 'dset1135', 'CR']\n",
      "(36,)\n",
      "(22,)\n",
      "['varmean', 'session', 'mou_9', 'None', 'bn_session', 'PRE', 'dset1097', 'CR']\n",
      "(20,)\n",
      "(15,)\n",
      "['varmean', 'session', 'mou_5', 'None', 'bn_session', 'REW', 'dset1030', 'CR']\n",
      "(21,)\n",
      "(12,)\n",
      "['varmean', 'session', 'mou_6', 'None', 'bn_session', 'REW', 'dset1068', 'CR']\n",
      "(29,)\n",
      "(10,)\n",
      "['varmean', 'session', 'mou_7', 'None', 'bn_session', 'REW', 'dset1138', 'CR']\n",
      "(36,)\n",
      "(22,)\n",
      "['varmean', 'session', 'mou_9', 'None', 'bn_session', 'REW', 'dset1100', 'CR']\n",
      "(20,)\n",
      "(15,)\n",
      "['varmean', 'session', 'mou_5', 'None', 'bn_trial', 'REW', 'dset1038', 'CR']\n",
      "(21,)\n",
      "(12,)\n",
      "['varmean', 'session', 'mou_6', 'None', 'bn_trial', 'REW', 'dset1080', 'CR']\n",
      "(29,)\n",
      "(10,)\n",
      "['varmean', 'session', 'mou_7', 'None', 'bn_trial', 'REW', 'dset1150', 'CR']\n",
      "(36,)\n",
      "(22,)\n",
      "['varmean', 'session', 'mou_9', 'None', 'bn_trial', 'REW', 'dset1108', 'CR']\n",
      "(20,)\n",
      "(15,)\n",
      "['varmean', 'session', 'mou_5', 'rs', 'raw', 'AUD', 'dset1018', 'CR']\n",
      "(21,)\n",
      "(12,)\n",
      "['varmean', 'session', 'mou_6', 'rs', 'raw', 'AUD', 'dset1051', 'CR']\n",
      "(29,)\n",
      "(10,)\n",
      "['varmean', 'session', 'mou_7', 'rs', 'raw', 'AUD', 'dset1121', 'CR']\n",
      "(36,)\n",
      "(22,)\n",
      "['varmean', 'session', 'mou_9', 'rs', 'raw', 'AUD', 'dset1088', 'CR']\n",
      "(20,)\n",
      "(15,)\n",
      "['varmean', 'session', 'mou_5', 'rs', 'raw', 'AVG', 'dset1021', 'CR']\n",
      "(21,)\n",
      "(12,)\n",
      "['varmean', 'session', 'mou_6', 'rs', 'raw', 'AVG', 'dset1054', 'CR']\n",
      "(29,)\n",
      "(10,)\n",
      "['varmean', 'session', 'mou_7', 'rs', 'raw', 'AVG', 'dset1124', 'CR']\n",
      "(36,)\n",
      "(22,)\n",
      "['varmean', 'session', 'mou_9', 'rs', 'raw', 'AVG', 'dset1091', 'CR']\n",
      "(20,)\n",
      "(15,)\n",
      "['varmean', 'session', 'mou_5', 'rs', 'raw', 'DEL', 'dset1019', 'CR']\n",
      "(21,)\n",
      "(12,)\n",
      "['varmean', 'session', 'mou_6', 'rs', 'raw', 'DEL', 'dset1052', 'CR']\n",
      "(29,)\n",
      "(10,)\n",
      "['varmean', 'session', 'mou_7', 'rs', 'raw', 'DEL', 'dset1122', 'CR']\n",
      "(36,)\n",
      "(22,)\n",
      "['varmean', 'session', 'mou_9', 'rs', 'raw', 'DEL', 'dset1089', 'CR']\n",
      "(20,)\n",
      "(15,)\n",
      "['varmean', 'session', 'mou_5', 'rs', 'raw', 'PRE', 'dset1017', 'CR']\n",
      "(21,)\n",
      "(12,)\n",
      "['varmean', 'session', 'mou_6', 'rs', 'raw', 'PRE', 'dset1050', 'CR']\n",
      "(29,)\n",
      "(10,)\n",
      "['varmean', 'session', 'mou_7', 'rs', 'raw', 'PRE', 'dset1120', 'CR']\n",
      "(36,)\n",
      "(22,)\n",
      "['varmean', 'session', 'mou_9', 'rs', 'raw', 'PRE', 'dset1087', 'CR']\n",
      "(20,)\n",
      "(15,)\n",
      "['varmean', 'session', 'mou_5', 'rs', 'raw', 'REW', 'dset1020', 'CR']\n",
      "(21,)\n",
      "(12,)\n",
      "['varmean', 'session', 'mou_6', 'rs', 'raw', 'REW', 'dset1053', 'CR']\n",
      "(29,)\n",
      "(10,)\n",
      "['varmean', 'session', 'mou_7', 'rs', 'raw', 'REW', 'dset1123', 'CR']\n",
      "(36,)\n",
      "(22,)\n",
      "['varmean', 'session', 'mou_9', 'rs', 'raw', 'REW', 'dset1090', 'CR']\n",
      "(20,)\n",
      "(15,)\n",
      "['varmean', 'session', 'mou_6', 'None', 'bn_session', 'AUD', 'dset1061', 'Hit']\n",
      "(29,)\n",
      "(1,)\n",
      "['varmean', 'session', 'mou_7', 'None', 'bn_session', 'AUD', 'dset1131', 'Hit']\n",
      "(36,)\n",
      "(1,)\n",
      "['varmean', 'session', 'mou_6', 'None', 'bn_trial', 'AUD', 'dset1074', 'Hit']\n",
      "(29,)\n",
      "(1,)\n",
      "['varmean', 'session', 'mou_7', 'None', 'bn_trial', 'AUD', 'dset1144', 'Hit']\n",
      "(36,)\n",
      "(1,)\n",
      "['varmean', 'session', 'mou_6', 'None', 'bn_session', 'AVG', 'dset1064', 'Hit']\n",
      "(29,)\n",
      "(1,)\n",
      "['varmean', 'session', 'mou_7', 'None', 'bn_session', 'AVG', 'dset1134', 'Hit']\n",
      "(36,)\n",
      "(1,)\n",
      "['varmean', 'session', 'mou_6', 'None', 'bn_trial', 'AVG', 'dset1077', 'Hit']\n",
      "(29,)\n",
      "(1,)\n",
      "['varmean', 'session', 'mou_7', 'None', 'bn_trial', 'AVG', 'dset1147', 'Hit']\n",
      "(36,)\n",
      "(1,)\n",
      "['varmean', 'session', 'mou_6', 'None', 'bn_session', 'DEL', 'dset1062', 'Hit']\n",
      "(29,)\n",
      "(1,)\n",
      "['varmean', 'session', 'mou_7', 'None', 'bn_session', 'DEL', 'dset1132', 'Hit']\n",
      "(36,)\n",
      "(1,)\n",
      "['varmean', 'session', 'mou_6', 'None', 'bn_trial', 'DEL', 'dset1075', 'Hit']\n",
      "(29,)\n",
      "(1,)\n",
      "['varmean', 'session', 'mou_7', 'None', 'bn_trial', 'DEL', 'dset1145', 'Hit']\n",
      "(36,)\n",
      "(1,)\n",
      "['varmean', 'session', 'mou_6', 'None', 'bn_session', 'PRE', 'dset1060', 'Hit']\n",
      "(29,)\n",
      "(1,)\n",
      "['varmean', 'session', 'mou_7', 'None', 'bn_session', 'PRE', 'dset1130', 'Hit']\n",
      "(36,)\n",
      "(1,)\n",
      "['varmean', 'session', 'mou_6', 'None', 'bn_session', 'REW', 'dset1063', 'Hit']\n",
      "(29,)\n",
      "(1,)\n",
      "['varmean', 'session', 'mou_7', 'None', 'bn_session', 'REW', 'dset1133', 'Hit']\n",
      "(36,)\n",
      "(1,)\n",
      "['varmean', 'session', 'mou_6', 'None', 'bn_trial', 'REW', 'dset1076', 'Hit']\n",
      "(29,)\n",
      "(1,)\n",
      "['varmean', 'session', 'mou_7', 'None', 'bn_trial', 'REW', 'dset1146', 'Hit']\n",
      "(36,)\n",
      "(1,)\n",
      "['varmean', 'session', 'mou_6', 'rs', 'raw', 'AUD', 'dset1046', 'Hit']\n",
      "(29,)\n",
      "(1,)\n",
      "['varmean', 'session', 'mou_7', 'rs', 'raw', 'AUD', 'dset1116', 'Hit']\n",
      "(36,)\n",
      "(1,)\n",
      "['varmean', 'session', 'mou_6', 'rs', 'raw', 'AVG', 'dset1049', 'Hit']\n",
      "(29,)\n",
      "(1,)\n",
      "['varmean', 'session', 'mou_7', 'rs', 'raw', 'AVG', 'dset1119', 'Hit']\n",
      "(36,)\n",
      "(1,)\n",
      "['varmean', 'session', 'mou_6', 'rs', 'raw', 'DEL', 'dset1047', 'Hit']\n",
      "(29,)\n",
      "(1,)\n",
      "['varmean', 'session', 'mou_7', 'rs', 'raw', 'DEL', 'dset1117', 'Hit']\n",
      "(36,)\n",
      "(1,)\n",
      "['varmean', 'session', 'mou_6', 'rs', 'raw', 'PRE', 'dset1045', 'Hit']\n",
      "(29,)\n",
      "(1,)\n",
      "['varmean', 'session', 'mou_7', 'rs', 'raw', 'PRE', 'dset1115', 'Hit']\n",
      "(36,)\n",
      "(1,)\n",
      "['varmean', 'session', 'mou_6', 'rs', 'raw', 'REW', 'dset1048', 'Hit']\n",
      "(29,)\n",
      "(1,)\n",
      "['varmean', 'session', 'mou_7', 'rs', 'raw', 'REW', 'dset1118', 'Hit']\n",
      "(36,)\n",
      "(1,)\n",
      "['varmean', 'session', 'mou_5', 'None', 'bn_session', 'AUD', 'dset1023', 'None']\n",
      "(21,)\n",
      "(21,)\n",
      "['varmean', 'session', 'mou_6', 'None', 'bn_session', 'AUD', 'dset1056', 'None']\n",
      "(29,)\n",
      "(29,)\n",
      "['varmean', 'session', 'mou_7', 'None', 'bn_session', 'AUD', 'dset1126', 'None']\n",
      "(36,)\n",
      "(36,)\n",
      "['varmean', 'session', 'mou_9', 'None', 'bn_session', 'AUD', 'dset1093', 'None']\n",
      "(20,)\n",
      "(20,)\n",
      "['varmean', 'session', 'mou_5', 'None', 'bn_trial', 'AUD', 'dset1032', 'None']\n",
      "(21,)\n",
      "(21,)\n",
      "['varmean', 'session', 'mou_6', 'None', 'bn_trial', 'AUD', 'dset1070', 'None']\n",
      "(29,)\n",
      "(29,)\n",
      "['varmean', 'session', 'mou_7', 'None', 'bn_trial', 'AUD', 'dset1140', 'None']\n",
      "(36,)\n",
      "(36,)\n",
      "['varmean', 'session', 'mou_9', 'None', 'bn_trial', 'AUD', 'dset1102', 'None']\n",
      "(20,)\n",
      "(20,)\n",
      "['varmean', 'session', 'mou_5', 'None', 'bn_session', 'AVG', 'dset1026', 'None']\n",
      "(21,)\n",
      "(21,)\n",
      "['varmean', 'session', 'mou_6', 'None', 'bn_session', 'AVG', 'dset1059', 'None']\n",
      "(29,)\n",
      "(29,)\n",
      "['varmean', 'session', 'mou_7', 'None', 'bn_session', 'AVG', 'dset1129', 'None']\n",
      "(36,)\n",
      "(36,)\n",
      "['varmean', 'session', 'mou_9', 'None', 'bn_session', 'AVG', 'dset1096', 'None']\n",
      "(20,)\n",
      "(20,)\n",
      "['varmean', 'session', 'mou_5', 'None', 'bn_trial', 'AVG', 'dset1035', 'None']\n",
      "(21,)\n",
      "(21,)\n",
      "['varmean', 'session', 'mou_6', 'None', 'bn_trial', 'AVG', 'dset1073', 'None']\n",
      "(29,)\n",
      "(29,)\n",
      "['varmean', 'session', 'mou_7', 'None', 'bn_trial', 'AVG', 'dset1143', 'None']\n",
      "(36,)\n",
      "(36,)\n",
      "['varmean', 'session', 'mou_9', 'None', 'bn_trial', 'AVG', 'dset1105', 'None']\n",
      "(20,)\n",
      "(20,)\n"
     ]
    },
    {
     "name": "stdout",
     "output_type": "stream",
     "text": [
      "['varmean', 'session', 'mou_5', 'None', 'bn_session', 'DEL', 'dset1024', 'None']\n",
      "(21,)\n",
      "(21,)\n",
      "['varmean', 'session', 'mou_6', 'None', 'bn_session', 'DEL', 'dset1057', 'None']\n",
      "(29,)\n",
      "(29,)\n",
      "['varmean', 'session', 'mou_7', 'None', 'bn_session', 'DEL', 'dset1127', 'None']\n",
      "(36,)\n",
      "(36,)\n",
      "['varmean', 'session', 'mou_9', 'None', 'bn_session', 'DEL', 'dset1094', 'None']\n",
      "(20,)\n",
      "(20,)\n",
      "['varmean', 'session', 'mou_5', 'None', 'bn_trial', 'DEL', 'dset1033', 'None']\n",
      "(21,)\n",
      "(21,)\n",
      "['varmean', 'session', 'mou_6', 'None', 'bn_trial', 'DEL', 'dset1071', 'None']\n",
      "(29,)\n",
      "(29,)\n",
      "['varmean', 'session', 'mou_7', 'None', 'bn_trial', 'DEL', 'dset1141', 'None']\n",
      "(36,)\n",
      "(36,)\n",
      "['varmean', 'session', 'mou_9', 'None', 'bn_trial', 'DEL', 'dset1103', 'None']\n",
      "(20,)\n",
      "(20,)\n",
      "['varmean', 'session', 'mou_5', 'None', 'bn_session', 'PRE', 'dset1022', 'None']\n",
      "(21,)\n",
      "(21,)\n",
      "['varmean', 'session', 'mou_6', 'None', 'bn_session', 'PRE', 'dset1055', 'None']\n",
      "(29,)\n",
      "(29,)\n",
      "['varmean', 'session', 'mou_7', 'None', 'bn_session', 'PRE', 'dset1125', 'None']\n",
      "(36,)\n",
      "(36,)\n",
      "['varmean', 'session', 'mou_9', 'None', 'bn_session', 'PRE', 'dset1092', 'None']\n",
      "(20,)\n",
      "(20,)\n",
      "['varmean', 'session', 'mou_5', 'None', 'bn_session', 'REW', 'dset1025', 'None']\n",
      "(21,)\n",
      "(21,)\n",
      "['varmean', 'session', 'mou_6', 'None', 'bn_session', 'REW', 'dset1058', 'None']\n",
      "(29,)\n",
      "(29,)\n",
      "['varmean', 'session', 'mou_7', 'None', 'bn_session', 'REW', 'dset1128', 'None']\n",
      "(36,)\n",
      "(36,)\n",
      "['varmean', 'session', 'mou_9', 'None', 'bn_session', 'REW', 'dset1095', 'None']\n",
      "(20,)\n",
      "(20,)\n",
      "['varmean', 'session', 'mou_5', 'None', 'bn_trial', 'REW', 'dset1034', 'None']\n",
      "(21,)\n",
      "(21,)\n",
      "['varmean', 'session', 'mou_6', 'None', 'bn_trial', 'REW', 'dset1072', 'None']\n",
      "(29,)\n",
      "(29,)\n",
      "['varmean', 'session', 'mou_7', 'None', 'bn_trial', 'REW', 'dset1142', 'None']\n",
      "(36,)\n",
      "(36,)\n",
      "['varmean', 'session', 'mou_9', 'None', 'bn_trial', 'REW', 'dset1104', 'None']\n",
      "(20,)\n",
      "(20,)\n",
      "['varmean', 'session', 'mou_5', 'rs', 'raw', 'AUD', 'dset1013', 'None']\n",
      "(21,)\n",
      "(21,)\n",
      "['varmean', 'session', 'mou_6', 'rs', 'raw', 'AUD', 'dset1041', 'None']\n",
      "(29,)\n",
      "(29,)\n",
      "['varmean', 'session', 'mou_7', 'rs', 'raw', 'AUD', 'dset1111', 'None']\n",
      "(36,)\n",
      "(36,)\n",
      "['varmean', 'session', 'mou_9', 'rs', 'raw', 'AUD', 'dset1083', 'None']\n",
      "(20,)\n",
      "(20,)\n",
      "['varmean', 'session', 'mou_5', 'rs', 'raw', 'AVG', 'dset1016', 'None']\n",
      "(21,)\n",
      "(21,)\n",
      "['varmean', 'session', 'mou_6', 'rs', 'raw', 'AVG', 'dset1044', 'None']\n",
      "(29,)\n",
      "(29,)\n",
      "['varmean', 'session', 'mou_7', 'rs', 'raw', 'AVG', 'dset1114', 'None']\n",
      "(36,)\n",
      "(36,)\n",
      "['varmean', 'session', 'mou_9', 'rs', 'raw', 'AVG', 'dset1086', 'None']\n",
      "(20,)\n",
      "(20,)\n",
      "['varmean', 'session', 'mou_5', 'rs', 'raw', 'DEL', 'dset1014', 'None']\n",
      "(21,)\n",
      "(21,)\n",
      "['varmean', 'session', 'mou_6', 'rs', 'raw', 'DEL', 'dset1042', 'None']\n",
      "(29,)\n",
      "(29,)\n",
      "['varmean', 'session', 'mou_7', 'rs', 'raw', 'DEL', 'dset1112', 'None']\n",
      "(36,)\n",
      "(36,)\n",
      "['varmean', 'session', 'mou_9', 'rs', 'raw', 'DEL', 'dset1084', 'None']\n",
      "(20,)\n",
      "(20,)\n",
      "['varmean', 'session', 'mou_5', 'rs', 'raw', 'PRE', 'dset1012', 'None']\n",
      "(21,)\n",
      "(21,)\n",
      "['varmean', 'session', 'mou_6', 'rs', 'raw', 'PRE', 'dset1040', 'None']\n",
      "(29,)\n",
      "(29,)\n",
      "['varmean', 'session', 'mou_7', 'rs', 'raw', 'PRE', 'dset1110', 'None']\n",
      "(36,)\n",
      "(36,)\n",
      "['varmean', 'session', 'mou_9', 'rs', 'raw', 'PRE', 'dset1082', 'None']\n",
      "(20,)\n",
      "(20,)\n",
      "['varmean', 'session', 'mou_5', 'rs', 'raw', 'REW', 'dset1015', 'None']\n",
      "(21,)\n",
      "(21,)\n",
      "['varmean', 'session', 'mou_6', 'rs', 'raw', 'REW', 'dset1043', 'None']\n",
      "(29,)\n",
      "(29,)\n",
      "['varmean', 'session', 'mou_7', 'rs', 'raw', 'REW', 'dset1113', 'None']\n",
      "(36,)\n",
      "(36,)\n",
      "['varmean', 'session', 'mou_9', 'rs', 'raw', 'REW', 'dset1085', 'None']\n",
      "(20,)\n",
      "(20,)\n"
     ]
    }
   ],
   "source": [
    "bulk_metrics.scatter_metric_bulk(ds, 'varmean', 'session', verbose=False, xFunc=None, haveRegression=False)"
   ]
  },
  {
   "cell_type": "markdown",
   "metadata": {},
   "source": [
    "### Conditions"
   ]
  },
  {
   "cell_type": "code",
   "execution_count": 46,
   "metadata": {
    "scrolled": true
   },
   "outputs": [
    {
     "name": "stdout",
     "output_type": "stream",
     "text": [
      "bn_session\n",
      "bn_trial\n",
      "raw\n"
     ]
    }
   ],
   "source": [
    "bulk_metrics.barplot_conditions(ds, 'varmean', 'session', verbose=True, trialTypes=['Hit', 'CR'])"
   ]
  },
  {
   "cell_type": "markdown",
   "metadata": {},
   "source": [
    "### Test variance across channels for interesting interval\n",
    "\n",
    "* Average signal over texture presentation interval\n",
    "* Compute variance over trials for each channel\n",
    "* Compare channels"
   ]
  },
  {
   "cell_type": "code",
   "execution_count": null,
   "metadata": {
    "collapsed": true
   },
   "outputs": [],
   "source": [
    "bulk_metrics.metric_mouse_bulk(dataDB, mc, ds, 'varmean', 'p', 'channel',\n",
    "                               cropTime=('TEX', (3, 3.5)), verbose=False)"
   ]
  },
  {
   "cell_type": "code",
   "execution_count": null,
   "metadata": {
    "collapsed": true,
    "scrolled": true
   },
   "outputs": [],
   "source": [
    "bulk_metrics.plot_metric_bulk(ds, 'varmean', 'channel', yscale='log', verbose=False, # ylim=[0.005,2],\n",
    "                              dropCols=['cropTime'])"
   ]
  },
  {
   "cell_type": "markdown",
   "metadata": {
    "collapsed": true
   },
   "source": [
    "# Effective Rank\n",
    "\n",
    "### ByTime"
   ]
  },
  {
   "cell_type": "code",
   "execution_count": null,
   "metadata": {
    "collapsed": true,
    "scrolled": true
   },
   "outputs": [],
   "source": [
    "bulk_metrics.metric_mouse_bulk(dataDB, mc, ds, \"rank_effective\", 's', 'time', verbose=False,\n",
    "                               invervNames=['AVG'],\n",
    "                               minTrials=50, trialTypeNames='auto', exclQueryLst=exclQueryLst)"
   ]
  },
  {
   "cell_type": "code",
   "execution_count": 39,
   "metadata": {
    "collapsed": true,
    "scrolled": true
   },
   "outputs": [],
   "source": [
    "bulk_metrics.plot_metric_bulk(ds, 'rank_effective', 'time', ylim=[1, None], verbose=False,\n",
    "                              xFunc=lambda m, l: dataDB.get_times()) # ylim=[1,48]"
   ]
  },
  {
   "cell_type": "markdown",
   "metadata": {},
   "source": [
    "### BySession"
   ]
  },
  {
   "cell_type": "code",
   "execution_count": 40,
   "metadata": {
    "scrolled": true
   },
   "outputs": [
    {
     "data": {
      "application/vnd.jupyter.widget-view+json": {
       "model_id": "f1a860730d4746468ef26bad593717ed",
       "version_major": 2,
       "version_minor": 0
      },
      "text/plain": [
       "IntProgress(value=0, description='session', max=168)"
      ]
     },
     "metadata": {},
     "output_type": "display_data"
    },
    {
     "data": {
      "application/vnd.jupyter.widget-view+json": {
       "model_id": "b1013f9a1a3b49e39549109826fccd68",
       "version_major": 2,
       "version_minor": 0
      },
      "text/plain": [
       "IntProgress(value=0, description='mou_5', max=21)"
      ]
     },
     "metadata": {},
     "output_type": "display_data"
    },
    {
     "data": {
      "application/vnd.jupyter.widget-view+json": {
       "model_id": "260217a24ae14393a333deb4abb7301d",
       "version_major": 2,
       "version_minor": 0
      },
      "text/plain": [
       "IntProgress(value=0, description='mou_5', max=21)"
      ]
     },
     "metadata": {},
     "output_type": "display_data"
    },
    {
     "data": {
      "application/vnd.jupyter.widget-view+json": {
       "model_id": "09d1de0ae01f4432af7eedf72a314d9b",
       "version_major": 2,
       "version_minor": 0
      },
      "text/plain": [
       "IntProgress(value=0, description='mou_5', max=21)"
      ]
     },
     "metadata": {},
     "output_type": "display_data"
    },
    {
     "data": {
      "application/vnd.jupyter.widget-view+json": {
       "model_id": "47bc4b24ab9c41b297ac0347e6b9f84d",
       "version_major": 2,
       "version_minor": 0
      },
      "text/plain": [
       "IntProgress(value=0, description='mou_5', max=21)"
      ]
     },
     "metadata": {},
     "output_type": "display_data"
    },
    {
     "data": {
      "application/vnd.jupyter.widget-view+json": {
       "model_id": "30f9fc3e58ee45fbb708947b731e6d87",
       "version_major": 2,
       "version_minor": 0
      },
      "text/plain": [
       "IntProgress(value=0, description='mou_5', max=21)"
      ]
     },
     "metadata": {},
     "output_type": "display_data"
    },
    {
     "data": {
      "application/vnd.jupyter.widget-view+json": {
       "model_id": "c026fdb7861f449daf5141280d62280e",
       "version_major": 2,
       "version_minor": 0
      },
      "text/plain": [
       "IntProgress(value=0, description='mou_5', max=21)"
      ]
     },
     "metadata": {},
     "output_type": "display_data"
    },
    {
     "name": "stdout",
     "output_type": "stream",
     "text": [
      "Warning: skipping session with too few trials 19\n",
      "Warning: skipping session with too few trials 18\n",
      "Warning: skipping session with too few trials 21\n",
      "Warning: skipping session with too few trials 20\n",
      "Warning: skipping session with too few trials 35\n",
      "Warning: skipping session with too few trials 39\n",
      "Warning: skipping session with too few trials 24\n",
      "Warning: skipping session with too few trials 26\n",
      "Warning: skipping session with too few trials 37\n",
      "Warning: skipping session with too few trials 16\n",
      "Warning: skipping session with too few trials 39\n",
      "Warning: skipping session with too few trials 26\n",
      "Warning: skipping session with too few trials 24\n",
      "Warning: skipping session with too few trials 19\n",
      "Warning: skipping session with too few trials 16\n",
      "Warning: skipping session with too few trials 21\n",
      "Warning: skipping session with too few trials 23\n",
      "Warning: skipping session with too few trials 25\n",
      "Warning: skipping session with too few trials 23\n",
      "Warning: skipping session with too few trials 16\n",
      "Warning: skipping session with too few trials 23\n",
      "Warning, all sessions had too few trials, this mouse is skipped\n"
     ]
    },
    {
     "data": {
      "application/vnd.jupyter.widget-view+json": {
       "model_id": "cf650aa55652444fa7731d9c6535742f",
       "version_major": 2,
       "version_minor": 0
      },
      "text/plain": [
       "IntProgress(value=0, description='mou_5', max=21)"
      ]
     },
     "metadata": {},
     "output_type": "display_data"
    },
    {
     "name": "stdout",
     "output_type": "stream",
     "text": [
      "Warning: skipping session with too few trials 19\n",
      "Warning: skipping session with too few trials 18\n",
      "Warning: skipping session with too few trials 21\n",
      "Warning: skipping session with too few trials 20\n",
      "Warning: skipping session with too few trials 35\n",
      "Warning: skipping session with too few trials 39\n",
      "Warning: skipping session with too few trials 24\n",
      "Warning: skipping session with too few trials 26\n",
      "Warning: skipping session with too few trials 37\n",
      "Warning: skipping session with too few trials 16\n",
      "Warning: skipping session with too few trials 39\n",
      "Warning: skipping session with too few trials 26\n",
      "Warning: skipping session with too few trials 24\n",
      "Warning: skipping session with too few trials 19\n",
      "Warning: skipping session with too few trials 16\n",
      "Warning: skipping session with too few trials 21\n",
      "Warning: skipping session with too few trials 23\n",
      "Warning: skipping session with too few trials 25\n",
      "Warning: skipping session with too few trials 23\n",
      "Warning: skipping session with too few trials 16\n",
      "Warning: skipping session with too few trials 23\n",
      "Warning, all sessions had too few trials, this mouse is skipped\n"
     ]
    },
    {
     "data": {
      "application/vnd.jupyter.widget-view+json": {
       "model_id": "22393b0385114c23bb1a48607b197af8",
       "version_major": 2,
       "version_minor": 0
      },
      "text/plain": [
       "IntProgress(value=0, description='mou_5', max=21)"
      ]
     },
     "metadata": {},
     "output_type": "display_data"
    },
    {
     "name": "stdout",
     "output_type": "stream",
     "text": [
      "Warning: skipping session with too few trials 19\n",
      "Warning: skipping session with too few trials 18\n",
      "Warning: skipping session with too few trials 21\n",
      "Warning: skipping session with too few trials 20\n",
      "Warning: skipping session with too few trials 35\n",
      "Warning: skipping session with too few trials 39\n",
      "Warning: skipping session with too few trials 24\n",
      "Warning: skipping session with too few trials 26\n",
      "Warning: skipping session with too few trials 37\n",
      "Warning: skipping session with too few trials 16\n",
      "Warning: skipping session with too few trials 39\n",
      "Warning: skipping session with too few trials 26\n",
      "Warning: skipping session with too few trials 24\n",
      "Warning: skipping session with too few trials 19\n",
      "Warning: skipping session with too few trials 16\n",
      "Warning: skipping session with too few trials 21\n",
      "Warning: skipping session with too few trials 23\n",
      "Warning: skipping session with too few trials 25\n",
      "Warning: skipping session with too few trials 23\n",
      "Warning: skipping session with too few trials 16\n",
      "Warning: skipping session with too few trials 23\n",
      "Warning, all sessions had too few trials, this mouse is skipped\n"
     ]
    },
    {
     "data": {
      "application/vnd.jupyter.widget-view+json": {
       "model_id": "8e5ee906f3184c76941e68ca60aa9e6f",
       "version_major": 2,
       "version_minor": 0
      },
      "text/plain": [
       "IntProgress(value=0, description='mou_5', max=21)"
      ]
     },
     "metadata": {},
     "output_type": "display_data"
    },
    {
     "name": "stdout",
     "output_type": "stream",
     "text": [
      "Warning: skipping session with too few trials 19\n",
      "Warning: skipping session with too few trials 18\n",
      "Warning: skipping session with too few trials 21\n",
      "Warning: skipping session with too few trials 20\n",
      "Warning: skipping session with too few trials 35\n",
      "Warning: skipping session with too few trials 39\n",
      "Warning: skipping session with too few trials 24\n",
      "Warning: skipping session with too few trials 26\n",
      "Warning: skipping session with too few trials 37\n",
      "Warning: skipping session with too few trials 16\n",
      "Warning: skipping session with too few trials 39\n",
      "Warning: skipping session with too few trials 26\n",
      "Warning: skipping session with too few trials 24\n",
      "Warning: skipping session with too few trials 19\n",
      "Warning: skipping session with too few trials 16\n",
      "Warning: skipping session with too few trials 21\n",
      "Warning: skipping session with too few trials 23\n",
      "Warning: skipping session with too few trials 25\n",
      "Warning: skipping session with too few trials 23\n",
      "Warning: skipping session with too few trials 16\n",
      "Warning: skipping session with too few trials 23\n",
      "Warning, all sessions had too few trials, this mouse is skipped\n"
     ]
    },
    {
     "data": {
      "application/vnd.jupyter.widget-view+json": {
       "model_id": "7d3fbf8a67c046da8dfb3750eeda329f",
       "version_major": 2,
       "version_minor": 0
      },
      "text/plain": [
       "IntProgress(value=0, description='mou_5', max=21)"
      ]
     },
     "metadata": {},
     "output_type": "display_data"
    },
    {
     "name": "stdout",
     "output_type": "stream",
     "text": [
      "Warning: skipping session with too few trials 19\n",
      "Warning: skipping session with too few trials 18\n",
      "Warning: skipping session with too few trials 21\n",
      "Warning: skipping session with too few trials 20\n",
      "Warning: skipping session with too few trials 35\n",
      "Warning: skipping session with too few trials 39\n",
      "Warning: skipping session with too few trials 24\n",
      "Warning: skipping session with too few trials 26\n",
      "Warning: skipping session with too few trials 37\n",
      "Warning: skipping session with too few trials 16\n",
      "Warning: skipping session with too few trials 39\n",
      "Warning: skipping session with too few trials 26\n",
      "Warning: skipping session with too few trials 24\n",
      "Warning: skipping session with too few trials 19\n",
      "Warning: skipping session with too few trials 16\n",
      "Warning: skipping session with too few trials 21\n",
      "Warning: skipping session with too few trials 23\n",
      "Warning: skipping session with too few trials 25\n",
      "Warning: skipping session with too few trials 23\n",
      "Warning: skipping session with too few trials 16\n",
      "Warning: skipping session with too few trials 23\n",
      "Warning, all sessions had too few trials, this mouse is skipped\n"
     ]
    },
    {
     "data": {
      "application/vnd.jupyter.widget-view+json": {
       "model_id": "2c43fb8f1632474fbf20b111cfb32662",
       "version_major": 2,
       "version_minor": 0
      },
      "text/plain": [
       "IntProgress(value=0, description='mou_5', max=21)"
      ]
     },
     "metadata": {},
     "output_type": "display_data"
    },
    {
     "name": "stdout",
     "output_type": "stream",
     "text": [
      "Warning: skipping session with too few trials 41\n",
      "Warning: skipping session with too few trials 44\n",
      "Warning: skipping session with too few trials 45\n",
      "Warning: skipping session with too few trials 47\n",
      "Warning: skipping session with too few trials 46\n",
      "Warning: skipping session with too few trials 39\n",
      "Warning: skipping session with too few trials 45\n",
      "Warning: skipping session with too few trials 49\n",
      "Warning: skipping session with too few trials 46\n"
     ]
    },
    {
     "data": {
      "application/vnd.jupyter.widget-view+json": {
       "model_id": "1f308c57eda1410c81c1ef024654ff17",
       "version_major": 2,
       "version_minor": 0
      },
      "text/plain": [
       "IntProgress(value=0, description='mou_5', max=21)"
      ]
     },
     "metadata": {},
     "output_type": "display_data"
    },
    {
     "name": "stdout",
     "output_type": "stream",
     "text": [
      "Warning: skipping session with too few trials 41\n",
      "Warning: skipping session with too few trials 44\n",
      "Warning: skipping session with too few trials 45\n",
      "Warning: skipping session with too few trials 47\n",
      "Warning: skipping session with too few trials 46\n",
      "Warning: skipping session with too few trials 39\n",
      "Warning: skipping session with too few trials 45\n",
      "Warning: skipping session with too few trials 49\n",
      "Warning: skipping session with too few trials 46\n"
     ]
    },
    {
     "data": {
      "application/vnd.jupyter.widget-view+json": {
       "model_id": "1b20e65bb96a41d899a6e3d53671fe45",
       "version_major": 2,
       "version_minor": 0
      },
      "text/plain": [
       "IntProgress(value=0, description='mou_5', max=21)"
      ]
     },
     "metadata": {},
     "output_type": "display_data"
    },
    {
     "name": "stdout",
     "output_type": "stream",
     "text": [
      "Warning: skipping session with too few trials 41\n",
      "Warning: skipping session with too few trials 44\n",
      "Warning: skipping session with too few trials 45\n",
      "Warning: skipping session with too few trials 47\n",
      "Warning: skipping session with too few trials 46\n",
      "Warning: skipping session with too few trials 39\n",
      "Warning: skipping session with too few trials 45\n",
      "Warning: skipping session with too few trials 49\n",
      "Warning: skipping session with too few trials 46\n"
     ]
    },
    {
     "data": {
      "application/vnd.jupyter.widget-view+json": {
       "model_id": "cddc99f0b51e414b9fbdb71145080104",
       "version_major": 2,
       "version_minor": 0
      },
      "text/plain": [
       "IntProgress(value=0, description='mou_5', max=21)"
      ]
     },
     "metadata": {},
     "output_type": "display_data"
    },
    {
     "name": "stdout",
     "output_type": "stream",
     "text": [
      "Warning: skipping session with too few trials 41\n",
      "Warning: skipping session with too few trials 44\n",
      "Warning: skipping session with too few trials 45\n",
      "Warning: skipping session with too few trials 47\n",
      "Warning: skipping session with too few trials 46\n",
      "Warning: skipping session with too few trials 39\n",
      "Warning: skipping session with too few trials 45\n",
      "Warning: skipping session with too few trials 49\n",
      "Warning: skipping session with too few trials 46\n"
     ]
    },
    {
     "data": {
      "application/vnd.jupyter.widget-view+json": {
       "model_id": "0d5e72763e7e4543ae9b5b5f11760051",
       "version_major": 2,
       "version_minor": 0
      },
      "text/plain": [
       "IntProgress(value=0, description='mou_5', max=21)"
      ]
     },
     "metadata": {},
     "output_type": "display_data"
    },
    {
     "name": "stdout",
     "output_type": "stream",
     "text": [
      "Warning: skipping session with too few trials 41\n",
      "Warning: skipping session with too few trials 44\n",
      "Warning: skipping session with too few trials 45\n",
      "Warning: skipping session with too few trials 47\n",
      "Warning: skipping session with too few trials 46\n",
      "Warning: skipping session with too few trials 39\n",
      "Warning: skipping session with too few trials 45\n",
      "Warning: skipping session with too few trials 49\n",
      "Warning: skipping session with too few trials 46\n"
     ]
    },
    {
     "data": {
      "application/vnd.jupyter.widget-view+json": {
       "model_id": "e741c5e9be3049c2b95bf2559d9e3123",
       "version_major": 2,
       "version_minor": 0
      },
      "text/plain": [
       "IntProgress(value=0, description='mou_5', max=21)"
      ]
     },
     "metadata": {},
     "output_type": "display_data"
    },
    {
     "data": {
      "application/vnd.jupyter.widget-view+json": {
       "model_id": "d3b9cfc396b34f7682fce5339df315ad",
       "version_major": 2,
       "version_minor": 0
      },
      "text/plain": [
       "IntProgress(value=0, description='mou_5', max=21)"
      ]
     },
     "metadata": {},
     "output_type": "display_data"
    },
    {
     "data": {
      "application/vnd.jupyter.widget-view+json": {
       "model_id": "2fd24dcc708c456d9b6c10ca0179ecc4",
       "version_major": 2,
       "version_minor": 0
      },
      "text/plain": [
       "IntProgress(value=0, description='mou_5', max=21)"
      ]
     },
     "metadata": {},
     "output_type": "display_data"
    },
    {
     "data": {
      "application/vnd.jupyter.widget-view+json": {
       "model_id": "a21087a040a94e0f8363ca6e0fe24b8b",
       "version_major": 2,
       "version_minor": 0
      },
      "text/plain": [
       "IntProgress(value=0, description='mou_5', max=21)"
      ]
     },
     "metadata": {},
     "output_type": "display_data"
    },
    {
     "data": {
      "application/vnd.jupyter.widget-view+json": {
       "model_id": "c30d311fefc3483fa1eb988062b370f3",
       "version_major": 2,
       "version_minor": 0
      },
      "text/plain": [
       "IntProgress(value=0, description='mou_5', max=21)"
      ]
     },
     "metadata": {},
     "output_type": "display_data"
    },
    {
     "data": {
      "application/vnd.jupyter.widget-view+json": {
       "model_id": "ccd8683419824072ab39f85f65450d45",
       "version_major": 2,
       "version_minor": 0
      },
      "text/plain": [
       "IntProgress(value=0, description='mou_5', max=21)"
      ]
     },
     "metadata": {},
     "output_type": "display_data"
    },
    {
     "name": "stdout",
     "output_type": "stream",
     "text": [
      "Warning: skipping session with too few trials 19\n",
      "Warning: skipping session with too few trials 18\n",
      "Warning: skipping session with too few trials 21\n",
      "Warning: skipping session with too few trials 20\n",
      "Warning: skipping session with too few trials 35\n",
      "Warning: skipping session with too few trials 39\n",
      "Warning: skipping session with too few trials 24\n",
      "Warning: skipping session with too few trials 26\n",
      "Warning: skipping session with too few trials 37\n",
      "Warning: skipping session with too few trials 16\n",
      "Warning: skipping session with too few trials 39\n",
      "Warning: skipping session with too few trials 26\n",
      "Warning: skipping session with too few trials 24\n",
      "Warning: skipping session with too few trials 19\n",
      "Warning: skipping session with too few trials 16\n",
      "Warning: skipping session with too few trials 21\n",
      "Warning: skipping session with too few trials 23\n",
      "Warning: skipping session with too few trials 25\n",
      "Warning: skipping session with too few trials 23\n",
      "Warning: skipping session with too few trials 16\n",
      "Warning: skipping session with too few trials 23\n",
      "Warning, all sessions had too few trials, this mouse is skipped\n"
     ]
    },
    {
     "data": {
      "application/vnd.jupyter.widget-view+json": {
       "model_id": "475648cb25684882936c3ef2a133089d",
       "version_major": 2,
       "version_minor": 0
      },
      "text/plain": [
       "IntProgress(value=0, description='mou_5', max=21)"
      ]
     },
     "metadata": {},
     "output_type": "display_data"
    },
    {
     "name": "stdout",
     "output_type": "stream",
     "text": [
      "Warning: skipping session with too few trials 19\n",
      "Warning: skipping session with too few trials 18\n",
      "Warning: skipping session with too few trials 21\n",
      "Warning: skipping session with too few trials 20\n",
      "Warning: skipping session with too few trials 35\n",
      "Warning: skipping session with too few trials 39\n",
      "Warning: skipping session with too few trials 24\n",
      "Warning: skipping session with too few trials 26\n",
      "Warning: skipping session with too few trials 37\n",
      "Warning: skipping session with too few trials 16\n",
      "Warning: skipping session with too few trials 39\n",
      "Warning: skipping session with too few trials 26\n",
      "Warning: skipping session with too few trials 24\n",
      "Warning: skipping session with too few trials 19\n",
      "Warning: skipping session with too few trials 16\n",
      "Warning: skipping session with too few trials 21\n",
      "Warning: skipping session with too few trials 23\n",
      "Warning: skipping session with too few trials 25\n",
      "Warning: skipping session with too few trials 23\n",
      "Warning: skipping session with too few trials 16\n",
      "Warning: skipping session with too few trials 23\n",
      "Warning, all sessions had too few trials, this mouse is skipped\n"
     ]
    },
    {
     "data": {
      "application/vnd.jupyter.widget-view+json": {
       "model_id": "a5c479425cb24fe189112e5134d6a2f9",
       "version_major": 2,
       "version_minor": 0
      },
      "text/plain": [
       "IntProgress(value=0, description='mou_5', max=21)"
      ]
     },
     "metadata": {},
     "output_type": "display_data"
    },
    {
     "name": "stdout",
     "output_type": "stream",
     "text": [
      "Warning: skipping session with too few trials 19\n",
      "Warning: skipping session with too few trials 18\n",
      "Warning: skipping session with too few trials 21\n",
      "Warning: skipping session with too few trials 20\n",
      "Warning: skipping session with too few trials 35\n",
      "Warning: skipping session with too few trials 39\n",
      "Warning: skipping session with too few trials 24\n",
      "Warning: skipping session with too few trials 26\n",
      "Warning: skipping session with too few trials 37\n",
      "Warning: skipping session with too few trials 16\n",
      "Warning: skipping session with too few trials 39\n",
      "Warning: skipping session with too few trials 26\n",
      "Warning: skipping session with too few trials 24\n",
      "Warning: skipping session with too few trials 19\n",
      "Warning: skipping session with too few trials 16\n",
      "Warning: skipping session with too few trials 21\n",
      "Warning: skipping session with too few trials 23\n",
      "Warning: skipping session with too few trials 25\n",
      "Warning: skipping session with too few trials 23\n",
      "Warning: skipping session with too few trials 16\n",
      "Warning: skipping session with too few trials 23\n",
      "Warning, all sessions had too few trials, this mouse is skipped\n"
     ]
    },
    {
     "data": {
      "application/vnd.jupyter.widget-view+json": {
       "model_id": "eb884ff411f141c08a2fb1dd0b3b910d",
       "version_major": 2,
       "version_minor": 0
      },
      "text/plain": [
       "IntProgress(value=0, description='mou_5', max=21)"
      ]
     },
     "metadata": {},
     "output_type": "display_data"
    },
    {
     "name": "stdout",
     "output_type": "stream",
     "text": [
      "Warning: skipping session with too few trials 19\n",
      "Warning: skipping session with too few trials 18\n",
      "Warning: skipping session with too few trials 21\n",
      "Warning: skipping session with too few trials 20\n",
      "Warning: skipping session with too few trials 35\n",
      "Warning: skipping session with too few trials 39\n",
      "Warning: skipping session with too few trials 24\n",
      "Warning: skipping session with too few trials 26\n",
      "Warning: skipping session with too few trials 37\n",
      "Warning: skipping session with too few trials 16\n",
      "Warning: skipping session with too few trials 39\n",
      "Warning: skipping session with too few trials 26\n",
      "Warning: skipping session with too few trials 24\n",
      "Warning: skipping session with too few trials 19\n",
      "Warning: skipping session with too few trials 16\n",
      "Warning: skipping session with too few trials 21\n",
      "Warning: skipping session with too few trials 23\n",
      "Warning: skipping session with too few trials 25\n",
      "Warning: skipping session with too few trials 23\n",
      "Warning: skipping session with too few trials 16\n",
      "Warning: skipping session with too few trials 23\n",
      "Warning, all sessions had too few trials, this mouse is skipped\n"
     ]
    },
    {
     "data": {
      "application/vnd.jupyter.widget-view+json": {
       "model_id": "020c2e147a114d7385f27309536dd575",
       "version_major": 2,
       "version_minor": 0
      },
      "text/plain": [
       "IntProgress(value=0, description='mou_5', max=21)"
      ]
     },
     "metadata": {},
     "output_type": "display_data"
    },
    {
     "name": "stdout",
     "output_type": "stream",
     "text": [
      "Warning: skipping session with too few trials 19\n",
      "Warning: skipping session with too few trials 18\n",
      "Warning: skipping session with too few trials 21\n",
      "Warning: skipping session with too few trials 20\n",
      "Warning: skipping session with too few trials 35\n",
      "Warning: skipping session with too few trials 39\n",
      "Warning: skipping session with too few trials 24\n",
      "Warning: skipping session with too few trials 26\n",
      "Warning: skipping session with too few trials 37\n",
      "Warning: skipping session with too few trials 16\n",
      "Warning: skipping session with too few trials 39\n",
      "Warning: skipping session with too few trials 26\n",
      "Warning: skipping session with too few trials 24\n",
      "Warning: skipping session with too few trials 19\n",
      "Warning: skipping session with too few trials 16\n",
      "Warning: skipping session with too few trials 21\n",
      "Warning: skipping session with too few trials 23\n",
      "Warning: skipping session with too few trials 25\n",
      "Warning: skipping session with too few trials 23\n",
      "Warning: skipping session with too few trials 16\n",
      "Warning: skipping session with too few trials 23\n",
      "Warning, all sessions had too few trials, this mouse is skipped\n"
     ]
    },
    {
     "data": {
      "application/vnd.jupyter.widget-view+json": {
       "model_id": "6db9f4fad672412aa50271b7ae2f231a",
       "version_major": 2,
       "version_minor": 0
      },
      "text/plain": [
       "IntProgress(value=0, description='mou_5', max=21)"
      ]
     },
     "metadata": {},
     "output_type": "display_data"
    },
    {
     "name": "stdout",
     "output_type": "stream",
     "text": [
      "Warning: skipping session with too few trials 41\n",
      "Warning: skipping session with too few trials 44\n",
      "Warning: skipping session with too few trials 45\n",
      "Warning: skipping session with too few trials 47\n",
      "Warning: skipping session with too few trials 46\n",
      "Warning: skipping session with too few trials 39\n",
      "Warning: skipping session with too few trials 45\n",
      "Warning: skipping session with too few trials 49\n",
      "Warning: skipping session with too few trials 46\n"
     ]
    },
    {
     "data": {
      "application/vnd.jupyter.widget-view+json": {
       "model_id": "178d00b95b88470aa095f566d1951fff",
       "version_major": 2,
       "version_minor": 0
      },
      "text/plain": [
       "IntProgress(value=0, description='mou_5', max=21)"
      ]
     },
     "metadata": {},
     "output_type": "display_data"
    },
    {
     "name": "stdout",
     "output_type": "stream",
     "text": [
      "Warning: skipping session with too few trials 41\n",
      "Warning: skipping session with too few trials 44\n",
      "Warning: skipping session with too few trials 45\n",
      "Warning: skipping session with too few trials 47\n",
      "Warning: skipping session with too few trials 46\n",
      "Warning: skipping session with too few trials 39\n",
      "Warning: skipping session with too few trials 45\n",
      "Warning: skipping session with too few trials 49\n",
      "Warning: skipping session with too few trials 46\n"
     ]
    },
    {
     "data": {
      "application/vnd.jupyter.widget-view+json": {
       "model_id": "b150024c5dbf4d41ab78fae01b3b13a9",
       "version_major": 2,
       "version_minor": 0
      },
      "text/plain": [
       "IntProgress(value=0, description='mou_5', max=21)"
      ]
     },
     "metadata": {},
     "output_type": "display_data"
    },
    {
     "name": "stdout",
     "output_type": "stream",
     "text": [
      "Warning: skipping session with too few trials 41\n",
      "Warning: skipping session with too few trials 44\n",
      "Warning: skipping session with too few trials 45\n",
      "Warning: skipping session with too few trials 47\n",
      "Warning: skipping session with too few trials 46\n",
      "Warning: skipping session with too few trials 39\n",
      "Warning: skipping session with too few trials 45\n",
      "Warning: skipping session with too few trials 49\n",
      "Warning: skipping session with too few trials 46\n"
     ]
    },
    {
     "data": {
      "application/vnd.jupyter.widget-view+json": {
       "model_id": "c3aa3f83e4094d898a1fa18cf8b27024",
       "version_major": 2,
       "version_minor": 0
      },
      "text/plain": [
       "IntProgress(value=0, description='mou_5', max=21)"
      ]
     },
     "metadata": {},
     "output_type": "display_data"
    },
    {
     "name": "stdout",
     "output_type": "stream",
     "text": [
      "Warning: skipping session with too few trials 41\n",
      "Warning: skipping session with too few trials 44\n",
      "Warning: skipping session with too few trials 45\n",
      "Warning: skipping session with too few trials 47\n",
      "Warning: skipping session with too few trials 46\n",
      "Warning: skipping session with too few trials 39\n",
      "Warning: skipping session with too few trials 45\n",
      "Warning: skipping session with too few trials 49\n",
      "Warning: skipping session with too few trials 46\n"
     ]
    },
    {
     "data": {
      "application/vnd.jupyter.widget-view+json": {
       "model_id": "a365cd0630f04dad80819e6d3f68fa99",
       "version_major": 2,
       "version_minor": 0
      },
      "text/plain": [
       "IntProgress(value=0, description='mou_5', max=21)"
      ]
     },
     "metadata": {},
     "output_type": "display_data"
    },
    {
     "name": "stdout",
     "output_type": "stream",
     "text": [
      "Warning: skipping session with too few trials 41\n",
      "Warning: skipping session with too few trials 44\n",
      "Warning: skipping session with too few trials 45\n",
      "Warning: skipping session with too few trials 47\n",
      "Warning: skipping session with too few trials 46\n",
      "Warning: skipping session with too few trials 39\n",
      "Warning: skipping session with too few trials 45\n",
      "Warning: skipping session with too few trials 49\n",
      "Warning: skipping session with too few trials 46\n"
     ]
    },
    {
     "data": {
      "application/vnd.jupyter.widget-view+json": {
       "model_id": "316578cb5dd0463483137f011bbf0d8c",
       "version_major": 2,
       "version_minor": 0
      },
      "text/plain": [
       "IntProgress(value=0, description='mou_5', max=21)"
      ]
     },
     "metadata": {},
     "output_type": "display_data"
    },
    {
     "data": {
      "application/vnd.jupyter.widget-view+json": {
       "model_id": "1436bc2a2c534a0cb957958de0632a9c",
       "version_major": 2,
       "version_minor": 0
      },
      "text/plain": [
       "IntProgress(value=0, description='mou_5', max=21)"
      ]
     },
     "metadata": {},
     "output_type": "display_data"
    },
    {
     "data": {
      "application/vnd.jupyter.widget-view+json": {
       "model_id": "f1e0e44986a54e96aac6b2d9399db7e4",
       "version_major": 2,
       "version_minor": 0
      },
      "text/plain": [
       "IntProgress(value=0, description='mou_5', max=21)"
      ]
     },
     "metadata": {},
     "output_type": "display_data"
    },
    {
     "data": {
      "application/vnd.jupyter.widget-view+json": {
       "model_id": "e280269baf79434c960ce8e33cfdaa6c",
       "version_major": 2,
       "version_minor": 0
      },
      "text/plain": [
       "IntProgress(value=0, description='mou_5', max=21)"
      ]
     },
     "metadata": {},
     "output_type": "display_data"
    },
    {
     "data": {
      "application/vnd.jupyter.widget-view+json": {
       "model_id": "9912b655114d4bdaad7802bf676c49e1",
       "version_major": 2,
       "version_minor": 0
      },
      "text/plain": [
       "IntProgress(value=0, description='mou_5', max=21)"
      ]
     },
     "metadata": {},
     "output_type": "display_data"
    },
    {
     "name": "stdout",
     "output_type": "stream",
     "text": [
      "Warning: skipping session with too few trials 19\n",
      "Warning: skipping session with too few trials 18\n",
      "Warning: skipping session with too few trials 21\n",
      "Warning: skipping session with too few trials 20\n",
      "Warning: skipping session with too few trials 35\n",
      "Warning: skipping session with too few trials 39\n",
      "Warning: skipping session with too few trials 24\n",
      "Warning: skipping session with too few trials 26\n",
      "Warning: skipping session with too few trials 37\n",
      "Warning: skipping session with too few trials 16\n",
      "Warning: skipping session with too few trials 39\n",
      "Warning: skipping session with too few trials 26\n",
      "Warning: skipping session with too few trials 24\n",
      "Warning: skipping session with too few trials 19\n",
      "Warning: skipping session with too few trials 16\n",
      "Warning: skipping session with too few trials 21\n",
      "Warning: skipping session with too few trials 23\n",
      "Warning: skipping session with too few trials 25\n",
      "Warning: skipping session with too few trials 23\n",
      "Warning: skipping session with too few trials 16\n",
      "Warning: skipping session with too few trials 23\n",
      "Warning, all sessions had too few trials, this mouse is skipped\n"
     ]
    },
    {
     "data": {
      "application/vnd.jupyter.widget-view+json": {
       "model_id": "c92273a3873b4f71b094970e6ddc34c2",
       "version_major": 2,
       "version_minor": 0
      },
      "text/plain": [
       "IntProgress(value=0, description='mou_5', max=21)"
      ]
     },
     "metadata": {},
     "output_type": "display_data"
    },
    {
     "name": "stdout",
     "output_type": "stream",
     "text": [
      "Warning: skipping session with too few trials 19\n",
      "Warning: skipping session with too few trials 18\n",
      "Warning: skipping session with too few trials 21\n",
      "Warning: skipping session with too few trials 20\n",
      "Warning: skipping session with too few trials 35\n",
      "Warning: skipping session with too few trials 39\n",
      "Warning: skipping session with too few trials 24\n",
      "Warning: skipping session with too few trials 26\n",
      "Warning: skipping session with too few trials 37\n",
      "Warning: skipping session with too few trials 16\n",
      "Warning: skipping session with too few trials 39\n",
      "Warning: skipping session with too few trials 26\n",
      "Warning: skipping session with too few trials 24\n",
      "Warning: skipping session with too few trials 19\n",
      "Warning: skipping session with too few trials 16\n",
      "Warning: skipping session with too few trials 21\n",
      "Warning: skipping session with too few trials 23\n",
      "Warning: skipping session with too few trials 25\n",
      "Warning: skipping session with too few trials 23\n",
      "Warning: skipping session with too few trials 16\n",
      "Warning: skipping session with too few trials 23\n",
      "Warning, all sessions had too few trials, this mouse is skipped\n"
     ]
    },
    {
     "data": {
      "application/vnd.jupyter.widget-view+json": {
       "model_id": "ccf28c068bc44a0a9e22b4fa7cd0e5cd",
       "version_major": 2,
       "version_minor": 0
      },
      "text/plain": [
       "IntProgress(value=0, description='mou_5', max=21)"
      ]
     },
     "metadata": {},
     "output_type": "display_data"
    },
    {
     "name": "stdout",
     "output_type": "stream",
     "text": [
      "Warning: skipping session with too few trials 19\n",
      "Warning: skipping session with too few trials 18\n",
      "Warning: skipping session with too few trials 21\n",
      "Warning: skipping session with too few trials 20\n",
      "Warning: skipping session with too few trials 35\n",
      "Warning: skipping session with too few trials 39\n",
      "Warning: skipping session with too few trials 24\n",
      "Warning: skipping session with too few trials 26\n",
      "Warning: skipping session with too few trials 37\n",
      "Warning: skipping session with too few trials 16\n",
      "Warning: skipping session with too few trials 39\n",
      "Warning: skipping session with too few trials 26\n",
      "Warning: skipping session with too few trials 24\n",
      "Warning: skipping session with too few trials 19\n",
      "Warning: skipping session with too few trials 16\n",
      "Warning: skipping session with too few trials 21\n",
      "Warning: skipping session with too few trials 23\n",
      "Warning: skipping session with too few trials 25\n",
      "Warning: skipping session with too few trials 23\n",
      "Warning: skipping session with too few trials 16\n",
      "Warning: skipping session with too few trials 23\n",
      "Warning, all sessions had too few trials, this mouse is skipped\n"
     ]
    },
    {
     "data": {
      "application/vnd.jupyter.widget-view+json": {
       "model_id": "311de5240c25409b86e03a2ddbb7a00b",
       "version_major": 2,
       "version_minor": 0
      },
      "text/plain": [
       "IntProgress(value=0, description='mou_5', max=21)"
      ]
     },
     "metadata": {},
     "output_type": "display_data"
    },
    {
     "name": "stdout",
     "output_type": "stream",
     "text": [
      "Warning: skipping session with too few trials 19\n",
      "Warning: skipping session with too few trials 18\n",
      "Warning: skipping session with too few trials 21\n",
      "Warning: skipping session with too few trials 20\n",
      "Warning: skipping session with too few trials 35\n",
      "Warning: skipping session with too few trials 39\n",
      "Warning: skipping session with too few trials 24\n",
      "Warning: skipping session with too few trials 26\n",
      "Warning: skipping session with too few trials 37\n",
      "Warning: skipping session with too few trials 16\n",
      "Warning: skipping session with too few trials 39\n",
      "Warning: skipping session with too few trials 26\n",
      "Warning: skipping session with too few trials 24\n",
      "Warning: skipping session with too few trials 19\n",
      "Warning: skipping session with too few trials 16\n",
      "Warning: skipping session with too few trials 21\n",
      "Warning: skipping session with too few trials 23\n",
      "Warning: skipping session with too few trials 25\n",
      "Warning: skipping session with too few trials 23\n",
      "Warning: skipping session with too few trials 16\n",
      "Warning: skipping session with too few trials 23\n",
      "Warning, all sessions had too few trials, this mouse is skipped\n"
     ]
    },
    {
     "data": {
      "application/vnd.jupyter.widget-view+json": {
       "model_id": "964bee689dcd4a99960440cb9303512c",
       "version_major": 2,
       "version_minor": 0
      },
      "text/plain": [
       "IntProgress(value=0, description='mou_5', max=21)"
      ]
     },
     "metadata": {},
     "output_type": "display_data"
    },
    {
     "name": "stdout",
     "output_type": "stream",
     "text": [
      "Warning: skipping session with too few trials 41\n",
      "Warning: skipping session with too few trials 44\n",
      "Warning: skipping session with too few trials 45\n",
      "Warning: skipping session with too few trials 47\n",
      "Warning: skipping session with too few trials 46\n",
      "Warning: skipping session with too few trials 39\n",
      "Warning: skipping session with too few trials 45\n",
      "Warning: skipping session with too few trials 49\n",
      "Warning: skipping session with too few trials 46\n"
     ]
    },
    {
     "data": {
      "application/vnd.jupyter.widget-view+json": {
       "model_id": "bbb44abd2d0b42519fb112ec530e0d3b",
       "version_major": 2,
       "version_minor": 0
      },
      "text/plain": [
       "IntProgress(value=0, description='mou_5', max=21)"
      ]
     },
     "metadata": {},
     "output_type": "display_data"
    },
    {
     "name": "stdout",
     "output_type": "stream",
     "text": [
      "Warning: skipping session with too few trials 41\n",
      "Warning: skipping session with too few trials 44\n",
      "Warning: skipping session with too few trials 45\n",
      "Warning: skipping session with too few trials 47\n",
      "Warning: skipping session with too few trials 46\n",
      "Warning: skipping session with too few trials 39\n",
      "Warning: skipping session with too few trials 45\n",
      "Warning: skipping session with too few trials 49\n",
      "Warning: skipping session with too few trials 46\n"
     ]
    },
    {
     "data": {
      "application/vnd.jupyter.widget-view+json": {
       "model_id": "4cff447223944cc98c859dafc3f0476e",
       "version_major": 2,
       "version_minor": 0
      },
      "text/plain": [
       "IntProgress(value=0, description='mou_5', max=21)"
      ]
     },
     "metadata": {},
     "output_type": "display_data"
    },
    {
     "name": "stdout",
     "output_type": "stream",
     "text": [
      "Warning: skipping session with too few trials 41\n",
      "Warning: skipping session with too few trials 44\n",
      "Warning: skipping session with too few trials 45\n",
      "Warning: skipping session with too few trials 47\n",
      "Warning: skipping session with too few trials 46\n",
      "Warning: skipping session with too few trials 39\n",
      "Warning: skipping session with too few trials 45\n",
      "Warning: skipping session with too few trials 49\n",
      "Warning: skipping session with too few trials 46\n"
     ]
    },
    {
     "data": {
      "application/vnd.jupyter.widget-view+json": {
       "model_id": "b1a620f7122049b3a022078cfc53a1de",
       "version_major": 2,
       "version_minor": 0
      },
      "text/plain": [
       "IntProgress(value=0, description='mou_5', max=21)"
      ]
     },
     "metadata": {},
     "output_type": "display_data"
    },
    {
     "name": "stdout",
     "output_type": "stream",
     "text": [
      "Warning: skipping session with too few trials 41\n",
      "Warning: skipping session with too few trials 44\n",
      "Warning: skipping session with too few trials 45\n",
      "Warning: skipping session with too few trials 47\n",
      "Warning: skipping session with too few trials 46\n",
      "Warning: skipping session with too few trials 39\n",
      "Warning: skipping session with too few trials 45\n",
      "Warning: skipping session with too few trials 49\n",
      "Warning: skipping session with too few trials 46\n"
     ]
    },
    {
     "data": {
      "application/vnd.jupyter.widget-view+json": {
       "model_id": "a1c4d289aca24b90b222a9c5e0068802",
       "version_major": 2,
       "version_minor": 0
      },
      "text/plain": [
       "IntProgress(value=0, description='mou_6', max=29)"
      ]
     },
     "metadata": {},
     "output_type": "display_data"
    },
    {
     "data": {
      "application/vnd.jupyter.widget-view+json": {
       "model_id": "8987e110e5004ec9974d8891292f3eb6",
       "version_major": 2,
       "version_minor": 0
      },
      "text/plain": [
       "IntProgress(value=0, description='mou_6', max=29)"
      ]
     },
     "metadata": {},
     "output_type": "display_data"
    },
    {
     "data": {
      "application/vnd.jupyter.widget-view+json": {
       "model_id": "5aca3c5fbcdc41a68c086af7448e9426",
       "version_major": 2,
       "version_minor": 0
      },
      "text/plain": [
       "IntProgress(value=0, description='mou_6', max=29)"
      ]
     },
     "metadata": {},
     "output_type": "display_data"
    },
    {
     "data": {
      "application/vnd.jupyter.widget-view+json": {
       "model_id": "e49251c211d54d25acdb5e947e0008ca",
       "version_major": 2,
       "version_minor": 0
      },
      "text/plain": [
       "IntProgress(value=0, description='mou_6', max=29)"
      ]
     },
     "metadata": {},
     "output_type": "display_data"
    },
    {
     "data": {
      "application/vnd.jupyter.widget-view+json": {
       "model_id": "729865f684974233876b6d194eb0c979",
       "version_major": 2,
       "version_minor": 0
      },
      "text/plain": [
       "IntProgress(value=0, description='mou_6', max=29)"
      ]
     },
     "metadata": {},
     "output_type": "display_data"
    },
    {
     "data": {
      "application/vnd.jupyter.widget-view+json": {
       "model_id": "466b01c469f9422dae68875ae37c9cf8",
       "version_major": 2,
       "version_minor": 0
      },
      "text/plain": [
       "IntProgress(value=0, description='mou_6', max=29)"
      ]
     },
     "metadata": {},
     "output_type": "display_data"
    },
    {
     "name": "stdout",
     "output_type": "stream",
     "text": [
      "Warning: skipping session with too few trials 17\n",
      "Warning: skipping session with too few trials 19\n",
      "Warning: skipping session with too few trials 29\n",
      "Warning: skipping session with too few trials 18\n",
      "Warning: skipping session with too few trials 29\n",
      "Warning: skipping session with too few trials 17\n",
      "Warning: skipping session with too few trials 14\n",
      "Warning: skipping session with too few trials 15\n",
      "Warning: skipping session with too few trials 29\n",
      "Warning: skipping session with too few trials 21\n",
      "Warning: skipping session with too few trials 34\n",
      "Warning: skipping session with too few trials 22\n",
      "Warning: skipping session with too few trials 21\n",
      "Warning: skipping session with too few trials 25\n",
      "Warning: skipping session with too few trials 18\n",
      "Warning: skipping session with too few trials 26\n",
      "Warning: skipping session with too few trials 18\n",
      "Warning: skipping session with too few trials 19\n",
      "Warning: skipping session with too few trials 20\n",
      "Warning: skipping session with too few trials 34\n",
      "Warning: skipping session with too few trials 40\n",
      "Warning: skipping session with too few trials 22\n",
      "Warning: skipping session with too few trials 28\n",
      "Warning: skipping session with too few trials 28\n",
      "Warning: skipping session with too few trials 34\n",
      "Warning: skipping session with too few trials 33\n",
      "Warning: skipping session with too few trials 34\n",
      "Warning: skipping session with too few trials 17\n"
     ]
    },
    {
     "data": {
      "application/vnd.jupyter.widget-view+json": {
       "model_id": "6567e4ceec7e4aa1a320042d41aa2acd",
       "version_major": 2,
       "version_minor": 0
      },
      "text/plain": [
       "IntProgress(value=0, description='mou_6', max=29)"
      ]
     },
     "metadata": {},
     "output_type": "display_data"
    },
    {
     "name": "stdout",
     "output_type": "stream",
     "text": [
      "Warning: skipping session with too few trials 17\n",
      "Warning: skipping session with too few trials 19\n",
      "Warning: skipping session with too few trials 29\n",
      "Warning: skipping session with too few trials 18\n",
      "Warning: skipping session with too few trials 29\n",
      "Warning: skipping session with too few trials 17\n",
      "Warning: skipping session with too few trials 14\n",
      "Warning: skipping session with too few trials 15\n",
      "Warning: skipping session with too few trials 29\n",
      "Warning: skipping session with too few trials 21\n",
      "Warning: skipping session with too few trials 34\n",
      "Warning: skipping session with too few trials 22\n",
      "Warning: skipping session with too few trials 21\n",
      "Warning: skipping session with too few trials 25\n",
      "Warning: skipping session with too few trials 18\n",
      "Warning: skipping session with too few trials 26\n",
      "Warning: skipping session with too few trials 18\n",
      "Warning: skipping session with too few trials 19\n",
      "Warning: skipping session with too few trials 20\n",
      "Warning: skipping session with too few trials 34\n",
      "Warning: skipping session with too few trials 40\n",
      "Warning: skipping session with too few trials 22\n",
      "Warning: skipping session with too few trials 28\n",
      "Warning: skipping session with too few trials 28\n",
      "Warning: skipping session with too few trials 34\n",
      "Warning: skipping session with too few trials 33\n",
      "Warning: skipping session with too few trials 34\n",
      "Warning: skipping session with too few trials 17\n"
     ]
    },
    {
     "data": {
      "application/vnd.jupyter.widget-view+json": {
       "model_id": "f1897dac2ba14db0b6538da1d18f2568",
       "version_major": 2,
       "version_minor": 0
      },
      "text/plain": [
       "IntProgress(value=0, description='mou_6', max=29)"
      ]
     },
     "metadata": {},
     "output_type": "display_data"
    },
    {
     "name": "stdout",
     "output_type": "stream",
     "text": [
      "Warning: skipping session with too few trials 17\n",
      "Warning: skipping session with too few trials 19\n",
      "Warning: skipping session with too few trials 29\n",
      "Warning: skipping session with too few trials 18\n",
      "Warning: skipping session with too few trials 29\n",
      "Warning: skipping session with too few trials 17\n",
      "Warning: skipping session with too few trials 14\n",
      "Warning: skipping session with too few trials 15\n",
      "Warning: skipping session with too few trials 29\n",
      "Warning: skipping session with too few trials 21\n",
      "Warning: skipping session with too few trials 34\n",
      "Warning: skipping session with too few trials 22\n",
      "Warning: skipping session with too few trials 21\n",
      "Warning: skipping session with too few trials 25\n",
      "Warning: skipping session with too few trials 18\n",
      "Warning: skipping session with too few trials 26\n",
      "Warning: skipping session with too few trials 18\n",
      "Warning: skipping session with too few trials 19\n",
      "Warning: skipping session with too few trials 20\n",
      "Warning: skipping session with too few trials 34\n",
      "Warning: skipping session with too few trials 40\n",
      "Warning: skipping session with too few trials 22\n",
      "Warning: skipping session with too few trials 28\n",
      "Warning: skipping session with too few trials 28\n",
      "Warning: skipping session with too few trials 34\n",
      "Warning: skipping session with too few trials 33\n",
      "Warning: skipping session with too few trials 34\n",
      "Warning: skipping session with too few trials 17\n"
     ]
    },
    {
     "data": {
      "application/vnd.jupyter.widget-view+json": {
       "model_id": "3edb6ddaa3444d189c8c604e4808056d",
       "version_major": 2,
       "version_minor": 0
      },
      "text/plain": [
       "IntProgress(value=0, description='mou_6', max=29)"
      ]
     },
     "metadata": {},
     "output_type": "display_data"
    },
    {
     "name": "stdout",
     "output_type": "stream",
     "text": [
      "Warning: skipping session with too few trials 17\n",
      "Warning: skipping session with too few trials 19\n",
      "Warning: skipping session with too few trials 29\n",
      "Warning: skipping session with too few trials 18\n",
      "Warning: skipping session with too few trials 29\n",
      "Warning: skipping session with too few trials 17\n",
      "Warning: skipping session with too few trials 14\n",
      "Warning: skipping session with too few trials 15\n",
      "Warning: skipping session with too few trials 29\n",
      "Warning: skipping session with too few trials 21\n",
      "Warning: skipping session with too few trials 34\n",
      "Warning: skipping session with too few trials 22\n",
      "Warning: skipping session with too few trials 21\n",
      "Warning: skipping session with too few trials 25\n",
      "Warning: skipping session with too few trials 18\n",
      "Warning: skipping session with too few trials 26\n",
      "Warning: skipping session with too few trials 18\n",
      "Warning: skipping session with too few trials 19\n",
      "Warning: skipping session with too few trials 20\n",
      "Warning: skipping session with too few trials 34\n",
      "Warning: skipping session with too few trials 40\n",
      "Warning: skipping session with too few trials 22\n",
      "Warning: skipping session with too few trials 28\n",
      "Warning: skipping session with too few trials 28\n",
      "Warning: skipping session with too few trials 34\n",
      "Warning: skipping session with too few trials 33\n",
      "Warning: skipping session with too few trials 34\n",
      "Warning: skipping session with too few trials 17\n"
     ]
    },
    {
     "data": {
      "application/vnd.jupyter.widget-view+json": {
       "model_id": "1f3ba48aac9d411f9239930a80151eaa",
       "version_major": 2,
       "version_minor": 0
      },
      "text/plain": [
       "IntProgress(value=0, description='mou_6', max=29)"
      ]
     },
     "metadata": {},
     "output_type": "display_data"
    },
    {
     "name": "stdout",
     "output_type": "stream",
     "text": [
      "Warning: skipping session with too few trials 17\n",
      "Warning: skipping session with too few trials 19\n",
      "Warning: skipping session with too few trials 29\n",
      "Warning: skipping session with too few trials 18\n",
      "Warning: skipping session with too few trials 29\n",
      "Warning: skipping session with too few trials 17\n",
      "Warning: skipping session with too few trials 14\n",
      "Warning: skipping session with too few trials 15\n",
      "Warning: skipping session with too few trials 29\n",
      "Warning: skipping session with too few trials 21\n",
      "Warning: skipping session with too few trials 34\n",
      "Warning: skipping session with too few trials 22\n",
      "Warning: skipping session with too few trials 21\n",
      "Warning: skipping session with too few trials 25\n",
      "Warning: skipping session with too few trials 18\n",
      "Warning: skipping session with too few trials 26\n",
      "Warning: skipping session with too few trials 18\n",
      "Warning: skipping session with too few trials 19\n",
      "Warning: skipping session with too few trials 20\n",
      "Warning: skipping session with too few trials 34\n",
      "Warning: skipping session with too few trials 40\n",
      "Warning: skipping session with too few trials 22\n",
      "Warning: skipping session with too few trials 28\n",
      "Warning: skipping session with too few trials 28\n",
      "Warning: skipping session with too few trials 34\n",
      "Warning: skipping session with too few trials 33\n",
      "Warning: skipping session with too few trials 34\n",
      "Warning: skipping session with too few trials 17\n"
     ]
    },
    {
     "data": {
      "application/vnd.jupyter.widget-view+json": {
       "model_id": "35fc4e1e39424399882462f8c28fdb6f",
       "version_major": 2,
       "version_minor": 0
      },
      "text/plain": [
       "IntProgress(value=0, description='mou_6', max=29)"
      ]
     },
     "metadata": {},
     "output_type": "display_data"
    },
    {
     "name": "stdout",
     "output_type": "stream",
     "text": [
      "Warning: skipping session with too few trials 38\n",
      "Warning: skipping session with too few trials 41\n",
      "Warning: skipping session with too few trials 34\n",
      "Warning: skipping session with too few trials 24\n",
      "Warning: skipping session with too few trials 41\n",
      "Warning: skipping session with too few trials 46\n",
      "Warning: skipping session with too few trials 42\n",
      "Warning: skipping session with too few trials 37\n",
      "Warning: skipping session with too few trials 43\n",
      "Warning: skipping session with too few trials 49\n",
      "Warning: skipping session with too few trials 43\n",
      "Warning: skipping session with too few trials 41\n",
      "Warning: skipping session with too few trials 35\n",
      "Warning: skipping session with too few trials 35\n",
      "Warning: skipping session with too few trials 45\n",
      "Warning: skipping session with too few trials 44\n",
      "Warning: skipping session with too few trials 48\n",
      "Warning: skipping session with too few trials 38\n",
      "Warning: skipping session with too few trials 29\n"
     ]
    },
    {
     "data": {
      "application/vnd.jupyter.widget-view+json": {
       "model_id": "c0e682954a5c4dc7bdf3724db0c0ecc2",
       "version_major": 2,
       "version_minor": 0
      },
      "text/plain": [
       "IntProgress(value=0, description='mou_6', max=29)"
      ]
     },
     "metadata": {},
     "output_type": "display_data"
    },
    {
     "name": "stdout",
     "output_type": "stream",
     "text": [
      "Warning: skipping session with too few trials 38\n",
      "Warning: skipping session with too few trials 41\n",
      "Warning: skipping session with too few trials 34\n",
      "Warning: skipping session with too few trials 24\n",
      "Warning: skipping session with too few trials 41\n",
      "Warning: skipping session with too few trials 46\n",
      "Warning: skipping session with too few trials 42\n",
      "Warning: skipping session with too few trials 37\n",
      "Warning: skipping session with too few trials 43\n",
      "Warning: skipping session with too few trials 49\n",
      "Warning: skipping session with too few trials 43\n",
      "Warning: skipping session with too few trials 41\n",
      "Warning: skipping session with too few trials 35\n",
      "Warning: skipping session with too few trials 35\n",
      "Warning: skipping session with too few trials 45\n",
      "Warning: skipping session with too few trials 44\n",
      "Warning: skipping session with too few trials 48\n",
      "Warning: skipping session with too few trials 38\n",
      "Warning: skipping session with too few trials 29\n"
     ]
    },
    {
     "data": {
      "application/vnd.jupyter.widget-view+json": {
       "model_id": "11cc69195ccc496bbc98e3f7c17fdbef",
       "version_major": 2,
       "version_minor": 0
      },
      "text/plain": [
       "IntProgress(value=0, description='mou_6', max=29)"
      ]
     },
     "metadata": {},
     "output_type": "display_data"
    },
    {
     "name": "stdout",
     "output_type": "stream",
     "text": [
      "Warning: skipping session with too few trials 38\n",
      "Warning: skipping session with too few trials 41\n",
      "Warning: skipping session with too few trials 34\n",
      "Warning: skipping session with too few trials 24\n",
      "Warning: skipping session with too few trials 41\n",
      "Warning: skipping session with too few trials 46\n",
      "Warning: skipping session with too few trials 42\n",
      "Warning: skipping session with too few trials 37\n",
      "Warning: skipping session with too few trials 43\n",
      "Warning: skipping session with too few trials 49\n",
      "Warning: skipping session with too few trials 43\n",
      "Warning: skipping session with too few trials 41\n",
      "Warning: skipping session with too few trials 35\n",
      "Warning: skipping session with too few trials 35\n",
      "Warning: skipping session with too few trials 45\n",
      "Warning: skipping session with too few trials 44\n",
      "Warning: skipping session with too few trials 48\n",
      "Warning: skipping session with too few trials 38\n",
      "Warning: skipping session with too few trials 29\n"
     ]
    },
    {
     "data": {
      "application/vnd.jupyter.widget-view+json": {
       "model_id": "b797b6f2577d44f09d6471e03ded10f0",
       "version_major": 2,
       "version_minor": 0
      },
      "text/plain": [
       "IntProgress(value=0, description='mou_6', max=29)"
      ]
     },
     "metadata": {},
     "output_type": "display_data"
    },
    {
     "name": "stdout",
     "output_type": "stream",
     "text": [
      "Warning: skipping session with too few trials 38\n",
      "Warning: skipping session with too few trials 41\n",
      "Warning: skipping session with too few trials 34\n",
      "Warning: skipping session with too few trials 24\n",
      "Warning: skipping session with too few trials 41\n",
      "Warning: skipping session with too few trials 46\n",
      "Warning: skipping session with too few trials 42\n",
      "Warning: skipping session with too few trials 37\n",
      "Warning: skipping session with too few trials 43\n",
      "Warning: skipping session with too few trials 49\n",
      "Warning: skipping session with too few trials 43\n",
      "Warning: skipping session with too few trials 41\n",
      "Warning: skipping session with too few trials 35\n",
      "Warning: skipping session with too few trials 35\n",
      "Warning: skipping session with too few trials 45\n",
      "Warning: skipping session with too few trials 44\n",
      "Warning: skipping session with too few trials 48\n",
      "Warning: skipping session with too few trials 38\n",
      "Warning: skipping session with too few trials 29\n"
     ]
    },
    {
     "data": {
      "application/vnd.jupyter.widget-view+json": {
       "model_id": "de2db12034d446e798e6b62589f0ff1d",
       "version_major": 2,
       "version_minor": 0
      },
      "text/plain": [
       "IntProgress(value=0, description='mou_6', max=29)"
      ]
     },
     "metadata": {},
     "output_type": "display_data"
    },
    {
     "name": "stdout",
     "output_type": "stream",
     "text": [
      "Warning: skipping session with too few trials 38\n",
      "Warning: skipping session with too few trials 41\n",
      "Warning: skipping session with too few trials 34\n",
      "Warning: skipping session with too few trials 24\n",
      "Warning: skipping session with too few trials 41\n",
      "Warning: skipping session with too few trials 46\n",
      "Warning: skipping session with too few trials 42\n",
      "Warning: skipping session with too few trials 37\n",
      "Warning: skipping session with too few trials 43\n",
      "Warning: skipping session with too few trials 49\n",
      "Warning: skipping session with too few trials 43\n",
      "Warning: skipping session with too few trials 41\n",
      "Warning: skipping session with too few trials 35\n",
      "Warning: skipping session with too few trials 35\n",
      "Warning: skipping session with too few trials 45\n",
      "Warning: skipping session with too few trials 44\n",
      "Warning: skipping session with too few trials 48\n",
      "Warning: skipping session with too few trials 38\n",
      "Warning: skipping session with too few trials 29\n"
     ]
    },
    {
     "data": {
      "application/vnd.jupyter.widget-view+json": {
       "model_id": "ef596289d52c40e3a29e1125fad656e7",
       "version_major": 2,
       "version_minor": 0
      },
      "text/plain": [
       "IntProgress(value=0, description='mou_6', max=29)"
      ]
     },
     "metadata": {},
     "output_type": "display_data"
    },
    {
     "data": {
      "application/vnd.jupyter.widget-view+json": {
       "model_id": "fb6658f8c3634a5bb3599cb7ad9b74c8",
       "version_major": 2,
       "version_minor": 0
      },
      "text/plain": [
       "IntProgress(value=0, description='mou_6', max=29)"
      ]
     },
     "metadata": {},
     "output_type": "display_data"
    },
    {
     "data": {
      "application/vnd.jupyter.widget-view+json": {
       "model_id": "17a9cded8be8441aa406d4b0ea4f98eb",
       "version_major": 2,
       "version_minor": 0
      },
      "text/plain": [
       "IntProgress(value=0, description='mou_6', max=29)"
      ]
     },
     "metadata": {},
     "output_type": "display_data"
    },
    {
     "data": {
      "application/vnd.jupyter.widget-view+json": {
       "model_id": "54225460ee3046d6ad58b922c5454cb1",
       "version_major": 2,
       "version_minor": 0
      },
      "text/plain": [
       "IntProgress(value=0, description='mou_6', max=29)"
      ]
     },
     "metadata": {},
     "output_type": "display_data"
    },
    {
     "data": {
      "application/vnd.jupyter.widget-view+json": {
       "model_id": "b95ce847ec19444daecf95b4e63281eb",
       "version_major": 2,
       "version_minor": 0
      },
      "text/plain": [
       "IntProgress(value=0, description='mou_6', max=29)"
      ]
     },
     "metadata": {},
     "output_type": "display_data"
    },
    {
     "data": {
      "application/vnd.jupyter.widget-view+json": {
       "model_id": "5949b48914394a608b666c57164c1fe6",
       "version_major": 2,
       "version_minor": 0
      },
      "text/plain": [
       "IntProgress(value=0, description='mou_6', max=29)"
      ]
     },
     "metadata": {},
     "output_type": "display_data"
    },
    {
     "name": "stdout",
     "output_type": "stream",
     "text": [
      "Warning: skipping session with too few trials 17\n",
      "Warning: skipping session with too few trials 19\n",
      "Warning: skipping session with too few trials 29\n",
      "Warning: skipping session with too few trials 18\n",
      "Warning: skipping session with too few trials 29\n",
      "Warning: skipping session with too few trials 17\n",
      "Warning: skipping session with too few trials 14\n",
      "Warning: skipping session with too few trials 15\n",
      "Warning: skipping session with too few trials 29\n",
      "Warning: skipping session with too few trials 21\n",
      "Warning: skipping session with too few trials 34\n",
      "Warning: skipping session with too few trials 22\n",
      "Warning: skipping session with too few trials 21\n",
      "Warning: skipping session with too few trials 25\n",
      "Warning: skipping session with too few trials 18\n",
      "Warning: skipping session with too few trials 26\n",
      "Warning: skipping session with too few trials 18\n",
      "Warning: skipping session with too few trials 19\n",
      "Warning: skipping session with too few trials 20\n",
      "Warning: skipping session with too few trials 34\n",
      "Warning: skipping session with too few trials 40\n",
      "Warning: skipping session with too few trials 22\n",
      "Warning: skipping session with too few trials 28\n",
      "Warning: skipping session with too few trials 28\n",
      "Warning: skipping session with too few trials 34\n",
      "Warning: skipping session with too few trials 33\n",
      "Warning: skipping session with too few trials 34\n",
      "Warning: skipping session with too few trials 17\n"
     ]
    },
    {
     "data": {
      "application/vnd.jupyter.widget-view+json": {
       "model_id": "628f11a44c1f45e780b9790ef483fb83",
       "version_major": 2,
       "version_minor": 0
      },
      "text/plain": [
       "IntProgress(value=0, description='mou_6', max=29)"
      ]
     },
     "metadata": {},
     "output_type": "display_data"
    },
    {
     "name": "stdout",
     "output_type": "stream",
     "text": [
      "Warning: skipping session with too few trials 17\n",
      "Warning: skipping session with too few trials 19\n",
      "Warning: skipping session with too few trials 29\n",
      "Warning: skipping session with too few trials 18\n",
      "Warning: skipping session with too few trials 29\n",
      "Warning: skipping session with too few trials 17\n",
      "Warning: skipping session with too few trials 14\n",
      "Warning: skipping session with too few trials 15\n",
      "Warning: skipping session with too few trials 29\n",
      "Warning: skipping session with too few trials 21\n",
      "Warning: skipping session with too few trials 34\n",
      "Warning: skipping session with too few trials 22\n",
      "Warning: skipping session with too few trials 21\n",
      "Warning: skipping session with too few trials 25\n",
      "Warning: skipping session with too few trials 18\n",
      "Warning: skipping session with too few trials 26\n",
      "Warning: skipping session with too few trials 18\n",
      "Warning: skipping session with too few trials 19\n",
      "Warning: skipping session with too few trials 20\n",
      "Warning: skipping session with too few trials 34\n",
      "Warning: skipping session with too few trials 40\n",
      "Warning: skipping session with too few trials 22\n",
      "Warning: skipping session with too few trials 28\n",
      "Warning: skipping session with too few trials 28\n",
      "Warning: skipping session with too few trials 34\n",
      "Warning: skipping session with too few trials 33\n",
      "Warning: skipping session with too few trials 34\n",
      "Warning: skipping session with too few trials 17\n"
     ]
    },
    {
     "data": {
      "application/vnd.jupyter.widget-view+json": {
       "model_id": "d100f99730d14aa2b1451cb5be0a35bf",
       "version_major": 2,
       "version_minor": 0
      },
      "text/plain": [
       "IntProgress(value=0, description='mou_6', max=29)"
      ]
     },
     "metadata": {},
     "output_type": "display_data"
    },
    {
     "name": "stdout",
     "output_type": "stream",
     "text": [
      "Warning: skipping session with too few trials 17\n",
      "Warning: skipping session with too few trials 19\n",
      "Warning: skipping session with too few trials 29\n",
      "Warning: skipping session with too few trials 18\n",
      "Warning: skipping session with too few trials 29\n",
      "Warning: skipping session with too few trials 17\n",
      "Warning: skipping session with too few trials 14\n",
      "Warning: skipping session with too few trials 15\n",
      "Warning: skipping session with too few trials 29\n",
      "Warning: skipping session with too few trials 21\n",
      "Warning: skipping session with too few trials 34\n",
      "Warning: skipping session with too few trials 22\n",
      "Warning: skipping session with too few trials 21\n",
      "Warning: skipping session with too few trials 25\n",
      "Warning: skipping session with too few trials 18\n",
      "Warning: skipping session with too few trials 26\n",
      "Warning: skipping session with too few trials 18\n",
      "Warning: skipping session with too few trials 19\n",
      "Warning: skipping session with too few trials 20\n",
      "Warning: skipping session with too few trials 34\n",
      "Warning: skipping session with too few trials 40\n",
      "Warning: skipping session with too few trials 22\n",
      "Warning: skipping session with too few trials 28\n",
      "Warning: skipping session with too few trials 28\n",
      "Warning: skipping session with too few trials 34\n",
      "Warning: skipping session with too few trials 33\n",
      "Warning: skipping session with too few trials 34\n",
      "Warning: skipping session with too few trials 17\n"
     ]
    },
    {
     "data": {
      "application/vnd.jupyter.widget-view+json": {
       "model_id": "f2104144573a46a8b6e87acb4417db23",
       "version_major": 2,
       "version_minor": 0
      },
      "text/plain": [
       "IntProgress(value=0, description='mou_6', max=29)"
      ]
     },
     "metadata": {},
     "output_type": "display_data"
    },
    {
     "name": "stdout",
     "output_type": "stream",
     "text": [
      "Warning: skipping session with too few trials 17\n",
      "Warning: skipping session with too few trials 19\n",
      "Warning: skipping session with too few trials 29\n",
      "Warning: skipping session with too few trials 18\n",
      "Warning: skipping session with too few trials 29\n",
      "Warning: skipping session with too few trials 17\n",
      "Warning: skipping session with too few trials 14\n",
      "Warning: skipping session with too few trials 15\n",
      "Warning: skipping session with too few trials 29\n",
      "Warning: skipping session with too few trials 21\n",
      "Warning: skipping session with too few trials 34\n",
      "Warning: skipping session with too few trials 22\n",
      "Warning: skipping session with too few trials 21\n",
      "Warning: skipping session with too few trials 25\n",
      "Warning: skipping session with too few trials 18\n",
      "Warning: skipping session with too few trials 26\n",
      "Warning: skipping session with too few trials 18\n",
      "Warning: skipping session with too few trials 19\n",
      "Warning: skipping session with too few trials 20\n",
      "Warning: skipping session with too few trials 34\n",
      "Warning: skipping session with too few trials 40\n",
      "Warning: skipping session with too few trials 22\n",
      "Warning: skipping session with too few trials 28\n",
      "Warning: skipping session with too few trials 28\n",
      "Warning: skipping session with too few trials 34\n",
      "Warning: skipping session with too few trials 33\n",
      "Warning: skipping session with too few trials 34\n",
      "Warning: skipping session with too few trials 17\n"
     ]
    },
    {
     "data": {
      "application/vnd.jupyter.widget-view+json": {
       "model_id": "37ee8c46b4c54a3186b7ccd1e174cefb",
       "version_major": 2,
       "version_minor": 0
      },
      "text/plain": [
       "IntProgress(value=0, description='mou_6', max=29)"
      ]
     },
     "metadata": {},
     "output_type": "display_data"
    },
    {
     "name": "stdout",
     "output_type": "stream",
     "text": [
      "Warning: skipping session with too few trials 17\n",
      "Warning: skipping session with too few trials 19\n",
      "Warning: skipping session with too few trials 29\n",
      "Warning: skipping session with too few trials 18\n",
      "Warning: skipping session with too few trials 29\n",
      "Warning: skipping session with too few trials 17\n",
      "Warning: skipping session with too few trials 14\n",
      "Warning: skipping session with too few trials 15\n",
      "Warning: skipping session with too few trials 29\n",
      "Warning: skipping session with too few trials 21\n",
      "Warning: skipping session with too few trials 34\n",
      "Warning: skipping session with too few trials 22\n",
      "Warning: skipping session with too few trials 21\n",
      "Warning: skipping session with too few trials 25\n",
      "Warning: skipping session with too few trials 18\n",
      "Warning: skipping session with too few trials 26\n",
      "Warning: skipping session with too few trials 18\n",
      "Warning: skipping session with too few trials 19\n",
      "Warning: skipping session with too few trials 20\n",
      "Warning: skipping session with too few trials 34\n",
      "Warning: skipping session with too few trials 40\n",
      "Warning: skipping session with too few trials 22\n",
      "Warning: skipping session with too few trials 28\n",
      "Warning: skipping session with too few trials 28\n",
      "Warning: skipping session with too few trials 34\n",
      "Warning: skipping session with too few trials 33\n",
      "Warning: skipping session with too few trials 34\n",
      "Warning: skipping session with too few trials 17\n"
     ]
    },
    {
     "data": {
      "application/vnd.jupyter.widget-view+json": {
       "model_id": "f107f7b9502340cb9d1adb47d5b925a7",
       "version_major": 2,
       "version_minor": 0
      },
      "text/plain": [
       "IntProgress(value=0, description='mou_6', max=29)"
      ]
     },
     "metadata": {},
     "output_type": "display_data"
    },
    {
     "name": "stdout",
     "output_type": "stream",
     "text": [
      "Warning: skipping session with too few trials 38\n",
      "Warning: skipping session with too few trials 41\n",
      "Warning: skipping session with too few trials 34\n",
      "Warning: skipping session with too few trials 24\n",
      "Warning: skipping session with too few trials 41\n",
      "Warning: skipping session with too few trials 46\n",
      "Warning: skipping session with too few trials 42\n",
      "Warning: skipping session with too few trials 37\n",
      "Warning: skipping session with too few trials 43\n",
      "Warning: skipping session with too few trials 49\n",
      "Warning: skipping session with too few trials 43\n",
      "Warning: skipping session with too few trials 41\n",
      "Warning: skipping session with too few trials 35\n",
      "Warning: skipping session with too few trials 35\n",
      "Warning: skipping session with too few trials 45\n",
      "Warning: skipping session with too few trials 44\n",
      "Warning: skipping session with too few trials 48\n",
      "Warning: skipping session with too few trials 38\n",
      "Warning: skipping session with too few trials 29\n"
     ]
    },
    {
     "data": {
      "application/vnd.jupyter.widget-view+json": {
       "model_id": "ad9b26b5117b40ca9fc89ea00d1f6a02",
       "version_major": 2,
       "version_minor": 0
      },
      "text/plain": [
       "IntProgress(value=0, description='mou_6', max=29)"
      ]
     },
     "metadata": {},
     "output_type": "display_data"
    },
    {
     "name": "stdout",
     "output_type": "stream",
     "text": [
      "Warning: skipping session with too few trials 38\n",
      "Warning: skipping session with too few trials 41\n",
      "Warning: skipping session with too few trials 34\n",
      "Warning: skipping session with too few trials 24\n",
      "Warning: skipping session with too few trials 41\n",
      "Warning: skipping session with too few trials 46\n",
      "Warning: skipping session with too few trials 42\n",
      "Warning: skipping session with too few trials 37\n",
      "Warning: skipping session with too few trials 43\n",
      "Warning: skipping session with too few trials 49\n",
      "Warning: skipping session with too few trials 43\n",
      "Warning: skipping session with too few trials 41\n",
      "Warning: skipping session with too few trials 35\n",
      "Warning: skipping session with too few trials 35\n",
      "Warning: skipping session with too few trials 45\n",
      "Warning: skipping session with too few trials 44\n",
      "Warning: skipping session with too few trials 48\n",
      "Warning: skipping session with too few trials 38\n",
      "Warning: skipping session with too few trials 29\n"
     ]
    },
    {
     "data": {
      "application/vnd.jupyter.widget-view+json": {
       "model_id": "b90385a97754491bb0fee427e26389ac",
       "version_major": 2,
       "version_minor": 0
      },
      "text/plain": [
       "IntProgress(value=0, description='mou_6', max=29)"
      ]
     },
     "metadata": {},
     "output_type": "display_data"
    },
    {
     "name": "stdout",
     "output_type": "stream",
     "text": [
      "Warning: skipping session with too few trials 38\n",
      "Warning: skipping session with too few trials 41\n",
      "Warning: skipping session with too few trials 34\n",
      "Warning: skipping session with too few trials 24\n",
      "Warning: skipping session with too few trials 41\n",
      "Warning: skipping session with too few trials 46\n",
      "Warning: skipping session with too few trials 42\n",
      "Warning: skipping session with too few trials 37\n",
      "Warning: skipping session with too few trials 43\n",
      "Warning: skipping session with too few trials 49\n",
      "Warning: skipping session with too few trials 43\n",
      "Warning: skipping session with too few trials 41\n",
      "Warning: skipping session with too few trials 35\n",
      "Warning: skipping session with too few trials 35\n",
      "Warning: skipping session with too few trials 45\n",
      "Warning: skipping session with too few trials 44\n",
      "Warning: skipping session with too few trials 48\n",
      "Warning: skipping session with too few trials 38\n",
      "Warning: skipping session with too few trials 29\n"
     ]
    },
    {
     "data": {
      "application/vnd.jupyter.widget-view+json": {
       "model_id": "aa6a95c9140c4ab2a8296d9142eeda9c",
       "version_major": 2,
       "version_minor": 0
      },
      "text/plain": [
       "IntProgress(value=0, description='mou_6', max=29)"
      ]
     },
     "metadata": {},
     "output_type": "display_data"
    },
    {
     "name": "stdout",
     "output_type": "stream",
     "text": [
      "Warning: skipping session with too few trials 38\n",
      "Warning: skipping session with too few trials 41\n",
      "Warning: skipping session with too few trials 34\n",
      "Warning: skipping session with too few trials 24\n",
      "Warning: skipping session with too few trials 41\n",
      "Warning: skipping session with too few trials 46\n",
      "Warning: skipping session with too few trials 42\n",
      "Warning: skipping session with too few trials 37\n",
      "Warning: skipping session with too few trials 43\n",
      "Warning: skipping session with too few trials 49\n",
      "Warning: skipping session with too few trials 43\n",
      "Warning: skipping session with too few trials 41\n",
      "Warning: skipping session with too few trials 35\n",
      "Warning: skipping session with too few trials 35\n",
      "Warning: skipping session with too few trials 45\n",
      "Warning: skipping session with too few trials 44\n",
      "Warning: skipping session with too few trials 48\n",
      "Warning: skipping session with too few trials 38\n",
      "Warning: skipping session with too few trials 29\n"
     ]
    },
    {
     "data": {
      "application/vnd.jupyter.widget-view+json": {
       "model_id": "78c596a65f0c4bb2aa4ddc283f9899e3",
       "version_major": 2,
       "version_minor": 0
      },
      "text/plain": [
       "IntProgress(value=0, description='mou_6', max=29)"
      ]
     },
     "metadata": {},
     "output_type": "display_data"
    },
    {
     "name": "stdout",
     "output_type": "stream",
     "text": [
      "Warning: skipping session with too few trials 38\n",
      "Warning: skipping session with too few trials 41\n",
      "Warning: skipping session with too few trials 34\n",
      "Warning: skipping session with too few trials 24\n",
      "Warning: skipping session with too few trials 41\n",
      "Warning: skipping session with too few trials 46\n",
      "Warning: skipping session with too few trials 42\n",
      "Warning: skipping session with too few trials 37\n",
      "Warning: skipping session with too few trials 43\n",
      "Warning: skipping session with too few trials 49\n",
      "Warning: skipping session with too few trials 43\n",
      "Warning: skipping session with too few trials 41\n",
      "Warning: skipping session with too few trials 35\n",
      "Warning: skipping session with too few trials 35\n",
      "Warning: skipping session with too few trials 45\n",
      "Warning: skipping session with too few trials 44\n",
      "Warning: skipping session with too few trials 48\n",
      "Warning: skipping session with too few trials 38\n",
      "Warning: skipping session with too few trials 29\n"
     ]
    },
    {
     "data": {
      "application/vnd.jupyter.widget-view+json": {
       "model_id": "3e01c6e188264b46af71778a3f2334be",
       "version_major": 2,
       "version_minor": 0
      },
      "text/plain": [
       "IntProgress(value=0, description='mou_6', max=29)"
      ]
     },
     "metadata": {},
     "output_type": "display_data"
    },
    {
     "data": {
      "application/vnd.jupyter.widget-view+json": {
       "model_id": "4e5981c1024d427f95a287e448ffde12",
       "version_major": 2,
       "version_minor": 0
      },
      "text/plain": [
       "IntProgress(value=0, description='mou_6', max=29)"
      ]
     },
     "metadata": {},
     "output_type": "display_data"
    },
    {
     "data": {
      "application/vnd.jupyter.widget-view+json": {
       "model_id": "1a8330e3aa3546bc9a0b76d7e2ed22b5",
       "version_major": 2,
       "version_minor": 0
      },
      "text/plain": [
       "IntProgress(value=0, description='mou_6', max=29)"
      ]
     },
     "metadata": {},
     "output_type": "display_data"
    },
    {
     "data": {
      "application/vnd.jupyter.widget-view+json": {
       "model_id": "e436be08bb6245be9251b9f63e2d9cd5",
       "version_major": 2,
       "version_minor": 0
      },
      "text/plain": [
       "IntProgress(value=0, description='mou_6', max=29)"
      ]
     },
     "metadata": {},
     "output_type": "display_data"
    },
    {
     "data": {
      "application/vnd.jupyter.widget-view+json": {
       "model_id": "e4f1c5befb7f4ade83ebc4810386d306",
       "version_major": 2,
       "version_minor": 0
      },
      "text/plain": [
       "IntProgress(value=0, description='mou_6', max=29)"
      ]
     },
     "metadata": {},
     "output_type": "display_data"
    },
    {
     "name": "stdout",
     "output_type": "stream",
     "text": [
      "Warning: skipping session with too few trials 17\n",
      "Warning: skipping session with too few trials 19\n",
      "Warning: skipping session with too few trials 29\n",
      "Warning: skipping session with too few trials 18\n",
      "Warning: skipping session with too few trials 29\n",
      "Warning: skipping session with too few trials 17\n",
      "Warning: skipping session with too few trials 14\n",
      "Warning: skipping session with too few trials 15\n",
      "Warning: skipping session with too few trials 29\n",
      "Warning: skipping session with too few trials 21\n",
      "Warning: skipping session with too few trials 34\n",
      "Warning: skipping session with too few trials 22\n",
      "Warning: skipping session with too few trials 21\n",
      "Warning: skipping session with too few trials 25\n",
      "Warning: skipping session with too few trials 18\n",
      "Warning: skipping session with too few trials 26\n",
      "Warning: skipping session with too few trials 18\n",
      "Warning: skipping session with too few trials 19\n",
      "Warning: skipping session with too few trials 20\n",
      "Warning: skipping session with too few trials 34\n",
      "Warning: skipping session with too few trials 40\n",
      "Warning: skipping session with too few trials 22\n",
      "Warning: skipping session with too few trials 28\n",
      "Warning: skipping session with too few trials 28\n",
      "Warning: skipping session with too few trials 34\n",
      "Warning: skipping session with too few trials 33\n",
      "Warning: skipping session with too few trials 34\n",
      "Warning: skipping session with too few trials 17\n"
     ]
    },
    {
     "data": {
      "application/vnd.jupyter.widget-view+json": {
       "model_id": "7783bc54ec7e4d959411855825b47fed",
       "version_major": 2,
       "version_minor": 0
      },
      "text/plain": [
       "IntProgress(value=0, description='mou_6', max=29)"
      ]
     },
     "metadata": {},
     "output_type": "display_data"
    },
    {
     "name": "stdout",
     "output_type": "stream",
     "text": [
      "Warning: skipping session with too few trials 17\n",
      "Warning: skipping session with too few trials 19\n",
      "Warning: skipping session with too few trials 29\n",
      "Warning: skipping session with too few trials 18\n",
      "Warning: skipping session with too few trials 29\n",
      "Warning: skipping session with too few trials 17\n",
      "Warning: skipping session with too few trials 14\n",
      "Warning: skipping session with too few trials 15\n",
      "Warning: skipping session with too few trials 29\n",
      "Warning: skipping session with too few trials 21\n",
      "Warning: skipping session with too few trials 34\n",
      "Warning: skipping session with too few trials 22\n",
      "Warning: skipping session with too few trials 21\n",
      "Warning: skipping session with too few trials 25\n",
      "Warning: skipping session with too few trials 18\n",
      "Warning: skipping session with too few trials 26\n",
      "Warning: skipping session with too few trials 18\n",
      "Warning: skipping session with too few trials 19\n",
      "Warning: skipping session with too few trials 20\n",
      "Warning: skipping session with too few trials 34\n",
      "Warning: skipping session with too few trials 40\n",
      "Warning: skipping session with too few trials 22\n",
      "Warning: skipping session with too few trials 28\n",
      "Warning: skipping session with too few trials 28\n",
      "Warning: skipping session with too few trials 34\n",
      "Warning: skipping session with too few trials 33\n",
      "Warning: skipping session with too few trials 34\n",
      "Warning: skipping session with too few trials 17\n"
     ]
    },
    {
     "data": {
      "application/vnd.jupyter.widget-view+json": {
       "model_id": "b95a2c26dcad4bf4b2667299b103793c",
       "version_major": 2,
       "version_minor": 0
      },
      "text/plain": [
       "IntProgress(value=0, description='mou_6', max=29)"
      ]
     },
     "metadata": {},
     "output_type": "display_data"
    },
    {
     "name": "stdout",
     "output_type": "stream",
     "text": [
      "Warning: skipping session with too few trials 17\n",
      "Warning: skipping session with too few trials 19\n",
      "Warning: skipping session with too few trials 29\n",
      "Warning: skipping session with too few trials 18\n",
      "Warning: skipping session with too few trials 29\n",
      "Warning: skipping session with too few trials 17\n",
      "Warning: skipping session with too few trials 14\n",
      "Warning: skipping session with too few trials 15\n",
      "Warning: skipping session with too few trials 29\n",
      "Warning: skipping session with too few trials 21\n",
      "Warning: skipping session with too few trials 34\n",
      "Warning: skipping session with too few trials 22\n",
      "Warning: skipping session with too few trials 21\n",
      "Warning: skipping session with too few trials 25\n",
      "Warning: skipping session with too few trials 18\n",
      "Warning: skipping session with too few trials 26\n",
      "Warning: skipping session with too few trials 18\n",
      "Warning: skipping session with too few trials 19\n",
      "Warning: skipping session with too few trials 20\n",
      "Warning: skipping session with too few trials 34\n",
      "Warning: skipping session with too few trials 40\n",
      "Warning: skipping session with too few trials 22\n",
      "Warning: skipping session with too few trials 28\n",
      "Warning: skipping session with too few trials 28\n",
      "Warning: skipping session with too few trials 34\n",
      "Warning: skipping session with too few trials 33\n",
      "Warning: skipping session with too few trials 34\n",
      "Warning: skipping session with too few trials 17\n"
     ]
    },
    {
     "data": {
      "application/vnd.jupyter.widget-view+json": {
       "model_id": "ecc4bd05fe8843179d7d874727e00c49",
       "version_major": 2,
       "version_minor": 0
      },
      "text/plain": [
       "IntProgress(value=0, description='mou_6', max=29)"
      ]
     },
     "metadata": {},
     "output_type": "display_data"
    },
    {
     "name": "stdout",
     "output_type": "stream",
     "text": [
      "Warning: skipping session with too few trials 17\n",
      "Warning: skipping session with too few trials 19\n",
      "Warning: skipping session with too few trials 29\n",
      "Warning: skipping session with too few trials 18\n",
      "Warning: skipping session with too few trials 29\n",
      "Warning: skipping session with too few trials 17\n",
      "Warning: skipping session with too few trials 14\n",
      "Warning: skipping session with too few trials 15\n",
      "Warning: skipping session with too few trials 29\n",
      "Warning: skipping session with too few trials 21\n",
      "Warning: skipping session with too few trials 34\n",
      "Warning: skipping session with too few trials 22\n",
      "Warning: skipping session with too few trials 21\n",
      "Warning: skipping session with too few trials 25\n",
      "Warning: skipping session with too few trials 18\n",
      "Warning: skipping session with too few trials 26\n",
      "Warning: skipping session with too few trials 18\n",
      "Warning: skipping session with too few trials 19\n",
      "Warning: skipping session with too few trials 20\n",
      "Warning: skipping session with too few trials 34\n",
      "Warning: skipping session with too few trials 40\n",
      "Warning: skipping session with too few trials 22\n",
      "Warning: skipping session with too few trials 28\n",
      "Warning: skipping session with too few trials 28\n",
      "Warning: skipping session with too few trials 34\n",
      "Warning: skipping session with too few trials 33\n",
      "Warning: skipping session with too few trials 34\n",
      "Warning: skipping session with too few trials 17\n"
     ]
    },
    {
     "data": {
      "application/vnd.jupyter.widget-view+json": {
       "model_id": "c912ab9225ee4fc5aafc3a6349aee9fc",
       "version_major": 2,
       "version_minor": 0
      },
      "text/plain": [
       "IntProgress(value=0, description='mou_6', max=29)"
      ]
     },
     "metadata": {},
     "output_type": "display_data"
    },
    {
     "name": "stdout",
     "output_type": "stream",
     "text": [
      "Warning: skipping session with too few trials 38\n",
      "Warning: skipping session with too few trials 41\n",
      "Warning: skipping session with too few trials 34\n",
      "Warning: skipping session with too few trials 24\n",
      "Warning: skipping session with too few trials 41\n",
      "Warning: skipping session with too few trials 46\n",
      "Warning: skipping session with too few trials 42\n",
      "Warning: skipping session with too few trials 37\n",
      "Warning: skipping session with too few trials 43\n",
      "Warning: skipping session with too few trials 49\n",
      "Warning: skipping session with too few trials 43\n",
      "Warning: skipping session with too few trials 41\n",
      "Warning: skipping session with too few trials 35\n",
      "Warning: skipping session with too few trials 35\n",
      "Warning: skipping session with too few trials 45\n",
      "Warning: skipping session with too few trials 44\n",
      "Warning: skipping session with too few trials 48\n",
      "Warning: skipping session with too few trials 38\n",
      "Warning: skipping session with too few trials 29\n"
     ]
    },
    {
     "data": {
      "application/vnd.jupyter.widget-view+json": {
       "model_id": "d9411f12806b43f2bd302711ad324166",
       "version_major": 2,
       "version_minor": 0
      },
      "text/plain": [
       "IntProgress(value=0, description='mou_6', max=29)"
      ]
     },
     "metadata": {},
     "output_type": "display_data"
    },
    {
     "name": "stdout",
     "output_type": "stream",
     "text": [
      "Warning: skipping session with too few trials 38\n",
      "Warning: skipping session with too few trials 41\n",
      "Warning: skipping session with too few trials 34\n",
      "Warning: skipping session with too few trials 24\n",
      "Warning: skipping session with too few trials 41\n",
      "Warning: skipping session with too few trials 46\n",
      "Warning: skipping session with too few trials 42\n",
      "Warning: skipping session with too few trials 37\n",
      "Warning: skipping session with too few trials 43\n",
      "Warning: skipping session with too few trials 49\n",
      "Warning: skipping session with too few trials 43\n",
      "Warning: skipping session with too few trials 41\n",
      "Warning: skipping session with too few trials 35\n",
      "Warning: skipping session with too few trials 35\n",
      "Warning: skipping session with too few trials 45\n",
      "Warning: skipping session with too few trials 44\n",
      "Warning: skipping session with too few trials 48\n",
      "Warning: skipping session with too few trials 38\n",
      "Warning: skipping session with too few trials 29\n"
     ]
    },
    {
     "data": {
      "application/vnd.jupyter.widget-view+json": {
       "model_id": "4e25c3e78a0b4d748d3b0b9742461842",
       "version_major": 2,
       "version_minor": 0
      },
      "text/plain": [
       "IntProgress(value=0, description='mou_6', max=29)"
      ]
     },
     "metadata": {},
     "output_type": "display_data"
    },
    {
     "name": "stdout",
     "output_type": "stream",
     "text": [
      "Warning: skipping session with too few trials 38\n",
      "Warning: skipping session with too few trials 41\n",
      "Warning: skipping session with too few trials 34\n",
      "Warning: skipping session with too few trials 24\n",
      "Warning: skipping session with too few trials 41\n",
      "Warning: skipping session with too few trials 46\n",
      "Warning: skipping session with too few trials 42\n",
      "Warning: skipping session with too few trials 37\n",
      "Warning: skipping session with too few trials 43\n",
      "Warning: skipping session with too few trials 49\n",
      "Warning: skipping session with too few trials 43\n",
      "Warning: skipping session with too few trials 41\n",
      "Warning: skipping session with too few trials 35\n",
      "Warning: skipping session with too few trials 35\n",
      "Warning: skipping session with too few trials 45\n",
      "Warning: skipping session with too few trials 44\n",
      "Warning: skipping session with too few trials 48\n",
      "Warning: skipping session with too few trials 38\n",
      "Warning: skipping session with too few trials 29\n"
     ]
    },
    {
     "data": {
      "application/vnd.jupyter.widget-view+json": {
       "model_id": "15682fe7a2374fa8bb8e9d0b585a180a",
       "version_major": 2,
       "version_minor": 0
      },
      "text/plain": [
       "IntProgress(value=0, description='mou_6', max=29)"
      ]
     },
     "metadata": {},
     "output_type": "display_data"
    },
    {
     "name": "stdout",
     "output_type": "stream",
     "text": [
      "Warning: skipping session with too few trials 38\n",
      "Warning: skipping session with too few trials 41\n",
      "Warning: skipping session with too few trials 34\n",
      "Warning: skipping session with too few trials 24\n",
      "Warning: skipping session with too few trials 41\n",
      "Warning: skipping session with too few trials 46\n",
      "Warning: skipping session with too few trials 42\n",
      "Warning: skipping session with too few trials 37\n",
      "Warning: skipping session with too few trials 43\n",
      "Warning: skipping session with too few trials 49\n",
      "Warning: skipping session with too few trials 43\n",
      "Warning: skipping session with too few trials 41\n",
      "Warning: skipping session with too few trials 35\n",
      "Warning: skipping session with too few trials 35\n",
      "Warning: skipping session with too few trials 45\n",
      "Warning: skipping session with too few trials 44\n",
      "Warning: skipping session with too few trials 48\n",
      "Warning: skipping session with too few trials 38\n",
      "Warning: skipping session with too few trials 29\n"
     ]
    },
    {
     "data": {
      "application/vnd.jupyter.widget-view+json": {
       "model_id": "ce659cc73cb14c858c468105d2cea6ac",
       "version_major": 2,
       "version_minor": 0
      },
      "text/plain": [
       "IntProgress(value=0, description='mou_9', max=20)"
      ]
     },
     "metadata": {},
     "output_type": "display_data"
    },
    {
     "data": {
      "application/vnd.jupyter.widget-view+json": {
       "model_id": "9053f3ec57a54c1298ba73236d15ccf3",
       "version_major": 2,
       "version_minor": 0
      },
      "text/plain": [
       "IntProgress(value=0, description='mou_9', max=20)"
      ]
     },
     "metadata": {},
     "output_type": "display_data"
    },
    {
     "data": {
      "application/vnd.jupyter.widget-view+json": {
       "model_id": "cfe19e821e7440d8a5393f8ec21c4c3e",
       "version_major": 2,
       "version_minor": 0
      },
      "text/plain": [
       "IntProgress(value=0, description='mou_9', max=20)"
      ]
     },
     "metadata": {},
     "output_type": "display_data"
    },
    {
     "data": {
      "application/vnd.jupyter.widget-view+json": {
       "model_id": "60b8e9e5e22444069a777cf5e9cc48c1",
       "version_major": 2,
       "version_minor": 0
      },
      "text/plain": [
       "IntProgress(value=0, description='mou_9', max=20)"
      ]
     },
     "metadata": {},
     "output_type": "display_data"
    },
    {
     "data": {
      "application/vnd.jupyter.widget-view+json": {
       "model_id": "7ddeb1978cc3441a9ef3b54c3b9730ce",
       "version_major": 2,
       "version_minor": 0
      },
      "text/plain": [
       "IntProgress(value=0, description='mou_9', max=20)"
      ]
     },
     "metadata": {},
     "output_type": "display_data"
    },
    {
     "data": {
      "application/vnd.jupyter.widget-view+json": {
       "model_id": "ad66f30a844f4a6a9d264bd96990feff",
       "version_major": 2,
       "version_minor": 0
      },
      "text/plain": [
       "IntProgress(value=0, description='mou_9', max=20)"
      ]
     },
     "metadata": {},
     "output_type": "display_data"
    },
    {
     "name": "stdout",
     "output_type": "stream",
     "text": [
      "Warning: skipping session with too few trials 29\n",
      "Warning: skipping session with too few trials 40\n",
      "Warning: skipping session with too few trials 41\n",
      "Warning: skipping session with too few trials 39\n",
      "Warning: skipping session with too few trials 29\n",
      "Warning: skipping session with too few trials 35\n",
      "Warning: skipping session with too few trials 27\n",
      "Warning: skipping session with too few trials 27\n",
      "Warning: skipping session with too few trials 31\n",
      "Warning: skipping session with too few trials 20\n",
      "Warning: skipping session with too few trials 40\n",
      "Warning: skipping session with too few trials 36\n",
      "Warning: skipping session with too few trials 27\n",
      "Warning: skipping session with too few trials 39\n",
      "Warning: skipping session with too few trials 33\n",
      "Warning: skipping session with too few trials 32\n",
      "Warning: skipping session with too few trials 21\n",
      "Warning: skipping session with too few trials 26\n",
      "Warning: skipping session with too few trials 24\n",
      "Warning: skipping session with too few trials 34\n",
      "Warning, all sessions had too few trials, this mouse is skipped\n"
     ]
    },
    {
     "data": {
      "application/vnd.jupyter.widget-view+json": {
       "model_id": "2be4656e3ac24dbbb8d847ebac00de0e",
       "version_major": 2,
       "version_minor": 0
      },
      "text/plain": [
       "IntProgress(value=0, description='mou_9', max=20)"
      ]
     },
     "metadata": {},
     "output_type": "display_data"
    },
    {
     "name": "stdout",
     "output_type": "stream",
     "text": [
      "Warning: skipping session with too few trials 29\n",
      "Warning: skipping session with too few trials 40\n",
      "Warning: skipping session with too few trials 41\n",
      "Warning: skipping session with too few trials 39\n",
      "Warning: skipping session with too few trials 29\n",
      "Warning: skipping session with too few trials 35\n",
      "Warning: skipping session with too few trials 27\n",
      "Warning: skipping session with too few trials 27\n",
      "Warning: skipping session with too few trials 31\n",
      "Warning: skipping session with too few trials 20\n",
      "Warning: skipping session with too few trials 40\n",
      "Warning: skipping session with too few trials 36\n",
      "Warning: skipping session with too few trials 27\n",
      "Warning: skipping session with too few trials 39\n",
      "Warning: skipping session with too few trials 33\n",
      "Warning: skipping session with too few trials 32\n",
      "Warning: skipping session with too few trials 21\n",
      "Warning: skipping session with too few trials 26\n",
      "Warning: skipping session with too few trials 24\n",
      "Warning: skipping session with too few trials 34\n",
      "Warning, all sessions had too few trials, this mouse is skipped\n"
     ]
    },
    {
     "data": {
      "application/vnd.jupyter.widget-view+json": {
       "model_id": "40971fa030674daca5603c4610889515",
       "version_major": 2,
       "version_minor": 0
      },
      "text/plain": [
       "IntProgress(value=0, description='mou_9', max=20)"
      ]
     },
     "metadata": {},
     "output_type": "display_data"
    },
    {
     "name": "stdout",
     "output_type": "stream",
     "text": [
      "Warning: skipping session with too few trials 29\n",
      "Warning: skipping session with too few trials 40\n",
      "Warning: skipping session with too few trials 41\n",
      "Warning: skipping session with too few trials 39\n",
      "Warning: skipping session with too few trials 29\n",
      "Warning: skipping session with too few trials 35\n",
      "Warning: skipping session with too few trials 27\n",
      "Warning: skipping session with too few trials 27\n",
      "Warning: skipping session with too few trials 31\n",
      "Warning: skipping session with too few trials 20\n",
      "Warning: skipping session with too few trials 40\n",
      "Warning: skipping session with too few trials 36\n",
      "Warning: skipping session with too few trials 27\n",
      "Warning: skipping session with too few trials 39\n",
      "Warning: skipping session with too few trials 33\n",
      "Warning: skipping session with too few trials 32\n",
      "Warning: skipping session with too few trials 21\n",
      "Warning: skipping session with too few trials 26\n",
      "Warning: skipping session with too few trials 24\n",
      "Warning: skipping session with too few trials 34\n",
      "Warning, all sessions had too few trials, this mouse is skipped\n"
     ]
    },
    {
     "data": {
      "application/vnd.jupyter.widget-view+json": {
       "model_id": "9f6d83ff7d854862b7c7c9700a3b3855",
       "version_major": 2,
       "version_minor": 0
      },
      "text/plain": [
       "IntProgress(value=0, description='mou_9', max=20)"
      ]
     },
     "metadata": {},
     "output_type": "display_data"
    },
    {
     "name": "stdout",
     "output_type": "stream",
     "text": [
      "Warning: skipping session with too few trials 29\n",
      "Warning: skipping session with too few trials 40\n",
      "Warning: skipping session with too few trials 41\n",
      "Warning: skipping session with too few trials 39\n",
      "Warning: skipping session with too few trials 29\n",
      "Warning: skipping session with too few trials 35\n",
      "Warning: skipping session with too few trials 27\n",
      "Warning: skipping session with too few trials 27\n",
      "Warning: skipping session with too few trials 31\n",
      "Warning: skipping session with too few trials 20\n",
      "Warning: skipping session with too few trials 40\n",
      "Warning: skipping session with too few trials 36\n",
      "Warning: skipping session with too few trials 27\n",
      "Warning: skipping session with too few trials 39\n",
      "Warning: skipping session with too few trials 33\n",
      "Warning: skipping session with too few trials 32\n",
      "Warning: skipping session with too few trials 21\n",
      "Warning: skipping session with too few trials 26\n",
      "Warning: skipping session with too few trials 24\n",
      "Warning: skipping session with too few trials 34\n",
      "Warning, all sessions had too few trials, this mouse is skipped\n"
     ]
    },
    {
     "data": {
      "application/vnd.jupyter.widget-view+json": {
       "model_id": "8e6aff35e000450b8e5826b629788874",
       "version_major": 2,
       "version_minor": 0
      },
      "text/plain": [
       "IntProgress(value=0, description='mou_9', max=20)"
      ]
     },
     "metadata": {},
     "output_type": "display_data"
    },
    {
     "name": "stdout",
     "output_type": "stream",
     "text": [
      "Warning: skipping session with too few trials 29\n",
      "Warning: skipping session with too few trials 40\n",
      "Warning: skipping session with too few trials 41\n",
      "Warning: skipping session with too few trials 39\n",
      "Warning: skipping session with too few trials 29\n",
      "Warning: skipping session with too few trials 35\n",
      "Warning: skipping session with too few trials 27\n",
      "Warning: skipping session with too few trials 27\n",
      "Warning: skipping session with too few trials 31\n",
      "Warning: skipping session with too few trials 20\n",
      "Warning: skipping session with too few trials 40\n",
      "Warning: skipping session with too few trials 36\n",
      "Warning: skipping session with too few trials 27\n",
      "Warning: skipping session with too few trials 39\n",
      "Warning: skipping session with too few trials 33\n",
      "Warning: skipping session with too few trials 32\n",
      "Warning: skipping session with too few trials 21\n",
      "Warning: skipping session with too few trials 26\n",
      "Warning: skipping session with too few trials 24\n",
      "Warning: skipping session with too few trials 34\n",
      "Warning, all sessions had too few trials, this mouse is skipped\n"
     ]
    },
    {
     "data": {
      "application/vnd.jupyter.widget-view+json": {
       "model_id": "0dacd80c93dc4c61829d8fad22927b6c",
       "version_major": 2,
       "version_minor": 0
      },
      "text/plain": [
       "IntProgress(value=0, description='mou_9', max=20)"
      ]
     },
     "metadata": {},
     "output_type": "display_data"
    },
    {
     "name": "stdout",
     "output_type": "stream",
     "text": [
      "Warning: skipping session with too few trials 26\n",
      "Warning: skipping session with too few trials 40\n",
      "Warning: skipping session with too few trials 40\n",
      "Warning: skipping session with too few trials 45\n",
      "Warning: skipping session with too few trials 48\n"
     ]
    },
    {
     "data": {
      "application/vnd.jupyter.widget-view+json": {
       "model_id": "5b92bd827bbf43eca1cfd0470c469b10",
       "version_major": 2,
       "version_minor": 0
      },
      "text/plain": [
       "IntProgress(value=0, description='mou_9', max=20)"
      ]
     },
     "metadata": {},
     "output_type": "display_data"
    },
    {
     "name": "stdout",
     "output_type": "stream",
     "text": [
      "Warning: skipping session with too few trials 26\n",
      "Warning: skipping session with too few trials 40\n",
      "Warning: skipping session with too few trials 40\n",
      "Warning: skipping session with too few trials 45\n",
      "Warning: skipping session with too few trials 48\n"
     ]
    },
    {
     "data": {
      "application/vnd.jupyter.widget-view+json": {
       "model_id": "58ddef2733fb4962b6c76c1014b27666",
       "version_major": 2,
       "version_minor": 0
      },
      "text/plain": [
       "IntProgress(value=0, description='mou_9', max=20)"
      ]
     },
     "metadata": {},
     "output_type": "display_data"
    },
    {
     "name": "stdout",
     "output_type": "stream",
     "text": [
      "Warning: skipping session with too few trials 26\n",
      "Warning: skipping session with too few trials 40\n",
      "Warning: skipping session with too few trials 40\n",
      "Warning: skipping session with too few trials 45\n",
      "Warning: skipping session with too few trials 48\n"
     ]
    },
    {
     "data": {
      "application/vnd.jupyter.widget-view+json": {
       "model_id": "8cec922a6b8b4b80ab7fb9f98dc8e50e",
       "version_major": 2,
       "version_minor": 0
      },
      "text/plain": [
       "IntProgress(value=0, description='mou_9', max=20)"
      ]
     },
     "metadata": {},
     "output_type": "display_data"
    },
    {
     "name": "stdout",
     "output_type": "stream",
     "text": [
      "Warning: skipping session with too few trials 26\n",
      "Warning: skipping session with too few trials 40\n",
      "Warning: skipping session with too few trials 40\n",
      "Warning: skipping session with too few trials 45\n",
      "Warning: skipping session with too few trials 48\n"
     ]
    },
    {
     "data": {
      "application/vnd.jupyter.widget-view+json": {
       "model_id": "a282bde690954fafa645c74be99a2dee",
       "version_major": 2,
       "version_minor": 0
      },
      "text/plain": [
       "IntProgress(value=0, description='mou_9', max=20)"
      ]
     },
     "metadata": {},
     "output_type": "display_data"
    },
    {
     "name": "stdout",
     "output_type": "stream",
     "text": [
      "Warning: skipping session with too few trials 26\n",
      "Warning: skipping session with too few trials 40\n",
      "Warning: skipping session with too few trials 40\n",
      "Warning: skipping session with too few trials 45\n",
      "Warning: skipping session with too few trials 48\n"
     ]
    },
    {
     "data": {
      "application/vnd.jupyter.widget-view+json": {
       "model_id": "9a494a6c78b8460989a3447a2291a909",
       "version_major": 2,
       "version_minor": 0
      },
      "text/plain": [
       "IntProgress(value=0, description='mou_9', max=20)"
      ]
     },
     "metadata": {},
     "output_type": "display_data"
    },
    {
     "data": {
      "application/vnd.jupyter.widget-view+json": {
       "model_id": "0d09b2f6385743479fde32f1263c9e3d",
       "version_major": 2,
       "version_minor": 0
      },
      "text/plain": [
       "IntProgress(value=0, description='mou_9', max=20)"
      ]
     },
     "metadata": {},
     "output_type": "display_data"
    },
    {
     "data": {
      "application/vnd.jupyter.widget-view+json": {
       "model_id": "abfa18e5814c43cb8f8a563e94c97636",
       "version_major": 2,
       "version_minor": 0
      },
      "text/plain": [
       "IntProgress(value=0, description='mou_9', max=20)"
      ]
     },
     "metadata": {},
     "output_type": "display_data"
    },
    {
     "data": {
      "application/vnd.jupyter.widget-view+json": {
       "model_id": "e7afc1fa6beb4c6991d6ee92e057203c",
       "version_major": 2,
       "version_minor": 0
      },
      "text/plain": [
       "IntProgress(value=0, description='mou_9', max=20)"
      ]
     },
     "metadata": {},
     "output_type": "display_data"
    },
    {
     "data": {
      "application/vnd.jupyter.widget-view+json": {
       "model_id": "55b461f4be894060b2e8145b3f3f75fa",
       "version_major": 2,
       "version_minor": 0
      },
      "text/plain": [
       "IntProgress(value=0, description='mou_9', max=20)"
      ]
     },
     "metadata": {},
     "output_type": "display_data"
    },
    {
     "data": {
      "application/vnd.jupyter.widget-view+json": {
       "model_id": "2e3bbb3019b243acba158147eed12509",
       "version_major": 2,
       "version_minor": 0
      },
      "text/plain": [
       "IntProgress(value=0, description='mou_9', max=20)"
      ]
     },
     "metadata": {},
     "output_type": "display_data"
    },
    {
     "name": "stdout",
     "output_type": "stream",
     "text": [
      "Warning: skipping session with too few trials 29\n",
      "Warning: skipping session with too few trials 40\n",
      "Warning: skipping session with too few trials 41\n",
      "Warning: skipping session with too few trials 39\n",
      "Warning: skipping session with too few trials 29\n",
      "Warning: skipping session with too few trials 35\n",
      "Warning: skipping session with too few trials 27\n",
      "Warning: skipping session with too few trials 27\n",
      "Warning: skipping session with too few trials 31\n",
      "Warning: skipping session with too few trials 20\n",
      "Warning: skipping session with too few trials 40\n",
      "Warning: skipping session with too few trials 36\n",
      "Warning: skipping session with too few trials 27\n",
      "Warning: skipping session with too few trials 39\n",
      "Warning: skipping session with too few trials 33\n",
      "Warning: skipping session with too few trials 32\n",
      "Warning: skipping session with too few trials 21\n",
      "Warning: skipping session with too few trials 26\n",
      "Warning: skipping session with too few trials 24\n",
      "Warning: skipping session with too few trials 34\n",
      "Warning, all sessions had too few trials, this mouse is skipped\n"
     ]
    },
    {
     "data": {
      "application/vnd.jupyter.widget-view+json": {
       "model_id": "ffea3c80c83246dfacf3b01b0dc6e9e8",
       "version_major": 2,
       "version_minor": 0
      },
      "text/plain": [
       "IntProgress(value=0, description='mou_9', max=20)"
      ]
     },
     "metadata": {},
     "output_type": "display_data"
    },
    {
     "name": "stdout",
     "output_type": "stream",
     "text": [
      "Warning: skipping session with too few trials 29\n",
      "Warning: skipping session with too few trials 40\n",
      "Warning: skipping session with too few trials 41\n",
      "Warning: skipping session with too few trials 39\n",
      "Warning: skipping session with too few trials 29\n",
      "Warning: skipping session with too few trials 35\n",
      "Warning: skipping session with too few trials 27\n",
      "Warning: skipping session with too few trials 27\n",
      "Warning: skipping session with too few trials 31\n",
      "Warning: skipping session with too few trials 20\n",
      "Warning: skipping session with too few trials 40\n",
      "Warning: skipping session with too few trials 36\n",
      "Warning: skipping session with too few trials 27\n",
      "Warning: skipping session with too few trials 39\n",
      "Warning: skipping session with too few trials 33\n",
      "Warning: skipping session with too few trials 32\n",
      "Warning: skipping session with too few trials 21\n",
      "Warning: skipping session with too few trials 26\n",
      "Warning: skipping session with too few trials 24\n",
      "Warning: skipping session with too few trials 34\n",
      "Warning, all sessions had too few trials, this mouse is skipped\n"
     ]
    },
    {
     "data": {
      "application/vnd.jupyter.widget-view+json": {
       "model_id": "d7f23b66c7474ccc960fbd4fadb9af17",
       "version_major": 2,
       "version_minor": 0
      },
      "text/plain": [
       "IntProgress(value=0, description='mou_9', max=20)"
      ]
     },
     "metadata": {},
     "output_type": "display_data"
    },
    {
     "name": "stdout",
     "output_type": "stream",
     "text": [
      "Warning: skipping session with too few trials 29\n",
      "Warning: skipping session with too few trials 40\n",
      "Warning: skipping session with too few trials 41\n",
      "Warning: skipping session with too few trials 39\n",
      "Warning: skipping session with too few trials 29\n",
      "Warning: skipping session with too few trials 35\n",
      "Warning: skipping session with too few trials 27\n",
      "Warning: skipping session with too few trials 27\n",
      "Warning: skipping session with too few trials 31\n",
      "Warning: skipping session with too few trials 20\n",
      "Warning: skipping session with too few trials 40\n",
      "Warning: skipping session with too few trials 36\n",
      "Warning: skipping session with too few trials 27\n",
      "Warning: skipping session with too few trials 39\n",
      "Warning: skipping session with too few trials 33\n",
      "Warning: skipping session with too few trials 32\n",
      "Warning: skipping session with too few trials 21\n",
      "Warning: skipping session with too few trials 26\n",
      "Warning: skipping session with too few trials 24\n",
      "Warning: skipping session with too few trials 34\n",
      "Warning, all sessions had too few trials, this mouse is skipped\n"
     ]
    },
    {
     "data": {
      "application/vnd.jupyter.widget-view+json": {
       "model_id": "7cebb2099ca541a182752f9616e70fae",
       "version_major": 2,
       "version_minor": 0
      },
      "text/plain": [
       "IntProgress(value=0, description='mou_9', max=20)"
      ]
     },
     "metadata": {},
     "output_type": "display_data"
    },
    {
     "name": "stdout",
     "output_type": "stream",
     "text": [
      "Warning: skipping session with too few trials 29\n",
      "Warning: skipping session with too few trials 40\n",
      "Warning: skipping session with too few trials 41\n",
      "Warning: skipping session with too few trials 39\n",
      "Warning: skipping session with too few trials 29\n",
      "Warning: skipping session with too few trials 35\n",
      "Warning: skipping session with too few trials 27\n",
      "Warning: skipping session with too few trials 27\n",
      "Warning: skipping session with too few trials 31\n",
      "Warning: skipping session with too few trials 20\n",
      "Warning: skipping session with too few trials 40\n",
      "Warning: skipping session with too few trials 36\n",
      "Warning: skipping session with too few trials 27\n",
      "Warning: skipping session with too few trials 39\n",
      "Warning: skipping session with too few trials 33\n",
      "Warning: skipping session with too few trials 32\n",
      "Warning: skipping session with too few trials 21\n",
      "Warning: skipping session with too few trials 26\n",
      "Warning: skipping session with too few trials 24\n",
      "Warning: skipping session with too few trials 34\n",
      "Warning, all sessions had too few trials, this mouse is skipped\n"
     ]
    },
    {
     "data": {
      "application/vnd.jupyter.widget-view+json": {
       "model_id": "cd334649bba74f72b528669a27cfa6ea",
       "version_major": 2,
       "version_minor": 0
      },
      "text/plain": [
       "IntProgress(value=0, description='mou_9', max=20)"
      ]
     },
     "metadata": {},
     "output_type": "display_data"
    },
    {
     "name": "stdout",
     "output_type": "stream",
     "text": [
      "Warning: skipping session with too few trials 29\n",
      "Warning: skipping session with too few trials 40\n",
      "Warning: skipping session with too few trials 41\n",
      "Warning: skipping session with too few trials 39\n",
      "Warning: skipping session with too few trials 29\n",
      "Warning: skipping session with too few trials 35\n",
      "Warning: skipping session with too few trials 27\n",
      "Warning: skipping session with too few trials 27\n",
      "Warning: skipping session with too few trials 31\n",
      "Warning: skipping session with too few trials 20\n",
      "Warning: skipping session with too few trials 40\n",
      "Warning: skipping session with too few trials 36\n",
      "Warning: skipping session with too few trials 27\n",
      "Warning: skipping session with too few trials 39\n",
      "Warning: skipping session with too few trials 33\n",
      "Warning: skipping session with too few trials 32\n",
      "Warning: skipping session with too few trials 21\n",
      "Warning: skipping session with too few trials 26\n",
      "Warning: skipping session with too few trials 24\n",
      "Warning: skipping session with too few trials 34\n",
      "Warning, all sessions had too few trials, this mouse is skipped\n"
     ]
    },
    {
     "data": {
      "application/vnd.jupyter.widget-view+json": {
       "model_id": "0bb1c9e147654ba0a0cdfad3340cf178",
       "version_major": 2,
       "version_minor": 0
      },
      "text/plain": [
       "IntProgress(value=0, description='mou_9', max=20)"
      ]
     },
     "metadata": {},
     "output_type": "display_data"
    },
    {
     "name": "stdout",
     "output_type": "stream",
     "text": [
      "Warning: skipping session with too few trials 26\n",
      "Warning: skipping session with too few trials 40\n",
      "Warning: skipping session with too few trials 40\n",
      "Warning: skipping session with too few trials 45\n",
      "Warning: skipping session with too few trials 48\n"
     ]
    },
    {
     "data": {
      "application/vnd.jupyter.widget-view+json": {
       "model_id": "2037af858ce34e17ac18730e0546d2f9",
       "version_major": 2,
       "version_minor": 0
      },
      "text/plain": [
       "IntProgress(value=0, description='mou_9', max=20)"
      ]
     },
     "metadata": {},
     "output_type": "display_data"
    },
    {
     "name": "stdout",
     "output_type": "stream",
     "text": [
      "Warning: skipping session with too few trials 26\n",
      "Warning: skipping session with too few trials 40\n",
      "Warning: skipping session with too few trials 40\n",
      "Warning: skipping session with too few trials 45\n",
      "Warning: skipping session with too few trials 48\n"
     ]
    },
    {
     "data": {
      "application/vnd.jupyter.widget-view+json": {
       "model_id": "be47a7e51f074878a1c3b110ef5fac57",
       "version_major": 2,
       "version_minor": 0
      },
      "text/plain": [
       "IntProgress(value=0, description='mou_9', max=20)"
      ]
     },
     "metadata": {},
     "output_type": "display_data"
    },
    {
     "name": "stdout",
     "output_type": "stream",
     "text": [
      "Warning: skipping session with too few trials 26\n",
      "Warning: skipping session with too few trials 40\n",
      "Warning: skipping session with too few trials 40\n",
      "Warning: skipping session with too few trials 45\n",
      "Warning: skipping session with too few trials 48\n"
     ]
    },
    {
     "data": {
      "application/vnd.jupyter.widget-view+json": {
       "model_id": "d0b29a80bb5245bd87a83f3c7d48c50f",
       "version_major": 2,
       "version_minor": 0
      },
      "text/plain": [
       "IntProgress(value=0, description='mou_9', max=20)"
      ]
     },
     "metadata": {},
     "output_type": "display_data"
    },
    {
     "name": "stdout",
     "output_type": "stream",
     "text": [
      "Warning: skipping session with too few trials 26\n",
      "Warning: skipping session with too few trials 40\n",
      "Warning: skipping session with too few trials 40\n",
      "Warning: skipping session with too few trials 45\n",
      "Warning: skipping session with too few trials 48\n"
     ]
    },
    {
     "data": {
      "application/vnd.jupyter.widget-view+json": {
       "model_id": "26d4cd7c2798404bb100b285b427dd19",
       "version_major": 2,
       "version_minor": 0
      },
      "text/plain": [
       "IntProgress(value=0, description='mou_9', max=20)"
      ]
     },
     "metadata": {},
     "output_type": "display_data"
    },
    {
     "name": "stdout",
     "output_type": "stream",
     "text": [
      "Warning: skipping session with too few trials 26\n",
      "Warning: skipping session with too few trials 40\n",
      "Warning: skipping session with too few trials 40\n",
      "Warning: skipping session with too few trials 45\n",
      "Warning: skipping session with too few trials 48\n"
     ]
    },
    {
     "data": {
      "application/vnd.jupyter.widget-view+json": {
       "model_id": "ef09e3dd2ea944048fa66d1f25829a2f",
       "version_major": 2,
       "version_minor": 0
      },
      "text/plain": [
       "IntProgress(value=0, description='mou_9', max=20)"
      ]
     },
     "metadata": {},
     "output_type": "display_data"
    },
    {
     "data": {
      "application/vnd.jupyter.widget-view+json": {
       "model_id": "bda8ac59de4d462eb7f132f114521951",
       "version_major": 2,
       "version_minor": 0
      },
      "text/plain": [
       "IntProgress(value=0, description='mou_9', max=20)"
      ]
     },
     "metadata": {},
     "output_type": "display_data"
    },
    {
     "data": {
      "application/vnd.jupyter.widget-view+json": {
       "model_id": "6158866d4ee44c2799678e753cfc2b92",
       "version_major": 2,
       "version_minor": 0
      },
      "text/plain": [
       "IntProgress(value=0, description='mou_9', max=20)"
      ]
     },
     "metadata": {},
     "output_type": "display_data"
    },
    {
     "data": {
      "application/vnd.jupyter.widget-view+json": {
       "model_id": "42237f5279fd4b51a1c84a88dcab49e1",
       "version_major": 2,
       "version_minor": 0
      },
      "text/plain": [
       "IntProgress(value=0, description='mou_9', max=20)"
      ]
     },
     "metadata": {},
     "output_type": "display_data"
    },
    {
     "data": {
      "application/vnd.jupyter.widget-view+json": {
       "model_id": "2ded37fc31fa49abafe628cc9ad98a13",
       "version_major": 2,
       "version_minor": 0
      },
      "text/plain": [
       "IntProgress(value=0, description='mou_9', max=20)"
      ]
     },
     "metadata": {},
     "output_type": "display_data"
    },
    {
     "name": "stdout",
     "output_type": "stream",
     "text": [
      "Warning: skipping session with too few trials 29\n",
      "Warning: skipping session with too few trials 40\n",
      "Warning: skipping session with too few trials 41\n",
      "Warning: skipping session with too few trials 39\n",
      "Warning: skipping session with too few trials 29\n",
      "Warning: skipping session with too few trials 35\n",
      "Warning: skipping session with too few trials 27\n",
      "Warning: skipping session with too few trials 27\n",
      "Warning: skipping session with too few trials 31\n",
      "Warning: skipping session with too few trials 20\n",
      "Warning: skipping session with too few trials 40\n",
      "Warning: skipping session with too few trials 36\n",
      "Warning: skipping session with too few trials 27\n",
      "Warning: skipping session with too few trials 39\n",
      "Warning: skipping session with too few trials 33\n",
      "Warning: skipping session with too few trials 32\n",
      "Warning: skipping session with too few trials 21\n",
      "Warning: skipping session with too few trials 26\n",
      "Warning: skipping session with too few trials 24\n",
      "Warning: skipping session with too few trials 34\n",
      "Warning, all sessions had too few trials, this mouse is skipped\n"
     ]
    },
    {
     "data": {
      "application/vnd.jupyter.widget-view+json": {
       "model_id": "b505d31416df4043887fd77dca7d676d",
       "version_major": 2,
       "version_minor": 0
      },
      "text/plain": [
       "IntProgress(value=0, description='mou_9', max=20)"
      ]
     },
     "metadata": {},
     "output_type": "display_data"
    },
    {
     "name": "stdout",
     "output_type": "stream",
     "text": [
      "Warning: skipping session with too few trials 29\n",
      "Warning: skipping session with too few trials 40\n",
      "Warning: skipping session with too few trials 41\n",
      "Warning: skipping session with too few trials 39\n",
      "Warning: skipping session with too few trials 29\n",
      "Warning: skipping session with too few trials 35\n",
      "Warning: skipping session with too few trials 27\n",
      "Warning: skipping session with too few trials 27\n",
      "Warning: skipping session with too few trials 31\n",
      "Warning: skipping session with too few trials 20\n",
      "Warning: skipping session with too few trials 40\n",
      "Warning: skipping session with too few trials 36\n",
      "Warning: skipping session with too few trials 27\n",
      "Warning: skipping session with too few trials 39\n",
      "Warning: skipping session with too few trials 33\n",
      "Warning: skipping session with too few trials 32\n",
      "Warning: skipping session with too few trials 21\n",
      "Warning: skipping session with too few trials 26\n",
      "Warning: skipping session with too few trials 24\n",
      "Warning: skipping session with too few trials 34\n",
      "Warning, all sessions had too few trials, this mouse is skipped\n"
     ]
    },
    {
     "data": {
      "application/vnd.jupyter.widget-view+json": {
       "model_id": "1e2100e44e9545e2bb7bd29c8d532876",
       "version_major": 2,
       "version_minor": 0
      },
      "text/plain": [
       "IntProgress(value=0, description='mou_9', max=20)"
      ]
     },
     "metadata": {},
     "output_type": "display_data"
    },
    {
     "name": "stdout",
     "output_type": "stream",
     "text": [
      "Warning: skipping session with too few trials 29\n",
      "Warning: skipping session with too few trials 40\n",
      "Warning: skipping session with too few trials 41\n",
      "Warning: skipping session with too few trials 39\n",
      "Warning: skipping session with too few trials 29\n",
      "Warning: skipping session with too few trials 35\n",
      "Warning: skipping session with too few trials 27\n",
      "Warning: skipping session with too few trials 27\n",
      "Warning: skipping session with too few trials 31\n",
      "Warning: skipping session with too few trials 20\n",
      "Warning: skipping session with too few trials 40\n",
      "Warning: skipping session with too few trials 36\n",
      "Warning: skipping session with too few trials 27\n",
      "Warning: skipping session with too few trials 39\n",
      "Warning: skipping session with too few trials 33\n",
      "Warning: skipping session with too few trials 32\n",
      "Warning: skipping session with too few trials 21\n",
      "Warning: skipping session with too few trials 26\n",
      "Warning: skipping session with too few trials 24\n",
      "Warning: skipping session with too few trials 34\n",
      "Warning, all sessions had too few trials, this mouse is skipped\n"
     ]
    },
    {
     "data": {
      "application/vnd.jupyter.widget-view+json": {
       "model_id": "ab171fcc1a68413fbfcca0cef7f9e372",
       "version_major": 2,
       "version_minor": 0
      },
      "text/plain": [
       "IntProgress(value=0, description='mou_9', max=20)"
      ]
     },
     "metadata": {},
     "output_type": "display_data"
    },
    {
     "name": "stdout",
     "output_type": "stream",
     "text": [
      "Warning: skipping session with too few trials 29\n",
      "Warning: skipping session with too few trials 40\n",
      "Warning: skipping session with too few trials 41\n",
      "Warning: skipping session with too few trials 39\n",
      "Warning: skipping session with too few trials 29\n",
      "Warning: skipping session with too few trials 35\n",
      "Warning: skipping session with too few trials 27\n",
      "Warning: skipping session with too few trials 27\n",
      "Warning: skipping session with too few trials 31\n",
      "Warning: skipping session with too few trials 20\n",
      "Warning: skipping session with too few trials 40\n",
      "Warning: skipping session with too few trials 36\n",
      "Warning: skipping session with too few trials 27\n",
      "Warning: skipping session with too few trials 39\n",
      "Warning: skipping session with too few trials 33\n",
      "Warning: skipping session with too few trials 32\n",
      "Warning: skipping session with too few trials 21\n",
      "Warning: skipping session with too few trials 26\n",
      "Warning: skipping session with too few trials 24\n",
      "Warning: skipping session with too few trials 34\n",
      "Warning, all sessions had too few trials, this mouse is skipped\n"
     ]
    },
    {
     "data": {
      "application/vnd.jupyter.widget-view+json": {
       "model_id": "6a82cc6437404f93bd156e079df3f87b",
       "version_major": 2,
       "version_minor": 0
      },
      "text/plain": [
       "IntProgress(value=0, description='mou_9', max=20)"
      ]
     },
     "metadata": {},
     "output_type": "display_data"
    },
    {
     "name": "stdout",
     "output_type": "stream",
     "text": [
      "Warning: skipping session with too few trials 26\n",
      "Warning: skipping session with too few trials 40\n",
      "Warning: skipping session with too few trials 40\n",
      "Warning: skipping session with too few trials 45\n",
      "Warning: skipping session with too few trials 48\n"
     ]
    },
    {
     "data": {
      "application/vnd.jupyter.widget-view+json": {
       "model_id": "3b1fb671ca46445cbb7c78fd7a778638",
       "version_major": 2,
       "version_minor": 0
      },
      "text/plain": [
       "IntProgress(value=0, description='mou_9', max=20)"
      ]
     },
     "metadata": {},
     "output_type": "display_data"
    },
    {
     "name": "stdout",
     "output_type": "stream",
     "text": [
      "Warning: skipping session with too few trials 26\n",
      "Warning: skipping session with too few trials 40\n",
      "Warning: skipping session with too few trials 40\n",
      "Warning: skipping session with too few trials 45\n",
      "Warning: skipping session with too few trials 48\n"
     ]
    },
    {
     "data": {
      "application/vnd.jupyter.widget-view+json": {
       "model_id": "3f776fb3848a4d3aa43776abfb43bd80",
       "version_major": 2,
       "version_minor": 0
      },
      "text/plain": [
       "IntProgress(value=0, description='mou_9', max=20)"
      ]
     },
     "metadata": {},
     "output_type": "display_data"
    },
    {
     "name": "stdout",
     "output_type": "stream",
     "text": [
      "Warning: skipping session with too few trials 26\n",
      "Warning: skipping session with too few trials 40\n",
      "Warning: skipping session with too few trials 40\n",
      "Warning: skipping session with too few trials 45\n",
      "Warning: skipping session with too few trials 48\n"
     ]
    },
    {
     "data": {
      "application/vnd.jupyter.widget-view+json": {
       "model_id": "25cb0e8c2625499489ad41705c3474b7",
       "version_major": 2,
       "version_minor": 0
      },
      "text/plain": [
       "IntProgress(value=0, description='mou_9', max=20)"
      ]
     },
     "metadata": {},
     "output_type": "display_data"
    },
    {
     "name": "stdout",
     "output_type": "stream",
     "text": [
      "Warning: skipping session with too few trials 26\n",
      "Warning: skipping session with too few trials 40\n",
      "Warning: skipping session with too few trials 40\n",
      "Warning: skipping session with too few trials 45\n",
      "Warning: skipping session with too few trials 48\n"
     ]
    },
    {
     "data": {
      "application/vnd.jupyter.widget-view+json": {
       "model_id": "8ce315199f5a46f1b552bb835b04864d",
       "version_major": 2,
       "version_minor": 0
      },
      "text/plain": [
       "IntProgress(value=0, description='mou_7', max=36)"
      ]
     },
     "metadata": {},
     "output_type": "display_data"
    },
    {
     "data": {
      "application/vnd.jupyter.widget-view+json": {
       "model_id": "afa084be1841446989f00a65d245eceb",
       "version_major": 2,
       "version_minor": 0
      },
      "text/plain": [
       "IntProgress(value=0, description='mou_7', max=36)"
      ]
     },
     "metadata": {},
     "output_type": "display_data"
    },
    {
     "data": {
      "application/vnd.jupyter.widget-view+json": {
       "model_id": "5320134642c34db4b8bcf09a32fee7bc",
       "version_major": 2,
       "version_minor": 0
      },
      "text/plain": [
       "IntProgress(value=0, description='mou_7', max=36)"
      ]
     },
     "metadata": {},
     "output_type": "display_data"
    },
    {
     "data": {
      "application/vnd.jupyter.widget-view+json": {
       "model_id": "3f525b12fdc2407b82ec1307f20c91dc",
       "version_major": 2,
       "version_minor": 0
      },
      "text/plain": [
       "IntProgress(value=0, description='mou_7', max=36)"
      ]
     },
     "metadata": {},
     "output_type": "display_data"
    },
    {
     "data": {
      "application/vnd.jupyter.widget-view+json": {
       "model_id": "6a56d607ab8c4bf59d7124f3a44ffbe8",
       "version_major": 2,
       "version_minor": 0
      },
      "text/plain": [
       "IntProgress(value=0, description='mou_7', max=36)"
      ]
     },
     "metadata": {},
     "output_type": "display_data"
    },
    {
     "data": {
      "application/vnd.jupyter.widget-view+json": {
       "model_id": "ce1b4f9e0fdd489b80e44b8ff0e9e86a",
       "version_major": 2,
       "version_minor": 0
      },
      "text/plain": [
       "IntProgress(value=0, description='mou_7', max=36)"
      ]
     },
     "metadata": {},
     "output_type": "display_data"
    },
    {
     "name": "stdout",
     "output_type": "stream",
     "text": [
      "Warning: skipping session with too few trials 29\n",
      "Warning: skipping session with too few trials 30\n",
      "Warning: skipping session with too few trials 19\n",
      "Warning: skipping session with too few trials 40\n",
      "Warning: skipping session with too few trials 30\n",
      "Warning: skipping session with too few trials 34\n",
      "Warning: skipping session with too few trials 36\n",
      "Warning: skipping session with too few trials 19\n",
      "Warning: skipping session with too few trials 22\n",
      "Warning: skipping session with too few trials 9\n",
      "Warning: skipping session with too few trials 22\n",
      "Warning: skipping session with too few trials 20\n",
      "Warning: skipping session with too few trials 17\n",
      "Warning: skipping session with too few trials 29\n",
      "Warning: skipping session with too few trials 37\n",
      "Warning: skipping session with too few trials 41\n",
      "Warning: skipping session with too few trials 17\n",
      "Warning: skipping session with too few trials 19\n",
      "Warning: skipping session with too few trials 46\n",
      "Warning: skipping session with too few trials 26\n",
      "Warning: skipping session with too few trials 15\n",
      "Warning: skipping session with too few trials 33\n",
      "Warning: skipping session with too few trials 17\n",
      "Warning: skipping session with too few trials 18\n",
      "Warning: skipping session with too few trials 6\n",
      "Warning: skipping session with too few trials 34\n",
      "Warning: skipping session with too few trials 22\n",
      "Warning: skipping session with too few trials 16\n",
      "Warning: skipping session with too few trials 33\n",
      "Warning: skipping session with too few trials 32\n",
      "Warning: skipping session with too few trials 35\n",
      "Warning: skipping session with too few trials 9\n",
      "Warning: skipping session with too few trials 22\n",
      "Warning: skipping session with too few trials 31\n",
      "Warning: skipping session with too few trials 34\n"
     ]
    },
    {
     "data": {
      "application/vnd.jupyter.widget-view+json": {
       "model_id": "8f66694e64da4cf795e8046336619910",
       "version_major": 2,
       "version_minor": 0
      },
      "text/plain": [
       "IntProgress(value=0, description='mou_7', max=36)"
      ]
     },
     "metadata": {},
     "output_type": "display_data"
    },
    {
     "name": "stdout",
     "output_type": "stream",
     "text": [
      "Warning: skipping session with too few trials 29\n",
      "Warning: skipping session with too few trials 30\n",
      "Warning: skipping session with too few trials 19\n",
      "Warning: skipping session with too few trials 40\n",
      "Warning: skipping session with too few trials 30\n",
      "Warning: skipping session with too few trials 34\n",
      "Warning: skipping session with too few trials 36\n",
      "Warning: skipping session with too few trials 19\n",
      "Warning: skipping session with too few trials 22\n",
      "Warning: skipping session with too few trials 9\n",
      "Warning: skipping session with too few trials 22\n",
      "Warning: skipping session with too few trials 20\n",
      "Warning: skipping session with too few trials 17\n",
      "Warning: skipping session with too few trials 29\n",
      "Warning: skipping session with too few trials 37\n",
      "Warning: skipping session with too few trials 41\n",
      "Warning: skipping session with too few trials 17\n",
      "Warning: skipping session with too few trials 19\n",
      "Warning: skipping session with too few trials 46\n",
      "Warning: skipping session with too few trials 26\n",
      "Warning: skipping session with too few trials 15\n",
      "Warning: skipping session with too few trials 33\n",
      "Warning: skipping session with too few trials 17\n",
      "Warning: skipping session with too few trials 18\n",
      "Warning: skipping session with too few trials 6\n",
      "Warning: skipping session with too few trials 34\n",
      "Warning: skipping session with too few trials 22\n",
      "Warning: skipping session with too few trials 16\n",
      "Warning: skipping session with too few trials 33\n",
      "Warning: skipping session with too few trials 32\n",
      "Warning: skipping session with too few trials 35\n",
      "Warning: skipping session with too few trials 9\n",
      "Warning: skipping session with too few trials 22\n",
      "Warning: skipping session with too few trials 31\n",
      "Warning: skipping session with too few trials 34\n"
     ]
    },
    {
     "data": {
      "application/vnd.jupyter.widget-view+json": {
       "model_id": "fc3071488a6a4b1badc5ce0ef2bd4cce",
       "version_major": 2,
       "version_minor": 0
      },
      "text/plain": [
       "IntProgress(value=0, description='mou_7', max=36)"
      ]
     },
     "metadata": {},
     "output_type": "display_data"
    },
    {
     "name": "stdout",
     "output_type": "stream",
     "text": [
      "Warning: skipping session with too few trials 29\n",
      "Warning: skipping session with too few trials 30\n",
      "Warning: skipping session with too few trials 19\n",
      "Warning: skipping session with too few trials 40\n",
      "Warning: skipping session with too few trials 30\n",
      "Warning: skipping session with too few trials 34\n",
      "Warning: skipping session with too few trials 36\n",
      "Warning: skipping session with too few trials 19\n",
      "Warning: skipping session with too few trials 22\n",
      "Warning: skipping session with too few trials 9\n",
      "Warning: skipping session with too few trials 22\n",
      "Warning: skipping session with too few trials 20\n",
      "Warning: skipping session with too few trials 17\n",
      "Warning: skipping session with too few trials 29\n",
      "Warning: skipping session with too few trials 37\n",
      "Warning: skipping session with too few trials 41\n",
      "Warning: skipping session with too few trials 17\n",
      "Warning: skipping session with too few trials 19\n",
      "Warning: skipping session with too few trials 46\n",
      "Warning: skipping session with too few trials 26\n",
      "Warning: skipping session with too few trials 15\n",
      "Warning: skipping session with too few trials 33\n",
      "Warning: skipping session with too few trials 17\n",
      "Warning: skipping session with too few trials 18\n",
      "Warning: skipping session with too few trials 6\n",
      "Warning: skipping session with too few trials 34\n",
      "Warning: skipping session with too few trials 22\n",
      "Warning: skipping session with too few trials 16\n",
      "Warning: skipping session with too few trials 33\n",
      "Warning: skipping session with too few trials 32\n",
      "Warning: skipping session with too few trials 35\n",
      "Warning: skipping session with too few trials 9\n",
      "Warning: skipping session with too few trials 22\n",
      "Warning: skipping session with too few trials 31\n",
      "Warning: skipping session with too few trials 34\n"
     ]
    },
    {
     "data": {
      "application/vnd.jupyter.widget-view+json": {
       "model_id": "13943b8613c9440abaec3c8794c03944",
       "version_major": 2,
       "version_minor": 0
      },
      "text/plain": [
       "IntProgress(value=0, description='mou_7', max=36)"
      ]
     },
     "metadata": {},
     "output_type": "display_data"
    },
    {
     "name": "stdout",
     "output_type": "stream",
     "text": [
      "Warning: skipping session with too few trials 29\n",
      "Warning: skipping session with too few trials 30\n",
      "Warning: skipping session with too few trials 19\n",
      "Warning: skipping session with too few trials 40\n",
      "Warning: skipping session with too few trials 30\n",
      "Warning: skipping session with too few trials 34\n",
      "Warning: skipping session with too few trials 36\n",
      "Warning: skipping session with too few trials 19\n",
      "Warning: skipping session with too few trials 22\n",
      "Warning: skipping session with too few trials 9\n",
      "Warning: skipping session with too few trials 22\n",
      "Warning: skipping session with too few trials 20\n",
      "Warning: skipping session with too few trials 17\n",
      "Warning: skipping session with too few trials 29\n",
      "Warning: skipping session with too few trials 37\n",
      "Warning: skipping session with too few trials 41\n",
      "Warning: skipping session with too few trials 17\n",
      "Warning: skipping session with too few trials 19\n",
      "Warning: skipping session with too few trials 46\n",
      "Warning: skipping session with too few trials 26\n",
      "Warning: skipping session with too few trials 15\n",
      "Warning: skipping session with too few trials 33\n",
      "Warning: skipping session with too few trials 17\n",
      "Warning: skipping session with too few trials 18\n",
      "Warning: skipping session with too few trials 6\n",
      "Warning: skipping session with too few trials 34\n",
      "Warning: skipping session with too few trials 22\n",
      "Warning: skipping session with too few trials 16\n",
      "Warning: skipping session with too few trials 33\n",
      "Warning: skipping session with too few trials 32\n",
      "Warning: skipping session with too few trials 35\n",
      "Warning: skipping session with too few trials 9\n",
      "Warning: skipping session with too few trials 22\n",
      "Warning: skipping session with too few trials 31\n",
      "Warning: skipping session with too few trials 34\n"
     ]
    },
    {
     "data": {
      "application/vnd.jupyter.widget-view+json": {
       "model_id": "145884cbfba74fd7bce5cfeab60a3688",
       "version_major": 2,
       "version_minor": 0
      },
      "text/plain": [
       "IntProgress(value=0, description='mou_7', max=36)"
      ]
     },
     "metadata": {},
     "output_type": "display_data"
    },
    {
     "name": "stdout",
     "output_type": "stream",
     "text": [
      "Warning: skipping session with too few trials 29\n",
      "Warning: skipping session with too few trials 30\n",
      "Warning: skipping session with too few trials 19\n",
      "Warning: skipping session with too few trials 40\n",
      "Warning: skipping session with too few trials 30\n",
      "Warning: skipping session with too few trials 34\n",
      "Warning: skipping session with too few trials 36\n",
      "Warning: skipping session with too few trials 19\n",
      "Warning: skipping session with too few trials 22\n",
      "Warning: skipping session with too few trials 9\n",
      "Warning: skipping session with too few trials 22\n",
      "Warning: skipping session with too few trials 20\n",
      "Warning: skipping session with too few trials 17\n",
      "Warning: skipping session with too few trials 29\n",
      "Warning: skipping session with too few trials 37\n",
      "Warning: skipping session with too few trials 41\n",
      "Warning: skipping session with too few trials 17\n",
      "Warning: skipping session with too few trials 19\n",
      "Warning: skipping session with too few trials 46\n",
      "Warning: skipping session with too few trials 26\n",
      "Warning: skipping session with too few trials 15\n",
      "Warning: skipping session with too few trials 33\n",
      "Warning: skipping session with too few trials 17\n",
      "Warning: skipping session with too few trials 18\n",
      "Warning: skipping session with too few trials 6\n",
      "Warning: skipping session with too few trials 34\n",
      "Warning: skipping session with too few trials 22\n",
      "Warning: skipping session with too few trials 16\n",
      "Warning: skipping session with too few trials 33\n",
      "Warning: skipping session with too few trials 32\n",
      "Warning: skipping session with too few trials 35\n",
      "Warning: skipping session with too few trials 9\n",
      "Warning: skipping session with too few trials 22\n",
      "Warning: skipping session with too few trials 31\n",
      "Warning: skipping session with too few trials 34\n"
     ]
    },
    {
     "data": {
      "application/vnd.jupyter.widget-view+json": {
       "model_id": "da7aca9e14d946849c947315ca3d77db",
       "version_major": 2,
       "version_minor": 0
      },
      "text/plain": [
       "IntProgress(value=0, description='mou_7', max=36)"
      ]
     },
     "metadata": {},
     "output_type": "display_data"
    },
    {
     "name": "stdout",
     "output_type": "stream",
     "text": [
      "Warning: skipping session with too few trials 26\n",
      "Warning: skipping session with too few trials 37\n",
      "Warning: skipping session with too few trials 25\n",
      "Warning: skipping session with too few trials 38\n",
      "Warning: skipping session with too few trials 37\n",
      "Warning: skipping session with too few trials 49\n",
      "Warning: skipping session with too few trials 46\n",
      "Warning: skipping session with too few trials 23\n",
      "Warning: skipping session with too few trials 39\n",
      "Warning: skipping session with too few trials 43\n",
      "Warning: skipping session with too few trials 44\n",
      "Warning: skipping session with too few trials 48\n",
      "Warning: skipping session with too few trials 41\n",
      "Warning: skipping session with too few trials 38\n"
     ]
    },
    {
     "data": {
      "application/vnd.jupyter.widget-view+json": {
       "model_id": "145dd5ddfbd34cc8bc6c3661a1af195c",
       "version_major": 2,
       "version_minor": 0
      },
      "text/plain": [
       "IntProgress(value=0, description='mou_7', max=36)"
      ]
     },
     "metadata": {},
     "output_type": "display_data"
    },
    {
     "name": "stdout",
     "output_type": "stream",
     "text": [
      "Warning: skipping session with too few trials 26\n",
      "Warning: skipping session with too few trials 37\n",
      "Warning: skipping session with too few trials 25\n",
      "Warning: skipping session with too few trials 38\n",
      "Warning: skipping session with too few trials 37\n",
      "Warning: skipping session with too few trials 49\n",
      "Warning: skipping session with too few trials 46\n",
      "Warning: skipping session with too few trials 23\n",
      "Warning: skipping session with too few trials 39\n",
      "Warning: skipping session with too few trials 43\n",
      "Warning: skipping session with too few trials 44\n",
      "Warning: skipping session with too few trials 48\n",
      "Warning: skipping session with too few trials 41\n",
      "Warning: skipping session with too few trials 38\n"
     ]
    },
    {
     "data": {
      "application/vnd.jupyter.widget-view+json": {
       "model_id": "ab4b0567b7e247f9a043ef50a885a27d",
       "version_major": 2,
       "version_minor": 0
      },
      "text/plain": [
       "IntProgress(value=0, description='mou_7', max=36)"
      ]
     },
     "metadata": {},
     "output_type": "display_data"
    },
    {
     "name": "stdout",
     "output_type": "stream",
     "text": [
      "Warning: skipping session with too few trials 26\n",
      "Warning: skipping session with too few trials 37\n",
      "Warning: skipping session with too few trials 25\n",
      "Warning: skipping session with too few trials 38\n",
      "Warning: skipping session with too few trials 37\n",
      "Warning: skipping session with too few trials 49\n",
      "Warning: skipping session with too few trials 46\n",
      "Warning: skipping session with too few trials 23\n",
      "Warning: skipping session with too few trials 39\n",
      "Warning: skipping session with too few trials 43\n",
      "Warning: skipping session with too few trials 44\n",
      "Warning: skipping session with too few trials 48\n",
      "Warning: skipping session with too few trials 41\n",
      "Warning: skipping session with too few trials 38\n"
     ]
    },
    {
     "data": {
      "application/vnd.jupyter.widget-view+json": {
       "model_id": "5dfe59f8465c4910a1cbdd9b217591de",
       "version_major": 2,
       "version_minor": 0
      },
      "text/plain": [
       "IntProgress(value=0, description='mou_7', max=36)"
      ]
     },
     "metadata": {},
     "output_type": "display_data"
    },
    {
     "name": "stdout",
     "output_type": "stream",
     "text": [
      "Warning: skipping session with too few trials 26\n",
      "Warning: skipping session with too few trials 37\n",
      "Warning: skipping session with too few trials 25\n",
      "Warning: skipping session with too few trials 38\n",
      "Warning: skipping session with too few trials 37\n",
      "Warning: skipping session with too few trials 49\n",
      "Warning: skipping session with too few trials 46\n",
      "Warning: skipping session with too few trials 23\n",
      "Warning: skipping session with too few trials 39\n",
      "Warning: skipping session with too few trials 43\n",
      "Warning: skipping session with too few trials 44\n",
      "Warning: skipping session with too few trials 48\n",
      "Warning: skipping session with too few trials 41\n",
      "Warning: skipping session with too few trials 38\n"
     ]
    },
    {
     "data": {
      "application/vnd.jupyter.widget-view+json": {
       "model_id": "42f629a743c948c3941a772f9005feb8",
       "version_major": 2,
       "version_minor": 0
      },
      "text/plain": [
       "IntProgress(value=0, description='mou_7', max=36)"
      ]
     },
     "metadata": {},
     "output_type": "display_data"
    },
    {
     "name": "stdout",
     "output_type": "stream",
     "text": [
      "Warning: skipping session with too few trials 26\n",
      "Warning: skipping session with too few trials 37\n",
      "Warning: skipping session with too few trials 25\n",
      "Warning: skipping session with too few trials 38\n",
      "Warning: skipping session with too few trials 37\n",
      "Warning: skipping session with too few trials 49\n",
      "Warning: skipping session with too few trials 46\n",
      "Warning: skipping session with too few trials 23\n",
      "Warning: skipping session with too few trials 39\n",
      "Warning: skipping session with too few trials 43\n",
      "Warning: skipping session with too few trials 44\n",
      "Warning: skipping session with too few trials 48\n",
      "Warning: skipping session with too few trials 41\n",
      "Warning: skipping session with too few trials 38\n"
     ]
    },
    {
     "data": {
      "application/vnd.jupyter.widget-view+json": {
       "model_id": "38cfd796ce724637ace3cd4012703669",
       "version_major": 2,
       "version_minor": 0
      },
      "text/plain": [
       "IntProgress(value=0, description='mou_7', max=36)"
      ]
     },
     "metadata": {},
     "output_type": "display_data"
    },
    {
     "data": {
      "application/vnd.jupyter.widget-view+json": {
       "model_id": "2dfe47db38da49f18cf58b880cef5efa",
       "version_major": 2,
       "version_minor": 0
      },
      "text/plain": [
       "IntProgress(value=0, description='mou_7', max=36)"
      ]
     },
     "metadata": {},
     "output_type": "display_data"
    },
    {
     "data": {
      "application/vnd.jupyter.widget-view+json": {
       "model_id": "e6b041c9bf7b4a209fa1a1f4d8d784c8",
       "version_major": 2,
       "version_minor": 0
      },
      "text/plain": [
       "IntProgress(value=0, description='mou_7', max=36)"
      ]
     },
     "metadata": {},
     "output_type": "display_data"
    },
    {
     "data": {
      "application/vnd.jupyter.widget-view+json": {
       "model_id": "62881740108a49a7a0d0198b560862cb",
       "version_major": 2,
       "version_minor": 0
      },
      "text/plain": [
       "IntProgress(value=0, description='mou_7', max=36)"
      ]
     },
     "metadata": {},
     "output_type": "display_data"
    },
    {
     "data": {
      "application/vnd.jupyter.widget-view+json": {
       "model_id": "9cd39406a3364bae9f371915a7f0a72c",
       "version_major": 2,
       "version_minor": 0
      },
      "text/plain": [
       "IntProgress(value=0, description='mou_7', max=36)"
      ]
     },
     "metadata": {},
     "output_type": "display_data"
    },
    {
     "data": {
      "application/vnd.jupyter.widget-view+json": {
       "model_id": "61416c7a279b46c98fcda0d2aed2880b",
       "version_major": 2,
       "version_minor": 0
      },
      "text/plain": [
       "IntProgress(value=0, description='mou_7', max=36)"
      ]
     },
     "metadata": {},
     "output_type": "display_data"
    },
    {
     "name": "stdout",
     "output_type": "stream",
     "text": [
      "Warning: skipping session with too few trials 29\n",
      "Warning: skipping session with too few trials 30\n",
      "Warning: skipping session with too few trials 19\n",
      "Warning: skipping session with too few trials 40\n",
      "Warning: skipping session with too few trials 30\n",
      "Warning: skipping session with too few trials 34\n",
      "Warning: skipping session with too few trials 36\n",
      "Warning: skipping session with too few trials 19\n",
      "Warning: skipping session with too few trials 22\n",
      "Warning: skipping session with too few trials 9\n",
      "Warning: skipping session with too few trials 22\n",
      "Warning: skipping session with too few trials 20\n",
      "Warning: skipping session with too few trials 17\n",
      "Warning: skipping session with too few trials 29\n",
      "Warning: skipping session with too few trials 37\n",
      "Warning: skipping session with too few trials 41\n",
      "Warning: skipping session with too few trials 17\n",
      "Warning: skipping session with too few trials 19\n",
      "Warning: skipping session with too few trials 46\n",
      "Warning: skipping session with too few trials 26\n",
      "Warning: skipping session with too few trials 15\n",
      "Warning: skipping session with too few trials 33\n",
      "Warning: skipping session with too few trials 17\n",
      "Warning: skipping session with too few trials 18\n",
      "Warning: skipping session with too few trials 6\n",
      "Warning: skipping session with too few trials 34\n",
      "Warning: skipping session with too few trials 22\n",
      "Warning: skipping session with too few trials 16\n",
      "Warning: skipping session with too few trials 33\n",
      "Warning: skipping session with too few trials 32\n",
      "Warning: skipping session with too few trials 35\n",
      "Warning: skipping session with too few trials 9\n",
      "Warning: skipping session with too few trials 22\n",
      "Warning: skipping session with too few trials 31\n",
      "Warning: skipping session with too few trials 34\n"
     ]
    },
    {
     "data": {
      "application/vnd.jupyter.widget-view+json": {
       "model_id": "d7511f205a1f44ec8488a639c8d1891b",
       "version_major": 2,
       "version_minor": 0
      },
      "text/plain": [
       "IntProgress(value=0, description='mou_7', max=36)"
      ]
     },
     "metadata": {},
     "output_type": "display_data"
    },
    {
     "name": "stdout",
     "output_type": "stream",
     "text": [
      "Warning: skipping session with too few trials 29\n",
      "Warning: skipping session with too few trials 30\n",
      "Warning: skipping session with too few trials 19\n",
      "Warning: skipping session with too few trials 40\n",
      "Warning: skipping session with too few trials 30\n",
      "Warning: skipping session with too few trials 34\n",
      "Warning: skipping session with too few trials 36\n",
      "Warning: skipping session with too few trials 19\n",
      "Warning: skipping session with too few trials 22\n",
      "Warning: skipping session with too few trials 9\n",
      "Warning: skipping session with too few trials 22\n",
      "Warning: skipping session with too few trials 20\n",
      "Warning: skipping session with too few trials 17\n",
      "Warning: skipping session with too few trials 29\n",
      "Warning: skipping session with too few trials 37\n",
      "Warning: skipping session with too few trials 41\n",
      "Warning: skipping session with too few trials 17\n",
      "Warning: skipping session with too few trials 19\n",
      "Warning: skipping session with too few trials 46\n",
      "Warning: skipping session with too few trials 26\n",
      "Warning: skipping session with too few trials 15\n",
      "Warning: skipping session with too few trials 33\n",
      "Warning: skipping session with too few trials 17\n",
      "Warning: skipping session with too few trials 18\n",
      "Warning: skipping session with too few trials 6\n",
      "Warning: skipping session with too few trials 34\n",
      "Warning: skipping session with too few trials 22\n",
      "Warning: skipping session with too few trials 16\n",
      "Warning: skipping session with too few trials 33\n",
      "Warning: skipping session with too few trials 32\n",
      "Warning: skipping session with too few trials 35\n",
      "Warning: skipping session with too few trials 9\n",
      "Warning: skipping session with too few trials 22\n",
      "Warning: skipping session with too few trials 31\n",
      "Warning: skipping session with too few trials 34\n"
     ]
    },
    {
     "data": {
      "application/vnd.jupyter.widget-view+json": {
       "model_id": "e9e0cccd0bc543838f7033ff50a2d1bd",
       "version_major": 2,
       "version_minor": 0
      },
      "text/plain": [
       "IntProgress(value=0, description='mou_7', max=36)"
      ]
     },
     "metadata": {},
     "output_type": "display_data"
    },
    {
     "name": "stdout",
     "output_type": "stream",
     "text": [
      "Warning: skipping session with too few trials 29\n",
      "Warning: skipping session with too few trials 30\n",
      "Warning: skipping session with too few trials 19\n",
      "Warning: skipping session with too few trials 40\n",
      "Warning: skipping session with too few trials 30\n",
      "Warning: skipping session with too few trials 34\n",
      "Warning: skipping session with too few trials 36\n",
      "Warning: skipping session with too few trials 19\n",
      "Warning: skipping session with too few trials 22\n",
      "Warning: skipping session with too few trials 9\n",
      "Warning: skipping session with too few trials 22\n",
      "Warning: skipping session with too few trials 20\n",
      "Warning: skipping session with too few trials 17\n",
      "Warning: skipping session with too few trials 29\n",
      "Warning: skipping session with too few trials 37\n",
      "Warning: skipping session with too few trials 41\n",
      "Warning: skipping session with too few trials 17\n",
      "Warning: skipping session with too few trials 19\n",
      "Warning: skipping session with too few trials 46\n",
      "Warning: skipping session with too few trials 26\n",
      "Warning: skipping session with too few trials 15\n",
      "Warning: skipping session with too few trials 33\n",
      "Warning: skipping session with too few trials 17\n",
      "Warning: skipping session with too few trials 18\n",
      "Warning: skipping session with too few trials 6\n",
      "Warning: skipping session with too few trials 34\n",
      "Warning: skipping session with too few trials 22\n",
      "Warning: skipping session with too few trials 16\n",
      "Warning: skipping session with too few trials 33\n",
      "Warning: skipping session with too few trials 32\n",
      "Warning: skipping session with too few trials 35\n",
      "Warning: skipping session with too few trials 9\n",
      "Warning: skipping session with too few trials 22\n",
      "Warning: skipping session with too few trials 31\n",
      "Warning: skipping session with too few trials 34\n"
     ]
    },
    {
     "data": {
      "application/vnd.jupyter.widget-view+json": {
       "model_id": "8e86026538334ee1becb570c0ea4f460",
       "version_major": 2,
       "version_minor": 0
      },
      "text/plain": [
       "IntProgress(value=0, description='mou_7', max=36)"
      ]
     },
     "metadata": {},
     "output_type": "display_data"
    },
    {
     "name": "stdout",
     "output_type": "stream",
     "text": [
      "Warning: skipping session with too few trials 29\n",
      "Warning: skipping session with too few trials 30\n",
      "Warning: skipping session with too few trials 19\n",
      "Warning: skipping session with too few trials 40\n",
      "Warning: skipping session with too few trials 30\n",
      "Warning: skipping session with too few trials 34\n",
      "Warning: skipping session with too few trials 36\n",
      "Warning: skipping session with too few trials 19\n",
      "Warning: skipping session with too few trials 22\n",
      "Warning: skipping session with too few trials 9\n",
      "Warning: skipping session with too few trials 22\n",
      "Warning: skipping session with too few trials 20\n",
      "Warning: skipping session with too few trials 17\n",
      "Warning: skipping session with too few trials 29\n",
      "Warning: skipping session with too few trials 37\n",
      "Warning: skipping session with too few trials 41\n",
      "Warning: skipping session with too few trials 17\n",
      "Warning: skipping session with too few trials 19\n",
      "Warning: skipping session with too few trials 46\n",
      "Warning: skipping session with too few trials 26\n",
      "Warning: skipping session with too few trials 15\n",
      "Warning: skipping session with too few trials 33\n",
      "Warning: skipping session with too few trials 17\n",
      "Warning: skipping session with too few trials 18\n",
      "Warning: skipping session with too few trials 6\n",
      "Warning: skipping session with too few trials 34\n",
      "Warning: skipping session with too few trials 22\n",
      "Warning: skipping session with too few trials 16\n",
      "Warning: skipping session with too few trials 33\n",
      "Warning: skipping session with too few trials 32\n",
      "Warning: skipping session with too few trials 35\n",
      "Warning: skipping session with too few trials 9\n",
      "Warning: skipping session with too few trials 22\n",
      "Warning: skipping session with too few trials 31\n",
      "Warning: skipping session with too few trials 34\n"
     ]
    },
    {
     "data": {
      "application/vnd.jupyter.widget-view+json": {
       "model_id": "3ac28d2ec8604945baa55bd976417d4b",
       "version_major": 2,
       "version_minor": 0
      },
      "text/plain": [
       "IntProgress(value=0, description='mou_7', max=36)"
      ]
     },
     "metadata": {},
     "output_type": "display_data"
    },
    {
     "name": "stdout",
     "output_type": "stream",
     "text": [
      "Warning: skipping session with too few trials 29\n",
      "Warning: skipping session with too few trials 30\n",
      "Warning: skipping session with too few trials 19\n",
      "Warning: skipping session with too few trials 40\n",
      "Warning: skipping session with too few trials 30\n",
      "Warning: skipping session with too few trials 34\n",
      "Warning: skipping session with too few trials 36\n",
      "Warning: skipping session with too few trials 19\n",
      "Warning: skipping session with too few trials 22\n",
      "Warning: skipping session with too few trials 9\n",
      "Warning: skipping session with too few trials 22\n",
      "Warning: skipping session with too few trials 20\n",
      "Warning: skipping session with too few trials 17\n",
      "Warning: skipping session with too few trials 29\n",
      "Warning: skipping session with too few trials 37\n",
      "Warning: skipping session with too few trials 41\n",
      "Warning: skipping session with too few trials 17\n",
      "Warning: skipping session with too few trials 19\n",
      "Warning: skipping session with too few trials 46\n",
      "Warning: skipping session with too few trials 26\n",
      "Warning: skipping session with too few trials 15\n",
      "Warning: skipping session with too few trials 33\n",
      "Warning: skipping session with too few trials 17\n",
      "Warning: skipping session with too few trials 18\n",
      "Warning: skipping session with too few trials 6\n",
      "Warning: skipping session with too few trials 34\n",
      "Warning: skipping session with too few trials 22\n",
      "Warning: skipping session with too few trials 16\n",
      "Warning: skipping session with too few trials 33\n",
      "Warning: skipping session with too few trials 32\n",
      "Warning: skipping session with too few trials 35\n",
      "Warning: skipping session with too few trials 9\n",
      "Warning: skipping session with too few trials 22\n",
      "Warning: skipping session with too few trials 31\n",
      "Warning: skipping session with too few trials 34\n"
     ]
    },
    {
     "data": {
      "application/vnd.jupyter.widget-view+json": {
       "model_id": "1ffd598a36c7451f9e83c94c6723b8ef",
       "version_major": 2,
       "version_minor": 0
      },
      "text/plain": [
       "IntProgress(value=0, description='mou_7', max=36)"
      ]
     },
     "metadata": {},
     "output_type": "display_data"
    },
    {
     "name": "stdout",
     "output_type": "stream",
     "text": [
      "Warning: skipping session with too few trials 26\n",
      "Warning: skipping session with too few trials 37\n",
      "Warning: skipping session with too few trials 25\n",
      "Warning: skipping session with too few trials 38\n",
      "Warning: skipping session with too few trials 37\n",
      "Warning: skipping session with too few trials 49\n",
      "Warning: skipping session with too few trials 46\n",
      "Warning: skipping session with too few trials 23\n",
      "Warning: skipping session with too few trials 39\n",
      "Warning: skipping session with too few trials 43\n",
      "Warning: skipping session with too few trials 44\n",
      "Warning: skipping session with too few trials 48\n",
      "Warning: skipping session with too few trials 41\n",
      "Warning: skipping session with too few trials 38\n"
     ]
    },
    {
     "data": {
      "application/vnd.jupyter.widget-view+json": {
       "model_id": "55c05af0641846aeadc16c89417a81da",
       "version_major": 2,
       "version_minor": 0
      },
      "text/plain": [
       "IntProgress(value=0, description='mou_7', max=36)"
      ]
     },
     "metadata": {},
     "output_type": "display_data"
    },
    {
     "name": "stdout",
     "output_type": "stream",
     "text": [
      "Warning: skipping session with too few trials 26\n",
      "Warning: skipping session with too few trials 37\n",
      "Warning: skipping session with too few trials 25\n",
      "Warning: skipping session with too few trials 38\n",
      "Warning: skipping session with too few trials 37\n",
      "Warning: skipping session with too few trials 49\n",
      "Warning: skipping session with too few trials 46\n",
      "Warning: skipping session with too few trials 23\n",
      "Warning: skipping session with too few trials 39\n",
      "Warning: skipping session with too few trials 43\n",
      "Warning: skipping session with too few trials 44\n",
      "Warning: skipping session with too few trials 48\n",
      "Warning: skipping session with too few trials 41\n",
      "Warning: skipping session with too few trials 38\n"
     ]
    },
    {
     "data": {
      "application/vnd.jupyter.widget-view+json": {
       "model_id": "0728261c9c384df6a468c11a4efc8c3f",
       "version_major": 2,
       "version_minor": 0
      },
      "text/plain": [
       "IntProgress(value=0, description='mou_7', max=36)"
      ]
     },
     "metadata": {},
     "output_type": "display_data"
    },
    {
     "name": "stdout",
     "output_type": "stream",
     "text": [
      "Warning: skipping session with too few trials 26\n",
      "Warning: skipping session with too few trials 37\n",
      "Warning: skipping session with too few trials 25\n",
      "Warning: skipping session with too few trials 38\n",
      "Warning: skipping session with too few trials 37\n",
      "Warning: skipping session with too few trials 49\n",
      "Warning: skipping session with too few trials 46\n",
      "Warning: skipping session with too few trials 23\n",
      "Warning: skipping session with too few trials 39\n",
      "Warning: skipping session with too few trials 43\n",
      "Warning: skipping session with too few trials 44\n",
      "Warning: skipping session with too few trials 48\n",
      "Warning: skipping session with too few trials 41\n",
      "Warning: skipping session with too few trials 38\n"
     ]
    },
    {
     "data": {
      "application/vnd.jupyter.widget-view+json": {
       "model_id": "533c7a7002d141e9b4da05e0c6ae2823",
       "version_major": 2,
       "version_minor": 0
      },
      "text/plain": [
       "IntProgress(value=0, description='mou_7', max=36)"
      ]
     },
     "metadata": {},
     "output_type": "display_data"
    },
    {
     "name": "stdout",
     "output_type": "stream",
     "text": [
      "Warning: skipping session with too few trials 26\n",
      "Warning: skipping session with too few trials 37\n",
      "Warning: skipping session with too few trials 25\n",
      "Warning: skipping session with too few trials 38\n",
      "Warning: skipping session with too few trials 37\n",
      "Warning: skipping session with too few trials 49\n",
      "Warning: skipping session with too few trials 46\n",
      "Warning: skipping session with too few trials 23\n",
      "Warning: skipping session with too few trials 39\n",
      "Warning: skipping session with too few trials 43\n",
      "Warning: skipping session with too few trials 44\n",
      "Warning: skipping session with too few trials 48\n",
      "Warning: skipping session with too few trials 41\n",
      "Warning: skipping session with too few trials 38\n"
     ]
    },
    {
     "data": {
      "application/vnd.jupyter.widget-view+json": {
       "model_id": "f9288a0a0fc64ae086b3961a076750a3",
       "version_major": 2,
       "version_minor": 0
      },
      "text/plain": [
       "IntProgress(value=0, description='mou_7', max=36)"
      ]
     },
     "metadata": {},
     "output_type": "display_data"
    },
    {
     "name": "stdout",
     "output_type": "stream",
     "text": [
      "Warning: skipping session with too few trials 26\n",
      "Warning: skipping session with too few trials 37\n",
      "Warning: skipping session with too few trials 25\n",
      "Warning: skipping session with too few trials 38\n",
      "Warning: skipping session with too few trials 37\n",
      "Warning: skipping session with too few trials 49\n",
      "Warning: skipping session with too few trials 46\n",
      "Warning: skipping session with too few trials 23\n",
      "Warning: skipping session with too few trials 39\n",
      "Warning: skipping session with too few trials 43\n",
      "Warning: skipping session with too few trials 44\n",
      "Warning: skipping session with too few trials 48\n",
      "Warning: skipping session with too few trials 41\n",
      "Warning: skipping session with too few trials 38\n"
     ]
    },
    {
     "data": {
      "application/vnd.jupyter.widget-view+json": {
       "model_id": "02ba8fc934dc4a2a809243d396b0fcf9",
       "version_major": 2,
       "version_minor": 0
      },
      "text/plain": [
       "IntProgress(value=0, description='mou_7', max=36)"
      ]
     },
     "metadata": {},
     "output_type": "display_data"
    },
    {
     "data": {
      "application/vnd.jupyter.widget-view+json": {
       "model_id": "c92bc3bb26d84602b93c3e4cc9cadcb3",
       "version_major": 2,
       "version_minor": 0
      },
      "text/plain": [
       "IntProgress(value=0, description='mou_7', max=36)"
      ]
     },
     "metadata": {},
     "output_type": "display_data"
    },
    {
     "data": {
      "application/vnd.jupyter.widget-view+json": {
       "model_id": "8805f4f6bb4e43b1b7606d0d101e96dc",
       "version_major": 2,
       "version_minor": 0
      },
      "text/plain": [
       "IntProgress(value=0, description='mou_7', max=36)"
      ]
     },
     "metadata": {},
     "output_type": "display_data"
    },
    {
     "data": {
      "application/vnd.jupyter.widget-view+json": {
       "model_id": "af63c3e4bffc44e58275dda4425ed6a6",
       "version_major": 2,
       "version_minor": 0
      },
      "text/plain": [
       "IntProgress(value=0, description='mou_7', max=36)"
      ]
     },
     "metadata": {},
     "output_type": "display_data"
    },
    {
     "data": {
      "application/vnd.jupyter.widget-view+json": {
       "model_id": "ac505ee643ce40b49c77c7227e5e089e",
       "version_major": 2,
       "version_minor": 0
      },
      "text/plain": [
       "IntProgress(value=0, description='mou_7', max=36)"
      ]
     },
     "metadata": {},
     "output_type": "display_data"
    },
    {
     "name": "stdout",
     "output_type": "stream",
     "text": [
      "Warning: skipping session with too few trials 29\n",
      "Warning: skipping session with too few trials 30\n",
      "Warning: skipping session with too few trials 19\n",
      "Warning: skipping session with too few trials 40\n",
      "Warning: skipping session with too few trials 30\n",
      "Warning: skipping session with too few trials 34\n",
      "Warning: skipping session with too few trials 36\n",
      "Warning: skipping session with too few trials 19\n",
      "Warning: skipping session with too few trials 22\n",
      "Warning: skipping session with too few trials 9\n",
      "Warning: skipping session with too few trials 22\n",
      "Warning: skipping session with too few trials 20\n",
      "Warning: skipping session with too few trials 17\n",
      "Warning: skipping session with too few trials 29\n",
      "Warning: skipping session with too few trials 37\n",
      "Warning: skipping session with too few trials 41\n",
      "Warning: skipping session with too few trials 17\n",
      "Warning: skipping session with too few trials 19\n",
      "Warning: skipping session with too few trials 46\n",
      "Warning: skipping session with too few trials 26\n",
      "Warning: skipping session with too few trials 15\n",
      "Warning: skipping session with too few trials 33\n",
      "Warning: skipping session with too few trials 17\n",
      "Warning: skipping session with too few trials 18\n",
      "Warning: skipping session with too few trials 6\n",
      "Warning: skipping session with too few trials 34\n",
      "Warning: skipping session with too few trials 22\n",
      "Warning: skipping session with too few trials 16\n",
      "Warning: skipping session with too few trials 33\n",
      "Warning: skipping session with too few trials 32\n",
      "Warning: skipping session with too few trials 35\n",
      "Warning: skipping session with too few trials 9\n",
      "Warning: skipping session with too few trials 22\n",
      "Warning: skipping session with too few trials 31\n",
      "Warning: skipping session with too few trials 34\n"
     ]
    },
    {
     "data": {
      "application/vnd.jupyter.widget-view+json": {
       "model_id": "5480438a21b346b9b6cba256f54420fd",
       "version_major": 2,
       "version_minor": 0
      },
      "text/plain": [
       "IntProgress(value=0, description='mou_7', max=36)"
      ]
     },
     "metadata": {},
     "output_type": "display_data"
    },
    {
     "name": "stdout",
     "output_type": "stream",
     "text": [
      "Warning: skipping session with too few trials 29\n",
      "Warning: skipping session with too few trials 30\n",
      "Warning: skipping session with too few trials 19\n",
      "Warning: skipping session with too few trials 40\n",
      "Warning: skipping session with too few trials 30\n",
      "Warning: skipping session with too few trials 34\n",
      "Warning: skipping session with too few trials 36\n",
      "Warning: skipping session with too few trials 19\n",
      "Warning: skipping session with too few trials 22\n",
      "Warning: skipping session with too few trials 9\n",
      "Warning: skipping session with too few trials 22\n",
      "Warning: skipping session with too few trials 20\n",
      "Warning: skipping session with too few trials 17\n",
      "Warning: skipping session with too few trials 29\n",
      "Warning: skipping session with too few trials 37\n",
      "Warning: skipping session with too few trials 41\n",
      "Warning: skipping session with too few trials 17\n",
      "Warning: skipping session with too few trials 19\n",
      "Warning: skipping session with too few trials 46\n",
      "Warning: skipping session with too few trials 26\n",
      "Warning: skipping session with too few trials 15\n",
      "Warning: skipping session with too few trials 33\n",
      "Warning: skipping session with too few trials 17\n",
      "Warning: skipping session with too few trials 18\n",
      "Warning: skipping session with too few trials 6\n",
      "Warning: skipping session with too few trials 34\n",
      "Warning: skipping session with too few trials 22\n",
      "Warning: skipping session with too few trials 16\n",
      "Warning: skipping session with too few trials 33\n",
      "Warning: skipping session with too few trials 32\n",
      "Warning: skipping session with too few trials 35\n",
      "Warning: skipping session with too few trials 9\n",
      "Warning: skipping session with too few trials 22\n",
      "Warning: skipping session with too few trials 31\n",
      "Warning: skipping session with too few trials 34\n"
     ]
    },
    {
     "data": {
      "application/vnd.jupyter.widget-view+json": {
       "model_id": "3260160b4c4c4ca48d972aa748fe2215",
       "version_major": 2,
       "version_minor": 0
      },
      "text/plain": [
       "IntProgress(value=0, description='mou_7', max=36)"
      ]
     },
     "metadata": {},
     "output_type": "display_data"
    },
    {
     "name": "stdout",
     "output_type": "stream",
     "text": [
      "Warning: skipping session with too few trials 29\n",
      "Warning: skipping session with too few trials 30\n",
      "Warning: skipping session with too few trials 19\n",
      "Warning: skipping session with too few trials 40\n",
      "Warning: skipping session with too few trials 30\n",
      "Warning: skipping session with too few trials 34\n",
      "Warning: skipping session with too few trials 36\n",
      "Warning: skipping session with too few trials 19\n",
      "Warning: skipping session with too few trials 22\n",
      "Warning: skipping session with too few trials 9\n",
      "Warning: skipping session with too few trials 22\n",
      "Warning: skipping session with too few trials 20\n",
      "Warning: skipping session with too few trials 17\n",
      "Warning: skipping session with too few trials 29\n",
      "Warning: skipping session with too few trials 37\n",
      "Warning: skipping session with too few trials 41\n",
      "Warning: skipping session with too few trials 17\n",
      "Warning: skipping session with too few trials 19\n",
      "Warning: skipping session with too few trials 46\n",
      "Warning: skipping session with too few trials 26\n",
      "Warning: skipping session with too few trials 15\n",
      "Warning: skipping session with too few trials 33\n",
      "Warning: skipping session with too few trials 17\n",
      "Warning: skipping session with too few trials 18\n",
      "Warning: skipping session with too few trials 6\n",
      "Warning: skipping session with too few trials 34\n",
      "Warning: skipping session with too few trials 22\n",
      "Warning: skipping session with too few trials 16\n",
      "Warning: skipping session with too few trials 33\n",
      "Warning: skipping session with too few trials 32\n",
      "Warning: skipping session with too few trials 35\n",
      "Warning: skipping session with too few trials 9\n",
      "Warning: skipping session with too few trials 22\n",
      "Warning: skipping session with too few trials 31\n",
      "Warning: skipping session with too few trials 34\n"
     ]
    },
    {
     "data": {
      "application/vnd.jupyter.widget-view+json": {
       "model_id": "3648438904024f02a844b3c1ac1a5444",
       "version_major": 2,
       "version_minor": 0
      },
      "text/plain": [
       "IntProgress(value=0, description='mou_7', max=36)"
      ]
     },
     "metadata": {},
     "output_type": "display_data"
    },
    {
     "name": "stdout",
     "output_type": "stream",
     "text": [
      "Warning: skipping session with too few trials 29\n",
      "Warning: skipping session with too few trials 30\n",
      "Warning: skipping session with too few trials 19\n",
      "Warning: skipping session with too few trials 40\n",
      "Warning: skipping session with too few trials 30\n",
      "Warning: skipping session with too few trials 34\n",
      "Warning: skipping session with too few trials 36\n",
      "Warning: skipping session with too few trials 19\n",
      "Warning: skipping session with too few trials 22\n",
      "Warning: skipping session with too few trials 9\n",
      "Warning: skipping session with too few trials 22\n",
      "Warning: skipping session with too few trials 20\n",
      "Warning: skipping session with too few trials 17\n",
      "Warning: skipping session with too few trials 29\n",
      "Warning: skipping session with too few trials 37\n",
      "Warning: skipping session with too few trials 41\n",
      "Warning: skipping session with too few trials 17\n",
      "Warning: skipping session with too few trials 19\n",
      "Warning: skipping session with too few trials 46\n",
      "Warning: skipping session with too few trials 26\n",
      "Warning: skipping session with too few trials 15\n",
      "Warning: skipping session with too few trials 33\n",
      "Warning: skipping session with too few trials 17\n",
      "Warning: skipping session with too few trials 18\n",
      "Warning: skipping session with too few trials 6\n",
      "Warning: skipping session with too few trials 34\n",
      "Warning: skipping session with too few trials 22\n",
      "Warning: skipping session with too few trials 16\n",
      "Warning: skipping session with too few trials 33\n",
      "Warning: skipping session with too few trials 32\n",
      "Warning: skipping session with too few trials 35\n",
      "Warning: skipping session with too few trials 9\n",
      "Warning: skipping session with too few trials 22\n",
      "Warning: skipping session with too few trials 31\n",
      "Warning: skipping session with too few trials 34\n"
     ]
    },
    {
     "data": {
      "application/vnd.jupyter.widget-view+json": {
       "model_id": "91ffe35286bf4691a0f178515f8e1ae4",
       "version_major": 2,
       "version_minor": 0
      },
      "text/plain": [
       "IntProgress(value=0, description='mou_7', max=36)"
      ]
     },
     "metadata": {},
     "output_type": "display_data"
    },
    {
     "name": "stdout",
     "output_type": "stream",
     "text": [
      "Warning: skipping session with too few trials 26\n",
      "Warning: skipping session with too few trials 37\n",
      "Warning: skipping session with too few trials 25\n",
      "Warning: skipping session with too few trials 38\n",
      "Warning: skipping session with too few trials 37\n",
      "Warning: skipping session with too few trials 49\n",
      "Warning: skipping session with too few trials 46\n",
      "Warning: skipping session with too few trials 23\n",
      "Warning: skipping session with too few trials 39\n",
      "Warning: skipping session with too few trials 43\n",
      "Warning: skipping session with too few trials 44\n",
      "Warning: skipping session with too few trials 48\n",
      "Warning: skipping session with too few trials 41\n",
      "Warning: skipping session with too few trials 38\n"
     ]
    },
    {
     "data": {
      "application/vnd.jupyter.widget-view+json": {
       "model_id": "62f69c2f353d49bbae4373a531d9e9cc",
       "version_major": 2,
       "version_minor": 0
      },
      "text/plain": [
       "IntProgress(value=0, description='mou_7', max=36)"
      ]
     },
     "metadata": {},
     "output_type": "display_data"
    },
    {
     "name": "stdout",
     "output_type": "stream",
     "text": [
      "Warning: skipping session with too few trials 26\n",
      "Warning: skipping session with too few trials 37\n",
      "Warning: skipping session with too few trials 25\n",
      "Warning: skipping session with too few trials 38\n",
      "Warning: skipping session with too few trials 37\n",
      "Warning: skipping session with too few trials 49\n",
      "Warning: skipping session with too few trials 46\n",
      "Warning: skipping session with too few trials 23\n",
      "Warning: skipping session with too few trials 39\n",
      "Warning: skipping session with too few trials 43\n",
      "Warning: skipping session with too few trials 44\n",
      "Warning: skipping session with too few trials 48\n",
      "Warning: skipping session with too few trials 41\n",
      "Warning: skipping session with too few trials 38\n"
     ]
    },
    {
     "data": {
      "application/vnd.jupyter.widget-view+json": {
       "model_id": "bf4667cceab94e20ba3abcf0cc3312c7",
       "version_major": 2,
       "version_minor": 0
      },
      "text/plain": [
       "IntProgress(value=0, description='mou_7', max=36)"
      ]
     },
     "metadata": {},
     "output_type": "display_data"
    },
    {
     "name": "stdout",
     "output_type": "stream",
     "text": [
      "Warning: skipping session with too few trials 26\n",
      "Warning: skipping session with too few trials 37\n",
      "Warning: skipping session with too few trials 25\n",
      "Warning: skipping session with too few trials 38\n",
      "Warning: skipping session with too few trials 37\n",
      "Warning: skipping session with too few trials 49\n",
      "Warning: skipping session with too few trials 46\n",
      "Warning: skipping session with too few trials 23\n",
      "Warning: skipping session with too few trials 39\n",
      "Warning: skipping session with too few trials 43\n",
      "Warning: skipping session with too few trials 44\n",
      "Warning: skipping session with too few trials 48\n",
      "Warning: skipping session with too few trials 41\n",
      "Warning: skipping session with too few trials 38\n"
     ]
    },
    {
     "data": {
      "application/vnd.jupyter.widget-view+json": {
       "model_id": "d81d5ffefcea48b3b9a175d0c3bc0095",
       "version_major": 2,
       "version_minor": 0
      },
      "text/plain": [
       "IntProgress(value=0, description='mou_7', max=36)"
      ]
     },
     "metadata": {},
     "output_type": "display_data"
    },
    {
     "name": "stdout",
     "output_type": "stream",
     "text": [
      "Warning: skipping session with too few trials 26\n",
      "Warning: skipping session with too few trials 37\n",
      "Warning: skipping session with too few trials 25\n",
      "Warning: skipping session with too few trials 38\n",
      "Warning: skipping session with too few trials 37\n",
      "Warning: skipping session with too few trials 49\n",
      "Warning: skipping session with too few trials 46\n",
      "Warning: skipping session with too few trials 23\n",
      "Warning: skipping session with too few trials 39\n",
      "Warning: skipping session with too few trials 43\n",
      "Warning: skipping session with too few trials 44\n",
      "Warning: skipping session with too few trials 48\n",
      "Warning: skipping session with too few trials 41\n",
      "Warning: skipping session with too few trials 38\n"
     ]
    }
   ],
   "source": [
    "bulk_metrics.metric_mouse_bulk_vs_session(dataDB, mc, ds, \"rank_effective\", 'session', minTrials=50,\n",
    "                                          trialTypeNames=[None, 'Hit', 'CR'], verbose=False,\n",
    "                                          intervNames=intervNames, exclQueryLst=exclQueryLst)"
   ]
  },
  {
   "cell_type": "code",
   "execution_count": 41,
   "metadata": {
    "scrolled": true
   },
   "outputs": [
    {
     "name": "stdout",
     "output_type": "stream",
     "text": [
      "['rank_effective', 'session', 'mou_5', 'None', 'bn_session', 'AUD', 'dset888', 'CR']\n",
      "(21,)\n",
      "(12,)\n",
      "['rank_effective', 'session', 'mou_6', 'None', 'bn_session', 'AUD', 'dset926', 'CR']\n",
      "(29,)\n",
      "(10,)\n",
      "['rank_effective', 'session', 'mou_7', 'None', 'bn_session', 'AUD', 'dset996', 'CR']\n",
      "(36,)\n",
      "(22,)\n",
      "['rank_effective', 'session', 'mou_9', 'None', 'bn_session', 'AUD', 'dset958', 'CR']\n",
      "(20,)\n",
      "(15,)\n",
      "['rank_effective', 'session', 'mou_5', 'None', 'bn_trial', 'AUD', 'dset896', 'CR']\n",
      "(21,)\n",
      "(12,)\n",
      "['rank_effective', 'session', 'mou_6', 'None', 'bn_trial', 'AUD', 'dset938', 'CR']\n",
      "(29,)\n",
      "(10,)\n",
      "['rank_effective', 'session', 'mou_7', 'None', 'bn_trial', 'AUD', 'dset1008', 'CR']\n",
      "(36,)\n",
      "(22,)\n",
      "['rank_effective', 'session', 'mou_9', 'None', 'bn_trial', 'AUD', 'dset966', 'CR']\n",
      "(20,)\n",
      "(15,)\n",
      "['rank_effective', 'session', 'mou_5', 'None', 'bn_session', 'AVG', 'dset891', 'CR']\n",
      "(21,)\n",
      "(12,)\n",
      "['rank_effective', 'session', 'mou_6', 'None', 'bn_session', 'AVG', 'dset929', 'CR']\n",
      "(29,)\n",
      "(10,)\n",
      "['rank_effective', 'session', 'mou_7', 'None', 'bn_session', 'AVG', 'dset999', 'CR']\n",
      "(36,)\n",
      "(22,)\n",
      "['rank_effective', 'session', 'mou_9', 'None', 'bn_session', 'AVG', 'dset961', 'CR']\n",
      "(20,)\n",
      "(15,)\n",
      "['rank_effective', 'session', 'mou_5', 'None', 'bn_trial', 'AVG', 'dset899', 'CR']\n",
      "(21,)\n",
      "(12,)\n",
      "['rank_effective', 'session', 'mou_6', 'None', 'bn_trial', 'AVG', 'dset941', 'CR']\n",
      "(29,)\n",
      "(10,)\n",
      "['rank_effective', 'session', 'mou_7', 'None', 'bn_trial', 'AVG', 'dset1011', 'CR']\n",
      "(36,)\n",
      "(22,)\n",
      "['rank_effective', 'session', 'mou_9', 'None', 'bn_trial', 'AVG', 'dset969', 'CR']\n",
      "(20,)\n",
      "(15,)\n",
      "['rank_effective', 'session', 'mou_5', 'None', 'bn_session', 'DEL', 'dset889', 'CR']\n",
      "(21,)\n",
      "(12,)\n",
      "['rank_effective', 'session', 'mou_6', 'None', 'bn_session', 'DEL', 'dset927', 'CR']\n",
      "(29,)\n",
      "(10,)\n",
      "['rank_effective', 'session', 'mou_7', 'None', 'bn_session', 'DEL', 'dset997', 'CR']\n",
      "(36,)\n",
      "(22,)\n",
      "['rank_effective', 'session', 'mou_9', 'None', 'bn_session', 'DEL', 'dset959', 'CR']\n",
      "(20,)\n",
      "(15,)\n",
      "['rank_effective', 'session', 'mou_5', 'None', 'bn_trial', 'DEL', 'dset897', 'CR']\n",
      "(21,)\n",
      "(12,)\n",
      "['rank_effective', 'session', 'mou_6', 'None', 'bn_trial', 'DEL', 'dset939', 'CR']\n",
      "(29,)\n",
      "(10,)\n",
      "['rank_effective', 'session', 'mou_7', 'None', 'bn_trial', 'DEL', 'dset1009', 'CR']\n",
      "(36,)\n",
      "(22,)\n",
      "['rank_effective', 'session', 'mou_9', 'None', 'bn_trial', 'DEL', 'dset967', 'CR']\n",
      "(20,)\n",
      "(15,)\n",
      "['rank_effective', 'session', 'mou_5', 'None', 'bn_session', 'PRE', 'dset887', 'CR']\n",
      "(21,)\n",
      "(12,)\n",
      "['rank_effective', 'session', 'mou_6', 'None', 'bn_session', 'PRE', 'dset925', 'CR']\n",
      "(29,)\n",
      "(10,)\n",
      "['rank_effective', 'session', 'mou_7', 'None', 'bn_session', 'PRE', 'dset995', 'CR']\n",
      "(36,)\n",
      "(22,)\n",
      "['rank_effective', 'session', 'mou_9', 'None', 'bn_session', 'PRE', 'dset957', 'CR']\n",
      "(20,)\n",
      "(15,)\n",
      "['rank_effective', 'session', 'mou_5', 'None', 'bn_session', 'REW', 'dset890', 'CR']\n",
      "(21,)\n",
      "(12,)\n",
      "['rank_effective', 'session', 'mou_6', 'None', 'bn_session', 'REW', 'dset928', 'CR']\n",
      "(29,)\n",
      "(10,)\n",
      "['rank_effective', 'session', 'mou_7', 'None', 'bn_session', 'REW', 'dset998', 'CR']\n",
      "(36,)\n",
      "(22,)\n",
      "['rank_effective', 'session', 'mou_9', 'None', 'bn_session', 'REW', 'dset960', 'CR']\n",
      "(20,)\n",
      "(15,)\n",
      "['rank_effective', 'session', 'mou_5', 'None', 'bn_trial', 'REW', 'dset898', 'CR']\n",
      "(21,)\n",
      "(12,)\n",
      "['rank_effective', 'session', 'mou_6', 'None', 'bn_trial', 'REW', 'dset940', 'CR']\n",
      "(29,)\n",
      "(10,)\n",
      "['rank_effective', 'session', 'mou_7', 'None', 'bn_trial', 'REW', 'dset1010', 'CR']\n",
      "(36,)\n",
      "(22,)\n",
      "['rank_effective', 'session', 'mou_9', 'None', 'bn_trial', 'REW', 'dset968', 'CR']\n",
      "(20,)\n",
      "(15,)\n",
      "['rank_effective', 'session', 'mou_5', 'rs', 'raw', 'AUD', 'dset878', 'CR']\n",
      "(21,)\n",
      "(12,)\n",
      "['rank_effective', 'session', 'mou_6', 'rs', 'raw', 'AUD', 'dset911', 'CR']\n",
      "(29,)\n",
      "(10,)\n",
      "['rank_effective', 'session', 'mou_7', 'rs', 'raw', 'AUD', 'dset981', 'CR']\n",
      "(36,)\n",
      "(22,)\n",
      "['rank_effective', 'session', 'mou_9', 'rs', 'raw', 'AUD', 'dset948', 'CR']\n",
      "(20,)\n",
      "(15,)\n",
      "['rank_effective', 'session', 'mou_5', 'rs', 'raw', 'AVG', 'dset881', 'CR']\n",
      "(21,)\n",
      "(12,)\n",
      "['rank_effective', 'session', 'mou_6', 'rs', 'raw', 'AVG', 'dset914', 'CR']\n",
      "(29,)\n",
      "(10,)\n",
      "['rank_effective', 'session', 'mou_7', 'rs', 'raw', 'AVG', 'dset984', 'CR']\n",
      "(36,)\n",
      "(22,)\n",
      "['rank_effective', 'session', 'mou_9', 'rs', 'raw', 'AVG', 'dset951', 'CR']\n",
      "(20,)\n",
      "(15,)\n",
      "['rank_effective', 'session', 'mou_5', 'rs', 'raw', 'DEL', 'dset879', 'CR']\n",
      "(21,)\n",
      "(12,)\n",
      "['rank_effective', 'session', 'mou_6', 'rs', 'raw', 'DEL', 'dset912', 'CR']\n",
      "(29,)\n",
      "(10,)\n",
      "['rank_effective', 'session', 'mou_7', 'rs', 'raw', 'DEL', 'dset982', 'CR']\n",
      "(36,)\n",
      "(22,)\n",
      "['rank_effective', 'session', 'mou_9', 'rs', 'raw', 'DEL', 'dset949', 'CR']\n",
      "(20,)\n",
      "(15,)\n",
      "['rank_effective', 'session', 'mou_5', 'rs', 'raw', 'PRE', 'dset877', 'CR']\n",
      "(21,)\n",
      "(12,)\n",
      "['rank_effective', 'session', 'mou_6', 'rs', 'raw', 'PRE', 'dset910', 'CR']\n",
      "(29,)\n",
      "(10,)\n",
      "['rank_effective', 'session', 'mou_7', 'rs', 'raw', 'PRE', 'dset980', 'CR']\n",
      "(36,)\n",
      "(22,)\n",
      "['rank_effective', 'session', 'mou_9', 'rs', 'raw', 'PRE', 'dset947', 'CR']\n",
      "(20,)\n",
      "(15,)\n",
      "['rank_effective', 'session', 'mou_5', 'rs', 'raw', 'REW', 'dset880', 'CR']\n",
      "(21,)\n",
      "(12,)\n",
      "['rank_effective', 'session', 'mou_6', 'rs', 'raw', 'REW', 'dset913', 'CR']\n",
      "(29,)\n",
      "(10,)\n",
      "['rank_effective', 'session', 'mou_7', 'rs', 'raw', 'REW', 'dset983', 'CR']\n",
      "(36,)\n",
      "(22,)\n",
      "['rank_effective', 'session', 'mou_9', 'rs', 'raw', 'REW', 'dset950', 'CR']\n",
      "(20,)\n",
      "(15,)\n",
      "['rank_effective', 'session', 'mou_6', 'None', 'bn_session', 'AUD', 'dset921', 'Hit']\n",
      "(29,)\n",
      "(1,)\n",
      "['rank_effective', 'session', 'mou_7', 'None', 'bn_session', 'AUD', 'dset991', 'Hit']\n",
      "(36,)\n",
      "(1,)\n",
      "['rank_effective', 'session', 'mou_6', 'None', 'bn_trial', 'AUD', 'dset934', 'Hit']\n",
      "(29,)\n",
      "(1,)\n",
      "['rank_effective', 'session', 'mou_7', 'None', 'bn_trial', 'AUD', 'dset1004', 'Hit']\n",
      "(36,)\n",
      "(1,)\n",
      "['rank_effective', 'session', 'mou_6', 'None', 'bn_session', 'AVG', 'dset924', 'Hit']\n",
      "(29,)\n",
      "(1,)\n",
      "['rank_effective', 'session', 'mou_7', 'None', 'bn_session', 'AVG', 'dset994', 'Hit']\n",
      "(36,)\n",
      "(1,)\n",
      "['rank_effective', 'session', 'mou_6', 'None', 'bn_trial', 'AVG', 'dset937', 'Hit']\n",
      "(29,)\n",
      "(1,)\n",
      "['rank_effective', 'session', 'mou_7', 'None', 'bn_trial', 'AVG', 'dset1007', 'Hit']\n",
      "(36,)\n",
      "(1,)\n",
      "['rank_effective', 'session', 'mou_6', 'None', 'bn_session', 'DEL', 'dset922', 'Hit']\n",
      "(29,)\n",
      "(1,)\n",
      "['rank_effective', 'session', 'mou_7', 'None', 'bn_session', 'DEL', 'dset992', 'Hit']\n",
      "(36,)\n",
      "(1,)\n",
      "['rank_effective', 'session', 'mou_6', 'None', 'bn_trial', 'DEL', 'dset935', 'Hit']\n",
      "(29,)\n",
      "(1,)\n",
      "['rank_effective', 'session', 'mou_7', 'None', 'bn_trial', 'DEL', 'dset1005', 'Hit']\n",
      "(36,)\n",
      "(1,)\n",
      "['rank_effective', 'session', 'mou_6', 'None', 'bn_session', 'PRE', 'dset920', 'Hit']\n",
      "(29,)\n",
      "(1,)\n",
      "['rank_effective', 'session', 'mou_7', 'None', 'bn_session', 'PRE', 'dset990', 'Hit']\n",
      "(36,)\n",
      "(1,)\n",
      "['rank_effective', 'session', 'mou_6', 'None', 'bn_session', 'REW', 'dset923', 'Hit']\n",
      "(29,)\n",
      "(1,)\n",
      "['rank_effective', 'session', 'mou_7', 'None', 'bn_session', 'REW', 'dset993', 'Hit']\n",
      "(36,)\n",
      "(1,)\n",
      "['rank_effective', 'session', 'mou_6', 'None', 'bn_trial', 'REW', 'dset936', 'Hit']\n",
      "(29,)\n",
      "(1,)\n",
      "['rank_effective', 'session', 'mou_7', 'None', 'bn_trial', 'REW', 'dset1006', 'Hit']\n",
      "(36,)\n",
      "(1,)\n",
      "['rank_effective', 'session', 'mou_6', 'rs', 'raw', 'AUD', 'dset906', 'Hit']\n",
      "(29,)\n",
      "(1,)\n",
      "['rank_effective', 'session', 'mou_7', 'rs', 'raw', 'AUD', 'dset976', 'Hit']\n",
      "(36,)\n",
      "(1,)\n",
      "['rank_effective', 'session', 'mou_6', 'rs', 'raw', 'AVG', 'dset909', 'Hit']\n",
      "(29,)\n",
      "(1,)\n",
      "['rank_effective', 'session', 'mou_7', 'rs', 'raw', 'AVG', 'dset979', 'Hit']\n",
      "(36,)\n",
      "(1,)\n",
      "['rank_effective', 'session', 'mou_6', 'rs', 'raw', 'DEL', 'dset907', 'Hit']\n",
      "(29,)\n",
      "(1,)\n",
      "['rank_effective', 'session', 'mou_7', 'rs', 'raw', 'DEL', 'dset977', 'Hit']\n",
      "(36,)\n",
      "(1,)\n",
      "['rank_effective', 'session', 'mou_6', 'rs', 'raw', 'PRE', 'dset905', 'Hit']\n",
      "(29,)\n",
      "(1,)\n",
      "['rank_effective', 'session', 'mou_7', 'rs', 'raw', 'PRE', 'dset975', 'Hit']\n",
      "(36,)\n",
      "(1,)\n",
      "['rank_effective', 'session', 'mou_6', 'rs', 'raw', 'REW', 'dset908', 'Hit']\n",
      "(29,)\n",
      "(1,)\n",
      "['rank_effective', 'session', 'mou_7', 'rs', 'raw', 'REW', 'dset978', 'Hit']\n",
      "(36,)\n",
      "(1,)\n",
      "['rank_effective', 'session', 'mou_5', 'None', 'bn_session', 'AUD', 'dset883', 'None']\n",
      "(21,)\n",
      "(21,)\n",
      "['rank_effective', 'session', 'mou_6', 'None', 'bn_session', 'AUD', 'dset916', 'None']\n",
      "(29,)\n",
      "(29,)\n",
      "['rank_effective', 'session', 'mou_7', 'None', 'bn_session', 'AUD', 'dset986', 'None']\n",
      "(36,)\n",
      "(36,)\n",
      "['rank_effective', 'session', 'mou_9', 'None', 'bn_session', 'AUD', 'dset953', 'None']\n",
      "(20,)\n",
      "(20,)\n",
      "['rank_effective', 'session', 'mou_5', 'None', 'bn_trial', 'AUD', 'dset892', 'None']\n",
      "(21,)\n",
      "(21,)\n",
      "['rank_effective', 'session', 'mou_6', 'None', 'bn_trial', 'AUD', 'dset930', 'None']\n",
      "(29,)\n",
      "(29,)\n",
      "['rank_effective', 'session', 'mou_7', 'None', 'bn_trial', 'AUD', 'dset1000', 'None']\n",
      "(36,)\n",
      "(36,)\n",
      "['rank_effective', 'session', 'mou_9', 'None', 'bn_trial', 'AUD', 'dset962', 'None']\n",
      "(20,)\n",
      "(20,)\n"
     ]
    },
    {
     "name": "stdout",
     "output_type": "stream",
     "text": [
      "['rank_effective', 'session', 'mou_5', 'None', 'bn_session', 'AVG', 'dset886', 'None']\n",
      "(21,)\n",
      "(21,)\n",
      "['rank_effective', 'session', 'mou_6', 'None', 'bn_session', 'AVG', 'dset919', 'None']\n",
      "(29,)\n",
      "(29,)\n",
      "['rank_effective', 'session', 'mou_7', 'None', 'bn_session', 'AVG', 'dset989', 'None']\n",
      "(36,)\n",
      "(36,)\n",
      "['rank_effective', 'session', 'mou_9', 'None', 'bn_session', 'AVG', 'dset956', 'None']\n",
      "(20,)\n",
      "(20,)\n",
      "['rank_effective', 'session', 'mou_5', 'None', 'bn_trial', 'AVG', 'dset895', 'None']\n",
      "(21,)\n",
      "(21,)\n",
      "['rank_effective', 'session', 'mou_6', 'None', 'bn_trial', 'AVG', 'dset933', 'None']\n",
      "(29,)\n",
      "(29,)\n",
      "['rank_effective', 'session', 'mou_7', 'None', 'bn_trial', 'AVG', 'dset1003', 'None']\n",
      "(36,)\n",
      "(36,)\n",
      "['rank_effective', 'session', 'mou_9', 'None', 'bn_trial', 'AVG', 'dset965', 'None']\n",
      "(20,)\n",
      "(20,)\n",
      "['rank_effective', 'session', 'mou_5', 'None', 'bn_session', 'DEL', 'dset884', 'None']\n",
      "(21,)\n",
      "(21,)\n",
      "['rank_effective', 'session', 'mou_6', 'None', 'bn_session', 'DEL', 'dset917', 'None']\n",
      "(29,)\n",
      "(29,)\n",
      "['rank_effective', 'session', 'mou_7', 'None', 'bn_session', 'DEL', 'dset987', 'None']\n",
      "(36,)\n",
      "(36,)\n",
      "['rank_effective', 'session', 'mou_9', 'None', 'bn_session', 'DEL', 'dset954', 'None']\n",
      "(20,)\n",
      "(20,)\n",
      "['rank_effective', 'session', 'mou_5', 'None', 'bn_trial', 'DEL', 'dset893', 'None']\n",
      "(21,)\n",
      "(21,)\n",
      "['rank_effective', 'session', 'mou_6', 'None', 'bn_trial', 'DEL', 'dset931', 'None']\n",
      "(29,)\n",
      "(29,)\n",
      "['rank_effective', 'session', 'mou_7', 'None', 'bn_trial', 'DEL', 'dset1001', 'None']\n",
      "(36,)\n",
      "(36,)\n",
      "['rank_effective', 'session', 'mou_9', 'None', 'bn_trial', 'DEL', 'dset963', 'None']\n",
      "(20,)\n",
      "(20,)\n",
      "['rank_effective', 'session', 'mou_5', 'None', 'bn_session', 'PRE', 'dset882', 'None']\n",
      "(21,)\n",
      "(21,)\n",
      "['rank_effective', 'session', 'mou_6', 'None', 'bn_session', 'PRE', 'dset915', 'None']\n",
      "(29,)\n",
      "(29,)\n",
      "['rank_effective', 'session', 'mou_7', 'None', 'bn_session', 'PRE', 'dset985', 'None']\n",
      "(36,)\n",
      "(36,)\n",
      "['rank_effective', 'session', 'mou_9', 'None', 'bn_session', 'PRE', 'dset952', 'None']\n",
      "(20,)\n",
      "(20,)\n",
      "['rank_effective', 'session', 'mou_5', 'None', 'bn_session', 'REW', 'dset885', 'None']\n",
      "(21,)\n",
      "(21,)\n",
      "['rank_effective', 'session', 'mou_6', 'None', 'bn_session', 'REW', 'dset918', 'None']\n",
      "(29,)\n",
      "(29,)\n",
      "['rank_effective', 'session', 'mou_7', 'None', 'bn_session', 'REW', 'dset988', 'None']\n",
      "(36,)\n",
      "(36,)\n",
      "['rank_effective', 'session', 'mou_9', 'None', 'bn_session', 'REW', 'dset955', 'None']\n",
      "(20,)\n",
      "(20,)\n",
      "['rank_effective', 'session', 'mou_5', 'None', 'bn_trial', 'REW', 'dset894', 'None']\n",
      "(21,)\n",
      "(21,)\n",
      "['rank_effective', 'session', 'mou_6', 'None', 'bn_trial', 'REW', 'dset932', 'None']\n",
      "(29,)\n",
      "(29,)\n",
      "['rank_effective', 'session', 'mou_7', 'None', 'bn_trial', 'REW', 'dset1002', 'None']\n",
      "(36,)\n",
      "(36,)\n",
      "['rank_effective', 'session', 'mou_9', 'None', 'bn_trial', 'REW', 'dset964', 'None']\n",
      "(20,)\n",
      "(20,)\n",
      "['rank_effective', 'session', 'mou_5', 'rs', 'raw', 'AUD', 'dset873', 'None']\n",
      "(21,)\n",
      "(21,)\n",
      "['rank_effective', 'session', 'mou_6', 'rs', 'raw', 'AUD', 'dset901', 'None']\n",
      "(29,)\n",
      "(29,)\n",
      "['rank_effective', 'session', 'mou_7', 'rs', 'raw', 'AUD', 'dset971', 'None']\n",
      "(36,)\n",
      "(36,)\n",
      "['rank_effective', 'session', 'mou_9', 'rs', 'raw', 'AUD', 'dset943', 'None']\n",
      "(20,)\n",
      "(20,)\n",
      "['rank_effective', 'session', 'mou_5', 'rs', 'raw', 'AVG', 'dset876', 'None']\n",
      "(21,)\n",
      "(21,)\n",
      "['rank_effective', 'session', 'mou_6', 'rs', 'raw', 'AVG', 'dset904', 'None']\n",
      "(29,)\n",
      "(29,)\n",
      "['rank_effective', 'session', 'mou_7', 'rs', 'raw', 'AVG', 'dset974', 'None']\n",
      "(36,)\n",
      "(36,)\n",
      "['rank_effective', 'session', 'mou_9', 'rs', 'raw', 'AVG', 'dset946', 'None']\n",
      "(20,)\n",
      "(20,)\n",
      "['rank_effective', 'session', 'mou_5', 'rs', 'raw', 'DEL', 'dset874', 'None']\n",
      "(21,)\n",
      "(21,)\n",
      "['rank_effective', 'session', 'mou_6', 'rs', 'raw', 'DEL', 'dset902', 'None']\n",
      "(29,)\n",
      "(29,)\n",
      "['rank_effective', 'session', 'mou_7', 'rs', 'raw', 'DEL', 'dset972', 'None']\n",
      "(36,)\n",
      "(36,)\n",
      "['rank_effective', 'session', 'mou_9', 'rs', 'raw', 'DEL', 'dset944', 'None']\n",
      "(20,)\n",
      "(20,)\n",
      "['rank_effective', 'session', 'mou_5', 'rs', 'raw', 'PRE', 'dset872', 'None']\n",
      "(21,)\n",
      "(21,)\n",
      "['rank_effective', 'session', 'mou_6', 'rs', 'raw', 'PRE', 'dset900', 'None']\n",
      "(29,)\n",
      "(29,)\n",
      "['rank_effective', 'session', 'mou_7', 'rs', 'raw', 'PRE', 'dset970', 'None']\n",
      "(36,)\n",
      "(36,)\n",
      "['rank_effective', 'session', 'mou_9', 'rs', 'raw', 'PRE', 'dset942', 'None']\n",
      "(20,)\n",
      "(20,)\n",
      "['rank_effective', 'session', 'mou_5', 'rs', 'raw', 'REW', 'dset875', 'None']\n",
      "(21,)\n",
      "(21,)\n",
      "['rank_effective', 'session', 'mou_6', 'rs', 'raw', 'REW', 'dset903', 'None']\n",
      "(29,)\n",
      "(29,)\n",
      "['rank_effective', 'session', 'mou_7', 'rs', 'raw', 'REW', 'dset973', 'None']\n",
      "(36,)\n",
      "(36,)\n",
      "['rank_effective', 'session', 'mou_9', 'rs', 'raw', 'REW', 'dset945', 'None']\n",
      "(20,)\n",
      "(20,)\n"
     ]
    }
   ],
   "source": [
    "bulk_metrics.scatter_metric_bulk(ds, 'rank_effective', 'session', ylim=[1, None], verbose=False,\n",
    "                                 xFunc=None, haveRegression=False)"
   ]
  },
  {
   "cell_type": "markdown",
   "metadata": {},
   "source": [
    "### Conditions"
   ]
  },
  {
   "cell_type": "code",
   "execution_count": 42,
   "metadata": {},
   "outputs": [
    {
     "name": "stdout",
     "output_type": "stream",
     "text": [
      "bn_session\n",
      "bn_trial\n",
      "raw\n"
     ]
    }
   ],
   "source": [
    "bulk_metrics.barplot_conditions(ds, 'rank_effective', 'session', verbose=True, trialTypes=['Hit', 'CR'])"
   ]
  },
  {
   "cell_type": "markdown",
   "metadata": {},
   "source": [
    "## Hierarchical\n",
    "\n",
    "**TODO**:\n",
    "* Add composite selectors for metric helper\n",
    "   - trialType = iGO & iNOGO\n",
    "   - cropTime = TEX & REW"
   ]
  },
  {
   "cell_type": "code",
   "execution_count": null,
   "metadata": {
    "collapsed": true
   },
   "outputs": [],
   "source": [
    "bulk_metrics.metric_mouse_bulk(dataDB, mc, ds, \"rank_effective\", '', 'flat', verbose=False,\n",
    "                               trialTypeNames='auto',\n",
    "                               perfNames='auto',\n",
    "                               intervNames=intervNames, exclQueryLst=exclQueryLst)"
   ]
  },
  {
   "cell_type": "code",
   "execution_count": null,
   "metadata": {
    "collapsed": true
   },
   "outputs": [],
   "source": [
    "df = ds.list_dsets_pd()\n",
    "df = df[df['name'] == 'flat']"
   ]
  },
  {
   "cell_type": "code",
   "execution_count": null,
   "metadata": {
    "collapsed": true
   },
   "outputs": [],
   "source": [
    "data = [np.round(ds.get_data(dset), 2) for dset in df['dset']]\n",
    "df['rez'] = data"
   ]
  },
  {
   "cell_type": "code",
   "execution_count": null,
   "metadata": {
    "collapsed": true
   },
   "outputs": [],
   "source": [
    "df.drop(['datetime', 'zscoreDim', 'dset', 'metric', 'name', 'shape', 'target_dim'], axis=1, inplace=True)"
   ]
  },
  {
   "cell_type": "code",
   "execution_count": null,
   "metadata": {
    "collapsed": true
   },
   "outputs": [],
   "source": [
    "from mesostat.utils.pandas_helper import pd_category_to_column"
   ]
  },
  {
   "cell_type": "code",
   "execution_count": null,
   "metadata": {
    "collapsed": true
   },
   "outputs": [],
   "source": [
    "index = list(set(df.columns) - {'mousename', 'rez'})\n",
    "dfMouse = df.pivot(index=index, columns='mousename', values='rez').reset_index()"
   ]
  },
  {
   "cell_type": "code",
   "execution_count": null,
   "metadata": {
    "collapsed": true,
    "scrolled": true
   },
   "outputs": [],
   "source": [
    "dfMouse[dfMouse['datatype'] == 'bn_trial']"
   ]
  },
  {
   "cell_type": "markdown",
   "metadata": {},
   "source": [
    "# Total Correlation"
   ]
  },
  {
   "cell_type": "code",
   "execution_count": null,
   "metadata": {
    "collapsed": true
   },
   "outputs": [],
   "source": [
    "# bulk_metrics.metric_mouse_bulk(dataDB, mc, ds, \"avg_entropy\", 'sp', 'time-channel', verbose=False)\n",
    "# bulk_metrics.metric_mouse_bulk(dataDB, mc, ds, \"avg_entropy\", 's', 'time', verbose=False)\n",
    "\n",
    "bulk_metrics.metric_mouse_bulk(dataDB, mc, ds, \"avg_TC\", 's', 'time', verbose=False)"
   ]
  },
  {
   "cell_type": "code",
   "execution_count": null,
   "metadata": {
    "collapsed": true,
    "scrolled": true
   },
   "outputs": [],
   "source": [
    "bulk_metrics.plot_metric_bulk(dataDB, ds, 'avg_TC', 'time', verbose=True) # ylim=[1,48]"
   ]
  },
  {
   "cell_type": "code",
   "execution_count": null,
   "metadata": {
    "collapsed": true,
    "scrolled": true
   },
   "outputs": [],
   "source": [
    "bulk_metrics.plot_TC(dataDB, ds, ylim=None, yscale=None, verbose=True)"
   ]
  },
  {
   "cell_type": "markdown",
   "metadata": {},
   "source": [
    "### Cleaning up"
   ]
  },
  {
   "cell_type": "code",
   "execution_count": null,
   "metadata": {
    "collapsed": true
   },
   "outputs": [],
   "source": [
    "with pd.option_context('display.max_rows', None, 'display.max_columns', None):\n",
    "    display(ds.list_dsets_pd().sort_values(by='datetime'))"
   ]
  },
  {
   "cell_type": "code",
   "execution_count": null,
   "metadata": {
    "collapsed": true
   },
   "outputs": [],
   "source": [
    "ds.delete_by_query(queryDict={\"metric\" : \"rank_effective\"}, timestr=\"2020-11-20 18:00:00\")"
   ]
  },
  {
   "cell_type": "code",
   "execution_count": null,
   "metadata": {
    "collapsed": true
   },
   "outputs": [],
   "source": []
  }
 ],
 "metadata": {
  "kernelspec": {
   "display_name": "Py3QT5",
   "language": "python",
   "name": "py3qt5"
  },
  "language_info": {
   "codemirror_mode": {
    "name": "ipython",
    "version": 3
   },
   "file_extension": ".py",
   "mimetype": "text/x-python",
   "name": "python",
   "nbconvert_exporter": "python",
   "pygments_lexer": "ipython3",
   "version": "3.8.5"
  }
 },
 "nbformat": 4,
 "nbformat_minor": 2
}

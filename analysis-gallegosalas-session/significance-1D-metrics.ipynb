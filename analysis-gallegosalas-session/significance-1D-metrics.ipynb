{
 "cells": [
  {
   "cell_type": "code",
   "execution_count": null,
   "metadata": {},
   "outputs": [],
   "source": [
    "# Standard libraries\n",
    "import numpy as np\n",
    "import matplotlib.pyplot as plt\n",
    "from ipywidgets import interactive, IntProgress\n",
    "from IPython.display import display\n",
    "\n",
    "# Append base directory\n",
    "import os,sys,inspect\n",
    "rootname = \"pub-2020-exploratory-analysis\"\n",
    "thispath = os.path.dirname(os.path.abspath(inspect.getfile(inspect.currentframe())))\n",
    "rootpath = os.path.join(thispath[:thispath.index(rootname)], rootname)\n",
    "sys.path.append(rootpath)\n",
    "print(\"Appended root directory\", rootpath)\n",
    "\n",
    "from mesostat.utils.qt_helper import gui_fnames, gui_fpath\n",
    "from mesostat.utils.hdf5_io import DataStorage\n",
    "from mesostat.metric.metric import MetricCalculator\n",
    "from mesostat.stat.anova import as_pandas_lst, anova_homebrew\n",
    "from mesostat.visualization.mpl_matrix import imshow\n",
    "\n",
    "from lib.gallegosalas.data_fc_db_sessional import DataFCDatabase\n",
    "from lib.sych.plot_helper import imshow_dataset_by_mouse, imshow_dataset_by_session\n",
    "from lib.sych.metric_helper import metric_by_session\n",
    "\n",
    "%load_ext autoreload\n",
    "%autoreload 2"
   ]
  },
  {
   "cell_type": "code",
   "execution_count": null,
   "metadata": {},
   "outputs": [],
   "source": [
    "params = {}\n",
    "# params['root_path_data']  = gui_fpath(\"Path to data collection\",  './')\n",
    "params['root_path_data'] = '/media/alyosha/Data/TE_data/yasirdata2/'"
   ]
  },
  {
   "cell_type": "code",
   "execution_count": null,
   "metadata": {},
   "outputs": [],
   "source": [
    "dataDB = DataFCDatabase(params)"
   ]
  },
  {
   "cell_type": "code",
   "execution_count": null,
   "metadata": {
    "scrolled": true
   },
   "outputs": [],
   "source": [
    "dataDB.read_neuro_files()"
   ]
  },
  {
   "cell_type": "code",
   "execution_count": null,
   "metadata": {},
   "outputs": [],
   "source": [
    "dataDB.baseline_normalization()"
   ]
  },
  {
   "cell_type": "code",
   "execution_count": null,
   "metadata": {},
   "outputs": [],
   "source": [
    "ds = DataStorage('gallerosalas_result_individual_region.h5')"
   ]
  },
  {
   "cell_type": "code",
   "execution_count": null,
   "metadata": {},
   "outputs": [],
   "source": [
    "mc = MetricCalculator(serial=True, verbose=False)"
   ]
  },
  {
   "cell_type": "markdown",
   "metadata": {},
   "source": [
    "# 2. Activity"
   ]
  },
  {
   "cell_type": "code",
   "execution_count": null,
   "metadata": {
    "scrolled": true
   },
   "outputs": [],
   "source": [
    "for metricName in ['mean', 'std', 'avg_entropy']:\n",
    "    for iMouse, mousename in enumerate(sorted(dataDB.mice)):\n",
    "        for datatype in dataDB.get_data_types():\n",
    "            dataName = metricName + '_' + datatype\n",
    "            print(dataName)\n",
    "            metric_by_session(dataDB, mc, ds, mousename, metricName, 'p', datatype=datatype, dataName=dataName)"
   ]
  },
  {
   "cell_type": "code",
   "execution_count": null,
   "metadata": {
    "scrolled": true
   },
   "outputs": [],
   "source": [
    "for metricName in ['mean', 'std', 'avg_entropy']:\n",
    "    for datatype in dataDB.get_data_types():\n",
    "        dataName = metricName + '_' + datatype\n",
    "        imshow_dataset_by_mouse(dataDB, ds, dataName, havePerf=False)"
   ]
  },
  {
   "cell_type": "markdown",
   "metadata": {},
   "source": [
    "# 3. Temporal Structure\n",
    "## 3.1 Temporal specificity"
   ]
  },
  {
   "cell_type": "code",
   "execution_count": null,
   "metadata": {},
   "outputs": [],
   "source": [
    "import multiprocessing\n",
    "from time import time\n",
    "from scipy.stats import wilcoxon\n",
    "from mesostat.utils.arrays import numpy_transpose_byorder\n",
    "\n",
    "def task2(data2D):\n",
    "    dataTmp = data2D - np.mean(data2D)\n",
    "    \n",
    "    nTime = data2D.shape[1]\n",
    "    rez = np.zeros(nTime)\n",
    "\n",
    "    for iTime in range(nTime):\n",
    "        T, pval = wilcoxon(dataTmp[:, iTime])\n",
    "#         rez[iTime] = np.sign(np.mean(dataTmp[:, iTime])) * int(pval < 0.01 / nTime)\n",
    "        rez[iTime] = np.sign(np.mean(dataTmp[:, iTime])) * (-np.log10(pval))\n",
    "    return rez\n",
    "    \n",
    "\n",
    "# Parallel stuff\n",
    "pool = multiprocessing.Pool(processes=4)\n",
    "\n",
    "for iMouse, mousename in enumerate(sorted(dataDB.mice)):\n",
    "    for datatype in dataDB.get_data_types():\n",
    "        print('doing', mousename, datatype)\n",
    "        rows = dataDB.get_rows('neuro', {'mousename' : mousename, 'datatype' : datatype})\n",
    "\n",
    "        fig, ax = plt.subplots(ncols=len(rows), figsize=(6*len(rows), 3), tight_layout=True)\n",
    "        fig.suptitle(mousename)\n",
    "\n",
    "        for iPlot, (idx, row) in enumerate(rows.iterrows()):\n",
    "            session = row['session']\n",
    "            print('..session', session, end='')\n",
    "            timeStart = time()\n",
    "\n",
    "            data = dataDB.dataNeuronal[idx]\n",
    "            dataTmp = numpy_transpose_byorder(data, 'rsp', 'prs')\n",
    "            rez = np.array(pool.map(task2, dataTmp))\n",
    "\n",
    "    #         ax[iPlot].imshow(rez, vmin=-1.1, vmax=1.1, cmap='jet')\n",
    "            ax[iPlot].imshow(rez, vmin=-10, vmax=10, cmap='jet')\n",
    "            ax[iPlot].set_title(session)\n",
    "\n",
    "            print('; took time', time() - timeStart)\n",
    "        plt.show()\n",
    "    \n",
    "pool.terminate()\n",
    "pool.join()"
   ]
  },
  {
   "cell_type": "markdown",
   "metadata": {},
   "source": [
    "# 4. Behaviour-Specific performance\n",
    "\n",
    "## 4.1 Temporal mean vs learning"
   ]
  },
  {
   "cell_type": "code",
   "execution_count": null,
   "metadata": {
    "scrolled": true
   },
   "outputs": [],
   "source": [
    "for iMouse, mousename in enumerate(sorted(dataDB.mice)):\n",
    "    for datatype in dataDB.get_data_types():\n",
    "        dataName = 'ord_mean' + '_' + datatype\n",
    "        print(dataName)\n",
    "        metric_by_session(dataDB, mc, ds, mousename, 'ord_mean', 'p', datatype=datatype, dataName=dataName)"
   ]
  },
  {
   "cell_type": "code",
   "execution_count": null,
   "metadata": {
    "scrolled": true
   },
   "outputs": [],
   "source": [
    "for datatype in dataDB.get_data_types():\n",
    "    dataName = 'ord_mean' + '_' + datatype\n",
    "    imshow_dataset_by_mouse(dataDB, ds, dataName, havePerf=False)"
   ]
  },
  {
   "cell_type": "code",
   "execution_count": null,
   "metadata": {},
   "outputs": [],
   "source": []
  }
 ],
 "metadata": {
  "kernelspec": {
   "display_name": "Python (nest)",
   "language": "python",
   "name": "py36nest"
  },
  "language_info": {
   "codemirror_mode": {
    "name": "ipython",
    "version": 3
   },
   "file_extension": ".py",
   "mimetype": "text/x-python",
   "name": "python",
   "nbconvert_exporter": "python",
   "pygments_lexer": "ipython3",
   "version": "3.6.6"
  }
 },
 "nbformat": 4,
 "nbformat_minor": 2
}

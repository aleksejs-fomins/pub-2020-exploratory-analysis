{
 "cells": [
  {
   "cell_type": "code",
   "execution_count": null,
   "metadata": {},
   "outputs": [],
   "source": [
    "# Standard libraries\n",
    "import json\n",
    "import numpy as np\n",
    "import pandas as pd\n",
    "import seaborn as sns\n",
    "import matplotlib.pyplot as plt\n",
    "from ipywidgets import interactive, IntProgress\n",
    "from IPython.display import display\n",
    "\n",
    "# Append base directory\n",
    "import os,sys,inspect\n",
    "rootname = \"pub-2020-exploratory-analysis\"\n",
    "thispath = os.path.dirname(os.path.abspath(inspect.getfile(inspect.currentframe())))\n",
    "rootpath = os.path.join(thispath[:thispath.index(rootname)], rootname)\n",
    "sys.path.append(rootpath)\n",
    "print(\"Appended root directory\", rootpath)\n",
    "\n",
    "from mesostat.utils.qt_helper import gui_fnames, gui_fpath\n",
    "from lib.gallegosalas.data_fc_db_sessional import DataFCDatabase\n",
    "from mesostat.metric.metric import MetricCalculator\n",
    "from mesostat.utils.signals import zscore\n",
    "\n",
    "%load_ext autoreload\n",
    "%autoreload 2"
   ]
  },
  {
   "cell_type": "code",
   "execution_count": null,
   "metadata": {},
   "outputs": [],
   "source": [
    "params = {}\n",
    "# params['root_path_data']  = gui_fpath(\"Path to data collection\",  './')\n",
    "params['root_path_data'] = '/media/alyosha/Data/TE_data/yasirdata2/'"
   ]
  },
  {
   "cell_type": "code",
   "execution_count": null,
   "metadata": {},
   "outputs": [],
   "source": [
    "dataDB = DataFCDatabase(params)"
   ]
  },
  {
   "cell_type": "code",
   "execution_count": null,
   "metadata": {
    "scrolled": true
   },
   "outputs": [],
   "source": [
    "dataDB.read_neuro_files()"
   ]
  },
  {
   "cell_type": "code",
   "execution_count": null,
   "metadata": {},
   "outputs": [],
   "source": [
    "dataDB.baseline_normalization()"
   ]
  },
  {
   "cell_type": "code",
   "execution_count": null,
   "metadata": {},
   "outputs": [],
   "source": [
    "print('mice', dataDB.mice)\n",
    "print('nSessions', len(dataDB.sessions))\n",
    "print('datatypes', dataDB.get_data_types())\n",
    "print('nChannel', dataDB.dataNeuronal[0].shape[1])"
   ]
  },
  {
   "cell_type": "code",
   "execution_count": null,
   "metadata": {},
   "outputs": [],
   "source": [
    "dataDB.calc_shortest_distances()\n",
    "\n",
    "fig, ax = plt.subplots(ncols=2)\n",
    "ax[0].imshow(dataDB.allenMap)\n",
    "ax[1].imshow(dataDB.allenDist)\n",
    "plt.show()\n",
    "\n",
    "len(dataDB.allenCounts)"
   ]
  },
  {
   "cell_type": "code",
   "execution_count": null,
   "metadata": {},
   "outputs": [],
   "source": [
    "dataDB.channelLabels"
   ]
  },
  {
   "cell_type": "code",
   "execution_count": null,
   "metadata": {
    "scrolled": true
   },
   "outputs": [],
   "source": [
    "nRows = len(dataDB.sessions)\n",
    "nCols = dataDB.get_n_data_types()\n",
    "\n",
    "for iMouse, mousename in enumerate(dataDB.mice):\n",
    "    fig, ax = plt.subplots(nrows=nRows, ncols=nCols, figsize=(4*nCols, 4*nRows), tight_layout=True)\n",
    "#     fig.suptitle(mousename)\n",
    "    \n",
    "    for iSession, session in enumerate(dataDB.sessions):\n",
    "        ax[iSession, 0].set_ylabel(session)\n",
    "        \n",
    "        for iDataType, datatype in enumerate(dataDB.get_data_types()):\n",
    "            if iSession == 0:\n",
    "                ax[0, iDataType].set_title(datatype)\n",
    "                \n",
    "            mouseRows = dataDB.get_rows('neuro', {'mousename' : mousename, 'session' : session, 'datatype' : datatype})\n",
    "        \n",
    "            for idx, row in mouseRows.iterrows():\n",
    "                data = np.copy(dataDB.dataNeuronal[idx])\n",
    "                nTrial, nTime, nChannel = data.shape\n",
    "                times = dataDB.get_times(nTime)\n",
    "\n",
    "                ax[iSession, iDataType].plot(times, np.mean(data, axis=0))\n",
    "                dataDB.label_plot_timestamps(ax[iSession, iDataType], linecolor='r', textcolor='pink')\n",
    "        \n",
    "plt.show()"
   ]
  },
  {
   "cell_type": "code",
   "execution_count": null,
   "metadata": {},
   "outputs": [],
   "source": [
    "idxTrial = dataDB.get_rows('neuro', {'session' : '20180301a', 'datatype' : 'dff_trial'}).index[0]\n",
    "idxSession = dataDB.get_rows('neuro', {'session' : '20180301a', 'datatype' : 'dff_session'}).index[0]"
   ]
  },
  {
   "cell_type": "code",
   "execution_count": null,
   "metadata": {},
   "outputs": [],
   "source": [
    "dataTrial = dataDB.dataNeuronal[idxTrial]\n",
    "dataSession = dataDB.dataNeuronal[idxSession]\n",
    "\n",
    "plt.figure()\n",
    "plt.plot(dataTrial[0, :, 2])\n",
    "plt.plot(dataSession[0, :, 2])\n",
    "plt.show()"
   ]
  },
  {
   "cell_type": "code",
   "execution_count": null,
   "metadata": {},
   "outputs": [],
   "source": []
  }
 ],
 "metadata": {
  "kernelspec": {
   "display_name": "Python (nest)",
   "language": "python",
   "name": "py36nest"
  },
  "language_info": {
   "codemirror_mode": {
    "name": "ipython",
    "version": 3
   },
   "file_extension": ".py",
   "mimetype": "text/x-python",
   "name": "python",
   "nbconvert_exporter": "python",
   "pygments_lexer": "ipython3",
   "version": "3.6.6"
  }
 },
 "nbformat": 4,
 "nbformat_minor": 2
}

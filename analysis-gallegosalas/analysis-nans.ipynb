{
 "cells": [
  {
   "cell_type": "code",
   "execution_count": null,
   "metadata": {},
   "outputs": [],
   "source": [
    "# Standard libraries\n",
    "import numpy as np\n",
    "import pandas as pd\n",
    "import seaborn as sns\n",
    "import matplotlib.pyplot as plt\n",
    "from ipywidgets import interactive, IntProgress\n",
    "from IPython.display import display\n",
    "from scipy.stats import mannwhitneyu, wilcoxon\n",
    "\n",
    "# Append base directory\n",
    "import os,sys,inspect\n",
    "rootname = \"pub-2020-exploratory-analysis\"\n",
    "thispath = os.path.dirname(os.path.abspath(inspect.getfile(inspect.currentframe())))\n",
    "rootpath = os.path.join(thispath[:thispath.index(rootname)], rootname)\n",
    "sys.path.append(rootpath)\n",
    "print(\"Appended root directory\", rootpath)\n",
    "\n",
    "from mesostat.utils.qt_helper import gui_fnames, gui_fpath\n",
    "from lib.gallegosalas.data_fc_db import DataFCDatabase\n",
    "from mesostat.metric.metric import MetricCalculator\n",
    "\n",
    "%load_ext autoreload\n",
    "%autoreload 2"
   ]
  },
  {
   "cell_type": "code",
   "execution_count": null,
   "metadata": {},
   "outputs": [],
   "source": [
    "params = {}\n",
    "# params['experiment_path']  = gui_fpath(\"Path to data collection\",  './')\n",
    "# params['experiment_path'] = '/media/alyosha/Data/TE_data/yasirdata/auditory_task_all_trials'\n",
    "# params['experiment_path'] = '/media/alyosha/Data/TE_data/yasirdata/tactile_task_all_trials'\n",
    "params['experiment_path'] = '/media/alyosha/Data/TE_data/yasirdata/active_passive'"
   ]
  },
  {
   "cell_type": "code",
   "execution_count": null,
   "metadata": {},
   "outputs": [],
   "source": [
    "dataDB = DataFCDatabase(params)"
   ]
  },
  {
   "cell_type": "code",
   "execution_count": null,
   "metadata": {
    "scrolled": true
   },
   "outputs": [],
   "source": [
    "dataDB.read_neuro_files()\n",
    "len(dataDB.dataNeuronal)"
   ]
  },
  {
   "cell_type": "markdown",
   "metadata": {},
   "source": [
    "# Nans as function of Time"
   ]
  },
  {
   "cell_type": "code",
   "execution_count": null,
   "metadata": {
    "scrolled": false
   },
   "outputs": [],
   "source": [
    "for data in dataDB.dataNeuronal:\n",
    "    print(data.shape)\n",
    "    plt.figure()\n",
    "    dataEff = (np.sum(np.isnan(data), axis=0).T).astype(float)\n",
    "    dataEff[dataEff == 0.0] = np.nan\n",
    "    plt.imshow(dataEff)\n",
    "    plt.show()"
   ]
  },
  {
   "cell_type": "markdown",
   "metadata": {},
   "source": [
    "# Nans as functions of Trial number\n",
    "\n",
    "Seems like the region of interest is timesteps 20-90, but some of them still have nans"
   ]
  },
  {
   "cell_type": "code",
   "execution_count": null,
   "metadata": {
    "scrolled": false
   },
   "outputs": [],
   "source": [
    "for data in dataDB.dataNeuronal:\n",
    "    plt.figure()\n",
    "    dataEff = np.sum(np.isnan(data[:, 20:95][:,:,:25]), axis=(1, 2)).T.astype(float)\n",
    "#     dataEff[dataEff == 0.0] = np.nan\n",
    "    print(np.sum(dataEff == 0))\n",
    "\n",
    "    plt.plot(dataEff)\n",
    "    plt.show()"
   ]
  },
  {
   "cell_type": "code",
   "execution_count": null,
   "metadata": {},
   "outputs": [],
   "source": []
  }
 ],
 "metadata": {
  "kernelspec": {
   "display_name": "Python (nest)",
   "language": "python",
   "name": "py36nest"
  },
  "language_info": {
   "codemirror_mode": {
    "name": "ipython",
    "version": 3
   },
   "file_extension": ".py",
   "mimetype": "text/x-python",
   "name": "python",
   "nbconvert_exporter": "python",
   "pygments_lexer": "ipython3",
   "version": "3.6.6"
  }
 },
 "nbformat": 4,
 "nbformat_minor": 2
}

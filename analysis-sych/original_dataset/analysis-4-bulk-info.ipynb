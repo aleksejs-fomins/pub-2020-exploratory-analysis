{
 "cells": [
  {
   "cell_type": "code",
   "execution_count": null,
   "metadata": {},
   "outputs": [],
   "source": [
    "# Standard libraries\n",
    "import numpy as np\n",
    "import pandas as pd\n",
    "import matplotlib.pyplot as plt\n",
    "from ipywidgets import IntProgress\n",
    "from IPython.display import display\n",
    "\n",
    "# Append base directory\n",
    "import os,sys,inspect\n",
    "rootname = \"pub-2020-exploratory-analysis\"\n",
    "thispath = os.path.dirname(os.path.abspath(inspect.getfile(inspect.currentframe())))\n",
    "rootpath = os.path.join(thispath[:thispath.index(rootname)], rootname)\n",
    "sys.path.append(rootpath)\n",
    "print(\"Appended root directory\", rootpath)\n",
    "\n",
    "from mesostat.utils.qt_helper import gui_fnames, gui_fpath\n",
    "from mesostat.metric.metric import MetricCalculator\n",
    "from mesostat.utils.hdf5_io import DataStorage\n",
    "\n",
    "from lib.sych.data_fc_db import DataFCDatabase\n",
    "from lib.sych.metric_helper import metric_by_session\n",
    "from lib.sych.plot_helper import imshow_dataset_by_mouse\n",
    "\n",
    "%load_ext autoreload\n",
    "%autoreload 2"
   ]
  },
  {
   "cell_type": "code",
   "execution_count": null,
   "metadata": {},
   "outputs": [],
   "source": [
    "# tmp_path = root_path_data if 'root_path_data' in locals() else \"./\"\n",
    "params = {}\n",
    "# params['root_path_data']  = gui_fpath(\"Path to data collection\",  './')\n",
    "params['root_path_data'] = '/media/alyosha/Data/TE_data/yarodata/neuro'\n",
    "\n",
    "#params['root_path_paw']   = gui_fpath(\"Path to Paw data\",         params['root_path_data'])\n",
    "#params['root_path_lick']  = gui_fpath(\"Path to Lick data\",        params['root_path_paw'])\n",
    "#params['root_path_whisk'] = gui_fpath(\"Path to Whisk Data\",       params['root_path_lick'])\n",
    "# params['root_path_te']    = gui_fpath(\"Select TE results folder\", params['root_path_data'])"
   ]
  },
  {
   "cell_type": "code",
   "execution_count": null,
   "metadata": {},
   "outputs": [],
   "source": [
    "dataDB = DataFCDatabase(params)"
   ]
  },
  {
   "cell_type": "code",
   "execution_count": null,
   "metadata": {
    "scrolled": true
   },
   "outputs": [],
   "source": [
    "dataDB.read_te_files()\n",
    "dataDB.read_neuro_files()\n",
    "dataDB.read_resample_paw_files()\n",
    "dataDB.read_resample_lick_files()   # Currently does not work. Ask Yaro if we need it\n",
    "dataDB.read_resample_whisk_files()"
   ]
  },
  {
   "cell_type": "code",
   "execution_count": null,
   "metadata": {},
   "outputs": [],
   "source": [
    "pTHR = 0.7\n",
    "dataDB.mark_days_expert_naive(pTHR)"
   ]
  },
  {
   "cell_type": "markdown",
   "metadata": {},
   "source": [
    "# Multi-Regional Metrics\n",
    "\n",
    "**Main Messages**:\n",
    "* System time-specificity, how it changes with sessions?\n",
    "* Do bulk metrics deliver more info than mean?\n",
    "* How metrics depend on preprocessing?\n",
    "\n",
    "**Measures of instantainous redundancy**\n",
    "- Mean (for comparison)\n",
    "- Average Correlation\n",
    "- PCA(1) - ?\n",
    "- Entropy, TC\n",
    "\n",
    "**Measures of temporal relations**\n",
    "- PI_ND\n",
    "\n",
    "**Plot strategies**\n",
    "- 2D-Session-vs-timestep\n",
    "- 1D-Session/Pefrormance for (texture-avg-time/reward-avg-time)\n",
    "    - Have significant version with test of phase vs remainder of trial\n",
    "- all plots compare preprocessing\n",
    "    \n",
    "## TODO\n",
    "1. Debug\n",
    "    * Entropy jumps between sessions: Check if entropy outliers correlate with number of trials\n",
    "    * Test NPEET metrics for convergence.\n",
    "    * Check why TC is sometimes negative, it should not be"
   ]
  },
  {
   "cell_type": "code",
   "execution_count": null,
   "metadata": {},
   "outputs": [],
   "source": [
    "mc = MetricCalculator(serial=False, verbose=False)"
   ]
  },
  {
   "cell_type": "code",
   "execution_count": null,
   "metadata": {},
   "outputs": [],
   "source": [
    "ds = DataStorage('sych_result_population_bulk_info.h5')"
   ]
  },
  {
   "cell_type": "markdown",
   "metadata": {},
   "source": [
    "## 1.1 Average Correlation"
   ]
  },
  {
   "cell_type": "code",
   "execution_count": null,
   "metadata": {
    "scrolled": true
   },
   "outputs": [],
   "source": [
    "window = 6\n",
    "for iMouse, mousename in enumerate(sorted(dataDB.mice)):\n",
    "    metric_by_session(dataDB, mc, ds, mousename, 'avgcorr', 's',\n",
    "                      dataName='avgcorr_iGO',\n",
    "                      trialType='iGO',\n",
    "                      cropTime=200-window+1,\n",
    "                      timeWindow=window)"
   ]
  },
  {
   "cell_type": "markdown",
   "metadata": {},
   "source": [
    "## 1.2 Average Entropy"
   ]
  },
  {
   "cell_type": "code",
   "execution_count": null,
   "metadata": {
    "scrolled": true
   },
   "outputs": [],
   "source": [
    "window = 6\n",
    "for iMouse, mousename in enumerate(sorted(dataDB.mice)):\n",
    "    metric_by_session(dataDB, mc, ds, mousename, 'avg_entropy', 's',\n",
    "                      dataName='avg_entropy_iGO',\n",
    "                      trialType='iGO',\n",
    "                      cropTime=200-window+1,\n",
    "                      timeWindow=window)"
   ]
  },
  {
   "cell_type": "markdown",
   "metadata": {},
   "source": [
    "## 1.3 Average Total Correlation"
   ]
  },
  {
   "cell_type": "code",
   "execution_count": null,
   "metadata": {
    "scrolled": true
   },
   "outputs": [],
   "source": [
    "window = 6\n",
    "for iMouse, mousename in enumerate(sorted(dataDB.mice)):\n",
    "    metric_by_session(dataDB, mc, ds, mousename, 'avg_TC', 's',\n",
    "                      dataName='avg_TC_iGO',\n",
    "                      trialType='iGO',\n",
    "                      cropTime=200-window+1,\n",
    "                      timeWindow=window)"
   ]
  },
  {
   "cell_type": "markdown",
   "metadata": {},
   "source": [
    "## 1.4 Average Predictive Information"
   ]
  },
  {
   "cell_type": "code",
   "execution_count": null,
   "metadata": {
    "scrolled": true
   },
   "outputs": [],
   "source": [
    "window = 6\n",
    "for iMouse, mousename in enumerate(sorted(dataDB.mice)):\n",
    "    metric_by_session(dataDB, mc, ds, mousename, 'avg_PI', 's',\n",
    "                      dataName='avg_PI_iGO',\n",
    "                      trialType='iGO',\n",
    "                      cropTime=200-window+1,\n",
    "                      timeWindow=window,\n",
    "                      metricSettings={\"max_lag\" : 1})"
   ]
  },
  {
   "cell_type": "code",
   "execution_count": null,
   "metadata": {},
   "outputs": [],
   "source": [
    "imshow_dataset_by_mouse(dataDB, ds, 'avgcorr_iGO', limits=[0,1], fig1size=(10,3))"
   ]
  },
  {
   "cell_type": "code",
   "execution_count": null,
   "metadata": {},
   "outputs": [],
   "source": [
    "imshow_dataset_by_mouse(dataDB, ds, 'avg_entropy_iGO')"
   ]
  },
  {
   "cell_type": "code",
   "execution_count": null,
   "metadata": {},
   "outputs": [],
   "source": [
    "imshow_dataset_by_mouse(dataDB, ds, 'avg_TC_iGO')"
   ]
  },
  {
   "cell_type": "code",
   "execution_count": null,
   "metadata": {},
   "outputs": [],
   "source": [
    "imshow_dataset_by_mouse(dataDB, ds, 'avg_PI_iGO')"
   ]
  },
  {
   "cell_type": "code",
   "execution_count": null,
   "metadata": {},
   "outputs": [],
   "source": []
  }
 ],
 "metadata": {
  "kernelspec": {
   "display_name": "Python (nest)",
   "language": "python",
   "name": "py36nest"
  },
  "language_info": {
   "codemirror_mode": {
    "name": "ipython",
    "version": 3
   },
   "file_extension": ".py",
   "mimetype": "text/x-python",
   "name": "python",
   "nbconvert_exporter": "python",
   "pygments_lexer": "ipython3",
   "version": "3.6.6"
  }
 },
 "nbformat": 4,
 "nbformat_minor": 2
}

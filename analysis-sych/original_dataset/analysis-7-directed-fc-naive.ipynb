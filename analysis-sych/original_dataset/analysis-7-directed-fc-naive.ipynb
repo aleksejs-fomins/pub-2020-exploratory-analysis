{
 "cells": [
  {
   "cell_type": "code",
   "execution_count": 13,
   "metadata": {},
   "outputs": [
    {
     "name": "stdout",
     "output_type": "stream",
     "text": [
      "Appended root directory /home/alyosha/work/git/pub-2020-exploratory-analysis\n",
      "The autoreload extension is already loaded. To reload it, use:\n",
      "  %reload_ext autoreload\n"
     ]
    }
   ],
   "source": [
    "# Standard libraries\n",
    "import numpy as np\n",
    "import pandas as pd\n",
    "import matplotlib.pyplot as plt\n",
    "from ipywidgets import IntProgress\n",
    "from IPython.display import display\n",
    "\n",
    "# Append base directory\n",
    "import os,sys,inspect\n",
    "rootname = \"pub-2020-exploratory-analysis\"\n",
    "thispath = os.path.dirname(os.path.abspath(inspect.getfile(inspect.currentframe())))\n",
    "rootpath = os.path.join(thispath[:thispath.index(rootname)], rootname)\n",
    "sys.path.append(rootpath)\n",
    "print(\"Appended root directory\", rootpath)\n",
    "\n",
    "from mesostat.utils.qt_helper import gui_fnames, gui_fpath\n",
    "from mesostat.metric.metric import MetricCalculator\n",
    "from mesostat.utils.hdf5_io import DataStorage\n",
    "from mesostat.stat.connectomics import offdiag_1D\n",
    "\n",
    "from lib.sych.data_fc_db import DataFCDatabase\n",
    "from lib.sych.metric_helper import metric_by_session\n",
    "\n",
    "%load_ext autoreload\n",
    "%autoreload 2"
   ]
  },
  {
   "cell_type": "code",
   "execution_count": 2,
   "metadata": {},
   "outputs": [],
   "source": [
    "# tmp_path = root_path_data if 'root_path_data' in locals() else \"./\"\n",
    "params = {}\n",
    "# params['root_path_data']  = gui_fpath(\"Path to data collection\",  './')\n",
    "params['root_path_data'] = '/media/alyosha/Data/TE_data/yarodata/neuro'\n",
    "\n",
    "#params['root_path_paw']   = gui_fpath(\"Path to Paw data\",         params['root_path_data'])\n",
    "#params['root_path_lick']  = gui_fpath(\"Path to Lick data\",        params['root_path_paw'])\n",
    "#params['root_path_whisk'] = gui_fpath(\"Path to Whisk Data\",       params['root_path_lick'])\n",
    "# params['root_path_te']    = gui_fpath(\"Select TE results folder\", params['root_path_data'])"
   ]
  },
  {
   "cell_type": "code",
   "execution_count": 4,
   "metadata": {},
   "outputs": [
    {
     "name": "stdout",
     "output_type": "stream",
     "text": [
      "Target trial within [0, 8] sec. Total target timesteps 161\n",
      "Searching for channel labels\n",
      "Searching for data files\n",
      "No paw path provided, skipping\n",
      "No lick path provided, skipping\n",
      "No whisk path provided, skipping\n"
     ]
    }
   ],
   "source": [
    "dataDB = DataFCDatabase(params)"
   ]
  },
  {
   "cell_type": "code",
   "execution_count": 5,
   "metadata": {
    "scrolled": true
   },
   "outputs": [
    {
     "name": "stdout",
     "output_type": "stream",
     "text": [
      "No TE files loaded, skipping reading part\n"
     ]
    },
    {
     "data": {
      "application/vnd.jupyter.widget-view+json": {
       "model_id": "49322e7325784811b3c5116cfbb8fbf8",
       "version_major": 2,
       "version_minor": 0
      },
      "text/plain": [
       "IntProgress(value=0, description='Read Neuro Data:', max=220)"
      ]
     },
     "metadata": {},
     "output_type": "display_data"
    },
    {
     "name": "stdout",
     "output_type": "stream",
     "text": [
      "Calculated performance 0.7264150943396226 does not match external 0.7333333333333333\n",
      "Calculated performance 0.803680981595092 does not match external 0.808641975308642\n",
      "Calculated performance 0.8411764705882353 does not match external 0.8436578171091446\n",
      "Calculated performance 0.956989247311828 does not match external 0.9621621621621622\n",
      "Calculated performance 0.6808510638297872 does not match external 0.6956521739130435\n",
      "Calculated performance 0.9582366589327146 does not match external 0.9604651162790697\n",
      "Calculated performance 0.4851258581235698 does not match external 0.4840182648401826\n",
      "--Warning: For iMISS behaviour max index 437 exceeds nTrials 437\n",
      "---Cropped excessive behaviour trials from 86 to 85\n",
      "Calculated performance 0.42795389048991356 does not match external 0.6902017291066282\n",
      "Calculated performance 0.2534562211981567 does not match external 0.30386740331491713\n",
      "Calculated performance 0.4444444444444444 does not match external 0.47227191413237923\n",
      "Calculated performance 0.5668016194331984 does not match external 0.5691056910569106\n",
      "Calculated performance 0.5358255451713395 does not match external 0.6441947565543071\n",
      "Calculated performance 0.38461538461538464 does not match external 0.44285714285714284\n",
      "Calculated performance 0.6142857142857143 does not match external 0.7818181818181819\n",
      "Calculated performance 0.5108225108225108 does not match external 0.7195121951219512\n",
      "Calculated performance 0.65 does not match external 0.9128329297820823\n",
      "Calculated performance 0.6111111111111112 does not match external 0.859375\n",
      "Calculated performance 0.6214285714285714 does not match external 0.9190140845070423\n",
      "Calculated performance 0.6561085972850679 does not match external 0.9570957095709571\n",
      "Calculated performance 0.5596590909090909 does not match external 0.652317880794702\n",
      "Calculated performance 0.6350210970464135 does not match external 0.8455056179775281\n",
      "Calculated performance 0.5581395348837209 does not match external 0.8\n",
      "Calculated performance 0.44357976653696496 does not match external 0.5728643216080402\n",
      "Calculated performance 0.5454545454545454 does not match external 0.797583081570997\n",
      "Calculated performance 0.6023529411764705 does not match external 0.8366013071895425\n",
      "Calculated performance 0.5609756097560976 does not match external 0.8363636363636363\n",
      "Calculated performance 0.6480582524271845 does not match external 0.8959731543624161\n",
      "Calculated performance 0.3019230769230769 does not match external 0.31910569105691056\n",
      "Calculated performance 0.3433734939759036 does not match external 0.375\n",
      "Calculated performance 0.8584615384615385 does not match external 0.9\n",
      "Calculated performance 0.8142857142857143 does not match external 0.8702290076335878\n",
      "Calculated performance 0.932 does not match external 0.9549180327868853\n",
      "Calculated performance 0.6285714285714286 does not match external 0.9041095890410958\n",
      "Calculated performance 0.7010309278350515 does not match external 0.9497206703910615\n",
      "Calculated performance 0.716 does not match external 0.9572192513368984\n",
      "Calculated performance 0.7333333333333333 does not match external 0.9615384615384616\n",
      "Calculated performance 0.42 does not match external 0.5121951219512195\n",
      "Calculated performance 0.3452830188679245 does not match external 0.37731958762886597\n",
      "Calculated performance 0.5 does not match external 0.55\n",
      "Calculated performance 0.3201754385964912 does not match external 0.437125748502994\n",
      "Calculated performance 0.8641791044776119 does not match external 0.8921417565485362\n",
      "Calculated performance 0.9428571428571428 does not match external 0.9807692307692307\n",
      "Calculated performance 0.551440329218107 does not match external 0.9640287769784173\n",
      "Calculated performance 0.55 does not match external 0.968\n",
      "Calculated performance 0.5203703703703704 does not match external 0.972318339100346\n",
      "Calculated performance 0.231 does not match external 0.27598566308243727\n",
      "Calculated performance 0.37388392857142855 does not match external 0.39691943127962087\n",
      "Calculated performance 0.4024691358024691 does not match external 0.4527777777777778\n",
      "Calculated performance 0.5891891891891892 does not match external 0.6337209302325582\n",
      "Calculated performance 0.5015625 does not match external 0.6257309941520468\n",
      "Calculated performance 0.6888888888888889 does not match external 0.7560975609756098\n",
      "Calculated performance 0.6612903225806451 does not match external 0.8913043478260869\n",
      "Calculated performance 0.6442857142857142 does not match external 0.9241803278688525\n",
      "Calculated performance 0.7163677130044843 does not match external 0.8987341772151899\n",
      "Calculated performance 0.7048951048951049 does not match external 0.8689655172413793\n",
      "Calculated performance 0.5771428571428572 does not match external 0.7984189723320159\n",
      "Calculated performance 0.046153846153846156 does not match external 0.05\n",
      "Calculated performance 0.05 does not match external 0.05327868852459016\n",
      "Calculated performance 0.04126984126984127 does not match external 0.041935483870967745\n",
      "Calculated performance 0.26292134831460673 does not match external 0.35347432024169184\n",
      "Calculated performance 0.25957446808510637 does not match external 0.3436619718309859\n",
      "Calculated performance 0.40192926045016075 does not match external 0.4970178926441352\n",
      "Calculated performance 0.4560260586319218 does not match external 0.49910873440285203\n",
      "Calculated performance 0.5869565217391305 does not match external 0.6095617529880478\n",
      "Calculated performance 0.5619834710743802 does not match external 0.5882352941176471\n",
      "Calculated performance 0.5666666666666667 does not match external 0.5977496483825597\n",
      "Calculated performance 0.6 does not match external 0.6127320954907162\n",
      "Calculated performance 0.5127877237851662 does not match external 0.5353805073431241\n",
      "Calculated performance 0.6104972375690608 does not match external 0.6378066378066378\n",
      "Calculated performance 0.6 does not match external 0.625\n",
      "Calculated performance 0.7614035087719299 does not match external 0.8037037037037037\n",
      "Calculated performance 0.7053291536050157 does not match external 0.7234726688102894\n",
      "Calculated performance 0.5545454545454546 does not match external 0.6224489795918368\n",
      "Calculated performance 0.7324324324324324 does not match external 0.7465564738292011\n",
      "--Warning: No performance metrics found for /media/alyosha/Data/TE_data/yarodata/neuro/mvg48/mvg_8 ; Using calculated\n",
      "--Warning: No performance metrics found for /media/alyosha/Data/TE_data/yarodata/neuro/mvg48/mvg_8 ; Using calculated\n",
      "--Warning: No performance metrics found for /media/alyosha/Data/TE_data/yarodata/neuro/mvg48/mvg_8 ; Using calculated\n",
      "--Warning: No performance metrics found for /media/alyosha/Data/TE_data/yarodata/neuro/mvg48/mvg_8 ; Using calculated\n",
      "--Warning: No performance metrics found for /media/alyosha/Data/TE_data/yarodata/neuro/mvg48/mvg_8 ; Using calculated\n",
      "--Warning: No performance metrics found for /media/alyosha/Data/TE_data/yarodata/neuro/mvg48/mvg_8 ; Using calculated\n",
      "--Warning: No performance metrics found for /media/alyosha/Data/TE_data/yarodata/neuro/mvg48/mvg_8 ; Using calculated\n",
      "--Warning: No performance metrics found for /media/alyosha/Data/TE_data/yarodata/neuro/mvg48/mvg_8 ; Using calculated\n",
      "--Warning: No performance metrics found for /media/alyosha/Data/TE_data/yarodata/neuro/mvg48/mvg_8 ; Using calculated\n",
      "--Warning: No performance metrics found for /media/alyosha/Data/TE_data/yarodata/neuro/mvg48/mvg_8 ; Using calculated\n",
      "Warning: For mvg_8_2018_11_22_a nTrials inconsistent with behaviour 141 188 165\n",
      "--Warning: No performance metrics found for /media/alyosha/Data/TE_data/yarodata/neuro/mvg48/mvg_8 ; Using calculated\n",
      "--Warning: For iGO behaviour max index 373 exceeds nTrials 141\n",
      "---Cropped excessive behaviour trials from 188 to 68\n",
      "--Warning: For iNOGO behaviour max index 404 exceeds nTrials 141\n",
      "---Cropped excessive behaviour trials from 165 to 53\n",
      "--Warning: For iFA behaviour max index 313 exceeds nTrials 141\n",
      "---Cropped excessive behaviour trials from 10 to 6\n",
      "--Warning: For iMISS behaviour max index 405 exceeds nTrials 141\n",
      "---Cropped excessive behaviour trials from 21 to 2\n",
      "--Warning: No performance metrics found for /media/alyosha/Data/TE_data/yarodata/neuro/mvg48/mvg_8 ; Using calculated\n",
      "--Warning: No performance metrics found for /media/alyosha/Data/TE_data/yarodata/neuro/mvg48/mvg_8 ; Using calculated\n",
      "--Warning: No performance metrics found for /media/alyosha/Data/TE_data/yarodata/neuro/mvg48/mvg_8 ; Using calculated\n"
     ]
    },
    {
     "name": "stdout",
     "output_type": "stream",
     "text": [
      "--Warning: No performance metrics found for /media/alyosha/Data/TE_data/yarodata/neuro/mvg48/mvg_8 ; Using calculated\n",
      "--Warning: No performance metrics found for /media/alyosha/Data/TE_data/yarodata/neuro/mvg48/mvg_8 ; Using calculated\n",
      "--Warning: No performance metrics found for /media/alyosha/Data/TE_data/yarodata/neuro/mvg48/mvg_9 ; Using calculated\n",
      "--Warning: No performance metrics found for /media/alyosha/Data/TE_data/yarodata/neuro/mvg48/mvg_9 ; Using calculated\n",
      "--Warning: No performance metrics found for /media/alyosha/Data/TE_data/yarodata/neuro/mvg48/mvg_9 ; Using calculated\n",
      "--Warning: No performance metrics found for /media/alyosha/Data/TE_data/yarodata/neuro/mvg48/mvg_9 ; Using calculated\n",
      "--Warning: No performance metrics found for /media/alyosha/Data/TE_data/yarodata/neuro/mvg48/mvg_9 ; Using calculated\n",
      "--Warning: No performance metrics found for /media/alyosha/Data/TE_data/yarodata/neuro/mvg48/mvg_9 ; Using calculated\n",
      "--Warning: No performance metrics found for /media/alyosha/Data/TE_data/yarodata/neuro/mvg48/mvg_9 ; Using calculated\n",
      "--Warning: No performance metrics found for /media/alyosha/Data/TE_data/yarodata/neuro/mvg48/mvg_9 ; Using calculated\n",
      "--Warning: No performance metrics found for /media/alyosha/Data/TE_data/yarodata/neuro/mvg48/mvg_9 ; Using calculated\n",
      "--Warning: No performance metrics found for /media/alyosha/Data/TE_data/yarodata/neuro/mvg48/mvg_9 ; Using calculated\n",
      "--Warning: No performance metrics found for /media/alyosha/Data/TE_data/yarodata/neuro/mvg48/mvg_9 ; Using calculated\n",
      "--Warning: No performance metrics found for /media/alyosha/Data/TE_data/yarodata/neuro/mvg48/mvg_9 ; Using calculated\n",
      "--Warning: No performance metrics found for /media/alyosha/Data/TE_data/yarodata/neuro/mvg48/mvg_9 ; Using calculated\n",
      "--Warning: No performance metrics found for /media/alyosha/Data/TE_data/yarodata/neuro/mvg48/mvg_9 ; Using calculated\n",
      "--Warning: No performance metrics found for /media/alyosha/Data/TE_data/yarodata/neuro/mvg48/mvg_9 ; Using calculated\n",
      "--Warning: No performance metrics found for /media/alyosha/Data/TE_data/yarodata/neuro/mvg48/mvg_9 ; Using calculated\n",
      "--Warning: No performance metrics found for /media/alyosha/Data/TE_data/yarodata/neuro/mvg48/mvg_9 ; Using calculated\n",
      "--Warning: No performance metrics found for /media/alyosha/Data/TE_data/yarodata/neuro/mvg48/mvg_9 ; Using calculated\n",
      "--Warning: No performance metrics found for /media/alyosha/Data/TE_data/yarodata/neuro/mvg48/mvg_9 ; Using calculated\n",
      "--Warning: No performance metrics found for /media/alyosha/Data/TE_data/yarodata/neuro/mvg48/mvg_9 ; Using calculated\n",
      "--Warning: No performance metrics found for /media/alyosha/Data/TE_data/yarodata/neuro/mvg48/mvg_9 ; Using calculated\n",
      "Bad performance in 1 sessions, fixing\n",
      "No paw files loaded, skipping reading part\n",
      "No lick files loaded, skipping reading part\n",
      "No whisk files loaded, skipping reading part\n"
     ]
    }
   ],
   "source": [
    "dataDB.read_te_files()\n",
    "dataDB.read_neuro_files()\n",
    "dataDB.read_resample_paw_files()\n",
    "dataDB.read_resample_lick_files()   # Currently does not work. Ask Yaro if we need it\n",
    "dataDB.read_resample_whisk_files()"
   ]
  },
  {
   "cell_type": "code",
   "execution_count": 6,
   "metadata": {},
   "outputs": [],
   "source": [
    "pTHR = 0.7\n",
    "dataDB.mark_days_expert_naive(pTHR)"
   ]
  },
  {
   "cell_type": "markdown",
   "metadata": {},
   "source": [
    "# Multi-Regional Metrics\n",
    "\n",
    "* Measures of temporal relations\n",
    "    - CrossCorrelation\n",
    "    - CrossMI\n",
    "    \n",
    "### Questions of Interest\n",
    "\n",
    "* Effect of baseline normalization:\n",
    "    - raw data\n",
    "    - ZScore raw channel by session (zscoreDim='rs')\n",
    "    - ZScore raw channel by trial (zscoreDim='s')\n",
    "    - pre-trial interval normalization\n",
    "* Dynamic connectivity:\n",
    "    - macro (whole-trial)\n",
    "    - window-sweep\n",
    "    - phases\n",
    "* Performance constraints\n",
    "    - All vs iGO/iNOGO\n",
    "* Interpretation, Significance\n",
    "* Lag predictions\n",
    "    \n",
    "### Extended Questions\n",
    "    \n",
    "* Effects if CaInd forwards model. Relaxed Deconvolution of some sort?\n",
    "* Do connections contain unique info compared to activities?\n",
    "    - Can predict connection from average activity of 1 node? of both nodes?\n"
   ]
  },
  {
   "cell_type": "markdown",
   "metadata": {},
   "source": [
    "## Cross-correlation"
   ]
  },
  {
   "cell_type": "code",
   "execution_count": 7,
   "metadata": {},
   "outputs": [],
   "source": [
    "mc = MetricCalculator(serial=False, verbose=False)"
   ]
  },
  {
   "cell_type": "code",
   "execution_count": 8,
   "metadata": {},
   "outputs": [],
   "source": [
    "ds = DataStorage('sych_population_connectivity.h5')"
   ]
  },
  {
   "cell_type": "code",
   "execution_count": 9,
   "metadata": {
    "scrolled": true
   },
   "outputs": [
    {
     "data": {
      "application/vnd.jupyter.widget-view+json": {
       "model_id": "1ab1f5a42a374e69bbd254b55c98a879",
       "version_major": 2,
       "version_minor": 0
      },
      "text/plain": [
       "IntProgress(value=0, description='mtp_1', max=9)"
      ]
     },
     "metadata": {},
     "output_type": "display_data"
    },
    {
     "data": {
      "application/vnd.jupyter.widget-view+json": {
       "model_id": "74f4badd79064057b44dd422a7b8e215",
       "version_major": 2,
       "version_minor": 0
      },
      "text/plain": [
       "IntProgress(value=0, description='mtp_10', max=8)"
      ]
     },
     "metadata": {},
     "output_type": "display_data"
    },
    {
     "data": {
      "application/vnd.jupyter.widget-view+json": {
       "model_id": "0cba5ed376b5455982c05924b325c569",
       "version_major": 2,
       "version_minor": 0
      },
      "text/plain": [
       "IntProgress(value=0, description='mtp_11', max=12)"
      ]
     },
     "metadata": {},
     "output_type": "display_data"
    },
    {
     "data": {
      "application/vnd.jupyter.widget-view+json": {
       "model_id": "3c424f393edb40dcbc58560519fe775e",
       "version_major": 2,
       "version_minor": 0
      },
      "text/plain": [
       "IntProgress(value=0, description='mtp_12', max=24)"
      ]
     },
     "metadata": {},
     "output_type": "display_data"
    },
    {
     "data": {
      "application/vnd.jupyter.widget-view+json": {
       "model_id": "1eb8f1d3fb6e4831b9e166682980eeda",
       "version_major": 2,
       "version_minor": 0
      },
      "text/plain": [
       "IntProgress(value=0, description='mtp_13', max=12)"
      ]
     },
     "metadata": {},
     "output_type": "display_data"
    },
    {
     "data": {
      "application/vnd.jupyter.widget-view+json": {
       "model_id": "56a49babfbb74cabae03854225d73407",
       "version_major": 2,
       "version_minor": 0
      },
      "text/plain": [
       "IntProgress(value=0, description='mtp_15', max=13)"
      ]
     },
     "metadata": {},
     "output_type": "display_data"
    },
    {
     "data": {
      "application/vnd.jupyter.widget-view+json": {
       "model_id": "686b39a7940a40c1ad5ff581d9532ba1",
       "version_major": 2,
       "version_minor": 0
      },
      "text/plain": [
       "IntProgress(value=0, description='mtp_16', max=13)"
      ]
     },
     "metadata": {},
     "output_type": "display_data"
    },
    {
     "data": {
      "application/vnd.jupyter.widget-view+json": {
       "model_id": "4ee193368c3e45f18a8a14cd78bf52fc",
       "version_major": 2,
       "version_minor": 0
      },
      "text/plain": [
       "IntProgress(value=0, description='mtp_2', max=8)"
      ]
     },
     "metadata": {},
     "output_type": "display_data"
    },
    {
     "data": {
      "application/vnd.jupyter.widget-view+json": {
       "model_id": "0878e4739a5743a5a4d5c76d00634c73",
       "version_major": 2,
       "version_minor": 0
      },
      "text/plain": [
       "IntProgress(value=0, description='mtp_7', max=18)"
      ]
     },
     "metadata": {},
     "output_type": "display_data"
    },
    {
     "data": {
      "application/vnd.jupyter.widget-view+json": {
       "model_id": "ada2c46754064f468554cda989a0bd51",
       "version_major": 2,
       "version_minor": 0
      },
      "text/plain": [
       "IntProgress(value=0, description='mvg_2', max=11)"
      ]
     },
     "metadata": {},
     "output_type": "display_data"
    },
    {
     "data": {
      "application/vnd.jupyter.widget-view+json": {
       "model_id": "d7fe7614fcb840a19d312f702014aee7",
       "version_major": 2,
       "version_minor": 0
      },
      "text/plain": [
       "IntProgress(value=0, description='mvg_3', max=8)"
      ]
     },
     "metadata": {},
     "output_type": "display_data"
    },
    {
     "data": {
      "application/vnd.jupyter.widget-view+json": {
       "model_id": "b5f051ce40f94b3f9a6d2823ceb65754",
       "version_major": 2,
       "version_minor": 0
      },
      "text/plain": [
       "IntProgress(value=0, description='mvg_4', max=11)"
      ]
     },
     "metadata": {},
     "output_type": "display_data"
    },
    {
     "data": {
      "application/vnd.jupyter.widget-view+json": {
       "model_id": "e868835dc2ba463c9254dcdf71e7763a",
       "version_major": 2,
       "version_minor": 0
      },
      "text/plain": [
       "IntProgress(value=0, description='mvg_5', max=9)"
      ]
     },
     "metadata": {},
     "output_type": "display_data"
    },
    {
     "data": {
      "application/vnd.jupyter.widget-view+json": {
       "model_id": "a1b26b5fbdc74289bdf2617c8aee7720",
       "version_major": 2,
       "version_minor": 0
      },
      "text/plain": [
       "IntProgress(value=0, description='mvg_6', max=9)"
      ]
     },
     "metadata": {},
     "output_type": "display_data"
    },
    {
     "data": {
      "application/vnd.jupyter.widget-view+json": {
       "model_id": "3f15fd47d34548debaedcb368d825cd2",
       "version_major": 2,
       "version_minor": 0
      },
      "text/plain": [
       "IntProgress(value=0, description='mvg_7', max=18)"
      ]
     },
     "metadata": {},
     "output_type": "display_data"
    },
    {
     "data": {
      "application/vnd.jupyter.widget-view+json": {
       "model_id": "70d9f1840aea4086981e89da4644e74e",
       "version_major": 2,
       "version_minor": 0
      },
      "text/plain": [
       "IntProgress(value=0, description='mvg_8', max=15)"
      ]
     },
     "metadata": {},
     "output_type": "display_data"
    },
    {
     "data": {
      "application/vnd.jupyter.widget-view+json": {
       "model_id": "39e73a51c23043c4bd24599e06b51965",
       "version_major": 2,
       "version_minor": 0
      },
      "text/plain": [
       "IntProgress(value=0, description='mvg_9', max=21)"
      ]
     },
     "metadata": {},
     "output_type": "display_data"
    }
   ],
   "source": [
    "maxLag = 10\n",
    "for iMouse, mousename in enumerate(sorted(dataDB.mice)):\n",
    "    metric_by_session(dataDB, mc, ds, mousename, 'crosscorr', '',\n",
    "                      sweepSettings={'lag' : np.arange(maxLag)})"
   ]
  },
  {
   "cell_type": "code",
   "execution_count": null,
   "metadata": {},
   "outputs": [
    {
     "data": {
      "application/vnd.jupyter.widget-view+json": {
       "model_id": "c448ea566712406c954267049f1ac99d",
       "version_major": 2,
       "version_minor": 0
      },
      "text/plain": [
       "IntProgress(value=0, description='mtp_1', max=9)"
      ]
     },
     "metadata": {},
     "output_type": "display_data"
    },
    {
     "data": {
      "application/vnd.jupyter.widget-view+json": {
       "model_id": "e0499efcd78f441ba82527d171ea170d",
       "version_major": 2,
       "version_minor": 0
      },
      "text/plain": [
       "IntProgress(value=0, description='mtp_10', max=8)"
      ]
     },
     "metadata": {},
     "output_type": "display_data"
    },
    {
     "data": {
      "application/vnd.jupyter.widget-view+json": {
       "model_id": "90ba2d868e6844aab7ba372996339cad",
       "version_major": 2,
       "version_minor": 0
      },
      "text/plain": [
       "IntProgress(value=0, description='mtp_11', max=12)"
      ]
     },
     "metadata": {},
     "output_type": "display_data"
    },
    {
     "data": {
      "application/vnd.jupyter.widget-view+json": {
       "model_id": "173a4b3c0f6f43aabfe813c73a1b8afa",
       "version_major": 2,
       "version_minor": 0
      },
      "text/plain": [
       "IntProgress(value=0, description='mtp_12', max=24)"
      ]
     },
     "metadata": {},
     "output_type": "display_data"
    },
    {
     "data": {
      "application/vnd.jupyter.widget-view+json": {
       "model_id": "f53ee53d1753454582042f6bc93b8774",
       "version_major": 2,
       "version_minor": 0
      },
      "text/plain": [
       "IntProgress(value=0, description='mtp_13', max=12)"
      ]
     },
     "metadata": {},
     "output_type": "display_data"
    },
    {
     "data": {
      "application/vnd.jupyter.widget-view+json": {
       "model_id": "d45006da86e54929a9dcf9b6e47887bf",
       "version_major": 2,
       "version_minor": 0
      },
      "text/plain": [
       "IntProgress(value=0, description='mtp_15', max=13)"
      ]
     },
     "metadata": {},
     "output_type": "display_data"
    },
    {
     "data": {
      "application/vnd.jupyter.widget-view+json": {
       "model_id": "eadccab009ee4daa90c81e7e7197e957",
       "version_major": 2,
       "version_minor": 0
      },
      "text/plain": [
       "IntProgress(value=0, description='mtp_16', max=13)"
      ]
     },
     "metadata": {},
     "output_type": "display_data"
    },
    {
     "data": {
      "application/vnd.jupyter.widget-view+json": {
       "model_id": "16952431dd5f4f29a2f3e1e2e8385f00",
       "version_major": 2,
       "version_minor": 0
      },
      "text/plain": [
       "IntProgress(value=0, description='mtp_2', max=8)"
      ]
     },
     "metadata": {},
     "output_type": "display_data"
    },
    {
     "data": {
      "application/vnd.jupyter.widget-view+json": {
       "model_id": "2de69a3ae0924c7486c718fdab3a8798",
       "version_major": 2,
       "version_minor": 0
      },
      "text/plain": [
       "IntProgress(value=0, description='mtp_7', max=18)"
      ]
     },
     "metadata": {},
     "output_type": "display_data"
    },
    {
     "data": {
      "application/vnd.jupyter.widget-view+json": {
       "model_id": "488138cfc69e46348402c97d99b8b1b3",
       "version_major": 2,
       "version_minor": 0
      },
      "text/plain": [
       "IntProgress(value=0, description='mvg_2', max=11)"
      ]
     },
     "metadata": {},
     "output_type": "display_data"
    },
    {
     "data": {
      "application/vnd.jupyter.widget-view+json": {
       "model_id": "dd91a8a19c8c405ebd049fa258781d28",
       "version_major": 2,
       "version_minor": 0
      },
      "text/plain": [
       "IntProgress(value=0, description='mvg_3', max=8)"
      ]
     },
     "metadata": {},
     "output_type": "display_data"
    },
    {
     "data": {
      "application/vnd.jupyter.widget-view+json": {
       "model_id": "135bbff0c1f24cf3a626883e512d8606",
       "version_major": 2,
       "version_minor": 0
      },
      "text/plain": [
       "IntProgress(value=0, description='mvg_4', max=11)"
      ]
     },
     "metadata": {},
     "output_type": "display_data"
    }
   ],
   "source": [
    "maxLag = 5\n",
    "for iMouse, mousename in enumerate(sorted(dataDB.mice)):\n",
    "    metric_by_session(dataDB, mc, ds, mousename, 'cross_MI', '',\n",
    "                      sweepSettings={'lag' : np.arange(maxLag)})"
   ]
  },
  {
   "cell_type": "code",
   "execution_count": 22,
   "metadata": {},
   "outputs": [],
   "source": [
    "def plot_lag_hist_by_mouse(dataDB, ds, dsetName, plotNameSuffix=''):\n",
    "    nPlot = len(dataDB.mice)\n",
    "    fig, ax = plt.subplots(ncols=nPlot, figsize=(4*nPlot, 4))\n",
    "    \n",
    "    resultDF = ds.list_dsets_pd()\n",
    "    for iMouse, mousename in enumerate(sorted(dataDB.mice)):\n",
    "        # Get data\n",
    "        queryDict = {\"mousename\" : mousename, \"name\" : dsetName}\n",
    "        data, attrs = ds.get_data_recent_by_query(queryDict, listDF=resultDF)\n",
    "        shapeLabels = attrs['target_dim']\n",
    "        \n",
    "        # Average over sessions\n",
    "        rezMean = np.mean(data, axis=0)\n",
    "        rezMean = np.array([offdiag_1D(r) for r in rezMean])\n",
    "        rezArgMax = np.argmax(np.abs(rezMean), axis=0)\n",
    "        rezMax = np.max(np.abs(rezMean), axis=0)\n",
    "\n",
    "        thrCut = np.quantile(rezMax, 0.8)\n",
    "        idxCut = rezMax > thrCut\n",
    "\n",
    "        print(mousename, np.min(data), np.max(data))\n",
    "\n",
    "        ax[iMouse].set_title(mousename + ' @ corr > ' + str(np.round(thrCut, 2)))\n",
    "    #     ax[iMouse].plot(rezMax[idxCut], rezArgMax[idxCut], '.')\n",
    "        ax[iMouse].hist(rezArgMax[idxCut], bins=np.arange(maxLag)-0.5, density=True)\n",
    "        ax[iMouse].set_ylim([0, 1])\n",
    "    plt.show()"
   ]
  },
  {
   "cell_type": "code",
   "execution_count": 23,
   "metadata": {},
   "outputs": [
    {
     "name": "stdout",
     "output_type": "stream",
     "text": [
      "mtp_1 0.09508974251491768 1.0\n",
      "mtp_10 -0.14811059239513746 1.0\n",
      "mtp_11 -0.19049216097093766 1.0\n",
      "mtp_12 -0.1557806430450566 1.0\n",
      "mtp_13 -0.5561148745492303 1.0\n",
      "mtp_15 -0.2631272265528195 1.0\n",
      "mtp_16 -0.5347875458332799 1.0\n",
      "mtp_2 -0.17166525449084707 1.0\n",
      "mtp_7 -0.26217840565744244 1.0\n",
      "mvg_2 -0.049865736935088986 1.0\n",
      "mvg_3 -0.0026386921837426875 1.0\n",
      "mvg_4 -0.5011759225616591 1.0\n",
      "mvg_5 -0.08071196124750195 1.0\n",
      "mvg_6 -0.09705920111951605 1.0\n",
      "mvg_7 -0.7425525212105943 1.0\n",
      "mvg_8 -0.8417376364723872 1.0\n",
      "mvg_9 -0.2438454121962237 1.0\n"
     ]
    },
    {
     "data": {
      "image/png": "[encoded data removed]",
      "text/plain": [
       "<Figure size 4896x288 with 17 Axes>"
      ]
     },
     "metadata": {
      "needs_background": "light"
     },
     "output_type": "display_data"
    }
   ],
   "source": [
    "plot_lag_hist_by_mouse(dataDB, ds, \"crosscorr\")"
   ]
  },
  {
   "cell_type": "code",
   "execution_count": null,
   "metadata": {},
   "outputs": [],
   "source": []
  }
 ],
 "metadata": {
  "kernelspec": {
   "display_name": "Python (nest)",
   "language": "python",
   "name": "py36nest"
  },
  "language_info": {
   "codemirror_mode": {
    "name": "ipython",
    "version": 3
   },
   "file_extension": ".py",
   "mimetype": "text/x-python",
   "name": "python",
   "nbconvert_exporter": "python",
   "pygments_lexer": "ipython3",
   "version": "3.6.6"
  }
 },
 "nbformat": 4,
 "nbformat_minor": 2
}

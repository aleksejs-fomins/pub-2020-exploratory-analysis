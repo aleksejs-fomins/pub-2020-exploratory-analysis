{
 "cells": [
  {
   "cell_type": "markdown",
   "metadata": {},
   "source": [
    "# Data Preprocessing\n",
    "\n",
    "**TODO**:\n",
    "* Get raw data Yaro, Yasir\n",
    "    - Consider formats - do we get session-wide trace with timestamps? That would be best\n",
    "\n",
    "**Background Subtraction:**\n",
    "* Session-wise slow polyfit on raw\n",
    "\n",
    "**Baseline Normalization (try combinations):**\n",
    "* ZScore (Trial/Session-wise)\n",
    "* Pre-trial mean estimate (Trial/Session-wise)"
   ]
  },
  {
   "cell_type": "code",
   "execution_count": null,
   "metadata": {},
   "outputs": [],
   "source": []
  }
 ],
 "metadata": {
  "kernelspec": {
   "display_name": "Python (nest)",
   "language": "python",
   "name": "py36nest"
  },
  "language_info": {
   "codemirror_mode": {
    "name": "ipython",
    "version": 3
   },
   "file_extension": ".py",
   "mimetype": "text/x-python",
   "name": "python",
   "nbconvert_exporter": "python",
   "pygments_lexer": "ipython3",
   "version": "3.6.6"
  }
 },
 "nbformat": 4,
 "nbformat_minor": 4
}

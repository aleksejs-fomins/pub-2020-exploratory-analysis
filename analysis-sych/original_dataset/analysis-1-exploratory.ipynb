{
 "cells": [
  {
   "cell_type": "code",
   "execution_count": null,
   "metadata": {
    "collapsed": true
   },
   "outputs": [],
   "source": [
    "# Standard libraries\n",
    "import numpy as np\n",
    "import pandas as pd\n",
    "import matplotlib.pyplot as plt\n",
    "from ipywidgets import IntProgress\n",
    "from IPython.display import display\n",
    "from scipy.stats import mannwhitneyu, wilcoxon\n",
    "\n",
    "# Append base directory\n",
    "import os,sys,inspect\n",
    "rootname = \"pub-2020-exploratory-analysis\"\n",
    "thispath = os.path.dirname(os.path.abspath(inspect.getfile(inspect.currentframe())))\n",
    "rootpath = os.path.join(thispath[:thispath.index(rootname)], rootname)\n",
    "sys.path.append(rootpath)\n",
    "print(\"Appended root directory\", rootpath)\n",
    "\n",
    "from mesostat.utils.qt_helper import gui_fnames, gui_fpath\n",
    "from mesostat.metric.metric import MetricCalculator\n",
    "from mesostat.utils.hdf5_io import DataStorage\n",
    "\n",
    "from lib.sych.data_fc_db import DataFCDatabase\n",
    "from lib.sych.plot_helper import imshow_dataset_by_mouse, imshow_dataset_by_session\n",
    "from lib.sych.metric_helper import metric_by_session\n",
    "\n",
    "%load_ext autoreload\n",
    "%autoreload 2"
   ]
  },
  {
   "cell_type": "code",
   "execution_count": null,
   "metadata": {
    "collapsed": true
   },
   "outputs": [],
   "source": [
    "# tmp_path = root_path_data if 'root_path_data' in locals() else \"./\"\n",
    "params = {}\n",
    "# params['root_path_data']  = gui_fpath(\"Path to data collection\",  './')\n",
    "# params['root_path_data'] = '/media/alyosha/Data/TE_data/yarodata/neuro'\n",
    "params['root_path_data'] = '/media/aleksejs/DataHDD/work/data/yaro/neuronal'\n",
    "\n",
    "#params['root_path_paw']   = gui_fpath(\"Path to Paw data\",         params['root_path_data'])\n",
    "#params['root_path_lick']  = gui_fpath(\"Path to Lick data\",        params['root_path_paw'])\n",
    "#params['root_path_whisk'] = gui_fpath(\"Path to Whisk Data\",       params['root_path_lick'])\n",
    "# params['root_path_te']    = gui_fpath(\"Select TE results folder\", params['root_path_data'])"
   ]
  },
  {
   "cell_type": "code",
   "execution_count": null,
   "metadata": {
    "collapsed": true
   },
   "outputs": [],
   "source": [
    "dataDB = DataFCDatabase(params)"
   ]
  },
  {
   "cell_type": "code",
   "execution_count": null,
   "metadata": {
    "collapsed": true,
    "scrolled": true
   },
   "outputs": [],
   "source": [
    "dataDB.read_te_files()\n",
    "dataDB.read_neuro_files()\n",
    "dataDB.read_resample_paw_files()\n",
    "dataDB.read_resample_lick_files()   # Currently does not work. Ask Yaro if we need it\n",
    "dataDB.read_resample_whisk_files()"
   ]
  },
  {
   "cell_type": "code",
   "execution_count": null,
   "metadata": {
    "collapsed": true
   },
   "outputs": [],
   "source": [
    "pTHR = 0.7\n",
    "dataDB.mark_days_expert_naive(pTHR)"
   ]
  },
  {
   "cell_type": "markdown",
   "metadata": {},
   "source": [
    "# Exploratory Analysis\n",
    "\n",
    "* Time/Frequency Analysis\n",
    "    * SNR - via AC1\n",
    "    * PSD\n",
    "    * Recurrence Plot?\n",
    "* Activity - Testing if one region is more active than another (raw data)\n",
    "    * Mean\n",
    "    * Variance\n",
    "    * Entropy\n",
    "* Temporal structure\n",
    "    * Individual temporal specificity (regions more active later vs earlier)\n",
    "        - Test activity for each timestep vs cycle null model, plot significant bins\n",
    "    * Individual temporal stability (how consistent is the activity over trials)\n",
    "        - Test activity for each timestep vs cycle null model, plot -log(p) for ranksum\n",
    "* Heterogeneous decompositions - Auto-identify across sessions, trials, time, channels\n",
    "    * TCA"
   ]
  },
  {
   "cell_type": "code",
   "execution_count": null,
   "metadata": {
    "collapsed": true
   },
   "outputs": [],
   "source": [
    "ds = DataStorage('sych_result_individual_region.h5')"
   ]
  },
  {
   "cell_type": "code",
   "execution_count": null,
   "metadata": {
    "collapsed": true
   },
   "outputs": [],
   "source": [
    "mc = MetricCalculator(serial=True, verbose=False)"
   ]
  },
  {
   "cell_type": "markdown",
   "metadata": {},
   "source": [
    "# 1. Frequency properties\n",
    "## 1.1 SNR via AutoCorrelation\n",
    "\n",
    "**Plan:**\n",
    "* AutoCorr[1] is a number that is close to 1 if data is changing slowly, and close to zero if data changes very fast."
   ]
  },
  {
   "cell_type": "code",
   "execution_count": null,
   "metadata": {
    "collapsed": true,
    "scrolled": true
   },
   "outputs": [],
   "source": [
    "for iMouse, mousename in enumerate(sorted(dataDB.mice)):\n",
    "    metric_by_session(dataDB, mc, ds, mousename, 'autocorr_d1', 'p')"
   ]
  },
  {
   "cell_type": "code",
   "execution_count": null,
   "metadata": {
    "collapsed": true,
    "scrolled": false
   },
   "outputs": [],
   "source": [
    "imshow_dataset_by_mouse(dataDB, ds, 'autocorr_d1', limits=[0,1])"
   ]
  },
  {
   "cell_type": "markdown",
   "metadata": {},
   "source": [
    "## 1.2 PSD-based SNR [TODO]"
   ]
  },
  {
   "cell_type": "code",
   "execution_count": null,
   "metadata": {
    "collapsed": true
   },
   "outputs": [],
   "source": [
    "dataThis = dataDB.dataNeuronal[5]\n",
    "# stdThis = np.std(dataThis)\n",
    "nTrial, nTime, nChannel = dataThis.shape\n",
    "\n",
    "def weirdpsd(f, psd, tau):\n",
    "    return psd * (1 + (f*tau)**2)\n",
    "\n",
    "def transfunc(dff):\n",
    "    return dff / (1.5 - dff)\n",
    "\n",
    "\n",
    "psdMuLst = []\n",
    "for iChannel in range(nChannel):\n",
    "    psdLogLst = []\n",
    "    for iTrial in range(nTrial):\n",
    "        dataTrial = np.copy(dataThis[iTrial, :, iChannel])# / stdThis\n",
    "#         dataTrial /= np.std(dataTrial)\n",
    "    #     dataTrial = np.random.normal(0, 1, nTime)\n",
    "    #     dataTrial = transfunc(dataTrial)\n",
    "\n",
    "        f, psd = periodogram(dataTrial, fs=20)\n",
    "    #     psd = weirdpsd(f, psd, 0.2)\n",
    "        psdLogLst += [np.log10(psd[1:])]\n",
    "\n",
    "    f = f[1:]\n",
    "    psdMu = np.mean(psdLogLst, axis=0)\n",
    "#     psdStd = np.std(psdLogLst, axis=0)\n",
    "    psdMuLst += [psdMu]\n",
    "#     plt.fill_between(f, psdMu-psdStd, psdMu+psdStd, alpha=0.2)\n",
    "\n",
    "psdMuAvg = np.mean(psdMuLst, axis=0)\n",
    "\n",
    "plt.figure()\n",
    "for iChannel in range(nChannel):\n",
    "    plt.plot(f, psdMuLst[iChannel] - psdMuAvg)\n",
    "\n",
    "plt.show()"
   ]
  },
  {
   "cell_type": "markdown",
   "metadata": {},
   "source": [
    "# 2. Activity\n",
    "\n",
    "## 2.1 Variance-based measures"
   ]
  },
  {
   "cell_type": "code",
   "execution_count": null,
   "metadata": {
    "collapsed": true,
    "scrolled": true
   },
   "outputs": [],
   "source": [
    "for metricName in ['mean', 'std', 'avg_entropy']:\n",
    "    print(metricName)\n",
    "    for iMouse, mousename in enumerate(sorted(dataDB.mice)):\n",
    "        metric_by_session(dataDB, mc, ds, mousename, metricName, 'p')"
   ]
  },
  {
   "cell_type": "code",
   "execution_count": null,
   "metadata": {
    "collapsed": true
   },
   "outputs": [],
   "source": [
    "imshow_dataset_by_mouse(dataDB, ds, 'mean')"
   ]
  },
  {
   "cell_type": "code",
   "execution_count": null,
   "metadata": {
    "collapsed": true
   },
   "outputs": [],
   "source": [
    "imshow_dataset_by_mouse(dataDB, ds, 'std')"
   ]
  },
  {
   "cell_type": "code",
   "execution_count": null,
   "metadata": {
    "collapsed": true
   },
   "outputs": [],
   "source": [
    "imshow_dataset_by_mouse(dataDB, ds, 'avg_entropy')"
   ]
  },
  {
   "cell_type": "markdown",
   "metadata": {},
   "source": [
    "# 3. Temporal Structure\n",
    "## 3.1 Mean vs Time"
   ]
  },
  {
   "cell_type": "code",
   "execution_count": null,
   "metadata": {
    "collapsed": true
   },
   "outputs": [],
   "source": [
    "ds.delete_by_query({'name' : 'mean_time_zscore'})"
   ]
  },
  {
   "cell_type": "code",
   "execution_count": null,
   "metadata": {
    "collapsed": true,
    "scrolled": true
   },
   "outputs": [],
   "source": [
    "for iMouse, mousename in enumerate(sorted(dataDB.mice)):\n",
    "    metric_by_session(dataDB, mc, ds, mousename, 'mean', 'ps',\n",
    "                      dataName='mean_time_zscore',\n",
    "                      cropTime=200, zscoreDim='rs')"
   ]
  },
  {
   "cell_type": "code",
   "execution_count": null,
   "metadata": {
    "collapsed": true
   },
   "outputs": [],
   "source": [
    "imshow_dataset_by_session(dataDB, ds, 'mean_time_zscore', limits=None, fig1size=(12, 2), colBased=False, aspect='auto')"
   ]
  },
  {
   "cell_type": "markdown",
   "metadata": {},
   "source": [
    "## 3.2 Significance vs Time"
   ]
  },
  {
   "cell_type": "code",
   "execution_count": null,
   "metadata": {
    "collapsed": true
   },
   "outputs": [],
   "source": [
    "# Metric defined by user\n",
    "def temporal_significance(data, settings):\n",
    "    assert data.ndim == 3\n",
    "    assert data.shape[1] == 1\n",
    "    \n",
    "    data2D = np.copy(data[:, 0])\n",
    "    nTrial, nTime = data2D.shape\n",
    "    \n",
    "    dataTmp = data2D - np.mean(data2D)\n",
    "    \n",
    "    rez = np.zeros(nTime)\n",
    "    for iTime in range(nTime):\n",
    "        T, pval = wilcoxon(dataTmp[:, iTime])\n",
    "#         rez[iTime] = np.sign(np.mean(dataTmp[:, iTime])) * int(pval < 0.01 / nTime)\n",
    "        rez[iTime] = np.sign(np.mean(dataTmp[:, iTime])) * (-np.log10(pval))\n",
    "    return rez"
   ]
  },
  {
   "cell_type": "code",
   "execution_count": null,
   "metadata": {
    "collapsed": true,
    "scrolled": true
   },
   "outputs": [],
   "source": [
    "for iMouse, mousename in enumerate(sorted(dataDB.mice)):\n",
    "    metric_by_session(dataDB, mc, ds, mousename, 'generic_metric', 'p',\n",
    "                      dataName='temporal_significance',\n",
    "                      metricSettings={\"metric\" : temporal_significance},\n",
    "                      cropTime=200\n",
    "                     )"
   ]
  },
  {
   "cell_type": "code",
   "execution_count": null,
   "metadata": {
    "collapsed": true,
    "scrolled": true
   },
   "outputs": [],
   "source": [
    "imshow_dataset_by_session(dataDB, ds, 'temporal_significance', limits=[-10,10], fig1size=(12, 2), colBased=False, aspect='auto')"
   ]
  },
  {
   "cell_type": "code",
   "execution_count": null,
   "metadata": {
    "collapsed": true
   },
   "outputs": [],
   "source": []
  }
 ],
 "metadata": {
  "kernelspec": {
   "display_name": "Python (py36qt5)",
   "language": "python",
   "name": "py36qt5"
  },
  "language_info": {
   "codemirror_mode": {
    "name": "ipython",
    "version": 3
   },
   "file_extension": ".py",
   "mimetype": "text/x-python",
   "name": "python",
   "nbconvert_exporter": "python",
   "pygments_lexer": "ipython3",
   "version": "3.6.4"
  }
 },
 "nbformat": 4,
 "nbformat_minor": 2
}

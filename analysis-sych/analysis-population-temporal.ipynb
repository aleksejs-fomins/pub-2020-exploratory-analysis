{
 "cells": [
  {
   "cell_type": "code",
   "execution_count": 2,
   "metadata": {},
   "outputs": [
    {
     "name": "stdout",
     "output_type": "stream",
     "text": [
      "Appended root directory /home/alyosha/work/git/pub-2020-exploratory-analysis\n"
     ]
    }
   ],
   "source": [
    "# Standard libraries\n",
    "import numpy as np\n",
    "import json\n",
    "import h5py\n",
    "import pandas as pd\n",
    "import datetime\n",
    "import matplotlib.pyplot as plt\n",
    "from ipywidgets import interactive, IntProgress\n",
    "from IPython.display import display\n",
    "\n",
    "# Append base directory\n",
    "import os,sys,inspect\n",
    "rootname = \"pub-2020-exploratory-analysis\"\n",
    "thispath = os.path.dirname(os.path.abspath(inspect.getfile(inspect.currentframe())))\n",
    "rootpath = os.path.join(thispath[:thispath.index(rootname)], rootname)\n",
    "sys.path.append(rootpath)\n",
    "print(\"Appended root directory\", rootpath)\n",
    "\n",
    "from mesostat.utils.qt_helper import gui_fnames, gui_fpath\n",
    "from lib.sych.data_fc_db import DataFCDatabase\n",
    "\n",
    "%load_ext autoreload\n",
    "%autoreload 2"
   ]
  },
  {
   "cell_type": "code",
   "execution_count": 3,
   "metadata": {},
   "outputs": [],
   "source": [
    "# tmp_path = root_path_data if 'root_path_data' in locals() else \"./\"\n",
    "params = {}\n",
    "# params['root_path_data']  = gui_fpath(\"Path to data collection\",  './')\n",
    "params['root_path_data'] = '/media/alyosha/Data/TE_data/yarodata/neuro'\n",
    "\n",
    "#params['root_path_paw']   = gui_fpath(\"Path to Paw data\",         params['root_path_data'])\n",
    "#params['root_path_lick']  = gui_fpath(\"Path to Lick data\",        params['root_path_paw'])\n",
    "#params['root_path_whisk'] = gui_fpath(\"Path to Whisk Data\",       params['root_path_lick'])\n",
    "# params['root_path_te']    = gui_fpath(\"Select TE results folder\", params['root_path_data'])"
   ]
  },
  {
   "cell_type": "code",
   "execution_count": 5,
   "metadata": {},
   "outputs": [
    {
     "name": "stdout",
     "output_type": "stream",
     "text": [
      "Target trial within [0, 8] sec. Total target timesteps 161\n",
      "Searching for channel labels\n",
      "Searching for data files\n",
      "No paw path provided, skipping\n",
      "No lick path provided, skipping\n",
      "No whisk path provided, skipping\n"
     ]
    }
   ],
   "source": [
    "dataDB = DataFCDatabase(params)"
   ]
  },
  {
   "cell_type": "code",
   "execution_count": 6,
   "metadata": {
    "scrolled": true
   },
   "outputs": [
    {
     "name": "stdout",
     "output_type": "stream",
     "text": [
      "No TE files loaded, skipping reading part\n"
     ]
    },
    {
     "data": {
      "application/vnd.jupyter.widget-view+json": {
       "model_id": "cfedb99b16ef4123894a71986afca1d3",
       "version_major": 2,
       "version_minor": 0
      },
      "text/plain": [
       "IntProgress(value=0, description='Read Neuro Data:', max=220)"
      ]
     },
     "metadata": {},
     "output_type": "display_data"
    },
    {
     "name": "stdout",
     "output_type": "stream",
     "text": [
      "Calculated performance 0.7264150943396226 does not match external 0.7333333333333333\n",
      "Calculated performance 0.803680981595092 does not match external 0.808641975308642\n",
      "Calculated performance 0.8411764705882353 does not match external 0.8436578171091446\n",
      "Calculated performance 0.956989247311828 does not match external 0.9621621621621622\n",
      "Calculated performance 0.6808510638297872 does not match external 0.6956521739130435\n",
      "Calculated performance 0.9582366589327146 does not match external 0.9604651162790697\n",
      "Calculated performance 0.4851258581235698 does not match external 0.4840182648401826\n",
      "--Warning: For iMISS behaviour max index 437 exceeds nTrials 437\n",
      "---Cropped excessive behaviour trials from 86 to 85\n",
      "Calculated performance 0.42795389048991356 does not match external 0.6902017291066282\n",
      "Calculated performance 0.2534562211981567 does not match external 0.30386740331491713\n",
      "Calculated performance 0.4444444444444444 does not match external 0.47227191413237923\n",
      "Calculated performance 0.5668016194331984 does not match external 0.5691056910569106\n",
      "Calculated performance 0.5358255451713395 does not match external 0.6441947565543071\n",
      "Calculated performance 0.38461538461538464 does not match external 0.44285714285714284\n",
      "Calculated performance 0.6142857142857143 does not match external 0.7818181818181819\n",
      "Calculated performance 0.5108225108225108 does not match external 0.7195121951219512\n",
      "Calculated performance 0.65 does not match external 0.9128329297820823\n",
      "Calculated performance 0.6111111111111112 does not match external 0.859375\n",
      "Calculated performance 0.6214285714285714 does not match external 0.9190140845070423\n",
      "Calculated performance 0.6561085972850679 does not match external 0.9570957095709571\n",
      "Calculated performance 0.5596590909090909 does not match external 0.652317880794702\n",
      "Calculated performance 0.6350210970464135 does not match external 0.8455056179775281\n",
      "Calculated performance 0.5581395348837209 does not match external 0.8\n",
      "Calculated performance 0.44357976653696496 does not match external 0.5728643216080402\n",
      "Calculated performance 0.5454545454545454 does not match external 0.797583081570997\n",
      "Calculated performance 0.6023529411764705 does not match external 0.8366013071895425\n",
      "Calculated performance 0.5609756097560976 does not match external 0.8363636363636363\n",
      "Calculated performance 0.6480582524271845 does not match external 0.8959731543624161\n",
      "Calculated performance 0.3019230769230769 does not match external 0.31910569105691056\n",
      "Calculated performance 0.3433734939759036 does not match external 0.375\n",
      "Calculated performance 0.8584615384615385 does not match external 0.9\n",
      "Calculated performance 0.8142857142857143 does not match external 0.8702290076335878\n",
      "Calculated performance 0.932 does not match external 0.9549180327868853\n",
      "Calculated performance 0.6285714285714286 does not match external 0.9041095890410958\n",
      "Calculated performance 0.7010309278350515 does not match external 0.9497206703910615\n",
      "Calculated performance 0.716 does not match external 0.9572192513368984\n",
      "Calculated performance 0.7333333333333333 does not match external 0.9615384615384616\n",
      "Calculated performance 0.42 does not match external 0.5121951219512195\n",
      "Calculated performance 0.3452830188679245 does not match external 0.37731958762886597\n",
      "Calculated performance 0.5 does not match external 0.55\n",
      "Calculated performance 0.3201754385964912 does not match external 0.437125748502994\n",
      "Calculated performance 0.8641791044776119 does not match external 0.8921417565485362\n",
      "Calculated performance 0.9428571428571428 does not match external 0.9807692307692307\n",
      "Calculated performance 0.551440329218107 does not match external 0.9640287769784173\n",
      "Calculated performance 0.55 does not match external 0.968\n",
      "Calculated performance 0.5203703703703704 does not match external 0.972318339100346\n",
      "Calculated performance 0.231 does not match external 0.27598566308243727\n",
      "Calculated performance 0.37388392857142855 does not match external 0.39691943127962087\n",
      "Calculated performance 0.4024691358024691 does not match external 0.4527777777777778\n",
      "Calculated performance 0.5891891891891892 does not match external 0.6337209302325582\n",
      "Calculated performance 0.5015625 does not match external 0.6257309941520468\n",
      "Calculated performance 0.6888888888888889 does not match external 0.7560975609756098\n",
      "Calculated performance 0.6612903225806451 does not match external 0.8913043478260869\n",
      "Calculated performance 0.6442857142857142 does not match external 0.9241803278688525\n",
      "Calculated performance 0.7163677130044843 does not match external 0.8987341772151899\n",
      "Calculated performance 0.7048951048951049 does not match external 0.8689655172413793\n",
      "Calculated performance 0.5771428571428572 does not match external 0.7984189723320159\n",
      "Calculated performance 0.046153846153846156 does not match external 0.05\n",
      "Calculated performance 0.05 does not match external 0.05327868852459016\n",
      "Calculated performance 0.04126984126984127 does not match external 0.041935483870967745\n",
      "Calculated performance 0.26292134831460673 does not match external 0.35347432024169184\n",
      "Calculated performance 0.25957446808510637 does not match external 0.3436619718309859\n",
      "Calculated performance 0.40192926045016075 does not match external 0.4970178926441352\n",
      "Calculated performance 0.4560260586319218 does not match external 0.49910873440285203\n",
      "Calculated performance 0.5869565217391305 does not match external 0.6095617529880478\n",
      "Calculated performance 0.5619834710743802 does not match external 0.5882352941176471\n",
      "Calculated performance 0.5666666666666667 does not match external 0.5977496483825597\n",
      "Calculated performance 0.6 does not match external 0.6127320954907162\n",
      "Calculated performance 0.5127877237851662 does not match external 0.5353805073431241\n",
      "Calculated performance 0.6104972375690608 does not match external 0.6378066378066378\n",
      "Calculated performance 0.6 does not match external 0.625\n",
      "Calculated performance 0.7614035087719299 does not match external 0.8037037037037037\n",
      "Calculated performance 0.7053291536050157 does not match external 0.7234726688102894\n",
      "Calculated performance 0.5545454545454546 does not match external 0.6224489795918368\n",
      "Calculated performance 0.7324324324324324 does not match external 0.7465564738292011\n",
      "--Warning: No performance metrics found for /media/alyosha/Data/TE_data/yarodata/neuro/mvg48/mvg_8 ; Using calculated\n",
      "--Warning: No performance metrics found for /media/alyosha/Data/TE_data/yarodata/neuro/mvg48/mvg_8 ; Using calculated\n",
      "--Warning: No performance metrics found for /media/alyosha/Data/TE_data/yarodata/neuro/mvg48/mvg_8 ; Using calculated\n",
      "--Warning: No performance metrics found for /media/alyosha/Data/TE_data/yarodata/neuro/mvg48/mvg_8 ; Using calculated\n",
      "--Warning: No performance metrics found for /media/alyosha/Data/TE_data/yarodata/neuro/mvg48/mvg_8 ; Using calculated\n",
      "--Warning: No performance metrics found for /media/alyosha/Data/TE_data/yarodata/neuro/mvg48/mvg_8 ; Using calculated\n",
      "--Warning: No performance metrics found for /media/alyosha/Data/TE_data/yarodata/neuro/mvg48/mvg_8 ; Using calculated\n",
      "--Warning: No performance metrics found for /media/alyosha/Data/TE_data/yarodata/neuro/mvg48/mvg_8 ; Using calculated\n",
      "--Warning: No performance metrics found for /media/alyosha/Data/TE_data/yarodata/neuro/mvg48/mvg_8 ; Using calculated\n",
      "--Warning: No performance metrics found for /media/alyosha/Data/TE_data/yarodata/neuro/mvg48/mvg_8 ; Using calculated\n",
      "Warning: For mvg_8_2018_11_22_a nTrials inconsistent with behaviour 141 188 165\n",
      "--Warning: No performance metrics found for /media/alyosha/Data/TE_data/yarodata/neuro/mvg48/mvg_8 ; Using calculated\n",
      "--Warning: For iGO behaviour max index 373 exceeds nTrials 141\n",
      "---Cropped excessive behaviour trials from 188 to 68\n",
      "--Warning: For iNOGO behaviour max index 404 exceeds nTrials 141\n",
      "---Cropped excessive behaviour trials from 165 to 53\n",
      "--Warning: For iFA behaviour max index 313 exceeds nTrials 141\n",
      "---Cropped excessive behaviour trials from 10 to 6\n",
      "--Warning: For iMISS behaviour max index 405 exceeds nTrials 141\n",
      "---Cropped excessive behaviour trials from 21 to 2\n",
      "--Warning: No performance metrics found for /media/alyosha/Data/TE_data/yarodata/neuro/mvg48/mvg_8 ; Using calculated\n",
      "--Warning: No performance metrics found for /media/alyosha/Data/TE_data/yarodata/neuro/mvg48/mvg_8 ; Using calculated\n",
      "--Warning: No performance metrics found for /media/alyosha/Data/TE_data/yarodata/neuro/mvg48/mvg_8 ; Using calculated\n"
     ]
    },
    {
     "name": "stdout",
     "output_type": "stream",
     "text": [
      "--Warning: No performance metrics found for /media/alyosha/Data/TE_data/yarodata/neuro/mvg48/mvg_8 ; Using calculated\n",
      "--Warning: No performance metrics found for /media/alyosha/Data/TE_data/yarodata/neuro/mvg48/mvg_8 ; Using calculated\n",
      "--Warning: No performance metrics found for /media/alyosha/Data/TE_data/yarodata/neuro/mvg48/mvg_9 ; Using calculated\n",
      "--Warning: No performance metrics found for /media/alyosha/Data/TE_data/yarodata/neuro/mvg48/mvg_9 ; Using calculated\n",
      "--Warning: No performance metrics found for /media/alyosha/Data/TE_data/yarodata/neuro/mvg48/mvg_9 ; Using calculated\n",
      "--Warning: No performance metrics found for /media/alyosha/Data/TE_data/yarodata/neuro/mvg48/mvg_9 ; Using calculated\n",
      "--Warning: No performance metrics found for /media/alyosha/Data/TE_data/yarodata/neuro/mvg48/mvg_9 ; Using calculated\n",
      "--Warning: No performance metrics found for /media/alyosha/Data/TE_data/yarodata/neuro/mvg48/mvg_9 ; Using calculated\n",
      "--Warning: No performance metrics found for /media/alyosha/Data/TE_data/yarodata/neuro/mvg48/mvg_9 ; Using calculated\n",
      "--Warning: No performance metrics found for /media/alyosha/Data/TE_data/yarodata/neuro/mvg48/mvg_9 ; Using calculated\n",
      "--Warning: No performance metrics found for /media/alyosha/Data/TE_data/yarodata/neuro/mvg48/mvg_9 ; Using calculated\n",
      "--Warning: No performance metrics found for /media/alyosha/Data/TE_data/yarodata/neuro/mvg48/mvg_9 ; Using calculated\n",
      "--Warning: No performance metrics found for /media/alyosha/Data/TE_data/yarodata/neuro/mvg48/mvg_9 ; Using calculated\n",
      "--Warning: No performance metrics found for /media/alyosha/Data/TE_data/yarodata/neuro/mvg48/mvg_9 ; Using calculated\n",
      "--Warning: No performance metrics found for /media/alyosha/Data/TE_data/yarodata/neuro/mvg48/mvg_9 ; Using calculated\n",
      "--Warning: No performance metrics found for /media/alyosha/Data/TE_data/yarodata/neuro/mvg48/mvg_9 ; Using calculated\n",
      "--Warning: No performance metrics found for /media/alyosha/Data/TE_data/yarodata/neuro/mvg48/mvg_9 ; Using calculated\n",
      "--Warning: No performance metrics found for /media/alyosha/Data/TE_data/yarodata/neuro/mvg48/mvg_9 ; Using calculated\n",
      "--Warning: No performance metrics found for /media/alyosha/Data/TE_data/yarodata/neuro/mvg48/mvg_9 ; Using calculated\n",
      "--Warning: No performance metrics found for /media/alyosha/Data/TE_data/yarodata/neuro/mvg48/mvg_9 ; Using calculated\n",
      "--Warning: No performance metrics found for /media/alyosha/Data/TE_data/yarodata/neuro/mvg48/mvg_9 ; Using calculated\n",
      "--Warning: No performance metrics found for /media/alyosha/Data/TE_data/yarodata/neuro/mvg48/mvg_9 ; Using calculated\n",
      "--Warning: No performance metrics found for /media/alyosha/Data/TE_data/yarodata/neuro/mvg48/mvg_9 ; Using calculated\n",
      "Bad performance in 1 sessions, fixing\n",
      "No paw files loaded, skipping reading part\n",
      "No lick files loaded, skipping reading part\n",
      "No whisk files loaded, skipping reading part\n"
     ]
    }
   ],
   "source": [
    "dataDB.read_te_files()\n",
    "dataDB.read_neuro_files()\n",
    "dataDB.read_resample_paw_files()\n",
    "dataDB.read_resample_lick_files()   # Currently does not work. Ask Yaro if we need it\n",
    "dataDB.read_resample_whisk_files()"
   ]
  },
  {
   "cell_type": "markdown",
   "metadata": {},
   "source": [
    "# Mono-Regional Metrics\n",
    "\n",
    "* Dynamic Regime\n",
    "    * SNR - via AutoCorr[1]\n",
    "    * Gain regime - via phase-space scatter\n",
    "        - Invent some metric, e.g. linear fit, to estimate if there is a gain transition\n",
    "* Temporal structure\n",
    "    * Individual temporal specificity (regions more active later vs earlier)\n",
    "        - Test activity for each timestep vs cycle null model, plot significant bins\n",
    "    * Individual temporal stability (how consistent is the activity over trials)\n",
    "        - Test activity for each timestep vs cycle null model, plot -log(p) for ranksum\n",
    "* Specificity to external observables (movement, action, learning)\n",
    "    - Test activity for each timestep for hit/miss, (separate naive/expert)\n",
    "    - Scatter temporal mean vs performance "
   ]
  },
  {
   "cell_type": "code",
   "execution_count": null,
   "metadata": {},
   "outputs": [],
   "source": []
  }
 ],
 "metadata": {
  "kernelspec": {
   "display_name": "Python (nest)",
   "language": "python",
   "name": "py36nest"
  },
  "language_info": {
   "codemirror_mode": {
    "name": "ipython",
    "version": 3
   },
   "file_extension": ".py",
   "mimetype": "text/x-python",
   "name": "python",
   "nbconvert_exporter": "python",
   "pygments_lexer": "ipython3",
   "version": "3.6.6"
  }
 },
 "nbformat": 4,
 "nbformat_minor": 2
}

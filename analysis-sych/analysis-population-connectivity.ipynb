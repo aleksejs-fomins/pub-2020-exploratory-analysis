{
 "cells": [
  {
   "cell_type": "code",
   "execution_count": 1,
   "metadata": {},
   "outputs": [
    {
     "name": "stdout",
     "output_type": "stream",
     "text": [
      "Appended root directory /home/alyosha/work/git/pub-2020-exploratory-analysis\n"
     ]
    }
   ],
   "source": [
    "# Standard libraries\n",
    "import numpy as np\n",
    "import json\n",
    "import h5py\n",
    "import pandas as pd\n",
    "import datetime\n",
    "import matplotlib.pyplot as plt\n",
    "from ipywidgets import interactive, IntProgress\n",
    "from IPython.display import display\n",
    "from time import time\n",
    "\n",
    "# Append base directory\n",
    "import os,sys,inspect\n",
    "rootname = \"pub-2020-exploratory-analysis\"\n",
    "thispath = os.path.dirname(os.path.abspath(inspect.getfile(inspect.currentframe())))\n",
    "rootpath = os.path.join(thispath[:thispath.index(rootname)], rootname)\n",
    "sys.path.append(rootpath)\n",
    "print(\"Appended root directory\", rootpath)\n",
    "\n",
    "from mesostat.utils.qt_helper import gui_fnames, gui_fpath\n",
    "from mesostat.metric.metric import MetricCalculator\n",
    "from mesostat.stat.connectomics import offdiag_1D\n",
    "\n",
    "from lib.sych.data_fc_db import DataFCDatabase\n",
    "\n",
    "%load_ext autoreload\n",
    "%autoreload 2"
   ]
  },
  {
   "cell_type": "code",
   "execution_count": 2,
   "metadata": {},
   "outputs": [],
   "source": [
    "# tmp_path = root_path_data if 'root_path_data' in locals() else \"./\"\n",
    "params = {}\n",
    "# params['root_path_data']  = gui_fpath(\"Path to data collection\",  './')\n",
    "params['root_path_data'] = '/media/alyosha/Data/TE_data/yarodata/neuro'\n",
    "\n",
    "#params['root_path_paw']   = gui_fpath(\"Path to Paw data\",         params['root_path_data'])\n",
    "#params['root_path_lick']  = gui_fpath(\"Path to Lick data\",        params['root_path_paw'])\n",
    "#params['root_path_whisk'] = gui_fpath(\"Path to Whisk Data\",       params['root_path_lick'])\n",
    "# params['root_path_te']    = gui_fpath(\"Select TE results folder\", params['root_path_data'])"
   ]
  },
  {
   "cell_type": "code",
   "execution_count": 3,
   "metadata": {},
   "outputs": [
    {
     "name": "stdout",
     "output_type": "stream",
     "text": [
      "Target trial within [0, 8] sec. Total target timesteps 161\n",
      "Searching for channel labels\n",
      "Searching for data files\n",
      "No paw path provided, skipping\n",
      "No lick path provided, skipping\n",
      "No whisk path provided, skipping\n"
     ]
    }
   ],
   "source": [
    "dataDB = DataFCDatabase(params)"
   ]
  },
  {
   "cell_type": "code",
   "execution_count": 4,
   "metadata": {
    "scrolled": true
   },
   "outputs": [
    {
     "name": "stdout",
     "output_type": "stream",
     "text": [
      "No TE files loaded, skipping reading part\n"
     ]
    },
    {
     "data": {
      "application/vnd.jupyter.widget-view+json": {
       "model_id": "2934eab9abfd490bbae5c22934b525bf",
       "version_major": 2,
       "version_minor": 0
      },
      "text/plain": [
       "IntProgress(value=0, description='Read Neuro Data:', max=220)"
      ]
     },
     "metadata": {},
     "output_type": "display_data"
    },
    {
     "name": "stdout",
     "output_type": "stream",
     "text": [
      "Calculated performance 0.7264150943396226 does not match external 0.7333333333333333\n",
      "Calculated performance 0.803680981595092 does not match external 0.808641975308642\n",
      "Calculated performance 0.8411764705882353 does not match external 0.8436578171091446\n",
      "Calculated performance 0.956989247311828 does not match external 0.9621621621621622\n",
      "Calculated performance 0.6808510638297872 does not match external 0.6956521739130435\n",
      "Calculated performance 0.9582366589327146 does not match external 0.9604651162790697\n",
      "Calculated performance 0.4851258581235698 does not match external 0.4840182648401826\n",
      "--Warning: For iMISS behaviour max index 437 exceeds nTrials 437\n",
      "---Cropped excessive behaviour trials from 86 to 85\n",
      "Calculated performance 0.42795389048991356 does not match external 0.6902017291066282\n",
      "Calculated performance 0.2534562211981567 does not match external 0.30386740331491713\n",
      "Calculated performance 0.4444444444444444 does not match external 0.47227191413237923\n",
      "Calculated performance 0.5668016194331984 does not match external 0.5691056910569106\n",
      "Calculated performance 0.5358255451713395 does not match external 0.6441947565543071\n",
      "Calculated performance 0.38461538461538464 does not match external 0.44285714285714284\n",
      "Calculated performance 0.6142857142857143 does not match external 0.7818181818181819\n",
      "Calculated performance 0.5108225108225108 does not match external 0.7195121951219512\n",
      "Calculated performance 0.65 does not match external 0.9128329297820823\n",
      "Calculated performance 0.6111111111111112 does not match external 0.859375\n",
      "Calculated performance 0.6214285714285714 does not match external 0.9190140845070423\n",
      "Calculated performance 0.6561085972850679 does not match external 0.9570957095709571\n",
      "Calculated performance 0.5596590909090909 does not match external 0.652317880794702\n",
      "Calculated performance 0.6350210970464135 does not match external 0.8455056179775281\n",
      "Calculated performance 0.5581395348837209 does not match external 0.8\n",
      "Calculated performance 0.44357976653696496 does not match external 0.5728643216080402\n",
      "Calculated performance 0.5454545454545454 does not match external 0.797583081570997\n",
      "Calculated performance 0.6023529411764705 does not match external 0.8366013071895425\n",
      "Calculated performance 0.5609756097560976 does not match external 0.8363636363636363\n",
      "Calculated performance 0.6480582524271845 does not match external 0.8959731543624161\n",
      "Calculated performance 0.3019230769230769 does not match external 0.31910569105691056\n",
      "Calculated performance 0.3433734939759036 does not match external 0.375\n",
      "Calculated performance 0.8584615384615385 does not match external 0.9\n",
      "Calculated performance 0.8142857142857143 does not match external 0.8702290076335878\n",
      "Calculated performance 0.932 does not match external 0.9549180327868853\n",
      "Calculated performance 0.6285714285714286 does not match external 0.9041095890410958\n",
      "Calculated performance 0.7010309278350515 does not match external 0.9497206703910615\n",
      "Calculated performance 0.716 does not match external 0.9572192513368984\n",
      "Calculated performance 0.7333333333333333 does not match external 0.9615384615384616\n",
      "Calculated performance 0.42 does not match external 0.5121951219512195\n",
      "Calculated performance 0.3452830188679245 does not match external 0.37731958762886597\n",
      "Calculated performance 0.5 does not match external 0.55\n",
      "Calculated performance 0.3201754385964912 does not match external 0.437125748502994\n",
      "Calculated performance 0.8641791044776119 does not match external 0.8921417565485362\n",
      "Calculated performance 0.9428571428571428 does not match external 0.9807692307692307\n",
      "Calculated performance 0.551440329218107 does not match external 0.9640287769784173\n",
      "Calculated performance 0.55 does not match external 0.968\n",
      "Calculated performance 0.5203703703703704 does not match external 0.972318339100346\n",
      "Calculated performance 0.231 does not match external 0.27598566308243727\n",
      "Calculated performance 0.37388392857142855 does not match external 0.39691943127962087\n",
      "Calculated performance 0.4024691358024691 does not match external 0.4527777777777778\n",
      "Calculated performance 0.5891891891891892 does not match external 0.6337209302325582\n",
      "Calculated performance 0.5015625 does not match external 0.6257309941520468\n",
      "Calculated performance 0.6888888888888889 does not match external 0.7560975609756098\n",
      "Calculated performance 0.6612903225806451 does not match external 0.8913043478260869\n",
      "Calculated performance 0.6442857142857142 does not match external 0.9241803278688525\n",
      "Calculated performance 0.7163677130044843 does not match external 0.8987341772151899\n",
      "Calculated performance 0.7048951048951049 does not match external 0.8689655172413793\n",
      "Calculated performance 0.5771428571428572 does not match external 0.7984189723320159\n",
      "Calculated performance 0.046153846153846156 does not match external 0.05\n",
      "Calculated performance 0.05 does not match external 0.05327868852459016\n",
      "Calculated performance 0.04126984126984127 does not match external 0.041935483870967745\n",
      "Calculated performance 0.26292134831460673 does not match external 0.35347432024169184\n",
      "Calculated performance 0.25957446808510637 does not match external 0.3436619718309859\n",
      "Calculated performance 0.40192926045016075 does not match external 0.4970178926441352\n",
      "Calculated performance 0.4560260586319218 does not match external 0.49910873440285203\n",
      "Calculated performance 0.5869565217391305 does not match external 0.6095617529880478\n",
      "Calculated performance 0.5619834710743802 does not match external 0.5882352941176471\n",
      "Calculated performance 0.5666666666666667 does not match external 0.5977496483825597\n",
      "Calculated performance 0.6 does not match external 0.6127320954907162\n",
      "Calculated performance 0.5127877237851662 does not match external 0.5353805073431241\n",
      "Calculated performance 0.6104972375690608 does not match external 0.6378066378066378\n",
      "Calculated performance 0.6 does not match external 0.625\n",
      "Calculated performance 0.7614035087719299 does not match external 0.8037037037037037\n",
      "Calculated performance 0.7053291536050157 does not match external 0.7234726688102894\n",
      "Calculated performance 0.5545454545454546 does not match external 0.6224489795918368\n",
      "Calculated performance 0.7324324324324324 does not match external 0.7465564738292011\n",
      "--Warning: No performance metrics found for /media/alyosha/Data/TE_data/yarodata/neuro/mvg48/mvg_8 ; Using calculated\n",
      "--Warning: No performance metrics found for /media/alyosha/Data/TE_data/yarodata/neuro/mvg48/mvg_8 ; Using calculated\n",
      "--Warning: No performance metrics found for /media/alyosha/Data/TE_data/yarodata/neuro/mvg48/mvg_8 ; Using calculated\n",
      "--Warning: No performance metrics found for /media/alyosha/Data/TE_data/yarodata/neuro/mvg48/mvg_8 ; Using calculated\n",
      "--Warning: No performance metrics found for /media/alyosha/Data/TE_data/yarodata/neuro/mvg48/mvg_8 ; Using calculated\n",
      "--Warning: No performance metrics found for /media/alyosha/Data/TE_data/yarodata/neuro/mvg48/mvg_8 ; Using calculated\n",
      "--Warning: No performance metrics found for /media/alyosha/Data/TE_data/yarodata/neuro/mvg48/mvg_8 ; Using calculated\n",
      "--Warning: No performance metrics found for /media/alyosha/Data/TE_data/yarodata/neuro/mvg48/mvg_8 ; Using calculated\n",
      "--Warning: No performance metrics found for /media/alyosha/Data/TE_data/yarodata/neuro/mvg48/mvg_8 ; Using calculated\n",
      "--Warning: No performance metrics found for /media/alyosha/Data/TE_data/yarodata/neuro/mvg48/mvg_8 ; Using calculated\n",
      "Warning: For mvg_8_2018_11_22_a nTrials inconsistent with behaviour 141 188 165\n",
      "--Warning: No performance metrics found for /media/alyosha/Data/TE_data/yarodata/neuro/mvg48/mvg_8 ; Using calculated\n",
      "--Warning: For iGO behaviour max index 373 exceeds nTrials 141\n",
      "---Cropped excessive behaviour trials from 188 to 68\n",
      "--Warning: For iNOGO behaviour max index 404 exceeds nTrials 141\n",
      "---Cropped excessive behaviour trials from 165 to 53\n",
      "--Warning: For iFA behaviour max index 313 exceeds nTrials 141\n",
      "---Cropped excessive behaviour trials from 10 to 6\n",
      "--Warning: For iMISS behaviour max index 405 exceeds nTrials 141\n",
      "---Cropped excessive behaviour trials from 21 to 2\n",
      "--Warning: No performance metrics found for /media/alyosha/Data/TE_data/yarodata/neuro/mvg48/mvg_8 ; Using calculated\n",
      "--Warning: No performance metrics found for /media/alyosha/Data/TE_data/yarodata/neuro/mvg48/mvg_8 ; Using calculated\n"
     ]
    },
    {
     "name": "stdout",
     "output_type": "stream",
     "text": [
      "--Warning: No performance metrics found for /media/alyosha/Data/TE_data/yarodata/neuro/mvg48/mvg_8 ; Using calculated\n",
      "--Warning: No performance metrics found for /media/alyosha/Data/TE_data/yarodata/neuro/mvg48/mvg_8 ; Using calculated\n",
      "--Warning: No performance metrics found for /media/alyosha/Data/TE_data/yarodata/neuro/mvg48/mvg_8 ; Using calculated\n",
      "--Warning: No performance metrics found for /media/alyosha/Data/TE_data/yarodata/neuro/mvg48/mvg_9 ; Using calculated\n",
      "--Warning: No performance metrics found for /media/alyosha/Data/TE_data/yarodata/neuro/mvg48/mvg_9 ; Using calculated\n",
      "--Warning: No performance metrics found for /media/alyosha/Data/TE_data/yarodata/neuro/mvg48/mvg_9 ; Using calculated\n",
      "--Warning: No performance metrics found for /media/alyosha/Data/TE_data/yarodata/neuro/mvg48/mvg_9 ; Using calculated\n",
      "--Warning: No performance metrics found for /media/alyosha/Data/TE_data/yarodata/neuro/mvg48/mvg_9 ; Using calculated\n",
      "--Warning: No performance metrics found for /media/alyosha/Data/TE_data/yarodata/neuro/mvg48/mvg_9 ; Using calculated\n",
      "--Warning: No performance metrics found for /media/alyosha/Data/TE_data/yarodata/neuro/mvg48/mvg_9 ; Using calculated\n",
      "--Warning: No performance metrics found for /media/alyosha/Data/TE_data/yarodata/neuro/mvg48/mvg_9 ; Using calculated\n",
      "--Warning: No performance metrics found for /media/alyosha/Data/TE_data/yarodata/neuro/mvg48/mvg_9 ; Using calculated\n",
      "--Warning: No performance metrics found for /media/alyosha/Data/TE_data/yarodata/neuro/mvg48/mvg_9 ; Using calculated\n",
      "--Warning: No performance metrics found for /media/alyosha/Data/TE_data/yarodata/neuro/mvg48/mvg_9 ; Using calculated\n",
      "--Warning: No performance metrics found for /media/alyosha/Data/TE_data/yarodata/neuro/mvg48/mvg_9 ; Using calculated\n",
      "--Warning: No performance metrics found for /media/alyosha/Data/TE_data/yarodata/neuro/mvg48/mvg_9 ; Using calculated\n",
      "--Warning: No performance metrics found for /media/alyosha/Data/TE_data/yarodata/neuro/mvg48/mvg_9 ; Using calculated\n",
      "--Warning: No performance metrics found for /media/alyosha/Data/TE_data/yarodata/neuro/mvg48/mvg_9 ; Using calculated\n",
      "--Warning: No performance metrics found for /media/alyosha/Data/TE_data/yarodata/neuro/mvg48/mvg_9 ; Using calculated\n",
      "--Warning: No performance metrics found for /media/alyosha/Data/TE_data/yarodata/neuro/mvg48/mvg_9 ; Using calculated\n",
      "--Warning: No performance metrics found for /media/alyosha/Data/TE_data/yarodata/neuro/mvg48/mvg_9 ; Using calculated\n",
      "--Warning: No performance metrics found for /media/alyosha/Data/TE_data/yarodata/neuro/mvg48/mvg_9 ; Using calculated\n",
      "--Warning: No performance metrics found for /media/alyosha/Data/TE_data/yarodata/neuro/mvg48/mvg_9 ; Using calculated\n",
      "--Warning: No performance metrics found for /media/alyosha/Data/TE_data/yarodata/neuro/mvg48/mvg_9 ; Using calculated\n",
      "Bad performance in 1 sessions, fixing\n",
      "No paw files loaded, skipping reading part\n",
      "No lick files loaded, skipping reading part\n",
      "No whisk files loaded, skipping reading part\n"
     ]
    }
   ],
   "source": [
    "dataDB.read_te_files()\n",
    "dataDB.read_neuro_files()\n",
    "dataDB.read_resample_paw_files()\n",
    "dataDB.read_resample_lick_files()   # Currently does not work. Ask Yaro if we need it\n",
    "dataDB.read_resample_whisk_files()"
   ]
  },
  {
   "cell_type": "code",
   "execution_count": 5,
   "metadata": {},
   "outputs": [],
   "source": [
    "pTHR = 0.7\n",
    "dataDB.mark_days_expert_naive(pTHR)"
   ]
  },
  {
   "cell_type": "markdown",
   "metadata": {},
   "source": [
    "# Multi-Regional Metrics\n",
    "\n",
    "* Measures of temporal relations\n",
    "    - CrossCorrelation\n",
    "    - CrossMI\n",
    "    \n",
    "### Important Questions\n",
    "\n",
    "* Are connections significant compared to global state\n",
    "* Can one undo global slow dynamics due to convolution to enhance connectivity\n",
    "* "
   ]
  },
  {
   "cell_type": "markdown",
   "metadata": {},
   "source": [
    "## Cross-correlation"
   ]
  },
  {
   "cell_type": "code",
   "execution_count": 56,
   "metadata": {
    "scrolled": false
   },
   "outputs": [
    {
     "name": "stdout",
     "output_type": "stream",
     "text": [
      "mtp_1 -0.5645826348260858 1.0\n",
      "mtp_10 -0.6097332285050647 1.0\n",
      "mtp_11 -0.457785667754224 1.0\n",
      "mtp_12 -0.7547223273884041 1.0\n",
      "mtp_13 -0.8178294003098434 1.0\n",
      "mtp_15 -0.6986958903862107 1.0\n",
      "mtp_16 -0.6587753440605868 1.0\n",
      "mtp_2 -0.5349270769644149 1.0\n",
      "mtp_7 -0.5788710236177467 1.0\n",
      "mvg_2 -0.5911935406897836 1.0\n",
      "mvg_3 -0.6081482695374829 1.0\n",
      "mvg_4 -0.6140247874374509 1.0\n",
      "mvg_5 -0.6651318446276864 1.0\n",
      "mvg_6 -0.4242234994879687 1.0\n",
      "mvg_7 -0.6742432426025292 1.0\n",
      "mvg_8 -0.7769656184160101 1.0\n",
      "mvg_9 -0.603591642173946 1.0\n"
     ]
    },
    {
     "data": {
      "image/png": "[encoded data removed]",
      "text/plain": [
       "<Figure size 6120x360 with 17 Axes>"
      ]
     },
     "metadata": {
      "needs_background": "light"
     },
     "output_type": "display_data"
    }
   ],
   "source": [
    "maxLag = 10\n",
    "mc = MetricCalculator(serial=True, verbose=False)\n",
    "\n",
    "fig, ax = plt.subplots(ncols=len(dataDB.mice), figsize=(5 * len(dataDB.mice), 5), tight_layout=True)\n",
    "for iMouse, mousename in enumerate(sorted(dataDB.mice)):\n",
    "    rows = dataDB.get_rows('neuro', {'mousename' : mousename})\n",
    "    \n",
    "    rez = []\n",
    "    for idx, row in rows.iterrows():\n",
    "        mc.set_data(dataDB.dataNeuronal[idx], 'rsp', zscoreDim='p')\n",
    "        rezThis = mc.metric3D('crosscorr', '', metricSettings=None, sweepSettings={'lag' : np.arange(maxLag)})\n",
    "        rez += [rezThis]\n",
    "        \n",
    "    # Average over sessions\n",
    "    rezMean = np.mean(rez, axis=0)\n",
    "    rezMean = np.array([offdiag_1D(r) for r in rezMean])\n",
    "    rezArgMax = np.argmax(np.abs(rezMean), axis=0)\n",
    "    rezMax = np.max(np.abs(rezMean), axis=0)\n",
    "    \n",
    "    thrCut = np.quantile(rezMax, 0.8)\n",
    "    idxCut = rezMax > thrCut\n",
    "    \n",
    "    print(mousename, np.min(rez), np.max(rez))\n",
    "        \n",
    "    ax[iMouse].set_title(mousename + ' @ corr > ' + str(np.round(thrCut, 2)))\n",
    "#     ax[iMouse].plot(rezMax[idxCut], rezArgMax[idxCut], '.')\n",
    "    ax[iMouse].hist(rezArgMax[idxCut], bins=np.arange(maxLag)-0.5, density=True)\n",
    "    ax[iMouse].set_ylim([0, 1])\n",
    "plt.show()"
   ]
  },
  {
   "cell_type": "markdown",
   "metadata": {},
   "source": [
    "## Cross-Entropy"
   ]
  },
  {
   "cell_type": "code",
   "execution_count": 6,
   "metadata": {
    "scrolled": false
   },
   "outputs": [
    {
     "name": "stdout",
     "output_type": "stream",
     "text": [
      "mtp_1_2015_06_18_b; took time 142.08032822608948\n",
      "mtp_1_2015_06_19_b; took time 223.59847593307495\n",
      "mtp_1_2015_06_22_b; took time 55.42432498931885\n",
      "mtp_1_2015_06_23_b; took time 104.75036644935608\n",
      "mtp_1_2015_06_24_a; took time 259.57507061958313\n",
      "mtp_1_2015_06_25_a; took time 145.83478784561157\n",
      "mtp_1_2015_06_26_a; took time 134.52518129348755\n",
      "mtp_1_2015_07_14_a; took time 161.73228359222412\n",
      "mtp_1_2015_07_15_a; took time 128.26346254348755\n",
      "mtp_1 -0.0036370468372102717 4.079883149095925\n"
     ]
    },
    {
     "name": "stderr",
     "output_type": "stream",
     "text": [
      "/opt/anaconda3/envs/py36nest/lib/python3.6/site-packages/matplotlib/figure.py:2366: UserWarning: This figure includes Axes that are not compatible with tight_layout, so results might be incorrect.\n",
      "  warnings.warn(\"This figure includes Axes that are not compatible \"\n"
     ]
    },
    {
     "data": {
      "image/png": "[encoded data removed]",
      "text/plain": [
       "<Figure size 6120x360 with 17 Axes>"
      ]
     },
     "metadata": {
      "needs_background": "light"
     },
     "output_type": "display_data"
    },
    {
     "name": "stdout",
     "output_type": "stream",
     "text": [
      "mtp_10_2016_09_07_a; took time 763.1387786865234\n",
      "mtp_10_2016_09_08_b; took time 26.40994954109192\n",
      "mtp_10_2016_09_09_a; took time 46.75001096725464\n",
      "mtp_10_2016_09_12_a; took time 200.56633949279785\n",
      "mtp_10_2016_09_13_a; took time 406.76334834098816\n",
      "mtp_10_2016_09_14_a; took time 422.6959629058838\n",
      "mtp_10_2016_09_29_a; took time 466.3844702243805\n",
      "mtp_10_2016_10_04_a; took time 371.18796944618225\n",
      "mtp_10 0.0 4.435231964330418\n",
      "mtp_11_2016_09_06_a; took time 151.01712942123413\n",
      "mtp_11_2016_09_07_a; took time 283.8069713115692\n",
      "mtp_11_2016_09_08_a; took time 307.6942517757416\n",
      "mtp_11_2016_09_09_a; took time 787.9524052143097\n",
      "mtp_11_2016_09_12_a; took time 296.52516984939575\n",
      "mtp_11_2016_09_13_a"
     ]
    },
    {
     "ename": "KeyboardInterrupt",
     "evalue": "",
     "output_type": "error",
     "traceback": [
      "\u001b[0;31m---------------------------------------------------------------------------\u001b[0m",
      "\u001b[0;31mKeyboardInterrupt\u001b[0m                         Traceback (most recent call last)",
      "\u001b[0;32m<ipython-input-6-591e7ef916c7>\u001b[0m in \u001b[0;36m<module>\u001b[0;34m\u001b[0m\n\u001b[1;32m     12\u001b[0m \u001b[0;34m\u001b[0m\u001b[0m\n\u001b[1;32m     13\u001b[0m         \u001b[0mmc\u001b[0m\u001b[0;34m.\u001b[0m\u001b[0mset_data\u001b[0m\u001b[0;34m(\u001b[0m\u001b[0mdataDB\u001b[0m\u001b[0;34m.\u001b[0m\u001b[0mdataNeuronal\u001b[0m\u001b[0;34m[\u001b[0m\u001b[0midx\u001b[0m\u001b[0;34m]\u001b[0m\u001b[0;34m,\u001b[0m \u001b[0;34m'rsp'\u001b[0m\u001b[0;34m,\u001b[0m \u001b[0mzscoreDim\u001b[0m\u001b[0;34m=\u001b[0m\u001b[0;34m'p'\u001b[0m\u001b[0;34m)\u001b[0m\u001b[0;34m\u001b[0m\u001b[0m\n\u001b[0;32m---> 14\u001b[0;31m         \u001b[0mrezThis\u001b[0m \u001b[0;34m=\u001b[0m \u001b[0mmc\u001b[0m\u001b[0;34m.\u001b[0m\u001b[0mmetric3D\u001b[0m\u001b[0;34m(\u001b[0m\u001b[0;34m'cross_MI'\u001b[0m\u001b[0;34m,\u001b[0m \u001b[0;34m''\u001b[0m\u001b[0;34m,\u001b[0m \u001b[0mmetricSettings\u001b[0m\u001b[0;34m=\u001b[0m\u001b[0;32mNone\u001b[0m\u001b[0;34m,\u001b[0m \u001b[0msweepSettings\u001b[0m\u001b[0;34m=\u001b[0m\u001b[0;34m{\u001b[0m\u001b[0;34m'lag'\u001b[0m \u001b[0;34m:\u001b[0m \u001b[0mnp\u001b[0m\u001b[0;34m.\u001b[0m\u001b[0marange\u001b[0m\u001b[0;34m(\u001b[0m\u001b[0mmaxLag\u001b[0m\u001b[0;34m)\u001b[0m\u001b[0;34m}\u001b[0m\u001b[0;34m)\u001b[0m\u001b[0;34m\u001b[0m\u001b[0m\n\u001b[0m\u001b[1;32m     15\u001b[0m         \u001b[0mrez\u001b[0m \u001b[0;34m+=\u001b[0m \u001b[0;34m[\u001b[0m\u001b[0mrezThis\u001b[0m\u001b[0;34m]\u001b[0m\u001b[0;34m\u001b[0m\u001b[0m\n\u001b[1;32m     16\u001b[0m \u001b[0;34m\u001b[0m\u001b[0m\n",
      "\u001b[0;32m~/work/git/mesostat-dev/mesostat/metric/metric.py\u001b[0m in \u001b[0;36mmetric3D\u001b[0;34m(self, metricName, dimOrderTrg, metricSettings, sweepSettings)\u001b[0m\n\u001b[1;32m    184\u001b[0m \u001b[0;34m\u001b[0m\u001b[0m\n\u001b[1;32m    185\u001b[0m         \u001b[0msweepGen\u001b[0m \u001b[0;34m=\u001b[0m \u001b[0mSweepGenerator\u001b[0m\u001b[0;34m(\u001b[0m\u001b[0mself\u001b[0m\u001b[0;34m.\u001b[0m\u001b[0mdata\u001b[0m\u001b[0;34m,\u001b[0m \u001b[0mself\u001b[0m\u001b[0;34m.\u001b[0m\u001b[0mdimOrderCanon\u001b[0m\u001b[0;34m,\u001b[0m \u001b[0mdimOrderTrg\u001b[0m\u001b[0;34m,\u001b[0m \u001b[0mtimeWindow\u001b[0m\u001b[0;34m=\u001b[0m\u001b[0mself\u001b[0m\u001b[0;34m.\u001b[0m\u001b[0mtimeWindow\u001b[0m\u001b[0;34m,\u001b[0m \u001b[0msettingsSweep\u001b[0m\u001b[0;34m=\u001b[0m\u001b[0msweepSettings\u001b[0m\u001b[0;34m)\u001b[0m\u001b[0;34m\u001b[0m\u001b[0m\n\u001b[0;32m--> 186\u001b[0;31m         \u001b[0mrez\u001b[0m \u001b[0;34m=\u001b[0m \u001b[0msweepGen\u001b[0m\u001b[0;34m.\u001b[0m\u001b[0munpack\u001b[0m\u001b[0;34m(\u001b[0m\u001b[0mself\u001b[0m\u001b[0;34m.\u001b[0m\u001b[0mmapper\u001b[0m\u001b[0;34m.\u001b[0m\u001b[0mmapMultiArg\u001b[0m\u001b[0;34m(\u001b[0m\u001b[0mwrappedFunc\u001b[0m\u001b[0;34m,\u001b[0m \u001b[0msweepGen\u001b[0m\u001b[0;34m.\u001b[0m\u001b[0miterator\u001b[0m\u001b[0;34m(\u001b[0m\u001b[0;34m)\u001b[0m\u001b[0;34m)\u001b[0m\u001b[0;34m)\u001b[0m\u001b[0;34m\u001b[0m\u001b[0m\n\u001b[0m\u001b[1;32m    187\u001b[0m \u001b[0;34m\u001b[0m\u001b[0m\n\u001b[1;32m    188\u001b[0m         \u001b[0;32mreturn\u001b[0m \u001b[0mself\u001b[0m\u001b[0;34m.\u001b[0m\u001b[0m_postprocess\u001b[0m\u001b[0;34m(\u001b[0m\u001b[0mrez\u001b[0m\u001b[0;34m,\u001b[0m \u001b[0mmetricName\u001b[0m\u001b[0;34m,\u001b[0m \u001b[0mmetricSettings\u001b[0m\u001b[0;34m,\u001b[0m \u001b[0msweepSettings\u001b[0m\u001b[0;34m)\u001b[0m\u001b[0;34m\u001b[0m\u001b[0m\n",
      "\u001b[0;32m~/work/git/mesostat-dev/mesostat/utils/parallel.py\u001b[0m in \u001b[0;36mmapMultiArg\u001b[0;34m(self, f, x)\u001b[0m\n\u001b[1;32m     41\u001b[0m         \u001b[0;31m# Ugly intermediate function to unpack tuple\u001b[0m\u001b[0;34m\u001b[0m\u001b[0;34m\u001b[0m\u001b[0m\n\u001b[1;32m     42\u001b[0m         \u001b[0mf_proxy\u001b[0m \u001b[0;34m=\u001b[0m \u001b[0;32mlambda\u001b[0m \u001b[0mtask\u001b[0m\u001b[0;34m:\u001b[0m \u001b[0mf\u001b[0m\u001b[0;34m(\u001b[0m\u001b[0;34m*\u001b[0m\u001b[0mtask\u001b[0m\u001b[0;34m)\u001b[0m\u001b[0;34m\u001b[0m\u001b[0m\n\u001b[0;32m---> 43\u001b[0;31m         \u001b[0;32mreturn\u001b[0m \u001b[0mself\u001b[0m\u001b[0;34m.\u001b[0m\u001b[0mmap\u001b[0m\u001b[0;34m(\u001b[0m\u001b[0mf_proxy\u001b[0m\u001b[0;34m,\u001b[0m \u001b[0mx\u001b[0m\u001b[0;34m)\u001b[0m\u001b[0;34m\u001b[0m\u001b[0m\n\u001b[0m",
      "\u001b[0;32m~/work/git/mesostat-dev/mesostat/utils/parallel.py\u001b[0m in \u001b[0;36mmap\u001b[0;34m(self, f, x)\u001b[0m\n\u001b[1;32m     31\u001b[0m             \u001b[0mprint\u001b[0m\u001b[0;34m(\u001b[0m\u001b[0;34m\"----Root process\"\u001b[0m\u001b[0;34m,\u001b[0m \u001b[0mself\u001b[0m\u001b[0;34m.\u001b[0m\u001b[0mpid\u001b[0m\u001b[0;34m,\u001b[0m \u001b[0;34m\"started task on\"\u001b[0m\u001b[0;34m,\u001b[0m \u001b[0mself\u001b[0m\u001b[0;34m.\u001b[0m\u001b[0mnCore\u001b[0m\u001b[0;34m,\u001b[0m \u001b[0;34m\"cores----\"\u001b[0m\u001b[0;34m)\u001b[0m\u001b[0;34m\u001b[0m\u001b[0m\n\u001b[1;32m     32\u001b[0m \u001b[0;34m\u001b[0m\u001b[0m\n\u001b[0;32m---> 33\u001b[0;31m         \u001b[0mrez\u001b[0m \u001b[0;34m=\u001b[0m \u001b[0mself\u001b[0m\u001b[0;34m.\u001b[0m\u001b[0mmap_func\u001b[0m\u001b[0;34m(\u001b[0m\u001b[0mf\u001b[0m\u001b[0;34m,\u001b[0m \u001b[0mx\u001b[0m\u001b[0;34m)\u001b[0m\u001b[0;34m\u001b[0m\u001b[0m\n\u001b[0m\u001b[1;32m     34\u001b[0m \u001b[0;34m\u001b[0m\u001b[0m\n\u001b[1;32m     35\u001b[0m         \u001b[0;32mif\u001b[0m \u001b[0mself\u001b[0m\u001b[0;34m.\u001b[0m\u001b[0mverbose\u001b[0m\u001b[0;34m:\u001b[0m\u001b[0;34m\u001b[0m\u001b[0m\n",
      "\u001b[0;32m~/work/git/mesostat-dev/mesostat/utils/parallel.py\u001b[0m in \u001b[0;36m<lambda>\u001b[0;34m(f, x)\u001b[0m\n\u001b[1;32m     13\u001b[0m         \u001b[0;32mif\u001b[0m \u001b[0mserial\u001b[0m\u001b[0;34m:\u001b[0m\u001b[0;34m\u001b[0m\u001b[0m\n\u001b[1;32m     14\u001b[0m             \u001b[0mself\u001b[0m\u001b[0;34m.\u001b[0m\u001b[0mnCore\u001b[0m \u001b[0;34m=\u001b[0m \u001b[0;36m1\u001b[0m\u001b[0;34m\u001b[0m\u001b[0m\n\u001b[0;32m---> 15\u001b[0;31m             \u001b[0mself\u001b[0m\u001b[0;34m.\u001b[0m\u001b[0mmap_func\u001b[0m \u001b[0;34m=\u001b[0m \u001b[0;32mlambda\u001b[0m \u001b[0mf\u001b[0m\u001b[0;34m,\u001b[0m\u001b[0mx\u001b[0m\u001b[0;34m:\u001b[0m \u001b[0mlist\u001b[0m\u001b[0;34m(\u001b[0m\u001b[0mmap\u001b[0m\u001b[0;34m(\u001b[0m\u001b[0mf\u001b[0m\u001b[0;34m,\u001b[0m \u001b[0mx\u001b[0m\u001b[0;34m)\u001b[0m\u001b[0;34m)\u001b[0m\u001b[0;34m\u001b[0m\u001b[0m\n\u001b[0m\u001b[1;32m     16\u001b[0m         \u001b[0;32melse\u001b[0m\u001b[0;34m:\u001b[0m\u001b[0;34m\u001b[0m\u001b[0m\n\u001b[1;32m     17\u001b[0m             \u001b[0mself\u001b[0m\u001b[0;34m.\u001b[0m\u001b[0mnCore\u001b[0m \u001b[0;34m=\u001b[0m \u001b[0mnCore\u001b[0m \u001b[0;32mif\u001b[0m \u001b[0mnCore\u001b[0m \u001b[0;32mis\u001b[0m \u001b[0;32mnot\u001b[0m \u001b[0;32mNone\u001b[0m \u001b[0;32melse\u001b[0m \u001b[0mpathos\u001b[0m\u001b[0;34m.\u001b[0m\u001b[0mmultiprocessing\u001b[0m\u001b[0;34m.\u001b[0m\u001b[0mcpu_count\u001b[0m\u001b[0;34m(\u001b[0m\u001b[0;34m)\u001b[0m \u001b[0;34m-\u001b[0m \u001b[0;36m1\u001b[0m\u001b[0;34m\u001b[0m\u001b[0m\n",
      "\u001b[0;32m~/work/git/mesostat-dev/mesostat/utils/parallel.py\u001b[0m in \u001b[0;36m<lambda>\u001b[0;34m(task)\u001b[0m\n\u001b[1;32m     40\u001b[0m     \u001b[0;32mdef\u001b[0m \u001b[0mmapMultiArg\u001b[0m\u001b[0;34m(\u001b[0m\u001b[0mself\u001b[0m\u001b[0;34m,\u001b[0m \u001b[0mf\u001b[0m\u001b[0;34m,\u001b[0m \u001b[0mx\u001b[0m\u001b[0;34m)\u001b[0m\u001b[0;34m:\u001b[0m\u001b[0;34m\u001b[0m\u001b[0m\n\u001b[1;32m     41\u001b[0m         \u001b[0;31m# Ugly intermediate function to unpack tuple\u001b[0m\u001b[0;34m\u001b[0m\u001b[0;34m\u001b[0m\u001b[0m\n\u001b[0;32m---> 42\u001b[0;31m         \u001b[0mf_proxy\u001b[0m \u001b[0;34m=\u001b[0m \u001b[0;32mlambda\u001b[0m \u001b[0mtask\u001b[0m\u001b[0;34m:\u001b[0m \u001b[0mf\u001b[0m\u001b[0;34m(\u001b[0m\u001b[0;34m*\u001b[0m\u001b[0mtask\u001b[0m\u001b[0;34m)\u001b[0m\u001b[0;34m\u001b[0m\u001b[0m\n\u001b[0m\u001b[1;32m     43\u001b[0m         \u001b[0;32mreturn\u001b[0m \u001b[0mself\u001b[0m\u001b[0;34m.\u001b[0m\u001b[0mmap\u001b[0m\u001b[0;34m(\u001b[0m\u001b[0mf_proxy\u001b[0m\u001b[0;34m,\u001b[0m \u001b[0mx\u001b[0m\u001b[0;34m)\u001b[0m\u001b[0;34m\u001b[0m\u001b[0m\n",
      "\u001b[0;32m~/work/git/mesostat-dev/mesostat/metric/metric.py\u001b[0m in \u001b[0;36m<lambda>\u001b[0;34m(data, settings)\u001b[0m\n\u001b[1;32m    181\u001b[0m             \u001b[0mmetricSettings\u001b[0m \u001b[0;34m=\u001b[0m \u001b[0;34m{\u001b[0m\u001b[0;34m}\u001b[0m\u001b[0;34m\u001b[0m\u001b[0m\n\u001b[1;32m    182\u001b[0m         \u001b[0mmetricFunc\u001b[0m \u001b[0;34m=\u001b[0m \u001b[0mself\u001b[0m\u001b[0;34m.\u001b[0m\u001b[0mmetricDict\u001b[0m\u001b[0;34m[\u001b[0m\u001b[0mmetricName\u001b[0m\u001b[0;34m]\u001b[0m\u001b[0;34m\u001b[0m\u001b[0m\n\u001b[0;32m--> 183\u001b[0;31m         \u001b[0mwrappedFunc\u001b[0m \u001b[0;34m=\u001b[0m \u001b[0;32mlambda\u001b[0m \u001b[0mdata\u001b[0m\u001b[0;34m,\u001b[0m \u001b[0msettings\u001b[0m\u001b[0;34m:\u001b[0m \u001b[0mmetricFunc\u001b[0m\u001b[0;34m(\u001b[0m\u001b[0mdata\u001b[0m\u001b[0;34m,\u001b[0m \u001b[0;34m{\u001b[0m\u001b[0;34m**\u001b[0m\u001b[0msettings\u001b[0m\u001b[0;34m,\u001b[0m \u001b[0;34m**\u001b[0m\u001b[0mmetricSettings\u001b[0m\u001b[0;34m}\u001b[0m\u001b[0;34m)\u001b[0m\u001b[0;34m\u001b[0m\u001b[0m\n\u001b[0m\u001b[1;32m    184\u001b[0m \u001b[0;34m\u001b[0m\u001b[0m\n\u001b[1;32m    185\u001b[0m         \u001b[0msweepGen\u001b[0m \u001b[0;34m=\u001b[0m \u001b[0mSweepGenerator\u001b[0m\u001b[0;34m(\u001b[0m\u001b[0mself\u001b[0m\u001b[0;34m.\u001b[0m\u001b[0mdata\u001b[0m\u001b[0;34m,\u001b[0m \u001b[0mself\u001b[0m\u001b[0;34m.\u001b[0m\u001b[0mdimOrderCanon\u001b[0m\u001b[0;34m,\u001b[0m \u001b[0mdimOrderTrg\u001b[0m\u001b[0;34m,\u001b[0m \u001b[0mtimeWindow\u001b[0m\u001b[0;34m=\u001b[0m\u001b[0mself\u001b[0m\u001b[0;34m.\u001b[0m\u001b[0mtimeWindow\u001b[0m\u001b[0;34m,\u001b[0m \u001b[0msettingsSweep\u001b[0m\u001b[0;34m=\u001b[0m\u001b[0msweepSettings\u001b[0m\u001b[0;34m)\u001b[0m\u001b[0;34m\u001b[0m\u001b[0m\n",
      "\u001b[0;32m~/work/git/mesostat-dev/mesostat/metric/npeet.py\u001b[0m in \u001b[0;36mcross_mi_3D\u001b[0;34m(data, settings)\u001b[0m\n\u001b[1;32m     83\u001b[0m             \u001b[0;32mfor\u001b[0m \u001b[0mi\u001b[0m \u001b[0;32min\u001b[0m \u001b[0mrange\u001b[0m\u001b[0;34m(\u001b[0m\u001b[0mnProcess\u001b[0m\u001b[0;34m)\u001b[0m\u001b[0;34m:\u001b[0m\u001b[0;34m\u001b[0m\u001b[0m\n\u001b[1;32m     84\u001b[0m                 \u001b[0;32mfor\u001b[0m \u001b[0mj\u001b[0m \u001b[0;32min\u001b[0m \u001b[0mrange\u001b[0m\u001b[0;34m(\u001b[0m\u001b[0mnProcess\u001b[0m\u001b[0;34m)\u001b[0m\u001b[0;34m:\u001b[0m\u001b[0;34m\u001b[0m\u001b[0m\n\u001b[0;32m---> 85\u001b[0;31m                     \u001b[0mrez\u001b[0m\u001b[0;34m[\u001b[0m\u001b[0mi\u001b[0m\u001b[0;34m]\u001b[0m\u001b[0;34m[\u001b[0m\u001b[0mj\u001b[0m\u001b[0;34m]\u001b[0m \u001b[0;34m=\u001b[0m \u001b[0mee\u001b[0m\u001b[0;34m.\u001b[0m\u001b[0mmi\u001b[0m\u001b[0;34m(\u001b[0m\u001b[0mxx\u001b[0m\u001b[0;34m[\u001b[0m\u001b[0mi\u001b[0m\u001b[0;34m]\u001b[0m\u001b[0;34m,\u001b[0m \u001b[0myy\u001b[0m\u001b[0;34m[\u001b[0m\u001b[0mj\u001b[0m\u001b[0;34m]\u001b[0m\u001b[0;34m)\u001b[0m\u001b[0;34m\u001b[0m\u001b[0m\n\u001b[0m\u001b[1;32m     86\u001b[0m         \u001b[0;32melse\u001b[0m\u001b[0;34m:\u001b[0m\u001b[0;34m\u001b[0m\u001b[0m\n\u001b[1;32m     87\u001b[0m             \u001b[0;31m# Optimization - take advantage of symmetry\u001b[0m\u001b[0;34m\u001b[0m\u001b[0;34m\u001b[0m\u001b[0m\n",
      "\u001b[0;32m~/Downloads/NPEET/npeet/entropy_estimators.py\u001b[0m in \u001b[0;36mmi\u001b[0;34m(x, y, z, k, base, alpha)\u001b[0m\n\u001b[1;32m     80\u001b[0m     \u001b[0mdvec\u001b[0m \u001b[0;34m=\u001b[0m \u001b[0mquery_neighbors\u001b[0m\u001b[0;34m(\u001b[0m\u001b[0mtree\u001b[0m\u001b[0;34m,\u001b[0m \u001b[0mpoints\u001b[0m\u001b[0;34m,\u001b[0m \u001b[0mk\u001b[0m\u001b[0;34m)\u001b[0m\u001b[0;34m\u001b[0m\u001b[0m\n\u001b[1;32m     81\u001b[0m     \u001b[0;32mif\u001b[0m \u001b[0mz\u001b[0m \u001b[0;32mis\u001b[0m \u001b[0;32mNone\u001b[0m\u001b[0;34m:\u001b[0m\u001b[0;34m\u001b[0m\u001b[0m\n\u001b[0;32m---> 82\u001b[0;31m         a, b, c, d = avgdigamma(x, dvec), avgdigamma(\n\u001b[0m\u001b[1;32m     83\u001b[0m             y, dvec), digamma(k), digamma(len(x))\n\u001b[1;32m     84\u001b[0m         \u001b[0;32mif\u001b[0m \u001b[0malpha\u001b[0m \u001b[0;34m>\u001b[0m \u001b[0;36m0\u001b[0m\u001b[0;34m:\u001b[0m\u001b[0;34m\u001b[0m\u001b[0m\n",
      "\u001b[0;32m~/Downloads/NPEET/npeet/entropy_estimators.py\u001b[0m in \u001b[0;36mavgdigamma\u001b[0;34m(points, dvec)\u001b[0m\n\u001b[1;32m    272\u001b[0m     \u001b[0;31m# This part finds number of neighbors in some radius in the marginal space\u001b[0m\u001b[0;34m\u001b[0m\u001b[0;34m\u001b[0m\u001b[0m\n\u001b[1;32m    273\u001b[0m     \u001b[0;31m# returns expectation value of <psi(nx)>\u001b[0m\u001b[0;34m\u001b[0m\u001b[0;34m\u001b[0m\u001b[0m\n\u001b[0;32m--> 274\u001b[0;31m     \u001b[0mtree\u001b[0m \u001b[0;34m=\u001b[0m \u001b[0mbuild_tree\u001b[0m\u001b[0;34m(\u001b[0m\u001b[0mpoints\u001b[0m\u001b[0;34m)\u001b[0m\u001b[0;34m\u001b[0m\u001b[0m\n\u001b[0m\u001b[1;32m    275\u001b[0m     \u001b[0mdvec\u001b[0m \u001b[0;34m=\u001b[0m \u001b[0mdvec\u001b[0m \u001b[0;34m-\u001b[0m \u001b[0;36m1e-15\u001b[0m\u001b[0;34m\u001b[0m\u001b[0m\n\u001b[1;32m    276\u001b[0m     \u001b[0mnum_points\u001b[0m \u001b[0;34m=\u001b[0m \u001b[0mcount_neighbors\u001b[0m\u001b[0;34m(\u001b[0m\u001b[0mtree\u001b[0m\u001b[0;34m,\u001b[0m \u001b[0mpoints\u001b[0m\u001b[0;34m,\u001b[0m \u001b[0mdvec\u001b[0m\u001b[0;34m)\u001b[0m\u001b[0;34m\u001b[0m\u001b[0m\n",
      "\u001b[0;32m~/Downloads/NPEET/npeet/entropy_estimators.py\u001b[0m in \u001b[0;36mbuild_tree\u001b[0;34m(points)\u001b[0m\n\u001b[1;32m    281\u001b[0m     \u001b[0;32mif\u001b[0m \u001b[0mpoints\u001b[0m\u001b[0;34m.\u001b[0m\u001b[0mshape\u001b[0m\u001b[0;34m[\u001b[0m\u001b[0;36m1\u001b[0m\u001b[0;34m]\u001b[0m \u001b[0;34m>=\u001b[0m \u001b[0;36m20\u001b[0m\u001b[0;34m:\u001b[0m\u001b[0;34m\u001b[0m\u001b[0m\n\u001b[1;32m    282\u001b[0m         \u001b[0;32mreturn\u001b[0m \u001b[0mBallTree\u001b[0m\u001b[0;34m(\u001b[0m\u001b[0mpoints\u001b[0m\u001b[0;34m,\u001b[0m \u001b[0mmetric\u001b[0m\u001b[0;34m=\u001b[0m\u001b[0;34m'chebyshev'\u001b[0m\u001b[0;34m)\u001b[0m\u001b[0;34m\u001b[0m\u001b[0m\n\u001b[0;32m--> 283\u001b[0;31m     \u001b[0;32mreturn\u001b[0m \u001b[0mKDTree\u001b[0m\u001b[0;34m(\u001b[0m\u001b[0mpoints\u001b[0m\u001b[0;34m,\u001b[0m \u001b[0mmetric\u001b[0m\u001b[0;34m=\u001b[0m\u001b[0;34m'chebyshev'\u001b[0m\u001b[0;34m)\u001b[0m\u001b[0;34m\u001b[0m\u001b[0m\n\u001b[0m\u001b[1;32m    284\u001b[0m \u001b[0;34m\u001b[0m\u001b[0m\n\u001b[1;32m    285\u001b[0m \u001b[0;31m# TESTS\u001b[0m\u001b[0;34m\u001b[0m\u001b[0;34m\u001b[0m\u001b[0m\n",
      "\u001b[0;31mKeyboardInterrupt\u001b[0m: "
     ]
    }
   ],
   "source": [
    "maxLag = 5\n",
    "mc = MetricCalculator(serial=True, verbose=False)\n",
    "\n",
    "fig, ax = plt.subplots(ncols=len(dataDB.mice), figsize=(5 * len(dataDB.mice), 5), tight_layout=True)\n",
    "for iMouse, mousename in enumerate(sorted(dataDB.mice)):\n",
    "    rows = dataDB.get_rows('neuro', {'mousename' : mousename})\n",
    "    \n",
    "    rez = []\n",
    "    for idx, row in rows.iterrows():\n",
    "        t = time()\n",
    "        print(row['mousekey'], end='')\n",
    "        \n",
    "        mc.set_data(dataDB.dataNeuronal[idx], 'rsp', zscoreDim='p')\n",
    "        rezThis = mc.metric3D('cross_MI', '', metricSettings=None, sweepSettings={'lag' : np.arange(maxLag)})\n",
    "        rez += [rezThis]\n",
    "        \n",
    "        print('; took time', time()-t)\n",
    "        \n",
    "    # Average over sessions\n",
    "    rezMean = np.mean(rez, axis=0)\n",
    "    rezMean = np.array([offdiag_1D(r) for r in rezMean])\n",
    "    rezArgMax = np.argmax(np.abs(rezMean), axis=0)\n",
    "    rezMax = np.max(np.abs(rezMean), axis=0)\n",
    "    \n",
    "    thrCut = np.quantile(rezMax, 0.8)\n",
    "    idxCut = rezMax > thrCut\n",
    "    \n",
    "    print(mousename, np.min(rez), np.max(rez))\n",
    "        \n",
    "    ax[iMouse].set_title(mousename + ' @ corr > ' + str(np.round(thrCut, 2)))\n",
    "#     ax[iMouse].plot(rezMax[idxCut], rezArgMax[idxCut], '.')\n",
    "    ax[iMouse].hist(rezArgMax[idxCut], bins=np.arange(maxLag)-0.5, density=True)\n",
    "    ax[iMouse].set_ylim([0, 1])\n",
    "    plt.show()\n",
    "plt.show()"
   ]
  },
  {
   "cell_type": "code",
   "execution_count": null,
   "metadata": {},
   "outputs": [],
   "source": []
  }
 ],
 "metadata": {
  "kernelspec": {
   "display_name": "Python (nest)",
   "language": "python",
   "name": "py36nest"
  },
  "language_info": {
   "codemirror_mode": {
    "name": "ipython",
    "version": 3
   },
   "file_extension": ".py",
   "mimetype": "text/x-python",
   "name": "python",
   "nbconvert_exporter": "python",
   "pygments_lexer": "ipython3",
   "version": "3.6.6"
  }
 },
 "nbformat": 4,
 "nbformat_minor": 2
}

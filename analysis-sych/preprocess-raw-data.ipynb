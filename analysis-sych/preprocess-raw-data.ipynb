{
 "cells": [
  {
   "cell_type": "code",
   "execution_count": null,
   "metadata": {},
   "outputs": [],
   "source": [
    "# Standard libraries\n",
    "import h5py\n",
    "import numpy as np\n",
    "import pandas as pd\n",
    "import matplotlib.pyplot as plt\n",
    "from ipywidgets import IntProgress\n",
    "from IPython.display import display\n",
    "\n",
    "# Append base directory\n",
    "import os,sys,inspect\n",
    "rootname = \"pub-2020-exploratory-analysis\"\n",
    "thispath = os.path.dirname(os.path.abspath(inspect.getfile(inspect.currentframe())))\n",
    "rootpath = os.path.join(thispath[:thispath.index(rootname)], rootname)\n",
    "sys.path.append(rootpath)\n",
    "print(\"Appended root directory\", rootpath)\n",
    "\n",
    "from mesostat.utils.qt_helper import gui_fnames, gui_fpath\n",
    "\n",
    "import lib.sych.preprocess_raw as prep\n",
    "\n",
    "%load_ext autoreload\n",
    "%autoreload 2"
   ]
  },
  {
   "cell_type": "markdown",
   "metadata": {},
   "source": [
    "# Pooling Data From LVM"
   ]
  },
  {
   "cell_type": "code",
   "execution_count": null,
   "metadata": {
    "collapsed": true
   },
   "outputs": [],
   "source": [
    "# fpathData = gui_fpath(\"Root directory for raw data\", \"./\")\n",
    "fpathData = '/mnt/neurophys-storage2/Sych/Yaro/data_raw/'\n",
    "# fpathData = '/run/user/1000/gvfs/smb-share:server=130.60.51.15,share=neurophysiology-storage2/Sych/Yaro/data_raw'"
   ]
  },
  {
   "cell_type": "code",
   "execution_count": null,
   "metadata": {
    "collapsed": true
   },
   "outputs": [],
   "source": [
    "dfFiles = prep.raw_pool_data(fpathData)\n",
    "dfFiles"
   ]
  },
  {
   "cell_type": "code",
   "execution_count": null,
   "metadata": {
    "collapsed": true
   },
   "outputs": [],
   "source": [
    "prep.pool_raw_data(dfFiles)"
   ]
  },
  {
   "cell_type": "markdown",
   "metadata": {},
   "source": [
    "# Moving all datasets to data group"
   ]
  },
  {
   "cell_type": "code",
   "execution_count": null,
   "metadata": {
    "collapsed": true
   },
   "outputs": [],
   "source": [
    "# fpathDataH5 = gui_fpath(\"Directory for data files\", \"./\")\n",
    "fpathDataH5 = '/media/aleksejs/DataHDD/work/codes/comp-neuro/analysis-mesoscopic/pub-2020-exploratory-analysis/analysis-sych'"
   ]
  },
  {
   "cell_type": "code",
   "execution_count": null,
   "metadata": {
    "collapsed": true
   },
   "outputs": [],
   "source": [
    "dfRawH5 = prep.pooled_get_files_df(fpathDataH5)"
   ]
  },
  {
   "cell_type": "code",
   "execution_count": null,
   "metadata": {},
   "outputs": [],
   "source": [
    "dfRawH5"
   ]
  },
  {
   "cell_type": "code",
   "execution_count": null,
   "metadata": {
    "collapsed": true
   },
   "outputs": [],
   "source": [
    "prep.pooled_move_data_subfolder(dfRawH5)"
   ]
  },
  {
   "cell_type": "code",
   "execution_count": null,
   "metadata": {
    "scrolled": true
   },
   "outputs": [],
   "source": [
    "prep.pooled_move_sanity_check(dfRawH5)"
   ]
  },
  {
   "cell_type": "markdown",
   "metadata": {},
   "source": [
    "# Mark Starts and ends of Trials"
   ]
  },
  {
   "cell_type": "code",
   "execution_count": null,
   "metadata": {
    "collapsed": true,
    "scrolled": true
   },
   "outputs": [],
   "source": [
    "pooled_mark_trial_starts_ends(dfRawH5)"
   ]
  },
  {
   "cell_type": "markdown",
   "metadata": {},
   "source": [
    "# Appending Channel Labels"
   ]
  },
  {
   "cell_type": "code",
   "execution_count": null,
   "metadata": {
    "collapsed": true
   },
   "outputs": [],
   "source": [
    "# fpathDataOrig = gui_fpath(\"Directory for original data tree\", \"./\")\n",
    "fpathDataOrig = '/media/aleksejs/DataHDD/work/data/yaro/neuronal/mvg48'"
   ]
  },
  {
   "cell_type": "code",
   "execution_count": null,
   "metadata": {
    "collapsed": true
   },
   "outputs": [],
   "source": [
    "dfLabels = prep.channel_labels_get_files_df(fpathDataOrig)\n",
    "dfLabels"
   ]
  },
  {
   "cell_type": "code",
   "execution_count": null,
   "metadata": {
    "collapsed": true
   },
   "outputs": [],
   "source": [
    "pooled_mark_channel_labels(dfRawH5, dfLabels)"
   ]
  },
  {
   "cell_type": "markdown",
   "metadata": {},
   "source": [
    "# Adding behaviour\n",
    "\n",
    "**Problems/Bugs**:\n",
    "1. [early_go_trials, iGO_inhibition] overlap - within this framework could be solved by multiplexing enum\n",
    "2. mvg_8_2018_11_22_a has 406 trials in behaviour but only 142 in neuro - crop to neuro\n",
    "\n",
    "**TODO**:\n",
    "1. Crop trial start/end to match behaviour\n",
    "2. Drop some trials if Yaro says so"
   ]
  },
  {
   "cell_type": "code",
   "execution_count": null,
   "metadata": {
    "collapsed": true
   },
   "outputs": [],
   "source": [
    "prep.orig_neuro_get_files_df(fpath)"
   ]
  },
  {
   "cell_type": "code",
   "execution_count": null,
   "metadata": {
    "collapsed": true
   },
   "outputs": [],
   "source": [
    "# dfNeuro = get_files_orig_neuro_df(fpathDataOrig)\n",
    "dfNeuro = get_files_orig_neuro_df(fpathData)\n",
    "dfNeuro"
   ]
  },
  {
   "cell_type": "code",
   "execution_count": null,
   "metadata": {
    "collapsed": true,
    "scrolled": true
   },
   "outputs": [],
   "source": [
    "prep.pooled_mark_trial_types(dfRawH5, dfNeuro)"
   ]
  },
  {
   "cell_type": "markdown",
   "metadata": {
    "collapsed": true
   },
   "source": [
    "# Cropping starts and ends of trials to match behaviour"
   ]
  },
  {
   "cell_type": "code",
   "execution_count": null,
   "metadata": {
    "scrolled": true
   },
   "outputs": [],
   "source": [
    "prep.pooled_trunc_trial_starts_ntrials(dfRawH5)"
   ]
  },
  {
   "cell_type": "markdown",
   "metadata": {},
   "source": [
    "# Testing trial length sensibility"
   ]
  },
  {
   "cell_type": "code",
   "execution_count": 39,
   "metadata": {
    "scrolled": true
   },
   "outputs": [],
   "source": [
    "prep.pooled_trial_length_summary_excel(dfRawH5)"
   ]
  },
  {
   "attachments": {},
   "cell_type": "markdown",
   "metadata": {},
   "source": [
    "# Pulling Trial Durations From Behaviour Files\n",
    "\n",
    "Bad sessions:\n",
    "* mvg_4_2017_11_10_a\n",
    "* mvg_8_2018_11_22_a\n",
    "* mvg_8_2018_11_23_a\n",
    "* mvg_8_2018_12_06_a\n",
    "* mvg_8_2019_02_04_a\n",
    "* mvg_9_2019_03_09_a\n",
    "* mvg_9_2019_03_10_a\n",
    "* mvg_9_2019_03_12_a\n",
    "* mvg_9_2019_03_13_a"
   ]
  },
  {
   "cell_type": "code",
   "execution_count": null,
   "metadata": {},
   "outputs": [],
   "source": [
    "dfBehavTiming = prep.behav_timing_get_files_df(fpathData)\n",
    "dfBehavTiming"
   ]
  },
  {
   "cell_type": "code",
   "execution_count": null,
   "metadata": {
    "scrolled": true
   },
   "outputs": [],
   "source": [
    "prep.behav_timing_read_get_trial_lengths(dfRawH5, dfBehavTiming)"
   ]
  },
  {
   "cell_type": "code",
   "execution_count": 40,
   "metadata": {
    "scrolled": false
   },
   "outputs": [],
   "source": [
    "prep.behav_timing_compare_neuro(dfRawH5)"
   ]
  },
  {
   "cell_type": "markdown",
   "metadata": {},
   "source": [
    "# Background Subtraction"
   ]
  },
  {
   "cell_type": "code",
   "execution_count": null,
   "metadata": {
    "collapsed": true,
    "scrolled": false
   },
   "outputs": [],
   "source": [
    "prep.pooled_plot_background_polyfit_residuals(dfRawH5, ordMax=8)"
   ]
  },
  {
   "cell_type": "markdown",
   "metadata": {},
   "source": [
    "# Baseline Normalization\n",
    "\n",
    "* ZScore (Trial/Session-wise)\n",
    "* Pre-trial mean estimate (Trial/Session-wise)"
   ]
  },
  {
   "cell_type": "code",
   "execution_count": null,
   "metadata": {
    "collapsed": true
   },
   "outputs": [],
   "source": []
  }
 ],
 "metadata": {
  "kernelspec": {
   "display_name": "Python (py36qt5)",
   "language": "python",
   "name": "py36qt5"
  },
  "language_info": {
   "codemirror_mode": {
    "name": "ipython",
    "version": 3
   },
   "file_extension": ".py",
   "mimetype": "text/x-python",
   "name": "python",
   "nbconvert_exporter": "python",
   "pygments_lexer": "ipython3",
   "version": "3.6.4"
  }
 },
 "nbformat": 4,
 "nbformat_minor": 2
}

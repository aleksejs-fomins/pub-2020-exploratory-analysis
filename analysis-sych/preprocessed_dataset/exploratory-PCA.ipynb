{
 "cells": [
  {
   "cell_type": "code",
   "execution_count": null,
   "metadata": {},
   "outputs": [],
   "source": [
    "# Standard libraries\n",
    "import numpy as np\n",
    "import pandas as pd\n",
    "import matplotlib.pyplot as plt\n",
    "from ipywidgets import IntProgress\n",
    "from IPython.display import display\n",
    "\n",
    "import statsmodels.api as sm\n",
    "from statsmodels.formula.api import ols\n",
    "\n",
    "# Append base directory\n",
    "import os,sys,inspect\n",
    "rootname = \"pub-2020-exploratory-analysis\"\n",
    "thispath = os.path.dirname(os.path.abspath(inspect.getfile(inspect.currentframe())))\n",
    "rootpath = os.path.join(thispath[:thispath.index(rootname)], rootname)\n",
    "sys.path.append(rootpath)\n",
    "print(\"Appended root directory\", rootpath)\n",
    "\n",
    "from mesostat.utils.qt_helper import gui_fnames, gui_fpath\n",
    "from mesostat.metric.metric import MetricCalculator\n",
    "from mesostat.utils.hdf5_io import DataStorage\n",
    "\n",
    "from lib.sych.data_fc_db_raw import DataFCDatabase\n",
    "\n",
    "%load_ext autoreload\n",
    "%autoreload 2"
   ]
  },
  {
   "cell_type": "code",
   "execution_count": null,
   "metadata": {
    "collapsed": true
   },
   "outputs": [],
   "source": [
    "# tmp_path = root_path_data if 'root_path_data' in locals() else \"./\"\n",
    "params = {}\n",
    "# params['root_path_data'] = './'\n",
    "# params['root_path_data'] = '/media/alyosha/Data/TE_data/yarodata/sych_preprocessed'\n",
    "params['root_path_data'] = '/media/aleksejs/DataHDD/work/data/yaro/neuronal-raw-pooled'\n",
    "# params['root_path_data'] = gui_fpath('h5path', './')"
   ]
  },
  {
   "cell_type": "code",
   "execution_count": null,
   "metadata": {},
   "outputs": [],
   "source": [
    "dataDB = DataFCDatabase(params)"
   ]
  },
  {
   "cell_type": "code",
   "execution_count": null,
   "metadata": {
    "collapsed": true
   },
   "outputs": [],
   "source": [
    "mc = MetricCalculator(serial=True, verbose=False)"
   ]
  },
  {
   "cell_type": "code",
   "execution_count": null,
   "metadata": {},
   "outputs": [],
   "source": [
    "print(dataDB.mice)\n",
    "print(dataDB.dataTypes)\n",
    "print(dataDB.trialTypeNames)"
   ]
  },
  {
   "cell_type": "markdown",
   "metadata": {},
   "source": [
    "# PCA Analysis\n",
    "\n",
    "\n",
    "Tasks\n",
    "  * Explained variance by phase/session/mouse/trialType\n",
    "     * Do not separate phases, its meaningless. Compute PCA for all timesteps, then see proj differences for phases\n",
    "     * Implement HAC correction\n",
    "\n",
    "  * Global PCA shifts vs session\n",
    "\n",
    "Approaches:\n",
    "  * Eval PCA over all data, select strongest components, plot components as function of cofound\n",
    "  * Eval PCA for cofounds, compare PCA"
   ]
  },
  {
   "cell_type": "code",
   "execution_count": null,
   "metadata": {
    "scrolled": false
   },
   "outputs": [],
   "source": [
    "from sklearn.decomposition import PCA\n",
    "from mesostat.visualization.mpl_matrix import imshow\n",
    "\n",
    "\n",
    "intervDict = {\n",
    "    \"TEX\" : [3, 3.5],\n",
    "    \"REW\" : [6, 6.5]\n",
    "}\n",
    "\n",
    "\n",
    "def calc_plot_pca_alignment_bymouse():\n",
    "    nMouse = len(dataDB.mice)\n",
    "    mice = sorted(dataDB.mice)\n",
    "    \n",
    "    for datatype in ['bn_trial', 'bn_session']:\n",
    "        fig1, ax1 = plt.subplots(ncols=2, figsize=(8, 4))\n",
    "        fig2, ax2 = plt.subplots(nrows=nMouse, ncols=nMouse, figsize=(4*nMouse, 4*nMouse))\n",
    "        \n",
    "        compLst = []\n",
    "        varLst = []\n",
    "        for mousename in sorted(dataDB.mice):            \n",
    "            dataRSP = dataDB.get_neuro_data({'mousename' : mousename}, trialType='iGO')\n",
    "            dataRSP = np.concatenate(dataRSP, axis=0)\n",
    "            dataRP = np.concatenate(dataRSP, axis=0)   # Use timesteps as samples\n",
    "\n",
    "            pca = PCA(n_components=dataRP.shape[1])\n",
    "            pca.fit(dataRP)\n",
    "            ax1[0].semilogy(pca.explained_variance_ratio_, label=mousename)\n",
    "\n",
    "            compLst += [np.copy(pca.components_)]\n",
    "            varLst += [np.sqrt(pca.explained_variance_ratio_)]\n",
    "\n",
    "        # Compute pca_alignment coefficient\n",
    "        matAlign = np.zeros((nMouse, nMouse))\n",
    "        for iMouse in range(nMouse):\n",
    "            for jMouse in range(nMouse):\n",
    "                matVar = np.outer(varLst[iMouse], varLst[jMouse])\n",
    "                matComp = np.abs(compLst[iMouse].dot(compLst[jMouse].T))\n",
    "                matTot = matVar * matComp**2\n",
    "                matAlign[iMouse, jMouse] = np.sum(matTot)\n",
    "                \n",
    "                print(np.sum(matComp**2))\n",
    "                \n",
    "                ax2[iMouse, jMouse].imshow(matComp, vmin=0, vmax=1)\n",
    "                \n",
    "        ax1[0].set_xlabel('PCA')\n",
    "        ax1[0].set_ylabel('Explained Variance')\n",
    "\n",
    "        imshow(fig1, ax1[1], matAlign, limits=[0,1], title='PCA alignment',\n",
    "               xTicks=mice, yTicks=mice, haveColorBar=True, cmap='jet')\n",
    "\n",
    "        ax1[0].legend()\n",
    "        plt.show()\n",
    "\n",
    "#             for session in dataDB.get_sessions(mousename):\n",
    "\n",
    "\n",
    "def calc_plot_pca_exp_var():\n",
    "    for datatype in ['bn_trial', 'bn_session']:\n",
    "        for mousename in sorted(dataDB.mice):\n",
    "            fig, ax = plt.subplots(ncols=2, figsize=(8, 4))\n",
    "            ax[0].set_title(mousename + '_' + datatype)\n",
    "            \n",
    "            compLst = []\n",
    "            varLst = []\n",
    "            \n",
    "            for intervName, interv in intervDict.items():\n",
    "                dataRSP = dataDB.get_neuro_data({'mousename' : mousename}, cropTime=interv, trialType='iGO')\n",
    "                dataRSP = np.concatenate(dataRSP, axis=0)\n",
    "                dataRP = np.mean(dataRSP, axis=1)\n",
    "\n",
    "                pca = PCA(n_components=dataRP.shape[1])\n",
    "                pca.fit(dataRP)\n",
    "                ax[0].semilogy(pca.explained_variance_ratio_, label=intervName)\n",
    "                \n",
    "                compLst += [np.copy(pca.components_)]\n",
    "                varLst += [np.copy(pca.explained_variance_ratio_)]\n",
    "        \n",
    "                '''\n",
    "                    TODO: How to use PCA of X to compute explained variance for Y ???\n",
    "                '''\n",
    "\n",
    "            # \n",
    "            matVar = np.outer(varLst[0], varLst[1])\n",
    "            matComp = np.abs(compLst[0].dot(compLst[1].T))\n",
    "            matTot = matVar * matComp\n",
    "            print(np.sum(matTot))\n",
    "            \n",
    "            img = ax[1].imshow(matComp, vmin=0, vmax=1)\n",
    "            imshow_add_color_bar(fig, ax[1], img)\n",
    "            ax[0].legend()\n",
    "            plt.show()\n",
    "\n",
    "#             for session in dataDB.get_sessions(mousename):\n",
    "                \n",
    "                \n",
    "# calc_plot_pca_exp_var()\n",
    "calc_plot_pca_alignment_bymouse()"
   ]
  },
  {
   "cell_type": "code",
   "execution_count": null,
   "metadata": {
    "collapsed": true
   },
   "outputs": [],
   "source": []
  }
 ],
 "metadata": {
  "kernelspec": {
   "display_name": "Py3QT5",
   "language": "python",
   "name": "py3qt5"
  },
  "language_info": {
   "codemirror_mode": {
    "name": "ipython",
    "version": 3
   },
   "file_extension": ".py",
   "mimetype": "text/x-python",
   "name": "python",
   "nbconvert_exporter": "python",
   "pygments_lexer": "ipython3",
   "version": "3.8.5"
  }
 },
 "nbformat": 4,
 "nbformat_minor": 2
}

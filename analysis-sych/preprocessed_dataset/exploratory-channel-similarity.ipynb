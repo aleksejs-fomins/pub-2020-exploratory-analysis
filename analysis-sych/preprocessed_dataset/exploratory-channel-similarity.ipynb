{
 "cells": [
  {
   "cell_type": "code",
   "execution_count": null,
   "metadata": {},
   "outputs": [],
   "source": [
    "# Standard libraries\n",
    "import numpy as np\n",
    "import pandas as pd\n",
    "import matplotlib.pyplot as plt\n",
    "from ipywidgets import IntProgress\n",
    "from IPython.display import display\n",
    "\n",
    "import statsmodels.api as sm\n",
    "from statsmodels.formula.api import ols\n",
    "\n",
    "# Append base directory\n",
    "import os,sys,inspect\n",
    "rootname = \"pub-2020-exploratory-analysis\"\n",
    "thispath = os.path.dirname(os.path.abspath(inspect.getfile(inspect.currentframe())))\n",
    "rootpath = os.path.join(thispath[:thispath.index(rootname)], rootname)\n",
    "sys.path.append(rootpath)\n",
    "print(\"Appended root directory\", rootpath)\n",
    "\n",
    "from mesostat.utils.qt_helper import gui_fnames, gui_fpath\n",
    "\n",
    "from lib.sych.data_fc_db_raw import DataFCDatabase\n",
    "from lib.analysis.channel_similarity import linear_fit_correlation, correlation_by_session\n",
    "\n",
    "%load_ext autoreload\n",
    "%autoreload 2"
   ]
  },
  {
   "cell_type": "code",
   "execution_count": null,
   "metadata": {},
   "outputs": [],
   "source": [
    "# tmp_path = root_path_data if 'root_path_data' in locals() else \"./\"\n",
    "params = {}\n",
    "# params['root_path_data'] = './'\n",
    "params['root_path_data'] = '/media/alyosha/Data/TE_data/yarodata/sych_preprocessed'\n",
    "# params['root_path_data'] = gui_fpath('h5path', './')"
   ]
  },
  {
   "cell_type": "code",
   "execution_count": null,
   "metadata": {},
   "outputs": [],
   "source": [
    "dataDB = DataFCDatabase(params)"
   ]
  },
  {
   "cell_type": "code",
   "execution_count": null,
   "metadata": {},
   "outputs": [],
   "source": [
    "print(dataDB.mice)\n",
    "print(dataDB.dataTypes)\n",
    "print(dataDB.trialTypeNames)"
   ]
  },
  {
   "cell_type": "markdown",
   "metadata": {},
   "source": [
    "# Channel Similarity\n",
    "\n",
    "* Study effective rank as function of session/phase\n",
    "* Are some channels effectively indistinguishable \n",
    "    * High correlation\n",
    "    * $I(x: \\Delta y) = 0$\n",
    "    * $\\Delta y$ is uncorrelated to behaviour/other channels\n",
    "* Are orthogonal channel clusters (e.g. PCA) meaningful?\n",
    "    * Orthogonal w.r.t phase/trialType specificity?"
   ]
  },
  {
   "cell_type": "markdown",
   "metadata": {},
   "source": [
    "# 0. Plot Correlations\n",
    "\n",
    "* Apparent clustiering:\n",
    "    - most channels are globally correlated\n",
    "    - few channels form smaller clusters, frequently anti-correlated to other channels\n",
    "    - some channels uncorrelated to anything\n",
    "    - some variance among all parameters (sessions, phases, trialTypes)\n",
    "* Could try identifying clusters, cross-correlating\n",
    "\n",
    "**TODO**:\n",
    "* Check that these results are consistent with correlation violins we did before.\n",
    "    - In particular, do we see as much negative correlation there?\n",
    "* Why is there strong negative correlation bn_session?? Check code for bugs\n",
    "* Double-check we use only Yaro-selected sessions here. In particular, that they don't have optogenetics\n",
    "* Try trial-based autocorrelation at some point"
   ]
  },
  {
   "cell_type": "code",
   "execution_count": null,
   "metadata": {},
   "outputs": [],
   "source": [
    "intervDict = {\n",
    "    \"TEX\" : [3, 3.5],\n",
    "    \"REW\" : [6, 6.5]\n",
    "}\n",
    "trialTypesTrg = {'iGO', 'iNOGO'}"
   ]
  },
  {
   "cell_type": "code",
   "execution_count": null,
   "metadata": {
    "scrolled": false
   },
   "outputs": [],
   "source": [
    "correlation_by_session(dataDB, 'bn_session', intervDict, trialTypesTrg)"
   ]
  },
  {
   "cell_type": "markdown",
   "metadata": {},
   "source": [
    "# 1. Testing linear fitness\n",
    "\n",
    "1. For every channel $A$\n",
    "    1. For every channel $x_i$ except A, $\\Delta x_i = x_i - LinearFit(x_i, x_A)$\n",
    "    2. Compute $c_{ij} = corr(\\Delta x_i, \\Delta x_j)$\n",
    "    3. For every $i$, test Null hypothesis $c_{i, :} = 0$\n",
    "    \n",
    "**Results:**\n",
    "* Very high variance across sessions/phases/trialTypes\n",
    "* Results are asymmetric, which is expected - if two channels are not very similar, fitting one to another is not gonna change much\n",
    "* Most low correlations are in vertical lines, implying that the channels were already very weakly correlated to the rest, so it is just a reflection of that fact\n",
    "\n",
    "**Conclusion**:\n",
    "* This approach not useful at detecting smilarities, as has too many cofoundings variables"
   ]
  },
  {
   "cell_type": "code",
   "execution_count": null,
   "metadata": {
    "scrolled": false
   },
   "outputs": [],
   "source": [
    "linear_fit_correlation(dataDB, 'bn_session', intervDict, trialTypesTrg)"
   ]
  },
  {
   "cell_type": "code",
   "execution_count": null,
   "metadata": {},
   "outputs": [],
   "source": []
  }
 ],
 "metadata": {
  "kernelspec": {
   "display_name": "Python (nest)",
   "language": "python",
   "name": "py36nest"
  },
  "language_info": {
   "codemirror_mode": {
    "name": "ipython",
    "version": 3
   },
   "file_extension": ".py",
   "mimetype": "text/x-python",
   "name": "python",
   "nbconvert_exporter": "python",
   "pygments_lexer": "ipython3",
   "version": "3.6.6"
  }
 },
 "nbformat": 4,
 "nbformat_minor": 2
}

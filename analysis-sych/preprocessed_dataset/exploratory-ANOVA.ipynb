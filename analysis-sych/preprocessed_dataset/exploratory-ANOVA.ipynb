{
 "cells": [
  {
   "cell_type": "code",
   "execution_count": 2,
   "metadata": {},
   "outputs": [
    {
     "name": "stdout",
     "output_type": "stream",
     "text": [
      "Appended root directory /home/alyosha/work/git/pub-2020-exploratory-analysis\n"
     ]
    }
   ],
   "source": [
    "# Standard libraries\n",
    "import numpy as np\n",
    "import pandas as pd\n",
    "import matplotlib.pyplot as plt\n",
    "from ipywidgets import IntProgress\n",
    "from IPython.display import display\n",
    "\n",
    "import statsmodels.api as sm\n",
    "from statsmodels.formula.api import ols\n",
    "\n",
    "# Append base directory\n",
    "import os,sys,inspect\n",
    "rootname = \"pub-2020-exploratory-analysis\"\n",
    "thispath = os.path.dirname(os.path.abspath(inspect.getfile(inspect.currentframe())))\n",
    "rootpath = os.path.join(thispath[:thispath.index(rootname)], rootname)\n",
    "sys.path.append(rootpath)\n",
    "print(\"Appended root directory\", rootpath)\n",
    "\n",
    "from mesostat.utils.qt_helper import gui_fnames, gui_fpath\n",
    "from mesostat.metric.metric import MetricCalculator\n",
    "from mesostat.utils.hdf5_io import DataStorage\n",
    "from mesostat.stat.anova import as_pandas, as_pandas_lst, anova_homebrew\n",
    "\n",
    "from lib.sych.data_fc_db_raw import DataFCDatabase\n",
    "from lib.sych.plot_helper import imshow_dataset_by_mouse, imshow_dataset_by_session\n",
    "from lib.common.metric_helper import metric_by_session\n",
    "\n",
    "%load_ext autoreload\n",
    "%autoreload 2"
   ]
  },
  {
   "cell_type": "code",
   "execution_count": 3,
   "metadata": {},
   "outputs": [],
   "source": [
    "# tmp_path = root_path_data if 'root_path_data' in locals() else \"./\"\n",
    "params = {}\n",
    "# params['root_path_data'] = './'\n",
    "params['root_path_data'] = '/media/alyosha/Data/TE_data/yarodata/sych_preprocessed'\n",
    "# params['root_path_data'] = gui_fpath('h5path', './')"
   ]
  },
  {
   "cell_type": "code",
   "execution_count": 4,
   "metadata": {},
   "outputs": [
    {
     "name": "stdout",
     "output_type": "stream",
     "text": [
      "Searching for data files\n",
      "Extracting trial type names\n",
      "Extracting data types\n",
      "Reading area color map\n"
     ]
    }
   ],
   "source": [
    "dataDB = DataFCDatabase(params)"
   ]
  },
  {
   "cell_type": "code",
   "execution_count": 5,
   "metadata": {},
   "outputs": [],
   "source": [
    "ds = DataStorage('sych_result_individual_region.h5')"
   ]
  },
  {
   "cell_type": "code",
   "execution_count": 6,
   "metadata": {},
   "outputs": [],
   "source": [
    "mc = MetricCalculator(serial=True, verbose=False)"
   ]
  },
  {
   "cell_type": "code",
   "execution_count": 7,
   "metadata": {},
   "outputs": [
    {
     "name": "stdout",
     "output_type": "stream",
     "text": [
      "{'mvg_7', 'mvg_9', 'mvg_4', 'mvg_8'}\n",
      "{'bn_trial', 'raw', 'bn_session'}\n",
      "{'iGO', 'iFA', 'iMISS', 'iNOGO'}\n"
     ]
    }
   ],
   "source": [
    "print(dataDB.mice)\n",
    "print(dataDB.dataTypes)\n",
    "print(dataDB.trialTypeNames)"
   ]
  },
  {
   "cell_type": "markdown",
   "metadata": {},
   "source": [
    "# Analysis of Variance\n",
    "\n",
    "* Across sessions\n",
    "    - Explained by performance\n",
    "* Across channels, trials, timesteps\n",
    "    - Explained by trial type\n",
    "\n",
    "Things to understand:\n",
    "* How to compare different rows?\n",
    "* What models make sense?\n",
    "* Try linear mixed models?"
   ]
  },
  {
   "cell_type": "code",
   "execution_count": 8,
   "metadata": {
    "scrolled": true
   },
   "outputs": [],
   "source": [
    "#trialTypeNames = dataDB.get_trial_type_names()\n",
    "trialTypeNames = ['iGO', 'iNOGO']\n",
    "intervNames = dataDB.get_interval_names()\n",
    "\n",
    "dfDict = {}\n",
    "for mousename in dataDB.mice:\n",
    "    sessions = dataDB.get_sessions(mousename)\n",
    "    dfThis = pd.DataFrame()\n",
    "    for session in sessions:\n",
    "        for trialType in trialTypeNames:\n",
    "            dataTrialLst = []\n",
    "            for intervName in intervNames:\n",
    "                data = dataDB.get_neuro_data({'session' : session}, datatype='bn_session',\n",
    "                                             trialType=trialType, intervName=intervName)[0]\n",
    "                data = np.mean(data, axis=1)  # Average over timesteps\n",
    "                dataDF = as_pandas(data, ('trials', 'channels'))\n",
    "                dataDF['trialType'] = trialType\n",
    "                dataDF['interval'] = intervName\n",
    "                dataDF['session'] = session\n",
    "                dfThis = dfThis.append(dataDF, ignore_index=True)\n",
    "            \n",
    "    dfThis = dfThis.drop('trials', axis=1)\n",
    "    dfDict[mousename] = dfThis"
   ]
  },
  {
   "cell_type": "code",
   "execution_count": null,
   "metadata": {
    "scrolled": false
   },
   "outputs": [
    {
     "name": "stdout",
     "output_type": "stream",
     "text": [
      "mvg_4\n"
     ]
    },
    {
     "data": {
      "text/html": [
       "<div>\n",
       "<style scoped>\n",
       "    .dataframe tbody tr th:only-of-type {\n",
       "        vertical-align: middle;\n",
       "    }\n",
       "\n",
       "    .dataframe tbody tr th {\n",
       "        vertical-align: top;\n",
       "    }\n",
       "\n",
       "    .dataframe thead th {\n",
       "        text-align: right;\n",
       "    }\n",
       "</style>\n",
       "<table border=\"1\" class=\"dataframe\">\n",
       "  <thead>\n",
       "    <tr style=\"text-align: right;\">\n",
       "      <th></th>\n",
       "      <th>df</th>\n",
       "      <th>sum_sq</th>\n",
       "      <th>mean_sq</th>\n",
       "      <th>F</th>\n",
       "      <th>PR(&gt;F)</th>\n",
       "    </tr>\n",
       "  </thead>\n",
       "  <tbody>\n",
       "    <tr>\n",
       "      <th>C(channels)</th>\n",
       "      <td>47.0</td>\n",
       "      <td>0.741083</td>\n",
       "      <td>0.015768</td>\n",
       "      <td>109.946004</td>\n",
       "      <td>0.000000e+00</td>\n",
       "    </tr>\n",
       "    <tr>\n",
       "      <th>C(trialType)</th>\n",
       "      <td>1.0</td>\n",
       "      <td>1.951072</td>\n",
       "      <td>1.951072</td>\n",
       "      <td>13604.547946</td>\n",
       "      <td>0.000000e+00</td>\n",
       "    </tr>\n",
       "    <tr>\n",
       "      <th>C(interval)</th>\n",
       "      <td>2.0</td>\n",
       "      <td>11.313084</td>\n",
       "      <td>5.656542</td>\n",
       "      <td>39442.256137</td>\n",
       "      <td>0.000000e+00</td>\n",
       "    </tr>\n",
       "    <tr>\n",
       "      <th>C(session)</th>\n",
       "      <td>10.0</td>\n",
       "      <td>0.033239</td>\n",
       "      <td>0.003324</td>\n",
       "      <td>23.177013</td>\n",
       "      <td>3.729860e-44</td>\n",
       "    </tr>\n",
       "    <tr>\n",
       "      <th>C(trialType):C(session)</th>\n",
       "      <td>10.0</td>\n",
       "      <td>0.141273</td>\n",
       "      <td>0.014127</td>\n",
       "      <td>98.507539</td>\n",
       "      <td>4.534434e-205</td>\n",
       "    </tr>\n",
       "    <tr>\n",
       "      <th>C(trialType):C(channels)</th>\n",
       "      <td>47.0</td>\n",
       "      <td>5.733095</td>\n",
       "      <td>0.121981</td>\n",
       "      <td>850.554231</td>\n",
       "      <td>0.000000e+00</td>\n",
       "    </tr>\n",
       "    <tr>\n",
       "      <th>C(interval):C(channels)</th>\n",
       "      <td>94.0</td>\n",
       "      <td>13.674308</td>\n",
       "      <td>0.145471</td>\n",
       "      <td>1014.350939</td>\n",
       "      <td>0.000000e+00</td>\n",
       "    </tr>\n",
       "    <tr>\n",
       "      <th>C(interval):C(trialType)</th>\n",
       "      <td>2.0</td>\n",
       "      <td>2.661126</td>\n",
       "      <td>1.330563</td>\n",
       "      <td>9277.825163</td>\n",
       "      <td>0.000000e+00</td>\n",
       "    </tr>\n",
       "    <tr>\n",
       "      <th>Residual</th>\n",
       "      <td>609626.0</td>\n",
       "      <td>87.428447</td>\n",
       "      <td>0.000143</td>\n",
       "      <td>NaN</td>\n",
       "      <td>NaN</td>\n",
       "    </tr>\n",
       "  </tbody>\n",
       "</table>\n",
       "</div>"
      ],
      "text/plain": [
       "                                df     sum_sq   mean_sq             F  \\\n",
       "C(channels)                   47.0   0.741083  0.015768    109.946004   \n",
       "C(trialType)                   1.0   1.951072  1.951072  13604.547946   \n",
       "C(interval)                    2.0  11.313084  5.656542  39442.256137   \n",
       "C(session)                    10.0   0.033239  0.003324     23.177013   \n",
       "C(trialType):C(session)       10.0   0.141273  0.014127     98.507539   \n",
       "C(trialType):C(channels)      47.0   5.733095  0.121981    850.554231   \n",
       "C(interval):C(channels)       94.0  13.674308  0.145471   1014.350939   \n",
       "C(interval):C(trialType)       2.0   2.661126  1.330563   9277.825163   \n",
       "Residual                  609626.0  87.428447  0.000143           NaN   \n",
       "\n",
       "                                 PR(>F)  \n",
       "C(channels)                0.000000e+00  \n",
       "C(trialType)               0.000000e+00  \n",
       "C(interval)                0.000000e+00  \n",
       "C(session)                 3.729860e-44  \n",
       "C(trialType):C(session)   4.534434e-205  \n",
       "C(trialType):C(channels)   0.000000e+00  \n",
       "C(interval):C(channels)    0.000000e+00  \n",
       "C(interval):C(trialType)   0.000000e+00  \n",
       "Residual                            NaN  "
      ]
     },
     "metadata": {},
     "output_type": "display_data"
    },
    {
     "name": "stdout",
     "output_type": "stream",
     "text": [
      "mvg_7\n"
     ]
    }
   ],
   "source": [
    "model = '''\n",
    "    rez ~ C(channels)\n",
    "    + C(trialType)\n",
    "    + C(interval)\n",
    "    + C(session)\n",
    "    + C(trialType)*C(session)\n",
    "    + C(trialType)*C(channels)\n",
    "    + C(interval)*C(channels)\n",
    "    + C(interval)*C(trialType)\n",
    "'''\n",
    "\n",
    "# Session-wide\n",
    "for mousename in sorted(dataDB.mice):\n",
    "    print(mousename)\n",
    "    linModel = ols(model, data=dfDict[mousename]).fit()\n",
    "    display(sm.stats.anova_lm(linModel, typ=1))"
   ]
  },
  {
   "cell_type": "code",
   "execution_count": null,
   "metadata": {},
   "outputs": [],
   "source": [
    "# Across-sessions\n",
    "nMice = len(dataDB.mice)\n",
    "fig, ax = plt.subplots(ncols = nMice, figsize=(5*nMice, 5))\n",
    "\n",
    "model = '''\n",
    "rez ~ C(channels)+C(trialType)+C(interval)\n",
    "'''\n",
    "\n",
    "for iMouse, mousename in enumerate(sorted(dataDB.mice)):\n",
    "    dfThis = dfDict[mousename]\n",
    "    print(mousename)\n",
    "    sessions = dataDB.get_sessions(mousename)\n",
    "    performances = dataDB.get_performance_mouse(mousename)\n",
    "    plotData = []\n",
    "    \n",
    "    for session in sessions:\n",
    "        dfSession = dfThis[dfThis['session'] == session]\n",
    "        linModel = ols(model, data=dfSession).fit()\n",
    "        rezStat = sm.stats.anova_lm(linModel, typ=1)\n",
    "        rezStat = rezStat.drop('Residual')\n",
    "        plotData += [np.array(rezStat['mean_sq'])]\n",
    "\n",
    "    names = ['channels', 'trialType', 'interval']\n",
    "    plotData = np.array(plotData).T\n",
    "    \n",
    "    ax[iMouse].set_ylabel('mean_sq')\n",
    "    for name, x in zip(names, plotData):\n",
    "        ax[iMouse].semilogy(performances, x, '.', label=name)\n",
    "\n",
    "#     ax[iMouse].set_xticks(np.arange(len(sessions)))\n",
    "#     ax[iMouse].set_xticklabels(sessions, rotation=90)\n",
    "    ax[iMouse].set_title(mousename)\n",
    "    ax[iMouse].legend()\n",
    "\n",
    "plt.savefig('pics/ANOVA_bn_session_scatter.png')\n",
    "plt.show()\n",
    "plt.close()"
   ]
  },
  {
   "cell_type": "code",
   "execution_count": null,
   "metadata": {
    "collapsed": true
   },
   "outputs": [],
   "source": []
  },
  {
   "cell_type": "code",
   "execution_count": null,
   "metadata": {
    "collapsed": true
   },
   "outputs": [],
   "source": []
  }
 ],
 "metadata": {
  "kernelspec": {
   "display_name": "py3ml",
   "language": "python",
   "name": "py3ml"
  },
  "language_info": {
   "codemirror_mode": {
    "name": "ipython",
    "version": 3
   },
   "file_extension": ".py",
   "mimetype": "text/x-python",
   "name": "python",
   "nbconvert_exporter": "python",
   "pygments_lexer": "ipython3",
   "version": "3.8.5"
  }
 },
 "nbformat": 4,
 "nbformat_minor": 2
}

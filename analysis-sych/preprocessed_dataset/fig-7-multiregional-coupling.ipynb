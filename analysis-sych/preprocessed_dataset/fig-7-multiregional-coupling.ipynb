{
 "cells": [
  {
   "cell_type": "code",
   "execution_count": 1,
   "metadata": {},
   "outputs": [
    {
     "name": "stdout",
     "output_type": "stream",
     "text": [
      "Appended root directory /home/alyosha/work/git/pub-2020-exploratory-analysis\n"
     ]
    }
   ],
   "source": [
    "# Standard libraries\n",
    "import numpy as np\n",
    "import pandas as pd\n",
    "import matplotlib.pyplot as plt\n",
    "from ipywidgets import IntProgress\n",
    "from IPython.display import display\n",
    "\n",
    "# Append base directory\n",
    "import os,sys,inspect\n",
    "rootname = \"pub-2020-exploratory-analysis\"\n",
    "thispath = os.path.dirname(os.path.abspath(inspect.getfile(inspect.currentframe())))\n",
    "rootpath = os.path.join(thispath[:thispath.index(rootname)], rootname)\n",
    "sys.path.append(rootpath)\n",
    "print(\"Appended root directory\", rootpath)\n",
    "\n",
    "from mesostat.metric.metric import MetricCalculator\n",
    "from mesostat.utils.qt_helper import gui_fnames, gui_fpath\n",
    "from mesostat.utils.hdf5_io import DataStorage\n",
    "from mesostat.utils.pandas_helper import merge_df_from_dict\n",
    "\n",
    "from lib.sych.data_fc_db_raw import DataFCDatabase\n",
    "\n",
    "import lib.analysis.pid as pid\n",
    "\n",
    "%load_ext autoreload\n",
    "%autoreload 2"
   ]
  },
  {
   "cell_type": "code",
   "execution_count": 2,
   "metadata": {},
   "outputs": [],
   "source": [
    "# tmp_path = root_path_data if 'root_path_data' in locals() else \"./\"\n",
    "params = {}\n",
    "# params['root_path_data'] = './'\n",
    "params['root_path_data'] = '/media/alyosha/Data/TE_data/yarodata/sych_preprocessed'\n",
    "#params['root_path_data'] = gui_fpath('h5path', './')"
   ]
  },
  {
   "cell_type": "code",
   "execution_count": 4,
   "metadata": {},
   "outputs": [
    {
     "name": "stdout",
     "output_type": "stream",
     "text": [
      "Searching for data files\n",
      "Extracting trial type names\n",
      "Extracting data types\n"
     ]
    }
   ],
   "source": [
    "dataDB = DataFCDatabase(params)"
   ]
  },
  {
   "cell_type": "code",
   "execution_count": 5,
   "metadata": {},
   "outputs": [
    {
     "data": {
      "text/plain": [
       "{'mvg_4', 'mvg_7', 'mvg_8', 'mvg_9'}"
      ]
     },
     "execution_count": 5,
     "metadata": {},
     "output_type": "execute_result"
    }
   ],
   "source": [
    "dataDB.mice"
   ]
  },
  {
   "cell_type": "code",
   "execution_count": null,
   "metadata": {},
   "outputs": [],
   "source": [
    "h5outname = 'sych_result_higher_order_df.h5'"
   ]
  },
  {
   "cell_type": "code",
   "execution_count": null,
   "metadata": {
    "scrolled": true
   },
   "outputs": [],
   "source": [
    "mc = MetricCalculator(serial=False, verbose=False, nCore=4)"
   ]
  },
  {
   "cell_type": "markdown",
   "metadata": {},
   "source": [
    "# TODO\n",
    "    \n",
    "Hypothesis - Chain inhibition should increase synergy\n",
    "* Cpu -> iGP/GP/eGP -> VM/VL\n",
    "\n",
    "Performance-depencence\n",
    "* Session-wise changes of redundancy/synergy as function of performance\n",
    "* Movement-correlations of synergy/redundancy\n",
    "    - Lick\n",
    "    - Integral movement"
   ]
  },
  {
   "cell_type": "markdown",
   "metadata": {},
   "source": [
    "# Hypotheses"
   ]
  },
  {
   "cell_type": "code",
   "execution_count": null,
   "metadata": {},
   "outputs": [],
   "source": [
    "interv_dict = {\n",
    "    \"TEX\" : [3, 3.5],\n",
    "    \"REW\" : [6, 6.5]\n",
    "}\n",
    "\n",
    "hypotheses_dict = {\n",
    "    # Feedforwards Prefrontal\n",
    "    \"H1_TEX\"  : (\"TEX\", ['M1_l', 'S1_bf'], ['PrL', 'LO', 'VO', 'M2', 'Cg1']),\n",
    "    \"H1a_TEX\" : (\"TEX\", ['S1_bf', 'S2'],   ['PrL', 'LO', 'VO', 'M2', 'Cg1']),\n",
    "    \"H1b_TEX\" : (\"TEX\", ['M1_l', 'M2'],    ['PrL', 'LO', 'VO', 'Cg1']),  # Drop M2 because its a source\n",
    "\n",
    "    # High order is Sensory/Motor Thalamus\n",
    "    # Test if (M1, S1) has more synergy than (M1, M2) or (S1, S2)\n",
    "    \"H2_TEX\"  : (\"TEX\", ['M1_l', 'S1_bf'], ['Po', 'VM']),\n",
    "    \"H2a_TEX\" : (\"TEX\", ['S1_bf', 'S2'],   ['Po', 'VM']),\n",
    "    \"H2b_TEX\" : (\"TEX\", ['M1_l', 'M2'],    ['Po', 'VM']),\n",
    "    \n",
    "    # Thalamus as source\n",
    "    \"H3_TEX\"  : (\"TEX\", ['Po', 'VPM'],     ['S1_bf', 'S2']),\n",
    "    \n",
    "    # Motor Thalamus synchronization\n",
    "    \"H4_TEX\"  : (\"TEX\", ['VM', 'VL'],      ['M1_l', 'M2']),\n",
    "    \"H4a_TEX\" : (\"TEX\", ['VM', 'LDVL'],    ['M1_l', 'M2']),\n",
    "    \"H4b_TEX\" : (\"TEX\", ['VL', 'LDVL'],    ['M1_l', 'M2']),\n",
    "}"
   ]
  },
  {
   "cell_type": "code",
   "execution_count": null,
   "metadata": {},
   "outputs": [],
   "source": [
    "for datatype in ['bn_session', 'bn_trial']:\n",
    "    for hLabel, (intervKey, sources, targets) in hypotheses_dict.items():\n",
    "        print(hLabel)\n",
    "\n",
    "        interv = interv_dict[intervKey]\n",
    "\n",
    "        # Calculate PID\n",
    "        rezDict = {}\n",
    "        for mousename in dataDB.mice:\n",
    "            channelNames = dataDB.get_channel_labels(mousename)\n",
    "            dataLst = dataDB.get_neuro_data({'mousename': mousename}, datatype=datatype,\n",
    "                                            zscoreDim=None, cropTime=interv,\n",
    "                                            trialType='iGO', performance='expert')\n",
    "            \n",
    "            rezDict[(mousename,)] = pid.pid(dataLst, mc, channelNames, sources, targets, nPerm=2000, nBin=4)\n",
    "            \n",
    "        rezDF = merge_df_from_dict(rezDict, ['mousename'])\n",
    "\n",
    "    #     # Display resulting dataframe\n",
    "    #     with pd.option_context('display.max_rows', None, 'display.max_columns', None):\n",
    "    #         display(rezDF.sort_values(by=['S1', 'S2', 'T', 'PID', 'mousename']))\n",
    "\n",
    "        # Save to file\n",
    "        dataLabel = '_'.join(['PID', datatype, hLabel])\n",
    "        rezDF.to_hdf(h5outname, dataLabel, mode='a', format='table', data_columns=True)"
   ]
  },
  {
   "cell_type": "code",
   "execution_count": null,
   "metadata": {},
   "outputs": [],
   "source": [
    "for datatype in ['bn_trial']:\n",
    "    for hLabel, (intervKey, sources, targets) in hypotheses_dict.items():\n",
    "        print(hLabel)\n",
    "\n",
    "        dataLabel = '_'.join(['PID', datatype, hLabel])\n",
    "        pid.plot_pval_aggr(h5outname, dataLabel)\n",
    "        pid.plot_metric_bymouse(h5outname, dataLabel, 'muTrue', 'Info(Bits)', yscale='log', clip=[1.0E-3, 1], ylim=[1.0E-3, 1])\n",
    "\n",
    "        interv = interv_dict[intervKey]\n",
    "        for mousename in dataDB.mice:\n",
    "            \n",
    "            datakwargs = {\n",
    "                'datatype' : datatype,\n",
    "                'cropTime' : interv,\n",
    "                'trialType' : 'iGO',\n",
    "                'performance' : 'expert'\n",
    "            }\n",
    "            \n",
    "            pid.info3D_plot_slice_trg(dataDB, sources, targets, datakwargs)"
   ]
  },
  {
   "cell_type": "markdown",
   "metadata": {},
   "source": [
    "## Suppl"
   ]
  },
  {
   "cell_type": "code",
   "execution_count": null,
   "metadata": {},
   "outputs": [],
   "source": [
    "np.array(dataDB.get_channel_labels('mvg_4'))"
   ]
  },
  {
   "cell_type": "code",
   "execution_count": null,
   "metadata": {},
   "outputs": [],
   "source": []
  }
 ],
 "metadata": {
  "kernelspec": {
   "display_name": "Python (nest)",
   "language": "python",
   "name": "py36nest"
  },
  "language_info": {
   "codemirror_mode": {
    "name": "ipython",
    "version": 3
   },
   "file_extension": ".py",
   "mimetype": "text/x-python",
   "name": "python",
   "nbconvert_exporter": "python",
   "pygments_lexer": "ipython3",
   "version": "3.6.6"
  }
 },
 "nbformat": 4,
 "nbformat_minor": 4
}

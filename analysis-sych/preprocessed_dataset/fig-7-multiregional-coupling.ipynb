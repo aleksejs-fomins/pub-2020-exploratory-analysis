{
 "cells": [
  {
   "cell_type": "code",
   "execution_count": null,
   "metadata": {},
   "outputs": [],
   "source": [
    "# Standard libraries\n",
    "import numpy as np\n",
    "import pandas as pd\n",
    "import matplotlib.pyplot as plt\n",
    "from ipywidgets import IntProgress\n",
    "from IPython.display import display\n",
    "from scipy.stats import mannwhitneyu, wilcoxon\n",
    "\n",
    "# Append base directory\n",
    "import os,sys,inspect\n",
    "rootname = \"pub-2020-exploratory-analysis\"\n",
    "thispath = os.path.dirname(os.path.abspath(inspect.getfile(inspect.currentframe())))\n",
    "rootpath = os.path.join(thispath[:thispath.index(rootname)], rootname)\n",
    "sys.path.append(rootpath)\n",
    "print(\"Appended root directory\", rootpath)\n",
    "\n",
    "from mesostat.metric.metric import MetricCalculator\n",
    "from mesostat.metric.idtxl_pid import bivariate_pid_3D\n",
    "from mesostat.utils.qt_helper import gui_fnames, gui_fpath\n",
    "from mesostat.utils.hdf5_io import DataStorage\n",
    "from mesostat.utils.signals import bin_data\n",
    "from mesostat.utils.pandas_helper import pd_append_row\n",
    "from mesostat.stat.permtests import percentile_twosided, perm_test_resample\n",
    "\n",
    "\n",
    "from lib.sych.data_fc_db_raw import DataFCDatabase\n",
    "from lib.sych.plot_helper import imshow_dataset_by_mouse, imshow_dataset_by_session\n",
    "from lib.sych.metric_helper import metric_by_session, metric_by_selector\n",
    "\n",
    "%load_ext autoreload\n",
    "%autoreload 2"
   ]
  },
  {
   "cell_type": "code",
   "execution_count": null,
   "metadata": {
    "collapsed": true
   },
   "outputs": [],
   "source": [
    "# tmp_path = root_path_data if 'root_path_data' in locals() else \"./\"\n",
    "params = {}\n",
    "params['root_path_data'] = './'\n",
    "# params['root_path_data'] = '/media/alyosha/Data/TE_data/yarodata/sych_preprocessed'\n",
    "#params['root_path_data'] = gui_fpath('h5path', './')"
   ]
  },
  {
   "cell_type": "code",
   "execution_count": null,
   "metadata": {},
   "outputs": [],
   "source": [
    "dataDB = DataFCDatabase(params)"
   ]
  },
  {
   "cell_type": "code",
   "execution_count": null,
   "metadata": {
    "collapsed": true
   },
   "outputs": [],
   "source": [
    "h5outname = 'sych_result_higher_order_df.h5'"
   ]
  },
  {
   "cell_type": "code",
   "execution_count": null,
   "metadata": {
    "scrolled": true
   },
   "outputs": [],
   "source": [
    "mc = MetricCalculator(serial=False, verbose=False, nCore=4)"
   ]
  },
  {
   "cell_type": "markdown",
   "metadata": {},
   "source": [
    "# Hypotheses\n",
    "\n",
    "* H1) Feedforwards Prefrontal\n",
    "    - Sources={M1, S1};   Targets={ PrL, LO, VO, M2 или Cg1}\n",
    "* H2) High order is Sensory/Motor Thalamus\n",
    "    - Sources={M1, S1};   Targets={PO, VM} \n",
    "* H3) Thalamus as source\n",
    "    - Sources={VPM, PO};  Targets={S1, S2}\n",
    "* H4) Motor Thalamus synchronization\n",
    "    - Sources={VM, VL, LD};    Targets={M1,M2}"
   ]
  },
  {
   "cell_type": "code",
   "execution_count": null,
   "metadata": {
    "collapsed": true
   },
   "outputs": [],
   "source": [
    "def calc_pid(dataDB, sources, targets, mousename, datatype, zscoreDim, cropTime, trialType, performance, nPerm=1000):\n",
    "    channelNames = dataDB.get_channel_labels(mousename)\n",
    "    sourceIdxs = [channelNames.index(s) for s in sources]\n",
    "    targetIdxs = [channelNames.index(t) for t in targets]\n",
    "    \n",
    "    dataLst = dataDB.get_neuro_data({'mousename' : mousename}, datatype=datatype,\n",
    "                                    zscoreDim=zscoreDim, cropTime=cropTime,\n",
    "                                    trialType=trialType, performance=performance)\n",
    "    \n",
    "    data = np.concatenate(dataLst, axis=0)\n",
    "    data = np.mean(data, axis=1)  # Average out time\n",
    "    data = bin_data(data, 4, axis=1)\n",
    "    \n",
    "    settings_estimator = {'pid_estimator': 'TartuPID', 'lags_pid': [0, 0]}\n",
    "    \n",
    "    mc.set_data(data, 'rp')\n",
    "    rez = mc.metric3D('BivariatePID', '',\n",
    "                      metricSettings={'settings_estimator' : settings_estimator,\n",
    "                                      'src' : sourceIdxs},\n",
    "                      sweepSettings={'trg' : targetIdxs})\n",
    "    \n",
    "    # Since all channels are binned to the same quantiles,\n",
    "    # the permutation test is exactly the same for all of them, so we need any three channels as input\n",
    "    settings_test = {'src' : [0, 1], 'trg' : 2, 'settings_estimator' : settings_estimator}\n",
    "    fTest = lambda x: bivariate_pid_3D(x, settings_test)\n",
    "    dataTest = data[:, :3][..., None]  # Add fake 1D sample dimension\n",
    "    \n",
    "    fRand = perm_test_resample(fTest, dataTest, nPerm, iterAxis=1)\n",
    "    \n",
    "    rezTest = [\n",
    "        percentile_twosided(fTrue, fRand, settings={\"haveEffectSize\" : True, \"haveMeans\" : True})\n",
    "        for fTrue in rez\n",
    "    ]\n",
    "    \n",
    "    rezTest = np.array(rezTest)\n",
    "    df = pd.DataFrame(columns=['mousename', 'S1', 'S2', 'T', 'PID', 'p', 'effSize', 'muTrue', 'muRand'])\n",
    "    for iTrg, trgName in enumerate(targets):\n",
    "        for iType, infType in enumerate(['U1', 'U2', 'red', 'syn']):\n",
    "            rowLst = [mousename, *sources, trgName, infType, *rezTest[iTrg, 1:, iType]]\n",
    "            df = pd_append_row(df, rowLst, skip_repeat=False)\n",
    "                \n",
    "    return df"
   ]
  },
  {
   "cell_type": "markdown",
   "metadata": {},
   "source": [
    "# H1"
   ]
  },
  {
   "cell_type": "code",
   "execution_count": null,
   "metadata": {
    "scrolled": true
   },
   "outputs": [],
   "source": [
    "sources = ['M1_l', 'S1_bf']\n",
    "targets = ['PrL', 'LO', 'VO', 'M2', 'Cg1']\n",
    "\n",
    "rezDF1 = pd.DataFrame()\n",
    "for mousename in dataDB.mice:\n",
    "    dfTmp = calc_pid(dataDB, sources, targets, mousename, 'bn_session', None, [3, 3.5], 'iGO', 'expert', nPerm=2000)\n",
    "    rezDF1 = rezDF1.append(dfTmp)"
   ]
  },
  {
   "cell_type": "code",
   "execution_count": null,
   "metadata": {
    "scrolled": true
   },
   "outputs": [],
   "source": [
    "with pd.option_context('display.max_rows', None, 'display.max_columns', None):\n",
    "    display(rezDF1.sort_values(by=['S1', 'S2', 'T', 'PID', 'mousename']))"
   ]
  },
  {
   "cell_type": "code",
   "execution_count": null,
   "metadata": {},
   "outputs": [],
   "source": [
    "rezDF1.to_hdf(h5outname, 'PID_H1_TEX', mode='a', format='table', data_columns=True)"
   ]
  },
  {
   "cell_type": "markdown",
   "metadata": {},
   "source": [
    "# H2"
   ]
  },
  {
   "cell_type": "code",
   "execution_count": null,
   "metadata": {
    "scrolled": true
   },
   "outputs": [],
   "source": [
    "sources = ['M1_l', 'S1_bf']\n",
    "targets = ['Po', 'VM']\n",
    "\n",
    "rezDF2 = pd.DataFrame()\n",
    "for mousename in dataDB.mice:\n",
    "    dfTmp = calc_pid(dataDB, sources, targets, mousename, 'bn_session', None, [3, 3.5], 'iGO', 'expert', nPerm=2000)\n",
    "    rezDF2 = rezDF2.append(dfTmp)"
   ]
  },
  {
   "cell_type": "code",
   "execution_count": null,
   "metadata": {
    "scrolled": true
   },
   "outputs": [],
   "source": [
    "with pd.option_context('display.max_rows', None, 'display.max_columns', None):\n",
    "    display(rezDF2.sort_values(by=['S1', 'S2', 'T', 'PID', 'mousename']))"
   ]
  },
  {
   "cell_type": "code",
   "execution_count": null,
   "metadata": {
    "collapsed": true
   },
   "outputs": [],
   "source": [
    "rezDF2.to_hdf(h5outname, 'PID_H2_TEX', mode='a', format='table', data_columns=True)"
   ]
  },
  {
   "cell_type": "markdown",
   "metadata": {},
   "source": [
    "# H3"
   ]
  },
  {
   "cell_type": "code",
   "execution_count": null,
   "metadata": {},
   "outputs": [],
   "source": [
    "sources = ['Po', 'VPM']\n",
    "targets = ['S1_bf', 'S2']\n",
    "\n",
    "rezDF3 = pd.DataFrame()\n",
    "for mousename in dataDB.mice:\n",
    "    dfTmp = calc_pid(dataDB, sources, targets, mousename, 'bn_session', None, [3, 3.5], 'iGO', 'expert')\n",
    "    rezDF3 = rezDF3.append(dfTmp)"
   ]
  },
  {
   "cell_type": "code",
   "execution_count": null,
   "metadata": {
    "scrolled": true
   },
   "outputs": [],
   "source": [
    "with pd.option_context('display.max_rows', None, 'display.max_columns', None):\n",
    "    display(rezDF3.sort_values(by=['S1', 'S2', 'T', 'PID', 'mousename']))"
   ]
  },
  {
   "cell_type": "code",
   "execution_count": null,
   "metadata": {
    "collapsed": true
   },
   "outputs": [],
   "source": [
    "rezDF3.to_hdf(h5outname, 'PID_H3_TEX', mode='a', format='table', data_columns=True)"
   ]
  },
  {
   "cell_type": "markdown",
   "metadata": {},
   "source": [
    "# H4"
   ]
  },
  {
   "cell_type": "code",
   "execution_count": null,
   "metadata": {},
   "outputs": [],
   "source": [
    "sources1 = ['VM', 'VL']\n",
    "sources2 = ['VM', 'LDVL']\n",
    "sources3 = ['VL', 'LDVL']\n",
    "targets = ['M1_l', 'M2']\n",
    "\n",
    "rezDF4 = pd.DataFrame()\n",
    "for mousename in dataDB.mice:\n",
    "    dfTmp1 = calc_pid(dataDB, sources1, targets, mousename, 'bn_session', None, [3, 3.5], 'iGO', 'expert')\n",
    "    dfTmp2 = calc_pid(dataDB, sources2, targets, mousename, 'bn_session', None, [3, 3.5], 'iGO', 'expert')\n",
    "    dfTmp3 = calc_pid(dataDB, sources3, targets, mousename, 'bn_session', None, [3, 3.5], 'iGO', 'expert')\n",
    "    \n",
    "    rezDF4 = rezDF4.append(dfTmp1)\n",
    "    rezDF4 = rezDF4.append(dfTmp2)\n",
    "    rezDF4 = rezDF4.append(dfTmp3)"
   ]
  },
  {
   "cell_type": "code",
   "execution_count": null,
   "metadata": {},
   "outputs": [],
   "source": [
    "with pd.option_context('display.max_rows', None, 'display.max_columns', None):\n",
    "    display(rezDF4.sort_values(by=['S1', 'S2', 'T', 'PID', 'mousename']))"
   ]
  },
  {
   "cell_type": "code",
   "execution_count": null,
   "metadata": {
    "collapsed": true
   },
   "outputs": [],
   "source": [
    "rezDF4.to_hdf(h5outname, 'PID_H4_TEX', mode='a', format='table', data_columns=True)"
   ]
  },
  {
   "cell_type": "code",
   "execution_count": null,
   "metadata": {
    "collapsed": true
   },
   "outputs": [],
   "source": []
  }
 ],
 "metadata": {
  "kernelspec": {
   "display_name": "Python (py36qt5)",
   "language": "python",
   "name": "py36qt5"
  },
  "language_info": {
   "codemirror_mode": {
    "name": "ipython",
    "version": 3
   },
   "file_extension": ".py",
   "mimetype": "text/x-python",
   "name": "python",
   "nbconvert_exporter": "python",
   "pygments_lexer": "ipython3",
   "version": "3.6.4"
  }
 },
 "nbformat": 4,
 "nbformat_minor": 4
}

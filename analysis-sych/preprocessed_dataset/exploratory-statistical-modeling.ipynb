{
 "cells": [
  {
   "cell_type": "code",
   "execution_count": null,
   "metadata": {},
   "outputs": [],
   "source": [
    "# Standard libraries\n",
    "import numpy as np\n",
    "import pandas as pd\n",
    "import matplotlib.pyplot as plt\n",
    "from ipywidgets import IntProgress\n",
    "from IPython.display import display\n",
    "\n",
    "import statsmodels.api as sm\n",
    "from statsmodels.formula.api import ols\n",
    "\n",
    "# Append base directory\n",
    "import os,sys,inspect\n",
    "rootname = \"pub-2020-exploratory-analysis\"\n",
    "thispath = os.path.dirname(os.path.abspath(inspect.getfile(inspect.currentframe())))\n",
    "rootpath = os.path.join(thispath[:thispath.index(rootname)], rootname)\n",
    "sys.path.append(rootpath)\n",
    "print(\"Appended root directory\", rootpath)\n",
    "\n",
    "from mesostat.utils.qt_helper import gui_fnames, gui_fpath\n",
    "\n",
    "from lib.sych.data_fc_db_raw import DataFCDatabase\n",
    "\n",
    "%load_ext autoreload\n",
    "%autoreload 2"
   ]
  },
  {
   "cell_type": "code",
   "execution_count": null,
   "metadata": {},
   "outputs": [],
   "source": [
    "# tmp_path = root_path_data if 'root_path_data' in locals() else \"./\"\n",
    "params = {}\n",
    "# params['root_path_data'] = './'\n",
    "params['root_path_data'] = '/media/alyosha/Data/TE_data/yarodata/sych_preprocessed'\n",
    "# params['root_path_data'] = gui_fpath('h5path', './')"
   ]
  },
  {
   "cell_type": "code",
   "execution_count": null,
   "metadata": {},
   "outputs": [],
   "source": [
    "dataDB = DataFCDatabase(params)"
   ]
  },
  {
   "cell_type": "code",
   "execution_count": null,
   "metadata": {},
   "outputs": [],
   "source": [
    "print(dataDB.mice)\n",
    "print(dataDB.dataTypes)\n",
    "print(dataDB.trialTypeNames)"
   ]
  },
  {
   "cell_type": "code",
   "execution_count": null,
   "metadata": {},
   "outputs": [],
   "source": [
    "dataLst = dataDB.get_neuro_data({'mousename' : 'mvg_4'}, trialType='iGO')"
   ]
  },
  {
   "cell_type": "code",
   "execution_count": null,
   "metadata": {},
   "outputs": [],
   "source": [
    "dataLst[0].shape"
   ]
  },
  {
   "cell_type": "markdown",
   "metadata": {},
   "source": [
    "## 1. AR(1) Model"
   ]
  },
  {
   "cell_type": "code",
   "execution_count": null,
   "metadata": {},
   "outputs": [],
   "source": [
    "from mesostat.metric.impl.basis_projector import BasisProjector\n",
    "from scipy.stats import f\n",
    "from sklearn.linear_model import LinearRegression\n",
    "from sklearn.metrics import r2_score"
   ]
  },
  {
   "cell_type": "code",
   "execution_count": null,
   "metadata": {},
   "outputs": [],
   "source": [
    "def ftest(y, yhat1, yhat2, k1, k2):\n",
    "    n = np.prod(y.shape)\n",
    "    RSS1 = np.sum((y - yhat1)**2)\n",
    "    RSS2 = np.sum((y - yhat2)**2)\n",
    "    F = (1 - RSS2/RSS1) * (n - k2) / (k2 - k1)\n",
    "    pval = 1 - f.cdf(F, k2-k1, n-k2)\n",
    "    return F, pval\n",
    "    \n",
    "def model_AR(dataRS, n):\n",
    "    nTrial, nTime = dataRS.shape\n",
    "    model = LinearRegression(fit_intercept=False)\n",
    "    x = np.array([dataRS[:, i:i-n] for i in range(n)]).transpose((1,2,0)).reshape((nTrial * (nTime-n)), n)\n",
    "    \n",
    "    y = dataRS[:, n:].flatten()\n",
    "    model.fit(x, y)\n",
    "    yhat = model.predict(x)\n",
    "    \n",
    "#     print({'nHist' : n, 'coef' : model.coef_, 'R2' : r2_score(y, yhat)})\n",
    "    return yhat.reshape((nTrial, nTime-n))\n",
    "\n",
    "nHistMax = 10\n",
    "y = dataLst[0][:, :, 0]\n",
    "yhat0 = np.full(y.shape, np.mean(y))\n",
    "yhat = [yhat0] + [model_AR(y, i) for i in range(1, nHistMax+1)]\n",
    "fLst = [[i, i+1, *ftest(y[:, i+1:], yhat[i][:, 1:], yhat[i+1], i, i+1)] for i in range(nHistMax)]\n",
    "\n",
    "pd.DataFrame(fLst, columns=['df1', 'df2', 'F', 'pval'])"
   ]
  },
  {
   "cell_type": "markdown",
   "metadata": {},
   "source": [
    "## 2. Legendre Poly"
   ]
  },
  {
   "cell_type": "code",
   "execution_count": null,
   "metadata": {},
   "outputs": [],
   "source": [
    "basis = BasisProjector(200, order=5).polysample\n",
    "\n",
    "plt.figure()\n",
    "plt.plot(basis.T)\n",
    "plt.show()"
   ]
  },
  {
   "cell_type": "code",
   "execution_count": null,
   "metadata": {},
   "outputs": [],
   "source": [
    "legendre(0)"
   ]
  },
  {
   "cell_type": "code",
   "execution_count": null,
   "metadata": {},
   "outputs": [],
   "source": [
    "def model_legendre(dataRS, n):\n",
    "    nTrial, nTime = dataRS.shape\n",
    "    \n",
    "    basis = BasisProjector(nTime, order=n)\n",
    "    basis.project(np.mean(dataRS, axis=0))\n",
    "    yhat = basis.predict()\n",
    "    yhat = np.outer(np.ones(nTrial), yhat)\n",
    "    \n",
    "#     print({'nHist' : n, 'coef' : basis.coeff, 'R2' : r2_score(dataRS.flatten(), yhat.flatten())})\n",
    "    return yhat\n",
    "\n",
    "y = dataLst[0][:, :, 0]\n",
    "model_legendre(y, 0)"
   ]
  },
  {
   "cell_type": "code",
   "execution_count": null,
   "metadata": {},
   "outputs": [],
   "source": [
    "nBasisMax = 20\n",
    "yhat = [model_legendre(y, i) for i in range(nBasisMax+1)]\n",
    "fLst = [[i, i+1, r2_score(y.flatten(), yhat[i+1].flatten()),\n",
    "         *ftest(y, yhat[i], yhat[i+1], i+1, i+2)] for i in range(nBasisMax)]\n",
    "\n",
    "pd.DataFrame(fLst, columns=['df1', 'df2', 'R2', 'F', 'pval'])"
   ]
  },
  {
   "cell_type": "code",
   "execution_count": null,
   "metadata": {},
   "outputs": [],
   "source": []
  }
 ],
 "metadata": {
  "kernelspec": {
   "display_name": "Python (nest)",
   "language": "python",
   "name": "py36nest"
  },
  "language_info": {
   "codemirror_mode": {
    "name": "ipython",
    "version": 3
   },
   "file_extension": ".py",
   "mimetype": "text/x-python",
   "name": "python",
   "nbconvert_exporter": "python",
   "pygments_lexer": "ipython3",
   "version": "3.6.6"
  }
 },
 "nbformat": 4,
 "nbformat_minor": 2
}

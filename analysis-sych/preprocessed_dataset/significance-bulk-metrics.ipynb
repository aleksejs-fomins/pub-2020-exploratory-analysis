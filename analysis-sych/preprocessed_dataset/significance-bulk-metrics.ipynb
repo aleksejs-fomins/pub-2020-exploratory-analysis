{
 "cells": [
  {
   "cell_type": "code",
   "execution_count": 3,
   "metadata": {},
   "outputs": [
    {
     "name": "stdout",
     "output_type": "stream",
     "text": [
      "Appended root directory /home/alyosha/work/git/pub-2020-exploratory-analysis\n"
     ]
    }
   ],
   "source": [
    "# Standard libraries\n",
    "import numpy as np\n",
    "import pandas as pd\n",
    "import matplotlib.pyplot as plt\n",
    "from ipywidgets import IntProgress\n",
    "from IPython.display import display\n",
    "from scipy.stats import mannwhitneyu, wilcoxon\n",
    "\n",
    "# Append base directory\n",
    "import os,sys,inspect\n",
    "rootname = \"pub-2020-exploratory-analysis\"\n",
    "thispath = os.path.dirname(os.path.abspath(inspect.getfile(inspect.currentframe())))\n",
    "rootpath = os.path.join(thispath[:thispath.index(rootname)], rootname)\n",
    "sys.path.append(rootpath)\n",
    "print(\"Appended root directory\", rootpath)\n",
    "\n",
    "from mesostat.utils.qt_helper import gui_fnames, gui_fpath\n",
    "from mesostat.metric.metric import MetricCalculator\n",
    "from mesostat.utils.hdf5_io import DataStorage\n",
    "\n",
    "from lib.sych.data_fc_db_raw import DataFCDatabase\n",
    "import lib.analysis.bulk_metrics as bulk_metrics\n",
    "\n",
    "%load_ext autoreload\n",
    "%autoreload 2"
   ]
  },
  {
   "cell_type": "code",
   "execution_count": 4,
   "metadata": {},
   "outputs": [],
   "source": [
    "# tmp_path = root_path_data if 'root_path_data' in locals() else \"./\"\n",
    "params = {}\n",
    "# params['root_path_data'] = './'\n",
    "params['root_path_data'] = '/media/alyosha/Data/TE_data/yarodata/sych_preprocessed'\n",
    "#params['root_path_data'] = gui_fpath('h5path', './')"
   ]
  },
  {
   "cell_type": "code",
   "execution_count": 5,
   "metadata": {},
   "outputs": [
    {
     "name": "stdout",
     "output_type": "stream",
     "text": [
      "Searching for data files\n",
      "Extracting trial type names\n",
      "Extracting data types\n"
     ]
    }
   ],
   "source": [
    "dataDB = DataFCDatabase(params)"
   ]
  },
  {
   "cell_type": "code",
   "execution_count": 6,
   "metadata": {},
   "outputs": [],
   "source": [
    "ds = DataStorage('sych_result_bulk_metrics.h5')"
   ]
  },
  {
   "cell_type": "code",
   "execution_count": 7,
   "metadata": {},
   "outputs": [],
   "source": [
    "mc = MetricCalculator(serial=True, verbose=False)"
   ]
  },
  {
   "cell_type": "markdown",
   "metadata": {},
   "source": [
    "# 1. Bulk Metrics vs Time\n",
    "\n",
    "* Avg over mice\n",
    "* All-region-all-types\n",
    "* Expert vs Naive\n",
    "* Go/NOGO/MISS/FA"
   ]
  },
  {
   "cell_type": "markdown",
   "metadata": {},
   "source": [
    "# Mean"
   ]
  },
  {
   "cell_type": "code",
   "execution_count": null,
   "metadata": {
    "collapsed": true,
    "scrolled": true
   },
   "outputs": [],
   "source": [
    "bulk_metrics.metric_mouse_bulk(dataDB, mc, ds, 'mean', 's', 'time', verbose=False,\n",
    "                               trialTypeNames='auto', perfNames='auto')"
   ]
  },
  {
   "cell_type": "code",
   "execution_count": null,
   "metadata": {
    "collapsed": true,
    "scrolled": true
   },
   "outputs": [],
   "source": [
    "bulk_metrics.plot_metric_bulk(ds, 'mean', 'time', verbose=False)"
   ]
  },
  {
   "cell_type": "markdown",
   "metadata": {},
   "source": [
    "# Variance\n",
    "\n",
    "**TODO**\n",
    "* Plot trial variance relative to temporal variance\n",
    "* Plot mean with variance together\n",
    "\n",
    "### Pros/Cons of Baseline Normalization\n",
    "* DFF-Trial\n",
    "    - Pos: Removes dynamic baseline changing on the order of trials.\n",
    "    - Pos: Under assumption of signal-free pre-trial interval, baseline removal enhances relative change in significant activity during trial.\n",
    "    - Neg: In presence of correlation between pre-trial interval and trial signals, this procedure destroys information during trial.\n",
    "\n",
    "* DFF-Session vs ZScore-Session\n",
    "    - Both linear transforms\n",
    "    - Mean is more meaningful for DFF if pre-trial interval is at least somewhat stable\n",
    "    - Va"
   ]
  },
  {
   "cell_type": "code",
   "execution_count": null,
   "metadata": {
    "collapsed": true,
    "scrolled": true
   },
   "outputs": [],
   "source": [
    "bulk_metrics.metric_mouse_bulk(dataDB, mc, ds, 'varmean', 's', 'time', verbose=False,\n",
    "                               trialTypeNames='auto', perfNames='auto')"
   ]
  },
  {
   "cell_type": "code",
   "execution_count": null,
   "metadata": {
    "collapsed": true,
    "scrolled": true
   },
   "outputs": [],
   "source": [
    "bulk_metrics.plot_metric_bulk(ds, 'varmean', 'time', ylim=[0,None], verbose=False)"
   ]
  },
  {
   "cell_type": "markdown",
   "metadata": {},
   "source": [
    "### Test variance across channels for interesting interval\n",
    "\n",
    "* Average signal over texture presentation interval\n",
    "* Compute variance over trials for each channel\n",
    "* Compare channels"
   ]
  },
  {
   "cell_type": "code",
   "execution_count": null,
   "metadata": {
    "collapsed": true
   },
   "outputs": [],
   "source": [
    "bulk_metrics.metric_mouse_bulk(dataDB, mc, ds, 'varmean', 'p', 'channel', cropTime=('TEX', (3, 3.5)), verbose=False)"
   ]
  },
  {
   "cell_type": "code",
   "execution_count": null,
   "metadata": {
    "collapsed": true,
    "scrolled": true
   },
   "outputs": [],
   "source": [
    "bulk_metrics.plot_metric_bulk(ds, 'varmean', 'channel', yscale='log', verbose=False, # ylim=[0.005,2],\n",
    "                              dropCols=['cropTime'])"
   ]
  },
  {
   "cell_type": "markdown",
   "metadata": {
    "collapsed": true
   },
   "source": [
    "# Effective Rank\n",
    "\n",
    "### ByTime"
   ]
  },
  {
   "cell_type": "code",
   "execution_count": null,
   "metadata": {
    "collapsed": true
   },
   "outputs": [],
   "source": [
    "bulk_metrics.metric_mouse_bulk(dataDB, mc, ds, \"rank_effective\", 's', 'time', verbose=False,\n",
    "                               trialTypeNames='auto', perfNames='auto')"
   ]
  },
  {
   "cell_type": "code",
   "execution_count": null,
   "metadata": {
    "collapsed": true,
    "scrolled": true
   },
   "outputs": [],
   "source": [
    "bulk_metrics.plot_metric_bulk(ds, 'rank_effective', 'time', ylim=[1, None], verbose=False) # ylim=[1,48]"
   ]
  },
  {
   "cell_type": "markdown",
   "metadata": {},
   "source": [
    "### BySession"
   ]
  },
  {
   "cell_type": "code",
   "execution_count": null,
   "metadata": {
    "collapsed": true,
    "scrolled": true
   },
   "outputs": [],
   "source": [
    "intervDict = {\n",
    "    'TEX' : (3.0, 3.5),\n",
    "    'REW' : (6.0, 6.5)\n",
    "}\n",
    "\n",
    "for intervName, interv in intervDict.items():\n",
    "    bulk_metrics.metric_mouse_bulk_vs_session(dataDB, mc, ds, \"rank_effective\", 'session',\n",
    "                                              perfNames='auto', verbose=False, cropTime=(intervName, interv))"
   ]
  },
  {
   "cell_type": "code",
   "execution_count": null,
   "metadata": {
    "collapsed": true,
    "scrolled": true
   },
   "outputs": [],
   "source": [
    "bulk_metrics.plot_metric_bulk(ds, 'rank_effective', 'session', ylim=[1,None], verbose=False)"
   ]
  },
  {
   "cell_type": "markdown",
   "metadata": {},
   "source": [
    "## Hierarchical\n",
    "\n",
    "**TODO**:\n",
    "* Add composite selectors for metric helper\n",
    "   - trialType = iGO & iNOGO\n",
    "   - cropTime = TEX & REW"
   ]
  },
  {
   "cell_type": "code",
   "execution_count": 8,
   "metadata": {},
   "outputs": [
    {
     "data": {
      "application/vnd.jupyter.widget-view+json": {
       "model_id": "5959d6e49ba64306b9c2bb8f54f78f5f",
       "version_major": 2,
       "version_minor": 0
      },
      "text/plain": [
       "IntProgress(value=0, description='flat', max=180)"
      ]
     },
     "metadata": {},
     "output_type": "display_data"
    },
    {
     "data": {
      "application/vnd.jupyter.widget-view+json": {
       "model_id": "5163e382ba7f4031811cb40feaf3c732",
       "version_major": 2,
       "version_minor": 0
      },
      "text/plain": [
       "IntProgress(value=0, description='flat', max=180)"
      ]
     },
     "metadata": {},
     "output_type": "display_data"
    },
    {
     "data": {
      "application/vnd.jupyter.widget-view+json": {
       "model_id": "61a9c9334f2243c3ba108a2fe215b1f5",
       "version_major": 2,
       "version_minor": 0
      },
      "text/plain": [
       "IntProgress(value=0, description='flat', max=180)"
      ]
     },
     "metadata": {},
     "output_type": "display_data"
    }
   ],
   "source": [
    "intervDict = {\n",
    "    'PRE' : (-2.0, 0.0),\n",
    "    'TEX' : (3.0, 3.5),\n",
    "    'REW' : (6.0, 6.5)\n",
    "}\n",
    "for intervName, interv in intervDict.items():\n",
    "    bulk_metrics.metric_mouse_bulk(dataDB, mc, ds, \"rank_effective\", '', 'flat', verbose=False,\n",
    "                                   trialTypeNames='auto',\n",
    "                                   perfNames='auto',\n",
    "                                   cropTime=(intervName, interv))"
   ]
  },
  {
   "cell_type": "code",
   "execution_count": 55,
   "metadata": {},
   "outputs": [],
   "source": [
    "df = ds.list_dsets_pd()\n",
    "df = df[df['name'] == 'flat']"
   ]
  },
  {
   "cell_type": "code",
   "execution_count": 56,
   "metadata": {},
   "outputs": [],
   "source": [
    "data = [np.round(ds.get_data(dset), 2) for dset in df['dset']]\n",
    "df['rez'] = data"
   ]
  },
  {
   "cell_type": "code",
   "execution_count": 57,
   "metadata": {},
   "outputs": [],
   "source": [
    "df.drop(['datetime', 'zscoreDim', 'dset', 'metric', 'name', 'shape', 'target_dim'], axis=1, inplace=True)"
   ]
  },
  {
   "cell_type": "code",
   "execution_count": 58,
   "metadata": {},
   "outputs": [],
   "source": [
    "from mesostat.utils.pandas_helper import pd_category_to_column"
   ]
  },
  {
   "cell_type": "code",
   "execution_count": 59,
   "metadata": {},
   "outputs": [],
   "source": [
    "index = list(set(df.columns) - {'mousename', 'rez'})\n",
    "dfMouse = df.pivot(index=index, columns='mousename', values='rez').reset_index()"
   ]
  },
  {
   "cell_type": "code",
   "execution_count": 63,
   "metadata": {
    "scrolled": true
   },
   "outputs": [
    {
     "data": {
      "text/html": [
       "<div>\n",
       "<style scoped>\n",
       "    .dataframe tbody tr th:only-of-type {\n",
       "        vertical-align: middle;\n",
       "    }\n",
       "\n",
       "    .dataframe tbody tr th {\n",
       "        vertical-align: top;\n",
       "    }\n",
       "\n",
       "    .dataframe thead th {\n",
       "        text-align: right;\n",
       "    }\n",
       "</style>\n",
       "<table border=\"1\" class=\"dataframe\">\n",
       "  <thead>\n",
       "    <tr style=\"text-align: right;\">\n",
       "      <th>mousename</th>\n",
       "      <th>datatype</th>\n",
       "      <th>performance</th>\n",
       "      <th>trialType</th>\n",
       "      <th>cropTime</th>\n",
       "      <th>mvg_4</th>\n",
       "      <th>mvg_7</th>\n",
       "      <th>mvg_8</th>\n",
       "      <th>mvg_9</th>\n",
       "    </tr>\n",
       "  </thead>\n",
       "  <tbody>\n",
       "    <tr>\n",
       "      <th>45</th>\n",
       "      <td>bn_trial</td>\n",
       "      <td>NaN</td>\n",
       "      <td>NaN</td>\n",
       "      <td>PRE</td>\n",
       "      <td>19.69</td>\n",
       "      <td>12.05</td>\n",
       "      <td>12.32</td>\n",
       "      <td>6.77</td>\n",
       "    </tr>\n",
       "    <tr>\n",
       "      <th>46</th>\n",
       "      <td>bn_trial</td>\n",
       "      <td>NaN</td>\n",
       "      <td>NaN</td>\n",
       "      <td>REW</td>\n",
       "      <td>10.93</td>\n",
       "      <td>7.97</td>\n",
       "      <td>8.41</td>\n",
       "      <td>8.05</td>\n",
       "    </tr>\n",
       "    <tr>\n",
       "      <th>47</th>\n",
       "      <td>bn_trial</td>\n",
       "      <td>NaN</td>\n",
       "      <td>NaN</td>\n",
       "      <td>TEX</td>\n",
       "      <td>8.69</td>\n",
       "      <td>6.88</td>\n",
       "      <td>5.94</td>\n",
       "      <td>7.81</td>\n",
       "    </tr>\n",
       "    <tr>\n",
       "      <th>48</th>\n",
       "      <td>bn_trial</td>\n",
       "      <td>NaN</td>\n",
       "      <td>iFA</td>\n",
       "      <td>PRE</td>\n",
       "      <td>20.79</td>\n",
       "      <td>11.87</td>\n",
       "      <td>12.41</td>\n",
       "      <td>14.31</td>\n",
       "    </tr>\n",
       "    <tr>\n",
       "      <th>49</th>\n",
       "      <td>bn_trial</td>\n",
       "      <td>NaN</td>\n",
       "      <td>iFA</td>\n",
       "      <td>REW</td>\n",
       "      <td>13.68</td>\n",
       "      <td>8.42</td>\n",
       "      <td>8.94</td>\n",
       "      <td>8.50</td>\n",
       "    </tr>\n",
       "    <tr>\n",
       "      <th>50</th>\n",
       "      <td>bn_trial</td>\n",
       "      <td>NaN</td>\n",
       "      <td>iFA</td>\n",
       "      <td>TEX</td>\n",
       "      <td>9.37</td>\n",
       "      <td>6.74</td>\n",
       "      <td>7.03</td>\n",
       "      <td>9.30</td>\n",
       "    </tr>\n",
       "    <tr>\n",
       "      <th>51</th>\n",
       "      <td>bn_trial</td>\n",
       "      <td>NaN</td>\n",
       "      <td>iGO</td>\n",
       "      <td>PRE</td>\n",
       "      <td>20.01</td>\n",
       "      <td>12.12</td>\n",
       "      <td>12.24</td>\n",
       "      <td>15.83</td>\n",
       "    </tr>\n",
       "    <tr>\n",
       "      <th>52</th>\n",
       "      <td>bn_trial</td>\n",
       "      <td>NaN</td>\n",
       "      <td>iGO</td>\n",
       "      <td>REW</td>\n",
       "      <td>13.17</td>\n",
       "      <td>9.49</td>\n",
       "      <td>10.37</td>\n",
       "      <td>10.56</td>\n",
       "    </tr>\n",
       "    <tr>\n",
       "      <th>53</th>\n",
       "      <td>bn_trial</td>\n",
       "      <td>NaN</td>\n",
       "      <td>iGO</td>\n",
       "      <td>TEX</td>\n",
       "      <td>8.39</td>\n",
       "      <td>6.67</td>\n",
       "      <td>5.78</td>\n",
       "      <td>9.54</td>\n",
       "    </tr>\n",
       "    <tr>\n",
       "      <th>54</th>\n",
       "      <td>bn_trial</td>\n",
       "      <td>NaN</td>\n",
       "      <td>iMISS</td>\n",
       "      <td>PRE</td>\n",
       "      <td>20.24</td>\n",
       "      <td>11.97</td>\n",
       "      <td>11.11</td>\n",
       "      <td>17.43</td>\n",
       "    </tr>\n",
       "    <tr>\n",
       "      <th>55</th>\n",
       "      <td>bn_trial</td>\n",
       "      <td>NaN</td>\n",
       "      <td>iMISS</td>\n",
       "      <td>REW</td>\n",
       "      <td>8.55</td>\n",
       "      <td>7.62</td>\n",
       "      <td>6.90</td>\n",
       "      <td>9.29</td>\n",
       "    </tr>\n",
       "    <tr>\n",
       "      <th>56</th>\n",
       "      <td>bn_trial</td>\n",
       "      <td>NaN</td>\n",
       "      <td>iMISS</td>\n",
       "      <td>TEX</td>\n",
       "      <td>9.65</td>\n",
       "      <td>7.24</td>\n",
       "      <td>5.59</td>\n",
       "      <td>10.30</td>\n",
       "    </tr>\n",
       "    <tr>\n",
       "      <th>57</th>\n",
       "      <td>bn_trial</td>\n",
       "      <td>NaN</td>\n",
       "      <td>iNOGO</td>\n",
       "      <td>PRE</td>\n",
       "      <td>17.78</td>\n",
       "      <td>11.61</td>\n",
       "      <td>12.32</td>\n",
       "      <td>2.63</td>\n",
       "    </tr>\n",
       "    <tr>\n",
       "      <th>58</th>\n",
       "      <td>bn_trial</td>\n",
       "      <td>NaN</td>\n",
       "      <td>iNOGO</td>\n",
       "      <td>REW</td>\n",
       "      <td>8.69</td>\n",
       "      <td>7.24</td>\n",
       "      <td>7.96</td>\n",
       "      <td>6.77</td>\n",
       "    </tr>\n",
       "    <tr>\n",
       "      <th>59</th>\n",
       "      <td>bn_trial</td>\n",
       "      <td>NaN</td>\n",
       "      <td>iNOGO</td>\n",
       "      <td>TEX</td>\n",
       "      <td>8.88</td>\n",
       "      <td>6.39</td>\n",
       "      <td>5.93</td>\n",
       "      <td>4.33</td>\n",
       "    </tr>\n",
       "    <tr>\n",
       "      <th>60</th>\n",
       "      <td>bn_trial</td>\n",
       "      <td>expert</td>\n",
       "      <td>NaN</td>\n",
       "      <td>PRE</td>\n",
       "      <td>17.30</td>\n",
       "      <td>13.18</td>\n",
       "      <td>12.22</td>\n",
       "      <td>19.69</td>\n",
       "    </tr>\n",
       "    <tr>\n",
       "      <th>61</th>\n",
       "      <td>bn_trial</td>\n",
       "      <td>expert</td>\n",
       "      <td>NaN</td>\n",
       "      <td>REW</td>\n",
       "      <td>8.86</td>\n",
       "      <td>7.61</td>\n",
       "      <td>7.89</td>\n",
       "      <td>6.67</td>\n",
       "    </tr>\n",
       "    <tr>\n",
       "      <th>62</th>\n",
       "      <td>bn_trial</td>\n",
       "      <td>expert</td>\n",
       "      <td>NaN</td>\n",
       "      <td>TEX</td>\n",
       "      <td>8.05</td>\n",
       "      <td>6.85</td>\n",
       "      <td>5.56</td>\n",
       "      <td>7.26</td>\n",
       "    </tr>\n",
       "    <tr>\n",
       "      <th>63</th>\n",
       "      <td>bn_trial</td>\n",
       "      <td>expert</td>\n",
       "      <td>iFA</td>\n",
       "      <td>PRE</td>\n",
       "      <td>16.86</td>\n",
       "      <td>12.93</td>\n",
       "      <td>12.49</td>\n",
       "      <td>23.59</td>\n",
       "    </tr>\n",
       "    <tr>\n",
       "      <th>64</th>\n",
       "      <td>bn_trial</td>\n",
       "      <td>expert</td>\n",
       "      <td>iFA</td>\n",
       "      <td>REW</td>\n",
       "      <td>10.53</td>\n",
       "      <td>8.40</td>\n",
       "      <td>6.86</td>\n",
       "      <td>8.20</td>\n",
       "    </tr>\n",
       "    <tr>\n",
       "      <th>65</th>\n",
       "      <td>bn_trial</td>\n",
       "      <td>expert</td>\n",
       "      <td>iFA</td>\n",
       "      <td>TEX</td>\n",
       "      <td>7.15</td>\n",
       "      <td>6.96</td>\n",
       "      <td>4.58</td>\n",
       "      <td>8.35</td>\n",
       "    </tr>\n",
       "    <tr>\n",
       "      <th>66</th>\n",
       "      <td>bn_trial</td>\n",
       "      <td>expert</td>\n",
       "      <td>iGO</td>\n",
       "      <td>PRE</td>\n",
       "      <td>18.29</td>\n",
       "      <td>13.38</td>\n",
       "      <td>12.60</td>\n",
       "      <td>20.10</td>\n",
       "    </tr>\n",
       "    <tr>\n",
       "      <th>67</th>\n",
       "      <td>bn_trial</td>\n",
       "      <td>expert</td>\n",
       "      <td>iGO</td>\n",
       "      <td>REW</td>\n",
       "      <td>11.78</td>\n",
       "      <td>9.02</td>\n",
       "      <td>10.09</td>\n",
       "      <td>11.23</td>\n",
       "    </tr>\n",
       "    <tr>\n",
       "      <th>68</th>\n",
       "      <td>bn_trial</td>\n",
       "      <td>expert</td>\n",
       "      <td>iGO</td>\n",
       "      <td>TEX</td>\n",
       "      <td>9.10</td>\n",
       "      <td>6.72</td>\n",
       "      <td>6.03</td>\n",
       "      <td>8.36</td>\n",
       "    </tr>\n",
       "    <tr>\n",
       "      <th>69</th>\n",
       "      <td>bn_trial</td>\n",
       "      <td>expert</td>\n",
       "      <td>iMISS</td>\n",
       "      <td>PRE</td>\n",
       "      <td>16.94</td>\n",
       "      <td>12.65</td>\n",
       "      <td>10.22</td>\n",
       "      <td>16.55</td>\n",
       "    </tr>\n",
       "    <tr>\n",
       "      <th>70</th>\n",
       "      <td>bn_trial</td>\n",
       "      <td>expert</td>\n",
       "      <td>iMISS</td>\n",
       "      <td>REW</td>\n",
       "      <td>5.87</td>\n",
       "      <td>6.48</td>\n",
       "      <td>4.74</td>\n",
       "      <td>6.73</td>\n",
       "    </tr>\n",
       "    <tr>\n",
       "      <th>71</th>\n",
       "      <td>bn_trial</td>\n",
       "      <td>expert</td>\n",
       "      <td>iMISS</td>\n",
       "      <td>TEX</td>\n",
       "      <td>6.37</td>\n",
       "      <td>5.35</td>\n",
       "      <td>3.83</td>\n",
       "      <td>6.60</td>\n",
       "    </tr>\n",
       "    <tr>\n",
       "      <th>72</th>\n",
       "      <td>bn_trial</td>\n",
       "      <td>expert</td>\n",
       "      <td>iNOGO</td>\n",
       "      <td>PRE</td>\n",
       "      <td>16.25</td>\n",
       "      <td>13.06</td>\n",
       "      <td>11.95</td>\n",
       "      <td>19.23</td>\n",
       "    </tr>\n",
       "    <tr>\n",
       "      <th>73</th>\n",
       "      <td>bn_trial</td>\n",
       "      <td>expert</td>\n",
       "      <td>iNOGO</td>\n",
       "      <td>REW</td>\n",
       "      <td>7.26</td>\n",
       "      <td>7.56</td>\n",
       "      <td>7.54</td>\n",
       "      <td>6.54</td>\n",
       "    </tr>\n",
       "    <tr>\n",
       "      <th>74</th>\n",
       "      <td>bn_trial</td>\n",
       "      <td>expert</td>\n",
       "      <td>iNOGO</td>\n",
       "      <td>TEX</td>\n",
       "      <td>7.51</td>\n",
       "      <td>7.30</td>\n",
       "      <td>5.66</td>\n",
       "      <td>6.03</td>\n",
       "    </tr>\n",
       "    <tr>\n",
       "      <th>75</th>\n",
       "      <td>bn_trial</td>\n",
       "      <td>naive</td>\n",
       "      <td>NaN</td>\n",
       "      <td>PRE</td>\n",
       "      <td>20.07</td>\n",
       "      <td>11.72</td>\n",
       "      <td>11.93</td>\n",
       "      <td>6.52</td>\n",
       "    </tr>\n",
       "    <tr>\n",
       "      <th>76</th>\n",
       "      <td>bn_trial</td>\n",
       "      <td>naive</td>\n",
       "      <td>NaN</td>\n",
       "      <td>REW</td>\n",
       "      <td>11.03</td>\n",
       "      <td>7.82</td>\n",
       "      <td>8.02</td>\n",
       "      <td>8.01</td>\n",
       "    </tr>\n",
       "    <tr>\n",
       "      <th>77</th>\n",
       "      <td>bn_trial</td>\n",
       "      <td>naive</td>\n",
       "      <td>NaN</td>\n",
       "      <td>TEX</td>\n",
       "      <td>8.87</td>\n",
       "      <td>6.90</td>\n",
       "      <td>5.62</td>\n",
       "      <td>7.71</td>\n",
       "    </tr>\n",
       "    <tr>\n",
       "      <th>78</th>\n",
       "      <td>bn_trial</td>\n",
       "      <td>naive</td>\n",
       "      <td>iFA</td>\n",
       "      <td>PRE</td>\n",
       "      <td>20.85</td>\n",
       "      <td>11.68</td>\n",
       "      <td>12.19</td>\n",
       "      <td>14.18</td>\n",
       "    </tr>\n",
       "    <tr>\n",
       "      <th>79</th>\n",
       "      <td>bn_trial</td>\n",
       "      <td>naive</td>\n",
       "      <td>iFA</td>\n",
       "      <td>REW</td>\n",
       "      <td>13.61</td>\n",
       "      <td>8.28</td>\n",
       "      <td>8.89</td>\n",
       "      <td>8.44</td>\n",
       "    </tr>\n",
       "    <tr>\n",
       "      <th>80</th>\n",
       "      <td>bn_trial</td>\n",
       "      <td>naive</td>\n",
       "      <td>iFA</td>\n",
       "      <td>TEX</td>\n",
       "      <td>9.35</td>\n",
       "      <td>6.77</td>\n",
       "      <td>6.97</td>\n",
       "      <td>9.25</td>\n",
       "    </tr>\n",
       "    <tr>\n",
       "      <th>81</th>\n",
       "      <td>bn_trial</td>\n",
       "      <td>naive</td>\n",
       "      <td>iGO</td>\n",
       "      <td>PRE</td>\n",
       "      <td>20.32</td>\n",
       "      <td>11.66</td>\n",
       "      <td>11.56</td>\n",
       "      <td>15.33</td>\n",
       "    </tr>\n",
       "    <tr>\n",
       "      <th>82</th>\n",
       "      <td>bn_trial</td>\n",
       "      <td>naive</td>\n",
       "      <td>iGO</td>\n",
       "      <td>REW</td>\n",
       "      <td>13.05</td>\n",
       "      <td>9.21</td>\n",
       "      <td>9.30</td>\n",
       "      <td>10.24</td>\n",
       "    </tr>\n",
       "    <tr>\n",
       "      <th>83</th>\n",
       "      <td>bn_trial</td>\n",
       "      <td>naive</td>\n",
       "      <td>iGO</td>\n",
       "      <td>TEX</td>\n",
       "      <td>8.31</td>\n",
       "      <td>6.72</td>\n",
       "      <td>5.03</td>\n",
       "      <td>9.49</td>\n",
       "    </tr>\n",
       "    <tr>\n",
       "      <th>84</th>\n",
       "      <td>bn_trial</td>\n",
       "      <td>naive</td>\n",
       "      <td>iMISS</td>\n",
       "      <td>PRE</td>\n",
       "      <td>20.56</td>\n",
       "      <td>11.79</td>\n",
       "      <td>10.85</td>\n",
       "      <td>17.28</td>\n",
       "    </tr>\n",
       "    <tr>\n",
       "      <th>85</th>\n",
       "      <td>bn_trial</td>\n",
       "      <td>naive</td>\n",
       "      <td>iMISS</td>\n",
       "      <td>REW</td>\n",
       "      <td>8.82</td>\n",
       "      <td>7.58</td>\n",
       "      <td>7.27</td>\n",
       "      <td>9.25</td>\n",
       "    </tr>\n",
       "    <tr>\n",
       "      <th>86</th>\n",
       "      <td>bn_trial</td>\n",
       "      <td>naive</td>\n",
       "      <td>iMISS</td>\n",
       "      <td>TEX</td>\n",
       "      <td>10.25</td>\n",
       "      <td>7.30</td>\n",
       "      <td>5.99</td>\n",
       "      <td>10.30</td>\n",
       "    </tr>\n",
       "    <tr>\n",
       "      <th>87</th>\n",
       "      <td>bn_trial</td>\n",
       "      <td>naive</td>\n",
       "      <td>iNOGO</td>\n",
       "      <td>PRE</td>\n",
       "      <td>18.15</td>\n",
       "      <td>11.01</td>\n",
       "      <td>12.15</td>\n",
       "      <td>2.49</td>\n",
       "    </tr>\n",
       "    <tr>\n",
       "      <th>88</th>\n",
       "      <td>bn_trial</td>\n",
       "      <td>naive</td>\n",
       "      <td>iNOGO</td>\n",
       "      <td>REW</td>\n",
       "      <td>8.87</td>\n",
       "      <td>6.95</td>\n",
       "      <td>7.70</td>\n",
       "      <td>6.64</td>\n",
       "    </tr>\n",
       "    <tr>\n",
       "      <th>89</th>\n",
       "      <td>bn_trial</td>\n",
       "      <td>naive</td>\n",
       "      <td>iNOGO</td>\n",
       "      <td>TEX</td>\n",
       "      <td>9.02</td>\n",
       "      <td>6.20</td>\n",
       "      <td>5.34</td>\n",
       "      <td>4.16</td>\n",
       "    </tr>\n",
       "  </tbody>\n",
       "</table>\n",
       "</div>"
      ],
      "text/plain": [
       "mousename  datatype performance trialType cropTime  mvg_4  mvg_7  mvg_8  mvg_9\n",
       "45         bn_trial         NaN       NaN      PRE  19.69  12.05  12.32   6.77\n",
       "46         bn_trial         NaN       NaN      REW  10.93   7.97   8.41   8.05\n",
       "47         bn_trial         NaN       NaN      TEX   8.69   6.88   5.94   7.81\n",
       "48         bn_trial         NaN       iFA      PRE  20.79  11.87  12.41  14.31\n",
       "49         bn_trial         NaN       iFA      REW  13.68   8.42   8.94   8.50\n",
       "50         bn_trial         NaN       iFA      TEX   9.37   6.74   7.03   9.30\n",
       "51         bn_trial         NaN       iGO      PRE  20.01  12.12  12.24  15.83\n",
       "52         bn_trial         NaN       iGO      REW  13.17   9.49  10.37  10.56\n",
       "53         bn_trial         NaN       iGO      TEX   8.39   6.67   5.78   9.54\n",
       "54         bn_trial         NaN     iMISS      PRE  20.24  11.97  11.11  17.43\n",
       "55         bn_trial         NaN     iMISS      REW   8.55   7.62   6.90   9.29\n",
       "56         bn_trial         NaN     iMISS      TEX   9.65   7.24   5.59  10.30\n",
       "57         bn_trial         NaN     iNOGO      PRE  17.78  11.61  12.32   2.63\n",
       "58         bn_trial         NaN     iNOGO      REW   8.69   7.24   7.96   6.77\n",
       "59         bn_trial         NaN     iNOGO      TEX   8.88   6.39   5.93   4.33\n",
       "60         bn_trial      expert       NaN      PRE  17.30  13.18  12.22  19.69\n",
       "61         bn_trial      expert       NaN      REW   8.86   7.61   7.89   6.67\n",
       "62         bn_trial      expert       NaN      TEX   8.05   6.85   5.56   7.26\n",
       "63         bn_trial      expert       iFA      PRE  16.86  12.93  12.49  23.59\n",
       "64         bn_trial      expert       iFA      REW  10.53   8.40   6.86   8.20\n",
       "65         bn_trial      expert       iFA      TEX   7.15   6.96   4.58   8.35\n",
       "66         bn_trial      expert       iGO      PRE  18.29  13.38  12.60  20.10\n",
       "67         bn_trial      expert       iGO      REW  11.78   9.02  10.09  11.23\n",
       "68         bn_trial      expert       iGO      TEX   9.10   6.72   6.03   8.36\n",
       "69         bn_trial      expert     iMISS      PRE  16.94  12.65  10.22  16.55\n",
       "70         bn_trial      expert     iMISS      REW   5.87   6.48   4.74   6.73\n",
       "71         bn_trial      expert     iMISS      TEX   6.37   5.35   3.83   6.60\n",
       "72         bn_trial      expert     iNOGO      PRE  16.25  13.06  11.95  19.23\n",
       "73         bn_trial      expert     iNOGO      REW   7.26   7.56   7.54   6.54\n",
       "74         bn_trial      expert     iNOGO      TEX   7.51   7.30   5.66   6.03\n",
       "75         bn_trial       naive       NaN      PRE  20.07  11.72  11.93   6.52\n",
       "76         bn_trial       naive       NaN      REW  11.03   7.82   8.02   8.01\n",
       "77         bn_trial       naive       NaN      TEX   8.87   6.90   5.62   7.71\n",
       "78         bn_trial       naive       iFA      PRE  20.85  11.68  12.19  14.18\n",
       "79         bn_trial       naive       iFA      REW  13.61   8.28   8.89   8.44\n",
       "80         bn_trial       naive       iFA      TEX   9.35   6.77   6.97   9.25\n",
       "81         bn_trial       naive       iGO      PRE  20.32  11.66  11.56  15.33\n",
       "82         bn_trial       naive       iGO      REW  13.05   9.21   9.30  10.24\n",
       "83         bn_trial       naive       iGO      TEX   8.31   6.72   5.03   9.49\n",
       "84         bn_trial       naive     iMISS      PRE  20.56  11.79  10.85  17.28\n",
       "85         bn_trial       naive     iMISS      REW   8.82   7.58   7.27   9.25\n",
       "86         bn_trial       naive     iMISS      TEX  10.25   7.30   5.99  10.30\n",
       "87         bn_trial       naive     iNOGO      PRE  18.15  11.01  12.15   2.49\n",
       "88         bn_trial       naive     iNOGO      REW   8.87   6.95   7.70   6.64\n",
       "89         bn_trial       naive     iNOGO      TEX   9.02   6.20   5.34   4.16"
      ]
     },
     "execution_count": 63,
     "metadata": {},
     "output_type": "execute_result"
    }
   ],
   "source": [
    "dfMouse[dfMouse['datatype'] == 'bn_trial']"
   ]
  },
  {
   "cell_type": "markdown",
   "metadata": {},
   "source": [
    "# Total Correlation"
   ]
  },
  {
   "cell_type": "code",
   "execution_count": null,
   "metadata": {
    "collapsed": true
   },
   "outputs": [],
   "source": [
    "# bulk_metrics.metric_mouse_bulk(dataDB, mc, ds, \"avg_entropy\", 'sp', 'time-channel', verbose=False)\n",
    "# bulk_metrics.metric_mouse_bulk(dataDB, mc, ds, \"avg_entropy\", 's', 'time', verbose=False)\n",
    "\n",
    "bulk_metrics.metric_mouse_bulk(dataDB, mc, ds, \"avg_TC\", 's', 'time', verbose=False)"
   ]
  },
  {
   "cell_type": "code",
   "execution_count": null,
   "metadata": {
    "collapsed": true,
    "scrolled": true
   },
   "outputs": [],
   "source": [
    "bulk_metrics.plot_metric_bulk(dataDB, ds, 'avg_TC', 'time', verbose=True) # ylim=[1,48]"
   ]
  },
  {
   "cell_type": "code",
   "execution_count": null,
   "metadata": {
    "collapsed": true,
    "scrolled": true
   },
   "outputs": [],
   "source": [
    "bulk_metrics.plot_TC(dataDB, ds, ylim=None, yscale=None, verbose=True)"
   ]
  },
  {
   "cell_type": "markdown",
   "metadata": {},
   "source": [
    "### Cleaning up"
   ]
  },
  {
   "cell_type": "code",
   "execution_count": null,
   "metadata": {
    "collapsed": true
   },
   "outputs": [],
   "source": [
    "with pd.option_context('display.max_rows', None, 'display.max_columns', None):\n",
    "    display(ds.list_dsets_pd().sort_values(by='datetime'))"
   ]
  },
  {
   "cell_type": "code",
   "execution_count": null,
   "metadata": {
    "collapsed": true
   },
   "outputs": [],
   "source": [
    "ds.delete_by_query(queryDict={\"metric\" : \"rank_effective\"}, timestr=\"2020-11-20 18:00:00\")"
   ]
  },
  {
   "cell_type": "code",
   "execution_count": null,
   "metadata": {
    "collapsed": true
   },
   "outputs": [],
   "source": []
  }
 ],
 "metadata": {
  "kernelspec": {
   "display_name": "py3ml",
   "language": "python",
   "name": "py3ml"
  },
  "language_info": {
   "codemirror_mode": {
    "name": "ipython",
    "version": 3
   },
   "file_extension": ".py",
   "mimetype": "text/x-python",
   "name": "python",
   "nbconvert_exporter": "python",
   "pygments_lexer": "ipython3",
   "version": "3.8.5"
  }
 },
 "nbformat": 4,
 "nbformat_minor": 2
}

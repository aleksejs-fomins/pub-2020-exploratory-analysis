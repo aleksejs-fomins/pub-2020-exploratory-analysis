{
 "cells": [
  {
   "cell_type": "code",
   "execution_count": 9,
   "metadata": {},
   "outputs": [
    {
     "name": "stdout",
     "output_type": "stream",
     "text": [
      "Appended root directory /home/alyosha/work/git/pub-2020-exploratory-analysis\n",
      "The autoreload extension is already loaded. To reload it, use:\n",
      "  %reload_ext autoreload\n"
     ]
    }
   ],
   "source": [
    "# Standard libraries\n",
    "import numpy as np\n",
    "import pandas as pd\n",
    "import matplotlib.pyplot as plt\n",
    "from ipywidgets import IntProgress\n",
    "from IPython.display import display\n",
    "from scipy.stats import mannwhitneyu, wilcoxon\n",
    "\n",
    "# Append base directory\n",
    "import os,sys,inspect\n",
    "rootname = \"pub-2020-exploratory-analysis\"\n",
    "thispath = os.path.dirname(os.path.abspath(inspect.getfile(inspect.currentframe())))\n",
    "rootpath = os.path.join(thispath[:thispath.index(rootname)], rootname)\n",
    "sys.path.append(rootpath)\n",
    "print(\"Appended root directory\", rootpath)\n",
    "\n",
    "from mesostat.utils.qt_helper import gui_fnames, gui_fpath\n",
    "from mesostat.metric.metric import MetricCalculator\n",
    "from mesostat.utils.hdf5_io import DataStorage\n",
    "\n",
    "from lib.sych.data_fc_db_raw import DataFCDatabase\n",
    "from lib.common.metric_helper import calc_metric_mouse, calc_metric_session, calc_metric_mouse_delay\n",
    "import lib.analysis.bulk_metrics as bulk_metrics\n",
    "\n",
    "%load_ext autoreload\n",
    "%autoreload 2"
   ]
  },
  {
   "cell_type": "code",
   "execution_count": 2,
   "metadata": {},
   "outputs": [],
   "source": [
    "# tmp_path = root_path_data if 'root_path_data' in locals() else \"./\"\n",
    "params = {}\n",
    "# params['root_path_data'] = './'\n",
    "params['root_path_data'] = '/media/alyosha/Data/TE_data/yarodata/sych_preprocessed'\n",
    "#params['root_path_data'] = gui_fpath('h5path', './')"
   ]
  },
  {
   "cell_type": "code",
   "execution_count": 3,
   "metadata": {},
   "outputs": [
    {
     "name": "stdout",
     "output_type": "stream",
     "text": [
      "Searching for data files\n",
      "Extracting trial type names\n",
      "Extracting data types\n",
      "Reading area color map\n"
     ]
    }
   ],
   "source": [
    "dataDB = DataFCDatabase(params)"
   ]
  },
  {
   "cell_type": "code",
   "execution_count": 4,
   "metadata": {},
   "outputs": [],
   "source": [
    "ds = DataStorage('sych_result_bulk_metrics.h5')"
   ]
  },
  {
   "cell_type": "code",
   "execution_count": 5,
   "metadata": {},
   "outputs": [],
   "source": [
    "mc = MetricCalculator(serial=True, verbose=False)"
   ]
  },
  {
   "cell_type": "markdown",
   "metadata": {},
   "source": [
    "# Bulk Metrics"
   ]
  },
  {
   "cell_type": "code",
   "execution_count": 10,
   "metadata": {},
   "outputs": [],
   "source": [
    "argSweepDictTime = {\n",
    "    'trialType': 'auto',\n",
    "    'performance': 'auto',\n",
    "    'datatype': ['bn_trial', 'bn_session']\n",
    "}\n",
    "\n",
    "argSweepDictSession = {\n",
    "    'trialType': 'auto',\n",
    "    'intervName': [\"PRE\", \"TEX\", \"REW\", \"AVG\"],\n",
    "    'datatype': ['bn_trial', 'bn_session']\n",
    "}\n",
    "\n",
    "exclQueryLst = [\n",
    "    {'datatype' : 'bn_trial', 'intervName' : 'PRE'}  # Baseline normalized\n",
    "]"
   ]
  },
  {
   "cell_type": "markdown",
   "metadata": {},
   "source": [
    "## 1. Mean\n",
    "### 1.1. Mean vs time"
   ]
  },
  {
   "cell_type": "code",
   "execution_count": 7,
   "metadata": {},
   "outputs": [
    {
     "data": {
      "text/html": [
       "<div>\n",
       "<style scoped>\n",
       "    .dataframe tbody tr th:only-of-type {\n",
       "        vertical-align: middle;\n",
       "    }\n",
       "\n",
       "    .dataframe tbody tr th {\n",
       "        vertical-align: top;\n",
       "    }\n",
       "\n",
       "    .dataframe thead th {\n",
       "        text-align: right;\n",
       "    }\n",
       "</style>\n",
       "<table border=\"1\" class=\"dataframe\">\n",
       "  <thead>\n",
       "    <tr style=\"text-align: right;\">\n",
       "      <th></th>\n",
       "      <th>datatype</th>\n",
       "      <th>datetime</th>\n",
       "      <th>dset</th>\n",
       "      <th>metric</th>\n",
       "      <th>mousename</th>\n",
       "      <th>name</th>\n",
       "      <th>performance</th>\n",
       "      <th>shape</th>\n",
       "      <th>target_dim</th>\n",
       "      <th>trialType</th>\n",
       "      <th>zscoreDim</th>\n",
       "      <th>cropTime</th>\n",
       "    </tr>\n",
       "  </thead>\n",
       "  <tbody>\n",
       "    <tr>\n",
       "      <th>0</th>\n",
       "      <td>bn_session</td>\n",
       "      <td>2021-04-29 10:21:19</td>\n",
       "      <td>dset1416</td>\n",
       "      <td>mean</td>\n",
       "      <td>mvg_8</td>\n",
       "      <td>time</td>\n",
       "      <td>None</td>\n",
       "      <td>(200,)</td>\n",
       "      <td>(timesteps,)</td>\n",
       "      <td>None</td>\n",
       "      <td>None</td>\n",
       "      <td>NaN</td>\n",
       "    </tr>\n",
       "    <tr>\n",
       "      <th>1</th>\n",
       "      <td>bn_session</td>\n",
       "      <td>2021-04-29 10:21:20</td>\n",
       "      <td>dset1417</td>\n",
       "      <td>mean</td>\n",
       "      <td>mvg_8</td>\n",
       "      <td>time</td>\n",
       "      <td>None</td>\n",
       "      <td>(200,)</td>\n",
       "      <td>(timesteps,)</td>\n",
       "      <td>iFA</td>\n",
       "      <td>None</td>\n",
       "      <td>NaN</td>\n",
       "    </tr>\n",
       "    <tr>\n",
       "      <th>2</th>\n",
       "      <td>bn_session</td>\n",
       "      <td>2021-04-29 10:21:20</td>\n",
       "      <td>dset1418</td>\n",
       "      <td>mean</td>\n",
       "      <td>mvg_8</td>\n",
       "      <td>time</td>\n",
       "      <td>None</td>\n",
       "      <td>(200,)</td>\n",
       "      <td>(timesteps,)</td>\n",
       "      <td>iMISS</td>\n",
       "      <td>None</td>\n",
       "      <td>NaN</td>\n",
       "    </tr>\n",
       "    <tr>\n",
       "      <th>3</th>\n",
       "      <td>bn_session</td>\n",
       "      <td>2021-04-29 10:21:20</td>\n",
       "      <td>dset1419</td>\n",
       "      <td>mean</td>\n",
       "      <td>mvg_8</td>\n",
       "      <td>time</td>\n",
       "      <td>None</td>\n",
       "      <td>(200,)</td>\n",
       "      <td>(timesteps,)</td>\n",
       "      <td>iGO</td>\n",
       "      <td>None</td>\n",
       "      <td>NaN</td>\n",
       "    </tr>\n",
       "    <tr>\n",
       "      <th>4</th>\n",
       "      <td>bn_session</td>\n",
       "      <td>2021-04-29 10:21:21</td>\n",
       "      <td>dset1420</td>\n",
       "      <td>mean</td>\n",
       "      <td>mvg_8</td>\n",
       "      <td>time</td>\n",
       "      <td>None</td>\n",
       "      <td>(200,)</td>\n",
       "      <td>(timesteps,)</td>\n",
       "      <td>iNOGO</td>\n",
       "      <td>None</td>\n",
       "      <td>NaN</td>\n",
       "    </tr>\n",
       "    <tr>\n",
       "      <th>...</th>\n",
       "      <td>...</td>\n",
       "      <td>...</td>\n",
       "      <td>...</td>\n",
       "      <td>...</td>\n",
       "      <td>...</td>\n",
       "      <td>...</td>\n",
       "      <td>...</td>\n",
       "      <td>...</td>\n",
       "      <td>...</td>\n",
       "      <td>...</td>\n",
       "      <td>...</td>\n",
       "      <td>...</td>\n",
       "    </tr>\n",
       "    <tr>\n",
       "      <th>1876</th>\n",
       "      <td>raw</td>\n",
       "      <td>2021-04-29 12:25:32</td>\n",
       "      <td>dset3292</td>\n",
       "      <td>rank_effective</td>\n",
       "      <td>mvg_9</td>\n",
       "      <td>session</td>\n",
       "      <td>expert</td>\n",
       "      <td>(5,)</td>\n",
       "      <td>(sessions,)</td>\n",
       "      <td>NaN</td>\n",
       "      <td>rs</td>\n",
       "      <td>AVG</td>\n",
       "    </tr>\n",
       "    <tr>\n",
       "      <th>1877</th>\n",
       "      <td>raw</td>\n",
       "      <td>2021-04-29 12:25:33</td>\n",
       "      <td>dset3293</td>\n",
       "      <td>rank_effective</td>\n",
       "      <td>mvg_9</td>\n",
       "      <td>session</td>\n",
       "      <td>expert</td>\n",
       "      <td>(5,)</td>\n",
       "      <td>(sessions,)</td>\n",
       "      <td>iFA</td>\n",
       "      <td>rs</td>\n",
       "      <td>AVG</td>\n",
       "    </tr>\n",
       "    <tr>\n",
       "      <th>1878</th>\n",
       "      <td>raw</td>\n",
       "      <td>2021-04-29 12:25:34</td>\n",
       "      <td>dset3294</td>\n",
       "      <td>rank_effective</td>\n",
       "      <td>mvg_9</td>\n",
       "      <td>session</td>\n",
       "      <td>expert</td>\n",
       "      <td>(5,)</td>\n",
       "      <td>(sessions,)</td>\n",
       "      <td>iMISS</td>\n",
       "      <td>rs</td>\n",
       "      <td>AVG</td>\n",
       "    </tr>\n",
       "    <tr>\n",
       "      <th>1879</th>\n",
       "      <td>raw</td>\n",
       "      <td>2021-04-29 12:25:34</td>\n",
       "      <td>dset3295</td>\n",
       "      <td>rank_effective</td>\n",
       "      <td>mvg_9</td>\n",
       "      <td>session</td>\n",
       "      <td>expert</td>\n",
       "      <td>(5,)</td>\n",
       "      <td>(sessions,)</td>\n",
       "      <td>iGO</td>\n",
       "      <td>rs</td>\n",
       "      <td>AVG</td>\n",
       "    </tr>\n",
       "    <tr>\n",
       "      <th>1880</th>\n",
       "      <td>raw</td>\n",
       "      <td>2021-04-29 12:25:35</td>\n",
       "      <td>dset3296</td>\n",
       "      <td>rank_effective</td>\n",
       "      <td>mvg_9</td>\n",
       "      <td>session</td>\n",
       "      <td>expert</td>\n",
       "      <td>(5,)</td>\n",
       "      <td>(sessions,)</td>\n",
       "      <td>iNOGO</td>\n",
       "      <td>rs</td>\n",
       "      <td>AVG</td>\n",
       "    </tr>\n",
       "  </tbody>\n",
       "</table>\n",
       "<p>1881 rows × 12 columns</p>\n",
       "</div>"
      ],
      "text/plain": [
       "        datatype            datetime      dset          metric mousename  \\\n",
       "0     bn_session 2021-04-29 10:21:19  dset1416            mean     mvg_8   \n",
       "1     bn_session 2021-04-29 10:21:20  dset1417            mean     mvg_8   \n",
       "2     bn_session 2021-04-29 10:21:20  dset1418            mean     mvg_8   \n",
       "3     bn_session 2021-04-29 10:21:20  dset1419            mean     mvg_8   \n",
       "4     bn_session 2021-04-29 10:21:21  dset1420            mean     mvg_8   \n",
       "...          ...                 ...       ...             ...       ...   \n",
       "1876         raw 2021-04-29 12:25:32  dset3292  rank_effective     mvg_9   \n",
       "1877         raw 2021-04-29 12:25:33  dset3293  rank_effective     mvg_9   \n",
       "1878         raw 2021-04-29 12:25:34  dset3294  rank_effective     mvg_9   \n",
       "1879         raw 2021-04-29 12:25:34  dset3295  rank_effective     mvg_9   \n",
       "1880         raw 2021-04-29 12:25:35  dset3296  rank_effective     mvg_9   \n",
       "\n",
       "         name performance   shape    target_dim trialType zscoreDim cropTime  \n",
       "0        time        None  (200,)  (timesteps,)      None      None      NaN  \n",
       "1        time        None  (200,)  (timesteps,)       iFA      None      NaN  \n",
       "2        time        None  (200,)  (timesteps,)     iMISS      None      NaN  \n",
       "3        time        None  (200,)  (timesteps,)       iGO      None      NaN  \n",
       "4        time        None  (200,)  (timesteps,)     iNOGO      None      NaN  \n",
       "...       ...         ...     ...           ...       ...       ...      ...  \n",
       "1876  session      expert    (5,)   (sessions,)       NaN        rs      AVG  \n",
       "1877  session      expert    (5,)   (sessions,)       iFA        rs      AVG  \n",
       "1878  session      expert    (5,)   (sessions,)     iMISS        rs      AVG  \n",
       "1879  session      expert    (5,)   (sessions,)       iGO        rs      AVG  \n",
       "1880  session      expert    (5,)   (sessions,)     iNOGO        rs      AVG  \n",
       "\n",
       "[1881 rows x 12 columns]"
      ]
     },
     "execution_count": 7,
     "metadata": {},
     "output_type": "execute_result"
    }
   ],
   "source": [
    "df = ds.list_dsets_pd()\n",
    "df"
   ]
  },
  {
   "cell_type": "markdown",
   "metadata": {},
   "source": [
    "* **FIX (,trialtype)**\n",
    "* **Add None too**"
   ]
  },
  {
   "cell_type": "code",
   "execution_count": 8,
   "metadata": {
    "scrolled": true
   },
   "outputs": [
    {
     "ename": "AttributeError",
     "evalue": "module 'lib.analysis.bulk_metrics' has no attribute 'metric_mouse_bulk'",
     "output_type": "error",
     "traceback": [
      "\u001b[0;31m---------------------------------------------------------------------------\u001b[0m",
      "\u001b[0;31mAttributeError\u001b[0m                            Traceback (most recent call last)",
      "\u001b[0;32m<ipython-input-8-7d9327595e0e>\u001b[0m in \u001b[0;36m<module>\u001b[0;34m\u001b[0m\n\u001b[0;32m----> 1\u001b[0;31m bulk_metrics.metric_mouse_bulk(dataDB, mc, ds, 'mean', 's', 'time', verbose=False, minTrials=10,\n\u001b[0m\u001b[1;32m      2\u001b[0m                                trialTypeNames='auto', perfNames='auto', skipExisting=False, dropChannels=[21])\n",
      "\u001b[0;31mAttributeError\u001b[0m: module 'lib.analysis.bulk_metrics' has no attribute 'metric_mouse_bulk'"
     ]
    }
   ],
   "source": [
    "# bulk_metrics.metric_mouse_bulk(dataDB, mc, ds, 'mean', 's', 'time', verbose=False, minTrials=10,\n",
    "#                                trialTypeNames='auto', perfNames='auto', skipExisting=False, dropChannels=[21])\n",
    "\n",
    "DROP_CHANNELS???\n",
    "\n",
    "calc_metric_mouse_delay(dataDB, mc, ds, 'mean', 's', 'time', verbose=False, minTrials=10, haveDelay=True,\n",
    "                        skipExisting=False, exclQueryLst=exclQueryLst, **argSweepDictTime)"
   ]
  },
  {
   "cell_type": "code",
   "execution_count": null,
   "metadata": {},
   "outputs": [],
   "source": [
    "# bulk_metrics.plot_metric_bulk(ds, 'mean', 'time', verbose=False, xFunc=lambda m, l: dataDB.get_times())\n",
    "bulk_metrics.plot_metric_bulk_1D(dataDB, ds, 'mean', 'time', verbose=False, haveTimeLabels=False,\n",
    "                                 xFunc=lambda m, l: dataDB.get_times())"
   ]
  },
  {
   "cell_type": "code",
   "execution_count": null,
   "metadata": {
    "scrolled": true
   },
   "outputs": [],
   "source": [
    "bulk_metrics.plot_metric_bulk(ds, 'mean', 'time', verbose=False, xFunc=lambda m, l: dataDB.get_times())"
   ]
  },
  {
   "cell_type": "markdown",
   "metadata": {},
   "source": [
    "### 1.2. Mean vs session"
   ]
  },
  {
   "cell_type": "code",
   "execution_count": null,
   "metadata": {
    "scrolled": true
   },
   "outputs": [],
   "source": [
    "for intervName in intervNames:\n",
    "    bulk_metrics.metric_mouse_bulk_vs_session(dataDB, mc, ds, \"mean\", 'session', skipExisting=False,\n",
    "                                              minTrials=10, dropChannels=[21], verbose=False, \n",
    "                                              trialTypeNames='auto', perfNames=[None, 'naive', 'expert'],\n",
    "                                              intervName=intervName)"
   ]
  },
  {
   "cell_type": "code",
   "execution_count": null,
   "metadata": {
    "scrolled": true
   },
   "outputs": [],
   "source": [
    "bulk_metrics.scatter_metric_bulk(ds, 'mean', 'session', verbose=False, xlim=[0, 1],\n",
    "                              xFunc=lambda m, l: dataDB.get_performance_mouse(m), haveRegression=True)"
   ]
  },
  {
   "cell_type": "markdown",
   "metadata": {},
   "source": [
    "### 1.3 Conditions"
   ]
  },
  {
   "cell_type": "code",
   "execution_count": null,
   "metadata": {
    "scrolled": true
   },
   "outputs": [],
   "source": [
    "bulk_metrics.barplot_conditions(ds, 'mean', 'session', verbose=True, trialTypes=['iGO', 'iNOGO'])"
   ]
  },
  {
   "cell_type": "markdown",
   "metadata": {},
   "source": [
    "## 2. Variance\n",
    "\n",
    "**TODO**\n",
    "* Plot trial variance relative to temporal variance\n",
    "* Plot mean with variance together\n",
    "\n",
    "### Pros/Cons of Baseline Normalization\n",
    "* DFF-Trial\n",
    "    - Pos: Removes dynamic baseline changing on the order of trials.\n",
    "    - Pos: Under assumption of signal-free pre-trial interval, baseline removal enhances relative change in significant activity during trial.\n",
    "    - Neg: In presence of correlation between pre-trial interval and trial signals, this procedure destroys information during trial.\n",
    "\n",
    "* DFF-Session vs ZScore-Session\n",
    "    - Both linear transforms\n",
    "    - Mean is more meaningful for DFF if pre-trial interval is at least somewhat stable\n",
    "    - Va"
   ]
  },
  {
   "cell_type": "code",
   "execution_count": null,
   "metadata": {
    "collapsed": true,
    "scrolled": true
   },
   "outputs": [],
   "source": [
    "bulk_metrics.metric_mouse_bulk(dataDB, mc, ds, 'varmean', 's', 'time', verbose=False, minTrials=50,\n",
    "                               trialTypeNames='auto', perfNames='auto', skipExisting=False)"
   ]
  },
  {
   "cell_type": "code",
   "execution_count": null,
   "metadata": {
    "collapsed": true,
    "scrolled": true
   },
   "outputs": [],
   "source": [
    "bulk_metrics.plot_metric_bulk(ds, 'varmean', 'time',\n",
    "                              ylim=[0,None], verbose=False, xFunc=lambda m, l: dataDB.get_times())"
   ]
  },
  {
   "cell_type": "markdown",
   "metadata": {},
   "source": [
    "### Session"
   ]
  },
  {
   "cell_type": "code",
   "execution_count": null,
   "metadata": {
    "collapsed": true,
    "scrolled": true
   },
   "outputs": [],
   "source": [
    "for intervName in intervNames:\n",
    "    bulk_metrics.metric_mouse_bulk_vs_session(dataDB, mc, ds, \"varmean\", 'session', trialTypeNames='auto',\n",
    "                                              minTrials=50, verbose=False, intervName=intervName,\n",
    "                                              skipExisting=False)"
   ]
  },
  {
   "cell_type": "code",
   "execution_count": null,
   "metadata": {
    "collapsed": true,
    "scrolled": true
   },
   "outputs": [],
   "source": [
    "bulk_metrics.scatter_metric_bulk(ds, 'varmean', 'session', verbose=False,\n",
    "                              xFunc=lambda m, l: dataDB.get_performance_mouse(m), haveRegression=True)"
   ]
  },
  {
   "cell_type": "markdown",
   "metadata": {},
   "source": [
    "### Conditions"
   ]
  },
  {
   "cell_type": "code",
   "execution_count": null,
   "metadata": {
    "collapsed": true
   },
   "outputs": [],
   "source": [
    "bulk_metrics.barplot_conditions(ds, 'varmean', 'session', verbose=True, trialTypes=['iGO', 'iNOGO'])"
   ]
  },
  {
   "cell_type": "markdown",
   "metadata": {},
   "source": [
    "### Test variance across channels for interesting interval\n",
    "\n",
    "* Average signal over texture presentation interval\n",
    "* Compute variance over trials for each channel\n",
    "* Compare channels"
   ]
  },
  {
   "cell_type": "code",
   "execution_count": null,
   "metadata": {
    "collapsed": true
   },
   "outputs": [],
   "source": [
    "bulk_metrics.metric_mouse_bulk(dataDB, mc, ds, 'varmean', 'p', 'channel',\n",
    "                               cropTime=('TEX', (3, 3.5)), verbose=False)"
   ]
  },
  {
   "cell_type": "code",
   "execution_count": null,
   "metadata": {
    "collapsed": true,
    "scrolled": true
   },
   "outputs": [],
   "source": [
    "bulk_metrics.plot_metric_bulk(ds, 'varmean', 'channel', yscale='log', verbose=False, # ylim=[0.005,2],\n",
    "                              dropCols=['cropTime'])"
   ]
  },
  {
   "cell_type": "markdown",
   "metadata": {
    "collapsed": true
   },
   "source": [
    "# Effective Rank\n",
    "\n",
    "### ByTime"
   ]
  },
  {
   "cell_type": "code",
   "execution_count": null,
   "metadata": {},
   "outputs": [],
   "source": [
    "bulk_metrics.metric_mouse_bulk(dataDB, mc, ds, \"rank_effective\", 's', 'time', verbose=False, skipExisting=False,\n",
    "                               minTrials=50, trialTypeNames='auto', perfNames='auto', dropChannels=[21])"
   ]
  },
  {
   "cell_type": "code",
   "execution_count": null,
   "metadata": {
    "scrolled": true
   },
   "outputs": [],
   "source": [
    "bulk_metrics.plot_metric_bulk(ds, 'rank_effective', 'time', ylim=[1, None], verbose=False,\n",
    "                              xFunc=lambda m, l: dataDB.get_times()) # ylim=[1,48]"
   ]
  },
  {
   "cell_type": "markdown",
   "metadata": {},
   "source": [
    "### BySession"
   ]
  },
  {
   "cell_type": "code",
   "execution_count": null,
   "metadata": {
    "scrolled": true
   },
   "outputs": [],
   "source": [
    "for intervName in intervNames:\n",
    "    bulk_metrics.metric_mouse_bulk_vs_session(dataDB, mc, ds, \"rank_effective\", 'session', skipExisting=True,\n",
    "                                              minTrials=50, perfNames=[None, 'naive', 'expert'],\n",
    "                                              dropChannels=[21], trialTypeNames='auto', verbose=False,\n",
    "                                              intervName=intervName)"
   ]
  },
  {
   "cell_type": "code",
   "execution_count": null,
   "metadata": {
    "scrolled": true
   },
   "outputs": [],
   "source": [
    "bulk_metrics.scatter_metric_bulk(ds, 'rank_effective', 'session', xlim=[0, 1], ylim=[1, None], verbose=False,\n",
    "                                 xFunc=lambda m, l: dataDB.get_performance_mouse(m), haveRegression=True)"
   ]
  },
  {
   "cell_type": "markdown",
   "metadata": {},
   "source": [
    "### Conditions"
   ]
  },
  {
   "cell_type": "code",
   "execution_count": null,
   "metadata": {},
   "outputs": [],
   "source": [
    "bulk_metrics.barplot_conditions(ds, 'rank_effective', 'session', verbose=True, trialTypes=['iGO', 'iNOGO'])"
   ]
  },
  {
   "cell_type": "markdown",
   "metadata": {},
   "source": [
    "## Hierarchical\n",
    "\n",
    "**TODO**:\n",
    "* Add composite selectors for metric helper\n",
    "   - trialType = iGO & iNOGO\n",
    "   - cropTime = TEX & REW"
   ]
  },
  {
   "cell_type": "code",
   "execution_count": null,
   "metadata": {
    "collapsed": true
   },
   "outputs": [],
   "source": [
    "for intervName in dataDB.get_interval_names():\n",
    "    bulk_metrics.metric_mouse_bulk(dataDB, mc, ds, \"rank_effective\", '', 'flat', verbose=False,\n",
    "                                   trialTypeNames='auto',\n",
    "                                   perfNames='auto',\n",
    "                                   intervName=intervName)"
   ]
  },
  {
   "cell_type": "code",
   "execution_count": null,
   "metadata": {
    "collapsed": true
   },
   "outputs": [],
   "source": [
    "df = ds.list_dsets_pd()\n",
    "df = df[df['name'] == 'flat']"
   ]
  },
  {
   "cell_type": "code",
   "execution_count": null,
   "metadata": {
    "collapsed": true
   },
   "outputs": [],
   "source": [
    "data = [np.round(ds.get_data(dset), 2) for dset in df['dset']]\n",
    "df['rez'] = data"
   ]
  },
  {
   "cell_type": "code",
   "execution_count": null,
   "metadata": {
    "collapsed": true
   },
   "outputs": [],
   "source": [
    "df.drop(['datetime', 'zscoreDim', 'dset', 'metric', 'name', 'shape', 'target_dim'], axis=1, inplace=True)"
   ]
  },
  {
   "cell_type": "code",
   "execution_count": null,
   "metadata": {
    "collapsed": true
   },
   "outputs": [],
   "source": [
    "from mesostat.utils.pandas_helper import pd_category_to_column"
   ]
  },
  {
   "cell_type": "code",
   "execution_count": null,
   "metadata": {
    "collapsed": true
   },
   "outputs": [],
   "source": [
    "index = list(set(df.columns) - {'mousename', 'rez'})\n",
    "dfMouse = df.pivot(index=index, columns='mousename', values='rez').reset_index()"
   ]
  },
  {
   "cell_type": "code",
   "execution_count": null,
   "metadata": {
    "collapsed": true,
    "scrolled": true
   },
   "outputs": [],
   "source": [
    "dfMouse[dfMouse['datatype'] == 'bn_trial']"
   ]
  },
  {
   "cell_type": "markdown",
   "metadata": {},
   "source": [
    "# Total Correlation"
   ]
  },
  {
   "cell_type": "code",
   "execution_count": null,
   "metadata": {
    "collapsed": true
   },
   "outputs": [],
   "source": [
    "# bulk_metrics.metric_mouse_bulk(dataDB, mc, ds, \"avg_entropy\", 'sp', 'time-channel', verbose=False)\n",
    "# bulk_metrics.metric_mouse_bulk(dataDB, mc, ds, \"avg_entropy\", 's', 'time', verbose=False)\n",
    "\n",
    "bulk_metrics.metric_mouse_bulk(dataDB, mc, ds, \"avg_TC\", 's', 'time', verbose=False)"
   ]
  },
  {
   "cell_type": "code",
   "execution_count": null,
   "metadata": {
    "collapsed": true,
    "scrolled": true
   },
   "outputs": [],
   "source": [
    "bulk_metrics.plot_metric_bulk(dataDB, ds, 'avg_TC', 'time', verbose=True) # ylim=[1,48]"
   ]
  },
  {
   "cell_type": "code",
   "execution_count": null,
   "metadata": {
    "collapsed": true,
    "scrolled": true
   },
   "outputs": [],
   "source": [
    "bulk_metrics.plot_TC(dataDB, ds, ylim=None, yscale=None, verbose=True)"
   ]
  },
  {
   "cell_type": "markdown",
   "metadata": {},
   "source": [
    "### Cleaning up"
   ]
  },
  {
   "cell_type": "code",
   "execution_count": null,
   "metadata": {
    "collapsed": true
   },
   "outputs": [],
   "source": [
    "with pd.option_context('display.max_rows', None, 'display.max_columns', None):\n",
    "    display(ds.list_dsets_pd().sort_values(by='datetime'))"
   ]
  },
  {
   "cell_type": "code",
   "execution_count": null,
   "metadata": {
    "collapsed": true
   },
   "outputs": [],
   "source": [
    "ds.delete_by_query(queryDict={\"metric\" : \"rank_effective\"}, timestr=\"2020-11-20 18:00:00\")"
   ]
  },
  {
   "cell_type": "code",
   "execution_count": null,
   "metadata": {
    "collapsed": true
   },
   "outputs": [],
   "source": []
  }
 ],
 "metadata": {
  "kernelspec": {
   "display_name": "py3ml",
   "language": "python",
   "name": "py3ml"
  },
  "language_info": {
   "codemirror_mode": {
    "name": "ipython",
    "version": 3
   },
   "file_extension": ".py",
   "mimetype": "text/x-python",
   "name": "python",
   "nbconvert_exporter": "python",
   "pygments_lexer": "ipython3",
   "version": "3.8.5"
  }
 },
 "nbformat": 4,
 "nbformat_minor": 2
}

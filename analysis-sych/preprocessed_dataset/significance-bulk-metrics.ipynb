{
 "cells": [
  {
   "cell_type": "code",
   "execution_count": 4,
   "metadata": {},
   "outputs": [
    {
     "name": "stdout",
     "output_type": "stream",
     "text": [
      "Appended root directory /home/alyosha/work/git/pub-2020-exploratory-analysis\n",
      "The autoreload extension is already loaded. To reload it, use:\n",
      "  %reload_ext autoreload\n"
     ]
    }
   ],
   "source": [
    "# Standard libraries\n",
    "import numpy as np\n",
    "import pandas as pd\n",
    "import matplotlib.pyplot as plt\n",
    "from ipywidgets import IntProgress\n",
    "from IPython.display import display\n",
    "from scipy.stats import mannwhitneyu, wilcoxon\n",
    "\n",
    "# Append base directory\n",
    "import os,sys,inspect\n",
    "rootname = \"pub-2020-exploratory-analysis\"\n",
    "thispath = os.path.dirname(os.path.abspath(inspect.getfile(inspect.currentframe())))\n",
    "rootpath = os.path.join(thispath[:thispath.index(rootname)], rootname)\n",
    "sys.path.append(rootpath)\n",
    "print(\"Appended root directory\", rootpath)\n",
    "\n",
    "from mesostat.utils.qt_helper import gui_fnames, gui_fpath\n",
    "from mesostat.metric.metric import MetricCalculator\n",
    "from mesostat.utils.hdf5_io import DataStorage\n",
    "\n",
    "from lib.sych.data_fc_db_raw import DataFCDatabase\n",
    "import lib.analysis.bulk_metrics as bulk_metrics\n",
    "\n",
    "%load_ext autoreload\n",
    "%autoreload 2"
   ]
  },
  {
   "cell_type": "code",
   "execution_count": 5,
   "metadata": {},
   "outputs": [],
   "source": [
    "# tmp_path = root_path_data if 'root_path_data' in locals() else \"./\"\n",
    "params = {}\n",
    "# params['root_path_data'] = './'\n",
    "params['root_path_data'] = '/media/alyosha/Data/TE_data/yarodata/sych_preprocessed'\n",
    "#params['root_path_data'] = gui_fpath('h5path', './')"
   ]
  },
  {
   "cell_type": "code",
   "execution_count": 6,
   "metadata": {},
   "outputs": [
    {
     "name": "stdout",
     "output_type": "stream",
     "text": [
      "Searching for data files\n",
      "Extracting trial type names\n",
      "Extracting data types\n"
     ]
    }
   ],
   "source": [
    "dataDB = DataFCDatabase(params)"
   ]
  },
  {
   "cell_type": "code",
   "execution_count": 7,
   "metadata": {},
   "outputs": [],
   "source": [
    "ds = DataStorage('sych_result_bulk_metrics.h5')"
   ]
  },
  {
   "cell_type": "code",
   "execution_count": 8,
   "metadata": {},
   "outputs": [],
   "source": [
    "mc = MetricCalculator(serial=True, verbose=False)"
   ]
  },
  {
   "cell_type": "markdown",
   "metadata": {},
   "source": [
    "# Bulk Metrics"
   ]
  },
  {
   "cell_type": "code",
   "execution_count": 9,
   "metadata": {},
   "outputs": [],
   "source": [
    "intervDict = {\n",
    "    'PRE' : (-2.0, 0.0),\n",
    "    'TEX' : (3.0, 3.5),\n",
    "    'REW' : (6.0, 6.5),\n",
    "    'AVG' : (0.0, 8.0)\n",
    "}"
   ]
  },
  {
   "cell_type": "markdown",
   "metadata": {},
   "source": [
    "## 1. Mean\n",
    "### 1.1. Mean vs time"
   ]
  },
  {
   "cell_type": "code",
   "execution_count": 38,
   "metadata": {},
   "outputs": [
    {
     "data": {
      "text/html": [
       "<div>\n",
       "<style scoped>\n",
       "    .dataframe tbody tr th:only-of-type {\n",
       "        vertical-align: middle;\n",
       "    }\n",
       "\n",
       "    .dataframe tbody tr th {\n",
       "        vertical-align: top;\n",
       "    }\n",
       "\n",
       "    .dataframe thead th {\n",
       "        text-align: right;\n",
       "    }\n",
       "</style>\n",
       "<table border=\"1\" class=\"dataframe\">\n",
       "  <thead>\n",
       "    <tr style=\"text-align: right;\">\n",
       "      <th></th>\n",
       "      <th>cropTime</th>\n",
       "      <th>datatype</th>\n",
       "      <th>datetime</th>\n",
       "      <th>dset</th>\n",
       "      <th>metric</th>\n",
       "      <th>mousename</th>\n",
       "      <th>name</th>\n",
       "      <th>shape</th>\n",
       "      <th>target_dim</th>\n",
       "      <th>trialType</th>\n",
       "      <th>performance</th>\n",
       "      <th>zscoreDim</th>\n",
       "    </tr>\n",
       "  </thead>\n",
       "  <tbody>\n",
       "    <tr>\n",
       "      <th>4</th>\n",
       "      <td>TEX</td>\n",
       "      <td>raw</td>\n",
       "      <td>2021-04-27 14:46:12</td>\n",
       "      <td>dset1000</td>\n",
       "      <td>rank_effective</td>\n",
       "      <td>mvg_8</td>\n",
       "      <td>session</td>\n",
       "      <td>(7,)</td>\n",
       "      <td>(sessions,)</td>\n",
       "      <td>NaN</td>\n",
       "      <td>naive</td>\n",
       "      <td>rs</td>\n",
       "    </tr>\n",
       "    <tr>\n",
       "      <th>5</th>\n",
       "      <td>TEX</td>\n",
       "      <td>raw</td>\n",
       "      <td>2021-04-27 14:46:13</td>\n",
       "      <td>dset1001</td>\n",
       "      <td>rank_effective</td>\n",
       "      <td>mvg_8</td>\n",
       "      <td>session</td>\n",
       "      <td>(7,)</td>\n",
       "      <td>(sessions,)</td>\n",
       "      <td>iFA</td>\n",
       "      <td>naive</td>\n",
       "      <td>rs</td>\n",
       "    </tr>\n",
       "    <tr>\n",
       "      <th>6</th>\n",
       "      <td>TEX</td>\n",
       "      <td>raw</td>\n",
       "      <td>2021-04-27 14:46:13</td>\n",
       "      <td>dset1002</td>\n",
       "      <td>rank_effective</td>\n",
       "      <td>mvg_8</td>\n",
       "      <td>session</td>\n",
       "      <td>(7,)</td>\n",
       "      <td>(sessions,)</td>\n",
       "      <td>iGO</td>\n",
       "      <td>naive</td>\n",
       "      <td>rs</td>\n",
       "    </tr>\n",
       "    <tr>\n",
       "      <th>7</th>\n",
       "      <td>TEX</td>\n",
       "      <td>raw</td>\n",
       "      <td>2021-04-27 14:46:14</td>\n",
       "      <td>dset1003</td>\n",
       "      <td>rank_effective</td>\n",
       "      <td>mvg_8</td>\n",
       "      <td>session</td>\n",
       "      <td>(7,)</td>\n",
       "      <td>(sessions,)</td>\n",
       "      <td>iNOGO</td>\n",
       "      <td>naive</td>\n",
       "      <td>rs</td>\n",
       "    </tr>\n",
       "    <tr>\n",
       "      <th>8</th>\n",
       "      <td>TEX</td>\n",
       "      <td>raw</td>\n",
       "      <td>2021-04-27 14:46:14</td>\n",
       "      <td>dset1004</td>\n",
       "      <td>rank_effective</td>\n",
       "      <td>mvg_8</td>\n",
       "      <td>session</td>\n",
       "      <td>(7,)</td>\n",
       "      <td>(sessions,)</td>\n",
       "      <td>iMISS</td>\n",
       "      <td>naive</td>\n",
       "      <td>rs</td>\n",
       "    </tr>\n",
       "    <tr>\n",
       "      <th>...</th>\n",
       "      <td>...</td>\n",
       "      <td>...</td>\n",
       "      <td>...</td>\n",
       "      <td>...</td>\n",
       "      <td>...</td>\n",
       "      <td>...</td>\n",
       "      <td>...</td>\n",
       "      <td>...</td>\n",
       "      <td>...</td>\n",
       "      <td>...</td>\n",
       "      <td>...</td>\n",
       "      <td>...</td>\n",
       "    </tr>\n",
       "    <tr>\n",
       "      <th>0</th>\n",
       "      <td>AVG</td>\n",
       "      <td>raw</td>\n",
       "      <td>2021-04-29 11:16:36</td>\n",
       "      <td>dset2311</td>\n",
       "      <td>mean</td>\n",
       "      <td>mvg_9</td>\n",
       "      <td>session</td>\n",
       "      <td>(5,)</td>\n",
       "      <td>(sessions,)</td>\n",
       "      <td>NaN</td>\n",
       "      <td>expert</td>\n",
       "      <td>rs</td>\n",
       "    </tr>\n",
       "    <tr>\n",
       "      <th>0</th>\n",
       "      <td>AVG</td>\n",
       "      <td>raw</td>\n",
       "      <td>2021-04-29 11:16:36</td>\n",
       "      <td>dset2312</td>\n",
       "      <td>mean</td>\n",
       "      <td>mvg_9</td>\n",
       "      <td>session</td>\n",
       "      <td>(5,)</td>\n",
       "      <td>(sessions,)</td>\n",
       "      <td>iFA</td>\n",
       "      <td>expert</td>\n",
       "      <td>rs</td>\n",
       "    </tr>\n",
       "    <tr>\n",
       "      <th>0</th>\n",
       "      <td>AVG</td>\n",
       "      <td>raw</td>\n",
       "      <td>2021-04-29 11:16:37</td>\n",
       "      <td>dset2313</td>\n",
       "      <td>mean</td>\n",
       "      <td>mvg_9</td>\n",
       "      <td>session</td>\n",
       "      <td>(5,)</td>\n",
       "      <td>(sessions,)</td>\n",
       "      <td>iMISS</td>\n",
       "      <td>expert</td>\n",
       "      <td>rs</td>\n",
       "    </tr>\n",
       "    <tr>\n",
       "      <th>0</th>\n",
       "      <td>AVG</td>\n",
       "      <td>raw</td>\n",
       "      <td>2021-04-29 11:16:38</td>\n",
       "      <td>dset2314</td>\n",
       "      <td>mean</td>\n",
       "      <td>mvg_9</td>\n",
       "      <td>session</td>\n",
       "      <td>(5,)</td>\n",
       "      <td>(sessions,)</td>\n",
       "      <td>iGO</td>\n",
       "      <td>expert</td>\n",
       "      <td>rs</td>\n",
       "    </tr>\n",
       "    <tr>\n",
       "      <th>0</th>\n",
       "      <td>AVG</td>\n",
       "      <td>raw</td>\n",
       "      <td>2021-04-29 11:16:39</td>\n",
       "      <td>dset2315</td>\n",
       "      <td>mean</td>\n",
       "      <td>mvg_9</td>\n",
       "      <td>session</td>\n",
       "      <td>(5,)</td>\n",
       "      <td>(sessions,)</td>\n",
       "      <td>iNOGO</td>\n",
       "      <td>expert</td>\n",
       "      <td>rs</td>\n",
       "    </tr>\n",
       "  </tbody>\n",
       "</table>\n",
       "<p>1311 rows × 12 columns</p>\n",
       "</div>"
      ],
      "text/plain": [
       "   cropTime datatype            datetime      dset          metric mousename  \\\n",
       "4       TEX      raw 2021-04-27 14:46:12  dset1000  rank_effective     mvg_8   \n",
       "5       TEX      raw 2021-04-27 14:46:13  dset1001  rank_effective     mvg_8   \n",
       "6       TEX      raw 2021-04-27 14:46:13  dset1002  rank_effective     mvg_8   \n",
       "7       TEX      raw 2021-04-27 14:46:14  dset1003  rank_effective     mvg_8   \n",
       "8       TEX      raw 2021-04-27 14:46:14  dset1004  rank_effective     mvg_8   \n",
       "..      ...      ...                 ...       ...             ...       ...   \n",
       "0       AVG      raw 2021-04-29 11:16:36  dset2311            mean     mvg_9   \n",
       "0       AVG      raw 2021-04-29 11:16:36  dset2312            mean     mvg_9   \n",
       "0       AVG      raw 2021-04-29 11:16:37  dset2313            mean     mvg_9   \n",
       "0       AVG      raw 2021-04-29 11:16:38  dset2314            mean     mvg_9   \n",
       "0       AVG      raw 2021-04-29 11:16:39  dset2315            mean     mvg_9   \n",
       "\n",
       "       name shape   target_dim trialType performance zscoreDim  \n",
       "4   session  (7,)  (sessions,)       NaN       naive        rs  \n",
       "5   session  (7,)  (sessions,)       iFA       naive        rs  \n",
       "6   session  (7,)  (sessions,)       iGO       naive        rs  \n",
       "7   session  (7,)  (sessions,)     iNOGO       naive        rs  \n",
       "8   session  (7,)  (sessions,)     iMISS       naive        rs  \n",
       "..      ...   ...          ...       ...         ...       ...  \n",
       "0   session  (5,)  (sessions,)       NaN      expert        rs  \n",
       "0   session  (5,)  (sessions,)       iFA      expert        rs  \n",
       "0   session  (5,)  (sessions,)     iMISS      expert        rs  \n",
       "0   session  (5,)  (sessions,)       iGO      expert        rs  \n",
       "0   session  (5,)  (sessions,)     iNOGO      expert        rs  \n",
       "\n",
       "[1311 rows x 12 columns]"
      ]
     },
     "execution_count": 38,
     "metadata": {},
     "output_type": "execute_result"
    }
   ],
   "source": [
    "df = ds.list_dsets_pd()\n",
    "df"
   ]
  },
  {
   "cell_type": "markdown",
   "metadata": {},
   "source": [
    "* **FIX (,trialtype)**\n",
    "* **Add None too**"
   ]
  },
  {
   "cell_type": "code",
   "execution_count": 11,
   "metadata": {
    "scrolled": true
   },
   "outputs": [
    {
     "data": {
      "application/vnd.jupyter.widget-view+json": {
       "model_id": "d98dda40c059422d9bfc5bf8b37bb2ac",
       "version_major": 2,
       "version_minor": 0
      },
      "text/plain": [
       "IntProgress(value=0, description='time', max=180)"
      ]
     },
     "metadata": {},
     "output_type": "display_data"
    }
   ],
   "source": [
    "bulk_metrics.metric_mouse_bulk(dataDB, mc, ds, 'mean', 's', 'time', verbose=False, minTrials=10,\n",
    "                               trialTypeNames='auto', perfNames='auto', skipExisting=False, dropChannels=[21])"
   ]
  },
  {
   "cell_type": "code",
   "execution_count": 29,
   "metadata": {
    "scrolled": true
   },
   "outputs": [
    {
     "name": "stdout",
     "output_type": "stream",
     "text": [
      "['mean', 'time', 'mvg_4', 'None', 'bn_session', 'dset1461', 'None', 'None', 'None']\n",
      "['mean', 'time', 'mvg_7', 'None', 'bn_session', 'dset1506', 'None', 'None', 'None']\n",
      "['mean', 'time', 'mvg_8', 'None', 'bn_session', 'dset1416', 'None', 'None', 'None']\n",
      "['mean', 'time', 'mvg_9', 'None', 'bn_session', 'dset1551', 'None', 'None', 'None']\n",
      "['mean', 'time', 'mvg_4', 'None', 'bn_session', 'dset1462', 'iFA', 'None', 'None']\n",
      "['mean', 'time', 'mvg_7', 'None', 'bn_session', 'dset1507', 'iFA', 'None', 'None']\n",
      "['mean', 'time', 'mvg_8', 'None', 'bn_session', 'dset1417', 'iFA', 'None', 'None']\n",
      "['mean', 'time', 'mvg_9', 'None', 'bn_session', 'dset1552', 'iFA', 'None', 'None']\n",
      "['mean', 'time', 'mvg_4', 'None', 'bn_session', 'dset1464', 'iGO', 'None', 'None']\n",
      "['mean', 'time', 'mvg_7', 'None', 'bn_session', 'dset1509', 'iGO', 'None', 'None']\n",
      "['mean', 'time', 'mvg_8', 'None', 'bn_session', 'dset1419', 'iGO', 'None', 'None']\n",
      "['mean', 'time', 'mvg_9', 'None', 'bn_session', 'dset1554', 'iGO', 'None', 'None']\n",
      "['mean', 'time', 'mvg_4', 'None', 'bn_session', 'dset1463', 'iMISS', 'None', 'None']\n",
      "['mean', 'time', 'mvg_7', 'None', 'bn_session', 'dset1508', 'iMISS', 'None', 'None']\n",
      "['mean', 'time', 'mvg_8', 'None', 'bn_session', 'dset1418', 'iMISS', 'None', 'None']\n",
      "['mean', 'time', 'mvg_9', 'None', 'bn_session', 'dset1553', 'iMISS', 'None', 'None']\n",
      "['mean', 'time', 'mvg_4', 'None', 'bn_session', 'dset1465', 'iNOGO', 'None', 'None']\n",
      "['mean', 'time', 'mvg_7', 'None', 'bn_session', 'dset1510', 'iNOGO', 'None', 'None']\n",
      "['mean', 'time', 'mvg_8', 'None', 'bn_session', 'dset1420', 'iNOGO', 'None', 'None']\n",
      "['mean', 'time', 'mvg_9', 'None', 'bn_session', 'dset1555', 'iNOGO', 'None', 'None']\n",
      "['mean', 'time', 'mvg_4', 'None', 'bn_trial', 'dset1476', 'None', 'None', 'None']\n",
      "['mean', 'time', 'mvg_7', 'None', 'bn_trial', 'dset1521', 'None', 'None', 'None']\n",
      "['mean', 'time', 'mvg_8', 'None', 'bn_trial', 'dset1431', 'None', 'None', 'None']\n",
      "['mean', 'time', 'mvg_9', 'None', 'bn_trial', 'dset1566', 'None', 'None', 'None']\n",
      "['mean', 'time', 'mvg_4', 'None', 'bn_trial', 'dset1477', 'iFA', 'None', 'None']\n",
      "['mean', 'time', 'mvg_7', 'None', 'bn_trial', 'dset1522', 'iFA', 'None', 'None']\n",
      "['mean', 'time', 'mvg_8', 'None', 'bn_trial', 'dset1432', 'iFA', 'None', 'None']\n",
      "['mean', 'time', 'mvg_9', 'None', 'bn_trial', 'dset1567', 'iFA', 'None', 'None']\n",
      "['mean', 'time', 'mvg_4', 'None', 'bn_trial', 'dset1479', 'iGO', 'None', 'None']\n",
      "['mean', 'time', 'mvg_7', 'None', 'bn_trial', 'dset1524', 'iGO', 'None', 'None']\n",
      "['mean', 'time', 'mvg_8', 'None', 'bn_trial', 'dset1434', 'iGO', 'None', 'None']\n",
      "['mean', 'time', 'mvg_9', 'None', 'bn_trial', 'dset1569', 'iGO', 'None', 'None']\n",
      "['mean', 'time', 'mvg_4', 'None', 'bn_trial', 'dset1478', 'iMISS', 'None', 'None']\n",
      "['mean', 'time', 'mvg_7', 'None', 'bn_trial', 'dset1523', 'iMISS', 'None', 'None']\n",
      "['mean', 'time', 'mvg_8', 'None', 'bn_trial', 'dset1433', 'iMISS', 'None', 'None']\n",
      "['mean', 'time', 'mvg_9', 'None', 'bn_trial', 'dset1568', 'iMISS', 'None', 'None']\n",
      "['mean', 'time', 'mvg_4', 'None', 'bn_trial', 'dset1480', 'iNOGO', 'None', 'None']\n",
      "['mean', 'time', 'mvg_7', 'None', 'bn_trial', 'dset1525', 'iNOGO', 'None', 'None']\n",
      "['mean', 'time', 'mvg_8', 'None', 'bn_trial', 'dset1435', 'iNOGO', 'None', 'None']\n",
      "['mean', 'time', 'mvg_9', 'None', 'bn_trial', 'dset1570', 'iNOGO', 'None', 'None']\n",
      "['mean', 'time', 'mvg_4', 'None', 'bn_session', 'dset1471', 'None', 'expert', 'None']\n",
      "['mean', 'time', 'mvg_7', 'None', 'bn_session', 'dset1516', 'None', 'expert', 'None']\n",
      "['mean', 'time', 'mvg_8', 'None', 'bn_session', 'dset1426', 'None', 'expert', 'None']\n",
      "['mean', 'time', 'mvg_9', 'None', 'bn_session', 'dset1561', 'None', 'expert', 'None']\n",
      "['mean', 'time', 'mvg_4', 'None', 'bn_session', 'dset1472', 'iFA', 'expert', 'None']\n",
      "['mean', 'time', 'mvg_7', 'None', 'bn_session', 'dset1517', 'iFA', 'expert', 'None']\n",
      "['mean', 'time', 'mvg_8', 'None', 'bn_session', 'dset1427', 'iFA', 'expert', 'None']\n",
      "['mean', 'time', 'mvg_9', 'None', 'bn_session', 'dset1562', 'iFA', 'expert', 'None']\n",
      "['mean', 'time', 'mvg_4', 'None', 'bn_session', 'dset1474', 'iGO', 'expert', 'None']\n",
      "['mean', 'time', 'mvg_7', 'None', 'bn_session', 'dset1519', 'iGO', 'expert', 'None']\n",
      "['mean', 'time', 'mvg_8', 'None', 'bn_session', 'dset1429', 'iGO', 'expert', 'None']\n",
      "['mean', 'time', 'mvg_9', 'None', 'bn_session', 'dset1564', 'iGO', 'expert', 'None']\n",
      "['mean', 'time', 'mvg_4', 'None', 'bn_session', 'dset1473', 'iMISS', 'expert', 'None']\n",
      "['mean', 'time', 'mvg_7', 'None', 'bn_session', 'dset1518', 'iMISS', 'expert', 'None']\n",
      "['mean', 'time', 'mvg_8', 'None', 'bn_session', 'dset1428', 'iMISS', 'expert', 'None']\n",
      "['mean', 'time', 'mvg_9', 'None', 'bn_session', 'dset1563', 'iMISS', 'expert', 'None']\n",
      "['mean', 'time', 'mvg_4', 'None', 'bn_session', 'dset1475', 'iNOGO', 'expert', 'None']\n",
      "['mean', 'time', 'mvg_7', 'None', 'bn_session', 'dset1520', 'iNOGO', 'expert', 'None']\n",
      "['mean', 'time', 'mvg_8', 'None', 'bn_session', 'dset1430', 'iNOGO', 'expert', 'None']\n",
      "['mean', 'time', 'mvg_9', 'None', 'bn_session', 'dset1565', 'iNOGO', 'expert', 'None']\n",
      "['mean', 'time', 'mvg_4', 'None', 'bn_trial', 'dset1486', 'None', 'expert', 'None']\n",
      "['mean', 'time', 'mvg_7', 'None', 'bn_trial', 'dset1531', 'None', 'expert', 'None']\n",
      "['mean', 'time', 'mvg_8', 'None', 'bn_trial', 'dset1441', 'None', 'expert', 'None']\n",
      "['mean', 'time', 'mvg_9', 'None', 'bn_trial', 'dset1576', 'None', 'expert', 'None']\n",
      "['mean', 'time', 'mvg_4', 'None', 'bn_trial', 'dset1487', 'iFA', 'expert', 'None']\n",
      "['mean', 'time', 'mvg_7', 'None', 'bn_trial', 'dset1532', 'iFA', 'expert', 'None']\n",
      "['mean', 'time', 'mvg_8', 'None', 'bn_trial', 'dset1442', 'iFA', 'expert', 'None']\n",
      "['mean', 'time', 'mvg_9', 'None', 'bn_trial', 'dset1577', 'iFA', 'expert', 'None']\n",
      "['mean', 'time', 'mvg_4', 'None', 'bn_trial', 'dset1489', 'iGO', 'expert', 'None']\n",
      "['mean', 'time', 'mvg_7', 'None', 'bn_trial', 'dset1534', 'iGO', 'expert', 'None']\n",
      "['mean', 'time', 'mvg_8', 'None', 'bn_trial', 'dset1444', 'iGO', 'expert', 'None']\n",
      "['mean', 'time', 'mvg_9', 'None', 'bn_trial', 'dset1579', 'iGO', 'expert', 'None']\n",
      "['mean', 'time', 'mvg_4', 'None', 'bn_trial', 'dset1488', 'iMISS', 'expert', 'None']\n",
      "['mean', 'time', 'mvg_7', 'None', 'bn_trial', 'dset1533', 'iMISS', 'expert', 'None']\n",
      "['mean', 'time', 'mvg_8', 'None', 'bn_trial', 'dset1443', 'iMISS', 'expert', 'None']\n",
      "['mean', 'time', 'mvg_9', 'None', 'bn_trial', 'dset1578', 'iMISS', 'expert', 'None']\n",
      "['mean', 'time', 'mvg_4', 'None', 'bn_trial', 'dset1490', 'iNOGO', 'expert', 'None']\n",
      "['mean', 'time', 'mvg_7', 'None', 'bn_trial', 'dset1535', 'iNOGO', 'expert', 'None']\n",
      "['mean', 'time', 'mvg_8', 'None', 'bn_trial', 'dset1445', 'iNOGO', 'expert', 'None']\n",
      "['mean', 'time', 'mvg_9', 'None', 'bn_trial', 'dset1580', 'iNOGO', 'expert', 'None']\n",
      "['mean', 'time', 'mvg_4', 'None', 'bn_session', 'dset1466', 'None', 'naive', 'None']\n",
      "['mean', 'time', 'mvg_7', 'None', 'bn_session', 'dset1511', 'None', 'naive', 'None']\n",
      "['mean', 'time', 'mvg_8', 'None', 'bn_session', 'dset1421', 'None', 'naive', 'None']\n",
      "['mean', 'time', 'mvg_9', 'None', 'bn_session', 'dset1556', 'None', 'naive', 'None']\n",
      "['mean', 'time', 'mvg_4', 'None', 'bn_session', 'dset1467', 'iFA', 'naive', 'None']\n",
      "['mean', 'time', 'mvg_7', 'None', 'bn_session', 'dset1512', 'iFA', 'naive', 'None']\n",
      "['mean', 'time', 'mvg_8', 'None', 'bn_session', 'dset1422', 'iFA', 'naive', 'None']\n",
      "['mean', 'time', 'mvg_9', 'None', 'bn_session', 'dset1557', 'iFA', 'naive', 'None']\n",
      "['mean', 'time', 'mvg_4', 'None', 'bn_session', 'dset1469', 'iGO', 'naive', 'None']\n",
      "['mean', 'time', 'mvg_7', 'None', 'bn_session', 'dset1514', 'iGO', 'naive', 'None']\n",
      "['mean', 'time', 'mvg_8', 'None', 'bn_session', 'dset1424', 'iGO', 'naive', 'None']\n",
      "['mean', 'time', 'mvg_9', 'None', 'bn_session', 'dset1559', 'iGO', 'naive', 'None']\n",
      "['mean', 'time', 'mvg_4', 'None', 'bn_session', 'dset1468', 'iMISS', 'naive', 'None']\n",
      "['mean', 'time', 'mvg_7', 'None', 'bn_session', 'dset1513', 'iMISS', 'naive', 'None']\n",
      "['mean', 'time', 'mvg_8', 'None', 'bn_session', 'dset1423', 'iMISS', 'naive', 'None']\n",
      "['mean', 'time', 'mvg_9', 'None', 'bn_session', 'dset1558', 'iMISS', 'naive', 'None']\n",
      "['mean', 'time', 'mvg_4', 'None', 'bn_session', 'dset1470', 'iNOGO', 'naive', 'None']\n",
      "['mean', 'time', 'mvg_7', 'None', 'bn_session', 'dset1515', 'iNOGO', 'naive', 'None']\n",
      "['mean', 'time', 'mvg_8', 'None', 'bn_session', 'dset1425', 'iNOGO', 'naive', 'None']\n",
      "['mean', 'time', 'mvg_9', 'None', 'bn_session', 'dset1560', 'iNOGO', 'naive', 'None']\n",
      "['mean', 'time', 'mvg_4', 'None', 'bn_trial', 'dset1481', 'None', 'naive', 'None']\n",
      "['mean', 'time', 'mvg_7', 'None', 'bn_trial', 'dset1526', 'None', 'naive', 'None']\n",
      "['mean', 'time', 'mvg_8', 'None', 'bn_trial', 'dset1436', 'None', 'naive', 'None']\n",
      "['mean', 'time', 'mvg_9', 'None', 'bn_trial', 'dset1571', 'None', 'naive', 'None']\n"
     ]
    },
    {
     "name": "stdout",
     "output_type": "stream",
     "text": [
      "['mean', 'time', 'mvg_4', 'None', 'bn_trial', 'dset1482', 'iFA', 'naive', 'None']\n",
      "['mean', 'time', 'mvg_7', 'None', 'bn_trial', 'dset1527', 'iFA', 'naive', 'None']\n",
      "['mean', 'time', 'mvg_8', 'None', 'bn_trial', 'dset1437', 'iFA', 'naive', 'None']\n",
      "['mean', 'time', 'mvg_9', 'None', 'bn_trial', 'dset1572', 'iFA', 'naive', 'None']\n",
      "['mean', 'time', 'mvg_4', 'None', 'bn_trial', 'dset1484', 'iGO', 'naive', 'None']\n",
      "['mean', 'time', 'mvg_7', 'None', 'bn_trial', 'dset1529', 'iGO', 'naive', 'None']\n",
      "['mean', 'time', 'mvg_8', 'None', 'bn_trial', 'dset1439', 'iGO', 'naive', 'None']\n",
      "['mean', 'time', 'mvg_9', 'None', 'bn_trial', 'dset1574', 'iGO', 'naive', 'None']\n",
      "['mean', 'time', 'mvg_4', 'None', 'bn_trial', 'dset1483', 'iMISS', 'naive', 'None']\n",
      "['mean', 'time', 'mvg_7', 'None', 'bn_trial', 'dset1528', 'iMISS', 'naive', 'None']\n",
      "['mean', 'time', 'mvg_8', 'None', 'bn_trial', 'dset1438', 'iMISS', 'naive', 'None']\n",
      "['mean', 'time', 'mvg_9', 'None', 'bn_trial', 'dset1573', 'iMISS', 'naive', 'None']\n",
      "['mean', 'time', 'mvg_4', 'None', 'bn_trial', 'dset1485', 'iNOGO', 'naive', 'None']\n",
      "['mean', 'time', 'mvg_7', 'None', 'bn_trial', 'dset1530', 'iNOGO', 'naive', 'None']\n",
      "['mean', 'time', 'mvg_8', 'None', 'bn_trial', 'dset1440', 'iNOGO', 'naive', 'None']\n",
      "['mean', 'time', 'mvg_9', 'None', 'bn_trial', 'dset1575', 'iNOGO', 'naive', 'None']\n",
      "['mean', 'time', 'mvg_4', 'None', 'raw', 'dset1491', 'None', 'None', 'rs']\n",
      "['mean', 'time', 'mvg_7', 'None', 'raw', 'dset1536', 'None', 'None', 'rs']\n",
      "['mean', 'time', 'mvg_8', 'None', 'raw', 'dset1446', 'None', 'None', 'rs']\n",
      "['mean', 'time', 'mvg_9', 'None', 'raw', 'dset1581', 'None', 'None', 'rs']\n",
      "['mean', 'time', 'mvg_4', 'None', 'raw', 'dset1492', 'iFA', 'None', 'rs']\n",
      "['mean', 'time', 'mvg_7', 'None', 'raw', 'dset1537', 'iFA', 'None', 'rs']\n",
      "['mean', 'time', 'mvg_8', 'None', 'raw', 'dset1447', 'iFA', 'None', 'rs']\n",
      "['mean', 'time', 'mvg_9', 'None', 'raw', 'dset1582', 'iFA', 'None', 'rs']\n",
      "['mean', 'time', 'mvg_4', 'None', 'raw', 'dset1494', 'iGO', 'None', 'rs']\n",
      "['mean', 'time', 'mvg_7', 'None', 'raw', 'dset1539', 'iGO', 'None', 'rs']\n",
      "['mean', 'time', 'mvg_8', 'None', 'raw', 'dset1449', 'iGO', 'None', 'rs']\n",
      "['mean', 'time', 'mvg_9', 'None', 'raw', 'dset1584', 'iGO', 'None', 'rs']\n",
      "['mean', 'time', 'mvg_4', 'None', 'raw', 'dset1493', 'iMISS', 'None', 'rs']\n",
      "['mean', 'time', 'mvg_7', 'None', 'raw', 'dset1538', 'iMISS', 'None', 'rs']\n",
      "['mean', 'time', 'mvg_8', 'None', 'raw', 'dset1448', 'iMISS', 'None', 'rs']\n",
      "['mean', 'time', 'mvg_9', 'None', 'raw', 'dset1583', 'iMISS', 'None', 'rs']\n",
      "['mean', 'time', 'mvg_4', 'None', 'raw', 'dset1495', 'iNOGO', 'None', 'rs']\n",
      "['mean', 'time', 'mvg_7', 'None', 'raw', 'dset1540', 'iNOGO', 'None', 'rs']\n",
      "['mean', 'time', 'mvg_8', 'None', 'raw', 'dset1450', 'iNOGO', 'None', 'rs']\n",
      "['mean', 'time', 'mvg_9', 'None', 'raw', 'dset1585', 'iNOGO', 'None', 'rs']\n",
      "['mean', 'time', 'mvg_4', 'None', 'raw', 'dset1501', 'None', 'expert', 'rs']\n",
      "['mean', 'time', 'mvg_7', 'None', 'raw', 'dset1546', 'None', 'expert', 'rs']\n",
      "['mean', 'time', 'mvg_8', 'None', 'raw', 'dset1456', 'None', 'expert', 'rs']\n",
      "['mean', 'time', 'mvg_9', 'None', 'raw', 'dset1591', 'None', 'expert', 'rs']\n",
      "['mean', 'time', 'mvg_4', 'None', 'raw', 'dset1502', 'iFA', 'expert', 'rs']\n",
      "['mean', 'time', 'mvg_7', 'None', 'raw', 'dset1547', 'iFA', 'expert', 'rs']\n",
      "['mean', 'time', 'mvg_8', 'None', 'raw', 'dset1457', 'iFA', 'expert', 'rs']\n",
      "['mean', 'time', 'mvg_9', 'None', 'raw', 'dset1592', 'iFA', 'expert', 'rs']\n",
      "['mean', 'time', 'mvg_4', 'None', 'raw', 'dset1504', 'iGO', 'expert', 'rs']\n",
      "['mean', 'time', 'mvg_7', 'None', 'raw', 'dset1549', 'iGO', 'expert', 'rs']\n",
      "['mean', 'time', 'mvg_8', 'None', 'raw', 'dset1459', 'iGO', 'expert', 'rs']\n",
      "['mean', 'time', 'mvg_9', 'None', 'raw', 'dset1594', 'iGO', 'expert', 'rs']\n",
      "['mean', 'time', 'mvg_4', 'None', 'raw', 'dset1503', 'iMISS', 'expert', 'rs']\n",
      "['mean', 'time', 'mvg_7', 'None', 'raw', 'dset1548', 'iMISS', 'expert', 'rs']\n",
      "['mean', 'time', 'mvg_8', 'None', 'raw', 'dset1458', 'iMISS', 'expert', 'rs']\n",
      "['mean', 'time', 'mvg_9', 'None', 'raw', 'dset1593', 'iMISS', 'expert', 'rs']\n",
      "['mean', 'time', 'mvg_4', 'None', 'raw', 'dset1505', 'iNOGO', 'expert', 'rs']\n",
      "['mean', 'time', 'mvg_7', 'None', 'raw', 'dset1550', 'iNOGO', 'expert', 'rs']\n",
      "['mean', 'time', 'mvg_8', 'None', 'raw', 'dset1460', 'iNOGO', 'expert', 'rs']\n",
      "['mean', 'time', 'mvg_9', 'None', 'raw', 'dset1595', 'iNOGO', 'expert', 'rs']\n",
      "['mean', 'time', 'mvg_4', 'None', 'raw', 'dset1496', 'None', 'naive', 'rs']\n",
      "['mean', 'time', 'mvg_7', 'None', 'raw', 'dset1541', 'None', 'naive', 'rs']\n",
      "['mean', 'time', 'mvg_8', 'None', 'raw', 'dset1451', 'None', 'naive', 'rs']\n",
      "['mean', 'time', 'mvg_9', 'None', 'raw', 'dset1586', 'None', 'naive', 'rs']\n",
      "['mean', 'time', 'mvg_4', 'None', 'raw', 'dset1497', 'iFA', 'naive', 'rs']\n",
      "['mean', 'time', 'mvg_7', 'None', 'raw', 'dset1542', 'iFA', 'naive', 'rs']\n",
      "['mean', 'time', 'mvg_8', 'None', 'raw', 'dset1452', 'iFA', 'naive', 'rs']\n",
      "['mean', 'time', 'mvg_9', 'None', 'raw', 'dset1587', 'iFA', 'naive', 'rs']\n",
      "['mean', 'time', 'mvg_4', 'None', 'raw', 'dset1499', 'iGO', 'naive', 'rs']\n",
      "['mean', 'time', 'mvg_7', 'None', 'raw', 'dset1544', 'iGO', 'naive', 'rs']\n",
      "['mean', 'time', 'mvg_8', 'None', 'raw', 'dset1454', 'iGO', 'naive', 'rs']\n",
      "['mean', 'time', 'mvg_9', 'None', 'raw', 'dset1589', 'iGO', 'naive', 'rs']\n",
      "['mean', 'time', 'mvg_4', 'None', 'raw', 'dset1498', 'iMISS', 'naive', 'rs']\n",
      "['mean', 'time', 'mvg_7', 'None', 'raw', 'dset1543', 'iMISS', 'naive', 'rs']\n",
      "['mean', 'time', 'mvg_8', 'None', 'raw', 'dset1453', 'iMISS', 'naive', 'rs']\n",
      "['mean', 'time', 'mvg_9', 'None', 'raw', 'dset1588', 'iMISS', 'naive', 'rs']\n",
      "['mean', 'time', 'mvg_4', 'None', 'raw', 'dset1500', 'iNOGO', 'naive', 'rs']\n",
      "['mean', 'time', 'mvg_7', 'None', 'raw', 'dset1545', 'iNOGO', 'naive', 'rs']\n",
      "['mean', 'time', 'mvg_8', 'None', 'raw', 'dset1455', 'iNOGO', 'naive', 'rs']\n",
      "['mean', 'time', 'mvg_9', 'None', 'raw', 'dset1590', 'iNOGO', 'naive', 'rs']\n"
     ]
    }
   ],
   "source": [
    "bulk_metrics.plot_metric_bulk(ds, 'mean', 'time', verbose=False, xFunc=lambda m, l: dataDB.get_times())"
   ]
  },
  {
   "cell_type": "markdown",
   "metadata": {},
   "source": [
    "### 1.2. Mean vs session"
   ]
  },
  {
   "cell_type": "code",
   "execution_count": 44,
   "metadata": {
    "scrolled": true
   },
   "outputs": [
    {
     "data": {
      "application/vnd.jupyter.widget-view+json": {
       "model_id": "8f336833fc274559b18f68c6a74984f0",
       "version_major": 2,
       "version_minor": 0
      },
      "text/plain": [
       "IntProgress(value=0, description='session', max=180)"
      ]
     },
     "metadata": {},
     "output_type": "display_data"
    },
    {
     "name": "stdout",
     "output_type": "stream",
     "text": [
      "Skipping existing session_bn_session_PRE_mvg_8_mean_(sessions,)\n",
      "Skipping existing session_bn_session_iFA_PRE_mvg_8_mean_(sessions,)\n",
      "Skipping existing session_bn_session_iMISS_PRE_mvg_8_mean_(sessions,)\n",
      "Skipping existing session_bn_session_iGO_PRE_mvg_8_mean_(sessions,)\n",
      "Skipping existing session_bn_session_iNOGO_PRE_mvg_8_mean_(sessions,)\n",
      "Skipping existing session_bn_session_naive_PRE_mvg_8_mean_(sessions,)\n",
      "Skipping existing session_bn_session_naive_iFA_PRE_mvg_8_mean_(sessions,)\n",
      "Skipping existing session_bn_session_naive_iMISS_PRE_mvg_8_mean_(sessions,)\n",
      "Skipping existing session_bn_session_naive_iGO_PRE_mvg_8_mean_(sessions,)\n",
      "Skipping existing session_bn_session_naive_iNOGO_PRE_mvg_8_mean_(sessions,)\n",
      "Skipping existing session_bn_session_expert_PRE_mvg_8_mean_(sessions,)\n",
      "Skipping existing session_bn_session_expert_iFA_PRE_mvg_8_mean_(sessions,)\n",
      "Skipping existing session_bn_session_expert_iMISS_PRE_mvg_8_mean_(sessions,)\n",
      "Skipping existing session_bn_session_expert_iGO_PRE_mvg_8_mean_(sessions,)\n",
      "Skipping existing session_bn_session_expert_iNOGO_PRE_mvg_8_mean_(sessions,)\n",
      "Skipping existing session_bn_trial_PRE_mvg_8_mean_(sessions,)\n",
      "Skipping existing session_bn_trial_iFA_PRE_mvg_8_mean_(sessions,)\n",
      "Skipping existing session_bn_trial_iMISS_PRE_mvg_8_mean_(sessions,)\n",
      "Skipping existing session_bn_trial_iGO_PRE_mvg_8_mean_(sessions,)\n",
      "Skipping existing session_bn_trial_iNOGO_PRE_mvg_8_mean_(sessions,)\n"
     ]
    },
    {
     "data": {
      "application/vnd.jupyter.widget-view+json": {
       "model_id": "68053bcf323e49c4a9a09a841089bab2",
       "version_major": 2,
       "version_minor": 0
      },
      "text/plain": [
       "IntProgress(value=0, description='mvg_8', max=7)"
      ]
     },
     "metadata": {},
     "output_type": "display_data"
    },
    {
     "data": {
      "application/vnd.jupyter.widget-view+json": {
       "model_id": "0be4288721df4d6188cc655cbf244671",
       "version_major": 2,
       "version_minor": 0
      },
      "text/plain": [
       "IntProgress(value=0, description='mvg_8', max=7)"
      ]
     },
     "metadata": {},
     "output_type": "display_data"
    },
    {
     "data": {
      "application/vnd.jupyter.widget-view+json": {
       "model_id": "3d42522075a84723b4c42bc35f410415",
       "version_major": 2,
       "version_minor": 0
      },
      "text/plain": [
       "IntProgress(value=0, description='mvg_8', max=7)"
      ]
     },
     "metadata": {},
     "output_type": "display_data"
    },
    {
     "data": {
      "application/vnd.jupyter.widget-view+json": {
       "model_id": "7abcaa0f22844b1f8330584255bc6cde",
       "version_major": 2,
       "version_minor": 0
      },
      "text/plain": [
       "IntProgress(value=0, description='mvg_8', max=7)"
      ]
     },
     "metadata": {},
     "output_type": "display_data"
    },
    {
     "data": {
      "application/vnd.jupyter.widget-view+json": {
       "model_id": "91d801e74e4241f5a3cccc0993bae167",
       "version_major": 2,
       "version_minor": 0
      },
      "text/plain": [
       "IntProgress(value=0, description='mvg_8', max=7)"
      ]
     },
     "metadata": {},
     "output_type": "display_data"
    },
    {
     "name": "stdout",
     "output_type": "stream",
     "text": [
      "Warning: skipping session with too few trials 4\n"
     ]
    },
    {
     "data": {
      "application/vnd.jupyter.widget-view+json": {
       "model_id": "9c3aaf4e789e4da68ecd2c5dca4f0a61",
       "version_major": 2,
       "version_minor": 0
      },
      "text/plain": [
       "IntProgress(value=0, description='mvg_8', max=9)"
      ]
     },
     "metadata": {},
     "output_type": "display_data"
    },
    {
     "data": {
      "application/vnd.jupyter.widget-view+json": {
       "model_id": "261ccc94681b463b85cd74356d8f5da4",
       "version_major": 2,
       "version_minor": 0
      },
      "text/plain": [
       "IntProgress(value=0, description='mvg_8', max=9)"
      ]
     },
     "metadata": {},
     "output_type": "display_data"
    },
    {
     "name": "stdout",
     "output_type": "stream",
     "text": [
      "Warning: skipping session with too few trials 6\n",
      "Warning: skipping session with too few trials 4\n",
      "Warning: skipping session with too few trials 6\n"
     ]
    },
    {
     "data": {
      "application/vnd.jupyter.widget-view+json": {
       "model_id": "f5161e22e31f4363b7633fb64b7dfc2e",
       "version_major": 2,
       "version_minor": 0
      },
      "text/plain": [
       "IntProgress(value=0, description='mvg_8', max=9)"
      ]
     },
     "metadata": {},
     "output_type": "display_data"
    },
    {
     "name": "stdout",
     "output_type": "stream",
     "text": [
      "Warning: skipping session with too few trials 8\n",
      "Warning: skipping session with too few trials 2\n",
      "Warning: skipping session with too few trials 2\n"
     ]
    },
    {
     "data": {
      "application/vnd.jupyter.widget-view+json": {
       "model_id": "225d8022bdce402590bca40df8d4e9da",
       "version_major": 2,
       "version_minor": 0
      },
      "text/plain": [
       "IntProgress(value=0, description='mvg_8', max=9)"
      ]
     },
     "metadata": {},
     "output_type": "display_data"
    },
    {
     "data": {
      "application/vnd.jupyter.widget-view+json": {
       "model_id": "e8f55de9ce53471ca9b66500e680d4b7",
       "version_major": 2,
       "version_minor": 0
      },
      "text/plain": [
       "IntProgress(value=0, description='mvg_8', max=9)"
      ]
     },
     "metadata": {},
     "output_type": "display_data"
    },
    {
     "data": {
      "application/vnd.jupyter.widget-view+json": {
       "model_id": "a3a15ddbe2354d178c4b2b8785eddf61",
       "version_major": 2,
       "version_minor": 0
      },
      "text/plain": [
       "IntProgress(value=0, description='mvg_8', max=16)"
      ]
     },
     "metadata": {},
     "output_type": "display_data"
    },
    {
     "data": {
      "application/vnd.jupyter.widget-view+json": {
       "model_id": "84ca4ed126d346ecb2cb213b1172314f",
       "version_major": 2,
       "version_minor": 0
      },
      "text/plain": [
       "IntProgress(value=0, description='mvg_8', max=16)"
      ]
     },
     "metadata": {},
     "output_type": "display_data"
    },
    {
     "name": "stdout",
     "output_type": "stream",
     "text": [
      "Warning: skipping session with too few trials 6\n",
      "Warning: skipping session with too few trials 4\n",
      "Warning: skipping session with too few trials 6\n"
     ]
    },
    {
     "data": {
      "application/vnd.jupyter.widget-view+json": {
       "model_id": "8175a2ddc42e481f920722bdf205102c",
       "version_major": 2,
       "version_minor": 0
      },
      "text/plain": [
       "IntProgress(value=0, description='mvg_8', max=16)"
      ]
     },
     "metadata": {},
     "output_type": "display_data"
    },
    {
     "name": "stdout",
     "output_type": "stream",
     "text": [
      "Warning: skipping session with too few trials 8\n",
      "Warning: skipping session with too few trials 2\n",
      "Warning: skipping session with too few trials 2\n"
     ]
    },
    {
     "data": {
      "application/vnd.jupyter.widget-view+json": {
       "model_id": "e718fbb77b6a4db88c3c324845c3e23d",
       "version_major": 2,
       "version_minor": 0
      },
      "text/plain": [
       "IntProgress(value=0, description='mvg_8', max=16)"
      ]
     },
     "metadata": {},
     "output_type": "display_data"
    },
    {
     "data": {
      "application/vnd.jupyter.widget-view+json": {
       "model_id": "b6f8b09cf5764d47ae711e211cd8ec11",
       "version_major": 2,
       "version_minor": 0
      },
      "text/plain": [
       "IntProgress(value=0, description='mvg_8', max=16)"
      ]
     },
     "metadata": {},
     "output_type": "display_data"
    },
    {
     "name": "stdout",
     "output_type": "stream",
     "text": [
      "Warning: skipping session with too few trials 4\n"
     ]
    },
    {
     "data": {
      "application/vnd.jupyter.widget-view+json": {
       "model_id": "a198e5e10b0d40a1aa42d73b1d87fedc",
       "version_major": 2,
       "version_minor": 0
      },
      "text/plain": [
       "IntProgress(value=0, description='mvg_8', max=7)"
      ]
     },
     "metadata": {},
     "output_type": "display_data"
    },
    {
     "data": {
      "application/vnd.jupyter.widget-view+json": {
       "model_id": "0e4e0a63769c43ea8ad779fa98190091",
       "version_major": 2,
       "version_minor": 0
      },
      "text/plain": [
       "IntProgress(value=0, description='mvg_8', max=7)"
      ]
     },
     "metadata": {},
     "output_type": "display_data"
    },
    {
     "data": {
      "application/vnd.jupyter.widget-view+json": {
       "model_id": "da6da6fd2a1e4aad8c0c368f6d8fde2f",
       "version_major": 2,
       "version_minor": 0
      },
      "text/plain": [
       "IntProgress(value=0, description='mvg_8', max=7)"
      ]
     },
     "metadata": {},
     "output_type": "display_data"
    },
    {
     "data": {
      "application/vnd.jupyter.widget-view+json": {
       "model_id": "b632e4bee7e5453db9fe67eb4ba2a66d",
       "version_major": 2,
       "version_minor": 0
      },
      "text/plain": [
       "IntProgress(value=0, description='mvg_8', max=7)"
      ]
     },
     "metadata": {},
     "output_type": "display_data"
    },
    {
     "data": {
      "application/vnd.jupyter.widget-view+json": {
       "model_id": "68a3bdc6d6d54ab382ab47e0527b1f74",
       "version_major": 2,
       "version_minor": 0
      },
      "text/plain": [
       "IntProgress(value=0, description='mvg_8', max=7)"
      ]
     },
     "metadata": {},
     "output_type": "display_data"
    },
    {
     "name": "stdout",
     "output_type": "stream",
     "text": [
      "Warning: skipping session with too few trials 4\n"
     ]
    },
    {
     "data": {
      "application/vnd.jupyter.widget-view+json": {
       "model_id": "35c0fbafe5294e8b8115d6136007f916",
       "version_major": 2,
       "version_minor": 0
      },
      "text/plain": [
       "IntProgress(value=0, description='mvg_8', max=9)"
      ]
     },
     "metadata": {},
     "output_type": "display_data"
    },
    {
     "data": {
      "application/vnd.jupyter.widget-view+json": {
       "model_id": "4df568dcc9874e38b8a3f2bb6270c5ef",
       "version_major": 2,
       "version_minor": 0
      },
      "text/plain": [
       "IntProgress(value=0, description='mvg_8', max=9)"
      ]
     },
     "metadata": {},
     "output_type": "display_data"
    },
    {
     "name": "stdout",
     "output_type": "stream",
     "text": [
      "Warning: skipping session with too few trials 6\n",
      "Warning: skipping session with too few trials 4\n",
      "Warning: skipping session with too few trials 6\n"
     ]
    },
    {
     "data": {
      "application/vnd.jupyter.widget-view+json": {
       "model_id": "20f7d76a101442b1aad1266f01d3f6f4",
       "version_major": 2,
       "version_minor": 0
      },
      "text/plain": [
       "IntProgress(value=0, description='mvg_8', max=9)"
      ]
     },
     "metadata": {},
     "output_type": "display_data"
    },
    {
     "name": "stdout",
     "output_type": "stream",
     "text": [
      "Warning: skipping session with too few trials 8\n",
      "Warning: skipping session with too few trials 2\n",
      "Warning: skipping session with too few trials 2\n"
     ]
    },
    {
     "data": {
      "application/vnd.jupyter.widget-view+json": {
       "model_id": "18bc88de227944bb9ab2c5dfaffdc254",
       "version_major": 2,
       "version_minor": 0
      },
      "text/plain": [
       "IntProgress(value=0, description='mvg_8', max=9)"
      ]
     },
     "metadata": {},
     "output_type": "display_data"
    },
    {
     "data": {
      "application/vnd.jupyter.widget-view+json": {
       "model_id": "2d018f4578c84e78b4bd3f3e782b2711",
       "version_major": 2,
       "version_minor": 0
      },
      "text/plain": [
       "IntProgress(value=0, description='mvg_8', max=9)"
      ]
     },
     "metadata": {},
     "output_type": "display_data"
    },
    {
     "data": {
      "application/vnd.jupyter.widget-view+json": {
       "model_id": "460a9c18242e4bea80d9a74cf9ac3686",
       "version_major": 2,
       "version_minor": 0
      },
      "text/plain": [
       "IntProgress(value=0, description='mvg_4', max=11)"
      ]
     },
     "metadata": {},
     "output_type": "display_data"
    },
    {
     "data": {
      "application/vnd.jupyter.widget-view+json": {
       "model_id": "4a502eebe7774dee9f05c58dad93e824",
       "version_major": 2,
       "version_minor": 0
      },
      "text/plain": [
       "IntProgress(value=0, description='mvg_4', max=11)"
      ]
     },
     "metadata": {},
     "output_type": "display_data"
    },
    {
     "data": {
      "application/vnd.jupyter.widget-view+json": {
       "model_id": "f0c48800b6a24e8aad533d10b86ddf1b",
       "version_major": 2,
       "version_minor": 0
      },
      "text/plain": [
       "IntProgress(value=0, description='mvg_4', max=11)"
      ]
     },
     "metadata": {},
     "output_type": "display_data"
    },
    {
     "name": "stdout",
     "output_type": "stream",
     "text": [
      "Warning: skipping session with too few trials 6\n",
      "Warning: skipping session with too few trials 5\n"
     ]
    },
    {
     "data": {
      "application/vnd.jupyter.widget-view+json": {
       "model_id": "bb2611ada45845f79ca83b0bd0523f20",
       "version_major": 2,
       "version_minor": 0
      },
      "text/plain": [
       "IntProgress(value=0, description='mvg_4', max=11)"
      ]
     },
     "metadata": {},
     "output_type": "display_data"
    },
    {
     "data": {
      "application/vnd.jupyter.widget-view+json": {
       "model_id": "8e6ff02f7c464bae904e587a595fc100",
       "version_major": 2,
       "version_minor": 0
      },
      "text/plain": [
       "IntProgress(value=0, description='mvg_4', max=11)"
      ]
     },
     "metadata": {},
     "output_type": "display_data"
    },
    {
     "data": {
      "application/vnd.jupyter.widget-view+json": {
       "model_id": "323934a3dd96478288c4cefe6b4cf177",
       "version_major": 2,
       "version_minor": 0
      },
      "text/plain": [
       "IntProgress(value=0, description='mvg_4', max=5)"
      ]
     },
     "metadata": {},
     "output_type": "display_data"
    },
    {
     "data": {
      "application/vnd.jupyter.widget-view+json": {
       "model_id": "732976589e544293b06394738b5d0c2e",
       "version_major": 2,
       "version_minor": 0
      },
      "text/plain": [
       "IntProgress(value=0, description='mvg_4', max=5)"
      ]
     },
     "metadata": {},
     "output_type": "display_data"
    },
    {
     "data": {
      "application/vnd.jupyter.widget-view+json": {
       "model_id": "029e4f91bd0c4ec485b6b20c5c91b9a5",
       "version_major": 2,
       "version_minor": 0
      },
      "text/plain": [
       "IntProgress(value=0, description='mvg_4', max=5)"
      ]
     },
     "metadata": {},
     "output_type": "display_data"
    },
    {
     "name": "stdout",
     "output_type": "stream",
     "text": [
      "Warning: skipping session with too few trials 6\n",
      "Warning: skipping session with too few trials 5\n"
     ]
    },
    {
     "data": {
      "application/vnd.jupyter.widget-view+json": {
       "model_id": "665aa1d25a724bab9cb89c26bf8c6aa5",
       "version_major": 2,
       "version_minor": 0
      },
      "text/plain": [
       "IntProgress(value=0, description='mvg_4', max=5)"
      ]
     },
     "metadata": {},
     "output_type": "display_data"
    },
    {
     "data": {
      "application/vnd.jupyter.widget-view+json": {
       "model_id": "e26aa088403b4e408988f95d6896f0dc",
       "version_major": 2,
       "version_minor": 0
      },
      "text/plain": [
       "IntProgress(value=0, description='mvg_4', max=5)"
      ]
     },
     "metadata": {},
     "output_type": "display_data"
    },
    {
     "data": {
      "application/vnd.jupyter.widget-view+json": {
       "model_id": "1ca28757cc8c4c5aab9b23c222c42372",
       "version_major": 2,
       "version_minor": 0
      },
      "text/plain": [
       "IntProgress(value=0, description='mvg_4', max=6)"
      ]
     },
     "metadata": {},
     "output_type": "display_data"
    },
    {
     "data": {
      "application/vnd.jupyter.widget-view+json": {
       "model_id": "782c0825ee274072aad12b03372daf4e",
       "version_major": 2,
       "version_minor": 0
      },
      "text/plain": [
       "IntProgress(value=0, description='mvg_4', max=6)"
      ]
     },
     "metadata": {},
     "output_type": "display_data"
    },
    {
     "data": {
      "application/vnd.jupyter.widget-view+json": {
       "model_id": "52d896af855f489e8d3095de5b3077d0",
       "version_major": 2,
       "version_minor": 0
      },
      "text/plain": [
       "IntProgress(value=0, description='mvg_4', max=6)"
      ]
     },
     "metadata": {},
     "output_type": "display_data"
    },
    {
     "data": {
      "application/vnd.jupyter.widget-view+json": {
       "model_id": "913f458543494242a971ad0c53955b39",
       "version_major": 2,
       "version_minor": 0
      },
      "text/plain": [
       "IntProgress(value=0, description='mvg_4', max=6)"
      ]
     },
     "metadata": {},
     "output_type": "display_data"
    },
    {
     "data": {
      "application/vnd.jupyter.widget-view+json": {
       "model_id": "894158d2940d4303aca3a55c63439f12",
       "version_major": 2,
       "version_minor": 0
      },
      "text/plain": [
       "IntProgress(value=0, description='mvg_4', max=6)"
      ]
     },
     "metadata": {},
     "output_type": "display_data"
    },
    {
     "data": {
      "application/vnd.jupyter.widget-view+json": {
       "model_id": "34462ddb47e24c57b31772a6598ab4de",
       "version_major": 2,
       "version_minor": 0
      },
      "text/plain": [
       "IntProgress(value=0, description='mvg_4', max=11)"
      ]
     },
     "metadata": {},
     "output_type": "display_data"
    },
    {
     "data": {
      "application/vnd.jupyter.widget-view+json": {
       "model_id": "16852df4f5284b98823d146363a19736",
       "version_major": 2,
       "version_minor": 0
      },
      "text/plain": [
       "IntProgress(value=0, description='mvg_4', max=11)"
      ]
     },
     "metadata": {},
     "output_type": "display_data"
    },
    {
     "data": {
      "application/vnd.jupyter.widget-view+json": {
       "model_id": "4bf1bdd23d494c69b1c391cebee481b8",
       "version_major": 2,
       "version_minor": 0
      },
      "text/plain": [
       "IntProgress(value=0, description='mvg_4', max=11)"
      ]
     },
     "metadata": {},
     "output_type": "display_data"
    },
    {
     "name": "stdout",
     "output_type": "stream",
     "text": [
      "Warning: skipping session with too few trials 6\n",
      "Warning: skipping session with too few trials 5\n"
     ]
    },
    {
     "data": {
      "application/vnd.jupyter.widget-view+json": {
       "model_id": "bc6f60dad9984518be9167dc2baba81c",
       "version_major": 2,
       "version_minor": 0
      },
      "text/plain": [
       "IntProgress(value=0, description='mvg_4', max=11)"
      ]
     },
     "metadata": {},
     "output_type": "display_data"
    },
    {
     "data": {
      "application/vnd.jupyter.widget-view+json": {
       "model_id": "166f795bcfb8409e9473e351db4d47b3",
       "version_major": 2,
       "version_minor": 0
      },
      "text/plain": [
       "IntProgress(value=0, description='mvg_4', max=11)"
      ]
     },
     "metadata": {},
     "output_type": "display_data"
    },
    {
     "data": {
      "application/vnd.jupyter.widget-view+json": {
       "model_id": "e26308c0bc244e33b1e96de28a5d5859",
       "version_major": 2,
       "version_minor": 0
      },
      "text/plain": [
       "IntProgress(value=0, description='mvg_4', max=5)"
      ]
     },
     "metadata": {},
     "output_type": "display_data"
    },
    {
     "data": {
      "application/vnd.jupyter.widget-view+json": {
       "model_id": "1b75c2af7bd14e2489063413867781fe",
       "version_major": 2,
       "version_minor": 0
      },
      "text/plain": [
       "IntProgress(value=0, description='mvg_4', max=5)"
      ]
     },
     "metadata": {},
     "output_type": "display_data"
    },
    {
     "data": {
      "application/vnd.jupyter.widget-view+json": {
       "model_id": "ac024269f36d45449c47ec6048bd68f1",
       "version_major": 2,
       "version_minor": 0
      },
      "text/plain": [
       "IntProgress(value=0, description='mvg_4', max=5)"
      ]
     },
     "metadata": {},
     "output_type": "display_data"
    },
    {
     "name": "stdout",
     "output_type": "stream",
     "text": [
      "Warning: skipping session with too few trials 6\n",
      "Warning: skipping session with too few trials 5\n"
     ]
    },
    {
     "data": {
      "application/vnd.jupyter.widget-view+json": {
       "model_id": "b45140f4ddca43d78a339a0f26fd5ef8",
       "version_major": 2,
       "version_minor": 0
      },
      "text/plain": [
       "IntProgress(value=0, description='mvg_4', max=5)"
      ]
     },
     "metadata": {},
     "output_type": "display_data"
    },
    {
     "data": {
      "application/vnd.jupyter.widget-view+json": {
       "model_id": "22680b9ccfa04a17b0a464513cc7ce35",
       "version_major": 2,
       "version_minor": 0
      },
      "text/plain": [
       "IntProgress(value=0, description='mvg_4', max=5)"
      ]
     },
     "metadata": {},
     "output_type": "display_data"
    },
    {
     "data": {
      "application/vnd.jupyter.widget-view+json": {
       "model_id": "d53500d7dfb04e42b009cae5673f9d03",
       "version_major": 2,
       "version_minor": 0
      },
      "text/plain": [
       "IntProgress(value=0, description='mvg_4', max=6)"
      ]
     },
     "metadata": {},
     "output_type": "display_data"
    },
    {
     "data": {
      "application/vnd.jupyter.widget-view+json": {
       "model_id": "6e4ba52502ba4d8dbadd91373bbeaabe",
       "version_major": 2,
       "version_minor": 0
      },
      "text/plain": [
       "IntProgress(value=0, description='mvg_4', max=6)"
      ]
     },
     "metadata": {},
     "output_type": "display_data"
    },
    {
     "data": {
      "application/vnd.jupyter.widget-view+json": {
       "model_id": "7fce017b5624432c9d024ebe208126ef",
       "version_major": 2,
       "version_minor": 0
      },
      "text/plain": [
       "IntProgress(value=0, description='mvg_4', max=6)"
      ]
     },
     "metadata": {},
     "output_type": "display_data"
    },
    {
     "data": {
      "application/vnd.jupyter.widget-view+json": {
       "model_id": "3a29b36aaea74d24b2e873343de4f3bd",
       "version_major": 2,
       "version_minor": 0
      },
      "text/plain": [
       "IntProgress(value=0, description='mvg_4', max=6)"
      ]
     },
     "metadata": {},
     "output_type": "display_data"
    },
    {
     "data": {
      "application/vnd.jupyter.widget-view+json": {
       "model_id": "0cc35b7259754ab5b0d60e60b50dedf0",
       "version_major": 2,
       "version_minor": 0
      },
      "text/plain": [
       "IntProgress(value=0, description='mvg_4', max=6)"
      ]
     },
     "metadata": {},
     "output_type": "display_data"
    },
    {
     "data": {
      "application/vnd.jupyter.widget-view+json": {
       "model_id": "ae2cd69779f74f59bd19d58def366198",
       "version_major": 2,
       "version_minor": 0
      },
      "text/plain": [
       "IntProgress(value=0, description='mvg_4', max=11)"
      ]
     },
     "metadata": {},
     "output_type": "display_data"
    },
    {
     "data": {
      "application/vnd.jupyter.widget-view+json": {
       "model_id": "6add631750364d92bd5fad478e560b35",
       "version_major": 2,
       "version_minor": 0
      },
      "text/plain": [
       "IntProgress(value=0, description='mvg_4', max=11)"
      ]
     },
     "metadata": {},
     "output_type": "display_data"
    },
    {
     "data": {
      "application/vnd.jupyter.widget-view+json": {
       "model_id": "64dcb9f35e1840989ca398c81ca2e99a",
       "version_major": 2,
       "version_minor": 0
      },
      "text/plain": [
       "IntProgress(value=0, description='mvg_4', max=11)"
      ]
     },
     "metadata": {},
     "output_type": "display_data"
    },
    {
     "name": "stdout",
     "output_type": "stream",
     "text": [
      "Warning: skipping session with too few trials 6\n",
      "Warning: skipping session with too few trials 5\n"
     ]
    },
    {
     "data": {
      "application/vnd.jupyter.widget-view+json": {
       "model_id": "f8fdafd421304bd08ee38dd1749c73c4",
       "version_major": 2,
       "version_minor": 0
      },
      "text/plain": [
       "IntProgress(value=0, description='mvg_4', max=11)"
      ]
     },
     "metadata": {},
     "output_type": "display_data"
    },
    {
     "data": {
      "application/vnd.jupyter.widget-view+json": {
       "model_id": "41a24ae776ad4c9a83de9fc856d59a9f",
       "version_major": 2,
       "version_minor": 0
      },
      "text/plain": [
       "IntProgress(value=0, description='mvg_4', max=11)"
      ]
     },
     "metadata": {},
     "output_type": "display_data"
    },
    {
     "data": {
      "application/vnd.jupyter.widget-view+json": {
       "model_id": "83789df3c0d449b194801a0051c86c6e",
       "version_major": 2,
       "version_minor": 0
      },
      "text/plain": [
       "IntProgress(value=0, description='mvg_4', max=5)"
      ]
     },
     "metadata": {},
     "output_type": "display_data"
    },
    {
     "data": {
      "application/vnd.jupyter.widget-view+json": {
       "model_id": "37b9364cde27421fb3c2a276e1b9a0b0",
       "version_major": 2,
       "version_minor": 0
      },
      "text/plain": [
       "IntProgress(value=0, description='mvg_4', max=5)"
      ]
     },
     "metadata": {},
     "output_type": "display_data"
    },
    {
     "data": {
      "application/vnd.jupyter.widget-view+json": {
       "model_id": "beab1b684cd04b36ad2c1608bc037eb4",
       "version_major": 2,
       "version_minor": 0
      },
      "text/plain": [
       "IntProgress(value=0, description='mvg_4', max=5)"
      ]
     },
     "metadata": {},
     "output_type": "display_data"
    },
    {
     "name": "stdout",
     "output_type": "stream",
     "text": [
      "Warning: skipping session with too few trials 6\n",
      "Warning: skipping session with too few trials 5\n"
     ]
    },
    {
     "data": {
      "application/vnd.jupyter.widget-view+json": {
       "model_id": "3ab18d9c0847401fbbbc1f8b9866c156",
       "version_major": 2,
       "version_minor": 0
      },
      "text/plain": [
       "IntProgress(value=0, description='mvg_4', max=5)"
      ]
     },
     "metadata": {},
     "output_type": "display_data"
    },
    {
     "data": {
      "application/vnd.jupyter.widget-view+json": {
       "model_id": "260bc4ad705c49ad8c99d1594ce852e7",
       "version_major": 2,
       "version_minor": 0
      },
      "text/plain": [
       "IntProgress(value=0, description='mvg_4', max=5)"
      ]
     },
     "metadata": {},
     "output_type": "display_data"
    },
    {
     "data": {
      "application/vnd.jupyter.widget-view+json": {
       "model_id": "b80e1a86785d4e0988a664cb35612e7b",
       "version_major": 2,
       "version_minor": 0
      },
      "text/plain": [
       "IntProgress(value=0, description='mvg_4', max=6)"
      ]
     },
     "metadata": {},
     "output_type": "display_data"
    },
    {
     "data": {
      "application/vnd.jupyter.widget-view+json": {
       "model_id": "885952dd4b274d92b0a0fda7c7b737b8",
       "version_major": 2,
       "version_minor": 0
      },
      "text/plain": [
       "IntProgress(value=0, description='mvg_4', max=6)"
      ]
     },
     "metadata": {},
     "output_type": "display_data"
    },
    {
     "data": {
      "application/vnd.jupyter.widget-view+json": {
       "model_id": "f5425fe5bd6d493cacf8def263f70da6",
       "version_major": 2,
       "version_minor": 0
      },
      "text/plain": [
       "IntProgress(value=0, description='mvg_4', max=6)"
      ]
     },
     "metadata": {},
     "output_type": "display_data"
    },
    {
     "data": {
      "application/vnd.jupyter.widget-view+json": {
       "model_id": "f0167f02da34426782cf53da3749983a",
       "version_major": 2,
       "version_minor": 0
      },
      "text/plain": [
       "IntProgress(value=0, description='mvg_4', max=6)"
      ]
     },
     "metadata": {},
     "output_type": "display_data"
    },
    {
     "data": {
      "application/vnd.jupyter.widget-view+json": {
       "model_id": "72aa050ee7b74b00be92d3b27841273c",
       "version_major": 2,
       "version_minor": 0
      },
      "text/plain": [
       "IntProgress(value=0, description='mvg_4', max=6)"
      ]
     },
     "metadata": {},
     "output_type": "display_data"
    },
    {
     "data": {
      "application/vnd.jupyter.widget-view+json": {
       "model_id": "c2b3015348c144a99b650e72bba8ec5f",
       "version_major": 2,
       "version_minor": 0
      },
      "text/plain": [
       "IntProgress(value=0, description='mvg_7', max=18)"
      ]
     },
     "metadata": {},
     "output_type": "display_data"
    },
    {
     "data": {
      "application/vnd.jupyter.widget-view+json": {
       "model_id": "100f1912679c418f8b9c714a98766eb5",
       "version_major": 2,
       "version_minor": 0
      },
      "text/plain": [
       "IntProgress(value=0, description='mvg_7', max=18)"
      ]
     },
     "metadata": {},
     "output_type": "display_data"
    },
    {
     "name": "stdout",
     "output_type": "stream",
     "text": [
      "Warning: skipping session with too few trials 1\n",
      "Warning: skipping session with too few trials 0\n",
      "Warning: skipping session with too few trials 0\n"
     ]
    },
    {
     "data": {
      "application/vnd.jupyter.widget-view+json": {
       "model_id": "364dd3175de143739096c3c6d05fc089",
       "version_major": 2,
       "version_minor": 0
      },
      "text/plain": [
       "IntProgress(value=0, description='mvg_7', max=18)"
      ]
     },
     "metadata": {},
     "output_type": "display_data"
    },
    {
     "data": {
      "application/vnd.jupyter.widget-view+json": {
       "model_id": "51ae582fec3b48dc839f88ddfea7af4a",
       "version_major": 2,
       "version_minor": 0
      },
      "text/plain": [
       "IntProgress(value=0, description='mvg_7', max=18)"
      ]
     },
     "metadata": {},
     "output_type": "display_data"
    },
    {
     "name": "stdout",
     "output_type": "stream",
     "text": [
      "Warning: skipping session with too few trials 3\n"
     ]
    },
    {
     "data": {
      "application/vnd.jupyter.widget-view+json": {
       "model_id": "40566f74b12d4062b7214100163eb5a8",
       "version_major": 2,
       "version_minor": 0
      },
      "text/plain": [
       "IntProgress(value=0, description='mvg_7', max=18)"
      ]
     },
     "metadata": {},
     "output_type": "display_data"
    },
    {
     "name": "stdout",
     "output_type": "stream",
     "text": [
      "Warning: skipping session with too few trials 0\n",
      "Warning: skipping session with too few trials 0\n",
      "Warning: skipping session with too few trials 0\n"
     ]
    },
    {
     "data": {
      "application/vnd.jupyter.widget-view+json": {
       "model_id": "37e9b57866ae4872a22403a5d3f3b692",
       "version_major": 2,
       "version_minor": 0
      },
      "text/plain": [
       "IntProgress(value=0, description='mvg_7', max=15)"
      ]
     },
     "metadata": {},
     "output_type": "display_data"
    },
    {
     "data": {
      "application/vnd.jupyter.widget-view+json": {
       "model_id": "61b77ec24eea4d67b2574013908d2c23",
       "version_major": 2,
       "version_minor": 0
      },
      "text/plain": [
       "IntProgress(value=0, description='mvg_7', max=15)"
      ]
     },
     "metadata": {},
     "output_type": "display_data"
    },
    {
     "name": "stdout",
     "output_type": "stream",
     "text": [
      "Warning: skipping session with too few trials 1\n",
      "Warning: skipping session with too few trials 0\n",
      "Warning: skipping session with too few trials 0\n"
     ]
    },
    {
     "data": {
      "application/vnd.jupyter.widget-view+json": {
       "model_id": "e0c8bbf8d1814bb9a968ae2e8480899b",
       "version_major": 2,
       "version_minor": 0
      },
      "text/plain": [
       "IntProgress(value=0, description='mvg_7', max=15)"
      ]
     },
     "metadata": {},
     "output_type": "display_data"
    },
    {
     "data": {
      "application/vnd.jupyter.widget-view+json": {
       "model_id": "02ac635efa6a4bdda7940dd5d45f668a",
       "version_major": 2,
       "version_minor": 0
      },
      "text/plain": [
       "IntProgress(value=0, description='mvg_7', max=15)"
      ]
     },
     "metadata": {},
     "output_type": "display_data"
    },
    {
     "name": "stdout",
     "output_type": "stream",
     "text": [
      "Warning: skipping session with too few trials 3\n"
     ]
    },
    {
     "data": {
      "application/vnd.jupyter.widget-view+json": {
       "model_id": "b06031b48a5743af9d74a175b0aac3f1",
       "version_major": 2,
       "version_minor": 0
      },
      "text/plain": [
       "IntProgress(value=0, description='mvg_7', max=15)"
      ]
     },
     "metadata": {},
     "output_type": "display_data"
    },
    {
     "name": "stdout",
     "output_type": "stream",
     "text": [
      "Warning: skipping session with too few trials 0\n",
      "Warning: skipping session with too few trials 0\n",
      "Warning: skipping session with too few trials 0\n"
     ]
    },
    {
     "data": {
      "application/vnd.jupyter.widget-view+json": {
       "model_id": "df8ede84e2e34a9b8c75b6f9f1509d96",
       "version_major": 2,
       "version_minor": 0
      },
      "text/plain": [
       "IntProgress(value=0, description='mvg_7', max=3)"
      ]
     },
     "metadata": {},
     "output_type": "display_data"
    },
    {
     "data": {
      "application/vnd.jupyter.widget-view+json": {
       "model_id": "fa6c48952a4c4fa1a8ac632913c02441",
       "version_major": 2,
       "version_minor": 0
      },
      "text/plain": [
       "IntProgress(value=0, description='mvg_7', max=3)"
      ]
     },
     "metadata": {},
     "output_type": "display_data"
    },
    {
     "data": {
      "application/vnd.jupyter.widget-view+json": {
       "model_id": "360a6f5433a042d1adcac7d09c816be9",
       "version_major": 2,
       "version_minor": 0
      },
      "text/plain": [
       "IntProgress(value=0, description='mvg_7', max=3)"
      ]
     },
     "metadata": {},
     "output_type": "display_data"
    },
    {
     "data": {
      "application/vnd.jupyter.widget-view+json": {
       "model_id": "9fbab77b76064480ba5d32c647276a27",
       "version_major": 2,
       "version_minor": 0
      },
      "text/plain": [
       "IntProgress(value=0, description='mvg_7', max=3)"
      ]
     },
     "metadata": {},
     "output_type": "display_data"
    },
    {
     "data": {
      "application/vnd.jupyter.widget-view+json": {
       "model_id": "4bebb4ac54d34accb26452d61766a267",
       "version_major": 2,
       "version_minor": 0
      },
      "text/plain": [
       "IntProgress(value=0, description='mvg_7', max=3)"
      ]
     },
     "metadata": {},
     "output_type": "display_data"
    },
    {
     "name": "stdout",
     "output_type": "stream",
     "text": [
      "Skipping existing session_bn_trial_PRE_mvg_7_mean_(sessions,)\n",
      "Skipping existing session_bn_trial_iFA_PRE_mvg_7_mean_(sessions,)\n",
      "Skipping existing session_bn_trial_iMISS_PRE_mvg_7_mean_(sessions,)\n",
      "Skipping existing session_bn_trial_iGO_PRE_mvg_7_mean_(sessions,)\n",
      "Skipping existing session_bn_trial_iNOGO_PRE_mvg_7_mean_(sessions,)\n",
      "Skipping existing session_bn_trial_naive_PRE_mvg_7_mean_(sessions,)\n",
      "Skipping existing session_bn_trial_naive_iFA_PRE_mvg_7_mean_(sessions,)\n",
      "Skipping existing session_bn_trial_naive_iMISS_PRE_mvg_7_mean_(sessions,)\n",
      "Skipping existing session_bn_trial_naive_iGO_PRE_mvg_7_mean_(sessions,)\n",
      "Skipping existing session_bn_trial_naive_iNOGO_PRE_mvg_7_mean_(sessions,)\n",
      "Skipping existing session_bn_trial_expert_PRE_mvg_7_mean_(sessions,)\n",
      "Skipping existing session_bn_trial_expert_iFA_PRE_mvg_7_mean_(sessions,)\n",
      "Skipping existing session_bn_trial_expert_iMISS_PRE_mvg_7_mean_(sessions,)\n",
      "Skipping existing session_bn_trial_expert_iGO_PRE_mvg_7_mean_(sessions,)\n",
      "Skipping existing session_bn_trial_expert_iNOGO_PRE_mvg_7_mean_(sessions,)\n",
      "Skipping existing session_rs_raw_PRE_mvg_7_mean_(sessions,)\n",
      "Skipping existing session_rs_raw_iFA_PRE_mvg_7_mean_(sessions,)\n",
      "Skipping existing session_rs_raw_iMISS_PRE_mvg_7_mean_(sessions,)\n",
      "Skipping existing session_rs_raw_iGO_PRE_mvg_7_mean_(sessions,)\n",
      "Skipping existing session_rs_raw_iNOGO_PRE_mvg_7_mean_(sessions,)\n",
      "Skipping existing session_rs_raw_naive_PRE_mvg_7_mean_(sessions,)\n",
      "Skipping existing session_rs_raw_naive_iFA_PRE_mvg_7_mean_(sessions,)\n",
      "Skipping existing session_rs_raw_naive_iMISS_PRE_mvg_7_mean_(sessions,)\n",
      "Skipping existing session_rs_raw_naive_iGO_PRE_mvg_7_mean_(sessions,)\n",
      "Skipping existing session_rs_raw_naive_iNOGO_PRE_mvg_7_mean_(sessions,)\n",
      "Skipping existing session_rs_raw_expert_PRE_mvg_7_mean_(sessions,)\n",
      "Skipping existing session_rs_raw_expert_iFA_PRE_mvg_7_mean_(sessions,)\n",
      "Skipping existing session_rs_raw_expert_iMISS_PRE_mvg_7_mean_(sessions,)\n",
      "Skipping existing session_rs_raw_expert_iGO_PRE_mvg_7_mean_(sessions,)\n",
      "Skipping existing session_rs_raw_expert_iNOGO_PRE_mvg_7_mean_(sessions,)\n",
      "Skipping existing session_bn_session_PRE_mvg_9_mean_(sessions,)\n",
      "Skipping existing session_bn_session_iFA_PRE_mvg_9_mean_(sessions,)\n",
      "Skipping existing session_bn_session_iMISS_PRE_mvg_9_mean_(sessions,)\n",
      "Skipping existing session_bn_session_iGO_PRE_mvg_9_mean_(sessions,)\n",
      "Skipping existing session_bn_session_iNOGO_PRE_mvg_9_mean_(sessions,)\n",
      "Skipping existing session_bn_session_naive_PRE_mvg_9_mean_(sessions,)\n",
      "Skipping existing session_bn_session_naive_iFA_PRE_mvg_9_mean_(sessions,)\n",
      "Skipping existing session_bn_session_naive_iMISS_PRE_mvg_9_mean_(sessions,)\n",
      "Skipping existing session_bn_session_naive_iGO_PRE_mvg_9_mean_(sessions,)\n",
      "Skipping existing session_bn_session_naive_iNOGO_PRE_mvg_9_mean_(sessions,)\n",
      "Skipping existing session_bn_session_expert_PRE_mvg_9_mean_(sessions,)\n",
      "Skipping existing session_bn_session_expert_iFA_PRE_mvg_9_mean_(sessions,)\n",
      "Skipping existing session_bn_session_expert_iMISS_PRE_mvg_9_mean_(sessions,)\n",
      "Skipping existing session_bn_session_expert_iGO_PRE_mvg_9_mean_(sessions,)\n",
      "Skipping existing session_bn_session_expert_iNOGO_PRE_mvg_9_mean_(sessions,)\n",
      "Skipping existing session_bn_trial_PRE_mvg_9_mean_(sessions,)\n",
      "Skipping existing session_bn_trial_iFA_PRE_mvg_9_mean_(sessions,)\n",
      "Skipping existing session_bn_trial_iMISS_PRE_mvg_9_mean_(sessions,)\n",
      "Skipping existing session_bn_trial_iGO_PRE_mvg_9_mean_(sessions,)\n",
      "Skipping existing session_bn_trial_iNOGO_PRE_mvg_9_mean_(sessions,)\n",
      "Skipping existing session_bn_trial_naive_PRE_mvg_9_mean_(sessions,)\n",
      "Skipping existing session_bn_trial_naive_iFA_PRE_mvg_9_mean_(sessions,)\n",
      "Skipping existing session_bn_trial_naive_iMISS_PRE_mvg_9_mean_(sessions,)\n",
      "Skipping existing session_bn_trial_naive_iGO_PRE_mvg_9_mean_(sessions,)\n",
      "Skipping existing session_bn_trial_naive_iNOGO_PRE_mvg_9_mean_(sessions,)\n",
      "Skipping existing session_bn_trial_expert_PRE_mvg_9_mean_(sessions,)\n",
      "Skipping existing session_bn_trial_expert_iFA_PRE_mvg_9_mean_(sessions,)\n",
      "Skipping existing session_bn_trial_expert_iMISS_PRE_mvg_9_mean_(sessions,)\n",
      "Skipping existing session_bn_trial_expert_iGO_PRE_mvg_9_mean_(sessions,)\n",
      "Skipping existing session_bn_trial_expert_iNOGO_PRE_mvg_9_mean_(sessions,)\n",
      "Skipping existing session_rs_raw_PRE_mvg_9_mean_(sessions,)\n",
      "Skipping existing session_rs_raw_iFA_PRE_mvg_9_mean_(sessions,)\n",
      "Skipping existing session_rs_raw_iMISS_PRE_mvg_9_mean_(sessions,)\n",
      "Skipping existing session_rs_raw_iGO_PRE_mvg_9_mean_(sessions,)\n",
      "Skipping existing session_rs_raw_iNOGO_PRE_mvg_9_mean_(sessions,)\n",
      "Skipping existing session_rs_raw_naive_PRE_mvg_9_mean_(sessions,)\n",
      "Skipping existing session_rs_raw_naive_iFA_PRE_mvg_9_mean_(sessions,)\n",
      "Skipping existing session_rs_raw_naive_iMISS_PRE_mvg_9_mean_(sessions,)\n",
      "Skipping existing session_rs_raw_naive_iGO_PRE_mvg_9_mean_(sessions,)\n",
      "Skipping existing session_rs_raw_naive_iNOGO_PRE_mvg_9_mean_(sessions,)\n",
      "Skipping existing session_rs_raw_expert_PRE_mvg_9_mean_(sessions,)\n",
      "Skipping existing session_rs_raw_expert_iFA_PRE_mvg_9_mean_(sessions,)\n",
      "Skipping existing session_rs_raw_expert_iMISS_PRE_mvg_9_mean_(sessions,)\n",
      "Skipping existing session_rs_raw_expert_iGO_PRE_mvg_9_mean_(sessions,)\n",
      "Skipping existing session_rs_raw_expert_iNOGO_PRE_mvg_9_mean_(sessions,)\n"
     ]
    },
    {
     "data": {
      "application/vnd.jupyter.widget-view+json": {
       "model_id": "64ce9bf6511644c8b5c0683b2d57800e",
       "version_major": 2,
       "version_minor": 0
      },
      "text/plain": [
       "IntProgress(value=0, description='session', max=180)"
      ]
     },
     "metadata": {},
     "output_type": "display_data"
    },
    {
     "name": "stdout",
     "output_type": "stream",
     "text": [
      "Skipping existing session_bn_session_TEX_mvg_8_mean_(sessions,)\n",
      "Skipping existing session_bn_session_iFA_TEX_mvg_8_mean_(sessions,)\n",
      "Skipping existing session_bn_session_iMISS_TEX_mvg_8_mean_(sessions,)\n",
      "Skipping existing session_bn_session_iGO_TEX_mvg_8_mean_(sessions,)\n",
      "Skipping existing session_bn_session_iNOGO_TEX_mvg_8_mean_(sessions,)\n",
      "Skipping existing session_bn_session_naive_TEX_mvg_8_mean_(sessions,)\n",
      "Skipping existing session_bn_session_naive_iFA_TEX_mvg_8_mean_(sessions,)\n",
      "Skipping existing session_bn_session_naive_iMISS_TEX_mvg_8_mean_(sessions,)\n",
      "Skipping existing session_bn_session_naive_iGO_TEX_mvg_8_mean_(sessions,)\n",
      "Skipping existing session_bn_session_naive_iNOGO_TEX_mvg_8_mean_(sessions,)\n",
      "Skipping existing session_bn_session_expert_TEX_mvg_8_mean_(sessions,)\n",
      "Skipping existing session_bn_session_expert_iFA_TEX_mvg_8_mean_(sessions,)\n",
      "Skipping existing session_bn_session_expert_iMISS_TEX_mvg_8_mean_(sessions,)\n",
      "Skipping existing session_bn_session_expert_iGO_TEX_mvg_8_mean_(sessions,)\n",
      "Skipping existing session_bn_session_expert_iNOGO_TEX_mvg_8_mean_(sessions,)\n",
      "Skipping existing session_bn_trial_TEX_mvg_8_mean_(sessions,)\n",
      "Skipping existing session_bn_trial_iFA_TEX_mvg_8_mean_(sessions,)\n",
      "Skipping existing session_bn_trial_iMISS_TEX_mvg_8_mean_(sessions,)\n",
      "Skipping existing session_bn_trial_iGO_TEX_mvg_8_mean_(sessions,)\n",
      "Skipping existing session_bn_trial_iNOGO_TEX_mvg_8_mean_(sessions,)\n",
      "Skipping existing session_bn_trial_naive_TEX_mvg_8_mean_(sessions,)\n",
      "Skipping existing session_bn_trial_naive_iFA_TEX_mvg_8_mean_(sessions,)\n",
      "Skipping existing session_bn_trial_naive_iMISS_TEX_mvg_8_mean_(sessions,)\n",
      "Skipping existing session_bn_trial_naive_iGO_TEX_mvg_8_mean_(sessions,)\n",
      "Skipping existing session_bn_trial_naive_iNOGO_TEX_mvg_8_mean_(sessions,)\n",
      "Skipping existing session_bn_trial_expert_TEX_mvg_8_mean_(sessions,)\n",
      "Skipping existing session_bn_trial_expert_iFA_TEX_mvg_8_mean_(sessions,)\n",
      "Skipping existing session_bn_trial_expert_iMISS_TEX_mvg_8_mean_(sessions,)\n",
      "Skipping existing session_bn_trial_expert_iGO_TEX_mvg_8_mean_(sessions,)\n",
      "Skipping existing session_bn_trial_expert_iNOGO_TEX_mvg_8_mean_(sessions,)\n",
      "Skipping existing session_rs_raw_TEX_mvg_8_mean_(sessions,)\n",
      "Skipping existing session_rs_raw_iFA_TEX_mvg_8_mean_(sessions,)\n",
      "Skipping existing session_rs_raw_iMISS_TEX_mvg_8_mean_(sessions,)\n",
      "Skipping existing session_rs_raw_iGO_TEX_mvg_8_mean_(sessions,)\n",
      "Skipping existing session_rs_raw_iNOGO_TEX_mvg_8_mean_(sessions,)\n",
      "Skipping existing session_rs_raw_naive_TEX_mvg_8_mean_(sessions,)\n",
      "Skipping existing session_rs_raw_naive_iFA_TEX_mvg_8_mean_(sessions,)\n",
      "Skipping existing session_rs_raw_naive_iMISS_TEX_mvg_8_mean_(sessions,)\n",
      "Skipping existing session_rs_raw_naive_iGO_TEX_mvg_8_mean_(sessions,)\n",
      "Skipping existing session_rs_raw_naive_iNOGO_TEX_mvg_8_mean_(sessions,)\n",
      "Skipping existing session_rs_raw_expert_TEX_mvg_8_mean_(sessions,)\n",
      "Skipping existing session_rs_raw_expert_iFA_TEX_mvg_8_mean_(sessions,)\n",
      "Skipping existing session_rs_raw_expert_iMISS_TEX_mvg_8_mean_(sessions,)\n",
      "Skipping existing session_rs_raw_expert_iGO_TEX_mvg_8_mean_(sessions,)\n",
      "Skipping existing session_rs_raw_expert_iNOGO_TEX_mvg_8_mean_(sessions,)\n",
      "Skipping existing session_bn_session_TEX_mvg_4_mean_(sessions,)\n",
      "Skipping existing session_bn_session_iFA_TEX_mvg_4_mean_(sessions,)\n",
      "Skipping existing session_bn_session_iMISS_TEX_mvg_4_mean_(sessions,)\n",
      "Skipping existing session_bn_session_iGO_TEX_mvg_4_mean_(sessions,)\n",
      "Skipping existing session_bn_session_iNOGO_TEX_mvg_4_mean_(sessions,)\n",
      "Skipping existing session_bn_session_naive_TEX_mvg_4_mean_(sessions,)\n",
      "Skipping existing session_bn_session_naive_iFA_TEX_mvg_4_mean_(sessions,)\n",
      "Skipping existing session_bn_session_naive_iMISS_TEX_mvg_4_mean_(sessions,)\n",
      "Skipping existing session_bn_session_naive_iGO_TEX_mvg_4_mean_(sessions,)\n",
      "Skipping existing session_bn_session_naive_iNOGO_TEX_mvg_4_mean_(sessions,)\n",
      "Skipping existing session_bn_session_expert_TEX_mvg_4_mean_(sessions,)\n",
      "Skipping existing session_bn_session_expert_iFA_TEX_mvg_4_mean_(sessions,)\n",
      "Skipping existing session_bn_session_expert_iMISS_TEX_mvg_4_mean_(sessions,)\n",
      "Skipping existing session_bn_session_expert_iGO_TEX_mvg_4_mean_(sessions,)\n",
      "Skipping existing session_bn_session_expert_iNOGO_TEX_mvg_4_mean_(sessions,)\n",
      "Skipping existing session_bn_trial_TEX_mvg_4_mean_(sessions,)\n",
      "Skipping existing session_bn_trial_iFA_TEX_mvg_4_mean_(sessions,)\n",
      "Skipping existing session_bn_trial_iMISS_TEX_mvg_4_mean_(sessions,)\n",
      "Skipping existing session_bn_trial_iGO_TEX_mvg_4_mean_(sessions,)\n",
      "Skipping existing session_bn_trial_iNOGO_TEX_mvg_4_mean_(sessions,)\n",
      "Skipping existing session_bn_trial_naive_TEX_mvg_4_mean_(sessions,)\n",
      "Skipping existing session_bn_trial_naive_iFA_TEX_mvg_4_mean_(sessions,)\n",
      "Skipping existing session_bn_trial_naive_iMISS_TEX_mvg_4_mean_(sessions,)\n",
      "Skipping existing session_bn_trial_naive_iGO_TEX_mvg_4_mean_(sessions,)\n",
      "Skipping existing session_bn_trial_naive_iNOGO_TEX_mvg_4_mean_(sessions,)\n",
      "Skipping existing session_bn_trial_expert_TEX_mvg_4_mean_(sessions,)\n",
      "Skipping existing session_bn_trial_expert_iFA_TEX_mvg_4_mean_(sessions,)\n",
      "Skipping existing session_bn_trial_expert_iMISS_TEX_mvg_4_mean_(sessions,)\n",
      "Skipping existing session_bn_trial_expert_iGO_TEX_mvg_4_mean_(sessions,)\n",
      "Skipping existing session_bn_trial_expert_iNOGO_TEX_mvg_4_mean_(sessions,)\n",
      "Skipping existing session_rs_raw_TEX_mvg_4_mean_(sessions,)\n",
      "Skipping existing session_rs_raw_iFA_TEX_mvg_4_mean_(sessions,)\n",
      "Skipping existing session_rs_raw_iMISS_TEX_mvg_4_mean_(sessions,)\n",
      "Skipping existing session_rs_raw_iGO_TEX_mvg_4_mean_(sessions,)\n",
      "Skipping existing session_rs_raw_iNOGO_TEX_mvg_4_mean_(sessions,)\n",
      "Skipping existing session_rs_raw_naive_TEX_mvg_4_mean_(sessions,)\n",
      "Skipping existing session_rs_raw_naive_iFA_TEX_mvg_4_mean_(sessions,)\n",
      "Skipping existing session_rs_raw_naive_iMISS_TEX_mvg_4_mean_(sessions,)\n",
      "Skipping existing session_rs_raw_naive_iGO_TEX_mvg_4_mean_(sessions,)\n",
      "Skipping existing session_rs_raw_naive_iNOGO_TEX_mvg_4_mean_(sessions,)\n",
      "Skipping existing session_rs_raw_expert_TEX_mvg_4_mean_(sessions,)\n",
      "Skipping existing session_rs_raw_expert_iFA_TEX_mvg_4_mean_(sessions,)\n",
      "Skipping existing session_rs_raw_expert_iMISS_TEX_mvg_4_mean_(sessions,)\n",
      "Skipping existing session_rs_raw_expert_iGO_TEX_mvg_4_mean_(sessions,)\n",
      "Skipping existing session_rs_raw_expert_iNOGO_TEX_mvg_4_mean_(sessions,)\n",
      "Skipping existing session_bn_session_TEX_mvg_7_mean_(sessions,)\n",
      "Skipping existing session_bn_session_iFA_TEX_mvg_7_mean_(sessions,)\n",
      "Skipping existing session_bn_session_iMISS_TEX_mvg_7_mean_(sessions,)\n",
      "Skipping existing session_bn_session_iGO_TEX_mvg_7_mean_(sessions,)\n",
      "Skipping existing session_bn_session_iNOGO_TEX_mvg_7_mean_(sessions,)\n",
      "Skipping existing session_bn_session_naive_TEX_mvg_7_mean_(sessions,)\n",
      "Skipping existing session_bn_session_naive_iFA_TEX_mvg_7_mean_(sessions,)\n",
      "Skipping existing session_bn_session_naive_iMISS_TEX_mvg_7_mean_(sessions,)\n",
      "Skipping existing session_bn_session_naive_iGO_TEX_mvg_7_mean_(sessions,)\n",
      "Skipping existing session_bn_session_naive_iNOGO_TEX_mvg_7_mean_(sessions,)\n",
      "Skipping existing session_bn_session_expert_TEX_mvg_7_mean_(sessions,)\n",
      "Skipping existing session_bn_session_expert_iFA_TEX_mvg_7_mean_(sessions,)\n",
      "Skipping existing session_bn_session_expert_iMISS_TEX_mvg_7_mean_(sessions,)\n",
      "Skipping existing session_bn_session_expert_iGO_TEX_mvg_7_mean_(sessions,)\n",
      "Skipping existing session_bn_session_expert_iNOGO_TEX_mvg_7_mean_(sessions,)\n",
      "Skipping existing session_bn_trial_TEX_mvg_7_mean_(sessions,)\n",
      "Skipping existing session_bn_trial_iFA_TEX_mvg_7_mean_(sessions,)\n",
      "Skipping existing session_bn_trial_iMISS_TEX_mvg_7_mean_(sessions,)\n",
      "Skipping existing session_bn_trial_iGO_TEX_mvg_7_mean_(sessions,)\n",
      "Skipping existing session_bn_trial_iNOGO_TEX_mvg_7_mean_(sessions,)\n",
      "Skipping existing session_bn_trial_naive_TEX_mvg_7_mean_(sessions,)\n",
      "Skipping existing session_bn_trial_naive_iFA_TEX_mvg_7_mean_(sessions,)\n",
      "Skipping existing session_bn_trial_naive_iMISS_TEX_mvg_7_mean_(sessions,)\n",
      "Skipping existing session_bn_trial_naive_iGO_TEX_mvg_7_mean_(sessions,)\n",
      "Skipping existing session_bn_trial_naive_iNOGO_TEX_mvg_7_mean_(sessions,)\n",
      "Skipping existing session_bn_trial_expert_TEX_mvg_7_mean_(sessions,)\n",
      "Skipping existing session_bn_trial_expert_iFA_TEX_mvg_7_mean_(sessions,)\n",
      "Skipping existing session_bn_trial_expert_iMISS_TEX_mvg_7_mean_(sessions,)\n",
      "Skipping existing session_bn_trial_expert_iGO_TEX_mvg_7_mean_(sessions,)\n",
      "Skipping existing session_bn_trial_expert_iNOGO_TEX_mvg_7_mean_(sessions,)\n",
      "Skipping existing session_rs_raw_TEX_mvg_7_mean_(sessions,)\n",
      "Skipping existing session_rs_raw_iFA_TEX_mvg_7_mean_(sessions,)\n",
      "Skipping existing session_rs_raw_iMISS_TEX_mvg_7_mean_(sessions,)\n",
      "Skipping existing session_rs_raw_iGO_TEX_mvg_7_mean_(sessions,)\n",
      "Skipping existing session_rs_raw_iNOGO_TEX_mvg_7_mean_(sessions,)\n",
      "Skipping existing session_rs_raw_naive_TEX_mvg_7_mean_(sessions,)\n",
      "Skipping existing session_rs_raw_naive_iFA_TEX_mvg_7_mean_(sessions,)\n",
      "Skipping existing session_rs_raw_naive_iMISS_TEX_mvg_7_mean_(sessions,)\n",
      "Skipping existing session_rs_raw_naive_iGO_TEX_mvg_7_mean_(sessions,)\n",
      "Skipping existing session_rs_raw_naive_iNOGO_TEX_mvg_7_mean_(sessions,)\n",
      "Skipping existing session_rs_raw_expert_TEX_mvg_7_mean_(sessions,)\n",
      "Skipping existing session_rs_raw_expert_iFA_TEX_mvg_7_mean_(sessions,)\n",
      "Skipping existing session_rs_raw_expert_iMISS_TEX_mvg_7_mean_(sessions,)\n",
      "Skipping existing session_rs_raw_expert_iGO_TEX_mvg_7_mean_(sessions,)\n",
      "Skipping existing session_rs_raw_expert_iNOGO_TEX_mvg_7_mean_(sessions,)\n",
      "Skipping existing session_bn_session_TEX_mvg_9_mean_(sessions,)\n",
      "Skipping existing session_bn_session_iFA_TEX_mvg_9_mean_(sessions,)\n",
      "Skipping existing session_bn_session_iMISS_TEX_mvg_9_mean_(sessions,)\n",
      "Skipping existing session_bn_session_iGO_TEX_mvg_9_mean_(sessions,)\n",
      "Skipping existing session_bn_session_iNOGO_TEX_mvg_9_mean_(sessions,)\n",
      "Skipping existing session_bn_session_naive_TEX_mvg_9_mean_(sessions,)\n",
      "Skipping existing session_bn_session_naive_iFA_TEX_mvg_9_mean_(sessions,)\n",
      "Skipping existing session_bn_session_naive_iMISS_TEX_mvg_9_mean_(sessions,)\n",
      "Skipping existing session_bn_session_naive_iGO_TEX_mvg_9_mean_(sessions,)\n",
      "Skipping existing session_bn_session_naive_iNOGO_TEX_mvg_9_mean_(sessions,)\n",
      "Skipping existing session_bn_session_expert_TEX_mvg_9_mean_(sessions,)\n",
      "Skipping existing session_bn_session_expert_iFA_TEX_mvg_9_mean_(sessions,)\n",
      "Skipping existing session_bn_session_expert_iMISS_TEX_mvg_9_mean_(sessions,)\n",
      "Skipping existing session_bn_session_expert_iGO_TEX_mvg_9_mean_(sessions,)\n",
      "Skipping existing session_bn_session_expert_iNOGO_TEX_mvg_9_mean_(sessions,)\n",
      "Skipping existing session_bn_trial_TEX_mvg_9_mean_(sessions,)\n",
      "Skipping existing session_bn_trial_iFA_TEX_mvg_9_mean_(sessions,)\n",
      "Skipping existing session_bn_trial_iMISS_TEX_mvg_9_mean_(sessions,)\n",
      "Skipping existing session_bn_trial_iGO_TEX_mvg_9_mean_(sessions,)\n",
      "Skipping existing session_bn_trial_iNOGO_TEX_mvg_9_mean_(sessions,)\n",
      "Skipping existing session_bn_trial_naive_TEX_mvg_9_mean_(sessions,)\n",
      "Skipping existing session_bn_trial_naive_iFA_TEX_mvg_9_mean_(sessions,)\n",
      "Skipping existing session_bn_trial_naive_iMISS_TEX_mvg_9_mean_(sessions,)\n",
      "Skipping existing session_bn_trial_naive_iGO_TEX_mvg_9_mean_(sessions,)\n",
      "Skipping existing session_bn_trial_naive_iNOGO_TEX_mvg_9_mean_(sessions,)\n",
      "Skipping existing session_bn_trial_expert_TEX_mvg_9_mean_(sessions,)\n",
      "Skipping existing session_bn_trial_expert_iFA_TEX_mvg_9_mean_(sessions,)\n",
      "Skipping existing session_bn_trial_expert_iMISS_TEX_mvg_9_mean_(sessions,)\n",
      "Skipping existing session_bn_trial_expert_iGO_TEX_mvg_9_mean_(sessions,)\n",
      "Skipping existing session_bn_trial_expert_iNOGO_TEX_mvg_9_mean_(sessions,)\n",
      "Skipping existing session_rs_raw_TEX_mvg_9_mean_(sessions,)\n",
      "Skipping existing session_rs_raw_iFA_TEX_mvg_9_mean_(sessions,)\n",
      "Skipping existing session_rs_raw_iMISS_TEX_mvg_9_mean_(sessions,)\n",
      "Skipping existing session_rs_raw_iGO_TEX_mvg_9_mean_(sessions,)\n",
      "Skipping existing session_rs_raw_iNOGO_TEX_mvg_9_mean_(sessions,)\n",
      "Skipping existing session_rs_raw_naive_TEX_mvg_9_mean_(sessions,)\n",
      "Skipping existing session_rs_raw_naive_iFA_TEX_mvg_9_mean_(sessions,)\n",
      "Skipping existing session_rs_raw_naive_iMISS_TEX_mvg_9_mean_(sessions,)\n",
      "Skipping existing session_rs_raw_naive_iGO_TEX_mvg_9_mean_(sessions,)\n",
      "Skipping existing session_rs_raw_naive_iNOGO_TEX_mvg_9_mean_(sessions,)\n",
      "Skipping existing session_rs_raw_expert_TEX_mvg_9_mean_(sessions,)\n",
      "Skipping existing session_rs_raw_expert_iFA_TEX_mvg_9_mean_(sessions,)\n",
      "Skipping existing session_rs_raw_expert_iMISS_TEX_mvg_9_mean_(sessions,)\n",
      "Skipping existing session_rs_raw_expert_iGO_TEX_mvg_9_mean_(sessions,)\n",
      "Skipping existing session_rs_raw_expert_iNOGO_TEX_mvg_9_mean_(sessions,)\n"
     ]
    },
    {
     "data": {
      "application/vnd.jupyter.widget-view+json": {
       "model_id": "844487aa154b499889322e4ab10f15b2",
       "version_major": 2,
       "version_minor": 0
      },
      "text/plain": [
       "IntProgress(value=0, description='session', max=180)"
      ]
     },
     "metadata": {},
     "output_type": "display_data"
    },
    {
     "name": "stdout",
     "output_type": "stream",
     "text": [
      "Skipping existing session_bn_session_REW_mvg_8_mean_(sessions,)\n",
      "Skipping existing session_bn_session_iFA_REW_mvg_8_mean_(sessions,)\n",
      "Skipping existing session_bn_session_iMISS_REW_mvg_8_mean_(sessions,)\n",
      "Skipping existing session_bn_session_iGO_REW_mvg_8_mean_(sessions,)\n",
      "Skipping existing session_bn_session_iNOGO_REW_mvg_8_mean_(sessions,)\n",
      "Skipping existing session_bn_session_naive_REW_mvg_8_mean_(sessions,)\n",
      "Skipping existing session_bn_session_naive_iFA_REW_mvg_8_mean_(sessions,)\n",
      "Skipping existing session_bn_session_naive_iMISS_REW_mvg_8_mean_(sessions,)\n",
      "Skipping existing session_bn_session_naive_iGO_REW_mvg_8_mean_(sessions,)\n",
      "Skipping existing session_bn_session_naive_iNOGO_REW_mvg_8_mean_(sessions,)\n",
      "Skipping existing session_bn_session_expert_REW_mvg_8_mean_(sessions,)\n",
      "Skipping existing session_bn_session_expert_iFA_REW_mvg_8_mean_(sessions,)\n",
      "Skipping existing session_bn_session_expert_iMISS_REW_mvg_8_mean_(sessions,)\n",
      "Skipping existing session_bn_session_expert_iGO_REW_mvg_8_mean_(sessions,)\n",
      "Skipping existing session_bn_session_expert_iNOGO_REW_mvg_8_mean_(sessions,)\n",
      "Skipping existing session_bn_trial_REW_mvg_8_mean_(sessions,)\n",
      "Skipping existing session_bn_trial_iFA_REW_mvg_8_mean_(sessions,)\n",
      "Skipping existing session_bn_trial_iMISS_REW_mvg_8_mean_(sessions,)\n",
      "Skipping existing session_bn_trial_iGO_REW_mvg_8_mean_(sessions,)\n",
      "Skipping existing session_bn_trial_iNOGO_REW_mvg_8_mean_(sessions,)\n",
      "Skipping existing session_bn_trial_naive_REW_mvg_8_mean_(sessions,)\n",
      "Skipping existing session_bn_trial_naive_iFA_REW_mvg_8_mean_(sessions,)\n",
      "Skipping existing session_bn_trial_naive_iMISS_REW_mvg_8_mean_(sessions,)\n",
      "Skipping existing session_bn_trial_naive_iGO_REW_mvg_8_mean_(sessions,)\n",
      "Skipping existing session_bn_trial_naive_iNOGO_REW_mvg_8_mean_(sessions,)\n",
      "Skipping existing session_bn_trial_expert_REW_mvg_8_mean_(sessions,)\n",
      "Skipping existing session_bn_trial_expert_iFA_REW_mvg_8_mean_(sessions,)\n",
      "Skipping existing session_bn_trial_expert_iMISS_REW_mvg_8_mean_(sessions,)\n",
      "Skipping existing session_bn_trial_expert_iGO_REW_mvg_8_mean_(sessions,)\n",
      "Skipping existing session_bn_trial_expert_iNOGO_REW_mvg_8_mean_(sessions,)\n",
      "Skipping existing session_rs_raw_REW_mvg_8_mean_(sessions,)\n",
      "Skipping existing session_rs_raw_iFA_REW_mvg_8_mean_(sessions,)\n",
      "Skipping existing session_rs_raw_iMISS_REW_mvg_8_mean_(sessions,)\n",
      "Skipping existing session_rs_raw_iGO_REW_mvg_8_mean_(sessions,)\n",
      "Skipping existing session_rs_raw_iNOGO_REW_mvg_8_mean_(sessions,)\n",
      "Skipping existing session_rs_raw_naive_REW_mvg_8_mean_(sessions,)\n",
      "Skipping existing session_rs_raw_naive_iFA_REW_mvg_8_mean_(sessions,)\n",
      "Skipping existing session_rs_raw_naive_iMISS_REW_mvg_8_mean_(sessions,)\n",
      "Skipping existing session_rs_raw_naive_iGO_REW_mvg_8_mean_(sessions,)\n",
      "Skipping existing session_rs_raw_naive_iNOGO_REW_mvg_8_mean_(sessions,)\n",
      "Skipping existing session_rs_raw_expert_REW_mvg_8_mean_(sessions,)\n",
      "Skipping existing session_rs_raw_expert_iFA_REW_mvg_8_mean_(sessions,)\n",
      "Skipping existing session_rs_raw_expert_iMISS_REW_mvg_8_mean_(sessions,)\n",
      "Skipping existing session_rs_raw_expert_iGO_REW_mvg_8_mean_(sessions,)\n",
      "Skipping existing session_rs_raw_expert_iNOGO_REW_mvg_8_mean_(sessions,)\n",
      "Skipping existing session_bn_session_REW_mvg_4_mean_(sessions,)\n",
      "Skipping existing session_bn_session_iFA_REW_mvg_4_mean_(sessions,)\n",
      "Skipping existing session_bn_session_iMISS_REW_mvg_4_mean_(sessions,)\n",
      "Skipping existing session_bn_session_iGO_REW_mvg_4_mean_(sessions,)\n",
      "Skipping existing session_bn_session_iNOGO_REW_mvg_4_mean_(sessions,)\n",
      "Skipping existing session_bn_session_naive_REW_mvg_4_mean_(sessions,)\n",
      "Skipping existing session_bn_session_naive_iFA_REW_mvg_4_mean_(sessions,)\n",
      "Skipping existing session_bn_session_naive_iMISS_REW_mvg_4_mean_(sessions,)\n",
      "Skipping existing session_bn_session_naive_iGO_REW_mvg_4_mean_(sessions,)\n",
      "Skipping existing session_bn_session_naive_iNOGO_REW_mvg_4_mean_(sessions,)\n",
      "Skipping existing session_bn_session_expert_REW_mvg_4_mean_(sessions,)\n",
      "Skipping existing session_bn_session_expert_iFA_REW_mvg_4_mean_(sessions,)\n",
      "Skipping existing session_bn_session_expert_iMISS_REW_mvg_4_mean_(sessions,)\n",
      "Skipping existing session_bn_session_expert_iGO_REW_mvg_4_mean_(sessions,)\n",
      "Skipping existing session_bn_session_expert_iNOGO_REW_mvg_4_mean_(sessions,)\n",
      "Skipping existing session_bn_trial_REW_mvg_4_mean_(sessions,)\n",
      "Skipping existing session_bn_trial_iFA_REW_mvg_4_mean_(sessions,)\n",
      "Skipping existing session_bn_trial_iMISS_REW_mvg_4_mean_(sessions,)\n",
      "Skipping existing session_bn_trial_iGO_REW_mvg_4_mean_(sessions,)\n",
      "Skipping existing session_bn_trial_iNOGO_REW_mvg_4_mean_(sessions,)\n",
      "Skipping existing session_bn_trial_naive_REW_mvg_4_mean_(sessions,)\n",
      "Skipping existing session_bn_trial_naive_iFA_REW_mvg_4_mean_(sessions,)\n",
      "Skipping existing session_bn_trial_naive_iMISS_REW_mvg_4_mean_(sessions,)\n",
      "Skipping existing session_bn_trial_naive_iGO_REW_mvg_4_mean_(sessions,)\n",
      "Skipping existing session_bn_trial_naive_iNOGO_REW_mvg_4_mean_(sessions,)\n",
      "Skipping existing session_bn_trial_expert_REW_mvg_4_mean_(sessions,)\n",
      "Skipping existing session_bn_trial_expert_iFA_REW_mvg_4_mean_(sessions,)\n",
      "Skipping existing session_bn_trial_expert_iMISS_REW_mvg_4_mean_(sessions,)\n",
      "Skipping existing session_bn_trial_expert_iGO_REW_mvg_4_mean_(sessions,)\n",
      "Skipping existing session_bn_trial_expert_iNOGO_REW_mvg_4_mean_(sessions,)\n",
      "Skipping existing session_rs_raw_REW_mvg_4_mean_(sessions,)\n",
      "Skipping existing session_rs_raw_iFA_REW_mvg_4_mean_(sessions,)\n",
      "Skipping existing session_rs_raw_iMISS_REW_mvg_4_mean_(sessions,)\n",
      "Skipping existing session_rs_raw_iGO_REW_mvg_4_mean_(sessions,)\n",
      "Skipping existing session_rs_raw_iNOGO_REW_mvg_4_mean_(sessions,)\n",
      "Skipping existing session_rs_raw_naive_REW_mvg_4_mean_(sessions,)\n",
      "Skipping existing session_rs_raw_naive_iFA_REW_mvg_4_mean_(sessions,)\n",
      "Skipping existing session_rs_raw_naive_iMISS_REW_mvg_4_mean_(sessions,)\n",
      "Skipping existing session_rs_raw_naive_iGO_REW_mvg_4_mean_(sessions,)\n",
      "Skipping existing session_rs_raw_naive_iNOGO_REW_mvg_4_mean_(sessions,)\n",
      "Skipping existing session_rs_raw_expert_REW_mvg_4_mean_(sessions,)\n",
      "Skipping existing session_rs_raw_expert_iFA_REW_mvg_4_mean_(sessions,)\n",
      "Skipping existing session_rs_raw_expert_iMISS_REW_mvg_4_mean_(sessions,)\n",
      "Skipping existing session_rs_raw_expert_iGO_REW_mvg_4_mean_(sessions,)\n",
      "Skipping existing session_rs_raw_expert_iNOGO_REW_mvg_4_mean_(sessions,)\n",
      "Skipping existing session_bn_session_REW_mvg_7_mean_(sessions,)\n",
      "Skipping existing session_bn_session_iFA_REW_mvg_7_mean_(sessions,)\n",
      "Skipping existing session_bn_session_iMISS_REW_mvg_7_mean_(sessions,)\n",
      "Skipping existing session_bn_session_iGO_REW_mvg_7_mean_(sessions,)\n",
      "Skipping existing session_bn_session_iNOGO_REW_mvg_7_mean_(sessions,)\n",
      "Skipping existing session_bn_session_naive_REW_mvg_7_mean_(sessions,)\n",
      "Skipping existing session_bn_session_naive_iFA_REW_mvg_7_mean_(sessions,)\n",
      "Skipping existing session_bn_session_naive_iMISS_REW_mvg_7_mean_(sessions,)\n",
      "Skipping existing session_bn_session_naive_iGO_REW_mvg_7_mean_(sessions,)\n",
      "Skipping existing session_bn_session_naive_iNOGO_REW_mvg_7_mean_(sessions,)\n",
      "Skipping existing session_bn_session_expert_REW_mvg_7_mean_(sessions,)\n",
      "Skipping existing session_bn_session_expert_iFA_REW_mvg_7_mean_(sessions,)\n",
      "Skipping existing session_bn_session_expert_iMISS_REW_mvg_7_mean_(sessions,)\n",
      "Skipping existing session_bn_session_expert_iGO_REW_mvg_7_mean_(sessions,)\n",
      "Skipping existing session_bn_session_expert_iNOGO_REW_mvg_7_mean_(sessions,)\n",
      "Skipping existing session_bn_trial_REW_mvg_7_mean_(sessions,)\n",
      "Skipping existing session_bn_trial_iFA_REW_mvg_7_mean_(sessions,)\n",
      "Skipping existing session_bn_trial_iMISS_REW_mvg_7_mean_(sessions,)\n",
      "Skipping existing session_bn_trial_iGO_REW_mvg_7_mean_(sessions,)\n",
      "Skipping existing session_bn_trial_iNOGO_REW_mvg_7_mean_(sessions,)\n",
      "Skipping existing session_bn_trial_naive_REW_mvg_7_mean_(sessions,)\n",
      "Skipping existing session_bn_trial_naive_iFA_REW_mvg_7_mean_(sessions,)\n",
      "Skipping existing session_bn_trial_naive_iMISS_REW_mvg_7_mean_(sessions,)\n",
      "Skipping existing session_bn_trial_naive_iGO_REW_mvg_7_mean_(sessions,)\n",
      "Skipping existing session_bn_trial_naive_iNOGO_REW_mvg_7_mean_(sessions,)\n",
      "Skipping existing session_bn_trial_expert_REW_mvg_7_mean_(sessions,)\n",
      "Skipping existing session_bn_trial_expert_iFA_REW_mvg_7_mean_(sessions,)\n",
      "Skipping existing session_bn_trial_expert_iMISS_REW_mvg_7_mean_(sessions,)\n",
      "Skipping existing session_bn_trial_expert_iGO_REW_mvg_7_mean_(sessions,)\n",
      "Skipping existing session_bn_trial_expert_iNOGO_REW_mvg_7_mean_(sessions,)\n",
      "Skipping existing session_rs_raw_REW_mvg_7_mean_(sessions,)\n"
     ]
    },
    {
     "name": "stdout",
     "output_type": "stream",
     "text": [
      "Skipping existing session_rs_raw_iFA_REW_mvg_7_mean_(sessions,)\n",
      "Skipping existing session_rs_raw_iMISS_REW_mvg_7_mean_(sessions,)\n",
      "Skipping existing session_rs_raw_iGO_REW_mvg_7_mean_(sessions,)\n",
      "Skipping existing session_rs_raw_iNOGO_REW_mvg_7_mean_(sessions,)\n",
      "Skipping existing session_rs_raw_naive_REW_mvg_7_mean_(sessions,)\n",
      "Skipping existing session_rs_raw_naive_iFA_REW_mvg_7_mean_(sessions,)\n",
      "Skipping existing session_rs_raw_naive_iMISS_REW_mvg_7_mean_(sessions,)\n",
      "Skipping existing session_rs_raw_naive_iGO_REW_mvg_7_mean_(sessions,)\n",
      "Skipping existing session_rs_raw_naive_iNOGO_REW_mvg_7_mean_(sessions,)\n",
      "Skipping existing session_rs_raw_expert_REW_mvg_7_mean_(sessions,)\n",
      "Skipping existing session_rs_raw_expert_iFA_REW_mvg_7_mean_(sessions,)\n",
      "Skipping existing session_rs_raw_expert_iMISS_REW_mvg_7_mean_(sessions,)\n",
      "Skipping existing session_rs_raw_expert_iGO_REW_mvg_7_mean_(sessions,)\n",
      "Skipping existing session_rs_raw_expert_iNOGO_REW_mvg_7_mean_(sessions,)\n",
      "Skipping existing session_bn_session_REW_mvg_9_mean_(sessions,)\n",
      "Skipping existing session_bn_session_iFA_REW_mvg_9_mean_(sessions,)\n",
      "Skipping existing session_bn_session_iMISS_REW_mvg_9_mean_(sessions,)\n",
      "Skipping existing session_bn_session_iGO_REW_mvg_9_mean_(sessions,)\n",
      "Skipping existing session_bn_session_iNOGO_REW_mvg_9_mean_(sessions,)\n",
      "Skipping existing session_bn_session_naive_REW_mvg_9_mean_(sessions,)\n",
      "Skipping existing session_bn_session_naive_iFA_REW_mvg_9_mean_(sessions,)\n",
      "Skipping existing session_bn_session_naive_iMISS_REW_mvg_9_mean_(sessions,)\n",
      "Skipping existing session_bn_session_naive_iGO_REW_mvg_9_mean_(sessions,)\n",
      "Skipping existing session_bn_session_naive_iNOGO_REW_mvg_9_mean_(sessions,)\n",
      "Skipping existing session_bn_session_expert_REW_mvg_9_mean_(sessions,)\n",
      "Skipping existing session_bn_session_expert_iFA_REW_mvg_9_mean_(sessions,)\n",
      "Skipping existing session_bn_session_expert_iMISS_REW_mvg_9_mean_(sessions,)\n",
      "Skipping existing session_bn_session_expert_iGO_REW_mvg_9_mean_(sessions,)\n",
      "Skipping existing session_bn_session_expert_iNOGO_REW_mvg_9_mean_(sessions,)\n",
      "Skipping existing session_bn_trial_REW_mvg_9_mean_(sessions,)\n",
      "Skipping existing session_bn_trial_iFA_REW_mvg_9_mean_(sessions,)\n",
      "Skipping existing session_bn_trial_iMISS_REW_mvg_9_mean_(sessions,)\n",
      "Skipping existing session_bn_trial_iGO_REW_mvg_9_mean_(sessions,)\n",
      "Skipping existing session_bn_trial_iNOGO_REW_mvg_9_mean_(sessions,)\n",
      "Skipping existing session_bn_trial_naive_REW_mvg_9_mean_(sessions,)\n",
      "Skipping existing session_bn_trial_naive_iFA_REW_mvg_9_mean_(sessions,)\n",
      "Skipping existing session_bn_trial_naive_iMISS_REW_mvg_9_mean_(sessions,)\n",
      "Skipping existing session_bn_trial_naive_iGO_REW_mvg_9_mean_(sessions,)\n",
      "Skipping existing session_bn_trial_naive_iNOGO_REW_mvg_9_mean_(sessions,)\n",
      "Skipping existing session_bn_trial_expert_REW_mvg_9_mean_(sessions,)\n",
      "Skipping existing session_bn_trial_expert_iFA_REW_mvg_9_mean_(sessions,)\n",
      "Skipping existing session_bn_trial_expert_iMISS_REW_mvg_9_mean_(sessions,)\n",
      "Skipping existing session_bn_trial_expert_iGO_REW_mvg_9_mean_(sessions,)\n",
      "Skipping existing session_bn_trial_expert_iNOGO_REW_mvg_9_mean_(sessions,)\n",
      "Skipping existing session_rs_raw_REW_mvg_9_mean_(sessions,)\n",
      "Skipping existing session_rs_raw_iFA_REW_mvg_9_mean_(sessions,)\n",
      "Skipping existing session_rs_raw_iMISS_REW_mvg_9_mean_(sessions,)\n",
      "Skipping existing session_rs_raw_iGO_REW_mvg_9_mean_(sessions,)\n",
      "Skipping existing session_rs_raw_iNOGO_REW_mvg_9_mean_(sessions,)\n",
      "Skipping existing session_rs_raw_naive_REW_mvg_9_mean_(sessions,)\n",
      "Skipping existing session_rs_raw_naive_iFA_REW_mvg_9_mean_(sessions,)\n",
      "Skipping existing session_rs_raw_naive_iMISS_REW_mvg_9_mean_(sessions,)\n",
      "Skipping existing session_rs_raw_naive_iGO_REW_mvg_9_mean_(sessions,)\n",
      "Skipping existing session_rs_raw_naive_iNOGO_REW_mvg_9_mean_(sessions,)\n",
      "Skipping existing session_rs_raw_expert_REW_mvg_9_mean_(sessions,)\n",
      "Skipping existing session_rs_raw_expert_iFA_REW_mvg_9_mean_(sessions,)\n",
      "Skipping existing session_rs_raw_expert_iMISS_REW_mvg_9_mean_(sessions,)\n",
      "Skipping existing session_rs_raw_expert_iGO_REW_mvg_9_mean_(sessions,)\n",
      "Skipping existing session_rs_raw_expert_iNOGO_REW_mvg_9_mean_(sessions,)\n"
     ]
    },
    {
     "data": {
      "application/vnd.jupyter.widget-view+json": {
       "model_id": "0ae4cd0d9bd64fc8bdddf0da7e220f4d",
       "version_major": 2,
       "version_minor": 0
      },
      "text/plain": [
       "IntProgress(value=0, description='session', max=180)"
      ]
     },
     "metadata": {},
     "output_type": "display_data"
    },
    {
     "name": "stdout",
     "output_type": "stream",
     "text": [
      "Skipping existing session_bn_session_AVG_mvg_8_mean_(sessions,)\n",
      "Skipping existing session_bn_session_iFA_AVG_mvg_8_mean_(sessions,)\n",
      "Skipping existing session_bn_session_iMISS_AVG_mvg_8_mean_(sessions,)\n",
      "Skipping existing session_bn_session_iGO_AVG_mvg_8_mean_(sessions,)\n",
      "Skipping existing session_bn_session_iNOGO_AVG_mvg_8_mean_(sessions,)\n",
      "Skipping existing session_bn_session_naive_AVG_mvg_8_mean_(sessions,)\n",
      "Skipping existing session_bn_session_naive_iFA_AVG_mvg_8_mean_(sessions,)\n",
      "Skipping existing session_bn_session_naive_iMISS_AVG_mvg_8_mean_(sessions,)\n",
      "Skipping existing session_bn_session_naive_iGO_AVG_mvg_8_mean_(sessions,)\n",
      "Skipping existing session_bn_session_naive_iNOGO_AVG_mvg_8_mean_(sessions,)\n",
      "Skipping existing session_bn_session_expert_AVG_mvg_8_mean_(sessions,)\n",
      "Skipping existing session_bn_session_expert_iFA_AVG_mvg_8_mean_(sessions,)\n",
      "Skipping existing session_bn_session_expert_iMISS_AVG_mvg_8_mean_(sessions,)\n",
      "Skipping existing session_bn_session_expert_iGO_AVG_mvg_8_mean_(sessions,)\n",
      "Skipping existing session_bn_session_expert_iNOGO_AVG_mvg_8_mean_(sessions,)\n",
      "Skipping existing session_bn_trial_AVG_mvg_8_mean_(sessions,)\n",
      "Skipping existing session_bn_trial_iFA_AVG_mvg_8_mean_(sessions,)\n",
      "Skipping existing session_bn_trial_iMISS_AVG_mvg_8_mean_(sessions,)\n",
      "Skipping existing session_bn_trial_iGO_AVG_mvg_8_mean_(sessions,)\n",
      "Skipping existing session_bn_trial_iNOGO_AVG_mvg_8_mean_(sessions,)\n",
      "Skipping existing session_bn_trial_naive_AVG_mvg_8_mean_(sessions,)\n",
      "Skipping existing session_bn_trial_naive_iFA_AVG_mvg_8_mean_(sessions,)\n",
      "Skipping existing session_bn_trial_naive_iMISS_AVG_mvg_8_mean_(sessions,)\n",
      "Skipping existing session_bn_trial_naive_iGO_AVG_mvg_8_mean_(sessions,)\n",
      "Skipping existing session_bn_trial_naive_iNOGO_AVG_mvg_8_mean_(sessions,)\n",
      "Skipping existing session_bn_trial_expert_AVG_mvg_8_mean_(sessions,)\n",
      "Skipping existing session_bn_trial_expert_iFA_AVG_mvg_8_mean_(sessions,)\n",
      "Skipping existing session_bn_trial_expert_iMISS_AVG_mvg_8_mean_(sessions,)\n",
      "Skipping existing session_bn_trial_expert_iGO_AVG_mvg_8_mean_(sessions,)\n",
      "Skipping existing session_bn_trial_expert_iNOGO_AVG_mvg_8_mean_(sessions,)\n",
      "Skipping existing session_rs_raw_AVG_mvg_8_mean_(sessions,)\n",
      "Skipping existing session_rs_raw_iFA_AVG_mvg_8_mean_(sessions,)\n",
      "Skipping existing session_rs_raw_iMISS_AVG_mvg_8_mean_(sessions,)\n",
      "Skipping existing session_rs_raw_iGO_AVG_mvg_8_mean_(sessions,)\n",
      "Skipping existing session_rs_raw_iNOGO_AVG_mvg_8_mean_(sessions,)\n",
      "Skipping existing session_rs_raw_naive_AVG_mvg_8_mean_(sessions,)\n",
      "Skipping existing session_rs_raw_naive_iFA_AVG_mvg_8_mean_(sessions,)\n",
      "Skipping existing session_rs_raw_naive_iMISS_AVG_mvg_8_mean_(sessions,)\n",
      "Skipping existing session_rs_raw_naive_iGO_AVG_mvg_8_mean_(sessions,)\n",
      "Skipping existing session_rs_raw_naive_iNOGO_AVG_mvg_8_mean_(sessions,)\n",
      "Skipping existing session_rs_raw_expert_AVG_mvg_8_mean_(sessions,)\n",
      "Skipping existing session_rs_raw_expert_iFA_AVG_mvg_8_mean_(sessions,)\n",
      "Skipping existing session_rs_raw_expert_iMISS_AVG_mvg_8_mean_(sessions,)\n",
      "Skipping existing session_rs_raw_expert_iGO_AVG_mvg_8_mean_(sessions,)\n",
      "Skipping existing session_rs_raw_expert_iNOGO_AVG_mvg_8_mean_(sessions,)\n",
      "Skipping existing session_bn_session_AVG_mvg_4_mean_(sessions,)\n",
      "Skipping existing session_bn_session_iFA_AVG_mvg_4_mean_(sessions,)\n",
      "Skipping existing session_bn_session_iMISS_AVG_mvg_4_mean_(sessions,)\n",
      "Skipping existing session_bn_session_iGO_AVG_mvg_4_mean_(sessions,)\n",
      "Skipping existing session_bn_session_iNOGO_AVG_mvg_4_mean_(sessions,)\n",
      "Skipping existing session_bn_session_naive_AVG_mvg_4_mean_(sessions,)\n",
      "Skipping existing session_bn_session_naive_iFA_AVG_mvg_4_mean_(sessions,)\n",
      "Skipping existing session_bn_session_naive_iMISS_AVG_mvg_4_mean_(sessions,)\n",
      "Skipping existing session_bn_session_naive_iGO_AVG_mvg_4_mean_(sessions,)\n",
      "Skipping existing session_bn_session_naive_iNOGO_AVG_mvg_4_mean_(sessions,)\n",
      "Skipping existing session_bn_session_expert_AVG_mvg_4_mean_(sessions,)\n",
      "Skipping existing session_bn_session_expert_iFA_AVG_mvg_4_mean_(sessions,)\n",
      "Skipping existing session_bn_session_expert_iMISS_AVG_mvg_4_mean_(sessions,)\n",
      "Skipping existing session_bn_session_expert_iGO_AVG_mvg_4_mean_(sessions,)\n",
      "Skipping existing session_bn_session_expert_iNOGO_AVG_mvg_4_mean_(sessions,)\n",
      "Skipping existing session_bn_trial_AVG_mvg_4_mean_(sessions,)\n",
      "Skipping existing session_bn_trial_iFA_AVG_mvg_4_mean_(sessions,)\n",
      "Skipping existing session_bn_trial_iMISS_AVG_mvg_4_mean_(sessions,)\n",
      "Skipping existing session_bn_trial_iGO_AVG_mvg_4_mean_(sessions,)\n",
      "Skipping existing session_bn_trial_iNOGO_AVG_mvg_4_mean_(sessions,)\n",
      "Skipping existing session_bn_trial_naive_AVG_mvg_4_mean_(sessions,)\n",
      "Skipping existing session_bn_trial_naive_iFA_AVG_mvg_4_mean_(sessions,)\n",
      "Skipping existing session_bn_trial_naive_iMISS_AVG_mvg_4_mean_(sessions,)\n",
      "Skipping existing session_bn_trial_naive_iGO_AVG_mvg_4_mean_(sessions,)\n",
      "Skipping existing session_bn_trial_naive_iNOGO_AVG_mvg_4_mean_(sessions,)\n",
      "Skipping existing session_bn_trial_expert_AVG_mvg_4_mean_(sessions,)\n",
      "Skipping existing session_bn_trial_expert_iFA_AVG_mvg_4_mean_(sessions,)\n",
      "Skipping existing session_bn_trial_expert_iMISS_AVG_mvg_4_mean_(sessions,)\n",
      "Skipping existing session_bn_trial_expert_iGO_AVG_mvg_4_mean_(sessions,)\n",
      "Skipping existing session_bn_trial_expert_iNOGO_AVG_mvg_4_mean_(sessions,)\n",
      "Skipping existing session_rs_raw_AVG_mvg_4_mean_(sessions,)\n",
      "Skipping existing session_rs_raw_iFA_AVG_mvg_4_mean_(sessions,)\n",
      "Skipping existing session_rs_raw_iMISS_AVG_mvg_4_mean_(sessions,)\n",
      "Skipping existing session_rs_raw_iGO_AVG_mvg_4_mean_(sessions,)\n",
      "Skipping existing session_rs_raw_iNOGO_AVG_mvg_4_mean_(sessions,)\n",
      "Skipping existing session_rs_raw_naive_AVG_mvg_4_mean_(sessions,)\n",
      "Skipping existing session_rs_raw_naive_iFA_AVG_mvg_4_mean_(sessions,)\n",
      "Skipping existing session_rs_raw_naive_iMISS_AVG_mvg_4_mean_(sessions,)\n",
      "Skipping existing session_rs_raw_naive_iGO_AVG_mvg_4_mean_(sessions,)\n",
      "Skipping existing session_rs_raw_naive_iNOGO_AVG_mvg_4_mean_(sessions,)\n",
      "Skipping existing session_rs_raw_expert_AVG_mvg_4_mean_(sessions,)\n",
      "Skipping existing session_rs_raw_expert_iFA_AVG_mvg_4_mean_(sessions,)\n",
      "Skipping existing session_rs_raw_expert_iMISS_AVG_mvg_4_mean_(sessions,)\n",
      "Skipping existing session_rs_raw_expert_iGO_AVG_mvg_4_mean_(sessions,)\n",
      "Skipping existing session_rs_raw_expert_iNOGO_AVG_mvg_4_mean_(sessions,)\n",
      "Skipping existing session_bn_session_AVG_mvg_7_mean_(sessions,)\n",
      "Skipping existing session_bn_session_iFA_AVG_mvg_7_mean_(sessions,)\n",
      "Skipping existing session_bn_session_iMISS_AVG_mvg_7_mean_(sessions,)\n",
      "Skipping existing session_bn_session_iGO_AVG_mvg_7_mean_(sessions,)\n",
      "Skipping existing session_bn_session_iNOGO_AVG_mvg_7_mean_(sessions,)\n",
      "Skipping existing session_bn_session_naive_AVG_mvg_7_mean_(sessions,)\n",
      "Skipping existing session_bn_session_naive_iFA_AVG_mvg_7_mean_(sessions,)\n",
      "Skipping existing session_bn_session_naive_iMISS_AVG_mvg_7_mean_(sessions,)\n",
      "Skipping existing session_bn_session_naive_iGO_AVG_mvg_7_mean_(sessions,)\n",
      "Skipping existing session_bn_session_naive_iNOGO_AVG_mvg_7_mean_(sessions,)\n",
      "Skipping existing session_bn_session_expert_AVG_mvg_7_mean_(sessions,)\n",
      "Skipping existing session_bn_session_expert_iFA_AVG_mvg_7_mean_(sessions,)\n",
      "Skipping existing session_bn_session_expert_iMISS_AVG_mvg_7_mean_(sessions,)\n",
      "Skipping existing session_bn_session_expert_iGO_AVG_mvg_7_mean_(sessions,)\n",
      "Skipping existing session_bn_session_expert_iNOGO_AVG_mvg_7_mean_(sessions,)\n",
      "Skipping existing session_bn_trial_AVG_mvg_7_mean_(sessions,)\n",
      "Skipping existing session_bn_trial_iFA_AVG_mvg_7_mean_(sessions,)\n",
      "Skipping existing session_bn_trial_iMISS_AVG_mvg_7_mean_(sessions,)\n",
      "Skipping existing session_bn_trial_iGO_AVG_mvg_7_mean_(sessions,)\n",
      "Skipping existing session_bn_trial_iNOGO_AVG_mvg_7_mean_(sessions,)\n",
      "Skipping existing session_bn_trial_naive_AVG_mvg_7_mean_(sessions,)\n",
      "Skipping existing session_bn_trial_naive_iFA_AVG_mvg_7_mean_(sessions,)\n",
      "Skipping existing session_bn_trial_naive_iMISS_AVG_mvg_7_mean_(sessions,)\n",
      "Skipping existing session_bn_trial_naive_iGO_AVG_mvg_7_mean_(sessions,)\n",
      "Skipping existing session_bn_trial_naive_iNOGO_AVG_mvg_7_mean_(sessions,)\n",
      "Skipping existing session_bn_trial_expert_AVG_mvg_7_mean_(sessions,)\n",
      "Skipping existing session_bn_trial_expert_iFA_AVG_mvg_7_mean_(sessions,)\n",
      "Skipping existing session_bn_trial_expert_iMISS_AVG_mvg_7_mean_(sessions,)\n",
      "Skipping existing session_bn_trial_expert_iGO_AVG_mvg_7_mean_(sessions,)\n",
      "Skipping existing session_bn_trial_expert_iNOGO_AVG_mvg_7_mean_(sessions,)\n",
      "Skipping existing session_rs_raw_AVG_mvg_7_mean_(sessions,)\n",
      "Skipping existing session_rs_raw_iFA_AVG_mvg_7_mean_(sessions,)\n",
      "Skipping existing session_rs_raw_iMISS_AVG_mvg_7_mean_(sessions,)\n",
      "Skipping existing session_rs_raw_iGO_AVG_mvg_7_mean_(sessions,)\n",
      "Skipping existing session_rs_raw_iNOGO_AVG_mvg_7_mean_(sessions,)\n",
      "Skipping existing session_rs_raw_naive_AVG_mvg_7_mean_(sessions,)\n",
      "Skipping existing session_rs_raw_naive_iFA_AVG_mvg_7_mean_(sessions,)\n",
      "Skipping existing session_rs_raw_naive_iMISS_AVG_mvg_7_mean_(sessions,)\n",
      "Skipping existing session_rs_raw_naive_iGO_AVG_mvg_7_mean_(sessions,)\n",
      "Skipping existing session_rs_raw_naive_iNOGO_AVG_mvg_7_mean_(sessions,)\n",
      "Skipping existing session_rs_raw_expert_AVG_mvg_7_mean_(sessions,)\n",
      "Skipping existing session_rs_raw_expert_iFA_AVG_mvg_7_mean_(sessions,)\n",
      "Skipping existing session_rs_raw_expert_iMISS_AVG_mvg_7_mean_(sessions,)\n",
      "Skipping existing session_rs_raw_expert_iGO_AVG_mvg_7_mean_(sessions,)\n",
      "Skipping existing session_rs_raw_expert_iNOGO_AVG_mvg_7_mean_(sessions,)\n",
      "Skipping existing session_bn_session_AVG_mvg_9_mean_(sessions,)\n",
      "Skipping existing session_bn_session_iFA_AVG_mvg_9_mean_(sessions,)\n",
      "Skipping existing session_bn_session_iMISS_AVG_mvg_9_mean_(sessions,)\n",
      "Skipping existing session_bn_session_iGO_AVG_mvg_9_mean_(sessions,)\n"
     ]
    },
    {
     "name": "stdout",
     "output_type": "stream",
     "text": [
      "Skipping existing session_bn_session_iNOGO_AVG_mvg_9_mean_(sessions,)\n",
      "Skipping existing session_bn_session_naive_AVG_mvg_9_mean_(sessions,)\n",
      "Skipping existing session_bn_session_naive_iFA_AVG_mvg_9_mean_(sessions,)\n",
      "Skipping existing session_bn_session_naive_iMISS_AVG_mvg_9_mean_(sessions,)\n",
      "Skipping existing session_bn_session_naive_iGO_AVG_mvg_9_mean_(sessions,)\n",
      "Skipping existing session_bn_session_naive_iNOGO_AVG_mvg_9_mean_(sessions,)\n",
      "Skipping existing session_bn_session_expert_AVG_mvg_9_mean_(sessions,)\n",
      "Skipping existing session_bn_session_expert_iFA_AVG_mvg_9_mean_(sessions,)\n",
      "Skipping existing session_bn_session_expert_iMISS_AVG_mvg_9_mean_(sessions,)\n",
      "Skipping existing session_bn_session_expert_iGO_AVG_mvg_9_mean_(sessions,)\n",
      "Skipping existing session_bn_session_expert_iNOGO_AVG_mvg_9_mean_(sessions,)\n",
      "Skipping existing session_bn_trial_AVG_mvg_9_mean_(sessions,)\n",
      "Skipping existing session_bn_trial_iFA_AVG_mvg_9_mean_(sessions,)\n",
      "Skipping existing session_bn_trial_iMISS_AVG_mvg_9_mean_(sessions,)\n",
      "Skipping existing session_bn_trial_iGO_AVG_mvg_9_mean_(sessions,)\n",
      "Skipping existing session_bn_trial_iNOGO_AVG_mvg_9_mean_(sessions,)\n",
      "Skipping existing session_bn_trial_naive_AVG_mvg_9_mean_(sessions,)\n",
      "Skipping existing session_bn_trial_naive_iFA_AVG_mvg_9_mean_(sessions,)\n",
      "Skipping existing session_bn_trial_naive_iMISS_AVG_mvg_9_mean_(sessions,)\n",
      "Skipping existing session_bn_trial_naive_iGO_AVG_mvg_9_mean_(sessions,)\n",
      "Skipping existing session_bn_trial_naive_iNOGO_AVG_mvg_9_mean_(sessions,)\n",
      "Skipping existing session_bn_trial_expert_AVG_mvg_9_mean_(sessions,)\n",
      "Skipping existing session_bn_trial_expert_iFA_AVG_mvg_9_mean_(sessions,)\n",
      "Skipping existing session_bn_trial_expert_iMISS_AVG_mvg_9_mean_(sessions,)\n",
      "Skipping existing session_bn_trial_expert_iGO_AVG_mvg_9_mean_(sessions,)\n",
      "Skipping existing session_bn_trial_expert_iNOGO_AVG_mvg_9_mean_(sessions,)\n",
      "Skipping existing session_rs_raw_AVG_mvg_9_mean_(sessions,)\n",
      "Skipping existing session_rs_raw_iFA_AVG_mvg_9_mean_(sessions,)\n",
      "Skipping existing session_rs_raw_iMISS_AVG_mvg_9_mean_(sessions,)\n",
      "Skipping existing session_rs_raw_iGO_AVG_mvg_9_mean_(sessions,)\n",
      "Skipping existing session_rs_raw_iNOGO_AVG_mvg_9_mean_(sessions,)\n",
      "Skipping existing session_rs_raw_naive_AVG_mvg_9_mean_(sessions,)\n",
      "Skipping existing session_rs_raw_naive_iFA_AVG_mvg_9_mean_(sessions,)\n",
      "Skipping existing session_rs_raw_naive_iMISS_AVG_mvg_9_mean_(sessions,)\n",
      "Skipping existing session_rs_raw_naive_iGO_AVG_mvg_9_mean_(sessions,)\n",
      "Skipping existing session_rs_raw_naive_iNOGO_AVG_mvg_9_mean_(sessions,)\n",
      "Skipping existing session_rs_raw_expert_AVG_mvg_9_mean_(sessions,)\n",
      "Skipping existing session_rs_raw_expert_iFA_AVG_mvg_9_mean_(sessions,)\n",
      "Skipping existing session_rs_raw_expert_iMISS_AVG_mvg_9_mean_(sessions,)\n",
      "Skipping existing session_rs_raw_expert_iGO_AVG_mvg_9_mean_(sessions,)\n",
      "Skipping existing session_rs_raw_expert_iNOGO_AVG_mvg_9_mean_(sessions,)\n"
     ]
    }
   ],
   "source": [
    "for intervName, interv in intervDict.items():\n",
    "    bulk_metrics.metric_mouse_bulk_vs_session(dataDB, mc, ds, \"mean\", 'session', skipExisting=False,\n",
    "                                              minTrials=10, dropChannels=[21], verbose=False, \n",
    "                                              trialTypeNames='auto', perfNames=[None, 'naive', 'expert'],\n",
    "                                              cropTime=(intervName, interv))"
   ]
  },
  {
   "cell_type": "code",
   "execution_count": 51,
   "metadata": {
    "scrolled": true
   },
   "outputs": [
    {
     "name": "stdout",
     "output_type": "stream",
     "text": [
      "['mean', 'session', 'mvg_4', 'AVG', 'bn_session', 'dset2181', 'None', 'None']\n",
      "(11,)\n",
      "(11,)\n",
      "['mean', 'session', 'mvg_7', 'AVG', 'bn_session', 'dset2226', 'None', 'None']\n",
      "(18,)\n",
      "(18,)\n",
      "['mean', 'session', 'mvg_8', 'AVG', 'bn_session', 'dset2136', 'None', 'None']\n",
      "(16,)\n",
      "(16,)\n",
      "['mean', 'session', 'mvg_9', 'AVG', 'bn_session', 'dset2271', 'None', 'None']\n",
      "(21,)\n",
      "(21,)\n",
      "['mean', 'session', 'mvg_4', 'AVG', 'bn_session', 'dset2182', 'iFA', 'None']\n",
      "(11,)\n",
      "(11,)\n",
      "['mean', 'session', 'mvg_7', 'AVG', 'bn_session', 'dset2227', 'iFA', 'None']\n",
      "(18,)\n",
      "(15,)\n",
      "['mean', 'session', 'mvg_8', 'AVG', 'bn_session', 'dset2137', 'iFA', 'None']\n",
      "(16,)\n",
      "(13,)\n",
      "['mean', 'session', 'mvg_9', 'AVG', 'bn_session', 'dset2272', 'iFA', 'None']\n",
      "(21,)\n",
      "(21,)\n",
      "['mean', 'session', 'mvg_4', 'AVG', 'bn_session', 'dset2184', 'iGO', 'None']\n",
      "(11,)\n",
      "(11,)\n",
      "['mean', 'session', 'mvg_7', 'AVG', 'bn_session', 'dset2229', 'iGO', 'None']\n",
      "(18,)\n",
      "(17,)\n",
      "['mean', 'session', 'mvg_8', 'AVG', 'bn_session', 'dset2139', 'iGO', 'None']\n",
      "(16,)\n",
      "(16,)\n",
      "['mean', 'session', 'mvg_9', 'AVG', 'bn_session', 'dset2274', 'iGO', 'None']\n",
      "(21,)\n",
      "(21,)\n",
      "['mean', 'session', 'mvg_4', 'AVG', 'bn_session', 'dset2183', 'iMISS', 'None']\n",
      "(11,)\n",
      "(9,)\n",
      "['mean', 'session', 'mvg_7', 'AVG', 'bn_session', 'dset2228', 'iMISS', 'None']\n",
      "(18,)\n",
      "(18,)\n",
      "['mean', 'session', 'mvg_8', 'AVG', 'bn_session', 'dset2138', 'iMISS', 'None']\n",
      "(16,)\n",
      "(13,)\n",
      "['mean', 'session', 'mvg_9', 'AVG', 'bn_session', 'dset2273', 'iMISS', 'None']\n",
      "(21,)\n",
      "(21,)\n",
      "['mean', 'session', 'mvg_4', 'AVG', 'bn_session', 'dset2185', 'iNOGO', 'None']\n",
      "(11,)\n",
      "(11,)\n",
      "['mean', 'session', 'mvg_7', 'AVG', 'bn_session', 'dset2230', 'iNOGO', 'None']\n",
      "(18,)\n",
      "(15,)\n",
      "['mean', 'session', 'mvg_8', 'AVG', 'bn_session', 'dset2140', 'iNOGO', 'None']\n",
      "(16,)\n",
      "(15,)\n",
      "['mean', 'session', 'mvg_9', 'AVG', 'bn_session', 'dset2275', 'iNOGO', 'None']\n",
      "(21,)\n",
      "(20,)\n",
      "['mean', 'session', 'mvg_4', 'AVG', 'bn_trial', 'dset2196', 'None', 'None']\n",
      "(11,)\n",
      "(11,)\n",
      "['mean', 'session', 'mvg_7', 'AVG', 'bn_trial', 'dset2241', 'None', 'None']\n",
      "(18,)\n",
      "(18,)\n",
      "['mean', 'session', 'mvg_8', 'AVG', 'bn_trial', 'dset2151', 'None', 'None']\n",
      "(16,)\n",
      "(16,)\n",
      "['mean', 'session', 'mvg_9', 'AVG', 'bn_trial', 'dset2286', 'None', 'None']\n",
      "(21,)\n",
      "(21,)\n",
      "['mean', 'session', 'mvg_4', 'AVG', 'bn_trial', 'dset2197', 'iFA', 'None']\n",
      "(11,)\n",
      "(11,)\n",
      "['mean', 'session', 'mvg_7', 'AVG', 'bn_trial', 'dset2242', 'iFA', 'None']\n",
      "(18,)\n",
      "(15,)\n",
      "['mean', 'session', 'mvg_8', 'AVG', 'bn_trial', 'dset2152', 'iFA', 'None']\n",
      "(16,)\n",
      "(13,)\n",
      "['mean', 'session', 'mvg_9', 'AVG', 'bn_trial', 'dset2287', 'iFA', 'None']\n",
      "(21,)\n",
      "(21,)\n",
      "['mean', 'session', 'mvg_4', 'AVG', 'bn_trial', 'dset2199', 'iGO', 'None']\n",
      "(11,)\n",
      "(11,)\n",
      "['mean', 'session', 'mvg_7', 'AVG', 'bn_trial', 'dset2244', 'iGO', 'None']\n",
      "(18,)\n",
      "(17,)\n",
      "['mean', 'session', 'mvg_8', 'AVG', 'bn_trial', 'dset2154', 'iGO', 'None']\n",
      "(16,)\n",
      "(16,)\n",
      "['mean', 'session', 'mvg_9', 'AVG', 'bn_trial', 'dset2289', 'iGO', 'None']\n",
      "(21,)\n",
      "(21,)\n",
      "['mean', 'session', 'mvg_4', 'AVG', 'bn_trial', 'dset2198', 'iMISS', 'None']\n",
      "(11,)\n",
      "(9,)\n",
      "['mean', 'session', 'mvg_7', 'AVG', 'bn_trial', 'dset2243', 'iMISS', 'None']\n",
      "(18,)\n",
      "(18,)\n",
      "['mean', 'session', 'mvg_8', 'AVG', 'bn_trial', 'dset2153', 'iMISS', 'None']\n",
      "(16,)\n",
      "(13,)\n",
      "['mean', 'session', 'mvg_9', 'AVG', 'bn_trial', 'dset2288', 'iMISS', 'None']\n",
      "(21,)\n",
      "(21,)\n",
      "['mean', 'session', 'mvg_4', 'AVG', 'bn_trial', 'dset2200', 'iNOGO', 'None']\n",
      "(11,)\n",
      "(11,)\n",
      "['mean', 'session', 'mvg_7', 'AVG', 'bn_trial', 'dset2245', 'iNOGO', 'None']\n",
      "(18,)\n",
      "(15,)\n",
      "['mean', 'session', 'mvg_8', 'AVG', 'bn_trial', 'dset2155', 'iNOGO', 'None']\n",
      "(16,)\n",
      "(15,)\n",
      "['mean', 'session', 'mvg_9', 'AVG', 'bn_trial', 'dset2290', 'iNOGO', 'None']\n",
      "(21,)\n",
      "(20,)\n",
      "['mean', 'session', 'mvg_4', 'PRE', 'bn_session', 'dset2361', 'None', 'None']\n",
      "(11,)\n",
      "(11,)\n",
      "['mean', 'session', 'mvg_7', 'PRE', 'bn_session', 'dset2406', 'None', 'None']\n",
      "(18,)\n",
      "(18,)\n",
      "['mean', 'session', 'mvg_8', 'PRE', 'bn_session', 'dset2316', 'None', 'None']\n",
      "(16,)\n",
      "(16,)\n",
      "['mean', 'session', 'mvg_9', 'PRE', 'bn_session', 'dset1731', 'None', 'None']\n",
      "(21,)\n",
      "(21,)\n",
      "['mean', 'session', 'mvg_4', 'PRE', 'bn_session', 'dset2362', 'iFA', 'None']\n",
      "(11,)\n",
      "(11,)\n",
      "['mean', 'session', 'mvg_7', 'PRE', 'bn_session', 'dset2407', 'iFA', 'None']\n",
      "(18,)\n",
      "(15,)\n",
      "['mean', 'session', 'mvg_8', 'PRE', 'bn_session', 'dset2317', 'iFA', 'None']\n",
      "(16,)\n",
      "(13,)\n",
      "['mean', 'session', 'mvg_9', 'PRE', 'bn_session', 'dset1732', 'iFA', 'None']\n",
      "(21,)\n",
      "(21,)\n",
      "['mean', 'session', 'mvg_4', 'PRE', 'bn_session', 'dset2364', 'iGO', 'None']\n",
      "(11,)\n",
      "(11,)\n",
      "['mean', 'session', 'mvg_7', 'PRE', 'bn_session', 'dset2409', 'iGO', 'None']\n",
      "(18,)\n",
      "(17,)\n",
      "['mean', 'session', 'mvg_8', 'PRE', 'bn_session', 'dset2319', 'iGO', 'None']\n",
      "(16,)\n",
      "(16,)\n",
      "['mean', 'session', 'mvg_9', 'PRE', 'bn_session', 'dset1734', 'iGO', 'None']\n",
      "(21,)\n",
      "(21,)\n",
      "['mean', 'session', 'mvg_4', 'PRE', 'bn_session', 'dset2363', 'iMISS', 'None']\n",
      "(11,)\n",
      "(9,)\n",
      "['mean', 'session', 'mvg_7', 'PRE', 'bn_session', 'dset2408', 'iMISS', 'None']\n",
      "(18,)\n",
      "(18,)\n",
      "['mean', 'session', 'mvg_8', 'PRE', 'bn_session', 'dset2318', 'iMISS', 'None']\n",
      "(16,)\n",
      "(13,)\n",
      "['mean', 'session', 'mvg_9', 'PRE', 'bn_session', 'dset1733', 'iMISS', 'None']\n",
      "(21,)\n",
      "(21,)\n",
      "['mean', 'session', 'mvg_4', 'PRE', 'bn_session', 'dset2365', 'iNOGO', 'None']\n",
      "(11,)\n",
      "(11,)\n",
      "['mean', 'session', 'mvg_7', 'PRE', 'bn_session', 'dset2410', 'iNOGO', 'None']\n",
      "(18,)\n",
      "(15,)\n",
      "['mean', 'session', 'mvg_8', 'PRE', 'bn_session', 'dset2320', 'iNOGO', 'None']\n",
      "(16,)\n",
      "(15,)\n",
      "['mean', 'session', 'mvg_9', 'PRE', 'bn_session', 'dset1735', 'iNOGO', 'None']\n",
      "(21,)\n",
      "(20,)\n",
      "['mean', 'session', 'mvg_4', 'PRE', 'bn_trial', 'dset2376', 'None', 'None']\n",
      "(11,)\n",
      "(11,)\n",
      "['mean', 'session', 'mvg_7', 'PRE', 'bn_trial', 'dset1701', 'None', 'None']\n",
      "(18,)\n",
      "(18,)\n",
      "['mean', 'session', 'mvg_8', 'PRE', 'bn_trial', 'dset2331', 'None', 'None']\n",
      "(16,)\n",
      "(16,)\n",
      "['mean', 'session', 'mvg_9', 'PRE', 'bn_trial', 'dset1746', 'None', 'None']\n",
      "(21,)\n",
      "(21,)\n",
      "['mean', 'session', 'mvg_4', 'PRE', 'bn_trial', 'dset2377', 'iFA', 'None']\n",
      "(11,)\n",
      "(11,)\n",
      "['mean', 'session', 'mvg_7', 'PRE', 'bn_trial', 'dset1702', 'iFA', 'None']\n",
      "(18,)\n",
      "(15,)\n",
      "['mean', 'session', 'mvg_8', 'PRE', 'bn_trial', 'dset2332', 'iFA', 'None']\n",
      "(16,)\n",
      "(13,)\n",
      "['mean', 'session', 'mvg_9', 'PRE', 'bn_trial', 'dset1747', 'iFA', 'None']\n",
      "(21,)\n",
      "(21,)\n",
      "['mean', 'session', 'mvg_4', 'PRE', 'bn_trial', 'dset2379', 'iGO', 'None']\n",
      "(11,)\n",
      "(11,)\n",
      "['mean', 'session', 'mvg_7', 'PRE', 'bn_trial', 'dset1704', 'iGO', 'None']\n",
      "(18,)\n",
      "(17,)\n",
      "['mean', 'session', 'mvg_8', 'PRE', 'bn_trial', 'dset2334', 'iGO', 'None']\n",
      "(16,)\n",
      "(16,)\n",
      "['mean', 'session', 'mvg_9', 'PRE', 'bn_trial', 'dset1749', 'iGO', 'None']\n",
      "(21,)\n",
      "(21,)\n",
      "['mean', 'session', 'mvg_4', 'PRE', 'bn_trial', 'dset2378', 'iMISS', 'None']\n",
      "(11,)\n",
      "(9,)\n",
      "['mean', 'session', 'mvg_7', 'PRE', 'bn_trial', 'dset1703', 'iMISS', 'None']\n",
      "(18,)\n",
      "(18,)\n",
      "['mean', 'session', 'mvg_8', 'PRE', 'bn_trial', 'dset2333', 'iMISS', 'None']\n",
      "(16,)\n",
      "(13,)\n",
      "['mean', 'session', 'mvg_9', 'PRE', 'bn_trial', 'dset1748', 'iMISS', 'None']\n",
      "(21,)\n",
      "(21,)\n",
      "['mean', 'session', 'mvg_4', 'PRE', 'bn_trial', 'dset2380', 'iNOGO', 'None']\n",
      "(11,)\n",
      "(11,)\n",
      "['mean', 'session', 'mvg_7', 'PRE', 'bn_trial', 'dset1705', 'iNOGO', 'None']\n",
      "(18,)\n",
      "(15,)\n",
      "['mean', 'session', 'mvg_8', 'PRE', 'bn_trial', 'dset2335', 'iNOGO', 'None']\n",
      "(16,)\n",
      "(15,)\n",
      "['mean', 'session', 'mvg_9', 'PRE', 'bn_trial', 'dset1750', 'iNOGO', 'None']\n",
      "(21,)\n",
      "(20,)\n",
      "['mean', 'session', 'mvg_4', 'REW', 'bn_session', 'dset2001', 'None', 'None']\n",
      "(11,)\n",
      "(11,)\n",
      "['mean', 'session', 'mvg_7', 'REW', 'bn_session', 'dset2046', 'None', 'None']\n",
      "(18,)\n",
      "(18,)\n",
      "['mean', 'session', 'mvg_8', 'REW', 'bn_session', 'dset1956', 'None', 'None']\n",
      "(16,)\n",
      "(16,)\n",
      "['mean', 'session', 'mvg_9', 'REW', 'bn_session', 'dset2091', 'None', 'None']\n",
      "(21,)\n",
      "(21,)\n",
      "['mean', 'session', 'mvg_4', 'REW', 'bn_session', 'dset2002', 'iFA', 'None']\n",
      "(11,)\n",
      "(11,)\n",
      "['mean', 'session', 'mvg_7', 'REW', 'bn_session', 'dset2047', 'iFA', 'None']\n",
      "(18,)\n",
      "(15,)\n",
      "['mean', 'session', 'mvg_8', 'REW', 'bn_session', 'dset1957', 'iFA', 'None']\n",
      "(16,)\n",
      "(13,)\n",
      "['mean', 'session', 'mvg_9', 'REW', 'bn_session', 'dset2092', 'iFA', 'None']\n",
      "(21,)\n",
      "(21,)\n",
      "['mean', 'session', 'mvg_4', 'REW', 'bn_session', 'dset2004', 'iGO', 'None']\n",
      "(11,)\n",
      "(11,)\n",
      "['mean', 'session', 'mvg_7', 'REW', 'bn_session', 'dset2049', 'iGO', 'None']\n",
      "(18,)\n",
      "(17,)\n",
      "['mean', 'session', 'mvg_8', 'REW', 'bn_session', 'dset1959', 'iGO', 'None']\n",
      "(16,)\n",
      "(16,)\n",
      "['mean', 'session', 'mvg_9', 'REW', 'bn_session', 'dset2094', 'iGO', 'None']\n",
      "(21,)\n",
      "(21,)\n",
      "['mean', 'session', 'mvg_4', 'REW', 'bn_session', 'dset2003', 'iMISS', 'None']\n",
      "(11,)\n",
      "(9,)\n",
      "['mean', 'session', 'mvg_7', 'REW', 'bn_session', 'dset2048', 'iMISS', 'None']\n",
      "(18,)\n",
      "(18,)\n",
      "['mean', 'session', 'mvg_8', 'REW', 'bn_session', 'dset1958', 'iMISS', 'None']\n",
      "(16,)\n",
      "(13,)\n",
      "['mean', 'session', 'mvg_9', 'REW', 'bn_session', 'dset2093', 'iMISS', 'None']\n"
     ]
    },
    {
     "name": "stdout",
     "output_type": "stream",
     "text": [
      "(21,)\n",
      "(21,)\n",
      "['mean', 'session', 'mvg_4', 'REW', 'bn_session', 'dset2005', 'iNOGO', 'None']\n",
      "(11,)\n",
      "(11,)\n",
      "['mean', 'session', 'mvg_7', 'REW', 'bn_session', 'dset2050', 'iNOGO', 'None']\n",
      "(18,)\n",
      "(15,)\n",
      "['mean', 'session', 'mvg_8', 'REW', 'bn_session', 'dset1960', 'iNOGO', 'None']\n",
      "(16,)\n",
      "(15,)\n",
      "['mean', 'session', 'mvg_9', 'REW', 'bn_session', 'dset2095', 'iNOGO', 'None']\n",
      "(21,)\n",
      "(20,)\n",
      "['mean', 'session', 'mvg_4', 'REW', 'bn_trial', 'dset2016', 'None', 'None']\n",
      "(11,)\n",
      "(11,)\n",
      "['mean', 'session', 'mvg_7', 'REW', 'bn_trial', 'dset2061', 'None', 'None']\n",
      "(18,)\n",
      "(18,)\n",
      "['mean', 'session', 'mvg_8', 'REW', 'bn_trial', 'dset1971', 'None', 'None']\n",
      "(16,)\n",
      "(16,)\n",
      "['mean', 'session', 'mvg_9', 'REW', 'bn_trial', 'dset2106', 'None', 'None']\n",
      "(21,)\n",
      "(21,)\n",
      "['mean', 'session', 'mvg_4', 'REW', 'bn_trial', 'dset2017', 'iFA', 'None']\n",
      "(11,)\n",
      "(11,)\n",
      "['mean', 'session', 'mvg_7', 'REW', 'bn_trial', 'dset2062', 'iFA', 'None']\n",
      "(18,)\n",
      "(15,)\n",
      "['mean', 'session', 'mvg_8', 'REW', 'bn_trial', 'dset1972', 'iFA', 'None']\n",
      "(16,)\n",
      "(13,)\n",
      "['mean', 'session', 'mvg_9', 'REW', 'bn_trial', 'dset2107', 'iFA', 'None']\n",
      "(21,)\n",
      "(21,)\n",
      "['mean', 'session', 'mvg_4', 'REW', 'bn_trial', 'dset2019', 'iGO', 'None']\n",
      "(11,)\n",
      "(11,)\n",
      "['mean', 'session', 'mvg_7', 'REW', 'bn_trial', 'dset2064', 'iGO', 'None']\n",
      "(18,)\n",
      "(17,)\n",
      "['mean', 'session', 'mvg_8', 'REW', 'bn_trial', 'dset1974', 'iGO', 'None']\n",
      "(16,)\n",
      "(16,)\n",
      "['mean', 'session', 'mvg_9', 'REW', 'bn_trial', 'dset2109', 'iGO', 'None']\n",
      "(21,)\n",
      "(21,)\n",
      "['mean', 'session', 'mvg_4', 'REW', 'bn_trial', 'dset2018', 'iMISS', 'None']\n",
      "(11,)\n",
      "(9,)\n",
      "['mean', 'session', 'mvg_7', 'REW', 'bn_trial', 'dset2063', 'iMISS', 'None']\n",
      "(18,)\n",
      "(18,)\n",
      "['mean', 'session', 'mvg_8', 'REW', 'bn_trial', 'dset1973', 'iMISS', 'None']\n",
      "(16,)\n",
      "(13,)\n",
      "['mean', 'session', 'mvg_9', 'REW', 'bn_trial', 'dset2108', 'iMISS', 'None']\n",
      "(21,)\n",
      "(21,)\n",
      "['mean', 'session', 'mvg_4', 'REW', 'bn_trial', 'dset2020', 'iNOGO', 'None']\n",
      "(11,)\n",
      "(11,)\n",
      "['mean', 'session', 'mvg_7', 'REW', 'bn_trial', 'dset2065', 'iNOGO', 'None']\n",
      "(18,)\n",
      "(15,)\n",
      "['mean', 'session', 'mvg_8', 'REW', 'bn_trial', 'dset1975', 'iNOGO', 'None']\n",
      "(16,)\n",
      "(15,)\n",
      "['mean', 'session', 'mvg_9', 'REW', 'bn_trial', 'dset2110', 'iNOGO', 'None']\n",
      "(21,)\n",
      "(20,)\n",
      "['mean', 'session', 'mvg_4', 'TEX', 'bn_session', 'dset1821', 'None', 'None']\n",
      "(11,)\n",
      "(11,)\n",
      "['mean', 'session', 'mvg_7', 'TEX', 'bn_session', 'dset1866', 'None', 'None']\n",
      "(18,)\n",
      "(18,)\n",
      "['mean', 'session', 'mvg_8', 'TEX', 'bn_session', 'dset1776', 'None', 'None']\n",
      "(16,)\n",
      "(16,)\n",
      "['mean', 'session', 'mvg_9', 'TEX', 'bn_session', 'dset1911', 'None', 'None']\n",
      "(21,)\n",
      "(21,)\n",
      "['mean', 'session', 'mvg_4', 'TEX', 'bn_session', 'dset1822', 'iFA', 'None']\n",
      "(11,)\n",
      "(11,)\n",
      "['mean', 'session', 'mvg_7', 'TEX', 'bn_session', 'dset1867', 'iFA', 'None']\n",
      "(18,)\n",
      "(15,)\n",
      "['mean', 'session', 'mvg_8', 'TEX', 'bn_session', 'dset1777', 'iFA', 'None']\n",
      "(16,)\n",
      "(13,)\n",
      "['mean', 'session', 'mvg_9', 'TEX', 'bn_session', 'dset1912', 'iFA', 'None']\n",
      "(21,)\n",
      "(21,)\n",
      "['mean', 'session', 'mvg_4', 'TEX', 'bn_session', 'dset1824', 'iGO', 'None']\n",
      "(11,)\n",
      "(11,)\n",
      "['mean', 'session', 'mvg_7', 'TEX', 'bn_session', 'dset1869', 'iGO', 'None']\n",
      "(18,)\n",
      "(17,)\n",
      "['mean', 'session', 'mvg_8', 'TEX', 'bn_session', 'dset1779', 'iGO', 'None']\n",
      "(16,)\n",
      "(16,)\n",
      "['mean', 'session', 'mvg_9', 'TEX', 'bn_session', 'dset1914', 'iGO', 'None']\n",
      "(21,)\n",
      "(21,)\n",
      "['mean', 'session', 'mvg_4', 'TEX', 'bn_session', 'dset1823', 'iMISS', 'None']\n",
      "(11,)\n",
      "(9,)\n",
      "['mean', 'session', 'mvg_7', 'TEX', 'bn_session', 'dset1868', 'iMISS', 'None']\n",
      "(18,)\n",
      "(18,)\n",
      "['mean', 'session', 'mvg_8', 'TEX', 'bn_session', 'dset1778', 'iMISS', 'None']\n",
      "(16,)\n",
      "(13,)\n",
      "['mean', 'session', 'mvg_9', 'TEX', 'bn_session', 'dset1913', 'iMISS', 'None']\n",
      "(21,)\n",
      "(21,)\n",
      "['mean', 'session', 'mvg_4', 'TEX', 'bn_session', 'dset1825', 'iNOGO', 'None']\n",
      "(11,)\n",
      "(11,)\n",
      "['mean', 'session', 'mvg_7', 'TEX', 'bn_session', 'dset1870', 'iNOGO', 'None']\n",
      "(18,)\n",
      "(15,)\n",
      "['mean', 'session', 'mvg_8', 'TEX', 'bn_session', 'dset1780', 'iNOGO', 'None']\n",
      "(16,)\n",
      "(15,)\n",
      "['mean', 'session', 'mvg_9', 'TEX', 'bn_session', 'dset1915', 'iNOGO', 'None']\n",
      "(21,)\n",
      "(20,)\n",
      "['mean', 'session', 'mvg_4', 'TEX', 'bn_trial', 'dset1836', 'None', 'None']\n",
      "(11,)\n",
      "(11,)\n",
      "['mean', 'session', 'mvg_7', 'TEX', 'bn_trial', 'dset1881', 'None', 'None']\n",
      "(18,)\n",
      "(18,)\n",
      "['mean', 'session', 'mvg_8', 'TEX', 'bn_trial', 'dset1791', 'None', 'None']\n",
      "(16,)\n",
      "(16,)\n",
      "['mean', 'session', 'mvg_9', 'TEX', 'bn_trial', 'dset1926', 'None', 'None']\n",
      "(21,)\n",
      "(21,)\n",
      "['mean', 'session', 'mvg_4', 'TEX', 'bn_trial', 'dset1837', 'iFA', 'None']\n",
      "(11,)\n",
      "(11,)\n",
      "['mean', 'session', 'mvg_7', 'TEX', 'bn_trial', 'dset1882', 'iFA', 'None']\n",
      "(18,)\n",
      "(15,)\n",
      "['mean', 'session', 'mvg_8', 'TEX', 'bn_trial', 'dset1792', 'iFA', 'None']\n",
      "(16,)\n",
      "(13,)\n",
      "['mean', 'session', 'mvg_9', 'TEX', 'bn_trial', 'dset1927', 'iFA', 'None']\n",
      "(21,)\n",
      "(21,)\n",
      "['mean', 'session', 'mvg_4', 'TEX', 'bn_trial', 'dset1839', 'iGO', 'None']\n",
      "(11,)\n",
      "(11,)\n",
      "['mean', 'session', 'mvg_7', 'TEX', 'bn_trial', 'dset1884', 'iGO', 'None']\n",
      "(18,)\n",
      "(17,)\n",
      "['mean', 'session', 'mvg_8', 'TEX', 'bn_trial', 'dset1794', 'iGO', 'None']\n",
      "(16,)\n",
      "(16,)\n",
      "['mean', 'session', 'mvg_9', 'TEX', 'bn_trial', 'dset1929', 'iGO', 'None']\n",
      "(21,)\n",
      "(21,)\n",
      "['mean', 'session', 'mvg_4', 'TEX', 'bn_trial', 'dset1838', 'iMISS', 'None']\n",
      "(11,)\n",
      "(9,)\n",
      "['mean', 'session', 'mvg_7', 'TEX', 'bn_trial', 'dset1883', 'iMISS', 'None']\n",
      "(18,)\n",
      "(18,)\n",
      "['mean', 'session', 'mvg_8', 'TEX', 'bn_trial', 'dset1793', 'iMISS', 'None']\n",
      "(16,)\n",
      "(13,)\n",
      "['mean', 'session', 'mvg_9', 'TEX', 'bn_trial', 'dset1928', 'iMISS', 'None']\n",
      "(21,)\n",
      "(21,)\n",
      "['mean', 'session', 'mvg_4', 'TEX', 'bn_trial', 'dset1840', 'iNOGO', 'None']\n",
      "(11,)\n",
      "(11,)\n",
      "['mean', 'session', 'mvg_7', 'TEX', 'bn_trial', 'dset1885', 'iNOGO', 'None']\n",
      "(18,)\n",
      "(15,)\n",
      "['mean', 'session', 'mvg_8', 'TEX', 'bn_trial', 'dset1795', 'iNOGO', 'None']\n",
      "(16,)\n",
      "(15,)\n",
      "['mean', 'session', 'mvg_9', 'TEX', 'bn_trial', 'dset1930', 'iNOGO', 'None']\n",
      "(21,)\n",
      "(20,)\n",
      "['mean', 'session', 'mvg_4', 'AVG', 'raw', 'dset2211', 'None', 'rs']\n",
      "(11,)\n",
      "(11,)\n",
      "['mean', 'session', 'mvg_7', 'AVG', 'raw', 'dset2256', 'None', 'rs']\n",
      "(18,)\n",
      "(18,)\n",
      "['mean', 'session', 'mvg_8', 'AVG', 'raw', 'dset2166', 'None', 'rs']\n",
      "(16,)\n",
      "(16,)\n",
      "['mean', 'session', 'mvg_9', 'AVG', 'raw', 'dset2301', 'None', 'rs']\n",
      "(21,)\n",
      "(21,)\n",
      "['mean', 'session', 'mvg_4', 'AVG', 'raw', 'dset2212', 'iFA', 'rs']\n",
      "(11,)\n",
      "(11,)\n",
      "['mean', 'session', 'mvg_7', 'AVG', 'raw', 'dset2257', 'iFA', 'rs']\n",
      "(18,)\n",
      "(15,)\n",
      "['mean', 'session', 'mvg_8', 'AVG', 'raw', 'dset2167', 'iFA', 'rs']\n",
      "(16,)\n",
      "(13,)\n",
      "['mean', 'session', 'mvg_9', 'AVG', 'raw', 'dset2302', 'iFA', 'rs']\n",
      "(21,)\n",
      "(21,)\n",
      "['mean', 'session', 'mvg_4', 'AVG', 'raw', 'dset2214', 'iGO', 'rs']\n",
      "(11,)\n",
      "(11,)\n",
      "['mean', 'session', 'mvg_7', 'AVG', 'raw', 'dset2259', 'iGO', 'rs']\n",
      "(18,)\n",
      "(17,)\n",
      "['mean', 'session', 'mvg_8', 'AVG', 'raw', 'dset2169', 'iGO', 'rs']\n",
      "(16,)\n",
      "(16,)\n",
      "['mean', 'session', 'mvg_9', 'AVG', 'raw', 'dset2304', 'iGO', 'rs']\n",
      "(21,)\n",
      "(21,)\n",
      "['mean', 'session', 'mvg_4', 'AVG', 'raw', 'dset2213', 'iMISS', 'rs']\n",
      "(11,)\n",
      "(9,)\n",
      "['mean', 'session', 'mvg_7', 'AVG', 'raw', 'dset2258', 'iMISS', 'rs']\n",
      "(18,)\n",
      "(18,)\n",
      "['mean', 'session', 'mvg_8', 'AVG', 'raw', 'dset2168', 'iMISS', 'rs']\n",
      "(16,)\n",
      "(13,)\n",
      "['mean', 'session', 'mvg_9', 'AVG', 'raw', 'dset2303', 'iMISS', 'rs']\n",
      "(21,)\n",
      "(21,)\n",
      "['mean', 'session', 'mvg_4', 'AVG', 'raw', 'dset2215', 'iNOGO', 'rs']\n",
      "(11,)\n",
      "(11,)\n",
      "['mean', 'session', 'mvg_7', 'AVG', 'raw', 'dset2260', 'iNOGO', 'rs']\n",
      "(18,)\n",
      "(15,)\n",
      "['mean', 'session', 'mvg_8', 'AVG', 'raw', 'dset2170', 'iNOGO', 'rs']\n",
      "(16,)\n",
      "(15,)\n",
      "['mean', 'session', 'mvg_9', 'AVG', 'raw', 'dset2305', 'iNOGO', 'rs']\n",
      "(21,)\n",
      "(20,)\n",
      "['mean', 'session', 'mvg_4', 'PRE', 'raw', 'dset2391', 'None', 'rs']\n",
      "(11,)\n",
      "(11,)\n",
      "['mean', 'session', 'mvg_7', 'PRE', 'raw', 'dset1716', 'None', 'rs']\n",
      "(18,)\n",
      "(18,)\n",
      "['mean', 'session', 'mvg_8', 'PRE', 'raw', 'dset2346', 'None', 'rs']\n",
      "(16,)\n",
      "(16,)\n",
      "['mean', 'session', 'mvg_9', 'PRE', 'raw', 'dset1761', 'None', 'rs']\n",
      "(21,)\n",
      "(21,)\n",
      "['mean', 'session', 'mvg_4', 'PRE', 'raw', 'dset2392', 'iFA', 'rs']\n",
      "(11,)\n",
      "(11,)\n",
      "['mean', 'session', 'mvg_7', 'PRE', 'raw', 'dset1717', 'iFA', 'rs']\n",
      "(18,)\n",
      "(15,)\n",
      "['mean', 'session', 'mvg_8', 'PRE', 'raw', 'dset2347', 'iFA', 'rs']\n",
      "(16,)\n",
      "(13,)\n",
      "['mean', 'session', 'mvg_9', 'PRE', 'raw', 'dset1762', 'iFA', 'rs']\n",
      "(21,)\n",
      "(21,)\n",
      "['mean', 'session', 'mvg_4', 'PRE', 'raw', 'dset2394', 'iGO', 'rs']\n",
      "(11,)\n",
      "(11,)\n",
      "['mean', 'session', 'mvg_7', 'PRE', 'raw', 'dset1719', 'iGO', 'rs']\n",
      "(18,)\n",
      "(17,)\n",
      "['mean', 'session', 'mvg_8', 'PRE', 'raw', 'dset2349', 'iGO', 'rs']\n",
      "(16,)\n",
      "(16,)\n",
      "['mean', 'session', 'mvg_9', 'PRE', 'raw', 'dset1764', 'iGO', 'rs']\n",
      "(21,)\n",
      "(21,)\n"
     ]
    },
    {
     "name": "stdout",
     "output_type": "stream",
     "text": [
      "['mean', 'session', 'mvg_4', 'PRE', 'raw', 'dset2393', 'iMISS', 'rs']\n",
      "(11,)\n",
      "(9,)\n",
      "['mean', 'session', 'mvg_7', 'PRE', 'raw', 'dset1718', 'iMISS', 'rs']\n",
      "(18,)\n",
      "(18,)\n",
      "['mean', 'session', 'mvg_8', 'PRE', 'raw', 'dset2348', 'iMISS', 'rs']\n",
      "(16,)\n",
      "(13,)\n",
      "['mean', 'session', 'mvg_9', 'PRE', 'raw', 'dset1763', 'iMISS', 'rs']\n",
      "(21,)\n",
      "(21,)\n",
      "['mean', 'session', 'mvg_4', 'PRE', 'raw', 'dset2395', 'iNOGO', 'rs']\n",
      "(11,)\n",
      "(11,)\n",
      "['mean', 'session', 'mvg_7', 'PRE', 'raw', 'dset1720', 'iNOGO', 'rs']\n",
      "(18,)\n",
      "(15,)\n",
      "['mean', 'session', 'mvg_8', 'PRE', 'raw', 'dset2350', 'iNOGO', 'rs']\n",
      "(16,)\n",
      "(15,)\n",
      "['mean', 'session', 'mvg_9', 'PRE', 'raw', 'dset1765', 'iNOGO', 'rs']\n",
      "(21,)\n",
      "(20,)\n",
      "['mean', 'session', 'mvg_4', 'REW', 'raw', 'dset2031', 'None', 'rs']\n",
      "(11,)\n",
      "(11,)\n",
      "['mean', 'session', 'mvg_7', 'REW', 'raw', 'dset2076', 'None', 'rs']\n",
      "(18,)\n",
      "(18,)\n",
      "['mean', 'session', 'mvg_8', 'REW', 'raw', 'dset1986', 'None', 'rs']\n",
      "(16,)\n",
      "(16,)\n",
      "['mean', 'session', 'mvg_9', 'REW', 'raw', 'dset2121', 'None', 'rs']\n",
      "(21,)\n",
      "(21,)\n",
      "['mean', 'session', 'mvg_4', 'REW', 'raw', 'dset2032', 'iFA', 'rs']\n",
      "(11,)\n",
      "(11,)\n",
      "['mean', 'session', 'mvg_7', 'REW', 'raw', 'dset2077', 'iFA', 'rs']\n",
      "(18,)\n",
      "(15,)\n",
      "['mean', 'session', 'mvg_8', 'REW', 'raw', 'dset1987', 'iFA', 'rs']\n",
      "(16,)\n",
      "(13,)\n",
      "['mean', 'session', 'mvg_9', 'REW', 'raw', 'dset2122', 'iFA', 'rs']\n",
      "(21,)\n",
      "(21,)\n",
      "['mean', 'session', 'mvg_4', 'REW', 'raw', 'dset2034', 'iGO', 'rs']\n",
      "(11,)\n",
      "(11,)\n",
      "['mean', 'session', 'mvg_7', 'REW', 'raw', 'dset2079', 'iGO', 'rs']\n",
      "(18,)\n",
      "(17,)\n",
      "['mean', 'session', 'mvg_8', 'REW', 'raw', 'dset1989', 'iGO', 'rs']\n",
      "(16,)\n",
      "(16,)\n",
      "['mean', 'session', 'mvg_9', 'REW', 'raw', 'dset2124', 'iGO', 'rs']\n",
      "(21,)\n",
      "(21,)\n",
      "['mean', 'session', 'mvg_4', 'REW', 'raw', 'dset2033', 'iMISS', 'rs']\n",
      "(11,)\n",
      "(9,)\n",
      "['mean', 'session', 'mvg_7', 'REW', 'raw', 'dset2078', 'iMISS', 'rs']\n",
      "(18,)\n",
      "(18,)\n",
      "['mean', 'session', 'mvg_8', 'REW', 'raw', 'dset1988', 'iMISS', 'rs']\n",
      "(16,)\n",
      "(13,)\n",
      "['mean', 'session', 'mvg_9', 'REW', 'raw', 'dset2123', 'iMISS', 'rs']\n",
      "(21,)\n",
      "(21,)\n",
      "['mean', 'session', 'mvg_4', 'REW', 'raw', 'dset2035', 'iNOGO', 'rs']\n",
      "(11,)\n",
      "(11,)\n",
      "['mean', 'session', 'mvg_7', 'REW', 'raw', 'dset2080', 'iNOGO', 'rs']\n",
      "(18,)\n",
      "(15,)\n",
      "['mean', 'session', 'mvg_8', 'REW', 'raw', 'dset1990', 'iNOGO', 'rs']\n",
      "(16,)\n",
      "(15,)\n",
      "['mean', 'session', 'mvg_9', 'REW', 'raw', 'dset2125', 'iNOGO', 'rs']\n",
      "(21,)\n",
      "(20,)\n",
      "['mean', 'session', 'mvg_4', 'TEX', 'raw', 'dset1851', 'None', 'rs']\n",
      "(11,)\n",
      "(11,)\n",
      "['mean', 'session', 'mvg_7', 'TEX', 'raw', 'dset1896', 'None', 'rs']\n",
      "(18,)\n",
      "(18,)\n",
      "['mean', 'session', 'mvg_8', 'TEX', 'raw', 'dset1806', 'None', 'rs']\n",
      "(16,)\n",
      "(16,)\n",
      "['mean', 'session', 'mvg_9', 'TEX', 'raw', 'dset1941', 'None', 'rs']\n",
      "(21,)\n",
      "(21,)\n",
      "['mean', 'session', 'mvg_4', 'TEX', 'raw', 'dset1852', 'iFA', 'rs']\n",
      "(11,)\n",
      "(11,)\n",
      "['mean', 'session', 'mvg_7', 'TEX', 'raw', 'dset1897', 'iFA', 'rs']\n",
      "(18,)\n",
      "(15,)\n",
      "['mean', 'session', 'mvg_8', 'TEX', 'raw', 'dset1807', 'iFA', 'rs']\n",
      "(16,)\n",
      "(13,)\n",
      "['mean', 'session', 'mvg_9', 'TEX', 'raw', 'dset1942', 'iFA', 'rs']\n",
      "(21,)\n",
      "(21,)\n",
      "['mean', 'session', 'mvg_4', 'TEX', 'raw', 'dset1854', 'iGO', 'rs']\n",
      "(11,)\n",
      "(11,)\n",
      "['mean', 'session', 'mvg_7', 'TEX', 'raw', 'dset1899', 'iGO', 'rs']\n",
      "(18,)\n",
      "(17,)\n",
      "['mean', 'session', 'mvg_8', 'TEX', 'raw', 'dset1809', 'iGO', 'rs']\n",
      "(16,)\n",
      "(16,)\n",
      "['mean', 'session', 'mvg_9', 'TEX', 'raw', 'dset1944', 'iGO', 'rs']\n",
      "(21,)\n",
      "(21,)\n",
      "['mean', 'session', 'mvg_4', 'TEX', 'raw', 'dset1853', 'iMISS', 'rs']\n",
      "(11,)\n",
      "(9,)\n",
      "['mean', 'session', 'mvg_7', 'TEX', 'raw', 'dset1898', 'iMISS', 'rs']\n",
      "(18,)\n",
      "(18,)\n",
      "['mean', 'session', 'mvg_8', 'TEX', 'raw', 'dset1808', 'iMISS', 'rs']\n",
      "(16,)\n",
      "(13,)\n",
      "['mean', 'session', 'mvg_9', 'TEX', 'raw', 'dset1943', 'iMISS', 'rs']\n",
      "(21,)\n",
      "(21,)\n",
      "['mean', 'session', 'mvg_4', 'TEX', 'raw', 'dset1855', 'iNOGO', 'rs']\n",
      "(11,)\n",
      "(11,)\n",
      "['mean', 'session', 'mvg_7', 'TEX', 'raw', 'dset1900', 'iNOGO', 'rs']\n",
      "(18,)\n",
      "(15,)\n",
      "['mean', 'session', 'mvg_8', 'TEX', 'raw', 'dset1810', 'iNOGO', 'rs']\n",
      "(16,)\n",
      "(15,)\n",
      "['mean', 'session', 'mvg_9', 'TEX', 'raw', 'dset1945', 'iNOGO', 'rs']\n",
      "(21,)\n",
      "(20,)\n"
     ]
    }
   ],
   "source": [
    "bulk_metrics.scatter_metric_bulk(ds, 'mean', 'session', verbose=False, xlim=[0, 1],\n",
    "                              xFunc=lambda m, l: dataDB.get_performance_mouse(m), haveRegression=True)"
   ]
  },
  {
   "cell_type": "markdown",
   "metadata": {},
   "source": [
    "### 1.3 Conditions"
   ]
  },
  {
   "cell_type": "code",
   "execution_count": 52,
   "metadata": {
    "scrolled": true
   },
   "outputs": [
    {
     "name": "stdout",
     "output_type": "stream",
     "text": [
      "p-value annotation legend:\n",
      "ns: 5.00e-02 < p <= 1.00e+00\n",
      "*: 1.00e-02 < p <= 5.00e-02\n",
      "**: 1.00e-03 < p <= 1.00e-02\n",
      "***: 1.00e-04 < p <= 1.00e-03\n",
      "****: p <= 1.00e-04\n",
      "\n",
      "mvg_7_iNOGO v.s. mvg_7_iGO: t-test independent samples with Bonferroni correction, P_val=2.338e-06 stat=-6.312e+00\n",
      "mvg_4_iNOGO v.s. mvg_4_iGO: t-test independent samples with Bonferroni correction, P_val=1.809e-05 stat=-6.216e+00\n",
      "mvg_8_iNOGO v.s. mvg_8_iGO: t-test independent samples with Bonferroni correction, P_val=4.294e-07 stat=-6.999e+00\n",
      "mvg_9_iNOGO v.s. mvg_9_iGO: t-test independent samples with Bonferroni correction, P_val=1.938e-18 stat=-1.634e+01\n"
     ]
    },
    {
     "data": {
      "text/html": [
       "<div>\n",
       "<style scoped>\n",
       "    .dataframe tbody tr th:only-of-type {\n",
       "        vertical-align: middle;\n",
       "    }\n",
       "\n",
       "    .dataframe tbody tr th {\n",
       "        vertical-align: top;\n",
       "    }\n",
       "\n",
       "    .dataframe thead th {\n",
       "        text-align: right;\n",
       "    }\n",
       "</style>\n",
       "<table border=\"1\" class=\"dataframe\">\n",
       "  <thead>\n",
       "    <tr style=\"text-align: right;\">\n",
       "      <th></th>\n",
       "      <th>metric</th>\n",
       "      <th>name</th>\n",
       "      <th>mousename</th>\n",
       "      <th>cropTime</th>\n",
       "      <th>datatype</th>\n",
       "      <th>dset</th>\n",
       "      <th>trialType</th>\n",
       "      <th>performance</th>\n",
       "      <th>zscoreDim</th>\n",
       "    </tr>\n",
       "  </thead>\n",
       "  <tbody>\n",
       "    <tr>\n",
       "      <th>0</th>\n",
       "      <td>mean</td>\n",
       "      <td>session</td>\n",
       "      <td>mvg_9</td>\n",
       "      <td>PRE</td>\n",
       "      <td>bn_session</td>\n",
       "      <td>dset1731</td>\n",
       "      <td>None</td>\n",
       "      <td>None</td>\n",
       "      <td>None</td>\n",
       "    </tr>\n",
       "    <tr>\n",
       "      <th>0</th>\n",
       "      <td>mean</td>\n",
       "      <td>session</td>\n",
       "      <td>mvg_8</td>\n",
       "      <td>TEX</td>\n",
       "      <td>bn_session</td>\n",
       "      <td>dset1776</td>\n",
       "      <td>None</td>\n",
       "      <td>None</td>\n",
       "      <td>None</td>\n",
       "    </tr>\n",
       "    <tr>\n",
       "      <th>0</th>\n",
       "      <td>mean</td>\n",
       "      <td>session</td>\n",
       "      <td>mvg_4</td>\n",
       "      <td>TEX</td>\n",
       "      <td>bn_session</td>\n",
       "      <td>dset1821</td>\n",
       "      <td>None</td>\n",
       "      <td>None</td>\n",
       "      <td>None</td>\n",
       "    </tr>\n",
       "    <tr>\n",
       "      <th>0</th>\n",
       "      <td>mean</td>\n",
       "      <td>session</td>\n",
       "      <td>mvg_7</td>\n",
       "      <td>TEX</td>\n",
       "      <td>bn_session</td>\n",
       "      <td>dset1866</td>\n",
       "      <td>None</td>\n",
       "      <td>None</td>\n",
       "      <td>None</td>\n",
       "    </tr>\n",
       "    <tr>\n",
       "      <th>0</th>\n",
       "      <td>mean</td>\n",
       "      <td>session</td>\n",
       "      <td>mvg_9</td>\n",
       "      <td>TEX</td>\n",
       "      <td>bn_session</td>\n",
       "      <td>dset1911</td>\n",
       "      <td>None</td>\n",
       "      <td>None</td>\n",
       "      <td>None</td>\n",
       "    </tr>\n",
       "  </tbody>\n",
       "</table>\n",
       "</div>"
      ],
      "text/plain": [
       "  metric     name mousename cropTime    datatype      dset trialType  \\\n",
       "0   mean  session     mvg_9      PRE  bn_session  dset1731      None   \n",
       "0   mean  session     mvg_8      TEX  bn_session  dset1776      None   \n",
       "0   mean  session     mvg_4      TEX  bn_session  dset1821      None   \n",
       "0   mean  session     mvg_7      TEX  bn_session  dset1866      None   \n",
       "0   mean  session     mvg_9      TEX  bn_session  dset1911      None   \n",
       "\n",
       "  performance zscoreDim  \n",
       "0        None      None  \n",
       "0        None      None  \n",
       "0        None      None  \n",
       "0        None      None  \n",
       "0        None      None  "
      ]
     },
     "metadata": {},
     "output_type": "display_data"
    },
    {
     "name": "stdout",
     "output_type": "stream",
     "text": [
      "p-value annotation legend:\n",
      "ns: 5.00e-02 < p <= 1.00e+00\n",
      "*: 1.00e-02 < p <= 5.00e-02\n",
      "**: 1.00e-03 < p <= 1.00e-02\n",
      "***: 1.00e-04 < p <= 1.00e-03\n",
      "****: p <= 1.00e-04\n",
      "\n",
      "mvg_7_iGO v.s. mvg_7_iNOGO: t-test independent samples with Bonferroni correction, P_val=2.704e-05 stat=3.064e+01\n",
      "mvg_4_iGO v.s. mvg_4_iNOGO: t-test independent samples with Bonferroni correction, P_val=1.327e-02 stat=3.830e+00\n",
      "mvg_8_iGO v.s. mvg_8_iNOGO: t-test independent samples with Bonferroni correction, P_val=1.379e-07 stat=9.837e+00\n",
      "mvg_9_iGO v.s. mvg_9_iNOGO: t-test independent samples with Bonferroni correction, P_val=2.607e-07 stat=1.884e+01\n"
     ]
    },
    {
     "data": {
      "text/html": [
       "<div>\n",
       "<style scoped>\n",
       "    .dataframe tbody tr th:only-of-type {\n",
       "        vertical-align: middle;\n",
       "    }\n",
       "\n",
       "    .dataframe tbody tr th {\n",
       "        vertical-align: top;\n",
       "    }\n",
       "\n",
       "    .dataframe thead th {\n",
       "        text-align: right;\n",
       "    }\n",
       "</style>\n",
       "<table border=\"1\" class=\"dataframe\">\n",
       "  <thead>\n",
       "    <tr style=\"text-align: right;\">\n",
       "      <th></th>\n",
       "      <th>metric</th>\n",
       "      <th>name</th>\n",
       "      <th>mousename</th>\n",
       "      <th>cropTime</th>\n",
       "      <th>datatype</th>\n",
       "      <th>dset</th>\n",
       "      <th>trialType</th>\n",
       "      <th>performance</th>\n",
       "      <th>zscoreDim</th>\n",
       "    </tr>\n",
       "  </thead>\n",
       "  <tbody>\n",
       "    <tr>\n",
       "      <th>0</th>\n",
       "      <td>mean</td>\n",
       "      <td>session</td>\n",
       "      <td>mvg_9</td>\n",
       "      <td>PRE</td>\n",
       "      <td>bn_session</td>\n",
       "      <td>dset1741</td>\n",
       "      <td>None</td>\n",
       "      <td>expert</td>\n",
       "      <td>None</td>\n",
       "    </tr>\n",
       "    <tr>\n",
       "      <th>0</th>\n",
       "      <td>mean</td>\n",
       "      <td>session</td>\n",
       "      <td>mvg_8</td>\n",
       "      <td>TEX</td>\n",
       "      <td>bn_session</td>\n",
       "      <td>dset1786</td>\n",
       "      <td>None</td>\n",
       "      <td>expert</td>\n",
       "      <td>None</td>\n",
       "    </tr>\n",
       "    <tr>\n",
       "      <th>0</th>\n",
       "      <td>mean</td>\n",
       "      <td>session</td>\n",
       "      <td>mvg_4</td>\n",
       "      <td>TEX</td>\n",
       "      <td>bn_session</td>\n",
       "      <td>dset1831</td>\n",
       "      <td>None</td>\n",
       "      <td>expert</td>\n",
       "      <td>None</td>\n",
       "    </tr>\n",
       "    <tr>\n",
       "      <th>0</th>\n",
       "      <td>mean</td>\n",
       "      <td>session</td>\n",
       "      <td>mvg_7</td>\n",
       "      <td>TEX</td>\n",
       "      <td>bn_session</td>\n",
       "      <td>dset1876</td>\n",
       "      <td>None</td>\n",
       "      <td>expert</td>\n",
       "      <td>None</td>\n",
       "    </tr>\n",
       "    <tr>\n",
       "      <th>0</th>\n",
       "      <td>mean</td>\n",
       "      <td>session</td>\n",
       "      <td>mvg_9</td>\n",
       "      <td>TEX</td>\n",
       "      <td>bn_session</td>\n",
       "      <td>dset1921</td>\n",
       "      <td>None</td>\n",
       "      <td>expert</td>\n",
       "      <td>None</td>\n",
       "    </tr>\n",
       "  </tbody>\n",
       "</table>\n",
       "</div>"
      ],
      "text/plain": [
       "  metric     name mousename cropTime    datatype      dset trialType  \\\n",
       "0   mean  session     mvg_9      PRE  bn_session  dset1741      None   \n",
       "0   mean  session     mvg_8      TEX  bn_session  dset1786      None   \n",
       "0   mean  session     mvg_4      TEX  bn_session  dset1831      None   \n",
       "0   mean  session     mvg_7      TEX  bn_session  dset1876      None   \n",
       "0   mean  session     mvg_9      TEX  bn_session  dset1921      None   \n",
       "\n",
       "  performance zscoreDim  \n",
       "0      expert      None  \n",
       "0      expert      None  \n",
       "0      expert      None  \n",
       "0      expert      None  \n",
       "0      expert      None  "
      ]
     },
     "metadata": {},
     "output_type": "display_data"
    },
    {
     "name": "stdout",
     "output_type": "stream",
     "text": [
      "p-value annotation legend:\n",
      "ns: 5.00e-02 < p <= 1.00e+00\n",
      "*: 1.00e-02 < p <= 5.00e-02\n",
      "**: 1.00e-03 < p <= 1.00e-02\n",
      "***: 1.00e-04 < p <= 1.00e-03\n",
      "****: p <= 1.00e-04\n",
      "\n",
      "mvg_7_iNOGO v.s. mvg_7_iGO: t-test independent samples with Bonferroni correction, P_val=2.488e-04 stat=-4.841e+00\n",
      "mvg_4_iNOGO v.s. mvg_4_iGO: t-test independent samples with Bonferroni correction, P_val=4.387e-03 stat=-4.967e+00\n",
      "mvg_8_iNOGO v.s. mvg_8_iGO: t-test independent samples with Bonferroni correction, P_val=1.082e-01 stat=-2.549e+00\n",
      "mvg_9_iNOGO v.s. mvg_9_iGO: t-test independent samples with Bonferroni correction, P_val=8.019e-13 stat=-1.276e+01\n"
     ]
    },
    {
     "data": {
      "text/html": [
       "<div>\n",
       "<style scoped>\n",
       "    .dataframe tbody tr th:only-of-type {\n",
       "        vertical-align: middle;\n",
       "    }\n",
       "\n",
       "    .dataframe tbody tr th {\n",
       "        vertical-align: top;\n",
       "    }\n",
       "\n",
       "    .dataframe thead th {\n",
       "        text-align: right;\n",
       "    }\n",
       "</style>\n",
       "<table border=\"1\" class=\"dataframe\">\n",
       "  <thead>\n",
       "    <tr style=\"text-align: right;\">\n",
       "      <th></th>\n",
       "      <th>metric</th>\n",
       "      <th>name</th>\n",
       "      <th>mousename</th>\n",
       "      <th>cropTime</th>\n",
       "      <th>datatype</th>\n",
       "      <th>dset</th>\n",
       "      <th>trialType</th>\n",
       "      <th>performance</th>\n",
       "      <th>zscoreDim</th>\n",
       "    </tr>\n",
       "  </thead>\n",
       "  <tbody>\n",
       "    <tr>\n",
       "      <th>0</th>\n",
       "      <td>mean</td>\n",
       "      <td>session</td>\n",
       "      <td>mvg_9</td>\n",
       "      <td>PRE</td>\n",
       "      <td>bn_session</td>\n",
       "      <td>dset1736</td>\n",
       "      <td>None</td>\n",
       "      <td>naive</td>\n",
       "      <td>None</td>\n",
       "    </tr>\n",
       "    <tr>\n",
       "      <th>0</th>\n",
       "      <td>mean</td>\n",
       "      <td>session</td>\n",
       "      <td>mvg_8</td>\n",
       "      <td>TEX</td>\n",
       "      <td>bn_session</td>\n",
       "      <td>dset1781</td>\n",
       "      <td>None</td>\n",
       "      <td>naive</td>\n",
       "      <td>None</td>\n",
       "    </tr>\n",
       "    <tr>\n",
       "      <th>0</th>\n",
       "      <td>mean</td>\n",
       "      <td>session</td>\n",
       "      <td>mvg_4</td>\n",
       "      <td>TEX</td>\n",
       "      <td>bn_session</td>\n",
       "      <td>dset1826</td>\n",
       "      <td>None</td>\n",
       "      <td>naive</td>\n",
       "      <td>None</td>\n",
       "    </tr>\n",
       "    <tr>\n",
       "      <th>0</th>\n",
       "      <td>mean</td>\n",
       "      <td>session</td>\n",
       "      <td>mvg_7</td>\n",
       "      <td>TEX</td>\n",
       "      <td>bn_session</td>\n",
       "      <td>dset1871</td>\n",
       "      <td>None</td>\n",
       "      <td>naive</td>\n",
       "      <td>None</td>\n",
       "    </tr>\n",
       "    <tr>\n",
       "      <th>0</th>\n",
       "      <td>mean</td>\n",
       "      <td>session</td>\n",
       "      <td>mvg_9</td>\n",
       "      <td>TEX</td>\n",
       "      <td>bn_session</td>\n",
       "      <td>dset1916</td>\n",
       "      <td>None</td>\n",
       "      <td>naive</td>\n",
       "      <td>None</td>\n",
       "    </tr>\n",
       "  </tbody>\n",
       "</table>\n",
       "</div>"
      ],
      "text/plain": [
       "  metric     name mousename cropTime    datatype      dset trialType  \\\n",
       "0   mean  session     mvg_9      PRE  bn_session  dset1736      None   \n",
       "0   mean  session     mvg_8      TEX  bn_session  dset1781      None   \n",
       "0   mean  session     mvg_4      TEX  bn_session  dset1826      None   \n",
       "0   mean  session     mvg_7      TEX  bn_session  dset1871      None   \n",
       "0   mean  session     mvg_9      TEX  bn_session  dset1916      None   \n",
       "\n",
       "  performance zscoreDim  \n",
       "0       naive      None  \n",
       "0       naive      None  \n",
       "0       naive      None  \n",
       "0       naive      None  \n",
       "0       naive      None  "
      ]
     },
     "metadata": {},
     "output_type": "display_data"
    },
    {
     "name": "stdout",
     "output_type": "stream",
     "text": [
      "p-value annotation legend:\n",
      "ns: 5.00e-02 < p <= 1.00e+00\n",
      "*: 1.00e-02 < p <= 5.00e-02\n",
      "**: 1.00e-03 < p <= 1.00e-02\n",
      "***: 1.00e-04 < p <= 1.00e-03\n",
      "****: p <= 1.00e-04\n",
      "\n",
      "mvg_7_iNOGO v.s. mvg_7_iGO: t-test independent samples with Bonferroni correction, P_val=3.173e-01 stat=-1.816e+00\n",
      "mvg_4_iNOGO v.s. mvg_4_iGO: t-test independent samples with Bonferroni correction, P_val=1.305e-02 stat=-3.340e+00\n",
      "mvg_8_iNOGO v.s. mvg_8_iGO: t-test independent samples with Bonferroni correction, P_val=1.137e-02 stat=-3.260e+00\n",
      "mvg_9_iNOGO v.s. mvg_9_iGO: t-test independent samples with Bonferroni correction, P_val=9.355e-08 stat=-6.972e+00\n"
     ]
    },
    {
     "data": {
      "text/html": [
       "<div>\n",
       "<style scoped>\n",
       "    .dataframe tbody tr th:only-of-type {\n",
       "        vertical-align: middle;\n",
       "    }\n",
       "\n",
       "    .dataframe tbody tr th {\n",
       "        vertical-align: top;\n",
       "    }\n",
       "\n",
       "    .dataframe thead th {\n",
       "        text-align: right;\n",
       "    }\n",
       "</style>\n",
       "<table border=\"1\" class=\"dataframe\">\n",
       "  <thead>\n",
       "    <tr style=\"text-align: right;\">\n",
       "      <th></th>\n",
       "      <th>metric</th>\n",
       "      <th>name</th>\n",
       "      <th>mousename</th>\n",
       "      <th>cropTime</th>\n",
       "      <th>datatype</th>\n",
       "      <th>dset</th>\n",
       "      <th>trialType</th>\n",
       "      <th>performance</th>\n",
       "      <th>zscoreDim</th>\n",
       "    </tr>\n",
       "  </thead>\n",
       "  <tbody>\n",
       "    <tr>\n",
       "      <th>0</th>\n",
       "      <td>mean</td>\n",
       "      <td>session</td>\n",
       "      <td>mvg_7</td>\n",
       "      <td>PRE</td>\n",
       "      <td>bn_trial</td>\n",
       "      <td>dset1701</td>\n",
       "      <td>None</td>\n",
       "      <td>None</td>\n",
       "      <td>None</td>\n",
       "    </tr>\n",
       "    <tr>\n",
       "      <th>0</th>\n",
       "      <td>mean</td>\n",
       "      <td>session</td>\n",
       "      <td>mvg_9</td>\n",
       "      <td>PRE</td>\n",
       "      <td>bn_trial</td>\n",
       "      <td>dset1746</td>\n",
       "      <td>None</td>\n",
       "      <td>None</td>\n",
       "      <td>None</td>\n",
       "    </tr>\n",
       "    <tr>\n",
       "      <th>0</th>\n",
       "      <td>mean</td>\n",
       "      <td>session</td>\n",
       "      <td>mvg_8</td>\n",
       "      <td>TEX</td>\n",
       "      <td>bn_trial</td>\n",
       "      <td>dset1791</td>\n",
       "      <td>None</td>\n",
       "      <td>None</td>\n",
       "      <td>None</td>\n",
       "    </tr>\n",
       "    <tr>\n",
       "      <th>0</th>\n",
       "      <td>mean</td>\n",
       "      <td>session</td>\n",
       "      <td>mvg_4</td>\n",
       "      <td>TEX</td>\n",
       "      <td>bn_trial</td>\n",
       "      <td>dset1836</td>\n",
       "      <td>None</td>\n",
       "      <td>None</td>\n",
       "      <td>None</td>\n",
       "    </tr>\n",
       "    <tr>\n",
       "      <th>0</th>\n",
       "      <td>mean</td>\n",
       "      <td>session</td>\n",
       "      <td>mvg_7</td>\n",
       "      <td>TEX</td>\n",
       "      <td>bn_trial</td>\n",
       "      <td>dset1881</td>\n",
       "      <td>None</td>\n",
       "      <td>None</td>\n",
       "      <td>None</td>\n",
       "    </tr>\n",
       "  </tbody>\n",
       "</table>\n",
       "</div>"
      ],
      "text/plain": [
       "  metric     name mousename cropTime  datatype      dset trialType  \\\n",
       "0   mean  session     mvg_7      PRE  bn_trial  dset1701      None   \n",
       "0   mean  session     mvg_9      PRE  bn_trial  dset1746      None   \n",
       "0   mean  session     mvg_8      TEX  bn_trial  dset1791      None   \n",
       "0   mean  session     mvg_4      TEX  bn_trial  dset1836      None   \n",
       "0   mean  session     mvg_7      TEX  bn_trial  dset1881      None   \n",
       "\n",
       "  performance zscoreDim  \n",
       "0        None      None  \n",
       "0        None      None  \n",
       "0        None      None  \n",
       "0        None      None  \n",
       "0        None      None  "
      ]
     },
     "metadata": {},
     "output_type": "display_data"
    },
    {
     "name": "stdout",
     "output_type": "stream",
     "text": [
      "p-value annotation legend:\n",
      "ns: 5.00e-02 < p <= 1.00e+00\n",
      "*: 1.00e-02 < p <= 5.00e-02\n",
      "**: 1.00e-03 < p <= 1.00e-02\n",
      "***: 1.00e-04 < p <= 1.00e-03\n",
      "****: p <= 1.00e-04\n",
      "\n",
      "mvg_7_iGO v.s. mvg_7_iNOGO: t-test independent samples with Bonferroni correction, P_val=1.096e-02 stat=6.594e+00\n",
      "mvg_4_iGO v.s. mvg_4_iNOGO: t-test independent samples with Bonferroni correction, P_val=1.635e-02 stat=3.703e+00\n",
      "mvg_8_iGO v.s. mvg_8_iNOGO: t-test independent samples with Bonferroni correction, P_val=1.854e-02 stat=3.288e+00\n",
      "mvg_9_iGO v.s. mvg_9_iNOGO: t-test independent samples with Bonferroni correction, P_val=4.449e-05 stat=9.644e+00\n"
     ]
    },
    {
     "data": {
      "text/html": [
       "<div>\n",
       "<style scoped>\n",
       "    .dataframe tbody tr th:only-of-type {\n",
       "        vertical-align: middle;\n",
       "    }\n",
       "\n",
       "    .dataframe tbody tr th {\n",
       "        vertical-align: top;\n",
       "    }\n",
       "\n",
       "    .dataframe thead th {\n",
       "        text-align: right;\n",
       "    }\n",
       "</style>\n",
       "<table border=\"1\" class=\"dataframe\">\n",
       "  <thead>\n",
       "    <tr style=\"text-align: right;\">\n",
       "      <th></th>\n",
       "      <th>metric</th>\n",
       "      <th>name</th>\n",
       "      <th>mousename</th>\n",
       "      <th>cropTime</th>\n",
       "      <th>datatype</th>\n",
       "      <th>dset</th>\n",
       "      <th>trialType</th>\n",
       "      <th>performance</th>\n",
       "      <th>zscoreDim</th>\n",
       "    </tr>\n",
       "  </thead>\n",
       "  <tbody>\n",
       "    <tr>\n",
       "      <th>0</th>\n",
       "      <td>mean</td>\n",
       "      <td>session</td>\n",
       "      <td>mvg_7</td>\n",
       "      <td>PRE</td>\n",
       "      <td>bn_trial</td>\n",
       "      <td>dset1711</td>\n",
       "      <td>None</td>\n",
       "      <td>expert</td>\n",
       "      <td>None</td>\n",
       "    </tr>\n",
       "    <tr>\n",
       "      <th>0</th>\n",
       "      <td>mean</td>\n",
       "      <td>session</td>\n",
       "      <td>mvg_9</td>\n",
       "      <td>PRE</td>\n",
       "      <td>bn_trial</td>\n",
       "      <td>dset1756</td>\n",
       "      <td>None</td>\n",
       "      <td>expert</td>\n",
       "      <td>None</td>\n",
       "    </tr>\n",
       "    <tr>\n",
       "      <th>0</th>\n",
       "      <td>mean</td>\n",
       "      <td>session</td>\n",
       "      <td>mvg_8</td>\n",
       "      <td>TEX</td>\n",
       "      <td>bn_trial</td>\n",
       "      <td>dset1801</td>\n",
       "      <td>None</td>\n",
       "      <td>expert</td>\n",
       "      <td>None</td>\n",
       "    </tr>\n",
       "    <tr>\n",
       "      <th>0</th>\n",
       "      <td>mean</td>\n",
       "      <td>session</td>\n",
       "      <td>mvg_4</td>\n",
       "      <td>TEX</td>\n",
       "      <td>bn_trial</td>\n",
       "      <td>dset1846</td>\n",
       "      <td>None</td>\n",
       "      <td>expert</td>\n",
       "      <td>None</td>\n",
       "    </tr>\n",
       "    <tr>\n",
       "      <th>0</th>\n",
       "      <td>mean</td>\n",
       "      <td>session</td>\n",
       "      <td>mvg_7</td>\n",
       "      <td>TEX</td>\n",
       "      <td>bn_trial</td>\n",
       "      <td>dset1891</td>\n",
       "      <td>None</td>\n",
       "      <td>expert</td>\n",
       "      <td>None</td>\n",
       "    </tr>\n",
       "  </tbody>\n",
       "</table>\n",
       "</div>"
      ],
      "text/plain": [
       "  metric     name mousename cropTime  datatype      dset trialType  \\\n",
       "0   mean  session     mvg_7      PRE  bn_trial  dset1711      None   \n",
       "0   mean  session     mvg_9      PRE  bn_trial  dset1756      None   \n",
       "0   mean  session     mvg_8      TEX  bn_trial  dset1801      None   \n",
       "0   mean  session     mvg_4      TEX  bn_trial  dset1846      None   \n",
       "0   mean  session     mvg_7      TEX  bn_trial  dset1891      None   \n",
       "\n",
       "  performance zscoreDim  \n",
       "0      expert      None  \n",
       "0      expert      None  \n",
       "0      expert      None  \n",
       "0      expert      None  \n",
       "0      expert      None  "
      ]
     },
     "metadata": {},
     "output_type": "display_data"
    },
    {
     "name": "stdout",
     "output_type": "stream",
     "text": [
      "p-value annotation legend:\n",
      "ns: 5.00e-02 < p <= 1.00e+00\n",
      "*: 1.00e-02 < p <= 5.00e-02\n",
      "**: 1.00e-03 < p <= 1.00e-02\n",
      "***: 1.00e-04 < p <= 1.00e-03\n",
      "****: p <= 1.00e-04\n",
      "\n",
      "mvg_7_iNOGO v.s. mvg_7_iGO: t-test independent samples with Bonferroni correction, P_val=7.137e-01 stat=-1.386e+00\n",
      "mvg_4_iNOGO v.s. mvg_4_iGO: t-test independent samples with Bonferroni correction, P_val=3.500e-01 stat=-1.946e+00\n",
      "mvg_8_iNOGO v.s. mvg_8_iGO: t-test independent samples with Bonferroni correction, P_val=3.146e-02 stat=-3.241e+00\n",
      "mvg_9_iNOGO v.s. mvg_9_iGO: t-test independent samples with Bonferroni correction, P_val=5.832e-05 stat=-5.199e+00\n"
     ]
    },
    {
     "data": {
      "text/html": [
       "<div>\n",
       "<style scoped>\n",
       "    .dataframe tbody tr th:only-of-type {\n",
       "        vertical-align: middle;\n",
       "    }\n",
       "\n",
       "    .dataframe tbody tr th {\n",
       "        vertical-align: top;\n",
       "    }\n",
       "\n",
       "    .dataframe thead th {\n",
       "        text-align: right;\n",
       "    }\n",
       "</style>\n",
       "<table border=\"1\" class=\"dataframe\">\n",
       "  <thead>\n",
       "    <tr style=\"text-align: right;\">\n",
       "      <th></th>\n",
       "      <th>metric</th>\n",
       "      <th>name</th>\n",
       "      <th>mousename</th>\n",
       "      <th>cropTime</th>\n",
       "      <th>datatype</th>\n",
       "      <th>dset</th>\n",
       "      <th>trialType</th>\n",
       "      <th>performance</th>\n",
       "      <th>zscoreDim</th>\n",
       "    </tr>\n",
       "  </thead>\n",
       "  <tbody>\n",
       "    <tr>\n",
       "      <th>0</th>\n",
       "      <td>mean</td>\n",
       "      <td>session</td>\n",
       "      <td>mvg_7</td>\n",
       "      <td>PRE</td>\n",
       "      <td>bn_trial</td>\n",
       "      <td>dset1706</td>\n",
       "      <td>None</td>\n",
       "      <td>naive</td>\n",
       "      <td>None</td>\n",
       "    </tr>\n",
       "    <tr>\n",
       "      <th>0</th>\n",
       "      <td>mean</td>\n",
       "      <td>session</td>\n",
       "      <td>mvg_9</td>\n",
       "      <td>PRE</td>\n",
       "      <td>bn_trial</td>\n",
       "      <td>dset1751</td>\n",
       "      <td>None</td>\n",
       "      <td>naive</td>\n",
       "      <td>None</td>\n",
       "    </tr>\n",
       "    <tr>\n",
       "      <th>0</th>\n",
       "      <td>mean</td>\n",
       "      <td>session</td>\n",
       "      <td>mvg_8</td>\n",
       "      <td>TEX</td>\n",
       "      <td>bn_trial</td>\n",
       "      <td>dset1796</td>\n",
       "      <td>None</td>\n",
       "      <td>naive</td>\n",
       "      <td>None</td>\n",
       "    </tr>\n",
       "    <tr>\n",
       "      <th>0</th>\n",
       "      <td>mean</td>\n",
       "      <td>session</td>\n",
       "      <td>mvg_4</td>\n",
       "      <td>TEX</td>\n",
       "      <td>bn_trial</td>\n",
       "      <td>dset1841</td>\n",
       "      <td>None</td>\n",
       "      <td>naive</td>\n",
       "      <td>None</td>\n",
       "    </tr>\n",
       "    <tr>\n",
       "      <th>0</th>\n",
       "      <td>mean</td>\n",
       "      <td>session</td>\n",
       "      <td>mvg_7</td>\n",
       "      <td>TEX</td>\n",
       "      <td>bn_trial</td>\n",
       "      <td>dset1886</td>\n",
       "      <td>None</td>\n",
       "      <td>naive</td>\n",
       "      <td>None</td>\n",
       "    </tr>\n",
       "  </tbody>\n",
       "</table>\n",
       "</div>"
      ],
      "text/plain": [
       "  metric     name mousename cropTime  datatype      dset trialType  \\\n",
       "0   mean  session     mvg_7      PRE  bn_trial  dset1706      None   \n",
       "0   mean  session     mvg_9      PRE  bn_trial  dset1751      None   \n",
       "0   mean  session     mvg_8      TEX  bn_trial  dset1796      None   \n",
       "0   mean  session     mvg_4      TEX  bn_trial  dset1841      None   \n",
       "0   mean  session     mvg_7      TEX  bn_trial  dset1886      None   \n",
       "\n",
       "  performance zscoreDim  \n",
       "0       naive      None  \n",
       "0       naive      None  \n",
       "0       naive      None  \n",
       "0       naive      None  \n",
       "0       naive      None  "
      ]
     },
     "metadata": {},
     "output_type": "display_data"
    },
    {
     "name": "stdout",
     "output_type": "stream",
     "text": [
      "p-value annotation legend:\n",
      "ns: 5.00e-02 < p <= 1.00e+00\n",
      "*: 1.00e-02 < p <= 5.00e-02\n",
      "**: 1.00e-03 < p <= 1.00e-02\n",
      "***: 1.00e-04 < p <= 1.00e-03\n",
      "****: p <= 1.00e-04\n",
      "\n",
      "mvg_7_iNOGO v.s. mvg_7_iGO: t-test independent samples with Bonferroni correction, P_val=3.424e-07 stat=-7.013e+00\n",
      "mvg_4_iNOGO v.s. mvg_4_iGO: t-test independent samples with Bonferroni correction, P_val=2.299e-05 stat=-6.106e+00\n",
      "mvg_8_iNOGO v.s. mvg_8_iGO: t-test independent samples with Bonferroni correction, P_val=5.930e-06 stat=-6.026e+00\n",
      "mvg_9_iNOGO v.s. mvg_9_iGO: t-test independent samples with Bonferroni correction, P_val=6.780e-20 stat=-1.801e+01\n"
     ]
    },
    {
     "data": {
      "text/html": [
       "<div>\n",
       "<style scoped>\n",
       "    .dataframe tbody tr th:only-of-type {\n",
       "        vertical-align: middle;\n",
       "    }\n",
       "\n",
       "    .dataframe tbody tr th {\n",
       "        vertical-align: top;\n",
       "    }\n",
       "\n",
       "    .dataframe thead th {\n",
       "        text-align: right;\n",
       "    }\n",
       "</style>\n",
       "<table border=\"1\" class=\"dataframe\">\n",
       "  <thead>\n",
       "    <tr style=\"text-align: right;\">\n",
       "      <th></th>\n",
       "      <th>metric</th>\n",
       "      <th>name</th>\n",
       "      <th>mousename</th>\n",
       "      <th>cropTime</th>\n",
       "      <th>datatype</th>\n",
       "      <th>dset</th>\n",
       "      <th>trialType</th>\n",
       "      <th>performance</th>\n",
       "      <th>zscoreDim</th>\n",
       "    </tr>\n",
       "  </thead>\n",
       "  <tbody>\n",
       "    <tr>\n",
       "      <th>0</th>\n",
       "      <td>mean</td>\n",
       "      <td>session</td>\n",
       "      <td>mvg_7</td>\n",
       "      <td>PRE</td>\n",
       "      <td>raw</td>\n",
       "      <td>dset1716</td>\n",
       "      <td>None</td>\n",
       "      <td>None</td>\n",
       "      <td>rs</td>\n",
       "    </tr>\n",
       "    <tr>\n",
       "      <th>0</th>\n",
       "      <td>mean</td>\n",
       "      <td>session</td>\n",
       "      <td>mvg_9</td>\n",
       "      <td>PRE</td>\n",
       "      <td>raw</td>\n",
       "      <td>dset1761</td>\n",
       "      <td>None</td>\n",
       "      <td>None</td>\n",
       "      <td>rs</td>\n",
       "    </tr>\n",
       "    <tr>\n",
       "      <th>0</th>\n",
       "      <td>mean</td>\n",
       "      <td>session</td>\n",
       "      <td>mvg_8</td>\n",
       "      <td>TEX</td>\n",
       "      <td>raw</td>\n",
       "      <td>dset1806</td>\n",
       "      <td>None</td>\n",
       "      <td>None</td>\n",
       "      <td>rs</td>\n",
       "    </tr>\n",
       "    <tr>\n",
       "      <th>0</th>\n",
       "      <td>mean</td>\n",
       "      <td>session</td>\n",
       "      <td>mvg_4</td>\n",
       "      <td>TEX</td>\n",
       "      <td>raw</td>\n",
       "      <td>dset1851</td>\n",
       "      <td>None</td>\n",
       "      <td>None</td>\n",
       "      <td>rs</td>\n",
       "    </tr>\n",
       "    <tr>\n",
       "      <th>0</th>\n",
       "      <td>mean</td>\n",
       "      <td>session</td>\n",
       "      <td>mvg_7</td>\n",
       "      <td>TEX</td>\n",
       "      <td>raw</td>\n",
       "      <td>dset1896</td>\n",
       "      <td>None</td>\n",
       "      <td>None</td>\n",
       "      <td>rs</td>\n",
       "    </tr>\n",
       "  </tbody>\n",
       "</table>\n",
       "</div>"
      ],
      "text/plain": [
       "  metric     name mousename cropTime datatype      dset trialType performance  \\\n",
       "0   mean  session     mvg_7      PRE      raw  dset1716      None        None   \n",
       "0   mean  session     mvg_9      PRE      raw  dset1761      None        None   \n",
       "0   mean  session     mvg_8      TEX      raw  dset1806      None        None   \n",
       "0   mean  session     mvg_4      TEX      raw  dset1851      None        None   \n",
       "0   mean  session     mvg_7      TEX      raw  dset1896      None        None   \n",
       "\n",
       "  zscoreDim  \n",
       "0        rs  \n",
       "0        rs  \n",
       "0        rs  \n",
       "0        rs  \n",
       "0        rs  "
      ]
     },
     "metadata": {},
     "output_type": "display_data"
    },
    {
     "name": "stdout",
     "output_type": "stream",
     "text": [
      "p-value annotation legend:\n",
      "ns: 5.00e-02 < p <= 1.00e+00\n",
      "*: 1.00e-02 < p <= 5.00e-02\n",
      "**: 1.00e-03 < p <= 1.00e-02\n",
      "***: 1.00e-04 < p <= 1.00e-03\n",
      "****: p <= 1.00e-04\n",
      "\n",
      "mvg_7_iGO v.s. mvg_7_iNOGO: t-test independent samples with Bonferroni correction, P_val=3.681e-06 stat=5.050e+01\n",
      "mvg_4_iGO v.s. mvg_4_iNOGO: t-test independent samples with Bonferroni correction, P_val=1.071e-02 stat=3.962e+00\n",
      "mvg_8_iGO v.s. mvg_8_iNOGO: t-test independent samples with Bonferroni correction, P_val=4.749e-06 stat=7.539e+00\n",
      "mvg_9_iGO v.s. mvg_9_iNOGO: t-test independent samples with Bonferroni correction, P_val=2.244e-06 stat=1.429e+01\n"
     ]
    },
    {
     "data": {
      "text/html": [
       "<div>\n",
       "<style scoped>\n",
       "    .dataframe tbody tr th:only-of-type {\n",
       "        vertical-align: middle;\n",
       "    }\n",
       "\n",
       "    .dataframe tbody tr th {\n",
       "        vertical-align: top;\n",
       "    }\n",
       "\n",
       "    .dataframe thead th {\n",
       "        text-align: right;\n",
       "    }\n",
       "</style>\n",
       "<table border=\"1\" class=\"dataframe\">\n",
       "  <thead>\n",
       "    <tr style=\"text-align: right;\">\n",
       "      <th></th>\n",
       "      <th>metric</th>\n",
       "      <th>name</th>\n",
       "      <th>mousename</th>\n",
       "      <th>cropTime</th>\n",
       "      <th>datatype</th>\n",
       "      <th>dset</th>\n",
       "      <th>trialType</th>\n",
       "      <th>performance</th>\n",
       "      <th>zscoreDim</th>\n",
       "    </tr>\n",
       "  </thead>\n",
       "  <tbody>\n",
       "    <tr>\n",
       "      <th>0</th>\n",
       "      <td>mean</td>\n",
       "      <td>session</td>\n",
       "      <td>mvg_7</td>\n",
       "      <td>PRE</td>\n",
       "      <td>raw</td>\n",
       "      <td>dset1726</td>\n",
       "      <td>None</td>\n",
       "      <td>expert</td>\n",
       "      <td>rs</td>\n",
       "    </tr>\n",
       "    <tr>\n",
       "      <th>0</th>\n",
       "      <td>mean</td>\n",
       "      <td>session</td>\n",
       "      <td>mvg_9</td>\n",
       "      <td>PRE</td>\n",
       "      <td>raw</td>\n",
       "      <td>dset1771</td>\n",
       "      <td>None</td>\n",
       "      <td>expert</td>\n",
       "      <td>rs</td>\n",
       "    </tr>\n",
       "    <tr>\n",
       "      <th>0</th>\n",
       "      <td>mean</td>\n",
       "      <td>session</td>\n",
       "      <td>mvg_8</td>\n",
       "      <td>TEX</td>\n",
       "      <td>raw</td>\n",
       "      <td>dset1816</td>\n",
       "      <td>None</td>\n",
       "      <td>expert</td>\n",
       "      <td>rs</td>\n",
       "    </tr>\n",
       "    <tr>\n",
       "      <th>0</th>\n",
       "      <td>mean</td>\n",
       "      <td>session</td>\n",
       "      <td>mvg_4</td>\n",
       "      <td>TEX</td>\n",
       "      <td>raw</td>\n",
       "      <td>dset1861</td>\n",
       "      <td>None</td>\n",
       "      <td>expert</td>\n",
       "      <td>rs</td>\n",
       "    </tr>\n",
       "    <tr>\n",
       "      <th>0</th>\n",
       "      <td>mean</td>\n",
       "      <td>session</td>\n",
       "      <td>mvg_7</td>\n",
       "      <td>TEX</td>\n",
       "      <td>raw</td>\n",
       "      <td>dset1906</td>\n",
       "      <td>None</td>\n",
       "      <td>expert</td>\n",
       "      <td>rs</td>\n",
       "    </tr>\n",
       "  </tbody>\n",
       "</table>\n",
       "</div>"
      ],
      "text/plain": [
       "  metric     name mousename cropTime datatype      dset trialType performance  \\\n",
       "0   mean  session     mvg_7      PRE      raw  dset1726      None      expert   \n",
       "0   mean  session     mvg_9      PRE      raw  dset1771      None      expert   \n",
       "0   mean  session     mvg_8      TEX      raw  dset1816      None      expert   \n",
       "0   mean  session     mvg_4      TEX      raw  dset1861      None      expert   \n",
       "0   mean  session     mvg_7      TEX      raw  dset1906      None      expert   \n",
       "\n",
       "  zscoreDim  \n",
       "0        rs  \n",
       "0        rs  \n",
       "0        rs  \n",
       "0        rs  \n",
       "0        rs  "
      ]
     },
     "metadata": {},
     "output_type": "display_data"
    },
    {
     "name": "stdout",
     "output_type": "stream",
     "text": [
      "p-value annotation legend:\n",
      "ns: 5.00e-02 < p <= 1.00e+00\n",
      "*: 1.00e-02 < p <= 5.00e-02\n",
      "**: 1.00e-03 < p <= 1.00e-02\n",
      "***: 1.00e-04 < p <= 1.00e-03\n",
      "****: p <= 1.00e-04\n",
      "\n",
      "mvg_7_iNOGO v.s. mvg_7_iGO: t-test independent samples with Bonferroni correction, P_val=4.591e-05 stat=-5.511e+00\n",
      "mvg_4_iNOGO v.s. mvg_4_iGO: t-test independent samples with Bonferroni correction, P_val=6.653e-03 stat=-4.641e+00\n",
      "mvg_8_iNOGO v.s. mvg_8_iGO: t-test independent samples with Bonferroni correction, P_val=1.715e-01 stat=-2.289e+00\n",
      "mvg_9_iNOGO v.s. mvg_9_iGO: t-test independent samples with Bonferroni correction, P_val=1.815e-14 stat=-1.483e+01\n"
     ]
    },
    {
     "data": {
      "text/html": [
       "<div>\n",
       "<style scoped>\n",
       "    .dataframe tbody tr th:only-of-type {\n",
       "        vertical-align: middle;\n",
       "    }\n",
       "\n",
       "    .dataframe tbody tr th {\n",
       "        vertical-align: top;\n",
       "    }\n",
       "\n",
       "    .dataframe thead th {\n",
       "        text-align: right;\n",
       "    }\n",
       "</style>\n",
       "<table border=\"1\" class=\"dataframe\">\n",
       "  <thead>\n",
       "    <tr style=\"text-align: right;\">\n",
       "      <th></th>\n",
       "      <th>metric</th>\n",
       "      <th>name</th>\n",
       "      <th>mousename</th>\n",
       "      <th>cropTime</th>\n",
       "      <th>datatype</th>\n",
       "      <th>dset</th>\n",
       "      <th>trialType</th>\n",
       "      <th>performance</th>\n",
       "      <th>zscoreDim</th>\n",
       "    </tr>\n",
       "  </thead>\n",
       "  <tbody>\n",
       "    <tr>\n",
       "      <th>0</th>\n",
       "      <td>mean</td>\n",
       "      <td>session</td>\n",
       "      <td>mvg_7</td>\n",
       "      <td>PRE</td>\n",
       "      <td>raw</td>\n",
       "      <td>dset1721</td>\n",
       "      <td>None</td>\n",
       "      <td>naive</td>\n",
       "      <td>rs</td>\n",
       "    </tr>\n",
       "    <tr>\n",
       "      <th>0</th>\n",
       "      <td>mean</td>\n",
       "      <td>session</td>\n",
       "      <td>mvg_9</td>\n",
       "      <td>PRE</td>\n",
       "      <td>raw</td>\n",
       "      <td>dset1766</td>\n",
       "      <td>None</td>\n",
       "      <td>naive</td>\n",
       "      <td>rs</td>\n",
       "    </tr>\n",
       "    <tr>\n",
       "      <th>0</th>\n",
       "      <td>mean</td>\n",
       "      <td>session</td>\n",
       "      <td>mvg_8</td>\n",
       "      <td>TEX</td>\n",
       "      <td>raw</td>\n",
       "      <td>dset1811</td>\n",
       "      <td>None</td>\n",
       "      <td>naive</td>\n",
       "      <td>rs</td>\n",
       "    </tr>\n",
       "    <tr>\n",
       "      <th>0</th>\n",
       "      <td>mean</td>\n",
       "      <td>session</td>\n",
       "      <td>mvg_4</td>\n",
       "      <td>TEX</td>\n",
       "      <td>raw</td>\n",
       "      <td>dset1856</td>\n",
       "      <td>None</td>\n",
       "      <td>naive</td>\n",
       "      <td>rs</td>\n",
       "    </tr>\n",
       "    <tr>\n",
       "      <th>0</th>\n",
       "      <td>mean</td>\n",
       "      <td>session</td>\n",
       "      <td>mvg_7</td>\n",
       "      <td>TEX</td>\n",
       "      <td>raw</td>\n",
       "      <td>dset1901</td>\n",
       "      <td>None</td>\n",
       "      <td>naive</td>\n",
       "      <td>rs</td>\n",
       "    </tr>\n",
       "  </tbody>\n",
       "</table>\n",
       "</div>"
      ],
      "text/plain": [
       "  metric     name mousename cropTime datatype      dset trialType performance  \\\n",
       "0   mean  session     mvg_7      PRE      raw  dset1721      None       naive   \n",
       "0   mean  session     mvg_9      PRE      raw  dset1766      None       naive   \n",
       "0   mean  session     mvg_8      TEX      raw  dset1811      None       naive   \n",
       "0   mean  session     mvg_4      TEX      raw  dset1856      None       naive   \n",
       "0   mean  session     mvg_7      TEX      raw  dset1901      None       naive   \n",
       "\n",
       "  zscoreDim  \n",
       "0        rs  \n",
       "0        rs  \n",
       "0        rs  \n",
       "0        rs  \n",
       "0        rs  "
      ]
     },
     "metadata": {},
     "output_type": "display_data"
    }
   ],
   "source": [
    "bulk_metrics.barplot_conditions(ds, 'mean', 'session', verbose=True, trialTypes=['iGO', 'iNOGO'])"
   ]
  },
  {
   "cell_type": "markdown",
   "metadata": {},
   "source": [
    "## 2. Variance\n",
    "\n",
    "**TODO**\n",
    "* Plot trial variance relative to temporal variance\n",
    "* Plot mean with variance together\n",
    "\n",
    "### Pros/Cons of Baseline Normalization\n",
    "* DFF-Trial\n",
    "    - Pos: Removes dynamic baseline changing on the order of trials.\n",
    "    - Pos: Under assumption of signal-free pre-trial interval, baseline removal enhances relative change in significant activity during trial.\n",
    "    - Neg: In presence of correlation between pre-trial interval and trial signals, this procedure destroys information during trial.\n",
    "\n",
    "* DFF-Session vs ZScore-Session\n",
    "    - Both linear transforms\n",
    "    - Mean is more meaningful for DFF if pre-trial interval is at least somewhat stable\n",
    "    - Va"
   ]
  },
  {
   "cell_type": "code",
   "execution_count": null,
   "metadata": {
    "scrolled": true
   },
   "outputs": [],
   "source": [
    "bulk_metrics.metric_mouse_bulk(dataDB, mc, ds, 'varmean', 's', 'time', verbose=False, minTrials=50,\n",
    "                               trialTypeNames='auto', perfNames='auto', skipExisting=False)"
   ]
  },
  {
   "cell_type": "code",
   "execution_count": null,
   "metadata": {
    "scrolled": true
   },
   "outputs": [],
   "source": [
    "bulk_metrics.plot_metric_bulk(ds, 'varmean', 'time',\n",
    "                              ylim=[0,None], verbose=False, xFunc=lambda m, l: dataDB.get_times())"
   ]
  },
  {
   "cell_type": "markdown",
   "metadata": {},
   "source": [
    "### Session"
   ]
  },
  {
   "cell_type": "code",
   "execution_count": null,
   "metadata": {
    "scrolled": true
   },
   "outputs": [],
   "source": [
    "for intervName, interv in intervDict.items():\n",
    "    bulk_metrics.metric_mouse_bulk_vs_session(dataDB, mc, ds, \"varmean\", 'session', trialTypeNames='auto',\n",
    "                                              minTrials=50, verbose=False, cropTime=(intervName, interv), skipExisting=False)"
   ]
  },
  {
   "cell_type": "code",
   "execution_count": null,
   "metadata": {
    "scrolled": true
   },
   "outputs": [],
   "source": [
    "bulk_metrics.scatter_metric_bulk(ds, 'varmean', 'session', verbose=False,\n",
    "                              xFunc=lambda m, l: dataDB.get_performance_mouse(m), haveRegression=True)"
   ]
  },
  {
   "cell_type": "markdown",
   "metadata": {},
   "source": [
    "### Conditions"
   ]
  },
  {
   "cell_type": "code",
   "execution_count": null,
   "metadata": {},
   "outputs": [],
   "source": [
    "bulk_metrics.barplot_conditions(ds, 'varmean', 'session', verbose=True, trialTypes=['iGO', 'iNOGO'])"
   ]
  },
  {
   "cell_type": "markdown",
   "metadata": {},
   "source": [
    "### Test variance across channels for interesting interval\n",
    "\n",
    "* Average signal over texture presentation interval\n",
    "* Compute variance over trials for each channel\n",
    "* Compare channels"
   ]
  },
  {
   "cell_type": "code",
   "execution_count": null,
   "metadata": {},
   "outputs": [],
   "source": [
    "bulk_metrics.metric_mouse_bulk(dataDB, mc, ds, 'varmean', 'p', 'channel',\n",
    "                               cropTime=('TEX', (3, 3.5)), verbose=False)"
   ]
  },
  {
   "cell_type": "code",
   "execution_count": null,
   "metadata": {
    "scrolled": true
   },
   "outputs": [],
   "source": [
    "bulk_metrics.plot_metric_bulk(ds, 'varmean', 'channel', yscale='log', verbose=False, # ylim=[0.005,2],\n",
    "                              dropCols=['cropTime'])"
   ]
  },
  {
   "cell_type": "markdown",
   "metadata": {
    "collapsed": true
   },
   "source": [
    "# Effective Rank\n",
    "\n",
    "### ByTime"
   ]
  },
  {
   "cell_type": "code",
   "execution_count": 53,
   "metadata": {},
   "outputs": [
    {
     "data": {
      "application/vnd.jupyter.widget-view+json": {
       "model_id": "576e98d4be394789ba798958901574cf",
       "version_major": 2,
       "version_minor": 0
      },
      "text/plain": [
       "IntProgress(value=0, description='time', max=180)"
      ]
     },
     "metadata": {},
     "output_type": "display_data"
    }
   ],
   "source": [
    "bulk_metrics.metric_mouse_bulk(dataDB, mc, ds, \"rank_effective\", 's', 'time', verbose=False, skipExisting=False,\n",
    "                               minTrials=50, trialTypeNames='auto', perfNames='auto', dropChannels=[21])"
   ]
  },
  {
   "cell_type": "code",
   "execution_count": 54,
   "metadata": {
    "scrolled": true
   },
   "outputs": [
    {
     "name": "stdout",
     "output_type": "stream",
     "text": [
      "['rank_effective', 'time', 'mvg_4', 'None', 'bn_session', 'dset2466', 'None', 'None', 'None']\n",
      "['rank_effective', 'time', 'mvg_7', 'None', 'bn_session', 'dset2511', 'None', 'None', 'None']\n",
      "['rank_effective', 'time', 'mvg_8', 'None', 'bn_session', 'dset2421', 'None', 'None', 'None']\n",
      "['rank_effective', 'time', 'mvg_9', 'None', 'bn_session', 'dset2556', 'None', 'None', 'None']\n",
      "['rank_effective', 'time', 'mvg_4', 'None', 'bn_session', 'dset2467', 'iFA', 'None', 'None']\n",
      "['rank_effective', 'time', 'mvg_7', 'None', 'bn_session', 'dset2512', 'iFA', 'None', 'None']\n",
      "['rank_effective', 'time', 'mvg_8', 'None', 'bn_session', 'dset2422', 'iFA', 'None', 'None']\n",
      "['rank_effective', 'time', 'mvg_9', 'None', 'bn_session', 'dset2557', 'iFA', 'None', 'None']\n",
      "['rank_effective', 'time', 'mvg_4', 'None', 'bn_session', 'dset2469', 'iGO', 'None', 'None']\n",
      "['rank_effective', 'time', 'mvg_7', 'None', 'bn_session', 'dset2514', 'iGO', 'None', 'None']\n",
      "['rank_effective', 'time', 'mvg_8', 'None', 'bn_session', 'dset2424', 'iGO', 'None', 'None']\n",
      "['rank_effective', 'time', 'mvg_9', 'None', 'bn_session', 'dset2559', 'iGO', 'None', 'None']\n",
      "['rank_effective', 'time', 'mvg_4', 'None', 'bn_session', 'dset2468', 'iMISS', 'None', 'None']\n",
      "['rank_effective', 'time', 'mvg_7', 'None', 'bn_session', 'dset2513', 'iMISS', 'None', 'None']\n",
      "['rank_effective', 'time', 'mvg_8', 'None', 'bn_session', 'dset2423', 'iMISS', 'None', 'None']\n",
      "['rank_effective', 'time', 'mvg_9', 'None', 'bn_session', 'dset2558', 'iMISS', 'None', 'None']\n",
      "['rank_effective', 'time', 'mvg_4', 'None', 'bn_session', 'dset2470', 'iNOGO', 'None', 'None']\n",
      "['rank_effective', 'time', 'mvg_7', 'None', 'bn_session', 'dset2515', 'iNOGO', 'None', 'None']\n",
      "['rank_effective', 'time', 'mvg_8', 'None', 'bn_session', 'dset2425', 'iNOGO', 'None', 'None']\n",
      "['rank_effective', 'time', 'mvg_9', 'None', 'bn_session', 'dset2560', 'iNOGO', 'None', 'None']\n",
      "['rank_effective', 'time', 'mvg_4', 'None', 'bn_trial', 'dset2481', 'None', 'None', 'None']\n",
      "['rank_effective', 'time', 'mvg_7', 'None', 'bn_trial', 'dset2526', 'None', 'None', 'None']\n",
      "['rank_effective', 'time', 'mvg_8', 'None', 'bn_trial', 'dset2436', 'None', 'None', 'None']\n",
      "['rank_effective', 'time', 'mvg_9', 'None', 'bn_trial', 'dset2571', 'None', 'None', 'None']\n",
      "['rank_effective', 'time', 'mvg_4', 'None', 'bn_trial', 'dset2482', 'iFA', 'None', 'None']\n",
      "['rank_effective', 'time', 'mvg_7', 'None', 'bn_trial', 'dset2527', 'iFA', 'None', 'None']\n",
      "['rank_effective', 'time', 'mvg_8', 'None', 'bn_trial', 'dset2437', 'iFA', 'None', 'None']\n",
      "['rank_effective', 'time', 'mvg_9', 'None', 'bn_trial', 'dset2572', 'iFA', 'None', 'None']\n",
      "['rank_effective', 'time', 'mvg_4', 'None', 'bn_trial', 'dset2484', 'iGO', 'None', 'None']\n",
      "['rank_effective', 'time', 'mvg_7', 'None', 'bn_trial', 'dset2529', 'iGO', 'None', 'None']\n",
      "['rank_effective', 'time', 'mvg_8', 'None', 'bn_trial', 'dset2439', 'iGO', 'None', 'None']\n",
      "['rank_effective', 'time', 'mvg_9', 'None', 'bn_trial', 'dset2574', 'iGO', 'None', 'None']\n",
      "['rank_effective', 'time', 'mvg_4', 'None', 'bn_trial', 'dset2483', 'iMISS', 'None', 'None']\n",
      "['rank_effective', 'time', 'mvg_7', 'None', 'bn_trial', 'dset2528', 'iMISS', 'None', 'None']\n",
      "['rank_effective', 'time', 'mvg_8', 'None', 'bn_trial', 'dset2438', 'iMISS', 'None', 'None']\n",
      "['rank_effective', 'time', 'mvg_9', 'None', 'bn_trial', 'dset2573', 'iMISS', 'None', 'None']\n",
      "['rank_effective', 'time', 'mvg_4', 'None', 'bn_trial', 'dset2485', 'iNOGO', 'None', 'None']\n",
      "['rank_effective', 'time', 'mvg_7', 'None', 'bn_trial', 'dset2530', 'iNOGO', 'None', 'None']\n",
      "['rank_effective', 'time', 'mvg_8', 'None', 'bn_trial', 'dset2440', 'iNOGO', 'None', 'None']\n",
      "['rank_effective', 'time', 'mvg_9', 'None', 'bn_trial', 'dset2575', 'iNOGO', 'None', 'None']\n",
      "['rank_effective', 'time', 'mvg_4', 'None', 'bn_session', 'dset2476', 'None', 'expert', 'None']\n",
      "['rank_effective', 'time', 'mvg_7', 'None', 'bn_session', 'dset2521', 'None', 'expert', 'None']\n",
      "['rank_effective', 'time', 'mvg_8', 'None', 'bn_session', 'dset2431', 'None', 'expert', 'None']\n",
      "['rank_effective', 'time', 'mvg_9', 'None', 'bn_session', 'dset2566', 'None', 'expert', 'None']\n",
      "['rank_effective', 'time', 'mvg_4', 'None', 'bn_session', 'dset2477', 'iFA', 'expert', 'None']\n",
      "['rank_effective', 'time', 'mvg_7', 'None', 'bn_session', 'dset2522', 'iFA', 'expert', 'None']\n",
      "['rank_effective', 'time', 'mvg_8', 'None', 'bn_session', 'dset2432', 'iFA', 'expert', 'None']\n",
      "['rank_effective', 'time', 'mvg_9', 'None', 'bn_session', 'dset2567', 'iFA', 'expert', 'None']\n",
      "['rank_effective', 'time', 'mvg_4', 'None', 'bn_session', 'dset2479', 'iGO', 'expert', 'None']\n",
      "['rank_effective', 'time', 'mvg_7', 'None', 'bn_session', 'dset2524', 'iGO', 'expert', 'None']\n",
      "['rank_effective', 'time', 'mvg_8', 'None', 'bn_session', 'dset2434', 'iGO', 'expert', 'None']\n",
      "['rank_effective', 'time', 'mvg_9', 'None', 'bn_session', 'dset2569', 'iGO', 'expert', 'None']\n",
      "['rank_effective', 'time', 'mvg_4', 'None', 'bn_session', 'dset2478', 'iMISS', 'expert', 'None']\n",
      "['rank_effective', 'time', 'mvg_7', 'None', 'bn_session', 'dset2523', 'iMISS', 'expert', 'None']\n",
      "['rank_effective', 'time', 'mvg_8', 'None', 'bn_session', 'dset2433', 'iMISS', 'expert', 'None']\n",
      "['rank_effective', 'time', 'mvg_9', 'None', 'bn_session', 'dset2568', 'iMISS', 'expert', 'None']\n",
      "['rank_effective', 'time', 'mvg_4', 'None', 'bn_session', 'dset2480', 'iNOGO', 'expert', 'None']\n",
      "['rank_effective', 'time', 'mvg_7', 'None', 'bn_session', 'dset2525', 'iNOGO', 'expert', 'None']\n",
      "['rank_effective', 'time', 'mvg_8', 'None', 'bn_session', 'dset2435', 'iNOGO', 'expert', 'None']\n",
      "['rank_effective', 'time', 'mvg_9', 'None', 'bn_session', 'dset2570', 'iNOGO', 'expert', 'None']\n",
      "['rank_effective', 'time', 'mvg_4', 'None', 'bn_trial', 'dset2491', 'None', 'expert', 'None']\n",
      "['rank_effective', 'time', 'mvg_7', 'None', 'bn_trial', 'dset2536', 'None', 'expert', 'None']\n",
      "['rank_effective', 'time', 'mvg_8', 'None', 'bn_trial', 'dset2446', 'None', 'expert', 'None']\n",
      "['rank_effective', 'time', 'mvg_9', 'None', 'bn_trial', 'dset2581', 'None', 'expert', 'None']\n",
      "['rank_effective', 'time', 'mvg_4', 'None', 'bn_trial', 'dset2492', 'iFA', 'expert', 'None']\n",
      "['rank_effective', 'time', 'mvg_7', 'None', 'bn_trial', 'dset2537', 'iFA', 'expert', 'None']\n",
      "['rank_effective', 'time', 'mvg_8', 'None', 'bn_trial', 'dset2447', 'iFA', 'expert', 'None']\n",
      "['rank_effective', 'time', 'mvg_9', 'None', 'bn_trial', 'dset2582', 'iFA', 'expert', 'None']\n",
      "['rank_effective', 'time', 'mvg_4', 'None', 'bn_trial', 'dset2494', 'iGO', 'expert', 'None']\n",
      "['rank_effective', 'time', 'mvg_7', 'None', 'bn_trial', 'dset2539', 'iGO', 'expert', 'None']\n",
      "['rank_effective', 'time', 'mvg_8', 'None', 'bn_trial', 'dset2449', 'iGO', 'expert', 'None']\n",
      "['rank_effective', 'time', 'mvg_9', 'None', 'bn_trial', 'dset2584', 'iGO', 'expert', 'None']\n",
      "['rank_effective', 'time', 'mvg_4', 'None', 'bn_trial', 'dset2493', 'iMISS', 'expert', 'None']\n",
      "['rank_effective', 'time', 'mvg_7', 'None', 'bn_trial', 'dset2538', 'iMISS', 'expert', 'None']\n",
      "['rank_effective', 'time', 'mvg_8', 'None', 'bn_trial', 'dset2448', 'iMISS', 'expert', 'None']\n",
      "['rank_effective', 'time', 'mvg_9', 'None', 'bn_trial', 'dset2583', 'iMISS', 'expert', 'None']\n",
      "['rank_effective', 'time', 'mvg_4', 'None', 'bn_trial', 'dset2495', 'iNOGO', 'expert', 'None']\n",
      "['rank_effective', 'time', 'mvg_7', 'None', 'bn_trial', 'dset2540', 'iNOGO', 'expert', 'None']\n",
      "['rank_effective', 'time', 'mvg_8', 'None', 'bn_trial', 'dset2450', 'iNOGO', 'expert', 'None']\n",
      "['rank_effective', 'time', 'mvg_9', 'None', 'bn_trial', 'dset2585', 'iNOGO', 'expert', 'None']\n",
      "['rank_effective', 'time', 'mvg_4', 'None', 'bn_session', 'dset2471', 'None', 'naive', 'None']\n",
      "['rank_effective', 'time', 'mvg_7', 'None', 'bn_session', 'dset2516', 'None', 'naive', 'None']\n",
      "['rank_effective', 'time', 'mvg_8', 'None', 'bn_session', 'dset2426', 'None', 'naive', 'None']\n",
      "['rank_effective', 'time', 'mvg_9', 'None', 'bn_session', 'dset2561', 'None', 'naive', 'None']\n",
      "['rank_effective', 'time', 'mvg_4', 'None', 'bn_session', 'dset2472', 'iFA', 'naive', 'None']\n",
      "['rank_effective', 'time', 'mvg_7', 'None', 'bn_session', 'dset2517', 'iFA', 'naive', 'None']\n",
      "['rank_effective', 'time', 'mvg_8', 'None', 'bn_session', 'dset2427', 'iFA', 'naive', 'None']\n",
      "['rank_effective', 'time', 'mvg_9', 'None', 'bn_session', 'dset2562', 'iFA', 'naive', 'None']\n"
     ]
    },
    {
     "name": "stdout",
     "output_type": "stream",
     "text": [
      "['rank_effective', 'time', 'mvg_4', 'None', 'bn_session', 'dset2474', 'iGO', 'naive', 'None']\n",
      "['rank_effective', 'time', 'mvg_7', 'None', 'bn_session', 'dset2519', 'iGO', 'naive', 'None']\n",
      "['rank_effective', 'time', 'mvg_8', 'None', 'bn_session', 'dset2429', 'iGO', 'naive', 'None']\n",
      "['rank_effective', 'time', 'mvg_9', 'None', 'bn_session', 'dset2564', 'iGO', 'naive', 'None']\n",
      "['rank_effective', 'time', 'mvg_4', 'None', 'bn_session', 'dset2473', 'iMISS', 'naive', 'None']\n",
      "['rank_effective', 'time', 'mvg_7', 'None', 'bn_session', 'dset2518', 'iMISS', 'naive', 'None']\n",
      "['rank_effective', 'time', 'mvg_8', 'None', 'bn_session', 'dset2428', 'iMISS', 'naive', 'None']\n",
      "['rank_effective', 'time', 'mvg_9', 'None', 'bn_session', 'dset2563', 'iMISS', 'naive', 'None']\n",
      "['rank_effective', 'time', 'mvg_4', 'None', 'bn_session', 'dset2475', 'iNOGO', 'naive', 'None']\n",
      "['rank_effective', 'time', 'mvg_7', 'None', 'bn_session', 'dset2520', 'iNOGO', 'naive', 'None']\n",
      "['rank_effective', 'time', 'mvg_8', 'None', 'bn_session', 'dset2430', 'iNOGO', 'naive', 'None']\n",
      "['rank_effective', 'time', 'mvg_9', 'None', 'bn_session', 'dset2565', 'iNOGO', 'naive', 'None']\n",
      "['rank_effective', 'time', 'mvg_4', 'None', 'bn_trial', 'dset2486', 'None', 'naive', 'None']\n",
      "['rank_effective', 'time', 'mvg_7', 'None', 'bn_trial', 'dset2531', 'None', 'naive', 'None']\n",
      "['rank_effective', 'time', 'mvg_8', 'None', 'bn_trial', 'dset2441', 'None', 'naive', 'None']\n",
      "['rank_effective', 'time', 'mvg_9', 'None', 'bn_trial', 'dset2576', 'None', 'naive', 'None']\n",
      "['rank_effective', 'time', 'mvg_4', 'None', 'bn_trial', 'dset2487', 'iFA', 'naive', 'None']\n",
      "['rank_effective', 'time', 'mvg_7', 'None', 'bn_trial', 'dset2532', 'iFA', 'naive', 'None']\n",
      "['rank_effective', 'time', 'mvg_8', 'None', 'bn_trial', 'dset2442', 'iFA', 'naive', 'None']\n",
      "['rank_effective', 'time', 'mvg_9', 'None', 'bn_trial', 'dset2577', 'iFA', 'naive', 'None']\n",
      "['rank_effective', 'time', 'mvg_4', 'None', 'bn_trial', 'dset2489', 'iGO', 'naive', 'None']\n",
      "['rank_effective', 'time', 'mvg_7', 'None', 'bn_trial', 'dset2534', 'iGO', 'naive', 'None']\n",
      "['rank_effective', 'time', 'mvg_8', 'None', 'bn_trial', 'dset2444', 'iGO', 'naive', 'None']\n",
      "['rank_effective', 'time', 'mvg_9', 'None', 'bn_trial', 'dset2579', 'iGO', 'naive', 'None']\n",
      "['rank_effective', 'time', 'mvg_4', 'None', 'bn_trial', 'dset2488', 'iMISS', 'naive', 'None']\n",
      "['rank_effective', 'time', 'mvg_7', 'None', 'bn_trial', 'dset2533', 'iMISS', 'naive', 'None']\n",
      "['rank_effective', 'time', 'mvg_8', 'None', 'bn_trial', 'dset2443', 'iMISS', 'naive', 'None']\n",
      "['rank_effective', 'time', 'mvg_9', 'None', 'bn_trial', 'dset2578', 'iMISS', 'naive', 'None']\n",
      "['rank_effective', 'time', 'mvg_4', 'None', 'bn_trial', 'dset2490', 'iNOGO', 'naive', 'None']\n",
      "['rank_effective', 'time', 'mvg_7', 'None', 'bn_trial', 'dset2535', 'iNOGO', 'naive', 'None']\n",
      "['rank_effective', 'time', 'mvg_8', 'None', 'bn_trial', 'dset2445', 'iNOGO', 'naive', 'None']\n",
      "['rank_effective', 'time', 'mvg_9', 'None', 'bn_trial', 'dset2580', 'iNOGO', 'naive', 'None']\n",
      "['rank_effective', 'time', 'mvg_4', 'None', 'raw', 'dset2496', 'None', 'None', 'rs']\n",
      "['rank_effective', 'time', 'mvg_7', 'None', 'raw', 'dset2541', 'None', 'None', 'rs']\n",
      "['rank_effective', 'time', 'mvg_8', 'None', 'raw', 'dset2451', 'None', 'None', 'rs']\n",
      "['rank_effective', 'time', 'mvg_9', 'None', 'raw', 'dset2586', 'None', 'None', 'rs']\n",
      "['rank_effective', 'time', 'mvg_4', 'None', 'raw', 'dset2497', 'iFA', 'None', 'rs']\n",
      "['rank_effective', 'time', 'mvg_7', 'None', 'raw', 'dset2542', 'iFA', 'None', 'rs']\n",
      "['rank_effective', 'time', 'mvg_8', 'None', 'raw', 'dset2452', 'iFA', 'None', 'rs']\n",
      "['rank_effective', 'time', 'mvg_9', 'None', 'raw', 'dset2587', 'iFA', 'None', 'rs']\n",
      "['rank_effective', 'time', 'mvg_4', 'None', 'raw', 'dset2499', 'iGO', 'None', 'rs']\n",
      "['rank_effective', 'time', 'mvg_7', 'None', 'raw', 'dset2544', 'iGO', 'None', 'rs']\n",
      "['rank_effective', 'time', 'mvg_8', 'None', 'raw', 'dset2454', 'iGO', 'None', 'rs']\n",
      "['rank_effective', 'time', 'mvg_9', 'None', 'raw', 'dset2589', 'iGO', 'None', 'rs']\n",
      "['rank_effective', 'time', 'mvg_4', 'None', 'raw', 'dset2498', 'iMISS', 'None', 'rs']\n",
      "['rank_effective', 'time', 'mvg_7', 'None', 'raw', 'dset2543', 'iMISS', 'None', 'rs']\n",
      "['rank_effective', 'time', 'mvg_8', 'None', 'raw', 'dset2453', 'iMISS', 'None', 'rs']\n",
      "['rank_effective', 'time', 'mvg_9', 'None', 'raw', 'dset2588', 'iMISS', 'None', 'rs']\n",
      "['rank_effective', 'time', 'mvg_4', 'None', 'raw', 'dset2500', 'iNOGO', 'None', 'rs']\n",
      "['rank_effective', 'time', 'mvg_7', 'None', 'raw', 'dset2545', 'iNOGO', 'None', 'rs']\n",
      "['rank_effective', 'time', 'mvg_8', 'None', 'raw', 'dset2455', 'iNOGO', 'None', 'rs']\n",
      "['rank_effective', 'time', 'mvg_9', 'None', 'raw', 'dset2590', 'iNOGO', 'None', 'rs']\n",
      "['rank_effective', 'time', 'mvg_4', 'None', 'raw', 'dset2506', 'None', 'expert', 'rs']\n",
      "['rank_effective', 'time', 'mvg_7', 'None', 'raw', 'dset2551', 'None', 'expert', 'rs']\n",
      "['rank_effective', 'time', 'mvg_8', 'None', 'raw', 'dset2461', 'None', 'expert', 'rs']\n",
      "['rank_effective', 'time', 'mvg_9', 'None', 'raw', 'dset2596', 'None', 'expert', 'rs']\n",
      "['rank_effective', 'time', 'mvg_4', 'None', 'raw', 'dset2507', 'iFA', 'expert', 'rs']\n",
      "['rank_effective', 'time', 'mvg_7', 'None', 'raw', 'dset2552', 'iFA', 'expert', 'rs']\n",
      "['rank_effective', 'time', 'mvg_8', 'None', 'raw', 'dset2462', 'iFA', 'expert', 'rs']\n",
      "['rank_effective', 'time', 'mvg_9', 'None', 'raw', 'dset2597', 'iFA', 'expert', 'rs']\n",
      "['rank_effective', 'time', 'mvg_4', 'None', 'raw', 'dset2509', 'iGO', 'expert', 'rs']\n",
      "['rank_effective', 'time', 'mvg_7', 'None', 'raw', 'dset2554', 'iGO', 'expert', 'rs']\n",
      "['rank_effective', 'time', 'mvg_8', 'None', 'raw', 'dset2464', 'iGO', 'expert', 'rs']\n",
      "['rank_effective', 'time', 'mvg_9', 'None', 'raw', 'dset2599', 'iGO', 'expert', 'rs']\n",
      "['rank_effective', 'time', 'mvg_4', 'None', 'raw', 'dset2508', 'iMISS', 'expert', 'rs']\n",
      "['rank_effective', 'time', 'mvg_7', 'None', 'raw', 'dset2553', 'iMISS', 'expert', 'rs']\n",
      "['rank_effective', 'time', 'mvg_8', 'None', 'raw', 'dset2463', 'iMISS', 'expert', 'rs']\n",
      "['rank_effective', 'time', 'mvg_9', 'None', 'raw', 'dset2598', 'iMISS', 'expert', 'rs']\n",
      "['rank_effective', 'time', 'mvg_4', 'None', 'raw', 'dset2510', 'iNOGO', 'expert', 'rs']\n",
      "['rank_effective', 'time', 'mvg_7', 'None', 'raw', 'dset2555', 'iNOGO', 'expert', 'rs']\n",
      "['rank_effective', 'time', 'mvg_8', 'None', 'raw', 'dset2465', 'iNOGO', 'expert', 'rs']\n",
      "['rank_effective', 'time', 'mvg_9', 'None', 'raw', 'dset2600', 'iNOGO', 'expert', 'rs']\n",
      "['rank_effective', 'time', 'mvg_4', 'None', 'raw', 'dset2501', 'None', 'naive', 'rs']\n",
      "['rank_effective', 'time', 'mvg_7', 'None', 'raw', 'dset2546', 'None', 'naive', 'rs']\n",
      "['rank_effective', 'time', 'mvg_8', 'None', 'raw', 'dset2456', 'None', 'naive', 'rs']\n",
      "['rank_effective', 'time', 'mvg_9', 'None', 'raw', 'dset2591', 'None', 'naive', 'rs']\n",
      "['rank_effective', 'time', 'mvg_4', 'None', 'raw', 'dset2502', 'iFA', 'naive', 'rs']\n",
      "['rank_effective', 'time', 'mvg_7', 'None', 'raw', 'dset2547', 'iFA', 'naive', 'rs']\n",
      "['rank_effective', 'time', 'mvg_8', 'None', 'raw', 'dset2457', 'iFA', 'naive', 'rs']\n",
      "['rank_effective', 'time', 'mvg_9', 'None', 'raw', 'dset2592', 'iFA', 'naive', 'rs']\n",
      "['rank_effective', 'time', 'mvg_4', 'None', 'raw', 'dset2504', 'iGO', 'naive', 'rs']\n",
      "['rank_effective', 'time', 'mvg_7', 'None', 'raw', 'dset2549', 'iGO', 'naive', 'rs']\n",
      "['rank_effective', 'time', 'mvg_8', 'None', 'raw', 'dset2459', 'iGO', 'naive', 'rs']\n",
      "['rank_effective', 'time', 'mvg_9', 'None', 'raw', 'dset2594', 'iGO', 'naive', 'rs']\n",
      "['rank_effective', 'time', 'mvg_4', 'None', 'raw', 'dset2503', 'iMISS', 'naive', 'rs']\n",
      "['rank_effective', 'time', 'mvg_7', 'None', 'raw', 'dset2548', 'iMISS', 'naive', 'rs']\n",
      "['rank_effective', 'time', 'mvg_8', 'None', 'raw', 'dset2458', 'iMISS', 'naive', 'rs']\n",
      "['rank_effective', 'time', 'mvg_9', 'None', 'raw', 'dset2593', 'iMISS', 'naive', 'rs']\n",
      "['rank_effective', 'time', 'mvg_4', 'None', 'raw', 'dset2505', 'iNOGO', 'naive', 'rs']\n",
      "['rank_effective', 'time', 'mvg_7', 'None', 'raw', 'dset2550', 'iNOGO', 'naive', 'rs']\n",
      "['rank_effective', 'time', 'mvg_8', 'None', 'raw', 'dset2460', 'iNOGO', 'naive', 'rs']\n",
      "['rank_effective', 'time', 'mvg_9', 'None', 'raw', 'dset2595', 'iNOGO', 'naive', 'rs']\n"
     ]
    }
   ],
   "source": [
    "bulk_metrics.plot_metric_bulk(ds, 'rank_effective', 'time', ylim=[1, None], verbose=False,\n",
    "                              xFunc=lambda m, l: dataDB.get_times()) # ylim=[1,48]"
   ]
  },
  {
   "cell_type": "markdown",
   "metadata": {},
   "source": [
    "### BySession"
   ]
  },
  {
   "cell_type": "code",
   "execution_count": 57,
   "metadata": {
    "scrolled": true
   },
   "outputs": [
    {
     "data": {
      "application/vnd.jupyter.widget-view+json": {
       "model_id": "e16f6f71cc6d4f05b96b4d1ff9c394e2",
       "version_major": 2,
       "version_minor": 0
      },
      "text/plain": [
       "IntProgress(value=0, description='session', max=180)"
      ]
     },
     "metadata": {},
     "output_type": "display_data"
    },
    {
     "data": {
      "application/vnd.jupyter.widget-view+json": {
       "model_id": "51d05979686e4a19b58d70aa2157ed0f",
       "version_major": 2,
       "version_minor": 0
      },
      "text/plain": [
       "IntProgress(value=0, description='mvg_8', max=16)"
      ]
     },
     "metadata": {},
     "output_type": "display_data"
    },
    {
     "data": {
      "application/vnd.jupyter.widget-view+json": {
       "model_id": "41c1e647a90b44019f9c92ff28f01697",
       "version_major": 2,
       "version_minor": 0
      },
      "text/plain": [
       "IntProgress(value=0, description='mvg_8', max=16)"
      ]
     },
     "metadata": {},
     "output_type": "display_data"
    },
    {
     "name": "stdout",
     "output_type": "stream",
     "text": [
      "Warning: skipping session with too few trials 34\n",
      "Warning: skipping session with too few trials 23\n",
      "Warning: skipping session with too few trials 36\n",
      "Warning: skipping session with too few trials 10\n",
      "Warning: skipping session with too few trials 6\n",
      "Warning: skipping session with too few trials 4\n",
      "Warning: skipping session with too few trials 15\n",
      "Warning: skipping session with too few trials 31\n",
      "Warning: skipping session with too few trials 38\n",
      "Warning: skipping session with too few trials 6\n"
     ]
    },
    {
     "data": {
      "application/vnd.jupyter.widget-view+json": {
       "model_id": "4af29735901a4d93a968d53e002a75b1",
       "version_major": 2,
       "version_minor": 0
      },
      "text/plain": [
       "IntProgress(value=0, description='mvg_8', max=16)"
      ]
     },
     "metadata": {},
     "output_type": "display_data"
    },
    {
     "name": "stdout",
     "output_type": "stream",
     "text": [
      "Warning: skipping session with too few trials 37\n",
      "Warning: skipping session with too few trials 49\n",
      "Warning: skipping session with too few trials 25\n",
      "Warning: skipping session with too few trials 26\n",
      "Warning: skipping session with too few trials 8\n",
      "Warning: skipping session with too few trials 2\n",
      "Warning: skipping session with too few trials 33\n",
      "Warning: skipping session with too few trials 14\n",
      "Warning: skipping session with too few trials 2\n",
      "Warning: skipping session with too few trials 12\n",
      "Warning: skipping session with too few trials 17\n"
     ]
    },
    {
     "data": {
      "application/vnd.jupyter.widget-view+json": {
       "model_id": "ca0246bd8ff74cb98057291615827775",
       "version_major": 2,
       "version_minor": 0
      },
      "text/plain": [
       "IntProgress(value=0, description='mvg_8', max=16)"
      ]
     },
     "metadata": {},
     "output_type": "display_data"
    },
    {
     "name": "stdout",
     "output_type": "stream",
     "text": [
      "Warning: skipping session with too few trials 44\n",
      "Warning: skipping session with too few trials 41\n",
      "Warning: skipping session with too few trials 38\n"
     ]
    },
    {
     "data": {
      "application/vnd.jupyter.widget-view+json": {
       "model_id": "80940cb8efbf4b28a68ae4b0a1cb0b26",
       "version_major": 2,
       "version_minor": 0
      },
      "text/plain": [
       "IntProgress(value=0, description='mvg_8', max=16)"
      ]
     },
     "metadata": {},
     "output_type": "display_data"
    },
    {
     "name": "stdout",
     "output_type": "stream",
     "text": [
      "Warning: skipping session with too few trials 11\n",
      "Warning: skipping session with too few trials 4\n",
      "Warning: skipping session with too few trials 30\n",
      "Warning: skipping session with too few trials 21\n"
     ]
    },
    {
     "data": {
      "application/vnd.jupyter.widget-view+json": {
       "model_id": "ec87804345894400bf9b05c50ad0548a",
       "version_major": 2,
       "version_minor": 0
      },
      "text/plain": [
       "IntProgress(value=0, description='mvg_8', max=7)"
      ]
     },
     "metadata": {},
     "output_type": "display_data"
    },
    {
     "data": {
      "application/vnd.jupyter.widget-view+json": {
       "model_id": "7479a4ff269d4308b9804ad20b807aff",
       "version_major": 2,
       "version_minor": 0
      },
      "text/plain": [
       "IntProgress(value=0, description='mvg_8', max=7)"
      ]
     },
     "metadata": {},
     "output_type": "display_data"
    },
    {
     "name": "stdout",
     "output_type": "stream",
     "text": [
      "Warning: skipping session with too few trials 34\n"
     ]
    },
    {
     "data": {
      "application/vnd.jupyter.widget-view+json": {
       "model_id": "1f9e621046c54b7aa714a06f27c102fa",
       "version_major": 2,
       "version_minor": 0
      },
      "text/plain": [
       "IntProgress(value=0, description='mvg_8', max=7)"
      ]
     },
     "metadata": {},
     "output_type": "display_data"
    },
    {
     "name": "stdout",
     "output_type": "stream",
     "text": [
      "Warning: skipping session with too few trials 37\n",
      "Warning: skipping session with too few trials 49\n",
      "Warning: skipping session with too few trials 25\n"
     ]
    },
    {
     "data": {
      "application/vnd.jupyter.widget-view+json": {
       "model_id": "4626950a3acd4067af32d61bb7bb4a99",
       "version_major": 2,
       "version_minor": 0
      },
      "text/plain": [
       "IntProgress(value=0, description='mvg_8', max=7)"
      ]
     },
     "metadata": {},
     "output_type": "display_data"
    },
    {
     "name": "stdout",
     "output_type": "stream",
     "text": [
      "Warning: skipping session with too few trials 44\n",
      "Warning: skipping session with too few trials 41\n",
      "Warning: skipping session with too few trials 38\n"
     ]
    },
    {
     "data": {
      "application/vnd.jupyter.widget-view+json": {
       "model_id": "b9599ae96d03446f837347aafb6c294c",
       "version_major": 2,
       "version_minor": 0
      },
      "text/plain": [
       "IntProgress(value=0, description='mvg_8', max=7)"
      ]
     },
     "metadata": {},
     "output_type": "display_data"
    },
    {
     "name": "stdout",
     "output_type": "stream",
     "text": [
      "Warning: skipping session with too few trials 11\n",
      "Warning: skipping session with too few trials 4\n",
      "Warning: skipping session with too few trials 30\n",
      "Warning: skipping session with too few trials 21\n"
     ]
    },
    {
     "data": {
      "application/vnd.jupyter.widget-view+json": {
       "model_id": "55f6ebd8f84d438e9655fa0eb076cbfe",
       "version_major": 2,
       "version_minor": 0
      },
      "text/plain": [
       "IntProgress(value=0, description='mvg_8', max=9)"
      ]
     },
     "metadata": {},
     "output_type": "display_data"
    },
    {
     "data": {
      "application/vnd.jupyter.widget-view+json": {
       "model_id": "2b897d00285e4505b121268927dd1fe1",
       "version_major": 2,
       "version_minor": 0
      },
      "text/plain": [
       "IntProgress(value=0, description='mvg_8', max=9)"
      ]
     },
     "metadata": {},
     "output_type": "display_data"
    },
    {
     "name": "stdout",
     "output_type": "stream",
     "text": [
      "Warning: skipping session with too few trials 23\n",
      "Warning: skipping session with too few trials 36\n",
      "Warning: skipping session with too few trials 10\n",
      "Warning: skipping session with too few trials 6\n",
      "Warning: skipping session with too few trials 4\n",
      "Warning: skipping session with too few trials 15\n",
      "Warning: skipping session with too few trials 31\n",
      "Warning: skipping session with too few trials 38\n",
      "Warning: skipping session with too few trials 6\n",
      "Warning, all sessions had too few trials, this mouse is skipped\n"
     ]
    },
    {
     "data": {
      "application/vnd.jupyter.widget-view+json": {
       "model_id": "d3ac4a0d27fa4208863fbfc215283ab9",
       "version_major": 2,
       "version_minor": 0
      },
      "text/plain": [
       "IntProgress(value=0, description='mvg_8', max=9)"
      ]
     },
     "metadata": {},
     "output_type": "display_data"
    },
    {
     "name": "stdout",
     "output_type": "stream",
     "text": [
      "Warning: skipping session with too few trials 26\n",
      "Warning: skipping session with too few trials 8\n",
      "Warning: skipping session with too few trials 2\n",
      "Warning: skipping session with too few trials 33\n",
      "Warning: skipping session with too few trials 14\n",
      "Warning: skipping session with too few trials 2\n",
      "Warning: skipping session with too few trials 12\n",
      "Warning: skipping session with too few trials 17\n"
     ]
    },
    {
     "data": {
      "application/vnd.jupyter.widget-view+json": {
       "model_id": "964dc6bb2c1c4776a4d12fd50fce6868",
       "version_major": 2,
       "version_minor": 0
      },
      "text/plain": [
       "IntProgress(value=0, description='mvg_8', max=9)"
      ]
     },
     "metadata": {},
     "output_type": "display_data"
    },
    {
     "data": {
      "application/vnd.jupyter.widget-view+json": {
       "model_id": "73677526518d4eae8fc57e3fd82c411a",
       "version_major": 2,
       "version_minor": 0
      },
      "text/plain": [
       "IntProgress(value=0, description='mvg_8', max=9)"
      ]
     },
     "metadata": {},
     "output_type": "display_data"
    },
    {
     "data": {
      "application/vnd.jupyter.widget-view+json": {
       "model_id": "6359c6625663436696c679e1009c703a",
       "version_major": 2,
       "version_minor": 0
      },
      "text/plain": [
       "IntProgress(value=0, description='mvg_8', max=16)"
      ]
     },
     "metadata": {},
     "output_type": "display_data"
    },
    {
     "data": {
      "application/vnd.jupyter.widget-view+json": {
       "model_id": "0cfdc71221b24a9bb1ab056bfb55d2fb",
       "version_major": 2,
       "version_minor": 0
      },
      "text/plain": [
       "IntProgress(value=0, description='mvg_8', max=16)"
      ]
     },
     "metadata": {},
     "output_type": "display_data"
    },
    {
     "name": "stdout",
     "output_type": "stream",
     "text": [
      "Warning: skipping session with too few trials 34\n",
      "Warning: skipping session with too few trials 23\n",
      "Warning: skipping session with too few trials 36\n",
      "Warning: skipping session with too few trials 10\n",
      "Warning: skipping session with too few trials 6\n",
      "Warning: skipping session with too few trials 4\n",
      "Warning: skipping session with too few trials 15\n",
      "Warning: skipping session with too few trials 31\n",
      "Warning: skipping session with too few trials 38\n",
      "Warning: skipping session with too few trials 6\n"
     ]
    },
    {
     "data": {
      "application/vnd.jupyter.widget-view+json": {
       "model_id": "510812960114477d94e28bd634673ec9",
       "version_major": 2,
       "version_minor": 0
      },
      "text/plain": [
       "IntProgress(value=0, description='mvg_8', max=16)"
      ]
     },
     "metadata": {},
     "output_type": "display_data"
    },
    {
     "name": "stdout",
     "output_type": "stream",
     "text": [
      "Warning: skipping session with too few trials 37\n",
      "Warning: skipping session with too few trials 49\n",
      "Warning: skipping session with too few trials 25\n",
      "Warning: skipping session with too few trials 26\n",
      "Warning: skipping session with too few trials 8\n",
      "Warning: skipping session with too few trials 2\n",
      "Warning: skipping session with too few trials 33\n",
      "Warning: skipping session with too few trials 14\n",
      "Warning: skipping session with too few trials 2\n",
      "Warning: skipping session with too few trials 12\n",
      "Warning: skipping session with too few trials 17\n"
     ]
    },
    {
     "data": {
      "application/vnd.jupyter.widget-view+json": {
       "model_id": "bb93f1de8f374cd9ba01c1bc6a56986d",
       "version_major": 2,
       "version_minor": 0
      },
      "text/plain": [
       "IntProgress(value=0, description='mvg_8', max=16)"
      ]
     },
     "metadata": {},
     "output_type": "display_data"
    },
    {
     "name": "stdout",
     "output_type": "stream",
     "text": [
      "Warning: skipping session with too few trials 44\n",
      "Warning: skipping session with too few trials 41\n",
      "Warning: skipping session with too few trials 38\n"
     ]
    },
    {
     "data": {
      "application/vnd.jupyter.widget-view+json": {
       "model_id": "aac82f2b5c5241eba3dc5e83a2e24ce9",
       "version_major": 2,
       "version_minor": 0
      },
      "text/plain": [
       "IntProgress(value=0, description='mvg_8', max=16)"
      ]
     },
     "metadata": {},
     "output_type": "display_data"
    },
    {
     "name": "stdout",
     "output_type": "stream",
     "text": [
      "Warning: skipping session with too few trials 11\n",
      "Warning: skipping session with too few trials 4\n",
      "Warning: skipping session with too few trials 30\n",
      "Warning: skipping session with too few trials 21\n"
     ]
    },
    {
     "data": {
      "application/vnd.jupyter.widget-view+json": {
       "model_id": "071769bc086641d687ebaf64acb7ce66",
       "version_major": 2,
       "version_minor": 0
      },
      "text/plain": [
       "IntProgress(value=0, description='mvg_8', max=7)"
      ]
     },
     "metadata": {},
     "output_type": "display_data"
    },
    {
     "data": {
      "application/vnd.jupyter.widget-view+json": {
       "model_id": "72b618a5bdc14b929d87312931418ddc",
       "version_major": 2,
       "version_minor": 0
      },
      "text/plain": [
       "IntProgress(value=0, description='mvg_8', max=7)"
      ]
     },
     "metadata": {},
     "output_type": "display_data"
    },
    {
     "name": "stdout",
     "output_type": "stream",
     "text": [
      "Warning: skipping session with too few trials 34\n"
     ]
    },
    {
     "data": {
      "application/vnd.jupyter.widget-view+json": {
       "model_id": "b0089eb9b9434fe699f1fe3d97348614",
       "version_major": 2,
       "version_minor": 0
      },
      "text/plain": [
       "IntProgress(value=0, description='mvg_8', max=7)"
      ]
     },
     "metadata": {},
     "output_type": "display_data"
    },
    {
     "name": "stdout",
     "output_type": "stream",
     "text": [
      "Warning: skipping session with too few trials 37\n",
      "Warning: skipping session with too few trials 49\n",
      "Warning: skipping session with too few trials 25\n"
     ]
    },
    {
     "data": {
      "application/vnd.jupyter.widget-view+json": {
       "model_id": "a81e73aa44cf445b8dbe39652829c9b7",
       "version_major": 2,
       "version_minor": 0
      },
      "text/plain": [
       "IntProgress(value=0, description='mvg_8', max=7)"
      ]
     },
     "metadata": {},
     "output_type": "display_data"
    },
    {
     "name": "stdout",
     "output_type": "stream",
     "text": [
      "Warning: skipping session with too few trials 44\n",
      "Warning: skipping session with too few trials 41\n",
      "Warning: skipping session with too few trials 38\n"
     ]
    },
    {
     "data": {
      "application/vnd.jupyter.widget-view+json": {
       "model_id": "de552c5c5e42486f94fd2d3760651166",
       "version_major": 2,
       "version_minor": 0
      },
      "text/plain": [
       "IntProgress(value=0, description='mvg_8', max=7)"
      ]
     },
     "metadata": {},
     "output_type": "display_data"
    },
    {
     "name": "stdout",
     "output_type": "stream",
     "text": [
      "Warning: skipping session with too few trials 11\n",
      "Warning: skipping session with too few trials 4\n",
      "Warning: skipping session with too few trials 30\n",
      "Warning: skipping session with too few trials 21\n"
     ]
    },
    {
     "data": {
      "application/vnd.jupyter.widget-view+json": {
       "model_id": "6b16961aa14649fd886ae608a31c7176",
       "version_major": 2,
       "version_minor": 0
      },
      "text/plain": [
       "IntProgress(value=0, description='mvg_8', max=9)"
      ]
     },
     "metadata": {},
     "output_type": "display_data"
    },
    {
     "data": {
      "application/vnd.jupyter.widget-view+json": {
       "model_id": "05c02ff585b94dd28ba1c0c1c03b5335",
       "version_major": 2,
       "version_minor": 0
      },
      "text/plain": [
       "IntProgress(value=0, description='mvg_8', max=9)"
      ]
     },
     "metadata": {},
     "output_type": "display_data"
    },
    {
     "name": "stdout",
     "output_type": "stream",
     "text": [
      "Warning: skipping session with too few trials 23\n",
      "Warning: skipping session with too few trials 36\n",
      "Warning: skipping session with too few trials 10\n",
      "Warning: skipping session with too few trials 6\n",
      "Warning: skipping session with too few trials 4\n",
      "Warning: skipping session with too few trials 15\n",
      "Warning: skipping session with too few trials 31\n",
      "Warning: skipping session with too few trials 38\n",
      "Warning: skipping session with too few trials 6\n",
      "Warning, all sessions had too few trials, this mouse is skipped\n"
     ]
    },
    {
     "data": {
      "application/vnd.jupyter.widget-view+json": {
       "model_id": "739f8514983a4b20b0411670d2b4cb7c",
       "version_major": 2,
       "version_minor": 0
      },
      "text/plain": [
       "IntProgress(value=0, description='mvg_8', max=9)"
      ]
     },
     "metadata": {},
     "output_type": "display_data"
    },
    {
     "name": "stdout",
     "output_type": "stream",
     "text": [
      "Warning: skipping session with too few trials 26\n",
      "Warning: skipping session with too few trials 8\n",
      "Warning: skipping session with too few trials 2\n",
      "Warning: skipping session with too few trials 33\n",
      "Warning: skipping session with too few trials 14\n",
      "Warning: skipping session with too few trials 2\n",
      "Warning: skipping session with too few trials 12\n",
      "Warning: skipping session with too few trials 17\n"
     ]
    },
    {
     "data": {
      "application/vnd.jupyter.widget-view+json": {
       "model_id": "b11288391e8d4431ae3775afe7653a8b",
       "version_major": 2,
       "version_minor": 0
      },
      "text/plain": [
       "IntProgress(value=0, description='mvg_8', max=9)"
      ]
     },
     "metadata": {},
     "output_type": "display_data"
    },
    {
     "data": {
      "application/vnd.jupyter.widget-view+json": {
       "model_id": "8620674be9c44abfb9b4f6d1e24aa560",
       "version_major": 2,
       "version_minor": 0
      },
      "text/plain": [
       "IntProgress(value=0, description='mvg_8', max=9)"
      ]
     },
     "metadata": {},
     "output_type": "display_data"
    },
    {
     "data": {
      "application/vnd.jupyter.widget-view+json": {
       "model_id": "75489f82d69443b5902d1bd63046b4cb",
       "version_major": 2,
       "version_minor": 0
      },
      "text/plain": [
       "IntProgress(value=0, description='mvg_8', max=16)"
      ]
     },
     "metadata": {},
     "output_type": "display_data"
    },
    {
     "data": {
      "application/vnd.jupyter.widget-view+json": {
       "model_id": "f5131135984343868c5d9c21ee34d845",
       "version_major": 2,
       "version_minor": 0
      },
      "text/plain": [
       "IntProgress(value=0, description='mvg_8', max=16)"
      ]
     },
     "metadata": {},
     "output_type": "display_data"
    },
    {
     "name": "stdout",
     "output_type": "stream",
     "text": [
      "Warning: skipping session with too few trials 34\n",
      "Warning: skipping session with too few trials 23\n",
      "Warning: skipping session with too few trials 36\n",
      "Warning: skipping session with too few trials 10\n",
      "Warning: skipping session with too few trials 6\n",
      "Warning: skipping session with too few trials 4\n",
      "Warning: skipping session with too few trials 15\n",
      "Warning: skipping session with too few trials 31\n",
      "Warning: skipping session with too few trials 38\n",
      "Warning: skipping session with too few trials 6\n"
     ]
    },
    {
     "data": {
      "application/vnd.jupyter.widget-view+json": {
       "model_id": "b75d05a40ae14decb01ba289e1fa3c81",
       "version_major": 2,
       "version_minor": 0
      },
      "text/plain": [
       "IntProgress(value=0, description='mvg_8', max=16)"
      ]
     },
     "metadata": {},
     "output_type": "display_data"
    },
    {
     "name": "stdout",
     "output_type": "stream",
     "text": [
      "Warning: skipping session with too few trials 37\n",
      "Warning: skipping session with too few trials 49\n",
      "Warning: skipping session with too few trials 25\n",
      "Warning: skipping session with too few trials 26\n",
      "Warning: skipping session with too few trials 8\n",
      "Warning: skipping session with too few trials 2\n",
      "Warning: skipping session with too few trials 33\n",
      "Warning: skipping session with too few trials 14\n",
      "Warning: skipping session with too few trials 2\n",
      "Warning: skipping session with too few trials 12\n",
      "Warning: skipping session with too few trials 17\n"
     ]
    },
    {
     "data": {
      "application/vnd.jupyter.widget-view+json": {
       "model_id": "228094a3816c4a1d999abe2ea2234d7e",
       "version_major": 2,
       "version_minor": 0
      },
      "text/plain": [
       "IntProgress(value=0, description='mvg_8', max=16)"
      ]
     },
     "metadata": {},
     "output_type": "display_data"
    },
    {
     "name": "stdout",
     "output_type": "stream",
     "text": [
      "Warning: skipping session with too few trials 44\n",
      "Warning: skipping session with too few trials 41\n",
      "Warning: skipping session with too few trials 38\n"
     ]
    },
    {
     "data": {
      "application/vnd.jupyter.widget-view+json": {
       "model_id": "2bd1018136b64ab3a376e842e6451e98",
       "version_major": 2,
       "version_minor": 0
      },
      "text/plain": [
       "IntProgress(value=0, description='mvg_8', max=16)"
      ]
     },
     "metadata": {},
     "output_type": "display_data"
    },
    {
     "name": "stdout",
     "output_type": "stream",
     "text": [
      "Warning: skipping session with too few trials 11\n",
      "Warning: skipping session with too few trials 4\n",
      "Warning: skipping session with too few trials 30\n",
      "Warning: skipping session with too few trials 21\n"
     ]
    },
    {
     "data": {
      "application/vnd.jupyter.widget-view+json": {
       "model_id": "8edb4e171a134ec9844a30d1cd0fcee4",
       "version_major": 2,
       "version_minor": 0
      },
      "text/plain": [
       "IntProgress(value=0, description='mvg_8', max=7)"
      ]
     },
     "metadata": {},
     "output_type": "display_data"
    },
    {
     "data": {
      "application/vnd.jupyter.widget-view+json": {
       "model_id": "1b0f9a9f2ef948999f5ac2db26fe67d4",
       "version_major": 2,
       "version_minor": 0
      },
      "text/plain": [
       "IntProgress(value=0, description='mvg_8', max=7)"
      ]
     },
     "metadata": {},
     "output_type": "display_data"
    },
    {
     "name": "stdout",
     "output_type": "stream",
     "text": [
      "Warning: skipping session with too few trials 34\n"
     ]
    },
    {
     "data": {
      "application/vnd.jupyter.widget-view+json": {
       "model_id": "9bfa46f2b66e49aeb1d044b210ec3dee",
       "version_major": 2,
       "version_minor": 0
      },
      "text/plain": [
       "IntProgress(value=0, description='mvg_8', max=7)"
      ]
     },
     "metadata": {},
     "output_type": "display_data"
    },
    {
     "name": "stdout",
     "output_type": "stream",
     "text": [
      "Warning: skipping session with too few trials 37\n",
      "Warning: skipping session with too few trials 49\n",
      "Warning: skipping session with too few trials 25\n"
     ]
    },
    {
     "data": {
      "application/vnd.jupyter.widget-view+json": {
       "model_id": "cee5c0d8896248f1962d9607b7a30f10",
       "version_major": 2,
       "version_minor": 0
      },
      "text/plain": [
       "IntProgress(value=0, description='mvg_8', max=7)"
      ]
     },
     "metadata": {},
     "output_type": "display_data"
    },
    {
     "name": "stdout",
     "output_type": "stream",
     "text": [
      "Warning: skipping session with too few trials 44\n",
      "Warning: skipping session with too few trials 41\n",
      "Warning: skipping session with too few trials 38\n"
     ]
    },
    {
     "data": {
      "application/vnd.jupyter.widget-view+json": {
       "model_id": "4c374cd5cc6a4a4ab9c74c093cd521f7",
       "version_major": 2,
       "version_minor": 0
      },
      "text/plain": [
       "IntProgress(value=0, description='mvg_8', max=7)"
      ]
     },
     "metadata": {},
     "output_type": "display_data"
    },
    {
     "name": "stdout",
     "output_type": "stream",
     "text": [
      "Warning: skipping session with too few trials 11\n",
      "Warning: skipping session with too few trials 4\n",
      "Warning: skipping session with too few trials 30\n",
      "Warning: skipping session with too few trials 21\n"
     ]
    },
    {
     "data": {
      "application/vnd.jupyter.widget-view+json": {
       "model_id": "2d72fae6328849caaaa496e725fb5914",
       "version_major": 2,
       "version_minor": 0
      },
      "text/plain": [
       "IntProgress(value=0, description='mvg_8', max=9)"
      ]
     },
     "metadata": {},
     "output_type": "display_data"
    },
    {
     "data": {
      "application/vnd.jupyter.widget-view+json": {
       "model_id": "5278f4b45ab4449caf83e1be532d2624",
       "version_major": 2,
       "version_minor": 0
      },
      "text/plain": [
       "IntProgress(value=0, description='mvg_8', max=9)"
      ]
     },
     "metadata": {},
     "output_type": "display_data"
    },
    {
     "name": "stdout",
     "output_type": "stream",
     "text": [
      "Warning: skipping session with too few trials 23\n",
      "Warning: skipping session with too few trials 36\n",
      "Warning: skipping session with too few trials 10\n",
      "Warning: skipping session with too few trials 6\n",
      "Warning: skipping session with too few trials 4\n",
      "Warning: skipping session with too few trials 15\n",
      "Warning: skipping session with too few trials 31\n",
      "Warning: skipping session with too few trials 38\n",
      "Warning: skipping session with too few trials 6\n",
      "Warning, all sessions had too few trials, this mouse is skipped\n"
     ]
    },
    {
     "data": {
      "application/vnd.jupyter.widget-view+json": {
       "model_id": "63193d27887f42e89a6bb5e22e68ffbe",
       "version_major": 2,
       "version_minor": 0
      },
      "text/plain": [
       "IntProgress(value=0, description='mvg_8', max=9)"
      ]
     },
     "metadata": {},
     "output_type": "display_data"
    },
    {
     "name": "stdout",
     "output_type": "stream",
     "text": [
      "Warning: skipping session with too few trials 26\n",
      "Warning: skipping session with too few trials 8\n",
      "Warning: skipping session with too few trials 2\n",
      "Warning: skipping session with too few trials 33\n",
      "Warning: skipping session with too few trials 14\n",
      "Warning: skipping session with too few trials 2\n",
      "Warning: skipping session with too few trials 12\n",
      "Warning: skipping session with too few trials 17\n"
     ]
    },
    {
     "data": {
      "application/vnd.jupyter.widget-view+json": {
       "model_id": "f7be8c1defab4770b9a3671f2f1ac19b",
       "version_major": 2,
       "version_minor": 0
      },
      "text/plain": [
       "IntProgress(value=0, description='mvg_8', max=9)"
      ]
     },
     "metadata": {},
     "output_type": "display_data"
    },
    {
     "data": {
      "application/vnd.jupyter.widget-view+json": {
       "model_id": "0b898ccef3bc4fd4a17decf6af3b4bb9",
       "version_major": 2,
       "version_minor": 0
      },
      "text/plain": [
       "IntProgress(value=0, description='mvg_8', max=9)"
      ]
     },
     "metadata": {},
     "output_type": "display_data"
    },
    {
     "data": {
      "application/vnd.jupyter.widget-view+json": {
       "model_id": "c9c65cd1fa674e7cbbb2114d448d1ca0",
       "version_major": 2,
       "version_minor": 0
      },
      "text/plain": [
       "IntProgress(value=0, description='mvg_4', max=11)"
      ]
     },
     "metadata": {},
     "output_type": "display_data"
    },
    {
     "data": {
      "application/vnd.jupyter.widget-view+json": {
       "model_id": "e0cabefcffdd4eafadd4f110118f8ff3",
       "version_major": 2,
       "version_minor": 0
      },
      "text/plain": [
       "IntProgress(value=0, description='mvg_4', max=11)"
      ]
     },
     "metadata": {},
     "output_type": "display_data"
    },
    {
     "name": "stdout",
     "output_type": "stream",
     "text": [
      "Warning: skipping session with too few trials 40\n",
      "Warning: skipping session with too few trials 27\n",
      "Warning: skipping session with too few trials 34\n",
      "Warning: skipping session with too few trials 42\n"
     ]
    },
    {
     "data": {
      "application/vnd.jupyter.widget-view+json": {
       "model_id": "3f522d54df8c4dde826282544e6a9e1c",
       "version_major": 2,
       "version_minor": 0
      },
      "text/plain": [
       "IntProgress(value=0, description='mvg_4', max=11)"
      ]
     },
     "metadata": {},
     "output_type": "display_data"
    },
    {
     "name": "stdout",
     "output_type": "stream",
     "text": [
      "Warning: skipping session with too few trials 23\n",
      "Warning: skipping session with too few trials 45\n",
      "Warning: skipping session with too few trials 6\n",
      "Warning: skipping session with too few trials 5\n",
      "Warning: skipping session with too few trials 25\n",
      "Warning: skipping session with too few trials 15\n",
      "Warning: skipping session with too few trials 10\n",
      "Warning: skipping session with too few trials 38\n",
      "Warning: skipping session with too few trials 34\n",
      "Warning: skipping session with too few trials 16\n"
     ]
    },
    {
     "data": {
      "application/vnd.jupyter.widget-view+json": {
       "model_id": "e9b237a508b64b109cd0f7e7cf726807",
       "version_major": 2,
       "version_minor": 0
      },
      "text/plain": [
       "IntProgress(value=0, description='mvg_4', max=11)"
      ]
     },
     "metadata": {},
     "output_type": "display_data"
    },
    {
     "data": {
      "application/vnd.jupyter.widget-view+json": {
       "model_id": "b474286788214f4f8cfedf00e398ab30",
       "version_major": 2,
       "version_minor": 0
      },
      "text/plain": [
       "IntProgress(value=0, description='mvg_4', max=11)"
      ]
     },
     "metadata": {},
     "output_type": "display_data"
    },
    {
     "data": {
      "application/vnd.jupyter.widget-view+json": {
       "model_id": "846f7730d87047088cfe4fdc74620e9f",
       "version_major": 2,
       "version_minor": 0
      },
      "text/plain": [
       "IntProgress(value=0, description='mvg_4', max=5)"
      ]
     },
     "metadata": {},
     "output_type": "display_data"
    },
    {
     "data": {
      "application/vnd.jupyter.widget-view+json": {
       "model_id": "914631c8505c46bdac328a68bc52f702",
       "version_major": 2,
       "version_minor": 0
      },
      "text/plain": [
       "IntProgress(value=0, description='mvg_4', max=5)"
      ]
     },
     "metadata": {},
     "output_type": "display_data"
    },
    {
     "data": {
      "application/vnd.jupyter.widget-view+json": {
       "model_id": "dd06724472934ed390e583b58b88a202",
       "version_major": 2,
       "version_minor": 0
      },
      "text/plain": [
       "IntProgress(value=0, description='mvg_4', max=5)"
      ]
     },
     "metadata": {},
     "output_type": "display_data"
    },
    {
     "name": "stdout",
     "output_type": "stream",
     "text": [
      "Warning: skipping session with too few trials 23\n",
      "Warning: skipping session with too few trials 45\n",
      "Warning: skipping session with too few trials 6\n",
      "Warning: skipping session with too few trials 5\n"
     ]
    },
    {
     "data": {
      "application/vnd.jupyter.widget-view+json": {
       "model_id": "88e174c99a22417b933b54ef948a5eec",
       "version_major": 2,
       "version_minor": 0
      },
      "text/plain": [
       "IntProgress(value=0, description='mvg_4', max=5)"
      ]
     },
     "metadata": {},
     "output_type": "display_data"
    },
    {
     "data": {
      "application/vnd.jupyter.widget-view+json": {
       "model_id": "5e512bc3d4a84a59a548ce5371c6e88f",
       "version_major": 2,
       "version_minor": 0
      },
      "text/plain": [
       "IntProgress(value=0, description='mvg_4', max=5)"
      ]
     },
     "metadata": {},
     "output_type": "display_data"
    },
    {
     "data": {
      "application/vnd.jupyter.widget-view+json": {
       "model_id": "ca2996537ef14605be0543d12e2a3da2",
       "version_major": 2,
       "version_minor": 0
      },
      "text/plain": [
       "IntProgress(value=0, description='mvg_4', max=6)"
      ]
     },
     "metadata": {},
     "output_type": "display_data"
    },
    {
     "data": {
      "application/vnd.jupyter.widget-view+json": {
       "model_id": "b61963c37ca34fd2a47ce7e27c95e617",
       "version_major": 2,
       "version_minor": 0
      },
      "text/plain": [
       "IntProgress(value=0, description='mvg_4', max=6)"
      ]
     },
     "metadata": {},
     "output_type": "display_data"
    },
    {
     "name": "stdout",
     "output_type": "stream",
     "text": [
      "Warning: skipping session with too few trials 40\n",
      "Warning: skipping session with too few trials 27\n",
      "Warning: skipping session with too few trials 34\n",
      "Warning: skipping session with too few trials 42\n"
     ]
    },
    {
     "data": {
      "application/vnd.jupyter.widget-view+json": {
       "model_id": "8a3273e6c043496490b4ca2b208b0e0e",
       "version_major": 2,
       "version_minor": 0
      },
      "text/plain": [
       "IntProgress(value=0, description='mvg_4', max=6)"
      ]
     },
     "metadata": {},
     "output_type": "display_data"
    },
    {
     "name": "stdout",
     "output_type": "stream",
     "text": [
      "Warning: skipping session with too few trials 25\n",
      "Warning: skipping session with too few trials 15\n",
      "Warning: skipping session with too few trials 10\n",
      "Warning: skipping session with too few trials 38\n",
      "Warning: skipping session with too few trials 34\n",
      "Warning: skipping session with too few trials 16\n",
      "Warning, all sessions had too few trials, this mouse is skipped\n"
     ]
    },
    {
     "data": {
      "application/vnd.jupyter.widget-view+json": {
       "model_id": "3525510df7a84ea5b9e1c7d42e33e449",
       "version_major": 2,
       "version_minor": 0
      },
      "text/plain": [
       "IntProgress(value=0, description='mvg_4', max=6)"
      ]
     },
     "metadata": {},
     "output_type": "display_data"
    },
    {
     "data": {
      "application/vnd.jupyter.widget-view+json": {
       "model_id": "b253ebd537544e329ca2439bd638763e",
       "version_major": 2,
       "version_minor": 0
      },
      "text/plain": [
       "IntProgress(value=0, description='mvg_4', max=6)"
      ]
     },
     "metadata": {},
     "output_type": "display_data"
    },
    {
     "data": {
      "application/vnd.jupyter.widget-view+json": {
       "model_id": "c0cad09733974369a2b49a4c352b065a",
       "version_major": 2,
       "version_minor": 0
      },
      "text/plain": [
       "IntProgress(value=0, description='mvg_4', max=11)"
      ]
     },
     "metadata": {},
     "output_type": "display_data"
    },
    {
     "data": {
      "application/vnd.jupyter.widget-view+json": {
       "model_id": "fc95ecbbf3254d06aaacaf0f358f9334",
       "version_major": 2,
       "version_minor": 0
      },
      "text/plain": [
       "IntProgress(value=0, description='mvg_4', max=11)"
      ]
     },
     "metadata": {},
     "output_type": "display_data"
    },
    {
     "name": "stdout",
     "output_type": "stream",
     "text": [
      "Warning: skipping session with too few trials 40\n",
      "Warning: skipping session with too few trials 27\n",
      "Warning: skipping session with too few trials 34\n",
      "Warning: skipping session with too few trials 42\n"
     ]
    },
    {
     "data": {
      "application/vnd.jupyter.widget-view+json": {
       "model_id": "2a4dc2dd2ad34539ac2022f9e821204c",
       "version_major": 2,
       "version_minor": 0
      },
      "text/plain": [
       "IntProgress(value=0, description='mvg_4', max=11)"
      ]
     },
     "metadata": {},
     "output_type": "display_data"
    },
    {
     "name": "stdout",
     "output_type": "stream",
     "text": [
      "Warning: skipping session with too few trials 23\n",
      "Warning: skipping session with too few trials 45\n",
      "Warning: skipping session with too few trials 6\n",
      "Warning: skipping session with too few trials 5\n",
      "Warning: skipping session with too few trials 25\n",
      "Warning: skipping session with too few trials 15\n",
      "Warning: skipping session with too few trials 10\n",
      "Warning: skipping session with too few trials 38\n",
      "Warning: skipping session with too few trials 34\n",
      "Warning: skipping session with too few trials 16\n"
     ]
    },
    {
     "data": {
      "application/vnd.jupyter.widget-view+json": {
       "model_id": "896f3bebc2eb47dd9bf902c1b9358341",
       "version_major": 2,
       "version_minor": 0
      },
      "text/plain": [
       "IntProgress(value=0, description='mvg_4', max=11)"
      ]
     },
     "metadata": {},
     "output_type": "display_data"
    },
    {
     "data": {
      "application/vnd.jupyter.widget-view+json": {
       "model_id": "96941c06b22b45e098cd870ccfa459c1",
       "version_major": 2,
       "version_minor": 0
      },
      "text/plain": [
       "IntProgress(value=0, description='mvg_4', max=11)"
      ]
     },
     "metadata": {},
     "output_type": "display_data"
    },
    {
     "data": {
      "application/vnd.jupyter.widget-view+json": {
       "model_id": "cf94146bf8ff41af99d079060921e548",
       "version_major": 2,
       "version_minor": 0
      },
      "text/plain": [
       "IntProgress(value=0, description='mvg_4', max=5)"
      ]
     },
     "metadata": {},
     "output_type": "display_data"
    },
    {
     "data": {
      "application/vnd.jupyter.widget-view+json": {
       "model_id": "0127ed7e9d6b484e97514894eb6894e4",
       "version_major": 2,
       "version_minor": 0
      },
      "text/plain": [
       "IntProgress(value=0, description='mvg_4', max=5)"
      ]
     },
     "metadata": {},
     "output_type": "display_data"
    },
    {
     "data": {
      "application/vnd.jupyter.widget-view+json": {
       "model_id": "d432b91f747f435aba40b044856a4c1a",
       "version_major": 2,
       "version_minor": 0
      },
      "text/plain": [
       "IntProgress(value=0, description='mvg_4', max=5)"
      ]
     },
     "metadata": {},
     "output_type": "display_data"
    },
    {
     "name": "stdout",
     "output_type": "stream",
     "text": [
      "Warning: skipping session with too few trials 23\n",
      "Warning: skipping session with too few trials 45\n",
      "Warning: skipping session with too few trials 6\n",
      "Warning: skipping session with too few trials 5\n"
     ]
    },
    {
     "data": {
      "application/vnd.jupyter.widget-view+json": {
       "model_id": "5e4826a4448d44698f7092f0c32e2756",
       "version_major": 2,
       "version_minor": 0
      },
      "text/plain": [
       "IntProgress(value=0, description='mvg_4', max=5)"
      ]
     },
     "metadata": {},
     "output_type": "display_data"
    },
    {
     "data": {
      "application/vnd.jupyter.widget-view+json": {
       "model_id": "ddc45b46719142e686c6791fca564245",
       "version_major": 2,
       "version_minor": 0
      },
      "text/plain": [
       "IntProgress(value=0, description='mvg_4', max=5)"
      ]
     },
     "metadata": {},
     "output_type": "display_data"
    },
    {
     "data": {
      "application/vnd.jupyter.widget-view+json": {
       "model_id": "6a12274df0cb4fd8a1da33a3039f0e4b",
       "version_major": 2,
       "version_minor": 0
      },
      "text/plain": [
       "IntProgress(value=0, description='mvg_4', max=6)"
      ]
     },
     "metadata": {},
     "output_type": "display_data"
    },
    {
     "data": {
      "application/vnd.jupyter.widget-view+json": {
       "model_id": "7da4a22d7fdc4a769106dc71d1d858a3",
       "version_major": 2,
       "version_minor": 0
      },
      "text/plain": [
       "IntProgress(value=0, description='mvg_4', max=6)"
      ]
     },
     "metadata": {},
     "output_type": "display_data"
    },
    {
     "name": "stdout",
     "output_type": "stream",
     "text": [
      "Warning: skipping session with too few trials 40\n",
      "Warning: skipping session with too few trials 27\n",
      "Warning: skipping session with too few trials 34\n",
      "Warning: skipping session with too few trials 42\n"
     ]
    },
    {
     "data": {
      "application/vnd.jupyter.widget-view+json": {
       "model_id": "e21b9b3130304ee595828ffcc50bc297",
       "version_major": 2,
       "version_minor": 0
      },
      "text/plain": [
       "IntProgress(value=0, description='mvg_4', max=6)"
      ]
     },
     "metadata": {},
     "output_type": "display_data"
    },
    {
     "name": "stdout",
     "output_type": "stream",
     "text": [
      "Warning: skipping session with too few trials 25\n",
      "Warning: skipping session with too few trials 15\n",
      "Warning: skipping session with too few trials 10\n",
      "Warning: skipping session with too few trials 38\n",
      "Warning: skipping session with too few trials 34\n",
      "Warning: skipping session with too few trials 16\n",
      "Warning, all sessions had too few trials, this mouse is skipped\n"
     ]
    },
    {
     "data": {
      "application/vnd.jupyter.widget-view+json": {
       "model_id": "aac53c6e833a4dad9378b71e664e9950",
       "version_major": 2,
       "version_minor": 0
      },
      "text/plain": [
       "IntProgress(value=0, description='mvg_4', max=6)"
      ]
     },
     "metadata": {},
     "output_type": "display_data"
    },
    {
     "data": {
      "application/vnd.jupyter.widget-view+json": {
       "model_id": "081859b98dc143e885aa28a3ec5197a9",
       "version_major": 2,
       "version_minor": 0
      },
      "text/plain": [
       "IntProgress(value=0, description='mvg_4', max=6)"
      ]
     },
     "metadata": {},
     "output_type": "display_data"
    },
    {
     "data": {
      "application/vnd.jupyter.widget-view+json": {
       "model_id": "004efb0ceb164578bfd9bc96b4665652",
       "version_major": 2,
       "version_minor": 0
      },
      "text/plain": [
       "IntProgress(value=0, description='mvg_4', max=11)"
      ]
     },
     "metadata": {},
     "output_type": "display_data"
    },
    {
     "data": {
      "application/vnd.jupyter.widget-view+json": {
       "model_id": "90a1ced6f077453e83d99e47e8885c87",
       "version_major": 2,
       "version_minor": 0
      },
      "text/plain": [
       "IntProgress(value=0, description='mvg_4', max=11)"
      ]
     },
     "metadata": {},
     "output_type": "display_data"
    },
    {
     "name": "stdout",
     "output_type": "stream",
     "text": [
      "Warning: skipping session with too few trials 40\n",
      "Warning: skipping session with too few trials 27\n",
      "Warning: skipping session with too few trials 34\n",
      "Warning: skipping session with too few trials 42\n"
     ]
    },
    {
     "data": {
      "application/vnd.jupyter.widget-view+json": {
       "model_id": "f0b86c1298af4621873b7566597d62e6",
       "version_major": 2,
       "version_minor": 0
      },
      "text/plain": [
       "IntProgress(value=0, description='mvg_4', max=11)"
      ]
     },
     "metadata": {},
     "output_type": "display_data"
    },
    {
     "name": "stdout",
     "output_type": "stream",
     "text": [
      "Warning: skipping session with too few trials 23\n",
      "Warning: skipping session with too few trials 45\n",
      "Warning: skipping session with too few trials 6\n",
      "Warning: skipping session with too few trials 5\n",
      "Warning: skipping session with too few trials 25\n",
      "Warning: skipping session with too few trials 15\n",
      "Warning: skipping session with too few trials 10\n",
      "Warning: skipping session with too few trials 38\n",
      "Warning: skipping session with too few trials 34\n",
      "Warning: skipping session with too few trials 16\n"
     ]
    },
    {
     "data": {
      "application/vnd.jupyter.widget-view+json": {
       "model_id": "c75445073463421da1e679262305c960",
       "version_major": 2,
       "version_minor": 0
      },
      "text/plain": [
       "IntProgress(value=0, description='mvg_4', max=11)"
      ]
     },
     "metadata": {},
     "output_type": "display_data"
    },
    {
     "data": {
      "application/vnd.jupyter.widget-view+json": {
       "model_id": "53cf3e37e87649a2b339ef4a0e8cfa44",
       "version_major": 2,
       "version_minor": 0
      },
      "text/plain": [
       "IntProgress(value=0, description='mvg_4', max=11)"
      ]
     },
     "metadata": {},
     "output_type": "display_data"
    },
    {
     "data": {
      "application/vnd.jupyter.widget-view+json": {
       "model_id": "ee02ab9457ef4335898ae8e0264a56e3",
       "version_major": 2,
       "version_minor": 0
      },
      "text/plain": [
       "IntProgress(value=0, description='mvg_4', max=5)"
      ]
     },
     "metadata": {},
     "output_type": "display_data"
    },
    {
     "data": {
      "application/vnd.jupyter.widget-view+json": {
       "model_id": "97e8124c0df14b918c9d1fda882f0d20",
       "version_major": 2,
       "version_minor": 0
      },
      "text/plain": [
       "IntProgress(value=0, description='mvg_4', max=5)"
      ]
     },
     "metadata": {},
     "output_type": "display_data"
    },
    {
     "data": {
      "application/vnd.jupyter.widget-view+json": {
       "model_id": "39d15125bc654127a61e78d3f6b98e29",
       "version_major": 2,
       "version_minor": 0
      },
      "text/plain": [
       "IntProgress(value=0, description='mvg_4', max=5)"
      ]
     },
     "metadata": {},
     "output_type": "display_data"
    },
    {
     "name": "stdout",
     "output_type": "stream",
     "text": [
      "Warning: skipping session with too few trials 23\n",
      "Warning: skipping session with too few trials 45\n",
      "Warning: skipping session with too few trials 6\n",
      "Warning: skipping session with too few trials 5\n"
     ]
    },
    {
     "data": {
      "application/vnd.jupyter.widget-view+json": {
       "model_id": "0f881d29f3c84de3beca5e414b1c978f",
       "version_major": 2,
       "version_minor": 0
      },
      "text/plain": [
       "IntProgress(value=0, description='mvg_4', max=5)"
      ]
     },
     "metadata": {},
     "output_type": "display_data"
    },
    {
     "data": {
      "application/vnd.jupyter.widget-view+json": {
       "model_id": "d590c36e2dbd4fdbb612b5587dd3913e",
       "version_major": 2,
       "version_minor": 0
      },
      "text/plain": [
       "IntProgress(value=0, description='mvg_4', max=5)"
      ]
     },
     "metadata": {},
     "output_type": "display_data"
    },
    {
     "data": {
      "application/vnd.jupyter.widget-view+json": {
       "model_id": "a7554a3761f24fd2bf2711feb04c3880",
       "version_major": 2,
       "version_minor": 0
      },
      "text/plain": [
       "IntProgress(value=0, description='mvg_4', max=6)"
      ]
     },
     "metadata": {},
     "output_type": "display_data"
    },
    {
     "data": {
      "application/vnd.jupyter.widget-view+json": {
       "model_id": "04cc05754597484c984245758155e69b",
       "version_major": 2,
       "version_minor": 0
      },
      "text/plain": [
       "IntProgress(value=0, description='mvg_4', max=6)"
      ]
     },
     "metadata": {},
     "output_type": "display_data"
    },
    {
     "name": "stdout",
     "output_type": "stream",
     "text": [
      "Warning: skipping session with too few trials 40\n",
      "Warning: skipping session with too few trials 27\n",
      "Warning: skipping session with too few trials 34\n",
      "Warning: skipping session with too few trials 42\n"
     ]
    },
    {
     "data": {
      "application/vnd.jupyter.widget-view+json": {
       "model_id": "d0554ad3b8d24cecafa259b6377394c3",
       "version_major": 2,
       "version_minor": 0
      },
      "text/plain": [
       "IntProgress(value=0, description='mvg_4', max=6)"
      ]
     },
     "metadata": {},
     "output_type": "display_data"
    },
    {
     "name": "stdout",
     "output_type": "stream",
     "text": [
      "Warning: skipping session with too few trials 25\n",
      "Warning: skipping session with too few trials 15\n",
      "Warning: skipping session with too few trials 10\n",
      "Warning: skipping session with too few trials 38\n",
      "Warning: skipping session with too few trials 34\n",
      "Warning: skipping session with too few trials 16\n",
      "Warning, all sessions had too few trials, this mouse is skipped\n"
     ]
    },
    {
     "data": {
      "application/vnd.jupyter.widget-view+json": {
       "model_id": "47e77f32f2ff477bbc72d1722276f980",
       "version_major": 2,
       "version_minor": 0
      },
      "text/plain": [
       "IntProgress(value=0, description='mvg_4', max=6)"
      ]
     },
     "metadata": {},
     "output_type": "display_data"
    },
    {
     "data": {
      "application/vnd.jupyter.widget-view+json": {
       "model_id": "c5010e85a63842859499f595b26de134",
       "version_major": 2,
       "version_minor": 0
      },
      "text/plain": [
       "IntProgress(value=0, description='mvg_4', max=6)"
      ]
     },
     "metadata": {},
     "output_type": "display_data"
    },
    {
     "data": {
      "application/vnd.jupyter.widget-view+json": {
       "model_id": "5423fe2e8d95483983f3c83542136065",
       "version_major": 2,
       "version_minor": 0
      },
      "text/plain": [
       "IntProgress(value=0, description='mvg_7', max=18)"
      ]
     },
     "metadata": {},
     "output_type": "display_data"
    },
    {
     "data": {
      "application/vnd.jupyter.widget-view+json": {
       "model_id": "0e6f418859e84910a4b2f088aa90f43c",
       "version_major": 2,
       "version_minor": 0
      },
      "text/plain": [
       "IntProgress(value=0, description='mvg_7', max=18)"
      ]
     },
     "metadata": {},
     "output_type": "display_data"
    },
    {
     "name": "stdout",
     "output_type": "stream",
     "text": [
      "Warning: skipping session with too few trials 1\n",
      "Warning: skipping session with too few trials 0\n",
      "Warning: skipping session with too few trials 0\n",
      "Warning: skipping session with too few trials 43\n",
      "Warning: skipping session with too few trials 46\n",
      "Warning: skipping session with too few trials 17\n"
     ]
    },
    {
     "data": {
      "application/vnd.jupyter.widget-view+json": {
       "model_id": "a6124afad3e844079d43f767b32da5bf",
       "version_major": 2,
       "version_minor": 0
      },
      "text/plain": [
       "IntProgress(value=0, description='mvg_7', max=18)"
      ]
     },
     "metadata": {},
     "output_type": "display_data"
    },
    {
     "name": "stdout",
     "output_type": "stream",
     "text": [
      "Warning: skipping session with too few trials 35\n",
      "Warning: skipping session with too few trials 46\n",
      "Warning: skipping session with too few trials 38\n",
      "Warning: skipping session with too few trials 20\n",
      "Warning: skipping session with too few trials 49\n"
     ]
    },
    {
     "data": {
      "application/vnd.jupyter.widget-view+json": {
       "model_id": "bc7230b5064f43458aed78fd159a4add",
       "version_major": 2,
       "version_minor": 0
      },
      "text/plain": [
       "IntProgress(value=0, description='mvg_7', max=18)"
      ]
     },
     "metadata": {},
     "output_type": "display_data"
    },
    {
     "name": "stdout",
     "output_type": "stream",
     "text": [
      "Warning: skipping session with too few trials 3\n",
      "Warning: skipping session with too few trials 13\n",
      "Warning: skipping session with too few trials 13\n"
     ]
    },
    {
     "data": {
      "application/vnd.jupyter.widget-view+json": {
       "model_id": "51e42c6a43c84df99a952b821516c715",
       "version_major": 2,
       "version_minor": 0
      },
      "text/plain": [
       "IntProgress(value=0, description='mvg_7', max=18)"
      ]
     },
     "metadata": {},
     "output_type": "display_data"
    },
    {
     "name": "stdout",
     "output_type": "stream",
     "text": [
      "Warning: skipping session with too few trials 0\n",
      "Warning: skipping session with too few trials 0\n",
      "Warning: skipping session with too few trials 0\n",
      "Warning: skipping session with too few trials 31\n"
     ]
    },
    {
     "data": {
      "application/vnd.jupyter.widget-view+json": {
       "model_id": "65e3d6fece8f449c808277c955b5303e",
       "version_major": 2,
       "version_minor": 0
      },
      "text/plain": [
       "IntProgress(value=0, description='mvg_7', max=15)"
      ]
     },
     "metadata": {},
     "output_type": "display_data"
    },
    {
     "data": {
      "application/vnd.jupyter.widget-view+json": {
       "model_id": "a8244a889fe1486283ac7a81199bf73a",
       "version_major": 2,
       "version_minor": 0
      },
      "text/plain": [
       "IntProgress(value=0, description='mvg_7', max=15)"
      ]
     },
     "metadata": {},
     "output_type": "display_data"
    },
    {
     "name": "stdout",
     "output_type": "stream",
     "text": [
      "Warning: skipping session with too few trials 1\n",
      "Warning: skipping session with too few trials 0\n",
      "Warning: skipping session with too few trials 0\n",
      "Warning: skipping session with too few trials 43\n",
      "Warning: skipping session with too few trials 46\n"
     ]
    },
    {
     "data": {
      "application/vnd.jupyter.widget-view+json": {
       "model_id": "520631a080bc4f73b7233e7f993631fc",
       "version_major": 2,
       "version_minor": 0
      },
      "text/plain": [
       "IntProgress(value=0, description='mvg_7', max=15)"
      ]
     },
     "metadata": {},
     "output_type": "display_data"
    },
    {
     "name": "stdout",
     "output_type": "stream",
     "text": [
      "Warning: skipping session with too few trials 35\n",
      "Warning: skipping session with too few trials 46\n",
      "Warning: skipping session with too few trials 38\n"
     ]
    },
    {
     "data": {
      "application/vnd.jupyter.widget-view+json": {
       "model_id": "e962f61b4d9e40fe948a9fa8a2c1252f",
       "version_major": 2,
       "version_minor": 0
      },
      "text/plain": [
       "IntProgress(value=0, description='mvg_7', max=15)"
      ]
     },
     "metadata": {},
     "output_type": "display_data"
    },
    {
     "name": "stdout",
     "output_type": "stream",
     "text": [
      "Warning: skipping session with too few trials 3\n",
      "Warning: skipping session with too few trials 13\n",
      "Warning: skipping session with too few trials 13\n"
     ]
    },
    {
     "data": {
      "application/vnd.jupyter.widget-view+json": {
       "model_id": "980f9b875f7942c29c93a21116f611b0",
       "version_major": 2,
       "version_minor": 0
      },
      "text/plain": [
       "IntProgress(value=0, description='mvg_7', max=15)"
      ]
     },
     "metadata": {},
     "output_type": "display_data"
    },
    {
     "name": "stdout",
     "output_type": "stream",
     "text": [
      "Warning: skipping session with too few trials 0\n",
      "Warning: skipping session with too few trials 0\n",
      "Warning: skipping session with too few trials 0\n",
      "Warning: skipping session with too few trials 31\n"
     ]
    },
    {
     "data": {
      "application/vnd.jupyter.widget-view+json": {
       "model_id": "a4d5829f6a054594ad4be985aa7071a3",
       "version_major": 2,
       "version_minor": 0
      },
      "text/plain": [
       "IntProgress(value=0, description='mvg_7', max=3)"
      ]
     },
     "metadata": {},
     "output_type": "display_data"
    },
    {
     "data": {
      "application/vnd.jupyter.widget-view+json": {
       "model_id": "bb8645ab7e5844f790d105fa012f1bea",
       "version_major": 2,
       "version_minor": 0
      },
      "text/plain": [
       "IntProgress(value=0, description='mvg_7', max=3)"
      ]
     },
     "metadata": {},
     "output_type": "display_data"
    },
    {
     "name": "stdout",
     "output_type": "stream",
     "text": [
      "Warning: skipping session with too few trials 17\n"
     ]
    },
    {
     "data": {
      "application/vnd.jupyter.widget-view+json": {
       "model_id": "7a2b926a570c407caaa6cdd1db2dc368",
       "version_major": 2,
       "version_minor": 0
      },
      "text/plain": [
       "IntProgress(value=0, description='mvg_7', max=3)"
      ]
     },
     "metadata": {},
     "output_type": "display_data"
    },
    {
     "name": "stdout",
     "output_type": "stream",
     "text": [
      "Warning: skipping session with too few trials 20\n",
      "Warning: skipping session with too few trials 49\n"
     ]
    },
    {
     "data": {
      "application/vnd.jupyter.widget-view+json": {
       "model_id": "865fecb77630427b8d36e7b371c3df6a",
       "version_major": 2,
       "version_minor": 0
      },
      "text/plain": [
       "IntProgress(value=0, description='mvg_7', max=3)"
      ]
     },
     "metadata": {},
     "output_type": "display_data"
    },
    {
     "data": {
      "application/vnd.jupyter.widget-view+json": {
       "model_id": "68b7a1838c6e4af38a3a5ddc890d767e",
       "version_major": 2,
       "version_minor": 0
      },
      "text/plain": [
       "IntProgress(value=0, description='mvg_7', max=3)"
      ]
     },
     "metadata": {},
     "output_type": "display_data"
    },
    {
     "data": {
      "application/vnd.jupyter.widget-view+json": {
       "model_id": "c8ca4244b00944d88951f367480c7e5f",
       "version_major": 2,
       "version_minor": 0
      },
      "text/plain": [
       "IntProgress(value=0, description='mvg_7', max=18)"
      ]
     },
     "metadata": {},
     "output_type": "display_data"
    },
    {
     "data": {
      "application/vnd.jupyter.widget-view+json": {
       "model_id": "fde48ae8293b4ba5b875619cf98aa6dc",
       "version_major": 2,
       "version_minor": 0
      },
      "text/plain": [
       "IntProgress(value=0, description='mvg_7', max=18)"
      ]
     },
     "metadata": {},
     "output_type": "display_data"
    },
    {
     "name": "stdout",
     "output_type": "stream",
     "text": [
      "Warning: skipping session with too few trials 1\n",
      "Warning: skipping session with too few trials 0\n",
      "Warning: skipping session with too few trials 0\n",
      "Warning: skipping session with too few trials 43\n",
      "Warning: skipping session with too few trials 46\n",
      "Warning: skipping session with too few trials 17\n"
     ]
    },
    {
     "data": {
      "application/vnd.jupyter.widget-view+json": {
       "model_id": "639012866aeb48d9808ec9dfc4279476",
       "version_major": 2,
       "version_minor": 0
      },
      "text/plain": [
       "IntProgress(value=0, description='mvg_7', max=18)"
      ]
     },
     "metadata": {},
     "output_type": "display_data"
    },
    {
     "name": "stdout",
     "output_type": "stream",
     "text": [
      "Warning: skipping session with too few trials 35\n",
      "Warning: skipping session with too few trials 46\n",
      "Warning: skipping session with too few trials 38\n",
      "Warning: skipping session with too few trials 20\n",
      "Warning: skipping session with too few trials 49\n"
     ]
    },
    {
     "data": {
      "application/vnd.jupyter.widget-view+json": {
       "model_id": "f4af668f8ff04a58b8d3473dba5e6457",
       "version_major": 2,
       "version_minor": 0
      },
      "text/plain": [
       "IntProgress(value=0, description='mvg_7', max=18)"
      ]
     },
     "metadata": {},
     "output_type": "display_data"
    },
    {
     "name": "stdout",
     "output_type": "stream",
     "text": [
      "Warning: skipping session with too few trials 3\n",
      "Warning: skipping session with too few trials 13\n",
      "Warning: skipping session with too few trials 13\n"
     ]
    },
    {
     "data": {
      "application/vnd.jupyter.widget-view+json": {
       "model_id": "efeeb2a8e63c4b50bfedd8337cccfaa6",
       "version_major": 2,
       "version_minor": 0
      },
      "text/plain": [
       "IntProgress(value=0, description='mvg_7', max=18)"
      ]
     },
     "metadata": {},
     "output_type": "display_data"
    },
    {
     "name": "stdout",
     "output_type": "stream",
     "text": [
      "Warning: skipping session with too few trials 0\n",
      "Warning: skipping session with too few trials 0\n",
      "Warning: skipping session with too few trials 0\n",
      "Warning: skipping session with too few trials 31\n"
     ]
    },
    {
     "data": {
      "application/vnd.jupyter.widget-view+json": {
       "model_id": "6cc11b8931154c289757d8841daa4d79",
       "version_major": 2,
       "version_minor": 0
      },
      "text/plain": [
       "IntProgress(value=0, description='mvg_7', max=15)"
      ]
     },
     "metadata": {},
     "output_type": "display_data"
    },
    {
     "data": {
      "application/vnd.jupyter.widget-view+json": {
       "model_id": "acfee8186f3945a892a608de73202aab",
       "version_major": 2,
       "version_minor": 0
      },
      "text/plain": [
       "IntProgress(value=0, description='mvg_7', max=15)"
      ]
     },
     "metadata": {},
     "output_type": "display_data"
    },
    {
     "name": "stdout",
     "output_type": "stream",
     "text": [
      "Warning: skipping session with too few trials 1\n",
      "Warning: skipping session with too few trials 0\n",
      "Warning: skipping session with too few trials 0\n",
      "Warning: skipping session with too few trials 43\n",
      "Warning: skipping session with too few trials 46\n"
     ]
    },
    {
     "data": {
      "application/vnd.jupyter.widget-view+json": {
       "model_id": "34d05e575edd48359072f3964e479b6e",
       "version_major": 2,
       "version_minor": 0
      },
      "text/plain": [
       "IntProgress(value=0, description='mvg_7', max=15)"
      ]
     },
     "metadata": {},
     "output_type": "display_data"
    },
    {
     "name": "stdout",
     "output_type": "stream",
     "text": [
      "Warning: skipping session with too few trials 35\n",
      "Warning: skipping session with too few trials 46\n",
      "Warning: skipping session with too few trials 38\n"
     ]
    },
    {
     "data": {
      "application/vnd.jupyter.widget-view+json": {
       "model_id": "4448b439ccf84ed1871c69faaa97e435",
       "version_major": 2,
       "version_minor": 0
      },
      "text/plain": [
       "IntProgress(value=0, description='mvg_7', max=15)"
      ]
     },
     "metadata": {},
     "output_type": "display_data"
    },
    {
     "name": "stdout",
     "output_type": "stream",
     "text": [
      "Warning: skipping session with too few trials 3\n",
      "Warning: skipping session with too few trials 13\n",
      "Warning: skipping session with too few trials 13\n"
     ]
    },
    {
     "data": {
      "application/vnd.jupyter.widget-view+json": {
       "model_id": "1995d3029eaa4016b2a83ee17ca75c05",
       "version_major": 2,
       "version_minor": 0
      },
      "text/plain": [
       "IntProgress(value=0, description='mvg_7', max=15)"
      ]
     },
     "metadata": {},
     "output_type": "display_data"
    },
    {
     "name": "stdout",
     "output_type": "stream",
     "text": [
      "Warning: skipping session with too few trials 0\n",
      "Warning: skipping session with too few trials 0\n",
      "Warning: skipping session with too few trials 0\n",
      "Warning: skipping session with too few trials 31\n"
     ]
    },
    {
     "data": {
      "application/vnd.jupyter.widget-view+json": {
       "model_id": "37e179cf3c744733a8dc5719af43d4fe",
       "version_major": 2,
       "version_minor": 0
      },
      "text/plain": [
       "IntProgress(value=0, description='mvg_7', max=3)"
      ]
     },
     "metadata": {},
     "output_type": "display_data"
    },
    {
     "data": {
      "application/vnd.jupyter.widget-view+json": {
       "model_id": "ece94f76b0904cb1b19f7bda226dc85e",
       "version_major": 2,
       "version_minor": 0
      },
      "text/plain": [
       "IntProgress(value=0, description='mvg_7', max=3)"
      ]
     },
     "metadata": {},
     "output_type": "display_data"
    },
    {
     "name": "stdout",
     "output_type": "stream",
     "text": [
      "Warning: skipping session with too few trials 17\n"
     ]
    },
    {
     "data": {
      "application/vnd.jupyter.widget-view+json": {
       "model_id": "07f3e73c32b84966951e870942b34ff8",
       "version_major": 2,
       "version_minor": 0
      },
      "text/plain": [
       "IntProgress(value=0, description='mvg_7', max=3)"
      ]
     },
     "metadata": {},
     "output_type": "display_data"
    },
    {
     "name": "stdout",
     "output_type": "stream",
     "text": [
      "Warning: skipping session with too few trials 20\n",
      "Warning: skipping session with too few trials 49\n"
     ]
    },
    {
     "data": {
      "application/vnd.jupyter.widget-view+json": {
       "model_id": "bad5cf1db84e426ebf9ef3ffb4efbf27",
       "version_major": 2,
       "version_minor": 0
      },
      "text/plain": [
       "IntProgress(value=0, description='mvg_7', max=3)"
      ]
     },
     "metadata": {},
     "output_type": "display_data"
    },
    {
     "data": {
      "application/vnd.jupyter.widget-view+json": {
       "model_id": "60354e5562124324919158c9a7828e99",
       "version_major": 2,
       "version_minor": 0
      },
      "text/plain": [
       "IntProgress(value=0, description='mvg_7', max=3)"
      ]
     },
     "metadata": {},
     "output_type": "display_data"
    },
    {
     "data": {
      "application/vnd.jupyter.widget-view+json": {
       "model_id": "8c7ffbbc98b04b83adba9782b97d5b86",
       "version_major": 2,
       "version_minor": 0
      },
      "text/plain": [
       "IntProgress(value=0, description='mvg_7', max=18)"
      ]
     },
     "metadata": {},
     "output_type": "display_data"
    },
    {
     "data": {
      "application/vnd.jupyter.widget-view+json": {
       "model_id": "0ede63aee31b4d68ac05389730941be2",
       "version_major": 2,
       "version_minor": 0
      },
      "text/plain": [
       "IntProgress(value=0, description='mvg_7', max=18)"
      ]
     },
     "metadata": {},
     "output_type": "display_data"
    },
    {
     "name": "stdout",
     "output_type": "stream",
     "text": [
      "Warning: skipping session with too few trials 1\n",
      "Warning: skipping session with too few trials 0\n",
      "Warning: skipping session with too few trials 0\n",
      "Warning: skipping session with too few trials 43\n",
      "Warning: skipping session with too few trials 46\n",
      "Warning: skipping session with too few trials 17\n"
     ]
    },
    {
     "data": {
      "application/vnd.jupyter.widget-view+json": {
       "model_id": "365abf1e2b354a89bdc19683bf4bae8d",
       "version_major": 2,
       "version_minor": 0
      },
      "text/plain": [
       "IntProgress(value=0, description='mvg_7', max=18)"
      ]
     },
     "metadata": {},
     "output_type": "display_data"
    },
    {
     "name": "stdout",
     "output_type": "stream",
     "text": [
      "Warning: skipping session with too few trials 35\n",
      "Warning: skipping session with too few trials 46\n",
      "Warning: skipping session with too few trials 38\n",
      "Warning: skipping session with too few trials 20\n",
      "Warning: skipping session with too few trials 49\n"
     ]
    },
    {
     "data": {
      "application/vnd.jupyter.widget-view+json": {
       "model_id": "71c51ac8fe504308894d232f06c6b7d0",
       "version_major": 2,
       "version_minor": 0
      },
      "text/plain": [
       "IntProgress(value=0, description='mvg_7', max=18)"
      ]
     },
     "metadata": {},
     "output_type": "display_data"
    },
    {
     "name": "stdout",
     "output_type": "stream",
     "text": [
      "Warning: skipping session with too few trials 3\n",
      "Warning: skipping session with too few trials 13\n",
      "Warning: skipping session with too few trials 13\n"
     ]
    },
    {
     "data": {
      "application/vnd.jupyter.widget-view+json": {
       "model_id": "878d7ad27237415da0e13c883d182890",
       "version_major": 2,
       "version_minor": 0
      },
      "text/plain": [
       "IntProgress(value=0, description='mvg_7', max=18)"
      ]
     },
     "metadata": {},
     "output_type": "display_data"
    },
    {
     "name": "stdout",
     "output_type": "stream",
     "text": [
      "Warning: skipping session with too few trials 0\n",
      "Warning: skipping session with too few trials 0\n",
      "Warning: skipping session with too few trials 0\n",
      "Warning: skipping session with too few trials 31\n"
     ]
    },
    {
     "data": {
      "application/vnd.jupyter.widget-view+json": {
       "model_id": "5d660a05f67549eca24bbb561e01142a",
       "version_major": 2,
       "version_minor": 0
      },
      "text/plain": [
       "IntProgress(value=0, description='mvg_7', max=15)"
      ]
     },
     "metadata": {},
     "output_type": "display_data"
    },
    {
     "data": {
      "application/vnd.jupyter.widget-view+json": {
       "model_id": "92b3f0ec1e0e49b8a8863121585b0647",
       "version_major": 2,
       "version_minor": 0
      },
      "text/plain": [
       "IntProgress(value=0, description='mvg_7', max=15)"
      ]
     },
     "metadata": {},
     "output_type": "display_data"
    },
    {
     "name": "stdout",
     "output_type": "stream",
     "text": [
      "Warning: skipping session with too few trials 1\n",
      "Warning: skipping session with too few trials 0\n",
      "Warning: skipping session with too few trials 0\n",
      "Warning: skipping session with too few trials 43\n",
      "Warning: skipping session with too few trials 46\n"
     ]
    },
    {
     "data": {
      "application/vnd.jupyter.widget-view+json": {
       "model_id": "b79b8104352347ea9bdd05b5f8a40e45",
       "version_major": 2,
       "version_minor": 0
      },
      "text/plain": [
       "IntProgress(value=0, description='mvg_7', max=15)"
      ]
     },
     "metadata": {},
     "output_type": "display_data"
    },
    {
     "name": "stdout",
     "output_type": "stream",
     "text": [
      "Warning: skipping session with too few trials 35\n",
      "Warning: skipping session with too few trials 46\n",
      "Warning: skipping session with too few trials 38\n"
     ]
    },
    {
     "data": {
      "application/vnd.jupyter.widget-view+json": {
       "model_id": "9d0c656d0c35407ba512496cf7e12f53",
       "version_major": 2,
       "version_minor": 0
      },
      "text/plain": [
       "IntProgress(value=0, description='mvg_7', max=15)"
      ]
     },
     "metadata": {},
     "output_type": "display_data"
    },
    {
     "name": "stdout",
     "output_type": "stream",
     "text": [
      "Warning: skipping session with too few trials 3\n",
      "Warning: skipping session with too few trials 13\n",
      "Warning: skipping session with too few trials 13\n"
     ]
    },
    {
     "data": {
      "application/vnd.jupyter.widget-view+json": {
       "model_id": "4064349b6d664dee9825534a9229684b",
       "version_major": 2,
       "version_minor": 0
      },
      "text/plain": [
       "IntProgress(value=0, description='mvg_7', max=15)"
      ]
     },
     "metadata": {},
     "output_type": "display_data"
    },
    {
     "name": "stdout",
     "output_type": "stream",
     "text": [
      "Warning: skipping session with too few trials 0\n",
      "Warning: skipping session with too few trials 0\n",
      "Warning: skipping session with too few trials 0\n",
      "Warning: skipping session with too few trials 31\n"
     ]
    },
    {
     "data": {
      "application/vnd.jupyter.widget-view+json": {
       "model_id": "92673d3479974379bcbfbcbce05d66d6",
       "version_major": 2,
       "version_minor": 0
      },
      "text/plain": [
       "IntProgress(value=0, description='mvg_7', max=3)"
      ]
     },
     "metadata": {},
     "output_type": "display_data"
    },
    {
     "data": {
      "application/vnd.jupyter.widget-view+json": {
       "model_id": "039e31a7cc66423695d50d1aa456838c",
       "version_major": 2,
       "version_minor": 0
      },
      "text/plain": [
       "IntProgress(value=0, description='mvg_7', max=3)"
      ]
     },
     "metadata": {},
     "output_type": "display_data"
    },
    {
     "name": "stdout",
     "output_type": "stream",
     "text": [
      "Warning: skipping session with too few trials 17\n"
     ]
    },
    {
     "data": {
      "application/vnd.jupyter.widget-view+json": {
       "model_id": "b93fca58e1da45b981dfebc00be2e0b8",
       "version_major": 2,
       "version_minor": 0
      },
      "text/plain": [
       "IntProgress(value=0, description='mvg_7', max=3)"
      ]
     },
     "metadata": {},
     "output_type": "display_data"
    },
    {
     "name": "stdout",
     "output_type": "stream",
     "text": [
      "Warning: skipping session with too few trials 20\n",
      "Warning: skipping session with too few trials 49\n"
     ]
    },
    {
     "data": {
      "application/vnd.jupyter.widget-view+json": {
       "model_id": "910f2d47680946939fac2e59dc65c865",
       "version_major": 2,
       "version_minor": 0
      },
      "text/plain": [
       "IntProgress(value=0, description='mvg_7', max=3)"
      ]
     },
     "metadata": {},
     "output_type": "display_data"
    },
    {
     "data": {
      "application/vnd.jupyter.widget-view+json": {
       "model_id": "8093cac2371e42b3ba2dc0e12752f040",
       "version_major": 2,
       "version_minor": 0
      },
      "text/plain": [
       "IntProgress(value=0, description='mvg_7', max=3)"
      ]
     },
     "metadata": {},
     "output_type": "display_data"
    },
    {
     "data": {
      "application/vnd.jupyter.widget-view+json": {
       "model_id": "6be44b5fd55e4a2c97d9ded654efc52a",
       "version_major": 2,
       "version_minor": 0
      },
      "text/plain": [
       "IntProgress(value=0, description='mvg_9', max=21)"
      ]
     },
     "metadata": {},
     "output_type": "display_data"
    },
    {
     "data": {
      "application/vnd.jupyter.widget-view+json": {
       "model_id": "2e592d6d9e1e4e7cb97afe8d09fb0a67",
       "version_major": 2,
       "version_minor": 0
      },
      "text/plain": [
       "IntProgress(value=0, description='mvg_9', max=21)"
      ]
     },
     "metadata": {},
     "output_type": "display_data"
    },
    {
     "name": "stdout",
     "output_type": "stream",
     "text": [
      "Warning: skipping session with too few trials 13\n"
     ]
    },
    {
     "data": {
      "application/vnd.jupyter.widget-view+json": {
       "model_id": "48a79f007c76443d9e17e2ebb629f386",
       "version_major": 2,
       "version_minor": 0
      },
      "text/plain": [
       "IntProgress(value=0, description='mvg_9', max=21)"
      ]
     },
     "metadata": {},
     "output_type": "display_data"
    },
    {
     "name": "stdout",
     "output_type": "stream",
     "text": [
      "Warning: skipping session with too few trials 39\n",
      "Warning: skipping session with too few trials 11\n",
      "Warning: skipping session with too few trials 40\n",
      "Warning: skipping session with too few trials 19\n",
      "Warning: skipping session with too few trials 41\n",
      "Warning: skipping session with too few trials 37\n"
     ]
    },
    {
     "data": {
      "application/vnd.jupyter.widget-view+json": {
       "model_id": "6c7770fbac1e4b8c9603a53f4f53d62b",
       "version_major": 2,
       "version_minor": 0
      },
      "text/plain": [
       "IntProgress(value=0, description='mvg_9', max=21)"
      ]
     },
     "metadata": {},
     "output_type": "display_data"
    },
    {
     "name": "stdout",
     "output_type": "stream",
     "text": [
      "Warning: skipping session with too few trials 39\n",
      "Warning: skipping session with too few trials 15\n",
      "Warning: skipping session with too few trials 16\n"
     ]
    },
    {
     "data": {
      "application/vnd.jupyter.widget-view+json": {
       "model_id": "bc14763ecec04658a4d9db899ec6623b",
       "version_major": 2,
       "version_minor": 0
      },
      "text/plain": [
       "IntProgress(value=0, description='mvg_9', max=21)"
      ]
     },
     "metadata": {},
     "output_type": "display_data"
    },
    {
     "name": "stdout",
     "output_type": "stream",
     "text": [
      "Warning: skipping session with too few trials 23\n",
      "Warning: skipping session with too few trials 5\n",
      "Warning: skipping session with too few trials 35\n"
     ]
    },
    {
     "data": {
      "application/vnd.jupyter.widget-view+json": {
       "model_id": "1f74f1f9ebd24ccfaad5c95cd0f68433",
       "version_major": 2,
       "version_minor": 0
      },
      "text/plain": [
       "IntProgress(value=0, description='mvg_9', max=16)"
      ]
     },
     "metadata": {},
     "output_type": "display_data"
    },
    {
     "data": {
      "application/vnd.jupyter.widget-view+json": {
       "model_id": "3e4e3417b784446d848c5f719485e97d",
       "version_major": 2,
       "version_minor": 0
      },
      "text/plain": [
       "IntProgress(value=0, description='mvg_9', max=16)"
      ]
     },
     "metadata": {},
     "output_type": "display_data"
    },
    {
     "name": "stdout",
     "output_type": "stream",
     "text": [
      "Warning: skipping session with too few trials 13\n"
     ]
    },
    {
     "data": {
      "application/vnd.jupyter.widget-view+json": {
       "model_id": "868b2a6ca8a74c6a9411fdd26279f454",
       "version_major": 2,
       "version_minor": 0
      },
      "text/plain": [
       "IntProgress(value=0, description='mvg_9', max=16)"
      ]
     },
     "metadata": {},
     "output_type": "display_data"
    },
    {
     "name": "stdout",
     "output_type": "stream",
     "text": [
      "Warning: skipping session with too few trials 39\n",
      "Warning: skipping session with too few trials 11\n",
      "Warning: skipping session with too few trials 40\n",
      "Warning: skipping session with too few trials 19\n",
      "Warning: skipping session with too few trials 41\n"
     ]
    },
    {
     "data": {
      "application/vnd.jupyter.widget-view+json": {
       "model_id": "937dfa02fd8043a294d6d99ff069b0d0",
       "version_major": 2,
       "version_minor": 0
      },
      "text/plain": [
       "IntProgress(value=0, description='mvg_9', max=16)"
      ]
     },
     "metadata": {},
     "output_type": "display_data"
    },
    {
     "name": "stdout",
     "output_type": "stream",
     "text": [
      "Warning: skipping session with too few trials 39\n",
      "Warning: skipping session with too few trials 15\n",
      "Warning: skipping session with too few trials 16\n"
     ]
    },
    {
     "data": {
      "application/vnd.jupyter.widget-view+json": {
       "model_id": "867d0ae35df44e2f87f4ab4c650681a3",
       "version_major": 2,
       "version_minor": 0
      },
      "text/plain": [
       "IntProgress(value=0, description='mvg_9', max=16)"
      ]
     },
     "metadata": {},
     "output_type": "display_data"
    },
    {
     "name": "stdout",
     "output_type": "stream",
     "text": [
      "Warning: skipping session with too few trials 23\n",
      "Warning: skipping session with too few trials 5\n",
      "Warning: skipping session with too few trials 35\n"
     ]
    },
    {
     "data": {
      "application/vnd.jupyter.widget-view+json": {
       "model_id": "316799f533c140adbd58540a62eea697",
       "version_major": 2,
       "version_minor": 0
      },
      "text/plain": [
       "IntProgress(value=0, description='mvg_9', max=5)"
      ]
     },
     "metadata": {},
     "output_type": "display_data"
    },
    {
     "data": {
      "application/vnd.jupyter.widget-view+json": {
       "model_id": "5df3afae334744409c3ca68c523d577f",
       "version_major": 2,
       "version_minor": 0
      },
      "text/plain": [
       "IntProgress(value=0, description='mvg_9', max=5)"
      ]
     },
     "metadata": {},
     "output_type": "display_data"
    },
    {
     "data": {
      "application/vnd.jupyter.widget-view+json": {
       "model_id": "922f1ba1d2384b6c8cf1965c76d83e98",
       "version_major": 2,
       "version_minor": 0
      },
      "text/plain": [
       "IntProgress(value=0, description='mvg_9', max=5)"
      ]
     },
     "metadata": {},
     "output_type": "display_data"
    },
    {
     "name": "stdout",
     "output_type": "stream",
     "text": [
      "Warning: skipping session with too few trials 37\n"
     ]
    },
    {
     "data": {
      "application/vnd.jupyter.widget-view+json": {
       "model_id": "bb42d8332847462f8b1b4c83e4978d00",
       "version_major": 2,
       "version_minor": 0
      },
      "text/plain": [
       "IntProgress(value=0, description='mvg_9', max=5)"
      ]
     },
     "metadata": {},
     "output_type": "display_data"
    },
    {
     "data": {
      "application/vnd.jupyter.widget-view+json": {
       "model_id": "bfc1bbd51a10433aa12216b35b9fb918",
       "version_major": 2,
       "version_minor": 0
      },
      "text/plain": [
       "IntProgress(value=0, description='mvg_9', max=5)"
      ]
     },
     "metadata": {},
     "output_type": "display_data"
    },
    {
     "data": {
      "application/vnd.jupyter.widget-view+json": {
       "model_id": "9a31d3bd2ba445798d1fe40356c6f7ed",
       "version_major": 2,
       "version_minor": 0
      },
      "text/plain": [
       "IntProgress(value=0, description='mvg_9', max=21)"
      ]
     },
     "metadata": {},
     "output_type": "display_data"
    },
    {
     "data": {
      "application/vnd.jupyter.widget-view+json": {
       "model_id": "e1d65e34c01c478ab6e5386f9d574959",
       "version_major": 2,
       "version_minor": 0
      },
      "text/plain": [
       "IntProgress(value=0, description='mvg_9', max=21)"
      ]
     },
     "metadata": {},
     "output_type": "display_data"
    },
    {
     "name": "stdout",
     "output_type": "stream",
     "text": [
      "Warning: skipping session with too few trials 13\n"
     ]
    },
    {
     "data": {
      "application/vnd.jupyter.widget-view+json": {
       "model_id": "0e8722cdd681432bab9e540471f30ceb",
       "version_major": 2,
       "version_minor": 0
      },
      "text/plain": [
       "IntProgress(value=0, description='mvg_9', max=21)"
      ]
     },
     "metadata": {},
     "output_type": "display_data"
    },
    {
     "name": "stdout",
     "output_type": "stream",
     "text": [
      "Warning: skipping session with too few trials 39\n",
      "Warning: skipping session with too few trials 11\n",
      "Warning: skipping session with too few trials 40\n",
      "Warning: skipping session with too few trials 19\n",
      "Warning: skipping session with too few trials 41\n",
      "Warning: skipping session with too few trials 37\n"
     ]
    },
    {
     "data": {
      "application/vnd.jupyter.widget-view+json": {
       "model_id": "06639595c9c44026a75c0dfbc234b637",
       "version_major": 2,
       "version_minor": 0
      },
      "text/plain": [
       "IntProgress(value=0, description='mvg_9', max=21)"
      ]
     },
     "metadata": {},
     "output_type": "display_data"
    },
    {
     "name": "stdout",
     "output_type": "stream",
     "text": [
      "Warning: skipping session with too few trials 39\n",
      "Warning: skipping session with too few trials 15\n",
      "Warning: skipping session with too few trials 16\n"
     ]
    },
    {
     "data": {
      "application/vnd.jupyter.widget-view+json": {
       "model_id": "35bd648507e949648b66e81a7a2b2082",
       "version_major": 2,
       "version_minor": 0
      },
      "text/plain": [
       "IntProgress(value=0, description='mvg_9', max=21)"
      ]
     },
     "metadata": {},
     "output_type": "display_data"
    },
    {
     "name": "stdout",
     "output_type": "stream",
     "text": [
      "Warning: skipping session with too few trials 23\n",
      "Warning: skipping session with too few trials 5\n",
      "Warning: skipping session with too few trials 35\n"
     ]
    },
    {
     "data": {
      "application/vnd.jupyter.widget-view+json": {
       "model_id": "a1b87e23fe96493ab1872a6658a4cfa3",
       "version_major": 2,
       "version_minor": 0
      },
      "text/plain": [
       "IntProgress(value=0, description='mvg_9', max=16)"
      ]
     },
     "metadata": {},
     "output_type": "display_data"
    },
    {
     "data": {
      "application/vnd.jupyter.widget-view+json": {
       "model_id": "257a0020586d4f39b10d42cdfc278d0e",
       "version_major": 2,
       "version_minor": 0
      },
      "text/plain": [
       "IntProgress(value=0, description='mvg_9', max=16)"
      ]
     },
     "metadata": {},
     "output_type": "display_data"
    },
    {
     "name": "stdout",
     "output_type": "stream",
     "text": [
      "Warning: skipping session with too few trials 13\n"
     ]
    },
    {
     "data": {
      "application/vnd.jupyter.widget-view+json": {
       "model_id": "a23f92bb713e451881e04934567c5fe1",
       "version_major": 2,
       "version_minor": 0
      },
      "text/plain": [
       "IntProgress(value=0, description='mvg_9', max=16)"
      ]
     },
     "metadata": {},
     "output_type": "display_data"
    },
    {
     "name": "stdout",
     "output_type": "stream",
     "text": [
      "Warning: skipping session with too few trials 39\n",
      "Warning: skipping session with too few trials 11\n",
      "Warning: skipping session with too few trials 40\n",
      "Warning: skipping session with too few trials 19\n",
      "Warning: skipping session with too few trials 41\n"
     ]
    },
    {
     "data": {
      "application/vnd.jupyter.widget-view+json": {
       "model_id": "037e99010d214a5a8b2e1e800d4d1492",
       "version_major": 2,
       "version_minor": 0
      },
      "text/plain": [
       "IntProgress(value=0, description='mvg_9', max=16)"
      ]
     },
     "metadata": {},
     "output_type": "display_data"
    },
    {
     "name": "stdout",
     "output_type": "stream",
     "text": [
      "Warning: skipping session with too few trials 39\n",
      "Warning: skipping session with too few trials 15\n",
      "Warning: skipping session with too few trials 16\n"
     ]
    },
    {
     "data": {
      "application/vnd.jupyter.widget-view+json": {
       "model_id": "7b723917e6bc47098acf3948cf950224",
       "version_major": 2,
       "version_minor": 0
      },
      "text/plain": [
       "IntProgress(value=0, description='mvg_9', max=16)"
      ]
     },
     "metadata": {},
     "output_type": "display_data"
    },
    {
     "name": "stdout",
     "output_type": "stream",
     "text": [
      "Warning: skipping session with too few trials 23\n",
      "Warning: skipping session with too few trials 5\n",
      "Warning: skipping session with too few trials 35\n"
     ]
    },
    {
     "data": {
      "application/vnd.jupyter.widget-view+json": {
       "model_id": "fd7a120c8fad4c1fa6b8c8b6dab4b7e0",
       "version_major": 2,
       "version_minor": 0
      },
      "text/plain": [
       "IntProgress(value=0, description='mvg_9', max=5)"
      ]
     },
     "metadata": {},
     "output_type": "display_data"
    },
    {
     "data": {
      "application/vnd.jupyter.widget-view+json": {
       "model_id": "146379991a28465ebf50364fcb60a39c",
       "version_major": 2,
       "version_minor": 0
      },
      "text/plain": [
       "IntProgress(value=0, description='mvg_9', max=5)"
      ]
     },
     "metadata": {},
     "output_type": "display_data"
    },
    {
     "data": {
      "application/vnd.jupyter.widget-view+json": {
       "model_id": "a107da2c64124502bb2134e977f6121f",
       "version_major": 2,
       "version_minor": 0
      },
      "text/plain": [
       "IntProgress(value=0, description='mvg_9', max=5)"
      ]
     },
     "metadata": {},
     "output_type": "display_data"
    },
    {
     "name": "stdout",
     "output_type": "stream",
     "text": [
      "Warning: skipping session with too few trials 37\n"
     ]
    },
    {
     "data": {
      "application/vnd.jupyter.widget-view+json": {
       "model_id": "87e5715265974143ab8e664d5c09d70a",
       "version_major": 2,
       "version_minor": 0
      },
      "text/plain": [
       "IntProgress(value=0, description='mvg_9', max=5)"
      ]
     },
     "metadata": {},
     "output_type": "display_data"
    },
    {
     "data": {
      "application/vnd.jupyter.widget-view+json": {
       "model_id": "9782c74e47b2411ba83a0e1a83eceb43",
       "version_major": 2,
       "version_minor": 0
      },
      "text/plain": [
       "IntProgress(value=0, description='mvg_9', max=5)"
      ]
     },
     "metadata": {},
     "output_type": "display_data"
    },
    {
     "data": {
      "application/vnd.jupyter.widget-view+json": {
       "model_id": "458fe6e212234a52870b30734dc342aa",
       "version_major": 2,
       "version_minor": 0
      },
      "text/plain": [
       "IntProgress(value=0, description='mvg_9', max=21)"
      ]
     },
     "metadata": {},
     "output_type": "display_data"
    },
    {
     "data": {
      "application/vnd.jupyter.widget-view+json": {
       "model_id": "06de211935e045a68e4586fb829e2352",
       "version_major": 2,
       "version_minor": 0
      },
      "text/plain": [
       "IntProgress(value=0, description='mvg_9', max=21)"
      ]
     },
     "metadata": {},
     "output_type": "display_data"
    },
    {
     "name": "stdout",
     "output_type": "stream",
     "text": [
      "Warning: skipping session with too few trials 13\n"
     ]
    },
    {
     "data": {
      "application/vnd.jupyter.widget-view+json": {
       "model_id": "cd7934e894e44ae6b32778de05383417",
       "version_major": 2,
       "version_minor": 0
      },
      "text/plain": [
       "IntProgress(value=0, description='mvg_9', max=21)"
      ]
     },
     "metadata": {},
     "output_type": "display_data"
    },
    {
     "name": "stdout",
     "output_type": "stream",
     "text": [
      "Warning: skipping session with too few trials 39\n",
      "Warning: skipping session with too few trials 11\n",
      "Warning: skipping session with too few trials 40\n",
      "Warning: skipping session with too few trials 19\n",
      "Warning: skipping session with too few trials 41\n",
      "Warning: skipping session with too few trials 37\n"
     ]
    },
    {
     "data": {
      "application/vnd.jupyter.widget-view+json": {
       "model_id": "a86ae818fc214798a64f1084cda0e80e",
       "version_major": 2,
       "version_minor": 0
      },
      "text/plain": [
       "IntProgress(value=0, description='mvg_9', max=21)"
      ]
     },
     "metadata": {},
     "output_type": "display_data"
    },
    {
     "name": "stdout",
     "output_type": "stream",
     "text": [
      "Warning: skipping session with too few trials 39\n",
      "Warning: skipping session with too few trials 15\n",
      "Warning: skipping session with too few trials 16\n"
     ]
    },
    {
     "data": {
      "application/vnd.jupyter.widget-view+json": {
       "model_id": "73b7a002ef284a9e849231a4050fa75a",
       "version_major": 2,
       "version_minor": 0
      },
      "text/plain": [
       "IntProgress(value=0, description='mvg_9', max=21)"
      ]
     },
     "metadata": {},
     "output_type": "display_data"
    },
    {
     "name": "stdout",
     "output_type": "stream",
     "text": [
      "Warning: skipping session with too few trials 23\n",
      "Warning: skipping session with too few trials 5\n",
      "Warning: skipping session with too few trials 35\n"
     ]
    },
    {
     "data": {
      "application/vnd.jupyter.widget-view+json": {
       "model_id": "2dffc481d37449fc8d698721f71848a8",
       "version_major": 2,
       "version_minor": 0
      },
      "text/plain": [
       "IntProgress(value=0, description='mvg_9', max=16)"
      ]
     },
     "metadata": {},
     "output_type": "display_data"
    },
    {
     "data": {
      "application/vnd.jupyter.widget-view+json": {
       "model_id": "fe15689ec42245e99961c68e5d7cfcc6",
       "version_major": 2,
       "version_minor": 0
      },
      "text/plain": [
       "IntProgress(value=0, description='mvg_9', max=16)"
      ]
     },
     "metadata": {},
     "output_type": "display_data"
    },
    {
     "name": "stdout",
     "output_type": "stream",
     "text": [
      "Warning: skipping session with too few trials 13\n"
     ]
    },
    {
     "data": {
      "application/vnd.jupyter.widget-view+json": {
       "model_id": "3d0e6fc7556047178054570bd4f634d9",
       "version_major": 2,
       "version_minor": 0
      },
      "text/plain": [
       "IntProgress(value=0, description='mvg_9', max=16)"
      ]
     },
     "metadata": {},
     "output_type": "display_data"
    },
    {
     "name": "stdout",
     "output_type": "stream",
     "text": [
      "Warning: skipping session with too few trials 39\n",
      "Warning: skipping session with too few trials 11\n",
      "Warning: skipping session with too few trials 40\n",
      "Warning: skipping session with too few trials 19\n",
      "Warning: skipping session with too few trials 41\n"
     ]
    },
    {
     "data": {
      "application/vnd.jupyter.widget-view+json": {
       "model_id": "b3f470900d2548b28a0c01387f6e8788",
       "version_major": 2,
       "version_minor": 0
      },
      "text/plain": [
       "IntProgress(value=0, description='mvg_9', max=16)"
      ]
     },
     "metadata": {},
     "output_type": "display_data"
    },
    {
     "name": "stdout",
     "output_type": "stream",
     "text": [
      "Warning: skipping session with too few trials 39\n",
      "Warning: skipping session with too few trials 15\n",
      "Warning: skipping session with too few trials 16\n"
     ]
    },
    {
     "data": {
      "application/vnd.jupyter.widget-view+json": {
       "model_id": "c64edbd61eba46689217d076e0c5bbb8",
       "version_major": 2,
       "version_minor": 0
      },
      "text/plain": [
       "IntProgress(value=0, description='mvg_9', max=16)"
      ]
     },
     "metadata": {},
     "output_type": "display_data"
    },
    {
     "name": "stdout",
     "output_type": "stream",
     "text": [
      "Warning: skipping session with too few trials 23\n",
      "Warning: skipping session with too few trials 5\n",
      "Warning: skipping session with too few trials 35\n"
     ]
    },
    {
     "data": {
      "application/vnd.jupyter.widget-view+json": {
       "model_id": "76a6e41614b74b16964a1f28ff9d2f26",
       "version_major": 2,
       "version_minor": 0
      },
      "text/plain": [
       "IntProgress(value=0, description='mvg_9', max=5)"
      ]
     },
     "metadata": {},
     "output_type": "display_data"
    },
    {
     "data": {
      "application/vnd.jupyter.widget-view+json": {
       "model_id": "ce0dbf4a89d04959a2d28a8b360ec3b9",
       "version_major": 2,
       "version_minor": 0
      },
      "text/plain": [
       "IntProgress(value=0, description='mvg_9', max=5)"
      ]
     },
     "metadata": {},
     "output_type": "display_data"
    },
    {
     "data": {
      "application/vnd.jupyter.widget-view+json": {
       "model_id": "951b3ab15c7d4fcd9bf20cd2e793f98f",
       "version_major": 2,
       "version_minor": 0
      },
      "text/plain": [
       "IntProgress(value=0, description='mvg_9', max=5)"
      ]
     },
     "metadata": {},
     "output_type": "display_data"
    },
    {
     "name": "stdout",
     "output_type": "stream",
     "text": [
      "Warning: skipping session with too few trials 37\n"
     ]
    },
    {
     "data": {
      "application/vnd.jupyter.widget-view+json": {
       "model_id": "3813592bc6944218ae2a73f877d9f927",
       "version_major": 2,
       "version_minor": 0
      },
      "text/plain": [
       "IntProgress(value=0, description='mvg_9', max=5)"
      ]
     },
     "metadata": {},
     "output_type": "display_data"
    },
    {
     "data": {
      "application/vnd.jupyter.widget-view+json": {
       "model_id": "d2bb9b3b005647f4a792afb6bd64d3a8",
       "version_major": 2,
       "version_minor": 0
      },
      "text/plain": [
       "IntProgress(value=0, description='mvg_9', max=5)"
      ]
     },
     "metadata": {},
     "output_type": "display_data"
    },
    {
     "data": {
      "application/vnd.jupyter.widget-view+json": {
       "model_id": "8d03644fa2334bc2a55d5007159acc0d",
       "version_major": 2,
       "version_minor": 0
      },
      "text/plain": [
       "IntProgress(value=0, description='session', max=180)"
      ]
     },
     "metadata": {},
     "output_type": "display_data"
    },
    {
     "data": {
      "application/vnd.jupyter.widget-view+json": {
       "model_id": "f28a3a0aa6174970a0a91ab462666593",
       "version_major": 2,
       "version_minor": 0
      },
      "text/plain": [
       "IntProgress(value=0, description='mvg_8', max=16)"
      ]
     },
     "metadata": {},
     "output_type": "display_data"
    },
    {
     "data": {
      "application/vnd.jupyter.widget-view+json": {
       "model_id": "cef0f564b9804fffa8b8fe8cce569a04",
       "version_major": 2,
       "version_minor": 0
      },
      "text/plain": [
       "IntProgress(value=0, description='mvg_8', max=16)"
      ]
     },
     "metadata": {},
     "output_type": "display_data"
    },
    {
     "name": "stdout",
     "output_type": "stream",
     "text": [
      "Warning: skipping session with too few trials 34\n",
      "Warning: skipping session with too few trials 23\n",
      "Warning: skipping session with too few trials 36\n",
      "Warning: skipping session with too few trials 10\n",
      "Warning: skipping session with too few trials 6\n",
      "Warning: skipping session with too few trials 4\n",
      "Warning: skipping session with too few trials 15\n",
      "Warning: skipping session with too few trials 31\n",
      "Warning: skipping session with too few trials 38\n",
      "Warning: skipping session with too few trials 6\n"
     ]
    },
    {
     "data": {
      "application/vnd.jupyter.widget-view+json": {
       "model_id": "d25bbeef89e84ffaa6aedcfd367db554",
       "version_major": 2,
       "version_minor": 0
      },
      "text/plain": [
       "IntProgress(value=0, description='mvg_8', max=16)"
      ]
     },
     "metadata": {},
     "output_type": "display_data"
    },
    {
     "name": "stdout",
     "output_type": "stream",
     "text": [
      "Warning: skipping session with too few trials 37\n",
      "Warning: skipping session with too few trials 49\n",
      "Warning: skipping session with too few trials 25\n",
      "Warning: skipping session with too few trials 26\n",
      "Warning: skipping session with too few trials 8\n",
      "Warning: skipping session with too few trials 2\n",
      "Warning: skipping session with too few trials 33\n",
      "Warning: skipping session with too few trials 14\n",
      "Warning: skipping session with too few trials 2\n",
      "Warning: skipping session with too few trials 12\n",
      "Warning: skipping session with too few trials 17\n"
     ]
    },
    {
     "data": {
      "application/vnd.jupyter.widget-view+json": {
       "model_id": "12816efe63474adab372c62fdbc15567",
       "version_major": 2,
       "version_minor": 0
      },
      "text/plain": [
       "IntProgress(value=0, description='mvg_8', max=16)"
      ]
     },
     "metadata": {},
     "output_type": "display_data"
    },
    {
     "name": "stdout",
     "output_type": "stream",
     "text": [
      "Warning: skipping session with too few trials 44\n",
      "Warning: skipping session with too few trials 41\n",
      "Warning: skipping session with too few trials 38\n"
     ]
    },
    {
     "data": {
      "application/vnd.jupyter.widget-view+json": {
       "model_id": "4974dec3bef34e1487e517af38a476cd",
       "version_major": 2,
       "version_minor": 0
      },
      "text/plain": [
       "IntProgress(value=0, description='mvg_8', max=16)"
      ]
     },
     "metadata": {},
     "output_type": "display_data"
    },
    {
     "name": "stdout",
     "output_type": "stream",
     "text": [
      "Warning: skipping session with too few trials 11\n",
      "Warning: skipping session with too few trials 4\n",
      "Warning: skipping session with too few trials 30\n",
      "Warning: skipping session with too few trials 21\n"
     ]
    },
    {
     "data": {
      "application/vnd.jupyter.widget-view+json": {
       "model_id": "7b8ed15f75ff4bbeb1ccfdeef7f9e63b",
       "version_major": 2,
       "version_minor": 0
      },
      "text/plain": [
       "IntProgress(value=0, description='mvg_8', max=7)"
      ]
     },
     "metadata": {},
     "output_type": "display_data"
    },
    {
     "data": {
      "application/vnd.jupyter.widget-view+json": {
       "model_id": "18462d27de474a48b2d29d1988dc42a8",
       "version_major": 2,
       "version_minor": 0
      },
      "text/plain": [
       "IntProgress(value=0, description='mvg_8', max=7)"
      ]
     },
     "metadata": {},
     "output_type": "display_data"
    },
    {
     "name": "stdout",
     "output_type": "stream",
     "text": [
      "Warning: skipping session with too few trials 34\n"
     ]
    },
    {
     "data": {
      "application/vnd.jupyter.widget-view+json": {
       "model_id": "ed8c0ae42ca34eeeb8ff8267d28a418c",
       "version_major": 2,
       "version_minor": 0
      },
      "text/plain": [
       "IntProgress(value=0, description='mvg_8', max=7)"
      ]
     },
     "metadata": {},
     "output_type": "display_data"
    },
    {
     "name": "stdout",
     "output_type": "stream",
     "text": [
      "Warning: skipping session with too few trials 37\n",
      "Warning: skipping session with too few trials 49\n",
      "Warning: skipping session with too few trials 25\n"
     ]
    },
    {
     "data": {
      "application/vnd.jupyter.widget-view+json": {
       "model_id": "1f0069bf8ed449f5b1e0f7d0bbacbd8b",
       "version_major": 2,
       "version_minor": 0
      },
      "text/plain": [
       "IntProgress(value=0, description='mvg_8', max=7)"
      ]
     },
     "metadata": {},
     "output_type": "display_data"
    },
    {
     "name": "stdout",
     "output_type": "stream",
     "text": [
      "Warning: skipping session with too few trials 44\n",
      "Warning: skipping session with too few trials 41\n",
      "Warning: skipping session with too few trials 38\n"
     ]
    },
    {
     "data": {
      "application/vnd.jupyter.widget-view+json": {
       "model_id": "83dde5f6b70c4bf0a2efb9a7eebc5d01",
       "version_major": 2,
       "version_minor": 0
      },
      "text/plain": [
       "IntProgress(value=0, description='mvg_8', max=7)"
      ]
     },
     "metadata": {},
     "output_type": "display_data"
    },
    {
     "name": "stdout",
     "output_type": "stream",
     "text": [
      "Warning: skipping session with too few trials 11\n",
      "Warning: skipping session with too few trials 4\n",
      "Warning: skipping session with too few trials 30\n",
      "Warning: skipping session with too few trials 21\n"
     ]
    },
    {
     "data": {
      "application/vnd.jupyter.widget-view+json": {
       "model_id": "c21e91856749443597c503dc8e2149cc",
       "version_major": 2,
       "version_minor": 0
      },
      "text/plain": [
       "IntProgress(value=0, description='mvg_8', max=9)"
      ]
     },
     "metadata": {},
     "output_type": "display_data"
    },
    {
     "data": {
      "application/vnd.jupyter.widget-view+json": {
       "model_id": "52a77d4ccf8647b0bfc40a6a3fb14202",
       "version_major": 2,
       "version_minor": 0
      },
      "text/plain": [
       "IntProgress(value=0, description='mvg_8', max=9)"
      ]
     },
     "metadata": {},
     "output_type": "display_data"
    },
    {
     "name": "stdout",
     "output_type": "stream",
     "text": [
      "Warning: skipping session with too few trials 23\n",
      "Warning: skipping session with too few trials 36\n",
      "Warning: skipping session with too few trials 10\n",
      "Warning: skipping session with too few trials 6\n",
      "Warning: skipping session with too few trials 4\n",
      "Warning: skipping session with too few trials 15\n",
      "Warning: skipping session with too few trials 31\n",
      "Warning: skipping session with too few trials 38\n",
      "Warning: skipping session with too few trials 6\n",
      "Warning, all sessions had too few trials, this mouse is skipped\n"
     ]
    },
    {
     "data": {
      "application/vnd.jupyter.widget-view+json": {
       "model_id": "34709f28dc8948e0899d0cd553920e1d",
       "version_major": 2,
       "version_minor": 0
      },
      "text/plain": [
       "IntProgress(value=0, description='mvg_8', max=9)"
      ]
     },
     "metadata": {},
     "output_type": "display_data"
    },
    {
     "name": "stdout",
     "output_type": "stream",
     "text": [
      "Warning: skipping session with too few trials 26\n",
      "Warning: skipping session with too few trials 8\n",
      "Warning: skipping session with too few trials 2\n",
      "Warning: skipping session with too few trials 33\n",
      "Warning: skipping session with too few trials 14\n",
      "Warning: skipping session with too few trials 2\n",
      "Warning: skipping session with too few trials 12\n",
      "Warning: skipping session with too few trials 17\n"
     ]
    },
    {
     "data": {
      "application/vnd.jupyter.widget-view+json": {
       "model_id": "a6bb9cc2a2a84cceaaba1e9cec8a4cd3",
       "version_major": 2,
       "version_minor": 0
      },
      "text/plain": [
       "IntProgress(value=0, description='mvg_8', max=9)"
      ]
     },
     "metadata": {},
     "output_type": "display_data"
    },
    {
     "data": {
      "application/vnd.jupyter.widget-view+json": {
       "model_id": "9f09935652024825882658c9aeddc94a",
       "version_major": 2,
       "version_minor": 0
      },
      "text/plain": [
       "IntProgress(value=0, description='mvg_8', max=9)"
      ]
     },
     "metadata": {},
     "output_type": "display_data"
    },
    {
     "data": {
      "application/vnd.jupyter.widget-view+json": {
       "model_id": "03184c958d73475cbaec851c6f401ad8",
       "version_major": 2,
       "version_minor": 0
      },
      "text/plain": [
       "IntProgress(value=0, description='mvg_8', max=16)"
      ]
     },
     "metadata": {},
     "output_type": "display_data"
    },
    {
     "data": {
      "application/vnd.jupyter.widget-view+json": {
       "model_id": "9bff620d0ebc4ccb98ed33534edc5244",
       "version_major": 2,
       "version_minor": 0
      },
      "text/plain": [
       "IntProgress(value=0, description='mvg_8', max=16)"
      ]
     },
     "metadata": {},
     "output_type": "display_data"
    },
    {
     "name": "stdout",
     "output_type": "stream",
     "text": [
      "Warning: skipping session with too few trials 34\n",
      "Warning: skipping session with too few trials 23\n",
      "Warning: skipping session with too few trials 36\n",
      "Warning: skipping session with too few trials 10\n",
      "Warning: skipping session with too few trials 6\n",
      "Warning: skipping session with too few trials 4\n",
      "Warning: skipping session with too few trials 15\n",
      "Warning: skipping session with too few trials 31\n",
      "Warning: skipping session with too few trials 38\n",
      "Warning: skipping session with too few trials 6\n"
     ]
    },
    {
     "data": {
      "application/vnd.jupyter.widget-view+json": {
       "model_id": "7131e1e160c34216b3b5c8915849170b",
       "version_major": 2,
       "version_minor": 0
      },
      "text/plain": [
       "IntProgress(value=0, description='mvg_8', max=16)"
      ]
     },
     "metadata": {},
     "output_type": "display_data"
    },
    {
     "name": "stdout",
     "output_type": "stream",
     "text": [
      "Warning: skipping session with too few trials 37\n",
      "Warning: skipping session with too few trials 49\n",
      "Warning: skipping session with too few trials 25\n",
      "Warning: skipping session with too few trials 26\n",
      "Warning: skipping session with too few trials 8\n",
      "Warning: skipping session with too few trials 2\n",
      "Warning: skipping session with too few trials 33\n",
      "Warning: skipping session with too few trials 14\n",
      "Warning: skipping session with too few trials 2\n",
      "Warning: skipping session with too few trials 12\n",
      "Warning: skipping session with too few trials 17\n"
     ]
    },
    {
     "data": {
      "application/vnd.jupyter.widget-view+json": {
       "model_id": "ff1c70173d3247f5b5d07324cc56c227",
       "version_major": 2,
       "version_minor": 0
      },
      "text/plain": [
       "IntProgress(value=0, description='mvg_8', max=16)"
      ]
     },
     "metadata": {},
     "output_type": "display_data"
    },
    {
     "name": "stdout",
     "output_type": "stream",
     "text": [
      "Warning: skipping session with too few trials 44\n",
      "Warning: skipping session with too few trials 41\n",
      "Warning: skipping session with too few trials 38\n"
     ]
    },
    {
     "data": {
      "application/vnd.jupyter.widget-view+json": {
       "model_id": "9884de632e7c47c58d1583364899bac2",
       "version_major": 2,
       "version_minor": 0
      },
      "text/plain": [
       "IntProgress(value=0, description='mvg_8', max=16)"
      ]
     },
     "metadata": {},
     "output_type": "display_data"
    },
    {
     "name": "stdout",
     "output_type": "stream",
     "text": [
      "Warning: skipping session with too few trials 11\n",
      "Warning: skipping session with too few trials 4\n",
      "Warning: skipping session with too few trials 30\n",
      "Warning: skipping session with too few trials 21\n"
     ]
    },
    {
     "data": {
      "application/vnd.jupyter.widget-view+json": {
       "model_id": "a04028879cdc4e54a2e587bfa157d962",
       "version_major": 2,
       "version_minor": 0
      },
      "text/plain": [
       "IntProgress(value=0, description='mvg_8', max=7)"
      ]
     },
     "metadata": {},
     "output_type": "display_data"
    },
    {
     "data": {
      "application/vnd.jupyter.widget-view+json": {
       "model_id": "4fd47a49dd2e44f6b9712a300ff1f943",
       "version_major": 2,
       "version_minor": 0
      },
      "text/plain": [
       "IntProgress(value=0, description='mvg_8', max=7)"
      ]
     },
     "metadata": {},
     "output_type": "display_data"
    },
    {
     "name": "stdout",
     "output_type": "stream",
     "text": [
      "Warning: skipping session with too few trials 34\n"
     ]
    },
    {
     "data": {
      "application/vnd.jupyter.widget-view+json": {
       "model_id": "efcf57fff8f64e0bb1dbc009d9e4f283",
       "version_major": 2,
       "version_minor": 0
      },
      "text/plain": [
       "IntProgress(value=0, description='mvg_8', max=7)"
      ]
     },
     "metadata": {},
     "output_type": "display_data"
    },
    {
     "name": "stdout",
     "output_type": "stream",
     "text": [
      "Warning: skipping session with too few trials 37\n",
      "Warning: skipping session with too few trials 49\n",
      "Warning: skipping session with too few trials 25\n"
     ]
    },
    {
     "data": {
      "application/vnd.jupyter.widget-view+json": {
       "model_id": "cf3a24e1b4ef4c69b4153ea902f131e5",
       "version_major": 2,
       "version_minor": 0
      },
      "text/plain": [
       "IntProgress(value=0, description='mvg_8', max=7)"
      ]
     },
     "metadata": {},
     "output_type": "display_data"
    },
    {
     "name": "stdout",
     "output_type": "stream",
     "text": [
      "Warning: skipping session with too few trials 44\n",
      "Warning: skipping session with too few trials 41\n",
      "Warning: skipping session with too few trials 38\n"
     ]
    },
    {
     "data": {
      "application/vnd.jupyter.widget-view+json": {
       "model_id": "b9ffc024e89b4f3db6d1a6aef53a4f5a",
       "version_major": 2,
       "version_minor": 0
      },
      "text/plain": [
       "IntProgress(value=0, description='mvg_8', max=7)"
      ]
     },
     "metadata": {},
     "output_type": "display_data"
    },
    {
     "name": "stdout",
     "output_type": "stream",
     "text": [
      "Warning: skipping session with too few trials 11\n",
      "Warning: skipping session with too few trials 4\n",
      "Warning: skipping session with too few trials 30\n",
      "Warning: skipping session with too few trials 21\n"
     ]
    },
    {
     "data": {
      "application/vnd.jupyter.widget-view+json": {
       "model_id": "aaea77cd7591440d9bae577f50e40461",
       "version_major": 2,
       "version_minor": 0
      },
      "text/plain": [
       "IntProgress(value=0, description='mvg_8', max=9)"
      ]
     },
     "metadata": {},
     "output_type": "display_data"
    },
    {
     "data": {
      "application/vnd.jupyter.widget-view+json": {
       "model_id": "954789270dd64f7da3d1e3cf2d6b8b23",
       "version_major": 2,
       "version_minor": 0
      },
      "text/plain": [
       "IntProgress(value=0, description='mvg_8', max=9)"
      ]
     },
     "metadata": {},
     "output_type": "display_data"
    },
    {
     "name": "stdout",
     "output_type": "stream",
     "text": [
      "Warning: skipping session with too few trials 23\n",
      "Warning: skipping session with too few trials 36\n",
      "Warning: skipping session with too few trials 10\n",
      "Warning: skipping session with too few trials 6\n",
      "Warning: skipping session with too few trials 4\n",
      "Warning: skipping session with too few trials 15\n",
      "Warning: skipping session with too few trials 31\n",
      "Warning: skipping session with too few trials 38\n",
      "Warning: skipping session with too few trials 6\n",
      "Warning, all sessions had too few trials, this mouse is skipped\n"
     ]
    },
    {
     "data": {
      "application/vnd.jupyter.widget-view+json": {
       "model_id": "56a3eeda9da04ca18842870ab13eea4a",
       "version_major": 2,
       "version_minor": 0
      },
      "text/plain": [
       "IntProgress(value=0, description='mvg_8', max=9)"
      ]
     },
     "metadata": {},
     "output_type": "display_data"
    },
    {
     "name": "stdout",
     "output_type": "stream",
     "text": [
      "Warning: skipping session with too few trials 26\n",
      "Warning: skipping session with too few trials 8\n",
      "Warning: skipping session with too few trials 2\n",
      "Warning: skipping session with too few trials 33\n",
      "Warning: skipping session with too few trials 14\n",
      "Warning: skipping session with too few trials 2\n",
      "Warning: skipping session with too few trials 12\n",
      "Warning: skipping session with too few trials 17\n"
     ]
    },
    {
     "data": {
      "application/vnd.jupyter.widget-view+json": {
       "model_id": "ec515d91a11f4acf8918d1041d2f4e8e",
       "version_major": 2,
       "version_minor": 0
      },
      "text/plain": [
       "IntProgress(value=0, description='mvg_8', max=9)"
      ]
     },
     "metadata": {},
     "output_type": "display_data"
    },
    {
     "data": {
      "application/vnd.jupyter.widget-view+json": {
       "model_id": "d8137079db824fc8a2f6174e1afafdac",
       "version_major": 2,
       "version_minor": 0
      },
      "text/plain": [
       "IntProgress(value=0, description='mvg_8', max=9)"
      ]
     },
     "metadata": {},
     "output_type": "display_data"
    },
    {
     "data": {
      "application/vnd.jupyter.widget-view+json": {
       "model_id": "11f89e7e249a4f189e0dfa63027a56f8",
       "version_major": 2,
       "version_minor": 0
      },
      "text/plain": [
       "IntProgress(value=0, description='mvg_8', max=16)"
      ]
     },
     "metadata": {},
     "output_type": "display_data"
    },
    {
     "data": {
      "application/vnd.jupyter.widget-view+json": {
       "model_id": "cd0a98747ba24febae61f32f05e24972",
       "version_major": 2,
       "version_minor": 0
      },
      "text/plain": [
       "IntProgress(value=0, description='mvg_8', max=16)"
      ]
     },
     "metadata": {},
     "output_type": "display_data"
    },
    {
     "name": "stdout",
     "output_type": "stream",
     "text": [
      "Warning: skipping session with too few trials 34\n",
      "Warning: skipping session with too few trials 23\n",
      "Warning: skipping session with too few trials 36\n",
      "Warning: skipping session with too few trials 10\n",
      "Warning: skipping session with too few trials 6\n",
      "Warning: skipping session with too few trials 4\n",
      "Warning: skipping session with too few trials 15\n",
      "Warning: skipping session with too few trials 31\n",
      "Warning: skipping session with too few trials 38\n",
      "Warning: skipping session with too few trials 6\n"
     ]
    },
    {
     "data": {
      "application/vnd.jupyter.widget-view+json": {
       "model_id": "77163aee622341628dc8ac25e5795c32",
       "version_major": 2,
       "version_minor": 0
      },
      "text/plain": [
       "IntProgress(value=0, description='mvg_8', max=16)"
      ]
     },
     "metadata": {},
     "output_type": "display_data"
    },
    {
     "name": "stdout",
     "output_type": "stream",
     "text": [
      "Warning: skipping session with too few trials 37\n",
      "Warning: skipping session with too few trials 49\n",
      "Warning: skipping session with too few trials 25\n",
      "Warning: skipping session with too few trials 26\n",
      "Warning: skipping session with too few trials 8\n",
      "Warning: skipping session with too few trials 2\n",
      "Warning: skipping session with too few trials 33\n",
      "Warning: skipping session with too few trials 14\n",
      "Warning: skipping session with too few trials 2\n",
      "Warning: skipping session with too few trials 12\n",
      "Warning: skipping session with too few trials 17\n"
     ]
    },
    {
     "data": {
      "application/vnd.jupyter.widget-view+json": {
       "model_id": "d6ca851a6be144c08e554e94cac0835e",
       "version_major": 2,
       "version_minor": 0
      },
      "text/plain": [
       "IntProgress(value=0, description='mvg_8', max=16)"
      ]
     },
     "metadata": {},
     "output_type": "display_data"
    },
    {
     "name": "stdout",
     "output_type": "stream",
     "text": [
      "Warning: skipping session with too few trials 44\n",
      "Warning: skipping session with too few trials 41\n",
      "Warning: skipping session with too few trials 38\n"
     ]
    },
    {
     "data": {
      "application/vnd.jupyter.widget-view+json": {
       "model_id": "3fa399e2fec2480bbe4aec836001c0ae",
       "version_major": 2,
       "version_minor": 0
      },
      "text/plain": [
       "IntProgress(value=0, description='mvg_8', max=16)"
      ]
     },
     "metadata": {},
     "output_type": "display_data"
    },
    {
     "name": "stdout",
     "output_type": "stream",
     "text": [
      "Warning: skipping session with too few trials 11\n",
      "Warning: skipping session with too few trials 4\n",
      "Warning: skipping session with too few trials 30\n",
      "Warning: skipping session with too few trials 21\n"
     ]
    },
    {
     "data": {
      "application/vnd.jupyter.widget-view+json": {
       "model_id": "3e527c089802437899c736865f48abd4",
       "version_major": 2,
       "version_minor": 0
      },
      "text/plain": [
       "IntProgress(value=0, description='mvg_8', max=7)"
      ]
     },
     "metadata": {},
     "output_type": "display_data"
    },
    {
     "data": {
      "application/vnd.jupyter.widget-view+json": {
       "model_id": "59557264e863432f80cc3dcebb001717",
       "version_major": 2,
       "version_minor": 0
      },
      "text/plain": [
       "IntProgress(value=0, description='mvg_8', max=7)"
      ]
     },
     "metadata": {},
     "output_type": "display_data"
    },
    {
     "name": "stdout",
     "output_type": "stream",
     "text": [
      "Warning: skipping session with too few trials 34\n"
     ]
    },
    {
     "data": {
      "application/vnd.jupyter.widget-view+json": {
       "model_id": "6c3b27421a5b407eb871cd751dabf239",
       "version_major": 2,
       "version_minor": 0
      },
      "text/plain": [
       "IntProgress(value=0, description='mvg_8', max=7)"
      ]
     },
     "metadata": {},
     "output_type": "display_data"
    },
    {
     "name": "stdout",
     "output_type": "stream",
     "text": [
      "Warning: skipping session with too few trials 37\n",
      "Warning: skipping session with too few trials 49\n",
      "Warning: skipping session with too few trials 25\n"
     ]
    },
    {
     "data": {
      "application/vnd.jupyter.widget-view+json": {
       "model_id": "2f157c423bae4ac38cb1a8c9162e7c8a",
       "version_major": 2,
       "version_minor": 0
      },
      "text/plain": [
       "IntProgress(value=0, description='mvg_8', max=7)"
      ]
     },
     "metadata": {},
     "output_type": "display_data"
    },
    {
     "name": "stdout",
     "output_type": "stream",
     "text": [
      "Warning: skipping session with too few trials 44\n",
      "Warning: skipping session with too few trials 41\n",
      "Warning: skipping session with too few trials 38\n"
     ]
    },
    {
     "data": {
      "application/vnd.jupyter.widget-view+json": {
       "model_id": "6da7f75e0b904d35b2f16f77854e6270",
       "version_major": 2,
       "version_minor": 0
      },
      "text/plain": [
       "IntProgress(value=0, description='mvg_8', max=7)"
      ]
     },
     "metadata": {},
     "output_type": "display_data"
    },
    {
     "name": "stdout",
     "output_type": "stream",
     "text": [
      "Warning: skipping session with too few trials 11\n",
      "Warning: skipping session with too few trials 4\n",
      "Warning: skipping session with too few trials 30\n",
      "Warning: skipping session with too few trials 21\n"
     ]
    },
    {
     "data": {
      "application/vnd.jupyter.widget-view+json": {
       "model_id": "b6cc0c7450ed4c3aa6a5b83398eac840",
       "version_major": 2,
       "version_minor": 0
      },
      "text/plain": [
       "IntProgress(value=0, description='mvg_8', max=9)"
      ]
     },
     "metadata": {},
     "output_type": "display_data"
    },
    {
     "data": {
      "application/vnd.jupyter.widget-view+json": {
       "model_id": "b3b7c4c36d8a4864ab3d31e9150a80df",
       "version_major": 2,
       "version_minor": 0
      },
      "text/plain": [
       "IntProgress(value=0, description='mvg_8', max=9)"
      ]
     },
     "metadata": {},
     "output_type": "display_data"
    },
    {
     "name": "stdout",
     "output_type": "stream",
     "text": [
      "Warning: skipping session with too few trials 23\n",
      "Warning: skipping session with too few trials 36\n",
      "Warning: skipping session with too few trials 10\n",
      "Warning: skipping session with too few trials 6\n",
      "Warning: skipping session with too few trials 4\n",
      "Warning: skipping session with too few trials 15\n",
      "Warning: skipping session with too few trials 31\n",
      "Warning: skipping session with too few trials 38\n",
      "Warning: skipping session with too few trials 6\n",
      "Warning, all sessions had too few trials, this mouse is skipped\n"
     ]
    },
    {
     "data": {
      "application/vnd.jupyter.widget-view+json": {
       "model_id": "936649d285b7429eb327ad8f3c25681e",
       "version_major": 2,
       "version_minor": 0
      },
      "text/plain": [
       "IntProgress(value=0, description='mvg_8', max=9)"
      ]
     },
     "metadata": {},
     "output_type": "display_data"
    },
    {
     "name": "stdout",
     "output_type": "stream",
     "text": [
      "Warning: skipping session with too few trials 26\n",
      "Warning: skipping session with too few trials 8\n",
      "Warning: skipping session with too few trials 2\n",
      "Warning: skipping session with too few trials 33\n",
      "Warning: skipping session with too few trials 14\n",
      "Warning: skipping session with too few trials 2\n",
      "Warning: skipping session with too few trials 12\n",
      "Warning: skipping session with too few trials 17\n"
     ]
    },
    {
     "data": {
      "application/vnd.jupyter.widget-view+json": {
       "model_id": "177019ca5e544213b46b88d11df9d89b",
       "version_major": 2,
       "version_minor": 0
      },
      "text/plain": [
       "IntProgress(value=0, description='mvg_8', max=9)"
      ]
     },
     "metadata": {},
     "output_type": "display_data"
    },
    {
     "data": {
      "application/vnd.jupyter.widget-view+json": {
       "model_id": "311bf414ba174b0181aca7e91af8602c",
       "version_major": 2,
       "version_minor": 0
      },
      "text/plain": [
       "IntProgress(value=0, description='mvg_8', max=9)"
      ]
     },
     "metadata": {},
     "output_type": "display_data"
    },
    {
     "data": {
      "application/vnd.jupyter.widget-view+json": {
       "model_id": "fd79354a0ebd4ef1af57e6293c04abaa",
       "version_major": 2,
       "version_minor": 0
      },
      "text/plain": [
       "IntProgress(value=0, description='mvg_4', max=11)"
      ]
     },
     "metadata": {},
     "output_type": "display_data"
    },
    {
     "data": {
      "application/vnd.jupyter.widget-view+json": {
       "model_id": "478438bd8fbd44419c9a6ca83e19aaf5",
       "version_major": 2,
       "version_minor": 0
      },
      "text/plain": [
       "IntProgress(value=0, description='mvg_4', max=11)"
      ]
     },
     "metadata": {},
     "output_type": "display_data"
    },
    {
     "name": "stdout",
     "output_type": "stream",
     "text": [
      "Warning: skipping session with too few trials 40\n",
      "Warning: skipping session with too few trials 27\n",
      "Warning: skipping session with too few trials 34\n",
      "Warning: skipping session with too few trials 42\n"
     ]
    },
    {
     "data": {
      "application/vnd.jupyter.widget-view+json": {
       "model_id": "140d34a19d5147929b11ffc817b38438",
       "version_major": 2,
       "version_minor": 0
      },
      "text/plain": [
       "IntProgress(value=0, description='mvg_4', max=11)"
      ]
     },
     "metadata": {},
     "output_type": "display_data"
    },
    {
     "name": "stdout",
     "output_type": "stream",
     "text": [
      "Warning: skipping session with too few trials 23\n",
      "Warning: skipping session with too few trials 45\n",
      "Warning: skipping session with too few trials 6\n",
      "Warning: skipping session with too few trials 5\n",
      "Warning: skipping session with too few trials 25\n",
      "Warning: skipping session with too few trials 15\n",
      "Warning: skipping session with too few trials 10\n",
      "Warning: skipping session with too few trials 38\n",
      "Warning: skipping session with too few trials 34\n",
      "Warning: skipping session with too few trials 16\n"
     ]
    },
    {
     "data": {
      "application/vnd.jupyter.widget-view+json": {
       "model_id": "74e98ee8abd94c3e8541dbd2617d61fa",
       "version_major": 2,
       "version_minor": 0
      },
      "text/plain": [
       "IntProgress(value=0, description='mvg_4', max=11)"
      ]
     },
     "metadata": {},
     "output_type": "display_data"
    },
    {
     "data": {
      "application/vnd.jupyter.widget-view+json": {
       "model_id": "8ef6583661c64367bdb925ad4ef71340",
       "version_major": 2,
       "version_minor": 0
      },
      "text/plain": [
       "IntProgress(value=0, description='mvg_4', max=11)"
      ]
     },
     "metadata": {},
     "output_type": "display_data"
    },
    {
     "data": {
      "application/vnd.jupyter.widget-view+json": {
       "model_id": "b569ea265873478db105f4a5db866b03",
       "version_major": 2,
       "version_minor": 0
      },
      "text/plain": [
       "IntProgress(value=0, description='mvg_4', max=5)"
      ]
     },
     "metadata": {},
     "output_type": "display_data"
    },
    {
     "data": {
      "application/vnd.jupyter.widget-view+json": {
       "model_id": "26f7f845250740079ba2e8014f99c0bd",
       "version_major": 2,
       "version_minor": 0
      },
      "text/plain": [
       "IntProgress(value=0, description='mvg_4', max=5)"
      ]
     },
     "metadata": {},
     "output_type": "display_data"
    },
    {
     "data": {
      "application/vnd.jupyter.widget-view+json": {
       "model_id": "eaa13f2b6bfb4dc993fa871673e73bc5",
       "version_major": 2,
       "version_minor": 0
      },
      "text/plain": [
       "IntProgress(value=0, description='mvg_4', max=5)"
      ]
     },
     "metadata": {},
     "output_type": "display_data"
    },
    {
     "name": "stdout",
     "output_type": "stream",
     "text": [
      "Warning: skipping session with too few trials 23\n",
      "Warning: skipping session with too few trials 45\n",
      "Warning: skipping session with too few trials 6\n",
      "Warning: skipping session with too few trials 5\n"
     ]
    },
    {
     "data": {
      "application/vnd.jupyter.widget-view+json": {
       "model_id": "ffa7a3e935bf4da9977f9b5c8061f3aa",
       "version_major": 2,
       "version_minor": 0
      },
      "text/plain": [
       "IntProgress(value=0, description='mvg_4', max=5)"
      ]
     },
     "metadata": {},
     "output_type": "display_data"
    },
    {
     "data": {
      "application/vnd.jupyter.widget-view+json": {
       "model_id": "d449e4baee4041fab5576a6c021c1ba9",
       "version_major": 2,
       "version_minor": 0
      },
      "text/plain": [
       "IntProgress(value=0, description='mvg_4', max=5)"
      ]
     },
     "metadata": {},
     "output_type": "display_data"
    },
    {
     "data": {
      "application/vnd.jupyter.widget-view+json": {
       "model_id": "172e20e159ce48a680e849b4ac6bf561",
       "version_major": 2,
       "version_minor": 0
      },
      "text/plain": [
       "IntProgress(value=0, description='mvg_4', max=6)"
      ]
     },
     "metadata": {},
     "output_type": "display_data"
    },
    {
     "data": {
      "application/vnd.jupyter.widget-view+json": {
       "model_id": "9022d0d4aa17450c993d02f05d387f67",
       "version_major": 2,
       "version_minor": 0
      },
      "text/plain": [
       "IntProgress(value=0, description='mvg_4', max=6)"
      ]
     },
     "metadata": {},
     "output_type": "display_data"
    },
    {
     "name": "stdout",
     "output_type": "stream",
     "text": [
      "Warning: skipping session with too few trials 40\n",
      "Warning: skipping session with too few trials 27\n",
      "Warning: skipping session with too few trials 34\n",
      "Warning: skipping session with too few trials 42\n"
     ]
    },
    {
     "data": {
      "application/vnd.jupyter.widget-view+json": {
       "model_id": "aaa500ae1fa24a2f8bd215569bbd3ba0",
       "version_major": 2,
       "version_minor": 0
      },
      "text/plain": [
       "IntProgress(value=0, description='mvg_4', max=6)"
      ]
     },
     "metadata": {},
     "output_type": "display_data"
    },
    {
     "name": "stdout",
     "output_type": "stream",
     "text": [
      "Warning: skipping session with too few trials 25\n",
      "Warning: skipping session with too few trials 15\n",
      "Warning: skipping session with too few trials 10\n",
      "Warning: skipping session with too few trials 38\n",
      "Warning: skipping session with too few trials 34\n",
      "Warning: skipping session with too few trials 16\n",
      "Warning, all sessions had too few trials, this mouse is skipped\n"
     ]
    },
    {
     "data": {
      "application/vnd.jupyter.widget-view+json": {
       "model_id": "b9d29a99bee548b780aa0aafcd0e3d49",
       "version_major": 2,
       "version_minor": 0
      },
      "text/plain": [
       "IntProgress(value=0, description='mvg_4', max=6)"
      ]
     },
     "metadata": {},
     "output_type": "display_data"
    },
    {
     "data": {
      "application/vnd.jupyter.widget-view+json": {
       "model_id": "d54a3e5cb82f417f8e66f8f071f4af2a",
       "version_major": 2,
       "version_minor": 0
      },
      "text/plain": [
       "IntProgress(value=0, description='mvg_4', max=6)"
      ]
     },
     "metadata": {},
     "output_type": "display_data"
    },
    {
     "data": {
      "application/vnd.jupyter.widget-view+json": {
       "model_id": "2c07bc09b96040be8a126ae644e9ac7c",
       "version_major": 2,
       "version_minor": 0
      },
      "text/plain": [
       "IntProgress(value=0, description='mvg_4', max=11)"
      ]
     },
     "metadata": {},
     "output_type": "display_data"
    },
    {
     "data": {
      "application/vnd.jupyter.widget-view+json": {
       "model_id": "cef85e74ceb14a6baf63ebb2caed85f2",
       "version_major": 2,
       "version_minor": 0
      },
      "text/plain": [
       "IntProgress(value=0, description='mvg_4', max=11)"
      ]
     },
     "metadata": {},
     "output_type": "display_data"
    },
    {
     "name": "stdout",
     "output_type": "stream",
     "text": [
      "Warning: skipping session with too few trials 40\n",
      "Warning: skipping session with too few trials 27\n",
      "Warning: skipping session with too few trials 34\n",
      "Warning: skipping session with too few trials 42\n"
     ]
    },
    {
     "data": {
      "application/vnd.jupyter.widget-view+json": {
       "model_id": "0ca22a5ba4824a03ab35df36a90d48df",
       "version_major": 2,
       "version_minor": 0
      },
      "text/plain": [
       "IntProgress(value=0, description='mvg_4', max=11)"
      ]
     },
     "metadata": {},
     "output_type": "display_data"
    },
    {
     "name": "stdout",
     "output_type": "stream",
     "text": [
      "Warning: skipping session with too few trials 23\n",
      "Warning: skipping session with too few trials 45\n",
      "Warning: skipping session with too few trials 6\n",
      "Warning: skipping session with too few trials 5\n",
      "Warning: skipping session with too few trials 25\n",
      "Warning: skipping session with too few trials 15\n",
      "Warning: skipping session with too few trials 10\n",
      "Warning: skipping session with too few trials 38\n",
      "Warning: skipping session with too few trials 34\n",
      "Warning: skipping session with too few trials 16\n"
     ]
    },
    {
     "data": {
      "application/vnd.jupyter.widget-view+json": {
       "model_id": "18d0819dad18465dbdec72af19989271",
       "version_major": 2,
       "version_minor": 0
      },
      "text/plain": [
       "IntProgress(value=0, description='mvg_4', max=11)"
      ]
     },
     "metadata": {},
     "output_type": "display_data"
    },
    {
     "data": {
      "application/vnd.jupyter.widget-view+json": {
       "model_id": "d94388ecb06c421d965f09f920190f4c",
       "version_major": 2,
       "version_minor": 0
      },
      "text/plain": [
       "IntProgress(value=0, description='mvg_4', max=11)"
      ]
     },
     "metadata": {},
     "output_type": "display_data"
    },
    {
     "data": {
      "application/vnd.jupyter.widget-view+json": {
       "model_id": "da4d4659e6f94a14b66c1bf9959ff075",
       "version_major": 2,
       "version_minor": 0
      },
      "text/plain": [
       "IntProgress(value=0, description='mvg_4', max=5)"
      ]
     },
     "metadata": {},
     "output_type": "display_data"
    },
    {
     "data": {
      "application/vnd.jupyter.widget-view+json": {
       "model_id": "04c665e9ceb54a5d97ade8014fe0b83f",
       "version_major": 2,
       "version_minor": 0
      },
      "text/plain": [
       "IntProgress(value=0, description='mvg_4', max=5)"
      ]
     },
     "metadata": {},
     "output_type": "display_data"
    },
    {
     "data": {
      "application/vnd.jupyter.widget-view+json": {
       "model_id": "89078b8f300742b587f20ede23b195c4",
       "version_major": 2,
       "version_minor": 0
      },
      "text/plain": [
       "IntProgress(value=0, description='mvg_4', max=5)"
      ]
     },
     "metadata": {},
     "output_type": "display_data"
    },
    {
     "name": "stdout",
     "output_type": "stream",
     "text": [
      "Warning: skipping session with too few trials 23\n",
      "Warning: skipping session with too few trials 45\n",
      "Warning: skipping session with too few trials 6\n",
      "Warning: skipping session with too few trials 5\n"
     ]
    },
    {
     "data": {
      "application/vnd.jupyter.widget-view+json": {
       "model_id": "4243a7ac24514ad6b1fb7331598b5391",
       "version_major": 2,
       "version_minor": 0
      },
      "text/plain": [
       "IntProgress(value=0, description='mvg_4', max=5)"
      ]
     },
     "metadata": {},
     "output_type": "display_data"
    },
    {
     "data": {
      "application/vnd.jupyter.widget-view+json": {
       "model_id": "ed4b59bb3b504518a2928f9bb1afc623",
       "version_major": 2,
       "version_minor": 0
      },
      "text/plain": [
       "IntProgress(value=0, description='mvg_4', max=5)"
      ]
     },
     "metadata": {},
     "output_type": "display_data"
    },
    {
     "data": {
      "application/vnd.jupyter.widget-view+json": {
       "model_id": "b01038f0f0be4f76abdcacaf1a425fb5",
       "version_major": 2,
       "version_minor": 0
      },
      "text/plain": [
       "IntProgress(value=0, description='mvg_4', max=6)"
      ]
     },
     "metadata": {},
     "output_type": "display_data"
    },
    {
     "data": {
      "application/vnd.jupyter.widget-view+json": {
       "model_id": "32486006848d4982aa1bb8326d928b31",
       "version_major": 2,
       "version_minor": 0
      },
      "text/plain": [
       "IntProgress(value=0, description='mvg_4', max=6)"
      ]
     },
     "metadata": {},
     "output_type": "display_data"
    },
    {
     "name": "stdout",
     "output_type": "stream",
     "text": [
      "Warning: skipping session with too few trials 40\n",
      "Warning: skipping session with too few trials 27\n",
      "Warning: skipping session with too few trials 34\n",
      "Warning: skipping session with too few trials 42\n"
     ]
    },
    {
     "data": {
      "application/vnd.jupyter.widget-view+json": {
       "model_id": "79b1e0b83b8e416b800a4e79b37cc28d",
       "version_major": 2,
       "version_minor": 0
      },
      "text/plain": [
       "IntProgress(value=0, description='mvg_4', max=6)"
      ]
     },
     "metadata": {},
     "output_type": "display_data"
    },
    {
     "name": "stdout",
     "output_type": "stream",
     "text": [
      "Warning: skipping session with too few trials 25\n",
      "Warning: skipping session with too few trials 15\n",
      "Warning: skipping session with too few trials 10\n",
      "Warning: skipping session with too few trials 38\n",
      "Warning: skipping session with too few trials 34\n",
      "Warning: skipping session with too few trials 16\n",
      "Warning, all sessions had too few trials, this mouse is skipped\n"
     ]
    },
    {
     "data": {
      "application/vnd.jupyter.widget-view+json": {
       "model_id": "06127f9665fa4e21a4d67934eaa0f255",
       "version_major": 2,
       "version_minor": 0
      },
      "text/plain": [
       "IntProgress(value=0, description='mvg_4', max=6)"
      ]
     },
     "metadata": {},
     "output_type": "display_data"
    },
    {
     "data": {
      "application/vnd.jupyter.widget-view+json": {
       "model_id": "781ba5a100a7492194dfbea325d757a6",
       "version_major": 2,
       "version_minor": 0
      },
      "text/plain": [
       "IntProgress(value=0, description='mvg_4', max=6)"
      ]
     },
     "metadata": {},
     "output_type": "display_data"
    },
    {
     "data": {
      "application/vnd.jupyter.widget-view+json": {
       "model_id": "2e9757dd0e4441f783183ac919d73c11",
       "version_major": 2,
       "version_minor": 0
      },
      "text/plain": [
       "IntProgress(value=0, description='mvg_4', max=11)"
      ]
     },
     "metadata": {},
     "output_type": "display_data"
    },
    {
     "data": {
      "application/vnd.jupyter.widget-view+json": {
       "model_id": "6bfe14e6ccb149d0aaf7620386c573b7",
       "version_major": 2,
       "version_minor": 0
      },
      "text/plain": [
       "IntProgress(value=0, description='mvg_4', max=11)"
      ]
     },
     "metadata": {},
     "output_type": "display_data"
    },
    {
     "name": "stdout",
     "output_type": "stream",
     "text": [
      "Warning: skipping session with too few trials 40\n",
      "Warning: skipping session with too few trials 27\n",
      "Warning: skipping session with too few trials 34\n",
      "Warning: skipping session with too few trials 42\n"
     ]
    },
    {
     "data": {
      "application/vnd.jupyter.widget-view+json": {
       "model_id": "e0e344b19f6644a5b9b5670dfecdc4d6",
       "version_major": 2,
       "version_minor": 0
      },
      "text/plain": [
       "IntProgress(value=0, description='mvg_4', max=11)"
      ]
     },
     "metadata": {},
     "output_type": "display_data"
    },
    {
     "name": "stdout",
     "output_type": "stream",
     "text": [
      "Warning: skipping session with too few trials 23\n",
      "Warning: skipping session with too few trials 45\n",
      "Warning: skipping session with too few trials 6\n",
      "Warning: skipping session with too few trials 5\n",
      "Warning: skipping session with too few trials 25\n",
      "Warning: skipping session with too few trials 15\n",
      "Warning: skipping session with too few trials 10\n",
      "Warning: skipping session with too few trials 38\n",
      "Warning: skipping session with too few trials 34\n",
      "Warning: skipping session with too few trials 16\n"
     ]
    },
    {
     "data": {
      "application/vnd.jupyter.widget-view+json": {
       "model_id": "16f1d36e4958424d9fc5bd86f4e15fac",
       "version_major": 2,
       "version_minor": 0
      },
      "text/plain": [
       "IntProgress(value=0, description='mvg_4', max=11)"
      ]
     },
     "metadata": {},
     "output_type": "display_data"
    },
    {
     "data": {
      "application/vnd.jupyter.widget-view+json": {
       "model_id": "648d0363e80945a08bf6b69b8ec17dcf",
       "version_major": 2,
       "version_minor": 0
      },
      "text/plain": [
       "IntProgress(value=0, description='mvg_4', max=11)"
      ]
     },
     "metadata": {},
     "output_type": "display_data"
    },
    {
     "data": {
      "application/vnd.jupyter.widget-view+json": {
       "model_id": "5f9d3061e6434429bc25b072601f6cb7",
       "version_major": 2,
       "version_minor": 0
      },
      "text/plain": [
       "IntProgress(value=0, description='mvg_4', max=5)"
      ]
     },
     "metadata": {},
     "output_type": "display_data"
    },
    {
     "data": {
      "application/vnd.jupyter.widget-view+json": {
       "model_id": "d939ee0aaf494cb4bb3a2bdeb692f5bb",
       "version_major": 2,
       "version_minor": 0
      },
      "text/plain": [
       "IntProgress(value=0, description='mvg_4', max=5)"
      ]
     },
     "metadata": {},
     "output_type": "display_data"
    },
    {
     "data": {
      "application/vnd.jupyter.widget-view+json": {
       "model_id": "a1b09c32097e40eaab185f804a6d2609",
       "version_major": 2,
       "version_minor": 0
      },
      "text/plain": [
       "IntProgress(value=0, description='mvg_4', max=5)"
      ]
     },
     "metadata": {},
     "output_type": "display_data"
    },
    {
     "name": "stdout",
     "output_type": "stream",
     "text": [
      "Warning: skipping session with too few trials 23\n",
      "Warning: skipping session with too few trials 45\n",
      "Warning: skipping session with too few trials 6\n",
      "Warning: skipping session with too few trials 5\n"
     ]
    },
    {
     "data": {
      "application/vnd.jupyter.widget-view+json": {
       "model_id": "84a574a04d6d42c2bcdda3272a1b9578",
       "version_major": 2,
       "version_minor": 0
      },
      "text/plain": [
       "IntProgress(value=0, description='mvg_4', max=5)"
      ]
     },
     "metadata": {},
     "output_type": "display_data"
    },
    {
     "data": {
      "application/vnd.jupyter.widget-view+json": {
       "model_id": "fa4b10ffef4f463692aea1cac774f1a4",
       "version_major": 2,
       "version_minor": 0
      },
      "text/plain": [
       "IntProgress(value=0, description='mvg_4', max=5)"
      ]
     },
     "metadata": {},
     "output_type": "display_data"
    },
    {
     "data": {
      "application/vnd.jupyter.widget-view+json": {
       "model_id": "7d2ff2c860584ee09417583e587e2303",
       "version_major": 2,
       "version_minor": 0
      },
      "text/plain": [
       "IntProgress(value=0, description='mvg_4', max=6)"
      ]
     },
     "metadata": {},
     "output_type": "display_data"
    },
    {
     "data": {
      "application/vnd.jupyter.widget-view+json": {
       "model_id": "824999f6951d455985d39cb4327c7314",
       "version_major": 2,
       "version_minor": 0
      },
      "text/plain": [
       "IntProgress(value=0, description='mvg_4', max=6)"
      ]
     },
     "metadata": {},
     "output_type": "display_data"
    },
    {
     "name": "stdout",
     "output_type": "stream",
     "text": [
      "Warning: skipping session with too few trials 40\n",
      "Warning: skipping session with too few trials 27\n",
      "Warning: skipping session with too few trials 34\n",
      "Warning: skipping session with too few trials 42\n"
     ]
    },
    {
     "data": {
      "application/vnd.jupyter.widget-view+json": {
       "model_id": "66c84406baf1477bbb7d195466cf5718",
       "version_major": 2,
       "version_minor": 0
      },
      "text/plain": [
       "IntProgress(value=0, description='mvg_4', max=6)"
      ]
     },
     "metadata": {},
     "output_type": "display_data"
    },
    {
     "name": "stdout",
     "output_type": "stream",
     "text": [
      "Warning: skipping session with too few trials 25\n",
      "Warning: skipping session with too few trials 15\n",
      "Warning: skipping session with too few trials 10\n",
      "Warning: skipping session with too few trials 38\n",
      "Warning: skipping session with too few trials 34\n",
      "Warning: skipping session with too few trials 16\n",
      "Warning, all sessions had too few trials, this mouse is skipped\n"
     ]
    },
    {
     "data": {
      "application/vnd.jupyter.widget-view+json": {
       "model_id": "97b425d1d9a445dea9ee7cf1f53ab77e",
       "version_major": 2,
       "version_minor": 0
      },
      "text/plain": [
       "IntProgress(value=0, description='mvg_4', max=6)"
      ]
     },
     "metadata": {},
     "output_type": "display_data"
    },
    {
     "data": {
      "application/vnd.jupyter.widget-view+json": {
       "model_id": "a50d82192f51492587fa9f68d6562520",
       "version_major": 2,
       "version_minor": 0
      },
      "text/plain": [
       "IntProgress(value=0, description='mvg_4', max=6)"
      ]
     },
     "metadata": {},
     "output_type": "display_data"
    },
    {
     "data": {
      "application/vnd.jupyter.widget-view+json": {
       "model_id": "a4e1d262b4c34e6cbf8ed88afaec1420",
       "version_major": 2,
       "version_minor": 0
      },
      "text/plain": [
       "IntProgress(value=0, description='mvg_7', max=18)"
      ]
     },
     "metadata": {},
     "output_type": "display_data"
    },
    {
     "data": {
      "application/vnd.jupyter.widget-view+json": {
       "model_id": "32fd8b4dae364e9eb4a942749c98d2d3",
       "version_major": 2,
       "version_minor": 0
      },
      "text/plain": [
       "IntProgress(value=0, description='mvg_7', max=18)"
      ]
     },
     "metadata": {},
     "output_type": "display_data"
    },
    {
     "name": "stdout",
     "output_type": "stream",
     "text": [
      "Warning: skipping session with too few trials 1\n",
      "Warning: skipping session with too few trials 0\n",
      "Warning: skipping session with too few trials 0\n",
      "Warning: skipping session with too few trials 43\n",
      "Warning: skipping session with too few trials 46\n",
      "Warning: skipping session with too few trials 17\n"
     ]
    },
    {
     "data": {
      "application/vnd.jupyter.widget-view+json": {
       "model_id": "8b603de6bf96402fa27d3a76da6a7be2",
       "version_major": 2,
       "version_minor": 0
      },
      "text/plain": [
       "IntProgress(value=0, description='mvg_7', max=18)"
      ]
     },
     "metadata": {},
     "output_type": "display_data"
    },
    {
     "name": "stdout",
     "output_type": "stream",
     "text": [
      "Warning: skipping session with too few trials 35\n",
      "Warning: skipping session with too few trials 46\n",
      "Warning: skipping session with too few trials 38\n",
      "Warning: skipping session with too few trials 20\n",
      "Warning: skipping session with too few trials 49\n"
     ]
    },
    {
     "data": {
      "application/vnd.jupyter.widget-view+json": {
       "model_id": "5dbffd9b779443dc8193ae4018961eda",
       "version_major": 2,
       "version_minor": 0
      },
      "text/plain": [
       "IntProgress(value=0, description='mvg_7', max=18)"
      ]
     },
     "metadata": {},
     "output_type": "display_data"
    },
    {
     "name": "stdout",
     "output_type": "stream",
     "text": [
      "Warning: skipping session with too few trials 3\n",
      "Warning: skipping session with too few trials 13\n",
      "Warning: skipping session with too few trials 13\n"
     ]
    },
    {
     "data": {
      "application/vnd.jupyter.widget-view+json": {
       "model_id": "1204d29d4a6245fd89ecc54aeac111f9",
       "version_major": 2,
       "version_minor": 0
      },
      "text/plain": [
       "IntProgress(value=0, description='mvg_7', max=18)"
      ]
     },
     "metadata": {},
     "output_type": "display_data"
    },
    {
     "name": "stdout",
     "output_type": "stream",
     "text": [
      "Warning: skipping session with too few trials 0\n",
      "Warning: skipping session with too few trials 0\n",
      "Warning: skipping session with too few trials 0\n",
      "Warning: skipping session with too few trials 31\n"
     ]
    },
    {
     "data": {
      "application/vnd.jupyter.widget-view+json": {
       "model_id": "354a292e4a1a4ff9afadd28be270491d",
       "version_major": 2,
       "version_minor": 0
      },
      "text/plain": [
       "IntProgress(value=0, description='mvg_7', max=15)"
      ]
     },
     "metadata": {},
     "output_type": "display_data"
    },
    {
     "data": {
      "application/vnd.jupyter.widget-view+json": {
       "model_id": "dadd0e4a5db44aefa90ef54940f018ac",
       "version_major": 2,
       "version_minor": 0
      },
      "text/plain": [
       "IntProgress(value=0, description='mvg_7', max=15)"
      ]
     },
     "metadata": {},
     "output_type": "display_data"
    },
    {
     "name": "stdout",
     "output_type": "stream",
     "text": [
      "Warning: skipping session with too few trials 1\n",
      "Warning: skipping session with too few trials 0\n",
      "Warning: skipping session with too few trials 0\n",
      "Warning: skipping session with too few trials 43\n",
      "Warning: skipping session with too few trials 46\n"
     ]
    },
    {
     "data": {
      "application/vnd.jupyter.widget-view+json": {
       "model_id": "14b9542e03c742f78a72b110083ed5d5",
       "version_major": 2,
       "version_minor": 0
      },
      "text/plain": [
       "IntProgress(value=0, description='mvg_7', max=15)"
      ]
     },
     "metadata": {},
     "output_type": "display_data"
    },
    {
     "name": "stdout",
     "output_type": "stream",
     "text": [
      "Warning: skipping session with too few trials 35\n",
      "Warning: skipping session with too few trials 46\n",
      "Warning: skipping session with too few trials 38\n"
     ]
    },
    {
     "data": {
      "application/vnd.jupyter.widget-view+json": {
       "model_id": "791cd7fa268349fb864686d787dbd9dd",
       "version_major": 2,
       "version_minor": 0
      },
      "text/plain": [
       "IntProgress(value=0, description='mvg_7', max=15)"
      ]
     },
     "metadata": {},
     "output_type": "display_data"
    },
    {
     "name": "stdout",
     "output_type": "stream",
     "text": [
      "Warning: skipping session with too few trials 3\n",
      "Warning: skipping session with too few trials 13\n",
      "Warning: skipping session with too few trials 13\n"
     ]
    },
    {
     "data": {
      "application/vnd.jupyter.widget-view+json": {
       "model_id": "d84cb07ae70d404a97a81be4c5277115",
       "version_major": 2,
       "version_minor": 0
      },
      "text/plain": [
       "IntProgress(value=0, description='mvg_7', max=15)"
      ]
     },
     "metadata": {},
     "output_type": "display_data"
    },
    {
     "name": "stdout",
     "output_type": "stream",
     "text": [
      "Warning: skipping session with too few trials 0\n",
      "Warning: skipping session with too few trials 0\n",
      "Warning: skipping session with too few trials 0\n",
      "Warning: skipping session with too few trials 31\n"
     ]
    },
    {
     "data": {
      "application/vnd.jupyter.widget-view+json": {
       "model_id": "e109edfcdc7d4490840ffaede47e77f0",
       "version_major": 2,
       "version_minor": 0
      },
      "text/plain": [
       "IntProgress(value=0, description='mvg_7', max=3)"
      ]
     },
     "metadata": {},
     "output_type": "display_data"
    },
    {
     "data": {
      "application/vnd.jupyter.widget-view+json": {
       "model_id": "0a157b4c5f674545b0bc39429fdc515c",
       "version_major": 2,
       "version_minor": 0
      },
      "text/plain": [
       "IntProgress(value=0, description='mvg_7', max=3)"
      ]
     },
     "metadata": {},
     "output_type": "display_data"
    },
    {
     "name": "stdout",
     "output_type": "stream",
     "text": [
      "Warning: skipping session with too few trials 17\n"
     ]
    },
    {
     "data": {
      "application/vnd.jupyter.widget-view+json": {
       "model_id": "04838eb8e9ed48ffa0f8bdd80db41d1d",
       "version_major": 2,
       "version_minor": 0
      },
      "text/plain": [
       "IntProgress(value=0, description='mvg_7', max=3)"
      ]
     },
     "metadata": {},
     "output_type": "display_data"
    },
    {
     "name": "stdout",
     "output_type": "stream",
     "text": [
      "Warning: skipping session with too few trials 20\n",
      "Warning: skipping session with too few trials 49\n"
     ]
    },
    {
     "data": {
      "application/vnd.jupyter.widget-view+json": {
       "model_id": "f857110a094b466fa2b28846aaa46600",
       "version_major": 2,
       "version_minor": 0
      },
      "text/plain": [
       "IntProgress(value=0, description='mvg_7', max=3)"
      ]
     },
     "metadata": {},
     "output_type": "display_data"
    },
    {
     "data": {
      "application/vnd.jupyter.widget-view+json": {
       "model_id": "faba008f787248bea35983aeb65a7362",
       "version_major": 2,
       "version_minor": 0
      },
      "text/plain": [
       "IntProgress(value=0, description='mvg_7', max=3)"
      ]
     },
     "metadata": {},
     "output_type": "display_data"
    },
    {
     "data": {
      "application/vnd.jupyter.widget-view+json": {
       "model_id": "540ce27aca2540088820dcdb95435581",
       "version_major": 2,
       "version_minor": 0
      },
      "text/plain": [
       "IntProgress(value=0, description='mvg_7', max=18)"
      ]
     },
     "metadata": {},
     "output_type": "display_data"
    },
    {
     "data": {
      "application/vnd.jupyter.widget-view+json": {
       "model_id": "565e6f0b2fde4f548ed328eec72768fb",
       "version_major": 2,
       "version_minor": 0
      },
      "text/plain": [
       "IntProgress(value=0, description='mvg_7', max=18)"
      ]
     },
     "metadata": {},
     "output_type": "display_data"
    },
    {
     "name": "stdout",
     "output_type": "stream",
     "text": [
      "Warning: skipping session with too few trials 1\n",
      "Warning: skipping session with too few trials 0\n",
      "Warning: skipping session with too few trials 0\n",
      "Warning: skipping session with too few trials 43\n",
      "Warning: skipping session with too few trials 46\n",
      "Warning: skipping session with too few trials 17\n"
     ]
    },
    {
     "data": {
      "application/vnd.jupyter.widget-view+json": {
       "model_id": "5adc4e7fae7a4803b22c9b2952f8645f",
       "version_major": 2,
       "version_minor": 0
      },
      "text/plain": [
       "IntProgress(value=0, description='mvg_7', max=18)"
      ]
     },
     "metadata": {},
     "output_type": "display_data"
    },
    {
     "name": "stdout",
     "output_type": "stream",
     "text": [
      "Warning: skipping session with too few trials 35\n",
      "Warning: skipping session with too few trials 46\n",
      "Warning: skipping session with too few trials 38\n",
      "Warning: skipping session with too few trials 20\n",
      "Warning: skipping session with too few trials 49\n"
     ]
    },
    {
     "data": {
      "application/vnd.jupyter.widget-view+json": {
       "model_id": "ee9d2cb8c2b04ebbbed9044871b40ae9",
       "version_major": 2,
       "version_minor": 0
      },
      "text/plain": [
       "IntProgress(value=0, description='mvg_7', max=18)"
      ]
     },
     "metadata": {},
     "output_type": "display_data"
    },
    {
     "name": "stdout",
     "output_type": "stream",
     "text": [
      "Warning: skipping session with too few trials 3\n",
      "Warning: skipping session with too few trials 13\n",
      "Warning: skipping session with too few trials 13\n"
     ]
    },
    {
     "data": {
      "application/vnd.jupyter.widget-view+json": {
       "model_id": "422359c6410d4f9fa59d4065e6973cc2",
       "version_major": 2,
       "version_minor": 0
      },
      "text/plain": [
       "IntProgress(value=0, description='mvg_7', max=18)"
      ]
     },
     "metadata": {},
     "output_type": "display_data"
    },
    {
     "name": "stdout",
     "output_type": "stream",
     "text": [
      "Warning: skipping session with too few trials 0\n",
      "Warning: skipping session with too few trials 0\n",
      "Warning: skipping session with too few trials 0\n",
      "Warning: skipping session with too few trials 31\n"
     ]
    },
    {
     "data": {
      "application/vnd.jupyter.widget-view+json": {
       "model_id": "97dc939ae08b4c2b87921cdc2db5d58a",
       "version_major": 2,
       "version_minor": 0
      },
      "text/plain": [
       "IntProgress(value=0, description='mvg_7', max=15)"
      ]
     },
     "metadata": {},
     "output_type": "display_data"
    },
    {
     "data": {
      "application/vnd.jupyter.widget-view+json": {
       "model_id": "b0124fd91ed1494e9cb5b7f93251675d",
       "version_major": 2,
       "version_minor": 0
      },
      "text/plain": [
       "IntProgress(value=0, description='mvg_7', max=15)"
      ]
     },
     "metadata": {},
     "output_type": "display_data"
    },
    {
     "name": "stdout",
     "output_type": "stream",
     "text": [
      "Warning: skipping session with too few trials 1\n",
      "Warning: skipping session with too few trials 0\n",
      "Warning: skipping session with too few trials 0\n",
      "Warning: skipping session with too few trials 43\n",
      "Warning: skipping session with too few trials 46\n"
     ]
    },
    {
     "data": {
      "application/vnd.jupyter.widget-view+json": {
       "model_id": "3a8e166a9cde46659efe82eea0862e3a",
       "version_major": 2,
       "version_minor": 0
      },
      "text/plain": [
       "IntProgress(value=0, description='mvg_7', max=15)"
      ]
     },
     "metadata": {},
     "output_type": "display_data"
    },
    {
     "name": "stdout",
     "output_type": "stream",
     "text": [
      "Warning: skipping session with too few trials 35\n",
      "Warning: skipping session with too few trials 46\n",
      "Warning: skipping session with too few trials 38\n"
     ]
    },
    {
     "data": {
      "application/vnd.jupyter.widget-view+json": {
       "model_id": "9f3844dd687b46e7afbbb95dea02d057",
       "version_major": 2,
       "version_minor": 0
      },
      "text/plain": [
       "IntProgress(value=0, description='mvg_7', max=15)"
      ]
     },
     "metadata": {},
     "output_type": "display_data"
    },
    {
     "name": "stdout",
     "output_type": "stream",
     "text": [
      "Warning: skipping session with too few trials 3\n",
      "Warning: skipping session with too few trials 13\n",
      "Warning: skipping session with too few trials 13\n"
     ]
    },
    {
     "data": {
      "application/vnd.jupyter.widget-view+json": {
       "model_id": "2845ff4a7c2f4bdca516a0431cc0b96e",
       "version_major": 2,
       "version_minor": 0
      },
      "text/plain": [
       "IntProgress(value=0, description='mvg_7', max=15)"
      ]
     },
     "metadata": {},
     "output_type": "display_data"
    },
    {
     "name": "stdout",
     "output_type": "stream",
     "text": [
      "Warning: skipping session with too few trials 0\n",
      "Warning: skipping session with too few trials 0\n",
      "Warning: skipping session with too few trials 0\n",
      "Warning: skipping session with too few trials 31\n"
     ]
    },
    {
     "data": {
      "application/vnd.jupyter.widget-view+json": {
       "model_id": "76ba7904cb054019b4d1747dc5893f2b",
       "version_major": 2,
       "version_minor": 0
      },
      "text/plain": [
       "IntProgress(value=0, description='mvg_7', max=3)"
      ]
     },
     "metadata": {},
     "output_type": "display_data"
    },
    {
     "data": {
      "application/vnd.jupyter.widget-view+json": {
       "model_id": "ff80745bc8f847c08a8fd4f27092ff1c",
       "version_major": 2,
       "version_minor": 0
      },
      "text/plain": [
       "IntProgress(value=0, description='mvg_7', max=3)"
      ]
     },
     "metadata": {},
     "output_type": "display_data"
    },
    {
     "name": "stdout",
     "output_type": "stream",
     "text": [
      "Warning: skipping session with too few trials 17\n"
     ]
    },
    {
     "data": {
      "application/vnd.jupyter.widget-view+json": {
       "model_id": "5b270bd9a12941c38dd9a28ecc06890e",
       "version_major": 2,
       "version_minor": 0
      },
      "text/plain": [
       "IntProgress(value=0, description='mvg_7', max=3)"
      ]
     },
     "metadata": {},
     "output_type": "display_data"
    },
    {
     "name": "stdout",
     "output_type": "stream",
     "text": [
      "Warning: skipping session with too few trials 20\n",
      "Warning: skipping session with too few trials 49\n"
     ]
    },
    {
     "data": {
      "application/vnd.jupyter.widget-view+json": {
       "model_id": "bd3651cf154946f3b6ffc9d1fe54968e",
       "version_major": 2,
       "version_minor": 0
      },
      "text/plain": [
       "IntProgress(value=0, description='mvg_7', max=3)"
      ]
     },
     "metadata": {},
     "output_type": "display_data"
    },
    {
     "data": {
      "application/vnd.jupyter.widget-view+json": {
       "model_id": "fffb8c7c47864959b917fffaa58bffde",
       "version_major": 2,
       "version_minor": 0
      },
      "text/plain": [
       "IntProgress(value=0, description='mvg_7', max=3)"
      ]
     },
     "metadata": {},
     "output_type": "display_data"
    },
    {
     "data": {
      "application/vnd.jupyter.widget-view+json": {
       "model_id": "61e68ffea2f44eddb2a2cfb961bd0f61",
       "version_major": 2,
       "version_minor": 0
      },
      "text/plain": [
       "IntProgress(value=0, description='mvg_7', max=18)"
      ]
     },
     "metadata": {},
     "output_type": "display_data"
    },
    {
     "data": {
      "application/vnd.jupyter.widget-view+json": {
       "model_id": "fef5cb5f272944e18e4c862f47d5876e",
       "version_major": 2,
       "version_minor": 0
      },
      "text/plain": [
       "IntProgress(value=0, description='mvg_7', max=18)"
      ]
     },
     "metadata": {},
     "output_type": "display_data"
    },
    {
     "name": "stdout",
     "output_type": "stream",
     "text": [
      "Warning: skipping session with too few trials 1\n",
      "Warning: skipping session with too few trials 0\n",
      "Warning: skipping session with too few trials 0\n",
      "Warning: skipping session with too few trials 43\n",
      "Warning: skipping session with too few trials 46\n",
      "Warning: skipping session with too few trials 17\n"
     ]
    },
    {
     "data": {
      "application/vnd.jupyter.widget-view+json": {
       "model_id": "1f186ebbd7644f4bba562f1f21bc5122",
       "version_major": 2,
       "version_minor": 0
      },
      "text/plain": [
       "IntProgress(value=0, description='mvg_7', max=18)"
      ]
     },
     "metadata": {},
     "output_type": "display_data"
    },
    {
     "name": "stdout",
     "output_type": "stream",
     "text": [
      "Warning: skipping session with too few trials 35\n",
      "Warning: skipping session with too few trials 46\n",
      "Warning: skipping session with too few trials 38\n",
      "Warning: skipping session with too few trials 20\n",
      "Warning: skipping session with too few trials 49\n"
     ]
    },
    {
     "data": {
      "application/vnd.jupyter.widget-view+json": {
       "model_id": "4e6ff9d9416f4be9866ce4d82df12f70",
       "version_major": 2,
       "version_minor": 0
      },
      "text/plain": [
       "IntProgress(value=0, description='mvg_7', max=18)"
      ]
     },
     "metadata": {},
     "output_type": "display_data"
    },
    {
     "name": "stdout",
     "output_type": "stream",
     "text": [
      "Warning: skipping session with too few trials 3\n",
      "Warning: skipping session with too few trials 13\n",
      "Warning: skipping session with too few trials 13\n"
     ]
    },
    {
     "data": {
      "application/vnd.jupyter.widget-view+json": {
       "model_id": "11fe4a6650c84700a29f84d7151f51c7",
       "version_major": 2,
       "version_minor": 0
      },
      "text/plain": [
       "IntProgress(value=0, description='mvg_7', max=18)"
      ]
     },
     "metadata": {},
     "output_type": "display_data"
    },
    {
     "name": "stdout",
     "output_type": "stream",
     "text": [
      "Warning: skipping session with too few trials 0\n",
      "Warning: skipping session with too few trials 0\n",
      "Warning: skipping session with too few trials 0\n",
      "Warning: skipping session with too few trials 31\n"
     ]
    },
    {
     "data": {
      "application/vnd.jupyter.widget-view+json": {
       "model_id": "92fc6518ae484df68962a1db968e3634",
       "version_major": 2,
       "version_minor": 0
      },
      "text/plain": [
       "IntProgress(value=0, description='mvg_7', max=15)"
      ]
     },
     "metadata": {},
     "output_type": "display_data"
    },
    {
     "data": {
      "application/vnd.jupyter.widget-view+json": {
       "model_id": "22bdcc33a5ab40bfbcaeea8104ede6b9",
       "version_major": 2,
       "version_minor": 0
      },
      "text/plain": [
       "IntProgress(value=0, description='mvg_7', max=15)"
      ]
     },
     "metadata": {},
     "output_type": "display_data"
    },
    {
     "name": "stdout",
     "output_type": "stream",
     "text": [
      "Warning: skipping session with too few trials 1\n",
      "Warning: skipping session with too few trials 0\n",
      "Warning: skipping session with too few trials 0\n",
      "Warning: skipping session with too few trials 43\n",
      "Warning: skipping session with too few trials 46\n"
     ]
    },
    {
     "data": {
      "application/vnd.jupyter.widget-view+json": {
       "model_id": "99a48fbbd22d4427b87263e7d235e214",
       "version_major": 2,
       "version_minor": 0
      },
      "text/plain": [
       "IntProgress(value=0, description='mvg_7', max=15)"
      ]
     },
     "metadata": {},
     "output_type": "display_data"
    },
    {
     "name": "stdout",
     "output_type": "stream",
     "text": [
      "Warning: skipping session with too few trials 35\n",
      "Warning: skipping session with too few trials 46\n",
      "Warning: skipping session with too few trials 38\n"
     ]
    },
    {
     "data": {
      "application/vnd.jupyter.widget-view+json": {
       "model_id": "ce81a317aaf142db9a87646a4fad6b5d",
       "version_major": 2,
       "version_minor": 0
      },
      "text/plain": [
       "IntProgress(value=0, description='mvg_7', max=15)"
      ]
     },
     "metadata": {},
     "output_type": "display_data"
    },
    {
     "name": "stdout",
     "output_type": "stream",
     "text": [
      "Warning: skipping session with too few trials 3\n",
      "Warning: skipping session with too few trials 13\n",
      "Warning: skipping session with too few trials 13\n"
     ]
    },
    {
     "data": {
      "application/vnd.jupyter.widget-view+json": {
       "model_id": "5c379c6dee694cc9b01986312550cf68",
       "version_major": 2,
       "version_minor": 0
      },
      "text/plain": [
       "IntProgress(value=0, description='mvg_7', max=15)"
      ]
     },
     "metadata": {},
     "output_type": "display_data"
    },
    {
     "name": "stdout",
     "output_type": "stream",
     "text": [
      "Warning: skipping session with too few trials 0\n",
      "Warning: skipping session with too few trials 0\n",
      "Warning: skipping session with too few trials 0\n",
      "Warning: skipping session with too few trials 31\n"
     ]
    },
    {
     "data": {
      "application/vnd.jupyter.widget-view+json": {
       "model_id": "1553d76553144c0bade8ff2634b057dd",
       "version_major": 2,
       "version_minor": 0
      },
      "text/plain": [
       "IntProgress(value=0, description='mvg_7', max=3)"
      ]
     },
     "metadata": {},
     "output_type": "display_data"
    },
    {
     "data": {
      "application/vnd.jupyter.widget-view+json": {
       "model_id": "8d00a777a82e414ab38a4d62d96e5acb",
       "version_major": 2,
       "version_minor": 0
      },
      "text/plain": [
       "IntProgress(value=0, description='mvg_7', max=3)"
      ]
     },
     "metadata": {},
     "output_type": "display_data"
    },
    {
     "name": "stdout",
     "output_type": "stream",
     "text": [
      "Warning: skipping session with too few trials 17\n"
     ]
    },
    {
     "data": {
      "application/vnd.jupyter.widget-view+json": {
       "model_id": "df35e74561d9402ab3885d766f1f6b6f",
       "version_major": 2,
       "version_minor": 0
      },
      "text/plain": [
       "IntProgress(value=0, description='mvg_7', max=3)"
      ]
     },
     "metadata": {},
     "output_type": "display_data"
    },
    {
     "name": "stdout",
     "output_type": "stream",
     "text": [
      "Warning: skipping session with too few trials 20\n",
      "Warning: skipping session with too few trials 49\n"
     ]
    },
    {
     "data": {
      "application/vnd.jupyter.widget-view+json": {
       "model_id": "af66a7ed4e934852a7acdf515e7fb6f0",
       "version_major": 2,
       "version_minor": 0
      },
      "text/plain": [
       "IntProgress(value=0, description='mvg_7', max=3)"
      ]
     },
     "metadata": {},
     "output_type": "display_data"
    },
    {
     "data": {
      "application/vnd.jupyter.widget-view+json": {
       "model_id": "d3780bae6e8843ac990f0a2a49f84a32",
       "version_major": 2,
       "version_minor": 0
      },
      "text/plain": [
       "IntProgress(value=0, description='mvg_7', max=3)"
      ]
     },
     "metadata": {},
     "output_type": "display_data"
    },
    {
     "data": {
      "application/vnd.jupyter.widget-view+json": {
       "model_id": "8b3f1d11fea3425eb0cad2301b4be8af",
       "version_major": 2,
       "version_minor": 0
      },
      "text/plain": [
       "IntProgress(value=0, description='mvg_9', max=21)"
      ]
     },
     "metadata": {},
     "output_type": "display_data"
    },
    {
     "data": {
      "application/vnd.jupyter.widget-view+json": {
       "model_id": "171b7cbcc3f24ee5aafd64c4a70d623f",
       "version_major": 2,
       "version_minor": 0
      },
      "text/plain": [
       "IntProgress(value=0, description='mvg_9', max=21)"
      ]
     },
     "metadata": {},
     "output_type": "display_data"
    },
    {
     "name": "stdout",
     "output_type": "stream",
     "text": [
      "Warning: skipping session with too few trials 13\n"
     ]
    },
    {
     "data": {
      "application/vnd.jupyter.widget-view+json": {
       "model_id": "80184f90e9884445ab769bf63cca8d74",
       "version_major": 2,
       "version_minor": 0
      },
      "text/plain": [
       "IntProgress(value=0, description='mvg_9', max=21)"
      ]
     },
     "metadata": {},
     "output_type": "display_data"
    },
    {
     "name": "stdout",
     "output_type": "stream",
     "text": [
      "Warning: skipping session with too few trials 39\n",
      "Warning: skipping session with too few trials 11\n",
      "Warning: skipping session with too few trials 40\n",
      "Warning: skipping session with too few trials 19\n",
      "Warning: skipping session with too few trials 41\n",
      "Warning: skipping session with too few trials 37\n"
     ]
    },
    {
     "data": {
      "application/vnd.jupyter.widget-view+json": {
       "model_id": "e81772228f6e4defaf307ae06f6e0a59",
       "version_major": 2,
       "version_minor": 0
      },
      "text/plain": [
       "IntProgress(value=0, description='mvg_9', max=21)"
      ]
     },
     "metadata": {},
     "output_type": "display_data"
    },
    {
     "name": "stdout",
     "output_type": "stream",
     "text": [
      "Warning: skipping session with too few trials 39\n",
      "Warning: skipping session with too few trials 15\n",
      "Warning: skipping session with too few trials 16\n"
     ]
    },
    {
     "data": {
      "application/vnd.jupyter.widget-view+json": {
       "model_id": "abe75847cd274458819cae9726316979",
       "version_major": 2,
       "version_minor": 0
      },
      "text/plain": [
       "IntProgress(value=0, description='mvg_9', max=21)"
      ]
     },
     "metadata": {},
     "output_type": "display_data"
    },
    {
     "name": "stdout",
     "output_type": "stream",
     "text": [
      "Warning: skipping session with too few trials 23\n",
      "Warning: skipping session with too few trials 5\n",
      "Warning: skipping session with too few trials 35\n"
     ]
    },
    {
     "data": {
      "application/vnd.jupyter.widget-view+json": {
       "model_id": "7413b77a858f48b9a1fbf988bdb43fea",
       "version_major": 2,
       "version_minor": 0
      },
      "text/plain": [
       "IntProgress(value=0, description='mvg_9', max=16)"
      ]
     },
     "metadata": {},
     "output_type": "display_data"
    },
    {
     "data": {
      "application/vnd.jupyter.widget-view+json": {
       "model_id": "501dd4711e2d4aacaf39dd99f9186beb",
       "version_major": 2,
       "version_minor": 0
      },
      "text/plain": [
       "IntProgress(value=0, description='mvg_9', max=16)"
      ]
     },
     "metadata": {},
     "output_type": "display_data"
    },
    {
     "name": "stdout",
     "output_type": "stream",
     "text": [
      "Warning: skipping session with too few trials 13\n"
     ]
    },
    {
     "data": {
      "application/vnd.jupyter.widget-view+json": {
       "model_id": "1ce61085dc3e41129b185e929dfb1c5a",
       "version_major": 2,
       "version_minor": 0
      },
      "text/plain": [
       "IntProgress(value=0, description='mvg_9', max=16)"
      ]
     },
     "metadata": {},
     "output_type": "display_data"
    },
    {
     "name": "stdout",
     "output_type": "stream",
     "text": [
      "Warning: skipping session with too few trials 39\n",
      "Warning: skipping session with too few trials 11\n",
      "Warning: skipping session with too few trials 40\n",
      "Warning: skipping session with too few trials 19\n",
      "Warning: skipping session with too few trials 41\n"
     ]
    },
    {
     "data": {
      "application/vnd.jupyter.widget-view+json": {
       "model_id": "a891601db0214066a2a121dc11dd967d",
       "version_major": 2,
       "version_minor": 0
      },
      "text/plain": [
       "IntProgress(value=0, description='mvg_9', max=16)"
      ]
     },
     "metadata": {},
     "output_type": "display_data"
    },
    {
     "name": "stdout",
     "output_type": "stream",
     "text": [
      "Warning: skipping session with too few trials 39\n",
      "Warning: skipping session with too few trials 15\n",
      "Warning: skipping session with too few trials 16\n"
     ]
    },
    {
     "data": {
      "application/vnd.jupyter.widget-view+json": {
       "model_id": "070302d49c2a4696b3e629bcac7a3bdd",
       "version_major": 2,
       "version_minor": 0
      },
      "text/plain": [
       "IntProgress(value=0, description='mvg_9', max=16)"
      ]
     },
     "metadata": {},
     "output_type": "display_data"
    },
    {
     "name": "stdout",
     "output_type": "stream",
     "text": [
      "Warning: skipping session with too few trials 23\n",
      "Warning: skipping session with too few trials 5\n",
      "Warning: skipping session with too few trials 35\n"
     ]
    },
    {
     "data": {
      "application/vnd.jupyter.widget-view+json": {
       "model_id": "9c82f95142ea4d0e95eb1be97dd647cb",
       "version_major": 2,
       "version_minor": 0
      },
      "text/plain": [
       "IntProgress(value=0, description='mvg_9', max=5)"
      ]
     },
     "metadata": {},
     "output_type": "display_data"
    },
    {
     "data": {
      "application/vnd.jupyter.widget-view+json": {
       "model_id": "dce01912ef784e8c83fdcbd2a1dec4fb",
       "version_major": 2,
       "version_minor": 0
      },
      "text/plain": [
       "IntProgress(value=0, description='mvg_9', max=5)"
      ]
     },
     "metadata": {},
     "output_type": "display_data"
    },
    {
     "data": {
      "application/vnd.jupyter.widget-view+json": {
       "model_id": "86b39d2efe5d446cb6a5fc119a6fd8c0",
       "version_major": 2,
       "version_minor": 0
      },
      "text/plain": [
       "IntProgress(value=0, description='mvg_9', max=5)"
      ]
     },
     "metadata": {},
     "output_type": "display_data"
    },
    {
     "name": "stdout",
     "output_type": "stream",
     "text": [
      "Warning: skipping session with too few trials 37\n"
     ]
    },
    {
     "data": {
      "application/vnd.jupyter.widget-view+json": {
       "model_id": "6ea1dac889d8433bb5b8873abdd47c42",
       "version_major": 2,
       "version_minor": 0
      },
      "text/plain": [
       "IntProgress(value=0, description='mvg_9', max=5)"
      ]
     },
     "metadata": {},
     "output_type": "display_data"
    },
    {
     "data": {
      "application/vnd.jupyter.widget-view+json": {
       "model_id": "a401d389d4ba44ed9454c256b33edec7",
       "version_major": 2,
       "version_minor": 0
      },
      "text/plain": [
       "IntProgress(value=0, description='mvg_9', max=5)"
      ]
     },
     "metadata": {},
     "output_type": "display_data"
    },
    {
     "data": {
      "application/vnd.jupyter.widget-view+json": {
       "model_id": "2dbddc69b39d47ff8e555aa4a0fc3fa4",
       "version_major": 2,
       "version_minor": 0
      },
      "text/plain": [
       "IntProgress(value=0, description='mvg_9', max=21)"
      ]
     },
     "metadata": {},
     "output_type": "display_data"
    },
    {
     "data": {
      "application/vnd.jupyter.widget-view+json": {
       "model_id": "8132462cf07c4d4b95cae9c17f4296c4",
       "version_major": 2,
       "version_minor": 0
      },
      "text/plain": [
       "IntProgress(value=0, description='mvg_9', max=21)"
      ]
     },
     "metadata": {},
     "output_type": "display_data"
    },
    {
     "name": "stdout",
     "output_type": "stream",
     "text": [
      "Warning: skipping session with too few trials 13\n"
     ]
    },
    {
     "data": {
      "application/vnd.jupyter.widget-view+json": {
       "model_id": "906114fbf38e4ad38730ff0309c232d2",
       "version_major": 2,
       "version_minor": 0
      },
      "text/plain": [
       "IntProgress(value=0, description='mvg_9', max=21)"
      ]
     },
     "metadata": {},
     "output_type": "display_data"
    },
    {
     "name": "stdout",
     "output_type": "stream",
     "text": [
      "Warning: skipping session with too few trials 39\n",
      "Warning: skipping session with too few trials 11\n",
      "Warning: skipping session with too few trials 40\n",
      "Warning: skipping session with too few trials 19\n",
      "Warning: skipping session with too few trials 41\n",
      "Warning: skipping session with too few trials 37\n"
     ]
    },
    {
     "data": {
      "application/vnd.jupyter.widget-view+json": {
       "model_id": "fcbc96564eb3489c8670ad3c7d2b17b3",
       "version_major": 2,
       "version_minor": 0
      },
      "text/plain": [
       "IntProgress(value=0, description='mvg_9', max=21)"
      ]
     },
     "metadata": {},
     "output_type": "display_data"
    },
    {
     "name": "stdout",
     "output_type": "stream",
     "text": [
      "Warning: skipping session with too few trials 39\n",
      "Warning: skipping session with too few trials 15\n",
      "Warning: skipping session with too few trials 16\n"
     ]
    },
    {
     "data": {
      "application/vnd.jupyter.widget-view+json": {
       "model_id": "cd751214eb8c4f3da1475b147dc51a3c",
       "version_major": 2,
       "version_minor": 0
      },
      "text/plain": [
       "IntProgress(value=0, description='mvg_9', max=21)"
      ]
     },
     "metadata": {},
     "output_type": "display_data"
    },
    {
     "name": "stdout",
     "output_type": "stream",
     "text": [
      "Warning: skipping session with too few trials 23\n",
      "Warning: skipping session with too few trials 5\n",
      "Warning: skipping session with too few trials 35\n"
     ]
    },
    {
     "data": {
      "application/vnd.jupyter.widget-view+json": {
       "model_id": "6ba764c72d104b6092b8962d0be741fa",
       "version_major": 2,
       "version_minor": 0
      },
      "text/plain": [
       "IntProgress(value=0, description='mvg_9', max=16)"
      ]
     },
     "metadata": {},
     "output_type": "display_data"
    },
    {
     "data": {
      "application/vnd.jupyter.widget-view+json": {
       "model_id": "ecf9d47025f44011b11c7a32e91b6e0d",
       "version_major": 2,
       "version_minor": 0
      },
      "text/plain": [
       "IntProgress(value=0, description='mvg_9', max=16)"
      ]
     },
     "metadata": {},
     "output_type": "display_data"
    },
    {
     "name": "stdout",
     "output_type": "stream",
     "text": [
      "Warning: skipping session with too few trials 13\n"
     ]
    },
    {
     "data": {
      "application/vnd.jupyter.widget-view+json": {
       "model_id": "82c689844f0d47e6853c2442c5e8b582",
       "version_major": 2,
       "version_minor": 0
      },
      "text/plain": [
       "IntProgress(value=0, description='mvg_9', max=16)"
      ]
     },
     "metadata": {},
     "output_type": "display_data"
    },
    {
     "name": "stdout",
     "output_type": "stream",
     "text": [
      "Warning: skipping session with too few trials 39\n",
      "Warning: skipping session with too few trials 11\n",
      "Warning: skipping session with too few trials 40\n",
      "Warning: skipping session with too few trials 19\n",
      "Warning: skipping session with too few trials 41\n"
     ]
    },
    {
     "data": {
      "application/vnd.jupyter.widget-view+json": {
       "model_id": "057adef91c1a41a5808928d271b70108",
       "version_major": 2,
       "version_minor": 0
      },
      "text/plain": [
       "IntProgress(value=0, description='mvg_9', max=16)"
      ]
     },
     "metadata": {},
     "output_type": "display_data"
    },
    {
     "name": "stdout",
     "output_type": "stream",
     "text": [
      "Warning: skipping session with too few trials 39\n",
      "Warning: skipping session with too few trials 15\n",
      "Warning: skipping session with too few trials 16\n"
     ]
    },
    {
     "data": {
      "application/vnd.jupyter.widget-view+json": {
       "model_id": "415ced5329cc47028badf23975de5fb0",
       "version_major": 2,
       "version_minor": 0
      },
      "text/plain": [
       "IntProgress(value=0, description='mvg_9', max=16)"
      ]
     },
     "metadata": {},
     "output_type": "display_data"
    },
    {
     "name": "stdout",
     "output_type": "stream",
     "text": [
      "Warning: skipping session with too few trials 23\n",
      "Warning: skipping session with too few trials 5\n",
      "Warning: skipping session with too few trials 35\n"
     ]
    },
    {
     "data": {
      "application/vnd.jupyter.widget-view+json": {
       "model_id": "d7b62f35c1f94477a4668b25151f5f09",
       "version_major": 2,
       "version_minor": 0
      },
      "text/plain": [
       "IntProgress(value=0, description='mvg_9', max=5)"
      ]
     },
     "metadata": {},
     "output_type": "display_data"
    },
    {
     "data": {
      "application/vnd.jupyter.widget-view+json": {
       "model_id": "9ae7d640d9054c93ba280c90e7fd7d32",
       "version_major": 2,
       "version_minor": 0
      },
      "text/plain": [
       "IntProgress(value=0, description='mvg_9', max=5)"
      ]
     },
     "metadata": {},
     "output_type": "display_data"
    },
    {
     "data": {
      "application/vnd.jupyter.widget-view+json": {
       "model_id": "9cd480c83c804fcfa7611ccb2c4af381",
       "version_major": 2,
       "version_minor": 0
      },
      "text/plain": [
       "IntProgress(value=0, description='mvg_9', max=5)"
      ]
     },
     "metadata": {},
     "output_type": "display_data"
    },
    {
     "name": "stdout",
     "output_type": "stream",
     "text": [
      "Warning: skipping session with too few trials 37\n"
     ]
    },
    {
     "data": {
      "application/vnd.jupyter.widget-view+json": {
       "model_id": "2f5d878ae715414387d34597dbf5fe90",
       "version_major": 2,
       "version_minor": 0
      },
      "text/plain": [
       "IntProgress(value=0, description='mvg_9', max=5)"
      ]
     },
     "metadata": {},
     "output_type": "display_data"
    },
    {
     "data": {
      "application/vnd.jupyter.widget-view+json": {
       "model_id": "f1c0d094615642abb502f8382e872408",
       "version_major": 2,
       "version_minor": 0
      },
      "text/plain": [
       "IntProgress(value=0, description='mvg_9', max=5)"
      ]
     },
     "metadata": {},
     "output_type": "display_data"
    },
    {
     "data": {
      "application/vnd.jupyter.widget-view+json": {
       "model_id": "da98d32fbe94440cb4e86ba9493ba19a",
       "version_major": 2,
       "version_minor": 0
      },
      "text/plain": [
       "IntProgress(value=0, description='mvg_9', max=21)"
      ]
     },
     "metadata": {},
     "output_type": "display_data"
    },
    {
     "data": {
      "application/vnd.jupyter.widget-view+json": {
       "model_id": "88cb3c37b4744950b7e538b6d95b6817",
       "version_major": 2,
       "version_minor": 0
      },
      "text/plain": [
       "IntProgress(value=0, description='mvg_9', max=21)"
      ]
     },
     "metadata": {},
     "output_type": "display_data"
    },
    {
     "name": "stdout",
     "output_type": "stream",
     "text": [
      "Warning: skipping session with too few trials 13\n"
     ]
    },
    {
     "data": {
      "application/vnd.jupyter.widget-view+json": {
       "model_id": "85d73d87e8f04fb2aa112ff71aada8ef",
       "version_major": 2,
       "version_minor": 0
      },
      "text/plain": [
       "IntProgress(value=0, description='mvg_9', max=21)"
      ]
     },
     "metadata": {},
     "output_type": "display_data"
    },
    {
     "name": "stdout",
     "output_type": "stream",
     "text": [
      "Warning: skipping session with too few trials 39\n",
      "Warning: skipping session with too few trials 11\n",
      "Warning: skipping session with too few trials 40\n",
      "Warning: skipping session with too few trials 19\n",
      "Warning: skipping session with too few trials 41\n",
      "Warning: skipping session with too few trials 37\n"
     ]
    },
    {
     "data": {
      "application/vnd.jupyter.widget-view+json": {
       "model_id": "bf20e57db6ab4786905f0bada684346c",
       "version_major": 2,
       "version_minor": 0
      },
      "text/plain": [
       "IntProgress(value=0, description='mvg_9', max=21)"
      ]
     },
     "metadata": {},
     "output_type": "display_data"
    },
    {
     "name": "stdout",
     "output_type": "stream",
     "text": [
      "Warning: skipping session with too few trials 39\n",
      "Warning: skipping session with too few trials 15\n",
      "Warning: skipping session with too few trials 16\n"
     ]
    },
    {
     "data": {
      "application/vnd.jupyter.widget-view+json": {
       "model_id": "5aa7c5022d3444398d36e286be685bc9",
       "version_major": 2,
       "version_minor": 0
      },
      "text/plain": [
       "IntProgress(value=0, description='mvg_9', max=21)"
      ]
     },
     "metadata": {},
     "output_type": "display_data"
    },
    {
     "name": "stdout",
     "output_type": "stream",
     "text": [
      "Warning: skipping session with too few trials 23\n",
      "Warning: skipping session with too few trials 5\n",
      "Warning: skipping session with too few trials 35\n"
     ]
    },
    {
     "data": {
      "application/vnd.jupyter.widget-view+json": {
       "model_id": "905b5498cab545dabebbe3812c304306",
       "version_major": 2,
       "version_minor": 0
      },
      "text/plain": [
       "IntProgress(value=0, description='mvg_9', max=16)"
      ]
     },
     "metadata": {},
     "output_type": "display_data"
    },
    {
     "data": {
      "application/vnd.jupyter.widget-view+json": {
       "model_id": "920618396464438f99fceffde7f9c513",
       "version_major": 2,
       "version_minor": 0
      },
      "text/plain": [
       "IntProgress(value=0, description='mvg_9', max=16)"
      ]
     },
     "metadata": {},
     "output_type": "display_data"
    },
    {
     "name": "stdout",
     "output_type": "stream",
     "text": [
      "Warning: skipping session with too few trials 13\n"
     ]
    },
    {
     "data": {
      "application/vnd.jupyter.widget-view+json": {
       "model_id": "11d0f66ffbfd4f53b8c44d4a914b02cf",
       "version_major": 2,
       "version_minor": 0
      },
      "text/plain": [
       "IntProgress(value=0, description='mvg_9', max=16)"
      ]
     },
     "metadata": {},
     "output_type": "display_data"
    },
    {
     "name": "stdout",
     "output_type": "stream",
     "text": [
      "Warning: skipping session with too few trials 39\n",
      "Warning: skipping session with too few trials 11\n",
      "Warning: skipping session with too few trials 40\n",
      "Warning: skipping session with too few trials 19\n",
      "Warning: skipping session with too few trials 41\n"
     ]
    },
    {
     "data": {
      "application/vnd.jupyter.widget-view+json": {
       "model_id": "8674571970b7403f8e67178faef5687c",
       "version_major": 2,
       "version_minor": 0
      },
      "text/plain": [
       "IntProgress(value=0, description='mvg_9', max=16)"
      ]
     },
     "metadata": {},
     "output_type": "display_data"
    },
    {
     "name": "stdout",
     "output_type": "stream",
     "text": [
      "Warning: skipping session with too few trials 39\n",
      "Warning: skipping session with too few trials 15\n",
      "Warning: skipping session with too few trials 16\n"
     ]
    },
    {
     "data": {
      "application/vnd.jupyter.widget-view+json": {
       "model_id": "c3710d7fb9e6415a8eb51113b8e60774",
       "version_major": 2,
       "version_minor": 0
      },
      "text/plain": [
       "IntProgress(value=0, description='mvg_9', max=16)"
      ]
     },
     "metadata": {},
     "output_type": "display_data"
    },
    {
     "name": "stdout",
     "output_type": "stream",
     "text": [
      "Warning: skipping session with too few trials 23\n",
      "Warning: skipping session with too few trials 5\n",
      "Warning: skipping session with too few trials 35\n"
     ]
    },
    {
     "data": {
      "application/vnd.jupyter.widget-view+json": {
       "model_id": "930ffdbb6409403e8d7c7a64b2932707",
       "version_major": 2,
       "version_minor": 0
      },
      "text/plain": [
       "IntProgress(value=0, description='mvg_9', max=5)"
      ]
     },
     "metadata": {},
     "output_type": "display_data"
    },
    {
     "data": {
      "application/vnd.jupyter.widget-view+json": {
       "model_id": "8de864e84f8d489abad1cb66128d89f0",
       "version_major": 2,
       "version_minor": 0
      },
      "text/plain": [
       "IntProgress(value=0, description='mvg_9', max=5)"
      ]
     },
     "metadata": {},
     "output_type": "display_data"
    },
    {
     "data": {
      "application/vnd.jupyter.widget-view+json": {
       "model_id": "fbea5e88b6854d599d6d1012f8fa593c",
       "version_major": 2,
       "version_minor": 0
      },
      "text/plain": [
       "IntProgress(value=0, description='mvg_9', max=5)"
      ]
     },
     "metadata": {},
     "output_type": "display_data"
    },
    {
     "name": "stdout",
     "output_type": "stream",
     "text": [
      "Warning: skipping session with too few trials 37\n"
     ]
    },
    {
     "data": {
      "application/vnd.jupyter.widget-view+json": {
       "model_id": "367cd2266d7d4b07bf024c4246b1e464",
       "version_major": 2,
       "version_minor": 0
      },
      "text/plain": [
       "IntProgress(value=0, description='mvg_9', max=5)"
      ]
     },
     "metadata": {},
     "output_type": "display_data"
    },
    {
     "data": {
      "application/vnd.jupyter.widget-view+json": {
       "model_id": "4c820a67dfdb4007a668eb5619d24592",
       "version_major": 2,
       "version_minor": 0
      },
      "text/plain": [
       "IntProgress(value=0, description='mvg_9', max=5)"
      ]
     },
     "metadata": {},
     "output_type": "display_data"
    },
    {
     "data": {
      "application/vnd.jupyter.widget-view+json": {
       "model_id": "380e1d49a0c547dfbe3b6e6e45169686",
       "version_major": 2,
       "version_minor": 0
      },
      "text/plain": [
       "IntProgress(value=0, description='session', max=180)"
      ]
     },
     "metadata": {},
     "output_type": "display_data"
    },
    {
     "data": {
      "application/vnd.jupyter.widget-view+json": {
       "model_id": "d7962e10c8304791a6cfe8af155840e3",
       "version_major": 2,
       "version_minor": 0
      },
      "text/plain": [
       "IntProgress(value=0, description='mvg_8', max=16)"
      ]
     },
     "metadata": {},
     "output_type": "display_data"
    },
    {
     "data": {
      "application/vnd.jupyter.widget-view+json": {
       "model_id": "cf4efb03b5ab412e910f6fa7474ff153",
       "version_major": 2,
       "version_minor": 0
      },
      "text/plain": [
       "IntProgress(value=0, description='mvg_8', max=16)"
      ]
     },
     "metadata": {},
     "output_type": "display_data"
    },
    {
     "name": "stdout",
     "output_type": "stream",
     "text": [
      "Warning: skipping session with too few trials 34\n",
      "Warning: skipping session with too few trials 23\n",
      "Warning: skipping session with too few trials 36\n",
      "Warning: skipping session with too few trials 10\n",
      "Warning: skipping session with too few trials 6\n",
      "Warning: skipping session with too few trials 4\n",
      "Warning: skipping session with too few trials 15\n",
      "Warning: skipping session with too few trials 31\n",
      "Warning: skipping session with too few trials 38\n",
      "Warning: skipping session with too few trials 6\n"
     ]
    },
    {
     "data": {
      "application/vnd.jupyter.widget-view+json": {
       "model_id": "55a61ba605ff4107abdcc0f1865b5a1b",
       "version_major": 2,
       "version_minor": 0
      },
      "text/plain": [
       "IntProgress(value=0, description='mvg_8', max=16)"
      ]
     },
     "metadata": {},
     "output_type": "display_data"
    },
    {
     "name": "stdout",
     "output_type": "stream",
     "text": [
      "Warning: skipping session with too few trials 37\n",
      "Warning: skipping session with too few trials 49\n",
      "Warning: skipping session with too few trials 25\n",
      "Warning: skipping session with too few trials 26\n",
      "Warning: skipping session with too few trials 8\n",
      "Warning: skipping session with too few trials 2\n",
      "Warning: skipping session with too few trials 33\n",
      "Warning: skipping session with too few trials 14\n",
      "Warning: skipping session with too few trials 2\n",
      "Warning: skipping session with too few trials 12\n",
      "Warning: skipping session with too few trials 17\n"
     ]
    },
    {
     "data": {
      "application/vnd.jupyter.widget-view+json": {
       "model_id": "b3197ceba39e43bda3a238d19c1e302f",
       "version_major": 2,
       "version_minor": 0
      },
      "text/plain": [
       "IntProgress(value=0, description='mvg_8', max=16)"
      ]
     },
     "metadata": {},
     "output_type": "display_data"
    },
    {
     "name": "stdout",
     "output_type": "stream",
     "text": [
      "Warning: skipping session with too few trials 44\n",
      "Warning: skipping session with too few trials 41\n",
      "Warning: skipping session with too few trials 38\n"
     ]
    },
    {
     "data": {
      "application/vnd.jupyter.widget-view+json": {
       "model_id": "4d1c08ef7bf4428088055e025ac78ab2",
       "version_major": 2,
       "version_minor": 0
      },
      "text/plain": [
       "IntProgress(value=0, description='mvg_8', max=16)"
      ]
     },
     "metadata": {},
     "output_type": "display_data"
    },
    {
     "name": "stdout",
     "output_type": "stream",
     "text": [
      "Warning: skipping session with too few trials 11\n",
      "Warning: skipping session with too few trials 4\n",
      "Warning: skipping session with too few trials 30\n",
      "Warning: skipping session with too few trials 21\n"
     ]
    },
    {
     "data": {
      "application/vnd.jupyter.widget-view+json": {
       "model_id": "fda27fd10e434c629d6fbb96441a879c",
       "version_major": 2,
       "version_minor": 0
      },
      "text/plain": [
       "IntProgress(value=0, description='mvg_8', max=7)"
      ]
     },
     "metadata": {},
     "output_type": "display_data"
    },
    {
     "data": {
      "application/vnd.jupyter.widget-view+json": {
       "model_id": "1aaa162a061b478b90a2bb14349162cc",
       "version_major": 2,
       "version_minor": 0
      },
      "text/plain": [
       "IntProgress(value=0, description='mvg_8', max=7)"
      ]
     },
     "metadata": {},
     "output_type": "display_data"
    },
    {
     "name": "stdout",
     "output_type": "stream",
     "text": [
      "Warning: skipping session with too few trials 34\n"
     ]
    },
    {
     "data": {
      "application/vnd.jupyter.widget-view+json": {
       "model_id": "d2c61542bfc4451ca43fc954b9267897",
       "version_major": 2,
       "version_minor": 0
      },
      "text/plain": [
       "IntProgress(value=0, description='mvg_8', max=7)"
      ]
     },
     "metadata": {},
     "output_type": "display_data"
    },
    {
     "name": "stdout",
     "output_type": "stream",
     "text": [
      "Warning: skipping session with too few trials 37\n",
      "Warning: skipping session with too few trials 49\n",
      "Warning: skipping session with too few trials 25\n"
     ]
    },
    {
     "data": {
      "application/vnd.jupyter.widget-view+json": {
       "model_id": "5a4addccc1344a559007e9ba923cf998",
       "version_major": 2,
       "version_minor": 0
      },
      "text/plain": [
       "IntProgress(value=0, description='mvg_8', max=7)"
      ]
     },
     "metadata": {},
     "output_type": "display_data"
    },
    {
     "name": "stdout",
     "output_type": "stream",
     "text": [
      "Warning: skipping session with too few trials 44\n",
      "Warning: skipping session with too few trials 41\n",
      "Warning: skipping session with too few trials 38\n"
     ]
    },
    {
     "data": {
      "application/vnd.jupyter.widget-view+json": {
       "model_id": "95fa77e154b041cb87121877619b9ab0",
       "version_major": 2,
       "version_minor": 0
      },
      "text/plain": [
       "IntProgress(value=0, description='mvg_8', max=7)"
      ]
     },
     "metadata": {},
     "output_type": "display_data"
    },
    {
     "name": "stdout",
     "output_type": "stream",
     "text": [
      "Warning: skipping session with too few trials 11\n",
      "Warning: skipping session with too few trials 4\n",
      "Warning: skipping session with too few trials 30\n",
      "Warning: skipping session with too few trials 21\n"
     ]
    },
    {
     "data": {
      "application/vnd.jupyter.widget-view+json": {
       "model_id": "7a9e357485ab4000998df7cf6dbad1ed",
       "version_major": 2,
       "version_minor": 0
      },
      "text/plain": [
       "IntProgress(value=0, description='mvg_8', max=9)"
      ]
     },
     "metadata": {},
     "output_type": "display_data"
    },
    {
     "data": {
      "application/vnd.jupyter.widget-view+json": {
       "model_id": "4175d8fe5df5411f9aa7951f63eb8bdf",
       "version_major": 2,
       "version_minor": 0
      },
      "text/plain": [
       "IntProgress(value=0, description='mvg_8', max=9)"
      ]
     },
     "metadata": {},
     "output_type": "display_data"
    },
    {
     "name": "stdout",
     "output_type": "stream",
     "text": [
      "Warning: skipping session with too few trials 23\n",
      "Warning: skipping session with too few trials 36\n",
      "Warning: skipping session with too few trials 10\n",
      "Warning: skipping session with too few trials 6\n",
      "Warning: skipping session with too few trials 4\n",
      "Warning: skipping session with too few trials 15\n",
      "Warning: skipping session with too few trials 31\n",
      "Warning: skipping session with too few trials 38\n",
      "Warning: skipping session with too few trials 6\n",
      "Warning, all sessions had too few trials, this mouse is skipped\n"
     ]
    },
    {
     "data": {
      "application/vnd.jupyter.widget-view+json": {
       "model_id": "87b59d7e4da249cc9c92c30fcd286d39",
       "version_major": 2,
       "version_minor": 0
      },
      "text/plain": [
       "IntProgress(value=0, description='mvg_8', max=9)"
      ]
     },
     "metadata": {},
     "output_type": "display_data"
    },
    {
     "name": "stdout",
     "output_type": "stream",
     "text": [
      "Warning: skipping session with too few trials 26\n",
      "Warning: skipping session with too few trials 8\n",
      "Warning: skipping session with too few trials 2\n",
      "Warning: skipping session with too few trials 33\n",
      "Warning: skipping session with too few trials 14\n",
      "Warning: skipping session with too few trials 2\n",
      "Warning: skipping session with too few trials 12\n",
      "Warning: skipping session with too few trials 17\n"
     ]
    },
    {
     "data": {
      "application/vnd.jupyter.widget-view+json": {
       "model_id": "81bcc5966bf244b29d02849028613f75",
       "version_major": 2,
       "version_minor": 0
      },
      "text/plain": [
       "IntProgress(value=0, description='mvg_8', max=9)"
      ]
     },
     "metadata": {},
     "output_type": "display_data"
    },
    {
     "data": {
      "application/vnd.jupyter.widget-view+json": {
       "model_id": "540dff0cda10413aa5a3a732703b5926",
       "version_major": 2,
       "version_minor": 0
      },
      "text/plain": [
       "IntProgress(value=0, description='mvg_8', max=9)"
      ]
     },
     "metadata": {},
     "output_type": "display_data"
    },
    {
     "data": {
      "application/vnd.jupyter.widget-view+json": {
       "model_id": "529111c41fb04c2789319a7040eed743",
       "version_major": 2,
       "version_minor": 0
      },
      "text/plain": [
       "IntProgress(value=0, description='mvg_8', max=16)"
      ]
     },
     "metadata": {},
     "output_type": "display_data"
    },
    {
     "data": {
      "application/vnd.jupyter.widget-view+json": {
       "model_id": "097aeab58cc544549483db973ff105fe",
       "version_major": 2,
       "version_minor": 0
      },
      "text/plain": [
       "IntProgress(value=0, description='mvg_8', max=16)"
      ]
     },
     "metadata": {},
     "output_type": "display_data"
    },
    {
     "name": "stdout",
     "output_type": "stream",
     "text": [
      "Warning: skipping session with too few trials 34\n",
      "Warning: skipping session with too few trials 23\n",
      "Warning: skipping session with too few trials 36\n",
      "Warning: skipping session with too few trials 10\n",
      "Warning: skipping session with too few trials 6\n",
      "Warning: skipping session with too few trials 4\n",
      "Warning: skipping session with too few trials 15\n",
      "Warning: skipping session with too few trials 31\n",
      "Warning: skipping session with too few trials 38\n",
      "Warning: skipping session with too few trials 6\n"
     ]
    },
    {
     "data": {
      "application/vnd.jupyter.widget-view+json": {
       "model_id": "5b2d809487be460bab176e5c50de0500",
       "version_major": 2,
       "version_minor": 0
      },
      "text/plain": [
       "IntProgress(value=0, description='mvg_8', max=16)"
      ]
     },
     "metadata": {},
     "output_type": "display_data"
    },
    {
     "name": "stdout",
     "output_type": "stream",
     "text": [
      "Warning: skipping session with too few trials 37\n",
      "Warning: skipping session with too few trials 49\n",
      "Warning: skipping session with too few trials 25\n",
      "Warning: skipping session with too few trials 26\n",
      "Warning: skipping session with too few trials 8\n",
      "Warning: skipping session with too few trials 2\n",
      "Warning: skipping session with too few trials 33\n",
      "Warning: skipping session with too few trials 14\n",
      "Warning: skipping session with too few trials 2\n",
      "Warning: skipping session with too few trials 12\n",
      "Warning: skipping session with too few trials 17\n"
     ]
    },
    {
     "data": {
      "application/vnd.jupyter.widget-view+json": {
       "model_id": "7b53877540df448290418afac5f7440b",
       "version_major": 2,
       "version_minor": 0
      },
      "text/plain": [
       "IntProgress(value=0, description='mvg_8', max=16)"
      ]
     },
     "metadata": {},
     "output_type": "display_data"
    },
    {
     "name": "stdout",
     "output_type": "stream",
     "text": [
      "Warning: skipping session with too few trials 44\n",
      "Warning: skipping session with too few trials 41\n",
      "Warning: skipping session with too few trials 38\n"
     ]
    },
    {
     "data": {
      "application/vnd.jupyter.widget-view+json": {
       "model_id": "2793914a7c2541578731747737ee90d2",
       "version_major": 2,
       "version_minor": 0
      },
      "text/plain": [
       "IntProgress(value=0, description='mvg_8', max=16)"
      ]
     },
     "metadata": {},
     "output_type": "display_data"
    },
    {
     "name": "stdout",
     "output_type": "stream",
     "text": [
      "Warning: skipping session with too few trials 11\n",
      "Warning: skipping session with too few trials 4\n",
      "Warning: skipping session with too few trials 30\n",
      "Warning: skipping session with too few trials 21\n"
     ]
    },
    {
     "data": {
      "application/vnd.jupyter.widget-view+json": {
       "model_id": "158be9c87a2c44c8b5a19f2c76b8f057",
       "version_major": 2,
       "version_minor": 0
      },
      "text/plain": [
       "IntProgress(value=0, description='mvg_8', max=7)"
      ]
     },
     "metadata": {},
     "output_type": "display_data"
    },
    {
     "data": {
      "application/vnd.jupyter.widget-view+json": {
       "model_id": "02f03a725210494c95deb741ea942e79",
       "version_major": 2,
       "version_minor": 0
      },
      "text/plain": [
       "IntProgress(value=0, description='mvg_8', max=7)"
      ]
     },
     "metadata": {},
     "output_type": "display_data"
    },
    {
     "name": "stdout",
     "output_type": "stream",
     "text": [
      "Warning: skipping session with too few trials 34\n"
     ]
    },
    {
     "data": {
      "application/vnd.jupyter.widget-view+json": {
       "model_id": "eab2a5a6711243c5b3b709316a4b8c38",
       "version_major": 2,
       "version_minor": 0
      },
      "text/plain": [
       "IntProgress(value=0, description='mvg_8', max=7)"
      ]
     },
     "metadata": {},
     "output_type": "display_data"
    },
    {
     "name": "stdout",
     "output_type": "stream",
     "text": [
      "Warning: skipping session with too few trials 37\n",
      "Warning: skipping session with too few trials 49\n",
      "Warning: skipping session with too few trials 25\n"
     ]
    },
    {
     "data": {
      "application/vnd.jupyter.widget-view+json": {
       "model_id": "1c036c62d1204fd0adf83df4031deb58",
       "version_major": 2,
       "version_minor": 0
      },
      "text/plain": [
       "IntProgress(value=0, description='mvg_8', max=7)"
      ]
     },
     "metadata": {},
     "output_type": "display_data"
    },
    {
     "name": "stdout",
     "output_type": "stream",
     "text": [
      "Warning: skipping session with too few trials 44\n",
      "Warning: skipping session with too few trials 41\n",
      "Warning: skipping session with too few trials 38\n"
     ]
    },
    {
     "data": {
      "application/vnd.jupyter.widget-view+json": {
       "model_id": "dc05eea10fec4a0db75553d7435557a9",
       "version_major": 2,
       "version_minor": 0
      },
      "text/plain": [
       "IntProgress(value=0, description='mvg_8', max=7)"
      ]
     },
     "metadata": {},
     "output_type": "display_data"
    },
    {
     "name": "stdout",
     "output_type": "stream",
     "text": [
      "Warning: skipping session with too few trials 11\n",
      "Warning: skipping session with too few trials 4\n",
      "Warning: skipping session with too few trials 30\n",
      "Warning: skipping session with too few trials 21\n"
     ]
    },
    {
     "data": {
      "application/vnd.jupyter.widget-view+json": {
       "model_id": "20b562320f3f40008bc3681f4f6cfe48",
       "version_major": 2,
       "version_minor": 0
      },
      "text/plain": [
       "IntProgress(value=0, description='mvg_8', max=9)"
      ]
     },
     "metadata": {},
     "output_type": "display_data"
    },
    {
     "data": {
      "application/vnd.jupyter.widget-view+json": {
       "model_id": "96c775d7ff8c411196a0ca2d47e18f27",
       "version_major": 2,
       "version_minor": 0
      },
      "text/plain": [
       "IntProgress(value=0, description='mvg_8', max=9)"
      ]
     },
     "metadata": {},
     "output_type": "display_data"
    },
    {
     "name": "stdout",
     "output_type": "stream",
     "text": [
      "Warning: skipping session with too few trials 23\n",
      "Warning: skipping session with too few trials 36\n",
      "Warning: skipping session with too few trials 10\n",
      "Warning: skipping session with too few trials 6\n",
      "Warning: skipping session with too few trials 4\n",
      "Warning: skipping session with too few trials 15\n",
      "Warning: skipping session with too few trials 31\n",
      "Warning: skipping session with too few trials 38\n",
      "Warning: skipping session with too few trials 6\n",
      "Warning, all sessions had too few trials, this mouse is skipped\n"
     ]
    },
    {
     "data": {
      "application/vnd.jupyter.widget-view+json": {
       "model_id": "1ae0903cc5e54b9ab21eb1652efad174",
       "version_major": 2,
       "version_minor": 0
      },
      "text/plain": [
       "IntProgress(value=0, description='mvg_8', max=9)"
      ]
     },
     "metadata": {},
     "output_type": "display_data"
    },
    {
     "name": "stdout",
     "output_type": "stream",
     "text": [
      "Warning: skipping session with too few trials 26\n",
      "Warning: skipping session with too few trials 8\n",
      "Warning: skipping session with too few trials 2\n",
      "Warning: skipping session with too few trials 33\n",
      "Warning: skipping session with too few trials 14\n",
      "Warning: skipping session with too few trials 2\n",
      "Warning: skipping session with too few trials 12\n",
      "Warning: skipping session with too few trials 17\n"
     ]
    },
    {
     "data": {
      "application/vnd.jupyter.widget-view+json": {
       "model_id": "7e2345d19a214c748761b48871819d2f",
       "version_major": 2,
       "version_minor": 0
      },
      "text/plain": [
       "IntProgress(value=0, description='mvg_8', max=9)"
      ]
     },
     "metadata": {},
     "output_type": "display_data"
    },
    {
     "data": {
      "application/vnd.jupyter.widget-view+json": {
       "model_id": "284ea04752354e80ac3b78af85247f80",
       "version_major": 2,
       "version_minor": 0
      },
      "text/plain": [
       "IntProgress(value=0, description='mvg_8', max=9)"
      ]
     },
     "metadata": {},
     "output_type": "display_data"
    },
    {
     "data": {
      "application/vnd.jupyter.widget-view+json": {
       "model_id": "124be5b8c0034c00bc3699155bbf7ac1",
       "version_major": 2,
       "version_minor": 0
      },
      "text/plain": [
       "IntProgress(value=0, description='mvg_8', max=16)"
      ]
     },
     "metadata": {},
     "output_type": "display_data"
    },
    {
     "data": {
      "application/vnd.jupyter.widget-view+json": {
       "model_id": "3f292ec10ef8437b8b9c5ebb49a311c4",
       "version_major": 2,
       "version_minor": 0
      },
      "text/plain": [
       "IntProgress(value=0, description='mvg_8', max=16)"
      ]
     },
     "metadata": {},
     "output_type": "display_data"
    },
    {
     "name": "stdout",
     "output_type": "stream",
     "text": [
      "Warning: skipping session with too few trials 34\n",
      "Warning: skipping session with too few trials 23\n",
      "Warning: skipping session with too few trials 36\n",
      "Warning: skipping session with too few trials 10\n",
      "Warning: skipping session with too few trials 6\n",
      "Warning: skipping session with too few trials 4\n",
      "Warning: skipping session with too few trials 15\n",
      "Warning: skipping session with too few trials 31\n",
      "Warning: skipping session with too few trials 38\n",
      "Warning: skipping session with too few trials 6\n"
     ]
    },
    {
     "data": {
      "application/vnd.jupyter.widget-view+json": {
       "model_id": "3e35fb0d55024287a11dc3833adb2dac",
       "version_major": 2,
       "version_minor": 0
      },
      "text/plain": [
       "IntProgress(value=0, description='mvg_8', max=16)"
      ]
     },
     "metadata": {},
     "output_type": "display_data"
    },
    {
     "name": "stdout",
     "output_type": "stream",
     "text": [
      "Warning: skipping session with too few trials 37\n",
      "Warning: skipping session with too few trials 49\n",
      "Warning: skipping session with too few trials 25\n",
      "Warning: skipping session with too few trials 26\n",
      "Warning: skipping session with too few trials 8\n",
      "Warning: skipping session with too few trials 2\n",
      "Warning: skipping session with too few trials 33\n",
      "Warning: skipping session with too few trials 14\n",
      "Warning: skipping session with too few trials 2\n",
      "Warning: skipping session with too few trials 12\n",
      "Warning: skipping session with too few trials 17\n"
     ]
    },
    {
     "data": {
      "application/vnd.jupyter.widget-view+json": {
       "model_id": "d07649607d654c50b85b39a760d523f9",
       "version_major": 2,
       "version_minor": 0
      },
      "text/plain": [
       "IntProgress(value=0, description='mvg_8', max=16)"
      ]
     },
     "metadata": {},
     "output_type": "display_data"
    },
    {
     "name": "stdout",
     "output_type": "stream",
     "text": [
      "Warning: skipping session with too few trials 44\n",
      "Warning: skipping session with too few trials 41\n",
      "Warning: skipping session with too few trials 38\n"
     ]
    },
    {
     "data": {
      "application/vnd.jupyter.widget-view+json": {
       "model_id": "bbf069eb0bec4ebba41d4d751dfbb59b",
       "version_major": 2,
       "version_minor": 0
      },
      "text/plain": [
       "IntProgress(value=0, description='mvg_8', max=16)"
      ]
     },
     "metadata": {},
     "output_type": "display_data"
    },
    {
     "name": "stdout",
     "output_type": "stream",
     "text": [
      "Warning: skipping session with too few trials 11\n",
      "Warning: skipping session with too few trials 4\n",
      "Warning: skipping session with too few trials 30\n",
      "Warning: skipping session with too few trials 21\n"
     ]
    },
    {
     "data": {
      "application/vnd.jupyter.widget-view+json": {
       "model_id": "6e3c318074ad48aa90dd25a0d1366d6d",
       "version_major": 2,
       "version_minor": 0
      },
      "text/plain": [
       "IntProgress(value=0, description='mvg_8', max=7)"
      ]
     },
     "metadata": {},
     "output_type": "display_data"
    },
    {
     "data": {
      "application/vnd.jupyter.widget-view+json": {
       "model_id": "51a0ae3a9b604805ac031e09dda430de",
       "version_major": 2,
       "version_minor": 0
      },
      "text/plain": [
       "IntProgress(value=0, description='mvg_8', max=7)"
      ]
     },
     "metadata": {},
     "output_type": "display_data"
    },
    {
     "name": "stdout",
     "output_type": "stream",
     "text": [
      "Warning: skipping session with too few trials 34\n"
     ]
    },
    {
     "data": {
      "application/vnd.jupyter.widget-view+json": {
       "model_id": "9f409c7dd0bc4d37bb445a9b4404ba30",
       "version_major": 2,
       "version_minor": 0
      },
      "text/plain": [
       "IntProgress(value=0, description='mvg_8', max=7)"
      ]
     },
     "metadata": {},
     "output_type": "display_data"
    },
    {
     "name": "stdout",
     "output_type": "stream",
     "text": [
      "Warning: skipping session with too few trials 37\n",
      "Warning: skipping session with too few trials 49\n",
      "Warning: skipping session with too few trials 25\n"
     ]
    },
    {
     "data": {
      "application/vnd.jupyter.widget-view+json": {
       "model_id": "0a4bd6900eb54b39a5875db13582bb41",
       "version_major": 2,
       "version_minor": 0
      },
      "text/plain": [
       "IntProgress(value=0, description='mvg_8', max=7)"
      ]
     },
     "metadata": {},
     "output_type": "display_data"
    },
    {
     "name": "stdout",
     "output_type": "stream",
     "text": [
      "Warning: skipping session with too few trials 44\n",
      "Warning: skipping session with too few trials 41\n",
      "Warning: skipping session with too few trials 38\n"
     ]
    },
    {
     "data": {
      "application/vnd.jupyter.widget-view+json": {
       "model_id": "106fcdba738f42039a1e6f6b43915f62",
       "version_major": 2,
       "version_minor": 0
      },
      "text/plain": [
       "IntProgress(value=0, description='mvg_8', max=7)"
      ]
     },
     "metadata": {},
     "output_type": "display_data"
    },
    {
     "name": "stdout",
     "output_type": "stream",
     "text": [
      "Warning: skipping session with too few trials 11\n",
      "Warning: skipping session with too few trials 4\n",
      "Warning: skipping session with too few trials 30\n",
      "Warning: skipping session with too few trials 21\n"
     ]
    },
    {
     "data": {
      "application/vnd.jupyter.widget-view+json": {
       "model_id": "19cd70b47e12476f980fab3a64d1f685",
       "version_major": 2,
       "version_minor": 0
      },
      "text/plain": [
       "IntProgress(value=0, description='mvg_8', max=9)"
      ]
     },
     "metadata": {},
     "output_type": "display_data"
    },
    {
     "data": {
      "application/vnd.jupyter.widget-view+json": {
       "model_id": "dc62c8d65a9049259726cdb91903fbb7",
       "version_major": 2,
       "version_minor": 0
      },
      "text/plain": [
       "IntProgress(value=0, description='mvg_8', max=9)"
      ]
     },
     "metadata": {},
     "output_type": "display_data"
    },
    {
     "name": "stdout",
     "output_type": "stream",
     "text": [
      "Warning: skipping session with too few trials 23\n",
      "Warning: skipping session with too few trials 36\n",
      "Warning: skipping session with too few trials 10\n",
      "Warning: skipping session with too few trials 6\n",
      "Warning: skipping session with too few trials 4\n",
      "Warning: skipping session with too few trials 15\n",
      "Warning: skipping session with too few trials 31\n",
      "Warning: skipping session with too few trials 38\n",
      "Warning: skipping session with too few trials 6\n",
      "Warning, all sessions had too few trials, this mouse is skipped\n"
     ]
    },
    {
     "data": {
      "application/vnd.jupyter.widget-view+json": {
       "model_id": "9a79d67472434d1d80bcca4aebd5588a",
       "version_major": 2,
       "version_minor": 0
      },
      "text/plain": [
       "IntProgress(value=0, description='mvg_8', max=9)"
      ]
     },
     "metadata": {},
     "output_type": "display_data"
    },
    {
     "name": "stdout",
     "output_type": "stream",
     "text": [
      "Warning: skipping session with too few trials 26\n",
      "Warning: skipping session with too few trials 8\n",
      "Warning: skipping session with too few trials 2\n",
      "Warning: skipping session with too few trials 33\n",
      "Warning: skipping session with too few trials 14\n",
      "Warning: skipping session with too few trials 2\n",
      "Warning: skipping session with too few trials 12\n",
      "Warning: skipping session with too few trials 17\n"
     ]
    },
    {
     "data": {
      "application/vnd.jupyter.widget-view+json": {
       "model_id": "c3a1ff382afb4f1298fb14206c20eb11",
       "version_major": 2,
       "version_minor": 0
      },
      "text/plain": [
       "IntProgress(value=0, description='mvg_8', max=9)"
      ]
     },
     "metadata": {},
     "output_type": "display_data"
    },
    {
     "data": {
      "application/vnd.jupyter.widget-view+json": {
       "model_id": "8e115e6705894dbea03b97bf42aa7b4d",
       "version_major": 2,
       "version_minor": 0
      },
      "text/plain": [
       "IntProgress(value=0, description='mvg_8', max=9)"
      ]
     },
     "metadata": {},
     "output_type": "display_data"
    },
    {
     "data": {
      "application/vnd.jupyter.widget-view+json": {
       "model_id": "0cd2ad8a9cce4e278f5e64acd24e7da1",
       "version_major": 2,
       "version_minor": 0
      },
      "text/plain": [
       "IntProgress(value=0, description='mvg_4', max=11)"
      ]
     },
     "metadata": {},
     "output_type": "display_data"
    },
    {
     "data": {
      "application/vnd.jupyter.widget-view+json": {
       "model_id": "0ad6913efb08469d80b4e951c9cd07a3",
       "version_major": 2,
       "version_minor": 0
      },
      "text/plain": [
       "IntProgress(value=0, description='mvg_4', max=11)"
      ]
     },
     "metadata": {},
     "output_type": "display_data"
    },
    {
     "name": "stdout",
     "output_type": "stream",
     "text": [
      "Warning: skipping session with too few trials 40\n",
      "Warning: skipping session with too few trials 27\n",
      "Warning: skipping session with too few trials 34\n",
      "Warning: skipping session with too few trials 42\n"
     ]
    },
    {
     "data": {
      "application/vnd.jupyter.widget-view+json": {
       "model_id": "ed1db0b00a0b4f2fa98d5a323510e12e",
       "version_major": 2,
       "version_minor": 0
      },
      "text/plain": [
       "IntProgress(value=0, description='mvg_4', max=11)"
      ]
     },
     "metadata": {},
     "output_type": "display_data"
    },
    {
     "name": "stdout",
     "output_type": "stream",
     "text": [
      "Warning: skipping session with too few trials 23\n",
      "Warning: skipping session with too few trials 45\n",
      "Warning: skipping session with too few trials 6\n",
      "Warning: skipping session with too few trials 5\n",
      "Warning: skipping session with too few trials 25\n",
      "Warning: skipping session with too few trials 15\n",
      "Warning: skipping session with too few trials 10\n",
      "Warning: skipping session with too few trials 38\n",
      "Warning: skipping session with too few trials 34\n",
      "Warning: skipping session with too few trials 16\n"
     ]
    },
    {
     "data": {
      "application/vnd.jupyter.widget-view+json": {
       "model_id": "3fb4cb8ab4fd4dab967eb1d452289aa9",
       "version_major": 2,
       "version_minor": 0
      },
      "text/plain": [
       "IntProgress(value=0, description='mvg_4', max=11)"
      ]
     },
     "metadata": {},
     "output_type": "display_data"
    },
    {
     "data": {
      "application/vnd.jupyter.widget-view+json": {
       "model_id": "14774867a87c445a95ac939dcf668e69",
       "version_major": 2,
       "version_minor": 0
      },
      "text/plain": [
       "IntProgress(value=0, description='mvg_4', max=11)"
      ]
     },
     "metadata": {},
     "output_type": "display_data"
    },
    {
     "data": {
      "application/vnd.jupyter.widget-view+json": {
       "model_id": "7748d9b7476348209017d8806e3974e7",
       "version_major": 2,
       "version_minor": 0
      },
      "text/plain": [
       "IntProgress(value=0, description='mvg_4', max=5)"
      ]
     },
     "metadata": {},
     "output_type": "display_data"
    },
    {
     "data": {
      "application/vnd.jupyter.widget-view+json": {
       "model_id": "378b02b65b7c4b0fb42b82c651bed1c2",
       "version_major": 2,
       "version_minor": 0
      },
      "text/plain": [
       "IntProgress(value=0, description='mvg_4', max=5)"
      ]
     },
     "metadata": {},
     "output_type": "display_data"
    },
    {
     "data": {
      "application/vnd.jupyter.widget-view+json": {
       "model_id": "f2da0ba99af44b978798d54466437934",
       "version_major": 2,
       "version_minor": 0
      },
      "text/plain": [
       "IntProgress(value=0, description='mvg_4', max=5)"
      ]
     },
     "metadata": {},
     "output_type": "display_data"
    },
    {
     "name": "stdout",
     "output_type": "stream",
     "text": [
      "Warning: skipping session with too few trials 23\n",
      "Warning: skipping session with too few trials 45\n",
      "Warning: skipping session with too few trials 6\n",
      "Warning: skipping session with too few trials 5\n"
     ]
    },
    {
     "data": {
      "application/vnd.jupyter.widget-view+json": {
       "model_id": "dad84a01772f4335868f3538fb3ff524",
       "version_major": 2,
       "version_minor": 0
      },
      "text/plain": [
       "IntProgress(value=0, description='mvg_4', max=5)"
      ]
     },
     "metadata": {},
     "output_type": "display_data"
    },
    {
     "data": {
      "application/vnd.jupyter.widget-view+json": {
       "model_id": "d934b597ed264fb9a3aff8f681e12d10",
       "version_major": 2,
       "version_minor": 0
      },
      "text/plain": [
       "IntProgress(value=0, description='mvg_4', max=5)"
      ]
     },
     "metadata": {},
     "output_type": "display_data"
    },
    {
     "data": {
      "application/vnd.jupyter.widget-view+json": {
       "model_id": "de70dafa84c849c5af019b53929b0677",
       "version_major": 2,
       "version_minor": 0
      },
      "text/plain": [
       "IntProgress(value=0, description='mvg_4', max=6)"
      ]
     },
     "metadata": {},
     "output_type": "display_data"
    },
    {
     "data": {
      "application/vnd.jupyter.widget-view+json": {
       "model_id": "1bbbdcec8f864808ad60f0515925815e",
       "version_major": 2,
       "version_minor": 0
      },
      "text/plain": [
       "IntProgress(value=0, description='mvg_4', max=6)"
      ]
     },
     "metadata": {},
     "output_type": "display_data"
    },
    {
     "name": "stdout",
     "output_type": "stream",
     "text": [
      "Warning: skipping session with too few trials 40\n",
      "Warning: skipping session with too few trials 27\n",
      "Warning: skipping session with too few trials 34\n",
      "Warning: skipping session with too few trials 42\n"
     ]
    },
    {
     "data": {
      "application/vnd.jupyter.widget-view+json": {
       "model_id": "57cd4dc6dc74409f95ddfa20b0c22442",
       "version_major": 2,
       "version_minor": 0
      },
      "text/plain": [
       "IntProgress(value=0, description='mvg_4', max=6)"
      ]
     },
     "metadata": {},
     "output_type": "display_data"
    },
    {
     "name": "stdout",
     "output_type": "stream",
     "text": [
      "Warning: skipping session with too few trials 25\n",
      "Warning: skipping session with too few trials 15\n",
      "Warning: skipping session with too few trials 10\n",
      "Warning: skipping session with too few trials 38\n",
      "Warning: skipping session with too few trials 34\n",
      "Warning: skipping session with too few trials 16\n",
      "Warning, all sessions had too few trials, this mouse is skipped\n"
     ]
    },
    {
     "data": {
      "application/vnd.jupyter.widget-view+json": {
       "model_id": "2d792cb2057547ffa1e334c74bc41c68",
       "version_major": 2,
       "version_minor": 0
      },
      "text/plain": [
       "IntProgress(value=0, description='mvg_4', max=6)"
      ]
     },
     "metadata": {},
     "output_type": "display_data"
    },
    {
     "data": {
      "application/vnd.jupyter.widget-view+json": {
       "model_id": "f6034b9a6b0c41559a5df48dacf3007b",
       "version_major": 2,
       "version_minor": 0
      },
      "text/plain": [
       "IntProgress(value=0, description='mvg_4', max=6)"
      ]
     },
     "metadata": {},
     "output_type": "display_data"
    },
    {
     "data": {
      "application/vnd.jupyter.widget-view+json": {
       "model_id": "7e27a5c7c3014577a7e30b3b6bf4a478",
       "version_major": 2,
       "version_minor": 0
      },
      "text/plain": [
       "IntProgress(value=0, description='mvg_4', max=11)"
      ]
     },
     "metadata": {},
     "output_type": "display_data"
    },
    {
     "data": {
      "application/vnd.jupyter.widget-view+json": {
       "model_id": "6cd68639674044cfb4cc791f4e044f6e",
       "version_major": 2,
       "version_minor": 0
      },
      "text/plain": [
       "IntProgress(value=0, description='mvg_4', max=11)"
      ]
     },
     "metadata": {},
     "output_type": "display_data"
    },
    {
     "name": "stdout",
     "output_type": "stream",
     "text": [
      "Warning: skipping session with too few trials 40\n",
      "Warning: skipping session with too few trials 27\n",
      "Warning: skipping session with too few trials 34\n",
      "Warning: skipping session with too few trials 42\n"
     ]
    },
    {
     "data": {
      "application/vnd.jupyter.widget-view+json": {
       "model_id": "7eefc46b5ab24f428d9702a578fc741c",
       "version_major": 2,
       "version_minor": 0
      },
      "text/plain": [
       "IntProgress(value=0, description='mvg_4', max=11)"
      ]
     },
     "metadata": {},
     "output_type": "display_data"
    },
    {
     "name": "stdout",
     "output_type": "stream",
     "text": [
      "Warning: skipping session with too few trials 23\n",
      "Warning: skipping session with too few trials 45\n",
      "Warning: skipping session with too few trials 6\n",
      "Warning: skipping session with too few trials 5\n",
      "Warning: skipping session with too few trials 25\n",
      "Warning: skipping session with too few trials 15\n",
      "Warning: skipping session with too few trials 10\n",
      "Warning: skipping session with too few trials 38\n",
      "Warning: skipping session with too few trials 34\n",
      "Warning: skipping session with too few trials 16\n"
     ]
    },
    {
     "data": {
      "application/vnd.jupyter.widget-view+json": {
       "model_id": "e10a8fe2254f4f638d70b376149fb0b6",
       "version_major": 2,
       "version_minor": 0
      },
      "text/plain": [
       "IntProgress(value=0, description='mvg_4', max=11)"
      ]
     },
     "metadata": {},
     "output_type": "display_data"
    },
    {
     "data": {
      "application/vnd.jupyter.widget-view+json": {
       "model_id": "100f3711c7514905b66a71c486d618d3",
       "version_major": 2,
       "version_minor": 0
      },
      "text/plain": [
       "IntProgress(value=0, description='mvg_4', max=11)"
      ]
     },
     "metadata": {},
     "output_type": "display_data"
    },
    {
     "data": {
      "application/vnd.jupyter.widget-view+json": {
       "model_id": "fca3b3cb41864cad83a4fc46b525b88b",
       "version_major": 2,
       "version_minor": 0
      },
      "text/plain": [
       "IntProgress(value=0, description='mvg_4', max=5)"
      ]
     },
     "metadata": {},
     "output_type": "display_data"
    },
    {
     "data": {
      "application/vnd.jupyter.widget-view+json": {
       "model_id": "2c4e8bedfed14ea59af22230f481496d",
       "version_major": 2,
       "version_minor": 0
      },
      "text/plain": [
       "IntProgress(value=0, description='mvg_4', max=5)"
      ]
     },
     "metadata": {},
     "output_type": "display_data"
    },
    {
     "data": {
      "application/vnd.jupyter.widget-view+json": {
       "model_id": "be0cc8a295c2470b97f9e51fea4727ab",
       "version_major": 2,
       "version_minor": 0
      },
      "text/plain": [
       "IntProgress(value=0, description='mvg_4', max=5)"
      ]
     },
     "metadata": {},
     "output_type": "display_data"
    },
    {
     "name": "stdout",
     "output_type": "stream",
     "text": [
      "Warning: skipping session with too few trials 23\n",
      "Warning: skipping session with too few trials 45\n",
      "Warning: skipping session with too few trials 6\n",
      "Warning: skipping session with too few trials 5\n"
     ]
    },
    {
     "data": {
      "application/vnd.jupyter.widget-view+json": {
       "model_id": "fe4329dfba2f449b85a1f0240ac135c3",
       "version_major": 2,
       "version_minor": 0
      },
      "text/plain": [
       "IntProgress(value=0, description='mvg_4', max=5)"
      ]
     },
     "metadata": {},
     "output_type": "display_data"
    },
    {
     "data": {
      "application/vnd.jupyter.widget-view+json": {
       "model_id": "8f9e3aee5fc24f099b109e8b7c080eb4",
       "version_major": 2,
       "version_minor": 0
      },
      "text/plain": [
       "IntProgress(value=0, description='mvg_4', max=5)"
      ]
     },
     "metadata": {},
     "output_type": "display_data"
    },
    {
     "data": {
      "application/vnd.jupyter.widget-view+json": {
       "model_id": "3d96e8d6f2c74653b27a4ffabbca3da8",
       "version_major": 2,
       "version_minor": 0
      },
      "text/plain": [
       "IntProgress(value=0, description='mvg_4', max=6)"
      ]
     },
     "metadata": {},
     "output_type": "display_data"
    },
    {
     "data": {
      "application/vnd.jupyter.widget-view+json": {
       "model_id": "656ce788dafb425c96a22db649da0b9a",
       "version_major": 2,
       "version_minor": 0
      },
      "text/plain": [
       "IntProgress(value=0, description='mvg_4', max=6)"
      ]
     },
     "metadata": {},
     "output_type": "display_data"
    },
    {
     "name": "stdout",
     "output_type": "stream",
     "text": [
      "Warning: skipping session with too few trials 40\n",
      "Warning: skipping session with too few trials 27\n",
      "Warning: skipping session with too few trials 34\n",
      "Warning: skipping session with too few trials 42\n"
     ]
    },
    {
     "data": {
      "application/vnd.jupyter.widget-view+json": {
       "model_id": "82e54efe206e4ed69ba2364cbae43062",
       "version_major": 2,
       "version_minor": 0
      },
      "text/plain": [
       "IntProgress(value=0, description='mvg_4', max=6)"
      ]
     },
     "metadata": {},
     "output_type": "display_data"
    },
    {
     "name": "stdout",
     "output_type": "stream",
     "text": [
      "Warning: skipping session with too few trials 25\n",
      "Warning: skipping session with too few trials 15\n",
      "Warning: skipping session with too few trials 10\n",
      "Warning: skipping session with too few trials 38\n",
      "Warning: skipping session with too few trials 34\n",
      "Warning: skipping session with too few trials 16\n",
      "Warning, all sessions had too few trials, this mouse is skipped\n"
     ]
    },
    {
     "data": {
      "application/vnd.jupyter.widget-view+json": {
       "model_id": "0bc080de9c6c44e5a599998aabf9ffbc",
       "version_major": 2,
       "version_minor": 0
      },
      "text/plain": [
       "IntProgress(value=0, description='mvg_4', max=6)"
      ]
     },
     "metadata": {},
     "output_type": "display_data"
    },
    {
     "data": {
      "application/vnd.jupyter.widget-view+json": {
       "model_id": "bfbefef2d80b47edac99ee314cbcd8d7",
       "version_major": 2,
       "version_minor": 0
      },
      "text/plain": [
       "IntProgress(value=0, description='mvg_4', max=6)"
      ]
     },
     "metadata": {},
     "output_type": "display_data"
    },
    {
     "data": {
      "application/vnd.jupyter.widget-view+json": {
       "model_id": "7b7375138a644dd6b9eb83912eb83fcb",
       "version_major": 2,
       "version_minor": 0
      },
      "text/plain": [
       "IntProgress(value=0, description='mvg_4', max=11)"
      ]
     },
     "metadata": {},
     "output_type": "display_data"
    },
    {
     "data": {
      "application/vnd.jupyter.widget-view+json": {
       "model_id": "10569655322042779cba3f837aef7ae0",
       "version_major": 2,
       "version_minor": 0
      },
      "text/plain": [
       "IntProgress(value=0, description='mvg_4', max=11)"
      ]
     },
     "metadata": {},
     "output_type": "display_data"
    },
    {
     "name": "stdout",
     "output_type": "stream",
     "text": [
      "Warning: skipping session with too few trials 40\n",
      "Warning: skipping session with too few trials 27\n",
      "Warning: skipping session with too few trials 34\n",
      "Warning: skipping session with too few trials 42\n"
     ]
    },
    {
     "data": {
      "application/vnd.jupyter.widget-view+json": {
       "model_id": "ed175b98fe90498f993bd80626d3d270",
       "version_major": 2,
       "version_minor": 0
      },
      "text/plain": [
       "IntProgress(value=0, description='mvg_4', max=11)"
      ]
     },
     "metadata": {},
     "output_type": "display_data"
    },
    {
     "name": "stdout",
     "output_type": "stream",
     "text": [
      "Warning: skipping session with too few trials 23\n",
      "Warning: skipping session with too few trials 45\n",
      "Warning: skipping session with too few trials 6\n",
      "Warning: skipping session with too few trials 5\n",
      "Warning: skipping session with too few trials 25\n",
      "Warning: skipping session with too few trials 15\n",
      "Warning: skipping session with too few trials 10\n",
      "Warning: skipping session with too few trials 38\n",
      "Warning: skipping session with too few trials 34\n",
      "Warning: skipping session with too few trials 16\n"
     ]
    },
    {
     "data": {
      "application/vnd.jupyter.widget-view+json": {
       "model_id": "58446412476248ccb5c5db13a119cae7",
       "version_major": 2,
       "version_minor": 0
      },
      "text/plain": [
       "IntProgress(value=0, description='mvg_4', max=11)"
      ]
     },
     "metadata": {},
     "output_type": "display_data"
    },
    {
     "data": {
      "application/vnd.jupyter.widget-view+json": {
       "model_id": "e7612023aaae44c5b2e454990461bef2",
       "version_major": 2,
       "version_minor": 0
      },
      "text/plain": [
       "IntProgress(value=0, description='mvg_4', max=11)"
      ]
     },
     "metadata": {},
     "output_type": "display_data"
    },
    {
     "data": {
      "application/vnd.jupyter.widget-view+json": {
       "model_id": "60a9fe1f79ec47bd80e5bae18df1ba4f",
       "version_major": 2,
       "version_minor": 0
      },
      "text/plain": [
       "IntProgress(value=0, description='mvg_4', max=5)"
      ]
     },
     "metadata": {},
     "output_type": "display_data"
    },
    {
     "data": {
      "application/vnd.jupyter.widget-view+json": {
       "model_id": "0dee10a116f5415385f0ddd9185f5aed",
       "version_major": 2,
       "version_minor": 0
      },
      "text/plain": [
       "IntProgress(value=0, description='mvg_4', max=5)"
      ]
     },
     "metadata": {},
     "output_type": "display_data"
    },
    {
     "data": {
      "application/vnd.jupyter.widget-view+json": {
       "model_id": "21e3b3c9d4c24c46ade2467594fe8624",
       "version_major": 2,
       "version_minor": 0
      },
      "text/plain": [
       "IntProgress(value=0, description='mvg_4', max=5)"
      ]
     },
     "metadata": {},
     "output_type": "display_data"
    },
    {
     "name": "stdout",
     "output_type": "stream",
     "text": [
      "Warning: skipping session with too few trials 23\n",
      "Warning: skipping session with too few trials 45\n",
      "Warning: skipping session with too few trials 6\n",
      "Warning: skipping session with too few trials 5\n"
     ]
    },
    {
     "data": {
      "application/vnd.jupyter.widget-view+json": {
       "model_id": "e11efcaa7d5046f7b2be51ddf91f588c",
       "version_major": 2,
       "version_minor": 0
      },
      "text/plain": [
       "IntProgress(value=0, description='mvg_4', max=5)"
      ]
     },
     "metadata": {},
     "output_type": "display_data"
    },
    {
     "data": {
      "application/vnd.jupyter.widget-view+json": {
       "model_id": "814e2b32c2234b6b8d5dbfa9b5047f74",
       "version_major": 2,
       "version_minor": 0
      },
      "text/plain": [
       "IntProgress(value=0, description='mvg_4', max=5)"
      ]
     },
     "metadata": {},
     "output_type": "display_data"
    },
    {
     "data": {
      "application/vnd.jupyter.widget-view+json": {
       "model_id": "240d1fe9a82849c38a15ea0622444198",
       "version_major": 2,
       "version_minor": 0
      },
      "text/plain": [
       "IntProgress(value=0, description='mvg_4', max=6)"
      ]
     },
     "metadata": {},
     "output_type": "display_data"
    },
    {
     "data": {
      "application/vnd.jupyter.widget-view+json": {
       "model_id": "a90a8fcea5b64befb8ae48569fec3756",
       "version_major": 2,
       "version_minor": 0
      },
      "text/plain": [
       "IntProgress(value=0, description='mvg_4', max=6)"
      ]
     },
     "metadata": {},
     "output_type": "display_data"
    },
    {
     "name": "stdout",
     "output_type": "stream",
     "text": [
      "Warning: skipping session with too few trials 40\n",
      "Warning: skipping session with too few trials 27\n",
      "Warning: skipping session with too few trials 34\n",
      "Warning: skipping session with too few trials 42\n"
     ]
    },
    {
     "data": {
      "application/vnd.jupyter.widget-view+json": {
       "model_id": "0c9218e1019c42f7a26bf7cb82a06dbf",
       "version_major": 2,
       "version_minor": 0
      },
      "text/plain": [
       "IntProgress(value=0, description='mvg_4', max=6)"
      ]
     },
     "metadata": {},
     "output_type": "display_data"
    },
    {
     "name": "stdout",
     "output_type": "stream",
     "text": [
      "Warning: skipping session with too few trials 25\n",
      "Warning: skipping session with too few trials 15\n",
      "Warning: skipping session with too few trials 10\n",
      "Warning: skipping session with too few trials 38\n",
      "Warning: skipping session with too few trials 34\n",
      "Warning: skipping session with too few trials 16\n",
      "Warning, all sessions had too few trials, this mouse is skipped\n"
     ]
    },
    {
     "data": {
      "application/vnd.jupyter.widget-view+json": {
       "model_id": "2c873c8b067843e2b2a96e446fe29f89",
       "version_major": 2,
       "version_minor": 0
      },
      "text/plain": [
       "IntProgress(value=0, description='mvg_4', max=6)"
      ]
     },
     "metadata": {},
     "output_type": "display_data"
    },
    {
     "data": {
      "application/vnd.jupyter.widget-view+json": {
       "model_id": "d7046a6cf42c4e66b2d43a8cac7f06e7",
       "version_major": 2,
       "version_minor": 0
      },
      "text/plain": [
       "IntProgress(value=0, description='mvg_4', max=6)"
      ]
     },
     "metadata": {},
     "output_type": "display_data"
    },
    {
     "data": {
      "application/vnd.jupyter.widget-view+json": {
       "model_id": "f37d821c1465456e996d4ba44de5218e",
       "version_major": 2,
       "version_minor": 0
      },
      "text/plain": [
       "IntProgress(value=0, description='mvg_7', max=18)"
      ]
     },
     "metadata": {},
     "output_type": "display_data"
    },
    {
     "data": {
      "application/vnd.jupyter.widget-view+json": {
       "model_id": "e89e1e9a161446f9ad75c278d89634dc",
       "version_major": 2,
       "version_minor": 0
      },
      "text/plain": [
       "IntProgress(value=0, description='mvg_7', max=18)"
      ]
     },
     "metadata": {},
     "output_type": "display_data"
    },
    {
     "name": "stdout",
     "output_type": "stream",
     "text": [
      "Warning: skipping session with too few trials 1\n",
      "Warning: skipping session with too few trials 0\n",
      "Warning: skipping session with too few trials 0\n",
      "Warning: skipping session with too few trials 43\n",
      "Warning: skipping session with too few trials 46\n",
      "Warning: skipping session with too few trials 17\n"
     ]
    },
    {
     "data": {
      "application/vnd.jupyter.widget-view+json": {
       "model_id": "5fc97e239fba42dcbf367698fe0acff1",
       "version_major": 2,
       "version_minor": 0
      },
      "text/plain": [
       "IntProgress(value=0, description='mvg_7', max=18)"
      ]
     },
     "metadata": {},
     "output_type": "display_data"
    },
    {
     "name": "stdout",
     "output_type": "stream",
     "text": [
      "Warning: skipping session with too few trials 35\n",
      "Warning: skipping session with too few trials 46\n",
      "Warning: skipping session with too few trials 38\n",
      "Warning: skipping session with too few trials 20\n",
      "Warning: skipping session with too few trials 49\n"
     ]
    },
    {
     "data": {
      "application/vnd.jupyter.widget-view+json": {
       "model_id": "5d3d444c2b8449f3b1f6f6a1dbe84a5d",
       "version_major": 2,
       "version_minor": 0
      },
      "text/plain": [
       "IntProgress(value=0, description='mvg_7', max=18)"
      ]
     },
     "metadata": {},
     "output_type": "display_data"
    },
    {
     "name": "stdout",
     "output_type": "stream",
     "text": [
      "Warning: skipping session with too few trials 3\n",
      "Warning: skipping session with too few trials 13\n",
      "Warning: skipping session with too few trials 13\n"
     ]
    },
    {
     "data": {
      "application/vnd.jupyter.widget-view+json": {
       "model_id": "c3c41890642340ac8133fc0a4aa9078e",
       "version_major": 2,
       "version_minor": 0
      },
      "text/plain": [
       "IntProgress(value=0, description='mvg_7', max=18)"
      ]
     },
     "metadata": {},
     "output_type": "display_data"
    },
    {
     "name": "stdout",
     "output_type": "stream",
     "text": [
      "Warning: skipping session with too few trials 0\n",
      "Warning: skipping session with too few trials 0\n",
      "Warning: skipping session with too few trials 0\n",
      "Warning: skipping session with too few trials 31\n"
     ]
    },
    {
     "data": {
      "application/vnd.jupyter.widget-view+json": {
       "model_id": "633fcc489f2c4f6daca72e90cae16d4f",
       "version_major": 2,
       "version_minor": 0
      },
      "text/plain": [
       "IntProgress(value=0, description='mvg_7', max=15)"
      ]
     },
     "metadata": {},
     "output_type": "display_data"
    },
    {
     "data": {
      "application/vnd.jupyter.widget-view+json": {
       "model_id": "f3b21aab8eb545ac8a75f623cc0c4daa",
       "version_major": 2,
       "version_minor": 0
      },
      "text/plain": [
       "IntProgress(value=0, description='mvg_7', max=15)"
      ]
     },
     "metadata": {},
     "output_type": "display_data"
    },
    {
     "name": "stdout",
     "output_type": "stream",
     "text": [
      "Warning: skipping session with too few trials 1\n",
      "Warning: skipping session with too few trials 0\n",
      "Warning: skipping session with too few trials 0\n",
      "Warning: skipping session with too few trials 43\n",
      "Warning: skipping session with too few trials 46\n"
     ]
    },
    {
     "data": {
      "application/vnd.jupyter.widget-view+json": {
       "model_id": "f67ee68024ad41089c99152ece165154",
       "version_major": 2,
       "version_minor": 0
      },
      "text/plain": [
       "IntProgress(value=0, description='mvg_7', max=15)"
      ]
     },
     "metadata": {},
     "output_type": "display_data"
    },
    {
     "name": "stdout",
     "output_type": "stream",
     "text": [
      "Warning: skipping session with too few trials 35\n",
      "Warning: skipping session with too few trials 46\n",
      "Warning: skipping session with too few trials 38\n"
     ]
    },
    {
     "data": {
      "application/vnd.jupyter.widget-view+json": {
       "model_id": "d05e307fd5134195a45f5a1cced390bf",
       "version_major": 2,
       "version_minor": 0
      },
      "text/plain": [
       "IntProgress(value=0, description='mvg_7', max=15)"
      ]
     },
     "metadata": {},
     "output_type": "display_data"
    },
    {
     "name": "stdout",
     "output_type": "stream",
     "text": [
      "Warning: skipping session with too few trials 3\n",
      "Warning: skipping session with too few trials 13\n",
      "Warning: skipping session with too few trials 13\n"
     ]
    },
    {
     "data": {
      "application/vnd.jupyter.widget-view+json": {
       "model_id": "7763d230f97c4dfe8ee6923a8cac8a4b",
       "version_major": 2,
       "version_minor": 0
      },
      "text/plain": [
       "IntProgress(value=0, description='mvg_7', max=15)"
      ]
     },
     "metadata": {},
     "output_type": "display_data"
    },
    {
     "name": "stdout",
     "output_type": "stream",
     "text": [
      "Warning: skipping session with too few trials 0\n",
      "Warning: skipping session with too few trials 0\n",
      "Warning: skipping session with too few trials 0\n",
      "Warning: skipping session with too few trials 31\n"
     ]
    },
    {
     "data": {
      "application/vnd.jupyter.widget-view+json": {
       "model_id": "e04712aa02644b478bdf1ebe8f16da27",
       "version_major": 2,
       "version_minor": 0
      },
      "text/plain": [
       "IntProgress(value=0, description='mvg_7', max=3)"
      ]
     },
     "metadata": {},
     "output_type": "display_data"
    },
    {
     "data": {
      "application/vnd.jupyter.widget-view+json": {
       "model_id": "3eb5ddb865a947baa1988553b84852dd",
       "version_major": 2,
       "version_minor": 0
      },
      "text/plain": [
       "IntProgress(value=0, description='mvg_7', max=3)"
      ]
     },
     "metadata": {},
     "output_type": "display_data"
    },
    {
     "name": "stdout",
     "output_type": "stream",
     "text": [
      "Warning: skipping session with too few trials 17\n"
     ]
    },
    {
     "data": {
      "application/vnd.jupyter.widget-view+json": {
       "model_id": "e59ca02ba45f44a494413ab5b8613d76",
       "version_major": 2,
       "version_minor": 0
      },
      "text/plain": [
       "IntProgress(value=0, description='mvg_7', max=3)"
      ]
     },
     "metadata": {},
     "output_type": "display_data"
    },
    {
     "name": "stdout",
     "output_type": "stream",
     "text": [
      "Warning: skipping session with too few trials 20\n",
      "Warning: skipping session with too few trials 49\n"
     ]
    },
    {
     "data": {
      "application/vnd.jupyter.widget-view+json": {
       "model_id": "ebe6245caf2c4b518e8048cd347c3a3e",
       "version_major": 2,
       "version_minor": 0
      },
      "text/plain": [
       "IntProgress(value=0, description='mvg_7', max=3)"
      ]
     },
     "metadata": {},
     "output_type": "display_data"
    },
    {
     "data": {
      "application/vnd.jupyter.widget-view+json": {
       "model_id": "9941d38d0b8c43a79ea39b5fd62f4549",
       "version_major": 2,
       "version_minor": 0
      },
      "text/plain": [
       "IntProgress(value=0, description='mvg_7', max=3)"
      ]
     },
     "metadata": {},
     "output_type": "display_data"
    },
    {
     "data": {
      "application/vnd.jupyter.widget-view+json": {
       "model_id": "cc62a2d60e434983a25dc83c63494f9b",
       "version_major": 2,
       "version_minor": 0
      },
      "text/plain": [
       "IntProgress(value=0, description='mvg_7', max=18)"
      ]
     },
     "metadata": {},
     "output_type": "display_data"
    },
    {
     "data": {
      "application/vnd.jupyter.widget-view+json": {
       "model_id": "d203cf6f81214aab9b6c0a38a55d3dbd",
       "version_major": 2,
       "version_minor": 0
      },
      "text/plain": [
       "IntProgress(value=0, description='mvg_7', max=18)"
      ]
     },
     "metadata": {},
     "output_type": "display_data"
    },
    {
     "name": "stdout",
     "output_type": "stream",
     "text": [
      "Warning: skipping session with too few trials 1\n",
      "Warning: skipping session with too few trials 0\n",
      "Warning: skipping session with too few trials 0\n",
      "Warning: skipping session with too few trials 43\n",
      "Warning: skipping session with too few trials 46\n",
      "Warning: skipping session with too few trials 17\n"
     ]
    },
    {
     "data": {
      "application/vnd.jupyter.widget-view+json": {
       "model_id": "f4cf5843cafd407db1321c38ac40a90a",
       "version_major": 2,
       "version_minor": 0
      },
      "text/plain": [
       "IntProgress(value=0, description='mvg_7', max=18)"
      ]
     },
     "metadata": {},
     "output_type": "display_data"
    },
    {
     "name": "stdout",
     "output_type": "stream",
     "text": [
      "Warning: skipping session with too few trials 35\n",
      "Warning: skipping session with too few trials 46\n",
      "Warning: skipping session with too few trials 38\n",
      "Warning: skipping session with too few trials 20\n",
      "Warning: skipping session with too few trials 49\n"
     ]
    },
    {
     "data": {
      "application/vnd.jupyter.widget-view+json": {
       "model_id": "83eb67fd571d4ae592c36f9690c12145",
       "version_major": 2,
       "version_minor": 0
      },
      "text/plain": [
       "IntProgress(value=0, description='mvg_7', max=18)"
      ]
     },
     "metadata": {},
     "output_type": "display_data"
    },
    {
     "name": "stdout",
     "output_type": "stream",
     "text": [
      "Warning: skipping session with too few trials 3\n",
      "Warning: skipping session with too few trials 13\n",
      "Warning: skipping session with too few trials 13\n"
     ]
    },
    {
     "data": {
      "application/vnd.jupyter.widget-view+json": {
       "model_id": "d8252373ecc64ce0ad7d87fb8f832478",
       "version_major": 2,
       "version_minor": 0
      },
      "text/plain": [
       "IntProgress(value=0, description='mvg_7', max=18)"
      ]
     },
     "metadata": {},
     "output_type": "display_data"
    },
    {
     "name": "stdout",
     "output_type": "stream",
     "text": [
      "Warning: skipping session with too few trials 0\n",
      "Warning: skipping session with too few trials 0\n",
      "Warning: skipping session with too few trials 0\n",
      "Warning: skipping session with too few trials 31\n"
     ]
    },
    {
     "data": {
      "application/vnd.jupyter.widget-view+json": {
       "model_id": "04ece0b7681f47289cf2ce7a012d381f",
       "version_major": 2,
       "version_minor": 0
      },
      "text/plain": [
       "IntProgress(value=0, description='mvg_7', max=15)"
      ]
     },
     "metadata": {},
     "output_type": "display_data"
    },
    {
     "data": {
      "application/vnd.jupyter.widget-view+json": {
       "model_id": "f9c3a3aacfbd4e5398a6b58c4ddc804d",
       "version_major": 2,
       "version_minor": 0
      },
      "text/plain": [
       "IntProgress(value=0, description='mvg_7', max=15)"
      ]
     },
     "metadata": {},
     "output_type": "display_data"
    },
    {
     "name": "stdout",
     "output_type": "stream",
     "text": [
      "Warning: skipping session with too few trials 1\n",
      "Warning: skipping session with too few trials 0\n",
      "Warning: skipping session with too few trials 0\n",
      "Warning: skipping session with too few trials 43\n",
      "Warning: skipping session with too few trials 46\n"
     ]
    },
    {
     "data": {
      "application/vnd.jupyter.widget-view+json": {
       "model_id": "eec6bb2d4a8844a18aad57d938516942",
       "version_major": 2,
       "version_minor": 0
      },
      "text/plain": [
       "IntProgress(value=0, description='mvg_7', max=15)"
      ]
     },
     "metadata": {},
     "output_type": "display_data"
    },
    {
     "name": "stdout",
     "output_type": "stream",
     "text": [
      "Warning: skipping session with too few trials 35\n",
      "Warning: skipping session with too few trials 46\n",
      "Warning: skipping session with too few trials 38\n"
     ]
    },
    {
     "data": {
      "application/vnd.jupyter.widget-view+json": {
       "model_id": "0fc84895149046658871a04932f22f2f",
       "version_major": 2,
       "version_minor": 0
      },
      "text/plain": [
       "IntProgress(value=0, description='mvg_7', max=15)"
      ]
     },
     "metadata": {},
     "output_type": "display_data"
    },
    {
     "name": "stdout",
     "output_type": "stream",
     "text": [
      "Warning: skipping session with too few trials 3\n",
      "Warning: skipping session with too few trials 13\n",
      "Warning: skipping session with too few trials 13\n"
     ]
    },
    {
     "data": {
      "application/vnd.jupyter.widget-view+json": {
       "model_id": "4ce4fceae40e463e8187d208f6b4e3f6",
       "version_major": 2,
       "version_minor": 0
      },
      "text/plain": [
       "IntProgress(value=0, description='mvg_7', max=15)"
      ]
     },
     "metadata": {},
     "output_type": "display_data"
    },
    {
     "name": "stdout",
     "output_type": "stream",
     "text": [
      "Warning: skipping session with too few trials 0\n",
      "Warning: skipping session with too few trials 0\n",
      "Warning: skipping session with too few trials 0\n",
      "Warning: skipping session with too few trials 31\n"
     ]
    },
    {
     "data": {
      "application/vnd.jupyter.widget-view+json": {
       "model_id": "9a5f51627da741df8def418f8ae6f0cd",
       "version_major": 2,
       "version_minor": 0
      },
      "text/plain": [
       "IntProgress(value=0, description='mvg_7', max=3)"
      ]
     },
     "metadata": {},
     "output_type": "display_data"
    },
    {
     "data": {
      "application/vnd.jupyter.widget-view+json": {
       "model_id": "81f4cc260089484f8af3daa844a6ce63",
       "version_major": 2,
       "version_minor": 0
      },
      "text/plain": [
       "IntProgress(value=0, description='mvg_7', max=3)"
      ]
     },
     "metadata": {},
     "output_type": "display_data"
    },
    {
     "name": "stdout",
     "output_type": "stream",
     "text": [
      "Warning: skipping session with too few trials 17\n"
     ]
    },
    {
     "data": {
      "application/vnd.jupyter.widget-view+json": {
       "model_id": "ec822b7157cb43f6b81ebb84dfa53eb9",
       "version_major": 2,
       "version_minor": 0
      },
      "text/plain": [
       "IntProgress(value=0, description='mvg_7', max=3)"
      ]
     },
     "metadata": {},
     "output_type": "display_data"
    },
    {
     "name": "stdout",
     "output_type": "stream",
     "text": [
      "Warning: skipping session with too few trials 20\n",
      "Warning: skipping session with too few trials 49\n"
     ]
    },
    {
     "data": {
      "application/vnd.jupyter.widget-view+json": {
       "model_id": "8528f53cef6c4f17873116c8975c1b5e",
       "version_major": 2,
       "version_minor": 0
      },
      "text/plain": [
       "IntProgress(value=0, description='mvg_7', max=3)"
      ]
     },
     "metadata": {},
     "output_type": "display_data"
    },
    {
     "data": {
      "application/vnd.jupyter.widget-view+json": {
       "model_id": "d9b5a708b73c48a58551ab61e0808a28",
       "version_major": 2,
       "version_minor": 0
      },
      "text/plain": [
       "IntProgress(value=0, description='mvg_7', max=3)"
      ]
     },
     "metadata": {},
     "output_type": "display_data"
    },
    {
     "data": {
      "application/vnd.jupyter.widget-view+json": {
       "model_id": "850864d27c85454c834e2c9bf62912d9",
       "version_major": 2,
       "version_minor": 0
      },
      "text/plain": [
       "IntProgress(value=0, description='mvg_7', max=18)"
      ]
     },
     "metadata": {},
     "output_type": "display_data"
    },
    {
     "data": {
      "application/vnd.jupyter.widget-view+json": {
       "model_id": "b2ab7040123f437ca88455a5447b4e25",
       "version_major": 2,
       "version_minor": 0
      },
      "text/plain": [
       "IntProgress(value=0, description='mvg_7', max=18)"
      ]
     },
     "metadata": {},
     "output_type": "display_data"
    },
    {
     "name": "stdout",
     "output_type": "stream",
     "text": [
      "Warning: skipping session with too few trials 1\n",
      "Warning: skipping session with too few trials 0\n",
      "Warning: skipping session with too few trials 0\n",
      "Warning: skipping session with too few trials 43\n",
      "Warning: skipping session with too few trials 46\n",
      "Warning: skipping session with too few trials 17\n"
     ]
    },
    {
     "data": {
      "application/vnd.jupyter.widget-view+json": {
       "model_id": "b1eb8ba7f62445599f41d43f880551d3",
       "version_major": 2,
       "version_minor": 0
      },
      "text/plain": [
       "IntProgress(value=0, description='mvg_7', max=18)"
      ]
     },
     "metadata": {},
     "output_type": "display_data"
    },
    {
     "name": "stdout",
     "output_type": "stream",
     "text": [
      "Warning: skipping session with too few trials 35\n",
      "Warning: skipping session with too few trials 46\n",
      "Warning: skipping session with too few trials 38\n",
      "Warning: skipping session with too few trials 20\n",
      "Warning: skipping session with too few trials 49\n"
     ]
    },
    {
     "data": {
      "application/vnd.jupyter.widget-view+json": {
       "model_id": "abe9ba9dcb184f8eb65c1b515b993c06",
       "version_major": 2,
       "version_minor": 0
      },
      "text/plain": [
       "IntProgress(value=0, description='mvg_7', max=18)"
      ]
     },
     "metadata": {},
     "output_type": "display_data"
    },
    {
     "name": "stdout",
     "output_type": "stream",
     "text": [
      "Warning: skipping session with too few trials 3\n",
      "Warning: skipping session with too few trials 13\n",
      "Warning: skipping session with too few trials 13\n"
     ]
    },
    {
     "data": {
      "application/vnd.jupyter.widget-view+json": {
       "model_id": "3135fcfcbd9b4a6aaa308c281a097e4e",
       "version_major": 2,
       "version_minor": 0
      },
      "text/plain": [
       "IntProgress(value=0, description='mvg_7', max=18)"
      ]
     },
     "metadata": {},
     "output_type": "display_data"
    },
    {
     "name": "stdout",
     "output_type": "stream",
     "text": [
      "Warning: skipping session with too few trials 0\n",
      "Warning: skipping session with too few trials 0\n",
      "Warning: skipping session with too few trials 0\n",
      "Warning: skipping session with too few trials 31\n"
     ]
    },
    {
     "data": {
      "application/vnd.jupyter.widget-view+json": {
       "model_id": "9f64d5e5962b441f8dbcf6368e5073a5",
       "version_major": 2,
       "version_minor": 0
      },
      "text/plain": [
       "IntProgress(value=0, description='mvg_7', max=15)"
      ]
     },
     "metadata": {},
     "output_type": "display_data"
    },
    {
     "data": {
      "application/vnd.jupyter.widget-view+json": {
       "model_id": "e549259382284e8ba0abbced15a8da39",
       "version_major": 2,
       "version_minor": 0
      },
      "text/plain": [
       "IntProgress(value=0, description='mvg_7', max=15)"
      ]
     },
     "metadata": {},
     "output_type": "display_data"
    },
    {
     "name": "stdout",
     "output_type": "stream",
     "text": [
      "Warning: skipping session with too few trials 1\n",
      "Warning: skipping session with too few trials 0\n",
      "Warning: skipping session with too few trials 0\n",
      "Warning: skipping session with too few trials 43\n",
      "Warning: skipping session with too few trials 46\n"
     ]
    },
    {
     "data": {
      "application/vnd.jupyter.widget-view+json": {
       "model_id": "e561ef5d2897440daf3cc3082dc7c138",
       "version_major": 2,
       "version_minor": 0
      },
      "text/plain": [
       "IntProgress(value=0, description='mvg_7', max=15)"
      ]
     },
     "metadata": {},
     "output_type": "display_data"
    },
    {
     "name": "stdout",
     "output_type": "stream",
     "text": [
      "Warning: skipping session with too few trials 35\n",
      "Warning: skipping session with too few trials 46\n",
      "Warning: skipping session with too few trials 38\n"
     ]
    },
    {
     "data": {
      "application/vnd.jupyter.widget-view+json": {
       "model_id": "579758a1aed14b97823ae913e4346155",
       "version_major": 2,
       "version_minor": 0
      },
      "text/plain": [
       "IntProgress(value=0, description='mvg_7', max=15)"
      ]
     },
     "metadata": {},
     "output_type": "display_data"
    },
    {
     "name": "stdout",
     "output_type": "stream",
     "text": [
      "Warning: skipping session with too few trials 3\n",
      "Warning: skipping session with too few trials 13\n",
      "Warning: skipping session with too few trials 13\n"
     ]
    },
    {
     "data": {
      "application/vnd.jupyter.widget-view+json": {
       "model_id": "ed228db50b274d40a3fc71b30aff916b",
       "version_major": 2,
       "version_minor": 0
      },
      "text/plain": [
       "IntProgress(value=0, description='mvg_7', max=15)"
      ]
     },
     "metadata": {},
     "output_type": "display_data"
    },
    {
     "name": "stdout",
     "output_type": "stream",
     "text": [
      "Warning: skipping session with too few trials 0\n",
      "Warning: skipping session with too few trials 0\n",
      "Warning: skipping session with too few trials 0\n",
      "Warning: skipping session with too few trials 31\n"
     ]
    },
    {
     "data": {
      "application/vnd.jupyter.widget-view+json": {
       "model_id": "812d576202d14ce59be7a67f4702f6f6",
       "version_major": 2,
       "version_minor": 0
      },
      "text/plain": [
       "IntProgress(value=0, description='mvg_7', max=3)"
      ]
     },
     "metadata": {},
     "output_type": "display_data"
    },
    {
     "data": {
      "application/vnd.jupyter.widget-view+json": {
       "model_id": "ed5f1dcfd4834448b38f4cca1e61335f",
       "version_major": 2,
       "version_minor": 0
      },
      "text/plain": [
       "IntProgress(value=0, description='mvg_7', max=3)"
      ]
     },
     "metadata": {},
     "output_type": "display_data"
    },
    {
     "name": "stdout",
     "output_type": "stream",
     "text": [
      "Warning: skipping session with too few trials 17\n"
     ]
    },
    {
     "data": {
      "application/vnd.jupyter.widget-view+json": {
       "model_id": "e4c0088e0baa4d5d856aa23b6cd93abd",
       "version_major": 2,
       "version_minor": 0
      },
      "text/plain": [
       "IntProgress(value=0, description='mvg_7', max=3)"
      ]
     },
     "metadata": {},
     "output_type": "display_data"
    },
    {
     "name": "stdout",
     "output_type": "stream",
     "text": [
      "Warning: skipping session with too few trials 20\n",
      "Warning: skipping session with too few trials 49\n"
     ]
    },
    {
     "data": {
      "application/vnd.jupyter.widget-view+json": {
       "model_id": "e43c10febe2c44a48e04a92c3169d42c",
       "version_major": 2,
       "version_minor": 0
      },
      "text/plain": [
       "IntProgress(value=0, description='mvg_7', max=3)"
      ]
     },
     "metadata": {},
     "output_type": "display_data"
    },
    {
     "data": {
      "application/vnd.jupyter.widget-view+json": {
       "model_id": "3c1bc4b46bef488d9492f7cb330c8b80",
       "version_major": 2,
       "version_minor": 0
      },
      "text/plain": [
       "IntProgress(value=0, description='mvg_7', max=3)"
      ]
     },
     "metadata": {},
     "output_type": "display_data"
    },
    {
     "data": {
      "application/vnd.jupyter.widget-view+json": {
       "model_id": "654458ca4a2f4bdc819977644a64d937",
       "version_major": 2,
       "version_minor": 0
      },
      "text/plain": [
       "IntProgress(value=0, description='mvg_9', max=21)"
      ]
     },
     "metadata": {},
     "output_type": "display_data"
    },
    {
     "data": {
      "application/vnd.jupyter.widget-view+json": {
       "model_id": "5efcb7f15fec4e85b562b384ec3c6c98",
       "version_major": 2,
       "version_minor": 0
      },
      "text/plain": [
       "IntProgress(value=0, description='mvg_9', max=21)"
      ]
     },
     "metadata": {},
     "output_type": "display_data"
    },
    {
     "name": "stdout",
     "output_type": "stream",
     "text": [
      "Warning: skipping session with too few trials 13\n"
     ]
    },
    {
     "data": {
      "application/vnd.jupyter.widget-view+json": {
       "model_id": "064acf6373c04b21bb9df5821661d1b3",
       "version_major": 2,
       "version_minor": 0
      },
      "text/plain": [
       "IntProgress(value=0, description='mvg_9', max=21)"
      ]
     },
     "metadata": {},
     "output_type": "display_data"
    },
    {
     "name": "stdout",
     "output_type": "stream",
     "text": [
      "Warning: skipping session with too few trials 39\n",
      "Warning: skipping session with too few trials 11\n",
      "Warning: skipping session with too few trials 40\n",
      "Warning: skipping session with too few trials 19\n",
      "Warning: skipping session with too few trials 41\n",
      "Warning: skipping session with too few trials 37\n"
     ]
    },
    {
     "data": {
      "application/vnd.jupyter.widget-view+json": {
       "model_id": "5a30a3a5fe0d4e709d1b3d4987930f9d",
       "version_major": 2,
       "version_minor": 0
      },
      "text/plain": [
       "IntProgress(value=0, description='mvg_9', max=21)"
      ]
     },
     "metadata": {},
     "output_type": "display_data"
    },
    {
     "name": "stdout",
     "output_type": "stream",
     "text": [
      "Warning: skipping session with too few trials 39\n",
      "Warning: skipping session with too few trials 15\n",
      "Warning: skipping session with too few trials 16\n"
     ]
    },
    {
     "data": {
      "application/vnd.jupyter.widget-view+json": {
       "model_id": "b4d898ba4ab14c30ad18631f4cce1b2c",
       "version_major": 2,
       "version_minor": 0
      },
      "text/plain": [
       "IntProgress(value=0, description='mvg_9', max=21)"
      ]
     },
     "metadata": {},
     "output_type": "display_data"
    },
    {
     "name": "stdout",
     "output_type": "stream",
     "text": [
      "Warning: skipping session with too few trials 23\n",
      "Warning: skipping session with too few trials 5\n",
      "Warning: skipping session with too few trials 35\n"
     ]
    },
    {
     "data": {
      "application/vnd.jupyter.widget-view+json": {
       "model_id": "b6618692a3c34ebfa14f10f40f1bebae",
       "version_major": 2,
       "version_minor": 0
      },
      "text/plain": [
       "IntProgress(value=0, description='mvg_9', max=16)"
      ]
     },
     "metadata": {},
     "output_type": "display_data"
    },
    {
     "data": {
      "application/vnd.jupyter.widget-view+json": {
       "model_id": "8122b85ec78741c49d715dac056036d1",
       "version_major": 2,
       "version_minor": 0
      },
      "text/plain": [
       "IntProgress(value=0, description='mvg_9', max=16)"
      ]
     },
     "metadata": {},
     "output_type": "display_data"
    },
    {
     "name": "stdout",
     "output_type": "stream",
     "text": [
      "Warning: skipping session with too few trials 13\n"
     ]
    },
    {
     "data": {
      "application/vnd.jupyter.widget-view+json": {
       "model_id": "868775aeb0bf47c9a51090edabeba149",
       "version_major": 2,
       "version_minor": 0
      },
      "text/plain": [
       "IntProgress(value=0, description='mvg_9', max=16)"
      ]
     },
     "metadata": {},
     "output_type": "display_data"
    },
    {
     "name": "stdout",
     "output_type": "stream",
     "text": [
      "Warning: skipping session with too few trials 39\n",
      "Warning: skipping session with too few trials 11\n",
      "Warning: skipping session with too few trials 40\n",
      "Warning: skipping session with too few trials 19\n",
      "Warning: skipping session with too few trials 41\n"
     ]
    },
    {
     "data": {
      "application/vnd.jupyter.widget-view+json": {
       "model_id": "78d1027d6a0e4302885da8f1200d9b95",
       "version_major": 2,
       "version_minor": 0
      },
      "text/plain": [
       "IntProgress(value=0, description='mvg_9', max=16)"
      ]
     },
     "metadata": {},
     "output_type": "display_data"
    },
    {
     "name": "stdout",
     "output_type": "stream",
     "text": [
      "Warning: skipping session with too few trials 39\n",
      "Warning: skipping session with too few trials 15\n",
      "Warning: skipping session with too few trials 16\n"
     ]
    },
    {
     "data": {
      "application/vnd.jupyter.widget-view+json": {
       "model_id": "b317304fb08f4e9fb10f3c79e060014c",
       "version_major": 2,
       "version_minor": 0
      },
      "text/plain": [
       "IntProgress(value=0, description='mvg_9', max=16)"
      ]
     },
     "metadata": {},
     "output_type": "display_data"
    },
    {
     "name": "stdout",
     "output_type": "stream",
     "text": [
      "Warning: skipping session with too few trials 23\n",
      "Warning: skipping session with too few trials 5\n",
      "Warning: skipping session with too few trials 35\n"
     ]
    },
    {
     "data": {
      "application/vnd.jupyter.widget-view+json": {
       "model_id": "800ae3b6db3146b9a9c38163b4c6b773",
       "version_major": 2,
       "version_minor": 0
      },
      "text/plain": [
       "IntProgress(value=0, description='mvg_9', max=5)"
      ]
     },
     "metadata": {},
     "output_type": "display_data"
    },
    {
     "data": {
      "application/vnd.jupyter.widget-view+json": {
       "model_id": "3cd88d28b210460e867f09fa8fae297e",
       "version_major": 2,
       "version_minor": 0
      },
      "text/plain": [
       "IntProgress(value=0, description='mvg_9', max=5)"
      ]
     },
     "metadata": {},
     "output_type": "display_data"
    },
    {
     "data": {
      "application/vnd.jupyter.widget-view+json": {
       "model_id": "0cc5d78f19cd43cd9d0fd1741842b6bc",
       "version_major": 2,
       "version_minor": 0
      },
      "text/plain": [
       "IntProgress(value=0, description='mvg_9', max=5)"
      ]
     },
     "metadata": {},
     "output_type": "display_data"
    },
    {
     "name": "stdout",
     "output_type": "stream",
     "text": [
      "Warning: skipping session with too few trials 37\n"
     ]
    },
    {
     "data": {
      "application/vnd.jupyter.widget-view+json": {
       "model_id": "fe3372e6beb34fffb5d45acefc38d577",
       "version_major": 2,
       "version_minor": 0
      },
      "text/plain": [
       "IntProgress(value=0, description='mvg_9', max=5)"
      ]
     },
     "metadata": {},
     "output_type": "display_data"
    },
    {
     "data": {
      "application/vnd.jupyter.widget-view+json": {
       "model_id": "88ce54909cb04efeba13bc24fb482be9",
       "version_major": 2,
       "version_minor": 0
      },
      "text/plain": [
       "IntProgress(value=0, description='mvg_9', max=5)"
      ]
     },
     "metadata": {},
     "output_type": "display_data"
    },
    {
     "data": {
      "application/vnd.jupyter.widget-view+json": {
       "model_id": "202d69ab4fde47b6adc061b07c8e66a3",
       "version_major": 2,
       "version_minor": 0
      },
      "text/plain": [
       "IntProgress(value=0, description='mvg_9', max=21)"
      ]
     },
     "metadata": {},
     "output_type": "display_data"
    },
    {
     "data": {
      "application/vnd.jupyter.widget-view+json": {
       "model_id": "96fb4e4a4ddd40bb9a410797c00b4e51",
       "version_major": 2,
       "version_minor": 0
      },
      "text/plain": [
       "IntProgress(value=0, description='mvg_9', max=21)"
      ]
     },
     "metadata": {},
     "output_type": "display_data"
    },
    {
     "name": "stdout",
     "output_type": "stream",
     "text": [
      "Warning: skipping session with too few trials 13\n"
     ]
    },
    {
     "data": {
      "application/vnd.jupyter.widget-view+json": {
       "model_id": "89fac56846404881a831e583adea1f0b",
       "version_major": 2,
       "version_minor": 0
      },
      "text/plain": [
       "IntProgress(value=0, description='mvg_9', max=21)"
      ]
     },
     "metadata": {},
     "output_type": "display_data"
    },
    {
     "name": "stdout",
     "output_type": "stream",
     "text": [
      "Warning: skipping session with too few trials 39\n",
      "Warning: skipping session with too few trials 11\n",
      "Warning: skipping session with too few trials 40\n",
      "Warning: skipping session with too few trials 19\n",
      "Warning: skipping session with too few trials 41\n",
      "Warning: skipping session with too few trials 37\n"
     ]
    },
    {
     "data": {
      "application/vnd.jupyter.widget-view+json": {
       "model_id": "53ec671a493e479e934b0f0bbfaf1869",
       "version_major": 2,
       "version_minor": 0
      },
      "text/plain": [
       "IntProgress(value=0, description='mvg_9', max=21)"
      ]
     },
     "metadata": {},
     "output_type": "display_data"
    },
    {
     "name": "stdout",
     "output_type": "stream",
     "text": [
      "Warning: skipping session with too few trials 39\n",
      "Warning: skipping session with too few trials 15\n",
      "Warning: skipping session with too few trials 16\n"
     ]
    },
    {
     "data": {
      "application/vnd.jupyter.widget-view+json": {
       "model_id": "3fea74ecaa7142769a5b4b2f523f9bad",
       "version_major": 2,
       "version_minor": 0
      },
      "text/plain": [
       "IntProgress(value=0, description='mvg_9', max=21)"
      ]
     },
     "metadata": {},
     "output_type": "display_data"
    },
    {
     "name": "stdout",
     "output_type": "stream",
     "text": [
      "Warning: skipping session with too few trials 23\n",
      "Warning: skipping session with too few trials 5\n",
      "Warning: skipping session with too few trials 35\n"
     ]
    },
    {
     "data": {
      "application/vnd.jupyter.widget-view+json": {
       "model_id": "1e02090e20884cf69f10032708be4002",
       "version_major": 2,
       "version_minor": 0
      },
      "text/plain": [
       "IntProgress(value=0, description='mvg_9', max=16)"
      ]
     },
     "metadata": {},
     "output_type": "display_data"
    },
    {
     "data": {
      "application/vnd.jupyter.widget-view+json": {
       "model_id": "2c82e42d842d4130a6dc07f7892ae0a4",
       "version_major": 2,
       "version_minor": 0
      },
      "text/plain": [
       "IntProgress(value=0, description='mvg_9', max=16)"
      ]
     },
     "metadata": {},
     "output_type": "display_data"
    },
    {
     "name": "stdout",
     "output_type": "stream",
     "text": [
      "Warning: skipping session with too few trials 13\n"
     ]
    },
    {
     "data": {
      "application/vnd.jupyter.widget-view+json": {
       "model_id": "1032a58d234d413ebc0c3edb54eac0c1",
       "version_major": 2,
       "version_minor": 0
      },
      "text/plain": [
       "IntProgress(value=0, description='mvg_9', max=16)"
      ]
     },
     "metadata": {},
     "output_type": "display_data"
    },
    {
     "name": "stdout",
     "output_type": "stream",
     "text": [
      "Warning: skipping session with too few trials 39\n",
      "Warning: skipping session with too few trials 11\n",
      "Warning: skipping session with too few trials 40\n",
      "Warning: skipping session with too few trials 19\n",
      "Warning: skipping session with too few trials 41\n"
     ]
    },
    {
     "data": {
      "application/vnd.jupyter.widget-view+json": {
       "model_id": "bbb25f9987114fbc9ae48858e5ad950a",
       "version_major": 2,
       "version_minor": 0
      },
      "text/plain": [
       "IntProgress(value=0, description='mvg_9', max=16)"
      ]
     },
     "metadata": {},
     "output_type": "display_data"
    },
    {
     "name": "stdout",
     "output_type": "stream",
     "text": [
      "Warning: skipping session with too few trials 39\n",
      "Warning: skipping session with too few trials 15\n",
      "Warning: skipping session with too few trials 16\n"
     ]
    },
    {
     "data": {
      "application/vnd.jupyter.widget-view+json": {
       "model_id": "6ac2e46083d8441a83579207f18c69b0",
       "version_major": 2,
       "version_minor": 0
      },
      "text/plain": [
       "IntProgress(value=0, description='mvg_9', max=16)"
      ]
     },
     "metadata": {},
     "output_type": "display_data"
    },
    {
     "name": "stdout",
     "output_type": "stream",
     "text": [
      "Warning: skipping session with too few trials 23\n",
      "Warning: skipping session with too few trials 5\n",
      "Warning: skipping session with too few trials 35\n"
     ]
    },
    {
     "data": {
      "application/vnd.jupyter.widget-view+json": {
       "model_id": "f5a9afab5c28489fb30652f26c99c1fb",
       "version_major": 2,
       "version_minor": 0
      },
      "text/plain": [
       "IntProgress(value=0, description='mvg_9', max=5)"
      ]
     },
     "metadata": {},
     "output_type": "display_data"
    },
    {
     "data": {
      "application/vnd.jupyter.widget-view+json": {
       "model_id": "01225a024c884930abf8bf48ecb4ab14",
       "version_major": 2,
       "version_minor": 0
      },
      "text/plain": [
       "IntProgress(value=0, description='mvg_9', max=5)"
      ]
     },
     "metadata": {},
     "output_type": "display_data"
    },
    {
     "data": {
      "application/vnd.jupyter.widget-view+json": {
       "model_id": "e7e353b0f7a349238a1c0e941ef83e90",
       "version_major": 2,
       "version_minor": 0
      },
      "text/plain": [
       "IntProgress(value=0, description='mvg_9', max=5)"
      ]
     },
     "metadata": {},
     "output_type": "display_data"
    },
    {
     "name": "stdout",
     "output_type": "stream",
     "text": [
      "Warning: skipping session with too few trials 37\n"
     ]
    },
    {
     "data": {
      "application/vnd.jupyter.widget-view+json": {
       "model_id": "ff233c3338da445b80e86d980419197d",
       "version_major": 2,
       "version_minor": 0
      },
      "text/plain": [
       "IntProgress(value=0, description='mvg_9', max=5)"
      ]
     },
     "metadata": {},
     "output_type": "display_data"
    },
    {
     "data": {
      "application/vnd.jupyter.widget-view+json": {
       "model_id": "ff85900ff07f497face68e2f895e301a",
       "version_major": 2,
       "version_minor": 0
      },
      "text/plain": [
       "IntProgress(value=0, description='mvg_9', max=5)"
      ]
     },
     "metadata": {},
     "output_type": "display_data"
    },
    {
     "data": {
      "application/vnd.jupyter.widget-view+json": {
       "model_id": "e78863641db64f399569e1a81a78e553",
       "version_major": 2,
       "version_minor": 0
      },
      "text/plain": [
       "IntProgress(value=0, description='mvg_9', max=21)"
      ]
     },
     "metadata": {},
     "output_type": "display_data"
    },
    {
     "data": {
      "application/vnd.jupyter.widget-view+json": {
       "model_id": "0eae3179891a49059099e53fcd0eeb8c",
       "version_major": 2,
       "version_minor": 0
      },
      "text/plain": [
       "IntProgress(value=0, description='mvg_9', max=21)"
      ]
     },
     "metadata": {},
     "output_type": "display_data"
    },
    {
     "name": "stdout",
     "output_type": "stream",
     "text": [
      "Warning: skipping session with too few trials 13\n"
     ]
    },
    {
     "data": {
      "application/vnd.jupyter.widget-view+json": {
       "model_id": "7edd742d44664c69a05fa4e994bddbbb",
       "version_major": 2,
       "version_minor": 0
      },
      "text/plain": [
       "IntProgress(value=0, description='mvg_9', max=21)"
      ]
     },
     "metadata": {},
     "output_type": "display_data"
    },
    {
     "name": "stdout",
     "output_type": "stream",
     "text": [
      "Warning: skipping session with too few trials 39\n",
      "Warning: skipping session with too few trials 11\n",
      "Warning: skipping session with too few trials 40\n",
      "Warning: skipping session with too few trials 19\n",
      "Warning: skipping session with too few trials 41\n",
      "Warning: skipping session with too few trials 37\n"
     ]
    },
    {
     "data": {
      "application/vnd.jupyter.widget-view+json": {
       "model_id": "8530e2283dd04d86a171795f2f62c4a5",
       "version_major": 2,
       "version_minor": 0
      },
      "text/plain": [
       "IntProgress(value=0, description='mvg_9', max=21)"
      ]
     },
     "metadata": {},
     "output_type": "display_data"
    },
    {
     "name": "stdout",
     "output_type": "stream",
     "text": [
      "Warning: skipping session with too few trials 39\n",
      "Warning: skipping session with too few trials 15\n",
      "Warning: skipping session with too few trials 16\n"
     ]
    },
    {
     "data": {
      "application/vnd.jupyter.widget-view+json": {
       "model_id": "f4ca18c052e940a5a7c63a7ed9cb208a",
       "version_major": 2,
       "version_minor": 0
      },
      "text/plain": [
       "IntProgress(value=0, description='mvg_9', max=21)"
      ]
     },
     "metadata": {},
     "output_type": "display_data"
    },
    {
     "name": "stdout",
     "output_type": "stream",
     "text": [
      "Warning: skipping session with too few trials 23\n",
      "Warning: skipping session with too few trials 5\n",
      "Warning: skipping session with too few trials 35\n"
     ]
    },
    {
     "data": {
      "application/vnd.jupyter.widget-view+json": {
       "model_id": "e96869da363247be91851fd263b7a026",
       "version_major": 2,
       "version_minor": 0
      },
      "text/plain": [
       "IntProgress(value=0, description='mvg_9', max=16)"
      ]
     },
     "metadata": {},
     "output_type": "display_data"
    },
    {
     "data": {
      "application/vnd.jupyter.widget-view+json": {
       "model_id": "0e7b831fa18b415b9076aae9e36b1841",
       "version_major": 2,
       "version_minor": 0
      },
      "text/plain": [
       "IntProgress(value=0, description='mvg_9', max=16)"
      ]
     },
     "metadata": {},
     "output_type": "display_data"
    },
    {
     "name": "stdout",
     "output_type": "stream",
     "text": [
      "Warning: skipping session with too few trials 13\n"
     ]
    },
    {
     "data": {
      "application/vnd.jupyter.widget-view+json": {
       "model_id": "18210ce73efc49598ed9d07b3821e7cf",
       "version_major": 2,
       "version_minor": 0
      },
      "text/plain": [
       "IntProgress(value=0, description='mvg_9', max=16)"
      ]
     },
     "metadata": {},
     "output_type": "display_data"
    },
    {
     "name": "stdout",
     "output_type": "stream",
     "text": [
      "Warning: skipping session with too few trials 39\n",
      "Warning: skipping session with too few trials 11\n",
      "Warning: skipping session with too few trials 40\n",
      "Warning: skipping session with too few trials 19\n",
      "Warning: skipping session with too few trials 41\n"
     ]
    },
    {
     "data": {
      "application/vnd.jupyter.widget-view+json": {
       "model_id": "e07691abf1ba494eac1ea21e3bf310de",
       "version_major": 2,
       "version_minor": 0
      },
      "text/plain": [
       "IntProgress(value=0, description='mvg_9', max=16)"
      ]
     },
     "metadata": {},
     "output_type": "display_data"
    },
    {
     "name": "stdout",
     "output_type": "stream",
     "text": [
      "Warning: skipping session with too few trials 39\n",
      "Warning: skipping session with too few trials 15\n",
      "Warning: skipping session with too few trials 16\n"
     ]
    },
    {
     "data": {
      "application/vnd.jupyter.widget-view+json": {
       "model_id": "efc8d6a5bffd4162be0a27d81c431685",
       "version_major": 2,
       "version_minor": 0
      },
      "text/plain": [
       "IntProgress(value=0, description='mvg_9', max=16)"
      ]
     },
     "metadata": {},
     "output_type": "display_data"
    },
    {
     "name": "stdout",
     "output_type": "stream",
     "text": [
      "Warning: skipping session with too few trials 23\n",
      "Warning: skipping session with too few trials 5\n",
      "Warning: skipping session with too few trials 35\n"
     ]
    },
    {
     "data": {
      "application/vnd.jupyter.widget-view+json": {
       "model_id": "f28f4f7a183a4bf3878afe7038fb14c4",
       "version_major": 2,
       "version_minor": 0
      },
      "text/plain": [
       "IntProgress(value=0, description='mvg_9', max=5)"
      ]
     },
     "metadata": {},
     "output_type": "display_data"
    },
    {
     "data": {
      "application/vnd.jupyter.widget-view+json": {
       "model_id": "173c7c9d69d647bd918fd29f12662d87",
       "version_major": 2,
       "version_minor": 0
      },
      "text/plain": [
       "IntProgress(value=0, description='mvg_9', max=5)"
      ]
     },
     "metadata": {},
     "output_type": "display_data"
    },
    {
     "data": {
      "application/vnd.jupyter.widget-view+json": {
       "model_id": "d659f161db984fe5ac56718b65400a7b",
       "version_major": 2,
       "version_minor": 0
      },
      "text/plain": [
       "IntProgress(value=0, description='mvg_9', max=5)"
      ]
     },
     "metadata": {},
     "output_type": "display_data"
    },
    {
     "name": "stdout",
     "output_type": "stream",
     "text": [
      "Warning: skipping session with too few trials 37\n"
     ]
    },
    {
     "data": {
      "application/vnd.jupyter.widget-view+json": {
       "model_id": "241382e7efcc4328bb64cdf2273b9647",
       "version_major": 2,
       "version_minor": 0
      },
      "text/plain": [
       "IntProgress(value=0, description='mvg_9', max=5)"
      ]
     },
     "metadata": {},
     "output_type": "display_data"
    },
    {
     "data": {
      "application/vnd.jupyter.widget-view+json": {
       "model_id": "680c22ab40df4ebe90ee22a123acef8d",
       "version_major": 2,
       "version_minor": 0
      },
      "text/plain": [
       "IntProgress(value=0, description='mvg_9', max=5)"
      ]
     },
     "metadata": {},
     "output_type": "display_data"
    },
    {
     "data": {
      "application/vnd.jupyter.widget-view+json": {
       "model_id": "0338522e4f2444f1ad3e419f791d20a2",
       "version_major": 2,
       "version_minor": 0
      },
      "text/plain": [
       "IntProgress(value=0, description='session', max=180)"
      ]
     },
     "metadata": {},
     "output_type": "display_data"
    },
    {
     "data": {
      "application/vnd.jupyter.widget-view+json": {
       "model_id": "b4a8bcb86ed64473ae8ce4462f7de89f",
       "version_major": 2,
       "version_minor": 0
      },
      "text/plain": [
       "IntProgress(value=0, description='mvg_8', max=16)"
      ]
     },
     "metadata": {},
     "output_type": "display_data"
    },
    {
     "data": {
      "application/vnd.jupyter.widget-view+json": {
       "model_id": "d9da2dca714c438bb6a516e2f288bc52",
       "version_major": 2,
       "version_minor": 0
      },
      "text/plain": [
       "IntProgress(value=0, description='mvg_8', max=16)"
      ]
     },
     "metadata": {},
     "output_type": "display_data"
    },
    {
     "name": "stdout",
     "output_type": "stream",
     "text": [
      "Warning: skipping session with too few trials 34\n",
      "Warning: skipping session with too few trials 23\n",
      "Warning: skipping session with too few trials 36\n",
      "Warning: skipping session with too few trials 10\n",
      "Warning: skipping session with too few trials 6\n",
      "Warning: skipping session with too few trials 4\n",
      "Warning: skipping session with too few trials 15\n",
      "Warning: skipping session with too few trials 31\n",
      "Warning: skipping session with too few trials 38\n",
      "Warning: skipping session with too few trials 6\n"
     ]
    },
    {
     "data": {
      "application/vnd.jupyter.widget-view+json": {
       "model_id": "cb8c944af11e4529930fd7f6e3349b00",
       "version_major": 2,
       "version_minor": 0
      },
      "text/plain": [
       "IntProgress(value=0, description='mvg_8', max=16)"
      ]
     },
     "metadata": {},
     "output_type": "display_data"
    },
    {
     "name": "stdout",
     "output_type": "stream",
     "text": [
      "Warning: skipping session with too few trials 37\n",
      "Warning: skipping session with too few trials 49\n",
      "Warning: skipping session with too few trials 25\n",
      "Warning: skipping session with too few trials 26\n",
      "Warning: skipping session with too few trials 8\n",
      "Warning: skipping session with too few trials 2\n",
      "Warning: skipping session with too few trials 33\n",
      "Warning: skipping session with too few trials 14\n",
      "Warning: skipping session with too few trials 2\n",
      "Warning: skipping session with too few trials 12\n",
      "Warning: skipping session with too few trials 17\n"
     ]
    },
    {
     "data": {
      "application/vnd.jupyter.widget-view+json": {
       "model_id": "9dd6a864933246c6917e517c6638db61",
       "version_major": 2,
       "version_minor": 0
      },
      "text/plain": [
       "IntProgress(value=0, description='mvg_8', max=16)"
      ]
     },
     "metadata": {},
     "output_type": "display_data"
    },
    {
     "name": "stdout",
     "output_type": "stream",
     "text": [
      "Warning: skipping session with too few trials 44\n",
      "Warning: skipping session with too few trials 41\n",
      "Warning: skipping session with too few trials 38\n"
     ]
    },
    {
     "data": {
      "application/vnd.jupyter.widget-view+json": {
       "model_id": "91beef4f5dcc4788b80b648862df1e33",
       "version_major": 2,
       "version_minor": 0
      },
      "text/plain": [
       "IntProgress(value=0, description='mvg_8', max=16)"
      ]
     },
     "metadata": {},
     "output_type": "display_data"
    },
    {
     "name": "stdout",
     "output_type": "stream",
     "text": [
      "Warning: skipping session with too few trials 11\n",
      "Warning: skipping session with too few trials 4\n",
      "Warning: skipping session with too few trials 30\n",
      "Warning: skipping session with too few trials 21\n"
     ]
    },
    {
     "data": {
      "application/vnd.jupyter.widget-view+json": {
       "model_id": "7febd5d3131745a6ac65b7c083630880",
       "version_major": 2,
       "version_minor": 0
      },
      "text/plain": [
       "IntProgress(value=0, description='mvg_8', max=7)"
      ]
     },
     "metadata": {},
     "output_type": "display_data"
    },
    {
     "data": {
      "application/vnd.jupyter.widget-view+json": {
       "model_id": "ea89a675d33d4e578242ebd91a57545f",
       "version_major": 2,
       "version_minor": 0
      },
      "text/plain": [
       "IntProgress(value=0, description='mvg_8', max=7)"
      ]
     },
     "metadata": {},
     "output_type": "display_data"
    },
    {
     "name": "stdout",
     "output_type": "stream",
     "text": [
      "Warning: skipping session with too few trials 34\n"
     ]
    },
    {
     "data": {
      "application/vnd.jupyter.widget-view+json": {
       "model_id": "21fe5757a90c4dde89915b3c2e33f9bb",
       "version_major": 2,
       "version_minor": 0
      },
      "text/plain": [
       "IntProgress(value=0, description='mvg_8', max=7)"
      ]
     },
     "metadata": {},
     "output_type": "display_data"
    },
    {
     "name": "stdout",
     "output_type": "stream",
     "text": [
      "Warning: skipping session with too few trials 37\n",
      "Warning: skipping session with too few trials 49\n",
      "Warning: skipping session with too few trials 25\n"
     ]
    },
    {
     "data": {
      "application/vnd.jupyter.widget-view+json": {
       "model_id": "e7eae41bdbed4e9b8ea0add9fbd900eb",
       "version_major": 2,
       "version_minor": 0
      },
      "text/plain": [
       "IntProgress(value=0, description='mvg_8', max=7)"
      ]
     },
     "metadata": {},
     "output_type": "display_data"
    },
    {
     "name": "stdout",
     "output_type": "stream",
     "text": [
      "Warning: skipping session with too few trials 44\n",
      "Warning: skipping session with too few trials 41\n",
      "Warning: skipping session with too few trials 38\n"
     ]
    },
    {
     "data": {
      "application/vnd.jupyter.widget-view+json": {
       "model_id": "585b59894c8145959ab9e7c99e564be7",
       "version_major": 2,
       "version_minor": 0
      },
      "text/plain": [
       "IntProgress(value=0, description='mvg_8', max=7)"
      ]
     },
     "metadata": {},
     "output_type": "display_data"
    },
    {
     "name": "stdout",
     "output_type": "stream",
     "text": [
      "Warning: skipping session with too few trials 11\n",
      "Warning: skipping session with too few trials 4\n",
      "Warning: skipping session with too few trials 30\n",
      "Warning: skipping session with too few trials 21\n"
     ]
    },
    {
     "data": {
      "application/vnd.jupyter.widget-view+json": {
       "model_id": "db5cc3d9182d4a2aa86b4578d9d9bc71",
       "version_major": 2,
       "version_minor": 0
      },
      "text/plain": [
       "IntProgress(value=0, description='mvg_8', max=9)"
      ]
     },
     "metadata": {},
     "output_type": "display_data"
    },
    {
     "data": {
      "application/vnd.jupyter.widget-view+json": {
       "model_id": "9fd97163c20e40e0abe10e922d1999f1",
       "version_major": 2,
       "version_minor": 0
      },
      "text/plain": [
       "IntProgress(value=0, description='mvg_8', max=9)"
      ]
     },
     "metadata": {},
     "output_type": "display_data"
    },
    {
     "name": "stdout",
     "output_type": "stream",
     "text": [
      "Warning: skipping session with too few trials 23\n",
      "Warning: skipping session with too few trials 36\n",
      "Warning: skipping session with too few trials 10\n",
      "Warning: skipping session with too few trials 6\n",
      "Warning: skipping session with too few trials 4\n",
      "Warning: skipping session with too few trials 15\n",
      "Warning: skipping session with too few trials 31\n",
      "Warning: skipping session with too few trials 38\n",
      "Warning: skipping session with too few trials 6\n",
      "Warning, all sessions had too few trials, this mouse is skipped\n"
     ]
    },
    {
     "data": {
      "application/vnd.jupyter.widget-view+json": {
       "model_id": "fa668e8287044fbeb42cf4b13cfc3fa9",
       "version_major": 2,
       "version_minor": 0
      },
      "text/plain": [
       "IntProgress(value=0, description='mvg_8', max=9)"
      ]
     },
     "metadata": {},
     "output_type": "display_data"
    },
    {
     "name": "stdout",
     "output_type": "stream",
     "text": [
      "Warning: skipping session with too few trials 26\n",
      "Warning: skipping session with too few trials 8\n",
      "Warning: skipping session with too few trials 2\n",
      "Warning: skipping session with too few trials 33\n",
      "Warning: skipping session with too few trials 14\n",
      "Warning: skipping session with too few trials 2\n",
      "Warning: skipping session with too few trials 12\n",
      "Warning: skipping session with too few trials 17\n"
     ]
    },
    {
     "data": {
      "application/vnd.jupyter.widget-view+json": {
       "model_id": "495a1b0542474190843cb9ff4ff03a95",
       "version_major": 2,
       "version_minor": 0
      },
      "text/plain": [
       "IntProgress(value=0, description='mvg_8', max=9)"
      ]
     },
     "metadata": {},
     "output_type": "display_data"
    },
    {
     "data": {
      "application/vnd.jupyter.widget-view+json": {
       "model_id": "5e2ec6336dd748f09e3e221273ea9d81",
       "version_major": 2,
       "version_minor": 0
      },
      "text/plain": [
       "IntProgress(value=0, description='mvg_8', max=9)"
      ]
     },
     "metadata": {},
     "output_type": "display_data"
    },
    {
     "data": {
      "application/vnd.jupyter.widget-view+json": {
       "model_id": "03f0bb135e2b496e98539100e4633d66",
       "version_major": 2,
       "version_minor": 0
      },
      "text/plain": [
       "IntProgress(value=0, description='mvg_8', max=16)"
      ]
     },
     "metadata": {},
     "output_type": "display_data"
    },
    {
     "data": {
      "application/vnd.jupyter.widget-view+json": {
       "model_id": "524b1bf713ff4d23a610b0d5b03c4380",
       "version_major": 2,
       "version_minor": 0
      },
      "text/plain": [
       "IntProgress(value=0, description='mvg_8', max=16)"
      ]
     },
     "metadata": {},
     "output_type": "display_data"
    },
    {
     "name": "stdout",
     "output_type": "stream",
     "text": [
      "Warning: skipping session with too few trials 34\n",
      "Warning: skipping session with too few trials 23\n",
      "Warning: skipping session with too few trials 36\n",
      "Warning: skipping session with too few trials 10\n",
      "Warning: skipping session with too few trials 6\n",
      "Warning: skipping session with too few trials 4\n",
      "Warning: skipping session with too few trials 15\n",
      "Warning: skipping session with too few trials 31\n",
      "Warning: skipping session with too few trials 38\n",
      "Warning: skipping session with too few trials 6\n"
     ]
    },
    {
     "data": {
      "application/vnd.jupyter.widget-view+json": {
       "model_id": "02974656b32f4894a5d3b04da9ca298a",
       "version_major": 2,
       "version_minor": 0
      },
      "text/plain": [
       "IntProgress(value=0, description='mvg_8', max=16)"
      ]
     },
     "metadata": {},
     "output_type": "display_data"
    },
    {
     "name": "stdout",
     "output_type": "stream",
     "text": [
      "Warning: skipping session with too few trials 37\n",
      "Warning: skipping session with too few trials 49\n",
      "Warning: skipping session with too few trials 25\n",
      "Warning: skipping session with too few trials 26\n",
      "Warning: skipping session with too few trials 8\n",
      "Warning: skipping session with too few trials 2\n",
      "Warning: skipping session with too few trials 33\n",
      "Warning: skipping session with too few trials 14\n",
      "Warning: skipping session with too few trials 2\n",
      "Warning: skipping session with too few trials 12\n",
      "Warning: skipping session with too few trials 17\n"
     ]
    },
    {
     "data": {
      "application/vnd.jupyter.widget-view+json": {
       "model_id": "a679e83f7f45442d8405919d68d9d9b2",
       "version_major": 2,
       "version_minor": 0
      },
      "text/plain": [
       "IntProgress(value=0, description='mvg_8', max=16)"
      ]
     },
     "metadata": {},
     "output_type": "display_data"
    },
    {
     "name": "stdout",
     "output_type": "stream",
     "text": [
      "Warning: skipping session with too few trials 44\n",
      "Warning: skipping session with too few trials 41\n",
      "Warning: skipping session with too few trials 38\n"
     ]
    },
    {
     "data": {
      "application/vnd.jupyter.widget-view+json": {
       "model_id": "16bccc047ada40f69d8b92951c41ff88",
       "version_major": 2,
       "version_minor": 0
      },
      "text/plain": [
       "IntProgress(value=0, description='mvg_8', max=16)"
      ]
     },
     "metadata": {},
     "output_type": "display_data"
    },
    {
     "name": "stdout",
     "output_type": "stream",
     "text": [
      "Warning: skipping session with too few trials 11\n",
      "Warning: skipping session with too few trials 4\n",
      "Warning: skipping session with too few trials 30\n",
      "Warning: skipping session with too few trials 21\n"
     ]
    },
    {
     "data": {
      "application/vnd.jupyter.widget-view+json": {
       "model_id": "4104f433d7ca45258ceec360e5dbfc85",
       "version_major": 2,
       "version_minor": 0
      },
      "text/plain": [
       "IntProgress(value=0, description='mvg_8', max=7)"
      ]
     },
     "metadata": {},
     "output_type": "display_data"
    },
    {
     "data": {
      "application/vnd.jupyter.widget-view+json": {
       "model_id": "4a45659950c340d6b4ee511184d857e0",
       "version_major": 2,
       "version_minor": 0
      },
      "text/plain": [
       "IntProgress(value=0, description='mvg_8', max=7)"
      ]
     },
     "metadata": {},
     "output_type": "display_data"
    },
    {
     "name": "stdout",
     "output_type": "stream",
     "text": [
      "Warning: skipping session with too few trials 34\n"
     ]
    },
    {
     "data": {
      "application/vnd.jupyter.widget-view+json": {
       "model_id": "0ea1faf51ad44ae9b7d2555cdfe5299e",
       "version_major": 2,
       "version_minor": 0
      },
      "text/plain": [
       "IntProgress(value=0, description='mvg_8', max=7)"
      ]
     },
     "metadata": {},
     "output_type": "display_data"
    },
    {
     "name": "stdout",
     "output_type": "stream",
     "text": [
      "Warning: skipping session with too few trials 37\n",
      "Warning: skipping session with too few trials 49\n",
      "Warning: skipping session with too few trials 25\n"
     ]
    },
    {
     "data": {
      "application/vnd.jupyter.widget-view+json": {
       "model_id": "7da94bf9eb444a289e1ff15533d91728",
       "version_major": 2,
       "version_minor": 0
      },
      "text/plain": [
       "IntProgress(value=0, description='mvg_8', max=7)"
      ]
     },
     "metadata": {},
     "output_type": "display_data"
    },
    {
     "name": "stdout",
     "output_type": "stream",
     "text": [
      "Warning: skipping session with too few trials 44\n",
      "Warning: skipping session with too few trials 41\n",
      "Warning: skipping session with too few trials 38\n"
     ]
    },
    {
     "data": {
      "application/vnd.jupyter.widget-view+json": {
       "model_id": "56e6f68a04144b6c829f71bfccc71986",
       "version_major": 2,
       "version_minor": 0
      },
      "text/plain": [
       "IntProgress(value=0, description='mvg_8', max=7)"
      ]
     },
     "metadata": {},
     "output_type": "display_data"
    },
    {
     "name": "stdout",
     "output_type": "stream",
     "text": [
      "Warning: skipping session with too few trials 11\n",
      "Warning: skipping session with too few trials 4\n",
      "Warning: skipping session with too few trials 30\n",
      "Warning: skipping session with too few trials 21\n"
     ]
    },
    {
     "data": {
      "application/vnd.jupyter.widget-view+json": {
       "model_id": "6f485363415f40ec8f42ebf8e90b3136",
       "version_major": 2,
       "version_minor": 0
      },
      "text/plain": [
       "IntProgress(value=0, description='mvg_8', max=9)"
      ]
     },
     "metadata": {},
     "output_type": "display_data"
    },
    {
     "data": {
      "application/vnd.jupyter.widget-view+json": {
       "model_id": "ba52f8a57a0d459d808c0e550b5a1ee0",
       "version_major": 2,
       "version_minor": 0
      },
      "text/plain": [
       "IntProgress(value=0, description='mvg_8', max=9)"
      ]
     },
     "metadata": {},
     "output_type": "display_data"
    },
    {
     "name": "stdout",
     "output_type": "stream",
     "text": [
      "Warning: skipping session with too few trials 23\n",
      "Warning: skipping session with too few trials 36\n",
      "Warning: skipping session with too few trials 10\n",
      "Warning: skipping session with too few trials 6\n",
      "Warning: skipping session with too few trials 4\n",
      "Warning: skipping session with too few trials 15\n",
      "Warning: skipping session with too few trials 31\n",
      "Warning: skipping session with too few trials 38\n",
      "Warning: skipping session with too few trials 6\n",
      "Warning, all sessions had too few trials, this mouse is skipped\n"
     ]
    },
    {
     "data": {
      "application/vnd.jupyter.widget-view+json": {
       "model_id": "8aa96742b7f040dc8f79ef455ddecc49",
       "version_major": 2,
       "version_minor": 0
      },
      "text/plain": [
       "IntProgress(value=0, description='mvg_8', max=9)"
      ]
     },
     "metadata": {},
     "output_type": "display_data"
    },
    {
     "name": "stdout",
     "output_type": "stream",
     "text": [
      "Warning: skipping session with too few trials 26\n",
      "Warning: skipping session with too few trials 8\n",
      "Warning: skipping session with too few trials 2\n",
      "Warning: skipping session with too few trials 33\n",
      "Warning: skipping session with too few trials 14\n",
      "Warning: skipping session with too few trials 2\n",
      "Warning: skipping session with too few trials 12\n",
      "Warning: skipping session with too few trials 17\n"
     ]
    },
    {
     "data": {
      "application/vnd.jupyter.widget-view+json": {
       "model_id": "8699ba80fb884dcb9c10102bd12b6fbc",
       "version_major": 2,
       "version_minor": 0
      },
      "text/plain": [
       "IntProgress(value=0, description='mvg_8', max=9)"
      ]
     },
     "metadata": {},
     "output_type": "display_data"
    },
    {
     "data": {
      "application/vnd.jupyter.widget-view+json": {
       "model_id": "1aa384ec7afe47a5934c20d1705240bd",
       "version_major": 2,
       "version_minor": 0
      },
      "text/plain": [
       "IntProgress(value=0, description='mvg_8', max=9)"
      ]
     },
     "metadata": {},
     "output_type": "display_data"
    },
    {
     "data": {
      "application/vnd.jupyter.widget-view+json": {
       "model_id": "ffa62aa57fd741a1b8bc42654e9573eb",
       "version_major": 2,
       "version_minor": 0
      },
      "text/plain": [
       "IntProgress(value=0, description='mvg_8', max=16)"
      ]
     },
     "metadata": {},
     "output_type": "display_data"
    },
    {
     "data": {
      "application/vnd.jupyter.widget-view+json": {
       "model_id": "e3a7a0ba2ff74be9ac6bf3e808739839",
       "version_major": 2,
       "version_minor": 0
      },
      "text/plain": [
       "IntProgress(value=0, description='mvg_8', max=16)"
      ]
     },
     "metadata": {},
     "output_type": "display_data"
    },
    {
     "name": "stdout",
     "output_type": "stream",
     "text": [
      "Warning: skipping session with too few trials 34\n",
      "Warning: skipping session with too few trials 23\n",
      "Warning: skipping session with too few trials 36\n",
      "Warning: skipping session with too few trials 10\n",
      "Warning: skipping session with too few trials 6\n",
      "Warning: skipping session with too few trials 4\n",
      "Warning: skipping session with too few trials 15\n",
      "Warning: skipping session with too few trials 31\n",
      "Warning: skipping session with too few trials 38\n",
      "Warning: skipping session with too few trials 6\n"
     ]
    },
    {
     "data": {
      "application/vnd.jupyter.widget-view+json": {
       "model_id": "91be611df57547c69e39738bec650b11",
       "version_major": 2,
       "version_minor": 0
      },
      "text/plain": [
       "IntProgress(value=0, description='mvg_8', max=16)"
      ]
     },
     "metadata": {},
     "output_type": "display_data"
    },
    {
     "name": "stdout",
     "output_type": "stream",
     "text": [
      "Warning: skipping session with too few trials 37\n",
      "Warning: skipping session with too few trials 49\n",
      "Warning: skipping session with too few trials 25\n",
      "Warning: skipping session with too few trials 26\n",
      "Warning: skipping session with too few trials 8\n",
      "Warning: skipping session with too few trials 2\n",
      "Warning: skipping session with too few trials 33\n",
      "Warning: skipping session with too few trials 14\n",
      "Warning: skipping session with too few trials 2\n",
      "Warning: skipping session with too few trials 12\n",
      "Warning: skipping session with too few trials 17\n"
     ]
    },
    {
     "data": {
      "application/vnd.jupyter.widget-view+json": {
       "model_id": "ed3756f4072d42ddb85ae52bb378569a",
       "version_major": 2,
       "version_minor": 0
      },
      "text/plain": [
       "IntProgress(value=0, description='mvg_8', max=16)"
      ]
     },
     "metadata": {},
     "output_type": "display_data"
    },
    {
     "name": "stdout",
     "output_type": "stream",
     "text": [
      "Warning: skipping session with too few trials 44\n",
      "Warning: skipping session with too few trials 41\n",
      "Warning: skipping session with too few trials 38\n"
     ]
    },
    {
     "data": {
      "application/vnd.jupyter.widget-view+json": {
       "model_id": "982d6074fe7f42259b9116c412ef8af5",
       "version_major": 2,
       "version_minor": 0
      },
      "text/plain": [
       "IntProgress(value=0, description='mvg_8', max=16)"
      ]
     },
     "metadata": {},
     "output_type": "display_data"
    },
    {
     "name": "stdout",
     "output_type": "stream",
     "text": [
      "Warning: skipping session with too few trials 11\n",
      "Warning: skipping session with too few trials 4\n",
      "Warning: skipping session with too few trials 30\n",
      "Warning: skipping session with too few trials 21\n"
     ]
    },
    {
     "data": {
      "application/vnd.jupyter.widget-view+json": {
       "model_id": "1a800d9f33da40daa66a7ac37955b8ba",
       "version_major": 2,
       "version_minor": 0
      },
      "text/plain": [
       "IntProgress(value=0, description='mvg_8', max=7)"
      ]
     },
     "metadata": {},
     "output_type": "display_data"
    },
    {
     "data": {
      "application/vnd.jupyter.widget-view+json": {
       "model_id": "77ed04a2ff0347dea2d168ccabe74ed4",
       "version_major": 2,
       "version_minor": 0
      },
      "text/plain": [
       "IntProgress(value=0, description='mvg_8', max=7)"
      ]
     },
     "metadata": {},
     "output_type": "display_data"
    },
    {
     "name": "stdout",
     "output_type": "stream",
     "text": [
      "Warning: skipping session with too few trials 34\n"
     ]
    },
    {
     "data": {
      "application/vnd.jupyter.widget-view+json": {
       "model_id": "22d396daa9c642e3be5933df88c15e1d",
       "version_major": 2,
       "version_minor": 0
      },
      "text/plain": [
       "IntProgress(value=0, description='mvg_8', max=7)"
      ]
     },
     "metadata": {},
     "output_type": "display_data"
    },
    {
     "name": "stdout",
     "output_type": "stream",
     "text": [
      "Warning: skipping session with too few trials 37\n",
      "Warning: skipping session with too few trials 49\n",
      "Warning: skipping session with too few trials 25\n"
     ]
    },
    {
     "data": {
      "application/vnd.jupyter.widget-view+json": {
       "model_id": "254e7d795d7747c5a7a82565668b3b39",
       "version_major": 2,
       "version_minor": 0
      },
      "text/plain": [
       "IntProgress(value=0, description='mvg_8', max=7)"
      ]
     },
     "metadata": {},
     "output_type": "display_data"
    },
    {
     "name": "stdout",
     "output_type": "stream",
     "text": [
      "Warning: skipping session with too few trials 44\n",
      "Warning: skipping session with too few trials 41\n",
      "Warning: skipping session with too few trials 38\n"
     ]
    },
    {
     "data": {
      "application/vnd.jupyter.widget-view+json": {
       "model_id": "c79c242fd23748b9b1cccadc4551d3dd",
       "version_major": 2,
       "version_minor": 0
      },
      "text/plain": [
       "IntProgress(value=0, description='mvg_8', max=7)"
      ]
     },
     "metadata": {},
     "output_type": "display_data"
    },
    {
     "name": "stdout",
     "output_type": "stream",
     "text": [
      "Warning: skipping session with too few trials 11\n",
      "Warning: skipping session with too few trials 4\n",
      "Warning: skipping session with too few trials 30\n",
      "Warning: skipping session with too few trials 21\n"
     ]
    },
    {
     "data": {
      "application/vnd.jupyter.widget-view+json": {
       "model_id": "3f50b55b58cb4dff882af0291166ee40",
       "version_major": 2,
       "version_minor": 0
      },
      "text/plain": [
       "IntProgress(value=0, description='mvg_8', max=9)"
      ]
     },
     "metadata": {},
     "output_type": "display_data"
    },
    {
     "data": {
      "application/vnd.jupyter.widget-view+json": {
       "model_id": "90b54ee8fd1a48eea22a64f20a8478c8",
       "version_major": 2,
       "version_minor": 0
      },
      "text/plain": [
       "IntProgress(value=0, description='mvg_8', max=9)"
      ]
     },
     "metadata": {},
     "output_type": "display_data"
    },
    {
     "name": "stdout",
     "output_type": "stream",
     "text": [
      "Warning: skipping session with too few trials 23\n",
      "Warning: skipping session with too few trials 36\n",
      "Warning: skipping session with too few trials 10\n",
      "Warning: skipping session with too few trials 6\n",
      "Warning: skipping session with too few trials 4\n",
      "Warning: skipping session with too few trials 15\n",
      "Warning: skipping session with too few trials 31\n",
      "Warning: skipping session with too few trials 38\n",
      "Warning: skipping session with too few trials 6\n",
      "Warning, all sessions had too few trials, this mouse is skipped\n"
     ]
    },
    {
     "data": {
      "application/vnd.jupyter.widget-view+json": {
       "model_id": "d8c9a092673140be8e7b09951e44063a",
       "version_major": 2,
       "version_minor": 0
      },
      "text/plain": [
       "IntProgress(value=0, description='mvg_8', max=9)"
      ]
     },
     "metadata": {},
     "output_type": "display_data"
    },
    {
     "name": "stdout",
     "output_type": "stream",
     "text": [
      "Warning: skipping session with too few trials 26\n",
      "Warning: skipping session with too few trials 8\n",
      "Warning: skipping session with too few trials 2\n",
      "Warning: skipping session with too few trials 33\n",
      "Warning: skipping session with too few trials 14\n",
      "Warning: skipping session with too few trials 2\n",
      "Warning: skipping session with too few trials 12\n",
      "Warning: skipping session with too few trials 17\n"
     ]
    },
    {
     "data": {
      "application/vnd.jupyter.widget-view+json": {
       "model_id": "41dc490a9b7048b394d3610cd7baa87f",
       "version_major": 2,
       "version_minor": 0
      },
      "text/plain": [
       "IntProgress(value=0, description='mvg_8', max=9)"
      ]
     },
     "metadata": {},
     "output_type": "display_data"
    },
    {
     "data": {
      "application/vnd.jupyter.widget-view+json": {
       "model_id": "a94edb31ad0c40769cc54223eaed7868",
       "version_major": 2,
       "version_minor": 0
      },
      "text/plain": [
       "IntProgress(value=0, description='mvg_8', max=9)"
      ]
     },
     "metadata": {},
     "output_type": "display_data"
    },
    {
     "data": {
      "application/vnd.jupyter.widget-view+json": {
       "model_id": "108c2f9ac4e04467adeb2ade8cb06aaa",
       "version_major": 2,
       "version_minor": 0
      },
      "text/plain": [
       "IntProgress(value=0, description='mvg_4', max=11)"
      ]
     },
     "metadata": {},
     "output_type": "display_data"
    },
    {
     "data": {
      "application/vnd.jupyter.widget-view+json": {
       "model_id": "c15669365c8048f295381e20338d0bbc",
       "version_major": 2,
       "version_minor": 0
      },
      "text/plain": [
       "IntProgress(value=0, description='mvg_4', max=11)"
      ]
     },
     "metadata": {},
     "output_type": "display_data"
    },
    {
     "name": "stdout",
     "output_type": "stream",
     "text": [
      "Warning: skipping session with too few trials 40\n",
      "Warning: skipping session with too few trials 27\n",
      "Warning: skipping session with too few trials 34\n",
      "Warning: skipping session with too few trials 42\n"
     ]
    },
    {
     "data": {
      "application/vnd.jupyter.widget-view+json": {
       "model_id": "c51f899333db4b0f877bc2b95343f0ef",
       "version_major": 2,
       "version_minor": 0
      },
      "text/plain": [
       "IntProgress(value=0, description='mvg_4', max=11)"
      ]
     },
     "metadata": {},
     "output_type": "display_data"
    },
    {
     "name": "stdout",
     "output_type": "stream",
     "text": [
      "Warning: skipping session with too few trials 23\n",
      "Warning: skipping session with too few trials 45\n",
      "Warning: skipping session with too few trials 6\n",
      "Warning: skipping session with too few trials 5\n",
      "Warning: skipping session with too few trials 25\n",
      "Warning: skipping session with too few trials 15\n",
      "Warning: skipping session with too few trials 10\n",
      "Warning: skipping session with too few trials 38\n",
      "Warning: skipping session with too few trials 34\n",
      "Warning: skipping session with too few trials 16\n"
     ]
    },
    {
     "data": {
      "application/vnd.jupyter.widget-view+json": {
       "model_id": "1ff775e139424322a98127d46f6856de",
       "version_major": 2,
       "version_minor": 0
      },
      "text/plain": [
       "IntProgress(value=0, description='mvg_4', max=11)"
      ]
     },
     "metadata": {},
     "output_type": "display_data"
    },
    {
     "data": {
      "application/vnd.jupyter.widget-view+json": {
       "model_id": "d17d654d70c1451bb0c78bb2247fb7ab",
       "version_major": 2,
       "version_minor": 0
      },
      "text/plain": [
       "IntProgress(value=0, description='mvg_4', max=11)"
      ]
     },
     "metadata": {},
     "output_type": "display_data"
    },
    {
     "data": {
      "application/vnd.jupyter.widget-view+json": {
       "model_id": "435e922c9a324924a1929f670f69538d",
       "version_major": 2,
       "version_minor": 0
      },
      "text/plain": [
       "IntProgress(value=0, description='mvg_4', max=5)"
      ]
     },
     "metadata": {},
     "output_type": "display_data"
    },
    {
     "data": {
      "application/vnd.jupyter.widget-view+json": {
       "model_id": "29819b9609684c4e8ec106c27905ecb7",
       "version_major": 2,
       "version_minor": 0
      },
      "text/plain": [
       "IntProgress(value=0, description='mvg_4', max=5)"
      ]
     },
     "metadata": {},
     "output_type": "display_data"
    },
    {
     "data": {
      "application/vnd.jupyter.widget-view+json": {
       "model_id": "5d1d0b674ef8431c8bf2dee202d973ae",
       "version_major": 2,
       "version_minor": 0
      },
      "text/plain": [
       "IntProgress(value=0, description='mvg_4', max=5)"
      ]
     },
     "metadata": {},
     "output_type": "display_data"
    },
    {
     "name": "stdout",
     "output_type": "stream",
     "text": [
      "Warning: skipping session with too few trials 23\n",
      "Warning: skipping session with too few trials 45\n",
      "Warning: skipping session with too few trials 6\n",
      "Warning: skipping session with too few trials 5\n"
     ]
    },
    {
     "data": {
      "application/vnd.jupyter.widget-view+json": {
       "model_id": "13325144eecc47d7ae670036231a1711",
       "version_major": 2,
       "version_minor": 0
      },
      "text/plain": [
       "IntProgress(value=0, description='mvg_4', max=5)"
      ]
     },
     "metadata": {},
     "output_type": "display_data"
    },
    {
     "data": {
      "application/vnd.jupyter.widget-view+json": {
       "model_id": "2b925252ae7945e5be5e4e792824152d",
       "version_major": 2,
       "version_minor": 0
      },
      "text/plain": [
       "IntProgress(value=0, description='mvg_4', max=5)"
      ]
     },
     "metadata": {},
     "output_type": "display_data"
    },
    {
     "data": {
      "application/vnd.jupyter.widget-view+json": {
       "model_id": "7b65b1e2c82c4969b7505e243ddd8813",
       "version_major": 2,
       "version_minor": 0
      },
      "text/plain": [
       "IntProgress(value=0, description='mvg_4', max=6)"
      ]
     },
     "metadata": {},
     "output_type": "display_data"
    },
    {
     "data": {
      "application/vnd.jupyter.widget-view+json": {
       "model_id": "e59b03edb79f485ebb7fafde18c50744",
       "version_major": 2,
       "version_minor": 0
      },
      "text/plain": [
       "IntProgress(value=0, description='mvg_4', max=6)"
      ]
     },
     "metadata": {},
     "output_type": "display_data"
    },
    {
     "name": "stdout",
     "output_type": "stream",
     "text": [
      "Warning: skipping session with too few trials 40\n",
      "Warning: skipping session with too few trials 27\n",
      "Warning: skipping session with too few trials 34\n",
      "Warning: skipping session with too few trials 42\n"
     ]
    },
    {
     "data": {
      "application/vnd.jupyter.widget-view+json": {
       "model_id": "386d76af62674a8aa09ca39d4d2e0287",
       "version_major": 2,
       "version_minor": 0
      },
      "text/plain": [
       "IntProgress(value=0, description='mvg_4', max=6)"
      ]
     },
     "metadata": {},
     "output_type": "display_data"
    },
    {
     "name": "stdout",
     "output_type": "stream",
     "text": [
      "Warning: skipping session with too few trials 25\n",
      "Warning: skipping session with too few trials 15\n",
      "Warning: skipping session with too few trials 10\n",
      "Warning: skipping session with too few trials 38\n",
      "Warning: skipping session with too few trials 34\n",
      "Warning: skipping session with too few trials 16\n",
      "Warning, all sessions had too few trials, this mouse is skipped\n"
     ]
    },
    {
     "data": {
      "application/vnd.jupyter.widget-view+json": {
       "model_id": "81fef317d36040e9a34b22b386a849f0",
       "version_major": 2,
       "version_minor": 0
      },
      "text/plain": [
       "IntProgress(value=0, description='mvg_4', max=6)"
      ]
     },
     "metadata": {},
     "output_type": "display_data"
    },
    {
     "data": {
      "application/vnd.jupyter.widget-view+json": {
       "model_id": "12771aa2da514410a4f237a9ee011686",
       "version_major": 2,
       "version_minor": 0
      },
      "text/plain": [
       "IntProgress(value=0, description='mvg_4', max=6)"
      ]
     },
     "metadata": {},
     "output_type": "display_data"
    },
    {
     "data": {
      "application/vnd.jupyter.widget-view+json": {
       "model_id": "5e060f4d8b9b4af1b8f08d0df9bbb6c9",
       "version_major": 2,
       "version_minor": 0
      },
      "text/plain": [
       "IntProgress(value=0, description='mvg_4', max=11)"
      ]
     },
     "metadata": {},
     "output_type": "display_data"
    },
    {
     "data": {
      "application/vnd.jupyter.widget-view+json": {
       "model_id": "c2954cd7c0a54bfe8553de8b55ded0f3",
       "version_major": 2,
       "version_minor": 0
      },
      "text/plain": [
       "IntProgress(value=0, description='mvg_4', max=11)"
      ]
     },
     "metadata": {},
     "output_type": "display_data"
    },
    {
     "name": "stdout",
     "output_type": "stream",
     "text": [
      "Warning: skipping session with too few trials 40\n",
      "Warning: skipping session with too few trials 27\n",
      "Warning: skipping session with too few trials 34\n",
      "Warning: skipping session with too few trials 42\n"
     ]
    },
    {
     "data": {
      "application/vnd.jupyter.widget-view+json": {
       "model_id": "b44d70a532a14a68a61dd29dc78eddc9",
       "version_major": 2,
       "version_minor": 0
      },
      "text/plain": [
       "IntProgress(value=0, description='mvg_4', max=11)"
      ]
     },
     "metadata": {},
     "output_type": "display_data"
    },
    {
     "name": "stdout",
     "output_type": "stream",
     "text": [
      "Warning: skipping session with too few trials 23\n",
      "Warning: skipping session with too few trials 45\n",
      "Warning: skipping session with too few trials 6\n",
      "Warning: skipping session with too few trials 5\n",
      "Warning: skipping session with too few trials 25\n",
      "Warning: skipping session with too few trials 15\n",
      "Warning: skipping session with too few trials 10\n",
      "Warning: skipping session with too few trials 38\n",
      "Warning: skipping session with too few trials 34\n",
      "Warning: skipping session with too few trials 16\n"
     ]
    },
    {
     "data": {
      "application/vnd.jupyter.widget-view+json": {
       "model_id": "1f1a6332bcf241a086be3fe9e359451d",
       "version_major": 2,
       "version_minor": 0
      },
      "text/plain": [
       "IntProgress(value=0, description='mvg_4', max=11)"
      ]
     },
     "metadata": {},
     "output_type": "display_data"
    },
    {
     "data": {
      "application/vnd.jupyter.widget-view+json": {
       "model_id": "30d08d44cb524164aec7ca3f355aeade",
       "version_major": 2,
       "version_minor": 0
      },
      "text/plain": [
       "IntProgress(value=0, description='mvg_4', max=11)"
      ]
     },
     "metadata": {},
     "output_type": "display_data"
    },
    {
     "data": {
      "application/vnd.jupyter.widget-view+json": {
       "model_id": "c6e9f9f80bca41dc970adce21e62cf28",
       "version_major": 2,
       "version_minor": 0
      },
      "text/plain": [
       "IntProgress(value=0, description='mvg_4', max=5)"
      ]
     },
     "metadata": {},
     "output_type": "display_data"
    },
    {
     "data": {
      "application/vnd.jupyter.widget-view+json": {
       "model_id": "7b77912ca446425f8174429dddab8f9e",
       "version_major": 2,
       "version_minor": 0
      },
      "text/plain": [
       "IntProgress(value=0, description='mvg_4', max=5)"
      ]
     },
     "metadata": {},
     "output_type": "display_data"
    },
    {
     "data": {
      "application/vnd.jupyter.widget-view+json": {
       "model_id": "ecfbb4d899504b5584d49b3c0289ece8",
       "version_major": 2,
       "version_minor": 0
      },
      "text/plain": [
       "IntProgress(value=0, description='mvg_4', max=5)"
      ]
     },
     "metadata": {},
     "output_type": "display_data"
    },
    {
     "name": "stdout",
     "output_type": "stream",
     "text": [
      "Warning: skipping session with too few trials 23\n",
      "Warning: skipping session with too few trials 45\n",
      "Warning: skipping session with too few trials 6\n",
      "Warning: skipping session with too few trials 5\n"
     ]
    },
    {
     "data": {
      "application/vnd.jupyter.widget-view+json": {
       "model_id": "c2b1b3fcdade4df1bd6a68e1ece675ac",
       "version_major": 2,
       "version_minor": 0
      },
      "text/plain": [
       "IntProgress(value=0, description='mvg_4', max=5)"
      ]
     },
     "metadata": {},
     "output_type": "display_data"
    },
    {
     "data": {
      "application/vnd.jupyter.widget-view+json": {
       "model_id": "9a88f38e32e343d3a8a891119faea81d",
       "version_major": 2,
       "version_minor": 0
      },
      "text/plain": [
       "IntProgress(value=0, description='mvg_4', max=5)"
      ]
     },
     "metadata": {},
     "output_type": "display_data"
    },
    {
     "data": {
      "application/vnd.jupyter.widget-view+json": {
       "model_id": "ecfc228597df42838675e62614ff48c2",
       "version_major": 2,
       "version_minor": 0
      },
      "text/plain": [
       "IntProgress(value=0, description='mvg_4', max=6)"
      ]
     },
     "metadata": {},
     "output_type": "display_data"
    },
    {
     "data": {
      "application/vnd.jupyter.widget-view+json": {
       "model_id": "9105cd9dc3ed4c3bb643cb26f424649f",
       "version_major": 2,
       "version_minor": 0
      },
      "text/plain": [
       "IntProgress(value=0, description='mvg_4', max=6)"
      ]
     },
     "metadata": {},
     "output_type": "display_data"
    },
    {
     "name": "stdout",
     "output_type": "stream",
     "text": [
      "Warning: skipping session with too few trials 40\n",
      "Warning: skipping session with too few trials 27\n",
      "Warning: skipping session with too few trials 34\n",
      "Warning: skipping session with too few trials 42\n"
     ]
    },
    {
     "data": {
      "application/vnd.jupyter.widget-view+json": {
       "model_id": "1df70afc86a84a8a9243dfe8e81aca7f",
       "version_major": 2,
       "version_minor": 0
      },
      "text/plain": [
       "IntProgress(value=0, description='mvg_4', max=6)"
      ]
     },
     "metadata": {},
     "output_type": "display_data"
    },
    {
     "name": "stdout",
     "output_type": "stream",
     "text": [
      "Warning: skipping session with too few trials 25\n",
      "Warning: skipping session with too few trials 15\n",
      "Warning: skipping session with too few trials 10\n",
      "Warning: skipping session with too few trials 38\n",
      "Warning: skipping session with too few trials 34\n",
      "Warning: skipping session with too few trials 16\n",
      "Warning, all sessions had too few trials, this mouse is skipped\n"
     ]
    },
    {
     "data": {
      "application/vnd.jupyter.widget-view+json": {
       "model_id": "f021932b85d64d99bba6f24756141c31",
       "version_major": 2,
       "version_minor": 0
      },
      "text/plain": [
       "IntProgress(value=0, description='mvg_4', max=6)"
      ]
     },
     "metadata": {},
     "output_type": "display_data"
    },
    {
     "data": {
      "application/vnd.jupyter.widget-view+json": {
       "model_id": "8a849e18094c4cf998f494e32e2055cd",
       "version_major": 2,
       "version_minor": 0
      },
      "text/plain": [
       "IntProgress(value=0, description='mvg_4', max=6)"
      ]
     },
     "metadata": {},
     "output_type": "display_data"
    },
    {
     "data": {
      "application/vnd.jupyter.widget-view+json": {
       "model_id": "5975405fcca0453dac81e78065ed452f",
       "version_major": 2,
       "version_minor": 0
      },
      "text/plain": [
       "IntProgress(value=0, description='mvg_4', max=11)"
      ]
     },
     "metadata": {},
     "output_type": "display_data"
    },
    {
     "data": {
      "application/vnd.jupyter.widget-view+json": {
       "model_id": "e290a85cea444ccebb2349e71e01ac02",
       "version_major": 2,
       "version_minor": 0
      },
      "text/plain": [
       "IntProgress(value=0, description='mvg_4', max=11)"
      ]
     },
     "metadata": {},
     "output_type": "display_data"
    },
    {
     "name": "stdout",
     "output_type": "stream",
     "text": [
      "Warning: skipping session with too few trials 40\n",
      "Warning: skipping session with too few trials 27\n",
      "Warning: skipping session with too few trials 34\n",
      "Warning: skipping session with too few trials 42\n"
     ]
    },
    {
     "data": {
      "application/vnd.jupyter.widget-view+json": {
       "model_id": "fa1263d09ceb49e59fa83e1c9d2c05d0",
       "version_major": 2,
       "version_minor": 0
      },
      "text/plain": [
       "IntProgress(value=0, description='mvg_4', max=11)"
      ]
     },
     "metadata": {},
     "output_type": "display_data"
    },
    {
     "name": "stdout",
     "output_type": "stream",
     "text": [
      "Warning: skipping session with too few trials 23\n",
      "Warning: skipping session with too few trials 45\n",
      "Warning: skipping session with too few trials 6\n",
      "Warning: skipping session with too few trials 5\n",
      "Warning: skipping session with too few trials 25\n",
      "Warning: skipping session with too few trials 15\n",
      "Warning: skipping session with too few trials 10\n",
      "Warning: skipping session with too few trials 38\n",
      "Warning: skipping session with too few trials 34\n",
      "Warning: skipping session with too few trials 16\n"
     ]
    },
    {
     "data": {
      "application/vnd.jupyter.widget-view+json": {
       "model_id": "36655f09a0a44ee3804c1e0e9d66d07d",
       "version_major": 2,
       "version_minor": 0
      },
      "text/plain": [
       "IntProgress(value=0, description='mvg_4', max=11)"
      ]
     },
     "metadata": {},
     "output_type": "display_data"
    },
    {
     "data": {
      "application/vnd.jupyter.widget-view+json": {
       "model_id": "112d46265ddd4531b4183ac6c5303f6c",
       "version_major": 2,
       "version_minor": 0
      },
      "text/plain": [
       "IntProgress(value=0, description='mvg_4', max=11)"
      ]
     },
     "metadata": {},
     "output_type": "display_data"
    },
    {
     "data": {
      "application/vnd.jupyter.widget-view+json": {
       "model_id": "5f1e5891b6ac4f88b908d9a72c695fcd",
       "version_major": 2,
       "version_minor": 0
      },
      "text/plain": [
       "IntProgress(value=0, description='mvg_4', max=5)"
      ]
     },
     "metadata": {},
     "output_type": "display_data"
    },
    {
     "data": {
      "application/vnd.jupyter.widget-view+json": {
       "model_id": "3171ce99051844d29bfa3fdc250aecfe",
       "version_major": 2,
       "version_minor": 0
      },
      "text/plain": [
       "IntProgress(value=0, description='mvg_4', max=5)"
      ]
     },
     "metadata": {},
     "output_type": "display_data"
    },
    {
     "data": {
      "application/vnd.jupyter.widget-view+json": {
       "model_id": "258045d0a0144a828ce3bcad43fba457",
       "version_major": 2,
       "version_minor": 0
      },
      "text/plain": [
       "IntProgress(value=0, description='mvg_4', max=5)"
      ]
     },
     "metadata": {},
     "output_type": "display_data"
    },
    {
     "name": "stdout",
     "output_type": "stream",
     "text": [
      "Warning: skipping session with too few trials 23\n",
      "Warning: skipping session with too few trials 45\n",
      "Warning: skipping session with too few trials 6\n",
      "Warning: skipping session with too few trials 5\n"
     ]
    },
    {
     "data": {
      "application/vnd.jupyter.widget-view+json": {
       "model_id": "bb78218591a448dc8fae6fcbfbb69af0",
       "version_major": 2,
       "version_minor": 0
      },
      "text/plain": [
       "IntProgress(value=0, description='mvg_4', max=5)"
      ]
     },
     "metadata": {},
     "output_type": "display_data"
    },
    {
     "data": {
      "application/vnd.jupyter.widget-view+json": {
       "model_id": "44d05b0017504403904f0d5253602733",
       "version_major": 2,
       "version_minor": 0
      },
      "text/plain": [
       "IntProgress(value=0, description='mvg_4', max=5)"
      ]
     },
     "metadata": {},
     "output_type": "display_data"
    },
    {
     "data": {
      "application/vnd.jupyter.widget-view+json": {
       "model_id": "76a5669800e24ab39a095b476628edf9",
       "version_major": 2,
       "version_minor": 0
      },
      "text/plain": [
       "IntProgress(value=0, description='mvg_4', max=6)"
      ]
     },
     "metadata": {},
     "output_type": "display_data"
    },
    {
     "data": {
      "application/vnd.jupyter.widget-view+json": {
       "model_id": "fc8fa71a7cc74db9b7fc258b4930ca64",
       "version_major": 2,
       "version_minor": 0
      },
      "text/plain": [
       "IntProgress(value=0, description='mvg_4', max=6)"
      ]
     },
     "metadata": {},
     "output_type": "display_data"
    },
    {
     "name": "stdout",
     "output_type": "stream",
     "text": [
      "Warning: skipping session with too few trials 40\n",
      "Warning: skipping session with too few trials 27\n",
      "Warning: skipping session with too few trials 34\n",
      "Warning: skipping session with too few trials 42\n"
     ]
    },
    {
     "data": {
      "application/vnd.jupyter.widget-view+json": {
       "model_id": "5e04450bd6754d6b92b7f08795cdb6c0",
       "version_major": 2,
       "version_minor": 0
      },
      "text/plain": [
       "IntProgress(value=0, description='mvg_4', max=6)"
      ]
     },
     "metadata": {},
     "output_type": "display_data"
    },
    {
     "name": "stdout",
     "output_type": "stream",
     "text": [
      "Warning: skipping session with too few trials 25\n",
      "Warning: skipping session with too few trials 15\n",
      "Warning: skipping session with too few trials 10\n",
      "Warning: skipping session with too few trials 38\n",
      "Warning: skipping session with too few trials 34\n",
      "Warning: skipping session with too few trials 16\n",
      "Warning, all sessions had too few trials, this mouse is skipped\n"
     ]
    },
    {
     "data": {
      "application/vnd.jupyter.widget-view+json": {
       "model_id": "e365888056464687b8abb74cef50a124",
       "version_major": 2,
       "version_minor": 0
      },
      "text/plain": [
       "IntProgress(value=0, description='mvg_4', max=6)"
      ]
     },
     "metadata": {},
     "output_type": "display_data"
    },
    {
     "data": {
      "application/vnd.jupyter.widget-view+json": {
       "model_id": "c0ed7a64e5094466ab3d3a4dd1ab8da0",
       "version_major": 2,
       "version_minor": 0
      },
      "text/plain": [
       "IntProgress(value=0, description='mvg_4', max=6)"
      ]
     },
     "metadata": {},
     "output_type": "display_data"
    },
    {
     "data": {
      "application/vnd.jupyter.widget-view+json": {
       "model_id": "5c7804b01a30460e9830bd3e63323ea2",
       "version_major": 2,
       "version_minor": 0
      },
      "text/plain": [
       "IntProgress(value=0, description='mvg_7', max=18)"
      ]
     },
     "metadata": {},
     "output_type": "display_data"
    },
    {
     "data": {
      "application/vnd.jupyter.widget-view+json": {
       "model_id": "5a248e3624e34a2989845c044fb70e44",
       "version_major": 2,
       "version_minor": 0
      },
      "text/plain": [
       "IntProgress(value=0, description='mvg_7', max=18)"
      ]
     },
     "metadata": {},
     "output_type": "display_data"
    },
    {
     "name": "stdout",
     "output_type": "stream",
     "text": [
      "Warning: skipping session with too few trials 1\n",
      "Warning: skipping session with too few trials 0\n",
      "Warning: skipping session with too few trials 0\n",
      "Warning: skipping session with too few trials 43\n",
      "Warning: skipping session with too few trials 46\n",
      "Warning: skipping session with too few trials 17\n"
     ]
    },
    {
     "data": {
      "application/vnd.jupyter.widget-view+json": {
       "model_id": "004305eee5fb407ea78915744f56d04e",
       "version_major": 2,
       "version_minor": 0
      },
      "text/plain": [
       "IntProgress(value=0, description='mvg_7', max=18)"
      ]
     },
     "metadata": {},
     "output_type": "display_data"
    },
    {
     "name": "stdout",
     "output_type": "stream",
     "text": [
      "Warning: skipping session with too few trials 35\n",
      "Warning: skipping session with too few trials 46\n",
      "Warning: skipping session with too few trials 38\n",
      "Warning: skipping session with too few trials 20\n",
      "Warning: skipping session with too few trials 49\n"
     ]
    },
    {
     "data": {
      "application/vnd.jupyter.widget-view+json": {
       "model_id": "8ddb79f53ffc424f8ef0478f8102256e",
       "version_major": 2,
       "version_minor": 0
      },
      "text/plain": [
       "IntProgress(value=0, description='mvg_7', max=18)"
      ]
     },
     "metadata": {},
     "output_type": "display_data"
    },
    {
     "name": "stdout",
     "output_type": "stream",
     "text": [
      "Warning: skipping session with too few trials 3\n",
      "Warning: skipping session with too few trials 13\n",
      "Warning: skipping session with too few trials 13\n"
     ]
    },
    {
     "data": {
      "application/vnd.jupyter.widget-view+json": {
       "model_id": "b38652e5e18c4c64bb75cfd34ec3b07d",
       "version_major": 2,
       "version_minor": 0
      },
      "text/plain": [
       "IntProgress(value=0, description='mvg_7', max=18)"
      ]
     },
     "metadata": {},
     "output_type": "display_data"
    },
    {
     "name": "stdout",
     "output_type": "stream",
     "text": [
      "Warning: skipping session with too few trials 0\n",
      "Warning: skipping session with too few trials 0\n",
      "Warning: skipping session with too few trials 0\n",
      "Warning: skipping session with too few trials 31\n"
     ]
    },
    {
     "data": {
      "application/vnd.jupyter.widget-view+json": {
       "model_id": "09194a8a859843fcba58143a99176e6d",
       "version_major": 2,
       "version_minor": 0
      },
      "text/plain": [
       "IntProgress(value=0, description='mvg_7', max=15)"
      ]
     },
     "metadata": {},
     "output_type": "display_data"
    },
    {
     "data": {
      "application/vnd.jupyter.widget-view+json": {
       "model_id": "1e967ffa09bf45d593cbcde2ec2f8fa9",
       "version_major": 2,
       "version_minor": 0
      },
      "text/plain": [
       "IntProgress(value=0, description='mvg_7', max=15)"
      ]
     },
     "metadata": {},
     "output_type": "display_data"
    },
    {
     "name": "stdout",
     "output_type": "stream",
     "text": [
      "Warning: skipping session with too few trials 1\n",
      "Warning: skipping session with too few trials 0\n",
      "Warning: skipping session with too few trials 0\n",
      "Warning: skipping session with too few trials 43\n",
      "Warning: skipping session with too few trials 46\n"
     ]
    },
    {
     "data": {
      "application/vnd.jupyter.widget-view+json": {
       "model_id": "a370df5b7caf461085489d0ce7e35b2f",
       "version_major": 2,
       "version_minor": 0
      },
      "text/plain": [
       "IntProgress(value=0, description='mvg_7', max=15)"
      ]
     },
     "metadata": {},
     "output_type": "display_data"
    },
    {
     "name": "stdout",
     "output_type": "stream",
     "text": [
      "Warning: skipping session with too few trials 35\n",
      "Warning: skipping session with too few trials 46\n",
      "Warning: skipping session with too few trials 38\n"
     ]
    },
    {
     "data": {
      "application/vnd.jupyter.widget-view+json": {
       "model_id": "2d9aead76aee4944bf097930ad7d4f05",
       "version_major": 2,
       "version_minor": 0
      },
      "text/plain": [
       "IntProgress(value=0, description='mvg_7', max=15)"
      ]
     },
     "metadata": {},
     "output_type": "display_data"
    },
    {
     "name": "stdout",
     "output_type": "stream",
     "text": [
      "Warning: skipping session with too few trials 3\n",
      "Warning: skipping session with too few trials 13\n",
      "Warning: skipping session with too few trials 13\n"
     ]
    },
    {
     "data": {
      "application/vnd.jupyter.widget-view+json": {
       "model_id": "667202727db24b09897b7f1958fc3486",
       "version_major": 2,
       "version_minor": 0
      },
      "text/plain": [
       "IntProgress(value=0, description='mvg_7', max=15)"
      ]
     },
     "metadata": {},
     "output_type": "display_data"
    },
    {
     "name": "stdout",
     "output_type": "stream",
     "text": [
      "Warning: skipping session with too few trials 0\n",
      "Warning: skipping session with too few trials 0\n",
      "Warning: skipping session with too few trials 0\n",
      "Warning: skipping session with too few trials 31\n"
     ]
    },
    {
     "data": {
      "application/vnd.jupyter.widget-view+json": {
       "model_id": "036fa282e4b4451bb4ac63d585286b5a",
       "version_major": 2,
       "version_minor": 0
      },
      "text/plain": [
       "IntProgress(value=0, description='mvg_7', max=3)"
      ]
     },
     "metadata": {},
     "output_type": "display_data"
    },
    {
     "data": {
      "application/vnd.jupyter.widget-view+json": {
       "model_id": "eeadeb7466604cb0ade5f60e059f29e8",
       "version_major": 2,
       "version_minor": 0
      },
      "text/plain": [
       "IntProgress(value=0, description='mvg_7', max=3)"
      ]
     },
     "metadata": {},
     "output_type": "display_data"
    },
    {
     "name": "stdout",
     "output_type": "stream",
     "text": [
      "Warning: skipping session with too few trials 17\n"
     ]
    },
    {
     "data": {
      "application/vnd.jupyter.widget-view+json": {
       "model_id": "ab6e58b1702e47af99f979870b0c7d62",
       "version_major": 2,
       "version_minor": 0
      },
      "text/plain": [
       "IntProgress(value=0, description='mvg_7', max=3)"
      ]
     },
     "metadata": {},
     "output_type": "display_data"
    },
    {
     "name": "stdout",
     "output_type": "stream",
     "text": [
      "Warning: skipping session with too few trials 20\n",
      "Warning: skipping session with too few trials 49\n"
     ]
    },
    {
     "data": {
      "application/vnd.jupyter.widget-view+json": {
       "model_id": "b9b87f4d86814efb8ea3743caeee74fe",
       "version_major": 2,
       "version_minor": 0
      },
      "text/plain": [
       "IntProgress(value=0, description='mvg_7', max=3)"
      ]
     },
     "metadata": {},
     "output_type": "display_data"
    },
    {
     "data": {
      "application/vnd.jupyter.widget-view+json": {
       "model_id": "5947b968c92447afac0e0b11cc6656fe",
       "version_major": 2,
       "version_minor": 0
      },
      "text/plain": [
       "IntProgress(value=0, description='mvg_7', max=3)"
      ]
     },
     "metadata": {},
     "output_type": "display_data"
    },
    {
     "data": {
      "application/vnd.jupyter.widget-view+json": {
       "model_id": "e44272f274bf4fd493219b5a038aa5a0",
       "version_major": 2,
       "version_minor": 0
      },
      "text/plain": [
       "IntProgress(value=0, description='mvg_7', max=18)"
      ]
     },
     "metadata": {},
     "output_type": "display_data"
    },
    {
     "data": {
      "application/vnd.jupyter.widget-view+json": {
       "model_id": "17e4bb47e088464eb5f7eaf2bd75cd97",
       "version_major": 2,
       "version_minor": 0
      },
      "text/plain": [
       "IntProgress(value=0, description='mvg_7', max=18)"
      ]
     },
     "metadata": {},
     "output_type": "display_data"
    },
    {
     "name": "stdout",
     "output_type": "stream",
     "text": [
      "Warning: skipping session with too few trials 1\n",
      "Warning: skipping session with too few trials 0\n",
      "Warning: skipping session with too few trials 0\n",
      "Warning: skipping session with too few trials 43\n",
      "Warning: skipping session with too few trials 46\n",
      "Warning: skipping session with too few trials 17\n"
     ]
    },
    {
     "data": {
      "application/vnd.jupyter.widget-view+json": {
       "model_id": "caf33fad010e486abcbffca28b5cdbaf",
       "version_major": 2,
       "version_minor": 0
      },
      "text/plain": [
       "IntProgress(value=0, description='mvg_7', max=18)"
      ]
     },
     "metadata": {},
     "output_type": "display_data"
    },
    {
     "name": "stdout",
     "output_type": "stream",
     "text": [
      "Warning: skipping session with too few trials 35\n",
      "Warning: skipping session with too few trials 46\n",
      "Warning: skipping session with too few trials 38\n",
      "Warning: skipping session with too few trials 20\n",
      "Warning: skipping session with too few trials 49\n"
     ]
    },
    {
     "data": {
      "application/vnd.jupyter.widget-view+json": {
       "model_id": "e06c22ec582d4ee69455a8d750836dd1",
       "version_major": 2,
       "version_minor": 0
      },
      "text/plain": [
       "IntProgress(value=0, description='mvg_7', max=18)"
      ]
     },
     "metadata": {},
     "output_type": "display_data"
    },
    {
     "name": "stdout",
     "output_type": "stream",
     "text": [
      "Warning: skipping session with too few trials 3\n",
      "Warning: skipping session with too few trials 13\n",
      "Warning: skipping session with too few trials 13\n"
     ]
    },
    {
     "data": {
      "application/vnd.jupyter.widget-view+json": {
       "model_id": "6d4ce1bb10f543f69b81c2296854ddfd",
       "version_major": 2,
       "version_minor": 0
      },
      "text/plain": [
       "IntProgress(value=0, description='mvg_7', max=18)"
      ]
     },
     "metadata": {},
     "output_type": "display_data"
    },
    {
     "name": "stdout",
     "output_type": "stream",
     "text": [
      "Warning: skipping session with too few trials 0\n",
      "Warning: skipping session with too few trials 0\n",
      "Warning: skipping session with too few trials 0\n",
      "Warning: skipping session with too few trials 31\n"
     ]
    },
    {
     "data": {
      "application/vnd.jupyter.widget-view+json": {
       "model_id": "3b3790b60e04434c8815d0f5a051034c",
       "version_major": 2,
       "version_minor": 0
      },
      "text/plain": [
       "IntProgress(value=0, description='mvg_7', max=15)"
      ]
     },
     "metadata": {},
     "output_type": "display_data"
    },
    {
     "data": {
      "application/vnd.jupyter.widget-view+json": {
       "model_id": "2f56a98baa414b088f8a86f5a7bc846f",
       "version_major": 2,
       "version_minor": 0
      },
      "text/plain": [
       "IntProgress(value=0, description='mvg_7', max=15)"
      ]
     },
     "metadata": {},
     "output_type": "display_data"
    },
    {
     "name": "stdout",
     "output_type": "stream",
     "text": [
      "Warning: skipping session with too few trials 1\n",
      "Warning: skipping session with too few trials 0\n",
      "Warning: skipping session with too few trials 0\n",
      "Warning: skipping session with too few trials 43\n",
      "Warning: skipping session with too few trials 46\n"
     ]
    },
    {
     "data": {
      "application/vnd.jupyter.widget-view+json": {
       "model_id": "61dd2a53fd9f4cf080d0872447d425cc",
       "version_major": 2,
       "version_minor": 0
      },
      "text/plain": [
       "IntProgress(value=0, description='mvg_7', max=15)"
      ]
     },
     "metadata": {},
     "output_type": "display_data"
    },
    {
     "name": "stdout",
     "output_type": "stream",
     "text": [
      "Warning: skipping session with too few trials 35\n",
      "Warning: skipping session with too few trials 46\n",
      "Warning: skipping session with too few trials 38\n"
     ]
    },
    {
     "data": {
      "application/vnd.jupyter.widget-view+json": {
       "model_id": "05fac63223cf4454b49baaeec5307daa",
       "version_major": 2,
       "version_minor": 0
      },
      "text/plain": [
       "IntProgress(value=0, description='mvg_7', max=15)"
      ]
     },
     "metadata": {},
     "output_type": "display_data"
    },
    {
     "name": "stdout",
     "output_type": "stream",
     "text": [
      "Warning: skipping session with too few trials 3\n",
      "Warning: skipping session with too few trials 13\n",
      "Warning: skipping session with too few trials 13\n"
     ]
    },
    {
     "data": {
      "application/vnd.jupyter.widget-view+json": {
       "model_id": "74551cb4ca9f405b9b845fe39acab83a",
       "version_major": 2,
       "version_minor": 0
      },
      "text/plain": [
       "IntProgress(value=0, description='mvg_7', max=15)"
      ]
     },
     "metadata": {},
     "output_type": "display_data"
    },
    {
     "name": "stdout",
     "output_type": "stream",
     "text": [
      "Warning: skipping session with too few trials 0\n",
      "Warning: skipping session with too few trials 0\n",
      "Warning: skipping session with too few trials 0\n",
      "Warning: skipping session with too few trials 31\n"
     ]
    },
    {
     "data": {
      "application/vnd.jupyter.widget-view+json": {
       "model_id": "faef73eddfac4ea1b7a40d11d98ab6f2",
       "version_major": 2,
       "version_minor": 0
      },
      "text/plain": [
       "IntProgress(value=0, description='mvg_7', max=3)"
      ]
     },
     "metadata": {},
     "output_type": "display_data"
    },
    {
     "data": {
      "application/vnd.jupyter.widget-view+json": {
       "model_id": "39e1defde98844db8abccce1f5c90df8",
       "version_major": 2,
       "version_minor": 0
      },
      "text/plain": [
       "IntProgress(value=0, description='mvg_7', max=3)"
      ]
     },
     "metadata": {},
     "output_type": "display_data"
    },
    {
     "name": "stdout",
     "output_type": "stream",
     "text": [
      "Warning: skipping session with too few trials 17\n"
     ]
    },
    {
     "data": {
      "application/vnd.jupyter.widget-view+json": {
       "model_id": "2453c7b0824c41f7b006655561345884",
       "version_major": 2,
       "version_minor": 0
      },
      "text/plain": [
       "IntProgress(value=0, description='mvg_7', max=3)"
      ]
     },
     "metadata": {},
     "output_type": "display_data"
    },
    {
     "name": "stdout",
     "output_type": "stream",
     "text": [
      "Warning: skipping session with too few trials 20\n",
      "Warning: skipping session with too few trials 49\n"
     ]
    },
    {
     "data": {
      "application/vnd.jupyter.widget-view+json": {
       "model_id": "219fe838a4a04642938484b6aa1c9897",
       "version_major": 2,
       "version_minor": 0
      },
      "text/plain": [
       "IntProgress(value=0, description='mvg_7', max=3)"
      ]
     },
     "metadata": {},
     "output_type": "display_data"
    },
    {
     "data": {
      "application/vnd.jupyter.widget-view+json": {
       "model_id": "afdb245fc94845bb90eb38c9f0aeafd0",
       "version_major": 2,
       "version_minor": 0
      },
      "text/plain": [
       "IntProgress(value=0, description='mvg_7', max=3)"
      ]
     },
     "metadata": {},
     "output_type": "display_data"
    },
    {
     "data": {
      "application/vnd.jupyter.widget-view+json": {
       "model_id": "90c51055aee047f69d1f384e510b9916",
       "version_major": 2,
       "version_minor": 0
      },
      "text/plain": [
       "IntProgress(value=0, description='mvg_7', max=18)"
      ]
     },
     "metadata": {},
     "output_type": "display_data"
    },
    {
     "data": {
      "application/vnd.jupyter.widget-view+json": {
       "model_id": "dafcaafb8f1a4b02b5de67a21b11d056",
       "version_major": 2,
       "version_minor": 0
      },
      "text/plain": [
       "IntProgress(value=0, description='mvg_7', max=18)"
      ]
     },
     "metadata": {},
     "output_type": "display_data"
    },
    {
     "name": "stdout",
     "output_type": "stream",
     "text": [
      "Warning: skipping session with too few trials 1\n",
      "Warning: skipping session with too few trials 0\n",
      "Warning: skipping session with too few trials 0\n",
      "Warning: skipping session with too few trials 43\n",
      "Warning: skipping session with too few trials 46\n",
      "Warning: skipping session with too few trials 17\n"
     ]
    },
    {
     "data": {
      "application/vnd.jupyter.widget-view+json": {
       "model_id": "c11e4a547b6549f88bb873e77be76100",
       "version_major": 2,
       "version_minor": 0
      },
      "text/plain": [
       "IntProgress(value=0, description='mvg_7', max=18)"
      ]
     },
     "metadata": {},
     "output_type": "display_data"
    },
    {
     "name": "stdout",
     "output_type": "stream",
     "text": [
      "Warning: skipping session with too few trials 35\n",
      "Warning: skipping session with too few trials 46\n",
      "Warning: skipping session with too few trials 38\n",
      "Warning: skipping session with too few trials 20\n",
      "Warning: skipping session with too few trials 49\n"
     ]
    },
    {
     "data": {
      "application/vnd.jupyter.widget-view+json": {
       "model_id": "288db1ac793c4a4d801b4d35139d7572",
       "version_major": 2,
       "version_minor": 0
      },
      "text/plain": [
       "IntProgress(value=0, description='mvg_7', max=18)"
      ]
     },
     "metadata": {},
     "output_type": "display_data"
    },
    {
     "name": "stdout",
     "output_type": "stream",
     "text": [
      "Warning: skipping session with too few trials 3\n",
      "Warning: skipping session with too few trials 13\n",
      "Warning: skipping session with too few trials 13\n"
     ]
    },
    {
     "data": {
      "application/vnd.jupyter.widget-view+json": {
       "model_id": "7f6482ad01174725a551b4c343827a61",
       "version_major": 2,
       "version_minor": 0
      },
      "text/plain": [
       "IntProgress(value=0, description='mvg_7', max=18)"
      ]
     },
     "metadata": {},
     "output_type": "display_data"
    },
    {
     "name": "stdout",
     "output_type": "stream",
     "text": [
      "Warning: skipping session with too few trials 0\n",
      "Warning: skipping session with too few trials 0\n",
      "Warning: skipping session with too few trials 0\n",
      "Warning: skipping session with too few trials 31\n"
     ]
    },
    {
     "data": {
      "application/vnd.jupyter.widget-view+json": {
       "model_id": "15948471123043bdb007c1b999e1fac8",
       "version_major": 2,
       "version_minor": 0
      },
      "text/plain": [
       "IntProgress(value=0, description='mvg_7', max=15)"
      ]
     },
     "metadata": {},
     "output_type": "display_data"
    },
    {
     "data": {
      "application/vnd.jupyter.widget-view+json": {
       "model_id": "db7df72a3dd44d1fb238443b83ba1dbd",
       "version_major": 2,
       "version_minor": 0
      },
      "text/plain": [
       "IntProgress(value=0, description='mvg_7', max=15)"
      ]
     },
     "metadata": {},
     "output_type": "display_data"
    },
    {
     "name": "stdout",
     "output_type": "stream",
     "text": [
      "Warning: skipping session with too few trials 1\n",
      "Warning: skipping session with too few trials 0\n",
      "Warning: skipping session with too few trials 0\n",
      "Warning: skipping session with too few trials 43\n",
      "Warning: skipping session with too few trials 46\n"
     ]
    },
    {
     "data": {
      "application/vnd.jupyter.widget-view+json": {
       "model_id": "dddc0df9495f4e2aac1550933b57806c",
       "version_major": 2,
       "version_minor": 0
      },
      "text/plain": [
       "IntProgress(value=0, description='mvg_7', max=15)"
      ]
     },
     "metadata": {},
     "output_type": "display_data"
    },
    {
     "name": "stdout",
     "output_type": "stream",
     "text": [
      "Warning: skipping session with too few trials 35\n",
      "Warning: skipping session with too few trials 46\n",
      "Warning: skipping session with too few trials 38\n"
     ]
    },
    {
     "data": {
      "application/vnd.jupyter.widget-view+json": {
       "model_id": "f374a0f2a074474b80bc487f3e06150e",
       "version_major": 2,
       "version_minor": 0
      },
      "text/plain": [
       "IntProgress(value=0, description='mvg_7', max=15)"
      ]
     },
     "metadata": {},
     "output_type": "display_data"
    },
    {
     "name": "stdout",
     "output_type": "stream",
     "text": [
      "Warning: skipping session with too few trials 3\n",
      "Warning: skipping session with too few trials 13\n",
      "Warning: skipping session with too few trials 13\n"
     ]
    },
    {
     "data": {
      "application/vnd.jupyter.widget-view+json": {
       "model_id": "1120f31ee8eb4b9ab731470544686e72",
       "version_major": 2,
       "version_minor": 0
      },
      "text/plain": [
       "IntProgress(value=0, description='mvg_7', max=15)"
      ]
     },
     "metadata": {},
     "output_type": "display_data"
    },
    {
     "name": "stdout",
     "output_type": "stream",
     "text": [
      "Warning: skipping session with too few trials 0\n",
      "Warning: skipping session with too few trials 0\n",
      "Warning: skipping session with too few trials 0\n",
      "Warning: skipping session with too few trials 31\n"
     ]
    },
    {
     "data": {
      "application/vnd.jupyter.widget-view+json": {
       "model_id": "ae99f1b707db4a4e9f7ee3f41fb89ae7",
       "version_major": 2,
       "version_minor": 0
      },
      "text/plain": [
       "IntProgress(value=0, description='mvg_7', max=3)"
      ]
     },
     "metadata": {},
     "output_type": "display_data"
    },
    {
     "data": {
      "application/vnd.jupyter.widget-view+json": {
       "model_id": "6ecec8df66be447a80c931aff8202d02",
       "version_major": 2,
       "version_minor": 0
      },
      "text/plain": [
       "IntProgress(value=0, description='mvg_7', max=3)"
      ]
     },
     "metadata": {},
     "output_type": "display_data"
    },
    {
     "name": "stdout",
     "output_type": "stream",
     "text": [
      "Warning: skipping session with too few trials 17\n"
     ]
    },
    {
     "data": {
      "application/vnd.jupyter.widget-view+json": {
       "model_id": "81fc0a100de54a47b4f6ddd662399f65",
       "version_major": 2,
       "version_minor": 0
      },
      "text/plain": [
       "IntProgress(value=0, description='mvg_7', max=3)"
      ]
     },
     "metadata": {},
     "output_type": "display_data"
    },
    {
     "name": "stdout",
     "output_type": "stream",
     "text": [
      "Warning: skipping session with too few trials 20\n",
      "Warning: skipping session with too few trials 49\n"
     ]
    },
    {
     "data": {
      "application/vnd.jupyter.widget-view+json": {
       "model_id": "964e458aa7b44016bcfbe459e30509d4",
       "version_major": 2,
       "version_minor": 0
      },
      "text/plain": [
       "IntProgress(value=0, description='mvg_7', max=3)"
      ]
     },
     "metadata": {},
     "output_type": "display_data"
    },
    {
     "data": {
      "application/vnd.jupyter.widget-view+json": {
       "model_id": "0e1e93a7ca714172a332ca9187285e1f",
       "version_major": 2,
       "version_minor": 0
      },
      "text/plain": [
       "IntProgress(value=0, description='mvg_7', max=3)"
      ]
     },
     "metadata": {},
     "output_type": "display_data"
    },
    {
     "data": {
      "application/vnd.jupyter.widget-view+json": {
       "model_id": "51dc4bc2ded14ca3928812993289e6b8",
       "version_major": 2,
       "version_minor": 0
      },
      "text/plain": [
       "IntProgress(value=0, description='mvg_9', max=21)"
      ]
     },
     "metadata": {},
     "output_type": "display_data"
    },
    {
     "data": {
      "application/vnd.jupyter.widget-view+json": {
       "model_id": "cfcb31ad2fe84981b7a7edb5f6523d94",
       "version_major": 2,
       "version_minor": 0
      },
      "text/plain": [
       "IntProgress(value=0, description='mvg_9', max=21)"
      ]
     },
     "metadata": {},
     "output_type": "display_data"
    },
    {
     "name": "stdout",
     "output_type": "stream",
     "text": [
      "Warning: skipping session with too few trials 13\n"
     ]
    },
    {
     "data": {
      "application/vnd.jupyter.widget-view+json": {
       "model_id": "1c85c9a6da0b47c08d2ee659166c165a",
       "version_major": 2,
       "version_minor": 0
      },
      "text/plain": [
       "IntProgress(value=0, description='mvg_9', max=21)"
      ]
     },
     "metadata": {},
     "output_type": "display_data"
    },
    {
     "name": "stdout",
     "output_type": "stream",
     "text": [
      "Warning: skipping session with too few trials 39\n",
      "Warning: skipping session with too few trials 11\n",
      "Warning: skipping session with too few trials 40\n",
      "Warning: skipping session with too few trials 19\n",
      "Warning: skipping session with too few trials 41\n",
      "Warning: skipping session with too few trials 37\n"
     ]
    },
    {
     "data": {
      "application/vnd.jupyter.widget-view+json": {
       "model_id": "f93f8efed9b64fbaa799a9f7329916f8",
       "version_major": 2,
       "version_minor": 0
      },
      "text/plain": [
       "IntProgress(value=0, description='mvg_9', max=21)"
      ]
     },
     "metadata": {},
     "output_type": "display_data"
    },
    {
     "name": "stdout",
     "output_type": "stream",
     "text": [
      "Warning: skipping session with too few trials 39\n",
      "Warning: skipping session with too few trials 15\n",
      "Warning: skipping session with too few trials 16\n"
     ]
    },
    {
     "data": {
      "application/vnd.jupyter.widget-view+json": {
       "model_id": "9f61173f7c594c89bc53861d0d14defa",
       "version_major": 2,
       "version_minor": 0
      },
      "text/plain": [
       "IntProgress(value=0, description='mvg_9', max=21)"
      ]
     },
     "metadata": {},
     "output_type": "display_data"
    },
    {
     "name": "stdout",
     "output_type": "stream",
     "text": [
      "Warning: skipping session with too few trials 23\n",
      "Warning: skipping session with too few trials 5\n",
      "Warning: skipping session with too few trials 35\n"
     ]
    },
    {
     "data": {
      "application/vnd.jupyter.widget-view+json": {
       "model_id": "59e99ce47ee84a469501ff2dd6e039bc",
       "version_major": 2,
       "version_minor": 0
      },
      "text/plain": [
       "IntProgress(value=0, description='mvg_9', max=16)"
      ]
     },
     "metadata": {},
     "output_type": "display_data"
    },
    {
     "data": {
      "application/vnd.jupyter.widget-view+json": {
       "model_id": "310e548b81b9499c99805ba6debd2179",
       "version_major": 2,
       "version_minor": 0
      },
      "text/plain": [
       "IntProgress(value=0, description='mvg_9', max=16)"
      ]
     },
     "metadata": {},
     "output_type": "display_data"
    },
    {
     "name": "stdout",
     "output_type": "stream",
     "text": [
      "Warning: skipping session with too few trials 13\n"
     ]
    },
    {
     "data": {
      "application/vnd.jupyter.widget-view+json": {
       "model_id": "99562b99af15407cba61d847eab0c33f",
       "version_major": 2,
       "version_minor": 0
      },
      "text/plain": [
       "IntProgress(value=0, description='mvg_9', max=16)"
      ]
     },
     "metadata": {},
     "output_type": "display_data"
    },
    {
     "name": "stdout",
     "output_type": "stream",
     "text": [
      "Warning: skipping session with too few trials 39\n",
      "Warning: skipping session with too few trials 11\n",
      "Warning: skipping session with too few trials 40\n",
      "Warning: skipping session with too few trials 19\n",
      "Warning: skipping session with too few trials 41\n"
     ]
    },
    {
     "data": {
      "application/vnd.jupyter.widget-view+json": {
       "model_id": "0bf78ba5966e444194e7d9df8a9bfb4a",
       "version_major": 2,
       "version_minor": 0
      },
      "text/plain": [
       "IntProgress(value=0, description='mvg_9', max=16)"
      ]
     },
     "metadata": {},
     "output_type": "display_data"
    },
    {
     "name": "stdout",
     "output_type": "stream",
     "text": [
      "Warning: skipping session with too few trials 39\n",
      "Warning: skipping session with too few trials 15\n",
      "Warning: skipping session with too few trials 16\n"
     ]
    },
    {
     "data": {
      "application/vnd.jupyter.widget-view+json": {
       "model_id": "fddeb30c95f845bfad8d7074926d4e4f",
       "version_major": 2,
       "version_minor": 0
      },
      "text/plain": [
       "IntProgress(value=0, description='mvg_9', max=16)"
      ]
     },
     "metadata": {},
     "output_type": "display_data"
    },
    {
     "name": "stdout",
     "output_type": "stream",
     "text": [
      "Warning: skipping session with too few trials 23\n",
      "Warning: skipping session with too few trials 5\n",
      "Warning: skipping session with too few trials 35\n"
     ]
    },
    {
     "data": {
      "application/vnd.jupyter.widget-view+json": {
       "model_id": "045c1e1dd5a044a0a7ab4f6f43b95e59",
       "version_major": 2,
       "version_minor": 0
      },
      "text/plain": [
       "IntProgress(value=0, description='mvg_9', max=5)"
      ]
     },
     "metadata": {},
     "output_type": "display_data"
    },
    {
     "data": {
      "application/vnd.jupyter.widget-view+json": {
       "model_id": "7cd15c9839e34a48aa15fef7dbef197b",
       "version_major": 2,
       "version_minor": 0
      },
      "text/plain": [
       "IntProgress(value=0, description='mvg_9', max=5)"
      ]
     },
     "metadata": {},
     "output_type": "display_data"
    },
    {
     "data": {
      "application/vnd.jupyter.widget-view+json": {
       "model_id": "c093d989935841d6b9fbe4a07c38bb23",
       "version_major": 2,
       "version_minor": 0
      },
      "text/plain": [
       "IntProgress(value=0, description='mvg_9', max=5)"
      ]
     },
     "metadata": {},
     "output_type": "display_data"
    },
    {
     "name": "stdout",
     "output_type": "stream",
     "text": [
      "Warning: skipping session with too few trials 37\n"
     ]
    },
    {
     "data": {
      "application/vnd.jupyter.widget-view+json": {
       "model_id": "7dfd173772b94a76b14f05f7e7e660ef",
       "version_major": 2,
       "version_minor": 0
      },
      "text/plain": [
       "IntProgress(value=0, description='mvg_9', max=5)"
      ]
     },
     "metadata": {},
     "output_type": "display_data"
    },
    {
     "data": {
      "application/vnd.jupyter.widget-view+json": {
       "model_id": "9360ebd079e24a4fab2fa618d2326886",
       "version_major": 2,
       "version_minor": 0
      },
      "text/plain": [
       "IntProgress(value=0, description='mvg_9', max=5)"
      ]
     },
     "metadata": {},
     "output_type": "display_data"
    },
    {
     "data": {
      "application/vnd.jupyter.widget-view+json": {
       "model_id": "8257e7dfe26a44c1a7b9788199c0c093",
       "version_major": 2,
       "version_minor": 0
      },
      "text/plain": [
       "IntProgress(value=0, description='mvg_9', max=21)"
      ]
     },
     "metadata": {},
     "output_type": "display_data"
    },
    {
     "data": {
      "application/vnd.jupyter.widget-view+json": {
       "model_id": "fa19d5b72de04b31a625d8df4b80e0d2",
       "version_major": 2,
       "version_minor": 0
      },
      "text/plain": [
       "IntProgress(value=0, description='mvg_9', max=21)"
      ]
     },
     "metadata": {},
     "output_type": "display_data"
    },
    {
     "name": "stdout",
     "output_type": "stream",
     "text": [
      "Warning: skipping session with too few trials 13\n"
     ]
    },
    {
     "data": {
      "application/vnd.jupyter.widget-view+json": {
       "model_id": "680fadc0f2ed4881ace2ecf99a5de550",
       "version_major": 2,
       "version_minor": 0
      },
      "text/plain": [
       "IntProgress(value=0, description='mvg_9', max=21)"
      ]
     },
     "metadata": {},
     "output_type": "display_data"
    },
    {
     "name": "stdout",
     "output_type": "stream",
     "text": [
      "Warning: skipping session with too few trials 39\n",
      "Warning: skipping session with too few trials 11\n",
      "Warning: skipping session with too few trials 40\n",
      "Warning: skipping session with too few trials 19\n",
      "Warning: skipping session with too few trials 41\n",
      "Warning: skipping session with too few trials 37\n"
     ]
    },
    {
     "data": {
      "application/vnd.jupyter.widget-view+json": {
       "model_id": "b20e6a1120fd41e5b4f3a748b75be3f4",
       "version_major": 2,
       "version_minor": 0
      },
      "text/plain": [
       "IntProgress(value=0, description='mvg_9', max=21)"
      ]
     },
     "metadata": {},
     "output_type": "display_data"
    },
    {
     "name": "stdout",
     "output_type": "stream",
     "text": [
      "Warning: skipping session with too few trials 39\n",
      "Warning: skipping session with too few trials 15\n",
      "Warning: skipping session with too few trials 16\n"
     ]
    },
    {
     "data": {
      "application/vnd.jupyter.widget-view+json": {
       "model_id": "8c33717617e843478c184a3e844b873b",
       "version_major": 2,
       "version_minor": 0
      },
      "text/plain": [
       "IntProgress(value=0, description='mvg_9', max=21)"
      ]
     },
     "metadata": {},
     "output_type": "display_data"
    },
    {
     "name": "stdout",
     "output_type": "stream",
     "text": [
      "Warning: skipping session with too few trials 23\n",
      "Warning: skipping session with too few trials 5\n",
      "Warning: skipping session with too few trials 35\n"
     ]
    },
    {
     "data": {
      "application/vnd.jupyter.widget-view+json": {
       "model_id": "b2f9d75fee274ee3ba6c55852002a047",
       "version_major": 2,
       "version_minor": 0
      },
      "text/plain": [
       "IntProgress(value=0, description='mvg_9', max=16)"
      ]
     },
     "metadata": {},
     "output_type": "display_data"
    },
    {
     "data": {
      "application/vnd.jupyter.widget-view+json": {
       "model_id": "98deae6ba422473198603f8c149c7116",
       "version_major": 2,
       "version_minor": 0
      },
      "text/plain": [
       "IntProgress(value=0, description='mvg_9', max=16)"
      ]
     },
     "metadata": {},
     "output_type": "display_data"
    },
    {
     "name": "stdout",
     "output_type": "stream",
     "text": [
      "Warning: skipping session with too few trials 13\n"
     ]
    },
    {
     "data": {
      "application/vnd.jupyter.widget-view+json": {
       "model_id": "d800c799613941ff893713d51f1783e6",
       "version_major": 2,
       "version_minor": 0
      },
      "text/plain": [
       "IntProgress(value=0, description='mvg_9', max=16)"
      ]
     },
     "metadata": {},
     "output_type": "display_data"
    },
    {
     "name": "stdout",
     "output_type": "stream",
     "text": [
      "Warning: skipping session with too few trials 39\n",
      "Warning: skipping session with too few trials 11\n",
      "Warning: skipping session with too few trials 40\n",
      "Warning: skipping session with too few trials 19\n",
      "Warning: skipping session with too few trials 41\n"
     ]
    },
    {
     "data": {
      "application/vnd.jupyter.widget-view+json": {
       "model_id": "b4acad05ce0c40e9877b96c8065c54b2",
       "version_major": 2,
       "version_minor": 0
      },
      "text/plain": [
       "IntProgress(value=0, description='mvg_9', max=16)"
      ]
     },
     "metadata": {},
     "output_type": "display_data"
    },
    {
     "name": "stdout",
     "output_type": "stream",
     "text": [
      "Warning: skipping session with too few trials 39\n",
      "Warning: skipping session with too few trials 15\n",
      "Warning: skipping session with too few trials 16\n"
     ]
    },
    {
     "data": {
      "application/vnd.jupyter.widget-view+json": {
       "model_id": "7798f708be88462c83e102778a1b0dbd",
       "version_major": 2,
       "version_minor": 0
      },
      "text/plain": [
       "IntProgress(value=0, description='mvg_9', max=16)"
      ]
     },
     "metadata": {},
     "output_type": "display_data"
    },
    {
     "name": "stdout",
     "output_type": "stream",
     "text": [
      "Warning: skipping session with too few trials 23\n",
      "Warning: skipping session with too few trials 5\n",
      "Warning: skipping session with too few trials 35\n"
     ]
    },
    {
     "data": {
      "application/vnd.jupyter.widget-view+json": {
       "model_id": "d96d8018dfd348f79e37e0c9df75311f",
       "version_major": 2,
       "version_minor": 0
      },
      "text/plain": [
       "IntProgress(value=0, description='mvg_9', max=5)"
      ]
     },
     "metadata": {},
     "output_type": "display_data"
    },
    {
     "data": {
      "application/vnd.jupyter.widget-view+json": {
       "model_id": "034056caae1c465bac909d5f8ef1c080",
       "version_major": 2,
       "version_minor": 0
      },
      "text/plain": [
       "IntProgress(value=0, description='mvg_9', max=5)"
      ]
     },
     "metadata": {},
     "output_type": "display_data"
    },
    {
     "data": {
      "application/vnd.jupyter.widget-view+json": {
       "model_id": "9b89f4d177f647d3afcb473dd88d522f",
       "version_major": 2,
       "version_minor": 0
      },
      "text/plain": [
       "IntProgress(value=0, description='mvg_9', max=5)"
      ]
     },
     "metadata": {},
     "output_type": "display_data"
    },
    {
     "name": "stdout",
     "output_type": "stream",
     "text": [
      "Warning: skipping session with too few trials 37\n"
     ]
    },
    {
     "data": {
      "application/vnd.jupyter.widget-view+json": {
       "model_id": "5be5610adc14464381c1b0a52268a611",
       "version_major": 2,
       "version_minor": 0
      },
      "text/plain": [
       "IntProgress(value=0, description='mvg_9', max=5)"
      ]
     },
     "metadata": {},
     "output_type": "display_data"
    },
    {
     "data": {
      "application/vnd.jupyter.widget-view+json": {
       "model_id": "432494d775244615a02bdb23d41c1580",
       "version_major": 2,
       "version_minor": 0
      },
      "text/plain": [
       "IntProgress(value=0, description='mvg_9', max=5)"
      ]
     },
     "metadata": {},
     "output_type": "display_data"
    },
    {
     "data": {
      "application/vnd.jupyter.widget-view+json": {
       "model_id": "1413881a9ab648e3b07e7c0adb0ae4fa",
       "version_major": 2,
       "version_minor": 0
      },
      "text/plain": [
       "IntProgress(value=0, description='mvg_9', max=21)"
      ]
     },
     "metadata": {},
     "output_type": "display_data"
    },
    {
     "data": {
      "application/vnd.jupyter.widget-view+json": {
       "model_id": "725236a84efc499b847019dc79215ba6",
       "version_major": 2,
       "version_minor": 0
      },
      "text/plain": [
       "IntProgress(value=0, description='mvg_9', max=21)"
      ]
     },
     "metadata": {},
     "output_type": "display_data"
    },
    {
     "name": "stdout",
     "output_type": "stream",
     "text": [
      "Warning: skipping session with too few trials 13\n"
     ]
    },
    {
     "data": {
      "application/vnd.jupyter.widget-view+json": {
       "model_id": "47d88eb5b60b49489ac90fec0cea7d49",
       "version_major": 2,
       "version_minor": 0
      },
      "text/plain": [
       "IntProgress(value=0, description='mvg_9', max=21)"
      ]
     },
     "metadata": {},
     "output_type": "display_data"
    },
    {
     "name": "stdout",
     "output_type": "stream",
     "text": [
      "Warning: skipping session with too few trials 39\n",
      "Warning: skipping session with too few trials 11\n",
      "Warning: skipping session with too few trials 40\n",
      "Warning: skipping session with too few trials 19\n",
      "Warning: skipping session with too few trials 41\n",
      "Warning: skipping session with too few trials 37\n"
     ]
    },
    {
     "data": {
      "application/vnd.jupyter.widget-view+json": {
       "model_id": "7591cc19a57c4fb583d633f3b48b0c9b",
       "version_major": 2,
       "version_minor": 0
      },
      "text/plain": [
       "IntProgress(value=0, description='mvg_9', max=21)"
      ]
     },
     "metadata": {},
     "output_type": "display_data"
    },
    {
     "name": "stdout",
     "output_type": "stream",
     "text": [
      "Warning: skipping session with too few trials 39\n",
      "Warning: skipping session with too few trials 15\n",
      "Warning: skipping session with too few trials 16\n"
     ]
    },
    {
     "data": {
      "application/vnd.jupyter.widget-view+json": {
       "model_id": "cb7df7bf1a7e4d34accae85f75b31360",
       "version_major": 2,
       "version_minor": 0
      },
      "text/plain": [
       "IntProgress(value=0, description='mvg_9', max=21)"
      ]
     },
     "metadata": {},
     "output_type": "display_data"
    },
    {
     "name": "stdout",
     "output_type": "stream",
     "text": [
      "Warning: skipping session with too few trials 23\n",
      "Warning: skipping session with too few trials 5\n",
      "Warning: skipping session with too few trials 35\n"
     ]
    },
    {
     "data": {
      "application/vnd.jupyter.widget-view+json": {
       "model_id": "16e37e49bcdb4a0988f8491a48def467",
       "version_major": 2,
       "version_minor": 0
      },
      "text/plain": [
       "IntProgress(value=0, description='mvg_9', max=16)"
      ]
     },
     "metadata": {},
     "output_type": "display_data"
    },
    {
     "data": {
      "application/vnd.jupyter.widget-view+json": {
       "model_id": "d95c1764628747758b5cf04d2d4f4b9c",
       "version_major": 2,
       "version_minor": 0
      },
      "text/plain": [
       "IntProgress(value=0, description='mvg_9', max=16)"
      ]
     },
     "metadata": {},
     "output_type": "display_data"
    },
    {
     "name": "stdout",
     "output_type": "stream",
     "text": [
      "Warning: skipping session with too few trials 13\n"
     ]
    },
    {
     "data": {
      "application/vnd.jupyter.widget-view+json": {
       "model_id": "56f94c4ea09f4f3d965662cf135cb8bc",
       "version_major": 2,
       "version_minor": 0
      },
      "text/plain": [
       "IntProgress(value=0, description='mvg_9', max=16)"
      ]
     },
     "metadata": {},
     "output_type": "display_data"
    },
    {
     "name": "stdout",
     "output_type": "stream",
     "text": [
      "Warning: skipping session with too few trials 39\n",
      "Warning: skipping session with too few trials 11\n",
      "Warning: skipping session with too few trials 40\n",
      "Warning: skipping session with too few trials 19\n",
      "Warning: skipping session with too few trials 41\n"
     ]
    },
    {
     "data": {
      "application/vnd.jupyter.widget-view+json": {
       "model_id": "526538caa7ea4484a11c8bbd6a21436f",
       "version_major": 2,
       "version_minor": 0
      },
      "text/plain": [
       "IntProgress(value=0, description='mvg_9', max=16)"
      ]
     },
     "metadata": {},
     "output_type": "display_data"
    },
    {
     "name": "stdout",
     "output_type": "stream",
     "text": [
      "Warning: skipping session with too few trials 39\n",
      "Warning: skipping session with too few trials 15\n",
      "Warning: skipping session with too few trials 16\n"
     ]
    },
    {
     "data": {
      "application/vnd.jupyter.widget-view+json": {
       "model_id": "3c753682c41548868910ad6e4a7646b9",
       "version_major": 2,
       "version_minor": 0
      },
      "text/plain": [
       "IntProgress(value=0, description='mvg_9', max=16)"
      ]
     },
     "metadata": {},
     "output_type": "display_data"
    },
    {
     "name": "stdout",
     "output_type": "stream",
     "text": [
      "Warning: skipping session with too few trials 23\n",
      "Warning: skipping session with too few trials 5\n",
      "Warning: skipping session with too few trials 35\n"
     ]
    },
    {
     "data": {
      "application/vnd.jupyter.widget-view+json": {
       "model_id": "fdd950eabed74aa68e80d3273f564fa6",
       "version_major": 2,
       "version_minor": 0
      },
      "text/plain": [
       "IntProgress(value=0, description='mvg_9', max=5)"
      ]
     },
     "metadata": {},
     "output_type": "display_data"
    },
    {
     "data": {
      "application/vnd.jupyter.widget-view+json": {
       "model_id": "69f6ffd7d5104527bbe00d368518bce7",
       "version_major": 2,
       "version_minor": 0
      },
      "text/plain": [
       "IntProgress(value=0, description='mvg_9', max=5)"
      ]
     },
     "metadata": {},
     "output_type": "display_data"
    },
    {
     "data": {
      "application/vnd.jupyter.widget-view+json": {
       "model_id": "282452ce6de847d29067179152bf5fae",
       "version_major": 2,
       "version_minor": 0
      },
      "text/plain": [
       "IntProgress(value=0, description='mvg_9', max=5)"
      ]
     },
     "metadata": {},
     "output_type": "display_data"
    },
    {
     "name": "stdout",
     "output_type": "stream",
     "text": [
      "Warning: skipping session with too few trials 37\n"
     ]
    },
    {
     "data": {
      "application/vnd.jupyter.widget-view+json": {
       "model_id": "688aa6c88578472ea590f6209a3074c9",
       "version_major": 2,
       "version_minor": 0
      },
      "text/plain": [
       "IntProgress(value=0, description='mvg_9', max=5)"
      ]
     },
     "metadata": {},
     "output_type": "display_data"
    },
    {
     "data": {
      "application/vnd.jupyter.widget-view+json": {
       "model_id": "181ed4f0ae7e45fd9b23da0cb6340495",
       "version_major": 2,
       "version_minor": 0
      },
      "text/plain": [
       "IntProgress(value=0, description='mvg_9', max=5)"
      ]
     },
     "metadata": {},
     "output_type": "display_data"
    }
   ],
   "source": [
    "for intervName, interv in intervDict.items():\n",
    "    bulk_metrics.metric_mouse_bulk_vs_session(dataDB, mc, ds, \"rank_effective\", 'session', skipExisting=True,\n",
    "                                              minTrials=50, perfNames=[None, 'naive', 'expert'], dropChannels=[21],\n",
    "                                              trialTypeNames='auto', verbose=False, cropTime=(intervName, interv))"
   ]
  },
  {
   "cell_type": "code",
   "execution_count": 56,
   "metadata": {
    "scrolled": true
   },
   "outputs": [
    {
     "name": "stdout",
     "output_type": "stream",
     "text": [
      "['rank_effective', 'session', 'mvg_4', 'AVG', 'bn_session', 'dset1315', 'None', 'None']\n",
      "(11,)\n",
      "(11,)\n",
      "['rank_effective', 'session', 'mvg_7', 'AVG', 'bn_session', 'dset1272', 'None', 'None']\n",
      "(18,)\n",
      "(18,)\n",
      "['rank_effective', 'session', 'mvg_8', 'AVG', 'bn_session', 'dset1357', 'None', 'None']\n",
      "(16,)\n",
      "(16,)\n",
      "['rank_effective', 'session', 'mvg_9', 'AVG', 'bn_session', 'dset1401', 'None', 'None']\n",
      "(21,)\n",
      "(21,)\n",
      "['rank_effective', 'session', 'mvg_4', 'AVG', 'bn_session', 'dset1316', 'iFA', 'None']\n",
      "(11,)\n",
      "(7,)\n",
      "['rank_effective', 'session', 'mvg_7', 'AVG', 'bn_session', 'dset1273', 'iFA', 'None']\n",
      "(18,)\n",
      "(12,)\n",
      "['rank_effective', 'session', 'mvg_8', 'AVG', 'bn_session', 'dset1358', 'iFA', 'None']\n",
      "(16,)\n",
      "(6,)\n",
      "['rank_effective', 'session', 'mvg_9', 'AVG', 'bn_session', 'dset1402', 'iFA', 'None']\n",
      "(21,)\n",
      "(20,)\n",
      "['rank_effective', 'session', 'mvg_4', 'AVG', 'bn_session', 'dset1317', 'iGO', 'None']\n",
      "(11,)\n",
      "(11,)\n",
      "['rank_effective', 'session', 'mvg_7', 'AVG', 'bn_session', 'dset1274', 'iGO', 'None']\n",
      "(18,)\n",
      "(15,)\n",
      "['rank_effective', 'session', 'mvg_8', 'AVG', 'bn_session', 'dset1359', 'iGO', 'None']\n",
      "(16,)\n",
      "(13,)\n",
      "['rank_effective', 'session', 'mvg_9', 'AVG', 'bn_session', 'dset1403', 'iGO', 'None']\n",
      "(21,)\n",
      "(18,)\n",
      "['rank_effective', 'session', 'mvg_4', 'AVG', 'bn_session', 'dset1319', 'iMISS', 'None']\n",
      "(11,)\n",
      "(1,)\n",
      "['rank_effective', 'session', 'mvg_7', 'AVG', 'bn_session', 'dset1276', 'iMISS', 'None']\n",
      "(18,)\n",
      "(13,)\n",
      "['rank_effective', 'session', 'mvg_8', 'AVG', 'bn_session', 'dset1361', 'iMISS', 'None']\n",
      "(16,)\n",
      "(5,)\n",
      "['rank_effective', 'session', 'mvg_9', 'AVG', 'bn_session', 'dset1405', 'iMISS', 'None']\n",
      "(21,)\n",
      "(16,)\n",
      "['rank_effective', 'session', 'mvg_4', 'AVG', 'bn_session', 'dset1318', 'iNOGO', 'None']\n",
      "(11,)\n",
      "(11,)\n",
      "['rank_effective', 'session', 'mvg_7', 'AVG', 'bn_session', 'dset1275', 'iNOGO', 'None']\n",
      "(18,)\n",
      "(14,)\n",
      "['rank_effective', 'session', 'mvg_8', 'AVG', 'bn_session', 'dset1360', 'iNOGO', 'None']\n",
      "(16,)\n",
      "(12,)\n",
      "['rank_effective', 'session', 'mvg_9', 'AVG', 'bn_session', 'dset1404', 'iNOGO', 'None']\n",
      "(21,)\n",
      "(18,)\n",
      "['rank_effective', 'session', 'mvg_4', 'AVG', 'bn_trial', 'dset1287', 'None', 'None']\n",
      "(11,)\n",
      "(11,)\n",
      "['rank_effective', 'session', 'mvg_7', 'AVG', 'bn_trial', 'dset1242', 'None', 'None']\n",
      "(18,)\n",
      "(18,)\n",
      "['rank_effective', 'session', 'mvg_8', 'AVG', 'bn_trial', 'dset1329', 'None', 'None']\n",
      "(16,)\n",
      "(16,)\n",
      "['rank_effective', 'session', 'mvg_9', 'AVG', 'bn_trial', 'dset1371', 'None', 'None']\n",
      "(21,)\n",
      "(21,)\n",
      "['rank_effective', 'session', 'mvg_4', 'AVG', 'bn_trial', 'dset1288', 'iFA', 'None']\n",
      "(11,)\n",
      "(7,)\n",
      "['rank_effective', 'session', 'mvg_7', 'AVG', 'bn_trial', 'dset1243', 'iFA', 'None']\n",
      "(18,)\n",
      "(12,)\n",
      "['rank_effective', 'session', 'mvg_8', 'AVG', 'bn_trial', 'dset1330', 'iFA', 'None']\n",
      "(16,)\n",
      "(6,)\n",
      "['rank_effective', 'session', 'mvg_9', 'AVG', 'bn_trial', 'dset1372', 'iFA', 'None']\n",
      "(21,)\n",
      "(20,)\n",
      "['rank_effective', 'session', 'mvg_4', 'AVG', 'bn_trial', 'dset1289', 'iGO', 'None']\n",
      "(11,)\n",
      "(11,)\n",
      "['rank_effective', 'session', 'mvg_7', 'AVG', 'bn_trial', 'dset1244', 'iGO', 'None']\n",
      "(18,)\n",
      "(15,)\n",
      "['rank_effective', 'session', 'mvg_8', 'AVG', 'bn_trial', 'dset1331', 'iGO', 'None']\n",
      "(16,)\n",
      "(13,)\n",
      "['rank_effective', 'session', 'mvg_9', 'AVG', 'bn_trial', 'dset1373', 'iGO', 'None']\n",
      "(21,)\n",
      "(18,)\n",
      "['rank_effective', 'session', 'mvg_4', 'AVG', 'bn_trial', 'dset1291', 'iMISS', 'None']\n",
      "(11,)\n",
      "(1,)\n",
      "['rank_effective', 'session', 'mvg_7', 'AVG', 'bn_trial', 'dset1246', 'iMISS', 'None']\n",
      "(18,)\n",
      "(13,)\n",
      "['rank_effective', 'session', 'mvg_8', 'AVG', 'bn_trial', 'dset1333', 'iMISS', 'None']\n",
      "(16,)\n",
      "(5,)\n",
      "['rank_effective', 'session', 'mvg_9', 'AVG', 'bn_trial', 'dset1375', 'iMISS', 'None']\n",
      "(21,)\n",
      "(16,)\n",
      "['rank_effective', 'session', 'mvg_4', 'AVG', 'bn_trial', 'dset1290', 'iNOGO', 'None']\n",
      "(11,)\n",
      "(11,)\n",
      "['rank_effective', 'session', 'mvg_7', 'AVG', 'bn_trial', 'dset1245', 'iNOGO', 'None']\n",
      "(18,)\n",
      "(14,)\n",
      "['rank_effective', 'session', 'mvg_8', 'AVG', 'bn_trial', 'dset1332', 'iNOGO', 'None']\n",
      "(16,)\n",
      "(12,)\n",
      "['rank_effective', 'session', 'mvg_9', 'AVG', 'bn_trial', 'dset1374', 'iNOGO', 'None']\n",
      "(21,)\n",
      "(18,)\n",
      "['rank_effective', 'session', 'mvg_4', 'PRE', 'bn_session', 'dset793', 'None', 'None']\n",
      "(11,)\n",
      "(11,)\n",
      "['rank_effective', 'session', 'mvg_7', 'PRE', 'bn_session', 'dset750', 'None', 'None']\n",
      "(18,)\n",
      "(18,)\n",
      "['rank_effective', 'session', 'mvg_8', 'PRE', 'bn_session', 'dset835', 'None', 'None']\n",
      "(16,)\n",
      "(16,)\n",
      "['rank_effective', 'session', 'mvg_9', 'PRE', 'bn_session', 'dset879', 'None', 'None']\n",
      "(21,)\n",
      "(21,)\n",
      "['rank_effective', 'session', 'mvg_4', 'PRE', 'bn_session', 'dset794', 'iFA', 'None']\n",
      "(11,)\n",
      "(7,)\n",
      "['rank_effective', 'session', 'mvg_7', 'PRE', 'bn_session', 'dset751', 'iFA', 'None']\n",
      "(18,)\n",
      "(12,)\n",
      "['rank_effective', 'session', 'mvg_8', 'PRE', 'bn_session', 'dset836', 'iFA', 'None']\n",
      "(16,)\n",
      "(6,)\n",
      "['rank_effective', 'session', 'mvg_9', 'PRE', 'bn_session', 'dset880', 'iFA', 'None']\n",
      "(21,)\n",
      "(20,)\n",
      "['rank_effective', 'session', 'mvg_4', 'PRE', 'bn_session', 'dset795', 'iGO', 'None']\n",
      "(11,)\n",
      "(11,)\n",
      "['rank_effective', 'session', 'mvg_7', 'PRE', 'bn_session', 'dset752', 'iGO', 'None']\n",
      "(18,)\n",
      "(15,)\n",
      "['rank_effective', 'session', 'mvg_8', 'PRE', 'bn_session', 'dset837', 'iGO', 'None']\n",
      "(16,)\n",
      "(13,)\n",
      "['rank_effective', 'session', 'mvg_9', 'PRE', 'bn_session', 'dset881', 'iGO', 'None']\n",
      "(21,)\n",
      "(18,)\n",
      "['rank_effective', 'session', 'mvg_4', 'PRE', 'bn_session', 'dset797', 'iMISS', 'None']\n",
      "(11,)\n",
      "(1,)\n",
      "['rank_effective', 'session', 'mvg_7', 'PRE', 'bn_session', 'dset754', 'iMISS', 'None']\n",
      "(18,)\n",
      "(13,)\n",
      "['rank_effective', 'session', 'mvg_8', 'PRE', 'bn_session', 'dset839', 'iMISS', 'None']\n",
      "(16,)\n",
      "(5,)\n",
      "['rank_effective', 'session', 'mvg_9', 'PRE', 'bn_session', 'dset883', 'iMISS', 'None']\n",
      "(21,)\n",
      "(16,)\n",
      "['rank_effective', 'session', 'mvg_4', 'PRE', 'bn_session', 'dset796', 'iNOGO', 'None']\n",
      "(11,)\n",
      "(11,)\n",
      "['rank_effective', 'session', 'mvg_7', 'PRE', 'bn_session', 'dset753', 'iNOGO', 'None']\n",
      "(18,)\n",
      "(14,)\n",
      "['rank_effective', 'session', 'mvg_8', 'PRE', 'bn_session', 'dset838', 'iNOGO', 'None']\n",
      "(16,)\n",
      "(12,)\n",
      "['rank_effective', 'session', 'mvg_9', 'PRE', 'bn_session', 'dset882', 'iNOGO', 'None']\n",
      "(21,)\n",
      "(18,)\n",
      "['rank_effective', 'session', 'mvg_4', 'PRE', 'bn_trial', 'dset765', 'None', 'None']\n",
      "(11,)\n",
      "(11,)\n",
      "['rank_effective', 'session', 'mvg_7', 'PRE', 'bn_trial', 'dset720', 'None', 'None']\n",
      "(18,)\n",
      "(18,)\n",
      "['rank_effective', 'session', 'mvg_8', 'PRE', 'bn_trial', 'dset807', 'None', 'None']\n",
      "(16,)\n",
      "(16,)\n",
      "['rank_effective', 'session', 'mvg_9', 'PRE', 'bn_trial', 'dset849', 'None', 'None']\n",
      "(21,)\n",
      "(21,)\n",
      "['rank_effective', 'session', 'mvg_4', 'PRE', 'bn_trial', 'dset766', 'iFA', 'None']\n",
      "(11,)\n",
      "(7,)\n",
      "['rank_effective', 'session', 'mvg_7', 'PRE', 'bn_trial', 'dset721', 'iFA', 'None']\n",
      "(18,)\n",
      "(12,)\n",
      "['rank_effective', 'session', 'mvg_8', 'PRE', 'bn_trial', 'dset808', 'iFA', 'None']\n",
      "(16,)\n",
      "(6,)\n",
      "['rank_effective', 'session', 'mvg_9', 'PRE', 'bn_trial', 'dset850', 'iFA', 'None']\n",
      "(21,)\n",
      "(20,)\n",
      "['rank_effective', 'session', 'mvg_4', 'PRE', 'bn_trial', 'dset767', 'iGO', 'None']\n",
      "(11,)\n",
      "(11,)\n",
      "['rank_effective', 'session', 'mvg_7', 'PRE', 'bn_trial', 'dset722', 'iGO', 'None']\n",
      "(18,)\n",
      "(15,)\n",
      "['rank_effective', 'session', 'mvg_8', 'PRE', 'bn_trial', 'dset809', 'iGO', 'None']\n",
      "(16,)\n",
      "(13,)\n",
      "['rank_effective', 'session', 'mvg_9', 'PRE', 'bn_trial', 'dset851', 'iGO', 'None']\n",
      "(21,)\n",
      "(18,)\n",
      "['rank_effective', 'session', 'mvg_4', 'PRE', 'bn_trial', 'dset769', 'iMISS', 'None']\n",
      "(11,)\n",
      "(1,)\n",
      "['rank_effective', 'session', 'mvg_7', 'PRE', 'bn_trial', 'dset724', 'iMISS', 'None']\n",
      "(18,)\n",
      "(13,)\n",
      "['rank_effective', 'session', 'mvg_8', 'PRE', 'bn_trial', 'dset811', 'iMISS', 'None']\n",
      "(16,)\n",
      "(5,)\n",
      "['rank_effective', 'session', 'mvg_9', 'PRE', 'bn_trial', 'dset853', 'iMISS', 'None']\n",
      "(21,)\n",
      "(16,)\n",
      "['rank_effective', 'session', 'mvg_4', 'PRE', 'bn_trial', 'dset768', 'iNOGO', 'None']\n",
      "(11,)\n",
      "(11,)\n",
      "['rank_effective', 'session', 'mvg_7', 'PRE', 'bn_trial', 'dset723', 'iNOGO', 'None']\n",
      "(18,)\n",
      "(14,)\n",
      "['rank_effective', 'session', 'mvg_8', 'PRE', 'bn_trial', 'dset810', 'iNOGO', 'None']\n",
      "(16,)\n",
      "(12,)\n",
      "['rank_effective', 'session', 'mvg_9', 'PRE', 'bn_trial', 'dset852', 'iNOGO', 'None']\n",
      "(21,)\n",
      "(18,)\n",
      "['rank_effective', 'session', 'mvg_4', 'REW', 'bn_session', 'dset1141', 'None', 'None']\n",
      "(11,)\n",
      "(11,)\n",
      "['rank_effective', 'session', 'mvg_7', 'REW', 'bn_session', 'dset1098', 'None', 'None']\n",
      "(18,)\n",
      "(18,)\n",
      "['rank_effective', 'session', 'mvg_8', 'REW', 'bn_session', 'dset1183', 'None', 'None']\n",
      "(16,)\n",
      "(16,)\n",
      "['rank_effective', 'session', 'mvg_9', 'REW', 'bn_session', 'dset1227', 'None', 'None']\n",
      "(21,)\n",
      "(21,)\n",
      "['rank_effective', 'session', 'mvg_4', 'REW', 'bn_session', 'dset1142', 'iFA', 'None']\n",
      "(11,)\n",
      "(7,)\n",
      "['rank_effective', 'session', 'mvg_7', 'REW', 'bn_session', 'dset1099', 'iFA', 'None']\n",
      "(18,)\n",
      "(12,)\n",
      "['rank_effective', 'session', 'mvg_8', 'REW', 'bn_session', 'dset1184', 'iFA', 'None']\n",
      "(16,)\n",
      "(6,)\n",
      "['rank_effective', 'session', 'mvg_9', 'REW', 'bn_session', 'dset1228', 'iFA', 'None']\n",
      "(21,)\n",
      "(20,)\n"
     ]
    },
    {
     "name": "stdout",
     "output_type": "stream",
     "text": [
      "['rank_effective', 'session', 'mvg_4', 'REW', 'bn_session', 'dset1143', 'iGO', 'None']\n",
      "(11,)\n",
      "(11,)\n",
      "['rank_effective', 'session', 'mvg_7', 'REW', 'bn_session', 'dset1100', 'iGO', 'None']\n",
      "(18,)\n",
      "(15,)\n",
      "['rank_effective', 'session', 'mvg_8', 'REW', 'bn_session', 'dset1185', 'iGO', 'None']\n",
      "(16,)\n",
      "(13,)\n",
      "['rank_effective', 'session', 'mvg_9', 'REW', 'bn_session', 'dset1229', 'iGO', 'None']\n",
      "(21,)\n",
      "(18,)\n",
      "['rank_effective', 'session', 'mvg_4', 'REW', 'bn_session', 'dset1145', 'iMISS', 'None']\n",
      "(11,)\n",
      "(1,)\n",
      "['rank_effective', 'session', 'mvg_7', 'REW', 'bn_session', 'dset1102', 'iMISS', 'None']\n",
      "(18,)\n",
      "(13,)\n",
      "['rank_effective', 'session', 'mvg_8', 'REW', 'bn_session', 'dset1187', 'iMISS', 'None']\n",
      "(16,)\n",
      "(5,)\n",
      "['rank_effective', 'session', 'mvg_9', 'REW', 'bn_session', 'dset1231', 'iMISS', 'None']\n",
      "(21,)\n",
      "(16,)\n",
      "['rank_effective', 'session', 'mvg_4', 'REW', 'bn_session', 'dset1144', 'iNOGO', 'None']\n",
      "(11,)\n",
      "(11,)\n",
      "['rank_effective', 'session', 'mvg_7', 'REW', 'bn_session', 'dset1101', 'iNOGO', 'None']\n",
      "(18,)\n",
      "(14,)\n",
      "['rank_effective', 'session', 'mvg_8', 'REW', 'bn_session', 'dset1186', 'iNOGO', 'None']\n",
      "(16,)\n",
      "(12,)\n",
      "['rank_effective', 'session', 'mvg_9', 'REW', 'bn_session', 'dset1230', 'iNOGO', 'None']\n",
      "(21,)\n",
      "(18,)\n",
      "['rank_effective', 'session', 'mvg_4', 'REW', 'bn_trial', 'dset1113', 'None', 'None']\n",
      "(11,)\n",
      "(11,)\n",
      "['rank_effective', 'session', 'mvg_7', 'REW', 'bn_trial', 'dset1068', 'None', 'None']\n",
      "(18,)\n",
      "(18,)\n",
      "['rank_effective', 'session', 'mvg_8', 'REW', 'bn_trial', 'dset1155', 'None', 'None']\n",
      "(16,)\n",
      "(16,)\n",
      "['rank_effective', 'session', 'mvg_9', 'REW', 'bn_trial', 'dset1197', 'None', 'None']\n",
      "(21,)\n",
      "(21,)\n",
      "['rank_effective', 'session', 'mvg_4', 'REW', 'bn_trial', 'dset1114', 'iFA', 'None']\n",
      "(11,)\n",
      "(7,)\n",
      "['rank_effective', 'session', 'mvg_7', 'REW', 'bn_trial', 'dset1069', 'iFA', 'None']\n",
      "(18,)\n",
      "(12,)\n",
      "['rank_effective', 'session', 'mvg_8', 'REW', 'bn_trial', 'dset1156', 'iFA', 'None']\n",
      "(16,)\n",
      "(6,)\n",
      "['rank_effective', 'session', 'mvg_9', 'REW', 'bn_trial', 'dset1198', 'iFA', 'None']\n",
      "(21,)\n",
      "(20,)\n",
      "['rank_effective', 'session', 'mvg_4', 'REW', 'bn_trial', 'dset1115', 'iGO', 'None']\n",
      "(11,)\n",
      "(11,)\n",
      "['rank_effective', 'session', 'mvg_7', 'REW', 'bn_trial', 'dset1070', 'iGO', 'None']\n",
      "(18,)\n",
      "(15,)\n",
      "['rank_effective', 'session', 'mvg_8', 'REW', 'bn_trial', 'dset1157', 'iGO', 'None']\n",
      "(16,)\n",
      "(13,)\n",
      "['rank_effective', 'session', 'mvg_9', 'REW', 'bn_trial', 'dset1199', 'iGO', 'None']\n",
      "(21,)\n",
      "(18,)\n",
      "['rank_effective', 'session', 'mvg_4', 'REW', 'bn_trial', 'dset1117', 'iMISS', 'None']\n",
      "(11,)\n",
      "(1,)\n",
      "['rank_effective', 'session', 'mvg_7', 'REW', 'bn_trial', 'dset1072', 'iMISS', 'None']\n",
      "(18,)\n",
      "(13,)\n",
      "['rank_effective', 'session', 'mvg_8', 'REW', 'bn_trial', 'dset1159', 'iMISS', 'None']\n",
      "(16,)\n",
      "(5,)\n",
      "['rank_effective', 'session', 'mvg_9', 'REW', 'bn_trial', 'dset1201', 'iMISS', 'None']\n",
      "(21,)\n",
      "(16,)\n",
      "['rank_effective', 'session', 'mvg_4', 'REW', 'bn_trial', 'dset1116', 'iNOGO', 'None']\n",
      "(11,)\n",
      "(11,)\n",
      "['rank_effective', 'session', 'mvg_7', 'REW', 'bn_trial', 'dset1071', 'iNOGO', 'None']\n",
      "(18,)\n",
      "(14,)\n",
      "['rank_effective', 'session', 'mvg_8', 'REW', 'bn_trial', 'dset1158', 'iNOGO', 'None']\n",
      "(16,)\n",
      "(12,)\n",
      "['rank_effective', 'session', 'mvg_9', 'REW', 'bn_trial', 'dset1200', 'iNOGO', 'None']\n",
      "(21,)\n",
      "(18,)\n",
      "['rank_effective', 'session', 'mvg_4', 'TEX', 'bn_session', 'dset967', 'None', 'None']\n",
      "(11,)\n",
      "(11,)\n",
      "['rank_effective', 'session', 'mvg_7', 'TEX', 'bn_session', 'dset924', 'None', 'None']\n",
      "(18,)\n",
      "(18,)\n",
      "['rank_effective', 'session', 'mvg_8', 'TEX', 'bn_session', 'dset1009', 'None', 'None']\n",
      "(16,)\n",
      "(16,)\n",
      "['rank_effective', 'session', 'mvg_9', 'TEX', 'bn_session', 'dset1053', 'None', 'None']\n",
      "(21,)\n",
      "(21,)\n",
      "['rank_effective', 'session', 'mvg_4', 'TEX', 'bn_session', 'dset968', 'iFA', 'None']\n",
      "(11,)\n",
      "(7,)\n",
      "['rank_effective', 'session', 'mvg_7', 'TEX', 'bn_session', 'dset925', 'iFA', 'None']\n",
      "(18,)\n",
      "(12,)\n",
      "['rank_effective', 'session', 'mvg_8', 'TEX', 'bn_session', 'dset1010', 'iFA', 'None']\n",
      "(16,)\n",
      "(6,)\n",
      "['rank_effective', 'session', 'mvg_9', 'TEX', 'bn_session', 'dset1054', 'iFA', 'None']\n",
      "(21,)\n",
      "(20,)\n",
      "['rank_effective', 'session', 'mvg_4', 'TEX', 'bn_session', 'dset969', 'iGO', 'None']\n",
      "(11,)\n",
      "(11,)\n",
      "['rank_effective', 'session', 'mvg_7', 'TEX', 'bn_session', 'dset926', 'iGO', 'None']\n",
      "(18,)\n",
      "(15,)\n",
      "['rank_effective', 'session', 'mvg_8', 'TEX', 'bn_session', 'dset1011', 'iGO', 'None']\n",
      "(16,)\n",
      "(13,)\n",
      "['rank_effective', 'session', 'mvg_9', 'TEX', 'bn_session', 'dset1055', 'iGO', 'None']\n",
      "(21,)\n",
      "(18,)\n",
      "['rank_effective', 'session', 'mvg_4', 'TEX', 'bn_session', 'dset971', 'iMISS', 'None']\n",
      "(11,)\n",
      "(1,)\n",
      "['rank_effective', 'session', 'mvg_7', 'TEX', 'bn_session', 'dset928', 'iMISS', 'None']\n",
      "(18,)\n",
      "(13,)\n",
      "['rank_effective', 'session', 'mvg_8', 'TEX', 'bn_session', 'dset1013', 'iMISS', 'None']\n",
      "(16,)\n",
      "(5,)\n",
      "['rank_effective', 'session', 'mvg_9', 'TEX', 'bn_session', 'dset1057', 'iMISS', 'None']\n",
      "(21,)\n",
      "(16,)\n",
      "['rank_effective', 'session', 'mvg_4', 'TEX', 'bn_session', 'dset970', 'iNOGO', 'None']\n",
      "(11,)\n",
      "(11,)\n",
      "['rank_effective', 'session', 'mvg_7', 'TEX', 'bn_session', 'dset927', 'iNOGO', 'None']\n",
      "(18,)\n",
      "(14,)\n",
      "['rank_effective', 'session', 'mvg_8', 'TEX', 'bn_session', 'dset1012', 'iNOGO', 'None']\n",
      "(16,)\n",
      "(12,)\n",
      "['rank_effective', 'session', 'mvg_9', 'TEX', 'bn_session', 'dset1056', 'iNOGO', 'None']\n",
      "(21,)\n",
      "(18,)\n",
      "['rank_effective', 'session', 'mvg_4', 'TEX', 'bn_trial', 'dset939', 'None', 'None']\n",
      "(11,)\n",
      "(11,)\n",
      "['rank_effective', 'session', 'mvg_7', 'TEX', 'bn_trial', 'dset894', 'None', 'None']\n",
      "(18,)\n",
      "(18,)\n",
      "['rank_effective', 'session', 'mvg_8', 'TEX', 'bn_trial', 'dset981', 'None', 'None']\n",
      "(16,)\n",
      "(16,)\n",
      "['rank_effective', 'session', 'mvg_9', 'TEX', 'bn_trial', 'dset1023', 'None', 'None']\n",
      "(21,)\n",
      "(21,)\n",
      "['rank_effective', 'session', 'mvg_4', 'TEX', 'bn_trial', 'dset940', 'iFA', 'None']\n",
      "(11,)\n",
      "(7,)\n",
      "['rank_effective', 'session', 'mvg_7', 'TEX', 'bn_trial', 'dset895', 'iFA', 'None']\n",
      "(18,)\n",
      "(12,)\n",
      "['rank_effective', 'session', 'mvg_8', 'TEX', 'bn_trial', 'dset982', 'iFA', 'None']\n",
      "(16,)\n",
      "(6,)\n",
      "['rank_effective', 'session', 'mvg_9', 'TEX', 'bn_trial', 'dset1024', 'iFA', 'None']\n",
      "(21,)\n",
      "(20,)\n",
      "['rank_effective', 'session', 'mvg_4', 'TEX', 'bn_trial', 'dset941', 'iGO', 'None']\n",
      "(11,)\n",
      "(11,)\n",
      "['rank_effective', 'session', 'mvg_7', 'TEX', 'bn_trial', 'dset896', 'iGO', 'None']\n",
      "(18,)\n",
      "(15,)\n",
      "['rank_effective', 'session', 'mvg_8', 'TEX', 'bn_trial', 'dset983', 'iGO', 'None']\n",
      "(16,)\n",
      "(13,)\n",
      "['rank_effective', 'session', 'mvg_9', 'TEX', 'bn_trial', 'dset1025', 'iGO', 'None']\n",
      "(21,)\n",
      "(18,)\n",
      "['rank_effective', 'session', 'mvg_4', 'TEX', 'bn_trial', 'dset943', 'iMISS', 'None']\n",
      "(11,)\n",
      "(1,)\n",
      "['rank_effective', 'session', 'mvg_7', 'TEX', 'bn_trial', 'dset898', 'iMISS', 'None']\n",
      "(18,)\n",
      "(13,)\n",
      "['rank_effective', 'session', 'mvg_8', 'TEX', 'bn_trial', 'dset985', 'iMISS', 'None']\n",
      "(16,)\n",
      "(5,)\n",
      "['rank_effective', 'session', 'mvg_9', 'TEX', 'bn_trial', 'dset1027', 'iMISS', 'None']\n",
      "(21,)\n",
      "(16,)\n",
      "['rank_effective', 'session', 'mvg_4', 'TEX', 'bn_trial', 'dset942', 'iNOGO', 'None']\n",
      "(11,)\n",
      "(11,)\n",
      "['rank_effective', 'session', 'mvg_7', 'TEX', 'bn_trial', 'dset897', 'iNOGO', 'None']\n",
      "(18,)\n",
      "(14,)\n",
      "['rank_effective', 'session', 'mvg_8', 'TEX', 'bn_trial', 'dset984', 'iNOGO', 'None']\n",
      "(16,)\n",
      "(12,)\n",
      "['rank_effective', 'session', 'mvg_9', 'TEX', 'bn_trial', 'dset1026', 'iNOGO', 'None']\n",
      "(21,)\n",
      "(18,)\n",
      "['rank_effective', 'session', 'mvg_4', 'AVG', 'raw', 'dset1301', 'None', 'rs']\n",
      "(11,)\n",
      "(11,)\n",
      "['rank_effective', 'session', 'mvg_7', 'AVG', 'raw', 'dset1257', 'None', 'rs']\n",
      "(18,)\n",
      "(18,)\n",
      "['rank_effective', 'session', 'mvg_8', 'AVG', 'raw', 'dset1343', 'None', 'rs']\n",
      "(16,)\n",
      "(16,)\n",
      "['rank_effective', 'session', 'mvg_9', 'AVG', 'raw', 'dset1386', 'None', 'rs']\n",
      "(21,)\n",
      "(21,)\n",
      "['rank_effective', 'session', 'mvg_4', 'AVG', 'raw', 'dset1302', 'iFA', 'rs']\n",
      "(11,)\n",
      "(7,)\n",
      "['rank_effective', 'session', 'mvg_7', 'AVG', 'raw', 'dset1258', 'iFA', 'rs']\n",
      "(18,)\n",
      "(12,)\n",
      "['rank_effective', 'session', 'mvg_8', 'AVG', 'raw', 'dset1344', 'iFA', 'rs']\n",
      "(16,)\n",
      "(6,)\n",
      "['rank_effective', 'session', 'mvg_9', 'AVG', 'raw', 'dset1387', 'iFA', 'rs']\n",
      "(21,)\n",
      "(20,)\n",
      "['rank_effective', 'session', 'mvg_4', 'AVG', 'raw', 'dset1303', 'iGO', 'rs']\n",
      "(11,)\n",
      "(11,)\n",
      "['rank_effective', 'session', 'mvg_7', 'AVG', 'raw', 'dset1259', 'iGO', 'rs']\n",
      "(18,)\n",
      "(15,)\n",
      "['rank_effective', 'session', 'mvg_8', 'AVG', 'raw', 'dset1345', 'iGO', 'rs']\n",
      "(16,)\n",
      "(13,)\n",
      "['rank_effective', 'session', 'mvg_9', 'AVG', 'raw', 'dset1388', 'iGO', 'rs']\n",
      "(21,)\n",
      "(18,)\n",
      "['rank_effective', 'session', 'mvg_4', 'AVG', 'raw', 'dset1305', 'iMISS', 'rs']\n",
      "(11,)\n",
      "(1,)\n",
      "['rank_effective', 'session', 'mvg_7', 'AVG', 'raw', 'dset1261', 'iMISS', 'rs']\n",
      "(18,)\n",
      "(13,)\n",
      "['rank_effective', 'session', 'mvg_8', 'AVG', 'raw', 'dset1347', 'iMISS', 'rs']\n",
      "(16,)\n",
      "(5,)\n",
      "['rank_effective', 'session', 'mvg_9', 'AVG', 'raw', 'dset1390', 'iMISS', 'rs']\n",
      "(21,)\n",
      "(16,)\n",
      "['rank_effective', 'session', 'mvg_4', 'AVG', 'raw', 'dset1304', 'iNOGO', 'rs']\n",
      "(11,)\n",
      "(11,)\n",
      "['rank_effective', 'session', 'mvg_7', 'AVG', 'raw', 'dset1260', 'iNOGO', 'rs']\n",
      "(18,)\n",
      "(14,)\n",
      "['rank_effective', 'session', 'mvg_8', 'AVG', 'raw', 'dset1346', 'iNOGO', 'rs']\n",
      "(16,)\n",
      "(12,)\n",
      "['rank_effective', 'session', 'mvg_9', 'AVG', 'raw', 'dset1389', 'iNOGO', 'rs']\n",
      "(21,)\n",
      "(18,)\n"
     ]
    },
    {
     "name": "stdout",
     "output_type": "stream",
     "text": [
      "['rank_effective', 'session', 'mvg_4', 'PRE', 'raw', 'dset779', 'None', 'rs']\n",
      "(11,)\n",
      "(11,)\n",
      "['rank_effective', 'session', 'mvg_7', 'PRE', 'raw', 'dset735', 'None', 'rs']\n",
      "(18,)\n",
      "(18,)\n",
      "['rank_effective', 'session', 'mvg_8', 'PRE', 'raw', 'dset821', 'None', 'rs']\n",
      "(16,)\n",
      "(16,)\n",
      "['rank_effective', 'session', 'mvg_9', 'PRE', 'raw', 'dset864', 'None', 'rs']\n",
      "(21,)\n",
      "(21,)\n",
      "['rank_effective', 'session', 'mvg_4', 'PRE', 'raw', 'dset780', 'iFA', 'rs']\n",
      "(11,)\n",
      "(7,)\n",
      "['rank_effective', 'session', 'mvg_7', 'PRE', 'raw', 'dset736', 'iFA', 'rs']\n",
      "(18,)\n",
      "(12,)\n",
      "['rank_effective', 'session', 'mvg_8', 'PRE', 'raw', 'dset822', 'iFA', 'rs']\n",
      "(16,)\n",
      "(6,)\n",
      "['rank_effective', 'session', 'mvg_9', 'PRE', 'raw', 'dset865', 'iFA', 'rs']\n",
      "(21,)\n",
      "(20,)\n",
      "['rank_effective', 'session', 'mvg_4', 'PRE', 'raw', 'dset781', 'iGO', 'rs']\n",
      "(11,)\n",
      "(11,)\n",
      "['rank_effective', 'session', 'mvg_7', 'PRE', 'raw', 'dset737', 'iGO', 'rs']\n",
      "(18,)\n",
      "(15,)\n",
      "['rank_effective', 'session', 'mvg_8', 'PRE', 'raw', 'dset823', 'iGO', 'rs']\n",
      "(16,)\n",
      "(13,)\n",
      "['rank_effective', 'session', 'mvg_9', 'PRE', 'raw', 'dset866', 'iGO', 'rs']\n",
      "(21,)\n",
      "(18,)\n",
      "['rank_effective', 'session', 'mvg_4', 'PRE', 'raw', 'dset783', 'iMISS', 'rs']\n",
      "(11,)\n",
      "(1,)\n",
      "['rank_effective', 'session', 'mvg_7', 'PRE', 'raw', 'dset739', 'iMISS', 'rs']\n",
      "(18,)\n",
      "(13,)\n",
      "['rank_effective', 'session', 'mvg_8', 'PRE', 'raw', 'dset825', 'iMISS', 'rs']\n",
      "(16,)\n",
      "(5,)\n",
      "['rank_effective', 'session', 'mvg_9', 'PRE', 'raw', 'dset868', 'iMISS', 'rs']\n",
      "(21,)\n",
      "(16,)\n",
      "['rank_effective', 'session', 'mvg_4', 'PRE', 'raw', 'dset782', 'iNOGO', 'rs']\n",
      "(11,)\n",
      "(11,)\n",
      "['rank_effective', 'session', 'mvg_7', 'PRE', 'raw', 'dset738', 'iNOGO', 'rs']\n",
      "(18,)\n",
      "(14,)\n",
      "['rank_effective', 'session', 'mvg_8', 'PRE', 'raw', 'dset824', 'iNOGO', 'rs']\n",
      "(16,)\n",
      "(12,)\n",
      "['rank_effective', 'session', 'mvg_9', 'PRE', 'raw', 'dset867', 'iNOGO', 'rs']\n",
      "(21,)\n",
      "(18,)\n",
      "['rank_effective', 'session', 'mvg_4', 'REW', 'raw', 'dset1127', 'None', 'rs']\n",
      "(11,)\n",
      "(11,)\n",
      "['rank_effective', 'session', 'mvg_7', 'REW', 'raw', 'dset1083', 'None', 'rs']\n",
      "(18,)\n",
      "(18,)\n",
      "['rank_effective', 'session', 'mvg_8', 'REW', 'raw', 'dset1169', 'None', 'rs']\n",
      "(16,)\n",
      "(16,)\n",
      "['rank_effective', 'session', 'mvg_9', 'REW', 'raw', 'dset1212', 'None', 'rs']\n",
      "(21,)\n",
      "(21,)\n",
      "['rank_effective', 'session', 'mvg_4', 'REW', 'raw', 'dset1128', 'iFA', 'rs']\n",
      "(11,)\n",
      "(7,)\n",
      "['rank_effective', 'session', 'mvg_7', 'REW', 'raw', 'dset1084', 'iFA', 'rs']\n",
      "(18,)\n",
      "(12,)\n",
      "['rank_effective', 'session', 'mvg_8', 'REW', 'raw', 'dset1170', 'iFA', 'rs']\n",
      "(16,)\n",
      "(6,)\n",
      "['rank_effective', 'session', 'mvg_9', 'REW', 'raw', 'dset1213', 'iFA', 'rs']\n",
      "(21,)\n",
      "(20,)\n",
      "['rank_effective', 'session', 'mvg_4', 'REW', 'raw', 'dset1129', 'iGO', 'rs']\n",
      "(11,)\n",
      "(11,)\n",
      "['rank_effective', 'session', 'mvg_7', 'REW', 'raw', 'dset1085', 'iGO', 'rs']\n",
      "(18,)\n",
      "(15,)\n",
      "['rank_effective', 'session', 'mvg_8', 'REW', 'raw', 'dset1171', 'iGO', 'rs']\n",
      "(16,)\n",
      "(13,)\n",
      "['rank_effective', 'session', 'mvg_9', 'REW', 'raw', 'dset1214', 'iGO', 'rs']\n",
      "(21,)\n",
      "(18,)\n",
      "['rank_effective', 'session', 'mvg_4', 'REW', 'raw', 'dset1131', 'iMISS', 'rs']\n",
      "(11,)\n",
      "(1,)\n",
      "['rank_effective', 'session', 'mvg_7', 'REW', 'raw', 'dset1087', 'iMISS', 'rs']\n",
      "(18,)\n",
      "(13,)\n",
      "['rank_effective', 'session', 'mvg_8', 'REW', 'raw', 'dset1173', 'iMISS', 'rs']\n",
      "(16,)\n",
      "(5,)\n",
      "['rank_effective', 'session', 'mvg_9', 'REW', 'raw', 'dset1216', 'iMISS', 'rs']\n",
      "(21,)\n",
      "(16,)\n",
      "['rank_effective', 'session', 'mvg_4', 'REW', 'raw', 'dset1130', 'iNOGO', 'rs']\n",
      "(11,)\n",
      "(11,)\n",
      "['rank_effective', 'session', 'mvg_7', 'REW', 'raw', 'dset1086', 'iNOGO', 'rs']\n",
      "(18,)\n",
      "(14,)\n",
      "['rank_effective', 'session', 'mvg_8', 'REW', 'raw', 'dset1172', 'iNOGO', 'rs']\n",
      "(16,)\n",
      "(12,)\n",
      "['rank_effective', 'session', 'mvg_9', 'REW', 'raw', 'dset1215', 'iNOGO', 'rs']\n",
      "(21,)\n",
      "(18,)\n",
      "['rank_effective', 'session', 'mvg_4', 'TEX', 'raw', 'dset953', 'None', 'rs']\n",
      "(11,)\n",
      "(11,)\n",
      "['rank_effective', 'session', 'mvg_7', 'TEX', 'raw', 'dset909', 'None', 'rs']\n",
      "(18,)\n",
      "(18,)\n",
      "['rank_effective', 'session', 'mvg_8', 'TEX', 'raw', 'dset995', 'None', 'rs']\n",
      "(16,)\n",
      "(16,)\n",
      "['rank_effective', 'session', 'mvg_9', 'TEX', 'raw', 'dset1038', 'None', 'rs']\n",
      "(21,)\n",
      "(21,)\n",
      "['rank_effective', 'session', 'mvg_4', 'TEX', 'raw', 'dset954', 'iFA', 'rs']\n",
      "(11,)\n",
      "(7,)\n",
      "['rank_effective', 'session', 'mvg_7', 'TEX', 'raw', 'dset910', 'iFA', 'rs']\n",
      "(18,)\n",
      "(12,)\n",
      "['rank_effective', 'session', 'mvg_8', 'TEX', 'raw', 'dset996', 'iFA', 'rs']\n",
      "(16,)\n",
      "(6,)\n",
      "['rank_effective', 'session', 'mvg_9', 'TEX', 'raw', 'dset1039', 'iFA', 'rs']\n",
      "(21,)\n",
      "(20,)\n",
      "['rank_effective', 'session', 'mvg_4', 'TEX', 'raw', 'dset955', 'iGO', 'rs']\n",
      "(11,)\n",
      "(11,)\n",
      "['rank_effective', 'session', 'mvg_7', 'TEX', 'raw', 'dset911', 'iGO', 'rs']\n",
      "(18,)\n",
      "(15,)\n",
      "['rank_effective', 'session', 'mvg_8', 'TEX', 'raw', 'dset997', 'iGO', 'rs']\n",
      "(16,)\n",
      "(13,)\n",
      "['rank_effective', 'session', 'mvg_9', 'TEX', 'raw', 'dset1040', 'iGO', 'rs']\n",
      "(21,)\n",
      "(18,)\n",
      "['rank_effective', 'session', 'mvg_4', 'TEX', 'raw', 'dset957', 'iMISS', 'rs']\n",
      "(11,)\n",
      "(1,)\n",
      "['rank_effective', 'session', 'mvg_7', 'TEX', 'raw', 'dset913', 'iMISS', 'rs']\n",
      "(18,)\n",
      "(13,)\n",
      "['rank_effective', 'session', 'mvg_8', 'TEX', 'raw', 'dset999', 'iMISS', 'rs']\n",
      "(16,)\n",
      "(5,)\n",
      "['rank_effective', 'session', 'mvg_9', 'TEX', 'raw', 'dset1042', 'iMISS', 'rs']\n",
      "(21,)\n",
      "(16,)\n",
      "['rank_effective', 'session', 'mvg_4', 'TEX', 'raw', 'dset956', 'iNOGO', 'rs']\n",
      "(11,)\n",
      "(11,)\n",
      "['rank_effective', 'session', 'mvg_7', 'TEX', 'raw', 'dset912', 'iNOGO', 'rs']\n",
      "(18,)\n",
      "(14,)\n",
      "['rank_effective', 'session', 'mvg_8', 'TEX', 'raw', 'dset998', 'iNOGO', 'rs']\n",
      "(16,)\n",
      "(12,)\n",
      "['rank_effective', 'session', 'mvg_9', 'TEX', 'raw', 'dset1041', 'iNOGO', 'rs']\n",
      "(21,)\n",
      "(18,)\n"
     ]
    }
   ],
   "source": [
    "bulk_metrics.scatter_metric_bulk(ds, 'rank_effective', 'session', xlim=[0, 1], ylim=[1, None], verbose=False,\n",
    "                                 xFunc=lambda m, l: dataDB.get_performance_mouse(m), haveRegression=True)"
   ]
  },
  {
   "cell_type": "markdown",
   "metadata": {},
   "source": [
    "### Conditions"
   ]
  },
  {
   "cell_type": "code",
   "execution_count": 58,
   "metadata": {},
   "outputs": [
    {
     "name": "stdout",
     "output_type": "stream",
     "text": [
      "p-value annotation legend:\n",
      "ns: 5.00e-02 < p <= 1.00e+00\n",
      "*: 1.00e-02 < p <= 5.00e-02\n",
      "**: 1.00e-03 < p <= 1.00e-02\n",
      "***: 1.00e-04 < p <= 1.00e-03\n",
      "****: p <= 1.00e-04\n",
      "\n",
      "mvg_7_iNOGO v.s. mvg_7_iGO: t-test independent samples with Bonferroni correction, P_val=7.323e-03 stat=-3.456e+00\n",
      "mvg_4_iNOGO v.s. mvg_4_iGO: t-test independent samples with Bonferroni correction, P_val=3.514e-01 stat=-1.795e+00\n",
      "mvg_8_iNOGO v.s. mvg_8_iGO: t-test independent samples with Bonferroni correction, P_val=2.182e-01 stat=-2.026e+00\n",
      "mvg_9_iNOGO v.s. mvg_9_iGO: t-test independent samples with Bonferroni correction, P_val=1.000e+00 stat=-4.263e-01\n"
     ]
    },
    {
     "data": {
      "text/html": [
       "<div>\n",
       "<style scoped>\n",
       "    .dataframe tbody tr th:only-of-type {\n",
       "        vertical-align: middle;\n",
       "    }\n",
       "\n",
       "    .dataframe tbody tr th {\n",
       "        vertical-align: top;\n",
       "    }\n",
       "\n",
       "    .dataframe thead th {\n",
       "        text-align: right;\n",
       "    }\n",
       "</style>\n",
       "<table border=\"1\" class=\"dataframe\">\n",
       "  <thead>\n",
       "    <tr style=\"text-align: right;\">\n",
       "      <th></th>\n",
       "      <th>metric</th>\n",
       "      <th>name</th>\n",
       "      <th>mousename</th>\n",
       "      <th>cropTime</th>\n",
       "      <th>datatype</th>\n",
       "      <th>dset</th>\n",
       "      <th>trialType</th>\n",
       "      <th>performance</th>\n",
       "      <th>zscoreDim</th>\n",
       "    </tr>\n",
       "  </thead>\n",
       "  <tbody>\n",
       "    <tr>\n",
       "      <th>0</th>\n",
       "      <td>rank_effective</td>\n",
       "      <td>session</td>\n",
       "      <td>mvg_8</td>\n",
       "      <td>PRE</td>\n",
       "      <td>bn_session</td>\n",
       "      <td>dset2601</td>\n",
       "      <td>None</td>\n",
       "      <td>None</td>\n",
       "      <td>None</td>\n",
       "    </tr>\n",
       "    <tr>\n",
       "      <th>0</th>\n",
       "      <td>rank_effective</td>\n",
       "      <td>session</td>\n",
       "      <td>mvg_4</td>\n",
       "      <td>PRE</td>\n",
       "      <td>bn_session</td>\n",
       "      <td>dset2643</td>\n",
       "      <td>None</td>\n",
       "      <td>None</td>\n",
       "      <td>None</td>\n",
       "    </tr>\n",
       "    <tr>\n",
       "      <th>0</th>\n",
       "      <td>rank_effective</td>\n",
       "      <td>session</td>\n",
       "      <td>mvg_7</td>\n",
       "      <td>PRE</td>\n",
       "      <td>bn_session</td>\n",
       "      <td>dset2685</td>\n",
       "      <td>None</td>\n",
       "      <td>None</td>\n",
       "      <td>None</td>\n",
       "    </tr>\n",
       "    <tr>\n",
       "      <th>0</th>\n",
       "      <td>rank_effective</td>\n",
       "      <td>session</td>\n",
       "      <td>mvg_9</td>\n",
       "      <td>PRE</td>\n",
       "      <td>bn_session</td>\n",
       "      <td>dset2730</td>\n",
       "      <td>None</td>\n",
       "      <td>None</td>\n",
       "      <td>None</td>\n",
       "    </tr>\n",
       "    <tr>\n",
       "      <th>0</th>\n",
       "      <td>rank_effective</td>\n",
       "      <td>session</td>\n",
       "      <td>mvg_8</td>\n",
       "      <td>TEX</td>\n",
       "      <td>bn_session</td>\n",
       "      <td>dset2775</td>\n",
       "      <td>None</td>\n",
       "      <td>None</td>\n",
       "      <td>None</td>\n",
       "    </tr>\n",
       "  </tbody>\n",
       "</table>\n",
       "</div>"
      ],
      "text/plain": [
       "           metric     name mousename cropTime    datatype      dset trialType  \\\n",
       "0  rank_effective  session     mvg_8      PRE  bn_session  dset2601      None   \n",
       "0  rank_effective  session     mvg_4      PRE  bn_session  dset2643      None   \n",
       "0  rank_effective  session     mvg_7      PRE  bn_session  dset2685      None   \n",
       "0  rank_effective  session     mvg_9      PRE  bn_session  dset2730      None   \n",
       "0  rank_effective  session     mvg_8      TEX  bn_session  dset2775      None   \n",
       "\n",
       "  performance zscoreDim  \n",
       "0        None      None  \n",
       "0        None      None  \n",
       "0        None      None  \n",
       "0        None      None  \n",
       "0        None      None  "
      ]
     },
     "metadata": {},
     "output_type": "display_data"
    },
    {
     "name": "stdout",
     "output_type": "stream",
     "text": [
      "p-value annotation legend:\n",
      "ns: 5.00e-02 < p <= 1.00e+00\n",
      "*: 1.00e-02 < p <= 5.00e-02\n",
      "**: 1.00e-03 < p <= 1.00e-02\n",
      "***: 1.00e-04 < p <= 1.00e-03\n",
      "****: p <= 1.00e-04\n",
      "\n",
      "mvg_7_iGO v.s. mvg_7_iNOGO: t-test independent samples with Bonferroni correction, P_val=7.325e-01 stat=1.608e+00\n",
      "mvg_4_iGO v.s. mvg_4_iNOGO: t-test independent samples with Bonferroni correction, P_val=1.000e+00 stat=1.107e+00\n",
      "mvg_8_iGO v.s. mvg_8_iNOGO: t-test independent samples with Bonferroni correction, P_val=5.019e-01 stat=1.617e+00\n",
      "mvg_9_iGO v.s. mvg_9_iNOGO: t-test independent samples with Bonferroni correction, P_val=1.000e+00 stat=7.739e-01\n"
     ]
    },
    {
     "data": {
      "text/html": [
       "<div>\n",
       "<style scoped>\n",
       "    .dataframe tbody tr th:only-of-type {\n",
       "        vertical-align: middle;\n",
       "    }\n",
       "\n",
       "    .dataframe tbody tr th {\n",
       "        vertical-align: top;\n",
       "    }\n",
       "\n",
       "    .dataframe thead th {\n",
       "        text-align: right;\n",
       "    }\n",
       "</style>\n",
       "<table border=\"1\" class=\"dataframe\">\n",
       "  <thead>\n",
       "    <tr style=\"text-align: right;\">\n",
       "      <th></th>\n",
       "      <th>metric</th>\n",
       "      <th>name</th>\n",
       "      <th>mousename</th>\n",
       "      <th>cropTime</th>\n",
       "      <th>datatype</th>\n",
       "      <th>dset</th>\n",
       "      <th>trialType</th>\n",
       "      <th>performance</th>\n",
       "      <th>zscoreDim</th>\n",
       "    </tr>\n",
       "  </thead>\n",
       "  <tbody>\n",
       "    <tr>\n",
       "      <th>0</th>\n",
       "      <td>rank_effective</td>\n",
       "      <td>session</td>\n",
       "      <td>mvg_8</td>\n",
       "      <td>PRE</td>\n",
       "      <td>bn_session</td>\n",
       "      <td>dset2611</td>\n",
       "      <td>None</td>\n",
       "      <td>expert</td>\n",
       "      <td>None</td>\n",
       "    </tr>\n",
       "    <tr>\n",
       "      <th>0</th>\n",
       "      <td>rank_effective</td>\n",
       "      <td>session</td>\n",
       "      <td>mvg_4</td>\n",
       "      <td>PRE</td>\n",
       "      <td>bn_session</td>\n",
       "      <td>dset2653</td>\n",
       "      <td>None</td>\n",
       "      <td>expert</td>\n",
       "      <td>None</td>\n",
       "    </tr>\n",
       "    <tr>\n",
       "      <th>0</th>\n",
       "      <td>rank_effective</td>\n",
       "      <td>session</td>\n",
       "      <td>mvg_7</td>\n",
       "      <td>PRE</td>\n",
       "      <td>bn_session</td>\n",
       "      <td>dset2695</td>\n",
       "      <td>None</td>\n",
       "      <td>expert</td>\n",
       "      <td>None</td>\n",
       "    </tr>\n",
       "    <tr>\n",
       "      <th>0</th>\n",
       "      <td>rank_effective</td>\n",
       "      <td>session</td>\n",
       "      <td>mvg_9</td>\n",
       "      <td>PRE</td>\n",
       "      <td>bn_session</td>\n",
       "      <td>dset2740</td>\n",
       "      <td>None</td>\n",
       "      <td>expert</td>\n",
       "      <td>None</td>\n",
       "    </tr>\n",
       "    <tr>\n",
       "      <th>0</th>\n",
       "      <td>rank_effective</td>\n",
       "      <td>session</td>\n",
       "      <td>mvg_8</td>\n",
       "      <td>TEX</td>\n",
       "      <td>bn_session</td>\n",
       "      <td>dset2785</td>\n",
       "      <td>None</td>\n",
       "      <td>expert</td>\n",
       "      <td>None</td>\n",
       "    </tr>\n",
       "  </tbody>\n",
       "</table>\n",
       "</div>"
      ],
      "text/plain": [
       "           metric     name mousename cropTime    datatype      dset trialType  \\\n",
       "0  rank_effective  session     mvg_8      PRE  bn_session  dset2611      None   \n",
       "0  rank_effective  session     mvg_4      PRE  bn_session  dset2653      None   \n",
       "0  rank_effective  session     mvg_7      PRE  bn_session  dset2695      None   \n",
       "0  rank_effective  session     mvg_9      PRE  bn_session  dset2740      None   \n",
       "0  rank_effective  session     mvg_8      TEX  bn_session  dset2785      None   \n",
       "\n",
       "  performance zscoreDim  \n",
       "0      expert      None  \n",
       "0      expert      None  \n",
       "0      expert      None  \n",
       "0      expert      None  \n",
       "0      expert      None  "
      ]
     },
     "metadata": {},
     "output_type": "display_data"
    },
    {
     "name": "stdout",
     "output_type": "stream",
     "text": [
      "p-value annotation legend:\n",
      "ns: 5.00e-02 < p <= 1.00e+00\n",
      "*: 1.00e-02 < p <= 5.00e-02\n",
      "**: 1.00e-03 < p <= 1.00e-02\n",
      "***: 1.00e-04 < p <= 1.00e-03\n",
      "****: p <= 1.00e-04\n",
      "\n",
      "mvg_7_iNOGO v.s. mvg_7_iGO: t-test independent samples with Bonferroni correction, P_val=2.874e-02 stat=-2.977e+00\n",
      "mvg_4_iNOGO v.s. mvg_4_iGO: t-test independent samples with Bonferroni correction, P_val=2.718e-01 stat=-2.109e+00\n",
      "mvg_8_iNOGO v.s. mvg_8_iGO: t-test independent samples with Bonferroni correction, P_val=1.000e+00 stat=-1.046e+00\n",
      "mvg_9_iNOGO v.s. mvg_9_iGO: t-test independent samples with Bonferroni correction, P_val=1.000e+00 stat=1.464e-01\n"
     ]
    },
    {
     "data": {
      "text/html": [
       "<div>\n",
       "<style scoped>\n",
       "    .dataframe tbody tr th:only-of-type {\n",
       "        vertical-align: middle;\n",
       "    }\n",
       "\n",
       "    .dataframe tbody tr th {\n",
       "        vertical-align: top;\n",
       "    }\n",
       "\n",
       "    .dataframe thead th {\n",
       "        text-align: right;\n",
       "    }\n",
       "</style>\n",
       "<table border=\"1\" class=\"dataframe\">\n",
       "  <thead>\n",
       "    <tr style=\"text-align: right;\">\n",
       "      <th></th>\n",
       "      <th>metric</th>\n",
       "      <th>name</th>\n",
       "      <th>mousename</th>\n",
       "      <th>cropTime</th>\n",
       "      <th>datatype</th>\n",
       "      <th>dset</th>\n",
       "      <th>trialType</th>\n",
       "      <th>performance</th>\n",
       "      <th>zscoreDim</th>\n",
       "    </tr>\n",
       "  </thead>\n",
       "  <tbody>\n",
       "    <tr>\n",
       "      <th>0</th>\n",
       "      <td>rank_effective</td>\n",
       "      <td>session</td>\n",
       "      <td>mvg_8</td>\n",
       "      <td>PRE</td>\n",
       "      <td>bn_session</td>\n",
       "      <td>dset2606</td>\n",
       "      <td>None</td>\n",
       "      <td>naive</td>\n",
       "      <td>None</td>\n",
       "    </tr>\n",
       "    <tr>\n",
       "      <th>0</th>\n",
       "      <td>rank_effective</td>\n",
       "      <td>session</td>\n",
       "      <td>mvg_4</td>\n",
       "      <td>PRE</td>\n",
       "      <td>bn_session</td>\n",
       "      <td>dset2648</td>\n",
       "      <td>None</td>\n",
       "      <td>naive</td>\n",
       "      <td>None</td>\n",
       "    </tr>\n",
       "    <tr>\n",
       "      <th>0</th>\n",
       "      <td>rank_effective</td>\n",
       "      <td>session</td>\n",
       "      <td>mvg_7</td>\n",
       "      <td>PRE</td>\n",
       "      <td>bn_session</td>\n",
       "      <td>dset2690</td>\n",
       "      <td>None</td>\n",
       "      <td>naive</td>\n",
       "      <td>None</td>\n",
       "    </tr>\n",
       "    <tr>\n",
       "      <th>0</th>\n",
       "      <td>rank_effective</td>\n",
       "      <td>session</td>\n",
       "      <td>mvg_9</td>\n",
       "      <td>PRE</td>\n",
       "      <td>bn_session</td>\n",
       "      <td>dset2735</td>\n",
       "      <td>None</td>\n",
       "      <td>naive</td>\n",
       "      <td>None</td>\n",
       "    </tr>\n",
       "    <tr>\n",
       "      <th>0</th>\n",
       "      <td>rank_effective</td>\n",
       "      <td>session</td>\n",
       "      <td>mvg_8</td>\n",
       "      <td>TEX</td>\n",
       "      <td>bn_session</td>\n",
       "      <td>dset2780</td>\n",
       "      <td>None</td>\n",
       "      <td>naive</td>\n",
       "      <td>None</td>\n",
       "    </tr>\n",
       "  </tbody>\n",
       "</table>\n",
       "</div>"
      ],
      "text/plain": [
       "           metric     name mousename cropTime    datatype      dset trialType  \\\n",
       "0  rank_effective  session     mvg_8      PRE  bn_session  dset2606      None   \n",
       "0  rank_effective  session     mvg_4      PRE  bn_session  dset2648      None   \n",
       "0  rank_effective  session     mvg_7      PRE  bn_session  dset2690      None   \n",
       "0  rank_effective  session     mvg_9      PRE  bn_session  dset2735      None   \n",
       "0  rank_effective  session     mvg_8      TEX  bn_session  dset2780      None   \n",
       "\n",
       "  performance zscoreDim  \n",
       "0       naive      None  \n",
       "0       naive      None  \n",
       "0       naive      None  \n",
       "0       naive      None  \n",
       "0       naive      None  "
      ]
     },
     "metadata": {},
     "output_type": "display_data"
    },
    {
     "name": "stdout",
     "output_type": "stream",
     "text": [
      "p-value annotation legend:\n",
      "ns: 5.00e-02 < p <= 1.00e+00\n",
      "*: 1.00e-02 < p <= 5.00e-02\n",
      "**: 1.00e-03 < p <= 1.00e-02\n",
      "***: 1.00e-04 < p <= 1.00e-03\n",
      "****: p <= 1.00e-04\n",
      "\n",
      "mvg_7_iNOGO v.s. mvg_7_iGO: t-test independent samples with Bonferroni correction, P_val=1.000e+00 stat=-8.248e-01\n",
      "mvg_4_iNOGO v.s. mvg_4_iGO: t-test independent samples with Bonferroni correction, P_val=3.589e-01 stat=-1.783e+00\n",
      "mvg_8_iNOGO v.s. mvg_8_iGO: t-test independent samples with Bonferroni correction, P_val=1.000e+00 stat=-8.658e-01\n",
      "mvg_9_iNOGO v.s. mvg_9_iGO: t-test independent samples with Bonferroni correction, P_val=8.069e-03 stat=-3.345e+00\n"
     ]
    },
    {
     "data": {
      "text/html": [
       "<div>\n",
       "<style scoped>\n",
       "    .dataframe tbody tr th:only-of-type {\n",
       "        vertical-align: middle;\n",
       "    }\n",
       "\n",
       "    .dataframe tbody tr th {\n",
       "        vertical-align: top;\n",
       "    }\n",
       "\n",
       "    .dataframe thead th {\n",
       "        text-align: right;\n",
       "    }\n",
       "</style>\n",
       "<table border=\"1\" class=\"dataframe\">\n",
       "  <thead>\n",
       "    <tr style=\"text-align: right;\">\n",
       "      <th></th>\n",
       "      <th>metric</th>\n",
       "      <th>name</th>\n",
       "      <th>mousename</th>\n",
       "      <th>cropTime</th>\n",
       "      <th>datatype</th>\n",
       "      <th>dset</th>\n",
       "      <th>trialType</th>\n",
       "      <th>performance</th>\n",
       "      <th>zscoreDim</th>\n",
       "    </tr>\n",
       "  </thead>\n",
       "  <tbody>\n",
       "    <tr>\n",
       "      <th>0</th>\n",
       "      <td>rank_effective</td>\n",
       "      <td>session</td>\n",
       "      <td>mvg_8</td>\n",
       "      <td>PRE</td>\n",
       "      <td>bn_trial</td>\n",
       "      <td>dset2615</td>\n",
       "      <td>None</td>\n",
       "      <td>None</td>\n",
       "      <td>None</td>\n",
       "    </tr>\n",
       "    <tr>\n",
       "      <th>0</th>\n",
       "      <td>rank_effective</td>\n",
       "      <td>session</td>\n",
       "      <td>mvg_4</td>\n",
       "      <td>PRE</td>\n",
       "      <td>bn_trial</td>\n",
       "      <td>dset2657</td>\n",
       "      <td>None</td>\n",
       "      <td>None</td>\n",
       "      <td>None</td>\n",
       "    </tr>\n",
       "    <tr>\n",
       "      <th>0</th>\n",
       "      <td>rank_effective</td>\n",
       "      <td>session</td>\n",
       "      <td>mvg_7</td>\n",
       "      <td>PRE</td>\n",
       "      <td>bn_trial</td>\n",
       "      <td>dset2700</td>\n",
       "      <td>None</td>\n",
       "      <td>None</td>\n",
       "      <td>None</td>\n",
       "    </tr>\n",
       "    <tr>\n",
       "      <th>0</th>\n",
       "      <td>rank_effective</td>\n",
       "      <td>session</td>\n",
       "      <td>mvg_9</td>\n",
       "      <td>PRE</td>\n",
       "      <td>bn_trial</td>\n",
       "      <td>dset2745</td>\n",
       "      <td>None</td>\n",
       "      <td>None</td>\n",
       "      <td>None</td>\n",
       "    </tr>\n",
       "    <tr>\n",
       "      <th>0</th>\n",
       "      <td>rank_effective</td>\n",
       "      <td>session</td>\n",
       "      <td>mvg_8</td>\n",
       "      <td>TEX</td>\n",
       "      <td>bn_trial</td>\n",
       "      <td>dset2789</td>\n",
       "      <td>None</td>\n",
       "      <td>None</td>\n",
       "      <td>None</td>\n",
       "    </tr>\n",
       "  </tbody>\n",
       "</table>\n",
       "</div>"
      ],
      "text/plain": [
       "           metric     name mousename cropTime  datatype      dset trialType  \\\n",
       "0  rank_effective  session     mvg_8      PRE  bn_trial  dset2615      None   \n",
       "0  rank_effective  session     mvg_4      PRE  bn_trial  dset2657      None   \n",
       "0  rank_effective  session     mvg_7      PRE  bn_trial  dset2700      None   \n",
       "0  rank_effective  session     mvg_9      PRE  bn_trial  dset2745      None   \n",
       "0  rank_effective  session     mvg_8      TEX  bn_trial  dset2789      None   \n",
       "\n",
       "  performance zscoreDim  \n",
       "0        None      None  \n",
       "0        None      None  \n",
       "0        None      None  \n",
       "0        None      None  \n",
       "0        None      None  "
      ]
     },
     "metadata": {},
     "output_type": "display_data"
    },
    {
     "name": "stdout",
     "output_type": "stream",
     "text": [
      "p-value annotation legend:\n",
      "ns: 5.00e-02 < p <= 1.00e+00\n",
      "*: 1.00e-02 < p <= 5.00e-02\n",
      "**: 1.00e-03 < p <= 1.00e-02\n",
      "***: 1.00e-04 < p <= 1.00e-03\n",
      "****: p <= 1.00e-04\n",
      "\n",
      "mvg_7_iGO v.s. mvg_7_iNOGO: t-test independent samples with Bonferroni correction, P_val=1.000e+00 stat=-5.977e-01\n",
      "mvg_4_iGO v.s. mvg_4_iNOGO: t-test independent samples with Bonferroni correction, P_val=1.555e-01 stat=2.376e+00\n",
      "mvg_8_iGO v.s. mvg_8_iNOGO: t-test independent samples with Bonferroni correction, P_val=1.000e+00 stat=7.785e-01\n",
      "mvg_9_iGO v.s. mvg_9_iNOGO: t-test independent samples with Bonferroni correction, P_val=5.530e-01 stat=1.647e+00\n"
     ]
    },
    {
     "data": {
      "text/html": [
       "<div>\n",
       "<style scoped>\n",
       "    .dataframe tbody tr th:only-of-type {\n",
       "        vertical-align: middle;\n",
       "    }\n",
       "\n",
       "    .dataframe tbody tr th {\n",
       "        vertical-align: top;\n",
       "    }\n",
       "\n",
       "    .dataframe thead th {\n",
       "        text-align: right;\n",
       "    }\n",
       "</style>\n",
       "<table border=\"1\" class=\"dataframe\">\n",
       "  <thead>\n",
       "    <tr style=\"text-align: right;\">\n",
       "      <th></th>\n",
       "      <th>metric</th>\n",
       "      <th>name</th>\n",
       "      <th>mousename</th>\n",
       "      <th>cropTime</th>\n",
       "      <th>datatype</th>\n",
       "      <th>dset</th>\n",
       "      <th>trialType</th>\n",
       "      <th>performance</th>\n",
       "      <th>zscoreDim</th>\n",
       "    </tr>\n",
       "  </thead>\n",
       "  <tbody>\n",
       "    <tr>\n",
       "      <th>0</th>\n",
       "      <td>rank_effective</td>\n",
       "      <td>session</td>\n",
       "      <td>mvg_8</td>\n",
       "      <td>PRE</td>\n",
       "      <td>bn_trial</td>\n",
       "      <td>dset2625</td>\n",
       "      <td>None</td>\n",
       "      <td>expert</td>\n",
       "      <td>None</td>\n",
       "    </tr>\n",
       "    <tr>\n",
       "      <th>0</th>\n",
       "      <td>rank_effective</td>\n",
       "      <td>session</td>\n",
       "      <td>mvg_4</td>\n",
       "      <td>PRE</td>\n",
       "      <td>bn_trial</td>\n",
       "      <td>dset2667</td>\n",
       "      <td>None</td>\n",
       "      <td>expert</td>\n",
       "      <td>None</td>\n",
       "    </tr>\n",
       "    <tr>\n",
       "      <th>0</th>\n",
       "      <td>rank_effective</td>\n",
       "      <td>session</td>\n",
       "      <td>mvg_7</td>\n",
       "      <td>PRE</td>\n",
       "      <td>bn_trial</td>\n",
       "      <td>dset2710</td>\n",
       "      <td>None</td>\n",
       "      <td>expert</td>\n",
       "      <td>None</td>\n",
       "    </tr>\n",
       "    <tr>\n",
       "      <th>0</th>\n",
       "      <td>rank_effective</td>\n",
       "      <td>session</td>\n",
       "      <td>mvg_9</td>\n",
       "      <td>PRE</td>\n",
       "      <td>bn_trial</td>\n",
       "      <td>dset2755</td>\n",
       "      <td>None</td>\n",
       "      <td>expert</td>\n",
       "      <td>None</td>\n",
       "    </tr>\n",
       "    <tr>\n",
       "      <th>0</th>\n",
       "      <td>rank_effective</td>\n",
       "      <td>session</td>\n",
       "      <td>mvg_8</td>\n",
       "      <td>TEX</td>\n",
       "      <td>bn_trial</td>\n",
       "      <td>dset2799</td>\n",
       "      <td>None</td>\n",
       "      <td>expert</td>\n",
       "      <td>None</td>\n",
       "    </tr>\n",
       "  </tbody>\n",
       "</table>\n",
       "</div>"
      ],
      "text/plain": [
       "           metric     name mousename cropTime  datatype      dset trialType  \\\n",
       "0  rank_effective  session     mvg_8      PRE  bn_trial  dset2625      None   \n",
       "0  rank_effective  session     mvg_4      PRE  bn_trial  dset2667      None   \n",
       "0  rank_effective  session     mvg_7      PRE  bn_trial  dset2710      None   \n",
       "0  rank_effective  session     mvg_9      PRE  bn_trial  dset2755      None   \n",
       "0  rank_effective  session     mvg_8      TEX  bn_trial  dset2799      None   \n",
       "\n",
       "  performance zscoreDim  \n",
       "0      expert      None  \n",
       "0      expert      None  \n",
       "0      expert      None  \n",
       "0      expert      None  \n",
       "0      expert      None  "
      ]
     },
     "metadata": {},
     "output_type": "display_data"
    },
    {
     "name": "stdout",
     "output_type": "stream",
     "text": [
      "p-value annotation legend:\n",
      "ns: 5.00e-02 < p <= 1.00e+00\n",
      "*: 1.00e-02 < p <= 5.00e-02\n",
      "**: 1.00e-03 < p <= 1.00e-02\n",
      "***: 1.00e-04 < p <= 1.00e-03\n",
      "****: p <= 1.00e-04\n",
      "\n",
      "mvg_7_iNOGO v.s. mvg_7_iGO: t-test independent samples with Bonferroni correction, P_val=9.162e-01 stat=-1.239e+00\n",
      "mvg_4_iNOGO v.s. mvg_4_iGO: t-test independent samples with Bonferroni correction, P_val=1.000e+00 stat=-1.187e-01\n",
      "mvg_8_iNOGO v.s. mvg_8_iGO: t-test independent samples with Bonferroni correction, P_val=1.000e+00 stat=-2.258e-01\n",
      "mvg_9_iNOGO v.s. mvg_9_iGO: t-test independent samples with Bonferroni correction, P_val=2.802e-02 stat=-2.949e+00\n"
     ]
    },
    {
     "data": {
      "text/html": [
       "<div>\n",
       "<style scoped>\n",
       "    .dataframe tbody tr th:only-of-type {\n",
       "        vertical-align: middle;\n",
       "    }\n",
       "\n",
       "    .dataframe tbody tr th {\n",
       "        vertical-align: top;\n",
       "    }\n",
       "\n",
       "    .dataframe thead th {\n",
       "        text-align: right;\n",
       "    }\n",
       "</style>\n",
       "<table border=\"1\" class=\"dataframe\">\n",
       "  <thead>\n",
       "    <tr style=\"text-align: right;\">\n",
       "      <th></th>\n",
       "      <th>metric</th>\n",
       "      <th>name</th>\n",
       "      <th>mousename</th>\n",
       "      <th>cropTime</th>\n",
       "      <th>datatype</th>\n",
       "      <th>dset</th>\n",
       "      <th>trialType</th>\n",
       "      <th>performance</th>\n",
       "      <th>zscoreDim</th>\n",
       "    </tr>\n",
       "  </thead>\n",
       "  <tbody>\n",
       "    <tr>\n",
       "      <th>0</th>\n",
       "      <td>rank_effective</td>\n",
       "      <td>session</td>\n",
       "      <td>mvg_8</td>\n",
       "      <td>PRE</td>\n",
       "      <td>bn_trial</td>\n",
       "      <td>dset2620</td>\n",
       "      <td>None</td>\n",
       "      <td>naive</td>\n",
       "      <td>None</td>\n",
       "    </tr>\n",
       "    <tr>\n",
       "      <th>0</th>\n",
       "      <td>rank_effective</td>\n",
       "      <td>session</td>\n",
       "      <td>mvg_4</td>\n",
       "      <td>PRE</td>\n",
       "      <td>bn_trial</td>\n",
       "      <td>dset2662</td>\n",
       "      <td>None</td>\n",
       "      <td>naive</td>\n",
       "      <td>None</td>\n",
       "    </tr>\n",
       "    <tr>\n",
       "      <th>0</th>\n",
       "      <td>rank_effective</td>\n",
       "      <td>session</td>\n",
       "      <td>mvg_7</td>\n",
       "      <td>PRE</td>\n",
       "      <td>bn_trial</td>\n",
       "      <td>dset2705</td>\n",
       "      <td>None</td>\n",
       "      <td>naive</td>\n",
       "      <td>None</td>\n",
       "    </tr>\n",
       "    <tr>\n",
       "      <th>0</th>\n",
       "      <td>rank_effective</td>\n",
       "      <td>session</td>\n",
       "      <td>mvg_9</td>\n",
       "      <td>PRE</td>\n",
       "      <td>bn_trial</td>\n",
       "      <td>dset2750</td>\n",
       "      <td>None</td>\n",
       "      <td>naive</td>\n",
       "      <td>None</td>\n",
       "    </tr>\n",
       "    <tr>\n",
       "      <th>0</th>\n",
       "      <td>rank_effective</td>\n",
       "      <td>session</td>\n",
       "      <td>mvg_8</td>\n",
       "      <td>TEX</td>\n",
       "      <td>bn_trial</td>\n",
       "      <td>dset2794</td>\n",
       "      <td>None</td>\n",
       "      <td>naive</td>\n",
       "      <td>None</td>\n",
       "    </tr>\n",
       "  </tbody>\n",
       "</table>\n",
       "</div>"
      ],
      "text/plain": [
       "           metric     name mousename cropTime  datatype      dset trialType  \\\n",
       "0  rank_effective  session     mvg_8      PRE  bn_trial  dset2620      None   \n",
       "0  rank_effective  session     mvg_4      PRE  bn_trial  dset2662      None   \n",
       "0  rank_effective  session     mvg_7      PRE  bn_trial  dset2705      None   \n",
       "0  rank_effective  session     mvg_9      PRE  bn_trial  dset2750      None   \n",
       "0  rank_effective  session     mvg_8      TEX  bn_trial  dset2794      None   \n",
       "\n",
       "  performance zscoreDim  \n",
       "0       naive      None  \n",
       "0       naive      None  \n",
       "0       naive      None  \n",
       "0       naive      None  \n",
       "0       naive      None  "
      ]
     },
     "metadata": {},
     "output_type": "display_data"
    },
    {
     "name": "stdout",
     "output_type": "stream",
     "text": [
      "p-value annotation legend:\n",
      "ns: 5.00e-02 < p <= 1.00e+00\n",
      "*: 1.00e-02 < p <= 5.00e-02\n",
      "**: 1.00e-03 < p <= 1.00e-02\n",
      "***: 1.00e-04 < p <= 1.00e-03\n",
      "****: p <= 1.00e-04\n",
      "\n",
      "mvg_7_iNOGO v.s. mvg_7_iGO: t-test independent samples with Bonferroni correction, P_val=7.890e-03 stat=-3.426e+00\n",
      "mvg_4_iNOGO v.s. mvg_4_iGO: t-test independent samples with Bonferroni correction, P_val=3.668e-01 stat=-1.772e+00\n",
      "mvg_8_iNOGO v.s. mvg_8_iGO: t-test independent samples with Bonferroni correction, P_val=3.058e-01 stat=-1.855e+00\n",
      "mvg_9_iNOGO v.s. mvg_9_iGO: t-test independent samples with Bonferroni correction, P_val=1.000e+00 stat=-4.620e-01\n"
     ]
    },
    {
     "data": {
      "text/html": [
       "<div>\n",
       "<style scoped>\n",
       "    .dataframe tbody tr th:only-of-type {\n",
       "        vertical-align: middle;\n",
       "    }\n",
       "\n",
       "    .dataframe tbody tr th {\n",
       "        vertical-align: top;\n",
       "    }\n",
       "\n",
       "    .dataframe thead th {\n",
       "        text-align: right;\n",
       "    }\n",
       "</style>\n",
       "<table border=\"1\" class=\"dataframe\">\n",
       "  <thead>\n",
       "    <tr style=\"text-align: right;\">\n",
       "      <th></th>\n",
       "      <th>metric</th>\n",
       "      <th>name</th>\n",
       "      <th>mousename</th>\n",
       "      <th>cropTime</th>\n",
       "      <th>datatype</th>\n",
       "      <th>dset</th>\n",
       "      <th>trialType</th>\n",
       "      <th>performance</th>\n",
       "      <th>zscoreDim</th>\n",
       "    </tr>\n",
       "  </thead>\n",
       "  <tbody>\n",
       "    <tr>\n",
       "      <th>0</th>\n",
       "      <td>rank_effective</td>\n",
       "      <td>session</td>\n",
       "      <td>mvg_8</td>\n",
       "      <td>PRE</td>\n",
       "      <td>raw</td>\n",
       "      <td>dset2629</td>\n",
       "      <td>None</td>\n",
       "      <td>None</td>\n",
       "      <td>rs</td>\n",
       "    </tr>\n",
       "    <tr>\n",
       "      <th>0</th>\n",
       "      <td>rank_effective</td>\n",
       "      <td>session</td>\n",
       "      <td>mvg_4</td>\n",
       "      <td>PRE</td>\n",
       "      <td>raw</td>\n",
       "      <td>dset2671</td>\n",
       "      <td>None</td>\n",
       "      <td>None</td>\n",
       "      <td>rs</td>\n",
       "    </tr>\n",
       "    <tr>\n",
       "      <th>0</th>\n",
       "      <td>rank_effective</td>\n",
       "      <td>session</td>\n",
       "      <td>mvg_7</td>\n",
       "      <td>PRE</td>\n",
       "      <td>raw</td>\n",
       "      <td>dset2715</td>\n",
       "      <td>None</td>\n",
       "      <td>None</td>\n",
       "      <td>rs</td>\n",
       "    </tr>\n",
       "    <tr>\n",
       "      <th>0</th>\n",
       "      <td>rank_effective</td>\n",
       "      <td>session</td>\n",
       "      <td>mvg_9</td>\n",
       "      <td>PRE</td>\n",
       "      <td>raw</td>\n",
       "      <td>dset2760</td>\n",
       "      <td>None</td>\n",
       "      <td>None</td>\n",
       "      <td>rs</td>\n",
       "    </tr>\n",
       "    <tr>\n",
       "      <th>0</th>\n",
       "      <td>rank_effective</td>\n",
       "      <td>session</td>\n",
       "      <td>mvg_8</td>\n",
       "      <td>TEX</td>\n",
       "      <td>raw</td>\n",
       "      <td>dset2803</td>\n",
       "      <td>None</td>\n",
       "      <td>None</td>\n",
       "      <td>rs</td>\n",
       "    </tr>\n",
       "  </tbody>\n",
       "</table>\n",
       "</div>"
      ],
      "text/plain": [
       "           metric     name mousename cropTime datatype      dset trialType  \\\n",
       "0  rank_effective  session     mvg_8      PRE      raw  dset2629      None   \n",
       "0  rank_effective  session     mvg_4      PRE      raw  dset2671      None   \n",
       "0  rank_effective  session     mvg_7      PRE      raw  dset2715      None   \n",
       "0  rank_effective  session     mvg_9      PRE      raw  dset2760      None   \n",
       "0  rank_effective  session     mvg_8      TEX      raw  dset2803      None   \n",
       "\n",
       "  performance zscoreDim  \n",
       "0        None        rs  \n",
       "0        None        rs  \n",
       "0        None        rs  \n",
       "0        None        rs  \n",
       "0        None        rs  "
      ]
     },
     "metadata": {},
     "output_type": "display_data"
    },
    {
     "name": "stdout",
     "output_type": "stream",
     "text": [
      "p-value annotation legend:\n",
      "ns: 5.00e-02 < p <= 1.00e+00\n",
      "*: 1.00e-02 < p <= 5.00e-02\n",
      "**: 1.00e-03 < p <= 1.00e-02\n",
      "***: 1.00e-04 < p <= 1.00e-03\n",
      "****: p <= 1.00e-04\n",
      "\n",
      "mvg_7_iGO v.s. mvg_7_iNOGO: t-test independent samples with Bonferroni correction, P_val=8.515e-01 stat=1.480e+00\n",
      "mvg_4_iGO v.s. mvg_4_iNOGO: t-test independent samples with Bonferroni correction, P_val=1.000e+00 stat=1.087e+00\n",
      "mvg_8_iGO v.s. mvg_8_iNOGO: t-test independent samples with Bonferroni correction, P_val=6.259e-01 stat=1.487e+00\n",
      "mvg_9_iGO v.s. mvg_9_iNOGO: t-test independent samples with Bonferroni correction, P_val=1.000e+00 stat=7.155e-01\n"
     ]
    },
    {
     "data": {
      "text/html": [
       "<div>\n",
       "<style scoped>\n",
       "    .dataframe tbody tr th:only-of-type {\n",
       "        vertical-align: middle;\n",
       "    }\n",
       "\n",
       "    .dataframe tbody tr th {\n",
       "        vertical-align: top;\n",
       "    }\n",
       "\n",
       "    .dataframe thead th {\n",
       "        text-align: right;\n",
       "    }\n",
       "</style>\n",
       "<table border=\"1\" class=\"dataframe\">\n",
       "  <thead>\n",
       "    <tr style=\"text-align: right;\">\n",
       "      <th></th>\n",
       "      <th>metric</th>\n",
       "      <th>name</th>\n",
       "      <th>mousename</th>\n",
       "      <th>cropTime</th>\n",
       "      <th>datatype</th>\n",
       "      <th>dset</th>\n",
       "      <th>trialType</th>\n",
       "      <th>performance</th>\n",
       "      <th>zscoreDim</th>\n",
       "    </tr>\n",
       "  </thead>\n",
       "  <tbody>\n",
       "    <tr>\n",
       "      <th>0</th>\n",
       "      <td>rank_effective</td>\n",
       "      <td>session</td>\n",
       "      <td>mvg_8</td>\n",
       "      <td>PRE</td>\n",
       "      <td>raw</td>\n",
       "      <td>dset2639</td>\n",
       "      <td>None</td>\n",
       "      <td>expert</td>\n",
       "      <td>rs</td>\n",
       "    </tr>\n",
       "    <tr>\n",
       "      <th>0</th>\n",
       "      <td>rank_effective</td>\n",
       "      <td>session</td>\n",
       "      <td>mvg_4</td>\n",
       "      <td>PRE</td>\n",
       "      <td>raw</td>\n",
       "      <td>dset2681</td>\n",
       "      <td>None</td>\n",
       "      <td>expert</td>\n",
       "      <td>rs</td>\n",
       "    </tr>\n",
       "    <tr>\n",
       "      <th>0</th>\n",
       "      <td>rank_effective</td>\n",
       "      <td>session</td>\n",
       "      <td>mvg_7</td>\n",
       "      <td>PRE</td>\n",
       "      <td>raw</td>\n",
       "      <td>dset2725</td>\n",
       "      <td>None</td>\n",
       "      <td>expert</td>\n",
       "      <td>rs</td>\n",
       "    </tr>\n",
       "    <tr>\n",
       "      <th>0</th>\n",
       "      <td>rank_effective</td>\n",
       "      <td>session</td>\n",
       "      <td>mvg_9</td>\n",
       "      <td>PRE</td>\n",
       "      <td>raw</td>\n",
       "      <td>dset2770</td>\n",
       "      <td>None</td>\n",
       "      <td>expert</td>\n",
       "      <td>rs</td>\n",
       "    </tr>\n",
       "    <tr>\n",
       "      <th>0</th>\n",
       "      <td>rank_effective</td>\n",
       "      <td>session</td>\n",
       "      <td>mvg_8</td>\n",
       "      <td>TEX</td>\n",
       "      <td>raw</td>\n",
       "      <td>dset2813</td>\n",
       "      <td>None</td>\n",
       "      <td>expert</td>\n",
       "      <td>rs</td>\n",
       "    </tr>\n",
       "  </tbody>\n",
       "</table>\n",
       "</div>"
      ],
      "text/plain": [
       "           metric     name mousename cropTime datatype      dset trialType  \\\n",
       "0  rank_effective  session     mvg_8      PRE      raw  dset2639      None   \n",
       "0  rank_effective  session     mvg_4      PRE      raw  dset2681      None   \n",
       "0  rank_effective  session     mvg_7      PRE      raw  dset2725      None   \n",
       "0  rank_effective  session     mvg_9      PRE      raw  dset2770      None   \n",
       "0  rank_effective  session     mvg_8      TEX      raw  dset2813      None   \n",
       "\n",
       "  performance zscoreDim  \n",
       "0      expert        rs  \n",
       "0      expert        rs  \n",
       "0      expert        rs  \n",
       "0      expert        rs  \n",
       "0      expert        rs  "
      ]
     },
     "metadata": {},
     "output_type": "display_data"
    },
    {
     "name": "stdout",
     "output_type": "stream",
     "text": [
      "p-value annotation legend:\n",
      "ns: 5.00e-02 < p <= 1.00e+00\n",
      "*: 1.00e-02 < p <= 5.00e-02\n",
      "**: 1.00e-03 < p <= 1.00e-02\n",
      "***: 1.00e-04 < p <= 1.00e-03\n",
      "****: p <= 1.00e-04\n",
      "\n",
      "mvg_7_iNOGO v.s. mvg_7_iGO: t-test independent samples with Bonferroni correction, P_val=2.783e-02 stat=-2.991e+00\n",
      "mvg_4_iNOGO v.s. mvg_4_iGO: t-test independent samples with Bonferroni correction, P_val=2.902e-01 stat=-2.067e+00\n",
      "mvg_8_iNOGO v.s. mvg_8_iGO: t-test independent samples with Bonferroni correction, P_val=1.000e+00 stat=-9.569e-01\n",
      "mvg_9_iNOGO v.s. mvg_9_iGO: t-test independent samples with Bonferroni correction, P_val=1.000e+00 stat=7.083e-02\n"
     ]
    },
    {
     "data": {
      "text/html": [
       "<div>\n",
       "<style scoped>\n",
       "    .dataframe tbody tr th:only-of-type {\n",
       "        vertical-align: middle;\n",
       "    }\n",
       "\n",
       "    .dataframe tbody tr th {\n",
       "        vertical-align: top;\n",
       "    }\n",
       "\n",
       "    .dataframe thead th {\n",
       "        text-align: right;\n",
       "    }\n",
       "</style>\n",
       "<table border=\"1\" class=\"dataframe\">\n",
       "  <thead>\n",
       "    <tr style=\"text-align: right;\">\n",
       "      <th></th>\n",
       "      <th>metric</th>\n",
       "      <th>name</th>\n",
       "      <th>mousename</th>\n",
       "      <th>cropTime</th>\n",
       "      <th>datatype</th>\n",
       "      <th>dset</th>\n",
       "      <th>trialType</th>\n",
       "      <th>performance</th>\n",
       "      <th>zscoreDim</th>\n",
       "    </tr>\n",
       "  </thead>\n",
       "  <tbody>\n",
       "    <tr>\n",
       "      <th>0</th>\n",
       "      <td>rank_effective</td>\n",
       "      <td>session</td>\n",
       "      <td>mvg_8</td>\n",
       "      <td>PRE</td>\n",
       "      <td>raw</td>\n",
       "      <td>dset2634</td>\n",
       "      <td>None</td>\n",
       "      <td>naive</td>\n",
       "      <td>rs</td>\n",
       "    </tr>\n",
       "    <tr>\n",
       "      <th>0</th>\n",
       "      <td>rank_effective</td>\n",
       "      <td>session</td>\n",
       "      <td>mvg_4</td>\n",
       "      <td>PRE</td>\n",
       "      <td>raw</td>\n",
       "      <td>dset2676</td>\n",
       "      <td>None</td>\n",
       "      <td>naive</td>\n",
       "      <td>rs</td>\n",
       "    </tr>\n",
       "    <tr>\n",
       "      <th>0</th>\n",
       "      <td>rank_effective</td>\n",
       "      <td>session</td>\n",
       "      <td>mvg_7</td>\n",
       "      <td>PRE</td>\n",
       "      <td>raw</td>\n",
       "      <td>dset2720</td>\n",
       "      <td>None</td>\n",
       "      <td>naive</td>\n",
       "      <td>rs</td>\n",
       "    </tr>\n",
       "    <tr>\n",
       "      <th>0</th>\n",
       "      <td>rank_effective</td>\n",
       "      <td>session</td>\n",
       "      <td>mvg_9</td>\n",
       "      <td>PRE</td>\n",
       "      <td>raw</td>\n",
       "      <td>dset2765</td>\n",
       "      <td>None</td>\n",
       "      <td>naive</td>\n",
       "      <td>rs</td>\n",
       "    </tr>\n",
       "    <tr>\n",
       "      <th>0</th>\n",
       "      <td>rank_effective</td>\n",
       "      <td>session</td>\n",
       "      <td>mvg_8</td>\n",
       "      <td>TEX</td>\n",
       "      <td>raw</td>\n",
       "      <td>dset2808</td>\n",
       "      <td>None</td>\n",
       "      <td>naive</td>\n",
       "      <td>rs</td>\n",
       "    </tr>\n",
       "  </tbody>\n",
       "</table>\n",
       "</div>"
      ],
      "text/plain": [
       "           metric     name mousename cropTime datatype      dset trialType  \\\n",
       "0  rank_effective  session     mvg_8      PRE      raw  dset2634      None   \n",
       "0  rank_effective  session     mvg_4      PRE      raw  dset2676      None   \n",
       "0  rank_effective  session     mvg_7      PRE      raw  dset2720      None   \n",
       "0  rank_effective  session     mvg_9      PRE      raw  dset2765      None   \n",
       "0  rank_effective  session     mvg_8      TEX      raw  dset2808      None   \n",
       "\n",
       "  performance zscoreDim  \n",
       "0       naive        rs  \n",
       "0       naive        rs  \n",
       "0       naive        rs  \n",
       "0       naive        rs  \n",
       "0       naive        rs  "
      ]
     },
     "metadata": {},
     "output_type": "display_data"
    }
   ],
   "source": [
    "bulk_metrics.barplot_conditions(ds, 'rank_effective', 'session', verbose=True, trialTypes=['iGO', 'iNOGO'])"
   ]
  },
  {
   "cell_type": "markdown",
   "metadata": {},
   "source": [
    "## Hierarchical\n",
    "\n",
    "**TODO**:\n",
    "* Add composite selectors for metric helper\n",
    "   - trialType = iGO & iNOGO\n",
    "   - cropTime = TEX & REW"
   ]
  },
  {
   "cell_type": "code",
   "execution_count": null,
   "metadata": {},
   "outputs": [],
   "source": [
    "intervDict = {\n",
    "    'PRE' : (-2.0, 0.0),\n",
    "    'TEX' : (3.0, 3.5),\n",
    "    'REW' : (6.0, 6.5)\n",
    "}\n",
    "for intervName, interv in intervDict.items():\n",
    "    bulk_metrics.metric_mouse_bulk(dataDB, mc, ds, \"rank_effective\", '', 'flat', verbose=False,\n",
    "                                   trialTypeNames='auto',\n",
    "                                   perfNames='auto',\n",
    "                                   cropTime=(intervName, interv))"
   ]
  },
  {
   "cell_type": "code",
   "execution_count": null,
   "metadata": {},
   "outputs": [],
   "source": [
    "df = ds.list_dsets_pd()\n",
    "df = df[df['name'] == 'flat']"
   ]
  },
  {
   "cell_type": "code",
   "execution_count": null,
   "metadata": {},
   "outputs": [],
   "source": [
    "data = [np.round(ds.get_data(dset), 2) for dset in df['dset']]\n",
    "df['rez'] = data"
   ]
  },
  {
   "cell_type": "code",
   "execution_count": null,
   "metadata": {},
   "outputs": [],
   "source": [
    "df.drop(['datetime', 'zscoreDim', 'dset', 'metric', 'name', 'shape', 'target_dim'], axis=1, inplace=True)"
   ]
  },
  {
   "cell_type": "code",
   "execution_count": null,
   "metadata": {},
   "outputs": [],
   "source": [
    "from mesostat.utils.pandas_helper import pd_category_to_column"
   ]
  },
  {
   "cell_type": "code",
   "execution_count": null,
   "metadata": {},
   "outputs": [],
   "source": [
    "index = list(set(df.columns) - {'mousename', 'rez'})\n",
    "dfMouse = df.pivot(index=index, columns='mousename', values='rez').reset_index()"
   ]
  },
  {
   "cell_type": "code",
   "execution_count": null,
   "metadata": {
    "scrolled": true
   },
   "outputs": [],
   "source": [
    "dfMouse[dfMouse['datatype'] == 'bn_trial']"
   ]
  },
  {
   "cell_type": "markdown",
   "metadata": {},
   "source": [
    "# Total Correlation"
   ]
  },
  {
   "cell_type": "code",
   "execution_count": null,
   "metadata": {},
   "outputs": [],
   "source": [
    "# bulk_metrics.metric_mouse_bulk(dataDB, mc, ds, \"avg_entropy\", 'sp', 'time-channel', verbose=False)\n",
    "# bulk_metrics.metric_mouse_bulk(dataDB, mc, ds, \"avg_entropy\", 's', 'time', verbose=False)\n",
    "\n",
    "bulk_metrics.metric_mouse_bulk(dataDB, mc, ds, \"avg_TC\", 's', 'time', verbose=False)"
   ]
  },
  {
   "cell_type": "code",
   "execution_count": null,
   "metadata": {
    "scrolled": true
   },
   "outputs": [],
   "source": [
    "bulk_metrics.plot_metric_bulk(dataDB, ds, 'avg_TC', 'time', verbose=True) # ylim=[1,48]"
   ]
  },
  {
   "cell_type": "code",
   "execution_count": null,
   "metadata": {
    "scrolled": true
   },
   "outputs": [],
   "source": [
    "bulk_metrics.plot_TC(dataDB, ds, ylim=None, yscale=None, verbose=True)"
   ]
  },
  {
   "cell_type": "markdown",
   "metadata": {},
   "source": [
    "### Cleaning up"
   ]
  },
  {
   "cell_type": "code",
   "execution_count": null,
   "metadata": {},
   "outputs": [],
   "source": [
    "with pd.option_context('display.max_rows', None, 'display.max_columns', None):\n",
    "    display(ds.list_dsets_pd().sort_values(by='datetime'))"
   ]
  },
  {
   "cell_type": "code",
   "execution_count": null,
   "metadata": {},
   "outputs": [],
   "source": [
    "ds.delete_by_query(queryDict={\"metric\" : \"rank_effective\"}, timestr=\"2020-11-20 18:00:00\")"
   ]
  },
  {
   "cell_type": "code",
   "execution_count": null,
   "metadata": {},
   "outputs": [],
   "source": []
  }
 ],
 "metadata": {
  "kernelspec": {
   "display_name": "py3ml",
   "language": "python",
   "name": "py3ml"
  },
  "language_info": {
   "codemirror_mode": {
    "name": "ipython",
    "version": 3
   },
   "file_extension": ".py",
   "mimetype": "text/x-python",
   "name": "python",
   "nbconvert_exporter": "python",
   "pygments_lexer": "ipython3",
   "version": "3.8.5"
  }
 },
 "nbformat": 4,
 "nbformat_minor": 2
}

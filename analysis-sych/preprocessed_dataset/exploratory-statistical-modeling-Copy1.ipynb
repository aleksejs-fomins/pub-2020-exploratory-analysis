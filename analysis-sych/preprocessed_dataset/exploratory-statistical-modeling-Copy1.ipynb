{
 "cells": [
  {
   "cell_type": "code",
   "execution_count": null,
   "metadata": {},
   "outputs": [],
   "source": [
    "# Standard libraries\n",
    "import numpy as np\n",
    "import pandas as pd\n",
    "import matplotlib.pyplot as plt\n",
    "from ipywidgets import IntProgress\n",
    "from IPython.display import display\n",
    "\n",
    "import statsmodels.api as sm\n",
    "from statsmodels.formula.api import ols\n",
    "\n",
    "# Append base directory\n",
    "import os,sys,inspect\n",
    "rootname = \"pub-2020-exploratory-analysis\"\n",
    "thispath = os.path.dirname(os.path.abspath(inspect.getfile(inspect.currentframe())))\n",
    "rootpath = os.path.join(thispath[:thispath.index(rootname)], rootname)\n",
    "sys.path.append(rootpath)\n",
    "print(\"Appended root directory\", rootpath)\n",
    "\n",
    "from mesostat.utils.qt_helper import gui_fnames, gui_fpath\n",
    "\n",
    "from lib.sych.data_fc_db_raw import DataFCDatabase\n",
    "import lib.analysis.model_based_analysis as mba\n",
    "\n",
    "%load_ext autoreload\n",
    "%autoreload 2"
   ]
  },
  {
   "cell_type": "code",
   "execution_count": null,
   "metadata": {},
   "outputs": [],
   "source": [
    "# tmp_path = root_path_data if 'root_path_data' in locals() else \"./\"\n",
    "params = {}\n",
    "# params['root_path_data'] = './'\n",
    "params['root_path_data'] = '/media/alyosha/Data/TE_data/yarodata/sych_preprocessed'\n",
    "# params['root_path_data'] = gui_fpath('h5path', './')"
   ]
  },
  {
   "cell_type": "code",
   "execution_count": null,
   "metadata": {},
   "outputs": [],
   "source": [
    "dataDB = DataFCDatabase(params)"
   ]
  },
  {
   "cell_type": "code",
   "execution_count": null,
   "metadata": {},
   "outputs": [],
   "source": [
    "print(dataDB.mice)\n",
    "print(dataDB.dataTypes)\n",
    "print(dataDB.trialTypeNames)"
   ]
  },
  {
   "cell_type": "markdown",
   "metadata": {},
   "source": [
    "# Model-Based Analysis\n",
    "\n",
    "* Precond:\n",
    "    - Drop 2nd order poly\n",
    "\n",
    "* Linear models\n",
    "    - AR(1)-Ridge\n",
    "    - MAR(1)-Ridge\n",
    "    - HAR-Ridge\n",
    "    - Phases (PRE/TEX/REW/NONE)\n",
    "    - HAR-Reward (Last, Last 3, Last 10)\n",
    "    - Behaviour Fitting (Whisk/Lick)\n",
    "\n",
    "* Nonlinear Models\n",
    "    \n",
    "* Hidden Variable Models\n",
    "    - Think of accumulators like HGF, maybe sth even simpler\n",
    "\n",
    "* Performance measures\n",
    "    - L2\n",
    "    - AIC/BIC/BF\n",
    "    - R2/Cross-validation\n",
    "    - Cross-temporal-correlation across sessions\n",
    "    \n",
    "**TODO**:\n",
    "* Find or compute non-selected trials (too large or too short)\n",
    "* Preprocess session data by setting non-selected trials to NAN\n",
    "* Write function to extract all timepoints of relevant trials"
   ]
  },
  {
   "cell_type": "code",
   "execution_count": null,
   "metadata": {
    "scrolled": false
   },
   "outputs": [],
   "source": [
    "sessions = dataDB.get_sessions('mvg_4')\n",
    "sessions"
   ]
  },
  {
   "cell_type": "markdown",
   "metadata": {},
   "source": [
    "## Step 1. Preprocessing"
   ]
  },
  {
   "cell_type": "code",
   "execution_count": null,
   "metadata": {},
   "outputs": [],
   "source": [
    "data, trialStartIdxs, interTrialStartIdxs, fps, trialTypes = dataDB.get_data_raw('mvg_4_2017_11_10_a')"
   ]
  },
  {
   "cell_type": "code",
   "execution_count": null,
   "metadata": {},
   "outputs": [],
   "source": [
    "data = data[:, :48]"
   ]
  },
  {
   "cell_type": "code",
   "execution_count": null,
   "metadata": {},
   "outputs": [],
   "source": [
    "# Find trials with optogenetic manipulation\n",
    "trialIdxsOptogen = mba.optogen_trial_idxs(data, trialStartIdxs, fps)"
   ]
  },
  {
   "cell_type": "code",
   "execution_count": null,
   "metadata": {},
   "outputs": [],
   "source": [
    "trialStartIdxsSelected = trialStartIdxs[~trialIdxsOptogen]"
   ]
  },
  {
   "cell_type": "code",
   "execution_count": null,
   "metadata": {},
   "outputs": [],
   "source": [
    "# Set undesirable trials to NAN\n",
    "data = mba.set_trials_nan(data, trialIdxsOptogen, trialStartIdxs, fps)"
   ]
  },
  {
   "cell_type": "code",
   "execution_count": null,
   "metadata": {},
   "outputs": [],
   "source": [
    "nTimeStep = len(data)\n",
    "times = np.arange(nTimeStep) / fps\n",
    "labels = dataDB.get_channel_labels()"
   ]
  },
  {
   "cell_type": "code",
   "execution_count": null,
   "metadata": {},
   "outputs": [],
   "source": [
    "dataFitted, dataDFF = mba.dff_poly(times, data, 3)"
   ]
  },
  {
   "cell_type": "code",
   "execution_count": null,
   "metadata": {
    "scrolled": false
   },
   "outputs": [],
   "source": [
    "%matplotlib notebook\n",
    "mba.plot_fitted_data(times, data, dataFitted, dataDFF, 34, labels)"
   ]
  },
  {
   "cell_type": "code",
   "execution_count": null,
   "metadata": {
    "scrolled": true
   },
   "outputs": [],
   "source": [
    "%matplotlib inline\n",
    "for iCh in range(48):\n",
    "    mba.plot_fitted_data(times, data, dataFitted, dataDFF, iCh, labels)"
   ]
  },
  {
   "cell_type": "markdown",
   "metadata": {},
   "source": [
    "## 0. Baseline"
   ]
  },
  {
   "cell_type": "code",
   "execution_count": null,
   "metadata": {},
   "outputs": [],
   "source": [
    "idxsTrg = mba.get_trial_timestep_indices(trialStartIdxsSelected, fps)\n",
    "dataTrg = dataDFF[idxsTrg]"
   ]
  },
  {
   "cell_type": "code",
   "execution_count": null,
   "metadata": {},
   "outputs": [],
   "source": [
    "%matplotlib inline\n",
    "mba.plot_rmse_bychannel(dataTrg, {'baseline': np.zeros(dataTrg.shape)})"
   ]
  },
  {
   "cell_type": "markdown",
   "metadata": {},
   "source": [
    "## 1. AR(1) Model"
   ]
  },
  {
   "cell_type": "code",
   "execution_count": null,
   "metadata": {},
   "outputs": [],
   "source": [
    "dataSrcAr1 = mba.get_src_ar1(dataDFF, idxsTrg)\n",
    "dataTrgAr1 = mba.fit_predict_bychannel(dataSrcAr1, dataTrg)"
   ]
  },
  {
   "cell_type": "code",
   "execution_count": null,
   "metadata": {},
   "outputs": [],
   "source": [
    "mba.plot_rmse_bychannel(dataTrg, {'ar(1)':dataTrgAr1}, haveLog=False)"
   ]
  },
  {
   "cell_type": "code",
   "execution_count": null,
   "metadata": {},
   "outputs": [],
   "source": [
    "plt.figure()\n",
    "plt.plot(np.arange(len(dataSrcAr1))[:200] / 20, dataSrcAr1[:200, 37], label='raw')\n",
    "plt.plot(np.arange(len(dataSrcAr1))[:200] / 20, dataTrgAr1[:200, 37], label='ar(1)')\n",
    "plt.legend()\n",
    "plt.show()"
   ]
  },
  {
   "cell_type": "markdown",
   "metadata": {},
   "source": [
    "# 2. HAR Model"
   ]
  },
  {
   "cell_type": "code",
   "execution_count": null,
   "metadata": {},
   "outputs": [],
   "source": [
    "dataSrcHAR = mba.get_src_har(dataDFF, idxsTrg, [160, 3*160])"
   ]
  },
  {
   "cell_type": "code",
   "execution_count": null,
   "metadata": {
    "scrolled": true
   },
   "outputs": [],
   "source": [
    "dataTrgHAR = mba.fit_predict_bychannel(dataSrcHAR, dataTrg, alpha=0.01)\n",
    "\n",
    "mba.plot_rmse_bychannel(dataTrg,\n",
    "                        {\n",
    "                            'ar(1)'   : dataTrgAr1,\n",
    "                            'HAR'     : dataTrgHAR,\n",
    "                        }, haveLog=True)"
   ]
  },
  {
   "cell_type": "markdown",
   "metadata": {},
   "source": [
    "## 3. MAR(1) Model"
   ]
  },
  {
   "cell_type": "code",
   "execution_count": null,
   "metadata": {},
   "outputs": [],
   "source": [
    "dataTrgMAR1 = mba.fit_predict_multivar_bychannel(dataSrcAr1, dataTrg, 0.0001)"
   ]
  },
  {
   "cell_type": "code",
   "execution_count": null,
   "metadata": {},
   "outputs": [],
   "source": [
    "mba.plot_rmse_bychannel(dataTrg,\n",
    "                        {\n",
    "                            'ar(1)'   : dataTrgAr1,\n",
    "                            'mar(1)'  : dataTrgMAR1,\n",
    "                        }, haveLog=True)"
   ]
  },
  {
   "cell_type": "code",
   "execution_count": null,
   "metadata": {},
   "outputs": [],
   "source": [
    "from mesostat.utils.pandas_helper import pd_append_row"
   ]
  },
  {
   "cell_type": "code",
   "execution_count": null,
   "metadata": {},
   "outputs": [],
   "source": [
    "labels = dataDB.get_channel_labels()\n",
    "df = pd.DataFrame(columns=['mousename', 'session', 'method'] + labels)"
   ]
  },
  {
   "cell_type": "code",
   "execution_count": null,
   "metadata": {
    "scrolled": true
   },
   "outputs": [],
   "source": [
    "for mousename in dataDB.mice:\n",
    "    for session in dataDB.get_sessions(mousename):\n",
    "        if session not in list(df['session']):\n",
    "            print(mousename, session)\n",
    "            data, trialStartIdxs, interTrialStartIdxs, fps, trialTypes = dataDB.get_data_raw(session)\n",
    "            data = data[:, :48]\n",
    "\n",
    "            # Find trials with optogenetic manipulation\n",
    "            trialIdxsOptogen = mba.optogen_trial_idxs(data, trialStartIdxs, fps)\n",
    "\n",
    "            trialStartIdxsSelected = trialStartIdxs[~trialIdxsOptogen]\n",
    "\n",
    "            # Set undesirable trials to NAN\n",
    "            data = mba.set_trials_nan(data, trialIdxsOptogen, trialStartIdxs, fps)\n",
    "\n",
    "            nTimeStep = len(data)\n",
    "            times = np.arange(nTimeStep) / fps\n",
    "\n",
    "            dataFitted, dataDFF = mba.dff_poly(times, data, 3)\n",
    "\n",
    "\n",
    "            idxsTrg = mba.get_trial_timestep_indices(trialStartIdxsSelected, fps)\n",
    "            dataTrg = dataDFF[idxsTrg]\n",
    "\n",
    "            L2 = mba.rms(dataTrg, axis=0)\n",
    "\n",
    "            # AR(1)\n",
    "            print('AR(1)')\n",
    "            dataSrcAr1 = mba.get_src_ar1(dataDFF, idxsTrg)\n",
    "            dataTrgAr1 = mba.fit_predict_bychannel(dataSrcAr1, dataTrg)\n",
    "            relRmsAr1 = mba.rms(dataTrgAr1 - dataTrg, axis=0) / L2\n",
    "            df = pd_append_row(df, [mousename, session, 'ar(1)'] + list(relRmsAr1))\n",
    "\n",
    "            print('HAR')\n",
    "            dataSrcHAR = mba.get_src_har(dataDFF, idxsTrg, [160, 3*160])\n",
    "            dataTrgHAR = mba.fit_predict_bychannel(dataSrcHAR, dataTrg, alpha=0.01)\n",
    "            relRmsHAR = mba.rms(dataTrgHAR - dataTrg, axis=0) / L2\n",
    "            df = pd_append_row(df, [mousename, session, 'har'] + list(relRmsHAR))\n",
    "\n",
    "            print('MAR(1)')\n",
    "            dataTrgMAR1 = mba.fit_predict_multivar_bychannel(dataSrcAr1, dataTrg, 0.0001)\n",
    "            relRmsMAR1 = mba.rms(dataTrgMAR1 - dataTrg, axis=0) / L2\n",
    "            df = pd_append_row(df, [mousename, session, 'mar(1)'] + list(relRmsMAR1))"
   ]
  },
  {
   "cell_type": "code",
   "execution_count": null,
   "metadata": {},
   "outputs": [],
   "source": []
  },
  {
   "cell_type": "code",
   "execution_count": null,
   "metadata": {},
   "outputs": [],
   "source": [
    "labels = dataDB.get_channel_labels()\n",
    "df = pd.DataFrame(columns=['mousename', 'session', 'trialType', 'method'] + labels)"
   ]
  },
  {
   "cell_type": "code",
   "execution_count": null,
   "metadata": {
    "scrolled": true
   },
   "outputs": [],
   "source": [
    "for mousename in dataDB.mice:\n",
    "    for session in dataDB.get_sessions(mousename):\n",
    "        if session not in list(df['session']):\n",
    "            data, trialStartIdxs, interTrialStartIdxs, fps, trialTypes = dataDB.get_data_raw(session)\n",
    "            data = data[:, :48]\n",
    "\n",
    "            # Find trials with optogenetic manipulation\n",
    "            trialIdxsOptogen = mba.optogen_trial_idxs(data, trialStartIdxs, fps)\n",
    "            \n",
    "            for trialType in [None, 'iGO', 'iNOGO', 'iMISS', 'iFA']:\n",
    "                trialIdxsType = trialTypes == trialType if trialType is not None else np.ones(len(trialTypes))\n",
    "                trialIdxsSelected = np.logical_and(trialIdxsType, ~trialIdxsOptogen)\n",
    "                \n",
    "                \n",
    "                nTrialThis = np.sum(trialIdxsSelected)\n",
    "                print(mousename, session, trialType, nTrialThis)\n",
    "                if nTrialThis < 40:\n",
    "                    print('-- Too few trials, skipping')\n",
    "                    continue\n",
    "                \n",
    "                \n",
    "                trialStartIdxsSelected = trialStartIdxs[trialIdxsSelected]\n",
    "\n",
    "                # Set undesirable trials to NAN\n",
    "                data = mba.set_trials_nan(data, trialIdxsOptogen, trialStartIdxs, fps)\n",
    "\n",
    "                nTimeStep = len(data)\n",
    "                times = np.arange(nTimeStep) / fps\n",
    "\n",
    "                dataFitted, dataDFF = mba.dff_poly(times, data, 3)\n",
    "\n",
    "\n",
    "                idxsTrg = mba.get_trial_timestep_indices(trialStartIdxsSelected, fps)\n",
    "                dataTrg = dataDFF[idxsTrg]\n",
    "\n",
    "                L2 = mba.rms(dataTrg, axis=0)\n",
    "\n",
    "                # AR(1)\n",
    "                print('AR(1)')\n",
    "                dataSrcAr1 = mba.get_src_ar1(dataDFF, idxsTrg)\n",
    "                dataTrgAr1 = mba.fit_predict_bychannel(dataSrcAr1, dataTrg)\n",
    "                relRmsAr1 = mba.rms(dataTrgAr1 - dataTrg, axis=0) / L2\n",
    "                df = pd_append_row(df, [mousename, session, trialType, 'ar(1)'] + list(relRmsAr1))\n",
    "\n",
    "                print('HAR')\n",
    "                dataSrcHAR = mba.get_src_har(dataDFF, idxsTrg, [160, 3*160])\n",
    "                dataTrgHAR = mba.fit_predict_bychannel(dataSrcHAR, dataTrg, alpha=0.01)\n",
    "                relRmsHAR = mba.rms(dataTrgHAR - dataTrg, axis=0) / L2\n",
    "                df = pd_append_row(df, [mousename, session, trialType, 'har'] + list(relRmsHAR))\n",
    "\n",
    "                print('MAR(1)')\n",
    "                dataTrgMAR1 = mba.fit_predict_multivar_bychannel(dataSrcAr1, dataTrg, 0.0001)\n",
    "                relRmsMAR1 = mba.rms(dataTrgMAR1 - dataTrg, axis=0) / L2\n",
    "                df = pd_append_row(df, [mousename, session, trialType, 'mar(1)'] + list(relRmsMAR1))"
   ]
  },
  {
   "cell_type": "code",
   "execution_count": null,
   "metadata": {},
   "outputs": [],
   "source": [
    "df.to_hdf('model_fitting_l2.h5', 'ar_har_mar')"
   ]
  },
  {
   "cell_type": "code",
   "execution_count": null,
   "metadata": {},
   "outputs": [],
   "source": [
    "df"
   ]
  },
  {
   "cell_type": "code",
   "execution_count": null,
   "metadata": {},
   "outputs": [],
   "source": [
    "df = pd.read_hdf('model_fitting_l2.h5', 'ar_har_mar')"
   ]
  },
  {
   "cell_type": "code",
   "execution_count": null,
   "metadata": {},
   "outputs": [],
   "source": [
    "colsData = [col for col in df.columns if col not in {'mousename', 'session', 'trialType', 'method'}]"
   ]
  },
  {
   "cell_type": "code",
   "execution_count": null,
   "metadata": {},
   "outputs": [],
   "source": [
    "from mesostat.utils.pandas_helper import pd_query\n",
    "import seaborn as sns"
   ]
  },
  {
   "cell_type": "code",
   "execution_count": null,
   "metadata": {},
   "outputs": [],
   "source": [
    "for trialType, dfTT in df.groupby(['trialType']):\n",
    "    fig, ax = plt.subplots(ncols=4, figsize=(4*4, 4), tight_layout=True)\n",
    "    fig.suptitle(trialType)\n",
    "    \n",
    "    iMouse = 0\n",
    "    for mousename, dfMouse in dfTT.groupby(['mousename']):\n",
    "        for method, dfMethod in dfMouse.groupby(['method']):\n",
    "            dfRez = dfMethod.drop(['mousename', 'session', 'trialType', 'method'], axis=1)\n",
    "            \n",
    "            data=np.array(dfRez).T\n",
    "            dataMu = np.mean(data, axis=1)\n",
    "            dataStd = np.std(data, axis=1)\n",
    "            \n",
    "            x = np.arange(data.shape[0])\n",
    "            ax[iMouse].plot(x, dataMu, label=method)\n",
    "            ax[iMouse].fill_between(x, dataMu-dataStd, dataMu+dataStd, alpha=0.2)\n",
    "            \n",
    "        ax[iMouse].set_title(mousename)\n",
    "        ax[iMouse].legend()\n",
    "        iMouse += 1\n",
    "    \n",
    "    plt.show()\n",
    "    \n",
    "    \n",
    "    \n",
    "\n",
    "# for key1, dataKey in df.groupby(['session', 'trialType']):\n",
    "#     print(key1)\n",
    "#     for idx, row in dataKey.iterrows():\n",
    "#         print('--', row['method'], np.round(np.mean(row[colsData]), 2))"
   ]
  },
  {
   "cell_type": "code",
   "execution_count": null,
   "metadata": {},
   "outputs": [],
   "source": []
  }
 ],
 "metadata": {
  "kernelspec": {
   "display_name": "py3ml",
   "language": "python",
   "name": "py3ml"
  },
  "language_info": {
   "codemirror_mode": {
    "name": "ipython",
    "version": 3
   },
   "file_extension": ".py",
   "mimetype": "text/x-python",
   "name": "python",
   "nbconvert_exporter": "python",
   "pygments_lexer": "ipython3",
   "version": "3.8.5"
  }
 },
 "nbformat": 4,
 "nbformat_minor": 2
}

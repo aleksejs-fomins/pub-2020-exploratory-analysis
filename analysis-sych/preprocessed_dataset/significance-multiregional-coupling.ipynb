{
 "cells": [
  {
   "cell_type": "code",
   "execution_count": 1,
   "metadata": {},
   "outputs": [
    {
     "name": "stdout",
     "output_type": "stream",
     "text": [
      "Appended root directory /home/alyosha/work/git/pub-2020-exploratory-analysis\n"
     ]
    }
   ],
   "source": [
    "# Standard libraries\n",
    "import numpy as np\n",
    "import pandas as pd\n",
    "import matplotlib.pyplot as plt\n",
    "from ipywidgets import IntProgress\n",
    "from IPython.display import display\n",
    "\n",
    "# Append base directory\n",
    "import os,sys,inspect\n",
    "rootname = \"pub-2020-exploratory-analysis\"\n",
    "thispath = os.path.dirname(os.path.abspath(inspect.getfile(inspect.currentframe())))\n",
    "rootpath = os.path.join(thispath[:thispath.index(rootname)], rootname)\n",
    "sys.path.append(rootpath)\n",
    "print(\"Appended root directory\", rootpath)\n",
    "\n",
    "from mesostat.metric.metric import MetricCalculator\n",
    "from mesostat.utils.qt_helper import gui_fname, gui_fnames, gui_fpath\n",
    "from mesostat.utils.hdf5_io import DataStorage\n",
    "\n",
    "from lib.sych.data_fc_db_raw import DataFCDatabase\n",
    "import lib.analysis.pid as pid\n",
    "\n",
    "%load_ext autoreload\n",
    "%autoreload 2"
   ]
  },
  {
   "cell_type": "code",
   "execution_count": 2,
   "metadata": {},
   "outputs": [],
   "source": [
    "# tmp_path = root_path_data if 'root_path_data' in locals() else \"./\"\n",
    "params = {}\n",
    "# params['root_path_data'] = './'\n",
    "params['root_path_data'] = '/media/alyosha/Data/TE_data/yarodata/sych_preprocessed'\n",
    "# params['root_path_data'] = '/media/aleksejs/DataHDD/work/data/yaro/neuronal-raw-pooled'\n",
    "# params['root_path_data'] = gui_fpath('h5path', './')"
   ]
  },
  {
   "cell_type": "code",
   "execution_count": 3,
   "metadata": {},
   "outputs": [
    {
     "name": "stdout",
     "output_type": "stream",
     "text": [
      "Searching for data files\n",
      "Extracting trial type names\n",
      "Extracting data types\n"
     ]
    }
   ],
   "source": [
    "dataDB = DataFCDatabase(params)"
   ]
  },
  {
   "cell_type": "code",
   "execution_count": 4,
   "metadata": {},
   "outputs": [
    {
     "data": {
      "text/plain": [
       "{'mvg_4', 'mvg_7', 'mvg_8', 'mvg_9'}"
      ]
     },
     "execution_count": 4,
     "metadata": {},
     "output_type": "execute_result"
    }
   ],
   "source": [
    "dataDB.mice"
   ]
  },
  {
   "cell_type": "code",
   "execution_count": 5,
   "metadata": {},
   "outputs": [],
   "source": [
    "h5outname = 'sych_result_higher_order_df.h5'"
   ]
  },
  {
   "cell_type": "code",
   "execution_count": 6,
   "metadata": {
    "scrolled": true
   },
   "outputs": [],
   "source": [
    "mc = MetricCalculator(serial=False, verbose=False, nCore=4)"
   ]
  },
  {
   "cell_type": "markdown",
   "metadata": {},
   "source": [
    "# TODO\n",
    "    \n",
    "Hypothesis - Chain inhibition should increase synergy\n",
    "* Cpu -> iGP/GP/eGP -> VM/VL\n",
    "\n",
    "Performance-depencence\n",
    "* Session-wise changes of redundancy/synergy as function of performance\n",
    "* Movement-correlations of synergy/redundancy\n",
    "    - Lick\n",
    "    - Integral movement"
   ]
  },
  {
   "cell_type": "markdown",
   "metadata": {},
   "source": [
    "# Hypotheses"
   ]
  },
  {
   "cell_type": "code",
   "execution_count": 7,
   "metadata": {},
   "outputs": [],
   "source": [
    "intervDict = {\n",
    "    \"TEX\" : [3, 3.5],\n",
    "    \"REW\" : [6, 6.5]\n",
    "}\n",
    "\n",
    "hypothesesDict = {\n",
    "    # Feedforwards Prefrontal\n",
    "    \"H1_TEX\"  : (\"TEX\", ['M1_l', 'S1_bf'], ['PrL', 'LO', 'VO', 'M2', 'Cg1']),\n",
    "    \"H1a_TEX\" : (\"TEX\", ['S1_bf', 'S2'],   ['PrL', 'LO', 'VO', 'M2', 'Cg1']),\n",
    "    \"H1b_TEX\" : (\"TEX\", ['M1_l', 'M2'],    ['PrL', 'LO', 'VO', 'Cg1']),  # Drop M2 because its a source\n",
    "\n",
    "    # High order is Sensory/Motor Thalamus\n",
    "    # Test if (M1, S1) has more synergy than (M1, M2) or (S1, S2)\n",
    "    \"H2_TEX\"  : (\"TEX\", ['M1_l', 'S1_bf'], ['Po', 'VM']),\n",
    "    \"H2a_TEX\" : (\"TEX\", ['S1_bf', 'S2'],   ['Po', 'VM']),\n",
    "    \"H2b_TEX\" : (\"TEX\", ['M1_l', 'M2'],    ['Po', 'VM']),\n",
    "    \n",
    "    # Thalamus as source\n",
    "    \"H3_TEX\"  : (\"TEX\", ['Po', 'VPM'],     ['S1_bf', 'S2']),\n",
    "    \n",
    "    # Motor Thalamus synchronization\n",
    "    \"H4_TEX\"  : (\"TEX\", ['VM', 'VL', 'LDVL'],      ['M1_l', 'M2']),\n",
    "}"
   ]
  },
  {
   "cell_type": "code",
   "execution_count": 8,
   "metadata": {},
   "outputs": [
    {
     "name": "stdout",
     "output_type": "stream",
     "text": [
      "H1_TEX\n",
      "H1a_TEX\n",
      "H1b_TEX\n",
      "H2_TEX\n",
      "H2a_TEX\n",
      "H2b_TEX\n",
      "H3_TEX\n",
      "H4_TEX\n",
      "H1_TEX\n",
      "H1a_TEX\n",
      "H1b_TEX\n",
      "H2_TEX\n",
      "H2a_TEX\n",
      "H2b_TEX\n",
      "H3_TEX\n",
      "H4_TEX\n"
     ]
    }
   ],
   "source": [
    "pid.hypotheses_calc_pid(dataDB, mc, hypothesesDict, intervDict, h5outname, nDropPCA=1,\n",
    "                        datatypes=['bn_session', 'bn_trial'], trialType='iGO', performance='expert')"
   ]
  },
  {
   "cell_type": "code",
   "execution_count": 9,
   "metadata": {},
   "outputs": [
    {
     "name": "stdout",
     "output_type": "stream",
     "text": [
      "H1_TEX\n",
      "H1a_TEX\n",
      "H1b_TEX\n",
      "H2_TEX\n",
      "H2a_TEX\n",
      "H2b_TEX\n",
      "H3_TEX\n",
      "H4_TEX\n"
     ]
    }
   ],
   "source": [
    "pid.hypotheses_plot_pid(dataDB, hypothesesDict, h5outname, datatypes=['bn_session'])"
   ]
  },
  {
   "cell_type": "code",
   "execution_count": 10,
   "metadata": {},
   "outputs": [
    {
     "name": "stdout",
     "output_type": "stream",
     "text": [
      "H1_TEX\n",
      "H1a_TEX\n",
      "H1b_TEX\n",
      "H2_TEX\n",
      "H2a_TEX\n",
      "H2b_TEX\n",
      "H3_TEX\n",
      "H4_TEX\n"
     ]
    }
   ],
   "source": [
    "pid.hypotheses_calc_plot_info3D(dataDB, hypothesesDict, intervDict,\n",
    "                                nBin=4, datatypes=['bn_session'], trialType='iGO', performance='expert')"
   ]
  },
  {
   "cell_type": "markdown",
   "metadata": {},
   "source": [
    "# All-Distribution\n",
    "\n",
    "**TODO**:\n",
    "* [] Drop shitty sessions\n",
    "* [] Try composite p-values\n",
    "* [] For Info3D, drop PCA1\n",
    "* [] Consider re-doing analysis with PCA1 dropped\n",
    "* Fraction Significant triplets per session\n",
    "    * [+] Do regression on PID instead of Naive vs Expert\n",
    "    * [ ] Binomial test fraction significant PID's above chance\n",
    "    * [ ] Test if regression explained by having more iGO trials in expert\n",
    "* Most significant triplets\n",
    "    * [ ] Fraction Significant Sessions bymouse\n",
    "        - For each triplet, find fraction of sessions it is significant in\n",
    "        - Sorted 1D plot\n",
    "        - Drop non-significant\n",
    "        - Extract labels for top 10\n",
    "    * [ ] Fraction Significant Sessions concat\n",
    "        - Same as above, but for all mice\n",
    "        - Sort by all mice\n",
    "        - Concat barplot/1Dplot, mice with different colors\n",
    "    * [ ] Plot pvalue vs performance for top10 sessions"
   ]
  },
  {
   "cell_type": "code",
   "execution_count": 12,
   "metadata": {},
   "outputs": [],
   "source": [
    "# tmp_path = root_path_data if 'root_path_data' in locals() else \"./\"\n",
    "pwdAllH5 = '/media/alyosha/Data/TE_data/yarodata/sych_preprocessed/sych_result_multiregional_pid_df3.h5'\n",
    "# pwdAllH5 = '/media/aleksejs/DataHDD/work/data/yaro/pid/sych_result_multiregional_pid_df3.h5'\n",
    "# pwdAllH5 = gui_fname('h5path', './', '(*.h5)')"
   ]
  },
  {
   "cell_type": "code",
   "execution_count": null,
   "metadata": {
    "collapsed": true
   },
   "outputs": [],
   "source": [
    "pid.plot_all_results_distribution(dataDB, pwdAllH5, plotstyle='cdf', minTrials=50)"
   ]
  },
  {
   "cell_type": "code",
   "execution_count": null,
   "metadata": {
    "collapsed": true,
    "scrolled": true
   },
   "outputs": [],
   "source": [
    "pid.plot_all_frac_significant_bysession(dataDB, pwdAllH5, minTrials=50)"
   ]
  },
  {
   "cell_type": "code",
   "execution_count": null,
   "metadata": {
    "collapsed": true,
    "scrolled": false
   },
   "outputs": [],
   "source": [
    "# TODO: Linear fit + pval(H0: alpha=0)\n",
    "pid.plot_all_frac_significant_performance_scatter(dataDB, pwdAllH5, minTrials=50)"
   ]
  },
  {
   "cell_type": "markdown",
   "metadata": {
    "collapsed": true
   },
   "source": [
    "TODO:\n",
    "* Top 10 most synergetic connections\n",
    "    - Try magnitude vs avg p-value vs fraction significant\n",
    "    - Plot colorbars to show fraction of sessions by mouse\n",
    "* Top 10 most synergy-involved regions\n",
    "    - Count fraction of significant triplets where this region is target"
   ]
  },
  {
   "cell_type": "code",
   "execution_count": null,
   "metadata": {
    "scrolled": false
   },
   "outputs": [],
   "source": [
    "pid.plot_all_top_n_frac_significant(dataDB, pwdAllH5, nTop=20, minTrials=50,\n",
    "                                    haveTriplet=True, haveSinglet=False, trgPlotList=['VPL'])"
   ]
  },
  {
   "cell_type": "code",
   "execution_count": 88,
   "metadata": {},
   "outputs": [
    {
     "name": "stdout",
     "output_type": "stream",
     "text": [
      "H_ALL_REW\n",
      "H_ALL_REW\n"
     ]
    }
   ],
   "source": [
    "hDict = {\n",
    "    \"H_ALL_REW\"  : (\"REW\", ['LPAG', 'Cpu_1'], ['VPL'])\n",
    "}\n",
    "\n",
    "pid.hypotheses_calc_plot_info3D(dataDB, hDict, intervDict, performance='expert',\n",
    "                                datatypes=['bn_session', 'bn_trial'], trialType='iGO')"
   ]
  },
  {
   "cell_type": "markdown",
   "metadata": {},
   "source": [
    "## Suppl"
   ]
  },
  {
   "cell_type": "code",
   "execution_count": null,
   "metadata": {
    "collapsed": true
   },
   "outputs": [],
   "source": [
    "np.array(dataDB.get_channel_labels('mvg_4'))"
   ]
  },
  {
   "cell_type": "code",
   "execution_count": null,
   "metadata": {
    "collapsed": true
   },
   "outputs": [],
   "source": []
  }
 ],
 "metadata": {
  "kernelspec": {
   "display_name": "py3ml",
   "language": "python",
   "name": "py3ml"
  },
  "language_info": {
   "codemirror_mode": {
    "name": "ipython",
    "version": 3
   },
   "file_extension": ".py",
   "mimetype": "text/x-python",
   "name": "python",
   "nbconvert_exporter": "python",
   "pygments_lexer": "ipython3",
   "version": "3.8.5"
  }
 },
 "nbformat": 4,
 "nbformat_minor": 4
}

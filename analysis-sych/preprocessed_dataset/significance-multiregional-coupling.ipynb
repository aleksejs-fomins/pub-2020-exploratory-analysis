{
 "cells": [
  {
   "cell_type": "code",
   "execution_count": null,
   "metadata": {},
   "outputs": [],
   "source": [
    "# Standard libraries\n",
    "import numpy as np\n",
    "import pandas as pd\n",
    "import matplotlib.pyplot as plt\n",
    "from ipywidgets import IntProgress\n",
    "from IPython.display import display\n",
    "\n",
    "# Append base directory\n",
    "import os,sys,inspect\n",
    "rootname = \"pub-2020-exploratory-analysis\"\n",
    "thispath = os.path.dirname(os.path.abspath(inspect.getfile(inspect.currentframe())))\n",
    "rootpath = os.path.join(thispath[:thispath.index(rootname)], rootname)\n",
    "sys.path.append(rootpath)\n",
    "print(\"Appended root directory\", rootpath)\n",
    "\n",
    "from mesostat.metric.metric import MetricCalculator\n",
    "from mesostat.utils.qt_helper import gui_fname, gui_fnames, gui_fpath\n",
    "from mesostat.utils.hdf5_io import DataStorage\n",
    "\n",
    "from lib.sych.data_fc_db_raw import DataFCDatabase\n",
    "import lib.analysis.pid as pid\n",
    "\n",
    "%load_ext autoreload\n",
    "%autoreload 2"
   ]
  },
  {
   "cell_type": "code",
   "execution_count": null,
   "metadata": {
    "collapsed": true
   },
   "outputs": [],
   "source": [
    "# tmp_path = root_path_data if 'root_path_data' in locals() else \"./\"\n",
    "params = {}\n",
    "# params['root_path_data'] = './'\n",
    "params['root_path_data'] = '/media/alyosha/Data/TE_data/yarodata/sych_preprocessed'\n",
    "# params['root_path_data'] = '/media/aleksejs/DataHDD/work/data/yaro/neuronal-raw-pooled'\n",
    "# params['root_path_data'] = gui_fpath('h5path', './')"
   ]
  },
  {
   "cell_type": "code",
   "execution_count": null,
   "metadata": {},
   "outputs": [],
   "source": [
    "dataDB = DataFCDatabase(params)"
   ]
  },
  {
   "cell_type": "code",
   "execution_count": null,
   "metadata": {},
   "outputs": [],
   "source": [
    "dataDB.mice"
   ]
  },
  {
   "cell_type": "code",
   "execution_count": null,
   "metadata": {
    "collapsed": true
   },
   "outputs": [],
   "source": [
    "h5outname = 'sych_result_higher_order_df.h5'"
   ]
  },
  {
   "cell_type": "code",
   "execution_count": null,
   "metadata": {
    "collapsed": true,
    "scrolled": true
   },
   "outputs": [],
   "source": [
    "mc = MetricCalculator(serial=False, verbose=False, nCore=4)"
   ]
  },
  {
   "cell_type": "markdown",
   "metadata": {},
   "source": [
    "# TODO\n",
    "    \n",
    "Hypothesis - Chain inhibition should increase synergy\n",
    "* Cpu -> iGP/GP/eGP -> VM/VL\n",
    "\n",
    "Performance-depencence\n",
    "* Session-wise changes of redundancy/synergy as function of performance\n",
    "* Movement-correlations of synergy/redundancy\n",
    "    - Lick\n",
    "    - Integral movement"
   ]
  },
  {
   "cell_type": "markdown",
   "metadata": {},
   "source": [
    "# Hypotheses"
   ]
  },
  {
   "cell_type": "code",
   "execution_count": null,
   "metadata": {
    "collapsed": true
   },
   "outputs": [],
   "source": [
    "hypothesesDict = {\n",
    "    # Feedforwards Prefrontal\n",
    "    \"H1_TEX\"  : (\"TEX\", ['M1_l', 'S1_bf'], ['PrL', 'LO', 'VO', 'M2', 'Cg1']),\n",
    "    \"H1a_TEX\" : (\"TEX\", ['S1_bf', 'S2'],   ['PrL', 'LO', 'VO', 'M2', 'Cg1']),\n",
    "    \"H1b_TEX\" : (\"TEX\", ['M1_l', 'M2'],    ['PrL', 'LO', 'VO', 'Cg1']),  # Drop M2 because its a source\n",
    "\n",
    "    # High order is Sensory/Motor Thalamus\n",
    "    # Test if (M1, S1) has more synergy than (M1, M2) or (S1, S2)\n",
    "    \"H2_TEX\"  : (\"TEX\", ['M1_l', 'S1_bf'], ['Po', 'VM']),\n",
    "    \"H2a_TEX\" : (\"TEX\", ['S1_bf', 'S2'],   ['Po', 'VM']),\n",
    "    \"H2b_TEX\" : (\"TEX\", ['M1_l', 'M2'],    ['Po', 'VM']),\n",
    "    \n",
    "    # Thalamus as source\n",
    "    \"H3_TEX\"  : (\"TEX\", ['Po', 'VPM'],     ['S1_bf', 'S2']),\n",
    "    \n",
    "    # Motor Thalamus synchronization\n",
    "    \"H4_TEX\"  : (\"TEX\", ['VM', 'VL', 'LDVL'],      ['M1_l', 'M2']),\n",
    "}"
   ]
  },
  {
   "cell_type": "code",
   "execution_count": null,
   "metadata": {
    "scrolled": true
   },
   "outputs": [],
   "source": [
    "pid.hypotheses_calc_pid(dataDB, mc, hypothesesDict, h5outname, #nDropPCA=1,\n",
    "                        datatypes=['bn_session', 'bn_trial'], trialType='iGO', performance='expert')"
   ]
  },
  {
   "cell_type": "code",
   "execution_count": null,
   "metadata": {
    "collapsed": true
   },
   "outputs": [],
   "source": [
    "pid.hypotheses_plot_pid(dataDB, hypothesesDict, h5outname, datatypes=['bn_session'])"
   ]
  },
  {
   "cell_type": "code",
   "execution_count": null,
   "metadata": {
    "collapsed": true
   },
   "outputs": [],
   "source": [
    "pid.hypotheses_calc_plot_info3D(dataDB, hypothesesDict, intervDict,\n",
    "                                nBin=4, datatypes=['bn_session'], trialType='iGO', performance='expert')"
   ]
  },
  {
   "cell_type": "markdown",
   "metadata": {},
   "source": [
    "# All-Distribution\n",
    "\n",
    "**TODO**:\n",
    "* [] Drop shitty sessions\n",
    "* [] Try composite p-values\n",
    "* [+] For Info3D, drop PCA1\n",
    "* [] Consider re-doing analysis with PCA1 dropped\n",
    "* Fraction Significant triplets per session\n",
    "    * [+] Do regression on PID instead of Naive vs Expert\n",
    "    * [ ] Binomial test fraction significant PID's above chance\n",
    "    * [ ] Test if regression explained by having more iGO trials in expert\n",
    "* Most significant triplets\n",
    "    * [ ] Plot pvalue vs performance for top10 sessions"
   ]
  },
  {
   "cell_type": "code",
   "execution_count": null,
   "metadata": {
    "collapsed": true
   },
   "outputs": [],
   "source": [
    "# tmp_path = root_path_data if 'root_path_data' in locals() else \"./\"\n",
    "pwdAllH5 = '/media/alyosha/Data/TE_data/yarodata/sych_preprocessed/sych_result_multiregional_pid_df3.h5'\n",
    "# pwdAllH5 = '/media/aleksejs/DataHDD/work/data/yaro/pid/sych_result_multiregional_pid_df3.h5'\n",
    "# pwdAllH5 = gui_fname('h5path', './', '(*.h5)')"
   ]
  },
  {
   "cell_type": "code",
   "execution_count": null,
   "metadata": {
    "collapsed": true
   },
   "outputs": [],
   "source": [
    "pid.plot_all_results_distribution(dataDB, pwdAllH5, plotstyle='cdf', minTrials=50)"
   ]
  },
  {
   "cell_type": "code",
   "execution_count": null,
   "metadata": {
    "collapsed": true,
    "scrolled": true
   },
   "outputs": [],
   "source": [
    "pid.plot_all_frac_significant_bysession(dataDB, pwdAllH5, minTrials=50)"
   ]
  },
  {
   "cell_type": "code",
   "execution_count": null,
   "metadata": {
    "collapsed": true,
    "scrolled": false
   },
   "outputs": [],
   "source": [
    "# TODO: Linear fit + pval(H0: alpha=0)\n",
    "pid.plot_all_frac_significant_performance_scatter(dataDB, pwdAllH5, minTrials=50)"
   ]
  },
  {
   "cell_type": "markdown",
   "metadata": {
    "collapsed": true
   },
   "source": [
    "TODO:\n",
    "* Top 10 most synergetic connections\n",
    "    - Try magnitude vs avg p-value vs fraction significant\n",
    "    - Plot colorbars to show fraction of sessions by mouse\n",
    "* Top 10 most synergy-involved regions\n",
    "    - Count fraction of significant triplets where this region is target"
   ]
  },
  {
   "cell_type": "code",
   "execution_count": null,
   "metadata": {
    "collapsed": true
   },
   "outputs": [],
   "source": [
    "summaryDF = pid.pid_all_summary_df(pwdAllH5)"
   ]
  },
  {
   "cell_type": "code",
   "execution_count": null,
   "metadata": {
    "scrolled": true
   },
   "outputs": [],
   "source": [
    "# Precompute fraction of significant sessions for each triplet\n",
    "pidTypes = ['unique', 'red', 'syn']\n",
    "mouseSignDict = {}\n",
    "for keyLabel, dfSession in summaryDF.groupby(['datatype', 'phase']):\n",
    "    print(keyLabel)\n",
    "    mouseSignDict[keyLabel] = pid._get_pid_sign_dict(dataDB, keyLabel,\n",
    "                                                     dfSession.drop(['datatype', 'phase'], axis=1),\n",
    "                                                     pwdAllH5, pidTypes, minTrials=50, trialType='iGO')"
   ]
  },
  {
   "cell_type": "code",
   "execution_count": null,
   "metadata": {
    "scrolled": true
   },
   "outputs": [],
   "source": [
    "# 1D projection: Targets that have highest fraction of sessions averaged over sources\n",
    "for keyLabel, dfSession in summaryDF.groupby(['datatype', 'phase']):\n",
    "    print(keyLabel)\n",
    "    \n",
    "    pid.plot_all_frac_significant_1D_top_n(dataDB, mouseSignDict[keyLabel], '_'.join(keyLabel), pidTypes, nTop=20)"
   ]
  },
  {
   "cell_type": "code",
   "execution_count": null,
   "metadata": {},
   "outputs": [],
   "source": [
    "# 2D projection: Source pairs that have highest fraction of sessions averaged over targets\n",
    "for keyLabel, dfSession in summaryDF.groupby(['datatype', 'phase']):\n",
    "    print(keyLabel)\n",
    "    pid.plot_all_frac_significant_2D_avg(dataDB, mouseSignDict[keyLabel], '_'.join(keyLabel), pidTypes)"
   ]
  },
  {
   "cell_type": "code",
   "execution_count": null,
   "metadata": {
    "collapsed": true,
    "scrolled": true
   },
   "outputs": [],
   "source": [
    "# 3D projection: Triplets with highest fraction of sessions\n",
    "for keyLabel, dfSession in summaryDF.groupby(['datatype', 'phase']):\n",
    "    print(keyLabel)\n",
    "    pid.plot_all_frac_significant_3D_top_n(dataDB, mouseSignDict[keyLabel], '_'.join(keyLabel), pidTypes, nTop=20)"
   ]
  },
  {
   "cell_type": "code",
   "execution_count": null,
   "metadata": {},
   "outputs": [],
   "source": [
    "# Specific 2D projection: Fractions for all source pairs given target\n",
    "for keyLabel, dfSession in summaryDF.groupby(['datatype', 'phase']):\n",
    "    print(keyLabel)\n",
    "    pid.plot_all_frac_significant_2D_by_target(dataDB, mouseSignDict[keyLabel], '_'.join(keyLabel), 'syn', 'VPL',\n",
    "                                               vmax=1)"
   ]
  },
  {
   "cell_type": "code",
   "execution_count": null,
   "metadata": {},
   "outputs": [],
   "source": [
    "hDict = {\n",
    "#     \"H_ALL\"  : (\"REW\", ['VPL', 'DG_a'], ['VM'])\n",
    "    \"H_ALL\"  : (\"REW\", ['Rt', 'SuG'], ['Cpu'])\n",
    "#     \"H_ALL\"  : (\"REW\", ['Cpu_1', 'VPL'], ['VL'])\n",
    "#         \"H_ALL\"  : (\"TEX\", ['M2', 'S2'], ['VPL'])\n",
    "}\n",
    "\n",
    "pid.hypotheses_calc_plot_info3D(dataDB, hDict, #performance='expert',\n",
    "                                datatypes=['bn_session', 'bn_trial'], trialType='iGO')"
   ]
  },
  {
   "cell_type": "markdown",
   "metadata": {},
   "source": [
    "## All - Distribution - Nosession"
   ]
  },
  {
   "cell_type": "code",
   "execution_count": null,
   "metadata": {
    "collapsed": true
   },
   "outputs": [],
   "source": [
    "import lib.analysis.pid_joint as pid_joint"
   ]
  },
  {
   "cell_type": "code",
   "execution_count": null,
   "metadata": {
    "collapsed": true
   },
   "outputs": [],
   "source": [
    "pwdAllH5_2 = '/media/alyosha/Data/TE_data/yarodata/sych_preprocessed/sych_result_multiregional_pid_all_df.h5'\n",
    "pwdAllH5_2_Rand = '/media/alyosha/Data/TE_data/yarodata/sych_preprocessed/sych_result_multiregional_pid_all_df_rand.h5'"
   ]
  },
  {
   "cell_type": "code",
   "execution_count": null,
   "metadata": {
    "collapsed": true
   },
   "outputs": [],
   "source": [
    "dfSummary = pid_joint.pid_all_summary_df(pwdAllH5_2)"
   ]
  },
  {
   "cell_type": "code",
   "execution_count": null,
   "metadata": {},
   "outputs": [],
   "source": [
    "dfSummaryRand = pid_joint.pid_all_summary_df(pwdAllH5_2_Rand, parserName='Rand')"
   ]
  },
  {
   "cell_type": "code",
   "execution_count": null,
   "metadata": {
    "scrolled": true
   },
   "outputs": [],
   "source": [
    "pid_joint.cdfplot(pwdAllH5_2, dfSummary)"
   ]
  },
  {
   "cell_type": "code",
   "execution_count": null,
   "metadata": {},
   "outputs": [],
   "source": [
    "pid_joint.test_avg_bits(dataDB, mc, pwdAllH5_2, dfSummary)"
   ]
  },
  {
   "cell_type": "code",
   "execution_count": null,
   "metadata": {
    "collapsed": true,
    "scrolled": true
   },
   "outputs": [],
   "source": [
    "pid_joint.scatter_effsize_bits(pwdAllH5_2, dfSummary)"
   ]
  },
  {
   "cell_type": "code",
   "execution_count": null,
   "metadata": {
    "scrolled": true
   },
   "outputs": [],
   "source": [
    "pid_joint.plot_triplets(dataDB, pwdAllH5_2, dfSummary, nTop=20)"
   ]
  },
  {
   "cell_type": "code",
   "execution_count": null,
   "metadata": {
    "scrolled": true
   },
   "outputs": [],
   "source": [
    "pid_joint.plot_singlets(dataDB, pwdAllH5_2, dfSummary, nTop=20)"
   ]
  },
  {
   "cell_type": "code",
   "execution_count": null,
   "metadata": {
    "scrolled": true
   },
   "outputs": [],
   "source": [
    "# TODO: Unique: Sweep over pairs of (S1,T) vs S2, as opposed to (S1,S2) vs T\n",
    "pid_joint.plot_2D_avg(dataDB, pwdAllH5_2, dfSummary, dropChannels=None, avgAxis=1)"
   ]
  },
  {
   "cell_type": "code",
   "execution_count": null,
   "metadata": {},
   "outputs": [],
   "source": [
    "pid_joint.plot_2D_bytarget(dataDB, pwdAllH5_2, dfSummary, 'Rt', dropChannels=None)"
   ]
  },
  {
   "cell_type": "code",
   "execution_count": null,
   "metadata": {},
   "outputs": [],
   "source": [
    "pid_joint.plot_2D_bytarget_synergy_cluster(dataDB, pwdAllH5_2, dfSummary, 'VPL',\n",
    "                                           dropChannels=[21], clusterParam=2, dropWeakChannelThr=0.1)"
   ]
  },
  {
   "cell_type": "code",
   "execution_count": null,
   "metadata": {},
   "outputs": [],
   "source": [
    "pid_joint.plot_unique_top_pairs(dataDB, pwdAllH5_2, dfSummary, nTop=20, dropChannels=None)"
   ]
  },
  {
   "cell_type": "markdown",
   "metadata": {},
   "source": [
    "# Consistency\n",
    "\n",
    "## 1. Across Mice"
   ]
  },
  {
   "cell_type": "code",
   "execution_count": null,
   "metadata": {},
   "outputs": [],
   "source": [
    "pid_joint.plot_consistency_bymouse(pwdAllH5_2, dfSummary, dropChannels=[21], performance='naive',\n",
    "                                   kind='fisher', limits=[0, 1])\n",
    "pid_joint.plot_consistency_bymouse(pwdAllH5_2, dfSummary, dropChannels=[21], performance='expert',\n",
    "                                   kind='fisher', limits=[0, 1])"
   ]
  },
  {
   "cell_type": "code",
   "execution_count": null,
   "metadata": {},
   "outputs": [],
   "source": [
    "pid_joint.plot_consistency_byphase(pwdAllH5_2, dfSummary, dropChannels=[21], performance='naive',\n",
    "                                   kind='fisher', limits=[0, 1], datatype='bn_trial')\n",
    "pid_joint.plot_consistency_byphase(pwdAllH5_2, dfSummary, dropChannels=[21], performance='expert',\n",
    "                                   kind='fisher', limits=[0, 1], datatype='bn_trial')\n",
    "pid_joint.plot_consistency_byphase(pwdAllH5_2, dfSummary, dropChannels=[21], performance='naive',\n",
    "                                   kind='fisher', limits=[0, 1], datatype='bn_session')\n",
    "pid_joint.plot_consistency_byphase(pwdAllH5_2, dfSummary, dropChannels=[21], performance='expert',\n",
    "                                   kind='fisher', limits=[0, 1], datatype='bn_session')"
   ]
  },
  {
   "cell_type": "code",
   "execution_count": null,
   "metadata": {},
   "outputs": [],
   "source": [
    "pid_joint.plot_consistency_bytrialtype(pwdAllH5_2, dfSummary, dropChannels=[21], performance='naive', datatype='bn_trial',\n",
    "                                 trialTypes=['iGO', 'iNOGO'], kind='fisher', fisherThr=0.1, limits=[0, 1])\n",
    "pid_joint.plot_consistency_bytrialtype(pwdAllH5_2, dfSummary, dropChannels=[21], performance='expert', datatype='bn_trial',\n",
    "                                 trialTypes=['iGO', 'iNOGO'], kind='fisher', fisherThr=0.1, limits=[0, 1])\n",
    "pid_joint.plot_consistency_bytrialtype(pwdAllH5_2, dfSummary, dropChannels=[21], performance='naive', datatype='bn_session',\n",
    "                                 trialTypes=['iGO', 'iNOGO'], kind='fisher', fisherThr=0.1, limits=[0, 1])\n",
    "pid_joint.plot_consistency_bytrialtype(pwdAllH5_2, dfSummary, dropChannels=[21], performance='expert', datatype='bn_session',\n",
    "                                 trialTypes=['iGO', 'iNOGO'], kind='fisher', fisherThr=0.1, limits=[0, 1])"
   ]
  },
  {
   "cell_type": "markdown",
   "metadata": {},
   "source": [
    "## Sanity check if PID matches pre-computed"
   ]
  },
  {
   "cell_type": "code",
   "execution_count": null,
   "metadata": {},
   "outputs": [],
   "source": [
    "for datatype in ['bn_session', 'bn_trial']:\n",
    "    for intervName in intervNames:\n",
    "        for trialType in [None, 'iGO', 'iNOGO']:\n",
    "            for mousename in ['mvg_4']: #sorted(dataDB.mice):\n",
    "                print(datatype, intervName, trialType, mousename)\n",
    "                \n",
    "                channelNames = dataDB.get_channel_labels(mousename)\n",
    "                dataLst = dataDB.get_neuro_data({'mousename': mousename}, datatype=datatype,\n",
    "                                                trialType=trialType,\n",
    "                                                zscoreDim='rs', intervName=intervName)\n",
    "\n",
    "                display(pid.pid(dataLst, mc, channelNames, ['S1_bf', 'VPL'], ['LGP'], nPerm=100, nBin=4))\n",
    "                break\n",
    "            break\n",
    "        break\n",
    "    break"
   ]
  },
  {
   "cell_type": "code",
   "execution_count": null,
   "metadata": {
    "collapsed": true
   },
   "outputs": [],
   "source": []
  }
 ],
 "metadata": {
  "kernelspec": {
   "display_name": "py3ml",
   "language": "python",
   "name": "py3ml"
  },
  "language_info": {
   "codemirror_mode": {
    "name": "ipython",
    "version": 3
   },
   "file_extension": ".py",
   "mimetype": "text/x-python",
   "name": "python",
   "nbconvert_exporter": "python",
   "pygments_lexer": "ipython3",
   "version": "3.8.5"
  }
 },
 "nbformat": 4,
 "nbformat_minor": 4
}

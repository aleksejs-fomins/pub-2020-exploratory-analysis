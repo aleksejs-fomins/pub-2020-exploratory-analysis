{
 "cells": [
  {
   "cell_type": "code",
   "execution_count": null,
   "metadata": {},
   "outputs": [],
   "source": [
    "# Standard libraries\n",
    "import numpy as np\n",
    "import pandas as pd\n",
    "import matplotlib.pyplot as plt\n",
    "from ipywidgets import IntProgress\n",
    "from IPython.display import display\n",
    "\n",
    "# Append base directory\n",
    "import os,sys,inspect\n",
    "rootname = \"pub-2020-exploratory-analysis\"\n",
    "thispath = os.path.dirname(os.path.abspath(inspect.getfile(inspect.currentframe())))\n",
    "rootpath = os.path.join(thispath[:thispath.index(rootname)], rootname)\n",
    "sys.path.append(rootpath)\n",
    "print(\"Appended root directory\", rootpath)\n",
    "\n",
    "from mesostat.metric.metric import MetricCalculator\n",
    "from mesostat.utils.qt_helper import gui_fname, gui_fnames, gui_fpath\n",
    "from mesostat.utils.hdf5_io import DataStorage\n",
    "\n",
    "from lib.sych.data_fc_db_raw import DataFCDatabase\n",
    "import lib.analysis.pid as pid\n",
    "\n",
    "%load_ext autoreload\n",
    "%autoreload 2"
   ]
  },
  {
   "cell_type": "code",
   "execution_count": null,
   "metadata": {
    "collapsed": true
   },
   "outputs": [],
   "source": [
    "# tmp_path = root_path_data if 'root_path_data' in locals() else \"./\"\n",
    "params = {}\n",
    "# params['root_path_data'] = './'\n",
    "params['root_path_data'] = '/media/alyosha/Data/TE_data/yarodata/sych_preprocessed'\n",
    "# params['root_path_data'] = '/media/aleksejs/DataHDD/work/data/yaro/neuronal-raw-pooled'\n",
    "# params['root_path_data'] = gui_fpath('h5path', './')"
   ]
  },
  {
   "cell_type": "code",
   "execution_count": null,
   "metadata": {},
   "outputs": [],
   "source": [
    "dataDB = DataFCDatabase(params)"
   ]
  },
  {
   "cell_type": "code",
   "execution_count": null,
   "metadata": {
    "collapsed": true
   },
   "outputs": [],
   "source": [
    "h5outname = 'sych_result_higher_order_df.h5'"
   ]
  },
  {
   "cell_type": "code",
   "execution_count": null,
   "metadata": {
    "collapsed": true,
    "scrolled": true
   },
   "outputs": [],
   "source": [
    "mc = MetricCalculator(serial=False, verbose=False, nCore=4)"
   ]
  },
  {
   "cell_type": "markdown",
   "metadata": {},
   "source": [
    "# TODO\n",
    "    \n",
    "Hypothesis - Chain inhibition should increase synergy\n",
    "* Cpu -> iGP/GP/eGP -> VM/VL\n",
    "\n",
    "Performance-depencence\n",
    "* Session-wise changes of redundancy/synergy as function of performance\n",
    "* Movement-correlations of synergy/redundancy\n",
    "    - Lick\n",
    "    - Integral movement"
   ]
  },
  {
   "cell_type": "markdown",
   "metadata": {},
   "source": [
    "# Hypotheses"
   ]
  },
  {
   "cell_type": "code",
   "execution_count": null,
   "metadata": {
    "collapsed": true
   },
   "outputs": [],
   "source": [
    "hypothesesDict = {\n",
    "    # Feedforwards Prefrontal\n",
    "    \"H1_TEX\"  : (\"TEX\", ['M1_l', 'S1_bf'], ['PrL', 'LO', 'VO', 'M2', 'Cg1']),\n",
    "    \"H1a_TEX\" : (\"TEX\", ['S1_bf', 'S2'],   ['PrL', 'LO', 'VO', 'M2', 'Cg1']),\n",
    "    \"H1b_TEX\" : (\"TEX\", ['M1_l', 'M2'],    ['PrL', 'LO', 'VO', 'Cg1']),  # Drop M2 because its a source\n",
    "\n",
    "    # High order is Sensory/Motor Thalamus\n",
    "    # Test if (M1, S1) has more synergy than (M1, M2) or (S1, S2)\n",
    "    \"H2_TEX\"  : (\"TEX\", ['M1_l', 'S1_bf'], ['Po', 'VM']),\n",
    "    \"H2a_TEX\" : (\"TEX\", ['S1_bf', 'S2'],   ['Po', 'VM']),\n",
    "    \"H2b_TEX\" : (\"TEX\", ['M1_l', 'M2'],    ['Po', 'VM']),\n",
    "    \n",
    "    # Thalamus as source\n",
    "    \"H3_TEX\"  : (\"TEX\", ['Po', 'VPM'],     ['S1_bf', 'S2']),\n",
    "    \n",
    "    # Motor Thalamus synchronization\n",
    "    \"H4_TEX\"  : (\"TEX\", ['VM', 'VL', 'LDVL'],      ['M1_l', 'M2']),\n",
    "}"
   ]
  },
  {
   "cell_type": "code",
   "execution_count": null,
   "metadata": {
    "scrolled": true
   },
   "outputs": [],
   "source": [
    "pid.hypotheses_calc_pid(dataDB, mc, hypothesesDict, h5outname, #nDropPCA=1,\n",
    "                        datatypes=['bn_session', 'bn_trial'], trialType='iGO', performance='expert')"
   ]
  },
  {
   "cell_type": "code",
   "execution_count": null,
   "metadata": {
    "collapsed": true
   },
   "outputs": [],
   "source": [
    "pid.hypotheses_plot_pid(dataDB, hypothesesDict, h5outname, datatypes=['bn_session'])"
   ]
  },
  {
   "cell_type": "code",
   "execution_count": null,
   "metadata": {
    "collapsed": true
   },
   "outputs": [],
   "source": [
    "pid.hypotheses_calc_plot_info3D(dataDB, hypothesesDict, intervDict,\n",
    "                                nBin=4, datatypes=['bn_session'], trialType='iGO', performance='expert')"
   ]
  },
  {
   "cell_type": "code",
   "execution_count": null,
   "metadata": {
    "collapsed": true
   },
   "outputs": [],
   "source": []
  }
 ],
 "metadata": {
  "kernelspec": {
   "display_name": "py3ml",
   "language": "python",
   "name": "py3ml"
  },
  "language_info": {
   "codemirror_mode": {
    "name": "ipython",
    "version": 3
   },
   "file_extension": ".py",
   "mimetype": "text/x-python",
   "name": "python",
   "nbconvert_exporter": "python",
   "pygments_lexer": "ipython3",
   "version": "3.8.5"
  }
 },
 "nbformat": 4,
 "nbformat_minor": 4
}

{
 "cells": [
  {
   "cell_type": "code",
   "execution_count": null,
   "metadata": {},
   "outputs": [],
   "source": [
    "# Standard libraries\n",
    "import numpy as np\n",
    "import pandas as pd\n",
    "import matplotlib.pyplot as plt\n",
    "from ipywidgets import IntProgress\n",
    "from IPython.display import display\n",
    "\n",
    "import statsmodels.api as sm\n",
    "from statsmodels.formula.api import ols\n",
    "\n",
    "# Append base directory\n",
    "import os,sys,inspect\n",
    "rootname = \"pub-2020-exploratory-analysis\"\n",
    "thispath = os.getcwd()\n",
    "rootpath = os.path.join(thispath[:thispath.index(rootname)], rootname)\n",
    "sys.path.append(rootpath)\n",
    "print(\"Appended root directory\", rootpath)\n",
    "\n",
    "from mesostat.utils.qt_helper import gui_fnames, gui_fpath\n",
    "from mesostat.metric.metric import MetricCalculator\n",
    "from mesostat.utils.hdf5_io import DataStorage\n",
    "from mesostat.stat.anova import as_pandas, as_pandas_lst, anova_homebrew\n",
    "\n",
    "from lib.sych.data_fc_db_raw import DataFCDatabase\n",
    "from lib.sych.plot_helper import imshow_dataset_by_mouse, imshow_dataset_by_session\n",
    "from lib.common.metric_helper import metric_by_session\n",
    "\n",
    "%load_ext autoreload\n",
    "%autoreload 2"
   ]
  },
  {
   "cell_type": "code",
   "execution_count": null,
   "metadata": {},
   "outputs": [],
   "source": [
    "# tmp_path = root_path_data if 'root_path_data' in locals() else \"./\"\n",
    "params = {}\n",
    "# params['root_path_data'] = './'\n",
    "# params['root_path_data'] = '/media/alyosha/Data/TE_data/yarodata/sych_preprocessed'\n",
    "\n",
    "params['root_path_data'] = '/home/alyosha/data/sych_preprocessed/'\n",
    "# params['root_path_data'] = gui_fpath('h5path', './')"
   ]
  },
  {
   "cell_type": "code",
   "execution_count": null,
   "metadata": {},
   "outputs": [],
   "source": [
    "dataDB = DataFCDatabase(params)"
   ]
  },
  {
   "cell_type": "code",
   "execution_count": null,
   "metadata": {},
   "outputs": [],
   "source": [
    "ds = DataStorage('sych_result_individual_region.h5')"
   ]
  },
  {
   "cell_type": "code",
   "execution_count": null,
   "metadata": {},
   "outputs": [],
   "source": [
    "mc = MetricCalculator(serial=True, verbose=False)"
   ]
  },
  {
   "cell_type": "code",
   "execution_count": null,
   "metadata": {},
   "outputs": [],
   "source": [
    "print(dataDB.mice)\n",
    "print(dataDB.dataTypes)\n",
    "print(dataDB.trialTypeNames)"
   ]
  },
  {
   "cell_type": "markdown",
   "metadata": {},
   "source": [
    "# 1. Noise\n",
    "## 1.1 SNR via AutoCorrelation\n",
    "\n",
    "**Plan:**\n",
    "* AutoCorr[1] is a number that is close to 1 if data is changing slowly, and close to zero if data changes very fast.\n",
    "\n",
    "**FIXME**:\n",
    "* Remove Performance above 1\n",
    "* If performance becomes important, discuss with Y whether to use original or pooled performance, as they differ significantly"
   ]
  },
  {
   "cell_type": "code",
   "execution_count": null,
   "metadata": {
    "scrolled": true
   },
   "outputs": [],
   "source": [
    "metricName = 'autocorr_d1'\n",
    "for iMouse, mousename in enumerate(sorted(dataDB.mice)):\n",
    "    print(mousename)\n",
    "    metric_by_session(dataDB, mc, ds, mousename, metricName, 'p', datatype='raw')"
   ]
  },
  {
   "cell_type": "code",
   "execution_count": null,
   "metadata": {
    "scrolled": false
   },
   "outputs": [],
   "source": [
    "imshow_dataset_by_mouse(dataDB, ds, 'autocorr_d1', limits=[0,1])"
   ]
  },
  {
   "cell_type": "code",
   "execution_count": null,
   "metadata": {},
   "outputs": [],
   "source": [
    "ds.list_dsets_pd()"
   ]
  },
  {
   "cell_type": "code",
   "execution_count": null,
   "metadata": {},
   "outputs": [],
   "source": [
    "from lib.analysis.snr import plot_snr_violins_bymouse"
   ]
  },
  {
   "cell_type": "code",
   "execution_count": null,
   "metadata": {},
   "outputs": [],
   "source": [
    "plot_snr_violins_bymouse(dataDB, ds)"
   ]
  },
  {
   "cell_type": "code",
   "execution_count": null,
   "metadata": {},
   "outputs": [],
   "source": []
  },
  {
   "cell_type": "markdown",
   "metadata": {},
   "source": [
    "# SNR by paramsweep"
   ]
  },
  {
   "cell_type": "code",
   "execution_count": null,
   "metadata": {},
   "outputs": [],
   "source": [
    "from lib.common.param_sweep import DataParameterSweep, param_vals_to_suffix, pd_row_to_kwargs\n",
    "\n",
    "def snr_param_sweep(dataDB, ds, mc, skipExisting=False, exclQueryLst=None, **kwargs): \n",
    "    dataName = 'snr_mouse'\n",
    "    metric = 'autocorr_d1'\n",
    "\n",
    "    dps = DataParameterSweep(dataDB, exclQueryLst, mousename='auto', **kwargs)\n",
    "    for idx, row in dps.sweepDF.iterrows():\n",
    "        print(list(row))\n",
    "\n",
    "        mousename = row['mousename']\n",
    "        queryDict = dict(row)\n",
    "        del queryDict['mousename']\n",
    "        attrsDict = {**{'mousename': mousename}, **queryDict}\n",
    "        attrsDict['metric'] = metric\n",
    "        attrsDict['target_dim'] = '(channels,)'\n",
    "        attrsDict['name'] = dataName\n",
    "\n",
    "        dsDataLabels = ds.ping_data(dataName, attrsDict)\n",
    "        if not skipExisting and len(dsDataLabels) > 0:\n",
    "            dsuffix = dataName + '_' + '_'.join(attrsDict.values())\n",
    "            print('Skipping existing', dsuffix)\n",
    "        else:\n",
    "            dataRSPLst = dataDB.get_neuro_data({'mousename': mousename}, **queryDict)\n",
    "\n",
    "            dataRSP = np.concatenate(dataRSPLst, axis=0)\n",
    "            \n",
    "            mc.set_data(dataRSP, 'rsp')\n",
    "            rez = mc.metric3D(metric, 'p')\n",
    "\n",
    "#             ds.delete_rows(dsDataLabels, verbose=False)\n",
    "            ds.save_data(dataName, rez, attrsDict)"
   ]
  },
  {
   "cell_type": "code",
   "execution_count": null,
   "metadata": {},
   "outputs": [],
   "source": [
    "argSweepDict = {\n",
    "    'datatype' : ['raw'],\n",
    "    'intervName' : 'auto',\n",
    "    'trialType' : 'auto',\n",
    "    'performance' : 'auto'\n",
    "}"
   ]
  },
  {
   "cell_type": "code",
   "execution_count": null,
   "metadata": {
    "scrolled": true
   },
   "outputs": [],
   "source": [
    "snr_param_sweep(dataDB, ds, mc, skipExisting=False, **argSweepDict)"
   ]
  },
  {
   "cell_type": "code",
   "execution_count": null,
   "metadata": {},
   "outputs": [],
   "source": []
  },
  {
   "cell_type": "code",
   "execution_count": null,
   "metadata": {},
   "outputs": [],
   "source": [
    "from mesostat.utils.pandas_helper import pd_query\n",
    "from mesostat.visualization.mpl_matrix import plot_df_2D_outer_product"
   ]
  },
  {
   "cell_type": "code",
   "execution_count": null,
   "metadata": {},
   "outputs": [],
   "source": [
    "df = ds.list_dsets_pd()\n",
    "dfThis = pd_query(df, {'name': 'snr_mouse', 'metric': 'autocorr_d1'})\n",
    "dfThis = dfThis[dfThis['intervName'] != 'PRE']\n",
    "dfThis = dfThis.drop(['datatype', 'metric', 'target_dim', 'name', 'datetime', 'shape'], axis=1)\n",
    "dfNew = pd.DataFrame()\n",
    "for idx, row in dfThis.iterrows():\n",
    "    data = ds.get_data(row['dset'])\n",
    "    rowNew = row.copy().drop(['dset'])\n",
    "    \n",
    "    for i in range(len(data)):\n",
    "        rowNew['channel'] = i\n",
    "        rowNew['value'] = data[i]\n",
    "        dfNew = dfNew.append(rowNew)\n",
    "        \n",
    "dfNew['channel'] = dfNew['channel'].astype(int)"
   ]
  },
  {
   "cell_type": "code",
   "execution_count": null,
   "metadata": {},
   "outputs": [],
   "source": [
    "fig, ax = plt.subplots(figsize=(16,8))\n",
    "plot_df_2D_outer_product(ax, dfNew, ['channel'], ['performance', 'mousename', 'intervName', 'trialType'],\n",
    "                         'value', vmin=0, vmax=1,\n",
    "                         orderDict={'intervName': ['TEX', 'REW'], 'performance': ['naive', 'expert']})\n",
    "plt.savefig('ac1_outer_01range.svg')\n",
    "plt.show()"
   ]
  },
  {
   "cell_type": "code",
   "execution_count": null,
   "metadata": {},
   "outputs": [],
   "source": []
  }
 ],
 "metadata": {
  "kernelspec": {
   "display_name": "Python 3.8 (IDTxl)",
   "language": "python",
   "name": "py38idtxl"
  },
  "language_info": {
   "codemirror_mode": {
    "name": "ipython",
    "version": 3
   },
   "file_extension": ".py",
   "mimetype": "text/x-python",
   "name": "python",
   "nbconvert_exporter": "python",
   "pygments_lexer": "ipython3",
   "version": "3.8.10"
  }
 },
 "nbformat": 4,
 "nbformat_minor": 2
}

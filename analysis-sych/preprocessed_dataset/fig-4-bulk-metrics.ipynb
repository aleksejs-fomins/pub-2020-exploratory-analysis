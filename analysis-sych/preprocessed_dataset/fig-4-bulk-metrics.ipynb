{
 "cells": [
  {
   "cell_type": "code",
   "execution_count": 2,
   "metadata": {},
   "outputs": [
    {
     "name": "stdout",
     "output_type": "stream",
     "text": [
      "Appended root directory /media/aleksejs/DataHDD/work/codes/comp-neuro/analysis-mesoscopic/pub-2020-exploratory-analysis\n",
      "The autoreload extension is already loaded. To reload it, use:\n",
      "  %reload_ext autoreload\n"
     ]
    }
   ],
   "source": [
    "# Standard libraries\n",
    "import numpy as np\n",
    "import pandas as pd\n",
    "import matplotlib.pyplot as plt\n",
    "from ipywidgets import IntProgress\n",
    "from IPython.display import display\n",
    "from scipy.stats import mannwhitneyu, wilcoxon\n",
    "\n",
    "# Append base directory\n",
    "import os,sys,inspect\n",
    "rootname = \"pub-2020-exploratory-analysis\"\n",
    "thispath = os.path.dirname(os.path.abspath(inspect.getfile(inspect.currentframe())))\n",
    "rootpath = os.path.join(thispath[:thispath.index(rootname)], rootname)\n",
    "sys.path.append(rootpath)\n",
    "print(\"Appended root directory\", rootpath)\n",
    "\n",
    "from mesostat.utils.qt_helper import gui_fnames, gui_fpath\n",
    "from mesostat.metric.metric import MetricCalculator\n",
    "from mesostat.utils.hdf5_io import DataStorage\n",
    "\n",
    "from lib.sych.data_fc_db_raw import DataFCDatabase\n",
    "import lib.analysis.bulk_metrics as bulk_metrics\n",
    "\n",
    "%load_ext autoreload\n",
    "%autoreload 2"
   ]
  },
  {
   "cell_type": "code",
   "execution_count": 3,
   "metadata": {
    "collapsed": true
   },
   "outputs": [],
   "source": [
    "# tmp_path = root_path_data if 'root_path_data' in locals() else \"./\"\n",
    "params = {}\n",
    "params['root_path_data'] = './'\n",
    "# params['root_path_data'] = '/media/alyosha/Data/TE_data/yarodata/sych_preprocessed'\n",
    "#params['root_path_data'] = gui_fpath('h5path', './')"
   ]
  },
  {
   "cell_type": "code",
   "execution_count": 4,
   "metadata": {},
   "outputs": [
    {
     "name": "stdout",
     "output_type": "stream",
     "text": [
      "Searching for data files\n"
     ]
    }
   ],
   "source": [
    "dataDB = DataFCDatabase(params)"
   ]
  },
  {
   "cell_type": "code",
   "execution_count": 5,
   "metadata": {
    "collapsed": true
   },
   "outputs": [],
   "source": [
    "ds = DataStorage('sych_result_bulk_metrics.h5')"
   ]
  },
  {
   "cell_type": "code",
   "execution_count": 6,
   "metadata": {
    "collapsed": true
   },
   "outputs": [],
   "source": [
    "mc = MetricCalculator(serial=True, verbose=False)"
   ]
  },
  {
   "cell_type": "markdown",
   "metadata": {},
   "source": [
    "# 1. Bulk Metrics vs Time\n",
    "\n",
    "* Avg over mice\n",
    "* All-region-all-types\n",
    "* Expert vs Naive\n",
    "* Go/NOGO/MISS/FA"
   ]
  },
  {
   "cell_type": "markdown",
   "metadata": {},
   "source": [
    "# Mean"
   ]
  },
  {
   "cell_type": "code",
   "execution_count": 9,
   "metadata": {
    "scrolled": true
   },
   "outputs": [
    {
     "data": {
      "application/vnd.jupyter.widget-view+json": {
       "model_id": "db4f3742187748e9b40505584fba360a",
       "version_major": 2,
       "version_minor": 0
      },
      "text/plain": [
       "IntProgress(value=0, description='time', max=180)"
      ]
     },
     "metadata": {},
     "output_type": "display_data"
    }
   ],
   "source": [
    "bulk_metrics.metric_mouse_bulk(dataDB, mc, ds, 'mean', 's', 'time', verbose=False)"
   ]
  },
  {
   "cell_type": "code",
   "execution_count": 12,
   "metadata": {
    "scrolled": true
   },
   "outputs": [],
   "source": [
    "bulk_metrics.plot_metric_bulk(dataDB, ds, 'mean', 'time', verbose=False)"
   ]
  },
  {
   "cell_type": "markdown",
   "metadata": {},
   "source": [
    "# Variance\n",
    "\n",
    "**TODO**\n",
    "* Plot trial variance relative to temporal variance\n",
    "* Plot mean with variance together\n",
    "\n",
    "### Pros/Cons of Baseline Normalization\n",
    "* DFF-Trial\n",
    "    - Pos: Removes dynamic baseline changing on the order of trials.\n",
    "    - Pos: Under assumption of signal-free pre-trial interval, baseline removal enhances relative change in significant activity during trial.\n",
    "    - Neg: In presence of correlation between pre-trial interval and trial signals, this procedure destroys information during trial.\n",
    "\n",
    "* DFF-Session vs ZScore-Session\n",
    "    - Both linear transforms\n",
    "    - Mean is more meaningful for DFF if pre-trial interval is at least somewhat stable\n",
    "    - Va"
   ]
  },
  {
   "cell_type": "code",
   "execution_count": 13,
   "metadata": {
    "scrolled": true
   },
   "outputs": [
    {
     "data": {
      "application/vnd.jupyter.widget-view+json": {
       "model_id": "2cad34fe17ab4ce781e5c82acf3dc355",
       "version_major": 2,
       "version_minor": 0
      },
      "text/plain": [
       "IntProgress(value=0, description='time', max=180)"
      ]
     },
     "metadata": {},
     "output_type": "display_data"
    }
   ],
   "source": [
    "bulk_metrics.metric_mouse_bulk(dataDB, mc, ds, 'varmean', 's', 'time', verbose=False)"
   ]
  },
  {
   "cell_type": "code",
   "execution_count": 14,
   "metadata": {
    "scrolled": true
   },
   "outputs": [],
   "source": [
    "bulk_metrics.plot_metric_bulk(dataDB, ds, 'varmean', 'time', ylim=[0,None], verbose=False)"
   ]
  },
  {
   "cell_type": "markdown",
   "metadata": {},
   "source": [
    "### Test variance across channels for interesting interval\n",
    "\n",
    "* Average signal over texture presentation interval\n",
    "* Compute variance over trials for each channel\n",
    "* Compare channels"
   ]
  },
  {
   "cell_type": "code",
   "execution_count": 15,
   "metadata": {},
   "outputs": [
    {
     "data": {
      "application/vnd.jupyter.widget-view+json": {
       "model_id": "120721a5809541a78a6d98e6a935f764",
       "version_major": 2,
       "version_minor": 0
      },
      "text/plain": [
       "IntProgress(value=0, description='channel', max=12)"
      ]
     },
     "metadata": {},
     "output_type": "display_data"
    },
    {
     "name": "stdout",
     "output_type": "stream",
     "text": [
      "mvg_7 varmean_channel_bn_session_All_All\n",
      "mvg_7 varmean_channel_bn_trial_All_All\n",
      "mvg_7 varmean_channel_raw_All_All\n",
      "mvg_9 varmean_channel_bn_session_All_All\n",
      "mvg_9 varmean_channel_bn_trial_All_All\n",
      "mvg_9 varmean_channel_raw_All_All\n",
      "mvg_4 varmean_channel_bn_session_All_All\n",
      "mvg_4 varmean_channel_bn_trial_All_All\n",
      "mvg_4 varmean_channel_raw_All_All\n",
      "mvg_8 varmean_channel_bn_session_All_All\n",
      "mvg_8 varmean_channel_bn_trial_All_All\n",
      "mvg_8 varmean_channel_raw_All_All\n"
     ]
    }
   ],
   "source": [
    "bulk_metrics.metric_mouse_bulk(dataDB, mc, ds, 'varmean', 'p', 'channel', cropTime=(3, 3.5), trialTypeNames=[], perfNames=[], verbose=False)"
   ]
  },
  {
   "cell_type": "code",
   "execution_count": 16,
   "metadata": {
    "scrolled": true
   },
   "outputs": [
    {
     "name": "stdout",
     "output_type": "stream",
     "text": [
      "varmean_channel_bn_session_All_All\n",
      "varmean_channel_bn_session_All_iGO\n",
      "--Nothing found, skipping\n",
      "varmean_channel_bn_session_All_iNOGO\n",
      "--Nothing found, skipping\n",
      "varmean_channel_bn_session_All_iFA\n",
      "--Nothing found, skipping\n",
      "varmean_channel_bn_session_All_iMISS\n",
      "--Nothing found, skipping\n",
      "varmean_channel_bn_session_naive_All\n",
      "--Nothing found, skipping\n",
      "varmean_channel_bn_session_naive_iGO\n",
      "--Nothing found, skipping\n",
      "varmean_channel_bn_session_naive_iNOGO\n",
      "--Nothing found, skipping\n",
      "varmean_channel_bn_session_naive_iFA\n",
      "--Nothing found, skipping\n",
      "varmean_channel_bn_session_naive_iMISS\n",
      "--Nothing found, skipping\n",
      "varmean_channel_bn_session_expert_All\n",
      "--Nothing found, skipping\n",
      "varmean_channel_bn_session_expert_iGO\n",
      "--Nothing found, skipping\n",
      "varmean_channel_bn_session_expert_iNOGO\n",
      "--Nothing found, skipping\n",
      "varmean_channel_bn_session_expert_iFA\n",
      "--Nothing found, skipping\n",
      "varmean_channel_bn_session_expert_iMISS\n",
      "--Nothing found, skipping\n",
      "varmean_channel_bn_trial_All_All\n",
      "varmean_channel_bn_trial_All_iGO\n",
      "--Nothing found, skipping\n",
      "varmean_channel_bn_trial_All_iNOGO\n",
      "--Nothing found, skipping\n",
      "varmean_channel_bn_trial_All_iFA\n",
      "--Nothing found, skipping\n",
      "varmean_channel_bn_trial_All_iMISS\n",
      "--Nothing found, skipping\n",
      "varmean_channel_bn_trial_naive_All\n",
      "--Nothing found, skipping\n",
      "varmean_channel_bn_trial_naive_iGO\n",
      "--Nothing found, skipping\n",
      "varmean_channel_bn_trial_naive_iNOGO\n",
      "--Nothing found, skipping\n",
      "varmean_channel_bn_trial_naive_iFA\n",
      "--Nothing found, skipping\n",
      "varmean_channel_bn_trial_naive_iMISS\n",
      "--Nothing found, skipping\n",
      "varmean_channel_bn_trial_expert_All\n",
      "--Nothing found, skipping\n",
      "varmean_channel_bn_trial_expert_iGO\n",
      "--Nothing found, skipping\n",
      "varmean_channel_bn_trial_expert_iNOGO\n",
      "--Nothing found, skipping\n",
      "varmean_channel_bn_trial_expert_iFA\n",
      "--Nothing found, skipping\n",
      "varmean_channel_bn_trial_expert_iMISS\n",
      "--Nothing found, skipping\n",
      "varmean_channel_raw_All_All\n",
      "varmean_channel_raw_All_iGO\n",
      "--Nothing found, skipping\n",
      "varmean_channel_raw_All_iNOGO\n",
      "--Nothing found, skipping\n",
      "varmean_channel_raw_All_iFA\n",
      "--Nothing found, skipping\n",
      "varmean_channel_raw_All_iMISS\n",
      "--Nothing found, skipping\n",
      "varmean_channel_raw_naive_All\n",
      "--Nothing found, skipping\n",
      "varmean_channel_raw_naive_iGO\n",
      "--Nothing found, skipping\n",
      "varmean_channel_raw_naive_iNOGO\n",
      "--Nothing found, skipping\n",
      "varmean_channel_raw_naive_iFA\n",
      "--Nothing found, skipping\n",
      "varmean_channel_raw_naive_iMISS\n",
      "--Nothing found, skipping\n",
      "varmean_channel_raw_expert_All\n",
      "--Nothing found, skipping\n",
      "varmean_channel_raw_expert_iGO\n",
      "--Nothing found, skipping\n",
      "varmean_channel_raw_expert_iNOGO\n",
      "--Nothing found, skipping\n",
      "varmean_channel_raw_expert_iFA\n",
      "--Nothing found, skipping\n",
      "varmean_channel_raw_expert_iMISS\n",
      "--Nothing found, skipping\n"
     ]
    }
   ],
   "source": [
    "bulk_metrics.plot_metric_bulk(dataDB, ds, 'varmean', 'channel', yscale='log', ylim=[0.005,2], verbose=False)"
   ]
  },
  {
   "cell_type": "markdown",
   "metadata": {
    "collapsed": true
   },
   "source": [
    "# Effective Rank\n",
    "\n",
    "### ByTime"
   ]
  },
  {
   "cell_type": "code",
   "execution_count": 17,
   "metadata": {},
   "outputs": [
    {
     "data": {
      "application/vnd.jupyter.widget-view+json": {
       "model_id": "f853b77d65c6461e8be8fc81cde4ae6f",
       "version_major": 2,
       "version_minor": 0
      },
      "text/plain": [
       "IntProgress(value=0, description='time', max=180)"
      ]
     },
     "metadata": {},
     "output_type": "display_data"
    },
    {
     "name": "stdout",
     "output_type": "stream",
     "text": [
      "mvg_7 rank_effective_time_bn_session_All_All\n",
      "mvg_7 rank_effective_time_bn_session_All_iGO\n",
      "mvg_7 rank_effective_time_bn_session_All_iNOGO\n",
      "mvg_7 rank_effective_time_bn_session_All_iFA\n",
      "mvg_7 rank_effective_time_bn_session_All_iMISS\n",
      "mvg_7 rank_effective_time_bn_session_naive_All\n",
      "mvg_7 rank_effective_time_bn_session_naive_iGO\n",
      "mvg_7 rank_effective_time_bn_session_naive_iNOGO\n",
      "mvg_7 rank_effective_time_bn_session_naive_iFA\n",
      "mvg_7 rank_effective_time_bn_session_naive_iMISS\n",
      "mvg_7 rank_effective_time_bn_session_expert_All\n",
      "mvg_7 rank_effective_time_bn_session_expert_iGO\n",
      "mvg_7 rank_effective_time_bn_session_expert_iNOGO\n",
      "mvg_7 rank_effective_time_bn_session_expert_iFA\n",
      "mvg_7 rank_effective_time_bn_session_expert_iMISS\n",
      "mvg_7 rank_effective_time_bn_trial_All_All\n",
      "mvg_7 rank_effective_time_bn_trial_All_iGO\n",
      "mvg_7 rank_effective_time_bn_trial_All_iNOGO\n",
      "mvg_7 rank_effective_time_bn_trial_All_iFA\n",
      "mvg_7 rank_effective_time_bn_trial_All_iMISS\n",
      "mvg_7 rank_effective_time_bn_trial_naive_All\n",
      "mvg_7 rank_effective_time_bn_trial_naive_iGO\n",
      "mvg_7 rank_effective_time_bn_trial_naive_iNOGO\n",
      "mvg_7 rank_effective_time_bn_trial_naive_iFA\n",
      "mvg_7 rank_effective_time_bn_trial_naive_iMISS\n",
      "mvg_7 rank_effective_time_bn_trial_expert_All\n",
      "mvg_7 rank_effective_time_bn_trial_expert_iGO\n",
      "mvg_7 rank_effective_time_bn_trial_expert_iNOGO\n",
      "mvg_7 rank_effective_time_bn_trial_expert_iFA\n",
      "mvg_7 rank_effective_time_bn_trial_expert_iMISS\n",
      "mvg_7 rank_effective_time_raw_All_All\n",
      "mvg_7 rank_effective_time_raw_All_iGO\n",
      "mvg_7 rank_effective_time_raw_All_iNOGO\n",
      "mvg_7 rank_effective_time_raw_All_iFA\n",
      "mvg_7 rank_effective_time_raw_All_iMISS\n",
      "mvg_7 rank_effective_time_raw_naive_All\n",
      "mvg_7 rank_effective_time_raw_naive_iGO\n",
      "mvg_7 rank_effective_time_raw_naive_iNOGO\n",
      "mvg_7 rank_effective_time_raw_naive_iFA\n",
      "mvg_7 rank_effective_time_raw_naive_iMISS\n",
      "mvg_7 rank_effective_time_raw_expert_All\n",
      "mvg_7 rank_effective_time_raw_expert_iGO\n",
      "mvg_7 rank_effective_time_raw_expert_iNOGO\n",
      "mvg_7 rank_effective_time_raw_expert_iFA\n",
      "mvg_7 rank_effective_time_raw_expert_iMISS\n",
      "mvg_9 rank_effective_time_bn_session_All_All\n",
      "mvg_9 rank_effective_time_bn_session_All_iGO\n",
      "mvg_9 rank_effective_time_bn_session_All_iNOGO\n",
      "mvg_9 rank_effective_time_bn_session_All_iFA\n",
      "mvg_9 rank_effective_time_bn_session_All_iMISS\n",
      "mvg_9 rank_effective_time_bn_session_naive_All\n",
      "mvg_9 rank_effective_time_bn_session_naive_iGO\n",
      "mvg_9 rank_effective_time_bn_session_naive_iNOGO\n",
      "mvg_9 rank_effective_time_bn_session_naive_iFA\n",
      "mvg_9 rank_effective_time_bn_session_naive_iMISS\n",
      "mvg_9 rank_effective_time_bn_session_expert_All\n",
      "mvg_9 rank_effective_time_bn_session_expert_iGO\n",
      "mvg_9 rank_effective_time_bn_session_expert_iNOGO\n",
      "mvg_9 rank_effective_time_bn_session_expert_iFA\n",
      "mvg_9 rank_effective_time_bn_session_expert_iMISS\n",
      "mvg_9 rank_effective_time_bn_trial_All_All\n",
      "mvg_9 rank_effective_time_bn_trial_All_iGO\n",
      "mvg_9 rank_effective_time_bn_trial_All_iNOGO\n",
      "mvg_9 rank_effective_time_bn_trial_All_iFA\n",
      "mvg_9 rank_effective_time_bn_trial_All_iMISS\n",
      "mvg_9 rank_effective_time_bn_trial_naive_All\n",
      "mvg_9 rank_effective_time_bn_trial_naive_iGO\n",
      "mvg_9 rank_effective_time_bn_trial_naive_iNOGO\n",
      "mvg_9 rank_effective_time_bn_trial_naive_iFA\n",
      "mvg_9 rank_effective_time_bn_trial_naive_iMISS\n",
      "mvg_9 rank_effective_time_bn_trial_expert_All\n",
      "mvg_9 rank_effective_time_bn_trial_expert_iGO\n",
      "mvg_9 rank_effective_time_bn_trial_expert_iNOGO\n",
      "mvg_9 rank_effective_time_bn_trial_expert_iFA\n",
      "mvg_9 rank_effective_time_bn_trial_expert_iMISS\n",
      "mvg_9 rank_effective_time_raw_All_All\n",
      "mvg_9 rank_effective_time_raw_All_iGO\n",
      "mvg_9 rank_effective_time_raw_All_iNOGO\n",
      "mvg_9 rank_effective_time_raw_All_iFA\n",
      "mvg_9 rank_effective_time_raw_All_iMISS\n",
      "mvg_9 rank_effective_time_raw_naive_All\n",
      "mvg_9 rank_effective_time_raw_naive_iGO\n",
      "mvg_9 rank_effective_time_raw_naive_iNOGO\n",
      "mvg_9 rank_effective_time_raw_naive_iFA\n",
      "mvg_9 rank_effective_time_raw_naive_iMISS\n",
      "mvg_9 rank_effective_time_raw_expert_All\n",
      "mvg_9 rank_effective_time_raw_expert_iGO\n",
      "mvg_9 rank_effective_time_raw_expert_iNOGO\n",
      "mvg_9 rank_effective_time_raw_expert_iFA\n",
      "mvg_9 rank_effective_time_raw_expert_iMISS\n",
      "mvg_4 rank_effective_time_bn_session_All_All\n",
      "mvg_4 rank_effective_time_bn_session_All_iGO\n",
      "mvg_4 rank_effective_time_bn_session_All_iNOGO\n",
      "mvg_4 rank_effective_time_bn_session_All_iFA\n",
      "mvg_4 rank_effective_time_bn_session_All_iMISS\n",
      "mvg_4 rank_effective_time_bn_session_naive_All\n",
      "mvg_4 rank_effective_time_bn_session_naive_iGO\n",
      "mvg_4 rank_effective_time_bn_session_naive_iNOGO\n",
      "mvg_4 rank_effective_time_bn_session_naive_iFA\n",
      "mvg_4 rank_effective_time_bn_session_naive_iMISS\n",
      "mvg_4 rank_effective_time_bn_session_expert_All\n",
      "mvg_4 rank_effective_time_bn_session_expert_iGO\n",
      "mvg_4 rank_effective_time_bn_session_expert_iNOGO\n",
      "mvg_4 rank_effective_time_bn_session_expert_iFA\n",
      "mvg_4 rank_effective_time_bn_session_expert_iMISS\n",
      "mvg_4 rank_effective_time_bn_trial_All_All\n",
      "mvg_4 rank_effective_time_bn_trial_All_iGO\n",
      "mvg_4 rank_effective_time_bn_trial_All_iNOGO\n",
      "mvg_4 rank_effective_time_bn_trial_All_iFA\n",
      "mvg_4 rank_effective_time_bn_trial_All_iMISS\n",
      "mvg_4 rank_effective_time_bn_trial_naive_All\n",
      "mvg_4 rank_effective_time_bn_trial_naive_iGO\n",
      "mvg_4 rank_effective_time_bn_trial_naive_iNOGO\n",
      "mvg_4 rank_effective_time_bn_trial_naive_iFA\n",
      "mvg_4 rank_effective_time_bn_trial_naive_iMISS\n",
      "mvg_4 rank_effective_time_bn_trial_expert_All\n",
      "mvg_4 rank_effective_time_bn_trial_expert_iGO\n",
      "mvg_4 rank_effective_time_bn_trial_expert_iNOGO\n",
      "mvg_4 rank_effective_time_bn_trial_expert_iFA\n",
      "mvg_4 rank_effective_time_bn_trial_expert_iMISS\n",
      "mvg_4 rank_effective_time_raw_All_All\n",
      "mvg_4 rank_effective_time_raw_All_iGO\n",
      "mvg_4 rank_effective_time_raw_All_iNOGO\n",
      "mvg_4 rank_effective_time_raw_All_iFA\n",
      "mvg_4 rank_effective_time_raw_All_iMISS\n",
      "mvg_4 rank_effective_time_raw_naive_All\n",
      "mvg_4 rank_effective_time_raw_naive_iGO\n",
      "mvg_4 rank_effective_time_raw_naive_iNOGO\n",
      "mvg_4 rank_effective_time_raw_naive_iFA\n",
      "mvg_4 rank_effective_time_raw_naive_iMISS\n",
      "mvg_4 rank_effective_time_raw_expert_All\n",
      "mvg_4 rank_effective_time_raw_expert_iGO\n",
      "mvg_4 rank_effective_time_raw_expert_iNOGO\n",
      "mvg_4 rank_effective_time_raw_expert_iFA\n",
      "mvg_4 rank_effective_time_raw_expert_iMISS\n",
      "mvg_8 rank_effective_time_bn_session_All_All\n",
      "mvg_8 rank_effective_time_bn_session_All_iGO\n",
      "mvg_8 rank_effective_time_bn_session_All_iNOGO\n",
      "mvg_8 rank_effective_time_bn_session_All_iFA\n",
      "mvg_8 rank_effective_time_bn_session_All_iMISS\n",
      "mvg_8 rank_effective_time_bn_session_naive_All\n",
      "mvg_8 rank_effective_time_bn_session_naive_iGO\n",
      "mvg_8 rank_effective_time_bn_session_naive_iNOGO\n",
      "mvg_8 rank_effective_time_bn_session_naive_iFA\n",
      "mvg_8 rank_effective_time_bn_session_naive_iMISS\n",
      "mvg_8 rank_effective_time_bn_session_expert_All\n",
      "mvg_8 rank_effective_time_bn_session_expert_iGO\n",
      "mvg_8 rank_effective_time_bn_session_expert_iNOGO\n",
      "mvg_8 rank_effective_time_bn_session_expert_iFA\n",
      "mvg_8 rank_effective_time_bn_session_expert_iMISS\n",
      "mvg_8 rank_effective_time_bn_trial_All_All\n",
      "mvg_8 rank_effective_time_bn_trial_All_iGO\n",
      "mvg_8 rank_effective_time_bn_trial_All_iNOGO\n",
      "mvg_8 rank_effective_time_bn_trial_All_iFA\n",
      "mvg_8 rank_effective_time_bn_trial_All_iMISS\n",
      "mvg_8 rank_effective_time_bn_trial_naive_All\n",
      "mvg_8 rank_effective_time_bn_trial_naive_iGO\n",
      "mvg_8 rank_effective_time_bn_trial_naive_iNOGO\n",
      "mvg_8 rank_effective_time_bn_trial_naive_iFA\n",
      "mvg_8 rank_effective_time_bn_trial_naive_iMISS\n",
      "mvg_8 rank_effective_time_bn_trial_expert_All\n",
      "mvg_8 rank_effective_time_bn_trial_expert_iGO\n",
      "mvg_8 rank_effective_time_bn_trial_expert_iNOGO\n",
      "mvg_8 rank_effective_time_bn_trial_expert_iFA\n",
      "mvg_8 rank_effective_time_bn_trial_expert_iMISS\n",
      "mvg_8 rank_effective_time_raw_All_All\n",
      "mvg_8 rank_effective_time_raw_All_iGO\n",
      "mvg_8 rank_effective_time_raw_All_iNOGO\n",
      "mvg_8 rank_effective_time_raw_All_iFA\n",
      "mvg_8 rank_effective_time_raw_All_iMISS\n",
      "mvg_8 rank_effective_time_raw_naive_All\n",
      "mvg_8 rank_effective_time_raw_naive_iGO\n",
      "mvg_8 rank_effective_time_raw_naive_iNOGO\n",
      "mvg_8 rank_effective_time_raw_naive_iFA\n",
      "mvg_8 rank_effective_time_raw_naive_iMISS\n",
      "mvg_8 rank_effective_time_raw_expert_All\n",
      "mvg_8 rank_effective_time_raw_expert_iGO\n",
      "mvg_8 rank_effective_time_raw_expert_iNOGO\n",
      "mvg_8 rank_effective_time_raw_expert_iFA\n",
      "mvg_8 rank_effective_time_raw_expert_iMISS\n"
     ]
    }
   ],
   "source": [
    "bulk_metrics.metric_mouse_bulk(dataDB, mc, ds, \"rank_effective\", 's', 'time', verbose=False)"
   ]
  },
  {
   "cell_type": "code",
   "execution_count": 18,
   "metadata": {
    "scrolled": true
   },
   "outputs": [
    {
     "name": "stdout",
     "output_type": "stream",
     "text": [
      "rank_effective_time_bn_session_All_All\n",
      "rank_effective_time_bn_session_All_iGO\n",
      "rank_effective_time_bn_session_All_iNOGO\n",
      "rank_effective_time_bn_session_All_iFA\n",
      "rank_effective_time_bn_session_All_iMISS\n",
      "rank_effective_time_bn_session_naive_All\n",
      "rank_effective_time_bn_session_naive_iGO\n",
      "rank_effective_time_bn_session_naive_iNOGO\n",
      "rank_effective_time_bn_session_naive_iFA\n",
      "rank_effective_time_bn_session_naive_iMISS\n",
      "rank_effective_time_bn_session_expert_All\n",
      "rank_effective_time_bn_session_expert_iGO\n",
      "rank_effective_time_bn_session_expert_iNOGO\n",
      "rank_effective_time_bn_session_expert_iFA\n",
      "rank_effective_time_bn_session_expert_iMISS\n",
      "rank_effective_time_bn_trial_All_All\n",
      "rank_effective_time_bn_trial_All_iGO\n",
      "rank_effective_time_bn_trial_All_iNOGO\n",
      "rank_effective_time_bn_trial_All_iFA\n",
      "rank_effective_time_bn_trial_All_iMISS\n",
      "rank_effective_time_bn_trial_naive_All\n",
      "rank_effective_time_bn_trial_naive_iGO\n",
      "rank_effective_time_bn_trial_naive_iNOGO\n",
      "rank_effective_time_bn_trial_naive_iFA\n",
      "rank_effective_time_bn_trial_naive_iMISS\n",
      "rank_effective_time_bn_trial_expert_All\n",
      "rank_effective_time_bn_trial_expert_iGO\n",
      "rank_effective_time_bn_trial_expert_iNOGO\n",
      "rank_effective_time_bn_trial_expert_iFA\n",
      "rank_effective_time_bn_trial_expert_iMISS\n",
      "rank_effective_time_raw_All_All\n",
      "rank_effective_time_raw_All_iGO\n",
      "rank_effective_time_raw_All_iNOGO\n",
      "rank_effective_time_raw_All_iFA\n",
      "rank_effective_time_raw_All_iMISS\n",
      "rank_effective_time_raw_naive_All\n",
      "rank_effective_time_raw_naive_iGO\n",
      "rank_effective_time_raw_naive_iNOGO\n",
      "rank_effective_time_raw_naive_iFA\n",
      "rank_effective_time_raw_naive_iMISS\n",
      "rank_effective_time_raw_expert_All\n",
      "rank_effective_time_raw_expert_iGO\n",
      "rank_effective_time_raw_expert_iNOGO\n",
      "rank_effective_time_raw_expert_iFA\n",
      "rank_effective_time_raw_expert_iMISS\n"
     ]
    }
   ],
   "source": [
    "bulk_metrics.plot_metric_bulk(dataDB, ds, 'rank_effective', 'time', ylim=[1,48], verbose=False)"
   ]
  },
  {
   "cell_type": "markdown",
   "metadata": {},
   "source": [
    "### BySession"
   ]
  },
  {
   "cell_type": "code",
   "execution_count": 20,
   "metadata": {
    "scrolled": true
   },
   "outputs": [
    {
     "data": {
      "application/vnd.jupyter.widget-view+json": {
       "model_id": "4e99e1d3b31048c59b78ff08eb5640c7",
       "version_major": 2,
       "version_minor": 0
      },
      "text/plain": [
       "IntProgress(value=0, description='rank_effective', max=36)"
      ]
     },
     "metadata": {},
     "output_type": "display_data"
    },
    {
     "data": {
      "application/vnd.jupyter.widget-view+json": {
       "model_id": "1464902533774cb0b3a6ed175aedf41d",
       "version_major": 2,
       "version_minor": 0
      },
      "text/plain": [
       "IntProgress(value=0, description='mvg_7', max=18)"
      ]
     },
     "metadata": {},
     "output_type": "display_data"
    },
    {
     "data": {
      "application/vnd.jupyter.widget-view+json": {
       "model_id": "e98c4a021d584c289199fca0ec24ac55",
       "version_major": 2,
       "version_minor": 0
      },
      "text/plain": [
       "IntProgress(value=0, description='mvg_7', max=15)"
      ]
     },
     "metadata": {},
     "output_type": "display_data"
    },
    {
     "data": {
      "application/vnd.jupyter.widget-view+json": {
       "model_id": "3fded5d178cc41f7a13431dee604f408",
       "version_major": 2,
       "version_minor": 0
      },
      "text/plain": [
       "IntProgress(value=0, description='mvg_7', max=3)"
      ]
     },
     "metadata": {},
     "output_type": "display_data"
    },
    {
     "data": {
      "application/vnd.jupyter.widget-view+json": {
       "model_id": "4e3b897050784addbfae1e0fda087607",
       "version_major": 2,
       "version_minor": 0
      },
      "text/plain": [
       "IntProgress(value=0, description='mvg_7', max=18)"
      ]
     },
     "metadata": {},
     "output_type": "display_data"
    },
    {
     "data": {
      "application/vnd.jupyter.widget-view+json": {
       "model_id": "1bb9239b4ed840dd8fb8c7bfa86c16b7",
       "version_major": 2,
       "version_minor": 0
      },
      "text/plain": [
       "IntProgress(value=0, description='mvg_7', max=15)"
      ]
     },
     "metadata": {},
     "output_type": "display_data"
    },
    {
     "data": {
      "application/vnd.jupyter.widget-view+json": {
       "model_id": "7cb03ecc29de49069880942d4ad4f600",
       "version_major": 2,
       "version_minor": 0
      },
      "text/plain": [
       "IntProgress(value=0, description='mvg_7', max=3)"
      ]
     },
     "metadata": {},
     "output_type": "display_data"
    },
    {
     "data": {
      "application/vnd.jupyter.widget-view+json": {
       "model_id": "b5c09a4393af486daa3bf2a958910bc6",
       "version_major": 2,
       "version_minor": 0
      },
      "text/plain": [
       "IntProgress(value=0, description='mvg_7', max=18)"
      ]
     },
     "metadata": {},
     "output_type": "display_data"
    },
    {
     "data": {
      "application/vnd.jupyter.widget-view+json": {
       "model_id": "7f6e65274ebf4e21b1397e0353856e35",
       "version_major": 2,
       "version_minor": 0
      },
      "text/plain": [
       "IntProgress(value=0, description='mvg_7', max=15)"
      ]
     },
     "metadata": {},
     "output_type": "display_data"
    },
    {
     "data": {
      "application/vnd.jupyter.widget-view+json": {
       "model_id": "97c328fb15f44429954614327f64b9a7",
       "version_major": 2,
       "version_minor": 0
      },
      "text/plain": [
       "IntProgress(value=0, description='mvg_7', max=3)"
      ]
     },
     "metadata": {},
     "output_type": "display_data"
    },
    {
     "data": {
      "application/vnd.jupyter.widget-view+json": {
       "model_id": "ef2b3e66a5094a9fa46fbccbd7d07541",
       "version_major": 2,
       "version_minor": 0
      },
      "text/plain": [
       "IntProgress(value=0, description='mvg_9', max=21)"
      ]
     },
     "metadata": {},
     "output_type": "display_data"
    },
    {
     "data": {
      "application/vnd.jupyter.widget-view+json": {
       "model_id": "54556175a8b04db689dae1d4b3ca3417",
       "version_major": 2,
       "version_minor": 0
      },
      "text/plain": [
       "IntProgress(value=0, description='mvg_9', max=19)"
      ]
     },
     "metadata": {},
     "output_type": "display_data"
    },
    {
     "data": {
      "application/vnd.jupyter.widget-view+json": {
       "model_id": "0e9786f60cbb4b689b637f2777e966f5",
       "version_major": 2,
       "version_minor": 0
      },
      "text/plain": [
       "IntProgress(value=0, description='mvg_9', max=2)"
      ]
     },
     "metadata": {},
     "output_type": "display_data"
    },
    {
     "data": {
      "application/vnd.jupyter.widget-view+json": {
       "model_id": "7cb21e40ceb6450a8586fc08577f63f2",
       "version_major": 2,
       "version_minor": 0
      },
      "text/plain": [
       "IntProgress(value=0, description='mvg_9', max=21)"
      ]
     },
     "metadata": {},
     "output_type": "display_data"
    },
    {
     "data": {
      "application/vnd.jupyter.widget-view+json": {
       "model_id": "a72de777b32f4558adae9f74cee7dbc3",
       "version_major": 2,
       "version_minor": 0
      },
      "text/plain": [
       "IntProgress(value=0, description='mvg_9', max=19)"
      ]
     },
     "metadata": {},
     "output_type": "display_data"
    },
    {
     "data": {
      "application/vnd.jupyter.widget-view+json": {
       "model_id": "fe5f7a96441a483cb7bec39633dcc651",
       "version_major": 2,
       "version_minor": 0
      },
      "text/plain": [
       "IntProgress(value=0, description='mvg_9', max=2)"
      ]
     },
     "metadata": {},
     "output_type": "display_data"
    },
    {
     "data": {
      "application/vnd.jupyter.widget-view+json": {
       "model_id": "0e367e4168b64cdd93b4b208b5c851b0",
       "version_major": 2,
       "version_minor": 0
      },
      "text/plain": [
       "IntProgress(value=0, description='mvg_9', max=21)"
      ]
     },
     "metadata": {},
     "output_type": "display_data"
    },
    {
     "data": {
      "application/vnd.jupyter.widget-view+json": {
       "model_id": "e781296bb61d4585934a018d78bdfe97",
       "version_major": 2,
       "version_minor": 0
      },
      "text/plain": [
       "IntProgress(value=0, description='mvg_9', max=19)"
      ]
     },
     "metadata": {},
     "output_type": "display_data"
    },
    {
     "data": {
      "application/vnd.jupyter.widget-view+json": {
       "model_id": "1cad3507ec524f408cdcd36e10be0341",
       "version_major": 2,
       "version_minor": 0
      },
      "text/plain": [
       "IntProgress(value=0, description='mvg_9', max=2)"
      ]
     },
     "metadata": {},
     "output_type": "display_data"
    },
    {
     "data": {
      "application/vnd.jupyter.widget-view+json": {
       "model_id": "09047d90961c4510ad22517c0a4cf083",
       "version_major": 2,
       "version_minor": 0
      },
      "text/plain": [
       "IntProgress(value=0, description='mvg_4', max=11)"
      ]
     },
     "metadata": {},
     "output_type": "display_data"
    },
    {
     "data": {
      "application/vnd.jupyter.widget-view+json": {
       "model_id": "66139217db6c470cb8f5d10c86a994d4",
       "version_major": 2,
       "version_minor": 0
      },
      "text/plain": [
       "IntProgress(value=0, description='mvg_4', max=9)"
      ]
     },
     "metadata": {},
     "output_type": "display_data"
    },
    {
     "data": {
      "application/vnd.jupyter.widget-view+json": {
       "model_id": "50da08aae8924e129ed72640b67487c0",
       "version_major": 2,
       "version_minor": 0
      },
      "text/plain": [
       "IntProgress(value=0, description='mvg_4', max=2)"
      ]
     },
     "metadata": {},
     "output_type": "display_data"
    },
    {
     "data": {
      "application/vnd.jupyter.widget-view+json": {
       "model_id": "8a3c6189a6664899a6b405f4ae0db587",
       "version_major": 2,
       "version_minor": 0
      },
      "text/plain": [
       "IntProgress(value=0, description='mvg_4', max=11)"
      ]
     },
     "metadata": {},
     "output_type": "display_data"
    },
    {
     "data": {
      "application/vnd.jupyter.widget-view+json": {
       "model_id": "c6b8ddbf5d864ffab713451e143e1566",
       "version_major": 2,
       "version_minor": 0
      },
      "text/plain": [
       "IntProgress(value=0, description='mvg_4', max=9)"
      ]
     },
     "metadata": {},
     "output_type": "display_data"
    },
    {
     "data": {
      "application/vnd.jupyter.widget-view+json": {
       "model_id": "d4965ddac50541d09b5cb4654f290d77",
       "version_major": 2,
       "version_minor": 0
      },
      "text/plain": [
       "IntProgress(value=0, description='mvg_4', max=2)"
      ]
     },
     "metadata": {},
     "output_type": "display_data"
    },
    {
     "data": {
      "application/vnd.jupyter.widget-view+json": {
       "model_id": "16038aff0c32413fb590e424b564f968",
       "version_major": 2,
       "version_minor": 0
      },
      "text/plain": [
       "IntProgress(value=0, description='mvg_4', max=11)"
      ]
     },
     "metadata": {},
     "output_type": "display_data"
    },
    {
     "data": {
      "application/vnd.jupyter.widget-view+json": {
       "model_id": "6e5e773819e04a719daa1166e254b8e3",
       "version_major": 2,
       "version_minor": 0
      },
      "text/plain": [
       "IntProgress(value=0, description='mvg_4', max=9)"
      ]
     },
     "metadata": {},
     "output_type": "display_data"
    },
    {
     "data": {
      "application/vnd.jupyter.widget-view+json": {
       "model_id": "4ab69de3b59e427fb0a86c6d7f84e49b",
       "version_major": 2,
       "version_minor": 0
      },
      "text/plain": [
       "IntProgress(value=0, description='mvg_4', max=2)"
      ]
     },
     "metadata": {},
     "output_type": "display_data"
    },
    {
     "data": {
      "application/vnd.jupyter.widget-view+json": {
       "model_id": "31252258582d4cc9b5e80a10801e9957",
       "version_major": 2,
       "version_minor": 0
      },
      "text/plain": [
       "IntProgress(value=0, description='mvg_8', max=16)"
      ]
     },
     "metadata": {},
     "output_type": "display_data"
    },
    {
     "data": {
      "application/vnd.jupyter.widget-view+json": {
       "model_id": "e680a7aeedd74c7cb36b68b50cc484ce",
       "version_major": 2,
       "version_minor": 0
      },
      "text/plain": [
       "IntProgress(value=0, description='mvg_8', max=10)"
      ]
     },
     "metadata": {},
     "output_type": "display_data"
    },
    {
     "data": {
      "application/vnd.jupyter.widget-view+json": {
       "model_id": "dc3444975e754adda7af750af7a9c6c0",
       "version_major": 2,
       "version_minor": 0
      },
      "text/plain": [
       "IntProgress(value=0, description='mvg_8', max=6)"
      ]
     },
     "metadata": {},
     "output_type": "display_data"
    },
    {
     "data": {
      "application/vnd.jupyter.widget-view+json": {
       "model_id": "b1ee24c3579444ec9834c09a39e5ca35",
       "version_major": 2,
       "version_minor": 0
      },
      "text/plain": [
       "IntProgress(value=0, description='mvg_8', max=16)"
      ]
     },
     "metadata": {},
     "output_type": "display_data"
    },
    {
     "data": {
      "application/vnd.jupyter.widget-view+json": {
       "model_id": "23c02d1ef77b48cfbc6388cf24d30af1",
       "version_major": 2,
       "version_minor": 0
      },
      "text/plain": [
       "IntProgress(value=0, description='mvg_8', max=10)"
      ]
     },
     "metadata": {},
     "output_type": "display_data"
    },
    {
     "data": {
      "application/vnd.jupyter.widget-view+json": {
       "model_id": "41744bbda28d4ca1a12fdb6bfeb2dc05",
       "version_major": 2,
       "version_minor": 0
      },
      "text/plain": [
       "IntProgress(value=0, description='mvg_8', max=6)"
      ]
     },
     "metadata": {},
     "output_type": "display_data"
    },
    {
     "data": {
      "application/vnd.jupyter.widget-view+json": {
       "model_id": "3a259d2e1c4f4a78acc02fd2d561beca",
       "version_major": 2,
       "version_minor": 0
      },
      "text/plain": [
       "IntProgress(value=0, description='mvg_8', max=16)"
      ]
     },
     "metadata": {},
     "output_type": "display_data"
    },
    {
     "data": {
      "application/vnd.jupyter.widget-view+json": {
       "model_id": "c48dcb7f74f84e609244abee0ee55978",
       "version_major": 2,
       "version_minor": 0
      },
      "text/plain": [
       "IntProgress(value=0, description='mvg_8', max=10)"
      ]
     },
     "metadata": {},
     "output_type": "display_data"
    },
    {
     "data": {
      "application/vnd.jupyter.widget-view+json": {
       "model_id": "48dccadbf5f544608e35a8da317bfe1c",
       "version_major": 2,
       "version_minor": 0
      },
      "text/plain": [
       "IntProgress(value=0, description='mvg_8', max=6)"
      ]
     },
     "metadata": {},
     "output_type": "display_data"
    }
   ],
   "source": [
    "bulk_metrics.metric_mouse_bulk_vs_session(dataDB, mc, ds, \"rank_effective\", '', trialTypeNames=[], verbose=False)"
   ]
  },
  {
   "cell_type": "code",
   "execution_count": 22,
   "metadata": {
    "scrolled": false
   },
   "outputs": [],
   "source": [
    "bulk_metrics.plot_metric_bulk_vs_session(dataDB, ds, 'rank_effective', trialTypeNames=[], ylim=[1,48], verbose=False)"
   ]
  },
  {
   "cell_type": "markdown",
   "metadata": {},
   "source": [
    "# Total Correlation"
   ]
  },
  {
   "cell_type": "code",
   "execution_count": null,
   "metadata": {},
   "outputs": [
    {
     "data": {
      "application/vnd.jupyter.widget-view+json": {
       "model_id": "52c5d077b25940e4829307cb9fb93ce8",
       "version_major": 2,
       "version_minor": 0
      },
      "text/plain": [
       "IntProgress(value=0, description='time-channel', max=180)"
      ]
     },
     "metadata": {},
     "output_type": "display_data"
    }
   ],
   "source": [
    "bulk_metrics.metric_mouse_bulk(dataDB, mc, ds, \"avg_entropy\", 'sp', 'time-channel', verbose=False)\n",
    "bulk_metrics.metric_mouse_bulk(dataDB, mc, ds, \"avg_entropy\", 's', 'time', verbose=False)"
   ]
  },
  {
   "cell_type": "code",
   "execution_count": null,
   "metadata": {
    "collapsed": true
   },
   "outputs": [],
   "source": [
    "bulk_metrics.plot_TC(dataDB, ds, 'avg_entropy', 'time', ylim=[1,48])"
   ]
  },
  {
   "cell_type": "markdown",
   "metadata": {},
   "source": [
    "### Cleaning up"
   ]
  },
  {
   "cell_type": "code",
   "execution_count": null,
   "metadata": {},
   "outputs": [],
   "source": [
    "with pd.option_context('display.max_rows', None, 'display.max_columns', None):\n",
    "    display(ds.list_dsets_pd().sort_values(by='datetime'))"
   ]
  },
  {
   "cell_type": "code",
   "execution_count": null,
   "metadata": {},
   "outputs": [],
   "source": [
    "ds.delete_recent(\"2020-11-23 08:00:00\")"
   ]
  },
  {
   "cell_type": "code",
   "execution_count": null,
   "metadata": {
    "collapsed": true
   },
   "outputs": [],
   "source": []
  }
 ],
 "metadata": {
  "kernelspec": {
   "display_name": "Python (py36qt5)",
   "language": "python",
   "name": "py36qt5"
  },
  "language_info": {
   "codemirror_mode": {
    "name": "ipython",
    "version": 3
   },
   "file_extension": ".py",
   "mimetype": "text/x-python",
   "name": "python",
   "nbconvert_exporter": "python",
   "pygments_lexer": "ipython3",
   "version": "3.6.4"
  }
 },
 "nbformat": 4,
 "nbformat_minor": 2
}

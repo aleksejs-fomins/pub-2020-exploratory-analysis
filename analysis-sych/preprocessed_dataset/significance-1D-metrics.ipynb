{
 "cells": [
  {
   "cell_type": "code",
   "execution_count": null,
   "metadata": {},
   "outputs": [],
   "source": [
    "# Standard libraries\n",
    "import numpy as np\n",
    "import pandas as pd\n",
    "import matplotlib.pyplot as plt\n",
    "from ipywidgets import IntProgress\n",
    "from IPython.display import display\n",
    "\n",
    "import statsmodels.api as sm\n",
    "from statsmodels.formula.api import ols\n",
    "\n",
    "# Append base directory\n",
    "import os,sys,inspect\n",
    "rootname = \"pub-2020-exploratory-analysis\"\n",
    "thispath = os.path.dirname(os.path.abspath(inspect.getfile(inspect.currentframe())))\n",
    "rootpath = os.path.join(thispath[:thispath.index(rootname)], rootname)\n",
    "sys.path.append(rootpath)\n",
    "print(\"Appended root directory\", rootpath)\n",
    "\n",
    "from mesostat.utils.qt_helper import gui_fnames, gui_fpath\n",
    "from mesostat.metric.metric import MetricCalculator\n",
    "from mesostat.utils.hdf5_io import DataStorage\n",
    "from mesostat.stat.anova import as_pandas, as_pandas_lst, anova_homebrew\n",
    "\n",
    "from lib.sych.data_fc_db_raw import DataFCDatabase\n",
    "from lib.sych.plot_helper import imshow_dataset_by_mouse, imshow_dataset_by_session\n",
    "from lib.sych.metric_helper import metric_by_session\n",
    "\n",
    "%load_ext autoreload\n",
    "%autoreload 2"
   ]
  },
  {
   "cell_type": "code",
   "execution_count": null,
   "metadata": {},
   "outputs": [],
   "source": [
    "# tmp_path = root_path_data if 'root_path_data' in locals() else \"./\"\n",
    "params = {}\n",
    "# params['root_path_data'] = './'\n",
    "# params['root_path_data'] = '/media/alyosha/Data/TE_data/yarodata/sych_preprocessed'\n",
    "params['root_path_data'] = gui_fpath('h5path', './')"
   ]
  },
  {
   "cell_type": "code",
   "execution_count": null,
   "metadata": {},
   "outputs": [],
   "source": [
    "dataDB = DataFCDatabase(params)"
   ]
  },
  {
   "cell_type": "code",
   "execution_count": null,
   "metadata": {},
   "outputs": [],
   "source": [
    "ds = DataStorage('sych_result_individual_region.h5')"
   ]
  },
  {
   "cell_type": "code",
   "execution_count": null,
   "metadata": {},
   "outputs": [],
   "source": [
    "mc = MetricCalculator(serial=True, verbose=False)"
   ]
  },
  {
   "cell_type": "code",
   "execution_count": null,
   "metadata": {},
   "outputs": [],
   "source": [
    "print(dataDB.mice)\n",
    "print(dataDB.dataTypes)\n",
    "print(dataDB.trialTypeNames)"
   ]
  },
  {
   "cell_type": "code",
   "execution_count": null,
   "metadata": {
    "scrolled": true
   },
   "outputs": [],
   "source": [
    "dataDB.get_channel_labels()"
   ]
  },
  {
   "cell_type": "markdown",
   "metadata": {},
   "source": [
    "# 1. Exploratory Study\n",
    "\n",
    "Explore activity across sessions, phases and channels\n",
    "\n",
    "**TODO:**\n",
    "* Append pre-trial phase to dataDB, adjust all methods\n",
    "* Add loop over phases. Trial-average is not significant here\n",
    "\n",
    "## 1.1 Mean and Variance"
   ]
  },
  {
   "cell_type": "markdown",
   "metadata": {},
   "source": [
    "    mvg_4_2017_11_10_a - 14 - High start                   - Natural bad start -> Ord up to 15 helps\n",
    "    mvg_4_2017_11_10_a - 33 - Low start then jump          - Natural bad start -> Ord up to 15 helps\n",
    "    mvg_4_2017_11_20_a - 41 - Very Negative.               - Has impulses -> Selected-trial-specific helps\n",
    "    mvg_4_2017_11_21_a - Multiple channels very negative   - Has impulses -> Selected-trial-specific helps\n",
    "    mvg_4_2017_11_22_a - Multiple channels very negative   - Has impulses -> Selected-trial-specific helps\n",
    "    mvg_4_2017_11_23_a - Multiple channels very negative   - Has impulses -> Selected-trial-specific helps\n",
    "    mvg_4_2017_11_24_a - Multiple channels very negative   - Has impulses -> Selected-trial-specific helps\n",
    "    \n",
    "    mvg_7_2018_11_14_a - 41 - High start                   - Quadratic not good enough -> Ord up to 15 helps\n",
    "    mvg_7- All         - 21 - Weirc clacking                           - Drop channel\n",
    "    \n",
    "    mvg_8_2018_11_17_a - 21 - Weird trial-level periodicity            - Drop channel\n",
    "        - Yaro will look\n",
    "    mvg_8_2018_11_23_a - 20 - Huge experimental dip in the beginning   - Drop channel. Later crop trials after dip\n",
    "    \n",
    "    mvg_9_2019_02_26_a - Weird jump all channels @ trial--470          - Drop session. Later crop trials before jump\n",
    "    \n",
    "**Solutions**:\n",
    "1. Drop channel 21 completely for mouse 7 and 8\n",
    "2. [Done] Crop `mvg_9_2019_02_26_a` to [:470]\n",
    "3. [Done] Fix `mvg_8_2018_11_23_a` Manually"
   ]
  },
  {
   "cell_type": "code",
   "execution_count": null,
   "metadata": {
    "scrolled": true
   },
   "outputs": [],
   "source": [
    "for datatype in dataDB.get_data_types():\n",
    "    for iMouse, mousename in enumerate(sorted(dataDB.mice)):\n",
    "        for session in dataDB.get_sessions(mousename):\n",
    "            dataThis = dataDB.get_neuro_data({'session': session}, datatype=datatype)[0]\n",
    "            \n",
    "            plt.figure()\n",
    "            plt.plot(np.mean(dataThis, axis=1))\n",
    "            plt.title('_'.join([datatype, session]))\n",
    "            plt.show()"
   ]
  },
  {
   "cell_type": "code",
   "execution_count": null,
   "metadata": {
    "scrolled": true
   },
   "outputs": [],
   "source": [
    "for metricName in ['mean', 'std']:#, 'avg_entropy']:\n",
    "    for iMouse, mousename in enumerate(sorted(dataDB.mice)):\n",
    "        for datatype in dataDB.get_data_types():\n",
    "            for trialType in dataDB.get_trial_type_names():\n",
    "                dataName = '_'.join([metricName, datatype, trialType])\n",
    "                print(dataName)\n",
    "                metric_by_session(dataDB, mc, ds, mousename, metricName, 'p',\n",
    "                                  datatype=datatype, dataName=dataName, trialType=trialType)"
   ]
  },
  {
   "cell_type": "code",
   "execution_count": null,
   "metadata": {
    "scrolled": true
   },
   "outputs": [],
   "source": [
    "for metricName in ['mean', 'std']:#, 'avg_entropy']:\n",
    "    for datatype in dataDB.get_data_types():\n",
    "        for trialType in dataDB.get_trial_type_names():\n",
    "            dataName = '_'.join([metricName, datatype, trialType])\n",
    "            imshow_dataset_by_mouse(dataDB, ds, dataName, dropX=21)"
   ]
  },
  {
   "cell_type": "markdown",
   "metadata": {},
   "source": [
    "## 1.2 Temporal Mean"
   ]
  },
  {
   "cell_type": "code",
   "execution_count": null,
   "metadata": {
    "scrolled": true
   },
   "outputs": [],
   "source": [
    "metricName = 'mean'\n",
    "for iMouse, mousename in enumerate(sorted(dataDB.mice)):\n",
    "    for datatype in dataDB.get_data_types():\n",
    "        dataName = metricName + '_time_' + datatype\n",
    "        if datatype == 'raw':\n",
    "            zscoreDim='rs'\n",
    "        else:\n",
    "            zscoreDim=None\n",
    "        \n",
    "        metric_by_session(dataDB, mc, ds, mousename, metricName, 'ps',\n",
    "                          datatype=datatype,\n",
    "                          dataName=dataName,\n",
    "                          zscoreDim=zscoreDim)"
   ]
  },
  {
   "cell_type": "code",
   "execution_count": null,
   "metadata": {
    "scrolled": true
   },
   "outputs": [],
   "source": [
    "metricName = 'mean'\n",
    "for datatype in dataDB.get_data_types(mousename):\n",
    "    dataName = metricName + '_time_' + datatype\n",
    "    print(dataName)\n",
    "    \n",
    "    imshow_dataset_by_session(dataDB, ds, dataName, limits=None,\n",
    "                              fig1size=(12, 2), colBased=False, aspect='auto')"
   ]
  },
  {
   "cell_type": "markdown",
   "metadata": {},
   "source": [
    "# 2. Phase and TrialType Specificity\n",
    "\n",
    "**Significance**\n",
    "* 1D Test if phases (PRE, TEX, REW) are different\n",
    "* 1D Test if trialTypes are different in each phase\n",
    "* Hierarchical test if TEX and REW are better at discriminating trialType than PRE\n",
    "* Hierarchical test if bn_trial is better than bn_session at discriminating trialType\n",
    "\n",
    "**Effect size**\n",
    "* Compute scatter of pval vs effect size\n",
    "* Check if there is a large range of effect sizes for significant tests\n",
    "* Comment if effect sizes meaningful"
   ]
  },
  {
   "cell_type": "code",
   "execution_count": null,
   "metadata": {},
   "outputs": [],
   "source": []
  }
 ],
 "metadata": {
  "kernelspec": {
   "display_name": "py3ml",
   "language": "python",
   "name": "py3ml"
  },
  "language_info": {
   "codemirror_mode": {
    "name": "ipython",
    "version": 3
   },
   "file_extension": ".py",
   "mimetype": "text/x-python",
   "name": "python",
   "nbconvert_exporter": "python",
   "pygments_lexer": "ipython3",
   "version": "3.8.5"
  }
 },
 "nbformat": 4,
 "nbformat_minor": 2
}

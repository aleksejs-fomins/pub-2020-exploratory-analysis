{
 "cells": [
  {
   "cell_type": "code",
   "execution_count": null,
   "metadata": {},
   "outputs": [],
   "source": [
    "# Standard libraries\n",
    "import h5py\n",
    "import numpy as np\n",
    "import pandas as pd\n",
    "import matplotlib.pyplot as plt\n",
    "from ipywidgets import IntProgress\n",
    "from IPython.display import display\n",
    "\n",
    "# Append base directory\n",
    "import os,sys,inspect\n",
    "rootname = \"pub-2020-exploratory-analysis\"\n",
    "thispath = os.path.dirname(os.path.abspath(inspect.getfile(inspect.currentframe())))\n",
    "rootpath = os.path.join(thispath[:thispath.index(rootname)], rootname)\n",
    "sys.path.append(rootpath)\n",
    "print(\"Appended root directory\", rootpath)\n",
    "\n",
    "from mesostat.utils.qt_helper import gui_fnames, gui_fpath\n",
    "\n",
    "import lib.sych.preprocess_raw as prep\n",
    "\n",
    "%load_ext autoreload\n",
    "%autoreload 2"
   ]
  },
  {
   "cell_type": "markdown",
   "metadata": {},
   "source": [
    "# Pooling Data From LVM"
   ]
  },
  {
   "cell_type": "code",
   "execution_count": null,
   "metadata": {},
   "outputs": [],
   "source": [
    "# fpathData = gui_fpath(\"Root directory for raw data\", \"./\")\n",
    "# fpathData = '/mnt/neurophys-storage2/Sych/Yaro/data_raw/'\n",
    "fpathData = '/run/user/1000/gvfs/smb-share:server=130.60.51.15,share=neurophysiology-storage2/Sych/Yaro/data_raw'"
   ]
  },
  {
   "cell_type": "code",
   "execution_count": null,
   "metadata": {},
   "outputs": [],
   "source": [
    "dfFiles = prep.raw_get_files_df(fpathData)\n",
    "dfFiles"
   ]
  },
  {
   "cell_type": "code",
   "execution_count": null,
   "metadata": {
    "scrolled": true
   },
   "outputs": [],
   "source": [
    "prep.raw_pool_data(dfFiles)"
   ]
  },
  {
   "cell_type": "markdown",
   "metadata": {},
   "source": [
    "# Moving all datasets to data group"
   ]
  },
  {
   "cell_type": "code",
   "execution_count": null,
   "metadata": {},
   "outputs": [],
   "source": [
    "# fpathDataH5 = gui_fpath(\"Directory for data files\", \"./\")\n",
    "fpathDataH5 = '/media/alyosha/Data/TE_data/yarodata/sych_preprocessed/'\n",
    "# fpathDataH5 = '/media/aleksejs/DataHDD/work/data/yaro/neuronal-raw-pooled'"
   ]
  },
  {
   "cell_type": "code",
   "execution_count": null,
   "metadata": {},
   "outputs": [],
   "source": [
    "dfRawH5 = prep.pooled_get_files_df(fpathDataH5)"
   ]
  },
  {
   "cell_type": "code",
   "execution_count": null,
   "metadata": {},
   "outputs": [],
   "source": [
    "dfRawH5"
   ]
  },
  {
   "cell_type": "code",
   "execution_count": null,
   "metadata": {},
   "outputs": [],
   "source": [
    "prep.pooled_move_data_subfolder(dfRawH5)"
   ]
  },
  {
   "cell_type": "code",
   "execution_count": null,
   "metadata": {
    "scrolled": true
   },
   "outputs": [],
   "source": [
    "prep.pooled_move_sanity_check(dfRawH5)"
   ]
  },
  {
   "cell_type": "markdown",
   "metadata": {},
   "source": [
    "# Mark Starts and ends of Trials"
   ]
  },
  {
   "cell_type": "code",
   "execution_count": null,
   "metadata": {
    "scrolled": true
   },
   "outputs": [],
   "source": [
    "prep.pooled_mark_trial_starts_ends(dfRawH5)"
   ]
  },
  {
   "cell_type": "markdown",
   "metadata": {},
   "source": [
    "# Appending Channel Labels"
   ]
  },
  {
   "cell_type": "code",
   "execution_count": null,
   "metadata": {},
   "outputs": [],
   "source": [
    "# fpathDataOrig = gui_fpath(\"Directory for original data tree\", \"./\")\n",
    "fpathDataOrig = '/media/alyosha/Data/TE_data/yarodata/neuro/mvg48'\n",
    "# fpathDataOrig = '/media/aleksejs/DataHDD/work/data/yaro/neuronal/mvg48'"
   ]
  },
  {
   "cell_type": "code",
   "execution_count": null,
   "metadata": {},
   "outputs": [],
   "source": [
    "dfLabels = prep.channel_labels_get_files_df(fpathDataOrig)\n",
    "dfLabels"
   ]
  },
  {
   "cell_type": "code",
   "execution_count": null,
   "metadata": {},
   "outputs": [],
   "source": [
    "prep.pooled_mark_channel_labels(dfRawH5, dfLabels)"
   ]
  },
  {
   "cell_type": "code",
   "execution_count": null,
   "metadata": {
    "scrolled": false
   },
   "outputs": [],
   "source": [
    "prep.update_channel_labels_unique(dfRawH5)"
   ]
  },
  {
   "cell_type": "markdown",
   "metadata": {},
   "source": [
    "# Adding behaviour\n",
    "\n",
    "**Problems/Bugs**:\n",
    "1. [early_go_trials, iGO_inhibition] overlap - within this framework could be solved by multiplexing enum\n",
    "2. mvg_8_2018_11_22_a has 406 trials in behaviour but only 142 in neuro - crop to neuro\n",
    "\n",
    "**TODO**:\n",
    "1. Crop trial start/end to match behaviour\n",
    "2. Drop some trials if Yaro says so"
   ]
  },
  {
   "cell_type": "code",
   "execution_count": null,
   "metadata": {},
   "outputs": [],
   "source": [
    "dfNeuro = prep.orig_neuro_get_files_df(fpathDataOrig)\n",
    "dfNeuro"
   ]
  },
  {
   "cell_type": "code",
   "execution_count": null,
   "metadata": {
    "scrolled": true
   },
   "outputs": [],
   "source": [
    "prep.pooled_mark_trial_types_performance(dfRawH5, dfNeuro)"
   ]
  },
  {
   "cell_type": "markdown",
   "metadata": {},
   "source": [
    "# Drop bad sessions\n",
    "\n",
    "1. Drop sessions that were not used by Yaro in first analysis"
   ]
  },
  {
   "cell_type": "code",
   "execution_count": null,
   "metadata": {},
   "outputs": [],
   "source": [
    "prep.drop_sessions_not_in_neuro(dfNeuro, dfRawH5)"
   ]
  },
  {
   "cell_type": "markdown",
   "metadata": {},
   "source": [
    "2. Deleting extra sessions that behave badly"
   ]
  },
  {
   "cell_type": "code",
   "execution_count": null,
   "metadata": {},
   "outputs": [],
   "source": [
    "prep.drop_session(dfRawH5, 'mvg_8_2018_11_22_a')\n",
    "prep.drop_session(dfRawH5, 'mvg_9_2019_03_21_a')"
   ]
  },
  {
   "cell_type": "markdown",
   "metadata": {},
   "source": [
    "# Drop bad trials"
   ]
  },
  {
   "cell_type": "markdown",
   "metadata": {},
   "source": [
    "1. Filtering short trials"
   ]
  },
  {
   "cell_type": "code",
   "execution_count": null,
   "metadata": {},
   "outputs": [],
   "source": [
    "shortTrialDict = prep.find_short_trials(dfRawH5)"
   ]
  },
  {
   "cell_type": "code",
   "execution_count": null,
   "metadata": {},
   "outputs": [],
   "source": [
    "shortTrialDict"
   ]
  },
  {
   "cell_type": "code",
   "execution_count": null,
   "metadata": {},
   "outputs": [],
   "source": [
    "for session, idxsTrial in shortTrialDict.items():\n",
    "    prep.drop_trials(dfRawH5, session, idxsTrial)"
   ]
  },
  {
   "cell_type": "markdown",
   "metadata": {},
   "source": [
    "3. Filtering outlier trials - orders of magnitude larger than others"
   ]
  },
  {
   "cell_type": "code",
   "execution_count": null,
   "metadata": {
    "scrolled": true
   },
   "outputs": [],
   "source": [
    "largeTrialDict = prep.find_large_trials(dfRawH5)"
   ]
  },
  {
   "cell_type": "code",
   "execution_count": null,
   "metadata": {},
   "outputs": [],
   "source": [
    "largeTrialDict"
   ]
  },
  {
   "cell_type": "code",
   "execution_count": null,
   "metadata": {},
   "outputs": [],
   "source": [
    "for session, idxsTrial in largeTrialDict.items():\n",
    "    prep.drop_trials(dfRawH5, session, idxsTrial)"
   ]
  },
  {
   "cell_type": "markdown",
   "metadata": {},
   "source": [
    "# Fixing channels 1: Cropping broken trials\n",
    "\n",
    "1. Find all trials not fully contained in the interval\n",
    "2. Mark these trials as bad and update storage"
   ]
  },
  {
   "cell_type": "code",
   "execution_count": null,
   "metadata": {},
   "outputs": [],
   "source": [
    "badTrialIdxs = prep.get_trial_idxs_by_interval(dfRawH5, 'mvg_9_2019_02_26_a', 0, 161315, -2, 8)"
   ]
  },
  {
   "cell_type": "code",
   "execution_count": null,
   "metadata": {},
   "outputs": [],
   "source": [
    "prep.drop_trials(dfRawH5, 'mvg_9_2019_02_26_a', badTrialIdxs)"
   ]
  },
  {
   "cell_type": "code",
   "execution_count": null,
   "metadata": {},
   "outputs": [],
   "source": [
    "badTrialIdxs = prep.get_trial_idxs_by_interval(dfRawH5, 'mvg_4_2017_11_14_a', 14000, 400000, -2, 8)"
   ]
  },
  {
   "cell_type": "code",
   "execution_count": null,
   "metadata": {},
   "outputs": [],
   "source": [
    "prep.drop_trials(dfRawH5, 'mvg_4_2017_11_14_a', badTrialIdxs)"
   ]
  },
  {
   "cell_type": "code",
   "execution_count": null,
   "metadata": {},
   "outputs": [],
   "source": [
    "badTrialIdxs = prep.get_trial_idxs_by_interval(dfRawH5, 'mvg_4_2017_11_20_a', 5900, 400000, -2, 8)"
   ]
  },
  {
   "cell_type": "code",
   "execution_count": null,
   "metadata": {},
   "outputs": [],
   "source": [
    "prep.drop_trials(dfRawH5, 'mvg_4_2017_11_20_a', badTrialIdxs)"
   ]
  },
  {
   "cell_type": "code",
   "execution_count": null,
   "metadata": {},
   "outputs": [],
   "source": [
    "badTrialIdxs = prep.get_trial_idxs_by_interval(dfRawH5, 'mvg_7_2018_11_20_a', 190000, 400000, -2, 8, inside=True)"
   ]
  },
  {
   "cell_type": "code",
   "execution_count": null,
   "metadata": {},
   "outputs": [],
   "source": [
    "prep.drop_trials(dfRawH5, 'mvg_7_2018_11_20_a', badTrialIdxs)"
   ]
  },
  {
   "cell_type": "code",
   "execution_count": null,
   "metadata": {},
   "outputs": [],
   "source": [
    "badTrialIdxs = prep.get_trial_idxs_by_interval(dfRawH5, 'mvg_7_2018_11_24_a', 0, 1800, -2, 8, inside=True)"
   ]
  },
  {
   "cell_type": "code",
   "execution_count": null,
   "metadata": {},
   "outputs": [],
   "source": [
    "prep.drop_trials(dfRawH5, 'mvg_7_2018_11_24_a', badTrialIdxs)"
   ]
  },
  {
   "cell_type": "code",
   "execution_count": null,
   "metadata": {},
   "outputs": [],
   "source": [
    "badTrialIdxs = prep.get_trial_idxs_by_interval(dfRawH5, 'mvg_9_2019_02_19_a', 48500, 400000, -2, 8)"
   ]
  },
  {
   "cell_type": "code",
   "execution_count": null,
   "metadata": {},
   "outputs": [],
   "source": [
    "prep.drop_trials(dfRawH5, 'mvg_9_2019_02_19_a', badTrialIdxs)"
   ]
  },
  {
   "cell_type": "code",
   "execution_count": null,
   "metadata": {},
   "outputs": [],
   "source": [
    "badTrialIdxs = prep.get_trial_idxs_by_interval(dfRawH5, 'mvg_9_2019_02_21_a', 0, 102000, -2, 8)"
   ]
  },
  {
   "cell_type": "code",
   "execution_count": null,
   "metadata": {},
   "outputs": [],
   "source": [
    "prep.drop_trials(dfRawH5, 'mvg_9_2019_02_21_a', badTrialIdxs)"
   ]
  },
  {
   "cell_type": "code",
   "execution_count": null,
   "metadata": {
    "scrolled": true
   },
   "outputs": [],
   "source": [
    "badTrialIdxs = prep.get_trial_idxs_by_interval(dfRawH5, 'mvg_9_2019_02_26_a', 145000, 400000, -2, 8, inside=True)"
   ]
  },
  {
   "cell_type": "code",
   "execution_count": null,
   "metadata": {},
   "outputs": [],
   "source": [
    "prep.drop_trials(dfRawH5, 'mvg_9_2019_02_26_a', badTrialIdxs)"
   ]
  },
  {
   "cell_type": "code",
   "execution_count": null,
   "metadata": {},
   "outputs": [],
   "source": [
    "badTrialIdxs = prep.get_trial_idxs_by_interval(dfRawH5, 'mvg_9_2019_03_04_a', 0, 7000, -2, 8, inside=True)"
   ]
  },
  {
   "cell_type": "code",
   "execution_count": null,
   "metadata": {},
   "outputs": [],
   "source": [
    "prep.drop_trials(dfRawH5, 'mvg_9_2019_03_04_a', badTrialIdxs)"
   ]
  },
  {
   "cell_type": "code",
   "execution_count": null,
   "metadata": {},
   "outputs": [],
   "source": [
    "badTrialIdxs = prep.get_trial_idxs_by_interval(dfRawH5, 'mvg_9_2019_03_05_a', 0, 2500, -2, 8, inside=True)"
   ]
  },
  {
   "cell_type": "code",
   "execution_count": null,
   "metadata": {},
   "outputs": [],
   "source": [
    "prep.drop_trials(dfRawH5, 'mvg_9_2019_03_05_a', badTrialIdxs)"
   ]
  },
  {
   "cell_type": "code",
   "execution_count": null,
   "metadata": {},
   "outputs": [],
   "source": [
    "badTrialIdxs = prep.get_trial_idxs_by_interval(dfRawH5, 'mvg_9_2019_03_07_a', 0, 2500, -2, 8, inside=True)"
   ]
  },
  {
   "cell_type": "code",
   "execution_count": null,
   "metadata": {},
   "outputs": [],
   "source": [
    "prep.drop_trials(dfRawH5, 'mvg_9_2019_03_07_a', badTrialIdxs)"
   ]
  },
  {
   "cell_type": "code",
   "execution_count": null,
   "metadata": {},
   "outputs": [],
   "source": [
    "badTrialIdxs = prep.get_trial_idxs_by_interval(dfRawH5, 'mvg_9_2019_03_08_a', 0, 15000, -2, 8, inside=True)"
   ]
  },
  {
   "cell_type": "code",
   "execution_count": null,
   "metadata": {},
   "outputs": [],
   "source": [
    "prep.drop_trials(dfRawH5, 'mvg_9_2019_03_08_a', badTrialIdxs)"
   ]
  },
  {
   "cell_type": "code",
   "execution_count": null,
   "metadata": {},
   "outputs": [],
   "source": [
    "badTrialIdxs = prep.get_trial_idxs_by_interval(dfRawH5, 'mvg_9_2019_03_09_a', 0, 7000, -2, 8, inside=True)"
   ]
  },
  {
   "cell_type": "code",
   "execution_count": null,
   "metadata": {},
   "outputs": [],
   "source": [
    "prep.drop_trials(dfRawH5, 'mvg_9_2019_03_09_a', badTrialIdxs)"
   ]
  },
  {
   "cell_type": "markdown",
   "metadata": {
    "collapsed": true
   },
   "source": [
    "# Cropping starts and ends of trials to match behaviour"
   ]
  },
  {
   "cell_type": "code",
   "execution_count": null,
   "metadata": {
    "scrolled": true
   },
   "outputs": [],
   "source": [
    "prep.pooled_trunc_trial_starts_ntrials(dfRawH5)"
   ]
  },
  {
   "cell_type": "markdown",
   "metadata": {},
   "source": [
    "# Testing trial length sensibility"
   ]
  },
  {
   "cell_type": "code",
   "execution_count": null,
   "metadata": {
    "scrolled": true
   },
   "outputs": [],
   "source": [
    "prep.pooled_trial_length_summary_excel(dfRawH5)"
   ]
  },
  {
   "cell_type": "markdown",
   "metadata": {},
   "source": [
    "# Pulling Trial Durations From Behaviour Files\n"
   ]
  },
  {
   "cell_type": "code",
   "execution_count": null,
   "metadata": {},
   "outputs": [],
   "source": [
    "dfBehavTiming = prep.behav_timing_get_files_df(fpathData)\n",
    "dfBehavTiming"
   ]
  },
  {
   "cell_type": "code",
   "execution_count": null,
   "metadata": {
    "scrolled": true
   },
   "outputs": [],
   "source": [
    "prep.behav_timing_read_get_trial_lengths(dfRawH5, dfBehavTiming)"
   ]
  },
  {
   "cell_type": "code",
   "execution_count": null,
   "metadata": {
    "scrolled": true
   },
   "outputs": [],
   "source": [
    "prep.behav_timing_compare_neuro(dfRawH5)"
   ]
  },
  {
   "cell_type": "markdown",
   "metadata": {},
   "source": [
    "# Plotting raw selected data for sensibility checks"
   ]
  },
  {
   "cell_type": "code",
   "execution_count": null,
   "metadata": {
    "scrolled": true
   },
   "outputs": [],
   "source": [
    "prep.get_sessions(dfRawH5, 'mvg_7')"
   ]
  },
  {
   "cell_type": "code",
   "execution_count": null,
   "metadata": {
    "scrolled": true
   },
   "outputs": [],
   "source": [
    "%matplotlib inline\n",
    "for iCh in range(48):\n",
    "    prep.plot_raw(dfRawH5, 'mvg_9_2019_02_08_a', iCh, onlyTrials=True, onlySelected=True, figsize=(8,3))"
   ]
  },
  {
   "cell_type": "code",
   "execution_count": null,
   "metadata": {},
   "outputs": [],
   "source": [
    "%matplotlib notebook\n",
    "prep.plot_raw(dfRawH5, 'mvg_9_2019_02_08_a', 1, onlyTrials=False, onlySelected=True, figsize=(8,3))"
   ]
  },
  {
   "cell_type": "markdown",
   "metadata": {},
   "source": [
    "# Background Subtraction\n",
    "\n",
    "Test if there is significant gain from using higher order polynomials"
   ]
  },
  {
   "cell_type": "code",
   "execution_count": null,
   "metadata": {
    "scrolled": true
   },
   "outputs": [],
   "source": [
    "prep.pooled_plot_background_polyfit_residuals(dfRawH5, ordMax=8)"
   ]
  },
  {
   "cell_type": "code",
   "execution_count": null,
   "metadata": {},
   "outputs": [],
   "source": [
    "%matplotlib notebook\n",
    "# %matplotlib inline\n",
    "prep.poly_view_fit(dfRawH5, 'mvg_9_2019_02_08_a', 17, 15, onlyTrials=True, onlySelected=True, xPart=[110556, 8, 5])"
   ]
  },
  {
   "cell_type": "markdown",
   "metadata": {},
   "source": [
    "# Fixing channels 2: Linear adjustment"
   ]
  },
  {
   "cell_type": "code",
   "execution_count": null,
   "metadata": {
    "scrolled": true
   },
   "outputs": [],
   "source": [
    "# Linear adjustment\n",
    "intervLst = [0, 7427, 28259, 29648]\n",
    "valLst = [1070, 2460, 430]\n",
    "prep.fix_adjust_drop_channel(dfRawH5, 'mvg_8_2018_11_23_a', 20, intervLst, valLst, update=False)"
   ]
  },
  {
   "cell_type": "code",
   "execution_count": null,
   "metadata": {},
   "outputs": [],
   "source": [
    "# Minor fix, lost FPS\n",
    "pwdTmp = list(dfRawH5[dfRawH5['mousename'] == 'mvg_8']['path'])[0]\n",
    "\n",
    "with h5py.File(pwdTmp, 'a') as f:\n",
    "    f['data']['mvg_8_2018_11_23_a'].attrs['FPS'] = 20"
   ]
  },
  {
   "cell_type": "markdown",
   "metadata": {},
   "source": [
    "# Test if pre-trial activity is actually small"
   ]
  },
  {
   "cell_type": "code",
   "execution_count": null,
   "metadata": {},
   "outputs": [],
   "source": [
    "prep.check_pre_trial_activity_small(dfRawH5)"
   ]
  },
  {
   "cell_type": "markdown",
   "metadata": {},
   "source": [
    "# Baseline Normalization\n",
    "\n",
    "* ZScore (Trial/Session-wise)\n",
    "* Pre-trial mean estimate (Trial/Session-wise)"
   ]
  },
  {
   "cell_type": "code",
   "execution_count": null,
   "metadata": {},
   "outputs": [],
   "source": [
    "xPartMap = {\n",
    "    'mvg_7_2018_11_18_a' : [50285, 3, 5],\n",
    "    'mvg_7_2018_11_20_a' : [18839, 3, 10],\n",
    "    'mvg_7_2018_11_21_a' : [29034, 3, 10],\n",
    "    'mvg_7_2018_11_22_a' : [152251, 8, 5],\n",
    "    'mvg_7_2018_11_23_a' : [99177, 5, 7],\n",
    "    'mvg_7_2018_11_26_a' : [6544, 1, 8],\n",
    "    'mvg_7_2018_11_29_a' : [30529, 1, 8],\n",
    "    'mvg_7_2018_12_05_a' : [95557, 10, 1],\n",
    "    'mvg_8_2018_11_19_a' : [16712, 3, 8],\n",
    "    'mvg_9_2019_02_07_a' : [59219, 3, 8],\n",
    "    'mvg_9_2019_02_08_a' : [110556, 8, 5]\n",
    "}"
   ]
  },
  {
   "cell_type": "code",
   "execution_count": null,
   "metadata": {
    "scrolled": true
   },
   "outputs": [],
   "source": [
    "prep.extract_store_trial_data(dfRawH5, xPartMap,\n",
    "                              targetFPS=20, bgOrd=15, fitOnlySelectedTrials=True, keepExisting=False)"
   ]
  },
  {
   "cell_type": "markdown",
   "metadata": {
    "collapsed": true
   },
   "source": [
    "# Extract and Store Performance"
   ]
  },
  {
   "cell_type": "code",
   "execution_count": null,
   "metadata": {},
   "outputs": [],
   "source": [
    "pwd = dfRawH5['path'][0]\n",
    "with h5py.File(pwd, 'r') as h5f:\n",
    "    print(h5f.keys())\n",
    "    print(h5f['data_bn_trial']['mvg_4_2017_11_14_a'].shape)\n",
    "    print(np.array(h5f['trialTypesSelected']['mvg_4_2017_11_14_a']).shape)"
   ]
  },
  {
   "cell_type": "code",
   "execution_count": null,
   "metadata": {},
   "outputs": [],
   "source": []
  }
 ],
 "metadata": {
  "kernelspec": {
   "display_name": "py3ml",
   "language": "python",
   "name": "py3ml"
  },
  "language_info": {
   "codemirror_mode": {
    "name": "ipython",
    "version": 3
   },
   "file_extension": ".py",
   "mimetype": "text/x-python",
   "name": "python",
   "nbconvert_exporter": "python",
   "pygments_lexer": "ipython3",
   "version": "3.8.5"
  }
 },
 "nbformat": 4,
 "nbformat_minor": 2
}

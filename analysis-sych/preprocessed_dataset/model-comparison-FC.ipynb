{
 "cells": [
  {
   "cell_type": "code",
   "execution_count": null,
   "metadata": {},
   "outputs": [],
   "source": [
    "# Standard libraries\n",
    "import numpy as np\n",
    "import pandas as pd\n",
    "import matplotlib.pyplot as plt\n",
    "from ipywidgets import IntProgress\n",
    "from IPython.display import display\n",
    "\n",
    "import statsmodels.api as sm\n",
    "from statsmodels.formula.api import ols\n",
    "\n",
    "# Append base directory\n",
    "import os,sys,inspect\n",
    "rootname = \"pub-2020-exploratory-analysis\"\n",
    "thispath = os.path.dirname(os.path.abspath(inspect.getfile(inspect.currentframe())))\n",
    "rootpath = os.path.join(thispath[:thispath.index(rootname)], rootname)\n",
    "sys.path.append(rootpath)\n",
    "print(\"Appended root directory\", rootpath)\n",
    "\n",
    "from mesostat.utils.qt_helper import gui_fnames, gui_fpath\n",
    "from mesostat.metric.metric import MetricCalculator\n",
    "from mesostat.utils.hdf5_io import DataStorage\n",
    "from mesostat.stat.connectomics import offdiag_1D\n",
    "\n",
    "from lib.sych.data_fc_db_raw import DataFCDatabase\n",
    "from lib.analysis import model_comparison\n",
    "\n",
    "%load_ext autoreload\n",
    "%autoreload 2"
   ]
  },
  {
   "cell_type": "code",
   "execution_count": null,
   "metadata": {},
   "outputs": [],
   "source": [
    "# tmp_path = root_path_data if 'root_path_data' in locals() else \"./\"\n",
    "params = {}\n",
    "# params['root_path_data'] = './'\n",
    "params['root_path_data'] = '/media/alyosha/Data/TE_data/yarodata/sych_preprocessed'\n",
    "# params['root_path_data'] = gui_fpath('h5path', './')"
   ]
  },
  {
   "cell_type": "code",
   "execution_count": null,
   "metadata": {},
   "outputs": [],
   "source": [
    "dataDB = DataFCDatabase(params)"
   ]
  },
  {
   "cell_type": "code",
   "execution_count": null,
   "metadata": {},
   "outputs": [],
   "source": [
    "ds = DataStorage('sych_result_fc.h5')"
   ]
  },
  {
   "cell_type": "code",
   "execution_count": null,
   "metadata": {},
   "outputs": [],
   "source": [
    "mc = MetricCalculator(serial=True, verbose=False)"
   ]
  },
  {
   "cell_type": "code",
   "execution_count": null,
   "metadata": {},
   "outputs": [],
   "source": [
    "print(dataDB.mice)\n",
    "print(dataDB.dataTypes)\n",
    "print(dataDB.trialTypeNames)"
   ]
  },
  {
   "cell_type": "markdown",
   "metadata": {},
   "source": [
    "# Functional Connectivity Model Comparison\n",
    "\n",
    "## 1. Coactivity\n",
    "\n",
    "### 1.1 Linear coactivity\n",
    "\n",
    "* Test if pairwise correlation among channels is significant\n",
    "\n",
    "**Results**:\n",
    "* P-values (true for both baseline normalizations)\n",
    "    * Even with Bonferroni correction, at least $80\\%$ of channel pairs are significantly correlated.\n",
    "    * Further, $99.9\\%$ of all channel pairs have p-value below $0.01$, and are only considered insignificant because \n",
    "* Correlations:\n",
    "    * For session-based normalization, most correlations are in 0.7-1.0 range. Significant negative correlations exist but are very few. Almost no variance across mice/trialTypes/phases\n",
    "    * For trial-based normalization most correlations are within 0.25-1.0 range, which is a little more healthy. There is some significant variance across mice/trialTypes/phases. However, still, almost all pairs are significantly correlated, which is bad"
   ]
  },
  {
   "cell_type": "code",
   "execution_count": null,
   "metadata": {},
   "outputs": [],
   "source": [
    "intervDict = {\n",
    "    \"TEX\" : [-2, 0],\n",
    "    \"TEX\" : [3, 3.5],\n",
    "    \"REW\" : [6, 6.5]\n",
    "}"
   ]
  },
  {
   "cell_type": "code",
   "execution_count": null,
   "metadata": {
    "scrolled": true
   },
   "outputs": [],
   "source": [
    "resultsDictCorr = model_comparison.corr_evaluation(dataDB, mc, intervDict, 'corr', 'raw',\n",
    "                                                   trialTypes={'iGO', 'iNOGO'})"
   ]
  },
  {
   "cell_type": "code",
   "execution_count": null,
   "metadata": {
    "scrolled": false
   },
   "outputs": [],
   "source": [
    "model_comparison.plot_fc_explore(resultsDictCorr['corr'], resultsDictCorr['pval'], 'corr', withBonferroni=True)"
   ]
  },
  {
   "cell_type": "markdown",
   "metadata": {},
   "source": [
    "### 1.2 Monotonic coactivity\n",
    "\n",
    "* Test if Spearmann Rank between channels is significant\n",
    "* Test if Spearmann Rank between channels is more significant than correlation\n",
    "\n",
    "**Results**:\n",
    "* No obvious improvement of Spr over Corr.\n",
    "* Possibly can be blaimed on data, as it is oversync"
   ]
  },
  {
   "cell_type": "code",
   "execution_count": null,
   "metadata": {
    "scrolled": true
   },
   "outputs": [],
   "source": [
    "resultsDictSpr = model_comparison.corr_evaluation(dataDB, mc, intervDict, 'spr', 'bn_session')"
   ]
  },
  {
   "cell_type": "code",
   "execution_count": null,
   "metadata": {},
   "outputs": [],
   "source": [
    "model_comparison.plot_fc_explore(resultsDictSpr['corr'], resultsDictSpr['pval'], 'spr', withBonferroni=True)"
   ]
  },
  {
   "cell_type": "code",
   "execution_count": null,
   "metadata": {},
   "outputs": [],
   "source": [
    "model_comparison.empirical_corr_spr(resultsDictCorr, resultsDictSpr)"
   ]
  },
  {
   "cell_type": "markdown",
   "metadata": {},
   "source": [
    "### 1.3 BivariateMI"
   ]
  },
  {
   "cell_type": "code",
   "execution_count": null,
   "metadata": {},
   "outputs": [],
   "source": [
    "ds = DataStorage('extern/sych_result_multiregional_df.h5')"
   ]
  },
  {
   "cell_type": "code",
   "execution_count": null,
   "metadata": {},
   "outputs": [],
   "source": [
    "# Naive plots\n",
    "dataRows = ds.list_dsets_pd()\n",
    "\n",
    "for idx, row in dataRows.iterrows():\n",
    "    key = '_'.join(row[['mousename','datatype', 'name']])\n",
    "    data = ds.get_data(row['dset'])\n",
    "    \n",
    "    for iSession, dataSession in enumerate(data):\n",
    "        keyS = key + '_' + str(iSession)\n",
    "        \n",
    "        plt.figure()\n",
    "        plt.imshow(dataSession[0])\n",
    "        plt.colorbar()\n",
    "        plt.savefig('MI_' + keyS + '.png')\n",
    "        plt.close()\n",
    "        \n",
    "        plt.figure()\n",
    "        plt.imshow(-np.log10(dataSession[2]))\n",
    "        plt.colorbar()\n",
    "        plt.savefig('pVal_' + keyS + '.png')\n",
    "        plt.close()"
   ]
  },
  {
   "cell_type": "code",
   "execution_count": null,
   "metadata": {
    "scrolled": true
   },
   "outputs": [],
   "source": [
    "dataRows = ds.list_dsets_pd()\n",
    "\n",
    "for mousename in sorted(set(dataRows['mousename'])):\n",
    "    print(mousename)\n",
    "    rowsMouse = dataRows[dataRows['mousename'] == mousename]\n",
    "    \n",
    "    rezMI = {}\n",
    "    rezP = {}\n",
    "    for idx, row in rowsMouse.iterrows():\n",
    "        key = '_'.join(row[['datatype', 'name']])\n",
    "        data = ds.get_data(row['dset'])\n",
    "\n",
    "        MIs = np.hstack([offdiag_1D(d[0]) for d in data])\n",
    "        pVals = np.hstack([offdiag_1D(d[2]) for d in data])\n",
    "\n",
    "        MIs[np.isnan(MIs)] = 0\n",
    "        pVals[np.isnan(pVals)] = 1\n",
    "\n",
    "        rezMI[key] = MIs\n",
    "        rezP[key] = pVals\n",
    "        \n",
    "    model_comparison.plot_fc_explore(rezMI, rezP, 'MI')"
   ]
  },
  {
   "cell_type": "markdown",
   "metadata": {},
   "source": [
    "### 1.4. Model comparison for coactivity\n",
    "\n",
    "* Compare Correlation, Spr, MI\n",
    "    - Compare significances (p-values)\n",
    "    - Find metric of effect size, invariant of number of measurements, compare\n",
    "    - Report on differences between p-value-based vs effect-size-based FC"
   ]
  },
  {
   "cell_type": "markdown",
   "metadata": {},
   "source": [
    "## 2. Model-based analysis of coactivity function\n",
    "\n",
    "* Exploring functional relation of coactivity\n",
    "    * Plot phase-space for random selection of channel pairs\n",
    "    * Comment if on any evidence of bifurcations\n",
    "    * Perform model comparison for fitness by different order polynomials (e.g. AIC)\n",
    "    * Comment on uniformity of distribution, test uniformification\n",
    "* Repeat for 3D pairings\n",
    "* Repeat for single future timestep\n",
    "\n",
    "**Observations**:\n",
    "* Channels appear to be highly correlated\n",
    "* Channels are more correlated fir bn_session than nb_trial. However, it is unclear if the differences are due to a shifting baseline\n",
    "    - Hypothesis 1: Additive baseline\n",
    "    - Hypothesis 2: Multiplicative baseline"
   ]
  },
  {
   "cell_type": "code",
   "execution_count": null,
   "metadata": {},
   "outputs": [],
   "source": [
    "sessions = dataDB.get_sessions('mvg_4')\n",
    "data = dataDB.get_neuro_data({'session' : sessions[-2]}, datatype='bn_session', trialType='iGO')[0]"
   ]
  },
  {
   "cell_type": "code",
   "execution_count": null,
   "metadata": {},
   "outputs": [],
   "source": [
    "dataTr = np.mean(data, axis=1)\n",
    "\n",
    "plt.figure()\n",
    "plt.plot(dataTr[:, 0], dataTr[:, 1], '.')\n",
    "plt.show()\n",
    "\n",
    "np.corrcoef(dataTr[:, 0], dataTr[:, 1])[0, 1]"
   ]
  },
  {
   "cell_type": "code",
   "execution_count": null,
   "metadata": {},
   "outputs": [],
   "source": [
    "%matplotlib inline\n",
    "nTrial, nTime, nChannel = data.shape\n",
    "\n",
    "ch1, ch2 = np.random.randint(0, nChannel, 2)\n",
    "print(ch1, ch2)\n",
    "\n",
    "plt.figure()\n",
    "for i in range(data.shape[0]):\n",
    "    plt.plot(data[i, :, ch1], data[i, :, ch2])\n",
    "plt.show()"
   ]
  },
  {
   "cell_type": "code",
   "execution_count": null,
   "metadata": {},
   "outputs": [],
   "source": [
    "from mesostat.visualization.mpl_matrix import imshow\n",
    "\n",
    "def phase_space_occupancy(fig, ax, x2D, y2D, nbin=20):\n",
    "    xmax = np.max(x2D)*1.0001\n",
    "    xmin = np.min(x2D)\n",
    "    ymax = np.max(y2D)*1.0001\n",
    "    ymin = np.min(y2D)\n",
    "    dx = (xmax - xmin) / nbin\n",
    "    dy = (ymax - ymin) / nbin\n",
    "    \n",
    "    rezArr = np.zeros((nbin, nbin))\n",
    "    \n",
    "    for x, y in zip(x2D, y2D):\n",
    "        idxsX = ((x - xmin) / dx).astype(int)\n",
    "        idxsY = ((y - ymin) / dy).astype(int)\n",
    "        \n",
    "        rezTmp = np.zeros((nbin, nbin))\n",
    "        rezTmp[idxsX, idxsY] += 1\n",
    "        rezArr += (rezTmp > 0).astype(int)\n",
    "        \n",
    "    rezArr /= len(x2D)\n",
    "    imshow(fig, ax, rezArr, haveColorBar=True, haveTicks=True)\n",
    "        \n",
    "\n",
    "ch1, ch2 = np.random.randint(0, nChannel, 2)\n",
    "print(ch1, ch2)\n",
    "\n",
    "fig, ax = plt.subplots()\n",
    "phase_space_occupancy(fig, ax, data[:, :, ch1], data[:, :, ch2], nbin=50)\n",
    "\n",
    "plt.show()"
   ]
  },
  {
   "cell_type": "code",
   "execution_count": null,
   "metadata": {},
   "outputs": [],
   "source": [
    "from matplotlib.patches import Rectangle\n",
    "from matplotlib.collections import PatchCollection\n",
    "\n",
    "def phase_space_boxes(fig, ax, x2D, y2D, nbin=20):\n",
    "    rects = []\n",
    "    for x, y in zip(x2D, y2D):\n",
    "        xmax = np.max(x)\n",
    "        xmin = np.min(x)\n",
    "        ymax = np.max(y)\n",
    "        ymin = np.min(y)\n",
    "        \n",
    "        rects += [Rectangle((xmin, ymin), xmax-xmin, ymax-ymin, alpha=1, facecolor='none')]\n",
    "\n",
    "    \n",
    "    colors = np.linspace(0, 1, len(rects))\n",
    "    pc = PatchCollection(rects, facecolor='none', cmap=plt.cm.hsv, alpha=0.5)#, edgecolor=edgecolor)\n",
    "    pc.set_array(np.array(colors))\n",
    "    ax.add_collection(pc)\n",
    "    \n",
    "    \n",
    "    ax.autoscale()\n",
    "\n",
    "ch1, ch2 = np.random.randint(0, nChannel, 2)\n",
    "print(ch1, ch2)\n",
    "\n",
    "fig, ax = plt.subplots()\n",
    "phase_space_boxes(fig, ax, data[:, :, ch1], data[:, :, ch2], nbin=50)\n",
    "\n",
    "plt.show()"
   ]
  },
  {
   "cell_type": "markdown",
   "metadata": {},
   "source": [
    "## 3. Model comparison of directed functional connectivity\n",
    "\n",
    "* Compare MAR, Gau-TE, GLM, DCM (average over phase time)\n",
    "* Compare directed and undirected connectivity"
   ]
  },
  {
   "cell_type": "markdown",
   "metadata": {},
   "source": [
    "## 4. Directed and undirected links to behaviour"
   ]
  },
  {
   "cell_type": "code",
   "execution_count": null,
   "metadata": {},
   "outputs": [],
   "source": []
  }
 ],
 "metadata": {
  "kernelspec": {
   "display_name": "Python (nest)",
   "language": "python",
   "name": "py36nest"
  },
  "language_info": {
   "codemirror_mode": {
    "name": "ipython",
    "version": 3
   },
   "file_extension": ".py",
   "mimetype": "text/x-python",
   "name": "python",
   "nbconvert_exporter": "python",
   "pygments_lexer": "ipython3",
   "version": "3.6.6"
  }
 },
 "nbformat": 4,
 "nbformat_minor": 2
}

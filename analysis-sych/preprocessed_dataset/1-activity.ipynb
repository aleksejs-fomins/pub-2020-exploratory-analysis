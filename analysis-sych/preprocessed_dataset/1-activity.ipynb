{
 "cells": [
  {
   "cell_type": "code",
   "execution_count": 1,
   "metadata": {},
   "outputs": [
    {
     "name": "stdout",
     "output_type": "stream",
     "text": [
      "Appended root directory /home/alyosha/work/git/pub-2020-exploratory-analysis\n"
     ]
    }
   ],
   "source": [
    "# Standard libraries\n",
    "import numpy as np\n",
    "import pandas as pd\n",
    "import matplotlib.pyplot as plt\n",
    "from ipywidgets import IntProgress\n",
    "from IPython.display import display\n",
    "\n",
    "# Append base directory\n",
    "import os,sys,inspect\n",
    "rootname = \"pub-2020-exploratory-analysis\"\n",
    "thispath = os.path.dirname(os.path.abspath(inspect.getfile(inspect.currentframe())))\n",
    "rootpath = os.path.join(thispath[:thispath.index(rootname)], rootname)\n",
    "sys.path.append(rootpath)\n",
    "print(\"Appended root directory\", rootpath)\n",
    "\n",
    "from mesostat.utils.qt_helper import gui_fnames, gui_fpath\n",
    "from mesostat.metric.metric import MetricCalculator\n",
    "from mesostat.utils.hdf5_io import DataStorage\n",
    "\n",
    "from lib.sych.data_fc_db_raw import DataFCDatabase\n",
    "import lib.analysis.activity as activity\n",
    "\n",
    "%load_ext autoreload\n",
    "%autoreload 2"
   ]
  },
  {
   "cell_type": "code",
   "execution_count": 2,
   "metadata": {},
   "outputs": [],
   "source": [
    "# tmp_path = root_path_data if 'root_path_data' in locals() else \"./\"\n",
    "params = {}\n",
    "# params['root_path_data'] = './'\n",
    "params['root_path_data'] = '/media/alyosha/Data/TE_data/yarodata/sych_preprocessed'\n",
    "# params['root_path_data'] = gui_fpath('h5path', './')"
   ]
  },
  {
   "cell_type": "code",
   "execution_count": 3,
   "metadata": {},
   "outputs": [
    {
     "name": "stdout",
     "output_type": "stream",
     "text": [
      "Searching for data files\n",
      "Extracting trial type names\n",
      "Extracting data types\n"
     ]
    }
   ],
   "source": [
    "dataDB = DataFCDatabase(params)"
   ]
  },
  {
   "cell_type": "code",
   "execution_count": 4,
   "metadata": {},
   "outputs": [],
   "source": [
    "ds = DataStorage('sych_result_activity.h5')"
   ]
  },
  {
   "cell_type": "code",
   "execution_count": 5,
   "metadata": {},
   "outputs": [],
   "source": [
    "mc = MetricCalculator(serial=True, verbose=False)"
   ]
  },
  {
   "cell_type": "code",
   "execution_count": 6,
   "metadata": {},
   "outputs": [
    {
     "name": "stdout",
     "output_type": "stream",
     "text": [
      "{'mvg_9', 'mvg_7', 'mvg_4', 'mvg_8'}\n",
      "{'bn_trial', 'bn_session', 'raw'}\n",
      "{'iGO', 'iFA', 'iNOGO', 'iMISS'}\n"
     ]
    }
   ],
   "source": [
    "print(dataDB.mice)\n",
    "print(dataDB.dataTypes)\n",
    "print(dataDB.trialTypeNames)"
   ]
  },
  {
   "cell_type": "markdown",
   "metadata": {},
   "source": [
    "## Compute mean over time for all mice and condition combinations"
   ]
  },
  {
   "cell_type": "code",
   "execution_count": 18,
   "metadata": {
    "scrolled": true
   },
   "outputs": [
    {
     "name": "stdout",
     "output_type": "stream",
     "text": [
      "mvg_4 bn_session iNOGO PRE\n",
      "mvg_4 bn_session iNOGO TEX\n",
      "mvg_4 bn_session iNOGO REW\n",
      "mvg_4 bn_session iGO PRE\n",
      "mvg_4 bn_session iGO TEX\n",
      "mvg_4 bn_session iGO REW\n",
      "mvg_4 raw iNOGO PRE\n",
      "mvg_4 raw iNOGO TEX\n",
      "mvg_4 raw iNOGO REW\n",
      "mvg_4 raw iGO PRE\n",
      "mvg_4 raw iGO TEX\n",
      "mvg_4 raw iGO REW\n",
      "mvg_4 bn_trial iNOGO PRE\n",
      "mvg_4 bn_trial iNOGO TEX\n",
      "mvg_4 bn_trial iNOGO REW\n",
      "mvg_4 bn_trial iGO PRE\n",
      "mvg_4 bn_trial iGO TEX\n",
      "mvg_4 bn_trial iGO REW\n",
      "mvg_7 bn_session iNOGO PRE\n",
      "mvg_7 bn_session iNOGO TEX\n",
      "mvg_7 bn_session iNOGO REW\n",
      "mvg_7 bn_session iGO PRE\n",
      "mvg_7 bn_session iGO TEX\n",
      "mvg_7 bn_session iGO REW\n",
      "mvg_7 raw iNOGO PRE\n",
      "mvg_7 raw iNOGO TEX\n",
      "mvg_7 raw iNOGO REW\n",
      "mvg_7 raw iGO PRE\n",
      "mvg_7 raw iGO TEX\n",
      "mvg_7 raw iGO REW\n",
      "mvg_7 bn_trial iNOGO PRE\n",
      "mvg_7 bn_trial iNOGO TEX\n",
      "mvg_7 bn_trial iNOGO REW\n",
      "mvg_7 bn_trial iGO PRE\n",
      "mvg_7 bn_trial iGO TEX\n",
      "mvg_7 bn_trial iGO REW\n",
      "mvg_8 bn_session iNOGO PRE\n",
      "mvg_8 bn_session iNOGO TEX\n",
      "mvg_8 bn_session iNOGO REW\n",
      "mvg_8 bn_session iGO PRE\n",
      "mvg_8 bn_session iGO TEX\n",
      "mvg_8 bn_session iGO REW\n",
      "mvg_8 raw iNOGO PRE\n",
      "mvg_8 raw iNOGO TEX\n",
      "mvg_8 raw iNOGO REW\n",
      "mvg_8 raw iGO PRE\n",
      "mvg_8 raw iGO TEX\n",
      "mvg_8 raw iGO REW\n",
      "mvg_8 bn_trial iNOGO PRE\n",
      "mvg_8 bn_trial iNOGO TEX\n",
      "mvg_8 bn_trial iNOGO REW\n",
      "mvg_8 bn_trial iGO PRE\n",
      "mvg_8 bn_trial iGO TEX\n",
      "mvg_8 bn_trial iGO REW\n",
      "mvg_9 bn_session iNOGO PRE\n",
      "mvg_9 bn_session iNOGO TEX\n",
      "mvg_9 bn_session iNOGO REW\n",
      "mvg_9 bn_session iGO PRE\n",
      "mvg_9 bn_session iGO TEX\n",
      "mvg_9 bn_session iGO REW\n",
      "mvg_9 raw iNOGO PRE\n",
      "mvg_9 raw iNOGO TEX\n",
      "mvg_9 raw iNOGO REW\n",
      "mvg_9 raw iGO PRE\n",
      "mvg_9 raw iGO TEX\n",
      "mvg_9 raw iGO REW\n",
      "mvg_9 bn_trial iNOGO PRE\n",
      "mvg_9 bn_trial iNOGO TEX\n",
      "mvg_9 bn_trial iNOGO REW\n",
      "mvg_9 bn_trial iGO PRE\n",
      "mvg_9 bn_trial iGO TEX\n",
      "mvg_9 bn_trial iGO REW\n"
     ]
    }
   ],
   "source": [
    "intervDict = {\n",
    "    \"PRE\" : [-2, 0],\n",
    "    \"TEX\" : [3, 3.5],\n",
    "    \"REW\" : [6, 6.5]\n",
    "}\n",
    "trialTypesTrg = {'iGO', 'iNOGO'}\n",
    "\n",
    "activity.compute_mean_interval(dataDB, ds, trialTypesTrg, intervDict)"
   ]
  },
  {
   "cell_type": "markdown",
   "metadata": {},
   "source": [
    "# 1. Significance"
   ]
  },
  {
   "cell_type": "markdown",
   "metadata": {},
   "source": [
    "## 1.1 Top 10 most significant regions for Hit/Cr, Naive/Expert"
   ]
  },
  {
   "cell_type": "markdown",
   "metadata": {},
   "source": [
    "## 1.3. Accuracy of hit vs cr prediction by mouse, phase"
   ]
  },
  {
   "cell_type": "markdown",
   "metadata": {},
   "source": [
    "# 2. Consistency"
   ]
  },
  {
   "cell_type": "markdown",
   "metadata": {},
   "source": [
    "## 2.1. Consistency of channel activity\n",
    "\n",
    "* DF/F should be independent of channel brightness/opacity, since it normalizes baseline.\n",
    "* Thus, should be able to compare DFF of different mice directly"
   ]
  },
  {
   "cell_type": "markdown",
   "metadata": {},
   "source": [
    "## 2.2 Channels significant for Hit/Cr. Overlap by mouse\n",
    "\n",
    "1. Loop over datatype, interval, session\n",
    "2. Test each channel for Hit/Cr\n",
    "3. Count significant sessions for each channel\n",
    "4. Scatter counts\n",
    "\n",
    "**TODO**\n",
    "* Split by Naive/Expert"
   ]
  },
  {
   "cell_type": "code",
   "execution_count": 10,
   "metadata": {
    "scrolled": true
   },
   "outputs": [
    {
     "name": "stdout",
     "output_type": "stream",
     "text": [
      "mvg_7_2018_11_09_a bn_session PRE too few trials 0 3 ;; skipping\n",
      "mvg_7_2018_11_12_a bn_session PRE too few trials 0 13 ;; skipping\n",
      "mvg_7_2018_11_13_a bn_session PRE too few trials 0 13 ;; skipping\n",
      "mvg_8_2018_11_13_a bn_session PRE too few trials 4 41 ;; skipping\n",
      "mvg_9_2019_02_08_a bn_session PRE too few trials 5 15 ;; skipping\n",
      "mvg_7_2018_11_09_a bn_session REW too few trials 0 3 ;; skipping\n",
      "mvg_7_2018_11_12_a bn_session REW too few trials 0 13 ;; skipping\n",
      "mvg_7_2018_11_13_a bn_session REW too few trials 0 13 ;; skipping\n",
      "mvg_8_2018_11_13_a bn_session REW too few trials 4 41 ;; skipping\n",
      "mvg_9_2019_02_08_a bn_session REW too few trials 5 15 ;; skipping\n",
      "mvg_7_2018_11_09_a bn_session TEX too few trials 0 3 ;; skipping\n",
      "mvg_7_2018_11_12_a bn_session TEX too few trials 0 13 ;; skipping\n",
      "mvg_7_2018_11_13_a bn_session TEX too few trials 0 13 ;; skipping\n",
      "mvg_8_2018_11_13_a bn_session TEX too few trials 4 41 ;; skipping\n",
      "mvg_9_2019_02_08_a bn_session TEX too few trials 5 15 ;; skipping\n",
      "mvg_7_2018_11_09_a bn_trial PRE too few trials 0 3 ;; skipping\n",
      "mvg_7_2018_11_12_a bn_trial PRE too few trials 0 13 ;; skipping\n",
      "mvg_7_2018_11_13_a bn_trial PRE too few trials 0 13 ;; skipping\n",
      "mvg_8_2018_11_13_a bn_trial PRE too few trials 4 41 ;; skipping\n",
      "mvg_9_2019_02_08_a bn_trial PRE too few trials 5 15 ;; skipping\n",
      "mvg_7_2018_11_09_a bn_trial REW too few trials 0 3 ;; skipping\n",
      "mvg_7_2018_11_12_a bn_trial REW too few trials 0 13 ;; skipping\n",
      "mvg_7_2018_11_13_a bn_trial REW too few trials 0 13 ;; skipping\n",
      "mvg_8_2018_11_13_a bn_trial REW too few trials 4 41 ;; skipping\n",
      "mvg_9_2019_02_08_a bn_trial REW too few trials 5 15 ;; skipping\n",
      "mvg_7_2018_11_09_a bn_trial TEX too few trials 0 3 ;; skipping\n",
      "mvg_7_2018_11_12_a bn_trial TEX too few trials 0 13 ;; skipping\n",
      "mvg_7_2018_11_13_a bn_trial TEX too few trials 0 13 ;; skipping\n",
      "mvg_8_2018_11_13_a bn_trial TEX too few trials 4 41 ;; skipping\n",
      "mvg_9_2019_02_08_a bn_trial TEX too few trials 5 15 ;; skipping\n",
      "mvg_7_2018_11_09_a raw PRE too few trials 0 3 ;; skipping\n",
      "mvg_7_2018_11_12_a raw PRE too few trials 0 13 ;; skipping\n",
      "mvg_7_2018_11_13_a raw PRE too few trials 0 13 ;; skipping\n",
      "mvg_8_2018_11_13_a raw PRE too few trials 4 41 ;; skipping\n",
      "mvg_9_2019_02_08_a raw PRE too few trials 15 5 ;; skipping\n",
      "mvg_7_2018_11_09_a raw REW too few trials 0 3 ;; skipping\n",
      "mvg_7_2018_11_12_a raw REW too few trials 0 13 ;; skipping\n",
      "mvg_7_2018_11_13_a raw REW too few trials 0 13 ;; skipping\n",
      "mvg_8_2018_11_13_a raw REW too few trials 4 41 ;; skipping\n",
      "mvg_9_2019_02_08_a raw REW too few trials 15 5 ;; skipping\n",
      "mvg_7_2018_11_09_a raw TEX too few trials 0 3 ;; skipping\n",
      "mvg_7_2018_11_12_a raw TEX too few trials 0 13 ;; skipping\n",
      "mvg_7_2018_11_13_a raw TEX too few trials 0 13 ;; skipping\n",
      "mvg_8_2018_11_13_a raw TEX too few trials 4 41 ;; skipping\n",
      "mvg_9_2019_02_08_a raw TEX too few trials 15 5 ;; skipping\n"
     ]
    }
   ],
   "source": [
    "activity.plot_consistency_significant_activity_byaction(dataDB, ds, performance='naive')\n",
    "activity.plot_consistency_significant_activity_byaction(dataDB, ds, performance='expert')"
   ]
  },
  {
   "cell_type": "markdown",
   "metadata": {},
   "source": [
    "## 2.3. Channels significant for phase. Overlap by mouse"
   ]
  },
  {
   "cell_type": "code",
   "execution_count": 11,
   "metadata": {},
   "outputs": [
    {
     "name": "stdout",
     "output_type": "stream",
     "text": [
      "mvg_7_2018_11_09_a bn_session iGO too few trials 3 3 ;; skipping\n",
      "mvg_7_2018_11_09_a bn_session iNOGO too few trials 0 0 ;; skipping\n",
      "mvg_7_2018_11_12_a bn_session iNOGO too few trials 0 0 ;; skipping\n",
      "mvg_7_2018_11_13_a bn_session iNOGO too few trials 0 0 ;; skipping\n",
      "mvg_8_2018_11_13_a bn_session iNOGO too few trials 4 4 ;; skipping\n",
      "mvg_9_2019_02_08_a bn_session iNOGO too few trials 5 5 ;; skipping\n",
      "mvg_7_2018_11_09_a bn_trial iGO too few trials 3 3 ;; skipping\n",
      "mvg_7_2018_11_09_a bn_trial iNOGO too few trials 0 0 ;; skipping\n",
      "mvg_7_2018_11_12_a bn_trial iNOGO too few trials 0 0 ;; skipping\n",
      "mvg_7_2018_11_13_a bn_trial iNOGO too few trials 0 0 ;; skipping\n",
      "mvg_8_2018_11_13_a bn_trial iNOGO too few trials 4 4 ;; skipping\n",
      "mvg_9_2019_02_08_a bn_trial iNOGO too few trials 5 5 ;; skipping\n",
      "mvg_7_2018_11_09_a raw iGO too few trials 3 3 ;; skipping\n",
      "mvg_7_2018_11_09_a raw iNOGO too few trials 0 0 ;; skipping\n",
      "mvg_7_2018_11_12_a raw iNOGO too few trials 0 0 ;; skipping\n",
      "mvg_7_2018_11_13_a raw iNOGO too few trials 0 0 ;; skipping\n",
      "mvg_8_2018_11_13_a raw iNOGO too few trials 4 4 ;; skipping\n",
      "mvg_9_2019_02_08_a raw iNOGO too few trials 5 5 ;; skipping\n"
     ]
    }
   ],
   "source": [
    "activity.plot_consistency_significant_activity_byphase(dataDB, ds, performance='naive')\n",
    "activity.plot_consistency_significant_activity_byphase(dataDB, ds, performance='expert')"
   ]
  },
  {
   "cell_type": "code",
   "execution_count": null,
   "metadata": {
    "collapsed": true
   },
   "outputs": [],
   "source": []
  }
 ],
 "metadata": {
  "kernelspec": {
   "display_name": "py3ml",
   "language": "python",
   "name": "py3ml"
  },
  "language_info": {
   "codemirror_mode": {
    "name": "ipython",
    "version": 3
   },
   "file_extension": ".py",
   "mimetype": "text/x-python",
   "name": "python",
   "nbconvert_exporter": "python",
   "pygments_lexer": "ipython3",
   "version": "3.8.5"
  }
 },
 "nbformat": 4,
 "nbformat_minor": 4
}

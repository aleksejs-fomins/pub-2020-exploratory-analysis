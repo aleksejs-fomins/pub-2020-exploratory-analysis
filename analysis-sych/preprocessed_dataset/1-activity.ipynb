{
 "cells": [
  {
   "cell_type": "code",
   "execution_count": null,
   "metadata": {},
   "outputs": [],
   "source": [
    "# Standard libraries\n",
    "import numpy as np\n",
    "import pandas as pd\n",
    "import matplotlib.pyplot as plt\n",
    "from ipywidgets import IntProgress\n",
    "from IPython.display import display\n",
    "\n",
    "# Append base directory\n",
    "import os,sys,inspect\n",
    "rootname = \"pub-2020-exploratory-analysis\"\n",
    "#thispath = os.path.dirname(os.path.abspath(inspect.getfile(inspect.currentframe())))\n",
    "thispath = os.getcwd()\n",
    "rootpath = os.path.join(thispath[:thispath.index(rootname)], rootname)\n",
    "sys.path.append(rootpath)\n",
    "print(\"Appended root directory\", rootpath)\n",
    "\n",
    "from mesostat.utils.qt_helper import gui_fnames, gui_fpath\n",
    "from mesostat.metric.metric import MetricCalculator\n",
    "from mesostat.utils.hdf5_io import DataStorage\n",
    "\n",
    "from lib.sych.data_fc_db_raw import DataFCDatabase\n",
    "import lib.analysis.activity as activity\n",
    "from lib.common.visualization import merge_image_sequence_movie\n",
    "\n",
    "%load_ext autoreload\n",
    "%autoreload 2"
   ]
  },
  {
   "cell_type": "code",
   "execution_count": null,
   "metadata": {},
   "outputs": [],
   "source": [
    "# tmp_path = root_path_data if 'root_path_data' in locals() else \"./\"\n",
    "params = {}\n",
    "# params['root_path_data'] = './'\n",
    "params['root_path_data'] = '/media/alyosha/Data/TE_data/yarodata/sych_preprocessed'\n",
    "# params['root_path_data'] = gui_fpath('h5path', './')"
   ]
  },
  {
   "cell_type": "code",
   "execution_count": null,
   "metadata": {},
   "outputs": [],
   "source": [
    "dataDB = DataFCDatabase(params)"
   ]
  },
  {
   "cell_type": "code",
   "execution_count": null,
   "metadata": {},
   "outputs": [],
   "source": [
    "ds = DataStorage('sych_result_activity.h5')"
   ]
  },
  {
   "cell_type": "code",
   "execution_count": null,
   "metadata": {},
   "outputs": [],
   "source": [
    "mc = MetricCalculator(serial=True, verbose=False)"
   ]
  },
  {
   "cell_type": "code",
   "execution_count": null,
   "metadata": {},
   "outputs": [],
   "source": [
    "print(dataDB.mice)\n",
    "print(dataDB.dataTypes)\n",
    "print(dataDB.trialTypeNames)"
   ]
  },
  {
   "cell_type": "markdown",
   "metadata": {},
   "source": [
    "## Compute mean over time for all mice and condition combinations"
   ]
  },
  {
   "cell_type": "code",
   "execution_count": null,
   "metadata": {},
   "outputs": [],
   "source": [
    "argSweepDict = {\n",
    "    'datatype' : ['bn_trial', 'bn_session'],\n",
    "    'intervName' : 'auto',\n",
    "    'performance' : 'auto'\n",
    "}\n",
    "\n",
    "exclQueryLst = []"
   ]
  },
  {
   "cell_type": "code",
   "execution_count": null,
   "metadata": {
    "scrolled": true
   },
   "outputs": [],
   "source": [
    "activity.compute_mean_interval(dataDB, ds, ['iGO', 'iNOGO'], skipExisting=True, exclQueryLst=exclQueryLst,\n",
    "                               **argSweepDict)"
   ]
  },
  {
   "cell_type": "markdown",
   "metadata": {},
   "source": [
    "# 1. Significance"
   ]
  },
  {
   "cell_type": "markdown",
   "metadata": {},
   "source": [
    "## 1.1 Plot Hit activity by channel"
   ]
  },
  {
   "cell_type": "code",
   "execution_count": null,
   "metadata": {},
   "outputs": [],
   "source": [
    "argSweepDict = {\n",
    "    'datatype' : ['bn_trial', 'bn_session'],\n",
    "    'intervName' : 'auto',\n",
    "    'trialType' : ['iGO', 'iNOGO', 'iMISS', 'iFA'],\n",
    "    'performance' : 'auto'\n",
    "}"
   ]
  },
  {
   "cell_type": "code",
   "execution_count": null,
   "metadata": {
    "scrolled": true
   },
   "outputs": [],
   "source": [
    "activity.activity_brainplot_mouse(dataDB, 'intervName', exclQueryLst=exclQueryLst, vmin=-0.02, vmax=0.02,\n",
    "                                  **argSweepDict)"
   ]
  },
  {
   "cell_type": "code",
   "execution_count": null,
   "metadata": {
    "scrolled": true
   },
   "outputs": [],
   "source": [
    "activity.activity_brainplot_mouse(dataDB, 'trialType', exclQueryLst=exclQueryLst, vmin=-0.02, vmax=0.02,\n",
    "                                  **argSweepDict)"
   ]
  },
  {
   "cell_type": "code",
   "execution_count": null,
   "metadata": {
    "scrolled": true
   },
   "outputs": [],
   "source": [
    "activity.activity_brainplot_mousephase_subpre(dataDB, exclQueryLst, vmin=-0.02, vmax=0.02,\n",
    "                                              intervName='auto', trialType='auto')"
   ]
  },
  {
   "cell_type": "code",
   "execution_count": null,
   "metadata": {},
   "outputs": [],
   "source": [
    "activity.activity_brainplot_mousephase_submouse(dataDB, exclQueryLst, vmin=-0.02, vmax=0.02, **argSweepDict)"
   ]
  },
  {
   "cell_type": "markdown",
   "metadata": {},
   "source": [
    "## 1.2. Accuracy of hit vs cr prediction by mouse, phase"
   ]
  },
  {
   "cell_type": "code",
   "execution_count": null,
   "metadata": {},
   "outputs": [],
   "source": [
    "activity.significance_brainplot_mousephase_byaction(dataDB, ds, performance='naive',\n",
    "                                                    metric='nlog_pval', minTrials=20, limits=(0, 5))\n",
    "activity.significance_brainplot_mousephase_byaction(dataDB, ds, performance='expert',\n",
    "                                                    metric='nlog_pval', minTrials=20, limits=(0, 5))"
   ]
  },
  {
   "cell_type": "code",
   "execution_count": null,
   "metadata": {},
   "outputs": [],
   "source": [
    "activity.classification_accuracy_brainplot_mousephase(dataDB, exclQueryLst, **argSweepDict)"
   ]
  },
  {
   "cell_type": "markdown",
   "metadata": {},
   "source": [
    "## 1.3. Plot activity movies by chanel"
   ]
  },
  {
   "cell_type": "code",
   "execution_count": null,
   "metadata": {
    "scrolled": true
   },
   "outputs": [],
   "source": [
    "plotPrefix = activity.activity_brainplot_movie_mousetrialtype(dataDB, exclQueryLst, vmin=-0.02, vmax=0.02,\n",
    "                                                 haveDelay=False, trialType='auto', performance='auto',\n",
    "                                                 datatype=['bn_trial', 'bn_session'])"
   ]
  },
  {
   "cell_type": "code",
   "execution_count": null,
   "metadata": {},
   "outputs": [],
   "source": [
    "plotPrefix = 'pics/activity/brainplot_mousetrialtype/movies/'"
   ]
  },
  {
   "cell_type": "code",
   "execution_count": null,
   "metadata": {},
   "outputs": [],
   "source": [
    "for performance in ['naive', 'expert']:\n",
    "    for datatype in ['bn_trial', 'bn_session']:\n",
    "        plotSuffix = performance + '_' + datatype + '_'\n",
    "        merge_image_sequence_movie(plotPrefix + plotSuffix, '.png', 0, 200,\n",
    "                                   trgPathName=None, deleteSrc=True)"
   ]
  },
  {
   "cell_type": "markdown",
   "metadata": {},
   "source": [
    "# 2. Consistency"
   ]
  },
  {
   "cell_type": "markdown",
   "metadata": {},
   "source": [
    "## 2.1. Consistency of channel activity\n",
    "\n",
    "* DF/F should be independent of channel brightness/opacity, since it normalizes baseline.\n",
    "* Thus, should be able to compare DFF of different mice directly"
   ]
  },
  {
   "cell_type": "markdown",
   "metadata": {},
   "source": [
    "## 2.2 Channels significant for Hit/Cr. Overlap by mouse\n",
    "\n",
    "1. Loop over datatype, interval, session\n",
    "2. Test each channel for Hit/Cr\n",
    "3. Count significant sessions for each channel\n",
    "4. Scatter counts\n",
    "\n",
    "**TODO**\n",
    "* Split by Naive/Expert"
   ]
  },
  {
   "cell_type": "code",
   "execution_count": null,
   "metadata": {
    "scrolled": true
   },
   "outputs": [],
   "source": [
    "activity.plot_consistency_significant_activity_byaction(dataDB, ds, performance='naive',\n",
    "                                                        dropChannels=[21], metric='accuracy', limits=[0.5, 1])\n",
    "activity.plot_consistency_significant_activity_byaction(dataDB, ds, performance='expert',\n",
    "                                                        dropChannels=[21], metric='accuracy', limits=[0.5, 1])"
   ]
  },
  {
   "cell_type": "markdown",
   "metadata": {},
   "source": [
    "## 2.3. Channels significant for phase. Overlap by mouse"
   ]
  },
  {
   "cell_type": "code",
   "execution_count": null,
   "metadata": {},
   "outputs": [],
   "source": [
    "activity.plot_consistency_significant_activity_byphase(dataDB, ds, performance='naive')\n",
    "activity.plot_consistency_significant_activity_byphase(dataDB, ds, performance='expert')"
   ]
  },
  {
   "cell_type": "code",
   "execution_count": null,
   "metadata": {},
   "outputs": [],
   "source": []
  }
 ],
 "metadata": {
  "kernelspec": {
   "display_name": "py3ml",
   "language": "python",
   "name": "py3ml"
  },
  "language_info": {
   "codemirror_mode": {
    "name": "ipython",
    "version": 3
   },
   "file_extension": ".py",
   "mimetype": "text/x-python",
   "name": "python",
   "nbconvert_exporter": "python",
   "pygments_lexer": "ipython3",
   "version": "3.8.5"
  }
 },
 "nbformat": 4,
 "nbformat_minor": 4
}

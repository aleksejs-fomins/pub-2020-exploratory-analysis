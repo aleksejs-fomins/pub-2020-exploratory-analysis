{
 "cells": [
  {
   "cell_type": "code",
   "execution_count": null,
   "metadata": {},
   "outputs": [],
   "source": [
    "# Standard libraries\n",
    "import numpy as np\n",
    "import matplotlib.pyplot as plt\n",
    "from ipywidgets import IntProgress\n",
    "from IPython.display import display\n",
    "\n",
    "# Append base directory\n",
    "import os,sys,inspect\n",
    "rootname = \"pub-2020-exploratory-analysis\"\n",
    "thispath = os.path.dirname(os.path.abspath(inspect.getfile(inspect.currentframe())))\n",
    "rootpath = os.path.join(thispath[:thispath.index(rootname)], rootname)\n",
    "sys.path.append(rootpath)\n",
    "print(\"Appended root directory\", rootpath)\n",
    "\n",
    "from mesostat.utils.qt_helper import gui_fnames, gui_fpath\n",
    "from mesostat.metric.metric import MetricCalculator\n",
    "from mesostat.utils.hdf5_io import DataStorage\n",
    "from mesostat.stat.anova import as_pandas_lst, anova_homebrew\n",
    "\n",
    "from lib.sych.data_fc_db_raw import DataFCDatabase\n",
    "from lib.sych.plot_helper import imshow_dataset_by_mouse, imshow_dataset_by_session\n",
    "from lib.sych.metric_helper import metric_by_session\n",
    "\n",
    "%load_ext autoreload\n",
    "%autoreload 2"
   ]
  },
  {
   "cell_type": "code",
   "execution_count": null,
   "metadata": {},
   "outputs": [],
   "source": [
    "# tmp_path = root_path_data if 'root_path_data' in locals() else \"./\"\n",
    "params = {}\n",
    "# params['root_path_data'] = './'\n",
    "params['root_path_data'] = '/media/alyosha/Data/TE_data/yarodata/sych_preprocessed'\n",
    "# params['root_path_data'] = gui_fpath('h5path', './')"
   ]
  },
  {
   "cell_type": "code",
   "execution_count": null,
   "metadata": {},
   "outputs": [],
   "source": [
    "dataDB = DataFCDatabase(params)"
   ]
  },
  {
   "cell_type": "code",
   "execution_count": null,
   "metadata": {},
   "outputs": [],
   "source": [
    "ds = DataStorage('sych_result_individual_region.h5')"
   ]
  },
  {
   "cell_type": "code",
   "execution_count": null,
   "metadata": {},
   "outputs": [],
   "source": [
    "mc = MetricCalculator(serial=True, verbose=False)"
   ]
  },
  {
   "cell_type": "code",
   "execution_count": null,
   "metadata": {},
   "outputs": [],
   "source": [
    "print(dataDB.mice)\n",
    "print(dataDB.dataTypes)\n",
    "print(dataDB.trialTypeNames)"
   ]
  },
  {
   "cell_type": "markdown",
   "metadata": {},
   "source": [
    "# 1. Noise\n",
    "## 1.1 SNR via AutoCorrelation\n",
    "\n",
    "**Plan:**\n",
    "* AutoCorr[1] is a number that is close to 1 if data is changing slowly, and close to zero if data changes very fast.\n",
    "\n",
    "**FIXME**:\n",
    "* Remove Performance above 1\n",
    "* If performance becomes important, discuss with Y whether to use original or pooled performance, as they differ significantly"
   ]
  },
  {
   "cell_type": "code",
   "execution_count": null,
   "metadata": {
    "scrolled": true
   },
   "outputs": [],
   "source": [
    "metricName = 'autocorr_d1'\n",
    "for iMouse, mousename in enumerate(sorted(dataDB.mice)):\n",
    "    for datatype in dataDB.get_data_types():\n",
    "        dataName = metricName + '_' + datatype\n",
    "        print(dataName)\n",
    "        metric_by_session(dataDB, mc, ds, mousename, metricName, 'p', datatype=datatype, dataName=dataName)"
   ]
  },
  {
   "cell_type": "code",
   "execution_count": null,
   "metadata": {
    "scrolled": true
   },
   "outputs": [],
   "source": [
    "metricName = 'autocorr_d1'\n",
    "for datatype in dataDB.get_data_types():\n",
    "    dataName = metricName + '_' + datatype\n",
    "    imshow_dataset_by_mouse(dataDB, ds, dataName, limits=[0,1])"
   ]
  },
  {
   "cell_type": "markdown",
   "metadata": {},
   "source": [
    "# 2. Variance\n",
    "\n",
    "* Across sessions\n",
    "    - Explained by performance\n",
    "* Across channels, trials, timesteps\n",
    "    - Explained by trial type"
   ]
  },
  {
   "cell_type": "code",
   "execution_count": null,
   "metadata": {
    "scrolled": true
   },
   "outputs": [],
   "source": [
    "mousename = 'mvg_4'\n",
    "trialTypeNames = dataDB.get_trial_type_names()\n",
    "sessions = dataDB.get_sessions(mousename)\n",
    "\n",
    "rezLst = []\n",
    "for session in sessions:\n",
    "    print(session)\n",
    "    dataLst = [\n",
    "        dataDB.get_neuro_data({'session' : session}, datatype='bn_session', trialType=trialType)[0]\n",
    "        for trialType in trialTypeNames\n",
    "    ]\n",
    "\n",
    "    colNames = ('trials', 'timesteps', 'channels')\n",
    "    dfThis = as_pandas_lst(dataLst, colNames, trialTypeNames, 'trialType')\n",
    "    dfRez = anova_homebrew(dfThis, 'rez')\n",
    "    display(dfRez)\n",
    "    rezLst += [list(dfRez['F'])[1:-1]]"
   ]
  },
  {
   "cell_type": "code",
   "execution_count": null,
   "metadata": {},
   "outputs": [],
   "source": [
    "sessions = dataDB.get_sessions(mousename)\n",
    "\n",
    "names = list(dfRez['axis'])[1:-1]\n",
    "rezArr = np.array(rezLst).T\n",
    "\n",
    "fig, ax = plt.subplots()\n",
    "ax.set_ylabel('mean_ssq')\n",
    "for name, x in zip(names, rezArr):\n",
    "    plt.semilogy(x, label=name)\n",
    "    \n",
    "ax.set_xticks(np.arange(len(sessions)))\n",
    "ax.set_xticklabels(sessions, rotation=90)\n",
    "ax.legend()\n",
    "plt.show()\n"
   ]
  },
  {
   "cell_type": "markdown",
   "metadata": {},
   "source": [
    "# 2. Activity\n",
    "\n",
    "## 2.1 Variance-based measures"
   ]
  },
  {
   "cell_type": "code",
   "execution_count": null,
   "metadata": {
    "scrolled": true
   },
   "outputs": [],
   "source": [
    "for metricName in ['mean', 'std', 'avg_entropy']:\n",
    "    for iMouse, mousename in enumerate(sorted(dataDB.mice)):\n",
    "        for datatype in dataDB.get_data_types():\n",
    "            dataName = metricName + '_' + datatype\n",
    "            print(dataName)\n",
    "            metric_by_session(dataDB, mc, ds, mousename, metricName, 'p', datatype=datatype, dataName=dataName)"
   ]
  },
  {
   "cell_type": "code",
   "execution_count": null,
   "metadata": {
    "scrolled": true
   },
   "outputs": [],
   "source": [
    "for metricName in ['mean', 'std', 'avg_entropy']:\n",
    "    for datatype in dataDB.get_data_types():\n",
    "        dataName = metricName + '_' + datatype\n",
    "        imshow_dataset_by_mouse(dataDB, ds, dataName)"
   ]
  },
  {
   "cell_type": "markdown",
   "metadata": {},
   "source": [
    "# 3. Temporal Structure\n",
    "## 3.1 Mean vs Time"
   ]
  },
  {
   "cell_type": "code",
   "execution_count": null,
   "metadata": {
    "scrolled": true
   },
   "outputs": [],
   "source": [
    "metricName = 'mean'\n",
    "for iMouse, mousename in enumerate(sorted(dataDB.mice)):\n",
    "    for datatype in dataDB.get_data_types():\n",
    "        dataName = metricName + '_time_' + datatype\n",
    "        if datatype == 'raw':\n",
    "            zscoreDim='rs'\n",
    "        else:\n",
    "            zscoreDim=None\n",
    "        \n",
    "        metric_by_session(dataDB, mc, ds, mousename, metricName, 'ps',\n",
    "                          datatype=datatype,\n",
    "                          dataName=dataName,\n",
    "                          zscoreDim=zscoreDim)"
   ]
  },
  {
   "cell_type": "code",
   "execution_count": null,
   "metadata": {
    "scrolled": true
   },
   "outputs": [],
   "source": [
    "metricName = 'mean'\n",
    "for datatype in dataDB.get_data_types(mousename):\n",
    "    dataName = metricName + '_time_' + datatype\n",
    "    print(dataName)\n",
    "    \n",
    "    imshow_dataset_by_session(dataDB, ds, dataName, limits=None,\n",
    "                              fig1size=(12, 2), colBased=False, aspect='auto')"
   ]
  },
  {
   "cell_type": "code",
   "execution_count": null,
   "metadata": {},
   "outputs": [],
   "source": []
  }
 ],
 "metadata": {
  "kernelspec": {
   "display_name": "Python (nest)",
   "language": "python",
   "name": "py36nest"
  },
  "language_info": {
   "codemirror_mode": {
    "name": "ipython",
    "version": 3
   },
   "file_extension": ".py",
   "mimetype": "text/x-python",
   "name": "python",
   "nbconvert_exporter": "python",
   "pygments_lexer": "ipython3",
   "version": "3.6.6"
  }
 },
 "nbformat": 4,
 "nbformat_minor": 2
}

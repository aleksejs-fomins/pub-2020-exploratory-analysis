{
 "cells": [
  {
   "cell_type": "code",
   "execution_count": null,
   "metadata": {},
   "outputs": [],
   "source": [
    "# Standard libraries\n",
    "import numpy as np\n",
    "import pandas as pd\n",
    "import matplotlib.pyplot as plt\n",
    "from ipywidgets import IntProgress\n",
    "from IPython.display import display\n",
    "\n",
    "# Append base directory\n",
    "import os,sys,inspect\n",
    "rootname = \"pub-2020-exploratory-analysis\"\n",
    "# thispath = os.path.dirname(os.path.abspath(inspect.getfile(inspect.currentframe())))\n",
    "thispath = os.getcwd()\n",
    "rootpath = os.path.join(thispath[:thispath.index(rootname)], rootname)\n",
    "sys.path.append(rootpath)\n",
    "print(\"Appended root directory\", rootpath)\n",
    "\n",
    "from mesostat.utils.qt_helper import gui_fnames, gui_fpath\n",
    "from mesostat.metric.metric import MetricCalculator\n",
    "from mesostat.utils.hdf5_io import DataStorage\n",
    "\n",
    "from lib.sych.data_fc_db_raw import DataFCDatabase\n",
    "import lib.analysis.coactivity as coactivity\n",
    "from lib.common.visualization import merge_image_sequence_movie\n",
    "\n",
    "%load_ext autoreload\n",
    "%autoreload 2"
   ]
  },
  {
   "cell_type": "code",
   "execution_count": null,
   "metadata": {},
   "outputs": [],
   "source": [
    "# tmp_path = root_path_data if 'root_path_data' in locals() else \"./\"\n",
    "params = {}\n",
    "# params['root_path_data'] = './'\n",
    "params['root_path_data'] = '/media/alyosha/Data/TE_data/yarodata/sych_preprocessed'\n",
    "# params['root_path_data'] = '/media/aleksejs/DataHDD/work/data/yaro/neuronal-raw-pooled'\n",
    "# params['root_path_data'] = gui_fpath('h5path', './')"
   ]
  },
  {
   "cell_type": "code",
   "execution_count": null,
   "metadata": {},
   "outputs": [],
   "source": [
    "dataDB = DataFCDatabase(params)"
   ]
  },
  {
   "cell_type": "code",
   "execution_count": null,
   "metadata": {},
   "outputs": [],
   "source": [
    "ds = DataStorage('sych_result_activity.h5')"
   ]
  },
  {
   "cell_type": "code",
   "execution_count": null,
   "metadata": {},
   "outputs": [],
   "source": [
    "mc = MetricCalculator(serial=True, verbose=False)"
   ]
  },
  {
   "cell_type": "code",
   "execution_count": null,
   "metadata": {
    "scrolled": true
   },
   "outputs": [],
   "source": [
    "print(dataDB.mice)\n",
    "print(dataDB.dataTypes)\n",
    "print(dataDB.trialTypeNames)"
   ]
  },
  {
   "cell_type": "code",
   "execution_count": null,
   "metadata": {},
   "outputs": [],
   "source": [
    "fig, ax = plt.subplots(figsize=(10, 7))\n",
    "areaDict = {\n",
    "    'anterior' : np.arange(12),\n",
    "    'posterior' : np.arange(12, 24),\n",
    "    'medial' : np.arange(24, 48),\n",
    "}\n",
    "\n",
    "dataDB.plot_area_clusters(fig, ax, areaDict, haveLegend=True)"
   ]
  },
  {
   "cell_type": "markdown",
   "metadata": {},
   "source": [
    "# 1. Significance\n",
    "\n",
    "## 1.1. Correlation plots\n"
   ]
  },
  {
   "cell_type": "code",
   "execution_count": null,
   "metadata": {},
   "outputs": [],
   "source": [
    "argSweepDict = {\n",
    "    'datatype':  ['bn_trial', 'bn_session'],\n",
    "    'trialType': ['None', 'iGO', 'iNOGO', 'iMISS', 'iFA'],\n",
    "    'intervName': 'auto',\n",
    "    'performance': 'auto'\n",
    "}\n",
    "\n",
    "argSweepDictSubpre = {\n",
    "    'trialType': ['None', 'iGO', 'iNOGO', 'iMISS', 'iFA'],\n",
    "    'intervName': 'auto',\n",
    "    'performance': 'auto'\n",
    "}\n",
    "\n",
    "exclQueryLst = []"
   ]
  },
  {
   "cell_type": "code",
   "execution_count": null,
   "metadata": {
    "scrolled": true
   },
   "outputs": [],
   "source": [
    "coactivity.plot_corr_mouse(dataDB, mc, 'corr', 'intervName', nDropPCA=None, dropChannels=[21],\n",
    "                           haveBrain=True, haveMono=False, exclQueryLst=exclQueryLst, **argSweepDict)"
   ]
  },
  {
   "cell_type": "code",
   "execution_count": null,
   "metadata": {
    "scrolled": true
   },
   "outputs": [],
   "source": [
    "coactivity.plot_corr_mouse(dataDB, mc, 'corr', 'trialType', nDropPCA=None, dropChannels=[21],\n",
    "                           haveBrain=True, haveMono=False, exclQueryLst=exclQueryLst, **argSweepDict)"
   ]
  },
  {
   "cell_type": "code",
   "execution_count": null,
   "metadata": {},
   "outputs": [],
   "source": [
    "coactivity.plot_corr_mousephase_subpre(dataDB, mc, 'corr', nDropPCA=None, dropChannels=[21],\n",
    "                                       exclQueryLst=exclQueryLst, **argSweepDictSubpre)"
   ]
  },
  {
   "cell_type": "code",
   "execution_count": null,
   "metadata": {},
   "outputs": [],
   "source": [
    "coactivity.plot_corr_mousephase_submouse(dataDB, mc, 'corr', dropChannels=[21],\n",
    "                                         exclQueryLst=exclQueryLst, **argSweepDict)"
   ]
  },
  {
   "cell_type": "markdown",
   "metadata": {},
   "source": [
    "**Drop first PCA and explore result**"
   ]
  },
  {
   "cell_type": "code",
   "execution_count": null,
   "metadata": {
    "scrolled": true
   },
   "outputs": [],
   "source": [
    "coactivity.plot_corr_mouse(dataDB, mc, 'corr', 'intervName', nDropPCA=1, dropChannels=[21], clusterParam=0.95,\n",
    "                           haveBrain=True, haveMono=False, exclQueryLst=exclQueryLst, **argSweepDict)"
   ]
  },
  {
   "cell_type": "code",
   "execution_count": null,
   "metadata": {},
   "outputs": [],
   "source": [
    "coactivity.plot_corr_mouse(dataDB, mc, 'corr', 'trialType', nDropPCA=1, dropChannels=[21],\n",
    "                           haveBrain=True, haveMono=False, exclQueryLst=exclQueryLst, **argSweepDict)"
   ]
  },
  {
   "cell_type": "code",
   "execution_count": null,
   "metadata": {},
   "outputs": [],
   "source": [
    "coactivity.plot_corr_mousephase_subpre(dataDB, mc, 'corr', nDropPCA=1, dropChannels=[21],\n",
    "                                       exclQueryLst=exclQueryLst, **argSweepDictSubpre)"
   ]
  },
  {
   "cell_type": "code",
   "execution_count": null,
   "metadata": {},
   "outputs": [],
   "source": [
    "coactivity.plot_corr_mousephase_submouse(dataDB, mc, 'corr', nDropPCA=1, dropChannels=[21], \n",
    "                                         exclQueryLst=exclQueryLst, **argSweepDict)"
   ]
  },
  {
   "cell_type": "markdown",
   "metadata": {},
   "source": [
    "## 1.4 Plot correlation movies"
   ]
  },
  {
   "cell_type": "code",
   "execution_count": null,
   "metadata": {
    "scrolled": true
   },
   "outputs": [],
   "source": [
    "dataKWArgs = {'trialType': 'auto', 'performance': 'auto', 'datatype': ['bn_trial', 'bn_session']}\n",
    "plotKWArgs = {'limits': [-1, 1]}\n",
    "\n",
    "for nDropPCA in [None, 1]:\n",
    "    coactivity.plot_corr_movie_mousetrialtype(dataDB, mc, 'corr', dataKWArgs, plotKWArgs,\n",
    "                                              exclQueryLst=exclQueryLst, haveDelay=False, nDropPCA=nDropPCA)"
   ]
  },
  {
   "cell_type": "code",
   "execution_count": null,
   "metadata": {},
   "outputs": [],
   "source": [
    "for datatype in ['bn_trial', 'bn_session']:\n",
    "    for performance in ['naive', 'expert']:\n",
    "        for dropPCA in ['None', '1']:\n",
    "            prefixPath = 'pics/corr/mousetrialType/dropPCA_' + str(nDropPCA) + '/movies/'\n",
    "            \n",
    "            plotSuffix = performance + '_' + datatype + '_'\n",
    "            merge_image_sequence_movie(prefixPath + plotSuffix, '.png', 0, 200,\n",
    "                                       trgPathName=None, deleteSrc=True)"
   ]
  },
  {
   "cell_type": "markdown",
   "metadata": {},
   "source": [
    "## 1.2 PCA exploration"
   ]
  },
  {
   "cell_type": "markdown",
   "metadata": {},
   "source": [
    "# 2. Consistency\n",
    "## 2.1 Direct correlation metrics"
   ]
  },
  {
   "cell_type": "code",
   "execution_count": null,
   "metadata": {},
   "outputs": [],
   "source": [
    "coactivity.plot_corr_consistency_l1_mouse(dataDB, intervDict, nDropPCA=None, performance='naive', dropChannels=[21])\n",
    "coactivity.plot_corr_consistency_l1_mouse(dataDB, intervDict, nDropPCA=None, performance='expert', dropChannels=[21])"
   ]
  },
  {
   "cell_type": "code",
   "execution_count": null,
   "metadata": {},
   "outputs": [],
   "source": [
    "coactivity.plot_corr_consistency_l1_mouse(dataDB, intervDict, nDropPCA=1, performance='naive', dropChannels=[21])\n",
    "coactivity.plot_corr_consistency_l1_mouse(dataDB, intervDict, nDropPCA=1, performance='expert', dropChannels=[21])"
   ]
  },
  {
   "cell_type": "code",
   "execution_count": null,
   "metadata": {},
   "outputs": [],
   "source": [
    "coactivity.plot_corr_consistency_l1_trialtype(dataDB, intervDict, performance='naive', dropChannels=[21], trialTypes=['iGO', 'iNOGO'], datatype='bn_trial')\n",
    "coactivity.plot_corr_consistency_l1_trialtype(dataDB, intervDict, performance='naive', dropChannels=[21], trialTypes=['iGO', 'iNOGO'], datatype='bn_session')\n",
    "coactivity.plot_corr_consistency_l1_trialtype(dataDB, intervDict, performance='expert', dropChannels=[21], trialTypes=['iGO', 'iNOGO'], datatype='bn_trial')\n",
    "coactivity.plot_corr_consistency_l1_trialtype(dataDB, intervDict, performance='expert', dropChannels=[21], trialTypes=['iGO', 'iNOGO'], datatype='bn_session')"
   ]
  },
  {
   "cell_type": "code",
   "execution_count": null,
   "metadata": {},
   "outputs": [],
   "source": [
    "coactivity.plot_corr_consistency_l1_trialtype(dataDB, intervDict, performance='naive', dropChannels=[21], nDropPCA=1, trialTypes=['iGO', 'iNOGO'], datatype='bn_trial')\n",
    "coactivity.plot_corr_consistency_l1_trialtype(dataDB, intervDict, performance='naive', dropChannels=[21], nDropPCA=1, trialTypes=['iGO', 'iNOGO'], datatype='bn_session')\n",
    "coactivity.plot_corr_consistency_l1_trialtype(dataDB, intervDict, performance='expert', dropChannels=[21], nDropPCA=1, trialTypes=['iGO', 'iNOGO'], datatype='bn_trial')\n",
    "coactivity.plot_corr_consistency_l1_trialtype(dataDB, intervDict, performance='expert', dropChannels=[21], nDropPCA=1, trialTypes=['iGO', 'iNOGO'], datatype='bn_session')"
   ]
  },
  {
   "cell_type": "code",
   "execution_count": null,
   "metadata": {},
   "outputs": [],
   "source": [
    "intervDictNoPre = intervDict.copy()\n",
    "del intervDictNoPre['PRE']"
   ]
  },
  {
   "cell_type": "code",
   "execution_count": null,
   "metadata": {},
   "outputs": [],
   "source": [
    "coactivity.plot_corr_consistency_l1_phase(dataDB, intervDictNoPre, dropChannels=[21], performance='naive', datatype='bn_trial')\n",
    "coactivity.plot_corr_consistency_l1_phase(dataDB, intervDictNoPre, dropChannels=[21], performance='naive', datatype='bn_session')\n",
    "coactivity.plot_corr_consistency_l1_phase(dataDB, intervDictNoPre, dropChannels=[21], performance='expert', datatype='bn_trial')\n",
    "coactivity.plot_corr_consistency_l1_phase(dataDB, intervDictNoPre, dropChannels=[21], performance='expert', datatype='bn_session')"
   ]
  },
  {
   "cell_type": "code",
   "execution_count": null,
   "metadata": {},
   "outputs": [],
   "source": [
    "coactivity.plot_corr_consistency_l1_phase(dataDB, intervDictNoPre, nDropPCA=1, dropChannels=[21], performance='naive', datatype='bn_trial')\n",
    "coactivity.plot_corr_consistency_l1_phase(dataDB, intervDictNoPre, nDropPCA=1, dropChannels=[21], performance='naive', datatype='bn_session')\n",
    "coactivity.plot_corr_consistency_l1_phase(dataDB, intervDictNoPre, nDropPCA=1, dropChannels=[21], performance='expert', datatype='bn_trial')\n",
    "coactivity.plot_corr_consistency_l1_phase(dataDB, intervDictNoPre, nDropPCA=1, dropChannels=[21], performance='expert', datatype='bn_session')"
   ]
  },
  {
   "cell_type": "markdown",
   "metadata": {},
   "source": [
    "## 2.1. PCA consistency over mice\n",
    "### 2.1.1. Angle-based consistency\n",
    "\n",
    "Tasks\n",
    "  * Explained variance by phase/session/mouse/trialType\n",
    "     * Do not separate phases, its meaningless. Compute PCA for all timesteps, then see proj differences for phases\n",
    "     * Implement HAC correction\n",
    "\n",
    "  * Global PCA shifts vs session\n",
    "\n",
    "Approaches:\n",
    "  * Eval PCA over all data, select strongest components, plot components as function of cofound\n",
    "  * Eval PCA for cofounds, compare PCA\n",
    "  \n",
    "**Plots**:\n",
    "* Cosine-squared matrix $C^2_{ij} = (R^{1}_{ik}R^{2}_{jk})^2$, where $R^l$ is the PCA-transform\n",
    "* Consistency metric $E = e^1_i e^2_j C^2_{ij}$, where $e^l$ are the eigenvalues\n",
    "\n",
    "**Problem**:\n",
    "The consistency metric $E$ has all necessary ingredients (angles, eigenvalues), but it is not mathematically clear that it behaves the desired way. Solid theory is required for this metric to be useful.\n",
    "\n",
    "**Alternative approach**:\n",
    "Try consistency metric $H(\\frac{C^2_{ij}}{N})$. Should be great at measuring the sparsity of basis coupling. The challenge is to include eigenvalue priority into this metric, since spread of weak eigenvalues is not as relevant as spread of strong ones."
   ]
  },
  {
   "cell_type": "code",
   "execution_count": null,
   "metadata": {},
   "outputs": [],
   "source": [
    "coactivity.plot_pca_alignment_bymouse(dataDB, datatype='bn_session', trialType=None)"
   ]
  },
  {
   "cell_type": "markdown",
   "metadata": {},
   "source": [
    "### 2.1.2. Eigenvalue-based consistency\n",
    "\n",
    "* Let $x_1$, $x_2$ be some datasets\n",
    "* Let $R_1$, $R_2$ be the corresponding PCA-transforms \n",
    "* Find total variances\n",
    "    - $V_1 = \\sum_i eig_i(x_1) = tr(cov(x_1)) = \\sum_i cov_{ii}(x_1)$\n",
    "    - $V_2 = \\sum_i eig_i(x_2) = tr(cov(x_2)) = \\sum_i cov_{ii}(x_2)$\n",
    "* Find explained variances\n",
    "    - $e_1 = eval(cov(x_1)) = diag(cov(R_1 x_1))$\n",
    "    - $e_2 = eval(cov(x_2)) = diag(cov(R_2 x_2))$\n",
    "* Find explained variances using wrong bases\n",
    "    - $e_{12} = diag(cov(R_2 x_1))$\n",
    "    - $e_{21} = diag(cov(R_1 x_2))$\n",
    "* Find representation errors in explained variance ratios\n",
    "    - $\\epsilon_1 = \\frac{\\sum_i |e^1_i - e^{12}_i|}{2 V_1}$\n",
    "    - $\\epsilon_2 = \\frac{\\sum_i |e^2_i - e^{21}_i|}{2 V_2}$\n",
    "\n",
    "\n",
    "\n",
    "* TODO: iter trialType=[hit, cr, all]\n",
    "* TODO: iter perf=[naive,expert,all]"
   ]
  },
  {
   "cell_type": "code",
   "execution_count": null,
   "metadata": {
    "scrolled": true
   },
   "outputs": [],
   "source": [
    "coactivity.plot_pca_consistency(dataDB, dropChannels=[21])"
   ]
  },
  {
   "cell_type": "code",
   "execution_count": null,
   "metadata": {
    "scrolled": true
   },
   "outputs": [],
   "source": [
    "coactivity.plot_pca_consistency(dataDB, dropChannels=[21], dropFirst=1)"
   ]
  },
  {
   "cell_type": "markdown",
   "metadata": {},
   "source": [
    "## 2.2. PCA consistency over phases\n",
    "### 2.2.1 Angle-based consistency"
   ]
  },
  {
   "cell_type": "code",
   "execution_count": null,
   "metadata": {},
   "outputs": [],
   "source": [
    "coactivity.plot_pca_alignment_byphase(dataDB, intervNames=['TEX', 'REW'], datatype='bn_trial', trialType=None)"
   ]
  },
  {
   "cell_type": "code",
   "execution_count": null,
   "metadata": {},
   "outputs": [],
   "source": []
  }
 ],
 "metadata": {
  "kernelspec": {
   "display_name": "py3ml",
   "language": "python",
   "name": "py3ml"
  },
  "language_info": {
   "codemirror_mode": {
    "name": "ipython",
    "version": 3
   },
   "file_extension": ".py",
   "mimetype": "text/x-python",
   "name": "python",
   "nbconvert_exporter": "python",
   "pygments_lexer": "ipython3",
   "version": "3.8.5"
  }
 },
 "nbformat": 4,
 "nbformat_minor": 4
}

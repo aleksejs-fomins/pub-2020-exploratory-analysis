{
 "cells": [
  {
   "cell_type": "code",
   "execution_count": 1,
   "metadata": {},
   "outputs": [
    {
     "name": "stdout",
     "output_type": "stream",
     "text": [
      "Appended root directory /home/alyosha/work/git/pub-2020-exploratory-analysis\n"
     ]
    }
   ],
   "source": [
    "# Standard libraries\n",
    "import numpy as np\n",
    "import pandas as pd\n",
    "import matplotlib.pyplot as plt\n",
    "from ipywidgets import IntProgress\n",
    "from IPython.display import display\n",
    "from scipy.stats import mannwhitneyu, wilcoxon\n",
    "\n",
    "# Append base directory\n",
    "import os,sys,inspect\n",
    "rootname = \"pub-2020-exploratory-analysis\"\n",
    "thispath = os.path.dirname(os.path.abspath(inspect.getfile(inspect.currentframe())))\n",
    "rootpath = os.path.join(thispath[:thispath.index(rootname)], rootname)\n",
    "sys.path.append(rootpath)\n",
    "print(\"Appended root directory\", rootpath)\n",
    "\n",
    "from mesostat.utils.qt_helper import gui_fnames, gui_fpath\n",
    "from mesostat.metric.metric import MetricCalculator\n",
    "from mesostat.utils.hdf5_io import DataStorage\n",
    "\n",
    "from lib.gallerosalas.data_fc_db_raw import DataFCDatabase\n",
    "import lib.analysis.bulk_metrics as bulk_metrics\n",
    "\n",
    "%load_ext autoreload\n",
    "%autoreload 2"
   ]
  },
  {
   "cell_type": "code",
   "execution_count": 2,
   "metadata": {},
   "outputs": [],
   "source": [
    "params = {}\n",
    "# params['root_path_data']  = gui_fpath(\"Path to data collection\",  './')\n",
    "params['root_path_data'] = '/media/alyosha/Data/TE_data/yasirdata_raw/'"
   ]
  },
  {
   "cell_type": "code",
   "execution_count": 3,
   "metadata": {},
   "outputs": [
    {
     "name": "stdout",
     "output_type": "stream",
     "text": [
      "Reading channel label file\n",
      "Reading allen brain map\n",
      "Reading task structure\n",
      "Searching for data files\n",
      "Found mice ['mou_5', 'mou_6', 'mou_7', 'mou_9']\n"
     ]
    }
   ],
   "source": [
    "dataDB = DataFCDatabase(params)"
   ]
  },
  {
   "cell_type": "code",
   "execution_count": 4,
   "metadata": {},
   "outputs": [],
   "source": [
    "ds = DataStorage('gallerosalas_bulk_metrics.h5')"
   ]
  },
  {
   "cell_type": "code",
   "execution_count": 5,
   "metadata": {},
   "outputs": [],
   "source": [
    "mc = MetricCalculator(serial=True, verbose=False)"
   ]
  },
  {
   "cell_type": "code",
   "execution_count": 6,
   "metadata": {},
   "outputs": [
    {
     "name": "stdout",
     "output_type": "stream",
     "text": [
      "mice {'mou_6', 'mou_9', 'mou_5', 'mou_7'}\n",
      "nSessions 4\n",
      "datatypes ['raw', 'bn_session', 'bn_trial']\n",
      "nChannel 28\n"
     ]
    }
   ],
   "source": [
    "print('mice', dataDB.mice)\n",
    "print('nSessions', len(dataDB.sessions))\n",
    "print('datatypes', dataDB.get_data_types())\n",
    "print('nChannel', dataDB.get_nchannels('mou_5'))"
   ]
  },
  {
   "cell_type": "code",
   "execution_count": 7,
   "metadata": {},
   "outputs": [],
   "source": [
    "dataDB.calc_shortest_distances()"
   ]
  },
  {
   "cell_type": "markdown",
   "metadata": {},
   "source": [
    "# Bulk Metrics"
   ]
  },
  {
   "cell_type": "code",
   "execution_count": 8,
   "metadata": {},
   "outputs": [],
   "source": [
    "intervDict = {\n",
    "    \"TEX\" : [2.0, 4.0],\n",
    "    \"DEL\" : [5.0, 6.8],\n",
    "    \"REW\" : [7.0, 8.0],\n",
    "    'AVG' : [2.0, 8.0]\n",
    "}"
   ]
  },
  {
   "cell_type": "markdown",
   "metadata": {},
   "source": [
    "## 1. Mean\n",
    "### 1.1. Mean vs time"
   ]
  },
  {
   "cell_type": "code",
   "execution_count": 9,
   "metadata": {
    "scrolled": true
   },
   "outputs": [
    {
     "data": {
      "application/vnd.jupyter.widget-view+json": {
       "model_id": "4f1b6030c12347229b9f7465721379fc",
       "version_major": 2,
       "version_minor": 0
      },
      "text/plain": [
       "IntProgress(value=0, description='time', max=60)"
      ]
     },
     "metadata": {},
     "output_type": "display_data"
    },
    {
     "name": "stdout",
     "output_type": "stream",
     "text": [
      "(4784, 160, 27)\n",
      "(1724, 160, 27)\n"
     ]
    },
    {
     "name": "stderr",
     "output_type": "stream",
     "text": [
      "/home/alyosha/work/git/mesostat-dev/mesostat/utils/signals/filter.py:11: RuntimeWarning: Mean of empty slice\n",
      "  mu = np.nanmean(x, axis=axis).reshape(shapeNew)\n",
      "/opt/anaconda3/envs/py3ml/lib/python3.8/site-packages/numpy/lib/nanfunctions.py:1664: RuntimeWarning: Degrees of freedom <= 0 for slice.\n",
      "  var = nanvar(a, axis=axis, dtype=dtype, out=out, ddof=ddof,\n"
     ]
    },
    {
     "name": "stdout",
     "output_type": "stream",
     "text": [
      "(251, 160, 27)\n",
      "(1910, 160, 27)\n",
      "(91, 160, 27)\n",
      "(4784, 160, 27)\n",
      "(1724, 160, 27)\n",
      "(251, 160, 27)\n",
      "(1910, 160, 27)\n",
      "(91, 160, 27)\n",
      "(4784, 160, 27)\n",
      "(1724, 160, 27)\n",
      "(251, 160, 27)\n",
      "(1910, 160, 27)\n",
      "(91, 160, 27)\n",
      "(3441, 160, 27)\n",
      "(1116, 160, 27)\n",
      "(311, 160, 27)\n",
      "(1257, 160, 27)\n",
      "(174, 160, 27)\n",
      "(3441, 160, 27)\n",
      "(1116, 160, 27)\n",
      "(311, 160, 27)\n",
      "(1257, 160, 27)\n",
      "(174, 160, 27)\n",
      "(3441, 160, 27)\n",
      "(1116, 160, 27)\n",
      "(311, 160, 27)\n",
      "(1257, 160, 27)\n",
      "(174, 160, 27)\n",
      "(3967, 160, 27)\n",
      "(1209, 160, 27)\n",
      "(239, 160, 27)\n",
      "(1315, 160, 27)\n",
      "(144, 160, 27)\n",
      "(3967, 160, 27)\n",
      "(1209, 160, 27)\n",
      "(239, 160, 27)\n",
      "(1315, 160, 27)\n",
      "(144, 160, 27)\n",
      "(3967, 160, 27)\n",
      "(1209, 160, 27)\n",
      "(239, 160, 27)\n",
      "(1315, 160, 27)\n",
      "(144, 160, 27)\n",
      "(5567, 160, 27)\n",
      "(1432, 160, 27)\n",
      "(159, 160, 27)\n",
      "(1398, 160, 27)\n",
      "(524, 160, 27)\n",
      "(5567, 160, 27)\n",
      "(1432, 160, 27)\n",
      "(159, 160, 27)\n",
      "(1398, 160, 27)\n",
      "(524, 160, 27)\n",
      "(5567, 160, 27)\n",
      "(1432, 160, 27)\n",
      "(159, 160, 27)\n",
      "(1398, 160, 27)\n",
      "(524, 160, 27)\n"
     ]
    }
   ],
   "source": [
    "bulk_metrics.metric_mouse_bulk(dataDB, mc, ds, 'mean', 's', 'time', verbose=False, minTrials=10,\n",
    "                               trialTypeNames='auto', perfNames=None)"
   ]
  },
  {
   "cell_type": "code",
   "execution_count": 10,
   "metadata": {
    "scrolled": true
   },
   "outputs": [
    {
     "name": "stdout",
     "output_type": "stream",
     "text": [
      "['mean', 'time', 'mou_9', 'bn_session', 'dset23', 'None', 'CR']\n",
      "['mean', 'time', 'mou_5', 'bn_session', 'dset38', 'None', 'CR']\n",
      "['mean', 'time', 'mou_7', 'bn_session', 'dset53', 'None', 'CR']\n",
      "['mean', 'time', 'mou_6', 'bn_session', 'dset8', 'None', 'CR']\n",
      "['mean', 'time', 'mou_6', 'bn_trial', 'dset13', 'None', 'CR']\n",
      "['mean', 'time', 'mou_9', 'bn_trial', 'dset28', 'None', 'CR']\n",
      "['mean', 'time', 'mou_5', 'bn_trial', 'dset43', 'None', 'CR']\n",
      "['mean', 'time', 'mou_7', 'bn_trial', 'dset58', 'None', 'CR']\n",
      "['mean', 'time', 'mou_9', 'raw', 'dset18', 'rs', 'CR']\n",
      "['mean', 'time', 'mou_6', 'raw', 'dset3', 'rs', 'CR']\n",
      "['mean', 'time', 'mou_5', 'raw', 'dset33', 'rs', 'CR']\n",
      "['mean', 'time', 'mou_7', 'raw', 'dset48', 'rs', 'CR']\n",
      "['mean', 'time', 'mou_9', 'bn_session', 'dset24', 'None', 'FA']\n",
      "['mean', 'time', 'mou_5', 'bn_session', 'dset39', 'None', 'FA']\n",
      "['mean', 'time', 'mou_7', 'bn_session', 'dset54', 'None', 'FA']\n",
      "['mean', 'time', 'mou_6', 'bn_session', 'dset9', 'None', 'FA']\n",
      "['mean', 'time', 'mou_6', 'bn_trial', 'dset14', 'None', 'FA']\n",
      "['mean', 'time', 'mou_9', 'bn_trial', 'dset29', 'None', 'FA']\n",
      "['mean', 'time', 'mou_5', 'bn_trial', 'dset44', 'None', 'FA']\n",
      "['mean', 'time', 'mou_7', 'bn_trial', 'dset59', 'None', 'FA']\n",
      "['mean', 'time', 'mou_9', 'raw', 'dset19', 'rs', 'FA']\n",
      "['mean', 'time', 'mou_5', 'raw', 'dset34', 'rs', 'FA']\n",
      "['mean', 'time', 'mou_6', 'raw', 'dset4', 'rs', 'FA']\n",
      "['mean', 'time', 'mou_7', 'raw', 'dset49', 'rs', 'FA']\n",
      "['mean', 'time', 'mou_9', 'bn_session', 'dset21', 'None', 'Hit']\n",
      "['mean', 'time', 'mou_5', 'bn_session', 'dset36', 'None', 'Hit']\n",
      "['mean', 'time', 'mou_7', 'bn_session', 'dset51', 'None', 'Hit']\n",
      "['mean', 'time', 'mou_6', 'bn_session', 'dset6', 'None', 'Hit']\n",
      "['mean', 'time', 'mou_6', 'bn_trial', 'dset11', 'None', 'Hit']\n",
      "['mean', 'time', 'mou_9', 'bn_trial', 'dset26', 'None', 'Hit']\n",
      "['mean', 'time', 'mou_5', 'bn_trial', 'dset41', 'None', 'Hit']\n",
      "['mean', 'time', 'mou_7', 'bn_trial', 'dset56', 'None', 'Hit']\n",
      "['mean', 'time', 'mou_6', 'raw', 'dset1', 'rs', 'Hit']\n",
      "['mean', 'time', 'mou_9', 'raw', 'dset16', 'rs', 'Hit']\n",
      "['mean', 'time', 'mou_5', 'raw', 'dset31', 'rs', 'Hit']\n",
      "['mean', 'time', 'mou_7', 'raw', 'dset46', 'rs', 'Hit']\n",
      "['mean', 'time', 'mou_9', 'bn_session', 'dset22', 'None', 'Miss']\n",
      "['mean', 'time', 'mou_5', 'bn_session', 'dset37', 'None', 'Miss']\n",
      "['mean', 'time', 'mou_7', 'bn_session', 'dset52', 'None', 'Miss']\n",
      "['mean', 'time', 'mou_6', 'bn_session', 'dset7', 'None', 'Miss']\n",
      "['mean', 'time', 'mou_6', 'bn_trial', 'dset12', 'None', 'Miss']\n",
      "['mean', 'time', 'mou_9', 'bn_trial', 'dset27', 'None', 'Miss']\n",
      "['mean', 'time', 'mou_5', 'bn_trial', 'dset42', 'None', 'Miss']\n",
      "['mean', 'time', 'mou_7', 'bn_trial', 'dset57', 'None', 'Miss']\n",
      "['mean', 'time', 'mou_9', 'raw', 'dset17', 'rs', 'Miss']\n",
      "['mean', 'time', 'mou_6', 'raw', 'dset2', 'rs', 'Miss']\n",
      "['mean', 'time', 'mou_5', 'raw', 'dset32', 'rs', 'Miss']\n",
      "['mean', 'time', 'mou_7', 'raw', 'dset47', 'rs', 'Miss']\n",
      "['mean', 'time', 'mou_9', 'bn_session', 'dset20', 'None', 'None']\n",
      "['mean', 'time', 'mou_5', 'bn_session', 'dset35', 'None', 'None']\n",
      "['mean', 'time', 'mou_6', 'bn_session', 'dset5', 'None', 'None']\n",
      "['mean', 'time', 'mou_7', 'bn_session', 'dset50', 'None', 'None']\n",
      "['mean', 'time', 'mou_6', 'bn_trial', 'dset10', 'None', 'None']\n",
      "['mean', 'time', 'mou_9', 'bn_trial', 'dset25', 'None', 'None']\n",
      "['mean', 'time', 'mou_5', 'bn_trial', 'dset40', 'None', 'None']\n",
      "['mean', 'time', 'mou_7', 'bn_trial', 'dset55', 'None', 'None']\n",
      "['mean', 'time', 'mou_6', 'raw', 'dset0', 'rs', 'None']\n",
      "['mean', 'time', 'mou_9', 'raw', 'dset15', 'rs', 'None']\n",
      "['mean', 'time', 'mou_5', 'raw', 'dset30', 'rs', 'None']\n",
      "['mean', 'time', 'mou_7', 'raw', 'dset45', 'rs', 'None']\n"
     ]
    }
   ],
   "source": [
    "bulk_metrics.plot_metric_bulk(ds, 'mean', 'time', verbose=False, xFunc=lambda m, l: dataDB.get_times())"
   ]
  },
  {
   "cell_type": "markdown",
   "metadata": {},
   "source": [
    "### 1.2. Mean vs session"
   ]
  },
  {
   "cell_type": "code",
   "execution_count": 11,
   "metadata": {
    "scrolled": true
   },
   "outputs": [
    {
     "data": {
      "application/vnd.jupyter.widget-view+json": {
       "model_id": "40e6317a40aa4368b4275f569cdf76dd",
       "version_major": 2,
       "version_minor": 0
      },
      "text/plain": [
       "IntProgress(value=0, description='session', max=60)"
      ]
     },
     "metadata": {},
     "output_type": "display_data"
    },
    {
     "data": {
      "application/vnd.jupyter.widget-view+json": {
       "model_id": "69f0549c4614489fbd57297fcb2b8f9f",
       "version_major": 2,
       "version_minor": 0
      },
      "text/plain": [
       "IntProgress(value=0, description='mou_6', max=30)"
      ]
     },
     "metadata": {},
     "output_type": "display_data"
    },
    {
     "data": {
      "application/vnd.jupyter.widget-view+json": {
       "model_id": "d035f1d3f8a64f52b662f2f15e527542",
       "version_major": 2,
       "version_minor": 0
      },
      "text/plain": [
       "IntProgress(value=0, description='mou_6', max=30)"
      ]
     },
     "metadata": {},
     "output_type": "display_data"
    },
    {
     "name": "stderr",
     "output_type": "stream",
     "text": [
      "/home/alyosha/work/git/mesostat-dev/mesostat/utils/signals/filter.py:11: RuntimeWarning: Mean of empty slice\n",
      "  mu = np.nanmean(x, axis=axis).reshape(shapeNew)\n",
      "/opt/anaconda3/envs/py3ml/lib/python3.8/site-packages/numpy/lib/nanfunctions.py:1664: RuntimeWarning: Degrees of freedom <= 0 for slice.\n",
      "  var = nanvar(a, axis=axis, dtype=dtype, out=out, ddof=ddof,\n"
     ]
    },
    {
     "data": {
      "application/vnd.jupyter.widget-view+json": {
       "model_id": "96f7374025264cb9903f1ef9c8cb51a6",
       "version_major": 2,
       "version_minor": 0
      },
      "text/plain": [
       "IntProgress(value=0, description='mou_6', max=30)"
      ]
     },
     "metadata": {},
     "output_type": "display_data"
    },
    {
     "name": "stdout",
     "output_type": "stream",
     "text": [
      "Warning: skipping session with too few trials 7\n",
      "Warning: skipping session with too few trials 7\n",
      "Warning: skipping session with too few trials 6\n",
      "Warning: skipping session with too few trials 6\n",
      "Warning: skipping session with too few trials 9\n",
      "Warning: skipping session with too few trials 5\n",
      "Warning: skipping session with too few trials 3\n",
      "Warning: skipping session with too few trials 5\n",
      "Warning: skipping session with too few trials 6\n",
      "Warning: skipping session with too few trials 7\n",
      "Warning: skipping session with too few trials 4\n",
      "Warning: skipping session with too few trials 2\n",
      "Warning: skipping session with too few trials 3\n",
      "Warning: skipping session with too few trials 7\n",
      "Warning: skipping session with too few trials 0\n",
      "Warning: skipping session with too few trials 6\n",
      "Warning: skipping session with too few trials 6\n",
      "Warning: skipping session with too few trials 3\n",
      "Warning: skipping session with too few trials 4\n",
      "Warning: skipping session with too few trials 8\n",
      "Warning: skipping session with too few trials 1\n"
     ]
    },
    {
     "data": {
      "application/vnd.jupyter.widget-view+json": {
       "model_id": "b8f162fc0fd5456792a0051044ff757f",
       "version_major": 2,
       "version_minor": 0
      },
      "text/plain": [
       "IntProgress(value=0, description='mou_6', max=30)"
      ]
     },
     "metadata": {},
     "output_type": "display_data"
    },
    {
     "data": {
      "application/vnd.jupyter.widget-view+json": {
       "model_id": "ca88fd0976f74e0ead0a46734e321346",
       "version_major": 2,
       "version_minor": 0
      },
      "text/plain": [
       "IntProgress(value=0, description='mou_6', max=30)"
      ]
     },
     "metadata": {},
     "output_type": "display_data"
    },
    {
     "name": "stdout",
     "output_type": "stream",
     "text": [
      "Warning: skipping session with too few trials 1\n",
      "Warning: skipping session with too few trials 2\n",
      "Warning: skipping session with too few trials 1\n",
      "Warning: skipping session with too few trials 5\n",
      "Warning: skipping session with too few trials 1\n",
      "Warning: skipping session with too few trials 2\n",
      "Warning: skipping session with too few trials 0\n",
      "Warning: skipping session with too few trials 1\n",
      "Warning: skipping session with too few trials 2\n",
      "Warning: skipping session with too few trials 7\n",
      "Warning: skipping session with too few trials 2\n",
      "Warning: skipping session with too few trials 2\n",
      "Warning: skipping session with too few trials 1\n",
      "Warning: skipping session with too few trials 0\n",
      "Warning: skipping session with too few trials 7\n",
      "Warning: skipping session with too few trials 6\n",
      "Warning: skipping session with too few trials 8\n",
      "Warning: skipping session with too few trials 2\n",
      "Warning: skipping session with too few trials 3\n",
      "Warning: skipping session with too few trials 7\n",
      "Warning: skipping session with too few trials 2\n",
      "Warning: skipping session with too few trials 4\n",
      "Warning: skipping session with too few trials 1\n",
      "Warning: skipping session with too few trials 3\n",
      "Warning: skipping session with too few trials 0\n",
      "Warning: skipping session with too few trials 3\n",
      "Warning: skipping session with too few trials 0\n",
      "Warning: skipping session with too few trials 1\n",
      "Warning: skipping session with too few trials 3\n"
     ]
    },
    {
     "data": {
      "application/vnd.jupyter.widget-view+json": {
       "model_id": "ccfab5ff19e94fb4bfdc6d2b17e396f7",
       "version_major": 2,
       "version_minor": 0
      },
      "text/plain": [
       "IntProgress(value=0, description='mou_6', max=30)"
      ]
     },
     "metadata": {},
     "output_type": "display_data"
    },
    {
     "data": {
      "application/vnd.jupyter.widget-view+json": {
       "model_id": "b84c2745fef94aa1adcdefe526db50e6",
       "version_major": 2,
       "version_minor": 0
      },
      "text/plain": [
       "IntProgress(value=0, description='mou_6', max=30)"
      ]
     },
     "metadata": {},
     "output_type": "display_data"
    },
    {
     "data": {
      "application/vnd.jupyter.widget-view+json": {
       "model_id": "28c2b968f2a44d9aa47a472e45c1dd1b",
       "version_major": 2,
       "version_minor": 0
      },
      "text/plain": [
       "IntProgress(value=0, description='mou_6', max=30)"
      ]
     },
     "metadata": {},
     "output_type": "display_data"
    },
    {
     "name": "stdout",
     "output_type": "stream",
     "text": [
      "Warning: skipping session with too few trials 7\n",
      "Warning: skipping session with too few trials 7\n",
      "Warning: skipping session with too few trials 6\n",
      "Warning: skipping session with too few trials 6\n",
      "Warning: skipping session with too few trials 9\n",
      "Warning: skipping session with too few trials 5\n",
      "Warning: skipping session with too few trials 3\n",
      "Warning: skipping session with too few trials 5\n",
      "Warning: skipping session with too few trials 6\n",
      "Warning: skipping session with too few trials 7\n",
      "Warning: skipping session with too few trials 4\n",
      "Warning: skipping session with too few trials 2\n",
      "Warning: skipping session with too few trials 3\n",
      "Warning: skipping session with too few trials 7\n",
      "Warning: skipping session with too few trials 0\n",
      "Warning: skipping session with too few trials 6\n",
      "Warning: skipping session with too few trials 6\n",
      "Warning: skipping session with too few trials 3\n",
      "Warning: skipping session with too few trials 4\n",
      "Warning: skipping session with too few trials 8\n",
      "Warning: skipping session with too few trials 1\n"
     ]
    },
    {
     "data": {
      "application/vnd.jupyter.widget-view+json": {
       "model_id": "b8ea0af5dceb43dd912388f6c76a64c7",
       "version_major": 2,
       "version_minor": 0
      },
      "text/plain": [
       "IntProgress(value=0, description='mou_6', max=30)"
      ]
     },
     "metadata": {},
     "output_type": "display_data"
    },
    {
     "data": {
      "application/vnd.jupyter.widget-view+json": {
       "model_id": "1b849b7e07ea4e00991e35af8521f705",
       "version_major": 2,
       "version_minor": 0
      },
      "text/plain": [
       "IntProgress(value=0, description='mou_6', max=30)"
      ]
     },
     "metadata": {},
     "output_type": "display_data"
    },
    {
     "name": "stdout",
     "output_type": "stream",
     "text": [
      "Warning: skipping session with too few trials 1\n",
      "Warning: skipping session with too few trials 2\n",
      "Warning: skipping session with too few trials 1\n",
      "Warning: skipping session with too few trials 5\n",
      "Warning: skipping session with too few trials 1\n",
      "Warning: skipping session with too few trials 2\n",
      "Warning: skipping session with too few trials 0\n",
      "Warning: skipping session with too few trials 1\n",
      "Warning: skipping session with too few trials 2\n",
      "Warning: skipping session with too few trials 7\n",
      "Warning: skipping session with too few trials 2\n",
      "Warning: skipping session with too few trials 2\n",
      "Warning: skipping session with too few trials 1\n",
      "Warning: skipping session with too few trials 0\n",
      "Warning: skipping session with too few trials 7\n",
      "Warning: skipping session with too few trials 6\n",
      "Warning: skipping session with too few trials 8\n",
      "Warning: skipping session with too few trials 2\n",
      "Warning: skipping session with too few trials 3\n",
      "Warning: skipping session with too few trials 7\n",
      "Warning: skipping session with too few trials 2\n",
      "Warning: skipping session with too few trials 4\n",
      "Warning: skipping session with too few trials 1\n",
      "Warning: skipping session with too few trials 3\n",
      "Warning: skipping session with too few trials 0\n",
      "Warning: skipping session with too few trials 3\n",
      "Warning: skipping session with too few trials 0\n",
      "Warning: skipping session with too few trials 1\n",
      "Warning: skipping session with too few trials 3\n"
     ]
    },
    {
     "data": {
      "application/vnd.jupyter.widget-view+json": {
       "model_id": "4a0f7d7c0db249a39f5e007210225f10",
       "version_major": 2,
       "version_minor": 0
      },
      "text/plain": [
       "IntProgress(value=0, description='mou_6', max=30)"
      ]
     },
     "metadata": {},
     "output_type": "display_data"
    },
    {
     "data": {
      "application/vnd.jupyter.widget-view+json": {
       "model_id": "f541886e7dc24716a39215612d777ff8",
       "version_major": 2,
       "version_minor": 0
      },
      "text/plain": [
       "IntProgress(value=0, description='mou_6', max=30)"
      ]
     },
     "metadata": {},
     "output_type": "display_data"
    },
    {
     "data": {
      "application/vnd.jupyter.widget-view+json": {
       "model_id": "db0671d8da344220a459df2c3a5ca755",
       "version_major": 2,
       "version_minor": 0
      },
      "text/plain": [
       "IntProgress(value=0, description='mou_6', max=30)"
      ]
     },
     "metadata": {},
     "output_type": "display_data"
    },
    {
     "name": "stdout",
     "output_type": "stream",
     "text": [
      "Warning: skipping session with too few trials 7\n",
      "Warning: skipping session with too few trials 7\n",
      "Warning: skipping session with too few trials 6\n",
      "Warning: skipping session with too few trials 6\n",
      "Warning: skipping session with too few trials 9\n",
      "Warning: skipping session with too few trials 5\n",
      "Warning: skipping session with too few trials 3\n",
      "Warning: skipping session with too few trials 5\n",
      "Warning: skipping session with too few trials 6\n",
      "Warning: skipping session with too few trials 7\n",
      "Warning: skipping session with too few trials 4\n",
      "Warning: skipping session with too few trials 2\n",
      "Warning: skipping session with too few trials 3\n",
      "Warning: skipping session with too few trials 7\n",
      "Warning: skipping session with too few trials 0\n",
      "Warning: skipping session with too few trials 6\n",
      "Warning: skipping session with too few trials 6\n",
      "Warning: skipping session with too few trials 3\n",
      "Warning: skipping session with too few trials 4\n",
      "Warning: skipping session with too few trials 8\n",
      "Warning: skipping session with too few trials 1\n"
     ]
    },
    {
     "data": {
      "application/vnd.jupyter.widget-view+json": {
       "model_id": "9ba2dd98ad8a41f1a5f687788dd7555b",
       "version_major": 2,
       "version_minor": 0
      },
      "text/plain": [
       "IntProgress(value=0, description='mou_6', max=30)"
      ]
     },
     "metadata": {},
     "output_type": "display_data"
    },
    {
     "data": {
      "application/vnd.jupyter.widget-view+json": {
       "model_id": "ea40e38fcae44d1e9ba5b6f7d46e7e84",
       "version_major": 2,
       "version_minor": 0
      },
      "text/plain": [
       "IntProgress(value=0, description='mou_6', max=30)"
      ]
     },
     "metadata": {},
     "output_type": "display_data"
    },
    {
     "name": "stdout",
     "output_type": "stream",
     "text": [
      "Warning: skipping session with too few trials 1\n",
      "Warning: skipping session with too few trials 2\n",
      "Warning: skipping session with too few trials 1\n",
      "Warning: skipping session with too few trials 5\n",
      "Warning: skipping session with too few trials 1\n",
      "Warning: skipping session with too few trials 2\n",
      "Warning: skipping session with too few trials 0\n",
      "Warning: skipping session with too few trials 1\n",
      "Warning: skipping session with too few trials 2\n",
      "Warning: skipping session with too few trials 7\n",
      "Warning: skipping session with too few trials 2\n",
      "Warning: skipping session with too few trials 2\n",
      "Warning: skipping session with too few trials 1\n",
      "Warning: skipping session with too few trials 0\n",
      "Warning: skipping session with too few trials 7\n",
      "Warning: skipping session with too few trials 6\n",
      "Warning: skipping session with too few trials 8\n",
      "Warning: skipping session with too few trials 2\n",
      "Warning: skipping session with too few trials 3\n",
      "Warning: skipping session with too few trials 7\n",
      "Warning: skipping session with too few trials 2\n",
      "Warning: skipping session with too few trials 4\n",
      "Warning: skipping session with too few trials 1\n",
      "Warning: skipping session with too few trials 3\n",
      "Warning: skipping session with too few trials 0\n",
      "Warning: skipping session with too few trials 3\n",
      "Warning: skipping session with too few trials 0\n",
      "Warning: skipping session with too few trials 1\n",
      "Warning: skipping session with too few trials 3\n"
     ]
    },
    {
     "data": {
      "application/vnd.jupyter.widget-view+json": {
       "model_id": "d11aa65557494d9c86f877b9640ef752",
       "version_major": 2,
       "version_minor": 0
      },
      "text/plain": [
       "IntProgress(value=0, description='mou_9', max=22)"
      ]
     },
     "metadata": {},
     "output_type": "display_data"
    },
    {
     "data": {
      "application/vnd.jupyter.widget-view+json": {
       "model_id": "b32c66bc0af2400a9a3ccbd5a61a5eec",
       "version_major": 2,
       "version_minor": 0
      },
      "text/plain": [
       "IntProgress(value=0, description='mou_9', max=22)"
      ]
     },
     "metadata": {},
     "output_type": "display_data"
    },
    {
     "data": {
      "application/vnd.jupyter.widget-view+json": {
       "model_id": "26236eadb3c5466f996a0951fdc149df",
       "version_major": 2,
       "version_minor": 0
      },
      "text/plain": [
       "IntProgress(value=0, description='mou_9', max=22)"
      ]
     },
     "metadata": {},
     "output_type": "display_data"
    },
    {
     "name": "stdout",
     "output_type": "stream",
     "text": [
      "Warning: skipping session with too few trials 9\n",
      "Warning: skipping session with too few trials 9\n",
      "Warning: skipping session with too few trials 7\n",
      "Warning: skipping session with too few trials 2\n",
      "Warning: skipping session with too few trials 9\n",
      "Warning: skipping session with too few trials 8\n",
      "Warning: skipping session with too few trials 3\n"
     ]
    },
    {
     "data": {
      "application/vnd.jupyter.widget-view+json": {
       "model_id": "dedb93a5717140198bfa7f203e291e10",
       "version_major": 2,
       "version_minor": 0
      },
      "text/plain": [
       "IntProgress(value=0, description='mou_9', max=22)"
      ]
     },
     "metadata": {},
     "output_type": "display_data"
    },
    {
     "data": {
      "application/vnd.jupyter.widget-view+json": {
       "model_id": "f59ab557d1a845339e2ec355fd1603a2",
       "version_major": 2,
       "version_minor": 0
      },
      "text/plain": [
       "IntProgress(value=0, description='mou_9', max=22)"
      ]
     },
     "metadata": {},
     "output_type": "display_data"
    },
    {
     "name": "stdout",
     "output_type": "stream",
     "text": [
      "Warning: skipping session with too few trials 6\n",
      "Warning: skipping session with too few trials 4\n",
      "Warning: skipping session with too few trials 7\n",
      "Warning: skipping session with too few trials 9\n",
      "Warning: skipping session with too few trials 4\n",
      "Warning: skipping session with too few trials 4\n",
      "Warning: skipping session with too few trials 1\n",
      "Warning: skipping session with too few trials 3\n",
      "Warning: skipping session with too few trials 4\n",
      "Warning: skipping session with too few trials 1\n",
      "Warning: skipping session with too few trials 5\n",
      "Warning: skipping session with too few trials 4\n",
      "Warning: skipping session with too few trials 3\n"
     ]
    },
    {
     "data": {
      "application/vnd.jupyter.widget-view+json": {
       "model_id": "f9263019c75a408bafa3168513d70fc3",
       "version_major": 2,
       "version_minor": 0
      },
      "text/plain": [
       "IntProgress(value=0, description='mou_9', max=22)"
      ]
     },
     "metadata": {},
     "output_type": "display_data"
    },
    {
     "data": {
      "application/vnd.jupyter.widget-view+json": {
       "model_id": "601cfc3cb9ed487492c795bac48ad5e7",
       "version_major": 2,
       "version_minor": 0
      },
      "text/plain": [
       "IntProgress(value=0, description='mou_9', max=22)"
      ]
     },
     "metadata": {},
     "output_type": "display_data"
    },
    {
     "data": {
      "application/vnd.jupyter.widget-view+json": {
       "model_id": "4a8b528fcd9743a98893218b6b02bb13",
       "version_major": 2,
       "version_minor": 0
      },
      "text/plain": [
       "IntProgress(value=0, description='mou_9', max=22)"
      ]
     },
     "metadata": {},
     "output_type": "display_data"
    },
    {
     "name": "stdout",
     "output_type": "stream",
     "text": [
      "Warning: skipping session with too few trials 9\n",
      "Warning: skipping session with too few trials 9\n",
      "Warning: skipping session with too few trials 7\n",
      "Warning: skipping session with too few trials 2\n",
      "Warning: skipping session with too few trials 9\n",
      "Warning: skipping session with too few trials 8\n",
      "Warning: skipping session with too few trials 3\n"
     ]
    },
    {
     "data": {
      "application/vnd.jupyter.widget-view+json": {
       "model_id": "4c6cf4e889dd4be7b56ea3712e2d749b",
       "version_major": 2,
       "version_minor": 0
      },
      "text/plain": [
       "IntProgress(value=0, description='mou_9', max=22)"
      ]
     },
     "metadata": {},
     "output_type": "display_data"
    },
    {
     "data": {
      "application/vnd.jupyter.widget-view+json": {
       "model_id": "db761e4d44684f329a754a9b9a1612e8",
       "version_major": 2,
       "version_minor": 0
      },
      "text/plain": [
       "IntProgress(value=0, description='mou_9', max=22)"
      ]
     },
     "metadata": {},
     "output_type": "display_data"
    },
    {
     "name": "stdout",
     "output_type": "stream",
     "text": [
      "Warning: skipping session with too few trials 6\n",
      "Warning: skipping session with too few trials 4\n",
      "Warning: skipping session with too few trials 7\n",
      "Warning: skipping session with too few trials 9\n",
      "Warning: skipping session with too few trials 4\n",
      "Warning: skipping session with too few trials 4\n",
      "Warning: skipping session with too few trials 1\n",
      "Warning: skipping session with too few trials 3\n",
      "Warning: skipping session with too few trials 4\n",
      "Warning: skipping session with too few trials 1\n",
      "Warning: skipping session with too few trials 5\n",
      "Warning: skipping session with too few trials 4\n",
      "Warning: skipping session with too few trials 3\n"
     ]
    },
    {
     "data": {
      "application/vnd.jupyter.widget-view+json": {
       "model_id": "05f26d1da61648f78af5153551bcf4ba",
       "version_major": 2,
       "version_minor": 0
      },
      "text/plain": [
       "IntProgress(value=0, description='mou_9', max=22)"
      ]
     },
     "metadata": {},
     "output_type": "display_data"
    },
    {
     "data": {
      "application/vnd.jupyter.widget-view+json": {
       "model_id": "bc2fa7426b1b4e78b8e56fddb977697a",
       "version_major": 2,
       "version_minor": 0
      },
      "text/plain": [
       "IntProgress(value=0, description='mou_9', max=22)"
      ]
     },
     "metadata": {},
     "output_type": "display_data"
    },
    {
     "data": {
      "application/vnd.jupyter.widget-view+json": {
       "model_id": "4876fa84b6314f68bb6b56368e04a824",
       "version_major": 2,
       "version_minor": 0
      },
      "text/plain": [
       "IntProgress(value=0, description='mou_9', max=22)"
      ]
     },
     "metadata": {},
     "output_type": "display_data"
    },
    {
     "name": "stdout",
     "output_type": "stream",
     "text": [
      "Warning: skipping session with too few trials 9\n",
      "Warning: skipping session with too few trials 9\n",
      "Warning: skipping session with too few trials 7\n",
      "Warning: skipping session with too few trials 2\n",
      "Warning: skipping session with too few trials 9\n",
      "Warning: skipping session with too few trials 8\n",
      "Warning: skipping session with too few trials 3\n"
     ]
    },
    {
     "data": {
      "application/vnd.jupyter.widget-view+json": {
       "model_id": "1dafde9b46b54309b90ebaf31a73eb0d",
       "version_major": 2,
       "version_minor": 0
      },
      "text/plain": [
       "IntProgress(value=0, description='mou_9', max=22)"
      ]
     },
     "metadata": {},
     "output_type": "display_data"
    },
    {
     "data": {
      "application/vnd.jupyter.widget-view+json": {
       "model_id": "2ccc24bd4856446ca50dd1e6b82883d7",
       "version_major": 2,
       "version_minor": 0
      },
      "text/plain": [
       "IntProgress(value=0, description='mou_9', max=22)"
      ]
     },
     "metadata": {},
     "output_type": "display_data"
    },
    {
     "name": "stdout",
     "output_type": "stream",
     "text": [
      "Warning: skipping session with too few trials 6\n",
      "Warning: skipping session with too few trials 4\n",
      "Warning: skipping session with too few trials 7\n",
      "Warning: skipping session with too few trials 9\n",
      "Warning: skipping session with too few trials 4\n",
      "Warning: skipping session with too few trials 4\n",
      "Warning: skipping session with too few trials 1\n",
      "Warning: skipping session with too few trials 3\n",
      "Warning: skipping session with too few trials 4\n",
      "Warning: skipping session with too few trials 1\n",
      "Warning: skipping session with too few trials 5\n",
      "Warning: skipping session with too few trials 4\n",
      "Warning: skipping session with too few trials 3\n"
     ]
    },
    {
     "data": {
      "application/vnd.jupyter.widget-view+json": {
       "model_id": "844c83f319cc422b9a709e8d3c0d25cf",
       "version_major": 2,
       "version_minor": 0
      },
      "text/plain": [
       "IntProgress(value=0, description='mou_5', max=21)"
      ]
     },
     "metadata": {},
     "output_type": "display_data"
    },
    {
     "data": {
      "application/vnd.jupyter.widget-view+json": {
       "model_id": "bce0a255a31140ecbb8b72d879689804",
       "version_major": 2,
       "version_minor": 0
      },
      "text/plain": [
       "IntProgress(value=0, description='mou_5', max=21)"
      ]
     },
     "metadata": {},
     "output_type": "display_data"
    },
    {
     "data": {
      "application/vnd.jupyter.widget-view+json": {
       "model_id": "509265a7b14f43ce928f96ee70c73eb7",
       "version_major": 2,
       "version_minor": 0
      },
      "text/plain": [
       "IntProgress(value=0, description='mou_5', max=21)"
      ]
     },
     "metadata": {},
     "output_type": "display_data"
    },
    {
     "name": "stdout",
     "output_type": "stream",
     "text": [
      "Warning: skipping session with too few trials 0\n",
      "Warning: skipping session with too few trials 9\n",
      "Warning: skipping session with too few trials 9\n",
      "Warning: skipping session with too few trials 4\n",
      "Warning: skipping session with too few trials 1\n",
      "Warning: skipping session with too few trials 2\n",
      "Warning: skipping session with too few trials 2\n",
      "Warning: skipping session with too few trials 0\n",
      "Warning: skipping session with too few trials 8\n",
      "Warning: skipping session with too few trials 0\n",
      "Warning: skipping session with too few trials 1\n",
      "Warning: skipping session with too few trials 1\n",
      "Warning: skipping session with too few trials 9\n"
     ]
    },
    {
     "data": {
      "application/vnd.jupyter.widget-view+json": {
       "model_id": "db3bda4bd756463683536ea718b934d8",
       "version_major": 2,
       "version_minor": 0
      },
      "text/plain": [
       "IntProgress(value=0, description='mou_5', max=21)"
      ]
     },
     "metadata": {},
     "output_type": "display_data"
    },
    {
     "data": {
      "application/vnd.jupyter.widget-view+json": {
       "model_id": "69b02323c62a4c74b6f7413c830dc7cb",
       "version_major": 2,
       "version_minor": 0
      },
      "text/plain": [
       "IntProgress(value=0, description='mou_5', max=21)"
      ]
     },
     "metadata": {},
     "output_type": "display_data"
    },
    {
     "name": "stdout",
     "output_type": "stream",
     "text": [
      "Warning: skipping session with too few trials 2\n",
      "Warning: skipping session with too few trials 4\n",
      "Warning: skipping session with too few trials 3\n",
      "Warning: skipping session with too few trials 2\n",
      "Warning: skipping session with too few trials 2\n",
      "Warning: skipping session with too few trials 8\n",
      "Warning: skipping session with too few trials 0\n",
      "Warning: skipping session with too few trials 5\n",
      "Warning: skipping session with too few trials 2\n",
      "Warning: skipping session with too few trials 1\n",
      "Warning: skipping session with too few trials 2\n",
      "Warning: skipping session with too few trials 0\n",
      "Warning: skipping session with too few trials 4\n",
      "Warning: skipping session with too few trials 9\n",
      "Warning: skipping session with too few trials 5\n"
     ]
    },
    {
     "data": {
      "application/vnd.jupyter.widget-view+json": {
       "model_id": "68f49b0a1bdb4dbc8fb3313cafda9eb6",
       "version_major": 2,
       "version_minor": 0
      },
      "text/plain": [
       "IntProgress(value=0, description='mou_5', max=21)"
      ]
     },
     "metadata": {},
     "output_type": "display_data"
    },
    {
     "data": {
      "application/vnd.jupyter.widget-view+json": {
       "model_id": "482d3439a7e646a1918dd19b7524c974",
       "version_major": 2,
       "version_minor": 0
      },
      "text/plain": [
       "IntProgress(value=0, description='mou_5', max=21)"
      ]
     },
     "metadata": {},
     "output_type": "display_data"
    },
    {
     "data": {
      "application/vnd.jupyter.widget-view+json": {
       "model_id": "dc330a48a59e48968304365771505449",
       "version_major": 2,
       "version_minor": 0
      },
      "text/plain": [
       "IntProgress(value=0, description='mou_5', max=21)"
      ]
     },
     "metadata": {},
     "output_type": "display_data"
    },
    {
     "name": "stdout",
     "output_type": "stream",
     "text": [
      "Warning: skipping session with too few trials 0\n",
      "Warning: skipping session with too few trials 9\n",
      "Warning: skipping session with too few trials 9\n",
      "Warning: skipping session with too few trials 4\n",
      "Warning: skipping session with too few trials 1\n",
      "Warning: skipping session with too few trials 2\n",
      "Warning: skipping session with too few trials 2\n",
      "Warning: skipping session with too few trials 0\n",
      "Warning: skipping session with too few trials 8\n",
      "Warning: skipping session with too few trials 0\n",
      "Warning: skipping session with too few trials 1\n",
      "Warning: skipping session with too few trials 1\n",
      "Warning: skipping session with too few trials 9\n"
     ]
    },
    {
     "data": {
      "application/vnd.jupyter.widget-view+json": {
       "model_id": "57b9a1ff72bd4491905bdf0c4ad5ed69",
       "version_major": 2,
       "version_minor": 0
      },
      "text/plain": [
       "IntProgress(value=0, description='mou_5', max=21)"
      ]
     },
     "metadata": {},
     "output_type": "display_data"
    },
    {
     "data": {
      "application/vnd.jupyter.widget-view+json": {
       "model_id": "a768d79fd7f7455089604ea61dab4b98",
       "version_major": 2,
       "version_minor": 0
      },
      "text/plain": [
       "IntProgress(value=0, description='mou_5', max=21)"
      ]
     },
     "metadata": {},
     "output_type": "display_data"
    },
    {
     "name": "stdout",
     "output_type": "stream",
     "text": [
      "Warning: skipping session with too few trials 2\n",
      "Warning: skipping session with too few trials 4\n",
      "Warning: skipping session with too few trials 3\n",
      "Warning: skipping session with too few trials 2\n",
      "Warning: skipping session with too few trials 2\n",
      "Warning: skipping session with too few trials 8\n",
      "Warning: skipping session with too few trials 0\n",
      "Warning: skipping session with too few trials 5\n",
      "Warning: skipping session with too few trials 2\n",
      "Warning: skipping session with too few trials 1\n",
      "Warning: skipping session with too few trials 2\n",
      "Warning: skipping session with too few trials 0\n",
      "Warning: skipping session with too few trials 4\n",
      "Warning: skipping session with too few trials 9\n",
      "Warning: skipping session with too few trials 5\n"
     ]
    },
    {
     "data": {
      "application/vnd.jupyter.widget-view+json": {
       "model_id": "0e47b80b994b4a7ea138305e1fac91a9",
       "version_major": 2,
       "version_minor": 0
      },
      "text/plain": [
       "IntProgress(value=0, description='mou_5', max=21)"
      ]
     },
     "metadata": {},
     "output_type": "display_data"
    },
    {
     "data": {
      "application/vnd.jupyter.widget-view+json": {
       "model_id": "0c794b79095444f79de43f57bcbedaf1",
       "version_major": 2,
       "version_minor": 0
      },
      "text/plain": [
       "IntProgress(value=0, description='mou_5', max=21)"
      ]
     },
     "metadata": {},
     "output_type": "display_data"
    },
    {
     "data": {
      "application/vnd.jupyter.widget-view+json": {
       "model_id": "13e4f181f7544a4f9bdc31409c882f6e",
       "version_major": 2,
       "version_minor": 0
      },
      "text/plain": [
       "IntProgress(value=0, description='mou_5', max=21)"
      ]
     },
     "metadata": {},
     "output_type": "display_data"
    },
    {
     "name": "stdout",
     "output_type": "stream",
     "text": [
      "Warning: skipping session with too few trials 0\n",
      "Warning: skipping session with too few trials 9\n",
      "Warning: skipping session with too few trials 9\n",
      "Warning: skipping session with too few trials 4\n",
      "Warning: skipping session with too few trials 1\n",
      "Warning: skipping session with too few trials 2\n",
      "Warning: skipping session with too few trials 2\n",
      "Warning: skipping session with too few trials 0\n",
      "Warning: skipping session with too few trials 8\n",
      "Warning: skipping session with too few trials 0\n",
      "Warning: skipping session with too few trials 1\n",
      "Warning: skipping session with too few trials 1\n",
      "Warning: skipping session with too few trials 9\n"
     ]
    },
    {
     "data": {
      "application/vnd.jupyter.widget-view+json": {
       "model_id": "09b97f9467dd4c5c85feacd3a8d3feb9",
       "version_major": 2,
       "version_minor": 0
      },
      "text/plain": [
       "IntProgress(value=0, description='mou_5', max=21)"
      ]
     },
     "metadata": {},
     "output_type": "display_data"
    },
    {
     "data": {
      "application/vnd.jupyter.widget-view+json": {
       "model_id": "ff3cf0751e814b428f34871eb4e9b61b",
       "version_major": 2,
       "version_minor": 0
      },
      "text/plain": [
       "IntProgress(value=0, description='mou_5', max=21)"
      ]
     },
     "metadata": {},
     "output_type": "display_data"
    },
    {
     "name": "stdout",
     "output_type": "stream",
     "text": [
      "Warning: skipping session with too few trials 2\n",
      "Warning: skipping session with too few trials 4\n",
      "Warning: skipping session with too few trials 3\n",
      "Warning: skipping session with too few trials 2\n",
      "Warning: skipping session with too few trials 2\n",
      "Warning: skipping session with too few trials 8\n",
      "Warning: skipping session with too few trials 0\n",
      "Warning: skipping session with too few trials 5\n",
      "Warning: skipping session with too few trials 2\n",
      "Warning: skipping session with too few trials 1\n",
      "Warning: skipping session with too few trials 2\n",
      "Warning: skipping session with too few trials 0\n",
      "Warning: skipping session with too few trials 4\n",
      "Warning: skipping session with too few trials 9\n",
      "Warning: skipping session with too few trials 5\n"
     ]
    },
    {
     "data": {
      "application/vnd.jupyter.widget-view+json": {
       "model_id": "6586372d96de4c868815608ad5d809cf",
       "version_major": 2,
       "version_minor": 0
      },
      "text/plain": [
       "IntProgress(value=0, description='mou_7', max=27)"
      ]
     },
     "metadata": {},
     "output_type": "display_data"
    },
    {
     "data": {
      "application/vnd.jupyter.widget-view+json": {
       "model_id": "84ed5fac571c482ebba07f0827655bd2",
       "version_major": 2,
       "version_minor": 0
      },
      "text/plain": [
       "IntProgress(value=0, description='mou_7', max=27)"
      ]
     },
     "metadata": {},
     "output_type": "display_data"
    },
    {
     "data": {
      "application/vnd.jupyter.widget-view+json": {
       "model_id": "95cc9465957346da9f22d894f0734610",
       "version_major": 2,
       "version_minor": 0
      },
      "text/plain": [
       "IntProgress(value=0, description='mou_7', max=27)"
      ]
     },
     "metadata": {},
     "output_type": "display_data"
    },
    {
     "name": "stdout",
     "output_type": "stream",
     "text": [
      "Warning: skipping session with too few trials 9\n",
      "Warning: skipping session with too few trials 1\n",
      "Warning: skipping session with too few trials 4\n",
      "Warning: skipping session with too few trials 2\n",
      "Warning: skipping session with too few trials 9\n",
      "Warning: skipping session with too few trials 0\n",
      "Warning: skipping session with too few trials 2\n",
      "Warning: skipping session with too few trials 6\n",
      "Warning: skipping session with too few trials 9\n",
      "Warning: skipping session with too few trials 1\n",
      "Warning: skipping session with too few trials 1\n",
      "Warning: skipping session with too few trials 1\n",
      "Warning: skipping session with too few trials 3\n",
      "Warning: skipping session with too few trials 1\n",
      "Warning: skipping session with too few trials 1\n",
      "Warning: skipping session with too few trials 6\n",
      "Warning: skipping session with too few trials 4\n",
      "Warning: skipping session with too few trials 1\n",
      "Warning: skipping session with too few trials 3\n",
      "Warning: skipping session with too few trials 1\n",
      "Warning: skipping session with too few trials 2\n",
      "Warning: skipping session with too few trials 4\n",
      "Warning: skipping session with too few trials 3\n"
     ]
    },
    {
     "data": {
      "application/vnd.jupyter.widget-view+json": {
       "model_id": "c2c3fc8925774795beaa4e91c5e97855",
       "version_major": 2,
       "version_minor": 0
      },
      "text/plain": [
       "IntProgress(value=0, description='mou_7', max=27)"
      ]
     },
     "metadata": {},
     "output_type": "display_data"
    },
    {
     "data": {
      "application/vnd.jupyter.widget-view+json": {
       "model_id": "99a5d619ea0c4e5b9779180503ee3c9e",
       "version_major": 2,
       "version_minor": 0
      },
      "text/plain": [
       "IntProgress(value=0, description='mou_7', max=27)"
      ]
     },
     "metadata": {},
     "output_type": "display_data"
    },
    {
     "name": "stdout",
     "output_type": "stream",
     "text": [
      "Warning: skipping session with too few trials 1\n",
      "Warning: skipping session with too few trials 7\n",
      "Warning: skipping session with too few trials 7\n",
      "Warning: skipping session with too few trials 9\n"
     ]
    },
    {
     "data": {
      "application/vnd.jupyter.widget-view+json": {
       "model_id": "b136835fb8a8494bbdcb314e906e745d",
       "version_major": 2,
       "version_minor": 0
      },
      "text/plain": [
       "IntProgress(value=0, description='mou_7', max=27)"
      ]
     },
     "metadata": {},
     "output_type": "display_data"
    },
    {
     "data": {
      "application/vnd.jupyter.widget-view+json": {
       "model_id": "1bb12f541b274b189ed3ebbcdf6f212e",
       "version_major": 2,
       "version_minor": 0
      },
      "text/plain": [
       "IntProgress(value=0, description='mou_7', max=27)"
      ]
     },
     "metadata": {},
     "output_type": "display_data"
    },
    {
     "data": {
      "application/vnd.jupyter.widget-view+json": {
       "model_id": "d41e24af4cc64652bd51c1103f07fc80",
       "version_major": 2,
       "version_minor": 0
      },
      "text/plain": [
       "IntProgress(value=0, description='mou_7', max=27)"
      ]
     },
     "metadata": {},
     "output_type": "display_data"
    },
    {
     "name": "stdout",
     "output_type": "stream",
     "text": [
      "Warning: skipping session with too few trials 9\n",
      "Warning: skipping session with too few trials 1\n",
      "Warning: skipping session with too few trials 4\n",
      "Warning: skipping session with too few trials 2\n",
      "Warning: skipping session with too few trials 9\n",
      "Warning: skipping session with too few trials 0\n",
      "Warning: skipping session with too few trials 2\n",
      "Warning: skipping session with too few trials 6\n",
      "Warning: skipping session with too few trials 9\n",
      "Warning: skipping session with too few trials 1\n",
      "Warning: skipping session with too few trials 1\n",
      "Warning: skipping session with too few trials 1\n",
      "Warning: skipping session with too few trials 3\n",
      "Warning: skipping session with too few trials 1\n",
      "Warning: skipping session with too few trials 1\n",
      "Warning: skipping session with too few trials 6\n",
      "Warning: skipping session with too few trials 4\n",
      "Warning: skipping session with too few trials 1\n",
      "Warning: skipping session with too few trials 3\n",
      "Warning: skipping session with too few trials 1\n",
      "Warning: skipping session with too few trials 2\n",
      "Warning: skipping session with too few trials 4\n",
      "Warning: skipping session with too few trials 3\n"
     ]
    },
    {
     "data": {
      "application/vnd.jupyter.widget-view+json": {
       "model_id": "4ddc5c89cfee440586d9bd8b14373f48",
       "version_major": 2,
       "version_minor": 0
      },
      "text/plain": [
       "IntProgress(value=0, description='mou_7', max=27)"
      ]
     },
     "metadata": {},
     "output_type": "display_data"
    },
    {
     "data": {
      "application/vnd.jupyter.widget-view+json": {
       "model_id": "c62cb7a0a3a0472f8eb9f4037a7958e9",
       "version_major": 2,
       "version_minor": 0
      },
      "text/plain": [
       "IntProgress(value=0, description='mou_7', max=27)"
      ]
     },
     "metadata": {},
     "output_type": "display_data"
    },
    {
     "name": "stdout",
     "output_type": "stream",
     "text": [
      "Warning: skipping session with too few trials 1\n",
      "Warning: skipping session with too few trials 7\n",
      "Warning: skipping session with too few trials 7\n",
      "Warning: skipping session with too few trials 9\n"
     ]
    },
    {
     "data": {
      "application/vnd.jupyter.widget-view+json": {
       "model_id": "563f4337e398415086fb8d21ab7e9394",
       "version_major": 2,
       "version_minor": 0
      },
      "text/plain": [
       "IntProgress(value=0, description='mou_7', max=27)"
      ]
     },
     "metadata": {},
     "output_type": "display_data"
    },
    {
     "data": {
      "application/vnd.jupyter.widget-view+json": {
       "model_id": "b942d637647e4711967686e42447bb0f",
       "version_major": 2,
       "version_minor": 0
      },
      "text/plain": [
       "IntProgress(value=0, description='mou_7', max=27)"
      ]
     },
     "metadata": {},
     "output_type": "display_data"
    },
    {
     "data": {
      "application/vnd.jupyter.widget-view+json": {
       "model_id": "ac7d88bbc2354fa5ba2b72c0c815a4f3",
       "version_major": 2,
       "version_minor": 0
      },
      "text/plain": [
       "IntProgress(value=0, description='mou_7', max=27)"
      ]
     },
     "metadata": {},
     "output_type": "display_data"
    },
    {
     "name": "stdout",
     "output_type": "stream",
     "text": [
      "Warning: skipping session with too few trials 9\n",
      "Warning: skipping session with too few trials 1\n",
      "Warning: skipping session with too few trials 4\n",
      "Warning: skipping session with too few trials 2\n",
      "Warning: skipping session with too few trials 9\n",
      "Warning: skipping session with too few trials 0\n",
      "Warning: skipping session with too few trials 2\n",
      "Warning: skipping session with too few trials 6\n",
      "Warning: skipping session with too few trials 9\n",
      "Warning: skipping session with too few trials 1\n",
      "Warning: skipping session with too few trials 1\n",
      "Warning: skipping session with too few trials 1\n",
      "Warning: skipping session with too few trials 3\n",
      "Warning: skipping session with too few trials 1\n",
      "Warning: skipping session with too few trials 1\n",
      "Warning: skipping session with too few trials 6\n",
      "Warning: skipping session with too few trials 4\n",
      "Warning: skipping session with too few trials 1\n",
      "Warning: skipping session with too few trials 3\n",
      "Warning: skipping session with too few trials 1\n",
      "Warning: skipping session with too few trials 2\n",
      "Warning: skipping session with too few trials 4\n",
      "Warning: skipping session with too few trials 3\n"
     ]
    },
    {
     "data": {
      "application/vnd.jupyter.widget-view+json": {
       "model_id": "533b5d31aa2b40b8a65e4b8506f30ba4",
       "version_major": 2,
       "version_minor": 0
      },
      "text/plain": [
       "IntProgress(value=0, description='mou_7', max=27)"
      ]
     },
     "metadata": {},
     "output_type": "display_data"
    },
    {
     "data": {
      "application/vnd.jupyter.widget-view+json": {
       "model_id": "d771d10b0d3e42b1a13179fb69678a5d",
       "version_major": 2,
       "version_minor": 0
      },
      "text/plain": [
       "IntProgress(value=0, description='mou_7', max=27)"
      ]
     },
     "metadata": {},
     "output_type": "display_data"
    },
    {
     "name": "stdout",
     "output_type": "stream",
     "text": [
      "Warning: skipping session with too few trials 1\n",
      "Warning: skipping session with too few trials 7\n",
      "Warning: skipping session with too few trials 7\n",
      "Warning: skipping session with too few trials 9\n"
     ]
    },
    {
     "data": {
      "application/vnd.jupyter.widget-view+json": {
       "model_id": "d4bb300b04c14199a0b7dacd196111a6",
       "version_major": 2,
       "version_minor": 0
      },
      "text/plain": [
       "IntProgress(value=0, description='session', max=60)"
      ]
     },
     "metadata": {},
     "output_type": "display_data"
    },
    {
     "data": {
      "application/vnd.jupyter.widget-view+json": {
       "model_id": "da03c33913a642e0be89952dc038f643",
       "version_major": 2,
       "version_minor": 0
      },
      "text/plain": [
       "IntProgress(value=0, description='mou_6', max=30)"
      ]
     },
     "metadata": {},
     "output_type": "display_data"
    },
    {
     "data": {
      "application/vnd.jupyter.widget-view+json": {
       "model_id": "729c7bf6cc1e4a94b3c6e338a8872fa6",
       "version_major": 2,
       "version_minor": 0
      },
      "text/plain": [
       "IntProgress(value=0, description='mou_6', max=30)"
      ]
     },
     "metadata": {},
     "output_type": "display_data"
    },
    {
     "data": {
      "application/vnd.jupyter.widget-view+json": {
       "model_id": "71914b93ecd342738ecab18f15c81519",
       "version_major": 2,
       "version_minor": 0
      },
      "text/plain": [
       "IntProgress(value=0, description='mou_6', max=30)"
      ]
     },
     "metadata": {},
     "output_type": "display_data"
    },
    {
     "name": "stdout",
     "output_type": "stream",
     "text": [
      "Warning: skipping session with too few trials 7\n",
      "Warning: skipping session with too few trials 7\n",
      "Warning: skipping session with too few trials 6\n",
      "Warning: skipping session with too few trials 6\n",
      "Warning: skipping session with too few trials 9\n",
      "Warning: skipping session with too few trials 5\n",
      "Warning: skipping session with too few trials 3\n",
      "Warning: skipping session with too few trials 5\n",
      "Warning: skipping session with too few trials 6\n",
      "Warning: skipping session with too few trials 7\n",
      "Warning: skipping session with too few trials 4\n",
      "Warning: skipping session with too few trials 2\n",
      "Warning: skipping session with too few trials 3\n",
      "Warning: skipping session with too few trials 7\n",
      "Warning: skipping session with too few trials 0\n",
      "Warning: skipping session with too few trials 6\n",
      "Warning: skipping session with too few trials 6\n",
      "Warning: skipping session with too few trials 3\n",
      "Warning: skipping session with too few trials 4\n",
      "Warning: skipping session with too few trials 8\n",
      "Warning: skipping session with too few trials 1\n"
     ]
    },
    {
     "data": {
      "application/vnd.jupyter.widget-view+json": {
       "model_id": "834bd0e3775a4d7f9ed89ae7be11332a",
       "version_major": 2,
       "version_minor": 0
      },
      "text/plain": [
       "IntProgress(value=0, description='mou_6', max=30)"
      ]
     },
     "metadata": {},
     "output_type": "display_data"
    },
    {
     "data": {
      "application/vnd.jupyter.widget-view+json": {
       "model_id": "902e9ec823dd4858895be7cd1ed5e705",
       "version_major": 2,
       "version_minor": 0
      },
      "text/plain": [
       "IntProgress(value=0, description='mou_6', max=30)"
      ]
     },
     "metadata": {},
     "output_type": "display_data"
    },
    {
     "name": "stdout",
     "output_type": "stream",
     "text": [
      "Warning: skipping session with too few trials 1\n",
      "Warning: skipping session with too few trials 2\n",
      "Warning: skipping session with too few trials 1\n",
      "Warning: skipping session with too few trials 5\n",
      "Warning: skipping session with too few trials 1\n",
      "Warning: skipping session with too few trials 2\n",
      "Warning: skipping session with too few trials 0\n",
      "Warning: skipping session with too few trials 1\n",
      "Warning: skipping session with too few trials 2\n",
      "Warning: skipping session with too few trials 7\n",
      "Warning: skipping session with too few trials 2\n",
      "Warning: skipping session with too few trials 2\n",
      "Warning: skipping session with too few trials 1\n",
      "Warning: skipping session with too few trials 0\n",
      "Warning: skipping session with too few trials 7\n",
      "Warning: skipping session with too few trials 6\n",
      "Warning: skipping session with too few trials 8\n",
      "Warning: skipping session with too few trials 2\n",
      "Warning: skipping session with too few trials 3\n",
      "Warning: skipping session with too few trials 7\n",
      "Warning: skipping session with too few trials 2\n",
      "Warning: skipping session with too few trials 4\n",
      "Warning: skipping session with too few trials 1\n",
      "Warning: skipping session with too few trials 3\n",
      "Warning: skipping session with too few trials 0\n",
      "Warning: skipping session with too few trials 3\n",
      "Warning: skipping session with too few trials 0\n",
      "Warning: skipping session with too few trials 1\n",
      "Warning: skipping session with too few trials 3\n"
     ]
    },
    {
     "data": {
      "application/vnd.jupyter.widget-view+json": {
       "model_id": "1741f00f2b474bd5b1a307e6a3406b29",
       "version_major": 2,
       "version_minor": 0
      },
      "text/plain": [
       "IntProgress(value=0, description='mou_6', max=30)"
      ]
     },
     "metadata": {},
     "output_type": "display_data"
    },
    {
     "data": {
      "application/vnd.jupyter.widget-view+json": {
       "model_id": "67ebc077fbb84397ba4d8dab1ebe0467",
       "version_major": 2,
       "version_minor": 0
      },
      "text/plain": [
       "IntProgress(value=0, description='mou_6', max=30)"
      ]
     },
     "metadata": {},
     "output_type": "display_data"
    },
    {
     "data": {
      "application/vnd.jupyter.widget-view+json": {
       "model_id": "24b51154de154bcc9412b53ae0ae284a",
       "version_major": 2,
       "version_minor": 0
      },
      "text/plain": [
       "IntProgress(value=0, description='mou_6', max=30)"
      ]
     },
     "metadata": {},
     "output_type": "display_data"
    },
    {
     "name": "stdout",
     "output_type": "stream",
     "text": [
      "Warning: skipping session with too few trials 7\n",
      "Warning: skipping session with too few trials 7\n",
      "Warning: skipping session with too few trials 6\n",
      "Warning: skipping session with too few trials 6\n",
      "Warning: skipping session with too few trials 9\n",
      "Warning: skipping session with too few trials 5\n",
      "Warning: skipping session with too few trials 3\n",
      "Warning: skipping session with too few trials 5\n",
      "Warning: skipping session with too few trials 6\n",
      "Warning: skipping session with too few trials 7\n",
      "Warning: skipping session with too few trials 4\n",
      "Warning: skipping session with too few trials 2\n",
      "Warning: skipping session with too few trials 3\n",
      "Warning: skipping session with too few trials 7\n",
      "Warning: skipping session with too few trials 0\n",
      "Warning: skipping session with too few trials 6\n",
      "Warning: skipping session with too few trials 6\n",
      "Warning: skipping session with too few trials 3\n",
      "Warning: skipping session with too few trials 4\n",
      "Warning: skipping session with too few trials 8\n",
      "Warning: skipping session with too few trials 1\n"
     ]
    },
    {
     "data": {
      "application/vnd.jupyter.widget-view+json": {
       "model_id": "ab1089efe27a41bfa3b16abed233db54",
       "version_major": 2,
       "version_minor": 0
      },
      "text/plain": [
       "IntProgress(value=0, description='mou_6', max=30)"
      ]
     },
     "metadata": {},
     "output_type": "display_data"
    },
    {
     "data": {
      "application/vnd.jupyter.widget-view+json": {
       "model_id": "360edd5a3a014a21a17193dbe430a6ac",
       "version_major": 2,
       "version_minor": 0
      },
      "text/plain": [
       "IntProgress(value=0, description='mou_6', max=30)"
      ]
     },
     "metadata": {},
     "output_type": "display_data"
    },
    {
     "name": "stdout",
     "output_type": "stream",
     "text": [
      "Warning: skipping session with too few trials 1\n",
      "Warning: skipping session with too few trials 2\n",
      "Warning: skipping session with too few trials 1\n",
      "Warning: skipping session with too few trials 5\n",
      "Warning: skipping session with too few trials 1\n",
      "Warning: skipping session with too few trials 2\n",
      "Warning: skipping session with too few trials 0\n",
      "Warning: skipping session with too few trials 1\n",
      "Warning: skipping session with too few trials 2\n",
      "Warning: skipping session with too few trials 7\n",
      "Warning: skipping session with too few trials 2\n",
      "Warning: skipping session with too few trials 2\n",
      "Warning: skipping session with too few trials 1\n",
      "Warning: skipping session with too few trials 0\n",
      "Warning: skipping session with too few trials 7\n",
      "Warning: skipping session with too few trials 6\n",
      "Warning: skipping session with too few trials 8\n",
      "Warning: skipping session with too few trials 2\n",
      "Warning: skipping session with too few trials 3\n",
      "Warning: skipping session with too few trials 7\n",
      "Warning: skipping session with too few trials 2\n",
      "Warning: skipping session with too few trials 4\n",
      "Warning: skipping session with too few trials 1\n",
      "Warning: skipping session with too few trials 3\n",
      "Warning: skipping session with too few trials 0\n",
      "Warning: skipping session with too few trials 3\n",
      "Warning: skipping session with too few trials 0\n",
      "Warning: skipping session with too few trials 1\n",
      "Warning: skipping session with too few trials 3\n"
     ]
    },
    {
     "data": {
      "application/vnd.jupyter.widget-view+json": {
       "model_id": "0e5d84ca78c24f9d832c791023e66a1f",
       "version_major": 2,
       "version_minor": 0
      },
      "text/plain": [
       "IntProgress(value=0, description='mou_6', max=30)"
      ]
     },
     "metadata": {},
     "output_type": "display_data"
    },
    {
     "data": {
      "application/vnd.jupyter.widget-view+json": {
       "model_id": "fa8f3731c01f4bf5b042bd71637f554b",
       "version_major": 2,
       "version_minor": 0
      },
      "text/plain": [
       "IntProgress(value=0, description='mou_6', max=30)"
      ]
     },
     "metadata": {},
     "output_type": "display_data"
    },
    {
     "data": {
      "application/vnd.jupyter.widget-view+json": {
       "model_id": "459f362a8bb64b12938796753453fd90",
       "version_major": 2,
       "version_minor": 0
      },
      "text/plain": [
       "IntProgress(value=0, description='mou_6', max=30)"
      ]
     },
     "metadata": {},
     "output_type": "display_data"
    },
    {
     "name": "stdout",
     "output_type": "stream",
     "text": [
      "Warning: skipping session with too few trials 7\n",
      "Warning: skipping session with too few trials 7\n",
      "Warning: skipping session with too few trials 6\n",
      "Warning: skipping session with too few trials 6\n",
      "Warning: skipping session with too few trials 9\n",
      "Warning: skipping session with too few trials 5\n",
      "Warning: skipping session with too few trials 3\n",
      "Warning: skipping session with too few trials 5\n",
      "Warning: skipping session with too few trials 6\n",
      "Warning: skipping session with too few trials 7\n",
      "Warning: skipping session with too few trials 4\n",
      "Warning: skipping session with too few trials 2\n",
      "Warning: skipping session with too few trials 3\n",
      "Warning: skipping session with too few trials 7\n",
      "Warning: skipping session with too few trials 0\n",
      "Warning: skipping session with too few trials 6\n",
      "Warning: skipping session with too few trials 6\n",
      "Warning: skipping session with too few trials 3\n",
      "Warning: skipping session with too few trials 4\n",
      "Warning: skipping session with too few trials 8\n",
      "Warning: skipping session with too few trials 1\n"
     ]
    },
    {
     "data": {
      "application/vnd.jupyter.widget-view+json": {
       "model_id": "e9ef5367cadd422a801e1c2449f77f90",
       "version_major": 2,
       "version_minor": 0
      },
      "text/plain": [
       "IntProgress(value=0, description='mou_6', max=30)"
      ]
     },
     "metadata": {},
     "output_type": "display_data"
    },
    {
     "data": {
      "application/vnd.jupyter.widget-view+json": {
       "model_id": "f66b3fa4828a4fe4b7ee0a81c7659117",
       "version_major": 2,
       "version_minor": 0
      },
      "text/plain": [
       "IntProgress(value=0, description='mou_6', max=30)"
      ]
     },
     "metadata": {},
     "output_type": "display_data"
    },
    {
     "name": "stdout",
     "output_type": "stream",
     "text": [
      "Warning: skipping session with too few trials 1\n",
      "Warning: skipping session with too few trials 2\n",
      "Warning: skipping session with too few trials 1\n",
      "Warning: skipping session with too few trials 5\n",
      "Warning: skipping session with too few trials 1\n",
      "Warning: skipping session with too few trials 2\n",
      "Warning: skipping session with too few trials 0\n",
      "Warning: skipping session with too few trials 1\n",
      "Warning: skipping session with too few trials 2\n",
      "Warning: skipping session with too few trials 7\n",
      "Warning: skipping session with too few trials 2\n",
      "Warning: skipping session with too few trials 2\n",
      "Warning: skipping session with too few trials 1\n",
      "Warning: skipping session with too few trials 0\n",
      "Warning: skipping session with too few trials 7\n",
      "Warning: skipping session with too few trials 6\n",
      "Warning: skipping session with too few trials 8\n",
      "Warning: skipping session with too few trials 2\n",
      "Warning: skipping session with too few trials 3\n",
      "Warning: skipping session with too few trials 7\n",
      "Warning: skipping session with too few trials 2\n",
      "Warning: skipping session with too few trials 4\n",
      "Warning: skipping session with too few trials 1\n",
      "Warning: skipping session with too few trials 3\n",
      "Warning: skipping session with too few trials 0\n",
      "Warning: skipping session with too few trials 3\n",
      "Warning: skipping session with too few trials 0\n",
      "Warning: skipping session with too few trials 1\n",
      "Warning: skipping session with too few trials 3\n"
     ]
    },
    {
     "data": {
      "application/vnd.jupyter.widget-view+json": {
       "model_id": "4fc3f0c3a8de4537a926dea279d1ed15",
       "version_major": 2,
       "version_minor": 0
      },
      "text/plain": [
       "IntProgress(value=0, description='mou_9', max=22)"
      ]
     },
     "metadata": {},
     "output_type": "display_data"
    },
    {
     "data": {
      "application/vnd.jupyter.widget-view+json": {
       "model_id": "50ae144278c6442b91bc61569d6322f9",
       "version_major": 2,
       "version_minor": 0
      },
      "text/plain": [
       "IntProgress(value=0, description='mou_9', max=22)"
      ]
     },
     "metadata": {},
     "output_type": "display_data"
    },
    {
     "data": {
      "application/vnd.jupyter.widget-view+json": {
       "model_id": "eba52d7cc06e4913a7378eb64a0ddb5e",
       "version_major": 2,
       "version_minor": 0
      },
      "text/plain": [
       "IntProgress(value=0, description='mou_9', max=22)"
      ]
     },
     "metadata": {},
     "output_type": "display_data"
    },
    {
     "name": "stdout",
     "output_type": "stream",
     "text": [
      "Warning: skipping session with too few trials 9\n",
      "Warning: skipping session with too few trials 9\n",
      "Warning: skipping session with too few trials 7\n",
      "Warning: skipping session with too few trials 2\n",
      "Warning: skipping session with too few trials 9\n",
      "Warning: skipping session with too few trials 8\n",
      "Warning: skipping session with too few trials 3\n"
     ]
    },
    {
     "data": {
      "application/vnd.jupyter.widget-view+json": {
       "model_id": "97e372d92446450b824cb44f3e124419",
       "version_major": 2,
       "version_minor": 0
      },
      "text/plain": [
       "IntProgress(value=0, description='mou_9', max=22)"
      ]
     },
     "metadata": {},
     "output_type": "display_data"
    },
    {
     "data": {
      "application/vnd.jupyter.widget-view+json": {
       "model_id": "5bd3bdf70aee48e0be6d6371cb482ba2",
       "version_major": 2,
       "version_minor": 0
      },
      "text/plain": [
       "IntProgress(value=0, description='mou_9', max=22)"
      ]
     },
     "metadata": {},
     "output_type": "display_data"
    },
    {
     "name": "stdout",
     "output_type": "stream",
     "text": [
      "Warning: skipping session with too few trials 6\n",
      "Warning: skipping session with too few trials 4\n",
      "Warning: skipping session with too few trials 7\n",
      "Warning: skipping session with too few trials 9\n",
      "Warning: skipping session with too few trials 4\n",
      "Warning: skipping session with too few trials 4\n",
      "Warning: skipping session with too few trials 1\n",
      "Warning: skipping session with too few trials 3\n",
      "Warning: skipping session with too few trials 4\n",
      "Warning: skipping session with too few trials 1\n",
      "Warning: skipping session with too few trials 5\n",
      "Warning: skipping session with too few trials 4\n",
      "Warning: skipping session with too few trials 3\n"
     ]
    },
    {
     "data": {
      "application/vnd.jupyter.widget-view+json": {
       "model_id": "b120ad960d474f62bef524d83fbad274",
       "version_major": 2,
       "version_minor": 0
      },
      "text/plain": [
       "IntProgress(value=0, description='mou_9', max=22)"
      ]
     },
     "metadata": {},
     "output_type": "display_data"
    },
    {
     "data": {
      "application/vnd.jupyter.widget-view+json": {
       "model_id": "b33bcbebfc8b4c9c97433573e7b1cdc6",
       "version_major": 2,
       "version_minor": 0
      },
      "text/plain": [
       "IntProgress(value=0, description='mou_9', max=22)"
      ]
     },
     "metadata": {},
     "output_type": "display_data"
    },
    {
     "data": {
      "application/vnd.jupyter.widget-view+json": {
       "model_id": "39607219f86d47a2b7b0056937037710",
       "version_major": 2,
       "version_minor": 0
      },
      "text/plain": [
       "IntProgress(value=0, description='mou_9', max=22)"
      ]
     },
     "metadata": {},
     "output_type": "display_data"
    },
    {
     "name": "stdout",
     "output_type": "stream",
     "text": [
      "Warning: skipping session with too few trials 9\n",
      "Warning: skipping session with too few trials 9\n",
      "Warning: skipping session with too few trials 7\n",
      "Warning: skipping session with too few trials 2\n",
      "Warning: skipping session with too few trials 9\n",
      "Warning: skipping session with too few trials 8\n",
      "Warning: skipping session with too few trials 3\n"
     ]
    },
    {
     "data": {
      "application/vnd.jupyter.widget-view+json": {
       "model_id": "72ec8541f2bd42db9794853f6e0885fc",
       "version_major": 2,
       "version_minor": 0
      },
      "text/plain": [
       "IntProgress(value=0, description='mou_9', max=22)"
      ]
     },
     "metadata": {},
     "output_type": "display_data"
    },
    {
     "data": {
      "application/vnd.jupyter.widget-view+json": {
       "model_id": "9fe6758249e449ae98c9e535ebb56f33",
       "version_major": 2,
       "version_minor": 0
      },
      "text/plain": [
       "IntProgress(value=0, description='mou_9', max=22)"
      ]
     },
     "metadata": {},
     "output_type": "display_data"
    },
    {
     "name": "stdout",
     "output_type": "stream",
     "text": [
      "Warning: skipping session with too few trials 6\n",
      "Warning: skipping session with too few trials 4\n",
      "Warning: skipping session with too few trials 7\n",
      "Warning: skipping session with too few trials 9\n",
      "Warning: skipping session with too few trials 4\n",
      "Warning: skipping session with too few trials 4\n",
      "Warning: skipping session with too few trials 1\n",
      "Warning: skipping session with too few trials 3\n",
      "Warning: skipping session with too few trials 4\n",
      "Warning: skipping session with too few trials 1\n",
      "Warning: skipping session with too few trials 5\n",
      "Warning: skipping session with too few trials 4\n",
      "Warning: skipping session with too few trials 3\n"
     ]
    },
    {
     "data": {
      "application/vnd.jupyter.widget-view+json": {
       "model_id": "13585831bd6b42ef8373a63ebf88ad08",
       "version_major": 2,
       "version_minor": 0
      },
      "text/plain": [
       "IntProgress(value=0, description='mou_9', max=22)"
      ]
     },
     "metadata": {},
     "output_type": "display_data"
    },
    {
     "data": {
      "application/vnd.jupyter.widget-view+json": {
       "model_id": "d1ab2ea848dd421e9df7feb3f7c6230a",
       "version_major": 2,
       "version_minor": 0
      },
      "text/plain": [
       "IntProgress(value=0, description='mou_9', max=22)"
      ]
     },
     "metadata": {},
     "output_type": "display_data"
    },
    {
     "data": {
      "application/vnd.jupyter.widget-view+json": {
       "model_id": "3a85069cb7e5486a90e8e9cb8fd4f5c3",
       "version_major": 2,
       "version_minor": 0
      },
      "text/plain": [
       "IntProgress(value=0, description='mou_9', max=22)"
      ]
     },
     "metadata": {},
     "output_type": "display_data"
    },
    {
     "name": "stdout",
     "output_type": "stream",
     "text": [
      "Warning: skipping session with too few trials 9\n",
      "Warning: skipping session with too few trials 9\n",
      "Warning: skipping session with too few trials 7\n",
      "Warning: skipping session with too few trials 2\n",
      "Warning: skipping session with too few trials 9\n",
      "Warning: skipping session with too few trials 8\n",
      "Warning: skipping session with too few trials 3\n"
     ]
    },
    {
     "data": {
      "application/vnd.jupyter.widget-view+json": {
       "model_id": "5e4f6cb327b4495b827ae9b1e00c93b5",
       "version_major": 2,
       "version_minor": 0
      },
      "text/plain": [
       "IntProgress(value=0, description='mou_9', max=22)"
      ]
     },
     "metadata": {},
     "output_type": "display_data"
    },
    {
     "data": {
      "application/vnd.jupyter.widget-view+json": {
       "model_id": "cb37e21f82204000b2e4fb1bd5091404",
       "version_major": 2,
       "version_minor": 0
      },
      "text/plain": [
       "IntProgress(value=0, description='mou_9', max=22)"
      ]
     },
     "metadata": {},
     "output_type": "display_data"
    },
    {
     "name": "stdout",
     "output_type": "stream",
     "text": [
      "Warning: skipping session with too few trials 6\n",
      "Warning: skipping session with too few trials 4\n",
      "Warning: skipping session with too few trials 7\n",
      "Warning: skipping session with too few trials 9\n",
      "Warning: skipping session with too few trials 4\n",
      "Warning: skipping session with too few trials 4\n",
      "Warning: skipping session with too few trials 1\n",
      "Warning: skipping session with too few trials 3\n",
      "Warning: skipping session with too few trials 4\n",
      "Warning: skipping session with too few trials 1\n",
      "Warning: skipping session with too few trials 5\n",
      "Warning: skipping session with too few trials 4\n",
      "Warning: skipping session with too few trials 3\n"
     ]
    },
    {
     "data": {
      "application/vnd.jupyter.widget-view+json": {
       "model_id": "bd7264647fa34922a72b2888352dc2d1",
       "version_major": 2,
       "version_minor": 0
      },
      "text/plain": [
       "IntProgress(value=0, description='mou_5', max=21)"
      ]
     },
     "metadata": {},
     "output_type": "display_data"
    },
    {
     "data": {
      "application/vnd.jupyter.widget-view+json": {
       "model_id": "e5545c37eb6f4081a2f693b5ca54fa1f",
       "version_major": 2,
       "version_minor": 0
      },
      "text/plain": [
       "IntProgress(value=0, description='mou_5', max=21)"
      ]
     },
     "metadata": {},
     "output_type": "display_data"
    },
    {
     "data": {
      "application/vnd.jupyter.widget-view+json": {
       "model_id": "78213c0b75d14dd9add0af5919b0f603",
       "version_major": 2,
       "version_minor": 0
      },
      "text/plain": [
       "IntProgress(value=0, description='mou_5', max=21)"
      ]
     },
     "metadata": {},
     "output_type": "display_data"
    },
    {
     "name": "stdout",
     "output_type": "stream",
     "text": [
      "Warning: skipping session with too few trials 0\n",
      "Warning: skipping session with too few trials 9\n",
      "Warning: skipping session with too few trials 9\n",
      "Warning: skipping session with too few trials 4\n",
      "Warning: skipping session with too few trials 1\n",
      "Warning: skipping session with too few trials 2\n",
      "Warning: skipping session with too few trials 2\n",
      "Warning: skipping session with too few trials 0\n",
      "Warning: skipping session with too few trials 8\n",
      "Warning: skipping session with too few trials 0\n",
      "Warning: skipping session with too few trials 1\n",
      "Warning: skipping session with too few trials 1\n",
      "Warning: skipping session with too few trials 9\n"
     ]
    },
    {
     "data": {
      "application/vnd.jupyter.widget-view+json": {
       "model_id": "f87e80196ff7492197572c5c2190f6de",
       "version_major": 2,
       "version_minor": 0
      },
      "text/plain": [
       "IntProgress(value=0, description='mou_5', max=21)"
      ]
     },
     "metadata": {},
     "output_type": "display_data"
    },
    {
     "data": {
      "application/vnd.jupyter.widget-view+json": {
       "model_id": "0f670bf87cfe455fad5984c9ef35062b",
       "version_major": 2,
       "version_minor": 0
      },
      "text/plain": [
       "IntProgress(value=0, description='mou_5', max=21)"
      ]
     },
     "metadata": {},
     "output_type": "display_data"
    },
    {
     "name": "stdout",
     "output_type": "stream",
     "text": [
      "Warning: skipping session with too few trials 2\n",
      "Warning: skipping session with too few trials 4\n",
      "Warning: skipping session with too few trials 3\n",
      "Warning: skipping session with too few trials 2\n",
      "Warning: skipping session with too few trials 2\n",
      "Warning: skipping session with too few trials 8\n",
      "Warning: skipping session with too few trials 0\n",
      "Warning: skipping session with too few trials 5\n",
      "Warning: skipping session with too few trials 2\n",
      "Warning: skipping session with too few trials 1\n",
      "Warning: skipping session with too few trials 2\n",
      "Warning: skipping session with too few trials 0\n",
      "Warning: skipping session with too few trials 4\n",
      "Warning: skipping session with too few trials 9\n",
      "Warning: skipping session with too few trials 5\n"
     ]
    },
    {
     "data": {
      "application/vnd.jupyter.widget-view+json": {
       "model_id": "9c3a2c8cf67d475082e31f0ff5063785",
       "version_major": 2,
       "version_minor": 0
      },
      "text/plain": [
       "IntProgress(value=0, description='mou_5', max=21)"
      ]
     },
     "metadata": {},
     "output_type": "display_data"
    },
    {
     "data": {
      "application/vnd.jupyter.widget-view+json": {
       "model_id": "da85a462f5aa489088cc0220bdb58bda",
       "version_major": 2,
       "version_minor": 0
      },
      "text/plain": [
       "IntProgress(value=0, description='mou_5', max=21)"
      ]
     },
     "metadata": {},
     "output_type": "display_data"
    },
    {
     "data": {
      "application/vnd.jupyter.widget-view+json": {
       "model_id": "2d0373d6b5014ba1a375d27b8873a59c",
       "version_major": 2,
       "version_minor": 0
      },
      "text/plain": [
       "IntProgress(value=0, description='mou_5', max=21)"
      ]
     },
     "metadata": {},
     "output_type": "display_data"
    },
    {
     "name": "stdout",
     "output_type": "stream",
     "text": [
      "Warning: skipping session with too few trials 0\n",
      "Warning: skipping session with too few trials 9\n",
      "Warning: skipping session with too few trials 9\n",
      "Warning: skipping session with too few trials 4\n",
      "Warning: skipping session with too few trials 1\n",
      "Warning: skipping session with too few trials 2\n",
      "Warning: skipping session with too few trials 2\n",
      "Warning: skipping session with too few trials 0\n",
      "Warning: skipping session with too few trials 8\n",
      "Warning: skipping session with too few trials 0\n",
      "Warning: skipping session with too few trials 1\n",
      "Warning: skipping session with too few trials 1\n",
      "Warning: skipping session with too few trials 9\n"
     ]
    },
    {
     "data": {
      "application/vnd.jupyter.widget-view+json": {
       "model_id": "49eb8b7c396d4d3ab2574144d21ddb74",
       "version_major": 2,
       "version_minor": 0
      },
      "text/plain": [
       "IntProgress(value=0, description='mou_5', max=21)"
      ]
     },
     "metadata": {},
     "output_type": "display_data"
    },
    {
     "data": {
      "application/vnd.jupyter.widget-view+json": {
       "model_id": "0603a76a809b4d13af51f49073861980",
       "version_major": 2,
       "version_minor": 0
      },
      "text/plain": [
       "IntProgress(value=0, description='mou_5', max=21)"
      ]
     },
     "metadata": {},
     "output_type": "display_data"
    },
    {
     "name": "stdout",
     "output_type": "stream",
     "text": [
      "Warning: skipping session with too few trials 2\n",
      "Warning: skipping session with too few trials 4\n",
      "Warning: skipping session with too few trials 3\n",
      "Warning: skipping session with too few trials 2\n",
      "Warning: skipping session with too few trials 2\n",
      "Warning: skipping session with too few trials 8\n",
      "Warning: skipping session with too few trials 0\n",
      "Warning: skipping session with too few trials 5\n",
      "Warning: skipping session with too few trials 2\n",
      "Warning: skipping session with too few trials 1\n",
      "Warning: skipping session with too few trials 2\n",
      "Warning: skipping session with too few trials 0\n",
      "Warning: skipping session with too few trials 4\n",
      "Warning: skipping session with too few trials 9\n",
      "Warning: skipping session with too few trials 5\n"
     ]
    },
    {
     "data": {
      "application/vnd.jupyter.widget-view+json": {
       "model_id": "59e2b567747c4f288943ab0ad7820fdf",
       "version_major": 2,
       "version_minor": 0
      },
      "text/plain": [
       "IntProgress(value=0, description='mou_5', max=21)"
      ]
     },
     "metadata": {},
     "output_type": "display_data"
    },
    {
     "data": {
      "application/vnd.jupyter.widget-view+json": {
       "model_id": "137b96c242014c45bfa4fa8a514b090f",
       "version_major": 2,
       "version_minor": 0
      },
      "text/plain": [
       "IntProgress(value=0, description='mou_5', max=21)"
      ]
     },
     "metadata": {},
     "output_type": "display_data"
    },
    {
     "data": {
      "application/vnd.jupyter.widget-view+json": {
       "model_id": "29a27e64ad624ad9b4b33524d7ed70a6",
       "version_major": 2,
       "version_minor": 0
      },
      "text/plain": [
       "IntProgress(value=0, description='mou_5', max=21)"
      ]
     },
     "metadata": {},
     "output_type": "display_data"
    },
    {
     "name": "stdout",
     "output_type": "stream",
     "text": [
      "Warning: skipping session with too few trials 0\n",
      "Warning: skipping session with too few trials 9\n",
      "Warning: skipping session with too few trials 9\n",
      "Warning: skipping session with too few trials 4\n",
      "Warning: skipping session with too few trials 1\n",
      "Warning: skipping session with too few trials 2\n",
      "Warning: skipping session with too few trials 2\n",
      "Warning: skipping session with too few trials 0\n",
      "Warning: skipping session with too few trials 8\n",
      "Warning: skipping session with too few trials 0\n",
      "Warning: skipping session with too few trials 1\n",
      "Warning: skipping session with too few trials 1\n",
      "Warning: skipping session with too few trials 9\n"
     ]
    },
    {
     "data": {
      "application/vnd.jupyter.widget-view+json": {
       "model_id": "e5f766c6fa2f404cbc82288445e02c8b",
       "version_major": 2,
       "version_minor": 0
      },
      "text/plain": [
       "IntProgress(value=0, description='mou_5', max=21)"
      ]
     },
     "metadata": {},
     "output_type": "display_data"
    },
    {
     "data": {
      "application/vnd.jupyter.widget-view+json": {
       "model_id": "9477dfd3226c4c648fbd5b3d94787dec",
       "version_major": 2,
       "version_minor": 0
      },
      "text/plain": [
       "IntProgress(value=0, description='mou_5', max=21)"
      ]
     },
     "metadata": {},
     "output_type": "display_data"
    },
    {
     "name": "stdout",
     "output_type": "stream",
     "text": [
      "Warning: skipping session with too few trials 2\n",
      "Warning: skipping session with too few trials 4\n",
      "Warning: skipping session with too few trials 3\n",
      "Warning: skipping session with too few trials 2\n",
      "Warning: skipping session with too few trials 2\n",
      "Warning: skipping session with too few trials 8\n",
      "Warning: skipping session with too few trials 0\n",
      "Warning: skipping session with too few trials 5\n",
      "Warning: skipping session with too few trials 2\n",
      "Warning: skipping session with too few trials 1\n",
      "Warning: skipping session with too few trials 2\n",
      "Warning: skipping session with too few trials 0\n",
      "Warning: skipping session with too few trials 4\n",
      "Warning: skipping session with too few trials 9\n",
      "Warning: skipping session with too few trials 5\n"
     ]
    },
    {
     "data": {
      "application/vnd.jupyter.widget-view+json": {
       "model_id": "fa3d0d33dc0f4688940a91df1dc45fd3",
       "version_major": 2,
       "version_minor": 0
      },
      "text/plain": [
       "IntProgress(value=0, description='mou_7', max=27)"
      ]
     },
     "metadata": {},
     "output_type": "display_data"
    },
    {
     "data": {
      "application/vnd.jupyter.widget-view+json": {
       "model_id": "1f5b0e9d1ef3428fafea045546400095",
       "version_major": 2,
       "version_minor": 0
      },
      "text/plain": [
       "IntProgress(value=0, description='mou_7', max=27)"
      ]
     },
     "metadata": {},
     "output_type": "display_data"
    },
    {
     "data": {
      "application/vnd.jupyter.widget-view+json": {
       "model_id": "676870e311514071897815def312f380",
       "version_major": 2,
       "version_minor": 0
      },
      "text/plain": [
       "IntProgress(value=0, description='mou_7', max=27)"
      ]
     },
     "metadata": {},
     "output_type": "display_data"
    },
    {
     "name": "stdout",
     "output_type": "stream",
     "text": [
      "Warning: skipping session with too few trials 9\n",
      "Warning: skipping session with too few trials 1\n",
      "Warning: skipping session with too few trials 4\n",
      "Warning: skipping session with too few trials 2\n",
      "Warning: skipping session with too few trials 9\n",
      "Warning: skipping session with too few trials 0\n",
      "Warning: skipping session with too few trials 2\n",
      "Warning: skipping session with too few trials 6\n",
      "Warning: skipping session with too few trials 9\n",
      "Warning: skipping session with too few trials 1\n",
      "Warning: skipping session with too few trials 1\n",
      "Warning: skipping session with too few trials 1\n",
      "Warning: skipping session with too few trials 3\n",
      "Warning: skipping session with too few trials 1\n",
      "Warning: skipping session with too few trials 1\n",
      "Warning: skipping session with too few trials 6\n",
      "Warning: skipping session with too few trials 4\n",
      "Warning: skipping session with too few trials 1\n",
      "Warning: skipping session with too few trials 3\n",
      "Warning: skipping session with too few trials 1\n",
      "Warning: skipping session with too few trials 2\n",
      "Warning: skipping session with too few trials 4\n",
      "Warning: skipping session with too few trials 3\n"
     ]
    },
    {
     "data": {
      "application/vnd.jupyter.widget-view+json": {
       "model_id": "c7459921af2e488fae0270d3f10518de",
       "version_major": 2,
       "version_minor": 0
      },
      "text/plain": [
       "IntProgress(value=0, description='mou_7', max=27)"
      ]
     },
     "metadata": {},
     "output_type": "display_data"
    },
    {
     "data": {
      "application/vnd.jupyter.widget-view+json": {
       "model_id": "a60f4dcf00694297aca391972b0b6100",
       "version_major": 2,
       "version_minor": 0
      },
      "text/plain": [
       "IntProgress(value=0, description='mou_7', max=27)"
      ]
     },
     "metadata": {},
     "output_type": "display_data"
    },
    {
     "name": "stdout",
     "output_type": "stream",
     "text": [
      "Warning: skipping session with too few trials 1\n",
      "Warning: skipping session with too few trials 7\n",
      "Warning: skipping session with too few trials 7\n",
      "Warning: skipping session with too few trials 9\n"
     ]
    },
    {
     "data": {
      "application/vnd.jupyter.widget-view+json": {
       "model_id": "5d5d657a29a74166a6cac418fba775ff",
       "version_major": 2,
       "version_minor": 0
      },
      "text/plain": [
       "IntProgress(value=0, description='mou_7', max=27)"
      ]
     },
     "metadata": {},
     "output_type": "display_data"
    },
    {
     "data": {
      "application/vnd.jupyter.widget-view+json": {
       "model_id": "3b457de1b0274e268f4e685e5f46ea4b",
       "version_major": 2,
       "version_minor": 0
      },
      "text/plain": [
       "IntProgress(value=0, description='mou_7', max=27)"
      ]
     },
     "metadata": {},
     "output_type": "display_data"
    },
    {
     "data": {
      "application/vnd.jupyter.widget-view+json": {
       "model_id": "e6560460502244b8b14518235d00a408",
       "version_major": 2,
       "version_minor": 0
      },
      "text/plain": [
       "IntProgress(value=0, description='mou_7', max=27)"
      ]
     },
     "metadata": {},
     "output_type": "display_data"
    },
    {
     "name": "stdout",
     "output_type": "stream",
     "text": [
      "Warning: skipping session with too few trials 9\n",
      "Warning: skipping session with too few trials 1\n",
      "Warning: skipping session with too few trials 4\n",
      "Warning: skipping session with too few trials 2\n",
      "Warning: skipping session with too few trials 9\n",
      "Warning: skipping session with too few trials 0\n",
      "Warning: skipping session with too few trials 2\n",
      "Warning: skipping session with too few trials 6\n",
      "Warning: skipping session with too few trials 9\n",
      "Warning: skipping session with too few trials 1\n",
      "Warning: skipping session with too few trials 1\n",
      "Warning: skipping session with too few trials 1\n",
      "Warning: skipping session with too few trials 3\n",
      "Warning: skipping session with too few trials 1\n",
      "Warning: skipping session with too few trials 1\n",
      "Warning: skipping session with too few trials 6\n",
      "Warning: skipping session with too few trials 4\n",
      "Warning: skipping session with too few trials 1\n",
      "Warning: skipping session with too few trials 3\n",
      "Warning: skipping session with too few trials 1\n",
      "Warning: skipping session with too few trials 2\n",
      "Warning: skipping session with too few trials 4\n",
      "Warning: skipping session with too few trials 3\n"
     ]
    },
    {
     "data": {
      "application/vnd.jupyter.widget-view+json": {
       "model_id": "05588d77abc14582b83ca777bbebdde8",
       "version_major": 2,
       "version_minor": 0
      },
      "text/plain": [
       "IntProgress(value=0, description='mou_7', max=27)"
      ]
     },
     "metadata": {},
     "output_type": "display_data"
    },
    {
     "data": {
      "application/vnd.jupyter.widget-view+json": {
       "model_id": "b94a29f07ccc4d758695282b91b83fec",
       "version_major": 2,
       "version_minor": 0
      },
      "text/plain": [
       "IntProgress(value=0, description='mou_7', max=27)"
      ]
     },
     "metadata": {},
     "output_type": "display_data"
    },
    {
     "name": "stdout",
     "output_type": "stream",
     "text": [
      "Warning: skipping session with too few trials 1\n",
      "Warning: skipping session with too few trials 7\n",
      "Warning: skipping session with too few trials 7\n",
      "Warning: skipping session with too few trials 9\n"
     ]
    },
    {
     "data": {
      "application/vnd.jupyter.widget-view+json": {
       "model_id": "b9b90eb4515840dfa83c5ffa34b02c00",
       "version_major": 2,
       "version_minor": 0
      },
      "text/plain": [
       "IntProgress(value=0, description='mou_7', max=27)"
      ]
     },
     "metadata": {},
     "output_type": "display_data"
    },
    {
     "data": {
      "application/vnd.jupyter.widget-view+json": {
       "model_id": "a47f12e8fd4c48dd855620633a0f9f86",
       "version_major": 2,
       "version_minor": 0
      },
      "text/plain": [
       "IntProgress(value=0, description='mou_7', max=27)"
      ]
     },
     "metadata": {},
     "output_type": "display_data"
    },
    {
     "data": {
      "application/vnd.jupyter.widget-view+json": {
       "model_id": "d38407cd91d247dd8d02316d0974e101",
       "version_major": 2,
       "version_minor": 0
      },
      "text/plain": [
       "IntProgress(value=0, description='mou_7', max=27)"
      ]
     },
     "metadata": {},
     "output_type": "display_data"
    },
    {
     "name": "stdout",
     "output_type": "stream",
     "text": [
      "Warning: skipping session with too few trials 9\n",
      "Warning: skipping session with too few trials 1\n",
      "Warning: skipping session with too few trials 4\n",
      "Warning: skipping session with too few trials 2\n",
      "Warning: skipping session with too few trials 9\n",
      "Warning: skipping session with too few trials 0\n",
      "Warning: skipping session with too few trials 2\n",
      "Warning: skipping session with too few trials 6\n",
      "Warning: skipping session with too few trials 9\n",
      "Warning: skipping session with too few trials 1\n",
      "Warning: skipping session with too few trials 1\n",
      "Warning: skipping session with too few trials 1\n",
      "Warning: skipping session with too few trials 3\n",
      "Warning: skipping session with too few trials 1\n",
      "Warning: skipping session with too few trials 1\n",
      "Warning: skipping session with too few trials 6\n",
      "Warning: skipping session with too few trials 4\n",
      "Warning: skipping session with too few trials 1\n",
      "Warning: skipping session with too few trials 3\n",
      "Warning: skipping session with too few trials 1\n",
      "Warning: skipping session with too few trials 2\n",
      "Warning: skipping session with too few trials 4\n",
      "Warning: skipping session with too few trials 3\n"
     ]
    },
    {
     "data": {
      "application/vnd.jupyter.widget-view+json": {
       "model_id": "b75fafda62b04957a8d715537d2496be",
       "version_major": 2,
       "version_minor": 0
      },
      "text/plain": [
       "IntProgress(value=0, description='mou_7', max=27)"
      ]
     },
     "metadata": {},
     "output_type": "display_data"
    },
    {
     "data": {
      "application/vnd.jupyter.widget-view+json": {
       "model_id": "88ba691361f445b4bb25bee9b0fdb785",
       "version_major": 2,
       "version_minor": 0
      },
      "text/plain": [
       "IntProgress(value=0, description='mou_7', max=27)"
      ]
     },
     "metadata": {},
     "output_type": "display_data"
    },
    {
     "name": "stdout",
     "output_type": "stream",
     "text": [
      "Warning: skipping session with too few trials 1\n",
      "Warning: skipping session with too few trials 7\n",
      "Warning: skipping session with too few trials 7\n",
      "Warning: skipping session with too few trials 9\n"
     ]
    },
    {
     "data": {
      "application/vnd.jupyter.widget-view+json": {
       "model_id": "72ab6f9049264ed085f0d6b025a7e00f",
       "version_major": 2,
       "version_minor": 0
      },
      "text/plain": [
       "IntProgress(value=0, description='session', max=60)"
      ]
     },
     "metadata": {},
     "output_type": "display_data"
    },
    {
     "data": {
      "application/vnd.jupyter.widget-view+json": {
       "model_id": "2285cfec57974a6da21f21b792b4fdd5",
       "version_major": 2,
       "version_minor": 0
      },
      "text/plain": [
       "IntProgress(value=0, description='mou_6', max=30)"
      ]
     },
     "metadata": {},
     "output_type": "display_data"
    },
    {
     "data": {
      "application/vnd.jupyter.widget-view+json": {
       "model_id": "b4c8577f3be64fbbb5406885a0878f67",
       "version_major": 2,
       "version_minor": 0
      },
      "text/plain": [
       "IntProgress(value=0, description='mou_6', max=30)"
      ]
     },
     "metadata": {},
     "output_type": "display_data"
    },
    {
     "data": {
      "application/vnd.jupyter.widget-view+json": {
       "model_id": "6e2734f29c124a81918da2bec570e2c2",
       "version_major": 2,
       "version_minor": 0
      },
      "text/plain": [
       "IntProgress(value=0, description='mou_6', max=30)"
      ]
     },
     "metadata": {},
     "output_type": "display_data"
    },
    {
     "name": "stdout",
     "output_type": "stream",
     "text": [
      "Warning: skipping session with too few trials 7\n",
      "Warning: skipping session with too few trials 7\n",
      "Warning: skipping session with too few trials 6\n",
      "Warning: skipping session with too few trials 6\n",
      "Warning: skipping session with too few trials 9\n",
      "Warning: skipping session with too few trials 5\n",
      "Warning: skipping session with too few trials 3\n",
      "Warning: skipping session with too few trials 5\n",
      "Warning: skipping session with too few trials 6\n",
      "Warning: skipping session with too few trials 7\n",
      "Warning: skipping session with too few trials 4\n",
      "Warning: skipping session with too few trials 2\n",
      "Warning: skipping session with too few trials 3\n",
      "Warning: skipping session with too few trials 7\n",
      "Warning: skipping session with too few trials 0\n",
      "Warning: skipping session with too few trials 6\n",
      "Warning: skipping session with too few trials 6\n",
      "Warning: skipping session with too few trials 3\n",
      "Warning: skipping session with too few trials 4\n",
      "Warning: skipping session with too few trials 8\n",
      "Warning: skipping session with too few trials 1\n"
     ]
    },
    {
     "data": {
      "application/vnd.jupyter.widget-view+json": {
       "model_id": "f0935c562dcf49eab9ca56db84b0990f",
       "version_major": 2,
       "version_minor": 0
      },
      "text/plain": [
       "IntProgress(value=0, description='mou_6', max=30)"
      ]
     },
     "metadata": {},
     "output_type": "display_data"
    },
    {
     "data": {
      "application/vnd.jupyter.widget-view+json": {
       "model_id": "fcb1a13eb1114a3d85685ac8b1025088",
       "version_major": 2,
       "version_minor": 0
      },
      "text/plain": [
       "IntProgress(value=0, description='mou_6', max=30)"
      ]
     },
     "metadata": {},
     "output_type": "display_data"
    },
    {
     "name": "stdout",
     "output_type": "stream",
     "text": [
      "Warning: skipping session with too few trials 1\n",
      "Warning: skipping session with too few trials 2\n",
      "Warning: skipping session with too few trials 1\n",
      "Warning: skipping session with too few trials 5\n",
      "Warning: skipping session with too few trials 1\n",
      "Warning: skipping session with too few trials 2\n",
      "Warning: skipping session with too few trials 0\n",
      "Warning: skipping session with too few trials 1\n",
      "Warning: skipping session with too few trials 2\n",
      "Warning: skipping session with too few trials 7\n",
      "Warning: skipping session with too few trials 2\n",
      "Warning: skipping session with too few trials 2\n",
      "Warning: skipping session with too few trials 1\n",
      "Warning: skipping session with too few trials 0\n",
      "Warning: skipping session with too few trials 7\n",
      "Warning: skipping session with too few trials 6\n",
      "Warning: skipping session with too few trials 8\n",
      "Warning: skipping session with too few trials 2\n",
      "Warning: skipping session with too few trials 3\n",
      "Warning: skipping session with too few trials 7\n",
      "Warning: skipping session with too few trials 2\n",
      "Warning: skipping session with too few trials 4\n",
      "Warning: skipping session with too few trials 1\n",
      "Warning: skipping session with too few trials 3\n",
      "Warning: skipping session with too few trials 0\n",
      "Warning: skipping session with too few trials 3\n",
      "Warning: skipping session with too few trials 0\n",
      "Warning: skipping session with too few trials 1\n",
      "Warning: skipping session with too few trials 3\n"
     ]
    },
    {
     "data": {
      "application/vnd.jupyter.widget-view+json": {
       "model_id": "9ce2223fbff54ba9bbe60f85d95d43c3",
       "version_major": 2,
       "version_minor": 0
      },
      "text/plain": [
       "IntProgress(value=0, description='mou_6', max=30)"
      ]
     },
     "metadata": {},
     "output_type": "display_data"
    },
    {
     "data": {
      "application/vnd.jupyter.widget-view+json": {
       "model_id": "b5e6780f975e4ea8809082dfd2826b69",
       "version_major": 2,
       "version_minor": 0
      },
      "text/plain": [
       "IntProgress(value=0, description='mou_6', max=30)"
      ]
     },
     "metadata": {},
     "output_type": "display_data"
    },
    {
     "data": {
      "application/vnd.jupyter.widget-view+json": {
       "model_id": "59bf31818b694339b48bbc4b831333fc",
       "version_major": 2,
       "version_minor": 0
      },
      "text/plain": [
       "IntProgress(value=0, description='mou_6', max=30)"
      ]
     },
     "metadata": {},
     "output_type": "display_data"
    },
    {
     "name": "stdout",
     "output_type": "stream",
     "text": [
      "Warning: skipping session with too few trials 7\n",
      "Warning: skipping session with too few trials 7\n",
      "Warning: skipping session with too few trials 6\n",
      "Warning: skipping session with too few trials 6\n",
      "Warning: skipping session with too few trials 9\n",
      "Warning: skipping session with too few trials 5\n",
      "Warning: skipping session with too few trials 3\n",
      "Warning: skipping session with too few trials 5\n",
      "Warning: skipping session with too few trials 6\n",
      "Warning: skipping session with too few trials 7\n",
      "Warning: skipping session with too few trials 4\n",
      "Warning: skipping session with too few trials 2\n",
      "Warning: skipping session with too few trials 3\n",
      "Warning: skipping session with too few trials 7\n",
      "Warning: skipping session with too few trials 0\n",
      "Warning: skipping session with too few trials 6\n",
      "Warning: skipping session with too few trials 6\n",
      "Warning: skipping session with too few trials 3\n",
      "Warning: skipping session with too few trials 4\n",
      "Warning: skipping session with too few trials 8\n",
      "Warning: skipping session with too few trials 1\n"
     ]
    },
    {
     "data": {
      "application/vnd.jupyter.widget-view+json": {
       "model_id": "0965c556a6e3425fa93e2439741d4b8f",
       "version_major": 2,
       "version_minor": 0
      },
      "text/plain": [
       "IntProgress(value=0, description='mou_6', max=30)"
      ]
     },
     "metadata": {},
     "output_type": "display_data"
    },
    {
     "data": {
      "application/vnd.jupyter.widget-view+json": {
       "model_id": "4727447fccb6491da0f47fa383ad7fd4",
       "version_major": 2,
       "version_minor": 0
      },
      "text/plain": [
       "IntProgress(value=0, description='mou_6', max=30)"
      ]
     },
     "metadata": {},
     "output_type": "display_data"
    },
    {
     "name": "stdout",
     "output_type": "stream",
     "text": [
      "Warning: skipping session with too few trials 1\n",
      "Warning: skipping session with too few trials 2\n",
      "Warning: skipping session with too few trials 1\n",
      "Warning: skipping session with too few trials 5\n",
      "Warning: skipping session with too few trials 1\n",
      "Warning: skipping session with too few trials 2\n",
      "Warning: skipping session with too few trials 0\n",
      "Warning: skipping session with too few trials 1\n",
      "Warning: skipping session with too few trials 2\n",
      "Warning: skipping session with too few trials 7\n",
      "Warning: skipping session with too few trials 2\n",
      "Warning: skipping session with too few trials 2\n",
      "Warning: skipping session with too few trials 1\n",
      "Warning: skipping session with too few trials 0\n",
      "Warning: skipping session with too few trials 7\n",
      "Warning: skipping session with too few trials 6\n",
      "Warning: skipping session with too few trials 8\n",
      "Warning: skipping session with too few trials 2\n",
      "Warning: skipping session with too few trials 3\n",
      "Warning: skipping session with too few trials 7\n",
      "Warning: skipping session with too few trials 2\n",
      "Warning: skipping session with too few trials 4\n",
      "Warning: skipping session with too few trials 1\n",
      "Warning: skipping session with too few trials 3\n",
      "Warning: skipping session with too few trials 0\n",
      "Warning: skipping session with too few trials 3\n",
      "Warning: skipping session with too few trials 0\n",
      "Warning: skipping session with too few trials 1\n",
      "Warning: skipping session with too few trials 3\n"
     ]
    },
    {
     "data": {
      "application/vnd.jupyter.widget-view+json": {
       "model_id": "05ca6c700e1144b1be2a446d85dfa1ba",
       "version_major": 2,
       "version_minor": 0
      },
      "text/plain": [
       "IntProgress(value=0, description='mou_6', max=30)"
      ]
     },
     "metadata": {},
     "output_type": "display_data"
    },
    {
     "data": {
      "application/vnd.jupyter.widget-view+json": {
       "model_id": "5867ee246ad5462da4c5897694423d02",
       "version_major": 2,
       "version_minor": 0
      },
      "text/plain": [
       "IntProgress(value=0, description='mou_6', max=30)"
      ]
     },
     "metadata": {},
     "output_type": "display_data"
    },
    {
     "data": {
      "application/vnd.jupyter.widget-view+json": {
       "model_id": "b427450bdcfd4a9788130d680fa840d5",
       "version_major": 2,
       "version_minor": 0
      },
      "text/plain": [
       "IntProgress(value=0, description='mou_6', max=30)"
      ]
     },
     "metadata": {},
     "output_type": "display_data"
    },
    {
     "name": "stdout",
     "output_type": "stream",
     "text": [
      "Warning: skipping session with too few trials 7\n",
      "Warning: skipping session with too few trials 7\n",
      "Warning: skipping session with too few trials 6\n",
      "Warning: skipping session with too few trials 6\n",
      "Warning: skipping session with too few trials 9\n",
      "Warning: skipping session with too few trials 5\n",
      "Warning: skipping session with too few trials 3\n",
      "Warning: skipping session with too few trials 5\n",
      "Warning: skipping session with too few trials 6\n",
      "Warning: skipping session with too few trials 7\n",
      "Warning: skipping session with too few trials 4\n",
      "Warning: skipping session with too few trials 2\n",
      "Warning: skipping session with too few trials 3\n",
      "Warning: skipping session with too few trials 7\n",
      "Warning: skipping session with too few trials 0\n",
      "Warning: skipping session with too few trials 6\n",
      "Warning: skipping session with too few trials 6\n",
      "Warning: skipping session with too few trials 3\n",
      "Warning: skipping session with too few trials 4\n",
      "Warning: skipping session with too few trials 8\n",
      "Warning: skipping session with too few trials 1\n"
     ]
    },
    {
     "data": {
      "application/vnd.jupyter.widget-view+json": {
       "model_id": "4e8d58768fa145f18b840d5051337d4b",
       "version_major": 2,
       "version_minor": 0
      },
      "text/plain": [
       "IntProgress(value=0, description='mou_6', max=30)"
      ]
     },
     "metadata": {},
     "output_type": "display_data"
    },
    {
     "data": {
      "application/vnd.jupyter.widget-view+json": {
       "model_id": "eea0edb63e2c47c8b36c0d9529a08039",
       "version_major": 2,
       "version_minor": 0
      },
      "text/plain": [
       "IntProgress(value=0, description='mou_6', max=30)"
      ]
     },
     "metadata": {},
     "output_type": "display_data"
    },
    {
     "name": "stdout",
     "output_type": "stream",
     "text": [
      "Warning: skipping session with too few trials 1\n",
      "Warning: skipping session with too few trials 2\n",
      "Warning: skipping session with too few trials 1\n",
      "Warning: skipping session with too few trials 5\n",
      "Warning: skipping session with too few trials 1\n",
      "Warning: skipping session with too few trials 2\n",
      "Warning: skipping session with too few trials 0\n",
      "Warning: skipping session with too few trials 1\n",
      "Warning: skipping session with too few trials 2\n",
      "Warning: skipping session with too few trials 7\n",
      "Warning: skipping session with too few trials 2\n",
      "Warning: skipping session with too few trials 2\n",
      "Warning: skipping session with too few trials 1\n",
      "Warning: skipping session with too few trials 0\n",
      "Warning: skipping session with too few trials 7\n",
      "Warning: skipping session with too few trials 6\n",
      "Warning: skipping session with too few trials 8\n",
      "Warning: skipping session with too few trials 2\n",
      "Warning: skipping session with too few trials 3\n",
      "Warning: skipping session with too few trials 7\n",
      "Warning: skipping session with too few trials 2\n",
      "Warning: skipping session with too few trials 4\n",
      "Warning: skipping session with too few trials 1\n",
      "Warning: skipping session with too few trials 3\n",
      "Warning: skipping session with too few trials 0\n",
      "Warning: skipping session with too few trials 3\n",
      "Warning: skipping session with too few trials 0\n",
      "Warning: skipping session with too few trials 1\n",
      "Warning: skipping session with too few trials 3\n"
     ]
    },
    {
     "data": {
      "application/vnd.jupyter.widget-view+json": {
       "model_id": "98571bc0bf0a4c0ab4976442a6e0f340",
       "version_major": 2,
       "version_minor": 0
      },
      "text/plain": [
       "IntProgress(value=0, description='mou_9', max=22)"
      ]
     },
     "metadata": {},
     "output_type": "display_data"
    },
    {
     "data": {
      "application/vnd.jupyter.widget-view+json": {
       "model_id": "4475181cf54548baa113e4975eec3bb8",
       "version_major": 2,
       "version_minor": 0
      },
      "text/plain": [
       "IntProgress(value=0, description='mou_9', max=22)"
      ]
     },
     "metadata": {},
     "output_type": "display_data"
    },
    {
     "data": {
      "application/vnd.jupyter.widget-view+json": {
       "model_id": "e9357ca88fe94621a6d7a71eba5fe9f0",
       "version_major": 2,
       "version_minor": 0
      },
      "text/plain": [
       "IntProgress(value=0, description='mou_9', max=22)"
      ]
     },
     "metadata": {},
     "output_type": "display_data"
    },
    {
     "name": "stdout",
     "output_type": "stream",
     "text": [
      "Warning: skipping session with too few trials 9\n",
      "Warning: skipping session with too few trials 9\n",
      "Warning: skipping session with too few trials 7\n",
      "Warning: skipping session with too few trials 2\n",
      "Warning: skipping session with too few trials 9\n",
      "Warning: skipping session with too few trials 8\n",
      "Warning: skipping session with too few trials 3\n"
     ]
    },
    {
     "data": {
      "application/vnd.jupyter.widget-view+json": {
       "model_id": "068cc7017fe54441a7bac102b62c8aee",
       "version_major": 2,
       "version_minor": 0
      },
      "text/plain": [
       "IntProgress(value=0, description='mou_9', max=22)"
      ]
     },
     "metadata": {},
     "output_type": "display_data"
    },
    {
     "data": {
      "application/vnd.jupyter.widget-view+json": {
       "model_id": "f9572d2a7201416383ac51e6ad4a88fc",
       "version_major": 2,
       "version_minor": 0
      },
      "text/plain": [
       "IntProgress(value=0, description='mou_9', max=22)"
      ]
     },
     "metadata": {},
     "output_type": "display_data"
    },
    {
     "name": "stdout",
     "output_type": "stream",
     "text": [
      "Warning: skipping session with too few trials 6\n",
      "Warning: skipping session with too few trials 4\n",
      "Warning: skipping session with too few trials 7\n",
      "Warning: skipping session with too few trials 9\n",
      "Warning: skipping session with too few trials 4\n",
      "Warning: skipping session with too few trials 4\n",
      "Warning: skipping session with too few trials 1\n",
      "Warning: skipping session with too few trials 3\n",
      "Warning: skipping session with too few trials 4\n",
      "Warning: skipping session with too few trials 1\n",
      "Warning: skipping session with too few trials 5\n",
      "Warning: skipping session with too few trials 4\n",
      "Warning: skipping session with too few trials 3\n"
     ]
    },
    {
     "data": {
      "application/vnd.jupyter.widget-view+json": {
       "model_id": "739943a782ec4a1dba4cdb87c29aa2fa",
       "version_major": 2,
       "version_minor": 0
      },
      "text/plain": [
       "IntProgress(value=0, description='mou_9', max=22)"
      ]
     },
     "metadata": {},
     "output_type": "display_data"
    },
    {
     "data": {
      "application/vnd.jupyter.widget-view+json": {
       "model_id": "ed8ef9f9b633474e9463318f0e009df1",
       "version_major": 2,
       "version_minor": 0
      },
      "text/plain": [
       "IntProgress(value=0, description='mou_9', max=22)"
      ]
     },
     "metadata": {},
     "output_type": "display_data"
    },
    {
     "data": {
      "application/vnd.jupyter.widget-view+json": {
       "model_id": "ff238d56faba441888d60d715d8a2847",
       "version_major": 2,
       "version_minor": 0
      },
      "text/plain": [
       "IntProgress(value=0, description='mou_9', max=22)"
      ]
     },
     "metadata": {},
     "output_type": "display_data"
    },
    {
     "name": "stdout",
     "output_type": "stream",
     "text": [
      "Warning: skipping session with too few trials 9\n",
      "Warning: skipping session with too few trials 9\n",
      "Warning: skipping session with too few trials 7\n",
      "Warning: skipping session with too few trials 2\n",
      "Warning: skipping session with too few trials 9\n",
      "Warning: skipping session with too few trials 8\n",
      "Warning: skipping session with too few trials 3\n"
     ]
    },
    {
     "data": {
      "application/vnd.jupyter.widget-view+json": {
       "model_id": "8362288df53340eeaa7f1d6a434a4459",
       "version_major": 2,
       "version_minor": 0
      },
      "text/plain": [
       "IntProgress(value=0, description='mou_9', max=22)"
      ]
     },
     "metadata": {},
     "output_type": "display_data"
    },
    {
     "data": {
      "application/vnd.jupyter.widget-view+json": {
       "model_id": "36f01201e38343a0bf3e1475b74001c5",
       "version_major": 2,
       "version_minor": 0
      },
      "text/plain": [
       "IntProgress(value=0, description='mou_9', max=22)"
      ]
     },
     "metadata": {},
     "output_type": "display_data"
    },
    {
     "name": "stdout",
     "output_type": "stream",
     "text": [
      "Warning: skipping session with too few trials 6\n",
      "Warning: skipping session with too few trials 4\n",
      "Warning: skipping session with too few trials 7\n",
      "Warning: skipping session with too few trials 9\n",
      "Warning: skipping session with too few trials 4\n",
      "Warning: skipping session with too few trials 4\n",
      "Warning: skipping session with too few trials 1\n",
      "Warning: skipping session with too few trials 3\n",
      "Warning: skipping session with too few trials 4\n",
      "Warning: skipping session with too few trials 1\n",
      "Warning: skipping session with too few trials 5\n",
      "Warning: skipping session with too few trials 4\n",
      "Warning: skipping session with too few trials 3\n"
     ]
    },
    {
     "data": {
      "application/vnd.jupyter.widget-view+json": {
       "model_id": "3bcad60d34ec49f8bb31689400c6231d",
       "version_major": 2,
       "version_minor": 0
      },
      "text/plain": [
       "IntProgress(value=0, description='mou_9', max=22)"
      ]
     },
     "metadata": {},
     "output_type": "display_data"
    },
    {
     "data": {
      "application/vnd.jupyter.widget-view+json": {
       "model_id": "3bef377921cc42208e5f7f72c1e715ea",
       "version_major": 2,
       "version_minor": 0
      },
      "text/plain": [
       "IntProgress(value=0, description='mou_9', max=22)"
      ]
     },
     "metadata": {},
     "output_type": "display_data"
    },
    {
     "data": {
      "application/vnd.jupyter.widget-view+json": {
       "model_id": "6de29dec30ac46fca1a92dd693509769",
       "version_major": 2,
       "version_minor": 0
      },
      "text/plain": [
       "IntProgress(value=0, description='mou_9', max=22)"
      ]
     },
     "metadata": {},
     "output_type": "display_data"
    },
    {
     "name": "stdout",
     "output_type": "stream",
     "text": [
      "Warning: skipping session with too few trials 9\n",
      "Warning: skipping session with too few trials 9\n",
      "Warning: skipping session with too few trials 7\n",
      "Warning: skipping session with too few trials 2\n",
      "Warning: skipping session with too few trials 9\n",
      "Warning: skipping session with too few trials 8\n",
      "Warning: skipping session with too few trials 3\n"
     ]
    },
    {
     "data": {
      "application/vnd.jupyter.widget-view+json": {
       "model_id": "53ed82341dc14c56a5834227424c5734",
       "version_major": 2,
       "version_minor": 0
      },
      "text/plain": [
       "IntProgress(value=0, description='mou_9', max=22)"
      ]
     },
     "metadata": {},
     "output_type": "display_data"
    },
    {
     "data": {
      "application/vnd.jupyter.widget-view+json": {
       "model_id": "8e8ce307d17e416da7d24891e12bf00a",
       "version_major": 2,
       "version_minor": 0
      },
      "text/plain": [
       "IntProgress(value=0, description='mou_9', max=22)"
      ]
     },
     "metadata": {},
     "output_type": "display_data"
    },
    {
     "name": "stdout",
     "output_type": "stream",
     "text": [
      "Warning: skipping session with too few trials 6\n",
      "Warning: skipping session with too few trials 4\n",
      "Warning: skipping session with too few trials 7\n",
      "Warning: skipping session with too few trials 9\n",
      "Warning: skipping session with too few trials 4\n",
      "Warning: skipping session with too few trials 4\n",
      "Warning: skipping session with too few trials 1\n",
      "Warning: skipping session with too few trials 3\n",
      "Warning: skipping session with too few trials 4\n",
      "Warning: skipping session with too few trials 1\n",
      "Warning: skipping session with too few trials 5\n",
      "Warning: skipping session with too few trials 4\n",
      "Warning: skipping session with too few trials 3\n"
     ]
    },
    {
     "data": {
      "application/vnd.jupyter.widget-view+json": {
       "model_id": "7e975e6b691042fa9cf1f8825772b3bb",
       "version_major": 2,
       "version_minor": 0
      },
      "text/plain": [
       "IntProgress(value=0, description='mou_5', max=21)"
      ]
     },
     "metadata": {},
     "output_type": "display_data"
    },
    {
     "data": {
      "application/vnd.jupyter.widget-view+json": {
       "model_id": "6a39e373c9e84ce6b02cea76dc96d6ca",
       "version_major": 2,
       "version_minor": 0
      },
      "text/plain": [
       "IntProgress(value=0, description='mou_5', max=21)"
      ]
     },
     "metadata": {},
     "output_type": "display_data"
    },
    {
     "data": {
      "application/vnd.jupyter.widget-view+json": {
       "model_id": "a8d281ebe6c24428a8146d35e3e2dfb5",
       "version_major": 2,
       "version_minor": 0
      },
      "text/plain": [
       "IntProgress(value=0, description='mou_5', max=21)"
      ]
     },
     "metadata": {},
     "output_type": "display_data"
    },
    {
     "name": "stdout",
     "output_type": "stream",
     "text": [
      "Warning: skipping session with too few trials 0\n",
      "Warning: skipping session with too few trials 9\n",
      "Warning: skipping session with too few trials 9\n",
      "Warning: skipping session with too few trials 4\n",
      "Warning: skipping session with too few trials 1\n",
      "Warning: skipping session with too few trials 2\n",
      "Warning: skipping session with too few trials 2\n",
      "Warning: skipping session with too few trials 0\n",
      "Warning: skipping session with too few trials 8\n",
      "Warning: skipping session with too few trials 0\n",
      "Warning: skipping session with too few trials 1\n",
      "Warning: skipping session with too few trials 1\n",
      "Warning: skipping session with too few trials 9\n"
     ]
    },
    {
     "data": {
      "application/vnd.jupyter.widget-view+json": {
       "model_id": "c77a6ade1b4042b7b675039a5fd435f4",
       "version_major": 2,
       "version_minor": 0
      },
      "text/plain": [
       "IntProgress(value=0, description='mou_5', max=21)"
      ]
     },
     "metadata": {},
     "output_type": "display_data"
    },
    {
     "data": {
      "application/vnd.jupyter.widget-view+json": {
       "model_id": "c848a81855ba4daf9d1bf0072876a2fe",
       "version_major": 2,
       "version_minor": 0
      },
      "text/plain": [
       "IntProgress(value=0, description='mou_5', max=21)"
      ]
     },
     "metadata": {},
     "output_type": "display_data"
    },
    {
     "name": "stdout",
     "output_type": "stream",
     "text": [
      "Warning: skipping session with too few trials 2\n",
      "Warning: skipping session with too few trials 4\n",
      "Warning: skipping session with too few trials 3\n",
      "Warning: skipping session with too few trials 2\n",
      "Warning: skipping session with too few trials 2\n",
      "Warning: skipping session with too few trials 8\n",
      "Warning: skipping session with too few trials 0\n",
      "Warning: skipping session with too few trials 5\n",
      "Warning: skipping session with too few trials 2\n",
      "Warning: skipping session with too few trials 1\n",
      "Warning: skipping session with too few trials 2\n",
      "Warning: skipping session with too few trials 0\n",
      "Warning: skipping session with too few trials 4\n",
      "Warning: skipping session with too few trials 9\n",
      "Warning: skipping session with too few trials 5\n"
     ]
    },
    {
     "data": {
      "application/vnd.jupyter.widget-view+json": {
       "model_id": "c39e950f6dc242fca0e94ddd248ea61c",
       "version_major": 2,
       "version_minor": 0
      },
      "text/plain": [
       "IntProgress(value=0, description='mou_5', max=21)"
      ]
     },
     "metadata": {},
     "output_type": "display_data"
    },
    {
     "data": {
      "application/vnd.jupyter.widget-view+json": {
       "model_id": "c5b3930237494a20a4b7abdf0999f9b4",
       "version_major": 2,
       "version_minor": 0
      },
      "text/plain": [
       "IntProgress(value=0, description='mou_5', max=21)"
      ]
     },
     "metadata": {},
     "output_type": "display_data"
    },
    {
     "data": {
      "application/vnd.jupyter.widget-view+json": {
       "model_id": "b90e29e7943d4e92b240765a562de679",
       "version_major": 2,
       "version_minor": 0
      },
      "text/plain": [
       "IntProgress(value=0, description='mou_5', max=21)"
      ]
     },
     "metadata": {},
     "output_type": "display_data"
    },
    {
     "name": "stdout",
     "output_type": "stream",
     "text": [
      "Warning: skipping session with too few trials 0\n",
      "Warning: skipping session with too few trials 9\n",
      "Warning: skipping session with too few trials 9\n",
      "Warning: skipping session with too few trials 4\n",
      "Warning: skipping session with too few trials 1\n",
      "Warning: skipping session with too few trials 2\n",
      "Warning: skipping session with too few trials 2\n",
      "Warning: skipping session with too few trials 0\n",
      "Warning: skipping session with too few trials 8\n",
      "Warning: skipping session with too few trials 0\n",
      "Warning: skipping session with too few trials 1\n",
      "Warning: skipping session with too few trials 1\n",
      "Warning: skipping session with too few trials 9\n"
     ]
    },
    {
     "data": {
      "application/vnd.jupyter.widget-view+json": {
       "model_id": "9b2ad86dbcd4492abf292428c87e7828",
       "version_major": 2,
       "version_minor": 0
      },
      "text/plain": [
       "IntProgress(value=0, description='mou_5', max=21)"
      ]
     },
     "metadata": {},
     "output_type": "display_data"
    },
    {
     "data": {
      "application/vnd.jupyter.widget-view+json": {
       "model_id": "c79ccd00776e40f6a674e299e94150a9",
       "version_major": 2,
       "version_minor": 0
      },
      "text/plain": [
       "IntProgress(value=0, description='mou_5', max=21)"
      ]
     },
     "metadata": {},
     "output_type": "display_data"
    },
    {
     "name": "stdout",
     "output_type": "stream",
     "text": [
      "Warning: skipping session with too few trials 2\n",
      "Warning: skipping session with too few trials 4\n",
      "Warning: skipping session with too few trials 3\n",
      "Warning: skipping session with too few trials 2\n",
      "Warning: skipping session with too few trials 2\n",
      "Warning: skipping session with too few trials 8\n",
      "Warning: skipping session with too few trials 0\n",
      "Warning: skipping session with too few trials 5\n",
      "Warning: skipping session with too few trials 2\n",
      "Warning: skipping session with too few trials 1\n",
      "Warning: skipping session with too few trials 2\n",
      "Warning: skipping session with too few trials 0\n",
      "Warning: skipping session with too few trials 4\n",
      "Warning: skipping session with too few trials 9\n",
      "Warning: skipping session with too few trials 5\n"
     ]
    },
    {
     "data": {
      "application/vnd.jupyter.widget-view+json": {
       "model_id": "ee325e1f154a4c99aedf34ec0fb0d2b1",
       "version_major": 2,
       "version_minor": 0
      },
      "text/plain": [
       "IntProgress(value=0, description='mou_5', max=21)"
      ]
     },
     "metadata": {},
     "output_type": "display_data"
    },
    {
     "data": {
      "application/vnd.jupyter.widget-view+json": {
       "model_id": "bdf17a2138f8446a93b8b7c2984e7c77",
       "version_major": 2,
       "version_minor": 0
      },
      "text/plain": [
       "IntProgress(value=0, description='mou_5', max=21)"
      ]
     },
     "metadata": {},
     "output_type": "display_data"
    },
    {
     "data": {
      "application/vnd.jupyter.widget-view+json": {
       "model_id": "42f2bdc5114e4ade90721c2b236ee853",
       "version_major": 2,
       "version_minor": 0
      },
      "text/plain": [
       "IntProgress(value=0, description='mou_5', max=21)"
      ]
     },
     "metadata": {},
     "output_type": "display_data"
    },
    {
     "name": "stdout",
     "output_type": "stream",
     "text": [
      "Warning: skipping session with too few trials 0\n",
      "Warning: skipping session with too few trials 9\n",
      "Warning: skipping session with too few trials 9\n",
      "Warning: skipping session with too few trials 4\n",
      "Warning: skipping session with too few trials 1\n",
      "Warning: skipping session with too few trials 2\n",
      "Warning: skipping session with too few trials 2\n",
      "Warning: skipping session with too few trials 0\n",
      "Warning: skipping session with too few trials 8\n",
      "Warning: skipping session with too few trials 0\n",
      "Warning: skipping session with too few trials 1\n",
      "Warning: skipping session with too few trials 1\n",
      "Warning: skipping session with too few trials 9\n"
     ]
    },
    {
     "data": {
      "application/vnd.jupyter.widget-view+json": {
       "model_id": "411b2ed1390c49918aa0defbe1e17a00",
       "version_major": 2,
       "version_minor": 0
      },
      "text/plain": [
       "IntProgress(value=0, description='mou_5', max=21)"
      ]
     },
     "metadata": {},
     "output_type": "display_data"
    },
    {
     "data": {
      "application/vnd.jupyter.widget-view+json": {
       "model_id": "80c670139a9f481ba8d914ca3390828e",
       "version_major": 2,
       "version_minor": 0
      },
      "text/plain": [
       "IntProgress(value=0, description='mou_5', max=21)"
      ]
     },
     "metadata": {},
     "output_type": "display_data"
    },
    {
     "name": "stdout",
     "output_type": "stream",
     "text": [
      "Warning: skipping session with too few trials 2\n",
      "Warning: skipping session with too few trials 4\n",
      "Warning: skipping session with too few trials 3\n",
      "Warning: skipping session with too few trials 2\n",
      "Warning: skipping session with too few trials 2\n",
      "Warning: skipping session with too few trials 8\n",
      "Warning: skipping session with too few trials 0\n",
      "Warning: skipping session with too few trials 5\n",
      "Warning: skipping session with too few trials 2\n",
      "Warning: skipping session with too few trials 1\n",
      "Warning: skipping session with too few trials 2\n",
      "Warning: skipping session with too few trials 0\n",
      "Warning: skipping session with too few trials 4\n",
      "Warning: skipping session with too few trials 9\n",
      "Warning: skipping session with too few trials 5\n"
     ]
    },
    {
     "data": {
      "application/vnd.jupyter.widget-view+json": {
       "model_id": "1437aa4dd44c49fb9d770da927cfacfd",
       "version_major": 2,
       "version_minor": 0
      },
      "text/plain": [
       "IntProgress(value=0, description='mou_7', max=27)"
      ]
     },
     "metadata": {},
     "output_type": "display_data"
    },
    {
     "data": {
      "application/vnd.jupyter.widget-view+json": {
       "model_id": "c694eebc40df46f5a0caed1d8255800b",
       "version_major": 2,
       "version_minor": 0
      },
      "text/plain": [
       "IntProgress(value=0, description='mou_7', max=27)"
      ]
     },
     "metadata": {},
     "output_type": "display_data"
    },
    {
     "data": {
      "application/vnd.jupyter.widget-view+json": {
       "model_id": "ea7d8c0ecbcf4cf6bf952abc9d491432",
       "version_major": 2,
       "version_minor": 0
      },
      "text/plain": [
       "IntProgress(value=0, description='mou_7', max=27)"
      ]
     },
     "metadata": {},
     "output_type": "display_data"
    },
    {
     "name": "stdout",
     "output_type": "stream",
     "text": [
      "Warning: skipping session with too few trials 9\n",
      "Warning: skipping session with too few trials 1\n",
      "Warning: skipping session with too few trials 4\n",
      "Warning: skipping session with too few trials 2\n",
      "Warning: skipping session with too few trials 9\n",
      "Warning: skipping session with too few trials 0\n",
      "Warning: skipping session with too few trials 2\n",
      "Warning: skipping session with too few trials 6\n",
      "Warning: skipping session with too few trials 9\n",
      "Warning: skipping session with too few trials 1\n",
      "Warning: skipping session with too few trials 1\n",
      "Warning: skipping session with too few trials 1\n",
      "Warning: skipping session with too few trials 3\n",
      "Warning: skipping session with too few trials 1\n",
      "Warning: skipping session with too few trials 1\n",
      "Warning: skipping session with too few trials 6\n",
      "Warning: skipping session with too few trials 4\n",
      "Warning: skipping session with too few trials 1\n",
      "Warning: skipping session with too few trials 3\n",
      "Warning: skipping session with too few trials 1\n",
      "Warning: skipping session with too few trials 2\n",
      "Warning: skipping session with too few trials 4\n",
      "Warning: skipping session with too few trials 3\n"
     ]
    },
    {
     "data": {
      "application/vnd.jupyter.widget-view+json": {
       "model_id": "fca8b909430a43a49897d7f65022f7f4",
       "version_major": 2,
       "version_minor": 0
      },
      "text/plain": [
       "IntProgress(value=0, description='mou_7', max=27)"
      ]
     },
     "metadata": {},
     "output_type": "display_data"
    },
    {
     "data": {
      "application/vnd.jupyter.widget-view+json": {
       "model_id": "0d5e70494e8a4a5ba617095312cd9a1d",
       "version_major": 2,
       "version_minor": 0
      },
      "text/plain": [
       "IntProgress(value=0, description='mou_7', max=27)"
      ]
     },
     "metadata": {},
     "output_type": "display_data"
    },
    {
     "name": "stdout",
     "output_type": "stream",
     "text": [
      "Warning: skipping session with too few trials 1\n",
      "Warning: skipping session with too few trials 7\n",
      "Warning: skipping session with too few trials 7\n",
      "Warning: skipping session with too few trials 9\n"
     ]
    },
    {
     "data": {
      "application/vnd.jupyter.widget-view+json": {
       "model_id": "dd6184e7353b4111bb9dbe80662f9d81",
       "version_major": 2,
       "version_minor": 0
      },
      "text/plain": [
       "IntProgress(value=0, description='mou_7', max=27)"
      ]
     },
     "metadata": {},
     "output_type": "display_data"
    },
    {
     "data": {
      "application/vnd.jupyter.widget-view+json": {
       "model_id": "e4f986d0d97842129307465b48c29a32",
       "version_major": 2,
       "version_minor": 0
      },
      "text/plain": [
       "IntProgress(value=0, description='mou_7', max=27)"
      ]
     },
     "metadata": {},
     "output_type": "display_data"
    },
    {
     "data": {
      "application/vnd.jupyter.widget-view+json": {
       "model_id": "d5eb735cc1e24f32996ce4364e08af6a",
       "version_major": 2,
       "version_minor": 0
      },
      "text/plain": [
       "IntProgress(value=0, description='mou_7', max=27)"
      ]
     },
     "metadata": {},
     "output_type": "display_data"
    },
    {
     "name": "stdout",
     "output_type": "stream",
     "text": [
      "Warning: skipping session with too few trials 9\n",
      "Warning: skipping session with too few trials 1\n",
      "Warning: skipping session with too few trials 4\n",
      "Warning: skipping session with too few trials 2\n",
      "Warning: skipping session with too few trials 9\n",
      "Warning: skipping session with too few trials 0\n",
      "Warning: skipping session with too few trials 2\n",
      "Warning: skipping session with too few trials 6\n",
      "Warning: skipping session with too few trials 9\n",
      "Warning: skipping session with too few trials 1\n",
      "Warning: skipping session with too few trials 1\n",
      "Warning: skipping session with too few trials 1\n",
      "Warning: skipping session with too few trials 3\n",
      "Warning: skipping session with too few trials 1\n",
      "Warning: skipping session with too few trials 1\n",
      "Warning: skipping session with too few trials 6\n",
      "Warning: skipping session with too few trials 4\n",
      "Warning: skipping session with too few trials 1\n",
      "Warning: skipping session with too few trials 3\n",
      "Warning: skipping session with too few trials 1\n",
      "Warning: skipping session with too few trials 2\n",
      "Warning: skipping session with too few trials 4\n",
      "Warning: skipping session with too few trials 3\n"
     ]
    },
    {
     "data": {
      "application/vnd.jupyter.widget-view+json": {
       "model_id": "21306c32fd444813bed07b61dc023343",
       "version_major": 2,
       "version_minor": 0
      },
      "text/plain": [
       "IntProgress(value=0, description='mou_7', max=27)"
      ]
     },
     "metadata": {},
     "output_type": "display_data"
    },
    {
     "data": {
      "application/vnd.jupyter.widget-view+json": {
       "model_id": "bc125f3a14ad4dfd80569c99829ebae9",
       "version_major": 2,
       "version_minor": 0
      },
      "text/plain": [
       "IntProgress(value=0, description='mou_7', max=27)"
      ]
     },
     "metadata": {},
     "output_type": "display_data"
    },
    {
     "name": "stdout",
     "output_type": "stream",
     "text": [
      "Warning: skipping session with too few trials 1\n",
      "Warning: skipping session with too few trials 7\n",
      "Warning: skipping session with too few trials 7\n",
      "Warning: skipping session with too few trials 9\n"
     ]
    },
    {
     "data": {
      "application/vnd.jupyter.widget-view+json": {
       "model_id": "f75f8168427245a79eab052c3aa6751f",
       "version_major": 2,
       "version_minor": 0
      },
      "text/plain": [
       "IntProgress(value=0, description='mou_7', max=27)"
      ]
     },
     "metadata": {},
     "output_type": "display_data"
    },
    {
     "data": {
      "application/vnd.jupyter.widget-view+json": {
       "model_id": "f7f9a8a510474c2ca7507a2fcfcf7191",
       "version_major": 2,
       "version_minor": 0
      },
      "text/plain": [
       "IntProgress(value=0, description='mou_7', max=27)"
      ]
     },
     "metadata": {},
     "output_type": "display_data"
    },
    {
     "data": {
      "application/vnd.jupyter.widget-view+json": {
       "model_id": "0495edaa3b80494caafb3d12260e2bf2",
       "version_major": 2,
       "version_minor": 0
      },
      "text/plain": [
       "IntProgress(value=0, description='mou_7', max=27)"
      ]
     },
     "metadata": {},
     "output_type": "display_data"
    },
    {
     "name": "stdout",
     "output_type": "stream",
     "text": [
      "Warning: skipping session with too few trials 9\n",
      "Warning: skipping session with too few trials 1\n",
      "Warning: skipping session with too few trials 4\n",
      "Warning: skipping session with too few trials 2\n",
      "Warning: skipping session with too few trials 9\n",
      "Warning: skipping session with too few trials 0\n",
      "Warning: skipping session with too few trials 2\n",
      "Warning: skipping session with too few trials 6\n",
      "Warning: skipping session with too few trials 9\n",
      "Warning: skipping session with too few trials 1\n",
      "Warning: skipping session with too few trials 1\n",
      "Warning: skipping session with too few trials 1\n",
      "Warning: skipping session with too few trials 3\n",
      "Warning: skipping session with too few trials 1\n",
      "Warning: skipping session with too few trials 1\n",
      "Warning: skipping session with too few trials 6\n",
      "Warning: skipping session with too few trials 4\n",
      "Warning: skipping session with too few trials 1\n",
      "Warning: skipping session with too few trials 3\n",
      "Warning: skipping session with too few trials 1\n",
      "Warning: skipping session with too few trials 2\n",
      "Warning: skipping session with too few trials 4\n",
      "Warning: skipping session with too few trials 3\n"
     ]
    },
    {
     "data": {
      "application/vnd.jupyter.widget-view+json": {
       "model_id": "afcb550ae3ba4ee9b7c1bb9f9c3bf3e3",
       "version_major": 2,
       "version_minor": 0
      },
      "text/plain": [
       "IntProgress(value=0, description='mou_7', max=27)"
      ]
     },
     "metadata": {},
     "output_type": "display_data"
    },
    {
     "data": {
      "application/vnd.jupyter.widget-view+json": {
       "model_id": "0a1b6e2a029946a3bb1cc88048cbcc57",
       "version_major": 2,
       "version_minor": 0
      },
      "text/plain": [
       "IntProgress(value=0, description='mou_7', max=27)"
      ]
     },
     "metadata": {},
     "output_type": "display_data"
    },
    {
     "name": "stdout",
     "output_type": "stream",
     "text": [
      "Warning: skipping session with too few trials 1\n",
      "Warning: skipping session with too few trials 7\n",
      "Warning: skipping session with too few trials 7\n",
      "Warning: skipping session with too few trials 9\n"
     ]
    },
    {
     "data": {
      "application/vnd.jupyter.widget-view+json": {
       "model_id": "3a07baea7e9f48c6baf1bd040a313833",
       "version_major": 2,
       "version_minor": 0
      },
      "text/plain": [
       "IntProgress(value=0, description='session', max=60)"
      ]
     },
     "metadata": {},
     "output_type": "display_data"
    },
    {
     "data": {
      "application/vnd.jupyter.widget-view+json": {
       "model_id": "fde3f22b1fb4461c8995c07fad2c5352",
       "version_major": 2,
       "version_minor": 0
      },
      "text/plain": [
       "IntProgress(value=0, description='mou_6', max=30)"
      ]
     },
     "metadata": {},
     "output_type": "display_data"
    },
    {
     "data": {
      "application/vnd.jupyter.widget-view+json": {
       "model_id": "8e961575cdee483cb0d64ee9b0f3109c",
       "version_major": 2,
       "version_minor": 0
      },
      "text/plain": [
       "IntProgress(value=0, description='mou_6', max=30)"
      ]
     },
     "metadata": {},
     "output_type": "display_data"
    },
    {
     "data": {
      "application/vnd.jupyter.widget-view+json": {
       "model_id": "064d14ce0d49475cbbe7def0513c6e29",
       "version_major": 2,
       "version_minor": 0
      },
      "text/plain": [
       "IntProgress(value=0, description='mou_6', max=30)"
      ]
     },
     "metadata": {},
     "output_type": "display_data"
    },
    {
     "name": "stdout",
     "output_type": "stream",
     "text": [
      "Warning: skipping session with too few trials 7\n",
      "Warning: skipping session with too few trials 7\n",
      "Warning: skipping session with too few trials 6\n",
      "Warning: skipping session with too few trials 6\n",
      "Warning: skipping session with too few trials 9\n",
      "Warning: skipping session with too few trials 5\n",
      "Warning: skipping session with too few trials 3\n",
      "Warning: skipping session with too few trials 5\n",
      "Warning: skipping session with too few trials 6\n",
      "Warning: skipping session with too few trials 7\n",
      "Warning: skipping session with too few trials 4\n",
      "Warning: skipping session with too few trials 2\n",
      "Warning: skipping session with too few trials 3\n",
      "Warning: skipping session with too few trials 7\n",
      "Warning: skipping session with too few trials 0\n",
      "Warning: skipping session with too few trials 6\n",
      "Warning: skipping session with too few trials 6\n",
      "Warning: skipping session with too few trials 3\n",
      "Warning: skipping session with too few trials 4\n",
      "Warning: skipping session with too few trials 8\n",
      "Warning: skipping session with too few trials 1\n"
     ]
    },
    {
     "data": {
      "application/vnd.jupyter.widget-view+json": {
       "model_id": "b8b7204c33d440e69148c54958e95b00",
       "version_major": 2,
       "version_minor": 0
      },
      "text/plain": [
       "IntProgress(value=0, description='mou_6', max=30)"
      ]
     },
     "metadata": {},
     "output_type": "display_data"
    },
    {
     "data": {
      "application/vnd.jupyter.widget-view+json": {
       "model_id": "010dd51849cc44119234ad6d741c647a",
       "version_major": 2,
       "version_minor": 0
      },
      "text/plain": [
       "IntProgress(value=0, description='mou_6', max=30)"
      ]
     },
     "metadata": {},
     "output_type": "display_data"
    },
    {
     "name": "stdout",
     "output_type": "stream",
     "text": [
      "Warning: skipping session with too few trials 1\n",
      "Warning: skipping session with too few trials 2\n",
      "Warning: skipping session with too few trials 1\n",
      "Warning: skipping session with too few trials 5\n",
      "Warning: skipping session with too few trials 1\n",
      "Warning: skipping session with too few trials 2\n",
      "Warning: skipping session with too few trials 0\n",
      "Warning: skipping session with too few trials 1\n",
      "Warning: skipping session with too few trials 2\n",
      "Warning: skipping session with too few trials 7\n",
      "Warning: skipping session with too few trials 2\n",
      "Warning: skipping session with too few trials 2\n",
      "Warning: skipping session with too few trials 1\n",
      "Warning: skipping session with too few trials 0\n",
      "Warning: skipping session with too few trials 7\n",
      "Warning: skipping session with too few trials 6\n",
      "Warning: skipping session with too few trials 8\n",
      "Warning: skipping session with too few trials 2\n",
      "Warning: skipping session with too few trials 3\n",
      "Warning: skipping session with too few trials 7\n",
      "Warning: skipping session with too few trials 2\n",
      "Warning: skipping session with too few trials 4\n",
      "Warning: skipping session with too few trials 1\n",
      "Warning: skipping session with too few trials 3\n",
      "Warning: skipping session with too few trials 0\n",
      "Warning: skipping session with too few trials 3\n",
      "Warning: skipping session with too few trials 0\n",
      "Warning: skipping session with too few trials 1\n",
      "Warning: skipping session with too few trials 3\n"
     ]
    },
    {
     "data": {
      "application/vnd.jupyter.widget-view+json": {
       "model_id": "c18b9b955aca4c20b050bfcda35a481a",
       "version_major": 2,
       "version_minor": 0
      },
      "text/plain": [
       "IntProgress(value=0, description='mou_6', max=30)"
      ]
     },
     "metadata": {},
     "output_type": "display_data"
    },
    {
     "data": {
      "application/vnd.jupyter.widget-view+json": {
       "model_id": "ede9dfca73ee428eab5341b6c955d9e3",
       "version_major": 2,
       "version_minor": 0
      },
      "text/plain": [
       "IntProgress(value=0, description='mou_6', max=30)"
      ]
     },
     "metadata": {},
     "output_type": "display_data"
    },
    {
     "data": {
      "application/vnd.jupyter.widget-view+json": {
       "model_id": "685cc7f0ed4243219d1ddcf676781c44",
       "version_major": 2,
       "version_minor": 0
      },
      "text/plain": [
       "IntProgress(value=0, description='mou_6', max=30)"
      ]
     },
     "metadata": {},
     "output_type": "display_data"
    },
    {
     "name": "stdout",
     "output_type": "stream",
     "text": [
      "Warning: skipping session with too few trials 7\n",
      "Warning: skipping session with too few trials 7\n",
      "Warning: skipping session with too few trials 6\n",
      "Warning: skipping session with too few trials 6\n",
      "Warning: skipping session with too few trials 9\n",
      "Warning: skipping session with too few trials 5\n",
      "Warning: skipping session with too few trials 3\n",
      "Warning: skipping session with too few trials 5\n",
      "Warning: skipping session with too few trials 6\n",
      "Warning: skipping session with too few trials 7\n",
      "Warning: skipping session with too few trials 4\n",
      "Warning: skipping session with too few trials 2\n",
      "Warning: skipping session with too few trials 3\n",
      "Warning: skipping session with too few trials 7\n",
      "Warning: skipping session with too few trials 0\n",
      "Warning: skipping session with too few trials 6\n",
      "Warning: skipping session with too few trials 6\n",
      "Warning: skipping session with too few trials 3\n",
      "Warning: skipping session with too few trials 4\n",
      "Warning: skipping session with too few trials 8\n",
      "Warning: skipping session with too few trials 1\n"
     ]
    },
    {
     "data": {
      "application/vnd.jupyter.widget-view+json": {
       "model_id": "69cd474709fe45e38b4b90bb6b252814",
       "version_major": 2,
       "version_minor": 0
      },
      "text/plain": [
       "IntProgress(value=0, description='mou_6', max=30)"
      ]
     },
     "metadata": {},
     "output_type": "display_data"
    },
    {
     "data": {
      "application/vnd.jupyter.widget-view+json": {
       "model_id": "cad1b430ef8645d1895e48886255f97e",
       "version_major": 2,
       "version_minor": 0
      },
      "text/plain": [
       "IntProgress(value=0, description='mou_6', max=30)"
      ]
     },
     "metadata": {},
     "output_type": "display_data"
    },
    {
     "name": "stdout",
     "output_type": "stream",
     "text": [
      "Warning: skipping session with too few trials 1\n",
      "Warning: skipping session with too few trials 2\n",
      "Warning: skipping session with too few trials 1\n",
      "Warning: skipping session with too few trials 5\n",
      "Warning: skipping session with too few trials 1\n",
      "Warning: skipping session with too few trials 2\n",
      "Warning: skipping session with too few trials 0\n",
      "Warning: skipping session with too few trials 1\n",
      "Warning: skipping session with too few trials 2\n",
      "Warning: skipping session with too few trials 7\n",
      "Warning: skipping session with too few trials 2\n",
      "Warning: skipping session with too few trials 2\n",
      "Warning: skipping session with too few trials 1\n",
      "Warning: skipping session with too few trials 0\n",
      "Warning: skipping session with too few trials 7\n",
      "Warning: skipping session with too few trials 6\n",
      "Warning: skipping session with too few trials 8\n",
      "Warning: skipping session with too few trials 2\n",
      "Warning: skipping session with too few trials 3\n",
      "Warning: skipping session with too few trials 7\n",
      "Warning: skipping session with too few trials 2\n",
      "Warning: skipping session with too few trials 4\n",
      "Warning: skipping session with too few trials 1\n",
      "Warning: skipping session with too few trials 3\n",
      "Warning: skipping session with too few trials 0\n",
      "Warning: skipping session with too few trials 3\n",
      "Warning: skipping session with too few trials 0\n",
      "Warning: skipping session with too few trials 1\n",
      "Warning: skipping session with too few trials 3\n"
     ]
    },
    {
     "data": {
      "application/vnd.jupyter.widget-view+json": {
       "model_id": "9cc1ffcd42254e199904b1b6e9fd63dc",
       "version_major": 2,
       "version_minor": 0
      },
      "text/plain": [
       "IntProgress(value=0, description='mou_6', max=30)"
      ]
     },
     "metadata": {},
     "output_type": "display_data"
    },
    {
     "data": {
      "application/vnd.jupyter.widget-view+json": {
       "model_id": "9a6f398a4efd4b64a89657dcfdbecf6c",
       "version_major": 2,
       "version_minor": 0
      },
      "text/plain": [
       "IntProgress(value=0, description='mou_6', max=30)"
      ]
     },
     "metadata": {},
     "output_type": "display_data"
    },
    {
     "data": {
      "application/vnd.jupyter.widget-view+json": {
       "model_id": "993b010451854572b087ee6e05450b60",
       "version_major": 2,
       "version_minor": 0
      },
      "text/plain": [
       "IntProgress(value=0, description='mou_6', max=30)"
      ]
     },
     "metadata": {},
     "output_type": "display_data"
    },
    {
     "name": "stdout",
     "output_type": "stream",
     "text": [
      "Warning: skipping session with too few trials 7\n",
      "Warning: skipping session with too few trials 7\n",
      "Warning: skipping session with too few trials 6\n",
      "Warning: skipping session with too few trials 6\n",
      "Warning: skipping session with too few trials 9\n",
      "Warning: skipping session with too few trials 5\n",
      "Warning: skipping session with too few trials 3\n",
      "Warning: skipping session with too few trials 5\n",
      "Warning: skipping session with too few trials 6\n",
      "Warning: skipping session with too few trials 7\n",
      "Warning: skipping session with too few trials 4\n",
      "Warning: skipping session with too few trials 2\n",
      "Warning: skipping session with too few trials 3\n",
      "Warning: skipping session with too few trials 7\n",
      "Warning: skipping session with too few trials 0\n",
      "Warning: skipping session with too few trials 6\n",
      "Warning: skipping session with too few trials 6\n",
      "Warning: skipping session with too few trials 3\n",
      "Warning: skipping session with too few trials 4\n",
      "Warning: skipping session with too few trials 8\n",
      "Warning: skipping session with too few trials 1\n"
     ]
    },
    {
     "data": {
      "application/vnd.jupyter.widget-view+json": {
       "model_id": "dca53635fefc4f3ba49db62ba9045e4b",
       "version_major": 2,
       "version_minor": 0
      },
      "text/plain": [
       "IntProgress(value=0, description='mou_6', max=30)"
      ]
     },
     "metadata": {},
     "output_type": "display_data"
    },
    {
     "data": {
      "application/vnd.jupyter.widget-view+json": {
       "model_id": "c6adfe2f66f442a4a7f49bafbed6d8af",
       "version_major": 2,
       "version_minor": 0
      },
      "text/plain": [
       "IntProgress(value=0, description='mou_6', max=30)"
      ]
     },
     "metadata": {},
     "output_type": "display_data"
    },
    {
     "name": "stdout",
     "output_type": "stream",
     "text": [
      "Warning: skipping session with too few trials 1\n",
      "Warning: skipping session with too few trials 2\n",
      "Warning: skipping session with too few trials 1\n",
      "Warning: skipping session with too few trials 5\n",
      "Warning: skipping session with too few trials 1\n",
      "Warning: skipping session with too few trials 2\n",
      "Warning: skipping session with too few trials 0\n",
      "Warning: skipping session with too few trials 1\n",
      "Warning: skipping session with too few trials 2\n",
      "Warning: skipping session with too few trials 7\n",
      "Warning: skipping session with too few trials 2\n",
      "Warning: skipping session with too few trials 2\n",
      "Warning: skipping session with too few trials 1\n",
      "Warning: skipping session with too few trials 0\n",
      "Warning: skipping session with too few trials 7\n",
      "Warning: skipping session with too few trials 6\n",
      "Warning: skipping session with too few trials 8\n",
      "Warning: skipping session with too few trials 2\n",
      "Warning: skipping session with too few trials 3\n",
      "Warning: skipping session with too few trials 7\n",
      "Warning: skipping session with too few trials 2\n",
      "Warning: skipping session with too few trials 4\n",
      "Warning: skipping session with too few trials 1\n",
      "Warning: skipping session with too few trials 3\n",
      "Warning: skipping session with too few trials 0\n",
      "Warning: skipping session with too few trials 3\n",
      "Warning: skipping session with too few trials 0\n",
      "Warning: skipping session with too few trials 1\n",
      "Warning: skipping session with too few trials 3\n"
     ]
    },
    {
     "data": {
      "application/vnd.jupyter.widget-view+json": {
       "model_id": "517de2c486124c95ac8f5af089780878",
       "version_major": 2,
       "version_minor": 0
      },
      "text/plain": [
       "IntProgress(value=0, description='mou_9', max=22)"
      ]
     },
     "metadata": {},
     "output_type": "display_data"
    },
    {
     "data": {
      "application/vnd.jupyter.widget-view+json": {
       "model_id": "514775c66999452caca2e2bd5b70bdf1",
       "version_major": 2,
       "version_minor": 0
      },
      "text/plain": [
       "IntProgress(value=0, description='mou_9', max=22)"
      ]
     },
     "metadata": {},
     "output_type": "display_data"
    },
    {
     "data": {
      "application/vnd.jupyter.widget-view+json": {
       "model_id": "de3dc5629aed4d699503caba6c97cd04",
       "version_major": 2,
       "version_minor": 0
      },
      "text/plain": [
       "IntProgress(value=0, description='mou_9', max=22)"
      ]
     },
     "metadata": {},
     "output_type": "display_data"
    },
    {
     "name": "stdout",
     "output_type": "stream",
     "text": [
      "Warning: skipping session with too few trials 9\n",
      "Warning: skipping session with too few trials 9\n",
      "Warning: skipping session with too few trials 7\n",
      "Warning: skipping session with too few trials 2\n",
      "Warning: skipping session with too few trials 9\n",
      "Warning: skipping session with too few trials 8\n",
      "Warning: skipping session with too few trials 3\n"
     ]
    },
    {
     "data": {
      "application/vnd.jupyter.widget-view+json": {
       "model_id": "577d6a2a56444a3284fb05c27e293506",
       "version_major": 2,
       "version_minor": 0
      },
      "text/plain": [
       "IntProgress(value=0, description='mou_9', max=22)"
      ]
     },
     "metadata": {},
     "output_type": "display_data"
    },
    {
     "data": {
      "application/vnd.jupyter.widget-view+json": {
       "model_id": "10df1d73429b4fe582992ef8d560db3f",
       "version_major": 2,
       "version_minor": 0
      },
      "text/plain": [
       "IntProgress(value=0, description='mou_9', max=22)"
      ]
     },
     "metadata": {},
     "output_type": "display_data"
    },
    {
     "name": "stdout",
     "output_type": "stream",
     "text": [
      "Warning: skipping session with too few trials 6\n",
      "Warning: skipping session with too few trials 4\n",
      "Warning: skipping session with too few trials 7\n",
      "Warning: skipping session with too few trials 9\n",
      "Warning: skipping session with too few trials 4\n",
      "Warning: skipping session with too few trials 4\n",
      "Warning: skipping session with too few trials 1\n",
      "Warning: skipping session with too few trials 3\n",
      "Warning: skipping session with too few trials 4\n",
      "Warning: skipping session with too few trials 1\n",
      "Warning: skipping session with too few trials 5\n",
      "Warning: skipping session with too few trials 4\n",
      "Warning: skipping session with too few trials 3\n"
     ]
    },
    {
     "data": {
      "application/vnd.jupyter.widget-view+json": {
       "model_id": "23c9a7c63cc041679917ad8a26fb86f0",
       "version_major": 2,
       "version_minor": 0
      },
      "text/plain": [
       "IntProgress(value=0, description='mou_9', max=22)"
      ]
     },
     "metadata": {},
     "output_type": "display_data"
    },
    {
     "data": {
      "application/vnd.jupyter.widget-view+json": {
       "model_id": "fd06b8a071914bd5ad6f5a4322e376fe",
       "version_major": 2,
       "version_minor": 0
      },
      "text/plain": [
       "IntProgress(value=0, description='mou_9', max=22)"
      ]
     },
     "metadata": {},
     "output_type": "display_data"
    },
    {
     "data": {
      "application/vnd.jupyter.widget-view+json": {
       "model_id": "adaefa580baf48cca2426869e5c972fe",
       "version_major": 2,
       "version_minor": 0
      },
      "text/plain": [
       "IntProgress(value=0, description='mou_9', max=22)"
      ]
     },
     "metadata": {},
     "output_type": "display_data"
    },
    {
     "name": "stdout",
     "output_type": "stream",
     "text": [
      "Warning: skipping session with too few trials 9\n",
      "Warning: skipping session with too few trials 9\n",
      "Warning: skipping session with too few trials 7\n",
      "Warning: skipping session with too few trials 2\n",
      "Warning: skipping session with too few trials 9\n",
      "Warning: skipping session with too few trials 8\n",
      "Warning: skipping session with too few trials 3\n"
     ]
    },
    {
     "data": {
      "application/vnd.jupyter.widget-view+json": {
       "model_id": "f83e0fec2cf74885a062a4fbb660f474",
       "version_major": 2,
       "version_minor": 0
      },
      "text/plain": [
       "IntProgress(value=0, description='mou_9', max=22)"
      ]
     },
     "metadata": {},
     "output_type": "display_data"
    },
    {
     "data": {
      "application/vnd.jupyter.widget-view+json": {
       "model_id": "b7573fde43d84d09bef05f14f6e5eb6b",
       "version_major": 2,
       "version_minor": 0
      },
      "text/plain": [
       "IntProgress(value=0, description='mou_9', max=22)"
      ]
     },
     "metadata": {},
     "output_type": "display_data"
    },
    {
     "name": "stdout",
     "output_type": "stream",
     "text": [
      "Warning: skipping session with too few trials 6\n",
      "Warning: skipping session with too few trials 4\n",
      "Warning: skipping session with too few trials 7\n",
      "Warning: skipping session with too few trials 9\n",
      "Warning: skipping session with too few trials 4\n",
      "Warning: skipping session with too few trials 4\n",
      "Warning: skipping session with too few trials 1\n",
      "Warning: skipping session with too few trials 3\n",
      "Warning: skipping session with too few trials 4\n",
      "Warning: skipping session with too few trials 1\n",
      "Warning: skipping session with too few trials 5\n",
      "Warning: skipping session with too few trials 4\n",
      "Warning: skipping session with too few trials 3\n"
     ]
    },
    {
     "data": {
      "application/vnd.jupyter.widget-view+json": {
       "model_id": "ac49b73cd7144879b290c2fc501a73a3",
       "version_major": 2,
       "version_minor": 0
      },
      "text/plain": [
       "IntProgress(value=0, description='mou_9', max=22)"
      ]
     },
     "metadata": {},
     "output_type": "display_data"
    },
    {
     "data": {
      "application/vnd.jupyter.widget-view+json": {
       "model_id": "faf26ed4dc8e407ca58ebb8e458186e3",
       "version_major": 2,
       "version_minor": 0
      },
      "text/plain": [
       "IntProgress(value=0, description='mou_9', max=22)"
      ]
     },
     "metadata": {},
     "output_type": "display_data"
    },
    {
     "data": {
      "application/vnd.jupyter.widget-view+json": {
       "model_id": "eef2df6629804141b69a46c2d04010a9",
       "version_major": 2,
       "version_minor": 0
      },
      "text/plain": [
       "IntProgress(value=0, description='mou_9', max=22)"
      ]
     },
     "metadata": {},
     "output_type": "display_data"
    },
    {
     "name": "stdout",
     "output_type": "stream",
     "text": [
      "Warning: skipping session with too few trials 9\n",
      "Warning: skipping session with too few trials 9\n",
      "Warning: skipping session with too few trials 7\n",
      "Warning: skipping session with too few trials 2\n",
      "Warning: skipping session with too few trials 9\n",
      "Warning: skipping session with too few trials 8\n",
      "Warning: skipping session with too few trials 3\n"
     ]
    },
    {
     "data": {
      "application/vnd.jupyter.widget-view+json": {
       "model_id": "f004dd447b794cd892ab1198d4689f93",
       "version_major": 2,
       "version_minor": 0
      },
      "text/plain": [
       "IntProgress(value=0, description='mou_9', max=22)"
      ]
     },
     "metadata": {},
     "output_type": "display_data"
    },
    {
     "data": {
      "application/vnd.jupyter.widget-view+json": {
       "model_id": "376d79c579d7492aaae7d74870f15252",
       "version_major": 2,
       "version_minor": 0
      },
      "text/plain": [
       "IntProgress(value=0, description='mou_9', max=22)"
      ]
     },
     "metadata": {},
     "output_type": "display_data"
    },
    {
     "name": "stdout",
     "output_type": "stream",
     "text": [
      "Warning: skipping session with too few trials 6\n",
      "Warning: skipping session with too few trials 4\n",
      "Warning: skipping session with too few trials 7\n",
      "Warning: skipping session with too few trials 9\n",
      "Warning: skipping session with too few trials 4\n",
      "Warning: skipping session with too few trials 4\n",
      "Warning: skipping session with too few trials 1\n",
      "Warning: skipping session with too few trials 3\n",
      "Warning: skipping session with too few trials 4\n",
      "Warning: skipping session with too few trials 1\n",
      "Warning: skipping session with too few trials 5\n",
      "Warning: skipping session with too few trials 4\n",
      "Warning: skipping session with too few trials 3\n"
     ]
    },
    {
     "data": {
      "application/vnd.jupyter.widget-view+json": {
       "model_id": "e90ae098e274447bab560c21b009dcf3",
       "version_major": 2,
       "version_minor": 0
      },
      "text/plain": [
       "IntProgress(value=0, description='mou_5', max=21)"
      ]
     },
     "metadata": {},
     "output_type": "display_data"
    },
    {
     "data": {
      "application/vnd.jupyter.widget-view+json": {
       "model_id": "92f2bb906f92428684c3949ac6249676",
       "version_major": 2,
       "version_minor": 0
      },
      "text/plain": [
       "IntProgress(value=0, description='mou_5', max=21)"
      ]
     },
     "metadata": {},
     "output_type": "display_data"
    },
    {
     "data": {
      "application/vnd.jupyter.widget-view+json": {
       "model_id": "2c6a6e2d54434e3b8c4df56d6d0c0940",
       "version_major": 2,
       "version_minor": 0
      },
      "text/plain": [
       "IntProgress(value=0, description='mou_5', max=21)"
      ]
     },
     "metadata": {},
     "output_type": "display_data"
    },
    {
     "name": "stdout",
     "output_type": "stream",
     "text": [
      "Warning: skipping session with too few trials 0\n",
      "Warning: skipping session with too few trials 9\n",
      "Warning: skipping session with too few trials 9\n",
      "Warning: skipping session with too few trials 4\n",
      "Warning: skipping session with too few trials 1\n",
      "Warning: skipping session with too few trials 2\n",
      "Warning: skipping session with too few trials 2\n",
      "Warning: skipping session with too few trials 0\n",
      "Warning: skipping session with too few trials 8\n",
      "Warning: skipping session with too few trials 0\n",
      "Warning: skipping session with too few trials 1\n",
      "Warning: skipping session with too few trials 1\n",
      "Warning: skipping session with too few trials 9\n"
     ]
    },
    {
     "data": {
      "application/vnd.jupyter.widget-view+json": {
       "model_id": "4a58b11a43b643f6b8851ce13519541d",
       "version_major": 2,
       "version_minor": 0
      },
      "text/plain": [
       "IntProgress(value=0, description='mou_5', max=21)"
      ]
     },
     "metadata": {},
     "output_type": "display_data"
    },
    {
     "data": {
      "application/vnd.jupyter.widget-view+json": {
       "model_id": "db1a2fd2eb284815b60c265aa737d5b7",
       "version_major": 2,
       "version_minor": 0
      },
      "text/plain": [
       "IntProgress(value=0, description='mou_5', max=21)"
      ]
     },
     "metadata": {},
     "output_type": "display_data"
    },
    {
     "name": "stdout",
     "output_type": "stream",
     "text": [
      "Warning: skipping session with too few trials 2\n",
      "Warning: skipping session with too few trials 4\n",
      "Warning: skipping session with too few trials 3\n",
      "Warning: skipping session with too few trials 2\n",
      "Warning: skipping session with too few trials 2\n",
      "Warning: skipping session with too few trials 8\n",
      "Warning: skipping session with too few trials 0\n",
      "Warning: skipping session with too few trials 5\n",
      "Warning: skipping session with too few trials 2\n",
      "Warning: skipping session with too few trials 1\n",
      "Warning: skipping session with too few trials 2\n",
      "Warning: skipping session with too few trials 0\n",
      "Warning: skipping session with too few trials 4\n",
      "Warning: skipping session with too few trials 9\n",
      "Warning: skipping session with too few trials 5\n"
     ]
    },
    {
     "data": {
      "application/vnd.jupyter.widget-view+json": {
       "model_id": "774d92fb007f481e8487e4fdea6ea7fd",
       "version_major": 2,
       "version_minor": 0
      },
      "text/plain": [
       "IntProgress(value=0, description='mou_5', max=21)"
      ]
     },
     "metadata": {},
     "output_type": "display_data"
    },
    {
     "data": {
      "application/vnd.jupyter.widget-view+json": {
       "model_id": "1402061c75954276b2fd327e5d65109c",
       "version_major": 2,
       "version_minor": 0
      },
      "text/plain": [
       "IntProgress(value=0, description='mou_5', max=21)"
      ]
     },
     "metadata": {},
     "output_type": "display_data"
    },
    {
     "data": {
      "application/vnd.jupyter.widget-view+json": {
       "model_id": "b4b00cd5706e4e899f4b98093ac74fcf",
       "version_major": 2,
       "version_minor": 0
      },
      "text/plain": [
       "IntProgress(value=0, description='mou_5', max=21)"
      ]
     },
     "metadata": {},
     "output_type": "display_data"
    },
    {
     "name": "stdout",
     "output_type": "stream",
     "text": [
      "Warning: skipping session with too few trials 0\n",
      "Warning: skipping session with too few trials 9\n",
      "Warning: skipping session with too few trials 9\n",
      "Warning: skipping session with too few trials 4\n",
      "Warning: skipping session with too few trials 1\n",
      "Warning: skipping session with too few trials 2\n",
      "Warning: skipping session with too few trials 2\n",
      "Warning: skipping session with too few trials 0\n",
      "Warning: skipping session with too few trials 8\n",
      "Warning: skipping session with too few trials 0\n",
      "Warning: skipping session with too few trials 1\n",
      "Warning: skipping session with too few trials 1\n",
      "Warning: skipping session with too few trials 9\n"
     ]
    },
    {
     "data": {
      "application/vnd.jupyter.widget-view+json": {
       "model_id": "5897c6d8c28a48d2a87076f96698a567",
       "version_major": 2,
       "version_minor": 0
      },
      "text/plain": [
       "IntProgress(value=0, description='mou_5', max=21)"
      ]
     },
     "metadata": {},
     "output_type": "display_data"
    },
    {
     "data": {
      "application/vnd.jupyter.widget-view+json": {
       "model_id": "7872fda339ac499995f943bdfbf3a386",
       "version_major": 2,
       "version_minor": 0
      },
      "text/plain": [
       "IntProgress(value=0, description='mou_5', max=21)"
      ]
     },
     "metadata": {},
     "output_type": "display_data"
    },
    {
     "name": "stdout",
     "output_type": "stream",
     "text": [
      "Warning: skipping session with too few trials 2\n",
      "Warning: skipping session with too few trials 4\n",
      "Warning: skipping session with too few trials 3\n",
      "Warning: skipping session with too few trials 2\n",
      "Warning: skipping session with too few trials 2\n",
      "Warning: skipping session with too few trials 8\n",
      "Warning: skipping session with too few trials 0\n",
      "Warning: skipping session with too few trials 5\n",
      "Warning: skipping session with too few trials 2\n",
      "Warning: skipping session with too few trials 1\n",
      "Warning: skipping session with too few trials 2\n",
      "Warning: skipping session with too few trials 0\n",
      "Warning: skipping session with too few trials 4\n",
      "Warning: skipping session with too few trials 9\n",
      "Warning: skipping session with too few trials 5\n"
     ]
    },
    {
     "data": {
      "application/vnd.jupyter.widget-view+json": {
       "model_id": "27c3df9ec7484489954a203d396d1490",
       "version_major": 2,
       "version_minor": 0
      },
      "text/plain": [
       "IntProgress(value=0, description='mou_5', max=21)"
      ]
     },
     "metadata": {},
     "output_type": "display_data"
    },
    {
     "data": {
      "application/vnd.jupyter.widget-view+json": {
       "model_id": "bddaa56c3a774a0b9617ad88377976f4",
       "version_major": 2,
       "version_minor": 0
      },
      "text/plain": [
       "IntProgress(value=0, description='mou_5', max=21)"
      ]
     },
     "metadata": {},
     "output_type": "display_data"
    },
    {
     "data": {
      "application/vnd.jupyter.widget-view+json": {
       "model_id": "6021efede2b441a9ae6335a800a6b5a1",
       "version_major": 2,
       "version_minor": 0
      },
      "text/plain": [
       "IntProgress(value=0, description='mou_5', max=21)"
      ]
     },
     "metadata": {},
     "output_type": "display_data"
    },
    {
     "name": "stdout",
     "output_type": "stream",
     "text": [
      "Warning: skipping session with too few trials 0\n",
      "Warning: skipping session with too few trials 9\n",
      "Warning: skipping session with too few trials 9\n",
      "Warning: skipping session with too few trials 4\n",
      "Warning: skipping session with too few trials 1\n",
      "Warning: skipping session with too few trials 2\n",
      "Warning: skipping session with too few trials 2\n",
      "Warning: skipping session with too few trials 0\n",
      "Warning: skipping session with too few trials 8\n",
      "Warning: skipping session with too few trials 0\n",
      "Warning: skipping session with too few trials 1\n",
      "Warning: skipping session with too few trials 1\n",
      "Warning: skipping session with too few trials 9\n"
     ]
    },
    {
     "data": {
      "application/vnd.jupyter.widget-view+json": {
       "model_id": "0120bf2d76df4d2991c988c5021abdc4",
       "version_major": 2,
       "version_minor": 0
      },
      "text/plain": [
       "IntProgress(value=0, description='mou_5', max=21)"
      ]
     },
     "metadata": {},
     "output_type": "display_data"
    },
    {
     "data": {
      "application/vnd.jupyter.widget-view+json": {
       "model_id": "c156fe6b66e447e392c2c1d78461bf97",
       "version_major": 2,
       "version_minor": 0
      },
      "text/plain": [
       "IntProgress(value=0, description='mou_5', max=21)"
      ]
     },
     "metadata": {},
     "output_type": "display_data"
    },
    {
     "name": "stdout",
     "output_type": "stream",
     "text": [
      "Warning: skipping session with too few trials 2\n",
      "Warning: skipping session with too few trials 4\n",
      "Warning: skipping session with too few trials 3\n",
      "Warning: skipping session with too few trials 2\n",
      "Warning: skipping session with too few trials 2\n",
      "Warning: skipping session with too few trials 8\n",
      "Warning: skipping session with too few trials 0\n",
      "Warning: skipping session with too few trials 5\n",
      "Warning: skipping session with too few trials 2\n",
      "Warning: skipping session with too few trials 1\n",
      "Warning: skipping session with too few trials 2\n",
      "Warning: skipping session with too few trials 0\n",
      "Warning: skipping session with too few trials 4\n",
      "Warning: skipping session with too few trials 9\n",
      "Warning: skipping session with too few trials 5\n"
     ]
    },
    {
     "data": {
      "application/vnd.jupyter.widget-view+json": {
       "model_id": "b6cc509d417f4fb08d4f619a6fb8f2c6",
       "version_major": 2,
       "version_minor": 0
      },
      "text/plain": [
       "IntProgress(value=0, description='mou_7', max=27)"
      ]
     },
     "metadata": {},
     "output_type": "display_data"
    },
    {
     "data": {
      "application/vnd.jupyter.widget-view+json": {
       "model_id": "e489cd53b21748b282382396e2c0a671",
       "version_major": 2,
       "version_minor": 0
      },
      "text/plain": [
       "IntProgress(value=0, description='mou_7', max=27)"
      ]
     },
     "metadata": {},
     "output_type": "display_data"
    },
    {
     "data": {
      "application/vnd.jupyter.widget-view+json": {
       "model_id": "a18808ca0e5b47258830164bad592abe",
       "version_major": 2,
       "version_minor": 0
      },
      "text/plain": [
       "IntProgress(value=0, description='mou_7', max=27)"
      ]
     },
     "metadata": {},
     "output_type": "display_data"
    },
    {
     "name": "stdout",
     "output_type": "stream",
     "text": [
      "Warning: skipping session with too few trials 9\n",
      "Warning: skipping session with too few trials 1\n",
      "Warning: skipping session with too few trials 4\n",
      "Warning: skipping session with too few trials 2\n",
      "Warning: skipping session with too few trials 9\n",
      "Warning: skipping session with too few trials 0\n",
      "Warning: skipping session with too few trials 2\n",
      "Warning: skipping session with too few trials 6\n",
      "Warning: skipping session with too few trials 9\n",
      "Warning: skipping session with too few trials 1\n",
      "Warning: skipping session with too few trials 1\n",
      "Warning: skipping session with too few trials 1\n",
      "Warning: skipping session with too few trials 3\n",
      "Warning: skipping session with too few trials 1\n",
      "Warning: skipping session with too few trials 1\n",
      "Warning: skipping session with too few trials 6\n",
      "Warning: skipping session with too few trials 4\n",
      "Warning: skipping session with too few trials 1\n",
      "Warning: skipping session with too few trials 3\n",
      "Warning: skipping session with too few trials 1\n",
      "Warning: skipping session with too few trials 2\n",
      "Warning: skipping session with too few trials 4\n",
      "Warning: skipping session with too few trials 3\n"
     ]
    },
    {
     "data": {
      "application/vnd.jupyter.widget-view+json": {
       "model_id": "525f2cf1d79a49caafef6e3883cd2afa",
       "version_major": 2,
       "version_minor": 0
      },
      "text/plain": [
       "IntProgress(value=0, description='mou_7', max=27)"
      ]
     },
     "metadata": {},
     "output_type": "display_data"
    },
    {
     "data": {
      "application/vnd.jupyter.widget-view+json": {
       "model_id": "b01673295da140fda27158711932339e",
       "version_major": 2,
       "version_minor": 0
      },
      "text/plain": [
       "IntProgress(value=0, description='mou_7', max=27)"
      ]
     },
     "metadata": {},
     "output_type": "display_data"
    },
    {
     "name": "stdout",
     "output_type": "stream",
     "text": [
      "Warning: skipping session with too few trials 1\n",
      "Warning: skipping session with too few trials 7\n",
      "Warning: skipping session with too few trials 7\n",
      "Warning: skipping session with too few trials 9\n"
     ]
    },
    {
     "data": {
      "application/vnd.jupyter.widget-view+json": {
       "model_id": "eb6aa71fd8524ddda316651d2be2d5da",
       "version_major": 2,
       "version_minor": 0
      },
      "text/plain": [
       "IntProgress(value=0, description='mou_7', max=27)"
      ]
     },
     "metadata": {},
     "output_type": "display_data"
    },
    {
     "data": {
      "application/vnd.jupyter.widget-view+json": {
       "model_id": "06793af4b2344b2dbaec9557c15fb99d",
       "version_major": 2,
       "version_minor": 0
      },
      "text/plain": [
       "IntProgress(value=0, description='mou_7', max=27)"
      ]
     },
     "metadata": {},
     "output_type": "display_data"
    },
    {
     "data": {
      "application/vnd.jupyter.widget-view+json": {
       "model_id": "c3035de10aa14c74a15970e75bed62bc",
       "version_major": 2,
       "version_minor": 0
      },
      "text/plain": [
       "IntProgress(value=0, description='mou_7', max=27)"
      ]
     },
     "metadata": {},
     "output_type": "display_data"
    },
    {
     "name": "stdout",
     "output_type": "stream",
     "text": [
      "Warning: skipping session with too few trials 9\n",
      "Warning: skipping session with too few trials 1\n",
      "Warning: skipping session with too few trials 4\n",
      "Warning: skipping session with too few trials 2\n",
      "Warning: skipping session with too few trials 9\n",
      "Warning: skipping session with too few trials 0\n",
      "Warning: skipping session with too few trials 2\n",
      "Warning: skipping session with too few trials 6\n",
      "Warning: skipping session with too few trials 9\n",
      "Warning: skipping session with too few trials 1\n",
      "Warning: skipping session with too few trials 1\n",
      "Warning: skipping session with too few trials 1\n",
      "Warning: skipping session with too few trials 3\n",
      "Warning: skipping session with too few trials 1\n",
      "Warning: skipping session with too few trials 1\n",
      "Warning: skipping session with too few trials 6\n",
      "Warning: skipping session with too few trials 4\n",
      "Warning: skipping session with too few trials 1\n",
      "Warning: skipping session with too few trials 3\n",
      "Warning: skipping session with too few trials 1\n",
      "Warning: skipping session with too few trials 2\n",
      "Warning: skipping session with too few trials 4\n",
      "Warning: skipping session with too few trials 3\n"
     ]
    },
    {
     "data": {
      "application/vnd.jupyter.widget-view+json": {
       "model_id": "c4c6636d20bd43d998336600ff8af731",
       "version_major": 2,
       "version_minor": 0
      },
      "text/plain": [
       "IntProgress(value=0, description='mou_7', max=27)"
      ]
     },
     "metadata": {},
     "output_type": "display_data"
    },
    {
     "data": {
      "application/vnd.jupyter.widget-view+json": {
       "model_id": "ccca1037fb304f50a99dd877637892dc",
       "version_major": 2,
       "version_minor": 0
      },
      "text/plain": [
       "IntProgress(value=0, description='mou_7', max=27)"
      ]
     },
     "metadata": {},
     "output_type": "display_data"
    },
    {
     "name": "stdout",
     "output_type": "stream",
     "text": [
      "Warning: skipping session with too few trials 1\n",
      "Warning: skipping session with too few trials 7\n",
      "Warning: skipping session with too few trials 7\n",
      "Warning: skipping session with too few trials 9\n"
     ]
    },
    {
     "data": {
      "application/vnd.jupyter.widget-view+json": {
       "model_id": "d668717b22fe4b0f93530251ba263ca5",
       "version_major": 2,
       "version_minor": 0
      },
      "text/plain": [
       "IntProgress(value=0, description='mou_7', max=27)"
      ]
     },
     "metadata": {},
     "output_type": "display_data"
    },
    {
     "data": {
      "application/vnd.jupyter.widget-view+json": {
       "model_id": "f908c8f290084db0a4e2f1d9a7ac449a",
       "version_major": 2,
       "version_minor": 0
      },
      "text/plain": [
       "IntProgress(value=0, description='mou_7', max=27)"
      ]
     },
     "metadata": {},
     "output_type": "display_data"
    },
    {
     "data": {
      "application/vnd.jupyter.widget-view+json": {
       "model_id": "e3ab81572bdb4e29b819e8cb120fd2e8",
       "version_major": 2,
       "version_minor": 0
      },
      "text/plain": [
       "IntProgress(value=0, description='mou_7', max=27)"
      ]
     },
     "metadata": {},
     "output_type": "display_data"
    },
    {
     "name": "stdout",
     "output_type": "stream",
     "text": [
      "Warning: skipping session with too few trials 9\n",
      "Warning: skipping session with too few trials 1\n",
      "Warning: skipping session with too few trials 4\n",
      "Warning: skipping session with too few trials 2\n",
      "Warning: skipping session with too few trials 9\n",
      "Warning: skipping session with too few trials 0\n",
      "Warning: skipping session with too few trials 2\n",
      "Warning: skipping session with too few trials 6\n",
      "Warning: skipping session with too few trials 9\n",
      "Warning: skipping session with too few trials 1\n",
      "Warning: skipping session with too few trials 1\n",
      "Warning: skipping session with too few trials 1\n",
      "Warning: skipping session with too few trials 3\n",
      "Warning: skipping session with too few trials 1\n",
      "Warning: skipping session with too few trials 1\n",
      "Warning: skipping session with too few trials 6\n",
      "Warning: skipping session with too few trials 4\n",
      "Warning: skipping session with too few trials 1\n",
      "Warning: skipping session with too few trials 3\n",
      "Warning: skipping session with too few trials 1\n",
      "Warning: skipping session with too few trials 2\n",
      "Warning: skipping session with too few trials 4\n",
      "Warning: skipping session with too few trials 3\n"
     ]
    },
    {
     "data": {
      "application/vnd.jupyter.widget-view+json": {
       "model_id": "9b948417b12747fb9801fc92f7fc962c",
       "version_major": 2,
       "version_minor": 0
      },
      "text/plain": [
       "IntProgress(value=0, description='mou_7', max=27)"
      ]
     },
     "metadata": {},
     "output_type": "display_data"
    },
    {
     "data": {
      "application/vnd.jupyter.widget-view+json": {
       "model_id": "5733b14517cd492eb40b76fb82ff076b",
       "version_major": 2,
       "version_minor": 0
      },
      "text/plain": [
       "IntProgress(value=0, description='mou_7', max=27)"
      ]
     },
     "metadata": {},
     "output_type": "display_data"
    },
    {
     "name": "stdout",
     "output_type": "stream",
     "text": [
      "Warning: skipping session with too few trials 1\n",
      "Warning: skipping session with too few trials 7\n",
      "Warning: skipping session with too few trials 7\n",
      "Warning: skipping session with too few trials 9\n"
     ]
    }
   ],
   "source": [
    "for intervName, interv in intervDict.items():\n",
    "    bulk_metrics.metric_mouse_bulk_vs_session(dataDB, mc, ds, \"mean\", 'session', trialTypeNames='auto',\n",
    "                                              minTrials=10, verbose=False, cropTime=(intervName, interv))"
   ]
  },
  {
   "cell_type": "code",
   "execution_count": 12,
   "metadata": {},
   "outputs": [
    {
     "name": "stdout",
     "output_type": "stream",
     "text": [
      "['mean', 'session', 'mou_6', 'bn_session', 'dset248', 'None', 'CR', 'AVG']\n",
      "(30,)\n",
      "(30,)\n",
      "['mean', 'session', 'mou_9', 'bn_session', 'dset263', 'None', 'CR', 'AVG']\n",
      "(22,)\n",
      "(22,)\n",
      "['mean', 'session', 'mou_5', 'bn_session', 'dset278', 'None', 'CR', 'AVG']\n",
      "(21,)\n",
      "(21,)\n",
      "['mean', 'session', 'mou_7', 'bn_session', 'dset293', 'None', 'CR', 'AVG']\n",
      "(27,)\n",
      "(27,)\n",
      "['mean', 'session', 'mou_6', 'bn_trial', 'dset253', 'None', 'CR', 'AVG']\n",
      "(30,)\n",
      "(30,)\n",
      "['mean', 'session', 'mou_9', 'bn_trial', 'dset268', 'None', 'CR', 'AVG']\n",
      "(22,)\n",
      "(22,)\n",
      "['mean', 'session', 'mou_5', 'bn_trial', 'dset283', 'None', 'CR', 'AVG']\n",
      "(21,)\n",
      "(21,)\n",
      "['mean', 'session', 'mou_7', 'bn_trial', 'dset298', 'None', 'CR', 'AVG']\n",
      "(27,)\n",
      "(27,)\n",
      "['mean', 'session', 'mou_6', 'raw', 'dset243', 'rs', 'CR', 'AVG']\n",
      "(30,)\n",
      "(30,)\n",
      "['mean', 'session', 'mou_9', 'raw', 'dset258', 'rs', 'CR', 'AVG']\n",
      "(22,)\n",
      "(22,)\n",
      "['mean', 'session', 'mou_5', 'raw', 'dset273', 'rs', 'CR', 'AVG']\n",
      "(21,)\n",
      "(21,)\n",
      "['mean', 'session', 'mou_7', 'raw', 'dset288', 'rs', 'CR', 'AVG']\n",
      "(27,)\n",
      "(27,)\n",
      "['mean', 'session', 'mou_6', 'bn_session', 'dset249', 'None', 'FA', 'AVG']\n",
      "(30,)\n",
      "(1,)\n",
      "['mean', 'session', 'mou_9', 'bn_session', 'dset264', 'None', 'FA', 'AVG']\n",
      "(22,)\n",
      "(9,)\n",
      "['mean', 'session', 'mou_5', 'bn_session', 'dset279', 'None', 'FA', 'AVG']\n",
      "(21,)\n",
      "(6,)\n",
      "['mean', 'session', 'mou_7', 'bn_session', 'dset294', 'None', 'FA', 'AVG']\n",
      "(27,)\n",
      "(23,)\n",
      "['mean', 'session', 'mou_6', 'bn_trial', 'dset254', 'None', 'FA', 'AVG']\n",
      "(30,)\n",
      "(1,)\n",
      "['mean', 'session', 'mou_9', 'bn_trial', 'dset269', 'None', 'FA', 'AVG']\n",
      "(22,)\n",
      "(9,)\n",
      "['mean', 'session', 'mou_5', 'bn_trial', 'dset284', 'None', 'FA', 'AVG']\n",
      "(21,)\n",
      "(6,)\n",
      "['mean', 'session', 'mou_7', 'bn_trial', 'dset299', 'None', 'FA', 'AVG']\n",
      "(27,)\n",
      "(23,)\n",
      "['mean', 'session', 'mou_6', 'raw', 'dset244', 'rs', 'FA', 'AVG']\n",
      "(30,)\n",
      "(1,)\n",
      "['mean', 'session', 'mou_9', 'raw', 'dset259', 'rs', 'FA', 'AVG']\n",
      "(22,)\n",
      "(9,)\n",
      "['mean', 'session', 'mou_5', 'raw', 'dset274', 'rs', 'FA', 'AVG']\n",
      "(21,)\n",
      "(6,)\n",
      "['mean', 'session', 'mou_7', 'raw', 'dset289', 'rs', 'FA', 'AVG']\n",
      "(27,)\n",
      "(23,)\n",
      "['mean', 'session', 'mou_6', 'bn_session', 'dset246', 'None', 'Hit', 'AVG']\n",
      "(30,)\n",
      "(30,)\n",
      "['mean', 'session', 'mou_9', 'bn_session', 'dset261', 'None', 'Hit', 'AVG']\n",
      "(22,)\n",
      "(22,)\n",
      "['mean', 'session', 'mou_5', 'bn_session', 'dset276', 'None', 'Hit', 'AVG']\n",
      "(21,)\n",
      "(21,)\n",
      "['mean', 'session', 'mou_7', 'bn_session', 'dset291', 'None', 'Hit', 'AVG']\n",
      "(27,)\n",
      "(27,)\n",
      "['mean', 'session', 'mou_6', 'bn_trial', 'dset251', 'None', 'Hit', 'AVG']\n",
      "(30,)\n",
      "(30,)\n",
      "['mean', 'session', 'mou_9', 'bn_trial', 'dset266', 'None', 'Hit', 'AVG']\n",
      "(22,)\n",
      "(22,)\n",
      "['mean', 'session', 'mou_5', 'bn_trial', 'dset281', 'None', 'Hit', 'AVG']\n",
      "(21,)\n",
      "(21,)\n",
      "['mean', 'session', 'mou_7', 'bn_trial', 'dset296', 'None', 'Hit', 'AVG']\n",
      "(27,)\n",
      "(27,)\n",
      "['mean', 'session', 'mou_6', 'raw', 'dset241', 'rs', 'Hit', 'AVG']\n",
      "(30,)\n",
      "(30,)\n",
      "['mean', 'session', 'mou_9', 'raw', 'dset256', 'rs', 'Hit', 'AVG']\n",
      "(22,)\n",
      "(22,)\n",
      "['mean', 'session', 'mou_5', 'raw', 'dset271', 'rs', 'Hit', 'AVG']\n",
      "(21,)\n",
      "(21,)\n",
      "['mean', 'session', 'mou_7', 'raw', 'dset286', 'rs', 'Hit', 'AVG']\n",
      "(27,)\n",
      "(27,)\n",
      "['mean', 'session', 'mou_6', 'bn_session', 'dset247', 'None', 'Miss', 'AVG']\n",
      "(30,)\n",
      "(9,)\n",
      "['mean', 'session', 'mou_9', 'bn_session', 'dset262', 'None', 'Miss', 'AVG']\n",
      "(22,)\n",
      "(15,)\n",
      "['mean', 'session', 'mou_5', 'bn_session', 'dset277', 'None', 'Miss', 'AVG']\n",
      "(21,)\n",
      "(8,)\n",
      "['mean', 'session', 'mou_7', 'bn_session', 'dset292', 'None', 'Miss', 'AVG']\n",
      "(27,)\n",
      "(4,)\n",
      "['mean', 'session', 'mou_6', 'bn_trial', 'dset252', 'None', 'Miss', 'AVG']\n",
      "(30,)\n",
      "(9,)\n",
      "['mean', 'session', 'mou_9', 'bn_trial', 'dset267', 'None', 'Miss', 'AVG']\n",
      "(22,)\n",
      "(15,)\n",
      "['mean', 'session', 'mou_5', 'bn_trial', 'dset282', 'None', 'Miss', 'AVG']\n",
      "(21,)\n",
      "(8,)\n",
      "['mean', 'session', 'mou_7', 'bn_trial', 'dset297', 'None', 'Miss', 'AVG']\n",
      "(27,)\n",
      "(4,)\n",
      "['mean', 'session', 'mou_6', 'raw', 'dset242', 'rs', 'Miss', 'AVG']\n",
      "(30,)\n",
      "(9,)\n",
      "['mean', 'session', 'mou_9', 'raw', 'dset257', 'rs', 'Miss', 'AVG']\n",
      "(22,)\n",
      "(15,)\n",
      "['mean', 'session', 'mou_5', 'raw', 'dset272', 'rs', 'Miss', 'AVG']\n",
      "(21,)\n",
      "(8,)\n",
      "['mean', 'session', 'mou_7', 'raw', 'dset287', 'rs', 'Miss', 'AVG']\n",
      "(27,)\n",
      "(4,)\n",
      "['mean', 'session', 'mou_6', 'bn_session', 'dset245', 'None', 'None', 'AVG']\n",
      "(30,)\n",
      "(30,)\n",
      "['mean', 'session', 'mou_9', 'bn_session', 'dset260', 'None', 'None', 'AVG']\n",
      "(22,)\n",
      "(22,)\n",
      "['mean', 'session', 'mou_5', 'bn_session', 'dset275', 'None', 'None', 'AVG']\n",
      "(21,)\n",
      "(21,)\n",
      "['mean', 'session', 'mou_7', 'bn_session', 'dset290', 'None', 'None', 'AVG']\n",
      "(27,)\n",
      "(27,)\n",
      "['mean', 'session', 'mou_6', 'bn_trial', 'dset250', 'None', 'None', 'AVG']\n",
      "(30,)\n",
      "(30,)\n",
      "['mean', 'session', 'mou_9', 'bn_trial', 'dset265', 'None', 'None', 'AVG']\n",
      "(22,)\n",
      "(22,)\n",
      "['mean', 'session', 'mou_5', 'bn_trial', 'dset280', 'None', 'None', 'AVG']\n",
      "(21,)\n",
      "(21,)\n",
      "['mean', 'session', 'mou_7', 'bn_trial', 'dset295', 'None', 'None', 'AVG']\n",
      "(27,)\n",
      "(27,)\n",
      "['mean', 'session', 'mou_6', 'raw', 'dset240', 'rs', 'None', 'AVG']\n",
      "(30,)\n",
      "(30,)\n",
      "['mean', 'session', 'mou_9', 'raw', 'dset255', 'rs', 'None', 'AVG']\n",
      "(22,)\n",
      "(22,)\n",
      "['mean', 'session', 'mou_5', 'raw', 'dset270', 'rs', 'None', 'AVG']\n",
      "(21,)\n",
      "(21,)\n",
      "['mean', 'session', 'mou_7', 'raw', 'dset285', 'rs', 'None', 'AVG']\n",
      "(27,)\n",
      "(27,)\n",
      "['mean', 'session', 'mou_6', 'bn_session', 'dset128', 'None', 'CR', 'DEL']\n",
      "(30,)\n",
      "(30,)\n",
      "['mean', 'session', 'mou_9', 'bn_session', 'dset143', 'None', 'CR', 'DEL']\n",
      "(22,)\n",
      "(22,)\n",
      "['mean', 'session', 'mou_5', 'bn_session', 'dset158', 'None', 'CR', 'DEL']\n",
      "(21,)\n",
      "(21,)\n",
      "['mean', 'session', 'mou_7', 'bn_session', 'dset173', 'None', 'CR', 'DEL']\n",
      "(27,)\n",
      "(27,)\n",
      "['mean', 'session', 'mou_6', 'bn_trial', 'dset133', 'None', 'CR', 'DEL']\n",
      "(30,)\n",
      "(30,)\n",
      "['mean', 'session', 'mou_9', 'bn_trial', 'dset148', 'None', 'CR', 'DEL']\n",
      "(22,)\n",
      "(22,)\n",
      "['mean', 'session', 'mou_5', 'bn_trial', 'dset163', 'None', 'CR', 'DEL']\n",
      "(21,)\n",
      "(21,)\n",
      "['mean', 'session', 'mou_7', 'bn_trial', 'dset178', 'None', 'CR', 'DEL']\n",
      "(27,)\n",
      "(27,)\n",
      "['mean', 'session', 'mou_6', 'raw', 'dset123', 'rs', 'CR', 'DEL']\n",
      "(30,)\n",
      "(30,)\n",
      "['mean', 'session', 'mou_9', 'raw', 'dset138', 'rs', 'CR', 'DEL']\n",
      "(22,)\n",
      "(22,)\n",
      "['mean', 'session', 'mou_5', 'raw', 'dset153', 'rs', 'CR', 'DEL']\n",
      "(21,)\n",
      "(21,)\n",
      "['mean', 'session', 'mou_7', 'raw', 'dset168', 'rs', 'CR', 'DEL']\n",
      "(27,)\n",
      "(27,)\n",
      "['mean', 'session', 'mou_6', 'bn_session', 'dset129', 'None', 'FA', 'DEL']\n",
      "(30,)\n",
      "(1,)\n",
      "['mean', 'session', 'mou_9', 'bn_session', 'dset144', 'None', 'FA', 'DEL']\n",
      "(22,)\n",
      "(9,)\n",
      "['mean', 'session', 'mou_5', 'bn_session', 'dset159', 'None', 'FA', 'DEL']\n",
      "(21,)\n",
      "(6,)\n",
      "['mean', 'session', 'mou_7', 'bn_session', 'dset174', 'None', 'FA', 'DEL']\n",
      "(27,)\n",
      "(23,)\n",
      "['mean', 'session', 'mou_6', 'bn_trial', 'dset134', 'None', 'FA', 'DEL']\n",
      "(30,)\n",
      "(1,)\n",
      "['mean', 'session', 'mou_9', 'bn_trial', 'dset149', 'None', 'FA', 'DEL']\n",
      "(22,)\n",
      "(9,)\n",
      "['mean', 'session', 'mou_5', 'bn_trial', 'dset164', 'None', 'FA', 'DEL']\n",
      "(21,)\n",
      "(6,)\n",
      "['mean', 'session', 'mou_7', 'bn_trial', 'dset179', 'None', 'FA', 'DEL']\n",
      "(27,)\n",
      "(23,)\n",
      "['mean', 'session', 'mou_6', 'raw', 'dset124', 'rs', 'FA', 'DEL']\n",
      "(30,)\n",
      "(1,)\n",
      "['mean', 'session', 'mou_9', 'raw', 'dset139', 'rs', 'FA', 'DEL']\n",
      "(22,)\n",
      "(9,)\n",
      "['mean', 'session', 'mou_5', 'raw', 'dset154', 'rs', 'FA', 'DEL']\n",
      "(21,)\n",
      "(6,)\n",
      "['mean', 'session', 'mou_7', 'raw', 'dset169', 'rs', 'FA', 'DEL']\n",
      "(27,)\n",
      "(23,)\n",
      "['mean', 'session', 'mou_6', 'bn_session', 'dset126', 'None', 'Hit', 'DEL']\n",
      "(30,)\n",
      "(30,)\n",
      "['mean', 'session', 'mou_9', 'bn_session', 'dset141', 'None', 'Hit', 'DEL']\n",
      "(22,)\n",
      "(22,)\n",
      "['mean', 'session', 'mou_5', 'bn_session', 'dset156', 'None', 'Hit', 'DEL']\n",
      "(21,)\n",
      "(21,)\n",
      "['mean', 'session', 'mou_7', 'bn_session', 'dset171', 'None', 'Hit', 'DEL']\n",
      "(27,)\n",
      "(27,)\n",
      "['mean', 'session', 'mou_6', 'bn_trial', 'dset131', 'None', 'Hit', 'DEL']\n",
      "(30,)\n",
      "(30,)\n",
      "['mean', 'session', 'mou_9', 'bn_trial', 'dset146', 'None', 'Hit', 'DEL']\n",
      "(22,)\n",
      "(22,)\n",
      "['mean', 'session', 'mou_5', 'bn_trial', 'dset161', 'None', 'Hit', 'DEL']\n",
      "(21,)\n",
      "(21,)\n",
      "['mean', 'session', 'mou_7', 'bn_trial', 'dset176', 'None', 'Hit', 'DEL']\n",
      "(27,)\n",
      "(27,)\n",
      "['mean', 'session', 'mou_6', 'raw', 'dset121', 'rs', 'Hit', 'DEL']\n",
      "(30,)\n",
      "(30,)\n",
      "['mean', 'session', 'mou_9', 'raw', 'dset136', 'rs', 'Hit', 'DEL']\n",
      "(22,)\n",
      "(22,)\n",
      "['mean', 'session', 'mou_5', 'raw', 'dset151', 'rs', 'Hit', 'DEL']\n",
      "(21,)\n",
      "(21,)\n",
      "['mean', 'session', 'mou_7', 'raw', 'dset166', 'rs', 'Hit', 'DEL']\n",
      "(27,)\n",
      "(27,)\n",
      "['mean', 'session', 'mou_6', 'bn_session', 'dset127', 'None', 'Miss', 'DEL']\n",
      "(30,)\n",
      "(9,)\n",
      "['mean', 'session', 'mou_9', 'bn_session', 'dset142', 'None', 'Miss', 'DEL']\n",
      "(22,)\n",
      "(15,)\n",
      "['mean', 'session', 'mou_5', 'bn_session', 'dset157', 'None', 'Miss', 'DEL']\n",
      "(21,)\n",
      "(8,)\n",
      "['mean', 'session', 'mou_7', 'bn_session', 'dset172', 'None', 'Miss', 'DEL']\n",
      "(27,)\n",
      "(4,)\n",
      "['mean', 'session', 'mou_6', 'bn_trial', 'dset132', 'None', 'Miss', 'DEL']\n",
      "(30,)\n",
      "(9,)\n",
      "['mean', 'session', 'mou_9', 'bn_trial', 'dset147', 'None', 'Miss', 'DEL']\n",
      "(22,)\n",
      "(15,)\n",
      "['mean', 'session', 'mou_5', 'bn_trial', 'dset162', 'None', 'Miss', 'DEL']\n",
      "(21,)\n",
      "(8,)\n",
      "['mean', 'session', 'mou_7', 'bn_trial', 'dset177', 'None', 'Miss', 'DEL']\n",
      "(27,)\n",
      "(4,)\n",
      "['mean', 'session', 'mou_6', 'raw', 'dset122', 'rs', 'Miss', 'DEL']\n",
      "(30,)\n",
      "(9,)\n",
      "['mean', 'session', 'mou_9', 'raw', 'dset137', 'rs', 'Miss', 'DEL']\n",
      "(22,)\n",
      "(15,)\n",
      "['mean', 'session', 'mou_5', 'raw', 'dset152', 'rs', 'Miss', 'DEL']\n",
      "(21,)\n",
      "(8,)\n",
      "['mean', 'session', 'mou_7', 'raw', 'dset167', 'rs', 'Miss', 'DEL']\n",
      "(27,)\n",
      "(4,)\n"
     ]
    },
    {
     "name": "stdout",
     "output_type": "stream",
     "text": [
      "['mean', 'session', 'mou_6', 'bn_session', 'dset125', 'None', 'None', 'DEL']\n",
      "(30,)\n",
      "(30,)\n",
      "['mean', 'session', 'mou_9', 'bn_session', 'dset140', 'None', 'None', 'DEL']\n",
      "(22,)\n",
      "(22,)\n",
      "['mean', 'session', 'mou_5', 'bn_session', 'dset155', 'None', 'None', 'DEL']\n",
      "(21,)\n",
      "(21,)\n",
      "['mean', 'session', 'mou_7', 'bn_session', 'dset170', 'None', 'None', 'DEL']\n",
      "(27,)\n",
      "(27,)\n",
      "['mean', 'session', 'mou_6', 'bn_trial', 'dset130', 'None', 'None', 'DEL']\n",
      "(30,)\n",
      "(30,)\n",
      "['mean', 'session', 'mou_9', 'bn_trial', 'dset145', 'None', 'None', 'DEL']\n",
      "(22,)\n",
      "(22,)\n",
      "['mean', 'session', 'mou_5', 'bn_trial', 'dset160', 'None', 'None', 'DEL']\n",
      "(21,)\n",
      "(21,)\n",
      "['mean', 'session', 'mou_7', 'bn_trial', 'dset175', 'None', 'None', 'DEL']\n",
      "(27,)\n",
      "(27,)\n",
      "['mean', 'session', 'mou_6', 'raw', 'dset120', 'rs', 'None', 'DEL']\n",
      "(30,)\n",
      "(30,)\n",
      "['mean', 'session', 'mou_9', 'raw', 'dset135', 'rs', 'None', 'DEL']\n",
      "(22,)\n",
      "(22,)\n",
      "['mean', 'session', 'mou_5', 'raw', 'dset150', 'rs', 'None', 'DEL']\n",
      "(21,)\n",
      "(21,)\n",
      "['mean', 'session', 'mou_7', 'raw', 'dset165', 'rs', 'None', 'DEL']\n",
      "(27,)\n",
      "(27,)\n",
      "['mean', 'session', 'mou_6', 'bn_session', 'dset188', 'None', 'CR', 'REW']\n",
      "(30,)\n",
      "(30,)\n",
      "['mean', 'session', 'mou_9', 'bn_session', 'dset203', 'None', 'CR', 'REW']\n",
      "(22,)\n",
      "(22,)\n",
      "['mean', 'session', 'mou_5', 'bn_session', 'dset218', 'None', 'CR', 'REW']\n",
      "(21,)\n",
      "(21,)\n",
      "['mean', 'session', 'mou_7', 'bn_session', 'dset233', 'None', 'CR', 'REW']\n",
      "(27,)\n",
      "(27,)\n",
      "['mean', 'session', 'mou_6', 'bn_trial', 'dset193', 'None', 'CR', 'REW']\n",
      "(30,)\n",
      "(30,)\n",
      "['mean', 'session', 'mou_9', 'bn_trial', 'dset208', 'None', 'CR', 'REW']\n",
      "(22,)\n",
      "(22,)\n",
      "['mean', 'session', 'mou_5', 'bn_trial', 'dset223', 'None', 'CR', 'REW']\n",
      "(21,)\n",
      "(21,)\n",
      "['mean', 'session', 'mou_7', 'bn_trial', 'dset238', 'None', 'CR', 'REW']\n",
      "(27,)\n",
      "(27,)\n",
      "['mean', 'session', 'mou_6', 'raw', 'dset183', 'rs', 'CR', 'REW']\n",
      "(30,)\n",
      "(30,)\n",
      "['mean', 'session', 'mou_9', 'raw', 'dset198', 'rs', 'CR', 'REW']\n",
      "(22,)\n",
      "(22,)\n",
      "['mean', 'session', 'mou_5', 'raw', 'dset213', 'rs', 'CR', 'REW']\n",
      "(21,)\n",
      "(21,)\n",
      "['mean', 'session', 'mou_7', 'raw', 'dset228', 'rs', 'CR', 'REW']\n",
      "(27,)\n",
      "(27,)\n",
      "['mean', 'session', 'mou_6', 'bn_session', 'dset189', 'None', 'FA', 'REW']\n",
      "(30,)\n",
      "(1,)\n",
      "['mean', 'session', 'mou_9', 'bn_session', 'dset204', 'None', 'FA', 'REW']\n",
      "(22,)\n",
      "(9,)\n",
      "['mean', 'session', 'mou_5', 'bn_session', 'dset219', 'None', 'FA', 'REW']\n",
      "(21,)\n",
      "(6,)\n",
      "['mean', 'session', 'mou_7', 'bn_session', 'dset234', 'None', 'FA', 'REW']\n",
      "(27,)\n",
      "(23,)\n",
      "['mean', 'session', 'mou_6', 'bn_trial', 'dset194', 'None', 'FA', 'REW']\n",
      "(30,)\n",
      "(1,)\n",
      "['mean', 'session', 'mou_9', 'bn_trial', 'dset209', 'None', 'FA', 'REW']\n",
      "(22,)\n",
      "(9,)\n",
      "['mean', 'session', 'mou_5', 'bn_trial', 'dset224', 'None', 'FA', 'REW']\n",
      "(21,)\n",
      "(6,)\n",
      "['mean', 'session', 'mou_7', 'bn_trial', 'dset239', 'None', 'FA', 'REW']\n",
      "(27,)\n",
      "(23,)\n",
      "['mean', 'session', 'mou_6', 'raw', 'dset184', 'rs', 'FA', 'REW']\n",
      "(30,)\n",
      "(1,)\n",
      "['mean', 'session', 'mou_9', 'raw', 'dset199', 'rs', 'FA', 'REW']\n",
      "(22,)\n",
      "(9,)\n",
      "['mean', 'session', 'mou_5', 'raw', 'dset214', 'rs', 'FA', 'REW']\n",
      "(21,)\n",
      "(6,)\n",
      "['mean', 'session', 'mou_7', 'raw', 'dset229', 'rs', 'FA', 'REW']\n",
      "(27,)\n",
      "(23,)\n",
      "['mean', 'session', 'mou_6', 'bn_session', 'dset186', 'None', 'Hit', 'REW']\n",
      "(30,)\n",
      "(30,)\n",
      "['mean', 'session', 'mou_9', 'bn_session', 'dset201', 'None', 'Hit', 'REW']\n",
      "(22,)\n",
      "(22,)\n",
      "['mean', 'session', 'mou_5', 'bn_session', 'dset216', 'None', 'Hit', 'REW']\n",
      "(21,)\n",
      "(21,)\n",
      "['mean', 'session', 'mou_7', 'bn_session', 'dset231', 'None', 'Hit', 'REW']\n",
      "(27,)\n",
      "(27,)\n",
      "['mean', 'session', 'mou_6', 'bn_trial', 'dset191', 'None', 'Hit', 'REW']\n",
      "(30,)\n",
      "(30,)\n",
      "['mean', 'session', 'mou_9', 'bn_trial', 'dset206', 'None', 'Hit', 'REW']\n",
      "(22,)\n",
      "(22,)\n",
      "['mean', 'session', 'mou_5', 'bn_trial', 'dset221', 'None', 'Hit', 'REW']\n",
      "(21,)\n",
      "(21,)\n",
      "['mean', 'session', 'mou_7', 'bn_trial', 'dset236', 'None', 'Hit', 'REW']\n",
      "(27,)\n",
      "(27,)\n",
      "['mean', 'session', 'mou_6', 'raw', 'dset181', 'rs', 'Hit', 'REW']\n",
      "(30,)\n",
      "(30,)\n",
      "['mean', 'session', 'mou_9', 'raw', 'dset196', 'rs', 'Hit', 'REW']\n",
      "(22,)\n",
      "(22,)\n",
      "['mean', 'session', 'mou_5', 'raw', 'dset211', 'rs', 'Hit', 'REW']\n",
      "(21,)\n",
      "(21,)\n",
      "['mean', 'session', 'mou_7', 'raw', 'dset226', 'rs', 'Hit', 'REW']\n",
      "(27,)\n",
      "(27,)\n",
      "['mean', 'session', 'mou_6', 'bn_session', 'dset187', 'None', 'Miss', 'REW']\n",
      "(30,)\n",
      "(9,)\n",
      "['mean', 'session', 'mou_9', 'bn_session', 'dset202', 'None', 'Miss', 'REW']\n",
      "(22,)\n",
      "(15,)\n",
      "['mean', 'session', 'mou_5', 'bn_session', 'dset217', 'None', 'Miss', 'REW']\n",
      "(21,)\n",
      "(8,)\n",
      "['mean', 'session', 'mou_7', 'bn_session', 'dset232', 'None', 'Miss', 'REW']\n",
      "(27,)\n",
      "(4,)\n",
      "['mean', 'session', 'mou_6', 'bn_trial', 'dset192', 'None', 'Miss', 'REW']\n",
      "(30,)\n",
      "(9,)\n",
      "['mean', 'session', 'mou_9', 'bn_trial', 'dset207', 'None', 'Miss', 'REW']\n",
      "(22,)\n",
      "(15,)\n",
      "['mean', 'session', 'mou_5', 'bn_trial', 'dset222', 'None', 'Miss', 'REW']\n",
      "(21,)\n",
      "(8,)\n",
      "['mean', 'session', 'mou_7', 'bn_trial', 'dset237', 'None', 'Miss', 'REW']\n",
      "(27,)\n",
      "(4,)\n",
      "['mean', 'session', 'mou_6', 'raw', 'dset182', 'rs', 'Miss', 'REW']\n",
      "(30,)\n",
      "(9,)\n",
      "['mean', 'session', 'mou_9', 'raw', 'dset197', 'rs', 'Miss', 'REW']\n",
      "(22,)\n",
      "(15,)\n",
      "['mean', 'session', 'mou_5', 'raw', 'dset212', 'rs', 'Miss', 'REW']\n",
      "(21,)\n",
      "(8,)\n",
      "['mean', 'session', 'mou_7', 'raw', 'dset227', 'rs', 'Miss', 'REW']\n",
      "(27,)\n",
      "(4,)\n",
      "['mean', 'session', 'mou_6', 'bn_session', 'dset185', 'None', 'None', 'REW']\n",
      "(30,)\n",
      "(30,)\n",
      "['mean', 'session', 'mou_9', 'bn_session', 'dset200', 'None', 'None', 'REW']\n",
      "(22,)\n",
      "(22,)\n",
      "['mean', 'session', 'mou_5', 'bn_session', 'dset215', 'None', 'None', 'REW']\n",
      "(21,)\n",
      "(21,)\n",
      "['mean', 'session', 'mou_7', 'bn_session', 'dset230', 'None', 'None', 'REW']\n",
      "(27,)\n",
      "(27,)\n",
      "['mean', 'session', 'mou_6', 'bn_trial', 'dset190', 'None', 'None', 'REW']\n",
      "(30,)\n",
      "(30,)\n",
      "['mean', 'session', 'mou_9', 'bn_trial', 'dset205', 'None', 'None', 'REW']\n",
      "(22,)\n",
      "(22,)\n",
      "['mean', 'session', 'mou_5', 'bn_trial', 'dset220', 'None', 'None', 'REW']\n",
      "(21,)\n",
      "(21,)\n",
      "['mean', 'session', 'mou_7', 'bn_trial', 'dset235', 'None', 'None', 'REW']\n",
      "(27,)\n",
      "(27,)\n",
      "['mean', 'session', 'mou_6', 'raw', 'dset180', 'rs', 'None', 'REW']\n",
      "(30,)\n",
      "(30,)\n",
      "['mean', 'session', 'mou_9', 'raw', 'dset195', 'rs', 'None', 'REW']\n",
      "(22,)\n",
      "(22,)\n",
      "['mean', 'session', 'mou_5', 'raw', 'dset210', 'rs', 'None', 'REW']\n",
      "(21,)\n",
      "(21,)\n",
      "['mean', 'session', 'mou_7', 'raw', 'dset225', 'rs', 'None', 'REW']\n",
      "(27,)\n",
      "(27,)\n",
      "['mean', 'session', 'mou_7', 'bn_session', 'dset113', 'None', 'CR', 'TEX']\n",
      "(27,)\n",
      "(27,)\n",
      "['mean', 'session', 'mou_6', 'bn_session', 'dset68', 'None', 'CR', 'TEX']\n",
      "(30,)\n",
      "(30,)\n",
      "['mean', 'session', 'mou_9', 'bn_session', 'dset83', 'None', 'CR', 'TEX']\n",
      "(22,)\n",
      "(22,)\n",
      "['mean', 'session', 'mou_5', 'bn_session', 'dset98', 'None', 'CR', 'TEX']\n",
      "(21,)\n",
      "(21,)\n",
      "['mean', 'session', 'mou_5', 'bn_trial', 'dset103', 'None', 'CR', 'TEX']\n",
      "(21,)\n",
      "(21,)\n",
      "['mean', 'session', 'mou_7', 'bn_trial', 'dset118', 'None', 'CR', 'TEX']\n",
      "(27,)\n",
      "(27,)\n",
      "['mean', 'session', 'mou_6', 'bn_trial', 'dset73', 'None', 'CR', 'TEX']\n",
      "(30,)\n",
      "(30,)\n",
      "['mean', 'session', 'mou_9', 'bn_trial', 'dset88', 'None', 'CR', 'TEX']\n",
      "(22,)\n",
      "(22,)\n",
      "['mean', 'session', 'mou_7', 'raw', 'dset108', 'rs', 'CR', 'TEX']\n",
      "(27,)\n",
      "(27,)\n",
      "['mean', 'session', 'mou_6', 'raw', 'dset63', 'rs', 'CR', 'TEX']\n",
      "(30,)\n",
      "(30,)\n",
      "['mean', 'session', 'mou_9', 'raw', 'dset78', 'rs', 'CR', 'TEX']\n",
      "(22,)\n",
      "(22,)\n",
      "['mean', 'session', 'mou_5', 'raw', 'dset93', 'rs', 'CR', 'TEX']\n",
      "(21,)\n",
      "(21,)\n",
      "['mean', 'session', 'mou_7', 'bn_session', 'dset114', 'None', 'FA', 'TEX']\n",
      "(27,)\n",
      "(23,)\n",
      "['mean', 'session', 'mou_6', 'bn_session', 'dset69', 'None', 'FA', 'TEX']\n",
      "(30,)\n",
      "(1,)\n",
      "['mean', 'session', 'mou_9', 'bn_session', 'dset84', 'None', 'FA', 'TEX']\n",
      "(22,)\n",
      "(9,)\n",
      "['mean', 'session', 'mou_5', 'bn_session', 'dset99', 'None', 'FA', 'TEX']\n",
      "(21,)\n",
      "(6,)\n",
      "['mean', 'session', 'mou_5', 'bn_trial', 'dset104', 'None', 'FA', 'TEX']\n",
      "(21,)\n",
      "(6,)\n",
      "['mean', 'session', 'mou_7', 'bn_trial', 'dset119', 'None', 'FA', 'TEX']\n",
      "(27,)\n",
      "(23,)\n",
      "['mean', 'session', 'mou_6', 'bn_trial', 'dset74', 'None', 'FA', 'TEX']\n",
      "(30,)\n",
      "(1,)\n",
      "['mean', 'session', 'mou_9', 'bn_trial', 'dset89', 'None', 'FA', 'TEX']\n",
      "(22,)\n",
      "(9,)\n",
      "['mean', 'session', 'mou_7', 'raw', 'dset109', 'rs', 'FA', 'TEX']\n",
      "(27,)\n",
      "(23,)\n",
      "['mean', 'session', 'mou_6', 'raw', 'dset64', 'rs', 'FA', 'TEX']\n",
      "(30,)\n",
      "(1,)\n",
      "['mean', 'session', 'mou_9', 'raw', 'dset79', 'rs', 'FA', 'TEX']\n",
      "(22,)\n",
      "(9,)\n",
      "['mean', 'session', 'mou_5', 'raw', 'dset94', 'rs', 'FA', 'TEX']\n",
      "(21,)\n",
      "(6,)\n",
      "['mean', 'session', 'mou_7', 'bn_session', 'dset111', 'None', 'Hit', 'TEX']\n",
      "(27,)\n",
      "(27,)\n",
      "['mean', 'session', 'mou_6', 'bn_session', 'dset66', 'None', 'Hit', 'TEX']\n",
      "(30,)\n",
      "(30,)\n",
      "['mean', 'session', 'mou_9', 'bn_session', 'dset81', 'None', 'Hit', 'TEX']\n",
      "(22,)\n",
      "(22,)\n",
      "['mean', 'session', 'mou_5', 'bn_session', 'dset96', 'None', 'Hit', 'TEX']\n",
      "(21,)\n",
      "(21,)\n",
      "['mean', 'session', 'mou_5', 'bn_trial', 'dset101', 'None', 'Hit', 'TEX']\n",
      "(21,)\n",
      "(21,)\n",
      "['mean', 'session', 'mou_7', 'bn_trial', 'dset116', 'None', 'Hit', 'TEX']\n",
      "(27,)\n",
      "(27,)\n",
      "['mean', 'session', 'mou_6', 'bn_trial', 'dset71', 'None', 'Hit', 'TEX']\n",
      "(30,)\n",
      "(30,)\n",
      "['mean', 'session', 'mou_9', 'bn_trial', 'dset86', 'None', 'Hit', 'TEX']\n",
      "(22,)\n",
      "(22,)\n",
      "['mean', 'session', 'mou_7', 'raw', 'dset106', 'rs', 'Hit', 'TEX']\n",
      "(27,)\n",
      "(27,)\n",
      "['mean', 'session', 'mou_6', 'raw', 'dset61', 'rs', 'Hit', 'TEX']\n",
      "(30,)\n",
      "(30,)\n",
      "['mean', 'session', 'mou_9', 'raw', 'dset76', 'rs', 'Hit', 'TEX']\n",
      "(22,)\n",
      "(22,)\n",
      "['mean', 'session', 'mou_5', 'raw', 'dset91', 'rs', 'Hit', 'TEX']\n",
      "(21,)\n",
      "(21,)\n",
      "['mean', 'session', 'mou_7', 'bn_session', 'dset112', 'None', 'Miss', 'TEX']\n",
      "(27,)\n",
      "(4,)\n",
      "['mean', 'session', 'mou_6', 'bn_session', 'dset67', 'None', 'Miss', 'TEX']\n",
      "(30,)\n",
      "(9,)\n",
      "['mean', 'session', 'mou_9', 'bn_session', 'dset82', 'None', 'Miss', 'TEX']\n",
      "(22,)\n",
      "(15,)\n",
      "['mean', 'session', 'mou_5', 'bn_session', 'dset97', 'None', 'Miss', 'TEX']\n",
      "(21,)\n",
      "(8,)\n"
     ]
    },
    {
     "name": "stdout",
     "output_type": "stream",
     "text": [
      "['mean', 'session', 'mou_5', 'bn_trial', 'dset102', 'None', 'Miss', 'TEX']\n",
      "(21,)\n",
      "(8,)\n",
      "['mean', 'session', 'mou_7', 'bn_trial', 'dset117', 'None', 'Miss', 'TEX']\n",
      "(27,)\n",
      "(4,)\n",
      "['mean', 'session', 'mou_6', 'bn_trial', 'dset72', 'None', 'Miss', 'TEX']\n",
      "(30,)\n",
      "(9,)\n",
      "['mean', 'session', 'mou_9', 'bn_trial', 'dset87', 'None', 'Miss', 'TEX']\n",
      "(22,)\n",
      "(15,)\n",
      "['mean', 'session', 'mou_7', 'raw', 'dset107', 'rs', 'Miss', 'TEX']\n",
      "(27,)\n",
      "(4,)\n",
      "['mean', 'session', 'mou_6', 'raw', 'dset62', 'rs', 'Miss', 'TEX']\n",
      "(30,)\n",
      "(9,)\n",
      "['mean', 'session', 'mou_9', 'raw', 'dset77', 'rs', 'Miss', 'TEX']\n",
      "(22,)\n",
      "(15,)\n",
      "['mean', 'session', 'mou_5', 'raw', 'dset92', 'rs', 'Miss', 'TEX']\n",
      "(21,)\n",
      "(8,)\n",
      "['mean', 'session', 'mou_7', 'bn_session', 'dset110', 'None', 'None', 'TEX']\n",
      "(27,)\n",
      "(27,)\n",
      "['mean', 'session', 'mou_6', 'bn_session', 'dset65', 'None', 'None', 'TEX']\n",
      "(30,)\n",
      "(30,)\n",
      "['mean', 'session', 'mou_9', 'bn_session', 'dset80', 'None', 'None', 'TEX']\n",
      "(22,)\n",
      "(22,)\n",
      "['mean', 'session', 'mou_5', 'bn_session', 'dset95', 'None', 'None', 'TEX']\n",
      "(21,)\n",
      "(21,)\n",
      "['mean', 'session', 'mou_5', 'bn_trial', 'dset100', 'None', 'None', 'TEX']\n",
      "(21,)\n",
      "(21,)\n",
      "['mean', 'session', 'mou_7', 'bn_trial', 'dset115', 'None', 'None', 'TEX']\n",
      "(27,)\n",
      "(27,)\n",
      "['mean', 'session', 'mou_6', 'bn_trial', 'dset70', 'None', 'None', 'TEX']\n",
      "(30,)\n",
      "(30,)\n",
      "['mean', 'session', 'mou_9', 'bn_trial', 'dset85', 'None', 'None', 'TEX']\n",
      "(22,)\n",
      "(22,)\n",
      "['mean', 'session', 'mou_7', 'raw', 'dset105', 'rs', 'None', 'TEX']\n",
      "(27,)\n",
      "(27,)\n",
      "['mean', 'session', 'mou_6', 'raw', 'dset60', 'rs', 'None', 'TEX']\n",
      "(30,)\n",
      "(30,)\n",
      "['mean', 'session', 'mou_9', 'raw', 'dset75', 'rs', 'None', 'TEX']\n",
      "(22,)\n",
      "(22,)\n",
      "['mean', 'session', 'mou_5', 'raw', 'dset90', 'rs', 'None', 'TEX']\n",
      "(21,)\n",
      "(21,)\n"
     ]
    }
   ],
   "source": [
    "# bulk_metrics.scatter_metric_bulk(ds, 'mean', 'session', verbose=False, xlim=[0, 1],\n",
    "#                               xFunc=lambda m, l: dataDB.get_performance_mouse(m), haveRegression=True)\n",
    "\n",
    "bulk_metrics.scatter_metric_bulk(ds, 'mean', 'session', verbose=False, xFunc=None, haveRegression=False)"
   ]
  },
  {
   "cell_type": "markdown",
   "metadata": {},
   "source": [
    "### 1.3 Conditions"
   ]
  },
  {
   "cell_type": "code",
   "execution_count": 13,
   "metadata": {},
   "outputs": [],
   "source": [
    "bulk_metrics.barplot_conditions(ds, 'mean', 'session', verbose=True)"
   ]
  },
  {
   "cell_type": "markdown",
   "metadata": {},
   "source": [
    "## 2. Variance\n",
    "\n",
    "**TODO**\n",
    "* Plot trial variance relative to temporal variance\n",
    "* Plot mean with variance together\n",
    "\n",
    "### Pros/Cons of Baseline Normalization\n",
    "* DFF-Trial\n",
    "    - Pos: Removes dynamic baseline changing on the order of trials.\n",
    "    - Pos: Under assumption of signal-free pre-trial interval, baseline removal enhances relative change in significant activity during trial.\n",
    "    - Neg: In presence of correlation between pre-trial interval and trial signals, this procedure destroys information during trial.\n",
    "\n",
    "* DFF-Session vs ZScore-Session\n",
    "    - Both linear transforms\n",
    "    - Mean is more meaningful for DFF if pre-trial interval is at least somewhat stable\n",
    "    - Va"
   ]
  },
  {
   "cell_type": "code",
   "execution_count": 17,
   "metadata": {
    "scrolled": true
   },
   "outputs": [
    {
     "data": {
      "application/vnd.jupyter.widget-view+json": {
       "model_id": "1493de30714d40aeb25c1a11ac428305",
       "version_major": 2,
       "version_minor": 0
      },
      "text/plain": [
       "IntProgress(value=0, description='time', max=60)"
      ]
     },
     "metadata": {},
     "output_type": "display_data"
    },
    {
     "name": "stdout",
     "output_type": "stream",
     "text": [
      "(4784, 160, 27)\n",
      "(1724, 160, 27)\n",
      "(251, 160, 27)\n",
      "(1910, 160, 27)\n",
      "(91, 160, 27)\n",
      "(4784, 160, 27)\n",
      "(1724, 160, 27)\n",
      "(251, 160, 27)\n",
      "(1910, 160, 27)\n",
      "(91, 160, 27)\n",
      "(4784, 160, 27)\n",
      "(1724, 160, 27)\n",
      "(251, 160, 27)\n",
      "(1910, 160, 27)\n",
      "(91, 160, 27)\n",
      "(3441, 160, 27)\n",
      "(1116, 160, 27)\n",
      "(311, 160, 27)\n",
      "(1257, 160, 27)\n",
      "(174, 160, 27)\n",
      "(3441, 160, 27)\n",
      "(1116, 160, 27)\n",
      "(311, 160, 27)\n",
      "(1257, 160, 27)\n",
      "(174, 160, 27)\n",
      "(3441, 160, 27)\n",
      "(1116, 160, 27)\n",
      "(311, 160, 27)\n",
      "(1257, 160, 27)\n",
      "(174, 160, 27)\n",
      "(3967, 160, 27)\n",
      "(1209, 160, 27)\n",
      "(239, 160, 27)\n",
      "(1315, 160, 27)\n",
      "(144, 160, 27)\n",
      "(3967, 160, 27)\n",
      "(1209, 160, 27)\n",
      "(239, 160, 27)\n",
      "(1315, 160, 27)\n",
      "(144, 160, 27)\n",
      "(3967, 160, 27)\n",
      "(1209, 160, 27)\n",
      "(239, 160, 27)\n",
      "(1315, 160, 27)\n",
      "(144, 160, 27)\n",
      "(5567, 160, 27)\n",
      "(1432, 160, 27)\n",
      "(159, 160, 27)\n",
      "(1398, 160, 27)\n",
      "(524, 160, 27)\n",
      "(5567, 160, 27)\n",
      "(1432, 160, 27)\n",
      "(159, 160, 27)\n",
      "(1398, 160, 27)\n",
      "(524, 160, 27)\n",
      "(5567, 160, 27)\n",
      "(1432, 160, 27)\n",
      "(159, 160, 27)\n",
      "(1398, 160, 27)\n",
      "(524, 160, 27)\n"
     ]
    }
   ],
   "source": [
    "bulk_metrics.metric_mouse_bulk(dataDB, mc, ds, 'varmean', 's', 'time', verbose=False, minTrials=50,\n",
    "                               trialTypeNames='auto')"
   ]
  },
  {
   "cell_type": "code",
   "execution_count": 18,
   "metadata": {
    "scrolled": true
   },
   "outputs": [
    {
     "name": "stdout",
     "output_type": "stream",
     "text": [
      "['varmean', 'time', 'mou_9', 'bn_session', 'dset23', 'None', 'CR']\n",
      "['varmean', 'time', 'mou_5', 'bn_session', 'dset38', 'None', 'CR']\n",
      "['varmean', 'time', 'mou_7', 'bn_session', 'dset53', 'None', 'CR']\n",
      "['varmean', 'time', 'mou_6', 'bn_session', 'dset8', 'None', 'CR']\n",
      "['varmean', 'time', 'mou_6', 'bn_trial', 'dset13', 'None', 'CR']\n",
      "['varmean', 'time', 'mou_9', 'bn_trial', 'dset28', 'None', 'CR']\n",
      "['varmean', 'time', 'mou_5', 'bn_trial', 'dset43', 'None', 'CR']\n",
      "['varmean', 'time', 'mou_7', 'bn_trial', 'dset58', 'None', 'CR']\n",
      "['varmean', 'time', 'mou_9', 'raw', 'dset18', 'rs', 'CR']\n",
      "['varmean', 'time', 'mou_6', 'raw', 'dset3', 'rs', 'CR']\n",
      "['varmean', 'time', 'mou_5', 'raw', 'dset33', 'rs', 'CR']\n",
      "['varmean', 'time', 'mou_7', 'raw', 'dset48', 'rs', 'CR']\n",
      "['varmean', 'time', 'mou_9', 'bn_session', 'dset24', 'None', 'FA']\n",
      "['varmean', 'time', 'mou_5', 'bn_session', 'dset39', 'None', 'FA']\n",
      "['varmean', 'time', 'mou_7', 'bn_session', 'dset54', 'None', 'FA']\n",
      "['varmean', 'time', 'mou_6', 'bn_session', 'dset9', 'None', 'FA']\n",
      "['varmean', 'time', 'mou_6', 'bn_trial', 'dset14', 'None', 'FA']\n",
      "['varmean', 'time', 'mou_9', 'bn_trial', 'dset29', 'None', 'FA']\n",
      "['varmean', 'time', 'mou_5', 'bn_trial', 'dset44', 'None', 'FA']\n",
      "['varmean', 'time', 'mou_7', 'bn_trial', 'dset59', 'None', 'FA']\n",
      "['varmean', 'time', 'mou_9', 'raw', 'dset19', 'rs', 'FA']\n",
      "['varmean', 'time', 'mou_5', 'raw', 'dset34', 'rs', 'FA']\n",
      "['varmean', 'time', 'mou_6', 'raw', 'dset4', 'rs', 'FA']\n",
      "['varmean', 'time', 'mou_7', 'raw', 'dset49', 'rs', 'FA']\n",
      "['varmean', 'time', 'mou_9', 'bn_session', 'dset21', 'None', 'Hit']\n",
      "['varmean', 'time', 'mou_5', 'bn_session', 'dset36', 'None', 'Hit']\n",
      "['varmean', 'time', 'mou_7', 'bn_session', 'dset51', 'None', 'Hit']\n",
      "['varmean', 'time', 'mou_6', 'bn_session', 'dset6', 'None', 'Hit']\n",
      "['varmean', 'time', 'mou_6', 'bn_trial', 'dset11', 'None', 'Hit']\n",
      "['varmean', 'time', 'mou_9', 'bn_trial', 'dset26', 'None', 'Hit']\n",
      "['varmean', 'time', 'mou_5', 'bn_trial', 'dset41', 'None', 'Hit']\n",
      "['varmean', 'time', 'mou_7', 'bn_trial', 'dset56', 'None', 'Hit']\n",
      "['varmean', 'time', 'mou_6', 'raw', 'dset1', 'rs', 'Hit']\n",
      "['varmean', 'time', 'mou_9', 'raw', 'dset16', 'rs', 'Hit']\n",
      "['varmean', 'time', 'mou_5', 'raw', 'dset31', 'rs', 'Hit']\n",
      "['varmean', 'time', 'mou_7', 'raw', 'dset46', 'rs', 'Hit']\n",
      "['varmean', 'time', 'mou_9', 'bn_session', 'dset22', 'None', 'Miss']\n",
      "['varmean', 'time', 'mou_5', 'bn_session', 'dset37', 'None', 'Miss']\n",
      "['varmean', 'time', 'mou_7', 'bn_session', 'dset52', 'None', 'Miss']\n",
      "['varmean', 'time', 'mou_6', 'bn_session', 'dset7', 'None', 'Miss']\n",
      "['varmean', 'time', 'mou_6', 'bn_trial', 'dset12', 'None', 'Miss']\n",
      "['varmean', 'time', 'mou_9', 'bn_trial', 'dset27', 'None', 'Miss']\n",
      "['varmean', 'time', 'mou_5', 'bn_trial', 'dset42', 'None', 'Miss']\n",
      "['varmean', 'time', 'mou_7', 'bn_trial', 'dset57', 'None', 'Miss']\n",
      "['varmean', 'time', 'mou_9', 'raw', 'dset17', 'rs', 'Miss']\n",
      "['varmean', 'time', 'mou_6', 'raw', 'dset2', 'rs', 'Miss']\n",
      "['varmean', 'time', 'mou_5', 'raw', 'dset32', 'rs', 'Miss']\n",
      "['varmean', 'time', 'mou_7', 'raw', 'dset47', 'rs', 'Miss']\n",
      "['varmean', 'time', 'mou_9', 'bn_session', 'dset20', 'None', 'None']\n",
      "['varmean', 'time', 'mou_5', 'bn_session', 'dset35', 'None', 'None']\n",
      "['varmean', 'time', 'mou_6', 'bn_session', 'dset5', 'None', 'None']\n",
      "['varmean', 'time', 'mou_7', 'bn_session', 'dset50', 'None', 'None']\n",
      "['varmean', 'time', 'mou_6', 'bn_trial', 'dset10', 'None', 'None']\n",
      "['varmean', 'time', 'mou_9', 'bn_trial', 'dset25', 'None', 'None']\n",
      "['varmean', 'time', 'mou_5', 'bn_trial', 'dset40', 'None', 'None']\n",
      "['varmean', 'time', 'mou_7', 'bn_trial', 'dset55', 'None', 'None']\n",
      "['varmean', 'time', 'mou_6', 'raw', 'dset0', 'rs', 'None']\n",
      "['varmean', 'time', 'mou_9', 'raw', 'dset15', 'rs', 'None']\n",
      "['varmean', 'time', 'mou_5', 'raw', 'dset30', 'rs', 'None']\n",
      "['varmean', 'time', 'mou_7', 'raw', 'dset45', 'rs', 'None']\n"
     ]
    }
   ],
   "source": [
    "bulk_metrics.plot_metric_bulk(ds, 'varmean', 'time',\n",
    "                              ylim=[0,None], verbose=False, xFunc=lambda m, l: dataDB.get_times())"
   ]
  },
  {
   "cell_type": "markdown",
   "metadata": {},
   "source": [
    "### Session"
   ]
  },
  {
   "cell_type": "code",
   "execution_count": 21,
   "metadata": {
    "scrolled": true
   },
   "outputs": [
    {
     "data": {
      "application/vnd.jupyter.widget-view+json": {
       "model_id": "de23c86518ff4e979dc5f48781606b8c",
       "version_major": 2,
       "version_minor": 0
      },
      "text/plain": [
       "IntProgress(value=0, description='session', max=36)"
      ]
     },
     "metadata": {},
     "output_type": "display_data"
    },
    {
     "data": {
      "application/vnd.jupyter.widget-view+json": {
       "model_id": "3c98eec6f07e43b3ab0c0ce19fc7a839",
       "version_major": 2,
       "version_minor": 0
      },
      "text/plain": [
       "IntProgress(value=0, description='mou_6', max=30)"
      ]
     },
     "metadata": {},
     "output_type": "display_data"
    },
    {
     "data": {
      "application/vnd.jupyter.widget-view+json": {
       "model_id": "efb6bf2f8b1448cba02d8c786aa97baa",
       "version_major": 2,
       "version_minor": 0
      },
      "text/plain": [
       "IntProgress(value=0, description='mou_6', max=30)"
      ]
     },
     "metadata": {},
     "output_type": "display_data"
    },
    {
     "name": "stdout",
     "output_type": "stream",
     "text": [
      "Warning: skipping session with too few trials 18\n",
      "Warning: skipping session with too few trials 49\n",
      "Warning: skipping session with too few trials 49\n",
      "Warning: skipping session with too few trials 43\n",
      "Warning: skipping session with too few trials 27\n",
      "Warning: skipping session with too few trials 48\n",
      "Warning: skipping session with too few trials 31\n",
      "Warning: skipping session with too few trials 42\n",
      "Warning: skipping session with too few trials 36\n"
     ]
    },
    {
     "data": {
      "application/vnd.jupyter.widget-view+json": {
       "model_id": "852b9dd366c64409b9ef62639b86d9df",
       "version_major": 2,
       "version_minor": 0
      },
      "text/plain": [
       "IntProgress(value=0, description='mou_6', max=30)"
      ]
     },
     "metadata": {},
     "output_type": "display_data"
    },
    {
     "name": "stdout",
     "output_type": "stream",
     "text": [
      "Warning: skipping session with too few trials 23\n",
      "Warning: skipping session with too few trials 37\n",
      "Warning: skipping session with too few trials 43\n",
      "Warning: skipping session with too few trials 30\n",
      "Warning: skipping session with too few trials 48\n",
      "Warning: skipping session with too few trials 44\n",
      "Warning: skipping session with too few trials 44\n",
      "Warning: skipping session with too few trials 42\n"
     ]
    },
    {
     "data": {
      "application/vnd.jupyter.widget-view+json": {
       "model_id": "e8226e958c5249278f6275fcb553db7c",
       "version_major": 2,
       "version_minor": 0
      },
      "text/plain": [
       "IntProgress(value=0, description='mou_6', max=30)"
      ]
     },
     "metadata": {},
     "output_type": "display_data"
    },
    {
     "data": {
      "application/vnd.jupyter.widget-view+json": {
       "model_id": "1422622eefa54a869716c9568e7a3487",
       "version_major": 2,
       "version_minor": 0
      },
      "text/plain": [
       "IntProgress(value=0, description='mou_6', max=30)"
      ]
     },
     "metadata": {},
     "output_type": "display_data"
    },
    {
     "name": "stdout",
     "output_type": "stream",
     "text": [
      "Warning: skipping session with too few trials 18\n",
      "Warning: skipping session with too few trials 49\n",
      "Warning: skipping session with too few trials 49\n",
      "Warning: skipping session with too few trials 43\n",
      "Warning: skipping session with too few trials 27\n",
      "Warning: skipping session with too few trials 48\n",
      "Warning: skipping session with too few trials 31\n",
      "Warning: skipping session with too few trials 42\n",
      "Warning: skipping session with too few trials 36\n"
     ]
    },
    {
     "data": {
      "application/vnd.jupyter.widget-view+json": {
       "model_id": "aa3f242710fd45d29b0655880ce502e1",
       "version_major": 2,
       "version_minor": 0
      },
      "text/plain": [
       "IntProgress(value=0, description='mou_6', max=30)"
      ]
     },
     "metadata": {},
     "output_type": "display_data"
    },
    {
     "name": "stdout",
     "output_type": "stream",
     "text": [
      "Warning: skipping session with too few trials 23\n",
      "Warning: skipping session with too few trials 37\n",
      "Warning: skipping session with too few trials 43\n",
      "Warning: skipping session with too few trials 30\n",
      "Warning: skipping session with too few trials 48\n",
      "Warning: skipping session with too few trials 44\n",
      "Warning: skipping session with too few trials 44\n",
      "Warning: skipping session with too few trials 42\n"
     ]
    },
    {
     "data": {
      "application/vnd.jupyter.widget-view+json": {
       "model_id": "ffa9fe5e25184ecfb7654a13c256b78b",
       "version_major": 2,
       "version_minor": 0
      },
      "text/plain": [
       "IntProgress(value=0, description='mou_6', max=30)"
      ]
     },
     "metadata": {},
     "output_type": "display_data"
    },
    {
     "data": {
      "application/vnd.jupyter.widget-view+json": {
       "model_id": "a043b95865f84e6381eba4db289c5eb2",
       "version_major": 2,
       "version_minor": 0
      },
      "text/plain": [
       "IntProgress(value=0, description='mou_6', max=30)"
      ]
     },
     "metadata": {},
     "output_type": "display_data"
    },
    {
     "name": "stdout",
     "output_type": "stream",
     "text": [
      "Warning: skipping session with too few trials 18\n",
      "Warning: skipping session with too few trials 49\n",
      "Warning: skipping session with too few trials 49\n",
      "Warning: skipping session with too few trials 43\n",
      "Warning: skipping session with too few trials 27\n",
      "Warning: skipping session with too few trials 48\n",
      "Warning: skipping session with too few trials 31\n",
      "Warning: skipping session with too few trials 42\n",
      "Warning: skipping session with too few trials 36\n"
     ]
    },
    {
     "data": {
      "application/vnd.jupyter.widget-view+json": {
       "model_id": "3313983f59dc43b0a30645fbaf7be9c7",
       "version_major": 2,
       "version_minor": 0
      },
      "text/plain": [
       "IntProgress(value=0, description='mou_6', max=30)"
      ]
     },
     "metadata": {},
     "output_type": "display_data"
    },
    {
     "name": "stdout",
     "output_type": "stream",
     "text": [
      "Warning: skipping session with too few trials 23\n",
      "Warning: skipping session with too few trials 37\n",
      "Warning: skipping session with too few trials 43\n",
      "Warning: skipping session with too few trials 30\n",
      "Warning: skipping session with too few trials 48\n",
      "Warning: skipping session with too few trials 44\n",
      "Warning: skipping session with too few trials 44\n",
      "Warning: skipping session with too few trials 42\n"
     ]
    },
    {
     "data": {
      "application/vnd.jupyter.widget-view+json": {
       "model_id": "6cdfbaa12ce64e02b6c87bec54195881",
       "version_major": 2,
       "version_minor": 0
      },
      "text/plain": [
       "IntProgress(value=0, description='mou_9', max=22)"
      ]
     },
     "metadata": {},
     "output_type": "display_data"
    },
    {
     "data": {
      "application/vnd.jupyter.widget-view+json": {
       "model_id": "5e1ad3c63f604094bfe33b5f4b985eb0",
       "version_major": 2,
       "version_minor": 0
      },
      "text/plain": [
       "IntProgress(value=0, description='mou_9', max=22)"
      ]
     },
     "metadata": {},
     "output_type": "display_data"
    },
    {
     "name": "stdout",
     "output_type": "stream",
     "text": [
      "Warning: skipping session with too few trials 49\n",
      "Warning: skipping session with too few trials 47\n",
      "Warning: skipping session with too few trials 49\n",
      "Warning: skipping session with too few trials 39\n",
      "Warning: skipping session with too few trials 37\n",
      "Warning: skipping session with too few trials 24\n",
      "Warning: skipping session with too few trials 20\n",
      "Warning: skipping session with too few trials 49\n",
      "Warning: skipping session with too few trials 35\n",
      "Warning: skipping session with too few trials 41\n",
      "Warning: skipping session with too few trials 43\n"
     ]
    },
    {
     "data": {
      "application/vnd.jupyter.widget-view+json": {
       "model_id": "067b2a5994254ad093181d36fc4bfd8a",
       "version_major": 2,
       "version_minor": 0
      },
      "text/plain": [
       "IntProgress(value=0, description='mou_9', max=22)"
      ]
     },
     "metadata": {},
     "output_type": "display_data"
    },
    {
     "name": "stdout",
     "output_type": "stream",
     "text": [
      "Warning: skipping session with too few trials 49\n",
      "Warning: skipping session with too few trials 48\n",
      "Warning: skipping session with too few trials 26\n",
      "Warning: skipping session with too few trials 14\n",
      "Warning: skipping session with too few trials 49\n",
      "Warning: skipping session with too few trials 47\n"
     ]
    },
    {
     "data": {
      "application/vnd.jupyter.widget-view+json": {
       "model_id": "0a1d795e063f4619aa7205108b941e96",
       "version_major": 2,
       "version_minor": 0
      },
      "text/plain": [
       "IntProgress(value=0, description='mou_9', max=22)"
      ]
     },
     "metadata": {},
     "output_type": "display_data"
    },
    {
     "data": {
      "application/vnd.jupyter.widget-view+json": {
       "model_id": "d6b04942d2154fb08dff50a5a03a63b8",
       "version_major": 2,
       "version_minor": 0
      },
      "text/plain": [
       "IntProgress(value=0, description='mou_9', max=22)"
      ]
     },
     "metadata": {},
     "output_type": "display_data"
    },
    {
     "name": "stdout",
     "output_type": "stream",
     "text": [
      "Warning: skipping session with too few trials 49\n",
      "Warning: skipping session with too few trials 47\n",
      "Warning: skipping session with too few trials 49\n",
      "Warning: skipping session with too few trials 39\n",
      "Warning: skipping session with too few trials 37\n",
      "Warning: skipping session with too few trials 24\n",
      "Warning: skipping session with too few trials 20\n",
      "Warning: skipping session with too few trials 49\n",
      "Warning: skipping session with too few trials 35\n",
      "Warning: skipping session with too few trials 41\n",
      "Warning: skipping session with too few trials 43\n"
     ]
    },
    {
     "data": {
      "application/vnd.jupyter.widget-view+json": {
       "model_id": "16eb3acd02e14f6784a02e657cb9813f",
       "version_major": 2,
       "version_minor": 0
      },
      "text/plain": [
       "IntProgress(value=0, description='mou_9', max=22)"
      ]
     },
     "metadata": {},
     "output_type": "display_data"
    },
    {
     "name": "stdout",
     "output_type": "stream",
     "text": [
      "Warning: skipping session with too few trials 49\n",
      "Warning: skipping session with too few trials 48\n",
      "Warning: skipping session with too few trials 26\n",
      "Warning: skipping session with too few trials 14\n",
      "Warning: skipping session with too few trials 49\n",
      "Warning: skipping session with too few trials 47\n"
     ]
    },
    {
     "data": {
      "application/vnd.jupyter.widget-view+json": {
       "model_id": "11efe3d3d6f54614963bd15e792975cc",
       "version_major": 2,
       "version_minor": 0
      },
      "text/plain": [
       "IntProgress(value=0, description='mou_9', max=22)"
      ]
     },
     "metadata": {},
     "output_type": "display_data"
    },
    {
     "data": {
      "application/vnd.jupyter.widget-view+json": {
       "model_id": "dda9883116824345adf698bb5182fcd7",
       "version_major": 2,
       "version_minor": 0
      },
      "text/plain": [
       "IntProgress(value=0, description='mou_9', max=22)"
      ]
     },
     "metadata": {},
     "output_type": "display_data"
    },
    {
     "name": "stdout",
     "output_type": "stream",
     "text": [
      "Warning: skipping session with too few trials 49\n",
      "Warning: skipping session with too few trials 47\n",
      "Warning: skipping session with too few trials 49\n",
      "Warning: skipping session with too few trials 39\n",
      "Warning: skipping session with too few trials 37\n",
      "Warning: skipping session with too few trials 24\n",
      "Warning: skipping session with too few trials 20\n",
      "Warning: skipping session with too few trials 49\n",
      "Warning: skipping session with too few trials 35\n",
      "Warning: skipping session with too few trials 41\n",
      "Warning: skipping session with too few trials 43\n"
     ]
    },
    {
     "data": {
      "application/vnd.jupyter.widget-view+json": {
       "model_id": "2bb4861eb9314a0a925dc8faa9bdf76a",
       "version_major": 2,
       "version_minor": 0
      },
      "text/plain": [
       "IntProgress(value=0, description='mou_9', max=22)"
      ]
     },
     "metadata": {},
     "output_type": "display_data"
    },
    {
     "name": "stdout",
     "output_type": "stream",
     "text": [
      "Warning: skipping session with too few trials 49\n",
      "Warning: skipping session with too few trials 48\n",
      "Warning: skipping session with too few trials 26\n",
      "Warning: skipping session with too few trials 14\n",
      "Warning: skipping session with too few trials 49\n",
      "Warning: skipping session with too few trials 47\n"
     ]
    },
    {
     "data": {
      "application/vnd.jupyter.widget-view+json": {
       "model_id": "e532f03195ed4db486cc81273a2e2bf1",
       "version_major": 2,
       "version_minor": 0
      },
      "text/plain": [
       "IntProgress(value=0, description='mou_5', max=21)"
      ]
     },
     "metadata": {},
     "output_type": "display_data"
    },
    {
     "data": {
      "application/vnd.jupyter.widget-view+json": {
       "model_id": "bdf84f64c3db42b38fa96f0fb9ee30ce",
       "version_major": 2,
       "version_minor": 0
      },
      "text/plain": [
       "IntProgress(value=0, description='mou_5', max=21)"
      ]
     },
     "metadata": {},
     "output_type": "display_data"
    },
    {
     "name": "stdout",
     "output_type": "stream",
     "text": [
      "Warning: skipping session with too few trials 43\n",
      "Warning: skipping session with too few trials 47\n",
      "Warning: skipping session with too few trials 21\n",
      "Warning: skipping session with too few trials 33\n",
      "Warning: skipping session with too few trials 49\n",
      "Warning: skipping session with too few trials 34\n",
      "Warning: skipping session with too few trials 42\n"
     ]
    },
    {
     "data": {
      "application/vnd.jupyter.widget-view+json": {
       "model_id": "edb6ee1366ff4393bc9fa57570430a29",
       "version_major": 2,
       "version_minor": 0
      },
      "text/plain": [
       "IntProgress(value=0, description='mou_5', max=21)"
      ]
     },
     "metadata": {},
     "output_type": "display_data"
    },
    {
     "name": "stdout",
     "output_type": "stream",
     "text": [
      "Warning: skipping session with too few trials 45\n",
      "Warning: skipping session with too few trials 47\n",
      "Warning: skipping session with too few trials 20\n",
      "Warning: skipping session with too few trials 44\n",
      "Warning: skipping session with too few trials 41\n"
     ]
    },
    {
     "data": {
      "application/vnd.jupyter.widget-view+json": {
       "model_id": "1605a82192fc416abad5226780853ba5",
       "version_major": 2,
       "version_minor": 0
      },
      "text/plain": [
       "IntProgress(value=0, description='mou_5', max=21)"
      ]
     },
     "metadata": {},
     "output_type": "display_data"
    },
    {
     "data": {
      "application/vnd.jupyter.widget-view+json": {
       "model_id": "0d9af7a2aebc4da18f0f26a3bc2af047",
       "version_major": 2,
       "version_minor": 0
      },
      "text/plain": [
       "IntProgress(value=0, description='mou_5', max=21)"
      ]
     },
     "metadata": {},
     "output_type": "display_data"
    },
    {
     "name": "stdout",
     "output_type": "stream",
     "text": [
      "Warning: skipping session with too few trials 43\n",
      "Warning: skipping session with too few trials 47\n",
      "Warning: skipping session with too few trials 21\n",
      "Warning: skipping session with too few trials 33\n",
      "Warning: skipping session with too few trials 49\n",
      "Warning: skipping session with too few trials 34\n",
      "Warning: skipping session with too few trials 42\n"
     ]
    },
    {
     "data": {
      "application/vnd.jupyter.widget-view+json": {
       "model_id": "6e27db68e8c043d68c81986864921546",
       "version_major": 2,
       "version_minor": 0
      },
      "text/plain": [
       "IntProgress(value=0, description='mou_5', max=21)"
      ]
     },
     "metadata": {},
     "output_type": "display_data"
    },
    {
     "name": "stdout",
     "output_type": "stream",
     "text": [
      "Warning: skipping session with too few trials 45\n",
      "Warning: skipping session with too few trials 47\n",
      "Warning: skipping session with too few trials 20\n",
      "Warning: skipping session with too few trials 44\n",
      "Warning: skipping session with too few trials 41\n"
     ]
    },
    {
     "data": {
      "application/vnd.jupyter.widget-view+json": {
       "model_id": "9a5a206ea5234ed89d7bcc0692d13992",
       "version_major": 2,
       "version_minor": 0
      },
      "text/plain": [
       "IntProgress(value=0, description='mou_5', max=21)"
      ]
     },
     "metadata": {},
     "output_type": "display_data"
    },
    {
     "data": {
      "application/vnd.jupyter.widget-view+json": {
       "model_id": "b03955fd13264537a68ca227f2308872",
       "version_major": 2,
       "version_minor": 0
      },
      "text/plain": [
       "IntProgress(value=0, description='mou_5', max=21)"
      ]
     },
     "metadata": {},
     "output_type": "display_data"
    },
    {
     "name": "stdout",
     "output_type": "stream",
     "text": [
      "Warning: skipping session with too few trials 43\n",
      "Warning: skipping session with too few trials 47\n",
      "Warning: skipping session with too few trials 21\n",
      "Warning: skipping session with too few trials 33\n",
      "Warning: skipping session with too few trials 49\n",
      "Warning: skipping session with too few trials 34\n",
      "Warning: skipping session with too few trials 42\n"
     ]
    },
    {
     "data": {
      "application/vnd.jupyter.widget-view+json": {
       "model_id": "4d00eb30db55478ba1be91dd73209573",
       "version_major": 2,
       "version_minor": 0
      },
      "text/plain": [
       "IntProgress(value=0, description='mou_5', max=21)"
      ]
     },
     "metadata": {},
     "output_type": "display_data"
    },
    {
     "name": "stdout",
     "output_type": "stream",
     "text": [
      "Warning: skipping session with too few trials 45\n",
      "Warning: skipping session with too few trials 47\n",
      "Warning: skipping session with too few trials 20\n",
      "Warning: skipping session with too few trials 44\n",
      "Warning: skipping session with too few trials 41\n"
     ]
    },
    {
     "data": {
      "application/vnd.jupyter.widget-view+json": {
       "model_id": "7f506e09a72e419f803a870ba4f73381",
       "version_major": 2,
       "version_minor": 0
      },
      "text/plain": [
       "IntProgress(value=0, description='mou_7', max=27)"
      ]
     },
     "metadata": {},
     "output_type": "display_data"
    },
    {
     "data": {
      "application/vnd.jupyter.widget-view+json": {
       "model_id": "9bf6d077020d4953a0c99d8f6e65ac84",
       "version_major": 2,
       "version_minor": 0
      },
      "text/plain": [
       "IntProgress(value=0, description='mou_7', max=27)"
      ]
     },
     "metadata": {},
     "output_type": "display_data"
    },
    {
     "name": "stdout",
     "output_type": "stream",
     "text": [
      "Warning: skipping session with too few trials 46\n",
      "Warning: skipping session with too few trials 41\n",
      "Warning: skipping session with too few trials 36\n",
      "Warning: skipping session with too few trials 37\n",
      "Warning: skipping session with too few trials 41\n",
      "Warning: skipping session with too few trials 44\n",
      "Warning: skipping session with too few trials 47\n",
      "Warning: skipping session with too few trials 46\n",
      "Warning: skipping session with too few trials 45\n"
     ]
    },
    {
     "data": {
      "application/vnd.jupyter.widget-view+json": {
       "model_id": "9c5fbe52927948a98211fbf7defbafdb",
       "version_major": 2,
       "version_minor": 0
      },
      "text/plain": [
       "IntProgress(value=0, description='mou_7', max=27)"
      ]
     },
     "metadata": {},
     "output_type": "display_data"
    },
    {
     "name": "stdout",
     "output_type": "stream",
     "text": [
      "Warning: skipping session with too few trials 49\n",
      "Warning: skipping session with too few trials 48\n",
      "Warning: skipping session with too few trials 38\n",
      "Warning: skipping session with too few trials 34\n",
      "Warning: skipping session with too few trials 48\n",
      "Warning: skipping session with too few trials 43\n",
      "Warning: skipping session with too few trials 49\n",
      "Warning: skipping session with too few trials 43\n",
      "Warning: skipping session with too few trials 47\n",
      "Warning: skipping session with too few trials 41\n",
      "Warning: skipping session with too few trials 45\n",
      "Warning: skipping session with too few trials 49\n",
      "Warning: skipping session with too few trials 37\n",
      "Warning: skipping session with too few trials 42\n",
      "Warning: skipping session with too few trials 49\n",
      "Warning: skipping session with too few trials 40\n"
     ]
    },
    {
     "data": {
      "application/vnd.jupyter.widget-view+json": {
       "model_id": "c3bfbcdd9faf4e8b93a7abaa7935b946",
       "version_major": 2,
       "version_minor": 0
      },
      "text/plain": [
       "IntProgress(value=0, description='mou_7', max=27)"
      ]
     },
     "metadata": {},
     "output_type": "display_data"
    },
    {
     "data": {
      "application/vnd.jupyter.widget-view+json": {
       "model_id": "6057d292571041069daa87b3aee36672",
       "version_major": 2,
       "version_minor": 0
      },
      "text/plain": [
       "IntProgress(value=0, description='mou_7', max=27)"
      ]
     },
     "metadata": {},
     "output_type": "display_data"
    },
    {
     "name": "stdout",
     "output_type": "stream",
     "text": [
      "Warning: skipping session with too few trials 46\n",
      "Warning: skipping session with too few trials 41\n",
      "Warning: skipping session with too few trials 36\n",
      "Warning: skipping session with too few trials 37\n",
      "Warning: skipping session with too few trials 41\n",
      "Warning: skipping session with too few trials 44\n",
      "Warning: skipping session with too few trials 47\n",
      "Warning: skipping session with too few trials 46\n",
      "Warning: skipping session with too few trials 45\n"
     ]
    },
    {
     "data": {
      "application/vnd.jupyter.widget-view+json": {
       "model_id": "0f5000568d694c688e41831c9743e1ce",
       "version_major": 2,
       "version_minor": 0
      },
      "text/plain": [
       "IntProgress(value=0, description='mou_7', max=27)"
      ]
     },
     "metadata": {},
     "output_type": "display_data"
    },
    {
     "name": "stdout",
     "output_type": "stream",
     "text": [
      "Warning: skipping session with too few trials 49\n",
      "Warning: skipping session with too few trials 48\n",
      "Warning: skipping session with too few trials 38\n",
      "Warning: skipping session with too few trials 34\n",
      "Warning: skipping session with too few trials 48\n",
      "Warning: skipping session with too few trials 43\n",
      "Warning: skipping session with too few trials 49\n",
      "Warning: skipping session with too few trials 43\n",
      "Warning: skipping session with too few trials 47\n",
      "Warning: skipping session with too few trials 41\n",
      "Warning: skipping session with too few trials 45\n",
      "Warning: skipping session with too few trials 49\n",
      "Warning: skipping session with too few trials 37\n",
      "Warning: skipping session with too few trials 42\n",
      "Warning: skipping session with too few trials 49\n",
      "Warning: skipping session with too few trials 40\n"
     ]
    },
    {
     "data": {
      "application/vnd.jupyter.widget-view+json": {
       "model_id": "940f5e911ad744e9a1d5e60cd4f03e08",
       "version_major": 2,
       "version_minor": 0
      },
      "text/plain": [
       "IntProgress(value=0, description='mou_7', max=27)"
      ]
     },
     "metadata": {},
     "output_type": "display_data"
    },
    {
     "data": {
      "application/vnd.jupyter.widget-view+json": {
       "model_id": "c08df107198f4ca99dbf354792dbf3d4",
       "version_major": 2,
       "version_minor": 0
      },
      "text/plain": [
       "IntProgress(value=0, description='mou_7', max=27)"
      ]
     },
     "metadata": {},
     "output_type": "display_data"
    },
    {
     "name": "stdout",
     "output_type": "stream",
     "text": [
      "Warning: skipping session with too few trials 46\n",
      "Warning: skipping session with too few trials 41\n",
      "Warning: skipping session with too few trials 36\n",
      "Warning: skipping session with too few trials 37\n",
      "Warning: skipping session with too few trials 41\n",
      "Warning: skipping session with too few trials 44\n",
      "Warning: skipping session with too few trials 47\n",
      "Warning: skipping session with too few trials 46\n",
      "Warning: skipping session with too few trials 45\n"
     ]
    },
    {
     "data": {
      "application/vnd.jupyter.widget-view+json": {
       "model_id": "e6ab7cc68c634c26b0172280db6822fa",
       "version_major": 2,
       "version_minor": 0
      },
      "text/plain": [
       "IntProgress(value=0, description='mou_7', max=27)"
      ]
     },
     "metadata": {},
     "output_type": "display_data"
    },
    {
     "name": "stdout",
     "output_type": "stream",
     "text": [
      "Warning: skipping session with too few trials 49\n",
      "Warning: skipping session with too few trials 48\n",
      "Warning: skipping session with too few trials 38\n",
      "Warning: skipping session with too few trials 34\n",
      "Warning: skipping session with too few trials 48\n",
      "Warning: skipping session with too few trials 43\n",
      "Warning: skipping session with too few trials 49\n",
      "Warning: skipping session with too few trials 43\n",
      "Warning: skipping session with too few trials 47\n",
      "Warning: skipping session with too few trials 41\n",
      "Warning: skipping session with too few trials 45\n",
      "Warning: skipping session with too few trials 49\n",
      "Warning: skipping session with too few trials 37\n",
      "Warning: skipping session with too few trials 42\n",
      "Warning: skipping session with too few trials 49\n",
      "Warning: skipping session with too few trials 40\n"
     ]
    },
    {
     "data": {
      "application/vnd.jupyter.widget-view+json": {
       "model_id": "add47b9b475f4f72951ba23ff558ce2f",
       "version_major": 2,
       "version_minor": 0
      },
      "text/plain": [
       "IntProgress(value=0, description='session', max=36)"
      ]
     },
     "metadata": {},
     "output_type": "display_data"
    },
    {
     "data": {
      "application/vnd.jupyter.widget-view+json": {
       "model_id": "f4bdc774d0144234bac40d9e3aca12b4",
       "version_major": 2,
       "version_minor": 0
      },
      "text/plain": [
       "IntProgress(value=0, description='mou_6', max=30)"
      ]
     },
     "metadata": {},
     "output_type": "display_data"
    },
    {
     "data": {
      "application/vnd.jupyter.widget-view+json": {
       "model_id": "8bd696697d994c6298962d0b140a0a77",
       "version_major": 2,
       "version_minor": 0
      },
      "text/plain": [
       "IntProgress(value=0, description='mou_6', max=30)"
      ]
     },
     "metadata": {},
     "output_type": "display_data"
    },
    {
     "name": "stdout",
     "output_type": "stream",
     "text": [
      "Warning: skipping session with too few trials 18\n",
      "Warning: skipping session with too few trials 49\n",
      "Warning: skipping session with too few trials 49\n",
      "Warning: skipping session with too few trials 43\n",
      "Warning: skipping session with too few trials 27\n",
      "Warning: skipping session with too few trials 48\n",
      "Warning: skipping session with too few trials 31\n",
      "Warning: skipping session with too few trials 42\n",
      "Warning: skipping session with too few trials 36\n"
     ]
    },
    {
     "data": {
      "application/vnd.jupyter.widget-view+json": {
       "model_id": "a1968f02bfb1428f8d0994900860500f",
       "version_major": 2,
       "version_minor": 0
      },
      "text/plain": [
       "IntProgress(value=0, description='mou_6', max=30)"
      ]
     },
     "metadata": {},
     "output_type": "display_data"
    },
    {
     "name": "stdout",
     "output_type": "stream",
     "text": [
      "Warning: skipping session with too few trials 23\n",
      "Warning: skipping session with too few trials 37\n",
      "Warning: skipping session with too few trials 43\n",
      "Warning: skipping session with too few trials 30\n",
      "Warning: skipping session with too few trials 48\n",
      "Warning: skipping session with too few trials 44\n",
      "Warning: skipping session with too few trials 44\n",
      "Warning: skipping session with too few trials 42\n"
     ]
    },
    {
     "data": {
      "application/vnd.jupyter.widget-view+json": {
       "model_id": "e7e9c10b16f64676bd22b9fd52970154",
       "version_major": 2,
       "version_minor": 0
      },
      "text/plain": [
       "IntProgress(value=0, description='mou_6', max=30)"
      ]
     },
     "metadata": {},
     "output_type": "display_data"
    },
    {
     "data": {
      "application/vnd.jupyter.widget-view+json": {
       "model_id": "5779727379054cb2bb12a680b18d2106",
       "version_major": 2,
       "version_minor": 0
      },
      "text/plain": [
       "IntProgress(value=0, description='mou_6', max=30)"
      ]
     },
     "metadata": {},
     "output_type": "display_data"
    },
    {
     "name": "stdout",
     "output_type": "stream",
     "text": [
      "Warning: skipping session with too few trials 18\n",
      "Warning: skipping session with too few trials 49\n",
      "Warning: skipping session with too few trials 49\n",
      "Warning: skipping session with too few trials 43\n",
      "Warning: skipping session with too few trials 27\n",
      "Warning: skipping session with too few trials 48\n",
      "Warning: skipping session with too few trials 31\n",
      "Warning: skipping session with too few trials 42\n",
      "Warning: skipping session with too few trials 36\n"
     ]
    },
    {
     "data": {
      "application/vnd.jupyter.widget-view+json": {
       "model_id": "4d07d7ec08654d2ca2591ff92039f41b",
       "version_major": 2,
       "version_minor": 0
      },
      "text/plain": [
       "IntProgress(value=0, description='mou_6', max=30)"
      ]
     },
     "metadata": {},
     "output_type": "display_data"
    },
    {
     "name": "stdout",
     "output_type": "stream",
     "text": [
      "Warning: skipping session with too few trials 23\n",
      "Warning: skipping session with too few trials 37\n",
      "Warning: skipping session with too few trials 43\n",
      "Warning: skipping session with too few trials 30\n",
      "Warning: skipping session with too few trials 48\n",
      "Warning: skipping session with too few trials 44\n",
      "Warning: skipping session with too few trials 44\n",
      "Warning: skipping session with too few trials 42\n"
     ]
    },
    {
     "data": {
      "application/vnd.jupyter.widget-view+json": {
       "model_id": "9fe2ca745c86469cacc250a214ad64e7",
       "version_major": 2,
       "version_minor": 0
      },
      "text/plain": [
       "IntProgress(value=0, description='mou_6', max=30)"
      ]
     },
     "metadata": {},
     "output_type": "display_data"
    },
    {
     "data": {
      "application/vnd.jupyter.widget-view+json": {
       "model_id": "734061753a334f00a5ac95eeeaa3eb64",
       "version_major": 2,
       "version_minor": 0
      },
      "text/plain": [
       "IntProgress(value=0, description='mou_6', max=30)"
      ]
     },
     "metadata": {},
     "output_type": "display_data"
    },
    {
     "name": "stdout",
     "output_type": "stream",
     "text": [
      "Warning: skipping session with too few trials 18\n",
      "Warning: skipping session with too few trials 49\n",
      "Warning: skipping session with too few trials 49\n",
      "Warning: skipping session with too few trials 43\n",
      "Warning: skipping session with too few trials 27\n",
      "Warning: skipping session with too few trials 48\n",
      "Warning: skipping session with too few trials 31\n",
      "Warning: skipping session with too few trials 42\n",
      "Warning: skipping session with too few trials 36\n"
     ]
    },
    {
     "data": {
      "application/vnd.jupyter.widget-view+json": {
       "model_id": "7a74f982fffa42d7a1d7eccbde933165",
       "version_major": 2,
       "version_minor": 0
      },
      "text/plain": [
       "IntProgress(value=0, description='mou_6', max=30)"
      ]
     },
     "metadata": {},
     "output_type": "display_data"
    },
    {
     "name": "stdout",
     "output_type": "stream",
     "text": [
      "Warning: skipping session with too few trials 23\n",
      "Warning: skipping session with too few trials 37\n",
      "Warning: skipping session with too few trials 43\n",
      "Warning: skipping session with too few trials 30\n",
      "Warning: skipping session with too few trials 48\n",
      "Warning: skipping session with too few trials 44\n",
      "Warning: skipping session with too few trials 44\n",
      "Warning: skipping session with too few trials 42\n"
     ]
    },
    {
     "data": {
      "application/vnd.jupyter.widget-view+json": {
       "model_id": "52b1970aad17482c8961b4444b744848",
       "version_major": 2,
       "version_minor": 0
      },
      "text/plain": [
       "IntProgress(value=0, description='mou_9', max=22)"
      ]
     },
     "metadata": {},
     "output_type": "display_data"
    },
    {
     "data": {
      "application/vnd.jupyter.widget-view+json": {
       "model_id": "61ec2b4c1a6e467e8e6fa027f78770d5",
       "version_major": 2,
       "version_minor": 0
      },
      "text/plain": [
       "IntProgress(value=0, description='mou_9', max=22)"
      ]
     },
     "metadata": {},
     "output_type": "display_data"
    },
    {
     "name": "stdout",
     "output_type": "stream",
     "text": [
      "Warning: skipping session with too few trials 49\n",
      "Warning: skipping session with too few trials 47\n",
      "Warning: skipping session with too few trials 49\n",
      "Warning: skipping session with too few trials 39\n",
      "Warning: skipping session with too few trials 37\n",
      "Warning: skipping session with too few trials 24\n",
      "Warning: skipping session with too few trials 20\n",
      "Warning: skipping session with too few trials 49\n",
      "Warning: skipping session with too few trials 35\n",
      "Warning: skipping session with too few trials 41\n",
      "Warning: skipping session with too few trials 43\n"
     ]
    },
    {
     "data": {
      "application/vnd.jupyter.widget-view+json": {
       "model_id": "afb3ac9420ae45969e44942cf85dd01e",
       "version_major": 2,
       "version_minor": 0
      },
      "text/plain": [
       "IntProgress(value=0, description='mou_9', max=22)"
      ]
     },
     "metadata": {},
     "output_type": "display_data"
    },
    {
     "name": "stdout",
     "output_type": "stream",
     "text": [
      "Warning: skipping session with too few trials 49\n",
      "Warning: skipping session with too few trials 48\n",
      "Warning: skipping session with too few trials 26\n",
      "Warning: skipping session with too few trials 14\n",
      "Warning: skipping session with too few trials 49\n",
      "Warning: skipping session with too few trials 47\n"
     ]
    },
    {
     "data": {
      "application/vnd.jupyter.widget-view+json": {
       "model_id": "b355c9ce688e406092c086774df70697",
       "version_major": 2,
       "version_minor": 0
      },
      "text/plain": [
       "IntProgress(value=0, description='mou_9', max=22)"
      ]
     },
     "metadata": {},
     "output_type": "display_data"
    },
    {
     "data": {
      "application/vnd.jupyter.widget-view+json": {
       "model_id": "00aaf233905e4b12aa98663f88eb6a2f",
       "version_major": 2,
       "version_minor": 0
      },
      "text/plain": [
       "IntProgress(value=0, description='mou_9', max=22)"
      ]
     },
     "metadata": {},
     "output_type": "display_data"
    },
    {
     "name": "stdout",
     "output_type": "stream",
     "text": [
      "Warning: skipping session with too few trials 49\n",
      "Warning: skipping session with too few trials 47\n",
      "Warning: skipping session with too few trials 49\n",
      "Warning: skipping session with too few trials 39\n",
      "Warning: skipping session with too few trials 37\n",
      "Warning: skipping session with too few trials 24\n",
      "Warning: skipping session with too few trials 20\n",
      "Warning: skipping session with too few trials 49\n",
      "Warning: skipping session with too few trials 35\n",
      "Warning: skipping session with too few trials 41\n",
      "Warning: skipping session with too few trials 43\n"
     ]
    },
    {
     "data": {
      "application/vnd.jupyter.widget-view+json": {
       "model_id": "14687ab65a324ef5bbf97092ceb51b3a",
       "version_major": 2,
       "version_minor": 0
      },
      "text/plain": [
       "IntProgress(value=0, description='mou_9', max=22)"
      ]
     },
     "metadata": {},
     "output_type": "display_data"
    },
    {
     "name": "stdout",
     "output_type": "stream",
     "text": [
      "Warning: skipping session with too few trials 49\n",
      "Warning: skipping session with too few trials 48\n",
      "Warning: skipping session with too few trials 26\n",
      "Warning: skipping session with too few trials 14\n",
      "Warning: skipping session with too few trials 49\n",
      "Warning: skipping session with too few trials 47\n"
     ]
    },
    {
     "data": {
      "application/vnd.jupyter.widget-view+json": {
       "model_id": "326dfbd26d5c4a0b97ab8a678d997157",
       "version_major": 2,
       "version_minor": 0
      },
      "text/plain": [
       "IntProgress(value=0, description='mou_9', max=22)"
      ]
     },
     "metadata": {},
     "output_type": "display_data"
    },
    {
     "data": {
      "application/vnd.jupyter.widget-view+json": {
       "model_id": "e2595abfe7f4444999477b668eb34b48",
       "version_major": 2,
       "version_minor": 0
      },
      "text/plain": [
       "IntProgress(value=0, description='mou_9', max=22)"
      ]
     },
     "metadata": {},
     "output_type": "display_data"
    },
    {
     "name": "stdout",
     "output_type": "stream",
     "text": [
      "Warning: skipping session with too few trials 49\n",
      "Warning: skipping session with too few trials 47\n",
      "Warning: skipping session with too few trials 49\n",
      "Warning: skipping session with too few trials 39\n",
      "Warning: skipping session with too few trials 37\n",
      "Warning: skipping session with too few trials 24\n",
      "Warning: skipping session with too few trials 20\n",
      "Warning: skipping session with too few trials 49\n",
      "Warning: skipping session with too few trials 35\n",
      "Warning: skipping session with too few trials 41\n",
      "Warning: skipping session with too few trials 43\n"
     ]
    },
    {
     "data": {
      "application/vnd.jupyter.widget-view+json": {
       "model_id": "6bf94a43de014f878e7d42b2601a305b",
       "version_major": 2,
       "version_minor": 0
      },
      "text/plain": [
       "IntProgress(value=0, description='mou_9', max=22)"
      ]
     },
     "metadata": {},
     "output_type": "display_data"
    },
    {
     "name": "stdout",
     "output_type": "stream",
     "text": [
      "Warning: skipping session with too few trials 49\n",
      "Warning: skipping session with too few trials 48\n",
      "Warning: skipping session with too few trials 26\n",
      "Warning: skipping session with too few trials 14\n",
      "Warning: skipping session with too few trials 49\n",
      "Warning: skipping session with too few trials 47\n"
     ]
    },
    {
     "data": {
      "application/vnd.jupyter.widget-view+json": {
       "model_id": "4fa930ef5b4f443e83aba4cd3f5f6392",
       "version_major": 2,
       "version_minor": 0
      },
      "text/plain": [
       "IntProgress(value=0, description='mou_5', max=21)"
      ]
     },
     "metadata": {},
     "output_type": "display_data"
    },
    {
     "data": {
      "application/vnd.jupyter.widget-view+json": {
       "model_id": "7aa2d47ac9b94e4bbf1324442845dac8",
       "version_major": 2,
       "version_minor": 0
      },
      "text/plain": [
       "IntProgress(value=0, description='mou_5', max=21)"
      ]
     },
     "metadata": {},
     "output_type": "display_data"
    },
    {
     "name": "stdout",
     "output_type": "stream",
     "text": [
      "Warning: skipping session with too few trials 43\n",
      "Warning: skipping session with too few trials 47\n",
      "Warning: skipping session with too few trials 21\n",
      "Warning: skipping session with too few trials 33\n",
      "Warning: skipping session with too few trials 49\n",
      "Warning: skipping session with too few trials 34\n",
      "Warning: skipping session with too few trials 42\n"
     ]
    },
    {
     "data": {
      "application/vnd.jupyter.widget-view+json": {
       "model_id": "a4b628103c844fd6bd5c71c18ea008cf",
       "version_major": 2,
       "version_minor": 0
      },
      "text/plain": [
       "IntProgress(value=0, description='mou_5', max=21)"
      ]
     },
     "metadata": {},
     "output_type": "display_data"
    },
    {
     "name": "stdout",
     "output_type": "stream",
     "text": [
      "Warning: skipping session with too few trials 45\n",
      "Warning: skipping session with too few trials 47\n",
      "Warning: skipping session with too few trials 20\n",
      "Warning: skipping session with too few trials 44\n",
      "Warning: skipping session with too few trials 41\n"
     ]
    },
    {
     "data": {
      "application/vnd.jupyter.widget-view+json": {
       "model_id": "5ceb5cb058a24cdc9ec53d718b96f0c4",
       "version_major": 2,
       "version_minor": 0
      },
      "text/plain": [
       "IntProgress(value=0, description='mou_5', max=21)"
      ]
     },
     "metadata": {},
     "output_type": "display_data"
    },
    {
     "data": {
      "application/vnd.jupyter.widget-view+json": {
       "model_id": "3029d5bcb9774aa482e1bdaa1dcc5d32",
       "version_major": 2,
       "version_minor": 0
      },
      "text/plain": [
       "IntProgress(value=0, description='mou_5', max=21)"
      ]
     },
     "metadata": {},
     "output_type": "display_data"
    },
    {
     "name": "stdout",
     "output_type": "stream",
     "text": [
      "Warning: skipping session with too few trials 43\n",
      "Warning: skipping session with too few trials 47\n",
      "Warning: skipping session with too few trials 21\n",
      "Warning: skipping session with too few trials 33\n",
      "Warning: skipping session with too few trials 49\n",
      "Warning: skipping session with too few trials 34\n",
      "Warning: skipping session with too few trials 42\n"
     ]
    },
    {
     "data": {
      "application/vnd.jupyter.widget-view+json": {
       "model_id": "becb2b7ab0ce4063b0266752d58bd8b0",
       "version_major": 2,
       "version_minor": 0
      },
      "text/plain": [
       "IntProgress(value=0, description='mou_5', max=21)"
      ]
     },
     "metadata": {},
     "output_type": "display_data"
    },
    {
     "name": "stdout",
     "output_type": "stream",
     "text": [
      "Warning: skipping session with too few trials 45\n",
      "Warning: skipping session with too few trials 47\n",
      "Warning: skipping session with too few trials 20\n",
      "Warning: skipping session with too few trials 44\n",
      "Warning: skipping session with too few trials 41\n"
     ]
    },
    {
     "data": {
      "application/vnd.jupyter.widget-view+json": {
       "model_id": "eb803dc4fd814515adbcbc45b4109068",
       "version_major": 2,
       "version_minor": 0
      },
      "text/plain": [
       "IntProgress(value=0, description='mou_5', max=21)"
      ]
     },
     "metadata": {},
     "output_type": "display_data"
    },
    {
     "data": {
      "application/vnd.jupyter.widget-view+json": {
       "model_id": "b3695a7f3b984f4bb1481d431d2b3b67",
       "version_major": 2,
       "version_minor": 0
      },
      "text/plain": [
       "IntProgress(value=0, description='mou_5', max=21)"
      ]
     },
     "metadata": {},
     "output_type": "display_data"
    },
    {
     "name": "stdout",
     "output_type": "stream",
     "text": [
      "Warning: skipping session with too few trials 43\n",
      "Warning: skipping session with too few trials 47\n",
      "Warning: skipping session with too few trials 21\n",
      "Warning: skipping session with too few trials 33\n",
      "Warning: skipping session with too few trials 49\n",
      "Warning: skipping session with too few trials 34\n",
      "Warning: skipping session with too few trials 42\n"
     ]
    },
    {
     "data": {
      "application/vnd.jupyter.widget-view+json": {
       "model_id": "916553f3c37945368cb688ee1fe72914",
       "version_major": 2,
       "version_minor": 0
      },
      "text/plain": [
       "IntProgress(value=0, description='mou_5', max=21)"
      ]
     },
     "metadata": {},
     "output_type": "display_data"
    },
    {
     "name": "stdout",
     "output_type": "stream",
     "text": [
      "Warning: skipping session with too few trials 45\n",
      "Warning: skipping session with too few trials 47\n",
      "Warning: skipping session with too few trials 20\n",
      "Warning: skipping session with too few trials 44\n",
      "Warning: skipping session with too few trials 41\n"
     ]
    },
    {
     "data": {
      "application/vnd.jupyter.widget-view+json": {
       "model_id": "6c101e2dfcb541238c6ab913c6603a3c",
       "version_major": 2,
       "version_minor": 0
      },
      "text/plain": [
       "IntProgress(value=0, description='mou_7', max=27)"
      ]
     },
     "metadata": {},
     "output_type": "display_data"
    },
    {
     "data": {
      "application/vnd.jupyter.widget-view+json": {
       "model_id": "8075ba40734c41c286514088efa213c8",
       "version_major": 2,
       "version_minor": 0
      },
      "text/plain": [
       "IntProgress(value=0, description='mou_7', max=27)"
      ]
     },
     "metadata": {},
     "output_type": "display_data"
    },
    {
     "name": "stdout",
     "output_type": "stream",
     "text": [
      "Warning: skipping session with too few trials 46\n",
      "Warning: skipping session with too few trials 41\n",
      "Warning: skipping session with too few trials 36\n",
      "Warning: skipping session with too few trials 37\n",
      "Warning: skipping session with too few trials 41\n",
      "Warning: skipping session with too few trials 44\n",
      "Warning: skipping session with too few trials 47\n",
      "Warning: skipping session with too few trials 46\n",
      "Warning: skipping session with too few trials 45\n"
     ]
    },
    {
     "data": {
      "application/vnd.jupyter.widget-view+json": {
       "model_id": "ca913c6f36834a08873db677a102a070",
       "version_major": 2,
       "version_minor": 0
      },
      "text/plain": [
       "IntProgress(value=0, description='mou_7', max=27)"
      ]
     },
     "metadata": {},
     "output_type": "display_data"
    },
    {
     "name": "stdout",
     "output_type": "stream",
     "text": [
      "Warning: skipping session with too few trials 49\n",
      "Warning: skipping session with too few trials 48\n",
      "Warning: skipping session with too few trials 38\n",
      "Warning: skipping session with too few trials 34\n",
      "Warning: skipping session with too few trials 48\n",
      "Warning: skipping session with too few trials 43\n",
      "Warning: skipping session with too few trials 49\n",
      "Warning: skipping session with too few trials 43\n",
      "Warning: skipping session with too few trials 47\n",
      "Warning: skipping session with too few trials 41\n",
      "Warning: skipping session with too few trials 45\n",
      "Warning: skipping session with too few trials 49\n",
      "Warning: skipping session with too few trials 37\n",
      "Warning: skipping session with too few trials 42\n",
      "Warning: skipping session with too few trials 49\n",
      "Warning: skipping session with too few trials 40\n"
     ]
    },
    {
     "data": {
      "application/vnd.jupyter.widget-view+json": {
       "model_id": "88af7bfea0ab42b7b516eb567dc05635",
       "version_major": 2,
       "version_minor": 0
      },
      "text/plain": [
       "IntProgress(value=0, description='mou_7', max=27)"
      ]
     },
     "metadata": {},
     "output_type": "display_data"
    },
    {
     "data": {
      "application/vnd.jupyter.widget-view+json": {
       "model_id": "c14077f4d37d42eda2dd38659356011b",
       "version_major": 2,
       "version_minor": 0
      },
      "text/plain": [
       "IntProgress(value=0, description='mou_7', max=27)"
      ]
     },
     "metadata": {},
     "output_type": "display_data"
    },
    {
     "name": "stdout",
     "output_type": "stream",
     "text": [
      "Warning: skipping session with too few trials 46\n",
      "Warning: skipping session with too few trials 41\n",
      "Warning: skipping session with too few trials 36\n",
      "Warning: skipping session with too few trials 37\n",
      "Warning: skipping session with too few trials 41\n",
      "Warning: skipping session with too few trials 44\n",
      "Warning: skipping session with too few trials 47\n",
      "Warning: skipping session with too few trials 46\n",
      "Warning: skipping session with too few trials 45\n"
     ]
    },
    {
     "data": {
      "application/vnd.jupyter.widget-view+json": {
       "model_id": "a447338f5b5340b3977af70288c3c6e8",
       "version_major": 2,
       "version_minor": 0
      },
      "text/plain": [
       "IntProgress(value=0, description='mou_7', max=27)"
      ]
     },
     "metadata": {},
     "output_type": "display_data"
    },
    {
     "name": "stdout",
     "output_type": "stream",
     "text": [
      "Warning: skipping session with too few trials 49\n",
      "Warning: skipping session with too few trials 48\n",
      "Warning: skipping session with too few trials 38\n",
      "Warning: skipping session with too few trials 34\n",
      "Warning: skipping session with too few trials 48\n",
      "Warning: skipping session with too few trials 43\n",
      "Warning: skipping session with too few trials 49\n",
      "Warning: skipping session with too few trials 43\n",
      "Warning: skipping session with too few trials 47\n",
      "Warning: skipping session with too few trials 41\n",
      "Warning: skipping session with too few trials 45\n",
      "Warning: skipping session with too few trials 49\n",
      "Warning: skipping session with too few trials 37\n",
      "Warning: skipping session with too few trials 42\n",
      "Warning: skipping session with too few trials 49\n",
      "Warning: skipping session with too few trials 40\n"
     ]
    },
    {
     "data": {
      "application/vnd.jupyter.widget-view+json": {
       "model_id": "ca4d9f63986c482d95e740c773250e71",
       "version_major": 2,
       "version_minor": 0
      },
      "text/plain": [
       "IntProgress(value=0, description='mou_7', max=27)"
      ]
     },
     "metadata": {},
     "output_type": "display_data"
    },
    {
     "data": {
      "application/vnd.jupyter.widget-view+json": {
       "model_id": "4743331932c94dca90a00b3c4cfcaf99",
       "version_major": 2,
       "version_minor": 0
      },
      "text/plain": [
       "IntProgress(value=0, description='mou_7', max=27)"
      ]
     },
     "metadata": {},
     "output_type": "display_data"
    },
    {
     "name": "stdout",
     "output_type": "stream",
     "text": [
      "Warning: skipping session with too few trials 46\n",
      "Warning: skipping session with too few trials 41\n",
      "Warning: skipping session with too few trials 36\n",
      "Warning: skipping session with too few trials 37\n",
      "Warning: skipping session with too few trials 41\n",
      "Warning: skipping session with too few trials 44\n",
      "Warning: skipping session with too few trials 47\n",
      "Warning: skipping session with too few trials 46\n",
      "Warning: skipping session with too few trials 45\n"
     ]
    },
    {
     "data": {
      "application/vnd.jupyter.widget-view+json": {
       "model_id": "aa797bec54f54d389c1ca6baefec9afa",
       "version_major": 2,
       "version_minor": 0
      },
      "text/plain": [
       "IntProgress(value=0, description='mou_7', max=27)"
      ]
     },
     "metadata": {},
     "output_type": "display_data"
    },
    {
     "name": "stdout",
     "output_type": "stream",
     "text": [
      "Warning: skipping session with too few trials 49\n",
      "Warning: skipping session with too few trials 48\n",
      "Warning: skipping session with too few trials 38\n",
      "Warning: skipping session with too few trials 34\n",
      "Warning: skipping session with too few trials 48\n",
      "Warning: skipping session with too few trials 43\n",
      "Warning: skipping session with too few trials 49\n",
      "Warning: skipping session with too few trials 43\n",
      "Warning: skipping session with too few trials 47\n",
      "Warning: skipping session with too few trials 41\n",
      "Warning: skipping session with too few trials 45\n",
      "Warning: skipping session with too few trials 49\n",
      "Warning: skipping session with too few trials 37\n",
      "Warning: skipping session with too few trials 42\n",
      "Warning: skipping session with too few trials 49\n",
      "Warning: skipping session with too few trials 40\n"
     ]
    },
    {
     "data": {
      "application/vnd.jupyter.widget-view+json": {
       "model_id": "e0b28f8e4bef40209af3af9cc9ba0555",
       "version_major": 2,
       "version_minor": 0
      },
      "text/plain": [
       "IntProgress(value=0, description='session', max=36)"
      ]
     },
     "metadata": {},
     "output_type": "display_data"
    },
    {
     "data": {
      "application/vnd.jupyter.widget-view+json": {
       "model_id": "e01b0bfad3bf47d2a8f77fdfd4444d19",
       "version_major": 2,
       "version_minor": 0
      },
      "text/plain": [
       "IntProgress(value=0, description='mou_6', max=30)"
      ]
     },
     "metadata": {},
     "output_type": "display_data"
    },
    {
     "data": {
      "application/vnd.jupyter.widget-view+json": {
       "model_id": "62f3beb9b2124482bac31a72d32e09e3",
       "version_major": 2,
       "version_minor": 0
      },
      "text/plain": [
       "IntProgress(value=0, description='mou_6', max=30)"
      ]
     },
     "metadata": {},
     "output_type": "display_data"
    },
    {
     "name": "stdout",
     "output_type": "stream",
     "text": [
      "Warning: skipping session with too few trials 18\n",
      "Warning: skipping session with too few trials 49\n",
      "Warning: skipping session with too few trials 49\n",
      "Warning: skipping session with too few trials 43\n",
      "Warning: skipping session with too few trials 27\n",
      "Warning: skipping session with too few trials 48\n",
      "Warning: skipping session with too few trials 31\n",
      "Warning: skipping session with too few trials 42\n",
      "Warning: skipping session with too few trials 36\n"
     ]
    },
    {
     "data": {
      "application/vnd.jupyter.widget-view+json": {
       "model_id": "d414b06e6c4c462f81358718fa8c3f45",
       "version_major": 2,
       "version_minor": 0
      },
      "text/plain": [
       "IntProgress(value=0, description='mou_6', max=30)"
      ]
     },
     "metadata": {},
     "output_type": "display_data"
    },
    {
     "name": "stdout",
     "output_type": "stream",
     "text": [
      "Warning: skipping session with too few trials 23\n",
      "Warning: skipping session with too few trials 37\n",
      "Warning: skipping session with too few trials 43\n",
      "Warning: skipping session with too few trials 30\n",
      "Warning: skipping session with too few trials 48\n",
      "Warning: skipping session with too few trials 44\n",
      "Warning: skipping session with too few trials 44\n",
      "Warning: skipping session with too few trials 42\n"
     ]
    },
    {
     "data": {
      "application/vnd.jupyter.widget-view+json": {
       "model_id": "42d81deedc1e4bc0b88bde4b10cf852e",
       "version_major": 2,
       "version_minor": 0
      },
      "text/plain": [
       "IntProgress(value=0, description='mou_6', max=30)"
      ]
     },
     "metadata": {},
     "output_type": "display_data"
    },
    {
     "data": {
      "application/vnd.jupyter.widget-view+json": {
       "model_id": "cd8de969e8b74107b0437ef5de808922",
       "version_major": 2,
       "version_minor": 0
      },
      "text/plain": [
       "IntProgress(value=0, description='mou_6', max=30)"
      ]
     },
     "metadata": {},
     "output_type": "display_data"
    },
    {
     "name": "stdout",
     "output_type": "stream",
     "text": [
      "Warning: skipping session with too few trials 18\n",
      "Warning: skipping session with too few trials 49\n",
      "Warning: skipping session with too few trials 49\n",
      "Warning: skipping session with too few trials 43\n",
      "Warning: skipping session with too few trials 27\n",
      "Warning: skipping session with too few trials 48\n",
      "Warning: skipping session with too few trials 31\n",
      "Warning: skipping session with too few trials 42\n",
      "Warning: skipping session with too few trials 36\n"
     ]
    },
    {
     "data": {
      "application/vnd.jupyter.widget-view+json": {
       "model_id": "664b9e2a1c7b4780bfa1f0d9573f06b4",
       "version_major": 2,
       "version_minor": 0
      },
      "text/plain": [
       "IntProgress(value=0, description='mou_6', max=30)"
      ]
     },
     "metadata": {},
     "output_type": "display_data"
    },
    {
     "name": "stdout",
     "output_type": "stream",
     "text": [
      "Warning: skipping session with too few trials 23\n",
      "Warning: skipping session with too few trials 37\n",
      "Warning: skipping session with too few trials 43\n",
      "Warning: skipping session with too few trials 30\n",
      "Warning: skipping session with too few trials 48\n",
      "Warning: skipping session with too few trials 44\n",
      "Warning: skipping session with too few trials 44\n",
      "Warning: skipping session with too few trials 42\n"
     ]
    },
    {
     "data": {
      "application/vnd.jupyter.widget-view+json": {
       "model_id": "7b887c4585224aecabf786877e236a24",
       "version_major": 2,
       "version_minor": 0
      },
      "text/plain": [
       "IntProgress(value=0, description='mou_6', max=30)"
      ]
     },
     "metadata": {},
     "output_type": "display_data"
    },
    {
     "data": {
      "application/vnd.jupyter.widget-view+json": {
       "model_id": "92737dcdbc204d97865f974cd6a6827d",
       "version_major": 2,
       "version_minor": 0
      },
      "text/plain": [
       "IntProgress(value=0, description='mou_6', max=30)"
      ]
     },
     "metadata": {},
     "output_type": "display_data"
    },
    {
     "name": "stdout",
     "output_type": "stream",
     "text": [
      "Warning: skipping session with too few trials 18\n",
      "Warning: skipping session with too few trials 49\n",
      "Warning: skipping session with too few trials 49\n",
      "Warning: skipping session with too few trials 43\n",
      "Warning: skipping session with too few trials 27\n",
      "Warning: skipping session with too few trials 48\n",
      "Warning: skipping session with too few trials 31\n",
      "Warning: skipping session with too few trials 42\n",
      "Warning: skipping session with too few trials 36\n"
     ]
    },
    {
     "data": {
      "application/vnd.jupyter.widget-view+json": {
       "model_id": "b1491894b04540b39529a4a734ce5a9e",
       "version_major": 2,
       "version_minor": 0
      },
      "text/plain": [
       "IntProgress(value=0, description='mou_6', max=30)"
      ]
     },
     "metadata": {},
     "output_type": "display_data"
    },
    {
     "name": "stdout",
     "output_type": "stream",
     "text": [
      "Warning: skipping session with too few trials 23\n",
      "Warning: skipping session with too few trials 37\n",
      "Warning: skipping session with too few trials 43\n",
      "Warning: skipping session with too few trials 30\n",
      "Warning: skipping session with too few trials 48\n",
      "Warning: skipping session with too few trials 44\n",
      "Warning: skipping session with too few trials 44\n",
      "Warning: skipping session with too few trials 42\n"
     ]
    },
    {
     "data": {
      "application/vnd.jupyter.widget-view+json": {
       "model_id": "5f35b31cd4174763b4a79c57fd027b91",
       "version_major": 2,
       "version_minor": 0
      },
      "text/plain": [
       "IntProgress(value=0, description='mou_9', max=22)"
      ]
     },
     "metadata": {},
     "output_type": "display_data"
    },
    {
     "data": {
      "application/vnd.jupyter.widget-view+json": {
       "model_id": "a3c432d8325946e6997e0e1657f95e8e",
       "version_major": 2,
       "version_minor": 0
      },
      "text/plain": [
       "IntProgress(value=0, description='mou_9', max=22)"
      ]
     },
     "metadata": {},
     "output_type": "display_data"
    },
    {
     "name": "stdout",
     "output_type": "stream",
     "text": [
      "Warning: skipping session with too few trials 49\n",
      "Warning: skipping session with too few trials 47\n",
      "Warning: skipping session with too few trials 49\n",
      "Warning: skipping session with too few trials 39\n",
      "Warning: skipping session with too few trials 37\n",
      "Warning: skipping session with too few trials 24\n",
      "Warning: skipping session with too few trials 20\n",
      "Warning: skipping session with too few trials 49\n",
      "Warning: skipping session with too few trials 35\n",
      "Warning: skipping session with too few trials 41\n",
      "Warning: skipping session with too few trials 43\n"
     ]
    },
    {
     "data": {
      "application/vnd.jupyter.widget-view+json": {
       "model_id": "aff731d8673748cbb2a46ece835098fa",
       "version_major": 2,
       "version_minor": 0
      },
      "text/plain": [
       "IntProgress(value=0, description='mou_9', max=22)"
      ]
     },
     "metadata": {},
     "output_type": "display_data"
    },
    {
     "name": "stdout",
     "output_type": "stream",
     "text": [
      "Warning: skipping session with too few trials 49\n",
      "Warning: skipping session with too few trials 48\n",
      "Warning: skipping session with too few trials 26\n",
      "Warning: skipping session with too few trials 14\n",
      "Warning: skipping session with too few trials 49\n",
      "Warning: skipping session with too few trials 47\n"
     ]
    },
    {
     "data": {
      "application/vnd.jupyter.widget-view+json": {
       "model_id": "c734dca89ee944bf9dfefbf94c97d7db",
       "version_major": 2,
       "version_minor": 0
      },
      "text/plain": [
       "IntProgress(value=0, description='mou_9', max=22)"
      ]
     },
     "metadata": {},
     "output_type": "display_data"
    },
    {
     "data": {
      "application/vnd.jupyter.widget-view+json": {
       "model_id": "b1538844a0354f1280d691eb8182ba41",
       "version_major": 2,
       "version_minor": 0
      },
      "text/plain": [
       "IntProgress(value=0, description='mou_9', max=22)"
      ]
     },
     "metadata": {},
     "output_type": "display_data"
    },
    {
     "name": "stdout",
     "output_type": "stream",
     "text": [
      "Warning: skipping session with too few trials 49\n",
      "Warning: skipping session with too few trials 47\n",
      "Warning: skipping session with too few trials 49\n",
      "Warning: skipping session with too few trials 39\n",
      "Warning: skipping session with too few trials 37\n",
      "Warning: skipping session with too few trials 24\n",
      "Warning: skipping session with too few trials 20\n",
      "Warning: skipping session with too few trials 49\n",
      "Warning: skipping session with too few trials 35\n",
      "Warning: skipping session with too few trials 41\n",
      "Warning: skipping session with too few trials 43\n"
     ]
    },
    {
     "data": {
      "application/vnd.jupyter.widget-view+json": {
       "model_id": "e876c37956244982afba214b837f0bcb",
       "version_major": 2,
       "version_minor": 0
      },
      "text/plain": [
       "IntProgress(value=0, description='mou_9', max=22)"
      ]
     },
     "metadata": {},
     "output_type": "display_data"
    },
    {
     "name": "stdout",
     "output_type": "stream",
     "text": [
      "Warning: skipping session with too few trials 49\n",
      "Warning: skipping session with too few trials 48\n",
      "Warning: skipping session with too few trials 26\n",
      "Warning: skipping session with too few trials 14\n",
      "Warning: skipping session with too few trials 49\n",
      "Warning: skipping session with too few trials 47\n"
     ]
    },
    {
     "data": {
      "application/vnd.jupyter.widget-view+json": {
       "model_id": "5c19785a4cf24778b08130e172feea4e",
       "version_major": 2,
       "version_minor": 0
      },
      "text/plain": [
       "IntProgress(value=0, description='mou_9', max=22)"
      ]
     },
     "metadata": {},
     "output_type": "display_data"
    },
    {
     "data": {
      "application/vnd.jupyter.widget-view+json": {
       "model_id": "8ee0ab1ca93e431ebe45a97aae8f70cd",
       "version_major": 2,
       "version_minor": 0
      },
      "text/plain": [
       "IntProgress(value=0, description='mou_9', max=22)"
      ]
     },
     "metadata": {},
     "output_type": "display_data"
    },
    {
     "name": "stdout",
     "output_type": "stream",
     "text": [
      "Warning: skipping session with too few trials 49\n",
      "Warning: skipping session with too few trials 47\n",
      "Warning: skipping session with too few trials 49\n",
      "Warning: skipping session with too few trials 39\n",
      "Warning: skipping session with too few trials 37\n",
      "Warning: skipping session with too few trials 24\n",
      "Warning: skipping session with too few trials 20\n",
      "Warning: skipping session with too few trials 49\n",
      "Warning: skipping session with too few trials 35\n",
      "Warning: skipping session with too few trials 41\n",
      "Warning: skipping session with too few trials 43\n"
     ]
    },
    {
     "data": {
      "application/vnd.jupyter.widget-view+json": {
       "model_id": "3415c14655994d59b786a4106a3cc0c9",
       "version_major": 2,
       "version_minor": 0
      },
      "text/plain": [
       "IntProgress(value=0, description='mou_9', max=22)"
      ]
     },
     "metadata": {},
     "output_type": "display_data"
    },
    {
     "name": "stdout",
     "output_type": "stream",
     "text": [
      "Warning: skipping session with too few trials 49\n",
      "Warning: skipping session with too few trials 48\n",
      "Warning: skipping session with too few trials 26\n",
      "Warning: skipping session with too few trials 14\n",
      "Warning: skipping session with too few trials 49\n",
      "Warning: skipping session with too few trials 47\n"
     ]
    },
    {
     "data": {
      "application/vnd.jupyter.widget-view+json": {
       "model_id": "95e92f4146944396a8f2ce2308a33173",
       "version_major": 2,
       "version_minor": 0
      },
      "text/plain": [
       "IntProgress(value=0, description='mou_5', max=21)"
      ]
     },
     "metadata": {},
     "output_type": "display_data"
    },
    {
     "data": {
      "application/vnd.jupyter.widget-view+json": {
       "model_id": "459a9a9ea1c54f5c95479df1277f304f",
       "version_major": 2,
       "version_minor": 0
      },
      "text/plain": [
       "IntProgress(value=0, description='mou_5', max=21)"
      ]
     },
     "metadata": {},
     "output_type": "display_data"
    },
    {
     "name": "stdout",
     "output_type": "stream",
     "text": [
      "Warning: skipping session with too few trials 43\n",
      "Warning: skipping session with too few trials 47\n",
      "Warning: skipping session with too few trials 21\n",
      "Warning: skipping session with too few trials 33\n",
      "Warning: skipping session with too few trials 49\n",
      "Warning: skipping session with too few trials 34\n",
      "Warning: skipping session with too few trials 42\n"
     ]
    },
    {
     "data": {
      "application/vnd.jupyter.widget-view+json": {
       "model_id": "3550dd46d1eb472ca932059343bc30b6",
       "version_major": 2,
       "version_minor": 0
      },
      "text/plain": [
       "IntProgress(value=0, description='mou_5', max=21)"
      ]
     },
     "metadata": {},
     "output_type": "display_data"
    },
    {
     "name": "stdout",
     "output_type": "stream",
     "text": [
      "Warning: skipping session with too few trials 45\n",
      "Warning: skipping session with too few trials 47\n",
      "Warning: skipping session with too few trials 20\n",
      "Warning: skipping session with too few trials 44\n",
      "Warning: skipping session with too few trials 41\n"
     ]
    },
    {
     "data": {
      "application/vnd.jupyter.widget-view+json": {
       "model_id": "23dd78f6b33a49b582d9b03f9d67c71d",
       "version_major": 2,
       "version_minor": 0
      },
      "text/plain": [
       "IntProgress(value=0, description='mou_5', max=21)"
      ]
     },
     "metadata": {},
     "output_type": "display_data"
    },
    {
     "data": {
      "application/vnd.jupyter.widget-view+json": {
       "model_id": "bc7e416e16ad41e0aab72341c600ff1e",
       "version_major": 2,
       "version_minor": 0
      },
      "text/plain": [
       "IntProgress(value=0, description='mou_5', max=21)"
      ]
     },
     "metadata": {},
     "output_type": "display_data"
    },
    {
     "name": "stdout",
     "output_type": "stream",
     "text": [
      "Warning: skipping session with too few trials 43\n",
      "Warning: skipping session with too few trials 47\n",
      "Warning: skipping session with too few trials 21\n",
      "Warning: skipping session with too few trials 33\n",
      "Warning: skipping session with too few trials 49\n",
      "Warning: skipping session with too few trials 34\n",
      "Warning: skipping session with too few trials 42\n"
     ]
    },
    {
     "data": {
      "application/vnd.jupyter.widget-view+json": {
       "model_id": "695991cbe681455096ca95074ca281bb",
       "version_major": 2,
       "version_minor": 0
      },
      "text/plain": [
       "IntProgress(value=0, description='mou_5', max=21)"
      ]
     },
     "metadata": {},
     "output_type": "display_data"
    },
    {
     "name": "stdout",
     "output_type": "stream",
     "text": [
      "Warning: skipping session with too few trials 45\n",
      "Warning: skipping session with too few trials 47\n",
      "Warning: skipping session with too few trials 20\n",
      "Warning: skipping session with too few trials 44\n",
      "Warning: skipping session with too few trials 41\n"
     ]
    },
    {
     "data": {
      "application/vnd.jupyter.widget-view+json": {
       "model_id": "46af77a2516d40de9fbc226c3897b44c",
       "version_major": 2,
       "version_minor": 0
      },
      "text/plain": [
       "IntProgress(value=0, description='mou_5', max=21)"
      ]
     },
     "metadata": {},
     "output_type": "display_data"
    },
    {
     "data": {
      "application/vnd.jupyter.widget-view+json": {
       "model_id": "1c0bd11b26894e5fb157b598baf0e707",
       "version_major": 2,
       "version_minor": 0
      },
      "text/plain": [
       "IntProgress(value=0, description='mou_5', max=21)"
      ]
     },
     "metadata": {},
     "output_type": "display_data"
    },
    {
     "name": "stdout",
     "output_type": "stream",
     "text": [
      "Warning: skipping session with too few trials 43\n",
      "Warning: skipping session with too few trials 47\n",
      "Warning: skipping session with too few trials 21\n",
      "Warning: skipping session with too few trials 33\n",
      "Warning: skipping session with too few trials 49\n",
      "Warning: skipping session with too few trials 34\n",
      "Warning: skipping session with too few trials 42\n"
     ]
    },
    {
     "data": {
      "application/vnd.jupyter.widget-view+json": {
       "model_id": "d659bf1392784a4aa1f1d73ed84b7f51",
       "version_major": 2,
       "version_minor": 0
      },
      "text/plain": [
       "IntProgress(value=0, description='mou_5', max=21)"
      ]
     },
     "metadata": {},
     "output_type": "display_data"
    },
    {
     "name": "stdout",
     "output_type": "stream",
     "text": [
      "Warning: skipping session with too few trials 45\n",
      "Warning: skipping session with too few trials 47\n",
      "Warning: skipping session with too few trials 20\n",
      "Warning: skipping session with too few trials 44\n",
      "Warning: skipping session with too few trials 41\n"
     ]
    },
    {
     "data": {
      "application/vnd.jupyter.widget-view+json": {
       "model_id": "998f9821d7d84ac787ca22ee1cea514b",
       "version_major": 2,
       "version_minor": 0
      },
      "text/plain": [
       "IntProgress(value=0, description='mou_7', max=27)"
      ]
     },
     "metadata": {},
     "output_type": "display_data"
    },
    {
     "data": {
      "application/vnd.jupyter.widget-view+json": {
       "model_id": "eb58383cfd0b451da470b5a7acee067b",
       "version_major": 2,
       "version_minor": 0
      },
      "text/plain": [
       "IntProgress(value=0, description='mou_7', max=27)"
      ]
     },
     "metadata": {},
     "output_type": "display_data"
    },
    {
     "name": "stdout",
     "output_type": "stream",
     "text": [
      "Warning: skipping session with too few trials 46\n",
      "Warning: skipping session with too few trials 41\n",
      "Warning: skipping session with too few trials 36\n",
      "Warning: skipping session with too few trials 37\n",
      "Warning: skipping session with too few trials 41\n",
      "Warning: skipping session with too few trials 44\n",
      "Warning: skipping session with too few trials 47\n",
      "Warning: skipping session with too few trials 46\n",
      "Warning: skipping session with too few trials 45\n"
     ]
    },
    {
     "data": {
      "application/vnd.jupyter.widget-view+json": {
       "model_id": "9639977338f84030b44a1f0114b30650",
       "version_major": 2,
       "version_minor": 0
      },
      "text/plain": [
       "IntProgress(value=0, description='mou_7', max=27)"
      ]
     },
     "metadata": {},
     "output_type": "display_data"
    },
    {
     "name": "stdout",
     "output_type": "stream",
     "text": [
      "Warning: skipping session with too few trials 49\n",
      "Warning: skipping session with too few trials 48\n",
      "Warning: skipping session with too few trials 38\n",
      "Warning: skipping session with too few trials 34\n",
      "Warning: skipping session with too few trials 48\n",
      "Warning: skipping session with too few trials 43\n",
      "Warning: skipping session with too few trials 49\n",
      "Warning: skipping session with too few trials 43\n",
      "Warning: skipping session with too few trials 47\n",
      "Warning: skipping session with too few trials 41\n",
      "Warning: skipping session with too few trials 45\n",
      "Warning: skipping session with too few trials 49\n",
      "Warning: skipping session with too few trials 37\n",
      "Warning: skipping session with too few trials 42\n",
      "Warning: skipping session with too few trials 49\n",
      "Warning: skipping session with too few trials 40\n"
     ]
    },
    {
     "data": {
      "application/vnd.jupyter.widget-view+json": {
       "model_id": "02886aba988c4d24b1c7cb41e8243657",
       "version_major": 2,
       "version_minor": 0
      },
      "text/plain": [
       "IntProgress(value=0, description='mou_7', max=27)"
      ]
     },
     "metadata": {},
     "output_type": "display_data"
    },
    {
     "data": {
      "application/vnd.jupyter.widget-view+json": {
       "model_id": "347e5244a9d64005abf3ff431561cbd5",
       "version_major": 2,
       "version_minor": 0
      },
      "text/plain": [
       "IntProgress(value=0, description='mou_7', max=27)"
      ]
     },
     "metadata": {},
     "output_type": "display_data"
    },
    {
     "name": "stdout",
     "output_type": "stream",
     "text": [
      "Warning: skipping session with too few trials 46\n",
      "Warning: skipping session with too few trials 41\n",
      "Warning: skipping session with too few trials 36\n",
      "Warning: skipping session with too few trials 37\n",
      "Warning: skipping session with too few trials 41\n",
      "Warning: skipping session with too few trials 44\n",
      "Warning: skipping session with too few trials 47\n",
      "Warning: skipping session with too few trials 46\n",
      "Warning: skipping session with too few trials 45\n"
     ]
    },
    {
     "data": {
      "application/vnd.jupyter.widget-view+json": {
       "model_id": "375d64e69cab48c4803adad459429066",
       "version_major": 2,
       "version_minor": 0
      },
      "text/plain": [
       "IntProgress(value=0, description='mou_7', max=27)"
      ]
     },
     "metadata": {},
     "output_type": "display_data"
    },
    {
     "name": "stdout",
     "output_type": "stream",
     "text": [
      "Warning: skipping session with too few trials 49\n",
      "Warning: skipping session with too few trials 48\n",
      "Warning: skipping session with too few trials 38\n",
      "Warning: skipping session with too few trials 34\n",
      "Warning: skipping session with too few trials 48\n",
      "Warning: skipping session with too few trials 43\n",
      "Warning: skipping session with too few trials 49\n",
      "Warning: skipping session with too few trials 43\n",
      "Warning: skipping session with too few trials 47\n",
      "Warning: skipping session with too few trials 41\n",
      "Warning: skipping session with too few trials 45\n",
      "Warning: skipping session with too few trials 49\n",
      "Warning: skipping session with too few trials 37\n",
      "Warning: skipping session with too few trials 42\n",
      "Warning: skipping session with too few trials 49\n",
      "Warning: skipping session with too few trials 40\n"
     ]
    },
    {
     "data": {
      "application/vnd.jupyter.widget-view+json": {
       "model_id": "3026ca2a36ea4e389a196c7bd3f31dfa",
       "version_major": 2,
       "version_minor": 0
      },
      "text/plain": [
       "IntProgress(value=0, description='mou_7', max=27)"
      ]
     },
     "metadata": {},
     "output_type": "display_data"
    },
    {
     "data": {
      "application/vnd.jupyter.widget-view+json": {
       "model_id": "4b81ece75b2041c9b2852aa5a5bc3582",
       "version_major": 2,
       "version_minor": 0
      },
      "text/plain": [
       "IntProgress(value=0, description='mou_7', max=27)"
      ]
     },
     "metadata": {},
     "output_type": "display_data"
    },
    {
     "name": "stdout",
     "output_type": "stream",
     "text": [
      "Warning: skipping session with too few trials 46\n",
      "Warning: skipping session with too few trials 41\n",
      "Warning: skipping session with too few trials 36\n",
      "Warning: skipping session with too few trials 37\n",
      "Warning: skipping session with too few trials 41\n",
      "Warning: skipping session with too few trials 44\n",
      "Warning: skipping session with too few trials 47\n",
      "Warning: skipping session with too few trials 46\n",
      "Warning: skipping session with too few trials 45\n"
     ]
    },
    {
     "data": {
      "application/vnd.jupyter.widget-view+json": {
       "model_id": "89cfde6943584b3885d4c9e8e02708c7",
       "version_major": 2,
       "version_minor": 0
      },
      "text/plain": [
       "IntProgress(value=0, description='mou_7', max=27)"
      ]
     },
     "metadata": {},
     "output_type": "display_data"
    },
    {
     "name": "stdout",
     "output_type": "stream",
     "text": [
      "Warning: skipping session with too few trials 49\n",
      "Warning: skipping session with too few trials 48\n",
      "Warning: skipping session with too few trials 38\n",
      "Warning: skipping session with too few trials 34\n",
      "Warning: skipping session with too few trials 48\n",
      "Warning: skipping session with too few trials 43\n",
      "Warning: skipping session with too few trials 49\n",
      "Warning: skipping session with too few trials 43\n",
      "Warning: skipping session with too few trials 47\n",
      "Warning: skipping session with too few trials 41\n",
      "Warning: skipping session with too few trials 45\n",
      "Warning: skipping session with too few trials 49\n",
      "Warning: skipping session with too few trials 37\n",
      "Warning: skipping session with too few trials 42\n",
      "Warning: skipping session with too few trials 49\n",
      "Warning: skipping session with too few trials 40\n"
     ]
    },
    {
     "data": {
      "application/vnd.jupyter.widget-view+json": {
       "model_id": "237b042094004fdc9f1dfeda01c1b679",
       "version_major": 2,
       "version_minor": 0
      },
      "text/plain": [
       "IntProgress(value=0, description='session', max=36)"
      ]
     },
     "metadata": {},
     "output_type": "display_data"
    },
    {
     "data": {
      "application/vnd.jupyter.widget-view+json": {
       "model_id": "6797b2614739400bb24b7dd909cc493d",
       "version_major": 2,
       "version_minor": 0
      },
      "text/plain": [
       "IntProgress(value=0, description='mou_6', max=30)"
      ]
     },
     "metadata": {},
     "output_type": "display_data"
    },
    {
     "data": {
      "application/vnd.jupyter.widget-view+json": {
       "model_id": "a31d1aa0c09149ff9ddad601e87adcaa",
       "version_major": 2,
       "version_minor": 0
      },
      "text/plain": [
       "IntProgress(value=0, description='mou_6', max=30)"
      ]
     },
     "metadata": {},
     "output_type": "display_data"
    },
    {
     "name": "stdout",
     "output_type": "stream",
     "text": [
      "Warning: skipping session with too few trials 18\n",
      "Warning: skipping session with too few trials 49\n",
      "Warning: skipping session with too few trials 49\n",
      "Warning: skipping session with too few trials 43\n",
      "Warning: skipping session with too few trials 27\n",
      "Warning: skipping session with too few trials 48\n",
      "Warning: skipping session with too few trials 31\n",
      "Warning: skipping session with too few trials 42\n",
      "Warning: skipping session with too few trials 36\n"
     ]
    },
    {
     "data": {
      "application/vnd.jupyter.widget-view+json": {
       "model_id": "be49c753be6340498939b0616912c4dc",
       "version_major": 2,
       "version_minor": 0
      },
      "text/plain": [
       "IntProgress(value=0, description='mou_6', max=30)"
      ]
     },
     "metadata": {},
     "output_type": "display_data"
    },
    {
     "name": "stdout",
     "output_type": "stream",
     "text": [
      "Warning: skipping session with too few trials 23\n",
      "Warning: skipping session with too few trials 37\n",
      "Warning: skipping session with too few trials 43\n",
      "Warning: skipping session with too few trials 30\n",
      "Warning: skipping session with too few trials 48\n",
      "Warning: skipping session with too few trials 44\n",
      "Warning: skipping session with too few trials 44\n",
      "Warning: skipping session with too few trials 42\n"
     ]
    },
    {
     "data": {
      "application/vnd.jupyter.widget-view+json": {
       "model_id": "ef746e464e664708bd5b609ef0828c4e",
       "version_major": 2,
       "version_minor": 0
      },
      "text/plain": [
       "IntProgress(value=0, description='mou_6', max=30)"
      ]
     },
     "metadata": {},
     "output_type": "display_data"
    },
    {
     "data": {
      "application/vnd.jupyter.widget-view+json": {
       "model_id": "883545ee2bc3405d918636609c8c8dba",
       "version_major": 2,
       "version_minor": 0
      },
      "text/plain": [
       "IntProgress(value=0, description='mou_6', max=30)"
      ]
     },
     "metadata": {},
     "output_type": "display_data"
    },
    {
     "name": "stdout",
     "output_type": "stream",
     "text": [
      "Warning: skipping session with too few trials 18\n",
      "Warning: skipping session with too few trials 49\n",
      "Warning: skipping session with too few trials 49\n",
      "Warning: skipping session with too few trials 43\n",
      "Warning: skipping session with too few trials 27\n",
      "Warning: skipping session with too few trials 48\n",
      "Warning: skipping session with too few trials 31\n",
      "Warning: skipping session with too few trials 42\n",
      "Warning: skipping session with too few trials 36\n"
     ]
    },
    {
     "data": {
      "application/vnd.jupyter.widget-view+json": {
       "model_id": "e41a1fbd8d584056be0e11e1a2ea089d",
       "version_major": 2,
       "version_minor": 0
      },
      "text/plain": [
       "IntProgress(value=0, description='mou_6', max=30)"
      ]
     },
     "metadata": {},
     "output_type": "display_data"
    },
    {
     "name": "stdout",
     "output_type": "stream",
     "text": [
      "Warning: skipping session with too few trials 23\n",
      "Warning: skipping session with too few trials 37\n",
      "Warning: skipping session with too few trials 43\n",
      "Warning: skipping session with too few trials 30\n",
      "Warning: skipping session with too few trials 48\n",
      "Warning: skipping session with too few trials 44\n",
      "Warning: skipping session with too few trials 44\n",
      "Warning: skipping session with too few trials 42\n"
     ]
    },
    {
     "data": {
      "application/vnd.jupyter.widget-view+json": {
       "model_id": "9c729146c0234f97b203f8dffad4bf42",
       "version_major": 2,
       "version_minor": 0
      },
      "text/plain": [
       "IntProgress(value=0, description='mou_6', max=30)"
      ]
     },
     "metadata": {},
     "output_type": "display_data"
    },
    {
     "data": {
      "application/vnd.jupyter.widget-view+json": {
       "model_id": "30cdb6977f014d0fb90437e4877a273b",
       "version_major": 2,
       "version_minor": 0
      },
      "text/plain": [
       "IntProgress(value=0, description='mou_6', max=30)"
      ]
     },
     "metadata": {},
     "output_type": "display_data"
    },
    {
     "name": "stdout",
     "output_type": "stream",
     "text": [
      "Warning: skipping session with too few trials 18\n",
      "Warning: skipping session with too few trials 49\n",
      "Warning: skipping session with too few trials 49\n",
      "Warning: skipping session with too few trials 43\n",
      "Warning: skipping session with too few trials 27\n",
      "Warning: skipping session with too few trials 48\n",
      "Warning: skipping session with too few trials 31\n",
      "Warning: skipping session with too few trials 42\n",
      "Warning: skipping session with too few trials 36\n"
     ]
    },
    {
     "data": {
      "application/vnd.jupyter.widget-view+json": {
       "model_id": "317041ea64fb4c02af1928e826779dd6",
       "version_major": 2,
       "version_minor": 0
      },
      "text/plain": [
       "IntProgress(value=0, description='mou_6', max=30)"
      ]
     },
     "metadata": {},
     "output_type": "display_data"
    },
    {
     "name": "stdout",
     "output_type": "stream",
     "text": [
      "Warning: skipping session with too few trials 23\n",
      "Warning: skipping session with too few trials 37\n",
      "Warning: skipping session with too few trials 43\n",
      "Warning: skipping session with too few trials 30\n",
      "Warning: skipping session with too few trials 48\n",
      "Warning: skipping session with too few trials 44\n",
      "Warning: skipping session with too few trials 44\n",
      "Warning: skipping session with too few trials 42\n"
     ]
    },
    {
     "data": {
      "application/vnd.jupyter.widget-view+json": {
       "model_id": "6064aa54650f4aeaaba3391ab972d2db",
       "version_major": 2,
       "version_minor": 0
      },
      "text/plain": [
       "IntProgress(value=0, description='mou_9', max=22)"
      ]
     },
     "metadata": {},
     "output_type": "display_data"
    },
    {
     "data": {
      "application/vnd.jupyter.widget-view+json": {
       "model_id": "1e429b02beec4a70a787bb65b5efad2b",
       "version_major": 2,
       "version_minor": 0
      },
      "text/plain": [
       "IntProgress(value=0, description='mou_9', max=22)"
      ]
     },
     "metadata": {},
     "output_type": "display_data"
    },
    {
     "name": "stdout",
     "output_type": "stream",
     "text": [
      "Warning: skipping session with too few trials 49\n",
      "Warning: skipping session with too few trials 47\n",
      "Warning: skipping session with too few trials 49\n",
      "Warning: skipping session with too few trials 39\n",
      "Warning: skipping session with too few trials 37\n",
      "Warning: skipping session with too few trials 24\n",
      "Warning: skipping session with too few trials 20\n",
      "Warning: skipping session with too few trials 49\n",
      "Warning: skipping session with too few trials 35\n",
      "Warning: skipping session with too few trials 41\n",
      "Warning: skipping session with too few trials 43\n"
     ]
    },
    {
     "data": {
      "application/vnd.jupyter.widget-view+json": {
       "model_id": "385ac6fc75de47df96fcef3a2b8309f0",
       "version_major": 2,
       "version_minor": 0
      },
      "text/plain": [
       "IntProgress(value=0, description='mou_9', max=22)"
      ]
     },
     "metadata": {},
     "output_type": "display_data"
    },
    {
     "name": "stdout",
     "output_type": "stream",
     "text": [
      "Warning: skipping session with too few trials 49\n",
      "Warning: skipping session with too few trials 48\n",
      "Warning: skipping session with too few trials 26\n",
      "Warning: skipping session with too few trials 14\n",
      "Warning: skipping session with too few trials 49\n",
      "Warning: skipping session with too few trials 47\n"
     ]
    },
    {
     "data": {
      "application/vnd.jupyter.widget-view+json": {
       "model_id": "9ba0a6b0634a4bff8ce662c8e344521d",
       "version_major": 2,
       "version_minor": 0
      },
      "text/plain": [
       "IntProgress(value=0, description='mou_9', max=22)"
      ]
     },
     "metadata": {},
     "output_type": "display_data"
    },
    {
     "data": {
      "application/vnd.jupyter.widget-view+json": {
       "model_id": "8847669d3be14671b1036711e35e3cc0",
       "version_major": 2,
       "version_minor": 0
      },
      "text/plain": [
       "IntProgress(value=0, description='mou_9', max=22)"
      ]
     },
     "metadata": {},
     "output_type": "display_data"
    },
    {
     "name": "stdout",
     "output_type": "stream",
     "text": [
      "Warning: skipping session with too few trials 49\n",
      "Warning: skipping session with too few trials 47\n",
      "Warning: skipping session with too few trials 49\n",
      "Warning: skipping session with too few trials 39\n",
      "Warning: skipping session with too few trials 37\n",
      "Warning: skipping session with too few trials 24\n",
      "Warning: skipping session with too few trials 20\n",
      "Warning: skipping session with too few trials 49\n",
      "Warning: skipping session with too few trials 35\n",
      "Warning: skipping session with too few trials 41\n",
      "Warning: skipping session with too few trials 43\n"
     ]
    },
    {
     "data": {
      "application/vnd.jupyter.widget-view+json": {
       "model_id": "9d12671d8d8941ef98a588b38695c33e",
       "version_major": 2,
       "version_minor": 0
      },
      "text/plain": [
       "IntProgress(value=0, description='mou_9', max=22)"
      ]
     },
     "metadata": {},
     "output_type": "display_data"
    },
    {
     "name": "stdout",
     "output_type": "stream",
     "text": [
      "Warning: skipping session with too few trials 49\n",
      "Warning: skipping session with too few trials 48\n",
      "Warning: skipping session with too few trials 26\n",
      "Warning: skipping session with too few trials 14\n",
      "Warning: skipping session with too few trials 49\n",
      "Warning: skipping session with too few trials 47\n"
     ]
    },
    {
     "data": {
      "application/vnd.jupyter.widget-view+json": {
       "model_id": "afb0b5557abd4e2d9f0dbb9da1aa64aa",
       "version_major": 2,
       "version_minor": 0
      },
      "text/plain": [
       "IntProgress(value=0, description='mou_9', max=22)"
      ]
     },
     "metadata": {},
     "output_type": "display_data"
    },
    {
     "data": {
      "application/vnd.jupyter.widget-view+json": {
       "model_id": "aa10b5d7e73142ca90ea62d948c77d07",
       "version_major": 2,
       "version_minor": 0
      },
      "text/plain": [
       "IntProgress(value=0, description='mou_9', max=22)"
      ]
     },
     "metadata": {},
     "output_type": "display_data"
    },
    {
     "name": "stdout",
     "output_type": "stream",
     "text": [
      "Warning: skipping session with too few trials 49\n",
      "Warning: skipping session with too few trials 47\n",
      "Warning: skipping session with too few trials 49\n",
      "Warning: skipping session with too few trials 39\n",
      "Warning: skipping session with too few trials 37\n",
      "Warning: skipping session with too few trials 24\n",
      "Warning: skipping session with too few trials 20\n",
      "Warning: skipping session with too few trials 49\n",
      "Warning: skipping session with too few trials 35\n",
      "Warning: skipping session with too few trials 41\n",
      "Warning: skipping session with too few trials 43\n"
     ]
    },
    {
     "data": {
      "application/vnd.jupyter.widget-view+json": {
       "model_id": "0d6884e219354f6f85b65bf466ad0c35",
       "version_major": 2,
       "version_minor": 0
      },
      "text/plain": [
       "IntProgress(value=0, description='mou_9', max=22)"
      ]
     },
     "metadata": {},
     "output_type": "display_data"
    },
    {
     "name": "stdout",
     "output_type": "stream",
     "text": [
      "Warning: skipping session with too few trials 49\n",
      "Warning: skipping session with too few trials 48\n",
      "Warning: skipping session with too few trials 26\n",
      "Warning: skipping session with too few trials 14\n",
      "Warning: skipping session with too few trials 49\n",
      "Warning: skipping session with too few trials 47\n"
     ]
    },
    {
     "data": {
      "application/vnd.jupyter.widget-view+json": {
       "model_id": "2e093dc7e0ae4dbb8021eb9db3f6b37b",
       "version_major": 2,
       "version_minor": 0
      },
      "text/plain": [
       "IntProgress(value=0, description='mou_5', max=21)"
      ]
     },
     "metadata": {},
     "output_type": "display_data"
    },
    {
     "data": {
      "application/vnd.jupyter.widget-view+json": {
       "model_id": "a391fc6aacfb4475a3eeadb9b5913059",
       "version_major": 2,
       "version_minor": 0
      },
      "text/plain": [
       "IntProgress(value=0, description='mou_5', max=21)"
      ]
     },
     "metadata": {},
     "output_type": "display_data"
    },
    {
     "name": "stdout",
     "output_type": "stream",
     "text": [
      "Warning: skipping session with too few trials 43\n",
      "Warning: skipping session with too few trials 47\n",
      "Warning: skipping session with too few trials 21\n",
      "Warning: skipping session with too few trials 33\n",
      "Warning: skipping session with too few trials 49\n",
      "Warning: skipping session with too few trials 34\n",
      "Warning: skipping session with too few trials 42\n"
     ]
    },
    {
     "data": {
      "application/vnd.jupyter.widget-view+json": {
       "model_id": "1f464f0c59ff4241b8429e485a92d0f1",
       "version_major": 2,
       "version_minor": 0
      },
      "text/plain": [
       "IntProgress(value=0, description='mou_5', max=21)"
      ]
     },
     "metadata": {},
     "output_type": "display_data"
    },
    {
     "name": "stdout",
     "output_type": "stream",
     "text": [
      "Warning: skipping session with too few trials 45\n",
      "Warning: skipping session with too few trials 47\n",
      "Warning: skipping session with too few trials 20\n",
      "Warning: skipping session with too few trials 44\n",
      "Warning: skipping session with too few trials 41\n"
     ]
    },
    {
     "data": {
      "application/vnd.jupyter.widget-view+json": {
       "model_id": "2f4888244cb9424a9c13dd3a21e20088",
       "version_major": 2,
       "version_minor": 0
      },
      "text/plain": [
       "IntProgress(value=0, description='mou_5', max=21)"
      ]
     },
     "metadata": {},
     "output_type": "display_data"
    },
    {
     "data": {
      "application/vnd.jupyter.widget-view+json": {
       "model_id": "a6350fd3cf3542b7ac7d3fce4424163e",
       "version_major": 2,
       "version_minor": 0
      },
      "text/plain": [
       "IntProgress(value=0, description='mou_5', max=21)"
      ]
     },
     "metadata": {},
     "output_type": "display_data"
    },
    {
     "name": "stdout",
     "output_type": "stream",
     "text": [
      "Warning: skipping session with too few trials 43\n",
      "Warning: skipping session with too few trials 47\n",
      "Warning: skipping session with too few trials 21\n",
      "Warning: skipping session with too few trials 33\n",
      "Warning: skipping session with too few trials 49\n",
      "Warning: skipping session with too few trials 34\n",
      "Warning: skipping session with too few trials 42\n"
     ]
    },
    {
     "data": {
      "application/vnd.jupyter.widget-view+json": {
       "model_id": "558d98667048489d8ea2dd7c1f1b829f",
       "version_major": 2,
       "version_minor": 0
      },
      "text/plain": [
       "IntProgress(value=0, description='mou_5', max=21)"
      ]
     },
     "metadata": {},
     "output_type": "display_data"
    },
    {
     "name": "stdout",
     "output_type": "stream",
     "text": [
      "Warning: skipping session with too few trials 45\n",
      "Warning: skipping session with too few trials 47\n",
      "Warning: skipping session with too few trials 20\n",
      "Warning: skipping session with too few trials 44\n",
      "Warning: skipping session with too few trials 41\n"
     ]
    },
    {
     "data": {
      "application/vnd.jupyter.widget-view+json": {
       "model_id": "073c9d3321a3473ca131e060080a761d",
       "version_major": 2,
       "version_minor": 0
      },
      "text/plain": [
       "IntProgress(value=0, description='mou_5', max=21)"
      ]
     },
     "metadata": {},
     "output_type": "display_data"
    },
    {
     "data": {
      "application/vnd.jupyter.widget-view+json": {
       "model_id": "baf1b99788c04582bcc9854a6a936038",
       "version_major": 2,
       "version_minor": 0
      },
      "text/plain": [
       "IntProgress(value=0, description='mou_5', max=21)"
      ]
     },
     "metadata": {},
     "output_type": "display_data"
    },
    {
     "name": "stdout",
     "output_type": "stream",
     "text": [
      "Warning: skipping session with too few trials 43\n",
      "Warning: skipping session with too few trials 47\n",
      "Warning: skipping session with too few trials 21\n",
      "Warning: skipping session with too few trials 33\n",
      "Warning: skipping session with too few trials 49\n",
      "Warning: skipping session with too few trials 34\n",
      "Warning: skipping session with too few trials 42\n"
     ]
    },
    {
     "data": {
      "application/vnd.jupyter.widget-view+json": {
       "model_id": "829b36c2b0e0496eb8cc4813e1cb008e",
       "version_major": 2,
       "version_minor": 0
      },
      "text/plain": [
       "IntProgress(value=0, description='mou_5', max=21)"
      ]
     },
     "metadata": {},
     "output_type": "display_data"
    },
    {
     "name": "stdout",
     "output_type": "stream",
     "text": [
      "Warning: skipping session with too few trials 45\n",
      "Warning: skipping session with too few trials 47\n",
      "Warning: skipping session with too few trials 20\n",
      "Warning: skipping session with too few trials 44\n",
      "Warning: skipping session with too few trials 41\n"
     ]
    },
    {
     "data": {
      "application/vnd.jupyter.widget-view+json": {
       "model_id": "9f1860dbbb244d9e8908dda81c4cfb4a",
       "version_major": 2,
       "version_minor": 0
      },
      "text/plain": [
       "IntProgress(value=0, description='mou_7', max=27)"
      ]
     },
     "metadata": {},
     "output_type": "display_data"
    },
    {
     "data": {
      "application/vnd.jupyter.widget-view+json": {
       "model_id": "ffbf364a5f8b49479ea62ce84f2e5a3f",
       "version_major": 2,
       "version_minor": 0
      },
      "text/plain": [
       "IntProgress(value=0, description='mou_7', max=27)"
      ]
     },
     "metadata": {},
     "output_type": "display_data"
    },
    {
     "name": "stdout",
     "output_type": "stream",
     "text": [
      "Warning: skipping session with too few trials 46\n",
      "Warning: skipping session with too few trials 41\n",
      "Warning: skipping session with too few trials 36\n",
      "Warning: skipping session with too few trials 37\n",
      "Warning: skipping session with too few trials 41\n",
      "Warning: skipping session with too few trials 44\n",
      "Warning: skipping session with too few trials 47\n",
      "Warning: skipping session with too few trials 46\n",
      "Warning: skipping session with too few trials 45\n"
     ]
    },
    {
     "data": {
      "application/vnd.jupyter.widget-view+json": {
       "model_id": "5d39be3254f74f959313e685fd338b34",
       "version_major": 2,
       "version_minor": 0
      },
      "text/plain": [
       "IntProgress(value=0, description='mou_7', max=27)"
      ]
     },
     "metadata": {},
     "output_type": "display_data"
    },
    {
     "name": "stdout",
     "output_type": "stream",
     "text": [
      "Warning: skipping session with too few trials 49\n",
      "Warning: skipping session with too few trials 48\n",
      "Warning: skipping session with too few trials 38\n",
      "Warning: skipping session with too few trials 34\n",
      "Warning: skipping session with too few trials 48\n",
      "Warning: skipping session with too few trials 43\n",
      "Warning: skipping session with too few trials 49\n",
      "Warning: skipping session with too few trials 43\n",
      "Warning: skipping session with too few trials 47\n",
      "Warning: skipping session with too few trials 41\n",
      "Warning: skipping session with too few trials 45\n",
      "Warning: skipping session with too few trials 49\n",
      "Warning: skipping session with too few trials 37\n",
      "Warning: skipping session with too few trials 42\n",
      "Warning: skipping session with too few trials 49\n",
      "Warning: skipping session with too few trials 40\n"
     ]
    },
    {
     "data": {
      "application/vnd.jupyter.widget-view+json": {
       "model_id": "815d9f2d3a014dcfa24274521d411014",
       "version_major": 2,
       "version_minor": 0
      },
      "text/plain": [
       "IntProgress(value=0, description='mou_7', max=27)"
      ]
     },
     "metadata": {},
     "output_type": "display_data"
    },
    {
     "data": {
      "application/vnd.jupyter.widget-view+json": {
       "model_id": "d7438ddc6e6d4495a62db8bb18b172c0",
       "version_major": 2,
       "version_minor": 0
      },
      "text/plain": [
       "IntProgress(value=0, description='mou_7', max=27)"
      ]
     },
     "metadata": {},
     "output_type": "display_data"
    },
    {
     "name": "stdout",
     "output_type": "stream",
     "text": [
      "Warning: skipping session with too few trials 46\n",
      "Warning: skipping session with too few trials 41\n",
      "Warning: skipping session with too few trials 36\n",
      "Warning: skipping session with too few trials 37\n",
      "Warning: skipping session with too few trials 41\n",
      "Warning: skipping session with too few trials 44\n",
      "Warning: skipping session with too few trials 47\n",
      "Warning: skipping session with too few trials 46\n",
      "Warning: skipping session with too few trials 45\n"
     ]
    },
    {
     "data": {
      "application/vnd.jupyter.widget-view+json": {
       "model_id": "ebddb1e4f5a54d5ca1578a52de2d551b",
       "version_major": 2,
       "version_minor": 0
      },
      "text/plain": [
       "IntProgress(value=0, description='mou_7', max=27)"
      ]
     },
     "metadata": {},
     "output_type": "display_data"
    },
    {
     "name": "stdout",
     "output_type": "stream",
     "text": [
      "Warning: skipping session with too few trials 49\n",
      "Warning: skipping session with too few trials 48\n",
      "Warning: skipping session with too few trials 38\n",
      "Warning: skipping session with too few trials 34\n",
      "Warning: skipping session with too few trials 48\n",
      "Warning: skipping session with too few trials 43\n",
      "Warning: skipping session with too few trials 49\n",
      "Warning: skipping session with too few trials 43\n",
      "Warning: skipping session with too few trials 47\n",
      "Warning: skipping session with too few trials 41\n",
      "Warning: skipping session with too few trials 45\n",
      "Warning: skipping session with too few trials 49\n",
      "Warning: skipping session with too few trials 37\n",
      "Warning: skipping session with too few trials 42\n",
      "Warning: skipping session with too few trials 49\n",
      "Warning: skipping session with too few trials 40\n"
     ]
    },
    {
     "data": {
      "application/vnd.jupyter.widget-view+json": {
       "model_id": "95863a0dfb5a462492702ed74c181bff",
       "version_major": 2,
       "version_minor": 0
      },
      "text/plain": [
       "IntProgress(value=0, description='mou_7', max=27)"
      ]
     },
     "metadata": {},
     "output_type": "display_data"
    },
    {
     "data": {
      "application/vnd.jupyter.widget-view+json": {
       "model_id": "7c22d1d28c064294b9413726d15e3042",
       "version_major": 2,
       "version_minor": 0
      },
      "text/plain": [
       "IntProgress(value=0, description='mou_7', max=27)"
      ]
     },
     "metadata": {},
     "output_type": "display_data"
    },
    {
     "name": "stdout",
     "output_type": "stream",
     "text": [
      "Warning: skipping session with too few trials 46\n",
      "Warning: skipping session with too few trials 41\n",
      "Warning: skipping session with too few trials 36\n",
      "Warning: skipping session with too few trials 37\n",
      "Warning: skipping session with too few trials 41\n",
      "Warning: skipping session with too few trials 44\n",
      "Warning: skipping session with too few trials 47\n",
      "Warning: skipping session with too few trials 46\n",
      "Warning: skipping session with too few trials 45\n"
     ]
    },
    {
     "data": {
      "application/vnd.jupyter.widget-view+json": {
       "model_id": "a5ba0b19f6ee45b8a8e73dc57f93d5ae",
       "version_major": 2,
       "version_minor": 0
      },
      "text/plain": [
       "IntProgress(value=0, description='mou_7', max=27)"
      ]
     },
     "metadata": {},
     "output_type": "display_data"
    },
    {
     "name": "stdout",
     "output_type": "stream",
     "text": [
      "Warning: skipping session with too few trials 49\n",
      "Warning: skipping session with too few trials 48\n",
      "Warning: skipping session with too few trials 38\n",
      "Warning: skipping session with too few trials 34\n",
      "Warning: skipping session with too few trials 48\n",
      "Warning: skipping session with too few trials 43\n",
      "Warning: skipping session with too few trials 49\n",
      "Warning: skipping session with too few trials 43\n",
      "Warning: skipping session with too few trials 47\n",
      "Warning: skipping session with too few trials 41\n",
      "Warning: skipping session with too few trials 45\n",
      "Warning: skipping session with too few trials 49\n",
      "Warning: skipping session with too few trials 37\n",
      "Warning: skipping session with too few trials 42\n",
      "Warning: skipping session with too few trials 49\n",
      "Warning: skipping session with too few trials 40\n"
     ]
    }
   ],
   "source": [
    "for intervName, interv in intervDict.items():\n",
    "    bulk_metrics.metric_mouse_bulk_vs_session(dataDB, mc, ds, \"varmean\", 'session',\n",
    "                                              trialTypeNames=[None, 'Hit', 'CR'],\n",
    "                                              minTrials=50, verbose=False, cropTime=(intervName, interv))"
   ]
  },
  {
   "cell_type": "code",
   "execution_count": 22,
   "metadata": {
    "scrolled": true
   },
   "outputs": [
    {
     "name": "stdout",
     "output_type": "stream",
     "text": [
      "['varmean', 'session', 'mou_6', 'bn_session', 'dset177', 'None', 'CR', 'AVG']\n",
      "(30,)\n",
      "(22,)\n",
      "['varmean', 'session', 'mou_9', 'bn_session', 'dset186', 'None', 'CR', 'AVG']\n",
      "(22,)\n",
      "(16,)\n",
      "['varmean', 'session', 'mou_5', 'bn_session', 'dset195', 'None', 'CR', 'AVG']\n",
      "(21,)\n",
      "(16,)\n",
      "['varmean', 'session', 'mou_7', 'bn_session', 'dset204', 'None', 'CR', 'AVG']\n",
      "(27,)\n",
      "(11,)\n",
      "['varmean', 'session', 'mou_6', 'bn_trial', 'dset180', 'None', 'CR', 'AVG']\n",
      "(30,)\n",
      "(22,)\n",
      "['varmean', 'session', 'mou_9', 'bn_trial', 'dset189', 'None', 'CR', 'AVG']\n",
      "(22,)\n",
      "(16,)\n",
      "['varmean', 'session', 'mou_5', 'bn_trial', 'dset198', 'None', 'CR', 'AVG']\n",
      "(21,)\n",
      "(16,)\n",
      "['varmean', 'session', 'mou_7', 'bn_trial', 'dset207', 'None', 'CR', 'AVG']\n",
      "(27,)\n",
      "(11,)\n",
      "['varmean', 'session', 'mou_6', 'raw', 'dset174', 'rs', 'CR', 'AVG']\n",
      "(30,)\n",
      "(22,)\n",
      "['varmean', 'session', 'mou_9', 'raw', 'dset183', 'rs', 'CR', 'AVG']\n",
      "(22,)\n",
      "(16,)\n",
      "['varmean', 'session', 'mou_5', 'raw', 'dset192', 'rs', 'CR', 'AVG']\n",
      "(21,)\n",
      "(16,)\n",
      "['varmean', 'session', 'mou_7', 'raw', 'dset201', 'rs', 'CR', 'AVG']\n",
      "(27,)\n",
      "(11,)\n",
      "['varmean', 'session', 'mou_6', 'bn_session', 'dset176', 'None', 'Hit', 'AVG']\n",
      "(30,)\n",
      "(21,)\n",
      "['varmean', 'session', 'mou_9', 'bn_session', 'dset185', 'None', 'Hit', 'AVG']\n",
      "(22,)\n",
      "(11,)\n",
      "['varmean', 'session', 'mou_5', 'bn_session', 'dset194', 'None', 'Hit', 'AVG']\n",
      "(21,)\n",
      "(14,)\n",
      "['varmean', 'session', 'mou_7', 'bn_session', 'dset203', 'None', 'Hit', 'AVG']\n",
      "(27,)\n",
      "(18,)\n",
      "['varmean', 'session', 'mou_6', 'bn_trial', 'dset179', 'None', 'Hit', 'AVG']\n",
      "(30,)\n",
      "(21,)\n",
      "['varmean', 'session', 'mou_9', 'bn_trial', 'dset188', 'None', 'Hit', 'AVG']\n",
      "(22,)\n",
      "(11,)\n",
      "['varmean', 'session', 'mou_5', 'bn_trial', 'dset197', 'None', 'Hit', 'AVG']\n",
      "(21,)\n",
      "(14,)\n",
      "['varmean', 'session', 'mou_7', 'bn_trial', 'dset206', 'None', 'Hit', 'AVG']\n",
      "(27,)\n",
      "(18,)\n",
      "['varmean', 'session', 'mou_6', 'raw', 'dset173', 'rs', 'Hit', 'AVG']\n",
      "(30,)\n",
      "(21,)\n",
      "['varmean', 'session', 'mou_9', 'raw', 'dset182', 'rs', 'Hit', 'AVG']\n",
      "(22,)\n",
      "(11,)\n",
      "['varmean', 'session', 'mou_5', 'raw', 'dset191', 'rs', 'Hit', 'AVG']\n",
      "(21,)\n",
      "(14,)\n",
      "['varmean', 'session', 'mou_7', 'raw', 'dset200', 'rs', 'Hit', 'AVG']\n",
      "(27,)\n",
      "(18,)\n",
      "['varmean', 'session', 'mou_6', 'bn_session', 'dset175', 'None', 'None', 'AVG']\n",
      "(30,)\n",
      "(30,)\n",
      "['varmean', 'session', 'mou_9', 'bn_session', 'dset184', 'None', 'None', 'AVG']\n",
      "(22,)\n",
      "(22,)\n",
      "['varmean', 'session', 'mou_5', 'bn_session', 'dset193', 'None', 'None', 'AVG']\n",
      "(21,)\n",
      "(21,)\n",
      "['varmean', 'session', 'mou_7', 'bn_session', 'dset202', 'None', 'None', 'AVG']\n",
      "(27,)\n",
      "(27,)\n",
      "['varmean', 'session', 'mou_6', 'bn_trial', 'dset178', 'None', 'None', 'AVG']\n",
      "(30,)\n",
      "(30,)\n",
      "['varmean', 'session', 'mou_9', 'bn_trial', 'dset187', 'None', 'None', 'AVG']\n",
      "(22,)\n",
      "(22,)\n",
      "['varmean', 'session', 'mou_5', 'bn_trial', 'dset196', 'None', 'None', 'AVG']\n",
      "(21,)\n",
      "(21,)\n",
      "['varmean', 'session', 'mou_7', 'bn_trial', 'dset205', 'None', 'None', 'AVG']\n",
      "(27,)\n",
      "(27,)\n",
      "['varmean', 'session', 'mou_6', 'raw', 'dset172', 'rs', 'None', 'AVG']\n",
      "(30,)\n",
      "(30,)\n",
      "['varmean', 'session', 'mou_9', 'raw', 'dset181', 'rs', 'None', 'AVG']\n",
      "(22,)\n",
      "(22,)\n",
      "['varmean', 'session', 'mou_5', 'raw', 'dset190', 'rs', 'None', 'AVG']\n",
      "(21,)\n",
      "(21,)\n",
      "['varmean', 'session', 'mou_7', 'raw', 'dset199', 'rs', 'None', 'AVG']\n",
      "(27,)\n",
      "(27,)\n",
      "['varmean', 'session', 'mou_6', 'bn_session', 'dset105', 'None', 'CR', 'DEL']\n",
      "(30,)\n",
      "(22,)\n",
      "['varmean', 'session', 'mou_9', 'bn_session', 'dset114', 'None', 'CR', 'DEL']\n",
      "(22,)\n",
      "(16,)\n",
      "['varmean', 'session', 'mou_5', 'bn_session', 'dset123', 'None', 'CR', 'DEL']\n",
      "(21,)\n",
      "(16,)\n",
      "['varmean', 'session', 'mou_7', 'bn_session', 'dset132', 'None', 'CR', 'DEL']\n",
      "(27,)\n",
      "(11,)\n",
      "['varmean', 'session', 'mou_6', 'bn_trial', 'dset108', 'None', 'CR', 'DEL']\n",
      "(30,)\n",
      "(22,)\n",
      "['varmean', 'session', 'mou_9', 'bn_trial', 'dset117', 'None', 'CR', 'DEL']\n",
      "(22,)\n",
      "(16,)\n",
      "['varmean', 'session', 'mou_5', 'bn_trial', 'dset126', 'None', 'CR', 'DEL']\n",
      "(21,)\n",
      "(16,)\n",
      "['varmean', 'session', 'mou_7', 'bn_trial', 'dset135', 'None', 'CR', 'DEL']\n",
      "(27,)\n",
      "(11,)\n",
      "['varmean', 'session', 'mou_6', 'raw', 'dset102', 'rs', 'CR', 'DEL']\n",
      "(30,)\n",
      "(22,)\n",
      "['varmean', 'session', 'mou_9', 'raw', 'dset111', 'rs', 'CR', 'DEL']\n",
      "(22,)\n",
      "(16,)\n",
      "['varmean', 'session', 'mou_5', 'raw', 'dset120', 'rs', 'CR', 'DEL']\n",
      "(21,)\n",
      "(16,)\n",
      "['varmean', 'session', 'mou_7', 'raw', 'dset129', 'rs', 'CR', 'DEL']\n",
      "(27,)\n",
      "(11,)\n",
      "['varmean', 'session', 'mou_6', 'bn_session', 'dset104', 'None', 'Hit', 'DEL']\n",
      "(30,)\n",
      "(21,)\n",
      "['varmean', 'session', 'mou_9', 'bn_session', 'dset113', 'None', 'Hit', 'DEL']\n",
      "(22,)\n",
      "(11,)\n",
      "['varmean', 'session', 'mou_5', 'bn_session', 'dset122', 'None', 'Hit', 'DEL']\n",
      "(21,)\n",
      "(14,)\n",
      "['varmean', 'session', 'mou_7', 'bn_session', 'dset131', 'None', 'Hit', 'DEL']\n",
      "(27,)\n",
      "(18,)\n",
      "['varmean', 'session', 'mou_6', 'bn_trial', 'dset107', 'None', 'Hit', 'DEL']\n",
      "(30,)\n",
      "(21,)\n",
      "['varmean', 'session', 'mou_9', 'bn_trial', 'dset116', 'None', 'Hit', 'DEL']\n",
      "(22,)\n",
      "(11,)\n",
      "['varmean', 'session', 'mou_5', 'bn_trial', 'dset125', 'None', 'Hit', 'DEL']\n",
      "(21,)\n",
      "(14,)\n",
      "['varmean', 'session', 'mou_7', 'bn_trial', 'dset134', 'None', 'Hit', 'DEL']\n",
      "(27,)\n",
      "(18,)\n",
      "['varmean', 'session', 'mou_6', 'raw', 'dset101', 'rs', 'Hit', 'DEL']\n",
      "(30,)\n",
      "(21,)\n",
      "['varmean', 'session', 'mou_9', 'raw', 'dset110', 'rs', 'Hit', 'DEL']\n",
      "(22,)\n",
      "(11,)\n",
      "['varmean', 'session', 'mou_5', 'raw', 'dset119', 'rs', 'Hit', 'DEL']\n",
      "(21,)\n",
      "(14,)\n",
      "['varmean', 'session', 'mou_7', 'raw', 'dset128', 'rs', 'Hit', 'DEL']\n",
      "(27,)\n",
      "(18,)\n",
      "['varmean', 'session', 'mou_6', 'bn_session', 'dset103', 'None', 'None', 'DEL']\n",
      "(30,)\n",
      "(30,)\n",
      "['varmean', 'session', 'mou_9', 'bn_session', 'dset112', 'None', 'None', 'DEL']\n",
      "(22,)\n",
      "(22,)\n",
      "['varmean', 'session', 'mou_5', 'bn_session', 'dset121', 'None', 'None', 'DEL']\n",
      "(21,)\n",
      "(21,)\n",
      "['varmean', 'session', 'mou_7', 'bn_session', 'dset130', 'None', 'None', 'DEL']\n",
      "(27,)\n",
      "(27,)\n",
      "['varmean', 'session', 'mou_6', 'bn_trial', 'dset106', 'None', 'None', 'DEL']\n",
      "(30,)\n",
      "(30,)\n",
      "['varmean', 'session', 'mou_9', 'bn_trial', 'dset115', 'None', 'None', 'DEL']\n",
      "(22,)\n",
      "(22,)\n",
      "['varmean', 'session', 'mou_5', 'bn_trial', 'dset124', 'None', 'None', 'DEL']\n",
      "(21,)\n",
      "(21,)\n",
      "['varmean', 'session', 'mou_7', 'bn_trial', 'dset133', 'None', 'None', 'DEL']\n",
      "(27,)\n",
      "(27,)\n",
      "['varmean', 'session', 'mou_6', 'raw', 'dset100', 'rs', 'None', 'DEL']\n",
      "(30,)\n",
      "(30,)\n",
      "['varmean', 'session', 'mou_9', 'raw', 'dset109', 'rs', 'None', 'DEL']\n",
      "(22,)\n",
      "(22,)\n",
      "['varmean', 'session', 'mou_5', 'raw', 'dset118', 'rs', 'None', 'DEL']\n",
      "(21,)\n",
      "(21,)\n",
      "['varmean', 'session', 'mou_7', 'raw', 'dset127', 'rs', 'None', 'DEL']\n",
      "(27,)\n",
      "(27,)\n",
      "['varmean', 'session', 'mou_6', 'bn_session', 'dset141', 'None', 'CR', 'REW']\n",
      "(30,)\n",
      "(22,)\n",
      "['varmean', 'session', 'mou_9', 'bn_session', 'dset150', 'None', 'CR', 'REW']\n",
      "(22,)\n",
      "(16,)\n",
      "['varmean', 'session', 'mou_5', 'bn_session', 'dset159', 'None', 'CR', 'REW']\n",
      "(21,)\n",
      "(16,)\n",
      "['varmean', 'session', 'mou_7', 'bn_session', 'dset168', 'None', 'CR', 'REW']\n",
      "(27,)\n",
      "(11,)\n",
      "['varmean', 'session', 'mou_6', 'bn_trial', 'dset144', 'None', 'CR', 'REW']\n",
      "(30,)\n",
      "(22,)\n",
      "['varmean', 'session', 'mou_9', 'bn_trial', 'dset153', 'None', 'CR', 'REW']\n",
      "(22,)\n",
      "(16,)\n",
      "['varmean', 'session', 'mou_5', 'bn_trial', 'dset162', 'None', 'CR', 'REW']\n",
      "(21,)\n",
      "(16,)\n",
      "['varmean', 'session', 'mou_7', 'bn_trial', 'dset171', 'None', 'CR', 'REW']\n",
      "(27,)\n",
      "(11,)\n",
      "['varmean', 'session', 'mou_6', 'raw', 'dset138', 'rs', 'CR', 'REW']\n",
      "(30,)\n",
      "(22,)\n",
      "['varmean', 'session', 'mou_9', 'raw', 'dset147', 'rs', 'CR', 'REW']\n",
      "(22,)\n",
      "(16,)\n",
      "['varmean', 'session', 'mou_5', 'raw', 'dset156', 'rs', 'CR', 'REW']\n",
      "(21,)\n",
      "(16,)\n",
      "['varmean', 'session', 'mou_7', 'raw', 'dset165', 'rs', 'CR', 'REW']\n",
      "(27,)\n",
      "(11,)\n",
      "['varmean', 'session', 'mou_6', 'bn_session', 'dset140', 'None', 'Hit', 'REW']\n",
      "(30,)\n",
      "(21,)\n",
      "['varmean', 'session', 'mou_9', 'bn_session', 'dset149', 'None', 'Hit', 'REW']\n",
      "(22,)\n",
      "(11,)\n",
      "['varmean', 'session', 'mou_5', 'bn_session', 'dset158', 'None', 'Hit', 'REW']\n",
      "(21,)\n",
      "(14,)\n",
      "['varmean', 'session', 'mou_7', 'bn_session', 'dset167', 'None', 'Hit', 'REW']\n",
      "(27,)\n",
      "(18,)\n",
      "['varmean', 'session', 'mou_6', 'bn_trial', 'dset143', 'None', 'Hit', 'REW']\n",
      "(30,)\n",
      "(21,)\n",
      "['varmean', 'session', 'mou_9', 'bn_trial', 'dset152', 'None', 'Hit', 'REW']\n",
      "(22,)\n",
      "(11,)\n",
      "['varmean', 'session', 'mou_5', 'bn_trial', 'dset161', 'None', 'Hit', 'REW']\n",
      "(21,)\n",
      "(14,)\n",
      "['varmean', 'session', 'mou_7', 'bn_trial', 'dset170', 'None', 'Hit', 'REW']\n",
      "(27,)\n",
      "(18,)\n",
      "['varmean', 'session', 'mou_6', 'raw', 'dset137', 'rs', 'Hit', 'REW']\n",
      "(30,)\n",
      "(21,)\n",
      "['varmean', 'session', 'mou_9', 'raw', 'dset146', 'rs', 'Hit', 'REW']\n",
      "(22,)\n",
      "(11,)\n",
      "['varmean', 'session', 'mou_5', 'raw', 'dset155', 'rs', 'Hit', 'REW']\n",
      "(21,)\n",
      "(14,)\n",
      "['varmean', 'session', 'mou_7', 'raw', 'dset164', 'rs', 'Hit', 'REW']\n",
      "(27,)\n",
      "(18,)\n",
      "['varmean', 'session', 'mou_6', 'bn_session', 'dset139', 'None', 'None', 'REW']\n",
      "(30,)\n",
      "(30,)\n",
      "['varmean', 'session', 'mou_9', 'bn_session', 'dset148', 'None', 'None', 'REW']\n",
      "(22,)\n",
      "(22,)\n",
      "['varmean', 'session', 'mou_5', 'bn_session', 'dset157', 'None', 'None', 'REW']\n",
      "(21,)\n",
      "(21,)\n",
      "['varmean', 'session', 'mou_7', 'bn_session', 'dset166', 'None', 'None', 'REW']\n",
      "(27,)\n",
      "(27,)\n",
      "['varmean', 'session', 'mou_6', 'bn_trial', 'dset142', 'None', 'None', 'REW']\n",
      "(30,)\n",
      "(30,)\n",
      "['varmean', 'session', 'mou_9', 'bn_trial', 'dset151', 'None', 'None', 'REW']\n",
      "(22,)\n",
      "(22,)\n",
      "['varmean', 'session', 'mou_5', 'bn_trial', 'dset160', 'None', 'None', 'REW']\n",
      "(21,)\n",
      "(21,)\n",
      "['varmean', 'session', 'mou_7', 'bn_trial', 'dset169', 'None', 'None', 'REW']\n",
      "(27,)\n",
      "(27,)\n"
     ]
    },
    {
     "name": "stdout",
     "output_type": "stream",
     "text": [
      "['varmean', 'session', 'mou_6', 'raw', 'dset136', 'rs', 'None', 'REW']\n",
      "(30,)\n",
      "(30,)\n",
      "['varmean', 'session', 'mou_9', 'raw', 'dset145', 'rs', 'None', 'REW']\n",
      "(22,)\n",
      "(22,)\n",
      "['varmean', 'session', 'mou_5', 'raw', 'dset154', 'rs', 'None', 'REW']\n",
      "(21,)\n",
      "(21,)\n",
      "['varmean', 'session', 'mou_7', 'raw', 'dset163', 'rs', 'None', 'REW']\n",
      "(27,)\n",
      "(27,)\n",
      "['varmean', 'session', 'mou_6', 'bn_session', 'dset69', 'None', 'CR', 'TEX']\n",
      "(30,)\n",
      "(22,)\n",
      "['varmean', 'session', 'mou_9', 'bn_session', 'dset78', 'None', 'CR', 'TEX']\n",
      "(22,)\n",
      "(16,)\n",
      "['varmean', 'session', 'mou_5', 'bn_session', 'dset87', 'None', 'CR', 'TEX']\n",
      "(21,)\n",
      "(16,)\n",
      "['varmean', 'session', 'mou_7', 'bn_session', 'dset96', 'None', 'CR', 'TEX']\n",
      "(27,)\n",
      "(11,)\n",
      "['varmean', 'session', 'mou_6', 'bn_trial', 'dset72', 'None', 'CR', 'TEX']\n",
      "(30,)\n",
      "(22,)\n",
      "['varmean', 'session', 'mou_9', 'bn_trial', 'dset81', 'None', 'CR', 'TEX']\n",
      "(22,)\n",
      "(16,)\n",
      "['varmean', 'session', 'mou_5', 'bn_trial', 'dset90', 'None', 'CR', 'TEX']\n",
      "(21,)\n",
      "(16,)\n",
      "['varmean', 'session', 'mou_7', 'bn_trial', 'dset99', 'None', 'CR', 'TEX']\n",
      "(27,)\n",
      "(11,)\n",
      "['varmean', 'session', 'mou_6', 'raw', 'dset66', 'rs', 'CR', 'TEX']\n",
      "(30,)\n",
      "(22,)\n",
      "['varmean', 'session', 'mou_9', 'raw', 'dset75', 'rs', 'CR', 'TEX']\n",
      "(22,)\n",
      "(16,)\n",
      "['varmean', 'session', 'mou_5', 'raw', 'dset84', 'rs', 'CR', 'TEX']\n",
      "(21,)\n",
      "(16,)\n",
      "['varmean', 'session', 'mou_7', 'raw', 'dset93', 'rs', 'CR', 'TEX']\n",
      "(27,)\n",
      "(11,)\n",
      "['varmean', 'session', 'mou_6', 'bn_session', 'dset68', 'None', 'Hit', 'TEX']\n",
      "(30,)\n",
      "(21,)\n",
      "['varmean', 'session', 'mou_9', 'bn_session', 'dset77', 'None', 'Hit', 'TEX']\n",
      "(22,)\n",
      "(11,)\n",
      "['varmean', 'session', 'mou_5', 'bn_session', 'dset86', 'None', 'Hit', 'TEX']\n",
      "(21,)\n",
      "(14,)\n",
      "['varmean', 'session', 'mou_7', 'bn_session', 'dset95', 'None', 'Hit', 'TEX']\n",
      "(27,)\n",
      "(18,)\n",
      "['varmean', 'session', 'mou_6', 'bn_trial', 'dset71', 'None', 'Hit', 'TEX']\n",
      "(30,)\n",
      "(21,)\n",
      "['varmean', 'session', 'mou_9', 'bn_trial', 'dset80', 'None', 'Hit', 'TEX']\n",
      "(22,)\n",
      "(11,)\n",
      "['varmean', 'session', 'mou_5', 'bn_trial', 'dset89', 'None', 'Hit', 'TEX']\n",
      "(21,)\n",
      "(14,)\n",
      "['varmean', 'session', 'mou_7', 'bn_trial', 'dset98', 'None', 'Hit', 'TEX']\n",
      "(27,)\n",
      "(18,)\n",
      "['varmean', 'session', 'mou_6', 'raw', 'dset61', 'rs', 'Hit', 'TEX']\n",
      "(30,)\n",
      "(21,)\n",
      "['varmean', 'session', 'mou_6', 'raw', 'dset63', 'rs', 'Hit', 'TEX']\n",
      "(30,)\n",
      "(21,)\n",
      "['varmean', 'session', 'mou_6', 'raw', 'dset65', 'rs', 'Hit', 'TEX']\n",
      "(30,)\n",
      "(21,)\n",
      "['varmean', 'session', 'mou_9', 'raw', 'dset74', 'rs', 'Hit', 'TEX']\n",
      "(22,)\n",
      "(11,)\n",
      "['varmean', 'session', 'mou_5', 'raw', 'dset83', 'rs', 'Hit', 'TEX']\n",
      "(21,)\n",
      "(14,)\n",
      "['varmean', 'session', 'mou_7', 'raw', 'dset92', 'rs', 'Hit', 'TEX']\n",
      "(27,)\n",
      "(18,)\n",
      "['varmean', 'session', 'mou_6', 'bn_session', 'dset67', 'None', 'None', 'TEX']\n",
      "(30,)\n",
      "(30,)\n",
      "['varmean', 'session', 'mou_9', 'bn_session', 'dset76', 'None', 'None', 'TEX']\n",
      "(22,)\n",
      "(22,)\n",
      "['varmean', 'session', 'mou_5', 'bn_session', 'dset85', 'None', 'None', 'TEX']\n",
      "(21,)\n",
      "(21,)\n",
      "['varmean', 'session', 'mou_7', 'bn_session', 'dset94', 'None', 'None', 'TEX']\n",
      "(27,)\n",
      "(27,)\n",
      "['varmean', 'session', 'mou_6', 'bn_trial', 'dset70', 'None', 'None', 'TEX']\n",
      "(30,)\n",
      "(30,)\n",
      "['varmean', 'session', 'mou_9', 'bn_trial', 'dset79', 'None', 'None', 'TEX']\n",
      "(22,)\n",
      "(22,)\n",
      "['varmean', 'session', 'mou_5', 'bn_trial', 'dset88', 'None', 'None', 'TEX']\n",
      "(21,)\n",
      "(21,)\n",
      "['varmean', 'session', 'mou_7', 'bn_trial', 'dset97', 'None', 'None', 'TEX']\n",
      "(27,)\n",
      "(27,)\n",
      "['varmean', 'session', 'mou_6', 'raw', 'dset60', 'rs', 'None', 'TEX']\n",
      "(30,)\n",
      "(30,)\n",
      "['varmean', 'session', 'mou_6', 'raw', 'dset62', 'rs', 'None', 'TEX']\n",
      "(30,)\n",
      "(30,)\n",
      "['varmean', 'session', 'mou_6', 'raw', 'dset64', 'rs', 'None', 'TEX']\n",
      "(30,)\n",
      "(30,)\n",
      "['varmean', 'session', 'mou_9', 'raw', 'dset73', 'rs', 'None', 'TEX']\n",
      "(22,)\n",
      "(22,)\n",
      "['varmean', 'session', 'mou_5', 'raw', 'dset82', 'rs', 'None', 'TEX']\n",
      "(21,)\n",
      "(21,)\n",
      "['varmean', 'session', 'mou_7', 'raw', 'dset91', 'rs', 'None', 'TEX']\n",
      "(27,)\n",
      "(27,)\n"
     ]
    }
   ],
   "source": [
    "bulk_metrics.scatter_metric_bulk(ds, 'varmean', 'session', verbose=False, xFunc=None, haveRegression=False)"
   ]
  },
  {
   "cell_type": "markdown",
   "metadata": {},
   "source": [
    "### Conditions"
   ]
  },
  {
   "cell_type": "code",
   "execution_count": 23,
   "metadata": {},
   "outputs": [],
   "source": [
    "bulk_metrics.barplot_conditions(ds, 'varmean', 'session', verbose=True)"
   ]
  },
  {
   "cell_type": "markdown",
   "metadata": {},
   "source": [
    "### Test variance across channels for interesting interval\n",
    "\n",
    "* Average signal over texture presentation interval\n",
    "* Compute variance over trials for each channel\n",
    "* Compare channels"
   ]
  },
  {
   "cell_type": "code",
   "execution_count": null,
   "metadata": {},
   "outputs": [],
   "source": [
    "bulk_metrics.metric_mouse_bulk(dataDB, mc, ds, 'varmean', 'p', 'channel',\n",
    "                               cropTime=('TEX', (3, 3.5)), verbose=False)"
   ]
  },
  {
   "cell_type": "code",
   "execution_count": null,
   "metadata": {
    "scrolled": true
   },
   "outputs": [],
   "source": [
    "bulk_metrics.plot_metric_bulk(ds, 'varmean', 'channel', yscale='log', verbose=False, # ylim=[0.005,2],\n",
    "                              dropCols=['cropTime'])"
   ]
  },
  {
   "cell_type": "markdown",
   "metadata": {
    "collapsed": true
   },
   "source": [
    "# Effective Rank\n",
    "\n",
    "### ByTime"
   ]
  },
  {
   "cell_type": "code",
   "execution_count": 24,
   "metadata": {
    "scrolled": true
   },
   "outputs": [
    {
     "data": {
      "application/vnd.jupyter.widget-view+json": {
       "model_id": "8b230359f66b40818b90cef2ac5cb1d0",
       "version_major": 2,
       "version_minor": 0
      },
      "text/plain": [
       "IntProgress(value=0, description='time', max=60)"
      ]
     },
     "metadata": {},
     "output_type": "display_data"
    },
    {
     "name": "stdout",
     "output_type": "stream",
     "text": [
      "(4784, 160, 27)\n",
      "(1724, 160, 27)\n"
     ]
    },
    {
     "name": "stderr",
     "output_type": "stream",
     "text": [
      "/home/alyosha/work/git/mesostat-dev/mesostat/utils/signals/filter.py:11: RuntimeWarning: Mean of empty slice\n",
      "  mu = np.nanmean(x, axis=axis).reshape(shapeNew)\n",
      "/opt/anaconda3/envs/py3ml/lib/python3.8/site-packages/numpy/lib/nanfunctions.py:1664: RuntimeWarning: Degrees of freedom <= 0 for slice.\n",
      "  var = nanvar(a, axis=axis, dtype=dtype, out=out, ddof=ddof,\n"
     ]
    },
    {
     "name": "stdout",
     "output_type": "stream",
     "text": [
      "(251, 160, 27)\n",
      "(1910, 160, 27)\n",
      "(91, 160, 27)\n",
      "(4784, 160, 27)\n",
      "(1724, 160, 27)\n",
      "(251, 160, 27)\n",
      "(1910, 160, 27)\n",
      "(91, 160, 27)\n",
      "(4784, 160, 27)\n",
      "(1724, 160, 27)\n",
      "(251, 160, 27)\n",
      "(1910, 160, 27)\n",
      "(91, 160, 27)\n",
      "(3441, 160, 27)\n",
      "(1116, 160, 27)\n",
      "(311, 160, 27)\n",
      "(1257, 160, 27)\n",
      "(174, 160, 27)\n",
      "(3441, 160, 27)\n",
      "(1116, 160, 27)\n",
      "(311, 160, 27)\n",
      "(1257, 160, 27)\n",
      "(174, 160, 27)\n",
      "(3441, 160, 27)\n",
      "(1116, 160, 27)\n",
      "(311, 160, 27)\n",
      "(1257, 160, 27)\n",
      "(174, 160, 27)\n",
      "(3967, 160, 27)\n",
      "(1209, 160, 27)\n",
      "(239, 160, 27)\n",
      "(1315, 160, 27)\n",
      "(144, 160, 27)\n",
      "(3967, 160, 27)\n",
      "(1209, 160, 27)\n",
      "(239, 160, 27)\n",
      "(1315, 160, 27)\n",
      "(144, 160, 27)\n",
      "(3967, 160, 27)\n",
      "(1209, 160, 27)\n",
      "(239, 160, 27)\n",
      "(1315, 160, 27)\n",
      "(144, 160, 27)\n",
      "(5567, 160, 27)\n",
      "(1432, 160, 27)\n",
      "(159, 160, 27)\n",
      "(1398, 160, 27)\n",
      "(524, 160, 27)\n",
      "(5567, 160, 27)\n",
      "(1432, 160, 27)\n",
      "(159, 160, 27)\n",
      "(1398, 160, 27)\n",
      "(524, 160, 27)\n",
      "(5567, 160, 27)\n",
      "(1432, 160, 27)\n",
      "(159, 160, 27)\n",
      "(1398, 160, 27)\n",
      "(524, 160, 27)\n"
     ]
    }
   ],
   "source": [
    "bulk_metrics.metric_mouse_bulk(dataDB, mc, ds, \"rank_effective\", 's', 'time', verbose=False,\n",
    "                               minTrials=50, trialTypeNames='auto')"
   ]
  },
  {
   "cell_type": "code",
   "execution_count": 25,
   "metadata": {
    "scrolled": true
   },
   "outputs": [
    {
     "name": "stdout",
     "output_type": "stream",
     "text": [
      "['rank_effective', 'time', 'mou_6', 'bn_session', 'dset216', 'None', 'CR', 'None']\n",
      "['rank_effective', 'time', 'mou_9', 'bn_session', 'dset231', 'None', 'CR', 'None']\n",
      "['rank_effective', 'time', 'mou_5', 'bn_session', 'dset246', 'None', 'CR', 'None']\n",
      "['rank_effective', 'time', 'mou_7', 'bn_session', 'dset261', 'None', 'CR', 'None']\n",
      "['rank_effective', 'time', 'mou_6', 'bn_trial', 'dset221', 'None', 'CR', 'None']\n",
      "['rank_effective', 'time', 'mou_9', 'bn_trial', 'dset236', 'None', 'CR', 'None']\n",
      "['rank_effective', 'time', 'mou_5', 'bn_trial', 'dset251', 'None', 'CR', 'None']\n",
      "['rank_effective', 'time', 'mou_7', 'bn_trial', 'dset266', 'None', 'CR', 'None']\n",
      "['rank_effective', 'time', 'mou_6', 'raw', 'dset211', 'rs', 'CR', 'None']\n",
      "['rank_effective', 'time', 'mou_9', 'raw', 'dset226', 'rs', 'CR', 'None']\n",
      "['rank_effective', 'time', 'mou_5', 'raw', 'dset241', 'rs', 'CR', 'None']\n",
      "['rank_effective', 'time', 'mou_7', 'raw', 'dset256', 'rs', 'CR', 'None']\n",
      "['rank_effective', 'time', 'mou_6', 'bn_session', 'dset217', 'None', 'FA', 'None']\n",
      "['rank_effective', 'time', 'mou_9', 'bn_session', 'dset232', 'None', 'FA', 'None']\n",
      "['rank_effective', 'time', 'mou_5', 'bn_session', 'dset247', 'None', 'FA', 'None']\n",
      "['rank_effective', 'time', 'mou_7', 'bn_session', 'dset262', 'None', 'FA', 'None']\n",
      "['rank_effective', 'time', 'mou_6', 'bn_trial', 'dset222', 'None', 'FA', 'None']\n",
      "['rank_effective', 'time', 'mou_9', 'bn_trial', 'dset237', 'None', 'FA', 'None']\n",
      "['rank_effective', 'time', 'mou_5', 'bn_trial', 'dset252', 'None', 'FA', 'None']\n",
      "['rank_effective', 'time', 'mou_7', 'bn_trial', 'dset267', 'None', 'FA', 'None']\n",
      "['rank_effective', 'time', 'mou_6', 'raw', 'dset212', 'rs', 'FA', 'None']\n",
      "['rank_effective', 'time', 'mou_9', 'raw', 'dset227', 'rs', 'FA', 'None']\n",
      "['rank_effective', 'time', 'mou_5', 'raw', 'dset242', 'rs', 'FA', 'None']\n",
      "['rank_effective', 'time', 'mou_7', 'raw', 'dset257', 'rs', 'FA', 'None']\n",
      "['rank_effective', 'time', 'mou_6', 'bn_session', 'dset214', 'None', 'Hit', 'None']\n",
      "['rank_effective', 'time', 'mou_9', 'bn_session', 'dset229', 'None', 'Hit', 'None']\n",
      "['rank_effective', 'time', 'mou_5', 'bn_session', 'dset244', 'None', 'Hit', 'None']\n",
      "['rank_effective', 'time', 'mou_7', 'bn_session', 'dset259', 'None', 'Hit', 'None']\n",
      "['rank_effective', 'time', 'mou_6', 'bn_trial', 'dset219', 'None', 'Hit', 'None']\n",
      "['rank_effective', 'time', 'mou_9', 'bn_trial', 'dset234', 'None', 'Hit', 'None']\n",
      "['rank_effective', 'time', 'mou_5', 'bn_trial', 'dset249', 'None', 'Hit', 'None']\n",
      "['rank_effective', 'time', 'mou_7', 'bn_trial', 'dset264', 'None', 'Hit', 'None']\n",
      "['rank_effective', 'time', 'mou_6', 'raw', 'dset209', 'rs', 'Hit', 'None']\n",
      "['rank_effective', 'time', 'mou_9', 'raw', 'dset224', 'rs', 'Hit', 'None']\n",
      "['rank_effective', 'time', 'mou_5', 'raw', 'dset239', 'rs', 'Hit', 'None']\n",
      "['rank_effective', 'time', 'mou_7', 'raw', 'dset254', 'rs', 'Hit', 'None']\n",
      "['rank_effective', 'time', 'mou_6', 'bn_session', 'dset215', 'None', 'Miss', 'None']\n",
      "['rank_effective', 'time', 'mou_9', 'bn_session', 'dset230', 'None', 'Miss', 'None']\n",
      "['rank_effective', 'time', 'mou_5', 'bn_session', 'dset245', 'None', 'Miss', 'None']\n",
      "['rank_effective', 'time', 'mou_7', 'bn_session', 'dset260', 'None', 'Miss', 'None']\n",
      "['rank_effective', 'time', 'mou_6', 'bn_trial', 'dset220', 'None', 'Miss', 'None']\n",
      "['rank_effective', 'time', 'mou_9', 'bn_trial', 'dset235', 'None', 'Miss', 'None']\n",
      "['rank_effective', 'time', 'mou_5', 'bn_trial', 'dset250', 'None', 'Miss', 'None']\n",
      "['rank_effective', 'time', 'mou_7', 'bn_trial', 'dset265', 'None', 'Miss', 'None']\n",
      "['rank_effective', 'time', 'mou_6', 'raw', 'dset210', 'rs', 'Miss', 'None']\n",
      "['rank_effective', 'time', 'mou_9', 'raw', 'dset225', 'rs', 'Miss', 'None']\n",
      "['rank_effective', 'time', 'mou_5', 'raw', 'dset240', 'rs', 'Miss', 'None']\n",
      "['rank_effective', 'time', 'mou_7', 'raw', 'dset255', 'rs', 'Miss', 'None']\n",
      "['rank_effective', 'time', 'mou_6', 'bn_session', 'dset213', 'None', 'None', 'None']\n",
      "['rank_effective', 'time', 'mou_9', 'bn_session', 'dset228', 'None', 'None', 'None']\n",
      "['rank_effective', 'time', 'mou_5', 'bn_session', 'dset243', 'None', 'None', 'None']\n",
      "['rank_effective', 'time', 'mou_7', 'bn_session', 'dset258', 'None', 'None', 'None']\n",
      "['rank_effective', 'time', 'mou_6', 'bn_trial', 'dset218', 'None', 'None', 'None']\n",
      "['rank_effective', 'time', 'mou_9', 'bn_trial', 'dset233', 'None', 'None', 'None']\n",
      "['rank_effective', 'time', 'mou_5', 'bn_trial', 'dset248', 'None', 'None', 'None']\n",
      "['rank_effective', 'time', 'mou_7', 'bn_trial', 'dset263', 'None', 'None', 'None']\n",
      "['rank_effective', 'time', 'mou_6', 'raw', 'dset208', 'rs', 'None', 'None']\n",
      "['rank_effective', 'time', 'mou_9', 'raw', 'dset223', 'rs', 'None', 'None']\n",
      "['rank_effective', 'time', 'mou_5', 'raw', 'dset238', 'rs', 'None', 'None']\n",
      "['rank_effective', 'time', 'mou_7', 'raw', 'dset253', 'rs', 'None', 'None']\n"
     ]
    }
   ],
   "source": [
    "bulk_metrics.plot_metric_bulk(ds, 'rank_effective', 'time', ylim=[1, None], verbose=False,\n",
    "                              xFunc=lambda m, l: dataDB.get_times()) # ylim=[1,48]"
   ]
  },
  {
   "cell_type": "markdown",
   "metadata": {},
   "source": [
    "### BySession"
   ]
  },
  {
   "cell_type": "code",
   "execution_count": 26,
   "metadata": {
    "scrolled": true
   },
   "outputs": [
    {
     "data": {
      "application/vnd.jupyter.widget-view+json": {
       "model_id": "905dbb3f517f4930ae3e18f47204329c",
       "version_major": 2,
       "version_minor": 0
      },
      "text/plain": [
       "IntProgress(value=0, description='session', max=36)"
      ]
     },
     "metadata": {},
     "output_type": "display_data"
    },
    {
     "data": {
      "application/vnd.jupyter.widget-view+json": {
       "model_id": "27e0f7aa3be648e49355149c56dcbbe2",
       "version_major": 2,
       "version_minor": 0
      },
      "text/plain": [
       "IntProgress(value=0, description='mou_6', max=30)"
      ]
     },
     "metadata": {},
     "output_type": "display_data"
    },
    {
     "data": {
      "application/vnd.jupyter.widget-view+json": {
       "model_id": "8958d8dd8ba44cada2edf1671a2170c1",
       "version_major": 2,
       "version_minor": 0
      },
      "text/plain": [
       "IntProgress(value=0, description='mou_6', max=30)"
      ]
     },
     "metadata": {},
     "output_type": "display_data"
    },
    {
     "name": "stdout",
     "output_type": "stream",
     "text": [
      "Warning: skipping session with too few trials 18\n",
      "Warning: skipping session with too few trials 49\n",
      "Warning: skipping session with too few trials 49\n",
      "Warning: skipping session with too few trials 43\n",
      "Warning: skipping session with too few trials 27\n",
      "Warning: skipping session with too few trials 48\n",
      "Warning: skipping session with too few trials 31\n",
      "Warning: skipping session with too few trials 42\n",
      "Warning: skipping session with too few trials 36\n"
     ]
    },
    {
     "data": {
      "application/vnd.jupyter.widget-view+json": {
       "model_id": "f6a40606bb5e4b90bee471216bb78561",
       "version_major": 2,
       "version_minor": 0
      },
      "text/plain": [
       "IntProgress(value=0, description='mou_6', max=30)"
      ]
     },
     "metadata": {},
     "output_type": "display_data"
    },
    {
     "name": "stdout",
     "output_type": "stream",
     "text": [
      "Warning: skipping session with too few trials 23\n",
      "Warning: skipping session with too few trials 37\n",
      "Warning: skipping session with too few trials 43\n",
      "Warning: skipping session with too few trials 30\n",
      "Warning: skipping session with too few trials 48\n",
      "Warning: skipping session with too few trials 44\n",
      "Warning: skipping session with too few trials 44\n",
      "Warning: skipping session with too few trials 42\n"
     ]
    },
    {
     "data": {
      "application/vnd.jupyter.widget-view+json": {
       "model_id": "bfde5a23f4254078b2998164866afda5",
       "version_major": 2,
       "version_minor": 0
      },
      "text/plain": [
       "IntProgress(value=0, description='mou_6', max=30)"
      ]
     },
     "metadata": {},
     "output_type": "display_data"
    },
    {
     "data": {
      "application/vnd.jupyter.widget-view+json": {
       "model_id": "58621cc308c34bf9870dc2c54f2bab8a",
       "version_major": 2,
       "version_minor": 0
      },
      "text/plain": [
       "IntProgress(value=0, description='mou_6', max=30)"
      ]
     },
     "metadata": {},
     "output_type": "display_data"
    },
    {
     "name": "stdout",
     "output_type": "stream",
     "text": [
      "Warning: skipping session with too few trials 18\n",
      "Warning: skipping session with too few trials 49\n",
      "Warning: skipping session with too few trials 49\n",
      "Warning: skipping session with too few trials 43\n",
      "Warning: skipping session with too few trials 27\n",
      "Warning: skipping session with too few trials 48\n",
      "Warning: skipping session with too few trials 31\n",
      "Warning: skipping session with too few trials 42\n",
      "Warning: skipping session with too few trials 36\n"
     ]
    },
    {
     "data": {
      "application/vnd.jupyter.widget-view+json": {
       "model_id": "02ed9bc94fe6446ab15fb9ce7c2146f3",
       "version_major": 2,
       "version_minor": 0
      },
      "text/plain": [
       "IntProgress(value=0, description='mou_6', max=30)"
      ]
     },
     "metadata": {},
     "output_type": "display_data"
    },
    {
     "name": "stdout",
     "output_type": "stream",
     "text": [
      "Warning: skipping session with too few trials 23\n",
      "Warning: skipping session with too few trials 37\n",
      "Warning: skipping session with too few trials 43\n",
      "Warning: skipping session with too few trials 30\n",
      "Warning: skipping session with too few trials 48\n",
      "Warning: skipping session with too few trials 44\n",
      "Warning: skipping session with too few trials 44\n",
      "Warning: skipping session with too few trials 42\n"
     ]
    },
    {
     "data": {
      "application/vnd.jupyter.widget-view+json": {
       "model_id": "9e993c05771744b4abb6e8271e2b924a",
       "version_major": 2,
       "version_minor": 0
      },
      "text/plain": [
       "IntProgress(value=0, description='mou_6', max=30)"
      ]
     },
     "metadata": {},
     "output_type": "display_data"
    },
    {
     "data": {
      "application/vnd.jupyter.widget-view+json": {
       "model_id": "21518d21ef174d449c422e5633486551",
       "version_major": 2,
       "version_minor": 0
      },
      "text/plain": [
       "IntProgress(value=0, description='mou_6', max=30)"
      ]
     },
     "metadata": {},
     "output_type": "display_data"
    },
    {
     "name": "stdout",
     "output_type": "stream",
     "text": [
      "Warning: skipping session with too few trials 18\n",
      "Warning: skipping session with too few trials 49\n",
      "Warning: skipping session with too few trials 49\n",
      "Warning: skipping session with too few trials 43\n",
      "Warning: skipping session with too few trials 27\n",
      "Warning: skipping session with too few trials 48\n",
      "Warning: skipping session with too few trials 31\n",
      "Warning: skipping session with too few trials 42\n",
      "Warning: skipping session with too few trials 36\n"
     ]
    },
    {
     "data": {
      "application/vnd.jupyter.widget-view+json": {
       "model_id": "e87e714a185a48e7843ac31ed32168ee",
       "version_major": 2,
       "version_minor": 0
      },
      "text/plain": [
       "IntProgress(value=0, description='mou_6', max=30)"
      ]
     },
     "metadata": {},
     "output_type": "display_data"
    },
    {
     "name": "stdout",
     "output_type": "stream",
     "text": [
      "Warning: skipping session with too few trials 23\n",
      "Warning: skipping session with too few trials 37\n",
      "Warning: skipping session with too few trials 43\n",
      "Warning: skipping session with too few trials 30\n",
      "Warning: skipping session with too few trials 48\n",
      "Warning: skipping session with too few trials 44\n",
      "Warning: skipping session with too few trials 44\n",
      "Warning: skipping session with too few trials 42\n"
     ]
    },
    {
     "data": {
      "application/vnd.jupyter.widget-view+json": {
       "model_id": "083164323c3c47269028eca9cc7b2330",
       "version_major": 2,
       "version_minor": 0
      },
      "text/plain": [
       "IntProgress(value=0, description='mou_9', max=22)"
      ]
     },
     "metadata": {},
     "output_type": "display_data"
    },
    {
     "data": {
      "application/vnd.jupyter.widget-view+json": {
       "model_id": "8cb0f63fe47043b2a3b9ae0a0a20d53f",
       "version_major": 2,
       "version_minor": 0
      },
      "text/plain": [
       "IntProgress(value=0, description='mou_9', max=22)"
      ]
     },
     "metadata": {},
     "output_type": "display_data"
    },
    {
     "name": "stdout",
     "output_type": "stream",
     "text": [
      "Warning: skipping session with too few trials 49\n",
      "Warning: skipping session with too few trials 47\n",
      "Warning: skipping session with too few trials 49\n",
      "Warning: skipping session with too few trials 39\n",
      "Warning: skipping session with too few trials 37\n",
      "Warning: skipping session with too few trials 24\n",
      "Warning: skipping session with too few trials 20\n",
      "Warning: skipping session with too few trials 49\n",
      "Warning: skipping session with too few trials 35\n",
      "Warning: skipping session with too few trials 41\n",
      "Warning: skipping session with too few trials 43\n"
     ]
    },
    {
     "data": {
      "application/vnd.jupyter.widget-view+json": {
       "model_id": "0f680a890fa84e2e8f29e51872151e89",
       "version_major": 2,
       "version_minor": 0
      },
      "text/plain": [
       "IntProgress(value=0, description='mou_9', max=22)"
      ]
     },
     "metadata": {},
     "output_type": "display_data"
    },
    {
     "name": "stdout",
     "output_type": "stream",
     "text": [
      "Warning: skipping session with too few trials 49\n",
      "Warning: skipping session with too few trials 48\n",
      "Warning: skipping session with too few trials 26\n",
      "Warning: skipping session with too few trials 14\n",
      "Warning: skipping session with too few trials 49\n",
      "Warning: skipping session with too few trials 47\n"
     ]
    },
    {
     "data": {
      "application/vnd.jupyter.widget-view+json": {
       "model_id": "159528a3932b4e909db1a97e0ddd1bb3",
       "version_major": 2,
       "version_minor": 0
      },
      "text/plain": [
       "IntProgress(value=0, description='mou_9', max=22)"
      ]
     },
     "metadata": {},
     "output_type": "display_data"
    },
    {
     "data": {
      "application/vnd.jupyter.widget-view+json": {
       "model_id": "53604f2a7b314e51a31f4b102ea16b1f",
       "version_major": 2,
       "version_minor": 0
      },
      "text/plain": [
       "IntProgress(value=0, description='mou_9', max=22)"
      ]
     },
     "metadata": {},
     "output_type": "display_data"
    },
    {
     "name": "stdout",
     "output_type": "stream",
     "text": [
      "Warning: skipping session with too few trials 49\n",
      "Warning: skipping session with too few trials 47\n",
      "Warning: skipping session with too few trials 49\n",
      "Warning: skipping session with too few trials 39\n",
      "Warning: skipping session with too few trials 37\n",
      "Warning: skipping session with too few trials 24\n",
      "Warning: skipping session with too few trials 20\n",
      "Warning: skipping session with too few trials 49\n",
      "Warning: skipping session with too few trials 35\n",
      "Warning: skipping session with too few trials 41\n",
      "Warning: skipping session with too few trials 43\n"
     ]
    },
    {
     "data": {
      "application/vnd.jupyter.widget-view+json": {
       "model_id": "1f0ac648f88c47a0a5182b761fd06abb",
       "version_major": 2,
       "version_minor": 0
      },
      "text/plain": [
       "IntProgress(value=0, description='mou_9', max=22)"
      ]
     },
     "metadata": {},
     "output_type": "display_data"
    },
    {
     "name": "stdout",
     "output_type": "stream",
     "text": [
      "Warning: skipping session with too few trials 49\n",
      "Warning: skipping session with too few trials 48\n",
      "Warning: skipping session with too few trials 26\n",
      "Warning: skipping session with too few trials 14\n",
      "Warning: skipping session with too few trials 49\n",
      "Warning: skipping session with too few trials 47\n"
     ]
    },
    {
     "data": {
      "application/vnd.jupyter.widget-view+json": {
       "model_id": "d65a7bb7a39344b083de50337969a6c9",
       "version_major": 2,
       "version_minor": 0
      },
      "text/plain": [
       "IntProgress(value=0, description='mou_9', max=22)"
      ]
     },
     "metadata": {},
     "output_type": "display_data"
    },
    {
     "data": {
      "application/vnd.jupyter.widget-view+json": {
       "model_id": "797c3bf4908d4c9bb97196e47d1ec76d",
       "version_major": 2,
       "version_minor": 0
      },
      "text/plain": [
       "IntProgress(value=0, description='mou_9', max=22)"
      ]
     },
     "metadata": {},
     "output_type": "display_data"
    },
    {
     "name": "stdout",
     "output_type": "stream",
     "text": [
      "Warning: skipping session with too few trials 49\n",
      "Warning: skipping session with too few trials 47\n",
      "Warning: skipping session with too few trials 49\n",
      "Warning: skipping session with too few trials 39\n",
      "Warning: skipping session with too few trials 37\n",
      "Warning: skipping session with too few trials 24\n",
      "Warning: skipping session with too few trials 20\n",
      "Warning: skipping session with too few trials 49\n",
      "Warning: skipping session with too few trials 35\n",
      "Warning: skipping session with too few trials 41\n",
      "Warning: skipping session with too few trials 43\n"
     ]
    },
    {
     "data": {
      "application/vnd.jupyter.widget-view+json": {
       "model_id": "a92c77c2399c4b5592af798ab7c250fc",
       "version_major": 2,
       "version_minor": 0
      },
      "text/plain": [
       "IntProgress(value=0, description='mou_9', max=22)"
      ]
     },
     "metadata": {},
     "output_type": "display_data"
    },
    {
     "name": "stdout",
     "output_type": "stream",
     "text": [
      "Warning: skipping session with too few trials 49\n",
      "Warning: skipping session with too few trials 48\n",
      "Warning: skipping session with too few trials 26\n",
      "Warning: skipping session with too few trials 14\n",
      "Warning: skipping session with too few trials 49\n",
      "Warning: skipping session with too few trials 47\n"
     ]
    },
    {
     "data": {
      "application/vnd.jupyter.widget-view+json": {
       "model_id": "5fdc7bf9297a45029688bc97b3697cfe",
       "version_major": 2,
       "version_minor": 0
      },
      "text/plain": [
       "IntProgress(value=0, description='mou_5', max=21)"
      ]
     },
     "metadata": {},
     "output_type": "display_data"
    },
    {
     "data": {
      "application/vnd.jupyter.widget-view+json": {
       "model_id": "3447833548ac4d84832cdb8cd74b88ab",
       "version_major": 2,
       "version_minor": 0
      },
      "text/plain": [
       "IntProgress(value=0, description='mou_5', max=21)"
      ]
     },
     "metadata": {},
     "output_type": "display_data"
    },
    {
     "name": "stdout",
     "output_type": "stream",
     "text": [
      "Warning: skipping session with too few trials 43\n",
      "Warning: skipping session with too few trials 47\n",
      "Warning: skipping session with too few trials 21\n",
      "Warning: skipping session with too few trials 33\n",
      "Warning: skipping session with too few trials 49\n",
      "Warning: skipping session with too few trials 34\n",
      "Warning: skipping session with too few trials 42\n"
     ]
    },
    {
     "data": {
      "application/vnd.jupyter.widget-view+json": {
       "model_id": "b8b2d91fec674740b75d6eb81e19183a",
       "version_major": 2,
       "version_minor": 0
      },
      "text/plain": [
       "IntProgress(value=0, description='mou_5', max=21)"
      ]
     },
     "metadata": {},
     "output_type": "display_data"
    },
    {
     "name": "stdout",
     "output_type": "stream",
     "text": [
      "Warning: skipping session with too few trials 45\n",
      "Warning: skipping session with too few trials 47\n",
      "Warning: skipping session with too few trials 20\n",
      "Warning: skipping session with too few trials 44\n",
      "Warning: skipping session with too few trials 41\n"
     ]
    },
    {
     "data": {
      "application/vnd.jupyter.widget-view+json": {
       "model_id": "9ef73ba0b8b147a5903986ccc1cf1ad4",
       "version_major": 2,
       "version_minor": 0
      },
      "text/plain": [
       "IntProgress(value=0, description='mou_5', max=21)"
      ]
     },
     "metadata": {},
     "output_type": "display_data"
    },
    {
     "data": {
      "application/vnd.jupyter.widget-view+json": {
       "model_id": "476913017c97435693db0a5ce40f8f09",
       "version_major": 2,
       "version_minor": 0
      },
      "text/plain": [
       "IntProgress(value=0, description='mou_5', max=21)"
      ]
     },
     "metadata": {},
     "output_type": "display_data"
    },
    {
     "name": "stdout",
     "output_type": "stream",
     "text": [
      "Warning: skipping session with too few trials 43\n",
      "Warning: skipping session with too few trials 47\n",
      "Warning: skipping session with too few trials 21\n",
      "Warning: skipping session with too few trials 33\n",
      "Warning: skipping session with too few trials 49\n",
      "Warning: skipping session with too few trials 34\n",
      "Warning: skipping session with too few trials 42\n"
     ]
    },
    {
     "data": {
      "application/vnd.jupyter.widget-view+json": {
       "model_id": "92bd5a05cca24ef4a9433e0abfeab850",
       "version_major": 2,
       "version_minor": 0
      },
      "text/plain": [
       "IntProgress(value=0, description='mou_5', max=21)"
      ]
     },
     "metadata": {},
     "output_type": "display_data"
    },
    {
     "name": "stdout",
     "output_type": "stream",
     "text": [
      "Warning: skipping session with too few trials 45\n",
      "Warning: skipping session with too few trials 47\n",
      "Warning: skipping session with too few trials 20\n",
      "Warning: skipping session with too few trials 44\n",
      "Warning: skipping session with too few trials 41\n"
     ]
    },
    {
     "data": {
      "application/vnd.jupyter.widget-view+json": {
       "model_id": "e8c32c19101a4284be8143b6a4bd9716",
       "version_major": 2,
       "version_minor": 0
      },
      "text/plain": [
       "IntProgress(value=0, description='mou_5', max=21)"
      ]
     },
     "metadata": {},
     "output_type": "display_data"
    },
    {
     "data": {
      "application/vnd.jupyter.widget-view+json": {
       "model_id": "e0aa30198b2644d1a4338a5fe849591d",
       "version_major": 2,
       "version_minor": 0
      },
      "text/plain": [
       "IntProgress(value=0, description='mou_5', max=21)"
      ]
     },
     "metadata": {},
     "output_type": "display_data"
    },
    {
     "name": "stdout",
     "output_type": "stream",
     "text": [
      "Warning: skipping session with too few trials 43\n",
      "Warning: skipping session with too few trials 47\n",
      "Warning: skipping session with too few trials 21\n",
      "Warning: skipping session with too few trials 33\n",
      "Warning: skipping session with too few trials 49\n",
      "Warning: skipping session with too few trials 34\n",
      "Warning: skipping session with too few trials 42\n"
     ]
    },
    {
     "data": {
      "application/vnd.jupyter.widget-view+json": {
       "model_id": "d978df0d38404cceb463ba4420c2946e",
       "version_major": 2,
       "version_minor": 0
      },
      "text/plain": [
       "IntProgress(value=0, description='mou_5', max=21)"
      ]
     },
     "metadata": {},
     "output_type": "display_data"
    },
    {
     "name": "stdout",
     "output_type": "stream",
     "text": [
      "Warning: skipping session with too few trials 45\n",
      "Warning: skipping session with too few trials 47\n",
      "Warning: skipping session with too few trials 20\n",
      "Warning: skipping session with too few trials 44\n",
      "Warning: skipping session with too few trials 41\n"
     ]
    },
    {
     "data": {
      "application/vnd.jupyter.widget-view+json": {
       "model_id": "12a94d26df1f4af594a79c38b4f4c968",
       "version_major": 2,
       "version_minor": 0
      },
      "text/plain": [
       "IntProgress(value=0, description='mou_7', max=27)"
      ]
     },
     "metadata": {},
     "output_type": "display_data"
    },
    {
     "data": {
      "application/vnd.jupyter.widget-view+json": {
       "model_id": "b82cf56f1ee145c0a1753efd81ddd780",
       "version_major": 2,
       "version_minor": 0
      },
      "text/plain": [
       "IntProgress(value=0, description='mou_7', max=27)"
      ]
     },
     "metadata": {},
     "output_type": "display_data"
    },
    {
     "name": "stdout",
     "output_type": "stream",
     "text": [
      "Warning: skipping session with too few trials 46\n",
      "Warning: skipping session with too few trials 41\n",
      "Warning: skipping session with too few trials 36\n",
      "Warning: skipping session with too few trials 37\n",
      "Warning: skipping session with too few trials 41\n",
      "Warning: skipping session with too few trials 44\n",
      "Warning: skipping session with too few trials 47\n",
      "Warning: skipping session with too few trials 46\n",
      "Warning: skipping session with too few trials 45\n"
     ]
    },
    {
     "data": {
      "application/vnd.jupyter.widget-view+json": {
       "model_id": "e8700890fc244bc28259afb1a692b2d7",
       "version_major": 2,
       "version_minor": 0
      },
      "text/plain": [
       "IntProgress(value=0, description='mou_7', max=27)"
      ]
     },
     "metadata": {},
     "output_type": "display_data"
    },
    {
     "name": "stdout",
     "output_type": "stream",
     "text": [
      "Warning: skipping session with too few trials 49\n",
      "Warning: skipping session with too few trials 48\n",
      "Warning: skipping session with too few trials 38\n",
      "Warning: skipping session with too few trials 34\n",
      "Warning: skipping session with too few trials 48\n",
      "Warning: skipping session with too few trials 43\n",
      "Warning: skipping session with too few trials 49\n",
      "Warning: skipping session with too few trials 43\n",
      "Warning: skipping session with too few trials 47\n",
      "Warning: skipping session with too few trials 41\n",
      "Warning: skipping session with too few trials 45\n",
      "Warning: skipping session with too few trials 49\n",
      "Warning: skipping session with too few trials 37\n",
      "Warning: skipping session with too few trials 42\n",
      "Warning: skipping session with too few trials 49\n",
      "Warning: skipping session with too few trials 40\n"
     ]
    },
    {
     "data": {
      "application/vnd.jupyter.widget-view+json": {
       "model_id": "a1063fd95b2142b5bd0cc8a59a4a1881",
       "version_major": 2,
       "version_minor": 0
      },
      "text/plain": [
       "IntProgress(value=0, description='mou_7', max=27)"
      ]
     },
     "metadata": {},
     "output_type": "display_data"
    },
    {
     "data": {
      "application/vnd.jupyter.widget-view+json": {
       "model_id": "b2a12be7c8f44e24a887670db1098c48",
       "version_major": 2,
       "version_minor": 0
      },
      "text/plain": [
       "IntProgress(value=0, description='mou_7', max=27)"
      ]
     },
     "metadata": {},
     "output_type": "display_data"
    },
    {
     "name": "stdout",
     "output_type": "stream",
     "text": [
      "Warning: skipping session with too few trials 46\n",
      "Warning: skipping session with too few trials 41\n",
      "Warning: skipping session with too few trials 36\n",
      "Warning: skipping session with too few trials 37\n",
      "Warning: skipping session with too few trials 41\n",
      "Warning: skipping session with too few trials 44\n",
      "Warning: skipping session with too few trials 47\n",
      "Warning: skipping session with too few trials 46\n",
      "Warning: skipping session with too few trials 45\n"
     ]
    },
    {
     "data": {
      "application/vnd.jupyter.widget-view+json": {
       "model_id": "aab612f02c9c4f4c9116f6c6a11b63f5",
       "version_major": 2,
       "version_minor": 0
      },
      "text/plain": [
       "IntProgress(value=0, description='mou_7', max=27)"
      ]
     },
     "metadata": {},
     "output_type": "display_data"
    },
    {
     "name": "stdout",
     "output_type": "stream",
     "text": [
      "Warning: skipping session with too few trials 49\n",
      "Warning: skipping session with too few trials 48\n",
      "Warning: skipping session with too few trials 38\n",
      "Warning: skipping session with too few trials 34\n",
      "Warning: skipping session with too few trials 48\n",
      "Warning: skipping session with too few trials 43\n",
      "Warning: skipping session with too few trials 49\n",
      "Warning: skipping session with too few trials 43\n",
      "Warning: skipping session with too few trials 47\n",
      "Warning: skipping session with too few trials 41\n",
      "Warning: skipping session with too few trials 45\n",
      "Warning: skipping session with too few trials 49\n",
      "Warning: skipping session with too few trials 37\n",
      "Warning: skipping session with too few trials 42\n",
      "Warning: skipping session with too few trials 49\n",
      "Warning: skipping session with too few trials 40\n"
     ]
    },
    {
     "data": {
      "application/vnd.jupyter.widget-view+json": {
       "model_id": "d933441905ee48eb9f7a43305c0b7794",
       "version_major": 2,
       "version_minor": 0
      },
      "text/plain": [
       "IntProgress(value=0, description='mou_7', max=27)"
      ]
     },
     "metadata": {},
     "output_type": "display_data"
    },
    {
     "data": {
      "application/vnd.jupyter.widget-view+json": {
       "model_id": "9fa7b4887f88429f8a6ef5c02aac29f4",
       "version_major": 2,
       "version_minor": 0
      },
      "text/plain": [
       "IntProgress(value=0, description='mou_7', max=27)"
      ]
     },
     "metadata": {},
     "output_type": "display_data"
    },
    {
     "name": "stdout",
     "output_type": "stream",
     "text": [
      "Warning: skipping session with too few trials 46\n",
      "Warning: skipping session with too few trials 41\n",
      "Warning: skipping session with too few trials 36\n",
      "Warning: skipping session with too few trials 37\n",
      "Warning: skipping session with too few trials 41\n",
      "Warning: skipping session with too few trials 44\n",
      "Warning: skipping session with too few trials 47\n",
      "Warning: skipping session with too few trials 46\n",
      "Warning: skipping session with too few trials 45\n"
     ]
    },
    {
     "data": {
      "application/vnd.jupyter.widget-view+json": {
       "model_id": "397fb3b1363d4a51acb2aea70465b8d1",
       "version_major": 2,
       "version_minor": 0
      },
      "text/plain": [
       "IntProgress(value=0, description='mou_7', max=27)"
      ]
     },
     "metadata": {},
     "output_type": "display_data"
    },
    {
     "name": "stdout",
     "output_type": "stream",
     "text": [
      "Warning: skipping session with too few trials 49\n",
      "Warning: skipping session with too few trials 48\n",
      "Warning: skipping session with too few trials 38\n",
      "Warning: skipping session with too few trials 34\n",
      "Warning: skipping session with too few trials 48\n",
      "Warning: skipping session with too few trials 43\n",
      "Warning: skipping session with too few trials 49\n",
      "Warning: skipping session with too few trials 43\n",
      "Warning: skipping session with too few trials 47\n",
      "Warning: skipping session with too few trials 41\n",
      "Warning: skipping session with too few trials 45\n",
      "Warning: skipping session with too few trials 49\n",
      "Warning: skipping session with too few trials 37\n",
      "Warning: skipping session with too few trials 42\n",
      "Warning: skipping session with too few trials 49\n",
      "Warning: skipping session with too few trials 40\n"
     ]
    },
    {
     "data": {
      "application/vnd.jupyter.widget-view+json": {
       "model_id": "80f9e38797ad4eef966874fbb391a055",
       "version_major": 2,
       "version_minor": 0
      },
      "text/plain": [
       "IntProgress(value=0, description='session', max=36)"
      ]
     },
     "metadata": {},
     "output_type": "display_data"
    },
    {
     "data": {
      "application/vnd.jupyter.widget-view+json": {
       "model_id": "16b3b58635984ec3bfdda6eb99da27b7",
       "version_major": 2,
       "version_minor": 0
      },
      "text/plain": [
       "IntProgress(value=0, description='mou_6', max=30)"
      ]
     },
     "metadata": {},
     "output_type": "display_data"
    },
    {
     "data": {
      "application/vnd.jupyter.widget-view+json": {
       "model_id": "7190a632953941f48adb4430f6d0dc80",
       "version_major": 2,
       "version_minor": 0
      },
      "text/plain": [
       "IntProgress(value=0, description='mou_6', max=30)"
      ]
     },
     "metadata": {},
     "output_type": "display_data"
    },
    {
     "name": "stdout",
     "output_type": "stream",
     "text": [
      "Warning: skipping session with too few trials 18\n",
      "Warning: skipping session with too few trials 49\n",
      "Warning: skipping session with too few trials 49\n",
      "Warning: skipping session with too few trials 43\n",
      "Warning: skipping session with too few trials 27\n",
      "Warning: skipping session with too few trials 48\n",
      "Warning: skipping session with too few trials 31\n",
      "Warning: skipping session with too few trials 42\n",
      "Warning: skipping session with too few trials 36\n"
     ]
    },
    {
     "data": {
      "application/vnd.jupyter.widget-view+json": {
       "model_id": "c13a8d20fc694516aa3562fd01e6dcd3",
       "version_major": 2,
       "version_minor": 0
      },
      "text/plain": [
       "IntProgress(value=0, description='mou_6', max=30)"
      ]
     },
     "metadata": {},
     "output_type": "display_data"
    },
    {
     "name": "stdout",
     "output_type": "stream",
     "text": [
      "Warning: skipping session with too few trials 23\n",
      "Warning: skipping session with too few trials 37\n",
      "Warning: skipping session with too few trials 43\n",
      "Warning: skipping session with too few trials 30\n",
      "Warning: skipping session with too few trials 48\n",
      "Warning: skipping session with too few trials 44\n",
      "Warning: skipping session with too few trials 44\n",
      "Warning: skipping session with too few trials 42\n"
     ]
    },
    {
     "data": {
      "application/vnd.jupyter.widget-view+json": {
       "model_id": "417fe715679246fb947b69fdb87350f7",
       "version_major": 2,
       "version_minor": 0
      },
      "text/plain": [
       "IntProgress(value=0, description='mou_6', max=30)"
      ]
     },
     "metadata": {},
     "output_type": "display_data"
    },
    {
     "data": {
      "application/vnd.jupyter.widget-view+json": {
       "model_id": "3e9554456577426bb23361919540269c",
       "version_major": 2,
       "version_minor": 0
      },
      "text/plain": [
       "IntProgress(value=0, description='mou_6', max=30)"
      ]
     },
     "metadata": {},
     "output_type": "display_data"
    },
    {
     "name": "stdout",
     "output_type": "stream",
     "text": [
      "Warning: skipping session with too few trials 18\n",
      "Warning: skipping session with too few trials 49\n",
      "Warning: skipping session with too few trials 49\n",
      "Warning: skipping session with too few trials 43\n",
      "Warning: skipping session with too few trials 27\n",
      "Warning: skipping session with too few trials 48\n",
      "Warning: skipping session with too few trials 31\n",
      "Warning: skipping session with too few trials 42\n",
      "Warning: skipping session with too few trials 36\n"
     ]
    },
    {
     "data": {
      "application/vnd.jupyter.widget-view+json": {
       "model_id": "dfef6c944eaa4a0b961e4e333cc14998",
       "version_major": 2,
       "version_minor": 0
      },
      "text/plain": [
       "IntProgress(value=0, description='mou_6', max=30)"
      ]
     },
     "metadata": {},
     "output_type": "display_data"
    },
    {
     "name": "stdout",
     "output_type": "stream",
     "text": [
      "Warning: skipping session with too few trials 23\n",
      "Warning: skipping session with too few trials 37\n",
      "Warning: skipping session with too few trials 43\n",
      "Warning: skipping session with too few trials 30\n",
      "Warning: skipping session with too few trials 48\n",
      "Warning: skipping session with too few trials 44\n",
      "Warning: skipping session with too few trials 44\n",
      "Warning: skipping session with too few trials 42\n"
     ]
    },
    {
     "data": {
      "application/vnd.jupyter.widget-view+json": {
       "model_id": "03b629f326e043a58ee149f623dcabe0",
       "version_major": 2,
       "version_minor": 0
      },
      "text/plain": [
       "IntProgress(value=0, description='mou_6', max=30)"
      ]
     },
     "metadata": {},
     "output_type": "display_data"
    },
    {
     "data": {
      "application/vnd.jupyter.widget-view+json": {
       "model_id": "0d4f211070ad47d9aff2d908ca578d67",
       "version_major": 2,
       "version_minor": 0
      },
      "text/plain": [
       "IntProgress(value=0, description='mou_6', max=30)"
      ]
     },
     "metadata": {},
     "output_type": "display_data"
    },
    {
     "name": "stdout",
     "output_type": "stream",
     "text": [
      "Warning: skipping session with too few trials 18\n",
      "Warning: skipping session with too few trials 49\n",
      "Warning: skipping session with too few trials 49\n",
      "Warning: skipping session with too few trials 43\n",
      "Warning: skipping session with too few trials 27\n",
      "Warning: skipping session with too few trials 48\n",
      "Warning: skipping session with too few trials 31\n",
      "Warning: skipping session with too few trials 42\n",
      "Warning: skipping session with too few trials 36\n"
     ]
    },
    {
     "data": {
      "application/vnd.jupyter.widget-view+json": {
       "model_id": "1c5f723eb34345dfb2602e33a7c43905",
       "version_major": 2,
       "version_minor": 0
      },
      "text/plain": [
       "IntProgress(value=0, description='mou_6', max=30)"
      ]
     },
     "metadata": {},
     "output_type": "display_data"
    },
    {
     "name": "stdout",
     "output_type": "stream",
     "text": [
      "Warning: skipping session with too few trials 23\n",
      "Warning: skipping session with too few trials 37\n",
      "Warning: skipping session with too few trials 43\n",
      "Warning: skipping session with too few trials 30\n",
      "Warning: skipping session with too few trials 48\n",
      "Warning: skipping session with too few trials 44\n",
      "Warning: skipping session with too few trials 44\n",
      "Warning: skipping session with too few trials 42\n"
     ]
    },
    {
     "data": {
      "application/vnd.jupyter.widget-view+json": {
       "model_id": "e8ce75b48d0b416ea9b7d76ef40070ce",
       "version_major": 2,
       "version_minor": 0
      },
      "text/plain": [
       "IntProgress(value=0, description='mou_9', max=22)"
      ]
     },
     "metadata": {},
     "output_type": "display_data"
    },
    {
     "data": {
      "application/vnd.jupyter.widget-view+json": {
       "model_id": "066e99fe84cf41f0b41da27748d8f6ab",
       "version_major": 2,
       "version_minor": 0
      },
      "text/plain": [
       "IntProgress(value=0, description='mou_9', max=22)"
      ]
     },
     "metadata": {},
     "output_type": "display_data"
    },
    {
     "name": "stdout",
     "output_type": "stream",
     "text": [
      "Warning: skipping session with too few trials 49\n",
      "Warning: skipping session with too few trials 47\n",
      "Warning: skipping session with too few trials 49\n",
      "Warning: skipping session with too few trials 39\n",
      "Warning: skipping session with too few trials 37\n",
      "Warning: skipping session with too few trials 24\n",
      "Warning: skipping session with too few trials 20\n",
      "Warning: skipping session with too few trials 49\n",
      "Warning: skipping session with too few trials 35\n",
      "Warning: skipping session with too few trials 41\n",
      "Warning: skipping session with too few trials 43\n"
     ]
    },
    {
     "data": {
      "application/vnd.jupyter.widget-view+json": {
       "model_id": "5a30bfbe5c7d467e8282434a9b57528a",
       "version_major": 2,
       "version_minor": 0
      },
      "text/plain": [
       "IntProgress(value=0, description='mou_9', max=22)"
      ]
     },
     "metadata": {},
     "output_type": "display_data"
    },
    {
     "name": "stdout",
     "output_type": "stream",
     "text": [
      "Warning: skipping session with too few trials 49\n",
      "Warning: skipping session with too few trials 48\n",
      "Warning: skipping session with too few trials 26\n",
      "Warning: skipping session with too few trials 14\n",
      "Warning: skipping session with too few trials 49\n",
      "Warning: skipping session with too few trials 47\n"
     ]
    },
    {
     "data": {
      "application/vnd.jupyter.widget-view+json": {
       "model_id": "fdb98d9d29cf4a6581fef889041b0b7b",
       "version_major": 2,
       "version_minor": 0
      },
      "text/plain": [
       "IntProgress(value=0, description='mou_9', max=22)"
      ]
     },
     "metadata": {},
     "output_type": "display_data"
    },
    {
     "data": {
      "application/vnd.jupyter.widget-view+json": {
       "model_id": "566efe88e80e4f43ae1799ddfa9582fc",
       "version_major": 2,
       "version_minor": 0
      },
      "text/plain": [
       "IntProgress(value=0, description='mou_9', max=22)"
      ]
     },
     "metadata": {},
     "output_type": "display_data"
    },
    {
     "name": "stdout",
     "output_type": "stream",
     "text": [
      "Warning: skipping session with too few trials 49\n",
      "Warning: skipping session with too few trials 47\n",
      "Warning: skipping session with too few trials 49\n",
      "Warning: skipping session with too few trials 39\n",
      "Warning: skipping session with too few trials 37\n",
      "Warning: skipping session with too few trials 24\n",
      "Warning: skipping session with too few trials 20\n",
      "Warning: skipping session with too few trials 49\n",
      "Warning: skipping session with too few trials 35\n",
      "Warning: skipping session with too few trials 41\n",
      "Warning: skipping session with too few trials 43\n"
     ]
    },
    {
     "data": {
      "application/vnd.jupyter.widget-view+json": {
       "model_id": "ab24a1903b2c4a79bd912fbfa81f01b6",
       "version_major": 2,
       "version_minor": 0
      },
      "text/plain": [
       "IntProgress(value=0, description='mou_9', max=22)"
      ]
     },
     "metadata": {},
     "output_type": "display_data"
    },
    {
     "name": "stdout",
     "output_type": "stream",
     "text": [
      "Warning: skipping session with too few trials 49\n",
      "Warning: skipping session with too few trials 48\n",
      "Warning: skipping session with too few trials 26\n",
      "Warning: skipping session with too few trials 14\n",
      "Warning: skipping session with too few trials 49\n",
      "Warning: skipping session with too few trials 47\n"
     ]
    },
    {
     "data": {
      "application/vnd.jupyter.widget-view+json": {
       "model_id": "7beb570d444e4a09a9f18bc777bddb5c",
       "version_major": 2,
       "version_minor": 0
      },
      "text/plain": [
       "IntProgress(value=0, description='mou_9', max=22)"
      ]
     },
     "metadata": {},
     "output_type": "display_data"
    },
    {
     "data": {
      "application/vnd.jupyter.widget-view+json": {
       "model_id": "0a3df5c1434447f3ba82352e994e5870",
       "version_major": 2,
       "version_minor": 0
      },
      "text/plain": [
       "IntProgress(value=0, description='mou_9', max=22)"
      ]
     },
     "metadata": {},
     "output_type": "display_data"
    },
    {
     "name": "stdout",
     "output_type": "stream",
     "text": [
      "Warning: skipping session with too few trials 49\n",
      "Warning: skipping session with too few trials 47\n",
      "Warning: skipping session with too few trials 49\n",
      "Warning: skipping session with too few trials 39\n",
      "Warning: skipping session with too few trials 37\n",
      "Warning: skipping session with too few trials 24\n",
      "Warning: skipping session with too few trials 20\n",
      "Warning: skipping session with too few trials 49\n",
      "Warning: skipping session with too few trials 35\n",
      "Warning: skipping session with too few trials 41\n",
      "Warning: skipping session with too few trials 43\n"
     ]
    },
    {
     "data": {
      "application/vnd.jupyter.widget-view+json": {
       "model_id": "aff12bad355744418da1e4dec8a0dbb8",
       "version_major": 2,
       "version_minor": 0
      },
      "text/plain": [
       "IntProgress(value=0, description='mou_9', max=22)"
      ]
     },
     "metadata": {},
     "output_type": "display_data"
    },
    {
     "name": "stdout",
     "output_type": "stream",
     "text": [
      "Warning: skipping session with too few trials 49\n",
      "Warning: skipping session with too few trials 48\n",
      "Warning: skipping session with too few trials 26\n",
      "Warning: skipping session with too few trials 14\n",
      "Warning: skipping session with too few trials 49\n",
      "Warning: skipping session with too few trials 47\n"
     ]
    },
    {
     "data": {
      "application/vnd.jupyter.widget-view+json": {
       "model_id": "844257e51742475cae636268de58cbfb",
       "version_major": 2,
       "version_minor": 0
      },
      "text/plain": [
       "IntProgress(value=0, description='mou_5', max=21)"
      ]
     },
     "metadata": {},
     "output_type": "display_data"
    },
    {
     "data": {
      "application/vnd.jupyter.widget-view+json": {
       "model_id": "300e8deae0644959aaf7d3eca1de94c8",
       "version_major": 2,
       "version_minor": 0
      },
      "text/plain": [
       "IntProgress(value=0, description='mou_5', max=21)"
      ]
     },
     "metadata": {},
     "output_type": "display_data"
    },
    {
     "name": "stdout",
     "output_type": "stream",
     "text": [
      "Warning: skipping session with too few trials 43\n",
      "Warning: skipping session with too few trials 47\n",
      "Warning: skipping session with too few trials 21\n",
      "Warning: skipping session with too few trials 33\n",
      "Warning: skipping session with too few trials 49\n",
      "Warning: skipping session with too few trials 34\n",
      "Warning: skipping session with too few trials 42\n"
     ]
    },
    {
     "data": {
      "application/vnd.jupyter.widget-view+json": {
       "model_id": "f10da1711d814b0a99685adbe25ad823",
       "version_major": 2,
       "version_minor": 0
      },
      "text/plain": [
       "IntProgress(value=0, description='mou_5', max=21)"
      ]
     },
     "metadata": {},
     "output_type": "display_data"
    },
    {
     "name": "stdout",
     "output_type": "stream",
     "text": [
      "Warning: skipping session with too few trials 45\n",
      "Warning: skipping session with too few trials 47\n",
      "Warning: skipping session with too few trials 20\n",
      "Warning: skipping session with too few trials 44\n",
      "Warning: skipping session with too few trials 41\n"
     ]
    },
    {
     "data": {
      "application/vnd.jupyter.widget-view+json": {
       "model_id": "8abeee01885f4fec96de9b17ac157799",
       "version_major": 2,
       "version_minor": 0
      },
      "text/plain": [
       "IntProgress(value=0, description='mou_5', max=21)"
      ]
     },
     "metadata": {},
     "output_type": "display_data"
    },
    {
     "data": {
      "application/vnd.jupyter.widget-view+json": {
       "model_id": "2e29eb32ef544304a020fa410f567acf",
       "version_major": 2,
       "version_minor": 0
      },
      "text/plain": [
       "IntProgress(value=0, description='mou_5', max=21)"
      ]
     },
     "metadata": {},
     "output_type": "display_data"
    },
    {
     "name": "stdout",
     "output_type": "stream",
     "text": [
      "Warning: skipping session with too few trials 43\n",
      "Warning: skipping session with too few trials 47\n",
      "Warning: skipping session with too few trials 21\n",
      "Warning: skipping session with too few trials 33\n",
      "Warning: skipping session with too few trials 49\n",
      "Warning: skipping session with too few trials 34\n",
      "Warning: skipping session with too few trials 42\n"
     ]
    },
    {
     "data": {
      "application/vnd.jupyter.widget-view+json": {
       "model_id": "6fed4c0fa2d84b128725505aa29c7a5b",
       "version_major": 2,
       "version_minor": 0
      },
      "text/plain": [
       "IntProgress(value=0, description='mou_5', max=21)"
      ]
     },
     "metadata": {},
     "output_type": "display_data"
    },
    {
     "name": "stdout",
     "output_type": "stream",
     "text": [
      "Warning: skipping session with too few trials 45\n",
      "Warning: skipping session with too few trials 47\n",
      "Warning: skipping session with too few trials 20\n",
      "Warning: skipping session with too few trials 44\n",
      "Warning: skipping session with too few trials 41\n"
     ]
    },
    {
     "data": {
      "application/vnd.jupyter.widget-view+json": {
       "model_id": "de986dd48de446bfa449ad562fbc5c91",
       "version_major": 2,
       "version_minor": 0
      },
      "text/plain": [
       "IntProgress(value=0, description='mou_5', max=21)"
      ]
     },
     "metadata": {},
     "output_type": "display_data"
    },
    {
     "data": {
      "application/vnd.jupyter.widget-view+json": {
       "model_id": "72e698589b874947977974ea30ea932b",
       "version_major": 2,
       "version_minor": 0
      },
      "text/plain": [
       "IntProgress(value=0, description='mou_5', max=21)"
      ]
     },
     "metadata": {},
     "output_type": "display_data"
    },
    {
     "name": "stdout",
     "output_type": "stream",
     "text": [
      "Warning: skipping session with too few trials 43\n",
      "Warning: skipping session with too few trials 47\n",
      "Warning: skipping session with too few trials 21\n",
      "Warning: skipping session with too few trials 33\n",
      "Warning: skipping session with too few trials 49\n",
      "Warning: skipping session with too few trials 34\n",
      "Warning: skipping session with too few trials 42\n"
     ]
    },
    {
     "data": {
      "application/vnd.jupyter.widget-view+json": {
       "model_id": "0a9c04969f334d93a0449877da96ed81",
       "version_major": 2,
       "version_minor": 0
      },
      "text/plain": [
       "IntProgress(value=0, description='mou_5', max=21)"
      ]
     },
     "metadata": {},
     "output_type": "display_data"
    },
    {
     "name": "stdout",
     "output_type": "stream",
     "text": [
      "Warning: skipping session with too few trials 45\n",
      "Warning: skipping session with too few trials 47\n",
      "Warning: skipping session with too few trials 20\n",
      "Warning: skipping session with too few trials 44\n",
      "Warning: skipping session with too few trials 41\n"
     ]
    },
    {
     "data": {
      "application/vnd.jupyter.widget-view+json": {
       "model_id": "f924eab018fa4f7cacf93c6356bdcbcd",
       "version_major": 2,
       "version_minor": 0
      },
      "text/plain": [
       "IntProgress(value=0, description='mou_7', max=27)"
      ]
     },
     "metadata": {},
     "output_type": "display_data"
    },
    {
     "data": {
      "application/vnd.jupyter.widget-view+json": {
       "model_id": "419dc27e75a24e409daa2128a9abe161",
       "version_major": 2,
       "version_minor": 0
      },
      "text/plain": [
       "IntProgress(value=0, description='mou_7', max=27)"
      ]
     },
     "metadata": {},
     "output_type": "display_data"
    },
    {
     "name": "stdout",
     "output_type": "stream",
     "text": [
      "Warning: skipping session with too few trials 46\n",
      "Warning: skipping session with too few trials 41\n",
      "Warning: skipping session with too few trials 36\n",
      "Warning: skipping session with too few trials 37\n",
      "Warning: skipping session with too few trials 41\n",
      "Warning: skipping session with too few trials 44\n",
      "Warning: skipping session with too few trials 47\n",
      "Warning: skipping session with too few trials 46\n",
      "Warning: skipping session with too few trials 45\n"
     ]
    },
    {
     "data": {
      "application/vnd.jupyter.widget-view+json": {
       "model_id": "07df0088954f4e2da223895a00f7ca30",
       "version_major": 2,
       "version_minor": 0
      },
      "text/plain": [
       "IntProgress(value=0, description='mou_7', max=27)"
      ]
     },
     "metadata": {},
     "output_type": "display_data"
    },
    {
     "name": "stdout",
     "output_type": "stream",
     "text": [
      "Warning: skipping session with too few trials 49\n",
      "Warning: skipping session with too few trials 48\n",
      "Warning: skipping session with too few trials 38\n",
      "Warning: skipping session with too few trials 34\n",
      "Warning: skipping session with too few trials 48\n",
      "Warning: skipping session with too few trials 43\n",
      "Warning: skipping session with too few trials 49\n",
      "Warning: skipping session with too few trials 43\n",
      "Warning: skipping session with too few trials 47\n",
      "Warning: skipping session with too few trials 41\n",
      "Warning: skipping session with too few trials 45\n",
      "Warning: skipping session with too few trials 49\n",
      "Warning: skipping session with too few trials 37\n",
      "Warning: skipping session with too few trials 42\n",
      "Warning: skipping session with too few trials 49\n",
      "Warning: skipping session with too few trials 40\n"
     ]
    },
    {
     "data": {
      "application/vnd.jupyter.widget-view+json": {
       "model_id": "39fe1d691559457497ebe0294e6b2ba0",
       "version_major": 2,
       "version_minor": 0
      },
      "text/plain": [
       "IntProgress(value=0, description='mou_7', max=27)"
      ]
     },
     "metadata": {},
     "output_type": "display_data"
    },
    {
     "data": {
      "application/vnd.jupyter.widget-view+json": {
       "model_id": "f6da266fbaba4df19fd8c16c332b5543",
       "version_major": 2,
       "version_minor": 0
      },
      "text/plain": [
       "IntProgress(value=0, description='mou_7', max=27)"
      ]
     },
     "metadata": {},
     "output_type": "display_data"
    },
    {
     "name": "stdout",
     "output_type": "stream",
     "text": [
      "Warning: skipping session with too few trials 46\n",
      "Warning: skipping session with too few trials 41\n",
      "Warning: skipping session with too few trials 36\n",
      "Warning: skipping session with too few trials 37\n",
      "Warning: skipping session with too few trials 41\n",
      "Warning: skipping session with too few trials 44\n",
      "Warning: skipping session with too few trials 47\n",
      "Warning: skipping session with too few trials 46\n",
      "Warning: skipping session with too few trials 45\n"
     ]
    },
    {
     "data": {
      "application/vnd.jupyter.widget-view+json": {
       "model_id": "77df3c7748b54fb4ae5d3d8aca1a9ce0",
       "version_major": 2,
       "version_minor": 0
      },
      "text/plain": [
       "IntProgress(value=0, description='mou_7', max=27)"
      ]
     },
     "metadata": {},
     "output_type": "display_data"
    },
    {
     "name": "stdout",
     "output_type": "stream",
     "text": [
      "Warning: skipping session with too few trials 49\n",
      "Warning: skipping session with too few trials 48\n",
      "Warning: skipping session with too few trials 38\n",
      "Warning: skipping session with too few trials 34\n",
      "Warning: skipping session with too few trials 48\n",
      "Warning: skipping session with too few trials 43\n",
      "Warning: skipping session with too few trials 49\n",
      "Warning: skipping session with too few trials 43\n",
      "Warning: skipping session with too few trials 47\n",
      "Warning: skipping session with too few trials 41\n",
      "Warning: skipping session with too few trials 45\n",
      "Warning: skipping session with too few trials 49\n",
      "Warning: skipping session with too few trials 37\n",
      "Warning: skipping session with too few trials 42\n",
      "Warning: skipping session with too few trials 49\n",
      "Warning: skipping session with too few trials 40\n"
     ]
    },
    {
     "data": {
      "application/vnd.jupyter.widget-view+json": {
       "model_id": "5690a2779f214bbdbfb1b48fe55d4d9b",
       "version_major": 2,
       "version_minor": 0
      },
      "text/plain": [
       "IntProgress(value=0, description='mou_7', max=27)"
      ]
     },
     "metadata": {},
     "output_type": "display_data"
    },
    {
     "data": {
      "application/vnd.jupyter.widget-view+json": {
       "model_id": "14564e525d584635a250b7d7997f8797",
       "version_major": 2,
       "version_minor": 0
      },
      "text/plain": [
       "IntProgress(value=0, description='mou_7', max=27)"
      ]
     },
     "metadata": {},
     "output_type": "display_data"
    },
    {
     "name": "stdout",
     "output_type": "stream",
     "text": [
      "Warning: skipping session with too few trials 46\n",
      "Warning: skipping session with too few trials 41\n",
      "Warning: skipping session with too few trials 36\n",
      "Warning: skipping session with too few trials 37\n",
      "Warning: skipping session with too few trials 41\n",
      "Warning: skipping session with too few trials 44\n",
      "Warning: skipping session with too few trials 47\n",
      "Warning: skipping session with too few trials 46\n",
      "Warning: skipping session with too few trials 45\n"
     ]
    },
    {
     "data": {
      "application/vnd.jupyter.widget-view+json": {
       "model_id": "3bd4d13211d14690865abf42dc398bae",
       "version_major": 2,
       "version_minor": 0
      },
      "text/plain": [
       "IntProgress(value=0, description='mou_7', max=27)"
      ]
     },
     "metadata": {},
     "output_type": "display_data"
    },
    {
     "name": "stdout",
     "output_type": "stream",
     "text": [
      "Warning: skipping session with too few trials 49\n",
      "Warning: skipping session with too few trials 48\n",
      "Warning: skipping session with too few trials 38\n",
      "Warning: skipping session with too few trials 34\n",
      "Warning: skipping session with too few trials 48\n",
      "Warning: skipping session with too few trials 43\n",
      "Warning: skipping session with too few trials 49\n",
      "Warning: skipping session with too few trials 43\n",
      "Warning: skipping session with too few trials 47\n",
      "Warning: skipping session with too few trials 41\n",
      "Warning: skipping session with too few trials 45\n",
      "Warning: skipping session with too few trials 49\n",
      "Warning: skipping session with too few trials 37\n",
      "Warning: skipping session with too few trials 42\n",
      "Warning: skipping session with too few trials 49\n",
      "Warning: skipping session with too few trials 40\n"
     ]
    },
    {
     "data": {
      "application/vnd.jupyter.widget-view+json": {
       "model_id": "4d2eb1e3366349f19b479c6b53b5956b",
       "version_major": 2,
       "version_minor": 0
      },
      "text/plain": [
       "IntProgress(value=0, description='session', max=36)"
      ]
     },
     "metadata": {},
     "output_type": "display_data"
    },
    {
     "data": {
      "application/vnd.jupyter.widget-view+json": {
       "model_id": "e79eae83905441dabf6ddd44ac9c3183",
       "version_major": 2,
       "version_minor": 0
      },
      "text/plain": [
       "IntProgress(value=0, description='mou_6', max=30)"
      ]
     },
     "metadata": {},
     "output_type": "display_data"
    },
    {
     "data": {
      "application/vnd.jupyter.widget-view+json": {
       "model_id": "e9b31b4a45544b8dbb1d2be9145bee8c",
       "version_major": 2,
       "version_minor": 0
      },
      "text/plain": [
       "IntProgress(value=0, description='mou_6', max=30)"
      ]
     },
     "metadata": {},
     "output_type": "display_data"
    },
    {
     "name": "stdout",
     "output_type": "stream",
     "text": [
      "Warning: skipping session with too few trials 18\n",
      "Warning: skipping session with too few trials 49\n",
      "Warning: skipping session with too few trials 49\n",
      "Warning: skipping session with too few trials 43\n",
      "Warning: skipping session with too few trials 27\n",
      "Warning: skipping session with too few trials 48\n",
      "Warning: skipping session with too few trials 31\n",
      "Warning: skipping session with too few trials 42\n",
      "Warning: skipping session with too few trials 36\n"
     ]
    },
    {
     "data": {
      "application/vnd.jupyter.widget-view+json": {
       "model_id": "f843ee2a66c447458b299716c75252c4",
       "version_major": 2,
       "version_minor": 0
      },
      "text/plain": [
       "IntProgress(value=0, description='mou_6', max=30)"
      ]
     },
     "metadata": {},
     "output_type": "display_data"
    },
    {
     "name": "stdout",
     "output_type": "stream",
     "text": [
      "Warning: skipping session with too few trials 23\n",
      "Warning: skipping session with too few trials 37\n",
      "Warning: skipping session with too few trials 43\n",
      "Warning: skipping session with too few trials 30\n",
      "Warning: skipping session with too few trials 48\n",
      "Warning: skipping session with too few trials 44\n",
      "Warning: skipping session with too few trials 44\n",
      "Warning: skipping session with too few trials 42\n"
     ]
    },
    {
     "data": {
      "application/vnd.jupyter.widget-view+json": {
       "model_id": "8e64fe51646d4546879c6838e7c89b68",
       "version_major": 2,
       "version_minor": 0
      },
      "text/plain": [
       "IntProgress(value=0, description='mou_6', max=30)"
      ]
     },
     "metadata": {},
     "output_type": "display_data"
    },
    {
     "data": {
      "application/vnd.jupyter.widget-view+json": {
       "model_id": "a35d58e1b2674758bab080e964d2376e",
       "version_major": 2,
       "version_minor": 0
      },
      "text/plain": [
       "IntProgress(value=0, description='mou_6', max=30)"
      ]
     },
     "metadata": {},
     "output_type": "display_data"
    },
    {
     "name": "stdout",
     "output_type": "stream",
     "text": [
      "Warning: skipping session with too few trials 18\n",
      "Warning: skipping session with too few trials 49\n",
      "Warning: skipping session with too few trials 49\n",
      "Warning: skipping session with too few trials 43\n",
      "Warning: skipping session with too few trials 27\n",
      "Warning: skipping session with too few trials 48\n",
      "Warning: skipping session with too few trials 31\n",
      "Warning: skipping session with too few trials 42\n",
      "Warning: skipping session with too few trials 36\n"
     ]
    },
    {
     "data": {
      "application/vnd.jupyter.widget-view+json": {
       "model_id": "23f32905c7f44c4492ff0d09e6bc0281",
       "version_major": 2,
       "version_minor": 0
      },
      "text/plain": [
       "IntProgress(value=0, description='mou_6', max=30)"
      ]
     },
     "metadata": {},
     "output_type": "display_data"
    },
    {
     "name": "stdout",
     "output_type": "stream",
     "text": [
      "Warning: skipping session with too few trials 23\n",
      "Warning: skipping session with too few trials 37\n",
      "Warning: skipping session with too few trials 43\n",
      "Warning: skipping session with too few trials 30\n",
      "Warning: skipping session with too few trials 48\n",
      "Warning: skipping session with too few trials 44\n",
      "Warning: skipping session with too few trials 44\n",
      "Warning: skipping session with too few trials 42\n"
     ]
    },
    {
     "data": {
      "application/vnd.jupyter.widget-view+json": {
       "model_id": "7e0614aa45634dea9461ded6844b934c",
       "version_major": 2,
       "version_minor": 0
      },
      "text/plain": [
       "IntProgress(value=0, description='mou_6', max=30)"
      ]
     },
     "metadata": {},
     "output_type": "display_data"
    },
    {
     "data": {
      "application/vnd.jupyter.widget-view+json": {
       "model_id": "986dedc441c94265849234d500008d75",
       "version_major": 2,
       "version_minor": 0
      },
      "text/plain": [
       "IntProgress(value=0, description='mou_6', max=30)"
      ]
     },
     "metadata": {},
     "output_type": "display_data"
    },
    {
     "name": "stdout",
     "output_type": "stream",
     "text": [
      "Warning: skipping session with too few trials 18\n",
      "Warning: skipping session with too few trials 49\n",
      "Warning: skipping session with too few trials 49\n",
      "Warning: skipping session with too few trials 43\n",
      "Warning: skipping session with too few trials 27\n",
      "Warning: skipping session with too few trials 48\n",
      "Warning: skipping session with too few trials 31\n",
      "Warning: skipping session with too few trials 42\n",
      "Warning: skipping session with too few trials 36\n"
     ]
    },
    {
     "data": {
      "application/vnd.jupyter.widget-view+json": {
       "model_id": "26b9082810e3485ab2249ad6b0d32ca2",
       "version_major": 2,
       "version_minor": 0
      },
      "text/plain": [
       "IntProgress(value=0, description='mou_6', max=30)"
      ]
     },
     "metadata": {},
     "output_type": "display_data"
    },
    {
     "name": "stdout",
     "output_type": "stream",
     "text": [
      "Warning: skipping session with too few trials 23\n",
      "Warning: skipping session with too few trials 37\n",
      "Warning: skipping session with too few trials 43\n",
      "Warning: skipping session with too few trials 30\n",
      "Warning: skipping session with too few trials 48\n",
      "Warning: skipping session with too few trials 44\n",
      "Warning: skipping session with too few trials 44\n",
      "Warning: skipping session with too few trials 42\n"
     ]
    },
    {
     "data": {
      "application/vnd.jupyter.widget-view+json": {
       "model_id": "516ddbd5e1e64f3d995be812e8f33aae",
       "version_major": 2,
       "version_minor": 0
      },
      "text/plain": [
       "IntProgress(value=0, description='mou_9', max=22)"
      ]
     },
     "metadata": {},
     "output_type": "display_data"
    },
    {
     "data": {
      "application/vnd.jupyter.widget-view+json": {
       "model_id": "fca68e40ee004064a514e87d8ffea78b",
       "version_major": 2,
       "version_minor": 0
      },
      "text/plain": [
       "IntProgress(value=0, description='mou_9', max=22)"
      ]
     },
     "metadata": {},
     "output_type": "display_data"
    },
    {
     "name": "stdout",
     "output_type": "stream",
     "text": [
      "Warning: skipping session with too few trials 49\n",
      "Warning: skipping session with too few trials 47\n",
      "Warning: skipping session with too few trials 49\n",
      "Warning: skipping session with too few trials 39\n",
      "Warning: skipping session with too few trials 37\n",
      "Warning: skipping session with too few trials 24\n",
      "Warning: skipping session with too few trials 20\n",
      "Warning: skipping session with too few trials 49\n",
      "Warning: skipping session with too few trials 35\n",
      "Warning: skipping session with too few trials 41\n",
      "Warning: skipping session with too few trials 43\n"
     ]
    },
    {
     "data": {
      "application/vnd.jupyter.widget-view+json": {
       "model_id": "7a7b30c834ff475d9d16bb2aa57e44bf",
       "version_major": 2,
       "version_minor": 0
      },
      "text/plain": [
       "IntProgress(value=0, description='mou_9', max=22)"
      ]
     },
     "metadata": {},
     "output_type": "display_data"
    },
    {
     "name": "stdout",
     "output_type": "stream",
     "text": [
      "Warning: skipping session with too few trials 49\n",
      "Warning: skipping session with too few trials 48\n",
      "Warning: skipping session with too few trials 26\n",
      "Warning: skipping session with too few trials 14\n",
      "Warning: skipping session with too few trials 49\n",
      "Warning: skipping session with too few trials 47\n"
     ]
    },
    {
     "data": {
      "application/vnd.jupyter.widget-view+json": {
       "model_id": "03d6f2328ffd4b05bf369fba28ac1951",
       "version_major": 2,
       "version_minor": 0
      },
      "text/plain": [
       "IntProgress(value=0, description='mou_9', max=22)"
      ]
     },
     "metadata": {},
     "output_type": "display_data"
    },
    {
     "data": {
      "application/vnd.jupyter.widget-view+json": {
       "model_id": "be31485a17c046858fbf7a3d00fb6cd1",
       "version_major": 2,
       "version_minor": 0
      },
      "text/plain": [
       "IntProgress(value=0, description='mou_9', max=22)"
      ]
     },
     "metadata": {},
     "output_type": "display_data"
    },
    {
     "name": "stdout",
     "output_type": "stream",
     "text": [
      "Warning: skipping session with too few trials 49\n",
      "Warning: skipping session with too few trials 47\n",
      "Warning: skipping session with too few trials 49\n",
      "Warning: skipping session with too few trials 39\n",
      "Warning: skipping session with too few trials 37\n",
      "Warning: skipping session with too few trials 24\n",
      "Warning: skipping session with too few trials 20\n",
      "Warning: skipping session with too few trials 49\n",
      "Warning: skipping session with too few trials 35\n",
      "Warning: skipping session with too few trials 41\n",
      "Warning: skipping session with too few trials 43\n"
     ]
    },
    {
     "data": {
      "application/vnd.jupyter.widget-view+json": {
       "model_id": "b5992f870520418aa3a54eb51b229ce6",
       "version_major": 2,
       "version_minor": 0
      },
      "text/plain": [
       "IntProgress(value=0, description='mou_9', max=22)"
      ]
     },
     "metadata": {},
     "output_type": "display_data"
    },
    {
     "name": "stdout",
     "output_type": "stream",
     "text": [
      "Warning: skipping session with too few trials 49\n",
      "Warning: skipping session with too few trials 48\n",
      "Warning: skipping session with too few trials 26\n",
      "Warning: skipping session with too few trials 14\n",
      "Warning: skipping session with too few trials 49\n",
      "Warning: skipping session with too few trials 47\n"
     ]
    },
    {
     "data": {
      "application/vnd.jupyter.widget-view+json": {
       "model_id": "a2fa80ace2d14edb8d47b5f1ab89117f",
       "version_major": 2,
       "version_minor": 0
      },
      "text/plain": [
       "IntProgress(value=0, description='mou_9', max=22)"
      ]
     },
     "metadata": {},
     "output_type": "display_data"
    },
    {
     "data": {
      "application/vnd.jupyter.widget-view+json": {
       "model_id": "9c436d899c1742279439db62bb21830f",
       "version_major": 2,
       "version_minor": 0
      },
      "text/plain": [
       "IntProgress(value=0, description='mou_9', max=22)"
      ]
     },
     "metadata": {},
     "output_type": "display_data"
    },
    {
     "name": "stdout",
     "output_type": "stream",
     "text": [
      "Warning: skipping session with too few trials 49\n",
      "Warning: skipping session with too few trials 47\n",
      "Warning: skipping session with too few trials 49\n",
      "Warning: skipping session with too few trials 39\n",
      "Warning: skipping session with too few trials 37\n",
      "Warning: skipping session with too few trials 24\n",
      "Warning: skipping session with too few trials 20\n",
      "Warning: skipping session with too few trials 49\n",
      "Warning: skipping session with too few trials 35\n",
      "Warning: skipping session with too few trials 41\n",
      "Warning: skipping session with too few trials 43\n"
     ]
    },
    {
     "data": {
      "application/vnd.jupyter.widget-view+json": {
       "model_id": "a3e99a3f8e954f99b0c7035637c710b7",
       "version_major": 2,
       "version_minor": 0
      },
      "text/plain": [
       "IntProgress(value=0, description='mou_9', max=22)"
      ]
     },
     "metadata": {},
     "output_type": "display_data"
    },
    {
     "name": "stdout",
     "output_type": "stream",
     "text": [
      "Warning: skipping session with too few trials 49\n",
      "Warning: skipping session with too few trials 48\n",
      "Warning: skipping session with too few trials 26\n",
      "Warning: skipping session with too few trials 14\n",
      "Warning: skipping session with too few trials 49\n",
      "Warning: skipping session with too few trials 47\n"
     ]
    },
    {
     "data": {
      "application/vnd.jupyter.widget-view+json": {
       "model_id": "962cecd34f2942c4bcd44de4c395ea78",
       "version_major": 2,
       "version_minor": 0
      },
      "text/plain": [
       "IntProgress(value=0, description='mou_5', max=21)"
      ]
     },
     "metadata": {},
     "output_type": "display_data"
    },
    {
     "data": {
      "application/vnd.jupyter.widget-view+json": {
       "model_id": "2d8d33722ce346c2a345d0189292061d",
       "version_major": 2,
       "version_minor": 0
      },
      "text/plain": [
       "IntProgress(value=0, description='mou_5', max=21)"
      ]
     },
     "metadata": {},
     "output_type": "display_data"
    },
    {
     "name": "stdout",
     "output_type": "stream",
     "text": [
      "Warning: skipping session with too few trials 43\n",
      "Warning: skipping session with too few trials 47\n",
      "Warning: skipping session with too few trials 21\n",
      "Warning: skipping session with too few trials 33\n",
      "Warning: skipping session with too few trials 49\n",
      "Warning: skipping session with too few trials 34\n",
      "Warning: skipping session with too few trials 42\n"
     ]
    },
    {
     "data": {
      "application/vnd.jupyter.widget-view+json": {
       "model_id": "2cb7c6976a1040bdaf84597eced60453",
       "version_major": 2,
       "version_minor": 0
      },
      "text/plain": [
       "IntProgress(value=0, description='mou_5', max=21)"
      ]
     },
     "metadata": {},
     "output_type": "display_data"
    },
    {
     "name": "stdout",
     "output_type": "stream",
     "text": [
      "Warning: skipping session with too few trials 45\n",
      "Warning: skipping session with too few trials 47\n",
      "Warning: skipping session with too few trials 20\n",
      "Warning: skipping session with too few trials 44\n",
      "Warning: skipping session with too few trials 41\n"
     ]
    },
    {
     "data": {
      "application/vnd.jupyter.widget-view+json": {
       "model_id": "d6b2b4a934004b1a846a4fa767102378",
       "version_major": 2,
       "version_minor": 0
      },
      "text/plain": [
       "IntProgress(value=0, description='mou_5', max=21)"
      ]
     },
     "metadata": {},
     "output_type": "display_data"
    },
    {
     "data": {
      "application/vnd.jupyter.widget-view+json": {
       "model_id": "7f7af37ef6e04a79b208036329effe5c",
       "version_major": 2,
       "version_minor": 0
      },
      "text/plain": [
       "IntProgress(value=0, description='mou_5', max=21)"
      ]
     },
     "metadata": {},
     "output_type": "display_data"
    },
    {
     "name": "stdout",
     "output_type": "stream",
     "text": [
      "Warning: skipping session with too few trials 43\n",
      "Warning: skipping session with too few trials 47\n",
      "Warning: skipping session with too few trials 21\n",
      "Warning: skipping session with too few trials 33\n",
      "Warning: skipping session with too few trials 49\n",
      "Warning: skipping session with too few trials 34\n",
      "Warning: skipping session with too few trials 42\n"
     ]
    },
    {
     "data": {
      "application/vnd.jupyter.widget-view+json": {
       "model_id": "c909fe83c77944be93d0553c11d34cc5",
       "version_major": 2,
       "version_minor": 0
      },
      "text/plain": [
       "IntProgress(value=0, description='mou_5', max=21)"
      ]
     },
     "metadata": {},
     "output_type": "display_data"
    },
    {
     "name": "stdout",
     "output_type": "stream",
     "text": [
      "Warning: skipping session with too few trials 45\n",
      "Warning: skipping session with too few trials 47\n",
      "Warning: skipping session with too few trials 20\n",
      "Warning: skipping session with too few trials 44\n",
      "Warning: skipping session with too few trials 41\n"
     ]
    },
    {
     "data": {
      "application/vnd.jupyter.widget-view+json": {
       "model_id": "d3e2a6f6b8994b9c9bd501bcd553d351",
       "version_major": 2,
       "version_minor": 0
      },
      "text/plain": [
       "IntProgress(value=0, description='mou_5', max=21)"
      ]
     },
     "metadata": {},
     "output_type": "display_data"
    },
    {
     "data": {
      "application/vnd.jupyter.widget-view+json": {
       "model_id": "e6b6b96dca104004bdfc28f3dd262065",
       "version_major": 2,
       "version_minor": 0
      },
      "text/plain": [
       "IntProgress(value=0, description='mou_5', max=21)"
      ]
     },
     "metadata": {},
     "output_type": "display_data"
    },
    {
     "name": "stdout",
     "output_type": "stream",
     "text": [
      "Warning: skipping session with too few trials 43\n",
      "Warning: skipping session with too few trials 47\n",
      "Warning: skipping session with too few trials 21\n",
      "Warning: skipping session with too few trials 33\n",
      "Warning: skipping session with too few trials 49\n",
      "Warning: skipping session with too few trials 34\n",
      "Warning: skipping session with too few trials 42\n"
     ]
    },
    {
     "data": {
      "application/vnd.jupyter.widget-view+json": {
       "model_id": "ff1f69f0f109444790af9decbd5ab03f",
       "version_major": 2,
       "version_minor": 0
      },
      "text/plain": [
       "IntProgress(value=0, description='mou_5', max=21)"
      ]
     },
     "metadata": {},
     "output_type": "display_data"
    },
    {
     "name": "stdout",
     "output_type": "stream",
     "text": [
      "Warning: skipping session with too few trials 45\n",
      "Warning: skipping session with too few trials 47\n",
      "Warning: skipping session with too few trials 20\n",
      "Warning: skipping session with too few trials 44\n",
      "Warning: skipping session with too few trials 41\n"
     ]
    },
    {
     "data": {
      "application/vnd.jupyter.widget-view+json": {
       "model_id": "e5d0f99e65ea449e9f1989c418126ca2",
       "version_major": 2,
       "version_minor": 0
      },
      "text/plain": [
       "IntProgress(value=0, description='mou_7', max=27)"
      ]
     },
     "metadata": {},
     "output_type": "display_data"
    },
    {
     "data": {
      "application/vnd.jupyter.widget-view+json": {
       "model_id": "a0efcd309d494c3e8c56cce9cecc86fc",
       "version_major": 2,
       "version_minor": 0
      },
      "text/plain": [
       "IntProgress(value=0, description='mou_7', max=27)"
      ]
     },
     "metadata": {},
     "output_type": "display_data"
    },
    {
     "name": "stdout",
     "output_type": "stream",
     "text": [
      "Warning: skipping session with too few trials 46\n",
      "Warning: skipping session with too few trials 41\n",
      "Warning: skipping session with too few trials 36\n",
      "Warning: skipping session with too few trials 37\n",
      "Warning: skipping session with too few trials 41\n",
      "Warning: skipping session with too few trials 44\n",
      "Warning: skipping session with too few trials 47\n",
      "Warning: skipping session with too few trials 46\n",
      "Warning: skipping session with too few trials 45\n"
     ]
    },
    {
     "data": {
      "application/vnd.jupyter.widget-view+json": {
       "model_id": "6e7b43b1e26441b984290458278cbad4",
       "version_major": 2,
       "version_minor": 0
      },
      "text/plain": [
       "IntProgress(value=0, description='mou_7', max=27)"
      ]
     },
     "metadata": {},
     "output_type": "display_data"
    },
    {
     "name": "stdout",
     "output_type": "stream",
     "text": [
      "Warning: skipping session with too few trials 49\n",
      "Warning: skipping session with too few trials 48\n",
      "Warning: skipping session with too few trials 38\n",
      "Warning: skipping session with too few trials 34\n",
      "Warning: skipping session with too few trials 48\n",
      "Warning: skipping session with too few trials 43\n",
      "Warning: skipping session with too few trials 49\n",
      "Warning: skipping session with too few trials 43\n",
      "Warning: skipping session with too few trials 47\n",
      "Warning: skipping session with too few trials 41\n",
      "Warning: skipping session with too few trials 45\n",
      "Warning: skipping session with too few trials 49\n",
      "Warning: skipping session with too few trials 37\n",
      "Warning: skipping session with too few trials 42\n",
      "Warning: skipping session with too few trials 49\n",
      "Warning: skipping session with too few trials 40\n"
     ]
    },
    {
     "data": {
      "application/vnd.jupyter.widget-view+json": {
       "model_id": "99e776d60880446987aab25ed8b9de6d",
       "version_major": 2,
       "version_minor": 0
      },
      "text/plain": [
       "IntProgress(value=0, description='mou_7', max=27)"
      ]
     },
     "metadata": {},
     "output_type": "display_data"
    },
    {
     "data": {
      "application/vnd.jupyter.widget-view+json": {
       "model_id": "1b34100bf50545939f33003195bf1caf",
       "version_major": 2,
       "version_minor": 0
      },
      "text/plain": [
       "IntProgress(value=0, description='mou_7', max=27)"
      ]
     },
     "metadata": {},
     "output_type": "display_data"
    },
    {
     "name": "stdout",
     "output_type": "stream",
     "text": [
      "Warning: skipping session with too few trials 46\n",
      "Warning: skipping session with too few trials 41\n",
      "Warning: skipping session with too few trials 36\n",
      "Warning: skipping session with too few trials 37\n",
      "Warning: skipping session with too few trials 41\n",
      "Warning: skipping session with too few trials 44\n",
      "Warning: skipping session with too few trials 47\n",
      "Warning: skipping session with too few trials 46\n",
      "Warning: skipping session with too few trials 45\n"
     ]
    },
    {
     "data": {
      "application/vnd.jupyter.widget-view+json": {
       "model_id": "a85968b146ea43be911dd45955df3ccf",
       "version_major": 2,
       "version_minor": 0
      },
      "text/plain": [
       "IntProgress(value=0, description='mou_7', max=27)"
      ]
     },
     "metadata": {},
     "output_type": "display_data"
    },
    {
     "name": "stdout",
     "output_type": "stream",
     "text": [
      "Warning: skipping session with too few trials 49\n",
      "Warning: skipping session with too few trials 48\n",
      "Warning: skipping session with too few trials 38\n",
      "Warning: skipping session with too few trials 34\n",
      "Warning: skipping session with too few trials 48\n",
      "Warning: skipping session with too few trials 43\n",
      "Warning: skipping session with too few trials 49\n",
      "Warning: skipping session with too few trials 43\n",
      "Warning: skipping session with too few trials 47\n",
      "Warning: skipping session with too few trials 41\n",
      "Warning: skipping session with too few trials 45\n",
      "Warning: skipping session with too few trials 49\n",
      "Warning: skipping session with too few trials 37\n",
      "Warning: skipping session with too few trials 42\n",
      "Warning: skipping session with too few trials 49\n",
      "Warning: skipping session with too few trials 40\n"
     ]
    },
    {
     "data": {
      "application/vnd.jupyter.widget-view+json": {
       "model_id": "dd5d476c17e94845803ab15e90424e2a",
       "version_major": 2,
       "version_minor": 0
      },
      "text/plain": [
       "IntProgress(value=0, description='mou_7', max=27)"
      ]
     },
     "metadata": {},
     "output_type": "display_data"
    },
    {
     "data": {
      "application/vnd.jupyter.widget-view+json": {
       "model_id": "be8f41a9247648249ed6ac6422ecd14a",
       "version_major": 2,
       "version_minor": 0
      },
      "text/plain": [
       "IntProgress(value=0, description='mou_7', max=27)"
      ]
     },
     "metadata": {},
     "output_type": "display_data"
    },
    {
     "name": "stdout",
     "output_type": "stream",
     "text": [
      "Warning: skipping session with too few trials 46\n",
      "Warning: skipping session with too few trials 41\n",
      "Warning: skipping session with too few trials 36\n",
      "Warning: skipping session with too few trials 37\n",
      "Warning: skipping session with too few trials 41\n",
      "Warning: skipping session with too few trials 44\n",
      "Warning: skipping session with too few trials 47\n",
      "Warning: skipping session with too few trials 46\n",
      "Warning: skipping session with too few trials 45\n"
     ]
    },
    {
     "data": {
      "application/vnd.jupyter.widget-view+json": {
       "model_id": "4d49a16af3104f3ab460dc42d5f9e81c",
       "version_major": 2,
       "version_minor": 0
      },
      "text/plain": [
       "IntProgress(value=0, description='mou_7', max=27)"
      ]
     },
     "metadata": {},
     "output_type": "display_data"
    },
    {
     "name": "stdout",
     "output_type": "stream",
     "text": [
      "Warning: skipping session with too few trials 49\n",
      "Warning: skipping session with too few trials 48\n",
      "Warning: skipping session with too few trials 38\n",
      "Warning: skipping session with too few trials 34\n",
      "Warning: skipping session with too few trials 48\n",
      "Warning: skipping session with too few trials 43\n",
      "Warning: skipping session with too few trials 49\n",
      "Warning: skipping session with too few trials 43\n",
      "Warning: skipping session with too few trials 47\n",
      "Warning: skipping session with too few trials 41\n",
      "Warning: skipping session with too few trials 45\n",
      "Warning: skipping session with too few trials 49\n",
      "Warning: skipping session with too few trials 37\n",
      "Warning: skipping session with too few trials 42\n",
      "Warning: skipping session with too few trials 49\n",
      "Warning: skipping session with too few trials 40\n"
     ]
    },
    {
     "data": {
      "application/vnd.jupyter.widget-view+json": {
       "model_id": "7cb95009142c4924a0fbf1e3b2d38396",
       "version_major": 2,
       "version_minor": 0
      },
      "text/plain": [
       "IntProgress(value=0, description='session', max=36)"
      ]
     },
     "metadata": {},
     "output_type": "display_data"
    },
    {
     "data": {
      "application/vnd.jupyter.widget-view+json": {
       "model_id": "80f2dc1def994abbb511971617f4db09",
       "version_major": 2,
       "version_minor": 0
      },
      "text/plain": [
       "IntProgress(value=0, description='mou_6', max=30)"
      ]
     },
     "metadata": {},
     "output_type": "display_data"
    },
    {
     "data": {
      "application/vnd.jupyter.widget-view+json": {
       "model_id": "67bf9359f3534b27aac7a82272b55156",
       "version_major": 2,
       "version_minor": 0
      },
      "text/plain": [
       "IntProgress(value=0, description='mou_6', max=30)"
      ]
     },
     "metadata": {},
     "output_type": "display_data"
    },
    {
     "name": "stdout",
     "output_type": "stream",
     "text": [
      "Warning: skipping session with too few trials 18\n",
      "Warning: skipping session with too few trials 49\n",
      "Warning: skipping session with too few trials 49\n",
      "Warning: skipping session with too few trials 43\n",
      "Warning: skipping session with too few trials 27\n",
      "Warning: skipping session with too few trials 48\n",
      "Warning: skipping session with too few trials 31\n",
      "Warning: skipping session with too few trials 42\n",
      "Warning: skipping session with too few trials 36\n"
     ]
    },
    {
     "data": {
      "application/vnd.jupyter.widget-view+json": {
       "model_id": "6f0a82c6170c4682bce139f1d0920327",
       "version_major": 2,
       "version_minor": 0
      },
      "text/plain": [
       "IntProgress(value=0, description='mou_6', max=30)"
      ]
     },
     "metadata": {},
     "output_type": "display_data"
    },
    {
     "name": "stdout",
     "output_type": "stream",
     "text": [
      "Warning: skipping session with too few trials 23\n",
      "Warning: skipping session with too few trials 37\n",
      "Warning: skipping session with too few trials 43\n",
      "Warning: skipping session with too few trials 30\n",
      "Warning: skipping session with too few trials 48\n",
      "Warning: skipping session with too few trials 44\n",
      "Warning: skipping session with too few trials 44\n",
      "Warning: skipping session with too few trials 42\n"
     ]
    },
    {
     "data": {
      "application/vnd.jupyter.widget-view+json": {
       "model_id": "e184a3e7f3e34607b4c70bd2eec2f254",
       "version_major": 2,
       "version_minor": 0
      },
      "text/plain": [
       "IntProgress(value=0, description='mou_6', max=30)"
      ]
     },
     "metadata": {},
     "output_type": "display_data"
    },
    {
     "data": {
      "application/vnd.jupyter.widget-view+json": {
       "model_id": "7b6472127fd8408a91de97b7e53330ef",
       "version_major": 2,
       "version_minor": 0
      },
      "text/plain": [
       "IntProgress(value=0, description='mou_6', max=30)"
      ]
     },
     "metadata": {},
     "output_type": "display_data"
    },
    {
     "name": "stdout",
     "output_type": "stream",
     "text": [
      "Warning: skipping session with too few trials 18\n",
      "Warning: skipping session with too few trials 49\n",
      "Warning: skipping session with too few trials 49\n",
      "Warning: skipping session with too few trials 43\n",
      "Warning: skipping session with too few trials 27\n",
      "Warning: skipping session with too few trials 48\n",
      "Warning: skipping session with too few trials 31\n",
      "Warning: skipping session with too few trials 42\n",
      "Warning: skipping session with too few trials 36\n"
     ]
    },
    {
     "data": {
      "application/vnd.jupyter.widget-view+json": {
       "model_id": "5f4102d4bd1e41a1a67d9fa395b28bfc",
       "version_major": 2,
       "version_minor": 0
      },
      "text/plain": [
       "IntProgress(value=0, description='mou_6', max=30)"
      ]
     },
     "metadata": {},
     "output_type": "display_data"
    },
    {
     "name": "stdout",
     "output_type": "stream",
     "text": [
      "Warning: skipping session with too few trials 23\n",
      "Warning: skipping session with too few trials 37\n",
      "Warning: skipping session with too few trials 43\n",
      "Warning: skipping session with too few trials 30\n",
      "Warning: skipping session with too few trials 48\n",
      "Warning: skipping session with too few trials 44\n",
      "Warning: skipping session with too few trials 44\n",
      "Warning: skipping session with too few trials 42\n"
     ]
    },
    {
     "data": {
      "application/vnd.jupyter.widget-view+json": {
       "model_id": "7fabeb27fc324ae9a7063080b6205f7b",
       "version_major": 2,
       "version_minor": 0
      },
      "text/plain": [
       "IntProgress(value=0, description='mou_6', max=30)"
      ]
     },
     "metadata": {},
     "output_type": "display_data"
    },
    {
     "data": {
      "application/vnd.jupyter.widget-view+json": {
       "model_id": "4d047825b21245cda28efa3d33fab7ae",
       "version_major": 2,
       "version_minor": 0
      },
      "text/plain": [
       "IntProgress(value=0, description='mou_6', max=30)"
      ]
     },
     "metadata": {},
     "output_type": "display_data"
    },
    {
     "name": "stdout",
     "output_type": "stream",
     "text": [
      "Warning: skipping session with too few trials 18\n",
      "Warning: skipping session with too few trials 49\n",
      "Warning: skipping session with too few trials 49\n",
      "Warning: skipping session with too few trials 43\n",
      "Warning: skipping session with too few trials 27\n",
      "Warning: skipping session with too few trials 48\n",
      "Warning: skipping session with too few trials 31\n",
      "Warning: skipping session with too few trials 42\n",
      "Warning: skipping session with too few trials 36\n"
     ]
    },
    {
     "data": {
      "application/vnd.jupyter.widget-view+json": {
       "model_id": "d38fa0f68c53469aadfc924a3452d71d",
       "version_major": 2,
       "version_minor": 0
      },
      "text/plain": [
       "IntProgress(value=0, description='mou_6', max=30)"
      ]
     },
     "metadata": {},
     "output_type": "display_data"
    },
    {
     "name": "stdout",
     "output_type": "stream",
     "text": [
      "Warning: skipping session with too few trials 23\n",
      "Warning: skipping session with too few trials 37\n",
      "Warning: skipping session with too few trials 43\n",
      "Warning: skipping session with too few trials 30\n",
      "Warning: skipping session with too few trials 48\n",
      "Warning: skipping session with too few trials 44\n",
      "Warning: skipping session with too few trials 44\n",
      "Warning: skipping session with too few trials 42\n"
     ]
    },
    {
     "data": {
      "application/vnd.jupyter.widget-view+json": {
       "model_id": "e2634983346d487a9e233bffb4c2453c",
       "version_major": 2,
       "version_minor": 0
      },
      "text/plain": [
       "IntProgress(value=0, description='mou_9', max=22)"
      ]
     },
     "metadata": {},
     "output_type": "display_data"
    },
    {
     "data": {
      "application/vnd.jupyter.widget-view+json": {
       "model_id": "cf5c8495cd2f476abd6847fe70b79768",
       "version_major": 2,
       "version_minor": 0
      },
      "text/plain": [
       "IntProgress(value=0, description='mou_9', max=22)"
      ]
     },
     "metadata": {},
     "output_type": "display_data"
    },
    {
     "name": "stdout",
     "output_type": "stream",
     "text": [
      "Warning: skipping session with too few trials 49\n",
      "Warning: skipping session with too few trials 47\n",
      "Warning: skipping session with too few trials 49\n",
      "Warning: skipping session with too few trials 39\n",
      "Warning: skipping session with too few trials 37\n",
      "Warning: skipping session with too few trials 24\n",
      "Warning: skipping session with too few trials 20\n",
      "Warning: skipping session with too few trials 49\n",
      "Warning: skipping session with too few trials 35\n",
      "Warning: skipping session with too few trials 41\n",
      "Warning: skipping session with too few trials 43\n"
     ]
    },
    {
     "data": {
      "application/vnd.jupyter.widget-view+json": {
       "model_id": "a8d20282fb4b4050a7272170dcb6ca6e",
       "version_major": 2,
       "version_minor": 0
      },
      "text/plain": [
       "IntProgress(value=0, description='mou_9', max=22)"
      ]
     },
     "metadata": {},
     "output_type": "display_data"
    },
    {
     "name": "stdout",
     "output_type": "stream",
     "text": [
      "Warning: skipping session with too few trials 49\n",
      "Warning: skipping session with too few trials 48\n",
      "Warning: skipping session with too few trials 26\n",
      "Warning: skipping session with too few trials 14\n",
      "Warning: skipping session with too few trials 49\n",
      "Warning: skipping session with too few trials 47\n"
     ]
    },
    {
     "data": {
      "application/vnd.jupyter.widget-view+json": {
       "model_id": "cf488b6f66de437381a3474127564a53",
       "version_major": 2,
       "version_minor": 0
      },
      "text/plain": [
       "IntProgress(value=0, description='mou_9', max=22)"
      ]
     },
     "metadata": {},
     "output_type": "display_data"
    },
    {
     "data": {
      "application/vnd.jupyter.widget-view+json": {
       "model_id": "536303c08a5b4ed09b8b4a0d16993fa5",
       "version_major": 2,
       "version_minor": 0
      },
      "text/plain": [
       "IntProgress(value=0, description='mou_9', max=22)"
      ]
     },
     "metadata": {},
     "output_type": "display_data"
    },
    {
     "name": "stdout",
     "output_type": "stream",
     "text": [
      "Warning: skipping session with too few trials 49\n",
      "Warning: skipping session with too few trials 47\n",
      "Warning: skipping session with too few trials 49\n",
      "Warning: skipping session with too few trials 39\n",
      "Warning: skipping session with too few trials 37\n",
      "Warning: skipping session with too few trials 24\n",
      "Warning: skipping session with too few trials 20\n",
      "Warning: skipping session with too few trials 49\n",
      "Warning: skipping session with too few trials 35\n",
      "Warning: skipping session with too few trials 41\n",
      "Warning: skipping session with too few trials 43\n"
     ]
    },
    {
     "data": {
      "application/vnd.jupyter.widget-view+json": {
       "model_id": "3ef04aeeef2c4a3985aa9ec1675224e2",
       "version_major": 2,
       "version_minor": 0
      },
      "text/plain": [
       "IntProgress(value=0, description='mou_9', max=22)"
      ]
     },
     "metadata": {},
     "output_type": "display_data"
    },
    {
     "name": "stdout",
     "output_type": "stream",
     "text": [
      "Warning: skipping session with too few trials 49\n",
      "Warning: skipping session with too few trials 48\n",
      "Warning: skipping session with too few trials 26\n",
      "Warning: skipping session with too few trials 14\n",
      "Warning: skipping session with too few trials 49\n",
      "Warning: skipping session with too few trials 47\n"
     ]
    },
    {
     "data": {
      "application/vnd.jupyter.widget-view+json": {
       "model_id": "78d904d27d544792992f9ba23ece7ce9",
       "version_major": 2,
       "version_minor": 0
      },
      "text/plain": [
       "IntProgress(value=0, description='mou_9', max=22)"
      ]
     },
     "metadata": {},
     "output_type": "display_data"
    },
    {
     "data": {
      "application/vnd.jupyter.widget-view+json": {
       "model_id": "077fd54ff152416591adf4af11421bd0",
       "version_major": 2,
       "version_minor": 0
      },
      "text/plain": [
       "IntProgress(value=0, description='mou_9', max=22)"
      ]
     },
     "metadata": {},
     "output_type": "display_data"
    },
    {
     "name": "stdout",
     "output_type": "stream",
     "text": [
      "Warning: skipping session with too few trials 49\n",
      "Warning: skipping session with too few trials 47\n",
      "Warning: skipping session with too few trials 49\n",
      "Warning: skipping session with too few trials 39\n",
      "Warning: skipping session with too few trials 37\n",
      "Warning: skipping session with too few trials 24\n",
      "Warning: skipping session with too few trials 20\n",
      "Warning: skipping session with too few trials 49\n",
      "Warning: skipping session with too few trials 35\n",
      "Warning: skipping session with too few trials 41\n",
      "Warning: skipping session with too few trials 43\n"
     ]
    },
    {
     "data": {
      "application/vnd.jupyter.widget-view+json": {
       "model_id": "c64adbcad62f407fab095caaa17ee7f4",
       "version_major": 2,
       "version_minor": 0
      },
      "text/plain": [
       "IntProgress(value=0, description='mou_9', max=22)"
      ]
     },
     "metadata": {},
     "output_type": "display_data"
    },
    {
     "name": "stdout",
     "output_type": "stream",
     "text": [
      "Warning: skipping session with too few trials 49\n",
      "Warning: skipping session with too few trials 48\n",
      "Warning: skipping session with too few trials 26\n",
      "Warning: skipping session with too few trials 14\n",
      "Warning: skipping session with too few trials 49\n",
      "Warning: skipping session with too few trials 47\n"
     ]
    },
    {
     "data": {
      "application/vnd.jupyter.widget-view+json": {
       "model_id": "e1da342554ba41d7ab8e740aa7f82d54",
       "version_major": 2,
       "version_minor": 0
      },
      "text/plain": [
       "IntProgress(value=0, description='mou_5', max=21)"
      ]
     },
     "metadata": {},
     "output_type": "display_data"
    },
    {
     "data": {
      "application/vnd.jupyter.widget-view+json": {
       "model_id": "47f3846809a641ed9c87b4be270354d6",
       "version_major": 2,
       "version_minor": 0
      },
      "text/plain": [
       "IntProgress(value=0, description='mou_5', max=21)"
      ]
     },
     "metadata": {},
     "output_type": "display_data"
    },
    {
     "name": "stdout",
     "output_type": "stream",
     "text": [
      "Warning: skipping session with too few trials 43\n",
      "Warning: skipping session with too few trials 47\n",
      "Warning: skipping session with too few trials 21\n",
      "Warning: skipping session with too few trials 33\n",
      "Warning: skipping session with too few trials 49\n",
      "Warning: skipping session with too few trials 34\n",
      "Warning: skipping session with too few trials 42\n"
     ]
    },
    {
     "data": {
      "application/vnd.jupyter.widget-view+json": {
       "model_id": "418e9805cf7c4cbeb907d71d784421fb",
       "version_major": 2,
       "version_minor": 0
      },
      "text/plain": [
       "IntProgress(value=0, description='mou_5', max=21)"
      ]
     },
     "metadata": {},
     "output_type": "display_data"
    },
    {
     "name": "stdout",
     "output_type": "stream",
     "text": [
      "Warning: skipping session with too few trials 45\n",
      "Warning: skipping session with too few trials 47\n",
      "Warning: skipping session with too few trials 20\n",
      "Warning: skipping session with too few trials 44\n",
      "Warning: skipping session with too few trials 41\n"
     ]
    },
    {
     "data": {
      "application/vnd.jupyter.widget-view+json": {
       "model_id": "4ae71e2ad6a7467c9ad6eabe133b2b4a",
       "version_major": 2,
       "version_minor": 0
      },
      "text/plain": [
       "IntProgress(value=0, description='mou_5', max=21)"
      ]
     },
     "metadata": {},
     "output_type": "display_data"
    },
    {
     "data": {
      "application/vnd.jupyter.widget-view+json": {
       "model_id": "adfbe3f6970046939581db87113579ee",
       "version_major": 2,
       "version_minor": 0
      },
      "text/plain": [
       "IntProgress(value=0, description='mou_5', max=21)"
      ]
     },
     "metadata": {},
     "output_type": "display_data"
    },
    {
     "name": "stdout",
     "output_type": "stream",
     "text": [
      "Warning: skipping session with too few trials 43\n",
      "Warning: skipping session with too few trials 47\n",
      "Warning: skipping session with too few trials 21\n",
      "Warning: skipping session with too few trials 33\n",
      "Warning: skipping session with too few trials 49\n",
      "Warning: skipping session with too few trials 34\n",
      "Warning: skipping session with too few trials 42\n"
     ]
    },
    {
     "data": {
      "application/vnd.jupyter.widget-view+json": {
       "model_id": "0445dae52f3a401592b96bcaeb0f7ab3",
       "version_major": 2,
       "version_minor": 0
      },
      "text/plain": [
       "IntProgress(value=0, description='mou_5', max=21)"
      ]
     },
     "metadata": {},
     "output_type": "display_data"
    },
    {
     "name": "stdout",
     "output_type": "stream",
     "text": [
      "Warning: skipping session with too few trials 45\n",
      "Warning: skipping session with too few trials 47\n",
      "Warning: skipping session with too few trials 20\n",
      "Warning: skipping session with too few trials 44\n",
      "Warning: skipping session with too few trials 41\n"
     ]
    },
    {
     "data": {
      "application/vnd.jupyter.widget-view+json": {
       "model_id": "d03024378e014c6cb07aa7257edd5ff5",
       "version_major": 2,
       "version_minor": 0
      },
      "text/plain": [
       "IntProgress(value=0, description='mou_5', max=21)"
      ]
     },
     "metadata": {},
     "output_type": "display_data"
    },
    {
     "data": {
      "application/vnd.jupyter.widget-view+json": {
       "model_id": "373a4ec090af434b977197f580ab3231",
       "version_major": 2,
       "version_minor": 0
      },
      "text/plain": [
       "IntProgress(value=0, description='mou_5', max=21)"
      ]
     },
     "metadata": {},
     "output_type": "display_data"
    },
    {
     "name": "stdout",
     "output_type": "stream",
     "text": [
      "Warning: skipping session with too few trials 43\n",
      "Warning: skipping session with too few trials 47\n",
      "Warning: skipping session with too few trials 21\n",
      "Warning: skipping session with too few trials 33\n",
      "Warning: skipping session with too few trials 49\n",
      "Warning: skipping session with too few trials 34\n",
      "Warning: skipping session with too few trials 42\n"
     ]
    },
    {
     "data": {
      "application/vnd.jupyter.widget-view+json": {
       "model_id": "32f09bf3808748648a36932b422a3d3b",
       "version_major": 2,
       "version_minor": 0
      },
      "text/plain": [
       "IntProgress(value=0, description='mou_5', max=21)"
      ]
     },
     "metadata": {},
     "output_type": "display_data"
    },
    {
     "name": "stdout",
     "output_type": "stream",
     "text": [
      "Warning: skipping session with too few trials 45\n",
      "Warning: skipping session with too few trials 47\n",
      "Warning: skipping session with too few trials 20\n",
      "Warning: skipping session with too few trials 44\n",
      "Warning: skipping session with too few trials 41\n"
     ]
    },
    {
     "data": {
      "application/vnd.jupyter.widget-view+json": {
       "model_id": "090df2eb07e9463ca6383cccf694ae69",
       "version_major": 2,
       "version_minor": 0
      },
      "text/plain": [
       "IntProgress(value=0, description='mou_7', max=27)"
      ]
     },
     "metadata": {},
     "output_type": "display_data"
    },
    {
     "data": {
      "application/vnd.jupyter.widget-view+json": {
       "model_id": "e961aa27a0f84ab4801669865b051a10",
       "version_major": 2,
       "version_minor": 0
      },
      "text/plain": [
       "IntProgress(value=0, description='mou_7', max=27)"
      ]
     },
     "metadata": {},
     "output_type": "display_data"
    },
    {
     "name": "stdout",
     "output_type": "stream",
     "text": [
      "Warning: skipping session with too few trials 46\n",
      "Warning: skipping session with too few trials 41\n",
      "Warning: skipping session with too few trials 36\n",
      "Warning: skipping session with too few trials 37\n",
      "Warning: skipping session with too few trials 41\n",
      "Warning: skipping session with too few trials 44\n",
      "Warning: skipping session with too few trials 47\n",
      "Warning: skipping session with too few trials 46\n",
      "Warning: skipping session with too few trials 45\n"
     ]
    },
    {
     "data": {
      "application/vnd.jupyter.widget-view+json": {
       "model_id": "18e08a50248346288a936833d5fa7bec",
       "version_major": 2,
       "version_minor": 0
      },
      "text/plain": [
       "IntProgress(value=0, description='mou_7', max=27)"
      ]
     },
     "metadata": {},
     "output_type": "display_data"
    },
    {
     "name": "stdout",
     "output_type": "stream",
     "text": [
      "Warning: skipping session with too few trials 49\n",
      "Warning: skipping session with too few trials 48\n",
      "Warning: skipping session with too few trials 38\n",
      "Warning: skipping session with too few trials 34\n",
      "Warning: skipping session with too few trials 48\n",
      "Warning: skipping session with too few trials 43\n",
      "Warning: skipping session with too few trials 49\n",
      "Warning: skipping session with too few trials 43\n",
      "Warning: skipping session with too few trials 47\n",
      "Warning: skipping session with too few trials 41\n",
      "Warning: skipping session with too few trials 45\n",
      "Warning: skipping session with too few trials 49\n",
      "Warning: skipping session with too few trials 37\n",
      "Warning: skipping session with too few trials 42\n",
      "Warning: skipping session with too few trials 49\n",
      "Warning: skipping session with too few trials 40\n"
     ]
    },
    {
     "data": {
      "application/vnd.jupyter.widget-view+json": {
       "model_id": "5480f7e0cdb346ecbf9e8e2f24356c0e",
       "version_major": 2,
       "version_minor": 0
      },
      "text/plain": [
       "IntProgress(value=0, description='mou_7', max=27)"
      ]
     },
     "metadata": {},
     "output_type": "display_data"
    },
    {
     "data": {
      "application/vnd.jupyter.widget-view+json": {
       "model_id": "dc0ea7b4083c4e34b7dc92cbbac2ccc6",
       "version_major": 2,
       "version_minor": 0
      },
      "text/plain": [
       "IntProgress(value=0, description='mou_7', max=27)"
      ]
     },
     "metadata": {},
     "output_type": "display_data"
    },
    {
     "name": "stdout",
     "output_type": "stream",
     "text": [
      "Warning: skipping session with too few trials 46\n",
      "Warning: skipping session with too few trials 41\n",
      "Warning: skipping session with too few trials 36\n",
      "Warning: skipping session with too few trials 37\n",
      "Warning: skipping session with too few trials 41\n",
      "Warning: skipping session with too few trials 44\n",
      "Warning: skipping session with too few trials 47\n",
      "Warning: skipping session with too few trials 46\n",
      "Warning: skipping session with too few trials 45\n"
     ]
    },
    {
     "data": {
      "application/vnd.jupyter.widget-view+json": {
       "model_id": "41d6fc3141a344ec8a14ec08aa559ed3",
       "version_major": 2,
       "version_minor": 0
      },
      "text/plain": [
       "IntProgress(value=0, description='mou_7', max=27)"
      ]
     },
     "metadata": {},
     "output_type": "display_data"
    },
    {
     "name": "stdout",
     "output_type": "stream",
     "text": [
      "Warning: skipping session with too few trials 49\n",
      "Warning: skipping session with too few trials 48\n",
      "Warning: skipping session with too few trials 38\n",
      "Warning: skipping session with too few trials 34\n",
      "Warning: skipping session with too few trials 48\n",
      "Warning: skipping session with too few trials 43\n",
      "Warning: skipping session with too few trials 49\n",
      "Warning: skipping session with too few trials 43\n",
      "Warning: skipping session with too few trials 47\n",
      "Warning: skipping session with too few trials 41\n",
      "Warning: skipping session with too few trials 45\n",
      "Warning: skipping session with too few trials 49\n",
      "Warning: skipping session with too few trials 37\n",
      "Warning: skipping session with too few trials 42\n",
      "Warning: skipping session with too few trials 49\n",
      "Warning: skipping session with too few trials 40\n"
     ]
    },
    {
     "data": {
      "application/vnd.jupyter.widget-view+json": {
       "model_id": "28ab0aa57fa34397abb9a4739261f2b8",
       "version_major": 2,
       "version_minor": 0
      },
      "text/plain": [
       "IntProgress(value=0, description='mou_7', max=27)"
      ]
     },
     "metadata": {},
     "output_type": "display_data"
    },
    {
     "data": {
      "application/vnd.jupyter.widget-view+json": {
       "model_id": "2001713e3f27488f853d898e38d1198e",
       "version_major": 2,
       "version_minor": 0
      },
      "text/plain": [
       "IntProgress(value=0, description='mou_7', max=27)"
      ]
     },
     "metadata": {},
     "output_type": "display_data"
    },
    {
     "name": "stdout",
     "output_type": "stream",
     "text": [
      "Warning: skipping session with too few trials 46\n",
      "Warning: skipping session with too few trials 41\n",
      "Warning: skipping session with too few trials 36\n",
      "Warning: skipping session with too few trials 37\n",
      "Warning: skipping session with too few trials 41\n",
      "Warning: skipping session with too few trials 44\n",
      "Warning: skipping session with too few trials 47\n",
      "Warning: skipping session with too few trials 46\n",
      "Warning: skipping session with too few trials 45\n"
     ]
    },
    {
     "data": {
      "application/vnd.jupyter.widget-view+json": {
       "model_id": "31790535758e480ba0ed18d58317f8e4",
       "version_major": 2,
       "version_minor": 0
      },
      "text/plain": [
       "IntProgress(value=0, description='mou_7', max=27)"
      ]
     },
     "metadata": {},
     "output_type": "display_data"
    },
    {
     "name": "stdout",
     "output_type": "stream",
     "text": [
      "Warning: skipping session with too few trials 49\n",
      "Warning: skipping session with too few trials 48\n",
      "Warning: skipping session with too few trials 38\n",
      "Warning: skipping session with too few trials 34\n",
      "Warning: skipping session with too few trials 48\n",
      "Warning: skipping session with too few trials 43\n",
      "Warning: skipping session with too few trials 49\n",
      "Warning: skipping session with too few trials 43\n",
      "Warning: skipping session with too few trials 47\n",
      "Warning: skipping session with too few trials 41\n",
      "Warning: skipping session with too few trials 45\n",
      "Warning: skipping session with too few trials 49\n",
      "Warning: skipping session with too few trials 37\n",
      "Warning: skipping session with too few trials 42\n",
      "Warning: skipping session with too few trials 49\n",
      "Warning: skipping session with too few trials 40\n"
     ]
    }
   ],
   "source": [
    "for intervName, interv in intervDict.items():\n",
    "    bulk_metrics.metric_mouse_bulk_vs_session(dataDB, mc, ds, \"rank_effective\", 'session', minTrials=50,\n",
    "                                              trialTypeNames=[None, 'Hit', 'CR'], verbose=False, cropTime=(intervName, interv))"
   ]
  },
  {
   "cell_type": "code",
   "execution_count": 27,
   "metadata": {
    "scrolled": true
   },
   "outputs": [
    {
     "name": "stdout",
     "output_type": "stream",
     "text": [
      "['rank_effective', 'session', 'mou_6', 'bn_session', 'dset381', 'None', 'CR', 'AVG']\n",
      "(30,)\n",
      "(22,)\n",
      "['rank_effective', 'session', 'mou_9', 'bn_session', 'dset390', 'None', 'CR', 'AVG']\n",
      "(22,)\n",
      "(16,)\n",
      "['rank_effective', 'session', 'mou_5', 'bn_session', 'dset399', 'None', 'CR', 'AVG']\n",
      "(21,)\n",
      "(16,)\n",
      "['rank_effective', 'session', 'mou_7', 'bn_session', 'dset408', 'None', 'CR', 'AVG']\n",
      "(27,)\n",
      "(11,)\n",
      "['rank_effective', 'session', 'mou_6', 'bn_trial', 'dset384', 'None', 'CR', 'AVG']\n",
      "(30,)\n",
      "(22,)\n",
      "['rank_effective', 'session', 'mou_9', 'bn_trial', 'dset393', 'None', 'CR', 'AVG']\n",
      "(22,)\n",
      "(16,)\n",
      "['rank_effective', 'session', 'mou_5', 'bn_trial', 'dset402', 'None', 'CR', 'AVG']\n",
      "(21,)\n",
      "(16,)\n",
      "['rank_effective', 'session', 'mou_7', 'bn_trial', 'dset411', 'None', 'CR', 'AVG']\n",
      "(27,)\n",
      "(11,)\n",
      "['rank_effective', 'session', 'mou_6', 'raw', 'dset378', 'rs', 'CR', 'AVG']\n",
      "(30,)\n",
      "(22,)\n",
      "['rank_effective', 'session', 'mou_9', 'raw', 'dset387', 'rs', 'CR', 'AVG']\n",
      "(22,)\n",
      "(16,)\n",
      "['rank_effective', 'session', 'mou_5', 'raw', 'dset396', 'rs', 'CR', 'AVG']\n",
      "(21,)\n",
      "(16,)\n",
      "['rank_effective', 'session', 'mou_7', 'raw', 'dset405', 'rs', 'CR', 'AVG']\n",
      "(27,)\n",
      "(11,)\n",
      "['rank_effective', 'session', 'mou_6', 'bn_session', 'dset380', 'None', 'Hit', 'AVG']\n",
      "(30,)\n",
      "(21,)\n",
      "['rank_effective', 'session', 'mou_9', 'bn_session', 'dset389', 'None', 'Hit', 'AVG']\n",
      "(22,)\n",
      "(11,)\n",
      "['rank_effective', 'session', 'mou_5', 'bn_session', 'dset398', 'None', 'Hit', 'AVG']\n",
      "(21,)\n",
      "(14,)\n",
      "['rank_effective', 'session', 'mou_7', 'bn_session', 'dset407', 'None', 'Hit', 'AVG']\n",
      "(27,)\n",
      "(18,)\n",
      "['rank_effective', 'session', 'mou_6', 'bn_trial', 'dset383', 'None', 'Hit', 'AVG']\n",
      "(30,)\n",
      "(21,)\n",
      "['rank_effective', 'session', 'mou_9', 'bn_trial', 'dset392', 'None', 'Hit', 'AVG']\n",
      "(22,)\n",
      "(11,)\n",
      "['rank_effective', 'session', 'mou_5', 'bn_trial', 'dset401', 'None', 'Hit', 'AVG']\n",
      "(21,)\n",
      "(14,)\n",
      "['rank_effective', 'session', 'mou_7', 'bn_trial', 'dset410', 'None', 'Hit', 'AVG']\n",
      "(27,)\n",
      "(18,)\n",
      "['rank_effective', 'session', 'mou_6', 'raw', 'dset377', 'rs', 'Hit', 'AVG']\n",
      "(30,)\n",
      "(21,)\n",
      "['rank_effective', 'session', 'mou_9', 'raw', 'dset386', 'rs', 'Hit', 'AVG']\n",
      "(22,)\n",
      "(11,)\n",
      "['rank_effective', 'session', 'mou_5', 'raw', 'dset395', 'rs', 'Hit', 'AVG']\n",
      "(21,)\n",
      "(14,)\n",
      "['rank_effective', 'session', 'mou_7', 'raw', 'dset404', 'rs', 'Hit', 'AVG']\n",
      "(27,)\n",
      "(18,)\n",
      "['rank_effective', 'session', 'mou_6', 'bn_session', 'dset379', 'None', 'None', 'AVG']\n",
      "(30,)\n",
      "(30,)\n",
      "['rank_effective', 'session', 'mou_9', 'bn_session', 'dset388', 'None', 'None', 'AVG']\n",
      "(22,)\n",
      "(22,)\n",
      "['rank_effective', 'session', 'mou_5', 'bn_session', 'dset397', 'None', 'None', 'AVG']\n",
      "(21,)\n",
      "(21,)\n",
      "['rank_effective', 'session', 'mou_7', 'bn_session', 'dset406', 'None', 'None', 'AVG']\n",
      "(27,)\n",
      "(27,)\n",
      "['rank_effective', 'session', 'mou_6', 'bn_trial', 'dset382', 'None', 'None', 'AVG']\n",
      "(30,)\n",
      "(30,)\n",
      "['rank_effective', 'session', 'mou_9', 'bn_trial', 'dset391', 'None', 'None', 'AVG']\n",
      "(22,)\n",
      "(22,)\n",
      "['rank_effective', 'session', 'mou_5', 'bn_trial', 'dset400', 'None', 'None', 'AVG']\n",
      "(21,)\n",
      "(21,)\n",
      "['rank_effective', 'session', 'mou_7', 'bn_trial', 'dset409', 'None', 'None', 'AVG']\n",
      "(27,)\n",
      "(27,)\n",
      "['rank_effective', 'session', 'mou_6', 'raw', 'dset376', 'rs', 'None', 'AVG']\n",
      "(30,)\n",
      "(30,)\n",
      "['rank_effective', 'session', 'mou_9', 'raw', 'dset385', 'rs', 'None', 'AVG']\n",
      "(22,)\n",
      "(22,)\n",
      "['rank_effective', 'session', 'mou_5', 'raw', 'dset394', 'rs', 'None', 'AVG']\n",
      "(21,)\n",
      "(21,)\n",
      "['rank_effective', 'session', 'mou_7', 'raw', 'dset403', 'rs', 'None', 'AVG']\n",
      "(27,)\n",
      "(27,)\n",
      "['rank_effective', 'session', 'mou_6', 'bn_session', 'dset309', 'None', 'CR', 'DEL']\n",
      "(30,)\n",
      "(22,)\n",
      "['rank_effective', 'session', 'mou_9', 'bn_session', 'dset318', 'None', 'CR', 'DEL']\n",
      "(22,)\n",
      "(16,)\n",
      "['rank_effective', 'session', 'mou_5', 'bn_session', 'dset327', 'None', 'CR', 'DEL']\n",
      "(21,)\n",
      "(16,)\n",
      "['rank_effective', 'session', 'mou_7', 'bn_session', 'dset336', 'None', 'CR', 'DEL']\n",
      "(27,)\n",
      "(11,)\n",
      "['rank_effective', 'session', 'mou_6', 'bn_trial', 'dset312', 'None', 'CR', 'DEL']\n",
      "(30,)\n",
      "(22,)\n",
      "['rank_effective', 'session', 'mou_9', 'bn_trial', 'dset321', 'None', 'CR', 'DEL']\n",
      "(22,)\n",
      "(16,)\n",
      "['rank_effective', 'session', 'mou_5', 'bn_trial', 'dset330', 'None', 'CR', 'DEL']\n",
      "(21,)\n",
      "(16,)\n",
      "['rank_effective', 'session', 'mou_7', 'bn_trial', 'dset339', 'None', 'CR', 'DEL']\n",
      "(27,)\n",
      "(11,)\n",
      "['rank_effective', 'session', 'mou_6', 'raw', 'dset306', 'rs', 'CR', 'DEL']\n",
      "(30,)\n",
      "(22,)\n",
      "['rank_effective', 'session', 'mou_9', 'raw', 'dset315', 'rs', 'CR', 'DEL']\n",
      "(22,)\n",
      "(16,)\n",
      "['rank_effective', 'session', 'mou_5', 'raw', 'dset324', 'rs', 'CR', 'DEL']\n",
      "(21,)\n",
      "(16,)\n",
      "['rank_effective', 'session', 'mou_7', 'raw', 'dset333', 'rs', 'CR', 'DEL']\n",
      "(27,)\n",
      "(11,)\n",
      "['rank_effective', 'session', 'mou_6', 'bn_session', 'dset308', 'None', 'Hit', 'DEL']\n",
      "(30,)\n",
      "(21,)\n",
      "['rank_effective', 'session', 'mou_9', 'bn_session', 'dset317', 'None', 'Hit', 'DEL']\n",
      "(22,)\n",
      "(11,)\n",
      "['rank_effective', 'session', 'mou_5', 'bn_session', 'dset326', 'None', 'Hit', 'DEL']\n",
      "(21,)\n",
      "(14,)\n",
      "['rank_effective', 'session', 'mou_7', 'bn_session', 'dset335', 'None', 'Hit', 'DEL']\n",
      "(27,)\n",
      "(18,)\n",
      "['rank_effective', 'session', 'mou_6', 'bn_trial', 'dset311', 'None', 'Hit', 'DEL']\n",
      "(30,)\n",
      "(21,)\n",
      "['rank_effective', 'session', 'mou_9', 'bn_trial', 'dset320', 'None', 'Hit', 'DEL']\n",
      "(22,)\n",
      "(11,)\n",
      "['rank_effective', 'session', 'mou_5', 'bn_trial', 'dset329', 'None', 'Hit', 'DEL']\n",
      "(21,)\n",
      "(14,)\n",
      "['rank_effective', 'session', 'mou_7', 'bn_trial', 'dset338', 'None', 'Hit', 'DEL']\n",
      "(27,)\n",
      "(18,)\n",
      "['rank_effective', 'session', 'mou_6', 'raw', 'dset305', 'rs', 'Hit', 'DEL']\n",
      "(30,)\n",
      "(21,)\n",
      "['rank_effective', 'session', 'mou_9', 'raw', 'dset314', 'rs', 'Hit', 'DEL']\n",
      "(22,)\n",
      "(11,)\n",
      "['rank_effective', 'session', 'mou_5', 'raw', 'dset323', 'rs', 'Hit', 'DEL']\n",
      "(21,)\n",
      "(14,)\n",
      "['rank_effective', 'session', 'mou_7', 'raw', 'dset332', 'rs', 'Hit', 'DEL']\n",
      "(27,)\n",
      "(18,)\n",
      "['rank_effective', 'session', 'mou_6', 'bn_session', 'dset307', 'None', 'None', 'DEL']\n",
      "(30,)\n",
      "(30,)\n",
      "['rank_effective', 'session', 'mou_9', 'bn_session', 'dset316', 'None', 'None', 'DEL']\n",
      "(22,)\n",
      "(22,)\n",
      "['rank_effective', 'session', 'mou_5', 'bn_session', 'dset325', 'None', 'None', 'DEL']\n",
      "(21,)\n",
      "(21,)\n",
      "['rank_effective', 'session', 'mou_7', 'bn_session', 'dset334', 'None', 'None', 'DEL']\n",
      "(27,)\n",
      "(27,)\n",
      "['rank_effective', 'session', 'mou_6', 'bn_trial', 'dset310', 'None', 'None', 'DEL']\n",
      "(30,)\n",
      "(30,)\n",
      "['rank_effective', 'session', 'mou_9', 'bn_trial', 'dset319', 'None', 'None', 'DEL']\n",
      "(22,)\n",
      "(22,)\n",
      "['rank_effective', 'session', 'mou_5', 'bn_trial', 'dset328', 'None', 'None', 'DEL']\n",
      "(21,)\n",
      "(21,)\n",
      "['rank_effective', 'session', 'mou_7', 'bn_trial', 'dset337', 'None', 'None', 'DEL']\n",
      "(27,)\n",
      "(27,)\n",
      "['rank_effective', 'session', 'mou_6', 'raw', 'dset304', 'rs', 'None', 'DEL']\n",
      "(30,)\n",
      "(30,)\n",
      "['rank_effective', 'session', 'mou_9', 'raw', 'dset313', 'rs', 'None', 'DEL']\n",
      "(22,)\n",
      "(22,)\n",
      "['rank_effective', 'session', 'mou_5', 'raw', 'dset322', 'rs', 'None', 'DEL']\n",
      "(21,)\n",
      "(21,)\n",
      "['rank_effective', 'session', 'mou_7', 'raw', 'dset331', 'rs', 'None', 'DEL']\n",
      "(27,)\n",
      "(27,)\n",
      "['rank_effective', 'session', 'mou_6', 'bn_session', 'dset345', 'None', 'CR', 'REW']\n",
      "(30,)\n",
      "(22,)\n",
      "['rank_effective', 'session', 'mou_9', 'bn_session', 'dset354', 'None', 'CR', 'REW']\n",
      "(22,)\n",
      "(16,)\n",
      "['rank_effective', 'session', 'mou_5', 'bn_session', 'dset363', 'None', 'CR', 'REW']\n",
      "(21,)\n",
      "(16,)\n",
      "['rank_effective', 'session', 'mou_7', 'bn_session', 'dset372', 'None', 'CR', 'REW']\n",
      "(27,)\n",
      "(11,)\n",
      "['rank_effective', 'session', 'mou_6', 'bn_trial', 'dset348', 'None', 'CR', 'REW']\n",
      "(30,)\n",
      "(22,)\n",
      "['rank_effective', 'session', 'mou_9', 'bn_trial', 'dset357', 'None', 'CR', 'REW']\n",
      "(22,)\n",
      "(16,)\n",
      "['rank_effective', 'session', 'mou_5', 'bn_trial', 'dset366', 'None', 'CR', 'REW']\n",
      "(21,)\n",
      "(16,)\n",
      "['rank_effective', 'session', 'mou_7', 'bn_trial', 'dset375', 'None', 'CR', 'REW']\n",
      "(27,)\n",
      "(11,)\n",
      "['rank_effective', 'session', 'mou_6', 'raw', 'dset342', 'rs', 'CR', 'REW']\n",
      "(30,)\n",
      "(22,)\n",
      "['rank_effective', 'session', 'mou_9', 'raw', 'dset351', 'rs', 'CR', 'REW']\n",
      "(22,)\n",
      "(16,)\n",
      "['rank_effective', 'session', 'mou_5', 'raw', 'dset360', 'rs', 'CR', 'REW']\n",
      "(21,)\n",
      "(16,)\n",
      "['rank_effective', 'session', 'mou_7', 'raw', 'dset369', 'rs', 'CR', 'REW']\n",
      "(27,)\n",
      "(11,)\n",
      "['rank_effective', 'session', 'mou_6', 'bn_session', 'dset344', 'None', 'Hit', 'REW']\n",
      "(30,)\n",
      "(21,)\n",
      "['rank_effective', 'session', 'mou_9', 'bn_session', 'dset353', 'None', 'Hit', 'REW']\n",
      "(22,)\n",
      "(11,)\n",
      "['rank_effective', 'session', 'mou_5', 'bn_session', 'dset362', 'None', 'Hit', 'REW']\n",
      "(21,)\n",
      "(14,)\n",
      "['rank_effective', 'session', 'mou_7', 'bn_session', 'dset371', 'None', 'Hit', 'REW']\n",
      "(27,)\n",
      "(18,)\n",
      "['rank_effective', 'session', 'mou_6', 'bn_trial', 'dset347', 'None', 'Hit', 'REW']\n",
      "(30,)\n",
      "(21,)\n",
      "['rank_effective', 'session', 'mou_9', 'bn_trial', 'dset356', 'None', 'Hit', 'REW']\n",
      "(22,)\n",
      "(11,)\n",
      "['rank_effective', 'session', 'mou_5', 'bn_trial', 'dset365', 'None', 'Hit', 'REW']\n",
      "(21,)\n",
      "(14,)\n",
      "['rank_effective', 'session', 'mou_7', 'bn_trial', 'dset374', 'None', 'Hit', 'REW']\n",
      "(27,)\n",
      "(18,)\n"
     ]
    },
    {
     "name": "stdout",
     "output_type": "stream",
     "text": [
      "['rank_effective', 'session', 'mou_6', 'raw', 'dset341', 'rs', 'Hit', 'REW']\n",
      "(30,)\n",
      "(21,)\n",
      "['rank_effective', 'session', 'mou_9', 'raw', 'dset350', 'rs', 'Hit', 'REW']\n",
      "(22,)\n",
      "(11,)\n",
      "['rank_effective', 'session', 'mou_5', 'raw', 'dset359', 'rs', 'Hit', 'REW']\n",
      "(21,)\n",
      "(14,)\n",
      "['rank_effective', 'session', 'mou_7', 'raw', 'dset368', 'rs', 'Hit', 'REW']\n",
      "(27,)\n",
      "(18,)\n",
      "['rank_effective', 'session', 'mou_6', 'bn_session', 'dset343', 'None', 'None', 'REW']\n",
      "(30,)\n",
      "(30,)\n",
      "['rank_effective', 'session', 'mou_9', 'bn_session', 'dset352', 'None', 'None', 'REW']\n",
      "(22,)\n",
      "(22,)\n",
      "['rank_effective', 'session', 'mou_5', 'bn_session', 'dset361', 'None', 'None', 'REW']\n",
      "(21,)\n",
      "(21,)\n",
      "['rank_effective', 'session', 'mou_7', 'bn_session', 'dset370', 'None', 'None', 'REW']\n",
      "(27,)\n",
      "(27,)\n",
      "['rank_effective', 'session', 'mou_6', 'bn_trial', 'dset346', 'None', 'None', 'REW']\n",
      "(30,)\n",
      "(30,)\n",
      "['rank_effective', 'session', 'mou_9', 'bn_trial', 'dset355', 'None', 'None', 'REW']\n",
      "(22,)\n",
      "(22,)\n",
      "['rank_effective', 'session', 'mou_5', 'bn_trial', 'dset364', 'None', 'None', 'REW']\n",
      "(21,)\n",
      "(21,)\n",
      "['rank_effective', 'session', 'mou_7', 'bn_trial', 'dset373', 'None', 'None', 'REW']\n",
      "(27,)\n",
      "(27,)\n",
      "['rank_effective', 'session', 'mou_6', 'raw', 'dset340', 'rs', 'None', 'REW']\n",
      "(30,)\n",
      "(30,)\n",
      "['rank_effective', 'session', 'mou_9', 'raw', 'dset349', 'rs', 'None', 'REW']\n",
      "(22,)\n",
      "(22,)\n",
      "['rank_effective', 'session', 'mou_5', 'raw', 'dset358', 'rs', 'None', 'REW']\n",
      "(21,)\n",
      "(21,)\n",
      "['rank_effective', 'session', 'mou_7', 'raw', 'dset367', 'rs', 'None', 'REW']\n",
      "(27,)\n",
      "(27,)\n",
      "['rank_effective', 'session', 'mou_6', 'bn_session', 'dset273', 'None', 'CR', 'TEX']\n",
      "(30,)\n",
      "(22,)\n",
      "['rank_effective', 'session', 'mou_9', 'bn_session', 'dset282', 'None', 'CR', 'TEX']\n",
      "(22,)\n",
      "(16,)\n",
      "['rank_effective', 'session', 'mou_5', 'bn_session', 'dset291', 'None', 'CR', 'TEX']\n",
      "(21,)\n",
      "(16,)\n",
      "['rank_effective', 'session', 'mou_7', 'bn_session', 'dset300', 'None', 'CR', 'TEX']\n",
      "(27,)\n",
      "(11,)\n",
      "['rank_effective', 'session', 'mou_6', 'bn_trial', 'dset276', 'None', 'CR', 'TEX']\n",
      "(30,)\n",
      "(22,)\n",
      "['rank_effective', 'session', 'mou_9', 'bn_trial', 'dset285', 'None', 'CR', 'TEX']\n",
      "(22,)\n",
      "(16,)\n",
      "['rank_effective', 'session', 'mou_5', 'bn_trial', 'dset294', 'None', 'CR', 'TEX']\n",
      "(21,)\n",
      "(16,)\n",
      "['rank_effective', 'session', 'mou_7', 'bn_trial', 'dset303', 'None', 'CR', 'TEX']\n",
      "(27,)\n",
      "(11,)\n",
      "['rank_effective', 'session', 'mou_6', 'raw', 'dset270', 'rs', 'CR', 'TEX']\n",
      "(30,)\n",
      "(22,)\n",
      "['rank_effective', 'session', 'mou_9', 'raw', 'dset279', 'rs', 'CR', 'TEX']\n",
      "(22,)\n",
      "(16,)\n",
      "['rank_effective', 'session', 'mou_5', 'raw', 'dset288', 'rs', 'CR', 'TEX']\n",
      "(21,)\n",
      "(16,)\n",
      "['rank_effective', 'session', 'mou_7', 'raw', 'dset297', 'rs', 'CR', 'TEX']\n",
      "(27,)\n",
      "(11,)\n",
      "['rank_effective', 'session', 'mou_6', 'bn_session', 'dset272', 'None', 'Hit', 'TEX']\n",
      "(30,)\n",
      "(21,)\n",
      "['rank_effective', 'session', 'mou_9', 'bn_session', 'dset281', 'None', 'Hit', 'TEX']\n",
      "(22,)\n",
      "(11,)\n",
      "['rank_effective', 'session', 'mou_5', 'bn_session', 'dset290', 'None', 'Hit', 'TEX']\n",
      "(21,)\n",
      "(14,)\n",
      "['rank_effective', 'session', 'mou_7', 'bn_session', 'dset299', 'None', 'Hit', 'TEX']\n",
      "(27,)\n",
      "(18,)\n",
      "['rank_effective', 'session', 'mou_6', 'bn_trial', 'dset275', 'None', 'Hit', 'TEX']\n",
      "(30,)\n",
      "(21,)\n",
      "['rank_effective', 'session', 'mou_9', 'bn_trial', 'dset284', 'None', 'Hit', 'TEX']\n",
      "(22,)\n",
      "(11,)\n",
      "['rank_effective', 'session', 'mou_5', 'bn_trial', 'dset293', 'None', 'Hit', 'TEX']\n",
      "(21,)\n",
      "(14,)\n",
      "['rank_effective', 'session', 'mou_7', 'bn_trial', 'dset302', 'None', 'Hit', 'TEX']\n",
      "(27,)\n",
      "(18,)\n",
      "['rank_effective', 'session', 'mou_6', 'raw', 'dset269', 'rs', 'Hit', 'TEX']\n",
      "(30,)\n",
      "(21,)\n",
      "['rank_effective', 'session', 'mou_9', 'raw', 'dset278', 'rs', 'Hit', 'TEX']\n",
      "(22,)\n",
      "(11,)\n",
      "['rank_effective', 'session', 'mou_5', 'raw', 'dset287', 'rs', 'Hit', 'TEX']\n",
      "(21,)\n",
      "(14,)\n",
      "['rank_effective', 'session', 'mou_7', 'raw', 'dset296', 'rs', 'Hit', 'TEX']\n",
      "(27,)\n",
      "(18,)\n",
      "['rank_effective', 'session', 'mou_6', 'bn_session', 'dset271', 'None', 'None', 'TEX']\n",
      "(30,)\n",
      "(30,)\n",
      "['rank_effective', 'session', 'mou_9', 'bn_session', 'dset280', 'None', 'None', 'TEX']\n",
      "(22,)\n",
      "(22,)\n",
      "['rank_effective', 'session', 'mou_5', 'bn_session', 'dset289', 'None', 'None', 'TEX']\n",
      "(21,)\n",
      "(21,)\n",
      "['rank_effective', 'session', 'mou_7', 'bn_session', 'dset298', 'None', 'None', 'TEX']\n",
      "(27,)\n",
      "(27,)\n",
      "['rank_effective', 'session', 'mou_6', 'bn_trial', 'dset274', 'None', 'None', 'TEX']\n",
      "(30,)\n",
      "(30,)\n",
      "['rank_effective', 'session', 'mou_9', 'bn_trial', 'dset283', 'None', 'None', 'TEX']\n",
      "(22,)\n",
      "(22,)\n",
      "['rank_effective', 'session', 'mou_5', 'bn_trial', 'dset292', 'None', 'None', 'TEX']\n",
      "(21,)\n",
      "(21,)\n",
      "['rank_effective', 'session', 'mou_7', 'bn_trial', 'dset301', 'None', 'None', 'TEX']\n",
      "(27,)\n",
      "(27,)\n",
      "['rank_effective', 'session', 'mou_6', 'raw', 'dset268', 'rs', 'None', 'TEX']\n",
      "(30,)\n",
      "(30,)\n",
      "['rank_effective', 'session', 'mou_9', 'raw', 'dset277', 'rs', 'None', 'TEX']\n",
      "(22,)\n",
      "(22,)\n",
      "['rank_effective', 'session', 'mou_5', 'raw', 'dset286', 'rs', 'None', 'TEX']\n",
      "(21,)\n",
      "(21,)\n",
      "['rank_effective', 'session', 'mou_7', 'raw', 'dset295', 'rs', 'None', 'TEX']\n",
      "(27,)\n",
      "(27,)\n"
     ]
    }
   ],
   "source": [
    "bulk_metrics.scatter_metric_bulk(ds, 'rank_effective', 'session', ylim=[1, None], verbose=False,\n",
    "                                 xFunc=None, haveRegression=False)"
   ]
  },
  {
   "cell_type": "markdown",
   "metadata": {},
   "source": [
    "### Conditions"
   ]
  },
  {
   "cell_type": "code",
   "execution_count": 28,
   "metadata": {},
   "outputs": [],
   "source": [
    "bulk_metrics.barplot_conditions(ds, 'rank_effective', 'session', verbose=True)"
   ]
  },
  {
   "cell_type": "markdown",
   "metadata": {},
   "source": [
    "## Hierarchical\n",
    "\n",
    "**TODO**:\n",
    "* Add composite selectors for metric helper\n",
    "   - trialType = iGO & iNOGO\n",
    "   - cropTime = TEX & REW"
   ]
  },
  {
   "cell_type": "code",
   "execution_count": null,
   "metadata": {},
   "outputs": [],
   "source": [
    "intervDict = {\n",
    "    'PRE' : (-2.0, 0.0),\n",
    "    'TEX' : (3.0, 3.5),\n",
    "    'REW' : (6.0, 6.5)\n",
    "}\n",
    "for intervName, interv in intervDict.items():\n",
    "    bulk_metrics.metric_mouse_bulk(dataDB, mc, ds, \"rank_effective\", '', 'flat', verbose=False,\n",
    "                                   trialTypeNames='auto',\n",
    "                                   perfNames='auto',\n",
    "                                   cropTime=(intervName, interv))"
   ]
  },
  {
   "cell_type": "code",
   "execution_count": null,
   "metadata": {},
   "outputs": [],
   "source": [
    "df = ds.list_dsets_pd()\n",
    "df = df[df['name'] == 'flat']"
   ]
  },
  {
   "cell_type": "code",
   "execution_count": null,
   "metadata": {},
   "outputs": [],
   "source": [
    "data = [np.round(ds.get_data(dset), 2) for dset in df['dset']]\n",
    "df['rez'] = data"
   ]
  },
  {
   "cell_type": "code",
   "execution_count": null,
   "metadata": {},
   "outputs": [],
   "source": [
    "df.drop(['datetime', 'zscoreDim', 'dset', 'metric', 'name', 'shape', 'target_dim'], axis=1, inplace=True)"
   ]
  },
  {
   "cell_type": "code",
   "execution_count": null,
   "metadata": {},
   "outputs": [],
   "source": [
    "from mesostat.utils.pandas_helper import pd_category_to_column"
   ]
  },
  {
   "cell_type": "code",
   "execution_count": null,
   "metadata": {},
   "outputs": [],
   "source": [
    "index = list(set(df.columns) - {'mousename', 'rez'})\n",
    "dfMouse = df.pivot(index=index, columns='mousename', values='rez').reset_index()"
   ]
  },
  {
   "cell_type": "code",
   "execution_count": null,
   "metadata": {
    "scrolled": true
   },
   "outputs": [],
   "source": [
    "dfMouse[dfMouse['datatype'] == 'bn_trial']"
   ]
  },
  {
   "cell_type": "markdown",
   "metadata": {},
   "source": [
    "# Total Correlation"
   ]
  },
  {
   "cell_type": "code",
   "execution_count": null,
   "metadata": {},
   "outputs": [],
   "source": [
    "# bulk_metrics.metric_mouse_bulk(dataDB, mc, ds, \"avg_entropy\", 'sp', 'time-channel', verbose=False)\n",
    "# bulk_metrics.metric_mouse_bulk(dataDB, mc, ds, \"avg_entropy\", 's', 'time', verbose=False)\n",
    "\n",
    "bulk_metrics.metric_mouse_bulk(dataDB, mc, ds, \"avg_TC\", 's', 'time', verbose=False)"
   ]
  },
  {
   "cell_type": "code",
   "execution_count": null,
   "metadata": {
    "scrolled": true
   },
   "outputs": [],
   "source": [
    "bulk_metrics.plot_metric_bulk(dataDB, ds, 'avg_TC', 'time', verbose=True) # ylim=[1,48]"
   ]
  },
  {
   "cell_type": "code",
   "execution_count": null,
   "metadata": {
    "scrolled": true
   },
   "outputs": [],
   "source": [
    "bulk_metrics.plot_TC(dataDB, ds, ylim=None, yscale=None, verbose=True)"
   ]
  },
  {
   "cell_type": "markdown",
   "metadata": {},
   "source": [
    "### Cleaning up"
   ]
  },
  {
   "cell_type": "code",
   "execution_count": null,
   "metadata": {},
   "outputs": [],
   "source": [
    "with pd.option_context('display.max_rows', None, 'display.max_columns', None):\n",
    "    display(ds.list_dsets_pd().sort_values(by='datetime'))"
   ]
  },
  {
   "cell_type": "code",
   "execution_count": null,
   "metadata": {},
   "outputs": [],
   "source": [
    "ds.delete_by_query(queryDict={\"metric\" : \"rank_effective\"}, timestr=\"2020-11-20 18:00:00\")"
   ]
  },
  {
   "cell_type": "code",
   "execution_count": null,
   "metadata": {},
   "outputs": [],
   "source": []
  }
 ],
 "metadata": {
  "kernelspec": {
   "display_name": "py3ml",
   "language": "python",
   "name": "py3ml"
  },
  "language_info": {
   "codemirror_mode": {
    "name": "ipython",
    "version": 3
   },
   "file_extension": ".py",
   "mimetype": "text/x-python",
   "name": "python",
   "nbconvert_exporter": "python",
   "pygments_lexer": "ipython3",
   "version": "3.8.5"
  }
 },
 "nbformat": 4,
 "nbformat_minor": 2
}

{
 "cells": [
  {
   "cell_type": "code",
   "execution_count": 1,
   "metadata": {},
   "outputs": [
    {
     "name": "stdout",
     "output_type": "stream",
     "text": [
      "Appended root directory /home/alyosha/work/git/pub-2020-exploratory-analysis\n"
     ]
    }
   ],
   "source": [
    "# Standard libraries\n",
    "import numpy as np\n",
    "import pandas as pd\n",
    "import matplotlib.pyplot as plt\n",
    "from ipywidgets import IntProgress\n",
    "from IPython.display import display\n",
    "from scipy.stats import mannwhitneyu, wilcoxon\n",
    "\n",
    "# Append base directory\n",
    "import os,sys,inspect\n",
    "rootname = \"pub-2020-exploratory-analysis\"\n",
    "thispath = os.getcwd()\n",
    "# thispath = os.path.dirname(os.path.abspath(inspect.getfile(inspect.currentframe())))\n",
    "rootpath = os.path.join(thispath[:thispath.index(rootname)], rootname)\n",
    "sys.path.append(rootpath)\n",
    "print(\"Appended root directory\", rootpath)\n",
    "\n",
    "from mesostat.utils.qt_helper import gui_fnames, gui_fpath\n",
    "from mesostat.metric.metric import MetricCalculator\n",
    "from mesostat.utils.hdf5_io import DataStorage\n",
    "\n",
    "from lib.gallerosalas.data_fc_db_raw import DataFCDatabase\n",
    "import lib.analysis.bulk_metrics as bulk_metrics\n",
    "\n",
    "%load_ext autoreload\n",
    "%autoreload 2"
   ]
  },
  {
   "cell_type": "code",
   "execution_count": 2,
   "metadata": {},
   "outputs": [],
   "source": [
    "params = {}\n",
    "# params['root_path_data']  = gui_fpath(\"Path to data collection\",  './')\n",
    "params['root_path_data'] = '/media/alyosha/Data/TE_data/yasirdata_raw/'\n",
    "# params['root_path_data'] = '/home/alyosha/data/yasirdata_raw/'\n",
    "# params['root_path_data'] = '/media/aleksejs/DataHDD/work/data/yasir/yasirdata_raw'"
   ]
  },
  {
   "cell_type": "code",
   "execution_count": 3,
   "metadata": {},
   "outputs": [
    {
     "name": "stdout",
     "output_type": "stream",
     "text": [
      "Reading channel label file\n",
      "Reading channel area file\n",
      "Reading allen brain map\n",
      "Reading task structure\n",
      "Reading session structure\n",
      "Searching for data files\n",
      "Found mice ['mou_5', 'mou_6', 'mou_7', 'mou_9']\n"
     ]
    }
   ],
   "source": [
    "dataDB = DataFCDatabase(params)"
   ]
  },
  {
   "cell_type": "code",
   "execution_count": 4,
   "metadata": {},
   "outputs": [],
   "source": [
    "ds = DataStorage('gallerosalas_bulk_metrics.h5')"
   ]
  },
  {
   "cell_type": "code",
   "execution_count": 5,
   "metadata": {},
   "outputs": [],
   "source": [
    "mc = MetricCalculator(serial=True, verbose=False)"
   ]
  },
  {
   "cell_type": "code",
   "execution_count": 6,
   "metadata": {},
   "outputs": [
    {
     "name": "stdout",
     "output_type": "stream",
     "text": [
      "mice {'mou_9', 'mou_5', 'mou_7', 'mou_6'}\n",
      "nSessions 4\n",
      "datatypes ['raw', 'bn_session', 'bn_trial']\n",
      "nChannel 27\n"
     ]
    }
   ],
   "source": [
    "print('mice', dataDB.mice)\n",
    "print('nSessions', len(dataDB.sessions))\n",
    "print('datatypes', dataDB.get_data_types())\n",
    "print('nChannel', dataDB.get_nchannels('mou_5'))"
   ]
  },
  {
   "cell_type": "code",
   "execution_count": 7,
   "metadata": {},
   "outputs": [],
   "source": [
    "dataDB.calc_shortest_distances()"
   ]
  },
  {
   "cell_type": "markdown",
   "metadata": {},
   "source": [
    "# Bulk Metrics"
   ]
  },
  {
   "cell_type": "code",
   "execution_count": 8,
   "metadata": {},
   "outputs": [],
   "source": [
    "intervNames = [\"PRE\", \"TEX\", \"DEL\", \"REW\", \"AVG\"]"
   ]
  },
  {
   "cell_type": "code",
   "execution_count": 9,
   "metadata": {},
   "outputs": [],
   "source": [
    "exclQueryLst = [\n",
    "    {'datatype' : 'bn_trial', 'intervName' : 'PRE'},  # Baseline normalized\n",
    "    {'mousename' : 'mou_6', 'intervName' : 'REW'},    # No reward for this mouse\n",
    "    {'mousename' : 'mou_6', 'intervName' : 'AVG'},    # Makes no sense to compare: no reward and longer delay\n",
    "]"
   ]
  },
  {
   "cell_type": "markdown",
   "metadata": {},
   "source": [
    "## 1. Mean\n",
    "### 1.1. Mean vs time"
   ]
  },
  {
   "cell_type": "code",
   "execution_count": null,
   "metadata": {
    "scrolled": true
   },
   "outputs": [],
   "source": [
    "bulk_metrics.metric_mouse_bulk(dataDB, mc, ds, 'mean', 's', 'time', verbose=False, minTrials=10,\n",
    "                               trialTypeNames='auto', perfNames=None, exclQueryLst=exclQueryLst)"
   ]
  },
  {
   "cell_type": "code",
   "execution_count": null,
   "metadata": {
    "scrolled": true
   },
   "outputs": [],
   "source": [
    "bulk_metrics.plot_metric_bulk(ds, 'mean', 'time', verbose=False, xFunc=lambda m, l: dataDB.get_times())"
   ]
  },
  {
   "cell_type": "markdown",
   "metadata": {},
   "source": [
    "### 1.2. Mean vs session"
   ]
  },
  {
   "cell_type": "code",
   "execution_count": 10,
   "metadata": {
    "scrolled": true
   },
   "outputs": [
    {
     "data": {
      "application/vnd.jupyter.widget-view+json": {
       "model_id": "68aa2838eb204b2ba725a9b73b68dbcc",
       "version_major": 2,
       "version_minor": 0
      },
      "text/plain": [
       "IntProgress(value=0, description='session', max=250)"
      ]
     },
     "metadata": {},
     "output_type": "display_data"
    },
    {
     "name": "stdout",
     "output_type": "stream",
     "text": [
      "Skipping existing session_rs_raw_PRE_mou_6_mean_(sessions,)\n",
      "Skipping existing session_rs_raw_TEX_mou_6_mean_(sessions,)\n",
      "Skipping existing session_rs_raw_DEL_mou_6_mean_(sessions,)\n",
      "Skipping existing session_rs_raw_Hit_PRE_mou_6_mean_(sessions,)\n",
      "Skipping existing session_rs_raw_Hit_TEX_mou_6_mean_(sessions,)\n",
      "Skipping existing session_rs_raw_Hit_DEL_mou_6_mean_(sessions,)\n",
      "Skipping existing session_rs_raw_Miss_PRE_mou_6_mean_(sessions,)\n",
      "Skipping existing session_rs_raw_Miss_TEX_mou_6_mean_(sessions,)\n",
      "Skipping existing session_rs_raw_Miss_DEL_mou_6_mean_(sessions,)\n",
      "Skipping existing session_rs_raw_CR_PRE_mou_6_mean_(sessions,)\n",
      "Skipping existing session_rs_raw_CR_TEX_mou_6_mean_(sessions,)\n",
      "Skipping existing session_rs_raw_CR_DEL_mou_6_mean_(sessions,)\n",
      "Skipping existing session_rs_raw_FA_PRE_mou_6_mean_(sessions,)\n",
      "Skipping existing session_rs_raw_FA_TEX_mou_6_mean_(sessions,)\n",
      "Skipping existing session_rs_raw_FA_DEL_mou_6_mean_(sessions,)\n",
      "Skipping existing session_bn_session_PRE_mou_6_mean_(sessions,)\n",
      "Skipping existing session_bn_session_TEX_mou_6_mean_(sessions,)\n",
      "Skipping existing session_bn_session_DEL_mou_6_mean_(sessions,)\n",
      "Skipping existing session_bn_session_Hit_PRE_mou_6_mean_(sessions,)\n",
      "Skipping existing session_bn_session_Hit_TEX_mou_6_mean_(sessions,)\n",
      "Skipping existing session_bn_session_Hit_DEL_mou_6_mean_(sessions,)\n",
      "Skipping existing session_bn_session_Miss_PRE_mou_6_mean_(sessions,)\n",
      "Skipping existing session_bn_session_Miss_TEX_mou_6_mean_(sessions,)\n",
      "Skipping existing session_bn_session_Miss_DEL_mou_6_mean_(sessions,)\n",
      "Skipping existing session_bn_session_CR_PRE_mou_6_mean_(sessions,)\n",
      "Skipping existing session_bn_session_CR_TEX_mou_6_mean_(sessions,)\n",
      "Skipping existing session_bn_session_CR_DEL_mou_6_mean_(sessions,)\n",
      "Skipping existing session_bn_session_FA_PRE_mou_6_mean_(sessions,)\n",
      "Skipping existing session_bn_session_FA_TEX_mou_6_mean_(sessions,)\n",
      "Skipping existing session_bn_session_FA_DEL_mou_6_mean_(sessions,)\n",
      "Skipping existing session_bn_trial_TEX_mou_6_mean_(sessions,)\n",
      "Skipping existing session_bn_trial_DEL_mou_6_mean_(sessions,)\n",
      "Skipping existing session_bn_trial_Hit_TEX_mou_6_mean_(sessions,)\n",
      "Skipping existing session_bn_trial_Hit_DEL_mou_6_mean_(sessions,)\n",
      "Skipping existing session_bn_trial_Miss_TEX_mou_6_mean_(sessions,)\n",
      "Skipping existing session_bn_trial_Miss_DEL_mou_6_mean_(sessions,)\n",
      "Skipping existing session_bn_trial_CR_TEX_mou_6_mean_(sessions,)\n",
      "Skipping existing session_bn_trial_CR_DEL_mou_6_mean_(sessions,)\n",
      "Skipping existing session_bn_trial_FA_TEX_mou_6_mean_(sessions,)\n",
      "Skipping existing session_bn_trial_FA_DEL_mou_6_mean_(sessions,)\n",
      "Skipping existing session_rs_raw_PRE_mou_5_mean_(sessions,)\n",
      "Skipping existing session_rs_raw_TEX_mou_5_mean_(sessions,)\n",
      "Skipping existing session_rs_raw_DEL_mou_5_mean_(sessions,)\n",
      "Skipping existing session_rs_raw_REW_mou_5_mean_(sessions,)\n",
      "Skipping existing session_rs_raw_AVG_mou_5_mean_(sessions,)\n",
      "Skipping existing session_rs_raw_Hit_PRE_mou_5_mean_(sessions,)\n",
      "Skipping existing session_rs_raw_Hit_TEX_mou_5_mean_(sessions,)\n",
      "Skipping existing session_rs_raw_Hit_DEL_mou_5_mean_(sessions,)\n",
      "Skipping existing session_rs_raw_Hit_REW_mou_5_mean_(sessions,)\n",
      "Skipping existing session_rs_raw_Hit_AVG_mou_5_mean_(sessions,)\n",
      "Skipping existing session_rs_raw_Miss_PRE_mou_5_mean_(sessions,)\n",
      "Skipping existing session_rs_raw_Miss_TEX_mou_5_mean_(sessions,)\n",
      "Skipping existing session_rs_raw_Miss_DEL_mou_5_mean_(sessions,)\n",
      "Skipping existing session_rs_raw_Miss_REW_mou_5_mean_(sessions,)\n",
      "Skipping existing session_rs_raw_Miss_AVG_mou_5_mean_(sessions,)\n",
      "Skipping existing session_rs_raw_CR_PRE_mou_5_mean_(sessions,)\n",
      "Skipping existing session_rs_raw_CR_TEX_mou_5_mean_(sessions,)\n",
      "Skipping existing session_rs_raw_CR_DEL_mou_5_mean_(sessions,)\n",
      "Skipping existing session_rs_raw_CR_REW_mou_5_mean_(sessions,)\n",
      "Skipping existing session_rs_raw_CR_AVG_mou_5_mean_(sessions,)\n",
      "Skipping existing session_rs_raw_FA_PRE_mou_5_mean_(sessions,)\n",
      "Skipping existing session_rs_raw_FA_TEX_mou_5_mean_(sessions,)\n",
      "Skipping existing session_rs_raw_FA_DEL_mou_5_mean_(sessions,)\n",
      "Skipping existing session_rs_raw_FA_REW_mou_5_mean_(sessions,)\n",
      "Skipping existing session_rs_raw_FA_AVG_mou_5_mean_(sessions,)\n",
      "Skipping existing session_bn_session_PRE_mou_5_mean_(sessions,)\n",
      "Skipping existing session_bn_session_TEX_mou_5_mean_(sessions,)\n",
      "Skipping existing session_bn_session_DEL_mou_5_mean_(sessions,)\n",
      "Skipping existing session_bn_session_REW_mou_5_mean_(sessions,)\n",
      "Skipping existing session_bn_session_AVG_mou_5_mean_(sessions,)\n",
      "Skipping existing session_bn_session_Hit_PRE_mou_5_mean_(sessions,)\n",
      "Skipping existing session_bn_session_Hit_TEX_mou_5_mean_(sessions,)\n",
      "Skipping existing session_bn_session_Hit_DEL_mou_5_mean_(sessions,)\n",
      "Skipping existing session_bn_session_Hit_REW_mou_5_mean_(sessions,)\n",
      "Skipping existing session_bn_session_Hit_AVG_mou_5_mean_(sessions,)\n",
      "Skipping existing session_bn_session_Miss_PRE_mou_5_mean_(sessions,)\n",
      "Skipping existing session_bn_session_Miss_TEX_mou_5_mean_(sessions,)\n",
      "Skipping existing session_bn_session_Miss_DEL_mou_5_mean_(sessions,)\n",
      "Skipping existing session_bn_session_Miss_REW_mou_5_mean_(sessions,)\n",
      "Skipping existing session_bn_session_Miss_AVG_mou_5_mean_(sessions,)\n",
      "Skipping existing session_bn_session_CR_PRE_mou_5_mean_(sessions,)\n",
      "Skipping existing session_bn_session_CR_TEX_mou_5_mean_(sessions,)\n",
      "Skipping existing session_bn_session_CR_DEL_mou_5_mean_(sessions,)\n",
      "Skipping existing session_bn_session_CR_REW_mou_5_mean_(sessions,)\n",
      "Skipping existing session_bn_session_CR_AVG_mou_5_mean_(sessions,)\n",
      "Skipping existing session_bn_session_FA_PRE_mou_5_mean_(sessions,)\n",
      "Skipping existing session_bn_session_FA_TEX_mou_5_mean_(sessions,)\n",
      "Skipping existing session_bn_session_FA_DEL_mou_5_mean_(sessions,)\n",
      "Skipping existing session_bn_session_FA_REW_mou_5_mean_(sessions,)\n",
      "Skipping existing session_bn_session_FA_AVG_mou_5_mean_(sessions,)\n",
      "Skipping existing session_bn_trial_TEX_mou_5_mean_(sessions,)\n",
      "Skipping existing session_bn_trial_DEL_mou_5_mean_(sessions,)\n",
      "Skipping existing session_bn_trial_REW_mou_5_mean_(sessions,)\n",
      "Skipping existing session_bn_trial_AVG_mou_5_mean_(sessions,)\n",
      "Skipping existing session_bn_trial_Hit_TEX_mou_5_mean_(sessions,)\n",
      "Skipping existing session_bn_trial_Hit_DEL_mou_5_mean_(sessions,)\n",
      "Skipping existing session_bn_trial_Hit_REW_mou_5_mean_(sessions,)\n",
      "Skipping existing session_bn_trial_Hit_AVG_mou_5_mean_(sessions,)\n",
      "Skipping existing session_bn_trial_Miss_TEX_mou_5_mean_(sessions,)\n",
      "Skipping existing session_bn_trial_Miss_DEL_mou_5_mean_(sessions,)\n",
      "Skipping existing session_bn_trial_Miss_REW_mou_5_mean_(sessions,)\n",
      "Skipping existing session_bn_trial_Miss_AVG_mou_5_mean_(sessions,)\n",
      "Skipping existing session_bn_trial_CR_TEX_mou_5_mean_(sessions,)\n",
      "Skipping existing session_bn_trial_CR_DEL_mou_5_mean_(sessions,)\n",
      "Skipping existing session_bn_trial_CR_REW_mou_5_mean_(sessions,)\n",
      "Skipping existing session_bn_trial_CR_AVG_mou_5_mean_(sessions,)\n",
      "Skipping existing session_bn_trial_FA_TEX_mou_5_mean_(sessions,)\n",
      "Skipping existing session_bn_trial_FA_DEL_mou_5_mean_(sessions,)\n",
      "Skipping existing session_bn_trial_FA_REW_mou_5_mean_(sessions,)\n",
      "Skipping existing session_bn_trial_FA_AVG_mou_5_mean_(sessions,)\n",
      "Skipping existing session_rs_raw_PRE_mou_7_mean_(sessions,)\n",
      "Skipping existing session_rs_raw_TEX_mou_7_mean_(sessions,)\n",
      "Skipping existing session_rs_raw_DEL_mou_7_mean_(sessions,)\n",
      "Skipping existing session_rs_raw_REW_mou_7_mean_(sessions,)\n",
      "Skipping existing session_rs_raw_AVG_mou_7_mean_(sessions,)\n",
      "Skipping existing session_rs_raw_Hit_PRE_mou_7_mean_(sessions,)\n",
      "Skipping existing session_rs_raw_Hit_TEX_mou_7_mean_(sessions,)\n",
      "Skipping existing session_rs_raw_Hit_DEL_mou_7_mean_(sessions,)\n",
      "Skipping existing session_rs_raw_Hit_REW_mou_7_mean_(sessions,)\n",
      "Skipping existing session_rs_raw_Hit_AVG_mou_7_mean_(sessions,)\n",
      "Skipping existing session_rs_raw_Miss_PRE_mou_7_mean_(sessions,)\n",
      "Skipping existing session_rs_raw_Miss_TEX_mou_7_mean_(sessions,)\n",
      "Skipping existing session_rs_raw_Miss_DEL_mou_7_mean_(sessions,)\n",
      "Skipping existing session_rs_raw_Miss_REW_mou_7_mean_(sessions,)\n",
      "Skipping existing session_rs_raw_Miss_AVG_mou_7_mean_(sessions,)\n",
      "Skipping existing session_rs_raw_CR_PRE_mou_7_mean_(sessions,)\n",
      "Skipping existing session_rs_raw_CR_TEX_mou_7_mean_(sessions,)\n",
      "Skipping existing session_rs_raw_CR_DEL_mou_7_mean_(sessions,)\n",
      "Skipping existing session_rs_raw_CR_REW_mou_7_mean_(sessions,)\n",
      "Skipping existing session_rs_raw_CR_AVG_mou_7_mean_(sessions,)\n",
      "Skipping existing session_rs_raw_FA_PRE_mou_7_mean_(sessions,)\n",
      "Skipping existing session_rs_raw_FA_TEX_mou_7_mean_(sessions,)\n",
      "Skipping existing session_rs_raw_FA_DEL_mou_7_mean_(sessions,)\n",
      "Skipping existing session_rs_raw_FA_REW_mou_7_mean_(sessions,)\n",
      "Skipping existing session_rs_raw_FA_AVG_mou_7_mean_(sessions,)\n",
      "Skipping existing session_bn_session_PRE_mou_7_mean_(sessions,)\n",
      "Skipping existing session_bn_session_TEX_mou_7_mean_(sessions,)\n",
      "Skipping existing session_bn_session_DEL_mou_7_mean_(sessions,)\n",
      "Skipping existing session_bn_session_REW_mou_7_mean_(sessions,)\n",
      "Skipping existing session_bn_session_AVG_mou_7_mean_(sessions,)\n",
      "Skipping existing session_bn_session_Hit_PRE_mou_7_mean_(sessions,)\n",
      "Skipping existing session_bn_session_Hit_TEX_mou_7_mean_(sessions,)\n",
      "Skipping existing session_bn_session_Hit_DEL_mou_7_mean_(sessions,)\n",
      "Skipping existing session_bn_session_Hit_REW_mou_7_mean_(sessions,)\n",
      "Skipping existing session_bn_session_Hit_AVG_mou_7_mean_(sessions,)\n",
      "Skipping existing session_bn_session_Miss_PRE_mou_7_mean_(sessions,)\n",
      "Skipping existing session_bn_session_Miss_TEX_mou_7_mean_(sessions,)\n",
      "Skipping existing session_bn_session_Miss_DEL_mou_7_mean_(sessions,)\n",
      "Skipping existing session_bn_session_Miss_REW_mou_7_mean_(sessions,)\n",
      "Skipping existing session_bn_session_Miss_AVG_mou_7_mean_(sessions,)\n",
      "Skipping existing session_bn_session_CR_PRE_mou_7_mean_(sessions,)\n",
      "Skipping existing session_bn_session_CR_TEX_mou_7_mean_(sessions,)\n",
      "Skipping existing session_bn_session_CR_DEL_mou_7_mean_(sessions,)\n",
      "Skipping existing session_bn_session_CR_REW_mou_7_mean_(sessions,)\n",
      "Skipping existing session_bn_session_CR_AVG_mou_7_mean_(sessions,)\n",
      "Skipping existing session_bn_session_FA_PRE_mou_7_mean_(sessions,)\n",
      "Skipping existing session_bn_session_FA_TEX_mou_7_mean_(sessions,)\n",
      "Skipping existing session_bn_session_FA_DEL_mou_7_mean_(sessions,)\n",
      "Skipping existing session_bn_session_FA_REW_mou_7_mean_(sessions,)\n",
      "Skipping existing session_bn_session_FA_AVG_mou_7_mean_(sessions,)\n",
      "Skipping existing session_bn_trial_TEX_mou_7_mean_(sessions,)\n",
      "Skipping existing session_bn_trial_DEL_mou_7_mean_(sessions,)\n",
      "Skipping existing session_bn_trial_REW_mou_7_mean_(sessions,)\n",
      "Skipping existing session_bn_trial_AVG_mou_7_mean_(sessions,)\n",
      "Skipping existing session_bn_trial_Hit_TEX_mou_7_mean_(sessions,)\n",
      "Skipping existing session_bn_trial_Hit_DEL_mou_7_mean_(sessions,)\n",
      "Skipping existing session_bn_trial_Hit_REW_mou_7_mean_(sessions,)\n",
      "Skipping existing session_bn_trial_Hit_AVG_mou_7_mean_(sessions,)\n",
      "Skipping existing session_bn_trial_Miss_TEX_mou_7_mean_(sessions,)\n",
      "Skipping existing session_bn_trial_Miss_DEL_mou_7_mean_(sessions,)\n",
      "Skipping existing session_bn_trial_Miss_REW_mou_7_mean_(sessions,)\n",
      "Skipping existing session_bn_trial_Miss_AVG_mou_7_mean_(sessions,)\n",
      "Skipping existing session_bn_trial_CR_TEX_mou_7_mean_(sessions,)\n",
      "Skipping existing session_bn_trial_CR_DEL_mou_7_mean_(sessions,)\n",
      "Skipping existing session_bn_trial_CR_REW_mou_7_mean_(sessions,)\n",
      "Skipping existing session_bn_trial_CR_AVG_mou_7_mean_(sessions,)\n",
      "Skipping existing session_bn_trial_FA_TEX_mou_7_mean_(sessions,)\n",
      "Skipping existing session_bn_trial_FA_DEL_mou_7_mean_(sessions,)\n",
      "Skipping existing session_bn_trial_FA_REW_mou_7_mean_(sessions,)\n",
      "Skipping existing session_bn_trial_FA_AVG_mou_7_mean_(sessions,)\n",
      "Skipping existing session_rs_raw_PRE_mou_9_mean_(sessions,)\n",
      "Skipping existing session_rs_raw_TEX_mou_9_mean_(sessions,)\n",
      "Skipping existing session_rs_raw_DEL_mou_9_mean_(sessions,)\n",
      "Skipping existing session_rs_raw_REW_mou_9_mean_(sessions,)\n",
      "Skipping existing session_rs_raw_AVG_mou_9_mean_(sessions,)\n",
      "Skipping existing session_rs_raw_Hit_PRE_mou_9_mean_(sessions,)\n",
      "Skipping existing session_rs_raw_Hit_TEX_mou_9_mean_(sessions,)\n",
      "Skipping existing session_rs_raw_Hit_DEL_mou_9_mean_(sessions,)\n",
      "Skipping existing session_rs_raw_Hit_REW_mou_9_mean_(sessions,)\n",
      "Skipping existing session_rs_raw_Hit_AVG_mou_9_mean_(sessions,)\n",
      "Skipping existing session_rs_raw_Miss_PRE_mou_9_mean_(sessions,)\n",
      "Skipping existing session_rs_raw_Miss_TEX_mou_9_mean_(sessions,)\n",
      "Skipping existing session_rs_raw_Miss_DEL_mou_9_mean_(sessions,)\n",
      "Skipping existing session_rs_raw_Miss_REW_mou_9_mean_(sessions,)\n",
      "Skipping existing session_rs_raw_Miss_AVG_mou_9_mean_(sessions,)\n",
      "Skipping existing session_rs_raw_CR_PRE_mou_9_mean_(sessions,)\n",
      "Skipping existing session_rs_raw_CR_TEX_mou_9_mean_(sessions,)\n",
      "Skipping existing session_rs_raw_CR_DEL_mou_9_mean_(sessions,)\n",
      "Skipping existing session_rs_raw_CR_REW_mou_9_mean_(sessions,)\n",
      "Skipping existing session_rs_raw_CR_AVG_mou_9_mean_(sessions,)\n",
      "Skipping existing session_rs_raw_FA_PRE_mou_9_mean_(sessions,)\n",
      "Skipping existing session_rs_raw_FA_TEX_mou_9_mean_(sessions,)\n",
      "Skipping existing session_rs_raw_FA_DEL_mou_9_mean_(sessions,)\n",
      "Skipping existing session_rs_raw_FA_REW_mou_9_mean_(sessions,)\n",
      "Skipping existing session_rs_raw_FA_AVG_mou_9_mean_(sessions,)\n",
      "Skipping existing session_bn_session_PRE_mou_9_mean_(sessions,)\n",
      "Skipping existing session_bn_session_TEX_mou_9_mean_(sessions,)\n",
      "Skipping existing session_bn_session_DEL_mou_9_mean_(sessions,)\n",
      "Skipping existing session_bn_session_REW_mou_9_mean_(sessions,)\n",
      "Skipping existing session_bn_session_AVG_mou_9_mean_(sessions,)\n",
      "Skipping existing session_bn_session_Hit_PRE_mou_9_mean_(sessions,)\n",
      "Skipping existing session_bn_session_Hit_TEX_mou_9_mean_(sessions,)\n",
      "Skipping existing session_bn_session_Hit_DEL_mou_9_mean_(sessions,)\n",
      "Skipping existing session_bn_session_Hit_REW_mou_9_mean_(sessions,)\n",
      "Skipping existing session_bn_session_Hit_AVG_mou_9_mean_(sessions,)\n",
      "Skipping existing session_bn_session_Miss_PRE_mou_9_mean_(sessions,)\n",
      "Skipping existing session_bn_session_Miss_TEX_mou_9_mean_(sessions,)\n",
      "Skipping existing session_bn_session_Miss_DEL_mou_9_mean_(sessions,)\n",
      "Skipping existing session_bn_session_Miss_REW_mou_9_mean_(sessions,)\n",
      "Skipping existing session_bn_session_Miss_AVG_mou_9_mean_(sessions,)\n",
      "Skipping existing session_bn_session_CR_PRE_mou_9_mean_(sessions,)\n",
      "Skipping existing session_bn_session_CR_TEX_mou_9_mean_(sessions,)\n",
      "Skipping existing session_bn_session_CR_DEL_mou_9_mean_(sessions,)\n",
      "Skipping existing session_bn_session_CR_REW_mou_9_mean_(sessions,)\n",
      "Skipping existing session_bn_session_CR_AVG_mou_9_mean_(sessions,)\n",
      "Skipping existing session_bn_session_FA_PRE_mou_9_mean_(sessions,)\n",
      "Skipping existing session_bn_session_FA_TEX_mou_9_mean_(sessions,)\n",
      "Skipping existing session_bn_session_FA_DEL_mou_9_mean_(sessions,)\n",
      "Skipping existing session_bn_session_FA_REW_mou_9_mean_(sessions,)\n",
      "Skipping existing session_bn_session_FA_AVG_mou_9_mean_(sessions,)\n",
      "Skipping existing session_bn_trial_TEX_mou_9_mean_(sessions,)\n",
      "Skipping existing session_bn_trial_DEL_mou_9_mean_(sessions,)\n",
      "Skipping existing session_bn_trial_REW_mou_9_mean_(sessions,)\n",
      "Skipping existing session_bn_trial_AVG_mou_9_mean_(sessions,)\n",
      "Skipping existing session_bn_trial_Hit_TEX_mou_9_mean_(sessions,)\n",
      "Skipping existing session_bn_trial_Hit_DEL_mou_9_mean_(sessions,)\n",
      "Skipping existing session_bn_trial_Hit_REW_mou_9_mean_(sessions,)\n",
      "Skipping existing session_bn_trial_Hit_AVG_mou_9_mean_(sessions,)\n",
      "Skipping existing session_bn_trial_Miss_TEX_mou_9_mean_(sessions,)\n",
      "Skipping existing session_bn_trial_Miss_DEL_mou_9_mean_(sessions,)\n",
      "Skipping existing session_bn_trial_Miss_REW_mou_9_mean_(sessions,)\n",
      "Skipping existing session_bn_trial_Miss_AVG_mou_9_mean_(sessions,)\n",
      "Skipping existing session_bn_trial_CR_TEX_mou_9_mean_(sessions,)\n",
      "Skipping existing session_bn_trial_CR_DEL_mou_9_mean_(sessions,)\n",
      "Skipping existing session_bn_trial_CR_REW_mou_9_mean_(sessions,)\n",
      "Skipping existing session_bn_trial_CR_AVG_mou_9_mean_(sessions,)\n",
      "Skipping existing session_bn_trial_FA_TEX_mou_9_mean_(sessions,)\n",
      "Skipping existing session_bn_trial_FA_DEL_mou_9_mean_(sessions,)\n",
      "Skipping existing session_bn_trial_FA_REW_mou_9_mean_(sessions,)\n",
      "Skipping existing session_bn_trial_FA_AVG_mou_9_mean_(sessions,)\n"
     ]
    }
   ],
   "source": [
    "bulk_metrics.metric_mouse_bulk_vs_session(dataDB, mc, ds, \"mean\", 'session', trialTypeNames='auto',\n",
    "                                          minTrials=10, verbose=False, intervNames=intervNames,\n",
    "                                          exclQueryLst=exclQueryLst)"
   ]
  },
  {
   "cell_type": "code",
   "execution_count": null,
   "metadata": {
    "scrolled": true
   },
   "outputs": [],
   "source": [
    "bulk_metrics.scatter_metric_bulk(ds, 'mean', 'session', verbose=False, xFunc=None, haveRegression=False)"
   ]
  },
  {
   "cell_type": "markdown",
   "metadata": {},
   "source": [
    "### 1.3 Conditions"
   ]
  },
  {
   "cell_type": "code",
   "execution_count": 11,
   "metadata": {
    "scrolled": true
   },
   "outputs": [
    {
     "name": "stdout",
     "output_type": "stream",
     "text": [
      "bn_session\n",
      "bn_trial\n",
      "raw\n"
     ]
    }
   ],
   "source": [
    "bulk_metrics.barplot_conditions(ds, 'mean', 'session', verbose=True,\n",
    "                                trialTypes=['Hit', 'CR'],\n",
    "                                intervNames=dataDB.get_interval_names())"
   ]
  },
  {
   "cell_type": "markdown",
   "metadata": {},
   "source": [
    "## 2. Variance\n",
    "\n",
    "**TODO**\n",
    "* Plot trial variance relative to temporal variance\n",
    "* Plot mean with variance together\n",
    "\n",
    "### Pros/Cons of Baseline Normalization\n",
    "* DFF-Trial\n",
    "    - Pos: Removes dynamic baseline changing on the order of trials.\n",
    "    - Pos: Under assumption of signal-free pre-trial interval, baseline removal enhances relative change in significant activity during trial.\n",
    "    - Neg: In presence of correlation between pre-trial interval and trial signals, this procedure destroys information during trial.\n",
    "\n",
    "* DFF-Session vs ZScore-Session\n",
    "    - Both linear transforms\n",
    "    - Mean is more meaningful for DFF if pre-trial interval is at least somewhat stable\n",
    "    - Va"
   ]
  },
  {
   "cell_type": "code",
   "execution_count": null,
   "metadata": {
    "scrolled": true
   },
   "outputs": [],
   "source": [
    "bulk_metrics.metric_mouse_bulk(dataDB, mc, ds, 'varmean', 's', 'time', verbose=False, minTrials=50,\n",
    "                               trialTypeNames='auto', exclQueryLst=exclQueryLst)"
   ]
  },
  {
   "cell_type": "code",
   "execution_count": null,
   "metadata": {
    "scrolled": true
   },
   "outputs": [],
   "source": [
    "bulk_metrics.plot_metric_bulk(ds, 'varmean', 'time',\n",
    "                              ylim=[0,None], verbose=False, xFunc=lambda m, l: dataDB.get_times())"
   ]
  },
  {
   "cell_type": "markdown",
   "metadata": {},
   "source": [
    "### Session"
   ]
  },
  {
   "cell_type": "code",
   "execution_count": 12,
   "metadata": {
    "scrolled": true
   },
   "outputs": [
    {
     "data": {
      "application/vnd.jupyter.widget-view+json": {
       "model_id": "e200d5e4266345d29d93e0bd9a02d595",
       "version_major": 2,
       "version_minor": 0
      },
      "text/plain": [
       "IntProgress(value=0, description='session', max=150)"
      ]
     },
     "metadata": {},
     "output_type": "display_data"
    },
    {
     "data": {
      "application/vnd.jupyter.widget-view+json": {
       "model_id": "5e2efa68d05a47f0bf2018d295d91eb0",
       "version_major": 2,
       "version_minor": 0
      },
      "text/plain": [
       "IntProgress(value=0, description='mou_6', max=30)"
      ]
     },
     "metadata": {},
     "output_type": "display_data"
    },
    {
     "data": {
      "application/vnd.jupyter.widget-view+json": {
       "model_id": "4b82076883ca4f48801c25542806c391",
       "version_major": 2,
       "version_minor": 0
      },
      "text/plain": [
       "IntProgress(value=0, description='mou_6', max=30)"
      ]
     },
     "metadata": {},
     "output_type": "display_data"
    },
    {
     "data": {
      "application/vnd.jupyter.widget-view+json": {
       "model_id": "bb560b9ec8044e4d8b9eaa1cfde46574",
       "version_major": 2,
       "version_minor": 0
      },
      "text/plain": [
       "IntProgress(value=0, description='mou_6', max=30)"
      ]
     },
     "metadata": {},
     "output_type": "display_data"
    },
    {
     "data": {
      "application/vnd.jupyter.widget-view+json": {
       "model_id": "c7b12545d70f42c7bdc76fd6e2fa58c7",
       "version_major": 2,
       "version_minor": 0
      },
      "text/plain": [
       "IntProgress(value=0, description='mou_6', max=30)"
      ]
     },
     "metadata": {},
     "output_type": "display_data"
    },
    {
     "name": "stdout",
     "output_type": "stream",
     "text": [
      "Warning: skipping session with too few trials 18\n",
      "Warning: skipping session with too few trials 27\n"
     ]
    },
    {
     "data": {
      "application/vnd.jupyter.widget-view+json": {
       "model_id": "bb8483e4a711440eadb44ea1d694a503",
       "version_major": 2,
       "version_minor": 0
      },
      "text/plain": [
       "IntProgress(value=0, description='mou_6', max=30)"
      ]
     },
     "metadata": {},
     "output_type": "display_data"
    },
    {
     "name": "stdout",
     "output_type": "stream",
     "text": [
      "Warning: skipping session with too few trials 18\n",
      "Warning: skipping session with too few trials 27\n"
     ]
    },
    {
     "data": {
      "application/vnd.jupyter.widget-view+json": {
       "model_id": "3d16c52983044da98ef6fa968bc43876",
       "version_major": 2,
       "version_minor": 0
      },
      "text/plain": [
       "IntProgress(value=0, description='mou_6', max=30)"
      ]
     },
     "metadata": {},
     "output_type": "display_data"
    },
    {
     "name": "stdout",
     "output_type": "stream",
     "text": [
      "Warning: skipping session with too few trials 18\n",
      "Warning: skipping session with too few trials 27\n"
     ]
    },
    {
     "data": {
      "application/vnd.jupyter.widget-view+json": {
       "model_id": "995247e6d5a64312a138e55287c251b2",
       "version_major": 2,
       "version_minor": 0
      },
      "text/plain": [
       "IntProgress(value=0, description='mou_6', max=30)"
      ]
     },
     "metadata": {},
     "output_type": "display_data"
    },
    {
     "name": "stdout",
     "output_type": "stream",
     "text": [
      "Warning: skipping session with too few trials 23\n"
     ]
    },
    {
     "data": {
      "application/vnd.jupyter.widget-view+json": {
       "model_id": "3c77b01da4b54594abd1207bd9c40e46",
       "version_major": 2,
       "version_minor": 0
      },
      "text/plain": [
       "IntProgress(value=0, description='mou_6', max=30)"
      ]
     },
     "metadata": {},
     "output_type": "display_data"
    },
    {
     "name": "stdout",
     "output_type": "stream",
     "text": [
      "Warning: skipping session with too few trials 23\n"
     ]
    },
    {
     "data": {
      "application/vnd.jupyter.widget-view+json": {
       "model_id": "a6210b2be3044cd2b9d39722e5dba5fa",
       "version_major": 2,
       "version_minor": 0
      },
      "text/plain": [
       "IntProgress(value=0, description='mou_6', max=30)"
      ]
     },
     "metadata": {},
     "output_type": "display_data"
    },
    {
     "name": "stdout",
     "output_type": "stream",
     "text": [
      "Warning: skipping session with too few trials 23\n"
     ]
    },
    {
     "data": {
      "application/vnd.jupyter.widget-view+json": {
       "model_id": "e59fe13d65394ad1bc205e8c0b580e7e",
       "version_major": 2,
       "version_minor": 0
      },
      "text/plain": [
       "IntProgress(value=0, description='mou_6', max=30)"
      ]
     },
     "metadata": {},
     "output_type": "display_data"
    },
    {
     "data": {
      "application/vnd.jupyter.widget-view+json": {
       "model_id": "dcbe5c46f6ae4a588cfab0608791a74e",
       "version_major": 2,
       "version_minor": 0
      },
      "text/plain": [
       "IntProgress(value=0, description='mou_6', max=30)"
      ]
     },
     "metadata": {},
     "output_type": "display_data"
    },
    {
     "data": {
      "application/vnd.jupyter.widget-view+json": {
       "model_id": "307a19e38c204229bf60239b63efbc66",
       "version_major": 2,
       "version_minor": 0
      },
      "text/plain": [
       "IntProgress(value=0, description='mou_6', max=30)"
      ]
     },
     "metadata": {},
     "output_type": "display_data"
    },
    {
     "data": {
      "application/vnd.jupyter.widget-view+json": {
       "model_id": "3fe87327a7bb42fba3ad4341d23a7366",
       "version_major": 2,
       "version_minor": 0
      },
      "text/plain": [
       "IntProgress(value=0, description='mou_6', max=30)"
      ]
     },
     "metadata": {},
     "output_type": "display_data"
    },
    {
     "name": "stdout",
     "output_type": "stream",
     "text": [
      "Warning: skipping session with too few trials 18\n",
      "Warning: skipping session with too few trials 27\n"
     ]
    },
    {
     "data": {
      "application/vnd.jupyter.widget-view+json": {
       "model_id": "a67c0cdcf8294f568a6d147f05ddd78f",
       "version_major": 2,
       "version_minor": 0
      },
      "text/plain": [
       "IntProgress(value=0, description='mou_6', max=30)"
      ]
     },
     "metadata": {},
     "output_type": "display_data"
    },
    {
     "name": "stdout",
     "output_type": "stream",
     "text": [
      "Warning: skipping session with too few trials 18\n",
      "Warning: skipping session with too few trials 27\n"
     ]
    },
    {
     "data": {
      "application/vnd.jupyter.widget-view+json": {
       "model_id": "2333aba8062c41afb33fb6f75473ae4c",
       "version_major": 2,
       "version_minor": 0
      },
      "text/plain": [
       "IntProgress(value=0, description='mou_6', max=30)"
      ]
     },
     "metadata": {},
     "output_type": "display_data"
    },
    {
     "name": "stdout",
     "output_type": "stream",
     "text": [
      "Warning: skipping session with too few trials 18\n",
      "Warning: skipping session with too few trials 27\n"
     ]
    },
    {
     "data": {
      "application/vnd.jupyter.widget-view+json": {
       "model_id": "9a668e23c8ad414da20f61618b169eef",
       "version_major": 2,
       "version_minor": 0
      },
      "text/plain": [
       "IntProgress(value=0, description='mou_6', max=30)"
      ]
     },
     "metadata": {},
     "output_type": "display_data"
    },
    {
     "name": "stdout",
     "output_type": "stream",
     "text": [
      "Warning: skipping session with too few trials 23\n"
     ]
    },
    {
     "data": {
      "application/vnd.jupyter.widget-view+json": {
       "model_id": "bbe50ad8aba84a3fb8e2791bd706c2c3",
       "version_major": 2,
       "version_minor": 0
      },
      "text/plain": [
       "IntProgress(value=0, description='mou_6', max=30)"
      ]
     },
     "metadata": {},
     "output_type": "display_data"
    },
    {
     "name": "stdout",
     "output_type": "stream",
     "text": [
      "Warning: skipping session with too few trials 23\n"
     ]
    },
    {
     "data": {
      "application/vnd.jupyter.widget-view+json": {
       "model_id": "a90d6fa0428c418b884c4acf1c80e0da",
       "version_major": 2,
       "version_minor": 0
      },
      "text/plain": [
       "IntProgress(value=0, description='mou_6', max=30)"
      ]
     },
     "metadata": {},
     "output_type": "display_data"
    },
    {
     "name": "stdout",
     "output_type": "stream",
     "text": [
      "Warning: skipping session with too few trials 23\n"
     ]
    },
    {
     "data": {
      "application/vnd.jupyter.widget-view+json": {
       "model_id": "59d5146528ce4e05bffae789759f336e",
       "version_major": 2,
       "version_minor": 0
      },
      "text/plain": [
       "IntProgress(value=0, description='mou_6', max=30)"
      ]
     },
     "metadata": {},
     "output_type": "display_data"
    },
    {
     "data": {
      "application/vnd.jupyter.widget-view+json": {
       "model_id": "eb74cecb8aa748fda2b1d807c5f152f5",
       "version_major": 2,
       "version_minor": 0
      },
      "text/plain": [
       "IntProgress(value=0, description='mou_6', max=30)"
      ]
     },
     "metadata": {},
     "output_type": "display_data"
    },
    {
     "data": {
      "application/vnd.jupyter.widget-view+json": {
       "model_id": "5d7f219947f24ccab701431f809b04ab",
       "version_major": 2,
       "version_minor": 0
      },
      "text/plain": [
       "IntProgress(value=0, description='mou_6', max=30)"
      ]
     },
     "metadata": {},
     "output_type": "display_data"
    },
    {
     "name": "stdout",
     "output_type": "stream",
     "text": [
      "Warning: skipping session with too few trials 18\n",
      "Warning: skipping session with too few trials 27\n"
     ]
    },
    {
     "data": {
      "application/vnd.jupyter.widget-view+json": {
       "model_id": "c72e4771718f4f9aaf077396454eaf6c",
       "version_major": 2,
       "version_minor": 0
      },
      "text/plain": [
       "IntProgress(value=0, description='mou_6', max=30)"
      ]
     },
     "metadata": {},
     "output_type": "display_data"
    },
    {
     "name": "stdout",
     "output_type": "stream",
     "text": [
      "Warning: skipping session with too few trials 18\n",
      "Warning: skipping session with too few trials 27\n"
     ]
    },
    {
     "data": {
      "application/vnd.jupyter.widget-view+json": {
       "model_id": "6266d04e4ed2450ebb916c8505923bd1",
       "version_major": 2,
       "version_minor": 0
      },
      "text/plain": [
       "IntProgress(value=0, description='mou_6', max=30)"
      ]
     },
     "metadata": {},
     "output_type": "display_data"
    },
    {
     "name": "stdout",
     "output_type": "stream",
     "text": [
      "Warning: skipping session with too few trials 23\n"
     ]
    },
    {
     "data": {
      "application/vnd.jupyter.widget-view+json": {
       "model_id": "272de1f99e9b4177a65b1d4b46e20d7c",
       "version_major": 2,
       "version_minor": 0
      },
      "text/plain": [
       "IntProgress(value=0, description='mou_6', max=30)"
      ]
     },
     "metadata": {},
     "output_type": "display_data"
    },
    {
     "name": "stdout",
     "output_type": "stream",
     "text": [
      "Warning: skipping session with too few trials 23\n"
     ]
    },
    {
     "data": {
      "application/vnd.jupyter.widget-view+json": {
       "model_id": "624cd1971f5f49d4b13dca614db04d1d",
       "version_major": 2,
       "version_minor": 0
      },
      "text/plain": [
       "IntProgress(value=0, description='mou_5', max=21)"
      ]
     },
     "metadata": {},
     "output_type": "display_data"
    },
    {
     "data": {
      "application/vnd.jupyter.widget-view+json": {
       "model_id": "d1b9e1386f504879aa86b44a4d11c81b",
       "version_major": 2,
       "version_minor": 0
      },
      "text/plain": [
       "IntProgress(value=0, description='mou_5', max=21)"
      ]
     },
     "metadata": {},
     "output_type": "display_data"
    },
    {
     "data": {
      "application/vnd.jupyter.widget-view+json": {
       "model_id": "986d197522c7475aa86fff864e830d56",
       "version_major": 2,
       "version_minor": 0
      },
      "text/plain": [
       "IntProgress(value=0, description='mou_5', max=21)"
      ]
     },
     "metadata": {},
     "output_type": "display_data"
    },
    {
     "data": {
      "application/vnd.jupyter.widget-view+json": {
       "model_id": "a4486ab0f1f94852a20159b20a9e6419",
       "version_major": 2,
       "version_minor": 0
      },
      "text/plain": [
       "IntProgress(value=0, description='mou_5', max=21)"
      ]
     },
     "metadata": {},
     "output_type": "display_data"
    },
    {
     "data": {
      "application/vnd.jupyter.widget-view+json": {
       "model_id": "b220e19d8d84453aa143592c874f591a",
       "version_major": 2,
       "version_minor": 0
      },
      "text/plain": [
       "IntProgress(value=0, description='mou_5', max=21)"
      ]
     },
     "metadata": {},
     "output_type": "display_data"
    },
    {
     "data": {
      "application/vnd.jupyter.widget-view+json": {
       "model_id": "ba2d8306115040a5885c9318c46cbb81",
       "version_major": 2,
       "version_minor": 0
      },
      "text/plain": [
       "IntProgress(value=0, description='mou_5', max=21)"
      ]
     },
     "metadata": {},
     "output_type": "display_data"
    },
    {
     "name": "stdout",
     "output_type": "stream",
     "text": [
      "Warning: skipping session with too few trials 21\n"
     ]
    },
    {
     "data": {
      "application/vnd.jupyter.widget-view+json": {
       "model_id": "77622c2b918f48828c226face90a6aba",
       "version_major": 2,
       "version_minor": 0
      },
      "text/plain": [
       "IntProgress(value=0, description='mou_5', max=21)"
      ]
     },
     "metadata": {},
     "output_type": "display_data"
    },
    {
     "name": "stdout",
     "output_type": "stream",
     "text": [
      "Warning: skipping session with too few trials 21\n"
     ]
    },
    {
     "data": {
      "application/vnd.jupyter.widget-view+json": {
       "model_id": "3e05aa218dc34382b2ec7d5153b8f721",
       "version_major": 2,
       "version_minor": 0
      },
      "text/plain": [
       "IntProgress(value=0, description='mou_5', max=21)"
      ]
     },
     "metadata": {},
     "output_type": "display_data"
    },
    {
     "name": "stdout",
     "output_type": "stream",
     "text": [
      "Warning: skipping session with too few trials 21\n"
     ]
    },
    {
     "data": {
      "application/vnd.jupyter.widget-view+json": {
       "model_id": "3168d4425fd2411d972c7d24284d4df8",
       "version_major": 2,
       "version_minor": 0
      },
      "text/plain": [
       "IntProgress(value=0, description='mou_5', max=21)"
      ]
     },
     "metadata": {},
     "output_type": "display_data"
    },
    {
     "name": "stdout",
     "output_type": "stream",
     "text": [
      "Warning: skipping session with too few trials 21\n"
     ]
    },
    {
     "data": {
      "application/vnd.jupyter.widget-view+json": {
       "model_id": "1792209d142d4d79ab813e6213f30216",
       "version_major": 2,
       "version_minor": 0
      },
      "text/plain": [
       "IntProgress(value=0, description='mou_5', max=21)"
      ]
     },
     "metadata": {},
     "output_type": "display_data"
    },
    {
     "name": "stdout",
     "output_type": "stream",
     "text": [
      "Warning: skipping session with too few trials 21\n"
     ]
    },
    {
     "data": {
      "application/vnd.jupyter.widget-view+json": {
       "model_id": "42991059a360418e8514082eb4358641",
       "version_major": 2,
       "version_minor": 0
      },
      "text/plain": [
       "IntProgress(value=0, description='mou_5', max=21)"
      ]
     },
     "metadata": {},
     "output_type": "display_data"
    },
    {
     "name": "stdout",
     "output_type": "stream",
     "text": [
      "Warning: skipping session with too few trials 20\n"
     ]
    },
    {
     "data": {
      "application/vnd.jupyter.widget-view+json": {
       "model_id": "385adeb583284b69a8a67ca1b394d0ff",
       "version_major": 2,
       "version_minor": 0
      },
      "text/plain": [
       "IntProgress(value=0, description='mou_5', max=21)"
      ]
     },
     "metadata": {},
     "output_type": "display_data"
    },
    {
     "name": "stdout",
     "output_type": "stream",
     "text": [
      "Warning: skipping session with too few trials 20\n"
     ]
    },
    {
     "data": {
      "application/vnd.jupyter.widget-view+json": {
       "model_id": "377c4528859744ef886c3be3096fd006",
       "version_major": 2,
       "version_minor": 0
      },
      "text/plain": [
       "IntProgress(value=0, description='mou_5', max=21)"
      ]
     },
     "metadata": {},
     "output_type": "display_data"
    },
    {
     "name": "stdout",
     "output_type": "stream",
     "text": [
      "Warning: skipping session with too few trials 20\n"
     ]
    },
    {
     "data": {
      "application/vnd.jupyter.widget-view+json": {
       "model_id": "f9b55769d5f44ce28865a8ac5374dacf",
       "version_major": 2,
       "version_minor": 0
      },
      "text/plain": [
       "IntProgress(value=0, description='mou_5', max=21)"
      ]
     },
     "metadata": {},
     "output_type": "display_data"
    },
    {
     "name": "stdout",
     "output_type": "stream",
     "text": [
      "Warning: skipping session with too few trials 20\n"
     ]
    },
    {
     "data": {
      "application/vnd.jupyter.widget-view+json": {
       "model_id": "73aa974720a841e88f2c5654cf8f4838",
       "version_major": 2,
       "version_minor": 0
      },
      "text/plain": [
       "IntProgress(value=0, description='mou_5', max=21)"
      ]
     },
     "metadata": {},
     "output_type": "display_data"
    },
    {
     "name": "stdout",
     "output_type": "stream",
     "text": [
      "Warning: skipping session with too few trials 20\n"
     ]
    },
    {
     "data": {
      "application/vnd.jupyter.widget-view+json": {
       "model_id": "1c0a86b317244f8f9c830d3f7defb04a",
       "version_major": 2,
       "version_minor": 0
      },
      "text/plain": [
       "IntProgress(value=0, description='mou_5', max=21)"
      ]
     },
     "metadata": {},
     "output_type": "display_data"
    },
    {
     "data": {
      "application/vnd.jupyter.widget-view+json": {
       "model_id": "4526856279bf4f6f84fe368219971375",
       "version_major": 2,
       "version_minor": 0
      },
      "text/plain": [
       "IntProgress(value=0, description='mou_5', max=21)"
      ]
     },
     "metadata": {},
     "output_type": "display_data"
    },
    {
     "data": {
      "application/vnd.jupyter.widget-view+json": {
       "model_id": "4e8a8d3e09dc43378d02e4a18122c5f8",
       "version_major": 2,
       "version_minor": 0
      },
      "text/plain": [
       "IntProgress(value=0, description='mou_5', max=21)"
      ]
     },
     "metadata": {},
     "output_type": "display_data"
    },
    {
     "data": {
      "application/vnd.jupyter.widget-view+json": {
       "model_id": "98e9e9d4200645ceb17e783d7aa0a606",
       "version_major": 2,
       "version_minor": 0
      },
      "text/plain": [
       "IntProgress(value=0, description='mou_5', max=21)"
      ]
     },
     "metadata": {},
     "output_type": "display_data"
    },
    {
     "data": {
      "application/vnd.jupyter.widget-view+json": {
       "model_id": "bfd76ba5d7024a5eb9dc8898aceb8307",
       "version_major": 2,
       "version_minor": 0
      },
      "text/plain": [
       "IntProgress(value=0, description='mou_5', max=21)"
      ]
     },
     "metadata": {},
     "output_type": "display_data"
    },
    {
     "data": {
      "application/vnd.jupyter.widget-view+json": {
       "model_id": "0b27fc8daefd4a8dbe78d467130cd614",
       "version_major": 2,
       "version_minor": 0
      },
      "text/plain": [
       "IntProgress(value=0, description='mou_5', max=21)"
      ]
     },
     "metadata": {},
     "output_type": "display_data"
    },
    {
     "name": "stdout",
     "output_type": "stream",
     "text": [
      "Warning: skipping session with too few trials 21\n"
     ]
    },
    {
     "data": {
      "application/vnd.jupyter.widget-view+json": {
       "model_id": "955cabc938a04e718afa32f17f8e87fc",
       "version_major": 2,
       "version_minor": 0
      },
      "text/plain": [
       "IntProgress(value=0, description='mou_5', max=21)"
      ]
     },
     "metadata": {},
     "output_type": "display_data"
    },
    {
     "name": "stdout",
     "output_type": "stream",
     "text": [
      "Warning: skipping session with too few trials 21\n"
     ]
    },
    {
     "data": {
      "application/vnd.jupyter.widget-view+json": {
       "model_id": "c035dd31350c4e5cb07f0f4f7f9dfa96",
       "version_major": 2,
       "version_minor": 0
      },
      "text/plain": [
       "IntProgress(value=0, description='mou_5', max=21)"
      ]
     },
     "metadata": {},
     "output_type": "display_data"
    },
    {
     "name": "stdout",
     "output_type": "stream",
     "text": [
      "Warning: skipping session with too few trials 21\n"
     ]
    },
    {
     "data": {
      "application/vnd.jupyter.widget-view+json": {
       "model_id": "f31ffd73ebba40a5b63df695560bad09",
       "version_major": 2,
       "version_minor": 0
      },
      "text/plain": [
       "IntProgress(value=0, description='mou_5', max=21)"
      ]
     },
     "metadata": {},
     "output_type": "display_data"
    },
    {
     "name": "stdout",
     "output_type": "stream",
     "text": [
      "Warning: skipping session with too few trials 21\n"
     ]
    },
    {
     "data": {
      "application/vnd.jupyter.widget-view+json": {
       "model_id": "3119d3dc9ac242f486ca2b995316808a",
       "version_major": 2,
       "version_minor": 0
      },
      "text/plain": [
       "IntProgress(value=0, description='mou_5', max=21)"
      ]
     },
     "metadata": {},
     "output_type": "display_data"
    },
    {
     "name": "stdout",
     "output_type": "stream",
     "text": [
      "Warning: skipping session with too few trials 21\n"
     ]
    },
    {
     "data": {
      "application/vnd.jupyter.widget-view+json": {
       "model_id": "446911ebbaf843709d3a82e46936e3e2",
       "version_major": 2,
       "version_minor": 0
      },
      "text/plain": [
       "IntProgress(value=0, description='mou_5', max=21)"
      ]
     },
     "metadata": {},
     "output_type": "display_data"
    },
    {
     "name": "stdout",
     "output_type": "stream",
     "text": [
      "Warning: skipping session with too few trials 20\n"
     ]
    },
    {
     "data": {
      "application/vnd.jupyter.widget-view+json": {
       "model_id": "bd44524bec8d4477925e56c61d4ea544",
       "version_major": 2,
       "version_minor": 0
      },
      "text/plain": [
       "IntProgress(value=0, description='mou_5', max=21)"
      ]
     },
     "metadata": {},
     "output_type": "display_data"
    },
    {
     "name": "stdout",
     "output_type": "stream",
     "text": [
      "Warning: skipping session with too few trials 20\n"
     ]
    },
    {
     "data": {
      "application/vnd.jupyter.widget-view+json": {
       "model_id": "e54036aa5ebe4fccae89070d258a3ebf",
       "version_major": 2,
       "version_minor": 0
      },
      "text/plain": [
       "IntProgress(value=0, description='mou_5', max=21)"
      ]
     },
     "metadata": {},
     "output_type": "display_data"
    },
    {
     "name": "stdout",
     "output_type": "stream",
     "text": [
      "Warning: skipping session with too few trials 20\n"
     ]
    },
    {
     "data": {
      "application/vnd.jupyter.widget-view+json": {
       "model_id": "006caf559732464e82718ad4b15d4a92",
       "version_major": 2,
       "version_minor": 0
      },
      "text/plain": [
       "IntProgress(value=0, description='mou_5', max=21)"
      ]
     },
     "metadata": {},
     "output_type": "display_data"
    },
    {
     "name": "stdout",
     "output_type": "stream",
     "text": [
      "Warning: skipping session with too few trials 20\n"
     ]
    },
    {
     "data": {
      "application/vnd.jupyter.widget-view+json": {
       "model_id": "c80daef4ef77424f890baa5f9417af22",
       "version_major": 2,
       "version_minor": 0
      },
      "text/plain": [
       "IntProgress(value=0, description='mou_5', max=21)"
      ]
     },
     "metadata": {},
     "output_type": "display_data"
    },
    {
     "name": "stdout",
     "output_type": "stream",
     "text": [
      "Warning: skipping session with too few trials 20\n"
     ]
    },
    {
     "data": {
      "application/vnd.jupyter.widget-view+json": {
       "model_id": "4fafe7df45bf43a4956f4bdf20c20f63",
       "version_major": 2,
       "version_minor": 0
      },
      "text/plain": [
       "IntProgress(value=0, description='mou_5', max=21)"
      ]
     },
     "metadata": {},
     "output_type": "display_data"
    },
    {
     "data": {
      "application/vnd.jupyter.widget-view+json": {
       "model_id": "69d55b5ef8574ad28de86397baf892f9",
       "version_major": 2,
       "version_minor": 0
      },
      "text/plain": [
       "IntProgress(value=0, description='mou_5', max=21)"
      ]
     },
     "metadata": {},
     "output_type": "display_data"
    },
    {
     "data": {
      "application/vnd.jupyter.widget-view+json": {
       "model_id": "5ea00732ff54494d997466261889454a",
       "version_major": 2,
       "version_minor": 0
      },
      "text/plain": [
       "IntProgress(value=0, description='mou_5', max=21)"
      ]
     },
     "metadata": {},
     "output_type": "display_data"
    },
    {
     "data": {
      "application/vnd.jupyter.widget-view+json": {
       "model_id": "72ad415ab9e74d5a86cfec577433db56",
       "version_major": 2,
       "version_minor": 0
      },
      "text/plain": [
       "IntProgress(value=0, description='mou_5', max=21)"
      ]
     },
     "metadata": {},
     "output_type": "display_data"
    },
    {
     "data": {
      "application/vnd.jupyter.widget-view+json": {
       "model_id": "1e63659cccb44de3a6fea4086ff1f235",
       "version_major": 2,
       "version_minor": 0
      },
      "text/plain": [
       "IntProgress(value=0, description='mou_5', max=21)"
      ]
     },
     "metadata": {},
     "output_type": "display_data"
    },
    {
     "name": "stdout",
     "output_type": "stream",
     "text": [
      "Warning: skipping session with too few trials 21\n"
     ]
    },
    {
     "data": {
      "application/vnd.jupyter.widget-view+json": {
       "model_id": "323008970a49445a98db073070e39397",
       "version_major": 2,
       "version_minor": 0
      },
      "text/plain": [
       "IntProgress(value=0, description='mou_5', max=21)"
      ]
     },
     "metadata": {},
     "output_type": "display_data"
    },
    {
     "name": "stdout",
     "output_type": "stream",
     "text": [
      "Warning: skipping session with too few trials 21\n"
     ]
    },
    {
     "data": {
      "application/vnd.jupyter.widget-view+json": {
       "model_id": "6b692526b0da40108e964cc12f11b0a9",
       "version_major": 2,
       "version_minor": 0
      },
      "text/plain": [
       "IntProgress(value=0, description='mou_5', max=21)"
      ]
     },
     "metadata": {},
     "output_type": "display_data"
    },
    {
     "name": "stdout",
     "output_type": "stream",
     "text": [
      "Warning: skipping session with too few trials 21\n"
     ]
    },
    {
     "data": {
      "application/vnd.jupyter.widget-view+json": {
       "model_id": "4e66b77596b84ebc9f7bda335be5fe99",
       "version_major": 2,
       "version_minor": 0
      },
      "text/plain": [
       "IntProgress(value=0, description='mou_5', max=21)"
      ]
     },
     "metadata": {},
     "output_type": "display_data"
    },
    {
     "name": "stdout",
     "output_type": "stream",
     "text": [
      "Warning: skipping session with too few trials 21\n"
     ]
    },
    {
     "data": {
      "application/vnd.jupyter.widget-view+json": {
       "model_id": "5be4da467fad44a1b696c0d261931a89",
       "version_major": 2,
       "version_minor": 0
      },
      "text/plain": [
       "IntProgress(value=0, description='mou_5', max=21)"
      ]
     },
     "metadata": {},
     "output_type": "display_data"
    },
    {
     "name": "stdout",
     "output_type": "stream",
     "text": [
      "Warning: skipping session with too few trials 20\n"
     ]
    },
    {
     "data": {
      "application/vnd.jupyter.widget-view+json": {
       "model_id": "178f09518e574566879dfc9c5db9c148",
       "version_major": 2,
       "version_minor": 0
      },
      "text/plain": [
       "IntProgress(value=0, description='mou_5', max=21)"
      ]
     },
     "metadata": {},
     "output_type": "display_data"
    },
    {
     "name": "stdout",
     "output_type": "stream",
     "text": [
      "Warning: skipping session with too few trials 20\n"
     ]
    },
    {
     "data": {
      "application/vnd.jupyter.widget-view+json": {
       "model_id": "e3dd9d1b84d94f609fd5c00442640e66",
       "version_major": 2,
       "version_minor": 0
      },
      "text/plain": [
       "IntProgress(value=0, description='mou_5', max=21)"
      ]
     },
     "metadata": {},
     "output_type": "display_data"
    },
    {
     "name": "stdout",
     "output_type": "stream",
     "text": [
      "Warning: skipping session with too few trials 20\n"
     ]
    },
    {
     "data": {
      "application/vnd.jupyter.widget-view+json": {
       "model_id": "d04d19c29b054da4891d2797e02a762b",
       "version_major": 2,
       "version_minor": 0
      },
      "text/plain": [
       "IntProgress(value=0, description='mou_5', max=21)"
      ]
     },
     "metadata": {},
     "output_type": "display_data"
    },
    {
     "name": "stdout",
     "output_type": "stream",
     "text": [
      "Warning: skipping session with too few trials 20\n"
     ]
    },
    {
     "data": {
      "application/vnd.jupyter.widget-view+json": {
       "model_id": "56982725d8e0427497d3df508962a81a",
       "version_major": 2,
       "version_minor": 0
      },
      "text/plain": [
       "IntProgress(value=0, description='mou_7', max=25)"
      ]
     },
     "metadata": {},
     "output_type": "display_data"
    },
    {
     "data": {
      "application/vnd.jupyter.widget-view+json": {
       "model_id": "c5beb2bb2d634079be13d9d3b54fd2fd",
       "version_major": 2,
       "version_minor": 0
      },
      "text/plain": [
       "IntProgress(value=0, description='mou_7', max=25)"
      ]
     },
     "metadata": {},
     "output_type": "display_data"
    },
    {
     "data": {
      "application/vnd.jupyter.widget-view+json": {
       "model_id": "102d2f6b3b2d4d6b808153a9c1dfeaa4",
       "version_major": 2,
       "version_minor": 0
      },
      "text/plain": [
       "IntProgress(value=0, description='mou_7', max=25)"
      ]
     },
     "metadata": {},
     "output_type": "display_data"
    },
    {
     "data": {
      "application/vnd.jupyter.widget-view+json": {
       "model_id": "67f60884fec44e29a28eb7e8e2f7dd65",
       "version_major": 2,
       "version_minor": 0
      },
      "text/plain": [
       "IntProgress(value=0, description='mou_7', max=25)"
      ]
     },
     "metadata": {},
     "output_type": "display_data"
    },
    {
     "data": {
      "application/vnd.jupyter.widget-view+json": {
       "model_id": "f79b477fc1294b9d8bb91c9c52e23bc0",
       "version_major": 2,
       "version_minor": 0
      },
      "text/plain": [
       "IntProgress(value=0, description='mou_7', max=25)"
      ]
     },
     "metadata": {},
     "output_type": "display_data"
    },
    {
     "data": {
      "application/vnd.jupyter.widget-view+json": {
       "model_id": "f2c964fbd92840deb1ac8ad4388d62cf",
       "version_major": 2,
       "version_minor": 0
      },
      "text/plain": [
       "IntProgress(value=0, description='mou_7', max=25)"
      ]
     },
     "metadata": {},
     "output_type": "display_data"
    },
    {
     "data": {
      "application/vnd.jupyter.widget-view+json": {
       "model_id": "b6920b21049248259020a85da0beb77b",
       "version_major": 2,
       "version_minor": 0
      },
      "text/plain": [
       "IntProgress(value=0, description='mou_7', max=25)"
      ]
     },
     "metadata": {},
     "output_type": "display_data"
    },
    {
     "data": {
      "application/vnd.jupyter.widget-view+json": {
       "model_id": "d188607169104806b7d6826dc46de2b0",
       "version_major": 2,
       "version_minor": 0
      },
      "text/plain": [
       "IntProgress(value=0, description='mou_7', max=25)"
      ]
     },
     "metadata": {},
     "output_type": "display_data"
    },
    {
     "data": {
      "application/vnd.jupyter.widget-view+json": {
       "model_id": "6ac5b894c464440eaf1f5b5b6bd202ba",
       "version_major": 2,
       "version_minor": 0
      },
      "text/plain": [
       "IntProgress(value=0, description='mou_7', max=25)"
      ]
     },
     "metadata": {},
     "output_type": "display_data"
    },
    {
     "data": {
      "application/vnd.jupyter.widget-view+json": {
       "model_id": "7c4cdab0bb6a4489a65d5093592462f6",
       "version_major": 2,
       "version_minor": 0
      },
      "text/plain": [
       "IntProgress(value=0, description='mou_7', max=25)"
      ]
     },
     "metadata": {},
     "output_type": "display_data"
    },
    {
     "data": {
      "application/vnd.jupyter.widget-view+json": {
       "model_id": "c05b1aa8dd6a4b75a01e9b9189e8cd93",
       "version_major": 2,
       "version_minor": 0
      },
      "text/plain": [
       "IntProgress(value=0, description='mou_7', max=25)"
      ]
     },
     "metadata": {},
     "output_type": "display_data"
    },
    {
     "data": {
      "application/vnd.jupyter.widget-view+json": {
       "model_id": "ad8725255ad54460b5b1bbe30977adba",
       "version_major": 2,
       "version_minor": 0
      },
      "text/plain": [
       "IntProgress(value=0, description='mou_7', max=25)"
      ]
     },
     "metadata": {},
     "output_type": "display_data"
    },
    {
     "data": {
      "application/vnd.jupyter.widget-view+json": {
       "model_id": "7b4557005faa45769217172c77370705",
       "version_major": 2,
       "version_minor": 0
      },
      "text/plain": [
       "IntProgress(value=0, description='mou_7', max=25)"
      ]
     },
     "metadata": {},
     "output_type": "display_data"
    },
    {
     "data": {
      "application/vnd.jupyter.widget-view+json": {
       "model_id": "c9c3bfb8ee384089b299e7b075b9b252",
       "version_major": 2,
       "version_minor": 0
      },
      "text/plain": [
       "IntProgress(value=0, description='mou_7', max=25)"
      ]
     },
     "metadata": {},
     "output_type": "display_data"
    },
    {
     "data": {
      "application/vnd.jupyter.widget-view+json": {
       "model_id": "80b6a379393e4297bbbf94b23e174ef6",
       "version_major": 2,
       "version_minor": 0
      },
      "text/plain": [
       "IntProgress(value=0, description='mou_7', max=25)"
      ]
     },
     "metadata": {},
     "output_type": "display_data"
    },
    {
     "data": {
      "application/vnd.jupyter.widget-view+json": {
       "model_id": "a23369add4df4bc5aa12153935fc829b",
       "version_major": 2,
       "version_minor": 0
      },
      "text/plain": [
       "IntProgress(value=0, description='mou_7', max=25)"
      ]
     },
     "metadata": {},
     "output_type": "display_data"
    },
    {
     "data": {
      "application/vnd.jupyter.widget-view+json": {
       "model_id": "29ad463725ef40db874c35ac4b6a24fb",
       "version_major": 2,
       "version_minor": 0
      },
      "text/plain": [
       "IntProgress(value=0, description='mou_7', max=25)"
      ]
     },
     "metadata": {},
     "output_type": "display_data"
    },
    {
     "data": {
      "application/vnd.jupyter.widget-view+json": {
       "model_id": "57239f6f72ea4b19b57641ad2b03eea6",
       "version_major": 2,
       "version_minor": 0
      },
      "text/plain": [
       "IntProgress(value=0, description='mou_7', max=25)"
      ]
     },
     "metadata": {},
     "output_type": "display_data"
    },
    {
     "data": {
      "application/vnd.jupyter.widget-view+json": {
       "model_id": "2d8373aa9b5f4866886aa3772879d2ae",
       "version_major": 2,
       "version_minor": 0
      },
      "text/plain": [
       "IntProgress(value=0, description='mou_7', max=25)"
      ]
     },
     "metadata": {},
     "output_type": "display_data"
    },
    {
     "data": {
      "application/vnd.jupyter.widget-view+json": {
       "model_id": "b703381390c74b29abc0fb7fe2ab82b7",
       "version_major": 2,
       "version_minor": 0
      },
      "text/plain": [
       "IntProgress(value=0, description='mou_7', max=25)"
      ]
     },
     "metadata": {},
     "output_type": "display_data"
    },
    {
     "data": {
      "application/vnd.jupyter.widget-view+json": {
       "model_id": "ff84d083d43c4970a20406d66c990101",
       "version_major": 2,
       "version_minor": 0
      },
      "text/plain": [
       "IntProgress(value=0, description='mou_7', max=25)"
      ]
     },
     "metadata": {},
     "output_type": "display_data"
    },
    {
     "data": {
      "application/vnd.jupyter.widget-view+json": {
       "model_id": "b07b1b9b042046108fa32139f064ad12",
       "version_major": 2,
       "version_minor": 0
      },
      "text/plain": [
       "IntProgress(value=0, description='mou_7', max=25)"
      ]
     },
     "metadata": {},
     "output_type": "display_data"
    },
    {
     "data": {
      "application/vnd.jupyter.widget-view+json": {
       "model_id": "848ca5fb41a7475cb491d853b4391156",
       "version_major": 2,
       "version_minor": 0
      },
      "text/plain": [
       "IntProgress(value=0, description='mou_7', max=25)"
      ]
     },
     "metadata": {},
     "output_type": "display_data"
    },
    {
     "data": {
      "application/vnd.jupyter.widget-view+json": {
       "model_id": "b2250744e0994788ab4e25af4014379b",
       "version_major": 2,
       "version_minor": 0
      },
      "text/plain": [
       "IntProgress(value=0, description='mou_7', max=25)"
      ]
     },
     "metadata": {},
     "output_type": "display_data"
    },
    {
     "data": {
      "application/vnd.jupyter.widget-view+json": {
       "model_id": "339fd001c4f94668b2c746fb12048819",
       "version_major": 2,
       "version_minor": 0
      },
      "text/plain": [
       "IntProgress(value=0, description='mou_7', max=25)"
      ]
     },
     "metadata": {},
     "output_type": "display_data"
    },
    {
     "data": {
      "application/vnd.jupyter.widget-view+json": {
       "model_id": "b1b24e6cacfd43c4b94312f0bb78f042",
       "version_major": 2,
       "version_minor": 0
      },
      "text/plain": [
       "IntProgress(value=0, description='mou_7', max=25)"
      ]
     },
     "metadata": {},
     "output_type": "display_data"
    },
    {
     "data": {
      "application/vnd.jupyter.widget-view+json": {
       "model_id": "19cb2899881c47afae4458e31bac812c",
       "version_major": 2,
       "version_minor": 0
      },
      "text/plain": [
       "IntProgress(value=0, description='mou_7', max=25)"
      ]
     },
     "metadata": {},
     "output_type": "display_data"
    },
    {
     "data": {
      "application/vnd.jupyter.widget-view+json": {
       "model_id": "2a7dbf529e6645339a23300e213ac5f6",
       "version_major": 2,
       "version_minor": 0
      },
      "text/plain": [
       "IntProgress(value=0, description='mou_7', max=25)"
      ]
     },
     "metadata": {},
     "output_type": "display_data"
    },
    {
     "data": {
      "application/vnd.jupyter.widget-view+json": {
       "model_id": "0b09c41d98bc46819b5a97d67f991dbc",
       "version_major": 2,
       "version_minor": 0
      },
      "text/plain": [
       "IntProgress(value=0, description='mou_7', max=25)"
      ]
     },
     "metadata": {},
     "output_type": "display_data"
    },
    {
     "data": {
      "application/vnd.jupyter.widget-view+json": {
       "model_id": "5a2c92e1ddc24ac0a5fda59f16a6cd57",
       "version_major": 2,
       "version_minor": 0
      },
      "text/plain": [
       "IntProgress(value=0, description='mou_7', max=25)"
      ]
     },
     "metadata": {},
     "output_type": "display_data"
    },
    {
     "data": {
      "application/vnd.jupyter.widget-view+json": {
       "model_id": "89b2fa76076d4648884f3f73436655b6",
       "version_major": 2,
       "version_minor": 0
      },
      "text/plain": [
       "IntProgress(value=0, description='mou_7', max=25)"
      ]
     },
     "metadata": {},
     "output_type": "display_data"
    },
    {
     "data": {
      "application/vnd.jupyter.widget-view+json": {
       "model_id": "3bad5b8dc75846439c4f363988dda1ce",
       "version_major": 2,
       "version_minor": 0
      },
      "text/plain": [
       "IntProgress(value=0, description='mou_7', max=25)"
      ]
     },
     "metadata": {},
     "output_type": "display_data"
    },
    {
     "data": {
      "application/vnd.jupyter.widget-view+json": {
       "model_id": "0348e1955c634ec393db72188dda5f48",
       "version_major": 2,
       "version_minor": 0
      },
      "text/plain": [
       "IntProgress(value=0, description='mou_7', max=25)"
      ]
     },
     "metadata": {},
     "output_type": "display_data"
    },
    {
     "data": {
      "application/vnd.jupyter.widget-view+json": {
       "model_id": "111838b78dd049e68eee187afc91a352",
       "version_major": 2,
       "version_minor": 0
      },
      "text/plain": [
       "IntProgress(value=0, description='mou_7', max=25)"
      ]
     },
     "metadata": {},
     "output_type": "display_data"
    },
    {
     "data": {
      "application/vnd.jupyter.widget-view+json": {
       "model_id": "8d807b775955460a8f10ee3f1dfc87d7",
       "version_major": 2,
       "version_minor": 0
      },
      "text/plain": [
       "IntProgress(value=0, description='mou_7', max=25)"
      ]
     },
     "metadata": {},
     "output_type": "display_data"
    },
    {
     "data": {
      "application/vnd.jupyter.widget-view+json": {
       "model_id": "02ac3a69c72446c089cf7fdeba20022a",
       "version_major": 2,
       "version_minor": 0
      },
      "text/plain": [
       "IntProgress(value=0, description='mou_7', max=25)"
      ]
     },
     "metadata": {},
     "output_type": "display_data"
    },
    {
     "data": {
      "application/vnd.jupyter.widget-view+json": {
       "model_id": "b212085e6baa4e6e998fb8f942407b65",
       "version_major": 2,
       "version_minor": 0
      },
      "text/plain": [
       "IntProgress(value=0, description='mou_7', max=25)"
      ]
     },
     "metadata": {},
     "output_type": "display_data"
    },
    {
     "data": {
      "application/vnd.jupyter.widget-view+json": {
       "model_id": "62e407040a4342aa8b26fe5e0e9363d3",
       "version_major": 2,
       "version_minor": 0
      },
      "text/plain": [
       "IntProgress(value=0, description='mou_7', max=25)"
      ]
     },
     "metadata": {},
     "output_type": "display_data"
    },
    {
     "data": {
      "application/vnd.jupyter.widget-view+json": {
       "model_id": "8ea1dcf86239479c8701293c8a3335e3",
       "version_major": 2,
       "version_minor": 0
      },
      "text/plain": [
       "IntProgress(value=0, description='mou_7', max=25)"
      ]
     },
     "metadata": {},
     "output_type": "display_data"
    },
    {
     "data": {
      "application/vnd.jupyter.widget-view+json": {
       "model_id": "3342883b0d27466492974f9185b121ba",
       "version_major": 2,
       "version_minor": 0
      },
      "text/plain": [
       "IntProgress(value=0, description='mou_7', max=25)"
      ]
     },
     "metadata": {},
     "output_type": "display_data"
    },
    {
     "data": {
      "application/vnd.jupyter.widget-view+json": {
       "model_id": "d569bf09f79248d9ae6d712e47196ef4",
       "version_major": 2,
       "version_minor": 0
      },
      "text/plain": [
       "IntProgress(value=0, description='mou_7', max=25)"
      ]
     },
     "metadata": {},
     "output_type": "display_data"
    },
    {
     "data": {
      "application/vnd.jupyter.widget-view+json": {
       "model_id": "7e5497849c6d45988ffa314709f0e91b",
       "version_major": 2,
       "version_minor": 0
      },
      "text/plain": [
       "IntProgress(value=0, description='mou_7', max=25)"
      ]
     },
     "metadata": {},
     "output_type": "display_data"
    },
    {
     "data": {
      "application/vnd.jupyter.widget-view+json": {
       "model_id": "1ba2c67aa702482b9fab81f8e10d4e65",
       "version_major": 2,
       "version_minor": 0
      },
      "text/plain": [
       "IntProgress(value=0, description='mou_9', max=20)"
      ]
     },
     "metadata": {},
     "output_type": "display_data"
    },
    {
     "data": {
      "application/vnd.jupyter.widget-view+json": {
       "model_id": "b20331164b4c4679b512cead9858f9e8",
       "version_major": 2,
       "version_minor": 0
      },
      "text/plain": [
       "IntProgress(value=0, description='mou_9', max=20)"
      ]
     },
     "metadata": {},
     "output_type": "display_data"
    },
    {
     "data": {
      "application/vnd.jupyter.widget-view+json": {
       "model_id": "ef85d1cdd6914453a658eeb34ad3f7c4",
       "version_major": 2,
       "version_minor": 0
      },
      "text/plain": [
       "IntProgress(value=0, description='mou_9', max=20)"
      ]
     },
     "metadata": {},
     "output_type": "display_data"
    },
    {
     "data": {
      "application/vnd.jupyter.widget-view+json": {
       "model_id": "dc32b67ede2b4fe3ae8e18d566b2bd87",
       "version_major": 2,
       "version_minor": 0
      },
      "text/plain": [
       "IntProgress(value=0, description='mou_9', max=20)"
      ]
     },
     "metadata": {},
     "output_type": "display_data"
    },
    {
     "data": {
      "application/vnd.jupyter.widget-view+json": {
       "model_id": "76e29d6397f74540a7052fe233e5c608",
       "version_major": 2,
       "version_minor": 0
      },
      "text/plain": [
       "IntProgress(value=0, description='mou_9', max=20)"
      ]
     },
     "metadata": {},
     "output_type": "display_data"
    },
    {
     "data": {
      "application/vnd.jupyter.widget-view+json": {
       "model_id": "f848174b5aaf4a4a9d8045d758fba53c",
       "version_major": 2,
       "version_minor": 0
      },
      "text/plain": [
       "IntProgress(value=0, description='mou_9', max=20)"
      ]
     },
     "metadata": {},
     "output_type": "display_data"
    },
    {
     "name": "stdout",
     "output_type": "stream",
     "text": [
      "Warning: skipping session with too few trials 24\n",
      "Warning: skipping session with too few trials 20\n"
     ]
    },
    {
     "data": {
      "application/vnd.jupyter.widget-view+json": {
       "model_id": "9fedf74fcd374753a7065c0d3b33271b",
       "version_major": 2,
       "version_minor": 0
      },
      "text/plain": [
       "IntProgress(value=0, description='mou_9', max=20)"
      ]
     },
     "metadata": {},
     "output_type": "display_data"
    },
    {
     "name": "stdout",
     "output_type": "stream",
     "text": [
      "Warning: skipping session with too few trials 24\n",
      "Warning: skipping session with too few trials 20\n"
     ]
    },
    {
     "data": {
      "application/vnd.jupyter.widget-view+json": {
       "model_id": "7934c574b0d243a5ad09e50224507a82",
       "version_major": 2,
       "version_minor": 0
      },
      "text/plain": [
       "IntProgress(value=0, description='mou_9', max=20)"
      ]
     },
     "metadata": {},
     "output_type": "display_data"
    },
    {
     "name": "stdout",
     "output_type": "stream",
     "text": [
      "Warning: skipping session with too few trials 24\n",
      "Warning: skipping session with too few trials 20\n"
     ]
    },
    {
     "data": {
      "application/vnd.jupyter.widget-view+json": {
       "model_id": "5a2963c954104f308bada1b7cfa83bc2",
       "version_major": 2,
       "version_minor": 0
      },
      "text/plain": [
       "IntProgress(value=0, description='mou_9', max=20)"
      ]
     },
     "metadata": {},
     "output_type": "display_data"
    },
    {
     "name": "stdout",
     "output_type": "stream",
     "text": [
      "Warning: skipping session with too few trials 24\n",
      "Warning: skipping session with too few trials 20\n"
     ]
    },
    {
     "data": {
      "application/vnd.jupyter.widget-view+json": {
       "model_id": "5c862fd962474bb6bbd753f64dc3815b",
       "version_major": 2,
       "version_minor": 0
      },
      "text/plain": [
       "IntProgress(value=0, description='mou_9', max=20)"
      ]
     },
     "metadata": {},
     "output_type": "display_data"
    },
    {
     "name": "stdout",
     "output_type": "stream",
     "text": [
      "Warning: skipping session with too few trials 24\n",
      "Warning: skipping session with too few trials 20\n"
     ]
    },
    {
     "data": {
      "application/vnd.jupyter.widget-view+json": {
       "model_id": "fb6b76d1dc7147da848a439a6d99edab",
       "version_major": 2,
       "version_minor": 0
      },
      "text/plain": [
       "IntProgress(value=0, description='mou_9', max=20)"
      ]
     },
     "metadata": {},
     "output_type": "display_data"
    },
    {
     "name": "stdout",
     "output_type": "stream",
     "text": [
      "Warning: skipping session with too few trials 26\n",
      "Warning: skipping session with too few trials 14\n"
     ]
    },
    {
     "data": {
      "application/vnd.jupyter.widget-view+json": {
       "model_id": "517fd85ebec54b14b837d929385d1315",
       "version_major": 2,
       "version_minor": 0
      },
      "text/plain": [
       "IntProgress(value=0, description='mou_9', max=20)"
      ]
     },
     "metadata": {},
     "output_type": "display_data"
    },
    {
     "name": "stdout",
     "output_type": "stream",
     "text": [
      "Warning: skipping session with too few trials 26\n",
      "Warning: skipping session with too few trials 14\n"
     ]
    },
    {
     "data": {
      "application/vnd.jupyter.widget-view+json": {
       "model_id": "7cbdddd635554be49e05d1bfeb023a21",
       "version_major": 2,
       "version_minor": 0
      },
      "text/plain": [
       "IntProgress(value=0, description='mou_9', max=20)"
      ]
     },
     "metadata": {},
     "output_type": "display_data"
    },
    {
     "name": "stdout",
     "output_type": "stream",
     "text": [
      "Warning: skipping session with too few trials 26\n",
      "Warning: skipping session with too few trials 14\n"
     ]
    },
    {
     "data": {
      "application/vnd.jupyter.widget-view+json": {
       "model_id": "6a7b98824f1d4284a5e355d6a8b61c73",
       "version_major": 2,
       "version_minor": 0
      },
      "text/plain": [
       "IntProgress(value=0, description='mou_9', max=20)"
      ]
     },
     "metadata": {},
     "output_type": "display_data"
    },
    {
     "name": "stdout",
     "output_type": "stream",
     "text": [
      "Warning: skipping session with too few trials 26\n",
      "Warning: skipping session with too few trials 14\n"
     ]
    },
    {
     "data": {
      "application/vnd.jupyter.widget-view+json": {
       "model_id": "b0ca8df843bd49269e1178626bbeabf3",
       "version_major": 2,
       "version_minor": 0
      },
      "text/plain": [
       "IntProgress(value=0, description='mou_9', max=20)"
      ]
     },
     "metadata": {},
     "output_type": "display_data"
    },
    {
     "name": "stdout",
     "output_type": "stream",
     "text": [
      "Warning: skipping session with too few trials 26\n",
      "Warning: skipping session with too few trials 14\n"
     ]
    },
    {
     "data": {
      "application/vnd.jupyter.widget-view+json": {
       "model_id": "74882a70a7c145eb9225a4111b8b12b9",
       "version_major": 2,
       "version_minor": 0
      },
      "text/plain": [
       "IntProgress(value=0, description='mou_9', max=20)"
      ]
     },
     "metadata": {},
     "output_type": "display_data"
    },
    {
     "data": {
      "application/vnd.jupyter.widget-view+json": {
       "model_id": "d461b7f573b54b709ce1ae86b78bfff1",
       "version_major": 2,
       "version_minor": 0
      },
      "text/plain": [
       "IntProgress(value=0, description='mou_9', max=20)"
      ]
     },
     "metadata": {},
     "output_type": "display_data"
    },
    {
     "data": {
      "application/vnd.jupyter.widget-view+json": {
       "model_id": "b1e8405586434e1d992460c435488563",
       "version_major": 2,
       "version_minor": 0
      },
      "text/plain": [
       "IntProgress(value=0, description='mou_9', max=20)"
      ]
     },
     "metadata": {},
     "output_type": "display_data"
    },
    {
     "data": {
      "application/vnd.jupyter.widget-view+json": {
       "model_id": "f1d853438c0143bd9cb575c37a1e36ba",
       "version_major": 2,
       "version_minor": 0
      },
      "text/plain": [
       "IntProgress(value=0, description='mou_9', max=20)"
      ]
     },
     "metadata": {},
     "output_type": "display_data"
    },
    {
     "data": {
      "application/vnd.jupyter.widget-view+json": {
       "model_id": "f3fba7c4435f4936b43232dbcbe181c4",
       "version_major": 2,
       "version_minor": 0
      },
      "text/plain": [
       "IntProgress(value=0, description='mou_9', max=20)"
      ]
     },
     "metadata": {},
     "output_type": "display_data"
    },
    {
     "data": {
      "application/vnd.jupyter.widget-view+json": {
       "model_id": "aca358eee57d49f1962e6754a91b54ca",
       "version_major": 2,
       "version_minor": 0
      },
      "text/plain": [
       "IntProgress(value=0, description='mou_9', max=20)"
      ]
     },
     "metadata": {},
     "output_type": "display_data"
    },
    {
     "name": "stdout",
     "output_type": "stream",
     "text": [
      "Warning: skipping session with too few trials 24\n",
      "Warning: skipping session with too few trials 20\n"
     ]
    },
    {
     "data": {
      "application/vnd.jupyter.widget-view+json": {
       "model_id": "cae81b444f3546c4af32921f95cb1f8c",
       "version_major": 2,
       "version_minor": 0
      },
      "text/plain": [
       "IntProgress(value=0, description='mou_9', max=20)"
      ]
     },
     "metadata": {},
     "output_type": "display_data"
    },
    {
     "name": "stdout",
     "output_type": "stream",
     "text": [
      "Warning: skipping session with too few trials 24\n",
      "Warning: skipping session with too few trials 20\n"
     ]
    },
    {
     "data": {
      "application/vnd.jupyter.widget-view+json": {
       "model_id": "3f1270a4f3834a8c9cb7cc40b53a72fb",
       "version_major": 2,
       "version_minor": 0
      },
      "text/plain": [
       "IntProgress(value=0, description='mou_9', max=20)"
      ]
     },
     "metadata": {},
     "output_type": "display_data"
    },
    {
     "name": "stdout",
     "output_type": "stream",
     "text": [
      "Warning: skipping session with too few trials 24\n",
      "Warning: skipping session with too few trials 20\n"
     ]
    },
    {
     "data": {
      "application/vnd.jupyter.widget-view+json": {
       "model_id": "62cf3a1a27ff4951b140f21896ace2f6",
       "version_major": 2,
       "version_minor": 0
      },
      "text/plain": [
       "IntProgress(value=0, description='mou_9', max=20)"
      ]
     },
     "metadata": {},
     "output_type": "display_data"
    },
    {
     "name": "stdout",
     "output_type": "stream",
     "text": [
      "Warning: skipping session with too few trials 24\n",
      "Warning: skipping session with too few trials 20\n"
     ]
    },
    {
     "data": {
      "application/vnd.jupyter.widget-view+json": {
       "model_id": "9e7e8980bd9d4e04aab54554d78e0e9b",
       "version_major": 2,
       "version_minor": 0
      },
      "text/plain": [
       "IntProgress(value=0, description='mou_9', max=20)"
      ]
     },
     "metadata": {},
     "output_type": "display_data"
    },
    {
     "name": "stdout",
     "output_type": "stream",
     "text": [
      "Warning: skipping session with too few trials 24\n",
      "Warning: skipping session with too few trials 20\n"
     ]
    },
    {
     "data": {
      "application/vnd.jupyter.widget-view+json": {
       "model_id": "aae371f2c14a4f2b9659a13bf2d50982",
       "version_major": 2,
       "version_minor": 0
      },
      "text/plain": [
       "IntProgress(value=0, description='mou_9', max=20)"
      ]
     },
     "metadata": {},
     "output_type": "display_data"
    },
    {
     "name": "stdout",
     "output_type": "stream",
     "text": [
      "Warning: skipping session with too few trials 26\n",
      "Warning: skipping session with too few trials 14\n"
     ]
    },
    {
     "data": {
      "application/vnd.jupyter.widget-view+json": {
       "model_id": "f921e81107bf404e83113e0b119ff1c7",
       "version_major": 2,
       "version_minor": 0
      },
      "text/plain": [
       "IntProgress(value=0, description='mou_9', max=20)"
      ]
     },
     "metadata": {},
     "output_type": "display_data"
    },
    {
     "name": "stdout",
     "output_type": "stream",
     "text": [
      "Warning: skipping session with too few trials 26\n",
      "Warning: skipping session with too few trials 14\n"
     ]
    },
    {
     "data": {
      "application/vnd.jupyter.widget-view+json": {
       "model_id": "25f6d475dbf44506941063b412270f4f",
       "version_major": 2,
       "version_minor": 0
      },
      "text/plain": [
       "IntProgress(value=0, description='mou_9', max=20)"
      ]
     },
     "metadata": {},
     "output_type": "display_data"
    },
    {
     "name": "stdout",
     "output_type": "stream",
     "text": [
      "Warning: skipping session with too few trials 26\n",
      "Warning: skipping session with too few trials 14\n"
     ]
    },
    {
     "data": {
      "application/vnd.jupyter.widget-view+json": {
       "model_id": "7ffd1fa99f6e42f8ad59595ed9ed48ba",
       "version_major": 2,
       "version_minor": 0
      },
      "text/plain": [
       "IntProgress(value=0, description='mou_9', max=20)"
      ]
     },
     "metadata": {},
     "output_type": "display_data"
    },
    {
     "name": "stdout",
     "output_type": "stream",
     "text": [
      "Warning: skipping session with too few trials 26\n",
      "Warning: skipping session with too few trials 14\n"
     ]
    },
    {
     "data": {
      "application/vnd.jupyter.widget-view+json": {
       "model_id": "7ef8189c1a424f0fb23c5bfa1099a36b",
       "version_major": 2,
       "version_minor": 0
      },
      "text/plain": [
       "IntProgress(value=0, description='mou_9', max=20)"
      ]
     },
     "metadata": {},
     "output_type": "display_data"
    },
    {
     "name": "stdout",
     "output_type": "stream",
     "text": [
      "Warning: skipping session with too few trials 26\n",
      "Warning: skipping session with too few trials 14\n"
     ]
    },
    {
     "data": {
      "application/vnd.jupyter.widget-view+json": {
       "model_id": "a9b81efe9e1e4f11b0481272e2031d7c",
       "version_major": 2,
       "version_minor": 0
      },
      "text/plain": [
       "IntProgress(value=0, description='mou_9', max=20)"
      ]
     },
     "metadata": {},
     "output_type": "display_data"
    },
    {
     "data": {
      "application/vnd.jupyter.widget-view+json": {
       "model_id": "1a1d4dfe87b94230b1d1ed2f0f10a475",
       "version_major": 2,
       "version_minor": 0
      },
      "text/plain": [
       "IntProgress(value=0, description='mou_9', max=20)"
      ]
     },
     "metadata": {},
     "output_type": "display_data"
    },
    {
     "data": {
      "application/vnd.jupyter.widget-view+json": {
       "model_id": "05dfea60df584c8880a6a6050082bd0c",
       "version_major": 2,
       "version_minor": 0
      },
      "text/plain": [
       "IntProgress(value=0, description='mou_9', max=20)"
      ]
     },
     "metadata": {},
     "output_type": "display_data"
    },
    {
     "data": {
      "application/vnd.jupyter.widget-view+json": {
       "model_id": "dd6a641b98d240a8ba2c8bc7abdc2d5d",
       "version_major": 2,
       "version_minor": 0
      },
      "text/plain": [
       "IntProgress(value=0, description='mou_9', max=20)"
      ]
     },
     "metadata": {},
     "output_type": "display_data"
    },
    {
     "data": {
      "application/vnd.jupyter.widget-view+json": {
       "model_id": "caf8614cd54e44c982f7573828e3670d",
       "version_major": 2,
       "version_minor": 0
      },
      "text/plain": [
       "IntProgress(value=0, description='mou_9', max=20)"
      ]
     },
     "metadata": {},
     "output_type": "display_data"
    },
    {
     "name": "stdout",
     "output_type": "stream",
     "text": [
      "Warning: skipping session with too few trials 24\n",
      "Warning: skipping session with too few trials 20\n"
     ]
    },
    {
     "data": {
      "application/vnd.jupyter.widget-view+json": {
       "model_id": "69a30a9554164f6c84e23643e87db238",
       "version_major": 2,
       "version_minor": 0
      },
      "text/plain": [
       "IntProgress(value=0, description='mou_9', max=20)"
      ]
     },
     "metadata": {},
     "output_type": "display_data"
    },
    {
     "name": "stdout",
     "output_type": "stream",
     "text": [
      "Warning: skipping session with too few trials 24\n",
      "Warning: skipping session with too few trials 20\n"
     ]
    },
    {
     "data": {
      "application/vnd.jupyter.widget-view+json": {
       "model_id": "9fb85d7898234f619356b246eb9e4d6c",
       "version_major": 2,
       "version_minor": 0
      },
      "text/plain": [
       "IntProgress(value=0, description='mou_9', max=20)"
      ]
     },
     "metadata": {},
     "output_type": "display_data"
    },
    {
     "name": "stdout",
     "output_type": "stream",
     "text": [
      "Warning: skipping session with too few trials 24\n",
      "Warning: skipping session with too few trials 20\n"
     ]
    },
    {
     "data": {
      "application/vnd.jupyter.widget-view+json": {
       "model_id": "05be6dd1c5044291ad78576b50c12ba6",
       "version_major": 2,
       "version_minor": 0
      },
      "text/plain": [
       "IntProgress(value=0, description='mou_9', max=20)"
      ]
     },
     "metadata": {},
     "output_type": "display_data"
    },
    {
     "name": "stdout",
     "output_type": "stream",
     "text": [
      "Warning: skipping session with too few trials 24\n",
      "Warning: skipping session with too few trials 20\n"
     ]
    },
    {
     "data": {
      "application/vnd.jupyter.widget-view+json": {
       "model_id": "b6c546a53cd648f1b47e206cc1f2744f",
       "version_major": 2,
       "version_minor": 0
      },
      "text/plain": [
       "IntProgress(value=0, description='mou_9', max=20)"
      ]
     },
     "metadata": {},
     "output_type": "display_data"
    },
    {
     "name": "stdout",
     "output_type": "stream",
     "text": [
      "Warning: skipping session with too few trials 26\n",
      "Warning: skipping session with too few trials 14\n"
     ]
    },
    {
     "data": {
      "application/vnd.jupyter.widget-view+json": {
       "model_id": "5379023f7caa4687a90039197151e15f",
       "version_major": 2,
       "version_minor": 0
      },
      "text/plain": [
       "IntProgress(value=0, description='mou_9', max=20)"
      ]
     },
     "metadata": {},
     "output_type": "display_data"
    },
    {
     "name": "stdout",
     "output_type": "stream",
     "text": [
      "Warning: skipping session with too few trials 26\n",
      "Warning: skipping session with too few trials 14\n"
     ]
    },
    {
     "data": {
      "application/vnd.jupyter.widget-view+json": {
       "model_id": "93adc51279064e24a9508bcfea922803",
       "version_major": 2,
       "version_minor": 0
      },
      "text/plain": [
       "IntProgress(value=0, description='mou_9', max=20)"
      ]
     },
     "metadata": {},
     "output_type": "display_data"
    },
    {
     "name": "stdout",
     "output_type": "stream",
     "text": [
      "Warning: skipping session with too few trials 26\n",
      "Warning: skipping session with too few trials 14\n"
     ]
    },
    {
     "data": {
      "application/vnd.jupyter.widget-view+json": {
       "model_id": "d7a26bf2772c456ea93e089ae3a0b19a",
       "version_major": 2,
       "version_minor": 0
      },
      "text/plain": [
       "IntProgress(value=0, description='mou_9', max=20)"
      ]
     },
     "metadata": {},
     "output_type": "display_data"
    },
    {
     "name": "stdout",
     "output_type": "stream",
     "text": [
      "Warning: skipping session with too few trials 26\n",
      "Warning: skipping session with too few trials 14\n"
     ]
    }
   ],
   "source": [
    "bulk_metrics.metric_mouse_bulk_vs_session(dataDB, mc, ds, \"varmean\", 'session',\n",
    "                                          trialTypeNames=[None, 'Hit', 'CR'],\n",
    "                                          minTrials=30, skipExisting=True,\n",
    "                                          verbose=False, intervNames=intervNames,\n",
    "                                          exclQueryLst=exclQueryLst)"
   ]
  },
  {
   "cell_type": "code",
   "execution_count": 13,
   "metadata": {
    "scrolled": true
   },
   "outputs": [
    {
     "name": "stdout",
     "output_type": "stream",
     "text": [
      "['varmean', 'session', 'mou_5', 'dset453', 'bn_session', 'AVG', 'None', 'CR']\n",
      "(21,)\n",
      "(20,)\n",
      "['varmean', 'session', 'mou_7', 'dset495', 'bn_session', 'AVG', 'None', 'CR']\n",
      "(25,)\n",
      "(25,)\n",
      "['varmean', 'session', 'mou_9', 'dset537', 'bn_session', 'AVG', 'None', 'CR']\n",
      "(20,)\n",
      "(18,)\n",
      "['varmean', 'session', 'mou_5', 'dset465', 'bn_trial', 'AVG', 'None', 'CR']\n",
      "(21,)\n",
      "(20,)\n",
      "['varmean', 'session', 'mou_7', 'dset507', 'bn_trial', 'AVG', 'None', 'CR']\n",
      "(25,)\n",
      "(25,)\n",
      "['varmean', 'session', 'mou_9', 'dset549', 'bn_trial', 'AVG', 'None', 'CR']\n",
      "(20,)\n",
      "(18,)\n",
      "['varmean', 'session', 'mou_5', 'dset438', 'raw', 'AVG', 'rs', 'CR']\n",
      "(21,)\n",
      "(20,)\n",
      "['varmean', 'session', 'mou_7', 'dset480', 'raw', 'AVG', 'rs', 'CR']\n",
      "(25,)\n",
      "(25,)\n",
      "['varmean', 'session', 'mou_9', 'dset522', 'raw', 'AVG', 'rs', 'CR']\n",
      "(20,)\n",
      "(18,)\n",
      "['varmean', 'session', 'mou_5', 'dset451', 'bn_session', 'DEL', 'None', 'CR']\n",
      "(21,)\n",
      "(20,)\n",
      "['varmean', 'session', 'mou_6', 'dset417', 'bn_session', 'DEL', 'None', 'CR']\n",
      "(30,)\n",
      "(29,)\n",
      "['varmean', 'session', 'mou_7', 'dset493', 'bn_session', 'DEL', 'None', 'CR']\n",
      "(25,)\n",
      "(25,)\n",
      "['varmean', 'session', 'mou_9', 'dset535', 'bn_session', 'DEL', 'None', 'CR']\n",
      "(20,)\n",
      "(18,)\n",
      "['varmean', 'session', 'mou_5', 'dset463', 'bn_trial', 'DEL', 'None', 'CR']\n",
      "(21,)\n",
      "(20,)\n",
      "['varmean', 'session', 'mou_6', 'dset423', 'bn_trial', 'DEL', 'None', 'CR']\n",
      "(30,)\n",
      "(29,)\n",
      "['varmean', 'session', 'mou_7', 'dset505', 'bn_trial', 'DEL', 'None', 'CR']\n",
      "(25,)\n",
      "(25,)\n",
      "['varmean', 'session', 'mou_9', 'dset547', 'bn_trial', 'DEL', 'None', 'CR']\n",
      "(20,)\n",
      "(18,)\n",
      "['varmean', 'session', 'mou_5', 'dset436', 'raw', 'DEL', 'rs', 'CR']\n",
      "(21,)\n",
      "(20,)\n",
      "['varmean', 'session', 'mou_6', 'dset408', 'raw', 'DEL', 'rs', 'CR']\n",
      "(30,)\n",
      "(29,)\n",
      "['varmean', 'session', 'mou_7', 'dset478', 'raw', 'DEL', 'rs', 'CR']\n",
      "(25,)\n",
      "(25,)\n",
      "['varmean', 'session', 'mou_9', 'dset520', 'raw', 'DEL', 'rs', 'CR']\n",
      "(20,)\n",
      "(18,)\n",
      "['varmean', 'session', 'mou_5', 'dset449', 'bn_session', 'PRE', 'None', 'CR']\n",
      "(21,)\n",
      "(20,)\n",
      "['varmean', 'session', 'mou_6', 'dset415', 'bn_session', 'PRE', 'None', 'CR']\n",
      "(30,)\n",
      "(29,)\n",
      "['varmean', 'session', 'mou_7', 'dset491', 'bn_session', 'PRE', 'None', 'CR']\n",
      "(25,)\n",
      "(25,)\n",
      "['varmean', 'session', 'mou_9', 'dset533', 'bn_session', 'PRE', 'None', 'CR']\n",
      "(20,)\n",
      "(18,)\n",
      "['varmean', 'session', 'mou_5', 'dset434', 'raw', 'PRE', 'rs', 'CR']\n",
      "(21,)\n",
      "(20,)\n",
      "['varmean', 'session', 'mou_6', 'dset406', 'raw', 'PRE', 'rs', 'CR']\n",
      "(30,)\n",
      "(29,)\n",
      "['varmean', 'session', 'mou_7', 'dset476', 'raw', 'PRE', 'rs', 'CR']\n",
      "(25,)\n",
      "(25,)\n",
      "['varmean', 'session', 'mou_9', 'dset518', 'raw', 'PRE', 'rs', 'CR']\n",
      "(20,)\n",
      "(18,)\n",
      "['varmean', 'session', 'mou_5', 'dset452', 'bn_session', 'REW', 'None', 'CR']\n",
      "(21,)\n",
      "(20,)\n",
      "['varmean', 'session', 'mou_7', 'dset494', 'bn_session', 'REW', 'None', 'CR']\n",
      "(25,)\n",
      "(25,)\n",
      "['varmean', 'session', 'mou_9', 'dset536', 'bn_session', 'REW', 'None', 'CR']\n",
      "(20,)\n",
      "(18,)\n",
      "['varmean', 'session', 'mou_5', 'dset464', 'bn_trial', 'REW', 'None', 'CR']\n",
      "(21,)\n",
      "(20,)\n",
      "['varmean', 'session', 'mou_7', 'dset506', 'bn_trial', 'REW', 'None', 'CR']\n",
      "(25,)\n",
      "(25,)\n",
      "['varmean', 'session', 'mou_9', 'dset548', 'bn_trial', 'REW', 'None', 'CR']\n",
      "(20,)\n",
      "(18,)\n",
      "['varmean', 'session', 'mou_5', 'dset437', 'raw', 'REW', 'rs', 'CR']\n",
      "(21,)\n",
      "(20,)\n",
      "['varmean', 'session', 'mou_7', 'dset479', 'raw', 'REW', 'rs', 'CR']\n",
      "(25,)\n",
      "(25,)\n",
      "['varmean', 'session', 'mou_9', 'dset521', 'raw', 'REW', 'rs', 'CR']\n",
      "(20,)\n",
      "(18,)\n",
      "['varmean', 'session', 'mou_5', 'dset450', 'bn_session', 'TEX', 'None', 'CR']\n",
      "(21,)\n",
      "(20,)\n",
      "['varmean', 'session', 'mou_6', 'dset416', 'bn_session', 'TEX', 'None', 'CR']\n",
      "(30,)\n",
      "(29,)\n",
      "['varmean', 'session', 'mou_7', 'dset492', 'bn_session', 'TEX', 'None', 'CR']\n",
      "(25,)\n",
      "(25,)\n",
      "['varmean', 'session', 'mou_9', 'dset534', 'bn_session', 'TEX', 'None', 'CR']\n",
      "(20,)\n",
      "(18,)\n",
      "['varmean', 'session', 'mou_5', 'dset462', 'bn_trial', 'TEX', 'None', 'CR']\n",
      "(21,)\n",
      "(20,)\n",
      "['varmean', 'session', 'mou_6', 'dset422', 'bn_trial', 'TEX', 'None', 'CR']\n",
      "(30,)\n",
      "(29,)\n",
      "['varmean', 'session', 'mou_7', 'dset504', 'bn_trial', 'TEX', 'None', 'CR']\n",
      "(25,)\n",
      "(25,)\n",
      "['varmean', 'session', 'mou_9', 'dset546', 'bn_trial', 'TEX', 'None', 'CR']\n",
      "(20,)\n",
      "(18,)\n",
      "['varmean', 'session', 'mou_5', 'dset435', 'raw', 'TEX', 'rs', 'CR']\n",
      "(21,)\n",
      "(20,)\n",
      "['varmean', 'session', 'mou_6', 'dset407', 'raw', 'TEX', 'rs', 'CR']\n",
      "(30,)\n",
      "(29,)\n",
      "['varmean', 'session', 'mou_7', 'dset477', 'raw', 'TEX', 'rs', 'CR']\n",
      "(25,)\n",
      "(25,)\n",
      "['varmean', 'session', 'mou_9', 'dset519', 'raw', 'TEX', 'rs', 'CR']\n",
      "(20,)\n",
      "(18,)\n",
      "['varmean', 'session', 'mou_5', 'dset448', 'bn_session', 'AVG', 'None', 'Hit']\n",
      "(21,)\n",
      "(20,)\n",
      "['varmean', 'session', 'mou_7', 'dset490', 'bn_session', 'AVG', 'None', 'Hit']\n",
      "(25,)\n",
      "(25,)\n",
      "['varmean', 'session', 'mou_9', 'dset532', 'bn_session', 'AVG', 'None', 'Hit']\n",
      "(20,)\n",
      "(18,)\n",
      "['varmean', 'session', 'mou_5', 'dset461', 'bn_trial', 'AVG', 'None', 'Hit']\n",
      "(21,)\n",
      "(20,)\n",
      "['varmean', 'session', 'mou_7', 'dset503', 'bn_trial', 'AVG', 'None', 'Hit']\n",
      "(25,)\n",
      "(25,)\n",
      "['varmean', 'session', 'mou_9', 'dset545', 'bn_trial', 'AVG', 'None', 'Hit']\n",
      "(20,)\n",
      "(18,)\n",
      "['varmean', 'session', 'mou_5', 'dset433', 'raw', 'AVG', 'rs', 'Hit']\n",
      "(21,)\n",
      "(20,)\n",
      "['varmean', 'session', 'mou_7', 'dset475', 'raw', 'AVG', 'rs', 'Hit']\n",
      "(25,)\n",
      "(25,)\n",
      "['varmean', 'session', 'mou_9', 'dset517', 'raw', 'AVG', 'rs', 'Hit']\n",
      "(20,)\n",
      "(18,)\n",
      "['varmean', 'session', 'mou_5', 'dset446', 'bn_session', 'DEL', 'None', 'Hit']\n",
      "(21,)\n",
      "(20,)\n",
      "['varmean', 'session', 'mou_6', 'dset414', 'bn_session', 'DEL', 'None', 'Hit']\n",
      "(30,)\n",
      "(28,)\n",
      "['varmean', 'session', 'mou_7', 'dset488', 'bn_session', 'DEL', 'None', 'Hit']\n",
      "(25,)\n",
      "(25,)\n",
      "['varmean', 'session', 'mou_9', 'dset530', 'bn_session', 'DEL', 'None', 'Hit']\n",
      "(20,)\n",
      "(18,)\n",
      "['varmean', 'session', 'mou_5', 'dset459', 'bn_trial', 'DEL', 'None', 'Hit']\n",
      "(21,)\n",
      "(20,)\n",
      "['varmean', 'session', 'mou_6', 'dset421', 'bn_trial', 'DEL', 'None', 'Hit']\n",
      "(30,)\n",
      "(28,)\n",
      "['varmean', 'session', 'mou_7', 'dset501', 'bn_trial', 'DEL', 'None', 'Hit']\n",
      "(25,)\n",
      "(25,)\n",
      "['varmean', 'session', 'mou_9', 'dset543', 'bn_trial', 'DEL', 'None', 'Hit']\n",
      "(20,)\n",
      "(18,)\n",
      "['varmean', 'session', 'mou_5', 'dset431', 'raw', 'DEL', 'rs', 'Hit']\n",
      "(21,)\n",
      "(20,)\n",
      "['varmean', 'session', 'mou_6', 'dset405', 'raw', 'DEL', 'rs', 'Hit']\n",
      "(30,)\n",
      "(28,)\n",
      "['varmean', 'session', 'mou_7', 'dset473', 'raw', 'DEL', 'rs', 'Hit']\n",
      "(25,)\n",
      "(25,)\n",
      "['varmean', 'session', 'mou_9', 'dset515', 'raw', 'DEL', 'rs', 'Hit']\n",
      "(20,)\n",
      "(18,)\n",
      "['varmean', 'session', 'mou_5', 'dset444', 'bn_session', 'PRE', 'None', 'Hit']\n",
      "(21,)\n",
      "(20,)\n",
      "['varmean', 'session', 'mou_6', 'dset412', 'bn_session', 'PRE', 'None', 'Hit']\n",
      "(30,)\n",
      "(28,)\n",
      "['varmean', 'session', 'mou_7', 'dset486', 'bn_session', 'PRE', 'None', 'Hit']\n",
      "(25,)\n",
      "(25,)\n",
      "['varmean', 'session', 'mou_9', 'dset528', 'bn_session', 'PRE', 'None', 'Hit']\n",
      "(20,)\n",
      "(18,)\n",
      "['varmean', 'session', 'mou_5', 'dset429', 'raw', 'PRE', 'rs', 'Hit']\n",
      "(21,)\n",
      "(20,)\n",
      "['varmean', 'session', 'mou_6', 'dset403', 'raw', 'PRE', 'rs', 'Hit']\n",
      "(30,)\n",
      "(28,)\n",
      "['varmean', 'session', 'mou_7', 'dset471', 'raw', 'PRE', 'rs', 'Hit']\n",
      "(25,)\n",
      "(25,)\n",
      "['varmean', 'session', 'mou_9', 'dset513', 'raw', 'PRE', 'rs', 'Hit']\n",
      "(20,)\n",
      "(18,)\n",
      "['varmean', 'session', 'mou_5', 'dset447', 'bn_session', 'REW', 'None', 'Hit']\n",
      "(21,)\n",
      "(20,)\n",
      "['varmean', 'session', 'mou_7', 'dset489', 'bn_session', 'REW', 'None', 'Hit']\n",
      "(25,)\n",
      "(25,)\n",
      "['varmean', 'session', 'mou_9', 'dset531', 'bn_session', 'REW', 'None', 'Hit']\n",
      "(20,)\n",
      "(18,)\n",
      "['varmean', 'session', 'mou_5', 'dset460', 'bn_trial', 'REW', 'None', 'Hit']\n",
      "(21,)\n",
      "(20,)\n",
      "['varmean', 'session', 'mou_7', 'dset502', 'bn_trial', 'REW', 'None', 'Hit']\n",
      "(25,)\n",
      "(25,)\n",
      "['varmean', 'session', 'mou_9', 'dset544', 'bn_trial', 'REW', 'None', 'Hit']\n",
      "(20,)\n",
      "(18,)\n",
      "['varmean', 'session', 'mou_5', 'dset432', 'raw', 'REW', 'rs', 'Hit']\n",
      "(21,)\n",
      "(20,)\n",
      "['varmean', 'session', 'mou_7', 'dset474', 'raw', 'REW', 'rs', 'Hit']\n",
      "(25,)\n",
      "(25,)\n",
      "['varmean', 'session', 'mou_9', 'dset516', 'raw', 'REW', 'rs', 'Hit']\n",
      "(20,)\n",
      "(18,)\n",
      "['varmean', 'session', 'mou_5', 'dset445', 'bn_session', 'TEX', 'None', 'Hit']\n",
      "(21,)\n",
      "(20,)\n",
      "['varmean', 'session', 'mou_6', 'dset413', 'bn_session', 'TEX', 'None', 'Hit']\n",
      "(30,)\n",
      "(28,)\n",
      "['varmean', 'session', 'mou_7', 'dset487', 'bn_session', 'TEX', 'None', 'Hit']\n",
      "(25,)\n",
      "(25,)\n",
      "['varmean', 'session', 'mou_9', 'dset529', 'bn_session', 'TEX', 'None', 'Hit']\n",
      "(20,)\n",
      "(18,)\n",
      "['varmean', 'session', 'mou_5', 'dset458', 'bn_trial', 'TEX', 'None', 'Hit']\n",
      "(21,)\n",
      "(20,)\n",
      "['varmean', 'session', 'mou_6', 'dset420', 'bn_trial', 'TEX', 'None', 'Hit']\n",
      "(30,)\n",
      "(28,)\n",
      "['varmean', 'session', 'mou_7', 'dset500', 'bn_trial', 'TEX', 'None', 'Hit']\n",
      "(25,)\n",
      "(25,)\n",
      "['varmean', 'session', 'mou_9', 'dset542', 'bn_trial', 'TEX', 'None', 'Hit']\n",
      "(20,)\n",
      "(18,)\n",
      "['varmean', 'session', 'mou_5', 'dset430', 'raw', 'TEX', 'rs', 'Hit']\n",
      "(21,)\n",
      "(20,)\n",
      "['varmean', 'session', 'mou_6', 'dset404', 'raw', 'TEX', 'rs', 'Hit']\n",
      "(30,)\n",
      "(28,)\n",
      "['varmean', 'session', 'mou_7', 'dset472', 'raw', 'TEX', 'rs', 'Hit']\n",
      "(25,)\n",
      "(25,)\n",
      "['varmean', 'session', 'mou_9', 'dset514', 'raw', 'TEX', 'rs', 'Hit']\n",
      "(20,)\n",
      "(18,)\n"
     ]
    },
    {
     "name": "stdout",
     "output_type": "stream",
     "text": [
      "['varmean', 'session', 'mou_5', 'dset443', 'bn_session', 'AVG', 'None', 'None']\n",
      "(21,)\n",
      "(21,)\n",
      "['varmean', 'session', 'mou_7', 'dset485', 'bn_session', 'AVG', 'None', 'None']\n",
      "(25,)\n",
      "(25,)\n",
      "['varmean', 'session', 'mou_9', 'dset527', 'bn_session', 'AVG', 'None', 'None']\n",
      "(20,)\n",
      "(20,)\n",
      "['varmean', 'session', 'mou_5', 'dset457', 'bn_trial', 'AVG', 'None', 'None']\n",
      "(21,)\n",
      "(21,)\n",
      "['varmean', 'session', 'mou_7', 'dset499', 'bn_trial', 'AVG', 'None', 'None']\n",
      "(25,)\n",
      "(25,)\n",
      "['varmean', 'session', 'mou_9', 'dset541', 'bn_trial', 'AVG', 'None', 'None']\n",
      "(20,)\n",
      "(20,)\n",
      "['varmean', 'session', 'mou_5', 'dset428', 'raw', 'AVG', 'rs', 'None']\n",
      "(21,)\n",
      "(21,)\n",
      "['varmean', 'session', 'mou_7', 'dset470', 'raw', 'AVG', 'rs', 'None']\n",
      "(25,)\n",
      "(25,)\n",
      "['varmean', 'session', 'mou_9', 'dset512', 'raw', 'AVG', 'rs', 'None']\n",
      "(20,)\n",
      "(20,)\n",
      "['varmean', 'session', 'mou_5', 'dset441', 'bn_session', 'DEL', 'None', 'None']\n",
      "(21,)\n",
      "(21,)\n",
      "['varmean', 'session', 'mou_6', 'dset411', 'bn_session', 'DEL', 'None', 'None']\n",
      "(30,)\n",
      "(30,)\n",
      "['varmean', 'session', 'mou_7', 'dset483', 'bn_session', 'DEL', 'None', 'None']\n",
      "(25,)\n",
      "(25,)\n",
      "['varmean', 'session', 'mou_9', 'dset525', 'bn_session', 'DEL', 'None', 'None']\n",
      "(20,)\n",
      "(20,)\n",
      "['varmean', 'session', 'mou_5', 'dset455', 'bn_trial', 'DEL', 'None', 'None']\n",
      "(21,)\n",
      "(21,)\n",
      "['varmean', 'session', 'mou_6', 'dset419', 'bn_trial', 'DEL', 'None', 'None']\n",
      "(30,)\n",
      "(30,)\n",
      "['varmean', 'session', 'mou_7', 'dset497', 'bn_trial', 'DEL', 'None', 'None']\n",
      "(25,)\n",
      "(25,)\n",
      "['varmean', 'session', 'mou_9', 'dset539', 'bn_trial', 'DEL', 'None', 'None']\n",
      "(20,)\n",
      "(20,)\n",
      "['varmean', 'session', 'mou_5', 'dset426', 'raw', 'DEL', 'rs', 'None']\n",
      "(21,)\n",
      "(21,)\n",
      "['varmean', 'session', 'mou_6', 'dset402', 'raw', 'DEL', 'rs', 'None']\n",
      "(30,)\n",
      "(30,)\n",
      "['varmean', 'session', 'mou_7', 'dset468', 'raw', 'DEL', 'rs', 'None']\n",
      "(25,)\n",
      "(25,)\n",
      "['varmean', 'session', 'mou_9', 'dset510', 'raw', 'DEL', 'rs', 'None']\n",
      "(20,)\n",
      "(20,)\n",
      "['varmean', 'session', 'mou_5', 'dset439', 'bn_session', 'PRE', 'None', 'None']\n",
      "(21,)\n",
      "(21,)\n",
      "['varmean', 'session', 'mou_6', 'dset409', 'bn_session', 'PRE', 'None', 'None']\n",
      "(30,)\n",
      "(30,)\n",
      "['varmean', 'session', 'mou_7', 'dset481', 'bn_session', 'PRE', 'None', 'None']\n",
      "(25,)\n",
      "(25,)\n",
      "['varmean', 'session', 'mou_9', 'dset523', 'bn_session', 'PRE', 'None', 'None']\n",
      "(20,)\n",
      "(20,)\n",
      "['varmean', 'session', 'mou_5', 'dset424', 'raw', 'PRE', 'rs', 'None']\n",
      "(21,)\n",
      "(21,)\n",
      "['varmean', 'session', 'mou_6', 'dset400', 'raw', 'PRE', 'rs', 'None']\n",
      "(30,)\n",
      "(30,)\n",
      "['varmean', 'session', 'mou_7', 'dset466', 'raw', 'PRE', 'rs', 'None']\n",
      "(25,)\n",
      "(25,)\n",
      "['varmean', 'session', 'mou_9', 'dset508', 'raw', 'PRE', 'rs', 'None']\n",
      "(20,)\n",
      "(20,)\n",
      "['varmean', 'session', 'mou_5', 'dset442', 'bn_session', 'REW', 'None', 'None']\n",
      "(21,)\n",
      "(21,)\n",
      "['varmean', 'session', 'mou_7', 'dset484', 'bn_session', 'REW', 'None', 'None']\n",
      "(25,)\n",
      "(25,)\n",
      "['varmean', 'session', 'mou_9', 'dset526', 'bn_session', 'REW', 'None', 'None']\n",
      "(20,)\n",
      "(20,)\n",
      "['varmean', 'session', 'mou_5', 'dset456', 'bn_trial', 'REW', 'None', 'None']\n",
      "(21,)\n",
      "(21,)\n",
      "['varmean', 'session', 'mou_7', 'dset498', 'bn_trial', 'REW', 'None', 'None']\n",
      "(25,)\n",
      "(25,)\n",
      "['varmean', 'session', 'mou_9', 'dset540', 'bn_trial', 'REW', 'None', 'None']\n",
      "(20,)\n",
      "(20,)\n",
      "['varmean', 'session', 'mou_5', 'dset427', 'raw', 'REW', 'rs', 'None']\n",
      "(21,)\n",
      "(21,)\n",
      "['varmean', 'session', 'mou_7', 'dset469', 'raw', 'REW', 'rs', 'None']\n",
      "(25,)\n",
      "(25,)\n",
      "['varmean', 'session', 'mou_9', 'dset511', 'raw', 'REW', 'rs', 'None']\n",
      "(20,)\n",
      "(20,)\n",
      "['varmean', 'session', 'mou_5', 'dset440', 'bn_session', 'TEX', 'None', 'None']\n",
      "(21,)\n",
      "(21,)\n",
      "['varmean', 'session', 'mou_6', 'dset410', 'bn_session', 'TEX', 'None', 'None']\n",
      "(30,)\n",
      "(30,)\n",
      "['varmean', 'session', 'mou_7', 'dset482', 'bn_session', 'TEX', 'None', 'None']\n",
      "(25,)\n",
      "(25,)\n",
      "['varmean', 'session', 'mou_9', 'dset524', 'bn_session', 'TEX', 'None', 'None']\n",
      "(20,)\n",
      "(20,)\n",
      "['varmean', 'session', 'mou_5', 'dset454', 'bn_trial', 'TEX', 'None', 'None']\n",
      "(21,)\n",
      "(21,)\n",
      "['varmean', 'session', 'mou_6', 'dset418', 'bn_trial', 'TEX', 'None', 'None']\n",
      "(30,)\n",
      "(30,)\n",
      "['varmean', 'session', 'mou_7', 'dset496', 'bn_trial', 'TEX', 'None', 'None']\n",
      "(25,)\n",
      "(25,)\n",
      "['varmean', 'session', 'mou_9', 'dset538', 'bn_trial', 'TEX', 'None', 'None']\n",
      "(20,)\n",
      "(20,)\n",
      "['varmean', 'session', 'mou_5', 'dset425', 'raw', 'TEX', 'rs', 'None']\n",
      "(21,)\n",
      "(21,)\n",
      "['varmean', 'session', 'mou_6', 'dset401', 'raw', 'TEX', 'rs', 'None']\n",
      "(30,)\n",
      "(30,)\n",
      "['varmean', 'session', 'mou_7', 'dset467', 'raw', 'TEX', 'rs', 'None']\n",
      "(25,)\n",
      "(25,)\n",
      "['varmean', 'session', 'mou_9', 'dset509', 'raw', 'TEX', 'rs', 'None']\n",
      "(20,)\n",
      "(20,)\n"
     ]
    }
   ],
   "source": [
    "bulk_metrics.scatter_metric_bulk(ds, 'varmean', 'session', verbose=False, xFunc=None, haveRegression=False)"
   ]
  },
  {
   "cell_type": "markdown",
   "metadata": {},
   "source": [
    "### Conditions"
   ]
  },
  {
   "cell_type": "code",
   "execution_count": 18,
   "metadata": {
    "scrolled": true
   },
   "outputs": [
    {
     "name": "stdout",
     "output_type": "stream",
     "text": [
      "bn_session\n",
      "bn_trial\n",
      "raw\n"
     ]
    }
   ],
   "source": [
    "bulk_metrics.barplot_conditions(ds, 'varmean', 'session',\n",
    "                                verbose=True,\n",
    "                                trialTypes=['Hit', 'CR'],\n",
    "                                intervNames=['PRE', 'DEL', 'TEX', 'REW'])"
   ]
  },
  {
   "cell_type": "markdown",
   "metadata": {},
   "source": [
    "### Test variance across channels for interesting interval\n",
    "\n",
    "* Average signal over texture presentation interval\n",
    "* Compute variance over trials for each channel\n",
    "* Compare channels"
   ]
  },
  {
   "cell_type": "code",
   "execution_count": null,
   "metadata": {},
   "outputs": [],
   "source": [
    "bulk_metrics.metric_mouse_bulk(dataDB, mc, ds, 'varmean', 'p', 'channel',\n",
    "                               cropTime=('TEX', (3, 3.5)), verbose=False)"
   ]
  },
  {
   "cell_type": "code",
   "execution_count": null,
   "metadata": {
    "scrolled": true
   },
   "outputs": [],
   "source": [
    "bulk_metrics.plot_metric_bulk(ds, 'varmean', 'channel', yscale='log', verbose=False, # ylim=[0.005,2],\n",
    "                              dropCols=['cropTime'])"
   ]
  },
  {
   "cell_type": "markdown",
   "metadata": {
    "collapsed": true
   },
   "source": [
    "# 3. Effective Rank\n",
    "\n",
    "### ByTime"
   ]
  },
  {
   "cell_type": "code",
   "execution_count": null,
   "metadata": {
    "scrolled": true
   },
   "outputs": [],
   "source": [
    "bulk_metrics.metric_mouse_bulk(dataDB, mc, ds, \"rank_effective\", 's', 'time', verbose=False,\n",
    "                               minTrials=50, trialTypeNames='auto', exclQueryLst=exclQueryLst)"
   ]
  },
  {
   "cell_type": "code",
   "execution_count": null,
   "metadata": {
    "scrolled": true
   },
   "outputs": [],
   "source": [
    "bulk_metrics.plot_metric_bulk(ds, 'rank_effective', 'time', ylim=[1, None], verbose=False,\n",
    "                              xFunc=lambda m, l: dataDB.get_times()) # ylim=[1,48]"
   ]
  },
  {
   "cell_type": "markdown",
   "metadata": {},
   "source": [
    "### BySession"
   ]
  },
  {
   "cell_type": "code",
   "execution_count": 16,
   "metadata": {
    "scrolled": true
   },
   "outputs": [
    {
     "data": {
      "application/vnd.jupyter.widget-view+json": {
       "model_id": "93d7ba8899db4b35b3435371179f6c5f",
       "version_major": 2,
       "version_minor": 0
      },
      "text/plain": [
       "IntProgress(value=0, description='session', max=150)"
      ]
     },
     "metadata": {},
     "output_type": "display_data"
    },
    {
     "data": {
      "application/vnd.jupyter.widget-view+json": {
       "model_id": "543cc409a2ec48138a8c6cf2ea357364",
       "version_major": 2,
       "version_minor": 0
      },
      "text/plain": [
       "IntProgress(value=0, description='mou_6', max=30)"
      ]
     },
     "metadata": {},
     "output_type": "display_data"
    },
    {
     "data": {
      "application/vnd.jupyter.widget-view+json": {
       "model_id": "8eaf66f2c57f47728cc697de279185ea",
       "version_major": 2,
       "version_minor": 0
      },
      "text/plain": [
       "IntProgress(value=0, description='mou_6', max=30)"
      ]
     },
     "metadata": {},
     "output_type": "display_data"
    },
    {
     "data": {
      "application/vnd.jupyter.widget-view+json": {
       "model_id": "8b99c5e6527845c583eec94f11453086",
       "version_major": 2,
       "version_minor": 0
      },
      "text/plain": [
       "IntProgress(value=0, description='mou_6', max=30)"
      ]
     },
     "metadata": {},
     "output_type": "display_data"
    },
    {
     "data": {
      "application/vnd.jupyter.widget-view+json": {
       "model_id": "63a09cea67e249ae88eb6f819520a87a",
       "version_major": 2,
       "version_minor": 0
      },
      "text/plain": [
       "IntProgress(value=0, description='mou_6', max=30)"
      ]
     },
     "metadata": {},
     "output_type": "display_data"
    },
    {
     "name": "stdout",
     "output_type": "stream",
     "text": [
      "Warning: skipping session with too few trials 18\n",
      "Warning: skipping session with too few trials 27\n"
     ]
    },
    {
     "data": {
      "application/vnd.jupyter.widget-view+json": {
       "model_id": "fcdf7dac563b476aa69bc1dd2c206c3d",
       "version_major": 2,
       "version_minor": 0
      },
      "text/plain": [
       "IntProgress(value=0, description='mou_6', max=30)"
      ]
     },
     "metadata": {},
     "output_type": "display_data"
    },
    {
     "name": "stdout",
     "output_type": "stream",
     "text": [
      "Warning: skipping session with too few trials 18\n",
      "Warning: skipping session with too few trials 27\n"
     ]
    },
    {
     "data": {
      "application/vnd.jupyter.widget-view+json": {
       "model_id": "4ea241d69f2c4643aac2574855482b46",
       "version_major": 2,
       "version_minor": 0
      },
      "text/plain": [
       "IntProgress(value=0, description='mou_6', max=30)"
      ]
     },
     "metadata": {},
     "output_type": "display_data"
    },
    {
     "name": "stdout",
     "output_type": "stream",
     "text": [
      "Warning: skipping session with too few trials 18\n",
      "Warning: skipping session with too few trials 27\n"
     ]
    },
    {
     "data": {
      "application/vnd.jupyter.widget-view+json": {
       "model_id": "14e9575a2b254feb8713c68d06cad5fc",
       "version_major": 2,
       "version_minor": 0
      },
      "text/plain": [
       "IntProgress(value=0, description='mou_6', max=30)"
      ]
     },
     "metadata": {},
     "output_type": "display_data"
    },
    {
     "name": "stdout",
     "output_type": "stream",
     "text": [
      "Warning: skipping session with too few trials 23\n"
     ]
    },
    {
     "data": {
      "application/vnd.jupyter.widget-view+json": {
       "model_id": "0f475c211fb246ecafbf694790c2ef5e",
       "version_major": 2,
       "version_minor": 0
      },
      "text/plain": [
       "IntProgress(value=0, description='mou_6', max=30)"
      ]
     },
     "metadata": {},
     "output_type": "display_data"
    },
    {
     "name": "stdout",
     "output_type": "stream",
     "text": [
      "Warning: skipping session with too few trials 23\n"
     ]
    },
    {
     "data": {
      "application/vnd.jupyter.widget-view+json": {
       "model_id": "4dd94027560e4f8daf464e266132c01e",
       "version_major": 2,
       "version_minor": 0
      },
      "text/plain": [
       "IntProgress(value=0, description='mou_6', max=30)"
      ]
     },
     "metadata": {},
     "output_type": "display_data"
    },
    {
     "name": "stdout",
     "output_type": "stream",
     "text": [
      "Warning: skipping session with too few trials 23\n"
     ]
    },
    {
     "data": {
      "application/vnd.jupyter.widget-view+json": {
       "model_id": "42237868a06a4af1a680b8231f719391",
       "version_major": 2,
       "version_minor": 0
      },
      "text/plain": [
       "IntProgress(value=0, description='mou_6', max=30)"
      ]
     },
     "metadata": {},
     "output_type": "display_data"
    },
    {
     "data": {
      "application/vnd.jupyter.widget-view+json": {
       "model_id": "899fe21927ac4633810d74a05d70d33c",
       "version_major": 2,
       "version_minor": 0
      },
      "text/plain": [
       "IntProgress(value=0, description='mou_6', max=30)"
      ]
     },
     "metadata": {},
     "output_type": "display_data"
    },
    {
     "data": {
      "application/vnd.jupyter.widget-view+json": {
       "model_id": "c1161bdfaf734940a813b143a360344c",
       "version_major": 2,
       "version_minor": 0
      },
      "text/plain": [
       "IntProgress(value=0, description='mou_6', max=30)"
      ]
     },
     "metadata": {},
     "output_type": "display_data"
    },
    {
     "data": {
      "application/vnd.jupyter.widget-view+json": {
       "model_id": "d02b5c81010c4ae285803d4d2eada5f3",
       "version_major": 2,
       "version_minor": 0
      },
      "text/plain": [
       "IntProgress(value=0, description='mou_6', max=30)"
      ]
     },
     "metadata": {},
     "output_type": "display_data"
    },
    {
     "name": "stdout",
     "output_type": "stream",
     "text": [
      "Warning: skipping session with too few trials 18\n",
      "Warning: skipping session with too few trials 27\n"
     ]
    },
    {
     "data": {
      "application/vnd.jupyter.widget-view+json": {
       "model_id": "0e31b8857bff4ac0aaaec46081a56113",
       "version_major": 2,
       "version_minor": 0
      },
      "text/plain": [
       "IntProgress(value=0, description='mou_6', max=30)"
      ]
     },
     "metadata": {},
     "output_type": "display_data"
    },
    {
     "name": "stdout",
     "output_type": "stream",
     "text": [
      "Warning: skipping session with too few trials 18\n",
      "Warning: skipping session with too few trials 27\n"
     ]
    },
    {
     "data": {
      "application/vnd.jupyter.widget-view+json": {
       "model_id": "71be5fecd83143b7b758d01bcb121e5d",
       "version_major": 2,
       "version_minor": 0
      },
      "text/plain": [
       "IntProgress(value=0, description='mou_6', max=30)"
      ]
     },
     "metadata": {},
     "output_type": "display_data"
    },
    {
     "name": "stdout",
     "output_type": "stream",
     "text": [
      "Warning: skipping session with too few trials 18\n",
      "Warning: skipping session with too few trials 27\n"
     ]
    },
    {
     "data": {
      "application/vnd.jupyter.widget-view+json": {
       "model_id": "3e8da57cfc38477982b84f2d654a8c82",
       "version_major": 2,
       "version_minor": 0
      },
      "text/plain": [
       "IntProgress(value=0, description='mou_6', max=30)"
      ]
     },
     "metadata": {},
     "output_type": "display_data"
    },
    {
     "name": "stdout",
     "output_type": "stream",
     "text": [
      "Warning: skipping session with too few trials 23\n"
     ]
    },
    {
     "data": {
      "application/vnd.jupyter.widget-view+json": {
       "model_id": "f3a4b41b228149099f7bcfe923274600",
       "version_major": 2,
       "version_minor": 0
      },
      "text/plain": [
       "IntProgress(value=0, description='mou_6', max=30)"
      ]
     },
     "metadata": {},
     "output_type": "display_data"
    },
    {
     "name": "stdout",
     "output_type": "stream",
     "text": [
      "Warning: skipping session with too few trials 23\n"
     ]
    },
    {
     "data": {
      "application/vnd.jupyter.widget-view+json": {
       "model_id": "17c9689413d24f3f8e8ac02654f69162",
       "version_major": 2,
       "version_minor": 0
      },
      "text/plain": [
       "IntProgress(value=0, description='mou_6', max=30)"
      ]
     },
     "metadata": {},
     "output_type": "display_data"
    },
    {
     "name": "stdout",
     "output_type": "stream",
     "text": [
      "Warning: skipping session with too few trials 23\n"
     ]
    },
    {
     "data": {
      "application/vnd.jupyter.widget-view+json": {
       "model_id": "5d91cdead8a747af8e96cf61e05a12ae",
       "version_major": 2,
       "version_minor": 0
      },
      "text/plain": [
       "IntProgress(value=0, description='mou_6', max=30)"
      ]
     },
     "metadata": {},
     "output_type": "display_data"
    },
    {
     "data": {
      "application/vnd.jupyter.widget-view+json": {
       "model_id": "40862106d06b405cb81c0a6966031dbb",
       "version_major": 2,
       "version_minor": 0
      },
      "text/plain": [
       "IntProgress(value=0, description='mou_6', max=30)"
      ]
     },
     "metadata": {},
     "output_type": "display_data"
    },
    {
     "data": {
      "application/vnd.jupyter.widget-view+json": {
       "model_id": "d22a09ca757c4bd8b274a0506cf7b05a",
       "version_major": 2,
       "version_minor": 0
      },
      "text/plain": [
       "IntProgress(value=0, description='mou_6', max=30)"
      ]
     },
     "metadata": {},
     "output_type": "display_data"
    },
    {
     "name": "stdout",
     "output_type": "stream",
     "text": [
      "Warning: skipping session with too few trials 18\n",
      "Warning: skipping session with too few trials 27\n"
     ]
    },
    {
     "data": {
      "application/vnd.jupyter.widget-view+json": {
       "model_id": "129ec312f2e849e39239e5df9d56d214",
       "version_major": 2,
       "version_minor": 0
      },
      "text/plain": [
       "IntProgress(value=0, description='mou_6', max=30)"
      ]
     },
     "metadata": {},
     "output_type": "display_data"
    },
    {
     "name": "stdout",
     "output_type": "stream",
     "text": [
      "Warning: skipping session with too few trials 18\n",
      "Warning: skipping session with too few trials 27\n"
     ]
    },
    {
     "data": {
      "application/vnd.jupyter.widget-view+json": {
       "model_id": "ed9a46cf93c24291b73a8e6c03ea65a9",
       "version_major": 2,
       "version_minor": 0
      },
      "text/plain": [
       "IntProgress(value=0, description='mou_6', max=30)"
      ]
     },
     "metadata": {},
     "output_type": "display_data"
    },
    {
     "name": "stdout",
     "output_type": "stream",
     "text": [
      "Warning: skipping session with too few trials 23\n"
     ]
    },
    {
     "data": {
      "application/vnd.jupyter.widget-view+json": {
       "model_id": "315038068e234f42be2e443f204ede56",
       "version_major": 2,
       "version_minor": 0
      },
      "text/plain": [
       "IntProgress(value=0, description='mou_6', max=30)"
      ]
     },
     "metadata": {},
     "output_type": "display_data"
    },
    {
     "name": "stdout",
     "output_type": "stream",
     "text": [
      "Warning: skipping session with too few trials 23\n"
     ]
    },
    {
     "data": {
      "application/vnd.jupyter.widget-view+json": {
       "model_id": "0e9ea8489d53448f80b6651eaee748d1",
       "version_major": 2,
       "version_minor": 0
      },
      "text/plain": [
       "IntProgress(value=0, description='mou_5', max=21)"
      ]
     },
     "metadata": {},
     "output_type": "display_data"
    },
    {
     "data": {
      "application/vnd.jupyter.widget-view+json": {
       "model_id": "5c2882126f6242a4b5874f9c292f69c7",
       "version_major": 2,
       "version_minor": 0
      },
      "text/plain": [
       "IntProgress(value=0, description='mou_5', max=21)"
      ]
     },
     "metadata": {},
     "output_type": "display_data"
    },
    {
     "data": {
      "application/vnd.jupyter.widget-view+json": {
       "model_id": "3b41fbe3a8724b2697eab83703be218d",
       "version_major": 2,
       "version_minor": 0
      },
      "text/plain": [
       "IntProgress(value=0, description='mou_5', max=21)"
      ]
     },
     "metadata": {},
     "output_type": "display_data"
    },
    {
     "data": {
      "application/vnd.jupyter.widget-view+json": {
       "model_id": "dd4bda0ec9ac40578e4f826d73326614",
       "version_major": 2,
       "version_minor": 0
      },
      "text/plain": [
       "IntProgress(value=0, description='mou_5', max=21)"
      ]
     },
     "metadata": {},
     "output_type": "display_data"
    },
    {
     "data": {
      "application/vnd.jupyter.widget-view+json": {
       "model_id": "71bb033368b6419cb1beb8ff5f1b9d8c",
       "version_major": 2,
       "version_minor": 0
      },
      "text/plain": [
       "IntProgress(value=0, description='mou_5', max=21)"
      ]
     },
     "metadata": {},
     "output_type": "display_data"
    },
    {
     "data": {
      "application/vnd.jupyter.widget-view+json": {
       "model_id": "7e31a2f3617042f7ab1483d504c645de",
       "version_major": 2,
       "version_minor": 0
      },
      "text/plain": [
       "IntProgress(value=0, description='mou_5', max=21)"
      ]
     },
     "metadata": {},
     "output_type": "display_data"
    },
    {
     "name": "stdout",
     "output_type": "stream",
     "text": [
      "Warning: skipping session with too few trials 21\n"
     ]
    },
    {
     "data": {
      "application/vnd.jupyter.widget-view+json": {
       "model_id": "af88220d979b4dc18fa67d2a4d73b3dc",
       "version_major": 2,
       "version_minor": 0
      },
      "text/plain": [
       "IntProgress(value=0, description='mou_5', max=21)"
      ]
     },
     "metadata": {},
     "output_type": "display_data"
    },
    {
     "name": "stdout",
     "output_type": "stream",
     "text": [
      "Warning: skipping session with too few trials 21\n"
     ]
    },
    {
     "data": {
      "application/vnd.jupyter.widget-view+json": {
       "model_id": "5c194098463041448f2c87b60ab135e5",
       "version_major": 2,
       "version_minor": 0
      },
      "text/plain": [
       "IntProgress(value=0, description='mou_5', max=21)"
      ]
     },
     "metadata": {},
     "output_type": "display_data"
    },
    {
     "name": "stdout",
     "output_type": "stream",
     "text": [
      "Warning: skipping session with too few trials 21\n"
     ]
    },
    {
     "data": {
      "application/vnd.jupyter.widget-view+json": {
       "model_id": "355d1e2f836a42bea2e19bf06e02669b",
       "version_major": 2,
       "version_minor": 0
      },
      "text/plain": [
       "IntProgress(value=0, description='mou_5', max=21)"
      ]
     },
     "metadata": {},
     "output_type": "display_data"
    },
    {
     "name": "stdout",
     "output_type": "stream",
     "text": [
      "Warning: skipping session with too few trials 21\n"
     ]
    },
    {
     "data": {
      "application/vnd.jupyter.widget-view+json": {
       "model_id": "00ecf51cf0e546ba812e70c124c35bbb",
       "version_major": 2,
       "version_minor": 0
      },
      "text/plain": [
       "IntProgress(value=0, description='mou_5', max=21)"
      ]
     },
     "metadata": {},
     "output_type": "display_data"
    },
    {
     "name": "stdout",
     "output_type": "stream",
     "text": [
      "Warning: skipping session with too few trials 21\n"
     ]
    },
    {
     "data": {
      "application/vnd.jupyter.widget-view+json": {
       "model_id": "7b8a8958dbc3476988a1348402acd45f",
       "version_major": 2,
       "version_minor": 0
      },
      "text/plain": [
       "IntProgress(value=0, description='mou_5', max=21)"
      ]
     },
     "metadata": {},
     "output_type": "display_data"
    },
    {
     "name": "stdout",
     "output_type": "stream",
     "text": [
      "Warning: skipping session with too few trials 20\n"
     ]
    },
    {
     "data": {
      "application/vnd.jupyter.widget-view+json": {
       "model_id": "2df28dfc91644fbf80fd2c5decf41ba7",
       "version_major": 2,
       "version_minor": 0
      },
      "text/plain": [
       "IntProgress(value=0, description='mou_5', max=21)"
      ]
     },
     "metadata": {},
     "output_type": "display_data"
    },
    {
     "name": "stdout",
     "output_type": "stream",
     "text": [
      "Warning: skipping session with too few trials 20\n"
     ]
    },
    {
     "data": {
      "application/vnd.jupyter.widget-view+json": {
       "model_id": "6f6fe42d2e334f69a61e4105176cb7b7",
       "version_major": 2,
       "version_minor": 0
      },
      "text/plain": [
       "IntProgress(value=0, description='mou_5', max=21)"
      ]
     },
     "metadata": {},
     "output_type": "display_data"
    },
    {
     "name": "stdout",
     "output_type": "stream",
     "text": [
      "Warning: skipping session with too few trials 20\n"
     ]
    },
    {
     "data": {
      "application/vnd.jupyter.widget-view+json": {
       "model_id": "734af3001f2143348a30bf6f5910507b",
       "version_major": 2,
       "version_minor": 0
      },
      "text/plain": [
       "IntProgress(value=0, description='mou_5', max=21)"
      ]
     },
     "metadata": {},
     "output_type": "display_data"
    },
    {
     "name": "stdout",
     "output_type": "stream",
     "text": [
      "Warning: skipping session with too few trials 20\n"
     ]
    },
    {
     "data": {
      "application/vnd.jupyter.widget-view+json": {
       "model_id": "741e9fd9fea14003a837c117f77ceafe",
       "version_major": 2,
       "version_minor": 0
      },
      "text/plain": [
       "IntProgress(value=0, description='mou_5', max=21)"
      ]
     },
     "metadata": {},
     "output_type": "display_data"
    },
    {
     "name": "stdout",
     "output_type": "stream",
     "text": [
      "Warning: skipping session with too few trials 20\n"
     ]
    },
    {
     "data": {
      "application/vnd.jupyter.widget-view+json": {
       "model_id": "3d2a034138d04fc4953914f7fcd0bad2",
       "version_major": 2,
       "version_minor": 0
      },
      "text/plain": [
       "IntProgress(value=0, description='mou_5', max=21)"
      ]
     },
     "metadata": {},
     "output_type": "display_data"
    },
    {
     "data": {
      "application/vnd.jupyter.widget-view+json": {
       "model_id": "4c629693ef224aa199d1e2279866f977",
       "version_major": 2,
       "version_minor": 0
      },
      "text/plain": [
       "IntProgress(value=0, description='mou_5', max=21)"
      ]
     },
     "metadata": {},
     "output_type": "display_data"
    },
    {
     "data": {
      "application/vnd.jupyter.widget-view+json": {
       "model_id": "e369e2889cb145c9a06ff76dad2d0d2a",
       "version_major": 2,
       "version_minor": 0
      },
      "text/plain": [
       "IntProgress(value=0, description='mou_5', max=21)"
      ]
     },
     "metadata": {},
     "output_type": "display_data"
    },
    {
     "data": {
      "application/vnd.jupyter.widget-view+json": {
       "model_id": "8d9388d7643d44c5ba1e04470254bf89",
       "version_major": 2,
       "version_minor": 0
      },
      "text/plain": [
       "IntProgress(value=0, description='mou_5', max=21)"
      ]
     },
     "metadata": {},
     "output_type": "display_data"
    },
    {
     "data": {
      "application/vnd.jupyter.widget-view+json": {
       "model_id": "c875af2debba442ea3ddfd071bff1001",
       "version_major": 2,
       "version_minor": 0
      },
      "text/plain": [
       "IntProgress(value=0, description='mou_5', max=21)"
      ]
     },
     "metadata": {},
     "output_type": "display_data"
    },
    {
     "data": {
      "application/vnd.jupyter.widget-view+json": {
       "model_id": "c6fbf6312a4a43e4a8334d526cb94f53",
       "version_major": 2,
       "version_minor": 0
      },
      "text/plain": [
       "IntProgress(value=0, description='mou_5', max=21)"
      ]
     },
     "metadata": {},
     "output_type": "display_data"
    },
    {
     "name": "stdout",
     "output_type": "stream",
     "text": [
      "Warning: skipping session with too few trials 21\n"
     ]
    },
    {
     "data": {
      "application/vnd.jupyter.widget-view+json": {
       "model_id": "08f5ea73538d4a99b7551a0a36b9a11a",
       "version_major": 2,
       "version_minor": 0
      },
      "text/plain": [
       "IntProgress(value=0, description='mou_5', max=21)"
      ]
     },
     "metadata": {},
     "output_type": "display_data"
    },
    {
     "name": "stdout",
     "output_type": "stream",
     "text": [
      "Warning: skipping session with too few trials 21\n"
     ]
    },
    {
     "data": {
      "application/vnd.jupyter.widget-view+json": {
       "model_id": "7d99cf9725ec40f08561ea925157c9e3",
       "version_major": 2,
       "version_minor": 0
      },
      "text/plain": [
       "IntProgress(value=0, description='mou_5', max=21)"
      ]
     },
     "metadata": {},
     "output_type": "display_data"
    },
    {
     "name": "stdout",
     "output_type": "stream",
     "text": [
      "Warning: skipping session with too few trials 21\n"
     ]
    },
    {
     "data": {
      "application/vnd.jupyter.widget-view+json": {
       "model_id": "17bf4d4c73cc4991b35564d97e6e70bf",
       "version_major": 2,
       "version_minor": 0
      },
      "text/plain": [
       "IntProgress(value=0, description='mou_5', max=21)"
      ]
     },
     "metadata": {},
     "output_type": "display_data"
    },
    {
     "name": "stdout",
     "output_type": "stream",
     "text": [
      "Warning: skipping session with too few trials 21\n"
     ]
    },
    {
     "data": {
      "application/vnd.jupyter.widget-view+json": {
       "model_id": "a5d6a51914404d1e9cd0943383ba63e3",
       "version_major": 2,
       "version_minor": 0
      },
      "text/plain": [
       "IntProgress(value=0, description='mou_5', max=21)"
      ]
     },
     "metadata": {},
     "output_type": "display_data"
    },
    {
     "name": "stdout",
     "output_type": "stream",
     "text": [
      "Warning: skipping session with too few trials 21\n"
     ]
    },
    {
     "data": {
      "application/vnd.jupyter.widget-view+json": {
       "model_id": "24ce612e4fa044d9b20f5963d2277f39",
       "version_major": 2,
       "version_minor": 0
      },
      "text/plain": [
       "IntProgress(value=0, description='mou_5', max=21)"
      ]
     },
     "metadata": {},
     "output_type": "display_data"
    },
    {
     "name": "stdout",
     "output_type": "stream",
     "text": [
      "Warning: skipping session with too few trials 20\n"
     ]
    },
    {
     "data": {
      "application/vnd.jupyter.widget-view+json": {
       "model_id": "de43908021c8425ba49e519829295c2c",
       "version_major": 2,
       "version_minor": 0
      },
      "text/plain": [
       "IntProgress(value=0, description='mou_5', max=21)"
      ]
     },
     "metadata": {},
     "output_type": "display_data"
    },
    {
     "name": "stdout",
     "output_type": "stream",
     "text": [
      "Warning: skipping session with too few trials 20\n"
     ]
    },
    {
     "data": {
      "application/vnd.jupyter.widget-view+json": {
       "model_id": "07e3a70540274b198d5aa941bdf778e6",
       "version_major": 2,
       "version_minor": 0
      },
      "text/plain": [
       "IntProgress(value=0, description='mou_5', max=21)"
      ]
     },
     "metadata": {},
     "output_type": "display_data"
    },
    {
     "name": "stdout",
     "output_type": "stream",
     "text": [
      "Warning: skipping session with too few trials 20\n"
     ]
    },
    {
     "data": {
      "application/vnd.jupyter.widget-view+json": {
       "model_id": "7a3642b7f002414c93acc40e318b2707",
       "version_major": 2,
       "version_minor": 0
      },
      "text/plain": [
       "IntProgress(value=0, description='mou_5', max=21)"
      ]
     },
     "metadata": {},
     "output_type": "display_data"
    },
    {
     "name": "stdout",
     "output_type": "stream",
     "text": [
      "Warning: skipping session with too few trials 20\n"
     ]
    },
    {
     "data": {
      "application/vnd.jupyter.widget-view+json": {
       "model_id": "252ba8891a5d497b8b4a80ea85a7b6bf",
       "version_major": 2,
       "version_minor": 0
      },
      "text/plain": [
       "IntProgress(value=0, description='mou_5', max=21)"
      ]
     },
     "metadata": {},
     "output_type": "display_data"
    },
    {
     "name": "stdout",
     "output_type": "stream",
     "text": [
      "Warning: skipping session with too few trials 20\n"
     ]
    },
    {
     "data": {
      "application/vnd.jupyter.widget-view+json": {
       "model_id": "f0b8e96f1d374f2bb0e342fdcb7c4dcb",
       "version_major": 2,
       "version_minor": 0
      },
      "text/plain": [
       "IntProgress(value=0, description='mou_5', max=21)"
      ]
     },
     "metadata": {},
     "output_type": "display_data"
    },
    {
     "data": {
      "application/vnd.jupyter.widget-view+json": {
       "model_id": "9d8a1709c7324f03b45c4fbcf6133c58",
       "version_major": 2,
       "version_minor": 0
      },
      "text/plain": [
       "IntProgress(value=0, description='mou_5', max=21)"
      ]
     },
     "metadata": {},
     "output_type": "display_data"
    },
    {
     "data": {
      "application/vnd.jupyter.widget-view+json": {
       "model_id": "2ee8ba153ba74ed2ad3dada1bf43d025",
       "version_major": 2,
       "version_minor": 0
      },
      "text/plain": [
       "IntProgress(value=0, description='mou_5', max=21)"
      ]
     },
     "metadata": {},
     "output_type": "display_data"
    },
    {
     "data": {
      "application/vnd.jupyter.widget-view+json": {
       "model_id": "6a2f78f7002a42dfb8e0a769b78627ee",
       "version_major": 2,
       "version_minor": 0
      },
      "text/plain": [
       "IntProgress(value=0, description='mou_5', max=21)"
      ]
     },
     "metadata": {},
     "output_type": "display_data"
    },
    {
     "data": {
      "application/vnd.jupyter.widget-view+json": {
       "model_id": "56106b7253334c7bb9179d66518eb5b1",
       "version_major": 2,
       "version_minor": 0
      },
      "text/plain": [
       "IntProgress(value=0, description='mou_5', max=21)"
      ]
     },
     "metadata": {},
     "output_type": "display_data"
    },
    {
     "name": "stdout",
     "output_type": "stream",
     "text": [
      "Warning: skipping session with too few trials 21\n"
     ]
    },
    {
     "data": {
      "application/vnd.jupyter.widget-view+json": {
       "model_id": "8c9c7b270dcc40af9c864d8cc955486e",
       "version_major": 2,
       "version_minor": 0
      },
      "text/plain": [
       "IntProgress(value=0, description='mou_5', max=21)"
      ]
     },
     "metadata": {},
     "output_type": "display_data"
    },
    {
     "name": "stdout",
     "output_type": "stream",
     "text": [
      "Warning: skipping session with too few trials 21\n"
     ]
    },
    {
     "data": {
      "application/vnd.jupyter.widget-view+json": {
       "model_id": "47bd67fd21cd4a75b48f38e3e71442ee",
       "version_major": 2,
       "version_minor": 0
      },
      "text/plain": [
       "IntProgress(value=0, description='mou_5', max=21)"
      ]
     },
     "metadata": {},
     "output_type": "display_data"
    },
    {
     "name": "stdout",
     "output_type": "stream",
     "text": [
      "Warning: skipping session with too few trials 21\n"
     ]
    },
    {
     "data": {
      "application/vnd.jupyter.widget-view+json": {
       "model_id": "5035d4c660604af3a2ed46b69c403528",
       "version_major": 2,
       "version_minor": 0
      },
      "text/plain": [
       "IntProgress(value=0, description='mou_5', max=21)"
      ]
     },
     "metadata": {},
     "output_type": "display_data"
    },
    {
     "name": "stdout",
     "output_type": "stream",
     "text": [
      "Warning: skipping session with too few trials 21\n"
     ]
    },
    {
     "data": {
      "application/vnd.jupyter.widget-view+json": {
       "model_id": "7d2c45ba73404bb19cdf359573d03d51",
       "version_major": 2,
       "version_minor": 0
      },
      "text/plain": [
       "IntProgress(value=0, description='mou_5', max=21)"
      ]
     },
     "metadata": {},
     "output_type": "display_data"
    },
    {
     "name": "stdout",
     "output_type": "stream",
     "text": [
      "Warning: skipping session with too few trials 20\n"
     ]
    },
    {
     "data": {
      "application/vnd.jupyter.widget-view+json": {
       "model_id": "fb00461e6a7946418a9c89f2e6eab1b8",
       "version_major": 2,
       "version_minor": 0
      },
      "text/plain": [
       "IntProgress(value=0, description='mou_5', max=21)"
      ]
     },
     "metadata": {},
     "output_type": "display_data"
    },
    {
     "name": "stdout",
     "output_type": "stream",
     "text": [
      "Warning: skipping session with too few trials 20\n"
     ]
    },
    {
     "data": {
      "application/vnd.jupyter.widget-view+json": {
       "model_id": "e47a6380f0714fa0b8ab39af35b6abe9",
       "version_major": 2,
       "version_minor": 0
      },
      "text/plain": [
       "IntProgress(value=0, description='mou_5', max=21)"
      ]
     },
     "metadata": {},
     "output_type": "display_data"
    },
    {
     "name": "stdout",
     "output_type": "stream",
     "text": [
      "Warning: skipping session with too few trials 20\n"
     ]
    },
    {
     "data": {
      "application/vnd.jupyter.widget-view+json": {
       "model_id": "10a24f090506478e9f21060095a7d40c",
       "version_major": 2,
       "version_minor": 0
      },
      "text/plain": [
       "IntProgress(value=0, description='mou_5', max=21)"
      ]
     },
     "metadata": {},
     "output_type": "display_data"
    },
    {
     "name": "stdout",
     "output_type": "stream",
     "text": [
      "Warning: skipping session with too few trials 20\n"
     ]
    },
    {
     "data": {
      "application/vnd.jupyter.widget-view+json": {
       "model_id": "f936ab697fda4ba5b3d6bf10525002f0",
       "version_major": 2,
       "version_minor": 0
      },
      "text/plain": [
       "IntProgress(value=0, description='mou_7', max=25)"
      ]
     },
     "metadata": {},
     "output_type": "display_data"
    },
    {
     "data": {
      "application/vnd.jupyter.widget-view+json": {
       "model_id": "a193f57c2083448b9c38602e5f673d81",
       "version_major": 2,
       "version_minor": 0
      },
      "text/plain": [
       "IntProgress(value=0, description='mou_7', max=25)"
      ]
     },
     "metadata": {},
     "output_type": "display_data"
    },
    {
     "data": {
      "application/vnd.jupyter.widget-view+json": {
       "model_id": "ab0ef5786d0f45a9bd87d7e38a0bdf57",
       "version_major": 2,
       "version_minor": 0
      },
      "text/plain": [
       "IntProgress(value=0, description='mou_7', max=25)"
      ]
     },
     "metadata": {},
     "output_type": "display_data"
    },
    {
     "data": {
      "application/vnd.jupyter.widget-view+json": {
       "model_id": "28ae41c585bf432cb7b4093e96f66e0a",
       "version_major": 2,
       "version_minor": 0
      },
      "text/plain": [
       "IntProgress(value=0, description='mou_7', max=25)"
      ]
     },
     "metadata": {},
     "output_type": "display_data"
    },
    {
     "data": {
      "application/vnd.jupyter.widget-view+json": {
       "model_id": "b6406af2d3f3475bbad6a0192e901f73",
       "version_major": 2,
       "version_minor": 0
      },
      "text/plain": [
       "IntProgress(value=0, description='mou_7', max=25)"
      ]
     },
     "metadata": {},
     "output_type": "display_data"
    },
    {
     "data": {
      "application/vnd.jupyter.widget-view+json": {
       "model_id": "00badd4ae4ad4a839df3be0906378b18",
       "version_major": 2,
       "version_minor": 0
      },
      "text/plain": [
       "IntProgress(value=0, description='mou_7', max=25)"
      ]
     },
     "metadata": {},
     "output_type": "display_data"
    },
    {
     "data": {
      "application/vnd.jupyter.widget-view+json": {
       "model_id": "272878b15b604433af0584f881e8cf86",
       "version_major": 2,
       "version_minor": 0
      },
      "text/plain": [
       "IntProgress(value=0, description='mou_7', max=25)"
      ]
     },
     "metadata": {},
     "output_type": "display_data"
    },
    {
     "data": {
      "application/vnd.jupyter.widget-view+json": {
       "model_id": "2d5d70188ae943198a2b3921369a7b68",
       "version_major": 2,
       "version_minor": 0
      },
      "text/plain": [
       "IntProgress(value=0, description='mou_7', max=25)"
      ]
     },
     "metadata": {},
     "output_type": "display_data"
    },
    {
     "data": {
      "application/vnd.jupyter.widget-view+json": {
       "model_id": "8fae971b3b12402db7a8a83c5b68a5d3",
       "version_major": 2,
       "version_minor": 0
      },
      "text/plain": [
       "IntProgress(value=0, description='mou_7', max=25)"
      ]
     },
     "metadata": {},
     "output_type": "display_data"
    },
    {
     "data": {
      "application/vnd.jupyter.widget-view+json": {
       "model_id": "436794a5301946ffa08774bcd8707703",
       "version_major": 2,
       "version_minor": 0
      },
      "text/plain": [
       "IntProgress(value=0, description='mou_7', max=25)"
      ]
     },
     "metadata": {},
     "output_type": "display_data"
    },
    {
     "data": {
      "application/vnd.jupyter.widget-view+json": {
       "model_id": "916cb9e9de504a7b9205ab19566cd5a2",
       "version_major": 2,
       "version_minor": 0
      },
      "text/plain": [
       "IntProgress(value=0, description='mou_7', max=25)"
      ]
     },
     "metadata": {},
     "output_type": "display_data"
    },
    {
     "data": {
      "application/vnd.jupyter.widget-view+json": {
       "model_id": "86f86f5cfa9943fab606a19f48a10b76",
       "version_major": 2,
       "version_minor": 0
      },
      "text/plain": [
       "IntProgress(value=0, description='mou_7', max=25)"
      ]
     },
     "metadata": {},
     "output_type": "display_data"
    },
    {
     "data": {
      "application/vnd.jupyter.widget-view+json": {
       "model_id": "e06ac0d4371f4eb3a825397043d60bdd",
       "version_major": 2,
       "version_minor": 0
      },
      "text/plain": [
       "IntProgress(value=0, description='mou_7', max=25)"
      ]
     },
     "metadata": {},
     "output_type": "display_data"
    },
    {
     "data": {
      "application/vnd.jupyter.widget-view+json": {
       "model_id": "7e5bb481cf1647b89549c91a851fc8e7",
       "version_major": 2,
       "version_minor": 0
      },
      "text/plain": [
       "IntProgress(value=0, description='mou_7', max=25)"
      ]
     },
     "metadata": {},
     "output_type": "display_data"
    },
    {
     "data": {
      "application/vnd.jupyter.widget-view+json": {
       "model_id": "f7bd25deaa4c4d6f94933799f8757417",
       "version_major": 2,
       "version_minor": 0
      },
      "text/plain": [
       "IntProgress(value=0, description='mou_7', max=25)"
      ]
     },
     "metadata": {},
     "output_type": "display_data"
    },
    {
     "data": {
      "application/vnd.jupyter.widget-view+json": {
       "model_id": "b946fd0734bd40d79d6884111d2f48ba",
       "version_major": 2,
       "version_minor": 0
      },
      "text/plain": [
       "IntProgress(value=0, description='mou_7', max=25)"
      ]
     },
     "metadata": {},
     "output_type": "display_data"
    },
    {
     "data": {
      "application/vnd.jupyter.widget-view+json": {
       "model_id": "a4bc8ca7548f4669beda791914ccd022",
       "version_major": 2,
       "version_minor": 0
      },
      "text/plain": [
       "IntProgress(value=0, description='mou_7', max=25)"
      ]
     },
     "metadata": {},
     "output_type": "display_data"
    },
    {
     "data": {
      "application/vnd.jupyter.widget-view+json": {
       "model_id": "2336d4942722467b94ba297f69d9f776",
       "version_major": 2,
       "version_minor": 0
      },
      "text/plain": [
       "IntProgress(value=0, description='mou_7', max=25)"
      ]
     },
     "metadata": {},
     "output_type": "display_data"
    },
    {
     "data": {
      "application/vnd.jupyter.widget-view+json": {
       "model_id": "9e6426594082459b854ca743bf6de49f",
       "version_major": 2,
       "version_minor": 0
      },
      "text/plain": [
       "IntProgress(value=0, description='mou_7', max=25)"
      ]
     },
     "metadata": {},
     "output_type": "display_data"
    },
    {
     "data": {
      "application/vnd.jupyter.widget-view+json": {
       "model_id": "8eebff98b8414dab838a434d167702f1",
       "version_major": 2,
       "version_minor": 0
      },
      "text/plain": [
       "IntProgress(value=0, description='mou_7', max=25)"
      ]
     },
     "metadata": {},
     "output_type": "display_data"
    },
    {
     "data": {
      "application/vnd.jupyter.widget-view+json": {
       "model_id": "c41664e5bdc14d508b5ef3087b6fa520",
       "version_major": 2,
       "version_minor": 0
      },
      "text/plain": [
       "IntProgress(value=0, description='mou_7', max=25)"
      ]
     },
     "metadata": {},
     "output_type": "display_data"
    },
    {
     "data": {
      "application/vnd.jupyter.widget-view+json": {
       "model_id": "3907426521e545deb4a9c345bf95480b",
       "version_major": 2,
       "version_minor": 0
      },
      "text/plain": [
       "IntProgress(value=0, description='mou_7', max=25)"
      ]
     },
     "metadata": {},
     "output_type": "display_data"
    },
    {
     "data": {
      "application/vnd.jupyter.widget-view+json": {
       "model_id": "1a3c24bd370145a3a424cfdde2dabbd7",
       "version_major": 2,
       "version_minor": 0
      },
      "text/plain": [
       "IntProgress(value=0, description='mou_7', max=25)"
      ]
     },
     "metadata": {},
     "output_type": "display_data"
    },
    {
     "data": {
      "application/vnd.jupyter.widget-view+json": {
       "model_id": "04371aaf5a9d4ae5b2de72dafa45ef26",
       "version_major": 2,
       "version_minor": 0
      },
      "text/plain": [
       "IntProgress(value=0, description='mou_7', max=25)"
      ]
     },
     "metadata": {},
     "output_type": "display_data"
    },
    {
     "data": {
      "application/vnd.jupyter.widget-view+json": {
       "model_id": "9a84c27c953341f198e7bf8b4c67189b",
       "version_major": 2,
       "version_minor": 0
      },
      "text/plain": [
       "IntProgress(value=0, description='mou_7', max=25)"
      ]
     },
     "metadata": {},
     "output_type": "display_data"
    },
    {
     "data": {
      "application/vnd.jupyter.widget-view+json": {
       "model_id": "f4916be0ffeb4d54bcfcb06b2a768ba6",
       "version_major": 2,
       "version_minor": 0
      },
      "text/plain": [
       "IntProgress(value=0, description='mou_7', max=25)"
      ]
     },
     "metadata": {},
     "output_type": "display_data"
    },
    {
     "data": {
      "application/vnd.jupyter.widget-view+json": {
       "model_id": "576b97486cf5456699b7db4d2f212bda",
       "version_major": 2,
       "version_minor": 0
      },
      "text/plain": [
       "IntProgress(value=0, description='mou_7', max=25)"
      ]
     },
     "metadata": {},
     "output_type": "display_data"
    },
    {
     "data": {
      "application/vnd.jupyter.widget-view+json": {
       "model_id": "27a1ff41e8af473ea8aef7ece779965d",
       "version_major": 2,
       "version_minor": 0
      },
      "text/plain": [
       "IntProgress(value=0, description='mou_7', max=25)"
      ]
     },
     "metadata": {},
     "output_type": "display_data"
    },
    {
     "data": {
      "application/vnd.jupyter.widget-view+json": {
       "model_id": "37570ed08da94b83809af61323d7fe89",
       "version_major": 2,
       "version_minor": 0
      },
      "text/plain": [
       "IntProgress(value=0, description='mou_7', max=25)"
      ]
     },
     "metadata": {},
     "output_type": "display_data"
    },
    {
     "data": {
      "application/vnd.jupyter.widget-view+json": {
       "model_id": "1da14910e6e34e8f825f9c31428ae653",
       "version_major": 2,
       "version_minor": 0
      },
      "text/plain": [
       "IntProgress(value=0, description='mou_7', max=25)"
      ]
     },
     "metadata": {},
     "output_type": "display_data"
    },
    {
     "data": {
      "application/vnd.jupyter.widget-view+json": {
       "model_id": "2a0e501dc0e3476fb0018e86eb2df8cf",
       "version_major": 2,
       "version_minor": 0
      },
      "text/plain": [
       "IntProgress(value=0, description='mou_7', max=25)"
      ]
     },
     "metadata": {},
     "output_type": "display_data"
    },
    {
     "data": {
      "application/vnd.jupyter.widget-view+json": {
       "model_id": "eb94fbb3d76b44599c940ec330e01f89",
       "version_major": 2,
       "version_minor": 0
      },
      "text/plain": [
       "IntProgress(value=0, description='mou_7', max=25)"
      ]
     },
     "metadata": {},
     "output_type": "display_data"
    },
    {
     "data": {
      "application/vnd.jupyter.widget-view+json": {
       "model_id": "ff2b5ebcc4484ea29d862ca921dc2df9",
       "version_major": 2,
       "version_minor": 0
      },
      "text/plain": [
       "IntProgress(value=0, description='mou_7', max=25)"
      ]
     },
     "metadata": {},
     "output_type": "display_data"
    },
    {
     "data": {
      "application/vnd.jupyter.widget-view+json": {
       "model_id": "a82e6f6339e8468981a11b46f0939bb0",
       "version_major": 2,
       "version_minor": 0
      },
      "text/plain": [
       "IntProgress(value=0, description='mou_7', max=25)"
      ]
     },
     "metadata": {},
     "output_type": "display_data"
    },
    {
     "data": {
      "application/vnd.jupyter.widget-view+json": {
       "model_id": "a0c612108c75417c93eca23c2fa5a87d",
       "version_major": 2,
       "version_minor": 0
      },
      "text/plain": [
       "IntProgress(value=0, description='mou_7', max=25)"
      ]
     },
     "metadata": {},
     "output_type": "display_data"
    },
    {
     "data": {
      "application/vnd.jupyter.widget-view+json": {
       "model_id": "c31f9afc564b4dbf9f7d96ffca1a5ac1",
       "version_major": 2,
       "version_minor": 0
      },
      "text/plain": [
       "IntProgress(value=0, description='mou_7', max=25)"
      ]
     },
     "metadata": {},
     "output_type": "display_data"
    },
    {
     "data": {
      "application/vnd.jupyter.widget-view+json": {
       "model_id": "63932fccd96245e986c2d69548b5b497",
       "version_major": 2,
       "version_minor": 0
      },
      "text/plain": [
       "IntProgress(value=0, description='mou_7', max=25)"
      ]
     },
     "metadata": {},
     "output_type": "display_data"
    },
    {
     "data": {
      "application/vnd.jupyter.widget-view+json": {
       "model_id": "2226b5983fc34560926771ca38173dc1",
       "version_major": 2,
       "version_minor": 0
      },
      "text/plain": [
       "IntProgress(value=0, description='mou_7', max=25)"
      ]
     },
     "metadata": {},
     "output_type": "display_data"
    },
    {
     "data": {
      "application/vnd.jupyter.widget-view+json": {
       "model_id": "d13a207ac319438890838912fe7a8d4d",
       "version_major": 2,
       "version_minor": 0
      },
      "text/plain": [
       "IntProgress(value=0, description='mou_7', max=25)"
      ]
     },
     "metadata": {},
     "output_type": "display_data"
    },
    {
     "data": {
      "application/vnd.jupyter.widget-view+json": {
       "model_id": "995aea296e1f4842816754db29b3ff74",
       "version_major": 2,
       "version_minor": 0
      },
      "text/plain": [
       "IntProgress(value=0, description='mou_7', max=25)"
      ]
     },
     "metadata": {},
     "output_type": "display_data"
    },
    {
     "data": {
      "application/vnd.jupyter.widget-view+json": {
       "model_id": "927c5d27fddf4ade85c5c1937b45340c",
       "version_major": 2,
       "version_minor": 0
      },
      "text/plain": [
       "IntProgress(value=0, description='mou_7', max=25)"
      ]
     },
     "metadata": {},
     "output_type": "display_data"
    },
    {
     "data": {
      "application/vnd.jupyter.widget-view+json": {
       "model_id": "ea2fd1127735473cafa2f529a84cc7d5",
       "version_major": 2,
       "version_minor": 0
      },
      "text/plain": [
       "IntProgress(value=0, description='mou_7', max=25)"
      ]
     },
     "metadata": {},
     "output_type": "display_data"
    },
    {
     "data": {
      "application/vnd.jupyter.widget-view+json": {
       "model_id": "763c96f51b734df6a3bb2b597f42007f",
       "version_major": 2,
       "version_minor": 0
      },
      "text/plain": [
       "IntProgress(value=0, description='mou_9', max=20)"
      ]
     },
     "metadata": {},
     "output_type": "display_data"
    },
    {
     "data": {
      "application/vnd.jupyter.widget-view+json": {
       "model_id": "76c741645b5d440fb36098de417277b6",
       "version_major": 2,
       "version_minor": 0
      },
      "text/plain": [
       "IntProgress(value=0, description='mou_9', max=20)"
      ]
     },
     "metadata": {},
     "output_type": "display_data"
    },
    {
     "data": {
      "application/vnd.jupyter.widget-view+json": {
       "model_id": "537978d2c7654c049ad7f6e0a401152c",
       "version_major": 2,
       "version_minor": 0
      },
      "text/plain": [
       "IntProgress(value=0, description='mou_9', max=20)"
      ]
     },
     "metadata": {},
     "output_type": "display_data"
    },
    {
     "data": {
      "application/vnd.jupyter.widget-view+json": {
       "model_id": "b7e78c23722e46d3bbfb3d693792a451",
       "version_major": 2,
       "version_minor": 0
      },
      "text/plain": [
       "IntProgress(value=0, description='mou_9', max=20)"
      ]
     },
     "metadata": {},
     "output_type": "display_data"
    },
    {
     "data": {
      "application/vnd.jupyter.widget-view+json": {
       "model_id": "59e9bad4b4a548c4b7e76a7c75c05562",
       "version_major": 2,
       "version_minor": 0
      },
      "text/plain": [
       "IntProgress(value=0, description='mou_9', max=20)"
      ]
     },
     "metadata": {},
     "output_type": "display_data"
    },
    {
     "data": {
      "application/vnd.jupyter.widget-view+json": {
       "model_id": "d34d995b19f54fa49dfd4e7c76b0eec2",
       "version_major": 2,
       "version_minor": 0
      },
      "text/plain": [
       "IntProgress(value=0, description='mou_9', max=20)"
      ]
     },
     "metadata": {},
     "output_type": "display_data"
    },
    {
     "name": "stdout",
     "output_type": "stream",
     "text": [
      "Warning: skipping session with too few trials 24\n",
      "Warning: skipping session with too few trials 20\n"
     ]
    },
    {
     "data": {
      "application/vnd.jupyter.widget-view+json": {
       "model_id": "be16479e4a4c42a49b120b934c766080",
       "version_major": 2,
       "version_minor": 0
      },
      "text/plain": [
       "IntProgress(value=0, description='mou_9', max=20)"
      ]
     },
     "metadata": {},
     "output_type": "display_data"
    },
    {
     "name": "stdout",
     "output_type": "stream",
     "text": [
      "Warning: skipping session with too few trials 24\n",
      "Warning: skipping session with too few trials 20\n"
     ]
    },
    {
     "data": {
      "application/vnd.jupyter.widget-view+json": {
       "model_id": "689abeff4d334f039179de3e5522ec90",
       "version_major": 2,
       "version_minor": 0
      },
      "text/plain": [
       "IntProgress(value=0, description='mou_9', max=20)"
      ]
     },
     "metadata": {},
     "output_type": "display_data"
    },
    {
     "name": "stdout",
     "output_type": "stream",
     "text": [
      "Warning: skipping session with too few trials 24\n",
      "Warning: skipping session with too few trials 20\n"
     ]
    },
    {
     "data": {
      "application/vnd.jupyter.widget-view+json": {
       "model_id": "c465634a7c174d0e90f93cb6dd382a96",
       "version_major": 2,
       "version_minor": 0
      },
      "text/plain": [
       "IntProgress(value=0, description='mou_9', max=20)"
      ]
     },
     "metadata": {},
     "output_type": "display_data"
    },
    {
     "name": "stdout",
     "output_type": "stream",
     "text": [
      "Warning: skipping session with too few trials 24\n",
      "Warning: skipping session with too few trials 20\n"
     ]
    },
    {
     "data": {
      "application/vnd.jupyter.widget-view+json": {
       "model_id": "7bfad1ce0d354388a75fc2e5a0718e65",
       "version_major": 2,
       "version_minor": 0
      },
      "text/plain": [
       "IntProgress(value=0, description='mou_9', max=20)"
      ]
     },
     "metadata": {},
     "output_type": "display_data"
    },
    {
     "name": "stdout",
     "output_type": "stream",
     "text": [
      "Warning: skipping session with too few trials 24\n",
      "Warning: skipping session with too few trials 20\n"
     ]
    },
    {
     "data": {
      "application/vnd.jupyter.widget-view+json": {
       "model_id": "eea1fc7e645243e5bd2f6a066427060a",
       "version_major": 2,
       "version_minor": 0
      },
      "text/plain": [
       "IntProgress(value=0, description='mou_9', max=20)"
      ]
     },
     "metadata": {},
     "output_type": "display_data"
    },
    {
     "name": "stdout",
     "output_type": "stream",
     "text": [
      "Warning: skipping session with too few trials 26\n",
      "Warning: skipping session with too few trials 14\n"
     ]
    },
    {
     "data": {
      "application/vnd.jupyter.widget-view+json": {
       "model_id": "89b49a65134c490581bbf0f0af8cb3d7",
       "version_major": 2,
       "version_minor": 0
      },
      "text/plain": [
       "IntProgress(value=0, description='mou_9', max=20)"
      ]
     },
     "metadata": {},
     "output_type": "display_data"
    },
    {
     "name": "stdout",
     "output_type": "stream",
     "text": [
      "Warning: skipping session with too few trials 26\n",
      "Warning: skipping session with too few trials 14\n"
     ]
    },
    {
     "data": {
      "application/vnd.jupyter.widget-view+json": {
       "model_id": "59585be862e64a2eb5ceb3f18db16de0",
       "version_major": 2,
       "version_minor": 0
      },
      "text/plain": [
       "IntProgress(value=0, description='mou_9', max=20)"
      ]
     },
     "metadata": {},
     "output_type": "display_data"
    },
    {
     "name": "stdout",
     "output_type": "stream",
     "text": [
      "Warning: skipping session with too few trials 26\n",
      "Warning: skipping session with too few trials 14\n"
     ]
    },
    {
     "data": {
      "application/vnd.jupyter.widget-view+json": {
       "model_id": "c12dc5a70ae541b998e8f38d08743d57",
       "version_major": 2,
       "version_minor": 0
      },
      "text/plain": [
       "IntProgress(value=0, description='mou_9', max=20)"
      ]
     },
     "metadata": {},
     "output_type": "display_data"
    },
    {
     "name": "stdout",
     "output_type": "stream",
     "text": [
      "Warning: skipping session with too few trials 26\n",
      "Warning: skipping session with too few trials 14\n"
     ]
    },
    {
     "data": {
      "application/vnd.jupyter.widget-view+json": {
       "model_id": "b9583bd4665442139a24cb92301bec91",
       "version_major": 2,
       "version_minor": 0
      },
      "text/plain": [
       "IntProgress(value=0, description='mou_9', max=20)"
      ]
     },
     "metadata": {},
     "output_type": "display_data"
    },
    {
     "name": "stdout",
     "output_type": "stream",
     "text": [
      "Warning: skipping session with too few trials 26\n",
      "Warning: skipping session with too few trials 14\n"
     ]
    },
    {
     "data": {
      "application/vnd.jupyter.widget-view+json": {
       "model_id": "74a671ce9ce9481b890b2ced83405f92",
       "version_major": 2,
       "version_minor": 0
      },
      "text/plain": [
       "IntProgress(value=0, description='mou_9', max=20)"
      ]
     },
     "metadata": {},
     "output_type": "display_data"
    },
    {
     "data": {
      "application/vnd.jupyter.widget-view+json": {
       "model_id": "4cf668a9904e48e4a7da250d9f61625e",
       "version_major": 2,
       "version_minor": 0
      },
      "text/plain": [
       "IntProgress(value=0, description='mou_9', max=20)"
      ]
     },
     "metadata": {},
     "output_type": "display_data"
    },
    {
     "data": {
      "application/vnd.jupyter.widget-view+json": {
       "model_id": "439cf791c8884447b7e1bbe60645525c",
       "version_major": 2,
       "version_minor": 0
      },
      "text/plain": [
       "IntProgress(value=0, description='mou_9', max=20)"
      ]
     },
     "metadata": {},
     "output_type": "display_data"
    },
    {
     "data": {
      "application/vnd.jupyter.widget-view+json": {
       "model_id": "5ba07b11d07c45e59296bd63ec28f587",
       "version_major": 2,
       "version_minor": 0
      },
      "text/plain": [
       "IntProgress(value=0, description='mou_9', max=20)"
      ]
     },
     "metadata": {},
     "output_type": "display_data"
    },
    {
     "data": {
      "application/vnd.jupyter.widget-view+json": {
       "model_id": "ded7be0f12884648b3330179a6433813",
       "version_major": 2,
       "version_minor": 0
      },
      "text/plain": [
       "IntProgress(value=0, description='mou_9', max=20)"
      ]
     },
     "metadata": {},
     "output_type": "display_data"
    },
    {
     "data": {
      "application/vnd.jupyter.widget-view+json": {
       "model_id": "ebe16c26d45b4ccf9f781ef0a0a3e01d",
       "version_major": 2,
       "version_minor": 0
      },
      "text/plain": [
       "IntProgress(value=0, description='mou_9', max=20)"
      ]
     },
     "metadata": {},
     "output_type": "display_data"
    },
    {
     "name": "stdout",
     "output_type": "stream",
     "text": [
      "Warning: skipping session with too few trials 24\n",
      "Warning: skipping session with too few trials 20\n"
     ]
    },
    {
     "data": {
      "application/vnd.jupyter.widget-view+json": {
       "model_id": "9e1117a8de5947ebad0fbc1aa9899fb4",
       "version_major": 2,
       "version_minor": 0
      },
      "text/plain": [
       "IntProgress(value=0, description='mou_9', max=20)"
      ]
     },
     "metadata": {},
     "output_type": "display_data"
    },
    {
     "name": "stdout",
     "output_type": "stream",
     "text": [
      "Warning: skipping session with too few trials 24\n",
      "Warning: skipping session with too few trials 20\n"
     ]
    },
    {
     "data": {
      "application/vnd.jupyter.widget-view+json": {
       "model_id": "4ea50cbaa4384cfc9227f2aaedffea5a",
       "version_major": 2,
       "version_minor": 0
      },
      "text/plain": [
       "IntProgress(value=0, description='mou_9', max=20)"
      ]
     },
     "metadata": {},
     "output_type": "display_data"
    },
    {
     "name": "stdout",
     "output_type": "stream",
     "text": [
      "Warning: skipping session with too few trials 24\n",
      "Warning: skipping session with too few trials 20\n"
     ]
    },
    {
     "data": {
      "application/vnd.jupyter.widget-view+json": {
       "model_id": "59e511e0e7674e3493cf373327aa3c19",
       "version_major": 2,
       "version_minor": 0
      },
      "text/plain": [
       "IntProgress(value=0, description='mou_9', max=20)"
      ]
     },
     "metadata": {},
     "output_type": "display_data"
    },
    {
     "name": "stdout",
     "output_type": "stream",
     "text": [
      "Warning: skipping session with too few trials 24\n",
      "Warning: skipping session with too few trials 20\n"
     ]
    },
    {
     "data": {
      "application/vnd.jupyter.widget-view+json": {
       "model_id": "2858906cce9045c98feb54a7a51b5018",
       "version_major": 2,
       "version_minor": 0
      },
      "text/plain": [
       "IntProgress(value=0, description='mou_9', max=20)"
      ]
     },
     "metadata": {},
     "output_type": "display_data"
    },
    {
     "name": "stdout",
     "output_type": "stream",
     "text": [
      "Warning: skipping session with too few trials 24\n",
      "Warning: skipping session with too few trials 20\n"
     ]
    },
    {
     "data": {
      "application/vnd.jupyter.widget-view+json": {
       "model_id": "7ec709b8338b440387198bc495e88c72",
       "version_major": 2,
       "version_minor": 0
      },
      "text/plain": [
       "IntProgress(value=0, description='mou_9', max=20)"
      ]
     },
     "metadata": {},
     "output_type": "display_data"
    },
    {
     "name": "stdout",
     "output_type": "stream",
     "text": [
      "Warning: skipping session with too few trials 26\n",
      "Warning: skipping session with too few trials 14\n"
     ]
    },
    {
     "data": {
      "application/vnd.jupyter.widget-view+json": {
       "model_id": "9a4fafb59f2f4f0fbff561230d6648b7",
       "version_major": 2,
       "version_minor": 0
      },
      "text/plain": [
       "IntProgress(value=0, description='mou_9', max=20)"
      ]
     },
     "metadata": {},
     "output_type": "display_data"
    },
    {
     "name": "stdout",
     "output_type": "stream",
     "text": [
      "Warning: skipping session with too few trials 26\n",
      "Warning: skipping session with too few trials 14\n"
     ]
    },
    {
     "data": {
      "application/vnd.jupyter.widget-view+json": {
       "model_id": "3b9562f56ef7447eab540fed894fa13b",
       "version_major": 2,
       "version_minor": 0
      },
      "text/plain": [
       "IntProgress(value=0, description='mou_9', max=20)"
      ]
     },
     "metadata": {},
     "output_type": "display_data"
    },
    {
     "name": "stdout",
     "output_type": "stream",
     "text": [
      "Warning: skipping session with too few trials 26\n",
      "Warning: skipping session with too few trials 14\n"
     ]
    },
    {
     "data": {
      "application/vnd.jupyter.widget-view+json": {
       "model_id": "e5ecf6a685f14a7682ed39c88ab775d1",
       "version_major": 2,
       "version_minor": 0
      },
      "text/plain": [
       "IntProgress(value=0, description='mou_9', max=20)"
      ]
     },
     "metadata": {},
     "output_type": "display_data"
    },
    {
     "name": "stdout",
     "output_type": "stream",
     "text": [
      "Warning: skipping session with too few trials 26\n",
      "Warning: skipping session with too few trials 14\n"
     ]
    },
    {
     "data": {
      "application/vnd.jupyter.widget-view+json": {
       "model_id": "a375c503080140828a844a67f8faa1db",
       "version_major": 2,
       "version_minor": 0
      },
      "text/plain": [
       "IntProgress(value=0, description='mou_9', max=20)"
      ]
     },
     "metadata": {},
     "output_type": "display_data"
    },
    {
     "name": "stdout",
     "output_type": "stream",
     "text": [
      "Warning: skipping session with too few trials 26\n",
      "Warning: skipping session with too few trials 14\n"
     ]
    },
    {
     "data": {
      "application/vnd.jupyter.widget-view+json": {
       "model_id": "478aeaad65fa45adadb8f133aba4225d",
       "version_major": 2,
       "version_minor": 0
      },
      "text/plain": [
       "IntProgress(value=0, description='mou_9', max=20)"
      ]
     },
     "metadata": {},
     "output_type": "display_data"
    },
    {
     "data": {
      "application/vnd.jupyter.widget-view+json": {
       "model_id": "c511ee4269c542189f024707b5d40647",
       "version_major": 2,
       "version_minor": 0
      },
      "text/plain": [
       "IntProgress(value=0, description='mou_9', max=20)"
      ]
     },
     "metadata": {},
     "output_type": "display_data"
    },
    {
     "data": {
      "application/vnd.jupyter.widget-view+json": {
       "model_id": "ca89af1aa20842cf8d0c45f1c129fff9",
       "version_major": 2,
       "version_minor": 0
      },
      "text/plain": [
       "IntProgress(value=0, description='mou_9', max=20)"
      ]
     },
     "metadata": {},
     "output_type": "display_data"
    },
    {
     "data": {
      "application/vnd.jupyter.widget-view+json": {
       "model_id": "eea7f0db0ad348e5bb774ac85c004208",
       "version_major": 2,
       "version_minor": 0
      },
      "text/plain": [
       "IntProgress(value=0, description='mou_9', max=20)"
      ]
     },
     "metadata": {},
     "output_type": "display_data"
    },
    {
     "data": {
      "application/vnd.jupyter.widget-view+json": {
       "model_id": "c502d017d0a44f528e097a86576bbdd0",
       "version_major": 2,
       "version_minor": 0
      },
      "text/plain": [
       "IntProgress(value=0, description='mou_9', max=20)"
      ]
     },
     "metadata": {},
     "output_type": "display_data"
    },
    {
     "name": "stdout",
     "output_type": "stream",
     "text": [
      "Warning: skipping session with too few trials 24\n",
      "Warning: skipping session with too few trials 20\n"
     ]
    },
    {
     "data": {
      "application/vnd.jupyter.widget-view+json": {
       "model_id": "c3afb70abffc4f789def7135c7f3508e",
       "version_major": 2,
       "version_minor": 0
      },
      "text/plain": [
       "IntProgress(value=0, description='mou_9', max=20)"
      ]
     },
     "metadata": {},
     "output_type": "display_data"
    },
    {
     "name": "stdout",
     "output_type": "stream",
     "text": [
      "Warning: skipping session with too few trials 24\n",
      "Warning: skipping session with too few trials 20\n"
     ]
    },
    {
     "data": {
      "application/vnd.jupyter.widget-view+json": {
       "model_id": "465438ac15f2498fb58601cd34ea113c",
       "version_major": 2,
       "version_minor": 0
      },
      "text/plain": [
       "IntProgress(value=0, description='mou_9', max=20)"
      ]
     },
     "metadata": {},
     "output_type": "display_data"
    },
    {
     "name": "stdout",
     "output_type": "stream",
     "text": [
      "Warning: skipping session with too few trials 24\n",
      "Warning: skipping session with too few trials 20\n"
     ]
    },
    {
     "data": {
      "application/vnd.jupyter.widget-view+json": {
       "model_id": "6019fa56b59c4047a175610769ad1571",
       "version_major": 2,
       "version_minor": 0
      },
      "text/plain": [
       "IntProgress(value=0, description='mou_9', max=20)"
      ]
     },
     "metadata": {},
     "output_type": "display_data"
    },
    {
     "name": "stdout",
     "output_type": "stream",
     "text": [
      "Warning: skipping session with too few trials 24\n",
      "Warning: skipping session with too few trials 20\n"
     ]
    },
    {
     "data": {
      "application/vnd.jupyter.widget-view+json": {
       "model_id": "df71fdfcad414cfabc590cce0bfa0ebd",
       "version_major": 2,
       "version_minor": 0
      },
      "text/plain": [
       "IntProgress(value=0, description='mou_9', max=20)"
      ]
     },
     "metadata": {},
     "output_type": "display_data"
    },
    {
     "name": "stdout",
     "output_type": "stream",
     "text": [
      "Warning: skipping session with too few trials 26\n",
      "Warning: skipping session with too few trials 14\n"
     ]
    },
    {
     "data": {
      "application/vnd.jupyter.widget-view+json": {
       "model_id": "d16a91cb0d7d42b09590b8bc9be00036",
       "version_major": 2,
       "version_minor": 0
      },
      "text/plain": [
       "IntProgress(value=0, description='mou_9', max=20)"
      ]
     },
     "metadata": {},
     "output_type": "display_data"
    },
    {
     "name": "stdout",
     "output_type": "stream",
     "text": [
      "Warning: skipping session with too few trials 26\n",
      "Warning: skipping session with too few trials 14\n"
     ]
    },
    {
     "data": {
      "application/vnd.jupyter.widget-view+json": {
       "model_id": "ce0058a08c9c40e9a6bf650e5607a749",
       "version_major": 2,
       "version_minor": 0
      },
      "text/plain": [
       "IntProgress(value=0, description='mou_9', max=20)"
      ]
     },
     "metadata": {},
     "output_type": "display_data"
    },
    {
     "name": "stdout",
     "output_type": "stream",
     "text": [
      "Warning: skipping session with too few trials 26\n",
      "Warning: skipping session with too few trials 14\n"
     ]
    },
    {
     "data": {
      "application/vnd.jupyter.widget-view+json": {
       "model_id": "da90d012a68842779e32e64f711eb33e",
       "version_major": 2,
       "version_minor": 0
      },
      "text/plain": [
       "IntProgress(value=0, description='mou_9', max=20)"
      ]
     },
     "metadata": {},
     "output_type": "display_data"
    },
    {
     "name": "stdout",
     "output_type": "stream",
     "text": [
      "Warning: skipping session with too few trials 26\n",
      "Warning: skipping session with too few trials 14\n"
     ]
    }
   ],
   "source": [
    "bulk_metrics.metric_mouse_bulk_vs_session(dataDB, mc, ds, \"rank_effective\", 'session',\n",
    "                                          minTrials=30,\n",
    "                                          trialTypeNames=[None, 'Hit', 'CR'],\n",
    "                                          verbose=False,\n",
    "                                          intervNames=intervNames,\n",
    "                                          exclQueryLst=exclQueryLst, skipExisting=True)"
   ]
  },
  {
   "cell_type": "code",
   "execution_count": null,
   "metadata": {
    "scrolled": true
   },
   "outputs": [],
   "source": [
    "bulk_metrics.scatter_metric_bulk(ds, 'rank_effective', 'session', ylim=[1, None], verbose=False,\n",
    "                                 xFunc=None, haveRegression=False)"
   ]
  },
  {
   "cell_type": "markdown",
   "metadata": {},
   "source": [
    "### Conditions"
   ]
  },
  {
   "cell_type": "code",
   "execution_count": 17,
   "metadata": {},
   "outputs": [
    {
     "name": "stdout",
     "output_type": "stream",
     "text": [
      "bn_session\n",
      "bn_trial\n",
      "raw\n"
     ]
    }
   ],
   "source": [
    "bulk_metrics.barplot_conditions(ds, 'rank_effective', 'session',\n",
    "                                verbose=True, trialTypes=['Hit', 'CR'],\n",
    "                                intervNames=dataDB.get_interval_names())"
   ]
  },
  {
   "cell_type": "markdown",
   "metadata": {},
   "source": [
    "## Hierarchical\n",
    "\n",
    "**TODO**:\n",
    "* Add composite selectors for metric helper\n",
    "   - trialType = iGO & iNOGO\n",
    "   - cropTime = TEX & REW"
   ]
  },
  {
   "cell_type": "code",
   "execution_count": null,
   "metadata": {},
   "outputs": [],
   "source": [
    "bulk_metrics.metric_mouse_bulk(dataDB, mc, ds, \"rank_effective\", '', 'flat', verbose=False,\n",
    "                               trialTypeNames='auto',\n",
    "                               perfNames='auto',\n",
    "                               intervNames=intervNames, exclQueryLst=exclQueryLst)"
   ]
  },
  {
   "cell_type": "code",
   "execution_count": null,
   "metadata": {},
   "outputs": [],
   "source": [
    "df = ds.list_dsets_pd()\n",
    "df = df[df['name'] == 'flat']"
   ]
  },
  {
   "cell_type": "code",
   "execution_count": null,
   "metadata": {},
   "outputs": [],
   "source": [
    "data = [np.round(ds.get_data(dset), 2) for dset in df['dset']]\n",
    "df['rez'] = data"
   ]
  },
  {
   "cell_type": "code",
   "execution_count": null,
   "metadata": {},
   "outputs": [],
   "source": [
    "df.drop(['datetime', 'zscoreDim', 'dset', 'metric', 'name', 'shape', 'target_dim'], axis=1, inplace=True)"
   ]
  },
  {
   "cell_type": "code",
   "execution_count": null,
   "metadata": {},
   "outputs": [],
   "source": [
    "from mesostat.utils.pandas_helper import pd_category_to_column"
   ]
  },
  {
   "cell_type": "code",
   "execution_count": null,
   "metadata": {},
   "outputs": [],
   "source": [
    "index = list(set(df.columns) - {'mousename', 'rez'})\n",
    "dfMouse = df.pivot(index=index, columns='mousename', values='rez').reset_index()"
   ]
  },
  {
   "cell_type": "code",
   "execution_count": null,
   "metadata": {
    "scrolled": true
   },
   "outputs": [],
   "source": [
    "dfMouse[dfMouse['datatype'] == 'bn_trial']"
   ]
  },
  {
   "cell_type": "markdown",
   "metadata": {},
   "source": [
    "# Total Correlation"
   ]
  },
  {
   "cell_type": "code",
   "execution_count": null,
   "metadata": {},
   "outputs": [],
   "source": [
    "# bulk_metrics.metric_mouse_bulk(dataDB, mc, ds, \"avg_entropy\", 'sp', 'time-channel', verbose=False)\n",
    "# bulk_metrics.metric_mouse_bulk(dataDB, mc, ds, \"avg_entropy\", 's', 'time', verbose=False)\n",
    "\n",
    "bulk_metrics.metric_mouse_bulk(dataDB, mc, ds, \"avg_TC\", 's', 'time', verbose=False)"
   ]
  },
  {
   "cell_type": "code",
   "execution_count": null,
   "metadata": {
    "scrolled": true
   },
   "outputs": [],
   "source": [
    "bulk_metrics.plot_metric_bulk(dataDB, ds, 'avg_TC', 'time', verbose=True) # ylim=[1,48]"
   ]
  },
  {
   "cell_type": "code",
   "execution_count": null,
   "metadata": {
    "scrolled": true
   },
   "outputs": [],
   "source": [
    "bulk_metrics.plot_TC(dataDB, ds, ylim=None, yscale=None, verbose=True)"
   ]
  },
  {
   "cell_type": "markdown",
   "metadata": {},
   "source": [
    "### Cleaning up"
   ]
  },
  {
   "cell_type": "code",
   "execution_count": null,
   "metadata": {},
   "outputs": [],
   "source": [
    "with pd.option_context('display.max_rows', None, 'display.max_columns', None):\n",
    "    display(ds.list_dsets_pd().sort_values(by='datetime'))"
   ]
  },
  {
   "cell_type": "code",
   "execution_count": null,
   "metadata": {},
   "outputs": [],
   "source": [
    "ds.delete_by_query(queryDict={\"metric\" : \"rank_effective\"}, timestr=\"2020-11-20 18:00:00\")"
   ]
  },
  {
   "cell_type": "markdown",
   "metadata": {},
   "source": [
    "# Time-Continuous"
   ]
  },
  {
   "cell_type": "code",
   "execution_count": null,
   "metadata": {},
   "outputs": [],
   "source": [
    "intervNames = [\"PRE\", \"TEX\", \"DEL\", \"REW\", \"AVG\"]\n",
    "\n",
    "exclQueryLst = [\n",
    "    {'datatype' : 'bn_trial', 'intervName' : 'PRE'},  # Baseline normalized\n",
    "    {'mousename' : 'mou_6', 'intervName' : 'REW'},    # No reward for this mouse\n",
    "    {'mousename' : 'mou_6', 'intervName' : 'AVG'},    # Makes no sense to compare: no reward and longer delay\n",
    "]\n",
    "\n",
    "dataDB."
   ]
  }
 ],
 "metadata": {
  "kernelspec": {
   "display_name": "py3ml",
   "language": "python",
   "name": "py3ml"
  },
  "language_info": {
   "codemirror_mode": {
    "name": "ipython",
    "version": 3
   },
   "file_extension": ".py",
   "mimetype": "text/x-python",
   "name": "python",
   "nbconvert_exporter": "python",
   "pygments_lexer": "ipython3",
   "version": "3.8.5"
  }
 },
 "nbformat": 4,
 "nbformat_minor": 2
}

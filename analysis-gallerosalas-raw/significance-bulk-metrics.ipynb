{
 "cells": [
  {
   "cell_type": "code",
   "execution_count": 12,
   "metadata": {},
   "outputs": [
    {
     "name": "stdout",
     "output_type": "stream",
     "text": [
      "Appended root directory /media/aleksejs/DataHDD/work/codes/comp-neuro/analysis-mesoscopic/pub-2020-exploratory-analysis\n",
      "The autoreload extension is already loaded. To reload it, use:\n",
      "  %reload_ext autoreload\n"
     ]
    }
   ],
   "source": [
    "# Standard libraries\n",
    "import numpy as np\n",
    "import pandas as pd\n",
    "import matplotlib.pyplot as plt\n",
    "from ipywidgets import IntProgress\n",
    "from IPython.display import display\n",
    "from scipy.stats import mannwhitneyu, wilcoxon\n",
    "\n",
    "# Append base directory\n",
    "import os,sys,inspect\n",
    "rootname = \"pub-2020-exploratory-analysis\"\n",
    "thispath = os.getcwd()\n",
    "# thispath = os.path.dirname(os.path.abspath(inspect.getfile(inspect.currentframe())))\n",
    "rootpath = os.path.join(thispath[:thispath.index(rootname)], rootname)\n",
    "sys.path.append(rootpath)\n",
    "print(\"Appended root directory\", rootpath)\n",
    "\n",
    "from mesostat.utils.qt_helper import gui_fnames, gui_fpath\n",
    "from mesostat.metric.metric import MetricCalculator\n",
    "from mesostat.utils.hdf5_io import DataStorage\n",
    "\n",
    "from lib.gallerosalas.data_fc_db_raw import DataFCDatabase\n",
    "from lib.common.metric_helper import calc_metric_mouse, calc_metric_session, calc_metric_mouse_delay\n",
    "import lib.analysis.bulk_metrics as bulk_metrics\n",
    "\n",
    "\n",
    "%load_ext autoreload\n",
    "%autoreload 2"
   ]
  },
  {
   "cell_type": "code",
   "execution_count": 2,
   "metadata": {},
   "outputs": [],
   "source": [
    "params = {}\n",
    "# params['root_path_data']  = gui_fpath(\"Path to data collection\",  './')\n",
    "# params['root_path_data'] = '/media/alyosha/Data/TE_data/yasirdata_raw/'\n",
    "# params['root_path_data'] = '/home/alyosha/data/yasirdata_raw/'\n",
    "params['root_path_data'] = '/media/aleksejs/DataHDD/work/data/yasir/yasirdata_raw'"
   ]
  },
  {
   "cell_type": "code",
   "execution_count": 3,
   "metadata": {},
   "outputs": [
    {
     "name": "stdout",
     "output_type": "stream",
     "text": [
      "Reading channel label file\n",
      "Reading channel area file\n",
      "Reading allen brain map\n",
      "Reading task structure\n",
      "Reading session structure\n",
      "Searching for data files\n",
      "Found mice ['mou_5', 'mou_6', 'mou_7', 'mou_9']\n"
     ]
    }
   ],
   "source": [
    "dataDB = DataFCDatabase(params)"
   ]
  },
  {
   "cell_type": "code",
   "execution_count": 4,
   "metadata": {
    "collapsed": true
   },
   "outputs": [],
   "source": [
    "ds = DataStorage('gallerosalas_bulk_metrics.h5')"
   ]
  },
  {
   "cell_type": "code",
   "execution_count": 5,
   "metadata": {
    "collapsed": true
   },
   "outputs": [],
   "source": [
    "mc = MetricCalculator(serial=True, verbose=False)"
   ]
  },
  {
   "cell_type": "code",
   "execution_count": 6,
   "metadata": {},
   "outputs": [
    {
     "name": "stdout",
     "output_type": "stream",
     "text": [
      "mice {'mou_5', 'mou_6', 'mou_9', 'mou_7'}\n",
      "nSessions 4\n",
      "datatypes ['raw', 'bn_session', 'bn_trial']\n",
      "nChannel 27\n"
     ]
    }
   ],
   "source": [
    "print('mice', dataDB.mice)\n",
    "print('nSessions', len(dataDB.sessions))\n",
    "print('datatypes', dataDB.get_data_types())\n",
    "print('nChannel', dataDB.get_nchannels('mou_5'))"
   ]
  },
  {
   "cell_type": "code",
   "execution_count": 7,
   "metadata": {
    "collapsed": true
   },
   "outputs": [],
   "source": [
    "dataDB.calc_shortest_distances()"
   ]
  },
  {
   "cell_type": "markdown",
   "metadata": {},
   "source": [
    "# Bulk Metrics"
   ]
  },
  {
   "cell_type": "code",
   "execution_count": 8,
   "metadata": {
    "collapsed": true
   },
   "outputs": [],
   "source": [
    "argSweepDictTime = {\n",
    "    'trialType': 'auto',\n",
    "    'datatype': ['bn_trial', 'bn_session']\n",
    "}\n",
    "\n",
    "argSweepDictSession = {\n",
    "    'trialType': 'auto',\n",
    "    'intervName': [\"PRE\", \"TEX\", \"DEL\", \"REW\", \"AVG\"],\n",
    "    'datatype': ['bn_trial', 'bn_session']\n",
    "}"
   ]
  },
  {
   "cell_type": "code",
   "execution_count": 9,
   "metadata": {
    "collapsed": true
   },
   "outputs": [],
   "source": [
    "exclQueryLst = [\n",
    "    {'datatype' : 'bn_trial', 'intervName' : 'PRE'},  # Baseline normalized\n",
    "    {'mousename' : 'mou_6', 'intervName' : 'REW'},    # No reward for this mouse\n",
    "    {'mousename' : 'mou_6', 'intervName' : 'AVG'},    # Makes no sense to compare: no reward and longer delay\n",
    "]"
   ]
  },
  {
   "cell_type": "markdown",
   "metadata": {},
   "source": [
    "## 1. Mean\n",
    "### 1.1. Mean vs time"
   ]
  },
  {
   "cell_type": "code",
   "execution_count": 14,
   "metadata": {
    "scrolled": true
   },
   "outputs": [
    {
     "data": {
      "application/vnd.jupyter.widget-view+json": {
       "model_id": "59110a25393742c1b5e984a66812798b",
       "version_major": 2,
       "version_minor": 0
      },
      "text/plain": [
       "IntProgress(value=0, description='time', max=40)"
      ]
     },
     "metadata": {},
     "output_type": "display_data"
    },
    {
     "name": "stdout",
     "output_type": "stream",
     "text": [
      "{'trialType': 'Hit', 'datatype': 'bn_trial'}\n",
      "-- (1209, 160, 27)\n",
      "{'trialType': 'Hit', 'datatype': 'bn_session'}\n",
      "-- (1209, 160, 27)\n",
      "{'trialType': 'Miss', 'datatype': 'bn_trial'}\n",
      "-- (239, 160, 27)\n",
      "{'trialType': 'Miss', 'datatype': 'bn_session'}\n",
      "-- (239, 160, 27)\n",
      "{'trialType': 'CR', 'datatype': 'bn_trial'}\n",
      "-- (1315, 160, 27)\n",
      "{'trialType': 'CR', 'datatype': 'bn_session'}\n",
      "-- (1315, 160, 27)\n",
      "{'trialType': 'FA', 'datatype': 'bn_trial'}\n",
      "-- (144, 160, 27)\n",
      "{'trialType': 'FA', 'datatype': 'bn_session'}\n",
      "-- (144, 160, 27)\n",
      "{'datatype': 'bn_trial'}\n",
      "Skipping existing time_bn_trial_mou_5_mean_(timesteps,)\n",
      "{'datatype': 'bn_session'}\n",
      "Skipping existing time_bn_session_mou_5_mean_(timesteps,)\n",
      "{'trialType': 'Hit', 'datatype': 'bn_trial'}\n",
      "-- (1724, 160, 27)\n",
      "{'trialType': 'Hit', 'datatype': 'bn_session'}\n",
      "-- (1724, 160, 27)\n",
      "{'trialType': 'Miss', 'datatype': 'bn_trial'}\n",
      "-- (251, 160, 27)\n",
      "{'trialType': 'Miss', 'datatype': 'bn_session'}\n",
      "-- (251, 160, 27)\n",
      "{'trialType': 'CR', 'datatype': 'bn_trial'}\n",
      "-- (1910, 160, 27)\n",
      "{'trialType': 'CR', 'datatype': 'bn_session'}\n",
      "-- (1910, 160, 27)\n",
      "{'trialType': 'FA', 'datatype': 'bn_trial'}\n",
      "-- (91, 160, 27)\n",
      "{'trialType': 'FA', 'datatype': 'bn_session'}\n",
      "-- (91, 160, 27)\n",
      "{'datatype': 'bn_trial'}\n",
      "Skipping existing time_bn_trial_mou_6_mean_(timesteps,)\n",
      "{'datatype': 'bn_session'}\n",
      "Skipping existing time_bn_session_mou_6_mean_(timesteps,)\n",
      "{'trialType': 'Hit', 'datatype': 'bn_trial'}\n",
      "-- (1324, 160, 27)\n",
      "{'trialType': 'Hit', 'datatype': 'bn_session'}\n",
      "-- (1324, 160, 27)\n",
      "{'trialType': 'Miss', 'datatype': 'bn_trial'}\n",
      "-- (145, 160, 27)\n",
      "{'trialType': 'Miss', 'datatype': 'bn_session'}\n",
      "-- (145, 160, 27)\n",
      "{'trialType': 'CR', 'datatype': 'bn_trial'}\n",
      "-- (1307, 160, 27)\n",
      "{'trialType': 'CR', 'datatype': 'bn_session'}\n",
      "-- (1307, 160, 27)\n",
      "{'trialType': 'FA', 'datatype': 'bn_trial'}\n",
      "-- (487, 160, 27)\n",
      "{'trialType': 'FA', 'datatype': 'bn_session'}\n",
      "-- (487, 160, 27)\n",
      "{'datatype': 'bn_trial'}\n",
      "Skipping existing time_bn_trial_mou_7_mean_(timesteps,)\n",
      "{'datatype': 'bn_session'}\n",
      "Skipping existing time_bn_session_mou_7_mean_(timesteps,)\n",
      "{'trialType': 'Hit', 'datatype': 'bn_trial'}\n",
      "-- (1014, 160, 27)\n",
      "{'trialType': 'Hit', 'datatype': 'bn_session'}\n",
      "-- (1014, 160, 27)\n",
      "{'trialType': 'Miss', 'datatype': 'bn_trial'}\n",
      "-- (278, 160, 27)\n",
      "{'trialType': 'Miss', 'datatype': 'bn_session'}\n",
      "-- (278, 160, 27)\n",
      "{'trialType': 'CR', 'datatype': 'bn_trial'}\n",
      "-- (1132, 160, 27)\n",
      "{'trialType': 'CR', 'datatype': 'bn_session'}\n",
      "-- (1132, 160, 27)\n",
      "{'trialType': 'FA', 'datatype': 'bn_trial'}\n",
      "-- (157, 160, 27)\n",
      "{'trialType': 'FA', 'datatype': 'bn_session'}\n",
      "-- (157, 160, 27)\n",
      "{'datatype': 'bn_trial'}\n",
      "Skipping existing time_bn_trial_mou_9_mean_(timesteps,)\n",
      "{'datatype': 'bn_session'}\n",
      "Skipping existing time_bn_session_mou_9_mean_(timesteps,)\n"
     ]
    }
   ],
   "source": [
    "calc_metric_mouse_delay(dataDB, mc, ds, 'mean', 's', 'time', verbose=False, minTrials=10, haveDelay=True,\n",
    "                        skipExisting=False, exclQueryLst=exclQueryLst, **argSweepDictTime)"
   ]
  },
  {
   "cell_type": "code",
   "execution_count": 19,
   "metadata": {
    "scrolled": true
   },
   "outputs": [
    {
     "name": "stdout",
     "output_type": "stream",
     "text": [
      "['mean', 'time', 'mou_5', 'CR', 'bn_session', 'dset5']\n",
      "['mean', 'time', 'mou_6', 'CR', 'bn_session', 'dset13']\n",
      "['mean', 'time', 'mou_7', 'CR', 'bn_session', 'dset21']\n",
      "['mean', 'time', 'mou_9', 'CR', 'bn_session', 'dset29']\n",
      "['mean', 'time', 'mou_5', 'FA', 'bn_session', 'dset7']\n",
      "['mean', 'time', 'mou_6', 'FA', 'bn_session', 'dset15']\n",
      "['mean', 'time', 'mou_7', 'FA', 'bn_session', 'dset23']\n",
      "['mean', 'time', 'mou_9', 'FA', 'bn_session', 'dset31']\n",
      "['mean', 'time', 'mou_5', 'Hit', 'bn_session', 'dset1']\n",
      "['mean', 'time', 'mou_6', 'Hit', 'bn_session', 'dset9']\n",
      "['mean', 'time', 'mou_7', 'Hit', 'bn_session', 'dset17']\n",
      "['mean', 'time', 'mou_9', 'Hit', 'bn_session', 'dset25']\n",
      "['mean', 'time', 'mou_5', 'Miss', 'bn_session', 'dset3']\n",
      "['mean', 'time', 'mou_6', 'Miss', 'bn_session', 'dset11']\n",
      "['mean', 'time', 'mou_7', 'Miss', 'bn_session', 'dset19']\n",
      "['mean', 'time', 'mou_9', 'Miss', 'bn_session', 'dset27']\n",
      "['mean', 'time', 'mou_5', 'CR', 'bn_trial', 'dset4']\n",
      "['mean', 'time', 'mou_6', 'CR', 'bn_trial', 'dset12']\n",
      "['mean', 'time', 'mou_7', 'CR', 'bn_trial', 'dset20']\n",
      "['mean', 'time', 'mou_9', 'CR', 'bn_trial', 'dset28']\n",
      "['mean', 'time', 'mou_5', 'FA', 'bn_trial', 'dset6']\n",
      "['mean', 'time', 'mou_6', 'FA', 'bn_trial', 'dset14']\n",
      "['mean', 'time', 'mou_7', 'FA', 'bn_trial', 'dset22']\n",
      "['mean', 'time', 'mou_9', 'FA', 'bn_trial', 'dset30']\n",
      "['mean', 'time', 'mou_5', 'Hit', 'bn_trial', 'dset0']\n",
      "['mean', 'time', 'mou_6', 'Hit', 'bn_trial', 'dset8']\n",
      "['mean', 'time', 'mou_7', 'Hit', 'bn_trial', 'dset16']\n",
      "['mean', 'time', 'mou_9', 'Hit', 'bn_trial', 'dset24']\n",
      "['mean', 'time', 'mou_5', 'Miss', 'bn_trial', 'dset2']\n",
      "['mean', 'time', 'mou_6', 'Miss', 'bn_trial', 'dset10']\n",
      "['mean', 'time', 'mou_7', 'Miss', 'bn_trial', 'dset18']\n",
      "['mean', 'time', 'mou_9', 'Miss', 'bn_trial', 'dset26']\n"
     ]
    }
   ],
   "source": [
    "# bulk_metrics.plot_metric_bulk(ds, 'mean', 'time', verbose=False, xFunc=lambda m, l: dataDB.get_times())\n",
    "bulk_metrics.plot_metric_bulk_1D(dataDB, ds, 'mean', 'time', verbose=False, haveTimeLabels=True,\n",
    "                                 xFunc=lambda m, l: dataDB.get_times())"
   ]
  },
  {
   "cell_type": "markdown",
   "metadata": {},
   "source": [
    "### 1.2. Mean vs session"
   ]
  },
  {
   "cell_type": "code",
   "execution_count": null,
   "metadata": {
    "scrolled": true
   },
   "outputs": [],
   "source": [
    "calc_metric_session(dataDB, mc, ds, 'mean', '', 'session', verbose=False, minTrials=10,\n",
    "                    skipExisting=False, exclQueryLst=exclQueryLst, **argSweepDictSession)"
   ]
  },
  {
   "cell_type": "code",
   "execution_count": null,
   "metadata": {
    "collapsed": true,
    "scrolled": true
   },
   "outputs": [],
   "source": [
    "bulk_metrics.scatter_metric_bulk(ds, 'mean', 'session', verbose=False, xFunc=None, haveRegression=False)"
   ]
  },
  {
   "cell_type": "markdown",
   "metadata": {},
   "source": [
    "### 1.3 Conditions"
   ]
  },
  {
   "cell_type": "code",
   "execution_count": null,
   "metadata": {
    "scrolled": true
   },
   "outputs": [],
   "source": [
    "bulk_metrics.barplot_conditions(ds, 'mean', 'session', verbose=True,\n",
    "                                trialTypes=['Hit', 'CR'],\n",
    "                                intervNames=dataDB.get_interval_names())"
   ]
  },
  {
   "cell_type": "markdown",
   "metadata": {},
   "source": [
    "## 2. Variance\n",
    "\n",
    "**TODO**\n",
    "* Plot trial variance relative to temporal variance\n",
    "* Plot mean with variance together\n",
    "\n",
    "### Pros/Cons of Baseline Normalization\n",
    "* DFF-Trial\n",
    "    - Pos: Removes dynamic baseline changing on the order of trials.\n",
    "    - Pos: Under assumption of signal-free pre-trial interval, baseline removal enhances relative change in significant activity during trial.\n",
    "    - Neg: In presence of correlation between pre-trial interval and trial signals, this procedure destroys information during trial.\n",
    "\n",
    "* DFF-Session vs ZScore-Session\n",
    "    - Both linear transforms\n",
    "    - Mean is more meaningful for DFF if pre-trial interval is at least somewhat stable\n",
    "    - Va"
   ]
  },
  {
   "cell_type": "code",
   "execution_count": 26,
   "metadata": {
    "scrolled": true
   },
   "outputs": [
    {
     "data": {
      "application/vnd.jupyter.widget-view+json": {
       "model_id": "ef8d9e55d5534f4c80d0a966cbe0edea",
       "version_major": 2,
       "version_minor": 0
      },
      "text/plain": [
       "IntProgress(value=0, description='time', max=40)"
      ]
     },
     "metadata": {},
     "output_type": "display_data"
    },
    {
     "name": "stdout",
     "output_type": "stream",
     "text": [
      "{'trialType': 'Hit', 'datatype': 'bn_trial'}\n",
      "Skipping existing time_Hit_bn_trial_mou_5_varmean_(timesteps,)\n",
      "{'trialType': 'Hit', 'datatype': 'bn_session'}\n",
      "Skipping existing time_Hit_bn_session_mou_5_varmean_(timesteps,)\n",
      "{'trialType': 'Miss', 'datatype': 'bn_trial'}\n",
      "Skipping existing time_Miss_bn_trial_mou_5_varmean_(timesteps,)\n",
      "{'trialType': 'Miss', 'datatype': 'bn_session'}\n",
      "Skipping existing time_Miss_bn_session_mou_5_varmean_(timesteps,)\n",
      "{'trialType': 'CR', 'datatype': 'bn_trial'}\n",
      "Skipping existing time_CR_bn_trial_mou_5_varmean_(timesteps,)\n",
      "{'trialType': 'CR', 'datatype': 'bn_session'}\n",
      "Skipping existing time_CR_bn_session_mou_5_varmean_(timesteps,)\n",
      "{'trialType': 'FA', 'datatype': 'bn_trial'}\n",
      "Skipping existing time_FA_bn_trial_mou_5_varmean_(timesteps,)\n",
      "{'trialType': 'FA', 'datatype': 'bn_session'}\n",
      "Skipping existing time_FA_bn_session_mou_5_varmean_(timesteps,)\n",
      "{'datatype': 'bn_trial'}\n",
      "Skipping existing time_bn_trial_mou_5_varmean_(timesteps,)\n",
      "{'datatype': 'bn_session'}\n",
      "Skipping existing time_bn_session_mou_5_varmean_(timesteps,)\n",
      "{'trialType': 'Hit', 'datatype': 'bn_trial'}\n",
      "Skipping existing time_Hit_bn_trial_mou_6_varmean_(timesteps,)\n",
      "{'trialType': 'Hit', 'datatype': 'bn_session'}\n",
      "Skipping existing time_Hit_bn_session_mou_6_varmean_(timesteps,)\n",
      "{'trialType': 'Miss', 'datatype': 'bn_trial'}\n",
      "Skipping existing time_Miss_bn_trial_mou_6_varmean_(timesteps,)\n",
      "{'trialType': 'Miss', 'datatype': 'bn_session'}\n",
      "Skipping existing time_Miss_bn_session_mou_6_varmean_(timesteps,)\n",
      "{'trialType': 'CR', 'datatype': 'bn_trial'}\n",
      "Skipping existing time_CR_bn_trial_mou_6_varmean_(timesteps,)\n",
      "{'trialType': 'CR', 'datatype': 'bn_session'}\n",
      "Skipping existing time_CR_bn_session_mou_6_varmean_(timesteps,)\n",
      "{'trialType': 'FA', 'datatype': 'bn_trial'}\n",
      "Skipping existing time_FA_bn_trial_mou_6_varmean_(timesteps,)\n",
      "{'trialType': 'FA', 'datatype': 'bn_session'}\n",
      "Skipping existing time_FA_bn_session_mou_6_varmean_(timesteps,)\n",
      "{'datatype': 'bn_trial'}\n",
      "Skipping existing time_bn_trial_mou_6_varmean_(timesteps,)\n",
      "{'datatype': 'bn_session'}\n",
      "Skipping existing time_bn_session_mou_6_varmean_(timesteps,)\n",
      "{'trialType': 'Hit', 'datatype': 'bn_trial'}\n",
      "Skipping existing time_Hit_bn_trial_mou_7_varmean_(timesteps,)\n",
      "{'trialType': 'Hit', 'datatype': 'bn_session'}\n",
      "Skipping existing time_Hit_bn_session_mou_7_varmean_(timesteps,)\n",
      "{'trialType': 'Miss', 'datatype': 'bn_trial'}\n",
      "Skipping existing time_Miss_bn_trial_mou_7_varmean_(timesteps,)\n",
      "{'trialType': 'Miss', 'datatype': 'bn_session'}\n",
      "Skipping existing time_Miss_bn_session_mou_7_varmean_(timesteps,)\n",
      "{'trialType': 'CR', 'datatype': 'bn_trial'}\n",
      "Skipping existing time_CR_bn_trial_mou_7_varmean_(timesteps,)\n",
      "{'trialType': 'CR', 'datatype': 'bn_session'}\n",
      "Skipping existing time_CR_bn_session_mou_7_varmean_(timesteps,)\n",
      "{'trialType': 'FA', 'datatype': 'bn_trial'}\n",
      "Skipping existing time_FA_bn_trial_mou_7_varmean_(timesteps,)\n",
      "{'trialType': 'FA', 'datatype': 'bn_session'}\n",
      "Skipping existing time_FA_bn_session_mou_7_varmean_(timesteps,)\n",
      "{'datatype': 'bn_trial'}\n",
      "Skipping existing time_bn_trial_mou_7_varmean_(timesteps,)\n",
      "{'datatype': 'bn_session'}\n",
      "Skipping existing time_bn_session_mou_7_varmean_(timesteps,)\n",
      "{'trialType': 'Hit', 'datatype': 'bn_trial'}\n",
      "Skipping existing time_Hit_bn_trial_mou_9_varmean_(timesteps,)\n",
      "{'trialType': 'Hit', 'datatype': 'bn_session'}\n",
      "Skipping existing time_Hit_bn_session_mou_9_varmean_(timesteps,)\n",
      "{'trialType': 'Miss', 'datatype': 'bn_trial'}\n",
      "Skipping existing time_Miss_bn_trial_mou_9_varmean_(timesteps,)\n",
      "{'trialType': 'Miss', 'datatype': 'bn_session'}\n",
      "Skipping existing time_Miss_bn_session_mou_9_varmean_(timesteps,)\n",
      "{'trialType': 'CR', 'datatype': 'bn_trial'}\n",
      "Skipping existing time_CR_bn_trial_mou_9_varmean_(timesteps,)\n",
      "{'trialType': 'CR', 'datatype': 'bn_session'}\n",
      "Skipping existing time_CR_bn_session_mou_9_varmean_(timesteps,)\n",
      "{'trialType': 'FA', 'datatype': 'bn_trial'}\n",
      "Skipping existing time_FA_bn_trial_mou_9_varmean_(timesteps,)\n",
      "{'trialType': 'FA', 'datatype': 'bn_session'}\n",
      "Skipping existing time_FA_bn_session_mou_9_varmean_(timesteps,)\n",
      "{'datatype': 'bn_trial'}\n",
      "Skipping existing time_bn_trial_mou_9_varmean_(timesteps,)\n",
      "{'datatype': 'bn_session'}\n",
      "Skipping existing time_bn_session_mou_9_varmean_(timesteps,)\n"
     ]
    }
   ],
   "source": [
    "calc_metric_mouse_delay(dataDB, mc, ds, 'varmean', 's', 'time', verbose=False, minTrials=30, haveDelay=True,\n",
    "                  skipExisting=False, exclQueryLst=exclQueryLst, **argSweepDictTime)"
   ]
  },
  {
   "cell_type": "code",
   "execution_count": 27,
   "metadata": {
    "scrolled": true
   },
   "outputs": [
    {
     "name": "stdout",
     "output_type": "stream",
     "text": [
      "['varmean', 'time', 'mou_5', 'CR', 'bn_session', 'dset37']\n",
      "['varmean', 'time', 'mou_6', 'CR', 'bn_session', 'dset45']\n",
      "['varmean', 'time', 'mou_7', 'CR', 'bn_session', 'dset53']\n",
      "['varmean', 'time', 'mou_9', 'CR', 'bn_session', 'dset61']\n",
      "['varmean', 'time', 'mou_5', 'FA', 'bn_session', 'dset39']\n",
      "['varmean', 'time', 'mou_6', 'FA', 'bn_session', 'dset47']\n",
      "['varmean', 'time', 'mou_7', 'FA', 'bn_session', 'dset55']\n",
      "['varmean', 'time', 'mou_9', 'FA', 'bn_session', 'dset63']\n",
      "['varmean', 'time', 'mou_5', 'Hit', 'bn_session', 'dset33']\n",
      "['varmean', 'time', 'mou_6', 'Hit', 'bn_session', 'dset41']\n",
      "['varmean', 'time', 'mou_7', 'Hit', 'bn_session', 'dset49']\n",
      "['varmean', 'time', 'mou_9', 'Hit', 'bn_session', 'dset57']\n",
      "['varmean', 'time', 'mou_5', 'Miss', 'bn_session', 'dset35']\n",
      "['varmean', 'time', 'mou_6', 'Miss', 'bn_session', 'dset43']\n",
      "['varmean', 'time', 'mou_7', 'Miss', 'bn_session', 'dset51']\n",
      "['varmean', 'time', 'mou_9', 'Miss', 'bn_session', 'dset59']\n",
      "['varmean', 'time', 'mou_5', 'CR', 'bn_trial', 'dset36']\n",
      "['varmean', 'time', 'mou_6', 'CR', 'bn_trial', 'dset44']\n",
      "['varmean', 'time', 'mou_7', 'CR', 'bn_trial', 'dset52']\n",
      "['varmean', 'time', 'mou_9', 'CR', 'bn_trial', 'dset60']\n",
      "['varmean', 'time', 'mou_5', 'FA', 'bn_trial', 'dset38']\n",
      "['varmean', 'time', 'mou_6', 'FA', 'bn_trial', 'dset46']\n",
      "['varmean', 'time', 'mou_7', 'FA', 'bn_trial', 'dset54']\n",
      "['varmean', 'time', 'mou_9', 'FA', 'bn_trial', 'dset62']\n",
      "['varmean', 'time', 'mou_5', 'Hit', 'bn_trial', 'dset32']\n",
      "['varmean', 'time', 'mou_6', 'Hit', 'bn_trial', 'dset40']\n",
      "['varmean', 'time', 'mou_7', 'Hit', 'bn_trial', 'dset48']\n",
      "['varmean', 'time', 'mou_9', 'Hit', 'bn_trial', 'dset56']\n",
      "['varmean', 'time', 'mou_5', 'Miss', 'bn_trial', 'dset34']\n",
      "['varmean', 'time', 'mou_6', 'Miss', 'bn_trial', 'dset42']\n",
      "['varmean', 'time', 'mou_7', 'Miss', 'bn_trial', 'dset50']\n",
      "['varmean', 'time', 'mou_9', 'Miss', 'bn_trial', 'dset58']\n"
     ]
    }
   ],
   "source": [
    "bulk_metrics.plot_metric_bulk_1D(dataDB, ds, 'varmean', 'time', verbose=False, haveTimeLabels=True,\n",
    "                                 ylim=[0,None], xFunc=lambda m, l: dataDB.get_times())"
   ]
  },
  {
   "cell_type": "markdown",
   "metadata": {},
   "source": [
    "### Session"
   ]
  },
  {
   "cell_type": "code",
   "execution_count": null,
   "metadata": {
    "scrolled": true
   },
   "outputs": [],
   "source": [
    "calc_metric_session(dataDB, mc, ds, 'varmean', '', 'session', verbose=False, minTrials=30,\n",
    "                    skipExisting=False, exclQueryLst=exclQueryLst, **argSweepDictSession)"
   ]
  },
  {
   "cell_type": "code",
   "execution_count": null,
   "metadata": {
    "scrolled": true
   },
   "outputs": [],
   "source": [
    "bulk_metrics.scatter_metric_bulk(ds, 'varmean', 'session', verbose=False, xFunc=None, haveRegression=False)"
   ]
  },
  {
   "cell_type": "markdown",
   "metadata": {},
   "source": [
    "### Conditions"
   ]
  },
  {
   "cell_type": "code",
   "execution_count": null,
   "metadata": {
    "scrolled": true
   },
   "outputs": [],
   "source": [
    "bulk_metrics.barplot_conditions(ds, 'varmean', 'session',\n",
    "                                verbose=True,\n",
    "                                trialTypes=['Hit', 'CR'],\n",
    "                                intervNames=['PRE', 'DEL', 'TEX', 'REW'])"
   ]
  },
  {
   "cell_type": "markdown",
   "metadata": {},
   "source": [
    "### Test variance across channels for interesting interval\n",
    "\n",
    "* Average signal over texture presentation interval\n",
    "* Compute variance over trials for each channel\n",
    "* Compare channels"
   ]
  },
  {
   "cell_type": "code",
   "execution_count": null,
   "metadata": {
    "collapsed": true
   },
   "outputs": [],
   "source": [
    "calc_metric_mouse(dataDB, mc, ds, 'varmean', 'p', 'channel', verbose=False, minTrials=30,\n",
    "                  skipExisting=False, exclQueryLst=exclQueryLst, **argSweepDict)"
   ]
  },
  {
   "cell_type": "code",
   "execution_count": null,
   "metadata": {
    "collapsed": true,
    "scrolled": true
   },
   "outputs": [],
   "source": [
    "bulk_metrics.plot_metric_bulk(ds, 'varmean', 'channel', yscale='log', verbose=False) # ylim=[0.005,2], dropCols=['cropTime']"
   ]
  },
  {
   "cell_type": "markdown",
   "metadata": {
    "collapsed": true
   },
   "source": [
    "# 3. Effective Rank\n",
    "\n",
    "### ByTime"
   ]
  },
  {
   "cell_type": "code",
   "execution_count": 28,
   "metadata": {
    "scrolled": true
   },
   "outputs": [
    {
     "data": {
      "application/vnd.jupyter.widget-view+json": {
       "model_id": "d79139fae3ff42cab068a8d5ff3bc9f0",
       "version_major": 2,
       "version_minor": 0
      },
      "text/plain": [
       "IntProgress(value=0, description='time', max=40)"
      ]
     },
     "metadata": {},
     "output_type": "display_data"
    },
    {
     "name": "stdout",
     "output_type": "stream",
     "text": [
      "{'trialType': 'Hit', 'datatype': 'bn_trial'}\n",
      "Skipping existing time_Hit_bn_trial_mou_5_rank_effective_(timesteps,)\n",
      "{'trialType': 'Hit', 'datatype': 'bn_session'}\n",
      "Skipping existing time_Hit_bn_session_mou_5_rank_effective_(timesteps,)\n",
      "{'trialType': 'Miss', 'datatype': 'bn_trial'}\n",
      "Skipping existing time_Miss_bn_trial_mou_5_rank_effective_(timesteps,)\n",
      "{'trialType': 'Miss', 'datatype': 'bn_session'}\n",
      "Skipping existing time_Miss_bn_session_mou_5_rank_effective_(timesteps,)\n",
      "{'trialType': 'CR', 'datatype': 'bn_trial'}\n",
      "Skipping existing time_CR_bn_trial_mou_5_rank_effective_(timesteps,)\n",
      "{'trialType': 'CR', 'datatype': 'bn_session'}\n",
      "Skipping existing time_CR_bn_session_mou_5_rank_effective_(timesteps,)\n",
      "{'trialType': 'FA', 'datatype': 'bn_trial'}\n",
      "Skipping existing time_FA_bn_trial_mou_5_rank_effective_(timesteps,)\n",
      "{'trialType': 'FA', 'datatype': 'bn_session'}\n",
      "Skipping existing time_FA_bn_session_mou_5_rank_effective_(timesteps,)\n",
      "{'datatype': 'bn_trial'}\n",
      "Skipping existing time_bn_trial_mou_5_rank_effective_(timesteps,)\n",
      "{'datatype': 'bn_session'}\n",
      "Skipping existing time_bn_session_mou_5_rank_effective_(timesteps,)\n",
      "{'trialType': 'Hit', 'datatype': 'bn_trial'}\n",
      "Skipping existing time_Hit_bn_trial_mou_6_rank_effective_(timesteps,)\n",
      "{'trialType': 'Hit', 'datatype': 'bn_session'}\n",
      "Skipping existing time_Hit_bn_session_mou_6_rank_effective_(timesteps,)\n",
      "{'trialType': 'Miss', 'datatype': 'bn_trial'}\n",
      "Skipping existing time_Miss_bn_trial_mou_6_rank_effective_(timesteps,)\n",
      "{'trialType': 'Miss', 'datatype': 'bn_session'}\n",
      "Skipping existing time_Miss_bn_session_mou_6_rank_effective_(timesteps,)\n",
      "{'trialType': 'CR', 'datatype': 'bn_trial'}\n",
      "Skipping existing time_CR_bn_trial_mou_6_rank_effective_(timesteps,)\n",
      "{'trialType': 'CR', 'datatype': 'bn_session'}\n",
      "Skipping existing time_CR_bn_session_mou_6_rank_effective_(timesteps,)\n",
      "{'trialType': 'FA', 'datatype': 'bn_trial'}\n",
      "-- (91, 160, 27)\n",
      "Attempted to estimate correlation for shape with too few samples (27, 12)\n",
      "Attempted to estimate correlation for shape with too few samples (27, 12)\n",
      "Attempted to estimate correlation for shape with too few samples (27, 12)\n",
      "Attempted to estimate correlation for shape with too few samples (27, 12)\n",
      "Attempted to estimate correlation for shape with too few samples (27, 12)\n",
      "Attempted to estimate correlation for shape with too few samples (27, 12)\n",
      "Attempted to estimate correlation for shape with too few samples (27, 12)\n",
      "Attempted to estimate correlation for shape with too few samples (27, 12)\n",
      "Attempted to estimate correlation for shape with too few samples (27, 12)\n",
      "Attempted to estimate correlation for shape with too few samples (27, 12)\n",
      "Attempted to estimate correlation for shape with too few samples (27, 12)\n",
      "Attempted to estimate correlation for shape with too few samples (27, 12)\n",
      "Attempted to estimate correlation for shape with too few samples (27, 12)\n",
      "Attempted to estimate correlation for shape with too few samples (27, 12)\n",
      "Attempted to estimate correlation for shape with too few samples (27, 12)\n",
      "Attempted to estimate correlation for shape with too few samples (27, 12)\n",
      "{'trialType': 'FA', 'datatype': 'bn_session'}\n",
      "-- (91, 160, 27)\n",
      "Attempted to estimate correlation for shape with too few samples (27, 12)\n",
      "Attempted to estimate correlation for shape with too few samples (27, 12)\n",
      "Attempted to estimate correlation for shape with too few samples (27, 12)\n",
      "Attempted to estimate correlation for shape with too few samples (27, 12)\n",
      "Attempted to estimate correlation for shape with too few samples (27, 12)\n",
      "Attempted to estimate correlation for shape with too few samples (27, 12)\n",
      "Attempted to estimate correlation for shape with too few samples (27, 12)\n",
      "Attempted to estimate correlation for shape with too few samples (27, 12)\n",
      "Attempted to estimate correlation for shape with too few samples (27, 12)\n",
      "Attempted to estimate correlation for shape with too few samples (27, 12)\n",
      "Attempted to estimate correlation for shape with too few samples (27, 12)\n",
      "Attempted to estimate correlation for shape with too few samples (27, 12)\n",
      "Attempted to estimate correlation for shape with too few samples (27, 12)\n",
      "Attempted to estimate correlation for shape with too few samples (27, 12)\n",
      "Attempted to estimate correlation for shape with too few samples (27, 12)\n",
      "Attempted to estimate correlation for shape with too few samples (27, 12)\n",
      "{'datatype': 'bn_trial'}\n",
      "Skipping existing time_bn_trial_mou_6_rank_effective_(timesteps,)\n",
      "{'datatype': 'bn_session'}\n",
      "Skipping existing time_bn_session_mou_6_rank_effective_(timesteps,)\n",
      "{'trialType': 'Hit', 'datatype': 'bn_trial'}\n",
      "-- (1324, 160, 27)\n",
      "{'trialType': 'Hit', 'datatype': 'bn_session'}\n",
      "-- (1324, 160, 27)\n",
      "{'trialType': 'Miss', 'datatype': 'bn_trial'}\n",
      "-- (145, 160, 27)\n",
      "{'trialType': 'Miss', 'datatype': 'bn_session'}\n",
      "-- (145, 160, 27)\n",
      "{'trialType': 'CR', 'datatype': 'bn_trial'}\n",
      "-- (1307, 160, 27)\n",
      "{'trialType': 'CR', 'datatype': 'bn_session'}\n",
      "-- (1307, 160, 27)\n",
      "{'trialType': 'FA', 'datatype': 'bn_trial'}\n",
      "-- (487, 160, 27)\n",
      "{'trialType': 'FA', 'datatype': 'bn_session'}\n",
      "-- (487, 160, 27)\n",
      "{'datatype': 'bn_trial'}\n",
      "Skipping existing time_bn_trial_mou_7_rank_effective_(timesteps,)\n",
      "{'datatype': 'bn_session'}\n",
      "Skipping existing time_bn_session_mou_7_rank_effective_(timesteps,)\n",
      "{'trialType': 'Hit', 'datatype': 'bn_trial'}\n",
      "-- (1014, 160, 27)\n",
      "{'trialType': 'Hit', 'datatype': 'bn_session'}\n",
      "-- (1014, 160, 27)\n",
      "{'trialType': 'Miss', 'datatype': 'bn_trial'}\n",
      "-- (278, 160, 27)\n",
      "{'trialType': 'Miss', 'datatype': 'bn_session'}\n",
      "-- (278, 160, 27)\n",
      "{'trialType': 'CR', 'datatype': 'bn_trial'}\n",
      "-- (1132, 160, 27)\n",
      "{'trialType': 'CR', 'datatype': 'bn_session'}\n",
      "-- (1132, 160, 27)\n",
      "{'trialType': 'FA', 'datatype': 'bn_trial'}\n",
      "-- (157, 160, 27)\n",
      "{'trialType': 'FA', 'datatype': 'bn_session'}\n",
      "-- (157, 160, 27)\n",
      "{'datatype': 'bn_trial'}\n",
      "Skipping existing time_bn_trial_mou_9_rank_effective_(timesteps,)\n",
      "{'datatype': 'bn_session'}\n",
      "Skipping existing time_bn_session_mou_9_rank_effective_(timesteps,)\n"
     ]
    }
   ],
   "source": [
    "calc_metric_mouse_delay(dataDB, mc, ds, 'rank_effective', 's', 'time', verbose=False, minTrials=50,\n",
    "                        metricSettings={'allowBadData': True}, haveDelay=True, skipExisting=False,\n",
    "                        exclQueryLst=exclQueryLst, **argSweepDictTime)"
   ]
  },
  {
   "cell_type": "code",
   "execution_count": 29,
   "metadata": {
    "scrolled": true
   },
   "outputs": [
    {
     "name": "stdout",
     "output_type": "stream",
     "text": [
      "['rank_effective', 'time', 'mou_5', 'CR', 'bn_session', 'dset69']\n",
      "['rank_effective', 'time', 'mou_6', 'CR', 'bn_session', 'dset77']\n",
      "['rank_effective', 'time', 'mou_7', 'CR', 'bn_session', 'dset85']\n",
      "['rank_effective', 'time', 'mou_9', 'CR', 'bn_session', 'dset93']\n",
      "['rank_effective', 'time', 'mou_5', 'FA', 'bn_session', 'dset71']\n",
      "['rank_effective', 'time', 'mou_6', 'FA', 'bn_session', 'dset79']\n",
      "['rank_effective', 'time', 'mou_7', 'FA', 'bn_session', 'dset87']\n",
      "['rank_effective', 'time', 'mou_9', 'FA', 'bn_session', 'dset95']\n",
      "['rank_effective', 'time', 'mou_5', 'Hit', 'bn_session', 'dset65']\n",
      "['rank_effective', 'time', 'mou_6', 'Hit', 'bn_session', 'dset73']\n",
      "['rank_effective', 'time', 'mou_7', 'Hit', 'bn_session', 'dset81']\n",
      "['rank_effective', 'time', 'mou_9', 'Hit', 'bn_session', 'dset89']\n",
      "['rank_effective', 'time', 'mou_5', 'Miss', 'bn_session', 'dset67']\n",
      "['rank_effective', 'time', 'mou_6', 'Miss', 'bn_session', 'dset75']\n",
      "['rank_effective', 'time', 'mou_7', 'Miss', 'bn_session', 'dset83']\n",
      "['rank_effective', 'time', 'mou_9', 'Miss', 'bn_session', 'dset91']\n",
      "['rank_effective', 'time', 'mou_5', 'CR', 'bn_trial', 'dset68']\n",
      "['rank_effective', 'time', 'mou_6', 'CR', 'bn_trial', 'dset76']\n",
      "['rank_effective', 'time', 'mou_7', 'CR', 'bn_trial', 'dset84']\n",
      "['rank_effective', 'time', 'mou_9', 'CR', 'bn_trial', 'dset92']\n",
      "['rank_effective', 'time', 'mou_5', 'FA', 'bn_trial', 'dset70']\n",
      "['rank_effective', 'time', 'mou_6', 'FA', 'bn_trial', 'dset78']\n",
      "['rank_effective', 'time', 'mou_7', 'FA', 'bn_trial', 'dset86']\n",
      "['rank_effective', 'time', 'mou_9', 'FA', 'bn_trial', 'dset94']\n",
      "['rank_effective', 'time', 'mou_5', 'Hit', 'bn_trial', 'dset64']\n",
      "['rank_effective', 'time', 'mou_6', 'Hit', 'bn_trial', 'dset72']\n",
      "['rank_effective', 'time', 'mou_7', 'Hit', 'bn_trial', 'dset80']\n",
      "['rank_effective', 'time', 'mou_9', 'Hit', 'bn_trial', 'dset88']\n",
      "['rank_effective', 'time', 'mou_5', 'Miss', 'bn_trial', 'dset66']\n",
      "['rank_effective', 'time', 'mou_6', 'Miss', 'bn_trial', 'dset74']\n",
      "['rank_effective', 'time', 'mou_7', 'Miss', 'bn_trial', 'dset82']\n",
      "['rank_effective', 'time', 'mou_9', 'Miss', 'bn_trial', 'dset90']\n"
     ]
    }
   ],
   "source": [
    "bulk_metrics.plot_metric_bulk_1D(dataDB, ds, 'rank_effective', 'time', verbose=False, haveTimeLabels=True,\n",
    "                                 ylim=[1,None], xFunc=lambda m, l: dataDB.get_times())"
   ]
  },
  {
   "cell_type": "markdown",
   "metadata": {},
   "source": [
    "### BySession"
   ]
  },
  {
   "cell_type": "code",
   "execution_count": null,
   "metadata": {
    "scrolled": true
   },
   "outputs": [],
   "source": [
    "calc_metric_session(dataDB, mc, ds, 'rank_effective', '', 'session',\n",
    "                    verbose=False, minTrials=30,\n",
    "                    skipExisting=False,\n",
    "                    exclQueryLst=exclQueryLst,\n",
    "                    **argSweepDictSession)  # trialTypeNames=[None, 'Hit', 'CR'],"
   ]
  },
  {
   "cell_type": "code",
   "execution_count": null,
   "metadata": {
    "collapsed": true,
    "scrolled": true
   },
   "outputs": [],
   "source": [
    "bulk_metrics.scatter_metric_bulk(ds, 'rank_effective', 'session', ylim=[1, None], verbose=False,\n",
    "                                 xFunc=None, haveRegression=False)"
   ]
  },
  {
   "cell_type": "markdown",
   "metadata": {},
   "source": [
    "### Conditions"
   ]
  },
  {
   "cell_type": "code",
   "execution_count": null,
   "metadata": {},
   "outputs": [],
   "source": [
    "bulk_metrics.barplot_conditions(ds, 'rank_effective', 'session',\n",
    "                                verbose=True, trialTypes=['Hit', 'CR'],\n",
    "                                intervNames=dataDB.get_interval_names())"
   ]
  },
  {
   "cell_type": "markdown",
   "metadata": {},
   "source": [
    "# Total Correlation"
   ]
  },
  {
   "cell_type": "code",
   "execution_count": null,
   "metadata": {
    "collapsed": true
   },
   "outputs": [],
   "source": [
    "# bulk_metrics.metric_mouse_bulk(dataDB, mc, ds, \"avg_entropy\", 'sp', 'time-channel', verbose=False)\n",
    "# bulk_metrics.metric_mouse_bulk(dataDB, mc, ds, \"avg_entropy\", 's', 'time', verbose=False)\n",
    "\n",
    "bulk_metrics.metric_mouse_bulk(dataDB, mc, ds, \"avg_TC\", 's', 'time', verbose=False)"
   ]
  },
  {
   "cell_type": "code",
   "execution_count": null,
   "metadata": {
    "collapsed": true,
    "scrolled": true
   },
   "outputs": [],
   "source": [
    "bulk_metrics.plot_metric_bulk(dataDB, ds, 'avg_TC', 'time', verbose=True) # ylim=[1,48]"
   ]
  },
  {
   "cell_type": "code",
   "execution_count": null,
   "metadata": {
    "collapsed": true,
    "scrolled": true
   },
   "outputs": [],
   "source": [
    "bulk_metrics.plot_TC(dataDB, ds, ylim=None, yscale=None, verbose=True)"
   ]
  },
  {
   "cell_type": "markdown",
   "metadata": {},
   "source": [
    "### Cleaning up"
   ]
  },
  {
   "cell_type": "code",
   "execution_count": null,
   "metadata": {
    "collapsed": true
   },
   "outputs": [],
   "source": [
    "with pd.option_context('display.max_rows', None, 'display.max_columns', None):\n",
    "    display(ds.list_dsets_pd().sort_values(by='datetime'))"
   ]
  },
  {
   "cell_type": "code",
   "execution_count": null,
   "metadata": {
    "collapsed": true
   },
   "outputs": [],
   "source": [
    "ds.delete_by_query(queryDict={\"metric\" : \"rank_effective\"}, timestr=\"2020-11-20 18:00:00\")"
   ]
  }
 ],
 "metadata": {
  "kernelspec": {
   "display_name": "Py3QT5",
   "language": "python",
   "name": "py3qt5"
  },
  "language_info": {
   "codemirror_mode": {
    "name": "ipython",
    "version": 3
   },
   "file_extension": ".py",
   "mimetype": "text/x-python",
   "name": "python",
   "nbconvert_exporter": "python",
   "pygments_lexer": "ipython3",
   "version": "3.8.5"
  }
 },
 "nbformat": 4,
 "nbformat_minor": 2
}

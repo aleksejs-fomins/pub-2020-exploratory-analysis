{
 "cells": [
  {
   "cell_type": "code",
   "execution_count": null,
   "metadata": {},
   "outputs": [],
   "source": [
    "# Standard libraries\n",
    "import numpy as np\n",
    "import pandas as pd\n",
    "import matplotlib.pyplot as plt\n",
    "from ipywidgets import IntProgress\n",
    "from IPython.display import display\n",
    "\n",
    "# Append base directory\n",
    "import os,sys,inspect\n",
    "rootname = \"pub-2020-exploratory-analysis\"\n",
    "thispath = os.path.dirname(os.path.abspath(inspect.getfile(inspect.currentframe())))\n",
    "rootpath = os.path.join(thispath[:thispath.index(rootname)], rootname)\n",
    "sys.path.append(rootpath)\n",
    "print(\"Appended root directory\", rootpath)\n",
    "\n",
    "from mesostat.metric.metric import MetricCalculator\n",
    "from mesostat.utils.qt_helper import gui_fname, gui_fnames, gui_fpath\n",
    "from mesostat.utils.hdf5_io import DataStorage\n",
    "\n",
    "from lib.gallerosalas.data_fc_db_raw import DataFCDatabase\n",
    "import lib.analysis.pid as pid\n",
    "\n",
    "%load_ext autoreload\n",
    "%autoreload 2"
   ]
  },
  {
   "cell_type": "code",
   "execution_count": null,
   "metadata": {},
   "outputs": [],
   "source": [
    "params = {}\n",
    "# params['root_path_data']  = gui_fpath(\"Path to data collection\",  './')\n",
    "params['root_path_data'] = '/media/alyosha/Data/TE_data/yasirdata_raw/'"
   ]
  },
  {
   "cell_type": "code",
   "execution_count": null,
   "metadata": {},
   "outputs": [],
   "source": [
    "dataDB = DataFCDatabase(params)"
   ]
  },
  {
   "cell_type": "code",
   "execution_count": null,
   "metadata": {},
   "outputs": [],
   "source": [
    "dataDB.calc_shortest_distances()"
   ]
  },
  {
   "cell_type": "code",
   "execution_count": null,
   "metadata": {},
   "outputs": [],
   "source": [
    "print('mice', dataDB.mice)\n",
    "print('nSessions', len(dataDB.sessions))\n",
    "print('datatypes', dataDB.get_data_types())\n",
    "print('nChannel', dataDB.get_nchannels('mou_5'))"
   ]
  },
  {
   "cell_type": "code",
   "execution_count": null,
   "metadata": {},
   "outputs": [],
   "source": [
    "h5outname = 'gallerosalas_result_higher_order_df.h5'"
   ]
  },
  {
   "cell_type": "code",
   "execution_count": null,
   "metadata": {
    "scrolled": true
   },
   "outputs": [],
   "source": [
    "mc = MetricCalculator(serial=False, verbose=False, nCore=4)"
   ]
  },
  {
   "cell_type": "markdown",
   "metadata": {},
   "source": [
    "# TODO\n",
    "    \n",
    "Hypothesis - Chain inhibition should increase synergy\n",
    "* Cpu -> iGP/GP/eGP -> VM/VL\n",
    "\n",
    "Performance-depencence\n",
    "* Session-wise changes of redundancy/synergy as function of performance\n",
    "* Movement-correlations of synergy/redundancy\n",
    "    - Lick\n",
    "    - Integral movement"
   ]
  },
  {
   "cell_type": "markdown",
   "metadata": {},
   "source": [
    "# Hypotheses"
   ]
  },
  {
   "cell_type": "markdown",
   "metadata": {},
   "source": [
    "# All-Distribution\n",
    "\n",
    "**TODO**:\n",
    "* [] Drop shitty sessions\n",
    "* [] Try composite p-values\n",
    "* [] For Info3D, drop PCA1\n",
    "* [] Consider re-doing analysis with PCA1 dropped\n",
    "* Fraction Significant triplets per session\n",
    "    * [+] Do regression on PID instead of Naive vs Expert\n",
    "    * [ ] Binomial test fraction significant PID's above chance\n",
    "    * [ ] Test if regression explained by having more iGO trials in expert\n",
    "* Most significant triplets\n",
    "    * [ ] Fraction Significant Sessions bymouse\n",
    "        - For each triplet, find fraction of sessions it is significant in\n",
    "        - Sorted 1D plot\n",
    "        - Drop non-significant\n",
    "        - Extract labels for top 10\n",
    "    * [ ] Fraction Significant Sessions concat\n",
    "        - Same as above, but for all mice\n",
    "        - Sort by all mice\n",
    "        - Concat barplot/1Dplot, mice with different colors\n",
    "    * [ ] Plot pvalue vs performance for top10 sessions"
   ]
  },
  {
   "cell_type": "code",
   "execution_count": null,
   "metadata": {},
   "outputs": [],
   "source": [
    "# tmp_path = root_path_data if 'root_path_data' in locals() else \"./\"\n",
    "pwdAllH5 = '/media/alyosha/Data/TE_data/yasirdata_raw/rez/gallerosalas_result_multiregional_pid_df.h5'\n",
    "# pwdAllH5 = gui_fname('h5path', './', '(*.h5)')"
   ]
  },
  {
   "cell_type": "code",
   "execution_count": null,
   "metadata": {
    "scrolled": true
   },
   "outputs": [],
   "source": [
    "pid.plot_all_results_distribution(dataDB, pwdAllH5, plotstyle='cdf', minTrials=50, trialType='Hit')"
   ]
  },
  {
   "cell_type": "code",
   "execution_count": null,
   "metadata": {
    "scrolled": true
   },
   "outputs": [],
   "source": [
    "pid.plot_all_frac_significant_bysession(dataDB, pwdAllH5, minTrials=40, trialType='Hit')"
   ]
  },
  {
   "cell_type": "markdown",
   "metadata": {
    "collapsed": true
   },
   "source": [
    "TODO:\n",
    "* Top 10 most synergetic connections\n",
    "    - Try magnitude vs avg p-value vs fraction significant\n",
    "    - Plot colorbars to show fraction of sessions by mouse\n",
    "* Top 10 most synergy-involved regions\n",
    "    - Count fraction of significant triplets where this region is target"
   ]
  },
  {
   "cell_type": "code",
   "execution_count": null,
   "metadata": {
    "scrolled": true
   },
   "outputs": [],
   "source": [
    "pid.plot_all_top_n_frac_significant(dataDB, pwdAllH5, nTop=20, minTrials=50,\n",
    "                                    haveTriplet=True, haveSinglet=False, trgPlotList=['VPL'])"
   ]
  },
  {
   "cell_type": "code",
   "execution_count": null,
   "metadata": {},
   "outputs": [],
   "source": [
    "intervDict = {\n",
    "    \"TEX\" : [2.0, 4.0],\n",
    "    \"DEL\" : [5.0, 6.8],\n",
    "    \"REW\" : [7.0, 8.0]\n",
    "}\n",
    "\n",
    "\n",
    "hDict = {\n",
    "#     \"H_ALL_REW\"  : (\"REW\", ['NO', 'PM'], ['FL'])\n",
    "    \"H_ALL_REW\"  : (\"REW\", ['PL', 'PM'], ['LI'])\n",
    "}\n",
    "\n",
    "pid.hypotheses_calc_plot_info3D(dataDB, hDict, intervDict,\n",
    "                                datatypes=['bn_session', 'bn_trial'], trialType='Hit')"
   ]
  },
  {
   "cell_type": "markdown",
   "metadata": {},
   "source": [
    "## All - Distribution - Nosession"
   ]
  },
  {
   "cell_type": "code",
   "execution_count": null,
   "metadata": {},
   "outputs": [],
   "source": [
    "import lib.analysis.pid_joint as pid_joint"
   ]
  },
  {
   "cell_type": "code",
   "execution_count": null,
   "metadata": {},
   "outputs": [],
   "source": [
    "pwdAllH5_2 = '/media/alyosha/Data/TE_data/yasirdata_raw/rez/gallerosalas_result_multiregional_pid_all_df.h5'"
   ]
  },
  {
   "cell_type": "code",
   "execution_count": null,
   "metadata": {},
   "outputs": [],
   "source": [
    "dfSummary = pid_joint.pid_all_summary_df(pwdAllH5_2)"
   ]
  },
  {
   "cell_type": "code",
   "execution_count": null,
   "metadata": {
    "scrolled": true
   },
   "outputs": [],
   "source": [
    "pid_joint.cdfplot(pwdAllH5_2, dfSummary)"
   ]
  },
  {
   "cell_type": "code",
   "execution_count": null,
   "metadata": {
    "scrolled": true
   },
   "outputs": [],
   "source": [
    "pid_joint.scatter_effsize_bits(pwdAllH5_2, dfSummary)"
   ]
  },
  {
   "cell_type": "code",
   "execution_count": null,
   "metadata": {
    "scrolled": true
   },
   "outputs": [],
   "source": [
    "pid_joint.plot_triplets(pwdAllH5_2, dfSummary, nTop=20, dropChannels=['BC'])"
   ]
  },
  {
   "cell_type": "code",
   "execution_count": null,
   "metadata": {},
   "outputs": [],
   "source": []
  }
 ],
 "metadata": {
  "kernelspec": {
   "display_name": "py3ml",
   "language": "python",
   "name": "py3ml"
  },
  "language_info": {
   "codemirror_mode": {
    "name": "ipython",
    "version": 3
   },
   "file_extension": ".py",
   "mimetype": "text/x-python",
   "name": "python",
   "nbconvert_exporter": "python",
   "pygments_lexer": "ipython3",
   "version": "3.8.5"
  }
 },
 "nbformat": 4,
 "nbformat_minor": 4
}

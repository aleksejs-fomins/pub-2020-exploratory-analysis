{
 "cells": [
  {
   "cell_type": "code",
   "execution_count": null,
   "metadata": {},
   "outputs": [],
   "source": [
    "# Standard libraries\n",
    "import numpy as np\n",
    "import pandas as pd\n",
    "import matplotlib.pyplot as plt\n",
    "from ipywidgets import IntProgress\n",
    "from IPython.display import display\n",
    "\n",
    "# Append base directory\n",
    "import os,sys,inspect\n",
    "rootname = \"pub-2020-exploratory-analysis\"\n",
    "thispath = os.path.dirname(os.path.abspath(inspect.getfile(inspect.currentframe())))\n",
    "rootpath = os.path.join(thispath[:thispath.index(rootname)], rootname)\n",
    "sys.path.append(rootpath)\n",
    "print(\"Appended root directory\", rootpath)\n",
    "\n",
    "from mesostat.utils.qt_helper import gui_fnames, gui_fpath\n",
    "from mesostat.metric.metric import MetricCalculator\n",
    "from mesostat.utils.hdf5_io import DataStorage\n",
    "\n",
    "from lib.gallerosalas.data_fc_db_raw import DataFCDatabase\n",
    "import lib.analysis.coactivity as coactivity\n",
    "\n",
    "%load_ext autoreload\n",
    "%autoreload 2"
   ]
  },
  {
   "cell_type": "code",
   "execution_count": null,
   "metadata": {
    "collapsed": true
   },
   "outputs": [],
   "source": [
    "params = {}\n",
    "# params['root_path_data']  = gui_fpath(\"Path to data collection\",  './')\n",
    "# params['root_path_data'] = '/media/alyosha/Data/TE_data/yasirdata_raw/'\n",
    "params['root_path_data'] = '/media/aleksejs/DataHDD/work/data/yasir/yasirdata_raw'"
   ]
  },
  {
   "cell_type": "code",
   "execution_count": null,
   "metadata": {},
   "outputs": [],
   "source": [
    "dataDB = DataFCDatabase(params)"
   ]
  },
  {
   "cell_type": "code",
   "execution_count": null,
   "metadata": {
    "collapsed": true
   },
   "outputs": [],
   "source": [
    "ds = DataStorage('gallerosalas_result_activity.h5')"
   ]
  },
  {
   "cell_type": "code",
   "execution_count": null,
   "metadata": {
    "collapsed": true
   },
   "outputs": [],
   "source": [
    "mc = MetricCalculator(serial=True, verbose=False)"
   ]
  },
  {
   "cell_type": "code",
   "execution_count": null,
   "metadata": {},
   "outputs": [],
   "source": [
    "print('mice', dataDB.mice)\n",
    "print('nSessions', len(dataDB.sessions))\n",
    "print('datatypes', dataDB.get_data_types())\n",
    "print('nChannel', dataDB.get_nchannels('mou_5'))"
   ]
  },
  {
   "cell_type": "code",
   "execution_count": null,
   "metadata": {
    "collapsed": true
   },
   "outputs": [],
   "source": [
    "from mesostat.utils.pandas_helper import pd_query, pd_is_one_row"
   ]
  },
  {
   "cell_type": "code",
   "execution_count": null,
   "metadata": {
    "scrolled": true
   },
   "outputs": [],
   "source": [
    "areas = sorted(set(dataDB.channelAreasDF['Area']))\n",
    "areaDict = {a : [] for a in areas}\n",
    "\n",
    "for iCh, chName in enumerate(dataDB.get_channel_labels()):\n",
    "    rez = pd_is_one_row(pd_query(dataDB.channelAreasDF, {'LOrig' : chName}))[1]\n",
    "    areaDict[rez['Area']] += [iCh]\n",
    "\n",
    "fig, ax = plt.subplots(figsize=(4,4))\n",
    "dataDB.plot_area_lists(ax, areaDict, haveLegend=True)"
   ]
  },
  {
   "cell_type": "markdown",
   "metadata": {},
   "source": [
    "# 1. Significance\n",
    "\n",
    "## 1.1. Correlation plots\n"
   ]
  },
  {
   "cell_type": "markdown",
   "metadata": {},
   "source": [
    "## 1.2 PCA exploration"
   ]
  },
  {
   "cell_type": "markdown",
   "metadata": {},
   "source": [
    "## 1.3. Highly uncorrelated channels"
   ]
  },
  {
   "cell_type": "code",
   "execution_count": null,
   "metadata": {
    "collapsed": true
   },
   "outputs": [],
   "source": [
    "exclQueryLst = [\n",
    "    {'datatype' : 'bn_trial', 'intervName' : 'PRE'},  # Baseline normalized\n",
    "    {'mousename' : 'mou_6', 'intervName' : 'REW'},    # No reward for this mouse\n",
    "]"
   ]
  },
  {
   "cell_type": "code",
   "execution_count": null,
   "metadata": {
    "scrolled": true
   },
   "outputs": [],
   "source": [
    "coactivity.corr_plot_session_composite(dataDB, mc, 'corr',\n",
    "                                       dataTypes=['bn_trial', 'bn_session'],\n",
    "                                       trialTypes=[None, 'Hit', 'CR'],\n",
    "                                       exclQueryLst=exclQueryLst,\n",
    "                                       haveMono=False)"
   ]
  },
  {
   "cell_type": "markdown",
   "metadata": {},
   "source": [
    "**Drop first PCA and explore result**"
   ]
  },
  {
   "cell_type": "code",
   "execution_count": null,
   "metadata": {},
   "outputs": [],
   "source": [
    "coactivity.corr_plot_session_composite(dataDB, mc, 'corr',\n",
    "                                       dataTypes=['bn_trial', 'bn_session'],\n",
    "                                       trialTypes=[None, 'Hit', 'CR'],\n",
    "                                       exclQueryLst=exclQueryLst,\n",
    "                                       haveMono=False, nDropPCA=1, haveBrain=True)"
   ]
  },
  {
   "cell_type": "markdown",
   "metadata": {},
   "source": [
    "# 2. Consistency\n",
    "## 2.1. PCA consistency over mice\n",
    "### 2.1.1. Angle-based consistency\n",
    "\n",
    "Tasks\n",
    "  * Explained variance by phase/session/mouse/trialType\n",
    "     * Do not separate phases, its meaningless. Compute PCA for all timesteps, then see proj differences for phases\n",
    "     * Implement HAC correction\n",
    "\n",
    "  * Global PCA shifts vs session\n",
    "\n",
    "Approaches:\n",
    "  * Eval PCA over all data, select strongest components, plot components as function of cofound\n",
    "  * Eval PCA for cofounds, compare PCA\n",
    "  \n",
    "**Plots**:\n",
    "* Cosine-squared matrix $C^2_{ij} = (R^{1}_{ik}R^{2}_{jk})^2$, where $R^l$ is the PCA-transform\n",
    "* Consistency metric $E = e^1_i e^2_j C^2_{ij}$, where $e^l$ are the eigenvalues\n",
    "\n",
    "**Problem**:\n",
    "The consistency metric $E$ has all necessary ingredients (angles, eigenvalues), but it is not mathematically clear that it behaves the desired way. Solid theory is required for this metric to be useful.\n",
    "\n",
    "**Alternative approach**:\n",
    "Try consistency metric $H(\\frac{C^2_{ij}}{N})$. Should be great at measuring the sparsity of basis coupling. The challenge is to include eigenvalue priority into this metric, since spread of weak eigenvalues is not as relevant as spread of strong ones."
   ]
  },
  {
   "cell_type": "code",
   "execution_count": null,
   "metadata": {
    "scrolled": true
   },
   "outputs": [],
   "source": [
    "for datatype in ['bn_session', 'bn_trial']:\n",
    "    coactivity.plot_pca_alignment_bymouse(dataDB, datatype=datatype, trialType=None, intervName='DEL')"
   ]
  },
  {
   "cell_type": "markdown",
   "metadata": {},
   "source": [
    "### 2.1.2. Eigenvalue-based consistency\n",
    "\n",
    "* Let $x_1$, $x_2$ be some datasets\n",
    "* Let $R_1$, $R_2$ be the corresponding PCA-transforms \n",
    "* Find total variances\n",
    "    - $V_1 = \\sum_i eig_i(x_1) = tr(cov(x_1)) = \\sum_i cov_{ii}(x_1)$\n",
    "    - $V_2 = \\sum_i eig_i(x_2) = tr(cov(x_2)) = \\sum_i cov_{ii}(x_2)$\n",
    "* Find explained variances\n",
    "    - $e_1 = eval(cov(x_1)) = diag(cov(R_1 x_1))$\n",
    "    - $e_2 = eval(cov(x_2)) = diag(cov(R_2 x_2))$\n",
    "* Find explained variances using wrong bases\n",
    "    - $e_{12} = diag(cov(R_2 x_1))$\n",
    "    - $e_{21} = diag(cov(R_1 x_2))$\n",
    "* Find representation errors in explained variance ratios\n",
    "    - $\\epsilon_1 = \\frac{\\sum_i |e^1_i - e^{12}_i|}{2 V_1}$\n",
    "    - $\\epsilon_2 = \\frac{\\sum_i |e^2_i - e^{21}_i|}{2 V_2}$\n",
    "\n",
    "\n",
    "\n",
    "* TODO: iter trialType=[hit, cr, all]\n",
    "* TODO: iter perf=[naive,expert,all]"
   ]
  },
  {
   "cell_type": "code",
   "execution_count": null,
   "metadata": {
    "collapsed": true
   },
   "outputs": [],
   "source": [
    "coactivity.plot_corr_consistency_l1(dataDB, intervDict)#, dropChannels=[26])"
   ]
  },
  {
   "cell_type": "code",
   "execution_count": null,
   "metadata": {},
   "outputs": [],
   "source": [
    "coactivity.plot_corr_consistency_l1(dataDB, intervDict, nDropPCA=1)#, dropChannels=[26])"
   ]
  },
  {
   "cell_type": "code",
   "execution_count": null,
   "metadata": {},
   "outputs": [],
   "source": [
    "coactivity.plot_corr_consistency_l1_trialtype(dataDB, intervDict, trialTypes=['Hit', 'CR'], datatype='bn_trial')\n",
    "coactivity.plot_corr_consistency_l1_trialtype(dataDB, intervDict, trialTypes=['Hit', 'CR'], datatype='bn_session')"
   ]
  },
  {
   "cell_type": "code",
   "execution_count": null,
   "metadata": {},
   "outputs": [],
   "source": [
    "coactivity.plot_corr_consistency_l1_trialtype(dataDB, intervDict, nDropPCA=1, trialTypes=['Hit', 'CR'], datatype='bn_trial')\n",
    "coactivity.plot_corr_consistency_l1_trialtype(dataDB, intervDict, nDropPCA=1, trialTypes=['Hit', 'CR'], datatype='bn_session')"
   ]
  },
  {
   "cell_type": "code",
   "execution_count": null,
   "metadata": {},
   "outputs": [],
   "source": [
    "intervDictNoPre = intervDict.copy()\n",
    "del intervDictNoPre['PRE']"
   ]
  },
  {
   "cell_type": "code",
   "execution_count": null,
   "metadata": {},
   "outputs": [],
   "source": [
    "coactivity.plot_corr_consistency_l1_phase(dataDB, intervDictNoPre, datatype='bn_trial')\n",
    "coactivity.plot_corr_consistency_l1_phase(dataDB, intervDictNoPre, datatype='bn_session')"
   ]
  },
  {
   "cell_type": "code",
   "execution_count": null,
   "metadata": {},
   "outputs": [],
   "source": [
    "coactivity.plot_corr_consistency_l1_phase(dataDB, intervDictNoPre, nDropPCA=1, datatype='bn_trial')\n",
    "coactivity.plot_corr_consistency_l1_phase(dataDB, intervDictNoPre, nDropPCA=1, datatype='bn_session')"
   ]
  },
  {
   "cell_type": "markdown",
   "metadata": {},
   "source": [
    "## 2.2. PCA consistency over phases\n",
    "### 2.2.1 Angle-based consistency"
   ]
  },
  {
   "cell_type": "code",
   "execution_count": null,
   "metadata": {
    "collapsed": true,
    "scrolled": false
   },
   "outputs": [],
   "source": [
    "for datatype in ['bn_session', 'bn_trial']:\n",
    "    coactivity.plot_pca_alignment_byphase(dataDB, intervNames=['TEX', 'REW'], datatype=datatype, trialType=None)"
   ]
  },
  {
   "cell_type": "code",
   "execution_count": null,
   "metadata": {
    "collapsed": true
   },
   "outputs": [],
   "source": []
  }
 ],
 "metadata": {
  "kernelspec": {
   "display_name": "py3ml",
   "language": "python",
   "name": "py3ml"
  },
  "language_info": {
   "codemirror_mode": {
    "name": "ipython",
    "version": 3
   },
   "file_extension": ".py",
   "mimetype": "text/x-python",
   "name": "python",
   "nbconvert_exporter": "python",
   "pygments_lexer": "ipython3",
   "version": "3.8.5"
  }
 },
 "nbformat": 4,
 "nbformat_minor": 4
}

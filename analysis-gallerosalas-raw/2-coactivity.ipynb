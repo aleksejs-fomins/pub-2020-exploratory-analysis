{
 "cells": [
  {
   "cell_type": "code",
   "execution_count": 10,
   "metadata": {},
   "outputs": [
    {
     "name": "stdout",
     "output_type": "stream",
     "text": [
      "Appended root directory /home/alyosha/work/git/pub-2020-exploratory-analysis\n",
      "The autoreload extension is already loaded. To reload it, use:\n",
      "  %reload_ext autoreload\n"
     ]
    }
   ],
   "source": [
    "# Standard libraries\n",
    "import numpy as np\n",
    "import pandas as pd\n",
    "import matplotlib.pyplot as plt\n",
    "from ipywidgets import IntProgress\n",
    "from IPython.display import display\n",
    "\n",
    "# Append base directory\n",
    "import os,sys,inspect\n",
    "rootname = \"pub-2020-exploratory-analysis\"\n",
    "thispath = os.path.dirname(os.path.abspath(inspect.getfile(inspect.currentframe())))\n",
    "rootpath = os.path.join(thispath[:thispath.index(rootname)], rootname)\n",
    "sys.path.append(rootpath)\n",
    "print(\"Appended root directory\", rootpath)\n",
    "\n",
    "from mesostat.utils.qt_helper import gui_fnames, gui_fpath\n",
    "from mesostat.metric.metric import MetricCalculator\n",
    "from mesostat.utils.hdf5_io import DataStorage\n",
    "\n",
    "from lib.gallerosalas.data_fc_db_raw import DataFCDatabase\n",
    "import lib.analysis.coactivity as coactivity\n",
    "\n",
    "%load_ext autoreload\n",
    "%autoreload 2"
   ]
  },
  {
   "cell_type": "code",
   "execution_count": 2,
   "metadata": {
    "collapsed": true
   },
   "outputs": [],
   "source": [
    "params = {}\n",
    "# params['root_path_data']  = gui_fpath(\"Path to data collection\",  './')\n",
    "params['root_path_data'] = '/media/alyosha/Data/TE_data/yasirdata_raw/'"
   ]
  },
  {
   "cell_type": "code",
   "execution_count": 3,
   "metadata": {},
   "outputs": [
    {
     "name": "stdout",
     "output_type": "stream",
     "text": [
      "Reading channel label file\n",
      "Reading allen brain map\n",
      "Reading task structure\n",
      "Searching for data files\n",
      "Found mice ['mou_5', 'mou_6', 'mou_7', 'mou_9']\n"
     ]
    }
   ],
   "source": [
    "dataDB = DataFCDatabase(params)"
   ]
  },
  {
   "cell_type": "code",
   "execution_count": 4,
   "metadata": {
    "collapsed": true
   },
   "outputs": [],
   "source": [
    "ds = DataStorage('gallerosalas_result_activity.h5')"
   ]
  },
  {
   "cell_type": "code",
   "execution_count": 5,
   "metadata": {
    "collapsed": true
   },
   "outputs": [],
   "source": [
    "mc = MetricCalculator(serial=True, verbose=False)"
   ]
  },
  {
   "cell_type": "code",
   "execution_count": 6,
   "metadata": {},
   "outputs": [
    {
     "name": "stdout",
     "output_type": "stream",
     "text": [
      "mice {'mou_9', 'mou_7', 'mou_5', 'mou_6'}\n",
      "nSessions 4\n",
      "datatypes ['raw', 'bn_session', 'bn_trial']\n",
      "nChannel 28\n"
     ]
    }
   ],
   "source": [
    "print('mice', dataDB.mice)\n",
    "print('nSessions', len(dataDB.sessions))\n",
    "print('datatypes', dataDB.get_data_types())\n",
    "print('nChannel', dataDB.get_nchannels('mou_5'))"
   ]
  },
  {
   "cell_type": "code",
   "execution_count": 7,
   "metadata": {
    "collapsed": true
   },
   "outputs": [],
   "source": [
    "intervDict = {\n",
    "    \"PRE\" : [0.0, 1.0],\n",
    "    \"TEX\" : [2.0, 4.0],\n",
    "    \"DEL\" : [5.0, 6.8],\n",
    "    \"REW\" : [7.0, 8.0]\n",
    "}"
   ]
  },
  {
   "cell_type": "markdown",
   "metadata": {},
   "source": [
    "# 1. Significance\n",
    "\n",
    "## 1.1. Correlation plots\n"
   ]
  },
  {
   "cell_type": "markdown",
   "metadata": {},
   "source": [
    "## 1.2 PCA exploration"
   ]
  },
  {
   "cell_type": "markdown",
   "metadata": {},
   "source": [
    "## 1.3. Highly uncorrelated channels"
   ]
  },
  {
   "cell_type": "code",
   "execution_count": 12,
   "metadata": {
    "collapsed": true,
    "scrolled": true
   },
   "outputs": [],
   "source": [
    "coactivity.corr_plot_session_composite(dataDB, mc, intervDict, 'corr', 'bn_trial',\n",
    "                                       trialTypes={'Hit', 'CR'},\n",
    "                                       haveMono=False)"
   ]
  },
  {
   "cell_type": "markdown",
   "metadata": {},
   "source": [
    "**Drop first PCA and explore result**"
   ]
  },
  {
   "cell_type": "code",
   "execution_count": 14,
   "metadata": {
    "collapsed": true
   },
   "outputs": [],
   "source": [
    "coactivity.corr_plot_session_composite(dataDB, mc, intervDict, 'corr', 'bn_session',\n",
    "                                       trialTypes={'Hit', 'CR'},\n",
    "                                       haveMono=False, nDropPCA=1)"
   ]
  },
  {
   "cell_type": "markdown",
   "metadata": {},
   "source": [
    "# 2. Consistency\n",
    "## 2.1. PCA consistency over mice\n",
    "### 2.1.1. Angle-based consistency\n",
    "\n",
    "Tasks\n",
    "  * Explained variance by phase/session/mouse/trialType\n",
    "     * Do not separate phases, its meaningless. Compute PCA for all timesteps, then see proj differences for phases\n",
    "     * Implement HAC correction\n",
    "\n",
    "  * Global PCA shifts vs session\n",
    "\n",
    "Approaches:\n",
    "  * Eval PCA over all data, select strongest components, plot components as function of cofound\n",
    "  * Eval PCA for cofounds, compare PCA\n",
    "  \n",
    "**Plots**:\n",
    "* Cosine-squared matrix $C^2_{ij} = (R^{1}_{ik}R^{2}_{jk})^2$, where $R^l$ is the PCA-transform\n",
    "* Consistency metric $E = e^1_i e^2_j C^2_{ij}$, where $e^l$ are the eigenvalues\n",
    "\n",
    "**Problem**:\n",
    "The consistency metric $E$ has all necessary ingredients (angles, eigenvalues), but it is not mathematically clear that it behaves the desired way. Solid theory is required for this metric to be useful.\n",
    "\n",
    "**Alternative approach**:\n",
    "Try consistency metric $H(\\frac{C^2_{ij}}{N})$. Should be great at measuring the sparsity of basis coupling. The challenge is to include eigenvalue priority into this metric, since spread of weak eigenvalues is not as relevant as spread of strong ones."
   ]
  },
  {
   "cell_type": "code",
   "execution_count": 20,
   "metadata": {
    "scrolled": true
   },
   "outputs": [
    {
     "name": "stdout",
     "output_type": "stream",
     "text": [
      "27.000000000000007\n",
      "27.0\n",
      "27.000000000000004\n",
      "27.000000000000007\n",
      "27.0\n",
      "26.999999999999993\n",
      "27.0\n",
      "27.0\n",
      "27.0\n",
      "27.0\n",
      "27.0\n",
      "26.999999999999996\n",
      "27.000000000000007\n",
      "27.0\n",
      "26.999999999999996\n",
      "27.000000000000007\n",
      "27.000000000000007\n",
      "26.999999999999996\n",
      "27.0\n",
      "27.0\n",
      "26.999999999999993\n",
      "26.99999999999998\n",
      "26.99999999999999\n",
      "26.999999999999986\n",
      "27.000000000000004\n",
      "26.999999999999993\n",
      "26.999999999999996\n",
      "26.999999999999996\n",
      "27.0\n",
      "26.99999999999999\n",
      "27.0\n",
      "27.0\n"
     ]
    },
    {
     "data": {
      "image/png": "[encoded data removed]",
      "text/plain": [
       "<Figure size 576x288 with 3 Axes>"
      ]
     },
     "metadata": {
      "needs_background": "light"
     },
     "output_type": "display_data"
    },
    {
     "data": {
      "image/png": "[encoded data removed]",
      "text/plain": [
       "<Figure size 576x288 with 3 Axes>"
      ]
     },
     "metadata": {
      "needs_background": "light"
     },
     "output_type": "display_data"
    }
   ],
   "source": [
    "for datatype in ['bn_session', 'bn_trial']:\n",
    "    coactivity.plot_pca_alignment_bymouse(dataDB, datatype=datatype, trialType=None)"
   ]
  },
  {
   "cell_type": "markdown",
   "metadata": {},
   "source": [
    "### 2.1.2. Eigenvalue-based consistency\n",
    "\n",
    "* Let $x_1$, $x_2$ be some datasets\n",
    "* Let $R_1$, $R_2$ be the corresponding PCA-transforms \n",
    "* Find total variances\n",
    "    - $V_1 = \\sum_i eig_i(x_1) = tr(cov(x_1)) = \\sum_i cov_{ii}(x_1)$\n",
    "    - $V_2 = \\sum_i eig_i(x_2) = tr(cov(x_2)) = \\sum_i cov_{ii}(x_2)$\n",
    "* Find explained variances\n",
    "    - $e_1 = eval(cov(x_1)) = diag(cov(R_1 x_1))$\n",
    "    - $e_2 = eval(cov(x_2)) = diag(cov(R_2 x_2))$\n",
    "* Find explained variances using wrong bases\n",
    "    - $e_{12} = diag(cov(R_2 x_1))$\n",
    "    - $e_{21} = diag(cov(R_1 x_2))$\n",
    "* Find representation errors in explained variance ratios\n",
    "    - $\\epsilon_1 = \\frac{\\sum_i |e^1_i - e^{12}_i|}{2 V_1}$\n",
    "    - $\\epsilon_2 = \\frac{\\sum_i |e^2_i - e^{21}_i|}{2 V_2}$\n",
    "\n",
    "\n",
    "\n",
    "* TODO: iter trialType=[hit, cr, all]\n",
    "* TODO: iter perf=[naive,expert,all]"
   ]
  },
  {
   "cell_type": "code",
   "execution_count": 26,
   "metadata": {
    "scrolled": true
   },
   "outputs": [
    {
     "name": "stdout",
     "output_type": "stream",
     "text": [
      "raw_TEX\n",
      "{(40, 27)}\n",
      "{(40, 27)}\n",
      "{(40, 27)}\n",
      "{(40, 27)}\n",
      "raw_DEL\n",
      "{(36, 27)}\n",
      "{(36, 27)}\n",
      "{(36, 27)}\n",
      "{(36, 27)}\n",
      "raw_REW\n",
      "{(20, 27)}\n",
      "{(20, 27)}\n",
      "{(20, 27)}\n",
      "{(20, 27)}\n",
      "bn_session_TEX\n",
      "{(40, 27)}\n",
      "{(40, 27)}\n",
      "{(40, 27)}\n",
      "{(40, 27)}\n",
      "bn_session_DEL\n",
      "{(36, 27)}\n",
      "{(36, 27)}\n",
      "{(36, 27)}\n",
      "{(36, 27)}\n",
      "bn_session_REW\n",
      "{(20, 27)}\n",
      "{(20, 27)}\n",
      "{(20, 27)}\n",
      "{(20, 27)}\n",
      "bn_trial_TEX\n",
      "{(40, 27)}\n",
      "{(40, 27)}\n",
      "{(40, 27)}\n",
      "{(40, 27)}\n",
      "bn_trial_DEL\n",
      "{(36, 27)}\n",
      "{(36, 27)}\n",
      "{(36, 27)}\n",
      "{(36, 27)}\n",
      "bn_trial_REW\n",
      "{(20, 27)}\n",
      "{(20, 27)}\n",
      "{(20, 27)}\n",
      "{(20, 27)}\n"
     ]
    }
   ],
   "source": [
    "coactivity.plot_pca_consistency(dataDB, intervDict)"
   ]
  },
  {
   "cell_type": "code",
   "execution_count": 27,
   "metadata": {
    "scrolled": true
   },
   "outputs": [
    {
     "name": "stdout",
     "output_type": "stream",
     "text": [
      "raw_TEX\n",
      "{(40, 27)}\n",
      "{(40, 27)}\n",
      "{(40, 27)}\n",
      "{(40, 27)}\n",
      "raw_DEL\n",
      "{(36, 27)}\n",
      "{(36, 27)}\n",
      "{(36, 27)}\n",
      "{(36, 27)}\n",
      "raw_REW\n",
      "{(20, 27)}\n",
      "{(20, 27)}\n",
      "{(20, 27)}\n",
      "{(20, 27)}\n",
      "bn_session_TEX\n",
      "{(40, 27)}\n",
      "{(40, 27)}\n",
      "{(40, 27)}\n",
      "{(40, 27)}\n",
      "bn_session_DEL\n",
      "{(36, 27)}\n",
      "{(36, 27)}\n",
      "{(36, 27)}\n",
      "{(36, 27)}\n",
      "bn_session_REW\n",
      "{(20, 27)}\n",
      "{(20, 27)}\n",
      "{(20, 27)}\n",
      "{(20, 27)}\n",
      "bn_trial_TEX\n",
      "{(40, 27)}\n",
      "{(40, 27)}\n",
      "{(40, 27)}\n",
      "{(40, 27)}\n",
      "bn_trial_DEL\n",
      "{(36, 27)}\n",
      "{(36, 27)}\n",
      "{(36, 27)}\n",
      "{(36, 27)}\n",
      "bn_trial_REW\n",
      "{(20, 27)}\n",
      "{(20, 27)}\n",
      "{(20, 27)}\n",
      "{(20, 27)}\n"
     ]
    }
   ],
   "source": [
    "coactivity.plot_pca_consistency(dataDB, intervDict, dropFirst=1)"
   ]
  },
  {
   "cell_type": "code",
   "execution_count": null,
   "metadata": {
    "collapsed": true
   },
   "outputs": [],
   "source": []
  },
  {
   "cell_type": "markdown",
   "metadata": {},
   "source": [
    "## 2.2. PCA consistency over phases\n",
    "### 2.2.1 Angle-based consistency"
   ]
  },
  {
   "cell_type": "code",
   "execution_count": null,
   "metadata": {
    "collapsed": true,
    "scrolled": false
   },
   "outputs": [],
   "source": [
    "intervDict = {\n",
    "    \"TEX\" : [2.0, 4.0],\n",
    "    \"REW\" : [7.0, 8.0]\n",
    "}\n",
    "\n",
    "for datatype in ['bn_session', 'bn_trial']:\n",
    "    coactivity.plot_pca_alignment_byphase(dataDB, intervDict, datatype=datatype, trialType=None)"
   ]
  },
  {
   "cell_type": "code",
   "execution_count": null,
   "metadata": {
    "collapsed": true
   },
   "outputs": [],
   "source": []
  }
 ],
 "metadata": {
  "kernelspec": {
   "display_name": "Py3QT5",
   "language": "python",
   "name": "py3qt5"
  },
  "language_info": {
   "codemirror_mode": {
    "name": "ipython",
    "version": 3
   },
   "file_extension": ".py",
   "mimetype": "text/x-python",
   "name": "python",
   "nbconvert_exporter": "python",
   "pygments_lexer": "ipython3",
   "version": "3.8.5"
  }
 },
 "nbformat": 4,
 "nbformat_minor": 4
}

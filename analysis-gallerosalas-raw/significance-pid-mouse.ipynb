{
 "cells": [
  {
   "cell_type": "code",
   "execution_count": 1,
   "metadata": {},
   "outputs": [
    {
     "name": "stdout",
     "output_type": "stream",
     "text": [
      "Appended root directory /home/alyosha/work/pub-2020-exploratory-analysis\n"
     ]
    }
   ],
   "source": [
    "# Standard libraries\n",
    "import numpy as np\n",
    "import pandas as pd\n",
    "import matplotlib.pyplot as plt\n",
    "from ipywidgets import IntProgress\n",
    "from IPython.display import display\n",
    "\n",
    "# Append base directory\n",
    "import os,sys,inspect\n",
    "rootname = \"pub-2020-exploratory-analysis\"\n",
    "# thispath = os.path.dirname(os.path.abspath(inspect.getfile(inspect.currentframe())))\n",
    "thispath = os.getcwd()\n",
    "rootpath = os.path.join(thispath[:thispath.index(rootname)], rootname)\n",
    "sys.path.append(rootpath)\n",
    "print(\"Appended root directory\", rootpath)\n",
    "\n",
    "from mesostat.metric.metric import MetricCalculator\n",
    "from mesostat.utils.qt_helper import gui_fname, gui_fnames, gui_fpath\n",
    "from mesostat.utils.hdf5_io import DataStorage\n",
    "\n",
    "from lib.gallerosalas.data_fc_db_raw import DataFCDatabase\n",
    "import lib.analysis.pid_all_mouse as pid_joint\n",
    "\n",
    "%load_ext autoreload\n",
    "%autoreload 2"
   ]
  },
  {
   "cell_type": "code",
   "execution_count": 2,
   "metadata": {},
   "outputs": [],
   "source": [
    "params = {}\n",
    "# params['root_path_data']  = gui_fpath(\"Path to data collection\",  './')\n",
    "# params['root_path_data'] = '/media/alyosha/Data/TE_data/yasirdata_raw/'\n",
    "params['root_path_data'] = '/home/alyosha/data/yasirdata_raw/'"
   ]
  },
  {
   "cell_type": "code",
   "execution_count": 3,
   "metadata": {},
   "outputs": [
    {
     "name": "stdout",
     "output_type": "stream",
     "text": [
      "Reading channel label file\n",
      "Reading channel area file\n",
      "Reading allen brain map\n",
      "Reading task structure\n",
      "Reading session structure\n",
      "Searching for data files\n",
      "Found mice ['mou_5', 'mou_9', 'mou_7', 'mou_6']\n"
     ]
    }
   ],
   "source": [
    "dataDB = DataFCDatabase(params)"
   ]
  },
  {
   "cell_type": "code",
   "execution_count": 4,
   "metadata": {},
   "outputs": [],
   "source": [
    "dataDB.calc_shortest_distances()"
   ]
  },
  {
   "cell_type": "code",
   "execution_count": 5,
   "metadata": {},
   "outputs": [
    {
     "name": "stdout",
     "output_type": "stream",
     "text": [
      "mice {'mou_6', 'mou_7', 'mou_5', 'mou_9'}\n",
      "nSessions 4\n",
      "datatypes ['raw', 'bn_session', 'bn_trial']\n",
      "nChannel 27\n"
     ]
    }
   ],
   "source": [
    "print('mice', dataDB.mice)\n",
    "print('nSessions', len(dataDB.sessions))\n",
    "print('datatypes', dataDB.get_data_types())\n",
    "print('nChannel', dataDB.get_nchannels('mou_5'))"
   ]
  },
  {
   "cell_type": "code",
   "execution_count": 6,
   "metadata": {},
   "outputs": [],
   "source": [
    "h5outname = 'gallerosalas_result_higher_order_df.h5'"
   ]
  },
  {
   "cell_type": "code",
   "execution_count": 7,
   "metadata": {
    "scrolled": true
   },
   "outputs": [],
   "source": [
    "mc = MetricCalculator(serial=True, verbose=False, nCore=4)"
   ]
  },
  {
   "cell_type": "code",
   "execution_count": 8,
   "metadata": {
    "scrolled": true
   },
   "outputs": [
    {
     "data": {
      "text/html": [
       "<div>\n",
       "<style scoped>\n",
       "    .dataframe tbody tr th:only-of-type {\n",
       "        vertical-align: middle;\n",
       "    }\n",
       "\n",
       "    .dataframe tbody tr th {\n",
       "        vertical-align: top;\n",
       "    }\n",
       "\n",
       "    .dataframe thead th {\n",
       "        text-align: right;\n",
       "    }\n",
       "</style>\n",
       "<table border=\"1\" class=\"dataframe\">\n",
       "  <thead>\n",
       "    <tr style=\"text-align: right;\">\n",
       "      <th></th>\n",
       "      <th>Num</th>\n",
       "      <th>LOrig</th>\n",
       "      <th>LTrue</th>\n",
       "      <th>LCanon</th>\n",
       "      <th>Name</th>\n",
       "      <th>Area</th>\n",
       "    </tr>\n",
       "  </thead>\n",
       "  <tbody>\n",
       "    <tr>\n",
       "      <th>0</th>\n",
       "      <td>1</td>\n",
       "      <td>A1</td>\n",
       "      <td>A1</td>\n",
       "      <td>AUDp</td>\n",
       "      <td>Auditroy primary</td>\n",
       "      <td>Auditory</td>\n",
       "    </tr>\n",
       "    <tr>\n",
       "      <th>1</th>\n",
       "      <td>2</td>\n",
       "      <td>S2</td>\n",
       "      <td>S2</td>\n",
       "      <td>SSs</td>\n",
       "      <td>Secondary sensory</td>\n",
       "      <td>Somatomotor</td>\n",
       "    </tr>\n",
       "    <tr>\n",
       "      <th>2</th>\n",
       "      <td>3</td>\n",
       "      <td>TEA</td>\n",
       "      <td>TEA</td>\n",
       "      <td>TEa</td>\n",
       "      <td>Temporal association</td>\n",
       "      <td>Lateral</td>\n",
       "    </tr>\n",
       "    <tr>\n",
       "      <th>3</th>\n",
       "      <td>4</td>\n",
       "      <td>AD</td>\n",
       "      <td>AD</td>\n",
       "      <td>AUDd</td>\n",
       "      <td>Auditory dorsal</td>\n",
       "      <td>Auditory</td>\n",
       "    </tr>\n",
       "    <tr>\n",
       "      <th>4</th>\n",
       "      <td>5</td>\n",
       "      <td>AP</td>\n",
       "      <td>AP</td>\n",
       "      <td>AUDpo</td>\n",
       "      <td>Auditory posterior</td>\n",
       "      <td>Auditory</td>\n",
       "    </tr>\n",
       "    <tr>\n",
       "      <th>5</th>\n",
       "      <td>6</td>\n",
       "      <td>PR</td>\n",
       "      <td>PR</td>\n",
       "      <td>VISpor</td>\n",
       "      <td>Post rhinal</td>\n",
       "      <td>Visual</td>\n",
       "    </tr>\n",
       "    <tr>\n",
       "      <th>6</th>\n",
       "      <td>7</td>\n",
       "      <td>NO</td>\n",
       "      <td>NO</td>\n",
       "      <td>SSp-n</td>\n",
       "      <td>Primary nose</td>\n",
       "      <td>Somatomotor</td>\n",
       "    </tr>\n",
       "    <tr>\n",
       "      <th>7</th>\n",
       "      <td>8</td>\n",
       "      <td>BC</td>\n",
       "      <td>BC</td>\n",
       "      <td>SSp-bfd</td>\n",
       "      <td>Barrel cortex</td>\n",
       "      <td>Somatomotor</td>\n",
       "    </tr>\n",
       "    <tr>\n",
       "      <th>8</th>\n",
       "      <td>9</td>\n",
       "      <td>MO</td>\n",
       "      <td>MO</td>\n",
       "      <td>SSp-m</td>\n",
       "      <td>Primary mouth</td>\n",
       "      <td>Somatomotor</td>\n",
       "    </tr>\n",
       "    <tr>\n",
       "      <th>9</th>\n",
       "      <td>10</td>\n",
       "      <td>LI</td>\n",
       "      <td>LI</td>\n",
       "      <td>VISli</td>\n",
       "      <td>Lateral intermediate</td>\n",
       "      <td>Visual</td>\n",
       "    </tr>\n",
       "    <tr>\n",
       "      <th>10</th>\n",
       "      <td>11</td>\n",
       "      <td>AL</td>\n",
       "      <td>AL</td>\n",
       "      <td>VISal</td>\n",
       "      <td>Anterior lateral</td>\n",
       "      <td>Visual</td>\n",
       "    </tr>\n",
       "    <tr>\n",
       "      <th>11</th>\n",
       "      <td>12</td>\n",
       "      <td>PL</td>\n",
       "      <td>LM</td>\n",
       "      <td>VISl</td>\n",
       "      <td>Lateral medial</td>\n",
       "      <td>Visual</td>\n",
       "    </tr>\n",
       "    <tr>\n",
       "      <th>12</th>\n",
       "      <td>13</td>\n",
       "      <td>RL</td>\n",
       "      <td>PL</td>\n",
       "      <td>VISpl</td>\n",
       "      <td>Posterior lateral</td>\n",
       "      <td>Visual</td>\n",
       "    </tr>\n",
       "    <tr>\n",
       "      <th>13</th>\n",
       "      <td>14</td>\n",
       "      <td>V1</td>\n",
       "      <td>RL</td>\n",
       "      <td>VISrl</td>\n",
       "      <td>Rostro lateral</td>\n",
       "      <td>Visual</td>\n",
       "    </tr>\n",
       "    <tr>\n",
       "      <th>14</th>\n",
       "      <td>15</td>\n",
       "      <td>M1</td>\n",
       "      <td>V1</td>\n",
       "      <td>VISp</td>\n",
       "      <td>Primary visual</td>\n",
       "      <td>Visual</td>\n",
       "    </tr>\n",
       "    <tr>\n",
       "      <th>15</th>\n",
       "      <td>16</td>\n",
       "      <td>UN</td>\n",
       "      <td>M1</td>\n",
       "      <td>MOp</td>\n",
       "      <td>Primary motor</td>\n",
       "      <td>Somatomotor</td>\n",
       "    </tr>\n",
       "    <tr>\n",
       "      <th>16</th>\n",
       "      <td>17</td>\n",
       "      <td>FL</td>\n",
       "      <td>UN</td>\n",
       "      <td>SSp-un</td>\n",
       "      <td>Primary unclassified</td>\n",
       "      <td>Somatomotor</td>\n",
       "    </tr>\n",
       "    <tr>\n",
       "      <th>17</th>\n",
       "      <td>18</td>\n",
       "      <td>M2</td>\n",
       "      <td>FL</td>\n",
       "      <td>SSp-ul</td>\n",
       "      <td>Primary forelimb</td>\n",
       "      <td>Somatomotor</td>\n",
       "    </tr>\n",
       "    <tr>\n",
       "      <th>18</th>\n",
       "      <td>19</td>\n",
       "      <td>A</td>\n",
       "      <td>M2</td>\n",
       "      <td>MOs</td>\n",
       "      <td>Secondary motor</td>\n",
       "      <td>Somatomotor</td>\n",
       "    </tr>\n",
       "    <tr>\n",
       "      <th>19</th>\n",
       "      <td>20</td>\n",
       "      <td>TR</td>\n",
       "      <td>A</td>\n",
       "      <td>VISa</td>\n",
       "      <td>Anterior</td>\n",
       "      <td>Medial</td>\n",
       "    </tr>\n",
       "    <tr>\n",
       "      <th>20</th>\n",
       "      <td>21</td>\n",
       "      <td>AM</td>\n",
       "      <td>TR</td>\n",
       "      <td>SSp-tr</td>\n",
       "      <td>Primary trunk</td>\n",
       "      <td>Somatomotor</td>\n",
       "    </tr>\n",
       "    <tr>\n",
       "      <th>21</th>\n",
       "      <td>22</td>\n",
       "      <td>PM</td>\n",
       "      <td>HL</td>\n",
       "      <td>SSp-ll</td>\n",
       "      <td>Primary hindlimb</td>\n",
       "      <td>Somatomotor</td>\n",
       "    </tr>\n",
       "    <tr>\n",
       "      <th>22</th>\n",
       "      <td>23</td>\n",
       "      <td>RA</td>\n",
       "      <td>AM</td>\n",
       "      <td>VISam</td>\n",
       "      <td>Anterior medial</td>\n",
       "      <td>Medial</td>\n",
       "    </tr>\n",
       "    <tr>\n",
       "      <th>23</th>\n",
       "      <td>24</td>\n",
       "      <td>RD</td>\n",
       "      <td>PM</td>\n",
       "      <td>VISpm</td>\n",
       "      <td>Posterior medial</td>\n",
       "      <td>Medial</td>\n",
       "    </tr>\n",
       "    <tr>\n",
       "      <th>24</th>\n",
       "      <td>25</td>\n",
       "      <td>BC_1</td>\n",
       "      <td>RA</td>\n",
       "      <td>RSPagl</td>\n",
       "      <td>Retrosplenial agranular</td>\n",
       "      <td>Medial</td>\n",
       "    </tr>\n",
       "    <tr>\n",
       "      <th>25</th>\n",
       "      <td>26</td>\n",
       "      <td>BC_2</td>\n",
       "      <td>RD</td>\n",
       "      <td>RSPd</td>\n",
       "      <td>Retrosplenial dorsal</td>\n",
       "      <td>Medial</td>\n",
       "    </tr>\n",
       "    <tr>\n",
       "      <th>26</th>\n",
       "      <td>27</td>\n",
       "      <td>BC_3</td>\n",
       "      <td>ACA</td>\n",
       "      <td>ACA</td>\n",
       "      <td>Anterior cingulate area</td>\n",
       "      <td>Somatomotor</td>\n",
       "    </tr>\n",
       "  </tbody>\n",
       "</table>\n",
       "</div>"
      ],
      "text/plain": [
       "    Num LOrig LTrue   LCanon                     Name         Area\n",
       "0     1    A1    A1     AUDp         Auditroy primary     Auditory\n",
       "1     2    S2    S2      SSs        Secondary sensory  Somatomotor\n",
       "2     3   TEA   TEA      TEa     Temporal association      Lateral\n",
       "3     4    AD    AD     AUDd          Auditory dorsal     Auditory\n",
       "4     5    AP    AP    AUDpo       Auditory posterior     Auditory\n",
       "5     6    PR    PR   VISpor              Post rhinal       Visual\n",
       "6     7    NO    NO    SSp-n             Primary nose  Somatomotor\n",
       "7     8    BC    BC  SSp-bfd            Barrel cortex  Somatomotor\n",
       "8     9    MO    MO    SSp-m            Primary mouth  Somatomotor\n",
       "9    10    LI    LI    VISli     Lateral intermediate       Visual\n",
       "10   11    AL    AL    VISal         Anterior lateral       Visual\n",
       "11   12    PL    LM     VISl           Lateral medial       Visual\n",
       "12   13    RL    PL    VISpl        Posterior lateral       Visual\n",
       "13   14    V1    RL    VISrl           Rostro lateral       Visual\n",
       "14   15    M1    V1     VISp           Primary visual       Visual\n",
       "15   16    UN    M1      MOp            Primary motor  Somatomotor\n",
       "16   17    FL    UN   SSp-un     Primary unclassified  Somatomotor\n",
       "17   18    M2    FL   SSp-ul         Primary forelimb  Somatomotor\n",
       "18   19     A    M2      MOs          Secondary motor  Somatomotor\n",
       "19   20    TR     A     VISa                 Anterior       Medial\n",
       "20   21    AM    TR   SSp-tr            Primary trunk  Somatomotor\n",
       "21   22    PM    HL   SSp-ll         Primary hindlimb  Somatomotor\n",
       "22   23    RA    AM    VISam          Anterior medial       Medial\n",
       "23   24    RD    PM    VISpm         Posterior medial       Medial\n",
       "24   25  BC_1    RA   RSPagl  Retrosplenial agranular       Medial\n",
       "25   26  BC_2    RD     RSPd     Retrosplenial dorsal       Medial\n",
       "26   27  BC_3   ACA      ACA  Anterior cingulate area  Somatomotor"
      ]
     },
     "execution_count": 8,
     "metadata": {},
     "output_type": "execute_result"
    }
   ],
   "source": [
    "dataDB.channelAreasDF"
   ]
  },
  {
   "cell_type": "markdown",
   "metadata": {},
   "source": [
    "## All - Distribution - Nosession"
   ]
  },
  {
   "cell_type": "code",
   "execution_count": 9,
   "metadata": {},
   "outputs": [],
   "source": [
    "# pwdAllH5_2 = '/media/alyosha/Data/TE_data/yasirdata_raw/rez/gallerosalas_result_multiregional_pid_all_df.h5'\n",
    "# pwdAllH5_2_Rand = '/media/alyosha/Data/TE_data/yasirdata_raw/rez/gallerosalas_result_multiregional_pid_all_df_rand.h5'\n",
    "\n",
    "pwdAllH5_2 = '/home/alyosha/data/yasirdata_raw/pid/gallerosalas_result_multiregional_pid_all_df.h5'\n",
    "pwdAllH5_2_Rand = '/home/alyosha/data/yasirdata_raw/pid/gallerosalas_result_multiregional_pid_all_df_rand.h5'"
   ]
  },
  {
   "cell_type": "code",
   "execution_count": 10,
   "metadata": {},
   "outputs": [],
   "source": [
    "intervNames = dataDB.get_interval_names()\n",
    "#trialTypes = ['Hit', 'CR', 'Miss', 'FA']\n",
    "trialTypes = ['Hit', 'CR']"
   ]
  },
  {
   "cell_type": "code",
   "execution_count": 11,
   "metadata": {},
   "outputs": [],
   "source": [
    "dfSummary = pid_joint.pid_all_summary_df(pwdAllH5_2)"
   ]
  },
  {
   "cell_type": "code",
   "execution_count": 12,
   "metadata": {},
   "outputs": [],
   "source": [
    "dfSummaryRand = pid_joint.pid_all_summary_df(pwdAllH5_2_Rand)"
   ]
  },
  {
   "cell_type": "code",
   "execution_count": null,
   "metadata": {
    "scrolled": true
   },
   "outputs": [],
   "source": [
    "pid_joint.plot_cdf(pwdAllH5_2, dfSummary)"
   ]
  },
  {
   "cell_type": "code",
   "execution_count": null,
   "metadata": {
    "scrolled": true
   },
   "outputs": [],
   "source": [
    "pid_joint.plot_violin_test(pwdAllH5_2, pwdAllH5_2_Rand, dfSummary, dfSummaryRand)"
   ]
  },
  {
   "cell_type": "code",
   "execution_count": null,
   "metadata": {
    "scrolled": false
   },
   "outputs": [],
   "source": [
    "pid_joint.barplot_avg(dataDB, pwdAllH5_2, dfSummary, 'phase', intervNames)"
   ]
  },
  {
   "cell_type": "code",
   "execution_count": null,
   "metadata": {},
   "outputs": [],
   "source": [
    "pid_joint.barplot_avg(dataDB, pwdAllH5_2, dfSummary, 'trialType', trialTypes)"
   ]
  },
  {
   "cell_type": "code",
   "execution_count": null,
   "metadata": {
    "scrolled": true
   },
   "outputs": [],
   "source": [
    "pid_joint.plot_top_singlets(dataDB, pwdAllH5_2, dfSummary)"
   ]
  },
  {
   "cell_type": "code",
   "execution_count": null,
   "metadata": {
    "scrolled": true
   },
   "outputs": [],
   "source": [
    "pid_joint.plot_singlets_brainplot(dataDB, pwdAllH5_2, dfSummary, 'phase', intervNames)"
   ]
  },
  {
   "cell_type": "code",
   "execution_count": null,
   "metadata": {
    "scrolled": true
   },
   "outputs": [],
   "source": [
    "pid_joint.plot_singlets_brainplot(dataDB, pwdAllH5_2, dfSummary, 'trialType',\n",
    "                                  trialTypes)"
   ]
  },
  {
   "cell_type": "code",
   "execution_count": null,
   "metadata": {
    "scrolled": true
   },
   "outputs": [],
   "source": [
    "pid_joint.plot_singlets_brainplot_mousephase_subpre(dataDB, pwdAllH5_2, dfSummary)"
   ]
  },
  {
   "cell_type": "code",
   "execution_count": null,
   "metadata": {
    "scrolled": true
   },
   "outputs": [],
   "source": [
    "pid_joint.plot_singlets_brainplot_mousephase_submouse(dataDB, pwdAllH5_2, dfSummary)"
   ]
  },
  {
   "cell_type": "code",
   "execution_count": null,
   "metadata": {
    "scrolled": true
   },
   "outputs": [],
   "source": [
    "pid_joint.plot_triplets(pwdAllH5_2, dfSummary, nTop=20)#, dropChannels=['BC'])"
   ]
  },
  {
   "cell_type": "code",
   "execution_count": 13,
   "metadata": {
    "scrolled": true
   },
   "outputs": [],
   "source": [
    "pid_joint.plot_2D_avg(dataDB, pwdAllH5_2, dfSummary, 'phase', intervNames,\n",
    "                      dropChannels=[16, 26], avgAxis=2)"
   ]
  },
  {
   "cell_type": "code",
   "execution_count": 14,
   "metadata": {},
   "outputs": [],
   "source": [
    "pid_joint.plot_2D_avg(dataDB, pwdAllH5_2, dfSummary, 'trialType', trialTypes,\n",
    "                      dropChannels=[16, 26], avgAxis=2)"
   ]
  },
  {
   "cell_type": "code",
   "execution_count": 15,
   "metadata": {},
   "outputs": [],
   "source": [
    "for trgChName in ['SSp-bfd', 'VISrl', 'AUDp']:\n",
    "    pid_joint.plot_2D_target(dataDB, pwdAllH5_2, dfSummary, trgChName,\n",
    "                         'phase', intervNames, dropChannels=[16, 26])\n",
    "    pid_joint.plot_2D_target(dataDB, pwdAllH5_2, dfSummary, trgChName,\n",
    "                         'trialType', trialTypes, dropChannels=[16, 26])"
   ]
  },
  {
   "cell_type": "code",
   "execution_count": 16,
   "metadata": {
    "scrolled": true
   },
   "outputs": [],
   "source": [
    "for trgChName in ['SSp-bfd', 'VISrl', 'AUDp']:\n",
    "    pid_joint.plot_2D_target_mousephase_subpre(dataDB, pwdAllH5_2, dfSummary,\n",
    "                                              trgChName, dropChannels=[16, 26])"
   ]
  },
  {
   "cell_type": "code",
   "execution_count": 18,
   "metadata": {},
   "outputs": [],
   "source": [
    "for trgChName in ['SSp-bfd', 'VISrl', 'AUDp']:\n",
    "    pid_joint.plot_2D_target_mousephase_submouse(dataDB, pwdAllH5_2, dfSummary,\n",
    "                                                trgChName, dropChannels=[16, 26])"
   ]
  },
  {
   "cell_type": "code",
   "execution_count": null,
   "metadata": {
    "scrolled": true
   },
   "outputs": [],
   "source": [
    "pid_joint.plot_2D_bytarget_synergy_cluster(dataDB, pwdAllH5_2, dfSummary, 'BC',\n",
    "                                           dropChannels=None, clusterParam=0.001, dropWeakChannelThr=0.1)"
   ]
  },
  {
   "cell_type": "code",
   "execution_count": null,
   "metadata": {},
   "outputs": [],
   "source": [
    "pid_joint.plot_unique_top_pairs(dataDB, pwdAllH5_2, dfSummary, nTop=20, dropChannels=None)"
   ]
  },
  {
   "cell_type": "markdown",
   "metadata": {},
   "source": [
    "# Consistency"
   ]
  },
  {
   "cell_type": "code",
   "execution_count": null,
   "metadata": {
    "scrolled": true
   },
   "outputs": [],
   "source": [
    "pid_joint.plot_consistency_bymouse(pwdAllH5_2, dfSummary, dropChannels=None, kind='fisher', limits=[0, 1])"
   ]
  },
  {
   "cell_type": "code",
   "execution_count": null,
   "metadata": {
    "scrolled": true
   },
   "outputs": [],
   "source": [
    "pid_joint.plot_consistency_byphase(pwdAllH5_2, dfSummary, dropChannels=None,\n",
    "                                   kind='fisher', limits=[0, 1], datatype='bn_trial')\n",
    "pid_joint.plot_consistency_byphase(pwdAllH5_2, dfSummary, dropChannels=None, \n",
    "                                   kind='fisher', limits=[0, 1], datatype='bn_session')"
   ]
  },
  {
   "cell_type": "code",
   "execution_count": null,
   "metadata": {
    "scrolled": true
   },
   "outputs": [],
   "source": [
    "pid_joint.plot_consistency_bytrialtype(pwdAllH5_2, dfSummary, dropChannels=None, datatype='bn_trial',\n",
    "                                       trialTypes=['Hit', 'CR'], kind='fisher', fisherThr=0.1, limits=[0, 1])\n",
    "pid_joint.plot_consistency_bytrialtype(pwdAllH5_2, dfSummary, dropChannels=None, datatype='bn_session',\n",
    "                                       trialTypes=['Hit', 'CR'], kind='fisher', fisherThr=0.1, limits=[0, 1])"
   ]
  },
  {
   "cell_type": "code",
   "execution_count": null,
   "metadata": {},
   "outputs": [],
   "source": [
    "dfSummary"
   ]
  },
  {
   "cell_type": "code",
   "execution_count": null,
   "metadata": {},
   "outputs": [],
   "source": []
  }
 ],
 "metadata": {
  "kernelspec": {
   "display_name": "Python 3.8 (IDTxl)",
   "language": "python",
   "name": "py38idtxl"
  },
  "language_info": {
   "codemirror_mode": {
    "name": "ipython",
    "version": 3
   },
   "file_extension": ".py",
   "mimetype": "text/x-python",
   "name": "python",
   "nbconvert_exporter": "python",
   "pygments_lexer": "ipython3",
   "version": "3.8.10"
  }
 },
 "nbformat": 4,
 "nbformat_minor": 4
}

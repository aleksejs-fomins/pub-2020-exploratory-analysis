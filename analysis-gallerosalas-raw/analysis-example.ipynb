{
 "cells": [
  {
   "cell_type": "code",
   "execution_count": null,
   "metadata": {},
   "outputs": [],
   "source": [
    "# Standard libraries\n",
    "import json\n",
    "import numpy as np\n",
    "import pandas as pd\n",
    "import seaborn as sns\n",
    "import matplotlib.pyplot as plt\n",
    "from ipywidgets import interactive, IntProgress\n",
    "from IPython.display import display\n",
    "\n",
    "# Append base directory\n",
    "import os,sys,inspect\n",
    "rootname = \"pub-2020-exploratory-analysis\"\n",
    "thispath = os.getcwd()\n",
    "# thispath = os.path.dirname(os.path.abspath(inspect.getfile(inspect.currentframe())))\n",
    "rootpath = os.path.join(thispath[:thispath.index(rootname)], rootname)\n",
    "sys.path.append(rootpath)\n",
    "print(\"Appended root directory\", rootpath)\n",
    "\n",
    "from mesostat.utils.qt_helper import gui_fnames, gui_fpath\n",
    "from lib.gallerosalas.data_fc_db_raw import DataFCDatabase\n",
    "from mesostat.metric.metric import MetricCalculator\n",
    "from mesostat.utils.signals.filter import zscore\n",
    "\n",
    "%load_ext autoreload\n",
    "%autoreload 2"
   ]
  },
  {
   "cell_type": "code",
   "execution_count": null,
   "metadata": {},
   "outputs": [],
   "source": [
    "params = {}\n",
    "# params['root_path_data']  = gui_fpath(\"Path to data collection\",  './')\n",
    "params['root_path_data'] = '/media/alyosha/Data/TE_data/yasirdata_raw/'\n",
    "# params['root_path_data'] = '/home/alyosha/data/yasirdata_raw/'"
   ]
  },
  {
   "cell_type": "code",
   "execution_count": null,
   "metadata": {},
   "outputs": [],
   "source": [
    "dataDB = DataFCDatabase(params)"
   ]
  },
  {
   "cell_type": "code",
   "execution_count": null,
   "metadata": {},
   "outputs": [],
   "source": [
    "print('mice', dataDB.mice)\n",
    "print('nSessions', len(dataDB.sessions))\n",
    "print('datatypes', dataDB.get_data_types())\n",
    "print('nChannel', dataDB.get_nchannels('mou_5'))"
   ]
  },
  {
   "cell_type": "code",
   "execution_count": null,
   "metadata": {},
   "outputs": [],
   "source": [
    "dataDB.calc_shortest_distances()"
   ]
  },
  {
   "cell_type": "code",
   "execution_count": null,
   "metadata": {},
   "outputs": [],
   "source": [
    "fig, ax = plt.subplots(ncols=2)\n",
    "ax[0].imshow(dataDB.allenMap)\n",
    "ax[1].imshow(dataDB.allenDist)\n",
    "plt.show()\n",
    "\n",
    "len(dataDB.allenCounts)"
   ]
  },
  {
   "cell_type": "code",
   "execution_count": null,
   "metadata": {
    "scrolled": true
   },
   "outputs": [],
   "source": [
    "from mesostat.visualization.mpl_barplot import barplot_stacked\n",
    "\n",
    "def get_trial_distribution(dataDB):\n",
    "    rezLst = []\n",
    "    \n",
    "    for mousename in sorted(dataDB.mice):\n",
    "        for trialType in dataDB.get_trial_type_names():\n",
    "            nTrial = 0\n",
    "            for session in dataDB.get_sessions(mousename):\n",
    "                trialTypes = dataDB.get_trial_types(session, mousename)\n",
    "                nTrial += (trialTypes == trialType).sum()\n",
    "            rezLst += [[mousename, trialType, nTrial]]\n",
    "    \n",
    "    df = pd.DataFrame(rezLst, columns=['mousename', 'trialType', 'nTrial'])\n",
    "    df[\"nTrial\"] = pd.to_numeric(df[\"nTrial\"])\n",
    "    \n",
    "    fig, ax=plt.subplots()\n",
    "    barplot_stacked(ax, df, 'mousename', 'nTrial')\n",
    "    plt.show()\n",
    "    \n",
    "    \n",
    "    \n",
    "get_trial_distribution(dataDB)"
   ]
  },
  {
   "cell_type": "code",
   "execution_count": null,
   "metadata": {},
   "outputs": [],
   "source": [
    "def get_summary():\n",
    "    names = []\n",
    "    counts = []\n",
    "    miceLst = []\n",
    "    sessionsLst = []\n",
    "\n",
    "    for mousename in dataDB.mice:\n",
    "        for session in dataDB.sessions[mousename]:\n",
    "            miceLst += [mousename]\n",
    "            sessionsLst += [session]\n",
    "            \n",
    "            trialTypes = dataDB.get_trial_types(session, mousename)\n",
    "            n, c = np.unique(trialTypes, return_counts=True)\n",
    "            names += [n]\n",
    "            counts += [c]\n",
    "            \n",
    "    unqTypes = sorted(set(np.hstack(names)))\n",
    "    \n",
    "    rez = []\n",
    "    for n,c in zip(names, counts):\n",
    "        ncdict = dict(zip(n,c))\n",
    "        rez += [[ncdict[t] if t in ncdict else 0 for t in unqTypes]]\n",
    "\n",
    "    df = pd.DataFrame(rez, columns=unqTypes)\n",
    "    df['mouse'] = miceLst\n",
    "    df['session'] = sessionsLst\n",
    "    return df"
   ]
  },
  {
   "cell_type": "code",
   "execution_count": null,
   "metadata": {
    "scrolled": true
   },
   "outputs": [],
   "source": [
    "for iMouse, mousename in enumerate(dataDB.mice):\n",
    "    sessions = dataDB.get_sessions(mousename)\n",
    "    nRows = len(sessions)\n",
    "    nCols = len(dataDB.dataTypes)\n",
    "    fig, ax = plt.subplots(nrows=nRows, ncols=nCols, figsize=(4*nCols, 4*nRows), tight_layout=True)\n",
    "#     fig.suptitle(mousename)\n",
    "    \n",
    "    for iSession, session in enumerate(sessions):\n",
    "        print(mousename, session)\n",
    "        \n",
    "        ax[iSession, 0].set_ylabel(session)\n",
    "        \n",
    "        for iDataType, datatype in enumerate(dataDB.dataTypes):\n",
    "            if iSession == 0:\n",
    "                ax[0, iDataType].set_title(datatype)\n",
    "                \n",
    "            dataSession = dataDB.get_neuro_data({'session' : session}, datatype=datatype, trialType='Hit')[0]\n",
    "            nTrial, nTime, nChannel = dataSession.shape\n",
    "            times = dataDB.get_times(nTime)\n",
    "\n",
    "            ax[iSession, iDataType].plot(times, np.mean(dataSession, axis=0))\n",
    "            dataDB.label_plot_timestamps(ax[iSession, iDataType], mousename, session, linecolor='r', textcolor='pink')\n",
    "            \n",
    "            dataDB.label_plot_intervals(ax[iSession, iDataType], mousename, session)\n",
    "            \n",
    "        \n",
    "    plt.show()"
   ]
  },
  {
   "cell_type": "markdown",
   "metadata": {},
   "source": [
    "### Testing distribution of reward w.r.t start of report phase"
   ]
  },
  {
   "cell_type": "code",
   "execution_count": null,
   "metadata": {
    "scrolled": true
   },
   "outputs": [],
   "source": [
    "import h5py\n",
    "import matplotlib.pyplot as plt\n",
    "from mesostat.utils.pandas_helper import pd_is_one_row, pd_query\n",
    "\n",
    "\n",
    "for mousename in sorted(dataDB.mice):\n",
    "    print(mousename)\n",
    "    \n",
    "    pwdH5 = dataDB.datapaths[mousename]\n",
    "    dfSess = pd.read_hdf(pwdH5, 'metadataSession')\n",
    "    \n",
    "    for session in dataDB.get_sessions(mousename):\n",
    "        df = pd.read_hdf(pwdH5, 'metadataTrial/'+session)\n",
    "        rew = df['Reward'].dropna()\n",
    "        delay = df['Delay'].dropna()\n",
    "        delayTime = pd_is_one_row(pd_query(dfSess, {'session': session}))[1]['delay']\n",
    "        repTime = np.mean(delay + delayTime)\n",
    "        rewMu = np.nanmean(rew)\n",
    "        \n",
    "        with h5py.File(pwdH5, 'r') as f:\n",
    "            nSampleData = f['bn_session'][session].shape[1]\n",
    "            endTime = nSampleData / 20.0\n",
    "        \n",
    "        \n",
    "        plt.figure()\n",
    "        plt.title(mousename + '_' + session)\n",
    "        plt.hist(rew, bins='auto', range=(0,10), label='rew')\n",
    "#         plt.hist(rep, bins='auto', range=(0,10), label='rep')\n",
    "        plt.axvline(x=repTime, linestyle='--', color='pink')\n",
    "#         plt.axvline(x=repTime+1, linestyle='--', color='red')\n",
    "        plt.axvline(x=endTime, linestyle='--', color='green')\n",
    "        plt.axvline(x=rewMu, linestyle='--', color='yellow')\n",
    "        plt.axvline(x=rewMu-0.5, linestyle='--', color='orange')\n",
    "        plt.axvline(x=rewMu+0.5, linestyle='--', color='orange')\n",
    "        \n",
    "        \n",
    "        plt.legend()\n",
    "        plt.show()"
   ]
  },
  {
   "cell_type": "code",
   "execution_count": null,
   "metadata": {},
   "outputs": [],
   "source": []
  }
 ],
 "metadata": {
  "kernelspec": {
   "display_name": "py3ml",
   "language": "python",
   "name": "py3ml"
  },
  "language_info": {
   "codemirror_mode": {
    "name": "ipython",
    "version": 3
   },
   "file_extension": ".py",
   "mimetype": "text/x-python",
   "name": "python",
   "nbconvert_exporter": "python",
   "pygments_lexer": "ipython3",
   "version": "3.8.5"
  }
 },
 "nbformat": 4,
 "nbformat_minor": 2
}

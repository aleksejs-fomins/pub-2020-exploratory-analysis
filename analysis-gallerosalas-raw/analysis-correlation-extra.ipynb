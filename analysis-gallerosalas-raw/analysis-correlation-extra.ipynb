{
 "cells": [
  {
   "cell_type": "code",
   "execution_count": null,
   "metadata": {
    "collapsed": true
   },
   "outputs": [],
   "source": [
    "# Standard libraries\n",
    "import numpy as np\n",
    "import pandas as pd\n",
    "import matplotlib.pyplot as plt\n",
    "from ipywidgets import IntProgress\n",
    "from IPython.display import display\n",
    "\n",
    "# Append base directory\n",
    "import os,sys,inspect\n",
    "rootname = \"pub-2020-exploratory-analysis\"\n",
    "# thispath = os.path.dirname(os.path.abspath(inspect.getfile(inspect.currentframe())))\n",
    "thispath = os.getcwd()\n",
    "rootpath = os.path.join(thispath[:thispath.index(rootname)], rootname)\n",
    "sys.path.append(rootpath)\n",
    "print(\"Appended root directory\", rootpath)\n",
    "\n",
    "from mesostat.utils.qt_helper import gui_fnames, gui_fpath\n",
    "from mesostat.metric.metric import MetricCalculator\n",
    "from mesostat.utils.hdf5_io import DataStorage\n",
    "\n",
    "from lib.gallerosalas.data_fc_db_raw import DataFCDatabase\n",
    "import lib.analysis.coactivity as coactivity\n",
    "from lib.common.visualization import merge_image_sequence_movie\n",
    "\n",
    "%load_ext autoreload\n",
    "%autoreload 2"
   ]
  },
  {
   "cell_type": "code",
   "execution_count": null,
   "metadata": {
    "collapsed": true
   },
   "outputs": [],
   "source": [
    "params = {}\n",
    "# params['root_path_data']  = gui_fpath(\"Path to data collection\",  './')\n",
    "# params['root_path_data'] = '/media/alyosha/Data/TE_data/yasirdata_raw/'\n",
    "params['root_path_data'] = '/media/aleksejs/DataHDD/work/data/yasir/yasirdata_raw'\n",
    "# params['root_path_data'] = '/home/alyosha/data/yasirdata_raw/'"
   ]
  },
  {
   "cell_type": "code",
   "execution_count": null,
   "metadata": {
    "collapsed": true
   },
   "outputs": [],
   "source": [
    "dataDB = DataFCDatabase(params)"
   ]
  },
  {
   "cell_type": "code",
   "execution_count": null,
   "metadata": {
    "collapsed": true
   },
   "outputs": [],
   "source": [
    "mc = MetricCalculator(serial=True, verbose=False)"
   ]
  },
  {
   "cell_type": "code",
   "execution_count": null,
   "metadata": {
    "collapsed": true
   },
   "outputs": [],
   "source": [
    "print('mice', dataDB.mice)\n",
    "print('nSessions', len(dataDB.sessions))\n",
    "print('datatypes', dataDB.get_data_types())\n",
    "print('nChannel', dataDB.get_nchannels('mou_5'))"
   ]
  },
  {
   "cell_type": "markdown",
   "metadata": {
    "collapsed": true
   },
   "source": [
    "# Why high correlations"
   ]
  },
  {
   "cell_type": "markdown",
   "metadata": {},
   "source": [
    "### 1.1 Get 2 regions sufficiently far apart"
   ]
  },
  {
   "cell_type": "code",
   "execution_count": null,
   "metadata": {
    "collapsed": true
   },
   "outputs": [],
   "source": [
    "fig, ax = plt.subplots()\n",
    "\n",
    "dataDB.plot_area_clusters(fig, ax, {'A': [0], 'B': [25]})\n",
    "plt.show()"
   ]
  },
  {
   "cell_type": "markdown",
   "metadata": {},
   "source": [
    "### 1.2 Compute correlation coefficient between them"
   ]
  },
  {
   "cell_type": "markdown",
   "metadata": {},
   "source": [
    "### 1.3 Scatter plot their activity, color by parameters, seek why correlated\n",
    "\n",
    "Initial conclusion:\n",
    "* There is clear correlation, which appears as a singular 2D gaussian\n",
    "   - No a-priori indication of multiclass behaviour\n",
    "   - AUD+RSP (mostly RSP) code for trialType in M9, variance almost orthogonal to coding axis.\n",
    "   \n",
    "[TODO] Analyse relationship to behaviour"
   ]
  },
  {
   "cell_type": "code",
   "execution_count": null,
   "metadata": {
    "collapsed": true
   },
   "outputs": [],
   "source": [
    "mousename = 'mou_9'\n",
    "\n",
    "df = pd.DataFrame()\n",
    "for trialType in ['Hit', 'CR']:\n",
    "    for intervName in ['TEX', 'DEL', 'REW']:\n",
    "        for session in dataDB.get_sessions(mousename):\n",
    "            dataRSP = dataDB.get_neuro_data({'session': session}, datatype='bn_trial',\n",
    "                                            intervName=intervName, trialType=trialType)[0]\n",
    "        \n",
    "            dataRP = np.mean(dataRSP, axis=1)\n",
    "            dfThis = pd.DataFrame()\n",
    "            dfThis['AUD'] = dataRP[:, 0]\n",
    "            dfThis['RSP'] = dataRP[:, 25]\n",
    "            dfThis['Session'] = session\n",
    "            dfThis['trialType'] = trialType\n",
    "            dfThis['intervName'] = intervName\n",
    "            df = df.append(dfThis)"
   ]
  },
  {
   "cell_type": "code",
   "execution_count": null,
   "metadata": {
    "collapsed": true
   },
   "outputs": [],
   "source": [
    "import seaborn as sns\n",
    "from mesostat.utils.pandas_helper import pd_query"
   ]
  },
  {
   "cell_type": "code",
   "execution_count": null,
   "metadata": {
    "collapsed": true
   },
   "outputs": [],
   "source": [
    "sns.jointplot(data=df.sample(1000), x=\"AUD\", y=\"RSP\", hue=\"intervName\", kind=\"scatter\")"
   ]
  },
  {
   "cell_type": "code",
   "execution_count": null,
   "metadata": {
    "collapsed": true
   },
   "outputs": [],
   "source": [
    "sns.set(font_scale=2)\n",
    "sns.pairplot(data=df, x_vars=['AUD', 'RSP', \"Session\"], y_vars=['AUD', 'RSP'], hue='trialType',\n",
    "             height=8.27, aspect=11.7/8.27)"
   ]
  },
  {
   "cell_type": "code",
   "execution_count": null,
   "metadata": {
    "collapsed": true,
    "scrolled": true
   },
   "outputs": [],
   "source": [
    "sns.set(font_scale=1)\n",
    "for session in dataDB.get_sessions(mousename):\n",
    "    dfThis = pd_query(df, {'Session': session})\n",
    "    sns.pairplot(data=dfThis, x_vars=['AUD', 'RSP'], y_vars=['AUD', 'RSP'], hue=\"intervName\",\n",
    "                 height=4, aspect=1)\n",
    "    \n",
    "#     sns.pairplot(data=dfThis, x_vars=['AUD', 'RSP'], y_vars=['AUD', 'RSP'], hue=\"trialType\",\n",
    "#              height=4, aspect=1)"
   ]
  },
  {
   "cell_type": "code",
   "execution_count": null,
   "metadata": {
    "collapsed": true
   },
   "outputs": [],
   "source": []
  }
 ],
 "metadata": {
  "kernelspec": {
   "display_name": "Py3QT5",
   "language": "python",
   "name": "py3qt5"
  },
  "language_info": {
   "codemirror_mode": {
    "name": "ipython",
    "version": 3
   },
   "file_extension": ".py",
   "mimetype": "text/x-python",
   "name": "python",
   "nbconvert_exporter": "python",
   "pygments_lexer": "ipython3",
   "version": "3.8.5"
  }
 },
 "nbformat": 4,
 "nbformat_minor": 4
}

{
 "cells": [
  {
   "cell_type": "code",
   "execution_count": 1,
   "metadata": {},
   "outputs": [
    {
     "name": "stdout",
     "output_type": "stream",
     "text": [
      "Appended root directory /media/aleksejs/DataHDD/work/codes/comp-neuro/analysis-mesoscopic/pub-2020-exploratory-analysis\n"
     ]
    }
   ],
   "source": [
    "# Standard libraries\n",
    "import numpy as np\n",
    "import pandas as pd\n",
    "import matplotlib.pyplot as plt\n",
    "from ipywidgets import IntProgress\n",
    "from IPython.display import display\n",
    "\n",
    "# Append base directory\n",
    "import os,sys,inspect\n",
    "rootname = \"pub-2020-exploratory-analysis\"\n",
    "thispath = os.path.dirname(os.path.abspath(inspect.getfile(inspect.currentframe())))\n",
    "rootpath = os.path.join(thispath[:thispath.index(rootname)], rootname)\n",
    "sys.path.append(rootpath)\n",
    "print(\"Appended root directory\", rootpath)\n",
    "\n",
    "from mesostat.utils.qt_helper import gui_fnames, gui_fpath\n",
    "from mesostat.metric.metric import MetricCalculator\n",
    "from mesostat.utils.hdf5_io import DataStorage\n",
    "from lib.gallerosalas.data_fc_db_raw import DataFCDatabase\n",
    "import lib.analysis.activity as activity\n",
    "\n",
    "%load_ext autoreload\n",
    "%autoreload 2"
   ]
  },
  {
   "cell_type": "code",
   "execution_count": 2,
   "metadata": {
    "collapsed": true
   },
   "outputs": [],
   "source": [
    "params = {}\n",
    "# params['root_path_data']  = gui_fpath(\"Path to data collection\",  './')\n",
    "# params['root_path_data'] = '/media/alyosha/Data/TE_data/yasirdata_raw/'\n",
    "params['root_path_data'] = '/media/aleksejs/DataHDD/work/data/yasir/yasirdata_raw'"
   ]
  },
  {
   "cell_type": "code",
   "execution_count": 3,
   "metadata": {},
   "outputs": [
    {
     "name": "stdout",
     "output_type": "stream",
     "text": [
      "Reading channel label file\n",
      "Reading channel area file\n",
      "Reading allen brain map\n",
      "Reading task structure\n",
      "Reading session structure\n",
      "Searching for data files\n",
      "Found mice ['mou_5', 'mou_6', 'mou_7', 'mou_9']\n"
     ]
    }
   ],
   "source": [
    "dataDB = DataFCDatabase(params)"
   ]
  },
  {
   "cell_type": "code",
   "execution_count": 4,
   "metadata": {
    "collapsed": true
   },
   "outputs": [],
   "source": [
    "ds = DataStorage('gallerosalas_result_activity.h5')"
   ]
  },
  {
   "cell_type": "code",
   "execution_count": 5,
   "metadata": {
    "collapsed": true
   },
   "outputs": [],
   "source": [
    "mc = MetricCalculator(serial=True, verbose=False)"
   ]
  },
  {
   "cell_type": "code",
   "execution_count": 6,
   "metadata": {},
   "outputs": [
    {
     "name": "stdout",
     "output_type": "stream",
     "text": [
      "mice {'mou_9', 'mou_6', 'mou_5', 'mou_7'}\n",
      "nSessions 4\n",
      "datatypes ['raw', 'bn_session', 'bn_trial']\n",
      "nChannel 27\n"
     ]
    }
   ],
   "source": [
    "print('mice', dataDB.mice)\n",
    "print('nSessions', len(dataDB.sessions))\n",
    "print('datatypes', dataDB.get_data_types())\n",
    "print('nChannel', dataDB.get_nchannels('mou_5'))"
   ]
  },
  {
   "cell_type": "code",
   "execution_count": 7,
   "metadata": {
    "collapsed": true
   },
   "outputs": [],
   "source": [
    "dataDB.calc_shortest_distances()"
   ]
  },
  {
   "cell_type": "markdown",
   "metadata": {},
   "source": [
    "## Compute mean over time for all mice and condition combinations"
   ]
  },
  {
   "cell_type": "code",
   "execution_count": 16,
   "metadata": {
    "collapsed": true
   },
   "outputs": [],
   "source": [
    "exclQueryLst = [\n",
    "    {'datatype' : 'bn_trial', 'intervName' : 'PRE'},  # Baseline normalized\n",
    "    {'mousename' : 'mou_6', 'intervName' : 'REW'},    # No reward for this mouse\n",
    "]"
   ]
  },
  {
   "cell_type": "code",
   "execution_count": 19,
   "metadata": {
    "scrolled": true
   },
   "outputs": [
    {
     "name": "stdout",
     "output_type": "stream",
     "text": [
      "['mou_5', 'PRE', 'raw', 'Hit']\n",
      "Skipping existing mean_2017_03_06_session01_mou_5_PRE_raw_Hit\n",
      "Skipping existing mean_2017_03_06_session02_mou_5_PRE_raw_Hit\n",
      "Skipping existing mean_2017_03_13_session01_mou_5_PRE_raw_Hit\n",
      "Skipping existing mean_2017_03_13_session02_mou_5_PRE_raw_Hit\n",
      "Skipping existing mean_2017_03_14_session02_mou_5_PRE_raw_Hit\n",
      "Skipping existing mean_2017_03_15_session01_mou_5_PRE_raw_Hit\n",
      "Skipping existing mean_2017_03_16_session01_mou_5_PRE_raw_Hit\n",
      "Skipping existing mean_2017_03_16_session02_mou_5_PRE_raw_Hit\n",
      "Skipping existing mean_2017_03_16_session03_mou_5_PRE_raw_Hit\n",
      "Skipping existing mean_2017_03_17_session01_mou_5_PRE_raw_Hit\n",
      "Skipping existing mean_2017_03_22_session01_mou_5_PRE_raw_Hit\n",
      "Skipping existing mean_2017_03_22_session03_mou_5_PRE_raw_Hit\n",
      "Skipping existing mean_2017_03_22_session04_mou_5_PRE_raw_Hit\n",
      "Skipping existing mean_2017_03_23_session01_mou_5_PRE_raw_Hit\n",
      "Skipping existing mean_2017_03_23_session02_mou_5_PRE_raw_Hit\n",
      "Skipping existing mean_2017_03_24_session01_mou_5_PRE_raw_Hit\n",
      "Skipping existing mean_2017_03_24_session02_mou_5_PRE_raw_Hit\n",
      "Skipping existing mean_2017_03_24_session03_mou_5_PRE_raw_Hit\n",
      "Skipping existing mean_2017_03_28_session01_mou_5_PRE_raw_Hit\n",
      "Skipping existing mean_2017_03_29_session01_mou_5_PRE_raw_Hit\n",
      "Skipping existing mean_2017_03_29_session02_mou_5_PRE_raw_Hit\n",
      "['mou_5', 'PRE', 'raw', 'CR']\n",
      "Skipping existing mean_2017_03_06_session01_mou_5_PRE_raw_CR\n",
      "Skipping existing mean_2017_03_06_session02_mou_5_PRE_raw_CR\n",
      "Skipping existing mean_2017_03_13_session01_mou_5_PRE_raw_CR\n",
      "Skipping existing mean_2017_03_13_session02_mou_5_PRE_raw_CR\n",
      "Skipping existing mean_2017_03_14_session02_mou_5_PRE_raw_CR\n",
      "Skipping existing mean_2017_03_15_session01_mou_5_PRE_raw_CR\n",
      "Skipping existing mean_2017_03_16_session01_mou_5_PRE_raw_CR\n",
      "Skipping existing mean_2017_03_16_session02_mou_5_PRE_raw_CR\n",
      "Skipping existing mean_2017_03_16_session03_mou_5_PRE_raw_CR\n",
      "Skipping existing mean_2017_03_17_session01_mou_5_PRE_raw_CR\n",
      "Skipping existing mean_2017_03_22_session01_mou_5_PRE_raw_CR\n",
      "Skipping existing mean_2017_03_22_session03_mou_5_PRE_raw_CR\n",
      "Skipping existing mean_2017_03_22_session04_mou_5_PRE_raw_CR\n",
      "Skipping existing mean_2017_03_23_session01_mou_5_PRE_raw_CR\n",
      "Skipping existing mean_2017_03_23_session02_mou_5_PRE_raw_CR\n",
      "Skipping existing mean_2017_03_24_session01_mou_5_PRE_raw_CR\n",
      "Skipping existing mean_2017_03_24_session02_mou_5_PRE_raw_CR\n",
      "Skipping existing mean_2017_03_24_session03_mou_5_PRE_raw_CR\n",
      "Skipping existing mean_2017_03_28_session01_mou_5_PRE_raw_CR\n",
      "Skipping existing mean_2017_03_29_session01_mou_5_PRE_raw_CR\n",
      "Skipping existing mean_2017_03_29_session02_mou_5_PRE_raw_CR\n",
      "['mou_5', 'PRE', 'bn_session', 'Hit']\n",
      "Skipping existing mean_2017_03_06_session01_mou_5_PRE_bn_session_Hit\n",
      "Skipping existing mean_2017_03_06_session02_mou_5_PRE_bn_session_Hit\n",
      "Skipping existing mean_2017_03_13_session01_mou_5_PRE_bn_session_Hit\n",
      "Skipping existing mean_2017_03_13_session02_mou_5_PRE_bn_session_Hit\n",
      "Skipping existing mean_2017_03_14_session02_mou_5_PRE_bn_session_Hit\n",
      "Skipping existing mean_2017_03_15_session01_mou_5_PRE_bn_session_Hit\n",
      "Skipping existing mean_2017_03_16_session01_mou_5_PRE_bn_session_Hit\n",
      "Skipping existing mean_2017_03_16_session02_mou_5_PRE_bn_session_Hit\n",
      "Skipping existing mean_2017_03_16_session03_mou_5_PRE_bn_session_Hit\n",
      "Skipping existing mean_2017_03_17_session01_mou_5_PRE_bn_session_Hit\n",
      "Skipping existing mean_2017_03_22_session01_mou_5_PRE_bn_session_Hit\n",
      "Skipping existing mean_2017_03_22_session03_mou_5_PRE_bn_session_Hit\n",
      "Skipping existing mean_2017_03_22_session04_mou_5_PRE_bn_session_Hit\n",
      "Skipping existing mean_2017_03_23_session01_mou_5_PRE_bn_session_Hit\n",
      "Skipping existing mean_2017_03_23_session02_mou_5_PRE_bn_session_Hit\n",
      "Skipping existing mean_2017_03_24_session01_mou_5_PRE_bn_session_Hit\n",
      "Skipping existing mean_2017_03_24_session02_mou_5_PRE_bn_session_Hit\n",
      "Skipping existing mean_2017_03_24_session03_mou_5_PRE_bn_session_Hit\n",
      "Skipping existing mean_2017_03_28_session01_mou_5_PRE_bn_session_Hit\n",
      "['mou_5', 'PRE', 'bn_session', 'CR']\n",
      "['mou_5', 'TEX', 'raw', 'Hit']\n",
      "['mou_5', 'TEX', 'raw', 'CR']\n",
      "['mou_5', 'TEX', 'bn_session', 'Hit']\n",
      "['mou_5', 'TEX', 'bn_session', 'CR']\n",
      "['mou_5', 'TEX', 'bn_trial', 'Hit']\n",
      "['mou_5', 'TEX', 'bn_trial', 'CR']\n",
      "['mou_5', 'DEL', 'raw', 'Hit']\n",
      "['mou_5', 'DEL', 'raw', 'CR']\n",
      "['mou_5', 'DEL', 'bn_session', 'Hit']\n",
      "['mou_5', 'DEL', 'bn_session', 'CR']\n",
      "['mou_5', 'DEL', 'bn_trial', 'Hit']\n",
      "['mou_5', 'DEL', 'bn_trial', 'CR']\n",
      "['mou_5', 'REW', 'raw', 'Hit']\n",
      "['mou_5', 'REW', 'raw', 'CR']\n",
      "['mou_5', 'REW', 'bn_session', 'Hit']\n",
      "['mou_5', 'REW', 'bn_session', 'CR']\n",
      "['mou_5', 'REW', 'bn_trial', 'Hit']\n",
      "['mou_5', 'REW', 'bn_trial', 'CR']\n",
      "['mou_6', 'PRE', 'raw', 'Hit']\n",
      "['mou_6', 'PRE', 'raw', 'CR']\n",
      "['mou_6', 'PRE', 'bn_session', 'Hit']\n",
      "['mou_6', 'PRE', 'bn_session', 'CR']\n",
      "['mou_6', 'TEX', 'raw', 'Hit']\n",
      "['mou_6', 'TEX', 'raw', 'CR']\n",
      "['mou_6', 'TEX', 'bn_session', 'Hit']\n",
      "['mou_6', 'TEX', 'bn_session', 'CR']\n",
      "['mou_6', 'TEX', 'bn_trial', 'Hit']\n",
      "['mou_6', 'TEX', 'bn_trial', 'CR']\n",
      "['mou_6', 'DEL', 'raw', 'Hit']\n",
      "['mou_6', 'DEL', 'raw', 'CR']\n",
      "['mou_6', 'DEL', 'bn_session', 'Hit']\n",
      "['mou_6', 'DEL', 'bn_session', 'CR']\n",
      "['mou_6', 'DEL', 'bn_trial', 'Hit']\n",
      "['mou_6', 'DEL', 'bn_trial', 'CR']\n",
      "['mou_7', 'PRE', 'raw', 'Hit']\n",
      "['mou_7', 'PRE', 'raw', 'CR']\n",
      "['mou_7', 'PRE', 'bn_session', 'Hit']\n",
      "['mou_7', 'PRE', 'bn_session', 'CR']\n",
      "['mou_7', 'TEX', 'raw', 'Hit']\n",
      "['mou_7', 'TEX', 'raw', 'CR']\n",
      "['mou_7', 'TEX', 'bn_session', 'Hit']\n",
      "['mou_7', 'TEX', 'bn_session', 'CR']\n",
      "['mou_7', 'TEX', 'bn_trial', 'Hit']\n",
      "['mou_7', 'TEX', 'bn_trial', 'CR']\n",
      "['mou_7', 'DEL', 'raw', 'Hit']\n",
      "['mou_7', 'DEL', 'raw', 'CR']\n",
      "['mou_7', 'DEL', 'bn_session', 'Hit']\n",
      "['mou_7', 'DEL', 'bn_session', 'CR']\n",
      "['mou_7', 'DEL', 'bn_trial', 'Hit']\n",
      "['mou_7', 'DEL', 'bn_trial', 'CR']\n",
      "['mou_7', 'REW', 'raw', 'Hit']\n",
      "['mou_7', 'REW', 'raw', 'CR']\n",
      "['mou_7', 'REW', 'bn_session', 'Hit']\n",
      "['mou_7', 'REW', 'bn_session', 'CR']\n",
      "['mou_7', 'REW', 'bn_trial', 'Hit']\n",
      "['mou_7', 'REW', 'bn_trial', 'CR']\n",
      "['mou_9', 'PRE', 'raw', 'Hit']\n",
      "['mou_9', 'PRE', 'raw', 'CR']\n",
      "['mou_9', 'PRE', 'bn_session', 'Hit']\n",
      "['mou_9', 'PRE', 'bn_session', 'CR']\n",
      "['mou_9', 'TEX', 'raw', 'Hit']\n",
      "['mou_9', 'TEX', 'raw', 'CR']\n",
      "['mou_9', 'TEX', 'bn_session', 'Hit']\n",
      "['mou_9', 'TEX', 'bn_session', 'CR']\n",
      "['mou_9', 'TEX', 'bn_trial', 'Hit']\n",
      "['mou_9', 'TEX', 'bn_trial', 'CR']\n",
      "['mou_9', 'DEL', 'raw', 'Hit']\n",
      "['mou_9', 'DEL', 'raw', 'CR']\n",
      "['mou_9', 'DEL', 'bn_session', 'Hit']\n",
      "['mou_9', 'DEL', 'bn_session', 'CR']\n",
      "['mou_9', 'DEL', 'bn_trial', 'Hit']\n",
      "['mou_9', 'DEL', 'bn_trial', 'CR']\n",
      "['mou_9', 'REW', 'raw', 'Hit']\n",
      "['mou_9', 'REW', 'raw', 'CR']\n",
      "['mou_9', 'REW', 'bn_session', 'Hit']\n",
      "['mou_9', 'REW', 'bn_session', 'CR']\n",
      "['mou_9', 'REW', 'bn_trial', 'Hit']\n",
      "['mou_9', 'REW', 'bn_trial', 'CR']\n"
     ]
    }
   ],
   "source": [
    "activity.compute_mean_interval(dataDB, ds, {'Hit', 'CR'}, exclQueryLst=exclQueryLst)"
   ]
  },
  {
   "cell_type": "markdown",
   "metadata": {},
   "source": [
    "# 1. Significance"
   ]
  },
  {
   "cell_type": "markdown",
   "metadata": {},
   "source": [
    "## 1.1 Top 10 most significant connections for Hit/Cr, Naive/Expert"
   ]
  },
  {
   "cell_type": "markdown",
   "metadata": {},
   "source": [
    "## 1.3. Accuracy of hit vs cr prediction by mouse, phase"
   ]
  },
  {
   "cell_type": "markdown",
   "metadata": {},
   "source": [
    "# 2. Consistency"
   ]
  },
  {
   "cell_type": "markdown",
   "metadata": {},
   "source": [
    "## 2.1. Consistency of channel activity\n",
    "\n",
    "* DF/F should be independent of channel brightness/opacity, since it normalizes baseline.\n",
    "* Thus, should be able to compare DFF of different mice directly"
   ]
  },
  {
   "cell_type": "markdown",
   "metadata": {},
   "source": [
    "## 2.2 Channels significant for Hit/Cr. Overlap by mouse\n",
    "\n",
    "1. Loop over datatype, interval, session\n",
    "2. Test each channel for Hit/Cr\n",
    "3. Count significant sessions for each channel\n",
    "4. Scatter counts\n",
    "\n",
    "**TODO**\n",
    "* Split by Naive/Expert"
   ]
  },
  {
   "cell_type": "code",
   "execution_count": 23,
   "metadata": {
    "scrolled": true
   },
   "outputs": [
    {
     "name": "stdout",
     "output_type": "stream",
     "text": [
      "['bn_session', 'bn_trial', 'raw'] ['DEL', 'PRE', 'REW', 'TEX']\n"
     ]
    }
   ],
   "source": [
    "activity.plot_consistency_significant_activity_byaction(dataDB, ds)"
   ]
  },
  {
   "cell_type": "markdown",
   "metadata": {},
   "source": [
    "## 2.3. Channels significant for phase. Overlap by mouse"
   ]
  },
  {
   "cell_type": "code",
   "execution_count": 31,
   "metadata": {},
   "outputs": [
    {
     "name": "stdout",
     "output_type": "stream",
     "text": [
      "['bn_session', 'bn_trial', 'raw'] ['CR', 'Hit']\n"
     ]
    }
   ],
   "source": [
    "activity.plot_consistency_significant_activity_byphase(dataDB, ds, ['TEX', 'DEL'])"
   ]
  },
  {
   "cell_type": "code",
   "execution_count": null,
   "metadata": {
    "collapsed": true
   },
   "outputs": [],
   "source": []
  }
 ],
 "metadata": {
  "kernelspec": {
   "display_name": "Py3QT5",
   "language": "python",
   "name": "py3qt5"
  },
  "language_info": {
   "codemirror_mode": {
    "name": "ipython",
    "version": 3
   },
   "file_extension": ".py",
   "mimetype": "text/x-python",
   "name": "python",
   "nbconvert_exporter": "python",
   "pygments_lexer": "ipython3",
   "version": "3.8.5"
  }
 },
 "nbformat": 4,
 "nbformat_minor": 4
}

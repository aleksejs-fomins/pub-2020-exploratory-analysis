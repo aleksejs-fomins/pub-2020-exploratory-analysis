{
 "cells": [
  {
   "cell_type": "markdown",
   "metadata": {},
   "source": [
    "For each mouse\n",
    "1. (Manual) Find summary excel file, extract names of green and yellow sessions\n",
    "2. VidsDCIMG = Find video files, one for each trial\n",
    "3. refImg = Find reference image\n",
    "4. trialTypes = Find trial types\n",
    "5. t1.mat, t2.mat = Find warping files \n",
    "6. allenBrain = Find allen brain map\n",
    "\n",
    "Processing:\n",
    "1. Testing_A:\n",
    "    * For each mouse, load ::: refImg, t1.mat, allenBrain\n",
    "      * Gallero\\SDT-TDT\\overlay\\mou_9\n",
    "        - L_modified (brain areas for all mice) ::: Gallero\\SDT-TDT\\overlay\\mou_9/L_modified.mat\n",
    "        - RefImg ::: Gallero\\SDT-TDT\\overlay\\mou_9\\refImg_ROIs.mat\n",
    "    * For each session, load ::: t2.mat\n",
    "      - Gallero/mou_9/TDT/20180315/widefield_labview/ROI_Allen/registration_transform_1510.mat\n",
    "    * Apply transform to refImg, overplot allenBrain, check that they align\n",
    "2. Testing_B:\n",
    "    * Load all trial videos\n",
    "        - Gallero\\mou_9\\TDT\\20180301\\widefield_labview\n",
    "    * Compute time-average images\n",
    "    * Apply same as Testing_A\n",
    "    * Plot a few random sessions\n",
    "3. Process real data - for each session:\n",
    "    * Provide list of sessions to analyze\n",
    "    * Provide root folder to mouse data\n",
    "    * Provide root folder to overlay data\n",
    "    * Videos\n",
    "        * Load all trial videos\n",
    "        * Apply transformation\n",
    "        * Apply allen map to extract activities, average over pixels\n",
    "        * Store in HDF5\n",
    "    * Trial Intervals:\n",
    "        * Load trial interval file\n",
    "          - Gallero\\mou_9\\TDT\\20180301\\widefield_labview\\a\\Matt_files\\20180301a.mat\n",
    "        * Store 3rd column to HDF5\n",
    "    * Trial Types:\n",
    "        * Load trial type file\n",
    "          - \\Gallero\\mou_9\\TDT\\20180301\\widefield_labview\\a\\Matt_files/trials_ind.mat\n",
    "        * Parse, store to HDF5\n",
    "4. Postprocess datatypes\n",
    "    * Read HDF5\n",
    "    * Merge trials for each session\n",
    "    * Calc times from intervals\n",
    "    * Apply polyfit, look\n",
    "    * Perform DFF, store\n",
    "\n",
    "\n",
    "Notes:\n",
    "\n",
    "* Matlab Fitting routines\n",
    "   - t1= align to mapping day (functional); aligns every day to a common day.\n",
    "   - t2= aligns the common day to Allen institue\n",
    "\n",
    "`\n",
    "tform = fitgeotrans(movingPoints,fixedPoints,'polynomial',3);\n",
    "Jregistered = imwarp(refImg*7000,tform,'OutputView',imref2d(size(A_scaled))); %aligned map\n",
    "`\n",
    "\n",
    "**TODO**:\n",
    "* Compare TrialTypes to to trial_idx.m where applicable, otherwise trial_error.m\n",
    "* Compare resulting bn_trial with what Yasir got"
   ]
  },
  {
   "cell_type": "code",
   "execution_count": 10,
   "metadata": {},
   "outputs": [
    {
     "name": "stdout",
     "output_type": "stream",
     "text": [
      "Appended root directory /media/aleksejs/DataHDD/work/codes/comp-neuro/analysis-mesoscopic/pub-2020-exploratory-analysis\n",
      "The autoreload extension is already loaded. To reload it, use:\n",
      "  %reload_ext autoreload\n"
     ]
    }
   ],
   "source": [
    "# Standard libraries\n",
    "import numpy as np\n",
    "import pandas as pd\n",
    "import matplotlib.pyplot as plt\n",
    "from ipywidgets import IntProgress\n",
    "from IPython.display import display\n",
    "\n",
    "# Append base directory\n",
    "import os,sys,inspect\n",
    "rootname = \"pub-2020-exploratory-analysis\"\n",
    "thispath = os.path.dirname(os.path.abspath(inspect.getfile(inspect.currentframe())))\n",
    "rootpath = os.path.join(thispath[:thispath.index(rootname)], rootname)\n",
    "sys.path.append(rootpath)\n",
    "print(\"Appended root directory\", rootpath)\n",
    "\n",
    "from mesostat.utils.qt_helper import gui_fpath\n",
    "\n",
    "from lib.gallerosalas.preprocess_raw import preprocess\n",
    "import lib.gallerosalas.preprocess_common as prepcommon\n",
    "\n",
    "\n",
    "%load_ext autoreload\n",
    "%autoreload 2"
   ]
  },
  {
   "cell_type": "code",
   "execution_count": 2,
   "metadata": {
    "collapsed": true
   },
   "outputs": [],
   "source": [
    "FPS = 20  # Hz\n",
    "mice = ['mou_9', 'mou_6', 'mou_7', 'mou_5']\n",
    "extra_mice = ['mou_15_Ariel', 'mou_18_Ariel']"
   ]
  },
  {
   "cell_type": "code",
   "execution_count": 3,
   "metadata": {
    "collapsed": true
   },
   "outputs": [],
   "source": [
    "# pathTGT = gui_fpath('root path to TGT')\n",
    "pathTGT = '/run/user/1000/gvfs/smb-share:server=130.60.51.15,share=neurophysiology-storage2/Gallero'"
   ]
  },
  {
   "cell_type": "code",
   "execution_count": 4,
   "metadata": {
    "collapsed": true
   },
   "outputs": [],
   "source": [
    "# pathOverlay = gui_fpath('root path to overlay')\n",
    "pathOverlay = '/run/user/1000/gvfs/smb-share:server=130.60.51.15,share=neurophysiology-storage2/Gallero/SDT-TDT/overlay'"
   ]
  },
  {
   "cell_type": "code",
   "execution_count": 5,
   "metadata": {
    "collapsed": true
   },
   "outputs": [],
   "source": [
    "# pathPreferences = gui_fpath('root path to overlay')\n",
    "# pathPreferences = '/media/alyosha/Data/TE_data/yasirdata_raw'\n",
    "pathPreferences = '/media/aleksejs/DataHDD/work/data/yasir/yasirdata_raw'"
   ]
  },
  {
   "cell_type": "code",
   "execution_count": null,
   "metadata": {
    "collapsed": true
   },
   "outputs": [],
   "source": [
    "pathDict = {\n",
    "    'TGT' : pathTGT,\n",
    "    'Overlay' : pathOverlay,\n",
    "    'Preferences' : pathPreferences\n",
    "}"
   ]
  },
  {
   "cell_type": "code",
   "execution_count": null,
   "metadata": {
    "collapsed": true
   },
   "outputs": [],
   "source": [
    "prep = preprocess(pathDict)"
   ]
  },
  {
   "cell_type": "markdown",
   "metadata": {},
   "source": [
    "# 1. Test transform on Ref files"
   ]
  },
  {
   "cell_type": "code",
   "execution_count": null,
   "metadata": {
    "collapsed": true,
    "scrolled": true
   },
   "outputs": [],
   "source": [
    "for mouseName, pathRef in prep.pathRef.items():\n",
    "    img = prep.load_ref_img(pathRef)\n",
    "    t2 = prep.load_t2(prep.pathT2[mouseName])\n",
    "    print(mouseName)\n",
    "    \n",
    "    imgT2 = prep.transform_img(img, t2)[0]\n",
    "    prep.plot_transforms(img, imgT2, imgT1=None)"
   ]
  },
  {
   "cell_type": "markdown",
   "metadata": {},
   "source": [
    "# 2. Test transform on Video Files"
   ]
  },
  {
   "cell_type": "code",
   "execution_count": null,
   "metadata": {
    "collapsed": true,
    "scrolled": true
   },
   "outputs": [],
   "source": [
    "%%time\n",
    "for mousename in sorted(set(prep.dataPaths['mouse'])):\n",
    "    print(mousename)\n",
    "    prep.test_transform_vids(mousename)"
   ]
  },
  {
   "cell_type": "markdown",
   "metadata": {},
   "source": [
    "# 3. Pool-process video files"
   ]
  },
  {
   "cell_type": "code",
   "execution_count": null,
   "metadata": {
    "collapsed": true,
    "scrolled": true
   },
   "outputs": [],
   "source": [
    "prep.process_video_files('mou_5', skipExisting=False)"
   ]
  },
  {
   "cell_type": "markdown",
   "metadata": {},
   "source": [
    "## 3.1 Test if result is sensible"
   ]
  },
  {
   "cell_type": "code",
   "execution_count": null,
   "metadata": {
    "collapsed": true
   },
   "outputs": [],
   "source": [
    "import h5py \n",
    "rez = []\n",
    "for idx, row in prep.dataPaths.iterrows():\n",
    "    session = row['day'] + '_' + row['session']\n",
    "    fpath = os.path.join(pathPreferences, row['mouse'] + '.h5')    \n",
    "    \n",
    "    with h5py.File(fpath, 'r') as f:\n",
    "        dataRSP = np.copy(f['data'][session])\n",
    "        rez += [np.nanmean(dataRSP, axis=(0, 1))]\n",
    "        \n",
    "with pd.option_context('display.max_rows', None, 'display.max_columns', None):\n",
    "    display(pd.DataFrame(np.array(rez), columns=np.arange(27)))"
   ]
  },
  {
   "cell_type": "markdown",
   "metadata": {
    "collapsed": true
   },
   "source": [
    "# 4. Pull trial types and times\n",
    "\n",
    "* Also compute d'"
   ]
  },
  {
   "cell_type": "code",
   "execution_count": null,
   "metadata": {
    "collapsed": true
   },
   "outputs": [],
   "source": [
    "import h5py\n",
    "\n",
    "for mouseName in mice:\n",
    "    with h5py.File(os.path.join(pathPreferences, mouseName + '.h5'), 'a') as f:\n",
    "        del f['metadata']\n",
    "        del f['accuracy']\n",
    "        del f['dprime']"
   ]
  },
  {
   "cell_type": "code",
   "execution_count": 11,
   "metadata": {
    "scrolled": true
   },
   "outputs": [
    {
     "ename": "NameError",
     "evalue": "name 'prep' is not defined",
     "output_type": "error",
     "traceback": [
      "\u001b[0;31m---------------------------------------------------------------------------\u001b[0m",
      "\u001b[0;31mNameError\u001b[0m                                 Traceback (most recent call last)",
      "\u001b[0;32m<ipython-input-11-3ec9f73c7a9b>\u001b[0m in \u001b[0;36m<module>\u001b[0;34m\u001b[0m\n\u001b[0;32m----> 1\u001b[0;31m \u001b[0mprep\u001b[0m\u001b[0;34m.\u001b[0m\u001b[0mprocess_metadata_files\u001b[0m\u001b[0;34m(\u001b[0m\u001b[0mpathPreferences\u001b[0m\u001b[0;34m)\u001b[0m\u001b[0;34m\u001b[0m\u001b[0;34m\u001b[0m\u001b[0m\n\u001b[0m",
      "\u001b[0;31mNameError\u001b[0m: name 'prep' is not defined"
     ]
    }
   ],
   "source": [
    "prep.process_metadata_files(pathPreferences)"
   ]
  },
  {
   "cell_type": "code",
   "execution_count": null,
   "metadata": {},
   "outputs": [],
   "source": [
    "for idx, row in prep.dataPaths.iterrows():\n",
    "    session = row['day'] + '_' + row['session']\n",
    "    fpath = os.path.join(pathPreferences, row['mouse'] + '.h5')\n",
    "    df = pd.read_hdf(fpath, '/metadata/' + session)\n",
    "    display(df.head())"
   ]
  },
  {
   "cell_type": "markdown",
   "metadata": {},
   "source": [
    "# 5. Find and add delay times"
   ]
  },
  {
   "cell_type": "code",
   "execution_count": null,
   "metadata": {},
   "outputs": [],
   "source": [
    "prep.get_append_delay_times(pathPreferences)"
   ]
  },
  {
   "cell_type": "markdown",
   "metadata": {},
   "source": [
    "# 6. Baseline subtraction\n",
    "\n",
    "# 6.1 Plot stitched session, fit poly\n",
    "\n",
    "**TODO**:\n",
    "* Purge mismatching trial counts for trialStruct vs vid:\n",
    "    - Go over data, delete last\n",
    "* Very high variance of individual consecutive trials. May render entire idea useless\n",
    "  - Explore more channels, mice, naive vs expert\n",
    "  - Compare if Yaro has the same problem\n",
    "  - Ask Yasir what he thinks about the origin of these fluctuations:\n",
    "      - Real?\n",
    "      - Motion artifacts?\n",
    "      - Sth else?"
   ]
  },
  {
   "cell_type": "code",
   "execution_count": null,
   "metadata": {
    "collapsed": true,
    "scrolled": false
   },
   "outputs": [],
   "source": [
    "%matplotlib notebook\n",
    "for idx, row in prep.dataPaths.iterrows():\n",
    "    try: \n",
    "#         session = row['day'] + '_' + row['session']\n",
    "        session=\"2017_03_29_session01\"\n",
    "        print(row['mouse'], session)\n",
    "        \n",
    "        times, dataRSP = prep.get_pooled_data_rel_times(pathPreferences, row['mouse'], session)\n",
    "        prepcommon.example_poly_fit(times, dataRSP, ord=50, iCh=6)\n",
    "    except:\n",
    "        print('-- Failed')\n",
    "    break"
   ]
  },
  {
   "cell_type": "markdown",
   "metadata": {},
   "source": [
    "# 6.2 Process all sessions"
   ]
  },
  {
   "cell_type": "code",
   "execution_count": null,
   "metadata": {
    "collapsed": true
   },
   "outputs": [],
   "source": [
    "FPS = 20\n",
    "iMin = 0 * FPS\n",
    "iMax = 1 * FPS"
   ]
  },
  {
   "cell_type": "code",
   "execution_count": null,
   "metadata": {
    "collapsed": true,
    "scrolled": false
   },
   "outputs": [],
   "source": [
    "prep.crop_mismatch_trials(pathPreferences)"
   ]
  },
  {
   "cell_type": "code",
   "execution_count": null,
   "metadata": {
    "collapsed": true,
    "scrolled": true
   },
   "outputs": [],
   "source": [
    "prep.baseline_subtraction_dff(pathPreferences, iMin, iMax, skipExist=True)"
   ]
  },
  {
   "cell_type": "code",
   "execution_count": null,
   "metadata": {
    "collapsed": true,
    "scrolled": true
   },
   "outputs": [],
   "source": [
    "prep.baseline_subtraction_poly(pathPreferences, ord=50, skipExist=True)"
   ]
  },
  {
   "cell_type": "markdown",
   "metadata": {},
   "source": [
    "# 7. Purification\n",
    "\n",
    "### 7.1 Drop bad sessions\n",
    "\n",
    "- mou_7 20171129_c\n",
    "- mou_6 20171006_a"
   ]
  },
  {
   "cell_type": "code",
   "execution_count": null,
   "metadata": {
    "collapsed": true
   },
   "outputs": [],
   "source": [
    "prep.drop_preprocess_session(pathPreferences, 'mou_6', '20171006_a')"
   ]
  },
  {
   "cell_type": "code",
   "execution_count": null,
   "metadata": {
    "collapsed": true
   },
   "outputs": [],
   "source": [
    "prep.drop_preprocess_session(pathPreferences, 'mou_7', '20171129_c')"
   ]
  },
  {
   "cell_type": "markdown",
   "metadata": {},
   "source": [
    "# 8. Append Active/Passive"
   ]
  },
  {
   "cell_type": "code",
   "execution_count": 6,
   "metadata": {
    "collapsed": true
   },
   "outputs": [],
   "source": [
    "import h5py"
   ]
  },
  {
   "cell_type": "code",
   "execution_count": 9,
   "metadata": {},
   "outputs": [
    {
     "data": {
      "text/html": [
       "<div>\n",
       "<style scoped>\n",
       "    .dataframe tbody tr th:only-of-type {\n",
       "        vertical-align: middle;\n",
       "    }\n",
       "\n",
       "    .dataframe tbody tr th {\n",
       "        vertical-align: top;\n",
       "    }\n",
       "\n",
       "    .dataframe thead th {\n",
       "        text-align: right;\n",
       "    }\n",
       "</style>\n",
       "<table border=\"1\" class=\"dataframe\">\n",
       "  <thead>\n",
       "    <tr style=\"text-align: right;\">\n",
       "      <th></th>\n",
       "      <th>time_stamp</th>\n",
       "      <th>stimulus_time</th>\n",
       "      <th>decision_time</th>\n",
       "      <th>reward_time</th>\n",
       "      <th>end_time</th>\n",
       "      <th>trialType</th>\n",
       "    </tr>\n",
       "  </thead>\n",
       "  <tbody>\n",
       "    <tr>\n",
       "      <th>0</th>\n",
       "      <td>09:40:11.3012</td>\n",
       "      <td>5858.6</td>\n",
       "      <td>11056.1</td>\n",
       "      <td>NaN</td>\n",
       "      <td>14697.5</td>\n",
       "      <td>FA</td>\n",
       "    </tr>\n",
       "    <tr>\n",
       "      <th>1</th>\n",
       "      <td>09:40:30.1401</td>\n",
       "      <td>2895.3</td>\n",
       "      <td>9642.9</td>\n",
       "      <td>NaN</td>\n",
       "      <td>12383.2</td>\n",
       "      <td>CR</td>\n",
       "    </tr>\n",
       "    <tr>\n",
       "      <th>2</th>\n",
       "      <td>09:40:46.6537</td>\n",
       "      <td>2869.3</td>\n",
       "      <td>9594.0</td>\n",
       "      <td>NaN</td>\n",
       "      <td>12075.2</td>\n",
       "      <td>Miss</td>\n",
       "    </tr>\n",
       "    <tr>\n",
       "      <th>3</th>\n",
       "      <td>09:41:02.8543</td>\n",
       "      <td>2874.3</td>\n",
       "      <td>7988.8</td>\n",
       "      <td>NaN</td>\n",
       "      <td>11675.2</td>\n",
       "      <td>FA</td>\n",
       "    </tr>\n",
       "    <tr>\n",
       "      <th>4</th>\n",
       "      <td>09:41:18.6589</td>\n",
       "      <td>2872.3</td>\n",
       "      <td>9596</td>\n",
       "      <td>NaN</td>\n",
       "      <td>12321.3</td>\n",
       "      <td>CR</td>\n",
       "    </tr>\n",
       "    <tr>\n",
       "      <th>...</th>\n",
       "      <td>...</td>\n",
       "      <td>...</td>\n",
       "      <td>...</td>\n",
       "      <td>...</td>\n",
       "      <td>...</td>\n",
       "      <td>...</td>\n",
       "    </tr>\n",
       "    <tr>\n",
       "      <th>179</th>\n",
       "      <td>10:27:10.8109</td>\n",
       "      <td>2876.0</td>\n",
       "      <td>9602</td>\n",
       "      <td>NaN</td>\n",
       "      <td>12377.0</td>\n",
       "      <td>CR</td>\n",
       "    </tr>\n",
       "    <tr>\n",
       "      <th>180</th>\n",
       "      <td>10:27:27.3109</td>\n",
       "      <td>2874.0</td>\n",
       "      <td>9621.0</td>\n",
       "      <td>NaN</td>\n",
       "      <td>12363.0</td>\n",
       "      <td>CR</td>\n",
       "    </tr>\n",
       "    <tr>\n",
       "      <th>181</th>\n",
       "      <td>10:27:43.7999</td>\n",
       "      <td>2876.0</td>\n",
       "      <td>7947.0</td>\n",
       "      <td>7943.0</td>\n",
       "      <td>10581.0</td>\n",
       "      <td>Hit</td>\n",
       "    </tr>\n",
       "    <tr>\n",
       "      <th>182</th>\n",
       "      <td>10:27:58.5089</td>\n",
       "      <td>2869.0</td>\n",
       "      <td>9593.0</td>\n",
       "      <td>NaN</td>\n",
       "      <td>12311.0</td>\n",
       "      <td>CR</td>\n",
       "    </tr>\n",
       "    <tr>\n",
       "      <th>183</th>\n",
       "      <td>10:28:14.9489</td>\n",
       "      <td>2873.0</td>\n",
       "      <td>7910.0</td>\n",
       "      <td>7907.0</td>\n",
       "      <td>10553.0</td>\n",
       "      <td>Hit</td>\n",
       "    </tr>\n",
       "  </tbody>\n",
       "</table>\n",
       "<p>184 rows × 6 columns</p>\n",
       "</div>"
      ],
      "text/plain": [
       "        time_stamp  stimulus_time decision_time reward_time  end_time  \\\n",
       "0    09:40:11.3012         5858.6       11056.1         NaN   14697.5   \n",
       "1    09:40:30.1401         2895.3        9642.9         NaN   12383.2   \n",
       "2    09:40:46.6537         2869.3        9594.0         NaN   12075.2   \n",
       "3    09:41:02.8543         2874.3        7988.8         NaN   11675.2   \n",
       "4    09:41:18.6589         2872.3          9596         NaN   12321.3   \n",
       "..             ...            ...           ...         ...       ...   \n",
       "179  10:27:10.8109         2876.0          9602         NaN   12377.0   \n",
       "180  10:27:27.3109         2874.0        9621.0         NaN   12363.0   \n",
       "181  10:27:43.7999         2876.0        7947.0      7943.0   10581.0   \n",
       "182  10:27:58.5089         2869.0        9593.0         NaN   12311.0   \n",
       "183  10:28:14.9489         2873.0        7910.0      7907.0   10553.0   \n",
       "\n",
       "    trialType  \n",
       "0          FA  \n",
       "1          CR  \n",
       "2        Miss  \n",
       "3          FA  \n",
       "4          CR  \n",
       "..        ...  \n",
       "179        CR  \n",
       "180        CR  \n",
       "181       Hit  \n",
       "182        CR  \n",
       "183       Hit  \n",
       "\n",
       "[184 rows x 6 columns]"
      ]
     },
     "metadata": {},
     "output_type": "display_data"
    }
   ],
   "source": [
    "for mousename in mice:\n",
    "    pathH5 = os.path.join(pathPreferences, mousename + '.h5')\n",
    "    with h5py.File(pathH5, 'r') as f:\n",
    "        sessions = list(f['metadata'].keys())\n",
    "        \n",
    "    for session in sessions:\n",
    "        df = pd.read_hdf(pathH5, '/metadata/'+session)\n",
    "        display(df)\n",
    "        break\n",
    "    break"
   ]
  },
  {
   "cell_type": "code",
   "execution_count": null,
   "metadata": {
    "collapsed": true
   },
   "outputs": [],
   "source": [
    "\n",
    "for mouseName, dfMouse in self.dfSession.groupby(['mousename']):\n",
    "    pathMouse = os.path.join(pathTDT, mouseName)\n",
    "    prepcommon._testdir(pathMouse)\n",
    "\n",
    "    for dayName, dfDay in dfMouse.groupby(['dateKey']):\n",
    "        print(mouseName, dayName)\n",
    "        pathDay = os.path.join(pathMouse, dayName, 'widefield_labview')\n",
    "        pathAllen = os.path.join(pathDay, 'ROI_Allen', 'registration_transform_1510.mat')\n",
    "        haveDir = prepcommon._testdir(pathDay, critical=False)\n",
    "        haveFile = prepcommon._testfile(pathAllen, critical=False)\n",
    "\n",
    "        if haveDir and haveFile:\n",
    "            self.pathT1[mouseName][dayName] = pathAllen\n",
    "            for idx, row in dfDay.iterrows():\n",
    "                sessionSuffix = row['sessionKey']\n",
    "\n",
    "                pathSession = os.path.join(pathDay, sessionSuffix)\n",
    "                pathMat = os.path.join(pathSession, 'Matt_files')\n",
    "                # pathTrialInd = os.path.join(pathMat, 'trials_ind.mat')\n",
    "\n",
    "                matFiles = [f for f in os.listdir(pathMat) if os.path.splitext(f)[1] == '.mat' and f[:9] == 'Behavior_']\n",
    "                assert len(matFiles) == 1\n",
    "                pathTrialStruct = os.path.join(pathMat, matFiles[0])\n",
    "\n",
    "                pathActivePassive = os.path.join(pathMat, 'trials_with_and_wo_initial_moves_OCIA_from_movie.mat')\n",
    "\n",
    "                prepcommon._testdir(pathSession)\n",
    "                prepcommon._testdir(pathMat)\n",
    "                # prepcommon._testfile(pathTrialInd)\n",
    "                prepcommon._testfile(pathTrialStruct)\n",
    "                prepcommon._testfile(pathActivePassive)\n",
    "\n",
    "                self.dataPaths = pd_append_row(self.dataPaths, [\n",
    "                    mouseName, dayName, sessionSuffix, pathSession, #pathTrialInd,\n",
    "                    pathTrialStruct,\n",
    "                    pathActivePassive\n",
    "                ])"
   ]
  }
 ],
 "metadata": {
  "kernelspec": {
   "display_name": "Py3QT5",
   "language": "python",
   "name": "py3qt5"
  },
  "language_info": {
   "codemirror_mode": {
    "name": "ipython",
    "version": 3
   },
   "file_extension": ".py",
   "mimetype": "text/x-python",
   "name": "python",
   "nbconvert_exporter": "python",
   "pygments_lexer": "ipython3",
   "version": "3.8.5"
  }
 },
 "nbformat": 4,
 "nbformat_minor": 4
}

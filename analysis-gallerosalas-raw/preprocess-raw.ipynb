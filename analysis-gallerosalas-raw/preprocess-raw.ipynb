{
 "cells": [
  {
   "cell_type": "markdown",
   "metadata": {},
   "source": [
    "For each mouse\n",
    "1. (Manual) Find summary excel file, extract names of green and yellow sessions\n",
    "2. VidsDCIMG = Find video files, one for each trial\n",
    "3. refImg = Find reference image\n",
    "4. trialTypes = Find trial types\n",
    "5. t1.mat, t2.mat = Find warping files \n",
    "6. allenBrain = Find allen brain map\n",
    "\n",
    "Processing:\n",
    "1. Testing_A:\n",
    "    * For each mouse, load ::: refImg, t1.mat, allenBrain\n",
    "      * Gallero\\SDT-TDT\\overlay\\mou_9\n",
    "        - L_modified (brain areas for all mice) ::: Gallero\\SDT-TDT\\overlay\\mou_9/L_modified.mat\n",
    "        - RefImg ::: Gallero\\SDT-TDT\\overlay\\mou_9\\refImg_ROIs.mat\n",
    "    * For each session, load ::: t2.mat\n",
    "      - Gallero/mou_9/TDT/20180315/widefield_labview/ROI_Allen/registration_transform_1510.mat\n",
    "    * Apply transform to refImg, overplot allenBrain, check that they align\n",
    "2. Testing_B:\n",
    "    * Load all trial videos\n",
    "        - Gallero\\mou_9\\TDT\\20180301\\widefield_labview\n",
    "    * Compute time-average images\n",
    "    * Apply same as Testing_A\n",
    "    * Plot a few random sessions\n",
    "3. Process real data - for each session:\n",
    "    * Provide list of sessions to analyze\n",
    "    * Provide root folder to mouse data\n",
    "    * Provide root folder to overlay data\n",
    "    * Videos\n",
    "        * Load all trial videos\n",
    "        * Apply transformation\n",
    "        * Apply allen map to extract activities, average over pixels\n",
    "        * Store in HDF5\n",
    "    * Trial Intervals:\n",
    "        * Load trial interval file\n",
    "          - Gallero\\mou_9\\TDT\\20180301\\widefield_labview\\a\\Matt_files\\20180301a.mat\n",
    "        * Store 3rd column to HDF5\n",
    "    * Trial Types:\n",
    "        * Load trial type file\n",
    "          - \\Gallero\\mou_9\\TDT\\20180301\\widefield_labview\\a\\Matt_files/trials_ind.mat\n",
    "        * Parse, store to HDF5\n",
    "4. Postprocess datatypes\n",
    "    * Read HDF5\n",
    "    * Merge trials for each session\n",
    "    * Calc times from intervals\n",
    "    * Apply polyfit, look\n",
    "    * Perform DFF, store\n",
    "\n",
    "\n",
    "Notes:\n",
    "\n",
    "* Matlab Fitting routines\n",
    "   - t1= align to mapping day (functional); aligns every day to a common day.\n",
    "   - t2= aligns the common day to Allen institue\n",
    "\n",
    "`\n",
    "tform = fitgeotrans(movingPoints,fixedPoints,'polynomial',3);\n",
    "Jregistered = imwarp(refImg*7000,tform,'OutputView',imref2d(size(A_scaled))); %aligned map\n",
    "`\n",
    "\n",
    "**TODO**:\n",
    "* Compare TrialTypes to to trial_idx.m where applicable, otherwise trial_error.m\n",
    "* Compare resulting bn_trial with what Yasir got"
   ]
  },
  {
   "cell_type": "code",
   "execution_count": null,
   "metadata": {},
   "outputs": [],
   "source": [
    "# Standard libraries\n",
    "import numpy as np\n",
    "import pandas as pd\n",
    "import matplotlib.pyplot as plt\n",
    "from ipywidgets import IntProgress\n",
    "from IPython.display import display\n",
    "\n",
    "# Append base directory\n",
    "import os,sys,inspect\n",
    "rootname = \"pub-2020-exploratory-analysis\"\n",
    "thispath = os.path.dirname(os.path.abspath(inspect.getfile(inspect.currentframe())))\n",
    "rootpath = os.path.join(thispath[:thispath.index(rootname)], rootname)\n",
    "sys.path.append(rootpath)\n",
    "print(\"Appended root directory\", rootpath)\n",
    "\n",
    "from mesostat.utils.qt_helper import gui_fpath\n",
    "\n",
    "from lib.gallerosalas.preprocess_raw import preprocess\n",
    "import lib.gallerosalas.preprocess_common as prepcommon\n",
    "\n",
    "\n",
    "%load_ext autoreload\n",
    "%autoreload 2"
   ]
  },
  {
   "cell_type": "code",
   "execution_count": null,
   "metadata": {
    "collapsed": true
   },
   "outputs": [],
   "source": [
    "FPS = 20  # Hz\n",
    "mice = ['mou_9', 'mou_6', 'mou_7', 'mou_5']\n",
    "extra_mice = ['mou_15_Ariel', 'mou_18_Ariel']"
   ]
  },
  {
   "cell_type": "code",
   "execution_count": null,
   "metadata": {
    "collapsed": true
   },
   "outputs": [],
   "source": [
    "# pathTGT = gui_fpath('root path to TGT')\n",
    "pathTGT = '/run/user/1000/gvfs/smb-share:server=130.60.51.15,share=neurophysiology-storage2/Gallero'"
   ]
  },
  {
   "cell_type": "code",
   "execution_count": null,
   "metadata": {
    "collapsed": true
   },
   "outputs": [],
   "source": [
    "# pathOverlay = gui_fpath('root path to overlay')\n",
    "pathOverlay = '/run/user/1000/gvfs/smb-share:server=130.60.51.15,share=neurophysiology-storage2/Gallero/SDT-TDT/overlay'"
   ]
  },
  {
   "cell_type": "code",
   "execution_count": null,
   "metadata": {
    "collapsed": true
   },
   "outputs": [],
   "source": [
    "# pathPreferences = gui_fpath('root path to overlay')\n",
    "# pathPreferences = '/media/alyosha/Data/TE_data/yasirdata_raw'\n",
    "pathPreferences = '/media/aleksejs/DataHDD/work/data/yasir/yasirdata_raw'"
   ]
  },
  {
   "cell_type": "code",
   "execution_count": null,
   "metadata": {
    "collapsed": true
   },
   "outputs": [],
   "source": [
    "pathDict = {\n",
    "    'TGT' : pathTGT,\n",
    "    'Overlay' : pathOverlay,\n",
    "    'Preferences' : pathPreferences\n",
    "}"
   ]
  },
  {
   "cell_type": "code",
   "execution_count": null,
   "metadata": {
    "collapsed": true
   },
   "outputs": [],
   "source": [
    "prep = preprocess(pathDict)"
   ]
  },
  {
   "cell_type": "markdown",
   "metadata": {},
   "source": [
    "# 1. Test transform on Ref files"
   ]
  },
  {
   "cell_type": "code",
   "execution_count": null,
   "metadata": {
    "collapsed": true,
    "scrolled": true
   },
   "outputs": [],
   "source": [
    "for mouseName, pathRef in prep.pathRef.items():\n",
    "    img = prep.load_ref_img(pathRef)\n",
    "    t2 = prep.load_t2(prep.pathT2[mouseName])\n",
    "    print(mouseName)\n",
    "    \n",
    "    imgT2 = prep.transform_img(img, t2)[0]\n",
    "    prep.plot_transforms(img, imgT2, imgT1=None)"
   ]
  },
  {
   "cell_type": "markdown",
   "metadata": {},
   "source": [
    "# 2. Test transform on Video Files"
   ]
  },
  {
   "cell_type": "code",
   "execution_count": null,
   "metadata": {
    "collapsed": true,
    "scrolled": true
   },
   "outputs": [],
   "source": [
    "%%time\n",
    "for mousename in sorted(set(prep.dataPaths['mouse'])):\n",
    "    print(mousename)\n",
    "    prep.test_transform_vids(mousename)"
   ]
  },
  {
   "cell_type": "markdown",
   "metadata": {},
   "source": [
    "# 3. Pool-process video files"
   ]
  },
  {
   "cell_type": "code",
   "execution_count": null,
   "metadata": {
    "collapsed": true,
    "scrolled": true
   },
   "outputs": [],
   "source": [
    "prep.process_video_files('mou_5', skipExisting=False)"
   ]
  },
  {
   "cell_type": "markdown",
   "metadata": {},
   "source": [
    "## 3.1 Test if result is sensible"
   ]
  },
  {
   "cell_type": "code",
   "execution_count": null,
   "metadata": {
    "collapsed": true
   },
   "outputs": [],
   "source": [
    "import h5py \n",
    "rez = []\n",
    "for idx, row in prep.dataPaths.iterrows():\n",
    "    session = row['day'] + '_' + row['session']\n",
    "    fpath = os.path.join(pathPreferences, row['mouse'] + '.h5')    \n",
    "    \n",
    "    with h5py.File(fpath, 'r') as f:\n",
    "        dataRSP = np.copy(f['data'][session])\n",
    "        rez += [np.nanmean(dataRSP, axis=(0, 1))]\n",
    "        \n",
    "with pd.option_context('display.max_rows', None, 'display.max_columns', None):\n",
    "    display(pd.DataFrame(np.array(rez), columns=np.arange(27)))"
   ]
  },
  {
   "cell_type": "markdown",
   "metadata": {
    "collapsed": true
   },
   "source": [
    "# 4. Pull trial types and times\n",
    "\n",
    "* Also compute d'"
   ]
  },
  {
   "cell_type": "code",
   "execution_count": null,
   "metadata": {
    "collapsed": true
   },
   "outputs": [],
   "source": [
    "import h5py\n",
    "\n",
    "for mouseName in mice:\n",
    "    with h5py.File(os.path.join(pathPreferences, mouseName + '.h5'), 'a') as f:\n",
    "        del f['metadata']\n",
    "        del f['accuracy']\n",
    "        del f['dprime']"
   ]
  },
  {
   "cell_type": "code",
   "execution_count": null,
   "metadata": {
    "collapsed": true,
    "scrolled": true
   },
   "outputs": [],
   "source": [
    "prep.process_metadata_files(pathPreferences)"
   ]
  },
  {
   "cell_type": "code",
   "execution_count": null,
   "metadata": {
    "collapsed": true
   },
   "outputs": [],
   "source": [
    "for idx, row in prep.dataPaths.iterrows():\n",
    "    session = row['day'] + '_' + row['session']\n",
    "    fpath = os.path.join(pathPreferences, row['mouse'] + '.h5')\n",
    "    df = pd.read_hdf(fpath, '/metadata/' + session)\n",
    "    display(df.head())"
   ]
  },
  {
   "cell_type": "markdown",
   "metadata": {},
   "source": [
    "# 5. Fixing stuff\n",
    "## 5.1 Add delay times"
   ]
  },
  {
   "cell_type": "code",
   "execution_count": null,
   "metadata": {
    "collapsed": true
   },
   "outputs": [],
   "source": [
    "prep.get_append_delay_times(pathPreferences)"
   ]
  },
  {
   "cell_type": "markdown",
   "metadata": {},
   "source": [
    "## 5.2 Add active/passive"
   ]
  },
  {
   "cell_type": "code",
   "execution_count": null,
   "metadata": {
    "collapsed": true,
    "scrolled": true
   },
   "outputs": [],
   "source": [
    "prep.get_append_active_passive(pathPreferences)"
   ]
  },
  {
   "cell_type": "markdown",
   "metadata": {},
   "source": [
    "# 6. Baseline subtraction\n",
    "\n",
    "# 6.1 Plot stitched session, fit poly\n",
    "\n",
    "**TODO**:\n",
    "* Purge mismatching trial counts for trialStruct vs vid:\n",
    "    - Go over data, delete last\n",
    "* Very high variance of individual consecutive trials. May render entire idea useless\n",
    "  - Explore more channels, mice, naive vs expert\n",
    "  - Compare if Yaro has the same problem\n",
    "  - Ask Yasir what he thinks about the origin of these fluctuations:\n",
    "      - Real?\n",
    "      - Motion artifacts?\n",
    "      - Sth else?"
   ]
  },
  {
   "cell_type": "code",
   "execution_count": null,
   "metadata": {
    "collapsed": true,
    "scrolled": false
   },
   "outputs": [],
   "source": [
    "%matplotlib notebook\n",
    "for idx, row in prep.dataPaths.iterrows():\n",
    "    try: \n",
    "#         session = row['day'] + '_' + row['session']\n",
    "        session=\"2017_03_29_session01\"\n",
    "        print(row['mouse'], session)\n",
    "        \n",
    "        times, dataRSP = prep.get_pooled_data_rel_times(pathPreferences, row['mouse'], session)\n",
    "        prepcommon.example_poly_fit(times, dataRSP, ord=50, iCh=6)\n",
    "    except:\n",
    "        print('-- Failed')\n",
    "    break"
   ]
  },
  {
   "cell_type": "markdown",
   "metadata": {},
   "source": [
    "# 6.2 Process all sessions"
   ]
  },
  {
   "cell_type": "code",
   "execution_count": null,
   "metadata": {
    "collapsed": true
   },
   "outputs": [],
   "source": [
    "FPS = 20.0\n",
    "iMin = int(0.0 * FPS)\n",
    "iMax = int(1.0 * FPS)"
   ]
  },
  {
   "cell_type": "code",
   "execution_count": null,
   "metadata": {
    "collapsed": true,
    "scrolled": true
   },
   "outputs": [],
   "source": [
    "prep.crop_mismatch_trials(pathPreferences)"
   ]
  },
  {
   "cell_type": "code",
   "execution_count": null,
   "metadata": {
    "collapsed": true,
    "scrolled": true
   },
   "outputs": [],
   "source": [
    "prep.baseline_subtraction_dff(pathPreferences, iMin, iMax, overwrite=True)"
   ]
  },
  {
   "cell_type": "code",
   "execution_count": null,
   "metadata": {
    "collapsed": true,
    "scrolled": true
   },
   "outputs": [],
   "source": [
    "prep.baseline_subtraction_poly(pathPreferences, ord=15, overwrite=True)"
   ]
  },
  {
   "cell_type": "markdown",
   "metadata": {},
   "source": [
    "# 7. Purification\n",
    "\n",
    "### 7.1 Drop bad sessions\n",
    "\n",
    "- mou_7 20171129_c\n",
    "- mou_6 20171006_a"
   ]
  },
  {
   "cell_type": "code",
   "execution_count": null,
   "metadata": {
    "collapsed": true
   },
   "outputs": [],
   "source": [
    "prep.drop_preprocess_session(pathPreferences, 'mou_6', '20171006_a')"
   ]
  },
  {
   "cell_type": "code",
   "execution_count": null,
   "metadata": {
    "collapsed": true
   },
   "outputs": [],
   "source": [
    "prep.drop_preprocess_session(pathPreferences, 'mou_7', '20171129_c')"
   ]
  },
  {
   "cell_type": "markdown",
   "metadata": {
    "collapsed": true
   },
   "source": [
    "# 8. Sanity checking\n",
    "\n",
    "## 8.1 Is reward part of video\n",
    "\n",
    "Yes for all except MOU6"
   ]
  },
  {
   "cell_type": "code",
   "execution_count": null,
   "metadata": {
    "scrolled": true
   },
   "outputs": [],
   "source": [
    "prep.check_reward_in_data(pathPreferences)"
   ]
  },
  {
   "cell_type": "code",
   "execution_count": null,
   "metadata": {
    "collapsed": true
   },
   "outputs": [],
   "source": []
  }
 ],
 "metadata": {
  "kernelspec": {
   "display_name": "Py3QT5",
   "language": "python",
   "name": "py3qt5"
  },
  "language_info": {
   "codemirror_mode": {
    "name": "ipython",
    "version": 3
   },
   "file_extension": ".py",
   "mimetype": "text/x-python",
   "name": "python",
   "nbconvert_exporter": "python",
   "pygments_lexer": "ipython3",
   "version": "3.8.5"
  }
 },
 "nbformat": 4,
 "nbformat_minor": 4
}

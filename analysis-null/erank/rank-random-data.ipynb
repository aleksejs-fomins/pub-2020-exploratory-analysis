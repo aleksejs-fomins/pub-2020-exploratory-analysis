{
 "cells": [
  {
   "cell_type": "code",
   "execution_count": null,
   "metadata": {},
   "outputs": [],
   "source": [
    "import numpy as np\n",
    "import matplotlib.pyplot as plt\n",
    "from mesostat.metric.pca import erank2D"
   ]
  },
  {
   "cell_type": "code",
   "execution_count": null,
   "metadata": {},
   "outputs": [],
   "source": [
    "nChannelLst = [12, 48]\n",
    "nTrialLst = (100 * 10 ** np.linspace(-1, 2, 30)).astype(int)\n",
    "\n",
    "plt.figure()\n",
    "plt.axhline(y=1, linestyle='--', color='pink')\n",
    "\n",
    "for nChannel in nChannelLst:\n",
    "    rezLst = []\n",
    "    for nTrial in nTrialLst:\n",
    "        data = np.random.normal(0, 1, (nChannel, nTrial))\n",
    "        rezLst += [erank2D(data) / nChannel]\n",
    "\n",
    "    plt.semilogx(nTrialLst, rezLst, label=str(nChannel))\n",
    "        \n",
    "plt.title('Rank convergence for different number of random channels')\n",
    "plt.xlabel('nTrial')\n",
    "plt.ylabel('Relative rank')\n",
    "plt.legend()\n",
    "plt.show()"
   ]
  },
  {
   "cell_type": "code",
   "execution_count": null,
   "metadata": {},
   "outputs": [],
   "source": []
  }
 ],
 "metadata": {
  "kernelspec": {
   "display_name": "Python (nest)",
   "language": "python",
   "name": "py36nest"
  },
  "language_info": {
   "codemirror_mode": {
    "name": "ipython",
    "version": 3
   },
   "file_extension": ".py",
   "mimetype": "text/x-python",
   "name": "python",
   "nbconvert_exporter": "python",
   "pygments_lexer": "ipython3",
   "version": "3.6.6"
  }
 },
 "nbformat": 4,
 "nbformat_minor": 2
}

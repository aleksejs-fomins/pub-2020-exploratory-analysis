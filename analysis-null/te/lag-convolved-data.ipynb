{
 "cells": [
  {
   "cell_type": "code",
   "execution_count": null,
   "metadata": {},
   "outputs": [],
   "source": [
    "import numpy as np\n",
    "import matplotlib.pyplot as plt\n",
    "from mesostat.metric.metric import MetricCalculator\n",
    "\n",
    "from models import two_node_system"
   ]
  },
  {
   "cell_type": "code",
   "execution_count": null,
   "metadata": {},
   "outputs": [],
   "source": [
    "def acc(mat, nTest):\n",
    "    return np.sum(np.diag(mat)).astype(float) / nTest / mat.shape[0]\n",
    "\n",
    "def acc_te_lag_corrected(mat, nTest):\n",
    "    diagSum = np.sum(mat.diagonal(offset=1)) + mat[-1][-1]\n",
    "    return diagSum.astype(float) / nTest / mat.shape[0]"
   ]
  },
  {
   "cell_type": "markdown",
   "metadata": {},
   "source": [
    "# 1. SELF-TEST 1: Can CrossCorr and CrossMI detect lag of noisy dynamical system"
   ]
  },
  {
   "cell_type": "code",
   "execution_count": null,
   "metadata": {},
   "outputs": [],
   "source": [
    "mc = MetricCalculator(serial=True, verbose=False)"
   ]
  },
  {
   "cell_type": "code",
   "execution_count": null,
   "metadata": {
    "scrolled": false
   },
   "outputs": [],
   "source": [
    "nTest = 20\n",
    "maxLag = 5\n",
    "for method in ['crosscorr', 'cross_MI']:\n",
    "    print('Doing method', method)\n",
    "    rezMat = np.zeros((maxLag+1, maxLag+1))\n",
    "    for lagTrue in range(0, maxLag+1):\n",
    "        for iTest in range(nTest):    \n",
    "            data = two_node_system(200, [lagTrue], [0.5], noiseFrac=0.1)\n",
    "            mc.set_data(data, 'ps')\n",
    "            rez = mc.metric3D(method, '', metricSettings=None, sweepSettings={'lag' : [0,1,2,3,4,5]})\n",
    "            if method=='crosscorr':\n",
    "                rez = np.abs(rez)\n",
    "            \n",
    "            lagEst = np.argmax(rez[:, 0, 1])\n",
    "            rezMat[lagTrue][lagEst] += 1\n",
    "    \n",
    "    print(\"Accuracy\", acc(rezMat, nTest))\n",
    "    plt.figure()\n",
    "    plt.imshow(rezMat)\n",
    "    plt.show()"
   ]
  },
  {
   "cell_type": "code",
   "execution_count": null,
   "metadata": {
    "scrolled": true
   },
   "outputs": [],
   "source": [
    "nTest = 20\n",
    "maxLag = 5\n",
    "\n",
    "idtxlParam = {\n",
    "    'dim_order'       : 'ps',\n",
    "    'cmi_estimator'   : 'JidtGaussianCMI',\n",
    "    'max_lag_sources' : maxLag,\n",
    "    'min_lag_sources' : 0,\n",
    "    'parallelTrg' : False\n",
    "}\n",
    "\n",
    "for method in ['BivariateTE', 'MultivariateTE']:\n",
    "    print('Doing method', method)\n",
    "    rezMat = np.zeros((maxLag+1, maxLag+1))\n",
    "    for lagTrue in range(0, maxLag+1):\n",
    "        for iTest in range(nTest):\n",
    "            data = two_node_system(200, [lagTrue], [0.5], noiseFrac=0.1)\n",
    "            mc.set_data(data, 'ps')\n",
    "            rez = mc.metric3D(method, '', metricSettings=idtxlParam)\n",
    "            lagEst = int(rez[1, 0, 1])\n",
    "            rezMat[lagTrue][lagEst] += 1\n",
    "    \n",
    "    print(\"Accuracy\", acc(rezMat, nTest))\n",
    "    plt.figure()\n",
    "    plt.imshow(rezMat)\n",
    "    plt.show()"
   ]
  },
  {
   "cell_type": "markdown",
   "metadata": {},
   "source": [
    "# 2. Test performance of CrossCorr/MI for convolved dynamical system\n",
    "\n",
    "**Conclusions-CC/CMI**:\n",
    "* Ideally exact recovery possible\n",
    "* 10% of added observation noise can completely destroy FC. For 1% works good. Expected because for convolved data the important signal is small compared to the absolute value of the bulk convolved signal.\n",
    "\n",
    "**Conclusions-BTE/MTE**\n",
    "* Acquires extra lag due to convolution-needs correction\n",
    "* Added noise sensitivity even worse than CC/CMI. 5% already enough to completely destroy. 1% still good"
   ]
  },
  {
   "cell_type": "code",
   "execution_count": null,
   "metadata": {},
   "outputs": [],
   "source": [
    "nTest = 20\n",
    "maxLag = 5\n",
    "for method in ['crosscorr', 'cross_MI']:\n",
    "    print('Doing method', method)\n",
    "    rezMat = np.zeros((maxLag+1, maxLag+1))\n",
    "    for lagTrue in range(0, maxLag+1):\n",
    "        for iTest in range(nTest):    \n",
    "            data = two_node_system(200, [lagTrue], [0.5], noiseFrac=0.05, convDT=0.05, convTau=0.5)\n",
    "            mc.set_data(data, 'ps')\n",
    "            rez = mc.metric3D(method, '', metricSettings=None, sweepSettings={'lag' : [0,1,2,3,4,5]})\n",
    "            if method=='crosscorr':\n",
    "                rez = np.abs(rez)\n",
    "                \n",
    "            lagEst = np.argmax(rez[:, 0, 1])\n",
    "            rezMat[lagTrue][lagEst] += 1\n",
    "    \n",
    "    print(\"Accuracy\", acc(rezMat, nTest))\n",
    "    plt.figure()\n",
    "    plt.imshow(rezMat)\n",
    "    plt.show()"
   ]
  },
  {
   "cell_type": "code",
   "execution_count": null,
   "metadata": {
    "scrolled": true
   },
   "outputs": [],
   "source": [
    "nTest = 20\n",
    "maxLag = 5\n",
    "\n",
    "idtxlParam = {\n",
    "    'dim_order'       : 'ps',\n",
    "    'cmi_estimator'   : 'JidtGaussianCMI',\n",
    "    'max_lag_sources' : maxLag,\n",
    "    'min_lag_sources' : 0,\n",
    "    'parallelTrg' : False\n",
    "}\n",
    "\n",
    "for method in ['BivariateTE', 'MultivariateTE']:\n",
    "    print('Doing method', method)\n",
    "    rezMat = np.zeros((maxLag+1, maxLag+1))\n",
    "    for lagTrue in range(0, maxLag+1):\n",
    "        for iTest in range(nTest):\n",
    "            data = two_node_system(200, [lagTrue], [0.5], noiseFrac=0.01, convDT=0.05, convTau=0.5)\n",
    "            mc.set_data(data, 'ps')\n",
    "            rez = mc.metric3D(method, '', metricSettings=idtxlParam)            \n",
    "            if not np.isnan(rez[1, 0, 1]):\n",
    "                lagEst = int(rez[1, 0, 1])\n",
    "                rezMat[lagTrue][lagEst] += 1\n",
    "    \n",
    "    print(\"Accuracy\", acc(rezMat, nTest))\n",
    "    print(\"Accuracy-corrected\", acc_te_lag_corrected(rezMat, nTest))\n",
    "    \n",
    "    plt.figure()\n",
    "    plt.imshow(rezMat)\n",
    "    plt.show()"
   ]
  },
  {
   "cell_type": "markdown",
   "metadata": {},
   "source": [
    "# 3. Higher order Dynamical Systems\n",
    "\n",
    "Plan:\n",
    "* There are two links x->y: one at Dt = 0, other at Dt = n\n",
    "* We sweep all lags from 1 to 5, and see fidelity of lag n"
   ]
  },
  {
   "cell_type": "code",
   "execution_count": null,
   "metadata": {},
   "outputs": [],
   "source": [
    "# Example (tune that both FC's have same strength)\n",
    "data = two_node_system(200, [0, 3], [0.33, 0.33], noiseFrac=0.01)\n",
    "\n",
    "mc.set_data(np.array(data), 'ps')\n",
    "rezCC = mc.metric3D('crosscorr', '', metricSettings=None, sweepSettings={'lag' : [0,1,2,3,4,5]})\n",
    "rezCMI = mc.metric3D('cross_MI', '', metricSettings=None, sweepSettings={'lag' : [0,1,2,3,4,5]})\n",
    "\n",
    "plt.figure()\n",
    "plt.plot(np.abs(rezCC[:, 0, 1]))\n",
    "plt.plot(rezCMI[:, 0, 1])\n",
    "plt.show()"
   ]
  },
  {
   "cell_type": "code",
   "execution_count": null,
   "metadata": {},
   "outputs": [],
   "source": [
    "nTest = 20\n",
    "maxLag = 5\n",
    "for method in ['crosscorr', 'cross_MI']:\n",
    "    print('Doing method', method)\n",
    "    rezMat = np.zeros((maxLag+1, maxLag+1))\n",
    "    for lagTrue in range(1, maxLag+1):\n",
    "        for iTest in range(nTest):\n",
    "            data = two_node_system(200, [0, lagTrue], [0.33, 0.33], noiseFrac=0.01, convDT=0.05, convTau=0.5)\n",
    "            mc.set_data(data, 'ps')\n",
    "            rez = mc.metric3D(method, '', metricSettings=None, sweepSettings={'lag' : [1,2,3,4,5]})\n",
    "            if method=='crosscorr':\n",
    "                rez = np.abs(rez)\n",
    "            \n",
    "            lagEst = np.argmax(rez[:, 0, 1]) + 1\n",
    "            rezMat[lagTrue][lagEst] += 1\n",
    "    \n",
    "    print(\"Accuracy\", acc(rezMat[1:, 1:], nTest))\n",
    "    plt.figure()\n",
    "    plt.imshow(rezMat)\n",
    "    plt.show()"
   ]
  },
  {
   "cell_type": "code",
   "execution_count": null,
   "metadata": {
    "scrolled": true
   },
   "outputs": [],
   "source": [
    "nTest = 20\n",
    "maxLag = 5\n",
    "\n",
    "idtxlParam = {\n",
    "    'dim_order'       : 'ps',\n",
    "    'cmi_estimator'   : 'JidtGaussianCMI',\n",
    "    'max_lag_sources' : maxLag,\n",
    "    'min_lag_sources' : 1,\n",
    "    'parallelTrg' : False\n",
    "}\n",
    "\n",
    "for method in ['BivariateTE', 'MultivariateTE']:\n",
    "    print('Doing method', method)\n",
    "    rezMat = np.zeros((maxLag+1, maxLag+1))\n",
    "    for lagTrue in range(1, maxLag+1):\n",
    "        for iTest in range(nTest):\n",
    "            data = two_node_system(200, [0, lagTrue], [0.33, 0.33], noiseFrac=0.01, convDT=0.05, convTau=0.5)\n",
    "            \n",
    "            mc.set_data(data, 'ps')\n",
    "            rez = mc.metric3D(method, '', metricSettings=idtxlParam)\n",
    "            if not np.isnan(rez[1, 0, 1]):\n",
    "                lagEst = int(rez[1, 0, 1])\n",
    "                rezMat[lagTrue][lagEst] += 1\n",
    "    \n",
    "    print(\"Accuracy\", acc(rezMat[1:,1:], nTest))\n",
    "    print(\"Accuracy-corrected\", acc_te_lag_corrected(rezMat[1:,1:], nTest))\n",
    "    plt.figure()\n",
    "    plt.imshow(rezMat)\n",
    "    plt.show()"
   ]
  },
  {
   "cell_type": "markdown",
   "metadata": {},
   "source": [
    "TODO:\n",
    "* Barplots of false positives for methods\n",
    "* Scatter-plot total-degree/in-degree/out-degree vs SNR & total-TE vs SNR (SNR by session, pool mice 12 vs 48)"
   ]
  },
  {
   "cell_type": "code",
   "execution_count": null,
   "metadata": {},
   "outputs": [],
   "source": []
  }
 ],
 "metadata": {
  "kernelspec": {
   "display_name": "Python (nest)",
   "language": "python",
   "name": "py36nest"
  },
  "language_info": {
   "codemirror_mode": {
    "name": "ipython",
    "version": 3
   },
   "file_extension": ".py",
   "mimetype": "text/x-python",
   "name": "python",
   "nbconvert_exporter": "python",
   "pygments_lexer": "ipython3",
   "version": "3.6.6"
  }
 },
 "nbformat": 4,
 "nbformat_minor": 2
}

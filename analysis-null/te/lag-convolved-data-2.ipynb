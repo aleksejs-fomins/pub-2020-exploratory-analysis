{
 "cells": [
  {
   "cell_type": "markdown",
   "metadata": {},
   "source": [
    "# False Positives\n",
    "\n",
    "In the previous analysis we have checked if TE would correctly identify lag by computing TE at multiple competing  lags and finding the lag argument with maximal lag.\n",
    "\n",
    "In this study we will be more strict. We will verify if true instantainous lag can be misinterpreted as a signle lag"
   ]
  },
  {
   "cell_type": "code",
   "execution_count": null,
   "metadata": {},
   "outputs": [],
   "source": [
    "import numpy as np\n",
    "import matplotlib.pyplot as plt\n",
    "from mesostat.metric.metric import MetricCalculator\n",
    "\n",
    "from models import two_node_system\n",
    "\n",
    "def crosscorr(x, y):\n",
    "    N = x.shape[0]\n",
    "    return np.correlate(x, y, 'full')[N - 1:] / N"
   ]
  },
  {
   "cell_type": "code",
   "execution_count": null,
   "metadata": {},
   "outputs": [],
   "source": [
    "data2D = two_node_system(1000, [0], [1.0], noiseFrac=0.1, convDT=0.05, convTau=0.5)"
   ]
  },
  {
   "cell_type": "code",
   "execution_count": null,
   "metadata": {},
   "outputs": [],
   "source": [
    "mc = MetricCalculator(serial=True, verbose=False)"
   ]
  },
  {
   "cell_type": "code",
   "execution_count": null,
   "metadata": {},
   "outputs": [],
   "source": [
    "fig, ax = plt.subplots(ncols=2, figsize=(8,4))\n",
    "ax[0].plot(data2D[0], label='x')\n",
    "ax[0].plot(data2D[1]+1, label='y')\n",
    "ax[0].set_title('Signals')\n",
    "ax[0].legend()\n",
    "ax[1].plot(crosscorr(data2D[0], data2D[1])[:100])\n",
    "ax[1].set_title('Cross-correlation')\n",
    "plt.show()"
   ]
  },
  {
   "cell_type": "code",
   "execution_count": null,
   "metadata": {},
   "outputs": [],
   "source": [
    "def crosscorr(x, y):\n",
    "    N = x.shape[0]\n",
    "    return np.correlate(x, y, 'full')[N - 1:] / N\n",
    "\n",
    "idtxlParam = {\n",
    "    'dim_order'       : 'ps',\n",
    "    'cmi_estimator'   : 'JidtGaussianCMI',\n",
    "    'max_lag_sources' : 1,\n",
    "    'min_lag_sources' : 1,\n",
    "    'parallelTrg' : False\n",
    "}"
   ]
  },
  {
   "cell_type": "code",
   "execution_count": null,
   "metadata": {
    "scrolled": true
   },
   "outputs": [],
   "source": [
    "noiseFracLst = 10**np.linspace(-3, -0.5, 15)\n",
    "\n",
    "for signalCorr in [0.5, 0.6, 0.7, 0.8, 0.9, 1.0]:\n",
    "    print(\"Correlation fraction\", signalCorr)\n",
    "    teLstMu = []\n",
    "    pvalLstMu = []\n",
    "    teLstStd = []\n",
    "    pvalLstStd = []\n",
    "    isSign = []\n",
    "\n",
    "    for noiseFrac in noiseFracLst:\n",
    "    #     print(noiseFrac)\n",
    "        teTmpLst = []\n",
    "        pvalTmpLst = []\n",
    "        for iTest in range(100):\n",
    "            data2D = two_node_system(1000, [0], [signalCorr], noiseFrac=noiseFrac, convDT=0.05, convTau=0.5)\n",
    "\n",
    "            mc.set_data(data2D, 'ps')\n",
    "            rez = mc.metric3D('BivariateTE', '', metricSettings=idtxlParam)\n",
    "\n",
    "#             noiseFracLstEff += [noiseFrac] * 2\n",
    "            teTmpLst += [rez[0,0,1]] + [rez[0,1,0]]\n",
    "            pvalTmpLst += [rez[2,0,1]] + [rez[2,1,0]]\n",
    "\n",
    "        teLstMu += [np.nanmean(teTmpLst)]    \n",
    "        pvalLstMu += [np.nanmean(pvalTmpLst)]\n",
    "        teLstStd += [np.nanstd(teTmpLst)]    \n",
    "        pvalLstStd += [np.nanstd(pvalTmpLst)]\n",
    "\n",
    "        pvalTmpLst = np.array(pvalTmpLst)\n",
    "        pvalTmpLst[np.isnan(pvalTmpLst)] = 1\n",
    "        isSign += [np.mean(pvalTmpLst < 0.01)]\n",
    "\n",
    "    fig, ax = plt.subplots(ncols=3, figsize=(12,4))\n",
    "    ax[0].errorbar(noiseFracLst, teLstMu, teLstStd)\n",
    "    ax[1].errorbar(noiseFracLst, pvalLstMu, pvalLstStd)\n",
    "    ax[2].semilogx(noiseFracLst, isSign)\n",
    "    ax[0].set_title('TE')\n",
    "    ax[1].set_title('pval')\n",
    "    ax[2].set_title('Fraction significant')\n",
    "\n",
    "    ax[0].set_xlabel('Noise-to-signal ratio')\n",
    "    ax[1].set_xlabel('Noise-to-signal ratio')\n",
    "    ax[2].set_xlabel('Noise-to-signal ratio')\n",
    "\n",
    "\n",
    "    ax[0].set_yscale('log')\n",
    "    ax[0].set_xscale('log')\n",
    "    ax[1].set_xscale('log')\n",
    "    plt.show()"
   ]
  },
  {
   "cell_type": "code",
   "execution_count": null,
   "metadata": {},
   "outputs": [],
   "source": []
  }
 ],
 "metadata": {
  "kernelspec": {
   "display_name": "py3ml",
   "language": "python",
   "name": "py3ml"
  },
  "language_info": {
   "codemirror_mode": {
    "name": "ipython",
    "version": 3
   },
   "file_extension": ".py",
   "mimetype": "text/x-python",
   "name": "python",
   "nbconvert_exporter": "python",
   "pygments_lexer": "ipython3",
   "version": "3.8.5"
  }
 },
 "nbformat": 4,
 "nbformat_minor": 4
}

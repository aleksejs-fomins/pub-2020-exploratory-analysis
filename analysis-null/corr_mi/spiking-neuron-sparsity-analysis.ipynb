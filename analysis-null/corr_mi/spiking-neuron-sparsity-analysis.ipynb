{
 "cells": [
  {
   "cell_type": "code",
   "execution_count": null,
   "metadata": {},
   "outputs": [],
   "source": [
    "import numpy as np\n",
    "import matplotlib.pyplot as plt"
   ]
  },
  {
   "cell_type": "code",
   "execution_count": null,
   "metadata": {},
   "outputs": [],
   "source": [
    "from npeet.entropy_estimators import midd"
   ]
  },
  {
   "cell_type": "markdown",
   "metadata": {},
   "source": [
    "Compare 3 metrics applied to sparse poisson spike trains:\n",
    "1. Pearson's correlation coefficient\n",
    "2. Mutual Information\n",
    "3. Treat score\n",
    "\n",
    "The latter quantifies the coincidence rate excluding true negatives, thus correcting for sparsity in data. It is defined as follows:\n",
    "\n",
    "$$TS = \\frac{TP}{TP + FP + FN}$$\n",
    "\n",
    "This metric is biased, as it is consistently non-zero for otherwise uncorrelated signals. The bias for this metric can be computed as follows:\n",
    "\n",
    "$$\n",
    "\\begin{eqnarray}\n",
    "\\langle TS \\rangle_{chance}\n",
    "&=& \\langle \\frac{TP}{TP + FP + FN} \\rangle \\\\\n",
    "&\\approx& \\frac{\\langle TP \\rangle}{\\langle TP \\rangle + \\langle FP \\rangle + \\langle FN \\rangle} \\\\\n",
    "&=& \\frac{N p_A p_B}{N p_A p_B + N p_A (1 - p_B) + N (1 - p_A) p_B} \\\\\n",
    "&=& \\frac{1}{\\frac{1}{p_A} + \\frac{1}{p_B} - 1}\n",
    "\\end{eqnarray}\n",
    "$$\n",
    "\n",
    "where $p_A$ and $p_B$ are the empirical probabilities for neurons $A$ and $B$ to spike\n",
    "\n",
    "**TODO**: Bias calculation is inaccurate. By adding extra true negatives, the TS should not change, but bias seems to change, because $p_A$ and $p_B$ depend on it"
   ]
  },
  {
   "cell_type": "code",
   "execution_count": null,
   "metadata": {},
   "outputs": [],
   "source": [
    "corr = lambda x,y: np.corrcoef(x,y)[0,1]\n",
    "miEff = lambda x,y: midd(x[:, None], y[:, None])\n",
    "\n",
    "def tsEff(x, y):\n",
    "    # Compute original metric\n",
    "    nTP = np.sum(x & y)\n",
    "    nFP = np.sum(x & ~y)\n",
    "    nFN = np.sum(~x & y)\n",
    "    rez = nTP / (nTP + nFP + nFN)\n",
    "    return rez\n",
    "    \n",
    "#     # Compute bias\n",
    "#     n = x.shape[0]\n",
    "#     nX = np.sum(x)\n",
    "#     nY = np.sum(y)\n",
    "#     pX = nX / n\n",
    "#     pY = nY / n\n",
    "#     bias = 1 / (1 / pX + 1 / pY - 1)\n",
    "#     return rez - bias\n",
    "    \n",
    "#     nPrim = nTP + nFP + nFN\n",
    "#     pX = np.sum(x) / nPrim\n",
    "#     pY = np.sum(y) / nPrim\n",
    "#     bias = 1 / (1 / pX + 1 / pY - 1)\n",
    "#     return rez - bias"
   ]
  },
  {
   "cell_type": "markdown",
   "metadata": {},
   "source": [
    "## Test 1: Does Corr noise depend on sparsity in spikes\n",
    "\n",
    "Results:\n",
    "* Corr: No\n",
    "* MI: No"
   ]
  },
  {
   "cell_type": "code",
   "execution_count": null,
   "metadata": {},
   "outputs": [],
   "source": [
    "methodDict = {\n",
    "    'corr' : corr,\n",
    "    'miEff' : miEff,\n",
    "    'tsEff' : tsEff\n",
    "}"
   ]
  },
  {
   "cell_type": "code",
   "execution_count": null,
   "metadata": {
    "scrolled": false
   },
   "outputs": [],
   "source": [
    "def noise_sparsity_test(method, methodName, nTest=20, nSample=10000):\n",
    "    pArr = 10 ** np.linspace(-2, 0, nTest)\n",
    "\n",
    "    rezLst = []\n",
    "    for p in pArr:\n",
    "        a = (np.random.uniform(0, 1, nSample) < p).astype(int)\n",
    "        b = (np.random.uniform(0, 1, nSample) < p).astype(int)\n",
    "\n",
    "        rezLst += [method(a, b)]\n",
    "\n",
    "    plt.figure()\n",
    "    plt.semilogx(pArr, rezLst)\n",
    "    plt.title(methodName)\n",
    "    plt.show()\n",
    "    \n",
    "for methodName, method in methodDict.items():\n",
    "    noise_sparsity_test(method, methodName, nTest=100)"
   ]
  },
  {
   "cell_type": "markdown",
   "metadata": {},
   "source": [
    "## Test 2: Does Corr effect size depend on added sparsity\n",
    "\n",
    "\n",
    "Result\n",
    "* Corr: Yes, inflates artificially with increased sparsity\n",
    "* MI: Yes, deflates artificially\n",
    "    - Why deflates?\n",
    "    - Why continuous estimator oscillates so much?"
   ]
  },
  {
   "cell_type": "code",
   "execution_count": null,
   "metadata": {},
   "outputs": [],
   "source": [
    "def effect_sparsity_test(method, methodName, nTest=100):\n",
    "    a = [1] * 80 + [0] * 20\n",
    "    b = [1] * 50 + [0] * 50\n",
    "\n",
    "    nExtraLst = (10**np.linspace(1, 3, nTest)).astype(int)\n",
    "\n",
    "    rezLst = []\n",
    "    for iExtra in nExtraLst:\n",
    "        rezLst += [method(np.array(a + [0]*iExtra), np.array(b + [0]*iExtra))]\n",
    "\n",
    "    plt.figure()\n",
    "    plt.plot(nExtraLst, rezLst)\n",
    "    plt.title(methodName)\n",
    "    plt.show()\n",
    "    \n",
    "for methodName, method in methodDict.items():\n",
    "    effect_sparsity_test(method, methodName, nTest=100)"
   ]
  },
  {
   "cell_type": "markdown",
   "metadata": {},
   "source": [
    "## Test 3: Does noise Corr depend on frequency ratio\n",
    "\n",
    "Result:\n",
    "* Corr: No\n",
    "* Mi: No"
   ]
  },
  {
   "cell_type": "code",
   "execution_count": null,
   "metadata": {},
   "outputs": [],
   "source": [
    "def noise_rate_test(method):\n",
    "    pArr = np.arange(1, 100)/100\n",
    "\n",
    "    rezLst = []\n",
    "    for p in pArr:\n",
    "        a = (np.random.uniform(0,1,10000) < 0.5).astype(int)\n",
    "        b = (np.random.uniform(0,1,10000) < p).astype(int)\n",
    "        rezLst += [method(a, b)]\n",
    "\n",
    "    plt.figure()\n",
    "    plt.plot(pArr, rezLst)\n",
    "    plt.show()\n",
    "    \n",
    "# noise_rate_test(corr)\n",
    "# noise_rate_test(midd)\n",
    "noise_rate_test(accEff)"
   ]
  },
  {
   "cell_type": "code",
   "execution_count": null,
   "metadata": {},
   "outputs": [],
   "source": []
  }
 ],
 "metadata": {
  "kernelspec": {
   "display_name": "py3ml",
   "language": "python",
   "name": "py3ml"
  },
  "language_info": {
   "codemirror_mode": {
    "name": "ipython",
    "version": 3
   },
   "file_extension": ".py",
   "mimetype": "text/x-python",
   "name": "python",
   "nbconvert_exporter": "python",
   "pygments_lexer": "ipython3",
   "version": "3.8.5"
  }
 },
 "nbformat": 4,
 "nbformat_minor": 2
}

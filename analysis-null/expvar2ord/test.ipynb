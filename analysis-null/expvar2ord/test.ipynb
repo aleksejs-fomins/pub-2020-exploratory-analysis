{
 "cells": [
  {
   "cell_type": "code",
   "execution_count": 1,
   "metadata": {
    "collapsed": true
   },
   "outputs": [],
   "source": [
    "import numpy as np\n",
    "from scipy import linalg\n",
    "from scipy.stats import mannwhitneyu"
   ]
  },
  {
   "cell_type": "code",
   "execution_count": 139,
   "metadata": {
    "collapsed": true
   },
   "outputs": [],
   "source": [
    "def shuffle(x):\n",
    "    x1 = x.copy()\n",
    "    np.random.shuffle(x1)\n",
    "    return x1\n",
    "\n",
    "def _residual_linear_fit(x, cov):\n",
    "    coeffX = linalg.lstsq(cov.T, x)[0]\n",
    "    return x - coeffX.dot(cov)\n",
    "\n",
    "def r2(trg, srcLst):\n",
    "    return 1 - np.var(_residual_linear_fit(trg, np.array(srcLst))) / np.var(trg)\n",
    "\n",
    "def _add_noise(n, x, y, z, sigX=1, sigY=1, sigZ=1):\n",
    "    xNew = x + np.random.normal(0, sigX, n)\n",
    "    yNew = y + np.random.normal(0, sigY, n)\n",
    "    zNew = z + np.random.normal(0, sigZ, n)\n",
    "    return xNew, yNew, zNew\n",
    "\n",
    "def gen_data_xor_noisy(n=1000, sigX=1, sigY=1, sigZ=1):\n",
    "    x0 = np.random.normal(0, 1, n)\n",
    "    y0 = np.random.normal(0, 1, n)\n",
    "    return _add_noise(n, x0, y0, x0 * y0, sigX=sigX, sigY=sigY, sigZ=sigZ)\n",
    "\n",
    "def quadratic_triplet_decomp_1D(src1, src2, trg):\n",
    "    # Compute first two centered moments\n",
    "    c1 = src1 - np.mean(src1)\n",
    "    c2 = src2 - np.mean(src2)\n",
    "    cTrg = trg - np.mean(trg)\n",
    "    c12 = c1 * c2\n",
    "\n",
    "    # # Fit, compute ExpVariduals and related variances\n",
    "    rev1 = r2(cTrg, [c1])\n",
    "    rev2 = r2(cTrg, [c2])\n",
    "    # rev12 = _relative_explained_variance(cTrg, [c1, c2])\n",
    "    # rev12sq = _relative_explained_variance(cTrg, [c1, c2, c12])\n",
    "\n",
    "    revFull = r2(cTrg, [c1, c2, c12])\n",
    "    revM1 = r2(cTrg, [c2, c12])\n",
    "    revM2 = r2(cTrg, [c1, c12])\n",
    "    revM12 = r2(cTrg, [c1, c2])\n",
    "\n",
    "\n",
    "\n",
    "    # print(revFull, revM1, revM2, revM12)\n",
    "\n",
    "    # # Compute individual effects\n",
    "    # red12 = rev1 + rev2 - rev12\n",
    "    # unq1 = rev12 - rev2\n",
    "    # unq2 = rev12 - rev1\n",
    "    # syn12 = rev12sq - rev12\n",
    "\n",
    "    unq1 = revFull - revM1\n",
    "    unq2 = revFull - revM2\n",
    "    syn12 = revFull - revM12\n",
    "#     red12 = revFull - unq1 - unq2 - syn12\n",
    "    red12 = rev1 + rev2 - revM12\n",
    "\n",
    "    return [unq1, unq2, red12, syn12]"
   ]
  },
  {
   "cell_type": "code",
   "execution_count": 140,
   "metadata": {},
   "outputs": [],
   "source": [
    "trueLst = []\n",
    "randLst = []\n",
    "for nTest in range(400):\n",
    "    x,y,z = gen_data_xor_noisy(n=1000, sigX=0, sigY=0, sigZ=0)\n",
    "    \n",
    "    trueLst += [quadratic_triplet_decomp_1D(x,y,z)[2]]\n",
    "    randLst += [quadratic_triplet_decomp_1D(x,y,shuffle(z))[2]]"
   ]
  },
  {
   "cell_type": "code",
   "execution_count": 141,
   "metadata": {},
   "outputs": [
    {
     "data": {
      "text/plain": [
       "0.5639951937514551"
      ]
     },
     "execution_count": 141,
     "metadata": {},
     "output_type": "execute_result"
    }
   ],
   "source": [
    "mannwhitneyu(trueLst, randLst, alternative='greater')[1]"
   ]
  },
  {
   "cell_type": "code",
   "execution_count": 142,
   "metadata": {},
   "outputs": [
    {
     "name": "stdout",
     "output_type": "stream",
     "text": [
      "-1.0719760388436251e-05\n",
      "-2.6757387264572662e-06\n",
      "0.0001750191322554168\n",
      "5.703592505083294e-05\n",
      "0.00014030129967013456 0.1\n"
     ]
    }
   ],
   "source": [
    "print(np.mean(trueLst))\n",
    "print(np.mean(randLst))\n",
    "print(np.std(trueLst))\n",
    "print(np.std(randLst))\n",
    "\n",
    "q = np.quantile(randLst, 0.99)\n",
    "print(q, np.mean(trueLst >= q))"
   ]
  },
  {
   "cell_type": "code",
   "execution_count": null,
   "metadata": {
    "collapsed": true
   },
   "outputs": [],
   "source": []
  }
 ],
 "metadata": {
  "kernelspec": {
   "display_name": "Py3QT5",
   "language": "python",
   "name": "py3qt5"
  },
  "language_info": {
   "codemirror_mode": {
    "name": "ipython",
    "version": 3
   },
   "file_extension": ".py",
   "mimetype": "text/x-python",
   "name": "python",
   "nbconvert_exporter": "python",
   "pygments_lexer": "ipython3",
   "version": "3.8.5"
  }
 },
 "nbformat": 4,
 "nbformat_minor": 2
}

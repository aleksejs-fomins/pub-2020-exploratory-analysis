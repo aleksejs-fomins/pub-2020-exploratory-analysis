{
 "cells": [
  {
   "cell_type": "code",
   "execution_count": null,
   "metadata": {},
   "outputs": [],
   "source": [
    "import numpy as np\n",
    "import pandas as pd\n",
    "from scipy import stats, linalg\n",
    "import matplotlib.pyplot as plt\n",
    "import seaborn as sns\n",
    "from IPython.display import display\n",
    "\n",
    "# Append base directory\n",
    "import os,sys #,inspect\n",
    "rootname = \"pub-2020-exploratory-analysis\"\n",
    "#thispath = os.path.dirname(os.path.abspath(inspect.getfile(inspect.currentframe())))\n",
    "thispath = os.getcwd()\n",
    "rootpath = os.path.join(thispath[:thispath.index(rootname)], rootname)\n",
    "sys.path.append(rootpath)\n",
    "print(\"Appended root directory\", rootpath)\n",
    "\n",
    "\n",
    "from mesostat.metric.dim3d.exp_var_2nd_order import quadratic_triplet_decomp_1D\n",
    "\n",
    "import lib.nullmodels.null3D as null3D\n",
    "import lib.nullmodels.pidtest as pidtest\n",
    "\n",
    "%load_ext autoreload\n",
    "%autoreload 2"
   ]
  },
  {
   "cell_type": "code",
   "execution_count": null,
   "metadata": {
    "collapsed": true
   },
   "outputs": [],
   "source": [
    "funcDict = {\n",
    "    'red':    null3D.gen_data_red_noisy,\n",
    "    'unq_xz': null3D.gen_data_unq_noisy,\n",
    "    'xor_z':  null3D.gen_data_xor_noisy\n",
    "}"
   ]
  },
  {
   "cell_type": "markdown",
   "metadata": {},
   "source": [
    "## Noise-dependence"
   ]
  },
  {
   "cell_type": "markdown",
   "metadata": {},
   "source": [
    "### Effect sizes for example variance"
   ]
  },
  {
   "cell_type": "code",
   "execution_count": null,
   "metadata": {
    "collapsed": true
   },
   "outputs": [],
   "source": [
    "decompLabels = ['unq_s1', 'unq_s2', 'red', 'syn']\n",
    "labeledDecomp = lambda x,y,z: dict(zip(decompLabels, quadratic_triplet_decomp_1D(x,y,z)))"
   ]
  },
  {
   "cell_type": "code",
   "execution_count": null,
   "metadata": {
    "scrolled": true
   },
   "outputs": [],
   "source": [
    "for funcName, func in funcDict.items():\n",
    "\n",
    "    gen_data_eff = lambda: func(n=10000, sigX=1, sigY=1, sigZ=1)\n",
    "    rezDF   = pidtest.run_tests(gen_data_eff, labeledDecomp, decompLabels, nTest=200)\n",
    "    rezDFsh = pidtest.run_tests(gen_data_eff, labeledDecomp, decompLabels, nTest=200, haveShuffle=True)\n",
    "\n",
    "    pidtest.plot_test_summary(rezDF, rezDFsh, haveEff=False, suptitle=funcName)\n",
    "    plt.savefig(funcName + '_r2_summary_rand.png', dpi=200)\n",
    "    plt.show()"
   ]
  },
  {
   "cell_type": "markdown",
   "metadata": {},
   "source": [
    "### Effect of variance"
   ]
  },
  {
   "cell_type": "code",
   "execution_count": null,
   "metadata": {
    "scrolled": true
   },
   "outputs": [],
   "source": [
    "for funcName, func in funcDict.items():\n",
    "    print(funcName)\n",
    "    \n",
    "    funcEff = lambda alpha: func(n=1000, sigX=alpha, sigY=alpha, sigZ=alpha)\n",
    "    \n",
    "    pidtest.run_plot_param_effect(funcEff, labeledDecomp, decompLabels, nTest=1000, alphaRange=(0, 2))\n",
    "    plt.show()"
   ]
  },
  {
   "cell_type": "code",
   "execution_count": null,
   "metadata": {
    "scrolled": false
   },
   "outputs": [],
   "source": [
    "nSample = 10000\n",
    "for funcName, func in funcDict.items():\n",
    "    print(funcName)\n",
    "\n",
    "    funcEff = lambda alpha: func(n=nSample, sigX=alpha, sigY=alpha, sigZ=alpha)\n",
    "    pidtest.run_plot_param_effect_test(funcEff, labeledDecomp, decompLabels, nStep=10, nTest=400, alphaRange=(0, 2))    \n",
    "    \n",
    "    plt.savefig(funcName + '_r2_vareff_n'+str(nSample)+'.png', dpi=200)\n",
    "    plt.show()"
   ]
  },
  {
   "cell_type": "markdown",
   "metadata": {},
   "source": [
    "### Effect of number of samples"
   ]
  },
  {
   "cell_type": "code",
   "execution_count": null,
   "metadata": {
    "scrolled": false
   },
   "outputs": [],
   "source": [
    "sig = 1.0\n",
    "for funcName, func in funcDict.items():\n",
    "    print(funcName)\n",
    "    \n",
    "    funcEff = lambda n: func(n=n, sigX=sig, sigY=sig, sigZ=sig)\n",
    "    pidtest.run_plot_data_effect_test(funcEff, labeledDecomp, decompLabels, nStep=10, nTest=400)\n",
    "    plt.savefig(funcName + '_r2_nEff_sig'+str(sig)+'.png', dpi=200)\n",
    "    plt.show()"
   ]
  },
  {
   "cell_type": "markdown",
   "metadata": {},
   "source": [
    "### Synergy-Redundancy Relationship"
   ]
  },
  {
   "cell_type": "code",
   "execution_count": null,
   "metadata": {
    "collapsed": true,
    "scrolled": false
   },
   "outputs": [],
   "source": [
    "for funcName, func in funcDict.items():\n",
    "    print(funcName)\n",
    "    \n",
    "#     funcEff = lambda n, a, b, c: func(n=n, sigX=1.0, sigY=1.0, sigZ=1.0)\n",
    "    pidtest.run_plot_scatter(func, labeledDecomp, 'red', 'syn', 3, varLimits=(0, 2), nTestDim=20)"
   ]
  },
  {
   "cell_type": "code",
   "execution_count": null,
   "metadata": {
    "collapsed": true
   },
   "outputs": [],
   "source": []
  }
 ],
 "metadata": {
  "kernelspec": {
   "display_name": "Py3QT5",
   "language": "python",
   "name": "py3qt5"
  },
  "language_info": {
   "codemirror_mode": {
    "name": "ipython",
    "version": 3
   },
   "file_extension": ".py",
   "mimetype": "text/x-python",
   "name": "python",
   "nbconvert_exporter": "python",
   "pygments_lexer": "ipython3",
   "version": "3.8.5"
  }
 },
 "nbformat": 4,
 "nbformat_minor": 4
}

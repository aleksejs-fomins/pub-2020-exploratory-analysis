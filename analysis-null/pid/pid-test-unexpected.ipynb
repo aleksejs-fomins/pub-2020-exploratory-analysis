{
 "cells": [
  {
   "cell_type": "code",
   "execution_count": null,
   "metadata": {
    "collapsed": true
   },
   "outputs": [],
   "source": [
    "import numpy as np\n",
    "import pandas as pd\n",
    "import seaborn as sns\n",
    "import matplotlib.pyplot as plt\n",
    "from collections import defaultdict\n",
    "from idtxl.bivariate_pid import BivariatePID\n",
    "from idtxl.data import Data"
   ]
  },
  {
   "cell_type": "code",
   "execution_count": null,
   "metadata": {
    "collapsed": true
   },
   "outputs": [],
   "source": [
    "def bernoulli(n, p):\n",
    "    return (np.random.uniform(0, 1, n) < p).astype(int)\n",
    "\n",
    "def gen_discrete_random(nSample, alphaX=0.5, alphaY=0.5, alphaZ=0.5):\n",
    "    T =   2*bernoulli(nSample, 0.5)\n",
    "    nuX = 2*bernoulli(nSample, 0.5)\n",
    "    nuY = 2*bernoulli(nSample, 0.5)\n",
    "    nuZ = 2*bernoulli(nSample, 0.5)\n",
    "    aX = bernoulli(nSample, alphaX)\n",
    "    aY = bernoulli(nSample, alphaY)\n",
    "    aZ = bernoulli(nSample, alphaZ)\n",
    "    \n",
    "    x = (1 - aX)*T + aX*nuX\n",
    "    y = nuY\n",
    "    z = (1 - aZ)*T + aZ*nuZ\n",
    "    return x,y,z\n",
    "\n",
    "def shuffle(x):\n",
    "    x1 = x.copy()\n",
    "    np.random.shuffle(x1)\n",
    "    return x1"
   ]
  },
  {
   "cell_type": "code",
   "execution_count": null,
   "metadata": {
    "collapsed": true
   },
   "outputs": [],
   "source": [
    "decompLabels = ['unq_s1', 'unq_s2', 'shd_s1_s2', 'syn_s1_s2']"
   ]
  },
  {
   "cell_type": "code",
   "execution_count": null,
   "metadata": {
    "collapsed": true
   },
   "outputs": [],
   "source": [
    "def pid(dataPS):\n",
    "    settings = {'pid_estimator': 'TartuPID', 'lags_pid': [0, 0]}\n",
    "\n",
    "    dataIDTxl = Data(dataPS, dim_order='ps', normalise=False)\n",
    "    pid = BivariatePID()\n",
    "    rez = pid.analyse_single_target(settings=settings, data=dataIDTxl, target=2, sources=[0, 1])\n",
    "    rezTrg = rez.get_single_target(2)\n",
    "\n",
    "    # Getting rid of negative and very low positive PID's.\n",
    "    # Statistical tests behave unexplectedly - perhaps low values contaminated by roundoff errors?\n",
    "#     return {k : np.clip(rezTrg[k], 1.0E-6, None) for k in decompLabels}\n",
    "    return {k : rezTrg[k] for k in decompLabels}"
   ]
  },
  {
   "cell_type": "code",
   "execution_count": null,
   "metadata": {},
   "outputs": [],
   "source": [
    "nDataLst = []\n",
    "rezLst = []\n",
    "rezSh = []\n",
    "for nData in (10**np.linspace(3, 5, 1000)).astype(int):\n",
    "    x,y,z = gen_discrete_random(nData, alphaX=0.1, alphaY=0.1, alphaZ=0.1)\n",
    "    pidRez = pid(np.array([x,y,z]))\n",
    "    pidSh = pid(np.array([x,y,shuffle(z)]))\n",
    "    nDataLst += [nData]\n",
    "#     nDataLst += [nData, nData]\n",
    "#     rezLst += [pidRez['unq_s1'], pidRez['unq_s2']]\n",
    "#     rezSh += [pidSh['unq_s1'], pidSh['unq_s2']]\n",
    "    rezLst += [pidRez['shd_s1_s2']]\n",
    "    rezSh += [pidSh['shd_s1_s2']]"
   ]
  },
  {
   "cell_type": "code",
   "execution_count": null,
   "metadata": {},
   "outputs": [],
   "source": [
    "plt.figure()\n",
    "plt.loglog(nDataLst, rezLst, '.', label='data')\n",
    "plt.loglog(nDataLst, rezSh, '.', label='sh')\n",
    "plt.legend()\n",
    "plt.show()"
   ]
  },
  {
   "cell_type": "code",
   "execution_count": null,
   "metadata": {
    "collapsed": true
   },
   "outputs": [],
   "source": []
  }
 ],
 "metadata": {
  "kernelspec": {
   "display_name": "Py3QT5",
   "language": "python",
   "name": "py3qt5"
  },
  "language_info": {
   "codemirror_mode": {
    "name": "ipython",
    "version": 3
   },
   "file_extension": ".py",
   "mimetype": "text/x-python",
   "name": "python",
   "nbconvert_exporter": "python",
   "pygments_lexer": "ipython3",
   "version": "3.8.5"
  }
 },
 "nbformat": 4,
 "nbformat_minor": 4
}

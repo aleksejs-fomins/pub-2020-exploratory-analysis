{
 "cells": [
  {
   "cell_type": "code",
   "execution_count": null,
   "metadata": {},
   "outputs": [],
   "source": [
    "import numpy as np\n",
    "import pandas as pd\n",
    "import seaborn as sns\n",
    "import matplotlib.pyplot as plt\n",
    "from idtxl.bivariate_pid import BivariatePID\n",
    "from idtxl.data import Data\n",
    "\n",
    "from mesostat.utils.decorators import redirect_stdout\n",
    "from mesostat.visualization.mpl_colors import base_colors_rgb\n",
    "\n",
    "# Append base directory\n",
    "import os,sys #,inspect\n",
    "rootname = \"pub-2020-exploratory-analysis\"\n",
    "#thispath = os.path.dirname(os.path.abspath(inspect.getfile(inspect.currentframe())))\n",
    "thispath = os.getcwd()\n",
    "rootpath = os.path.join(thispath[:thispath.index(rootname)], rootname)\n",
    "sys.path.append(rootpath)\n",
    "print(\"Appended root directory\", rootpath)\n",
    "\n",
    "import lib.nullmodels.null_models_3D as null3D\n",
    "import lib.nullmodels.null_test as nulltest\n",
    "\n",
    "%load_ext autoreload\n",
    "%autoreload 2"
   ]
  },
  {
   "cell_type": "markdown",
   "metadata": {},
   "source": [
    "## PID Funictions\n",
    "\n",
    "[] TODO: Move to library class"
   ]
  },
  {
   "cell_type": "code",
   "execution_count": null,
   "metadata": {
    "collapsed": true
   },
   "outputs": [],
   "source": [
    "decompLabels = ['unq_s1', 'unq_s2', 'shd_s1_s2', 'syn_s1_s2']"
   ]
  },
  {
   "cell_type": "code",
   "execution_count": null,
   "metadata": {
    "collapsed": true
   },
   "outputs": [],
   "source": [
    "def bin_data_1D(data, nBins):\n",
    "    boundaries = np.quantile(data, np.linspace(0, 1, nBins + 1))\n",
    "    boundaries[-1] += 1.0E-10\n",
    "    return np.digitize(data, boundaries, right=False) - 1\n",
    "\n",
    "\n",
    "def pid_bin(x, y, z, nBins=4):\n",
    "    dataEff = np.array([\n",
    "        bin_data_1D(x, nBins),\n",
    "        bin_data_1D(y, nBins),\n",
    "        bin_data_1D(z, nBins)\n",
    "    ])\n",
    "\n",
    "    return pid(dataEff)\n",
    "\n",
    "\n",
    "@redirect_stdout\n",
    "def pid(dataPS):\n",
    "    settings = {'pid_estimator': 'TartuPID', 'lags_pid': [0, 0]}\n",
    "\n",
    "    dataIDTxl = Data(dataPS, dim_order='ps', normalise=False)\n",
    "    pid = BivariatePID()\n",
    "    rez = pid.analyse_single_target(settings=settings, data=dataIDTxl, target=2, sources=[0, 1])\n",
    "    rezTrg = rez.get_single_target(2)\n",
    "\n",
    "    # Getting rid of negative and very low positive PID's.\n",
    "    # Statistical tests behave unexplectedly - perhaps low values contaminated by roundoff errors?\n",
    "    return {k : np.clip(rezTrg[k], 1.0E-6, None) for k in decompLabels}"
   ]
  },
  {
   "cell_type": "markdown",
   "metadata": {},
   "source": [
    "## Models\n",
    "### Noisy Redundant Scenario\n",
    "\n",
    "We want to check if white noise added to a purely redundant scenario results in correct identification of redundancy\n",
    "\n",
    "$$X = T + \\nu_X$$\n",
    "$$Y = T + \\nu_Y$$\n",
    "$$Z = T + \\nu_Z$$\n",
    "\n",
    "where $Y$ is the target of $X$ and $Z$, and\n",
    "\n",
    "$$T \\sim \\mathcal{N}(0, 1)$$\n",
    "$$\\nu_X, \\nu_Y, \\nu_Z \\sim \\mathcal{N}(0, \\sigma)$$\n",
    "\n",
    "and $\\sigma$ is a free parameter, denoting the Noise-To-Signal ratio. So the signal should be a mixture of redundant signal and white noise.\n",
    "\n",
    "Since the signal is continuous, we bin it using different bin counts.\n",
    "\n",
    "### Noisy Unique Scenario\n",
    "\n",
    "Same as before, but\n",
    "\n",
    "$$X = T + \\nu_X$$\n",
    "$$Y = T + \\nu_Y$$\n",
    "$$Z = \\nu_Z$$"
   ]
  },
  {
   "cell_type": "markdown",
   "metadata": {},
   "source": [
    "### Noisy Redundant Scenario - Discrete Case\n",
    "\n",
    "It is important to test if false positives are caused by binning, or are an intrinsic property of the noise in the covariate. Here I propose a discretized noisy redundancy model. Instead of added noise, each variable has a random chance to produce the redundant outcome or a purely random outcome.\n",
    "\n",
    "$$X \\sim A_X \\nu_X + (1 - A_X) T $$\n",
    "$$Y \\sim A_Y \\nu_Y + (1 - A_Y) T $$\n",
    "$$Z \\sim A_Z \\nu_Z + (1 - A_Z) T $$\n",
    "\n",
    "where\n",
    "\n",
    "$$T, \\nu_X, \\nu_Y, \\nu_Z \\sim Ber(0.5) $$\n",
    "$$A_X \\sim Ber(\\alpha_X)$$\n",
    "$$A_Y \\sim Ber(\\alpha_Y)$$\n",
    "$$A_Z \\sim Ber(\\alpha_Z)$$\n",
    "\n",
    "and $\\alpha_X, \\alpha_Y, \\alpha_Z \\in [0, 1]$ are flexible.\n",
    "\n",
    "So, $\\alpha = 0$ means purely redundant signal, and $\\alpha=1$ means purely noisy signal."
   ]
  },
  {
   "cell_type": "code",
   "execution_count": null,
   "metadata": {
    "collapsed": true
   },
   "outputs": [],
   "source": [
    "discrFuncDict = null3D.discr_method_dict()\n",
    "contFuncDict = null3D.cont_method_dict()"
   ]
  },
  {
   "cell_type": "markdown",
   "metadata": {},
   "source": [
    "### Testing binning-dependence"
   ]
  },
  {
   "cell_type": "code",
   "execution_count": null,
   "metadata": {
    "collapsed": true
   },
   "outputs": [],
   "source": [
    "# valThrDict = None\n",
    "valThrDict = {'unq_s1': 0.08, 'unq_s2': 0.08, 'shd_s1_s2': None, 'syn_s1_s2': 0.16}"
   ]
  },
  {
   "cell_type": "code",
   "execution_count": null,
   "metadata": {
    "scrolled": true
   },
   "outputs": [],
   "source": [
    "taskDict = {\n",
    "    'yolo':    0.5*np.array([0,0,0]),\n",
    "    'norand':  0.5*np.array([0,0,1]),\n",
    "    'randx':   0.5*np.array([1,0,1]),\n",
    "    'rand':    0.5*np.array([1,1,1])\n",
    "}\n",
    "\n",
    "for taskName, params in taskDict.items():\n",
    "    print(taskName)\n",
    "    rezDict = {}\n",
    "\n",
    "    # Do continuous tests\n",
    "    for funcName, func in contFuncDict.items():\n",
    "        print('-', funcName)\n",
    "        \n",
    "#         for nBins in range(2, 6):\n",
    "        for nBins in [2]:\n",
    "            f_data   = lambda: func(10000, *params)\n",
    "            f_metric = lambda x, y, z: pid_bin(x,y,z, nBins)\n",
    "\n",
    "            rezDF   = nulltest.run_tests(f_data, f_metric, decompLabels, nTest=100)\n",
    "            rezDFsh = nulltest.run_tests(f_data, f_metric, decompLabels, nTest=100, haveShuffle=True)\n",
    "\n",
    "            rezDict[(funcName, nBins)] = (rezDF, rezDFsh)\n",
    "                        \n",
    "    # Do discrete tests\n",
    "    f_metric = lambda x, y, z: pid(np.array([x,y,z]))\n",
    "    for funcName, func in discrFuncDict.items():\n",
    "        f_data = lambda: func(10000, *(0.5*params))\n",
    "        rezDF   = nulltest.run_tests(f_data, f_metric, decompLabels, nTest=100)\n",
    "        rezDFsh = nulltest.run_tests(f_data, f_metric, decompLabels, nTest=100, haveShuffle=True)\n",
    "\n",
    "        rezDict[('red_discr', 2)] = (rezDF, rezDFsh)\n",
    "\n",
    "    for k, v in rezDict.items():\n",
    "        print(k)\n",
    "        funcName, nBin = k\n",
    "        rezDF, rezDFsh = v\n",
    "\n",
    "        nulltest.plot_test_summary(rezDF, rezDFsh, suptitle=funcName, haveEff=False, valThrDict=valThrDict)\n",
    "        suffix = '' if valThrDict is None else '_withThr'\n",
    "        plt.savefig(funcName + '_pid_nbin'+str(nBin)+'_summary_'+taskName+suffix+'.png', dpi=200)\n",
    "        plt.show()"
   ]
  },
  {
   "cell_type": "markdown",
   "metadata": {},
   "source": [
    "### Effect of variance\n",
    "\n",
    "Continuous"
   ]
  },
  {
   "cell_type": "code",
   "execution_count": null,
   "metadata": {
    "collapsed": true
   },
   "outputs": [],
   "source": [
    "nBin = 2\n",
    "f_metric_cont = lambda x, y, z: pid_bin(x,y,z, nBin)\n",
    "f_metric_discr = lambda x, y, z: pid(np.array([x,y,z]))"
   ]
  },
  {
   "cell_type": "code",
   "execution_count": null,
   "metadata": {
    "scrolled": true
   },
   "outputs": [],
   "source": [
    "# Do continuous tests\n",
    "nSample = 10000\n",
    "\n",
    "alphaStratDict = {\n",
    "    'PureSrc': lambda alpha: [0,0,alpha],\n",
    "    'ImpureX': lambda alpha: [alpha,0,alpha],\n",
    "    'Impure' : lambda alpha: [alpha,alpha,alpha],\n",
    "}\n",
    "\n",
    "thrMetricDictDict = {\n",
    "    'H0_orig' : None,\n",
    "    'H0_adj' : {'unq_s1': 0.08, 'unq_s2': 0.08, 'shd_s1_s2': None, 'syn_s1_s2': 0.16}\n",
    "}\n",
    "\n",
    "for fName, f_data in contFuncDict.items():\n",
    "    for alphaStratName, alphaFunc in alphaStratDict.items():\n",
    "        \n",
    "        f_data_eff = lambda alpha: f_data(nSample, *alphaFunc(alpha))\n",
    "        \n",
    "        for h0type, thrMetricDict in thrMetricDictDict.items():\n",
    "            print(fName, alphaStratName, h0type)\n",
    "\n",
    "            nulltest.run_plot_param_effect(f_data_eff, f_metric_cont, decompLabels,\n",
    "                                           nStep=1001, nSkipTest=100, nTest=200, alphaRange=(0, 1),\n",
    "                                           thrMetricDict=thrMetricDict, plotAlphaSq=False, fontsize=12)\n",
    "\n",
    "            suffix = 'n_' + str(nSample) + '_' + alphaStratName + '_' + h0type\n",
    "\n",
    "            plt.savefig(fName + '_pid_cont_nBin_'+str(nBin)+'_scatter_vareff_'+suffix+'.png', dpi=300)\n",
    "            plt.show()"
   ]
  },
  {
   "cell_type": "code",
   "execution_count": null,
   "metadata": {
    "collapsed": true,
    "scrolled": true
   },
   "outputs": [],
   "source": [
    "nSample=10000\n",
    "for fName, f_data in contFuncDict.items():\n",
    "    print(fName)\n",
    "    \n",
    "    f_data_eff = lambda alpha: f_data(n=nSample, sigX=alpha, sigY=alpha, sigZ=alpha)\n",
    "    nulltest.run_plot_param_effect_test(f_data_eff, f_metric_cont, decompLabels,\n",
    "                                        nStep=10, nTest=400, alphaRange=(0, 2), valThrDict=valThrDict)\n",
    "    \n",
    "    suffix = '' if valThrDict is None else '_withThr'\n",
    "    plt.savefig(fName + '_pid_nBin2_vareff_n'+str(nSample)+suffix+'.png', dpi=200)\n",
    "    plt.show()"
   ]
  },
  {
   "cell_type": "code",
   "execution_count": null,
   "metadata": {
    "collapsed": true
   },
   "outputs": [],
   "source": [
    "nSample=10000\n",
    "f_data = lambda alpha: null3D.cont_xor_noisy(n=nSample, sigX=alpha, sigY=alpha, sigZ=alpha)\n",
    "nulltest.run_plot_param_effect_test_single(f_data, f_metric_cont, decompLabels, 0, nTest=400)"
   ]
  },
  {
   "cell_type": "markdown",
   "metadata": {},
   "source": [
    "Discrete"
   ]
  },
  {
   "cell_type": "code",
   "execution_count": null,
   "metadata": {
    "scrolled": true
   },
   "outputs": [],
   "source": [
    "# Do continuous tests\n",
    "nSample = 10000\n",
    "\n",
    "alphaStratDict = {\n",
    "    'PureSrc': lambda alpha: [0,0,alpha],\n",
    "    'ImpureX': lambda alpha: [alpha,0,alpha],\n",
    "    'Impure' : lambda alpha: [alpha,alpha,alpha],\n",
    "}\n",
    "\n",
    "thrMetricDictDict = {\n",
    "    'H0_orig' : None\n",
    "#     'H0_adj' : {'unq_s1': 0.08, 'unq_s2': 0.08, 'shd_s1_s2': None, 'syn_s1_s2': 0.16}\n",
    "}\n",
    "\n",
    "for fName, f_data in discrFuncDict.items():\n",
    "    for alphaStratName, alphaFunc in alphaStratDict.items():\n",
    "        \n",
    "        f_data_eff = lambda alpha: f_data(nSample, *alphaFunc(alpha))\n",
    "        \n",
    "        for h0type, thrMetricDict in thrMetricDictDict.items():\n",
    "            print(fName, alphaStratName, h0type)\n",
    "\n",
    "            nulltest.run_plot_param_effect(f_data_eff, f_metric_discr, decompLabels,\n",
    "                                           nStep=1001, nSkipTest=100, nTest=200, alphaRange=(0, 1),\n",
    "                                           thrMetricDict=thrMetricDict, fontsize=12)\n",
    "\n",
    "            suffix = 'n_' + str(nSample) + '_' + alphaStratName + '_' + h0type\n",
    "\n",
    "            plt.savefig(fName + '_pid_discr_nBin_'+str(nBin)+'_scatter_vareff_'+suffix+'.png', dpi=300)\n",
    "            plt.show()"
   ]
  },
  {
   "cell_type": "code",
   "execution_count": null,
   "metadata": {
    "collapsed": true,
    "scrolled": true
   },
   "outputs": [],
   "source": [
    "nSample=10000\n",
    "for fName, f_data in discrFuncDict.items():\n",
    "    f_data_eff = lambda alpha: f_data(nSample=nSample, alphaX=alpha, alphaY=alpha, alphaZ=alpha)\n",
    "    nulltest.run_plot_param_effect_test(f_data_eff, f_metric_discr, decompLabels,\n",
    "                                        nStep=10, nTest=400, alphaRange=(0, 1), valThrDict=valThrDict)\n",
    "\n",
    "    suffix = '' if valThrDict is None else '_withThr'\n",
    "    plt.savefig(fName + '_pid_vareff_n'+str(nSample)+suffix+'.png', dpi=200)\n",
    "    plt.show()"
   ]
  },
  {
   "cell_type": "markdown",
   "metadata": {},
   "source": [
    "### Effect of number of samples\n",
    "Continuous"
   ]
  },
  {
   "cell_type": "code",
   "execution_count": null,
   "metadata": {},
   "outputs": [],
   "source": [
    "alpha=0.5\n",
    "\n",
    "alphaStratDict = {\n",
    "    'PureSrc': [0,0,alpha],\n",
    "    'ImpureX': [alpha,0,alpha],\n",
    "    'Impure' : [alpha,alpha,alpha],\n",
    "}\n",
    "\n",
    "thrMetricDictDict = {\n",
    "    'H0_orig' : None,\n",
    "    'H0_adj' : {'unq_s1': 0.08, 'unq_s2': 0.08, 'shd_s1_s2': None, 'syn_s1_s2': 0.16}\n",
    "}\n",
    "\n",
    "\n",
    "for fName, f_data in contFuncDict.items():\n",
    "    for alphaStratName, alphaFunc in alphaStratDict.items():\n",
    "        f_data_eff = lambda n: f_data(n, *alphaFunc)\n",
    "\n",
    "        for h0type, thrMetricDict in thrMetricDictDict.items():\n",
    "            print(fName, alphaStratName, h0type)\n",
    "\n",
    "            nulltest.run_plot_data_effect(f_data_eff, f_metric_cont, decompLabels,\n",
    "                                          nStep=101, nSkipTest=10, nTest=200, pVal=0.01,\n",
    "                                          thrMetricDict=thrMetricDict, fontsize=12)\n",
    "\n",
    "            suffix = 'alpha_' + str(alpha) + '_' + alphaStratName + '_' + h0type\n",
    "\n",
    "            plt.savefig(fName + '_pid_cont_nBin_'+str(nBin)+'_scatter_nEff_'+suffix+'.png', dpi=300)\n",
    "            plt.show()"
   ]
  },
  {
   "cell_type": "code",
   "execution_count": null,
   "metadata": {
    "collapsed": true,
    "scrolled": true
   },
   "outputs": [],
   "source": [
    "alpha=0.5\n",
    "for fName, f_data in contFuncDict.items():\n",
    "    print(fName)\n",
    "\n",
    "    f_data_eff = lambda n: f_data(n=n, aX=alpha, aY=alpha, aZ=alpha)\n",
    "    nulltest.run_plot_data_effect_test(f_data_eff, f_metric_cont, decompLabels,\n",
    "                                       nStep=10, nTest=400, valThrDict=valThrDict)\n",
    "    \n",
    "    suffix = '' if valThrDict is None else '_withThr'\n",
    "    plt.savefig(fName + '_pid_nBin2_nEff_sig'+str(sig)+suffix+'.png', dpi=200)\n",
    "    plt.show()"
   ]
  },
  {
   "cell_type": "markdown",
   "metadata": {},
   "source": [
    "Discrete"
   ]
  },
  {
   "cell_type": "code",
   "execution_count": null,
   "metadata": {},
   "outputs": [],
   "source": [
    "alpha=0.5\n",
    "\n",
    "alphaStratDict = {\n",
    "    'PureSrc': [0,0,alpha],\n",
    "    'ImpureX': [alpha,0,alpha],\n",
    "    'Impure' : [alpha,alpha,alpha],\n",
    "}\n",
    "\n",
    "thrMetricDictDict = {\n",
    "    'H0_orig' : None\n",
    "#     'H0_adj' : {'unq_s1': 0.08, 'unq_s2': 0.08, 'shd_s1_s2': None, 'syn_s1_s2': 0.16}\n",
    "}\n",
    "\n",
    "\n",
    "for fName, f_data in discrFuncDict.items():\n",
    "    for alphaStratName, alphaFunc in alphaStratDict.items():\n",
    "        f_data_eff = lambda n: f_data(n, *alphaFunc)\n",
    "\n",
    "        for h0type, thrMetricDict in thrMetricDictDict.items():\n",
    "            print(fName, alphaStratName, h0type)\n",
    "\n",
    "            nulltest.run_plot_data_effect(f_data_eff, f_metric_discr, decompLabels,\n",
    "                                          nStep=101, nSkipTest=10, nTest=200, pVal=0.01,\n",
    "                                          thrMetricDict=thrMetricDict, fontsize=12)\n",
    "\n",
    "            suffix = 'alpha_' + str(alpha) + '_' + alphaStratName + '_' + h0type\n",
    "\n",
    "            plt.savefig(fName + '_pid_discr_nBin_'+str(nBin)+'_scatter_nEff_'+suffix+'.png', dpi=300)\n",
    "            plt.show()"
   ]
  },
  {
   "cell_type": "code",
   "execution_count": null,
   "metadata": {
    "collapsed": true
   },
   "outputs": [],
   "source": [
    "alpha=0.5\n",
    "for fName, f_data in discrFuncDict.items():\n",
    "    f_data_eff = lambda n: f_data(nSample=n, aX=alpha, aY=alpha, aZ=alpha)\n",
    "    nulltest.run_plot_data_effect_test(f_data_eff, f_metric_discr, decompLabels,\n",
    "                                       nStep=10, nTest=400, valThrDict=valThrDict)\n",
    "\n",
    "    suffix = '' if valThrDict is None else '_withThr'\n",
    "    plt.savefig('redDiscr_pid_nEff_alpha'+str(alpha)+suffix+'.png', dpi=200)\n",
    "    plt.show()"
   ]
  },
  {
   "cell_type": "markdown",
   "metadata": {},
   "source": [
    "### Test relationship of synergy and redundancy for fixed data size\n",
    "\n",
    "#### 1. Finding max synergy parameters - GridSearch3D"
   ]
  },
  {
   "cell_type": "code",
   "execution_count": null,
   "metadata": {
    "collapsed": true,
    "scrolled": true
   },
   "outputs": [],
   "source": [
    "for nSample in [1000, 3000, 5000, 7000, 10000]:\n",
    "    print(nSample)\n",
    "    nulltest.run_gridsearch_3D(null3D.cont_red_noisy, f_metric_cont, 'syn_s1_s2',\n",
    "                              varLimits=(0, 2), nSample=nSample, nStep=20)"
   ]
  },
  {
   "cell_type": "code",
   "execution_count": null,
   "metadata": {
    "collapsed": true,
    "scrolled": true
   },
   "outputs": [],
   "source": [
    "for nSample in [1000, 3000, 5000, 7000, 10000]:\n",
    "    print(nSample)\n",
    "    nulltest.run_gridsearch_3D(null3D.discr_red_noisy, f_metric_discr, 'syn_s1_s2',\n",
    "                              varLimits=(0, 1), nSample=nSample, nStep=20)"
   ]
  },
  {
   "cell_type": "markdown",
   "metadata": {},
   "source": [
    "#### 2. Finding max synergy parameters - GridSearch1D\n",
    "\n",
    "Previous analysis found that in all cases maximal synergy is located at the diagonal $\\alpha_x = \\alpha_y$"
   ]
  },
  {
   "cell_type": "code",
   "execution_count": null,
   "metadata": {
    "collapsed": true
   },
   "outputs": [],
   "source": [
    "tableauColors = base_colors_rgb(key='tableau')"
   ]
  },
  {
   "cell_type": "code",
   "execution_count": null,
   "metadata": {
    "scrolled": true
   },
   "outputs": [],
   "source": [
    "nSampleLst = 1000 * np.arange(1, 11)\n",
    "alphaMaxLst = []\n",
    "thrLst = []\n",
    "\n",
    "for nSample in nSampleLst:\n",
    "    print(nSample)\n",
    "    alphaMax, thr = nulltest.run_plot_1D_scan(null3D.cont_red_noisy, f_metric_cont, 'shd_s1_s2', 'syn_s1_s2',\n",
    "                                              varLimits=(0, 1), nSample=nSample, nStep=100, nTest=100,\n",
    "                                              colorA = tableauColors[2], colorB = tableauColors[3])\n",
    "    plt.savefig('redCont_pid_nbin2_1Dscan_syn_n_'+str(nSample)+'.png', dpi=200)\n",
    "    plt.show()\n",
    "    \n",
    "    alphaMaxLst += [alphaMax]\n",
    "    thrLst += [thr]\n",
    "    \n",
    "plt.figure()\n",
    "plt.plot(nSampleLst, alphaMaxLst, label='param')\n",
    "plt.plot(nSampleLst, thrLst, label='thr')\n",
    "plt.legend()\n",
    "plt.savefig('redCont_pid_nbin2_1Dscan_syn_summary.png', dpi=200)\n",
    "plt.show()"
   ]
  },
  {
   "cell_type": "code",
   "execution_count": null,
   "metadata": {
    "scrolled": true
   },
   "outputs": [],
   "source": [
    "nSampleLst = 1000 * np.arange(1, 11)\n",
    "alphaMaxLst = []\n",
    "thrLst = []\n",
    "\n",
    "for nSample in nSampleLst:\n",
    "    print(nSample)\n",
    "    alphaMax, thr = nulltest.run_plot_1D_scan(null3D.discr_red_noisy, f_metric_discr, 'shd_s1_s2', 'syn_s1_s2',\n",
    "                                              varLimits=(0, 1), nSample=nSample, nStep=100, nTest=100,\n",
    "                                              colorA = tableauColors[2], colorB = tableauColors[3])\n",
    "    plt.savefig('redDiscr_pid_1Dscan_syn_n_'+str(nSample)+'.png', dpi=200)\n",
    "    plt.show()\n",
    "    \n",
    "    alphaMaxLst += [alphaMax]\n",
    "    thrLst += [thr]\n",
    "    \n",
    "plt.figure()\n",
    "plt.plot(nSampleLst, alphaMaxLst, label='param')\n",
    "plt.plot(nSampleLst, thrLst, label='thr')\n",
    "plt.legend()\n",
    "plt.savefig('redDiscr_pid_1Dscan_syn_summary.png', dpi=200)\n",
    "plt.show()"
   ]
  },
  {
   "cell_type": "markdown",
   "metadata": {},
   "source": [
    "#### 3. Determining Synergy-Redundancy Relationship"
   ]
  },
  {
   "cell_type": "code",
   "execution_count": null,
   "metadata": {
    "collapsed": true
   },
   "outputs": [],
   "source": [
    "nulltest.run_plot_scatter_explore(null3D.cont_red_noisy, f_metric_cont, 'shd_s1_s2', 'syn_s1_s2', 3,\n",
    "                         varLimits=(0, 0.5), nSample=1000, nTestDim=20)"
   ]
  },
  {
   "cell_type": "code",
   "execution_count": null,
   "metadata": {
    "collapsed": true
   },
   "outputs": [],
   "source": [
    "nulltest.run_plot_scatter_explore(null3D.discr_red_noisy, f_metric_discr, 'shd_s1_s2', 'syn_s1_s2', 3,\n",
    "                         varLimits=(0, 1), nSample=1000, nTestDim=20)"
   ]
  },
  {
   "cell_type": "markdown",
   "metadata": {
    "collapsed": true
   },
   "source": [
    "### Test relationship of unique and redundancy for fixed data size"
   ]
  },
  {
   "cell_type": "markdown",
   "metadata": {},
   "source": [
    "#### 2. Finding max synergy parameters - GridSearch1D"
   ]
  },
  {
   "cell_type": "code",
   "execution_count": null,
   "metadata": {
    "scrolled": true
   },
   "outputs": [],
   "source": [
    "nSampleLst = 1000 * np.arange(1, 11)\n",
    "alphaMaxLst = []\n",
    "thrLst = []\n",
    "\n",
    "for nSample in nSampleLst:\n",
    "    print(nSample)\n",
    "    alphaMax, thr = nulltest.run_plot_1D_scan(null3D.cont_red_noisy, f_metric_cont, 'shd_s1_s2', 'unq_s1',\n",
    "                                              varLimits=(0, 1), nSample=nSample, nStep=100, nTest=100,\n",
    "                                              colorA = tableauColors[2], colorB = tableauColors[0])\n",
    "    plt.savefig('redCont_pid_1Dscan_unq_n_'+str(nSample)+'.png', dpi=200)\n",
    "    plt.show()\n",
    "    \n",
    "    alphaMaxLst += [alphaMax]\n",
    "    thrLst += [thr]\n",
    "    \n",
    "plt.figure()\n",
    "plt.plot(nSampleLst, alphaMaxLst, label='param')\n",
    "plt.plot(nSampleLst, thrLst, label='thr')\n",
    "plt.legend()\n",
    "plt.savefig('redCont_pid_1Dscan_unq_summary.png', dpi=200)\n",
    "plt.show()"
   ]
  },
  {
   "cell_type": "code",
   "execution_count": null,
   "metadata": {},
   "outputs": [],
   "source": [
    "nSampleLst = 1000 * np.arange(1, 11)\n",
    "alphaMaxLst = []\n",
    "thrLst = []\n",
    "\n",
    "for nSample in nSampleLst:\n",
    "    print(nSample)\n",
    "    alphaMax, thr = nulltest.run_plot_1D_scan(null3D.discr_red_noisy, f_metric_discr, 'shd_s1_s2', 'unq_s1',\n",
    "                                              varLimits=(0, 1), nSample=nSample, nStep=100, nTest=100,\n",
    "                                              colorA = tableauColors[2], colorB = tableauColors[0])\n",
    "    plt.savefig('redDiscr_pid_1Dscan_unq_n_'+str(nSample)+suffix+'.png', dpi=200)\n",
    "    plt.show()\n",
    "    \n",
    "    alphaMaxLst += [alphaMax]\n",
    "    thrLst += [thr]\n",
    "    \n",
    "plt.figure()\n",
    "plt.plot(nSampleLst, alphaMaxLst, label='param')\n",
    "plt.plot(nSampleLst, thrLst, label='thr')\n",
    "plt.legend()\n",
    "plt.savefig('redDiscr_pid_1Dscan_unq_summary_'+suffix+'.png', dpi=200)\n",
    "plt.show()"
   ]
  },
  {
   "cell_type": "markdown",
   "metadata": {},
   "source": [
    "#### 3. Determining Unique-Redundancy Relationship"
   ]
  },
  {
   "cell_type": "code",
   "execution_count": null,
   "metadata": {
    "collapsed": true
   },
   "outputs": [],
   "source": [
    "nulltest.run_plot_scatter_explore(null3D.cont_red_noisy, f_metric_cont, 'shd_s1_s2', 'unq_s1', 3,\n",
    "                         varLimits=(0, 0.5), nSample=1000, nTestDim=20)"
   ]
  },
  {
   "cell_type": "code",
   "execution_count": null,
   "metadata": {
    "collapsed": true
   },
   "outputs": [],
   "source": [
    "nulltest.run_plot_scatter_explore(null3D.discr_red_noisy, f_metric_discr, 'shd_s1_s2', 'unq_s1', 3,\n",
    "                         varLimits=(0, 1), nSample=1000, nTestDim=20)"
   ]
  }
 ],
 "metadata": {
  "kernelspec": {
   "display_name": "Py3QT5",
   "language": "python",
   "name": "py3qt5"
  },
  "language_info": {
   "codemirror_mode": {
    "name": "ipython",
    "version": 3
   },
   "file_extension": ".py",
   "mimetype": "text/x-python",
   "name": "python",
   "nbconvert_exporter": "python",
   "pygments_lexer": "ipython3",
   "version": "3.8.5"
  }
 },
 "nbformat": 4,
 "nbformat_minor": 5
}

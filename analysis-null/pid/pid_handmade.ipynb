{
 "cells": [
  {
   "cell_type": "code",
   "execution_count": null,
   "metadata": {},
   "outputs": [],
   "source": [
    "import numpy as np\n",
    "import pandas as pd\n",
    "from idtxl.bivariate_pid import BivariatePID\n",
    "from idtxl.data import Data\n",
    "\n",
    "from IPython.display import display, HTML"
   ]
  },
  {
   "cell_type": "markdown",
   "metadata": {},
   "source": [
    "### Get 3D probability distributions from data"
   ]
  },
  {
   "cell_type": "code",
   "execution_count": null,
   "metadata": {},
   "outputs": [],
   "source": [
    "# Generate N samples from a bernoulli probability distribution\n",
    "def bernoulli(p, n):\n",
    "    return (np.random.uniform(0, 1, n) < p).astype(int)\n",
    "\n",
    "# Given 1D arrays of binary variables x,y,z,\n",
    "# compute their joint probability distribution P(X,Y,Z)\n",
    "def get_prob_cube(x,y,z):\n",
    "    rez = np.zeros((2,2,2))\n",
    "    for ix in [0, 1]:\n",
    "        for iy in [0, 1]:\n",
    "            for iz in [0, 1]:\n",
    "                rez[ix, iy, iz] = np.mean(np.logical_and.reduce([x == ix, y==iy, z==iz]))\n",
    "    return rez"
   ]
  },
  {
   "cell_type": "code",
   "execution_count": null,
   "metadata": {},
   "outputs": [],
   "source": [
    "x = bernoulli(0.5, 10000)\n",
    "y = bernoulli(0.5, 10000)\n",
    "z = bernoulli(0.5, 10000)"
   ]
  },
  {
   "cell_type": "code",
   "execution_count": null,
   "metadata": {},
   "outputs": [],
   "source": [
    "get_prob_cube(x,y,z)"
   ]
  },
  {
   "cell_type": "markdown",
   "metadata": {},
   "source": [
    "### Generate noisy redundant data"
   ]
  },
  {
   "cell_type": "code",
   "execution_count": null,
   "metadata": {},
   "outputs": [],
   "source": [
    "kicker = 2\n",
    "data2D = []\n",
    "data2D += [[1,1,1]] * (73 * kicker)\n",
    "data2D += [[1,1,0]] * (9 * kicker)\n",
    "data2D += [[1,0,1]] * (9 * kicker)\n",
    "data2D += [[1,0,0]] * (9 * kicker)\n",
    "data2D += [[0,1,1]] * (9 * kicker)\n",
    "data2D += [[0,1,0]] * (9 * kicker)\n",
    "data2D += [[0,0,1]] * (9 * kicker)\n",
    "data2D += [[0,0,0]] * (73 * kicker)\n",
    "data2D = np.array(data2D).T"
   ]
  },
  {
   "cell_type": "code",
   "execution_count": null,
   "metadata": {},
   "outputs": [],
   "source": [
    "get_prob_cube(*data2D)"
   ]
  },
  {
   "cell_type": "markdown",
   "metadata": {},
   "source": [
    "### Test IDTXL PID\n",
    "\n",
    "So for purely symmetric data there is ZERO false positive uniques, but significant synergy"
   ]
  },
  {
   "cell_type": "code",
   "execution_count": null,
   "metadata": {},
   "outputs": [],
   "source": [
    "# Tartu PID estimator\n",
    "def pid(dataPS):\n",
    "    settings = {'pid_estimator': 'TartuPID', 'lags_pid': [0, 0]}\n",
    "\n",
    "    dataIDTxl = Data(dataPS, dim_order='ps', normalise=False)\n",
    "    pid = BivariatePID()\n",
    "    rez = pid.analyse_single_target(settings=settings, data=dataIDTxl, target=2, sources=[0,1])\n",
    "    return rez.get_single_target(2)"
   ]
  },
  {
   "cell_type": "code",
   "execution_count": null,
   "metadata": {},
   "outputs": [],
   "source": [
    "pid(data2D)"
   ]
  },
  {
   "cell_type": "code",
   "execution_count": null,
   "metadata": {},
   "outputs": [],
   "source": [
    "# 1D entropy\n",
    "def h(p):\n",
    "    return -p.dot(np.log2(p))\n",
    "\n",
    "\n",
    "# ND entropy\n",
    "def hnd(p):\n",
    "    return h(p.flatten())\n",
    "\n",
    "\n",
    "# # Binary Mutual Info\n",
    "# def mi_bin(pxy, px, py):\n",
    "#     rez = 0\n",
    "#     for ix in [0, 1]:\n",
    "#         for iy in [0, 1]:\n",
    "#             rez += pxy[ix, iy] * np.log2(pxy[ix, iy] / px[ix] / py[iy])\n",
    "#     return rez\n",
    "\n",
    "# # Binary Conditional Mutual Info\n",
    "# def cmi_bin(pxyz, px, py, pz, pxz, pyz):\n",
    "#     rez = 0\n",
    "#     for ix in [0, 1]:\n",
    "#         for iy in [0, 1]:\n",
    "#             for iz in [0, 1]:\n",
    "#                 rez += pxyz[ix, iy, iz] * np.log2(pxyz[ix, iy, iz] * pz[iz] / pxz[ix, iz] / pyz[iy, iz])\n",
    "#     return rez\n",
    "\n",
    "\n",
    "# Compute mutual informations for fixed value of py\n",
    "def red_tmp(pxy, px, py):\n",
    "    rezy = np.zeros(2)\n",
    "    \n",
    "    for ix in [0, 1]:\n",
    "            rezy += (pxy[ix] / py) * np.log2(pxy[ix] / px[ix] / py)\n",
    "    return rezy\n",
    "\n",
    "\n",
    "# Compute redundancy as expected value of the minimal fixed value mutual information \n",
    "def red(px, py, pz, pxz, pyz):\n",
    "    tmpXZ = red_tmp(pxz, px, pz)\n",
    "    tmpYZ = red_tmp(pyz, py, pz)\n",
    "    tmpMinZ = np.min([tmpXZ, tmpYZ], axis=0)\n",
    "    \n",
    "    return pz.dot(tmpMinZ)\n",
    "    \n",
    "\n",
    "def naive_pid(dataPS):\n",
    "    # PMF\n",
    "    x,y,z = dataPS\n",
    "    pXYZ = get_prob_cube(x,y,z)\n",
    "    \n",
    "    # Marginals\n",
    "    pX = np.sum(pXYZ, axis=(1,2))\n",
    "    pY = np.sum(pXYZ, axis=(0,2))\n",
    "    pZ = np.sum(pXYZ, axis=(0,1))\n",
    "    pXY = np.sum(pXYZ, axis=2)\n",
    "    pXZ = np.sum(pXYZ, axis=1)\n",
    "    pYZ = np.sum(pXYZ, axis=0)\n",
    "    \n",
    "    # Entropies\n",
    "    hX = h(pX)\n",
    "    hY = h(pY)\n",
    "    hZ = h(pZ)\n",
    "    hXY = hnd(pXY)\n",
    "    hXZ = hnd(pXZ)\n",
    "    hYZ = hnd(pYZ)\n",
    "    hXYZ = hnd(pXYZ)\n",
    "    \n",
    "    df = pd.DataFrame()\n",
    "    df['Entropy Measures'] = ['H(X)', 'H(Y)', 'H(Z)', 'H(XY)', 'H(XZ)', 'H(YZ)', 'H(XYZ)']\n",
    "    df['Entropy Values'] = [hX, hY, hZ, hXY, hXZ, hYZ, hXYZ]\n",
    "    \n",
    "    # Mutual Informations\n",
    "    miXY = hX + hY - hXY\n",
    "    miXZ = hX + hZ - hXZ\n",
    "    miYZ = hY + hZ - hYZ\n",
    "    miXYZ = hXY + hZ - hXYZ\n",
    "    miXZY = hXZ + hY - hXYZ\n",
    "    miYZX = hYZ + hX - hXYZ\n",
    "    cmiXYZ = hXZ + hYZ - hXYZ - hZ\n",
    "    cmiXZY = hXY + hYZ - hXYZ - hY\n",
    "    cmiYZX = hXY + hXZ - hXYZ - hX\n",
    "    \n",
    "#     miXY = mi_bin(pXY, pX, pY)\n",
    "#     miXZ = mi_bin(pXZ, pX, pZ)\n",
    "#     miYZ = mi_bin(pYZ, pY, pZ)\n",
    "#     cmiXYZ = cmi_bin(pXYZ,                      pX, pY, pZ, pXZ,   pYZ)\n",
    "#     cmiXZY = cmi_bin(pXYZ.transpose((0, 2, 1)), pX, pZ, pY, pXY,   pYZ.T)\n",
    "#     cmiYZX = cmi_bin(pXYZ.transpose((1, 2, 0)), pY, pZ, pX, pXY.T, pXZ.T)\n",
    "    \n",
    "    df2 = pd.DataFrame()\n",
    "    df2['MI Measures'] = [\n",
    "        'I(X:Y)', 'I(X:Z)', 'I(Y:Z)',\n",
    "        'I(XY:Z)', 'I(XZ:Y)', 'I(YZ:X)',\n",
    "        'I(X:Y|Z)', 'I(X:Z|Y)', 'I(Y:Z|X)'\n",
    "    ]\n",
    "    df2['MI Values']   = [\n",
    "        miXY, miXZ, miYZ,\n",
    "        miXYZ, miXZY, miYZX,\n",
    "        cmiXYZ, cmiXZY, cmiYZX\n",
    "    ]\n",
    "    \n",
    "    # PID\n",
    "    redXYZ = red(pX, pY, pZ, pXZ, pYZ)\n",
    "    unqXZ = miXZ - redXYZ\n",
    "    unqYZ = miYZ - redXYZ\n",
    "    synXYZ = cmiXZY - unqXZ\n",
    "    \n",
    "    df3 = pd.DataFrame()\n",
    "    df3['PID Measures'] = ['R(X:Y:Z)', 'U(X:Z|Y)', 'U(Y:Z|X)', 'S(X:Y:Z)']\n",
    "    df3['PID Values']   = [redXYZ, unqXZ, unqYZ, synXYZ]\n",
    "    \n",
    "    display(pd.concat([df, df2, df3], axis=1).fillna(''))"
   ]
  },
  {
   "cell_type": "code",
   "execution_count": null,
   "metadata": {},
   "outputs": [],
   "source": [
    "naive_pid(data2D)"
   ]
  },
  {
   "cell_type": "code",
   "execution_count": null,
   "metadata": {},
   "outputs": [],
   "source": []
  }
 ],
 "metadata": {
  "kernelspec": {
   "display_name": "py3ml",
   "language": "python",
   "name": "py3ml"
  },
  "language_info": {
   "codemirror_mode": {
    "name": "ipython",
    "version": 3
   },
   "file_extension": ".py",
   "mimetype": "text/x-python",
   "name": "python",
   "nbconvert_exporter": "python",
   "pygments_lexer": "ipython3",
   "version": "3.8.5"
  }
 },
 "nbformat": 4,
 "nbformat_minor": 4
}

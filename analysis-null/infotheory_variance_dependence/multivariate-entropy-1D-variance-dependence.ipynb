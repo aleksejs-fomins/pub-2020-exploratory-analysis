{
 "cells": [
  {
   "cell_type": "code",
   "execution_count": null,
   "metadata": {},
   "outputs": [],
   "source": [
    "import numpy as np\n",
    "import matplotlib.pyplot as plt\n",
    "from mesostat.metric.infotheory.npeet import average_entropy_3D\n",
    "from mesostat.utils.arrays import numpy_add_empty_axes\n",
    "from npeet.entropy_estimators import entropy, mi\n",
    "\n",
    "entropy1D = lambda x: average_entropy_3D(numpy_add_empty_axes(x, [1, 2]), {})\n",
    "avgEntropy2D = lambda x: average_entropy_3D(numpy_add_empty_axes(x, [2]), {})\n",
    "\n",
    "import matplotlib\n",
    "matplotlib.rcParams.update({'font.size': 14})"
   ]
  },
  {
   "cell_type": "markdown",
   "metadata": {},
   "source": [
    "# 1D Entropy as function of signal magnitude"
   ]
  },
  {
   "cell_type": "code",
   "execution_count": null,
   "metadata": {},
   "outputs": [],
   "source": [
    "data = np.random.uniform(0, 1, 1000)\n",
    "alphaLst = np.arange(1, 100)\n",
    "\n",
    "stdLst = [np.std(a * data) for a in alphaLst]\n",
    "hLst = [entropy(a * data[:, None]) for a in alphaLst]\n",
    "\n",
    "plt.figure()\n",
    "plt.plot(stdLst, np.log2(alphaLst), label='analytical')\n",
    "plt.plot(stdLst, hLst, label='estimated')\n",
    "plt.legend()\n",
    "plt.xlabel('standard deviation')\n",
    "plt.ylabel('differential entropy')\n",
    "plt.savefig('h1d_vs_std.svg')\n",
    "plt.show()"
   ]
  },
  {
   "cell_type": "markdown",
   "metadata": {},
   "source": [
    "# Multivariate entropy as function of single channel magnitude"
   ]
  },
  {
   "cell_type": "code",
   "execution_count": null,
   "metadata": {
    "scrolled": false
   },
   "outputs": [],
   "source": [
    "def scale_one(x, alpha):\n",
    "    xNew = np.copy(x)\n",
    "    xNew[0] *= alpha\n",
    "    return xNew\n",
    "\n",
    "nDim = 10\n",
    "data = np.random.uniform(0, 1, (nDim, 1000))\n",
    "alphaLst = np.arange(1, 100)\n",
    "\n",
    "avgh1D = []\n",
    "avghND = []\n",
    "for a in alphaLst:\n",
    "    dataScaled = scale_one(data, a)\n",
    "    avgh1D += [np.mean([entropy1D(d) for d in dataScaled])]\n",
    "    avghND += [avgEntropy2D(dataScaled.T)]\n",
    "    \n",
    "avgh1D = np.array(avgh1D)\n",
    "avghND = np.array(avghND)\n",
    "\n",
    "plt.figure()\n",
    "plt.plot(alphaLst, avgh1D, label='semi-analytic')\n",
    "plt.plot(alphaLst, avghND - avghND[0], label='estimated')\n",
    "plt.legend()\n",
    "plt.xlabel('standard deviation')\n",
    "plt.ylabel('differential entropy')\n",
    "plt.savefig('hnd_vs_std.svg')\n",
    "plt.show()"
   ]
  },
  {
   "cell_type": "markdown",
   "metadata": {},
   "source": [
    "# Mutual Information as function of single channel magnitude"
   ]
  },
  {
   "cell_type": "code",
   "execution_count": null,
   "metadata": {},
   "outputs": [],
   "source": [
    "x = np.random.uniform(0,1,(1000,1))\n",
    "y = np.random.uniform(0,1,(1000,1))\n",
    "z = 0.5*x + 0.5*y\n",
    "alphaLst = np.arange(1, 100)\n",
    "\n",
    "miLst = [mi(x, a*z) for a in alphaLst]\n",
    "\n",
    "plt.figure()\n",
    "plt.plot(alphaLst, miLst)\n",
    "plt.xlabel('standard deviation')\n",
    "plt.ylabel('mutual information')\n",
    "plt.savefig('mi_vs_std.svg')\n",
    "plt.show()"
   ]
  },
  {
   "cell_type": "code",
   "execution_count": null,
   "metadata": {},
   "outputs": [],
   "source": []
  }
 ],
 "metadata": {
  "kernelspec": {
   "display_name": "Python (nest)",
   "language": "python",
   "name": "py36nest"
  },
  "language_info": {
   "codemirror_mode": {
    "name": "ipython",
    "version": 3
   },
   "file_extension": ".py",
   "mimetype": "text/x-python",
   "name": "python",
   "nbconvert_exporter": "python",
   "pygments_lexer": "ipython3",
   "version": "3.6.6"
  }
 },
 "nbformat": 4,
 "nbformat_minor": 2
}

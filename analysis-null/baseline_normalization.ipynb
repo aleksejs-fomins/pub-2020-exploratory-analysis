{
 "cells": [
  {
   "cell_type": "markdown",
   "metadata": {},
   "source": [
    "Trial vs Session baseline subtraction\n",
    "Let $x_{ij}$ be Ca signal at pre-trial interval, over channels and trials\n",
    "Let $y_{ij}$ be Ca signal at some point during trial, over channels and trials\n",
    "\n",
    "The two baseline subtraction methods are as follows\n",
    "* Session-based: $z_{ij}=\\frac{y_{ij}}{\\mu_i}-1$, where $\\mu_i = \\frac{1}{N_{tr}}\\sum_j x_{ij}$\n",
    "* Trial-based: $z_{ij}=\\frac{y_{ij}}{x_{ij}}-1$\n",
    "\n",
    "Question: What is the effect of baseline subtraction mechanisms on mean and variance"
   ]
  },
  {
   "cell_type": "code",
   "execution_count": 7,
   "metadata": {
    "collapsed": true
   },
   "outputs": [],
   "source": [
    "import numpy as np\n",
    "\n",
    "def test_bssub(x, y):    \n",
    "    zTrial = y / x - 1\n",
    "    zSession = y / np.mean(x) - 1\n",
    "\n",
    "    print('Original')\n",
    "    print(np.mean(x), np.std(x))\n",
    "    print(np.mean(y), np.std(y))\n",
    "\n",
    "    print('Trial')\n",
    "    print(np.mean(zTrial), np.std(zTrial))\n",
    "\n",
    "    print('Session')\n",
    "    print(np.mean(zSession), np.std(zSession))"
   ]
  },
  {
   "cell_type": "code",
   "execution_count": 21,
   "metadata": {},
   "outputs": [
    {
     "name": "stdout",
     "output_type": "stream",
     "text": [
      "Original\n",
      "2.981295828986997 1.1273575264947093\n",
      "2.958366893142827 1.1952940389965476\n",
      "Trial\n",
      "0.16646095256606247 0.7302978273889276\n",
      "Session\n",
      "-0.007690929434520828 0.400931040581334\n"
     ]
    }
   ],
   "source": [
    "# TEST 1: If pre-trial interval and target are random and unrelated\n",
    "nTrial = 200\n",
    "\n",
    "x = np.random.uniform(1, 5, nTrial)\n",
    "y = np.random.uniform(1, 5, nTrial)\n",
    "\n",
    "test_bssub(x, y)"
   ]
  },
  {
   "cell_type": "code",
   "execution_count": 23,
   "metadata": {},
   "outputs": [
    {
     "name": "stdout",
     "output_type": "stream",
     "text": [
      "Original\n",
      "2.938933422452394 1.125870893163803\n",
      "5.9698187110164405 1.6092145832691367\n",
      "Trial\n",
      "1.2319117660473144 0.7604306325237129\n",
      "Session\n",
      "1.0312874954598064 0.547550540265838\n"
     ]
    }
   ],
   "source": [
    "# TEST 2: If pre-trial interval is a base for target\n",
    "nTrial = 200\n",
    "\n",
    "x = np.random.uniform(1, 5, nTrial)\n",
    "y = np.random.uniform(1, 5, nTrial)\n",
    "y += x\n",
    "\n",
    "test_bssub(x, y)"
   ]
  },
  {
   "cell_type": "code",
   "execution_count": null,
   "metadata": {
    "collapsed": true
   },
   "outputs": [],
   "source": []
  }
 ],
 "metadata": {
  "kernelspec": {
   "display_name": "Python (py36qt5)",
   "language": "python",
   "name": "py36qt5"
  },
  "language_info": {
   "codemirror_mode": {
    "name": "ipython",
    "version": 3
   },
   "file_extension": ".py",
   "mimetype": "text/x-python",
   "name": "python",
   "nbconvert_exporter": "python",
   "pygments_lexer": "ipython3",
   "version": "3.6.4"
  }
 },
 "nbformat": 4,
 "nbformat_minor": 2
}

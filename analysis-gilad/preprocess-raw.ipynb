{
 "cells": [
  {
   "cell_type": "code",
   "execution_count": 15,
   "metadata": {},
   "outputs": [
    {
     "name": "stdout",
     "output_type": "stream",
     "text": [
      "Appended root directory /media/aleksejs/DataHDD/work/codes/comp-neuro/analysis-mesoscopic/pub-2020-exploratory-analysis\n",
      "The autoreload extension is already loaded. To reload it, use:\n",
      "  %reload_ext autoreload\n"
     ]
    }
   ],
   "source": [
    "# Standard libraries\n",
    "import numpy as np\n",
    "import pandas as pd\n",
    "import matplotlib.pyplot as plt\n",
    "from ipywidgets import IntProgress\n",
    "from IPython.display import display\n",
    "\n",
    "# Append base directory\n",
    "import os,sys,inspect\n",
    "rootname = \"pub-2020-exploratory-analysis\"\n",
    "thispath = os.path.dirname(os.path.abspath(inspect.getfile(inspect.currentframe())))\n",
    "rootpath = os.path.join(thispath[:thispath.index(rootname)], rootname)\n",
    "sys.path.append(rootpath)\n",
    "print(\"Appended root directory\", rootpath)\n",
    "\n",
    "from mesostat.utils.qt_helper import gui_fpath\n",
    "\n",
    "import lib.gilad.preprocess_raw as prep\n",
    "\n",
    "\n",
    "%load_ext autoreload\n",
    "%autoreload 2"
   ]
  },
  {
   "cell_type": "markdown",
   "metadata": {},
   "source": [
    "## TODO\n"
   ]
  },
  {
   "cell_type": "code",
   "execution_count": 16,
   "metadata": {
    "collapsed": true
   },
   "outputs": [],
   "source": [
    "pwd = '/mnt/neurophys-storage1/Gilad/Data_per_mouse/Learning'\n",
    "pwdH5 = './'"
   ]
  },
  {
   "cell_type": "code",
   "execution_count": 17,
   "metadata": {},
   "outputs": [
    {
     "data": {
      "text/html": [
       "<div>\n",
       "<style scoped>\n",
       "    .dataframe tbody tr th:only-of-type {\n",
       "        vertical-align: middle;\n",
       "    }\n",
       "\n",
       "    .dataframe tbody tr th {\n",
       "        vertical-align: top;\n",
       "    }\n",
       "\n",
       "    .dataframe thead th {\n",
       "        text-align: right;\n",
       "    }\n",
       "</style>\n",
       "<table border=\"1\" class=\"dataframe\">\n",
       "  <thead>\n",
       "    <tr style=\"text-align: right;\">\n",
       "      <th></th>\n",
       "      <th>path_rel</th>\n",
       "      <th>mouseIdx</th>\n",
       "      <th>mousename</th>\n",
       "    </tr>\n",
       "  </thead>\n",
       "  <tbody>\n",
       "    <tr>\n",
       "      <th>0</th>\n",
       "      <td>mouse_tgg6fl23_14</td>\n",
       "      <td>14</td>\n",
       "      <td>m14</td>\n",
       "    </tr>\n",
       "    <tr>\n",
       "      <th>1</th>\n",
       "      <td>mouse_tgg6fl23_15</td>\n",
       "      <td>15</td>\n",
       "      <td>m15</td>\n",
       "    </tr>\n",
       "    <tr>\n",
       "      <th>2</th>\n",
       "      <td>mouse_tgg6fl23_16</td>\n",
       "      <td>16</td>\n",
       "      <td>m16</td>\n",
       "    </tr>\n",
       "    <tr>\n",
       "      <th>3</th>\n",
       "      <td>mouse_tgg6fl23_17</td>\n",
       "      <td>17</td>\n",
       "      <td>m17</td>\n",
       "    </tr>\n",
       "    <tr>\n",
       "      <th>4</th>\n",
       "      <td>mouse_tgg6fl23_18</td>\n",
       "      <td>18</td>\n",
       "      <td>m18</td>\n",
       "    </tr>\n",
       "    <tr>\n",
       "      <th>5</th>\n",
       "      <td>mouse_tgg6fl23_19</td>\n",
       "      <td>19</td>\n",
       "      <td>m19</td>\n",
       "    </tr>\n",
       "    <tr>\n",
       "      <th>6</th>\n",
       "      <td>mouse_tgg6fl23_20</td>\n",
       "      <td>20</td>\n",
       "      <td>m20</td>\n",
       "    </tr>\n",
       "  </tbody>\n",
       "</table>\n",
       "</div>"
      ],
      "text/plain": [
       "            path_rel  mouseIdx mousename\n",
       "0  mouse_tgg6fl23_14        14       m14\n",
       "1  mouse_tgg6fl23_15        15       m15\n",
       "2  mouse_tgg6fl23_16        16       m16\n",
       "3  mouse_tgg6fl23_17        17       m17\n",
       "4  mouse_tgg6fl23_18        18       m18\n",
       "5  mouse_tgg6fl23_19        19       m19\n",
       "6  mouse_tgg6fl23_20        20       m20"
      ]
     },
     "execution_count": 17,
     "metadata": {},
     "output_type": "execute_result"
    }
   ],
   "source": [
    "dfMouse = prep.get_mice(pwd)\n",
    "dfMouse"
   ]
  },
  {
   "cell_type": "code",
   "execution_count": 18,
   "metadata": {
    "collapsed": true,
    "scrolled": true
   },
   "outputs": [],
   "source": [
    "dfSession = prep.get_sessions(pwd, dfMouse)"
   ]
  },
  {
   "cell_type": "code",
   "execution_count": 20,
   "metadata": {},
   "outputs": [],
   "source": [
    "dfSession = prep.drop_session(pwdH5, dfSession, 'm14_20170720_a')\n",
    "dfSession = prep.drop_session(pwdH5, dfSession, 'm18_20171026_a')"
   ]
  },
  {
   "cell_type": "code",
   "execution_count": 122,
   "metadata": {
    "scrolled": true
   },
   "outputs": [
    {
     "name": "stdout",
     "output_type": "stream",
     "text": [
      "m14_20170718_a\n",
      "-- ['FA', 'Go', 'Miss', 'No Go']\n",
      "m14_20170719_a\n",
      "-- ['FA', 'Go', 'Miss', 'No Go']\n",
      "m14_20170720_b\n",
      "-- ['FA', 'Go', 'Miss', 'No Go']\n",
      "m14_20170721_a\n",
      "-- ['FA', 'Go', 'Miss', 'No Go']\n",
      "m14_20170724_a\n",
      "-- ['FA', 'Go', 'No Go']\n",
      "m14_20170724_b\n",
      "-- ['FA', 'Go', 'Miss', 'No Go']\n",
      "m15_20170718_a\n",
      "-- ['FA', 'Go', 'Miss', 'No Go']\n",
      "m15_20170719_a\n",
      "-- ['FA', 'Go', 'Miss', 'No Go']\n",
      "m15_20170720_a\n",
      "-- ['FA', 'Go', 'Miss', 'No Go']\n",
      "m15_20170721_a\n",
      "-- ['FA', 'Go', 'Miss', 'No Go']\n",
      "m15_20170724_a\n",
      "-- ['FA', 'Go', 'Miss', 'No Go']\n",
      "m16_20170911_a\n",
      "-- ['FA', 'Go', 'Miss', 'No Go']\n",
      "m16_20170912_a\n",
      "-- ['FA', 'Go', 'Miss', 'No Go']\n",
      "m16_20170913_a\n",
      "-- ['FA', 'Go', 'Miss', 'No Go']\n",
      "m16_20170914_a\n",
      "-- ['FA', 'Go', 'Miss', 'No Go']\n",
      "m16_20170915_a\n",
      "-- ['FA', 'Go', 'No Go']\n",
      "m16_20170915_b\n",
      "-- ['Go', 'Miss', 'No Go']\n",
      "m16_20170915_c\n",
      "-- ['FA', 'Go', 'Miss', 'No Go']\n",
      "m16_20170915_d\n",
      "-- ['FA', 'Go', 'Miss', 'No Go']\n",
      "m17_20171010_a\n",
      "-- ['FA', 'Go', 'Miss', 'No Go']\n",
      "m17_20171011_a\n",
      "-- ['FA', 'Go', 'Miss', 'No Go']\n",
      "m17_20171012_a\n",
      "-- ['FA', 'Go', 'Miss', 'No Go']\n",
      "m17_20171013_a\n",
      "-- ['FA', 'Go', 'Miss', 'No Go']\n",
      "m17_20171016_a\n",
      "-- ['FA', 'Go', 'Miss', 'No Go']\n",
      "m17_20171017_a\n",
      "-- ['FA', 'Go', 'Miss', 'No Go']\n",
      "m17_20171018_a\n",
      "-- ['FA', 'Go', 'Miss', 'No Go']\n",
      "m17_20171019_a\n",
      "-- ['FA', 'Go', 'Miss', 'No Go']\n",
      "m17_20171020_a\n",
      "-- ['FA', 'Go', 'Miss', 'No Go']\n",
      "m17_20171023_a\n",
      "-- ['FA', 'Go', 'Miss', 'No Go']\n",
      "m17_20171024_a\n",
      "-- ['FA', 'Go', 'Miss', 'No Go']\n",
      "m17_20171025_a\n",
      "-- ['FA', 'Go', 'Miss', 'No Go']\n",
      "m18_20171023_a\n",
      "-- ['FA', 'Go', 'Miss', 'No Go']\n",
      "m18_20171024_a\n",
      "-- ['FA', 'Go', 'Miss', 'No Go']\n",
      "m18_20171025_b\n",
      "-- ['FA', 'Go', 'Miss', 'No Go']\n",
      "m18_20171026_b\n",
      "-- ['FA', 'Go', 'Miss', 'No Go']\n",
      "m18_20171027_a\n",
      "-- ['FA', 'Go', 'No Go']\n",
      "m19_20171108_a\n",
      "-- ['FA', 'Go', 'Miss']\n",
      "m19_20171109_a\n",
      "-- ['FA', 'Go', 'Miss', 'No Go']\n",
      "m19_20171113_a\n",
      "-- ['FA', 'Go', 'Miss', 'No Go']\n",
      "m19_20171114_a\n",
      "-- ['FA', 'Go', 'Miss', 'No Go']\n",
      "m19_20171115_a\n",
      "-- ['FA', 'Go', 'No Go']\n",
      "m19_20171115_b\n",
      "-- ['Go', 'No Go']\n",
      "m19_20171115_c\n",
      "-- ['FA', 'Go', 'No Go']\n",
      "m19_20171115_d\n",
      "-- ['FA', 'Go', 'No Go']\n",
      "m20_20171108_a\n",
      "-- ['FA', 'Go', 'Miss', 'No Go']\n",
      "m20_20171109_a\n",
      "-- ['FA', 'Go']\n",
      "m20_20171113_a\n",
      "-- ['FA', 'Go', 'Miss', 'No Go']\n",
      "m20_20171114_a\n",
      "-- ['FA', 'Go', 'Miss', 'No Go']\n",
      "m20_20171115_a\n",
      "-- ['FA', 'Go', 'Miss', 'No Go']\n"
     ]
    }
   ],
   "source": [
    "prep.get_metadata(pwdH5, pwd, dfSession, rewrite=True)"
   ]
  },
  {
   "cell_type": "code",
   "execution_count": 121,
   "metadata": {
    "scrolled": true
   },
   "outputs": [
    {
     "name": "stdout",
     "output_type": "stream",
     "text": [
      "m14_20170718_a\n",
      "m14_20170719_a\n",
      "m14_20170720_b\n",
      "m14_20170721_a\n",
      "m14_20170724_a\n",
      "m14_20170724_b\n",
      "m15_20170718_a\n",
      "m15_20170719_a\n",
      "m15_20170720_a\n",
      "m15_20170721_a\n",
      "m15_20170724_a\n",
      "m16_20170911_a\n",
      "m16_20170912_a\n",
      "m16_20170913_a\n",
      "m16_20170914_a\n",
      "m16_20170915_a\n",
      "m16_20170915_b\n",
      "m16_20170915_c\n",
      "m16_20170915_d\n",
      "m17_20171010_a\n",
      "m17_20171011_a\n",
      "m17_20171012_a\n",
      "m17_20171013_a\n",
      "m17_20171016_a\n",
      "m17_20171017_a\n",
      "m17_20171018_a\n",
      "m17_20171019_a\n",
      "m17_20171020_a\n",
      "m17_20171023_a\n",
      "m17_20171024_a\n",
      "m17_20171025_a\n",
      "m18_20171023_a\n",
      "m18_20171024_a\n",
      "m18_20171025_b\n",
      "m18_20171026_b\n",
      "m18_20171027_a\n",
      "m19_20171108_a\n",
      "m19_20171109_a\n",
      "m19_20171113_a\n",
      "m19_20171114_a\n",
      "m19_20171115_a\n",
      "m19_20171115_b\n",
      "m19_20171115_c\n",
      "m19_20171115_d\n",
      "m20_20171108_a\n",
      "m20_20171109_a\n",
      "m20_20171113_a\n",
      "m20_20171114_a\n",
      "m20_20171115_a\n"
     ]
    }
   ],
   "source": [
    "prep.validate_trials_ind_from_orig_videos(pwdH5, pwd, dfSession)"
   ]
  },
  {
   "cell_type": "code",
   "execution_count": 36,
   "metadata": {
    "scrolled": true
   },
   "outputs": [
    {
     "name": "stdout",
     "output_type": "stream",
     "text": [
      "Meta m14 {'Go': 1412, 'No Go': 938, 'Miss': 98, 'FA': 497}\n",
      "Reg m14 {'Go': 1191, 'No Go': 714, 'Miss': 73, 'FA': 482}\n",
      "Meta m15 {'Go': 1289, 'No Go': 821, 'Miss': 110, 'FA': 643}\n",
      "Reg m15 {'Go': 1289, 'No Go': 821, 'Miss': 110, 'FA': 643}\n",
      "Meta m16 {'Go': 1674, 'No Go': 1329, 'Miss': 143, 'FA': 322}\n",
      "Reg m16 {'Go': 1336, 'No Go': 1008, 'Miss': 140, 'FA': 284}\n",
      "Meta m17 {'Go': 1993, 'No Go': 1572, 'Miss': 549, 'FA': 1512}\n",
      "Reg m17 {'Go': 1993, 'No Go': 1572, 'Miss': 549, 'FA': 1512}\n",
      "Meta m18 {'Go': 1071, 'No Go': 626, 'Miss': 78, 'FA': 717}\n",
      "Reg m18 {'Go': 1071, 'No Go': 626, 'Miss': 78, 'FA': 717}\n",
      "Meta m19 {'Go': 1194, 'No Go': 540, 'Miss': 7, 'FA': 809}\n",
      "Reg m19 {'Go': 742, 'No Go': 443, 'Miss': 6, 'FA': 623}\n",
      "Meta m20 {'Go': 1026, 'No Go': 407, 'Miss': 15, 'FA': 809}\n",
      "Reg m20 {'Go': 1026, 'No Go': 407, 'Miss': 15, 'FA': 809}\n"
     ]
    }
   ],
   "source": [
    "prep.validate_trials_ind_from_reg_videos(pwdH5, pwd, dfSession)"
   ]
  },
  {
   "cell_type": "code",
   "execution_count": 6,
   "metadata": {},
   "outputs": [],
   "source": [
    "data = prep.read_videos(pwdH5, pwd, dfSession)"
   ]
  },
  {
   "cell_type": "code",
   "execution_count": 7,
   "metadata": {},
   "outputs": [
    {
     "data": {
      "image/png": "[encoded data removed]",
      "text/plain": [
       "<Figure size 432x288 with 1 Axes>"
      ]
     },
     "metadata": {
      "needs_background": "light"
     },
     "output_type": "display_data"
    }
   ],
   "source": [
    "plt.figure()\n",
    "plt.plot(np.mean(data, axis=(1,2)))\n",
    "plt.show()"
   ]
  },
  {
   "cell_type": "code",
   "execution_count": 8,
   "metadata": {},
   "outputs": [
    {
     "data": {
      "image/png": "[encoded data removed]",
      "text/plain": [
       "<Figure size 432x288 with 2 Axes>"
      ]
     },
     "metadata": {
      "needs_background": "light"
     },
     "output_type": "display_data"
    }
   ],
   "source": [
    "plt.figure()\n",
    "plt.imshow(np.mean(data, axis=0))\n",
    "plt.colorbar()\n",
    "plt.show()"
   ]
  },
  {
   "cell_type": "code",
   "execution_count": 9,
   "metadata": {
    "collapsed": true
   },
   "outputs": [],
   "source": [
    "import imageio;\n",
    "from IPython.display import Video;"
   ]
  },
  {
   "cell_type": "code",
   "execution_count": 10,
   "metadata": {
    "collapsed": true
   },
   "outputs": [],
   "source": [
    "dataMin = data.copy()\n",
    "dataMin /= np.mean(dataMin[:20], axis=0) - 1\n",
    "dataMin -= np.min(dataMin)\n",
    "dataMin /= np.max(dataMin)"
   ]
  },
  {
   "cell_type": "code",
   "execution_count": 13,
   "metadata": {
    "scrolled": true
   },
   "outputs": [
    {
     "name": "stderr",
     "output_type": "stream",
     "text": [
      "Lossy conversion from float64 to uint8. Range [0, 1]. Convert image to uint8 prior to saving to suppress this warning.\n",
      "Lossy conversion from float64 to uint8. Range [0, 1]. Convert image to uint8 prior to saving to suppress this warning.\n",
      "Lossy conversion from float64 to uint8. Range [0, 1]. Convert image to uint8 prior to saving to suppress this warning.\n",
      "Lossy conversion from float64 to uint8. Range [0, 1]. Convert image to uint8 prior to saving to suppress this warning.\n",
      "Lossy conversion from float64 to uint8. Range [0, 1]. Convert image to uint8 prior to saving to suppress this warning.\n",
      "Lossy conversion from float64 to uint8. Range [0, 1]. Convert image to uint8 prior to saving to suppress this warning.\n",
      "Lossy conversion from float64 to uint8. Range [0, 1]. Convert image to uint8 prior to saving to suppress this warning.\n",
      "Lossy conversion from float64 to uint8. Range [0, 1]. Convert image to uint8 prior to saving to suppress this warning.\n",
      "Lossy conversion from float64 to uint8. Range [0, 1]. Convert image to uint8 prior to saving to suppress this warning.\n",
      "Lossy conversion from float64 to uint8. Range [0, 1]. Convert image to uint8 prior to saving to suppress this warning.\n",
      "Lossy conversion from float64 to uint8. Range [0, 1]. Convert image to uint8 prior to saving to suppress this warning.\n",
      "Lossy conversion from float64 to uint8. Range [0, 1]. Convert image to uint8 prior to saving to suppress this warning.\n",
      "Lossy conversion from float64 to uint8. Range [0, 1]. Convert image to uint8 prior to saving to suppress this warning.\n",
      "Lossy conversion from float64 to uint8. Range [0, 1]. Convert image to uint8 prior to saving to suppress this warning.\n",
      "Lossy conversion from float64 to uint8. Range [0, 1]. Convert image to uint8 prior to saving to suppress this warning.\n",
      "Lossy conversion from float64 to uint8. Range [0, 1]. Convert image to uint8 prior to saving to suppress this warning.\n",
      "Lossy conversion from float64 to uint8. Range [0, 1]. Convert image to uint8 prior to saving to suppress this warning.\n",
      "Lossy conversion from float64 to uint8. Range [0, 1]. Convert image to uint8 prior to saving to suppress this warning.\n",
      "Lossy conversion from float64 to uint8. Range [0, 1]. Convert image to uint8 prior to saving to suppress this warning.\n",
      "Lossy conversion from float64 to uint8. Range [0, 1]. Convert image to uint8 prior to saving to suppress this warning.\n",
      "Lossy conversion from float64 to uint8. Range [0, 1]. Convert image to uint8 prior to saving to suppress this warning.\n",
      "Lossy conversion from float64 to uint8. Range [0, 1]. Convert image to uint8 prior to saving to suppress this warning.\n",
      "Lossy conversion from float64 to uint8. Range [0, 1]. Convert image to uint8 prior to saving to suppress this warning.\n",
      "Lossy conversion from float64 to uint8. Range [0, 1]. Convert image to uint8 prior to saving to suppress this warning.\n",
      "Lossy conversion from float64 to uint8. Range [0, 1]. Convert image to uint8 prior to saving to suppress this warning.\n",
      "Lossy conversion from float64 to uint8. Range [0, 1]. Convert image to uint8 prior to saving to suppress this warning.\n",
      "Lossy conversion from float64 to uint8. Range [0, 1]. Convert image to uint8 prior to saving to suppress this warning.\n",
      "Lossy conversion from float64 to uint8. Range [0, 1]. Convert image to uint8 prior to saving to suppress this warning.\n",
      "Lossy conversion from float64 to uint8. Range [0, 1]. Convert image to uint8 prior to saving to suppress this warning.\n",
      "Lossy conversion from float64 to uint8. Range [0, 1]. Convert image to uint8 prior to saving to suppress this warning.\n",
      "Lossy conversion from float64 to uint8. Range [0, 1]. Convert image to uint8 prior to saving to suppress this warning.\n",
      "Lossy conversion from float64 to uint8. Range [0, 1]. Convert image to uint8 prior to saving to suppress this warning.\n",
      "Lossy conversion from float64 to uint8. Range [0, 1]. Convert image to uint8 prior to saving to suppress this warning.\n",
      "Lossy conversion from float64 to uint8. Range [0, 1]. Convert image to uint8 prior to saving to suppress this warning.\n",
      "Lossy conversion from float64 to uint8. Range [0, 1]. Convert image to uint8 prior to saving to suppress this warning.\n",
      "Lossy conversion from float64 to uint8. Range [0, 1]. Convert image to uint8 prior to saving to suppress this warning.\n",
      "Lossy conversion from float64 to uint8. Range [0, 1]. Convert image to uint8 prior to saving to suppress this warning.\n",
      "Lossy conversion from float64 to uint8. Range [0, 1]. Convert image to uint8 prior to saving to suppress this warning.\n",
      "Lossy conversion from float64 to uint8. Range [0, 1]. Convert image to uint8 prior to saving to suppress this warning.\n",
      "Lossy conversion from float64 to uint8. Range [0, 1]. Convert image to uint8 prior to saving to suppress this warning.\n",
      "Lossy conversion from float64 to uint8. Range [0, 1]. Convert image to uint8 prior to saving to suppress this warning.\n",
      "Lossy conversion from float64 to uint8. Range [0, 1]. Convert image to uint8 prior to saving to suppress this warning.\n",
      "Lossy conversion from float64 to uint8. Range [0, 1]. Convert image to uint8 prior to saving to suppress this warning.\n",
      "Lossy conversion from float64 to uint8. Range [0, 1]. Convert image to uint8 prior to saving to suppress this warning.\n",
      "Lossy conversion from float64 to uint8. Range [0, 1]. Convert image to uint8 prior to saving to suppress this warning.\n",
      "Lossy conversion from float64 to uint8. Range [0, 1]. Convert image to uint8 prior to saving to suppress this warning.\n",
      "Lossy conversion from float64 to uint8. Range [0, 1]. Convert image to uint8 prior to saving to suppress this warning.\n",
      "Lossy conversion from float64 to uint8. Range [0, 1]. Convert image to uint8 prior to saving to suppress this warning.\n",
      "Lossy conversion from float64 to uint8. Range [0, 1]. Convert image to uint8 prior to saving to suppress this warning.\n",
      "Lossy conversion from float64 to uint8. Range [0, 1]. Convert image to uint8 prior to saving to suppress this warning.\n",
      "Lossy conversion from float64 to uint8. Range [0, 1]. Convert image to uint8 prior to saving to suppress this warning.\n",
      "Lossy conversion from float64 to uint8. Range [0, 1]. Convert image to uint8 prior to saving to suppress this warning.\n",
      "Lossy conversion from float64 to uint8. Range [0, 1]. Convert image to uint8 prior to saving to suppress this warning.\n",
      "Lossy conversion from float64 to uint8. Range [0, 1]. Convert image to uint8 prior to saving to suppress this warning.\n",
      "Lossy conversion from float64 to uint8. Range [0, 1]. Convert image to uint8 prior to saving to suppress this warning.\n",
      "Lossy conversion from float64 to uint8. Range [0, 1]. Convert image to uint8 prior to saving to suppress this warning.\n",
      "Lossy conversion from float64 to uint8. Range [0, 1]. Convert image to uint8 prior to saving to suppress this warning.\n",
      "Lossy conversion from float64 to uint8. Range [0, 1]. Convert image to uint8 prior to saving to suppress this warning.\n",
      "Lossy conversion from float64 to uint8. Range [0, 1]. Convert image to uint8 prior to saving to suppress this warning.\n",
      "Lossy conversion from float64 to uint8. Range [0, 1]. Convert image to uint8 prior to saving to suppress this warning.\n",
      "Lossy conversion from float64 to uint8. Range [0, 1]. Convert image to uint8 prior to saving to suppress this warning.\n",
      "Lossy conversion from float64 to uint8. Range [0, 1]. Convert image to uint8 prior to saving to suppress this warning.\n",
      "Lossy conversion from float64 to uint8. Range [0, 1]. Convert image to uint8 prior to saving to suppress this warning.\n",
      "Lossy conversion from float64 to uint8. Range [0, 1]. Convert image to uint8 prior to saving to suppress this warning.\n",
      "Lossy conversion from float64 to uint8. Range [0, 1]. Convert image to uint8 prior to saving to suppress this warning.\n",
      "Lossy conversion from float64 to uint8. Range [0, 1]. Convert image to uint8 prior to saving to suppress this warning.\n",
      "Lossy conversion from float64 to uint8. Range [0, 1]. Convert image to uint8 prior to saving to suppress this warning.\n",
      "Lossy conversion from float64 to uint8. Range [0, 1]. Convert image to uint8 prior to saving to suppress this warning.\n",
      "Lossy conversion from float64 to uint8. Range [0, 1]. Convert image to uint8 prior to saving to suppress this warning.\n"
     ]
    },
    {
     "name": "stderr",
     "output_type": "stream",
     "text": [
      "Lossy conversion from float64 to uint8. Range [0, 1]. Convert image to uint8 prior to saving to suppress this warning.\n",
      "Lossy conversion from float64 to uint8. Range [0, 1]. Convert image to uint8 prior to saving to suppress this warning.\n",
      "Lossy conversion from float64 to uint8. Range [0, 1]. Convert image to uint8 prior to saving to suppress this warning.\n",
      "Lossy conversion from float64 to uint8. Range [0, 1]. Convert image to uint8 prior to saving to suppress this warning.\n",
      "Lossy conversion from float64 to uint8. Range [0, 1]. Convert image to uint8 prior to saving to suppress this warning.\n",
      "Lossy conversion from float64 to uint8. Range [0, 1]. Convert image to uint8 prior to saving to suppress this warning.\n",
      "Lossy conversion from float64 to uint8. Range [0, 1]. Convert image to uint8 prior to saving to suppress this warning.\n",
      "Lossy conversion from float64 to uint8. Range [0, 1]. Convert image to uint8 prior to saving to suppress this warning.\n",
      "Lossy conversion from float64 to uint8. Range [0, 1]. Convert image to uint8 prior to saving to suppress this warning.\n",
      "Lossy conversion from float64 to uint8. Range [0, 1]. Convert image to uint8 prior to saving to suppress this warning.\n",
      "Lossy conversion from float64 to uint8. Range [0, 1]. Convert image to uint8 prior to saving to suppress this warning.\n",
      "Lossy conversion from float64 to uint8. Range [0, 1]. Convert image to uint8 prior to saving to suppress this warning.\n",
      "Lossy conversion from float64 to uint8. Range [0, 1]. Convert image to uint8 prior to saving to suppress this warning.\n",
      "Lossy conversion from float64 to uint8. Range [0, 1]. Convert image to uint8 prior to saving to suppress this warning.\n",
      "Lossy conversion from float64 to uint8. Range [0, 1]. Convert image to uint8 prior to saving to suppress this warning.\n",
      "Lossy conversion from float64 to uint8. Range [0, 1]. Convert image to uint8 prior to saving to suppress this warning.\n",
      "Lossy conversion from float64 to uint8. Range [0, 1]. Convert image to uint8 prior to saving to suppress this warning.\n",
      "Lossy conversion from float64 to uint8. Range [0, 1]. Convert image to uint8 prior to saving to suppress this warning.\n",
      "Lossy conversion from float64 to uint8. Range [0, 1]. Convert image to uint8 prior to saving to suppress this warning.\n",
      "Lossy conversion from float64 to uint8. Range [0, 1]. Convert image to uint8 prior to saving to suppress this warning.\n",
      "Lossy conversion from float64 to uint8. Range [0, 1]. Convert image to uint8 prior to saving to suppress this warning.\n",
      "Lossy conversion from float64 to uint8. Range [0, 1]. Convert image to uint8 prior to saving to suppress this warning.\n",
      "Lossy conversion from float64 to uint8. Range [0, 1]. Convert image to uint8 prior to saving to suppress this warning.\n",
      "Lossy conversion from float64 to uint8. Range [0, 1]. Convert image to uint8 prior to saving to suppress this warning.\n",
      "Lossy conversion from float64 to uint8. Range [0, 1]. Convert image to uint8 prior to saving to suppress this warning.\n",
      "Lossy conversion from float64 to uint8. Range [0, 1]. Convert image to uint8 prior to saving to suppress this warning.\n",
      "Lossy conversion from float64 to uint8. Range [0, 1]. Convert image to uint8 prior to saving to suppress this warning.\n",
      "Lossy conversion from float64 to uint8. Range [0, 1]. Convert image to uint8 prior to saving to suppress this warning.\n",
      "Lossy conversion from float64 to uint8. Range [0, 1]. Convert image to uint8 prior to saving to suppress this warning.\n",
      "Lossy conversion from float64 to uint8. Range [0, 1]. Convert image to uint8 prior to saving to suppress this warning.\n",
      "Lossy conversion from float64 to uint8. Range [0, 1]. Convert image to uint8 prior to saving to suppress this warning.\n",
      "Lossy conversion from float64 to uint8. Range [0, 1]. Convert image to uint8 prior to saving to suppress this warning.\n",
      "Lossy conversion from float64 to uint8. Range [0, 1]. Convert image to uint8 prior to saving to suppress this warning.\n",
      "Lossy conversion from float64 to uint8. Range [0, 1]. Convert image to uint8 prior to saving to suppress this warning.\n",
      "Lossy conversion from float64 to uint8. Range [0, 1]. Convert image to uint8 prior to saving to suppress this warning.\n",
      "Lossy conversion from float64 to uint8. Range [0, 1]. Convert image to uint8 prior to saving to suppress this warning.\n",
      "Lossy conversion from float64 to uint8. Range [0, 1]. Convert image to uint8 prior to saving to suppress this warning.\n",
      "Lossy conversion from float64 to uint8. Range [0, 1]. Convert image to uint8 prior to saving to suppress this warning.\n",
      "Lossy conversion from float64 to uint8. Range [0, 1]. Convert image to uint8 prior to saving to suppress this warning.\n",
      "Lossy conversion from float64 to uint8. Range [0, 1]. Convert image to uint8 prior to saving to suppress this warning.\n",
      "Lossy conversion from float64 to uint8. Range [0, 1]. Convert image to uint8 prior to saving to suppress this warning.\n",
      "Lossy conversion from float64 to uint8. Range [0, 1]. Convert image to uint8 prior to saving to suppress this warning.\n",
      "Lossy conversion from float64 to uint8. Range [0, 1]. Convert image to uint8 prior to saving to suppress this warning.\n",
      "Lossy conversion from float64 to uint8. Range [0, 1]. Convert image to uint8 prior to saving to suppress this warning.\n",
      "Lossy conversion from float64 to uint8. Range [0, 1]. Convert image to uint8 prior to saving to suppress this warning.\n",
      "Lossy conversion from float64 to uint8. Range [0, 1]. Convert image to uint8 prior to saving to suppress this warning.\n",
      "Lossy conversion from float64 to uint8. Range [0, 1]. Convert image to uint8 prior to saving to suppress this warning.\n",
      "Lossy conversion from float64 to uint8. Range [0, 1]. Convert image to uint8 prior to saving to suppress this warning.\n",
      "Lossy conversion from float64 to uint8. Range [0, 1]. Convert image to uint8 prior to saving to suppress this warning.\n",
      "Lossy conversion from float64 to uint8. Range [0, 1]. Convert image to uint8 prior to saving to suppress this warning.\n",
      "Lossy conversion from float64 to uint8. Range [0, 1]. Convert image to uint8 prior to saving to suppress this warning.\n",
      "Lossy conversion from float64 to uint8. Range [0, 1]. Convert image to uint8 prior to saving to suppress this warning.\n",
      "Lossy conversion from float64 to uint8. Range [0, 1]. Convert image to uint8 prior to saving to suppress this warning.\n",
      "Lossy conversion from float64 to uint8. Range [0, 1]. Convert image to uint8 prior to saving to suppress this warning.\n",
      "Lossy conversion from float64 to uint8. Range [0, 1]. Convert image to uint8 prior to saving to suppress this warning.\n",
      "Lossy conversion from float64 to uint8. Range [0, 1]. Convert image to uint8 prior to saving to suppress this warning.\n",
      "Lossy conversion from float64 to uint8. Range [0, 1]. Convert image to uint8 prior to saving to suppress this warning.\n",
      "Lossy conversion from float64 to uint8. Range [0, 1]. Convert image to uint8 prior to saving to suppress this warning.\n",
      "Lossy conversion from float64 to uint8. Range [0, 1]. Convert image to uint8 prior to saving to suppress this warning.\n",
      "Lossy conversion from float64 to uint8. Range [0, 1]. Convert image to uint8 prior to saving to suppress this warning.\n",
      "Lossy conversion from float64 to uint8. Range [0, 1]. Convert image to uint8 prior to saving to suppress this warning.\n",
      "Lossy conversion from float64 to uint8. Range [0, 1]. Convert image to uint8 prior to saving to suppress this warning.\n",
      "Lossy conversion from float64 to uint8. Range [0, 1]. Convert image to uint8 prior to saving to suppress this warning.\n",
      "Lossy conversion from float64 to uint8. Range [0, 1]. Convert image to uint8 prior to saving to suppress this warning.\n",
      "Lossy conversion from float64 to uint8. Range [0, 1]. Convert image to uint8 prior to saving to suppress this warning.\n",
      "Lossy conversion from float64 to uint8. Range [0, 1]. Convert image to uint8 prior to saving to suppress this warning.\n",
      "Lossy conversion from float64 to uint8. Range [0, 1]. Convert image to uint8 prior to saving to suppress this warning.\n",
      "Lossy conversion from float64 to uint8. Range [0, 1]. Convert image to uint8 prior to saving to suppress this warning.\n",
      "Lossy conversion from float64 to uint8. Range [0, 1]. Convert image to uint8 prior to saving to suppress this warning.\n"
     ]
    },
    {
     "name": "stderr",
     "output_type": "stream",
     "text": [
      "Lossy conversion from float64 to uint8. Range [0, 1]. Convert image to uint8 prior to saving to suppress this warning.\n",
      "Lossy conversion from float64 to uint8. Range [0, 1]. Convert image to uint8 prior to saving to suppress this warning.\n"
     ]
    }
   ],
   "source": [
    "imageio.mimwrite('test3.mp4', dataMin, fps=20)"
   ]
  },
  {
   "cell_type": "code",
   "execution_count": 14,
   "metadata": {},
   "outputs": [
    {
     "data": {
      "text/html": [
       "<video src=\"test3.mp4\" controls  >\n",
       "      Your browser does not support the <code>video</code> element.\n",
       "    </video>"
      ],
      "text/plain": [
       "<IPython.core.display.Video object>"
      ]
     },
     "execution_count": 14,
     "metadata": {},
     "output_type": "execute_result"
    }
   ],
   "source": [
    "Video('test3.mp4')"
   ]
  },
  {
   "cell_type": "code",
   "execution_count": 38,
   "metadata": {
    "collapsed": true
   },
   "outputs": [],
   "source": [
    "from mesostat.utils.matlab_helper import loadmat"
   ]
  },
  {
   "cell_type": "code",
   "execution_count": 42,
   "metadata": {},
   "outputs": [],
   "source": [
    "# pwdROIs = os.path.join(pwd, 'mouse_tgg6fl23_14/20170720/b/Matt_files/time_course_per_roi.mat')\n",
    "# pwdROIs = os.path.join(pwd, 'mouse_tgg6fl23_14/20170720/b/Matt_files/trials_ind.mat')\n",
    "# pwdROIs = os.path.join(pwd, 'mouse_tgg6fl23_14/rois_for_Lucas_m14.mat')\n",
    "pwdROIs = os.path.join(pwd, 'mouse_tgg6fl23_15/Registered_data_ALLEN/rois_OCIA.mat')\n",
    "\n",
    "m = loadmat(pwdROIs)"
   ]
  },
  {
   "cell_type": "code",
   "execution_count": 43,
   "metadata": {
    "scrolled": true
   },
   "outputs": [
    {
     "data": {
      "text/plain": [
       "dict_keys(['roi_A1', 'roi_ALM', 'roi_AudD', 'roi_M1', 'roi_M2', 'roi_Rspang', 'roi_Rspd', 'roi_S1BC', 'roi_S1FL', 'roi_S1HL', 'roi_S2', 'roi_V1', 'roi_Va', 'roi_Val', 'roi_Vam', 'roi_Vl', 'roi_Vli', 'roi_Vpl', 'roi_Vpm', 'roi_Vpor', 'roi_Vrl', 'roi_mouth', 'roi_nose', 'roi_tea', 'roi_trunk'])"
      ]
     },
     "execution_count": 43,
     "metadata": {},
     "output_type": "execute_result"
    }
   ],
   "source": [
    "m.keys()"
   ]
  },
  {
   "cell_type": "code",
   "execution_count": 77,
   "metadata": {
    "scrolled": true
   },
   "outputs": [],
   "source": [
    "# TODO: Delete overlapping pixels from both\n",
    "# TODO: Ask Ariel if EC, PPC are useful, why they overlap\n",
    "def get_allen_map(pwd, dropChannels=None, xVid=256, yVid=256):\n",
    "    labelsDict = {}\n",
    "    roiMapDict = {}\n",
    "\n",
    "    miceIdxs = list(range(14, 21))\n",
    "    for mouseIdx in miceIdxs:\n",
    "        pwdROIs = os.path.join(pwd, 'mouse_tgg6fl23_'+str(mouseIdx)+'/Registered_data_ALLEN/rois_OCIA.mat')\n",
    "        m = loadmat(pwdROIs)\n",
    "        m = {k.split('_')[1] : v for k, v in m.items()}\n",
    "        \n",
    "        if dropChannels is not None:\n",
    "            labelsDict[mouseIdx] = [k for k in m.keys() if k not in dropChannels]\n",
    "        else:\n",
    "            labelsDict[mouseIdx] = list(m.keys())\n",
    "\n",
    "        roiMap = np.zeros((xVid, yVid))\n",
    "        for iLabel, label in enumerate(labelsDict[mouseIdx]):\n",
    "            idxs = m[label]\n",
    "            x = idxs // yVid\n",
    "            y = idxs % yVid\n",
    "\n",
    "            roiMap[x, y] = iLabel + 1\n",
    "\n",
    "            for label2 in labelsDict[mouseIdx]:\n",
    "                if label != label2:\n",
    "                    n = len(set.intersection(set(list(idxs)), set(list(m[label2]))))\n",
    "                    if n != 0:\n",
    "                        print(mouseIdx, label, label2, n, ':', len(idxs), len(m[label2]))\n",
    "\n",
    "        roiMapDict[mouseIdx] = roiMap\n",
    "    \n",
    "    return labelsDict, roiMapDict"
   ]
  },
  {
   "cell_type": "code",
   "execution_count": 78,
   "metadata": {},
   "outputs": [
    {
     "name": "stdout",
     "output_type": "stream",
     "text": [
      "19 A1 AudD 1 : 349 213\n",
      "19 AudD A1 1 : 213 349\n",
      "19 Rspang Vam 9 : 1301 222\n",
      "19 Rspang trunk 2 : 1301 478\n",
      "19 Vam Rspang 9 : 222 1301\n",
      "19 Vli Vpor 1 : 199 252\n",
      "19 Vpor Vli 1 : 252 199\n",
      "19 trunk Rspang 2 : 478 1301\n"
     ]
    }
   ],
   "source": [
    "labelsDict, roiMapDict = get_allen_map(pwd, dropChannels=['EC', 'PPC'], xVid=256, yVid=256)"
   ]
  },
  {
   "cell_type": "code",
   "execution_count": 90,
   "metadata": {},
   "outputs": [],
   "source": [
    "def plot_allen_consistency_bymouse(labelsDict):\n",
    "    miceIdxs = list(range(14, 21))\n",
    "    consistencyCheck = [labelsDict[miceIdxs[0]] == labelsDict[mouseIdx] for mouseIdx in miceIdxs]\n",
    "    \n",
    "    if np.all(consistencyCheck):\n",
    "        print('All mice have identical labels')\n",
    "        print(labelsDict[miceIdxs[0]])\n",
    "    else:\n",
    "        roisAll = sorted(list(set().union(*labelsDict.values())))\n",
    "        hasMat = np.zeros((len(roisAll), len(miceIdxs)))\n",
    "        for iMouse, (mouseIdx, rois) in enumerate(labelsDict.items()):\n",
    "            for iRoi, roi in enumerate(roisAll):\n",
    "                if roi in rois:\n",
    "                    hasMat[iRoi, iMouse] = 1\n",
    "\n",
    "        fig, ax = plt.subplots(figsize=(3, 5))\n",
    "        ax.imshow(hasMat, vmin=0, vmax=1)\n",
    "        ax.set_xticks(np.arange(len(miceIdxs)))\n",
    "        ax.set_yticks(np.arange(len(roisAll)))\n",
    "        ax.set_xticklabels(miceIdxs)\n",
    "        ax.set_yticklabels(roisAll)\n",
    "        plt.show()"
   ]
  },
  {
   "cell_type": "code",
   "execution_count": 91,
   "metadata": {},
   "outputs": [
    {
     "name": "stdout",
     "output_type": "stream",
     "text": [
      "All mice have identical labels\n",
      "['A1', 'ALM', 'AudD', 'M1', 'M2', 'Rspang', 'Rspd', 'S1BC', 'S1FL', 'S1HL', 'S2', 'V1', 'Va', 'Val', 'Vam', 'Vl', 'Vli', 'Vpl', 'Vpm', 'Vpor', 'Vrl', 'mouth', 'nose', 'tea', 'trunk']\n"
     ]
    }
   ],
   "source": [
    "plot_allen_consistency_bymouse(labelsDict)"
   ]
  },
  {
   "cell_type": "code",
   "execution_count": null,
   "metadata": {
    "collapsed": true
   },
   "outputs": [],
   "source": []
  }
 ],
 "metadata": {
  "kernelspec": {
   "display_name": "Py3QT5",
   "language": "python",
   "name": "py3qt5"
  },
  "language_info": {
   "codemirror_mode": {
    "name": "ipython",
    "version": 3
   },
   "file_extension": ".py",
   "mimetype": "text/x-python",
   "name": "python",
   "nbconvert_exporter": "python",
   "pygments_lexer": "ipython3",
   "version": "3.8.5"
  }
 },
 "nbformat": 4,
 "nbformat_minor": 2
}
